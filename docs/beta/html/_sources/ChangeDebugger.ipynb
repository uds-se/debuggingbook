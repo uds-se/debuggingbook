{
 "cells": [
  {
   "cell_type": "markdown",
   "metadata": {
    "button": false,
    "new_sheet": false,
    "run_control": {
     "read_only": false
    },
    "slideshow": {
     "slide_type": "slide"
    }
   },
   "source": [
    "# Isolating Failure-Inducing Changes\n",
    "\n",
    "\"Yesterday, my program worked. Today, it does not. Why?\" In debugging, as elsewhere in software development, code keeps on changing. Thus, it can happen that a piece of code that yesterday was working perfectly, today no longer runs – because we (or others) have made some changes to it that cause it to fail. The good news is that for debugging, we can actually _exploit_ this version history to narrow down _the changes that caused the failure_ – be it by us or by others."
   ]
  },
  {
   "cell_type": "code",
   "execution_count": 1,
   "metadata": {
    "execution": {
     "iopub.execute_input": "2025-10-26T17:47:49.327405Z",
     "iopub.status.busy": "2025-10-26T17:47:49.326837Z",
     "iopub.status.idle": "2025-10-26T17:47:50.045588Z",
     "shell.execute_reply": "2025-10-26T17:47:50.045257Z"
    },
    "slideshow": {
     "slide_type": "skip"
    }
   },
   "outputs": [
    {
     "data": {
      "text/html": [
       "\n",
       "        <iframe\n",
       "            width=\"640\"\n",
       "            height=\"360\"\n",
       "            src=\"https://www.youtube-nocookie.com/embed/hX9ViNEXGL8\"\n",
       "            frameborder=\"0\"\n",
       "            allowfullscreen\n",
       "            \n",
       "        ></iframe>\n",
       "        "
      ],
      "text/plain": [
       "<IPython.lib.display.IFrame at 0x10d9c2f90>"
      ]
     },
     "execution_count": 1,
     "metadata": {},
     "output_type": "execute_result"
    }
   ],
   "source": [
    "from bookutils import YouTubeVideo\n",
    "YouTubeVideo(\"hX9ViNEXGL8\")"
   ]
  },
  {
   "cell_type": "markdown",
   "metadata": {
    "button": false,
    "new_sheet": false,
    "run_control": {
     "read_only": false
    },
    "slideshow": {
     "slide_type": "subslide"
    }
   },
   "source": [
    "**Prerequisites**\n",
    "\n",
    "* You should have read the [Chapter on Delta Debugging](DeltaDebugger.ipynb).\n",
    "* Knowledge on version control systems (notably git) will be useful."
   ]
  },
  {
   "cell_type": "code",
   "execution_count": 2,
   "metadata": {
    "button": false,
    "execution": {
     "iopub.execute_input": "2025-10-26T17:47:50.066342Z",
     "iopub.status.busy": "2025-10-26T17:47:50.066187Z",
     "iopub.status.idle": "2025-10-26T17:47:50.068335Z",
     "shell.execute_reply": "2025-10-26T17:47:50.067985Z"
    },
    "new_sheet": false,
    "run_control": {
     "read_only": false
    },
    "slideshow": {
     "slide_type": "skip"
    }
   },
   "outputs": [],
   "source": [
    "import bookutils.setup"
   ]
  },
  {
   "cell_type": "code",
   "execution_count": 3,
   "metadata": {
    "execution": {
     "iopub.execute_input": "2025-10-26T17:47:50.069953Z",
     "iopub.status.busy": "2025-10-26T17:47:50.069801Z",
     "iopub.status.idle": "2025-10-26T17:47:50.071520Z",
     "shell.execute_reply": "2025-10-26T17:47:50.071264Z"
    },
    "slideshow": {
     "slide_type": "skip"
    }
   },
   "outputs": [],
   "source": [
    "from bookutils import quiz, print_file, print_content"
   ]
  },
  {
   "cell_type": "code",
   "execution_count": 4,
   "metadata": {
    "execution": {
     "iopub.execute_input": "2025-10-26T17:47:50.072857Z",
     "iopub.status.busy": "2025-10-26T17:47:50.072767Z",
     "iopub.status.idle": "2025-10-26T17:47:50.074365Z",
     "shell.execute_reply": "2025-10-26T17:47:50.074139Z"
    },
    "slideshow": {
     "slide_type": "fragment"
    },
    "tags": [
     "remove-input"
    ]
   },
   "outputs": [],
   "source": [
    "# ignore\n",
    "from typing import Dict, Callable, TextIO, List, Tuple, Set, Any, Type, Optional"
   ]
  },
  {
   "cell_type": "markdown",
   "metadata": {
    "slideshow": {
     "slide_type": "slide"
    }
   },
   "source": [
    "## Synopsis\n",
    "To [use the code provided in this chapter](Importing.ipynb), write\n",
    "\n",
    "```python\n",
    ">>> from debuggingbook.ChangeDebugger import <identifier>\n",
    "```\n",
    "\n",
    "and then make use of the following features.\n",
    "\n",
    "**Note**: The examples in this section only work after the rest of the cells have been executed.\n"
   ]
  },
  {
   "cell_type": "markdown",
   "metadata": {
    "slideshow": {
     "slide_type": "fragment"
    }
   },
   "source": [
    "This chapter introduces a class `ChangeDebugger` that automatically determines failure-inducing code changes."
   ]
  },
  {
   "cell_type": "markdown",
   "metadata": {
    "slideshow": {
     "slide_type": "subslide"
    }
   },
   "source": [
    "### High-Level Interface\n",
    "\n",
    "You are given two Python source codes `source_pass` and `source_fail`, and a function `test()` that works using the definitions in `source_pass`, but raises an exception using the definitions in `source_fail`. Then, you can use `ChangeDebugger` as follows:\n",
    "\n",
    "```python\n",
    "with ChangeDebugger(source_pass, source_fail) as cd:\n",
    "    test()\n",
    "cd\n",
    "```\n",
    "\n",
    "This will produce the failure-inducing change between `source_pass` and `source_fail`, using [Delta Debugging](DeltaDebugger.ipynb) to determine minimal differences in patches applied."
   ]
  },
  {
   "cell_type": "code",
   "execution_count": 155,
   "metadata": {
    "execution": {
     "iopub.execute_input": "2025-10-26T17:47:58.432458Z",
     "iopub.status.busy": "2025-10-26T17:47:58.432345Z",
     "iopub.status.idle": "2025-10-26T17:47:58.433948Z",
     "shell.execute_reply": "2025-10-26T17:47:58.433689Z"
    },
    "slideshow": {
     "slide_type": "subslide"
    },
    "tags": [
     "remove-input"
    ]
   },
   "outputs": [],
   "source": [
    "# ignore\n",
    "source_pass = version_1\n",
    "source_fail = version_2"
   ]
  },
  {
   "cell_type": "markdown",
   "metadata": {
    "slideshow": {
     "slide_type": "fragment"
    }
   },
   "source": [
    "Here is an example. The function `test()` passes (raises no exception) if `remove_html_markup()` is defined as follows:"
   ]
  },
  {
   "cell_type": "code",
   "execution_count": 156,
   "metadata": {
    "execution": {
     "iopub.execute_input": "2025-10-26T17:47:58.435514Z",
     "iopub.status.busy": "2025-10-26T17:47:58.435421Z",
     "iopub.status.idle": "2025-10-26T17:47:58.449480Z",
     "shell.execute_reply": "2025-10-26T17:47:58.449237Z"
    },
    "slideshow": {
     "slide_type": "subslide"
    }
   },
   "outputs": [
    {
     "name": "stdout",
     "output_type": "stream",
     "text": [
      "\u001b[34mdef\u001b[39;49;00m\u001b[37m \u001b[39;49;00m\u001b[32mremove_html_markup\u001b[39;49;00m(s):  \u001b[37m# type: ignore\u001b[39;49;00m\u001b[37m\u001b[39;49;00m\n",
      "    tag = \u001b[34mFalse\u001b[39;49;00m\u001b[37m\u001b[39;49;00m\n",
      "    out = \u001b[33m\"\u001b[39;49;00m\u001b[33m\"\u001b[39;49;00m\u001b[37m\u001b[39;49;00m\n",
      "\u001b[37m\u001b[39;49;00m\n",
      "    \u001b[34mfor\u001b[39;49;00m c \u001b[35min\u001b[39;49;00m s:\u001b[37m\u001b[39;49;00m\n",
      "        \u001b[34mif\u001b[39;49;00m c == \u001b[33m'\u001b[39;49;00m\u001b[33m<\u001b[39;49;00m\u001b[33m'\u001b[39;49;00m:    \u001b[37m# start of markup\u001b[39;49;00m\u001b[37m\u001b[39;49;00m\n",
      "            tag = \u001b[34mTrue\u001b[39;49;00m\u001b[37m\u001b[39;49;00m\n",
      "        \u001b[34melif\u001b[39;49;00m c == \u001b[33m'\u001b[39;49;00m\u001b[33m>\u001b[39;49;00m\u001b[33m'\u001b[39;49;00m:  \u001b[37m# end of markup\u001b[39;49;00m\u001b[37m\u001b[39;49;00m\n",
      "            tag = \u001b[34mFalse\u001b[39;49;00m\u001b[37m\u001b[39;49;00m\n",
      "        \u001b[34melif\u001b[39;49;00m \u001b[35mnot\u001b[39;49;00m tag:\u001b[37m\u001b[39;49;00m\n",
      "            out = out + c\u001b[37m\u001b[39;49;00m\n",
      "\u001b[37m\u001b[39;49;00m\n",
      "    \u001b[34mreturn\u001b[39;49;00m out\u001b[37m\u001b[39;49;00m"
     ]
    }
   ],
   "source": [
    "print_content(source_pass, '.py')"
   ]
  },
  {
   "cell_type": "code",
   "execution_count": 157,
   "metadata": {
    "execution": {
     "iopub.execute_input": "2025-10-26T17:47:58.450737Z",
     "iopub.status.busy": "2025-10-26T17:47:58.450643Z",
     "iopub.status.idle": "2025-10-26T17:47:58.452327Z",
     "shell.execute_reply": "2025-10-26T17:47:58.452109Z"
    },
    "slideshow": {
     "slide_type": "subslide"
    }
   },
   "outputs": [],
   "source": [
    "def test() -> None:\n",
    "    assert remove_html_markup('\"foo\"') == '\"foo\"'"
   ]
  },
  {
   "cell_type": "code",
   "execution_count": 158,
   "metadata": {
    "execution": {
     "iopub.execute_input": "2025-10-26T17:47:58.453631Z",
     "iopub.status.busy": "2025-10-26T17:47:58.453557Z",
     "iopub.status.idle": "2025-10-26T17:47:58.455029Z",
     "shell.execute_reply": "2025-10-26T17:47:58.454807Z"
    },
    "slideshow": {
     "slide_type": "fragment"
    }
   },
   "outputs": [],
   "source": [
    "exec(source_pass)\n",
    "test()"
   ]
  },
  {
   "cell_type": "markdown",
   "metadata": {
    "slideshow": {
     "slide_type": "fragment"
    }
   },
   "source": [
    "If `remove_html_markup()` is changed as follows, though, then\n",
    "`test()` raises an exception and fails:"
   ]
  },
  {
   "cell_type": "code",
   "execution_count": 159,
   "metadata": {
    "execution": {
     "iopub.execute_input": "2025-10-26T17:47:58.456379Z",
     "iopub.status.busy": "2025-10-26T17:47:58.456289Z",
     "iopub.status.idle": "2025-10-26T17:47:58.470219Z",
     "shell.execute_reply": "2025-10-26T17:47:58.469871Z"
    },
    "slideshow": {
     "slide_type": "subslide"
    }
   },
   "outputs": [
    {
     "name": "stdout",
     "output_type": "stream",
     "text": [
      "\u001b[34mdef\u001b[39;49;00m\u001b[37m \u001b[39;49;00m\u001b[32mremove_html_markup\u001b[39;49;00m(s):  \u001b[37m# type: ignore\u001b[39;49;00m\u001b[37m\u001b[39;49;00m\n",
      "    tag = \u001b[34mFalse\u001b[39;49;00m\u001b[37m\u001b[39;49;00m\n",
      "    quote = \u001b[34mFalse\u001b[39;49;00m\u001b[37m\u001b[39;49;00m\n",
      "    out = \u001b[33m\"\u001b[39;49;00m\u001b[33m\"\u001b[39;49;00m\u001b[37m\u001b[39;49;00m\n",
      "\u001b[37m\u001b[39;49;00m\n",
      "    \u001b[34mfor\u001b[39;49;00m c \u001b[35min\u001b[39;49;00m s:\u001b[37m\u001b[39;49;00m\n",
      "        \u001b[34mif\u001b[39;49;00m c == \u001b[33m'\u001b[39;49;00m\u001b[33m<\u001b[39;49;00m\u001b[33m'\u001b[39;49;00m \u001b[35mand\u001b[39;49;00m \u001b[35mnot\u001b[39;49;00m quote:\u001b[37m\u001b[39;49;00m\n",
      "            tag = \u001b[34mTrue\u001b[39;49;00m\u001b[37m\u001b[39;49;00m\n",
      "        \u001b[34melif\u001b[39;49;00m c == \u001b[33m'\u001b[39;49;00m\u001b[33m>\u001b[39;49;00m\u001b[33m'\u001b[39;49;00m \u001b[35mand\u001b[39;49;00m \u001b[35mnot\u001b[39;49;00m quote:\u001b[37m\u001b[39;49;00m\n",
      "            tag = \u001b[34mFalse\u001b[39;49;00m\u001b[37m\u001b[39;49;00m\n",
      "        \u001b[34melif\u001b[39;49;00m c == \u001b[33m'\u001b[39;49;00m\u001b[33m\"\u001b[39;49;00m\u001b[33m'\u001b[39;49;00m \u001b[35mor\u001b[39;49;00m c == \u001b[33m\"\u001b[39;49;00m\u001b[33m'\u001b[39;49;00m\u001b[33m\"\u001b[39;49;00m \u001b[35mand\u001b[39;49;00m tag:\u001b[37m\u001b[39;49;00m\n",
      "            quote = \u001b[35mnot\u001b[39;49;00m quote\u001b[37m\u001b[39;49;00m\n",
      "        \u001b[34melif\u001b[39;49;00m \u001b[35mnot\u001b[39;49;00m tag:\u001b[37m\u001b[39;49;00m\n",
      "            out = out + c\u001b[37m\u001b[39;49;00m\n",
      "\u001b[37m\u001b[39;49;00m\n",
      "    \u001b[34mreturn\u001b[39;49;00m out\u001b[37m\u001b[39;49;00m"
     ]
    }
   ],
   "source": [
    "print_content(source_fail, '.py')"
   ]
  },
  {
   "cell_type": "code",
   "execution_count": 160,
   "metadata": {
    "execution": {
     "iopub.execute_input": "2025-10-26T17:47:58.471729Z",
     "iopub.status.busy": "2025-10-26T17:47:58.471607Z",
     "iopub.status.idle": "2025-10-26T17:47:58.473931Z",
     "shell.execute_reply": "2025-10-26T17:47:58.473678Z"
    },
    "slideshow": {
     "slide_type": "subslide"
    }
   },
   "outputs": [
    {
     "name": "stderr",
     "output_type": "stream",
     "text": [
      "Traceback (most recent call last):\n",
      "  File \"/var/folders/n2/xd9445p97rb3xh7m1dfx8_4h0006ts/T/ipykernel_51678/4262003862.py\", line 3, in <module>\n",
      "    test()\n",
      "    ~~~~^^\n",
      "  File \"/var/folders/n2/xd9445p97rb3xh7m1dfx8_4h0006ts/T/ipykernel_51678/3045937450.py\", line 2, in test\n",
      "    assert remove_html_markup('\"foo\"') == '\"foo\"'\n",
      "           ^^^^^^^^^^^^^^^^^^^^^^^^^^^^^^^^^^^^^^\n",
      "AssertionError (expected)\n"
     ]
    }
   ],
   "source": [
    "exec(source_fail)\n",
    "with ExpectError(AssertionError):\n",
    "    test()"
   ]
  },
  {
   "cell_type": "markdown",
   "metadata": {
    "slideshow": {
     "slide_type": "fragment"
    }
   },
   "source": [
    "We can use `ChangeDebugger` to automatically identify the failure-inducing difference:"
   ]
  },
  {
   "cell_type": "code",
   "execution_count": 161,
   "metadata": {
    "execution": {
     "iopub.execute_input": "2025-10-26T17:47:58.475318Z",
     "iopub.status.busy": "2025-10-26T17:47:58.475205Z",
     "iopub.status.idle": "2025-10-26T17:47:58.480061Z",
     "shell.execute_reply": "2025-10-26T17:47:58.479677Z"
    },
    "slideshow": {
     "slide_type": "subslide"
    }
   },
   "outputs": [
    {
     "data": {
      "text/plain": [
       "@@ -215,24 +215,97 @@\n",
       " tag = False\n",
       "\n",
       "+        elif c == '\"' or c == \"'\" and tag:\n",
       "            quote = not quote\n",
       "\n",
       "         elif"
      ]
     },
     "execution_count": 161,
     "metadata": {},
     "output_type": "execute_result"
    }
   ],
   "source": [
    "with ChangeDebugger(source_pass, source_fail) as cd:\n",
    "    test()\n",
    "cd"
   ]
  },
  {
   "cell_type": "markdown",
   "metadata": {
    "slideshow": {
     "slide_type": "fragment"
    }
   },
   "source": [
    "The lines prefixed with `+` from are the ones in `source_fail` that cause the failure when added. (They also are the ones that should be fixed.)"
   ]
  },
  {
   "cell_type": "markdown",
   "metadata": {
    "slideshow": {
     "slide_type": "subslide"
    }
   },
   "source": [
    "### Programmatic Interface\n",
    "\n",
    "For more details or more automation, use the programmatic interface. The method `min_patches()` returns a triple (`pass_patches`, `fail_patches`, `diffs`) where\n",
    "\n",
    "* applying `pass_patches` still make the call pass\n",
    "* applying `fail_patches` causes the call to fail\n",
    "* `diffs` is the (minimal) difference between the two.\n",
    "\n",
    "The patches come as list of `patch_obj` objects, as defined by Google's [diff-match-patch library](https://github.com/google/diff-match-patch)."
   ]
  },
  {
   "cell_type": "code",
   "execution_count": 162,
   "metadata": {
    "execution": {
     "iopub.execute_input": "2025-10-26T17:47:58.481804Z",
     "iopub.status.busy": "2025-10-26T17:47:58.481698Z",
     "iopub.status.idle": "2025-10-26T17:47:58.484773Z",
     "shell.execute_reply": "2025-10-26T17:47:58.484482Z"
    },
    "slideshow": {
     "slide_type": "subslide"
    }
   },
   "outputs": [],
   "source": [
    "pass_patches, fail_patches, diffs = cd.min_patches()"
   ]
  },
  {
   "cell_type": "markdown",
   "metadata": {
    "slideshow": {
     "slide_type": "fragment"
    }
   },
   "source": [
    "One can apply all patches in `pass_patches` and still not cause the test to fail:"
   ]
  },
  {
   "cell_type": "code",
   "execution_count": 163,
   "metadata": {
    "execution": {
     "iopub.execute_input": "2025-10-26T17:47:58.486471Z",
     "iopub.status.busy": "2025-10-26T17:47:58.486377Z",
     "iopub.status.idle": "2025-10-26T17:47:58.511335Z",
     "shell.execute_reply": "2025-10-26T17:47:58.510974Z"
    },
    "slideshow": {
     "slide_type": "subslide"
    }
   },
   "outputs": [
    {
     "name": "stdout",
     "output_type": "stream",
     "text": [
      "@@ -\u001b[34m48\u001b[39;49;00m,\u001b[34m24\u001b[39;49;00m +\u001b[34m48\u001b[39;49;00m,\u001b[34m42\u001b[39;49;00m @@\u001b[37m\u001b[39;49;00m\n",
      " tag = \u001b[34mFalse\u001b[39;49;00m\u001b[37m\u001b[39;49;00m\n",
      "\u001b[37m\u001b[39;49;00m\n",
      "+    quote = \u001b[34mFalse\u001b[39;49;00m\u001b[37m\u001b[39;49;00m\n",
      "\u001b[37m\u001b[39;49;00m\n",
      "     out = \u001b[33m\"\u001b[39;49;00m\u001b[33m\"\u001b[39;49;00m\u001b[37m\u001b[39;49;00m\n",
      "@@ -\u001b[34m104\u001b[39;49;00m,\u001b[34m50\u001b[39;49;00m +\u001b[34m104\u001b[39;49;00m,\u001b[34m43\u001b[39;49;00m @@\u001b[37m\u001b[39;49;00m\n",
      "  s:\u001b[37m\u001b[39;49;00m\n",
      "\u001b[37m\u001b[39;49;00m\n",
      "-        \u001b[34mif\u001b[39;49;00m c == \u001b[33m'\u001b[39;49;00m\u001b[33m<\u001b[39;49;00m\u001b[33m'\u001b[39;49;00m:    \u001b[37m# start of markup\u001b[39;49;00m\u001b[37m\u001b[39;49;00m\n",
      "\u001b[37m\u001b[39;49;00m\n",
      "+        \u001b[34mif\u001b[39;49;00m c == \u001b[33m'\u001b[39;49;00m\u001b[33m<\u001b[39;49;00m\u001b[33m'\u001b[39;49;00m \u001b[35mand\u001b[39;49;00m \u001b[35mnot\u001b[39;49;00m quote:\u001b[37m\u001b[39;49;00m\n"
     ]
    }
   ],
   "source": [
    "for p in pass_patches:\n",
    "    print_patch(p)"
   ]
  },
  {
   "cell_type": "markdown",
   "metadata": {
    "slideshow": {
     "slide_type": "subslide"
    }
   },
   "source": [
    "However, as soon as we also apply the patches in `diffs`, we get the failure. (This is also what is shown when we output a `ChangeDebugger`.)"
   ]
  },
  {
   "cell_type": "code",
   "execution_count": 164,
   "metadata": {
    "execution": {
     "iopub.execute_input": "2025-10-26T17:47:58.513118Z",
     "iopub.status.busy": "2025-10-26T17:47:58.512982Z",
     "iopub.status.idle": "2025-10-26T17:47:58.526420Z",
     "shell.execute_reply": "2025-10-26T17:47:58.525962Z"
    },
    "slideshow": {
     "slide_type": "fragment"
    }
   },
   "outputs": [
    {
     "name": "stdout",
     "output_type": "stream",
     "text": [
      "@@ -\u001b[34m215\u001b[39;49;00m,\u001b[34m24\u001b[39;49;00m +\u001b[34m215\u001b[39;49;00m,\u001b[34m97\u001b[39;49;00m @@\u001b[37m\u001b[39;49;00m\n",
      " tag = \u001b[34mFalse\u001b[39;49;00m\u001b[37m\u001b[39;49;00m\n",
      "\u001b[37m\u001b[39;49;00m\n",
      "+        \u001b[34melif\u001b[39;49;00m c == \u001b[33m'\u001b[39;49;00m\u001b[33m\"\u001b[39;49;00m\u001b[33m'\u001b[39;49;00m \u001b[35mor\u001b[39;49;00m c == \u001b[33m\"\u001b[39;49;00m\u001b[33m'\u001b[39;49;00m\u001b[33m\"\u001b[39;49;00m \u001b[35mand\u001b[39;49;00m tag:\u001b[37m\u001b[39;49;00m\n",
      "            quote = \u001b[35mnot\u001b[39;49;00m quote\u001b[37m\u001b[39;49;00m\n",
      "\u001b[37m\u001b[39;49;00m\n",
      "         \u001b[34melif\u001b[39;49;00m\u001b[37m\u001b[39;49;00m\n"
     ]
    }
   ],
   "source": [
    "for p in diffs:\n",
    "    print_patch(p)"
   ]
  },
  {
   "cell_type": "markdown",
   "metadata": {
    "slideshow": {
     "slide_type": "fragment"
    }
   },
   "source": [
    "The full set of methods in `ChangeDebugger` is shown below."
   ]
  },
  {
   "cell_type": "code",
   "execution_count": 165,
   "metadata": {
    "execution": {
     "iopub.execute_input": "2025-10-26T17:47:58.528268Z",
     "iopub.status.busy": "2025-10-26T17:47:58.528127Z",
     "iopub.status.idle": "2025-10-26T17:47:58.529737Z",
     "shell.execute_reply": "2025-10-26T17:47:58.529482Z"
    },
    "slideshow": {
     "slide_type": "subslide"
    },
    "tags": [
     "remove-input"
    ]
   },
   "outputs": [],
   "source": [
    "# ignore\n",
    "from ClassDiagram import display_class_hierarchy"
   ]
  },
  {
   "cell_type": "code",
   "execution_count": 166,
   "metadata": {
    "execution": {
     "iopub.execute_input": "2025-10-26T17:47:58.531203Z",
     "iopub.status.busy": "2025-10-26T17:47:58.531123Z",
     "iopub.status.idle": "2025-10-26T17:47:59.497681Z",
     "shell.execute_reply": "2025-10-26T17:47:59.497243Z"
    },
    "slideshow": {
     "slide_type": "subslide"
    },
    "tags": [
     "remove-input"
    ]
   },
   "outputs": [
    {
     "data": {
      "image/svg+xml": [
       "<?xml version=\"1.0\" encoding=\"UTF-8\" standalone=\"no\"?>\n",
       "<!DOCTYPE svg PUBLIC \"-//W3C//DTD SVG 1.1//EN\"\n",
       " \"http://www.w3.org/Graphics/SVG/1.1/DTD/svg11.dtd\">\n",
       "<!-- Generated by graphviz version 14.0.2 (20251019.1705)\n",
       " -->\n",
       "<!-- Pages: 1 -->\n",
       "<svg width=\"296pt\" height=\"400pt\"\n",
       " viewBox=\"0.00 0.00 296.00 400.00\" xmlns=\"http://www.w3.org/2000/svg\" xmlns:xlink=\"http://www.w3.org/1999/xlink\">\n",
       "<g id=\"graph0\" class=\"graph\" transform=\"scale(1 1) rotate(0) translate(4 395.5)\">\n",
       "<g id=\"a_graph0\"><a xlink:title=\"ChangeDebugger class hierarchy\">\n",
       "<polygon fill=\"white\" stroke=\"none\" points=\"-4,4 -4,-395.5 291.62,-395.5 291.62,4 -4,4\"/>\n",
       "</a>\n",
       "</g>\n",
       "<!-- ChangeDebugger -->\n",
       "<g id=\"node1\" class=\"node\">\n",
       "<title>ChangeDebugger</title>\n",
       "<g id=\"a_node1\"><a xlink:href=\"#\" xlink:title=\"class ChangeDebugger:&#10;Collect an exception&#45;raising function call f().&#10;Use as `with CallCollector(): f()`\">\n",
       "<polygon fill=\"none\" stroke=\"black\" points=\"15.38,-0.5 15.38,-148.5 150.62,-148.5 150.62,-0.5 15.38,-0.5\"/>\n",
       "<text xml:space=\"preserve\" text-anchor=\"start\" x=\"23.38\" y=\"-132.2\" font-family=\"Raleway, Helvetica, Arial, sans-serif\" font-weight=\"bold\" font-size=\"14.00\" fill=\"#6a0dad\">ChangeDebugger</text>\n",
       "<polyline fill=\"none\" stroke=\"black\" points=\"15.38,-123.25 150.62,-123.25\"/>\n",
       "<g id=\"a_node1_0\"><a xlink:href=\"#\" xlink:title=\"ChangeDebugger\">\n",
       "<g id=\"a_node1_1\"><a xlink:href=\"#\" xlink:title=\"__enter__(self) &#45;&gt; Any:&#10;Called at begin of a `with` block. Checks if current source fails.\">\n",
       "<text xml:space=\"preserve\" text-anchor=\"start\" x=\"29\" y=\"-110.75\" font-family=\"'Fira Mono', 'Source Code Pro', 'Courier', monospace\" font-weight=\"bold\" font-style=\"italic\" font-size=\"10.00\">__enter__()</text>\n",
       "</a>\n",
       "</g>\n",
       "<g id=\"a_node1_2\"><a xlink:href=\"#\" xlink:title=\"__init__(self, pass_source: str, fail_source: str, **ddargs: Any) &#45;&gt; None:&#10;Constructor. Takes a passing source file (`pass_source`)&#10;and a failing source file (`fail_source`).&#10;Additional arguments are passed to `DeltaDebugger` constructor.\">\n",
       "<text xml:space=\"preserve\" text-anchor=\"start\" x=\"29\" y=\"-98\" font-family=\"'Fira Mono', 'Source Code Pro', 'Courier', monospace\" font-weight=\"bold\" font-style=\"italic\" font-size=\"10.00\">__init__()</text>\n",
       "</a>\n",
       "</g>\n",
       "<g id=\"a_node1_3\"><a xlink:href=\"#\" xlink:title=\"__repr__(self) &#45;&gt; str:&#10;Return readable list of minimal patches\">\n",
       "<text xml:space=\"preserve\" text-anchor=\"start\" x=\"29\" y=\"-85.25\" font-family=\"'Fira Mono', 'Source Code Pro', 'Courier', monospace\" font-weight=\"bold\" font-size=\"10.00\">__repr__()</text>\n",
       "</a>\n",
       "</g>\n",
       "<g id=\"a_node1_4\"><a xlink:href=\"#\" xlink:title=\"fail_source(self) &#45;&gt; str:&#10;Return the failing source file.\">\n",
       "<text xml:space=\"preserve\" text-anchor=\"start\" x=\"29\" y=\"-72.5\" font-family=\"'Fira Mono', 'Source Code Pro', 'Courier', monospace\" font-weight=\"bold\" font-size=\"10.00\">fail_source()</text>\n",
       "</a>\n",
       "</g>\n",
       "<g id=\"a_node1_5\"><a xlink:href=\"#\" xlink:title=\"min_patches(self) &#45;&gt; Tuple[List[diff_match_patch.diff_match_patch.patch_obj], List[diff_match_patch.diff_match_patch.patch_obj], List[diff_match_patch.diff_match_patch.patch_obj]]:&#10;Compute a minimal set of patches.&#10;Returns a triple (`pass_patches`, `fail_patches`, `diff_patches`)&#10;where `diff_patches` is the minimal difference between&#10;the set `pass_patches` (which, when applied, make the test pass) and&#10;the set `fail_patches` (which, when applied, make the test fail).\">\n",
       "<text xml:space=\"preserve\" text-anchor=\"start\" x=\"29\" y=\"-59.75\" font-family=\"'Fira Mono', 'Source Code Pro', 'Courier', monospace\" font-weight=\"bold\" font-size=\"10.00\">min_patches()</text>\n",
       "</a>\n",
       "</g>\n",
       "<g id=\"a_node1_6\"><a xlink:href=\"#\" xlink:title=\"pass_source(self) &#45;&gt; str:&#10;Return the passing source file.\">\n",
       "<text xml:space=\"preserve\" text-anchor=\"start\" x=\"29\" y=\"-47\" font-family=\"'Fira Mono', 'Source Code Pro', 'Courier', monospace\" font-weight=\"bold\" font-size=\"10.00\">pass_source()</text>\n",
       "</a>\n",
       "</g>\n",
       "<g id=\"a_node1_7\"><a xlink:href=\"#\" xlink:title=\"patches(self) &#45;&gt; List[diff_match_patch.diff_match_patch.patch_obj]:&#10;Return the diff between passing and failing source files.\">\n",
       "<text xml:space=\"preserve\" text-anchor=\"start\" x=\"29\" y=\"-34.25\" font-family=\"'Fira Mono', 'Source Code Pro', 'Courier', monospace\" font-weight=\"bold\" font-size=\"10.00\">patches()</text>\n",
       "</a>\n",
       "</g>\n",
       "<g id=\"a_node1_8\"><a xlink:href=\"#\" xlink:title=\"after_collection(self) &#45;&gt; None:&#10;Diagnostics.\">\n",
       "<text xml:space=\"preserve\" text-anchor=\"start\" x=\"29\" y=\"-21.5\" font-family=\"'Fira Mono', 'Source Code Pro', 'Courier', monospace\" font-style=\"italic\" font-size=\"10.00\">after_collection()</text>\n",
       "</a>\n",
       "</g>\n",
       "<g id=\"a_node1_9\"><a xlink:href=\"#\" xlink:title=\"test_patches(self, patches: List[diff_match_patch.diff_match_patch.patch_obj]) &#45;&gt; None\">\n",
       "<text xml:space=\"preserve\" text-anchor=\"start\" x=\"29\" y=\"-7.75\" font-family=\"'Fira Mono', 'Source Code Pro', 'Courier', monospace\" font-size=\"10.00\">test_patches()</text>\n",
       "</a>\n",
       "</g>\n",
       "</a>\n",
       "</g>\n",
       "</a>\n",
       "</g>\n",
       "</g>\n",
       "<!-- CallCollector -->\n",
       "<g id=\"node2\" class=\"node\">\n",
       "<title>CallCollector</title>\n",
       "<g id=\"a_node2\"><a xlink:href=\"DeltaDebugger.ipynb\" xlink:title=\"class CallCollector:&#10;Collect an exception&#45;raising function call f().&#10;Use as `with CallCollector(): f()`\">\n",
       "<polygon fill=\"none\" stroke=\"black\" points=\"30.38,-185.5 30.38,-308 135.62,-308 135.62,-185.5 30.38,-185.5\"/>\n",
       "<text xml:space=\"preserve\" text-anchor=\"start\" x=\"38.38\" y=\"-291.7\" font-family=\"Raleway, Helvetica, Arial, sans-serif\" font-weight=\"bold\" font-size=\"14.00\" fill=\"#6a0dad\">CallCollector</text>\n",
       "<polyline fill=\"none\" stroke=\"black\" points=\"30.38,-282.75 135.62,-282.75\"/>\n",
       "<g id=\"a_node2_10\"><a xlink:href=\"#\" xlink:title=\"CallCollector\">\n",
       "<g id=\"a_node2_11\"><a xlink:href=\"DeltaDebugger.ipynb\" xlink:title=\"__enter__(self) &#45;&gt; Any:&#10;Called at begin of `with` block. Turn tracing on.\">\n",
       "<text xml:space=\"preserve\" text-anchor=\"start\" x=\"50\" y=\"-270.25\" font-family=\"'Fira Mono', 'Source Code Pro', 'Courier', monospace\" font-weight=\"bold\" font-style=\"italic\" font-size=\"10.00\">__enter__()</text>\n",
       "</a>\n",
       "</g>\n",
       "<g id=\"a_node2_12\"><a xlink:href=\"DeltaDebugger.ipynb\" xlink:title=\"__exit__(self, exc_tp: Type, exc_value: BaseException, exc_traceback: traceback) &#45;&gt; Optional[bool]:&#10;Called at end of `with` block. Turn tracing off.\">\n",
       "<text xml:space=\"preserve\" text-anchor=\"start\" x=\"50\" y=\"-257.5\" font-family=\"'Fira Mono', 'Source Code Pro', 'Courier', monospace\" font-weight=\"bold\" font-size=\"10.00\">__exit__()</text>\n",
       "</a>\n",
       "</g>\n",
       "<g id=\"a_node2_13\"><a xlink:href=\"DeltaDebugger.ipynb\" xlink:title=\"__init__(self) &#45;&gt; None:&#10;Initialize collector\">\n",
       "<text xml:space=\"preserve\" text-anchor=\"start\" x=\"50\" y=\"-244.75\" font-family=\"'Fira Mono', 'Source Code Pro', 'Courier', monospace\" font-weight=\"bold\" font-style=\"italic\" font-size=\"10.00\">__init__()</text>\n",
       "</a>\n",
       "</g>\n",
       "<g id=\"a_node2_14\"><a xlink:href=\"DeltaDebugger.ipynb\" xlink:title=\"args(self) &#45;&gt; Dict[str, Any]:&#10;Return the dictionary of collected arguments.\">\n",
       "<text xml:space=\"preserve\" text-anchor=\"start\" x=\"50\" y=\"-232\" font-family=\"'Fira Mono', 'Source Code Pro', 'Courier', monospace\" font-weight=\"bold\" font-size=\"10.00\">args()</text>\n",
       "</a>\n",
       "</g>\n",
       "<g id=\"a_node2_15\"><a xlink:href=\"DeltaDebugger.ipynb\" xlink:title=\"call(self, new_args: Optional[Dict[str, Any]] = None) &#45;&gt; Any:&#10;Call collected function. If `new_args` is given,&#10;override arguments from its {var: value} entries.\">\n",
       "<text xml:space=\"preserve\" text-anchor=\"start\" x=\"50\" y=\"-219.25\" font-family=\"'Fira Mono', 'Source Code Pro', 'Courier', monospace\" font-weight=\"bold\" font-size=\"10.00\">call()</text>\n",
       "</a>\n",
       "</g>\n",
       "<g id=\"a_node2_16\"><a xlink:href=\"DeltaDebugger.ipynb\" xlink:title=\"exception(self) &#45;&gt; Optional[BaseException]:&#10;Return the exception produced, or `None` if none.\">\n",
       "<text xml:space=\"preserve\" text-anchor=\"start\" x=\"50\" y=\"-206.5\" font-family=\"'Fira Mono', 'Source Code Pro', 'Courier', monospace\" font-weight=\"bold\" font-size=\"10.00\">exception()</text>\n",
       "</a>\n",
       "</g>\n",
       "<g id=\"a_node2_17\"><a xlink:href=\"DeltaDebugger.ipynb\" xlink:title=\"function(self) &#45;&gt; Callable:&#10;Return the function called.\">\n",
       "<text xml:space=\"preserve\" text-anchor=\"start\" x=\"50\" y=\"-193.75\" font-family=\"'Fira Mono', 'Source Code Pro', 'Courier', monospace\" font-weight=\"bold\" font-size=\"10.00\">function()</text>\n",
       "</a>\n",
       "</g>\n",
       "</a>\n",
       "</g>\n",
       "</a>\n",
       "</g>\n",
       "</g>\n",
       "<!-- ChangeDebugger&#45;&gt;CallCollector -->\n",
       "<g id=\"edge1\" class=\"edge\">\n",
       "<title>ChangeDebugger&#45;&gt;CallCollector</title>\n",
       "<path fill=\"none\" stroke=\"black\" d=\"M83,-148.69C83,-157.05 83,-165.58 83,-173.92\"/>\n",
       "<polygon fill=\"none\" stroke=\"black\" points=\"79.5,-173.65 83,-183.65 86.5,-173.65 79.5,-173.65\"/>\n",
       "</g>\n",
       "<!-- StackInspector -->\n",
       "<g id=\"node3\" class=\"node\">\n",
       "<title>StackInspector</title>\n",
       "<g id=\"a_node3\"><a xlink:href=\"StackInspector.ipynb\" xlink:title=\"class StackInspector:&#10;Provide functions to inspect the stack\">\n",
       "<polygon fill=\"none\" stroke=\"black\" points=\"0,-345 0,-391 166,-391 166,-345 0,-345\"/>\n",
       "<text xml:space=\"preserve\" text-anchor=\"start\" x=\"32.75\" y=\"-374.7\" font-family=\"Raleway, Helvetica, Arial, sans-serif\" font-weight=\"bold\" font-size=\"14.00\" fill=\"#6a0dad\">StackInspector</text>\n",
       "<polyline fill=\"none\" stroke=\"black\" points=\"0,-365.75 166,-365.75\"/>\n",
       "<g id=\"a_node3_18\"><a xlink:href=\"#\" xlink:title=\"StackInspector\">\n",
       "<g id=\"a_node3_19\"><a xlink:href=\"StackInspector.ipynb\" xlink:title=\"_generated_function_cache = {(&#39;test_patches&#39;, 2): &lt;function ChangeDebugger.test_patches at 0x10e032e80&gt;}\">\n",
       "<text xml:space=\"preserve\" text-anchor=\"start\" x=\"8\" y=\"-352.25\" font-family=\"'Fira Mono', 'Source Code Pro', 'Courier', monospace\" font-size=\"10.00\">_generated_function_cache</text>\n",
       "</a>\n",
       "</g>\n",
       "</a>\n",
       "</g>\n",
       "</a>\n",
       "</g>\n",
       "</g>\n",
       "<!-- CallCollector&#45;&gt;StackInspector -->\n",
       "<g id=\"edge2\" class=\"edge\">\n",
       "<title>CallCollector&#45;&gt;StackInspector</title>\n",
       "<path fill=\"none\" stroke=\"black\" d=\"M83,-308.42C83,-317.06 83,-325.66 83,-333.52\"/>\n",
       "<polygon fill=\"none\" stroke=\"black\" points=\"79.5,-333.25 83,-343.25 86.5,-333.25 79.5,-333.25\"/>\n",
       "</g>\n",
       "<!-- Legend -->\n",
       "<g id=\"node4\" class=\"node\">\n",
       "<title>Legend</title>\n",
       "<text xml:space=\"preserve\" text-anchor=\"start\" x=\"168.38\" y=\"-90.5\" font-family=\"Raleway, Helvetica, Arial, sans-serif\" font-weight=\"bold\" font-size=\"10.00\" fill=\"#6a0dad\">Legend</text>\n",
       "<text xml:space=\"preserve\" text-anchor=\"start\" x=\"168.38\" y=\"-80.5\" font-family=\"Raleway, Helvetica, Arial, sans-serif\" font-size=\"10.00\">• </text>\n",
       "<text xml:space=\"preserve\" text-anchor=\"start\" x=\"174.38\" y=\"-80.5\" font-family=\"'Fira Mono', 'Source Code Pro', 'Courier', monospace\" font-weight=\"bold\" font-size=\"8.00\">public_method()</text>\n",
       "<text xml:space=\"preserve\" text-anchor=\"start\" x=\"168.38\" y=\"-70.5\" font-family=\"Raleway, Helvetica, Arial, sans-serif\" font-size=\"10.00\">• </text>\n",
       "<text xml:space=\"preserve\" text-anchor=\"start\" x=\"174.38\" y=\"-70.5\" font-family=\"'Fira Mono', 'Source Code Pro', 'Courier', monospace\" font-size=\"8.00\">private_method()</text>\n",
       "<text xml:space=\"preserve\" text-anchor=\"start\" x=\"168.38\" y=\"-60.5\" font-family=\"Raleway, Helvetica, Arial, sans-serif\" font-size=\"10.00\">• </text>\n",
       "<text xml:space=\"preserve\" text-anchor=\"start\" x=\"174.38\" y=\"-60.5\" font-family=\"'Fira Mono', 'Source Code Pro', 'Courier', monospace\" font-style=\"italic\" font-size=\"8.00\">overloaded_method()</text>\n",
       "<text xml:space=\"preserve\" text-anchor=\"start\" x=\"168.38\" y=\"-51.45\" font-family=\"Helvetica,sans-Serif\" font-size=\"9.00\">Hover over names to see doc</text>\n",
       "</g>\n",
       "</g>\n",
       "</svg>\n"
      ],
      "text/html": [
       "<?xml version=\"1.0\" encoding=\"UTF-8\" standalone=\"no\"?>\n",
       "<!DOCTYPE svg PUBLIC \"-//W3C//DTD SVG 1.1//EN\"\n",
       " \"http://www.w3.org/Graphics/SVG/1.1/DTD/svg11.dtd\">\n",
       "<!-- Generated by graphviz version 14.0.2 (20251019.1705)\n",
       " -->\n",
       "<!-- Pages: 1 -->\n",
       "<svg width=\"296pt\" height=\"400pt\"\n",
       " viewBox=\"0.00 0.00 296.00 400.00\" xmlns=\"http://www.w3.org/2000/svg\" xmlns:xlink=\"http://www.w3.org/1999/xlink\">\n",
       "<g id=\"graph0\" class=\"graph\" transform=\"scale(1 1) rotate(0) translate(4 395.5)\">\n",
       "<g id=\"a_graph0\"><a xlink:title=\"ChangeDebugger class hierarchy\">\n",
       "<polygon fill=\"white\" stroke=\"none\" points=\"-4,4 -4,-395.5 291.62,-395.5 291.62,4 -4,4\"/>\n",
       "</a>\n",
       "</g>\n",
       "<!-- ChangeDebugger -->\n",
       "<g id=\"node1\" class=\"node\">\n",
       "<title>ChangeDebugger</title>\n",
       "<g id=\"a_node1\"><a xlink:href=\"#\" xlink:title=\"class ChangeDebugger:&#10;Collect an exception&#45;raising function call f().&#10;Use as `with CallCollector(): f()`\">\n",
       "<polygon fill=\"none\" stroke=\"black\" points=\"15.38,-0.5 15.38,-148.5 150.62,-148.5 150.62,-0.5 15.38,-0.5\"/>\n",
       "<text xml:space=\"preserve\" text-anchor=\"start\" x=\"23.38\" y=\"-132.2\" font-family=\"Raleway, Helvetica, Arial, sans-serif\" font-weight=\"bold\" font-size=\"14.00\" fill=\"#6a0dad\">ChangeDebugger</text>\n",
       "<polyline fill=\"none\" stroke=\"black\" points=\"15.38,-123.25 150.62,-123.25\"/>\n",
       "<g id=\"a_node1_0\"><a xlink:href=\"#\" xlink:title=\"ChangeDebugger\">\n",
       "<g id=\"a_node1_1\"><a xlink:href=\"#\" xlink:title=\"__enter__(self) &#45;&gt; Any:&#10;Called at begin of a `with` block. Checks if current source fails.\">\n",
       "<text xml:space=\"preserve\" text-anchor=\"start\" x=\"29\" y=\"-110.75\" font-family=\"'Fira Mono', 'Source Code Pro', 'Courier', monospace\" font-weight=\"bold\" font-style=\"italic\" font-size=\"10.00\">__enter__()</text>\n",
       "</a>\n",
       "</g>\n",
       "<g id=\"a_node1_2\"><a xlink:href=\"#\" xlink:title=\"__init__(self, pass_source: str, fail_source: str, **ddargs: Any) &#45;&gt; None:&#10;Constructor. Takes a passing source file (`pass_source`)&#10;and a failing source file (`fail_source`).&#10;Additional arguments are passed to `DeltaDebugger` constructor.\">\n",
       "<text xml:space=\"preserve\" text-anchor=\"start\" x=\"29\" y=\"-98\" font-family=\"'Fira Mono', 'Source Code Pro', 'Courier', monospace\" font-weight=\"bold\" font-style=\"italic\" font-size=\"10.00\">__init__()</text>\n",
       "</a>\n",
       "</g>\n",
       "<g id=\"a_node1_3\"><a xlink:href=\"#\" xlink:title=\"__repr__(self) &#45;&gt; str:&#10;Return readable list of minimal patches\">\n",
       "<text xml:space=\"preserve\" text-anchor=\"start\" x=\"29\" y=\"-85.25\" font-family=\"'Fira Mono', 'Source Code Pro', 'Courier', monospace\" font-weight=\"bold\" font-size=\"10.00\">__repr__()</text>\n",
       "</a>\n",
       "</g>\n",
       "<g id=\"a_node1_4\"><a xlink:href=\"#\" xlink:title=\"fail_source(self) &#45;&gt; str:&#10;Return the failing source file.\">\n",
       "<text xml:space=\"preserve\" text-anchor=\"start\" x=\"29\" y=\"-72.5\" font-family=\"'Fira Mono', 'Source Code Pro', 'Courier', monospace\" font-weight=\"bold\" font-size=\"10.00\">fail_source()</text>\n",
       "</a>\n",
       "</g>\n",
       "<g id=\"a_node1_5\"><a xlink:href=\"#\" xlink:title=\"min_patches(self) &#45;&gt; Tuple[List[diff_match_patch.diff_match_patch.patch_obj], List[diff_match_patch.diff_match_patch.patch_obj], List[diff_match_patch.diff_match_patch.patch_obj]]:&#10;Compute a minimal set of patches.&#10;Returns a triple (`pass_patches`, `fail_patches`, `diff_patches`)&#10;where `diff_patches` is the minimal difference between&#10;the set `pass_patches` (which, when applied, make the test pass) and&#10;the set `fail_patches` (which, when applied, make the test fail).\">\n",
       "<text xml:space=\"preserve\" text-anchor=\"start\" x=\"29\" y=\"-59.75\" font-family=\"'Fira Mono', 'Source Code Pro', 'Courier', monospace\" font-weight=\"bold\" font-size=\"10.00\">min_patches()</text>\n",
       "</a>\n",
       "</g>\n",
       "<g id=\"a_node1_6\"><a xlink:href=\"#\" xlink:title=\"pass_source(self) &#45;&gt; str:&#10;Return the passing source file.\">\n",
       "<text xml:space=\"preserve\" text-anchor=\"start\" x=\"29\" y=\"-47\" font-family=\"'Fira Mono', 'Source Code Pro', 'Courier', monospace\" font-weight=\"bold\" font-size=\"10.00\">pass_source()</text>\n",
       "</a>\n",
       "</g>\n",
       "<g id=\"a_node1_7\"><a xlink:href=\"#\" xlink:title=\"patches(self) &#45;&gt; List[diff_match_patch.diff_match_patch.patch_obj]:&#10;Return the diff between passing and failing source files.\">\n",
       "<text xml:space=\"preserve\" text-anchor=\"start\" x=\"29\" y=\"-34.25\" font-family=\"'Fira Mono', 'Source Code Pro', 'Courier', monospace\" font-weight=\"bold\" font-size=\"10.00\">patches()</text>\n",
       "</a>\n",
       "</g>\n",
       "<g id=\"a_node1_8\"><a xlink:href=\"#\" xlink:title=\"after_collection(self) &#45;&gt; None:&#10;Diagnostics.\">\n",
       "<text xml:space=\"preserve\" text-anchor=\"start\" x=\"29\" y=\"-21.5\" font-family=\"'Fira Mono', 'Source Code Pro', 'Courier', monospace\" font-style=\"italic\" font-size=\"10.00\">after_collection()</text>\n",
       "</a>\n",
       "</g>\n",
       "<g id=\"a_node1_9\"><a xlink:href=\"#\" xlink:title=\"test_patches(self, patches: List[diff_match_patch.diff_match_patch.patch_obj]) &#45;&gt; None\">\n",
       "<text xml:space=\"preserve\" text-anchor=\"start\" x=\"29\" y=\"-7.75\" font-family=\"'Fira Mono', 'Source Code Pro', 'Courier', monospace\" font-size=\"10.00\">test_patches()</text>\n",
       "</a>\n",
       "</g>\n",
       "</a>\n",
       "</g>\n",
       "</a>\n",
       "</g>\n",
       "</g>\n",
       "<!-- CallCollector -->\n",
       "<g id=\"node2\" class=\"node\">\n",
       "<title>CallCollector</title>\n",
       "<g id=\"a_node2\"><a xlink:href=\"DeltaDebugger.ipynb\" xlink:title=\"class CallCollector:&#10;Collect an exception&#45;raising function call f().&#10;Use as `with CallCollector(): f()`\">\n",
       "<polygon fill=\"none\" stroke=\"black\" points=\"30.38,-185.5 30.38,-308 135.62,-308 135.62,-185.5 30.38,-185.5\"/>\n",
       "<text xml:space=\"preserve\" text-anchor=\"start\" x=\"38.38\" y=\"-291.7\" font-family=\"Raleway, Helvetica, Arial, sans-serif\" font-weight=\"bold\" font-size=\"14.00\" fill=\"#6a0dad\">CallCollector</text>\n",
       "<polyline fill=\"none\" stroke=\"black\" points=\"30.38,-282.75 135.62,-282.75\"/>\n",
       "<g id=\"a_node2_10\"><a xlink:href=\"#\" xlink:title=\"CallCollector\">\n",
       "<g id=\"a_node2_11\"><a xlink:href=\"DeltaDebugger.ipynb\" xlink:title=\"__enter__(self) &#45;&gt; Any:&#10;Called at begin of `with` block. Turn tracing on.\">\n",
       "<text xml:space=\"preserve\" text-anchor=\"start\" x=\"50\" y=\"-270.25\" font-family=\"'Fira Mono', 'Source Code Pro', 'Courier', monospace\" font-weight=\"bold\" font-style=\"italic\" font-size=\"10.00\">__enter__()</text>\n",
       "</a>\n",
       "</g>\n",
       "<g id=\"a_node2_12\"><a xlink:href=\"DeltaDebugger.ipynb\" xlink:title=\"__exit__(self, exc_tp: Type, exc_value: BaseException, exc_traceback: traceback) &#45;&gt; Optional[bool]:&#10;Called at end of `with` block. Turn tracing off.\">\n",
       "<text xml:space=\"preserve\" text-anchor=\"start\" x=\"50\" y=\"-257.5\" font-family=\"'Fira Mono', 'Source Code Pro', 'Courier', monospace\" font-weight=\"bold\" font-size=\"10.00\">__exit__()</text>\n",
       "</a>\n",
       "</g>\n",
       "<g id=\"a_node2_13\"><a xlink:href=\"DeltaDebugger.ipynb\" xlink:title=\"__init__(self) &#45;&gt; None:&#10;Initialize collector\">\n",
       "<text xml:space=\"preserve\" text-anchor=\"start\" x=\"50\" y=\"-244.75\" font-family=\"'Fira Mono', 'Source Code Pro', 'Courier', monospace\" font-weight=\"bold\" font-style=\"italic\" font-size=\"10.00\">__init__()</text>\n",
       "</a>\n",
       "</g>\n",
       "<g id=\"a_node2_14\"><a xlink:href=\"DeltaDebugger.ipynb\" xlink:title=\"args(self) &#45;&gt; Dict[str, Any]:&#10;Return the dictionary of collected arguments.\">\n",
       "<text xml:space=\"preserve\" text-anchor=\"start\" x=\"50\" y=\"-232\" font-family=\"'Fira Mono', 'Source Code Pro', 'Courier', monospace\" font-weight=\"bold\" font-size=\"10.00\">args()</text>\n",
       "</a>\n",
       "</g>\n",
       "<g id=\"a_node2_15\"><a xlink:href=\"DeltaDebugger.ipynb\" xlink:title=\"call(self, new_args: Optional[Dict[str, Any]] = None) &#45;&gt; Any:&#10;Call collected function. If `new_args` is given,&#10;override arguments from its {var: value} entries.\">\n",
       "<text xml:space=\"preserve\" text-anchor=\"start\" x=\"50\" y=\"-219.25\" font-family=\"'Fira Mono', 'Source Code Pro', 'Courier', monospace\" font-weight=\"bold\" font-size=\"10.00\">call()</text>\n",
       "</a>\n",
       "</g>\n",
       "<g id=\"a_node2_16\"><a xlink:href=\"DeltaDebugger.ipynb\" xlink:title=\"exception(self) &#45;&gt; Optional[BaseException]:&#10;Return the exception produced, or `None` if none.\">\n",
       "<text xml:space=\"preserve\" text-anchor=\"start\" x=\"50\" y=\"-206.5\" font-family=\"'Fira Mono', 'Source Code Pro', 'Courier', monospace\" font-weight=\"bold\" font-size=\"10.00\">exception()</text>\n",
       "</a>\n",
       "</g>\n",
       "<g id=\"a_node2_17\"><a xlink:href=\"DeltaDebugger.ipynb\" xlink:title=\"function(self) &#45;&gt; Callable:&#10;Return the function called.\">\n",
       "<text xml:space=\"preserve\" text-anchor=\"start\" x=\"50\" y=\"-193.75\" font-family=\"'Fira Mono', 'Source Code Pro', 'Courier', monospace\" font-weight=\"bold\" font-size=\"10.00\">function()</text>\n",
       "</a>\n",
       "</g>\n",
       "</a>\n",
       "</g>\n",
       "</a>\n",
       "</g>\n",
       "</g>\n",
       "<!-- ChangeDebugger&#45;&gt;CallCollector -->\n",
       "<g id=\"edge1\" class=\"edge\">\n",
       "<title>ChangeDebugger&#45;&gt;CallCollector</title>\n",
       "<path fill=\"none\" stroke=\"black\" d=\"M83,-148.69C83,-157.05 83,-165.58 83,-173.92\"/>\n",
       "<polygon fill=\"none\" stroke=\"black\" points=\"79.5,-173.65 83,-183.65 86.5,-173.65 79.5,-173.65\"/>\n",
       "</g>\n",
       "<!-- StackInspector -->\n",
       "<g id=\"node3\" class=\"node\">\n",
       "<title>StackInspector</title>\n",
       "<g id=\"a_node3\"><a xlink:href=\"StackInspector.ipynb\" xlink:title=\"class StackInspector:&#10;Provide functions to inspect the stack\">\n",
       "<polygon fill=\"none\" stroke=\"black\" points=\"0,-345 0,-391 166,-391 166,-345 0,-345\"/>\n",
       "<text xml:space=\"preserve\" text-anchor=\"start\" x=\"32.75\" y=\"-374.7\" font-family=\"Raleway, Helvetica, Arial, sans-serif\" font-weight=\"bold\" font-size=\"14.00\" fill=\"#6a0dad\">StackInspector</text>\n",
       "<polyline fill=\"none\" stroke=\"black\" points=\"0,-365.75 166,-365.75\"/>\n",
       "<g id=\"a_node3_18\"><a xlink:href=\"#\" xlink:title=\"StackInspector\">\n",
       "<g id=\"a_node3_19\"><a xlink:href=\"StackInspector.ipynb\" xlink:title=\"_generated_function_cache = {(&#39;test_patches&#39;, 2): &lt;function ChangeDebugger.test_patches at 0x10e032e80&gt;}\">\n",
       "<text xml:space=\"preserve\" text-anchor=\"start\" x=\"8\" y=\"-352.25\" font-family=\"'Fira Mono', 'Source Code Pro', 'Courier', monospace\" font-size=\"10.00\">_generated_function_cache</text>\n",
       "</a>\n",
       "</g>\n",
       "</a>\n",
       "</g>\n",
       "</a>\n",
       "</g>\n",
       "</g>\n",
       "<!-- CallCollector&#45;&gt;StackInspector -->\n",
       "<g id=\"edge2\" class=\"edge\">\n",
       "<title>CallCollector&#45;&gt;StackInspector</title>\n",
       "<path fill=\"none\" stroke=\"black\" d=\"M83,-308.42C83,-317.06 83,-325.66 83,-333.52\"/>\n",
       "<polygon fill=\"none\" stroke=\"black\" points=\"79.5,-333.25 83,-343.25 86.5,-333.25 79.5,-333.25\"/>\n",
       "</g>\n",
       "<!-- Legend -->\n",
       "<g id=\"node4\" class=\"node\">\n",
       "<title>Legend</title>\n",
       "<text xml:space=\"preserve\" text-anchor=\"start\" x=\"168.38\" y=\"-90.5\" font-family=\"Raleway, Helvetica, Arial, sans-serif\" font-weight=\"bold\" font-size=\"10.00\" fill=\"#6a0dad\">Legend</text>\n",
       "<text xml:space=\"preserve\" text-anchor=\"start\" x=\"168.38\" y=\"-80.5\" font-family=\"Raleway, Helvetica, Arial, sans-serif\" font-size=\"10.00\">• </text>\n",
       "<text xml:space=\"preserve\" text-anchor=\"start\" x=\"174.38\" y=\"-80.5\" font-family=\"'Fira Mono', 'Source Code Pro', 'Courier', monospace\" font-weight=\"bold\" font-size=\"8.00\">public_method()</text>\n",
       "<text xml:space=\"preserve\" text-anchor=\"start\" x=\"168.38\" y=\"-70.5\" font-family=\"Raleway, Helvetica, Arial, sans-serif\" font-size=\"10.00\">• </text>\n",
       "<text xml:space=\"preserve\" text-anchor=\"start\" x=\"174.38\" y=\"-70.5\" font-family=\"'Fira Mono', 'Source Code Pro', 'Courier', monospace\" font-size=\"8.00\">private_method()</text>\n",
       "<text xml:space=\"preserve\" text-anchor=\"start\" x=\"168.38\" y=\"-60.5\" font-family=\"Raleway, Helvetica, Arial, sans-serif\" font-size=\"10.00\">• </text>\n",
       "<text xml:space=\"preserve\" text-anchor=\"start\" x=\"174.38\" y=\"-60.5\" font-family=\"'Fira Mono', 'Source Code Pro', 'Courier', monospace\" font-style=\"italic\" font-size=\"8.00\">overloaded_method()</text>\n",
       "<text xml:space=\"preserve\" text-anchor=\"start\" x=\"168.38\" y=\"-51.45\" font-family=\"Helvetica,sans-Serif\" font-size=\"9.00\">Hover over names to see doc</text>\n",
       "</g>\n",
       "</g>\n",
       "</svg>\n"
      ],
      "text/plain": [
       "<graphviz.graphs.Digraph at 0x10e00d010>"
      ]
     },
     "execution_count": 166,
     "metadata": {},
     "output_type": "execute_result"
    }
   ],
   "source": [
    "# ignore\n",
    "display_class_hierarchy([ChangeDebugger],\n",
    "                        public_methods=[\n",
    "                            CallCollector.__init__,\n",
    "                            CallCollector.__enter__,\n",
    "                            CallCollector.__exit__,\n",
    "                            CallCollector.call,  # type: ignore\n",
    "                            CallCollector.args,\n",
    "                            CallCollector.function,\n",
    "                            CallCollector.exception,\n",
    "                            ChangeDebugger.__init__,\n",
    "                            ChangeDebugger.min_patches,\n",
    "                            ChangeDebugger.patches,\n",
    "                            ChangeDebugger.pass_source,\n",
    "                            ChangeDebugger.fail_source,\n",
    "                            ChangeDebugger.__repr__,\n",
    "                            ChangeDebugger.__enter__\n",
    "                        ],\n",
    "                        project='debuggingbook')"
   ]
  },
  {
   "cell_type": "markdown",
   "metadata": {
    "slideshow": {
     "slide_type": "subslide"
    }
   },
   "source": [
    "### Supporting Functions"
   ]
  },
  {
   "cell_type": "markdown",
   "metadata": {
    "slideshow": {
     "slide_type": "fragment"
    }
   },
   "source": [
    "`ChangeDebugger` relies on lower level `patch()` and `diff()` functions.\n",
    "\n",
    "To apply patch objects on source code, use the `patch()` function. It takes a source code and a list of patches to be applied."
   ]
  },
  {
   "cell_type": "code",
   "execution_count": 167,
   "metadata": {
    "execution": {
     "iopub.execute_input": "2025-10-26T17:47:59.500006Z",
     "iopub.status.busy": "2025-10-26T17:47:59.499846Z",
     "iopub.status.idle": "2025-10-26T17:47:59.514762Z",
     "shell.execute_reply": "2025-10-26T17:47:59.514495Z"
    },
    "slideshow": {
     "slide_type": "subslide"
    }
   },
   "outputs": [
    {
     "name": "stdout",
     "output_type": "stream",
     "text": [
      "\u001b[34mdef\u001b[39;49;00m\u001b[37m \u001b[39;49;00m\u001b[32mremove_html_markup\u001b[39;49;00m(s):  \u001b[37m# type: ignore\u001b[39;49;00m\u001b[37m\u001b[39;49;00m\n",
      "    tag = \u001b[34mFalse\u001b[39;49;00m\u001b[37m\u001b[39;49;00m\n",
      "    out = \u001b[33m\"\u001b[39;49;00m\u001b[33m\"\u001b[39;49;00m\u001b[37m\u001b[39;49;00m\n",
      "\u001b[37m\u001b[39;49;00m\n",
      "    \u001b[34mfor\u001b[39;49;00m c \u001b[35min\u001b[39;49;00m s:\u001b[37m\u001b[39;49;00m\n",
      "        \u001b[34mif\u001b[39;49;00m c == \u001b[33m'\u001b[39;49;00m\u001b[33m<\u001b[39;49;00m\u001b[33m'\u001b[39;49;00m:    \u001b[37m# start of markup\u001b[39;49;00m\u001b[37m\u001b[39;49;00m\n",
      "            tag = \u001b[34mTrue\u001b[39;49;00m\u001b[37m\u001b[39;49;00m\n",
      "        \u001b[34melif\u001b[39;49;00m c == \u001b[33m'\u001b[39;49;00m\u001b[33m>\u001b[39;49;00m\u001b[33m'\u001b[39;49;00m:  \u001b[37m# end of markup\u001b[39;49;00m\u001b[37m\u001b[39;49;00m\n",
      "            tag = \u001b[34mFalse\u001b[39;49;00m\u001b[37m\u001b[39;49;00m\n",
      "        \u001b[34melif\u001b[39;49;00m c == \u001b[33m'\u001b[39;49;00m\u001b[33m\"\u001b[39;49;00m\u001b[33m'\u001b[39;49;00m \u001b[35mor\u001b[39;49;00m c == \u001b[33m\"\u001b[39;49;00m\u001b[33m'\u001b[39;49;00m\u001b[33m\"\u001b[39;49;00m \u001b[35mand\u001b[39;49;00m tag:\u001b[37m\u001b[39;49;00m\n",
      "            quote = \u001b[35mnot\u001b[39;49;00m quote\u001b[37m\u001b[39;49;00m\n",
      "        \u001b[34melif\u001b[39;49;00m \u001b[35mnot\u001b[39;49;00m tag:\u001b[37m\u001b[39;49;00m\n",
      "            out = out + c\u001b[37m\u001b[39;49;00m\n",
      "\u001b[37m\u001b[39;49;00m\n",
      "    \u001b[34mreturn\u001b[39;49;00m out\u001b[37m\u001b[39;49;00m"
     ]
    }
   ],
   "source": [
    "print_content(patch(source_pass, diffs), '.py')"
   ]
  },
  {
   "cell_type": "markdown",
   "metadata": {
    "slideshow": {
     "slide_type": "subslide"
    }
   },
   "source": [
    "Conversely, the `diff()` function computes patches between two texts. It returns a list of patch objects that can be applied on text."
   ]
  },
  {
   "cell_type": "code",
   "execution_count": 168,
   "metadata": {
    "execution": {
     "iopub.execute_input": "2025-10-26T17:47:59.516468Z",
     "iopub.status.busy": "2025-10-26T17:47:59.516345Z",
     "iopub.status.idle": "2025-10-26T17:47:59.561918Z",
     "shell.execute_reply": "2025-10-26T17:47:59.561534Z"
    },
    "slideshow": {
     "slide_type": "subslide"
    }
   },
   "outputs": [
    {
     "name": "stdout",
     "output_type": "stream",
     "text": [
      "@@ -\u001b[34m48\u001b[39;49;00m,\u001b[34m24\u001b[39;49;00m +\u001b[34m48\u001b[39;49;00m,\u001b[34m42\u001b[39;49;00m @@\u001b[37m\u001b[39;49;00m\n",
      " tag = \u001b[34mFalse\u001b[39;49;00m\u001b[37m\u001b[39;49;00m\n",
      "\u001b[37m\u001b[39;49;00m\n",
      "+    quote = \u001b[34mFalse\u001b[39;49;00m\u001b[37m\u001b[39;49;00m\n",
      "\u001b[37m\u001b[39;49;00m\n",
      "     out = \u001b[33m\"\u001b[39;49;00m\u001b[33m\"\u001b[39;49;00m\u001b[37m\u001b[39;49;00m\n",
      "@@ -\u001b[34m104\u001b[39;49;00m,\u001b[34m50\u001b[39;49;00m +\u001b[34m104\u001b[39;49;00m,\u001b[34m43\u001b[39;49;00m @@\u001b[37m\u001b[39;49;00m\n",
      "  s:\u001b[37m\u001b[39;49;00m\n",
      "\u001b[37m\u001b[39;49;00m\n",
      "-        \u001b[34mif\u001b[39;49;00m c == \u001b[33m'\u001b[39;49;00m\u001b[33m<\u001b[39;49;00m\u001b[33m'\u001b[39;49;00m:    \u001b[37m# start of markup\u001b[39;49;00m\u001b[37m\u001b[39;49;00m\n",
      "\u001b[37m\u001b[39;49;00m\n",
      "+        \u001b[34mif\u001b[39;49;00m c == \u001b[33m'\u001b[39;49;00m\u001b[33m<\u001b[39;49;00m\u001b[33m'\u001b[39;49;00m \u001b[35mand\u001b[39;49;00m \u001b[35mnot\u001b[39;49;00m quote:\u001b[37m\u001b[39;49;00m\n",
      "@@ -\u001b[34m162\u001b[39;49;00m,\u001b[34m48\u001b[39;49;00m +\u001b[34m162\u001b[39;49;00m,\u001b[34m45\u001b[39;49;00m @@\u001b[37m\u001b[39;49;00m\n",
      " rue\u001b[37m\u001b[39;49;00m\n",
      "\u001b[37m\u001b[39;49;00m\n",
      "-        \u001b[34melif\u001b[39;49;00m c == \u001b[33m'\u001b[39;49;00m\u001b[33m>\u001b[39;49;00m\u001b[33m'\u001b[39;49;00m:  \u001b[37m# end of markup\u001b[39;49;00m\u001b[37m\u001b[39;49;00m\n",
      "\u001b[37m\u001b[39;49;00m\n",
      "+        \u001b[34melif\u001b[39;49;00m c == \u001b[33m'\u001b[39;49;00m\u001b[33m>\u001b[39;49;00m\u001b[33m'\u001b[39;49;00m \u001b[35mand\u001b[39;49;00m \u001b[35mnot\u001b[39;49;00m quote:\u001b[37m\u001b[39;49;00m\n",
      "@@ -\u001b[34m215\u001b[39;49;00m,\u001b[34m24\u001b[39;49;00m +\u001b[34m215\u001b[39;49;00m,\u001b[34m97\u001b[39;49;00m @@\u001b[37m\u001b[39;49;00m\n",
      " tag = \u001b[34mFalse\u001b[39;49;00m\u001b[37m\u001b[39;49;00m\n",
      "\u001b[37m\u001b[39;49;00m\n",
      "+        \u001b[34melif\u001b[39;49;00m c == \u001b[33m'\u001b[39;49;00m\u001b[33m\"\u001b[39;49;00m\u001b[33m'\u001b[39;49;00m \u001b[35mor\u001b[39;49;00m c == \u001b[33m\"\u001b[39;49;00m\u001b[33m'\u001b[39;49;00m\u001b[33m\"\u001b[39;49;00m \u001b[35mand\u001b[39;49;00m tag:\u001b[37m\u001b[39;49;00m\n",
      "            quote = \u001b[35mnot\u001b[39;49;00m quote\u001b[37m\u001b[39;49;00m\n",
      "\u001b[37m\u001b[39;49;00m\n",
      "         \u001b[34melif\u001b[39;49;00m\u001b[37m\u001b[39;49;00m\n"
     ]
    }
   ],
   "source": [
    "for p in diff(source_pass, source_fail):\n",
    "    print_patch(p)"
   ]
  },
  {
   "cell_type": "markdown",
   "metadata": {
    "slideshow": {
     "slide_type": "slide"
    }
   },
   "source": [
    "## Changes and Bugs\n",
    "\n",
    "When you develop software, it is unlikely that you will be able to produce a fully working piece of software right from the beginning – hence the need for debugging. It is just as unlikely, though, that your software will stay _unchanged_ forever. Evolving requirements, the introduction of new technology, changes in the environment all induce software changes – and every such change brings the risk of introducing new bugs.\n",
    "\n",
    "To detect such bugs introduced by changes, systematic (and best automatic) _testing_, notably _regression testing_, can be a big help; in fact, the more comprehensive and the more automated your testing strategy is, the more it actually _enables_ evolving your software, because every new test lowers the risk of a change introducing a bug. Extensive testing is what enables agile development – and we're happy to point to our [sibling book on test generation](https://www.fuzzingbook.org) to give you some inspiration on how to do this.\n",
    "\n",
    "However, a test can only _detect_ failures, not _fix_ them. The more you change, the more you may need to fix, too. The good news is that there are a number of debugging techniques, manual and automated, that can actually _exploit_ the presence of older, working software versions to effectively narrow down the causes of failure in a new, failing software."
   ]
  },
  {
   "cell_type": "markdown",
   "metadata": {
    "button": false,
    "new_sheet": true,
    "run_control": {
     "read_only": false
    },
    "slideshow": {
     "slide_type": "slide"
    }
   },
   "source": [
    "## Leveraging Version Histories\n",
    "\n",
    "The fundamental prerequisite for exploiting older, working software versions is to have such older, working versions in the first place. If your software _always_ failed, then you will have to resort to conventional debugging. But if there is an older _working_ version, you can make use of it.\n",
    "\n",
    "We assume that you do have a _version repository_ such as git or SVN, which you use to organize software development and keep older software versions.  (If you do _not_ use version control for your project, you are in [debugging hell](Intro_Debugging.ipynb). Go and set it up now, and come back once you're done.)\n",
    "\n",
    "If you have a version history, an older working version, and a new failing version, your situation is roughly as depicted in this diagram:"
   ]
  },
  {
   "cell_type": "code",
   "execution_count": 5,
   "metadata": {
    "execution": {
     "iopub.execute_input": "2025-10-26T17:47:50.075753Z",
     "iopub.status.busy": "2025-10-26T17:47:50.075672Z",
     "iopub.status.idle": "2025-10-26T17:47:50.083353Z",
     "shell.execute_reply": "2025-10-26T17:47:50.083049Z"
    },
    "ipub": {
     "ignore": true
    },
    "slideshow": {
     "slide_type": "skip"
    }
   },
   "outputs": [],
   "source": [
    "from graphviz import Digraph, nohtml"
   ]
  },
  {
   "cell_type": "code",
   "execution_count": 6,
   "metadata": {
    "execution": {
     "iopub.execute_input": "2025-10-26T17:47:50.085054Z",
     "iopub.status.busy": "2025-10-26T17:47:50.084953Z",
     "iopub.status.idle": "2025-10-26T17:47:50.086703Z",
     "shell.execute_reply": "2025-10-26T17:47:50.086363Z"
    },
    "ipub": {
     "ignore": true
    },
    "slideshow": {
     "slide_type": "skip"
    }
   },
   "outputs": [],
   "source": [
    "from IPython.display import display"
   ]
  },
  {
   "cell_type": "code",
   "execution_count": 7,
   "metadata": {
    "execution": {
     "iopub.execute_input": "2025-10-26T17:47:50.088044Z",
     "iopub.status.busy": "2025-10-26T17:47:50.087962Z",
     "iopub.status.idle": "2025-10-26T17:47:50.089683Z",
     "shell.execute_reply": "2025-10-26T17:47:50.089463Z"
    },
    "ipub": {
     "ignore": true
    },
    "slideshow": {
     "slide_type": "subslide"
    },
    "tags": [
     "remove-input"
    ]
   },
   "outputs": [],
   "source": [
    "# ignore\n",
    "PASS = \"✔\"\n",
    "FAIL = \"✘\"\n",
    "UNRESOLVED = \"?\"\n",
    "\n",
    "PASS_COLOR = 'darkgreen'  # '#006400' # darkgreen\n",
    "FAIL_COLOR = 'red4'  # '#8B0000' # darkred\n",
    "\n",
    "STEP_COLOR = 'peachpuff'\n",
    "FONT_NAME = 'Raleway'"
   ]
  },
  {
   "cell_type": "code",
   "execution_count": 8,
   "metadata": {
    "execution": {
     "iopub.execute_input": "2025-10-26T17:47:50.090862Z",
     "iopub.status.busy": "2025-10-26T17:47:50.090780Z",
     "iopub.status.idle": "2025-10-26T17:47:50.092944Z",
     "shell.execute_reply": "2025-10-26T17:47:50.092572Z"
    },
    "ipub": {
     "ignore": true
    },
    "slideshow": {
     "slide_type": "subslide"
    },
    "tags": [
     "remove-input"
    ]
   },
   "outputs": [],
   "source": [
    "# ignore\n",
    "def graph(comment: str = \"default\") -> Digraph:\n",
    "    return Digraph(name='', comment=comment,\n",
    "                   graph_attr={\n",
    "                       'rankdir': 'LR',\n",
    "                   },\n",
    "                   node_attr={\n",
    "                       'style': 'filled',\n",
    "                       'shape': 'box',\n",
    "                       'fillcolor': STEP_COLOR,\n",
    "                       'fontname': FONT_NAME,\n",
    "                   },\n",
    "                   edge_attr={\n",
    "                       'fontname': FONT_NAME,\n",
    "                   })"
   ]
  },
  {
   "cell_type": "code",
   "execution_count": 9,
   "metadata": {
    "execution": {
     "iopub.execute_input": "2025-10-26T17:47:50.094900Z",
     "iopub.status.busy": "2025-10-26T17:47:50.094773Z",
     "iopub.status.idle": "2025-10-26T17:47:50.097258Z",
     "shell.execute_reply": "2025-10-26T17:47:50.096997Z"
    },
    "ipub": {
     "ignore": true
    },
    "slideshow": {
     "slide_type": "subslide"
    },
    "tags": [
     "remove-input"
    ]
   },
   "outputs": [],
   "source": [
    "# ignore\n",
    "VERSIONS = 8\n",
    "\n",
    "\n",
    "def display_versions(outcomes: Dict[int, str]) -> Digraph:\n",
    "    state_machine = graph()\n",
    "    for version_number in range(1, VERSIONS + 1):\n",
    "        id = f'v{version_number}'\n",
    "        label = f' {outcomes [version_number]}' \\\n",
    "            if version_number in outcomes else ''\n",
    "        state_machine.node(id, label=f'{id}{label}')\n",
    "        if version_number > 1:\n",
    "            last_id = f'v{version_number - 1}'\n",
    "            state_machine.edge(last_id, id)\n",
    "\n",
    "    display(state_machine)"
   ]
  },
  {
   "cell_type": "code",
   "execution_count": 10,
   "metadata": {
    "execution": {
     "iopub.execute_input": "2025-10-26T17:47:50.098764Z",
     "iopub.status.busy": "2025-10-26T17:47:50.098668Z",
     "iopub.status.idle": "2025-10-26T17:47:50.493217Z",
     "shell.execute_reply": "2025-10-26T17:47:50.492915Z"
    },
    "slideshow": {
     "slide_type": "subslide"
    },
    "tags": [
     "remove-input"
    ]
   },
   "outputs": [
    {
     "data": {
      "image/svg+xml": [
       "<?xml version=\"1.0\" encoding=\"UTF-8\" standalone=\"no\"?>\n",
       "<!DOCTYPE svg PUBLIC \"-//W3C//DTD SVG 1.1//EN\"\n",
       " \"http://www.w3.org/Graphics/SVG/1.1/DTD/svg11.dtd\">\n",
       "<!-- Generated by graphviz version 14.0.2 (20251019.1705)\n",
       " -->\n",
       "<!-- Pages: 1 -->\n",
       "<svg width=\"692pt\" height=\"44pt\"\n",
       " viewBox=\"0.00 0.00 692.00 44.00\" xmlns=\"http://www.w3.org/2000/svg\" xmlns:xlink=\"http://www.w3.org/1999/xlink\">\n",
       "<g id=\"graph0\" class=\"graph\" transform=\"scale(1 1) rotate(0) translate(4 40)\">\n",
       "<polygon fill=\"white\" stroke=\"none\" points=\"-4,4 -4,-40 688,-40 688,4 -4,4\"/>\n",
       "<!-- v1 -->\n",
       "<g id=\"node1\" class=\"node\">\n",
       "<title>v1</title>\n",
       "<polygon fill=\"peachpuff\" stroke=\"black\" points=\"54,-36 0,-36 0,0 54,0 54,-36\"/>\n",
       "<text xml:space=\"preserve\" text-anchor=\"middle\" x=\"27\" y=\"-13.32\" font-family=\"Raleway\" font-size=\"14.00\">v1 ✔</text>\n",
       "</g>\n",
       "<!-- v2 -->\n",
       "<g id=\"node2\" class=\"node\">\n",
       "<title>v2</title>\n",
       "<polygon fill=\"peachpuff\" stroke=\"black\" points=\"144,-36 90,-36 90,0 144,0 144,-36\"/>\n",
       "<text xml:space=\"preserve\" text-anchor=\"middle\" x=\"117\" y=\"-13.32\" font-family=\"Raleway\" font-size=\"14.00\">v2</text>\n",
       "</g>\n",
       "<!-- v1&#45;&gt;v2 -->\n",
       "<g id=\"edge1\" class=\"edge\">\n",
       "<title>v1&#45;&gt;v2</title>\n",
       "<path fill=\"none\" stroke=\"black\" d=\"M54.4,-18C61.89,-18 70.18,-18 78.2,-18\"/>\n",
       "<polygon fill=\"black\" stroke=\"black\" points=\"78.1,-21.5 88.1,-18 78.1,-14.5 78.1,-21.5\"/>\n",
       "</g>\n",
       "<!-- v3 -->\n",
       "<g id=\"node3\" class=\"node\">\n",
       "<title>v3</title>\n",
       "<polygon fill=\"peachpuff\" stroke=\"black\" points=\"234,-36 180,-36 180,0 234,0 234,-36\"/>\n",
       "<text xml:space=\"preserve\" text-anchor=\"middle\" x=\"207\" y=\"-13.32\" font-family=\"Raleway\" font-size=\"14.00\">v3</text>\n",
       "</g>\n",
       "<!-- v2&#45;&gt;v3 -->\n",
       "<g id=\"edge2\" class=\"edge\">\n",
       "<title>v2&#45;&gt;v3</title>\n",
       "<path fill=\"none\" stroke=\"black\" d=\"M144.4,-18C151.89,-18 160.18,-18 168.2,-18\"/>\n",
       "<polygon fill=\"black\" stroke=\"black\" points=\"168.1,-21.5 178.1,-18 168.1,-14.5 168.1,-21.5\"/>\n",
       "</g>\n",
       "<!-- v4 -->\n",
       "<g id=\"node4\" class=\"node\">\n",
       "<title>v4</title>\n",
       "<polygon fill=\"peachpuff\" stroke=\"black\" points=\"324,-36 270,-36 270,0 324,0 324,-36\"/>\n",
       "<text xml:space=\"preserve\" text-anchor=\"middle\" x=\"297\" y=\"-13.32\" font-family=\"Raleway\" font-size=\"14.00\">v4</text>\n",
       "</g>\n",
       "<!-- v3&#45;&gt;v4 -->\n",
       "<g id=\"edge3\" class=\"edge\">\n",
       "<title>v3&#45;&gt;v4</title>\n",
       "<path fill=\"none\" stroke=\"black\" d=\"M234.4,-18C241.89,-18 250.18,-18 258.2,-18\"/>\n",
       "<polygon fill=\"black\" stroke=\"black\" points=\"258.1,-21.5 268.1,-18 258.1,-14.5 258.1,-21.5\"/>\n",
       "</g>\n",
       "<!-- v5 -->\n",
       "<g id=\"node5\" class=\"node\">\n",
       "<title>v5</title>\n",
       "<polygon fill=\"peachpuff\" stroke=\"black\" points=\"414,-36 360,-36 360,0 414,0 414,-36\"/>\n",
       "<text xml:space=\"preserve\" text-anchor=\"middle\" x=\"387\" y=\"-13.32\" font-family=\"Raleway\" font-size=\"14.00\">v5</text>\n",
       "</g>\n",
       "<!-- v4&#45;&gt;v5 -->\n",
       "<g id=\"edge4\" class=\"edge\">\n",
       "<title>v4&#45;&gt;v5</title>\n",
       "<path fill=\"none\" stroke=\"black\" d=\"M324.4,-18C331.89,-18 340.18,-18 348.2,-18\"/>\n",
       "<polygon fill=\"black\" stroke=\"black\" points=\"348.1,-21.5 358.1,-18 348.1,-14.5 348.1,-21.5\"/>\n",
       "</g>\n",
       "<!-- v6 -->\n",
       "<g id=\"node6\" class=\"node\">\n",
       "<title>v6</title>\n",
       "<polygon fill=\"peachpuff\" stroke=\"black\" points=\"504,-36 450,-36 450,0 504,0 504,-36\"/>\n",
       "<text xml:space=\"preserve\" text-anchor=\"middle\" x=\"477\" y=\"-13.32\" font-family=\"Raleway\" font-size=\"14.00\">v6</text>\n",
       "</g>\n",
       "<!-- v5&#45;&gt;v6 -->\n",
       "<g id=\"edge5\" class=\"edge\">\n",
       "<title>v5&#45;&gt;v6</title>\n",
       "<path fill=\"none\" stroke=\"black\" d=\"M414.4,-18C421.89,-18 430.18,-18 438.2,-18\"/>\n",
       "<polygon fill=\"black\" stroke=\"black\" points=\"438.1,-21.5 448.1,-18 438.1,-14.5 438.1,-21.5\"/>\n",
       "</g>\n",
       "<!-- v7 -->\n",
       "<g id=\"node7\" class=\"node\">\n",
       "<title>v7</title>\n",
       "<polygon fill=\"peachpuff\" stroke=\"black\" points=\"594,-36 540,-36 540,0 594,0 594,-36\"/>\n",
       "<text xml:space=\"preserve\" text-anchor=\"middle\" x=\"567\" y=\"-13.32\" font-family=\"Raleway\" font-size=\"14.00\">v7</text>\n",
       "</g>\n",
       "<!-- v6&#45;&gt;v7 -->\n",
       "<g id=\"edge6\" class=\"edge\">\n",
       "<title>v6&#45;&gt;v7</title>\n",
       "<path fill=\"none\" stroke=\"black\" d=\"M504.4,-18C511.89,-18 520.18,-18 528.2,-18\"/>\n",
       "<polygon fill=\"black\" stroke=\"black\" points=\"528.1,-21.5 538.1,-18 528.1,-14.5 528.1,-21.5\"/>\n",
       "</g>\n",
       "<!-- v8 -->\n",
       "<g id=\"node8\" class=\"node\">\n",
       "<title>v8</title>\n",
       "<polygon fill=\"peachpuff\" stroke=\"black\" points=\"684,-36 630,-36 630,0 684,0 684,-36\"/>\n",
       "<text xml:space=\"preserve\" text-anchor=\"middle\" x=\"657\" y=\"-13.32\" font-family=\"Raleway\" font-size=\"14.00\">v8 ✘</text>\n",
       "</g>\n",
       "<!-- v7&#45;&gt;v8 -->\n",
       "<g id=\"edge7\" class=\"edge\">\n",
       "<title>v7&#45;&gt;v8</title>\n",
       "<path fill=\"none\" stroke=\"black\" d=\"M594.4,-18C601.89,-18 610.18,-18 618.2,-18\"/>\n",
       "<polygon fill=\"black\" stroke=\"black\" points=\"618.1,-21.5 628.1,-18 618.1,-14.5 618.1,-21.5\"/>\n",
       "</g>\n",
       "</g>\n",
       "</svg>\n"
      ],
      "text/plain": [
       "<graphviz.graphs.Digraph at 0x10d9c3e00>"
      ]
     },
     "metadata": {},
     "output_type": "display_data"
    }
   ],
   "source": [
    "# ignore\n",
    "display_versions({1: PASS, 8: FAIL})"
   ]
  },
  {
   "cell_type": "markdown",
   "metadata": {
    "slideshow": {
     "slide_type": "subslide"
    }
   },
   "source": [
    "Somewhere between the old version \"v1\" (\"yesterday\") and the current version \"v8\" (\"today\"), the software stopped working. But when exactly? And which change was it that caused the failure?\n",
    "\n",
    "You may think that this is an easy task: We simply manually test one version after another, thus determining the exact version that first failed. However, \n",
    "\n",
    "* this can take a long time (notably in the presence of dozens or even hundreds of versions);\n",
    "* this may still leave you with _dozens of changes_ applied from one version to another; and\n",
    "* this is actually a task that can be _fully automated_.\n",
    "\n",
    "And these \"automated\" debugging techniques are what we explore in this chapter."
   ]
  },
  {
   "cell_type": "markdown",
   "metadata": {
    "button": false,
    "new_sheet": true,
    "run_control": {
     "read_only": false
    },
    "slideshow": {
     "slide_type": "slide"
    }
   },
   "source": [
    "## An Example Version History\n",
    "\n",
    "As our ongoing example, we start with creating a little version history, using the git version management system. We follow the evolution of the `remove_html_markup()` versions from [the introduction to debugging](Intro_Debugging.ipynb) and [the chapter on assertions](Assertions.ipynb)."
   ]
  },
  {
   "cell_type": "markdown",
   "metadata": {
    "slideshow": {
     "slide_type": "subslide"
    }
   },
   "source": [
    "### Create a Working Directory\n",
    "\n",
    "We start with creating a working folder (aptly named `my_project`) in which we will do our work. (Note: should you have a folder of that name, it will be deleted and re-initialized)."
   ]
  },
  {
   "cell_type": "code",
   "execution_count": 11,
   "metadata": {
    "execution": {
     "iopub.execute_input": "2025-10-26T17:47:50.495008Z",
     "iopub.status.busy": "2025-10-26T17:47:50.494857Z",
     "iopub.status.idle": "2025-10-26T17:47:50.496800Z",
     "shell.execute_reply": "2025-10-26T17:47:50.496531Z"
    },
    "slideshow": {
     "slide_type": "fragment"
    }
   },
   "outputs": [],
   "source": [
    "PROJECT = 'my_project'"
   ]
  },
  {
   "cell_type": "code",
   "execution_count": 12,
   "metadata": {
    "execution": {
     "iopub.execute_input": "2025-10-26T17:47:50.498545Z",
     "iopub.status.busy": "2025-10-26T17:47:50.498412Z",
     "iopub.status.idle": "2025-10-26T17:47:50.500076Z",
     "shell.execute_reply": "2025-10-26T17:47:50.499824Z"
    },
    "slideshow": {
     "slide_type": "skip"
    }
   },
   "outputs": [],
   "source": [
    "import os\n",
    "import shutil"
   ]
  },
  {
   "cell_type": "code",
   "execution_count": 13,
   "metadata": {
    "execution": {
     "iopub.execute_input": "2025-10-26T17:47:50.501282Z",
     "iopub.status.busy": "2025-10-26T17:47:50.501203Z",
     "iopub.status.idle": "2025-10-26T17:47:50.510797Z",
     "shell.execute_reply": "2025-10-26T17:47:50.510423Z"
    },
    "slideshow": {
     "slide_type": "fragment"
    }
   },
   "outputs": [],
   "source": [
    "try:\n",
    "    shutil.rmtree(PROJECT)\n",
    "except FileNotFoundError:\n",
    "    pass\n",
    "os.mkdir(PROJECT)"
   ]
  },
  {
   "cell_type": "markdown",
   "metadata": {
    "slideshow": {
     "slide_type": "fragment"
    }
   },
   "source": [
    "We choose the project folder as our working directory. Any file we create will be created in that folder."
   ]
  },
  {
   "cell_type": "code",
   "execution_count": 14,
   "metadata": {
    "execution": {
     "iopub.execute_input": "2025-10-26T17:47:50.512769Z",
     "iopub.status.busy": "2025-10-26T17:47:50.512642Z",
     "iopub.status.idle": "2025-10-26T17:47:50.514297Z",
     "shell.execute_reply": "2025-10-26T17:47:50.514007Z"
    },
    "slideshow": {
     "slide_type": "skip"
    }
   },
   "outputs": [],
   "source": [
    "import sys"
   ]
  },
  {
   "cell_type": "code",
   "execution_count": 15,
   "metadata": {
    "execution": {
     "iopub.execute_input": "2025-10-26T17:47:50.515600Z",
     "iopub.status.busy": "2025-10-26T17:47:50.515511Z",
     "iopub.status.idle": "2025-10-26T17:47:50.517382Z",
     "shell.execute_reply": "2025-10-26T17:47:50.517057Z"
    },
    "slideshow": {
     "slide_type": "subslide"
    }
   },
   "outputs": [],
   "source": [
    "sys.path.append(os.getcwd())\n",
    "os.chdir(PROJECT)"
   ]
  },
  {
   "cell_type": "markdown",
   "metadata": {
    "slideshow": {
     "slide_type": "subslide"
    }
   },
   "source": [
    "### Initialize Git\n",
    "\n",
    "We set up a local Git repository in our local project folder."
   ]
  },
  {
   "cell_type": "code",
   "execution_count": 16,
   "metadata": {
    "execution": {
     "iopub.execute_input": "2025-10-26T17:47:50.518821Z",
     "iopub.status.busy": "2025-10-26T17:47:50.518735Z",
     "iopub.status.idle": "2025-10-26T17:47:50.660714Z",
     "shell.execute_reply": "2025-10-26T17:47:50.660273Z"
    },
    "slideshow": {
     "slide_type": "subslide"
    }
   },
   "outputs": [
    {
     "name": "stdout",
     "output_type": "stream",
     "text": [
      "\u001b[33mhint: Using 'master' as the name for the initial branch. This default branch name\u001b[m\r\n",
      "\u001b[33mhint: is subject to change. To configure the initial branch name to use in all\u001b[m\r\n",
      "\u001b[33mhint: of your new repositories, which will suppress this warning, call:\u001b[m\r\n",
      "\u001b[33mhint:\u001b[m\r\n",
      "\u001b[33mhint: \tgit config --global init.defaultBranch <name>\u001b[m\r\n",
      "\u001b[33mhint:\u001b[m\r\n",
      "\u001b[33mhint: Names commonly chosen instead of 'master' are 'main', 'trunk' and\u001b[m\r\n",
      "\u001b[33mhint: 'development'. The just-created branch can be renamed via this command:\u001b[m\r\n",
      "\u001b[33mhint:\u001b[m\r\n",
      "\u001b[33mhint: \tgit branch -m <name>\u001b[m\r\n",
      "Initialized empty Git repository in /Users/zeller/Projects/debuggingbook/notebooks/my_project/.git/\r\n"
     ]
    }
   ],
   "source": [
    "!git init"
   ]
  },
  {
   "cell_type": "code",
   "execution_count": 17,
   "metadata": {
    "execution": {
     "iopub.execute_input": "2025-10-26T17:47:50.662819Z",
     "iopub.status.busy": "2025-10-26T17:47:50.662672Z",
     "iopub.status.idle": "2025-10-26T17:47:50.791517Z",
     "shell.execute_reply": "2025-10-26T17:47:50.790405Z"
    },
    "slideshow": {
     "slide_type": "fragment"
    }
   },
   "outputs": [],
   "source": [
    "!git config user.name \"Demo User\""
   ]
  },
  {
   "cell_type": "code",
   "execution_count": 18,
   "metadata": {
    "execution": {
     "iopub.execute_input": "2025-10-26T17:47:50.796681Z",
     "iopub.status.busy": "2025-10-26T17:47:50.796233Z",
     "iopub.status.idle": "2025-10-26T17:47:50.925641Z",
     "shell.execute_reply": "2025-10-26T17:47:50.924719Z"
    },
    "slideshow": {
     "slide_type": "fragment"
    }
   },
   "outputs": [],
   "source": [
    "!git config user.email \"demo-user@example.com\""
   ]
  },
  {
   "cell_type": "code",
   "execution_count": 19,
   "metadata": {
    "execution": {
     "iopub.execute_input": "2025-10-26T17:47:50.929543Z",
     "iopub.status.busy": "2025-10-26T17:47:50.929249Z",
     "iopub.status.idle": "2025-10-26T17:47:51.074685Z",
     "shell.execute_reply": "2025-10-26T17:47:51.073799Z"
    },
    "slideshow": {
     "slide_type": "subslide"
    }
   },
   "outputs": [],
   "source": [
    "!git config advice.detachedHead False"
   ]
  },
  {
   "cell_type": "markdown",
   "metadata": {
    "slideshow": {
     "slide_type": "fragment"
    }
   },
   "source": [
    "We are now ready to commit our first version. Here's the initial definition of `remove_html_markup()` from [the introduction to debugging](Intro_Debugging.ipynb)."
   ]
  },
  {
   "cell_type": "code",
   "execution_count": 20,
   "metadata": {
    "execution": {
     "iopub.execute_input": "2025-10-26T17:47:51.084890Z",
     "iopub.status.busy": "2025-10-26T17:47:51.084215Z",
     "iopub.status.idle": "2025-10-26T17:47:51.090719Z",
     "shell.execute_reply": "2025-10-26T17:47:51.089988Z"
    },
    "slideshow": {
     "slide_type": "subslide"
    }
   },
   "outputs": [],
   "source": [
    "def remove_html_markup(s):  # type: ignore\n",
    "    tag = False\n",
    "    out = \"\"\n",
    "\n",
    "    for c in s:\n",
    "        if c == '<':    # start of markup\n",
    "            tag = True\n",
    "        elif c == '>':  # end of markup\n",
    "            tag = False\n",
    "        elif not tag:\n",
    "            out = out + c\n",
    "\n",
    "    return out"
   ]
  },
  {
   "cell_type": "markdown",
   "metadata": {
    "slideshow": {
     "slide_type": "subslide"
    }
   },
   "source": [
    "The function `write_source()` takes a function `fun` and writes its source code into a file of the same name – in our case, `remove_html_markup.py`:"
   ]
  },
  {
   "cell_type": "code",
   "execution_count": 21,
   "metadata": {
    "execution": {
     "iopub.execute_input": "2025-10-26T17:47:51.097987Z",
     "iopub.status.busy": "2025-10-26T17:47:51.097667Z",
     "iopub.status.idle": "2025-10-26T17:47:51.100031Z",
     "shell.execute_reply": "2025-10-26T17:47:51.099745Z"
    },
    "slideshow": {
     "slide_type": "skip"
    }
   },
   "outputs": [],
   "source": [
    "import inspect"
   ]
  },
  {
   "cell_type": "code",
   "execution_count": 22,
   "metadata": {
    "execution": {
     "iopub.execute_input": "2025-10-26T17:47:51.101326Z",
     "iopub.status.busy": "2025-10-26T17:47:51.101231Z",
     "iopub.status.idle": "2025-10-26T17:47:51.102967Z",
     "shell.execute_reply": "2025-10-26T17:47:51.102709Z"
    },
    "slideshow": {
     "slide_type": "fragment"
    }
   },
   "outputs": [],
   "source": [
    "def write_source(fun: Callable, filename: Optional[str] = None) -> None:\n",
    "    if filename is None:\n",
    "        filename = fun.__name__ + '.py'\n",
    "    with open(filename, 'w') as fh:\n",
    "        fh.write(inspect.getsource(fun))"
   ]
  },
  {
   "cell_type": "markdown",
   "metadata": {
    "slideshow": {
     "slide_type": "fragment"
    }
   },
   "source": [
    "Here is `write_source()` in action:"
   ]
  },
  {
   "cell_type": "code",
   "execution_count": 23,
   "metadata": {
    "execution": {
     "iopub.execute_input": "2025-10-26T17:47:51.104330Z",
     "iopub.status.busy": "2025-10-26T17:47:51.104236Z",
     "iopub.status.idle": "2025-10-26T17:47:51.106168Z",
     "shell.execute_reply": "2025-10-26T17:47:51.105848Z"
    },
    "slideshow": {
     "slide_type": "fragment"
    }
   },
   "outputs": [],
   "source": [
    "write_source(remove_html_markup)"
   ]
  },
  {
   "cell_type": "code",
   "execution_count": 24,
   "metadata": {
    "execution": {
     "iopub.execute_input": "2025-10-26T17:47:51.107597Z",
     "iopub.status.busy": "2025-10-26T17:47:51.107488Z",
     "iopub.status.idle": "2025-10-26T17:47:51.171450Z",
     "shell.execute_reply": "2025-10-26T17:47:51.171097Z"
    },
    "slideshow": {
     "slide_type": "subslide"
    }
   },
   "outputs": [
    {
     "name": "stdout",
     "output_type": "stream",
     "text": [
      "\u001b[34mdef\u001b[39;49;00m\u001b[37m \u001b[39;49;00m\u001b[32mremove_html_markup\u001b[39;49;00m(s):  \u001b[37m# type: ignore\u001b[39;49;00m\u001b[37m\u001b[39;49;00m\n",
      "    tag = \u001b[34mFalse\u001b[39;49;00m\u001b[37m\u001b[39;49;00m\n",
      "    out = \u001b[33m\"\u001b[39;49;00m\u001b[33m\"\u001b[39;49;00m\u001b[37m\u001b[39;49;00m\n",
      "\u001b[37m\u001b[39;49;00m\n",
      "    \u001b[34mfor\u001b[39;49;00m c \u001b[35min\u001b[39;49;00m s:\u001b[37m\u001b[39;49;00m\n",
      "        \u001b[34mif\u001b[39;49;00m c == \u001b[33m'\u001b[39;49;00m\u001b[33m<\u001b[39;49;00m\u001b[33m'\u001b[39;49;00m:    \u001b[37m# start of markup\u001b[39;49;00m\u001b[37m\u001b[39;49;00m\n",
      "            tag = \u001b[34mTrue\u001b[39;49;00m\u001b[37m\u001b[39;49;00m\n",
      "        \u001b[34melif\u001b[39;49;00m c == \u001b[33m'\u001b[39;49;00m\u001b[33m>\u001b[39;49;00m\u001b[33m'\u001b[39;49;00m:  \u001b[37m# end of markup\u001b[39;49;00m\u001b[37m\u001b[39;49;00m\n",
      "            tag = \u001b[34mFalse\u001b[39;49;00m\u001b[37m\u001b[39;49;00m\n",
      "        \u001b[34melif\u001b[39;49;00m \u001b[35mnot\u001b[39;49;00m tag:\u001b[37m\u001b[39;49;00m\n",
      "            out = out + c\u001b[37m\u001b[39;49;00m\n",
      "\u001b[37m\u001b[39;49;00m\n",
      "    \u001b[34mreturn\u001b[39;49;00m out\u001b[37m\u001b[39;49;00m"
     ]
    }
   ],
   "source": [
    "print_file('remove_html_markup.py')"
   ]
  },
  {
   "cell_type": "markdown",
   "metadata": {
    "slideshow": {
     "slide_type": "subslide"
    }
   },
   "source": [
    "With `git add` and `git commit`, we add the file to our version repository. The `-m` option defines a _message_ for the commit; this is how we (and potential co-workers) can later retrieve information on what has changed, and why. (The messages we use here are deliberately kept short.)"
   ]
  },
  {
   "cell_type": "code",
   "execution_count": 25,
   "metadata": {
    "execution": {
     "iopub.execute_input": "2025-10-26T17:47:51.173266Z",
     "iopub.status.busy": "2025-10-26T17:47:51.173159Z",
     "iopub.status.idle": "2025-10-26T17:47:51.300706Z",
     "shell.execute_reply": "2025-10-26T17:47:51.300227Z"
    },
    "slideshow": {
     "slide_type": "fragment"
    }
   },
   "outputs": [],
   "source": [
    "!git add remove_html_markup.py"
   ]
  },
  {
   "cell_type": "code",
   "execution_count": 26,
   "metadata": {
    "execution": {
     "iopub.execute_input": "2025-10-26T17:47:51.302858Z",
     "iopub.status.busy": "2025-10-26T17:47:51.302703Z",
     "iopub.status.idle": "2025-10-26T17:47:51.442053Z",
     "shell.execute_reply": "2025-10-26T17:47:51.441426Z"
    },
    "slideshow": {
     "slide_type": "fragment"
    }
   },
   "outputs": [
    {
     "name": "stdout",
     "output_type": "stream",
     "text": [
      "[master (root-commit) 033b881] First version\r\n",
      " 1 file changed, 13 insertions(+)\r\n",
      " create mode 100644 remove_html_markup.py\r\n"
     ]
    }
   ],
   "source": [
    "!git commit -m \"First version\""
   ]
  },
  {
   "cell_type": "markdown",
   "metadata": {
    "slideshow": {
     "slide_type": "fragment"
    }
   },
   "source": [
    "Let us now take the second (buggy) version of `remove_html_markup()` and again write this into our file, thus simulating changing the source code from the first version to the new version:"
   ]
  },
  {
   "cell_type": "code",
   "execution_count": 27,
   "metadata": {
    "execution": {
     "iopub.execute_input": "2025-10-26T17:47:51.444096Z",
     "iopub.status.busy": "2025-10-26T17:47:51.443956Z",
     "iopub.status.idle": "2025-10-26T17:47:51.446273Z",
     "shell.execute_reply": "2025-10-26T17:47:51.446031Z"
    },
    "slideshow": {
     "slide_type": "subslide"
    }
   },
   "outputs": [],
   "source": [
    "def remove_html_markup(s):  # type: ignore\n",
    "    tag = False\n",
    "    quote = False\n",
    "    out = \"\"\n",
    "\n",
    "    for c in s:\n",
    "        if c == '<' and not quote:\n",
    "            tag = True\n",
    "        elif c == '>' and not quote:\n",
    "            tag = False\n",
    "        elif c == '\"' or c == \"'\" and tag:\n",
    "            quote = not quote\n",
    "        elif not tag:\n",
    "            out = out + c\n",
    "\n",
    "    return out"
   ]
  },
  {
   "cell_type": "code",
   "execution_count": 28,
   "metadata": {
    "execution": {
     "iopub.execute_input": "2025-10-26T17:47:51.447594Z",
     "iopub.status.busy": "2025-10-26T17:47:51.447498Z",
     "iopub.status.idle": "2025-10-26T17:47:51.449401Z",
     "shell.execute_reply": "2025-10-26T17:47:51.449190Z"
    },
    "slideshow": {
     "slide_type": "subslide"
    }
   },
   "outputs": [],
   "source": [
    "write_source(remove_html_markup)"
   ]
  },
  {
   "cell_type": "markdown",
   "metadata": {
    "slideshow": {
     "slide_type": "fragment"
    }
   },
   "source": [
    "We can inspect the differences between the previously committed version and the current one. Lines prefixed with `+` are added; lines prefixed with `-` are deleted."
   ]
  },
  {
   "cell_type": "code",
   "execution_count": 29,
   "metadata": {
    "execution": {
     "iopub.execute_input": "2025-10-26T17:47:51.450716Z",
     "iopub.status.busy": "2025-10-26T17:47:51.450616Z",
     "iopub.status.idle": "2025-10-26T17:47:51.576780Z",
     "shell.execute_reply": "2025-10-26T17:47:51.575754Z"
    },
    "slideshow": {
     "slide_type": "subslide"
    }
   },
   "outputs": [
    {
     "name": "stdout",
     "output_type": "stream",
     "text": [
      "\u001b[1mdiff --git a/remove_html_markup.py b/remove_html_markup.py\u001b[m\r\n",
      "\u001b[1mindex 4999dc0..768bae9 100644\u001b[m\r\n",
      "\u001b[1m--- a/remove_html_markup.py\u001b[m\r\n",
      "\u001b[1m+++ b/remove_html_markup.py\u001b[m\r\n",
      "\u001b[36m@@ -1,12 +1,15 @@\u001b[m\r\n",
      " def remove_html_markup(s):  # type: ignore\u001b[m\r\n",
      "     tag = False\u001b[m\r\n",
      "\u001b[32m+\u001b[m\u001b[32m    quote = False\u001b[m\r\n",
      "     out = \"\"\u001b[m\r\n",
      " \u001b[m\r\n",
      "     for c in s:\u001b[m\r\n",
      "\u001b[31m-        if c == '<':    # start of markup\u001b[m\r\n",
      "\u001b[32m+\u001b[m\u001b[32m        if c == '<' and not quote:\u001b[m\r\n",
      "             tag = True\u001b[m\r\n",
      "\u001b[31m-        elif c == '>':  # end of markup\u001b[m\r\n",
      "\u001b[32m+\u001b[m\u001b[32m        elif c == '>' and not quote:\u001b[m\r\n",
      "             tag = False\u001b[m\r\n",
      "\u001b[32m+\u001b[m\u001b[32m        elif c == '\"' or c == \"'\" and tag:\u001b[m\r\n",
      "\u001b[32m+\u001b[m\u001b[32m            quote = not quote\u001b[m\r\n",
      "         elif not tag:\u001b[m\r\n",
      "             out = out + c\u001b[m\r\n",
      " \u001b[m\r\n"
     ]
    }
   ],
   "source": [
    "!git diff remove_html_markup.py"
   ]
  },
  {
   "cell_type": "markdown",
   "metadata": {
    "slideshow": {
     "slide_type": "subslide"
    }
   },
   "source": [
    "We can now commit this second version, adding it to our repository."
   ]
  },
  {
   "cell_type": "code",
   "execution_count": 30,
   "metadata": {
    "execution": {
     "iopub.execute_input": "2025-10-26T17:47:51.581003Z",
     "iopub.status.busy": "2025-10-26T17:47:51.580633Z",
     "iopub.status.idle": "2025-10-26T17:47:51.744784Z",
     "shell.execute_reply": "2025-10-26T17:47:51.743310Z"
    },
    "slideshow": {
     "slide_type": "fragment"
    }
   },
   "outputs": [
    {
     "name": "stdout",
     "output_type": "stream",
     "text": [
      "[master 1387f38] Second version\r\n",
      " 1 file changed, 5 insertions(+), 2 deletions(-)\r\n"
     ]
    }
   ],
   "source": [
    "!git commit -m \"Second version\" remove_html_markup.py"
   ]
  },
  {
   "cell_type": "markdown",
   "metadata": {
    "slideshow": {
     "slide_type": "fragment"
    }
   },
   "source": [
    "We create a few more revisions."
   ]
  },
  {
   "cell_type": "markdown",
   "metadata": {
    "slideshow": {
     "slide_type": "subslide"
    }
   },
   "source": [
    "### Excursion: Adding More Revisions"
   ]
  },
  {
   "cell_type": "markdown",
   "metadata": {
    "slideshow": {
     "slide_type": "fragment"
    }
   },
   "source": [
    "We use the additional definitions for `remove_html_markup()` from [the introduction to debugging](Intro_Debugging.ipynb) as additional versions.\n",
    "\n",
    "These also include \"debugging\" versions with enabled logging statements, as well as \"tentative\" versions that may or may not fix the discussed issues. In a real version history, such transient versions would typically not show up – or at least not be made available to co-workers."
   ]
  },
  {
   "cell_type": "code",
   "execution_count": 31,
   "metadata": {
    "execution": {
     "iopub.execute_input": "2025-10-26T17:47:51.750367Z",
     "iopub.status.busy": "2025-10-26T17:47:51.750015Z",
     "iopub.status.idle": "2025-10-26T17:47:51.757145Z",
     "shell.execute_reply": "2025-10-26T17:47:51.755903Z"
    },
    "slideshow": {
     "slide_type": "subslide"
    }
   },
   "outputs": [],
   "source": [
    "def remove_html_markup(s):  # type: ignore\n",
    "    tag = False\n",
    "    quote = False\n",
    "    out = \"\"\n",
    "\n",
    "    for c in s:\n",
    "        print(\"c =\", repr(c), \"tag =\", tag, \"quote =\", quote)\n",
    "\n",
    "        if c == '<' and not quote:\n",
    "            tag = True\n",
    "        elif c == '>' and not quote:\n",
    "            tag = False\n",
    "        elif c == '\"' or c == \"'\" and tag:\n",
    "            quote = not quote\n",
    "        elif not tag:\n",
    "            out = out + c\n",
    "\n",
    "    return out"
   ]
  },
  {
   "cell_type": "code",
   "execution_count": 32,
   "metadata": {
    "execution": {
     "iopub.execute_input": "2025-10-26T17:47:51.761967Z",
     "iopub.status.busy": "2025-10-26T17:47:51.761395Z",
     "iopub.status.idle": "2025-10-26T17:47:51.766883Z",
     "shell.execute_reply": "2025-10-26T17:47:51.766553Z"
    },
    "slideshow": {
     "slide_type": "subslide"
    }
   },
   "outputs": [],
   "source": [
    "write_source(remove_html_markup)"
   ]
  },
  {
   "cell_type": "code",
   "execution_count": 33,
   "metadata": {
    "execution": {
     "iopub.execute_input": "2025-10-26T17:47:51.768256Z",
     "iopub.status.busy": "2025-10-26T17:47:51.768169Z",
     "iopub.status.idle": "2025-10-26T17:47:51.903329Z",
     "shell.execute_reply": "2025-10-26T17:47:51.902497Z"
    },
    "slideshow": {
     "slide_type": "fragment"
    }
   },
   "outputs": [
    {
     "name": "stdout",
     "output_type": "stream",
     "text": [
      "[master 817a3b5] Third version (with debugging output)\r\n",
      " 1 file changed, 2 insertions(+)\r\n"
     ]
    }
   ],
   "source": [
    "!git commit -m \"Third version (with debugging output)\" remove_html_markup.py"
   ]
  },
  {
   "cell_type": "code",
   "execution_count": 34,
   "metadata": {
    "execution": {
     "iopub.execute_input": "2025-10-26T17:47:51.908029Z",
     "iopub.status.busy": "2025-10-26T17:47:51.907708Z",
     "iopub.status.idle": "2025-10-26T17:47:51.913315Z",
     "shell.execute_reply": "2025-10-26T17:47:51.912120Z"
    },
    "slideshow": {
     "slide_type": "subslide"
    }
   },
   "outputs": [],
   "source": [
    "def remove_html_markup(s):  # type: ignore\n",
    "    tag = False\n",
    "    quote = False\n",
    "    out = \"\"\n",
    "\n",
    "    for c in s:\n",
    "        if c == '<':  # and not quote:\n",
    "            tag = True\n",
    "        elif c == '>':  # and not quote:\n",
    "            tag = False\n",
    "        elif c == '\"' or c == \"'\" and tag:\n",
    "            quote = not quote\n",
    "        elif not tag:\n",
    "            out = out + c\n",
    "\n",
    "    return out"
   ]
  },
  {
   "cell_type": "code",
   "execution_count": 35,
   "metadata": {
    "execution": {
     "iopub.execute_input": "2025-10-26T17:47:51.917220Z",
     "iopub.status.busy": "2025-10-26T17:47:51.916858Z",
     "iopub.status.idle": "2025-10-26T17:47:51.921043Z",
     "shell.execute_reply": "2025-10-26T17:47:51.920322Z"
    },
    "slideshow": {
     "slide_type": "subslide"
    }
   },
   "outputs": [],
   "source": [
    "write_source(remove_html_markup)"
   ]
  },
  {
   "cell_type": "code",
   "execution_count": 36,
   "metadata": {
    "execution": {
     "iopub.execute_input": "2025-10-26T17:47:51.924864Z",
     "iopub.status.busy": "2025-10-26T17:47:51.924399Z",
     "iopub.status.idle": "2025-10-26T17:47:52.074605Z",
     "shell.execute_reply": "2025-10-26T17:47:52.071125Z"
    },
    "slideshow": {
     "slide_type": "fragment"
    }
   },
   "outputs": [
    {
     "name": "stdout",
     "output_type": "stream",
     "text": [
      "[master e85967e] Fourth version (clueless)\r\n",
      " 1 file changed, 2 insertions(+), 4 deletions(-)\r\n"
     ]
    }
   ],
   "source": [
    "!git commit -m \"Fourth version (clueless)\" remove_html_markup.py"
   ]
  },
  {
   "cell_type": "code",
   "execution_count": 37,
   "metadata": {
    "execution": {
     "iopub.execute_input": "2025-10-26T17:47:52.080138Z",
     "iopub.status.busy": "2025-10-26T17:47:52.079669Z",
     "iopub.status.idle": "2025-10-26T17:47:52.087453Z",
     "shell.execute_reply": "2025-10-26T17:47:52.086605Z"
    },
    "slideshow": {
     "slide_type": "subslide"
    }
   },
   "outputs": [],
   "source": [
    "def remove_html_markup(s):  # type: ignore\n",
    "    tag = False\n",
    "    quote = False\n",
    "    out = \"\"\n",
    "\n",
    "    for c in s:\n",
    "        assert not tag  # <=== Just added\n",
    "\n",
    "        if c == '<' and not quote:\n",
    "            tag = True\n",
    "        elif c == '>' and not quote:\n",
    "            tag = False\n",
    "        elif c == '\"' or c == \"'\" and tag:\n",
    "            quote = not quote\n",
    "        elif not tag:\n",
    "            out = out + c\n",
    "\n",
    "    return out"
   ]
  },
  {
   "cell_type": "code",
   "execution_count": 38,
   "metadata": {
    "execution": {
     "iopub.execute_input": "2025-10-26T17:47:52.091240Z",
     "iopub.status.busy": "2025-10-26T17:47:52.091108Z",
     "iopub.status.idle": "2025-10-26T17:47:52.093295Z",
     "shell.execute_reply": "2025-10-26T17:47:52.092992Z"
    },
    "slideshow": {
     "slide_type": "subslide"
    }
   },
   "outputs": [],
   "source": [
    "write_source(remove_html_markup)"
   ]
  },
  {
   "cell_type": "code",
   "execution_count": 39,
   "metadata": {
    "execution": {
     "iopub.execute_input": "2025-10-26T17:47:52.094784Z",
     "iopub.status.busy": "2025-10-26T17:47:52.094672Z",
     "iopub.status.idle": "2025-10-26T17:47:52.247879Z",
     "shell.execute_reply": "2025-10-26T17:47:52.246079Z"
    },
    "slideshow": {
     "slide_type": "fragment"
    }
   },
   "outputs": [
    {
     "name": "stdout",
     "output_type": "stream",
     "text": [
      "[master 8682efe] Fifth version (with assert)\r\n",
      " 1 file changed, 4 insertions(+), 2 deletions(-)\r\n"
     ]
    }
   ],
   "source": [
    "!git commit -m \"Fifth version (with assert)\" remove_html_markup.py"
   ]
  },
  {
   "cell_type": "code",
   "execution_count": 40,
   "metadata": {
    "execution": {
     "iopub.execute_input": "2025-10-26T17:47:52.256648Z",
     "iopub.status.busy": "2025-10-26T17:47:52.256333Z",
     "iopub.status.idle": "2025-10-26T17:47:52.262199Z",
     "shell.execute_reply": "2025-10-26T17:47:52.261273Z"
    },
    "slideshow": {
     "slide_type": "subslide"
    }
   },
   "outputs": [],
   "source": [
    "def remove_html_markup(s):  # type: ignore\n",
    "    tag = False\n",
    "    quote = False\n",
    "    out = \"\"\n",
    "\n",
    "    for c in s:\n",
    "        if c == '<' and not quote:\n",
    "            tag = True\n",
    "        elif c == '>' and not quote:\n",
    "            tag = False\n",
    "        elif c == '\"' or c == \"'\" and tag:\n",
    "            assert False  # <=== Just added\n",
    "            quote = not quote\n",
    "        elif not tag:\n",
    "            out = out + c\n",
    "\n",
    "    return out"
   ]
  },
  {
   "cell_type": "code",
   "execution_count": 41,
   "metadata": {
    "execution": {
     "iopub.execute_input": "2025-10-26T17:47:52.265639Z",
     "iopub.status.busy": "2025-10-26T17:47:52.265302Z",
     "iopub.status.idle": "2025-10-26T17:47:52.269183Z",
     "shell.execute_reply": "2025-10-26T17:47:52.268877Z"
    },
    "slideshow": {
     "slide_type": "subslide"
    }
   },
   "outputs": [],
   "source": [
    "write_source(remove_html_markup)"
   ]
  },
  {
   "cell_type": "code",
   "execution_count": 42,
   "metadata": {
    "execution": {
     "iopub.execute_input": "2025-10-26T17:47:52.270471Z",
     "iopub.status.busy": "2025-10-26T17:47:52.270368Z",
     "iopub.status.idle": "2025-10-26T17:47:52.411709Z",
     "shell.execute_reply": "2025-10-26T17:47:52.410845Z"
    },
    "slideshow": {
     "slide_type": "fragment"
    }
   },
   "outputs": [
    {
     "name": "stdout",
     "output_type": "stream",
     "text": [
      "[master 5a6d50c] Sixth version (with another assert)\r\n",
      " 1 file changed, 1 insertion(+), 2 deletions(-)\r\n"
     ]
    }
   ],
   "source": [
    "!git commit -m \"Sixth version (with another assert)\" remove_html_markup.py"
   ]
  },
  {
   "cell_type": "code",
   "execution_count": 43,
   "metadata": {
    "execution": {
     "iopub.execute_input": "2025-10-26T17:47:52.415659Z",
     "iopub.status.busy": "2025-10-26T17:47:52.415308Z",
     "iopub.status.idle": "2025-10-26T17:47:52.425762Z",
     "shell.execute_reply": "2025-10-26T17:47:52.419785Z"
    },
    "slideshow": {
     "slide_type": "subslide"
    }
   },
   "outputs": [],
   "source": [
    "def remove_html_markup(s):  # type: ignore\n",
    "    tag = False\n",
    "    quote = False\n",
    "    out = \"\"\n",
    "\n",
    "    for c in s:\n",
    "        if c == '<' and not quote:\n",
    "            tag = True\n",
    "        elif c == '>' and not quote:\n",
    "            tag = False\n",
    "        elif (c == '\"' or c == \"'\") and tag:  # <-- FIX\n",
    "            quote = not quote\n",
    "        elif not tag:\n",
    "            out = out + c\n",
    "\n",
    "    return out"
   ]
  },
  {
   "cell_type": "code",
   "execution_count": 44,
   "metadata": {
    "execution": {
     "iopub.execute_input": "2025-10-26T17:47:52.429854Z",
     "iopub.status.busy": "2025-10-26T17:47:52.429530Z",
     "iopub.status.idle": "2025-10-26T17:47:52.436790Z",
     "shell.execute_reply": "2025-10-26T17:47:52.436120Z"
    },
    "slideshow": {
     "slide_type": "subslide"
    }
   },
   "outputs": [],
   "source": [
    "write_source(remove_html_markup)"
   ]
  },
  {
   "cell_type": "code",
   "execution_count": 45,
   "metadata": {
    "execution": {
     "iopub.execute_input": "2025-10-26T17:47:52.440222Z",
     "iopub.status.busy": "2025-10-26T17:47:52.439947Z",
     "iopub.status.idle": "2025-10-26T17:47:52.590578Z",
     "shell.execute_reply": "2025-10-26T17:47:52.590090Z"
    },
    "slideshow": {
     "slide_type": "fragment"
    }
   },
   "outputs": [
    {
     "name": "stdout",
     "output_type": "stream",
     "text": [
      "[master dea04a4] Seventh version (fixed)\r\n",
      " 1 file changed, 1 insertion(+), 2 deletions(-)\r\n"
     ]
    }
   ],
   "source": [
    "!git commit -m \"Seventh version (fixed)\" remove_html_markup.py"
   ]
  },
  {
   "cell_type": "markdown",
   "metadata": {
    "slideshow": {
     "slide_type": "subslide"
    }
   },
   "source": [
    "### End of Excursion"
   ]
  },
  {
   "cell_type": "markdown",
   "metadata": {
    "slideshow": {
     "slide_type": "fragment"
    }
   },
   "source": [
    "Here comes the last version of `remove_html_markup()`, this one from [the chapter on assertions](Assertions.ipynb)."
   ]
  },
  {
   "cell_type": "code",
   "execution_count": 46,
   "metadata": {
    "execution": {
     "iopub.execute_input": "2025-10-26T17:47:52.595128Z",
     "iopub.status.busy": "2025-10-26T17:47:52.594540Z",
     "iopub.status.idle": "2025-10-26T17:47:52.620226Z",
     "shell.execute_reply": "2025-10-26T17:47:52.619233Z"
    },
    "slideshow": {
     "slide_type": "subslide"
    }
   },
   "outputs": [],
   "source": [
    "def remove_html_markup(s):  # type: ignore\n",
    "    tag = False\n",
    "    quote = False\n",
    "    out = \"\"\n",
    "\n",
    "    for c in s:\n",
    "        if c == '<' and not quote:\n",
    "            tag = True\n",
    "        elif c == '>' and not quote:\n",
    "            tag = False\n",
    "        elif c == '\"' or c == \"'\" and tag:\n",
    "            quote = not quote\n",
    "        elif not tag:\n",
    "            out = out + c\n",
    "\n",
    "    # postcondition\n",
    "    assert '<' not in out and '>' not in out\n",
    "\n",
    "    return out"
   ]
  },
  {
   "cell_type": "code",
   "execution_count": 47,
   "metadata": {
    "execution": {
     "iopub.execute_input": "2025-10-26T17:47:52.623313Z",
     "iopub.status.busy": "2025-10-26T17:47:52.623151Z",
     "iopub.status.idle": "2025-10-26T17:47:52.626247Z",
     "shell.execute_reply": "2025-10-26T17:47:52.625833Z"
    },
    "slideshow": {
     "slide_type": "subslide"
    }
   },
   "outputs": [],
   "source": [
    "write_source(remove_html_markup)"
   ]
  },
  {
   "cell_type": "code",
   "execution_count": 48,
   "metadata": {
    "execution": {
     "iopub.execute_input": "2025-10-26T17:47:52.628010Z",
     "iopub.status.busy": "2025-10-26T17:47:52.627876Z",
     "iopub.status.idle": "2025-10-26T17:47:52.779803Z",
     "shell.execute_reply": "2025-10-26T17:47:52.778766Z"
    },
    "slideshow": {
     "slide_type": "fragment"
    }
   },
   "outputs": [
    {
     "name": "stdout",
     "output_type": "stream",
     "text": [
      "[master e5b94d5] Eighth version (with proper assertion)\r\n",
      " 1 file changed, 4 insertions(+), 1 deletion(-)\r\n"
     ]
    }
   ],
   "source": [
    "!git commit -m \"Eighth version (with proper assertion)\" remove_html_markup.py"
   ]
  },
  {
   "cell_type": "markdown",
   "metadata": {
    "slideshow": {
     "slide_type": "fragment"
    }
   },
   "source": [
    "We finally reached the \"today\" state with the latest version – and find that the latest version has an error. This should come to you as no surprise if you have read the earlier chapters. But if you haven't, you will find that when the argument `s` contains double quotes, these are stripped from the output:"
   ]
  },
  {
   "cell_type": "code",
   "execution_count": 49,
   "metadata": {
    "execution": {
     "iopub.execute_input": "2025-10-26T17:47:52.783986Z",
     "iopub.status.busy": "2025-10-26T17:47:52.783663Z",
     "iopub.status.idle": "2025-10-26T17:47:52.793366Z",
     "shell.execute_reply": "2025-10-26T17:47:52.792287Z"
    },
    "slideshow": {
     "slide_type": "fragment"
    }
   },
   "outputs": [
    {
     "data": {
      "text/plain": [
       "'foo'"
      ]
     },
     "execution_count": 49,
     "metadata": {},
     "output_type": "execute_result"
    }
   ],
   "source": [
    "remove_html_markup('\"foo\"')"
   ]
  },
  {
   "cell_type": "markdown",
   "metadata": {
    "slideshow": {
     "slide_type": "fragment"
    }
   },
   "source": [
    "Consequently, this test assertion fails:"
   ]
  },
  {
   "cell_type": "code",
   "execution_count": 50,
   "metadata": {
    "execution": {
     "iopub.execute_input": "2025-10-26T17:47:52.797402Z",
     "iopub.status.busy": "2025-10-26T17:47:52.797231Z",
     "iopub.status.idle": "2025-10-26T17:47:52.838983Z",
     "shell.execute_reply": "2025-10-26T17:47:52.838544Z"
    },
    "slideshow": {
     "slide_type": "skip"
    }
   },
   "outputs": [],
   "source": [
    "from ExpectError import ExpectError"
   ]
  },
  {
   "cell_type": "code",
   "execution_count": 51,
   "metadata": {
    "execution": {
     "iopub.execute_input": "2025-10-26T17:47:52.841026Z",
     "iopub.status.busy": "2025-10-26T17:47:52.840861Z",
     "iopub.status.idle": "2025-10-26T17:47:52.843905Z",
     "shell.execute_reply": "2025-10-26T17:47:52.843497Z"
    },
    "slideshow": {
     "slide_type": "subslide"
    }
   },
   "outputs": [
    {
     "name": "stderr",
     "output_type": "stream",
     "text": [
      "Traceback (most recent call last):\n",
      "  File \"/var/folders/n2/xd9445p97rb3xh7m1dfx8_4h0006ts/T/ipykernel_51678/1036061906.py\", line 2, in <module>\n",
      "    assert remove_html_markup('\"foo\"') == '\"foo\"'\n",
      "           ^^^^^^^^^^^^^^^^^^^^^^^^^^^^^^^^^^^^^^\n",
      "AssertionError (expected)\n"
     ]
    }
   ],
   "source": [
    "with ExpectError():\n",
    "    assert remove_html_markup('\"foo\"') == '\"foo\"'"
   ]
  },
  {
   "cell_type": "markdown",
   "metadata": {
    "slideshow": {
     "slide_type": "fragment"
    }
   },
   "source": [
    "Note that the failure does _not_ occur in the very first version, as introduced above. So the simple question is:\n",
    "\n",
    "* What is the change that caused the failure?"
   ]
  },
  {
   "cell_type": "markdown",
   "metadata": {
    "slideshow": {
     "slide_type": "slide"
    }
   },
   "source": [
    "## Accessing Versions\n",
    "\n",
    "To find out the failure-inducing change, we first need to be able to access older versions. The command \n",
    "\n",
    "```sh\n",
    "git log\n",
    "```\n",
    "\n",
    "gives us a listing of all commits:"
   ]
  },
  {
   "cell_type": "code",
   "execution_count": 52,
   "metadata": {
    "execution": {
     "iopub.execute_input": "2025-10-26T17:47:52.846390Z",
     "iopub.status.busy": "2025-10-26T17:47:52.846197Z",
     "iopub.status.idle": "2025-10-26T17:47:52.977221Z",
     "shell.execute_reply": "2025-10-26T17:47:52.976621Z"
    },
    "slideshow": {
     "slide_type": "subslide"
    }
   },
   "outputs": [
    {
     "name": "stdout",
     "output_type": "stream",
     "text": [
      "\u001b[33mcommit e5b94d59c858f6cf1f25e77a5790332ffe45aabb\u001b[m\u001b[33m (\u001b[m\u001b[1;36mHEAD\u001b[m\u001b[33m -> \u001b[m\u001b[1;32mmaster\u001b[m\u001b[33m)\u001b[m\r\n",
      "Author: Demo User <demo-user@example.com>\r\n",
      "Date:   Sun Oct 26 18:47:52 2025 +0100\r\n",
      "\r\n",
      "    Eighth version (with proper assertion)\r\n",
      "\r\n",
      "\u001b[33mcommit dea04a436a9cdcaee5fd513d17946849dd852c09\u001b[m\r\n",
      "Author: Demo User <demo-user@example.com>\r\n",
      "Date:   Sun Oct 26 18:47:52 2025 +0100\r\n",
      "\r\n",
      "    Seventh version (fixed)\r\n",
      "\r\n",
      "\u001b[33mcommit 5a6d50c9315c354c47130dd15a8ca564cd4d7e77\u001b[m\r\n",
      "Author: Demo User <demo-user@example.com>\r\n",
      "Date:   Sun Oct 26 18:47:52 2025 +0100\r\n",
      "\r\n",
      "    Sixth version (with another assert)\r\n",
      "\r\n",
      "\u001b[33mcommit 8682efe02bc4ef0bb2571f3547f157fd5fcfdcdf\u001b[m\r\n",
      "Author: Demo User <demo-user@example.com>\r\n",
      "Date:   Sun Oct 26 18:47:52 2025 +0100\r\n",
      "\r\n",
      "    Fifth version (with assert)\r\n",
      "\r\n",
      "\u001b[33mcommit e85967ef371579969f628e8cdea95af56f49e779\u001b[m\r\n",
      "Author: Demo User <demo-user@example.com>\r\n",
      "Date:   Sun Oct 26 18:47:51 2025 +0100\r\n",
      "\r\n",
      "    Fourth version (clueless)\r\n",
      "\r\n",
      "\u001b[33mcommit 817a3b5392ab8f1179eda142feb8a32e9b585148\u001b[m\r\n",
      "Author: Demo User <demo-user@example.com>\r\n",
      "Date:   Sun Oct 26 18:47:51 2025 +0100\r\n",
      "\r\n",
      "    Third version (with debugging output)\r\n",
      "\r\n",
      "\u001b[33mcommit 1387f381eee63c725f2224744213773b84d9dce6\u001b[m\r\n",
      "Author: Demo User <demo-user@example.com>\r\n",
      "Date:   Sun Oct 26 18:47:51 2025 +0100\r\n",
      "\r\n",
      "    Second version\r\n",
      "\r\n",
      "\u001b[33mcommit 033b8816067e25eccd9a891f328641f5d3cd7545\u001b[m\r\n",
      "Author: Demo User <demo-user@example.com>\r\n",
      "Date:   Sun Oct 26 18:47:51 2025 +0100\r\n",
      "\r\n",
      "    First version\r\n"
     ]
    }
   ],
   "source": [
    "!git log"
   ]
  },
  {
   "cell_type": "markdown",
   "metadata": {
    "slideshow": {
     "slide_type": "subslide"
    }
   },
   "source": [
    "Using the `subprocess` module, we can run `git log` and access its output."
   ]
  },
  {
   "cell_type": "code",
   "execution_count": 53,
   "metadata": {
    "execution": {
     "iopub.execute_input": "2025-10-26T17:47:52.979885Z",
     "iopub.status.busy": "2025-10-26T17:47:52.979659Z",
     "iopub.status.idle": "2025-10-26T17:47:52.981923Z",
     "shell.execute_reply": "2025-10-26T17:47:52.981512Z"
    },
    "slideshow": {
     "slide_type": "skip"
    }
   },
   "outputs": [],
   "source": [
    "import subprocess"
   ]
  },
  {
   "cell_type": "code",
   "execution_count": 54,
   "metadata": {
    "execution": {
     "iopub.execute_input": "2025-10-26T17:47:52.983687Z",
     "iopub.status.busy": "2025-10-26T17:47:52.983546Z",
     "iopub.status.idle": "2025-10-26T17:47:52.985886Z",
     "shell.execute_reply": "2025-10-26T17:47:52.985544Z"
    },
    "slideshow": {
     "slide_type": "fragment"
    }
   },
   "outputs": [],
   "source": [
    "def get_output(command: List[str]) -> str:\n",
    "    result = subprocess.run(command, \n",
    "                            stdout=subprocess.PIPE,\n",
    "                            universal_newlines=True)\n",
    "    return result.stdout"
   ]
  },
  {
   "cell_type": "markdown",
   "metadata": {
    "slideshow": {
     "slide_type": "fragment"
    }
   },
   "source": [
    "The output of `git log` contains the ID of the version (the so-called *commit hash*) as well as the message provided during the commit."
   ]
  },
  {
   "cell_type": "code",
   "execution_count": 55,
   "metadata": {
    "execution": {
     "iopub.execute_input": "2025-10-26T17:47:52.987765Z",
     "iopub.status.busy": "2025-10-26T17:47:52.987637Z",
     "iopub.status.idle": "2025-10-26T17:47:53.003817Z",
     "shell.execute_reply": "2025-10-26T17:47:53.003298Z"
    },
    "slideshow": {
     "slide_type": "subslide"
    }
   },
   "outputs": [
    {
     "name": "stdout",
     "output_type": "stream",
     "text": [
      "e5b94d59c858f6cf1f25e77a5790332ffe45aabb Eighth version (with proper assertion)\n",
      "dea04a436a9cdcaee5fd513d17946849dd852c09 Seventh version (fixed)\n",
      "5a6d50c9315c354c47130dd15a8ca564cd4d7e77 Sixth version (with another assert)\n",
      "8682efe02bc4ef0bb2571f3547f157fd5fcfdcdf Fifth version (with assert)\n",
      "e85967ef371579969f628e8cdea95af56f49e779 Fourth version (clueless)\n",
      "817a3b5392ab8f1179eda142feb8a32e9b585148 Third version (with debugging output)\n",
      "1387f381eee63c725f2224744213773b84d9dce6 Second version\n",
      "033b8816067e25eccd9a891f328641f5d3cd7545 First version\n",
      "\n"
     ]
    }
   ],
   "source": [
    "log = get_output(['git', 'log', '--pretty=oneline'])\n",
    "print(log)"
   ]
  },
  {
   "cell_type": "markdown",
   "metadata": {
    "slideshow": {
     "slide_type": "subslide"
    }
   },
   "source": [
    "Each hash uniquely identifies a version, and is required to access it. Let us create a list `versions`, where `versions[0]` contains the hash (the id) of the first version, `versions[1]` the second version, and so on."
   ]
  },
  {
   "cell_type": "code",
   "execution_count": 56,
   "metadata": {
    "execution": {
     "iopub.execute_input": "2025-10-26T17:47:53.005848Z",
     "iopub.status.busy": "2025-10-26T17:47:53.005686Z",
     "iopub.status.idle": "2025-10-26T17:47:53.008761Z",
     "shell.execute_reply": "2025-10-26T17:47:53.008415Z"
    },
    "slideshow": {
     "slide_type": "fragment"
    }
   },
   "outputs": [
    {
     "data": {
      "text/plain": [
       "'033b8816067e25eccd9a891f328641f5d3cd7545'"
      ]
     },
     "execution_count": 56,
     "metadata": {},
     "output_type": "execute_result"
    }
   ],
   "source": [
    "versions = [line.split()[0] for line in log.split('\\n') if line]\n",
    "versions.reverse()\n",
    "versions[0]"
   ]
  },
  {
   "cell_type": "markdown",
   "metadata": {
    "slideshow": {
     "slide_type": "fragment"
    }
   },
   "source": [
    "We can now check out the first version:"
   ]
  },
  {
   "cell_type": "code",
   "execution_count": 57,
   "metadata": {
    "execution": {
     "iopub.execute_input": "2025-10-26T17:47:53.010424Z",
     "iopub.status.busy": "2025-10-26T17:47:53.010319Z",
     "iopub.status.idle": "2025-10-26T17:47:53.145772Z",
     "shell.execute_reply": "2025-10-26T17:47:53.145430Z"
    },
    "slideshow": {
     "slide_type": "fragment"
    }
   },
   "outputs": [
    {
     "name": "stdout",
     "output_type": "stream",
     "text": [
      "HEAD is now at 033b881 First version\r\n"
     ]
    }
   ],
   "source": [
    "!git checkout {versions[0]}"
   ]
  },
  {
   "cell_type": "code",
   "execution_count": 58,
   "metadata": {
    "execution": {
     "iopub.execute_input": "2025-10-26T17:47:53.148128Z",
     "iopub.status.busy": "2025-10-26T17:47:53.147865Z",
     "iopub.status.idle": "2025-10-26T17:47:53.161876Z",
     "shell.execute_reply": "2025-10-26T17:47:53.161505Z"
    },
    "slideshow": {
     "slide_type": "subslide"
    }
   },
   "outputs": [
    {
     "name": "stdout",
     "output_type": "stream",
     "text": [
      "\u001b[34mdef\u001b[39;49;00m\u001b[37m \u001b[39;49;00m\u001b[32mremove_html_markup\u001b[39;49;00m(s):  \u001b[37m# type: ignore\u001b[39;49;00m\u001b[37m\u001b[39;49;00m\n",
      "    tag = \u001b[34mFalse\u001b[39;49;00m\u001b[37m\u001b[39;49;00m\n",
      "    out = \u001b[33m\"\u001b[39;49;00m\u001b[33m\"\u001b[39;49;00m\u001b[37m\u001b[39;49;00m\n",
      "\u001b[37m\u001b[39;49;00m\n",
      "    \u001b[34mfor\u001b[39;49;00m c \u001b[35min\u001b[39;49;00m s:\u001b[37m\u001b[39;49;00m\n",
      "        \u001b[34mif\u001b[39;49;00m c == \u001b[33m'\u001b[39;49;00m\u001b[33m<\u001b[39;49;00m\u001b[33m'\u001b[39;49;00m:    \u001b[37m# start of markup\u001b[39;49;00m\u001b[37m\u001b[39;49;00m\n",
      "            tag = \u001b[34mTrue\u001b[39;49;00m\u001b[37m\u001b[39;49;00m\n",
      "        \u001b[34melif\u001b[39;49;00m c == \u001b[33m'\u001b[39;49;00m\u001b[33m>\u001b[39;49;00m\u001b[33m'\u001b[39;49;00m:  \u001b[37m# end of markup\u001b[39;49;00m\u001b[37m\u001b[39;49;00m\n",
      "            tag = \u001b[34mFalse\u001b[39;49;00m\u001b[37m\u001b[39;49;00m\n",
      "        \u001b[34melif\u001b[39;49;00m \u001b[35mnot\u001b[39;49;00m tag:\u001b[37m\u001b[39;49;00m\n",
      "            out = out + c\u001b[37m\u001b[39;49;00m\n",
      "\u001b[37m\u001b[39;49;00m\n",
      "    \u001b[34mreturn\u001b[39;49;00m out\u001b[37m\u001b[39;49;00m"
     ]
    }
   ],
   "source": [
    "print_file('remove_html_markup.py')"
   ]
  },
  {
   "cell_type": "markdown",
   "metadata": {
    "slideshow": {
     "slide_type": "subslide"
    }
   },
   "source": [
    "If we read in this definition of `remove_html_markup()` from the first version, we will find that the failure was not yet present:"
   ]
  },
  {
   "cell_type": "code",
   "execution_count": 59,
   "metadata": {
    "execution": {
     "iopub.execute_input": "2025-10-26T17:47:53.163443Z",
     "iopub.status.busy": "2025-10-26T17:47:53.163325Z",
     "iopub.status.idle": "2025-10-26T17:47:53.165219Z",
     "shell.execute_reply": "2025-10-26T17:47:53.164965Z"
    },
    "slideshow": {
     "slide_type": "fragment"
    }
   },
   "outputs": [],
   "source": [
    "exec(open('remove_html_markup.py').read())"
   ]
  },
  {
   "cell_type": "code",
   "execution_count": 60,
   "metadata": {
    "execution": {
     "iopub.execute_input": "2025-10-26T17:47:53.166493Z",
     "iopub.status.busy": "2025-10-26T17:47:53.166410Z",
     "iopub.status.idle": "2025-10-26T17:47:53.168508Z",
     "shell.execute_reply": "2025-10-26T17:47:53.168179Z"
    },
    "slideshow": {
     "slide_type": "fragment"
    }
   },
   "outputs": [
    {
     "data": {
      "text/plain": [
       "'\"foo\"'"
      ]
     },
     "execution_count": 60,
     "metadata": {},
     "output_type": "execute_result"
    }
   ],
   "source": [
    "remove_html_markup('\"foo\"')"
   ]
  },
  {
   "cell_type": "markdown",
   "metadata": {
    "slideshow": {
     "slide_type": "fragment"
    }
   },
   "source": [
    "However, if we check out the _last_ version of that file ..."
   ]
  },
  {
   "cell_type": "code",
   "execution_count": 61,
   "metadata": {
    "execution": {
     "iopub.execute_input": "2025-10-26T17:47:53.169855Z",
     "iopub.status.busy": "2025-10-26T17:47:53.169751Z",
     "iopub.status.idle": "2025-10-26T17:47:53.302311Z",
     "shell.execute_reply": "2025-10-26T17:47:53.301818Z"
    },
    "slideshow": {
     "slide_type": "fragment"
    }
   },
   "outputs": [
    {
     "name": "stdout",
     "output_type": "stream",
     "text": [
      "Previous HEAD position was 033b881 First version\r\n",
      "HEAD is now at e5b94d5 Eighth version (with proper assertion)\r\n"
     ]
    }
   ],
   "source": [
    "!git checkout {versions[7]}"
   ]
  },
  {
   "cell_type": "code",
   "execution_count": 62,
   "metadata": {
    "execution": {
     "iopub.execute_input": "2025-10-26T17:47:53.305753Z",
     "iopub.status.busy": "2025-10-26T17:47:53.305556Z",
     "iopub.status.idle": "2025-10-26T17:47:53.321129Z",
     "shell.execute_reply": "2025-10-26T17:47:53.320873Z"
    },
    "slideshow": {
     "slide_type": "subslide"
    }
   },
   "outputs": [
    {
     "name": "stdout",
     "output_type": "stream",
     "text": [
      "\u001b[34mdef\u001b[39;49;00m\u001b[37m \u001b[39;49;00m\u001b[32mremove_html_markup\u001b[39;49;00m(s):  \u001b[37m# type: ignore\u001b[39;49;00m\u001b[37m\u001b[39;49;00m\n",
      "    tag = \u001b[34mFalse\u001b[39;49;00m\u001b[37m\u001b[39;49;00m\n",
      "    quote = \u001b[34mFalse\u001b[39;49;00m\u001b[37m\u001b[39;49;00m\n",
      "    out = \u001b[33m\"\u001b[39;49;00m\u001b[33m\"\u001b[39;49;00m\u001b[37m\u001b[39;49;00m\n",
      "\u001b[37m\u001b[39;49;00m\n",
      "    \u001b[34mfor\u001b[39;49;00m c \u001b[35min\u001b[39;49;00m s:\u001b[37m\u001b[39;49;00m\n",
      "        \u001b[34mif\u001b[39;49;00m c == \u001b[33m'\u001b[39;49;00m\u001b[33m<\u001b[39;49;00m\u001b[33m'\u001b[39;49;00m \u001b[35mand\u001b[39;49;00m \u001b[35mnot\u001b[39;49;00m quote:\u001b[37m\u001b[39;49;00m\n",
      "            tag = \u001b[34mTrue\u001b[39;49;00m\u001b[37m\u001b[39;49;00m\n",
      "        \u001b[34melif\u001b[39;49;00m c == \u001b[33m'\u001b[39;49;00m\u001b[33m>\u001b[39;49;00m\u001b[33m'\u001b[39;49;00m \u001b[35mand\u001b[39;49;00m \u001b[35mnot\u001b[39;49;00m quote:\u001b[37m\u001b[39;49;00m\n",
      "            tag = \u001b[34mFalse\u001b[39;49;00m\u001b[37m\u001b[39;49;00m\n",
      "        \u001b[34melif\u001b[39;49;00m c == \u001b[33m'\u001b[39;49;00m\u001b[33m\"\u001b[39;49;00m\u001b[33m'\u001b[39;49;00m \u001b[35mor\u001b[39;49;00m c == \u001b[33m\"\u001b[39;49;00m\u001b[33m'\u001b[39;49;00m\u001b[33m\"\u001b[39;49;00m \u001b[35mand\u001b[39;49;00m tag:\u001b[37m\u001b[39;49;00m\n",
      "            quote = \u001b[35mnot\u001b[39;49;00m quote\u001b[37m\u001b[39;49;00m\n",
      "        \u001b[34melif\u001b[39;49;00m \u001b[35mnot\u001b[39;49;00m tag:\u001b[37m\u001b[39;49;00m\n",
      "            out = out + c\u001b[37m\u001b[39;49;00m\n",
      "\u001b[37m\u001b[39;49;00m\n",
      "    \u001b[37m# postcondition\u001b[39;49;00m\u001b[37m\u001b[39;49;00m\n",
      "    \u001b[34massert\u001b[39;49;00m \u001b[33m'\u001b[39;49;00m\u001b[33m<\u001b[39;49;00m\u001b[33m'\u001b[39;49;00m \u001b[35mnot\u001b[39;49;00m \u001b[35min\u001b[39;49;00m out \u001b[35mand\u001b[39;49;00m \u001b[33m'\u001b[39;49;00m\u001b[33m>\u001b[39;49;00m\u001b[33m'\u001b[39;49;00m \u001b[35mnot\u001b[39;49;00m \u001b[35min\u001b[39;49;00m out\u001b[37m\u001b[39;49;00m\n",
      "\u001b[37m\u001b[39;49;00m\n",
      "    \u001b[34mreturn\u001b[39;49;00m out\u001b[37m\u001b[39;49;00m"
     ]
    }
   ],
   "source": [
    "print_file('remove_html_markup.py')"
   ]
  },
  {
   "cell_type": "markdown",
   "metadata": {
    "slideshow": {
     "slide_type": "subslide"
    }
   },
   "source": [
    "... we find that this is the version that no longer works."
   ]
  },
  {
   "cell_type": "code",
   "execution_count": 63,
   "metadata": {
    "execution": {
     "iopub.execute_input": "2025-10-26T17:47:53.322521Z",
     "iopub.status.busy": "2025-10-26T17:47:53.322434Z",
     "iopub.status.idle": "2025-10-26T17:47:53.324379Z",
     "shell.execute_reply": "2025-10-26T17:47:53.324131Z"
    },
    "slideshow": {
     "slide_type": "fragment"
    }
   },
   "outputs": [],
   "source": [
    "exec(open('remove_html_markup.py').read())"
   ]
  },
  {
   "cell_type": "code",
   "execution_count": 64,
   "metadata": {
    "execution": {
     "iopub.execute_input": "2025-10-26T17:47:53.325873Z",
     "iopub.status.busy": "2025-10-26T17:47:53.325790Z",
     "iopub.status.idle": "2025-10-26T17:47:53.328190Z",
     "shell.execute_reply": "2025-10-26T17:47:53.327841Z"
    },
    "slideshow": {
     "slide_type": "fragment"
    }
   },
   "outputs": [
    {
     "data": {
      "text/plain": [
       "'foo'"
      ]
     },
     "execution_count": 64,
     "metadata": {},
     "output_type": "execute_result"
    }
   ],
   "source": [
    "remove_html_markup('\"foo\"')"
   ]
  },
  {
   "cell_type": "markdown",
   "metadata": {
    "slideshow": {
     "slide_type": "slide"
    }
   },
   "source": [
    "## Manual Bisecting\n",
    "\n",
    "As stated above, we could now go and try out one version after another to see with which version the bug was introduced. But again, proceeding in such a _linear_ fashion would be very inefficient. It is much better to proceed by _binary search_: If you know that version $v_n$ passed, and version $v_m$ failed (with $m >n$), then test a version $v' = v_{n + (m - n)/2}$ that is right in the _middle_ between the two.\n",
    "\n",
    "* If $v'$ passes, then repeat the process with $v'$ and $v_m$.\n",
    "* If $v'$ fails, then repeat the process with $v_n$ and $v'$.\n",
    "\n",
    "Such *bisecting* quickly progresses towards the failure-inducing version, as it requires you to take only a logarithmic number of tests. In contrast, progressing linearly through the version history requires a test for each version, which is far more effort."
   ]
  },
  {
   "cell_type": "markdown",
   "metadata": {
    "slideshow": {
     "slide_type": "subslide"
    }
   },
   "source": [
    "If you use the git version control system, such bisecting is actually a _built-in feature_, coming to you through the `git bisect` command. Let us illustrate how `git bisect` quickly identifies the version that introduced the error."
   ]
  },
  {
   "cell_type": "markdown",
   "metadata": {
    "slideshow": {
     "slide_type": "fragment"
    }
   },
   "source": [
    "A bisecting section with `git` starts with the command `bisect start`."
   ]
  },
  {
   "cell_type": "code",
   "execution_count": 65,
   "metadata": {
    "execution": {
     "iopub.execute_input": "2025-10-26T17:47:53.329968Z",
     "iopub.status.busy": "2025-10-26T17:47:53.329855Z",
     "iopub.status.idle": "2025-10-26T17:47:53.464809Z",
     "shell.execute_reply": "2025-10-26T17:47:53.463740Z"
    },
    "slideshow": {
     "slide_type": "fragment"
    }
   },
   "outputs": [
    {
     "name": "stdout",
     "output_type": "stream",
     "text": [
      "status: waiting for both good and bad commits\r\n"
     ]
    }
   ],
   "source": [
    "!git bisect start"
   ]
  },
  {
   "cell_type": "markdown",
   "metadata": {
    "slideshow": {
     "slide_type": "fragment"
    }
   },
   "source": [
    "Then, you use `git bisect good` to identify the version that worked, and `git bisect bad` to identify the version that was bad – in our case, the hashes of the first and last version."
   ]
  },
  {
   "cell_type": "code",
   "execution_count": 66,
   "metadata": {
    "execution": {
     "iopub.execute_input": "2025-10-26T17:47:53.468210Z",
     "iopub.status.busy": "2025-10-26T17:47:53.468048Z",
     "iopub.status.idle": "2025-10-26T17:47:53.599888Z",
     "shell.execute_reply": "2025-10-26T17:47:53.598974Z"
    },
    "slideshow": {
     "slide_type": "fragment"
    }
   },
   "outputs": [
    {
     "name": "stdout",
     "output_type": "stream",
     "text": [
      "status: waiting for bad commit, 1 good commit known\r\n"
     ]
    }
   ],
   "source": [
    "!git bisect good {versions[0]}"
   ]
  },
  {
   "cell_type": "code",
   "execution_count": 67,
   "metadata": {
    "execution": {
     "iopub.execute_input": "2025-10-26T17:47:53.604177Z",
     "iopub.status.busy": "2025-10-26T17:47:53.603846Z",
     "iopub.status.idle": "2025-10-26T17:47:53.756873Z",
     "shell.execute_reply": "2025-10-26T17:47:53.755961Z"
    },
    "slideshow": {
     "slide_type": "subslide"
    }
   },
   "outputs": [
    {
     "name": "stdout",
     "output_type": "stream",
     "text": [
      "Bisecting: 3 revisions left to test after this (roughly 2 steps)\r\n",
      "[e85967ef371579969f628e8cdea95af56f49e779] Fourth version (clueless)\r\n"
     ]
    }
   ],
   "source": [
    "!git bisect bad {versions[7]}"
   ]
  },
  {
   "cell_type": "markdown",
   "metadata": {
    "slideshow": {
     "slide_type": "fragment"
    }
   },
   "source": [
    "We find that `git bisect` automatically has checked out the _middle_ version between the passing and the failing one – in our case, version 4 – and now asks us to assess this version."
   ]
  },
  {
   "cell_type": "code",
   "execution_count": 68,
   "metadata": {
    "execution": {
     "iopub.execute_input": "2025-10-26T17:47:53.761890Z",
     "iopub.status.busy": "2025-10-26T17:47:53.761487Z",
     "iopub.status.idle": "2025-10-26T17:47:54.313933Z",
     "shell.execute_reply": "2025-10-26T17:47:54.313479Z"
    },
    "slideshow": {
     "slide_type": "fragment"
    },
    "tags": [
     "remove-input"
    ]
   },
   "outputs": [
    {
     "data": {
      "image/svg+xml": [
       "<?xml version=\"1.0\" encoding=\"UTF-8\" standalone=\"no\"?>\n",
       "<!DOCTYPE svg PUBLIC \"-//W3C//DTD SVG 1.1//EN\"\n",
       " \"http://www.w3.org/Graphics/SVG/1.1/DTD/svg11.dtd\">\n",
       "<!-- Generated by graphviz version 14.0.2 (20251019.1705)\n",
       " -->\n",
       "<!-- Pages: 1 -->\n",
       "<svg width=\"692pt\" height=\"44pt\"\n",
       " viewBox=\"0.00 0.00 692.00 44.00\" xmlns=\"http://www.w3.org/2000/svg\" xmlns:xlink=\"http://www.w3.org/1999/xlink\">\n",
       "<g id=\"graph0\" class=\"graph\" transform=\"scale(1 1) rotate(0) translate(4 40)\">\n",
       "<polygon fill=\"white\" stroke=\"none\" points=\"-4,4 -4,-40 688,-40 688,4 -4,4\"/>\n",
       "<!-- v1 -->\n",
       "<g id=\"node1\" class=\"node\">\n",
       "<title>v1</title>\n",
       "<polygon fill=\"peachpuff\" stroke=\"black\" points=\"54,-36 0,-36 0,0 54,0 54,-36\"/>\n",
       "<text xml:space=\"preserve\" text-anchor=\"middle\" x=\"27\" y=\"-13.32\" font-family=\"Raleway\" font-size=\"14.00\">v1 ✔</text>\n",
       "</g>\n",
       "<!-- v2 -->\n",
       "<g id=\"node2\" class=\"node\">\n",
       "<title>v2</title>\n",
       "<polygon fill=\"peachpuff\" stroke=\"black\" points=\"144,-36 90,-36 90,0 144,0 144,-36\"/>\n",
       "<text xml:space=\"preserve\" text-anchor=\"middle\" x=\"117\" y=\"-13.32\" font-family=\"Raleway\" font-size=\"14.00\">v2</text>\n",
       "</g>\n",
       "<!-- v1&#45;&gt;v2 -->\n",
       "<g id=\"edge1\" class=\"edge\">\n",
       "<title>v1&#45;&gt;v2</title>\n",
       "<path fill=\"none\" stroke=\"black\" d=\"M54.4,-18C61.89,-18 70.18,-18 78.2,-18\"/>\n",
       "<polygon fill=\"black\" stroke=\"black\" points=\"78.1,-21.5 88.1,-18 78.1,-14.5 78.1,-21.5\"/>\n",
       "</g>\n",
       "<!-- v3 -->\n",
       "<g id=\"node3\" class=\"node\">\n",
       "<title>v3</title>\n",
       "<polygon fill=\"peachpuff\" stroke=\"black\" points=\"234,-36 180,-36 180,0 234,0 234,-36\"/>\n",
       "<text xml:space=\"preserve\" text-anchor=\"middle\" x=\"207\" y=\"-13.32\" font-family=\"Raleway\" font-size=\"14.00\">v3</text>\n",
       "</g>\n",
       "<!-- v2&#45;&gt;v3 -->\n",
       "<g id=\"edge2\" class=\"edge\">\n",
       "<title>v2&#45;&gt;v3</title>\n",
       "<path fill=\"none\" stroke=\"black\" d=\"M144.4,-18C151.89,-18 160.18,-18 168.2,-18\"/>\n",
       "<polygon fill=\"black\" stroke=\"black\" points=\"168.1,-21.5 178.1,-18 168.1,-14.5 168.1,-21.5\"/>\n",
       "</g>\n",
       "<!-- v4 -->\n",
       "<g id=\"node4\" class=\"node\">\n",
       "<title>v4</title>\n",
       "<polygon fill=\"peachpuff\" stroke=\"black\" points=\"324,-36 270,-36 270,0 324,0 324,-36\"/>\n",
       "<text xml:space=\"preserve\" text-anchor=\"middle\" x=\"297\" y=\"-13.32\" font-family=\"Raleway\" font-size=\"14.00\">v4 ?</text>\n",
       "</g>\n",
       "<!-- v3&#45;&gt;v4 -->\n",
       "<g id=\"edge3\" class=\"edge\">\n",
       "<title>v3&#45;&gt;v4</title>\n",
       "<path fill=\"none\" stroke=\"black\" d=\"M234.4,-18C241.89,-18 250.18,-18 258.2,-18\"/>\n",
       "<polygon fill=\"black\" stroke=\"black\" points=\"258.1,-21.5 268.1,-18 258.1,-14.5 258.1,-21.5\"/>\n",
       "</g>\n",
       "<!-- v5 -->\n",
       "<g id=\"node5\" class=\"node\">\n",
       "<title>v5</title>\n",
       "<polygon fill=\"peachpuff\" stroke=\"black\" points=\"414,-36 360,-36 360,0 414,0 414,-36\"/>\n",
       "<text xml:space=\"preserve\" text-anchor=\"middle\" x=\"387\" y=\"-13.32\" font-family=\"Raleway\" font-size=\"14.00\">v5</text>\n",
       "</g>\n",
       "<!-- v4&#45;&gt;v5 -->\n",
       "<g id=\"edge4\" class=\"edge\">\n",
       "<title>v4&#45;&gt;v5</title>\n",
       "<path fill=\"none\" stroke=\"black\" d=\"M324.4,-18C331.89,-18 340.18,-18 348.2,-18\"/>\n",
       "<polygon fill=\"black\" stroke=\"black\" points=\"348.1,-21.5 358.1,-18 348.1,-14.5 348.1,-21.5\"/>\n",
       "</g>\n",
       "<!-- v6 -->\n",
       "<g id=\"node6\" class=\"node\">\n",
       "<title>v6</title>\n",
       "<polygon fill=\"peachpuff\" stroke=\"black\" points=\"504,-36 450,-36 450,0 504,0 504,-36\"/>\n",
       "<text xml:space=\"preserve\" text-anchor=\"middle\" x=\"477\" y=\"-13.32\" font-family=\"Raleway\" font-size=\"14.00\">v6</text>\n",
       "</g>\n",
       "<!-- v5&#45;&gt;v6 -->\n",
       "<g id=\"edge5\" class=\"edge\">\n",
       "<title>v5&#45;&gt;v6</title>\n",
       "<path fill=\"none\" stroke=\"black\" d=\"M414.4,-18C421.89,-18 430.18,-18 438.2,-18\"/>\n",
       "<polygon fill=\"black\" stroke=\"black\" points=\"438.1,-21.5 448.1,-18 438.1,-14.5 438.1,-21.5\"/>\n",
       "</g>\n",
       "<!-- v7 -->\n",
       "<g id=\"node7\" class=\"node\">\n",
       "<title>v7</title>\n",
       "<polygon fill=\"peachpuff\" stroke=\"black\" points=\"594,-36 540,-36 540,0 594,0 594,-36\"/>\n",
       "<text xml:space=\"preserve\" text-anchor=\"middle\" x=\"567\" y=\"-13.32\" font-family=\"Raleway\" font-size=\"14.00\">v7</text>\n",
       "</g>\n",
       "<!-- v6&#45;&gt;v7 -->\n",
       "<g id=\"edge6\" class=\"edge\">\n",
       "<title>v6&#45;&gt;v7</title>\n",
       "<path fill=\"none\" stroke=\"black\" d=\"M504.4,-18C511.89,-18 520.18,-18 528.2,-18\"/>\n",
       "<polygon fill=\"black\" stroke=\"black\" points=\"528.1,-21.5 538.1,-18 528.1,-14.5 528.1,-21.5\"/>\n",
       "</g>\n",
       "<!-- v8 -->\n",
       "<g id=\"node8\" class=\"node\">\n",
       "<title>v8</title>\n",
       "<polygon fill=\"peachpuff\" stroke=\"black\" points=\"684,-36 630,-36 630,0 684,0 684,-36\"/>\n",
       "<text xml:space=\"preserve\" text-anchor=\"middle\" x=\"657\" y=\"-13.32\" font-family=\"Raleway\" font-size=\"14.00\">v8 ✘</text>\n",
       "</g>\n",
       "<!-- v7&#45;&gt;v8 -->\n",
       "<g id=\"edge7\" class=\"edge\">\n",
       "<title>v7&#45;&gt;v8</title>\n",
       "<path fill=\"none\" stroke=\"black\" d=\"M594.4,-18C601.89,-18 610.18,-18 618.2,-18\"/>\n",
       "<polygon fill=\"black\" stroke=\"black\" points=\"618.1,-21.5 628.1,-18 618.1,-14.5 618.1,-21.5\"/>\n",
       "</g>\n",
       "</g>\n",
       "</svg>\n"
      ],
      "text/plain": [
       "<graphviz.graphs.Digraph at 0x10db45950>"
      ]
     },
     "metadata": {},
     "output_type": "display_data"
    }
   ],
   "source": [
    "# ignore\n",
    "display_versions({1: PASS, 4: UNRESOLVED, 8: FAIL})"
   ]
  },
  {
   "cell_type": "markdown",
   "metadata": {
    "slideshow": {
     "slide_type": "fragment"
    }
   },
   "source": [
    "The version is already in our working folder:"
   ]
  },
  {
   "cell_type": "code",
   "execution_count": 69,
   "metadata": {
    "execution": {
     "iopub.execute_input": "2025-10-26T17:47:54.315959Z",
     "iopub.status.busy": "2025-10-26T17:47:54.315801Z",
     "iopub.status.idle": "2025-10-26T17:47:54.332796Z",
     "shell.execute_reply": "2025-10-26T17:47:54.332333Z"
    },
    "slideshow": {
     "slide_type": "subslide"
    }
   },
   "outputs": [
    {
     "name": "stdout",
     "output_type": "stream",
     "text": [
      "\u001b[34mdef\u001b[39;49;00m\u001b[37m \u001b[39;49;00m\u001b[32mremove_html_markup\u001b[39;49;00m(s):  \u001b[37m# type: ignore\u001b[39;49;00m\u001b[37m\u001b[39;49;00m\n",
      "    tag = \u001b[34mFalse\u001b[39;49;00m\u001b[37m\u001b[39;49;00m\n",
      "    quote = \u001b[34mFalse\u001b[39;49;00m\u001b[37m\u001b[39;49;00m\n",
      "    out = \u001b[33m\"\u001b[39;49;00m\u001b[33m\"\u001b[39;49;00m\u001b[37m\u001b[39;49;00m\n",
      "\u001b[37m\u001b[39;49;00m\n",
      "    \u001b[34mfor\u001b[39;49;00m c \u001b[35min\u001b[39;49;00m s:\u001b[37m\u001b[39;49;00m\n",
      "        \u001b[34mif\u001b[39;49;00m c == \u001b[33m'\u001b[39;49;00m\u001b[33m<\u001b[39;49;00m\u001b[33m'\u001b[39;49;00m:  \u001b[37m# and not quote:\u001b[39;49;00m\u001b[37m\u001b[39;49;00m\n",
      "            tag = \u001b[34mTrue\u001b[39;49;00m\u001b[37m\u001b[39;49;00m\n",
      "        \u001b[34melif\u001b[39;49;00m c == \u001b[33m'\u001b[39;49;00m\u001b[33m>\u001b[39;49;00m\u001b[33m'\u001b[39;49;00m:  \u001b[37m# and not quote:\u001b[39;49;00m\u001b[37m\u001b[39;49;00m\n",
      "            tag = \u001b[34mFalse\u001b[39;49;00m\u001b[37m\u001b[39;49;00m\n",
      "        \u001b[34melif\u001b[39;49;00m c == \u001b[33m'\u001b[39;49;00m\u001b[33m\"\u001b[39;49;00m\u001b[33m'\u001b[39;49;00m \u001b[35mor\u001b[39;49;00m c == \u001b[33m\"\u001b[39;49;00m\u001b[33m'\u001b[39;49;00m\u001b[33m\"\u001b[39;49;00m \u001b[35mand\u001b[39;49;00m tag:\u001b[37m\u001b[39;49;00m\n",
      "            quote = \u001b[35mnot\u001b[39;49;00m quote\u001b[37m\u001b[39;49;00m\n",
      "        \u001b[34melif\u001b[39;49;00m \u001b[35mnot\u001b[39;49;00m tag:\u001b[37m\u001b[39;49;00m\n",
      "            out = out + c\u001b[37m\u001b[39;49;00m\n",
      "\u001b[37m\u001b[39;49;00m\n",
      "    \u001b[34mreturn\u001b[39;49;00m out\u001b[37m\u001b[39;49;00m"
     ]
    }
   ],
   "source": [
    "print_file('remove_html_markup.py')"
   ]
  },
  {
   "cell_type": "markdown",
   "metadata": {
    "slideshow": {
     "slide_type": "subslide"
    }
   },
   "source": [
    "We now need to test this version, and let `git bisect` know the outcome – with\n",
    "\n",
    "```sh\n",
    "git bisect good\n",
    "```\n",
    "\n",
    "if the test passes, and with\n",
    "\n",
    "```sh\n",
    "git bisect bad\n",
    "```\n",
    "\n",
    "if the test fails."
   ]
  },
  {
   "cell_type": "markdown",
   "metadata": {
    "slideshow": {
     "slide_type": "subslide"
    }
   },
   "source": [
    "It turns out that this version fails:"
   ]
  },
  {
   "cell_type": "code",
   "execution_count": 70,
   "metadata": {
    "execution": {
     "iopub.execute_input": "2025-10-26T17:47:54.334866Z",
     "iopub.status.busy": "2025-10-26T17:47:54.334734Z",
     "iopub.status.idle": "2025-10-26T17:47:54.336656Z",
     "shell.execute_reply": "2025-10-26T17:47:54.336374Z"
    },
    "slideshow": {
     "slide_type": "fragment"
    }
   },
   "outputs": [],
   "source": [
    "exec(open('remove_html_markup.py').read())"
   ]
  },
  {
   "cell_type": "code",
   "execution_count": 71,
   "metadata": {
    "execution": {
     "iopub.execute_input": "2025-10-26T17:47:54.338115Z",
     "iopub.status.busy": "2025-10-26T17:47:54.338003Z",
     "iopub.status.idle": "2025-10-26T17:47:54.340542Z",
     "shell.execute_reply": "2025-10-26T17:47:54.340198Z"
    },
    "slideshow": {
     "slide_type": "fragment"
    }
   },
   "outputs": [
    {
     "data": {
      "text/plain": [
       "'foo'"
      ]
     },
     "execution_count": 71,
     "metadata": {},
     "output_type": "execute_result"
    }
   ],
   "source": [
    "remove_html_markup('\"foo\"')"
   ]
  },
  {
   "cell_type": "markdown",
   "metadata": {
    "slideshow": {
     "slide_type": "fragment"
    }
   },
   "source": [
    "So we enter `git bisect bad`:"
   ]
  },
  {
   "cell_type": "code",
   "execution_count": 72,
   "metadata": {
    "execution": {
     "iopub.execute_input": "2025-10-26T17:47:54.342676Z",
     "iopub.status.busy": "2025-10-26T17:47:54.342549Z",
     "iopub.status.idle": "2025-10-26T17:47:54.479267Z",
     "shell.execute_reply": "2025-10-26T17:47:54.478842Z"
    },
    "slideshow": {
     "slide_type": "fragment"
    }
   },
   "outputs": [
    {
     "name": "stdout",
     "output_type": "stream",
     "text": [
      "Bisecting: 0 revisions left to test after this (roughly 1 step)\r\n",
      "[817a3b5392ab8f1179eda142feb8a32e9b585148] Third version (with debugging output)\r\n"
     ]
    }
   ],
   "source": [
    "!git bisect bad"
   ]
  },
  {
   "cell_type": "markdown",
   "metadata": {
    "slideshow": {
     "slide_type": "fragment"
    }
   },
   "source": [
    "`git bisect` has chosen version 3 to assess – again in the middle between a passing and a failing version:"
   ]
  },
  {
   "cell_type": "code",
   "execution_count": 73,
   "metadata": {
    "execution": {
     "iopub.execute_input": "2025-10-26T17:47:54.481053Z",
     "iopub.status.busy": "2025-10-26T17:47:54.480933Z",
     "iopub.status.idle": "2025-10-26T17:47:55.001417Z",
     "shell.execute_reply": "2025-10-26T17:47:55.001053Z"
    },
    "slideshow": {
     "slide_type": "fragment"
    },
    "tags": [
     "remove-input"
    ]
   },
   "outputs": [
    {
     "data": {
      "image/svg+xml": [
       "<?xml version=\"1.0\" encoding=\"UTF-8\" standalone=\"no\"?>\n",
       "<!DOCTYPE svg PUBLIC \"-//W3C//DTD SVG 1.1//EN\"\n",
       " \"http://www.w3.org/Graphics/SVG/1.1/DTD/svg11.dtd\">\n",
       "<!-- Generated by graphviz version 14.0.2 (20251019.1705)\n",
       " -->\n",
       "<!-- Pages: 1 -->\n",
       "<svg width=\"692pt\" height=\"44pt\"\n",
       " viewBox=\"0.00 0.00 692.00 44.00\" xmlns=\"http://www.w3.org/2000/svg\" xmlns:xlink=\"http://www.w3.org/1999/xlink\">\n",
       "<g id=\"graph0\" class=\"graph\" transform=\"scale(1 1) rotate(0) translate(4 40)\">\n",
       "<polygon fill=\"white\" stroke=\"none\" points=\"-4,4 -4,-40 688,-40 688,4 -4,4\"/>\n",
       "<!-- v1 -->\n",
       "<g id=\"node1\" class=\"node\">\n",
       "<title>v1</title>\n",
       "<polygon fill=\"peachpuff\" stroke=\"black\" points=\"54,-36 0,-36 0,0 54,0 54,-36\"/>\n",
       "<text xml:space=\"preserve\" text-anchor=\"middle\" x=\"27\" y=\"-13.32\" font-family=\"Raleway\" font-size=\"14.00\">v1 ✔</text>\n",
       "</g>\n",
       "<!-- v2 -->\n",
       "<g id=\"node2\" class=\"node\">\n",
       "<title>v2</title>\n",
       "<polygon fill=\"peachpuff\" stroke=\"black\" points=\"144,-36 90,-36 90,0 144,0 144,-36\"/>\n",
       "<text xml:space=\"preserve\" text-anchor=\"middle\" x=\"117\" y=\"-13.32\" font-family=\"Raleway\" font-size=\"14.00\">v2</text>\n",
       "</g>\n",
       "<!-- v1&#45;&gt;v2 -->\n",
       "<g id=\"edge1\" class=\"edge\">\n",
       "<title>v1&#45;&gt;v2</title>\n",
       "<path fill=\"none\" stroke=\"black\" d=\"M54.4,-18C61.89,-18 70.18,-18 78.2,-18\"/>\n",
       "<polygon fill=\"black\" stroke=\"black\" points=\"78.1,-21.5 88.1,-18 78.1,-14.5 78.1,-21.5\"/>\n",
       "</g>\n",
       "<!-- v3 -->\n",
       "<g id=\"node3\" class=\"node\">\n",
       "<title>v3</title>\n",
       "<polygon fill=\"peachpuff\" stroke=\"black\" points=\"234,-36 180,-36 180,0 234,0 234,-36\"/>\n",
       "<text xml:space=\"preserve\" text-anchor=\"middle\" x=\"207\" y=\"-13.32\" font-family=\"Raleway\" font-size=\"14.00\">v3 ?</text>\n",
       "</g>\n",
       "<!-- v2&#45;&gt;v3 -->\n",
       "<g id=\"edge2\" class=\"edge\">\n",
       "<title>v2&#45;&gt;v3</title>\n",
       "<path fill=\"none\" stroke=\"black\" d=\"M144.4,-18C151.89,-18 160.18,-18 168.2,-18\"/>\n",
       "<polygon fill=\"black\" stroke=\"black\" points=\"168.1,-21.5 178.1,-18 168.1,-14.5 168.1,-21.5\"/>\n",
       "</g>\n",
       "<!-- v4 -->\n",
       "<g id=\"node4\" class=\"node\">\n",
       "<title>v4</title>\n",
       "<polygon fill=\"peachpuff\" stroke=\"black\" points=\"324,-36 270,-36 270,0 324,0 324,-36\"/>\n",
       "<text xml:space=\"preserve\" text-anchor=\"middle\" x=\"297\" y=\"-13.32\" font-family=\"Raleway\" font-size=\"14.00\">v4 ✘</text>\n",
       "</g>\n",
       "<!-- v3&#45;&gt;v4 -->\n",
       "<g id=\"edge3\" class=\"edge\">\n",
       "<title>v3&#45;&gt;v4</title>\n",
       "<path fill=\"none\" stroke=\"black\" d=\"M234.4,-18C241.89,-18 250.18,-18 258.2,-18\"/>\n",
       "<polygon fill=\"black\" stroke=\"black\" points=\"258.1,-21.5 268.1,-18 258.1,-14.5 258.1,-21.5\"/>\n",
       "</g>\n",
       "<!-- v5 -->\n",
       "<g id=\"node5\" class=\"node\">\n",
       "<title>v5</title>\n",
       "<polygon fill=\"peachpuff\" stroke=\"black\" points=\"414,-36 360,-36 360,0 414,0 414,-36\"/>\n",
       "<text xml:space=\"preserve\" text-anchor=\"middle\" x=\"387\" y=\"-13.32\" font-family=\"Raleway\" font-size=\"14.00\">v5</text>\n",
       "</g>\n",
       "<!-- v4&#45;&gt;v5 -->\n",
       "<g id=\"edge4\" class=\"edge\">\n",
       "<title>v4&#45;&gt;v5</title>\n",
       "<path fill=\"none\" stroke=\"black\" d=\"M324.4,-18C331.89,-18 340.18,-18 348.2,-18\"/>\n",
       "<polygon fill=\"black\" stroke=\"black\" points=\"348.1,-21.5 358.1,-18 348.1,-14.5 348.1,-21.5\"/>\n",
       "</g>\n",
       "<!-- v6 -->\n",
       "<g id=\"node6\" class=\"node\">\n",
       "<title>v6</title>\n",
       "<polygon fill=\"peachpuff\" stroke=\"black\" points=\"504,-36 450,-36 450,0 504,0 504,-36\"/>\n",
       "<text xml:space=\"preserve\" text-anchor=\"middle\" x=\"477\" y=\"-13.32\" font-family=\"Raleway\" font-size=\"14.00\">v6</text>\n",
       "</g>\n",
       "<!-- v5&#45;&gt;v6 -->\n",
       "<g id=\"edge5\" class=\"edge\">\n",
       "<title>v5&#45;&gt;v6</title>\n",
       "<path fill=\"none\" stroke=\"black\" d=\"M414.4,-18C421.89,-18 430.18,-18 438.2,-18\"/>\n",
       "<polygon fill=\"black\" stroke=\"black\" points=\"438.1,-21.5 448.1,-18 438.1,-14.5 438.1,-21.5\"/>\n",
       "</g>\n",
       "<!-- v7 -->\n",
       "<g id=\"node7\" class=\"node\">\n",
       "<title>v7</title>\n",
       "<polygon fill=\"peachpuff\" stroke=\"black\" points=\"594,-36 540,-36 540,0 594,0 594,-36\"/>\n",
       "<text xml:space=\"preserve\" text-anchor=\"middle\" x=\"567\" y=\"-13.32\" font-family=\"Raleway\" font-size=\"14.00\">v7</text>\n",
       "</g>\n",
       "<!-- v6&#45;&gt;v7 -->\n",
       "<g id=\"edge6\" class=\"edge\">\n",
       "<title>v6&#45;&gt;v7</title>\n",
       "<path fill=\"none\" stroke=\"black\" d=\"M504.4,-18C511.89,-18 520.18,-18 528.2,-18\"/>\n",
       "<polygon fill=\"black\" stroke=\"black\" points=\"528.1,-21.5 538.1,-18 528.1,-14.5 528.1,-21.5\"/>\n",
       "</g>\n",
       "<!-- v8 -->\n",
       "<g id=\"node8\" class=\"node\">\n",
       "<title>v8</title>\n",
       "<polygon fill=\"peachpuff\" stroke=\"black\" points=\"684,-36 630,-36 630,0 684,0 684,-36\"/>\n",
       "<text xml:space=\"preserve\" text-anchor=\"middle\" x=\"657\" y=\"-13.32\" font-family=\"Raleway\" font-size=\"14.00\">v8 ✘</text>\n",
       "</g>\n",
       "<!-- v7&#45;&gt;v8 -->\n",
       "<g id=\"edge7\" class=\"edge\">\n",
       "<title>v7&#45;&gt;v8</title>\n",
       "<path fill=\"none\" stroke=\"black\" d=\"M594.4,-18C601.89,-18 610.18,-18 618.2,-18\"/>\n",
       "<polygon fill=\"black\" stroke=\"black\" points=\"618.1,-21.5 628.1,-18 618.1,-14.5 618.1,-21.5\"/>\n",
       "</g>\n",
       "</g>\n",
       "</svg>\n"
      ],
      "text/plain": [
       "<graphviz.graphs.Digraph at 0x10db45950>"
      ]
     },
     "metadata": {},
     "output_type": "display_data"
    }
   ],
   "source": [
    "# ignore\n",
    "display_versions({1: PASS, 3: UNRESOLVED, 4: FAIL, 8: FAIL})"
   ]
  },
  {
   "cell_type": "markdown",
   "metadata": {
    "slideshow": {
     "slide_type": "fragment"
    }
   },
   "source": [
    "So let us test this version and find that it fails, too:"
   ]
  },
  {
   "cell_type": "code",
   "execution_count": 74,
   "metadata": {
    "execution": {
     "iopub.execute_input": "2025-10-26T17:47:55.003045Z",
     "iopub.status.busy": "2025-10-26T17:47:55.002922Z",
     "iopub.status.idle": "2025-10-26T17:47:55.018724Z",
     "shell.execute_reply": "2025-10-26T17:47:55.018410Z"
    },
    "slideshow": {
     "slide_type": "subslide"
    }
   },
   "outputs": [
    {
     "name": "stdout",
     "output_type": "stream",
     "text": [
      "\u001b[34mdef\u001b[39;49;00m\u001b[37m \u001b[39;49;00m\u001b[32mremove_html_markup\u001b[39;49;00m(s):  \u001b[37m# type: ignore\u001b[39;49;00m\u001b[37m\u001b[39;49;00m\n",
      "    tag = \u001b[34mFalse\u001b[39;49;00m\u001b[37m\u001b[39;49;00m\n",
      "    quote = \u001b[34mFalse\u001b[39;49;00m\u001b[37m\u001b[39;49;00m\n",
      "    out = \u001b[33m\"\u001b[39;49;00m\u001b[33m\"\u001b[39;49;00m\u001b[37m\u001b[39;49;00m\n",
      "\u001b[37m\u001b[39;49;00m\n",
      "    \u001b[34mfor\u001b[39;49;00m c \u001b[35min\u001b[39;49;00m s:\u001b[37m\u001b[39;49;00m\n",
      "        \u001b[36mprint\u001b[39;49;00m(\u001b[33m\"\u001b[39;49;00m\u001b[33mc =\u001b[39;49;00m\u001b[33m\"\u001b[39;49;00m, \u001b[36mrepr\u001b[39;49;00m(c), \u001b[33m\"\u001b[39;49;00m\u001b[33mtag =\u001b[39;49;00m\u001b[33m\"\u001b[39;49;00m, tag, \u001b[33m\"\u001b[39;49;00m\u001b[33mquote =\u001b[39;49;00m\u001b[33m\"\u001b[39;49;00m, quote)\u001b[37m\u001b[39;49;00m\n",
      "\u001b[37m\u001b[39;49;00m\n",
      "        \u001b[34mif\u001b[39;49;00m c == \u001b[33m'\u001b[39;49;00m\u001b[33m<\u001b[39;49;00m\u001b[33m'\u001b[39;49;00m \u001b[35mand\u001b[39;49;00m \u001b[35mnot\u001b[39;49;00m quote:\u001b[37m\u001b[39;49;00m\n",
      "            tag = \u001b[34mTrue\u001b[39;49;00m\u001b[37m\u001b[39;49;00m\n",
      "        \u001b[34melif\u001b[39;49;00m c == \u001b[33m'\u001b[39;49;00m\u001b[33m>\u001b[39;49;00m\u001b[33m'\u001b[39;49;00m \u001b[35mand\u001b[39;49;00m \u001b[35mnot\u001b[39;49;00m quote:\u001b[37m\u001b[39;49;00m\n",
      "            tag = \u001b[34mFalse\u001b[39;49;00m\u001b[37m\u001b[39;49;00m\n",
      "        \u001b[34melif\u001b[39;49;00m c == \u001b[33m'\u001b[39;49;00m\u001b[33m\"\u001b[39;49;00m\u001b[33m'\u001b[39;49;00m \u001b[35mor\u001b[39;49;00m c == \u001b[33m\"\u001b[39;49;00m\u001b[33m'\u001b[39;49;00m\u001b[33m\"\u001b[39;49;00m \u001b[35mand\u001b[39;49;00m tag:\u001b[37m\u001b[39;49;00m\n",
      "            quote = \u001b[35mnot\u001b[39;49;00m quote\u001b[37m\u001b[39;49;00m\n",
      "        \u001b[34melif\u001b[39;49;00m \u001b[35mnot\u001b[39;49;00m tag:\u001b[37m\u001b[39;49;00m\n",
      "            out = out + c\u001b[37m\u001b[39;49;00m\n",
      "\u001b[37m\u001b[39;49;00m\n",
      "    \u001b[34mreturn\u001b[39;49;00m out\u001b[37m\u001b[39;49;00m"
     ]
    }
   ],
   "source": [
    "print_file('remove_html_markup.py')"
   ]
  },
  {
   "cell_type": "code",
   "execution_count": 75,
   "metadata": {
    "execution": {
     "iopub.execute_input": "2025-10-26T17:47:55.020174Z",
     "iopub.status.busy": "2025-10-26T17:47:55.020068Z",
     "iopub.status.idle": "2025-10-26T17:47:55.022336Z",
     "shell.execute_reply": "2025-10-26T17:47:55.021919Z"
    },
    "slideshow": {
     "slide_type": "subslide"
    }
   },
   "outputs": [],
   "source": [
    "exec(open('remove_html_markup.py').read())"
   ]
  },
  {
   "cell_type": "code",
   "execution_count": 76,
   "metadata": {
    "execution": {
     "iopub.execute_input": "2025-10-26T17:47:55.024214Z",
     "iopub.status.busy": "2025-10-26T17:47:55.024063Z",
     "iopub.status.idle": "2025-10-26T17:47:55.027088Z",
     "shell.execute_reply": "2025-10-26T17:47:55.026797Z"
    },
    "slideshow": {
     "slide_type": "fragment"
    }
   },
   "outputs": [
    {
     "name": "stdout",
     "output_type": "stream",
     "text": [
      "c = '\"' tag = False quote = False\n",
      "c = 'f' tag = False quote = True\n",
      "c = 'o' tag = False quote = True\n",
      "c = 'o' tag = False quote = True\n",
      "c = '\"' tag = False quote = True\n"
     ]
    },
    {
     "data": {
      "text/plain": [
       "'foo'"
      ]
     },
     "execution_count": 76,
     "metadata": {},
     "output_type": "execute_result"
    }
   ],
   "source": [
    "remove_html_markup('\"foo\"')"
   ]
  },
  {
   "cell_type": "markdown",
   "metadata": {
    "slideshow": {
     "slide_type": "fragment"
    }
   },
   "source": [
    "We mark the version as `bad`. `git bisect` then checks out version 2 as the last version to assess."
   ]
  },
  {
   "cell_type": "code",
   "execution_count": 77,
   "metadata": {
    "execution": {
     "iopub.execute_input": "2025-10-26T17:47:55.028817Z",
     "iopub.status.busy": "2025-10-26T17:47:55.028729Z",
     "iopub.status.idle": "2025-10-26T17:47:55.169604Z",
     "shell.execute_reply": "2025-10-26T17:47:55.168941Z"
    },
    "slideshow": {
     "slide_type": "fragment"
    }
   },
   "outputs": [
    {
     "name": "stdout",
     "output_type": "stream",
     "text": [
      "Bisecting: 0 revisions left to test after this (roughly 0 steps)\r\n",
      "[1387f381eee63c725f2224744213773b84d9dce6] Second version\r\n"
     ]
    }
   ],
   "source": [
    "!git bisect bad"
   ]
  },
  {
   "cell_type": "code",
   "execution_count": 78,
   "metadata": {
    "execution": {
     "iopub.execute_input": "2025-10-26T17:47:55.172190Z",
     "iopub.status.busy": "2025-10-26T17:47:55.172024Z",
     "iopub.status.idle": "2025-10-26T17:47:55.632114Z",
     "shell.execute_reply": "2025-10-26T17:47:55.631674Z"
    },
    "slideshow": {
     "slide_type": "subslide"
    },
    "tags": [
     "remove-input"
    ]
   },
   "outputs": [
    {
     "data": {
      "image/svg+xml": [
       "<?xml version=\"1.0\" encoding=\"UTF-8\" standalone=\"no\"?>\n",
       "<!DOCTYPE svg PUBLIC \"-//W3C//DTD SVG 1.1//EN\"\n",
       " \"http://www.w3.org/Graphics/SVG/1.1/DTD/svg11.dtd\">\n",
       "<!-- Generated by graphviz version 14.0.2 (20251019.1705)\n",
       " -->\n",
       "<!-- Pages: 1 -->\n",
       "<svg width=\"692pt\" height=\"44pt\"\n",
       " viewBox=\"0.00 0.00 692.00 44.00\" xmlns=\"http://www.w3.org/2000/svg\" xmlns:xlink=\"http://www.w3.org/1999/xlink\">\n",
       "<g id=\"graph0\" class=\"graph\" transform=\"scale(1 1) rotate(0) translate(4 40)\">\n",
       "<polygon fill=\"white\" stroke=\"none\" points=\"-4,4 -4,-40 688,-40 688,4 -4,4\"/>\n",
       "<!-- v1 -->\n",
       "<g id=\"node1\" class=\"node\">\n",
       "<title>v1</title>\n",
       "<polygon fill=\"peachpuff\" stroke=\"black\" points=\"54,-36 0,-36 0,0 54,0 54,-36\"/>\n",
       "<text xml:space=\"preserve\" text-anchor=\"middle\" x=\"27\" y=\"-13.32\" font-family=\"Raleway\" font-size=\"14.00\">v1 ✔</text>\n",
       "</g>\n",
       "<!-- v2 -->\n",
       "<g id=\"node2\" class=\"node\">\n",
       "<title>v2</title>\n",
       "<polygon fill=\"peachpuff\" stroke=\"black\" points=\"144,-36 90,-36 90,0 144,0 144,-36\"/>\n",
       "<text xml:space=\"preserve\" text-anchor=\"middle\" x=\"117\" y=\"-13.32\" font-family=\"Raleway\" font-size=\"14.00\">v2 ?</text>\n",
       "</g>\n",
       "<!-- v1&#45;&gt;v2 -->\n",
       "<g id=\"edge1\" class=\"edge\">\n",
       "<title>v1&#45;&gt;v2</title>\n",
       "<path fill=\"none\" stroke=\"black\" d=\"M54.4,-18C61.89,-18 70.18,-18 78.2,-18\"/>\n",
       "<polygon fill=\"black\" stroke=\"black\" points=\"78.1,-21.5 88.1,-18 78.1,-14.5 78.1,-21.5\"/>\n",
       "</g>\n",
       "<!-- v3 -->\n",
       "<g id=\"node3\" class=\"node\">\n",
       "<title>v3</title>\n",
       "<polygon fill=\"peachpuff\" stroke=\"black\" points=\"234,-36 180,-36 180,0 234,0 234,-36\"/>\n",
       "<text xml:space=\"preserve\" text-anchor=\"middle\" x=\"207\" y=\"-13.32\" font-family=\"Raleway\" font-size=\"14.00\">v3 ✘</text>\n",
       "</g>\n",
       "<!-- v2&#45;&gt;v3 -->\n",
       "<g id=\"edge2\" class=\"edge\">\n",
       "<title>v2&#45;&gt;v3</title>\n",
       "<path fill=\"none\" stroke=\"black\" d=\"M144.4,-18C151.89,-18 160.18,-18 168.2,-18\"/>\n",
       "<polygon fill=\"black\" stroke=\"black\" points=\"168.1,-21.5 178.1,-18 168.1,-14.5 168.1,-21.5\"/>\n",
       "</g>\n",
       "<!-- v4 -->\n",
       "<g id=\"node4\" class=\"node\">\n",
       "<title>v4</title>\n",
       "<polygon fill=\"peachpuff\" stroke=\"black\" points=\"324,-36 270,-36 270,0 324,0 324,-36\"/>\n",
       "<text xml:space=\"preserve\" text-anchor=\"middle\" x=\"297\" y=\"-13.32\" font-family=\"Raleway\" font-size=\"14.00\">v4 ✘</text>\n",
       "</g>\n",
       "<!-- v3&#45;&gt;v4 -->\n",
       "<g id=\"edge3\" class=\"edge\">\n",
       "<title>v3&#45;&gt;v4</title>\n",
       "<path fill=\"none\" stroke=\"black\" d=\"M234.4,-18C241.89,-18 250.18,-18 258.2,-18\"/>\n",
       "<polygon fill=\"black\" stroke=\"black\" points=\"258.1,-21.5 268.1,-18 258.1,-14.5 258.1,-21.5\"/>\n",
       "</g>\n",
       "<!-- v5 -->\n",
       "<g id=\"node5\" class=\"node\">\n",
       "<title>v5</title>\n",
       "<polygon fill=\"peachpuff\" stroke=\"black\" points=\"414,-36 360,-36 360,0 414,0 414,-36\"/>\n",
       "<text xml:space=\"preserve\" text-anchor=\"middle\" x=\"387\" y=\"-13.32\" font-family=\"Raleway\" font-size=\"14.00\">v5</text>\n",
       "</g>\n",
       "<!-- v4&#45;&gt;v5 -->\n",
       "<g id=\"edge4\" class=\"edge\">\n",
       "<title>v4&#45;&gt;v5</title>\n",
       "<path fill=\"none\" stroke=\"black\" d=\"M324.4,-18C331.89,-18 340.18,-18 348.2,-18\"/>\n",
       "<polygon fill=\"black\" stroke=\"black\" points=\"348.1,-21.5 358.1,-18 348.1,-14.5 348.1,-21.5\"/>\n",
       "</g>\n",
       "<!-- v6 -->\n",
       "<g id=\"node6\" class=\"node\">\n",
       "<title>v6</title>\n",
       "<polygon fill=\"peachpuff\" stroke=\"black\" points=\"504,-36 450,-36 450,0 504,0 504,-36\"/>\n",
       "<text xml:space=\"preserve\" text-anchor=\"middle\" x=\"477\" y=\"-13.32\" font-family=\"Raleway\" font-size=\"14.00\">v6</text>\n",
       "</g>\n",
       "<!-- v5&#45;&gt;v6 -->\n",
       "<g id=\"edge5\" class=\"edge\">\n",
       "<title>v5&#45;&gt;v6</title>\n",
       "<path fill=\"none\" stroke=\"black\" d=\"M414.4,-18C421.89,-18 430.18,-18 438.2,-18\"/>\n",
       "<polygon fill=\"black\" stroke=\"black\" points=\"438.1,-21.5 448.1,-18 438.1,-14.5 438.1,-21.5\"/>\n",
       "</g>\n",
       "<!-- v7 -->\n",
       "<g id=\"node7\" class=\"node\">\n",
       "<title>v7</title>\n",
       "<polygon fill=\"peachpuff\" stroke=\"black\" points=\"594,-36 540,-36 540,0 594,0 594,-36\"/>\n",
       "<text xml:space=\"preserve\" text-anchor=\"middle\" x=\"567\" y=\"-13.32\" font-family=\"Raleway\" font-size=\"14.00\">v7</text>\n",
       "</g>\n",
       "<!-- v6&#45;&gt;v7 -->\n",
       "<g id=\"edge6\" class=\"edge\">\n",
       "<title>v6&#45;&gt;v7</title>\n",
       "<path fill=\"none\" stroke=\"black\" d=\"M504.4,-18C511.89,-18 520.18,-18 528.2,-18\"/>\n",
       "<polygon fill=\"black\" stroke=\"black\" points=\"528.1,-21.5 538.1,-18 528.1,-14.5 528.1,-21.5\"/>\n",
       "</g>\n",
       "<!-- v8 -->\n",
       "<g id=\"node8\" class=\"node\">\n",
       "<title>v8</title>\n",
       "<polygon fill=\"peachpuff\" stroke=\"black\" points=\"684,-36 630,-36 630,0 684,0 684,-36\"/>\n",
       "<text xml:space=\"preserve\" text-anchor=\"middle\" x=\"657\" y=\"-13.32\" font-family=\"Raleway\" font-size=\"14.00\">v8 ✘</text>\n",
       "</g>\n",
       "<!-- v7&#45;&gt;v8 -->\n",
       "<g id=\"edge7\" class=\"edge\">\n",
       "<title>v7&#45;&gt;v8</title>\n",
       "<path fill=\"none\" stroke=\"black\" d=\"M594.4,-18C601.89,-18 610.18,-18 618.2,-18\"/>\n",
       "<polygon fill=\"black\" stroke=\"black\" points=\"618.1,-21.5 628.1,-18 618.1,-14.5 618.1,-21.5\"/>\n",
       "</g>\n",
       "</g>\n",
       "</svg>\n"
      ],
      "text/plain": [
       "<graphviz.graphs.Digraph at 0x10db336f0>"
      ]
     },
     "metadata": {},
     "output_type": "display_data"
    }
   ],
   "source": [
    "# ignore\n",
    "display_versions({1: PASS, 2: UNRESOLVED, 3: FAIL, 4: FAIL, 8: FAIL})"
   ]
  },
  {
   "cell_type": "markdown",
   "metadata": {
    "slideshow": {
     "slide_type": "fragment"
    }
   },
   "source": [
    "When we test version 2, we find that it fails as well:"
   ]
  },
  {
   "cell_type": "code",
   "execution_count": 79,
   "metadata": {
    "execution": {
     "iopub.execute_input": "2025-10-26T17:47:55.634456Z",
     "iopub.status.busy": "2025-10-26T17:47:55.634297Z",
     "iopub.status.idle": "2025-10-26T17:47:55.649100Z",
     "shell.execute_reply": "2025-10-26T17:47:55.648735Z"
    },
    "slideshow": {
     "slide_type": "subslide"
    }
   },
   "outputs": [
    {
     "name": "stdout",
     "output_type": "stream",
     "text": [
      "\u001b[34mdef\u001b[39;49;00m\u001b[37m \u001b[39;49;00m\u001b[32mremove_html_markup\u001b[39;49;00m(s):  \u001b[37m# type: ignore\u001b[39;49;00m\u001b[37m\u001b[39;49;00m\n",
      "    tag = \u001b[34mFalse\u001b[39;49;00m\u001b[37m\u001b[39;49;00m\n",
      "    quote = \u001b[34mFalse\u001b[39;49;00m\u001b[37m\u001b[39;49;00m\n",
      "    out = \u001b[33m\"\u001b[39;49;00m\u001b[33m\"\u001b[39;49;00m\u001b[37m\u001b[39;49;00m\n",
      "\u001b[37m\u001b[39;49;00m\n",
      "    \u001b[34mfor\u001b[39;49;00m c \u001b[35min\u001b[39;49;00m s:\u001b[37m\u001b[39;49;00m\n",
      "        \u001b[34mif\u001b[39;49;00m c == \u001b[33m'\u001b[39;49;00m\u001b[33m<\u001b[39;49;00m\u001b[33m'\u001b[39;49;00m \u001b[35mand\u001b[39;49;00m \u001b[35mnot\u001b[39;49;00m quote:\u001b[37m\u001b[39;49;00m\n",
      "            tag = \u001b[34mTrue\u001b[39;49;00m\u001b[37m\u001b[39;49;00m\n",
      "        \u001b[34melif\u001b[39;49;00m c == \u001b[33m'\u001b[39;49;00m\u001b[33m>\u001b[39;49;00m\u001b[33m'\u001b[39;49;00m \u001b[35mand\u001b[39;49;00m \u001b[35mnot\u001b[39;49;00m quote:\u001b[37m\u001b[39;49;00m\n",
      "            tag = \u001b[34mFalse\u001b[39;49;00m\u001b[37m\u001b[39;49;00m\n",
      "        \u001b[34melif\u001b[39;49;00m c == \u001b[33m'\u001b[39;49;00m\u001b[33m\"\u001b[39;49;00m\u001b[33m'\u001b[39;49;00m \u001b[35mor\u001b[39;49;00m c == \u001b[33m\"\u001b[39;49;00m\u001b[33m'\u001b[39;49;00m\u001b[33m\"\u001b[39;49;00m \u001b[35mand\u001b[39;49;00m tag:\u001b[37m\u001b[39;49;00m\n",
      "            quote = \u001b[35mnot\u001b[39;49;00m quote\u001b[37m\u001b[39;49;00m\n",
      "        \u001b[34melif\u001b[39;49;00m \u001b[35mnot\u001b[39;49;00m tag:\u001b[37m\u001b[39;49;00m\n",
      "            out = out + c\u001b[37m\u001b[39;49;00m\n",
      "\u001b[37m\u001b[39;49;00m\n",
      "    \u001b[34mreturn\u001b[39;49;00m out\u001b[37m\u001b[39;49;00m"
     ]
    }
   ],
   "source": [
    "print_file('remove_html_markup.py')"
   ]
  },
  {
   "cell_type": "code",
   "execution_count": 80,
   "metadata": {
    "execution": {
     "iopub.execute_input": "2025-10-26T17:47:55.650916Z",
     "iopub.status.busy": "2025-10-26T17:47:55.650801Z",
     "iopub.status.idle": "2025-10-26T17:47:55.652681Z",
     "shell.execute_reply": "2025-10-26T17:47:55.652447Z"
    },
    "slideshow": {
     "slide_type": "subslide"
    }
   },
   "outputs": [],
   "source": [
    "exec(open('remove_html_markup.py').read())"
   ]
  },
  {
   "cell_type": "code",
   "execution_count": 81,
   "metadata": {
    "execution": {
     "iopub.execute_input": "2025-10-26T17:47:55.653923Z",
     "iopub.status.busy": "2025-10-26T17:47:55.653845Z",
     "iopub.status.idle": "2025-10-26T17:47:55.655738Z",
     "shell.execute_reply": "2025-10-26T17:47:55.655475Z"
    },
    "slideshow": {
     "slide_type": "fragment"
    }
   },
   "outputs": [
    {
     "data": {
      "text/plain": [
       "'foo'"
      ]
     },
     "execution_count": 81,
     "metadata": {},
     "output_type": "execute_result"
    }
   ],
   "source": [
    "remove_html_markup('\"foo\"')"
   ]
  },
  {
   "cell_type": "markdown",
   "metadata": {
    "slideshow": {
     "slide_type": "fragment"
    }
   },
   "source": [
    "Hence, version 2 is _the version that introduced the error_."
   ]
  },
  {
   "cell_type": "code",
   "execution_count": 82,
   "metadata": {
    "execution": {
     "iopub.execute_input": "2025-10-26T17:47:55.657280Z",
     "iopub.status.busy": "2025-10-26T17:47:55.657174Z",
     "iopub.status.idle": "2025-10-26T17:47:56.066706Z",
     "shell.execute_reply": "2025-10-26T17:47:56.066373Z"
    },
    "slideshow": {
     "slide_type": "fragment"
    },
    "tags": [
     "remove-input"
    ]
   },
   "outputs": [
    {
     "data": {
      "image/svg+xml": [
       "<?xml version=\"1.0\" encoding=\"UTF-8\" standalone=\"no\"?>\n",
       "<!DOCTYPE svg PUBLIC \"-//W3C//DTD SVG 1.1//EN\"\n",
       " \"http://www.w3.org/Graphics/SVG/1.1/DTD/svg11.dtd\">\n",
       "<!-- Generated by graphviz version 14.0.2 (20251019.1705)\n",
       " -->\n",
       "<!-- Pages: 1 -->\n",
       "<svg width=\"692pt\" height=\"44pt\"\n",
       " viewBox=\"0.00 0.00 692.00 44.00\" xmlns=\"http://www.w3.org/2000/svg\" xmlns:xlink=\"http://www.w3.org/1999/xlink\">\n",
       "<g id=\"graph0\" class=\"graph\" transform=\"scale(1 1) rotate(0) translate(4 40)\">\n",
       "<polygon fill=\"white\" stroke=\"none\" points=\"-4,4 -4,-40 688,-40 688,4 -4,4\"/>\n",
       "<!-- v1 -->\n",
       "<g id=\"node1\" class=\"node\">\n",
       "<title>v1</title>\n",
       "<polygon fill=\"peachpuff\" stroke=\"black\" points=\"54,-36 0,-36 0,0 54,0 54,-36\"/>\n",
       "<text xml:space=\"preserve\" text-anchor=\"middle\" x=\"27\" y=\"-13.32\" font-family=\"Raleway\" font-size=\"14.00\">v1 ✔</text>\n",
       "</g>\n",
       "<!-- v2 -->\n",
       "<g id=\"node2\" class=\"node\">\n",
       "<title>v2</title>\n",
       "<polygon fill=\"peachpuff\" stroke=\"black\" points=\"144,-36 90,-36 90,0 144,0 144,-36\"/>\n",
       "<text xml:space=\"preserve\" text-anchor=\"middle\" x=\"117\" y=\"-13.32\" font-family=\"Raleway\" font-size=\"14.00\">v2 ✘</text>\n",
       "</g>\n",
       "<!-- v1&#45;&gt;v2 -->\n",
       "<g id=\"edge1\" class=\"edge\">\n",
       "<title>v1&#45;&gt;v2</title>\n",
       "<path fill=\"none\" stroke=\"black\" d=\"M54.4,-18C61.89,-18 70.18,-18 78.2,-18\"/>\n",
       "<polygon fill=\"black\" stroke=\"black\" points=\"78.1,-21.5 88.1,-18 78.1,-14.5 78.1,-21.5\"/>\n",
       "</g>\n",
       "<!-- v3 -->\n",
       "<g id=\"node3\" class=\"node\">\n",
       "<title>v3</title>\n",
       "<polygon fill=\"peachpuff\" stroke=\"black\" points=\"234,-36 180,-36 180,0 234,0 234,-36\"/>\n",
       "<text xml:space=\"preserve\" text-anchor=\"middle\" x=\"207\" y=\"-13.32\" font-family=\"Raleway\" font-size=\"14.00\">v3 ✘</text>\n",
       "</g>\n",
       "<!-- v2&#45;&gt;v3 -->\n",
       "<g id=\"edge2\" class=\"edge\">\n",
       "<title>v2&#45;&gt;v3</title>\n",
       "<path fill=\"none\" stroke=\"black\" d=\"M144.4,-18C151.89,-18 160.18,-18 168.2,-18\"/>\n",
       "<polygon fill=\"black\" stroke=\"black\" points=\"168.1,-21.5 178.1,-18 168.1,-14.5 168.1,-21.5\"/>\n",
       "</g>\n",
       "<!-- v4 -->\n",
       "<g id=\"node4\" class=\"node\">\n",
       "<title>v4</title>\n",
       "<polygon fill=\"peachpuff\" stroke=\"black\" points=\"324,-36 270,-36 270,0 324,0 324,-36\"/>\n",
       "<text xml:space=\"preserve\" text-anchor=\"middle\" x=\"297\" y=\"-13.32\" font-family=\"Raleway\" font-size=\"14.00\">v4 ✘</text>\n",
       "</g>\n",
       "<!-- v3&#45;&gt;v4 -->\n",
       "<g id=\"edge3\" class=\"edge\">\n",
       "<title>v3&#45;&gt;v4</title>\n",
       "<path fill=\"none\" stroke=\"black\" d=\"M234.4,-18C241.89,-18 250.18,-18 258.2,-18\"/>\n",
       "<polygon fill=\"black\" stroke=\"black\" points=\"258.1,-21.5 268.1,-18 258.1,-14.5 258.1,-21.5\"/>\n",
       "</g>\n",
       "<!-- v5 -->\n",
       "<g id=\"node5\" class=\"node\">\n",
       "<title>v5</title>\n",
       "<polygon fill=\"peachpuff\" stroke=\"black\" points=\"414,-36 360,-36 360,0 414,0 414,-36\"/>\n",
       "<text xml:space=\"preserve\" text-anchor=\"middle\" x=\"387\" y=\"-13.32\" font-family=\"Raleway\" font-size=\"14.00\">v5</text>\n",
       "</g>\n",
       "<!-- v4&#45;&gt;v5 -->\n",
       "<g id=\"edge4\" class=\"edge\">\n",
       "<title>v4&#45;&gt;v5</title>\n",
       "<path fill=\"none\" stroke=\"black\" d=\"M324.4,-18C331.89,-18 340.18,-18 348.2,-18\"/>\n",
       "<polygon fill=\"black\" stroke=\"black\" points=\"348.1,-21.5 358.1,-18 348.1,-14.5 348.1,-21.5\"/>\n",
       "</g>\n",
       "<!-- v6 -->\n",
       "<g id=\"node6\" class=\"node\">\n",
       "<title>v6</title>\n",
       "<polygon fill=\"peachpuff\" stroke=\"black\" points=\"504,-36 450,-36 450,0 504,0 504,-36\"/>\n",
       "<text xml:space=\"preserve\" text-anchor=\"middle\" x=\"477\" y=\"-13.32\" font-family=\"Raleway\" font-size=\"14.00\">v6</text>\n",
       "</g>\n",
       "<!-- v5&#45;&gt;v6 -->\n",
       "<g id=\"edge5\" class=\"edge\">\n",
       "<title>v5&#45;&gt;v6</title>\n",
       "<path fill=\"none\" stroke=\"black\" d=\"M414.4,-18C421.89,-18 430.18,-18 438.2,-18\"/>\n",
       "<polygon fill=\"black\" stroke=\"black\" points=\"438.1,-21.5 448.1,-18 438.1,-14.5 438.1,-21.5\"/>\n",
       "</g>\n",
       "<!-- v7 -->\n",
       "<g id=\"node7\" class=\"node\">\n",
       "<title>v7</title>\n",
       "<polygon fill=\"peachpuff\" stroke=\"black\" points=\"594,-36 540,-36 540,0 594,0 594,-36\"/>\n",
       "<text xml:space=\"preserve\" text-anchor=\"middle\" x=\"567\" y=\"-13.32\" font-family=\"Raleway\" font-size=\"14.00\">v7</text>\n",
       "</g>\n",
       "<!-- v6&#45;&gt;v7 -->\n",
       "<g id=\"edge6\" class=\"edge\">\n",
       "<title>v6&#45;&gt;v7</title>\n",
       "<path fill=\"none\" stroke=\"black\" d=\"M504.4,-18C511.89,-18 520.18,-18 528.2,-18\"/>\n",
       "<polygon fill=\"black\" stroke=\"black\" points=\"528.1,-21.5 538.1,-18 528.1,-14.5 528.1,-21.5\"/>\n",
       "</g>\n",
       "<!-- v8 -->\n",
       "<g id=\"node8\" class=\"node\">\n",
       "<title>v8</title>\n",
       "<polygon fill=\"peachpuff\" stroke=\"black\" points=\"684,-36 630,-36 630,0 684,0 684,-36\"/>\n",
       "<text xml:space=\"preserve\" text-anchor=\"middle\" x=\"657\" y=\"-13.32\" font-family=\"Raleway\" font-size=\"14.00\">v8 ✘</text>\n",
       "</g>\n",
       "<!-- v7&#45;&gt;v8 -->\n",
       "<g id=\"edge7\" class=\"edge\">\n",
       "<title>v7&#45;&gt;v8</title>\n",
       "<path fill=\"none\" stroke=\"black\" d=\"M594.4,-18C601.89,-18 610.18,-18 618.2,-18\"/>\n",
       "<polygon fill=\"black\" stroke=\"black\" points=\"618.1,-21.5 628.1,-18 618.1,-14.5 618.1,-21.5\"/>\n",
       "</g>\n",
       "</g>\n",
       "</svg>\n"
      ],
      "text/plain": [
       "<graphviz.graphs.Digraph at 0x10db336f0>"
      ]
     },
     "metadata": {},
     "output_type": "display_data"
    }
   ],
   "source": [
    "# ignore\n",
    "display_versions({1: PASS, 2: FAIL, 3: FAIL, 4: FAIL, 8: FAIL})"
   ]
  },
  {
   "cell_type": "markdown",
   "metadata": {
    "slideshow": {
     "slide_type": "fragment"
    }
   },
   "source": [
    "When we let `git bisect` know that this version fails, it tells us that this version is indeed the \"first bad commit\":"
   ]
  },
  {
   "cell_type": "code",
   "execution_count": 83,
   "metadata": {
    "execution": {
     "iopub.execute_input": "2025-10-26T17:47:56.068348Z",
     "iopub.status.busy": "2025-10-26T17:47:56.068236Z",
     "iopub.status.idle": "2025-10-26T17:47:56.204191Z",
     "shell.execute_reply": "2025-10-26T17:47:56.203665Z"
    },
    "slideshow": {
     "slide_type": "subslide"
    }
   },
   "outputs": [
    {
     "name": "stdout",
     "output_type": "stream",
     "text": [
      "1387f381eee63c725f2224744213773b84d9dce6 is the first bad commit\r\n",
      "\u001b[33mcommit 1387f381eee63c725f2224744213773b84d9dce6\u001b[m\u001b[33m (\u001b[m\u001b[1;36mHEAD\u001b[m\u001b[33m)\u001b[m\r\n",
      "Author: Demo User <demo-user@example.com>\r\n",
      "Date:   Sun Oct 26 18:47:51 2025 +0100\r\n",
      "\r\n",
      "    Second version\r\n",
      "\r\n",
      " remove_html_markup.py | 7 \u001b[32m+++++\u001b[m\u001b[31m--\u001b[m\r\n",
      " 1 file changed, 5 insertions(+), 2 deletions(-)\r\n"
     ]
    }
   ],
   "source": [
    "!git bisect bad"
   ]
  },
  {
   "cell_type": "markdown",
   "metadata": {
    "slideshow": {
     "slide_type": "fragment"
    }
   },
   "source": [
    "By comparing this version against the older one, we can see the lines it introduced – namely (buggy) handling of double quotes:"
   ]
  },
  {
   "cell_type": "code",
   "execution_count": 84,
   "metadata": {
    "execution": {
     "iopub.execute_input": "2025-10-26T17:47:56.206255Z",
     "iopub.status.busy": "2025-10-26T17:47:56.206108Z",
     "iopub.status.idle": "2025-10-26T17:47:56.338774Z",
     "shell.execute_reply": "2025-10-26T17:47:56.333649Z"
    },
    "slideshow": {
     "slide_type": "subslide"
    }
   },
   "outputs": [
    {
     "name": "stdout",
     "output_type": "stream",
     "text": [
      "\u001b[1mdiff --git a/remove_html_markup.py b/remove_html_markup.py\u001b[m\r\n",
      "\u001b[1mindex 4999dc0..768bae9 100644\u001b[m\r\n",
      "\u001b[1m--- a/remove_html_markup.py\u001b[m\r\n",
      "\u001b[1m+++ b/remove_html_markup.py\u001b[m\r\n",
      "\u001b[36m@@ -1,12 +1,15 @@\u001b[m\r\n",
      " def remove_html_markup(s):  # type: ignore\u001b[m\r\n",
      "     tag = False\u001b[m\r\n",
      "\u001b[32m+\u001b[m\u001b[32m    quote = False\u001b[m\r\n",
      "     out = \"\"\u001b[m\r\n",
      " \u001b[m\r\n",
      "     for c in s:\u001b[m\r\n",
      "\u001b[31m-        if c == '<':    # start of markup\u001b[m\r\n",
      "\u001b[32m+\u001b[m\u001b[32m        if c == '<' and not quote:\u001b[m\r\n",
      "             tag = True\u001b[m\r\n",
      "\u001b[31m-        elif c == '>':  # end of markup\u001b[m\r\n",
      "\u001b[32m+\u001b[m\u001b[32m        elif c == '>' and not quote:\u001b[m\r\n",
      "             tag = False\u001b[m\r\n",
      "\u001b[32m+\u001b[m\u001b[32m        elif c == '\"' or c == \"'\" and tag:\u001b[m\r\n",
      "\u001b[32m+\u001b[m\u001b[32m            quote = not quote\u001b[m\r\n",
      "         elif not tag:\u001b[m\r\n",
      "             out = out + c\u001b[m\r\n",
      " \u001b[m\r\n"
     ]
    }
   ],
   "source": [
    "!git diff HEAD^"
   ]
  },
  {
   "cell_type": "markdown",
   "metadata": {
    "slideshow": {
     "slide_type": "subslide"
    }
   },
   "source": [
    "Now that we have identified the failure-inducing change (\"something is wrong in `remove_html_markup()`, and it has to do with quote handling\"), we can end our `git bisect` session. `git bisect reset` gets us back to the start, such that we can fix the most recent version."
   ]
  },
  {
   "cell_type": "code",
   "execution_count": 85,
   "metadata": {
    "execution": {
     "iopub.execute_input": "2025-10-26T17:47:56.343378Z",
     "iopub.status.busy": "2025-10-26T17:47:56.343203Z",
     "iopub.status.idle": "2025-10-26T17:47:56.485275Z",
     "shell.execute_reply": "2025-10-26T17:47:56.484090Z"
    },
    "slideshow": {
     "slide_type": "fragment"
    }
   },
   "outputs": [
    {
     "name": "stdout",
     "output_type": "stream",
     "text": [
      "Previous HEAD position was 1387f38 Second version\r\n",
      "HEAD is now at e5b94d5 Eighth version (with proper assertion)\r\n"
     ]
    }
   ],
   "source": [
    "!git bisect reset"
   ]
  },
  {
   "cell_type": "markdown",
   "metadata": {
    "slideshow": {
     "slide_type": "slide"
    }
   },
   "source": [
    "## Automatic Bisecting"
   ]
  },
  {
   "cell_type": "markdown",
   "metadata": {
    "slideshow": {
     "slide_type": "fragment"
    }
   },
   "source": [
    "Even though manual bisecting can be quick, we can speed things up by writing a _script_ that does the testing for us. With such a script, we can have `git bisect` run fully automatically."
   ]
  },
  {
   "cell_type": "markdown",
   "metadata": {
    "slideshow": {
     "slide_type": "subslide"
    }
   },
   "source": [
    "A test script to automate bisecting does the following:\n",
    "\n",
    "* It (re)builds the program under test for the given version\n",
    "* It tests whether the failure is present.\n",
    "\n",
    "Its exit code indicates the test outcome:\n",
    "\n",
    "* 0 means \"good\" (the failure did not occur)\n",
    "* 1 means \"bad\" (the failure did occur)\n",
    "* 125 means \"undetermined\" (we cannot decide if the failure is present or not)\n",
    "\n",
    "The latter (\"undetermined\") case may occur if the program fails to build, or shows some other behavior."
   ]
  },
  {
   "cell_type": "markdown",
   "metadata": {
    "slideshow": {
     "slide_type": "subslide"
    }
   },
   "source": [
    "We use a Python script `test.py` that reads in `remove_html_markup.py` and then tests for the presence or absence of the failure. (Since this is Python, we don't have to rebuild things.)"
   ]
  },
  {
   "cell_type": "code",
   "execution_count": 86,
   "metadata": {
    "execution": {
     "iopub.execute_input": "2025-10-26T17:47:56.491367Z",
     "iopub.status.busy": "2025-10-26T17:47:56.490882Z",
     "iopub.status.idle": "2025-10-26T17:47:56.499330Z",
     "shell.execute_reply": "2025-10-26T17:47:56.498405Z"
    },
    "slideshow": {
     "slide_type": "subslide"
    },
    "tags": [
     "remove-input"
    ]
   },
   "outputs": [],
   "source": [
    "# ignore\n",
    "open('test.py', 'w').write('''\n",
    "#!/usr/bin/env python\n",
    "\n",
    "from remove_html_markup import remove_html_markup\n",
    "import sys\n",
    "\n",
    "result = remove_html_markup('\"foo\"')\n",
    "if result == '\"foo\"':\n",
    "    sys.exit(0)  # good/pass\n",
    "elif result == 'foo':\n",
    "    sys.exit(1)  # bad/fail\n",
    "else:\n",
    "    sys.exit(125)  # unresolved\n",
    "''');"
   ]
  },
  {
   "cell_type": "code",
   "execution_count": 87,
   "metadata": {
    "execution": {
     "iopub.execute_input": "2025-10-26T17:47:56.503540Z",
     "iopub.status.busy": "2025-10-26T17:47:56.503409Z",
     "iopub.status.idle": "2025-10-26T17:47:56.518612Z",
     "shell.execute_reply": "2025-10-26T17:47:56.518303Z"
    },
    "slideshow": {
     "slide_type": "subslide"
    }
   },
   "outputs": [
    {
     "name": "stdout",
     "output_type": "stream",
     "text": [
      "\u001b[37m#!/usr/bin/env python\u001b[39;49;00m\u001b[37m\u001b[39;49;00m\n",
      "\u001b[37m\u001b[39;49;00m\n",
      "\u001b[34mfrom\u001b[39;49;00m\u001b[37m \u001b[39;49;00m\u001b[04m\u001b[36mremove_html_markup\u001b[39;49;00m\u001b[37m \u001b[39;49;00m\u001b[34mimport\u001b[39;49;00m remove_html_markup\u001b[37m\u001b[39;49;00m\n",
      "\u001b[34mimport\u001b[39;49;00m\u001b[37m \u001b[39;49;00m\u001b[04m\u001b[36msys\u001b[39;49;00m\u001b[37m\u001b[39;49;00m\n",
      "\u001b[37m\u001b[39;49;00m\n",
      "result = remove_html_markup(\u001b[33m'\u001b[39;49;00m\u001b[33m\"\u001b[39;49;00m\u001b[33mfoo\u001b[39;49;00m\u001b[33m\"\u001b[39;49;00m\u001b[33m'\u001b[39;49;00m)\u001b[37m\u001b[39;49;00m\n",
      "\u001b[34mif\u001b[39;49;00m result == \u001b[33m'\u001b[39;49;00m\u001b[33m\"\u001b[39;49;00m\u001b[33mfoo\u001b[39;49;00m\u001b[33m\"\u001b[39;49;00m\u001b[33m'\u001b[39;49;00m:\u001b[37m\u001b[39;49;00m\n",
      "    sys.exit(\u001b[34m0\u001b[39;49;00m)  \u001b[37m# good/pass\u001b[39;49;00m\u001b[37m\u001b[39;49;00m\n",
      "\u001b[34melif\u001b[39;49;00m result == \u001b[33m'\u001b[39;49;00m\u001b[33mfoo\u001b[39;49;00m\u001b[33m'\u001b[39;49;00m:\u001b[37m\u001b[39;49;00m\n",
      "    sys.exit(\u001b[34m1\u001b[39;49;00m)  \u001b[37m# bad/fail\u001b[39;49;00m\u001b[37m\u001b[39;49;00m\n",
      "\u001b[34melse\u001b[39;49;00m:\u001b[37m\u001b[39;49;00m\n",
      "    sys.exit(\u001b[34m125\u001b[39;49;00m)  \u001b[37m# unresolved\u001b[39;49;00m\u001b[37m\u001b[39;49;00m"
     ]
    }
   ],
   "source": [
    "print_file('test.py')"
   ]
  },
  {
   "cell_type": "markdown",
   "metadata": {
    "slideshow": {
     "slide_type": "fragment"
    }
   },
   "source": [
    "Right now, we are with version 8 and thus in the \"failing\" state – our script exits with a code of 1:"
   ]
  },
  {
   "cell_type": "code",
   "execution_count": 88,
   "metadata": {
    "execution": {
     "iopub.execute_input": "2025-10-26T17:47:56.520340Z",
     "iopub.status.busy": "2025-10-26T17:47:56.520219Z",
     "iopub.status.idle": "2025-10-26T17:47:56.667932Z",
     "shell.execute_reply": "2025-10-26T17:47:56.667540Z"
    },
    "slideshow": {
     "slide_type": "subslide"
    }
   },
   "outputs": [
    {
     "name": "stdout",
     "output_type": "stream",
     "text": [
      "1\r\n"
     ]
    }
   ],
   "source": [
    "!python ./test.py; echo $?"
   ]
  },
  {
   "cell_type": "markdown",
   "metadata": {
    "slideshow": {
     "slide_type": "fragment"
    }
   },
   "source": [
    "Let us use our test script to bisect automatically. As with manual bisecting, we first have to tell `git bisect` which the good (passing) and bad (failing) versions are:"
   ]
  },
  {
   "cell_type": "code",
   "execution_count": 89,
   "metadata": {
    "execution": {
     "iopub.execute_input": "2025-10-26T17:47:56.669805Z",
     "iopub.status.busy": "2025-10-26T17:47:56.669663Z",
     "iopub.status.idle": "2025-10-26T17:47:56.798355Z",
     "shell.execute_reply": "2025-10-26T17:47:56.797398Z"
    },
    "slideshow": {
     "slide_type": "fragment"
    }
   },
   "outputs": [
    {
     "name": "stdout",
     "output_type": "stream",
     "text": [
      "status: waiting for both good and bad commits\r\n"
     ]
    }
   ],
   "source": [
    "!git bisect start"
   ]
  },
  {
   "cell_type": "code",
   "execution_count": 90,
   "metadata": {
    "execution": {
     "iopub.execute_input": "2025-10-26T17:47:56.802906Z",
     "iopub.status.busy": "2025-10-26T17:47:56.802039Z",
     "iopub.status.idle": "2025-10-26T17:47:56.943332Z",
     "shell.execute_reply": "2025-10-26T17:47:56.942290Z"
    },
    "slideshow": {
     "slide_type": "fragment"
    }
   },
   "outputs": [
    {
     "name": "stdout",
     "output_type": "stream",
     "text": [
      "status: waiting for bad commit, 1 good commit known\r\n"
     ]
    }
   ],
   "source": [
    "!git bisect good {versions[0]}"
   ]
  },
  {
   "cell_type": "code",
   "execution_count": 91,
   "metadata": {
    "execution": {
     "iopub.execute_input": "2025-10-26T17:47:56.948707Z",
     "iopub.status.busy": "2025-10-26T17:47:56.948311Z",
     "iopub.status.idle": "2025-10-26T17:47:57.109431Z",
     "shell.execute_reply": "2025-10-26T17:47:57.106711Z"
    },
    "slideshow": {
     "slide_type": "subslide"
    }
   },
   "outputs": [
    {
     "name": "stdout",
     "output_type": "stream",
     "text": [
      "Bisecting: 3 revisions left to test after this (roughly 2 steps)\r\n",
      "[e85967ef371579969f628e8cdea95af56f49e779] Fourth version (clueless)\r\n"
     ]
    }
   ],
   "source": [
    "!git bisect bad {versions[7]}"
   ]
  },
  {
   "cell_type": "markdown",
   "metadata": {
    "slideshow": {
     "slide_type": "fragment"
    }
   },
   "source": [
    "Now, we can make use of our script. `git bisect run <script>` automatically determines the failing version. In our case, `<script>` is `python test.py`, and it produces the failing version in less than a second:"
   ]
  },
  {
   "cell_type": "code",
   "execution_count": 92,
   "metadata": {
    "execution": {
     "iopub.execute_input": "2025-10-26T17:47:57.116444Z",
     "iopub.status.busy": "2025-10-26T17:47:57.115714Z",
     "iopub.status.idle": "2025-10-26T17:47:57.417309Z",
     "shell.execute_reply": "2025-10-26T17:47:57.416187Z"
    },
    "slideshow": {
     "slide_type": "subslide"
    }
   },
   "outputs": [
    {
     "name": "stdout",
     "output_type": "stream",
     "text": [
      "running 'python' 'test.py'\r\n"
     ]
    },
    {
     "name": "stdout",
     "output_type": "stream",
     "text": [
      "Bisecting: 0 revisions left to test after this (roughly 1 step)\r\n",
      "[817a3b5392ab8f1179eda142feb8a32e9b585148] Third version (with debugging output)\r\n",
      "running 'python' 'test.py'\r\n",
      "c = '\"' tag = False quote = False\r\n",
      "c = 'f' tag = False quote = True\r\n",
      "c = 'o' tag = False quote = True\r\n",
      "c = 'o' tag = False quote = True\r\n",
      "c = '\"' tag = False quote = True\r\n"
     ]
    },
    {
     "name": "stdout",
     "output_type": "stream",
     "text": [
      "Bisecting: 0 revisions left to test after this (roughly 0 steps)\r\n",
      "[1387f381eee63c725f2224744213773b84d9dce6] Second version\r\n",
      "running 'python' 'test.py'\r\n"
     ]
    },
    {
     "name": "stdout",
     "output_type": "stream",
     "text": [
      "1387f381eee63c725f2224744213773b84d9dce6 is the first bad commit\r\n",
      "commit 1387f381eee63c725f2224744213773b84d9dce6\r\n",
      "Author: Demo User <demo-user@example.com>\r\n",
      "Date:   Sun Oct 26 18:47:51 2025 +0100\r\n",
      "\r\n",
      "    Second version\r\n",
      "\r\n",
      " remove_html_markup.py | 7 +++++--\r\n",
      " 1 file changed, 5 insertions(+), 2 deletions(-)\r\n",
      "bisect found first bad commit\r\n"
     ]
    }
   ],
   "source": [
    "!git bisect run python test.py"
   ]
  },
  {
   "cell_type": "markdown",
   "metadata": {
    "slideshow": {
     "slide_type": "subslide"
    }
   },
   "source": [
    "Again, we are at version 2, and can investigate the failure-inducing change:"
   ]
  },
  {
   "cell_type": "code",
   "execution_count": 93,
   "metadata": {
    "execution": {
     "iopub.execute_input": "2025-10-26T17:47:57.421686Z",
     "iopub.status.busy": "2025-10-26T17:47:57.421495Z",
     "iopub.status.idle": "2025-10-26T17:47:57.551174Z",
     "shell.execute_reply": "2025-10-26T17:47:57.550259Z"
    },
    "slideshow": {
     "slide_type": "subslide"
    }
   },
   "outputs": [
    {
     "name": "stdout",
     "output_type": "stream",
     "text": [
      "\u001b[1mdiff --git a/remove_html_markup.py b/remove_html_markup.py\u001b[m\r\n",
      "\u001b[1mindex 4999dc0..768bae9 100644\u001b[m\r\n",
      "\u001b[1m--- a/remove_html_markup.py\u001b[m\r\n",
      "\u001b[1m+++ b/remove_html_markup.py\u001b[m\r\n",
      "\u001b[36m@@ -1,12 +1,15 @@\u001b[m\r\n",
      " def remove_html_markup(s):  # type: ignore\u001b[m\r\n",
      "     tag = False\u001b[m\r\n",
      "\u001b[32m+\u001b[m\u001b[32m    quote = False\u001b[m\r\n",
      "     out = \"\"\u001b[m\r\n",
      " \u001b[m\r\n",
      "     for c in s:\u001b[m\r\n",
      "\u001b[31m-        if c == '<':    # start of markup\u001b[m\r\n",
      "\u001b[32m+\u001b[m\u001b[32m        if c == '<' and not quote:\u001b[m\r\n",
      "             tag = True\u001b[m\r\n",
      "\u001b[31m-        elif c == '>':  # end of markup\u001b[m\r\n",
      "\u001b[32m+\u001b[m\u001b[32m        elif c == '>' and not quote:\u001b[m\r\n",
      "             tag = False\u001b[m\r\n",
      "\u001b[32m+\u001b[m\u001b[32m        elif c == '\"' or c == \"'\" and tag:\u001b[m\r\n",
      "\u001b[32m+\u001b[m\u001b[32m            quote = not quote\u001b[m\r\n",
      "         elif not tag:\u001b[m\r\n",
      "             out = out + c\u001b[m\r\n",
      " \u001b[m\r\n"
     ]
    }
   ],
   "source": [
    "!git diff HEAD^"
   ]
  },
  {
   "cell_type": "markdown",
   "metadata": {
    "slideshow": {
     "slide_type": "subslide"
    }
   },
   "source": [
    "With `git bisect run` as well, we have to end our bisecting session:"
   ]
  },
  {
   "cell_type": "code",
   "execution_count": 94,
   "metadata": {
    "execution": {
     "iopub.execute_input": "2025-10-26T17:47:57.554952Z",
     "iopub.status.busy": "2025-10-26T17:47:57.554608Z",
     "iopub.status.idle": "2025-10-26T17:47:57.703846Z",
     "shell.execute_reply": "2025-10-26T17:47:57.702629Z"
    },
    "slideshow": {
     "slide_type": "fragment"
    }
   },
   "outputs": [
    {
     "name": "stdout",
     "output_type": "stream",
     "text": [
      "Previous HEAD position was 1387f38 Second version\r\n",
      "HEAD is now at e5b94d5 Eighth version (with proper assertion)\r\n"
     ]
    }
   ],
   "source": [
    "!git bisect reset"
   ]
  },
  {
   "cell_type": "markdown",
   "metadata": {
    "button": false,
    "new_sheet": false,
    "run_control": {
     "read_only": false
    },
    "slideshow": {
     "slide_type": "slide"
    }
   },
   "source": [
    "## Computing and Applying Patches\n",
    "\n",
    "Even if a version control system allows us to identify the change that introduced the failure, a single change between versions can still affect multiple locations. The change between version 1 and version 2 of `remove_html_markup()`, above, for instance, affects four separate locations in a single function. In the real world, changes between versions may affect dozens or even hundreds of locations. The question is:\n",
    "\n",
    "* Can we break down changes further down to individual locations?\n",
    "\n",
    "The answer is yes! But for this, we first need a means to break down changes into smaller parts. These parts are called _patches_ – differences in individual code locations that can be determined and applied individually."
   ]
  },
  {
   "cell_type": "markdown",
   "metadata": {
    "button": false,
    "new_sheet": false,
    "run_control": {
     "read_only": false
    },
    "slideshow": {
     "slide_type": "subslide"
    }
   },
   "source": [
    "To illustrate how to compute and apply patches, let us have an example. We access the source code of the first and second version of `remove_html_markup()`, respectively:"
   ]
  },
  {
   "cell_type": "code",
   "execution_count": 95,
   "metadata": {
    "execution": {
     "iopub.execute_input": "2025-10-26T17:47:57.708288Z",
     "iopub.status.busy": "2025-10-26T17:47:57.708088Z",
     "iopub.status.idle": "2025-10-26T17:47:57.725491Z",
     "shell.execute_reply": "2025-10-26T17:47:57.724988Z"
    },
    "slideshow": {
     "slide_type": "fragment"
    }
   },
   "outputs": [],
   "source": [
    "version_1 = get_output(['git', 'show',\n",
    "                        f'{versions[0]}:remove_html_markup.py'])"
   ]
  },
  {
   "cell_type": "code",
   "execution_count": 96,
   "metadata": {
    "execution": {
     "iopub.execute_input": "2025-10-26T17:47:57.727089Z",
     "iopub.status.busy": "2025-10-26T17:47:57.726960Z",
     "iopub.status.idle": "2025-10-26T17:47:57.743639Z",
     "shell.execute_reply": "2025-10-26T17:47:57.743269Z"
    },
    "slideshow": {
     "slide_type": "subslide"
    }
   },
   "outputs": [
    {
     "name": "stdout",
     "output_type": "stream",
     "text": [
      "\u001b[34mdef\u001b[39;49;00m\u001b[37m \u001b[39;49;00m\u001b[32mremove_html_markup\u001b[39;49;00m(s):  \u001b[37m# type: ignore\u001b[39;49;00m\u001b[37m\u001b[39;49;00m\n",
      "    tag = \u001b[34mFalse\u001b[39;49;00m\u001b[37m\u001b[39;49;00m\n",
      "    out = \u001b[33m\"\u001b[39;49;00m\u001b[33m\"\u001b[39;49;00m\u001b[37m\u001b[39;49;00m\n",
      "\u001b[37m\u001b[39;49;00m\n",
      "    \u001b[34mfor\u001b[39;49;00m c \u001b[35min\u001b[39;49;00m s:\u001b[37m\u001b[39;49;00m\n",
      "        \u001b[34mif\u001b[39;49;00m c == \u001b[33m'\u001b[39;49;00m\u001b[33m<\u001b[39;49;00m\u001b[33m'\u001b[39;49;00m:    \u001b[37m# start of markup\u001b[39;49;00m\u001b[37m\u001b[39;49;00m\n",
      "            tag = \u001b[34mTrue\u001b[39;49;00m\u001b[37m\u001b[39;49;00m\n",
      "        \u001b[34melif\u001b[39;49;00m c == \u001b[33m'\u001b[39;49;00m\u001b[33m>\u001b[39;49;00m\u001b[33m'\u001b[39;49;00m:  \u001b[37m# end of markup\u001b[39;49;00m\u001b[37m\u001b[39;49;00m\n",
      "            tag = \u001b[34mFalse\u001b[39;49;00m\u001b[37m\u001b[39;49;00m\n",
      "        \u001b[34melif\u001b[39;49;00m \u001b[35mnot\u001b[39;49;00m tag:\u001b[37m\u001b[39;49;00m\n",
      "            out = out + c\u001b[37m\u001b[39;49;00m\n",
      "\u001b[37m\u001b[39;49;00m\n",
      "    \u001b[34mreturn\u001b[39;49;00m out\u001b[37m\u001b[39;49;00m"
     ]
    }
   ],
   "source": [
    "print_content(version_1, '.py')"
   ]
  },
  {
   "cell_type": "code",
   "execution_count": 97,
   "metadata": {
    "execution": {
     "iopub.execute_input": "2025-10-26T17:47:57.745490Z",
     "iopub.status.busy": "2025-10-26T17:47:57.745140Z",
     "iopub.status.idle": "2025-10-26T17:47:57.759442Z",
     "shell.execute_reply": "2025-10-26T17:47:57.758857Z"
    },
    "slideshow": {
     "slide_type": "subslide"
    }
   },
   "outputs": [],
   "source": [
    "version_2 = get_output(['git', 'show',\n",
    "                        f'{versions[1]}:remove_html_markup.py'])"
   ]
  },
  {
   "cell_type": "code",
   "execution_count": 98,
   "metadata": {
    "execution": {
     "iopub.execute_input": "2025-10-26T17:47:57.761706Z",
     "iopub.status.busy": "2025-10-26T17:47:57.761490Z",
     "iopub.status.idle": "2025-10-26T17:47:57.776864Z",
     "shell.execute_reply": "2025-10-26T17:47:57.776482Z"
    },
    "slideshow": {
     "slide_type": "subslide"
    }
   },
   "outputs": [
    {
     "name": "stdout",
     "output_type": "stream",
     "text": [
      "\u001b[34mdef\u001b[39;49;00m\u001b[37m \u001b[39;49;00m\u001b[32mremove_html_markup\u001b[39;49;00m(s):  \u001b[37m# type: ignore\u001b[39;49;00m\u001b[37m\u001b[39;49;00m\n",
      "    tag = \u001b[34mFalse\u001b[39;49;00m\u001b[37m\u001b[39;49;00m\n",
      "    quote = \u001b[34mFalse\u001b[39;49;00m\u001b[37m\u001b[39;49;00m\n",
      "    out = \u001b[33m\"\u001b[39;49;00m\u001b[33m\"\u001b[39;49;00m\u001b[37m\u001b[39;49;00m\n",
      "\u001b[37m\u001b[39;49;00m\n",
      "    \u001b[34mfor\u001b[39;49;00m c \u001b[35min\u001b[39;49;00m s:\u001b[37m\u001b[39;49;00m\n",
      "        \u001b[34mif\u001b[39;49;00m c == \u001b[33m'\u001b[39;49;00m\u001b[33m<\u001b[39;49;00m\u001b[33m'\u001b[39;49;00m \u001b[35mand\u001b[39;49;00m \u001b[35mnot\u001b[39;49;00m quote:\u001b[37m\u001b[39;49;00m\n",
      "            tag = \u001b[34mTrue\u001b[39;49;00m\u001b[37m\u001b[39;49;00m\n",
      "        \u001b[34melif\u001b[39;49;00m c == \u001b[33m'\u001b[39;49;00m\u001b[33m>\u001b[39;49;00m\u001b[33m'\u001b[39;49;00m \u001b[35mand\u001b[39;49;00m \u001b[35mnot\u001b[39;49;00m quote:\u001b[37m\u001b[39;49;00m\n",
      "            tag = \u001b[34mFalse\u001b[39;49;00m\u001b[37m\u001b[39;49;00m\n",
      "        \u001b[34melif\u001b[39;49;00m c == \u001b[33m'\u001b[39;49;00m\u001b[33m\"\u001b[39;49;00m\u001b[33m'\u001b[39;49;00m \u001b[35mor\u001b[39;49;00m c == \u001b[33m\"\u001b[39;49;00m\u001b[33m'\u001b[39;49;00m\u001b[33m\"\u001b[39;49;00m \u001b[35mand\u001b[39;49;00m tag:\u001b[37m\u001b[39;49;00m\n",
      "            quote = \u001b[35mnot\u001b[39;49;00m quote\u001b[37m\u001b[39;49;00m\n",
      "        \u001b[34melif\u001b[39;49;00m \u001b[35mnot\u001b[39;49;00m tag:\u001b[37m\u001b[39;49;00m\n",
      "            out = out + c\u001b[37m\u001b[39;49;00m\n",
      "\u001b[37m\u001b[39;49;00m\n",
      "    \u001b[34mreturn\u001b[39;49;00m out\u001b[37m\u001b[39;49;00m"
     ]
    }
   ],
   "source": [
    "print_content(version_2, '.py')"
   ]
  },
  {
   "cell_type": "markdown",
   "metadata": {
    "slideshow": {
     "slide_type": "subslide"
    }
   },
   "source": [
    "Patches are what a tool like `diff` produces when comparing two files (or `git diff` when comparing two versions). Here, we see that the difference between the two files consists of four patches, each one affecting a different line in the program."
   ]
  },
  {
   "cell_type": "code",
   "execution_count": 99,
   "metadata": {
    "execution": {
     "iopub.execute_input": "2025-10-26T17:47:57.778339Z",
     "iopub.status.busy": "2025-10-26T17:47:57.778232Z",
     "iopub.status.idle": "2025-10-26T17:47:57.902189Z",
     "shell.execute_reply": "2025-10-26T17:47:57.901458Z"
    },
    "slideshow": {
     "slide_type": "subslide"
    }
   },
   "outputs": [
    {
     "name": "stdout",
     "output_type": "stream",
     "text": [
      "\u001b[1mdiff --git a/remove_html_markup.py b/remove_html_markup.py\u001b[m\r\n",
      "\u001b[1mindex 4999dc0..768bae9 100644\u001b[m\r\n",
      "\u001b[1m--- a/remove_html_markup.py\u001b[m\r\n",
      "\u001b[1m+++ b/remove_html_markup.py\u001b[m\r\n",
      "\u001b[36m@@ -1,12 +1,15 @@\u001b[m\r\n",
      " def remove_html_markup(s):  # type: ignore\u001b[m\r\n",
      "     tag = False\u001b[m\r\n",
      "\u001b[32m+\u001b[m\u001b[32m    quote = False\u001b[m\r\n",
      "     out = \"\"\u001b[m\r\n",
      " \u001b[m\r\n",
      "     for c in s:\u001b[m\r\n",
      "\u001b[31m-        if c == '<':    # start of markup\u001b[m\r\n",
      "\u001b[32m+\u001b[m\u001b[32m        if c == '<' and not quote:\u001b[m\r\n",
      "             tag = True\u001b[m\r\n",
      "\u001b[31m-        elif c == '>':  # end of markup\u001b[m\r\n",
      "\u001b[32m+\u001b[m\u001b[32m        elif c == '>' and not quote:\u001b[m\r\n",
      "             tag = False\u001b[m\r\n",
      "\u001b[32m+\u001b[m\u001b[32m        elif c == '\"' or c == \"'\" and tag:\u001b[m\r\n",
      "\u001b[32m+\u001b[m\u001b[32m            quote = not quote\u001b[m\r\n",
      "         elif not tag:\u001b[m\r\n",
      "             out = out + c\u001b[m\r\n",
      " \u001b[m\r\n"
     ]
    }
   ],
   "source": [
    "!git diff {versions[0]} {versions[1]}"
   ]
  },
  {
   "cell_type": "markdown",
   "metadata": {
    "slideshow": {
     "slide_type": "subslide"
    }
   },
   "source": [
    "We'd like to compute and apply such patches without the help of an external program. To this end, we use Google's [diff-match-patch library](https://github.com/google/diff-match-patch)."
   ]
  },
  {
   "cell_type": "code",
   "execution_count": 100,
   "metadata": {
    "execution": {
     "iopub.execute_input": "2025-10-26T17:47:57.904336Z",
     "iopub.status.busy": "2025-10-26T17:47:57.904159Z",
     "iopub.status.idle": "2025-10-26T17:47:57.908875Z",
     "shell.execute_reply": "2025-10-26T17:47:57.908545Z"
    },
    "slideshow": {
     "slide_type": "skip"
    }
   },
   "outputs": [],
   "source": [
    "from diff_match_patch import diff_match_patch, patch_obj"
   ]
  },
  {
   "cell_type": "markdown",
   "metadata": {
    "slideshow": {
     "slide_type": "fragment"
    }
   },
   "source": [
    "By default, the diff-match-patch library is set up for comparing character strings, not lines; so we have to use a special workaround. Our `diff()` function computes a set of line patches between the two texts `s1` and `s2`:"
   ]
  },
  {
   "cell_type": "code",
   "execution_count": 101,
   "metadata": {
    "execution": {
     "iopub.execute_input": "2025-10-26T17:47:57.910754Z",
     "iopub.status.busy": "2025-10-26T17:47:57.910635Z",
     "iopub.status.idle": "2025-10-26T17:47:57.914258Z",
     "shell.execute_reply": "2025-10-26T17:47:57.913566Z"
    },
    "slideshow": {
     "slide_type": "subslide"
    }
   },
   "outputs": [],
   "source": [
    "def diff(s1: str, s2: str, mode: str = 'lines') -> List[patch_obj]:\n",
    "    \"\"\"Compare s1 and s2 like `diff`; return a list of patches\"\"\"\n",
    "\n",
    "    # Sometimes, we may get bytes instead of strings\n",
    "    # Let's convert these in a conservative way\n",
    "    if not isinstance(s1, str):\n",
    "        s1 = str(s1, 'latin1')\n",
    "    if not isinstance(s2, str):\n",
    "        s2 = str(s2, 'latin1')\n",
    "\n",
    "    dmp = diff_match_patch()\n",
    "    if mode == 'lines':\n",
    "        (text1, text2, linearray) = dmp.diff_linesToChars(s1, s2)\n",
    "\n",
    "        diffs = dmp.diff_main(text1, text2)\n",
    "        dmp.diff_charsToLines(diffs, linearray)\n",
    "        return dmp.patch_make(diffs)\n",
    "\n",
    "    if mode == 'chars':\n",
    "        diffs = dmp.diff_main(s1, s2)\n",
    "        return dmp.patch_make(s1, diffs)\n",
    "\n",
    "    raise ValueError(\"mode must be 'lines' or 'chars'\")"
   ]
  },
  {
   "cell_type": "markdown",
   "metadata": {
    "slideshow": {
     "slide_type": "subslide"
    }
   },
   "source": [
    "We can use our `diff()` function to compare the two versions of `remove_html_markup()`. We obtain four `patch_obj` patch objects:"
   ]
  },
  {
   "cell_type": "code",
   "execution_count": 102,
   "metadata": {
    "execution": {
     "iopub.execute_input": "2025-10-26T17:47:57.917196Z",
     "iopub.status.busy": "2025-10-26T17:47:57.917061Z",
     "iopub.status.idle": "2025-10-26T17:47:57.920462Z",
     "shell.execute_reply": "2025-10-26T17:47:57.920089Z"
    },
    "slideshow": {
     "slide_type": "fragment"
    }
   },
   "outputs": [
    {
     "data": {
      "text/plain": [
       "[<diff_match_patch.diff_match_patch.patch_obj at 0x10de106e0>,\n",
       " <diff_match_patch.diff_match_patch.patch_obj at 0x10db44b90>,\n",
       " <diff_match_patch.diff_match_patch.patch_obj at 0x10db46350>,\n",
       " <diff_match_patch.diff_match_patch.patch_obj at 0x10db32d70>]"
      ]
     },
     "execution_count": 102,
     "metadata": {},
     "output_type": "execute_result"
    }
   ],
   "source": [
    "patches = diff(version_1, version_2)\n",
    "patches"
   ]
  },
  {
   "cell_type": "markdown",
   "metadata": {
    "slideshow": {
     "slide_type": "fragment"
    }
   },
   "source": [
    "To inspect these patches, one can simply `print()` them; however, their string representation uses URL encoding for special characters. We introduce a `patch_string()` function that decodes them again, and then print out the four patches:"
   ]
  },
  {
   "cell_type": "code",
   "execution_count": 103,
   "metadata": {
    "execution": {
     "iopub.execute_input": "2025-10-26T17:47:57.922093Z",
     "iopub.status.busy": "2025-10-26T17:47:57.921961Z",
     "iopub.status.idle": "2025-10-26T17:47:57.923735Z",
     "shell.execute_reply": "2025-10-26T17:47:57.923432Z"
    },
    "slideshow": {
     "slide_type": "skip"
    }
   },
   "outputs": [],
   "source": [
    "import urllib"
   ]
  },
  {
   "cell_type": "code",
   "execution_count": 104,
   "metadata": {
    "execution": {
     "iopub.execute_input": "2025-10-26T17:47:57.925064Z",
     "iopub.status.busy": "2025-10-26T17:47:57.924963Z",
     "iopub.status.idle": "2025-10-26T17:47:57.927280Z",
     "shell.execute_reply": "2025-10-26T17:47:57.926834Z"
    },
    "slideshow": {
     "slide_type": "fragment"
    }
   },
   "outputs": [],
   "source": [
    "def patch_string(p: patch_obj) -> str:\n",
    "    return urllib.parse.unquote(str(p).strip())  # type: ignore"
   ]
  },
  {
   "cell_type": "code",
   "execution_count": 105,
   "metadata": {
    "execution": {
     "iopub.execute_input": "2025-10-26T17:47:57.929455Z",
     "iopub.status.busy": "2025-10-26T17:47:57.929320Z",
     "iopub.status.idle": "2025-10-26T17:47:57.931370Z",
     "shell.execute_reply": "2025-10-26T17:47:57.931066Z"
    },
    "slideshow": {
     "slide_type": "subslide"
    }
   },
   "outputs": [],
   "source": [
    "def print_patch(p: patch_obj) -> None:\n",
    "    print_content(patch_string(p), '.py')\n",
    "    print()"
   ]
  },
  {
   "cell_type": "code",
   "execution_count": 106,
   "metadata": {
    "execution": {
     "iopub.execute_input": "2025-10-26T17:47:57.932711Z",
     "iopub.status.busy": "2025-10-26T17:47:57.932619Z",
     "iopub.status.idle": "2025-10-26T17:47:57.992809Z",
     "shell.execute_reply": "2025-10-26T17:47:57.992332Z"
    },
    "slideshow": {
     "slide_type": "subslide"
    }
   },
   "outputs": [
    {
     "name": "stdout",
     "output_type": "stream",
     "text": [
      "@@ -\u001b[34m48\u001b[39;49;00m,\u001b[34m24\u001b[39;49;00m +\u001b[34m48\u001b[39;49;00m,\u001b[34m42\u001b[39;49;00m @@\u001b[37m\u001b[39;49;00m\n",
      " tag = \u001b[34mFalse\u001b[39;49;00m\u001b[37m\u001b[39;49;00m\n",
      "\u001b[37m\u001b[39;49;00m\n",
      "+    quote = \u001b[34mFalse\u001b[39;49;00m\u001b[37m\u001b[39;49;00m\n",
      "\u001b[37m\u001b[39;49;00m\n",
      "     out = \u001b[33m\"\u001b[39;49;00m\u001b[33m\"\u001b[39;49;00m\u001b[37m\u001b[39;49;00m\n",
      "@@ -\u001b[34m104\u001b[39;49;00m,\u001b[34m50\u001b[39;49;00m +\u001b[34m104\u001b[39;49;00m,\u001b[34m43\u001b[39;49;00m @@\u001b[37m\u001b[39;49;00m\n",
      "  s:\u001b[37m\u001b[39;49;00m\n",
      "\u001b[37m\u001b[39;49;00m\n",
      "-        \u001b[34mif\u001b[39;49;00m c == \u001b[33m'\u001b[39;49;00m\u001b[33m<\u001b[39;49;00m\u001b[33m'\u001b[39;49;00m:    \u001b[37m# start of markup\u001b[39;49;00m\u001b[37m\u001b[39;49;00m\n",
      "\u001b[37m\u001b[39;49;00m\n",
      "+        \u001b[34mif\u001b[39;49;00m c == \u001b[33m'\u001b[39;49;00m\u001b[33m<\u001b[39;49;00m\u001b[33m'\u001b[39;49;00m \u001b[35mand\u001b[39;49;00m \u001b[35mnot\u001b[39;49;00m quote:\u001b[37m\u001b[39;49;00m\n",
      "@@ -\u001b[34m162\u001b[39;49;00m,\u001b[34m48\u001b[39;49;00m +\u001b[34m162\u001b[39;49;00m,\u001b[34m45\u001b[39;49;00m @@\u001b[37m\u001b[39;49;00m\n",
      " rue\u001b[37m\u001b[39;49;00m\n",
      "\u001b[37m\u001b[39;49;00m\n",
      "-        \u001b[34melif\u001b[39;49;00m c == \u001b[33m'\u001b[39;49;00m\u001b[33m>\u001b[39;49;00m\u001b[33m'\u001b[39;49;00m:  \u001b[37m# end of markup\u001b[39;49;00m\u001b[37m\u001b[39;49;00m\n",
      "\u001b[37m\u001b[39;49;00m\n",
      "+        \u001b[34melif\u001b[39;49;00m c == \u001b[33m'\u001b[39;49;00m\u001b[33m>\u001b[39;49;00m\u001b[33m'\u001b[39;49;00m \u001b[35mand\u001b[39;49;00m \u001b[35mnot\u001b[39;49;00m quote:\u001b[37m\u001b[39;49;00m\n"
     ]
    },
    {
     "name": "stdout",
     "output_type": "stream",
     "text": [
      "@@ -\u001b[34m215\u001b[39;49;00m,\u001b[34m24\u001b[39;49;00m +\u001b[34m215\u001b[39;49;00m,\u001b[34m97\u001b[39;49;00m @@\u001b[37m\u001b[39;49;00m\n",
      " tag = \u001b[34mFalse\u001b[39;49;00m\u001b[37m\u001b[39;49;00m\n",
      "\u001b[37m\u001b[39;49;00m\n",
      "+        \u001b[34melif\u001b[39;49;00m c == \u001b[33m'\u001b[39;49;00m\u001b[33m\"\u001b[39;49;00m\u001b[33m'\u001b[39;49;00m \u001b[35mor\u001b[39;49;00m c == \u001b[33m\"\u001b[39;49;00m\u001b[33m'\u001b[39;49;00m\u001b[33m\"\u001b[39;49;00m \u001b[35mand\u001b[39;49;00m tag:\u001b[37m\u001b[39;49;00m\n",
      "            quote = \u001b[35mnot\u001b[39;49;00m quote\u001b[37m\u001b[39;49;00m\n",
      "\u001b[37m\u001b[39;49;00m\n",
      "         \u001b[34melif\u001b[39;49;00m\u001b[37m\u001b[39;49;00m\n"
     ]
    }
   ],
   "source": [
    "for p in patches:\n",
    "    print_patch(p)"
   ]
  },
  {
   "cell_type": "markdown",
   "metadata": {
    "slideshow": {
     "slide_type": "subslide"
    }
   },
   "source": [
    "Each patch comes with a _location_ (the part between `@@` characters as a character offset into the string) and a _change_ (prefixed by `+` for added lines or `-` for deleted lines) in a particular _context_ (notably, the preceding and following line).\n",
    "\n",
    "This _context_ allows us to _apply_ patches even if the location no longer exactly matches – the last patch, for instance, introducing `elif c == '\"'...`, for instance, is applied between the lines `tag = False` and the next `elif`."
   ]
  },
  {
   "cell_type": "markdown",
   "metadata": {
    "slideshow": {
     "slide_type": "fragment"
    }
   },
   "source": [
    "We define a `patch()` function that applies a list of patches to a string, again wrapping around the function provided by the diff-match-patch library."
   ]
  },
  {
   "cell_type": "code",
   "execution_count": 107,
   "metadata": {
    "execution": {
     "iopub.execute_input": "2025-10-26T17:47:57.995048Z",
     "iopub.status.busy": "2025-10-26T17:47:57.994905Z",
     "iopub.status.idle": "2025-10-26T17:47:57.997573Z",
     "shell.execute_reply": "2025-10-26T17:47:57.996937Z"
    },
    "slideshow": {
     "slide_type": "subslide"
    }
   },
   "outputs": [],
   "source": [
    "def patch(text: str, patches: List[patch_obj]) -> str:\n",
    "    \"\"\"Apply given patches on given text; return patched text.\"\"\"\n",
    "    dmp = diff_match_patch()\n",
    "    patched_text, success = dmp.patch_apply(patches, text)\n",
    "    assert all(success), \"Could not apply some patch(es)\"\n",
    "    return patched_text"
   ]
  },
  {
   "cell_type": "markdown",
   "metadata": {
    "slideshow": {
     "slide_type": "fragment"
    }
   },
   "source": [
    "Here's how to use `patch()`. First, if we apply _all_ patches between version 1 and version 2 on version 1, we get version 2:"
   ]
  },
  {
   "cell_type": "code",
   "execution_count": 108,
   "metadata": {
    "execution": {
     "iopub.execute_input": "2025-10-26T17:47:57.999720Z",
     "iopub.status.busy": "2025-10-26T17:47:57.999460Z",
     "iopub.status.idle": "2025-10-26T17:47:58.015605Z",
     "shell.execute_reply": "2025-10-26T17:47:58.015253Z"
    },
    "slideshow": {
     "slide_type": "subslide"
    }
   },
   "outputs": [
    {
     "name": "stdout",
     "output_type": "stream",
     "text": [
      "\u001b[34mdef\u001b[39;49;00m\u001b[37m \u001b[39;49;00m\u001b[32mremove_html_markup\u001b[39;49;00m(s):  \u001b[37m# type: ignore\u001b[39;49;00m\u001b[37m\u001b[39;49;00m\n",
      "    tag = \u001b[34mFalse\u001b[39;49;00m\u001b[37m\u001b[39;49;00m\n",
      "    quote = \u001b[34mFalse\u001b[39;49;00m\u001b[37m\u001b[39;49;00m\n",
      "    out = \u001b[33m\"\u001b[39;49;00m\u001b[33m\"\u001b[39;49;00m\u001b[37m\u001b[39;49;00m\n",
      "\u001b[37m\u001b[39;49;00m\n",
      "    \u001b[34mfor\u001b[39;49;00m c \u001b[35min\u001b[39;49;00m s:\u001b[37m\u001b[39;49;00m\n",
      "        \u001b[34mif\u001b[39;49;00m c == \u001b[33m'\u001b[39;49;00m\u001b[33m<\u001b[39;49;00m\u001b[33m'\u001b[39;49;00m \u001b[35mand\u001b[39;49;00m \u001b[35mnot\u001b[39;49;00m quote:\u001b[37m\u001b[39;49;00m\n",
      "            tag = \u001b[34mTrue\u001b[39;49;00m\u001b[37m\u001b[39;49;00m\n",
      "        \u001b[34melif\u001b[39;49;00m c == \u001b[33m'\u001b[39;49;00m\u001b[33m>\u001b[39;49;00m\u001b[33m'\u001b[39;49;00m \u001b[35mand\u001b[39;49;00m \u001b[35mnot\u001b[39;49;00m quote:\u001b[37m\u001b[39;49;00m\n",
      "            tag = \u001b[34mFalse\u001b[39;49;00m\u001b[37m\u001b[39;49;00m\n",
      "        \u001b[34melif\u001b[39;49;00m c == \u001b[33m'\u001b[39;49;00m\u001b[33m\"\u001b[39;49;00m\u001b[33m'\u001b[39;49;00m \u001b[35mor\u001b[39;49;00m c == \u001b[33m\"\u001b[39;49;00m\u001b[33m'\u001b[39;49;00m\u001b[33m\"\u001b[39;49;00m \u001b[35mand\u001b[39;49;00m tag:\u001b[37m\u001b[39;49;00m\n",
      "            quote = \u001b[35mnot\u001b[39;49;00m quote\u001b[37m\u001b[39;49;00m\n",
      "        \u001b[34melif\u001b[39;49;00m \u001b[35mnot\u001b[39;49;00m tag:\u001b[37m\u001b[39;49;00m\n",
      "            out = out + c\u001b[37m\u001b[39;49;00m\n",
      "\u001b[37m\u001b[39;49;00m\n",
      "    \u001b[34mreturn\u001b[39;49;00m out\u001b[37m\u001b[39;49;00m"
     ]
    }
   ],
   "source": [
    "print_content(patch(version_1, patches), '.py')"
   ]
  },
  {
   "cell_type": "code",
   "execution_count": 109,
   "metadata": {
    "execution": {
     "iopub.execute_input": "2025-10-26T17:47:58.017644Z",
     "iopub.status.busy": "2025-10-26T17:47:58.017439Z",
     "iopub.status.idle": "2025-10-26T17:47:58.019521Z",
     "shell.execute_reply": "2025-10-26T17:47:58.019255Z"
    },
    "slideshow": {
     "slide_type": "subslide"
    }
   },
   "outputs": [],
   "source": [
    "assert patch(version_1, patches) == version_2"
   ]
  },
  {
   "cell_type": "markdown",
   "metadata": {
    "slideshow": {
     "slide_type": "fragment"
    }
   },
   "source": [
    "Applying _no_ patch leaves the content unchanged."
   ]
  },
  {
   "cell_type": "code",
   "execution_count": 110,
   "metadata": {
    "execution": {
     "iopub.execute_input": "2025-10-26T17:47:58.021344Z",
     "iopub.status.busy": "2025-10-26T17:47:58.021228Z",
     "iopub.status.idle": "2025-10-26T17:47:58.022840Z",
     "shell.execute_reply": "2025-10-26T17:47:58.022528Z"
    },
    "slideshow": {
     "slide_type": "fragment"
    }
   },
   "outputs": [],
   "source": [
    "assert patch(version_1, []) == version_1"
   ]
  },
  {
   "cell_type": "markdown",
   "metadata": {
    "slideshow": {
     "slide_type": "fragment"
    }
   },
   "source": [
    "However, one can also apply _partial_ sets of patches. For instance, if we only apply the first patch..."
   ]
  },
  {
   "cell_type": "code",
   "execution_count": 111,
   "metadata": {
    "execution": {
     "iopub.execute_input": "2025-10-26T17:47:58.024306Z",
     "iopub.status.busy": "2025-10-26T17:47:58.024212Z",
     "iopub.status.idle": "2025-10-26T17:47:58.026332Z",
     "shell.execute_reply": "2025-10-26T17:47:58.026099Z"
    },
    "slideshow": {
     "slide_type": "fragment"
    }
   },
   "outputs": [
    {
     "name": "stdout",
     "output_type": "stream",
     "text": [
      "@@ -48,24 +48,42 @@\n",
      " tag = False\n",
      "\n",
      "+    quote = False\n",
      "\n",
      "     out = \"\"\n"
     ]
    }
   ],
   "source": [
    "print(patch_string(patches[0]))"
   ]
  },
  {
   "cell_type": "markdown",
   "metadata": {
    "slideshow": {
     "slide_type": "fragment"
    }
   },
   "source": [
    "... we find that the result includes the added line `quote = False`, but nothing else:"
   ]
  },
  {
   "cell_type": "code",
   "execution_count": 112,
   "metadata": {
    "execution": {
     "iopub.execute_input": "2025-10-26T17:47:58.027603Z",
     "iopub.status.busy": "2025-10-26T17:47:58.027474Z",
     "iopub.status.idle": "2025-10-26T17:47:58.042946Z",
     "shell.execute_reply": "2025-10-26T17:47:58.042403Z"
    },
    "slideshow": {
     "slide_type": "subslide"
    }
   },
   "outputs": [
    {
     "name": "stdout",
     "output_type": "stream",
     "text": [
      "\u001b[34mdef\u001b[39;49;00m\u001b[37m \u001b[39;49;00m\u001b[32mremove_html_markup\u001b[39;49;00m(s):  \u001b[37m# type: ignore\u001b[39;49;00m\u001b[37m\u001b[39;49;00m\n",
      "    tag = \u001b[34mFalse\u001b[39;49;00m\u001b[37m\u001b[39;49;00m\n",
      "    quote = \u001b[34mFalse\u001b[39;49;00m\u001b[37m\u001b[39;49;00m\n",
      "    out = \u001b[33m\"\u001b[39;49;00m\u001b[33m\"\u001b[39;49;00m\u001b[37m\u001b[39;49;00m\n",
      "\u001b[37m\u001b[39;49;00m\n",
      "    \u001b[34mfor\u001b[39;49;00m c \u001b[35min\u001b[39;49;00m s:\u001b[37m\u001b[39;49;00m\n",
      "        \u001b[34mif\u001b[39;49;00m c == \u001b[33m'\u001b[39;49;00m\u001b[33m<\u001b[39;49;00m\u001b[33m'\u001b[39;49;00m:    \u001b[37m# start of markup\u001b[39;49;00m\u001b[37m\u001b[39;49;00m\n",
      "            tag = \u001b[34mTrue\u001b[39;49;00m\u001b[37m\u001b[39;49;00m\n",
      "        \u001b[34melif\u001b[39;49;00m c == \u001b[33m'\u001b[39;49;00m\u001b[33m>\u001b[39;49;00m\u001b[33m'\u001b[39;49;00m:  \u001b[37m# end of markup\u001b[39;49;00m\u001b[37m\u001b[39;49;00m\n",
      "            tag = \u001b[34mFalse\u001b[39;49;00m\u001b[37m\u001b[39;49;00m\n",
      "        \u001b[34melif\u001b[39;49;00m \u001b[35mnot\u001b[39;49;00m tag:\u001b[37m\u001b[39;49;00m\n",
      "            out = out + c\u001b[37m\u001b[39;49;00m\n",
      "\u001b[37m\u001b[39;49;00m\n",
      "    \u001b[34mreturn\u001b[39;49;00m out\u001b[37m\u001b[39;49;00m"
     ]
    }
   ],
   "source": [
    "print_content(patch(version_1, [patches[0]]), '.py')"
   ]
  },
  {
   "cell_type": "markdown",
   "metadata": {
    "slideshow": {
     "slide_type": "subslide"
    }
   },
   "source": [
    "Likewise, we can also apply the second patch individually:"
   ]
  },
  {
   "cell_type": "code",
   "execution_count": 113,
   "metadata": {
    "execution": {
     "iopub.execute_input": "2025-10-26T17:47:58.045159Z",
     "iopub.status.busy": "2025-10-26T17:47:58.044947Z",
     "iopub.status.idle": "2025-10-26T17:47:58.059755Z",
     "shell.execute_reply": "2025-10-26T17:47:58.059288Z"
    },
    "slideshow": {
     "slide_type": "fragment"
    }
   },
   "outputs": [
    {
     "name": "stdout",
     "output_type": "stream",
     "text": [
      "\u001b[34mdef\u001b[39;49;00m\u001b[37m \u001b[39;49;00m\u001b[32mremove_html_markup\u001b[39;49;00m(s):  \u001b[37m# type: ignore\u001b[39;49;00m\u001b[37m\u001b[39;49;00m\n",
      "    tag = \u001b[34mFalse\u001b[39;49;00m\u001b[37m\u001b[39;49;00m\n",
      "    out = \u001b[33m\"\u001b[39;49;00m\u001b[33m\"\u001b[39;49;00m\u001b[37m\u001b[39;49;00m\n",
      "\u001b[37m\u001b[39;49;00m\n",
      "    \u001b[34mfor\u001b[39;49;00m c \u001b[35min\u001b[39;49;00m s:\u001b[37m\u001b[39;49;00m\n",
      "        \u001b[34mif\u001b[39;49;00m c == \u001b[33m'\u001b[39;49;00m\u001b[33m<\u001b[39;49;00m\u001b[33m'\u001b[39;49;00m \u001b[35mand\u001b[39;49;00m \u001b[35mnot\u001b[39;49;00m quote:\u001b[37m\u001b[39;49;00m\n",
      "            tag = \u001b[34mTrue\u001b[39;49;00m\u001b[37m\u001b[39;49;00m\n",
      "        \u001b[34melif\u001b[39;49;00m c == \u001b[33m'\u001b[39;49;00m\u001b[33m>\u001b[39;49;00m\u001b[33m'\u001b[39;49;00m:  \u001b[37m# end of markup\u001b[39;49;00m\u001b[37m\u001b[39;49;00m\n",
      "            tag = \u001b[34mFalse\u001b[39;49;00m\u001b[37m\u001b[39;49;00m\n",
      "        \u001b[34melif\u001b[39;49;00m \u001b[35mnot\u001b[39;49;00m tag:\u001b[37m\u001b[39;49;00m\n",
      "            out = out + c\u001b[37m\u001b[39;49;00m\n",
      "\u001b[37m\u001b[39;49;00m\n",
      "    \u001b[34mreturn\u001b[39;49;00m out\u001b[37m\u001b[39;49;00m"
     ]
    }
   ],
   "source": [
    "print_content(patch(version_1, [patches[1]]), '.py')"
   ]
  },
  {
   "cell_type": "code",
   "execution_count": 114,
   "metadata": {
    "execution": {
     "iopub.execute_input": "2025-10-26T17:47:58.062004Z",
     "iopub.status.busy": "2025-10-26T17:47:58.061819Z",
     "iopub.status.idle": "2025-10-26T17:47:58.066974Z",
     "shell.execute_reply": "2025-10-26T17:47:58.066501Z"
    },
    "slideshow": {
     "slide_type": "subslide"
    },
    "tags": [
     "remove-input"
    ]
   },
   "outputs": [
    {
     "data": {
      "text/html": [
       "\n",
       "    \n",
       "    <script>\n",
       "    var bad_answers = new Map();\n",
       "\n",
       "    function answer(quiz_id) {\n",
       "        ans = 0;\n",
       "        for (i = 1;; i++) {\n",
       "            checkbox = document.getElementById(quiz_id + \"-\" + i.toString());\n",
       "            if (!checkbox)\n",
       "                break;\n",
       "            if (checkbox.checked)\n",
       "                ans |= (1 << i);\n",
       "        }\n",
       "        return ans;\n",
       "    }\n",
       "    function check_selection(quiz_id, correct_answer, multiple_choice, hint) {\n",
       "        given_answer = answer(quiz_id);\n",
       "        if (given_answer == correct_answer)\n",
       "        {\n",
       "            document.getElementById(quiz_id + \"-submit\").value = \"Correct!\";\n",
       "            document.getElementById(quiz_id + \"-hint\").innerHTML = \"\";\n",
       "\n",
       "            for (i = 1;; i++) {\n",
       "                checkbox = document.getElementById(quiz_id + \"-\" + i.toString());\n",
       "                label = document.getElementById(quiz_id + \"-\" + i.toString() + \"-label\")\n",
       "                if (!checkbox)\n",
       "                    break;\n",
       "\n",
       "                if (checkbox.checked) {\n",
       "                    label.style.fontWeight = \"bold\";\n",
       "                }\n",
       "                else {\n",
       "                    label.style.textDecoration = \"line-through\";\n",
       "                }\n",
       "            }\n",
       "        }\n",
       "        else \n",
       "        {\n",
       "            document.getElementById(quiz_id + \"-submit\").value = \"Try again\";\n",
       "\n",
       "            if (!bad_answers.has(quiz_id)) {\n",
       "                bad_answers.set(quiz_id, 1);\n",
       "            }\n",
       "            else {\n",
       "                bad_answers.set(quiz_id, bad_answers.get(quiz_id) + 1);\n",
       "            }\n",
       "\n",
       "            if (bad_answers.get(quiz_id) >= 2 && hint.length > 0) {\n",
       "                document.getElementById(quiz_id + \"-hint\").innerHTML = \n",
       "                    \"&nbsp;&nbsp;(Hint: <code>\" + hint + \"</code>)\";\n",
       "            }\n",
       "\n",
       "            if (!multiple_choice) {\n",
       "                for (i = 1;; i++) {\n",
       "                    checkbox = document.getElementById(quiz_id + \"-\" + i.toString());\n",
       "                    label = document.getElementById(quiz_id + \"-\" + i.toString() + \"-label\")\n",
       "\n",
       "                    if (!checkbox)\n",
       "                        break;\n",
       "                    if (checkbox.checked) {\n",
       "                        label.style.textDecoration = \"line-through\";\n",
       "                    }\n",
       "                }\n",
       "            }\n",
       "        }\n",
       "    }\n",
       "    function clear_selection(quiz_id) {\n",
       "        document.getElementById(quiz_id + \"-submit\").value = \"Submit\";\n",
       "        document.getElementById(quiz_id + \"-hint\").innerHTML = \"\";\n",
       "    }\n",
       "    </script>\n",
       "    \n",
       "    <div class=\"quiz\">\n",
       "    <h3 class=\"quiz_title\">Quiz</h3>\n",
       "    <p>\n",
       "    <div class=\"quiz_question\">What has changed in version 1 after applying the second patch?</div>\n",
       "    </p>\n",
       "    <p>\n",
       "    <div class=\"quiz_options\" title=\"Pick a choice.\">\n",
       "    \n",
       "        <input type=\"radio\" name=\"e896e7b0-b293-11f0-9d39-6298cf1a5790\" id=\"e896e7b0-b293-11f0-9d39-6298cf1a5790-1\" onclick=\"clear_selection('e896e7b0-b293-11f0-9d39-6298cf1a5790')\">\n",
       "        <label id=\"e896e7b0-b293-11f0-9d39-6298cf1a5790-1-label\" for=\"e896e7b0-b293-11f0-9d39-6298cf1a5790-1\">The initialization of quote is deleted</label><br>\n",
       "    \n",
       "        <input type=\"radio\" name=\"e896e7b0-b293-11f0-9d39-6298cf1a5790\" id=\"e896e7b0-b293-11f0-9d39-6298cf1a5790-2\" onclick=\"clear_selection('e896e7b0-b293-11f0-9d39-6298cf1a5790')\">\n",
       "        <label id=\"e896e7b0-b293-11f0-9d39-6298cf1a5790-2-label\" for=\"e896e7b0-b293-11f0-9d39-6298cf1a5790-2\">The condition after <code>if c == '&lt;'</code> is expanded</label><br>\n",
       "    \n",
       "        <input type=\"radio\" name=\"e896e7b0-b293-11f0-9d39-6298cf1a5790\" id=\"e896e7b0-b293-11f0-9d39-6298cf1a5790-3\" onclick=\"clear_selection('e896e7b0-b293-11f0-9d39-6298cf1a5790')\">\n",
       "        <label id=\"e896e7b0-b293-11f0-9d39-6298cf1a5790-3-label\" for=\"e896e7b0-b293-11f0-9d39-6298cf1a5790-3\">The tag variable gets a different value</label><br>\n",
       "    \n",
       "        <input type=\"radio\" name=\"e896e7b0-b293-11f0-9d39-6298cf1a5790\" id=\"e896e7b0-b293-11f0-9d39-6298cf1a5790-4\" onclick=\"clear_selection('e896e7b0-b293-11f0-9d39-6298cf1a5790')\">\n",
       "        <label id=\"e896e7b0-b293-11f0-9d39-6298cf1a5790-4-label\" for=\"e896e7b0-b293-11f0-9d39-6298cf1a5790-4\">None of the above</label><br>\n",
       "    \n",
       "    </div>\n",
       "    </p>\n",
       "    <input id=\"e896e7b0-b293-11f0-9d39-6298cf1a5790-submit\" type=\"submit\" value=\"Submit\" onclick=\"check_selection('e896e7b0-b293-11f0-9d39-6298cf1a5790', 4, 0, '1 / 1 + 1 ** 1 - 1 % 1 * 1')\">\n",
       "    <span class=\"quiz_hint\" id=\"e896e7b0-b293-11f0-9d39-6298cf1a5790-hint\"></span>\n",
       "    </div>\n",
       "    "
      ],
      "text/plain": [
       "<IPython.core.display.HTML object>"
      ]
     },
     "execution_count": 114,
     "metadata": {},
     "output_type": "execute_result"
    }
   ],
   "source": [
    "quiz(\"What has changed in version 1 after applying the second patch?\",\n",
    "     [\n",
    "         \"The initialization of quote is deleted\",\n",
    "         \"The condition after `if c == '<'` is expanded\",\n",
    "         \"The tag variable gets a different value\",\n",
    "         \"None of the above\"\n",
    "     ], '1 / 1 + 1 ** 1 - 1 % 1 * 1')"
   ]
  },
  {
   "cell_type": "markdown",
   "metadata": {
    "slideshow": {
     "slide_type": "slide"
    }
   },
   "source": [
    "## Delta Debugging on Patches\n",
    "\n",
    "With the ability to apply arbitrary sets of patches, we can now go and apply [Delta Debugging](DeltaDebugger.ipynb) to identify failure-inducing patches. The idea is simple: If applying _no_ patch makes the test pass, and applying _all_ patches makes the test fail, then we can use Delta Debugging to identify a minimal set of failure-inducing patches."
   ]
  },
  {
   "cell_type": "markdown",
   "metadata": {
    "slideshow": {
     "slide_type": "subslide"
    }
   },
   "source": [
    "Let us write a testing function that checks for the presence of the failure. `test_remove_html_markup_patches()` \n",
    "\n",
    "* takes a list of patches,\n",
    "* applies them on version 1, \n",
    "* reads in the definition of `remove_html_markup()`\n",
    "* and then invokes it to check if the error is present."
   ]
  },
  {
   "cell_type": "code",
   "execution_count": 115,
   "metadata": {
    "execution": {
     "iopub.execute_input": "2025-10-26T17:47:58.069190Z",
     "iopub.status.busy": "2025-10-26T17:47:58.069056Z",
     "iopub.status.idle": "2025-10-26T17:47:58.071436Z",
     "shell.execute_reply": "2025-10-26T17:47:58.070995Z"
    },
    "slideshow": {
     "slide_type": "fragment"
    }
   },
   "outputs": [],
   "source": [
    "def test_remove_html_markup_patches(patches: patch_obj) -> None:\n",
    "    new_version = patch(version_1, patches)\n",
    "    exec(new_version, globals())\n",
    "    assert remove_html_markup('\"foo\"') == '\"foo\"'"
   ]
  },
  {
   "cell_type": "markdown",
   "metadata": {
    "slideshow": {
     "slide_type": "fragment"
    }
   },
   "source": [
    "If no patches are applied, we are at version 1, and the error is not present."
   ]
  },
  {
   "cell_type": "code",
   "execution_count": 116,
   "metadata": {
    "execution": {
     "iopub.execute_input": "2025-10-26T17:47:58.073581Z",
     "iopub.status.busy": "2025-10-26T17:47:58.073463Z",
     "iopub.status.idle": "2025-10-26T17:47:58.075474Z",
     "shell.execute_reply": "2025-10-26T17:47:58.075041Z"
    },
    "slideshow": {
     "slide_type": "subslide"
    }
   },
   "outputs": [],
   "source": [
    "test_remove_html_markup_patches([])"
   ]
  },
  {
   "cell_type": "markdown",
   "metadata": {
    "slideshow": {
     "slide_type": "fragment"
    }
   },
   "source": [
    "If _all_ patches are applied, we are at version 2, and the error _is_ present."
   ]
  },
  {
   "cell_type": "code",
   "execution_count": 117,
   "metadata": {
    "execution": {
     "iopub.execute_input": "2025-10-26T17:47:58.077591Z",
     "iopub.status.busy": "2025-10-26T17:47:58.077217Z",
     "iopub.status.idle": "2025-10-26T17:47:58.080910Z",
     "shell.execute_reply": "2025-10-26T17:47:58.080422Z"
    },
    "slideshow": {
     "slide_type": "fragment"
    }
   },
   "outputs": [
    {
     "name": "stderr",
     "output_type": "stream",
     "text": [
      "Traceback (most recent call last):\n",
      "  File \"/var/folders/n2/xd9445p97rb3xh7m1dfx8_4h0006ts/T/ipykernel_51678/382405065.py\", line 2, in <module>\n",
      "    test_remove_html_markup_patches(patches)\n",
      "    ~~~~~~~~~~~~~~~~~~~~~~~~~~~~~~~^^^^^^^^^\n",
      "  File \"/var/folders/n2/xd9445p97rb3xh7m1dfx8_4h0006ts/T/ipykernel_51678/1244207729.py\", line 4, in test_remove_html_markup_patches\n",
      "    assert remove_html_markup('\"foo\"') == '\"foo\"'\n",
      "           ^^^^^^^^^^^^^^^^^^^^^^^^^^^^^^^^^^^^^^\n",
      "AssertionError (expected)\n"
     ]
    }
   ],
   "source": [
    "with ExpectError(AssertionError):\n",
    "    test_remove_html_markup_patches(patches)"
   ]
  },
  {
   "cell_type": "markdown",
   "metadata": {
    "slideshow": {
     "slide_type": "subslide"
    }
   },
   "source": [
    "### A Minimal Set of Patches\n",
    "\n",
    "We can now apply delta debugging on the list of patches, simply by invoking a `DeltaDebugger`:"
   ]
  },
  {
   "cell_type": "code",
   "execution_count": 118,
   "metadata": {
    "execution": {
     "iopub.execute_input": "2025-10-26T17:47:58.082983Z",
     "iopub.status.busy": "2025-10-26T17:47:58.082866Z",
     "iopub.status.idle": "2025-10-26T17:47:58.185977Z",
     "shell.execute_reply": "2025-10-26T17:47:58.185364Z"
    },
    "slideshow": {
     "slide_type": "skip"
    }
   },
   "outputs": [],
   "source": [
    "from DeltaDebugger import DeltaDebugger"
   ]
  },
  {
   "cell_type": "code",
   "execution_count": 119,
   "metadata": {
    "execution": {
     "iopub.execute_input": "2025-10-26T17:47:58.188714Z",
     "iopub.status.busy": "2025-10-26T17:47:58.188543Z",
     "iopub.status.idle": "2025-10-26T17:47:58.191276Z",
     "shell.execute_reply": "2025-10-26T17:47:58.190848Z"
    },
    "slideshow": {
     "slide_type": "fragment"
    }
   },
   "outputs": [],
   "source": [
    "with DeltaDebugger() as dd:\n",
    "    test_remove_html_markup_patches(patches)"
   ]
  },
  {
   "attachments": {},
   "cell_type": "markdown",
   "metadata": {
    "slideshow": {
     "slide_type": "fragment"
    }
   },
   "source": [
    "This is the minimal set of failure-inducing patches:"
   ]
  },
  {
   "cell_type": "code",
   "execution_count": 120,
   "metadata": {
    "execution": {
     "iopub.execute_input": "2025-10-26T17:47:58.193621Z",
     "iopub.status.busy": "2025-10-26T17:47:58.193420Z",
     "iopub.status.idle": "2025-10-26T17:47:58.196746Z",
     "shell.execute_reply": "2025-10-26T17:47:58.196446Z"
    },
    "slideshow": {
     "slide_type": "fragment"
    }
   },
   "outputs": [],
   "source": [
    "reduced_patches = dd.min_args()['patches']"
   ]
  },
  {
   "cell_type": "code",
   "execution_count": 121,
   "metadata": {
    "execution": {
     "iopub.execute_input": "2025-10-26T17:47:58.198253Z",
     "iopub.status.busy": "2025-10-26T17:47:58.198154Z",
     "iopub.status.idle": "2025-10-26T17:47:58.228410Z",
     "shell.execute_reply": "2025-10-26T17:47:58.228013Z"
    },
    "slideshow": {
     "slide_type": "subslide"
    }
   },
   "outputs": [
    {
     "name": "stdout",
     "output_type": "stream",
     "text": [
      "@@ -\u001b[34m48\u001b[39;49;00m,\u001b[34m24\u001b[39;49;00m +\u001b[34m48\u001b[39;49;00m,\u001b[34m42\u001b[39;49;00m @@\u001b[37m\u001b[39;49;00m\n",
      " tag = \u001b[34mFalse\u001b[39;49;00m\u001b[37m\u001b[39;49;00m\n",
      "\u001b[37m\u001b[39;49;00m\n",
      "+    quote = \u001b[34mFalse\u001b[39;49;00m\u001b[37m\u001b[39;49;00m\n",
      "\u001b[37m\u001b[39;49;00m\n",
      "     out = \u001b[33m\"\u001b[39;49;00m\u001b[33m\"\u001b[39;49;00m\u001b[37m\u001b[39;49;00m\n"
     ]
    },
    {
     "name": "stdout",
     "output_type": "stream",
     "text": [
      "@@ -\u001b[34m215\u001b[39;49;00m,\u001b[34m24\u001b[39;49;00m +\u001b[34m215\u001b[39;49;00m,\u001b[34m97\u001b[39;49;00m @@\u001b[37m\u001b[39;49;00m\n",
      " tag = \u001b[34mFalse\u001b[39;49;00m\u001b[37m\u001b[39;49;00m\n",
      "\u001b[37m\u001b[39;49;00m\n",
      "+        \u001b[34melif\u001b[39;49;00m c == \u001b[33m'\u001b[39;49;00m\u001b[33m\"\u001b[39;49;00m\u001b[33m'\u001b[39;49;00m \u001b[35mor\u001b[39;49;00m c == \u001b[33m\"\u001b[39;49;00m\u001b[33m'\u001b[39;49;00m\u001b[33m\"\u001b[39;49;00m \u001b[35mand\u001b[39;49;00m tag:\u001b[37m\u001b[39;49;00m\n",
      "            quote = \u001b[35mnot\u001b[39;49;00m quote\u001b[37m\u001b[39;49;00m\n",
      "\u001b[37m\u001b[39;49;00m\n",
      "         \u001b[34melif\u001b[39;49;00m\u001b[37m\u001b[39;49;00m"
     ]
    },
    {
     "name": "stdout",
     "output_type": "stream",
     "text": [
      "\n"
     ]
    }
   ],
   "source": [
    "for p in reduced_patches:\n",
    "    print_patch(p)"
   ]
  },
  {
   "cell_type": "markdown",
   "metadata": {
    "slideshow": {
     "slide_type": "subslide"
    }
   },
   "source": [
    "This is the resulting code. We see that the changes to the conditions (`if c == '<'` and `if c == '>'`) are not necessary to produce the failure – our test string has no HTML tags."
   ]
  },
  {
   "cell_type": "code",
   "execution_count": 122,
   "metadata": {
    "execution": {
     "iopub.execute_input": "2025-10-26T17:47:58.230178Z",
     "iopub.status.busy": "2025-10-26T17:47:58.230001Z",
     "iopub.status.idle": "2025-10-26T17:47:58.244667Z",
     "shell.execute_reply": "2025-10-26T17:47:58.244070Z"
    },
    "slideshow": {
     "slide_type": "subslide"
    }
   },
   "outputs": [
    {
     "name": "stdout",
     "output_type": "stream",
     "text": [
      "\u001b[34mdef\u001b[39;49;00m\u001b[37m \u001b[39;49;00m\u001b[32mremove_html_markup\u001b[39;49;00m(s):  \u001b[37m# type: ignore\u001b[39;49;00m\u001b[37m\u001b[39;49;00m\n",
      "    tag = \u001b[34mFalse\u001b[39;49;00m\u001b[37m\u001b[39;49;00m\n",
      "    quote = \u001b[34mFalse\u001b[39;49;00m\u001b[37m\u001b[39;49;00m\n",
      "    out = \u001b[33m\"\u001b[39;49;00m\u001b[33m\"\u001b[39;49;00m\u001b[37m\u001b[39;49;00m\n",
      "\u001b[37m\u001b[39;49;00m\n",
      "    \u001b[34mfor\u001b[39;49;00m c \u001b[35min\u001b[39;49;00m s:\u001b[37m\u001b[39;49;00m\n",
      "        \u001b[34mif\u001b[39;49;00m c == \u001b[33m'\u001b[39;49;00m\u001b[33m<\u001b[39;49;00m\u001b[33m'\u001b[39;49;00m:    \u001b[37m# start of markup\u001b[39;49;00m\u001b[37m\u001b[39;49;00m\n",
      "            tag = \u001b[34mTrue\u001b[39;49;00m\u001b[37m\u001b[39;49;00m\n",
      "        \u001b[34melif\u001b[39;49;00m c == \u001b[33m'\u001b[39;49;00m\u001b[33m>\u001b[39;49;00m\u001b[33m'\u001b[39;49;00m:  \u001b[37m# end of markup\u001b[39;49;00m\u001b[37m\u001b[39;49;00m\n",
      "            tag = \u001b[34mFalse\u001b[39;49;00m\u001b[37m\u001b[39;49;00m\n",
      "        \u001b[34melif\u001b[39;49;00m c == \u001b[33m'\u001b[39;49;00m\u001b[33m\"\u001b[39;49;00m\u001b[33m'\u001b[39;49;00m \u001b[35mor\u001b[39;49;00m c == \u001b[33m\"\u001b[39;49;00m\u001b[33m'\u001b[39;49;00m\u001b[33m\"\u001b[39;49;00m \u001b[35mand\u001b[39;49;00m tag:\u001b[37m\u001b[39;49;00m\n",
      "            quote = \u001b[35mnot\u001b[39;49;00m quote\u001b[37m\u001b[39;49;00m\n",
      "        \u001b[34melif\u001b[39;49;00m \u001b[35mnot\u001b[39;49;00m tag:\u001b[37m\u001b[39;49;00m\n",
      "            out = out + c\u001b[37m\u001b[39;49;00m\n",
      "\u001b[37m\u001b[39;49;00m\n",
      "    \u001b[34mreturn\u001b[39;49;00m out\u001b[37m\u001b[39;49;00m"
     ]
    }
   ],
   "source": [
    "print_content(patch(version_1, reduced_patches), '.py')"
   ]
  },
  {
   "cell_type": "markdown",
   "metadata": {
    "slideshow": {
     "slide_type": "subslide"
    }
   },
   "source": [
    "Hence, we have now narrowed down our failure-inducing changes from four patches down to two."
   ]
  },
  {
   "cell_type": "markdown",
   "metadata": {
    "slideshow": {
     "slide_type": "subslide"
    }
   },
   "source": [
    "### A Minimal Difference\n",
    "\n",
    "Can we narrow this down even further? Yes, we can! The idea is to not only search for the minimal set of patches to be applied on the passing version, but to actually seek a minimal _difference_ between two patch sets. That is, we obtain \n",
    "\n",
    "* one set of _passing_ patches that, when applied, still passes;\n",
    "* one set of _failing_ patches that, when applied, fails;\n",
    "\n",
    "with a _minimal difference_ between the two. This minimal difference is what causes the failure."
   ]
  },
  {
   "cell_type": "markdown",
   "metadata": {
    "slideshow": {
     "slide_type": "subslide"
    }
   },
   "source": [
    "We obtain such two sets (as well as their difference) by using the `min_arg_diff()` method of the `DeltaDebugger`."
   ]
  },
  {
   "cell_type": "code",
   "execution_count": 123,
   "metadata": {
    "execution": {
     "iopub.execute_input": "2025-10-26T17:47:58.247085Z",
     "iopub.status.busy": "2025-10-26T17:47:58.246874Z",
     "iopub.status.idle": "2025-10-26T17:47:58.250333Z",
     "shell.execute_reply": "2025-10-26T17:47:58.249977Z"
    },
    "slideshow": {
     "slide_type": "fragment"
    }
   },
   "outputs": [],
   "source": [
    "pass_patches, fail_patches, diffs = \\\n",
    "    tuple(arg['patches'] for arg in dd.min_arg_diff())"
   ]
  },
  {
   "cell_type": "markdown",
   "metadata": {
    "slideshow": {
     "slide_type": "fragment"
    }
   },
   "source": [
    "This is `remove_html_markup()` with the passing set applied. We see that the variable `quote` is defined at the beginning. This definition is actually a precondition for other patches to result in an executable program; otherwise, the program will fail when the variable `quote` does not exist."
   ]
  },
  {
   "cell_type": "code",
   "execution_count": 124,
   "metadata": {
    "execution": {
     "iopub.execute_input": "2025-10-26T17:47:58.251812Z",
     "iopub.status.busy": "2025-10-26T17:47:58.251683Z",
     "iopub.status.idle": "2025-10-26T17:47:58.265404Z",
     "shell.execute_reply": "2025-10-26T17:47:58.265138Z"
    },
    "slideshow": {
     "slide_type": "subslide"
    }
   },
   "outputs": [
    {
     "name": "stdout",
     "output_type": "stream",
     "text": [
      "\u001b[34mdef\u001b[39;49;00m\u001b[37m \u001b[39;49;00m\u001b[32mremove_html_markup\u001b[39;49;00m(s):  \u001b[37m# type: ignore\u001b[39;49;00m\u001b[37m\u001b[39;49;00m\n",
      "    tag = \u001b[34mFalse\u001b[39;49;00m\u001b[37m\u001b[39;49;00m\n",
      "    quote = \u001b[34mFalse\u001b[39;49;00m\u001b[37m\u001b[39;49;00m\n",
      "    out = \u001b[33m\"\u001b[39;49;00m\u001b[33m\"\u001b[39;49;00m\u001b[37m\u001b[39;49;00m\n",
      "\u001b[37m\u001b[39;49;00m\n",
      "    \u001b[34mfor\u001b[39;49;00m c \u001b[35min\u001b[39;49;00m s:\u001b[37m\u001b[39;49;00m\n",
      "        \u001b[34mif\u001b[39;49;00m c == \u001b[33m'\u001b[39;49;00m\u001b[33m<\u001b[39;49;00m\u001b[33m'\u001b[39;49;00m \u001b[35mand\u001b[39;49;00m \u001b[35mnot\u001b[39;49;00m quote:\u001b[37m\u001b[39;49;00m\n",
      "            tag = \u001b[34mTrue\u001b[39;49;00m\u001b[37m\u001b[39;49;00m\n",
      "        \u001b[34melif\u001b[39;49;00m c == \u001b[33m'\u001b[39;49;00m\u001b[33m>\u001b[39;49;00m\u001b[33m'\u001b[39;49;00m:  \u001b[37m# end of markup\u001b[39;49;00m\u001b[37m\u001b[39;49;00m\n",
      "            tag = \u001b[34mFalse\u001b[39;49;00m\u001b[37m\u001b[39;49;00m\n",
      "        \u001b[34melif\u001b[39;49;00m \u001b[35mnot\u001b[39;49;00m tag:\u001b[37m\u001b[39;49;00m\n",
      "            out = out + c\u001b[37m\u001b[39;49;00m\n",
      "\u001b[37m\u001b[39;49;00m\n",
      "    \u001b[34mreturn\u001b[39;49;00m out\u001b[37m\u001b[39;49;00m"
     ]
    }
   ],
   "source": [
    "print_content(patch(version_1, pass_patches), '.py')"
   ]
  },
  {
   "cell_type": "markdown",
   "metadata": {
    "slideshow": {
     "slide_type": "subslide"
    }
   },
   "source": [
    "Here's `remove_html_markup()` with the failing set applied. We see that now we also have the check for double quotes:"
   ]
  },
  {
   "cell_type": "code",
   "execution_count": 125,
   "metadata": {
    "execution": {
     "iopub.execute_input": "2025-10-26T17:47:58.266987Z",
     "iopub.status.busy": "2025-10-26T17:47:58.266874Z",
     "iopub.status.idle": "2025-10-26T17:47:58.281351Z",
     "shell.execute_reply": "2025-10-26T17:47:58.281000Z"
    },
    "slideshow": {
     "slide_type": "subslide"
    }
   },
   "outputs": [
    {
     "name": "stdout",
     "output_type": "stream",
     "text": [
      "\u001b[34mdef\u001b[39;49;00m\u001b[37m \u001b[39;49;00m\u001b[32mremove_html_markup\u001b[39;49;00m(s):  \u001b[37m# type: ignore\u001b[39;49;00m\u001b[37m\u001b[39;49;00m\n",
      "    tag = \u001b[34mFalse\u001b[39;49;00m\u001b[37m\u001b[39;49;00m\n",
      "    quote = \u001b[34mFalse\u001b[39;49;00m\u001b[37m\u001b[39;49;00m\n",
      "    out = \u001b[33m\"\u001b[39;49;00m\u001b[33m\"\u001b[39;49;00m\u001b[37m\u001b[39;49;00m\n",
      "\u001b[37m\u001b[39;49;00m\n",
      "    \u001b[34mfor\u001b[39;49;00m c \u001b[35min\u001b[39;49;00m s:\u001b[37m\u001b[39;49;00m\n",
      "        \u001b[34mif\u001b[39;49;00m c == \u001b[33m'\u001b[39;49;00m\u001b[33m<\u001b[39;49;00m\u001b[33m'\u001b[39;49;00m \u001b[35mand\u001b[39;49;00m \u001b[35mnot\u001b[39;49;00m quote:\u001b[37m\u001b[39;49;00m\n",
      "            tag = \u001b[34mTrue\u001b[39;49;00m\u001b[37m\u001b[39;49;00m\n",
      "        \u001b[34melif\u001b[39;49;00m c == \u001b[33m'\u001b[39;49;00m\u001b[33m>\u001b[39;49;00m\u001b[33m'\u001b[39;49;00m:  \u001b[37m# end of markup\u001b[39;49;00m\u001b[37m\u001b[39;49;00m\n",
      "            tag = \u001b[34mFalse\u001b[39;49;00m\u001b[37m\u001b[39;49;00m\n",
      "        \u001b[34melif\u001b[39;49;00m c == \u001b[33m'\u001b[39;49;00m\u001b[33m\"\u001b[39;49;00m\u001b[33m'\u001b[39;49;00m \u001b[35mor\u001b[39;49;00m c == \u001b[33m\"\u001b[39;49;00m\u001b[33m'\u001b[39;49;00m\u001b[33m\"\u001b[39;49;00m \u001b[35mand\u001b[39;49;00m tag:\u001b[37m\u001b[39;49;00m\n",
      "            quote = \u001b[35mnot\u001b[39;49;00m quote\u001b[37m\u001b[39;49;00m\n",
      "        \u001b[34melif\u001b[39;49;00m \u001b[35mnot\u001b[39;49;00m tag:\u001b[37m\u001b[39;49;00m\n",
      "            out = out + c\u001b[37m\u001b[39;49;00m\n",
      "\u001b[37m\u001b[39;49;00m\n",
      "    \u001b[34mreturn\u001b[39;49;00m out\u001b[37m\u001b[39;49;00m"
     ]
    }
   ],
   "source": [
    "print_content(patch(version_1, fail_patches), '.py')"
   ]
  },
  {
   "cell_type": "markdown",
   "metadata": {
    "slideshow": {
     "slide_type": "subslide"
    }
   },
   "source": [
    "The difference is just this one patch:"
   ]
  },
  {
   "cell_type": "code",
   "execution_count": 126,
   "metadata": {
    "execution": {
     "iopub.execute_input": "2025-10-26T17:47:58.282771Z",
     "iopub.status.busy": "2025-10-26T17:47:58.282673Z",
     "iopub.status.idle": "2025-10-26T17:47:58.295980Z",
     "shell.execute_reply": "2025-10-26T17:47:58.295680Z"
    },
    "slideshow": {
     "slide_type": "fragment"
    }
   },
   "outputs": [
    {
     "name": "stdout",
     "output_type": "stream",
     "text": [
      "@@ -\u001b[34m215\u001b[39;49;00m,\u001b[34m24\u001b[39;49;00m +\u001b[34m215\u001b[39;49;00m,\u001b[34m97\u001b[39;49;00m @@\u001b[37m\u001b[39;49;00m\n",
      " tag = \u001b[34mFalse\u001b[39;49;00m\u001b[37m\u001b[39;49;00m\n",
      "\u001b[37m\u001b[39;49;00m\n",
      "+        \u001b[34melif\u001b[39;49;00m c == \u001b[33m'\u001b[39;49;00m\u001b[33m\"\u001b[39;49;00m\u001b[33m'\u001b[39;49;00m \u001b[35mor\u001b[39;49;00m c == \u001b[33m\"\u001b[39;49;00m\u001b[33m'\u001b[39;49;00m\u001b[33m\"\u001b[39;49;00m \u001b[35mand\u001b[39;49;00m tag:\u001b[37m\u001b[39;49;00m\n",
      "            quote = \u001b[35mnot\u001b[39;49;00m quote\u001b[37m\u001b[39;49;00m\n",
      "\u001b[37m\u001b[39;49;00m\n",
      "         \u001b[34melif\u001b[39;49;00m\u001b[37m\u001b[39;49;00m\n"
     ]
    }
   ],
   "source": [
    "for p in diffs:\n",
    "    print_patch(p)"
   ]
  },
  {
   "cell_type": "markdown",
   "metadata": {
    "slideshow": {
     "slide_type": "fragment"
    }
   },
   "source": [
    "And one more time, we are pointed to the buggy line that introduced the error."
   ]
  },
  {
   "cell_type": "markdown",
   "metadata": {
    "slideshow": {
     "slide_type": "slide"
    }
   },
   "source": [
    "## A ChangeDebugger class\n",
    "\n",
    "Let us put all these steps together in a single class. The `ChangeDebugger` is a derivative of `CallCollector` which takes two source files (one passing, one failing)."
   ]
  },
  {
   "cell_type": "code",
   "execution_count": 127,
   "metadata": {
    "execution": {
     "iopub.execute_input": "2025-10-26T17:47:58.297562Z",
     "iopub.status.busy": "2025-10-26T17:47:58.297467Z",
     "iopub.status.idle": "2025-10-26T17:47:58.299129Z",
     "shell.execute_reply": "2025-10-26T17:47:58.298909Z"
    },
    "slideshow": {
     "slide_type": "skip"
    }
   },
   "outputs": [],
   "source": [
    "from DeltaDebugger import CallCollector"
   ]
  },
  {
   "cell_type": "code",
   "execution_count": 128,
   "metadata": {
    "execution": {
     "iopub.execute_input": "2025-10-26T17:47:58.300506Z",
     "iopub.status.busy": "2025-10-26T17:47:58.300403Z",
     "iopub.status.idle": "2025-10-26T17:47:58.303007Z",
     "shell.execute_reply": "2025-10-26T17:47:58.302759Z"
    },
    "slideshow": {
     "slide_type": "subslide"
    }
   },
   "outputs": [],
   "source": [
    "class ChangeDebugger(CallCollector):\n",
    "    def __init__(self, pass_source: str, fail_source: str, **ddargs: Any) -> None:\n",
    "        \"\"\"Constructor. Takes a passing source file (`pass_source`)\n",
    "        and a failing source file (`fail_source`).\n",
    "        Additional arguments are passed to `DeltaDebugger` constructor.\n",
    "        \"\"\"\n",
    "        super().__init__()\n",
    "        self._pass_source = pass_source\n",
    "        self._fail_source = fail_source\n",
    "        self._patches = diff(pass_source, fail_source)\n",
    "        self._ddargs = ddargs\n",
    "        self.log = ddargs['log'] if 'log' in ddargs else False\n",
    "\n",
    "    def pass_source(self) -> str:\n",
    "        \"\"\"Return the passing source file.\"\"\"\n",
    "        return self._pass_source\n",
    "\n",
    "    def fail_source(self) -> str:\n",
    "        \"\"\"Return the failing source file.\"\"\"\n",
    "        return self._fail_source\n",
    "\n",
    "    def patches(self) -> List[patch_obj]:\n",
    "        \"\"\"Return the diff between passing and failing source files.\"\"\"\n",
    "        return self._patches"
   ]
  },
  {
   "cell_type": "markdown",
   "metadata": {
    "slideshow": {
     "slide_type": "subslide"
    }
   },
   "source": [
    "From `CallCollector`, it inherits the ability to inspect a single function call..."
   ]
  },
  {
   "cell_type": "code",
   "execution_count": 129,
   "metadata": {
    "execution": {
     "iopub.execute_input": "2025-10-26T17:47:58.304771Z",
     "iopub.status.busy": "2025-10-26T17:47:58.304677Z",
     "iopub.status.idle": "2025-10-26T17:47:58.306405Z",
     "shell.execute_reply": "2025-10-26T17:47:58.306153Z"
    },
    "slideshow": {
     "slide_type": "fragment"
    }
   },
   "outputs": [],
   "source": [
    "def test_remove_html_markup() -> None:\n",
    "    assert remove_html_markup('\"foo\"') == '\"foo\"'"
   ]
  },
  {
   "cell_type": "code",
   "execution_count": 130,
   "metadata": {
    "execution": {
     "iopub.execute_input": "2025-10-26T17:47:58.308509Z",
     "iopub.status.busy": "2025-10-26T17:47:58.308186Z",
     "iopub.status.idle": "2025-10-26T17:47:58.311262Z",
     "shell.execute_reply": "2025-10-26T17:47:58.311007Z"
    },
    "slideshow": {
     "slide_type": "fragment"
    }
   },
   "outputs": [],
   "source": [
    "with ChangeDebugger(version_1, version_2) as cd:\n",
    "    test_remove_html_markup()"
   ]
  },
  {
   "cell_type": "markdown",
   "metadata": {
    "slideshow": {
     "slide_type": "fragment"
    }
   },
   "source": [
    "... and to repeat it at will."
   ]
  },
  {
   "cell_type": "code",
   "execution_count": 131,
   "metadata": {
    "execution": {
     "iopub.execute_input": "2025-10-26T17:47:58.312685Z",
     "iopub.status.busy": "2025-10-26T17:47:58.312584Z",
     "iopub.status.idle": "2025-10-26T17:47:58.314592Z",
     "shell.execute_reply": "2025-10-26T17:47:58.314312Z"
    },
    "slideshow": {
     "slide_type": "subslide"
    }
   },
   "outputs": [
    {
     "name": "stderr",
     "output_type": "stream",
     "text": [
      "Traceback (most recent call last):\n",
      "  File \"/var/folders/n2/xd9445p97rb3xh7m1dfx8_4h0006ts/T/ipykernel_51678/3359775007.py\", line 2, in <module>\n",
      "    cd.call()\n",
      "    ~~~~~~~^^\n",
      "  File \"/Users/zeller/Projects/debuggingbook/notebooks/DeltaDebugger.ipynb\", line 214, in call\n",
      "    return self.function()(**args)\n",
      "           ~~~~~~~~~~~~~~~^^^^^^^^\n",
      "  File \"/var/folders/n2/xd9445p97rb3xh7m1dfx8_4h0006ts/T/ipykernel_51678/3114633459.py\", line 2, in test_remove_html_markup\n",
      "    assert remove_html_markup('\"foo\"') == '\"foo\"'\n",
      "           ^^^^^^^^^^^^^^^^^^^^^^^^^^^^^^^^^^^^^^\n",
      "AssertionError (expected)\n"
     ]
    }
   ],
   "source": [
    "with ExpectError(AssertionError):\n",
    "    cd.call()"
   ]
  },
  {
   "cell_type": "markdown",
   "metadata": {
    "slideshow": {
     "slide_type": "subslide"
    }
   },
   "source": [
    "We can access the passing source, the failing source, and the list of patches:"
   ]
  },
  {
   "cell_type": "code",
   "execution_count": 132,
   "metadata": {
    "execution": {
     "iopub.execute_input": "2025-10-26T17:47:58.316036Z",
     "iopub.status.busy": "2025-10-26T17:47:58.315937Z",
     "iopub.status.idle": "2025-10-26T17:47:58.329282Z",
     "shell.execute_reply": "2025-10-26T17:47:58.329020Z"
    },
    "slideshow": {
     "slide_type": "subslide"
    }
   },
   "outputs": [
    {
     "name": "stdout",
     "output_type": "stream",
     "text": [
      "\u001b[34mdef\u001b[39;49;00m\u001b[37m \u001b[39;49;00m\u001b[32mremove_html_markup\u001b[39;49;00m(s):  \u001b[37m# type: ignore\u001b[39;49;00m\u001b[37m\u001b[39;49;00m\n",
      "    tag = \u001b[34mFalse\u001b[39;49;00m\u001b[37m\u001b[39;49;00m\n",
      "    out = \u001b[33m\"\u001b[39;49;00m\u001b[33m\"\u001b[39;49;00m\u001b[37m\u001b[39;49;00m\n",
      "\u001b[37m\u001b[39;49;00m\n",
      "    \u001b[34mfor\u001b[39;49;00m c \u001b[35min\u001b[39;49;00m s:\u001b[37m\u001b[39;49;00m\n",
      "        \u001b[34mif\u001b[39;49;00m c == \u001b[33m'\u001b[39;49;00m\u001b[33m<\u001b[39;49;00m\u001b[33m'\u001b[39;49;00m:    \u001b[37m# start of markup\u001b[39;49;00m\u001b[37m\u001b[39;49;00m\n",
      "            tag = \u001b[34mTrue\u001b[39;49;00m\u001b[37m\u001b[39;49;00m\n",
      "        \u001b[34melif\u001b[39;49;00m c == \u001b[33m'\u001b[39;49;00m\u001b[33m>\u001b[39;49;00m\u001b[33m'\u001b[39;49;00m:  \u001b[37m# end of markup\u001b[39;49;00m\u001b[37m\u001b[39;49;00m\n",
      "            tag = \u001b[34mFalse\u001b[39;49;00m\u001b[37m\u001b[39;49;00m\n",
      "        \u001b[34melif\u001b[39;49;00m \u001b[35mnot\u001b[39;49;00m tag:\u001b[37m\u001b[39;49;00m\n",
      "            out = out + c\u001b[37m\u001b[39;49;00m\n",
      "\u001b[37m\u001b[39;49;00m\n",
      "    \u001b[34mreturn\u001b[39;49;00m out\u001b[37m\u001b[39;49;00m"
     ]
    }
   ],
   "source": [
    "print_content(cd.pass_source(), '.py')"
   ]
  },
  {
   "cell_type": "code",
   "execution_count": 133,
   "metadata": {
    "execution": {
     "iopub.execute_input": "2025-10-26T17:47:58.330737Z",
     "iopub.status.busy": "2025-10-26T17:47:58.330639Z",
     "iopub.status.idle": "2025-10-26T17:47:58.343805Z",
     "shell.execute_reply": "2025-10-26T17:47:58.343529Z"
    },
    "slideshow": {
     "slide_type": "subslide"
    }
   },
   "outputs": [
    {
     "name": "stdout",
     "output_type": "stream",
     "text": [
      "\u001b[34mdef\u001b[39;49;00m\u001b[37m \u001b[39;49;00m\u001b[32mremove_html_markup\u001b[39;49;00m(s):  \u001b[37m# type: ignore\u001b[39;49;00m\u001b[37m\u001b[39;49;00m\n",
      "    tag = \u001b[34mFalse\u001b[39;49;00m\u001b[37m\u001b[39;49;00m\n",
      "    quote = \u001b[34mFalse\u001b[39;49;00m\u001b[37m\u001b[39;49;00m\n",
      "    out = \u001b[33m\"\u001b[39;49;00m\u001b[33m\"\u001b[39;49;00m\u001b[37m\u001b[39;49;00m\n",
      "\u001b[37m\u001b[39;49;00m\n",
      "    \u001b[34mfor\u001b[39;49;00m c \u001b[35min\u001b[39;49;00m s:\u001b[37m\u001b[39;49;00m\n",
      "        \u001b[34mif\u001b[39;49;00m c == \u001b[33m'\u001b[39;49;00m\u001b[33m<\u001b[39;49;00m\u001b[33m'\u001b[39;49;00m \u001b[35mand\u001b[39;49;00m \u001b[35mnot\u001b[39;49;00m quote:\u001b[37m\u001b[39;49;00m\n",
      "            tag = \u001b[34mTrue\u001b[39;49;00m\u001b[37m\u001b[39;49;00m\n",
      "        \u001b[34melif\u001b[39;49;00m c == \u001b[33m'\u001b[39;49;00m\u001b[33m>\u001b[39;49;00m\u001b[33m'\u001b[39;49;00m \u001b[35mand\u001b[39;49;00m \u001b[35mnot\u001b[39;49;00m quote:\u001b[37m\u001b[39;49;00m\n",
      "            tag = \u001b[34mFalse\u001b[39;49;00m\u001b[37m\u001b[39;49;00m\n",
      "        \u001b[34melif\u001b[39;49;00m c == \u001b[33m'\u001b[39;49;00m\u001b[33m\"\u001b[39;49;00m\u001b[33m'\u001b[39;49;00m \u001b[35mor\u001b[39;49;00m c == \u001b[33m\"\u001b[39;49;00m\u001b[33m'\u001b[39;49;00m\u001b[33m\"\u001b[39;49;00m \u001b[35mand\u001b[39;49;00m tag:\u001b[37m\u001b[39;49;00m\n",
      "            quote = \u001b[35mnot\u001b[39;49;00m quote\u001b[37m\u001b[39;49;00m\n",
      "        \u001b[34melif\u001b[39;49;00m \u001b[35mnot\u001b[39;49;00m tag:\u001b[37m\u001b[39;49;00m\n",
      "            out = out + c\u001b[37m\u001b[39;49;00m\n",
      "\u001b[37m\u001b[39;49;00m\n",
      "    \u001b[34mreturn\u001b[39;49;00m out\u001b[37m\u001b[39;49;00m"
     ]
    }
   ],
   "source": [
    "print_content(cd.fail_source(), '.py')"
   ]
  },
  {
   "cell_type": "code",
   "execution_count": 134,
   "metadata": {
    "execution": {
     "iopub.execute_input": "2025-10-26T17:47:58.345406Z",
     "iopub.status.busy": "2025-10-26T17:47:58.345303Z",
     "iopub.status.idle": "2025-10-26T17:47:58.347608Z",
     "shell.execute_reply": "2025-10-26T17:47:58.347359Z"
    },
    "slideshow": {
     "slide_type": "subslide"
    }
   },
   "outputs": [
    {
     "data": {
      "text/plain": [
       "[<diff_match_patch.diff_match_patch.patch_obj at 0x10e03f7e0>,\n",
       " <diff_match_patch.diff_match_patch.patch_obj at 0x10e03fa80>,\n",
       " <diff_match_patch.diff_match_patch.patch_obj at 0x10e03fb60>,\n",
       " <diff_match_patch.diff_match_patch.patch_obj at 0x10e03f9a0>]"
      ]
     },
     "execution_count": 134,
     "metadata": {},
     "output_type": "execute_result"
    }
   ],
   "source": [
    "cd.patches()"
   ]
  },
  {
   "cell_type": "markdown",
   "metadata": {
    "slideshow": {
     "slide_type": "fragment"
    }
   },
   "source": [
    "For testing, we do not apply Delta Debugging on the function under test – that would reduce the function's arguments. (It would still be neat, but that's not what we're aiming for here.)\n",
    "\n",
    "Instead, we introduce a method `test_patches()` that gets a set of patches, applies them, reads in the resulting source, and (re-)calls the function."
   ]
  },
  {
   "cell_type": "code",
   "execution_count": 135,
   "metadata": {
    "execution": {
     "iopub.execute_input": "2025-10-26T17:47:58.349292Z",
     "iopub.status.busy": "2025-10-26T17:47:58.349132Z",
     "iopub.status.idle": "2025-10-26T17:47:58.351046Z",
     "shell.execute_reply": "2025-10-26T17:47:58.350809Z"
    },
    "slideshow": {
     "slide_type": "subslide"
    }
   },
   "outputs": [],
   "source": [
    "class ChangeDebugger(ChangeDebugger):\n",
    "    def test_patches(self, patches: List[patch_obj]) -> None:\n",
    "        new_version = patch(self.pass_source(), patches)\n",
    "        exec(new_version, globals())\n",
    "        self.call()"
   ]
  },
  {
   "cell_type": "markdown",
   "metadata": {
    "slideshow": {
     "slide_type": "fragment"
    }
   },
   "source": [
    "For completeness, we ensure that at the beginning of the `with` block, we assume the failing source:"
   ]
  },
  {
   "cell_type": "code",
   "execution_count": 136,
   "metadata": {
    "execution": {
     "iopub.execute_input": "2025-10-26T17:47:58.352758Z",
     "iopub.status.busy": "2025-10-26T17:47:58.352625Z",
     "iopub.status.idle": "2025-10-26T17:47:58.354556Z",
     "shell.execute_reply": "2025-10-26T17:47:58.354317Z"
    },
    "slideshow": {
     "slide_type": "fragment"
    }
   },
   "outputs": [],
   "source": [
    "class ChangeDebugger(ChangeDebugger):\n",
    "    def __enter__(self) -> Any:\n",
    "        \"\"\"Called at begin of a `with` block. Checks if current source fails.\"\"\"\n",
    "        exec(self.fail_source(), globals())\n",
    "        return super().__enter__()"
   ]
  },
  {
   "cell_type": "markdown",
   "metadata": {
    "slideshow": {
     "slide_type": "fragment"
    }
   },
   "source": [
    "Here's `test_patches()` in action. As before, if we apply no patches, the test passes; if we apply all patches, it fails."
   ]
  },
  {
   "cell_type": "code",
   "execution_count": 137,
   "metadata": {
    "execution": {
     "iopub.execute_input": "2025-10-26T17:47:58.355993Z",
     "iopub.status.busy": "2025-10-26T17:47:58.355839Z",
     "iopub.status.idle": "2025-10-26T17:47:58.357934Z",
     "shell.execute_reply": "2025-10-26T17:47:58.357714Z"
    },
    "slideshow": {
     "slide_type": "subslide"
    }
   },
   "outputs": [],
   "source": [
    "with ChangeDebugger(version_1, version_2) as cd:\n",
    "    test_remove_html_markup()"
   ]
  },
  {
   "cell_type": "code",
   "execution_count": 138,
   "metadata": {
    "execution": {
     "iopub.execute_input": "2025-10-26T17:47:58.359441Z",
     "iopub.status.busy": "2025-10-26T17:47:58.359340Z",
     "iopub.status.idle": "2025-10-26T17:47:58.361056Z",
     "shell.execute_reply": "2025-10-26T17:47:58.360706Z"
    },
    "slideshow": {
     "slide_type": "fragment"
    }
   },
   "outputs": [],
   "source": [
    "cd.test_patches([])"
   ]
  },
  {
   "cell_type": "code",
   "execution_count": 139,
   "metadata": {
    "execution": {
     "iopub.execute_input": "2025-10-26T17:47:58.362337Z",
     "iopub.status.busy": "2025-10-26T17:47:58.362246Z",
     "iopub.status.idle": "2025-10-26T17:47:58.364482Z",
     "shell.execute_reply": "2025-10-26T17:47:58.364234Z"
    },
    "slideshow": {
     "slide_type": "subslide"
    }
   },
   "outputs": [
    {
     "name": "stderr",
     "output_type": "stream",
     "text": [
      "Traceback (most recent call last):\n",
      "  File \"/var/folders/n2/xd9445p97rb3xh7m1dfx8_4h0006ts/T/ipykernel_51678/3279782181.py\", line 2, in <module>\n",
      "    cd.test_patches(cd.patches())\n",
      "    ~~~~~~~~~~~~~~~^^^^^^^^^^^^^^\n",
      "  File \"/var/folders/n2/xd9445p97rb3xh7m1dfx8_4h0006ts/T/ipykernel_51678/1738176692.py\", line 5, in test_patches\n",
      "    self.call()\n",
      "    ~~~~~~~~~^^\n",
      "  File \"/Users/zeller/Projects/debuggingbook/notebooks/DeltaDebugger.ipynb\", line 214, in call\n",
      "    return self.function()(**args)\n",
      "           ~~~~~~~~~~~~~~~^^^^^^^^\n",
      "  File \"/var/folders/n2/xd9445p97rb3xh7m1dfx8_4h0006ts/T/ipykernel_51678/3114633459.py\", line 2, in test_remove_html_markup\n",
      "    assert remove_html_markup('\"foo\"') == '\"foo\"'\n",
      "           ^^^^^^^^^^^^^^^^^^^^^^^^^^^^^^^^^^^^^^\n",
      "AssertionError (expected)\n"
     ]
    }
   ],
   "source": [
    "with ExpectError(AssertionError):\n",
    "    cd.test_patches(cd.patches())"
   ]
  },
  {
   "cell_type": "markdown",
   "metadata": {
    "slideshow": {
     "slide_type": "subslide"
    }
   },
   "source": [
    "Now for the actual debugging. We introduce a method `min_patches()` in which we invoke a `DeltaDebugger` on the `test_patches()` method we just defined. Using `min_arg.diff()`, it then computes a minimal failure-inducing difference between the patches. "
   ]
  },
  {
   "cell_type": "code",
   "execution_count": 140,
   "metadata": {
    "execution": {
     "iopub.execute_input": "2025-10-26T17:47:58.365676Z",
     "iopub.status.busy": "2025-10-26T17:47:58.365600Z",
     "iopub.status.idle": "2025-10-26T17:47:58.367896Z",
     "shell.execute_reply": "2025-10-26T17:47:58.367581Z"
    },
    "slideshow": {
     "slide_type": "subslide"
    }
   },
   "outputs": [],
   "source": [
    "class ChangeDebugger(ChangeDebugger):\n",
    "    def min_patches(self) -> Tuple[List[patch_obj], List[patch_obj], List[patch_obj]]:\n",
    "        \"\"\"\n",
    "        Compute a minimal set of patches.\n",
    "        Returns a triple (`pass_patches`, `fail_patches`, `diff_patches`) \n",
    "        where `diff_patches` is the minimal difference between \n",
    "        the set `pass_patches` (which, when applied, make the test pass) and \n",
    "        the set `fail_patches` (which, when applied, make the test fail).\n",
    "        \"\"\"\n",
    "        patches = self.patches()\n",
    "        with DeltaDebugger(**self._ddargs) as dd:\n",
    "            self.test_patches(patches)\n",
    "\n",
    "        args = dd.min_arg_diff()\n",
    "        pass_patches = args[0]['patches']\n",
    "        fail_patches = args[1]['patches']\n",
    "        diff_patches = args[2]['patches']\n",
    "\n",
    "        return (pass_patches, fail_patches, diff_patches)"
   ]
  },
  {
   "cell_type": "markdown",
   "metadata": {
    "slideshow": {
     "slide_type": "subslide"
    }
   },
   "source": [
    "The `__repr__()` method, turning a `ChangeDebugger` into a readable string, computes `min_patches()` and returns a user-readable representation of the patches:"
   ]
  },
  {
   "cell_type": "code",
   "execution_count": 141,
   "metadata": {
    "execution": {
     "iopub.execute_input": "2025-10-26T17:47:58.369174Z",
     "iopub.status.busy": "2025-10-26T17:47:58.369091Z",
     "iopub.status.idle": "2025-10-26T17:47:58.370981Z",
     "shell.execute_reply": "2025-10-26T17:47:58.370763Z"
    },
    "slideshow": {
     "slide_type": "fragment"
    }
   },
   "outputs": [],
   "source": [
    "class ChangeDebugger(ChangeDebugger):\n",
    "    def __repr__(self) -> str:\n",
    "        \"\"\"Return readable list of minimal patches\"\"\"\n",
    "        pass_patches, fail_patches, diff_patches = self.min_patches()\n",
    "        return \"\".join(patch_string(p) for p in diff_patches)"
   ]
  },
  {
   "cell_type": "markdown",
   "metadata": {
    "slideshow": {
     "slide_type": "fragment"
    }
   },
   "source": [
    "Here's how to use these methods. First, we invoke `ChangeDebugger` with the given old and new source code versions on our test function."
   ]
  },
  {
   "cell_type": "code",
   "execution_count": 142,
   "metadata": {
    "execution": {
     "iopub.execute_input": "2025-10-26T17:47:58.372165Z",
     "iopub.status.busy": "2025-10-26T17:47:58.372076Z",
     "iopub.status.idle": "2025-10-26T17:47:58.374060Z",
     "shell.execute_reply": "2025-10-26T17:47:58.373858Z"
    },
    "slideshow": {
     "slide_type": "fragment"
    }
   },
   "outputs": [],
   "source": [
    "with ChangeDebugger(version_1, version_2) as cd:\n",
    "    test_remove_html_markup()"
   ]
  },
  {
   "cell_type": "markdown",
   "metadata": {
    "slideshow": {
     "slide_type": "fragment"
    }
   },
   "source": [
    "These are the patches we determined:"
   ]
  },
  {
   "cell_type": "code",
   "execution_count": 143,
   "metadata": {
    "execution": {
     "iopub.execute_input": "2025-10-26T17:47:58.375197Z",
     "iopub.status.busy": "2025-10-26T17:47:58.375114Z",
     "iopub.status.idle": "2025-10-26T17:47:58.377049Z",
     "shell.execute_reply": "2025-10-26T17:47:58.376807Z"
    },
    "slideshow": {
     "slide_type": "subslide"
    }
   },
   "outputs": [
    {
     "data": {
      "text/plain": [
       "[<diff_match_patch.diff_match_patch.patch_obj at 0x10df3d160>,\n",
       " <diff_match_patch.diff_match_patch.patch_obj at 0x10df3d780>,\n",
       " <diff_match_patch.diff_match_patch.patch_obj at 0x10deab2a0>,\n",
       " <diff_match_patch.diff_match_patch.patch_obj at 0x10deab4d0>]"
      ]
     },
     "execution_count": 143,
     "metadata": {},
     "output_type": "execute_result"
    }
   ],
   "source": [
    "cd.patches()"
   ]
  },
  {
   "cell_type": "markdown",
   "metadata": {
    "slideshow": {
     "slide_type": "fragment"
    }
   },
   "source": [
    "We invoke `min_patches` to obtain a minimal set of patches:"
   ]
  },
  {
   "cell_type": "code",
   "execution_count": 144,
   "metadata": {
    "execution": {
     "iopub.execute_input": "2025-10-26T17:47:58.378276Z",
     "iopub.status.busy": "2025-10-26T17:47:58.378193Z",
     "iopub.status.idle": "2025-10-26T17:47:58.381912Z",
     "shell.execute_reply": "2025-10-26T17:47:58.381663Z"
    },
    "slideshow": {
     "slide_type": "fragment"
    }
   },
   "outputs": [
    {
     "data": {
      "text/plain": [
       "[<diff_match_patch.diff_match_patch.patch_obj at 0x10deab4d0>]"
      ]
     },
     "execution_count": 144,
     "metadata": {},
     "output_type": "execute_result"
    }
   ],
   "source": [
    "pass_patches, fail_patches, diffs = cd.min_patches()\n",
    "diffs"
   ]
  },
  {
   "cell_type": "markdown",
   "metadata": {
    "slideshow": {
     "slide_type": "fragment"
    }
   },
   "source": [
    "We can inspect the failure-inducing patches right away:"
   ]
  },
  {
   "cell_type": "code",
   "execution_count": 145,
   "metadata": {
    "execution": {
     "iopub.execute_input": "2025-10-26T17:47:58.383260Z",
     "iopub.status.busy": "2025-10-26T17:47:58.383145Z",
     "iopub.status.idle": "2025-10-26T17:47:58.384969Z",
     "shell.execute_reply": "2025-10-26T17:47:58.384759Z"
    },
    "slideshow": {
     "slide_type": "subslide"
    }
   },
   "outputs": [
    {
     "name": "stdout",
     "output_type": "stream",
     "text": [
      "@@ -215,24 +215,97 @@\n",
      " tag = False\n",
      "\n",
      "+        elif c == '\"' or c == \"'\" and tag:\n",
      "            quote = not quote\n",
      "\n",
      "         elif\n"
     ]
    }
   ],
   "source": [
    "print(patch_string(diffs[0]))"
   ]
  },
  {
   "cell_type": "markdown",
   "metadata": {
    "slideshow": {
     "slide_type": "fragment"
    }
   },
   "source": [
    "Or – even simpler – we can simply print out the `ChangeDebugger` to obtain a readable representation."
   ]
  },
  {
   "cell_type": "code",
   "execution_count": 146,
   "metadata": {
    "execution": {
     "iopub.execute_input": "2025-10-26T17:47:58.386451Z",
     "iopub.status.busy": "2025-10-26T17:47:58.386343Z",
     "iopub.status.idle": "2025-10-26T17:47:58.390038Z",
     "shell.execute_reply": "2025-10-26T17:47:58.389762Z"
    },
    "slideshow": {
     "slide_type": "subslide"
    }
   },
   "outputs": [
    {
     "data": {
      "text/plain": [
       "@@ -215,24 +215,97 @@\n",
       " tag = False\n",
       "\n",
       "+        elif c == '\"' or c == \"'\" and tag:\n",
       "            quote = not quote\n",
       "\n",
       "         elif"
      ]
     },
     "execution_count": 146,
     "metadata": {},
     "output_type": "execute_result"
    }
   ],
   "source": [
    "cd"
   ]
  },
  {
   "cell_type": "markdown",
   "metadata": {
    "slideshow": {
     "slide_type": "fragment"
    }
   },
   "source": [
    "Success!"
   ]
  },
  {
   "cell_type": "markdown",
   "metadata": {
    "slideshow": {
     "slide_type": "fragment"
    }
   },
   "source": [
    "Does this also work for longer change histories? Let's take the very first and the very last version."
   ]
  },
  {
   "cell_type": "code",
   "execution_count": 147,
   "metadata": {
    "execution": {
     "iopub.execute_input": "2025-10-26T17:47:58.391442Z",
     "iopub.status.busy": "2025-10-26T17:47:58.391352Z",
     "iopub.status.idle": "2025-10-26T17:47:58.405541Z",
     "shell.execute_reply": "2025-10-26T17:47:58.405169Z"
    },
    "slideshow": {
     "slide_type": "fragment"
    }
   },
   "outputs": [],
   "source": [
    "version_8 = get_output(['git', 'show', \n",
    "                            f'{versions[7]}:remove_html_markup.py'])"
   ]
  },
  {
   "cell_type": "code",
   "execution_count": 148,
   "metadata": {
    "execution": {
     "iopub.execute_input": "2025-10-26T17:47:58.407194Z",
     "iopub.status.busy": "2025-10-26T17:47:58.407034Z",
     "iopub.status.idle": "2025-10-26T17:47:58.409737Z",
     "shell.execute_reply": "2025-10-26T17:47:58.409481Z"
    },
    "slideshow": {
     "slide_type": "fragment"
    }
   },
   "outputs": [],
   "source": [
    "with ChangeDebugger(version_1, version_8) as cd:\n",
    "    test_remove_html_markup()"
   ]
  },
  {
   "cell_type": "markdown",
   "metadata": {
    "slideshow": {
     "slide_type": "subslide"
    }
   },
   "source": [
    "We start with 5 patches:"
   ]
  },
  {
   "cell_type": "code",
   "execution_count": 149,
   "metadata": {
    "execution": {
     "iopub.execute_input": "2025-10-26T17:47:58.410962Z",
     "iopub.status.busy": "2025-10-26T17:47:58.410862Z",
     "iopub.status.idle": "2025-10-26T17:47:58.413119Z",
     "shell.execute_reply": "2025-10-26T17:47:58.412908Z"
    },
    "slideshow": {
     "slide_type": "fragment"
    }
   },
   "outputs": [
    {
     "data": {
      "text/plain": [
       "5"
      ]
     },
     "execution_count": 149,
     "metadata": {},
     "output_type": "execute_result"
    }
   ],
   "source": [
    "len(cd.patches())"
   ]
  },
  {
   "cell_type": "markdown",
   "metadata": {
    "slideshow": {
     "slide_type": "fragment"
    }
   },
   "source": [
    "Printing out the debugger again reveals a single failure-inducing change – it's actually still the same."
   ]
  },
  {
   "cell_type": "code",
   "execution_count": 150,
   "metadata": {
    "execution": {
     "iopub.execute_input": "2025-10-26T17:47:58.414335Z",
     "iopub.status.busy": "2025-10-26T17:47:58.414242Z",
     "iopub.status.idle": "2025-10-26T17:47:58.417765Z",
     "shell.execute_reply": "2025-10-26T17:47:58.417451Z"
    },
    "slideshow": {
     "slide_type": "fragment"
    }
   },
   "outputs": [
    {
     "data": {
      "text/plain": [
       "@@ -215,24 +215,97 @@\n",
       " tag = False\n",
       "\n",
       "+        elif c == '\"' or c == \"'\" and tag:\n",
       "            quote = not quote\n",
       "\n",
       "         elif"
      ]
     },
     "execution_count": 150,
     "metadata": {},
     "output_type": "execute_result"
    }
   ],
   "source": [
    "cd"
   ]
  },
  {
   "cell_type": "markdown",
   "metadata": {
    "slideshow": {
     "slide_type": "fragment"
    }
   },
   "source": [
    "We close with a bit of housekeeping, ensuring that the preconditions are properly met."
   ]
  },
  {
   "cell_type": "code",
   "execution_count": 151,
   "metadata": {
    "execution": {
     "iopub.execute_input": "2025-10-26T17:47:58.419348Z",
     "iopub.status.busy": "2025-10-26T17:47:58.419243Z",
     "iopub.status.idle": "2025-10-26T17:47:58.420845Z",
     "shell.execute_reply": "2025-10-26T17:47:58.420582Z"
    },
    "slideshow": {
     "slide_type": "skip"
    }
   },
   "outputs": [],
   "source": [
    "from DeltaDebugger import NoCallError, NotFailingError"
   ]
  },
  {
   "cell_type": "code",
   "execution_count": 152,
   "metadata": {
    "execution": {
     "iopub.execute_input": "2025-10-26T17:47:58.422152Z",
     "iopub.status.busy": "2025-10-26T17:47:58.422054Z",
     "iopub.status.idle": "2025-10-26T17:47:58.423731Z",
     "shell.execute_reply": "2025-10-26T17:47:58.423462Z"
    },
    "slideshow": {
     "slide_type": "subslide"
    }
   },
   "outputs": [],
   "source": [
    "class NotPassingError(ValueError):\n",
    "    pass"
   ]
  },
  {
   "cell_type": "code",
   "execution_count": 153,
   "metadata": {
    "execution": {
     "iopub.execute_input": "2025-10-26T17:47:58.425104Z",
     "iopub.status.busy": "2025-10-26T17:47:58.425000Z",
     "iopub.status.idle": "2025-10-26T17:47:58.427625Z",
     "shell.execute_reply": "2025-10-26T17:47:58.427364Z"
    },
    "slideshow": {
     "slide_type": "subslide"
    }
   },
   "outputs": [],
   "source": [
    "class ChangeDebugger(ChangeDebugger):\n",
    "    def after_collection(self) -> None:\n",
    "        \"\"\"Diagnostics.\"\"\"\n",
    "        if self.function() is None:\n",
    "            raise NoCallError(\"No function call observed\")\n",
    "        if self.exception() is None:\n",
    "            raise NotFailingError(f\"{self.format_call()} did not raise an exception\")\n",
    "\n",
    "        try:\n",
    "            self.test_patches([])\n",
    "        except Exception:\n",
    "            raise NotPassingError(f\"{self.format_call()} raised an exception in its passing version\")\n",
    "\n",
    "        try:\n",
    "            self.test_patches(self.patches())\n",
    "            raise NotFailingError(f\"{self.format_call()} did not raise an exception in failing version\")\n",
    "        except Exception:\n",
    "            pass\n",
    "\n",
    "        if self.log:\n",
    "            print(f\"Observed {self.format_call()}\" +\n",
    "                  f\" raising {self.format_exception(self.exception())}\")  "
   ]
  },
  {
   "cell_type": "code",
   "execution_count": 154,
   "metadata": {
    "execution": {
     "iopub.execute_input": "2025-10-26T17:47:58.428826Z",
     "iopub.status.busy": "2025-10-26T17:47:58.428735Z",
     "iopub.status.idle": "2025-10-26T17:47:58.430888Z",
     "shell.execute_reply": "2025-10-26T17:47:58.430556Z"
    },
    "slideshow": {
     "slide_type": "subslide"
    }
   },
   "outputs": [],
   "source": [
    "with ExpectError(NotPassingError):\n",
    "    with ChangeDebugger(version_1, version_2) as cd:\n",
    "        test_remove_html_markup()"
   ]
  },
  {
   "cell_type": "markdown",
   "metadata": {
    "slideshow": {
     "slide_type": "fragment"
    }
   },
   "source": [
    "With this, we're done. Enjoy debugging changes!"
   ]
  },
  {
   "cell_type": "markdown",
   "metadata": {
    "button": false,
    "new_sheet": true,
    "run_control": {
     "read_only": false
    },
    "slideshow": {
     "slide_type": "slide"
    }
   },
   "source": [
    "## Lessons Learned\n",
    "\n",
    "* If one has a version history available, one can use it to determine failure-inducing changes.\n",
    "* Bisecting with git effectively isolates failure-inducing commits, both manually and automatically.\n",
    "* Delta debugging on changes allows further isolating minimal sets of failure-inducing changes."
   ]
  },
  {
   "cell_type": "markdown",
   "metadata": {
    "button": false,
    "new_sheet": false,
    "run_control": {
     "read_only": false
    },
    "slideshow": {
     "slide_type": "slide"
    }
   },
   "source": [
    "## Next Steps\n",
    "\n",
    "This concludes our applications of Delta Debugging. In the next chapters, we will analyze how to abstract failure-inducing inputs into failure-inducing _input sets_."
   ]
  },
  {
   "cell_type": "markdown",
   "metadata": {
    "slideshow": {
     "slide_type": "slide"
    }
   },
   "source": [
    "## Background\n",
    "\n",
    "The concept of \"bisecting\" as traversing a version history to identify failure-inducing changes was first described by Brian Ness and Viet Ngo from Cray Research as \"Source change isolation\" \\cite{Ness1997}. The abstract of their paper summarizes the goals and benefits:\n",
    "\n",
    "> Effective regression containment is an important factor in the design of development and testing processes for large software projects, especially when many developers are doing concurrent work on a common set of sources. Source change isolation provides an inexpensive, mechanical alternative to analytical methods for identifying the cause of software regressions. It also provides the advantage of enabling regressions to be eliminated by reversing the effect of source changes that introduced errant behavior, without the need to write new code, and without halting other development work on the same software. Deliverability is also improved.\n",
    "\n",
    "Delta Debugging on changes (and also Delta Debugging) was introduced in \"Yesterday, my program worked. Today, it does not. Why?\" \\cite{Zeller1999}, a paper which would win an ACM SIGSOFT Impact Paper Award ten years later.\n",
    "This paper generalized over \\cite{Ness1997} by identifying failure-inducing differences in arbitrary sets of changes. \\cite{Zeller2002} generalized the algorithm to work on inputs and other collections (including changes); the [chapter on delta debugging](DeltaDebugger), which we use in this chapter, uses the \\cite{Zeller2002} formulation of the `dd` algorithm."
   ]
  },
  {
   "cell_type": "markdown",
   "metadata": {
    "slideshow": {
     "slide_type": "subslide"
    }
   },
   "source": [
    "We're done, so we clean up a bit:"
   ]
  },
  {
   "cell_type": "code",
   "execution_count": 169,
   "metadata": {
    "execution": {
     "iopub.execute_input": "2025-10-26T17:47:59.563764Z",
     "iopub.status.busy": "2025-10-26T17:47:59.563643Z",
     "iopub.status.idle": "2025-10-26T17:47:59.565555Z",
     "shell.execute_reply": "2025-10-26T17:47:59.565280Z"
    },
    "slideshow": {
     "slide_type": "fragment"
    }
   },
   "outputs": [],
   "source": [
    "try:\n",
    "    shutil.rmtree(PROJECT)\n",
    "except FileNotFoundError:\n",
    "    pass"
   ]
  },
  {
   "cell_type": "markdown",
   "metadata": {
    "button": false,
    "new_sheet": true,
    "run_control": {
     "read_only": false
    },
    "slideshow": {
     "slide_type": "slide"
    }
   },
   "source": [
    "## Exercises\n"
   ]
  },
  {
   "cell_type": "markdown",
   "metadata": {
    "button": false,
    "new_sheet": false,
    "run_control": {
     "read_only": false
    },
    "slideshow": {
     "slide_type": "subslide"
    },
    "solution2": "hidden",
    "solution2_first": true
   },
   "source": [
    "### Exercise 1: Fine-Grained Changes\n",
    "\n",
    "Instead of computing patches on lines (as we and most `diff` programs do), one can also compute fine-grained diffs, using our `diff()` function with `mode='chars'`. Would this make sense?"
   ]
  },
  {
   "cell_type": "markdown",
   "metadata": {
    "slideshow": {
     "slide_type": "skip"
    },
    "solution2": "hidden"
   },
   "source": [
    "**Solution.** Let us see what happens if we compute a character `diff` on our two versions:"
   ]
  },
  {
   "cell_type": "code",
   "execution_count": 170,
   "metadata": {
    "cell_style": "split",
    "execution": {
     "iopub.execute_input": "2025-10-26T17:47:59.567370Z",
     "iopub.status.busy": "2025-10-26T17:47:59.567259Z",
     "iopub.status.idle": "2025-10-26T17:47:59.571366Z",
     "shell.execute_reply": "2025-10-26T17:47:59.571131Z"
    },
    "slideshow": {
     "slide_type": "skip"
    },
    "solution2": "hidden"
   },
   "outputs": [],
   "source": [
    "patches = diff(version_1, version_2, mode='chars')"
   ]
  },
  {
   "cell_type": "code",
   "execution_count": 171,
   "metadata": {
    "execution": {
     "iopub.execute_input": "2025-10-26T17:47:59.572729Z",
     "iopub.status.busy": "2025-10-26T17:47:59.572651Z",
     "iopub.status.idle": "2025-10-26T17:47:59.574934Z",
     "shell.execute_reply": "2025-10-26T17:47:59.574472Z"
    },
    "slideshow": {
     "slide_type": "skip"
    },
    "solution2": "hidden"
   },
   "outputs": [
    {
     "name": "stdout",
     "output_type": "stream",
     "text": [
      "@@ -52,24 +52,42 @@\n",
      " = False\n",
      "    \n",
      "+quote = False\n",
      "    \n",
      " out = \"\"\n",
      "\n",
      "\n",
      "@@ -123,30 +123,23 @@\n",
      "  '<'\n",
      "-:\n",
      "  \n",
      "-   # st\n",
      " a\n",
      "-rt\n",
      "+nd\n",
      "  \n",
      "+n\n",
      " o\n",
      "-f\n",
      "+t\n",
      "  \n",
      "-mark\n",
      "+q\n",
      " u\n",
      "-p\n",
      "+ote:\n",
      " \n",
      "\n",
      "@@ -183,26 +183,23 @@\n",
      "  '>'\n",
      "-:  #\n",
      "  \n",
      "-e\n",
      "+a\n",
      " nd \n",
      "+n\n",
      " o\n",
      "-f\n",
      "+t\n",
      "  \n",
      "-mark\n",
      "+q\n",
      " u\n",
      "-p\n",
      "+ote:\n",
      " \n",
      "\n",
      "@@ -213,24 +213,97 @@\n",
      "   tag = Fals\n",
      "+e\n",
      "        elif c == '\"' or c == \"'\" and tag:\n",
      "            quote = not quot\n",
      " e\n",
      "        el\n"
     ]
    }
   ],
   "source": [
    "for p in patches:\n",
    "    print(patch_string(p))"
   ]
  },
  {
   "cell_type": "markdown",
   "metadata": {
    "slideshow": {
     "slide_type": "skip"
    },
    "solution2": "hidden"
   },
   "source": [
    "We see that the patches now replace words like `start` to `and`, keeping the `a` common to both words. Such tiny differences may be useful for merging changes in text documents (which is what the Google library was built for), but not necessarily code."
   ]
  },
  {
   "cell_type": "markdown",
   "metadata": {
    "button": false,
    "new_sheet": false,
    "run_control": {
     "read_only": false
    },
    "slideshow": {
     "slide_type": "subslide"
    }
   },
   "source": [
    "### Exercise 2: Failure-Inducing Changes in the Large\n",
    "\n",
    "Our `ChangeDebugger` class works on two versions of one class, function, or module, but not on versions of an entire project. Extend `ChangeDebugger` to a class `DiffDebugger` that can actually take two _directories_ (including differences in subdirectories with added and deleted files) and determine failure-inducing differences between them. This would allow checking out two versions of a project and determine failure-inducing differences.\n",
    "\n",
    "Note that applying delte debugging on large sets of differences is a time-consuming task, since \n",
    "\n",
    "* Every test requires a rebuild and rerun of the code; and\n",
    "* There are many ways to cause inconsistencies by applying random changes.\n",
    "\n",
    "Refer to \\cite{Zeller1999} for some hints on how to make this efficient."
   ]
  },
  {
   "cell_type": "markdown",
   "metadata": {
    "button": false,
    "new_sheet": false,
    "run_control": {
     "read_only": false
    },
    "slideshow": {
     "slide_type": "subslide"
    }
   },
   "source": [
    "### Exercise 3: Hierarchical Change Debugging\n",
    "\n",
    "Rather than running Delta Debugging on _all_ changes between two projects (as with `DiffDebugger`, above), it can be wise to first progress along the change history (as with `git bisect`) and only then run Delta Debugging on the remaining changes. \n",
    "\n",
    "Building on `DiffDebugger`, implement a class `GitDebugger` that takes two version identifiers (= the \"good\" and \"bad\" hashes in `git bisect`) and a test (like `ChangeDebugger`) and then\n",
    "\n",
    "1. runs `git bisect` to narrow down the failure-inducing commit\n",
    "2. runs `ChangeDebugger` to further narrow down the failure-inducing change within the failure-inducing commit."
   ]
  },
  {
   "cell_type": "markdown",
   "metadata": {
    "slideshow": {
     "slide_type": "subslide"
    }
   },
   "source": [
    "This gives you the best of two worlds: The failure-inducing commit is quickly identified; and the additional `ChangeDebugger` run provides even more fine-grained details, albeit at the expense of (potentially several) additional tests."
   ]
  }
 ],
 "metadata": {
  "ipub": {
   "bibliography": "fuzzingbook.bib",
   "toc": true
  },
  "kernelspec": {
   "display_name": "venv",
   "language": "python",
   "name": "python3"
  },
  "language_info": {
   "codemirror_mode": {
    "name": "ipython",
    "version": 3
   },
   "file_extension": ".py",
   "mimetype": "text/x-python",
   "name": "python",
   "nbconvert_exporter": "python",
   "pygments_lexer": "ipython3",
   "version": "3.13.4"
  },
  "toc": {
   "base_numbering": 1,
   "nav_menu": {},
   "number_sections": true,
   "sideBar": true,
   "skip_h1_title": true,
   "title_cell": "",
   "title_sidebar": "Contents",
   "toc_cell": false,
   "toc_position": {},
   "toc_section_display": true,
   "toc_window_display": true
  },
  "toc-autonumbering": false,
  "vscode": {
   "interpreter": {
    "hash": "0af4f07dd039d1b4e562c7a7d0340393b1c66f50605ac6af30beb81aa23b7ef5"
   }
  }
 },
 "nbformat": 4,
 "nbformat_minor": 4
}