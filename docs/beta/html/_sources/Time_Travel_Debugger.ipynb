{
 "cells": [
  {
   "cell_type": "markdown",
   "metadata": {
    "pycharm": {
     "name": "#%% md\n"
    },
    "slideshow": {
     "slide_type": "slide"
    }
   },
   "source": [
    "# Project: Time Travel Debugger\n",
    "\n",
    "In this project you will build your own **Time Travel Debugger** for Python. Please read the [Chapter on Debuggers](https://www.debuggingbook.org/beta/html/Debugger.html) beforehand, notably Exercise 1."
   ]
  },
  {
   "cell_type": "markdown",
   "metadata": {
    "slideshow": {
     "slide_type": "subslide"
    }
   },
   "source": [
    "**Update\\[26.11.2020\\]**: the project description was amended to include answers to most of the student's questions.  \n",
    "Clarifications are highlighted with <span style=\"color:blue\">blue</span> color.\n",
    "Changes/additions are highlighted with <span style=\"color:red\">red</span> color."
   ]
  },
  {
   "cell_type": "markdown",
   "metadata": {
    "pycharm": {
     "name": "#%% md\n"
    },
    "slideshow": {
     "slide_type": "subslide"
    }
   },
   "source": [
    "A time travel debugger records a log of the process execution (including call stack and values of all variables at each step), so that it is possible to run it later\n",
    "with both forward and backward commands. The interactive session does not execute the code statements, but just replays all actions taken from the recorded execution.\n",
    "A time travel debugger can restore a full snapshot of each program state at any point in time and either continue the execution from then on, or run the program backward.\n",
    "As normal execution changes values of variables along the run, the backward execution reverts variables to the previous values and \"un-executes\" functions."
   ]
  },
  {
   "cell_type": "markdown",
   "metadata": {
    "pycharm": {
     "name": "#%% md\n"
    },
    "slideshow": {
     "slide_type": "subslide"
    }
   },
   "source": [
    "The project can be approached in two ways: either as a single-person project or a pair project.\n",
    "The single-person project comprises the implementation of a command line interface, whereas the pair project requires the implementation of a graphical user interface."
   ]
  },
  {
   "cell_type": "markdown",
   "metadata": {
    "pycharm": {
     "name": "#%% md\n"
    },
    "slideshow": {
     "slide_type": "fragment"
    }
   },
   "source": [
    "To be successful, you must obtain at least 15 points by implementing features listed in \"Must-have Requirements\"; otherwise, you will not be awarded any points for the project.\n",
    "\n",
    "To fully enjoy coding (and get maximum points) feel free to additionally implement some (or all) features from the \"May-Have Requirements\"."
   ]
  },
  {
   "cell_type": "markdown",
   "metadata": {
    "pycharm": {
     "name": "#%% md\n"
    },
    "slideshow": {
     "slide_type": "slide"
    }
   },
   "source": [
    "## Submission details\n",
    "\n",
    "The deadline for this project is on **the 18th of December, 2020 at 11:59pm CET**\n",
    "All files packaged in a zip archive must be uploaded via the CMS system.\n",
    "The project should be a self-contained bundle with the `TimeTravelDebugger.ipynb` Jupyter notebook and supplementary files."
   ]
  },
  {
   "cell_type": "markdown",
   "metadata": {
    "pycharm": {
     "name": "#%% md\n"
    },
    "slideshow": {
     "slide_type": "slide"
    }
   },
   "source": [
    "## General Requirements\n",
    "\n",
    "The project should be implemented in a Jupyter notebook with a step-by-step explanation of the implemented features (like the notebooks from the lecture).\n",
    "The notebook should also include a \"Presentation\" section containing **demo interactions** which show how to use each feature."
   ]
  },
  {
   "cell_type": "markdown",
   "metadata": {
    "pycharm": {
     "name": "#%% md\n"
    },
    "slideshow": {
     "slide_type": "fragment"
    }
   },
   "source": [
    "Your project should come with a working environment via either `virtualenv` (*requirements.txt* file) or `pipenv` (*Pipfile.lock* file) tools."
   ]
  },
  {
   "cell_type": "markdown",
   "metadata": {
    "pycharm": {
     "name": "#%% md\n"
    },
    "slideshow": {
     "slide_type": "fragment"
    }
   },
   "source": [
    "Your code should follow PEP 8 style conventions. You can use `%%pycodestyle` command from the [pycodestyle](https://pycodestyle.readthedocs.io) package to check files for PEP 8 compliance."
   ]
  },
  {
   "cell_type": "markdown",
   "metadata": {
    "pycharm": {
     "name": "#%% md\n"
    },
    "slideshow": {
     "slide_type": "subslide"
    }
   },
   "source": [
    "The time travel debugger should be implemented as a class that can be executed as follows:\n",
    "```\n",
    "with TimeTravelDebugger():\n",
    "    foo(args)\n",
    "```\n",
    "where `foo(args)` can be an arbitrary function under debugging, implemented either in the same notebook or imported from another file.\n",
    "**Do not let the debugger escape the context and also debug commands outside the `with` block (e.g., methods of the Jupyter framework).**"
   ]
  },
  {
   "cell_type": "markdown",
   "metadata": {
    "pycharm": {
     "name": "#%% md\n"
    },
    "slideshow": {
     "slide_type": "slide"
    }
   },
   "source": [
    "## Part 1: Command-Line Debugger\n",
    "\n",
    "If you work as a **single-person**, this is the part you will have to build."
   ]
  },
  {
   "cell_type": "markdown",
   "metadata": {
    "pycharm": {
     "name": "#%% md\n"
    },
    "slideshow": {
     "slide_type": "fragment"
    }
   },
   "source": [
    "The implementation should include an interactive command line interface like the one presented in the [Chapter on Debugging](https://www.debuggingbook.org/beta/html/Debugger.html). Make use of the `Debugger` class, notably its `execute()` infrastructure, to easily tie commands to methods."
   ]
  },
  {
   "cell_type": "markdown",
   "metadata": {
    "pycharm": {
     "name": "#%% md\n"
    },
    "slideshow": {
     "slide_type": "subslide"
    }
   },
   "source": [
    "### Must-Have Requirements (20 Points)\n",
    "\n",
    "Your time travel debugger should support the following features:"
   ]
  },
  {
   "cell_type": "markdown",
   "metadata": {
    "pycharm": {
     "name": "#%% md\n"
    },
    "slideshow": {
     "slide_type": "subslide"
    }
   },
   "source": [
    "#### Basics\n",
    "\n",
    "* /R1/ `quit` \n",
    "Exit the interactive session (or resume execution until function return)\n",
    "\n",
    "* /R2/ `help` \n",
    "Prints all available commands and their description and arguments\n",
    "\n",
    "* /R3/ Missing or bad arguments should result in specific error messages."
   ]
  },
  {
   "cell_type": "markdown",
   "metadata": {
    "pycharm": {
     "name": "#%% md\n"
    },
    "slideshow": {
     "slide_type": "subslide"
    }
   },
   "source": [
    "#### Navigation Commands\n",
    "\n",
    "After each navigation command, the current line should be printed.\n",
    "* /R4/ `step` Step to the next executed line.\n",
    "Execute a program until it reaches the next executable statement.\n",
    "If the current line has a list comprehension statement, it should step into it, but remain at the current line (do not show `<listcomp>` source).\n",
    "If the current source line includes a function call, step into the called function and stop at the beginning of this function.\n",
    "\n",
    "* /R5/ `backstep` Step to the previous executed line.\n",
    "Execute a program until it reaches the previous executable statement.\n",
    "If the current line has a list comprehension statement, it should step into it, but remain at the current line.\n",
    "If the current source line includes a function call, step into the called function and stop at the last statement invoked in this function (usually a return statement)\n",
    "\n",
    "* /R6/ `next` Step over function calls going to the next line.\n",
    "Execute a program until it reaches the next source line. Any function calls (and list comprehension) in the current line should be executed without stopping.\n",
    "Starting from the last line of a function, this command should take you to its call site.\n",
    "\n",
    "* /R7/ `previous` Step over function calls going to the previous line.\n",
    "Execute a program until it reaches the previous source line.\n",
    "If the line contains a function call, it should be “un-executed” restoring previous values of global variables.\n",
    "Starting from the first line of a function, `previous` should take you back to the caller of that function, before the function was called.\n",
    "Hint: The difference between `step` and `next` is that `step` will go inside a called function, while `next` stops at the next line of the **current** function.\n",
    "\n",
    "* /R8/ `finish` Execute until return.\n",
    "Takes you forward to the point where the current function returns.  \n",
    "<span style=\"color:blue\">If finish is executed at the last line of a function, it should stay at that line and print it again.</span>\n",
    "\n",
    "* /R9/ `start` Execute backwards until a function start.\n",
    "Takes you backwards to the first instruction of the function.  \n",
    "<span style=\"color:blue\">If start is executed at the first line of a function, it should stay at that line and print it again.</span>\n",
    "\n",
    "* /R10/ Execute forwards until a certain point:\n",
    "    * /R100/ `until <line_number>`\n",
    "    Resume execution until a line greater than `<line_number>` is reached.\n",
    "    If `<line_number>` is not given, resume execution until a line greater than the current is reached. This is useful to avoid stepping through multiple loop iterations.\n",
    "    <span style=\"color:blue\">If 'line_number' is not given and</span> the execution jumps to another function, act as `next`\n",
    "    * /R101/ `until <filename>:<line_number>`\n",
    "    Execute a program forward until it reaches the line with the number `<line_number>` in the file `<filename>`.\n",
    "    * /R102/ `until <function_name>`\n",
    "    Execute a program forward until it reaches the line with a call to the function named `<function_name>` <span style=\"color:blue\">declared</span> in the current file.\n",
    "    * /R103/ `until <filename>:<function_name>`\n",
    "    Execute a program forward until it reaches the line with a call to the function named `<function_name>` <span style=\"color:blue\">declared</span> in the file `<filename>`.\n",
    "    * <span style=\"color:blue\">Expl: If the execution is already at the specified line/function, it should look for the next occurrence or run till the end.</span>\n",
    "* /R11/ Execute backwards until a certain point:\n",
    "    * /R110/ `backuntil <line_number>`\n",
    "    Resume execution backwards until a line lower than `<line_number>` in the current file is reached.\n",
    "    If `<line_number>` is not given, resume execution backwards until a line lower than the current is reached.\n",
    "    <span style=\"color:blue\">If 'line_number' is not given and</span> the execution jumps to another function, act as `previous`\n",
    "    * /R111/ `backuntil <filename>:<line_number>`\n",
    "    Execute a program backward until it reaches the line with the number `<line_number>` in the `<filename>`.\n",
    "    * /R112/ `backuntil <function_name>`\n",
    "    Execute a program backward until it reaches the line with a call to the function named `<function_name>` <span style=\"color:blue\">declared</span> in the current file.\n",
    "    * /R113/ `backuntil <filename>:<function_name>`\n",
    "    Execute a program backward until it reaches the line with a call to the function named `<function_name>` <span style=\"color:blue\">declared</span> in the `<filename>`.\n",
    "    * <span style=\"color:blue\">Expl: If the execution is already at the specified line/function, it should look for the next occurrence or run till the start.</span>\n",
    "\n",
    "* /R12/ `continue` Continue execution _forward_ until a breakpoint is hit, or the program finishes.  \n",
    "\n",
    "* /R13/ `reverse` Continue execution _backward_ until a breakpoint is hit, or the program starts.\n",
    "* <span style=\"color:red\">Hint: Ignore the command if the debugger reaches start/end of the execution and cannot go further. (Optionally: print an appropriate message.)</span>"
   ]
  },
  {
   "cell_type": "markdown",
   "metadata": {
    "pycharm": {
     "name": "#%% md\n"
    },
    "slideshow": {
     "slide_type": "subslide"
    }
   },
   "source": [
    "#### Call Stack\n",
    "\n",
    "* /R14/ Print call stack:\n",
    "    * /R141/ `where`\n",
    "    Print the whole call stack\n",
    "    * /R142/ `where <number>`\n",
    "    Print the `<number>` of leading and trailing lines from the call stack surrounding the current frame if any.\n",
    "\n",
    "* /R15/ Navigate the call stack\n",
    "    * `up` and `down`\n",
    "    Move up (and down) the call stack towards callers (and callees): print the code of the previous (next) frame and mark the currently executed line."
   ]
  },
  {
   "cell_type": "markdown",
   "metadata": {
    "pycharm": {
     "name": "#%% md\n"
    },
    "slideshow": {
     "slide_type": "subslide"
    }
   },
   "source": [
    "#### Inspecting Code and Variables\n",
    "\n",
    "* /R16/ Print the source code around the current line (with the current line marked)\n",
    "    * /R161/ `list`\n",
    "    Print 2 lines before and 2 lines after the current line\n",
    "    * /R162/ `list <number>`\n",
    "    Print `<number>` lines before and `<number>` lines after the current line\n",
    "    * /R163/ `list <above> <below>`\n",
    "    Print `<above>` lines before and `<below>` lines after the current line\n",
    "    * <span style=\"color:blue\">Expl: Lines are limited to the current function body</span>\n",
    "* /R17/ Inspect the value of a variable\n",
    "    * /R171/ `print`\n",
    "    Print values of _all_ local variables <span style=\"color:blue\">(including values of member variables)</span>\n",
    "    * /R172/ `print <var_name>`\n",
    "    Print the value of a variable with name `<var_name>`. If the variable `<var_name>` is not defined, print an error message.\n",
    "\n",
    "* /R18/ `print <expr>`\n",
    "    * Like `print <var_name>`, but allow for arbitrary Python expressions\n",
    "    * The code expression should be evaluated in the current environment of the code being debugged.\n",
    "    * Keep in mind that this requires to evaluate the expression during the interactive session, which may produce exceptions."
   ]
  },
  {
   "cell_type": "markdown",
   "metadata": {
    "slideshow": {
     "slide_type": "subslide"
    }
   },
   "source": [
    "#### Watchpoints"
   ]
  },
  {
   "cell_type": "markdown",
   "metadata": {
    "pycharm": {
     "name": "#%% md\n"
    },
    "slideshow": {
     "slide_type": "fragment"
    }
   },
   "source": [
    "* /R19/ Watchpoints:\n",
    "    * /R190/ `watch <var_name>` Creates a numbered watchpoint for the given variable: If its value changes after a navigation command, its value should be printed.\n",
    "    * /R191/ `watch`\n",
    "Show all watchpoints and associated variables.\n",
    "    * /R192/ `unwatch <watch_id>`\n",
    "Remove a watchpoint."
   ]
  },
  {
   "cell_type": "markdown",
   "metadata": {
    "pycharm": {
     "name": "#%% md\n"
    },
    "slideshow": {
     "slide_type": "subslide"
    }
   },
   "source": [
    "#### Breakpoints\n",
    "\n",
    "* /R20/ Breakpoints:\n",
    "    * /R201/ `break <line_number>`\n",
    "    Create a numbered breakpoint at line with number `<line_number>`\n",
    "    * /R202/ `break <function_name>`\n",
    "    Set a breakpoint which hits when a function with the name `<function_name>` is called (or returned in case of backward execution).\n",
    "    The execution should stop at the beginning (or the end) of the function.\n",
    "    * /R203/ `break <file_name>:<function_name>`\n",
    "    Set a breakpoint which hits when a function with the name `<function_name>` in file `<file_name>` is called (or returned in case of backward execution).\n",
    "    The execution should stop at the beginning (or the end) of the function.\n",
    "    * /R204/ `breakpoints`\n",
    "    Display all available breakpoints  \n",
    "    <span style=\"color:red\">Depending on the type of the breakpoint the output can be the following:</span>  \n",
    "    `breakpoint_id line file_name:line_number is_active`  \n",
    "    `breakpoint_id func file_name:func_name is_active`  \n",
    "    `breakpoint_id cond file_name:line_number is_active cond_expression`  \n",
    "    * /R205/ `delete <breakpoint_id>`\n",
    "    Delete a breakpoint with the index `<breakpoint_id>` from the list of breakpoints\n",
    "    * /R206/ `disable <breakpoint_id>`\n",
    "    Suspend a breakpoint with the index `<breakpoint_id>` from the list of breakpoints\n",
    "    * /R207/ `enable <breakpoint_id>`\n",
    "    Re-enable a breakpoint with the index `<breakpoint_id>` from the list of breakpoints\n",
    "    * /R208/ `cond <line> <condition>`. Conditional breakpoints.\n",
    "    Set a breakpoint at which the execution is stopped at line `<line>` if a condition `<condition>` is true.\n",
    "    A condition can include local variables (e.g., `tag == \"b\"` or `tag.startswith(b)`), but not function calls from a debugged program.\n",
    "    * **Hint: keep in mind that breakpoints may be set in different modules (files) and sometimes cannot be set (e.g., in for comment lines).**\n",
    "    * <span style=\"color:blue\">Expl: The execution should stop at each active breakpoint despite the command (until \\<line\\>, continue, etc.)</span>"
   ]
  },
  {
   "cell_type": "markdown",
   "metadata": {
    "pycharm": {
     "name": "#%% md\n"
    },
    "slideshow": {
     "slide_type": "subslide"
    }
   },
   "source": [
    "### May-Have Requirements (10 Points)\n",
    "\n",
    "Fulfilling these additional requirements gains extra points."
   ]
  },
  {
   "cell_type": "markdown",
   "metadata": {
    "pycharm": {
     "name": "#%% md\n"
    },
    "slideshow": {
     "slide_type": "subslide"
    }
   },
   "source": [
    "#### Extended Watchpoints\n",
    "\n",
    "* `watch <expression>`\n",
    "Like `watch <variable>`, but allow for arbitrary expressions."
   ]
  },
  {
   "cell_type": "markdown",
   "metadata": {
    "pycharm": {
     "name": "#%% md\n"
    },
    "slideshow": {
     "slide_type": "subslide"
    }
   },
   "source": [
    "#### Extended Breakpoints\n",
    "\n",
    "* `cond <line> <expression_code>` Conditional-breakpoints with complex expressions (see _conditional-breakpoints_ from **Must-haves** and _expression_)\n",
    "* `bpafter <breakpoint_id> <line_number>` Disable a breakpoint after hitting another specified breakpoint\n",
    "* `bpuntil <breakpoint_id> <line_number>` Disable a breakpoint until hitting another specified breakpoint\n",
    "* Step into my code: inspect function calls only if they are defined in modules located in the current folder\n",
    "* Inspect members of complex objects\n",
    "* `bpwrite <variable_name>` Write access breakpoints\n",
    "  A breakpoint hits each time a certain variable `<variable_name>` is changed\n",
    "* `alias <breakpoint_id> <breakpoint_name>` Create aliases for breakpoints (refer to a breakpoint by name instead of an index)  \n",
    "<span style=\"color:blue\">The 'breakpoints' command should then output breakpoint names instead of breakpoint ids when available</span>\n",
    "* Support for inline breakpoints (e.g., for lambda functions, list comprehension) if a line contains multiple statements such as `filter(lambda x: x % 2 == 0, [x**2 for x in range(10)])`"
   ]
  },
  {
   "cell_type": "markdown",
   "metadata": {
    "pycharm": {
     "name": "#%% md\n"
    },
    "slideshow": {
     "slide_type": "subslide"
    }
   },
   "source": [
    "#### More Features\n",
    "\n",
    "* Watch I/O interaction\n",
    "* Stand-alone command line debugger, which can be used outside Jupyter notebooks\n",
    "* Some other cool feature of your own design"
   ]
  },
  {
   "cell_type": "markdown",
   "metadata": {
    "slideshow": {
     "slide_type": "subslide"
    }
   },
   "source": [
    "### Assessing Requirements\n",
    "\n",
    "Your command line debugger will be evaluated by _well-documented functionality_ as listed above.\n",
    "\n",
    "A \"well-documented\" functionality has readable code whose effect is illustrated by at least one example in the notebook.\n",
    "\n",
    "The functionality itself will be validated by a set of _tests_ consisting of a series of commands with expected results. Here is an example of how to run your debugger with predefined commands; you can also use this in your notebook to demonstrate features."
   ]
  },
  {
   "cell_type": "code",
   "execution_count": 1,
   "metadata": {
    "execution": {
     "iopub.execute_input": "2025-10-26T18:04:28.343358Z",
     "iopub.status.busy": "2025-10-26T18:04:28.343200Z",
     "iopub.status.idle": "2025-10-26T18:04:29.181961Z",
     "shell.execute_reply": "2025-10-26T18:04:29.179796Z"
    },
    "slideshow": {
     "slide_type": "skip"
    }
   },
   "outputs": [],
   "source": [
    "import bookutils.setup"
   ]
  },
  {
   "cell_type": "code",
   "execution_count": 2,
   "metadata": {
    "execution": {
     "iopub.execute_input": "2025-10-26T18:04:29.184584Z",
     "iopub.status.busy": "2025-10-26T18:04:29.184456Z",
     "iopub.status.idle": "2025-10-26T18:04:29.187325Z",
     "shell.execute_reply": "2025-10-26T18:04:29.186714Z"
    },
    "pycharm": {
     "name": "#%%\n"
    },
    "slideshow": {
     "slide_type": "subslide"
    }
   },
   "outputs": [],
   "source": [
    "def remove_html_markup(s):  # type: ignore\n",
    "    tag = False\n",
    "    quote = False\n",
    "    out = \"\"\n",
    "\n",
    "    for c in s:\n",
    "        if c == '<' and not quote:\n",
    "            tag = True\n",
    "        elif c == '>' and not quote:\n",
    "            tag = False\n",
    "        elif c == '\"' or c == \"'\" and tag:\n",
    "            quote = not quote\n",
    "        elif not tag:\n",
    "            out = out + c\n",
    "\n",
    "    return out"
   ]
  },
  {
   "cell_type": "code",
   "execution_count": 3,
   "metadata": {
    "execution": {
     "iopub.execute_input": "2025-10-26T18:04:29.189915Z",
     "iopub.status.busy": "2025-10-26T18:04:29.189791Z",
     "iopub.status.idle": "2025-10-26T18:04:29.300461Z",
     "shell.execute_reply": "2025-10-26T18:04:29.297320Z"
    },
    "slideshow": {
     "slide_type": "skip"
    }
   },
   "outputs": [],
   "source": [
    "from Debugger import Debugger\n",
    "from bookutils import next_inputs"
   ]
  },
  {
   "cell_type": "code",
   "execution_count": 4,
   "metadata": {
    "execution": {
     "iopub.execute_input": "2025-10-26T18:04:29.306895Z",
     "iopub.status.busy": "2025-10-26T18:04:29.306470Z",
     "iopub.status.idle": "2025-10-26T18:04:29.320046Z",
     "shell.execute_reply": "2025-10-26T18:04:29.316849Z"
    },
    "pycharm": {
     "name": "#%%\n"
    },
    "slideshow": {
     "slide_type": "subslide"
    }
   },
   "outputs": [],
   "source": [
    "class TimeTravelDebugger(Debugger):\n",
    "    pass"
   ]
  },
  {
   "cell_type": "code",
   "execution_count": 5,
   "metadata": {
    "execution": {
     "iopub.execute_input": "2025-10-26T18:04:29.328133Z",
     "iopub.status.busy": "2025-10-26T18:04:29.327818Z",
     "iopub.status.idle": "2025-10-26T18:04:29.340272Z",
     "shell.execute_reply": "2025-10-26T18:04:29.337947Z"
    },
    "slideshow": {
     "slide_type": "fragment"
    }
   },
   "outputs": [
    {
     "data": {
      "text/plain": [
       "['step', 'step', 'step', 'print s', 'continue']"
      ]
     },
     "execution_count": 5,
     "metadata": {},
     "output_type": "execute_result"
    }
   ],
   "source": [
    "next_inputs([\"step\", \"step\", \"step\", \"print s\", \"continue\"])"
   ]
  },
  {
   "cell_type": "code",
   "execution_count": 6,
   "metadata": {
    "execution": {
     "iopub.execute_input": "2025-10-26T18:04:29.393939Z",
     "iopub.status.busy": "2025-10-26T18:04:29.388846Z",
     "iopub.status.idle": "2025-10-26T18:04:29.461889Z",
     "shell.execute_reply": "2025-10-26T18:04:29.461574Z"
    },
    "pycharm": {
     "name": "#%%\n"
    },
    "slideshow": {
     "slide_type": "subslide"
    }
   },
   "outputs": [
    {
     "name": "stdout",
     "output_type": "stream",
     "text": [
      "Calling remove_html_markup(s = 'foo')\n"
     ]
    },
    {
     "data": {
      "text/html": [
       "<samp>(debugger) <b>step</b></samp>"
      ],
      "text/plain": [
       "<IPython.core.display.HTML object>"
      ]
     },
     "metadata": {},
     "output_type": "display_data"
    },
    {
     "name": "stdout",
     "output_type": "stream",
     "text": [
      "2     tag = False\n"
     ]
    },
    {
     "data": {
      "text/html": [
       "<samp>(debugger) <b>step</b></samp>"
      ],
      "text/plain": [
       "<IPython.core.display.HTML object>"
      ]
     },
     "metadata": {},
     "output_type": "display_data"
    },
    {
     "name": "stdout",
     "output_type": "stream",
     "text": [
      "                                         # tag = False\n"
     ]
    },
    {
     "name": "stdout",
     "output_type": "stream",
     "text": [
      "3     quote = False\n"
     ]
    },
    {
     "data": {
      "text/html": [
       "<samp>(debugger) <b>step</b></samp>"
      ],
      "text/plain": [
       "<IPython.core.display.HTML object>"
      ]
     },
     "metadata": {},
     "output_type": "display_data"
    },
    {
     "name": "stdout",
     "output_type": "stream",
     "text": [
      "                                         # quote = False\n"
     ]
    },
    {
     "name": "stdout",
     "output_type": "stream",
     "text": [
      "4     out = \"\"\n"
     ]
    },
    {
     "data": {
      "text/html": [
       "<samp>(debugger) <b>print s</b></samp>"
      ],
      "text/plain": [
       "<IPython.core.display.HTML object>"
      ]
     },
     "metadata": {},
     "output_type": "display_data"
    },
    {
     "name": "stdout",
     "output_type": "stream",
     "text": [
      "s = 'foo'\n"
     ]
    },
    {
     "data": {
      "text/html": [
       "<samp>(debugger) <b>continue</b></samp>"
      ],
      "text/plain": [
       "<IPython.core.display.HTML object>"
      ]
     },
     "metadata": {},
     "output_type": "display_data"
    }
   ],
   "source": [
    "with TimeTravelDebugger():\n",
    "    remove_html_markup(\"foo\")"
   ]
  },
  {
   "cell_type": "markdown",
   "metadata": {
    "pycharm": {
     "name": "#%% md\n"
    },
    "slideshow": {
     "slide_type": "subslide"
    }
   },
   "source": [
    "### Example Interaction\n",
    "\n",
    "In this section, we give you some sample interactions."
   ]
  },
  {
   "cell_type": "code",
   "execution_count": 7,
   "metadata": {
    "execution": {
     "iopub.execute_input": "2025-10-26T18:04:29.464136Z",
     "iopub.status.busy": "2025-10-26T18:04:29.464017Z",
     "iopub.status.idle": "2025-10-26T18:04:29.467148Z",
     "shell.execute_reply": "2025-10-26T18:04:29.466750Z"
    },
    "slideshow": {
     "slide_type": "fragment"
    }
   },
   "outputs": [
    {
     "data": {
      "text/plain": [
       "['break 8', 'break 16', 'step', 'continue', 'print c', 'continue', 'quit']"
      ]
     },
     "execution_count": 7,
     "metadata": {},
     "output_type": "execute_result"
    }
   ],
   "source": [
    "next_inputs([\"break 8\", \"break 16\", \"step\", \"continue\", \"print c\", \"continue\", \"quit\"])"
   ]
  },
  {
   "cell_type": "code",
   "execution_count": 8,
   "metadata": {
    "execution": {
     "iopub.execute_input": "2025-10-26T18:04:29.469136Z",
     "iopub.status.busy": "2025-10-26T18:04:29.469033Z",
     "iopub.status.idle": "2025-10-26T18:04:29.484291Z",
     "shell.execute_reply": "2025-10-26T18:04:29.483821Z"
    },
    "slideshow": {
     "slide_type": "subslide"
    }
   },
   "outputs": [
    {
     "name": "stdout",
     "output_type": "stream",
     "text": [
      "Calling remove_html_markup(s = 'foo')\n"
     ]
    },
    {
     "data": {
      "text/html": [
       "<samp>(debugger) <b>break 8</b></samp>"
      ],
      "text/plain": [
       "<IPython.core.display.HTML object>"
      ]
     },
     "metadata": {},
     "output_type": "display_data"
    },
    {
     "name": "stdout",
     "output_type": "stream",
     "text": [
      "Breakpoints: {8}\n"
     ]
    },
    {
     "data": {
      "text/html": [
       "<samp>(debugger) <b>break 16</b></samp>"
      ],
      "text/plain": [
       "<IPython.core.display.HTML object>"
      ]
     },
     "metadata": {},
     "output_type": "display_data"
    },
    {
     "name": "stdout",
     "output_type": "stream",
     "text": [
      "Breakpoints: {8, 16}\n"
     ]
    },
    {
     "data": {
      "text/html": [
       "<samp>(debugger) <b>step</b></samp>"
      ],
      "text/plain": [
       "<IPython.core.display.HTML object>"
      ]
     },
     "metadata": {},
     "output_type": "display_data"
    },
    {
     "name": "stdout",
     "output_type": "stream",
     "text": [
      "2     tag = False\n"
     ]
    },
    {
     "data": {
      "text/html": [
       "<samp>(debugger) <b>continue</b></samp>"
      ],
      "text/plain": [
       "<IPython.core.display.HTML object>"
      ]
     },
     "metadata": {},
     "output_type": "display_data"
    },
    {
     "name": "stdout",
     "output_type": "stream",
     "text": [
      "                                         # tag = False, quote = False, out = 'foo', c = 'o'\n"
     ]
    },
    {
     "name": "stdout",
     "output_type": "stream",
     "text": [
      "16     return out\n"
     ]
    },
    {
     "data": {
      "text/html": [
       "<samp>(debugger) <b>print c</b></samp>"
      ],
      "text/plain": [
       "<IPython.core.display.HTML object>"
      ]
     },
     "metadata": {},
     "output_type": "display_data"
    },
    {
     "name": "stdout",
     "output_type": "stream",
     "text": [
      "c = 'o'\n"
     ]
    },
    {
     "data": {
      "text/html": [
       "<samp>(debugger) <b>continue</b></samp>"
      ],
      "text/plain": [
       "<IPython.core.display.HTML object>"
      ]
     },
     "metadata": {},
     "output_type": "display_data"
    },
    {
     "name": "stdout",
     "output_type": "stream",
     "text": [
      "remove_html_markup() returns 'foo'\n"
     ]
    },
    {
     "data": {
      "text/html": [
       "<samp>(debugger) <b>quit</b></samp>"
      ],
      "text/plain": [
       "<IPython.core.display.HTML object>"
      ]
     },
     "metadata": {},
     "output_type": "display_data"
    }
   ],
   "source": [
    "with TimeTravelDebugger():\n",
    "    remove_html_markup(\"foo\")"
   ]
  },
  {
   "cell_type": "code",
   "execution_count": 9,
   "metadata": {
    "execution": {
     "iopub.execute_input": "2025-10-26T18:04:29.497020Z",
     "iopub.status.busy": "2025-10-26T18:04:29.493032Z",
     "iopub.status.idle": "2025-10-26T18:04:29.515641Z",
     "shell.execute_reply": "2025-10-26T18:04:29.514854Z"
    },
    "slideshow": {
     "slide_type": "subslide"
    }
   },
   "outputs": [
    {
     "data": {
      "text/plain": [
       "['break 6',\n",
       " 'watch out',\n",
       " 'continue',\n",
       " 'continue',\n",
       " 'continue',\n",
       " 'continue',\n",
       " 'continue']"
      ]
     },
     "execution_count": 9,
     "metadata": {},
     "output_type": "execute_result"
    }
   ],
   "source": [
    "next_inputs([\"break 6\", \"watch out\", \"continue\", \"continue\", \"continue\", \"continue\", \"continue\"])"
   ]
  },
  {
   "cell_type": "code",
   "execution_count": 10,
   "metadata": {
    "execution": {
     "iopub.execute_input": "2025-10-26T18:04:29.530116Z",
     "iopub.status.busy": "2025-10-26T18:04:29.528424Z",
     "iopub.status.idle": "2025-10-26T18:04:29.620033Z",
     "shell.execute_reply": "2025-10-26T18:04:29.615236Z"
    },
    "slideshow": {
     "slide_type": "subslide"
    }
   },
   "outputs": [
    {
     "name": "stdout",
     "output_type": "stream",
     "text": [
      "Calling remove_html_markup(s = 'foo')\n"
     ]
    },
    {
     "data": {
      "text/html": [
       "<samp>(debugger) <b>break 6</b></samp>"
      ],
      "text/plain": [
       "<IPython.core.display.HTML object>"
      ]
     },
     "metadata": {},
     "output_type": "display_data"
    },
    {
     "name": "stdout",
     "output_type": "stream",
     "text": [
      "Breakpoints: {6}\n"
     ]
    },
    {
     "data": {
      "text/html": [
       "<samp>(debugger) <b>watch out</b></samp>"
      ],
      "text/plain": [
       "<IPython.core.display.HTML object>"
      ]
     },
     "metadata": {},
     "output_type": "display_data"
    },
    {
     "name": "stdout",
     "output_type": "stream",
     "text": [
      "Unknown command 'watch'. Possible commands are:\n"
     ]
    },
    {
     "name": "stdout",
     "output_type": "stream",
     "text": [
      "assign     -- Use as 'assign VAR=VALUE'. Assign VALUE to local variable VAR.\n"
     ]
    },
    {
     "name": "stdout",
     "output_type": "stream",
     "text": [
      "break      -- Set a breakpoint in given line. If no line is given, list all breakpoints\n"
     ]
    },
    {
     "name": "stdout",
     "output_type": "stream",
     "text": [
      "continue   -- Resume execution\n"
     ]
    },
    {
     "name": "stdout",
     "output_type": "stream",
     "text": [
      "delete     -- Delete breakpoint in line given by `arg`.\n",
      "Without given line, clear all breakpoints\n"
     ]
    },
    {
     "name": "stdout",
     "output_type": "stream",
     "text": [
      "help       -- Give help on given `command`. If no command is given, give help on all\n"
     ]
    },
    {
     "name": "stdout",
     "output_type": "stream",
     "text": [
      "list       -- Show current function. If `arg` is given, show its source code.\n"
     ]
    },
    {
     "name": "stdout",
     "output_type": "stream",
     "text": [
      "print      -- Print an expression. If no expression is given, print all variables\n"
     ]
    },
    {
     "name": "stdout",
     "output_type": "stream",
     "text": [
      "quit       -- Finish execution\n"
     ]
    },
    {
     "name": "stdout",
     "output_type": "stream",
     "text": [
      "step       -- Execute up to the next line\n"
     ]
    },
    {
     "data": {
      "text/html": [
       "<samp>(debugger) <b>continue</b></samp>"
      ],
      "text/plain": [
       "<IPython.core.display.HTML object>"
      ]
     },
     "metadata": {},
     "output_type": "display_data"
    },
    {
     "name": "stdout",
     "output_type": "stream",
     "text": [
      "                                         # tag = False, quote = False, out = ''\n"
     ]
    },
    {
     "name": "stdout",
     "output_type": "stream",
     "text": [
      "6     for c in s:\n"
     ]
    },
    {
     "data": {
      "text/html": [
       "<samp>(debugger) <b>continue</b></samp>"
      ],
      "text/plain": [
       "<IPython.core.display.HTML object>"
      ]
     },
     "metadata": {},
     "output_type": "display_data"
    },
    {
     "name": "stdout",
     "output_type": "stream",
     "text": [
      "                                         # out = 'f', c = 'f'\n"
     ]
    },
    {
     "name": "stdout",
     "output_type": "stream",
     "text": [
      "6     for c in s:\n"
     ]
    },
    {
     "data": {
      "text/html": [
       "<samp>(debugger) <b>continue</b></samp>"
      ],
      "text/plain": [
       "<IPython.core.display.HTML object>"
      ]
     },
     "metadata": {},
     "output_type": "display_data"
    },
    {
     "name": "stdout",
     "output_type": "stream",
     "text": [
      "                                         # out = 'fo', c = 'o'\n"
     ]
    },
    {
     "name": "stdout",
     "output_type": "stream",
     "text": [
      "6     for c in s:\n"
     ]
    },
    {
     "data": {
      "text/html": [
       "<samp>(debugger) <b>continue</b></samp>"
      ],
      "text/plain": [
       "<IPython.core.display.HTML object>"
      ]
     },
     "metadata": {},
     "output_type": "display_data"
    },
    {
     "name": "stdout",
     "output_type": "stream",
     "text": [
      "                                         # out = 'foo'\n"
     ]
    },
    {
     "name": "stdout",
     "output_type": "stream",
     "text": [
      "6     for c in s:\n"
     ]
    },
    {
     "data": {
      "text/html": [
       "<samp>(debugger) <b>continue</b></samp>"
      ],
      "text/plain": [
       "<IPython.core.display.HTML object>"
      ]
     },
     "metadata": {},
     "output_type": "display_data"
    }
   ],
   "source": [
    "with TimeTravelDebugger():\n",
    "    remove_html_markup(\"foo\")"
   ]
  },
  {
   "cell_type": "code",
   "execution_count": 11,
   "metadata": {
    "execution": {
     "iopub.execute_input": "2025-10-26T18:04:29.627341Z",
     "iopub.status.busy": "2025-10-26T18:04:29.626928Z",
     "iopub.status.idle": "2025-10-26T18:04:29.635726Z",
     "shell.execute_reply": "2025-10-26T18:04:29.634088Z"
    },
    "slideshow": {
     "slide_type": "subslide"
    }
   },
   "outputs": [
    {
     "data": {
      "text/plain": [
       "['break 16', 'watch out', 'continue', 'start', 'continue', 'continue']"
      ]
     },
     "execution_count": 11,
     "metadata": {},
     "output_type": "execute_result"
    }
   ],
   "source": [
    "next_inputs([\"break 16\", \"watch out\", \"continue\", \"start\", \"continue\", \"continue\"])"
   ]
  },
  {
   "cell_type": "code",
   "execution_count": 12,
   "metadata": {
    "execution": {
     "iopub.execute_input": "2025-10-26T18:04:29.640365Z",
     "iopub.status.busy": "2025-10-26T18:04:29.640240Z",
     "iopub.status.idle": "2025-10-26T18:04:29.780599Z",
     "shell.execute_reply": "2025-10-26T18:04:29.778311Z"
    },
    "slideshow": {
     "slide_type": "subslide"
    }
   },
   "outputs": [
    {
     "name": "stdout",
     "output_type": "stream",
     "text": [
      "Calling remove_html_markup(s = 'foo')\n"
     ]
    },
    {
     "data": {
      "text/html": [
       "<samp>(debugger) <b>break 16</b></samp>"
      ],
      "text/plain": [
       "<IPython.core.display.HTML object>"
      ]
     },
     "metadata": {},
     "output_type": "display_data"
    },
    {
     "name": "stdout",
     "output_type": "stream",
     "text": [
      "Breakpoints: {16}\n"
     ]
    },
    {
     "data": {
      "text/html": [
       "<samp>(debugger) <b>watch out</b></samp>"
      ],
      "text/plain": [
       "<IPython.core.display.HTML object>"
      ]
     },
     "metadata": {},
     "output_type": "display_data"
    },
    {
     "name": "stdout",
     "output_type": "stream",
     "text": [
      "Unknown command 'watch'. Possible commands are:\n"
     ]
    },
    {
     "name": "stdout",
     "output_type": "stream",
     "text": [
      "assign     -- Use as 'assign VAR=VALUE'. Assign VALUE to local variable VAR.\n"
     ]
    },
    {
     "name": "stdout",
     "output_type": "stream",
     "text": [
      "break      -- Set a breakpoint in given line. If no line is given, list all breakpoints\n"
     ]
    },
    {
     "name": "stdout",
     "output_type": "stream",
     "text": [
      "continue   -- Resume execution\n"
     ]
    },
    {
     "name": "stdout",
     "output_type": "stream",
     "text": [
      "delete     -- Delete breakpoint in line given by `arg`.\n",
      "Without given line, clear all breakpoints"
     ]
    },
    {
     "name": "stdout",
     "output_type": "stream",
     "text": [
      "\n"
     ]
    },
    {
     "name": "stdout",
     "output_type": "stream",
     "text": [
      "help       -- Give help on given `command`. If no command is given, give help on all\n"
     ]
    },
    {
     "name": "stdout",
     "output_type": "stream",
     "text": [
      "list       -- Show current function. If `arg` is given, show its source code.\n"
     ]
    },
    {
     "name": "stdout",
     "output_type": "stream",
     "text": [
      "print      -- Print an expression. If no expression is given, print all variables\n"
     ]
    },
    {
     "name": "stdout",
     "output_type": "stream",
     "text": [
      "quit       -- Finish execution\n"
     ]
    },
    {
     "name": "stdout",
     "output_type": "stream",
     "text": [
      "step       -- Execute up to the next line\n"
     ]
    },
    {
     "data": {
      "text/html": [
       "<samp>(debugger) <b>continue</b></samp>"
      ],
      "text/plain": [
       "<IPython.core.display.HTML object>"
      ]
     },
     "metadata": {},
     "output_type": "display_data"
    },
    {
     "name": "stdout",
     "output_type": "stream",
     "text": [
      "                                         # tag = False, quote = False, out = 'foo', c = 'o'\n"
     ]
    },
    {
     "name": "stdout",
     "output_type": "stream",
     "text": [
      "16     return out\n"
     ]
    },
    {
     "data": {
      "text/html": [
       "<samp>(debugger) <b>start</b></samp>"
      ],
      "text/plain": [
       "<IPython.core.display.HTML object>"
      ]
     },
     "metadata": {},
     "output_type": "display_data"
    },
    {
     "name": "stdout",
     "output_type": "stream",
     "text": [
      "Unknown command 'start'. Possible commands are:\n"
     ]
    },
    {
     "name": "stdout",
     "output_type": "stream",
     "text": [
      "assign     -- Use as 'assign VAR=VALUE'. Assign VALUE to local variable VAR.\n"
     ]
    },
    {
     "name": "stdout",
     "output_type": "stream",
     "text": [
      "break      -- Set a breakpoint in given line. If no line is given, list all breakpoints\n"
     ]
    },
    {
     "name": "stdout",
     "output_type": "stream",
     "text": [
      "continue   -- Resume execution"
     ]
    },
    {
     "name": "stdout",
     "output_type": "stream",
     "text": [
      "\n"
     ]
    },
    {
     "name": "stdout",
     "output_type": "stream",
     "text": [
      "delete     -- Delete breakpoint in line given by `arg`.\n",
      "Without given line, clear all breakpoints\n"
     ]
    },
    {
     "name": "stdout",
     "output_type": "stream",
     "text": [
      "help       -- Give help on given `command`. If no command is given, give help on all\n"
     ]
    },
    {
     "name": "stdout",
     "output_type": "stream",
     "text": [
      "list       -- Show current function. If `arg` is given, show its source code."
     ]
    },
    {
     "name": "stdout",
     "output_type": "stream",
     "text": [
      "\n"
     ]
    },
    {
     "name": "stdout",
     "output_type": "stream",
     "text": [
      "print      -- Print an expression. If no expression is given, print all variables\n"
     ]
    },
    {
     "name": "stdout",
     "output_type": "stream",
     "text": [
      "quit       -- Finish execution\n"
     ]
    },
    {
     "name": "stdout",
     "output_type": "stream",
     "text": [
      "step       -- Execute up to the next line\n"
     ]
    },
    {
     "data": {
      "text/html": [
       "<samp>(debugger) <b>continue</b></samp>"
      ],
      "text/plain": [
       "<IPython.core.display.HTML object>"
      ]
     },
     "metadata": {},
     "output_type": "display_data"
    },
    {
     "name": "stdout",
     "output_type": "stream",
     "text": [
      "remove_html_markup() returns 'foo'\n"
     ]
    },
    {
     "data": {
      "text/html": [
       "<samp>(debugger) <b>continue</b></samp>"
      ],
      "text/plain": [
       "<IPython.core.display.HTML object>"
      ]
     },
     "metadata": {},
     "output_type": "display_data"
    }
   ],
   "source": [
    "with TimeTravelDebugger():\n",
    "    remove_html_markup(\"foo\")"
   ]
  },
  {
   "cell_type": "code",
   "execution_count": 13,
   "metadata": {
    "execution": {
     "iopub.execute_input": "2025-10-26T18:04:29.792293Z",
     "iopub.status.busy": "2025-10-26T18:04:29.788638Z",
     "iopub.status.idle": "2025-10-26T18:04:29.826318Z",
     "shell.execute_reply": "2025-10-26T18:04:29.823430Z"
    },
    "slideshow": {
     "slide_type": "subslide"
    }
   },
   "outputs": [
    {
     "data": {
      "text/plain": [
       "['until 16', 'print out', 'continue', 'quit']"
      ]
     },
     "execution_count": 13,
     "metadata": {},
     "output_type": "execute_result"
    }
   ],
   "source": [
    "next_inputs([\"until 16\", \"print out\", \"continue\", \"quit\"])"
   ]
  },
  {
   "cell_type": "code",
   "execution_count": 14,
   "metadata": {
    "execution": {
     "iopub.execute_input": "2025-10-26T18:04:29.828855Z",
     "iopub.status.busy": "2025-10-26T18:04:29.828712Z",
     "iopub.status.idle": "2025-10-26T18:04:29.841231Z",
     "shell.execute_reply": "2025-10-26T18:04:29.840373Z"
    },
    "slideshow": {
     "slide_type": "subslide"
    }
   },
   "outputs": [
    {
     "name": "stdout",
     "output_type": "stream",
     "text": [
      "Calling remove_html_markup(s = 'foo')\n"
     ]
    },
    {
     "data": {
      "text/html": [
       "<samp>(debugger) <b>until 16</b></samp>"
      ],
      "text/plain": [
       "<IPython.core.display.HTML object>"
      ]
     },
     "metadata": {},
     "output_type": "display_data"
    },
    {
     "name": "stdout",
     "output_type": "stream",
     "text": [
      "Unknown command 'until'. Possible commands are:\n"
     ]
    },
    {
     "name": "stdout",
     "output_type": "stream",
     "text": [
      "assign     -- Use as 'assign VAR=VALUE'. Assign VALUE to local variable VAR.\n"
     ]
    },
    {
     "name": "stdout",
     "output_type": "stream",
     "text": [
      "break      -- Set a breakpoint in given line. If no line is given, list all breakpoints\n"
     ]
    },
    {
     "name": "stdout",
     "output_type": "stream",
     "text": [
      "continue   -- Resume execution\n"
     ]
    },
    {
     "name": "stdout",
     "output_type": "stream",
     "text": [
      "delete     -- Delete breakpoint in line given by `arg`.\n",
      "Without given line, clear all breakpoints\n"
     ]
    },
    {
     "name": "stdout",
     "output_type": "stream",
     "text": [
      "help       -- Give help on given `command`. If no command is given, give help on all\n"
     ]
    },
    {
     "name": "stdout",
     "output_type": "stream",
     "text": [
      "list       -- Show current function. If `arg` is given, show its source code.\n"
     ]
    },
    {
     "name": "stdout",
     "output_type": "stream",
     "text": [
      "print      -- Print an expression. If no expression is given, print all variables\n"
     ]
    },
    {
     "name": "stdout",
     "output_type": "stream",
     "text": [
      "quit       -- Finish execution\n"
     ]
    },
    {
     "name": "stdout",
     "output_type": "stream",
     "text": [
      "step       -- Execute up to the next line\n"
     ]
    },
    {
     "data": {
      "text/html": [
       "<samp>(debugger) <b>print out</b></samp>"
      ],
      "text/plain": [
       "<IPython.core.display.HTML object>"
      ]
     },
     "metadata": {},
     "output_type": "display_data"
    },
    {
     "name": "stdout",
     "output_type": "stream",
     "text": [
      "NameError: name 'out' is not defined\n"
     ]
    },
    {
     "data": {
      "text/html": [
       "<samp>(debugger) <b>continue</b></samp>"
      ],
      "text/plain": [
       "<IPython.core.display.HTML object>"
      ]
     },
     "metadata": {},
     "output_type": "display_data"
    }
   ],
   "source": [
    "with TimeTravelDebugger():\n",
    "    remove_html_markup(\"foo\")"
   ]
  },
  {
   "cell_type": "code",
   "execution_count": 15,
   "metadata": {
    "execution": {
     "iopub.execute_input": "2025-10-26T18:04:29.845722Z",
     "iopub.status.busy": "2025-10-26T18:04:29.845523Z",
     "iopub.status.idle": "2025-10-26T18:04:29.848530Z",
     "shell.execute_reply": "2025-10-26T18:04:29.847973Z"
    },
    "slideshow": {
     "slide_type": "subslide"
    }
   },
   "outputs": [
    {
     "data": {
      "text/plain": [
       "['quit',\n",
       " 'break 6',\n",
       " 'watch out',\n",
       " 'continue',\n",
       " 'where',\n",
       " 'up',\n",
       " 'list',\n",
       " 'delete 0',\n",
       " 'continue',\n",
       " 'quit']"
      ]
     },
     "execution_count": 15,
     "metadata": {},
     "output_type": "execute_result"
    }
   ],
   "source": [
    "next_inputs([\"break 6\", \"watch out\", \"continue\", \"where\", \"up\", \"list\", \"delete 0\", \"continue\", \"quit\"])"
   ]
  },
  {
   "cell_type": "code",
   "execution_count": 16,
   "metadata": {
    "execution": {
     "iopub.execute_input": "2025-10-26T18:04:29.850746Z",
     "iopub.status.busy": "2025-10-26T18:04:29.850646Z",
     "iopub.status.idle": "2025-10-26T18:04:29.855851Z",
     "shell.execute_reply": "2025-10-26T18:04:29.855179Z"
    },
    "slideshow": {
     "slide_type": "subslide"
    }
   },
   "outputs": [
    {
     "name": "stdout",
     "output_type": "stream",
     "text": [
      "Calling remove_html_markup(s = 'foo')\n"
     ]
    },
    {
     "data": {
      "text/html": [
       "<samp>(debugger) <b>quit</b></samp>"
      ],
      "text/plain": [
       "<IPython.core.display.HTML object>"
      ]
     },
     "metadata": {},
     "output_type": "display_data"
    }
   ],
   "source": [
    "with TimeTravelDebugger():\n",
    "    remove_html_markup(\"foo\")"
   ]
  },
  {
   "cell_type": "markdown",
   "metadata": {
    "pycharm": {
     "name": "#%% md\n"
    },
    "slideshow": {
     "slide_type": "slide"
    }
   },
   "source": [
    "## Part 2: GUI-Based Debugger\n",
    "\n",
    "If you work as a **team of two**, this is the part you will _also_ have to build.\n",
    "\n",
    "To create a GUI in Jupyter notebooks, one can follow two paths:\n",
    "\n",
    "1. Use embeddings of plain HTML/JS into the notebook (see Exercise 3 in the [chapter on interactive debuggers](Debugger.ipynb). This has the advantage of not requiring Python in the final result; your time travel debugger can execute in any browser. You may follow this path if you already have experience with Web design and programming.\n",
    "2. Use [Jupyter widgets](https://ipywidgets.readthedocs.io/en/stable/index.html) to create a user interface. This has the advantage that you can use Python all along the way. Your debugger, however, can only be run in the notebook; not in, say, a Web page.\n",
    "\n",
    "Your GUI-based time travel debugger should implement similar features as the command line debugger, but its functionality should be accessible via a graphical user interface (instead of typing in the commands).\n",
    "\n",
    "For instance, a user may be able to step backward by clicking a ◀ button, or set a breakpoint by clicking on a line in the code view.\n",
    "\n",
    "The \"Presentation\" section should include a video/YouTube (up to 1 min each) embedded in Jupyter Notebook, which shows a demo of each implemented feature."
   ]
  },
  {
   "cell_type": "markdown",
   "metadata": {
    "pycharm": {
     "name": "#%% md\n"
    },
    "slideshow": {
     "slide_type": "subslide"
    }
   },
   "source": [
    "### Must-Have Requirements (20 Points):\n",
    "\n",
    "Note that your GUI need not implement _all_ features of your command-line debugger; _ease of use_ and _discoverability_ have priority. Choose wisely!"
   ]
  },
  {
   "cell_type": "markdown",
   "metadata": {
    "pycharm": {
     "name": "#%% md\n"
    },
    "slideshow": {
     "slide_type": "subslide"
    }
   },
   "source": [
    "* The GUI-based debugger should allow inspecting and navigating through\n",
    "\n",
    "    * /R31/ The source code currently being executed, where the current line and breakpoints are highlighted.\n",
    "    * /R32/ Users should be able to scroll through the code of the current module.\n",
    "    * /R33/ Variables.\n",
    "    * /R34/ The list of watchpoints (if any).\n",
    "    * /R35/ The call stack.\n",
    "    * /R36/ The list of breakpoints (if any).\n",
    "\n",
    "* The debugger should provide the following controls:\n",
    "    * /R37/ An interactive timeline (e.g., a slider) which allows moving along the execution back and forth.\n",
    "    * /R38/ Automatic execution replay (forward and backward) at various speed\n",
    "    * /R39/ Search for specific events in the timeline (a breakpoint hit, a variable changed etc.)\n",
    "    * /R40/ Search results should be selectable by the user, moving the timeline to the associated event"
   ]
  },
  {
   "cell_type": "markdown",
   "metadata": {
    "pycharm": {
     "name": "#%% md\n"
    },
    "slideshow": {
     "slide_type": "subslide"
    }
   },
   "source": [
    "Here is a demo of how a basic GUI may look like:\n",
    "\n",
    "![Demo](PICS/timetravel_debugger_gui_demo.gif)"
   ]
  },
  {
   "cell_type": "markdown",
   "metadata": {
    "pycharm": {
     "name": "#%% md\n"
    },
    "slideshow": {
     "slide_type": "subslide"
    }
   },
   "source": [
    "### May-Have Requirements (10 Points):\n",
    "\n",
    "Fulfilling these additional requirements gains extra points.\n",
    "\n",
    "* Syntax-highlight the source code\n",
    "* Show values of the variables in the source code.\n",
    "* Show events (e.g., breakpoints) on the timeline.\n",
    "* Visualize and explore data structures.\n",
    "* Produce an interactive session which can be run uniquely with HTML + JavaScript, such that Python is not required (excludes the evaluation of expressions) (worth up to 10 points).\n",
    "* Implement the debugger as a [custom Jupyter widget](https://ipywidgets.readthedocs.io/en/stable/examples/Widget%20Custom.html) (worth up to 10 points).\n",
    "* Some other cool feature of your design."
   ]
  },
  {
   "cell_type": "markdown",
   "metadata": {
    "slideshow": {
     "slide_type": "subslide"
    }
   },
   "source": [
    "### Assessing Requirements\n",
    "\n",
    "Your interactive debugger will be evaluated for _well-documented_ and _discoverable_ functionality as listed above.\n",
    "\n",
    "* A \"well-documented\" functionality has readable code whose effect is described in the notebook (possibly with examples).\n",
    "\n",
    "* A \"discoverable\" functionality can be found quickly by ordinary users by exploring the GUI. Extra functionality (keyboard shortcuts, etc.) should be made available as part of a help screen or as a tutorial in your notebook.\n",
    "\n",
    "The functionality itself will be validated manually by test users."
   ]
  },
  {
   "cell_type": "markdown",
   "metadata": {
    "slideshow": {
     "slide_type": "slide"
    }
   },
   "source": [
    "## Example Notebook Structure"
   ]
  },
  {
   "cell_type": "markdown",
   "metadata": {
    "slideshow": {
     "slide_type": "subslide"
    }
   },
   "source": [
    "### Personal Information"
   ]
  },
  {
   "cell_type": "markdown",
   "metadata": {
    "slideshow": {
     "slide_type": "fragment"
    }
   },
   "source": [
    "Start with these fields:"
   ]
  },
  {
   "cell_type": "code",
   "execution_count": 17,
   "metadata": {
    "execution": {
     "iopub.execute_input": "2025-10-26T18:04:29.862658Z",
     "iopub.status.busy": "2025-10-26T18:04:29.862479Z",
     "iopub.status.idle": "2025-10-26T18:04:29.864605Z",
     "shell.execute_reply": "2025-10-26T18:04:29.864064Z"
    },
    "slideshow": {
     "slide_type": "fragment"
    },
    "tags": [
     "remove-input"
    ]
   },
   "outputs": [],
   "source": [
    "# ignore\n",
    "from typing import Union, List, Set"
   ]
  },
  {
   "cell_type": "code",
   "execution_count": 18,
   "metadata": {
    "execution": {
     "iopub.execute_input": "2025-10-26T18:04:29.866653Z",
     "iopub.status.busy": "2025-10-26T18:04:29.866440Z",
     "iopub.status.idle": "2025-10-26T18:04:29.874873Z",
     "shell.execute_reply": "2025-10-26T18:04:29.871278Z"
    },
    "slideshow": {
     "slide_type": "fragment"
    }
   },
   "outputs": [],
   "source": [
    "PROJECT_TYPE: int\n",
    "NAME: Union[str, List[str]]\n",
    "ID: Union[str, List[str]]\n",
    "IMPLEMENTED: Set[str]"
   ]
  },
  {
   "cell_type": "markdown",
   "metadata": {
    "slideshow": {
     "slide_type": "fragment"
    }
   },
   "source": [
    "As an example:"
   ]
  },
  {
   "cell_type": "code",
   "execution_count": 19,
   "metadata": {
    "execution": {
     "iopub.execute_input": "2025-10-26T18:04:29.877720Z",
     "iopub.status.busy": "2025-10-26T18:04:29.877589Z",
     "iopub.status.idle": "2025-10-26T18:04:29.879741Z",
     "shell.execute_reply": "2025-10-26T18:04:29.879114Z"
    },
    "pycharm": {
     "name": "#%%\n"
    },
    "slideshow": {
     "slide_type": "fragment"
    }
   },
   "outputs": [],
   "source": [
    "PROJECT_TYPE = 1\n",
    "NAME = \"Riad Sattouf\"\n",
    "ID = \"1234567\""
   ]
  },
  {
   "cell_type": "markdown",
   "metadata": {
    "slideshow": {
     "slide_type": "fragment"
    }
   },
   "source": [
    "or"
   ]
  },
  {
   "cell_type": "code",
   "execution_count": 20,
   "metadata": {
    "execution": {
     "iopub.execute_input": "2025-10-26T18:04:29.883265Z",
     "iopub.status.busy": "2025-10-26T18:04:29.883148Z",
     "iopub.status.idle": "2025-10-26T18:04:29.885112Z",
     "shell.execute_reply": "2025-10-26T18:04:29.884788Z"
    },
    "pycharm": {
     "name": "#%%\n"
    },
    "slideshow": {
     "slide_type": "subslide"
    }
   },
   "outputs": [],
   "source": [
    "PROJECT_TYPE = 2\n",
    "NAME = [\"Riad Sattouf\", \"Stan Cispas\"]\n",
    "ID = [\"1234567\", \"1536589\"]"
   ]
  },
  {
   "cell_type": "code",
   "execution_count": 21,
   "metadata": {
    "execution": {
     "iopub.execute_input": "2025-10-26T18:04:29.887571Z",
     "iopub.status.busy": "2025-10-26T18:04:29.887276Z",
     "iopub.status.idle": "2025-10-26T18:04:29.890304Z",
     "shell.execute_reply": "2025-10-26T18:04:29.889839Z"
    },
    "pycharm": {
     "name": "#%%\n"
    },
    "slideshow": {
     "slide_type": "fragment"
    }
   },
   "outputs": [],
   "source": [
    "IMPLEMENTED = set()"
   ]
  },
  {
   "cell_type": "markdown",
   "metadata": {
    "pycharm": {
     "name": "#%% md\n"
    },
    "slideshow": {
     "slide_type": "subslide"
    }
   },
   "source": [
    "### Implementation\n",
    "```\n",
    "Contains the code with comments pointing to requirements\n",
    "```"
   ]
  },
  {
   "cell_type": "code",
   "execution_count": 22,
   "metadata": {
    "execution": {
     "iopub.execute_input": "2025-10-26T18:04:29.894104Z",
     "iopub.status.busy": "2025-10-26T18:04:29.893897Z",
     "iopub.status.idle": "2025-10-26T18:04:29.898867Z",
     "shell.execute_reply": "2025-10-26T18:04:29.897411Z"
    },
    "slideshow": {
     "slide_type": "skip"
    }
   },
   "outputs": [],
   "source": [
    "import bookutils.setup\n",
    "from Debugger import Debugger"
   ]
  },
  {
   "cell_type": "markdown",
   "metadata": {
    "pycharm": {
     "name": "#%% md\n"
    },
    "slideshow": {
     "slide_type": "fragment"
    }
   },
   "source": [
    "Feature /R17/:"
   ]
  },
  {
   "cell_type": "markdown",
   "metadata": {
    "slideshow": {
     "slide_type": "fragment"
    }
   },
   "source": [
    "/R171/: A `print` command that prints all variables of the current frame."
   ]
  },
  {
   "cell_type": "code",
   "execution_count": 23,
   "metadata": {
    "execution": {
     "iopub.execute_input": "2025-10-26T18:04:29.905182Z",
     "iopub.status.busy": "2025-10-26T18:04:29.905071Z",
     "iopub.status.idle": "2025-10-26T18:04:29.907780Z",
     "shell.execute_reply": "2025-10-26T18:04:29.907173Z"
    },
    "slideshow": {
     "slide_type": "fragment"
    }
   },
   "outputs": [],
   "source": [
    "class TimeTravelDebugger(Debugger):  # type: ignore\n",
    "    def print_command(self, arg: str = \"\") -> None:\n",
    "        vars = self.frame.f_locals\n",
    "        self.log(\"\\n\".join([f\"{var} = {repr(vars[var])}\" for var in vars]))"
   ]
  },
  {
   "cell_type": "code",
   "execution_count": 24,
   "metadata": {
    "execution": {
     "iopub.execute_input": "2025-10-26T18:04:29.910364Z",
     "iopub.status.busy": "2025-10-26T18:04:29.910257Z",
     "iopub.status.idle": "2025-10-26T18:04:29.912622Z",
     "shell.execute_reply": "2025-10-26T18:04:29.911693Z"
    },
    "pycharm": {
     "name": "#%%\n"
    },
    "slideshow": {
     "slide_type": "fragment"
    }
   },
   "outputs": [],
   "source": [
    "IMPLEMENTED.add(\"R171\")"
   ]
  },
  {
   "cell_type": "markdown",
   "metadata": {
    "slideshow": {
     "slide_type": "subslide"
    }
   },
   "source": [
    "### Presentation\n",
    "```\n",
    "Examples (pointing to requirements, e.g. /R1/ /R2/, etc.)\n",
    "```"
   ]
  },
  {
   "cell_type": "code",
   "execution_count": 25,
   "metadata": {
    "execution": {
     "iopub.execute_input": "2025-10-26T18:04:29.918228Z",
     "iopub.status.busy": "2025-10-26T18:04:29.917930Z",
     "iopub.status.idle": "2025-10-26T18:04:29.921339Z",
     "shell.execute_reply": "2025-10-26T18:04:29.920537Z"
    },
    "pycharm": {
     "name": "#%%\n"
    },
    "slideshow": {
     "slide_type": "skip"
    }
   },
   "outputs": [],
   "source": [
    "from bookutils import next_inputs"
   ]
  },
  {
   "cell_type": "code",
   "execution_count": 26,
   "metadata": {
    "execution": {
     "iopub.execute_input": "2025-10-26T18:04:29.923580Z",
     "iopub.status.busy": "2025-10-26T18:04:29.923468Z",
     "iopub.status.idle": "2025-10-26T18:04:29.925635Z",
     "shell.execute_reply": "2025-10-26T18:04:29.925345Z"
    },
    "pycharm": {
     "name": "#%%\n"
    },
    "slideshow": {
     "slide_type": "subslide"
    }
   },
   "outputs": [],
   "source": [
    "def remove_html_markup(s):  # type: ignore\n",
    "    tag = False\n",
    "    quote = False\n",
    "    out = \"\"\n",
    "\n",
    "    for c in s:\n",
    "        if c == '<' and not quote:\n",
    "            tag = True\n",
    "        elif c == '>' and not quote:\n",
    "            tag = False\n",
    "        elif c == '\"' or c == \"'\" and tag:\n",
    "            quote = not quote\n",
    "        elif not tag:\n",
    "            out = out + c\n",
    "\n",
    "    return out"
   ]
  },
  {
   "cell_type": "markdown",
   "metadata": {
    "slideshow": {
     "slide_type": "subslide"
    }
   },
   "source": [
    "Feature /R17/:"
   ]
  },
  {
   "cell_type": "markdown",
   "metadata": {
    "slideshow": {
     "slide_type": "fragment"
    }
   },
   "source": [
    "/R171/: A `print` command allows printing all variables of the current frame."
   ]
  },
  {
   "cell_type": "markdown",
   "metadata": {
    "slideshow": {
     "slide_type": "fragment"
    }
   },
   "source": [
    "The command sequence \"step\", \"step\", \"step\", \"print\" should print three variables:"
   ]
  },
  {
   "cell_type": "code",
   "execution_count": 27,
   "metadata": {
    "execution": {
     "iopub.execute_input": "2025-10-26T18:04:29.927594Z",
     "iopub.status.busy": "2025-10-26T18:04:29.927475Z",
     "iopub.status.idle": "2025-10-26T18:04:30.072018Z",
     "shell.execute_reply": "2025-10-26T18:04:30.071592Z"
    },
    "slideshow": {
     "slide_type": "subslide"
    }
   },
   "outputs": [
    {
     "name": "stdout",
     "output_type": "stream",
     "text": [
      "Calling remove_html_markup(s = 'foo')\n"
     ]
    },
    {
     "data": {
      "text/html": [
       "<samp>(debugger) <b>break 6</b></samp>"
      ],
      "text/plain": [
       "<IPython.core.display.HTML object>"
      ]
     },
     "metadata": {},
     "output_type": "display_data"
    },
    {
     "name": "stdout",
     "output_type": "stream",
     "text": [
      "Breakpoints: {6}\n"
     ]
    },
    {
     "data": {
      "text/html": [
       "<samp>(debugger) <b>watch out</b></samp>"
      ],
      "text/plain": [
       "<IPython.core.display.HTML object>"
      ]
     },
     "metadata": {},
     "output_type": "display_data"
    },
    {
     "name": "stdout",
     "output_type": "stream",
     "text": [
      "Unknown command 'watch'. Possible commands are:\n"
     ]
    },
    {
     "name": "stdout",
     "output_type": "stream",
     "text": [
      "assign     -- Use as 'assign VAR=VALUE'. Assign VALUE to local variable VAR.\n"
     ]
    },
    {
     "name": "stdout",
     "output_type": "stream",
     "text": [
      "break      -- Set a breakpoint in given line. If no line is given, list all breakpoints\n"
     ]
    },
    {
     "name": "stdout",
     "output_type": "stream",
     "text": [
      "continue   -- Resume execution\n"
     ]
    },
    {
     "name": "stdout",
     "output_type": "stream",
     "text": [
      "delete     -- Delete breakpoint in line given by `arg`.\n",
      "Without given line, clear all breakpoints\n"
     ]
    },
    {
     "name": "stdout",
     "output_type": "stream",
     "text": [
      "help       -- Give help on given `command`. If no command is given, give help on all\n"
     ]
    },
    {
     "name": "stdout",
     "output_type": "stream",
     "text": [
      "list       -- Show current function. If `arg` is given, show its source code.\n"
     ]
    },
    {
     "name": "stdout",
     "output_type": "stream",
     "text": [
      "print      -- None\n"
     ]
    },
    {
     "name": "stdout",
     "output_type": "stream",
     "text": [
      "quit       -- Finish execution\n"
     ]
    },
    {
     "name": "stdout",
     "output_type": "stream",
     "text": [
      "step       -- Execute up to the next line\n"
     ]
    },
    {
     "data": {
      "text/html": [
       "<samp>(debugger) <b>continue</b></samp>"
      ],
      "text/plain": [
       "<IPython.core.display.HTML object>"
      ]
     },
     "metadata": {},
     "output_type": "display_data"
    },
    {
     "name": "stdout",
     "output_type": "stream",
     "text": [
      "                                         # tag = False, quote = False, out = ''\n"
     ]
    },
    {
     "name": "stdout",
     "output_type": "stream",
     "text": [
      "6     for c in s:\n"
     ]
    },
    {
     "data": {
      "text/html": [
       "<samp>(debugger) <b>where</b></samp>"
      ],
      "text/plain": [
       "<IPython.core.display.HTML object>"
      ]
     },
     "metadata": {},
     "output_type": "display_data"
    },
    {
     "name": "stdout",
     "output_type": "stream",
     "text": [
      "Unknown command 'where'. Possible commands are:\n"
     ]
    },
    {
     "name": "stdout",
     "output_type": "stream",
     "text": [
      "assign     -- Use as 'assign VAR=VALUE'. Assign VALUE to local variable VAR.\n"
     ]
    },
    {
     "name": "stdout",
     "output_type": "stream",
     "text": [
      "break      -- Set a breakpoint in given line. If no line is given, list all breakpoints\n"
     ]
    },
    {
     "name": "stdout",
     "output_type": "stream",
     "text": [
      "continue   -- Resume execution\n"
     ]
    },
    {
     "name": "stdout",
     "output_type": "stream",
     "text": [
      "delete     -- Delete breakpoint in line given by `arg`.\n",
      "Without given line, clear all breakpoints\n"
     ]
    },
    {
     "name": "stdout",
     "output_type": "stream",
     "text": [
      "help       -- Give help on given `command`. If no command is given, give help on all\n"
     ]
    },
    {
     "name": "stdout",
     "output_type": "stream",
     "text": [
      "list       -- Show current function. If `arg` is given, show its source code.\n"
     ]
    },
    {
     "name": "stdout",
     "output_type": "stream",
     "text": [
      "print      -- None\n"
     ]
    },
    {
     "name": "stdout",
     "output_type": "stream",
     "text": [
      "quit       -- Finish execution\n"
     ]
    },
    {
     "name": "stdout",
     "output_type": "stream",
     "text": [
      "step       -- Execute up to the next line\n"
     ]
    },
    {
     "data": {
      "text/html": [
       "<samp>(debugger) <b>up</b></samp>"
      ],
      "text/plain": [
       "<IPython.core.display.HTML object>"
      ]
     },
     "metadata": {},
     "output_type": "display_data"
    },
    {
     "name": "stdout",
     "output_type": "stream",
     "text": [
      "Unknown command 'up'. Possible commands are:\n"
     ]
    },
    {
     "name": "stdout",
     "output_type": "stream",
     "text": [
      "assign     -- Use as 'assign VAR=VALUE'. Assign VALUE to local variable VAR.\n"
     ]
    },
    {
     "name": "stdout",
     "output_type": "stream",
     "text": [
      "break      -- Set a breakpoint in given line. If no line is given, list all breakpoints"
     ]
    },
    {
     "name": "stdout",
     "output_type": "stream",
     "text": [
      "\n"
     ]
    },
    {
     "name": "stdout",
     "output_type": "stream",
     "text": [
      "continue   -- Resume execution\n"
     ]
    },
    {
     "name": "stdout",
     "output_type": "stream",
     "text": [
      "delete     -- Delete breakpoint in line given by `arg`.\n",
      "Without given line, clear all breakpoints\n"
     ]
    },
    {
     "name": "stdout",
     "output_type": "stream",
     "text": [
      "help       -- Give help on given `command`. If no command is given, give help on all\n"
     ]
    },
    {
     "name": "stdout",
     "output_type": "stream",
     "text": [
      "list       -- Show current function. If `arg` is given, show its source code.\n"
     ]
    },
    {
     "name": "stdout",
     "output_type": "stream",
     "text": [
      "print      -- None\n"
     ]
    },
    {
     "name": "stdout",
     "output_type": "stream",
     "text": [
      "quit       -- Finish execution\n"
     ]
    },
    {
     "name": "stdout",
     "output_type": "stream",
     "text": [
      "step       -- Execute up to the next line\n"
     ]
    },
    {
     "data": {
      "text/html": [
       "<samp>(debugger) <b>list</b></samp>"
      ],
      "text/plain": [
       "<IPython.core.display.HTML object>"
      ]
     },
     "metadata": {},
     "output_type": "display_data"
    },
    {
     "name": "stdout",
     "output_type": "stream",
     "text": [
      "   1  \u001b[34mdef\u001b[39;49;00m\u001b[37m \u001b[39;49;00m\u001b[32mremove_html_markup\u001b[39;49;00m(s):  \u001b[37m# type: ignore\u001b[39;49;00m\u001b[37m\u001b[39;49;00m\n"
     ]
    },
    {
     "name": "stdout",
     "output_type": "stream",
     "text": [
      "   2      tag = \u001b[34mFalse\u001b[39;49;00m\u001b[37m\u001b[39;49;00m\n"
     ]
    },
    {
     "name": "stdout",
     "output_type": "stream",
     "text": [
      "   3      quote = \u001b[34mFalse\u001b[39;49;00m\u001b[37m\u001b[39;49;00m\n"
     ]
    },
    {
     "name": "stdout",
     "output_type": "stream",
     "text": [
      "   4      out = \u001b[33m\"\u001b[39;49;00m\u001b[33m\"\u001b[39;49;00m\u001b[37m\u001b[39;49;00m\n"
     ]
    },
    {
     "name": "stdout",
     "output_type": "stream",
     "text": [
      "   5  \u001b[37m\u001b[39;49;00m\n"
     ]
    },
    {
     "name": "stdout",
     "output_type": "stream",
     "text": [
      "   6>     \u001b[34mfor\u001b[39;49;00m c \u001b[35min\u001b[39;49;00m s:\u001b[37m\u001b[39;49;00m\n"
     ]
    },
    {
     "name": "stdout",
     "output_type": "stream",
     "text": [
      "   7          \u001b[34mif\u001b[39;49;00m c == \u001b[33m'\u001b[39;49;00m\u001b[33m<\u001b[39;49;00m\u001b[33m'\u001b[39;49;00m \u001b[35mand\u001b[39;49;00m \u001b[35mnot\u001b[39;49;00m quote:\u001b[37m\u001b[39;49;00m\n"
     ]
    },
    {
     "name": "stdout",
     "output_type": "stream",
     "text": [
      "   8              tag = \u001b[34mTrue\u001b[39;49;00m\u001b[37m\u001b[39;49;00m\n"
     ]
    },
    {
     "name": "stdout",
     "output_type": "stream",
     "text": [
      "   9          \u001b[34melif\u001b[39;49;00m c == \u001b[33m'\u001b[39;49;00m\u001b[33m>\u001b[39;49;00m\u001b[33m'\u001b[39;49;00m \u001b[35mand\u001b[39;49;00m \u001b[35mnot\u001b[39;49;00m quote:\u001b[37m\u001b[39;49;00m\n"
     ]
    },
    {
     "name": "stdout",
     "output_type": "stream",
     "text": [
      "  10              tag = \u001b[34mFalse\u001b[39;49;00m\u001b[37m\u001b[39;49;00m\n"
     ]
    },
    {
     "name": "stdout",
     "output_type": "stream",
     "text": [
      "  11          \u001b[34melif\u001b[39;49;00m c == \u001b[33m'\u001b[39;49;00m\u001b[33m\"\u001b[39;49;00m\u001b[33m'\u001b[39;49;00m \u001b[35mor\u001b[39;49;00m c == \u001b[33m\"\u001b[39;49;00m\u001b[33m'\u001b[39;49;00m\u001b[33m\"\u001b[39;49;00m \u001b[35mand\u001b[39;49;00m tag:\u001b[37m\u001b[39;49;00m\n"
     ]
    },
    {
     "name": "stdout",
     "output_type": "stream",
     "text": [
      "  12              quote = \u001b[35mnot\u001b[39;49;00m quote\u001b[37m\u001b[39;49;00m\n"
     ]
    },
    {
     "name": "stdout",
     "output_type": "stream",
     "text": [
      "  13          \u001b[34melif\u001b[39;49;00m \u001b[35mnot\u001b[39;49;00m tag:\u001b[37m\u001b[39;49;00m\n"
     ]
    },
    {
     "name": "stdout",
     "output_type": "stream",
     "text": [
      "  14              out = out + c\u001b[37m\u001b[39;49;00m\n"
     ]
    },
    {
     "name": "stdout",
     "output_type": "stream",
     "text": [
      "  15  \u001b[37m\u001b[39;49;00m\n"
     ]
    },
    {
     "name": "stdout",
     "output_type": "stream",
     "text": [
      "  16      \u001b[34mreturn\u001b[39;49;00m out\u001b[37m\u001b[39;49;00m\n"
     ]
    },
    {
     "data": {
      "text/html": [
       "<samp>(debugger) <b>delete 0</b></samp>"
      ],
      "text/plain": [
       "<IPython.core.display.HTML object>"
      ]
     },
     "metadata": {},
     "output_type": "display_data"
    },
    {
     "name": "stdout",
     "output_type": "stream",
     "text": [
      "No such breakpoint: 0\n"
     ]
    },
    {
     "name": "stdout",
     "output_type": "stream",
     "text": [
      "Breakpoints: {6}\n"
     ]
    },
    {
     "data": {
      "text/html": [
       "<samp>(debugger) <b>continue</b></samp>"
      ],
      "text/plain": [
       "<IPython.core.display.HTML object>"
      ]
     },
     "metadata": {},
     "output_type": "display_data"
    },
    {
     "name": "stdout",
     "output_type": "stream",
     "text": [
      "                                         # out = 'f', c = 'f'\n"
     ]
    },
    {
     "name": "stdout",
     "output_type": "stream",
     "text": [
      "6     for c in s:\n"
     ]
    },
    {
     "data": {
      "text/html": [
       "<samp>(debugger) <b>quit</b></samp>"
      ],
      "text/plain": [
       "<IPython.core.display.HTML object>"
      ]
     },
     "metadata": {},
     "output_type": "display_data"
    }
   ],
   "source": [
    "next_inputs([\"step\", \"step\", \"step\", \"print\", \"quit\"])\n",
    "with TimeTravelDebugger():\n",
    "    remove_html_markup(\"foo\")"
   ]
  },
  {
   "cell_type": "markdown",
   "metadata": {
    "slideshow": {
     "slide_type": "subslide"
    }
   },
   "source": [
    "The command sequence \"step\", \"step\", \"print\" should print just two variables:"
   ]
  },
  {
   "cell_type": "code",
   "execution_count": 28,
   "metadata": {
    "execution": {
     "iopub.execute_input": "2025-10-26T18:04:30.075650Z",
     "iopub.status.busy": "2025-10-26T18:04:30.074846Z",
     "iopub.status.idle": "2025-10-26T18:04:30.092384Z",
     "shell.execute_reply": "2025-10-26T18:04:30.092087Z"
    },
    "slideshow": {
     "slide_type": "subslide"
    }
   },
   "outputs": [
    {
     "name": "stdout",
     "output_type": "stream",
     "text": [
      "Calling remove_html_markup(s = 'foo')\n"
     ]
    },
    {
     "data": {
      "text/html": [
       "<samp>(debugger) <b>step</b></samp>"
      ],
      "text/plain": [
       "<IPython.core.display.HTML object>"
      ]
     },
     "metadata": {},
     "output_type": "display_data"
    },
    {
     "name": "stdout",
     "output_type": "stream",
     "text": [
      "2     tag = False\n"
     ]
    },
    {
     "data": {
      "text/html": [
       "<samp>(debugger) <b>step</b></samp>"
      ],
      "text/plain": [
       "<IPython.core.display.HTML object>"
      ]
     },
     "metadata": {},
     "output_type": "display_data"
    },
    {
     "name": "stdout",
     "output_type": "stream",
     "text": [
      "                                         # tag = False\n"
     ]
    },
    {
     "name": "stdout",
     "output_type": "stream",
     "text": [
      "3     quote = False\n"
     ]
    },
    {
     "data": {
      "text/html": [
       "<samp>(debugger) <b>step</b></samp>"
      ],
      "text/plain": [
       "<IPython.core.display.HTML object>"
      ]
     },
     "metadata": {},
     "output_type": "display_data"
    },
    {
     "name": "stdout",
     "output_type": "stream",
     "text": [
      "                                         # quote = False\n"
     ]
    },
    {
     "name": "stdout",
     "output_type": "stream",
     "text": [
      "4     out = \"\"\n"
     ]
    },
    {
     "data": {
      "text/html": [
       "<samp>(debugger) <b>print</b></samp>"
      ],
      "text/plain": [
       "<IPython.core.display.HTML object>"
      ]
     },
     "metadata": {},
     "output_type": "display_data"
    },
    {
     "name": "stdout",
     "output_type": "stream",
     "text": [
      "s = 'foo'\n",
      "tag = False\n",
      "quote = False\n"
     ]
    },
    {
     "data": {
      "text/html": [
       "<samp>(debugger) <b>quit</b></samp>"
      ],
      "text/plain": [
       "<IPython.core.display.HTML object>"
      ]
     },
     "metadata": {},
     "output_type": "display_data"
    }
   ],
   "source": [
    "next_inputs([\"step\", \"step\", \"print\", \"quit\"])\n",
    "with TimeTravelDebugger():\n",
    "    remove_html_markup(\"foo\")"
   ]
  },
  {
   "cell_type": "markdown",
   "metadata": {
    "slideshow": {
     "slide_type": "subslide"
    }
   },
   "source": [
    "### Summary"
   ]
  },
  {
   "cell_type": "code",
   "execution_count": 29,
   "metadata": {
    "execution": {
     "iopub.execute_input": "2025-10-26T18:04:30.094795Z",
     "iopub.status.busy": "2025-10-26T18:04:30.094551Z",
     "iopub.status.idle": "2025-10-26T18:04:30.097585Z",
     "shell.execute_reply": "2025-10-26T18:04:30.097220Z"
    },
    "pycharm": {
     "name": "#%%\n"
    },
    "slideshow": {
     "slide_type": "fragment"
    }
   },
   "outputs": [
    {
     "name": "stdout",
     "output_type": "stream",
     "text": [
      "Implemented features: {'R171'}\n"
     ]
    }
   ],
   "source": [
    "print(f\"Implemented features: {IMPLEMENTED}\")"
   ]
  }
 ],
 "metadata": {
  "ipub": {
   "bibliography": "fuzzingbook.bib"
  },
  "kernelspec": {
   "display_name": "Python 3",
   "language": "python",
   "name": "python3"
  },
  "language_info": {
   "codemirror_mode": {
    "name": "ipython",
    "version": 3
   },
   "file_extension": ".py",
   "mimetype": "text/x-python",
   "name": "python",
   "nbconvert_exporter": "python",
   "pygments_lexer": "ipython3",
   "version": "3.13.4"
  },
  "toc": {
   "base_numbering": 1,
   "nav_menu": {},
   "number_sections": true,
   "sideBar": true,
   "skip_h1_title": true,
   "title_cell": "",
   "title_sidebar": "Contents",
   "toc_cell": false,
   "toc_position": {},
   "toc_section_display": true,
   "toc_window_display": true
  },
  "toc-autonumbering": false
 },
 "nbformat": 4,
 "nbformat_minor": 4
}
