{
 "cells": [
  {
   "cell_type": "markdown",
   "metadata": {
    "button": false,
    "new_sheet": false,
    "run_control": {
     "read_only": false
    },
    "slideshow": {
     "slide_type": "slide"
    }
   },
   "source": [
    "# Mining Function Specifications\n",
    "\n",
    "In the [chapter on assertions](Assertions.ipynb), we have seen how important it is to _check_ whether the result is as expected.  In this chapter, we introduce a technique that allows us to _mine_ function specifications from a set of given executions, resulting in abstract and formal _descriptions_ of what the function expects and what it delivers.\n",
    "\n",
    "These so-called _dynamic invariants_ produce pre- and post-conditions over function arguments and variables from a set of executions. Within debugging, the resulting _assertions_ can immediately check whether function behavior has changed, but can also be useful to determine the characteristics of _failing_ runs (as opposed to _passing_ runs). Furthermore, the resulting specifications provide pre- and postconditions for formal program proofs, testing, and verification.\n",
    "\n",
    "This chapter is based on [a chapter with the same name in The Fuzzing Book](https://www.fuzzingbook.org/html/DynamicInvariants.html), which focuses on test generation."
   ]
  },
  {
   "cell_type": "code",
   "execution_count": 1,
   "metadata": {
    "execution": {
     "iopub.execute_input": "2025-10-26T17:48:22.014594Z",
     "iopub.status.busy": "2025-10-26T17:48:22.014098Z",
     "iopub.status.idle": "2025-10-26T17:48:22.693459Z",
     "shell.execute_reply": "2025-10-26T17:48:22.693164Z"
    },
    "slideshow": {
     "slide_type": "skip"
    }
   },
   "outputs": [
    {
     "data": {
      "text/html": [
       "\n",
       "        <iframe\n",
       "            width=\"640\"\n",
       "            height=\"360\"\n",
       "            src=\"https://www.youtube-nocookie.com/embed/HDu1olXFvv0\"\n",
       "            frameborder=\"0\"\n",
       "            allowfullscreen\n",
       "            \n",
       "        ></iframe>\n",
       "        "
      ],
      "text/plain": [
       "<IPython.lib.display.IFrame at 0x10d23af90>"
      ]
     },
     "execution_count": 1,
     "metadata": {},
     "output_type": "execute_result"
    }
   ],
   "source": [
    "from bookutils import YouTubeVideo\n",
    "YouTubeVideo(\"HDu1olXFvv0\")"
   ]
  },
  {
   "cell_type": "markdown",
   "metadata": {
    "button": false,
    "new_sheet": false,
    "run_control": {
     "read_only": false
    },
    "slideshow": {
     "slide_type": "subslide"
    }
   },
   "source": [
    "**Prerequisites**\n",
    "\n",
    "* You should be familiar with tracing program executions, as in the [chapter on tracing](Tracer.ipynb).\n",
    "* Later in this section, we access the internal _abstract syntax tree_ representations of Python programs and transform them, as in the [chapter on tracking failure origins](Slicer.ipynb)."
   ]
  },
  {
   "cell_type": "code",
   "execution_count": 2,
   "metadata": {
    "execution": {
     "iopub.execute_input": "2025-10-26T17:48:22.713834Z",
     "iopub.status.busy": "2025-10-26T17:48:22.713680Z",
     "iopub.status.idle": "2025-10-26T17:48:22.715694Z",
     "shell.execute_reply": "2025-10-26T17:48:22.715468Z"
    },
    "slideshow": {
     "slide_type": "skip"
    }
   },
   "outputs": [],
   "source": [
    "import bookutils.setup"
   ]
  },
  {
   "cell_type": "code",
   "execution_count": 3,
   "metadata": {
    "execution": {
     "iopub.execute_input": "2025-10-26T17:48:22.717015Z",
     "iopub.status.busy": "2025-10-26T17:48:22.716920Z",
     "iopub.status.idle": "2025-10-26T17:48:22.783470Z",
     "shell.execute_reply": "2025-10-26T17:48:22.783194Z"
    },
    "slideshow": {
     "slide_type": "skip"
    }
   },
   "outputs": [],
   "source": [
    "from Tracer import Tracer"
   ]
  },
  {
   "cell_type": "code",
   "execution_count": 4,
   "metadata": {
    "execution": {
     "iopub.execute_input": "2025-10-26T17:48:22.785214Z",
     "iopub.status.busy": "2025-10-26T17:48:22.785120Z",
     "iopub.status.idle": "2025-10-26T17:48:22.786768Z",
     "shell.execute_reply": "2025-10-26T17:48:22.786558Z"
    },
    "slideshow": {
     "slide_type": "fragment"
    },
    "tags": [
     "remove-input"
    ]
   },
   "outputs": [],
   "source": [
    "# ignore\n",
    "from typing import Sequence, Any, Callable, Tuple\n",
    "from typing import Dict, Union, Set, List, cast, Optional"
   ]
  },
  {
   "cell_type": "markdown",
   "metadata": {
    "slideshow": {
     "slide_type": "slide"
    }
   },
   "source": [
    "## Synopsis\n",
    "To [use the code provided in this chapter](Importing.ipynb), write\n",
    "\n",
    "```python\n",
    ">>> from debuggingbook.DynamicInvariants import <identifier>\n",
    "```\n",
    "\n",
    "and then make use of the following features.\n",
    "\n",
    "**Note**: The examples in this section only work after the rest of the cells have been executed.\n"
   ]
  },
  {
   "cell_type": "code",
   "execution_count": 211,
   "metadata": {
    "execution": {
     "iopub.execute_input": "2025-10-26T17:48:31.057525Z",
     "iopub.status.busy": "2025-10-26T17:48:31.057449Z",
     "iopub.status.idle": "2025-10-26T17:48:31.058994Z",
     "shell.execute_reply": "2025-10-26T17:48:31.058758Z"
    },
    "slideshow": {
     "slide_type": "fragment"
    }
   },
   "outputs": [],
   "source": [
    "def sum2(a, b):  # type: ignore\n",
    "    return a + b"
   ]
  },
  {
   "cell_type": "code",
   "execution_count": 212,
   "metadata": {
    "execution": {
     "iopub.execute_input": "2025-10-26T17:48:31.060081Z",
     "iopub.status.busy": "2025-10-26T17:48:31.060004Z",
     "iopub.status.idle": "2025-10-26T17:48:31.061775Z",
     "shell.execute_reply": "2025-10-26T17:48:31.061526Z"
    },
    "slideshow": {
     "slide_type": "subslide"
    }
   },
   "outputs": [],
   "source": [
    "with TypeAnnotator() as type_annotator:\n",
    "    sum2(1, 2)\n",
    "    sum2(-4, -5)\n",
    "    sum2(0, 0)"
   ]
  },
  {
   "cell_type": "markdown",
   "metadata": {
    "slideshow": {
     "slide_type": "fragment"
    }
   },
   "source": [
    "The `typed_functions()` method will return a representation of `sum2()` annotated with types observed during execution."
   ]
  },
  {
   "cell_type": "code",
   "execution_count": 213,
   "metadata": {
    "execution": {
     "iopub.execute_input": "2025-10-26T17:48:31.062953Z",
     "iopub.status.busy": "2025-10-26T17:48:31.062854Z",
     "iopub.status.idle": "2025-10-26T17:48:31.064813Z",
     "shell.execute_reply": "2025-10-26T17:48:31.064507Z"
    },
    "slideshow": {
     "slide_type": "fragment"
    }
   },
   "outputs": [
    {
     "name": "stdout",
     "output_type": "stream",
     "text": [
      "def sum2(a: int, b: int) -> int:\n",
      "    return a + b\n"
     ]
    }
   ],
   "source": [
    "print(type_annotator.typed_functions())"
   ]
  },
  {
   "cell_type": "markdown",
   "metadata": {
    "slideshow": {
     "slide_type": "fragment"
    }
   },
   "source": [
    "As a shortcut, one can also just evaluate the annotator:"
   ]
  },
  {
   "cell_type": "code",
   "execution_count": 214,
   "metadata": {
    "execution": {
     "iopub.execute_input": "2025-10-26T17:48:31.066093Z",
     "iopub.status.busy": "2025-10-26T17:48:31.066009Z",
     "iopub.status.idle": "2025-10-26T17:48:31.068222Z",
     "shell.execute_reply": "2025-10-26T17:48:31.067989Z"
    },
    "slideshow": {
     "slide_type": "fragment"
    }
   },
   "outputs": [
    {
     "data": {
      "text/plain": [
       "def sum2(a: int, b: int) -> int:\n",
       "    return a + b"
      ]
     },
     "execution_count": 214,
     "metadata": {},
     "output_type": "execute_result"
    }
   ],
   "source": [
    "type_annotator"
   ]
  },
  {
   "attachments": {},
   "cell_type": "markdown",
   "metadata": {
    "slideshow": {
     "slide_type": "fragment"
    }
   },
   "source": [
    "The invariant annotator works similarly:"
   ]
  },
  {
   "cell_type": "code",
   "execution_count": 215,
   "metadata": {
    "execution": {
     "iopub.execute_input": "2025-10-26T17:48:31.069475Z",
     "iopub.status.busy": "2025-10-26T17:48:31.069396Z",
     "iopub.status.idle": "2025-10-26T17:48:31.071087Z",
     "shell.execute_reply": "2025-10-26T17:48:31.070877Z"
    },
    "slideshow": {
     "slide_type": "subslide"
    }
   },
   "outputs": [],
   "source": [
    "with InvariantAnnotator() as inv_annotator:\n",
    "    sum2(1, 2)\n",
    "    sum2(-4, -5)\n",
    "    sum2(0, 0)"
   ]
  },
  {
   "cell_type": "markdown",
   "metadata": {
    "slideshow": {
     "slide_type": "fragment"
    }
   },
   "source": [
    "The `functions_with_invariants()` method will return a representation of `sum2()` annotated with inferred pre- and postconditions that all hold for the observed values."
   ]
  },
  {
   "cell_type": "code",
   "execution_count": 216,
   "metadata": {
    "execution": {
     "iopub.execute_input": "2025-10-26T17:48:31.072300Z",
     "iopub.status.busy": "2025-10-26T17:48:31.072222Z",
     "iopub.status.idle": "2025-10-26T17:48:31.085144Z",
     "shell.execute_reply": "2025-10-26T17:48:31.084897Z"
    },
    "slideshow": {
     "slide_type": "subslide"
    }
   },
   "outputs": [
    {
     "name": "stdout",
     "output_type": "stream",
     "text": [
      "@precondition(lambda a, b: isinstance(a, int))\n",
      "@precondition(lambda a, b: isinstance(b, int))\n",
      "@postcondition(lambda return_value, a, b: a == return_value - b)\n",
      "@postcondition(lambda return_value, a, b: b == return_value - a)\n",
      "@postcondition(lambda return_value, a, b: isinstance(return_value, int))\n",
      "@postcondition(lambda return_value, a, b: return_value == a + b)\n",
      "@postcondition(lambda return_value, a, b: return_value == b + a)\n",
      "def sum2(a, b):  # type: ignore\n",
      "    return a + b\n",
      "\n"
     ]
    }
   ],
   "source": [
    "print(inv_annotator.functions_with_invariants())"
   ]
  },
  {
   "cell_type": "markdown",
   "metadata": {
    "slideshow": {
     "slide_type": "fragment"
    }
   },
   "source": [
    "Again, a shortcut is available:"
   ]
  },
  {
   "cell_type": "code",
   "execution_count": 217,
   "metadata": {
    "execution": {
     "iopub.execute_input": "2025-10-26T17:48:31.086535Z",
     "iopub.status.busy": "2025-10-26T17:48:31.086449Z",
     "iopub.status.idle": "2025-10-26T17:48:31.100612Z",
     "shell.execute_reply": "2025-10-26T17:48:31.100336Z"
    },
    "slideshow": {
     "slide_type": "subslide"
    }
   },
   "outputs": [
    {
     "data": {
      "text/plain": [
       "@precondition(lambda a, b: isinstance(a, int))\n",
       "@precondition(lambda a, b: isinstance(b, int))\n",
       "@postcondition(lambda return_value, a, b: a == return_value - b)\n",
       "@postcondition(lambda return_value, a, b: b == return_value - a)\n",
       "@postcondition(lambda return_value, a, b: isinstance(return_value, int))\n",
       "@postcondition(lambda return_value, a, b: return_value == a + b)\n",
       "@postcondition(lambda return_value, a, b: return_value == b + a)\n",
       "def sum2(a, b):  # type: ignore\n",
       "    return a + b"
      ]
     },
     "execution_count": 217,
     "metadata": {},
     "output_type": "execute_result"
    }
   ],
   "source": [
    "inv_annotator"
   ]
  },
  {
   "cell_type": "markdown",
   "metadata": {
    "slideshow": {
     "slide_type": "fragment"
    }
   },
   "source": [
    "Such type specifications and invariants can be helpful as _oracles_ (to detect deviations from a given set of runs). The chapter gives details on how to customize the properties checked for."
   ]
  },
  {
   "cell_type": "code",
   "execution_count": 218,
   "metadata": {
    "execution": {
     "iopub.execute_input": "2025-10-26T17:48:31.101940Z",
     "iopub.status.busy": "2025-10-26T17:48:31.101840Z",
     "iopub.status.idle": "2025-10-26T17:48:31.103455Z",
     "shell.execute_reply": "2025-10-26T17:48:31.103227Z"
    },
    "slideshow": {
     "slide_type": "fragment"
    },
    "tags": [
     "remove-input"
    ]
   },
   "outputs": [],
   "source": [
    "# ignore\n",
    "from ClassDiagram import display_class_hierarchy"
   ]
  },
  {
   "cell_type": "code",
   "execution_count": 219,
   "metadata": {
    "execution": {
     "iopub.execute_input": "2025-10-26T17:48:31.104564Z",
     "iopub.status.busy": "2025-10-26T17:48:31.104488Z",
     "iopub.status.idle": "2025-10-26T17:48:31.980590Z",
     "shell.execute_reply": "2025-10-26T17:48:31.980201Z"
    },
    "slideshow": {
     "slide_type": "subslide"
    },
    "tags": [
     "remove-input"
    ]
   },
   "outputs": [
    {
     "data": {
      "image/svg+xml": [
       "<?xml version=\"1.0\" encoding=\"UTF-8\" standalone=\"no\"?>\n",
       "<!DOCTYPE svg PUBLIC \"-//W3C//DTD SVG 1.1//EN\"\n",
       " \"http://www.w3.org/Graphics/SVG/1.1/DTD/svg11.dtd\">\n",
       "<!-- Generated by graphviz version 14.0.2 (20251019.1705)\n",
       " -->\n",
       "<!-- Pages: 1 -->\n",
       "<svg width=\"484pt\" height=\"556pt\"\n",
       " viewBox=\"0.00 0.00 484.00 556.00\" xmlns=\"http://www.w3.org/2000/svg\" xmlns:xlink=\"http://www.w3.org/1999/xlink\">\n",
       "<g id=\"graph0\" class=\"graph\" transform=\"scale(1 1) rotate(0) translate(4 551.5)\">\n",
       "<g id=\"a_graph0\"><a xlink:title=\"TypeAnnotator class hierarchy\">\n",
       "<polygon fill=\"white\" stroke=\"none\" points=\"-4,4 -4,-551.5 479.62,-551.5 479.62,4 -4,4\"/>\n",
       "</a>\n",
       "</g>\n",
       "<!-- TypeAnnotator -->\n",
       "<g id=\"node1\" class=\"node\">\n",
       "<title>TypeAnnotator</title>\n",
       "<g id=\"a_node1\"><a xlink:href=\"#\" xlink:title=\"class TypeAnnotator:&#10;A class for tracing a piece of code. Use as `with Tracer(): block()`\">\n",
       "<polygon fill=\"none\" stroke=\"black\" points=\"0,-6.88 0,-103.88 142,-103.88 142,-6.88 0,-6.88\"/>\n",
       "<text xml:space=\"preserve\" text-anchor=\"start\" x=\"21.12\" y=\"-87.58\" font-family=\"Raleway, Helvetica, Arial, sans-serif\" font-weight=\"bold\" font-size=\"14.00\" fill=\"#6a0dad\">TypeAnnotator</text>\n",
       "<polyline fill=\"none\" stroke=\"black\" points=\"0,-78.62 142,-78.62\"/>\n",
       "<g id=\"a_node1_0\"><a xlink:href=\"#\" xlink:title=\"TypeAnnotator\">\n",
       "<g id=\"a_node1_1\"><a xlink:href=\"#\" xlink:title=\"__repr__(self) &#45;&gt; str:&#10;String representation, like `typed_functions()`\">\n",
       "<text xml:space=\"preserve\" text-anchor=\"start\" x=\"8\" y=\"-66.12\" font-family=\"'Fira Mono', 'Source Code Pro', 'Courier', monospace\" font-weight=\"bold\" font-size=\"10.00\">__repr__()</text>\n",
       "</a>\n",
       "</g>\n",
       "<g id=\"a_node1_2\"><a xlink:href=\"#\" xlink:title=\"typed_function(self, function_name: str) &#45;&gt; str:&#10;Return the code for all calls of `function_name` observed, annotated with types\">\n",
       "<text xml:space=\"preserve\" text-anchor=\"start\" x=\"8\" y=\"-53.38\" font-family=\"'Fira Mono', 'Source Code Pro', 'Courier', monospace\" font-weight=\"bold\" font-size=\"10.00\">typed_function()</text>\n",
       "</a>\n",
       "</g>\n",
       "<g id=\"a_node1_3\"><a xlink:href=\"#\" xlink:title=\"typed_function_ast(self, function_name: str) &#45;&gt; Optional[ast.AST]:&#10;Return an AST for all calls of `function_name` observed, annotated with types\">\n",
       "<text xml:space=\"preserve\" text-anchor=\"start\" x=\"8\" y=\"-40.62\" font-family=\"'Fira Mono', 'Source Code Pro', 'Courier', monospace\" font-weight=\"bold\" font-size=\"10.00\">typed_function_ast()</text>\n",
       "</a>\n",
       "</g>\n",
       "<g id=\"a_node1_4\"><a xlink:href=\"#\" xlink:title=\"typed_functions(self) &#45;&gt; str:&#10;Return the code for all functions observed, annotated with types\">\n",
       "<text xml:space=\"preserve\" text-anchor=\"start\" x=\"8\" y=\"-27.88\" font-family=\"'Fira Mono', 'Source Code Pro', 'Courier', monospace\" font-weight=\"bold\" font-size=\"10.00\">typed_functions()</text>\n",
       "</a>\n",
       "</g>\n",
       "<g id=\"a_node1_5\"><a xlink:href=\"#\" xlink:title=\"typed_functions_ast(self) &#45;&gt; Dict[str, ast.AST]:&#10;Return a dict name &#45;&gt; AST for all functions observed, annotated with types\">\n",
       "<text xml:space=\"preserve\" text-anchor=\"start\" x=\"8\" y=\"-15.12\" font-family=\"'Fira Mono', 'Source Code Pro', 'Courier', monospace\" font-weight=\"bold\" font-size=\"10.00\">typed_functions_ast()</text>\n",
       "</a>\n",
       "</g>\n",
       "</a>\n",
       "</g>\n",
       "</a>\n",
       "</g>\n",
       "</g>\n",
       "<!-- TypeTracer -->\n",
       "<g id=\"node2\" class=\"node\">\n",
       "<title>TypeTracer</title>\n",
       "<g id=\"a_node2\"><a xlink:href=\"#\" xlink:title=\"class TypeTracer:&#10;A class for tracing a piece of code. Use as `with Tracer(): block()`\">\n",
       "<polygon fill=\"none\" stroke=\"black\" points=\"53.88,-165 53.88,-201 144.12,-201 144.12,-165 53.88,-165\"/>\n",
       "<text xml:space=\"preserve\" text-anchor=\"start\" x=\"61.88\" y=\"-179.7\" font-family=\"Raleway, Helvetica, Arial, sans-serif\" font-weight=\"bold\" font-size=\"14.00\" fill=\"#6a0dad\">TypeTracer</text>\n",
       "</a>\n",
       "</g>\n",
       "</g>\n",
       "<!-- TypeAnnotator&#45;&gt;TypeTracer -->\n",
       "<g id=\"edge1\" class=\"edge\">\n",
       "<title>TypeAnnotator&#45;&gt;TypeTracer</title>\n",
       "<path fill=\"none\" stroke=\"black\" d=\"M81.67,-104.23C85.4,-120.97 89.46,-139.22 92.72,-153.83\"/>\n",
       "<polygon fill=\"none\" stroke=\"black\" points=\"89.22,-154.19 94.81,-163.19 96.05,-152.67 89.22,-154.19\"/>\n",
       "</g>\n",
       "<!-- CallTracer -->\n",
       "<g id=\"node3\" class=\"node\">\n",
       "<title>CallTracer</title>\n",
       "<g id=\"a_node3\"><a xlink:href=\"#\" xlink:title=\"class CallTracer:&#10;A class for tracing a piece of code. Use as `with Tracer(): block()`\">\n",
       "<polygon fill=\"none\" stroke=\"black\" points=\"109,-255.75 109,-391 209,-391 209,-255.75 109,-255.75\"/>\n",
       "<text xml:space=\"preserve\" text-anchor=\"start\" x=\"124.5\" y=\"-374.7\" font-family=\"Raleway, Helvetica, Arial, sans-serif\" font-weight=\"bold\" font-size=\"14.00\" fill=\"#6a0dad\">CallTracer</text>\n",
       "<polyline fill=\"none\" stroke=\"black\" points=\"109,-365.75 209,-365.75\"/>\n",
       "<g id=\"a_node3_6\"><a xlink:href=\"#\" xlink:title=\"CallTracer\">\n",
       "<g id=\"a_node3_7\"><a xlink:href=\"#\" xlink:title=\"__init__(self, log: bool = False, **kwargs: Any) &#45;&gt; None:&#10;Create a new tracer.&#10;If `file` is given, output to `file` instead of stdout.\">\n",
       "<text xml:space=\"preserve\" text-anchor=\"start\" x=\"117\" y=\"-353.25\" font-family=\"'Fira Mono', 'Source Code Pro', 'Courier', monospace\" font-weight=\"bold\" font-style=\"italic\" font-size=\"10.00\">__init__()</text>\n",
       "</a>\n",
       "</g>\n",
       "<g id=\"a_node3_8\"><a xlink:href=\"#\" xlink:title=\"add_call(self, function_name: str, arguments: List[Tuple[str, Any]], return_value: Any = None) &#45;&gt; None:&#10;Add given call to list of calls\">\n",
       "<text xml:space=\"preserve\" text-anchor=\"start\" x=\"117\" y=\"-339.5\" font-family=\"'Fira Mono', 'Source Code Pro', 'Courier', monospace\" font-size=\"10.00\">add_call()</text>\n",
       "</a>\n",
       "</g>\n",
       "<g id=\"a_node3_9\"><a xlink:href=\"#\" xlink:title=\"all_calls(self) &#45;&gt; Dict[str, List[Tuple[List[Tuple[str, Any]], Any]]]:&#10;Return list of calls for function_name,&#10;or a mapping function_name &#45;&gt; calls for all functions tracked\">\n",
       "<text xml:space=\"preserve\" text-anchor=\"start\" x=\"117\" y=\"-326.75\" font-family=\"'Fira Mono', 'Source Code Pro', 'Courier', monospace\" font-size=\"10.00\">all_calls()</text>\n",
       "</a>\n",
       "</g>\n",
       "<g id=\"a_node3_10\"><a xlink:href=\"#\" xlink:title=\"calls(self, function_name: str) &#45;&gt; List[Tuple[List[Tuple[str, Any]], Any]]:&#10;Return list of calls for `function_name`.\">\n",
       "<text xml:space=\"preserve\" text-anchor=\"start\" x=\"117\" y=\"-314\" font-family=\"'Fira Mono', 'Source Code Pro', 'Courier', monospace\" font-size=\"10.00\">calls()</text>\n",
       "</a>\n",
       "</g>\n",
       "<g id=\"a_node3_11\"><a xlink:href=\"#\" xlink:title=\"reset(self) &#45;&gt; None\">\n",
       "<text xml:space=\"preserve\" text-anchor=\"start\" x=\"117\" y=\"-301.25\" font-family=\"'Fira Mono', 'Source Code Pro', 'Courier', monospace\" font-size=\"10.00\">reset()</text>\n",
       "</a>\n",
       "</g>\n",
       "<g id=\"a_node3_12\"><a xlink:href=\"#\" xlink:title=\"trace_call(self, frame: frame, event: str, arg: Any) &#45;&gt; None:&#10;Save current function name and args on the stack\">\n",
       "<text xml:space=\"preserve\" text-anchor=\"start\" x=\"117\" y=\"-288.5\" font-family=\"'Fira Mono', 'Source Code Pro', 'Courier', monospace\" font-size=\"10.00\">trace_call()</text>\n",
       "</a>\n",
       "</g>\n",
       "<g id=\"a_node3_13\"><a xlink:href=\"#\" xlink:title=\"trace_return(self, frame: frame, event: str, arg: Any) &#45;&gt; None:&#10;Get return value and store complete call with arguments and return value\">\n",
       "<text xml:space=\"preserve\" text-anchor=\"start\" x=\"117\" y=\"-275.75\" font-family=\"'Fira Mono', 'Source Code Pro', 'Courier', monospace\" font-size=\"10.00\">trace_return()</text>\n",
       "</a>\n",
       "</g>\n",
       "<g id=\"a_node3_14\"><a xlink:href=\"#\" xlink:title=\"traceit(self, frame: frame, event: str, arg: Any) &#45;&gt; None:&#10;Tracking function: Record all calls and all args\">\n",
       "<text xml:space=\"preserve\" text-anchor=\"start\" x=\"117\" y=\"-264\" font-family=\"'Fira Mono', 'Source Code Pro', 'Courier', monospace\" font-style=\"italic\" font-size=\"10.00\">traceit()</text>\n",
       "</a>\n",
       "</g>\n",
       "</a>\n",
       "</g>\n",
       "</a>\n",
       "</g>\n",
       "</g>\n",
       "<!-- TypeTracer&#45;&gt;CallTracer -->\n",
       "<g id=\"edge2\" class=\"edge\">\n",
       "<title>TypeTracer&#45;&gt;CallTracer</title>\n",
       "<path fill=\"none\" stroke=\"black\" d=\"M106.48,-201.25C111.45,-212.7 118.36,-228.64 125.54,-245.2\"/>\n",
       "<polygon fill=\"none\" stroke=\"black\" points=\"122.24,-246.39 129.43,-254.17 128.66,-243.6 122.24,-246.39\"/>\n",
       "</g>\n",
       "<!-- Tracer -->\n",
       "<g id=\"node4\" class=\"node\">\n",
       "<title>Tracer</title>\n",
       "<g id=\"a_node4\"><a xlink:href=\"Tracer.ipynb\" xlink:title=\"class Tracer:&#10;A class for tracing a piece of code. Use as `with Tracer(): block()`\">\n",
       "<polygon fill=\"none\" stroke=\"black\" points=\"129.62,-428 129.62,-464 188.38,-464 188.38,-428 129.62,-428\"/>\n",
       "<text xml:space=\"preserve\" text-anchor=\"start\" x=\"137.62\" y=\"-442.7\" font-family=\"Raleway, Helvetica, Arial, sans-serif\" font-weight=\"bold\" font-size=\"14.00\" fill=\"#6a0dad\">Tracer</text>\n",
       "</a>\n",
       "</g>\n",
       "</g>\n",
       "<!-- CallTracer&#45;&gt;Tracer -->\n",
       "<g id=\"edge3\" class=\"edge\">\n",
       "<title>CallTracer&#45;&gt;Tracer</title>\n",
       "<path fill=\"none\" stroke=\"black\" d=\"M159,-391.39C159,-400.11 159,-408.64 159,-416.24\"/>\n",
       "<polygon fill=\"none\" stroke=\"black\" points=\"155.5,-416.15 159,-426.15 162.5,-416.15 155.5,-416.15\"/>\n",
       "</g>\n",
       "<!-- StackInspector -->\n",
       "<g id=\"node5\" class=\"node\">\n",
       "<title>StackInspector</title>\n",
       "<g id=\"a_node5\"><a xlink:href=\"StackInspector.ipynb\" xlink:title=\"class StackInspector:&#10;Provide functions to inspect the stack\">\n",
       "<polygon fill=\"none\" stroke=\"black\" points=\"76,-501 76,-547 242,-547 242,-501 76,-501\"/>\n",
       "<text xml:space=\"preserve\" text-anchor=\"start\" x=\"108.75\" y=\"-530.7\" font-family=\"Raleway, Helvetica, Arial, sans-serif\" font-weight=\"bold\" font-size=\"14.00\" fill=\"#6a0dad\">StackInspector</text>\n",
       "<polyline fill=\"none\" stroke=\"black\" points=\"76,-521.75 242,-521.75\"/>\n",
       "<g id=\"a_node5_15\"><a xlink:href=\"#\" xlink:title=\"StackInspector\">\n",
       "<g id=\"a_node5_16\"><a xlink:href=\"StackInspector.ipynb\" xlink:title=\"_generated_function_cache = {}\">\n",
       "<text xml:space=\"preserve\" text-anchor=\"start\" x=\"84\" y=\"-508.25\" font-family=\"'Fira Mono', 'Source Code Pro', 'Courier', monospace\" font-size=\"10.00\">_generated_function_cache</text>\n",
       "</a>\n",
       "</g>\n",
       "</a>\n",
       "</g>\n",
       "</a>\n",
       "</g>\n",
       "</g>\n",
       "<!-- Tracer&#45;&gt;StackInspector -->\n",
       "<g id=\"edge4\" class=\"edge\">\n",
       "<title>Tracer&#45;&gt;StackInspector</title>\n",
       "<path fill=\"none\" stroke=\"black\" d=\"M159,-464.25C159,-471.65 159,-480.58 159,-489.21\"/>\n",
       "<polygon fill=\"none\" stroke=\"black\" points=\"155.5,-489.11 159,-499.11 162.5,-489.11 155.5,-489.11\"/>\n",
       "</g>\n",
       "<!-- InvariantAnnotator -->\n",
       "<g id=\"node6\" class=\"node\">\n",
       "<title>InvariantAnnotator</title>\n",
       "<g id=\"a_node6\"><a xlink:href=\"#\" xlink:title=\"class InvariantAnnotator:&#10;A class for tracing a piece of code. Use as `with Tracer(): block()`\">\n",
       "<polygon fill=\"none\" stroke=\"black\" points=\"160,-0.5 160,-110.25 338,-110.25 338,-0.5 160,-0.5\"/>\n",
       "<text xml:space=\"preserve\" text-anchor=\"start\" x=\"186.38\" y=\"-93.95\" font-family=\"Raleway, Helvetica, Arial, sans-serif\" font-weight=\"bold\" font-size=\"14.00\" fill=\"#6a0dad\">InvariantAnnotator</text>\n",
       "<polyline fill=\"none\" stroke=\"black\" points=\"160,-85 338,-85\"/>\n",
       "<g id=\"a_node6_17\"><a xlink:href=\"#\" xlink:title=\"InvariantAnnotator\">\n",
       "<g id=\"a_node6_18\"><a xlink:href=\"#\" xlink:title=\"__repr__(self) &#45;&gt; str:&#10;String representation, like `functions_with_invariants()`\">\n",
       "<text xml:space=\"preserve\" text-anchor=\"start\" x=\"168\" y=\"-72.5\" font-family=\"'Fira Mono', 'Source Code Pro', 'Courier', monospace\" font-weight=\"bold\" font-size=\"10.00\">__repr__()</text>\n",
       "</a>\n",
       "</g>\n",
       "<g id=\"a_node6_19\"><a xlink:href=\"#\" xlink:title=\"function_with_invariants(self, function_name: str) &#45;&gt; str:&#10;Return the code of `function_name`, annotated with invariants\">\n",
       "<text xml:space=\"preserve\" text-anchor=\"start\" x=\"168\" y=\"-59.75\" font-family=\"'Fira Mono', 'Source Code Pro', 'Courier', monospace\" font-weight=\"bold\" font-size=\"10.00\">function_with_invariants()</text>\n",
       "</a>\n",
       "</g>\n",
       "<g id=\"a_node6_20\"><a xlink:href=\"#\" xlink:title=\"functions_with_invariants(self) &#45;&gt; str:&#10;Return the code of all observed functions, annotated with invariants\">\n",
       "<text xml:space=\"preserve\" text-anchor=\"start\" x=\"168\" y=\"-47\" font-family=\"'Fira Mono', 'Source Code Pro', 'Courier', monospace\" font-weight=\"bold\" font-size=\"10.00\">functions_with_invariants()</text>\n",
       "</a>\n",
       "</g>\n",
       "<g id=\"a_node6_21\"><a xlink:href=\"#\" xlink:title=\"postconditions(self, function_name: str) &#45;&gt; List[str]:&#10;Return a list of mined postconditions for `function_name`\">\n",
       "<text xml:space=\"preserve\" text-anchor=\"start\" x=\"168\" y=\"-34.25\" font-family=\"'Fira Mono', 'Source Code Pro', 'Courier', monospace\" font-weight=\"bold\" font-size=\"10.00\">postconditions()</text>\n",
       "</a>\n",
       "</g>\n",
       "<g id=\"a_node6_22\"><a xlink:href=\"#\" xlink:title=\"preconditions(self, function_name: str) &#45;&gt; List[str]:&#10;Return a list of mined preconditions for `function_name`\">\n",
       "<text xml:space=\"preserve\" text-anchor=\"start\" x=\"168\" y=\"-21.5\" font-family=\"'Fira Mono', 'Source Code Pro', 'Courier', monospace\" font-weight=\"bold\" font-size=\"10.00\">preconditions()</text>\n",
       "</a>\n",
       "</g>\n",
       "<g id=\"a_node6_23\"><a xlink:href=\"#\" xlink:title=\"params(self, function_name: str) &#45;&gt; str\">\n",
       "<text xml:space=\"preserve\" text-anchor=\"start\" x=\"168\" y=\"-7.75\" font-family=\"'Fira Mono', 'Source Code Pro', 'Courier', monospace\" font-size=\"10.00\">params()</text>\n",
       "</a>\n",
       "</g>\n",
       "</a>\n",
       "</g>\n",
       "</a>\n",
       "</g>\n",
       "</g>\n",
       "<!-- InvariantTracer -->\n",
       "<g id=\"node7\" class=\"node\">\n",
       "<title>InvariantTracer</title>\n",
       "<g id=\"a_node7\"><a xlink:href=\"#\" xlink:title=\"class InvariantTracer:&#10;A class for tracing a piece of code. Use as `with Tracer(): block()`\">\n",
       "<polygon fill=\"none\" stroke=\"black\" points=\"175.75,-147.25 175.75,-218.75 292.25,-218.75 292.25,-147.25 175.75,-147.25\"/>\n",
       "<text xml:space=\"preserve\" text-anchor=\"start\" x=\"183.75\" y=\"-202.45\" font-family=\"Raleway, Helvetica, Arial, sans-serif\" font-weight=\"bold\" font-size=\"14.00\" fill=\"#6a0dad\">InvariantTracer</text>\n",
       "<polyline fill=\"none\" stroke=\"black\" points=\"175.75,-193.5 292.25,-193.5\"/>\n",
       "<g id=\"a_node7_24\"><a xlink:href=\"#\" xlink:title=\"InvariantTracer\">\n",
       "<g id=\"a_node7_25\"><a xlink:href=\"#\" xlink:title=\"__init__(self, props: Optional[List[str]] = None, **kwargs: Any) &#45;&gt; None:&#10;Create a new tracer.&#10;If `file` is given, output to `file` instead of stdout.\">\n",
       "<text xml:space=\"preserve\" text-anchor=\"start\" x=\"186\" y=\"-181\" font-family=\"'Fira Mono', 'Source Code Pro', 'Courier', monospace\" font-weight=\"bold\" font-style=\"italic\" font-size=\"10.00\">__init__()</text>\n",
       "</a>\n",
       "</g>\n",
       "<g id=\"a_node7_26\"><a xlink:href=\"#\" xlink:title=\"all_invariants(self) &#45;&gt; Dict[str, Set[Tuple[str, Tuple[str, ...]]]]\">\n",
       "<text xml:space=\"preserve\" text-anchor=\"start\" x=\"186\" y=\"-167.25\" font-family=\"'Fira Mono', 'Source Code Pro', 'Courier', monospace\" font-size=\"10.00\">all_invariants()</text>\n",
       "</a>\n",
       "</g>\n",
       "<g id=\"a_node7_27\"><a xlink:href=\"#\" xlink:title=\"invariants(self, function_name: str) &#45;&gt; Set[Tuple[str, Tuple[str, ...]]]\">\n",
       "<text xml:space=\"preserve\" text-anchor=\"start\" x=\"186\" y=\"-154.5\" font-family=\"'Fira Mono', 'Source Code Pro', 'Courier', monospace\" font-size=\"10.00\">invariants()</text>\n",
       "</a>\n",
       "</g>\n",
       "</a>\n",
       "</g>\n",
       "</a>\n",
       "</g>\n",
       "</g>\n",
       "<!-- InvariantAnnotator&#45;&gt;InvariantTracer -->\n",
       "<g id=\"edge5\" class=\"edge\">\n",
       "<title>InvariantAnnotator&#45;&gt;InvariantTracer</title>\n",
       "<path fill=\"none\" stroke=\"black\" d=\"M242.51,-110.75C241.53,-118.94 240.53,-127.34 239.57,-135.35\"/>\n",
       "<polygon fill=\"none\" stroke=\"black\" points=\"236.1,-134.91 238.39,-145.26 243.05,-135.74 236.1,-134.91\"/>\n",
       "</g>\n",
       "<!-- InvariantTracer&#45;&gt;CallTracer -->\n",
       "<g id=\"edge6\" class=\"edge\">\n",
       "<title>InvariantTracer&#45;&gt;CallTracer</title>\n",
       "<path fill=\"none\" stroke=\"black\" d=\"M215.07,-218.92C210.64,-227.09 205.75,-236.12 200.76,-245.33\"/>\n",
       "<polygon fill=\"none\" stroke=\"black\" points=\"197.73,-243.58 196.04,-254.04 203.88,-246.92 197.73,-243.58\"/>\n",
       "</g>\n",
       "<!-- Legend -->\n",
       "<g id=\"node8\" class=\"node\">\n",
       "<title>Legend</title>\n",
       "<text xml:space=\"preserve\" text-anchor=\"start\" x=\"356.38\" y=\"-71.38\" font-family=\"Raleway, Helvetica, Arial, sans-serif\" font-weight=\"bold\" font-size=\"10.00\" fill=\"#6a0dad\">Legend</text>\n",
       "<text xml:space=\"preserve\" text-anchor=\"start\" x=\"356.38\" y=\"-61.38\" font-family=\"Raleway, Helvetica, Arial, sans-serif\" font-size=\"10.00\">• </text>\n",
       "<text xml:space=\"preserve\" text-anchor=\"start\" x=\"362.38\" y=\"-61.38\" font-family=\"'Fira Mono', 'Source Code Pro', 'Courier', monospace\" font-weight=\"bold\" font-size=\"8.00\">public_method()</text>\n",
       "<text xml:space=\"preserve\" text-anchor=\"start\" x=\"356.38\" y=\"-51.38\" font-family=\"Raleway, Helvetica, Arial, sans-serif\" font-size=\"10.00\">• </text>\n",
       "<text xml:space=\"preserve\" text-anchor=\"start\" x=\"362.38\" y=\"-51.38\" font-family=\"'Fira Mono', 'Source Code Pro', 'Courier', monospace\" font-size=\"8.00\">private_method()</text>\n",
       "<text xml:space=\"preserve\" text-anchor=\"start\" x=\"356.38\" y=\"-41.38\" font-family=\"Raleway, Helvetica, Arial, sans-serif\" font-size=\"10.00\">• </text>\n",
       "<text xml:space=\"preserve\" text-anchor=\"start\" x=\"362.38\" y=\"-41.38\" font-family=\"'Fira Mono', 'Source Code Pro', 'Courier', monospace\" font-style=\"italic\" font-size=\"8.00\">overloaded_method()</text>\n",
       "<text xml:space=\"preserve\" text-anchor=\"start\" x=\"356.38\" y=\"-32.33\" font-family=\"Helvetica,sans-Serif\" font-size=\"9.00\">Hover over names to see doc</text>\n",
       "</g>\n",
       "</g>\n",
       "</svg>\n"
      ],
      "text/html": [
       "<?xml version=\"1.0\" encoding=\"UTF-8\" standalone=\"no\"?>\n",
       "<!DOCTYPE svg PUBLIC \"-//W3C//DTD SVG 1.1//EN\"\n",
       " \"http://www.w3.org/Graphics/SVG/1.1/DTD/svg11.dtd\">\n",
       "<!-- Generated by graphviz version 14.0.2 (20251019.1705)\n",
       " -->\n",
       "<!-- Pages: 1 -->\n",
       "<svg width=\"484pt\" height=\"556pt\"\n",
       " viewBox=\"0.00 0.00 484.00 556.00\" xmlns=\"http://www.w3.org/2000/svg\" xmlns:xlink=\"http://www.w3.org/1999/xlink\">\n",
       "<g id=\"graph0\" class=\"graph\" transform=\"scale(1 1) rotate(0) translate(4 551.5)\">\n",
       "<g id=\"a_graph0\"><a xlink:title=\"TypeAnnotator class hierarchy\">\n",
       "<polygon fill=\"white\" stroke=\"none\" points=\"-4,4 -4,-551.5 479.62,-551.5 479.62,4 -4,4\"/>\n",
       "</a>\n",
       "</g>\n",
       "<!-- TypeAnnotator -->\n",
       "<g id=\"node1\" class=\"node\">\n",
       "<title>TypeAnnotator</title>\n",
       "<g id=\"a_node1\"><a xlink:href=\"#\" xlink:title=\"class TypeAnnotator:&#10;A class for tracing a piece of code. Use as `with Tracer(): block()`\">\n",
       "<polygon fill=\"none\" stroke=\"black\" points=\"0,-6.88 0,-103.88 142,-103.88 142,-6.88 0,-6.88\"/>\n",
       "<text xml:space=\"preserve\" text-anchor=\"start\" x=\"21.12\" y=\"-87.58\" font-family=\"Raleway, Helvetica, Arial, sans-serif\" font-weight=\"bold\" font-size=\"14.00\" fill=\"#6a0dad\">TypeAnnotator</text>\n",
       "<polyline fill=\"none\" stroke=\"black\" points=\"0,-78.62 142,-78.62\"/>\n",
       "<g id=\"a_node1_0\"><a xlink:href=\"#\" xlink:title=\"TypeAnnotator\">\n",
       "<g id=\"a_node1_1\"><a xlink:href=\"#\" xlink:title=\"__repr__(self) &#45;&gt; str:&#10;String representation, like `typed_functions()`\">\n",
       "<text xml:space=\"preserve\" text-anchor=\"start\" x=\"8\" y=\"-66.12\" font-family=\"'Fira Mono', 'Source Code Pro', 'Courier', monospace\" font-weight=\"bold\" font-size=\"10.00\">__repr__()</text>\n",
       "</a>\n",
       "</g>\n",
       "<g id=\"a_node1_2\"><a xlink:href=\"#\" xlink:title=\"typed_function(self, function_name: str) &#45;&gt; str:&#10;Return the code for all calls of `function_name` observed, annotated with types\">\n",
       "<text xml:space=\"preserve\" text-anchor=\"start\" x=\"8\" y=\"-53.38\" font-family=\"'Fira Mono', 'Source Code Pro', 'Courier', monospace\" font-weight=\"bold\" font-size=\"10.00\">typed_function()</text>\n",
       "</a>\n",
       "</g>\n",
       "<g id=\"a_node1_3\"><a xlink:href=\"#\" xlink:title=\"typed_function_ast(self, function_name: str) &#45;&gt; Optional[ast.AST]:&#10;Return an AST for all calls of `function_name` observed, annotated with types\">\n",
       "<text xml:space=\"preserve\" text-anchor=\"start\" x=\"8\" y=\"-40.62\" font-family=\"'Fira Mono', 'Source Code Pro', 'Courier', monospace\" font-weight=\"bold\" font-size=\"10.00\">typed_function_ast()</text>\n",
       "</a>\n",
       "</g>\n",
       "<g id=\"a_node1_4\"><a xlink:href=\"#\" xlink:title=\"typed_functions(self) &#45;&gt; str:&#10;Return the code for all functions observed, annotated with types\">\n",
       "<text xml:space=\"preserve\" text-anchor=\"start\" x=\"8\" y=\"-27.88\" font-family=\"'Fira Mono', 'Source Code Pro', 'Courier', monospace\" font-weight=\"bold\" font-size=\"10.00\">typed_functions()</text>\n",
       "</a>\n",
       "</g>\n",
       "<g id=\"a_node1_5\"><a xlink:href=\"#\" xlink:title=\"typed_functions_ast(self) &#45;&gt; Dict[str, ast.AST]:&#10;Return a dict name &#45;&gt; AST for all functions observed, annotated with types\">\n",
       "<text xml:space=\"preserve\" text-anchor=\"start\" x=\"8\" y=\"-15.12\" font-family=\"'Fira Mono', 'Source Code Pro', 'Courier', monospace\" font-weight=\"bold\" font-size=\"10.00\">typed_functions_ast()</text>\n",
       "</a>\n",
       "</g>\n",
       "</a>\n",
       "</g>\n",
       "</a>\n",
       "</g>\n",
       "</g>\n",
       "<!-- TypeTracer -->\n",
       "<g id=\"node2\" class=\"node\">\n",
       "<title>TypeTracer</title>\n",
       "<g id=\"a_node2\"><a xlink:href=\"#\" xlink:title=\"class TypeTracer:&#10;A class for tracing a piece of code. Use as `with Tracer(): block()`\">\n",
       "<polygon fill=\"none\" stroke=\"black\" points=\"53.88,-165 53.88,-201 144.12,-201 144.12,-165 53.88,-165\"/>\n",
       "<text xml:space=\"preserve\" text-anchor=\"start\" x=\"61.88\" y=\"-179.7\" font-family=\"Raleway, Helvetica, Arial, sans-serif\" font-weight=\"bold\" font-size=\"14.00\" fill=\"#6a0dad\">TypeTracer</text>\n",
       "</a>\n",
       "</g>\n",
       "</g>\n",
       "<!-- TypeAnnotator&#45;&gt;TypeTracer -->\n",
       "<g id=\"edge1\" class=\"edge\">\n",
       "<title>TypeAnnotator&#45;&gt;TypeTracer</title>\n",
       "<path fill=\"none\" stroke=\"black\" d=\"M81.67,-104.23C85.4,-120.97 89.46,-139.22 92.72,-153.83\"/>\n",
       "<polygon fill=\"none\" stroke=\"black\" points=\"89.22,-154.19 94.81,-163.19 96.05,-152.67 89.22,-154.19\"/>\n",
       "</g>\n",
       "<!-- CallTracer -->\n",
       "<g id=\"node3\" class=\"node\">\n",
       "<title>CallTracer</title>\n",
       "<g id=\"a_node3\"><a xlink:href=\"#\" xlink:title=\"class CallTracer:&#10;A class for tracing a piece of code. Use as `with Tracer(): block()`\">\n",
       "<polygon fill=\"none\" stroke=\"black\" points=\"109,-255.75 109,-391 209,-391 209,-255.75 109,-255.75\"/>\n",
       "<text xml:space=\"preserve\" text-anchor=\"start\" x=\"124.5\" y=\"-374.7\" font-family=\"Raleway, Helvetica, Arial, sans-serif\" font-weight=\"bold\" font-size=\"14.00\" fill=\"#6a0dad\">CallTracer</text>\n",
       "<polyline fill=\"none\" stroke=\"black\" points=\"109,-365.75 209,-365.75\"/>\n",
       "<g id=\"a_node3_6\"><a xlink:href=\"#\" xlink:title=\"CallTracer\">\n",
       "<g id=\"a_node3_7\"><a xlink:href=\"#\" xlink:title=\"__init__(self, log: bool = False, **kwargs: Any) &#45;&gt; None:&#10;Create a new tracer.&#10;If `file` is given, output to `file` instead of stdout.\">\n",
       "<text xml:space=\"preserve\" text-anchor=\"start\" x=\"117\" y=\"-353.25\" font-family=\"'Fira Mono', 'Source Code Pro', 'Courier', monospace\" font-weight=\"bold\" font-style=\"italic\" font-size=\"10.00\">__init__()</text>\n",
       "</a>\n",
       "</g>\n",
       "<g id=\"a_node3_8\"><a xlink:href=\"#\" xlink:title=\"add_call(self, function_name: str, arguments: List[Tuple[str, Any]], return_value: Any = None) &#45;&gt; None:&#10;Add given call to list of calls\">\n",
       "<text xml:space=\"preserve\" text-anchor=\"start\" x=\"117\" y=\"-339.5\" font-family=\"'Fira Mono', 'Source Code Pro', 'Courier', monospace\" font-size=\"10.00\">add_call()</text>\n",
       "</a>\n",
       "</g>\n",
       "<g id=\"a_node3_9\"><a xlink:href=\"#\" xlink:title=\"all_calls(self) &#45;&gt; Dict[str, List[Tuple[List[Tuple[str, Any]], Any]]]:&#10;Return list of calls for function_name,&#10;or a mapping function_name &#45;&gt; calls for all functions tracked\">\n",
       "<text xml:space=\"preserve\" text-anchor=\"start\" x=\"117\" y=\"-326.75\" font-family=\"'Fira Mono', 'Source Code Pro', 'Courier', monospace\" font-size=\"10.00\">all_calls()</text>\n",
       "</a>\n",
       "</g>\n",
       "<g id=\"a_node3_10\"><a xlink:href=\"#\" xlink:title=\"calls(self, function_name: str) &#45;&gt; List[Tuple[List[Tuple[str, Any]], Any]]:&#10;Return list of calls for `function_name`.\">\n",
       "<text xml:space=\"preserve\" text-anchor=\"start\" x=\"117\" y=\"-314\" font-family=\"'Fira Mono', 'Source Code Pro', 'Courier', monospace\" font-size=\"10.00\">calls()</text>\n",
       "</a>\n",
       "</g>\n",
       "<g id=\"a_node3_11\"><a xlink:href=\"#\" xlink:title=\"reset(self) &#45;&gt; None\">\n",
       "<text xml:space=\"preserve\" text-anchor=\"start\" x=\"117\" y=\"-301.25\" font-family=\"'Fira Mono', 'Source Code Pro', 'Courier', monospace\" font-size=\"10.00\">reset()</text>\n",
       "</a>\n",
       "</g>\n",
       "<g id=\"a_node3_12\"><a xlink:href=\"#\" xlink:title=\"trace_call(self, frame: frame, event: str, arg: Any) &#45;&gt; None:&#10;Save current function name and args on the stack\">\n",
       "<text xml:space=\"preserve\" text-anchor=\"start\" x=\"117\" y=\"-288.5\" font-family=\"'Fira Mono', 'Source Code Pro', 'Courier', monospace\" font-size=\"10.00\">trace_call()</text>\n",
       "</a>\n",
       "</g>\n",
       "<g id=\"a_node3_13\"><a xlink:href=\"#\" xlink:title=\"trace_return(self, frame: frame, event: str, arg: Any) &#45;&gt; None:&#10;Get return value and store complete call with arguments and return value\">\n",
       "<text xml:space=\"preserve\" text-anchor=\"start\" x=\"117\" y=\"-275.75\" font-family=\"'Fira Mono', 'Source Code Pro', 'Courier', monospace\" font-size=\"10.00\">trace_return()</text>\n",
       "</a>\n",
       "</g>\n",
       "<g id=\"a_node3_14\"><a xlink:href=\"#\" xlink:title=\"traceit(self, frame: frame, event: str, arg: Any) &#45;&gt; None:&#10;Tracking function: Record all calls and all args\">\n",
       "<text xml:space=\"preserve\" text-anchor=\"start\" x=\"117\" y=\"-264\" font-family=\"'Fira Mono', 'Source Code Pro', 'Courier', monospace\" font-style=\"italic\" font-size=\"10.00\">traceit()</text>\n",
       "</a>\n",
       "</g>\n",
       "</a>\n",
       "</g>\n",
       "</a>\n",
       "</g>\n",
       "</g>\n",
       "<!-- TypeTracer&#45;&gt;CallTracer -->\n",
       "<g id=\"edge2\" class=\"edge\">\n",
       "<title>TypeTracer&#45;&gt;CallTracer</title>\n",
       "<path fill=\"none\" stroke=\"black\" d=\"M106.48,-201.25C111.45,-212.7 118.36,-228.64 125.54,-245.2\"/>\n",
       "<polygon fill=\"none\" stroke=\"black\" points=\"122.24,-246.39 129.43,-254.17 128.66,-243.6 122.24,-246.39\"/>\n",
       "</g>\n",
       "<!-- Tracer -->\n",
       "<g id=\"node4\" class=\"node\">\n",
       "<title>Tracer</title>\n",
       "<g id=\"a_node4\"><a xlink:href=\"Tracer.ipynb\" xlink:title=\"class Tracer:&#10;A class for tracing a piece of code. Use as `with Tracer(): block()`\">\n",
       "<polygon fill=\"none\" stroke=\"black\" points=\"129.62,-428 129.62,-464 188.38,-464 188.38,-428 129.62,-428\"/>\n",
       "<text xml:space=\"preserve\" text-anchor=\"start\" x=\"137.62\" y=\"-442.7\" font-family=\"Raleway, Helvetica, Arial, sans-serif\" font-weight=\"bold\" font-size=\"14.00\" fill=\"#6a0dad\">Tracer</text>\n",
       "</a>\n",
       "</g>\n",
       "</g>\n",
       "<!-- CallTracer&#45;&gt;Tracer -->\n",
       "<g id=\"edge3\" class=\"edge\">\n",
       "<title>CallTracer&#45;&gt;Tracer</title>\n",
       "<path fill=\"none\" stroke=\"black\" d=\"M159,-391.39C159,-400.11 159,-408.64 159,-416.24\"/>\n",
       "<polygon fill=\"none\" stroke=\"black\" points=\"155.5,-416.15 159,-426.15 162.5,-416.15 155.5,-416.15\"/>\n",
       "</g>\n",
       "<!-- StackInspector -->\n",
       "<g id=\"node5\" class=\"node\">\n",
       "<title>StackInspector</title>\n",
       "<g id=\"a_node5\"><a xlink:href=\"StackInspector.ipynb\" xlink:title=\"class StackInspector:&#10;Provide functions to inspect the stack\">\n",
       "<polygon fill=\"none\" stroke=\"black\" points=\"76,-501 76,-547 242,-547 242,-501 76,-501\"/>\n",
       "<text xml:space=\"preserve\" text-anchor=\"start\" x=\"108.75\" y=\"-530.7\" font-family=\"Raleway, Helvetica, Arial, sans-serif\" font-weight=\"bold\" font-size=\"14.00\" fill=\"#6a0dad\">StackInspector</text>\n",
       "<polyline fill=\"none\" stroke=\"black\" points=\"76,-521.75 242,-521.75\"/>\n",
       "<g id=\"a_node5_15\"><a xlink:href=\"#\" xlink:title=\"StackInspector\">\n",
       "<g id=\"a_node5_16\"><a xlink:href=\"StackInspector.ipynb\" xlink:title=\"_generated_function_cache = {}\">\n",
       "<text xml:space=\"preserve\" text-anchor=\"start\" x=\"84\" y=\"-508.25\" font-family=\"'Fira Mono', 'Source Code Pro', 'Courier', monospace\" font-size=\"10.00\">_generated_function_cache</text>\n",
       "</a>\n",
       "</g>\n",
       "</a>\n",
       "</g>\n",
       "</a>\n",
       "</g>\n",
       "</g>\n",
       "<!-- Tracer&#45;&gt;StackInspector -->\n",
       "<g id=\"edge4\" class=\"edge\">\n",
       "<title>Tracer&#45;&gt;StackInspector</title>\n",
       "<path fill=\"none\" stroke=\"black\" d=\"M159,-464.25C159,-471.65 159,-480.58 159,-489.21\"/>\n",
       "<polygon fill=\"none\" stroke=\"black\" points=\"155.5,-489.11 159,-499.11 162.5,-489.11 155.5,-489.11\"/>\n",
       "</g>\n",
       "<!-- InvariantAnnotator -->\n",
       "<g id=\"node6\" class=\"node\">\n",
       "<title>InvariantAnnotator</title>\n",
       "<g id=\"a_node6\"><a xlink:href=\"#\" xlink:title=\"class InvariantAnnotator:&#10;A class for tracing a piece of code. Use as `with Tracer(): block()`\">\n",
       "<polygon fill=\"none\" stroke=\"black\" points=\"160,-0.5 160,-110.25 338,-110.25 338,-0.5 160,-0.5\"/>\n",
       "<text xml:space=\"preserve\" text-anchor=\"start\" x=\"186.38\" y=\"-93.95\" font-family=\"Raleway, Helvetica, Arial, sans-serif\" font-weight=\"bold\" font-size=\"14.00\" fill=\"#6a0dad\">InvariantAnnotator</text>\n",
       "<polyline fill=\"none\" stroke=\"black\" points=\"160,-85 338,-85\"/>\n",
       "<g id=\"a_node6_17\"><a xlink:href=\"#\" xlink:title=\"InvariantAnnotator\">\n",
       "<g id=\"a_node6_18\"><a xlink:href=\"#\" xlink:title=\"__repr__(self) &#45;&gt; str:&#10;String representation, like `functions_with_invariants()`\">\n",
       "<text xml:space=\"preserve\" text-anchor=\"start\" x=\"168\" y=\"-72.5\" font-family=\"'Fira Mono', 'Source Code Pro', 'Courier', monospace\" font-weight=\"bold\" font-size=\"10.00\">__repr__()</text>\n",
       "</a>\n",
       "</g>\n",
       "<g id=\"a_node6_19\"><a xlink:href=\"#\" xlink:title=\"function_with_invariants(self, function_name: str) &#45;&gt; str:&#10;Return the code of `function_name`, annotated with invariants\">\n",
       "<text xml:space=\"preserve\" text-anchor=\"start\" x=\"168\" y=\"-59.75\" font-family=\"'Fira Mono', 'Source Code Pro', 'Courier', monospace\" font-weight=\"bold\" font-size=\"10.00\">function_with_invariants()</text>\n",
       "</a>\n",
       "</g>\n",
       "<g id=\"a_node6_20\"><a xlink:href=\"#\" xlink:title=\"functions_with_invariants(self) &#45;&gt; str:&#10;Return the code of all observed functions, annotated with invariants\">\n",
       "<text xml:space=\"preserve\" text-anchor=\"start\" x=\"168\" y=\"-47\" font-family=\"'Fira Mono', 'Source Code Pro', 'Courier', monospace\" font-weight=\"bold\" font-size=\"10.00\">functions_with_invariants()</text>\n",
       "</a>\n",
       "</g>\n",
       "<g id=\"a_node6_21\"><a xlink:href=\"#\" xlink:title=\"postconditions(self, function_name: str) &#45;&gt; List[str]:&#10;Return a list of mined postconditions for `function_name`\">\n",
       "<text xml:space=\"preserve\" text-anchor=\"start\" x=\"168\" y=\"-34.25\" font-family=\"'Fira Mono', 'Source Code Pro', 'Courier', monospace\" font-weight=\"bold\" font-size=\"10.00\">postconditions()</text>\n",
       "</a>\n",
       "</g>\n",
       "<g id=\"a_node6_22\"><a xlink:href=\"#\" xlink:title=\"preconditions(self, function_name: str) &#45;&gt; List[str]:&#10;Return a list of mined preconditions for `function_name`\">\n",
       "<text xml:space=\"preserve\" text-anchor=\"start\" x=\"168\" y=\"-21.5\" font-family=\"'Fira Mono', 'Source Code Pro', 'Courier', monospace\" font-weight=\"bold\" font-size=\"10.00\">preconditions()</text>\n",
       "</a>\n",
       "</g>\n",
       "<g id=\"a_node6_23\"><a xlink:href=\"#\" xlink:title=\"params(self, function_name: str) &#45;&gt; str\">\n",
       "<text xml:space=\"preserve\" text-anchor=\"start\" x=\"168\" y=\"-7.75\" font-family=\"'Fira Mono', 'Source Code Pro', 'Courier', monospace\" font-size=\"10.00\">params()</text>\n",
       "</a>\n",
       "</g>\n",
       "</a>\n",
       "</g>\n",
       "</a>\n",
       "</g>\n",
       "</g>\n",
       "<!-- InvariantTracer -->\n",
       "<g id=\"node7\" class=\"node\">\n",
       "<title>InvariantTracer</title>\n",
       "<g id=\"a_node7\"><a xlink:href=\"#\" xlink:title=\"class InvariantTracer:&#10;A class for tracing a piece of code. Use as `with Tracer(): block()`\">\n",
       "<polygon fill=\"none\" stroke=\"black\" points=\"175.75,-147.25 175.75,-218.75 292.25,-218.75 292.25,-147.25 175.75,-147.25\"/>\n",
       "<text xml:space=\"preserve\" text-anchor=\"start\" x=\"183.75\" y=\"-202.45\" font-family=\"Raleway, Helvetica, Arial, sans-serif\" font-weight=\"bold\" font-size=\"14.00\" fill=\"#6a0dad\">InvariantTracer</text>\n",
       "<polyline fill=\"none\" stroke=\"black\" points=\"175.75,-193.5 292.25,-193.5\"/>\n",
       "<g id=\"a_node7_24\"><a xlink:href=\"#\" xlink:title=\"InvariantTracer\">\n",
       "<g id=\"a_node7_25\"><a xlink:href=\"#\" xlink:title=\"__init__(self, props: Optional[List[str]] = None, **kwargs: Any) &#45;&gt; None:&#10;Create a new tracer.&#10;If `file` is given, output to `file` instead of stdout.\">\n",
       "<text xml:space=\"preserve\" text-anchor=\"start\" x=\"186\" y=\"-181\" font-family=\"'Fira Mono', 'Source Code Pro', 'Courier', monospace\" font-weight=\"bold\" font-style=\"italic\" font-size=\"10.00\">__init__()</text>\n",
       "</a>\n",
       "</g>\n",
       "<g id=\"a_node7_26\"><a xlink:href=\"#\" xlink:title=\"all_invariants(self) &#45;&gt; Dict[str, Set[Tuple[str, Tuple[str, ...]]]]\">\n",
       "<text xml:space=\"preserve\" text-anchor=\"start\" x=\"186\" y=\"-167.25\" font-family=\"'Fira Mono', 'Source Code Pro', 'Courier', monospace\" font-size=\"10.00\">all_invariants()</text>\n",
       "</a>\n",
       "</g>\n",
       "<g id=\"a_node7_27\"><a xlink:href=\"#\" xlink:title=\"invariants(self, function_name: str) &#45;&gt; Set[Tuple[str, Tuple[str, ...]]]\">\n",
       "<text xml:space=\"preserve\" text-anchor=\"start\" x=\"186\" y=\"-154.5\" font-family=\"'Fira Mono', 'Source Code Pro', 'Courier', monospace\" font-size=\"10.00\">invariants()</text>\n",
       "</a>\n",
       "</g>\n",
       "</a>\n",
       "</g>\n",
       "</a>\n",
       "</g>\n",
       "</g>\n",
       "<!-- InvariantAnnotator&#45;&gt;InvariantTracer -->\n",
       "<g id=\"edge5\" class=\"edge\">\n",
       "<title>InvariantAnnotator&#45;&gt;InvariantTracer</title>\n",
       "<path fill=\"none\" stroke=\"black\" d=\"M242.51,-110.75C241.53,-118.94 240.53,-127.34 239.57,-135.35\"/>\n",
       "<polygon fill=\"none\" stroke=\"black\" points=\"236.1,-134.91 238.39,-145.26 243.05,-135.74 236.1,-134.91\"/>\n",
       "</g>\n",
       "<!-- InvariantTracer&#45;&gt;CallTracer -->\n",
       "<g id=\"edge6\" class=\"edge\">\n",
       "<title>InvariantTracer&#45;&gt;CallTracer</title>\n",
       "<path fill=\"none\" stroke=\"black\" d=\"M215.07,-218.92C210.64,-227.09 205.75,-236.12 200.76,-245.33\"/>\n",
       "<polygon fill=\"none\" stroke=\"black\" points=\"197.73,-243.58 196.04,-254.04 203.88,-246.92 197.73,-243.58\"/>\n",
       "</g>\n",
       "<!-- Legend -->\n",
       "<g id=\"node8\" class=\"node\">\n",
       "<title>Legend</title>\n",
       "<text xml:space=\"preserve\" text-anchor=\"start\" x=\"356.38\" y=\"-71.38\" font-family=\"Raleway, Helvetica, Arial, sans-serif\" font-weight=\"bold\" font-size=\"10.00\" fill=\"#6a0dad\">Legend</text>\n",
       "<text xml:space=\"preserve\" text-anchor=\"start\" x=\"356.38\" y=\"-61.38\" font-family=\"Raleway, Helvetica, Arial, sans-serif\" font-size=\"10.00\">• </text>\n",
       "<text xml:space=\"preserve\" text-anchor=\"start\" x=\"362.38\" y=\"-61.38\" font-family=\"'Fira Mono', 'Source Code Pro', 'Courier', monospace\" font-weight=\"bold\" font-size=\"8.00\">public_method()</text>\n",
       "<text xml:space=\"preserve\" text-anchor=\"start\" x=\"356.38\" y=\"-51.38\" font-family=\"Raleway, Helvetica, Arial, sans-serif\" font-size=\"10.00\">• </text>\n",
       "<text xml:space=\"preserve\" text-anchor=\"start\" x=\"362.38\" y=\"-51.38\" font-family=\"'Fira Mono', 'Source Code Pro', 'Courier', monospace\" font-size=\"8.00\">private_method()</text>\n",
       "<text xml:space=\"preserve\" text-anchor=\"start\" x=\"356.38\" y=\"-41.38\" font-family=\"Raleway, Helvetica, Arial, sans-serif\" font-size=\"10.00\">• </text>\n",
       "<text xml:space=\"preserve\" text-anchor=\"start\" x=\"362.38\" y=\"-41.38\" font-family=\"'Fira Mono', 'Source Code Pro', 'Courier', monospace\" font-style=\"italic\" font-size=\"8.00\">overloaded_method()</text>\n",
       "<text xml:space=\"preserve\" text-anchor=\"start\" x=\"356.38\" y=\"-32.33\" font-family=\"Helvetica,sans-Serif\" font-size=\"9.00\">Hover over names to see doc</text>\n",
       "</g>\n",
       "</g>\n",
       "</svg>\n"
      ],
      "text/plain": [
       "<graphviz.graphs.Digraph at 0x10e520590>"
      ]
     },
     "execution_count": 219,
     "metadata": {},
     "output_type": "execute_result"
    }
   ],
   "source": [
    "# ignore\n",
    "display_class_hierarchy([TypeAnnotator, InvariantAnnotator],\n",
    "                        public_methods=[\n",
    "                            TypeAnnotator.typed_function,\n",
    "                            TypeAnnotator.typed_functions,\n",
    "                            TypeAnnotator.typed_function_ast,\n",
    "                            TypeAnnotator.typed_functions_ast,\n",
    "                            TypeAnnotator.__repr__,\n",
    "                            InvariantAnnotator.function_with_invariants,\n",
    "                            InvariantAnnotator.functions_with_invariants,\n",
    "                            InvariantAnnotator.preconditions,\n",
    "                            InvariantAnnotator.postconditions,\n",
    "                            InvariantAnnotator.__repr__,\n",
    "                            InvariantTracer.__init__,\n",
    "                            CallTracer.__init__\n",
    "                        ],\n",
    "                        project='debuggingbook'\n",
    "                       )"
   ]
  },
  {
   "cell_type": "markdown",
   "metadata": {
    "button": false,
    "new_sheet": true,
    "run_control": {
     "read_only": false
    },
    "slideshow": {
     "slide_type": "slide"
    }
   },
   "source": [
    "## Specifications and Assertions\n",
    "\n",
    "When implementing a function or program, one usually works against a _specification_ – a set of documented requirements to be satisfied by the code.  Such specifications can come in natural language.  A formal specification, however, allows the computer to check whether the specification is satisfied.\n",
    "\n",
    "In the [chapter on assertions](Assertions.ipynb), we have seen how _preconditions_ and _postconditions_ can describe what a function does.  Consider the following (simple) square root function:"
   ]
  },
  {
   "cell_type": "code",
   "execution_count": 5,
   "metadata": {
    "execution": {
     "iopub.execute_input": "2025-10-26T17:48:22.788479Z",
     "iopub.status.busy": "2025-10-26T17:48:22.788377Z",
     "iopub.status.idle": "2025-10-26T17:48:22.790244Z",
     "shell.execute_reply": "2025-10-26T17:48:22.789956Z"
    },
    "slideshow": {
     "slide_type": "subslide"
    }
   },
   "outputs": [],
   "source": [
    "def square_root(x):  # type: ignore\n",
    "    assert x >= 0  # Precondition\n",
    "\n",
    "    ...\n",
    "\n",
    "    assert result * result == x  # Postcondition\n",
    "    return result"
   ]
  },
  {
   "cell_type": "markdown",
   "metadata": {
    "slideshow": {
     "slide_type": "subslide"
    }
   },
   "source": [
    "The assertion `assert p` checks the condition `p`; if it does not hold, execution is aborted.  Here, the actual body is not yet written; we use the assertions as a specification of what `square_root()` _expects_, and what it _delivers_.\n",
    "\n",
    "The topmost assertion is the _precondition_, stating the requirements on the function arguments.  The assertion at the end is the _postcondition_, stating the properties of the function result (including its relationship with the original arguments).  Using these pre- and postconditions as a specification, we can now go and implement a square root function that satisfies them.  Once implemented, we can have the assertions check at runtime whether `square_root()` works as expected."
   ]
  },
  {
   "cell_type": "markdown",
   "metadata": {
    "slideshow": {
     "slide_type": "subslide"
    }
   },
   "source": [
    "However, not every piece of code is developed with explicit specifications in the first place; let alone does most code comes with formal pre- and post-conditions.  (Just take a look at the chapters in this book.)  This is a pity: As Ken Thompson famously said, \"Without specifications, there are no bugs – only surprises\".  It is also a problem for debugging, since, of course, debugging needs some specification such that we know what is wrong, and how to fix it.  This raises the interesting question: Can we somehow _retrofit_ existing code with \"specifications\" that properly describe their behavior, allowing developers to simply _check_ them rather than having to write them from scratch?  This is what we do in this chapter."
   ]
  },
  {
   "cell_type": "markdown",
   "metadata": {
    "slideshow": {
     "slide_type": "slide"
    }
   },
   "source": [
    "## Beyond Generic Failures\n",
    "\n",
    "Before we go into _mining_ specifications, let us first discuss why it could be useful to _have_ them.  As a motivating example, consider the full implementation of `square_root()` from the [chapter on assertions](Assertions.ipynb):"
   ]
  },
  {
   "cell_type": "code",
   "execution_count": 6,
   "metadata": {
    "execution": {
     "iopub.execute_input": "2025-10-26T17:48:22.791866Z",
     "iopub.status.busy": "2025-10-26T17:48:22.791759Z",
     "iopub.status.idle": "2025-10-26T17:48:22.793403Z",
     "shell.execute_reply": "2025-10-26T17:48:22.793124Z"
    },
    "slideshow": {
     "slide_type": "skip"
    }
   },
   "outputs": [],
   "source": [
    "import bookutils.setup"
   ]
  },
  {
   "cell_type": "code",
   "execution_count": 7,
   "metadata": {
    "button": false,
    "execution": {
     "iopub.execute_input": "2025-10-26T17:48:22.794723Z",
     "iopub.status.busy": "2025-10-26T17:48:22.794638Z",
     "iopub.status.idle": "2025-10-26T17:48:22.796406Z",
     "shell.execute_reply": "2025-10-26T17:48:22.796201Z"
    },
    "new_sheet": false,
    "run_control": {
     "read_only": false
    },
    "slideshow": {
     "slide_type": "fragment"
    }
   },
   "outputs": [],
   "source": [
    "def square_root(x):  # type: ignore\n",
    "    \"\"\"Computes the square root of x, using the Newton-Raphson method\"\"\"\n",
    "    approx = None\n",
    "    guess = x / 2\n",
    "    while approx != guess:\n",
    "        approx = guess\n",
    "        guess = (approx + x / approx) / 2\n",
    "\n",
    "    return approx"
   ]
  },
  {
   "cell_type": "markdown",
   "metadata": {
    "slideshow": {
     "slide_type": "subslide"
    }
   },
   "source": [
    "`square_root()` does not come with any functionality that would check types or values.  Hence, it is easy for callers to make mistakes when calling `square_root()`:"
   ]
  },
  {
   "cell_type": "code",
   "execution_count": 8,
   "metadata": {
    "execution": {
     "iopub.execute_input": "2025-10-26T17:48:22.797750Z",
     "iopub.status.busy": "2025-10-26T17:48:22.797671Z",
     "iopub.status.idle": "2025-10-26T17:48:22.798994Z",
     "shell.execute_reply": "2025-10-26T17:48:22.798789Z"
    },
    "slideshow": {
     "slide_type": "skip"
    }
   },
   "outputs": [],
   "source": [
    "from ExpectError import ExpectError, ExpectTimeout"
   ]
  },
  {
   "cell_type": "code",
   "execution_count": 9,
   "metadata": {
    "execution": {
     "iopub.execute_input": "2025-10-26T17:48:22.800140Z",
     "iopub.status.busy": "2025-10-26T17:48:22.800068Z",
     "iopub.status.idle": "2025-10-26T17:48:22.802075Z",
     "shell.execute_reply": "2025-10-26T17:48:22.801658Z"
    },
    "slideshow": {
     "slide_type": "fragment"
    }
   },
   "outputs": [
    {
     "name": "stderr",
     "output_type": "stream",
     "text": [
      "Traceback (most recent call last):\n",
      "  File \"/var/folders/n2/xd9445p97rb3xh7m1dfx8_4h0006ts/T/ipykernel_52062/1219646233.py\", line 2, in <module>\n",
      "    square_root(\"foo\")\n",
      "    ~~~~~~~~~~~^^^^^^^\n",
      "  File \"/var/folders/n2/xd9445p97rb3xh7m1dfx8_4h0006ts/T/ipykernel_52062/81976482.py\", line 4, in square_root\n",
      "    guess = x / 2\n",
      "            ~~^~~\n",
      "TypeError: unsupported operand type(s) for /: 'str' and 'int' (expected)\n"
     ]
    }
   ],
   "source": [
    "with ExpectError():\n",
    "    square_root(\"foo\")"
   ]
  },
  {
   "cell_type": "code",
   "execution_count": 10,
   "metadata": {
    "execution": {
     "iopub.execute_input": "2025-10-26T17:48:22.803462Z",
     "iopub.status.busy": "2025-10-26T17:48:22.803355Z",
     "iopub.status.idle": "2025-10-26T17:48:22.805086Z",
     "shell.execute_reply": "2025-10-26T17:48:22.804830Z"
    },
    "slideshow": {
     "slide_type": "subslide"
    }
   },
   "outputs": [
    {
     "name": "stderr",
     "output_type": "stream",
     "text": [
      "Traceback (most recent call last):\n",
      "  File \"/var/folders/n2/xd9445p97rb3xh7m1dfx8_4h0006ts/T/ipykernel_52062/3113108935.py\", line 2, in <module>\n",
      "    x = square_root(0.0)\n",
      "  File \"/var/folders/n2/xd9445p97rb3xh7m1dfx8_4h0006ts/T/ipykernel_52062/81976482.py\", line 7, in square_root\n",
      "    guess = (approx + x / approx) / 2\n",
      "                      ~~^~~~~~~~\n",
      "ZeroDivisionError: float division by zero (expected)\n"
     ]
    }
   ],
   "source": [
    "with ExpectError():\n",
    "    x = square_root(0.0)"
   ]
  },
  {
   "cell_type": "markdown",
   "metadata": {
    "slideshow": {
     "slide_type": "fragment"
    }
   },
   "source": [
    "At least, the Python system catches these errors at runtime.  The following call, however, simply lets the function enter an infinite loop:"
   ]
  },
  {
   "cell_type": "code",
   "execution_count": 11,
   "metadata": {
    "execution": {
     "iopub.execute_input": "2025-10-26T17:48:22.806466Z",
     "iopub.status.busy": "2025-10-26T17:48:22.806383Z",
     "iopub.status.idle": "2025-10-26T17:48:23.813121Z",
     "shell.execute_reply": "2025-10-26T17:48:23.812873Z"
    },
    "slideshow": {
     "slide_type": "subslide"
    }
   },
   "outputs": [
    {
     "name": "stderr",
     "output_type": "stream",
     "text": [
      "Traceback (most recent call last):\n",
      "  File \"/var/folders/n2/xd9445p97rb3xh7m1dfx8_4h0006ts/T/ipykernel_52062/3421421264.py\", line 2, in <module>\n",
      "    x = square_root(-1.0)\n",
      "  File \"/var/folders/n2/xd9445p97rb3xh7m1dfx8_4h0006ts/T/ipykernel_52062/81976482.py\", line 5, in square_root\n",
      "    while approx != guess:\n",
      "          ^^^^^^^^^^^^^^^\n",
      "  File \"Timeout.ipynb\", line 43, in timeout_handler\n",
      "    raise TimeoutError()\n",
      "TimeoutError (expected)\n"
     ]
    }
   ],
   "source": [
    "with ExpectTimeout(1):\n",
    "    x = square_root(-1.0)"
   ]
  },
  {
   "cell_type": "markdown",
   "metadata": {
    "slideshow": {
     "slide_type": "subslide"
    }
   },
   "source": [
    "Our goal is to avoid such errors by _annotating_ functions with information that prevents errors like the above ones.  The idea is to provide a _specification_ of expected properties – a specification that can then be checked at runtime or statically."
   ]
  },
  {
   "cell_type": "markdown",
   "metadata": {
    "slideshow": {
     "slide_type": "fragment"
    }
   },
   "source": [
    "\\todo{Introduce the concept of *contract*.}"
   ]
  },
  {
   "cell_type": "markdown",
   "metadata": {
    "slideshow": {
     "slide_type": "slide"
    }
   },
   "source": [
    "## Mining Data Types\n",
    "\n",
    "For our Python code, one of the most important \"specifications\" we need is *types*.  Python being a \"dynamically\" typed language means that all data types are determined at run time; the code itself does not explicitly state whether a variable is an integer, a string, an array, a dictionary – or whatever."
   ]
  },
  {
   "attachments": {},
   "cell_type": "markdown",
   "metadata": {
    "slideshow": {
     "slide_type": "subslide"
    }
   },
   "source": [
    "As _writer_ of Python code, omitting explicit type declarations may save time (and allows for some fun hacks).  It is not sure whether a lack of types helps in _reading_ and _understanding_ code for humans.  For a _computer_ trying to analyze code, the lack of explicit types is detrimental.  If, say, a constraint solver, sees `if x:` and cannot know whether `x` is supposed to be a number or a string, this introduces an _ambiguity_.  Such ambiguities may multiply over the entire analysis in a combinatorial explosion – or in the analysis yielding an overly inaccurate result."
   ]
  },
  {
   "cell_type": "markdown",
   "metadata": {
    "slideshow": {
     "slide_type": "fragment"
    }
   },
   "source": [
    "Python 3.6 and later allow data types as _annotations_ to function arguments (actually, to all variables) and return values.  We can, for instance, state that `square_root()` is a function that accepts a floating-point value and returns one:"
   ]
  },
  {
   "cell_type": "code",
   "execution_count": 12,
   "metadata": {
    "button": false,
    "execution": {
     "iopub.execute_input": "2025-10-26T17:48:23.814841Z",
     "iopub.status.busy": "2025-10-26T17:48:23.814716Z",
     "iopub.status.idle": "2025-10-26T17:48:23.816463Z",
     "shell.execute_reply": "2025-10-26T17:48:23.816218Z"
    },
    "new_sheet": false,
    "run_control": {
     "read_only": false
    },
    "slideshow": {
     "slide_type": "fragment"
    }
   },
   "outputs": [],
   "source": [
    "def square_root_with_type_annotations(x: float) -> float:\n",
    "    \"\"\"Computes the square root of x, using the Newton-Raphson method\"\"\"\n",
    "    return square_root(x)"
   ]
  },
  {
   "attachments": {},
   "cell_type": "markdown",
   "metadata": {
    "slideshow": {
     "slide_type": "fragment"
    }
   },
   "source": [
    "By default, such annotations are ignored by the Python interpreter.  Therefore, one can still call `square_root_typed()` with a string as an argument and get the exact same result as above.  However, one can make use of special _type checking_ modules that would check types – _dynamically_ at runtime or _statically_ by analyzing the code without having to execute it."
   ]
  },
  {
   "cell_type": "markdown",
   "metadata": {
    "slideshow": {
     "slide_type": "subslide"
    }
   },
   "source": [
    "### Excursion: Runtime Type Checking"
   ]
  },
  {
   "cell_type": "markdown",
   "metadata": {
    "slideshow": {
     "slide_type": "fragment"
    }
   },
   "source": [
    "_Please note: `enforce` no longer runs on Python 3.7 and later, so this section is commented out_\n",
    "\n",
    "The Python `enforce` package provides a function decorator that automatically inserts type-checking code that is executed at runtime.  Here is how to use it:"
   ]
  },
  {
   "cell_type": "code",
   "execution_count": 13,
   "metadata": {
    "execution": {
     "iopub.execute_input": "2025-10-26T17:48:23.817795Z",
     "iopub.status.busy": "2025-10-26T17:48:23.817707Z",
     "iopub.status.idle": "2025-10-26T17:48:23.819172Z",
     "shell.execute_reply": "2025-10-26T17:48:23.818954Z"
    },
    "slideshow": {
     "slide_type": "fragment"
    }
   },
   "outputs": [],
   "source": [
    "# import enforce"
   ]
  },
  {
   "cell_type": "code",
   "execution_count": 14,
   "metadata": {
    "execution": {
     "iopub.execute_input": "2025-10-26T17:48:23.820320Z",
     "iopub.status.busy": "2025-10-26T17:48:23.820247Z",
     "iopub.status.idle": "2025-10-26T17:48:23.821654Z",
     "shell.execute_reply": "2025-10-26T17:48:23.821417Z"
    },
    "slideshow": {
     "slide_type": "fragment"
    }
   },
   "outputs": [],
   "source": [
    "# @enforce.runtime_validation\n",
    "# def square_root_with_checked_type_annotations(x: float) -> float:\n",
    "#     \"\"\"Computes the square root of x, using the Newton-Raphson method\"\"\"\n",
    "#     return square_root(x)"
   ]
  },
  {
   "cell_type": "markdown",
   "metadata": {
    "slideshow": {
     "slide_type": "fragment"
    }
   },
   "source": [
    "Now, invoking `square_root_with_checked_type_annotations()` raises an exception when invoked with a type dfferent from the one declared:"
   ]
  },
  {
   "cell_type": "code",
   "execution_count": 15,
   "metadata": {
    "execution": {
     "iopub.execute_input": "2025-10-26T17:48:23.822899Z",
     "iopub.status.busy": "2025-10-26T17:48:23.822821Z",
     "iopub.status.idle": "2025-10-26T17:48:23.824196Z",
     "shell.execute_reply": "2025-10-26T17:48:23.823983Z"
    },
    "slideshow": {
     "slide_type": "subslide"
    }
   },
   "outputs": [],
   "source": [
    "# with ExpectError():\n",
    "#     square_root_with_checked_type_annotations(True)"
   ]
  },
  {
   "cell_type": "markdown",
   "metadata": {
    "slideshow": {
     "slide_type": "fragment"
    }
   },
   "source": [
    "Note that this error is not caught by the \"untyped\" variant, where passing a boolean value happily returns $\\sqrt{1}$ as result. "
   ]
  },
  {
   "cell_type": "code",
   "execution_count": 16,
   "metadata": {
    "execution": {
     "iopub.execute_input": "2025-10-26T17:48:23.825310Z",
     "iopub.status.busy": "2025-10-26T17:48:23.825227Z",
     "iopub.status.idle": "2025-10-26T17:48:23.826539Z",
     "shell.execute_reply": "2025-10-26T17:48:23.826341Z"
    },
    "slideshow": {
     "slide_type": "fragment"
    }
   },
   "outputs": [],
   "source": [
    "# square_root(True)"
   ]
  },
  {
   "cell_type": "markdown",
   "metadata": {
    "slideshow": {
     "slide_type": "fragment"
    }
   },
   "source": [
    "In Python (and other languages), the boolean values `True` and `False` can be implicitly converted to the integers 1 and 0; however, it is hard to think of a call to `sqrt()` where this would not be an error."
   ]
  },
  {
   "cell_type": "code",
   "execution_count": 17,
   "metadata": {
    "execution": {
     "iopub.execute_input": "2025-10-26T17:48:23.827758Z",
     "iopub.status.busy": "2025-10-26T17:48:23.827681Z",
     "iopub.status.idle": "2025-10-26T17:48:23.829129Z",
     "shell.execute_reply": "2025-10-26T17:48:23.828885Z"
    },
    "slideshow": {
     "slide_type": "skip"
    }
   },
   "outputs": [],
   "source": [
    "from bookutils import quiz"
   ]
  },
  {
   "cell_type": "code",
   "execution_count": 18,
   "metadata": {
    "execution": {
     "iopub.execute_input": "2025-10-26T17:48:23.830178Z",
     "iopub.status.busy": "2025-10-26T17:48:23.830108Z",
     "iopub.status.idle": "2025-10-26T17:48:23.834120Z",
     "shell.execute_reply": "2025-10-26T17:48:23.833895Z"
    },
    "slideshow": {
     "slide_type": "subslide"
    },
    "tags": [
     "remove-input"
    ]
   },
   "outputs": [
    {
     "data": {
      "text/html": [
       "\n",
       "    \n",
       "    <script>\n",
       "    var bad_answers = new Map();\n",
       "\n",
       "    function answer(quiz_id) {\n",
       "        ans = 0;\n",
       "        for (i = 1;; i++) {\n",
       "            checkbox = document.getElementById(quiz_id + \"-\" + i.toString());\n",
       "            if (!checkbox)\n",
       "                break;\n",
       "            if (checkbox.checked)\n",
       "                ans |= (1 << i);\n",
       "        }\n",
       "        return ans;\n",
       "    }\n",
       "    function check_selection(quiz_id, correct_answer, multiple_choice, hint) {\n",
       "        given_answer = answer(quiz_id);\n",
       "        if (given_answer == correct_answer)\n",
       "        {\n",
       "            document.getElementById(quiz_id + \"-submit\").value = \"Correct!\";\n",
       "            document.getElementById(quiz_id + \"-hint\").innerHTML = \"\";\n",
       "\n",
       "            for (i = 1;; i++) {\n",
       "                checkbox = document.getElementById(quiz_id + \"-\" + i.toString());\n",
       "                label = document.getElementById(quiz_id + \"-\" + i.toString() + \"-label\")\n",
       "                if (!checkbox)\n",
       "                    break;\n",
       "\n",
       "                if (checkbox.checked) {\n",
       "                    label.style.fontWeight = \"bold\";\n",
       "                }\n",
       "                else {\n",
       "                    label.style.textDecoration = \"line-through\";\n",
       "                }\n",
       "            }\n",
       "        }\n",
       "        else \n",
       "        {\n",
       "            document.getElementById(quiz_id + \"-submit\").value = \"Try again\";\n",
       "\n",
       "            if (!bad_answers.has(quiz_id)) {\n",
       "                bad_answers.set(quiz_id, 1);\n",
       "            }\n",
       "            else {\n",
       "                bad_answers.set(quiz_id, bad_answers.get(quiz_id) + 1);\n",
       "            }\n",
       "\n",
       "            if (bad_answers.get(quiz_id) >= 2 && hint.length > 0) {\n",
       "                document.getElementById(quiz_id + \"-hint\").innerHTML = \n",
       "                    \"&nbsp;&nbsp;(Hint: <code>\" + hint + \"</code>)\";\n",
       "            }\n",
       "\n",
       "            if (!multiple_choice) {\n",
       "                for (i = 1;; i++) {\n",
       "                    checkbox = document.getElementById(quiz_id + \"-\" + i.toString());\n",
       "                    label = document.getElementById(quiz_id + \"-\" + i.toString() + \"-label\")\n",
       "\n",
       "                    if (!checkbox)\n",
       "                        break;\n",
       "                    if (checkbox.checked) {\n",
       "                        label.style.textDecoration = \"line-through\";\n",
       "                    }\n",
       "                }\n",
       "            }\n",
       "        }\n",
       "    }\n",
       "    function clear_selection(quiz_id) {\n",
       "        document.getElementById(quiz_id + \"-submit\").value = \"Submit\";\n",
       "        document.getElementById(quiz_id + \"-hint\").innerHTML = \"\";\n",
       "    }\n",
       "    </script>\n",
       "    \n",
       "    <div class=\"quiz\">\n",
       "    <h3 class=\"quiz_title\">Quiz</h3>\n",
       "    <p>\n",
       "    <div class=\"quiz_question\">What happens if we call <code>square_root_with_checked_type_annotations(1)</code>?</div>\n",
       "    </p>\n",
       "    <p>\n",
       "    <div class=\"quiz_options\" title=\"Pick a choice.\">\n",
       "    \n",
       "        <input type=\"radio\" name=\"f7f2cb0c-b293-11f0-88db-6298cf1a5790\" id=\"f7f2cb0c-b293-11f0-88db-6298cf1a5790-1\" onclick=\"clear_selection('f7f2cb0c-b293-11f0-88db-6298cf1a5790')\">\n",
       "        <label id=\"f7f2cb0c-b293-11f0-88db-6298cf1a5790-1-label\" for=\"f7f2cb0c-b293-11f0-88db-6298cf1a5790-1\"><code>1</code> is automatically converted to float. It will pass.</label><br>\n",
       "    \n",
       "        <input type=\"radio\" name=\"f7f2cb0c-b293-11f0-88db-6298cf1a5790\" id=\"f7f2cb0c-b293-11f0-88db-6298cf1a5790-2\" onclick=\"clear_selection('f7f2cb0c-b293-11f0-88db-6298cf1a5790')\">\n",
       "        <label id=\"f7f2cb0c-b293-11f0-88db-6298cf1a5790-2-label\" for=\"f7f2cb0c-b293-11f0-88db-6298cf1a5790-2\"><code>1</code> is a subtype of float. It will pass.</label><br>\n",
       "    \n",
       "        <input type=\"radio\" name=\"f7f2cb0c-b293-11f0-88db-6298cf1a5790\" id=\"f7f2cb0c-b293-11f0-88db-6298cf1a5790-3\" onclick=\"clear_selection('f7f2cb0c-b293-11f0-88db-6298cf1a5790')\">\n",
       "        <label id=\"f7f2cb0c-b293-11f0-88db-6298cf1a5790-3-label\" for=\"f7f2cb0c-b293-11f0-88db-6298cf1a5790-3\"><code>1</code> is an integer, and no float. The type check will fail.</label><br>\n",
       "    \n",
       "        <input type=\"radio\" name=\"f7f2cb0c-b293-11f0-88db-6298cf1a5790\" id=\"f7f2cb0c-b293-11f0-88db-6298cf1a5790-4\" onclick=\"clear_selection('f7f2cb0c-b293-11f0-88db-6298cf1a5790')\">\n",
       "        <label id=\"f7f2cb0c-b293-11f0-88db-6298cf1a5790-4-label\" for=\"f7f2cb0c-b293-11f0-88db-6298cf1a5790-4\">The function will fail for some other reason.</label><br>\n",
       "    \n",
       "    </div>\n",
       "    </p>\n",
       "    <input id=\"f7f2cb0c-b293-11f0-88db-6298cf1a5790-submit\" type=\"submit\" value=\"Submit\" onclick=\"check_selection('f7f2cb0c-b293-11f0-88db-6298cf1a5790', 8, 0, '37035 // 12345')\">\n",
       "    <span class=\"quiz_hint\" id=\"f7f2cb0c-b293-11f0-88db-6298cf1a5790-hint\"></span>\n",
       "    </div>\n",
       "    "
      ],
      "text/plain": [
       "<IPython.core.display.HTML object>"
      ]
     },
     "execution_count": 18,
     "metadata": {},
     "output_type": "execute_result"
    }
   ],
   "source": [
    "quiz(\"What happens if we call \"\n",
    "     \"`square_root_with_checked_type_annotations(1)`?\",\n",
    "    [\n",
    "        \"`1` is automatically converted to float. It will pass.\",\n",
    "        \"`1` is a subtype of float. It will pass.\",\n",
    "        \"`1` is an integer, and no float. The type check will fail.\",\n",
    "        \"The function will fail for some other reason.\"\n",
    "    ], '37035 // 12345')"
   ]
  },
  {
   "cell_type": "markdown",
   "metadata": {
    "slideshow": {
     "slide_type": "fragment"
    }
   },
   "source": [
    "\"Prediction is very difficult, especially when the future is concerned\" (Niels Bohr). We can find out by a simple experiment that `float` actually means `float` – and not `int`:"
   ]
  },
  {
   "cell_type": "code",
   "execution_count": 19,
   "metadata": {
    "execution": {
     "iopub.execute_input": "2025-10-26T17:48:23.835262Z",
     "iopub.status.busy": "2025-10-26T17:48:23.835183Z",
     "iopub.status.idle": "2025-10-26T17:48:23.836623Z",
     "shell.execute_reply": "2025-10-26T17:48:23.836410Z"
    },
    "slideshow": {
     "slide_type": "fragment"
    }
   },
   "outputs": [],
   "source": [
    "# with ExpectError(enforce.exceptions.RuntimeTypeError):\n",
    "#     square_root_with_checked_type_annotations(1)"
   ]
  },
  {
   "cell_type": "markdown",
   "metadata": {
    "slideshow": {
     "slide_type": "fragment"
    }
   },
   "source": [
    "To allow `int` as a type, we need to specify a _union_ of types."
   ]
  },
  {
   "cell_type": "code",
   "execution_count": 20,
   "metadata": {
    "execution": {
     "iopub.execute_input": "2025-10-26T17:48:23.837782Z",
     "iopub.status.busy": "2025-10-26T17:48:23.837706Z",
     "iopub.status.idle": "2025-10-26T17:48:23.839109Z",
     "shell.execute_reply": "2025-10-26T17:48:23.838899Z"
    },
    "slideshow": {
     "slide_type": "subslide"
    }
   },
   "outputs": [],
   "source": [
    "# @enforce.runtime_validation\n",
    "# def square_root_with_union_type(x: Union[int, float]) -> float:\n",
    "#     \"\"\"Computes the square root of x, using the Newton-Raphson method\"\"\"\n",
    "#     return square_root(x)"
   ]
  },
  {
   "cell_type": "code",
   "execution_count": 21,
   "metadata": {
    "execution": {
     "iopub.execute_input": "2025-10-26T17:48:23.840281Z",
     "iopub.status.busy": "2025-10-26T17:48:23.840208Z",
     "iopub.status.idle": "2025-10-26T17:48:23.841682Z",
     "shell.execute_reply": "2025-10-26T17:48:23.841454Z"
    },
    "slideshow": {
     "slide_type": "fragment"
    }
   },
   "outputs": [],
   "source": [
    "# square_root_with_union_type(2)"
   ]
  },
  {
   "cell_type": "code",
   "execution_count": 22,
   "metadata": {
    "execution": {
     "iopub.execute_input": "2025-10-26T17:48:23.842848Z",
     "iopub.status.busy": "2025-10-26T17:48:23.842760Z",
     "iopub.status.idle": "2025-10-26T17:48:23.844162Z",
     "shell.execute_reply": "2025-10-26T17:48:23.843930Z"
    },
    "slideshow": {
     "slide_type": "fragment"
    }
   },
   "outputs": [],
   "source": [
    "# square_root_with_union_type(2.0)"
   ]
  },
  {
   "cell_type": "code",
   "execution_count": 23,
   "metadata": {
    "execution": {
     "iopub.execute_input": "2025-10-26T17:48:23.845591Z",
     "iopub.status.busy": "2025-10-26T17:48:23.845462Z",
     "iopub.status.idle": "2025-10-26T17:48:23.847054Z",
     "shell.execute_reply": "2025-10-26T17:48:23.846836Z"
    },
    "slideshow": {
     "slide_type": "fragment"
    }
   },
   "outputs": [],
   "source": [
    "# with ExpectError(enforce.exceptions.RuntimeTypeError):\n",
    "#     square_root_with_union_type(\"Two dot zero\")"
   ]
  },
  {
   "cell_type": "markdown",
   "metadata": {
    "slideshow": {
     "slide_type": "subslide"
    }
   },
   "source": [
    "### End of Excursion"
   ]
  },
  {
   "cell_type": "markdown",
   "metadata": {
    "slideshow": {
     "slide_type": "subslide"
    }
   },
   "source": [
    "### Static Type Checking\n",
    "\n",
    "Type annotations can also be checked _statically_ – that is, without even running the code.  Let us create a simple Python file consisting of the above `square_root_typed()` definition and a bad invocation."
   ]
  },
  {
   "cell_type": "code",
   "execution_count": 24,
   "metadata": {
    "execution": {
     "iopub.execute_input": "2025-10-26T17:48:23.848457Z",
     "iopub.status.busy": "2025-10-26T17:48:23.848380Z",
     "iopub.status.idle": "2025-10-26T17:48:23.849913Z",
     "shell.execute_reply": "2025-10-26T17:48:23.849693Z"
    },
    "slideshow": {
     "slide_type": "skip"
    }
   },
   "outputs": [],
   "source": [
    "import inspect\n",
    "import tempfile"
   ]
  },
  {
   "cell_type": "code",
   "execution_count": 25,
   "metadata": {
    "execution": {
     "iopub.execute_input": "2025-10-26T17:48:23.851067Z",
     "iopub.status.busy": "2025-10-26T17:48:23.850968Z",
     "iopub.status.idle": "2025-10-26T17:48:23.853418Z",
     "shell.execute_reply": "2025-10-26T17:48:23.853213Z"
    },
    "slideshow": {
     "slide_type": "fragment"
    }
   },
   "outputs": [
    {
     "data": {
      "text/plain": [
       "'/var/folders/n2/xd9445p97rb3xh7m1dfx8_4h0006ts/T/tmp7gclqo71.py'"
      ]
     },
     "execution_count": 25,
     "metadata": {},
     "output_type": "execute_result"
    }
   ],
   "source": [
    "f = tempfile.NamedTemporaryFile(mode='w', suffix='.py')\n",
    "f.name"
   ]
  },
  {
   "cell_type": "code",
   "execution_count": 26,
   "metadata": {
    "execution": {
     "iopub.execute_input": "2025-10-26T17:48:23.854673Z",
     "iopub.status.busy": "2025-10-26T17:48:23.854591Z",
     "iopub.status.idle": "2025-10-26T17:48:23.856495Z",
     "shell.execute_reply": "2025-10-26T17:48:23.856217Z"
    },
    "slideshow": {
     "slide_type": "fragment"
    }
   },
   "outputs": [],
   "source": [
    "f.write(inspect.getsource(square_root))\n",
    "f.write('\\n')\n",
    "f.write(inspect.getsource(square_root_with_type_annotations))\n",
    "f.write('\\n')\n",
    "f.write(\"print(square_root_with_type_annotations('123'))\\n\")\n",
    "f.flush()"
   ]
  },
  {
   "cell_type": "markdown",
   "metadata": {
    "slideshow": {
     "slide_type": "subslide"
    }
   },
   "source": [
    "These are the contents of our newly created Python file:"
   ]
  },
  {
   "cell_type": "code",
   "execution_count": 27,
   "metadata": {
    "execution": {
     "iopub.execute_input": "2025-10-26T17:48:23.857749Z",
     "iopub.status.busy": "2025-10-26T17:48:23.857666Z",
     "iopub.status.idle": "2025-10-26T17:48:23.859123Z",
     "shell.execute_reply": "2025-10-26T17:48:23.858913Z"
    },
    "slideshow": {
     "slide_type": "skip"
    }
   },
   "outputs": [],
   "source": [
    "from bookutils import print_file"
   ]
  },
  {
   "cell_type": "code",
   "execution_count": 28,
   "metadata": {
    "execution": {
     "iopub.execute_input": "2025-10-26T17:48:23.860322Z",
     "iopub.status.busy": "2025-10-26T17:48:23.860248Z",
     "iopub.status.idle": "2025-10-26T17:48:23.917405Z",
     "shell.execute_reply": "2025-10-26T17:48:23.917126Z"
    },
    "slideshow": {
     "slide_type": "subslide"
    }
   },
   "outputs": [
    {
     "name": "stdout",
     "output_type": "stream",
     "text": [
      " 1  \u001b[34mdef\u001b[39;49;00m\u001b[37m \u001b[39;49;00m\u001b[32msquare_root\u001b[39;49;00m(x):  \u001b[37m# type: ignore\u001b[39;49;00m\u001b[37m\u001b[39;49;00m\n",
      " 2  \u001b[37m    \u001b[39;49;00m\u001b[33m\"\"\"Computes the square root of x, using the Newton-Raphson method\"\"\"\u001b[39;49;00m\u001b[37m\u001b[39;49;00m\n",
      " 3      approx = \u001b[34mNone\u001b[39;49;00m\u001b[37m\u001b[39;49;00m\n",
      " 4      guess = x / \u001b[34m2\u001b[39;49;00m\u001b[37m\u001b[39;49;00m\n",
      " 5      \u001b[34mwhile\u001b[39;49;00m approx != guess:\u001b[37m\u001b[39;49;00m\n",
      " 6          approx = guess\u001b[37m\u001b[39;49;00m\n",
      " 7          guess = (approx + x / approx) / \u001b[34m2\u001b[39;49;00m\u001b[37m\u001b[39;49;00m\n",
      " 8  \u001b[37m\u001b[39;49;00m\n",
      " 9      \u001b[34mreturn\u001b[39;49;00m approx\u001b[37m\u001b[39;49;00m\n",
      "10  \u001b[37m\u001b[39;49;00m\n",
      "11  \u001b[34mdef\u001b[39;49;00m\u001b[37m \u001b[39;49;00m\u001b[32msquare_root_with_type_annotations\u001b[39;49;00m(x: \u001b[36mfloat\u001b[39;49;00m) -> \u001b[36mfloat\u001b[39;49;00m:\u001b[37m\u001b[39;49;00m\n",
      "12  \u001b[37m    \u001b[39;49;00m\u001b[33m\"\"\"Computes the square root of x, using the Newton-Raphson method\"\"\"\u001b[39;49;00m\u001b[37m\u001b[39;49;00m\n",
      "13      \u001b[34mreturn\u001b[39;49;00m square_root(x)\u001b[37m\u001b[39;49;00m\n",
      "14  \u001b[37m\u001b[39;49;00m\n",
      "15  \u001b[36mprint\u001b[39;49;00m(square_root_with_type_annotations(\u001b[33m'\u001b[39;49;00m\u001b[33m123\u001b[39;49;00m\u001b[33m'\u001b[39;49;00m))\u001b[37m\u001b[39;49;00m"
     ]
    }
   ],
   "source": [
    "print_file(f.name, start_line_number=1)"
   ]
  },
  {
   "cell_type": "markdown",
   "metadata": {
    "slideshow": {
     "slide_type": "subslide"
    }
   },
   "source": [
    "[Mypy](http://mypy-lang.org) is a type checker for Python programs.  As it checks types statically, types induce no overhead at runtime; plus, a static check can be faster than a lengthy series of tests with runtime type checking enabled.  Let us see what `mypy` produces on the above file:"
   ]
  },
  {
   "cell_type": "code",
   "execution_count": 29,
   "metadata": {
    "execution": {
     "iopub.execute_input": "2025-10-26T17:48:23.918999Z",
     "iopub.status.busy": "2025-10-26T17:48:23.918894Z",
     "iopub.status.idle": "2025-10-26T17:48:23.920624Z",
     "shell.execute_reply": "2025-10-26T17:48:23.920344Z"
    },
    "slideshow": {
     "slide_type": "skip"
    }
   },
   "outputs": [],
   "source": [
    "import subprocess"
   ]
  },
  {
   "cell_type": "code",
   "execution_count": 30,
   "metadata": {
    "execution": {
     "iopub.execute_input": "2025-10-26T17:48:23.921774Z",
     "iopub.status.busy": "2025-10-26T17:48:23.921697Z",
     "iopub.status.idle": "2025-10-26T17:48:25.040329Z",
     "shell.execute_reply": "2025-10-26T17:48:25.039921Z"
    },
    "slideshow": {
     "slide_type": "fragment"
    }
   },
   "outputs": [],
   "source": [
    "result = subprocess.run([\"mypy\", \"--strict\", f.name],\n",
    "                        universal_newlines=True, stdout=subprocess.PIPE)"
   ]
  },
  {
   "cell_type": "code",
   "execution_count": 31,
   "metadata": {
    "execution": {
     "iopub.execute_input": "2025-10-26T17:48:25.042073Z",
     "iopub.status.busy": "2025-10-26T17:48:25.041956Z",
     "iopub.status.idle": "2025-10-26T17:48:25.044110Z",
     "shell.execute_reply": "2025-10-26T17:48:25.043872Z"
    },
    "slideshow": {
     "slide_type": "fragment"
    }
   },
   "outputs": [
    {
     "name": "stdout",
     "output_type": "stream",
     "text": [
      "13: \u001b[1m\u001b[31merror:\u001b[m Returning Any from function declared to return \u001b[m\u001b[1m\"float\"\u001b[m  \u001b[m\u001b[33m[no-any-return]\u001b[m\n",
      "13: \u001b[1m\u001b[31merror:\u001b[m Call to untyped function \u001b[m\u001b[1m\"square_root\"\u001b[m in typed context  \u001b[m\u001b[33m[no-untyped-call]\u001b[m\n",
      "15: \u001b[1m\u001b[31merror:\u001b[m Argument 1 to \u001b[m\u001b[1m\"square_root_with_type_annotations\"\u001b[m has incompatible type \u001b[m\u001b[1m\"str\"\u001b[m; expected \u001b[m\u001b[1m\"float\"\u001b[m  \u001b[m\u001b[33m[arg-type]\u001b[m\n",
      "\u001b[1m\u001b[31mFound 3 errors in 1 file (checked 1 source file)\u001b[m\n",
      "\n"
     ]
    }
   ],
   "source": [
    "print(result.stdout.replace(f.name + ':', ''))\n",
    "del f  # Delete temporary file"
   ]
  },
  {
   "cell_type": "markdown",
   "metadata": {
    "slideshow": {
     "slide_type": "subslide"
    }
   },
   "source": [
    "We see that `mypy` complains about untyped function definitions such as `square_root()`; most important, however, it finds that the  call to `square_root_with_type_annotations()` in the last line has the wrong type."
   ]
  },
  {
   "cell_type": "markdown",
   "metadata": {
    "slideshow": {
     "slide_type": "fragment"
    }
   },
   "source": [
    "With `mypy`, we can achieve the same type safety with Python as in statically typed languages – provided that we as programmers also produce the necessary type annotations.  Is there a simple way to obtain these?"
   ]
  },
  {
   "cell_type": "markdown",
   "metadata": {
    "slideshow": {
     "slide_type": "slide"
    }
   },
   "source": [
    "## Mining Type Specifications\n",
    "\n",
    "Our first task will be to mine type annotations (as part of the code) from _values_ we observe at run time.  These type annotations would be _mined_ from actual function executions, _learning_ from (normal) runs what the expected argument and return types should be.  By observing a series of calls such as these, we could infer that both `x` and the return value are of type `float`:"
   ]
  },
  {
   "cell_type": "code",
   "execution_count": 32,
   "metadata": {
    "execution": {
     "iopub.execute_input": "2025-10-26T17:48:25.045417Z",
     "iopub.status.busy": "2025-10-26T17:48:25.045323Z",
     "iopub.status.idle": "2025-10-26T17:48:25.047143Z",
     "shell.execute_reply": "2025-10-26T17:48:25.046934Z"
    },
    "slideshow": {
     "slide_type": "fragment"
    }
   },
   "outputs": [
    {
     "data": {
      "text/plain": [
       "5.0"
      ]
     },
     "execution_count": 32,
     "metadata": {},
     "output_type": "execute_result"
    }
   ],
   "source": [
    "y = square_root(25.0)\n",
    "y"
   ]
  },
  {
   "cell_type": "code",
   "execution_count": 33,
   "metadata": {
    "execution": {
     "iopub.execute_input": "2025-10-26T17:48:25.048351Z",
     "iopub.status.busy": "2025-10-26T17:48:25.048277Z",
     "iopub.status.idle": "2025-10-26T17:48:25.050068Z",
     "shell.execute_reply": "2025-10-26T17:48:25.049852Z"
    },
    "slideshow": {
     "slide_type": "fragment"
    }
   },
   "outputs": [
    {
     "data": {
      "text/plain": [
       "1.414213562373095"
      ]
     },
     "execution_count": 33,
     "metadata": {},
     "output_type": "execute_result"
    }
   ],
   "source": [
    "y = square_root(2.0)\n",
    "y"
   ]
  },
  {
   "cell_type": "markdown",
   "metadata": {
    "slideshow": {
     "slide_type": "subslide"
    }
   },
   "source": [
    "How can we mine types from executions?  The answer is simple: \n",
    "\n",
    "1. We _observe_ a function during execution\n",
    "2. We track the _types_ of its arguments\n",
    "3. We include these types as _annotations_ into the code.\n",
    "\n",
    "To do so, we can make use of Python's tracing facility we already observed in the [chapter on tracing executions](Tracer.ipynb).  With every call to a function, we retrieve the arguments, their values, and their types."
   ]
  },
  {
   "cell_type": "markdown",
   "metadata": {
    "slideshow": {
     "slide_type": "subslide"
    }
   },
   "source": [
    "### Tracing Calls\n",
    "\n",
    "To observe argument types at runtime, we define a _tracer function_ that tracks the execution of `square_root()`, checking its arguments and return values.  The `CallTracer` class is set to trace functions in a `with` block as follows:\n",
    "\n",
    "```python\n",
    "with CallTracer() as tracer:\n",
    "    function_to_be_tracked(...)\n",
    "info = tracer.collected_information()\n",
    "```\n",
    "\n",
    "To create the tracer, we build on the `Tracer` superclass as in the [chapter on tracing executions](Tracer.ipynb).  "
   ]
  },
  {
   "cell_type": "code",
   "execution_count": 34,
   "metadata": {
    "execution": {
     "iopub.execute_input": "2025-10-26T17:48:25.051278Z",
     "iopub.status.busy": "2025-10-26T17:48:25.051202Z",
     "iopub.status.idle": "2025-10-26T17:48:25.052572Z",
     "shell.execute_reply": "2025-10-26T17:48:25.052362Z"
    },
    "slideshow": {
     "slide_type": "skip"
    }
   },
   "outputs": [],
   "source": [
    "from types import FrameType"
   ]
  },
  {
   "cell_type": "markdown",
   "metadata": {
    "slideshow": {
     "slide_type": "subslide"
    }
   },
   "source": [
    "We start with two helper functions. `get_arguments()` returns a list of call arguments in the given call frame."
   ]
  },
  {
   "cell_type": "code",
   "execution_count": 35,
   "metadata": {
    "execution": {
     "iopub.execute_input": "2025-10-26T17:48:25.053764Z",
     "iopub.status.busy": "2025-10-26T17:48:25.053683Z",
     "iopub.status.idle": "2025-10-26T17:48:25.055261Z",
     "shell.execute_reply": "2025-10-26T17:48:25.055009Z"
    },
    "slideshow": {
     "slide_type": "fragment"
    }
   },
   "outputs": [],
   "source": [
    "Arguments = List[Tuple[str, Any]]"
   ]
  },
  {
   "cell_type": "code",
   "execution_count": 36,
   "metadata": {
    "execution": {
     "iopub.execute_input": "2025-10-26T17:48:25.056553Z",
     "iopub.status.busy": "2025-10-26T17:48:25.056459Z",
     "iopub.status.idle": "2025-10-26T17:48:25.058390Z",
     "shell.execute_reply": "2025-10-26T17:48:25.058124Z"
    },
    "slideshow": {
     "slide_type": "fragment"
    }
   },
   "outputs": [],
   "source": [
    "def get_arguments(frame: FrameType) -> Arguments:\n",
    "    \"\"\"Return call arguments in the given frame\"\"\"\n",
    "    # When called, all arguments are local variables\n",
    "    local_variables = dict(frame.f_locals)  # explicit copy\n",
    "    arguments = [(var, frame.f_locals[var]) \n",
    "                 for var in local_variables]\n",
    "\n",
    "    # FIXME: This may be needed for Python < 3.10\n",
    "    # arguments.reverse()  # Want same order as call\n",
    "\n",
    "    return arguments"
   ]
  },
  {
   "cell_type": "markdown",
   "metadata": {
    "slideshow": {
     "slide_type": "subslide"
    }
   },
   "source": [
    "`simple_call_string()` is a helper for logging that prints out calls in a user-friendly manner."
   ]
  },
  {
   "cell_type": "code",
   "execution_count": 37,
   "metadata": {
    "execution": {
     "iopub.execute_input": "2025-10-26T17:48:25.059733Z",
     "iopub.status.busy": "2025-10-26T17:48:25.059649Z",
     "iopub.status.idle": "2025-10-26T17:48:25.061630Z",
     "shell.execute_reply": "2025-10-26T17:48:25.061372Z"
    },
    "slideshow": {
     "slide_type": "fragment"
    }
   },
   "outputs": [],
   "source": [
    "def simple_call_string(function_name: str, argument_list: Arguments,\n",
    "                       return_value : Any = None) -> str:\n",
    "    \"\"\"Return function_name(arg[0], arg[1], ...) as a string\"\"\"\n",
    "    call = function_name + \"(\" + \\\n",
    "        \", \".join([var + \"=\" + repr(value)\n",
    "                   for (var, value) in argument_list]) + \")\"\n",
    "\n",
    "    if return_value is not None:\n",
    "        call += \" = \" + repr(return_value)\n",
    "\n",
    "    return call"
   ]
  },
  {
   "cell_type": "markdown",
   "metadata": {
    "slideshow": {
     "slide_type": "fragment"
    }
   },
   "source": [
    "Now for `CallTracer`. The constructor simply invokes the `Tracer` constructor:"
   ]
  },
  {
   "cell_type": "code",
   "execution_count": 38,
   "metadata": {
    "execution": {
     "iopub.execute_input": "2025-10-26T17:48:25.062815Z",
     "iopub.status.busy": "2025-10-26T17:48:25.062730Z",
     "iopub.status.idle": "2025-10-26T17:48:25.064698Z",
     "shell.execute_reply": "2025-10-26T17:48:25.064465Z"
    },
    "slideshow": {
     "slide_type": "subslide"
    }
   },
   "outputs": [],
   "source": [
    "class CallTracer(Tracer):\n",
    "    def __init__(self, log: bool = False, **kwargs: Any)-> None:\n",
    "        super().__init__(**kwargs)\n",
    "        self._log = log\n",
    "        self.reset()\n",
    "\n",
    "    def reset(self) -> None:\n",
    "        self._calls: Dict[str, List[Tuple[Arguments, Any]]] = {}\n",
    "        self._stack: List[Tuple[str, Arguments]] = []"
   ]
  },
  {
   "cell_type": "markdown",
   "metadata": {
    "slideshow": {
     "slide_type": "fragment"
    }
   },
   "source": [
    "The `traceit()` method does nothing yet; this is done in specialized subclasses.  The `CallTracer` class implements a `traceit()` function that checks for function calls and returns:"
   ]
  },
  {
   "cell_type": "code",
   "execution_count": 39,
   "metadata": {
    "execution": {
     "iopub.execute_input": "2025-10-26T17:48:25.065915Z",
     "iopub.status.busy": "2025-10-26T17:48:25.065832Z",
     "iopub.status.idle": "2025-10-26T17:48:25.067595Z",
     "shell.execute_reply": "2025-10-26T17:48:25.067398Z"
    },
    "slideshow": {
     "slide_type": "subslide"
    }
   },
   "outputs": [],
   "source": [
    "class CallTracer(CallTracer):\n",
    "    def traceit(self, frame: FrameType, event: str, arg: Any) -> None:\n",
    "        \"\"\"Tracking function: Record all calls and all args\"\"\"\n",
    "        if event == \"call\":\n",
    "            self.trace_call(frame, event, arg)\n",
    "        elif event == \"return\":\n",
    "            self.trace_return(frame, event, arg)"
   ]
  },
  {
   "cell_type": "markdown",
   "metadata": {
    "slideshow": {
     "slide_type": "fragment"
    }
   },
   "source": [
    "`trace_call()` is called when a function is called; it retrieves the function name and current arguments, and saves them on a stack."
   ]
  },
  {
   "cell_type": "code",
   "execution_count": 40,
   "metadata": {
    "execution": {
     "iopub.execute_input": "2025-10-26T17:48:25.069015Z",
     "iopub.status.busy": "2025-10-26T17:48:25.068911Z",
     "iopub.status.idle": "2025-10-26T17:48:25.070938Z",
     "shell.execute_reply": "2025-10-26T17:48:25.070676Z"
    },
    "slideshow": {
     "slide_type": "subslide"
    }
   },
   "outputs": [],
   "source": [
    "class CallTracer(CallTracer):\n",
    "    def trace_call(self, frame: FrameType, event: str, arg: Any) -> None:\n",
    "        \"\"\"Save current function name and args on the stack\"\"\"\n",
    "        code = frame.f_code\n",
    "        function_name = code.co_name\n",
    "        arguments = get_arguments(frame)\n",
    "        self._stack.append((function_name, arguments))\n",
    "\n",
    "        if self._log:\n",
    "            print(simple_call_string(function_name, arguments))"
   ]
  },
  {
   "cell_type": "markdown",
   "metadata": {
    "slideshow": {
     "slide_type": "fragment"
    }
   },
   "source": [
    "When the function returns, `trace_return()` is called.  We now also have the return value.  We log the whole call with arguments and return value (if desired) and save it in our list of calls."
   ]
  },
  {
   "cell_type": "code",
   "execution_count": 41,
   "metadata": {
    "execution": {
     "iopub.execute_input": "2025-10-26T17:48:25.072323Z",
     "iopub.status.busy": "2025-10-26T17:48:25.072231Z",
     "iopub.status.idle": "2025-10-26T17:48:25.074468Z",
     "shell.execute_reply": "2025-10-26T17:48:25.074233Z"
    },
    "slideshow": {
     "slide_type": "subslide"
    }
   },
   "outputs": [],
   "source": [
    "class CallTracer(CallTracer):\n",
    "    def trace_return(self, frame: FrameType, event: str, arg: Any) -> None:\n",
    "        \"\"\"Get return value and store complete call with arguments and return value\"\"\"\n",
    "        code = frame.f_code\n",
    "        function_name = code.co_name\n",
    "        return_value = arg\n",
    "        # TODO: Could call get_arguments() here\n",
    "        # to also retrieve _final_ values of argument variables\n",
    "\n",
    "        called_function_name, called_arguments = self._stack.pop()\n",
    "        assert function_name == called_function_name\n",
    "\n",
    "        if self._log:\n",
    "            print(simple_call_string(function_name, called_arguments), \"returns\", return_value)\n",
    "\n",
    "        self.add_call(function_name, called_arguments, return_value)"
   ]
  },
  {
   "cell_type": "markdown",
   "metadata": {
    "slideshow": {
     "slide_type": "subslide"
    }
   },
   "source": [
    "`add_call()` saves the calls in a list; each function name has its own list."
   ]
  },
  {
   "cell_type": "code",
   "execution_count": 42,
   "metadata": {
    "execution": {
     "iopub.execute_input": "2025-10-26T17:48:25.075700Z",
     "iopub.status.busy": "2025-10-26T17:48:25.075609Z",
     "iopub.status.idle": "2025-10-26T17:48:25.077580Z",
     "shell.execute_reply": "2025-10-26T17:48:25.077296Z"
    },
    "slideshow": {
     "slide_type": "fragment"
    }
   },
   "outputs": [],
   "source": [
    "class CallTracer(CallTracer):\n",
    "    def add_call(self, function_name: str, arguments: Arguments,\n",
    "                 return_value: Any = None) -> None:\n",
    "        \"\"\"Add given call to list of calls\"\"\"\n",
    "        if function_name not in self._calls:\n",
    "            self._calls[function_name] = []\n",
    "\n",
    "        self._calls[function_name].append((arguments, return_value))"
   ]
  },
  {
   "cell_type": "markdown",
   "metadata": {
    "slideshow": {
     "slide_type": "fragment"
    }
   },
   "source": [
    "we can retrieve the list of calls, either for a given function name (`calls()`),\n",
    "or for all functions (`all_calls()`)."
   ]
  },
  {
   "cell_type": "code",
   "execution_count": 43,
   "metadata": {
    "execution": {
     "iopub.execute_input": "2025-10-26T17:48:25.079024Z",
     "iopub.status.busy": "2025-10-26T17:48:25.078935Z",
     "iopub.status.idle": "2025-10-26T17:48:25.080727Z",
     "shell.execute_reply": "2025-10-26T17:48:25.080468Z"
    },
    "slideshow": {
     "slide_type": "subslide"
    }
   },
   "outputs": [],
   "source": [
    "class CallTracer(CallTracer):\n",
    "    def calls(self, function_name: str) -> List[Tuple[Arguments, Any]]:\n",
    "        \"\"\"Return list of calls for `function_name`.\"\"\"\n",
    "        return self._calls[function_name]"
   ]
  },
  {
   "cell_type": "code",
   "execution_count": 44,
   "metadata": {
    "execution": {
     "iopub.execute_input": "2025-10-26T17:48:25.081900Z",
     "iopub.status.busy": "2025-10-26T17:48:25.081809Z",
     "iopub.status.idle": "2025-10-26T17:48:25.083543Z",
     "shell.execute_reply": "2025-10-26T17:48:25.083335Z"
    },
    "slideshow": {
     "slide_type": "fragment"
    }
   },
   "outputs": [],
   "source": [
    "class CallTracer(CallTracer):\n",
    "    def all_calls(self) -> Dict[str, List[Tuple[Arguments, Any]]]:\n",
    "        \"\"\"\n",
    "        Return list of calls for function_name, \n",
    "        or a mapping function_name -> calls for all functions tracked\n",
    "        \"\"\"\n",
    "        return self._calls"
   ]
  },
  {
   "cell_type": "markdown",
   "metadata": {
    "slideshow": {
     "slide_type": "fragment"
    }
   },
   "source": [
    "Let us now put this to use.  We turn on logging to track the individual calls and their return values:"
   ]
  },
  {
   "cell_type": "code",
   "execution_count": 45,
   "metadata": {
    "execution": {
     "iopub.execute_input": "2025-10-26T17:48:25.084711Z",
     "iopub.status.busy": "2025-10-26T17:48:25.084625Z",
     "iopub.status.idle": "2025-10-26T17:48:25.086740Z",
     "shell.execute_reply": "2025-10-26T17:48:25.086489Z"
    },
    "slideshow": {
     "slide_type": "subslide"
    }
   },
   "outputs": [
    {
     "name": "stdout",
     "output_type": "stream",
     "text": [
      "square_root(x=25)\n",
      "square_root(x=25) returns 5.0\n",
      "square_root(x=2.0)\n",
      "square_root(x=2.0) returns 1.414213562373095\n"
     ]
    }
   ],
   "source": [
    "with CallTracer(log=True) as tracer:\n",
    "    y = square_root(25)\n",
    "    y = square_root(2.0)"
   ]
  },
  {
   "cell_type": "markdown",
   "metadata": {
    "slideshow": {
     "slide_type": "fragment"
    }
   },
   "source": [
    "After execution, we can retrieve the individual calls:"
   ]
  },
  {
   "cell_type": "code",
   "execution_count": 46,
   "metadata": {
    "execution": {
     "iopub.execute_input": "2025-10-26T17:48:25.088055Z",
     "iopub.status.busy": "2025-10-26T17:48:25.087978Z",
     "iopub.status.idle": "2025-10-26T17:48:25.089980Z",
     "shell.execute_reply": "2025-10-26T17:48:25.089748Z"
    },
    "slideshow": {
     "slide_type": "fragment"
    }
   },
   "outputs": [
    {
     "data": {
      "text/plain": [
       "[([('x', 25)], 5.0), ([('x', 2.0)], 1.414213562373095)]"
      ]
     },
     "execution_count": 46,
     "metadata": {},
     "output_type": "execute_result"
    }
   ],
   "source": [
    "calls = tracer.calls('square_root')\n",
    "calls"
   ]
  },
  {
   "cell_type": "markdown",
   "metadata": {
    "slideshow": {
     "slide_type": "fragment"
    }
   },
   "source": [
    "Each call is a pair (`argument_list`, `return_value`), where `argument_list` is a list of pairs (`parameter_name`, `value`)."
   ]
  },
  {
   "cell_type": "code",
   "execution_count": 47,
   "metadata": {
    "execution": {
     "iopub.execute_input": "2025-10-26T17:48:25.091180Z",
     "iopub.status.busy": "2025-10-26T17:48:25.091103Z",
     "iopub.status.idle": "2025-10-26T17:48:25.092973Z",
     "shell.execute_reply": "2025-10-26T17:48:25.092762Z"
    },
    "slideshow": {
     "slide_type": "subslide"
    }
   },
   "outputs": [
    {
     "data": {
      "text/plain": [
       "'square_root(x=25) = 5.0'"
      ]
     },
     "execution_count": 47,
     "metadata": {},
     "output_type": "execute_result"
    }
   ],
   "source": [
    "square_root_argument_list, square_root_return_value = calls[0]\n",
    "simple_call_string('square_root', square_root_argument_list, square_root_return_value)"
   ]
  },
  {
   "cell_type": "markdown",
   "metadata": {
    "slideshow": {
     "slide_type": "fragment"
    }
   },
   "source": [
    "If the function does not return a value, `return_value` is `None`."
   ]
  },
  {
   "cell_type": "code",
   "execution_count": 48,
   "metadata": {
    "execution": {
     "iopub.execute_input": "2025-10-26T17:48:25.094346Z",
     "iopub.status.busy": "2025-10-26T17:48:25.094254Z",
     "iopub.status.idle": "2025-10-26T17:48:25.095770Z",
     "shell.execute_reply": "2025-10-26T17:48:25.095537Z"
    },
    "slideshow": {
     "slide_type": "fragment"
    }
   },
   "outputs": [],
   "source": [
    "def hello(name: str) -> None:\n",
    "    print(\"Hello,\", name)"
   ]
  },
  {
   "cell_type": "code",
   "execution_count": 49,
   "metadata": {
    "execution": {
     "iopub.execute_input": "2025-10-26T17:48:25.097025Z",
     "iopub.status.busy": "2025-10-26T17:48:25.096911Z",
     "iopub.status.idle": "2025-10-26T17:48:25.099061Z",
     "shell.execute_reply": "2025-10-26T17:48:25.098828Z"
    },
    "slideshow": {
     "slide_type": "fragment"
    }
   },
   "outputs": [
    {
     "name": "stdout",
     "output_type": "stream",
     "text": [
      "Hello, world\n"
     ]
    }
   ],
   "source": [
    "with CallTracer() as tracer:\n",
    "    hello(\"world\")"
   ]
  },
  {
   "cell_type": "code",
   "execution_count": 50,
   "metadata": {
    "execution": {
     "iopub.execute_input": "2025-10-26T17:48:25.100197Z",
     "iopub.status.busy": "2025-10-26T17:48:25.100108Z",
     "iopub.status.idle": "2025-10-26T17:48:25.101962Z",
     "shell.execute_reply": "2025-10-26T17:48:25.101752Z"
    },
    "slideshow": {
     "slide_type": "fragment"
    }
   },
   "outputs": [
    {
     "data": {
      "text/plain": [
       "[([('name', 'world')], None)]"
      ]
     },
     "execution_count": 50,
     "metadata": {},
     "output_type": "execute_result"
    }
   ],
   "source": [
    "hello_calls = tracer.calls('hello')\n",
    "hello_calls"
   ]
  },
  {
   "cell_type": "code",
   "execution_count": 51,
   "metadata": {
    "execution": {
     "iopub.execute_input": "2025-10-26T17:48:25.102996Z",
     "iopub.status.busy": "2025-10-26T17:48:25.102913Z",
     "iopub.status.idle": "2025-10-26T17:48:25.104755Z",
     "shell.execute_reply": "2025-10-26T17:48:25.104563Z"
    },
    "slideshow": {
     "slide_type": "subslide"
    }
   },
   "outputs": [
    {
     "data": {
      "text/plain": [
       "\"hello(name='world')\""
      ]
     },
     "execution_count": 51,
     "metadata": {},
     "output_type": "execute_result"
    }
   ],
   "source": [
    "hello_argument_list, hello_return_value = hello_calls[0]\n",
    "simple_call_string('hello', hello_argument_list, hello_return_value)"
   ]
  },
  {
   "cell_type": "markdown",
   "metadata": {
    "button": false,
    "new_sheet": false,
    "run_control": {
     "read_only": false
    },
    "slideshow": {
     "slide_type": "subslide"
    }
   },
   "source": [
    "### Getting Types\n",
    "\n",
    "Despite what you may have read or heard, Python actually _is_ a typed language.  It is just that it is _dynamically typed_ – types are used and checked only at runtime (rather than declared in the code, where they can be _statically checked_ at compile time).  We can thus retrieve types of all values within Python:"
   ]
  },
  {
   "cell_type": "code",
   "execution_count": 52,
   "metadata": {
    "execution": {
     "iopub.execute_input": "2025-10-26T17:48:25.105871Z",
     "iopub.status.busy": "2025-10-26T17:48:25.105802Z",
     "iopub.status.idle": "2025-10-26T17:48:25.107566Z",
     "shell.execute_reply": "2025-10-26T17:48:25.107333Z"
    },
    "slideshow": {
     "slide_type": "fragment"
    }
   },
   "outputs": [
    {
     "data": {
      "text/plain": [
       "int"
      ]
     },
     "execution_count": 52,
     "metadata": {},
     "output_type": "execute_result"
    }
   ],
   "source": [
    "type(4)"
   ]
  },
  {
   "cell_type": "code",
   "execution_count": 53,
   "metadata": {
    "execution": {
     "iopub.execute_input": "2025-10-26T17:48:25.108804Z",
     "iopub.status.busy": "2025-10-26T17:48:25.108719Z",
     "iopub.status.idle": "2025-10-26T17:48:25.110591Z",
     "shell.execute_reply": "2025-10-26T17:48:25.110382Z"
    },
    "slideshow": {
     "slide_type": "fragment"
    }
   },
   "outputs": [
    {
     "data": {
      "text/plain": [
       "float"
      ]
     },
     "execution_count": 53,
     "metadata": {},
     "output_type": "execute_result"
    }
   ],
   "source": [
    "type(2.0)"
   ]
  },
  {
   "cell_type": "code",
   "execution_count": 54,
   "metadata": {
    "execution": {
     "iopub.execute_input": "2025-10-26T17:48:25.111773Z",
     "iopub.status.busy": "2025-10-26T17:48:25.111680Z",
     "iopub.status.idle": "2025-10-26T17:48:25.113520Z",
     "shell.execute_reply": "2025-10-26T17:48:25.113288Z"
    },
    "slideshow": {
     "slide_type": "fragment"
    }
   },
   "outputs": [
    {
     "data": {
      "text/plain": [
       "list"
      ]
     },
     "execution_count": 54,
     "metadata": {},
     "output_type": "execute_result"
    }
   ],
   "source": [
    "type([4])"
   ]
  },
  {
   "cell_type": "markdown",
   "metadata": {
    "slideshow": {
     "slide_type": "fragment"
    }
   },
   "source": [
    "We can retrieve the type of the first argument to `square_root()`:"
   ]
  },
  {
   "cell_type": "code",
   "execution_count": 55,
   "metadata": {
    "execution": {
     "iopub.execute_input": "2025-10-26T17:48:25.114757Z",
     "iopub.status.busy": "2025-10-26T17:48:25.114670Z",
     "iopub.status.idle": "2025-10-26T17:48:25.116619Z",
     "shell.execute_reply": "2025-10-26T17:48:25.116386Z"
    },
    "slideshow": {
     "slide_type": "subslide"
    }
   },
   "outputs": [
    {
     "data": {
      "text/plain": [
       "('x', int)"
      ]
     },
     "execution_count": 55,
     "metadata": {},
     "output_type": "execute_result"
    }
   ],
   "source": [
    "parameter, value = square_root_argument_list[0]\n",
    "parameter, type(value)"
   ]
  },
  {
   "cell_type": "markdown",
   "metadata": {
    "slideshow": {
     "slide_type": "fragment"
    }
   },
   "source": [
    "as well as the type of the return value:"
   ]
  },
  {
   "cell_type": "code",
   "execution_count": 56,
   "metadata": {
    "execution": {
     "iopub.execute_input": "2025-10-26T17:48:25.118272Z",
     "iopub.status.busy": "2025-10-26T17:48:25.118180Z",
     "iopub.status.idle": "2025-10-26T17:48:25.120326Z",
     "shell.execute_reply": "2025-10-26T17:48:25.120072Z"
    },
    "slideshow": {
     "slide_type": "fragment"
    }
   },
   "outputs": [
    {
     "data": {
      "text/plain": [
       "float"
      ]
     },
     "execution_count": 56,
     "metadata": {},
     "output_type": "execute_result"
    }
   ],
   "source": [
    "type(square_root_return_value)"
   ]
  },
  {
   "cell_type": "markdown",
   "metadata": {
    "slideshow": {
     "slide_type": "fragment"
    }
   },
   "source": [
    "Hence, we see that (so far), `square_root()` is a function taking (among others) integers and returning floats.  We could declare `square_root()` as:"
   ]
  },
  {
   "cell_type": "code",
   "execution_count": 57,
   "metadata": {
    "execution": {
     "iopub.execute_input": "2025-10-26T17:48:25.121684Z",
     "iopub.status.busy": "2025-10-26T17:48:25.121591Z",
     "iopub.status.idle": "2025-10-26T17:48:25.123247Z",
     "shell.execute_reply": "2025-10-26T17:48:25.123044Z"
    },
    "slideshow": {
     "slide_type": "fragment"
    }
   },
   "outputs": [],
   "source": [
    "def square_root_annotated(x: int) -> float:\n",
    "    return square_root(x)"
   ]
  },
  {
   "cell_type": "markdown",
   "metadata": {
    "slideshow": {
     "slide_type": "fragment"
    }
   },
   "source": [
    "This is a representation we could place in a static type checker, allowing to check whether calls to `square_root()` actually pass a number.  A dynamic type checker could run such checks at runtime."
   ]
  },
  {
   "cell_type": "markdown",
   "metadata": {
    "slideshow": {
     "slide_type": "subslide"
    }
   },
   "source": [
    "By default, Python does not do anything with such annotations.  However, tools can access annotations from functions and other objects:"
   ]
  },
  {
   "cell_type": "code",
   "execution_count": 58,
   "metadata": {
    "execution": {
     "iopub.execute_input": "2025-10-26T17:48:25.124527Z",
     "iopub.status.busy": "2025-10-26T17:48:25.124441Z",
     "iopub.status.idle": "2025-10-26T17:48:25.126502Z",
     "shell.execute_reply": "2025-10-26T17:48:25.126265Z"
    },
    "slideshow": {
     "slide_type": "fragment"
    }
   },
   "outputs": [
    {
     "data": {
      "text/plain": [
       "{'x': int, 'return': float}"
      ]
     },
     "execution_count": 58,
     "metadata": {},
     "output_type": "execute_result"
    }
   ],
   "source": [
    "square_root_annotated.__annotations__"
   ]
  },
  {
   "cell_type": "markdown",
   "metadata": {
    "slideshow": {
     "slide_type": "fragment"
    }
   },
   "source": [
    "This is how run-time checkers access the annotations to check against."
   ]
  },
  {
   "cell_type": "markdown",
   "metadata": {
    "slideshow": {
     "slide_type": "subslide"
    }
   },
   "source": [
    "### Annotating Functions with Types\n",
    "\n",
    "Our plan is to annotate functions automatically, based on the types we have seen. Our aim is to build a class `TypeAnnotator` that can be used as follows. First, it would track some execution:\n",
    "\n",
    "```python\n",
    "with TypeAnnotator() as annotator:\n",
    "    some_function_call()\n",
    "```\n",
    "\n",
    "After tracking, `TypeAnnotator` would provide appropriate methods to access (type-)annotated versions of the function seen:\n",
    "\n",
    "```python\n",
    "print(annotator.typed_functions())\n",
    "```\n",
    "\n",
    "Let us put the pieces together to build `TypeAnnotator`."
   ]
  },
  {
   "cell_type": "markdown",
   "metadata": {
    "slideshow": {
     "slide_type": "subslide"
    }
   },
   "source": [
    "#### Excursion: Accessing Function Structure"
   ]
  },
  {
   "cell_type": "markdown",
   "metadata": {
    "slideshow": {
     "slide_type": "fragment"
    }
   },
   "source": [
    "To annotate functions, we need to convert a function into a tree representation (called _abstract syntax trees_, or ASTs) and back; we already have seen these in the chapter on [tracking value origins](Slicer.ipynb)."
   ]
  },
  {
   "cell_type": "code",
   "execution_count": 59,
   "metadata": {
    "execution": {
     "iopub.execute_input": "2025-10-26T17:48:25.128070Z",
     "iopub.status.busy": "2025-10-26T17:48:25.127972Z",
     "iopub.status.idle": "2025-10-26T17:48:25.129734Z",
     "shell.execute_reply": "2025-10-26T17:48:25.129463Z"
    },
    "slideshow": {
     "slide_type": "skip"
    }
   },
   "outputs": [],
   "source": [
    "import ast\n",
    "import inspect"
   ]
  },
  {
   "cell_type": "markdown",
   "metadata": {
    "slideshow": {
     "slide_type": "fragment"
    }
   },
   "source": [
    "We can get the source of a Python function using `inspect.getsource()`.  (Note that this does not work for functions defined in other notebooks.)"
   ]
  },
  {
   "cell_type": "code",
   "execution_count": 60,
   "metadata": {
    "execution": {
     "iopub.execute_input": "2025-10-26T17:48:25.131188Z",
     "iopub.status.busy": "2025-10-26T17:48:25.131097Z",
     "iopub.status.idle": "2025-10-26T17:48:25.133588Z",
     "shell.execute_reply": "2025-10-26T17:48:25.133324Z"
    },
    "slideshow": {
     "slide_type": "fragment"
    }
   },
   "outputs": [
    {
     "data": {
      "text/plain": [
       "'def square_root(x):  # type: ignore\\n    \"\"\"Computes the square root of x, using the Newton-Raphson method\"\"\"\\n    approx = None\\n    guess = x / 2\\n    while approx != guess:\\n        approx = guess\\n        guess = (approx + x / approx) / 2\\n\\n    return approx\\n'"
      ]
     },
     "execution_count": 60,
     "metadata": {},
     "output_type": "execute_result"
    }
   ],
   "source": [
    "square_root_source = inspect.getsource(square_root)\n",
    "square_root_source"
   ]
  },
  {
   "cell_type": "markdown",
   "metadata": {
    "slideshow": {
     "slide_type": "fragment"
    }
   },
   "source": [
    "To view these in a visually pleasing form, our function `print_content(s, suffix)` formats and highlights the string `s` as if it were a file with ending `suffix`.  We can thus view (and highlight) the source as if it were a Python file:"
   ]
  },
  {
   "cell_type": "code",
   "execution_count": 61,
   "metadata": {
    "execution": {
     "iopub.execute_input": "2025-10-26T17:48:25.135264Z",
     "iopub.status.busy": "2025-10-26T17:48:25.135100Z",
     "iopub.status.idle": "2025-10-26T17:48:25.136657Z",
     "shell.execute_reply": "2025-10-26T17:48:25.136421Z"
    },
    "slideshow": {
     "slide_type": "skip"
    }
   },
   "outputs": [],
   "source": [
    "from bookutils import print_content"
   ]
  },
  {
   "cell_type": "code",
   "execution_count": 62,
   "metadata": {
    "execution": {
     "iopub.execute_input": "2025-10-26T17:48:25.137911Z",
     "iopub.status.busy": "2025-10-26T17:48:25.137826Z",
     "iopub.status.idle": "2025-10-26T17:48:25.151112Z",
     "shell.execute_reply": "2025-10-26T17:48:25.150744Z"
    },
    "slideshow": {
     "slide_type": "subslide"
    }
   },
   "outputs": [
    {
     "name": "stdout",
     "output_type": "stream",
     "text": [
      "\u001b[34mdef\u001b[39;49;00m\u001b[37m \u001b[39;49;00m\u001b[32msquare_root\u001b[39;49;00m(x):  \u001b[37m# type: ignore\u001b[39;49;00m\u001b[37m\u001b[39;49;00m\n",
      "\u001b[37m    \u001b[39;49;00m\u001b[33m\"\"\"Computes the square root of x, using the Newton-Raphson method\"\"\"\u001b[39;49;00m\u001b[37m\u001b[39;49;00m\n",
      "    approx = \u001b[34mNone\u001b[39;49;00m\u001b[37m\u001b[39;49;00m\n",
      "    guess = x / \u001b[34m2\u001b[39;49;00m\u001b[37m\u001b[39;49;00m\n",
      "    \u001b[34mwhile\u001b[39;49;00m approx != guess:\u001b[37m\u001b[39;49;00m\n",
      "        approx = guess\u001b[37m\u001b[39;49;00m\n",
      "        guess = (approx + x / approx) / \u001b[34m2\u001b[39;49;00m\u001b[37m\u001b[39;49;00m\n",
      "\u001b[37m\u001b[39;49;00m\n",
      "    \u001b[34mreturn\u001b[39;49;00m approx\u001b[37m\u001b[39;49;00m"
     ]
    }
   ],
   "source": [
    "print_content(square_root_source, '.py')"
   ]
  },
  {
   "cell_type": "markdown",
   "metadata": {
    "slideshow": {
     "slide_type": "fragment"
    }
   },
   "source": [
    "Parsing this gives us an abstract syntax tree (AST) – a representation of the program in tree form."
   ]
  },
  {
   "cell_type": "code",
   "execution_count": 63,
   "metadata": {
    "execution": {
     "iopub.execute_input": "2025-10-26T17:48:25.152830Z",
     "iopub.status.busy": "2025-10-26T17:48:25.152695Z",
     "iopub.status.idle": "2025-10-26T17:48:25.154619Z",
     "shell.execute_reply": "2025-10-26T17:48:25.154252Z"
    },
    "slideshow": {
     "slide_type": "fragment"
    }
   },
   "outputs": [],
   "source": [
    "square_root_ast = ast.parse(square_root_source)"
   ]
  },
  {
   "cell_type": "markdown",
   "metadata": {
    "slideshow": {
     "slide_type": "subslide"
    }
   },
   "source": [
    "What does this AST look like?  The helper functions `ast.dump()` (textual output) and `showast.show_ast()` (graphical output with [showast](https://github.com/hchasestevens/show_ast)) allow us to inspect the structure of the tree.  We see that the function starts as a `FunctionDef` with name and arguments, followed by a body, which is a list of statements of type `Expr` (the docstring), type `Assign` (assignments), `While` (while loop with its own body), and finally `Return`."
   ]
  },
  {
   "cell_type": "code",
   "execution_count": 64,
   "metadata": {
    "execution": {
     "iopub.execute_input": "2025-10-26T17:48:25.156111Z",
     "iopub.status.busy": "2025-10-26T17:48:25.156007Z",
     "iopub.status.idle": "2025-10-26T17:48:25.157909Z",
     "shell.execute_reply": "2025-10-26T17:48:25.157647Z"
    },
    "slideshow": {
     "slide_type": "subslide"
    }
   },
   "outputs": [
    {
     "name": "stdout",
     "output_type": "stream",
     "text": [
      "Module(\n",
      "    body=[\n",
      "        FunctionDef(\n",
      "            name='square_root',\n",
      "            args=arguments(\n",
      "                args=[\n",
      "                    arg(arg='x')]),\n",
      "            body=[\n",
      "                Expr(\n",
      "                    value=Constant(value='Computes the square root of x, using the Newton-Raphson method')),\n",
      "                Assign(\n",
      "                    targets=[\n",
      "                        Name(id='approx', ctx=Store())],\n",
      "                    value=Constant(value=None)),\n",
      "                Assign(\n",
      "                    targets=[\n",
      "                        Name(id='guess', ctx=Store())],\n",
      "                    value=BinOp(\n",
      "                        left=Name(id='x', ctx=Load()),\n",
      "                        op=Div(),\n",
      "                        right=Constant(value=2))),\n",
      "                While(\n",
      "                    test=Compare(\n",
      "                        left=Name(id='approx', ctx=Load()),\n",
      "                        ops=[\n",
      "                            NotEq()],\n",
      "                        comparators=[\n",
      "                            Name(id='guess', ctx=Load())]),\n",
      "                    body=[\n",
      "                        Assign(\n",
      "                            targets=[\n",
      "                                Name(id='approx', ctx=Store())],\n",
      "                            value=Name(id='guess', ctx=Load())),\n",
      "                        Assign(\n",
      "                            targets=[\n",
      "                                Name(id='guess', ctx=Store())],\n",
      "                            value=BinOp(\n",
      "                                left=BinOp(\n",
      "                                    left=Name(id='approx', ctx=Load()),\n",
      "                                    op=Add(),\n",
      "                                    right=BinOp(\n",
      "                                        left=Name(id='x', ctx=Load()),\n",
      "                                        op=Div(),\n",
      "                                        right=Name(id='approx', ctx=Load()))),\n",
      "                                op=Div(),\n",
      "                                right=Constant(value=2)))]),\n",
      "                Return(\n",
      "                    value=Name(id='approx', ctx=Load()))])])\n"
     ]
    }
   ],
   "source": [
    "print(ast.dump(square_root_ast, indent=4))"
   ]
  },
  {
   "cell_type": "markdown",
   "metadata": {
    "slideshow": {
     "slide_type": "subslide"
    }
   },
   "source": [
    "Too much text for you?  This graphical representation may make things simpler."
   ]
  },
  {
   "cell_type": "code",
   "execution_count": 65,
   "metadata": {
    "execution": {
     "iopub.execute_input": "2025-10-26T17:48:25.159278Z",
     "iopub.status.busy": "2025-10-26T17:48:25.159144Z",
     "iopub.status.idle": "2025-10-26T17:48:25.160708Z",
     "shell.execute_reply": "2025-10-26T17:48:25.160468Z"
    },
    "slideshow": {
     "slide_type": "skip"
    }
   },
   "outputs": [],
   "source": [
    "from bookutils import show_ast"
   ]
  },
  {
   "cell_type": "code",
   "execution_count": 66,
   "metadata": {
    "execution": {
     "iopub.execute_input": "2025-10-26T17:48:25.162175Z",
     "iopub.status.busy": "2025-10-26T17:48:25.162082Z",
     "iopub.status.idle": "2025-10-26T17:48:25.525398Z",
     "shell.execute_reply": "2025-10-26T17:48:25.525053Z"
    },
    "slideshow": {
     "slide_type": "fragment"
    }
   },
   "outputs": [
    {
     "data": {
      "image/svg+xml": [
       "<svg xmlns=\"http://www.w3.org/2000/svg\" xmlns:xlink=\"http://www.w3.org/1999/xlink\" width=\"1684pt\" height=\"548pt\" viewBox=\"0.00 0.00 1684.00 548.00\">\n",
       "<g id=\"graph0\" class=\"graph\" transform=\"scale(1 1) rotate(0) translate(4 544)\">\n",
       "<polygon fill=\"white\" stroke=\"none\" points=\"-4,4 -4,-544 1680,-544 1680,4 -4,4\"/>\n",
       "<!-- 0 -->\n",
       "<g id=\"node1\" class=\"node\">\n",
       "<title>0</title>\n",
       "<text xml:space=\"preserve\" text-anchor=\"start\" x=\"282.62\" y=\"-517.95\" font-family=\"Courier,monospace\" font-weight=\"bold\" font-size=\"14.00\" fill=\"#004080\">FunctionDef</text>\n",
       "</g>\n",
       "<!-- 1 -->\n",
       "<g id=\"node2\" class=\"node\">\n",
       "<title>1</title>\n",
       "<text xml:space=\"preserve\" text-anchor=\"middle\" x=\"65\" y=\"-444.95\" font-family=\"Courier,monospace\" font-size=\"14.00\" fill=\"#008040\">\"square_root\"</text>\n",
       "</g>\n",
       "<!-- 0&#45;&#45;1 -->\n",
       "<g id=\"edge1\" class=\"edge\">\n",
       "<title>0--1</title>\n",
       "<path fill=\"none\" stroke=\"black\" d=\"M329,-503C329,-503 221.31,-485.93 136,-468 132.9,-467.35 129.73,-466.66 126.53,-465.95\"/>\n",
       "</g>\n",
       "<!-- 2 -->\n",
       "<g id=\"node3\" class=\"node\">\n",
       "<title>2</title>\n",
       "<text xml:space=\"preserve\" text-anchor=\"start\" x=\"152.88\" y=\"-445.95\" font-family=\"Courier,monospace\" font-weight=\"bold\" font-size=\"14.00\" fill=\"#004080\">arguments</text>\n",
       "</g>\n",
       "<!-- 0&#45;&#45;2 -->\n",
       "<g id=\"edge2\" class=\"edge\">\n",
       "<title>0--2</title>\n",
       "<path fill=\"none\" stroke=\"black\" d=\"M329,-503C329,-503 275.38,-482.94 234.75,-467.74\"/>\n",
       "</g>\n",
       "<!-- 5 -->\n",
       "<g id=\"node6\" class=\"node\">\n",
       "<title>5</title>\n",
       "<text xml:space=\"preserve\" text-anchor=\"start\" x=\"261.25\" y=\"-445.95\" font-family=\"Courier,monospace\" font-weight=\"bold\" font-size=\"14.00\" fill=\"#004080\">Assign</text>\n",
       "</g>\n",
       "<!-- 0&#45;&#45;5 -->\n",
       "<g id=\"edge5\" class=\"edge\">\n",
       "<title>0--5</title>\n",
       "<path fill=\"none\" stroke=\"black\" d=\"M329,-503C329,-503 312.41,-482.94 299.84,-467.74\"/>\n",
       "</g>\n",
       "<!-- 10 -->\n",
       "<g id=\"node11\" class=\"node\">\n",
       "<title>10</title>\n",
       "<text xml:space=\"preserve\" text-anchor=\"start\" x=\"346.25\" y=\"-445.95\" font-family=\"Courier,monospace\" font-weight=\"bold\" font-size=\"14.00\" fill=\"#004080\">Assign</text>\n",
       "</g>\n",
       "<!-- 0&#45;&#45;10 -->\n",
       "<g id=\"edge10\" class=\"edge\">\n",
       "<title>0--10</title>\n",
       "<path fill=\"none\" stroke=\"black\" d=\"M329,-503C329,-503 345.2,-482.94 357.48,-467.74\"/>\n",
       "</g>\n",
       "<!-- 21 -->\n",
       "<g id=\"node22\" class=\"node\">\n",
       "<title>21</title>\n",
       "<text xml:space=\"preserve\" text-anchor=\"start\" x=\"909.38\" y=\"-445.95\" font-family=\"Courier,monospace\" font-weight=\"bold\" font-size=\"14.00\" fill=\"#004080\">While</text>\n",
       "</g>\n",
       "<!-- 0&#45;&#45;21 -->\n",
       "<g id=\"edge21\" class=\"edge\">\n",
       "<title>0--21</title>\n",
       "<path fill=\"none\" stroke=\"black\" d=\"M329,-503C329,-503 781.98,-463.81 901.42,-453.47\"/>\n",
       "</g>\n",
       "<!-- 58 -->\n",
       "<g id=\"node59\" class=\"node\">\n",
       "<title>58</title>\n",
       "<text xml:space=\"preserve\" text-anchor=\"start\" x=\"1316.25\" y=\"-445.95\" font-family=\"Courier,monospace\" font-weight=\"bold\" font-size=\"14.00\" fill=\"#004080\">Return</text>\n",
       "</g>\n",
       "<!-- 0&#45;&#45;58 -->\n",
       "<g id=\"edge58\" class=\"edge\">\n",
       "<title>0--58</title>\n",
       "<path fill=\"none\" stroke=\"black\" d=\"M329,-503C329,-503 1135.26,-461.57 1308.48,-452.67\"/>\n",
       "</g>\n",
       "<!-- 3 -->\n",
       "<g id=\"node4\" class=\"node\">\n",
       "<title>3</title>\n",
       "<text xml:space=\"preserve\" text-anchor=\"start\" x=\"63.62\" y=\"-373.95\" font-family=\"Courier,monospace\" font-weight=\"bold\" font-size=\"14.00\" fill=\"#004080\">arg</text>\n",
       "</g>\n",
       "<!-- 2&#45;&#45;3 -->\n",
       "<g id=\"edge3\" class=\"edge\">\n",
       "<title>2--3</title>\n",
       "<path fill=\"none\" stroke=\"black\" d=\"M162.4,-432.05C144.35,-420.97 120.87,-406.55 102.95,-395.55\"/>\n",
       "</g>\n",
       "<!-- 4 -->\n",
       "<g id=\"node5\" class=\"node\">\n",
       "<title>4</title>\n",
       "<text xml:space=\"preserve\" text-anchor=\"middle\" x=\"27\" y=\"-300.95\" font-family=\"Courier,monospace\" font-size=\"14.00\" fill=\"#008040\">\"x\"</text>\n",
       "</g>\n",
       "<!-- 3&#45;&#45;4 -->\n",
       "<g id=\"edge4\" class=\"edge\">\n",
       "<title>3--4</title>\n",
       "<path fill=\"none\" stroke=\"black\" d=\"M64.14,-360.05C56.43,-349.05 46.43,-334.76 38.75,-323.79\"/>\n",
       "</g>\n",
       "<!-- 6 -->\n",
       "<g id=\"node7\" class=\"node\">\n",
       "<title>6</title>\n",
       "<text xml:space=\"preserve\" text-anchor=\"start\" x=\"182.5\" y=\"-373.95\" font-family=\"Courier,monospace\" font-weight=\"bold\" font-size=\"14.00\" fill=\"#004080\">Name</text>\n",
       "</g>\n",
       "<!-- 5&#45;&#45;6 -->\n",
       "<g id=\"edge6\" class=\"edge\">\n",
       "<title>5--6</title>\n",
       "<path fill=\"none\" stroke=\"black\" d=\"M277,-431C277,-431 246.91,-410.94 224.11,-395.74\"/>\n",
       "</g>\n",
       "<!-- 9 -->\n",
       "<g id=\"node10\" class=\"node\">\n",
       "<title>9</title>\n",
       "<text xml:space=\"preserve\" text-anchor=\"middle\" x=\"285\" y=\"-372.95\" font-family=\"Courier,monospace\" font-size=\"14.00\" fill=\"#008040\">Constant</text>\n",
       "</g>\n",
       "<!-- 5&#45;&#45;9 -->\n",
       "<g id=\"edge9\" class=\"edge\">\n",
       "<title>5--9</title>\n",
       "<path fill=\"none\" stroke=\"black\" d=\"M277,-431C277,-431 280.09,-410.94 282.42,-395.74\"/>\n",
       "</g>\n",
       "<!-- 7 -->\n",
       "<g id=\"node8\" class=\"node\">\n",
       "<title>7</title>\n",
       "<text xml:space=\"preserve\" text-anchor=\"middle\" x=\"113\" y=\"-300.95\" font-family=\"Courier,monospace\" font-size=\"14.00\" fill=\"#008040\">\"approx\"</text>\n",
       "</g>\n",
       "<!-- 6&#45;&#45;7 -->\n",
       "<g id=\"edge7\" class=\"edge\">\n",
       "<title>6--7</title>\n",
       "<path fill=\"none\" stroke=\"black\" d=\"M191,-359C191,-359 160.91,-338.94 138.11,-323.74\"/>\n",
       "</g>\n",
       "<!-- 8 -->\n",
       "<g id=\"node9\" class=\"node\">\n",
       "<title>8</title>\n",
       "<text xml:space=\"preserve\" text-anchor=\"middle\" x=\"201\" y=\"-300.95\" font-family=\"Courier,monospace\" font-size=\"14.00\" fill=\"#008040\">Store</text>\n",
       "</g>\n",
       "<!-- 6&#45;&#45;8 -->\n",
       "<g id=\"edge8\" class=\"edge\">\n",
       "<title>6--8</title>\n",
       "<path fill=\"none\" stroke=\"black\" d=\"M191,-359C191,-359 194.86,-338.94 197.78,-323.74\"/>\n",
       "</g>\n",
       "<!-- 11 -->\n",
       "<g id=\"node12\" class=\"node\">\n",
       "<title>11</title>\n",
       "<text xml:space=\"preserve\" text-anchor=\"start\" x=\"354.5\" y=\"-373.95\" font-family=\"Courier,monospace\" font-weight=\"bold\" font-size=\"14.00\" fill=\"#004080\">Name</text>\n",
       "</g>\n",
       "<!-- 10&#45;&#45;11 -->\n",
       "<g id=\"edge11\" class=\"edge\">\n",
       "<title>10--11</title>\n",
       "<path fill=\"none\" stroke=\"black\" d=\"M381,-431C381,-431 377.14,-410.94 374.22,-395.74\"/>\n",
       "</g>\n",
       "<!-- 14 -->\n",
       "<g id=\"node15\" class=\"node\">\n",
       "<title>14</title>\n",
       "<text xml:space=\"preserve\" text-anchor=\"start\" x=\"458.38\" y=\"-373.95\" font-family=\"Courier,monospace\" font-weight=\"bold\" font-size=\"14.00\" fill=\"#004080\">BinOp</text>\n",
       "</g>\n",
       "<!-- 10&#45;&#45;14 -->\n",
       "<g id=\"edge14\" class=\"edge\">\n",
       "<title>10--14</title>\n",
       "<path fill=\"none\" stroke=\"black\" d=\"M381,-431C381,-431 421.46,-409.53 450.39,-394.18\"/>\n",
       "</g>\n",
       "<!-- 12 -->\n",
       "<g id=\"node13\" class=\"node\">\n",
       "<title>12</title>\n",
       "<text xml:space=\"preserve\" text-anchor=\"middle\" x=\"285\" y=\"-300.95\" font-family=\"Courier,monospace\" font-size=\"14.00\" fill=\"#008040\">\"guess\"</text>\n",
       "</g>\n",
       "<!-- 11&#45;&#45;12 -->\n",
       "<g id=\"edge12\" class=\"edge\">\n",
       "<title>11--12</title>\n",
       "<path fill=\"none\" stroke=\"black\" d=\"M362,-359C362,-359 332.3,-338.94 309.79,-323.74\"/>\n",
       "</g>\n",
       "<!-- 13 -->\n",
       "<g id=\"node14\" class=\"node\">\n",
       "<title>13</title>\n",
       "<text xml:space=\"preserve\" text-anchor=\"middle\" x=\"369\" y=\"-300.95\" font-family=\"Courier,monospace\" font-size=\"14.00\" fill=\"#008040\">Store</text>\n",
       "</g>\n",
       "<!-- 11&#45;&#45;13 -->\n",
       "<g id=\"edge13\" class=\"edge\">\n",
       "<title>11--13</title>\n",
       "<path fill=\"none\" stroke=\"black\" d=\"M362,-359C362,-359 364.7,-338.94 366.75,-323.74\"/>\n",
       "</g>\n",
       "<!-- 15 -->\n",
       "<g id=\"node16\" class=\"node\">\n",
       "<title>15</title>\n",
       "<text xml:space=\"preserve\" text-anchor=\"start\" x=\"426.5\" y=\"-301.95\" font-family=\"Courier,monospace\" font-weight=\"bold\" font-size=\"14.00\" fill=\"#004080\">Name</text>\n",
       "</g>\n",
       "<!-- 14&#45;&#45;15 -->\n",
       "<g id=\"edge15\" class=\"edge\">\n",
       "<title>14--15</title>\n",
       "<path fill=\"none\" stroke=\"black\" d=\"M486,-359C486,-359 469.41,-338.94 456.84,-323.74\"/>\n",
       "</g>\n",
       "<!-- 18 -->\n",
       "<g id=\"node19\" class=\"node\">\n",
       "<title>18</title>\n",
       "<text xml:space=\"preserve\" text-anchor=\"middle\" x=\"515\" y=\"-300.95\" font-family=\"Courier,monospace\" font-size=\"14.00\" fill=\"#008040\">Div</text>\n",
       "</g>\n",
       "<!-- 14&#45;&#45;18 -->\n",
       "<g id=\"edge18\" class=\"edge\">\n",
       "<title>14--18</title>\n",
       "<path fill=\"none\" stroke=\"black\" d=\"M486,-359C486,-359 497.19,-338.94 505.66,-323.74\"/>\n",
       "</g>\n",
       "<!-- 19 -->\n",
       "<g id=\"node20\" class=\"node\">\n",
       "<title>19</title>\n",
       "<text xml:space=\"preserve\" text-anchor=\"start\" x=\"568\" y=\"-301.95\" font-family=\"Courier,monospace\" font-weight=\"bold\" font-size=\"14.00\" fill=\"#004080\">Constant</text>\n",
       "</g>\n",
       "<!-- 14&#45;&#45;19 -->\n",
       "<g id=\"edge19\" class=\"edge\">\n",
       "<title>14--19</title>\n",
       "<path fill=\"none\" stroke=\"black\" d=\"M486,-359C486,-359 530.08,-339.07 563.66,-323.88\"/>\n",
       "</g>\n",
       "<!-- 16 -->\n",
       "<g id=\"node17\" class=\"node\">\n",
       "<title>16</title>\n",
       "<text xml:space=\"preserve\" text-anchor=\"middle\" x=\"371\" y=\"-228.95\" font-family=\"Courier,monospace\" font-size=\"14.00\" fill=\"#008040\">\"x\"</text>\n",
       "</g>\n",
       "<!-- 15&#45;&#45;16 -->\n",
       "<g id=\"edge16\" class=\"edge\">\n",
       "<title>15--16</title>\n",
       "<path fill=\"none\" stroke=\"black\" d=\"M436,-287C436,-287 410.93,-266.94 391.92,-251.74\"/>\n",
       "</g>\n",
       "<!-- 17 -->\n",
       "<g id=\"node18\" class=\"node\">\n",
       "<title>17</title>\n",
       "<text xml:space=\"preserve\" text-anchor=\"middle\" x=\"443\" y=\"-228.95\" font-family=\"Courier,monospace\" font-size=\"14.00\" fill=\"#008040\">Load</text>\n",
       "</g>\n",
       "<!-- 15&#45;&#45;17 -->\n",
       "<g id=\"edge17\" class=\"edge\">\n",
       "<title>15--17</title>\n",
       "<path fill=\"none\" stroke=\"black\" d=\"M436,-287C436,-287 438.7,-266.94 440.75,-251.74\"/>\n",
       "</g>\n",
       "<!-- 20 -->\n",
       "<g id=\"node21\" class=\"node\">\n",
       "<title>20</title>\n",
       "<text xml:space=\"preserve\" text-anchor=\"middle\" x=\"515\" y=\"-228.95\" font-family=\"Courier,monospace\" font-size=\"14.00\" fill=\"#008040\">2</text>\n",
       "</g>\n",
       "<!-- 19&#45;&#45;20 -->\n",
       "<g id=\"edge20\" class=\"edge\">\n",
       "<title>19--20</title>\n",
       "<path fill=\"none\" stroke=\"black\" d=\"M580.18,-288.05C566.66,-277.05 549.11,-262.76 535.63,-251.79\"/>\n",
       "</g>\n",
       "<!-- 22 -->\n",
       "<g id=\"node23\" class=\"node\">\n",
       "<title>22</title>\n",
       "<text xml:space=\"preserve\" text-anchor=\"start\" x=\"777.12\" y=\"-373.95\" font-family=\"Courier,monospace\" font-weight=\"bold\" font-size=\"14.00\" fill=\"#004080\">Compare</text>\n",
       "</g>\n",
       "<!-- 21&#45;&#45;22 -->\n",
       "<g id=\"edge22\" class=\"edge\">\n",
       "<title>21--22</title>\n",
       "<path fill=\"none\" stroke=\"black\" d=\"M938,-431C938,-431 881.83,-408.87 842.77,-393.48\"/>\n",
       "</g>\n",
       "<!-- 30 -->\n",
       "<g id=\"node31\" class=\"node\">\n",
       "<title>30</title>\n",
       "<text xml:space=\"preserve\" text-anchor=\"start\" x=\"956.25\" y=\"-373.95\" font-family=\"Courier,monospace\" font-weight=\"bold\" font-size=\"14.00\" fill=\"#004080\">Assign</text>\n",
       "</g>\n",
       "<!-- 21&#45;&#45;30 -->\n",
       "<g id=\"edge30\" class=\"edge\">\n",
       "<title>21--30</title>\n",
       "<path fill=\"none\" stroke=\"black\" d=\"M938,-431C938,-431 954.59,-410.94 967.16,-395.74\"/>\n",
       "</g>\n",
       "<!-- 37 -->\n",
       "<g id=\"node38\" class=\"node\">\n",
       "<title>37</title>\n",
       "<text xml:space=\"preserve\" text-anchor=\"start\" x=\"1290.25\" y=\"-373.95\" font-family=\"Courier,monospace\" font-weight=\"bold\" font-size=\"14.00\" fill=\"#004080\">Assign</text>\n",
       "</g>\n",
       "<!-- 21&#45;&#45;37 -->\n",
       "<g id=\"edge37\" class=\"edge\">\n",
       "<title>21--37</title>\n",
       "<path fill=\"none\" stroke=\"black\" d=\"M938,-431C938,-431 1191.08,-396.09 1282.53,-383.48\"/>\n",
       "</g>\n",
       "<!-- 23 -->\n",
       "<g id=\"node24\" class=\"node\">\n",
       "<title>23</title>\n",
       "<text xml:space=\"preserve\" text-anchor=\"start\" x=\"670.5\" y=\"-301.95\" font-family=\"Courier,monospace\" font-weight=\"bold\" font-size=\"14.00\" fill=\"#004080\">Name</text>\n",
       "</g>\n",
       "<!-- 22&#45;&#45;23 -->\n",
       "<g id=\"edge23\" class=\"edge\">\n",
       "<title>22--23</title>\n",
       "<path fill=\"none\" stroke=\"black\" d=\"M799,-359C799,-359 746.96,-334.84 713.83,-319.46\"/>\n",
       "</g>\n",
       "<!-- 26 -->\n",
       "<g id=\"node27\" class=\"node\">\n",
       "<title>26</title>\n",
       "<text xml:space=\"preserve\" text-anchor=\"middle\" x=\"769\" y=\"-300.95\" font-family=\"Courier,monospace\" font-size=\"14.00\" fill=\"#008040\">NotEq</text>\n",
       "</g>\n",
       "<!-- 22&#45;&#45;26 -->\n",
       "<g id=\"edge26\" class=\"edge\">\n",
       "<title>22--26</title>\n",
       "<path fill=\"none\" stroke=\"black\" d=\"M799,-359C799,-359 787.43,-338.94 778.66,-323.74\"/>\n",
       "</g>\n",
       "<!-- 27 -->\n",
       "<g id=\"node28\" class=\"node\">\n",
       "<title>27</title>\n",
       "<text xml:space=\"preserve\" text-anchor=\"start\" x=\"826.5\" y=\"-301.95\" font-family=\"Courier,monospace\" font-weight=\"bold\" font-size=\"14.00\" fill=\"#004080\">Name</text>\n",
       "</g>\n",
       "<!-- 22&#45;&#45;27 -->\n",
       "<g id=\"edge27\" class=\"edge\">\n",
       "<title>22--27</title>\n",
       "<path fill=\"none\" stroke=\"black\" d=\"M799,-359C799,-359 815.97,-338.94 828.84,-323.74\"/>\n",
       "</g>\n",
       "<!-- 24 -->\n",
       "<g id=\"node25\" class=\"node\">\n",
       "<title>24</title>\n",
       "<text xml:space=\"preserve\" text-anchor=\"middle\" x=\"601\" y=\"-228.95\" font-family=\"Courier,monospace\" font-size=\"14.00\" fill=\"#008040\">\"approx\"</text>\n",
       "</g>\n",
       "<!-- 23&#45;&#45;24 -->\n",
       "<g id=\"edge24\" class=\"edge\">\n",
       "<title>23--24</title>\n",
       "<path fill=\"none\" stroke=\"black\" d=\"M679,-287C679,-287 648.91,-266.94 626.11,-251.74\"/>\n",
       "</g>\n",
       "<!-- 25 -->\n",
       "<g id=\"node26\" class=\"node\">\n",
       "<title>25</title>\n",
       "<text xml:space=\"preserve\" text-anchor=\"middle\" x=\"687\" y=\"-228.95\" font-family=\"Courier,monospace\" font-size=\"14.00\" fill=\"#008040\">Load</text>\n",
       "</g>\n",
       "<!-- 23&#45;&#45;25 -->\n",
       "<g id=\"edge25\" class=\"edge\">\n",
       "<title>23--25</title>\n",
       "<path fill=\"none\" stroke=\"black\" d=\"M679,-287C679,-287 682.09,-266.94 684.42,-251.74\"/>\n",
       "</g>\n",
       "<!-- 28 -->\n",
       "<g id=\"node29\" class=\"node\">\n",
       "<title>28</title>\n",
       "<text xml:space=\"preserve\" text-anchor=\"middle\" x=\"769\" y=\"-228.95\" font-family=\"Courier,monospace\" font-size=\"14.00\" fill=\"#008040\">\"guess\"</text>\n",
       "</g>\n",
       "<!-- 27&#45;&#45;28 -->\n",
       "<g id=\"edge28\" class=\"edge\">\n",
       "<title>27--28</title>\n",
       "<path fill=\"none\" stroke=\"black\" d=\"M837,-287C837,-287 810.77,-266.94 790.89,-251.74\"/>\n",
       "</g>\n",
       "<!-- 29 -->\n",
       "<g id=\"node30\" class=\"node\">\n",
       "<title>29</title>\n",
       "<text xml:space=\"preserve\" text-anchor=\"middle\" x=\"851\" y=\"-228.95\" font-family=\"Courier,monospace\" font-size=\"14.00\" fill=\"#008040\">Load</text>\n",
       "</g>\n",
       "<!-- 27&#45;&#45;29 -->\n",
       "<g id=\"edge29\" class=\"edge\">\n",
       "<title>27--29</title>\n",
       "<path fill=\"none\" stroke=\"black\" d=\"M837,-287C837,-287 842.4,-266.94 846.49,-251.74\"/>\n",
       "</g>\n",
       "<!-- 31 -->\n",
       "<g id=\"node32\" class=\"node\">\n",
       "<title>31</title>\n",
       "<text xml:space=\"preserve\" text-anchor=\"start\" x=\"964.5\" y=\"-301.95\" font-family=\"Courier,monospace\" font-weight=\"bold\" font-size=\"14.00\" fill=\"#004080\">Name</text>\n",
       "</g>\n",
       "<!-- 30&#45;&#45;31 -->\n",
       "<g id=\"edge31\" class=\"edge\">\n",
       "<title>30--31</title>\n",
       "<path fill=\"none\" stroke=\"black\" d=\"M992,-359C992,-359 987.76,-338.94 984.54,-323.74\"/>\n",
       "</g>\n",
       "<!-- 34 -->\n",
       "<g id=\"node35\" class=\"node\">\n",
       "<title>34</title>\n",
       "<text xml:space=\"preserve\" text-anchor=\"start\" x=\"1092.5\" y=\"-301.95\" font-family=\"Courier,monospace\" font-weight=\"bold\" font-size=\"14.00\" fill=\"#004080\">Name</text>\n",
       "</g>\n",
       "<!-- 30&#45;&#45;34 -->\n",
       "<g id=\"edge34\" class=\"edge\">\n",
       "<title>30--34</title>\n",
       "<path fill=\"none\" stroke=\"black\" d=\"M992,-359C992,-359 1047.62,-334.28 1082.16,-318.93\"/>\n",
       "</g>\n",
       "<!-- 32 -->\n",
       "<g id=\"node33\" class=\"node\">\n",
       "<title>32</title>\n",
       "<text xml:space=\"preserve\" text-anchor=\"middle\" x=\"937\" y=\"-228.95\" font-family=\"Courier,monospace\" font-size=\"14.00\" fill=\"#008040\">\"approx\"</text>\n",
       "</g>\n",
       "<!-- 31&#45;&#45;32 -->\n",
       "<g id=\"edge32\" class=\"edge\">\n",
       "<title>31--32</title>\n",
       "<path fill=\"none\" stroke=\"black\" d=\"M981,-287C981,-287 964.03,-266.94 951.16,-251.74\"/>\n",
       "</g>\n",
       "<!-- 33 -->\n",
       "<g id=\"node34\" class=\"node\">\n",
       "<title>33</title>\n",
       "<text xml:space=\"preserve\" text-anchor=\"middle\" x=\"1025\" y=\"-228.95\" font-family=\"Courier,monospace\" font-size=\"14.00\" fill=\"#008040\">Store</text>\n",
       "</g>\n",
       "<!-- 31&#45;&#45;33 -->\n",
       "<g id=\"edge33\" class=\"edge\">\n",
       "<title>31--33</title>\n",
       "<path fill=\"none\" stroke=\"black\" d=\"M981,-287C981,-287 997.97,-266.94 1010.84,-251.74\"/>\n",
       "</g>\n",
       "<!-- 35 -->\n",
       "<g id=\"node36\" class=\"node\">\n",
       "<title>35</title>\n",
       "<text xml:space=\"preserve\" text-anchor=\"middle\" x=\"1109\" y=\"-228.95\" font-family=\"Courier,monospace\" font-size=\"14.00\" fill=\"#008040\">\"guess\"</text>\n",
       "</g>\n",
       "<!-- 34&#45;&#45;35 -->\n",
       "<g id=\"edge35\" class=\"edge\">\n",
       "<title>34--35</title>\n",
       "<path fill=\"none\" stroke=\"black\" d=\"M1117,-287C1117,-287 1113.91,-266.94 1111.58,-251.74\"/>\n",
       "</g>\n",
       "<!-- 36 -->\n",
       "<g id=\"node37\" class=\"node\">\n",
       "<title>36</title>\n",
       "<text xml:space=\"preserve\" text-anchor=\"middle\" x=\"1191\" y=\"-228.95\" font-family=\"Courier,monospace\" font-size=\"14.00\" fill=\"#008040\">Load</text>\n",
       "</g>\n",
       "<!-- 34&#45;&#45;36 -->\n",
       "<g id=\"edge36\" class=\"edge\">\n",
       "<title>34--36</title>\n",
       "<path fill=\"none\" stroke=\"black\" d=\"M1117,-287C1117,-287 1145.55,-266.94 1167.18,-251.74\"/>\n",
       "</g>\n",
       "<!-- 38 -->\n",
       "<g id=\"node39\" class=\"node\">\n",
       "<title>38</title>\n",
       "<text xml:space=\"preserve\" text-anchor=\"start\" x=\"1298.5\" y=\"-301.95\" font-family=\"Courier,monospace\" font-weight=\"bold\" font-size=\"14.00\" fill=\"#004080\">Name</text>\n",
       "</g>\n",
       "<!-- 37&#45;&#45;38 -->\n",
       "<g id=\"edge38\" class=\"edge\">\n",
       "<title>37--38</title>\n",
       "<path fill=\"none\" stroke=\"black\" d=\"M1325,-359C1325,-359 1321.14,-338.94 1318.22,-323.74\"/>\n",
       "</g>\n",
       "<!-- 41 -->\n",
       "<g id=\"node42\" class=\"node\">\n",
       "<title>41</title>\n",
       "<text xml:space=\"preserve\" text-anchor=\"start\" x=\"1411.38\" y=\"-301.95\" font-family=\"Courier,monospace\" font-weight=\"bold\" font-size=\"14.00\" fill=\"#004080\">BinOp</text>\n",
       "</g>\n",
       "<!-- 37&#45;&#45;41 -->\n",
       "<g id=\"edge41\" class=\"edge\">\n",
       "<title>37--41</title>\n",
       "<path fill=\"none\" stroke=\"black\" d=\"M1325,-359C1325,-359 1371.91,-336.2 1403.61,-320.8\"/>\n",
       "</g>\n",
       "<!-- 39 -->\n",
       "<g id=\"node40\" class=\"node\">\n",
       "<title>39</title>\n",
       "<text xml:space=\"preserve\" text-anchor=\"middle\" x=\"1273\" y=\"-228.95\" font-family=\"Courier,monospace\" font-size=\"14.00\" fill=\"#008040\">\"guess\"</text>\n",
       "</g>\n",
       "<!-- 38&#45;&#45;39 -->\n",
       "<g id=\"edge39\" class=\"edge\">\n",
       "<title>38--39</title>\n",
       "<path fill=\"none\" stroke=\"black\" d=\"M1315,-287C1315,-287 1298.8,-266.94 1286.52,-251.74\"/>\n",
       "</g>\n",
       "<!-- 40 -->\n",
       "<g id=\"node41\" class=\"node\">\n",
       "<title>40</title>\n",
       "<text xml:space=\"preserve\" text-anchor=\"middle\" x=\"1357\" y=\"-228.95\" font-family=\"Courier,monospace\" font-size=\"14.00\" fill=\"#008040\">Store</text>\n",
       "</g>\n",
       "<!-- 38&#45;&#45;40 -->\n",
       "<g id=\"edge40\" class=\"edge\">\n",
       "<title>38--40</title>\n",
       "<path fill=\"none\" stroke=\"black\" d=\"M1315,-287C1315,-287 1331.2,-266.94 1343.48,-251.74\"/>\n",
       "</g>\n",
       "<!-- 42 -->\n",
       "<g id=\"node43\" class=\"node\">\n",
       "<title>42</title>\n",
       "<text xml:space=\"preserve\" text-anchor=\"start\" x=\"1411.38\" y=\"-229.95\" font-family=\"Courier,monospace\" font-weight=\"bold\" font-size=\"14.00\" fill=\"#004080\">BinOp</text>\n",
       "</g>\n",
       "<!-- 41&#45;&#45;42 -->\n",
       "<g id=\"edge42\" class=\"edge\">\n",
       "<title>41--42</title>\n",
       "<path fill=\"none\" stroke=\"black\" d=\"M1446,-287C1446,-287 1440.6,-266.94 1436.51,-251.74\"/>\n",
       "</g>\n",
       "<!-- 55 -->\n",
       "<g id=\"node56\" class=\"node\">\n",
       "<title>55</title>\n",
       "<text xml:space=\"preserve\" text-anchor=\"middle\" x=\"1506\" y=\"-228.95\" font-family=\"Courier,monospace\" font-size=\"14.00\" fill=\"#008040\">Div</text>\n",
       "</g>\n",
       "<!-- 41&#45;&#45;55 -->\n",
       "<g id=\"edge55\" class=\"edge\">\n",
       "<title>41--55</title>\n",
       "<path fill=\"none\" stroke=\"black\" d=\"M1446,-287C1446,-287 1469.15,-266.94 1486.69,-251.74\"/>\n",
       "</g>\n",
       "<!-- 56 -->\n",
       "<g id=\"node57\" class=\"node\">\n",
       "<title>56</title>\n",
       "<text xml:space=\"preserve\" text-anchor=\"start\" x=\"1559\" y=\"-229.95\" font-family=\"Courier,monospace\" font-weight=\"bold\" font-size=\"14.00\" fill=\"#004080\">Constant</text>\n",
       "</g>\n",
       "<!-- 41&#45;&#45;56 -->\n",
       "<g id=\"edge56\" class=\"edge\">\n",
       "<title>41--56</title>\n",
       "<path fill=\"none\" stroke=\"black\" d=\"M1446,-287C1446,-287 1508.13,-264.87 1551.33,-249.48\"/>\n",
       "</g>\n",
       "<!-- 43 -->\n",
       "<g id=\"node44\" class=\"node\">\n",
       "<title>43</title>\n",
       "<text xml:space=\"preserve\" text-anchor=\"start\" x=\"1343.5\" y=\"-157.95\" font-family=\"Courier,monospace\" font-weight=\"bold\" font-size=\"14.00\" fill=\"#004080\">Name</text>\n",
       "</g>\n",
       "<!-- 42&#45;&#45;43 -->\n",
       "<g id=\"edge43\" class=\"edge\">\n",
       "<title>42--43</title>\n",
       "<path fill=\"none\" stroke=\"black\" d=\"M1432,-215C1432,-215 1404.23,-194.94 1383.18,-179.74\"/>\n",
       "</g>\n",
       "<!-- 46 -->\n",
       "<g id=\"node47\" class=\"node\">\n",
       "<title>46</title>\n",
       "<text xml:space=\"preserve\" text-anchor=\"middle\" x=\"1432\" y=\"-156.95\" font-family=\"Courier,monospace\" font-size=\"14.00\" fill=\"#008040\">Add</text>\n",
       "</g>\n",
       "<!-- 42&#45;&#45;46 -->\n",
       "<g id=\"edge46\" class=\"edge\">\n",
       "<title>42--46</title>\n",
       "<path fill=\"none\" stroke=\"black\" d=\"M1432,-215C1432,-215 1432,-194.94 1432,-179.74\"/>\n",
       "</g>\n",
       "<!-- 47 -->\n",
       "<g id=\"node48\" class=\"node\">\n",
       "<title>47</title>\n",
       "<text xml:space=\"preserve\" text-anchor=\"start\" x=\"1485.38\" y=\"-157.95\" font-family=\"Courier,monospace\" font-weight=\"bold\" font-size=\"14.00\" fill=\"#004080\">BinOp</text>\n",
       "</g>\n",
       "<!-- 42&#45;&#45;47 -->\n",
       "<g id=\"edge47\" class=\"edge\">\n",
       "<title>42--47</title>\n",
       "<path fill=\"none\" stroke=\"black\" d=\"M1432,-215C1432,-215 1460.55,-194.94 1482.18,-179.74\"/>\n",
       "</g>\n",
       "<!-- 44 -->\n",
       "<g id=\"node45\" class=\"node\">\n",
       "<title>44</title>\n",
       "<text xml:space=\"preserve\" text-anchor=\"middle\" x=\"1275\" y=\"-84.95\" font-family=\"Courier,monospace\" font-size=\"14.00\" fill=\"#008040\">\"approx\"</text>\n",
       "</g>\n",
       "<!-- 43&#45;&#45;44 -->\n",
       "<g id=\"edge44\" class=\"edge\">\n",
       "<title>43--44</title>\n",
       "<path fill=\"none\" stroke=\"black\" d=\"M1352,-143C1352,-143 1322.3,-122.94 1299.79,-107.74\"/>\n",
       "</g>\n",
       "<!-- 45 -->\n",
       "<g id=\"node46\" class=\"node\">\n",
       "<title>45</title>\n",
       "<text xml:space=\"preserve\" text-anchor=\"middle\" x=\"1361\" y=\"-84.95\" font-family=\"Courier,monospace\" font-size=\"14.00\" fill=\"#008040\">Load</text>\n",
       "</g>\n",
       "<!-- 43&#45;&#45;45 -->\n",
       "<g id=\"edge45\" class=\"edge\">\n",
       "<title>43--45</title>\n",
       "<path fill=\"none\" stroke=\"black\" d=\"M1352,-143C1352,-143 1355.47,-122.94 1358.1,-107.74\"/>\n",
       "</g>\n",
       "<!-- 48 -->\n",
       "<g id=\"node49\" class=\"node\">\n",
       "<title>48</title>\n",
       "<text xml:space=\"preserve\" text-anchor=\"start\" x=\"1417.5\" y=\"-85.95\" font-family=\"Courier,monospace\" font-weight=\"bold\" font-size=\"14.00\" fill=\"#004080\">Name</text>\n",
       "</g>\n",
       "<!-- 47&#45;&#45;48 -->\n",
       "<g id=\"edge48\" class=\"edge\">\n",
       "<title>47--48</title>\n",
       "<path fill=\"none\" stroke=\"black\" d=\"M1506,-143C1506,-143 1478.23,-122.94 1457.18,-107.74\"/>\n",
       "</g>\n",
       "<!-- 51 -->\n",
       "<g id=\"node52\" class=\"node\">\n",
       "<title>51</title>\n",
       "<text xml:space=\"preserve\" text-anchor=\"middle\" x=\"1506\" y=\"-84.95\" font-family=\"Courier,monospace\" font-size=\"14.00\" fill=\"#008040\">Div</text>\n",
       "</g>\n",
       "<!-- 47&#45;&#45;51 -->\n",
       "<g id=\"edge51\" class=\"edge\">\n",
       "<title>47--51</title>\n",
       "<path fill=\"none\" stroke=\"black\" d=\"M1506,-143C1506,-143 1506,-122.94 1506,-107.74\"/>\n",
       "</g>\n",
       "<!-- 52 -->\n",
       "<g id=\"node53\" class=\"node\">\n",
       "<title>52</title>\n",
       "<text xml:space=\"preserve\" text-anchor=\"start\" x=\"1561.5\" y=\"-85.95\" font-family=\"Courier,monospace\" font-weight=\"bold\" font-size=\"14.00\" fill=\"#004080\">Name</text>\n",
       "</g>\n",
       "<!-- 47&#45;&#45;52 -->\n",
       "<g id=\"edge52\" class=\"edge\">\n",
       "<title>47--52</title>\n",
       "<path fill=\"none\" stroke=\"black\" d=\"M1506,-143C1506,-143 1533.77,-122.94 1554.82,-107.74\"/>\n",
       "</g>\n",
       "<!-- 49 -->\n",
       "<g id=\"node50\" class=\"node\">\n",
       "<title>49</title>\n",
       "<text xml:space=\"preserve\" text-anchor=\"middle\" x=\"1376\" y=\"-12.95\" font-family=\"Courier,monospace\" font-size=\"14.00\" fill=\"#008040\">\"x\"</text>\n",
       "</g>\n",
       "<!-- 48&#45;&#45;49 -->\n",
       "<g id=\"edge49\" class=\"edge\">\n",
       "<title>48--49</title>\n",
       "<path fill=\"none\" stroke=\"black\" d=\"M1430,-71C1430,-71 1409.17,-50.94 1393.38,-35.74\"/>\n",
       "</g>\n",
       "<!-- 50 -->\n",
       "<g id=\"node51\" class=\"node\">\n",
       "<title>50</title>\n",
       "<text xml:space=\"preserve\" text-anchor=\"middle\" x=\"1448\" y=\"-12.95\" font-family=\"Courier,monospace\" font-size=\"14.00\" fill=\"#008040\">Load</text>\n",
       "</g>\n",
       "<!-- 48&#45;&#45;50 -->\n",
       "<g id=\"edge50\" class=\"edge\">\n",
       "<title>48--50</title>\n",
       "<path fill=\"none\" stroke=\"black\" d=\"M1430,-71C1430,-71 1436.94,-50.94 1442.21,-35.74\"/>\n",
       "</g>\n",
       "<!-- 53 -->\n",
       "<g id=\"node54\" class=\"node\">\n",
       "<title>53</title>\n",
       "<text xml:space=\"preserve\" text-anchor=\"middle\" x=\"1563\" y=\"-12.95\" font-family=\"Courier,monospace\" font-size=\"14.00\" fill=\"#008040\">\"approx\"</text>\n",
       "</g>\n",
       "<!-- 52&#45;&#45;53 -->\n",
       "<g id=\"edge53\" class=\"edge\">\n",
       "<title>52--53</title>\n",
       "<path fill=\"none\" stroke=\"black\" d=\"M1583,-71C1583,-71 1575.28,-50.94 1569.44,-35.74\"/>\n",
       "</g>\n",
       "<!-- 54 -->\n",
       "<g id=\"node55\" class=\"node\">\n",
       "<title>54</title>\n",
       "<text xml:space=\"preserve\" text-anchor=\"middle\" x=\"1649\" y=\"-12.95\" font-family=\"Courier,monospace\" font-size=\"14.00\" fill=\"#008040\">Load</text>\n",
       "</g>\n",
       "<!-- 52&#45;&#45;54 -->\n",
       "<g id=\"edge54\" class=\"edge\">\n",
       "<title>52--54</title>\n",
       "<path fill=\"none\" stroke=\"black\" d=\"M1583,-71C1583,-71 1608.46,-50.94 1627.75,-35.74\"/>\n",
       "</g>\n",
       "<!-- 57 -->\n",
       "<g id=\"node58\" class=\"node\">\n",
       "<title>57</title>\n",
       "<text xml:space=\"preserve\" text-anchor=\"middle\" x=\"1592\" y=\"-156.95\" font-family=\"Courier,monospace\" font-size=\"14.00\" fill=\"#008040\">2</text>\n",
       "</g>\n",
       "<!-- 56&#45;&#45;57 -->\n",
       "<g id=\"edge57\" class=\"edge\">\n",
       "<title>56--57</title>\n",
       "<path fill=\"none\" stroke=\"black\" d=\"M1592,-216.05C1592,-205.05 1592,-190.76 1592,-179.79\"/>\n",
       "</g>\n",
       "<!-- 59 -->\n",
       "<g id=\"node60\" class=\"node\">\n",
       "<title>59</title>\n",
       "<text xml:space=\"preserve\" text-anchor=\"start\" x=\"1503.5\" y=\"-373.95\" font-family=\"Courier,monospace\" font-weight=\"bold\" font-size=\"14.00\" fill=\"#004080\">Name</text>\n",
       "</g>\n",
       "<!-- 58&#45;&#45;59 -->\n",
       "<g id=\"edge59\" class=\"edge\">\n",
       "<title>58--59</title>\n",
       "<path fill=\"none\" stroke=\"black\" d=\"M1373.42,-436.32C1407.67,-422.93 1461.07,-402.04 1493.08,-389.53\"/>\n",
       "</g>\n",
       "<!-- 60 -->\n",
       "<g id=\"node61\" class=\"node\">\n",
       "<title>60</title>\n",
       "<text xml:space=\"preserve\" text-anchor=\"middle\" x=\"1520\" y=\"-300.95\" font-family=\"Courier,monospace\" font-size=\"14.00\" fill=\"#008040\">\"approx\"</text>\n",
       "</g>\n",
       "<!-- 59&#45;&#45;60 -->\n",
       "<g id=\"edge60\" class=\"edge\">\n",
       "<title>59--60</title>\n",
       "<path fill=\"none\" stroke=\"black\" d=\"M1528,-359C1528,-359 1524.91,-338.94 1522.58,-323.74\"/>\n",
       "</g>\n",
       "<!-- 61 -->\n",
       "<g id=\"node62\" class=\"node\">\n",
       "<title>61</title>\n",
       "<text xml:space=\"preserve\" text-anchor=\"middle\" x=\"1606\" y=\"-300.95\" font-family=\"Courier,monospace\" font-size=\"14.00\" fill=\"#008040\">Load</text>\n",
       "</g>\n",
       "<!-- 59&#45;&#45;61 -->\n",
       "<g id=\"edge61\" class=\"edge\">\n",
       "<title>59--61</title>\n",
       "<path fill=\"none\" stroke=\"black\" d=\"M1528,-359C1528,-359 1558.09,-338.94 1580.89,-323.74\"/>\n",
       "</g>\n",
       "</g>\n",
       "</svg>"
      ],
      "text/plain": [
       "<IPython.core.display.SVG object>"
      ]
     },
     "metadata": {},
     "output_type": "display_data"
    }
   ],
   "source": [
    "show_ast(square_root_ast)"
   ]
  },
  {
   "cell_type": "markdown",
   "metadata": {
    "slideshow": {
     "slide_type": "fragment"
    }
   },
   "source": [
    "The function `ast.unparse()` converts such a tree back into the more familiar textual Python code representation.  Comments are gone, and there may be more (or fewer) parentheses than before, but the result has the same semantics:"
   ]
  },
  {
   "cell_type": "code",
   "execution_count": 67,
   "metadata": {
    "execution": {
     "iopub.execute_input": "2025-10-26T17:48:25.527290Z",
     "iopub.status.busy": "2025-10-26T17:48:25.527121Z",
     "iopub.status.idle": "2025-10-26T17:48:25.541980Z",
     "shell.execute_reply": "2025-10-26T17:48:25.541624Z"
    },
    "slideshow": {
     "slide_type": "subslide"
    }
   },
   "outputs": [
    {
     "name": "stdout",
     "output_type": "stream",
     "text": [
      "\u001b[34mdef\u001b[39;49;00m\u001b[37m \u001b[39;49;00m\u001b[32msquare_root\u001b[39;49;00m(x):\u001b[37m\u001b[39;49;00m\n",
      "\u001b[37m    \u001b[39;49;00m\u001b[33m\"\"\"Computes the square root of x, using the Newton-Raphson method\"\"\"\u001b[39;49;00m\u001b[37m\u001b[39;49;00m\n",
      "    approx = \u001b[34mNone\u001b[39;49;00m\u001b[37m\u001b[39;49;00m\n",
      "    guess = x / \u001b[34m2\u001b[39;49;00m\u001b[37m\u001b[39;49;00m\n",
      "    \u001b[34mwhile\u001b[39;49;00m approx != guess:\u001b[37m\u001b[39;49;00m\n",
      "        approx = guess\u001b[37m\u001b[39;49;00m\n",
      "        guess = (approx + x / approx) / \u001b[34m2\u001b[39;49;00m\u001b[37m\u001b[39;49;00m\n",
      "    \u001b[34mreturn\u001b[39;49;00m approx\u001b[37m\u001b[39;49;00m"
     ]
    }
   ],
   "source": [
    "print_content(ast.unparse(square_root_ast), '.py')"
   ]
  },
  {
   "cell_type": "markdown",
   "metadata": {
    "slideshow": {
     "slide_type": "subslide"
    }
   },
   "source": [
    "#### End of Excursion"
   ]
  },
  {
   "cell_type": "markdown",
   "metadata": {
    "slideshow": {
     "slide_type": "subslide"
    }
   },
   "source": [
    "#### Excursion: Annotating Functions with Given Types"
   ]
  },
  {
   "cell_type": "markdown",
   "metadata": {
    "slideshow": {
     "slide_type": "fragment"
    }
   },
   "source": [
    "Let us now go and transform ASTs to add type annotations.  We start with a helper function `parse_type(name)` which  parses a type name into an AST."
   ]
  },
  {
   "cell_type": "code",
   "execution_count": 68,
   "metadata": {
    "execution": {
     "iopub.execute_input": "2025-10-26T17:48:25.543802Z",
     "iopub.status.busy": "2025-10-26T17:48:25.543668Z",
     "iopub.status.idle": "2025-10-26T17:48:25.546203Z",
     "shell.execute_reply": "2025-10-26T17:48:25.545899Z"
    },
    "slideshow": {
     "slide_type": "fragment"
    }
   },
   "outputs": [],
   "source": [
    "def parse_type(name: str) -> ast.expr:\n",
    "    class ValueVisitor(ast.NodeVisitor):\n",
    "        def visit_Expr(self, node: ast.Expr) -> None:\n",
    "            self.value_node = node.value\n",
    "\n",
    "    tree = ast.parse(name)\n",
    "    name_visitor = ValueVisitor()\n",
    "    name_visitor.visit(tree)\n",
    "    return name_visitor.value_node"
   ]
  },
  {
   "cell_type": "code",
   "execution_count": 69,
   "metadata": {
    "execution": {
     "iopub.execute_input": "2025-10-26T17:48:25.547619Z",
     "iopub.status.busy": "2025-10-26T17:48:25.547517Z",
     "iopub.status.idle": "2025-10-26T17:48:25.549163Z",
     "shell.execute_reply": "2025-10-26T17:48:25.548933Z"
    },
    "slideshow": {
     "slide_type": "subslide"
    }
   },
   "outputs": [
    {
     "name": "stdout",
     "output_type": "stream",
     "text": [
      "Name(id='int', ctx=Load())\n"
     ]
    }
   ],
   "source": [
    "print(ast.dump(parse_type('int')))"
   ]
  },
  {
   "cell_type": "code",
   "execution_count": 70,
   "metadata": {
    "execution": {
     "iopub.execute_input": "2025-10-26T17:48:25.550282Z",
     "iopub.status.busy": "2025-10-26T17:48:25.550209Z",
     "iopub.status.idle": "2025-10-26T17:48:25.551863Z",
     "shell.execute_reply": "2025-10-26T17:48:25.551646Z"
    },
    "slideshow": {
     "slide_type": "fragment"
    }
   },
   "outputs": [
    {
     "name": "stdout",
     "output_type": "stream",
     "text": [
      "List(elts=[Name(id='object', ctx=Load())], ctx=Load())\n"
     ]
    }
   ],
   "source": [
    "print(ast.dump(parse_type('[object]')))"
   ]
  },
  {
   "cell_type": "markdown",
   "metadata": {
    "slideshow": {
     "slide_type": "subslide"
    }
   },
   "source": [
    "We now define a helper function that actually adds type annotations to a function AST.  The `TypeTransformer` class builds on the Python standard library `ast.NodeTransformer` infrastructure.  It would be called as\n",
    "\n",
    "```python\n",
    "    TypeTransformer({'x': 'int'}, 'float').visit(ast)\n",
    "```\n",
    "\n",
    "to annotate the arguments of `square_root()`: `x` with `int`, and the return type with `float`.  The returned AST can then be unparsed, compiled or analyzed."
   ]
  },
  {
   "cell_type": "code",
   "execution_count": 71,
   "metadata": {
    "execution": {
     "iopub.execute_input": "2025-10-26T17:48:25.553201Z",
     "iopub.status.busy": "2025-10-26T17:48:25.553123Z",
     "iopub.status.idle": "2025-10-26T17:48:25.555072Z",
     "shell.execute_reply": "2025-10-26T17:48:25.554857Z"
    },
    "slideshow": {
     "slide_type": "subslide"
    }
   },
   "outputs": [],
   "source": [
    "class TypeTransformer(ast.NodeTransformer):\n",
    "    def __init__(self, argument_types: Dict[str, str], return_type: Optional[str] = None):\n",
    "        self.argument_types = argument_types\n",
    "        self.return_type = return_type\n",
    "        super().__init__()"
   ]
  },
  {
   "cell_type": "markdown",
   "metadata": {
    "slideshow": {
     "slide_type": "fragment"
    }
   },
   "source": [
    "The core of `TypeTransformer` is the method `visit_FunctionDef()`, which is called for every function definition in the AST.  Its argument `node` is the subtree of the function definition to be transformed.  Our implementation accesses the individual arguments and invokes `annotate_args()` on them; it also sets the return type in the `returns` attribute of the node."
   ]
  },
  {
   "cell_type": "code",
   "execution_count": 72,
   "metadata": {
    "execution": {
     "iopub.execute_input": "2025-10-26T17:48:25.556556Z",
     "iopub.status.busy": "2025-10-26T17:48:25.556478Z",
     "iopub.status.idle": "2025-10-26T17:48:25.558732Z",
     "shell.execute_reply": "2025-10-26T17:48:25.558512Z"
    },
    "slideshow": {
     "slide_type": "subslide"
    }
   },
   "outputs": [],
   "source": [
    "class TypeTransformer(TypeTransformer):\n",
    "    def visit_FunctionDef(self, node: ast.FunctionDef) -> ast.FunctionDef:\n",
    "        \"\"\"Add annotation to function\"\"\"\n",
    "        # Set argument types\n",
    "        new_args = []\n",
    "        for arg in node.args.args:\n",
    "            new_args.append(self.annotate_arg(arg))\n",
    "\n",
    "        new_arguments = ast.arguments(\n",
    "            node.args.posonlyargs,\n",
    "            new_args,\n",
    "            node.args.vararg,\n",
    "            node.args.kwonlyargs,\n",
    "            node.args.kw_defaults,\n",
    "            node.args.kwarg,\n",
    "            node.args.defaults\n",
    "        )\n",
    "\n",
    "        # Set return type\n",
    "        if self.return_type is not None:\n",
    "            node.returns = parse_type(self.return_type)\n",
    "\n",
    "        return ast.copy_location(\n",
    "            ast.FunctionDef(node.name, new_arguments,\n",
    "                            node.body, node.decorator_list,\n",
    "                            node.returns), node)  # type: ignore"
   ]
  },
  {
   "cell_type": "markdown",
   "metadata": {
    "slideshow": {
     "slide_type": "subslide"
    }
   },
   "source": [
    "Each argument gets its own annotation, taken from the types originally passed to the class:"
   ]
  },
  {
   "cell_type": "code",
   "execution_count": 73,
   "metadata": {
    "execution": {
     "iopub.execute_input": "2025-10-26T17:48:25.560011Z",
     "iopub.status.busy": "2025-10-26T17:48:25.559937Z",
     "iopub.status.idle": "2025-10-26T17:48:25.561646Z",
     "shell.execute_reply": "2025-10-26T17:48:25.561455Z"
    },
    "slideshow": {
     "slide_type": "fragment"
    }
   },
   "outputs": [],
   "source": [
    "class TypeTransformer(TypeTransformer):\n",
    "    def annotate_arg(self, arg: ast.arg) -> ast.arg:\n",
    "        \"\"\"Add annotation to single function argument\"\"\"\n",
    "        arg_name = arg.arg\n",
    "        if arg_name in self.argument_types:\n",
    "            arg.annotation = parse_type(self.argument_types[arg_name])\n",
    "\n",
    "        return arg"
   ]
  },
  {
   "cell_type": "markdown",
   "metadata": {
    "slideshow": {
     "slide_type": "fragment"
    }
   },
   "source": [
    "Does this work?  Let us annotate the AST from `square_root()` with types for the arguments and return types:"
   ]
  },
  {
   "cell_type": "code",
   "execution_count": 74,
   "metadata": {
    "execution": {
     "iopub.execute_input": "2025-10-26T17:48:25.562885Z",
     "iopub.status.busy": "2025-10-26T17:48:25.562819Z",
     "iopub.status.idle": "2025-10-26T17:48:25.564184Z",
     "shell.execute_reply": "2025-10-26T17:48:25.563981Z"
    },
    "slideshow": {
     "slide_type": "fragment"
    }
   },
   "outputs": [],
   "source": [
    "new_ast = TypeTransformer({'x': 'int'}, 'float').visit(square_root_ast)"
   ]
  },
  {
   "cell_type": "markdown",
   "metadata": {
    "slideshow": {
     "slide_type": "fragment"
    }
   },
   "source": [
    "When we unparse the new AST, we see that the annotations actually are present:"
   ]
  },
  {
   "cell_type": "code",
   "execution_count": 75,
   "metadata": {
    "execution": {
     "iopub.execute_input": "2025-10-26T17:48:25.565532Z",
     "iopub.status.busy": "2025-10-26T17:48:25.565449Z",
     "iopub.status.idle": "2025-10-26T17:48:25.578865Z",
     "shell.execute_reply": "2025-10-26T17:48:25.578526Z"
    },
    "slideshow": {
     "slide_type": "subslide"
    }
   },
   "outputs": [
    {
     "name": "stdout",
     "output_type": "stream",
     "text": [
      "\u001b[34mdef\u001b[39;49;00m\u001b[37m \u001b[39;49;00m\u001b[32msquare_root\u001b[39;49;00m(x: \u001b[36mint\u001b[39;49;00m) -> \u001b[36mfloat\u001b[39;49;00m:\u001b[37m\u001b[39;49;00m\n",
      "\u001b[37m    \u001b[39;49;00m\u001b[33m\"\"\"Computes the square root of x, using the Newton-Raphson method\"\"\"\u001b[39;49;00m\u001b[37m\u001b[39;49;00m\n",
      "    approx = \u001b[34mNone\u001b[39;49;00m\u001b[37m\u001b[39;49;00m\n",
      "    guess = x / \u001b[34m2\u001b[39;49;00m\u001b[37m\u001b[39;49;00m\n",
      "    \u001b[34mwhile\u001b[39;49;00m approx != guess:\u001b[37m\u001b[39;49;00m\n",
      "        approx = guess\u001b[37m\u001b[39;49;00m\n",
      "        guess = (approx + x / approx) / \u001b[34m2\u001b[39;49;00m\u001b[37m\u001b[39;49;00m\n",
      "    \u001b[34mreturn\u001b[39;49;00m approx\u001b[37m\u001b[39;49;00m"
     ]
    }
   ],
   "source": [
    "print_content(ast.unparse(new_ast), '.py')"
   ]
  },
  {
   "cell_type": "markdown",
   "metadata": {
    "slideshow": {
     "slide_type": "fragment"
    }
   },
   "source": [
    "Similarly, we can annotate the `hello()` function from above:"
   ]
  },
  {
   "cell_type": "code",
   "execution_count": 76,
   "metadata": {
    "execution": {
     "iopub.execute_input": "2025-10-26T17:48:25.580386Z",
     "iopub.status.busy": "2025-10-26T17:48:25.580287Z",
     "iopub.status.idle": "2025-10-26T17:48:25.582015Z",
     "shell.execute_reply": "2025-10-26T17:48:25.581779Z"
    },
    "slideshow": {
     "slide_type": "fragment"
    }
   },
   "outputs": [],
   "source": [
    "hello_source = inspect.getsource(hello)"
   ]
  },
  {
   "cell_type": "code",
   "execution_count": 77,
   "metadata": {
    "execution": {
     "iopub.execute_input": "2025-10-26T17:48:25.583316Z",
     "iopub.status.busy": "2025-10-26T17:48:25.583242Z",
     "iopub.status.idle": "2025-10-26T17:48:25.584776Z",
     "shell.execute_reply": "2025-10-26T17:48:25.584563Z"
    },
    "slideshow": {
     "slide_type": "fragment"
    }
   },
   "outputs": [],
   "source": [
    "hello_ast = ast.parse(hello_source)"
   ]
  },
  {
   "cell_type": "code",
   "execution_count": 78,
   "metadata": {
    "execution": {
     "iopub.execute_input": "2025-10-26T17:48:25.586062Z",
     "iopub.status.busy": "2025-10-26T17:48:25.585981Z",
     "iopub.status.idle": "2025-10-26T17:48:25.587561Z",
     "shell.execute_reply": "2025-10-26T17:48:25.587303Z"
    },
    "slideshow": {
     "slide_type": "fragment"
    }
   },
   "outputs": [],
   "source": [
    "new_ast = TypeTransformer({'name': 'str'}, 'None').visit(hello_ast)"
   ]
  },
  {
   "cell_type": "code",
   "execution_count": 79,
   "metadata": {
    "execution": {
     "iopub.execute_input": "2025-10-26T17:48:25.588860Z",
     "iopub.status.busy": "2025-10-26T17:48:25.588780Z",
     "iopub.status.idle": "2025-10-26T17:48:25.601552Z",
     "shell.execute_reply": "2025-10-26T17:48:25.601261Z"
    },
    "slideshow": {
     "slide_type": "subslide"
    }
   },
   "outputs": [
    {
     "name": "stdout",
     "output_type": "stream",
     "text": [
      "\u001b[34mdef\u001b[39;49;00m\u001b[37m \u001b[39;49;00m\u001b[32mhello\u001b[39;49;00m(name: \u001b[36mstr\u001b[39;49;00m) -> \u001b[34mNone\u001b[39;49;00m:\u001b[37m\u001b[39;49;00m\n",
      "    \u001b[36mprint\u001b[39;49;00m(\u001b[33m'\u001b[39;49;00m\u001b[33mHello,\u001b[39;49;00m\u001b[33m'\u001b[39;49;00m, name)\u001b[37m\u001b[39;49;00m"
     ]
    }
   ],
   "source": [
    "print_content(ast.unparse(new_ast), '.py')"
   ]
  },
  {
   "cell_type": "markdown",
   "metadata": {
    "slideshow": {
     "slide_type": "subslide"
    }
   },
   "source": [
    "#### End of Excursion"
   ]
  },
  {
   "cell_type": "markdown",
   "metadata": {
    "slideshow": {
     "slide_type": "subslide"
    }
   },
   "source": [
    "#### Excursion: Annotating Functions with Mined Types"
   ]
  },
  {
   "cell_type": "markdown",
   "metadata": {
    "slideshow": {
     "slide_type": "fragment"
    }
   },
   "source": [
    "Let us now annotate functions with types mined at runtime. We start with a simple function `type_string()` that determines \n",
    "the appropriate type of a given value (as a string):"
   ]
  },
  {
   "cell_type": "code",
   "execution_count": 80,
   "metadata": {
    "execution": {
     "iopub.execute_input": "2025-10-26T17:48:25.603254Z",
     "iopub.status.busy": "2025-10-26T17:48:25.603143Z",
     "iopub.status.idle": "2025-10-26T17:48:25.604889Z",
     "shell.execute_reply": "2025-10-26T17:48:25.604627Z"
    },
    "slideshow": {
     "slide_type": "fragment"
    }
   },
   "outputs": [],
   "source": [
    "def type_string(value: Any) -> str:\n",
    "    return type(value).__name__"
   ]
  },
  {
   "cell_type": "code",
   "execution_count": 81,
   "metadata": {
    "execution": {
     "iopub.execute_input": "2025-10-26T17:48:25.606123Z",
     "iopub.status.busy": "2025-10-26T17:48:25.606042Z",
     "iopub.status.idle": "2025-10-26T17:48:25.608020Z",
     "shell.execute_reply": "2025-10-26T17:48:25.607824Z"
    },
    "slideshow": {
     "slide_type": "fragment"
    }
   },
   "outputs": [
    {
     "data": {
      "text/plain": [
       "'int'"
      ]
     },
     "execution_count": 81,
     "metadata": {},
     "output_type": "execute_result"
    }
   ],
   "source": [
    "type_string(4)"
   ]
  },
  {
   "cell_type": "code",
   "execution_count": 82,
   "metadata": {
    "execution": {
     "iopub.execute_input": "2025-10-26T17:48:25.609509Z",
     "iopub.status.busy": "2025-10-26T17:48:25.609422Z",
     "iopub.status.idle": "2025-10-26T17:48:25.611332Z",
     "shell.execute_reply": "2025-10-26T17:48:25.611095Z"
    },
    "slideshow": {
     "slide_type": "fragment"
    }
   },
   "outputs": [
    {
     "data": {
      "text/plain": [
       "'list'"
      ]
     },
     "execution_count": 82,
     "metadata": {},
     "output_type": "execute_result"
    }
   ],
   "source": [
    "type_string([])"
   ]
  },
  {
   "cell_type": "markdown",
   "metadata": {
    "slideshow": {
     "slide_type": "fragment"
    }
   },
   "source": [
    "For composite structures, `type_string()` does not examine element types; hence, the type of `[3]` is simply `list` instead of, say, `list[int]`.  For now, `list` will do fine."
   ]
  },
  {
   "cell_type": "code",
   "execution_count": 83,
   "metadata": {
    "execution": {
     "iopub.execute_input": "2025-10-26T17:48:25.613052Z",
     "iopub.status.busy": "2025-10-26T17:48:25.612944Z",
     "iopub.status.idle": "2025-10-26T17:48:25.615108Z",
     "shell.execute_reply": "2025-10-26T17:48:25.614862Z"
    },
    "slideshow": {
     "slide_type": "subslide"
    }
   },
   "outputs": [
    {
     "data": {
      "text/plain": [
       "'list'"
      ]
     },
     "execution_count": 83,
     "metadata": {},
     "output_type": "execute_result"
    }
   ],
   "source": [
    "type_string([3])"
   ]
  },
  {
   "cell_type": "markdown",
   "metadata": {
    "slideshow": {
     "slide_type": "fragment"
    }
   },
   "source": [
    "`type_string()` will be used to infer the types of argument values found at runtime, as returned by `CallTracer.all_calls()`:"
   ]
  },
  {
   "cell_type": "code",
   "execution_count": 84,
   "metadata": {
    "button": false,
    "execution": {
     "iopub.execute_input": "2025-10-26T17:48:25.617095Z",
     "iopub.status.busy": "2025-10-26T17:48:25.616976Z",
     "iopub.status.idle": "2025-10-26T17:48:25.618904Z",
     "shell.execute_reply": "2025-10-26T17:48:25.618641Z"
    },
    "new_sheet": false,
    "run_control": {
     "read_only": false
    },
    "slideshow": {
     "slide_type": "skip"
    }
   },
   "outputs": [],
   "source": [
    "with CallTracer() as tracer:\n",
    "    y = square_root(25.0)\n",
    "    y = square_root(2.0)"
   ]
  },
  {
   "cell_type": "code",
   "execution_count": 85,
   "metadata": {
    "button": false,
    "code_folding": [],
    "execution": {
     "iopub.execute_input": "2025-10-26T17:48:25.620239Z",
     "iopub.status.busy": "2025-10-26T17:48:25.620128Z",
     "iopub.status.idle": "2025-10-26T17:48:25.622136Z",
     "shell.execute_reply": "2025-10-26T17:48:25.621912Z"
    },
    "new_sheet": false,
    "run_control": {
     "read_only": false
    },
    "slideshow": {
     "slide_type": "subslide"
    }
   },
   "outputs": [
    {
     "data": {
      "text/plain": [
       "{'square_root': [([('x', 25.0)], 5.0), ([('x', 2.0)], 1.414213562373095)]}"
      ]
     },
     "execution_count": 85,
     "metadata": {},
     "output_type": "execute_result"
    }
   ],
   "source": [
    "tracer.all_calls()"
   ]
  },
  {
   "cell_type": "markdown",
   "metadata": {
    "slideshow": {
     "slide_type": "fragment"
    }
   },
   "source": [
    "The function `annotate_types()` takes such a list of calls and annotates each function listed:"
   ]
  },
  {
   "cell_type": "code",
   "execution_count": 86,
   "metadata": {
    "execution": {
     "iopub.execute_input": "2025-10-26T17:48:25.623376Z",
     "iopub.status.busy": "2025-10-26T17:48:25.623281Z",
     "iopub.status.idle": "2025-10-26T17:48:25.624701Z",
     "shell.execute_reply": "2025-10-26T17:48:25.624470Z"
    },
    "slideshow": {
     "slide_type": "skip"
    }
   },
   "outputs": [],
   "source": [
    "from StackInspector import StackInspector"
   ]
  },
  {
   "cell_type": "code",
   "execution_count": 87,
   "metadata": {
    "execution": {
     "iopub.execute_input": "2025-10-26T17:48:25.626065Z",
     "iopub.status.busy": "2025-10-26T17:48:25.625977Z",
     "iopub.status.idle": "2025-10-26T17:48:25.628065Z",
     "shell.execute_reply": "2025-10-26T17:48:25.627837Z"
    },
    "slideshow": {
     "slide_type": "subslide"
    }
   },
   "outputs": [],
   "source": [
    "def annotate_types(calls: Dict[str, List[Tuple[Arguments, Any]]]) \\\n",
    "        -> Dict[str, ast.AST]:\n",
    "    annotated_functions = {}\n",
    "    stack_inspector = StackInspector()\n",
    "\n",
    "    for function_name in calls:\n",
    "        function = stack_inspector.search_func(function_name)\n",
    "        if function:\n",
    "            annotated_functions[function_name] = \\\n",
    "                annotate_function_with_types(function, calls[function_name])\n",
    "\n",
    "    return annotated_functions"
   ]
  },
  {
   "cell_type": "markdown",
   "metadata": {
    "slideshow": {
     "slide_type": "fragment"
    }
   },
   "source": [
    "For each function, we get the source and its AST and then get to the actual annotation in `annotate_function_ast_with_types()`:"
   ]
  },
  {
   "cell_type": "code",
   "execution_count": 88,
   "metadata": {
    "execution": {
     "iopub.execute_input": "2025-10-26T17:48:25.629452Z",
     "iopub.status.busy": "2025-10-26T17:48:25.629370Z",
     "iopub.status.idle": "2025-10-26T17:48:25.631108Z",
     "shell.execute_reply": "2025-10-26T17:48:25.630887Z"
    },
    "slideshow": {
     "slide_type": "subslide"
    }
   },
   "outputs": [],
   "source": [
    "def annotate_function_with_types(function: Callable,\n",
    "                                 function_calls: List[Tuple[Arguments, Any]]) -> ast.AST:\n",
    "    function_code = inspect.getsource(function)\n",
    "    function_ast = ast.parse(function_code)\n",
    "    return annotate_function_ast_with_types(function_ast, function_calls)"
   ]
  },
  {
   "cell_type": "markdown",
   "metadata": {
    "slideshow": {
     "slide_type": "fragment"
    }
   },
   "source": [
    "The function `annotate_function_ast_with_types()` invokes the `TypeTransformer` with the calls seen, and for each call, iterate over the arguments, determine their types, and annotate the AST with these.  The universal type `Any` is used when we encounter type conflicts, which we will discuss below."
   ]
  },
  {
   "cell_type": "code",
   "execution_count": 89,
   "metadata": {
    "execution": {
     "iopub.execute_input": "2025-10-26T17:48:25.632457Z",
     "iopub.status.busy": "2025-10-26T17:48:25.632378Z",
     "iopub.status.idle": "2025-10-26T17:48:25.634727Z",
     "shell.execute_reply": "2025-10-26T17:48:25.634507Z"
    },
    "slideshow": {
     "slide_type": "subslide"
    }
   },
   "outputs": [],
   "source": [
    "def annotate_function_ast_with_types(function_ast: ast.AST,\n",
    "                                     function_calls: List[Tuple[Arguments, Any]]) -> ast.AST:\n",
    "    parameter_types: Dict[str, str] = {}\n",
    "    return_type = None\n",
    "\n",
    "    for calls_seen in function_calls:\n",
    "        args, return_value = calls_seen\n",
    "        if return_value:\n",
    "            if return_type and return_type != type_string(return_value):\n",
    "                return_type = 'Any'\n",
    "            else:\n",
    "                return_type = type_string(return_value)\n",
    "\n",
    "        for parameter, value in args:\n",
    "            try:\n",
    "                different_type = (parameter_types[parameter] !=\n",
    "                                  type_string(value))\n",
    "            except KeyError:\n",
    "                different_type = False\n",
    "\n",
    "            if different_type:\n",
    "                parameter_types[parameter] = 'Any'\n",
    "            else:\n",
    "                parameter_types[parameter] = type_string(value)\n",
    "\n",
    "    annotated_function_ast = \\\n",
    "        TypeTransformer(parameter_types, return_type).visit(function_ast)\n",
    "\n",
    "    return annotated_function_ast"
   ]
  },
  {
   "cell_type": "markdown",
   "metadata": {
    "slideshow": {
     "slide_type": "subslide"
    }
   },
   "source": [
    "Here is `square_root()` annotated with the types recorded usign the tracer, above."
   ]
  },
  {
   "cell_type": "code",
   "execution_count": 90,
   "metadata": {
    "execution": {
     "iopub.execute_input": "2025-10-26T17:48:25.636216Z",
     "iopub.status.busy": "2025-10-26T17:48:25.636127Z",
     "iopub.status.idle": "2025-10-26T17:48:25.650274Z",
     "shell.execute_reply": "2025-10-26T17:48:25.649972Z"
    },
    "slideshow": {
     "slide_type": "fragment"
    }
   },
   "outputs": [
    {
     "name": "stdout",
     "output_type": "stream",
     "text": [
      "\u001b[34mdef\u001b[39;49;00m\u001b[37m \u001b[39;49;00m\u001b[32msquare_root\u001b[39;49;00m(x: \u001b[36mfloat\u001b[39;49;00m) -> \u001b[36mfloat\u001b[39;49;00m:\u001b[37m\u001b[39;49;00m\n",
      "\u001b[37m    \u001b[39;49;00m\u001b[33m\"\"\"Computes the square root of x, using the Newton-Raphson method\"\"\"\u001b[39;49;00m\u001b[37m\u001b[39;49;00m\n",
      "    approx = \u001b[34mNone\u001b[39;49;00m\u001b[37m\u001b[39;49;00m\n",
      "    guess = x / \u001b[34m2\u001b[39;49;00m\u001b[37m\u001b[39;49;00m\n",
      "    \u001b[34mwhile\u001b[39;49;00m approx != guess:\u001b[37m\u001b[39;49;00m\n",
      "        approx = guess\u001b[37m\u001b[39;49;00m\n",
      "        guess = (approx + x / approx) / \u001b[34m2\u001b[39;49;00m\u001b[37m\u001b[39;49;00m\n",
      "    \u001b[34mreturn\u001b[39;49;00m approx\u001b[37m\u001b[39;49;00m"
     ]
    }
   ],
   "source": [
    "print_content(ast.unparse(annotate_types(tracer.all_calls())['square_root']), '.py')"
   ]
  },
  {
   "cell_type": "markdown",
   "metadata": {
    "slideshow": {
     "slide_type": "subslide"
    }
   },
   "source": [
    "#### End of Excursion"
   ]
  },
  {
   "cell_type": "markdown",
   "metadata": {
    "slideshow": {
     "slide_type": "subslide"
    }
   },
   "source": [
    "#### Excursion: A Type Annotator Class"
   ]
  },
  {
   "cell_type": "markdown",
   "metadata": {
    "slideshow": {
     "slide_type": "fragment"
    }
   },
   "source": [
    "Let us bring all of this together in a single class `TypeAnnotator` that first tracks calls of functions and then allows accessing the AST (and the source code form) of the tracked functions annotated with types.  The method `typed_functions()` returns the annotated functions as a string; `typed_functions_ast()` returns their AST."
   ]
  },
  {
   "cell_type": "code",
   "execution_count": 91,
   "metadata": {
    "execution": {
     "iopub.execute_input": "2025-10-26T17:48:25.651926Z",
     "iopub.status.busy": "2025-10-26T17:48:25.651815Z",
     "iopub.status.idle": "2025-10-26T17:48:25.653552Z",
     "shell.execute_reply": "2025-10-26T17:48:25.653304Z"
    },
    "slideshow": {
     "slide_type": "fragment"
    }
   },
   "outputs": [],
   "source": [
    "class TypeTracer(CallTracer):\n",
    "    pass"
   ]
  },
  {
   "cell_type": "code",
   "execution_count": 92,
   "metadata": {
    "execution": {
     "iopub.execute_input": "2025-10-26T17:48:25.654827Z",
     "iopub.status.busy": "2025-10-26T17:48:25.654748Z",
     "iopub.status.idle": "2025-10-26T17:48:25.657611Z",
     "shell.execute_reply": "2025-10-26T17:48:25.657374Z"
    },
    "slideshow": {
     "slide_type": "subslide"
    }
   },
   "outputs": [],
   "source": [
    "class TypeAnnotator(TypeTracer):\n",
    "    def typed_functions_ast(self) -> Dict[str, ast.AST]:\n",
    "        \"\"\"Return a dict name -> AST for all functions observed, annotated with types\"\"\"\n",
    "        return annotate_types(self.all_calls())\n",
    "\n",
    "    def typed_function_ast(self, function_name: str) -> Optional[ast.AST]:\n",
    "        \"\"\"Return an AST for all calls of `function_name` observed, annotated with types\"\"\"\n",
    "        function = self.search_func(function_name)\n",
    "        if not function:\n",
    "            return None\n",
    "        return annotate_function_with_types(function, self.calls(function_name))\n",
    "\n",
    "    def typed_functions(self) -> str:\n",
    "        \"\"\"Return the code for all functions observed, annotated with types\"\"\"\n",
    "        functions = ''\n",
    "        for f_name in self.all_calls():\n",
    "            f_ast = self.typed_function_ast(f_name)\n",
    "            if f_ast:\n",
    "                functions += ast.unparse(f_ast)\n",
    "            else:\n",
    "                functions += '# Could not find function ' + repr(f_name)\n",
    "\n",
    "        return functions\n",
    "\n",
    "    def typed_function(self, function_name: str) -> str:\n",
    "        \"\"\"Return the code for all calls of `function_name` observed, annotated with types\"\"\"\n",
    "        function_ast = self.typed_function_ast(function_name)\n",
    "        if not function_ast:\n",
    "            raise KeyError\n",
    "        return ast.unparse(function_ast)\n",
    "\n",
    "    def __repr__(self) -> str:\n",
    "        \"\"\"String representation, like `typed_functions()`\"\"\"\n",
    "        return self.typed_functions()"
   ]
  },
  {
   "cell_type": "markdown",
   "metadata": {
    "slideshow": {
     "slide_type": "subslide"
    }
   },
   "source": [
    "#### End of Excursion"
   ]
  },
  {
   "cell_type": "markdown",
   "metadata": {
    "slideshow": {
     "slide_type": "fragment"
    }
   },
   "source": [
    "Here is how to use `TypeAnnotator`.  We first track a series of calls:"
   ]
  },
  {
   "cell_type": "code",
   "execution_count": 93,
   "metadata": {
    "execution": {
     "iopub.execute_input": "2025-10-26T17:48:25.659137Z",
     "iopub.status.busy": "2025-10-26T17:48:25.659039Z",
     "iopub.status.idle": "2025-10-26T17:48:25.660743Z",
     "shell.execute_reply": "2025-10-26T17:48:25.660526Z"
    },
    "slideshow": {
     "slide_type": "fragment"
    }
   },
   "outputs": [],
   "source": [
    "with TypeAnnotator() as annotator:\n",
    "    y = square_root(25.0)\n",
    "    y = square_root(2.0)"
   ]
  },
  {
   "cell_type": "markdown",
   "metadata": {
    "slideshow": {
     "slide_type": "fragment"
    }
   },
   "source": [
    "After tracking, we can immediately retrieve an annotated version of the functions tracked:"
   ]
  },
  {
   "cell_type": "code",
   "execution_count": 94,
   "metadata": {
    "execution": {
     "iopub.execute_input": "2025-10-26T17:48:25.662029Z",
     "iopub.status.busy": "2025-10-26T17:48:25.661939Z",
     "iopub.status.idle": "2025-10-26T17:48:25.675408Z",
     "shell.execute_reply": "2025-10-26T17:48:25.675138Z"
    },
    "slideshow": {
     "slide_type": "subslide"
    }
   },
   "outputs": [
    {
     "name": "stdout",
     "output_type": "stream",
     "text": [
      "\u001b[34mdef\u001b[39;49;00m\u001b[37m \u001b[39;49;00m\u001b[32msquare_root\u001b[39;49;00m(x: \u001b[36mfloat\u001b[39;49;00m) -> \u001b[36mfloat\u001b[39;49;00m:\u001b[37m\u001b[39;49;00m\n",
      "\u001b[37m    \u001b[39;49;00m\u001b[33m\"\"\"Computes the square root of x, using the Newton-Raphson method\"\"\"\u001b[39;49;00m\u001b[37m\u001b[39;49;00m\n",
      "    approx = \u001b[34mNone\u001b[39;49;00m\u001b[37m\u001b[39;49;00m\n",
      "    guess = x / \u001b[34m2\u001b[39;49;00m\u001b[37m\u001b[39;49;00m\n",
      "    \u001b[34mwhile\u001b[39;49;00m approx != guess:\u001b[37m\u001b[39;49;00m\n",
      "        approx = guess\u001b[37m\u001b[39;49;00m\n",
      "        guess = (approx + x / approx) / \u001b[34m2\u001b[39;49;00m\u001b[37m\u001b[39;49;00m\n",
      "    \u001b[34mreturn\u001b[39;49;00m approx\u001b[37m\u001b[39;49;00m"
     ]
    }
   ],
   "source": [
    "print_content(annotator.typed_functions(), '.py')"
   ]
  },
  {
   "cell_type": "markdown",
   "metadata": {
    "slideshow": {
     "slide_type": "fragment"
    }
   },
   "source": [
    "This also works for multiple and diverse functions.  One could go and implement an automatic type annotator for Python files based on the types seen during execution."
   ]
  },
  {
   "cell_type": "code",
   "execution_count": 95,
   "metadata": {
    "execution": {
     "iopub.execute_input": "2025-10-26T17:48:25.677007Z",
     "iopub.status.busy": "2025-10-26T17:48:25.676911Z",
     "iopub.status.idle": "2025-10-26T17:48:25.679616Z",
     "shell.execute_reply": "2025-10-26T17:48:25.679359Z"
    },
    "slideshow": {
     "slide_type": "subslide"
    }
   },
   "outputs": [
    {
     "name": "stdout",
     "output_type": "stream",
     "text": [
      "Hello, type annotations\n"
     ]
    }
   ],
   "source": [
    "with TypeAnnotator() as annotator:\n",
    "    hello('type annotations')\n",
    "    y = square_root(1.0)"
   ]
  },
  {
   "cell_type": "code",
   "execution_count": 96,
   "metadata": {
    "execution": {
     "iopub.execute_input": "2025-10-26T17:48:25.681138Z",
     "iopub.status.busy": "2025-10-26T17:48:25.681037Z",
     "iopub.status.idle": "2025-10-26T17:48:25.695853Z",
     "shell.execute_reply": "2025-10-26T17:48:25.695362Z"
    },
    "slideshow": {
     "slide_type": "subslide"
    }
   },
   "outputs": [
    {
     "name": "stdout",
     "output_type": "stream",
     "text": [
      "\u001b[37m# Could not find function 'parent_header'# Could not find function '_is_master_process'# Could not find function 'utcoffset'# Could not find function 'is_set'# Could not find function 'is_alive'# Could not find function '_event_pipe'# Could not find function 'send'# Could not find function 'schedule'# Could not find function '_schedule_flush'# Could not find function 'write'# Could not find function 'is_publishing'# Could not find function 'is_active'def cast(typ: TypeVar, val: Any) -> Any:\u001b[39;49;00m\u001b[37m\u001b[39;49;00m\n",
      "\u001b[37m    \u001b[39;49;00m\u001b[33m\"\"\"Cast a value to a type.\u001b[39;49;00m\n",
      "\u001b[33m\u001b[39;49;00m\n",
      "\u001b[33m    This returns the value unchanged.  To the type checker this\u001b[39;49;00m\n",
      "\u001b[33m    signals that the return value has the designated type, but at\u001b[39;49;00m\n",
      "\u001b[33m    runtime we intentionally don't check anything (we want this\u001b[39;49;00m\n",
      "\u001b[33m    to be as fast as possible).\u001b[39;49;00m\n",
      "\u001b[33m    \"\"\"\u001b[39;49;00m\u001b[37m\u001b[39;49;00m\n",
      "    \u001b[34mreturn\u001b[39;49;00m val\u001b[37m# Could not find function 'get'# Could not find function '__get__'# Could not find function '__init__'def hello(name: str) -> None:\u001b[39;49;00m\u001b[37m\u001b[39;49;00m\n",
      "    \u001b[36mprint\u001b[39;49;00m(\u001b[33m'\u001b[39;49;00m\u001b[33mHello,\u001b[39;49;00m\u001b[33m'\u001b[39;49;00m, name)\u001b[34mdef\u001b[39;49;00m\u001b[37m \u001b[39;49;00m\u001b[32msquare_root\u001b[39;49;00m(x: \u001b[36mfloat\u001b[39;49;00m) -> \u001b[36mfloat\u001b[39;49;00m:\u001b[37m\u001b[39;49;00m\n",
      "\u001b[37m    \u001b[39;49;00m\u001b[33m\"\"\"Computes the square root of x, using the Newton-Raphson method\"\"\"\u001b[39;49;00m\u001b[37m\u001b[39;49;00m\n",
      "    approx = \u001b[34mNone\u001b[39;49;00m\u001b[37m\u001b[39;49;00m\n",
      "    guess = x / \u001b[34m2\u001b[39;49;00m\u001b[37m\u001b[39;49;00m\n",
      "    \u001b[34mwhile\u001b[39;49;00m approx != guess:\u001b[37m\u001b[39;49;00m\n",
      "        approx = guess\u001b[37m\u001b[39;49;00m\n",
      "        guess = (approx + x / approx) / \u001b[34m2\u001b[39;49;00m\u001b[37m\u001b[39;49;00m\n",
      "    \u001b[34mreturn\u001b[39;49;00m approx\u001b[37m\u001b[39;49;00m"
     ]
    }
   ],
   "source": [
    "print_content(annotator.typed_functions(), '.py')"
   ]
  },
  {
   "cell_type": "markdown",
   "metadata": {
    "slideshow": {
     "slide_type": "subslide"
    }
   },
   "source": [
    "A content as above could now be sent to a type checker, which would detect any type inconsistency between callers and callees."
   ]
  },
  {
   "cell_type": "markdown",
   "metadata": {
    "slideshow": {
     "slide_type": "subslide"
    }
   },
   "source": [
    "#### Excursion: Handling Multiple Types\n",
    "\n",
    "Let us now resolve the role of the magic `Any` type in `annotate_function_ast_with_types()`.  If we see multiple types for the same argument, we set its type to `Any`.  For `square_root()`, this makes sense, as its arguments can be integers as well as floats:"
   ]
  },
  {
   "cell_type": "code",
   "execution_count": 97,
   "metadata": {
    "button": false,
    "execution": {
     "iopub.execute_input": "2025-10-26T17:48:25.697501Z",
     "iopub.status.busy": "2025-10-26T17:48:25.697371Z",
     "iopub.status.idle": "2025-10-26T17:48:25.699305Z",
     "shell.execute_reply": "2025-10-26T17:48:25.699057Z"
    },
    "new_sheet": false,
    "run_control": {
     "read_only": false
    },
    "slideshow": {
     "slide_type": "skip"
    }
   },
   "outputs": [],
   "source": [
    "with CallTracer() as tracer:\n",
    "    y = square_root(25.0)\n",
    "    y = square_root(4)"
   ]
  },
  {
   "cell_type": "code",
   "execution_count": 98,
   "metadata": {
    "execution": {
     "iopub.execute_input": "2025-10-26T17:48:25.700526Z",
     "iopub.status.busy": "2025-10-26T17:48:25.700432Z",
     "iopub.status.idle": "2025-10-26T17:48:25.713509Z",
     "shell.execute_reply": "2025-10-26T17:48:25.713269Z"
    },
    "slideshow": {
     "slide_type": "subslide"
    }
   },
   "outputs": [
    {
     "name": "stdout",
     "output_type": "stream",
     "text": [
      "\u001b[34mdef\u001b[39;49;00m\u001b[37m \u001b[39;49;00m\u001b[32msquare_root\u001b[39;49;00m(x: Any) -> \u001b[36mfloat\u001b[39;49;00m:\u001b[37m\u001b[39;49;00m\n",
      "\u001b[37m    \u001b[39;49;00m\u001b[33m\"\"\"Computes the square root of x, using the Newton-Raphson method\"\"\"\u001b[39;49;00m\u001b[37m\u001b[39;49;00m\n",
      "    approx = \u001b[34mNone\u001b[39;49;00m\u001b[37m\u001b[39;49;00m\n",
      "    guess = x / \u001b[34m2\u001b[39;49;00m\u001b[37m\u001b[39;49;00m\n",
      "    \u001b[34mwhile\u001b[39;49;00m approx != guess:\u001b[37m\u001b[39;49;00m\n",
      "        approx = guess\u001b[37m\u001b[39;49;00m\n",
      "        guess = (approx + x / approx) / \u001b[34m2\u001b[39;49;00m\u001b[37m\u001b[39;49;00m\n",
      "    \u001b[34mreturn\u001b[39;49;00m approx\u001b[37m\u001b[39;49;00m"
     ]
    }
   ],
   "source": [
    "annotated_square_root_ast = annotate_types(tracer.all_calls())['square_root']\n",
    "print_content(ast.unparse(annotated_square_root_ast), '.py')"
   ]
  },
  {
   "cell_type": "markdown",
   "metadata": {
    "slideshow": {
     "slide_type": "fragment"
    }
   },
   "source": [
    "The following function `sum3()` can be called with floating-point numbers as arguments, resulting in the parameters getting a `float` type:"
   ]
  },
  {
   "cell_type": "code",
   "execution_count": 99,
   "metadata": {
    "execution": {
     "iopub.execute_input": "2025-10-26T17:48:25.714912Z",
     "iopub.status.busy": "2025-10-26T17:48:25.714821Z",
     "iopub.status.idle": "2025-10-26T17:48:25.716330Z",
     "shell.execute_reply": "2025-10-26T17:48:25.716091Z"
    },
    "slideshow": {
     "slide_type": "fragment"
    }
   },
   "outputs": [],
   "source": [
    "def sum3(a, b, c):  # type: ignore\n",
    "    return a + b + c"
   ]
  },
  {
   "cell_type": "code",
   "execution_count": 100,
   "metadata": {
    "execution": {
     "iopub.execute_input": "2025-10-26T17:48:25.717755Z",
     "iopub.status.busy": "2025-10-26T17:48:25.717672Z",
     "iopub.status.idle": "2025-10-26T17:48:25.719998Z",
     "shell.execute_reply": "2025-10-26T17:48:25.719781Z"
    },
    "slideshow": {
     "slide_type": "subslide"
    }
   },
   "outputs": [
    {
     "data": {
      "text/plain": [
       "6.0"
      ]
     },
     "execution_count": 100,
     "metadata": {},
     "output_type": "execute_result"
    }
   ],
   "source": [
    "with TypeAnnotator() as annotator:\n",
    "    y = sum3(1.0, 2.0, 3.0)\n",
    "y"
   ]
  },
  {
   "cell_type": "code",
   "execution_count": 101,
   "metadata": {
    "execution": {
     "iopub.execute_input": "2025-10-26T17:48:25.721230Z",
     "iopub.status.busy": "2025-10-26T17:48:25.721155Z",
     "iopub.status.idle": "2025-10-26T17:48:25.733560Z",
     "shell.execute_reply": "2025-10-26T17:48:25.733318Z"
    },
    "slideshow": {
     "slide_type": "fragment"
    }
   },
   "outputs": [
    {
     "name": "stdout",
     "output_type": "stream",
     "text": [
      "\u001b[34mdef\u001b[39;49;00m\u001b[37m \u001b[39;49;00m\u001b[32msum3\u001b[39;49;00m(a: \u001b[36mfloat\u001b[39;49;00m, b: \u001b[36mfloat\u001b[39;49;00m, c: \u001b[36mfloat\u001b[39;49;00m) -> \u001b[36mfloat\u001b[39;49;00m:\u001b[37m\u001b[39;49;00m\n",
      "    \u001b[34mreturn\u001b[39;49;00m a + b + c\u001b[37m\u001b[39;49;00m"
     ]
    }
   ],
   "source": [
    "print_content(annotator.typed_functions(), '.py')"
   ]
  },
  {
   "cell_type": "markdown",
   "metadata": {
    "slideshow": {
     "slide_type": "fragment"
    }
   },
   "source": [
    "If we call `sum3()` with integers, though, the arguments get an `int` type:"
   ]
  },
  {
   "cell_type": "code",
   "execution_count": 102,
   "metadata": {
    "execution": {
     "iopub.execute_input": "2025-10-26T17:48:25.734933Z",
     "iopub.status.busy": "2025-10-26T17:48:25.734842Z",
     "iopub.status.idle": "2025-10-26T17:48:25.737064Z",
     "shell.execute_reply": "2025-10-26T17:48:25.736858Z"
    },
    "slideshow": {
     "slide_type": "fragment"
    }
   },
   "outputs": [
    {
     "data": {
      "text/plain": [
       "6"
      ]
     },
     "execution_count": 102,
     "metadata": {},
     "output_type": "execute_result"
    }
   ],
   "source": [
    "with TypeAnnotator() as annotator:\n",
    "    y = sum3(1, 2, 3)\n",
    "y"
   ]
  },
  {
   "cell_type": "code",
   "execution_count": 103,
   "metadata": {
    "execution": {
     "iopub.execute_input": "2025-10-26T17:48:25.738296Z",
     "iopub.status.busy": "2025-10-26T17:48:25.738222Z",
     "iopub.status.idle": "2025-10-26T17:48:25.750849Z",
     "shell.execute_reply": "2025-10-26T17:48:25.750565Z"
    },
    "slideshow": {
     "slide_type": "subslide"
    }
   },
   "outputs": [
    {
     "name": "stdout",
     "output_type": "stream",
     "text": [
      "\u001b[34mdef\u001b[39;49;00m\u001b[37m \u001b[39;49;00m\u001b[32msum3\u001b[39;49;00m(a: \u001b[36mint\u001b[39;49;00m, b: \u001b[36mint\u001b[39;49;00m, c: \u001b[36mint\u001b[39;49;00m) -> \u001b[36mint\u001b[39;49;00m:\u001b[37m\u001b[39;49;00m\n",
      "    \u001b[34mreturn\u001b[39;49;00m a + b + c\u001b[37m\u001b[39;49;00m"
     ]
    }
   ],
   "source": [
    "print_content(annotator.typed_functions(), '.py')"
   ]
  },
  {
   "cell_type": "markdown",
   "metadata": {
    "slideshow": {
     "slide_type": "fragment"
    }
   },
   "source": [
    "And we can also call `sum3()` with strings, which assigns the arguments a `str` type:"
   ]
  },
  {
   "cell_type": "code",
   "execution_count": 104,
   "metadata": {
    "execution": {
     "iopub.execute_input": "2025-10-26T17:48:25.752436Z",
     "iopub.status.busy": "2025-10-26T17:48:25.752334Z",
     "iopub.status.idle": "2025-10-26T17:48:25.754736Z",
     "shell.execute_reply": "2025-10-26T17:48:25.754519Z"
    },
    "slideshow": {
     "slide_type": "fragment"
    }
   },
   "outputs": [
    {
     "data": {
      "text/plain": [
       "'onetwothree'"
      ]
     },
     "execution_count": 104,
     "metadata": {},
     "output_type": "execute_result"
    }
   ],
   "source": [
    "with TypeAnnotator() as annotator:\n",
    "    y = sum3(\"one\", \"two\", \"three\")\n",
    "y"
   ]
  },
  {
   "cell_type": "code",
   "execution_count": 105,
   "metadata": {
    "execution": {
     "iopub.execute_input": "2025-10-26T17:48:25.756013Z",
     "iopub.status.busy": "2025-10-26T17:48:25.755911Z",
     "iopub.status.idle": "2025-10-26T17:48:25.768979Z",
     "shell.execute_reply": "2025-10-26T17:48:25.768724Z"
    },
    "slideshow": {
     "slide_type": "fragment"
    }
   },
   "outputs": [
    {
     "name": "stdout",
     "output_type": "stream",
     "text": [
      "\u001b[34mdef\u001b[39;49;00m\u001b[37m \u001b[39;49;00m\u001b[32msum3\u001b[39;49;00m(a: \u001b[36mstr\u001b[39;49;00m, b: \u001b[36mstr\u001b[39;49;00m, c: \u001b[36mstr\u001b[39;49;00m) -> \u001b[36mstr\u001b[39;49;00m:\u001b[37m\u001b[39;49;00m\n",
      "    \u001b[34mreturn\u001b[39;49;00m a + b + c\u001b[37m\u001b[39;49;00m"
     ]
    }
   ],
   "source": [
    "print_content(annotator.typed_functions(), '.py')"
   ]
  },
  {
   "cell_type": "markdown",
   "metadata": {
    "slideshow": {
     "slide_type": "fragment"
    }
   },
   "source": [
    "If we have multiple calls, but with different types, `TypeAnnotator()` will assign an `Any` type to both arguments and return values:"
   ]
  },
  {
   "cell_type": "code",
   "execution_count": 106,
   "metadata": {
    "execution": {
     "iopub.execute_input": "2025-10-26T17:48:25.770463Z",
     "iopub.status.busy": "2025-10-26T17:48:25.770370Z",
     "iopub.status.idle": "2025-10-26T17:48:25.772239Z",
     "shell.execute_reply": "2025-10-26T17:48:25.771992Z"
    },
    "slideshow": {
     "slide_type": "subslide"
    }
   },
   "outputs": [],
   "source": [
    "with TypeAnnotator() as annotator:\n",
    "    y = sum3(1, 2, 3)\n",
    "    y = sum3(\"one\", \"two\", \"three\")"
   ]
  },
  {
   "cell_type": "code",
   "execution_count": 107,
   "metadata": {
    "execution": {
     "iopub.execute_input": "2025-10-26T17:48:25.773531Z",
     "iopub.status.busy": "2025-10-26T17:48:25.773453Z",
     "iopub.status.idle": "2025-10-26T17:48:25.775046Z",
     "shell.execute_reply": "2025-10-26T17:48:25.774838Z"
    },
    "slideshow": {
     "slide_type": "fragment"
    }
   },
   "outputs": [],
   "source": [
    "typed_sum3_def = annotator.typed_function('sum3')"
   ]
  },
  {
   "cell_type": "code",
   "execution_count": 108,
   "metadata": {
    "execution": {
     "iopub.execute_input": "2025-10-26T17:48:25.776352Z",
     "iopub.status.busy": "2025-10-26T17:48:25.776274Z",
     "iopub.status.idle": "2025-10-26T17:48:25.789487Z",
     "shell.execute_reply": "2025-10-26T17:48:25.789243Z"
    },
    "slideshow": {
     "slide_type": "fragment"
    }
   },
   "outputs": [
    {
     "name": "stdout",
     "output_type": "stream",
     "text": [
      "\u001b[34mdef\u001b[39;49;00m\u001b[37m \u001b[39;49;00m\u001b[32msum3\u001b[39;49;00m(a: Any, b: Any, c: Any) -> Any:\u001b[37m\u001b[39;49;00m\n",
      "    \u001b[34mreturn\u001b[39;49;00m a + b + c\u001b[37m\u001b[39;49;00m"
     ]
    }
   ],
   "source": [
    "print_content(typed_sum3_def, '.py')"
   ]
  },
  {
   "cell_type": "markdown",
   "metadata": {
    "slideshow": {
     "slide_type": "fragment"
    }
   },
   "source": [
    "A type `Any` makes it explicit that an object can, indeed, have any type; it will not be typechecked at runtime or statically.  To some extent, this defeats the power of type checking; but it also preserves some of the type flexibility that many Python programmers enjoy.  Besides `Any`, the `typing` module supports several additional ways to define ambiguous types; we will keep this in mind for a later exercise."
   ]
  },
  {
   "cell_type": "markdown",
   "metadata": {
    "slideshow": {
     "slide_type": "subslide"
    }
   },
   "source": [
    "#### End of Excursion"
   ]
  },
  {
   "cell_type": "markdown",
   "metadata": {
    "slideshow": {
     "slide_type": "slide"
    }
   },
   "source": [
    "## Mining Invariants\n",
    "\n",
    "Besides basic data types. we can check several further properties from arguments.  We can, for instance, whether an argument can be negative, zero, or positive; or that one argument should be smaller than the second; or that the result should be the sum of two arguments – properties that cannot be expressed in a (Python) type.\n",
    "\n",
    "Such properties are called *invariants*, as they hold across all invocations of a function. Specifically, invariants come as _pre_- and _postconditions_ – conditions that always hold at the beginning and at the end of a function.  (There are also _data_ and _object_ invariants that express always-holding properties over the state of data or objects, but we do not consider these in this book.)"
   ]
  },
  {
   "cell_type": "markdown",
   "metadata": {
    "slideshow": {
     "slide_type": "subslide"
    }
   },
   "source": [
    "### Annotating Functions with Pre- and Postconditions\n",
    "\n",
    "The classical means to specify pre- and postconditions is via _assertions_, which we have introduced in the [chapter on assertions](Assertions.ipynb).  A precondition checks whether the arguments to a function satisfy the expected properties; a postcondition does the same for the result.  We can express and check both using assertions as follows:"
   ]
  },
  {
   "cell_type": "code",
   "execution_count": 109,
   "metadata": {
    "execution": {
     "iopub.execute_input": "2025-10-26T17:48:25.791012Z",
     "iopub.status.busy": "2025-10-26T17:48:25.790914Z",
     "iopub.status.idle": "2025-10-26T17:48:25.792706Z",
     "shell.execute_reply": "2025-10-26T17:48:25.792488Z"
    },
    "slideshow": {
     "slide_type": "fragment"
    }
   },
   "outputs": [],
   "source": [
    "def square_root_with_invariants(x):  # type: ignore\n",
    "    assert x >= 0  # Precondition\n",
    "\n",
    "    ...\n",
    "\n",
    "    assert result * result == x  # Postcondition\n",
    "    return result"
   ]
  },
  {
   "cell_type": "markdown",
   "metadata": {
    "slideshow": {
     "slide_type": "subslide"
    }
   },
   "source": [
    "A nicer way, however, is to syntactically separate invariants from the function at hand.  Using appropriate decorators, we could specify pre- and postconditions as follows:\n",
    "\n",
    "```python\n",
    "@precondition lambda x: x >= 0\n",
    "@postcondition lambda return_value, x: return_value * return_value == x\n",
    "def square_root_with_invariants(x):\n",
    "    # normal code without assertions\n",
    "    ...\n",
    "```\n",
    "\n",
    "The decorators `@precondition` and `@postcondition` would run the given functions (specified as anonymous `lambda` functions) before and after the decorated function, respectively.  If the functions return `False`, the condition is violated.  `@precondition` gets the function arguments as arguments; `@postcondition` additionally gets the return value as first argument."
   ]
  },
  {
   "cell_type": "markdown",
   "metadata": {
    "slideshow": {
     "slide_type": "subslide"
    }
   },
   "source": [
    "It turns out that implementing such decorators is not hard at all.  Our implementation builds on a [code snippet from StackOverflow](https://stackoverflow.com/questions/12151182/python-precondition-postcondition-for-member-function-how):"
   ]
  },
  {
   "cell_type": "code",
   "execution_count": 110,
   "metadata": {
    "execution": {
     "iopub.execute_input": "2025-10-26T17:48:25.794225Z",
     "iopub.status.busy": "2025-10-26T17:48:25.794144Z",
     "iopub.status.idle": "2025-10-26T17:48:25.795691Z",
     "shell.execute_reply": "2025-10-26T17:48:25.795453Z"
    },
    "slideshow": {
     "slide_type": "skip"
    }
   },
   "outputs": [],
   "source": [
    "import functools"
   ]
  },
  {
   "cell_type": "code",
   "execution_count": 111,
   "metadata": {
    "execution": {
     "iopub.execute_input": "2025-10-26T17:48:25.797046Z",
     "iopub.status.busy": "2025-10-26T17:48:25.796954Z",
     "iopub.status.idle": "2025-10-26T17:48:25.799223Z",
     "shell.execute_reply": "2025-10-26T17:48:25.798980Z"
    },
    "slideshow": {
     "slide_type": "subslide"
    }
   },
   "outputs": [],
   "source": [
    "def condition(precondition: Optional[Callable] = None,\n",
    "              postcondition: Optional[Callable] = None) -> Callable:\n",
    "    def decorator(func: Callable) -> Callable:\n",
    "        @functools.wraps(func)  # preserves name, docstring, etc\n",
    "        def wrapper(*args: Any, **kwargs: Any) -> Any:\n",
    "            if precondition is not None:\n",
    "                assert precondition(*args, **kwargs), \\\n",
    "                    \"Precondition violated\"\n",
    "\n",
    "            # Call original function or method\n",
    "            retval = func(*args, **kwargs)\n",
    "            if postcondition is not None:\n",
    "                assert postcondition(retval, *args, **kwargs), \\\n",
    "                    \"Postcondition violated\"\n",
    "\n",
    "            return retval\n",
    "        return wrapper\n",
    "    return decorator"
   ]
  },
  {
   "cell_type": "code",
   "execution_count": 112,
   "metadata": {
    "execution": {
     "iopub.execute_input": "2025-10-26T17:48:25.800439Z",
     "iopub.status.busy": "2025-10-26T17:48:25.800361Z",
     "iopub.status.idle": "2025-10-26T17:48:25.801847Z",
     "shell.execute_reply": "2025-10-26T17:48:25.801603Z"
    },
    "slideshow": {
     "slide_type": "subslide"
    }
   },
   "outputs": [],
   "source": [
    "def precondition(check: Callable) -> Callable:\n",
    "    return condition(precondition=check)"
   ]
  },
  {
   "cell_type": "code",
   "execution_count": 113,
   "metadata": {
    "execution": {
     "iopub.execute_input": "2025-10-26T17:48:25.803158Z",
     "iopub.status.busy": "2025-10-26T17:48:25.803071Z",
     "iopub.status.idle": "2025-10-26T17:48:25.804776Z",
     "shell.execute_reply": "2025-10-26T17:48:25.804463Z"
    },
    "slideshow": {
     "slide_type": "fragment"
    }
   },
   "outputs": [],
   "source": [
    "def postcondition(check: Callable) -> Callable:\n",
    "    return condition(postcondition=check)"
   ]
  },
  {
   "cell_type": "markdown",
   "metadata": {
    "slideshow": {
     "slide_type": "fragment"
    }
   },
   "source": [
    "With these, we can now start decorating `square_root()`:"
   ]
  },
  {
   "cell_type": "code",
   "execution_count": 114,
   "metadata": {
    "execution": {
     "iopub.execute_input": "2025-10-26T17:48:25.806504Z",
     "iopub.status.busy": "2025-10-26T17:48:25.806419Z",
     "iopub.status.idle": "2025-10-26T17:48:25.808099Z",
     "shell.execute_reply": "2025-10-26T17:48:25.807832Z"
    },
    "slideshow": {
     "slide_type": "fragment"
    }
   },
   "outputs": [],
   "source": [
    "@precondition(lambda x: x > 0)\n",
    "def square_root_with_precondition(x):  # type: ignore\n",
    "    return square_root(x)"
   ]
  },
  {
   "cell_type": "markdown",
   "metadata": {
    "slideshow": {
     "slide_type": "fragment"
    }
   },
   "source": [
    "This catches arguments violating the precondition:"
   ]
  },
  {
   "cell_type": "code",
   "execution_count": 115,
   "metadata": {
    "execution": {
     "iopub.execute_input": "2025-10-26T17:48:25.809428Z",
     "iopub.status.busy": "2025-10-26T17:48:25.809348Z",
     "iopub.status.idle": "2025-10-26T17:48:25.811231Z",
     "shell.execute_reply": "2025-10-26T17:48:25.810987Z"
    },
    "slideshow": {
     "slide_type": "subslide"
    }
   },
   "outputs": [
    {
     "name": "stderr",
     "output_type": "stream",
     "text": [
      "Traceback (most recent call last):\n",
      "  File \"/var/folders/n2/xd9445p97rb3xh7m1dfx8_4h0006ts/T/ipykernel_52062/2859393274.py\", line 2, in <module>\n",
      "    square_root_with_precondition(-1.0)\n",
      "    ~~~~~~~~~~~~~~~~~~~~~~~~~~~~~^^^^^^\n",
      "  File \"/var/folders/n2/xd9445p97rb3xh7m1dfx8_4h0006ts/T/ipykernel_52062/3759592669.py\", line 7, in wrapper\n",
      "    assert precondition(*args, **kwargs), \\\n",
      "           ~~~~~~~~~~~~^^^^^^^^^^^^^^^^^\n",
      "AssertionError: Precondition violated (expected)\n"
     ]
    }
   ],
   "source": [
    "with ExpectError():\n",
    "    square_root_with_precondition(-1.0)"
   ]
  },
  {
   "cell_type": "markdown",
   "metadata": {
    "slideshow": {
     "slide_type": "fragment"
    }
   },
   "source": [
    "Likewise, we can provide a postcondition:"
   ]
  },
  {
   "cell_type": "code",
   "execution_count": 116,
   "metadata": {
    "execution": {
     "iopub.execute_input": "2025-10-26T17:48:25.812445Z",
     "iopub.status.busy": "2025-10-26T17:48:25.812361Z",
     "iopub.status.idle": "2025-10-26T17:48:25.813666Z",
     "shell.execute_reply": "2025-10-26T17:48:25.813439Z"
    },
    "slideshow": {
     "slide_type": "skip"
    }
   },
   "outputs": [],
   "source": [
    "import math"
   ]
  },
  {
   "cell_type": "code",
   "execution_count": 117,
   "metadata": {
    "execution": {
     "iopub.execute_input": "2025-10-26T17:48:25.814816Z",
     "iopub.status.busy": "2025-10-26T17:48:25.814732Z",
     "iopub.status.idle": "2025-10-26T17:48:25.816169Z",
     "shell.execute_reply": "2025-10-26T17:48:25.815975Z"
    },
    "slideshow": {
     "slide_type": "fragment"
    }
   },
   "outputs": [],
   "source": [
    "@postcondition(lambda ret, x: math.isclose(ret * ret, x))\n",
    "def square_root_with_postcondition(x):  # type: ignore\n",
    "    return square_root(x)"
   ]
  },
  {
   "cell_type": "code",
   "execution_count": 118,
   "metadata": {
    "execution": {
     "iopub.execute_input": "2025-10-26T17:48:25.817412Z",
     "iopub.status.busy": "2025-10-26T17:48:25.817336Z",
     "iopub.status.idle": "2025-10-26T17:48:25.819201Z",
     "shell.execute_reply": "2025-10-26T17:48:25.818970Z"
    },
    "slideshow": {
     "slide_type": "subslide"
    }
   },
   "outputs": [
    {
     "data": {
      "text/plain": [
       "1.414213562373095"
      ]
     },
     "execution_count": 118,
     "metadata": {},
     "output_type": "execute_result"
    }
   ],
   "source": [
    "y = square_root_with_postcondition(2.0)\n",
    "y"
   ]
  },
  {
   "cell_type": "markdown",
   "metadata": {
    "slideshow": {
     "slide_type": "fragment"
    }
   },
   "source": [
    "If we have a buggy implementation of $\\sqrt{x}$, this gets caught quickly:"
   ]
  },
  {
   "cell_type": "code",
   "execution_count": 119,
   "metadata": {
    "execution": {
     "iopub.execute_input": "2025-10-26T17:48:25.820378Z",
     "iopub.status.busy": "2025-10-26T17:48:25.820308Z",
     "iopub.status.idle": "2025-10-26T17:48:25.821912Z",
     "shell.execute_reply": "2025-10-26T17:48:25.821700Z"
    },
    "slideshow": {
     "slide_type": "fragment"
    }
   },
   "outputs": [],
   "source": [
    "@postcondition(lambda ret, x: math.isclose(ret * ret, x))\n",
    "def buggy_square_root_with_postcondition(x):  # type: ignore\n",
    "    return square_root(x) + 0.1"
   ]
  },
  {
   "cell_type": "code",
   "execution_count": 120,
   "metadata": {
    "execution": {
     "iopub.execute_input": "2025-10-26T17:48:25.823024Z",
     "iopub.status.busy": "2025-10-26T17:48:25.822947Z",
     "iopub.status.idle": "2025-10-26T17:48:25.824732Z",
     "shell.execute_reply": "2025-10-26T17:48:25.824442Z"
    },
    "slideshow": {
     "slide_type": "subslide"
    }
   },
   "outputs": [
    {
     "name": "stderr",
     "output_type": "stream",
     "text": [
      "Traceback (most recent call last):\n",
      "  File \"/var/folders/n2/xd9445p97rb3xh7m1dfx8_4h0006ts/T/ipykernel_52062/1806983978.py\", line 2, in <module>\n",
      "    y = buggy_square_root_with_postcondition(2.0)\n",
      "  File \"/var/folders/n2/xd9445p97rb3xh7m1dfx8_4h0006ts/T/ipykernel_52062/3759592669.py\", line 13, in wrapper\n",
      "    assert postcondition(retval, *args, **kwargs), \\\n",
      "           ~~~~~~~~~~~~~^^^^^^^^^^^^^^^^^^^^^^^^^\n",
      "AssertionError: Postcondition violated (expected)\n"
     ]
    }
   ],
   "source": [
    "with ExpectError():\n",
    "    y = buggy_square_root_with_postcondition(2.0)"
   ]
  },
  {
   "cell_type": "markdown",
   "metadata": {
    "slideshow": {
     "slide_type": "fragment"
    }
   },
   "source": [
    "While checking pre- and postconditions is a great way to catch errors, specifying them can be cumbersome.  Let us try to see whether we can (again) _mine_ some of them."
   ]
  },
  {
   "cell_type": "markdown",
   "metadata": {
    "slideshow": {
     "slide_type": "subslide"
    }
   },
   "source": [
    "### Mining Invariants\n",
    "\n",
    "To _mine_ invariants, we can use the same tracking functionality as before; instead of saving values for individual variables, though, we now check whether the values satisfy specific _properties_ or not.  For instance, if all values of `x` seen satisfy the condition `x > 0`, then we make `x > 0` an invariant of the function.  If we see positive, zero, and negative values of `x`, though, then there is no property of `x` left to talk about.\n",
    "\n",
    "The general idea is thus:\n",
    "\n",
    "1. Check all variable values observed against a set of predefined properties; and\n",
    "2. Keep only those properties that hold for all runs observed."
   ]
  },
  {
   "cell_type": "markdown",
   "metadata": {
    "slideshow": {
     "slide_type": "subslide"
    }
   },
   "source": [
    "### Defining Properties\n",
    "\n",
    "What precisely do we mean by properties?  Here is a small collection of value properties that would frequently be used in invariants.  All these properties would be evaluated with the _metavariables_ `X`, `Y`, and `Z` (actually, any upper-case identifier) being replaced with the names of function parameters: "
   ]
  },
  {
   "cell_type": "code",
   "execution_count": 121,
   "metadata": {
    "execution": {
     "iopub.execute_input": "2025-10-26T17:48:25.826096Z",
     "iopub.status.busy": "2025-10-26T17:48:25.826018Z",
     "iopub.status.idle": "2025-10-26T17:48:25.827356Z",
     "shell.execute_reply": "2025-10-26T17:48:25.827154Z"
    },
    "slideshow": {
     "slide_type": "fragment"
    }
   },
   "outputs": [],
   "source": [
    "INVARIANT_PROPERTIES = [\n",
    "    \"X < 0\",\n",
    "    \"X <= 0\",\n",
    "    \"X > 0\",\n",
    "    \"X >= 0\",\n",
    "    # \"X == 0\",  # implied by \"X\", below\n",
    "    # \"X != 0\",  # implied by \"not X\", below\n",
    "]"
   ]
  },
  {
   "cell_type": "markdown",
   "metadata": {
    "slideshow": {
     "slide_type": "subslide"
    }
   },
   "source": [
    "When `square_root(x)` is called as, say `square_root(5.0)`, we see that `x = 5.0` holds.  The above properties would then all be checked for `x`.  Only the properties `X > 0`, `X >= 0`, and `not X` hold for the call seen; and hence `x > 0`, `x >= 0`, and `not x` (or better: `x != 0`) would make potential preconditions for `square_root(x)`."
   ]
  },
  {
   "cell_type": "markdown",
   "metadata": {
    "slideshow": {
     "slide_type": "fragment"
    }
   },
   "source": [
    "We can check for many more properties such as relations between two arguments:"
   ]
  },
  {
   "cell_type": "code",
   "execution_count": 122,
   "metadata": {
    "execution": {
     "iopub.execute_input": "2025-10-26T17:48:25.828612Z",
     "iopub.status.busy": "2025-10-26T17:48:25.828526Z",
     "iopub.status.idle": "2025-10-26T17:48:25.829974Z",
     "shell.execute_reply": "2025-10-26T17:48:25.829779Z"
    },
    "slideshow": {
     "slide_type": "fragment"
    }
   },
   "outputs": [],
   "source": [
    "INVARIANT_PROPERTIES += [\n",
    "    \"X == Y\",\n",
    "    \"X > Y\",\n",
    "    \"X < Y\",\n",
    "    \"X >= Y\",\n",
    "    \"X <= Y\",\n",
    "]"
   ]
  },
  {
   "cell_type": "markdown",
   "metadata": {
    "slideshow": {
     "slide_type": "subslide"
    }
   },
   "source": [
    "Types also can be checked using properties.  For any function parameter `X`, only one of these will hold:"
   ]
  },
  {
   "cell_type": "code",
   "execution_count": 123,
   "metadata": {
    "execution": {
     "iopub.execute_input": "2025-10-26T17:48:25.831177Z",
     "iopub.status.busy": "2025-10-26T17:48:25.831101Z",
     "iopub.status.idle": "2025-10-26T17:48:25.832645Z",
     "shell.execute_reply": "2025-10-26T17:48:25.832423Z"
    },
    "slideshow": {
     "slide_type": "fragment"
    }
   },
   "outputs": [],
   "source": [
    "INVARIANT_PROPERTIES += [\n",
    "    \"isinstance(X, bool)\",\n",
    "    \"isinstance(X, int)\",\n",
    "    \"isinstance(X, float)\",\n",
    "    \"isinstance(X, list)\",\n",
    "    \"isinstance(X, dict)\",\n",
    "]"
   ]
  },
  {
   "cell_type": "markdown",
   "metadata": {
    "slideshow": {
     "slide_type": "fragment"
    }
   },
   "source": [
    "We can check for arithmetic properties:"
   ]
  },
  {
   "cell_type": "code",
   "execution_count": 124,
   "metadata": {
    "execution": {
     "iopub.execute_input": "2025-10-26T17:48:25.833812Z",
     "iopub.status.busy": "2025-10-26T17:48:25.833742Z",
     "iopub.status.idle": "2025-10-26T17:48:25.835139Z",
     "shell.execute_reply": "2025-10-26T17:48:25.834922Z"
    },
    "slideshow": {
     "slide_type": "subslide"
    }
   },
   "outputs": [],
   "source": [
    "INVARIANT_PROPERTIES += [\n",
    "    \"X == Y + Z\",\n",
    "    \"X == Y * Z\",\n",
    "    \"X == Y - Z\",\n",
    "    \"X == Y / Z\",\n",
    "]"
   ]
  },
  {
   "cell_type": "markdown",
   "metadata": {
    "slideshow": {
     "slide_type": "fragment"
    }
   },
   "source": [
    "Here's relations over three values, a Python special:"
   ]
  },
  {
   "cell_type": "code",
   "execution_count": 125,
   "metadata": {
    "execution": {
     "iopub.execute_input": "2025-10-26T17:48:25.836328Z",
     "iopub.status.busy": "2025-10-26T17:48:25.836256Z",
     "iopub.status.idle": "2025-10-26T17:48:25.837603Z",
     "shell.execute_reply": "2025-10-26T17:48:25.837406Z"
    },
    "slideshow": {
     "slide_type": "fragment"
    }
   },
   "outputs": [],
   "source": [
    "INVARIANT_PROPERTIES += [\n",
    "    \"X < Y < Z\",\n",
    "    \"X <= Y <= Z\",\n",
    "    \"X > Y > Z\",\n",
    "    \"X >= Y >= Z\",\n",
    "]"
   ]
  },
  {
   "cell_type": "markdown",
   "metadata": {
    "slideshow": {
     "slide_type": "subslide"
    }
   },
   "source": [
    "These Boolean properties also check for other types, as in Python, `None`, an empty list, an empty set, an empty string, and the value zero all evaluate to `False`."
   ]
  },
  {
   "cell_type": "code",
   "execution_count": 126,
   "metadata": {
    "execution": {
     "iopub.execute_input": "2025-10-26T17:48:25.838901Z",
     "iopub.status.busy": "2025-10-26T17:48:25.838809Z",
     "iopub.status.idle": "2025-10-26T17:48:25.840207Z",
     "shell.execute_reply": "2025-10-26T17:48:25.840006Z"
    },
    "slideshow": {
     "slide_type": "fragment"
    }
   },
   "outputs": [],
   "source": [
    "INVARIANT_PROPERTIES += [\n",
    "    \"X\",\n",
    "    \"not X\"\n",
    "]"
   ]
  },
  {
   "cell_type": "markdown",
   "metadata": {
    "slideshow": {
     "slide_type": "fragment"
    }
   },
   "source": [
    "Finally, we can also check for list or string properties.  Again, this is just a tiny selection."
   ]
  },
  {
   "cell_type": "code",
   "execution_count": 127,
   "metadata": {
    "execution": {
     "iopub.execute_input": "2025-10-26T17:48:25.841433Z",
     "iopub.status.busy": "2025-10-26T17:48:25.841347Z",
     "iopub.status.idle": "2025-10-26T17:48:25.842879Z",
     "shell.execute_reply": "2025-10-26T17:48:25.842667Z"
    },
    "slideshow": {
     "slide_type": "subslide"
    }
   },
   "outputs": [],
   "source": [
    "INVARIANT_PROPERTIES += [\n",
    "    \"X == len(Y)\",\n",
    "    \"X == sum(Y)\",\n",
    "    \"X in Y\",\n",
    "    \"X.startswith(Y)\",\n",
    "    \"X.endswith(Y)\",\n",
    "]"
   ]
  },
  {
   "cell_type": "markdown",
   "metadata": {
    "slideshow": {
     "slide_type": "subslide"
    }
   },
   "source": [
    "### Extracting Meta-Variables\n",
    "\n",
    "Let us first introduce a few _helper functions_ before we can get to the actual mining.  `metavars()` extracts the set of meta-variables (`X`, `Y`, `Z`, etc.) from a property.  To this end, we parse the property as a Python expression and then visit the identifiers."
   ]
  },
  {
   "cell_type": "code",
   "execution_count": 128,
   "metadata": {
    "execution": {
     "iopub.execute_input": "2025-10-26T17:48:25.844151Z",
     "iopub.status.busy": "2025-10-26T17:48:25.844071Z",
     "iopub.status.idle": "2025-10-26T17:48:25.845925Z",
     "shell.execute_reply": "2025-10-26T17:48:25.845628Z"
    },
    "slideshow": {
     "slide_type": "subslide"
    }
   },
   "outputs": [],
   "source": [
    "def metavars(prop: str) -> List[str]:\n",
    "    metavar_list = []\n",
    "\n",
    "    class ArgVisitor(ast.NodeVisitor):\n",
    "        def visit_Name(self, node: ast.Name) -> None:\n",
    "            if node.id.isupper():\n",
    "                metavar_list.append(node.id)\n",
    "\n",
    "    ArgVisitor().visit(ast.parse(prop))\n",
    "    return metavar_list"
   ]
  },
  {
   "cell_type": "code",
   "execution_count": 129,
   "metadata": {
    "execution": {
     "iopub.execute_input": "2025-10-26T17:48:25.847428Z",
     "iopub.status.busy": "2025-10-26T17:48:25.847347Z",
     "iopub.status.idle": "2025-10-26T17:48:25.848992Z",
     "shell.execute_reply": "2025-10-26T17:48:25.848780Z"
    },
    "slideshow": {
     "slide_type": "fragment"
    }
   },
   "outputs": [],
   "source": [
    "assert metavars(\"X < 0\") == ['X']"
   ]
  },
  {
   "cell_type": "code",
   "execution_count": 130,
   "metadata": {
    "execution": {
     "iopub.execute_input": "2025-10-26T17:48:25.850244Z",
     "iopub.status.busy": "2025-10-26T17:48:25.850158Z",
     "iopub.status.idle": "2025-10-26T17:48:25.851559Z",
     "shell.execute_reply": "2025-10-26T17:48:25.851357Z"
    },
    "slideshow": {
     "slide_type": "fragment"
    }
   },
   "outputs": [],
   "source": [
    "assert metavars(\"X.startswith(Y)\") == ['X', 'Y']"
   ]
  },
  {
   "cell_type": "code",
   "execution_count": 131,
   "metadata": {
    "execution": {
     "iopub.execute_input": "2025-10-26T17:48:25.852894Z",
     "iopub.status.busy": "2025-10-26T17:48:25.852806Z",
     "iopub.status.idle": "2025-10-26T17:48:25.854283Z",
     "shell.execute_reply": "2025-10-26T17:48:25.854072Z"
    },
    "slideshow": {
     "slide_type": "fragment"
    }
   },
   "outputs": [],
   "source": [
    "assert metavars(\"isinstance(X, str)\") == ['X']"
   ]
  },
  {
   "cell_type": "markdown",
   "metadata": {
    "slideshow": {
     "slide_type": "subslide"
    }
   },
   "source": [
    "### Instantiating Properties\n",
    "\n",
    "To produce a property as invariant, we need to be able to _instantiate_ it with variable names.  The instantiation of `X > 0` with `X` being instantiated to `a`, for instance, gets us `a > 0`.  To this end, the function `instantiate_prop()` takes a property and a collection of variable names and instantiates the meta-variables left-to-right with the corresponding variables names in the collection."
   ]
  },
  {
   "cell_type": "code",
   "execution_count": 132,
   "metadata": {
    "execution": {
     "iopub.execute_input": "2025-10-26T17:48:25.855461Z",
     "iopub.status.busy": "2025-10-26T17:48:25.855376Z",
     "iopub.status.idle": "2025-10-26T17:48:25.857628Z",
     "shell.execute_reply": "2025-10-26T17:48:25.857405Z"
    },
    "slideshow": {
     "slide_type": "subslide"
    }
   },
   "outputs": [],
   "source": [
    "def instantiate_prop_ast(prop: str, var_names: Sequence[str]) -> ast.AST:\n",
    "    class NameTransformer(ast.NodeTransformer):\n",
    "        def visit_Name(self, node: ast.Name) -> ast.Name:\n",
    "            if node.id not in mapping:\n",
    "                return node\n",
    "            return ast.Name(id=mapping[node.id], ctx=ast.Load())\n",
    "\n",
    "    meta_variables = metavars(prop)\n",
    "    assert len(meta_variables) == len(var_names)\n",
    "\n",
    "    mapping = {}\n",
    "    for i in range(0, len(meta_variables)):\n",
    "        mapping[meta_variables[i]] = var_names[i]\n",
    "\n",
    "    prop_ast = ast.parse(prop, mode='eval')\n",
    "    new_ast = NameTransformer().visit(prop_ast)\n",
    "\n",
    "    return new_ast"
   ]
  },
  {
   "cell_type": "code",
   "execution_count": 133,
   "metadata": {
    "execution": {
     "iopub.execute_input": "2025-10-26T17:48:25.858918Z",
     "iopub.status.busy": "2025-10-26T17:48:25.858818Z",
     "iopub.status.idle": "2025-10-26T17:48:25.860714Z",
     "shell.execute_reply": "2025-10-26T17:48:25.860520Z"
    },
    "slideshow": {
     "slide_type": "subslide"
    }
   },
   "outputs": [],
   "source": [
    "def instantiate_prop(prop: str, var_names: Sequence[str]) -> str:\n",
    "    prop_ast = instantiate_prop_ast(prop, var_names)\n",
    "    prop_text = ast.unparse(prop_ast).strip()\n",
    "    while prop_text.startswith('(') and prop_text.endswith(')'):\n",
    "        prop_text = prop_text[1:-1]\n",
    "    return prop_text"
   ]
  },
  {
   "cell_type": "code",
   "execution_count": 134,
   "metadata": {
    "execution": {
     "iopub.execute_input": "2025-10-26T17:48:25.861982Z",
     "iopub.status.busy": "2025-10-26T17:48:25.861888Z",
     "iopub.status.idle": "2025-10-26T17:48:25.863451Z",
     "shell.execute_reply": "2025-10-26T17:48:25.863240Z"
    },
    "slideshow": {
     "slide_type": "fragment"
    }
   },
   "outputs": [],
   "source": [
    "assert instantiate_prop(\"X > Y\", ['a', 'b']) == 'a > b'"
   ]
  },
  {
   "cell_type": "code",
   "execution_count": 135,
   "metadata": {
    "execution": {
     "iopub.execute_input": "2025-10-26T17:48:25.864691Z",
     "iopub.status.busy": "2025-10-26T17:48:25.864608Z",
     "iopub.status.idle": "2025-10-26T17:48:25.866214Z",
     "shell.execute_reply": "2025-10-26T17:48:25.865982Z"
    },
    "slideshow": {
     "slide_type": "fragment"
    }
   },
   "outputs": [],
   "source": [
    "assert instantiate_prop(\"X.startswith(Y)\", ['x', 'y']) == 'x.startswith(y)'"
   ]
  },
  {
   "cell_type": "markdown",
   "metadata": {
    "slideshow": {
     "slide_type": "subslide"
    }
   },
   "source": [
    "### Evaluating Properties\n",
    "\n",
    "To actually _evaluate_ properties, we do not need to instantiate them.  Instead, we simply convert them into a boolean function, using `lambda`:"
   ]
  },
  {
   "cell_type": "code",
   "execution_count": 136,
   "metadata": {
    "execution": {
     "iopub.execute_input": "2025-10-26T17:48:25.867665Z",
     "iopub.status.busy": "2025-10-26T17:48:25.867576Z",
     "iopub.status.idle": "2025-10-26T17:48:25.869253Z",
     "shell.execute_reply": "2025-10-26T17:48:25.869045Z"
    },
    "slideshow": {
     "slide_type": "fragment"
    }
   },
   "outputs": [],
   "source": [
    "def prop_function_text(prop: str) -> str:\n",
    "    return \"lambda \" + \", \".join(metavars(prop)) + \": \" + prop"
   ]
  },
  {
   "cell_type": "markdown",
   "metadata": {
    "slideshow": {
     "slide_type": "fragment"
    }
   },
   "source": [
    "Here is a simple example:"
   ]
  },
  {
   "cell_type": "code",
   "execution_count": 137,
   "metadata": {
    "execution": {
     "iopub.execute_input": "2025-10-26T17:48:25.870423Z",
     "iopub.status.busy": "2025-10-26T17:48:25.870352Z",
     "iopub.status.idle": "2025-10-26T17:48:25.872325Z",
     "shell.execute_reply": "2025-10-26T17:48:25.872072Z"
    },
    "slideshow": {
     "slide_type": "fragment"
    }
   },
   "outputs": [
    {
     "data": {
      "text/plain": [
       "'lambda X, Y: X > Y'"
      ]
     },
     "execution_count": 137,
     "metadata": {},
     "output_type": "execute_result"
    }
   ],
   "source": [
    "prop_function_text(\"X > Y\")"
   ]
  },
  {
   "cell_type": "markdown",
   "metadata": {
    "slideshow": {
     "slide_type": "fragment"
    }
   },
   "source": [
    "We can easily evaluate the function:"
   ]
  },
  {
   "cell_type": "code",
   "execution_count": 138,
   "metadata": {
    "execution": {
     "iopub.execute_input": "2025-10-26T17:48:25.873700Z",
     "iopub.status.busy": "2025-10-26T17:48:25.873614Z",
     "iopub.status.idle": "2025-10-26T17:48:25.875210Z",
     "shell.execute_reply": "2025-10-26T17:48:25.874996Z"
    },
    "slideshow": {
     "slide_type": "fragment"
    }
   },
   "outputs": [],
   "source": [
    "def prop_function(prop: str) -> Callable:\n",
    "    return eval(prop_function_text(prop))"
   ]
  },
  {
   "cell_type": "markdown",
   "metadata": {
    "slideshow": {
     "slide_type": "fragment"
    }
   },
   "source": [
    "Here is an example:"
   ]
  },
  {
   "cell_type": "code",
   "execution_count": 139,
   "metadata": {
    "execution": {
     "iopub.execute_input": "2025-10-26T17:48:25.876519Z",
     "iopub.status.busy": "2025-10-26T17:48:25.876444Z",
     "iopub.status.idle": "2025-10-26T17:48:25.877894Z",
     "shell.execute_reply": "2025-10-26T17:48:25.877693Z"
    },
    "slideshow": {
     "slide_type": "fragment"
    }
   },
   "outputs": [],
   "source": [
    "p = prop_function(\"X > Y\")"
   ]
  },
  {
   "cell_type": "code",
   "execution_count": 140,
   "metadata": {
    "execution": {
     "iopub.execute_input": "2025-10-26T17:48:25.879146Z",
     "iopub.status.busy": "2025-10-26T17:48:25.879069Z",
     "iopub.status.idle": "2025-10-26T17:48:25.882795Z",
     "shell.execute_reply": "2025-10-26T17:48:25.882572Z"
    },
    "slideshow": {
     "slide_type": "subslide"
    },
    "tags": [
     "remove-input"
    ]
   },
   "outputs": [
    {
     "data": {
      "text/html": [
       "\n",
       "    \n",
       "    <script>\n",
       "    var bad_answers = new Map();\n",
       "\n",
       "    function answer(quiz_id) {\n",
       "        ans = 0;\n",
       "        for (i = 1;; i++) {\n",
       "            checkbox = document.getElementById(quiz_id + \"-\" + i.toString());\n",
       "            if (!checkbox)\n",
       "                break;\n",
       "            if (checkbox.checked)\n",
       "                ans |= (1 << i);\n",
       "        }\n",
       "        return ans;\n",
       "    }\n",
       "    function check_selection(quiz_id, correct_answer, multiple_choice, hint) {\n",
       "        given_answer = answer(quiz_id);\n",
       "        if (given_answer == correct_answer)\n",
       "        {\n",
       "            document.getElementById(quiz_id + \"-submit\").value = \"Correct!\";\n",
       "            document.getElementById(quiz_id + \"-hint\").innerHTML = \"\";\n",
       "\n",
       "            for (i = 1;; i++) {\n",
       "                checkbox = document.getElementById(quiz_id + \"-\" + i.toString());\n",
       "                label = document.getElementById(quiz_id + \"-\" + i.toString() + \"-label\")\n",
       "                if (!checkbox)\n",
       "                    break;\n",
       "\n",
       "                if (checkbox.checked) {\n",
       "                    label.style.fontWeight = \"bold\";\n",
       "                }\n",
       "                else {\n",
       "                    label.style.textDecoration = \"line-through\";\n",
       "                }\n",
       "            }\n",
       "        }\n",
       "        else \n",
       "        {\n",
       "            document.getElementById(quiz_id + \"-submit\").value = \"Try again\";\n",
       "\n",
       "            if (!bad_answers.has(quiz_id)) {\n",
       "                bad_answers.set(quiz_id, 1);\n",
       "            }\n",
       "            else {\n",
       "                bad_answers.set(quiz_id, bad_answers.get(quiz_id) + 1);\n",
       "            }\n",
       "\n",
       "            if (bad_answers.get(quiz_id) >= 2 && hint.length > 0) {\n",
       "                document.getElementById(quiz_id + \"-hint\").innerHTML = \n",
       "                    \"&nbsp;&nbsp;(Hint: <code>\" + hint + \"</code>)\";\n",
       "            }\n",
       "\n",
       "            if (!multiple_choice) {\n",
       "                for (i = 1;; i++) {\n",
       "                    checkbox = document.getElementById(quiz_id + \"-\" + i.toString());\n",
       "                    label = document.getElementById(quiz_id + \"-\" + i.toString() + \"-label\")\n",
       "\n",
       "                    if (!checkbox)\n",
       "                        break;\n",
       "                    if (checkbox.checked) {\n",
       "                        label.style.textDecoration = \"line-through\";\n",
       "                    }\n",
       "                }\n",
       "            }\n",
       "        }\n",
       "    }\n",
       "    function clear_selection(quiz_id) {\n",
       "        document.getElementById(quiz_id + \"-submit\").value = \"Submit\";\n",
       "        document.getElementById(quiz_id + \"-hint\").innerHTML = \"\";\n",
       "    }\n",
       "    </script>\n",
       "    \n",
       "    <div class=\"quiz\">\n",
       "    <h3 class=\"quiz_title\">Quiz</h3>\n",
       "    <p>\n",
       "    <div class=\"quiz_question\">What is p(100, 1)?</div>\n",
       "    </p>\n",
       "    <p>\n",
       "    <div class=\"quiz_options\" title=\"Pick a choice.\">\n",
       "    \n",
       "        <input type=\"radio\" name=\"f92b6da8-b293-11f0-88db-6298cf1a5790\" id=\"f92b6da8-b293-11f0-88db-6298cf1a5790-1\" onclick=\"clear_selection('f92b6da8-b293-11f0-88db-6298cf1a5790')\">\n",
       "        <label id=\"f92b6da8-b293-11f0-88db-6298cf1a5790-1-label\" for=\"f92b6da8-b293-11f0-88db-6298cf1a5790-1\">False</label><br>\n",
       "    \n",
       "        <input type=\"radio\" name=\"f92b6da8-b293-11f0-88db-6298cf1a5790\" id=\"f92b6da8-b293-11f0-88db-6298cf1a5790-2\" onclick=\"clear_selection('f92b6da8-b293-11f0-88db-6298cf1a5790')\">\n",
       "        <label id=\"f92b6da8-b293-11f0-88db-6298cf1a5790-2-label\" for=\"f92b6da8-b293-11f0-88db-6298cf1a5790-2\">True</label><br>\n",
       "    \n",
       "    </div>\n",
       "    </p>\n",
       "    <input id=\"f92b6da8-b293-11f0-88db-6298cf1a5790-submit\" type=\"submit\" value=\"Submit\" onclick=\"check_selection('f92b6da8-b293-11f0-88db-6298cf1a5790', 4, 0, 'p(100, 1) + 1')\">\n",
       "    <span class=\"quiz_hint\" id=\"f92b6da8-b293-11f0-88db-6298cf1a5790-hint\"></span>\n",
       "    </div>\n",
       "    "
      ],
      "text/plain": [
       "<IPython.core.display.HTML object>"
      ]
     },
     "execution_count": 140,
     "metadata": {},
     "output_type": "execute_result"
    }
   ],
   "source": [
    "quiz(\"What is p(100, 1)?\",\n",
    "     [\n",
    "        \"False\",\n",
    "        \"True\"\n",
    "    ], 'p(100, 1) + 1', globals())"
   ]
  },
  {
   "cell_type": "code",
   "execution_count": 141,
   "metadata": {
    "execution": {
     "iopub.execute_input": "2025-10-26T17:48:25.884012Z",
     "iopub.status.busy": "2025-10-26T17:48:25.883926Z",
     "iopub.status.idle": "2025-10-26T17:48:25.885794Z",
     "shell.execute_reply": "2025-10-26T17:48:25.885595Z"
    },
    "slideshow": {
     "slide_type": "fragment"
    }
   },
   "outputs": [
    {
     "data": {
      "text/plain": [
       "True"
      ]
     },
     "execution_count": 141,
     "metadata": {},
     "output_type": "execute_result"
    }
   ],
   "source": [
    "p(100, 1)"
   ]
  },
  {
   "cell_type": "code",
   "execution_count": 142,
   "metadata": {
    "execution": {
     "iopub.execute_input": "2025-10-26T17:48:25.886938Z",
     "iopub.status.busy": "2025-10-26T17:48:25.886863Z",
     "iopub.status.idle": "2025-10-26T17:48:25.888806Z",
     "shell.execute_reply": "2025-10-26T17:48:25.888500Z"
    },
    "slideshow": {
     "slide_type": "fragment"
    }
   },
   "outputs": [
    {
     "data": {
      "text/plain": [
       "False"
      ]
     },
     "execution_count": 142,
     "metadata": {},
     "output_type": "execute_result"
    }
   ],
   "source": [
    "p(1, 100)"
   ]
  },
  {
   "cell_type": "markdown",
   "metadata": {
    "slideshow": {
     "slide_type": "subslide"
    }
   },
   "source": [
    "### Checking Invariants\n",
    "\n",
    "To extract invariants from an execution, we need to check them on all possible instantiations of arguments.  If the function to be checked has two arguments `a` and `b`, we instantiate the property `X < Y` both as `a < b` and `b < a` and check each of them."
   ]
  },
  {
   "cell_type": "markdown",
   "metadata": {
    "slideshow": {
     "slide_type": "fragment"
    }
   },
   "source": [
    "To get all combinations, we use the Python `permutations()` function:"
   ]
  },
  {
   "cell_type": "code",
   "execution_count": 143,
   "metadata": {
    "execution": {
     "iopub.execute_input": "2025-10-26T17:48:25.890205Z",
     "iopub.status.busy": "2025-10-26T17:48:25.890117Z",
     "iopub.status.idle": "2025-10-26T17:48:25.891608Z",
     "shell.execute_reply": "2025-10-26T17:48:25.891427Z"
    },
    "slideshow": {
     "slide_type": "skip"
    }
   },
   "outputs": [],
   "source": [
    "import itertools"
   ]
  },
  {
   "cell_type": "code",
   "execution_count": 144,
   "metadata": {
    "execution": {
     "iopub.execute_input": "2025-10-26T17:48:25.892772Z",
     "iopub.status.busy": "2025-10-26T17:48:25.892694Z",
     "iopub.status.idle": "2025-10-26T17:48:25.894329Z",
     "shell.execute_reply": "2025-10-26T17:48:25.894098Z"
    },
    "slideshow": {
     "slide_type": "subslide"
    }
   },
   "outputs": [
    {
     "name": "stdout",
     "output_type": "stream",
     "text": [
      "(1.0, 2.0)\n",
      "(1.0, 3.0)\n",
      "(2.0, 1.0)\n",
      "(2.0, 3.0)\n",
      "(3.0, 1.0)\n",
      "(3.0, 2.0)\n"
     ]
    }
   ],
   "source": [
    "for combination in itertools.permutations([1.0, 2.0, 3.0], 2):\n",
    "    print(combination)"
   ]
  },
  {
   "cell_type": "markdown",
   "metadata": {
    "slideshow": {
     "slide_type": "fragment"
    }
   },
   "source": [
    "The function `true_property_instantiations()` takes a property and a list of tuples (`var_name`, `value`).  It then produces all instantiations of the property with the given values and returns those that evaluate to True."
   ]
  },
  {
   "cell_type": "code",
   "execution_count": 145,
   "metadata": {
    "execution": {
     "iopub.execute_input": "2025-10-26T17:48:25.895525Z",
     "iopub.status.busy": "2025-10-26T17:48:25.895448Z",
     "iopub.status.idle": "2025-10-26T17:48:25.896961Z",
     "shell.execute_reply": "2025-10-26T17:48:25.896767Z"
    },
    "slideshow": {
     "slide_type": "fragment"
    }
   },
   "outputs": [],
   "source": [
    "Invariants = Set[Tuple[str, Tuple[str, ...]]]"
   ]
  },
  {
   "cell_type": "code",
   "execution_count": 146,
   "metadata": {
    "execution": {
     "iopub.execute_input": "2025-10-26T17:48:25.898058Z",
     "iopub.status.busy": "2025-10-26T17:48:25.897967Z",
     "iopub.status.idle": "2025-10-26T17:48:25.900263Z",
     "shell.execute_reply": "2025-10-26T17:48:25.900017Z"
    },
    "slideshow": {
     "slide_type": "subslide"
    }
   },
   "outputs": [],
   "source": [
    "def true_property_instantiations(prop: str, vars_and_values: Arguments, \n",
    "                                 log: bool = False) -> Invariants:\n",
    "    instantiations = set()\n",
    "    p = prop_function(prop)\n",
    "\n",
    "    len_metavars = len(metavars(prop))\n",
    "    for combination in itertools.permutations(vars_and_values, len_metavars):\n",
    "        args = [value for var_name, value in combination]\n",
    "        var_names = [var_name for var_name, value in combination]\n",
    "\n",
    "        try:\n",
    "            result = p(*args)\n",
    "        except:\n",
    "            result = None\n",
    "\n",
    "        if log:\n",
    "            print(prop, combination, result)\n",
    "        if result:\n",
    "            instantiations.add((prop, tuple(var_names)))\n",
    "\n",
    "    return instantiations"
   ]
  },
  {
   "cell_type": "markdown",
   "metadata": {
    "slideshow": {
     "slide_type": "subslide"
    }
   },
   "source": [
    "Here is an example.   If `x == -1` and `y == 1`, the property `X < Y` holds for `x < y`, but not for `y < x`:"
   ]
  },
  {
   "cell_type": "code",
   "execution_count": 147,
   "metadata": {
    "execution": {
     "iopub.execute_input": "2025-10-26T17:48:25.901538Z",
     "iopub.status.busy": "2025-10-26T17:48:25.901437Z",
     "iopub.status.idle": "2025-10-26T17:48:25.903675Z",
     "shell.execute_reply": "2025-10-26T17:48:25.903458Z"
    },
    "slideshow": {
     "slide_type": "fragment"
    }
   },
   "outputs": [
    {
     "name": "stdout",
     "output_type": "stream",
     "text": [
      "X < Y (('x', -1), ('y', 1)) True\n",
      "X < Y (('y', 1), ('x', -1)) False\n"
     ]
    },
    {
     "data": {
      "text/plain": [
       "{('X < Y', ('x', 'y'))}"
      ]
     },
     "execution_count": 147,
     "metadata": {},
     "output_type": "execute_result"
    }
   ],
   "source": [
    "invs = true_property_instantiations(\"X < Y\", [('x', -1), ('y', 1)], log=True)\n",
    "invs"
   ]
  },
  {
   "cell_type": "markdown",
   "metadata": {
    "slideshow": {
     "slide_type": "fragment"
    }
   },
   "source": [
    "The instantiation retrieves the short form:"
   ]
  },
  {
   "cell_type": "code",
   "execution_count": 148,
   "metadata": {
    "execution": {
     "iopub.execute_input": "2025-10-26T17:48:25.905126Z",
     "iopub.status.busy": "2025-10-26T17:48:25.905013Z",
     "iopub.status.idle": "2025-10-26T17:48:25.906696Z",
     "shell.execute_reply": "2025-10-26T17:48:25.906480Z"
    },
    "slideshow": {
     "slide_type": "fragment"
    }
   },
   "outputs": [
    {
     "name": "stdout",
     "output_type": "stream",
     "text": [
      "x < y\n"
     ]
    }
   ],
   "source": [
    "for prop, var_names in invs:\n",
    "    print(instantiate_prop(prop, var_names))"
   ]
  },
  {
   "cell_type": "markdown",
   "metadata": {
    "slideshow": {
     "slide_type": "fragment"
    }
   },
   "source": [
    "Likewise, with values for `x` and `y` as above, the property `X < 0` only holds for `x`, but not for `y`:"
   ]
  },
  {
   "cell_type": "code",
   "execution_count": 149,
   "metadata": {
    "execution": {
     "iopub.execute_input": "2025-10-26T17:48:25.907915Z",
     "iopub.status.busy": "2025-10-26T17:48:25.907832Z",
     "iopub.status.idle": "2025-10-26T17:48:25.909709Z",
     "shell.execute_reply": "2025-10-26T17:48:25.909445Z"
    },
    "slideshow": {
     "slide_type": "subslide"
    }
   },
   "outputs": [
    {
     "name": "stdout",
     "output_type": "stream",
     "text": [
      "X < 0 (('x', -1),) True\n",
      "X < 0 (('y', 1),) False\n"
     ]
    }
   ],
   "source": [
    "invs = true_property_instantiations(\"X < 0\", [('x', -1), ('y', 1)], log=True)"
   ]
  },
  {
   "cell_type": "code",
   "execution_count": 150,
   "metadata": {
    "execution": {
     "iopub.execute_input": "2025-10-26T17:48:25.911109Z",
     "iopub.status.busy": "2025-10-26T17:48:25.911012Z",
     "iopub.status.idle": "2025-10-26T17:48:25.912833Z",
     "shell.execute_reply": "2025-10-26T17:48:25.912605Z"
    },
    "slideshow": {
     "slide_type": "fragment"
    }
   },
   "outputs": [
    {
     "name": "stdout",
     "output_type": "stream",
     "text": [
      "x < 0\n"
     ]
    }
   ],
   "source": [
    "for prop, var_names in invs:\n",
    "    print(instantiate_prop(prop, var_names))"
   ]
  },
  {
   "cell_type": "markdown",
   "metadata": {
    "slideshow": {
     "slide_type": "subslide"
    }
   },
   "source": [
    "### Extracting Invariants\n",
    "\n",
    "Let us now run the above invariant extraction on function arguments and return values as observed during a function execution.  To this end, we extend the `CallTracer` class into an `InvariantTracer` class, which automatically computes invariants for all functions and all calls observed during tracking."
   ]
  },
  {
   "cell_type": "markdown",
   "metadata": {
    "slideshow": {
     "slide_type": "fragment"
    }
   },
   "source": [
    "By default, an `InvariantTracer` uses the `INVARIANT_PROPERTIES` properties as defined above; however, one can specify alternate sets of properties."
   ]
  },
  {
   "cell_type": "code",
   "execution_count": 151,
   "metadata": {
    "execution": {
     "iopub.execute_input": "2025-10-26T17:48:25.914171Z",
     "iopub.status.busy": "2025-10-26T17:48:25.914094Z",
     "iopub.status.idle": "2025-10-26T17:48:25.915985Z",
     "shell.execute_reply": "2025-10-26T17:48:25.915774Z"
    },
    "slideshow": {
     "slide_type": "subslide"
    }
   },
   "outputs": [],
   "source": [
    "class InvariantTracer(CallTracer):\n",
    "    def __init__(self, props: Optional[List[str]] = None, **kwargs: Any) -> None:\n",
    "        if props is None:\n",
    "            props = INVARIANT_PROPERTIES\n",
    "\n",
    "        self.props = props\n",
    "        super().__init__(**kwargs)"
   ]
  },
  {
   "cell_type": "markdown",
   "metadata": {
    "slideshow": {
     "slide_type": "fragment"
    }
   },
   "source": [
    "The key method of the `InvariantTracer` is the `invariants()` method.  This iterates over the calls observed and checks which properties hold.  Only the intersection of properties – that is, the set of properties that hold for all calls – is preserved, and eventually returned.  The special variable `return_value` is set to hold the return value."
   ]
  },
  {
   "cell_type": "code",
   "execution_count": 152,
   "metadata": {
    "execution": {
     "iopub.execute_input": "2025-10-26T17:48:25.917209Z",
     "iopub.status.busy": "2025-10-26T17:48:25.917135Z",
     "iopub.status.idle": "2025-10-26T17:48:25.918568Z",
     "shell.execute_reply": "2025-10-26T17:48:25.918344Z"
    },
    "slideshow": {
     "slide_type": "fragment"
    }
   },
   "outputs": [],
   "source": [
    "RETURN_VALUE = 'return_value'"
   ]
  },
  {
   "cell_type": "code",
   "execution_count": 153,
   "metadata": {
    "execution": {
     "iopub.execute_input": "2025-10-26T17:48:25.919750Z",
     "iopub.status.busy": "2025-10-26T17:48:25.919672Z",
     "iopub.status.idle": "2025-10-26T17:48:25.921996Z",
     "shell.execute_reply": "2025-10-26T17:48:25.921785Z"
    },
    "slideshow": {
     "slide_type": "subslide"
    }
   },
   "outputs": [],
   "source": [
    "class InvariantTracer(InvariantTracer):\n",
    "    def all_invariants(self) -> Dict[str, Invariants]:\n",
    "        return {function_name: self.invariants(function_name)\n",
    "                for function_name in self.all_calls()}\n",
    "\n",
    "    def invariants(self, function_name: str) -> Invariants:\n",
    "        invariants = None\n",
    "        for variables, return_value in self.calls(function_name):\n",
    "            vars_and_values = variables + [(RETURN_VALUE, return_value)]\n",
    "\n",
    "            s = set()\n",
    "            for prop in self.props:\n",
    "                s |= true_property_instantiations(prop, vars_and_values,\n",
    "                                                  self._log)\n",
    "            if invariants is None:\n",
    "                invariants = s\n",
    "            else:\n",
    "                invariants &= s\n",
    "\n",
    "        assert invariants is not None\n",
    "        return invariants"
   ]
  },
  {
   "cell_type": "markdown",
   "metadata": {
    "slideshow": {
     "slide_type": "subslide"
    }
   },
   "source": [
    "Here's an example of how to use `invariants()`.  We run the tracer on a small set of calls."
   ]
  },
  {
   "cell_type": "code",
   "execution_count": 154,
   "metadata": {
    "execution": {
     "iopub.execute_input": "2025-10-26T17:48:25.923127Z",
     "iopub.status.busy": "2025-10-26T17:48:25.923046Z",
     "iopub.status.idle": "2025-10-26T17:48:25.925257Z",
     "shell.execute_reply": "2025-10-26T17:48:25.925032Z"
    },
    "slideshow": {
     "slide_type": "fragment"
    }
   },
   "outputs": [
    {
     "data": {
      "text/plain": [
       "{'square_root': [([('x', 25.0)], 5.0), ([('x', 10.0)], 3.162277660168379)]}"
      ]
     },
     "execution_count": 154,
     "metadata": {},
     "output_type": "execute_result"
    }
   ],
   "source": [
    "with InvariantTracer() as tracer:\n",
    "    y = square_root(25.0)\n",
    "    y = square_root(10.0)\n",
    "\n",
    "tracer.all_calls()"
   ]
  },
  {
   "cell_type": "markdown",
   "metadata": {
    "slideshow": {
     "slide_type": "fragment"
    }
   },
   "source": [
    "The `invariants()` method produces a set of properties that hold for the observed runs, together with their instantiations over function arguments."
   ]
  },
  {
   "cell_type": "code",
   "execution_count": 155,
   "metadata": {
    "execution": {
     "iopub.execute_input": "2025-10-26T17:48:25.926491Z",
     "iopub.status.busy": "2025-10-26T17:48:25.926414Z",
     "iopub.status.idle": "2025-10-26T17:48:25.930943Z",
     "shell.execute_reply": "2025-10-26T17:48:25.930680Z"
    },
    "slideshow": {
     "slide_type": "subslide"
    }
   },
   "outputs": [
    {
     "data": {
      "text/plain": [
       "{('X', ('return_value',)),\n",
       " ('X', ('x',)),\n",
       " ('X < Y', ('return_value', 'x')),\n",
       " ('X <= Y', ('return_value', 'x')),\n",
       " ('X > 0', ('return_value',)),\n",
       " ('X > 0', ('x',)),\n",
       " ('X > Y', ('x', 'return_value')),\n",
       " ('X >= 0', ('return_value',)),\n",
       " ('X >= 0', ('x',)),\n",
       " ('X >= Y', ('x', 'return_value')),\n",
       " ('isinstance(X, float)', ('return_value',)),\n",
       " ('isinstance(X, float)', ('x',))}"
      ]
     },
     "execution_count": 155,
     "metadata": {},
     "output_type": "execute_result"
    }
   ],
   "source": [
    "invs = tracer.invariants('square_root')\n",
    "invs"
   ]
  },
  {
   "cell_type": "markdown",
   "metadata": {
    "slideshow": {
     "slide_type": "subslide"
    }
   },
   "source": [
    "As before, the actual instantiations are easier to read:\n"
   ]
  },
  {
   "cell_type": "code",
   "execution_count": 156,
   "metadata": {
    "execution": {
     "iopub.execute_input": "2025-10-26T17:48:25.932345Z",
     "iopub.status.busy": "2025-10-26T17:48:25.932253Z",
     "iopub.status.idle": "2025-10-26T17:48:25.934040Z",
     "shell.execute_reply": "2025-10-26T17:48:25.933818Z"
    },
    "slideshow": {
     "slide_type": "fragment"
    }
   },
   "outputs": [],
   "source": [
    "def pretty_invariants(invariants: Invariants) -> List[str]:\n",
    "    props = []\n",
    "    for (prop, var_names) in invariants:\n",
    "        props.append(instantiate_prop(prop, var_names))\n",
    "    return sorted(props)"
   ]
  },
  {
   "cell_type": "code",
   "execution_count": 157,
   "metadata": {
    "execution": {
     "iopub.execute_input": "2025-10-26T17:48:25.935203Z",
     "iopub.status.busy": "2025-10-26T17:48:25.935127Z",
     "iopub.status.idle": "2025-10-26T17:48:25.937590Z",
     "shell.execute_reply": "2025-10-26T17:48:25.937388Z"
    },
    "slideshow": {
     "slide_type": "subslide"
    }
   },
   "outputs": [
    {
     "data": {
      "text/plain": [
       "['isinstance(return_value, float)',\n",
       " 'isinstance(x, float)',\n",
       " 'return_value',\n",
       " 'return_value < x',\n",
       " 'return_value <= x',\n",
       " 'return_value > 0',\n",
       " 'return_value >= 0',\n",
       " 'x',\n",
       " 'x > 0',\n",
       " 'x > return_value',\n",
       " 'x >= 0',\n",
       " 'x >= return_value']"
      ]
     },
     "execution_count": 157,
     "metadata": {},
     "output_type": "execute_result"
    }
   ],
   "source": [
    "pretty_invariants(invs)"
   ]
  },
  {
   "cell_type": "markdown",
   "metadata": {
    "slideshow": {
     "slide_type": "subslide"
    }
   },
   "source": [
    "We see that the both `x` and the return value have a `float` type.  We also see that both are always greater than zero.  These are properties that may make useful pre- and postconditions, notably for symbolic analysis."
   ]
  },
  {
   "cell_type": "markdown",
   "metadata": {
    "slideshow": {
     "slide_type": "fragment"
    }
   },
   "source": [
    "However, there's also an invariant which does _not_ universally hold, namely `return_value <= x`, as the following example shows:"
   ]
  },
  {
   "cell_type": "code",
   "execution_count": 158,
   "metadata": {
    "execution": {
     "iopub.execute_input": "2025-10-26T17:48:25.938853Z",
     "iopub.status.busy": "2025-10-26T17:48:25.938764Z",
     "iopub.status.idle": "2025-10-26T17:48:25.940715Z",
     "shell.execute_reply": "2025-10-26T17:48:25.940460Z"
    },
    "slideshow": {
     "slide_type": "fragment"
    }
   },
   "outputs": [
    {
     "data": {
      "text/plain": [
       "0.1"
      ]
     },
     "execution_count": 158,
     "metadata": {},
     "output_type": "execute_result"
    }
   ],
   "source": [
    "square_root(0.01)"
   ]
  },
  {
   "cell_type": "markdown",
   "metadata": {
    "slideshow": {
     "slide_type": "fragment"
    }
   },
   "source": [
    "Clearly, 0.1 > 0.01 holds.  This is a case of us not learning from sufficiently diverse inputs.  As soon as we have a call including `x = 0.1`, though, the invariant `return_value <= x` is eliminated:"
   ]
  },
  {
   "cell_type": "code",
   "execution_count": 159,
   "metadata": {
    "execution": {
     "iopub.execute_input": "2025-10-26T17:48:25.942159Z",
     "iopub.status.busy": "2025-10-26T17:48:25.942058Z",
     "iopub.status.idle": "2025-10-26T17:48:25.948417Z",
     "shell.execute_reply": "2025-10-26T17:48:25.948124Z"
    },
    "slideshow": {
     "slide_type": "subslide"
    }
   },
   "outputs": [
    {
     "data": {
      "text/plain": [
       "['isinstance(return_value, float)',\n",
       " 'isinstance(x, float)',\n",
       " 'return_value',\n",
       " 'return_value > 0',\n",
       " 'return_value >= 0',\n",
       " 'x',\n",
       " 'x > 0',\n",
       " 'x >= 0']"
      ]
     },
     "execution_count": 159,
     "metadata": {},
     "output_type": "execute_result"
    }
   ],
   "source": [
    "with InvariantTracer() as tracer:\n",
    "    y = square_root(25.0)\n",
    "    y = square_root(10.0)\n",
    "    y = square_root(0.01)\n",
    "\n",
    "pretty_invariants(tracer.invariants('square_root'))"
   ]
  },
  {
   "cell_type": "markdown",
   "metadata": {
    "slideshow": {
     "slide_type": "subslide"
    }
   },
   "source": [
    "We will discuss later how to ensure sufficient diversity in inputs.  (Hint: This involves test generation.)"
   ]
  },
  {
   "cell_type": "markdown",
   "metadata": {
    "slideshow": {
     "slide_type": "fragment"
    }
   },
   "source": [
    "Let us try out our invariant tracer on `sum3()`.  We see that all types are well-defined; the properties that all arguments are non-zero, however, is specific to the calls observed."
   ]
  },
  {
   "cell_type": "code",
   "execution_count": 160,
   "metadata": {
    "execution": {
     "iopub.execute_input": "2025-10-26T17:48:25.949847Z",
     "iopub.status.busy": "2025-10-26T17:48:25.949762Z",
     "iopub.status.idle": "2025-10-26T17:48:25.955282Z",
     "shell.execute_reply": "2025-10-26T17:48:25.955036Z"
    },
    "slideshow": {
     "slide_type": "subslide"
    }
   },
   "outputs": [
    {
     "data": {
      "text/plain": [
       "['a',\n",
       " 'b',\n",
       " 'c',\n",
       " 'isinstance(a, int)',\n",
       " 'isinstance(b, int)',\n",
       " 'isinstance(c, int)',\n",
       " 'isinstance(return_value, int)',\n",
       " 'return_value']"
      ]
     },
     "execution_count": 160,
     "metadata": {},
     "output_type": "execute_result"
    }
   ],
   "source": [
    "with InvariantTracer() as tracer:\n",
    "    y = sum3(1, 2, 3)\n",
    "    y = sum3(-4, -5, -6)\n",
    "\n",
    "pretty_invariants(tracer.invariants('sum3'))"
   ]
  },
  {
   "cell_type": "markdown",
   "metadata": {
    "slideshow": {
     "slide_type": "subslide"
    }
   },
   "source": [
    "If we invoke `sum3()` with strings instead, we get different invariants.  Notably, we obtain the postcondition that the returned string always starts with the string in the first argument `a` – a universal postcondition if strings are used."
   ]
  },
  {
   "cell_type": "code",
   "execution_count": 161,
   "metadata": {
    "execution": {
     "iopub.execute_input": "2025-10-26T17:48:25.956551Z",
     "iopub.status.busy": "2025-10-26T17:48:25.956473Z",
     "iopub.status.idle": "2025-10-26T17:48:25.962335Z",
     "shell.execute_reply": "2025-10-26T17:48:25.962114Z"
    },
    "slideshow": {
     "slide_type": "subslide"
    }
   },
   "outputs": [
    {
     "data": {
      "text/plain": [
       "['a',\n",
       " 'a < return_value',\n",
       " 'a <= return_value',\n",
       " 'a in return_value',\n",
       " 'b',\n",
       " 'b in return_value',\n",
       " 'c',\n",
       " 'c in return_value',\n",
       " 'return_value',\n",
       " 'return_value > a',\n",
       " 'return_value >= a',\n",
       " 'return_value.endswith(c)',\n",
       " 'return_value.startswith(a)']"
      ]
     },
     "execution_count": 161,
     "metadata": {},
     "output_type": "execute_result"
    }
   ],
   "source": [
    "with InvariantTracer() as tracer:\n",
    "    y = sum3('a', 'b', 'c')\n",
    "    y = sum3('f', 'e', 'd')\n",
    "\n",
    "pretty_invariants(tracer.invariants('sum3'))"
   ]
  },
  {
   "cell_type": "markdown",
   "metadata": {
    "slideshow": {
     "slide_type": "subslide"
    }
   },
   "source": [
    "If we invoke `sum3()` with both strings and numbers (and zeros, too), there are no properties left that would hold across all calls.  That's the price of flexibility."
   ]
  },
  {
   "cell_type": "code",
   "execution_count": 162,
   "metadata": {
    "execution": {
     "iopub.execute_input": "2025-10-26T17:48:25.963649Z",
     "iopub.status.busy": "2025-10-26T17:48:25.963557Z",
     "iopub.status.idle": "2025-10-26T17:48:25.971485Z",
     "shell.execute_reply": "2025-10-26T17:48:25.971223Z"
    },
    "slideshow": {
     "slide_type": "fragment"
    }
   },
   "outputs": [
    {
     "data": {
      "text/plain": [
       "[]"
      ]
     },
     "execution_count": 162,
     "metadata": {},
     "output_type": "execute_result"
    }
   ],
   "source": [
    "with InvariantTracer() as tracer:\n",
    "    y = sum3('a', 'b', 'c')\n",
    "    y = sum3('c', 'b', 'a')\n",
    "    y = sum3(-4, -5, -6)\n",
    "    y = sum3(0, 0, 0)\n",
    "\n",
    "pretty_invariants(tracer.invariants('sum3'))"
   ]
  },
  {
   "cell_type": "markdown",
   "metadata": {
    "slideshow": {
     "slide_type": "subslide"
    }
   },
   "source": [
    "### Converting Mined Invariants to Annotations\n",
    "\n",
    "As with types, above, we would like to have some functionality where we can add the mined invariants as annotations to existing functions.  To this end, we introduce the `InvariantAnnotator` class, extending `InvariantTracer`."
   ]
  },
  {
   "cell_type": "markdown",
   "metadata": {
    "slideshow": {
     "slide_type": "fragment"
    }
   },
   "source": [
    "We start with a helper method.  `params()` returns a comma-separated list of parameter names as observed during calls."
   ]
  },
  {
   "cell_type": "code",
   "execution_count": 163,
   "metadata": {
    "execution": {
     "iopub.execute_input": "2025-10-26T17:48:25.972849Z",
     "iopub.status.busy": "2025-10-26T17:48:25.972753Z",
     "iopub.status.idle": "2025-10-26T17:48:25.974739Z",
     "shell.execute_reply": "2025-10-26T17:48:25.974497Z"
    },
    "slideshow": {
     "slide_type": "fragment"
    }
   },
   "outputs": [],
   "source": [
    "class InvariantAnnotator(InvariantTracer):\n",
    "    def params(self, function_name: str) -> str:\n",
    "        arguments, return_value = self.calls(function_name)[0]\n",
    "        return \", \".join(arg_name for (arg_name, arg_value) in arguments)"
   ]
  },
  {
   "cell_type": "code",
   "execution_count": 164,
   "metadata": {
    "execution": {
     "iopub.execute_input": "2025-10-26T17:48:25.975872Z",
     "iopub.status.busy": "2025-10-26T17:48:25.975789Z",
     "iopub.status.idle": "2025-10-26T17:48:25.977709Z",
     "shell.execute_reply": "2025-10-26T17:48:25.977465Z"
    },
    "slideshow": {
     "slide_type": "fragment"
    }
   },
   "outputs": [],
   "source": [
    "with InvariantAnnotator() as annotator:\n",
    "    y = square_root(25.0)\n",
    "    y = sum3(1, 2, 3)"
   ]
  },
  {
   "cell_type": "code",
   "execution_count": 165,
   "metadata": {
    "execution": {
     "iopub.execute_input": "2025-10-26T17:48:25.979004Z",
     "iopub.status.busy": "2025-10-26T17:48:25.978922Z",
     "iopub.status.idle": "2025-10-26T17:48:25.980863Z",
     "shell.execute_reply": "2025-10-26T17:48:25.980646Z"
    },
    "slideshow": {
     "slide_type": "subslide"
    }
   },
   "outputs": [
    {
     "data": {
      "text/plain": [
       "'x'"
      ]
     },
     "execution_count": 165,
     "metadata": {},
     "output_type": "execute_result"
    }
   ],
   "source": [
    "annotator.params('square_root')"
   ]
  },
  {
   "cell_type": "code",
   "execution_count": 166,
   "metadata": {
    "execution": {
     "iopub.execute_input": "2025-10-26T17:48:25.981984Z",
     "iopub.status.busy": "2025-10-26T17:48:25.981900Z",
     "iopub.status.idle": "2025-10-26T17:48:25.983865Z",
     "shell.execute_reply": "2025-10-26T17:48:25.983650Z"
    },
    "slideshow": {
     "slide_type": "fragment"
    }
   },
   "outputs": [
    {
     "data": {
      "text/plain": [
       "'a, b, c'"
      ]
     },
     "execution_count": 166,
     "metadata": {},
     "output_type": "execute_result"
    }
   ],
   "source": [
    "annotator.params('sum3')"
   ]
  },
  {
   "attachments": {},
   "cell_type": "markdown",
   "metadata": {
    "slideshow": {
     "slide_type": "fragment"
    }
   },
   "source": [
    "Now for the actual annotation.  `preconditions()` returns the preconditions from the mined invariants (i.e., those properties that do not depend on the return value) as a string with annotations:"
   ]
  },
  {
   "cell_type": "code",
   "execution_count": 167,
   "metadata": {
    "execution": {
     "iopub.execute_input": "2025-10-26T17:48:25.985052Z",
     "iopub.status.busy": "2025-10-26T17:48:25.984969Z",
     "iopub.status.idle": "2025-10-26T17:48:25.987093Z",
     "shell.execute_reply": "2025-10-26T17:48:25.986863Z"
    },
    "slideshow": {
     "slide_type": "subslide"
    }
   },
   "outputs": [],
   "source": [
    "class InvariantAnnotator(InvariantAnnotator):\n",
    "    def preconditions(self, function_name: str) -> List[str]:\n",
    "        \"\"\"Return a list of mined preconditions for `function_name`\"\"\"\n",
    "        conditions = []\n",
    "\n",
    "        for inv in pretty_invariants(self.invariants(function_name)):\n",
    "            if inv.find(RETURN_VALUE) >= 0:\n",
    "                continue  # Postcondition\n",
    "\n",
    "            cond = (\"@precondition(lambda \" + self.params(function_name) +\n",
    "                    \": \" + inv + \")\")\n",
    "            conditions.append(cond)\n",
    "\n",
    "        return conditions"
   ]
  },
  {
   "cell_type": "code",
   "execution_count": 168,
   "metadata": {
    "execution": {
     "iopub.execute_input": "2025-10-26T17:48:25.988148Z",
     "iopub.status.busy": "2025-10-26T17:48:25.988072Z",
     "iopub.status.idle": "2025-10-26T17:48:25.989978Z",
     "shell.execute_reply": "2025-10-26T17:48:25.989648Z"
    },
    "slideshow": {
     "slide_type": "subslide"
    }
   },
   "outputs": [],
   "source": [
    "with InvariantAnnotator() as annotator:\n",
    "    y = square_root(25.0)\n",
    "    y = square_root(0.01)\n",
    "    y = sum3(1, 2, 3)"
   ]
  },
  {
   "cell_type": "code",
   "execution_count": 169,
   "metadata": {
    "execution": {
     "iopub.execute_input": "2025-10-26T17:48:25.991161Z",
     "iopub.status.busy": "2025-10-26T17:48:25.991082Z",
     "iopub.status.idle": "2025-10-26T17:48:25.995777Z",
     "shell.execute_reply": "2025-10-26T17:48:25.995558Z"
    },
    "slideshow": {
     "slide_type": "fragment"
    }
   },
   "outputs": [
    {
     "data": {
      "text/plain": [
       "['@precondition(lambda x: isinstance(x, float))',\n",
       " '@precondition(lambda x: x)',\n",
       " '@precondition(lambda x: x > 0)',\n",
       " '@precondition(lambda x: x >= 0)']"
      ]
     },
     "execution_count": 169,
     "metadata": {},
     "output_type": "execute_result"
    }
   ],
   "source": [
    "annotator.preconditions('square_root')"
   ]
  },
  {
   "cell_type": "markdown",
   "metadata": {
    "slideshow": {
     "slide_type": "fragment"
    }
   },
   "source": [
    "`postconditions()` does the same for postconditions:"
   ]
  },
  {
   "cell_type": "code",
   "execution_count": 170,
   "metadata": {
    "execution": {
     "iopub.execute_input": "2025-10-26T17:48:25.997176Z",
     "iopub.status.busy": "2025-10-26T17:48:25.997085Z",
     "iopub.status.idle": "2025-10-26T17:48:25.999400Z",
     "shell.execute_reply": "2025-10-26T17:48:25.999087Z"
    },
    "slideshow": {
     "slide_type": "subslide"
    }
   },
   "outputs": [],
   "source": [
    "class InvariantAnnotator(InvariantAnnotator):\n",
    "    def postconditions(self, function_name: str) -> List[str]:\n",
    "        \"\"\"Return a list of mined postconditions for `function_name`\"\"\"\n",
    "\n",
    "        conditions = []\n",
    "\n",
    "        for inv in pretty_invariants(self.invariants(function_name)):\n",
    "            if inv.find(RETURN_VALUE) < 0:\n",
    "                continue  # Precondition\n",
    "\n",
    "            cond = (f\"@postcondition(lambda {RETURN_VALUE},\"\n",
    "                    f\" {self.params(function_name)}: {inv})\")\n",
    "            conditions.append(cond)\n",
    "\n",
    "        return conditions"
   ]
  },
  {
   "cell_type": "code",
   "execution_count": 171,
   "metadata": {
    "execution": {
     "iopub.execute_input": "2025-10-26T17:48:26.000837Z",
     "iopub.status.busy": "2025-10-26T17:48:26.000758Z",
     "iopub.status.idle": "2025-10-26T17:48:26.002623Z",
     "shell.execute_reply": "2025-10-26T17:48:26.002421Z"
    },
    "slideshow": {
     "slide_type": "subslide"
    }
   },
   "outputs": [],
   "source": [
    "with InvariantAnnotator() as annotator:\n",
    "    y = square_root(25.0)\n",
    "    y = square_root(0.01)\n",
    "    y = sum3(1, 2, 3)"
   ]
  },
  {
   "cell_type": "code",
   "execution_count": 172,
   "metadata": {
    "execution": {
     "iopub.execute_input": "2025-10-26T17:48:26.003683Z",
     "iopub.status.busy": "2025-10-26T17:48:26.003606Z",
     "iopub.status.idle": "2025-10-26T17:48:26.008386Z",
     "shell.execute_reply": "2025-10-26T17:48:26.008148Z"
    },
    "slideshow": {
     "slide_type": "fragment"
    }
   },
   "outputs": [
    {
     "data": {
      "text/plain": [
       "['@postcondition(lambda return_value, x: isinstance(return_value, float))',\n",
       " '@postcondition(lambda return_value, x: return_value)',\n",
       " '@postcondition(lambda return_value, x: return_value > 0)',\n",
       " '@postcondition(lambda return_value, x: return_value >= 0)']"
      ]
     },
     "execution_count": 172,
     "metadata": {},
     "output_type": "execute_result"
    }
   ],
   "source": [
    "annotator.postconditions('square_root')"
   ]
  },
  {
   "cell_type": "markdown",
   "metadata": {
    "slideshow": {
     "slide_type": "fragment"
    }
   },
   "source": [
    "With these, we can take a function and add both pre- and postconditions as annotations:"
   ]
  },
  {
   "cell_type": "code",
   "execution_count": 173,
   "metadata": {
    "execution": {
     "iopub.execute_input": "2025-10-26T17:48:26.009538Z",
     "iopub.status.busy": "2025-10-26T17:48:26.009465Z",
     "iopub.status.idle": "2025-10-26T17:48:26.012261Z",
     "shell.execute_reply": "2025-10-26T17:48:26.011895Z"
    },
    "slideshow": {
     "slide_type": "subslide"
    }
   },
   "outputs": [],
   "source": [
    "class InvariantAnnotator(InvariantAnnotator):\n",
    "    def functions_with_invariants(self) -> str:\n",
    "        \"\"\"Return the code of all observed functions, annotated with invariants\"\"\"\n",
    "\n",
    "        functions = \"\"\n",
    "        for function_name in self.all_invariants():\n",
    "            try:\n",
    "                function = self.function_with_invariants(function_name)\n",
    "            except KeyError:\n",
    "                function = '# Could not find function ' + repr(function_name)\n",
    "\n",
    "            functions += function\n",
    "        return functions\n",
    "\n",
    "    def function_with_invariants(self, function_name: str) -> str:\n",
    "        \"\"\"Return the code of `function_name`, annotated with invariants\"\"\"\n",
    "        function = self.search_func(function_name)\n",
    "        if not function:\n",
    "            raise KeyError\n",
    "        source = inspect.getsource(function)\n",
    "        return '\\n'.join(self.preconditions(function_name) +\n",
    "                         self.postconditions(function_name)) + \\\n",
    "            '\\n' + source\n",
    "\n",
    "    def __repr__(self) -> str:\n",
    "        \"\"\"String representation, like `functions_with_invariants()`\"\"\"\n",
    "        return self.functions_with_invariants()"
   ]
  },
  {
   "cell_type": "markdown",
   "metadata": {
    "slideshow": {
     "slide_type": "subslide"
    }
   },
   "source": [
    "Here comes `function_with_invariants()` in all its glory:"
   ]
  },
  {
   "cell_type": "code",
   "execution_count": 174,
   "metadata": {
    "execution": {
     "iopub.execute_input": "2025-10-26T17:48:26.013531Z",
     "iopub.status.busy": "2025-10-26T17:48:26.013412Z",
     "iopub.status.idle": "2025-10-26T17:48:26.015485Z",
     "shell.execute_reply": "2025-10-26T17:48:26.015194Z"
    },
    "slideshow": {
     "slide_type": "fragment"
    }
   },
   "outputs": [],
   "source": [
    "with InvariantAnnotator() as annotator:\n",
    "    y = square_root(25.0)\n",
    "    y = square_root(0.01)\n",
    "    y = sum3(1, 2, 3)"
   ]
  },
  {
   "cell_type": "code",
   "execution_count": 175,
   "metadata": {
    "execution": {
     "iopub.execute_input": "2025-10-26T17:48:26.016792Z",
     "iopub.status.busy": "2025-10-26T17:48:26.016704Z",
     "iopub.status.idle": "2025-10-26T17:48:26.035589Z",
     "shell.execute_reply": "2025-10-26T17:48:26.035341Z"
    },
    "slideshow": {
     "slide_type": "subslide"
    }
   },
   "outputs": [
    {
     "name": "stdout",
     "output_type": "stream",
     "text": [
      "\u001b[90m@precondition\u001b[39;49;00m(\u001b[34mlambda\u001b[39;49;00m x: \u001b[36misinstance\u001b[39;49;00m(x, \u001b[36mfloat\u001b[39;49;00m))\u001b[37m\u001b[39;49;00m\n",
      "\u001b[90m@precondition\u001b[39;49;00m(\u001b[34mlambda\u001b[39;49;00m x: x)\u001b[37m\u001b[39;49;00m\n",
      "\u001b[90m@precondition\u001b[39;49;00m(\u001b[34mlambda\u001b[39;49;00m x: x > \u001b[34m0\u001b[39;49;00m)\u001b[37m\u001b[39;49;00m\n",
      "\u001b[90m@precondition\u001b[39;49;00m(\u001b[34mlambda\u001b[39;49;00m x: x >= \u001b[34m0\u001b[39;49;00m)\u001b[37m\u001b[39;49;00m\n",
      "\u001b[90m@postcondition\u001b[39;49;00m(\u001b[34mlambda\u001b[39;49;00m return_value, x: \u001b[36misinstance\u001b[39;49;00m(return_value, \u001b[36mfloat\u001b[39;49;00m))\u001b[37m\u001b[39;49;00m\n",
      "\u001b[90m@postcondition\u001b[39;49;00m(\u001b[34mlambda\u001b[39;49;00m return_value, x: return_value)\u001b[37m\u001b[39;49;00m\n",
      "\u001b[90m@postcondition\u001b[39;49;00m(\u001b[34mlambda\u001b[39;49;00m return_value, x: return_value > \u001b[34m0\u001b[39;49;00m)\u001b[37m\u001b[39;49;00m\n",
      "\u001b[90m@postcondition\u001b[39;49;00m(\u001b[34mlambda\u001b[39;49;00m return_value, x: return_value >= \u001b[34m0\u001b[39;49;00m)\u001b[37m\u001b[39;49;00m\n",
      "\u001b[34mdef\u001b[39;49;00m\u001b[37m \u001b[39;49;00m\u001b[32msquare_root\u001b[39;49;00m(x):  \u001b[37m# type: ignore\u001b[39;49;00m\u001b[37m\u001b[39;49;00m\n",
      "\u001b[37m    \u001b[39;49;00m\u001b[33m\"\"\"Computes the square root of x, using the Newton-Raphson method\"\"\"\u001b[39;49;00m\u001b[37m\u001b[39;49;00m\n",
      "    approx = \u001b[34mNone\u001b[39;49;00m\u001b[37m\u001b[39;49;00m\n",
      "    guess = x / \u001b[34m2\u001b[39;49;00m\u001b[37m\u001b[39;49;00m\n",
      "    \u001b[34mwhile\u001b[39;49;00m approx != guess:\u001b[37m\u001b[39;49;00m\n",
      "        approx = guess\u001b[37m\u001b[39;49;00m\n",
      "        guess = (approx + x / approx) / \u001b[34m2\u001b[39;49;00m\u001b[37m\u001b[39;49;00m\n",
      "\u001b[37m\u001b[39;49;00m\n",
      "    \u001b[34mreturn\u001b[39;49;00m approx\u001b[37m\u001b[39;49;00m"
     ]
    }
   ],
   "source": [
    "print_content(annotator.function_with_invariants('square_root'), '.py')"
   ]
  },
  {
   "cell_type": "markdown",
   "metadata": {
    "slideshow": {
     "slide_type": "subslide"
    }
   },
   "source": [
    "Quite a number of invariants, isn't it?  Further below (and in the exercises), we will discuss on how to focus on the most relevant properties."
   ]
  },
  {
   "cell_type": "markdown",
   "metadata": {
    "slideshow": {
     "slide_type": "slide"
    }
   },
   "source": [
    "## Avoiding Overspecialization\n",
    "\n",
    "Mined specifications can only be as good as the executions they were mined from. If we only see a single call, for instance, we will be faced with several mined pre- and postconditions that _overspecialize_ towards the values seen."
   ]
  },
  {
   "cell_type": "markdown",
   "metadata": {
    "slideshow": {
     "slide_type": "fragment"
    }
   },
   "source": [
    "Let us illustrate this effect on a simple `sum2()` function which adds two numbers."
   ]
  },
  {
   "cell_type": "code",
   "execution_count": 176,
   "metadata": {
    "execution": {
     "iopub.execute_input": "2025-10-26T17:48:26.036831Z",
     "iopub.status.busy": "2025-10-26T17:48:26.036745Z",
     "iopub.status.idle": "2025-10-26T17:48:26.038292Z",
     "shell.execute_reply": "2025-10-26T17:48:26.038072Z"
    },
    "slideshow": {
     "slide_type": "fragment"
    }
   },
   "outputs": [],
   "source": [
    "def sum2(a, b):  # type: ignore\n",
    "    return a + b"
   ]
  },
  {
   "cell_type": "markdown",
   "metadata": {
    "slideshow": {
     "slide_type": "fragment"
    }
   },
   "source": [
    "If we invoke `sum2()` with a variety of arguments, the invariants all capture the relationship between `a`, `b`, and the return value as `return_value == a + b` in all its variations."
   ]
  },
  {
   "cell_type": "code",
   "execution_count": 177,
   "metadata": {
    "execution": {
     "iopub.execute_input": "2025-10-26T17:48:26.039354Z",
     "iopub.status.busy": "2025-10-26T17:48:26.039276Z",
     "iopub.status.idle": "2025-10-26T17:48:26.040967Z",
     "shell.execute_reply": "2025-10-26T17:48:26.040754Z"
    },
    "slideshow": {
     "slide_type": "subslide"
    }
   },
   "outputs": [],
   "source": [
    "with InvariantAnnotator() as annotator:\n",
    "    sum2(31, 45)\n",
    "    sum2(0, 0)\n",
    "    sum2(-1, -5)"
   ]
  },
  {
   "cell_type": "code",
   "execution_count": 178,
   "metadata": {
    "execution": {
     "iopub.execute_input": "2025-10-26T17:48:26.041970Z",
     "iopub.status.busy": "2025-10-26T17:48:26.041893Z",
     "iopub.status.idle": "2025-10-26T17:48:26.066364Z",
     "shell.execute_reply": "2025-10-26T17:48:26.066077Z"
    },
    "slideshow": {
     "slide_type": "fragment"
    }
   },
   "outputs": [
    {
     "name": "stdout",
     "output_type": "stream",
     "text": [
      "\u001b[90m@precondition\u001b[39;49;00m(\u001b[34mlambda\u001b[39;49;00m a, b: \u001b[36misinstance\u001b[39;49;00m(a, \u001b[36mint\u001b[39;49;00m))\u001b[37m\u001b[39;49;00m\n",
      "\u001b[90m@precondition\u001b[39;49;00m(\u001b[34mlambda\u001b[39;49;00m a, b: \u001b[36misinstance\u001b[39;49;00m(b, \u001b[36mint\u001b[39;49;00m))\u001b[37m\u001b[39;49;00m\n",
      "\u001b[90m@postcondition\u001b[39;49;00m(\u001b[34mlambda\u001b[39;49;00m return_value, a, b: a == return_value - b)\u001b[37m\u001b[39;49;00m\n",
      "\u001b[90m@postcondition\u001b[39;49;00m(\u001b[34mlambda\u001b[39;49;00m return_value, a, b: b == return_value - a)\u001b[37m\u001b[39;49;00m\n",
      "\u001b[90m@postcondition\u001b[39;49;00m(\u001b[34mlambda\u001b[39;49;00m return_value, a, b: \u001b[36misinstance\u001b[39;49;00m(return_value, \u001b[36mint\u001b[39;49;00m))\u001b[37m\u001b[39;49;00m\n",
      "\u001b[90m@postcondition\u001b[39;49;00m(\u001b[34mlambda\u001b[39;49;00m return_value, a, b: return_value == a + b)\u001b[37m\u001b[39;49;00m\n",
      "\u001b[90m@postcondition\u001b[39;49;00m(\u001b[34mlambda\u001b[39;49;00m return_value, a, b: return_value == b + a)\u001b[37m\u001b[39;49;00m\n",
      "\u001b[34mdef\u001b[39;49;00m\u001b[37m \u001b[39;49;00m\u001b[32msum2\u001b[39;49;00m(a, b):  \u001b[37m# type: ignore\u001b[39;49;00m\u001b[37m\u001b[39;49;00m\n",
      "    \u001b[34mreturn\u001b[39;49;00m a + b\u001b[37m\u001b[39;49;00m"
     ]
    }
   ],
   "source": [
    "print_content(annotator.functions_with_invariants(), '.py')"
   ]
  },
  {
   "cell_type": "markdown",
   "metadata": {
    "slideshow": {
     "slide_type": "subslide"
    }
   },
   "source": [
    "If, however, we see only a single call, the invariants will overspecialize to the single call seen:"
   ]
  },
  {
   "cell_type": "code",
   "execution_count": 179,
   "metadata": {
    "execution": {
     "iopub.execute_input": "2025-10-26T17:48:26.067826Z",
     "iopub.status.busy": "2025-10-26T17:48:26.067728Z",
     "iopub.status.idle": "2025-10-26T17:48:26.091316Z",
     "shell.execute_reply": "2025-10-26T17:48:26.091096Z"
    },
    "slideshow": {
     "slide_type": "subslide"
    }
   },
   "outputs": [
    {
     "name": "stdout",
     "output_type": "stream",
     "text": [
      "\u001b[90m@precondition\u001b[39;49;00m(\u001b[34mlambda\u001b[39;49;00m a, b: a)\u001b[37m\u001b[39;49;00m\n",
      "\u001b[90m@precondition\u001b[39;49;00m(\u001b[34mlambda\u001b[39;49;00m a, b: a <= b)\u001b[37m\u001b[39;49;00m\n",
      "\u001b[90m@precondition\u001b[39;49;00m(\u001b[34mlambda\u001b[39;49;00m a, b: a == b)\u001b[37m\u001b[39;49;00m\n",
      "\u001b[90m@precondition\u001b[39;49;00m(\u001b[34mlambda\u001b[39;49;00m a, b: a > \u001b[34m0\u001b[39;49;00m)\u001b[37m\u001b[39;49;00m\n",
      "\u001b[90m@precondition\u001b[39;49;00m(\u001b[34mlambda\u001b[39;49;00m a, b: a >= \u001b[34m0\u001b[39;49;00m)\u001b[37m\u001b[39;49;00m\n",
      "\u001b[90m@precondition\u001b[39;49;00m(\u001b[34mlambda\u001b[39;49;00m a, b: a >= b)\u001b[37m\u001b[39;49;00m\n",
      "\u001b[90m@precondition\u001b[39;49;00m(\u001b[34mlambda\u001b[39;49;00m a, b: b)\u001b[37m\u001b[39;49;00m\n",
      "\u001b[90m@precondition\u001b[39;49;00m(\u001b[34mlambda\u001b[39;49;00m a, b: b <= a)\u001b[37m\u001b[39;49;00m\n",
      "\u001b[90m@precondition\u001b[39;49;00m(\u001b[34mlambda\u001b[39;49;00m a, b: b == a)\u001b[37m\u001b[39;49;00m\n",
      "\u001b[90m@precondition\u001b[39;49;00m(\u001b[34mlambda\u001b[39;49;00m a, b: b > \u001b[34m0\u001b[39;49;00m)\u001b[37m\u001b[39;49;00m\n",
      "\u001b[90m@precondition\u001b[39;49;00m(\u001b[34mlambda\u001b[39;49;00m a, b: b >= \u001b[34m0\u001b[39;49;00m)\u001b[37m\u001b[39;49;00m\n",
      "\u001b[90m@precondition\u001b[39;49;00m(\u001b[34mlambda\u001b[39;49;00m a, b: b >= a)\u001b[37m\u001b[39;49;00m\n",
      "\u001b[90m@precondition\u001b[39;49;00m(\u001b[34mlambda\u001b[39;49;00m a, b: \u001b[36misinstance\u001b[39;49;00m(a, \u001b[36mint\u001b[39;49;00m))\u001b[37m\u001b[39;49;00m\n",
      "\u001b[90m@precondition\u001b[39;49;00m(\u001b[34mlambda\u001b[39;49;00m a, b: \u001b[36misinstance\u001b[39;49;00m(b, \u001b[36mint\u001b[39;49;00m))\u001b[37m\u001b[39;49;00m\n",
      "\u001b[90m@postcondition\u001b[39;49;00m(\u001b[34mlambda\u001b[39;49;00m return_value, a, b: a < return_value)\u001b[37m\u001b[39;49;00m\n",
      "\u001b[90m@postcondition\u001b[39;49;00m(\u001b[34mlambda\u001b[39;49;00m return_value, a, b: a <= b <= return_value)\u001b[37m\u001b[39;49;00m\n",
      "\u001b[90m@postcondition\u001b[39;49;00m(\u001b[34mlambda\u001b[39;49;00m return_value, a, b: a <= return_value)\u001b[37m\u001b[39;49;00m\n",
      "\u001b[90m@postcondition\u001b[39;49;00m(\u001b[34mlambda\u001b[39;49;00m return_value, a, b: a == return_value - b)\u001b[37m\u001b[39;49;00m\n",
      "\u001b[90m@postcondition\u001b[39;49;00m(\u001b[34mlambda\u001b[39;49;00m return_value, a, b: a == return_value / b)\u001b[37m\u001b[39;49;00m\n",
      "\u001b[90m@postcondition\u001b[39;49;00m(\u001b[34mlambda\u001b[39;49;00m return_value, a, b: b < return_value)\u001b[37m\u001b[39;49;00m\n",
      "\u001b[90m@postcondition\u001b[39;49;00m(\u001b[34mlambda\u001b[39;49;00m return_value, a, b: b <= a <= return_value)\u001b[37m\u001b[39;49;00m\n",
      "\u001b[90m@postcondition\u001b[39;49;00m(\u001b[34mlambda\u001b[39;49;00m return_value, a, b: b <= return_value)\u001b[37m\u001b[39;49;00m\n",
      "\u001b[90m@postcondition\u001b[39;49;00m(\u001b[34mlambda\u001b[39;49;00m return_value, a, b: b == return_value - a)\u001b[37m\u001b[39;49;00m\n",
      "\u001b[90m@postcondition\u001b[39;49;00m(\u001b[34mlambda\u001b[39;49;00m return_value, a, b: b == return_value / a)\u001b[37m\u001b[39;49;00m\n",
      "\u001b[90m@postcondition\u001b[39;49;00m(\u001b[34mlambda\u001b[39;49;00m return_value, a, b: \u001b[36misinstance\u001b[39;49;00m(return_value, \u001b[36mint\u001b[39;49;00m))\u001b[37m\u001b[39;49;00m\n",
      "\u001b[90m@postcondition\u001b[39;49;00m(\u001b[34mlambda\u001b[39;49;00m return_value, a, b: return_value)\u001b[37m\u001b[39;49;00m\n",
      "\u001b[90m@postcondition\u001b[39;49;00m(\u001b[34mlambda\u001b[39;49;00m return_value, a, b: return_value == a * b)\u001b[37m\u001b[39;49;00m\n",
      "\u001b[90m@postcondition\u001b[39;49;00m(\u001b[34mlambda\u001b[39;49;00m return_value, a, b: return_value == a + b)\u001b[37m\u001b[39;49;00m\n",
      "\u001b[90m@postcondition\u001b[39;49;00m(\u001b[34mlambda\u001b[39;49;00m return_value, a, b: return_value == b * a)\u001b[37m\u001b[39;49;00m\n",
      "\u001b[90m@postcondition\u001b[39;49;00m(\u001b[34mlambda\u001b[39;49;00m return_value, a, b: return_value == b + a)\u001b[37m\u001b[39;49;00m\n",
      "\u001b[90m@postcondition\u001b[39;49;00m(\u001b[34mlambda\u001b[39;49;00m return_value, a, b: return_value > \u001b[34m0\u001b[39;49;00m)\u001b[37m\u001b[39;49;00m\n",
      "\u001b[90m@postcondition\u001b[39;49;00m(\u001b[34mlambda\u001b[39;49;00m return_value, a, b: return_value > a)\u001b[37m\u001b[39;49;00m\n",
      "\u001b[90m@postcondition\u001b[39;49;00m(\u001b[34mlambda\u001b[39;49;00m return_value, a, b: return_value > b)\u001b[37m\u001b[39;49;00m\n",
      "\u001b[90m@postcondition\u001b[39;49;00m(\u001b[34mlambda\u001b[39;49;00m return_value, a, b: return_value >= \u001b[34m0\u001b[39;49;00m)\u001b[37m\u001b[39;49;00m\n",
      "\u001b[90m@postcondition\u001b[39;49;00m(\u001b[34mlambda\u001b[39;49;00m return_value, a, b: return_value >= a)\u001b[37m\u001b[39;49;00m\n",
      "\u001b[90m@postcondition\u001b[39;49;00m(\u001b[34mlambda\u001b[39;49;00m return_value, a, b: return_value >= a >= b)\u001b[37m\u001b[39;49;00m\n",
      "\u001b[90m@postcondition\u001b[39;49;00m(\u001b[34mlambda\u001b[39;49;00m return_value, a, b: return_value >= b)\u001b[37m\u001b[39;49;00m\n",
      "\u001b[90m@postcondition\u001b[39;49;00m(\u001b[34mlambda\u001b[39;49;00m return_value, a, b: return_value >= b >= a)\u001b[37m\u001b[39;49;00m\n",
      "\u001b[34mdef\u001b[39;49;00m\u001b[37m \u001b[39;49;00m\u001b[32msum2\u001b[39;49;00m(a, b):  \u001b[37m# type: ignore\u001b[39;49;00m\u001b[37m\u001b[39;49;00m\n",
      "    \u001b[34mreturn\u001b[39;49;00m a + b\u001b[37m\u001b[39;49;00m"
     ]
    }
   ],
   "source": [
    "with InvariantAnnotator() as annotator:\n",
    "    y = sum2(2, 2)\n",
    "print_content(annotator.functions_with_invariants(), '.py')"
   ]
  },
  {
   "cell_type": "markdown",
   "metadata": {
    "slideshow": {
     "slide_type": "subslide"
    }
   },
   "source": [
    "The mined precondition `a == b`, for instance, only holds for the single call observed; the same holds for the mined postcondition `return_value == a * b`.  Yet, `sum2()` can obviously be successfully called with other values that do not satisfy these conditions."
   ]
  },
  {
   "cell_type": "markdown",
   "metadata": {
    "slideshow": {
     "slide_type": "fragment"
    }
   },
   "source": [
    "To get out of this trap, we have to _learn from more and more diverse runs_. \n",
    "One way to obtain such runs is by _generating_ inputs. Indeed, a simple test generator for calls of `sum2()` will easily resolve the problem."
   ]
  },
  {
   "cell_type": "code",
   "execution_count": 180,
   "metadata": {
    "execution": {
     "iopub.execute_input": "2025-10-26T17:48:26.092493Z",
     "iopub.status.busy": "2025-10-26T17:48:26.092419Z",
     "iopub.status.idle": "2025-10-26T17:48:26.093921Z",
     "shell.execute_reply": "2025-10-26T17:48:26.093673Z"
    },
    "slideshow": {
     "slide_type": "skip"
    }
   },
   "outputs": [],
   "source": [
    "import random"
   ]
  },
  {
   "cell_type": "code",
   "execution_count": 181,
   "metadata": {
    "execution": {
     "iopub.execute_input": "2025-10-26T17:48:26.095098Z",
     "iopub.status.busy": "2025-10-26T17:48:26.095009Z",
     "iopub.status.idle": "2025-10-26T17:48:26.098785Z",
     "shell.execute_reply": "2025-10-26T17:48:26.098543Z"
    },
    "slideshow": {
     "slide_type": "fragment"
    }
   },
   "outputs": [],
   "source": [
    "with InvariantAnnotator() as annotator:\n",
    "    for i in range(100):\n",
    "        a = random.randrange(-10, +10)\n",
    "        b = random.randrange(-10, +10)\n",
    "        length = sum2(a, b)"
   ]
  },
  {
   "cell_type": "code",
   "execution_count": 182,
   "metadata": {
    "execution": {
     "iopub.execute_input": "2025-10-26T17:48:26.100001Z",
     "iopub.status.busy": "2025-10-26T17:48:26.099913Z",
     "iopub.status.idle": "2025-10-26T17:48:26.345658Z",
     "shell.execute_reply": "2025-10-26T17:48:26.345299Z"
    },
    "slideshow": {
     "slide_type": "subslide"
    }
   },
   "outputs": [
    {
     "name": "stdout",
     "output_type": "stream",
     "text": [
      "\u001b[90m@precondition\u001b[39;49;00m(\u001b[34mlambda\u001b[39;49;00m a, b: \u001b[36misinstance\u001b[39;49;00m(a, \u001b[36mint\u001b[39;49;00m))\u001b[37m\u001b[39;49;00m\n",
      "\u001b[90m@precondition\u001b[39;49;00m(\u001b[34mlambda\u001b[39;49;00m a, b: \u001b[36misinstance\u001b[39;49;00m(b, \u001b[36mint\u001b[39;49;00m))\u001b[37m\u001b[39;49;00m\n",
      "\u001b[90m@postcondition\u001b[39;49;00m(\u001b[34mlambda\u001b[39;49;00m return_value, a, b: a == return_value - b)\u001b[37m\u001b[39;49;00m\n",
      "\u001b[90m@postcondition\u001b[39;49;00m(\u001b[34mlambda\u001b[39;49;00m return_value, a, b: b == return_value - a)\u001b[37m\u001b[39;49;00m\n",
      "\u001b[90m@postcondition\u001b[39;49;00m(\u001b[34mlambda\u001b[39;49;00m return_value, a, b: \u001b[36misinstance\u001b[39;49;00m(return_value, \u001b[36mint\u001b[39;49;00m))\u001b[37m\u001b[39;49;00m\n",
      "\u001b[90m@postcondition\u001b[39;49;00m(\u001b[34mlambda\u001b[39;49;00m return_value, a, b: return_value == a + b)\u001b[37m\u001b[39;49;00m\n",
      "\u001b[90m@postcondition\u001b[39;49;00m(\u001b[34mlambda\u001b[39;49;00m return_value, a, b: return_value == b + a)\u001b[37m\u001b[39;49;00m\n",
      "\u001b[34mdef\u001b[39;49;00m\u001b[37m \u001b[39;49;00m\u001b[32msum2\u001b[39;49;00m(a, b):  \u001b[37m# type: ignore\u001b[39;49;00m\u001b[37m\u001b[39;49;00m\n",
      "    \u001b[34mreturn\u001b[39;49;00m a + b\u001b[37m\u001b[39;49;00m"
     ]
    }
   ],
   "source": [
    "print_content(annotator.function_with_invariants('sum2'), '.py')"
   ]
  },
  {
   "cell_type": "markdown",
   "metadata": {
    "slideshow": {
     "slide_type": "fragment"
    }
   },
   "source": [
    "Note, though, that an API test generator, such as above, will have to be set up such that it actually respects preconditions – in our case, we invoke `sum2()` with integers only, already assuming its precondition.  In some way, one thus needs a specification (a model, a grammar) to mine another specification – a chicken-and-egg problem."
   ]
  },
  {
   "cell_type": "markdown",
   "metadata": {
    "slideshow": {
     "slide_type": "subslide"
    }
   },
   "source": [
    "However, there is one way out of this problem: If one can automatically generate tests at the system level, then one has an _infinite source of executions_ to learn invariants from.  In each of these executions, all functions would be called with values that satisfy the (implicit) precondition, allowing us to mine invariants for these functions.  This holds, because at the system level, invalid inputs must be rejected by the system in the first place.  The meaningful precondition at the system level, ensuring that only valid inputs get through, thus gets broken down into a multitude of meaningful preconditions (and subsequent postconditions) at the function level."
   ]
  },
  {
   "cell_type": "markdown",
   "metadata": {
    "slideshow": {
     "slide_type": "fragment"
    }
   },
   "source": [
    "The big requirement for all this, though, is that one needs good test generators. This will be the subject of another book, namely [The Fuzzing Book](https://www.fuzzingbook.org/)."
   ]
  },
  {
   "cell_type": "markdown",
   "metadata": {
    "slideshow": {
     "slide_type": "slide"
    }
   },
   "source": [
    "## Partial Invariants\n",
    "\n",
    "For debugging, it can be helpful to focus on invariants produced only by _failing_ runs, thus characterizing the _circumstances under which a function fails_. Let us illustrate this on an example."
   ]
  },
  {
   "cell_type": "markdown",
   "metadata": {
    "slideshow": {
     "slide_type": "fragment"
    }
   },
   "source": [
    "The `middle()` function from the [chapter on statistical debugging](StatisticalDebugger.ipynb) is supposed to return the middle of three integers `x`, `y`, and `z`."
   ]
  },
  {
   "cell_type": "code",
   "execution_count": 183,
   "metadata": {
    "execution": {
     "iopub.execute_input": "2025-10-26T17:48:26.347305Z",
     "iopub.status.busy": "2025-10-26T17:48:26.347197Z",
     "iopub.status.idle": "2025-10-26T17:48:27.645941Z",
     "shell.execute_reply": "2025-10-26T17:48:27.645621Z"
    },
    "slideshow": {
     "slide_type": "skip"
    }
   },
   "outputs": [],
   "source": [
    "from StatisticalDebugger import middle  # minor dependency"
   ]
  },
  {
   "cell_type": "code",
   "execution_count": 184,
   "metadata": {
    "execution": {
     "iopub.execute_input": "2025-10-26T17:48:27.647843Z",
     "iopub.status.busy": "2025-10-26T17:48:27.647697Z",
     "iopub.status.idle": "2025-10-26T17:48:27.652566Z",
     "shell.execute_reply": "2025-10-26T17:48:27.652272Z"
    },
    "slideshow": {
     "slide_type": "fragment"
    }
   },
   "outputs": [],
   "source": [
    "with InvariantAnnotator() as annotator:\n",
    "    for i in range(100):\n",
    "        x = random.randrange(-10, +10)\n",
    "        y = random.randrange(-10, +10)\n",
    "        z = random.randrange(-10, +10)\n",
    "        mid = middle(x, y, z) "
   ]
  },
  {
   "cell_type": "markdown",
   "metadata": {
    "slideshow": {
     "slide_type": "subslide"
    }
   },
   "source": [
    "By default, our `InvariantAnnotator()` does not return any particular pre- or postcondition (other than the types observed). That is just fine, as the function indeed imposes no particular precondition; and the postcondition from `middle()` is not covered by the `InvariantAnnotator` patterns."
   ]
  },
  {
   "cell_type": "code",
   "execution_count": 185,
   "metadata": {
    "execution": {
     "iopub.execute_input": "2025-10-26T17:48:27.653872Z",
     "iopub.status.busy": "2025-10-26T17:48:27.653788Z",
     "iopub.status.idle": "2025-10-26T17:48:28.840939Z",
     "shell.execute_reply": "2025-10-26T17:48:28.840678Z"
    },
    "slideshow": {
     "slide_type": "subslide"
    }
   },
   "outputs": [
    {
     "name": "stdout",
     "output_type": "stream",
     "text": [
      "\u001b[37m# Could not find function '_randbelow_with_getrandbits'# Could not find function 'randrange'@precondition(lambda x, y, z: isinstance(x, int))\u001b[39;49;00m\u001b[37m\u001b[39;49;00m\n",
      "\u001b[90m@precondition\u001b[39;49;00m(\u001b[34mlambda\u001b[39;49;00m x, y, z: \u001b[36misinstance\u001b[39;49;00m(y, \u001b[36mint\u001b[39;49;00m))\u001b[37m\u001b[39;49;00m\n",
      "\u001b[90m@precondition\u001b[39;49;00m(\u001b[34mlambda\u001b[39;49;00m x, y, z: \u001b[36misinstance\u001b[39;49;00m(z, \u001b[36mint\u001b[39;49;00m))\u001b[37m\u001b[39;49;00m\n",
      "\u001b[90m@postcondition\u001b[39;49;00m(\u001b[34mlambda\u001b[39;49;00m return_value, x, y, z: \u001b[36misinstance\u001b[39;49;00m(return_value, \u001b[36mint\u001b[39;49;00m))\u001b[37m\u001b[39;49;00m\n",
      "\u001b[34mdef\u001b[39;49;00m\u001b[37m \u001b[39;49;00m\u001b[32mmiddle\u001b[39;49;00m(x, y, z):  \u001b[37m# type: ignore\u001b[39;49;00m\u001b[37m\u001b[39;49;00m\n",
      "    \u001b[34mif\u001b[39;49;00m y < z:\u001b[37m\u001b[39;49;00m\n",
      "        \u001b[34mif\u001b[39;49;00m x < y:\u001b[37m\u001b[39;49;00m\n",
      "            \u001b[34mreturn\u001b[39;49;00m y\u001b[37m\u001b[39;49;00m\n",
      "        \u001b[34melif\u001b[39;49;00m x < z:\u001b[37m\u001b[39;49;00m\n",
      "            \u001b[34mreturn\u001b[39;49;00m y\u001b[37m\u001b[39;49;00m\n",
      "    \u001b[34melse\u001b[39;49;00m:\u001b[37m\u001b[39;49;00m\n",
      "        \u001b[34mif\u001b[39;49;00m x > y:\u001b[37m\u001b[39;49;00m\n",
      "            \u001b[34mreturn\u001b[39;49;00m y\u001b[37m\u001b[39;49;00m\n",
      "        \u001b[34melif\u001b[39;49;00m x > z:\u001b[37m\u001b[39;49;00m\n",
      "            \u001b[34mreturn\u001b[39;49;00m x\u001b[37m\u001b[39;49;00m\n",
      "    \u001b[34mreturn\u001b[39;49;00m z\u001b[37m\u001b[39;49;00m"
     ]
    }
   ],
   "source": [
    "print_content(annotator.functions_with_invariants(), '.py')"
   ]
  },
  {
   "cell_type": "markdown",
   "metadata": {
    "slideshow": {
     "slide_type": "subslide"
    }
   },
   "source": [
    "Things get more interesting if we focus on a particular subset of runs only, though - say, a set of inputs where `middle()` fails."
   ]
  },
  {
   "cell_type": "code",
   "execution_count": 186,
   "metadata": {
    "execution": {
     "iopub.execute_input": "2025-10-26T17:48:28.842394Z",
     "iopub.status.busy": "2025-10-26T17:48:28.842305Z",
     "iopub.status.idle": "2025-10-26T17:48:28.843908Z",
     "shell.execute_reply": "2025-10-26T17:48:28.843691Z"
    },
    "slideshow": {
     "slide_type": "skip"
    }
   },
   "outputs": [],
   "source": [
    "from StatisticalDebugger import MIDDLE_FAILING_TESTCASES  # minor dependency"
   ]
  },
  {
   "cell_type": "code",
   "execution_count": 187,
   "metadata": {
    "execution": {
     "iopub.execute_input": "2025-10-26T17:48:28.845318Z",
     "iopub.status.busy": "2025-10-26T17:48:28.845229Z",
     "iopub.status.idle": "2025-10-26T17:48:28.847586Z",
     "shell.execute_reply": "2025-10-26T17:48:28.847354Z"
    },
    "slideshow": {
     "slide_type": "fragment"
    }
   },
   "outputs": [],
   "source": [
    "with InvariantAnnotator() as annotator:\n",
    "    for x, y, z in MIDDLE_FAILING_TESTCASES:\n",
    "        mid = middle(x, y, z) "
   ]
  },
  {
   "cell_type": "code",
   "execution_count": 188,
   "metadata": {
    "execution": {
     "iopub.execute_input": "2025-10-26T17:48:28.848749Z",
     "iopub.status.busy": "2025-10-26T17:48:28.848674Z",
     "iopub.status.idle": "2025-10-26T17:48:29.249187Z",
     "shell.execute_reply": "2025-10-26T17:48:29.248757Z"
    },
    "slideshow": {
     "slide_type": "subslide"
    }
   },
   "outputs": [
    {
     "name": "stdout",
     "output_type": "stream",
     "text": [
      "\u001b[90m@precondition\u001b[39;49;00m(\u001b[34mlambda\u001b[39;49;00m x, y, z: \u001b[36misinstance\u001b[39;49;00m(x, \u001b[36mint\u001b[39;49;00m))\u001b[37m\u001b[39;49;00m\n",
      "\u001b[90m@precondition\u001b[39;49;00m(\u001b[34mlambda\u001b[39;49;00m x, y, z: \u001b[36misinstance\u001b[39;49;00m(y, \u001b[36mint\u001b[39;49;00m))\u001b[37m\u001b[39;49;00m\n",
      "\u001b[90m@precondition\u001b[39;49;00m(\u001b[34mlambda\u001b[39;49;00m x, y, z: \u001b[36misinstance\u001b[39;49;00m(z, \u001b[36mint\u001b[39;49;00m))\u001b[37m\u001b[39;49;00m\n",
      "\u001b[90m@precondition\u001b[39;49;00m(\u001b[34mlambda\u001b[39;49;00m x, y, z: x)\u001b[37m\u001b[39;49;00m\n",
      "\u001b[90m@precondition\u001b[39;49;00m(\u001b[34mlambda\u001b[39;49;00m x, y, z: x < z)\u001b[37m\u001b[39;49;00m\n",
      "\u001b[90m@precondition\u001b[39;49;00m(\u001b[34mlambda\u001b[39;49;00m x, y, z: x <= z)\u001b[37m\u001b[39;49;00m\n",
      "\u001b[90m@precondition\u001b[39;49;00m(\u001b[34mlambda\u001b[39;49;00m x, y, z: x > \u001b[34m0\u001b[39;49;00m)\u001b[37m\u001b[39;49;00m\n",
      "\u001b[90m@precondition\u001b[39;49;00m(\u001b[34mlambda\u001b[39;49;00m x, y, z: x > y)\u001b[37m\u001b[39;49;00m\n",
      "\u001b[90m@precondition\u001b[39;49;00m(\u001b[34mlambda\u001b[39;49;00m x, y, z: x >= \u001b[34m0\u001b[39;49;00m)\u001b[37m\u001b[39;49;00m\n",
      "\u001b[90m@precondition\u001b[39;49;00m(\u001b[34mlambda\u001b[39;49;00m x, y, z: x >= y)\u001b[37m\u001b[39;49;00m\n",
      "\u001b[90m@precondition\u001b[39;49;00m(\u001b[34mlambda\u001b[39;49;00m x, y, z: y < x)\u001b[37m\u001b[39;49;00m\n",
      "\u001b[90m@precondition\u001b[39;49;00m(\u001b[34mlambda\u001b[39;49;00m x, y, z: y < x < z)\u001b[37m\u001b[39;49;00m\n",
      "\u001b[90m@precondition\u001b[39;49;00m(\u001b[34mlambda\u001b[39;49;00m x, y, z: y < z)\u001b[37m\u001b[39;49;00m\n",
      "\u001b[90m@precondition\u001b[39;49;00m(\u001b[34mlambda\u001b[39;49;00m x, y, z: y <= x)\u001b[37m\u001b[39;49;00m\n",
      "\u001b[90m@precondition\u001b[39;49;00m(\u001b[34mlambda\u001b[39;49;00m x, y, z: y <= x <= z)\u001b[37m\u001b[39;49;00m\n",
      "\u001b[90m@precondition\u001b[39;49;00m(\u001b[34mlambda\u001b[39;49;00m x, y, z: y <= z)\u001b[37m\u001b[39;49;00m\n",
      "\u001b[90m@precondition\u001b[39;49;00m(\u001b[34mlambda\u001b[39;49;00m x, y, z: y >= \u001b[34m0\u001b[39;49;00m)\u001b[37m\u001b[39;49;00m\n",
      "\u001b[90m@precondition\u001b[39;49;00m(\u001b[34mlambda\u001b[39;49;00m x, y, z: z)\u001b[37m\u001b[39;49;00m\n",
      "\u001b[90m@precondition\u001b[39;49;00m(\u001b[34mlambda\u001b[39;49;00m x, y, z: z > \u001b[34m0\u001b[39;49;00m)\u001b[37m\u001b[39;49;00m\n",
      "\u001b[90m@precondition\u001b[39;49;00m(\u001b[34mlambda\u001b[39;49;00m x, y, z: z > x)\u001b[37m\u001b[39;49;00m\n",
      "\u001b[90m@precondition\u001b[39;49;00m(\u001b[34mlambda\u001b[39;49;00m x, y, z: z > x > y)\u001b[37m\u001b[39;49;00m\n",
      "\u001b[90m@precondition\u001b[39;49;00m(\u001b[34mlambda\u001b[39;49;00m x, y, z: z > y)\u001b[37m\u001b[39;49;00m\n",
      "\u001b[90m@precondition\u001b[39;49;00m(\u001b[34mlambda\u001b[39;49;00m x, y, z: z >= \u001b[34m0\u001b[39;49;00m)\u001b[37m\u001b[39;49;00m\n",
      "\u001b[90m@precondition\u001b[39;49;00m(\u001b[34mlambda\u001b[39;49;00m x, y, z: z >= x)\u001b[37m\u001b[39;49;00m\n",
      "\u001b[90m@precondition\u001b[39;49;00m(\u001b[34mlambda\u001b[39;49;00m x, y, z: z >= x >= y)\u001b[37m\u001b[39;49;00m\n",
      "\u001b[90m@precondition\u001b[39;49;00m(\u001b[34mlambda\u001b[39;49;00m x, y, z: z >= y)\u001b[37m\u001b[39;49;00m\n",
      "\u001b[90m@postcondition\u001b[39;49;00m(\u001b[34mlambda\u001b[39;49;00m return_value, x, y, z: \u001b[36misinstance\u001b[39;49;00m(return_value, \u001b[36mint\u001b[39;49;00m))\u001b[37m\u001b[39;49;00m\n",
      "\u001b[90m@postcondition\u001b[39;49;00m(\u001b[34mlambda\u001b[39;49;00m return_value, x, y, z: return_value < x)\u001b[37m\u001b[39;49;00m\n",
      "\u001b[90m@postcondition\u001b[39;49;00m(\u001b[34mlambda\u001b[39;49;00m return_value, x, y, z: return_value < x < z)\u001b[37m\u001b[39;49;00m\n",
      "\u001b[90m@postcondition\u001b[39;49;00m(\u001b[34mlambda\u001b[39;49;00m return_value, x, y, z: return_value < z)\u001b[37m\u001b[39;49;00m\n",
      "\u001b[90m@postcondition\u001b[39;49;00m(\u001b[34mlambda\u001b[39;49;00m return_value, x, y, z: return_value <= x)\u001b[37m\u001b[39;49;00m\n",
      "\u001b[90m@postcondition\u001b[39;49;00m(\u001b[34mlambda\u001b[39;49;00m return_value, x, y, z: return_value <= x <= z)\u001b[37m\u001b[39;49;00m\n",
      "\u001b[90m@postcondition\u001b[39;49;00m(\u001b[34mlambda\u001b[39;49;00m return_value, x, y, z: return_value <= y)\u001b[37m\u001b[39;49;00m\n",
      "\u001b[90m@postcondition\u001b[39;49;00m(\u001b[34mlambda\u001b[39;49;00m return_value, x, y, z: return_value <= y <= x)\u001b[37m\u001b[39;49;00m\n",
      "\u001b[90m@postcondition\u001b[39;49;00m(\u001b[34mlambda\u001b[39;49;00m return_value, x, y, z: return_value <= y <= z)\u001b[37m\u001b[39;49;00m\n",
      "\u001b[90m@postcondition\u001b[39;49;00m(\u001b[34mlambda\u001b[39;49;00m return_value, x, y, z: return_value <= z)\u001b[37m\u001b[39;49;00m\n",
      "\u001b[90m@postcondition\u001b[39;49;00m(\u001b[34mlambda\u001b[39;49;00m return_value, x, y, z: return_value == y)\u001b[37m\u001b[39;49;00m\n",
      "\u001b[90m@postcondition\u001b[39;49;00m(\u001b[34mlambda\u001b[39;49;00m return_value, x, y, z: return_value >= \u001b[34m0\u001b[39;49;00m)\u001b[37m\u001b[39;49;00m\n",
      "\u001b[90m@postcondition\u001b[39;49;00m(\u001b[34mlambda\u001b[39;49;00m return_value, x, y, z: return_value >= y)\u001b[37m\u001b[39;49;00m\n",
      "\u001b[90m@postcondition\u001b[39;49;00m(\u001b[34mlambda\u001b[39;49;00m return_value, x, y, z: x > return_value)\u001b[37m\u001b[39;49;00m\n",
      "\u001b[90m@postcondition\u001b[39;49;00m(\u001b[34mlambda\u001b[39;49;00m return_value, x, y, z: x >= return_value)\u001b[37m\u001b[39;49;00m\n",
      "\u001b[90m@postcondition\u001b[39;49;00m(\u001b[34mlambda\u001b[39;49;00m return_value, x, y, z: x >= return_value >= y)\u001b[37m\u001b[39;49;00m\n",
      "\u001b[90m@postcondition\u001b[39;49;00m(\u001b[34mlambda\u001b[39;49;00m return_value, x, y, z: x >= y >= return_value)\u001b[37m\u001b[39;49;00m\n",
      "\u001b[90m@postcondition\u001b[39;49;00m(\u001b[34mlambda\u001b[39;49;00m return_value, x, y, z: y <= return_value)\u001b[37m\u001b[39;49;00m\n",
      "\u001b[90m@postcondition\u001b[39;49;00m(\u001b[34mlambda\u001b[39;49;00m return_value, x, y, z: y <= return_value <= x)\u001b[37m\u001b[39;49;00m\n",
      "\u001b[90m@postcondition\u001b[39;49;00m(\u001b[34mlambda\u001b[39;49;00m return_value, x, y, z: y <= return_value <= z)\u001b[37m\u001b[39;49;00m\n",
      "\u001b[90m@postcondition\u001b[39;49;00m(\u001b[34mlambda\u001b[39;49;00m return_value, x, y, z: y == return_value)\u001b[37m\u001b[39;49;00m\n",
      "\u001b[90m@postcondition\u001b[39;49;00m(\u001b[34mlambda\u001b[39;49;00m return_value, x, y, z: y >= return_value)\u001b[37m\u001b[39;49;00m\n",
      "\u001b[90m@postcondition\u001b[39;49;00m(\u001b[34mlambda\u001b[39;49;00m return_value, x, y, z: z > return_value)\u001b[37m\u001b[39;49;00m\n",
      "\u001b[90m@postcondition\u001b[39;49;00m(\u001b[34mlambda\u001b[39;49;00m return_value, x, y, z: z > x > return_value)\u001b[37m\u001b[39;49;00m\n",
      "\u001b[90m@postcondition\u001b[39;49;00m(\u001b[34mlambda\u001b[39;49;00m return_value, x, y, z: z >= return_value)\u001b[37m\u001b[39;49;00m\n",
      "\u001b[90m@postcondition\u001b[39;49;00m(\u001b[34mlambda\u001b[39;49;00m return_value, x, y, z: z >= return_value >= y)\u001b[37m\u001b[39;49;00m\n",
      "\u001b[90m@postcondition\u001b[39;49;00m(\u001b[34mlambda\u001b[39;49;00m return_value, x, y, z: z >= x >= return_value)\u001b[37m\u001b[39;49;00m\n",
      "\u001b[90m@postcondition\u001b[39;49;00m(\u001b[34mlambda\u001b[39;49;00m return_value, x, y, z: z >= y >= return_value)\u001b[37m\u001b[39;49;00m\n",
      "\u001b[34mdef\u001b[39;49;00m\u001b[37m \u001b[39;49;00m\u001b[32mmiddle\u001b[39;49;00m(x, y, z):  \u001b[37m# type: ignore\u001b[39;49;00m\u001b[37m\u001b[39;49;00m\n",
      "    \u001b[34mif\u001b[39;49;00m y < z:\u001b[37m\u001b[39;49;00m\n",
      "        \u001b[34mif\u001b[39;49;00m x < y:\u001b[37m\u001b[39;49;00m\n",
      "            \u001b[34mreturn\u001b[39;49;00m y\u001b[37m\u001b[39;49;00m\n",
      "        \u001b[34melif\u001b[39;49;00m x < z:\u001b[37m\u001b[39;49;00m\n",
      "            \u001b[34mreturn\u001b[39;49;00m y\u001b[37m\u001b[39;49;00m\n",
      "    \u001b[34melse\u001b[39;49;00m:\u001b[37m\u001b[39;49;00m\n",
      "        \u001b[34mif\u001b[39;49;00m x > y:\u001b[37m\u001b[39;49;00m\n",
      "            \u001b[34mreturn\u001b[39;49;00m y\u001b[37m\u001b[39;49;00m\n",
      "        \u001b[34melif\u001b[39;49;00m x > z:\u001b[37m\u001b[39;49;00m\n",
      "            \u001b[34mreturn\u001b[39;49;00m x\u001b[37m\u001b[39;49;00m\n",
      "    \u001b[34mreturn\u001b[39;49;00m z\u001b[37m\u001b[39;49;00m"
     ]
    }
   ],
   "source": [
    "print_content(annotator.functions_with_invariants(), '.py')"
   ]
  },
  {
   "cell_type": "markdown",
   "metadata": {
    "slideshow": {
     "slide_type": "subslide"
    }
   },
   "source": [
    "Now that's an intimidating set of pre- and postconditions. However, almost all of the preconditions are implied by the one precondition\n",
    "\n",
    "```python\n",
    "@precondition(lambda x, y, z: y < x < z, doc='y < x < z')\n",
    "```\n",
    "\n",
    "which characterizes the exact condition under which `middle()` fails (which also happens to be the condition under which the erroneous second `return y` is executed). By checking how _invariants for failing runs_ differ from _invariants for passing runs_, we can identify circumstances for function failures."
   ]
  },
  {
   "cell_type": "code",
   "execution_count": 189,
   "metadata": {
    "execution": {
     "iopub.execute_input": "2025-10-26T17:48:29.251783Z",
     "iopub.status.busy": "2025-10-26T17:48:29.251607Z",
     "iopub.status.idle": "2025-10-26T17:48:29.254903Z",
     "shell.execute_reply": "2025-10-26T17:48:29.254522Z"
    },
    "slideshow": {
     "slide_type": "subslide"
    },
    "tags": [
     "remove-input"
    ]
   },
   "outputs": [
    {
     "data": {
      "text/html": [
       "\n",
       "    \n",
       "    <script>\n",
       "    var bad_answers = new Map();\n",
       "\n",
       "    function answer(quiz_id) {\n",
       "        ans = 0;\n",
       "        for (i = 1;; i++) {\n",
       "            checkbox = document.getElementById(quiz_id + \"-\" + i.toString());\n",
       "            if (!checkbox)\n",
       "                break;\n",
       "            if (checkbox.checked)\n",
       "                ans |= (1 << i);\n",
       "        }\n",
       "        return ans;\n",
       "    }\n",
       "    function check_selection(quiz_id, correct_answer, multiple_choice, hint) {\n",
       "        given_answer = answer(quiz_id);\n",
       "        if (given_answer == correct_answer)\n",
       "        {\n",
       "            document.getElementById(quiz_id + \"-submit\").value = \"Correct!\";\n",
       "            document.getElementById(quiz_id + \"-hint\").innerHTML = \"\";\n",
       "\n",
       "            for (i = 1;; i++) {\n",
       "                checkbox = document.getElementById(quiz_id + \"-\" + i.toString());\n",
       "                label = document.getElementById(quiz_id + \"-\" + i.toString() + \"-label\")\n",
       "                if (!checkbox)\n",
       "                    break;\n",
       "\n",
       "                if (checkbox.checked) {\n",
       "                    label.style.fontWeight = \"bold\";\n",
       "                }\n",
       "                else {\n",
       "                    label.style.textDecoration = \"line-through\";\n",
       "                }\n",
       "            }\n",
       "        }\n",
       "        else \n",
       "        {\n",
       "            document.getElementById(quiz_id + \"-submit\").value = \"Try again\";\n",
       "\n",
       "            if (!bad_answers.has(quiz_id)) {\n",
       "                bad_answers.set(quiz_id, 1);\n",
       "            }\n",
       "            else {\n",
       "                bad_answers.set(quiz_id, bad_answers.get(quiz_id) + 1);\n",
       "            }\n",
       "\n",
       "            if (bad_answers.get(quiz_id) >= 2 && hint.length > 0) {\n",
       "                document.getElementById(quiz_id + \"-hint\").innerHTML = \n",
       "                    \"&nbsp;&nbsp;(Hint: <code>\" + hint + \"</code>)\";\n",
       "            }\n",
       "\n",
       "            if (!multiple_choice) {\n",
       "                for (i = 1;; i++) {\n",
       "                    checkbox = document.getElementById(quiz_id + \"-\" + i.toString());\n",
       "                    label = document.getElementById(quiz_id + \"-\" + i.toString() + \"-label\")\n",
       "\n",
       "                    if (!checkbox)\n",
       "                        break;\n",
       "                    if (checkbox.checked) {\n",
       "                        label.style.textDecoration = \"line-through\";\n",
       "                    }\n",
       "                }\n",
       "            }\n",
       "        }\n",
       "    }\n",
       "    function clear_selection(quiz_id) {\n",
       "        document.getElementById(quiz_id + \"-submit\").value = \"Submit\";\n",
       "        document.getElementById(quiz_id + \"-hint\").innerHTML = \"\";\n",
       "    }\n",
       "    </script>\n",
       "    \n",
       "    <div class=\"quiz\">\n",
       "    <h3 class=\"quiz_title\">Quiz</h3>\n",
       "    <p>\n",
       "    <div class=\"quiz_question\">Could <code>InvariantAnnotator</code> also determine a precondition that characterizes <em>passing</em> runs?</div>\n",
       "    </p>\n",
       "    <p>\n",
       "    <div class=\"quiz_options\" title=\"Pick a choice.\">\n",
       "    \n",
       "        <input type=\"radio\" name=\"fb2e13da-b293-11f0-88db-6298cf1a5790\" id=\"fb2e13da-b293-11f0-88db-6298cf1a5790-1\" onclick=\"clear_selection('fb2e13da-b293-11f0-88db-6298cf1a5790')\">\n",
       "        <label id=\"fb2e13da-b293-11f0-88db-6298cf1a5790-1-label\" for=\"fb2e13da-b293-11f0-88db-6298cf1a5790-1\">Yes</label><br>\n",
       "    \n",
       "        <input type=\"radio\" name=\"fb2e13da-b293-11f0-88db-6298cf1a5790\" id=\"fb2e13da-b293-11f0-88db-6298cf1a5790-2\" onclick=\"clear_selection('fb2e13da-b293-11f0-88db-6298cf1a5790')\">\n",
       "        <label id=\"fb2e13da-b293-11f0-88db-6298cf1a5790-2-label\" for=\"fb2e13da-b293-11f0-88db-6298cf1a5790-2\">No</label><br>\n",
       "    \n",
       "    </div>\n",
       "    </p>\n",
       "    <input id=\"fb2e13da-b293-11f0-88db-6298cf1a5790-submit\" type=\"submit\" value=\"Submit\" onclick=\"check_selection('fb2e13da-b293-11f0-88db-6298cf1a5790', 4, 0, 'int(math.exp(1))')\">\n",
       "    <span class=\"quiz_hint\" id=\"fb2e13da-b293-11f0-88db-6298cf1a5790-hint\"></span>\n",
       "    </div>\n",
       "    "
      ],
      "text/plain": [
       "<IPython.core.display.HTML object>"
      ]
     },
     "execution_count": 189,
     "metadata": {},
     "output_type": "execute_result"
    }
   ],
   "source": [
    "quiz(\"Could `InvariantAnnotator` also determine a precondition \"\n",
    "     \"that characterizes _passing_ runs?\",\n",
    "     [\n",
    "         \"Yes\",\n",
    "         \"No\"\n",
    "     ], 'int(math.exp(1))', globals())"
   ]
  },
  {
   "cell_type": "markdown",
   "metadata": {
    "slideshow": {
     "slide_type": "fragment"
    }
   },
   "source": [
    "Indeed, it cannot – the correct invariant for passing runs would be the _inverse_ of the invariant for failing runs, and `not A < B < C` is not part of our invariant library. We can easily test this:"
   ]
  },
  {
   "cell_type": "code",
   "execution_count": 190,
   "metadata": {
    "execution": {
     "iopub.execute_input": "2025-10-26T17:48:29.256884Z",
     "iopub.status.busy": "2025-10-26T17:48:29.256772Z",
     "iopub.status.idle": "2025-10-26T17:48:29.258463Z",
     "shell.execute_reply": "2025-10-26T17:48:29.258128Z"
    },
    "slideshow": {
     "slide_type": "skip"
    }
   },
   "outputs": [],
   "source": [
    "from StatisticalDebugger import MIDDLE_PASSING_TESTCASES  # minor dependency"
   ]
  },
  {
   "cell_type": "code",
   "execution_count": 191,
   "metadata": {
    "execution": {
     "iopub.execute_input": "2025-10-26T17:48:29.260257Z",
     "iopub.status.busy": "2025-10-26T17:48:29.260133Z",
     "iopub.status.idle": "2025-10-26T17:48:29.262800Z",
     "shell.execute_reply": "2025-10-26T17:48:29.262392Z"
    },
    "slideshow": {
     "slide_type": "fragment"
    }
   },
   "outputs": [],
   "source": [
    "with InvariantAnnotator() as annotator:\n",
    "    for x, y, z in MIDDLE_PASSING_TESTCASES:\n",
    "        mid = middle(x, y, z) "
   ]
  },
  {
   "cell_type": "code",
   "execution_count": 192,
   "metadata": {
    "execution": {
     "iopub.execute_input": "2025-10-26T17:48:29.264477Z",
     "iopub.status.busy": "2025-10-26T17:48:29.264347Z",
     "iopub.status.idle": "2025-10-26T17:48:29.665270Z",
     "shell.execute_reply": "2025-10-26T17:48:29.664843Z"
    },
    "slideshow": {
     "slide_type": "subslide"
    }
   },
   "outputs": [
    {
     "name": "stdout",
     "output_type": "stream",
     "text": [
      "\u001b[90m@precondition\u001b[39;49;00m(\u001b[34mlambda\u001b[39;49;00m x, y, z: \u001b[36misinstance\u001b[39;49;00m(x, \u001b[36mint\u001b[39;49;00m))\u001b[37m\u001b[39;49;00m\n",
      "\u001b[90m@precondition\u001b[39;49;00m(\u001b[34mlambda\u001b[39;49;00m x, y, z: \u001b[36misinstance\u001b[39;49;00m(y, \u001b[36mint\u001b[39;49;00m))\u001b[37m\u001b[39;49;00m\n",
      "\u001b[90m@precondition\u001b[39;49;00m(\u001b[34mlambda\u001b[39;49;00m x, y, z: \u001b[36misinstance\u001b[39;49;00m(z, \u001b[36mint\u001b[39;49;00m))\u001b[37m\u001b[39;49;00m\n",
      "\u001b[90m@precondition\u001b[39;49;00m(\u001b[34mlambda\u001b[39;49;00m x, y, z: x >= \u001b[34m0\u001b[39;49;00m)\u001b[37m\u001b[39;49;00m\n",
      "\u001b[90m@precondition\u001b[39;49;00m(\u001b[34mlambda\u001b[39;49;00m x, y, z: y >= \u001b[34m0\u001b[39;49;00m)\u001b[37m\u001b[39;49;00m\n",
      "\u001b[90m@precondition\u001b[39;49;00m(\u001b[34mlambda\u001b[39;49;00m x, y, z: z >= \u001b[34m0\u001b[39;49;00m)\u001b[37m\u001b[39;49;00m\n",
      "\u001b[90m@postcondition\u001b[39;49;00m(\u001b[34mlambda\u001b[39;49;00m return_value, x, y, z: \u001b[36misinstance\u001b[39;49;00m(return_value, \u001b[36mint\u001b[39;49;00m))\u001b[37m\u001b[39;49;00m\n",
      "\u001b[90m@postcondition\u001b[39;49;00m(\u001b[34mlambda\u001b[39;49;00m return_value, x, y, z: return_value >= \u001b[34m0\u001b[39;49;00m)\u001b[37m\u001b[39;49;00m\n",
      "\u001b[34mdef\u001b[39;49;00m\u001b[37m \u001b[39;49;00m\u001b[32mmiddle\u001b[39;49;00m(x, y, z):  \u001b[37m# type: ignore\u001b[39;49;00m\u001b[37m\u001b[39;49;00m\n",
      "    \u001b[34mif\u001b[39;49;00m y < z:\u001b[37m\u001b[39;49;00m\n",
      "        \u001b[34mif\u001b[39;49;00m x < y:\u001b[37m\u001b[39;49;00m\n",
      "            \u001b[34mreturn\u001b[39;49;00m y\u001b[37m\u001b[39;49;00m\n",
      "        \u001b[34melif\u001b[39;49;00m x < z:\u001b[37m\u001b[39;49;00m\n",
      "            \u001b[34mreturn\u001b[39;49;00m y\u001b[37m\u001b[39;49;00m\n",
      "    \u001b[34melse\u001b[39;49;00m:\u001b[37m\u001b[39;49;00m\n",
      "        \u001b[34mif\u001b[39;49;00m x > y:\u001b[37m\u001b[39;49;00m\n",
      "            \u001b[34mreturn\u001b[39;49;00m y\u001b[37m\u001b[39;49;00m\n",
      "        \u001b[34melif\u001b[39;49;00m x > z:\u001b[37m\u001b[39;49;00m\n",
      "            \u001b[34mreturn\u001b[39;49;00m x\u001b[37m\u001b[39;49;00m\n",
      "    \u001b[34mreturn\u001b[39;49;00m z\u001b[37m\u001b[39;49;00m"
     ]
    }
   ],
   "source": [
    "print_content(annotator.functions_with_invariants(), '.py')"
   ]
  },
  {
   "cell_type": "markdown",
   "metadata": {
    "slideshow": {
     "slide_type": "slide"
    }
   },
   "source": [
    "## Some Examples\n",
    "\n",
    "Let us try out the `InvariantAnnotator` on a number of examples."
   ]
  },
  {
   "cell_type": "markdown",
   "metadata": {
    "slideshow": {
     "slide_type": "subslide"
    }
   },
   "source": [
    "### Removing HTML Markup\n",
    "\n",
    "Running `InvariantAnnotator` on our ongoing example `remove_html_markup()` does not provide much, as our invariant properties are tailored towards numerical functions."
   ]
  },
  {
   "cell_type": "code",
   "execution_count": 193,
   "metadata": {
    "execution": {
     "iopub.execute_input": "2025-10-26T17:48:29.669410Z",
     "iopub.status.busy": "2025-10-26T17:48:29.669144Z",
     "iopub.status.idle": "2025-10-26T17:48:29.671541Z",
     "shell.execute_reply": "2025-10-26T17:48:29.671060Z"
    },
    "slideshow": {
     "slide_type": "skip"
    }
   },
   "outputs": [],
   "source": [
    "from Intro_Debugging import remove_html_markup"
   ]
  },
  {
   "cell_type": "code",
   "execution_count": 194,
   "metadata": {
    "execution": {
     "iopub.execute_input": "2025-10-26T17:48:29.674016Z",
     "iopub.status.busy": "2025-10-26T17:48:29.673886Z",
     "iopub.status.idle": "2025-10-26T17:48:29.676033Z",
     "shell.execute_reply": "2025-10-26T17:48:29.675736Z"
    },
    "slideshow": {
     "slide_type": "fragment"
    }
   },
   "outputs": [],
   "source": [
    "with InvariantAnnotator() as annotator:\n",
    "    remove_html_markup(\"<foo>bar</foo>\")\n",
    "    remove_html_markup(\"bar\")\n",
    "    remove_html_markup('\"bar\"')"
   ]
  },
  {
   "cell_type": "code",
   "execution_count": 195,
   "metadata": {
    "execution": {
     "iopub.execute_input": "2025-10-26T17:48:29.678184Z",
     "iopub.status.busy": "2025-10-26T17:48:29.678053Z",
     "iopub.status.idle": "2025-10-26T17:48:29.710828Z",
     "shell.execute_reply": "2025-10-26T17:48:29.710379Z"
    },
    "slideshow": {
     "slide_type": "subslide"
    }
   },
   "outputs": [
    {
     "name": "stdout",
     "output_type": "stream",
     "text": [
      "\u001b[90m@precondition\u001b[39;49;00m(\u001b[34mlambda\u001b[39;49;00m s: s)\u001b[37m\u001b[39;49;00m\n",
      "\u001b[90m@postcondition\u001b[39;49;00m(\u001b[34mlambda\u001b[39;49;00m return_value, s: return_value)\u001b[37m\u001b[39;49;00m\n",
      "\u001b[90m@postcondition\u001b[39;49;00m(\u001b[34mlambda\u001b[39;49;00m return_value, s: return_value >= s)\u001b[37m\u001b[39;49;00m\n",
      "\u001b[90m@postcondition\u001b[39;49;00m(\u001b[34mlambda\u001b[39;49;00m return_value, s: return_value \u001b[35min\u001b[39;49;00m s)\u001b[37m\u001b[39;49;00m\n",
      "\u001b[90m@postcondition\u001b[39;49;00m(\u001b[34mlambda\u001b[39;49;00m return_value, s: s <= return_value)\u001b[37m\u001b[39;49;00m\n",
      "\u001b[34mdef\u001b[39;49;00m\u001b[37m \u001b[39;49;00m\u001b[32mremove_html_markup\u001b[39;49;00m(s):  \u001b[37m# type: ignore\u001b[39;49;00m\u001b[37m\u001b[39;49;00m\n",
      "    tag = \u001b[34mFalse\u001b[39;49;00m\u001b[37m\u001b[39;49;00m\n",
      "    quote = \u001b[34mFalse\u001b[39;49;00m\u001b[37m\u001b[39;49;00m\n",
      "    out = \u001b[33m\"\u001b[39;49;00m\u001b[33m\"\u001b[39;49;00m\u001b[37m\u001b[39;49;00m\n",
      "\u001b[37m\u001b[39;49;00m\n",
      "    \u001b[34mfor\u001b[39;49;00m c \u001b[35min\u001b[39;49;00m s:\u001b[37m\u001b[39;49;00m\n",
      "        \u001b[34massert\u001b[39;49;00m tag \u001b[35mor\u001b[39;49;00m \u001b[35mnot\u001b[39;49;00m quote\u001b[37m\u001b[39;49;00m\n",
      "\u001b[37m\u001b[39;49;00m\n",
      "        \u001b[34mif\u001b[39;49;00m c == \u001b[33m'\u001b[39;49;00m\u001b[33m<\u001b[39;49;00m\u001b[33m'\u001b[39;49;00m \u001b[35mand\u001b[39;49;00m \u001b[35mnot\u001b[39;49;00m quote:\u001b[37m\u001b[39;49;00m\n",
      "            tag = \u001b[34mTrue\u001b[39;49;00m\u001b[37m\u001b[39;49;00m\n",
      "        \u001b[34melif\u001b[39;49;00m c == \u001b[33m'\u001b[39;49;00m\u001b[33m>\u001b[39;49;00m\u001b[33m'\u001b[39;49;00m \u001b[35mand\u001b[39;49;00m \u001b[35mnot\u001b[39;49;00m quote:\u001b[37m\u001b[39;49;00m\n",
      "            tag = \u001b[34mFalse\u001b[39;49;00m\u001b[37m\u001b[39;49;00m\n",
      "        \u001b[34melif\u001b[39;49;00m (c == \u001b[33m'\u001b[39;49;00m\u001b[33m\"\u001b[39;49;00m\u001b[33m'\u001b[39;49;00m \u001b[35mor\u001b[39;49;00m c == \u001b[33m\"\u001b[39;49;00m\u001b[33m'\u001b[39;49;00m\u001b[33m\"\u001b[39;49;00m) \u001b[35mand\u001b[39;49;00m tag:\u001b[37m\u001b[39;49;00m\n",
      "            quote = \u001b[35mnot\u001b[39;49;00m quote\u001b[37m\u001b[39;49;00m\n",
      "        \u001b[34melif\u001b[39;49;00m \u001b[35mnot\u001b[39;49;00m tag:\u001b[37m\u001b[39;49;00m\n",
      "            out = out + c\u001b[37m\u001b[39;49;00m\n",
      "\u001b[37m\u001b[39;49;00m\n",
      "    \u001b[34mreturn\u001b[39;49;00m out\u001b[37m\u001b[39;49;00m"
     ]
    }
   ],
   "source": [
    "print_content(annotator.functions_with_invariants(), '.py')"
   ]
  },
  {
   "cell_type": "markdown",
   "metadata": {
    "slideshow": {
     "slide_type": "subslide"
    }
   },
   "source": [
    "In the [chapter on DDSet](DDSetDebugger.ipynb), we will see how to express more complex properties for structured inputs."
   ]
  },
  {
   "cell_type": "markdown",
   "metadata": {
    "slideshow": {
     "slide_type": "subslide"
    }
   },
   "source": [
    "### A Recursive Function\n",
    "\n",
    "Here's another example.  `list_length()` recursively computes the length of a Python function.  Let us see whether we can mine its invariants:"
   ]
  },
  {
   "cell_type": "code",
   "execution_count": 196,
   "metadata": {
    "execution": {
     "iopub.execute_input": "2025-10-26T17:48:29.713327Z",
     "iopub.status.busy": "2025-10-26T17:48:29.713168Z",
     "iopub.status.idle": "2025-10-26T17:48:29.715367Z",
     "shell.execute_reply": "2025-10-26T17:48:29.714980Z"
    },
    "slideshow": {
     "slide_type": "fragment"
    }
   },
   "outputs": [],
   "source": [
    "def list_length(elems: List[Any]) -> int:\n",
    "    if elems == []:\n",
    "        length = 0\n",
    "    else:\n",
    "        length = 1 + list_length(elems[1:])\n",
    "    return length"
   ]
  },
  {
   "cell_type": "code",
   "execution_count": 197,
   "metadata": {
    "execution": {
     "iopub.execute_input": "2025-10-26T17:48:29.717267Z",
     "iopub.status.busy": "2025-10-26T17:48:29.717096Z",
     "iopub.status.idle": "2025-10-26T17:48:29.754475Z",
     "shell.execute_reply": "2025-10-26T17:48:29.753380Z"
    },
    "slideshow": {
     "slide_type": "subslide"
    }
   },
   "outputs": [
    {
     "name": "stdout",
     "output_type": "stream",
     "text": [
      "\u001b[90m@precondition\u001b[39;49;00m(\u001b[34mlambda\u001b[39;49;00m elems: \u001b[36misinstance\u001b[39;49;00m(elems, \u001b[36mlist\u001b[39;49;00m))\u001b[37m\u001b[39;49;00m\n",
      "\u001b[90m@postcondition\u001b[39;49;00m(\u001b[34mlambda\u001b[39;49;00m return_value, elems: \u001b[36misinstance\u001b[39;49;00m(return_value, \u001b[36mint\u001b[39;49;00m))\u001b[37m\u001b[39;49;00m\n",
      "\u001b[90m@postcondition\u001b[39;49;00m(\u001b[34mlambda\u001b[39;49;00m return_value, elems: return_value == \u001b[36mlen\u001b[39;49;00m(elems))\u001b[37m\u001b[39;49;00m\n",
      "\u001b[90m@postcondition\u001b[39;49;00m(\u001b[34mlambda\u001b[39;49;00m return_value, elems: return_value >= \u001b[34m0\u001b[39;49;00m)\u001b[37m\u001b[39;49;00m\n",
      "\u001b[34mdef\u001b[39;49;00m\u001b[37m \u001b[39;49;00m\u001b[32mlist_length\u001b[39;49;00m(elems: List[Any]) -> \u001b[36mint\u001b[39;49;00m:\u001b[37m\u001b[39;49;00m\n",
      "    \u001b[34mif\u001b[39;49;00m elems == []:\u001b[37m\u001b[39;49;00m\n",
      "        length = \u001b[34m0\u001b[39;49;00m\u001b[37m\u001b[39;49;00m\n",
      "    \u001b[34melse\u001b[39;49;00m:\u001b[37m\u001b[39;49;00m\n",
      "        length = \u001b[34m1\u001b[39;49;00m + list_length(elems[\u001b[34m1\u001b[39;49;00m:])\u001b[37m\u001b[39;49;00m\n",
      "    \u001b[34mreturn\u001b[39;49;00m length\u001b[37m\u001b[39;49;00m"
     ]
    }
   ],
   "source": [
    "with InvariantAnnotator() as annotator:\n",
    "    length = list_length([1, 2, 3])\n",
    "\n",
    "print_content(annotator.functions_with_invariants(), '.py')"
   ]
  },
  {
   "cell_type": "markdown",
   "metadata": {
    "slideshow": {
     "slide_type": "subslide"
    }
   },
   "source": [
    "Almost all these properties are relevant.  Of course, the reason the invariants are so neat is that the return value is equal to `len(elems)` is that `X == len(Y)` is part of the list of properties to be checked."
   ]
  },
  {
   "attachments": {},
   "cell_type": "markdown",
   "metadata": {
    "slideshow": {
     "slide_type": "subslide"
    }
   },
   "source": [
    "### Sum of two Numbers\n",
    "\n",
    "The next example is a very simple function: If we have a function without return value, the return value is `None`, and we can only mine preconditions.  (Well, we get a \"postcondition\" `not return_value` that the return value evaluates to False, which holds for `None`)."
   ]
  },
  {
   "cell_type": "code",
   "execution_count": 198,
   "metadata": {
    "execution": {
     "iopub.execute_input": "2025-10-26T17:48:29.757214Z",
     "iopub.status.busy": "2025-10-26T17:48:29.756941Z",
     "iopub.status.idle": "2025-10-26T17:48:29.759275Z",
     "shell.execute_reply": "2025-10-26T17:48:29.758852Z"
    },
    "slideshow": {
     "slide_type": "fragment"
    }
   },
   "outputs": [],
   "source": [
    "def print_sum(a, b):  # type: ignore\n",
    "    print(a + b)"
   ]
  },
  {
   "cell_type": "code",
   "execution_count": 199,
   "metadata": {
    "execution": {
     "iopub.execute_input": "2025-10-26T17:48:29.761754Z",
     "iopub.status.busy": "2025-10-26T17:48:29.761562Z",
     "iopub.status.idle": "2025-10-26T17:48:29.764544Z",
     "shell.execute_reply": "2025-10-26T17:48:29.763961Z"
    },
    "slideshow": {
     "slide_type": "subslide"
    }
   },
   "outputs": [
    {
     "name": "stdout",
     "output_type": "stream",
     "text": [
      "76\n",
      "0\n",
      "-6\n"
     ]
    }
   ],
   "source": [
    "with InvariantAnnotator() as annotator:\n",
    "    print_sum(31, 45)\n",
    "    print_sum(0, 0)\n",
    "    print_sum(-1, -5)"
   ]
  },
  {
   "cell_type": "code",
   "execution_count": 200,
   "metadata": {
    "execution": {
     "iopub.execute_input": "2025-10-26T17:48:29.766278Z",
     "iopub.status.busy": "2025-10-26T17:48:29.766092Z",
     "iopub.status.idle": "2025-10-26T17:48:29.985161Z",
     "shell.execute_reply": "2025-10-26T17:48:29.984828Z"
    },
    "slideshow": {
     "slide_type": "subslide"
    }
   },
   "outputs": [
    {
     "name": "stdout",
     "output_type": "stream",
     "text": [
      "\u001b[37m# Could not find function 'parent_header'# Could not find function '_is_master_process'# Could not find function 'utcoffset'# Could not find function 'is_set'# Could not find function 'is_alive'# Could not find function '_event_pipe'# Could not find function 'send'# Could not find function 'schedule'# Could not find function '_schedule_flush'# Could not find function 'write'# Could not find function 'is_publishing'# Could not find function 'is_active'@precondition(lambda typ, val: typ)\u001b[39;49;00m\u001b[37m\u001b[39;49;00m\n",
      "\u001b[90m@precondition\u001b[39;49;00m(\u001b[34mlambda\u001b[39;49;00m typ, val: val)\u001b[37m\u001b[39;49;00m\n",
      "\u001b[90m@postcondition\u001b[39;49;00m(\u001b[34mlambda\u001b[39;49;00m return_value, typ, val: return_value)\u001b[37m\u001b[39;49;00m\n",
      "\u001b[90m@postcondition\u001b[39;49;00m(\u001b[34mlambda\u001b[39;49;00m return_value, typ, val: return_value == val)\u001b[37m\u001b[39;49;00m\n",
      "\u001b[90m@postcondition\u001b[39;49;00m(\u001b[34mlambda\u001b[39;49;00m return_value, typ, val: val == return_value)\u001b[37m\u001b[39;49;00m\n",
      "\u001b[34mdef\u001b[39;49;00m\u001b[37m \u001b[39;49;00m\u001b[32mcast\u001b[39;49;00m(typ, val):\u001b[37m\u001b[39;49;00m\n",
      "\u001b[37m    \u001b[39;49;00m\u001b[33m\"\"\"Cast a value to a type.\u001b[39;49;00m\n",
      "\u001b[33m\u001b[39;49;00m\n",
      "\u001b[33m    This returns the value unchanged.  To the type checker this\u001b[39;49;00m\n",
      "\u001b[33m    signals that the return value has the designated type, but at\u001b[39;49;00m\n",
      "\u001b[33m    runtime we intentionally don't check anything (we want this\u001b[39;49;00m\n",
      "\u001b[33m    to be as fast as possible).\u001b[39;49;00m\n",
      "\u001b[33m    \"\"\"\u001b[39;49;00m\u001b[37m\u001b[39;49;00m\n",
      "    \u001b[34mreturn\u001b[39;49;00m val\u001b[37m\u001b[39;49;00m\n",
      "\u001b[37m# Could not find function 'get'# Could not find function '__get__'# Could not find function '__init__'@precondition(lambda a, b: isinstance(a, int))\u001b[39;49;00m\u001b[37m\u001b[39;49;00m\n",
      "\u001b[90m@precondition\u001b[39;49;00m(\u001b[34mlambda\u001b[39;49;00m a, b: \u001b[36misinstance\u001b[39;49;00m(b, \u001b[36mint\u001b[39;49;00m))\u001b[37m\u001b[39;49;00m\n",
      "\u001b[90m@postcondition\u001b[39;49;00m(\u001b[34mlambda\u001b[39;49;00m return_value, a, b: \u001b[35mnot\u001b[39;49;00m return_value)\u001b[37m\u001b[39;49;00m\n",
      "\u001b[34mdef\u001b[39;49;00m\u001b[37m \u001b[39;49;00m\u001b[32mprint_sum\u001b[39;49;00m(a, b):  \u001b[37m# type: ignore\u001b[39;49;00m\u001b[37m\u001b[39;49;00m\n",
      "    \u001b[36mprint\u001b[39;49;00m(a + b)\u001b[37m\u001b[39;49;00m"
     ]
    }
   ],
   "source": [
    "print_content(annotator.functions_with_invariants(), '.py')"
   ]
  },
  {
   "cell_type": "markdown",
   "metadata": {
    "slideshow": {
     "slide_type": "slide"
    }
   },
   "source": [
    "## Checking Specifications\n",
    "\n",
    "A function with invariants, as above, can be fed into the Python interpreter, such that all pre- and postconditions are checked.  We create a function `square_root_annotated()` which includes all the invariants mined above."
   ]
  },
  {
   "cell_type": "code",
   "execution_count": 201,
   "metadata": {
    "execution": {
     "iopub.execute_input": "2025-10-26T17:48:29.986760Z",
     "iopub.status.busy": "2025-10-26T17:48:29.986640Z",
     "iopub.status.idle": "2025-10-26T17:48:29.988521Z",
     "shell.execute_reply": "2025-10-26T17:48:29.988277Z"
    },
    "slideshow": {
     "slide_type": "fragment"
    }
   },
   "outputs": [],
   "source": [
    "with InvariantAnnotator() as annotator:\n",
    "    y = square_root(25.0)\n",
    "    y = square_root(0.01)"
   ]
  },
  {
   "cell_type": "code",
   "execution_count": 202,
   "metadata": {
    "execution": {
     "iopub.execute_input": "2025-10-26T17:48:29.990018Z",
     "iopub.status.busy": "2025-10-26T17:48:29.989913Z",
     "iopub.status.idle": "2025-10-26T17:48:29.999498Z",
     "shell.execute_reply": "2025-10-26T17:48:29.999127Z"
    },
    "slideshow": {
     "slide_type": "fragment"
    }
   },
   "outputs": [],
   "source": [
    "square_root_def = annotator.functions_with_invariants()\n",
    "square_root_def = square_root_def.replace('square_root',\n",
    "                                          'square_root_annotated')"
   ]
  },
  {
   "cell_type": "code",
   "execution_count": 203,
   "metadata": {
    "execution": {
     "iopub.execute_input": "2025-10-26T17:48:30.001132Z",
     "iopub.status.busy": "2025-10-26T17:48:30.001019Z",
     "iopub.status.idle": "2025-10-26T17:48:30.016064Z",
     "shell.execute_reply": "2025-10-26T17:48:30.015735Z"
    },
    "slideshow": {
     "slide_type": "subslide"
    }
   },
   "outputs": [
    {
     "name": "stdout",
     "output_type": "stream",
     "text": [
      "\u001b[90m@precondition\u001b[39;49;00m(\u001b[34mlambda\u001b[39;49;00m x: \u001b[36misinstance\u001b[39;49;00m(x, \u001b[36mfloat\u001b[39;49;00m))\u001b[37m\u001b[39;49;00m\n",
      "\u001b[90m@precondition\u001b[39;49;00m(\u001b[34mlambda\u001b[39;49;00m x: x)\u001b[37m\u001b[39;49;00m\n",
      "\u001b[90m@precondition\u001b[39;49;00m(\u001b[34mlambda\u001b[39;49;00m x: x > \u001b[34m0\u001b[39;49;00m)\u001b[37m\u001b[39;49;00m\n",
      "\u001b[90m@precondition\u001b[39;49;00m(\u001b[34mlambda\u001b[39;49;00m x: x >= \u001b[34m0\u001b[39;49;00m)\u001b[37m\u001b[39;49;00m\n",
      "\u001b[90m@postcondition\u001b[39;49;00m(\u001b[34mlambda\u001b[39;49;00m return_value, x: \u001b[36misinstance\u001b[39;49;00m(return_value, \u001b[36mfloat\u001b[39;49;00m))\u001b[37m\u001b[39;49;00m\n",
      "\u001b[90m@postcondition\u001b[39;49;00m(\u001b[34mlambda\u001b[39;49;00m return_value, x: return_value)\u001b[37m\u001b[39;49;00m\n",
      "\u001b[90m@postcondition\u001b[39;49;00m(\u001b[34mlambda\u001b[39;49;00m return_value, x: return_value > \u001b[34m0\u001b[39;49;00m)\u001b[37m\u001b[39;49;00m\n",
      "\u001b[90m@postcondition\u001b[39;49;00m(\u001b[34mlambda\u001b[39;49;00m return_value, x: return_value >= \u001b[34m0\u001b[39;49;00m)\u001b[37m\u001b[39;49;00m\n",
      "\u001b[34mdef\u001b[39;49;00m\u001b[37m \u001b[39;49;00m\u001b[32msquare_root_annotated\u001b[39;49;00m(x):  \u001b[37m# type: ignore\u001b[39;49;00m\u001b[37m\u001b[39;49;00m\n",
      "\u001b[37m    \u001b[39;49;00m\u001b[33m\"\"\"Computes the square root of x, using the Newton-Raphson method\"\"\"\u001b[39;49;00m\u001b[37m\u001b[39;49;00m\n",
      "    approx = \u001b[34mNone\u001b[39;49;00m\u001b[37m\u001b[39;49;00m\n",
      "    guess = x / \u001b[34m2\u001b[39;49;00m\u001b[37m\u001b[39;49;00m\n",
      "    \u001b[34mwhile\u001b[39;49;00m approx != guess:\u001b[37m\u001b[39;49;00m\n",
      "        approx = guess\u001b[37m\u001b[39;49;00m\n",
      "        guess = (approx + x / approx) / \u001b[34m2\u001b[39;49;00m\u001b[37m\u001b[39;49;00m\n",
      "\u001b[37m\u001b[39;49;00m\n",
      "    \u001b[34mreturn\u001b[39;49;00m approx\u001b[37m\u001b[39;49;00m"
     ]
    }
   ],
   "source": [
    "print_content(square_root_def, '.py')"
   ]
  },
  {
   "cell_type": "code",
   "execution_count": 204,
   "metadata": {
    "execution": {
     "iopub.execute_input": "2025-10-26T17:48:30.017853Z",
     "iopub.status.busy": "2025-10-26T17:48:30.017725Z",
     "iopub.status.idle": "2025-10-26T17:48:30.019718Z",
     "shell.execute_reply": "2025-10-26T17:48:30.019401Z"
    },
    "slideshow": {
     "slide_type": "subslide"
    }
   },
   "outputs": [],
   "source": [
    "exec(square_root_def)"
   ]
  },
  {
   "cell_type": "markdown",
   "metadata": {
    "slideshow": {
     "slide_type": "fragment"
    }
   },
   "source": [
    "The \"annotated\" version checks against invalid arguments – or more precisely, against arguments with properties that have not been observed yet:"
   ]
  },
  {
   "cell_type": "code",
   "execution_count": 205,
   "metadata": {
    "execution": {
     "iopub.execute_input": "2025-10-26T17:48:30.021305Z",
     "iopub.status.busy": "2025-10-26T17:48:30.021183Z",
     "iopub.status.idle": "2025-10-26T17:48:30.023253Z",
     "shell.execute_reply": "2025-10-26T17:48:30.022993Z"
    },
    "slideshow": {
     "slide_type": "subslide"
    }
   },
   "outputs": [
    {
     "name": "stderr",
     "output_type": "stream",
     "text": [
      "Traceback (most recent call last):\n",
      "  File \"/var/folders/n2/xd9445p97rb3xh7m1dfx8_4h0006ts/T/ipykernel_52062/2533314883.py\", line 2, in <module>\n",
      "    square_root_annotated(-1.0)  # type: ignore\n",
      "    ~~~~~~~~~~~~~~~~~~~~~^^^^^^\n",
      "  File \"/var/folders/n2/xd9445p97rb3xh7m1dfx8_4h0006ts/T/ipykernel_52062/3759592669.py\", line 11, in wrapper\n",
      "    retval = func(*args, **kwargs)\n",
      "  File \"/var/folders/n2/xd9445p97rb3xh7m1dfx8_4h0006ts/T/ipykernel_52062/3759592669.py\", line 11, in wrapper\n",
      "    retval = func(*args, **kwargs)\n",
      "  File \"/var/folders/n2/xd9445p97rb3xh7m1dfx8_4h0006ts/T/ipykernel_52062/3759592669.py\", line 7, in wrapper\n",
      "    assert precondition(*args, **kwargs), \\\n",
      "           ~~~~~~~~~~~~^^^^^^^^^^^^^^^^^\n",
      "AssertionError: Precondition violated (expected)\n"
     ]
    }
   ],
   "source": [
    "with ExpectError():\n",
    "    square_root_annotated(-1.0)  # type: ignore"
   ]
  },
  {
   "cell_type": "markdown",
   "metadata": {
    "slideshow": {
     "slide_type": "subslide"
    }
   },
   "source": [
    "This is in contrast to the original version, which just hangs on negative values:"
   ]
  },
  {
   "cell_type": "code",
   "execution_count": 206,
   "metadata": {
    "execution": {
     "iopub.execute_input": "2025-10-26T17:48:30.024863Z",
     "iopub.status.busy": "2025-10-26T17:48:30.024755Z",
     "iopub.status.idle": "2025-10-26T17:48:31.031315Z",
     "shell.execute_reply": "2025-10-26T17:48:31.030959Z"
    },
    "slideshow": {
     "slide_type": "fragment"
    }
   },
   "outputs": [
    {
     "name": "stderr",
     "output_type": "stream",
     "text": [
      "Traceback (most recent call last):\n",
      "  File \"/var/folders/n2/xd9445p97rb3xh7m1dfx8_4h0006ts/T/ipykernel_52062/3436772654.py\", line 2, in <module>\n",
      "    square_root(-1.0)\n",
      "    ~~~~~~~~~~~^^^^^^\n",
      "  File \"/var/folders/n2/xd9445p97rb3xh7m1dfx8_4h0006ts/T/ipykernel_52062/81976482.py\", line 5, in square_root\n",
      "    while approx != guess:\n",
      "          ^^^^^^^^^^^^^^^\n",
      "  File \"Timeout.ipynb\", line 43, in timeout_handler\n",
      "    raise TimeoutError()\n",
      "TimeoutError (expected)\n"
     ]
    }
   ],
   "source": [
    "with ExpectTimeout(1):\n",
    "    square_root(-1.0)"
   ]
  },
  {
   "cell_type": "markdown",
   "metadata": {
    "slideshow": {
     "slide_type": "subslide"
    }
   },
   "source": [
    "If we make changes to the function definition such that the properties of the return value change, such _regressions_ are caught as violations of the postconditions.  Let us illustrate this by simply inverting the result, and return $-2$ as square root of 4."
   ]
  },
  {
   "cell_type": "code",
   "execution_count": 207,
   "metadata": {
    "execution": {
     "iopub.execute_input": "2025-10-26T17:48:31.032836Z",
     "iopub.status.busy": "2025-10-26T17:48:31.032740Z",
     "iopub.status.idle": "2025-10-26T17:48:31.034500Z",
     "shell.execute_reply": "2025-10-26T17:48:31.034217Z"
    },
    "slideshow": {
     "slide_type": "fragment"
    }
   },
   "outputs": [],
   "source": [
    "square_root_def = square_root_def.replace('square_root_annotated',\n",
    "                                          'square_root_negative')\n",
    "square_root_def = square_root_def.replace('return approx',\n",
    "                                          'return -approx')"
   ]
  },
  {
   "cell_type": "code",
   "execution_count": 208,
   "metadata": {
    "execution": {
     "iopub.execute_input": "2025-10-26T17:48:31.035657Z",
     "iopub.status.busy": "2025-10-26T17:48:31.035574Z",
     "iopub.status.idle": "2025-10-26T17:48:31.049666Z",
     "shell.execute_reply": "2025-10-26T17:48:31.049418Z"
    },
    "slideshow": {
     "slide_type": "subslide"
    }
   },
   "outputs": [
    {
     "name": "stdout",
     "output_type": "stream",
     "text": [
      "\u001b[90m@precondition\u001b[39;49;00m(\u001b[34mlambda\u001b[39;49;00m x: \u001b[36misinstance\u001b[39;49;00m(x, \u001b[36mfloat\u001b[39;49;00m))\u001b[37m\u001b[39;49;00m\n",
      "\u001b[90m@precondition\u001b[39;49;00m(\u001b[34mlambda\u001b[39;49;00m x: x)\u001b[37m\u001b[39;49;00m\n",
      "\u001b[90m@precondition\u001b[39;49;00m(\u001b[34mlambda\u001b[39;49;00m x: x > \u001b[34m0\u001b[39;49;00m)\u001b[37m\u001b[39;49;00m\n",
      "\u001b[90m@precondition\u001b[39;49;00m(\u001b[34mlambda\u001b[39;49;00m x: x >= \u001b[34m0\u001b[39;49;00m)\u001b[37m\u001b[39;49;00m\n",
      "\u001b[90m@postcondition\u001b[39;49;00m(\u001b[34mlambda\u001b[39;49;00m return_value, x: \u001b[36misinstance\u001b[39;49;00m(return_value, \u001b[36mfloat\u001b[39;49;00m))\u001b[37m\u001b[39;49;00m\n",
      "\u001b[90m@postcondition\u001b[39;49;00m(\u001b[34mlambda\u001b[39;49;00m return_value, x: return_value)\u001b[37m\u001b[39;49;00m\n",
      "\u001b[90m@postcondition\u001b[39;49;00m(\u001b[34mlambda\u001b[39;49;00m return_value, x: return_value > \u001b[34m0\u001b[39;49;00m)\u001b[37m\u001b[39;49;00m\n",
      "\u001b[90m@postcondition\u001b[39;49;00m(\u001b[34mlambda\u001b[39;49;00m return_value, x: return_value >= \u001b[34m0\u001b[39;49;00m)\u001b[37m\u001b[39;49;00m\n",
      "\u001b[34mdef\u001b[39;49;00m\u001b[37m \u001b[39;49;00m\u001b[32msquare_root_negative\u001b[39;49;00m(x):  \u001b[37m# type: ignore\u001b[39;49;00m\u001b[37m\u001b[39;49;00m\n",
      "\u001b[37m    \u001b[39;49;00m\u001b[33m\"\"\"Computes the square root of x, using the Newton-Raphson method\"\"\"\u001b[39;49;00m\u001b[37m\u001b[39;49;00m\n",
      "    approx = \u001b[34mNone\u001b[39;49;00m\u001b[37m\u001b[39;49;00m\n",
      "    guess = x / \u001b[34m2\u001b[39;49;00m\u001b[37m\u001b[39;49;00m\n",
      "    \u001b[34mwhile\u001b[39;49;00m approx != guess:\u001b[37m\u001b[39;49;00m\n",
      "        approx = guess\u001b[37m\u001b[39;49;00m\n",
      "        guess = (approx + x / approx) / \u001b[34m2\u001b[39;49;00m\u001b[37m\u001b[39;49;00m\n",
      "\u001b[37m\u001b[39;49;00m\n",
      "    \u001b[34mreturn\u001b[39;49;00m -approx\u001b[37m\u001b[39;49;00m"
     ]
    }
   ],
   "source": [
    "print_content(square_root_def, '.py')"
   ]
  },
  {
   "cell_type": "code",
   "execution_count": 209,
   "metadata": {
    "execution": {
     "iopub.execute_input": "2025-10-26T17:48:31.050949Z",
     "iopub.status.busy": "2025-10-26T17:48:31.050860Z",
     "iopub.status.idle": "2025-10-26T17:48:31.052601Z",
     "shell.execute_reply": "2025-10-26T17:48:31.052357Z"
    },
    "slideshow": {
     "slide_type": "subslide"
    }
   },
   "outputs": [],
   "source": [
    "exec(square_root_def)"
   ]
  },
  {
   "cell_type": "markdown",
   "metadata": {
    "slideshow": {
     "slide_type": "fragment"
    }
   },
   "source": [
    "Technically speaking, $-2$ _is_ a square root of 4, since $(-2)^2 = 4$ holds.  Yet, such a change may be unexpected by callers of `square_root()`, and hence, this would be caught with the first call:"
   ]
  },
  {
   "cell_type": "code",
   "execution_count": 210,
   "metadata": {
    "execution": {
     "iopub.execute_input": "2025-10-26T17:48:31.054151Z",
     "iopub.status.busy": "2025-10-26T17:48:31.054056Z",
     "iopub.status.idle": "2025-10-26T17:48:31.056312Z",
     "shell.execute_reply": "2025-10-26T17:48:31.056092Z"
    },
    "slideshow": {
     "slide_type": "subslide"
    }
   },
   "outputs": [
    {
     "name": "stderr",
     "output_type": "stream",
     "text": [
      "Traceback (most recent call last):\n",
      "  File \"/var/folders/n2/xd9445p97rb3xh7m1dfx8_4h0006ts/T/ipykernel_52062/2283626907.py\", line 2, in <module>\n",
      "    square_root_negative(4.0)  # type: ignore\n",
      "    ~~~~~~~~~~~~~~~~~~~~^^^^^\n",
      "  File \"/var/folders/n2/xd9445p97rb3xh7m1dfx8_4h0006ts/T/ipykernel_52062/3759592669.py\", line 11, in wrapper\n",
      "    retval = func(*args, **kwargs)\n",
      "  File \"/var/folders/n2/xd9445p97rb3xh7m1dfx8_4h0006ts/T/ipykernel_52062/3759592669.py\", line 11, in wrapper\n",
      "    retval = func(*args, **kwargs)\n",
      "  File \"/var/folders/n2/xd9445p97rb3xh7m1dfx8_4h0006ts/T/ipykernel_52062/3759592669.py\", line 11, in wrapper\n",
      "    retval = func(*args, **kwargs)\n",
      "  [Previous line repeated 4 more times]\n",
      "  File \"/var/folders/n2/xd9445p97rb3xh7m1dfx8_4h0006ts/T/ipykernel_52062/3759592669.py\", line 13, in wrapper\n",
      "    assert postcondition(retval, *args, **kwargs), \\\n",
      "           ~~~~~~~~~~~~~^^^^^^^^^^^^^^^^^^^^^^^^^\n",
      "AssertionError: Postcondition violated (expected)\n"
     ]
    }
   ],
   "source": [
    "with ExpectError():\n",
    "    square_root_negative(4.0)  # type: ignore"
   ]
  },
  {
   "cell_type": "markdown",
   "metadata": {
    "slideshow": {
     "slide_type": "subslide"
    }
   },
   "source": [
    "We see how pre- and postconditions, as well as types, can serve as *oracles* during testing.  In particular, once we have mined them for a set of functions, we can check them again and again with test generators – especially after code changes.  The more checks we have, and the more specific they are, the more likely it is we can detect unwanted effects of changes."
   ]
  },
  {
   "cell_type": "markdown",
   "metadata": {
    "button": false,
    "new_sheet": true,
    "run_control": {
     "read_only": false
    },
    "slideshow": {
     "slide_type": "slide"
    }
   },
   "source": [
    "## Lessons Learned\n",
    "\n",
    "* Type annotations and explicit invariants allow for _checking_ arguments and results for expected data types and other properties.\n",
    "* One can automatically _mine_ data types and invariants by observing arguments and results at runtime.\n",
    "* The quality of mined invariants depends on the diversity of values observed during executions; this variety can be increased by generating tests."
   ]
  },
  {
   "cell_type": "markdown",
   "metadata": {
    "button": false,
    "new_sheet": false,
    "run_control": {
     "read_only": false
    },
    "slideshow": {
     "slide_type": "slide"
    }
   },
   "source": [
    "## Next Steps\n",
    "\n",
    "In the next chapter, we will explore [abstracting failure conditions](DDSetDebugger.ipynb)."
   ]
  },
  {
   "cell_type": "markdown",
   "metadata": {
    "slideshow": {
     "slide_type": "slide"
    }
   },
   "source": [
    "## Background\n",
    "\n",
    "The [DAIKON dynamic invariant detector](https://plse.cs.washington.edu/daikon/) can be considered the mother of function specification miners.  Continuously maintained and extended for more than 20 years, it mines likely invariants in the style of this chapter for a variety of languages, including C, C++, C#, Eiffel, F#, Java, Perl, and Visual Basic.  On top of the functionality discussed above, it holds a rich catalog of patterns for likely invariants, supports data invariants, can eliminate invariants that are implied by others, and determines statistical confidence to disregard unlikely invariants.  The corresponding paper \\cite{Ernst2001} is one of the seminal and most-cited papers of Software Engineering.  A multitude of works have been published based on DAIKON and detecting invariants; see this [curated list](http://plse.cs.washington.edu/daikon/pubs/) for details."
   ]
  },
  {
   "cell_type": "markdown",
   "metadata": {
    "slideshow": {
     "slide_type": "subslide"
    }
   },
   "source": [
    "The interaction between test generators and invariant detection is already discussed in \\cite{Ernst2001} (incidentally also using grammars).  The Eclat tool \\cite{Pacheco2005} is a model example of tight interaction between a unit-level test generator and DAIKON-style invariant mining, where the mined invariants are used to produce oracles and to systematically guide the test generator towards fault-revealing inputs."
   ]
  },
  {
   "attachments": {},
   "cell_type": "markdown",
   "metadata": {
    "slideshow": {
     "slide_type": "fragment"
    }
   },
   "source": [
    "Mining specifications is not restricted to pre- and postconditions.  The paper \"Mining Specifications\" \\cite{Ammons2002} is another classic in the field, learning state protocols from executions.  Grammar mining \\cite{Gopinath2020} can also be seen as a specification mining approach, this time learning specifications for input formats."
   ]
  },
  {
   "cell_type": "markdown",
   "metadata": {
    "slideshow": {
     "slide_type": "subslide"
    }
   },
   "source": [
    "As it comes to adding type annotations to existing code, the blog post [\"The state of type hints in Python\"](https://www.bernat.tech/the-state-of-type-hints-in-python/) gives a great overview on how Python type hints can be used and checked.  To add type annotations, there are two important tools available that also implement our above approach:\n",
    "\n",
    "* [MonkeyType](https://instagram-engineering.com/let-your-code-type-hint-itself-introducing-open-source-monkeytype-a855c7284881) implements the above approach of tracing executions and annotating Python 3 arguments, returns, and variables with type hints.\n",
    "* [PyAnnotate](https://github.com/dropbox/pyannotate) does a similar job, focusing on code in Python 2.  It does not produce Python 3-style annotations, but instead produces annotations as comments that can be processed by static type checkers.\n",
    "\n",
    "These tools have been created by engineers at Facebook and Dropbox, respectively, assisting them in checking millions of lines of code for type issues."
   ]
  },
  {
   "cell_type": "markdown",
   "metadata": {
    "button": false,
    "new_sheet": true,
    "run_control": {
     "read_only": false
    },
    "slideshow": {
     "slide_type": "slide"
    }
   },
   "source": [
    "## Exercises\n",
    "\n",
    "Our code for mining types and invariants is in no way complete.  There are dozens of ways to extend our implementations, some of which we discuss in exercises."
   ]
  },
  {
   "cell_type": "markdown",
   "metadata": {
    "button": false,
    "new_sheet": true,
    "run_control": {
     "read_only": false
    },
    "slideshow": {
     "slide_type": "subslide"
    }
   },
   "source": [
    "### Exercise 1: Union Types\n",
    "\n",
    "The Python `typing` module allows expressing that an argument can have multiple types.  For `square_root(x)`, this allows expressing that `x` can be an `int` or a `float`:"
   ]
  },
  {
   "cell_type": "code",
   "execution_count": 220,
   "metadata": {
    "execution": {
     "iopub.execute_input": "2025-10-26T17:48:31.982633Z",
     "iopub.status.busy": "2025-10-26T17:48:31.982495Z",
     "iopub.status.idle": "2025-10-26T17:48:31.984497Z",
     "shell.execute_reply": "2025-10-26T17:48:31.984289Z"
    },
    "slideshow": {
     "slide_type": "fragment"
    }
   },
   "outputs": [],
   "source": [
    "def square_root_with_union_type(x: Union[int, float]) -> float:  # type: ignore\n",
    "    ..."
   ]
  },
  {
   "cell_type": "markdown",
   "metadata": {
    "slideshow": {
     "slide_type": "fragment"
    },
    "solution2": "hidden",
    "solution2_first": true
   },
   "source": [
    "Extend the `TypeAnnotator` such that it supports union types for arguments and return values.  Use `Optional[X]` as a shorthand for `Union[X, None]`."
   ]
  },
  {
   "cell_type": "markdown",
   "metadata": {
    "slideshow": {
     "slide_type": "skip"
    },
    "solution2": "hidden"
   },
   "source": [
    "**Solution.** Left to the reader. Hint: extend `type_string()`."
   ]
  },
  {
   "cell_type": "markdown",
   "metadata": {
    "slideshow": {
     "slide_type": "subslide"
    }
   },
   "source": [
    "### Exercise 2: Types for Local Variables\n",
    "\n",
    "In Python, one cannot only annotate arguments with types, but actually also local and global variables – for instance, `approx` and `guess` in our `square_root()` implementation:"
   ]
  },
  {
   "cell_type": "code",
   "execution_count": 221,
   "metadata": {
    "button": false,
    "execution": {
     "iopub.execute_input": "2025-10-26T17:48:31.985981Z",
     "iopub.status.busy": "2025-10-26T17:48:31.985862Z",
     "iopub.status.idle": "2025-10-26T17:48:31.987969Z",
     "shell.execute_reply": "2025-10-26T17:48:31.987726Z"
    },
    "new_sheet": false,
    "run_control": {
     "read_only": false
    },
    "slideshow": {
     "slide_type": "fragment"
    }
   },
   "outputs": [],
   "source": [
    "def square_root_with_local_types(x: Union[int, float]) -> float:\n",
    "    \"\"\"Computes the square root of x, using the Newton-Raphson method\"\"\"\n",
    "    approx: Optional[float] = None\n",
    "    guess: float = x / 2\n",
    "    while approx != guess:\n",
    "        approx: float = guess  # type: ignore\n",
    "        guess: float = (approx + x / approx) / 2  # type: ignore\n",
    "    return approx"
   ]
  },
  {
   "attachments": {},
   "cell_type": "markdown",
   "metadata": {
    "slideshow": {
     "slide_type": "subslide"
    },
    "solution2": "hidden",
    "solution2_first": true
   },
   "source": [
    "Extend the `TypeAnnotator` such that it also annotates local variables with types.  Search the function AST for assignments, determine the type of the assigned value, and make it an annotation on the left-hand side."
   ]
  },
  {
   "cell_type": "markdown",
   "metadata": {
    "slideshow": {
     "slide_type": "skip"
    },
    "solution2": "hidden"
   },
   "source": [
    "**Solution.** Left to the reader."
   ]
  },
  {
   "cell_type": "markdown",
   "metadata": {
    "slideshow": {
     "slide_type": "subslide"
    }
   },
   "source": [
    "### Exercise 3: Verbose Invariant Checkers\n",
    "\n",
    "Our implementation of invariant checkers does not make it clear for the user which pre-/postcondition failed."
   ]
  },
  {
   "cell_type": "code",
   "execution_count": 222,
   "metadata": {
    "execution": {
     "iopub.execute_input": "2025-10-26T17:48:31.989434Z",
     "iopub.status.busy": "2025-10-26T17:48:31.989284Z",
     "iopub.status.idle": "2025-10-26T17:48:31.991013Z",
     "shell.execute_reply": "2025-10-26T17:48:31.990774Z"
    },
    "slideshow": {
     "slide_type": "fragment"
    }
   },
   "outputs": [],
   "source": [
    "@precondition(lambda s: len(s) > 0)\n",
    "def remove_first_char(s: str) -> str:\n",
    "    return s[1:]"
   ]
  },
  {
   "cell_type": "code",
   "execution_count": 223,
   "metadata": {
    "execution": {
     "iopub.execute_input": "2025-10-26T17:48:31.992213Z",
     "iopub.status.busy": "2025-10-26T17:48:31.992126Z",
     "iopub.status.idle": "2025-10-26T17:48:31.994282Z",
     "shell.execute_reply": "2025-10-26T17:48:31.994010Z"
    },
    "slideshow": {
     "slide_type": "subslide"
    }
   },
   "outputs": [
    {
     "name": "stderr",
     "output_type": "stream",
     "text": [
      "Traceback (most recent call last):\n",
      "  File \"/var/folders/n2/xd9445p97rb3xh7m1dfx8_4h0006ts/T/ipykernel_52062/2212034949.py\", line 2, in <module>\n",
      "    remove_first_char('')\n",
      "    ~~~~~~~~~~~~~~~~~^^^^\n",
      "  File \"/var/folders/n2/xd9445p97rb3xh7m1dfx8_4h0006ts/T/ipykernel_52062/3759592669.py\", line 7, in wrapper\n",
      "    assert precondition(*args, **kwargs), \\\n",
      "           ~~~~~~~~~~~~^^^^^^^^^^^^^^^^^\n",
      "AssertionError: Precondition violated (expected)\n"
     ]
    }
   ],
   "source": [
    "with ExpectError():\n",
    "    remove_first_char('')"
   ]
  },
  {
   "cell_type": "markdown",
   "metadata": {
    "slideshow": {
     "slide_type": "fragment"
    }
   },
   "source": [
    "The following implementation adds an optional `doc` keyword argument which is printed if the invariant is violated:"
   ]
  },
  {
   "cell_type": "code",
   "execution_count": 224,
   "metadata": {
    "execution": {
     "iopub.execute_input": "2025-10-26T17:48:31.995752Z",
     "iopub.status.busy": "2025-10-26T17:48:31.995665Z",
     "iopub.status.idle": "2025-10-26T17:48:31.998212Z",
     "shell.execute_reply": "2025-10-26T17:48:31.997962Z"
    },
    "slideshow": {
     "slide_type": "subslide"
    }
   },
   "outputs": [],
   "source": [
    "def verbose_condition(precondition: Optional[Callable] = None,\n",
    "                      postcondition: Optional[Callable] = None,\n",
    "                      doc: str = 'Unknown') -> Callable:\n",
    "    def decorator(func: Callable) -> Callable:\n",
    "        # Use `functools` to preserve name, docstring, etc\n",
    "        @functools.wraps(func)\n",
    "        def wrapper(*args: Any, **kwargs: Any) -> Any:\n",
    "            if precondition is not None:\n",
    "                assert precondition(*args, **kwargs), \\\n",
    "                    \"Precondition violated: \" + doc\n",
    "\n",
    "            # call original function or method\n",
    "            retval = func(*args, **kwargs)\n",
    "\n",
    "            if postcondition is not None:\n",
    "                assert postcondition(retval, *args, **kwargs), \\\n",
    "                    \"Postcondition violated: \" + doc\n",
    "\n",
    "            return retval\n",
    "\n",
    "        return wrapper\n",
    "    return decorator"
   ]
  },
  {
   "cell_type": "code",
   "execution_count": 225,
   "metadata": {
    "execution": {
     "iopub.execute_input": "2025-10-26T17:48:31.999535Z",
     "iopub.status.busy": "2025-10-26T17:48:31.999436Z",
     "iopub.status.idle": "2025-10-26T17:48:32.001412Z",
     "shell.execute_reply": "2025-10-26T17:48:32.001141Z"
    },
    "slideshow": {
     "slide_type": "subslide"
    }
   },
   "outputs": [],
   "source": [
    "def verbose_precondition(check: Callable, **kwargs: Any) -> Callable:\n",
    "    return verbose_condition(precondition=check,\n",
    "                             doc=kwargs.get('doc', 'Unknown'))"
   ]
  },
  {
   "cell_type": "code",
   "execution_count": 226,
   "metadata": {
    "execution": {
     "iopub.execute_input": "2025-10-26T17:48:32.002537Z",
     "iopub.status.busy": "2025-10-26T17:48:32.002459Z",
     "iopub.status.idle": "2025-10-26T17:48:32.004107Z",
     "shell.execute_reply": "2025-10-26T17:48:32.003885Z"
    },
    "slideshow": {
     "slide_type": "fragment"
    }
   },
   "outputs": [],
   "source": [
    "def verbose_postcondition(check: Callable, **kwargs: Any) -> Callable:\n",
    "    return verbose_condition(postcondition=check,\n",
    "                             doc=kwargs.get('doc', 'Unknown'))"
   ]
  },
  {
   "cell_type": "code",
   "execution_count": 227,
   "metadata": {
    "execution": {
     "iopub.execute_input": "2025-10-26T17:48:32.005230Z",
     "iopub.status.busy": "2025-10-26T17:48:32.005132Z",
     "iopub.status.idle": "2025-10-26T17:48:32.006889Z",
     "shell.execute_reply": "2025-10-26T17:48:32.006621Z"
    },
    "slideshow": {
     "slide_type": "fragment"
    }
   },
   "outputs": [],
   "source": [
    "@verbose_precondition(lambda s: len(s) > 0, doc=\"len(s) > 0\")    # type: ignore\n",
    "def remove_first_char(s: str) -> str:\n",
    "    return s[1:]"
   ]
  },
  {
   "cell_type": "code",
   "execution_count": 228,
   "metadata": {
    "execution": {
     "iopub.execute_input": "2025-10-26T17:48:32.008234Z",
     "iopub.status.busy": "2025-10-26T17:48:32.008146Z",
     "iopub.status.idle": "2025-10-26T17:48:32.010227Z",
     "shell.execute_reply": "2025-10-26T17:48:32.009919Z"
    },
    "slideshow": {
     "slide_type": "fragment"
    }
   },
   "outputs": [
    {
     "data": {
      "text/plain": [
       "'bc'"
      ]
     },
     "execution_count": 228,
     "metadata": {},
     "output_type": "execute_result"
    }
   ],
   "source": [
    "remove_first_char('abc')"
   ]
  },
  {
   "cell_type": "code",
   "execution_count": 229,
   "metadata": {
    "execution": {
     "iopub.execute_input": "2025-10-26T17:48:32.011545Z",
     "iopub.status.busy": "2025-10-26T17:48:32.011458Z",
     "iopub.status.idle": "2025-10-26T17:48:32.013400Z",
     "shell.execute_reply": "2025-10-26T17:48:32.013106Z"
    },
    "slideshow": {
     "slide_type": "subslide"
    }
   },
   "outputs": [
    {
     "name": "stderr",
     "output_type": "stream",
     "text": [
      "Traceback (most recent call last):\n",
      "  File \"/var/folders/n2/xd9445p97rb3xh7m1dfx8_4h0006ts/T/ipykernel_52062/2212034949.py\", line 2, in <module>\n",
      "    remove_first_char('')\n",
      "    ~~~~~~~~~~~~~~~~~^^^^\n",
      "  File \"/var/folders/n2/xd9445p97rb3xh7m1dfx8_4h0006ts/T/ipykernel_52062/706783034.py\", line 9, in wrapper\n",
      "    assert precondition(*args, **kwargs), \\\n",
      "           ~~~~~~~~~~~~^^^^^^^^^^^^^^^^^\n",
      "AssertionError: Precondition violated: len(s) > 0 (expected)\n"
     ]
    }
   ],
   "source": [
    "with ExpectError():\n",
    "    remove_first_char('')"
   ]
  },
  {
   "cell_type": "markdown",
   "metadata": {
    "slideshow": {
     "slide_type": "fragment"
    },
    "solution2": "hidden",
    "solution2_first": true
   },
   "source": [
    "Extend `InvariantAnnotator` into a `VerboseInvariantAnnotator` class that includes the conditions in the generated pre- and postconditions."
   ]
  },
  {
   "cell_type": "markdown",
   "metadata": {
    "slideshow": {
     "slide_type": "skip"
    },
    "solution2": "hidden"
   },
   "source": [
    "**Solution.** Here's a simple solution:"
   ]
  },
  {
   "cell_type": "code",
   "execution_count": 230,
   "metadata": {
    "execution": {
     "iopub.execute_input": "2025-10-26T17:48:32.015019Z",
     "iopub.status.busy": "2025-10-26T17:48:32.014930Z",
     "iopub.status.idle": "2025-10-26T17:48:32.017170Z",
     "shell.execute_reply": "2025-10-26T17:48:32.016933Z"
    },
    "slideshow": {
     "slide_type": "skip"
    },
    "solution2": "hidden"
   },
   "outputs": [],
   "source": [
    "class VerboseInvariantAnnotator(InvariantAnnotator):\n",
    "    def preconditions(self, function_name: str) -> List[str]:\n",
    "        conditions = []\n",
    "\n",
    "        for inv in pretty_invariants(self.invariants(function_name)):\n",
    "            if inv.find(RETURN_VALUE) >= 0:\n",
    "                continue  # Postcondition\n",
    "\n",
    "            cond = (\"@verbose_precondition(lambda \" +\n",
    "                    self.params(function_name) + \": \" +\n",
    "                    inv + ', doc=' + repr(inv) + \")\")\n",
    "            conditions.append(cond)\n",
    "\n",
    "        return conditions"
   ]
  },
  {
   "cell_type": "code",
   "execution_count": 231,
   "metadata": {
    "execution": {
     "iopub.execute_input": "2025-10-26T17:48:32.018385Z",
     "iopub.status.busy": "2025-10-26T17:48:32.018308Z",
     "iopub.status.idle": "2025-10-26T17:48:32.020740Z",
     "shell.execute_reply": "2025-10-26T17:48:32.020395Z"
    },
    "slideshow": {
     "slide_type": "skip"
    },
    "solution2": "hidden"
   },
   "outputs": [],
   "source": [
    "class VerboseInvariantAnnotator(VerboseInvariantAnnotator):\n",
    "    def postconditions(self, function_name: str) -> List[str]:\n",
    "        conditions = []\n",
    "\n",
    "        for inv in pretty_invariants(self.invariants(function_name)):\n",
    "            if inv.find(RETURN_VALUE) < 0:\n",
    "                continue  # Precondition\n",
    "\n",
    "            cond = (\"@verbose_postcondition(lambda \" +\n",
    "                    RETURN_VALUE + \", \" +\n",
    "                    self.params(function_name) + \": \" +\n",
    "                    inv + ', doc=' + repr(inv) + \")\")\n",
    "            conditions.append(cond)\n",
    "\n",
    "        return conditions"
   ]
  },
  {
   "cell_type": "markdown",
   "metadata": {
    "slideshow": {
     "slide_type": "skip"
    },
    "solution2": "hidden"
   },
   "source": [
    "The resulting annotations are harder to read, but easier to diagnose:"
   ]
  },
  {
   "cell_type": "code",
   "execution_count": 232,
   "metadata": {
    "execution": {
     "iopub.execute_input": "2025-10-26T17:48:32.022312Z",
     "iopub.status.busy": "2025-10-26T17:48:32.022201Z",
     "iopub.status.idle": "2025-10-26T17:48:32.049699Z",
     "shell.execute_reply": "2025-10-26T17:48:32.049460Z"
    },
    "slideshow": {
     "slide_type": "skip"
    },
    "solution2": "hidden"
   },
   "outputs": [
    {
     "name": "stdout",
     "output_type": "stream",
     "text": [
      "\u001b[90m@verbose_precondition\u001b[39;49;00m(\u001b[34mlambda\u001b[39;49;00m a, b: a, doc=\u001b[33m'\u001b[39;49;00m\u001b[33ma\u001b[39;49;00m\u001b[33m'\u001b[39;49;00m)\u001b[37m\u001b[39;49;00m\n",
      "\u001b[90m@verbose_precondition\u001b[39;49;00m(\u001b[34mlambda\u001b[39;49;00m a, b: a <= b, doc=\u001b[33m'\u001b[39;49;00m\u001b[33ma <= b\u001b[39;49;00m\u001b[33m'\u001b[39;49;00m)\u001b[37m\u001b[39;49;00m\n",
      "\u001b[90m@verbose_precondition\u001b[39;49;00m(\u001b[34mlambda\u001b[39;49;00m a, b: a == b, doc=\u001b[33m'\u001b[39;49;00m\u001b[33ma == b\u001b[39;49;00m\u001b[33m'\u001b[39;49;00m)\u001b[37m\u001b[39;49;00m\n",
      "\u001b[90m@verbose_precondition\u001b[39;49;00m(\u001b[34mlambda\u001b[39;49;00m a, b: a > \u001b[34m0\u001b[39;49;00m, doc=\u001b[33m'\u001b[39;49;00m\u001b[33ma > 0\u001b[39;49;00m\u001b[33m'\u001b[39;49;00m)\u001b[37m\u001b[39;49;00m\n",
      "\u001b[90m@verbose_precondition\u001b[39;49;00m(\u001b[34mlambda\u001b[39;49;00m a, b: a >= \u001b[34m0\u001b[39;49;00m, doc=\u001b[33m'\u001b[39;49;00m\u001b[33ma >= 0\u001b[39;49;00m\u001b[33m'\u001b[39;49;00m)\u001b[37m\u001b[39;49;00m\n",
      "\u001b[90m@verbose_precondition\u001b[39;49;00m(\u001b[34mlambda\u001b[39;49;00m a, b: a >= b, doc=\u001b[33m'\u001b[39;49;00m\u001b[33ma >= b\u001b[39;49;00m\u001b[33m'\u001b[39;49;00m)\u001b[37m\u001b[39;49;00m\n",
      "\u001b[90m@verbose_precondition\u001b[39;49;00m(\u001b[34mlambda\u001b[39;49;00m a, b: b, doc=\u001b[33m'\u001b[39;49;00m\u001b[33mb\u001b[39;49;00m\u001b[33m'\u001b[39;49;00m)\u001b[37m\u001b[39;49;00m\n",
      "\u001b[90m@verbose_precondition\u001b[39;49;00m(\u001b[34mlambda\u001b[39;49;00m a, b: b <= a, doc=\u001b[33m'\u001b[39;49;00m\u001b[33mb <= a\u001b[39;49;00m\u001b[33m'\u001b[39;49;00m)\u001b[37m\u001b[39;49;00m\n",
      "\u001b[90m@verbose_precondition\u001b[39;49;00m(\u001b[34mlambda\u001b[39;49;00m a, b: b == a, doc=\u001b[33m'\u001b[39;49;00m\u001b[33mb == a\u001b[39;49;00m\u001b[33m'\u001b[39;49;00m)\u001b[37m\u001b[39;49;00m\n",
      "\u001b[90m@verbose_precondition\u001b[39;49;00m(\u001b[34mlambda\u001b[39;49;00m a, b: b > \u001b[34m0\u001b[39;49;00m, doc=\u001b[33m'\u001b[39;49;00m\u001b[33mb > 0\u001b[39;49;00m\u001b[33m'\u001b[39;49;00m)\u001b[37m\u001b[39;49;00m\n",
      "\u001b[90m@verbose_precondition\u001b[39;49;00m(\u001b[34mlambda\u001b[39;49;00m a, b: b >= \u001b[34m0\u001b[39;49;00m, doc=\u001b[33m'\u001b[39;49;00m\u001b[33mb >= 0\u001b[39;49;00m\u001b[33m'\u001b[39;49;00m)\u001b[37m\u001b[39;49;00m\n",
      "\u001b[90m@verbose_precondition\u001b[39;49;00m(\u001b[34mlambda\u001b[39;49;00m a, b: b >= a, doc=\u001b[33m'\u001b[39;49;00m\u001b[33mb >= a\u001b[39;49;00m\u001b[33m'\u001b[39;49;00m)\u001b[37m\u001b[39;49;00m\n",
      "\u001b[90m@verbose_precondition\u001b[39;49;00m(\u001b[34mlambda\u001b[39;49;00m a, b: \u001b[36misinstance\u001b[39;49;00m(a, \u001b[36mint\u001b[39;49;00m), doc=\u001b[33m'\u001b[39;49;00m\u001b[33misinstance(a, int)\u001b[39;49;00m\u001b[33m'\u001b[39;49;00m)\u001b[37m\u001b[39;49;00m\n",
      "\u001b[90m@verbose_precondition\u001b[39;49;00m(\u001b[34mlambda\u001b[39;49;00m a, b: \u001b[36misinstance\u001b[39;49;00m(b, \u001b[36mint\u001b[39;49;00m), doc=\u001b[33m'\u001b[39;49;00m\u001b[33misinstance(b, int)\u001b[39;49;00m\u001b[33m'\u001b[39;49;00m)\u001b[37m\u001b[39;49;00m\n",
      "\u001b[90m@verbose_postcondition\u001b[39;49;00m(\u001b[34mlambda\u001b[39;49;00m return_value, a, b: a < return_value, doc=\u001b[33m'\u001b[39;49;00m\u001b[33ma < return_value\u001b[39;49;00m\u001b[33m'\u001b[39;49;00m)\u001b[37m\u001b[39;49;00m\n",
      "\u001b[90m@verbose_postcondition\u001b[39;49;00m(\u001b[34mlambda\u001b[39;49;00m return_value, a, b: a <= b <= return_value, doc=\u001b[33m'\u001b[39;49;00m\u001b[33ma <= b <= return_value\u001b[39;49;00m\u001b[33m'\u001b[39;49;00m)\u001b[37m\u001b[39;49;00m\n",
      "\u001b[90m@verbose_postcondition\u001b[39;49;00m(\u001b[34mlambda\u001b[39;49;00m return_value, a, b: a <= return_value, doc=\u001b[33m'\u001b[39;49;00m\u001b[33ma <= return_value\u001b[39;49;00m\u001b[33m'\u001b[39;49;00m)\u001b[37m\u001b[39;49;00m\n",
      "\u001b[90m@verbose_postcondition\u001b[39;49;00m(\u001b[34mlambda\u001b[39;49;00m return_value, a, b: a == return_value - b, doc=\u001b[33m'\u001b[39;49;00m\u001b[33ma == return_value - b\u001b[39;49;00m\u001b[33m'\u001b[39;49;00m)\u001b[37m\u001b[39;49;00m\n",
      "\u001b[90m@verbose_postcondition\u001b[39;49;00m(\u001b[34mlambda\u001b[39;49;00m return_value, a, b: a == return_value / b, doc=\u001b[33m'\u001b[39;49;00m\u001b[33ma == return_value / b\u001b[39;49;00m\u001b[33m'\u001b[39;49;00m)\u001b[37m\u001b[39;49;00m\n",
      "\u001b[90m@verbose_postcondition\u001b[39;49;00m(\u001b[34mlambda\u001b[39;49;00m return_value, a, b: b < return_value, doc=\u001b[33m'\u001b[39;49;00m\u001b[33mb < return_value\u001b[39;49;00m\u001b[33m'\u001b[39;49;00m)\u001b[37m\u001b[39;49;00m\n",
      "\u001b[90m@verbose_postcondition\u001b[39;49;00m(\u001b[34mlambda\u001b[39;49;00m return_value, a, b: b <= a <= return_value, doc=\u001b[33m'\u001b[39;49;00m\u001b[33mb <= a <= return_value\u001b[39;49;00m\u001b[33m'\u001b[39;49;00m)\u001b[37m\u001b[39;49;00m\n",
      "\u001b[90m@verbose_postcondition\u001b[39;49;00m(\u001b[34mlambda\u001b[39;49;00m return_value, a, b: b <= return_value, doc=\u001b[33m'\u001b[39;49;00m\u001b[33mb <= return_value\u001b[39;49;00m\u001b[33m'\u001b[39;49;00m)\u001b[37m\u001b[39;49;00m\n",
      "\u001b[90m@verbose_postcondition\u001b[39;49;00m(\u001b[34mlambda\u001b[39;49;00m return_value, a, b: b == return_value - a, doc=\u001b[33m'\u001b[39;49;00m\u001b[33mb == return_value - a\u001b[39;49;00m\u001b[33m'\u001b[39;49;00m)\u001b[37m\u001b[39;49;00m\n",
      "\u001b[90m@verbose_postcondition\u001b[39;49;00m(\u001b[34mlambda\u001b[39;49;00m return_value, a, b: b == return_value / a, doc=\u001b[33m'\u001b[39;49;00m\u001b[33mb == return_value / a\u001b[39;49;00m\u001b[33m'\u001b[39;49;00m)\u001b[37m\u001b[39;49;00m\n",
      "\u001b[90m@verbose_postcondition\u001b[39;49;00m(\u001b[34mlambda\u001b[39;49;00m return_value, a, b: \u001b[36misinstance\u001b[39;49;00m(return_value, \u001b[36mint\u001b[39;49;00m), doc=\u001b[33m'\u001b[39;49;00m\u001b[33misinstance(return_value, int)\u001b[39;49;00m\u001b[33m'\u001b[39;49;00m)\u001b[37m\u001b[39;49;00m\n",
      "\u001b[90m@verbose_postcondition\u001b[39;49;00m(\u001b[34mlambda\u001b[39;49;00m return_value, a, b: return_value, doc=\u001b[33m'\u001b[39;49;00m\u001b[33mreturn_value\u001b[39;49;00m\u001b[33m'\u001b[39;49;00m)\u001b[37m\u001b[39;49;00m\n",
      "\u001b[90m@verbose_postcondition\u001b[39;49;00m(\u001b[34mlambda\u001b[39;49;00m return_value, a, b: return_value == a * b, doc=\u001b[33m'\u001b[39;49;00m\u001b[33mreturn_value == a * b\u001b[39;49;00m\u001b[33m'\u001b[39;49;00m)\u001b[37m\u001b[39;49;00m\n",
      "\u001b[90m@verbose_postcondition\u001b[39;49;00m(\u001b[34mlambda\u001b[39;49;00m return_value, a, b: return_value == a + b, doc=\u001b[33m'\u001b[39;49;00m\u001b[33mreturn_value == a + b\u001b[39;49;00m\u001b[33m'\u001b[39;49;00m)\u001b[37m\u001b[39;49;00m\n",
      "\u001b[90m@verbose_postcondition\u001b[39;49;00m(\u001b[34mlambda\u001b[39;49;00m return_value, a, b: return_value == b * a, doc=\u001b[33m'\u001b[39;49;00m\u001b[33mreturn_value == b * a\u001b[39;49;00m\u001b[33m'\u001b[39;49;00m)\u001b[37m\u001b[39;49;00m\n",
      "\u001b[90m@verbose_postcondition\u001b[39;49;00m(\u001b[34mlambda\u001b[39;49;00m return_value, a, b: return_value == b + a, doc=\u001b[33m'\u001b[39;49;00m\u001b[33mreturn_value == b + a\u001b[39;49;00m\u001b[33m'\u001b[39;49;00m)\u001b[37m\u001b[39;49;00m\n",
      "\u001b[90m@verbose_postcondition\u001b[39;49;00m(\u001b[34mlambda\u001b[39;49;00m return_value, a, b: return_value > \u001b[34m0\u001b[39;49;00m, doc=\u001b[33m'\u001b[39;49;00m\u001b[33mreturn_value > 0\u001b[39;49;00m\u001b[33m'\u001b[39;49;00m)\u001b[37m\u001b[39;49;00m\n",
      "\u001b[90m@verbose_postcondition\u001b[39;49;00m(\u001b[34mlambda\u001b[39;49;00m return_value, a, b: return_value > a, doc=\u001b[33m'\u001b[39;49;00m\u001b[33mreturn_value > a\u001b[39;49;00m\u001b[33m'\u001b[39;49;00m)\u001b[37m\u001b[39;49;00m\n",
      "\u001b[90m@verbose_postcondition\u001b[39;49;00m(\u001b[34mlambda\u001b[39;49;00m return_value, a, b: return_value > b, doc=\u001b[33m'\u001b[39;49;00m\u001b[33mreturn_value > b\u001b[39;49;00m\u001b[33m'\u001b[39;49;00m)\u001b[37m\u001b[39;49;00m\n",
      "\u001b[90m@verbose_postcondition\u001b[39;49;00m(\u001b[34mlambda\u001b[39;49;00m return_value, a, b: return_value >= \u001b[34m0\u001b[39;49;00m, doc=\u001b[33m'\u001b[39;49;00m\u001b[33mreturn_value >= 0\u001b[39;49;00m\u001b[33m'\u001b[39;49;00m)\u001b[37m\u001b[39;49;00m\n",
      "\u001b[90m@verbose_postcondition\u001b[39;49;00m(\u001b[34mlambda\u001b[39;49;00m return_value, a, b: return_value >= a, doc=\u001b[33m'\u001b[39;49;00m\u001b[33mreturn_value >= a\u001b[39;49;00m\u001b[33m'\u001b[39;49;00m)\u001b[37m\u001b[39;49;00m\n",
      "\u001b[90m@verbose_postcondition\u001b[39;49;00m(\u001b[34mlambda\u001b[39;49;00m return_value, a, b: return_value >= a >= b, doc=\u001b[33m'\u001b[39;49;00m\u001b[33mreturn_value >= a >= b\u001b[39;49;00m\u001b[33m'\u001b[39;49;00m)\u001b[37m\u001b[39;49;00m\n",
      "\u001b[90m@verbose_postcondition\u001b[39;49;00m(\u001b[34mlambda\u001b[39;49;00m return_value, a, b: return_value >= b, doc=\u001b[33m'\u001b[39;49;00m\u001b[33mreturn_value >= b\u001b[39;49;00m\u001b[33m'\u001b[39;49;00m)\u001b[37m\u001b[39;49;00m\n",
      "\u001b[90m@verbose_postcondition\u001b[39;49;00m(\u001b[34mlambda\u001b[39;49;00m return_value, a, b: return_value >= b >= a, doc=\u001b[33m'\u001b[39;49;00m\u001b[33mreturn_value >= b >= a\u001b[39;49;00m\u001b[33m'\u001b[39;49;00m)\u001b[37m\u001b[39;49;00m\n",
      "\u001b[34mdef\u001b[39;49;00m\u001b[37m \u001b[39;49;00m\u001b[32msum2\u001b[39;49;00m(a, b):  \u001b[37m# type: ignore\u001b[39;49;00m\u001b[37m\u001b[39;49;00m\n",
      "    \u001b[34mreturn\u001b[39;49;00m a + b\u001b[37m\u001b[39;49;00m"
     ]
    }
   ],
   "source": [
    "with VerboseInvariantAnnotator() as annotator:\n",
    "    y = sum2(2, 2)\n",
    "print_content(annotator.functions_with_invariants(), '.py')"
   ]
  },
  {
   "cell_type": "markdown",
   "metadata": {
    "slideshow": {
     "slide_type": "skip"
    },
    "solution2": "hidden"
   },
   "source": [
    "As an alternative, one may be able to use `inspect.getsource()` on the lambda expression or unparse it.  This is left to the reader."
   ]
  },
  {
   "attachments": {},
   "cell_type": "markdown",
   "metadata": {
    "slideshow": {
     "slide_type": "subslide"
    },
    "solution2": "hidden",
    "solution2_first": true
   },
   "source": [
    "### Exercise 4: Save Initial Values\n",
    "\n",
    "If the value of an argument changes during function execution, this can easily confuse our implementation: The values are tracked at the beginning of the function, but checked only when it returns.  Extend the `InvariantAnnotator` and the infrastructure it uses such that\n",
    "\n",
    "* it saves argument values both at the beginning and at the end of a function invocation;\n",
    "* postconditions can be expressed over both _initial_ values of arguments and the _final_ values of arguments;\n",
    "* the mined postconditions refer to both these values as well."
   ]
  },
  {
   "cell_type": "markdown",
   "metadata": {
    "button": false,
    "new_sheet": true,
    "run_control": {
     "read_only": false
    },
    "slideshow": {
     "slide_type": "skip"
    },
    "solution2": "hidden"
   },
   "source": [
    "**Solution.** To be added."
   ]
  },
  {
   "cell_type": "markdown",
   "metadata": {
    "slideshow": {
     "slide_type": "subslide"
    },
    "solution2": "hidden",
    "solution2_first": true
   },
   "source": [
    "### Exercise 5: Implications\n",
    "\n",
    "Several mined invariant are actually _implied_ by others: If `x > 0` holds, then this implies `x >= 0` and `x != 0`.  Extend the `InvariantAnnotator` such that implications between properties are explicitly encoded, and such that implied properties are no longer listed as invariants.  See \\cite{Ernst2001} for ideas."
   ]
  },
  {
   "cell_type": "markdown",
   "metadata": {
    "slideshow": {
     "slide_type": "skip"
    },
    "solution2": "hidden"
   },
   "source": [
    "**Solution.** Left to the reader."
   ]
  },
  {
   "cell_type": "markdown",
   "metadata": {
    "slideshow": {
     "slide_type": "subslide"
    },
    "solution2": "hidden",
    "solution2_first": true
   },
   "source": [
    "### Exercise 6: Local Variables\n",
    "\n",
    "Postconditions may also refer to the values of local variables.  Consider extending `InvariantAnnotator` and its infrastructure such that the values of local variables at the end of the execution are also recorded and made part of the invariant inference mechanism."
   ]
  },
  {
   "cell_type": "markdown",
   "metadata": {
    "slideshow": {
     "slide_type": "skip"
    },
    "solution2": "hidden"
   },
   "source": [
    "**Solution.** Left to the reader."
   ]
  },
  {
   "cell_type": "markdown",
   "metadata": {
    "button": false,
    "new_sheet": false,
    "run_control": {
     "read_only": false
    },
    "slideshow": {
     "slide_type": "subslide"
    },
    "solution": "hidden",
    "solution2": "hidden",
    "solution2_first": true,
    "solution_first": true
   },
   "source": [
    "### Exercise 7: Embedding Invariants as Assertions\n",
    "\n",
    "Rather than producing invariants as annotations for pre- and postconditions, insert them as `assert` statements into the function code, as in:\n",
    "\n",
    "```python\n",
    "def square_root(x):\n",
    "    'Computes the square root of x, using the Newton-Raphson method'\n",
    "    assert isinstance(x, int), 'violated precondition'\n",
    "    assert x > 0, 'violated precondition'\n",
    "    approx = None\n",
    "    guess = (x / 2)\n",
    "    while (approx != guess):\n",
    "        approx = guess\n",
    "        guess = ((approx + (x / approx)) / 2)\n",
    "    return_value = approx\n",
    "    assert return_value < x, 'violated postcondition'\n",
    "    assert isinstance(return_value, float), 'violated postcondition'\n",
    "    return approx\n",
    "```\n",
    "\n",
    "Such a formulation may make it easier for test generators and symbolic analysis to access and interpret pre- and postconditions."
   ]
  },
  {
   "cell_type": "markdown",
   "metadata": {
    "button": false,
    "new_sheet": false,
    "run_control": {
     "read_only": false
    },
    "slideshow": {
     "slide_type": "skip"
    },
    "solution": "hidden",
    "solution2": "hidden"
   },
   "source": [
    "**Solution.** Here is a tentative implementation that inserts invariants into function ASTs."
   ]
  },
  {
   "cell_type": "markdown",
   "metadata": {
    "slideshow": {
     "slide_type": "skip"
    },
    "solution2": "hidden"
   },
   "source": [
    "Part 1: Embedding Invariants into Functions"
   ]
  },
  {
   "cell_type": "code",
   "execution_count": 233,
   "metadata": {
    "execution": {
     "iopub.execute_input": "2025-10-26T17:48:32.051475Z",
     "iopub.status.busy": "2025-10-26T17:48:32.051363Z",
     "iopub.status.idle": "2025-10-26T17:48:32.053410Z",
     "shell.execute_reply": "2025-10-26T17:48:32.053171Z"
    },
    "slideshow": {
     "slide_type": "skip"
    },
    "solution2": "hidden"
   },
   "outputs": [],
   "source": [
    "class EmbeddedInvariantAnnotator(InvariantTracer):\n",
    "    def function_with_invariants_ast(self, function_name: str) -> ast.AST:\n",
    "        return annotate_function_with_invariants(function_name, self.invariants(function_name))\n",
    "\n",
    "    def function_with_invariants(self, function_name: str) -> str:\n",
    "        return ast.unparse(self.function_with_invariants_ast(function_name))"
   ]
  },
  {
   "cell_type": "code",
   "execution_count": 234,
   "metadata": {
    "execution": {
     "iopub.execute_input": "2025-10-26T17:48:32.054611Z",
     "iopub.status.busy": "2025-10-26T17:48:32.054503Z",
     "iopub.status.idle": "2025-10-26T17:48:32.056404Z",
     "shell.execute_reply": "2025-10-26T17:48:32.056210Z"
    },
    "slideshow": {
     "slide_type": "skip"
    },
    "solution2": "hidden"
   },
   "outputs": [],
   "source": [
    "def annotate_invariants(invariants: Dict[str, Invariants]) -> Dict[str, ast.AST]:\n",
    "    annotated_functions = {}\n",
    "\n",
    "    for function_name in invariants:\n",
    "        try:\n",
    "            annotated_functions[function_name] = annotate_function_with_invariants(function_name, invariants[function_name])\n",
    "        except KeyError:\n",
    "            continue\n",
    "\n",
    "    return annotated_functions"
   ]
  },
  {
   "cell_type": "code",
   "execution_count": 235,
   "metadata": {
    "execution": {
     "iopub.execute_input": "2025-10-26T17:48:32.057405Z",
     "iopub.status.busy": "2025-10-26T17:48:32.057332Z",
     "iopub.status.idle": "2025-10-26T17:48:32.059155Z",
     "shell.execute_reply": "2025-10-26T17:48:32.058949Z"
    },
    "slideshow": {
     "slide_type": "skip"
    },
    "solution2": "hidden"
   },
   "outputs": [],
   "source": [
    "def annotate_function_with_invariants(function_name: str, \n",
    "                                      function_invariants: Invariants) -> ast.AST:\n",
    "    stack_inspector = StackInspector()\n",
    "    function = stack_inspector.search_func(function_name)\n",
    "    if function is None:\n",
    "        raise KeyError\n",
    "\n",
    "    function_code = inspect.getsource(function)\n",
    "    function_ast = ast.parse(function_code)\n",
    "    return annotate_function_ast_with_invariants(function_ast, function_invariants)"
   ]
  },
  {
   "cell_type": "code",
   "execution_count": 236,
   "metadata": {
    "execution": {
     "iopub.execute_input": "2025-10-26T17:48:32.060242Z",
     "iopub.status.busy": "2025-10-26T17:48:32.060155Z",
     "iopub.status.idle": "2025-10-26T17:48:32.061795Z",
     "shell.execute_reply": "2025-10-26T17:48:32.061543Z"
    },
    "slideshow": {
     "slide_type": "skip"
    },
    "solution2": "hidden"
   },
   "outputs": [],
   "source": [
    "def annotate_function_ast_with_invariants(function_ast: ast.AST,\n",
    "                                          function_invariants: Invariants) -> ast.AST:\n",
    "    annotated_function_ast = EmbeddedInvariantTransformer(function_invariants).visit(function_ast)\n",
    "    return annotated_function_ast"
   ]
  },
  {
   "cell_type": "markdown",
   "metadata": {
    "slideshow": {
     "slide_type": "skip"
    },
    "solution2": "hidden"
   },
   "source": [
    "Part 2: Preconditions"
   ]
  },
  {
   "cell_type": "code",
   "execution_count": 237,
   "metadata": {
    "execution": {
     "iopub.execute_input": "2025-10-26T17:48:32.062951Z",
     "iopub.status.busy": "2025-10-26T17:48:32.062872Z",
     "iopub.status.idle": "2025-10-26T17:48:32.065681Z",
     "shell.execute_reply": "2025-10-26T17:48:32.065454Z"
    },
    "slideshow": {
     "slide_type": "skip"
    },
    "solution2": "hidden"
   },
   "outputs": [],
   "source": [
    "class PreconditionTransformer(ast.NodeTransformer):\n",
    "    def __init__(self, invariants: Invariants) -> None:\n",
    "        self.invariants = invariants\n",
    "        super().__init__()\n",
    "\n",
    "    def preconditions(self) -> List[ast.stmt]:\n",
    "        preconditions = []\n",
    "        for (prop, var_names) in self.invariants:\n",
    "            assertion = \"assert \" + instantiate_prop(prop, var_names) + ', \"violated precondition\"'\n",
    "            assertion_ast = ast.parse(assertion)\n",
    "\n",
    "            if assertion.find(RETURN_VALUE) < 0:\n",
    "                preconditions += assertion_ast.body\n",
    "\n",
    "        return preconditions\n",
    "\n",
    "    def insert_assertions(self, body: List[ast.stmt]) -> List[ast.stmt]:\n",
    "        preconditions = self.preconditions()\n",
    "        try:\n",
    "            docstring = cast(ast.Constant, body[0]).value.s\n",
    "        except:\n",
    "            docstring = None\n",
    "\n",
    "        if docstring:\n",
    "            return [body[0]] + preconditions + body[1:]\n",
    "        else:\n",
    "            return preconditions + body\n",
    "\n",
    "    def visit_FunctionDef(self, node: ast.FunctionDef) -> ast.FunctionDef:\n",
    "        \"\"\"Add invariants to function\"\"\"\n",
    "        # print(ast.dump(node))\n",
    "        node.body = self.insert_assertions(node.body)\n",
    "        return node    "
   ]
  },
  {
   "cell_type": "code",
   "execution_count": 238,
   "metadata": {
    "execution": {
     "iopub.execute_input": "2025-10-26T17:48:32.066790Z",
     "iopub.status.busy": "2025-10-26T17:48:32.066713Z",
     "iopub.status.idle": "2025-10-26T17:48:32.068170Z",
     "shell.execute_reply": "2025-10-26T17:48:32.067946Z"
    },
    "slideshow": {
     "slide_type": "skip"
    },
    "solution2": "hidden"
   },
   "outputs": [],
   "source": [
    "class EmbeddedInvariantTransformer(PreconditionTransformer):\n",
    "    pass"
   ]
  },
  {
   "cell_type": "code",
   "execution_count": 239,
   "metadata": {
    "execution": {
     "iopub.execute_input": "2025-10-26T17:48:32.069327Z",
     "iopub.status.busy": "2025-10-26T17:48:32.069244Z",
     "iopub.status.idle": "2025-10-26T17:48:32.070955Z",
     "shell.execute_reply": "2025-10-26T17:48:32.070689Z"
    },
    "slideshow": {
     "slide_type": "skip"
    },
    "solution2": "hidden"
   },
   "outputs": [],
   "source": [
    "with EmbeddedInvariantAnnotator() as annotator:\n",
    "    square_root(5)"
   ]
  },
  {
   "cell_type": "code",
   "execution_count": 240,
   "metadata": {
    "execution": {
     "iopub.execute_input": "2025-10-26T17:48:32.072092Z",
     "iopub.status.busy": "2025-10-26T17:48:32.071985Z",
     "iopub.status.idle": "2025-10-26T17:48:32.088065Z",
     "shell.execute_reply": "2025-10-26T17:48:32.087827Z"
    },
    "slideshow": {
     "slide_type": "skip"
    },
    "solution2": "hidden"
   },
   "outputs": [
    {
     "name": "stdout",
     "output_type": "stream",
     "text": [
      "\u001b[34mdef\u001b[39;49;00m\u001b[37m \u001b[39;49;00m\u001b[32msquare_root\u001b[39;49;00m(x):\u001b[37m\u001b[39;49;00m\n",
      "\u001b[37m    \u001b[39;49;00m\u001b[33m\"\"\"Computes the square root of x, using the Newton-Raphson method\"\"\"\u001b[39;49;00m\u001b[37m\u001b[39;49;00m\n",
      "    \u001b[34massert\u001b[39;49;00m \u001b[36misinstance\u001b[39;49;00m(x, \u001b[36mint\u001b[39;49;00m), \u001b[33m'\u001b[39;49;00m\u001b[33mviolated precondition\u001b[39;49;00m\u001b[33m'\u001b[39;49;00m\u001b[37m\u001b[39;49;00m\n",
      "    \u001b[34massert\u001b[39;49;00m x >= \u001b[34m0\u001b[39;49;00m, \u001b[33m'\u001b[39;49;00m\u001b[33mviolated precondition\u001b[39;49;00m\u001b[33m'\u001b[39;49;00m\u001b[37m\u001b[39;49;00m\n",
      "    \u001b[34massert\u001b[39;49;00m x > \u001b[34m0\u001b[39;49;00m, \u001b[33m'\u001b[39;49;00m\u001b[33mviolated precondition\u001b[39;49;00m\u001b[33m'\u001b[39;49;00m\u001b[37m\u001b[39;49;00m\n",
      "    \u001b[34massert\u001b[39;49;00m x, \u001b[33m'\u001b[39;49;00m\u001b[33mviolated precondition\u001b[39;49;00m\u001b[33m'\u001b[39;49;00m\u001b[37m\u001b[39;49;00m\n",
      "    approx = \u001b[34mNone\u001b[39;49;00m\u001b[37m\u001b[39;49;00m\n",
      "    guess = x / \u001b[34m2\u001b[39;49;00m\u001b[37m\u001b[39;49;00m\n",
      "    \u001b[34mwhile\u001b[39;49;00m approx != guess:\u001b[37m\u001b[39;49;00m\n",
      "        approx = guess\u001b[37m\u001b[39;49;00m\n",
      "        guess = (approx + x / approx) / \u001b[34m2\u001b[39;49;00m\u001b[37m\u001b[39;49;00m\n",
      "    \u001b[34mreturn\u001b[39;49;00m approx\u001b[37m\u001b[39;49;00m"
     ]
    },
    {
     "name": "stderr",
     "output_type": "stream",
     "text": [
      "/var/folders/n2/xd9445p97rb3xh7m1dfx8_4h0006ts/T/ipykernel_52062/1454548230.py:20: DeprecationWarning: Attribute s is deprecated and will be removed in Python 3.14; use value instead\n",
      "  docstring = cast(ast.Constant, body[0]).value.s\n"
     ]
    }
   ],
   "source": [
    "print_content(annotator.function_with_invariants('square_root'), '.py')"
   ]
  },
  {
   "cell_type": "code",
   "execution_count": 241,
   "metadata": {
    "execution": {
     "iopub.execute_input": "2025-10-26T17:48:32.089362Z",
     "iopub.status.busy": "2025-10-26T17:48:32.089277Z",
     "iopub.status.idle": "2025-10-26T17:48:32.091150Z",
     "shell.execute_reply": "2025-10-26T17:48:32.090924Z"
    },
    "slideshow": {
     "slide_type": "skip"
    },
    "solution2": "hidden"
   },
   "outputs": [],
   "source": [
    "with EmbeddedInvariantAnnotator() as annotator:\n",
    "    y = sum3(3, 4, 5)\n",
    "    y = sum3(-3, -4, -5)\n",
    "    y = sum3(0, 0, 0)"
   ]
  },
  {
   "cell_type": "code",
   "execution_count": 242,
   "metadata": {
    "execution": {
     "iopub.execute_input": "2025-10-26T17:48:32.092259Z",
     "iopub.status.busy": "2025-10-26T17:48:32.092182Z",
     "iopub.status.idle": "2025-10-26T17:48:32.110610Z",
     "shell.execute_reply": "2025-10-26T17:48:32.109983Z"
    },
    "slideshow": {
     "slide_type": "skip"
    },
    "solution2": "hidden"
   },
   "outputs": [
    {
     "name": "stdout",
     "output_type": "stream",
     "text": [
      "\u001b[34mdef\u001b[39;49;00m\u001b[37m \u001b[39;49;00m\u001b[32msum3\u001b[39;49;00m(a, b, c):\u001b[37m\u001b[39;49;00m\n",
      "    \u001b[34massert\u001b[39;49;00m \u001b[36misinstance\u001b[39;49;00m(b, \u001b[36mint\u001b[39;49;00m), \u001b[33m'\u001b[39;49;00m\u001b[33mviolated precondition\u001b[39;49;00m\u001b[33m'\u001b[39;49;00m\u001b[37m\u001b[39;49;00m\n",
      "    \u001b[34massert\u001b[39;49;00m \u001b[36misinstance\u001b[39;49;00m(c, \u001b[36mint\u001b[39;49;00m), \u001b[33m'\u001b[39;49;00m\u001b[33mviolated precondition\u001b[39;49;00m\u001b[33m'\u001b[39;49;00m\u001b[37m\u001b[39;49;00m\n",
      "    \u001b[34massert\u001b[39;49;00m \u001b[36misinstance\u001b[39;49;00m(a, \u001b[36mint\u001b[39;49;00m), \u001b[33m'\u001b[39;49;00m\u001b[33mviolated precondition\u001b[39;49;00m\u001b[33m'\u001b[39;49;00m\u001b[37m\u001b[39;49;00m\n",
      "    \u001b[34mreturn\u001b[39;49;00m a + b + c\u001b[37m\u001b[39;49;00m"
     ]
    }
   ],
   "source": [
    "print_content(annotator.function_with_invariants('sum3'), '.py')"
   ]
  },
  {
   "cell_type": "markdown",
   "metadata": {
    "slideshow": {
     "slide_type": "skip"
    },
    "solution2": "hidden"
   },
   "source": [
    "Part 3: Postconditions\n",
    "\n",
    "We make a few simplifying assumptions: \n",
    "\n",
    "* Variables do not change during execution.\n",
    "* There is a single `return` statement at the end of the function."
   ]
  },
  {
   "cell_type": "code",
   "execution_count": 243,
   "metadata": {
    "execution": {
     "iopub.execute_input": "2025-10-26T17:48:32.112145Z",
     "iopub.status.busy": "2025-10-26T17:48:32.112030Z",
     "iopub.status.idle": "2025-10-26T17:48:32.114947Z",
     "shell.execute_reply": "2025-10-26T17:48:32.114721Z"
    },
    "slideshow": {
     "slide_type": "skip"
    },
    "solution2": "hidden"
   },
   "outputs": [],
   "source": [
    "class EmbeddedInvariantTransformer(EmbeddedInvariantTransformer):\n",
    "    def postconditions(self) -> List[ast.stmt]:\n",
    "        postconditions = []\n",
    "\n",
    "        for (prop, var_names) in self.invariants:\n",
    "            assertion = (\"assert \" + instantiate_prop(prop, var_names) +\n",
    "                         ', \"violated postcondition\"')\n",
    "            assertion_ast = ast.parse(assertion)\n",
    "\n",
    "            if assertion.find(RETURN_VALUE) >= 0:\n",
    "                postconditions += assertion_ast.body\n",
    "\n",
    "        return postconditions\n",
    "\n",
    "    def insert_assertions(self, body: List[ast.stmt]) -> List[ast.stmt]:\n",
    "        new_body = super().insert_assertions(body)\n",
    "        postconditions = self.postconditions()\n",
    "\n",
    "        body_ends_with_return = isinstance(new_body[-1], ast.Return)\n",
    "        if body_ends_with_return:\n",
    "            ret_val = cast(ast.Return, new_body[-1]).value\n",
    "            saver = RETURN_VALUE + \" = \" + ast.unparse(cast(ast.AST, ret_val))\n",
    "        else:\n",
    "            saver = RETURN_VALUE + \" = None\"\n",
    "\n",
    "        saver_ast = cast(ast.stmt, ast.parse(saver))\n",
    "        postconditions = [saver_ast] + postconditions\n",
    "\n",
    "        if body_ends_with_return:\n",
    "            return new_body[:-1] + postconditions + [new_body[-1]]\n",
    "        else:\n",
    "            return new_body + postconditions"
   ]
  },
  {
   "cell_type": "code",
   "execution_count": 244,
   "metadata": {
    "execution": {
     "iopub.execute_input": "2025-10-26T17:48:32.116154Z",
     "iopub.status.busy": "2025-10-26T17:48:32.116054Z",
     "iopub.status.idle": "2025-10-26T17:48:32.117598Z",
     "shell.execute_reply": "2025-10-26T17:48:32.117358Z"
    },
    "slideshow": {
     "slide_type": "skip"
    },
    "solution2": "hidden"
   },
   "outputs": [],
   "source": [
    "with EmbeddedInvariantAnnotator() as annotator:\n",
    "    square_root(5)"
   ]
  },
  {
   "cell_type": "code",
   "execution_count": 245,
   "metadata": {
    "execution": {
     "iopub.execute_input": "2025-10-26T17:48:32.118758Z",
     "iopub.status.busy": "2025-10-26T17:48:32.118679Z",
     "iopub.status.idle": "2025-10-26T17:48:32.122765Z",
     "shell.execute_reply": "2025-10-26T17:48:32.122573Z"
    },
    "slideshow": {
     "slide_type": "skip"
    },
    "solution2": "hidden"
   },
   "outputs": [
    {
     "name": "stderr",
     "output_type": "stream",
     "text": [
      "/var/folders/n2/xd9445p97rb3xh7m1dfx8_4h0006ts/T/ipykernel_52062/1454548230.py:20: DeprecationWarning: Attribute s is deprecated and will be removed in Python 3.14; use value instead\n",
      "  docstring = cast(ast.Constant, body[0]).value.s\n"
     ]
    }
   ],
   "source": [
    "square_root_def = annotator.function_with_invariants('square_root')"
   ]
  },
  {
   "cell_type": "markdown",
   "metadata": {
    "slideshow": {
     "slide_type": "skip"
    },
    "solution2": "hidden"
   },
   "source": [
    "Here's the full definition with included assertions:"
   ]
  },
  {
   "cell_type": "code",
   "execution_count": 246,
   "metadata": {
    "execution": {
     "iopub.execute_input": "2025-10-26T17:48:32.123911Z",
     "iopub.status.busy": "2025-10-26T17:48:32.123841Z",
     "iopub.status.idle": "2025-10-26T17:48:32.136332Z",
     "shell.execute_reply": "2025-10-26T17:48:32.136120Z"
    },
    "slideshow": {
     "slide_type": "skip"
    },
    "solution2": "hidden"
   },
   "outputs": [
    {
     "name": "stdout",
     "output_type": "stream",
     "text": [
      "\u001b[34mdef\u001b[39;49;00m\u001b[37m \u001b[39;49;00m\u001b[32msquare_root\u001b[39;49;00m(x):\u001b[37m\u001b[39;49;00m\n",
      "\u001b[37m    \u001b[39;49;00m\u001b[33m\"\"\"Computes the square root of x, using the Newton-Raphson method\"\"\"\u001b[39;49;00m\u001b[37m\u001b[39;49;00m\n",
      "    \u001b[34massert\u001b[39;49;00m \u001b[36misinstance\u001b[39;49;00m(x, \u001b[36mint\u001b[39;49;00m), \u001b[33m'\u001b[39;49;00m\u001b[33mviolated precondition\u001b[39;49;00m\u001b[33m'\u001b[39;49;00m\u001b[37m\u001b[39;49;00m\n",
      "    \u001b[34massert\u001b[39;49;00m x >= \u001b[34m0\u001b[39;49;00m, \u001b[33m'\u001b[39;49;00m\u001b[33mviolated precondition\u001b[39;49;00m\u001b[33m'\u001b[39;49;00m\u001b[37m\u001b[39;49;00m\n",
      "    \u001b[34massert\u001b[39;49;00m x > \u001b[34m0\u001b[39;49;00m, \u001b[33m'\u001b[39;49;00m\u001b[33mviolated precondition\u001b[39;49;00m\u001b[33m'\u001b[39;49;00m\u001b[37m\u001b[39;49;00m\n",
      "    \u001b[34massert\u001b[39;49;00m x, \u001b[33m'\u001b[39;49;00m\u001b[33mviolated precondition\u001b[39;49;00m\u001b[33m'\u001b[39;49;00m\u001b[37m\u001b[39;49;00m\n",
      "    approx = \u001b[34mNone\u001b[39;49;00m\u001b[37m\u001b[39;49;00m\n",
      "    guess = x / \u001b[34m2\u001b[39;49;00m\u001b[37m\u001b[39;49;00m\n",
      "    \u001b[34mwhile\u001b[39;49;00m approx != guess:\u001b[37m\u001b[39;49;00m\n",
      "        approx = guess\u001b[37m\u001b[39;49;00m\n",
      "        guess = (approx + x / approx) / \u001b[34m2\u001b[39;49;00m\u001b[37m\u001b[39;49;00m\n",
      "    return_value = approx\u001b[37m\u001b[39;49;00m\n",
      "    \u001b[34massert\u001b[39;49;00m return_value < x, \u001b[33m'\u001b[39;49;00m\u001b[33mviolated postcondition\u001b[39;49;00m\u001b[33m'\u001b[39;49;00m\u001b[37m\u001b[39;49;00m\n",
      "    \u001b[34massert\u001b[39;49;00m \u001b[36misinstance\u001b[39;49;00m(return_value, \u001b[36mfloat\u001b[39;49;00m), \u001b[33m'\u001b[39;49;00m\u001b[33mviolated postcondition\u001b[39;49;00m\u001b[33m'\u001b[39;49;00m\u001b[37m\u001b[39;49;00m\n",
      "    \u001b[34massert\u001b[39;49;00m return_value, \u001b[33m'\u001b[39;49;00m\u001b[33mviolated postcondition\u001b[39;49;00m\u001b[33m'\u001b[39;49;00m\u001b[37m\u001b[39;49;00m\n",
      "    \u001b[34massert\u001b[39;49;00m x > return_value, \u001b[33m'\u001b[39;49;00m\u001b[33mviolated postcondition\u001b[39;49;00m\u001b[33m'\u001b[39;49;00m\u001b[37m\u001b[39;49;00m\n",
      "    \u001b[34massert\u001b[39;49;00m return_value <= x, \u001b[33m'\u001b[39;49;00m\u001b[33mviolated postcondition\u001b[39;49;00m\u001b[33m'\u001b[39;49;00m\u001b[37m\u001b[39;49;00m\n",
      "    \u001b[34massert\u001b[39;49;00m return_value >= \u001b[34m0\u001b[39;49;00m, \u001b[33m'\u001b[39;49;00m\u001b[33mviolated postcondition\u001b[39;49;00m\u001b[33m'\u001b[39;49;00m\u001b[37m\u001b[39;49;00m\n",
      "    \u001b[34massert\u001b[39;49;00m return_value > \u001b[34m0\u001b[39;49;00m, \u001b[33m'\u001b[39;49;00m\u001b[33mviolated postcondition\u001b[39;49;00m\u001b[33m'\u001b[39;49;00m\u001b[37m\u001b[39;49;00m\n",
      "    \u001b[34massert\u001b[39;49;00m x >= return_value, \u001b[33m'\u001b[39;49;00m\u001b[33mviolated postcondition\u001b[39;49;00m\u001b[33m'\u001b[39;49;00m\u001b[37m\u001b[39;49;00m\n",
      "    \u001b[34mreturn\u001b[39;49;00m approx\u001b[37m\u001b[39;49;00m"
     ]
    }
   ],
   "source": [
    "print_content(square_root_def, '.py')"
   ]
  },
  {
   "cell_type": "code",
   "execution_count": 247,
   "metadata": {
    "execution": {
     "iopub.execute_input": "2025-10-26T17:48:32.137444Z",
     "iopub.status.busy": "2025-10-26T17:48:32.137366Z",
     "iopub.status.idle": "2025-10-26T17:48:32.138917Z",
     "shell.execute_reply": "2025-10-26T17:48:32.138664Z"
    },
    "slideshow": {
     "slide_type": "skip"
    },
    "solution2": "hidden"
   },
   "outputs": [],
   "source": [
    "exec(square_root_def.replace('square_root', 'square_root_annotated'))"
   ]
  },
  {
   "cell_type": "code",
   "execution_count": 248,
   "metadata": {
    "execution": {
     "iopub.execute_input": "2025-10-26T17:48:32.140005Z",
     "iopub.status.busy": "2025-10-26T17:48:32.139936Z",
     "iopub.status.idle": "2025-10-26T17:48:32.141420Z",
     "shell.execute_reply": "2025-10-26T17:48:32.141211Z"
    },
    "slideshow": {
     "slide_type": "skip"
    },
    "solution2": "hidden"
   },
   "outputs": [
    {
     "name": "stderr",
     "output_type": "stream",
     "text": [
      "Traceback (most recent call last):\n",
      "  File \"/var/folders/n2/xd9445p97rb3xh7m1dfx8_4h0006ts/T/ipykernel_52062/1293367810.py\", line 2, in <module>\n",
      "    square_root_annotated(-1)\n",
      "    ~~~~~~~~~~~~~~~~~~~~~^^^^\n",
      "  File \"<string>\", line 4, in square_root_annotated\n",
      "AssertionError: violated precondition (expected)\n"
     ]
    }
   ],
   "source": [
    "with ExpectError():\n",
    "    square_root_annotated(-1)"
   ]
  },
  {
   "cell_type": "markdown",
   "metadata": {
    "slideshow": {
     "slide_type": "skip"
    },
    "solution2": "hidden"
   },
   "source": [
    "Here come some more examples:"
   ]
  },
  {
   "cell_type": "code",
   "execution_count": 249,
   "metadata": {
    "execution": {
     "iopub.execute_input": "2025-10-26T17:48:32.142525Z",
     "iopub.status.busy": "2025-10-26T17:48:32.142438Z",
     "iopub.status.idle": "2025-10-26T17:48:32.144138Z",
     "shell.execute_reply": "2025-10-26T17:48:32.143919Z"
    },
    "slideshow": {
     "slide_type": "skip"
    },
    "solution2": "hidden"
   },
   "outputs": [],
   "source": [
    "with EmbeddedInvariantAnnotator() as annotator:\n",
    "    y = sum3(3, 4, 5)\n",
    "    y = sum3(-3, -4, -5)\n",
    "    y = sum3(0, 0, 0)"
   ]
  },
  {
   "cell_type": "code",
   "execution_count": 250,
   "metadata": {
    "execution": {
     "iopub.execute_input": "2025-10-26T17:48:32.145239Z",
     "iopub.status.busy": "2025-10-26T17:48:32.145165Z",
     "iopub.status.idle": "2025-10-26T17:48:32.162370Z",
     "shell.execute_reply": "2025-10-26T17:48:32.162125Z"
    },
    "slideshow": {
     "slide_type": "skip"
    },
    "solution2": "hidden"
   },
   "outputs": [
    {
     "name": "stdout",
     "output_type": "stream",
     "text": [
      "\u001b[34mdef\u001b[39;49;00m\u001b[37m \u001b[39;49;00m\u001b[32msum3\u001b[39;49;00m(a, b, c):\u001b[37m\u001b[39;49;00m\n",
      "    \u001b[34massert\u001b[39;49;00m \u001b[36misinstance\u001b[39;49;00m(b, \u001b[36mint\u001b[39;49;00m), \u001b[33m'\u001b[39;49;00m\u001b[33mviolated precondition\u001b[39;49;00m\u001b[33m'\u001b[39;49;00m\u001b[37m\u001b[39;49;00m\n",
      "    \u001b[34massert\u001b[39;49;00m \u001b[36misinstance\u001b[39;49;00m(c, \u001b[36mint\u001b[39;49;00m), \u001b[33m'\u001b[39;49;00m\u001b[33mviolated precondition\u001b[39;49;00m\u001b[33m'\u001b[39;49;00m\u001b[37m\u001b[39;49;00m\n",
      "    \u001b[34massert\u001b[39;49;00m \u001b[36misinstance\u001b[39;49;00m(a, \u001b[36mint\u001b[39;49;00m), \u001b[33m'\u001b[39;49;00m\u001b[33mviolated precondition\u001b[39;49;00m\u001b[33m'\u001b[39;49;00m\u001b[37m\u001b[39;49;00m\n",
      "    return_value = a + b + c\u001b[37m\u001b[39;49;00m\n",
      "    \u001b[34massert\u001b[39;49;00m \u001b[36misinstance\u001b[39;49;00m(return_value, \u001b[36mint\u001b[39;49;00m), \u001b[33m'\u001b[39;49;00m\u001b[33mviolated postcondition\u001b[39;49;00m\u001b[33m'\u001b[39;49;00m\u001b[37m\u001b[39;49;00m\n",
      "    \u001b[34mreturn\u001b[39;49;00m a + b + c\u001b[37m\u001b[39;49;00m"
     ]
    }
   ],
   "source": [
    "print_content(annotator.function_with_invariants('sum3'), '.py')"
   ]
  },
  {
   "cell_type": "code",
   "execution_count": 251,
   "metadata": {
    "execution": {
     "iopub.execute_input": "2025-10-26T17:48:32.163594Z",
     "iopub.status.busy": "2025-10-26T17:48:32.163506Z",
     "iopub.status.idle": "2025-10-26T17:48:32.181650Z",
     "shell.execute_reply": "2025-10-26T17:48:32.181417Z"
    },
    "slideshow": {
     "slide_type": "skip"
    },
    "solution2": "hidden"
   },
   "outputs": [
    {
     "name": "stdout",
     "output_type": "stream",
     "text": [
      "\u001b[34mdef\u001b[39;49;00m\u001b[37m \u001b[39;49;00m\u001b[32mlist_length\u001b[39;49;00m(elems: List[Any]) -> \u001b[36mint\u001b[39;49;00m:\u001b[37m\u001b[39;49;00m\n",
      "    \u001b[34massert\u001b[39;49;00m \u001b[36misinstance\u001b[39;49;00m(elems, \u001b[36mlist\u001b[39;49;00m), \u001b[33m'\u001b[39;49;00m\u001b[33mviolated precondition\u001b[39;49;00m\u001b[33m'\u001b[39;49;00m\u001b[37m\u001b[39;49;00m\n",
      "    \u001b[34mif\u001b[39;49;00m elems == []:\u001b[37m\u001b[39;49;00m\n",
      "        length = \u001b[34m0\u001b[39;49;00m\u001b[37m\u001b[39;49;00m\n",
      "    \u001b[34melse\u001b[39;49;00m:\u001b[37m\u001b[39;49;00m\n",
      "        length = \u001b[34m1\u001b[39;49;00m + list_length(elems[\u001b[34m1\u001b[39;49;00m:])\u001b[37m\u001b[39;49;00m\n",
      "    return_value = length\u001b[37m\u001b[39;49;00m\n",
      "    \u001b[34massert\u001b[39;49;00m return_value >= \u001b[34m0\u001b[39;49;00m, \u001b[33m'\u001b[39;49;00m\u001b[33mviolated postcondition\u001b[39;49;00m\u001b[33m'\u001b[39;49;00m\u001b[37m\u001b[39;49;00m\n",
      "    \u001b[34massert\u001b[39;49;00m return_value == \u001b[36mlen\u001b[39;49;00m(elems), \u001b[33m'\u001b[39;49;00m\u001b[33mviolated postcondition\u001b[39;49;00m\u001b[33m'\u001b[39;49;00m\u001b[37m\u001b[39;49;00m\n",
      "    \u001b[34massert\u001b[39;49;00m \u001b[36misinstance\u001b[39;49;00m(return_value, \u001b[36mint\u001b[39;49;00m), \u001b[33m'\u001b[39;49;00m\u001b[33mviolated postcondition\u001b[39;49;00m\u001b[33m'\u001b[39;49;00m\u001b[37m\u001b[39;49;00m\n",
      "    \u001b[34mreturn\u001b[39;49;00m length\u001b[37m\u001b[39;49;00m"
     ]
    }
   ],
   "source": [
    "with EmbeddedInvariantAnnotator() as annotator:\n",
    "    length = list_length([1, 2, 3])\n",
    "\n",
    "print_content(annotator.function_with_invariants('list_length'), '.py')"
   ]
  },
  {
   "cell_type": "code",
   "execution_count": 252,
   "metadata": {
    "execution": {
     "iopub.execute_input": "2025-10-26T17:48:32.182894Z",
     "iopub.status.busy": "2025-10-26T17:48:32.182811Z",
     "iopub.status.idle": "2025-10-26T17:48:32.184837Z",
     "shell.execute_reply": "2025-10-26T17:48:32.184645Z"
    },
    "slideshow": {
     "slide_type": "skip"
    },
    "solution2": "hidden"
   },
   "outputs": [
    {
     "name": "stdout",
     "output_type": "stream",
     "text": [
      "76\n"
     ]
    }
   ],
   "source": [
    "with EmbeddedInvariantAnnotator() as annotator:\n",
    "    print_sum(31, 45)"
   ]
  },
  {
   "cell_type": "code",
   "execution_count": 253,
   "metadata": {
    "execution": {
     "iopub.execute_input": "2025-10-26T17:48:32.185970Z",
     "iopub.status.busy": "2025-10-26T17:48:32.185896Z",
     "iopub.status.idle": "2025-10-26T17:48:32.202273Z",
     "shell.execute_reply": "2025-10-26T17:48:32.201928Z"
    },
    "slideshow": {
     "slide_type": "skip"
    },
    "solution2": "hidden"
   },
   "outputs": [
    {
     "name": "stdout",
     "output_type": "stream",
     "text": [
      "\u001b[34mdef\u001b[39;49;00m\u001b[37m \u001b[39;49;00m\u001b[32mprint_sum\u001b[39;49;00m(a, b):\u001b[37m\u001b[39;49;00m\n",
      "    \u001b[34massert\u001b[39;49;00m a > \u001b[34m0\u001b[39;49;00m, \u001b[33m'\u001b[39;49;00m\u001b[33mviolated precondition\u001b[39;49;00m\u001b[33m'\u001b[39;49;00m\u001b[37m\u001b[39;49;00m\n",
      "    \u001b[34massert\u001b[39;49;00m b >= \u001b[34m0\u001b[39;49;00m, \u001b[33m'\u001b[39;49;00m\u001b[33mviolated precondition\u001b[39;49;00m\u001b[33m'\u001b[39;49;00m\u001b[37m\u001b[39;49;00m\n",
      "    \u001b[34massert\u001b[39;49;00m b >= a, \u001b[33m'\u001b[39;49;00m\u001b[33mviolated precondition\u001b[39;49;00m\u001b[33m'\u001b[39;49;00m\u001b[37m\u001b[39;49;00m\n",
      "    \u001b[34massert\u001b[39;49;00m \u001b[36misinstance\u001b[39;49;00m(b, \u001b[36mint\u001b[39;49;00m), \u001b[33m'\u001b[39;49;00m\u001b[33mviolated precondition\u001b[39;49;00m\u001b[33m'\u001b[39;49;00m\u001b[37m\u001b[39;49;00m\n",
      "    \u001b[34massert\u001b[39;49;00m b > \u001b[34m0\u001b[39;49;00m, \u001b[33m'\u001b[39;49;00m\u001b[33mviolated precondition\u001b[39;49;00m\u001b[33m'\u001b[39;49;00m\u001b[37m\u001b[39;49;00m\n",
      "    \u001b[34massert\u001b[39;49;00m a, \u001b[33m'\u001b[39;49;00m\u001b[33mviolated precondition\u001b[39;49;00m\u001b[33m'\u001b[39;49;00m\u001b[37m\u001b[39;49;00m\n",
      "    \u001b[34massert\u001b[39;49;00m a >= \u001b[34m0\u001b[39;49;00m, \u001b[33m'\u001b[39;49;00m\u001b[33mviolated precondition\u001b[39;49;00m\u001b[33m'\u001b[39;49;00m\u001b[37m\u001b[39;49;00m\n",
      "    \u001b[34massert\u001b[39;49;00m a < b, \u001b[33m'\u001b[39;49;00m\u001b[33mviolated precondition\u001b[39;49;00m\u001b[33m'\u001b[39;49;00m\u001b[37m\u001b[39;49;00m\n",
      "    \u001b[34massert\u001b[39;49;00m \u001b[36misinstance\u001b[39;49;00m(a, \u001b[36mint\u001b[39;49;00m), \u001b[33m'\u001b[39;49;00m\u001b[33mviolated precondition\u001b[39;49;00m\u001b[33m'\u001b[39;49;00m\u001b[37m\u001b[39;49;00m\n",
      "    \u001b[34massert\u001b[39;49;00m a <= b, \u001b[33m'\u001b[39;49;00m\u001b[33mviolated precondition\u001b[39;49;00m\u001b[33m'\u001b[39;49;00m\u001b[37m\u001b[39;49;00m\n",
      "    \u001b[34massert\u001b[39;49;00m b > a, \u001b[33m'\u001b[39;49;00m\u001b[33mviolated precondition\u001b[39;49;00m\u001b[33m'\u001b[39;49;00m\u001b[37m\u001b[39;49;00m\n",
      "    \u001b[34massert\u001b[39;49;00m b, \u001b[33m'\u001b[39;49;00m\u001b[33mviolated precondition\u001b[39;49;00m\u001b[33m'\u001b[39;49;00m\u001b[37m\u001b[39;49;00m\n",
      "    \u001b[36mprint\u001b[39;49;00m(a + b)\u001b[37m\u001b[39;49;00m\n",
      "    return_value = \u001b[34mNone\u001b[39;49;00m\u001b[37m\u001b[39;49;00m\n",
      "    \u001b[34massert\u001b[39;49;00m \u001b[35mnot\u001b[39;49;00m return_value, \u001b[33m'\u001b[39;49;00m\u001b[33mviolated postcondition\u001b[39;49;00m\u001b[33m'\u001b[39;49;00m\u001b[37m\u001b[39;49;00m"
     ]
    }
   ],
   "source": [
    "print_content(annotator.function_with_invariants('print_sum'), '.py')"
   ]
  },
  {
   "cell_type": "markdown",
   "metadata": {
    "slideshow": {
     "slide_type": "skip"
    },
    "solution2": "hidden"
   },
   "source": [
    "And we're done!"
   ]
  },
  {
   "cell_type": "markdown",
   "metadata": {
    "slideshow": {
     "slide_type": "subslide"
    },
    "solution2": "hidden",
    "solution2_first": true
   },
   "source": [
    "### Exercise 8: Grammar-Generated Properties\n",
    "\n",
    "The larger the set of properties to be checked, the more potential invariants can be discovered.  Create a _grammar_ that systematically produces a large set of properties.  See \\cite{Ernst2001} for possible patterns."
   ]
  },
  {
   "cell_type": "markdown",
   "metadata": {
    "slideshow": {
     "slide_type": "subslide"
    },
    "solution2": "hidden",
    "solution2_first": true
   },
   "source": [
    "### Exercise 9: Loop Invariants\n",
    "\n",
    "This is not so much a problem in debugging, but rather for _symbolic verification_. A _loop invariant_ is a property that holds for every iteration of a loop, such as\n",
    "\n",
    "```python\n",
    "assert tag or not quote\n",
    "```\n",
    "\n",
    "for `remove_html_markup()`. Create an annotator that determines and adds loop invariants for `for` and `while` loops."
   ]
  },
  {
   "cell_type": "markdown",
   "metadata": {
    "slideshow": {
     "slide_type": "subslide"
    },
    "solution2": "hidden",
    "solution2_first": true
   },
   "source": [
    "### Exercise 10: Path Invariants\n",
    "\n",
    "A _path invariant_ is a property that holds for taking a particular path, such as\n",
    "\n",
    "```python\n",
    "assert y < x < z\n",
    "```\n",
    "\n",
    "for the second (erroneous) `return y` statement of the `middle()` function. Create an annotator that adds path invariants (expressed over the preconditions that hold when taking this particular branch) for every `if` statement in the code."
   ]
  }
 ],
 "metadata": {
  "ipub": {
   "bibliography": "fuzzingbook.bib",
   "toc": true
  },
  "kernelspec": {
   "display_name": "Python 3 (ipykernel)",
   "language": "python",
   "name": "python3"
  },
  "language_info": {
   "codemirror_mode": {
    "name": "ipython",
    "version": 3
   },
   "file_extension": ".py",
   "mimetype": "text/x-python",
   "name": "python",
   "nbconvert_exporter": "python",
   "pygments_lexer": "ipython3",
   "version": "3.13.4"
  },
  "toc": {
   "base_numbering": 1,
   "nav_menu": {},
   "number_sections": true,
   "sideBar": true,
   "skip_h1_title": true,
   "title_cell": "",
   "title_sidebar": "Contents",
   "toc_cell": false,
   "toc_position": {},
   "toc_section_display": true,
   "toc_window_display": true
  },
  "toc-autonumbering": false
 },
 "nbformat": 4,
 "nbformat_minor": 4
}