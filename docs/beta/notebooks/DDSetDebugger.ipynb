{
 "cells": [
  {
   "attachments": {},
   "cell_type": "markdown",
   "metadata": {
    "button": false,
    "new_sheet": false,
    "run_control": {
     "read_only": false
    },
    "slideshow": {
     "slide_type": "slide"
    }
   },
   "source": [
    "# Generalizing Failure Circumstances\n",
    "\n",
    "One central question in debugging is: _Does this bug occur in other situations, too?_ In this chapter, we present a technique that is set to _generalize_ the circumstances under which a failure occurs. The DDSET algorithm takes a failure-inducing input, breaks it into individual elements. For each element, it tries to find whether it can be replaced by others in the same category, and if so, it _generalizes_ the concrete element to the very category. The result is a _pattern_ that characterizes the failure condition: \"The failure occurs for all inputs of the form `(<expr> * <expr>)`\"."
   ]
  },
  {
   "cell_type": "code",
   "execution_count": 1,
   "metadata": {
    "execution": {
     "iopub.execute_input": "2025-10-26T17:48:38.405908Z",
     "iopub.status.busy": "2025-10-26T17:48:38.405723Z",
     "iopub.status.idle": "2025-10-26T17:48:39.075021Z",
     "shell.execute_reply": "2025-10-26T17:48:39.074719Z"
    },
    "slideshow": {
     "slide_type": "skip"
    }
   },
   "outputs": [
    {
     "data": {
      "text/html": [
       "\n",
       "        <iframe\n",
       "            width=\"640\"\n",
       "            height=\"360\"\n",
       "            src=\"https://www.youtube-nocookie.com/embed/PV22XtIQU1s\"\n",
       "            frameborder=\"0\"\n",
       "            allowfullscreen\n",
       "            \n",
       "        ></iframe>\n",
       "        "
      ],
      "text/plain": [
       "<IPython.lib.display.IFrame at 0x109706f90>"
      ]
     },
     "execution_count": 1,
     "metadata": {},
     "output_type": "execute_result"
    }
   ],
   "source": [
    "from bookutils import YouTubeVideo\n",
    "YouTubeVideo(\"PV22XtIQU1s\")"
   ]
  },
  {
   "cell_type": "markdown",
   "metadata": {
    "button": false,
    "new_sheet": false,
    "run_control": {
     "read_only": false
    },
    "slideshow": {
     "slide_type": "subslide"
    }
   },
   "source": [
    "**Prerequisites**\n",
    "\n",
    "* You should have read the [chapter on _delta debugging_](DeltaDebugger.ipynb)."
   ]
  },
  {
   "cell_type": "code",
   "execution_count": 2,
   "metadata": {
    "button": false,
    "execution": {
     "iopub.execute_input": "2025-10-26T17:48:39.094075Z",
     "iopub.status.busy": "2025-10-26T17:48:39.093933Z",
     "iopub.status.idle": "2025-10-26T17:48:39.095995Z",
     "shell.execute_reply": "2025-10-26T17:48:39.095730Z"
    },
    "new_sheet": false,
    "run_control": {
     "read_only": false
    },
    "slideshow": {
     "slide_type": "skip"
    }
   },
   "outputs": [],
   "source": [
    "import bookutils.setup"
   ]
  },
  {
   "cell_type": "code",
   "execution_count": 3,
   "metadata": {
    "execution": {
     "iopub.execute_input": "2025-10-26T17:48:39.097461Z",
     "iopub.status.busy": "2025-10-26T17:48:39.097352Z",
     "iopub.status.idle": "2025-10-26T17:48:39.218152Z",
     "shell.execute_reply": "2025-10-26T17:48:39.217870Z"
    },
    "slideshow": {
     "slide_type": "skip"
    }
   },
   "outputs": [],
   "source": [
    "import DeltaDebugger"
   ]
  },
  {
   "cell_type": "markdown",
   "metadata": {
    "slideshow": {
     "slide_type": "slide"
    }
   },
   "source": [
    "## Synopsis\n",
    "To [use the code provided in this chapter](Importing.ipynb), write\n",
    "\n",
    "```python\n",
    ">>> from debuggingbook.DDSetDebugger import <identifier>\n",
    "```\n",
    "\n",
    "and then make use of the following features.\n",
    "\n",
    "**Note**: The examples in this section only work after the rest of the cells have been executed.\n"
   ]
  },
  {
   "cell_type": "markdown",
   "metadata": {
    "slideshow": {
     "slide_type": "subslide"
    }
   },
   "source": [
    "This chapter provides a class `DDSetDebugger`, implementing the DDSET algorithm for generalizing failure-inducing inputs. The `DDSetDebugger` is used as follows:\n",
    "\n",
    "```python\n",
    "with DDSetDebugger(grammar) as dd:\n",
    "    function(args...)\n",
    "dd\n",
    "```\n",
    "\n",
    "Here, `function(args...)` is a failing function call (= raises an execption) that takes at least one string argument; `grammar` is an [input grammar in fuzzingbook format](https://www.fuzzingbook.org/html/Grammars.html) that matches the format of this argument.\n",
    "\n",
    "The result is a call of `function()` with an _abstract failure-inducing input_ – a variant of the conrete input in which parts are replaced by placeholders in the form `<name>`, where `<name>` is a nonterminal in the grammar. The failure has been verified to occur for a number of instantiations of `<name>`."
   ]
  },
  {
   "cell_type": "markdown",
   "metadata": {
    "slideshow": {
     "slide_type": "subslide"
    }
   },
   "source": [
    "Here is an example of how `DDSetDebugger` works. The concrete failing input `<foo>\"bar</foo>` is generalized to an _abstract failure-inducing input_:"
   ]
  },
  {
   "cell_type": "code",
   "execution_count": 105,
   "metadata": {
    "execution": {
     "iopub.execute_input": "2025-10-26T17:48:43.527412Z",
     "iopub.status.busy": "2025-10-26T17:48:43.527330Z",
     "iopub.status.idle": "2025-10-26T17:48:43.538799Z",
     "shell.execute_reply": "2025-10-26T17:48:43.538569Z"
    },
    "slideshow": {
     "slide_type": "fragment"
    }
   },
   "outputs": [
    {
     "data": {
      "text/plain": [
       "remove_html_markup(s='<lt><id><gt>\"<plain-text><closing-tag>')"
      ]
     },
     "execution_count": 105,
     "metadata": {},
     "output_type": "execute_result"
    }
   ],
   "source": [
    "with DDSetDebugger(SIMPLE_HTML_GRAMMAR) as dd:\n",
    "    remove_html_markup('<foo>\"bar</foo>')\n",
    "dd"
   ]
  },
  {
   "cell_type": "markdown",
   "metadata": {
    "slideshow": {
     "slide_type": "fragment"
    }
   },
   "source": [
    "The abstract input tells us that the failure occurs for whatever opening and closing HTML tags as long as there is a double quote between them."
   ]
  },
  {
   "cell_type": "markdown",
   "metadata": {
    "slideshow": {
     "slide_type": "fragment"
    }
   },
   "source": [
    "A programmatic interface is available as well. `generalize()` returns a mapping of argument names to (generalized) values:"
   ]
  },
  {
   "cell_type": "code",
   "execution_count": 106,
   "metadata": {
    "execution": {
     "iopub.execute_input": "2025-10-26T17:48:43.540345Z",
     "iopub.status.busy": "2025-10-26T17:48:43.540257Z",
     "iopub.status.idle": "2025-10-26T17:48:43.542690Z",
     "shell.execute_reply": "2025-10-26T17:48:43.542430Z"
    },
    "slideshow": {
     "slide_type": "fragment"
    }
   },
   "outputs": [
    {
     "data": {
      "text/plain": [
       "{'s': '<lt><id><gt>\"<plain-text><closing-tag>'}"
      ]
     },
     "execution_count": 106,
     "metadata": {},
     "output_type": "execute_result"
    }
   ],
   "source": [
    "dd.generalize()"
   ]
  },
  {
   "cell_type": "markdown",
   "metadata": {
    "slideshow": {
     "slide_type": "subslide"
    }
   },
   "source": [
    "Using `fuzz()`, the abstract input can be instantiated to further concrete inputs, all set to produce the failure again:"
   ]
  },
  {
   "cell_type": "code",
   "execution_count": 107,
   "metadata": {
    "execution": {
     "iopub.execute_input": "2025-10-26T17:48:43.544006Z",
     "iopub.status.busy": "2025-10-26T17:48:43.543903Z",
     "iopub.status.idle": "2025-10-26T17:48:43.553560Z",
     "shell.execute_reply": "2025-10-26T17:48:43.553266Z"
    },
    "slideshow": {
     "slide_type": "fragment"
    }
   },
   "outputs": [
    {
     "name": "stdout",
     "output_type": "stream",
     "text": [
      "remove_html_markup(s='<s1d>\"1</hF>')\n",
      "remove_html_markup(s='<H>\"c*C</l>')\n",
      "remove_html_markup(s='<Ah2>\"</v>')\n",
      "remove_html_markup(s='<a7>\")</NP>')\n",
      "remove_html_markup(s='<boyIIt640TF>\"</b08>')\n",
      "remove_html_markup(s='<dF>\"</fay>')\n",
      "remove_html_markup(s='<l2>\"\\t7</z>')\n",
      "remove_html_markup(s='<ci>\"</t>')\n",
      "remove_html_markup(s='<J>\"2</t>')\n",
      "remove_html_markup(s='<Fo9g>\"\\r~\\t\\r</D>')\n"
     ]
    }
   ],
   "source": [
    "for i in range(10):\n",
    "    print(dd.fuzz())"
   ]
  },
  {
   "cell_type": "markdown",
   "metadata": {
    "slideshow": {
     "slide_type": "subslide"
    }
   },
   "source": [
    "`DDSetDebugger` can be customized by passing a subclass of `TreeGeneralizer`, which does the gist of the work; for details, see its constructor.\n",
    "The full class hierarchy is shown below."
   ]
  },
  {
   "cell_type": "code",
   "execution_count": 108,
   "metadata": {
    "execution": {
     "iopub.execute_input": "2025-10-26T17:48:43.555226Z",
     "iopub.status.busy": "2025-10-26T17:48:43.555119Z",
     "iopub.status.idle": "2025-10-26T17:48:43.556784Z",
     "shell.execute_reply": "2025-10-26T17:48:43.556554Z"
    },
    "slideshow": {
     "slide_type": "fragment"
    },
    "tags": [
     "remove-input"
    ]
   },
   "outputs": [],
   "source": [
    "# ignore\n",
    "from ClassDiagram import display_class_hierarchy"
   ]
  },
  {
   "cell_type": "code",
   "execution_count": 109,
   "metadata": {
    "execution": {
     "iopub.execute_input": "2025-10-26T17:48:43.558201Z",
     "iopub.status.busy": "2025-10-26T17:48:43.558120Z",
     "iopub.status.idle": "2025-10-26T17:48:44.430353Z",
     "shell.execute_reply": "2025-10-26T17:48:44.430020Z"
    },
    "slideshow": {
     "slide_type": "subslide"
    },
    "tags": [
     "remove-input"
    ]
   },
   "outputs": [
    {
     "data": {
      "image/svg+xml": [
       "<?xml version=\"1.0\" encoding=\"UTF-8\" standalone=\"no\"?>\n",
       "<!DOCTYPE svg PUBLIC \"-//W3C//DTD SVG 1.1//EN\"\n",
       " \"http://www.w3.org/Graphics/SVG/1.1/DTD/svg11.dtd\">\n",
       "<!-- Generated by graphviz version 14.0.2 (20251019.1705)\n",
       " -->\n",
       "<!-- Pages: 1 -->\n",
       "<svg width=\"451pt\" height=\"387pt\"\n",
       " viewBox=\"0.00 0.00 451.00 387.00\" xmlns=\"http://www.w3.org/2000/svg\" xmlns:xlink=\"http://www.w3.org/1999/xlink\">\n",
       "<g id=\"graph0\" class=\"graph\" transform=\"scale(1 1) rotate(0) translate(4 382.75)\">\n",
       "<g id=\"a_graph0\"><a xlink:title=\"DDSetDebugger class hierarchy\">\n",
       "<polygon fill=\"white\" stroke=\"none\" points=\"-4,4 -4,-382.75 446.62,-382.75 446.62,4 -4,4\"/>\n",
       "</a>\n",
       "</g>\n",
       "<!-- DDSetDebugger -->\n",
       "<g id=\"node1\" class=\"node\">\n",
       "<title>DDSetDebugger</title>\n",
       "<g id=\"a_node1\"><a xlink:href=\"#\" xlink:title=\"class DDSetDebugger:&#10;Debugger implementing the DDSET algorithm for abstracting failure&#45;inducing inputs.\">\n",
       "<polygon fill=\"none\" stroke=\"black\" points=\"20.62,-19.62 20.62,-116.62 145.38,-116.62 145.38,-19.62 20.62,-19.62\"/>\n",
       "<text xml:space=\"preserve\" text-anchor=\"start\" x=\"28.62\" y=\"-100.33\" font-family=\"Raleway, Helvetica, Arial, sans-serif\" font-weight=\"bold\" font-size=\"14.00\" fill=\"#6a0dad\">DDSetDebugger</text>\n",
       "<polyline fill=\"none\" stroke=\"black\" points=\"20.62,-91.38 145.38,-91.38\"/>\n",
       "<g id=\"a_node1_0\"><a xlink:href=\"#\" xlink:title=\"DDSetDebugger\">\n",
       "<g id=\"a_node1_1\"><a xlink:href=\"#\" xlink:title=\"__init__(self, grammar: Dict[str, List[Union[str, Tuple[str, Dict[str, Any]]]]], generalizer_class: Type = &lt;class &#39;TreeGeneralizer&#39;&gt;, parser: Optional[fuzzingbook.Parser.Parser] = None, **kwargs: Any) &#45;&gt; None:&#10;Constructor.&#10;`grammar` is an input grammar in fuzzingbook format.&#10;`generalizer_class` is the tree generalizer class to use&#10;(default: `TreeGeneralizer`)&#10;`parser` is the parser to use (default: `EarleyParser(grammar)`).&#10;All other keyword args are passed to the tree generalizer, notably:&#10;`fuzzer` &#45; the fuzzer to use (default: `GrammarFuzzer`), and&#10;`log` &#45; enables debugging output if True.\">\n",
       "<text xml:space=\"preserve\" text-anchor=\"start\" x=\"47\" y=\"-78.88\" font-family=\"'Fira Mono', 'Source Code Pro', 'Courier', monospace\" font-weight=\"bold\" font-style=\"italic\" font-size=\"10.00\">__init__()</text>\n",
       "</a>\n",
       "</g>\n",
       "<g id=\"a_node1_2\"><a xlink:href=\"#\" xlink:title=\"__repr__(self) &#45;&gt; str:&#10;Return a string representation of the generalized call.\">\n",
       "<text xml:space=\"preserve\" text-anchor=\"start\" x=\"47\" y=\"-66.12\" font-family=\"'Fira Mono', 'Source Code Pro', 'Courier', monospace\" font-weight=\"bold\" font-size=\"10.00\">__repr__()</text>\n",
       "</a>\n",
       "</g>\n",
       "<g id=\"a_node1_3\"><a xlink:href=\"#\" xlink:title=\"fuzz(self) &#45;&gt; str:&#10;Return a call with arguments randomly instantiated&#10;from the abstract failure&#45;inducing pattern.\">\n",
       "<text xml:space=\"preserve\" text-anchor=\"start\" x=\"47\" y=\"-53.38\" font-family=\"'Fira Mono', 'Source Code Pro', 'Courier', monospace\" font-weight=\"bold\" font-size=\"10.00\">fuzz()</text>\n",
       "</a>\n",
       "</g>\n",
       "<g id=\"a_node1_4\"><a xlink:href=\"#\" xlink:title=\"fuzz_args(self) &#45;&gt; Dict[str, Any]:&#10;Return arguments randomly instantiated&#10;from the abstract failure&#45;inducing pattern.\">\n",
       "<text xml:space=\"preserve\" text-anchor=\"start\" x=\"47\" y=\"-40.62\" font-family=\"'Fira Mono', 'Source Code Pro', 'Courier', monospace\" font-weight=\"bold\" font-size=\"10.00\">fuzz_args()</text>\n",
       "</a>\n",
       "</g>\n",
       "<g id=\"a_node1_5\"><a xlink:href=\"#\" xlink:title=\"generalize(self) &#45;&gt; Dict[str, Any]:&#10;Generalize arguments seen. For each function argument,&#10;produce an abstract failure&#45;inducing input that characterizes&#10;the set of inputs for which the function fails.\">\n",
       "<text xml:space=\"preserve\" text-anchor=\"start\" x=\"47\" y=\"-27.88\" font-family=\"'Fira Mono', 'Source Code Pro', 'Courier', monospace\" font-weight=\"bold\" font-size=\"10.00\">generalize()</text>\n",
       "</a>\n",
       "</g>\n",
       "</a>\n",
       "</g>\n",
       "</a>\n",
       "</g>\n",
       "</g>\n",
       "<!-- CallCollector -->\n",
       "<g id=\"node2\" class=\"node\">\n",
       "<title>CallCollector</title>\n",
       "<g id=\"a_node2\"><a xlink:href=\"DeltaDebugger.ipynb\" xlink:title=\"class CallCollector:&#10;Collect an exception&#45;raising function call f().&#10;Use as `with CallCollector(): f()`\">\n",
       "<polygon fill=\"none\" stroke=\"black\" points=\"30.38,-172.75 30.38,-295.25 135.62,-295.25 135.62,-172.75 30.38,-172.75\"/>\n",
       "<text xml:space=\"preserve\" text-anchor=\"start\" x=\"38.38\" y=\"-278.95\" font-family=\"Raleway, Helvetica, Arial, sans-serif\" font-weight=\"bold\" font-size=\"14.00\" fill=\"#6a0dad\">CallCollector</text>\n",
       "<polyline fill=\"none\" stroke=\"black\" points=\"30.38,-270 135.62,-270\"/>\n",
       "<g id=\"a_node2_6\"><a xlink:href=\"#\" xlink:title=\"CallCollector\">\n",
       "<g id=\"a_node2_7\"><a xlink:href=\"DeltaDebugger.ipynb\" xlink:title=\"__enter__(self) &#45;&gt; Any:&#10;Called at begin of `with` block. Turn tracing on.\">\n",
       "<text xml:space=\"preserve\" text-anchor=\"start\" x=\"50\" y=\"-257.5\" font-family=\"'Fira Mono', 'Source Code Pro', 'Courier', monospace\" font-weight=\"bold\" font-size=\"10.00\">__enter__()</text>\n",
       "</a>\n",
       "</g>\n",
       "<g id=\"a_node2_8\"><a xlink:href=\"DeltaDebugger.ipynb\" xlink:title=\"__exit__(self, exc_tp: Type, exc_value: BaseException, exc_traceback: traceback) &#45;&gt; Optional[bool]:&#10;Called at end of `with` block. Turn tracing off.\">\n",
       "<text xml:space=\"preserve\" text-anchor=\"start\" x=\"50\" y=\"-244.75\" font-family=\"'Fira Mono', 'Source Code Pro', 'Courier', monospace\" font-weight=\"bold\" font-size=\"10.00\">__exit__()</text>\n",
       "</a>\n",
       "</g>\n",
       "<g id=\"a_node2_9\"><a xlink:href=\"DeltaDebugger.ipynb\" xlink:title=\"__init__(self) &#45;&gt; None:&#10;Initialize collector\">\n",
       "<text xml:space=\"preserve\" text-anchor=\"start\" x=\"50\" y=\"-232\" font-family=\"'Fira Mono', 'Source Code Pro', 'Courier', monospace\" font-weight=\"bold\" font-style=\"italic\" font-size=\"10.00\">__init__()</text>\n",
       "</a>\n",
       "</g>\n",
       "<g id=\"a_node2_10\"><a xlink:href=\"DeltaDebugger.ipynb\" xlink:title=\"args(self) &#45;&gt; Dict[str, Any]:&#10;Return the dictionary of collected arguments.\">\n",
       "<text xml:space=\"preserve\" text-anchor=\"start\" x=\"50\" y=\"-219.25\" font-family=\"'Fira Mono', 'Source Code Pro', 'Courier', monospace\" font-weight=\"bold\" font-size=\"10.00\">args()</text>\n",
       "</a>\n",
       "</g>\n",
       "<g id=\"a_node2_11\"><a xlink:href=\"DeltaDebugger.ipynb\" xlink:title=\"call(self, new_args: Optional[Dict[str, Any]] = None) &#45;&gt; Any:&#10;Call collected function. If `new_args` is given,&#10;override arguments from its {var: value} entries.\">\n",
       "<text xml:space=\"preserve\" text-anchor=\"start\" x=\"50\" y=\"-206.5\" font-family=\"'Fira Mono', 'Source Code Pro', 'Courier', monospace\" font-weight=\"bold\" font-size=\"10.00\">call()</text>\n",
       "</a>\n",
       "</g>\n",
       "<g id=\"a_node2_12\"><a xlink:href=\"DeltaDebugger.ipynb\" xlink:title=\"exception(self) &#45;&gt; Optional[BaseException]:&#10;Return the exception produced, or `None` if none.\">\n",
       "<text xml:space=\"preserve\" text-anchor=\"start\" x=\"50\" y=\"-193.75\" font-family=\"'Fira Mono', 'Source Code Pro', 'Courier', monospace\" font-weight=\"bold\" font-size=\"10.00\">exception()</text>\n",
       "</a>\n",
       "</g>\n",
       "<g id=\"a_node2_13\"><a xlink:href=\"DeltaDebugger.ipynb\" xlink:title=\"function(self) &#45;&gt; Callable:&#10;Return the function called.\">\n",
       "<text xml:space=\"preserve\" text-anchor=\"start\" x=\"50\" y=\"-181\" font-family=\"'Fira Mono', 'Source Code Pro', 'Courier', monospace\" font-weight=\"bold\" font-size=\"10.00\">function()</text>\n",
       "</a>\n",
       "</g>\n",
       "</a>\n",
       "</g>\n",
       "</a>\n",
       "</g>\n",
       "</g>\n",
       "<!-- DDSetDebugger&#45;&gt;CallCollector -->\n",
       "<g id=\"edge1\" class=\"edge\">\n",
       "<title>DDSetDebugger&#45;&gt;CallCollector</title>\n",
       "<path fill=\"none\" stroke=\"black\" d=\"M83,-116.96C83,-130.74 83,-146.08 83,-160.98\"/>\n",
       "<polygon fill=\"none\" stroke=\"black\" points=\"79.5,-160.74 83,-170.74 86.5,-160.74 79.5,-160.74\"/>\n",
       "</g>\n",
       "<!-- StackInspector -->\n",
       "<g id=\"node3\" class=\"node\">\n",
       "<title>StackInspector</title>\n",
       "<g id=\"a_node3\"><a xlink:href=\"StackInspector.ipynb\" xlink:title=\"class StackInspector:&#10;Provide functions to inspect the stack\">\n",
       "<polygon fill=\"none\" stroke=\"black\" points=\"0,-332.25 0,-378.25 166,-378.25 166,-332.25 0,-332.25\"/>\n",
       "<text xml:space=\"preserve\" text-anchor=\"start\" x=\"32.75\" y=\"-361.95\" font-family=\"Raleway, Helvetica, Arial, sans-serif\" font-weight=\"bold\" font-size=\"14.00\" fill=\"#6a0dad\">StackInspector</text>\n",
       "<polyline fill=\"none\" stroke=\"black\" points=\"0,-353 166,-353\"/>\n",
       "<g id=\"a_node3_14\"><a xlink:href=\"#\" xlink:title=\"StackInspector\">\n",
       "<g id=\"a_node3_15\"><a xlink:href=\"StackInspector.ipynb\" xlink:title=\"_generated_function_cache = {}\">\n",
       "<text xml:space=\"preserve\" text-anchor=\"start\" x=\"8\" y=\"-339.5\" font-family=\"'Fira Mono', 'Source Code Pro', 'Courier', monospace\" font-size=\"10.00\">_generated_function_cache</text>\n",
       "</a>\n",
       "</g>\n",
       "</a>\n",
       "</g>\n",
       "</a>\n",
       "</g>\n",
       "</g>\n",
       "<!-- CallCollector&#45;&gt;StackInspector -->\n",
       "<g id=\"edge2\" class=\"edge\">\n",
       "<title>CallCollector&#45;&gt;StackInspector</title>\n",
       "<path fill=\"none\" stroke=\"black\" d=\"M83,-295.67C83,-304.31 83,-312.91 83,-320.77\"/>\n",
       "<polygon fill=\"none\" stroke=\"black\" points=\"79.5,-320.5 83,-330.5 86.5,-320.5 79.5,-320.5\"/>\n",
       "</g>\n",
       "<!-- TreeGeneralizer -->\n",
       "<g id=\"node4\" class=\"node\">\n",
       "<title>TreeGeneralizer</title>\n",
       "<g id=\"a_node4\"><a xlink:href=\"#\" xlink:title=\"class TreeGeneralizer:&#10;Determine which parts of a derivation tree can be generalized.\">\n",
       "<polygon fill=\"none\" stroke=\"black\" points=\"163,-0.5 163,-135.75 305,-135.75 305,-0.5 163,-0.5\"/>\n",
       "<text xml:space=\"preserve\" text-anchor=\"start\" x=\"180.38\" y=\"-119.45\" font-family=\"Raleway, Helvetica, Arial, sans-serif\" font-weight=\"bold\" font-size=\"14.00\" fill=\"#6a0dad\">TreeGeneralizer</text>\n",
       "<polyline fill=\"none\" stroke=\"black\" points=\"163,-110.5 305,-110.5\"/>\n",
       "<g id=\"a_node4_16\"><a xlink:href=\"#\" xlink:title=\"TreeGeneralizer\">\n",
       "<g id=\"a_node4_17\"><a xlink:href=\"#\" xlink:title=\"__init__(self, grammar: Dict[str, List[Union[str, Tuple[str, Dict[str, Any]]]]], tree: Tuple[str, Optional[List[Any]]], test: Callable, max_tries_for_generalization: int = 10, **kwargs: Any) &#45;&gt; None:&#10;Constructor. `grammar` and `tree` are as in `TreeMutator`.&#10;`test` is a function taking a string that either&#10;* raises an exception, indicating test failure;&#10;* or not, indicating test success.&#10;`max_tries_for_generalization` is the number of times&#10;an instantiation has to fail before it is generalized.\">\n",
       "<text xml:space=\"preserve\" text-anchor=\"start\" x=\"171\" y=\"-98\" font-family=\"'Fira Mono', 'Source Code Pro', 'Courier', monospace\" font-style=\"italic\" font-size=\"10.00\">__init__()</text>\n",
       "</a>\n",
       "</g>\n",
       "<g id=\"a_node4_18\"><a xlink:href=\"#\" xlink:title=\"can_generalize(self, path: List[int], tree: Optional[Tuple[str, Optional[List[Any]]]] = None) &#45;&gt; bool:&#10;Return True if the subtree at `path` can be generalized.\">\n",
       "<text xml:space=\"preserve\" text-anchor=\"start\" x=\"171\" y=\"-84.25\" font-family=\"'Fira Mono', 'Source Code Pro', 'Courier', monospace\" font-size=\"10.00\">can_generalize()</text>\n",
       "</a>\n",
       "</g>\n",
       "<g id=\"a_node4_19\"><a xlink:href=\"#\" xlink:title=\"find_paths(self, predicate: Callable[[List[int], Tuple[str, Optional[List[Any]]]], bool], path: Optional[List[int]] = None, tree: Optional[Tuple[str, Optional[List[Any]]]] = None) &#45;&gt; List[List[int]]:&#10;Return a list of all paths for which `predicate` holds.&#10;`predicate` is a function `predicate`(`path`, `tree`), where&#10;`path` denotes a subtree in `tree`. If `predicate()` returns&#10;True, `path` is included in the returned list.\">\n",
       "<text xml:space=\"preserve\" text-anchor=\"start\" x=\"171\" y=\"-71.5\" font-family=\"'Fira Mono', 'Source Code Pro', 'Courier', monospace\" font-size=\"10.00\">find_paths()</text>\n",
       "</a>\n",
       "</g>\n",
       "<g id=\"a_node4_20\"><a xlink:href=\"#\" xlink:title=\"fuzz_tree(self, tree: Tuple[str, Optional[List[Any]]]) &#45;&gt; Tuple[str, Optional[List[Any]]]:&#10;Return an instantiated copy of `tree`.\">\n",
       "<text xml:space=\"preserve\" text-anchor=\"start\" x=\"171\" y=\"-58.75\" font-family=\"'Fira Mono', 'Source Code Pro', 'Courier', monospace\" font-size=\"10.00\">fuzz_tree()</text>\n",
       "</a>\n",
       "</g>\n",
       "<g id=\"a_node4_21\"><a xlink:href=\"#\" xlink:title=\"generalizable_paths(self) &#45;&gt; List[List[int]]:&#10;Return a list of all paths whose subtrees can be generalized.\">\n",
       "<text xml:space=\"preserve\" text-anchor=\"start\" x=\"171\" y=\"-46\" font-family=\"'Fira Mono', 'Source Code Pro', 'Courier', monospace\" font-size=\"10.00\">generalizable_paths()</text>\n",
       "</a>\n",
       "</g>\n",
       "<g id=\"a_node4_22\"><a xlink:href=\"#\" xlink:title=\"generalize(self) &#45;&gt; Tuple[str, Optional[List[Any]]]:&#10;Returns a copy of the tree in which all generalizable subtrees&#10;are generalized (= replaced by nonterminals without children)\">\n",
       "<text xml:space=\"preserve\" text-anchor=\"start\" x=\"171\" y=\"-33.25\" font-family=\"'Fira Mono', 'Source Code Pro', 'Courier', monospace\" font-size=\"10.00\">generalize()</text>\n",
       "</a>\n",
       "</g>\n",
       "<g id=\"a_node4_23\"><a xlink:href=\"#\" xlink:title=\"generalize_path(self, path: List[int], tree: Optional[Tuple[str, Optional[List[Any]]]] = None) &#45;&gt; Tuple[str, Optional[List[Any]]]:&#10;Return a copy of the tree in which the subtree at `path`&#10;is generalized (= replaced by a nonterminal without children)\">\n",
       "<text xml:space=\"preserve\" text-anchor=\"start\" x=\"171\" y=\"-20.5\" font-family=\"'Fira Mono', 'Source Code Pro', 'Courier', monospace\" font-size=\"10.00\">generalize_path()</text>\n",
       "</a>\n",
       "</g>\n",
       "<g id=\"a_node4_24\"><a xlink:href=\"#\" xlink:title=\"test_tree(self, tree: Tuple[str, Optional[List[Any]]]) &#45;&gt; bool:&#10;Return True if testing `tree` passes, else False\">\n",
       "<text xml:space=\"preserve\" text-anchor=\"start\" x=\"171\" y=\"-7.75\" font-family=\"'Fira Mono', 'Source Code Pro', 'Courier', monospace\" font-size=\"10.00\">test_tree()</text>\n",
       "</a>\n",
       "</g>\n",
       "</a>\n",
       "</g>\n",
       "</a>\n",
       "</g>\n",
       "</g>\n",
       "<!-- TreeMutator -->\n",
       "<g id=\"node5\" class=\"node\">\n",
       "<title>TreeMutator</title>\n",
       "<g id=\"a_node5\"><a xlink:href=\"#\" xlink:title=\"class TreeMutator:&#10;Grammar&#45;based mutations of derivation trees.\">\n",
       "<polygon fill=\"none\" stroke=\"black\" points=\"184.38,-191.88 184.38,-276.12 283.62,-276.12 283.62,-191.88 184.38,-191.88\"/>\n",
       "<text xml:space=\"preserve\" text-anchor=\"start\" x=\"192.38\" y=\"-259.82\" font-family=\"Raleway, Helvetica, Arial, sans-serif\" font-weight=\"bold\" font-size=\"14.00\" fill=\"#6a0dad\">TreeMutator</text>\n",
       "<polyline fill=\"none\" stroke=\"black\" points=\"184.38,-250.88 283.62,-250.88\"/>\n",
       "<g id=\"a_node5_25\"><a xlink:href=\"#\" xlink:title=\"TreeMutator\">\n",
       "<g id=\"a_node5_26\"><a xlink:href=\"#\" xlink:title=\"__init__(self, grammar: Dict[str, List[Union[str, Tuple[str, Dict[str, Any]]]]], tree: Tuple[str, Optional[List[Any]]], fuzzer: Optional[fuzzingbook.GrammarFuzzer.GrammarFuzzer] = None, log: Union[bool, int] = False):&#10;Constructor.&#10;`grammar` is the underlying grammar;&#10;`tree` is the tree to work on.&#10;`fuzzer` is the grammar fuzzer to use (default: `GrammarFuzzer`)\">\n",
       "<text xml:space=\"preserve\" text-anchor=\"start\" x=\"195\" y=\"-238.38\" font-family=\"'Fira Mono', 'Source Code Pro', 'Courier', monospace\" font-style=\"italic\" font-size=\"10.00\">__init__()</text>\n",
       "</a>\n",
       "</g>\n",
       "<g id=\"a_node5_27\"><a xlink:href=\"#\" xlink:title=\"get_subtree(self, path: List[int], tree: Optional[Tuple[str, Optional[List[Any]]]] = None) &#45;&gt; Tuple[str, Optional[List[Any]]]:&#10;Access a subtree based on `path` (a list of children numbers)\">\n",
       "<text xml:space=\"preserve\" text-anchor=\"start\" x=\"195\" y=\"-224.62\" font-family=\"'Fira Mono', 'Source Code Pro', 'Courier', monospace\" font-size=\"10.00\">get_subtree()</text>\n",
       "</a>\n",
       "</g>\n",
       "<g id=\"a_node5_28\"><a xlink:href=\"#\" xlink:title=\"mutate(self, path: List[int], tree: Optional[Tuple[str, Optional[List[Any]]]] = None) &#45;&gt; Tuple[str, Optional[List[Any]]]:&#10;Return a new tree mutated at `path`\">\n",
       "<text xml:space=\"preserve\" text-anchor=\"start\" x=\"195\" y=\"-211.88\" font-family=\"'Fira Mono', 'Source Code Pro', 'Courier', monospace\" font-size=\"10.00\">mutate()</text>\n",
       "</a>\n",
       "</g>\n",
       "<g id=\"a_node5_29\"><a xlink:href=\"#\" xlink:title=\"new_tree(self, start_symbol: str) &#45;&gt; Tuple[str, Optional[List[Any]]]:&#10;Create a new subtree for &lt;start_symbol&gt;.\">\n",
       "<text xml:space=\"preserve\" text-anchor=\"start\" x=\"195\" y=\"-199.12\" font-family=\"'Fira Mono', 'Source Code Pro', 'Courier', monospace\" font-size=\"10.00\">new_tree()</text>\n",
       "</a>\n",
       "</g>\n",
       "</a>\n",
       "</g>\n",
       "</a>\n",
       "</g>\n",
       "</g>\n",
       "<!-- TreeGeneralizer&#45;&gt;TreeMutator -->\n",
       "<g id=\"edge3\" class=\"edge\">\n",
       "<title>TreeGeneralizer&#45;&gt;TreeMutator</title>\n",
       "<path fill=\"none\" stroke=\"black\" d=\"M234,-135.78C234,-150.74 234,-166.41 234,-180.69\"/>\n",
       "<polygon fill=\"none\" stroke=\"black\" points=\"230.5,-180.29 234,-190.29 237.5,-180.29 230.5,-180.29\"/>\n",
       "</g>\n",
       "<!-- Legend -->\n",
       "<g id=\"node6\" class=\"node\">\n",
       "<title>Legend</title>\n",
       "<text xml:space=\"preserve\" text-anchor=\"start\" x=\"323.38\" y=\"-84.12\" font-family=\"Raleway, Helvetica, Arial, sans-serif\" font-weight=\"bold\" font-size=\"10.00\" fill=\"#6a0dad\">Legend</text>\n",
       "<text xml:space=\"preserve\" text-anchor=\"start\" x=\"323.38\" y=\"-74.12\" font-family=\"Raleway, Helvetica, Arial, sans-serif\" font-size=\"10.00\">• </text>\n",
       "<text xml:space=\"preserve\" text-anchor=\"start\" x=\"329.38\" y=\"-74.12\" font-family=\"'Fira Mono', 'Source Code Pro', 'Courier', monospace\" font-weight=\"bold\" font-size=\"8.00\">public_method()</text>\n",
       "<text xml:space=\"preserve\" text-anchor=\"start\" x=\"323.38\" y=\"-64.12\" font-family=\"Raleway, Helvetica, Arial, sans-serif\" font-size=\"10.00\">• </text>\n",
       "<text xml:space=\"preserve\" text-anchor=\"start\" x=\"329.38\" y=\"-64.12\" font-family=\"'Fira Mono', 'Source Code Pro', 'Courier', monospace\" font-size=\"8.00\">private_method()</text>\n",
       "<text xml:space=\"preserve\" text-anchor=\"start\" x=\"323.38\" y=\"-54.12\" font-family=\"Raleway, Helvetica, Arial, sans-serif\" font-size=\"10.00\">• </text>\n",
       "<text xml:space=\"preserve\" text-anchor=\"start\" x=\"329.38\" y=\"-54.12\" font-family=\"'Fira Mono', 'Source Code Pro', 'Courier', monospace\" font-style=\"italic\" font-size=\"8.00\">overloaded_method()</text>\n",
       "<text xml:space=\"preserve\" text-anchor=\"start\" x=\"323.38\" y=\"-45.08\" font-family=\"Helvetica,sans-Serif\" font-size=\"9.00\">Hover over names to see doc</text>\n",
       "</g>\n",
       "</g>\n",
       "</svg>\n"
      ],
      "text/html": [
       "<?xml version=\"1.0\" encoding=\"UTF-8\" standalone=\"no\"?>\n",
       "<!DOCTYPE svg PUBLIC \"-//W3C//DTD SVG 1.1//EN\"\n",
       " \"http://www.w3.org/Graphics/SVG/1.1/DTD/svg11.dtd\">\n",
       "<!-- Generated by graphviz version 14.0.2 (20251019.1705)\n",
       " -->\n",
       "<!-- Pages: 1 -->\n",
       "<svg width=\"451pt\" height=\"387pt\"\n",
       " viewBox=\"0.00 0.00 451.00 387.00\" xmlns=\"http://www.w3.org/2000/svg\" xmlns:xlink=\"http://www.w3.org/1999/xlink\">\n",
       "<g id=\"graph0\" class=\"graph\" transform=\"scale(1 1) rotate(0) translate(4 382.75)\">\n",
       "<g id=\"a_graph0\"><a xlink:title=\"DDSetDebugger class hierarchy\">\n",
       "<polygon fill=\"white\" stroke=\"none\" points=\"-4,4 -4,-382.75 446.62,-382.75 446.62,4 -4,4\"/>\n",
       "</a>\n",
       "</g>\n",
       "<!-- DDSetDebugger -->\n",
       "<g id=\"node1\" class=\"node\">\n",
       "<title>DDSetDebugger</title>\n",
       "<g id=\"a_node1\"><a xlink:href=\"#\" xlink:title=\"class DDSetDebugger:&#10;Debugger implementing the DDSET algorithm for abstracting failure&#45;inducing inputs.\">\n",
       "<polygon fill=\"none\" stroke=\"black\" points=\"20.62,-19.62 20.62,-116.62 145.38,-116.62 145.38,-19.62 20.62,-19.62\"/>\n",
       "<text xml:space=\"preserve\" text-anchor=\"start\" x=\"28.62\" y=\"-100.33\" font-family=\"Raleway, Helvetica, Arial, sans-serif\" font-weight=\"bold\" font-size=\"14.00\" fill=\"#6a0dad\">DDSetDebugger</text>\n",
       "<polyline fill=\"none\" stroke=\"black\" points=\"20.62,-91.38 145.38,-91.38\"/>\n",
       "<g id=\"a_node1_0\"><a xlink:href=\"#\" xlink:title=\"DDSetDebugger\">\n",
       "<g id=\"a_node1_1\"><a xlink:href=\"#\" xlink:title=\"__init__(self, grammar: Dict[str, List[Union[str, Tuple[str, Dict[str, Any]]]]], generalizer_class: Type = &lt;class &#39;TreeGeneralizer&#39;&gt;, parser: Optional[fuzzingbook.Parser.Parser] = None, **kwargs: Any) &#45;&gt; None:&#10;Constructor.&#10;`grammar` is an input grammar in fuzzingbook format.&#10;`generalizer_class` is the tree generalizer class to use&#10;(default: `TreeGeneralizer`)&#10;`parser` is the parser to use (default: `EarleyParser(grammar)`).&#10;All other keyword args are passed to the tree generalizer, notably:&#10;`fuzzer` &#45; the fuzzer to use (default: `GrammarFuzzer`), and&#10;`log` &#45; enables debugging output if True.\">\n",
       "<text xml:space=\"preserve\" text-anchor=\"start\" x=\"47\" y=\"-78.88\" font-family=\"'Fira Mono', 'Source Code Pro', 'Courier', monospace\" font-weight=\"bold\" font-style=\"italic\" font-size=\"10.00\">__init__()</text>\n",
       "</a>\n",
       "</g>\n",
       "<g id=\"a_node1_2\"><a xlink:href=\"#\" xlink:title=\"__repr__(self) &#45;&gt; str:&#10;Return a string representation of the generalized call.\">\n",
       "<text xml:space=\"preserve\" text-anchor=\"start\" x=\"47\" y=\"-66.12\" font-family=\"'Fira Mono', 'Source Code Pro', 'Courier', monospace\" font-weight=\"bold\" font-size=\"10.00\">__repr__()</text>\n",
       "</a>\n",
       "</g>\n",
       "<g id=\"a_node1_3\"><a xlink:href=\"#\" xlink:title=\"fuzz(self) &#45;&gt; str:&#10;Return a call with arguments randomly instantiated&#10;from the abstract failure&#45;inducing pattern.\">\n",
       "<text xml:space=\"preserve\" text-anchor=\"start\" x=\"47\" y=\"-53.38\" font-family=\"'Fira Mono', 'Source Code Pro', 'Courier', monospace\" font-weight=\"bold\" font-size=\"10.00\">fuzz()</text>\n",
       "</a>\n",
       "</g>\n",
       "<g id=\"a_node1_4\"><a xlink:href=\"#\" xlink:title=\"fuzz_args(self) &#45;&gt; Dict[str, Any]:&#10;Return arguments randomly instantiated&#10;from the abstract failure&#45;inducing pattern.\">\n",
       "<text xml:space=\"preserve\" text-anchor=\"start\" x=\"47\" y=\"-40.62\" font-family=\"'Fira Mono', 'Source Code Pro', 'Courier', monospace\" font-weight=\"bold\" font-size=\"10.00\">fuzz_args()</text>\n",
       "</a>\n",
       "</g>\n",
       "<g id=\"a_node1_5\"><a xlink:href=\"#\" xlink:title=\"generalize(self) &#45;&gt; Dict[str, Any]:&#10;Generalize arguments seen. For each function argument,&#10;produce an abstract failure&#45;inducing input that characterizes&#10;the set of inputs for which the function fails.\">\n",
       "<text xml:space=\"preserve\" text-anchor=\"start\" x=\"47\" y=\"-27.88\" font-family=\"'Fira Mono', 'Source Code Pro', 'Courier', monospace\" font-weight=\"bold\" font-size=\"10.00\">generalize()</text>\n",
       "</a>\n",
       "</g>\n",
       "</a>\n",
       "</g>\n",
       "</a>\n",
       "</g>\n",
       "</g>\n",
       "<!-- CallCollector -->\n",
       "<g id=\"node2\" class=\"node\">\n",
       "<title>CallCollector</title>\n",
       "<g id=\"a_node2\"><a xlink:href=\"DeltaDebugger.ipynb\" xlink:title=\"class CallCollector:&#10;Collect an exception&#45;raising function call f().&#10;Use as `with CallCollector(): f()`\">\n",
       "<polygon fill=\"none\" stroke=\"black\" points=\"30.38,-172.75 30.38,-295.25 135.62,-295.25 135.62,-172.75 30.38,-172.75\"/>\n",
       "<text xml:space=\"preserve\" text-anchor=\"start\" x=\"38.38\" y=\"-278.95\" font-family=\"Raleway, Helvetica, Arial, sans-serif\" font-weight=\"bold\" font-size=\"14.00\" fill=\"#6a0dad\">CallCollector</text>\n",
       "<polyline fill=\"none\" stroke=\"black\" points=\"30.38,-270 135.62,-270\"/>\n",
       "<g id=\"a_node2_6\"><a xlink:href=\"#\" xlink:title=\"CallCollector\">\n",
       "<g id=\"a_node2_7\"><a xlink:href=\"DeltaDebugger.ipynb\" xlink:title=\"__enter__(self) &#45;&gt; Any:&#10;Called at begin of `with` block. Turn tracing on.\">\n",
       "<text xml:space=\"preserve\" text-anchor=\"start\" x=\"50\" y=\"-257.5\" font-family=\"'Fira Mono', 'Source Code Pro', 'Courier', monospace\" font-weight=\"bold\" font-size=\"10.00\">__enter__()</text>\n",
       "</a>\n",
       "</g>\n",
       "<g id=\"a_node2_8\"><a xlink:href=\"DeltaDebugger.ipynb\" xlink:title=\"__exit__(self, exc_tp: Type, exc_value: BaseException, exc_traceback: traceback) &#45;&gt; Optional[bool]:&#10;Called at end of `with` block. Turn tracing off.\">\n",
       "<text xml:space=\"preserve\" text-anchor=\"start\" x=\"50\" y=\"-244.75\" font-family=\"'Fira Mono', 'Source Code Pro', 'Courier', monospace\" font-weight=\"bold\" font-size=\"10.00\">__exit__()</text>\n",
       "</a>\n",
       "</g>\n",
       "<g id=\"a_node2_9\"><a xlink:href=\"DeltaDebugger.ipynb\" xlink:title=\"__init__(self) &#45;&gt; None:&#10;Initialize collector\">\n",
       "<text xml:space=\"preserve\" text-anchor=\"start\" x=\"50\" y=\"-232\" font-family=\"'Fira Mono', 'Source Code Pro', 'Courier', monospace\" font-weight=\"bold\" font-style=\"italic\" font-size=\"10.00\">__init__()</text>\n",
       "</a>\n",
       "</g>\n",
       "<g id=\"a_node2_10\"><a xlink:href=\"DeltaDebugger.ipynb\" xlink:title=\"args(self) &#45;&gt; Dict[str, Any]:&#10;Return the dictionary of collected arguments.\">\n",
       "<text xml:space=\"preserve\" text-anchor=\"start\" x=\"50\" y=\"-219.25\" font-family=\"'Fira Mono', 'Source Code Pro', 'Courier', monospace\" font-weight=\"bold\" font-size=\"10.00\">args()</text>\n",
       "</a>\n",
       "</g>\n",
       "<g id=\"a_node2_11\"><a xlink:href=\"DeltaDebugger.ipynb\" xlink:title=\"call(self, new_args: Optional[Dict[str, Any]] = None) &#45;&gt; Any:&#10;Call collected function. If `new_args` is given,&#10;override arguments from its {var: value} entries.\">\n",
       "<text xml:space=\"preserve\" text-anchor=\"start\" x=\"50\" y=\"-206.5\" font-family=\"'Fira Mono', 'Source Code Pro', 'Courier', monospace\" font-weight=\"bold\" font-size=\"10.00\">call()</text>\n",
       "</a>\n",
       "</g>\n",
       "<g id=\"a_node2_12\"><a xlink:href=\"DeltaDebugger.ipynb\" xlink:title=\"exception(self) &#45;&gt; Optional[BaseException]:&#10;Return the exception produced, or `None` if none.\">\n",
       "<text xml:space=\"preserve\" text-anchor=\"start\" x=\"50\" y=\"-193.75\" font-family=\"'Fira Mono', 'Source Code Pro', 'Courier', monospace\" font-weight=\"bold\" font-size=\"10.00\">exception()</text>\n",
       "</a>\n",
       "</g>\n",
       "<g id=\"a_node2_13\"><a xlink:href=\"DeltaDebugger.ipynb\" xlink:title=\"function(self) &#45;&gt; Callable:&#10;Return the function called.\">\n",
       "<text xml:space=\"preserve\" text-anchor=\"start\" x=\"50\" y=\"-181\" font-family=\"'Fira Mono', 'Source Code Pro', 'Courier', monospace\" font-weight=\"bold\" font-size=\"10.00\">function()</text>\n",
       "</a>\n",
       "</g>\n",
       "</a>\n",
       "</g>\n",
       "</a>\n",
       "</g>\n",
       "</g>\n",
       "<!-- DDSetDebugger&#45;&gt;CallCollector -->\n",
       "<g id=\"edge1\" class=\"edge\">\n",
       "<title>DDSetDebugger&#45;&gt;CallCollector</title>\n",
       "<path fill=\"none\" stroke=\"black\" d=\"M83,-116.96C83,-130.74 83,-146.08 83,-160.98\"/>\n",
       "<polygon fill=\"none\" stroke=\"black\" points=\"79.5,-160.74 83,-170.74 86.5,-160.74 79.5,-160.74\"/>\n",
       "</g>\n",
       "<!-- StackInspector -->\n",
       "<g id=\"node3\" class=\"node\">\n",
       "<title>StackInspector</title>\n",
       "<g id=\"a_node3\"><a xlink:href=\"StackInspector.ipynb\" xlink:title=\"class StackInspector:&#10;Provide functions to inspect the stack\">\n",
       "<polygon fill=\"none\" stroke=\"black\" points=\"0,-332.25 0,-378.25 166,-378.25 166,-332.25 0,-332.25\"/>\n",
       "<text xml:space=\"preserve\" text-anchor=\"start\" x=\"32.75\" y=\"-361.95\" font-family=\"Raleway, Helvetica, Arial, sans-serif\" font-weight=\"bold\" font-size=\"14.00\" fill=\"#6a0dad\">StackInspector</text>\n",
       "<polyline fill=\"none\" stroke=\"black\" points=\"0,-353 166,-353\"/>\n",
       "<g id=\"a_node3_14\"><a xlink:href=\"#\" xlink:title=\"StackInspector\">\n",
       "<g id=\"a_node3_15\"><a xlink:href=\"StackInspector.ipynb\" xlink:title=\"_generated_function_cache = {}\">\n",
       "<text xml:space=\"preserve\" text-anchor=\"start\" x=\"8\" y=\"-339.5\" font-family=\"'Fira Mono', 'Source Code Pro', 'Courier', monospace\" font-size=\"10.00\">_generated_function_cache</text>\n",
       "</a>\n",
       "</g>\n",
       "</a>\n",
       "</g>\n",
       "</a>\n",
       "</g>\n",
       "</g>\n",
       "<!-- CallCollector&#45;&gt;StackInspector -->\n",
       "<g id=\"edge2\" class=\"edge\">\n",
       "<title>CallCollector&#45;&gt;StackInspector</title>\n",
       "<path fill=\"none\" stroke=\"black\" d=\"M83,-295.67C83,-304.31 83,-312.91 83,-320.77\"/>\n",
       "<polygon fill=\"none\" stroke=\"black\" points=\"79.5,-320.5 83,-330.5 86.5,-320.5 79.5,-320.5\"/>\n",
       "</g>\n",
       "<!-- TreeGeneralizer -->\n",
       "<g id=\"node4\" class=\"node\">\n",
       "<title>TreeGeneralizer</title>\n",
       "<g id=\"a_node4\"><a xlink:href=\"#\" xlink:title=\"class TreeGeneralizer:&#10;Determine which parts of a derivation tree can be generalized.\">\n",
       "<polygon fill=\"none\" stroke=\"black\" points=\"163,-0.5 163,-135.75 305,-135.75 305,-0.5 163,-0.5\"/>\n",
       "<text xml:space=\"preserve\" text-anchor=\"start\" x=\"180.38\" y=\"-119.45\" font-family=\"Raleway, Helvetica, Arial, sans-serif\" font-weight=\"bold\" font-size=\"14.00\" fill=\"#6a0dad\">TreeGeneralizer</text>\n",
       "<polyline fill=\"none\" stroke=\"black\" points=\"163,-110.5 305,-110.5\"/>\n",
       "<g id=\"a_node4_16\"><a xlink:href=\"#\" xlink:title=\"TreeGeneralizer\">\n",
       "<g id=\"a_node4_17\"><a xlink:href=\"#\" xlink:title=\"__init__(self, grammar: Dict[str, List[Union[str, Tuple[str, Dict[str, Any]]]]], tree: Tuple[str, Optional[List[Any]]], test: Callable, max_tries_for_generalization: int = 10, **kwargs: Any) &#45;&gt; None:&#10;Constructor. `grammar` and `tree` are as in `TreeMutator`.&#10;`test` is a function taking a string that either&#10;* raises an exception, indicating test failure;&#10;* or not, indicating test success.&#10;`max_tries_for_generalization` is the number of times&#10;an instantiation has to fail before it is generalized.\">\n",
       "<text xml:space=\"preserve\" text-anchor=\"start\" x=\"171\" y=\"-98\" font-family=\"'Fira Mono', 'Source Code Pro', 'Courier', monospace\" font-style=\"italic\" font-size=\"10.00\">__init__()</text>\n",
       "</a>\n",
       "</g>\n",
       "<g id=\"a_node4_18\"><a xlink:href=\"#\" xlink:title=\"can_generalize(self, path: List[int], tree: Optional[Tuple[str, Optional[List[Any]]]] = None) &#45;&gt; bool:&#10;Return True if the subtree at `path` can be generalized.\">\n",
       "<text xml:space=\"preserve\" text-anchor=\"start\" x=\"171\" y=\"-84.25\" font-family=\"'Fira Mono', 'Source Code Pro', 'Courier', monospace\" font-size=\"10.00\">can_generalize()</text>\n",
       "</a>\n",
       "</g>\n",
       "<g id=\"a_node4_19\"><a xlink:href=\"#\" xlink:title=\"find_paths(self, predicate: Callable[[List[int], Tuple[str, Optional[List[Any]]]], bool], path: Optional[List[int]] = None, tree: Optional[Tuple[str, Optional[List[Any]]]] = None) &#45;&gt; List[List[int]]:&#10;Return a list of all paths for which `predicate` holds.&#10;`predicate` is a function `predicate`(`path`, `tree`), where&#10;`path` denotes a subtree in `tree`. If `predicate()` returns&#10;True, `path` is included in the returned list.\">\n",
       "<text xml:space=\"preserve\" text-anchor=\"start\" x=\"171\" y=\"-71.5\" font-family=\"'Fira Mono', 'Source Code Pro', 'Courier', monospace\" font-size=\"10.00\">find_paths()</text>\n",
       "</a>\n",
       "</g>\n",
       "<g id=\"a_node4_20\"><a xlink:href=\"#\" xlink:title=\"fuzz_tree(self, tree: Tuple[str, Optional[List[Any]]]) &#45;&gt; Tuple[str, Optional[List[Any]]]:&#10;Return an instantiated copy of `tree`.\">\n",
       "<text xml:space=\"preserve\" text-anchor=\"start\" x=\"171\" y=\"-58.75\" font-family=\"'Fira Mono', 'Source Code Pro', 'Courier', monospace\" font-size=\"10.00\">fuzz_tree()</text>\n",
       "</a>\n",
       "</g>\n",
       "<g id=\"a_node4_21\"><a xlink:href=\"#\" xlink:title=\"generalizable_paths(self) &#45;&gt; List[List[int]]:&#10;Return a list of all paths whose subtrees can be generalized.\">\n",
       "<text xml:space=\"preserve\" text-anchor=\"start\" x=\"171\" y=\"-46\" font-family=\"'Fira Mono', 'Source Code Pro', 'Courier', monospace\" font-size=\"10.00\">generalizable_paths()</text>\n",
       "</a>\n",
       "</g>\n",
       "<g id=\"a_node4_22\"><a xlink:href=\"#\" xlink:title=\"generalize(self) &#45;&gt; Tuple[str, Optional[List[Any]]]:&#10;Returns a copy of the tree in which all generalizable subtrees&#10;are generalized (= replaced by nonterminals without children)\">\n",
       "<text xml:space=\"preserve\" text-anchor=\"start\" x=\"171\" y=\"-33.25\" font-family=\"'Fira Mono', 'Source Code Pro', 'Courier', monospace\" font-size=\"10.00\">generalize()</text>\n",
       "</a>\n",
       "</g>\n",
       "<g id=\"a_node4_23\"><a xlink:href=\"#\" xlink:title=\"generalize_path(self, path: List[int], tree: Optional[Tuple[str, Optional[List[Any]]]] = None) &#45;&gt; Tuple[str, Optional[List[Any]]]:&#10;Return a copy of the tree in which the subtree at `path`&#10;is generalized (= replaced by a nonterminal without children)\">\n",
       "<text xml:space=\"preserve\" text-anchor=\"start\" x=\"171\" y=\"-20.5\" font-family=\"'Fira Mono', 'Source Code Pro', 'Courier', monospace\" font-size=\"10.00\">generalize_path()</text>\n",
       "</a>\n",
       "</g>\n",
       "<g id=\"a_node4_24\"><a xlink:href=\"#\" xlink:title=\"test_tree(self, tree: Tuple[str, Optional[List[Any]]]) &#45;&gt; bool:&#10;Return True if testing `tree` passes, else False\">\n",
       "<text xml:space=\"preserve\" text-anchor=\"start\" x=\"171\" y=\"-7.75\" font-family=\"'Fira Mono', 'Source Code Pro', 'Courier', monospace\" font-size=\"10.00\">test_tree()</text>\n",
       "</a>\n",
       "</g>\n",
       "</a>\n",
       "</g>\n",
       "</a>\n",
       "</g>\n",
       "</g>\n",
       "<!-- TreeMutator -->\n",
       "<g id=\"node5\" class=\"node\">\n",
       "<title>TreeMutator</title>\n",
       "<g id=\"a_node5\"><a xlink:href=\"#\" xlink:title=\"class TreeMutator:&#10;Grammar&#45;based mutations of derivation trees.\">\n",
       "<polygon fill=\"none\" stroke=\"black\" points=\"184.38,-191.88 184.38,-276.12 283.62,-276.12 283.62,-191.88 184.38,-191.88\"/>\n",
       "<text xml:space=\"preserve\" text-anchor=\"start\" x=\"192.38\" y=\"-259.82\" font-family=\"Raleway, Helvetica, Arial, sans-serif\" font-weight=\"bold\" font-size=\"14.00\" fill=\"#6a0dad\">TreeMutator</text>\n",
       "<polyline fill=\"none\" stroke=\"black\" points=\"184.38,-250.88 283.62,-250.88\"/>\n",
       "<g id=\"a_node5_25\"><a xlink:href=\"#\" xlink:title=\"TreeMutator\">\n",
       "<g id=\"a_node5_26\"><a xlink:href=\"#\" xlink:title=\"__init__(self, grammar: Dict[str, List[Union[str, Tuple[str, Dict[str, Any]]]]], tree: Tuple[str, Optional[List[Any]]], fuzzer: Optional[fuzzingbook.GrammarFuzzer.GrammarFuzzer] = None, log: Union[bool, int] = False):&#10;Constructor.&#10;`grammar` is the underlying grammar;&#10;`tree` is the tree to work on.&#10;`fuzzer` is the grammar fuzzer to use (default: `GrammarFuzzer`)\">\n",
       "<text xml:space=\"preserve\" text-anchor=\"start\" x=\"195\" y=\"-238.38\" font-family=\"'Fira Mono', 'Source Code Pro', 'Courier', monospace\" font-style=\"italic\" font-size=\"10.00\">__init__()</text>\n",
       "</a>\n",
       "</g>\n",
       "<g id=\"a_node5_27\"><a xlink:href=\"#\" xlink:title=\"get_subtree(self, path: List[int], tree: Optional[Tuple[str, Optional[List[Any]]]] = None) &#45;&gt; Tuple[str, Optional[List[Any]]]:&#10;Access a subtree based on `path` (a list of children numbers)\">\n",
       "<text xml:space=\"preserve\" text-anchor=\"start\" x=\"195\" y=\"-224.62\" font-family=\"'Fira Mono', 'Source Code Pro', 'Courier', monospace\" font-size=\"10.00\">get_subtree()</text>\n",
       "</a>\n",
       "</g>\n",
       "<g id=\"a_node5_28\"><a xlink:href=\"#\" xlink:title=\"mutate(self, path: List[int], tree: Optional[Tuple[str, Optional[List[Any]]]] = None) &#45;&gt; Tuple[str, Optional[List[Any]]]:&#10;Return a new tree mutated at `path`\">\n",
       "<text xml:space=\"preserve\" text-anchor=\"start\" x=\"195\" y=\"-211.88\" font-family=\"'Fira Mono', 'Source Code Pro', 'Courier', monospace\" font-size=\"10.00\">mutate()</text>\n",
       "</a>\n",
       "</g>\n",
       "<g id=\"a_node5_29\"><a xlink:href=\"#\" xlink:title=\"new_tree(self, start_symbol: str) &#45;&gt; Tuple[str, Optional[List[Any]]]:&#10;Create a new subtree for &lt;start_symbol&gt;.\">\n",
       "<text xml:space=\"preserve\" text-anchor=\"start\" x=\"195\" y=\"-199.12\" font-family=\"'Fira Mono', 'Source Code Pro', 'Courier', monospace\" font-size=\"10.00\">new_tree()</text>\n",
       "</a>\n",
       "</g>\n",
       "</a>\n",
       "</g>\n",
       "</a>\n",
       "</g>\n",
       "</g>\n",
       "<!-- TreeGeneralizer&#45;&gt;TreeMutator -->\n",
       "<g id=\"edge3\" class=\"edge\">\n",
       "<title>TreeGeneralizer&#45;&gt;TreeMutator</title>\n",
       "<path fill=\"none\" stroke=\"black\" d=\"M234,-135.78C234,-150.74 234,-166.41 234,-180.69\"/>\n",
       "<polygon fill=\"none\" stroke=\"black\" points=\"230.5,-180.29 234,-190.29 237.5,-180.29 230.5,-180.29\"/>\n",
       "</g>\n",
       "<!-- Legend -->\n",
       "<g id=\"node6\" class=\"node\">\n",
       "<title>Legend</title>\n",
       "<text xml:space=\"preserve\" text-anchor=\"start\" x=\"323.38\" y=\"-84.12\" font-family=\"Raleway, Helvetica, Arial, sans-serif\" font-weight=\"bold\" font-size=\"10.00\" fill=\"#6a0dad\">Legend</text>\n",
       "<text xml:space=\"preserve\" text-anchor=\"start\" x=\"323.38\" y=\"-74.12\" font-family=\"Raleway, Helvetica, Arial, sans-serif\" font-size=\"10.00\">• </text>\n",
       "<text xml:space=\"preserve\" text-anchor=\"start\" x=\"329.38\" y=\"-74.12\" font-family=\"'Fira Mono', 'Source Code Pro', 'Courier', monospace\" font-weight=\"bold\" font-size=\"8.00\">public_method()</text>\n",
       "<text xml:space=\"preserve\" text-anchor=\"start\" x=\"323.38\" y=\"-64.12\" font-family=\"Raleway, Helvetica, Arial, sans-serif\" font-size=\"10.00\">• </text>\n",
       "<text xml:space=\"preserve\" text-anchor=\"start\" x=\"329.38\" y=\"-64.12\" font-family=\"'Fira Mono', 'Source Code Pro', 'Courier', monospace\" font-size=\"8.00\">private_method()</text>\n",
       "<text xml:space=\"preserve\" text-anchor=\"start\" x=\"323.38\" y=\"-54.12\" font-family=\"Raleway, Helvetica, Arial, sans-serif\" font-size=\"10.00\">• </text>\n",
       "<text xml:space=\"preserve\" text-anchor=\"start\" x=\"329.38\" y=\"-54.12\" font-family=\"'Fira Mono', 'Source Code Pro', 'Courier', monospace\" font-style=\"italic\" font-size=\"8.00\">overloaded_method()</text>\n",
       "<text xml:space=\"preserve\" text-anchor=\"start\" x=\"323.38\" y=\"-45.08\" font-family=\"Helvetica,sans-Serif\" font-size=\"9.00\">Hover over names to see doc</text>\n",
       "</g>\n",
       "</g>\n",
       "</svg>\n"
      ],
      "text/plain": [
       "<graphviz.graphs.Digraph at 0x111ae0640>"
      ]
     },
     "execution_count": 109,
     "metadata": {},
     "output_type": "execute_result"
    }
   ],
   "source": [
    "# ignore\n",
    "display_class_hierarchy([DDSetDebugger, TreeGeneralizer],\n",
    "                        public_methods=[\n",
    "                            CallCollector.__init__,\n",
    "                            CallCollector.__enter__,\n",
    "                            CallCollector.__exit__,\n",
    "                            CallCollector.function,\n",
    "                            CallCollector.args,\n",
    "                            CallCollector.exception,\n",
    "                            CallCollector.call,  # type: ignore\n",
    "                            DDSetDebugger.__init__,\n",
    "                            DDSetDebugger.__repr__,\n",
    "                            DDSetDebugger.fuzz,\n",
    "                            DDSetDebugger.fuzz_args,\n",
    "                            DDSetDebugger.generalize,\n",
    "                        ], project='debuggingbook')"
   ]
  },
  {
   "cell_type": "markdown",
   "metadata": {
    "slideshow": {
     "slide_type": "slide"
    }
   },
   "source": [
    "## A Failing Program\n",
    "\n",
    "As with previous chapters, we use `remove_html_markup()` as our ongoing example. This function is set to remove HTML markup tags (like `<em>`) from a given string `s`, returning the plain text only. We use the version from [the chapter on asssertions](Assertions.ipynb), using an assertion as postcondition checker."
   ]
  },
  {
   "cell_type": "code",
   "execution_count": 4,
   "metadata": {
    "execution": {
     "iopub.execute_input": "2025-10-26T17:48:39.219974Z",
     "iopub.status.busy": "2025-10-26T17:48:39.219860Z",
     "iopub.status.idle": "2025-10-26T17:48:39.222217Z",
     "shell.execute_reply": "2025-10-26T17:48:39.221926Z"
    },
    "slideshow": {
     "slide_type": "subslide"
    }
   },
   "outputs": [],
   "source": [
    "def remove_html_markup(s):  # type: ignore\n",
    "    tag = False\n",
    "    quote = False\n",
    "    out = \"\"\n",
    "\n",
    "    for c in s:\n",
    "        if c == '<' and not quote:\n",
    "            tag = True\n",
    "        elif c == '>' and not quote:\n",
    "            tag = False\n",
    "        elif c == '\"' or c == \"'\" and tag:\n",
    "            quote = not quote\n",
    "        elif not tag:\n",
    "            out = out + c\n",
    "\n",
    "    # postcondition\n",
    "    assert '<' not in out and '>' not in out\n",
    "\n",
    "    return out"
   ]
  },
  {
   "cell_type": "markdown",
   "metadata": {
    "slideshow": {
     "slide_type": "subslide"
    }
   },
   "source": [
    "For the most inputs, `remove_html_markup()` works just as expected:"
   ]
  },
  {
   "cell_type": "code",
   "execution_count": 5,
   "metadata": {
    "execution": {
     "iopub.execute_input": "2025-10-26T17:48:39.223824Z",
     "iopub.status.busy": "2025-10-26T17:48:39.223711Z",
     "iopub.status.idle": "2025-10-26T17:48:39.225714Z",
     "shell.execute_reply": "2025-10-26T17:48:39.225507Z"
    },
    "slideshow": {
     "slide_type": "fragment"
    }
   },
   "outputs": [
    {
     "data": {
      "text/plain": [
       "'Be quiet, he said'"
      ]
     },
     "execution_count": 5,
     "metadata": {},
     "output_type": "execute_result"
    }
   ],
   "source": [
    "remove_html_markup(\"Be <em>quiet</em>, he said\")"
   ]
  },
  {
   "cell_type": "markdown",
   "metadata": {
    "slideshow": {
     "slide_type": "fragment"
    }
   },
   "source": [
    "There are inputs, however, for which it fails:"
   ]
  },
  {
   "cell_type": "code",
   "execution_count": 6,
   "metadata": {
    "execution": {
     "iopub.execute_input": "2025-10-26T17:48:39.227089Z",
     "iopub.status.busy": "2025-10-26T17:48:39.226975Z",
     "iopub.status.idle": "2025-10-26T17:48:39.228465Z",
     "shell.execute_reply": "2025-10-26T17:48:39.228249Z"
    },
    "slideshow": {
     "slide_type": "fragment"
    }
   },
   "outputs": [],
   "source": [
    "BAD_INPUT = '<foo>\"bar</foo>'"
   ]
  },
  {
   "cell_type": "code",
   "execution_count": 7,
   "metadata": {
    "execution": {
     "iopub.execute_input": "2025-10-26T17:48:39.229629Z",
     "iopub.status.busy": "2025-10-26T17:48:39.229551Z",
     "iopub.status.idle": "2025-10-26T17:48:39.231069Z",
     "shell.execute_reply": "2025-10-26T17:48:39.230849Z"
    },
    "slideshow": {
     "slide_type": "skip"
    }
   },
   "outputs": [],
   "source": [
    "from ExpectError import ExpectError"
   ]
  },
  {
   "cell_type": "code",
   "execution_count": 8,
   "metadata": {
    "execution": {
     "iopub.execute_input": "2025-10-26T17:48:39.232463Z",
     "iopub.status.busy": "2025-10-26T17:48:39.232360Z",
     "iopub.status.idle": "2025-10-26T17:48:39.234481Z",
     "shell.execute_reply": "2025-10-26T17:48:39.234224Z"
    },
    "slideshow": {
     "slide_type": "subslide"
    }
   },
   "outputs": [
    {
     "name": "stderr",
     "output_type": "stream",
     "text": [
      "Traceback (most recent call last):\n",
      "  File \"/var/folders/n2/xd9445p97rb3xh7m1dfx8_4h0006ts/T/ipykernel_52206/3787550988.py\", line 2, in <module>\n",
      "    remove_html_markup(BAD_INPUT)\n",
      "    ~~~~~~~~~~~~~~~~~~^^^^^^^^^^^\n",
      "  File \"/var/folders/n2/xd9445p97rb3xh7m1dfx8_4h0006ts/T/ipykernel_52206/2717035104.py\", line 17, in remove_html_markup\n",
      "    assert '<' not in out and '>' not in out\n",
      "           ^^^^^^^^^^^^^^^^^^^^^^^^^^^^^^^^^\n",
      "AssertionError (expected)\n"
     ]
    }
   ],
   "source": [
    "with ExpectError(AssertionError):\n",
    "    remove_html_markup(BAD_INPUT)"
   ]
  },
  {
   "cell_type": "code",
   "execution_count": 9,
   "metadata": {
    "execution": {
     "iopub.execute_input": "2025-10-26T17:48:39.235817Z",
     "iopub.status.busy": "2025-10-26T17:48:39.235733Z",
     "iopub.status.idle": "2025-10-26T17:48:39.237275Z",
     "shell.execute_reply": "2025-10-26T17:48:39.237054Z"
    },
    "slideshow": {
     "slide_type": "skip"
    }
   },
   "outputs": [],
   "source": [
    "from bookutils import quiz"
   ]
  },
  {
   "cell_type": "markdown",
   "metadata": {
    "slideshow": {
     "slide_type": "subslide"
    }
   },
   "source": [
    "In contrast to the other chapters, our aim now is not to immediately go and debug `remove_html_markup()`. Instead, we focus on another important question: \n",
    "\n",
    "> Under which conditions precisely does `remove_html_markup()` fail?"
   ]
  },
  {
   "cell_type": "markdown",
   "metadata": {
    "slideshow": {
     "slide_type": "fragment"
    }
   },
   "source": [
    "This question can be generalized to\n",
    "\n",
    "> What is the set of inputs for which `remove_html_markup()` fails?"
   ]
  },
  {
   "cell_type": "markdown",
   "metadata": {
    "slideshow": {
     "slide_type": "subslide"
    }
   },
   "source": [
    "Our plan for this is to _generalize_ concrete inputs (such as `BAD_INPUTS`) into an *abstract failure-inducing inputs*. These are patterns formed from a concrete input, but in which specific _placeholders_ indicate sets of inputs that are permitted. In the abstract failure-inducing input\n",
    "\n",
    "```html\n",
    "<opening-tag>\"bar<closing-tag>\n",
    "```\n",
    "\n",
    "for instance, `<opening-tag>` and `<closing-tag>` are placeholders for opening and closing HTML tags, respectively. The pattern indicates that any opening HTML tag and closing HTML tag can be present in the input, as long as the enclosed text reads `\"bar`."
   ]
  },
  {
   "cell_type": "markdown",
   "metadata": {
    "slideshow": {
     "slide_type": "subslide"
    }
   },
   "source": [
    "Given a concrete failure-inducing input, our aim is to _generalize_ it as much as possible to such an abstract failure-inducing input. The resulting pattern should then\n",
    "\n",
    "* capture the _circumstances_ under which the program fails;\n",
    "* allow for _test generation_ by instantiating the placeholders;\n",
    "* help ensuring our fix is as _general as possible_."
   ]
  },
  {
   "cell_type": "code",
   "execution_count": 10,
   "metadata": {
    "execution": {
     "iopub.execute_input": "2025-10-26T17:48:39.238928Z",
     "iopub.status.busy": "2025-10-26T17:48:39.238827Z",
     "iopub.status.idle": "2025-10-26T17:48:39.243156Z",
     "shell.execute_reply": "2025-10-26T17:48:39.242906Z"
    },
    "slideshow": {
     "slide_type": "subslide"
    },
    "tags": [
     "remove-input"
    ]
   },
   "outputs": [
    {
     "data": {
      "text/html": [
       "\n",
       "    \n",
       "    <script>\n",
       "    var bad_answers = new Map();\n",
       "\n",
       "    function answer(quiz_id) {\n",
       "        ans = 0;\n",
       "        for (i = 1;; i++) {\n",
       "            checkbox = document.getElementById(quiz_id + \"-\" + i.toString());\n",
       "            if (!checkbox)\n",
       "                break;\n",
       "            if (checkbox.checked)\n",
       "                ans |= (1 << i);\n",
       "        }\n",
       "        return ans;\n",
       "    }\n",
       "    function check_selection(quiz_id, correct_answer, multiple_choice, hint) {\n",
       "        given_answer = answer(quiz_id);\n",
       "        if (given_answer == correct_answer)\n",
       "        {\n",
       "            document.getElementById(quiz_id + \"-submit\").value = \"Correct!\";\n",
       "            document.getElementById(quiz_id + \"-hint\").innerHTML = \"\";\n",
       "\n",
       "            for (i = 1;; i++) {\n",
       "                checkbox = document.getElementById(quiz_id + \"-\" + i.toString());\n",
       "                label = document.getElementById(quiz_id + \"-\" + i.toString() + \"-label\")\n",
       "                if (!checkbox)\n",
       "                    break;\n",
       "\n",
       "                if (checkbox.checked) {\n",
       "                    label.style.fontWeight = \"bold\";\n",
       "                }\n",
       "                else {\n",
       "                    label.style.textDecoration = \"line-through\";\n",
       "                }\n",
       "            }\n",
       "        }\n",
       "        else \n",
       "        {\n",
       "            document.getElementById(quiz_id + \"-submit\").value = \"Try again\";\n",
       "\n",
       "            if (!bad_answers.has(quiz_id)) {\n",
       "                bad_answers.set(quiz_id, 1);\n",
       "            }\n",
       "            else {\n",
       "                bad_answers.set(quiz_id, bad_answers.get(quiz_id) + 1);\n",
       "            }\n",
       "\n",
       "            if (bad_answers.get(quiz_id) >= 2 && hint.length > 0) {\n",
       "                document.getElementById(quiz_id + \"-hint\").innerHTML = \n",
       "                    \"&nbsp;&nbsp;(Hint: <code>\" + hint + \"</code>)\";\n",
       "            }\n",
       "\n",
       "            if (!multiple_choice) {\n",
       "                for (i = 1;; i++) {\n",
       "                    checkbox = document.getElementById(quiz_id + \"-\" + i.toString());\n",
       "                    label = document.getElementById(quiz_id + \"-\" + i.toString() + \"-label\")\n",
       "\n",
       "                    if (!checkbox)\n",
       "                        break;\n",
       "                    if (checkbox.checked) {\n",
       "                        label.style.textDecoration = \"line-through\";\n",
       "                    }\n",
       "                }\n",
       "            }\n",
       "        }\n",
       "    }\n",
       "    function clear_selection(quiz_id) {\n",
       "        document.getElementById(quiz_id + \"-submit\").value = \"Submit\";\n",
       "        document.getElementById(quiz_id + \"-hint\").innerHTML = \"\";\n",
       "    }\n",
       "    </script>\n",
       "    \n",
       "    <div class=\"quiz\">\n",
       "    <h3 class=\"quiz_title\">Quiz</h3>\n",
       "    <p>\n",
       "    <div class=\"quiz_question\">If <code>s = '&lt;foo&gt;\"bar&lt;/foo&gt;'</code> (i.e., <code>BAD_INPUT</code>), what is the value of <code>out</code> such that the assertion fails?</div>\n",
       "    </p>\n",
       "    <p>\n",
       "    <div class=\"quiz_options\" title=\"Pick a choice.\">\n",
       "    \n",
       "        <input type=\"radio\" name=\"0121fd4c-b294-11f0-8772-6298cf1a5790\" id=\"0121fd4c-b294-11f0-8772-6298cf1a5790-1\" onclick=\"clear_selection('0121fd4c-b294-11f0-8772-6298cf1a5790')\">\n",
       "        <label id=\"0121fd4c-b294-11f0-8772-6298cf1a5790-1-label\" for=\"0121fd4c-b294-11f0-8772-6298cf1a5790-1\"><code>bar</code></label><br>\n",
       "    \n",
       "        <input type=\"radio\" name=\"0121fd4c-b294-11f0-8772-6298cf1a5790\" id=\"0121fd4c-b294-11f0-8772-6298cf1a5790-2\" onclick=\"clear_selection('0121fd4c-b294-11f0-8772-6298cf1a5790')\">\n",
       "        <label id=\"0121fd4c-b294-11f0-8772-6298cf1a5790-2-label\" for=\"0121fd4c-b294-11f0-8772-6298cf1a5790-2\"><code>bar&lt;/foo&gt;</code></label><br>\n",
       "    \n",
       "        <input type=\"radio\" name=\"0121fd4c-b294-11f0-8772-6298cf1a5790\" id=\"0121fd4c-b294-11f0-8772-6298cf1a5790-3\" onclick=\"clear_selection('0121fd4c-b294-11f0-8772-6298cf1a5790')\">\n",
       "        <label id=\"0121fd4c-b294-11f0-8772-6298cf1a5790-3-label\" for=\"0121fd4c-b294-11f0-8772-6298cf1a5790-3\"><code>\"bar&lt;/foo&gt;</code></label><br>\n",
       "    \n",
       "        <input type=\"radio\" name=\"0121fd4c-b294-11f0-8772-6298cf1a5790\" id=\"0121fd4c-b294-11f0-8772-6298cf1a5790-4\" onclick=\"clear_selection('0121fd4c-b294-11f0-8772-6298cf1a5790')\">\n",
       "        <label id=\"0121fd4c-b294-11f0-8772-6298cf1a5790-4-label\" for=\"0121fd4c-b294-11f0-8772-6298cf1a5790-4\"><code>&lt;foo&gt;\"bar&lt;/foo&gt;</code></label><br>\n",
       "    \n",
       "    </div>\n",
       "    </p>\n",
       "    <input id=\"0121fd4c-b294-11f0-8772-6298cf1a5790-submit\" type=\"submit\" value=\"Submit\" onclick=\"check_selection('0121fd4c-b294-11f0-8772-6298cf1a5790', 4, 0, '9999999 // 4999999')\">\n",
       "    <span class=\"quiz_hint\" id=\"0121fd4c-b294-11f0-8772-6298cf1a5790-hint\"></span>\n",
       "    </div>\n",
       "    "
      ],
      "text/plain": [
       "<IPython.core.display.HTML object>"
      ]
     },
     "execution_count": 10,
     "metadata": {},
     "output_type": "execute_result"
    }
   ],
   "source": [
    "quiz(\"If `s = '<foo>\\\"bar</foo>'` (i.e., `BAD_INPUT`), \"\n",
    "     \"what is the value of `out` such that the assertion fails?\",\n",
    "    [\n",
    "        '`bar`',\n",
    "        '`bar</foo>`',\n",
    "        '`\"bar</foo>`',\n",
    "        '`<foo>\"bar</foo>`',\n",
    "    ], '9999999 // 4999999')"
   ]
  },
  {
   "cell_type": "markdown",
   "metadata": {
    "slideshow": {
     "slide_type": "slide"
    }
   },
   "source": [
    "## Grammars\n",
    "\n",
    "To determine abstract failure-inducing inputs, we need means to determine and characterize _sets of inputs_ – known in computer science as _languages_. To formally describe languages, the field of *formal languages* has devised a number of *language specifications* that describe a language.  *Regular expressions* represent the simplest class of these languages to denote sets of strings: The regular expression `[a-z]*`, for instance, denotes a (possibly empty) sequence of lowercase letters.  *Automata theory* connects these languages to automata that accept these inputs; *finite state machines*, for instance, can be used to specify the language of regular expressions."
   ]
  },
  {
   "cell_type": "markdown",
   "metadata": {
    "slideshow": {
     "slide_type": "subslide"
    }
   },
   "source": [
    "Regular expressions are great for not-too-complex input formats, and the associated finite state machines have many properties that make them great for reasoning.  To specify more complex inputs, though, they quickly encounter limitations.  At the other end of the language spectrum, we have *universal grammars* that denote the language accepted by *Turing machines*.  A Turing machine can compute anything that can be computed; and with Python being Turing-complete, this means that we can also use a Python program $p$ to specify or even enumerate legal inputs. But then, computer science theory also tells us that each such program has to be written specifically for the input to be considered, which is not the level of automation we want."
   ]
  },
  {
   "cell_type": "markdown",
   "metadata": {
    "slideshow": {
     "slide_type": "subslide"
    }
   },
   "source": [
    "The middle ground between regular expressions and Turing machines is covered by *grammars*.  Grammars are among the most popular (and best understood) formalisms to formally specify input languages.  Using a grammar, one can express a wide range of the properties of an input language.  Grammars are particularly great for expressing the *syntactical structure* of an input, and are the formalism of choice to express nested or recursive inputs.  The grammars we use are so-called *context-free grammars*, one of the easiest and most popular grammar formalisms."
   ]
  },
  {
   "attachments": {},
   "cell_type": "markdown",
   "metadata": {
    "slideshow": {
     "slide_type": "fragment"
    }
   },
   "source": [
    "A grammar is defined as a mapping of _nonterminal_ symbols (denoted in `<angle brackets>`) to lists of alternative _expansions_, which are strings containing _terminal_ symbols and possibly more _nonterminal_ symbols. To make the writing of grammars as simple as possible, we adopt the [fuzzingbook](https://www.fuzzingbook.org/) format that is based on strings and lists."
   ]
  },
  {
   "cell_type": "code",
   "execution_count": 11,
   "metadata": {
    "execution": {
     "iopub.execute_input": "2025-10-26T17:48:39.244707Z",
     "iopub.status.busy": "2025-10-26T17:48:39.244607Z",
     "iopub.status.idle": "2025-10-26T17:48:39.247254Z",
     "shell.execute_reply": "2025-10-26T17:48:39.247002Z"
    },
    "slideshow": {
     "slide_type": "skip"
    }
   },
   "outputs": [],
   "source": [
    "import fuzzingbook"
   ]
  },
  {
   "cell_type": "markdown",
   "metadata": {
    "slideshow": {
     "slide_type": "subslide"
    }
   },
   "source": [
    "Fuzzingbook grammars take the format of a _mapping_ between symbol names and expansions, where expansions are _lists_ of alternatives."
   ]
  },
  {
   "cell_type": "code",
   "execution_count": 12,
   "metadata": {
    "execution": {
     "iopub.execute_input": "2025-10-26T17:48:39.248895Z",
     "iopub.status.busy": "2025-10-26T17:48:39.248765Z",
     "iopub.status.idle": "2025-10-26T17:48:39.250596Z",
     "shell.execute_reply": "2025-10-26T17:48:39.250262Z"
    },
    "slideshow": {
     "slide_type": "fragment"
    },
    "tags": [
     "remove-input"
    ]
   },
   "outputs": [],
   "source": [
    "# ignore\n",
    "from typing import Any, Callable, Optional, Type, Tuple\n",
    "from typing import Dict, Union, List, cast, Generator"
   ]
  },
  {
   "cell_type": "code",
   "execution_count": 13,
   "metadata": {
    "execution": {
     "iopub.execute_input": "2025-10-26T17:48:39.251972Z",
     "iopub.status.busy": "2025-10-26T17:48:39.251860Z",
     "iopub.status.idle": "2025-10-26T17:48:39.253538Z",
     "shell.execute_reply": "2025-10-26T17:48:39.253314Z"
    },
    "slideshow": {
     "slide_type": "fragment"
    }
   },
   "outputs": [],
   "source": [
    "Grammar = Dict[str,  # A grammar maps strings...\n",
    "               List[\n",
    "                   Union[str,  # to list of strings...\n",
    "                         Tuple[str, Dict[str, Any]]  # or to pairs of strings and attributes.\n",
    "                        ]\n",
    "               ]\n",
    "              ]"
   ]
  },
  {
   "cell_type": "markdown",
   "metadata": {
    "slideshow": {
     "slide_type": "fragment"
    }
   },
   "source": [
    "A one-rule grammar for digits thus takes the form"
   ]
  },
  {
   "cell_type": "code",
   "execution_count": 14,
   "metadata": {
    "execution": {
     "iopub.execute_input": "2025-10-26T17:48:39.254774Z",
     "iopub.status.busy": "2025-10-26T17:48:39.254678Z",
     "iopub.status.idle": "2025-10-26T17:48:39.256343Z",
     "shell.execute_reply": "2025-10-26T17:48:39.256088Z"
    },
    "slideshow": {
     "slide_type": "subslide"
    }
   },
   "outputs": [],
   "source": [
    "DIGIT_GRAMMAR: Grammar = {\n",
    "    \"<start>\":\n",
    "        [\"0\", \"1\", \"2\", \"3\", \"4\", \"5\", \"6\", \"7\", \"8\", \"9\"]\n",
    "}"
   ]
  },
  {
   "cell_type": "markdown",
   "metadata": {
    "slideshow": {
     "slide_type": "fragment"
    }
   },
   "source": [
    "which means that the `<start>` symbol can be expanded into any of the digits listed."
   ]
  },
  {
   "cell_type": "markdown",
   "metadata": {
    "slideshow": {
     "slide_type": "fragment"
    }
   },
   "source": [
    "A full grammar for arithmetic expressions looks like this:"
   ]
  },
  {
   "cell_type": "code",
   "execution_count": 15,
   "metadata": {
    "execution": {
     "iopub.execute_input": "2025-10-26T17:48:39.257856Z",
     "iopub.status.busy": "2025-10-26T17:48:39.257774Z",
     "iopub.status.idle": "2025-10-26T17:48:39.259550Z",
     "shell.execute_reply": "2025-10-26T17:48:39.259323Z"
    },
    "slideshow": {
     "slide_type": "subslide"
    }
   },
   "outputs": [],
   "source": [
    "EXPR_GRAMMAR: Grammar = {\n",
    "    \"<start>\":\n",
    "        [\"<expr>\"],\n",
    "\n",
    "    \"<expr>\":\n",
    "        [\"<term> + <expr>\", \"<term> - <expr>\", \"<term>\"],\n",
    "\n",
    "    \"<term>\":\n",
    "        [\"<factor> * <term>\", \"<factor> / <term>\", \"<factor>\"],\n",
    "\n",
    "    \"<factor>\":\n",
    "        [\"+<factor>\",\n",
    "         \"-<factor>\",\n",
    "         \"(<expr>)\",\n",
    "         \"<integer>.<integer>\",\n",
    "         \"<integer>\"],\n",
    "\n",
    "    \"<integer>\":\n",
    "        [\"<digit><integer>\", \"<digit>\"],\n",
    "\n",
    "    \"<digit>\":\n",
    "        [\"0\", \"1\", \"2\", \"3\", \"4\", \"5\", \"6\", \"7\", \"8\", \"9\"]\n",
    "}"
   ]
  },
  {
   "cell_type": "markdown",
   "metadata": {
    "slideshow": {
     "slide_type": "subslide"
    }
   },
   "source": [
    "From such a grammar, one can easily generate inputs that conform to the grammar."
   ]
  },
  {
   "cell_type": "code",
   "execution_count": 16,
   "metadata": {
    "execution": {
     "iopub.execute_input": "2025-10-26T17:48:39.261001Z",
     "iopub.status.busy": "2025-10-26T17:48:39.260910Z",
     "iopub.status.idle": "2025-10-26T17:48:39.270224Z",
     "shell.execute_reply": "2025-10-26T17:48:39.269947Z"
    },
    "slideshow": {
     "slide_type": "skip"
    }
   },
   "outputs": [],
   "source": [
    "from fuzzingbook.GrammarFuzzer import GrammarFuzzer"
   ]
  },
  {
   "cell_type": "code",
   "execution_count": 17,
   "metadata": {
    "execution": {
     "iopub.execute_input": "2025-10-26T17:48:39.271605Z",
     "iopub.status.busy": "2025-10-26T17:48:39.271516Z",
     "iopub.status.idle": "2025-10-26T17:48:39.272934Z",
     "shell.execute_reply": "2025-10-26T17:48:39.272702Z"
    },
    "slideshow": {
     "slide_type": "fragment"
    }
   },
   "outputs": [],
   "source": [
    "simple_expr_fuzzer = GrammarFuzzer(EXPR_GRAMMAR)"
   ]
  },
  {
   "cell_type": "code",
   "execution_count": 18,
   "metadata": {
    "execution": {
     "iopub.execute_input": "2025-10-26T17:48:39.274070Z",
     "iopub.status.busy": "2025-10-26T17:48:39.273994Z",
     "iopub.status.idle": "2025-10-26T17:48:39.304885Z",
     "shell.execute_reply": "2025-10-26T17:48:39.304573Z"
    },
    "slideshow": {
     "slide_type": "subslide"
    }
   },
   "outputs": [
    {
     "name": "stdout",
     "output_type": "stream",
     "text": [
      "3.8 + --62.912 - ++4 - +5 * 3.0 * 4\n",
      "7 * (75.5 - -6 + 5 - 4) + -(8 - 1) / 5 * 2\n",
      "(-(9) * +6 + 9 / 3 * 8 - 9 * 8 / 7) / -+-65\n",
      "(9 + 8) * 2 * (6 + 6 + 9) * 0 * 1.9 * 0\n",
      "(1 * 7 - 9 + 5) * 5 / 0 * 5 + 7 * 5 * 7\n",
      "-(6 / 9 - 5 - 3 - 1) - -1 / +1 + (9) / (8) * 6\n",
      "(+-(0 - (1) * 7 / 3)) / ((1 * 3 + 8) + 9 - +1 / --0) - 5 * (-+939.491)\n",
      "+2.9 * 0 / 501.19814 / --+--(6.05002)\n",
      "+-8.8 / (1) * -+1 + -8 + 9 - 3 / 8 * 6 + 4 * 3 * 5\n",
      "(+(8 / 9 - 1 - 7)) + ---06.30 / +4.39\n"
     ]
    }
   ],
   "source": [
    "for i in range(10):\n",
    "    fuzz_expr = simple_expr_fuzzer.fuzz()\n",
    "    print(fuzz_expr)"
   ]
  },
  {
   "cell_type": "markdown",
   "metadata": {
    "slideshow": {
     "slide_type": "subslide"
    }
   },
   "source": [
    "Nonterminals as found in the grammar make natural _placeholders_ in abstract failure-inducing inputs. If we know, for instance, that it is not just the concrete failure-inducing input\n",
    "\n",
    "```python\n",
    "(2 * 3)\n",
    "```\n",
    "\n",
    "but the abstract failure-inducing input\n",
    "\n",
    "```html\n",
    "(<expr> * <expr>)\n",
    "```\n",
    "\n",
    "that causes the failure, we immediately see that the error is due to the multiplication operator rather than its operands."
   ]
  },
  {
   "cell_type": "markdown",
   "metadata": {
    "slideshow": {
     "slide_type": "subslide"
    }
   },
   "source": [
    "Coming back to our `remove_html_markup()` example, let us create a simple grammar for HTML expressions. A `<html>` element is either plain text or tagged text."
   ]
  },
  {
   "cell_type": "code",
   "execution_count": 19,
   "metadata": {
    "button": false,
    "execution": {
     "iopub.execute_input": "2025-10-26T17:48:39.306298Z",
     "iopub.status.busy": "2025-10-26T17:48:39.306206Z",
     "iopub.status.idle": "2025-10-26T17:48:39.307897Z",
     "shell.execute_reply": "2025-10-26T17:48:39.307643Z"
    },
    "new_sheet": false,
    "run_control": {
     "read_only": false
    },
    "slideshow": {
     "slide_type": "subslide"
    }
   },
   "outputs": [],
   "source": [
    "SIMPLE_HTML_GRAMMAR: Grammar = {\n",
    "    \"<start>\":\n",
    "        [\"<html>\"],\n",
    "\n",
    "    \"<html>\":\n",
    "        [\"<plain-text>\", \"<tagged-text>\"],\n",
    "}"
   ]
  },
  {
   "cell_type": "markdown",
   "metadata": {
    "slideshow": {
     "slide_type": "fragment"
    }
   },
   "source": [
    "Plain text is a simple (possibly empty) sequence of letter, digits, punctuation, and whitespace. (Note how `<plain-text>` is either empty or some character followed by more plain text.) The characters `<` and `>` are not allowed, though."
   ]
  },
  {
   "cell_type": "code",
   "execution_count": 20,
   "metadata": {
    "execution": {
     "iopub.execute_input": "2025-10-26T17:48:39.309351Z",
     "iopub.status.busy": "2025-10-26T17:48:39.309267Z",
     "iopub.status.idle": "2025-10-26T17:48:39.310715Z",
     "shell.execute_reply": "2025-10-26T17:48:39.310515Z"
    },
    "slideshow": {
     "slide_type": "skip"
    }
   },
   "outputs": [],
   "source": [
    "import string"
   ]
  },
  {
   "cell_type": "code",
   "execution_count": 21,
   "metadata": {
    "button": false,
    "execution": {
     "iopub.execute_input": "2025-10-26T17:48:39.312029Z",
     "iopub.status.busy": "2025-10-26T17:48:39.311947Z",
     "iopub.status.idle": "2025-10-26T17:48:39.313802Z",
     "shell.execute_reply": "2025-10-26T17:48:39.313581Z"
    },
    "new_sheet": false,
    "run_control": {
     "read_only": false
    },
    "slideshow": {
     "slide_type": "subslide"
    }
   },
   "outputs": [],
   "source": [
    "SIMPLE_HTML_GRAMMAR.update({\n",
    "    \"<plain-text>\":\n",
    "        [\"\", \"<plain-char><plain-text>\"],\n",
    "\n",
    "    \"<plain-char>\":\n",
    "        [\"<letter>\", \"<digit>\", \"<other>\", \"<whitespace>\"],\n",
    "\n",
    "    \"<letter>\": list(string.ascii_letters),\n",
    "    \"<digit>\": list(string.digits),\n",
    "    \"<other>\": list(string.punctuation.replace('<', '').replace('>', '')),\n",
    "    \"<whitespace>\": list(string.whitespace)\n",
    "})"
   ]
  },
  {
   "cell_type": "markdown",
   "metadata": {
    "slideshow": {
     "slide_type": "subslide"
    }
   },
   "source": [
    "Tagged text is a bit more complicated. We have opening tags `<foo>`, followed by some more HTML material, and then closed by a closing tag `</foo>`. (We do not insist that the two tags match.) A self-closing tag has the form `<br/>`. For compatibility reasons, we also allow just opening tags without closing tags, as in `<img>`."
   ]
  },
  {
   "cell_type": "code",
   "execution_count": 22,
   "metadata": {
    "button": false,
    "execution": {
     "iopub.execute_input": "2025-10-26T17:48:39.315110Z",
     "iopub.status.busy": "2025-10-26T17:48:39.315027Z",
     "iopub.status.idle": "2025-10-26T17:48:39.316465Z",
     "shell.execute_reply": "2025-10-26T17:48:39.316243Z"
    },
    "new_sheet": false,
    "run_control": {
     "read_only": false
    },
    "slideshow": {
     "slide_type": "subslide"
    }
   },
   "outputs": [],
   "source": [
    "SIMPLE_HTML_GRAMMAR.update({\n",
    "    \"<tagged-text>\":\n",
    "        [\"<opening-tag><html><closing-tag>\",\n",
    "         \"<self-closing-tag>\",\n",
    "         \"<opening-tag>\"],\n",
    "})"
   ]
  },
  {
   "cell_type": "markdown",
   "metadata": {
    "slideshow": {
     "slide_type": "fragment"
    }
   },
   "source": [
    "Since the characters `<` and `>` are already reserved for denoting nonterminal symbols, we use the special nonterminal symbols `<lt>` and `<gt>` that expand into `<` and `>`, respectively,"
   ]
  },
  {
   "cell_type": "code",
   "execution_count": 23,
   "metadata": {
    "button": false,
    "execution": {
     "iopub.execute_input": "2025-10-26T17:48:39.317776Z",
     "iopub.status.busy": "2025-10-26T17:48:39.317685Z",
     "iopub.status.idle": "2025-10-26T17:48:39.319331Z",
     "shell.execute_reply": "2025-10-26T17:48:39.319081Z"
    },
    "new_sheet": false,
    "run_control": {
     "read_only": false
    },
    "slideshow": {
     "slide_type": "subslide"
    }
   },
   "outputs": [],
   "source": [
    "SIMPLE_HTML_GRAMMAR.update({\n",
    "    \"<opening-tag>\":\n",
    "        [\"<lt><id><gt>\",\n",
    "         \"<lt><id><attrs><gt>\"],\n",
    "\n",
    "    \"<lt>\": [\"<\"],\n",
    "    \"<gt>\": [\">\"],\n",
    "\n",
    "    \"<id>\":\n",
    "        [\"<letter>\", \"<id><letter>\", \"<id><digit>\"],\n",
    "\n",
    "    \"<closing-tag>\":\n",
    "        [\"<lt>/<id><gt>\"],\n",
    "\n",
    "    \"<self-closing-tag>\":\n",
    "        [\"<lt><id><attrs>/<gt>\"],\n",
    "})"
   ]
  },
  {
   "cell_type": "markdown",
   "metadata": {
    "slideshow": {
     "slide_type": "subslide"
    }
   },
   "source": [
    "Finally, HTML tags can have attributes, which are enclosed in quotes."
   ]
  },
  {
   "cell_type": "code",
   "execution_count": 24,
   "metadata": {
    "button": false,
    "execution": {
     "iopub.execute_input": "2025-10-26T17:48:39.320709Z",
     "iopub.status.busy": "2025-10-26T17:48:39.320625Z",
     "iopub.status.idle": "2025-10-26T17:48:39.322022Z",
     "shell.execute_reply": "2025-10-26T17:48:39.321816Z"
    },
    "new_sheet": false,
    "run_control": {
     "read_only": false
    },
    "slideshow": {
     "slide_type": "subslide"
    }
   },
   "outputs": [],
   "source": [
    "SIMPLE_HTML_GRAMMAR.update({\n",
    "    \"<attrs>\":\n",
    "        [\"<attr>\", \"<attr><attrs>\" ],\n",
    "\n",
    "    \"<attr>\":\n",
    "        [\" <id>='<plain-text>'\",\n",
    "         ' <id>=\"<plain-text>\"'],\n",
    "})"
   ]
  },
  {
   "cell_type": "markdown",
   "metadata": {
    "slideshow": {
     "slide_type": "fragment"
    }
   },
   "source": [
    "Again, we can generate inputs from the grammar."
   ]
  },
  {
   "cell_type": "code",
   "execution_count": 25,
   "metadata": {
    "execution": {
     "iopub.execute_input": "2025-10-26T17:48:39.323307Z",
     "iopub.status.busy": "2025-10-26T17:48:39.323167Z",
     "iopub.status.idle": "2025-10-26T17:48:39.324804Z",
     "shell.execute_reply": "2025-10-26T17:48:39.324612Z"
    },
    "slideshow": {
     "slide_type": "fragment"
    }
   },
   "outputs": [],
   "source": [
    "simple_html_fuzzer = GrammarFuzzer(SIMPLE_HTML_GRAMMAR)"
   ]
  },
  {
   "cell_type": "code",
   "execution_count": 26,
   "metadata": {
    "execution": {
     "iopub.execute_input": "2025-10-26T17:48:39.326016Z",
     "iopub.status.busy": "2025-10-26T17:48:39.325943Z",
     "iopub.status.idle": "2025-10-26T17:48:39.341444Z",
     "shell.execute_reply": "2025-10-26T17:48:39.341179Z"
    },
    "slideshow": {
     "slide_type": "subslide"
    }
   },
   "outputs": [
    {
     "name": "stdout",
     "output_type": "stream",
     "text": [
      "'<T3 xG=\"\">'\n",
      "'<N9cd U=\\'\\' y=\\'l1\\' v0=\"\" tb4ya=\"\" UbD=\\'\\'>9</R>'\n",
      "'\\x0b'\n",
      "' ea\\\\\\\\'\n",
      "'&7'\n",
      "\"<c1 o2='' x9661lQo64T=''/>\"\n",
      "'<S4>'\n",
      "'<GMS></wAu>'\n",
      "'<j CI=\\'\\' T98sJ=\"\" DR4=\\'\\'/>'\n",
      "'<FQc90 Wt=\"\"/>'\n"
     ]
    }
   ],
   "source": [
    "for i in range(10):\n",
    "    fuzz_html = simple_html_fuzzer.fuzz()\n",
    "    print(repr(fuzz_html))"
   ]
  },
  {
   "cell_type": "markdown",
   "metadata": {
    "slideshow": {
     "slide_type": "subslide"
    }
   },
   "source": [
    "Such inputs, of course, are great for systematic testing. Our sister book, [the fuzzing book](https://www.fuzzingbook.org/), covers these and more."
   ]
  },
  {
   "cell_type": "markdown",
   "metadata": {
    "slideshow": {
     "slide_type": "slide"
    }
   },
   "source": [
    "## Derivation Trees\n",
    "\n",
    "To produce inputs from a grammar, the fuzzingbook `GrammarFuzzer` makes use of a structure called a *derivation tree* (also known as *syntax tree*). A derivation tree encodes the individual expansion steps undertaken while producing the output."
   ]
  },
  {
   "cell_type": "code",
   "execution_count": 27,
   "metadata": {
    "execution": {
     "iopub.execute_input": "2025-10-26T17:48:39.342902Z",
     "iopub.status.busy": "2025-10-26T17:48:39.342808Z",
     "iopub.status.idle": "2025-10-26T17:48:39.344486Z",
     "shell.execute_reply": "2025-10-26T17:48:39.344256Z"
    },
    "slideshow": {
     "slide_type": "fragment"
    }
   },
   "outputs": [],
   "source": [
    "DerivationTree = Tuple[str, Optional[List[Any]]]"
   ]
  },
  {
   "cell_type": "markdown",
   "metadata": {
    "slideshow": {
     "slide_type": "fragment"
    }
   },
   "source": [
    "Let us illustrate derivation trees by example, using the last HTML output we produced."
   ]
  },
  {
   "cell_type": "code",
   "execution_count": 28,
   "metadata": {
    "execution": {
     "iopub.execute_input": "2025-10-26T17:48:39.345919Z",
     "iopub.status.busy": "2025-10-26T17:48:39.345824Z",
     "iopub.status.idle": "2025-10-26T17:48:39.347889Z",
     "shell.execute_reply": "2025-10-26T17:48:39.347653Z"
    },
    "slideshow": {
     "slide_type": "fragment"
    }
   },
   "outputs": [
    {
     "data": {
      "text/plain": [
       "'<FQc90 Wt=\"\"/>'"
      ]
     },
     "execution_count": 28,
     "metadata": {},
     "output_type": "execute_result"
    }
   ],
   "source": [
    "fuzz_html"
   ]
  },
  {
   "attachments": {},
   "cell_type": "markdown",
   "metadata": {
    "slideshow": {
     "slide_type": "fragment"
    }
   },
   "source": [
    "The `GrammarFuzzer` attribute `derivation_tree` holds the last tree used to produce this input. We can visualize the tree as follows:"
   ]
  },
  {
   "cell_type": "code",
   "execution_count": 29,
   "metadata": {
    "execution": {
     "iopub.execute_input": "2025-10-26T17:48:39.349207Z",
     "iopub.status.busy": "2025-10-26T17:48:39.349130Z",
     "iopub.status.idle": "2025-10-26T17:48:39.350501Z",
     "shell.execute_reply": "2025-10-26T17:48:39.350256Z"
    },
    "slideshow": {
     "slide_type": "fragment"
    },
    "tags": [
     "remove-input"
    ]
   },
   "outputs": [],
   "source": [
    "# ignore\n",
    "from graphviz import Digraph"
   ]
  },
  {
   "cell_type": "code",
   "execution_count": 30,
   "metadata": {
    "execution": {
     "iopub.execute_input": "2025-10-26T17:48:39.351897Z",
     "iopub.status.busy": "2025-10-26T17:48:39.351797Z",
     "iopub.status.idle": "2025-10-26T17:48:39.354228Z",
     "shell.execute_reply": "2025-10-26T17:48:39.354003Z"
    },
    "slideshow": {
     "slide_type": "subslide"
    },
    "tags": [
     "remove-input"
    ]
   },
   "outputs": [],
   "source": [
    "# ignore\n",
    "def display_tree(tree: DerivationTree) -> Digraph:\n",
    "    def graph_attr(dot: Digraph) -> None:\n",
    "        dot.attr('node', shape='box', color='white', margin='0.0,0.0')\n",
    "        dot.attr('node',\n",
    "                 fontname=\"'Fira Mono', 'Source Code Pro', 'Courier', monospace\")\n",
    "\n",
    "    def node_attr(dot: Digraph, nid: str, symbol: str, ann: str) -> None:\n",
    "        fuzzingbook.GrammarFuzzer.default_node_attr(dot, nid, symbol, ann)\n",
    "        if symbol.startswith('<'):\n",
    "            dot.node(repr(nid), fontcolor='#0060a0')\n",
    "        else:\n",
    "            dot.node(repr(nid), fontcolor='#00a060')\n",
    "        dot.node(repr(nid), scale='2')\n",
    "\n",
    "    return fuzzingbook.GrammarFuzzer.display_tree(tree,\n",
    "        node_attr=node_attr,\n",
    "        graph_attr=graph_attr)"
   ]
  },
  {
   "cell_type": "code",
   "execution_count": 31,
   "metadata": {
    "execution": {
     "iopub.execute_input": "2025-10-26T17:48:39.355469Z",
     "iopub.status.busy": "2025-10-26T17:48:39.355394Z",
     "iopub.status.idle": "2025-10-26T17:48:39.707636Z",
     "shell.execute_reply": "2025-10-26T17:48:39.707293Z"
    },
    "slideshow": {
     "slide_type": "subslide"
    },
    "tags": [
     "remove-input"
    ]
   },
   "outputs": [
    {
     "data": {
      "image/svg+xml": [
       "<?xml version=\"1.0\" encoding=\"UTF-8\" standalone=\"no\"?>\n",
       "<!DOCTYPE svg PUBLIC \"-//W3C//DTD SVG 1.1//EN\"\n",
       " \"http://www.w3.org/Graphics/SVG/1.1/DTD/svg11.dtd\">\n",
       "<!-- Generated by graphviz version 14.0.2 (20251019.1705)\n",
       " -->\n",
       "<!-- Pages: 1 -->\n",
       "<svg width=\"780pt\" height=\"764pt\"\n",
       " viewBox=\"0.00 0.00 780.00 764.00\" xmlns=\"http://www.w3.org/2000/svg\" xmlns:xlink=\"http://www.w3.org/1999/xlink\">\n",
       "<g id=\"graph0\" class=\"graph\" transform=\"scale(1 1) rotate(0) translate(4 760)\">\n",
       "<polygon fill=\"white\" stroke=\"none\" points=\"-4,4 -4,-760 776,-760 776,4 -4,4\"/>\n",
       "<!-- 0 -->\n",
       "<g id=\"node1\" class=\"node\">\n",
       "<title>0</title>\n",
       "<polygon fill=\"none\" stroke=\"white\" points=\"440.88,-756 383.12,-756 383.12,-720 440.88,-720 440.88,-756\"/>\n",
       "<text xml:space=\"preserve\" text-anchor=\"middle\" x=\"412\" y=\"-733.33\" font-family=\"'Fira Mono', 'Source Code Pro', 'Courier', monospace\" font-size=\"14.00\" fill=\"#0060a0\">&lt;start&gt;</text>\n",
       "</g>\n",
       "<!-- 1 -->\n",
       "<g id=\"node2\" class=\"node\">\n",
       "<title>1</title>\n",
       "<polygon fill=\"none\" stroke=\"white\" points=\"439,-684 385,-684 385,-648 439,-648 439,-684\"/>\n",
       "<text xml:space=\"preserve\" text-anchor=\"middle\" x=\"412\" y=\"-661.33\" font-family=\"'Fira Mono', 'Source Code Pro', 'Courier', monospace\" font-size=\"14.00\" fill=\"#0060a0\">&lt;html&gt;</text>\n",
       "</g>\n",
       "<!-- 0&#45;&gt;1 -->\n",
       "<g id=\"edge1\" class=\"edge\">\n",
       "<title>0&#45;&gt;1</title>\n",
       "<path fill=\"none\" stroke=\"black\" d=\"M412,-719.7C412,-712.41 412,-703.73 412,-695.54\"/>\n",
       "<polygon fill=\"black\" stroke=\"black\" points=\"415.5,-695.62 412,-685.62 408.5,-695.62 415.5,-695.62\"/>\n",
       "</g>\n",
       "<!-- 2 -->\n",
       "<g id=\"node3\" class=\"node\">\n",
       "<title>2</title>\n",
       "<polygon fill=\"none\" stroke=\"white\" points=\"465.62,-612 358.38,-612 358.38,-576 465.62,-576 465.62,-612\"/>\n",
       "<text xml:space=\"preserve\" text-anchor=\"middle\" x=\"412\" y=\"-589.33\" font-family=\"'Fira Mono', 'Source Code Pro', 'Courier', monospace\" font-size=\"14.00\" fill=\"#0060a0\">&lt;tagged&#45;text&gt;</text>\n",
       "</g>\n",
       "<!-- 1&#45;&gt;2 -->\n",
       "<g id=\"edge2\" class=\"edge\">\n",
       "<title>1&#45;&gt;2</title>\n",
       "<path fill=\"none\" stroke=\"black\" d=\"M412,-647.7C412,-640.41 412,-631.73 412,-623.54\"/>\n",
       "<polygon fill=\"black\" stroke=\"black\" points=\"415.5,-623.62 412,-613.62 408.5,-623.62 415.5,-623.62\"/>\n",
       "</g>\n",
       "<!-- 3 -->\n",
       "<g id=\"node4\" class=\"node\">\n",
       "<title>3</title>\n",
       "<polygon fill=\"none\" stroke=\"white\" points=\"486.25,-540 337.75,-540 337.75,-504 486.25,-504 486.25,-540\"/>\n",
       "<text xml:space=\"preserve\" text-anchor=\"middle\" x=\"412\" y=\"-517.33\" font-family=\"'Fira Mono', 'Source Code Pro', 'Courier', monospace\" font-size=\"14.00\" fill=\"#0060a0\">&lt;self&#45;closing&#45;tag&gt;</text>\n",
       "</g>\n",
       "<!-- 2&#45;&gt;3 -->\n",
       "<g id=\"edge3\" class=\"edge\">\n",
       "<title>2&#45;&gt;3</title>\n",
       "<path fill=\"none\" stroke=\"black\" d=\"M412,-575.7C412,-568.41 412,-559.73 412,-551.54\"/>\n",
       "<polygon fill=\"black\" stroke=\"black\" points=\"415.5,-551.62 412,-541.62 408.5,-551.62 415.5,-551.62\"/>\n",
       "</g>\n",
       "<!-- 4 -->\n",
       "<g id=\"node5\" class=\"node\">\n",
       "<title>4</title>\n",
       "<polygon fill=\"none\" stroke=\"white\" points=\"258,-468 204,-468 204,-432 258,-432 258,-468\"/>\n",
       "<text xml:space=\"preserve\" text-anchor=\"middle\" x=\"231\" y=\"-445.32\" font-family=\"'Fira Mono', 'Source Code Pro', 'Courier', monospace\" font-size=\"14.00\" fill=\"#0060a0\">&lt;lt&gt;</text>\n",
       "</g>\n",
       "<!-- 3&#45;&gt;4 -->\n",
       "<g id=\"edge4\" class=\"edge\">\n",
       "<title>3&#45;&gt;4</title>\n",
       "<path fill=\"none\" stroke=\"black\" d=\"M366.79,-503.52C336.62,-491.85 297.39,-476.68 268.86,-465.64\"/>\n",
       "<polygon fill=\"black\" stroke=\"black\" points=\"270.49,-462.52 259.9,-462.18 267.97,-469.05 270.49,-462.52\"/>\n",
       "</g>\n",
       "<!-- 6 -->\n",
       "<g id=\"node7\" class=\"node\">\n",
       "<title>6</title>\n",
       "<polygon fill=\"none\" stroke=\"white\" points=\"365,-468 311,-468 311,-432 365,-432 365,-468\"/>\n",
       "<text xml:space=\"preserve\" text-anchor=\"middle\" x=\"338\" y=\"-445.32\" font-family=\"'Fira Mono', 'Source Code Pro', 'Courier', monospace\" font-size=\"14.00\" fill=\"#0060a0\">&lt;id&gt;</text>\n",
       "</g>\n",
       "<!-- 3&#45;&gt;6 -->\n",
       "<g id=\"edge6\" class=\"edge\">\n",
       "<title>3&#45;&gt;6</title>\n",
       "<path fill=\"none\" stroke=\"black\" d=\"M393.71,-503.7C384.9,-495.37 374.18,-485.22 364.5,-476.07\"/>\n",
       "<polygon fill=\"black\" stroke=\"black\" points=\"367.11,-473.72 357.44,-469.39 362.3,-478.8 367.11,-473.72\"/>\n",
       "</g>\n",
       "<!-- 21 -->\n",
       "<g id=\"node22\" class=\"node\">\n",
       "<title>21</title>\n",
       "<polygon fill=\"none\" stroke=\"white\" points=\"440.88,-468 383.12,-468 383.12,-432 440.88,-432 440.88,-468\"/>\n",
       "<text xml:space=\"preserve\" text-anchor=\"middle\" x=\"412\" y=\"-445.32\" font-family=\"'Fira Mono', 'Source Code Pro', 'Courier', monospace\" font-size=\"14.00\" fill=\"#0060a0\">&lt;attrs&gt;</text>\n",
       "</g>\n",
       "<!-- 3&#45;&gt;21 -->\n",
       "<g id=\"edge21\" class=\"edge\">\n",
       "<title>3&#45;&gt;21</title>\n",
       "<path fill=\"none\" stroke=\"black\" d=\"M412,-503.7C412,-496.41 412,-487.73 412,-479.54\"/>\n",
       "<polygon fill=\"black\" stroke=\"black\" points=\"415.5,-479.62 412,-469.62 408.5,-479.62 415.5,-479.62\"/>\n",
       "</g>\n",
       "<!-- 34 -->\n",
       "<g id=\"node35\" class=\"node\">\n",
       "<title>34</title>\n",
       "<polygon fill=\"none\" stroke=\"white\" points=\"513,-468 459,-468 459,-432 513,-432 513,-468\"/>\n",
       "<text xml:space=\"preserve\" text-anchor=\"middle\" x=\"486\" y=\"-445.32\" font-family=\"'Fira Mono', 'Source Code Pro', 'Courier', monospace\" font-size=\"14.00\" fill=\"#00a060\">/ (47)</text>\n",
       "</g>\n",
       "<!-- 3&#45;&gt;34 -->\n",
       "<g id=\"edge34\" class=\"edge\">\n",
       "<title>3&#45;&gt;34</title>\n",
       "<path fill=\"none\" stroke=\"black\" d=\"M430.29,-503.7C439.1,-495.37 449.82,-485.22 459.5,-476.07\"/>\n",
       "<polygon fill=\"black\" stroke=\"black\" points=\"461.7,-478.8 466.56,-469.39 456.89,-473.72 461.7,-478.8\"/>\n",
       "</g>\n",
       "<!-- 35 -->\n",
       "<g id=\"node36\" class=\"node\">\n",
       "<title>35</title>\n",
       "<polygon fill=\"none\" stroke=\"white\" points=\"585,-468 531,-468 531,-432 585,-432 585,-468\"/>\n",
       "<text xml:space=\"preserve\" text-anchor=\"middle\" x=\"558\" y=\"-445.32\" font-family=\"'Fira Mono', 'Source Code Pro', 'Courier', monospace\" font-size=\"14.00\" fill=\"#0060a0\">&lt;gt&gt;</text>\n",
       "</g>\n",
       "<!-- 3&#45;&gt;35 -->\n",
       "<g id=\"edge35\" class=\"edge\">\n",
       "<title>3&#45;&gt;35</title>\n",
       "<path fill=\"none\" stroke=\"black\" d=\"M448.47,-503.52C470.39,-493.01 498.23,-479.66 520.36,-469.05\"/>\n",
       "<polygon fill=\"black\" stroke=\"black\" points=\"521.84,-472.22 529.34,-464.74 518.81,-465.91 521.84,-472.22\"/>\n",
       "</g>\n",
       "<!-- 5 -->\n",
       "<g id=\"node6\" class=\"node\">\n",
       "<title>5</title>\n",
       "<polygon fill=\"none\" stroke=\"white\" points=\"220,-396 166,-396 166,-360 220,-360 220,-396\"/>\n",
       "<text xml:space=\"preserve\" text-anchor=\"middle\" x=\"193\" y=\"-373.32\" font-family=\"'Fira Mono', 'Source Code Pro', 'Courier', monospace\" font-size=\"14.00\" fill=\"#0060a0\">&lt; (60)</text>\n",
       "</g>\n",
       "<!-- 4&#45;&gt;5 -->\n",
       "<g id=\"edge5\" class=\"edge\">\n",
       "<title>4&#45;&gt;5</title>\n",
       "<path fill=\"none\" stroke=\"black\" d=\"M221.61,-431.7C217.42,-423.98 212.39,-414.71 207.72,-406.11\"/>\n",
       "<polygon fill=\"black\" stroke=\"black\" points=\"210.85,-404.55 203.01,-397.43 204.7,-407.89 210.85,-404.55\"/>\n",
       "</g>\n",
       "<!-- 7 -->\n",
       "<g id=\"node8\" class=\"node\">\n",
       "<title>7</title>\n",
       "<polygon fill=\"none\" stroke=\"white\" points=\"292,-396 238,-396 238,-360 292,-360 292,-396\"/>\n",
       "<text xml:space=\"preserve\" text-anchor=\"middle\" x=\"265\" y=\"-373.32\" font-family=\"'Fira Mono', 'Source Code Pro', 'Courier', monospace\" font-size=\"14.00\" fill=\"#0060a0\">&lt;id&gt;</text>\n",
       "</g>\n",
       "<!-- 6&#45;&gt;7 -->\n",
       "<g id=\"edge7\" class=\"edge\">\n",
       "<title>6&#45;&gt;7</title>\n",
       "<path fill=\"none\" stroke=\"black\" d=\"M319.96,-431.7C311.27,-423.37 300.69,-413.22 291.14,-404.07\"/>\n",
       "<polygon fill=\"black\" stroke=\"black\" points=\"293.82,-401.79 284.18,-397.39 288.98,-406.84 293.82,-401.79\"/>\n",
       "</g>\n",
       "<!-- 19 -->\n",
       "<g id=\"node20\" class=\"node\">\n",
       "<title>19</title>\n",
       "<polygon fill=\"none\" stroke=\"white\" points=\"367.88,-396 310.12,-396 310.12,-360 367.88,-360 367.88,-396\"/>\n",
       "<text xml:space=\"preserve\" text-anchor=\"middle\" x=\"339\" y=\"-373.32\" font-family=\"'Fira Mono', 'Source Code Pro', 'Courier', monospace\" font-size=\"14.00\" fill=\"#0060a0\">&lt;digit&gt;</text>\n",
       "</g>\n",
       "<!-- 6&#45;&gt;19 -->\n",
       "<g id=\"edge19\" class=\"edge\">\n",
       "<title>6&#45;&gt;19</title>\n",
       "<path fill=\"none\" stroke=\"black\" d=\"M338.25,-431.7C338.35,-424.41 338.48,-415.73 338.59,-407.54\"/>\n",
       "<polygon fill=\"black\" stroke=\"black\" points=\"342.09,-407.67 338.73,-397.62 335.09,-407.57 342.09,-407.67\"/>\n",
       "</g>\n",
       "<!-- 8 -->\n",
       "<g id=\"node9\" class=\"node\">\n",
       "<title>8</title>\n",
       "<polygon fill=\"none\" stroke=\"white\" points=\"216,-324 162,-324 162,-288 216,-288 216,-324\"/>\n",
       "<text xml:space=\"preserve\" text-anchor=\"middle\" x=\"189\" y=\"-301.32\" font-family=\"'Fira Mono', 'Source Code Pro', 'Courier', monospace\" font-size=\"14.00\" fill=\"#0060a0\">&lt;id&gt;</text>\n",
       "</g>\n",
       "<!-- 7&#45;&gt;8 -->\n",
       "<g id=\"edge8\" class=\"edge\">\n",
       "<title>7&#45;&gt;8</title>\n",
       "<path fill=\"none\" stroke=\"black\" d=\"M246.21,-359.7C237.17,-351.37 226.16,-341.22 216.22,-332.07\"/>\n",
       "<polygon fill=\"black\" stroke=\"black\" points=\"218.67,-329.57 208.95,-325.37 213.93,-334.72 218.67,-329.57\"/>\n",
       "</g>\n",
       "<!-- 17 -->\n",
       "<g id=\"node18\" class=\"node\">\n",
       "<title>17</title>\n",
       "<polygon fill=\"none\" stroke=\"white\" points=\"293.88,-324 236.12,-324 236.12,-288 293.88,-288 293.88,-324\"/>\n",
       "<text xml:space=\"preserve\" text-anchor=\"middle\" x=\"265\" y=\"-301.32\" font-family=\"'Fira Mono', 'Source Code Pro', 'Courier', monospace\" font-size=\"14.00\" fill=\"#0060a0\">&lt;digit&gt;</text>\n",
       "</g>\n",
       "<!-- 7&#45;&gt;17 -->\n",
       "<g id=\"edge17\" class=\"edge\">\n",
       "<title>7&#45;&gt;17</title>\n",
       "<path fill=\"none\" stroke=\"black\" d=\"M265,-359.7C265,-352.41 265,-343.73 265,-335.54\"/>\n",
       "<polygon fill=\"black\" stroke=\"black\" points=\"268.5,-335.62 265,-325.62 261.5,-335.62 268.5,-335.62\"/>\n",
       "</g>\n",
       "<!-- 9 -->\n",
       "<g id=\"node10\" class=\"node\">\n",
       "<title>9</title>\n",
       "<polygon fill=\"none\" stroke=\"white\" points=\"138,-252 84,-252 84,-216 138,-216 138,-252\"/>\n",
       "<text xml:space=\"preserve\" text-anchor=\"middle\" x=\"111\" y=\"-229.32\" font-family=\"'Fira Mono', 'Source Code Pro', 'Courier', monospace\" font-size=\"14.00\" fill=\"#0060a0\">&lt;id&gt;</text>\n",
       "</g>\n",
       "<!-- 8&#45;&gt;9 -->\n",
       "<g id=\"edge9\" class=\"edge\">\n",
       "<title>8&#45;&gt;9</title>\n",
       "<path fill=\"none\" stroke=\"black\" d=\"M169.72,-287.7C160.34,-279.28 148.91,-269.02 138.62,-259.79\"/>\n",
       "<polygon fill=\"black\" stroke=\"black\" points=\"141.24,-257.43 131.46,-253.36 136.56,-262.64 141.24,-257.43\"/>\n",
       "</g>\n",
       "<!-- 15 -->\n",
       "<g id=\"node16\" class=\"node\">\n",
       "<title>15</title>\n",
       "<polygon fill=\"none\" stroke=\"white\" points=\"222,-252 156,-252 156,-216 222,-216 222,-252\"/>\n",
       "<text xml:space=\"preserve\" text-anchor=\"middle\" x=\"189\" y=\"-229.32\" font-family=\"'Fira Mono', 'Source Code Pro', 'Courier', monospace\" font-size=\"14.00\" fill=\"#0060a0\">&lt;letter&gt;</text>\n",
       "</g>\n",
       "<!-- 8&#45;&gt;15 -->\n",
       "<g id=\"edge15\" class=\"edge\">\n",
       "<title>8&#45;&gt;15</title>\n",
       "<path fill=\"none\" stroke=\"black\" d=\"M189,-287.7C189,-280.41 189,-271.73 189,-263.54\"/>\n",
       "<polygon fill=\"black\" stroke=\"black\" points=\"192.5,-263.62 189,-253.62 185.5,-263.62 192.5,-263.62\"/>\n",
       "</g>\n",
       "<!-- 10 -->\n",
       "<g id=\"node11\" class=\"node\">\n",
       "<title>10</title>\n",
       "<polygon fill=\"none\" stroke=\"white\" points=\"60,-180 6,-180 6,-144 60,-144 60,-180\"/>\n",
       "<text xml:space=\"preserve\" text-anchor=\"middle\" x=\"33\" y=\"-157.32\" font-family=\"'Fira Mono', 'Source Code Pro', 'Courier', monospace\" font-size=\"14.00\" fill=\"#0060a0\">&lt;id&gt;</text>\n",
       "</g>\n",
       "<!-- 9&#45;&gt;10 -->\n",
       "<g id=\"edge10\" class=\"edge\">\n",
       "<title>9&#45;&gt;10</title>\n",
       "<path fill=\"none\" stroke=\"black\" d=\"M91.72,-215.7C82.34,-207.28 70.91,-197.02 60.62,-187.79\"/>\n",
       "<polygon fill=\"black\" stroke=\"black\" points=\"63.24,-185.43 53.46,-181.36 58.56,-190.64 63.24,-185.43\"/>\n",
       "</g>\n",
       "<!-- 13 -->\n",
       "<g id=\"node14\" class=\"node\">\n",
       "<title>13</title>\n",
       "<polygon fill=\"none\" stroke=\"white\" points=\"144,-180 78,-180 78,-144 144,-144 144,-180\"/>\n",
       "<text xml:space=\"preserve\" text-anchor=\"middle\" x=\"111\" y=\"-157.32\" font-family=\"'Fira Mono', 'Source Code Pro', 'Courier', monospace\" font-size=\"14.00\" fill=\"#0060a0\">&lt;letter&gt;</text>\n",
       "</g>\n",
       "<!-- 9&#45;&gt;13 -->\n",
       "<g id=\"edge13\" class=\"edge\">\n",
       "<title>9&#45;&gt;13</title>\n",
       "<path fill=\"none\" stroke=\"black\" d=\"M111,-215.7C111,-208.41 111,-199.73 111,-191.54\"/>\n",
       "<polygon fill=\"black\" stroke=\"black\" points=\"114.5,-191.62 111,-181.62 107.5,-191.62 114.5,-191.62\"/>\n",
       "</g>\n",
       "<!-- 11 -->\n",
       "<g id=\"node12\" class=\"node\">\n",
       "<title>11</title>\n",
       "<polygon fill=\"none\" stroke=\"white\" points=\"66,-108 0,-108 0,-72 66,-72 66,-108\"/>\n",
       "<text xml:space=\"preserve\" text-anchor=\"middle\" x=\"33\" y=\"-85.33\" font-family=\"'Fira Mono', 'Source Code Pro', 'Courier', monospace\" font-size=\"14.00\" fill=\"#0060a0\">&lt;letter&gt;</text>\n",
       "</g>\n",
       "<!-- 10&#45;&gt;11 -->\n",
       "<g id=\"edge11\" class=\"edge\">\n",
       "<title>10&#45;&gt;11</title>\n",
       "<path fill=\"none\" stroke=\"black\" d=\"M33,-143.7C33,-136.41 33,-127.73 33,-119.54\"/>\n",
       "<polygon fill=\"black\" stroke=\"black\" points=\"36.5,-119.62 33,-109.62 29.5,-119.62 36.5,-119.62\"/>\n",
       "</g>\n",
       "<!-- 12 -->\n",
       "<g id=\"node13\" class=\"node\">\n",
       "<title>12</title>\n",
       "<polygon fill=\"none\" stroke=\"white\" points=\"60,-36 6,-36 6,0 60,0 60,-36\"/>\n",
       "<text xml:space=\"preserve\" text-anchor=\"middle\" x=\"33\" y=\"-13.32\" font-family=\"'Fira Mono', 'Source Code Pro', 'Courier', monospace\" font-size=\"14.00\" fill=\"#00a060\">F (70)</text>\n",
       "</g>\n",
       "<!-- 11&#45;&gt;12 -->\n",
       "<g id=\"edge12\" class=\"edge\">\n",
       "<title>11&#45;&gt;12</title>\n",
       "<path fill=\"none\" stroke=\"black\" d=\"M33,-71.7C33,-64.41 33,-55.73 33,-47.54\"/>\n",
       "<polygon fill=\"black\" stroke=\"black\" points=\"36.5,-47.62 33,-37.62 29.5,-47.62 36.5,-47.62\"/>\n",
       "</g>\n",
       "<!-- 14 -->\n",
       "<g id=\"node15\" class=\"node\">\n",
       "<title>14</title>\n",
       "<polygon fill=\"none\" stroke=\"white\" points=\"138,-108 84,-108 84,-72 138,-72 138,-108\"/>\n",
       "<text xml:space=\"preserve\" text-anchor=\"middle\" x=\"111\" y=\"-85.33\" font-family=\"'Fira Mono', 'Source Code Pro', 'Courier', monospace\" font-size=\"14.00\" fill=\"#00a060\">Q (81)</text>\n",
       "</g>\n",
       "<!-- 13&#45;&gt;14 -->\n",
       "<g id=\"edge14\" class=\"edge\">\n",
       "<title>13&#45;&gt;14</title>\n",
       "<path fill=\"none\" stroke=\"black\" d=\"M111,-143.7C111,-136.41 111,-127.73 111,-119.54\"/>\n",
       "<polygon fill=\"black\" stroke=\"black\" points=\"114.5,-119.62 111,-109.62 107.5,-119.62 114.5,-119.62\"/>\n",
       "</g>\n",
       "<!-- 16 -->\n",
       "<g id=\"node17\" class=\"node\">\n",
       "<title>16</title>\n",
       "<polygon fill=\"none\" stroke=\"white\" points=\"216,-180 162,-180 162,-144 216,-144 216,-180\"/>\n",
       "<text xml:space=\"preserve\" text-anchor=\"middle\" x=\"189\" y=\"-157.32\" font-family=\"'Fira Mono', 'Source Code Pro', 'Courier', monospace\" font-size=\"14.00\" fill=\"#00a060\">c (99)</text>\n",
       "</g>\n",
       "<!-- 15&#45;&gt;16 -->\n",
       "<g id=\"edge16\" class=\"edge\">\n",
       "<title>15&#45;&gt;16</title>\n",
       "<path fill=\"none\" stroke=\"black\" d=\"M189,-215.7C189,-208.41 189,-199.73 189,-191.54\"/>\n",
       "<polygon fill=\"black\" stroke=\"black\" points=\"192.5,-191.62 189,-181.62 185.5,-191.62 192.5,-191.62\"/>\n",
       "</g>\n",
       "<!-- 18 -->\n",
       "<g id=\"node19\" class=\"node\">\n",
       "<title>18</title>\n",
       "<polygon fill=\"none\" stroke=\"white\" points=\"294,-252 240,-252 240,-216 294,-216 294,-252\"/>\n",
       "<text xml:space=\"preserve\" text-anchor=\"middle\" x=\"267\" y=\"-229.32\" font-family=\"'Fira Mono', 'Source Code Pro', 'Courier', monospace\" font-size=\"14.00\" fill=\"#00a060\">9 (57)</text>\n",
       "</g>\n",
       "<!-- 17&#45;&gt;18 -->\n",
       "<g id=\"edge18\" class=\"edge\">\n",
       "<title>17&#45;&gt;18</title>\n",
       "<path fill=\"none\" stroke=\"black\" d=\"M265.49,-287.7C265.7,-280.41 265.95,-271.73 266.18,-263.54\"/>\n",
       "<polygon fill=\"black\" stroke=\"black\" points=\"269.68,-263.71 266.47,-253.62 262.68,-263.51 269.68,-263.71\"/>\n",
       "</g>\n",
       "<!-- 20 -->\n",
       "<g id=\"node21\" class=\"node\">\n",
       "<title>20</title>\n",
       "<polygon fill=\"none\" stroke=\"white\" points=\"366,-324 312,-324 312,-288 366,-288 366,-324\"/>\n",
       "<text xml:space=\"preserve\" text-anchor=\"middle\" x=\"339\" y=\"-301.32\" font-family=\"'Fira Mono', 'Source Code Pro', 'Courier', monospace\" font-size=\"14.00\" fill=\"#00a060\">0 (48)</text>\n",
       "</g>\n",
       "<!-- 19&#45;&gt;20 -->\n",
       "<g id=\"edge20\" class=\"edge\">\n",
       "<title>19&#45;&gt;20</title>\n",
       "<path fill=\"none\" stroke=\"black\" d=\"M339,-359.7C339,-352.41 339,-343.73 339,-335.54\"/>\n",
       "<polygon fill=\"black\" stroke=\"black\" points=\"342.5,-335.62 339,-325.62 335.5,-335.62 342.5,-335.62\"/>\n",
       "</g>\n",
       "<!-- 22 -->\n",
       "<g id=\"node23\" class=\"node\">\n",
       "<title>22</title>\n",
       "<polygon fill=\"none\" stroke=\"white\" points=\"511,-396 457,-396 457,-360 511,-360 511,-396\"/>\n",
       "<text xml:space=\"preserve\" text-anchor=\"middle\" x=\"484\" y=\"-373.32\" font-family=\"'Fira Mono', 'Source Code Pro', 'Courier', monospace\" font-size=\"14.00\" fill=\"#0060a0\">&lt;attr&gt;</text>\n",
       "</g>\n",
       "<!-- 21&#45;&gt;22 -->\n",
       "<g id=\"edge22\" class=\"edge\">\n",
       "<title>21&#45;&gt;22</title>\n",
       "<path fill=\"none\" stroke=\"black\" d=\"M429.8,-431.7C438.28,-423.45 448.59,-413.43 457.93,-404.35\"/>\n",
       "<polygon fill=\"black\" stroke=\"black\" points=\"460.34,-406.88 465.07,-397.4 455.46,-401.86 460.34,-406.88\"/>\n",
       "</g>\n",
       "<!-- 23 -->\n",
       "<g id=\"node24\" class=\"node\">\n",
       "<title>23</title>\n",
       "<polygon fill=\"none\" stroke=\"white\" points=\"438,-324 384,-324 384,-288 438,-288 438,-324\"/>\n",
       "<text xml:space=\"preserve\" text-anchor=\"middle\" x=\"411\" y=\"-301.32\" font-family=\"'Fira Mono', 'Source Code Pro', 'Courier', monospace\" font-size=\"14.00\" fill=\"#00a060\"> &#160;(32)</text>\n",
       "</g>\n",
       "<!-- 22&#45;&gt;23 -->\n",
       "<g id=\"edge23\" class=\"edge\">\n",
       "<title>22&#45;&gt;23</title>\n",
       "<path fill=\"none\" stroke=\"black\" d=\"M465.96,-359.7C457.27,-351.37 446.69,-341.22 437.14,-332.07\"/>\n",
       "<polygon fill=\"black\" stroke=\"black\" points=\"439.82,-329.79 430.18,-325.39 434.98,-334.84 439.82,-329.79\"/>\n",
       "</g>\n",
       "<!-- 24 -->\n",
       "<g id=\"node25\" class=\"node\">\n",
       "<title>24</title>\n",
       "<polygon fill=\"none\" stroke=\"white\" points=\"510,-324 456,-324 456,-288 510,-288 510,-324\"/>\n",
       "<text xml:space=\"preserve\" text-anchor=\"middle\" x=\"483\" y=\"-301.32\" font-family=\"'Fira Mono', 'Source Code Pro', 'Courier', monospace\" font-size=\"14.00\" fill=\"#0060a0\">&lt;id&gt;</text>\n",
       "</g>\n",
       "<!-- 22&#45;&gt;24 -->\n",
       "<g id=\"edge24\" class=\"edge\">\n",
       "<title>22&#45;&gt;24</title>\n",
       "<path fill=\"none\" stroke=\"black\" d=\"M483.75,-359.7C483.65,-352.41 483.52,-343.73 483.41,-335.54\"/>\n",
       "<polygon fill=\"black\" stroke=\"black\" points=\"486.91,-335.57 483.27,-325.62 479.91,-335.67 486.91,-335.57\"/>\n",
       "</g>\n",
       "<!-- 30 -->\n",
       "<g id=\"node31\" class=\"node\">\n",
       "<title>30</title>\n",
       "<polygon fill=\"none\" stroke=\"white\" points=\"582,-324 528,-324 528,-288 582,-288 582,-324\"/>\n",
       "<text xml:space=\"preserve\" text-anchor=\"middle\" x=\"555\" y=\"-301.32\" font-family=\"'Fira Mono', 'Source Code Pro', 'Courier', monospace\" font-size=\"14.00\" fill=\"#00a060\">=&quot;</text>\n",
       "</g>\n",
       "<!-- 22&#45;&gt;30 -->\n",
       "<g id=\"edge30\" class=\"edge\">\n",
       "<title>22&#45;&gt;30</title>\n",
       "<path fill=\"none\" stroke=\"black\" d=\"M501.55,-359.7C509.98,-351.39 520.23,-341.28 529.5,-332.14\"/>\n",
       "<polygon fill=\"black\" stroke=\"black\" points=\"531.91,-334.68 536.57,-325.17 527,-329.7 531.91,-334.68\"/>\n",
       "</g>\n",
       "<!-- 31 -->\n",
       "<g id=\"node32\" class=\"node\">\n",
       "<title>31</title>\n",
       "<polygon fill=\"none\" stroke=\"white\" points=\"699.5,-324 600.5,-324 600.5,-288 699.5,-288 699.5,-324\"/>\n",
       "<text xml:space=\"preserve\" text-anchor=\"middle\" x=\"650\" y=\"-301.32\" font-family=\"'Fira Mono', 'Source Code Pro', 'Courier', monospace\" font-size=\"14.00\" fill=\"#0060a0\">&lt;plain&#45;text&gt;</text>\n",
       "</g>\n",
       "<!-- 22&#45;&gt;31 -->\n",
       "<g id=\"edge31\" class=\"edge\">\n",
       "<title>22&#45;&gt;31</title>\n",
       "<path fill=\"none\" stroke=\"black\" d=\"M511.36,-364.65C514.93,-363.07 518.55,-361.49 522,-360 546.31,-349.53 573.38,-338.27 596.34,-328.83\"/>\n",
       "<polygon fill=\"black\" stroke=\"black\" points=\"597.59,-332.1 605.51,-325.06 594.93,-325.62 597.59,-332.1\"/>\n",
       "</g>\n",
       "<!-- 33 -->\n",
       "<g id=\"node34\" class=\"node\">\n",
       "<title>33</title>\n",
       "<polygon fill=\"none\" stroke=\"white\" points=\"772,-324 718,-324 718,-288 772,-288 772,-324\"/>\n",
       "<text xml:space=\"preserve\" text-anchor=\"middle\" x=\"745\" y=\"-301.32\" font-family=\"'Fira Mono', 'Source Code Pro', 'Courier', monospace\" font-size=\"14.00\" fill=\"#00a060\">&quot; (34)</text>\n",
       "</g>\n",
       "<!-- 22&#45;&gt;33 -->\n",
       "<g id=\"edge33\" class=\"edge\">\n",
       "<title>22&#45;&gt;33</title>\n",
       "<path fill=\"none\" stroke=\"black\" d=\"M511.11,-363.97C514.72,-362.5 518.42,-361.13 522,-360 599.41,-335.59 626.33,-349.06 707.11,-324.14\"/>\n",
       "<polygon fill=\"black\" stroke=\"black\" points=\"707.87,-327.57 716.33,-321.18 705.74,-320.9 707.87,-327.57\"/>\n",
       "</g>\n",
       "<!-- 25 -->\n",
       "<g id=\"node26\" class=\"node\">\n",
       "<title>25</title>\n",
       "<polygon fill=\"none\" stroke=\"white\" points=\"471,-252 417,-252 417,-216 471,-216 471,-252\"/>\n",
       "<text xml:space=\"preserve\" text-anchor=\"middle\" x=\"444\" y=\"-229.32\" font-family=\"'Fira Mono', 'Source Code Pro', 'Courier', monospace\" font-size=\"14.00\" fill=\"#0060a0\">&lt;id&gt;</text>\n",
       "</g>\n",
       "<!-- 24&#45;&gt;25 -->\n",
       "<g id=\"edge25\" class=\"edge\">\n",
       "<title>24&#45;&gt;25</title>\n",
       "<path fill=\"none\" stroke=\"black\" d=\"M473.36,-287.7C469.06,-279.98 463.9,-270.71 459.11,-262.11\"/>\n",
       "<polygon fill=\"black\" stroke=\"black\" points=\"462.19,-260.46 454.27,-253.43 456.08,-263.87 462.19,-260.46\"/>\n",
       "</g>\n",
       "<!-- 28 -->\n",
       "<g id=\"node29\" class=\"node\">\n",
       "<title>28</title>\n",
       "<polygon fill=\"none\" stroke=\"white\" points=\"556,-252 490,-252 490,-216 556,-216 556,-252\"/>\n",
       "<text xml:space=\"preserve\" text-anchor=\"middle\" x=\"523\" y=\"-229.32\" font-family=\"'Fira Mono', 'Source Code Pro', 'Courier', monospace\" font-size=\"14.00\" fill=\"#0060a0\">&lt;letter&gt;</text>\n",
       "</g>\n",
       "<!-- 24&#45;&gt;28 -->\n",
       "<g id=\"edge28\" class=\"edge\">\n",
       "<title>24&#45;&gt;28</title>\n",
       "<path fill=\"none\" stroke=\"black\" d=\"M492.89,-287.7C497.34,-279.9 502.71,-270.51 507.67,-261.83\"/>\n",
       "<polygon fill=\"black\" stroke=\"black\" points=\"510.55,-263.84 512.48,-253.42 504.47,-260.36 510.55,-263.84\"/>\n",
       "</g>\n",
       "<!-- 26 -->\n",
       "<g id=\"node27\" class=\"node\">\n",
       "<title>26</title>\n",
       "<polygon fill=\"none\" stroke=\"white\" points=\"477,-180 411,-180 411,-144 477,-144 477,-180\"/>\n",
       "<text xml:space=\"preserve\" text-anchor=\"middle\" x=\"444\" y=\"-157.32\" font-family=\"'Fira Mono', 'Source Code Pro', 'Courier', monospace\" font-size=\"14.00\" fill=\"#0060a0\">&lt;letter&gt;</text>\n",
       "</g>\n",
       "<!-- 25&#45;&gt;26 -->\n",
       "<g id=\"edge26\" class=\"edge\">\n",
       "<title>25&#45;&gt;26</title>\n",
       "<path fill=\"none\" stroke=\"black\" d=\"M444,-215.7C444,-208.41 444,-199.73 444,-191.54\"/>\n",
       "<polygon fill=\"black\" stroke=\"black\" points=\"447.5,-191.62 444,-181.62 440.5,-191.62 447.5,-191.62\"/>\n",
       "</g>\n",
       "<!-- 27 -->\n",
       "<g id=\"node28\" class=\"node\">\n",
       "<title>27</title>\n",
       "<polygon fill=\"none\" stroke=\"white\" points=\"471,-108 417,-108 417,-72 471,-72 471,-108\"/>\n",
       "<text xml:space=\"preserve\" text-anchor=\"middle\" x=\"444\" y=\"-85.33\" font-family=\"'Fira Mono', 'Source Code Pro', 'Courier', monospace\" font-size=\"14.00\" fill=\"#00a060\">W (87)</text>\n",
       "</g>\n",
       "<!-- 26&#45;&gt;27 -->\n",
       "<g id=\"edge27\" class=\"edge\">\n",
       "<title>26&#45;&gt;27</title>\n",
       "<path fill=\"none\" stroke=\"black\" d=\"M444,-143.7C444,-136.41 444,-127.73 444,-119.54\"/>\n",
       "<polygon fill=\"black\" stroke=\"black\" points=\"447.5,-119.62 444,-109.62 440.5,-119.62 447.5,-119.62\"/>\n",
       "</g>\n",
       "<!-- 29 -->\n",
       "<g id=\"node30\" class=\"node\">\n",
       "<title>29</title>\n",
       "<polygon fill=\"none\" stroke=\"white\" points=\"552.88,-180 495.12,-180 495.12,-144 552.88,-144 552.88,-180\"/>\n",
       "<text xml:space=\"preserve\" text-anchor=\"middle\" x=\"524\" y=\"-157.32\" font-family=\"'Fira Mono', 'Source Code Pro', 'Courier', monospace\" font-size=\"14.00\" fill=\"#00a060\">t (116)</text>\n",
       "</g>\n",
       "<!-- 28&#45;&gt;29 -->\n",
       "<g id=\"edge29\" class=\"edge\">\n",
       "<title>28&#45;&gt;29</title>\n",
       "<path fill=\"none\" stroke=\"black\" d=\"M523.25,-215.7C523.35,-208.41 523.48,-199.73 523.59,-191.54\"/>\n",
       "<polygon fill=\"black\" stroke=\"black\" points=\"527.09,-191.67 523.73,-181.62 520.09,-191.57 527.09,-191.67\"/>\n",
       "</g>\n",
       "<!-- 32 -->\n",
       "<g id=\"node33\" class=\"node\">\n",
       "<title>32</title>\n",
       "<polygon fill=\"none\" stroke=\"white\" points=\"677,-252 623,-252 623,-216 677,-216 677,-252\"/>\n",
       "</g>\n",
       "<!-- 31&#45;&gt;32 -->\n",
       "<g id=\"edge32\" class=\"edge\">\n",
       "<title>31&#45;&gt;32</title>\n",
       "<path fill=\"none\" stroke=\"black\" d=\"M650,-287.7C650,-280.41 650,-271.73 650,-263.54\"/>\n",
       "<polygon fill=\"black\" stroke=\"black\" points=\"653.5,-263.62 650,-253.62 646.5,-263.62 653.5,-263.62\"/>\n",
       "</g>\n",
       "<!-- 36 -->\n",
       "<g id=\"node37\" class=\"node\">\n",
       "<title>36</title>\n",
       "<polygon fill=\"none\" stroke=\"white\" points=\"585,-396 531,-396 531,-360 585,-360 585,-396\"/>\n",
       "<text xml:space=\"preserve\" text-anchor=\"middle\" x=\"558\" y=\"-373.32\" font-family=\"'Fira Mono', 'Source Code Pro', 'Courier', monospace\" font-size=\"14.00\" fill=\"#00a060\">&gt; (62)</text>\n",
       "</g>\n",
       "<!-- 35&#45;&gt;36 -->\n",
       "<g id=\"edge36\" class=\"edge\">\n",
       "<title>35&#45;&gt;36</title>\n",
       "<path fill=\"none\" stroke=\"black\" d=\"M558,-431.7C558,-424.41 558,-415.73 558,-407.54\"/>\n",
       "<polygon fill=\"black\" stroke=\"black\" points=\"561.5,-407.62 558,-397.62 554.5,-407.62 561.5,-407.62\"/>\n",
       "</g>\n",
       "</g>\n",
       "</svg>\n"
      ],
      "text/plain": [
       "<graphviz.graphs.Digraph at 0x10981c1a0>"
      ]
     },
     "execution_count": 31,
     "metadata": {},
     "output_type": "execute_result"
    }
   ],
   "source": [
    "display_tree(simple_html_fuzzer.derivation_tree)"
   ]
  },
  {
   "cell_type": "markdown",
   "metadata": {
    "slideshow": {
     "slide_type": "fragment"
    }
   },
   "source": [
    "From top to bottom, we see that the input was constructed from a `<start>` symbol, which then expanded into `html`, which then expanded into HTML text, and so on. Multiple children in a tree stand for a concatenation of individual symbols."
   ]
  },
  {
   "cell_type": "markdown",
   "metadata": {
    "slideshow": {
     "slide_type": "fragment"
    }
   },
   "source": [
    "Internally, these trees come as pairs `(symbol, children)`, where `symbol` is the name of a node (say, `<html>`), and `children` is a (possibly empty) list of subtrees. Here are the topmost nodes of the above tree:"
   ]
  },
  {
   "cell_type": "code",
   "execution_count": 32,
   "metadata": {
    "execution": {
     "iopub.execute_input": "2025-10-26T17:48:39.709181Z",
     "iopub.status.busy": "2025-10-26T17:48:39.709053Z",
     "iopub.status.idle": "2025-10-26T17:48:39.710850Z",
     "shell.execute_reply": "2025-10-26T17:48:39.710595Z"
    },
    "slideshow": {
     "slide_type": "skip"
    }
   },
   "outputs": [],
   "source": [
    "import pprint"
   ]
  },
  {
   "cell_type": "code",
   "execution_count": 33,
   "metadata": {
    "execution": {
     "iopub.execute_input": "2025-10-26T17:48:39.712489Z",
     "iopub.status.busy": "2025-10-26T17:48:39.712369Z",
     "iopub.status.idle": "2025-10-26T17:48:39.714223Z",
     "shell.execute_reply": "2025-10-26T17:48:39.714002Z"
    },
    "slideshow": {
     "slide_type": "fragment"
    }
   },
   "outputs": [
    {
     "name": "stdout",
     "output_type": "stream",
     "text": [
      "('<start>', [('<html>', [('<tagged-text>', [('<self-closing-tag>', [...])])])])\n"
     ]
    }
   ],
   "source": [
    "pp = pprint.PrettyPrinter(depth=7)\n",
    "pp.pprint(simple_html_fuzzer.derivation_tree)"
   ]
  },
  {
   "attachments": {},
   "cell_type": "markdown",
   "metadata": {
    "slideshow": {
     "slide_type": "subslide"
    }
   },
   "source": [
    "To produce abstract failure-inducing patterns, we will work on this very structure. The idea is to\n",
    "\n",
    "1. systematically replace subtrees by other, generated, compatible subtrees (e.g. replace one `<html>` subtree in the concrete input by some other generated `<html>` subtree);\n",
    "2. see whether these subtrees also result in failures; and\n",
    "3. if they do, use the nonterminal (`<html>`) as a placeholder in the pattern.\n",
    "\n",
    "This will involve some subtree manipulation, construction, and finally testing. First, though, we need to be able to turn an _existing input_ into a derivation tree."
   ]
  },
  {
   "cell_type": "markdown",
   "metadata": {
    "slideshow": {
     "slide_type": "slide"
    }
   },
   "source": [
    "## Parsing\n",
    "\n",
    "The activity of creating a structure out of an unstructured input is called _parsing_. Generally speaking, a _parser_ uses a _grammar_ to create a _derivation tree_ (also called *parse tree* in parsing contexts) from a string input."
   ]
  },
  {
   "cell_type": "markdown",
   "metadata": {
    "slideshow": {
     "slide_type": "fragment"
    }
   },
   "source": [
    "Again, there's a whole body of theory (and practice!) around constructing parsers. We make our life simple by using an existing parser (again, from [the fuzzing book](https://www.fuzzingbook.org/Parser.html)), which does just what we want. The `EarleyParser` is instantiated with a grammar such as `SIMPLE_HTML_GRAMMAR`:"
   ]
  },
  {
   "cell_type": "code",
   "execution_count": 34,
   "metadata": {
    "execution": {
     "iopub.execute_input": "2025-10-26T17:48:39.715429Z",
     "iopub.status.busy": "2025-10-26T17:48:39.715336Z",
     "iopub.status.idle": "2025-10-26T17:48:39.719869Z",
     "shell.execute_reply": "2025-10-26T17:48:39.719641Z"
    },
    "slideshow": {
     "slide_type": "skip"
    }
   },
   "outputs": [],
   "source": [
    "from fuzzingbook.Parser import Parser, EarleyParser  # minor dependency"
   ]
  },
  {
   "cell_type": "code",
   "execution_count": 35,
   "metadata": {
    "execution": {
     "iopub.execute_input": "2025-10-26T17:48:39.721244Z",
     "iopub.status.busy": "2025-10-26T17:48:39.721156Z",
     "iopub.status.idle": "2025-10-26T17:48:39.723125Z",
     "shell.execute_reply": "2025-10-26T17:48:39.722881Z"
    },
    "slideshow": {
     "slide_type": "fragment"
    }
   },
   "outputs": [],
   "source": [
    "simple_html_parser = EarleyParser(SIMPLE_HTML_GRAMMAR)"
   ]
  },
  {
   "cell_type": "markdown",
   "metadata": {
    "slideshow": {
     "slide_type": "subslide"
    }
   },
   "source": [
    "Its method `parse()` returns an iterator over multiple possible derivation trees.  (There can be multiple trees because the grammar could be ambiguous). We are only interested in the first such tree. Let us parse `BAD_INPUT` and inspect the resulting ~parse tree~ ~syntax tree~ derivation tree:"
   ]
  },
  {
   "cell_type": "code",
   "execution_count": 36,
   "metadata": {
    "execution": {
     "iopub.execute_input": "2025-10-26T17:48:39.724573Z",
     "iopub.status.busy": "2025-10-26T17:48:39.724481Z",
     "iopub.status.idle": "2025-10-26T17:48:39.728272Z",
     "shell.execute_reply": "2025-10-26T17:48:39.727992Z"
    },
    "slideshow": {
     "slide_type": "fragment"
    }
   },
   "outputs": [],
   "source": [
    "bad_input_tree = list(simple_html_parser.parse(BAD_INPUT))[0]"
   ]
  },
  {
   "cell_type": "code",
   "execution_count": 37,
   "metadata": {
    "execution": {
     "iopub.execute_input": "2025-10-26T17:48:39.729354Z",
     "iopub.status.busy": "2025-10-26T17:48:39.729277Z",
     "iopub.status.idle": "2025-10-26T17:48:40.077876Z",
     "shell.execute_reply": "2025-10-26T17:48:40.077549Z"
    },
    "slideshow": {
     "slide_type": "fragment"
    },
    "tags": [
     "remove-input"
    ]
   },
   "outputs": [
    {
     "data": {
      "image/svg+xml": [
       "<?xml version=\"1.0\" encoding=\"UTF-8\" standalone=\"no\"?>\n",
       "<!DOCTYPE svg PUBLIC \"-//W3C//DTD SVG 1.1//EN\"\n",
       " \"http://www.w3.org/Graphics/SVG/1.1/DTD/svg11.dtd\">\n",
       "<!-- Generated by graphviz version 14.0.2 (20251019.1705)\n",
       " -->\n",
       "<!-- Pages: 1 -->\n",
       "<svg width=\"993pt\" height=\"764pt\"\n",
       " viewBox=\"0.00 0.00 993.00 764.00\" xmlns=\"http://www.w3.org/2000/svg\" xmlns:xlink=\"http://www.w3.org/1999/xlink\">\n",
       "<g id=\"graph0\" class=\"graph\" transform=\"scale(1 1) rotate(0) translate(4 760)\">\n",
       "<polygon fill=\"white\" stroke=\"none\" points=\"-4,4 -4,-760 989,-760 989,4 -4,4\"/>\n",
       "<!-- 0 -->\n",
       "<g id=\"node1\" class=\"node\">\n",
       "<title>0</title>\n",
       "<polygon fill=\"none\" stroke=\"white\" points=\"410.88,-756 353.12,-756 353.12,-720 410.88,-720 410.88,-756\"/>\n",
       "<text xml:space=\"preserve\" text-anchor=\"middle\" x=\"382\" y=\"-733.33\" font-family=\"'Fira Mono', 'Source Code Pro', 'Courier', monospace\" font-size=\"14.00\" fill=\"#0060a0\">&lt;start&gt;</text>\n",
       "</g>\n",
       "<!-- 1 -->\n",
       "<g id=\"node2\" class=\"node\">\n",
       "<title>1</title>\n",
       "<polygon fill=\"none\" stroke=\"white\" points=\"409,-684 355,-684 355,-648 409,-648 409,-684\"/>\n",
       "<text xml:space=\"preserve\" text-anchor=\"middle\" x=\"382\" y=\"-661.33\" font-family=\"'Fira Mono', 'Source Code Pro', 'Courier', monospace\" font-size=\"14.00\" fill=\"#0060a0\">&lt;html&gt;</text>\n",
       "</g>\n",
       "<!-- 0&#45;&gt;1 -->\n",
       "<g id=\"edge1\" class=\"edge\">\n",
       "<title>0&#45;&gt;1</title>\n",
       "<path fill=\"none\" stroke=\"black\" d=\"M382,-719.7C382,-712.41 382,-703.73 382,-695.54\"/>\n",
       "<polygon fill=\"black\" stroke=\"black\" points=\"385.5,-695.62 382,-685.62 378.5,-695.62 385.5,-695.62\"/>\n",
       "</g>\n",
       "<!-- 2 -->\n",
       "<g id=\"node3\" class=\"node\">\n",
       "<title>2</title>\n",
       "<polygon fill=\"none\" stroke=\"white\" points=\"435.62,-612 328.38,-612 328.38,-576 435.62,-576 435.62,-612\"/>\n",
       "<text xml:space=\"preserve\" text-anchor=\"middle\" x=\"382\" y=\"-589.33\" font-family=\"'Fira Mono', 'Source Code Pro', 'Courier', monospace\" font-size=\"14.00\" fill=\"#0060a0\">&lt;tagged&#45;text&gt;</text>\n",
       "</g>\n",
       "<!-- 1&#45;&gt;2 -->\n",
       "<g id=\"edge2\" class=\"edge\">\n",
       "<title>1&#45;&gt;2</title>\n",
       "<path fill=\"none\" stroke=\"black\" d=\"M382,-647.7C382,-640.41 382,-631.73 382,-623.54\"/>\n",
       "<polygon fill=\"black\" stroke=\"black\" points=\"385.5,-623.62 382,-613.62 378.5,-623.62 385.5,-623.62\"/>\n",
       "</g>\n",
       "<!-- 3 -->\n",
       "<g id=\"node4\" class=\"node\">\n",
       "<title>3</title>\n",
       "<polygon fill=\"none\" stroke=\"white\" points=\"299.62,-540 192.38,-540 192.38,-504 299.62,-504 299.62,-540\"/>\n",
       "<text xml:space=\"preserve\" text-anchor=\"middle\" x=\"246\" y=\"-517.33\" font-family=\"'Fira Mono', 'Source Code Pro', 'Courier', monospace\" font-size=\"14.00\" fill=\"#0060a0\">&lt;opening&#45;tag&gt;</text>\n",
       "</g>\n",
       "<!-- 2&#45;&gt;3 -->\n",
       "<g id=\"edge3\" class=\"edge\">\n",
       "<title>2&#45;&gt;3</title>\n",
       "<path fill=\"none\" stroke=\"black\" d=\"M348.03,-575.52C330.37,-566.43 308.59,-555.22 289.69,-545.49\"/>\n",
       "<polygon fill=\"black\" stroke=\"black\" points=\"291.37,-542.42 280.88,-540.95 288.17,-548.64 291.37,-542.42\"/>\n",
       "</g>\n",
       "<!-- 17 -->\n",
       "<g id=\"node18\" class=\"node\">\n",
       "<title>17</title>\n",
       "<polygon fill=\"none\" stroke=\"white\" points=\"409,-540 355,-540 355,-504 409,-504 409,-540\"/>\n",
       "<text xml:space=\"preserve\" text-anchor=\"middle\" x=\"382\" y=\"-517.33\" font-family=\"'Fira Mono', 'Source Code Pro', 'Courier', monospace\" font-size=\"14.00\" fill=\"#0060a0\">&lt;html&gt;</text>\n",
       "</g>\n",
       "<!-- 2&#45;&gt;17 -->\n",
       "<g id=\"edge17\" class=\"edge\">\n",
       "<title>2&#45;&gt;17</title>\n",
       "<path fill=\"none\" stroke=\"black\" d=\"M382,-575.7C382,-568.41 382,-559.73 382,-551.54\"/>\n",
       "<polygon fill=\"black\" stroke=\"black\" points=\"385.5,-551.62 382,-541.62 378.5,-551.62 385.5,-551.62\"/>\n",
       "</g>\n",
       "<!-- 35 -->\n",
       "<g id=\"node36\" class=\"node\">\n",
       "<title>35</title>\n",
       "<polygon fill=\"none\" stroke=\"white\" points=\"804.62,-540 697.38,-540 697.38,-504 804.62,-504 804.62,-540\"/>\n",
       "<text xml:space=\"preserve\" text-anchor=\"middle\" x=\"751\" y=\"-517.33\" font-family=\"'Fira Mono', 'Source Code Pro', 'Courier', monospace\" font-size=\"14.00\" fill=\"#0060a0\">&lt;closing&#45;tag&gt;</text>\n",
       "</g>\n",
       "<!-- 2&#45;&gt;35 -->\n",
       "<g id=\"edge35\" class=\"edge\">\n",
       "<title>2&#45;&gt;35</title>\n",
       "<path fill=\"none\" stroke=\"black\" d=\"M436.05,-582.75C502.46,-570.15 615.04,-548.79 686.07,-535.32\"/>\n",
       "<polygon fill=\"black\" stroke=\"black\" points=\"686.45,-538.81 695.62,-533.51 685.14,-531.93 686.45,-538.81\"/>\n",
       "</g>\n",
       "<!-- 4 -->\n",
       "<g id=\"node5\" class=\"node\">\n",
       "<title>4</title>\n",
       "<polygon fill=\"none\" stroke=\"white\" points=\"106,-468 52,-468 52,-432 106,-432 106,-468\"/>\n",
       "<text xml:space=\"preserve\" text-anchor=\"middle\" x=\"79\" y=\"-445.32\" font-family=\"'Fira Mono', 'Source Code Pro', 'Courier', monospace\" font-size=\"14.00\" fill=\"#0060a0\">&lt;lt&gt;</text>\n",
       "</g>\n",
       "<!-- 3&#45;&gt;4 -->\n",
       "<g id=\"edge4\" class=\"edge\">\n",
       "<title>3&#45;&gt;4</title>\n",
       "<path fill=\"none\" stroke=\"black\" d=\"M204.29,-503.52C177.49,-492.28 142.96,-477.81 116.94,-466.9\"/>\n",
       "<polygon fill=\"black\" stroke=\"black\" points=\"118.32,-463.69 107.75,-463.05 115.62,-470.14 118.32,-463.69\"/>\n",
       "</g>\n",
       "<!-- 6 -->\n",
       "<g id=\"node7\" class=\"node\">\n",
       "<title>6</title>\n",
       "<polygon fill=\"none\" stroke=\"white\" points=\"217,-468 163,-468 163,-432 217,-432 217,-468\"/>\n",
       "<text xml:space=\"preserve\" text-anchor=\"middle\" x=\"190\" y=\"-445.32\" font-family=\"'Fira Mono', 'Source Code Pro', 'Courier', monospace\" font-size=\"14.00\" fill=\"#0060a0\">&lt;id&gt;</text>\n",
       "</g>\n",
       "<!-- 3&#45;&gt;6 -->\n",
       "<g id=\"edge6\" class=\"edge\">\n",
       "<title>3&#45;&gt;6</title>\n",
       "<path fill=\"none\" stroke=\"black\" d=\"M232.16,-503.7C225.71,-495.64 217.92,-485.89 210.79,-476.98\"/>\n",
       "<polygon fill=\"black\" stroke=\"black\" points=\"213.61,-474.91 204.63,-469.29 208.14,-479.28 213.61,-474.91\"/>\n",
       "</g>\n",
       "<!-- 15 -->\n",
       "<g id=\"node16\" class=\"node\">\n",
       "<title>15</title>\n",
       "<polygon fill=\"none\" stroke=\"white\" points=\"292,-468 238,-468 238,-432 292,-432 292,-468\"/>\n",
       "<text xml:space=\"preserve\" text-anchor=\"middle\" x=\"265\" y=\"-445.32\" font-family=\"'Fira Mono', 'Source Code Pro', 'Courier', monospace\" font-size=\"14.00\" fill=\"#0060a0\">&lt;gt&gt;</text>\n",
       "</g>\n",
       "<!-- 3&#45;&gt;15 -->\n",
       "<g id=\"edge15\" class=\"edge\">\n",
       "<title>3&#45;&gt;15</title>\n",
       "<path fill=\"none\" stroke=\"black\" d=\"M250.7,-503.7C252.72,-496.24 255.14,-487.32 257.41,-478.97\"/>\n",
       "<polygon fill=\"black\" stroke=\"black\" points=\"260.72,-480.13 259.96,-469.57 253.96,-478.3 260.72,-480.13\"/>\n",
       "</g>\n",
       "<!-- 5 -->\n",
       "<g id=\"node6\" class=\"node\">\n",
       "<title>5</title>\n",
       "<polygon fill=\"none\" stroke=\"white\" points=\"67,-396 13,-396 13,-360 67,-360 67,-396\"/>\n",
       "<text xml:space=\"preserve\" text-anchor=\"middle\" x=\"40\" y=\"-373.32\" font-family=\"'Fira Mono', 'Source Code Pro', 'Courier', monospace\" font-size=\"14.00\" fill=\"#0060a0\">&lt; (60)</text>\n",
       "</g>\n",
       "<!-- 4&#45;&gt;5 -->\n",
       "<g id=\"edge5\" class=\"edge\">\n",
       "<title>4&#45;&gt;5</title>\n",
       "<path fill=\"none\" stroke=\"black\" d=\"M69.36,-431.7C65.06,-423.98 59.9,-414.71 55.11,-406.11\"/>\n",
       "<polygon fill=\"black\" stroke=\"black\" points=\"58.19,-404.46 50.27,-397.43 52.08,-407.87 58.19,-404.46\"/>\n",
       "</g>\n",
       "<!-- 7 -->\n",
       "<g id=\"node8\" class=\"node\">\n",
       "<title>7</title>\n",
       "<polygon fill=\"none\" stroke=\"white\" points=\"139,-396 85,-396 85,-360 139,-360 139,-396\"/>\n",
       "<text xml:space=\"preserve\" text-anchor=\"middle\" x=\"112\" y=\"-373.32\" font-family=\"'Fira Mono', 'Source Code Pro', 'Courier', monospace\" font-size=\"14.00\" fill=\"#0060a0\">&lt;id&gt;</text>\n",
       "</g>\n",
       "<!-- 6&#45;&gt;7 -->\n",
       "<g id=\"edge7\" class=\"edge\">\n",
       "<title>6&#45;&gt;7</title>\n",
       "<path fill=\"none\" stroke=\"black\" d=\"M170.72,-431.7C161.34,-423.28 149.91,-413.02 139.62,-403.79\"/>\n",
       "<polygon fill=\"black\" stroke=\"black\" points=\"142.24,-401.43 132.46,-397.36 137.56,-406.64 142.24,-401.43\"/>\n",
       "</g>\n",
       "<!-- 13 -->\n",
       "<g id=\"node14\" class=\"node\">\n",
       "<title>13</title>\n",
       "<polygon fill=\"none\" stroke=\"white\" points=\"223,-396 157,-396 157,-360 223,-360 223,-396\"/>\n",
       "<text xml:space=\"preserve\" text-anchor=\"middle\" x=\"190\" y=\"-373.32\" font-family=\"'Fira Mono', 'Source Code Pro', 'Courier', monospace\" font-size=\"14.00\" fill=\"#0060a0\">&lt;letter&gt;</text>\n",
       "</g>\n",
       "<!-- 6&#45;&gt;13 -->\n",
       "<g id=\"edge13\" class=\"edge\">\n",
       "<title>6&#45;&gt;13</title>\n",
       "<path fill=\"none\" stroke=\"black\" d=\"M190,-431.7C190,-424.41 190,-415.73 190,-407.54\"/>\n",
       "<polygon fill=\"black\" stroke=\"black\" points=\"193.5,-407.62 190,-397.62 186.5,-407.62 193.5,-407.62\"/>\n",
       "</g>\n",
       "<!-- 8 -->\n",
       "<g id=\"node9\" class=\"node\">\n",
       "<title>8</title>\n",
       "<polygon fill=\"none\" stroke=\"white\" points=\"61,-324 7,-324 7,-288 61,-288 61,-324\"/>\n",
       "<text xml:space=\"preserve\" text-anchor=\"middle\" x=\"34\" y=\"-301.32\" font-family=\"'Fira Mono', 'Source Code Pro', 'Courier', monospace\" font-size=\"14.00\" fill=\"#0060a0\">&lt;id&gt;</text>\n",
       "</g>\n",
       "<!-- 7&#45;&gt;8 -->\n",
       "<g id=\"edge8\" class=\"edge\">\n",
       "<title>7&#45;&gt;8</title>\n",
       "<path fill=\"none\" stroke=\"black\" d=\"M92.72,-359.7C83.34,-351.28 71.91,-341.02 61.62,-331.79\"/>\n",
       "<polygon fill=\"black\" stroke=\"black\" points=\"64.24,-329.43 54.46,-325.36 59.56,-334.64 64.24,-329.43\"/>\n",
       "</g>\n",
       "<!-- 11 -->\n",
       "<g id=\"node12\" class=\"node\">\n",
       "<title>11</title>\n",
       "<polygon fill=\"none\" stroke=\"white\" points=\"145,-324 79,-324 79,-288 145,-288 145,-324\"/>\n",
       "<text xml:space=\"preserve\" text-anchor=\"middle\" x=\"112\" y=\"-301.32\" font-family=\"'Fira Mono', 'Source Code Pro', 'Courier', monospace\" font-size=\"14.00\" fill=\"#0060a0\">&lt;letter&gt;</text>\n",
       "</g>\n",
       "<!-- 7&#45;&gt;11 -->\n",
       "<g id=\"edge11\" class=\"edge\">\n",
       "<title>7&#45;&gt;11</title>\n",
       "<path fill=\"none\" stroke=\"black\" d=\"M112,-359.7C112,-352.41 112,-343.73 112,-335.54\"/>\n",
       "<polygon fill=\"black\" stroke=\"black\" points=\"115.5,-335.62 112,-325.62 108.5,-335.62 115.5,-335.62\"/>\n",
       "</g>\n",
       "<!-- 9 -->\n",
       "<g id=\"node10\" class=\"node\">\n",
       "<title>9</title>\n",
       "<polygon fill=\"none\" stroke=\"white\" points=\"66,-252 0,-252 0,-216 66,-216 66,-252\"/>\n",
       "<text xml:space=\"preserve\" text-anchor=\"middle\" x=\"33\" y=\"-229.32\" font-family=\"'Fira Mono', 'Source Code Pro', 'Courier', monospace\" font-size=\"14.00\" fill=\"#0060a0\">&lt;letter&gt;</text>\n",
       "</g>\n",
       "<!-- 8&#45;&gt;9 -->\n",
       "<g id=\"edge9\" class=\"edge\">\n",
       "<title>8&#45;&gt;9</title>\n",
       "<path fill=\"none\" stroke=\"black\" d=\"M33.75,-287.7C33.65,-280.41 33.52,-271.73 33.41,-263.54\"/>\n",
       "<polygon fill=\"black\" stroke=\"black\" points=\"36.91,-263.57 33.27,-253.62 29.91,-263.67 36.91,-263.57\"/>\n",
       "</g>\n",
       "<!-- 10 -->\n",
       "<g id=\"node11\" class=\"node\">\n",
       "<title>10</title>\n",
       "<polygon fill=\"none\" stroke=\"white\" points=\"61.88,-180 4.12,-180 4.12,-144 61.88,-144 61.88,-180\"/>\n",
       "<text xml:space=\"preserve\" text-anchor=\"middle\" x=\"33\" y=\"-157.32\" font-family=\"'Fira Mono', 'Source Code Pro', 'Courier', monospace\" font-size=\"14.00\" fill=\"#00a060\">f (102)</text>\n",
       "</g>\n",
       "<!-- 9&#45;&gt;10 -->\n",
       "<g id=\"edge10\" class=\"edge\">\n",
       "<title>9&#45;&gt;10</title>\n",
       "<path fill=\"none\" stroke=\"black\" d=\"M33,-215.7C33,-208.41 33,-199.73 33,-191.54\"/>\n",
       "<polygon fill=\"black\" stroke=\"black\" points=\"36.5,-191.62 33,-181.62 29.5,-191.62 36.5,-191.62\"/>\n",
       "</g>\n",
       "<!-- 12 -->\n",
       "<g id=\"node13\" class=\"node\">\n",
       "<title>12</title>\n",
       "<polygon fill=\"none\" stroke=\"white\" points=\"141.88,-252 84.12,-252 84.12,-216 141.88,-216 141.88,-252\"/>\n",
       "<text xml:space=\"preserve\" text-anchor=\"middle\" x=\"113\" y=\"-229.32\" font-family=\"'Fira Mono', 'Source Code Pro', 'Courier', monospace\" font-size=\"14.00\" fill=\"#00a060\">o (111)</text>\n",
       "</g>\n",
       "<!-- 11&#45;&gt;12 -->\n",
       "<g id=\"edge12\" class=\"edge\">\n",
       "<title>11&#45;&gt;12</title>\n",
       "<path fill=\"none\" stroke=\"black\" d=\"M112.25,-287.7C112.35,-280.41 112.48,-271.73 112.59,-263.54\"/>\n",
       "<polygon fill=\"black\" stroke=\"black\" points=\"116.09,-263.67 112.73,-253.62 109.09,-263.57 116.09,-263.67\"/>\n",
       "</g>\n",
       "<!-- 14 -->\n",
       "<g id=\"node15\" class=\"node\">\n",
       "<title>14</title>\n",
       "<polygon fill=\"none\" stroke=\"white\" points=\"220.88,-324 163.12,-324 163.12,-288 220.88,-288 220.88,-324\"/>\n",
       "<text xml:space=\"preserve\" text-anchor=\"middle\" x=\"192\" y=\"-301.32\" font-family=\"'Fira Mono', 'Source Code Pro', 'Courier', monospace\" font-size=\"14.00\" fill=\"#00a060\">o (111)</text>\n",
       "</g>\n",
       "<!-- 13&#45;&gt;14 -->\n",
       "<g id=\"edge14\" class=\"edge\">\n",
       "<title>13&#45;&gt;14</title>\n",
       "<path fill=\"none\" stroke=\"black\" d=\"M190.49,-359.7C190.7,-352.41 190.95,-343.73 191.18,-335.54\"/>\n",
       "<polygon fill=\"black\" stroke=\"black\" points=\"194.68,-335.71 191.47,-325.62 187.68,-335.51 194.68,-335.71\"/>\n",
       "</g>\n",
       "<!-- 16 -->\n",
       "<g id=\"node17\" class=\"node\">\n",
       "<title>16</title>\n",
       "<polygon fill=\"none\" stroke=\"white\" points=\"295,-396 241,-396 241,-360 295,-360 295,-396\"/>\n",
       "<text xml:space=\"preserve\" text-anchor=\"middle\" x=\"268\" y=\"-373.32\" font-family=\"'Fira Mono', 'Source Code Pro', 'Courier', monospace\" font-size=\"14.00\" fill=\"#00a060\">&gt; (62)</text>\n",
       "</g>\n",
       "<!-- 15&#45;&gt;16 -->\n",
       "<g id=\"edge16\" class=\"edge\">\n",
       "<title>15&#45;&gt;16</title>\n",
       "<path fill=\"none\" stroke=\"black\" d=\"M265.74,-431.7C266.05,-424.41 266.43,-415.73 266.78,-407.54\"/>\n",
       "<polygon fill=\"black\" stroke=\"black\" points=\"270.27,-407.76 267.2,-397.62 263.28,-407.46 270.27,-407.76\"/>\n",
       "</g>\n",
       "<!-- 18 -->\n",
       "<g id=\"node19\" class=\"node\">\n",
       "<title>18</title>\n",
       "<polygon fill=\"none\" stroke=\"white\" points=\"431.5,-468 332.5,-468 332.5,-432 431.5,-432 431.5,-468\"/>\n",
       "<text xml:space=\"preserve\" text-anchor=\"middle\" x=\"382\" y=\"-445.32\" font-family=\"'Fira Mono', 'Source Code Pro', 'Courier', monospace\" font-size=\"14.00\" fill=\"#0060a0\">&lt;plain&#45;text&gt;</text>\n",
       "</g>\n",
       "<!-- 17&#45;&gt;18 -->\n",
       "<g id=\"edge18\" class=\"edge\">\n",
       "<title>17&#45;&gt;18</title>\n",
       "<path fill=\"none\" stroke=\"black\" d=\"M382,-503.7C382,-496.41 382,-487.73 382,-479.54\"/>\n",
       "<polygon fill=\"black\" stroke=\"black\" points=\"385.5,-479.62 382,-469.62 378.5,-479.62 385.5,-479.62\"/>\n",
       "</g>\n",
       "<!-- 19 -->\n",
       "<g id=\"node20\" class=\"node\">\n",
       "<title>19</title>\n",
       "<polygon fill=\"none\" stroke=\"white\" points=\"412.5,-396 313.5,-396 313.5,-360 412.5,-360 412.5,-396\"/>\n",
       "<text xml:space=\"preserve\" text-anchor=\"middle\" x=\"363\" y=\"-373.32\" font-family=\"'Fira Mono', 'Source Code Pro', 'Courier', monospace\" font-size=\"14.00\" fill=\"#0060a0\">&lt;plain&#45;char&gt;</text>\n",
       "</g>\n",
       "<!-- 18&#45;&gt;19 -->\n",
       "<g id=\"edge19\" class=\"edge\">\n",
       "<title>18&#45;&gt;19</title>\n",
       "<path fill=\"none\" stroke=\"black\" d=\"M377.3,-431.7C375.28,-424.24 372.86,-415.32 370.59,-406.97\"/>\n",
       "<polygon fill=\"black\" stroke=\"black\" points=\"374.04,-406.3 368.04,-397.57 367.28,-408.13 374.04,-406.3\"/>\n",
       "</g>\n",
       "<!-- 22 -->\n",
       "<g id=\"node23\" class=\"node\">\n",
       "<title>22</title>\n",
       "<polygon fill=\"none\" stroke=\"white\" points=\"529.5,-396 430.5,-396 430.5,-360 529.5,-360 529.5,-396\"/>\n",
       "<text xml:space=\"preserve\" text-anchor=\"middle\" x=\"480\" y=\"-373.32\" font-family=\"'Fira Mono', 'Source Code Pro', 'Courier', monospace\" font-size=\"14.00\" fill=\"#0060a0\">&lt;plain&#45;text&gt;</text>\n",
       "</g>\n",
       "<!-- 18&#45;&gt;22 -->\n",
       "<g id=\"edge22\" class=\"edge\">\n",
       "<title>18&#45;&gt;22</title>\n",
       "<path fill=\"none\" stroke=\"black\" d=\"M406.48,-431.52C418.61,-422.85 433.45,-412.25 446.61,-402.85\"/>\n",
       "<polygon fill=\"black\" stroke=\"black\" points=\"448.5,-405.8 454.6,-397.14 444.43,-400.1 448.5,-405.8\"/>\n",
       "</g>\n",
       "<!-- 20 -->\n",
       "<g id=\"node21\" class=\"node\">\n",
       "<title>20</title>\n",
       "<polygon fill=\"none\" stroke=\"white\" points=\"343.88,-324 286.12,-324 286.12,-288 343.88,-288 343.88,-324\"/>\n",
       "<text xml:space=\"preserve\" text-anchor=\"middle\" x=\"315\" y=\"-301.32\" font-family=\"'Fira Mono', 'Source Code Pro', 'Courier', monospace\" font-size=\"14.00\" fill=\"#0060a0\">&lt;other&gt;</text>\n",
       "</g>\n",
       "<!-- 19&#45;&gt;20 -->\n",
       "<g id=\"edge20\" class=\"edge\">\n",
       "<title>19&#45;&gt;20</title>\n",
       "<path fill=\"none\" stroke=\"black\" d=\"M351.13,-359.7C345.73,-351.81 339.21,-342.3 333.2,-333.55\"/>\n",
       "<polygon fill=\"black\" stroke=\"black\" points=\"336.13,-331.62 327.58,-325.35 330.35,-335.58 336.13,-331.62\"/>\n",
       "</g>\n",
       "<!-- 21 -->\n",
       "<g id=\"node22\" class=\"node\">\n",
       "<title>21</title>\n",
       "<polygon fill=\"none\" stroke=\"white\" points=\"342,-252 288,-252 288,-216 342,-216 342,-252\"/>\n",
       "<text xml:space=\"preserve\" text-anchor=\"middle\" x=\"315\" y=\"-229.32\" font-family=\"'Fira Mono', 'Source Code Pro', 'Courier', monospace\" font-size=\"14.00\" fill=\"#00a060\">&quot; (34)</text>\n",
       "</g>\n",
       "<!-- 20&#45;&gt;21 -->\n",
       "<g id=\"edge21\" class=\"edge\">\n",
       "<title>20&#45;&gt;21</title>\n",
       "<path fill=\"none\" stroke=\"black\" d=\"M315,-287.7C315,-280.41 315,-271.73 315,-263.54\"/>\n",
       "<polygon fill=\"black\" stroke=\"black\" points=\"318.5,-263.62 315,-253.62 311.5,-263.62 318.5,-263.62\"/>\n",
       "</g>\n",
       "<!-- 23 -->\n",
       "<g id=\"node24\" class=\"node\">\n",
       "<title>23</title>\n",
       "<polygon fill=\"none\" stroke=\"white\" points=\"460.5,-324 361.5,-324 361.5,-288 460.5,-288 460.5,-324\"/>\n",
       "<text xml:space=\"preserve\" text-anchor=\"middle\" x=\"411\" y=\"-301.32\" font-family=\"'Fira Mono', 'Source Code Pro', 'Courier', monospace\" font-size=\"14.00\" fill=\"#0060a0\">&lt;plain&#45;char&gt;</text>\n",
       "</g>\n",
       "<!-- 22&#45;&gt;23 -->\n",
       "<g id=\"edge23\" class=\"edge\">\n",
       "<title>22&#45;&gt;23</title>\n",
       "<path fill=\"none\" stroke=\"black\" d=\"M462.94,-359.7C454.76,-351.39 444.79,-341.28 435.78,-332.14\"/>\n",
       "<polygon fill=\"black\" stroke=\"black\" points=\"438.44,-329.85 428.92,-325.18 433.45,-334.76 438.44,-329.85\"/>\n",
       "</g>\n",
       "<!-- 26 -->\n",
       "<g id=\"node27\" class=\"node\">\n",
       "<title>26</title>\n",
       "<polygon fill=\"none\" stroke=\"white\" points=\"577.5,-324 478.5,-324 478.5,-288 577.5,-288 577.5,-324\"/>\n",
       "<text xml:space=\"preserve\" text-anchor=\"middle\" x=\"528\" y=\"-301.32\" font-family=\"'Fira Mono', 'Source Code Pro', 'Courier', monospace\" font-size=\"14.00\" fill=\"#0060a0\">&lt;plain&#45;text&gt;</text>\n",
       "</g>\n",
       "<!-- 22&#45;&gt;26 -->\n",
       "<g id=\"edge26\" class=\"edge\">\n",
       "<title>22&#45;&gt;26</title>\n",
       "<path fill=\"none\" stroke=\"black\" d=\"M491.87,-359.7C497.27,-351.81 503.79,-342.3 509.8,-333.55\"/>\n",
       "<polygon fill=\"black\" stroke=\"black\" points=\"512.65,-335.58 515.42,-325.35 506.87,-331.62 512.65,-335.58\"/>\n",
       "</g>\n",
       "<!-- 24 -->\n",
       "<g id=\"node25\" class=\"node\">\n",
       "<title>24</title>\n",
       "<polygon fill=\"none\" stroke=\"white\" points=\"435,-252 369,-252 369,-216 435,-216 435,-252\"/>\n",
       "<text xml:space=\"preserve\" text-anchor=\"middle\" x=\"402\" y=\"-229.32\" font-family=\"'Fira Mono', 'Source Code Pro', 'Courier', monospace\" font-size=\"14.00\" fill=\"#0060a0\">&lt;letter&gt;</text>\n",
       "</g>\n",
       "<!-- 23&#45;&gt;24 -->\n",
       "<g id=\"edge24\" class=\"edge\">\n",
       "<title>23&#45;&gt;24</title>\n",
       "<path fill=\"none\" stroke=\"black\" d=\"M408.78,-287.7C407.83,-280.32 406.7,-271.52 405.63,-263.25\"/>\n",
       "<polygon fill=\"black\" stroke=\"black\" points=\"409.14,-263.08 404.39,-253.61 402.2,-263.97 409.14,-263.08\"/>\n",
       "</g>\n",
       "<!-- 25 -->\n",
       "<g id=\"node26\" class=\"node\">\n",
       "<title>25</title>\n",
       "<polygon fill=\"none\" stroke=\"white\" points=\"429,-180 375,-180 375,-144 429,-144 429,-180\"/>\n",
       "<text xml:space=\"preserve\" text-anchor=\"middle\" x=\"402\" y=\"-157.32\" font-family=\"'Fira Mono', 'Source Code Pro', 'Courier', monospace\" font-size=\"14.00\" fill=\"#00a060\">b (98)</text>\n",
       "</g>\n",
       "<!-- 24&#45;&gt;25 -->\n",
       "<g id=\"edge25\" class=\"edge\">\n",
       "<title>24&#45;&gt;25</title>\n",
       "<path fill=\"none\" stroke=\"black\" d=\"M402,-215.7C402,-208.41 402,-199.73 402,-191.54\"/>\n",
       "<polygon fill=\"black\" stroke=\"black\" points=\"405.5,-191.62 402,-181.62 398.5,-191.62 405.5,-191.62\"/>\n",
       "</g>\n",
       "<!-- 27 -->\n",
       "<g id=\"node28\" class=\"node\">\n",
       "<title>27</title>\n",
       "<polygon fill=\"none\" stroke=\"white\" points=\"552.5,-252 453.5,-252 453.5,-216 552.5,-216 552.5,-252\"/>\n",
       "<text xml:space=\"preserve\" text-anchor=\"middle\" x=\"503\" y=\"-229.32\" font-family=\"'Fira Mono', 'Source Code Pro', 'Courier', monospace\" font-size=\"14.00\" fill=\"#0060a0\">&lt;plain&#45;char&gt;</text>\n",
       "</g>\n",
       "<!-- 26&#45;&gt;27 -->\n",
       "<g id=\"edge27\" class=\"edge\">\n",
       "<title>26&#45;&gt;27</title>\n",
       "<path fill=\"none\" stroke=\"black\" d=\"M521.82,-287.7C519.13,-280.15 515.9,-271.12 512.89,-262.68\"/>\n",
       "<polygon fill=\"black\" stroke=\"black\" points=\"516.28,-261.77 509.62,-253.53 509.69,-264.12 516.28,-261.77\"/>\n",
       "</g>\n",
       "<!-- 30 -->\n",
       "<g id=\"node31\" class=\"node\">\n",
       "<title>30</title>\n",
       "<polygon fill=\"none\" stroke=\"white\" points=\"669.5,-252 570.5,-252 570.5,-216 669.5,-216 669.5,-252\"/>\n",
       "<text xml:space=\"preserve\" text-anchor=\"middle\" x=\"620\" y=\"-229.32\" font-family=\"'Fira Mono', 'Source Code Pro', 'Courier', monospace\" font-size=\"14.00\" fill=\"#0060a0\">&lt;plain&#45;text&gt;</text>\n",
       "</g>\n",
       "<!-- 26&#45;&gt;30 -->\n",
       "<g id=\"edge30\" class=\"edge\">\n",
       "<title>26&#45;&gt;30</title>\n",
       "<path fill=\"none\" stroke=\"black\" d=\"M550.74,-287.7C562.02,-279.11 575.83,-268.61 588.14,-259.24\"/>\n",
       "<polygon fill=\"black\" stroke=\"black\" points=\"590.16,-262.1 596,-253.26 585.92,-256.53 590.16,-262.1\"/>\n",
       "</g>\n",
       "<!-- 28 -->\n",
       "<g id=\"node29\" class=\"node\">\n",
       "<title>28</title>\n",
       "<polygon fill=\"none\" stroke=\"white\" points=\"524,-180 458,-180 458,-144 524,-144 524,-180\"/>\n",
       "<text xml:space=\"preserve\" text-anchor=\"middle\" x=\"491\" y=\"-157.32\" font-family=\"'Fira Mono', 'Source Code Pro', 'Courier', monospace\" font-size=\"14.00\" fill=\"#0060a0\">&lt;letter&gt;</text>\n",
       "</g>\n",
       "<!-- 27&#45;&gt;28 -->\n",
       "<g id=\"edge28\" class=\"edge\">\n",
       "<title>27&#45;&gt;28</title>\n",
       "<path fill=\"none\" stroke=\"black\" d=\"M500.03,-215.7C498.77,-208.32 497.26,-199.52 495.84,-191.25\"/>\n",
       "<polygon fill=\"black\" stroke=\"black\" points=\"499.33,-190.86 494.19,-181.6 492.43,-192.04 499.33,-190.86\"/>\n",
       "</g>\n",
       "<!-- 29 -->\n",
       "<g id=\"node30\" class=\"node\">\n",
       "<title>29</title>\n",
       "<polygon fill=\"none\" stroke=\"white\" points=\"518,-108 464,-108 464,-72 518,-72 518,-108\"/>\n",
       "<text xml:space=\"preserve\" text-anchor=\"middle\" x=\"491\" y=\"-85.33\" font-family=\"'Fira Mono', 'Source Code Pro', 'Courier', monospace\" font-size=\"14.00\" fill=\"#00a060\">a (97)</text>\n",
       "</g>\n",
       "<!-- 28&#45;&gt;29 -->\n",
       "<g id=\"edge29\" class=\"edge\">\n",
       "<title>28&#45;&gt;29</title>\n",
       "<path fill=\"none\" stroke=\"black\" d=\"M491,-143.7C491,-136.41 491,-127.73 491,-119.54\"/>\n",
       "<polygon fill=\"black\" stroke=\"black\" points=\"494.5,-119.62 491,-109.62 487.5,-119.62 494.5,-119.62\"/>\n",
       "</g>\n",
       "<!-- 31 -->\n",
       "<g id=\"node32\" class=\"node\">\n",
       "<title>31</title>\n",
       "<polygon fill=\"none\" stroke=\"white\" points=\"641.5,-180 542.5,-180 542.5,-144 641.5,-144 641.5,-180\"/>\n",
       "<text xml:space=\"preserve\" text-anchor=\"middle\" x=\"592\" y=\"-157.32\" font-family=\"'Fira Mono', 'Source Code Pro', 'Courier', monospace\" font-size=\"14.00\" fill=\"#0060a0\">&lt;plain&#45;char&gt;</text>\n",
       "</g>\n",
       "<!-- 30&#45;&gt;31 -->\n",
       "<g id=\"edge31\" class=\"edge\">\n",
       "<title>30&#45;&gt;31</title>\n",
       "<path fill=\"none\" stroke=\"black\" d=\"M613.08,-215.7C610.06,-208.15 606.45,-199.12 603.07,-190.68\"/>\n",
       "<polygon fill=\"black\" stroke=\"black\" points=\"606.37,-189.49 599.4,-181.51 599.87,-192.09 606.37,-189.49\"/>\n",
       "</g>\n",
       "<!-- 34 -->\n",
       "<g id=\"node35\" class=\"node\">\n",
       "<title>34</title>\n",
       "<polygon fill=\"none\" stroke=\"white\" points=\"758.5,-180 659.5,-180 659.5,-144 758.5,-144 758.5,-180\"/>\n",
       "<text xml:space=\"preserve\" text-anchor=\"middle\" x=\"709\" y=\"-157.32\" font-family=\"'Fira Mono', 'Source Code Pro', 'Courier', monospace\" font-size=\"14.00\" fill=\"#0060a0\">&lt;plain&#45;text&gt;</text>\n",
       "</g>\n",
       "<!-- 30&#45;&gt;34 -->\n",
       "<g id=\"edge34\" class=\"edge\">\n",
       "<title>30&#45;&gt;34</title>\n",
       "<path fill=\"none\" stroke=\"black\" d=\"M642,-215.7C652.91,-207.11 666.27,-196.61 678.18,-187.24\"/>\n",
       "<polygon fill=\"black\" stroke=\"black\" points=\"680.06,-190.22 685.75,-181.28 675.73,-184.71 680.06,-190.22\"/>\n",
       "</g>\n",
       "<!-- 32 -->\n",
       "<g id=\"node33\" class=\"node\">\n",
       "<title>32</title>\n",
       "<polygon fill=\"none\" stroke=\"white\" points=\"625,-108 559,-108 559,-72 625,-72 625,-108\"/>\n",
       "<text xml:space=\"preserve\" text-anchor=\"middle\" x=\"592\" y=\"-85.33\" font-family=\"'Fira Mono', 'Source Code Pro', 'Courier', monospace\" font-size=\"14.00\" fill=\"#0060a0\">&lt;letter&gt;</text>\n",
       "</g>\n",
       "<!-- 31&#45;&gt;32 -->\n",
       "<g id=\"edge32\" class=\"edge\">\n",
       "<title>31&#45;&gt;32</title>\n",
       "<path fill=\"none\" stroke=\"black\" d=\"M592,-143.7C592,-136.41 592,-127.73 592,-119.54\"/>\n",
       "<polygon fill=\"black\" stroke=\"black\" points=\"595.5,-119.62 592,-109.62 588.5,-119.62 595.5,-119.62\"/>\n",
       "</g>\n",
       "<!-- 33 -->\n",
       "<g id=\"node34\" class=\"node\">\n",
       "<title>33</title>\n",
       "<polygon fill=\"none\" stroke=\"white\" points=\"620.88,-36 563.12,-36 563.12,0 620.88,0 620.88,-36\"/>\n",
       "<text xml:space=\"preserve\" text-anchor=\"middle\" x=\"592\" y=\"-13.32\" font-family=\"'Fira Mono', 'Source Code Pro', 'Courier', monospace\" font-size=\"14.00\" fill=\"#00a060\">r (114)</text>\n",
       "</g>\n",
       "<!-- 32&#45;&gt;33 -->\n",
       "<g id=\"edge33\" class=\"edge\">\n",
       "<title>32&#45;&gt;33</title>\n",
       "<path fill=\"none\" stroke=\"black\" d=\"M592,-71.7C592,-64.41 592,-55.73 592,-47.54\"/>\n",
       "<polygon fill=\"black\" stroke=\"black\" points=\"595.5,-47.62 592,-37.62 588.5,-47.62 595.5,-47.62\"/>\n",
       "</g>\n",
       "<!-- 36 -->\n",
       "<g id=\"node37\" class=\"node\">\n",
       "<title>36</title>\n",
       "<polygon fill=\"none\" stroke=\"white\" points=\"706,-468 652,-468 652,-432 706,-432 706,-468\"/>\n",
       "<text xml:space=\"preserve\" text-anchor=\"middle\" x=\"679\" y=\"-445.32\" font-family=\"'Fira Mono', 'Source Code Pro', 'Courier', monospace\" font-size=\"14.00\" fill=\"#0060a0\">&lt;lt&gt;</text>\n",
       "</g>\n",
       "<!-- 35&#45;&gt;36 -->\n",
       "<g id=\"edge36\" class=\"edge\">\n",
       "<title>35&#45;&gt;36</title>\n",
       "<path fill=\"none\" stroke=\"black\" d=\"M733.2,-503.7C724.72,-495.45 714.41,-485.43 705.07,-476.35\"/>\n",
       "<polygon fill=\"black\" stroke=\"black\" points=\"707.54,-473.86 697.93,-469.4 702.66,-478.88 707.54,-473.86\"/>\n",
       "</g>\n",
       "<!-- 38 -->\n",
       "<g id=\"node39\" class=\"node\">\n",
       "<title>38</title>\n",
       "<polygon fill=\"none\" stroke=\"white\" points=\"778,-468 724,-468 724,-432 778,-432 778,-468\"/>\n",
       "<text xml:space=\"preserve\" text-anchor=\"middle\" x=\"751\" y=\"-445.32\" font-family=\"'Fira Mono', 'Source Code Pro', 'Courier', monospace\" font-size=\"14.00\" fill=\"#00a060\">/ (47)</text>\n",
       "</g>\n",
       "<!-- 35&#45;&gt;38 -->\n",
       "<g id=\"edge38\" class=\"edge\">\n",
       "<title>35&#45;&gt;38</title>\n",
       "<path fill=\"none\" stroke=\"black\" d=\"M751,-503.7C751,-496.41 751,-487.73 751,-479.54\"/>\n",
       "<polygon fill=\"black\" stroke=\"black\" points=\"754.5,-479.62 751,-469.62 747.5,-479.62 754.5,-479.62\"/>\n",
       "</g>\n",
       "<!-- 39 -->\n",
       "<g id=\"node40\" class=\"node\">\n",
       "<title>39</title>\n",
       "<polygon fill=\"none\" stroke=\"white\" points=\"850,-468 796,-468 796,-432 850,-432 850,-468\"/>\n",
       "<text xml:space=\"preserve\" text-anchor=\"middle\" x=\"823\" y=\"-445.32\" font-family=\"'Fira Mono', 'Source Code Pro', 'Courier', monospace\" font-size=\"14.00\" fill=\"#0060a0\">&lt;id&gt;</text>\n",
       "</g>\n",
       "<!-- 35&#45;&gt;39 -->\n",
       "<g id=\"edge39\" class=\"edge\">\n",
       "<title>35&#45;&gt;39</title>\n",
       "<path fill=\"none\" stroke=\"black\" d=\"M768.8,-503.7C777.28,-495.45 787.59,-485.43 796.93,-476.35\"/>\n",
       "<polygon fill=\"black\" stroke=\"black\" points=\"799.34,-478.88 804.07,-469.4 794.46,-473.86 799.34,-478.88\"/>\n",
       "</g>\n",
       "<!-- 48 -->\n",
       "<g id=\"node49\" class=\"node\">\n",
       "<title>48</title>\n",
       "<polygon fill=\"none\" stroke=\"white\" points=\"964,-468 910,-468 910,-432 964,-432 964,-468\"/>\n",
       "<text xml:space=\"preserve\" text-anchor=\"middle\" x=\"937\" y=\"-445.32\" font-family=\"'Fira Mono', 'Source Code Pro', 'Courier', monospace\" font-size=\"14.00\" fill=\"#0060a0\">&lt;gt&gt;</text>\n",
       "</g>\n",
       "<!-- 35&#45;&gt;48 -->\n",
       "<g id=\"edge48\" class=\"edge\">\n",
       "<title>35&#45;&gt;48</title>\n",
       "<path fill=\"none\" stroke=\"black\" d=\"M797.46,-503.52C828.75,-491.74 869.52,-476.4 898.9,-465.34\"/>\n",
       "<polygon fill=\"black\" stroke=\"black\" points=\"900.02,-468.66 908.14,-461.86 897.55,-462.11 900.02,-468.66\"/>\n",
       "</g>\n",
       "<!-- 37 -->\n",
       "<g id=\"node38\" class=\"node\">\n",
       "<title>37</title>\n",
       "<polygon fill=\"none\" stroke=\"white\" points=\"706,-396 652,-396 652,-360 706,-360 706,-396\"/>\n",
       "<text xml:space=\"preserve\" text-anchor=\"middle\" x=\"679\" y=\"-373.32\" font-family=\"'Fira Mono', 'Source Code Pro', 'Courier', monospace\" font-size=\"14.00\" fill=\"#0060a0\">&lt; (60)</text>\n",
       "</g>\n",
       "<!-- 36&#45;&gt;37 -->\n",
       "<g id=\"edge37\" class=\"edge\">\n",
       "<title>36&#45;&gt;37</title>\n",
       "<path fill=\"none\" stroke=\"black\" d=\"M679,-431.7C679,-424.41 679,-415.73 679,-407.54\"/>\n",
       "<polygon fill=\"black\" stroke=\"black\" points=\"682.5,-407.62 679,-397.62 675.5,-407.62 682.5,-407.62\"/>\n",
       "</g>\n",
       "<!-- 40 -->\n",
       "<g id=\"node41\" class=\"node\">\n",
       "<title>40</title>\n",
       "<polygon fill=\"none\" stroke=\"white\" points=\"829,-396 775,-396 775,-360 829,-360 829,-396\"/>\n",
       "<text xml:space=\"preserve\" text-anchor=\"middle\" x=\"802\" y=\"-373.32\" font-family=\"'Fira Mono', 'Source Code Pro', 'Courier', monospace\" font-size=\"14.00\" fill=\"#0060a0\">&lt;id&gt;</text>\n",
       "</g>\n",
       "<!-- 39&#45;&gt;40 -->\n",
       "<g id=\"edge40\" class=\"edge\">\n",
       "<title>39&#45;&gt;40</title>\n",
       "<path fill=\"none\" stroke=\"black\" d=\"M817.81,-431.7C815.57,-424.24 812.9,-415.32 810.39,-406.97\"/>\n",
       "<polygon fill=\"black\" stroke=\"black\" points=\"813.79,-406.13 807.57,-397.55 807.09,-408.14 813.79,-406.13\"/>\n",
       "</g>\n",
       "<!-- 46 -->\n",
       "<g id=\"node47\" class=\"node\">\n",
       "<title>46</title>\n",
       "<polygon fill=\"none\" stroke=\"white\" points=\"913,-396 847,-396 847,-360 913,-360 913,-396\"/>\n",
       "<text xml:space=\"preserve\" text-anchor=\"middle\" x=\"880\" y=\"-373.32\" font-family=\"'Fira Mono', 'Source Code Pro', 'Courier', monospace\" font-size=\"14.00\" fill=\"#0060a0\">&lt;letter&gt;</text>\n",
       "</g>\n",
       "<!-- 39&#45;&gt;46 -->\n",
       "<g id=\"edge46\" class=\"edge\">\n",
       "<title>39&#45;&gt;46</title>\n",
       "<path fill=\"none\" stroke=\"black\" d=\"M837.09,-431.7C843.65,-423.64 851.59,-413.89 858.84,-404.98\"/>\n",
       "<polygon fill=\"black\" stroke=\"black\" points=\"861.52,-407.24 865.12,-397.28 856.09,-402.82 861.52,-407.24\"/>\n",
       "</g>\n",
       "<!-- 41 -->\n",
       "<g id=\"node42\" class=\"node\">\n",
       "<title>41</title>\n",
       "<polygon fill=\"none\" stroke=\"white\" points=\"790,-324 736,-324 736,-288 790,-288 790,-324\"/>\n",
       "<text xml:space=\"preserve\" text-anchor=\"middle\" x=\"763\" y=\"-301.32\" font-family=\"'Fira Mono', 'Source Code Pro', 'Courier', monospace\" font-size=\"14.00\" fill=\"#0060a0\">&lt;id&gt;</text>\n",
       "</g>\n",
       "<!-- 40&#45;&gt;41 -->\n",
       "<g id=\"edge41\" class=\"edge\">\n",
       "<title>40&#45;&gt;41</title>\n",
       "<path fill=\"none\" stroke=\"black\" d=\"M792.36,-359.7C788.06,-351.98 782.9,-342.71 778.11,-334.11\"/>\n",
       "<polygon fill=\"black\" stroke=\"black\" points=\"781.19,-332.46 773.27,-325.43 775.08,-335.87 781.19,-332.46\"/>\n",
       "</g>\n",
       "<!-- 44 -->\n",
       "<g id=\"node45\" class=\"node\">\n",
       "<title>44</title>\n",
       "<polygon fill=\"none\" stroke=\"white\" points=\"874,-324 808,-324 808,-288 874,-288 874,-324\"/>\n",
       "<text xml:space=\"preserve\" text-anchor=\"middle\" x=\"841\" y=\"-301.32\" font-family=\"'Fira Mono', 'Source Code Pro', 'Courier', monospace\" font-size=\"14.00\" fill=\"#0060a0\">&lt;letter&gt;</text>\n",
       "</g>\n",
       "<!-- 40&#45;&gt;44 -->\n",
       "<g id=\"edge44\" class=\"edge\">\n",
       "<title>40&#45;&gt;44</title>\n",
       "<path fill=\"none\" stroke=\"black\" d=\"M811.64,-359.7C815.94,-351.98 821.1,-342.71 825.89,-334.11\"/>\n",
       "<polygon fill=\"black\" stroke=\"black\" points=\"828.92,-335.87 830.73,-325.43 822.81,-332.46 828.92,-335.87\"/>\n",
       "</g>\n",
       "<!-- 42 -->\n",
       "<g id=\"node43\" class=\"node\">\n",
       "<title>42</title>\n",
       "<polygon fill=\"none\" stroke=\"white\" points=\"796,-252 730,-252 730,-216 796,-216 796,-252\"/>\n",
       "<text xml:space=\"preserve\" text-anchor=\"middle\" x=\"763\" y=\"-229.32\" font-family=\"'Fira Mono', 'Source Code Pro', 'Courier', monospace\" font-size=\"14.00\" fill=\"#0060a0\">&lt;letter&gt;</text>\n",
       "</g>\n",
       "<!-- 41&#45;&gt;42 -->\n",
       "<g id=\"edge42\" class=\"edge\">\n",
       "<title>41&#45;&gt;42</title>\n",
       "<path fill=\"none\" stroke=\"black\" d=\"M763,-287.7C763,-280.41 763,-271.73 763,-263.54\"/>\n",
       "<polygon fill=\"black\" stroke=\"black\" points=\"766.5,-263.62 763,-253.62 759.5,-263.62 766.5,-263.62\"/>\n",
       "</g>\n",
       "<!-- 43 -->\n",
       "<g id=\"node44\" class=\"node\">\n",
       "<title>43</title>\n",
       "<polygon fill=\"none\" stroke=\"white\" points=\"833.88,-180 776.12,-180 776.12,-144 833.88,-144 833.88,-180\"/>\n",
       "<text xml:space=\"preserve\" text-anchor=\"middle\" x=\"805\" y=\"-157.32\" font-family=\"'Fira Mono', 'Source Code Pro', 'Courier', monospace\" font-size=\"14.00\" fill=\"#00a060\">f (102)</text>\n",
       "</g>\n",
       "<!-- 42&#45;&gt;43 -->\n",
       "<g id=\"edge43\" class=\"edge\">\n",
       "<title>42&#45;&gt;43</title>\n",
       "<path fill=\"none\" stroke=\"black\" d=\"M773.38,-215.7C778.06,-207.9 783.69,-198.51 788.9,-189.83\"/>\n",
       "<polygon fill=\"black\" stroke=\"black\" points=\"791.81,-191.78 793.96,-181.4 785.81,-188.18 791.81,-191.78\"/>\n",
       "</g>\n",
       "<!-- 45 -->\n",
       "<g id=\"node46\" class=\"node\">\n",
       "<title>45</title>\n",
       "<polygon fill=\"none\" stroke=\"white\" points=\"871.88,-252 814.12,-252 814.12,-216 871.88,-216 871.88,-252\"/>\n",
       "<text xml:space=\"preserve\" text-anchor=\"middle\" x=\"843\" y=\"-229.32\" font-family=\"'Fira Mono', 'Source Code Pro', 'Courier', monospace\" font-size=\"14.00\" fill=\"#00a060\">o (111)</text>\n",
       "</g>\n",
       "<!-- 44&#45;&gt;45 -->\n",
       "<g id=\"edge45\" class=\"edge\">\n",
       "<title>44&#45;&gt;45</title>\n",
       "<path fill=\"none\" stroke=\"black\" d=\"M841.49,-287.7C841.7,-280.41 841.95,-271.73 842.18,-263.54\"/>\n",
       "<polygon fill=\"black\" stroke=\"black\" points=\"845.68,-263.71 842.47,-253.62 838.68,-263.51 845.68,-263.71\"/>\n",
       "</g>\n",
       "<!-- 47 -->\n",
       "<g id=\"node48\" class=\"node\">\n",
       "<title>47</title>\n",
       "<polygon fill=\"none\" stroke=\"white\" points=\"949.88,-324 892.12,-324 892.12,-288 949.88,-288 949.88,-324\"/>\n",
       "<text xml:space=\"preserve\" text-anchor=\"middle\" x=\"921\" y=\"-301.32\" font-family=\"'Fira Mono', 'Source Code Pro', 'Courier', monospace\" font-size=\"14.00\" fill=\"#00a060\">o (111)</text>\n",
       "</g>\n",
       "<!-- 46&#45;&gt;47 -->\n",
       "<g id=\"edge47\" class=\"edge\">\n",
       "<title>46&#45;&gt;47</title>\n",
       "<path fill=\"none\" stroke=\"black\" d=\"M890.13,-359.7C894.7,-351.9 900.2,-342.51 905.29,-333.83\"/>\n",
       "<polygon fill=\"black\" stroke=\"black\" points=\"908.18,-335.81 910.22,-325.41 902.14,-332.27 908.18,-335.81\"/>\n",
       "</g>\n",
       "<!-- 49 -->\n",
       "<g id=\"node50\" class=\"node\">\n",
       "<title>49</title>\n",
       "<polygon fill=\"none\" stroke=\"white\" points=\"985,-396 931,-396 931,-360 985,-360 985,-396\"/>\n",
       "<text xml:space=\"preserve\" text-anchor=\"middle\" x=\"958\" y=\"-373.32\" font-family=\"'Fira Mono', 'Source Code Pro', 'Courier', monospace\" font-size=\"14.00\" fill=\"#00a060\">&gt; (62)</text>\n",
       "</g>\n",
       "<!-- 48&#45;&gt;49 -->\n",
       "<g id=\"edge49\" class=\"edge\">\n",
       "<title>48&#45;&gt;49</title>\n",
       "<path fill=\"none\" stroke=\"black\" d=\"M942.19,-431.7C944.43,-424.24 947.1,-415.32 949.61,-406.97\"/>\n",
       "<polygon fill=\"black\" stroke=\"black\" points=\"952.91,-408.14 952.43,-397.55 946.21,-406.13 952.91,-408.14\"/>\n",
       "</g>\n",
       "</g>\n",
       "</svg>\n"
      ],
      "text/plain": [
       "<graphviz.graphs.Digraph at 0x1098fdd10>"
      ]
     },
     "execution_count": 37,
     "metadata": {},
     "output_type": "execute_result"
    }
   ],
   "source": [
    "display_tree(bad_input_tree)"
   ]
  },
  {
   "cell_type": "markdown",
   "metadata": {
    "slideshow": {
     "slide_type": "subslide"
    }
   },
   "source": [
    "This derivation tree has the same structure as the one created from our `GrammarFuzzer` above. We see how the `<tagged-text>` is composed of three elements:\n",
    "\n",
    "1. an`<opening-tag>` (`<foo>`);\n",
    "2. a `<html>` element which becomes `<plain-text>` (`\"bar`); and\n",
    "3. a `<closing-tag>` (`</foo>`)."
   ]
  },
  {
   "cell_type": "markdown",
   "metadata": {
    "slideshow": {
     "slide_type": "fragment"
    }
   },
   "source": [
    "We can easily turn the tree back into a string. The method `tree_to_string()` traverses the tree left-to-right and joins all nonterminal symbols."
   ]
  },
  {
   "cell_type": "code",
   "execution_count": 38,
   "metadata": {
    "execution": {
     "iopub.execute_input": "2025-10-26T17:48:40.079331Z",
     "iopub.status.busy": "2025-10-26T17:48:40.079214Z",
     "iopub.status.idle": "2025-10-26T17:48:40.081085Z",
     "shell.execute_reply": "2025-10-26T17:48:40.080801Z"
    },
    "slideshow": {
     "slide_type": "skip"
    }
   },
   "outputs": [],
   "source": [
    "from fuzzingbook.GrammarFuzzer import tree_to_string, all_terminals"
   ]
  },
  {
   "cell_type": "code",
   "execution_count": 39,
   "metadata": {
    "execution": {
     "iopub.execute_input": "2025-10-26T17:48:40.082410Z",
     "iopub.status.busy": "2025-10-26T17:48:40.082315Z",
     "iopub.status.idle": "2025-10-26T17:48:40.084244Z",
     "shell.execute_reply": "2025-10-26T17:48:40.084009Z"
    },
    "slideshow": {
     "slide_type": "fragment"
    }
   },
   "outputs": [
    {
     "data": {
      "text/plain": [
       "'<foo>\"bar</foo>'"
      ]
     },
     "execution_count": 39,
     "metadata": {},
     "output_type": "execute_result"
    }
   ],
   "source": [
    "tree_to_string(bad_input_tree)"
   ]
  },
  {
   "cell_type": "code",
   "execution_count": 40,
   "metadata": {
    "execution": {
     "iopub.execute_input": "2025-10-26T17:48:40.085475Z",
     "iopub.status.busy": "2025-10-26T17:48:40.085378Z",
     "iopub.status.idle": "2025-10-26T17:48:40.087075Z",
     "shell.execute_reply": "2025-10-26T17:48:40.086850Z"
    },
    "slideshow": {
     "slide_type": "fragment"
    }
   },
   "outputs": [],
   "source": [
    "assert tree_to_string(bad_input_tree) == BAD_INPUT"
   ]
  },
  {
   "cell_type": "markdown",
   "metadata": {
    "slideshow": {
     "slide_type": "subslide"
    }
   },
   "source": [
    "With this, we can now\n",
    "\n",
    "* parse an input into a tree structure;\n",
    "* (re-)create parts of the tree structure; and\n",
    "* turn the tree back into an input string."
   ]
  },
  {
   "cell_type": "markdown",
   "metadata": {
    "slideshow": {
     "slide_type": "slide"
    }
   },
   "source": [
    "## Mutating the Tree\n",
    "\n",
    "We introduce a class `TreeMutator` that is set to mutate a tree. Its constructor takes a grammar and a tree."
   ]
  },
  {
   "cell_type": "code",
   "execution_count": 41,
   "metadata": {
    "execution": {
     "iopub.execute_input": "2025-10-26T17:48:40.088277Z",
     "iopub.status.busy": "2025-10-26T17:48:40.088202Z",
     "iopub.status.idle": "2025-10-26T17:48:40.089931Z",
     "shell.execute_reply": "2025-10-26T17:48:40.089571Z"
    },
    "slideshow": {
     "slide_type": "skip"
    }
   },
   "outputs": [],
   "source": [
    "from fuzzingbook.Grammars import is_valid_grammar"
   ]
  },
  {
   "cell_type": "code",
   "execution_count": 42,
   "metadata": {
    "execution": {
     "iopub.execute_input": "2025-10-26T17:48:40.091152Z",
     "iopub.status.busy": "2025-10-26T17:48:40.091070Z",
     "iopub.status.idle": "2025-10-26T17:48:40.093315Z",
     "shell.execute_reply": "2025-10-26T17:48:40.093111Z"
    },
    "slideshow": {
     "slide_type": "subslide"
    }
   },
   "outputs": [],
   "source": [
    "class TreeMutator:\n",
    "    \"\"\"Grammar-based mutations of derivation trees.\"\"\"\n",
    "\n",
    "    def __init__(self, grammar: Grammar, tree: DerivationTree,\n",
    "                 fuzzer: Optional[GrammarFuzzer] = None, log: Union[bool, int] = False):\n",
    "        \"\"\"\n",
    "        Constructor. \n",
    "        `grammar` is the underlying grammar; \n",
    "        `tree` is the tree to work on.\n",
    "        `fuzzer` is the grammar fuzzer to use (default: `GrammarFuzzer`)\n",
    "        \"\"\"\n",
    "\n",
    "        assert is_valid_grammar(grammar)\n",
    "        self.grammar = grammar\n",
    "        self.tree = tree\n",
    "        self.log = log\n",
    "\n",
    "        if fuzzer is None:\n",
    "            fuzzer = GrammarFuzzer(grammar)\n",
    "\n",
    "        self.fuzzer = fuzzer"
   ]
  },
  {
   "cell_type": "markdown",
   "metadata": {
    "slideshow": {
     "slide_type": "subslide"
    }
   },
   "source": [
    "### Referencing Subtrees"
   ]
  },
  {
   "cell_type": "markdown",
   "metadata": {
    "slideshow": {
     "slide_type": "fragment"
    }
   },
   "source": [
    "To reference individual elements in the tree, we introduce the concept of a _path_. A path is a list of numbers indicating the children (starting with 0) we should follow. A path `[0, 0, 0, ..., 0]` stands for the leftmost child in a tree."
   ]
  },
  {
   "cell_type": "code",
   "execution_count": 43,
   "metadata": {
    "execution": {
     "iopub.execute_input": "2025-10-26T17:48:40.094769Z",
     "iopub.status.busy": "2025-10-26T17:48:40.094677Z",
     "iopub.status.idle": "2025-10-26T17:48:40.096329Z",
     "shell.execute_reply": "2025-10-26T17:48:40.096085Z"
    },
    "slideshow": {
     "slide_type": "fragment"
    }
   },
   "outputs": [],
   "source": [
    "TreePath = List[int]"
   ]
  },
  {
   "cell_type": "markdown",
   "metadata": {
    "slideshow": {
     "slide_type": "fragment"
    }
   },
   "source": [
    "The method `get_subtree()` returns the subtree for a given path."
   ]
  },
  {
   "cell_type": "code",
   "execution_count": 44,
   "metadata": {
    "execution": {
     "iopub.execute_input": "2025-10-26T17:48:40.097738Z",
     "iopub.status.busy": "2025-10-26T17:48:40.097640Z",
     "iopub.status.idle": "2025-10-26T17:48:40.099763Z",
     "shell.execute_reply": "2025-10-26T17:48:40.099556Z"
    },
    "slideshow": {
     "slide_type": "subslide"
    }
   },
   "outputs": [],
   "source": [
    "class TreeMutator(TreeMutator):\n",
    "    def get_subtree(self, path: TreePath, tree: Optional[DerivationTree] = None) -> DerivationTree:\n",
    "        \"\"\"Access a subtree based on `path` (a list of children numbers)\"\"\"\n",
    "        if tree is None:\n",
    "            tree = self.tree\n",
    "\n",
    "        symbol, children = tree\n",
    "\n",
    "        if not path or children is None:\n",
    "            return tree\n",
    "\n",
    "        return self.get_subtree(path[1:], children[path[0]])"
   ]
  },
  {
   "cell_type": "markdown",
   "metadata": {
    "slideshow": {
     "slide_type": "subslide"
    }
   },
   "source": [
    "Here's `get_subtree()` in action. We instantiate a `TreeMutator` on the `BAD_INPUT` tree as shown above and return the element at the path `[0, 0, 1, 0]` – i.e. follow the leftmost edge twice, than the second-to-leftmost edge, then the leftmost edge again. This gives us the `<plain-text>` subtree representing the string `\"bar`:"
   ]
  },
  {
   "cell_type": "code",
   "execution_count": 45,
   "metadata": {
    "execution": {
     "iopub.execute_input": "2025-10-26T17:48:40.100963Z",
     "iopub.status.busy": "2025-10-26T17:48:40.100884Z",
     "iopub.status.idle": "2025-10-26T17:48:40.102426Z",
     "shell.execute_reply": "2025-10-26T17:48:40.102091Z"
    },
    "slideshow": {
     "slide_type": "fragment"
    }
   },
   "outputs": [],
   "source": [
    "def bad_input_tree_mutator() -> TreeMutator:\n",
    "    return TreeMutator(SIMPLE_HTML_GRAMMAR, bad_input_tree, log=2)    "
   ]
  },
  {
   "cell_type": "code",
   "execution_count": 46,
   "metadata": {
    "execution": {
     "iopub.execute_input": "2025-10-26T17:48:40.103514Z",
     "iopub.status.busy": "2025-10-26T17:48:40.103428Z",
     "iopub.status.idle": "2025-10-26T17:48:40.105538Z",
     "shell.execute_reply": "2025-10-26T17:48:40.105310Z"
    },
    "slideshow": {
     "slide_type": "fragment"
    }
   },
   "outputs": [
    {
     "name": "stdout",
     "output_type": "stream",
     "text": [
      "('<plain-text>',\n",
      " [('<plain-char>', [('<other>', [('\"', [])])]),\n",
      "  ('<plain-text>',\n",
      "   [('<plain-char>', [('<letter>', [...])]),\n",
      "    ('<plain-text>', [('<plain-char>', [...]), ('<plain-text>', [...])])])])\n"
     ]
    }
   ],
   "source": [
    "plain_text_subtree = bad_input_tree_mutator().get_subtree([0, 0, 1, 0])\n",
    "pp.pprint(plain_text_subtree)"
   ]
  },
  {
   "cell_type": "code",
   "execution_count": 47,
   "metadata": {
    "execution": {
     "iopub.execute_input": "2025-10-26T17:48:40.106686Z",
     "iopub.status.busy": "2025-10-26T17:48:40.106613Z",
     "iopub.status.idle": "2025-10-26T17:48:40.108548Z",
     "shell.execute_reply": "2025-10-26T17:48:40.108261Z"
    },
    "slideshow": {
     "slide_type": "subslide"
    }
   },
   "outputs": [
    {
     "data": {
      "text/plain": [
       "'\"bar'"
      ]
     },
     "execution_count": 47,
     "metadata": {},
     "output_type": "execute_result"
    }
   ],
   "source": [
    "tree_to_string(plain_text_subtree)"
   ]
  },
  {
   "cell_type": "code",
   "execution_count": 48,
   "metadata": {
    "execution": {
     "iopub.execute_input": "2025-10-26T17:48:40.109636Z",
     "iopub.status.busy": "2025-10-26T17:48:40.109560Z",
     "iopub.status.idle": "2025-10-26T17:48:40.111449Z",
     "shell.execute_reply": "2025-10-26T17:48:40.111214Z"
    },
    "slideshow": {
     "slide_type": "subslide"
    },
    "tags": [
     "remove-input"
    ]
   },
   "outputs": [],
   "source": [
    "# ignore\n",
    "def primes_generator() -> Generator[int, None, None]:\n",
    "    # Adapted from https://www.python.org/ftp/python/doc/nluug-paper.ps\n",
    "    primes = [2]\n",
    "    yield 2\n",
    "    i = 3\n",
    "    while True:\n",
    "        for p in primes:\n",
    "            if i % p == 0 or p * p > i:\n",
    "                break\n",
    "\n",
    "        if i % p != 0:\n",
    "            primes.append(i)\n",
    "            yield i\n",
    "\n",
    "        i += 2"
   ]
  },
  {
   "cell_type": "code",
   "execution_count": 49,
   "metadata": {
    "execution": {
     "iopub.execute_input": "2025-10-26T17:48:40.112722Z",
     "iopub.status.busy": "2025-10-26T17:48:40.112645Z",
     "iopub.status.idle": "2025-10-26T17:48:40.114093Z",
     "shell.execute_reply": "2025-10-26T17:48:40.113869Z"
    },
    "slideshow": {
     "slide_type": "subslide"
    },
    "tags": [
     "remove-input"
    ]
   },
   "outputs": [],
   "source": [
    "# ignore\n",
    "prime_numbers = primes_generator()"
   ]
  },
  {
   "cell_type": "code",
   "execution_count": 50,
   "metadata": {
    "execution": {
     "iopub.execute_input": "2025-10-26T17:48:40.115224Z",
     "iopub.status.busy": "2025-10-26T17:48:40.115140Z",
     "iopub.status.idle": "2025-10-26T17:48:40.119554Z",
     "shell.execute_reply": "2025-10-26T17:48:40.119297Z"
    },
    "slideshow": {
     "slide_type": "fragment"
    },
    "tags": [
     "remove-input"
    ]
   },
   "outputs": [
    {
     "data": {
      "text/html": [
       "\n",
       "    \n",
       "    <script>\n",
       "    var bad_answers = new Map();\n",
       "\n",
       "    function answer(quiz_id) {\n",
       "        ans = 0;\n",
       "        for (i = 1;; i++) {\n",
       "            checkbox = document.getElementById(quiz_id + \"-\" + i.toString());\n",
       "            if (!checkbox)\n",
       "                break;\n",
       "            if (checkbox.checked)\n",
       "                ans |= (1 << i);\n",
       "        }\n",
       "        return ans;\n",
       "    }\n",
       "    function check_selection(quiz_id, correct_answer, multiple_choice, hint) {\n",
       "        given_answer = answer(quiz_id);\n",
       "        if (given_answer == correct_answer)\n",
       "        {\n",
       "            document.getElementById(quiz_id + \"-submit\").value = \"Correct!\";\n",
       "            document.getElementById(quiz_id + \"-hint\").innerHTML = \"\";\n",
       "\n",
       "            for (i = 1;; i++) {\n",
       "                checkbox = document.getElementById(quiz_id + \"-\" + i.toString());\n",
       "                label = document.getElementById(quiz_id + \"-\" + i.toString() + \"-label\")\n",
       "                if (!checkbox)\n",
       "                    break;\n",
       "\n",
       "                if (checkbox.checked) {\n",
       "                    label.style.fontWeight = \"bold\";\n",
       "                }\n",
       "                else {\n",
       "                    label.style.textDecoration = \"line-through\";\n",
       "                }\n",
       "            }\n",
       "        }\n",
       "        else \n",
       "        {\n",
       "            document.getElementById(quiz_id + \"-submit\").value = \"Try again\";\n",
       "\n",
       "            if (!bad_answers.has(quiz_id)) {\n",
       "                bad_answers.set(quiz_id, 1);\n",
       "            }\n",
       "            else {\n",
       "                bad_answers.set(quiz_id, bad_answers.get(quiz_id) + 1);\n",
       "            }\n",
       "\n",
       "            if (bad_answers.get(quiz_id) >= 2 && hint.length > 0) {\n",
       "                document.getElementById(quiz_id + \"-hint\").innerHTML = \n",
       "                    \"&nbsp;&nbsp;(Hint: <code>\" + hint + \"</code>)\";\n",
       "            }\n",
       "\n",
       "            if (!multiple_choice) {\n",
       "                for (i = 1;; i++) {\n",
       "                    checkbox = document.getElementById(quiz_id + \"-\" + i.toString());\n",
       "                    label = document.getElementById(quiz_id + \"-\" + i.toString() + \"-label\")\n",
       "\n",
       "                    if (!checkbox)\n",
       "                        break;\n",
       "                    if (checkbox.checked) {\n",
       "                        label.style.textDecoration = \"line-through\";\n",
       "                    }\n",
       "                }\n",
       "            }\n",
       "        }\n",
       "    }\n",
       "    function clear_selection(quiz_id) {\n",
       "        document.getElementById(quiz_id + \"-submit\").value = \"Submit\";\n",
       "        document.getElementById(quiz_id + \"-hint\").innerHTML = \"\";\n",
       "    }\n",
       "    </script>\n",
       "    \n",
       "    <div class=\"quiz\">\n",
       "    <h3 class=\"quiz_title\">Quiz</h3>\n",
       "    <p>\n",
       "    <div class=\"quiz_question\">In <code>bad_input_tree</code>, what is  the subtree at the path <code>[0, 0, 2, 1]</code> as string?</div>\n",
       "    </p>\n",
       "    <p>\n",
       "    <div class=\"quiz_options\" title=\"Pick a choice.\">\n",
       "    \n",
       "        <input type=\"radio\" name=\"01a7d552-b294-11f0-8772-6298cf1a5790\" id=\"01a7d552-b294-11f0-8772-6298cf1a5790-1\" onclick=\"clear_selection('01a7d552-b294-11f0-8772-6298cf1a5790')\">\n",
       "        <label id=\"01a7d552-b294-11f0-8772-6298cf1a5790-1-label\" for=\"01a7d552-b294-11f0-8772-6298cf1a5790-1\"><code>&lt;</code></label><br>\n",
       "    \n",
       "        <input type=\"radio\" name=\"01a7d552-b294-11f0-8772-6298cf1a5790\" id=\"01a7d552-b294-11f0-8772-6298cf1a5790-2\" onclick=\"clear_selection('01a7d552-b294-11f0-8772-6298cf1a5790')\">\n",
       "        <label id=\"01a7d552-b294-11f0-8772-6298cf1a5790-2-label\" for=\"01a7d552-b294-11f0-8772-6298cf1a5790-2\"><code>/</code></label><br>\n",
       "    \n",
       "        <input type=\"radio\" name=\"01a7d552-b294-11f0-8772-6298cf1a5790\" id=\"01a7d552-b294-11f0-8772-6298cf1a5790-3\" onclick=\"clear_selection('01a7d552-b294-11f0-8772-6298cf1a5790')\">\n",
       "        <label id=\"01a7d552-b294-11f0-8772-6298cf1a5790-3-label\" for=\"01a7d552-b294-11f0-8772-6298cf1a5790-3\"><code>&lt;/foo&gt;</code></label><br>\n",
       "    \n",
       "        <input type=\"radio\" name=\"01a7d552-b294-11f0-8772-6298cf1a5790\" id=\"01a7d552-b294-11f0-8772-6298cf1a5790-4\" onclick=\"clear_selection('01a7d552-b294-11f0-8772-6298cf1a5790')\">\n",
       "        <label id=\"01a7d552-b294-11f0-8772-6298cf1a5790-4-label\" for=\"01a7d552-b294-11f0-8772-6298cf1a5790-4\"><code>&lt;foo&gt;</code></label><br>\n",
       "    \n",
       "    </div>\n",
       "    </p>\n",
       "    <input id=\"01a7d552-b294-11f0-8772-6298cf1a5790-submit\" type=\"submit\" value=\"Submit\" onclick=\"check_selection('01a7d552-b294-11f0-8772-6298cf1a5790', 4, 0, 'next(prime_numbers)')\">\n",
       "    <span class=\"quiz_hint\" id=\"01a7d552-b294-11f0-8772-6298cf1a5790-hint\"></span>\n",
       "    </div>\n",
       "    "
      ],
      "text/plain": [
       "<IPython.core.display.HTML object>"
      ]
     },
     "execution_count": 50,
     "metadata": {},
     "output_type": "execute_result"
    }
   ],
   "source": [
    "quiz(\"In `bad_input_tree`, what is \"\n",
    "     \" the subtree at the path `[0, 0, 2, 1]` as string?\", \n",
    "    [\n",
    "        f\"`{tree_to_string(bad_input_tree_mutator().get_subtree([0, 0, 2, 0]))}`\",\n",
    "        f\"`{tree_to_string(bad_input_tree_mutator().get_subtree([0, 0, 2, 1]))}`\",\n",
    "        f\"`{tree_to_string(bad_input_tree_mutator().get_subtree([0, 0, 2]))}`\",\n",
    "        f\"`{tree_to_string(bad_input_tree_mutator().get_subtree([0, 0, 0]))}`\",\n",
    "    ], 'next(prime_numbers)', globals()\n",
    "    )"
   ]
  },
  {
   "cell_type": "markdown",
   "metadata": {
    "slideshow": {
     "slide_type": "subslide"
    }
   },
   "source": [
    "### Creating new Subtrees\n",
    "\n",
    "The method `new_tree()` creates a new subtree for the given `<start_symbol>` according to the rules of the grammar. It invokes `expand_tree()` on the given `GrammarFuzzer` – a method that takes an initial (empty) tree and expands it until no more expansions are left."
   ]
  },
  {
   "cell_type": "code",
   "execution_count": 51,
   "metadata": {
    "execution": {
     "iopub.execute_input": "2025-10-26T17:48:40.120828Z",
     "iopub.status.busy": "2025-10-26T17:48:40.120734Z",
     "iopub.status.idle": "2025-10-26T17:48:40.122701Z",
     "shell.execute_reply": "2025-10-26T17:48:40.122481Z"
    },
    "slideshow": {
     "slide_type": "subslide"
    }
   },
   "outputs": [],
   "source": [
    "class TreeMutator(TreeMutator):\n",
    "    def new_tree(self, start_symbol: str) -> DerivationTree:\n",
    "        \"\"\"Create a new subtree for <start_symbol>.\"\"\"\n",
    "\n",
    "        if self.log >= 2:\n",
    "            print(f\"Creating new tree for {start_symbol}\")\n",
    "\n",
    "        tree = (start_symbol, None)\n",
    "        return self.fuzzer.expand_tree(tree)"
   ]
  },
  {
   "cell_type": "markdown",
   "metadata": {
    "slideshow": {
     "slide_type": "fragment"
    }
   },
   "source": [
    "Here is an example of `new_tree()`:"
   ]
  },
  {
   "cell_type": "code",
   "execution_count": 52,
   "metadata": {
    "execution": {
     "iopub.execute_input": "2025-10-26T17:48:40.123761Z",
     "iopub.status.busy": "2025-10-26T17:48:40.123687Z",
     "iopub.status.idle": "2025-10-26T17:48:40.466909Z",
     "shell.execute_reply": "2025-10-26T17:48:40.466578Z"
    },
    "slideshow": {
     "slide_type": "fragment"
    }
   },
   "outputs": [
    {
     "name": "stdout",
     "output_type": "stream",
     "text": [
      "Creating new tree for <plain-text>\n"
     ]
    },
    {
     "data": {
      "image/svg+xml": [
       "<?xml version=\"1.0\" encoding=\"UTF-8\" standalone=\"no\"?>\n",
       "<!DOCTYPE svg PUBLIC \"-//W3C//DTD SVG 1.1//EN\"\n",
       " \"http://www.w3.org/Graphics/SVG/1.1/DTD/svg11.dtd\">\n",
       "<!-- Generated by graphviz version 14.0.2 (20251019.1705)\n",
       " -->\n",
       "<!-- Pages: 1 -->\n",
       "<svg width=\"107pt\" height=\"116pt\"\n",
       " viewBox=\"0.00 0.00 107.00 116.00\" xmlns=\"http://www.w3.org/2000/svg\" xmlns:xlink=\"http://www.w3.org/1999/xlink\">\n",
       "<g id=\"graph0\" class=\"graph\" transform=\"scale(1 1) rotate(0) translate(4 112)\">\n",
       "<polygon fill=\"white\" stroke=\"none\" points=\"-4,4 -4,-112 103,-112 103,4 -4,4\"/>\n",
       "<!-- 0 -->\n",
       "<g id=\"node1\" class=\"node\">\n",
       "<title>0</title>\n",
       "<polygon fill=\"none\" stroke=\"white\" points=\"99,-108 0,-108 0,-72 99,-72 99,-108\"/>\n",
       "<text xml:space=\"preserve\" text-anchor=\"middle\" x=\"49.5\" y=\"-85.33\" font-family=\"'Fira Mono', 'Source Code Pro', 'Courier', monospace\" font-size=\"14.00\" fill=\"#0060a0\">&lt;plain&#45;text&gt;</text>\n",
       "</g>\n",
       "<!-- 1 -->\n",
       "<g id=\"node2\" class=\"node\">\n",
       "<title>1</title>\n",
       "<polygon fill=\"none\" stroke=\"white\" points=\"76.5,-36 22.5,-36 22.5,0 76.5,0 76.5,-36\"/>\n",
       "</g>\n",
       "<!-- 0&#45;&gt;1 -->\n",
       "<g id=\"edge1\" class=\"edge\">\n",
       "<title>0&#45;&gt;1</title>\n",
       "<path fill=\"none\" stroke=\"black\" d=\"M49.5,-71.7C49.5,-64.41 49.5,-55.73 49.5,-47.54\"/>\n",
       "<polygon fill=\"black\" stroke=\"black\" points=\"53,-47.62 49.5,-37.62 46,-47.62 53,-47.62\"/>\n",
       "</g>\n",
       "</g>\n",
       "</svg>\n"
      ],
      "text/plain": [
       "<graphviz.graphs.Digraph at 0x1098fde50>"
      ]
     },
     "execution_count": 52,
     "metadata": {},
     "output_type": "execute_result"
    }
   ],
   "source": [
    "plain_text_tree = cast(TreeMutator, bad_input_tree_mutator()).new_tree('<plain-text>')\n",
    "display_tree(plain_text_tree)"
   ]
  },
  {
   "cell_type": "code",
   "execution_count": 53,
   "metadata": {
    "execution": {
     "iopub.execute_input": "2025-10-26T17:48:40.468400Z",
     "iopub.status.busy": "2025-10-26T17:48:40.468275Z",
     "iopub.status.idle": "2025-10-26T17:48:40.470488Z",
     "shell.execute_reply": "2025-10-26T17:48:40.470224Z"
    },
    "slideshow": {
     "slide_type": "subslide"
    }
   },
   "outputs": [
    {
     "data": {
      "text/plain": [
       "''"
      ]
     },
     "execution_count": 53,
     "metadata": {},
     "output_type": "execute_result"
    }
   ],
   "source": [
    "tree_to_string(plain_text_tree)"
   ]
  },
  {
   "cell_type": "markdown",
   "metadata": {
    "slideshow": {
     "slide_type": "subslide"
    }
   },
   "source": [
    "### Mutating the Tree\n",
    "\n",
    "With us now being able to \n",
    "* access a particular path in the tree (`get_subtree()`) and\n",
    "* create a new subtree (`new_tree()`),\n",
    "\n",
    "we can mutate the tree at a given path. This is the task of `mutate()`."
   ]
  },
  {
   "cell_type": "code",
   "execution_count": 54,
   "metadata": {
    "execution": {
     "iopub.execute_input": "2025-10-26T17:48:40.471809Z",
     "iopub.status.busy": "2025-10-26T17:48:40.471700Z",
     "iopub.status.idle": "2025-10-26T17:48:40.473940Z",
     "shell.execute_reply": "2025-10-26T17:48:40.473710Z"
    },
    "slideshow": {
     "slide_type": "subslide"
    }
   },
   "outputs": [],
   "source": [
    "class TreeMutator(TreeMutator):\n",
    "    def mutate(self, path: TreePath, tree: Optional[DerivationTree] = None) -> DerivationTree:\n",
    "        \"\"\"Return a new tree mutated at `path`\"\"\"\n",
    "        if tree is None:\n",
    "            tree = self.tree\n",
    "        assert tree is not None\n",
    "\n",
    "        symbol, children = tree\n",
    "\n",
    "        if not path or children is None:\n",
    "            return self.new_tree(symbol)\n",
    "\n",
    "        head = path[0]\n",
    "        new_children = (children[:head] +\n",
    "                        [self.mutate(path[1:], children[head])] +\n",
    "                        children[head + 1:])\n",
    "        return symbol, new_children"
   ]
  },
  {
   "cell_type": "markdown",
   "metadata": {
    "slideshow": {
     "slide_type": "subslide"
    }
   },
   "source": [
    "Here is an example of `mutate()` in action. We mutate `bad_input_tree` at the path `[0, 0, 1, 0]` – that is, `<plain-text>`:"
   ]
  },
  {
   "cell_type": "code",
   "execution_count": 55,
   "metadata": {
    "execution": {
     "iopub.execute_input": "2025-10-26T17:48:40.475150Z",
     "iopub.status.busy": "2025-10-26T17:48:40.475059Z",
     "iopub.status.idle": "2025-10-26T17:48:40.802055Z",
     "shell.execute_reply": "2025-10-26T17:48:40.801761Z"
    },
    "slideshow": {
     "slide_type": "fragment"
    }
   },
   "outputs": [
    {
     "name": "stdout",
     "output_type": "stream",
     "text": [
      "Creating new tree for <plain-text>\n"
     ]
    },
    {
     "data": {
      "image/svg+xml": [
       "<?xml version=\"1.0\" encoding=\"UTF-8\" standalone=\"no\"?>\n",
       "<!DOCTYPE svg PUBLIC \"-//W3C//DTD SVG 1.1//EN\"\n",
       " \"http://www.w3.org/Graphics/SVG/1.1/DTD/svg11.dtd\">\n",
       "<!-- Generated by graphviz version 14.0.2 (20251019.1705)\n",
       " -->\n",
       "<!-- Pages: 1 -->\n",
       "<svg width=\"838pt\" height=\"620pt\"\n",
       " viewBox=\"0.00 0.00 838.00 620.00\" xmlns=\"http://www.w3.org/2000/svg\" xmlns:xlink=\"http://www.w3.org/1999/xlink\">\n",
       "<g id=\"graph0\" class=\"graph\" transform=\"scale(1 1) rotate(0) translate(4 616)\">\n",
       "<polygon fill=\"white\" stroke=\"none\" points=\"-4,4 -4,-616 834,-616 834,4 -4,4\"/>\n",
       "<!-- 0 -->\n",
       "<g id=\"node1\" class=\"node\">\n",
       "<title>0</title>\n",
       "<polygon fill=\"none\" stroke=\"white\" points=\"410.88,-612 353.12,-612 353.12,-576 410.88,-576 410.88,-612\"/>\n",
       "<text xml:space=\"preserve\" text-anchor=\"middle\" x=\"382\" y=\"-589.33\" font-family=\"'Fira Mono', 'Source Code Pro', 'Courier', monospace\" font-size=\"14.00\" fill=\"#0060a0\">&lt;start&gt;</text>\n",
       "</g>\n",
       "<!-- 1 -->\n",
       "<g id=\"node2\" class=\"node\">\n",
       "<title>1</title>\n",
       "<polygon fill=\"none\" stroke=\"white\" points=\"409,-540 355,-540 355,-504 409,-504 409,-540\"/>\n",
       "<text xml:space=\"preserve\" text-anchor=\"middle\" x=\"382\" y=\"-517.33\" font-family=\"'Fira Mono', 'Source Code Pro', 'Courier', monospace\" font-size=\"14.00\" fill=\"#0060a0\">&lt;html&gt;</text>\n",
       "</g>\n",
       "<!-- 0&#45;&gt;1 -->\n",
       "<g id=\"edge1\" class=\"edge\">\n",
       "<title>0&#45;&gt;1</title>\n",
       "<path fill=\"none\" stroke=\"black\" d=\"M382,-575.7C382,-568.41 382,-559.73 382,-551.54\"/>\n",
       "<polygon fill=\"black\" stroke=\"black\" points=\"385.5,-551.62 382,-541.62 378.5,-551.62 385.5,-551.62\"/>\n",
       "</g>\n",
       "<!-- 2 -->\n",
       "<g id=\"node3\" class=\"node\">\n",
       "<title>2</title>\n",
       "<polygon fill=\"none\" stroke=\"white\" points=\"435.62,-468 328.38,-468 328.38,-432 435.62,-432 435.62,-468\"/>\n",
       "<text xml:space=\"preserve\" text-anchor=\"middle\" x=\"382\" y=\"-445.32\" font-family=\"'Fira Mono', 'Source Code Pro', 'Courier', monospace\" font-size=\"14.00\" fill=\"#0060a0\">&lt;tagged&#45;text&gt;</text>\n",
       "</g>\n",
       "<!-- 1&#45;&gt;2 -->\n",
       "<g id=\"edge2\" class=\"edge\">\n",
       "<title>1&#45;&gt;2</title>\n",
       "<path fill=\"none\" stroke=\"black\" d=\"M382,-503.7C382,-496.41 382,-487.73 382,-479.54\"/>\n",
       "<polygon fill=\"black\" stroke=\"black\" points=\"385.5,-479.62 382,-469.62 378.5,-479.62 385.5,-479.62\"/>\n",
       "</g>\n",
       "<!-- 3 -->\n",
       "<g id=\"node4\" class=\"node\">\n",
       "<title>3</title>\n",
       "<polygon fill=\"none\" stroke=\"white\" points=\"299.62,-396 192.38,-396 192.38,-360 299.62,-360 299.62,-396\"/>\n",
       "<text xml:space=\"preserve\" text-anchor=\"middle\" x=\"246\" y=\"-373.32\" font-family=\"'Fira Mono', 'Source Code Pro', 'Courier', monospace\" font-size=\"14.00\" fill=\"#0060a0\">&lt;opening&#45;tag&gt;</text>\n",
       "</g>\n",
       "<!-- 2&#45;&gt;3 -->\n",
       "<g id=\"edge3\" class=\"edge\">\n",
       "<title>2&#45;&gt;3</title>\n",
       "<path fill=\"none\" stroke=\"black\" d=\"M348.03,-431.52C330.37,-422.43 308.59,-411.22 289.69,-401.49\"/>\n",
       "<polygon fill=\"black\" stroke=\"black\" points=\"291.37,-398.42 280.88,-396.95 288.17,-404.64 291.37,-398.42\"/>\n",
       "</g>\n",
       "<!-- 17 -->\n",
       "<g id=\"node18\" class=\"node\">\n",
       "<title>17</title>\n",
       "<polygon fill=\"none\" stroke=\"white\" points=\"409,-396 355,-396 355,-360 409,-360 409,-396\"/>\n",
       "<text xml:space=\"preserve\" text-anchor=\"middle\" x=\"382\" y=\"-373.32\" font-family=\"'Fira Mono', 'Source Code Pro', 'Courier', monospace\" font-size=\"14.00\" fill=\"#0060a0\">&lt;html&gt;</text>\n",
       "</g>\n",
       "<!-- 2&#45;&gt;17 -->\n",
       "<g id=\"edge17\" class=\"edge\">\n",
       "<title>2&#45;&gt;17</title>\n",
       "<path fill=\"none\" stroke=\"black\" d=\"M382,-431.7C382,-424.41 382,-415.73 382,-407.54\"/>\n",
       "<polygon fill=\"black\" stroke=\"black\" points=\"385.5,-407.62 382,-397.62 378.5,-407.62 385.5,-407.62\"/>\n",
       "</g>\n",
       "<!-- 24 -->\n",
       "<g id=\"node25\" class=\"node\">\n",
       "<title>24</title>\n",
       "<polygon fill=\"none\" stroke=\"white\" points=\"700.62,-396 593.38,-396 593.38,-360 700.62,-360 700.62,-396\"/>\n",
       "<text xml:space=\"preserve\" text-anchor=\"middle\" x=\"647\" y=\"-373.32\" font-family=\"'Fira Mono', 'Source Code Pro', 'Courier', monospace\" font-size=\"14.00\" fill=\"#0060a0\">&lt;closing&#45;tag&gt;</text>\n",
       "</g>\n",
       "<!-- 2&#45;&gt;24 -->\n",
       "<g id=\"edge24\" class=\"edge\">\n",
       "<title>2&#45;&gt;24</title>\n",
       "<path fill=\"none\" stroke=\"black\" d=\"M435.95,-434.75C478.22,-423.58 537.18,-408.01 582.05,-396.16\"/>\n",
       "<polygon fill=\"black\" stroke=\"black\" points=\"582.89,-399.55 591.67,-393.62 581.1,-392.79 582.89,-399.55\"/>\n",
       "</g>\n",
       "<!-- 4 -->\n",
       "<g id=\"node5\" class=\"node\">\n",
       "<title>4</title>\n",
       "<polygon fill=\"none\" stroke=\"white\" points=\"106,-324 52,-324 52,-288 106,-288 106,-324\"/>\n",
       "<text xml:space=\"preserve\" text-anchor=\"middle\" x=\"79\" y=\"-301.32\" font-family=\"'Fira Mono', 'Source Code Pro', 'Courier', monospace\" font-size=\"14.00\" fill=\"#0060a0\">&lt;lt&gt;</text>\n",
       "</g>\n",
       "<!-- 3&#45;&gt;4 -->\n",
       "<g id=\"edge4\" class=\"edge\">\n",
       "<title>3&#45;&gt;4</title>\n",
       "<path fill=\"none\" stroke=\"black\" d=\"M204.29,-359.52C177.49,-348.28 142.96,-333.81 116.94,-322.9\"/>\n",
       "<polygon fill=\"black\" stroke=\"black\" points=\"118.32,-319.69 107.75,-319.05 115.62,-326.14 118.32,-319.69\"/>\n",
       "</g>\n",
       "<!-- 6 -->\n",
       "<g id=\"node7\" class=\"node\">\n",
       "<title>6</title>\n",
       "<polygon fill=\"none\" stroke=\"white\" points=\"217,-324 163,-324 163,-288 217,-288 217,-324\"/>\n",
       "<text xml:space=\"preserve\" text-anchor=\"middle\" x=\"190\" y=\"-301.32\" font-family=\"'Fira Mono', 'Source Code Pro', 'Courier', monospace\" font-size=\"14.00\" fill=\"#0060a0\">&lt;id&gt;</text>\n",
       "</g>\n",
       "<!-- 3&#45;&gt;6 -->\n",
       "<g id=\"edge6\" class=\"edge\">\n",
       "<title>3&#45;&gt;6</title>\n",
       "<path fill=\"none\" stroke=\"black\" d=\"M232.16,-359.7C225.71,-351.64 217.92,-341.89 210.79,-332.98\"/>\n",
       "<polygon fill=\"black\" stroke=\"black\" points=\"213.61,-330.91 204.63,-325.29 208.14,-335.28 213.61,-330.91\"/>\n",
       "</g>\n",
       "<!-- 15 -->\n",
       "<g id=\"node16\" class=\"node\">\n",
       "<title>15</title>\n",
       "<polygon fill=\"none\" stroke=\"white\" points=\"292,-324 238,-324 238,-288 292,-288 292,-324\"/>\n",
       "<text xml:space=\"preserve\" text-anchor=\"middle\" x=\"265\" y=\"-301.32\" font-family=\"'Fira Mono', 'Source Code Pro', 'Courier', monospace\" font-size=\"14.00\" fill=\"#0060a0\">&lt;gt&gt;</text>\n",
       "</g>\n",
       "<!-- 3&#45;&gt;15 -->\n",
       "<g id=\"edge15\" class=\"edge\">\n",
       "<title>3&#45;&gt;15</title>\n",
       "<path fill=\"none\" stroke=\"black\" d=\"M250.7,-359.7C252.72,-352.24 255.14,-343.32 257.41,-334.97\"/>\n",
       "<polygon fill=\"black\" stroke=\"black\" points=\"260.72,-336.13 259.96,-325.57 253.96,-334.3 260.72,-336.13\"/>\n",
       "</g>\n",
       "<!-- 5 -->\n",
       "<g id=\"node6\" class=\"node\">\n",
       "<title>5</title>\n",
       "<polygon fill=\"none\" stroke=\"white\" points=\"67,-252 13,-252 13,-216 67,-216 67,-252\"/>\n",
       "<text xml:space=\"preserve\" text-anchor=\"middle\" x=\"40\" y=\"-229.32\" font-family=\"'Fira Mono', 'Source Code Pro', 'Courier', monospace\" font-size=\"14.00\" fill=\"#0060a0\">&lt; (60)</text>\n",
       "</g>\n",
       "<!-- 4&#45;&gt;5 -->\n",
       "<g id=\"edge5\" class=\"edge\">\n",
       "<title>4&#45;&gt;5</title>\n",
       "<path fill=\"none\" stroke=\"black\" d=\"M69.36,-287.7C65.06,-279.98 59.9,-270.71 55.11,-262.11\"/>\n",
       "<polygon fill=\"black\" stroke=\"black\" points=\"58.19,-260.46 50.27,-253.43 52.08,-263.87 58.19,-260.46\"/>\n",
       "</g>\n",
       "<!-- 7 -->\n",
       "<g id=\"node8\" class=\"node\">\n",
       "<title>7</title>\n",
       "<polygon fill=\"none\" stroke=\"white\" points=\"139,-252 85,-252 85,-216 139,-216 139,-252\"/>\n",
       "<text xml:space=\"preserve\" text-anchor=\"middle\" x=\"112\" y=\"-229.32\" font-family=\"'Fira Mono', 'Source Code Pro', 'Courier', monospace\" font-size=\"14.00\" fill=\"#0060a0\">&lt;id&gt;</text>\n",
       "</g>\n",
       "<!-- 6&#45;&gt;7 -->\n",
       "<g id=\"edge7\" class=\"edge\">\n",
       "<title>6&#45;&gt;7</title>\n",
       "<path fill=\"none\" stroke=\"black\" d=\"M170.72,-287.7C161.34,-279.28 149.91,-269.02 139.62,-259.79\"/>\n",
       "<polygon fill=\"black\" stroke=\"black\" points=\"142.24,-257.43 132.46,-253.36 137.56,-262.64 142.24,-257.43\"/>\n",
       "</g>\n",
       "<!-- 13 -->\n",
       "<g id=\"node14\" class=\"node\">\n",
       "<title>13</title>\n",
       "<polygon fill=\"none\" stroke=\"white\" points=\"223,-252 157,-252 157,-216 223,-216 223,-252\"/>\n",
       "<text xml:space=\"preserve\" text-anchor=\"middle\" x=\"190\" y=\"-229.32\" font-family=\"'Fira Mono', 'Source Code Pro', 'Courier', monospace\" font-size=\"14.00\" fill=\"#0060a0\">&lt;letter&gt;</text>\n",
       "</g>\n",
       "<!-- 6&#45;&gt;13 -->\n",
       "<g id=\"edge13\" class=\"edge\">\n",
       "<title>6&#45;&gt;13</title>\n",
       "<path fill=\"none\" stroke=\"black\" d=\"M190,-287.7C190,-280.41 190,-271.73 190,-263.54\"/>\n",
       "<polygon fill=\"black\" stroke=\"black\" points=\"193.5,-263.62 190,-253.62 186.5,-263.62 193.5,-263.62\"/>\n",
       "</g>\n",
       "<!-- 8 -->\n",
       "<g id=\"node9\" class=\"node\">\n",
       "<title>8</title>\n",
       "<polygon fill=\"none\" stroke=\"white\" points=\"61,-180 7,-180 7,-144 61,-144 61,-180\"/>\n",
       "<text xml:space=\"preserve\" text-anchor=\"middle\" x=\"34\" y=\"-157.32\" font-family=\"'Fira Mono', 'Source Code Pro', 'Courier', monospace\" font-size=\"14.00\" fill=\"#0060a0\">&lt;id&gt;</text>\n",
       "</g>\n",
       "<!-- 7&#45;&gt;8 -->\n",
       "<g id=\"edge8\" class=\"edge\">\n",
       "<title>7&#45;&gt;8</title>\n",
       "<path fill=\"none\" stroke=\"black\" d=\"M92.72,-215.7C83.34,-207.28 71.91,-197.02 61.62,-187.79\"/>\n",
       "<polygon fill=\"black\" stroke=\"black\" points=\"64.24,-185.43 54.46,-181.36 59.56,-190.64 64.24,-185.43\"/>\n",
       "</g>\n",
       "<!-- 11 -->\n",
       "<g id=\"node12\" class=\"node\">\n",
       "<title>11</title>\n",
       "<polygon fill=\"none\" stroke=\"white\" points=\"145,-180 79,-180 79,-144 145,-144 145,-180\"/>\n",
       "<text xml:space=\"preserve\" text-anchor=\"middle\" x=\"112\" y=\"-157.32\" font-family=\"'Fira Mono', 'Source Code Pro', 'Courier', monospace\" font-size=\"14.00\" fill=\"#0060a0\">&lt;letter&gt;</text>\n",
       "</g>\n",
       "<!-- 7&#45;&gt;11 -->\n",
       "<g id=\"edge11\" class=\"edge\">\n",
       "<title>7&#45;&gt;11</title>\n",
       "<path fill=\"none\" stroke=\"black\" d=\"M112,-215.7C112,-208.41 112,-199.73 112,-191.54\"/>\n",
       "<polygon fill=\"black\" stroke=\"black\" points=\"115.5,-191.62 112,-181.62 108.5,-191.62 115.5,-191.62\"/>\n",
       "</g>\n",
       "<!-- 9 -->\n",
       "<g id=\"node10\" class=\"node\">\n",
       "<title>9</title>\n",
       "<polygon fill=\"none\" stroke=\"white\" points=\"66,-108 0,-108 0,-72 66,-72 66,-108\"/>\n",
       "<text xml:space=\"preserve\" text-anchor=\"middle\" x=\"33\" y=\"-85.33\" font-family=\"'Fira Mono', 'Source Code Pro', 'Courier', monospace\" font-size=\"14.00\" fill=\"#0060a0\">&lt;letter&gt;</text>\n",
       "</g>\n",
       "<!-- 8&#45;&gt;9 -->\n",
       "<g id=\"edge9\" class=\"edge\">\n",
       "<title>8&#45;&gt;9</title>\n",
       "<path fill=\"none\" stroke=\"black\" d=\"M33.75,-143.7C33.65,-136.41 33.52,-127.73 33.41,-119.54\"/>\n",
       "<polygon fill=\"black\" stroke=\"black\" points=\"36.91,-119.57 33.27,-109.62 29.91,-119.67 36.91,-119.57\"/>\n",
       "</g>\n",
       "<!-- 10 -->\n",
       "<g id=\"node11\" class=\"node\">\n",
       "<title>10</title>\n",
       "<polygon fill=\"none\" stroke=\"white\" points=\"61.88,-36 4.12,-36 4.12,0 61.88,0 61.88,-36\"/>\n",
       "<text xml:space=\"preserve\" text-anchor=\"middle\" x=\"33\" y=\"-13.32\" font-family=\"'Fira Mono', 'Source Code Pro', 'Courier', monospace\" font-size=\"14.00\" fill=\"#00a060\">f (102)</text>\n",
       "</g>\n",
       "<!-- 9&#45;&gt;10 -->\n",
       "<g id=\"edge10\" class=\"edge\">\n",
       "<title>9&#45;&gt;10</title>\n",
       "<path fill=\"none\" stroke=\"black\" d=\"M33,-71.7C33,-64.41 33,-55.73 33,-47.54\"/>\n",
       "<polygon fill=\"black\" stroke=\"black\" points=\"36.5,-47.62 33,-37.62 29.5,-47.62 36.5,-47.62\"/>\n",
       "</g>\n",
       "<!-- 12 -->\n",
       "<g id=\"node13\" class=\"node\">\n",
       "<title>12</title>\n",
       "<polygon fill=\"none\" stroke=\"white\" points=\"141.88,-108 84.12,-108 84.12,-72 141.88,-72 141.88,-108\"/>\n",
       "<text xml:space=\"preserve\" text-anchor=\"middle\" x=\"113\" y=\"-85.33\" font-family=\"'Fira Mono', 'Source Code Pro', 'Courier', monospace\" font-size=\"14.00\" fill=\"#00a060\">o (111)</text>\n",
       "</g>\n",
       "<!-- 11&#45;&gt;12 -->\n",
       "<g id=\"edge12\" class=\"edge\">\n",
       "<title>11&#45;&gt;12</title>\n",
       "<path fill=\"none\" stroke=\"black\" d=\"M112.25,-143.7C112.35,-136.41 112.48,-127.73 112.59,-119.54\"/>\n",
       "<polygon fill=\"black\" stroke=\"black\" points=\"116.09,-119.67 112.73,-109.62 109.09,-119.57 116.09,-119.67\"/>\n",
       "</g>\n",
       "<!-- 14 -->\n",
       "<g id=\"node15\" class=\"node\">\n",
       "<title>14</title>\n",
       "<polygon fill=\"none\" stroke=\"white\" points=\"220.88,-180 163.12,-180 163.12,-144 220.88,-144 220.88,-180\"/>\n",
       "<text xml:space=\"preserve\" text-anchor=\"middle\" x=\"192\" y=\"-157.32\" font-family=\"'Fira Mono', 'Source Code Pro', 'Courier', monospace\" font-size=\"14.00\" fill=\"#00a060\">o (111)</text>\n",
       "</g>\n",
       "<!-- 13&#45;&gt;14 -->\n",
       "<g id=\"edge14\" class=\"edge\">\n",
       "<title>13&#45;&gt;14</title>\n",
       "<path fill=\"none\" stroke=\"black\" d=\"M190.49,-215.7C190.7,-208.41 190.95,-199.73 191.18,-191.54\"/>\n",
       "<polygon fill=\"black\" stroke=\"black\" points=\"194.68,-191.71 191.47,-181.62 187.68,-191.51 194.68,-191.71\"/>\n",
       "</g>\n",
       "<!-- 16 -->\n",
       "<g id=\"node17\" class=\"node\">\n",
       "<title>16</title>\n",
       "<polygon fill=\"none\" stroke=\"white\" points=\"295,-252 241,-252 241,-216 295,-216 295,-252\"/>\n",
       "<text xml:space=\"preserve\" text-anchor=\"middle\" x=\"268\" y=\"-229.32\" font-family=\"'Fira Mono', 'Source Code Pro', 'Courier', monospace\" font-size=\"14.00\" fill=\"#00a060\">&gt; (62)</text>\n",
       "</g>\n",
       "<!-- 15&#45;&gt;16 -->\n",
       "<g id=\"edge16\" class=\"edge\">\n",
       "<title>15&#45;&gt;16</title>\n",
       "<path fill=\"none\" stroke=\"black\" d=\"M265.74,-287.7C266.05,-280.41 266.43,-271.73 266.78,-263.54\"/>\n",
       "<polygon fill=\"black\" stroke=\"black\" points=\"270.27,-263.76 267.2,-253.62 263.28,-263.46 270.27,-263.76\"/>\n",
       "</g>\n",
       "<!-- 18 -->\n",
       "<g id=\"node19\" class=\"node\">\n",
       "<title>18</title>\n",
       "<polygon fill=\"none\" stroke=\"white\" points=\"431.5,-324 332.5,-324 332.5,-288 431.5,-288 431.5,-324\"/>\n",
       "<text xml:space=\"preserve\" text-anchor=\"middle\" x=\"382\" y=\"-301.32\" font-family=\"'Fira Mono', 'Source Code Pro', 'Courier', monospace\" font-size=\"14.00\" fill=\"#0060a0\">&lt;plain&#45;text&gt;</text>\n",
       "</g>\n",
       "<!-- 17&#45;&gt;18 -->\n",
       "<g id=\"edge18\" class=\"edge\">\n",
       "<title>17&#45;&gt;18</title>\n",
       "<path fill=\"none\" stroke=\"black\" d=\"M382,-359.7C382,-352.41 382,-343.73 382,-335.54\"/>\n",
       "<polygon fill=\"black\" stroke=\"black\" points=\"385.5,-335.62 382,-325.62 378.5,-335.62 385.5,-335.62\"/>\n",
       "</g>\n",
       "<!-- 19 -->\n",
       "<g id=\"node20\" class=\"node\">\n",
       "<title>19</title>\n",
       "<polygon fill=\"none\" stroke=\"white\" points=\"412.5,-252 313.5,-252 313.5,-216 412.5,-216 412.5,-252\"/>\n",
       "<text xml:space=\"preserve\" text-anchor=\"middle\" x=\"363\" y=\"-229.32\" font-family=\"'Fira Mono', 'Source Code Pro', 'Courier', monospace\" font-size=\"14.00\" fill=\"#0060a0\">&lt;plain&#45;char&gt;</text>\n",
       "</g>\n",
       "<!-- 18&#45;&gt;19 -->\n",
       "<g id=\"edge19\" class=\"edge\">\n",
       "<title>18&#45;&gt;19</title>\n",
       "<path fill=\"none\" stroke=\"black\" d=\"M377.3,-287.7C375.28,-280.24 372.86,-271.32 370.59,-262.97\"/>\n",
       "<polygon fill=\"black\" stroke=\"black\" points=\"374.04,-262.3 368.04,-253.57 367.28,-264.13 374.04,-262.3\"/>\n",
       "</g>\n",
       "<!-- 22 -->\n",
       "<g id=\"node23\" class=\"node\">\n",
       "<title>22</title>\n",
       "<polygon fill=\"none\" stroke=\"white\" points=\"529.5,-252 430.5,-252 430.5,-216 529.5,-216 529.5,-252\"/>\n",
       "<text xml:space=\"preserve\" text-anchor=\"middle\" x=\"480\" y=\"-229.32\" font-family=\"'Fira Mono', 'Source Code Pro', 'Courier', monospace\" font-size=\"14.00\" fill=\"#0060a0\">&lt;plain&#45;text&gt;</text>\n",
       "</g>\n",
       "<!-- 18&#45;&gt;22 -->\n",
       "<g id=\"edge22\" class=\"edge\">\n",
       "<title>18&#45;&gt;22</title>\n",
       "<path fill=\"none\" stroke=\"black\" d=\"M406.48,-287.52C418.61,-278.85 433.45,-268.25 446.61,-258.85\"/>\n",
       "<polygon fill=\"black\" stroke=\"black\" points=\"448.5,-261.8 454.6,-253.14 444.43,-256.1 448.5,-261.8\"/>\n",
       "</g>\n",
       "<!-- 20 -->\n",
       "<g id=\"node21\" class=\"node\">\n",
       "<title>20</title>\n",
       "<polygon fill=\"none\" stroke=\"white\" points=\"412.5,-180 313.5,-180 313.5,-144 412.5,-144 412.5,-180\"/>\n",
       "<text xml:space=\"preserve\" text-anchor=\"middle\" x=\"363\" y=\"-157.32\" font-family=\"'Fira Mono', 'Source Code Pro', 'Courier', monospace\" font-size=\"14.00\" fill=\"#0060a0\">&lt;whitespace&gt;</text>\n",
       "</g>\n",
       "<!-- 19&#45;&gt;20 -->\n",
       "<g id=\"edge20\" class=\"edge\">\n",
       "<title>19&#45;&gt;20</title>\n",
       "<path fill=\"none\" stroke=\"black\" d=\"M363,-215.7C363,-208.41 363,-199.73 363,-191.54\"/>\n",
       "<polygon fill=\"black\" stroke=\"black\" points=\"366.5,-191.62 363,-181.62 359.5,-191.62 366.5,-191.62\"/>\n",
       "</g>\n",
       "<!-- 21 -->\n",
       "<g id=\"node22\" class=\"node\">\n",
       "<title>21</title>\n",
       "<polygon fill=\"none\" stroke=\"white\" points=\"390,-108 336,-108 336,-72 390,-72 390,-108\"/>\n",
       "<text xml:space=\"preserve\" text-anchor=\"middle\" x=\"363\" y=\"-85.33\" font-family=\"'Fira Mono', 'Source Code Pro', 'Courier', monospace\" font-size=\"14.00\" fill=\"#00a060\"> &#160;(32)</text>\n",
       "</g>\n",
       "<!-- 20&#45;&gt;21 -->\n",
       "<g id=\"edge21\" class=\"edge\">\n",
       "<title>20&#45;&gt;21</title>\n",
       "<path fill=\"none\" stroke=\"black\" d=\"M363,-143.7C363,-136.41 363,-127.73 363,-119.54\"/>\n",
       "<polygon fill=\"black\" stroke=\"black\" points=\"366.5,-119.62 363,-109.62 359.5,-119.62 366.5,-119.62\"/>\n",
       "</g>\n",
       "<!-- 23 -->\n",
       "<g id=\"node24\" class=\"node\">\n",
       "<title>23</title>\n",
       "<polygon fill=\"none\" stroke=\"white\" points=\"507,-180 453,-180 453,-144 507,-144 507,-180\"/>\n",
       "</g>\n",
       "<!-- 22&#45;&gt;23 -->\n",
       "<g id=\"edge23\" class=\"edge\">\n",
       "<title>22&#45;&gt;23</title>\n",
       "<path fill=\"none\" stroke=\"black\" d=\"M480,-215.7C480,-208.41 480,-199.73 480,-191.54\"/>\n",
       "<polygon fill=\"black\" stroke=\"black\" points=\"483.5,-191.62 480,-181.62 476.5,-191.62 483.5,-191.62\"/>\n",
       "</g>\n",
       "<!-- 25 -->\n",
       "<g id=\"node26\" class=\"node\">\n",
       "<title>25</title>\n",
       "<polygon fill=\"none\" stroke=\"white\" points=\"602,-324 548,-324 548,-288 602,-288 602,-324\"/>\n",
       "<text xml:space=\"preserve\" text-anchor=\"middle\" x=\"575\" y=\"-301.32\" font-family=\"'Fira Mono', 'Source Code Pro', 'Courier', monospace\" font-size=\"14.00\" fill=\"#0060a0\">&lt;lt&gt;</text>\n",
       "</g>\n",
       "<!-- 24&#45;&gt;25 -->\n",
       "<g id=\"edge25\" class=\"edge\">\n",
       "<title>24&#45;&gt;25</title>\n",
       "<path fill=\"none\" stroke=\"black\" d=\"M629.2,-359.7C620.72,-351.45 610.41,-341.43 601.07,-332.35\"/>\n",
       "<polygon fill=\"black\" stroke=\"black\" points=\"603.54,-329.86 593.93,-325.4 598.66,-334.88 603.54,-329.86\"/>\n",
       "</g>\n",
       "<!-- 27 -->\n",
       "<g id=\"node28\" class=\"node\">\n",
       "<title>27</title>\n",
       "<polygon fill=\"none\" stroke=\"white\" points=\"674,-324 620,-324 620,-288 674,-288 674,-324\"/>\n",
       "<text xml:space=\"preserve\" text-anchor=\"middle\" x=\"647\" y=\"-301.32\" font-family=\"'Fira Mono', 'Source Code Pro', 'Courier', monospace\" font-size=\"14.00\" fill=\"#00a060\">/ (47)</text>\n",
       "</g>\n",
       "<!-- 24&#45;&gt;27 -->\n",
       "<g id=\"edge27\" class=\"edge\">\n",
       "<title>24&#45;&gt;27</title>\n",
       "<path fill=\"none\" stroke=\"black\" d=\"M647,-359.7C647,-352.41 647,-343.73 647,-335.54\"/>\n",
       "<polygon fill=\"black\" stroke=\"black\" points=\"650.5,-335.62 647,-325.62 643.5,-335.62 650.5,-335.62\"/>\n",
       "</g>\n",
       "<!-- 28 -->\n",
       "<g id=\"node29\" class=\"node\">\n",
       "<title>28</title>\n",
       "<polygon fill=\"none\" stroke=\"white\" points=\"746,-324 692,-324 692,-288 746,-288 746,-324\"/>\n",
       "<text xml:space=\"preserve\" text-anchor=\"middle\" x=\"719\" y=\"-301.32\" font-family=\"'Fira Mono', 'Source Code Pro', 'Courier', monospace\" font-size=\"14.00\" fill=\"#0060a0\">&lt;id&gt;</text>\n",
       "</g>\n",
       "<!-- 24&#45;&gt;28 -->\n",
       "<g id=\"edge28\" class=\"edge\">\n",
       "<title>24&#45;&gt;28</title>\n",
       "<path fill=\"none\" stroke=\"black\" d=\"M664.8,-359.7C673.28,-351.45 683.59,-341.43 692.93,-332.35\"/>\n",
       "<polygon fill=\"black\" stroke=\"black\" points=\"695.34,-334.88 700.07,-325.4 690.46,-329.86 695.34,-334.88\"/>\n",
       "</g>\n",
       "<!-- 37 -->\n",
       "<g id=\"node38\" class=\"node\">\n",
       "<title>37</title>\n",
       "<polygon fill=\"none\" stroke=\"white\" points=\"824,-324 770,-324 770,-288 824,-288 824,-324\"/>\n",
       "<text xml:space=\"preserve\" text-anchor=\"middle\" x=\"797\" y=\"-301.32\" font-family=\"'Fira Mono', 'Source Code Pro', 'Courier', monospace\" font-size=\"14.00\" fill=\"#0060a0\">&lt;gt&gt;</text>\n",
       "</g>\n",
       "<!-- 24&#45;&gt;37 -->\n",
       "<g id=\"edge37\" class=\"edge\">\n",
       "<title>24&#45;&gt;37</title>\n",
       "<path fill=\"none\" stroke=\"black\" d=\"M684.46,-359.52C707.39,-348.82 736.61,-335.18 759.54,-324.48\"/>\n",
       "<polygon fill=\"black\" stroke=\"black\" points=\"760.95,-327.69 768.53,-320.29 757.99,-321.34 760.95,-327.69\"/>\n",
       "</g>\n",
       "<!-- 26 -->\n",
       "<g id=\"node27\" class=\"node\">\n",
       "<title>26</title>\n",
       "<polygon fill=\"none\" stroke=\"white\" points=\"602,-252 548,-252 548,-216 602,-216 602,-252\"/>\n",
       "<text xml:space=\"preserve\" text-anchor=\"middle\" x=\"575\" y=\"-229.32\" font-family=\"'Fira Mono', 'Source Code Pro', 'Courier', monospace\" font-size=\"14.00\" fill=\"#0060a0\">&lt; (60)</text>\n",
       "</g>\n",
       "<!-- 25&#45;&gt;26 -->\n",
       "<g id=\"edge26\" class=\"edge\">\n",
       "<title>25&#45;&gt;26</title>\n",
       "<path fill=\"none\" stroke=\"black\" d=\"M575,-287.7C575,-280.41 575,-271.73 575,-263.54\"/>\n",
       "<polygon fill=\"black\" stroke=\"black\" points=\"578.5,-263.62 575,-253.62 571.5,-263.62 578.5,-263.62\"/>\n",
       "</g>\n",
       "<!-- 29 -->\n",
       "<g id=\"node30\" class=\"node\">\n",
       "<title>29</title>\n",
       "<polygon fill=\"none\" stroke=\"white\" points=\"674,-252 620,-252 620,-216 674,-216 674,-252\"/>\n",
       "<text xml:space=\"preserve\" text-anchor=\"middle\" x=\"647\" y=\"-229.32\" font-family=\"'Fira Mono', 'Source Code Pro', 'Courier', monospace\" font-size=\"14.00\" fill=\"#0060a0\">&lt;id&gt;</text>\n",
       "</g>\n",
       "<!-- 28&#45;&gt;29 -->\n",
       "<g id=\"edge29\" class=\"edge\">\n",
       "<title>28&#45;&gt;29</title>\n",
       "<path fill=\"none\" stroke=\"black\" d=\"M701.2,-287.7C692.72,-279.45 682.41,-269.43 673.07,-260.35\"/>\n",
       "<polygon fill=\"black\" stroke=\"black\" points=\"675.54,-257.86 665.93,-253.4 670.66,-262.88 675.54,-257.86\"/>\n",
       "</g>\n",
       "<!-- 35 -->\n",
       "<g id=\"node36\" class=\"node\">\n",
       "<title>35</title>\n",
       "<polygon fill=\"none\" stroke=\"white\" points=\"758,-252 692,-252 692,-216 758,-216 758,-252\"/>\n",
       "<text xml:space=\"preserve\" text-anchor=\"middle\" x=\"725\" y=\"-229.32\" font-family=\"'Fira Mono', 'Source Code Pro', 'Courier', monospace\" font-size=\"14.00\" fill=\"#0060a0\">&lt;letter&gt;</text>\n",
       "</g>\n",
       "<!-- 28&#45;&gt;35 -->\n",
       "<g id=\"edge35\" class=\"edge\">\n",
       "<title>28&#45;&gt;35</title>\n",
       "<path fill=\"none\" stroke=\"black\" d=\"M720.48,-287.7C721.11,-280.41 721.85,-271.73 722.55,-263.54\"/>\n",
       "<polygon fill=\"black\" stroke=\"black\" points=\"726.04,-263.87 723.4,-253.61 719.06,-263.28 726.04,-263.87\"/>\n",
       "</g>\n",
       "<!-- 30 -->\n",
       "<g id=\"node31\" class=\"node\">\n",
       "<title>30</title>\n",
       "<polygon fill=\"none\" stroke=\"white\" points=\"595,-180 541,-180 541,-144 595,-144 595,-180\"/>\n",
       "<text xml:space=\"preserve\" text-anchor=\"middle\" x=\"568\" y=\"-157.32\" font-family=\"'Fira Mono', 'Source Code Pro', 'Courier', monospace\" font-size=\"14.00\" fill=\"#0060a0\">&lt;id&gt;</text>\n",
       "</g>\n",
       "<!-- 29&#45;&gt;30 -->\n",
       "<g id=\"edge30\" class=\"edge\">\n",
       "<title>29&#45;&gt;30</title>\n",
       "<path fill=\"none\" stroke=\"black\" d=\"M627.47,-215.7C617.98,-207.28 606.39,-197.02 595.98,-187.79\"/>\n",
       "<polygon fill=\"black\" stroke=\"black\" points=\"598.52,-185.36 588.71,-181.35 593.87,-190.6 598.52,-185.36\"/>\n",
       "</g>\n",
       "<!-- 33 -->\n",
       "<g id=\"node34\" class=\"node\">\n",
       "<title>33</title>\n",
       "<polygon fill=\"none\" stroke=\"white\" points=\"680,-180 614,-180 614,-144 680,-144 680,-180\"/>\n",
       "<text xml:space=\"preserve\" text-anchor=\"middle\" x=\"647\" y=\"-157.32\" font-family=\"'Fira Mono', 'Source Code Pro', 'Courier', monospace\" font-size=\"14.00\" fill=\"#0060a0\">&lt;letter&gt;</text>\n",
       "</g>\n",
       "<!-- 29&#45;&gt;33 -->\n",
       "<g id=\"edge33\" class=\"edge\">\n",
       "<title>29&#45;&gt;33</title>\n",
       "<path fill=\"none\" stroke=\"black\" d=\"M647,-215.7C647,-208.41 647,-199.73 647,-191.54\"/>\n",
       "<polygon fill=\"black\" stroke=\"black\" points=\"650.5,-191.62 647,-181.62 643.5,-191.62 650.5,-191.62\"/>\n",
       "</g>\n",
       "<!-- 31 -->\n",
       "<g id=\"node32\" class=\"node\">\n",
       "<title>31</title>\n",
       "<polygon fill=\"none\" stroke=\"white\" points=\"600,-108 534,-108 534,-72 600,-72 600,-108\"/>\n",
       "<text xml:space=\"preserve\" text-anchor=\"middle\" x=\"567\" y=\"-85.33\" font-family=\"'Fira Mono', 'Source Code Pro', 'Courier', monospace\" font-size=\"14.00\" fill=\"#0060a0\">&lt;letter&gt;</text>\n",
       "</g>\n",
       "<!-- 30&#45;&gt;31 -->\n",
       "<g id=\"edge31\" class=\"edge\">\n",
       "<title>30&#45;&gt;31</title>\n",
       "<path fill=\"none\" stroke=\"black\" d=\"M567.75,-143.7C567.65,-136.41 567.52,-127.73 567.41,-119.54\"/>\n",
       "<polygon fill=\"black\" stroke=\"black\" points=\"570.91,-119.57 567.27,-109.62 563.91,-119.67 570.91,-119.57\"/>\n",
       "</g>\n",
       "<!-- 32 -->\n",
       "<g id=\"node33\" class=\"node\">\n",
       "<title>32</title>\n",
       "<polygon fill=\"none\" stroke=\"white\" points=\"595.88,-36 538.12,-36 538.12,0 595.88,0 595.88,-36\"/>\n",
       "<text xml:space=\"preserve\" text-anchor=\"middle\" x=\"567\" y=\"-13.32\" font-family=\"'Fira Mono', 'Source Code Pro', 'Courier', monospace\" font-size=\"14.00\" fill=\"#00a060\">f (102)</text>\n",
       "</g>\n",
       "<!-- 31&#45;&gt;32 -->\n",
       "<g id=\"edge32\" class=\"edge\">\n",
       "<title>31&#45;&gt;32</title>\n",
       "<path fill=\"none\" stroke=\"black\" d=\"M567,-71.7C567,-64.41 567,-55.73 567,-47.54\"/>\n",
       "<polygon fill=\"black\" stroke=\"black\" points=\"570.5,-47.62 567,-37.62 563.5,-47.62 570.5,-47.62\"/>\n",
       "</g>\n",
       "<!-- 34 -->\n",
       "<g id=\"node35\" class=\"node\">\n",
       "<title>34</title>\n",
       "<polygon fill=\"none\" stroke=\"white\" points=\"675.88,-108 618.12,-108 618.12,-72 675.88,-72 675.88,-108\"/>\n",
       "<text xml:space=\"preserve\" text-anchor=\"middle\" x=\"647\" y=\"-85.33\" font-family=\"'Fira Mono', 'Source Code Pro', 'Courier', monospace\" font-size=\"14.00\" fill=\"#00a060\">o (111)</text>\n",
       "</g>\n",
       "<!-- 33&#45;&gt;34 -->\n",
       "<g id=\"edge34\" class=\"edge\">\n",
       "<title>33&#45;&gt;34</title>\n",
       "<path fill=\"none\" stroke=\"black\" d=\"M647,-143.7C647,-136.41 647,-127.73 647,-119.54\"/>\n",
       "<polygon fill=\"black\" stroke=\"black\" points=\"650.5,-119.62 647,-109.62 643.5,-119.62 650.5,-119.62\"/>\n",
       "</g>\n",
       "<!-- 36 -->\n",
       "<g id=\"node37\" class=\"node\">\n",
       "<title>36</title>\n",
       "<polygon fill=\"none\" stroke=\"white\" points=\"755.88,-180 698.12,-180 698.12,-144 755.88,-144 755.88,-180\"/>\n",
       "<text xml:space=\"preserve\" text-anchor=\"middle\" x=\"727\" y=\"-157.32\" font-family=\"'Fira Mono', 'Source Code Pro', 'Courier', monospace\" font-size=\"14.00\" fill=\"#00a060\">o (111)</text>\n",
       "</g>\n",
       "<!-- 35&#45;&gt;36 -->\n",
       "<g id=\"edge36\" class=\"edge\">\n",
       "<title>35&#45;&gt;36</title>\n",
       "<path fill=\"none\" stroke=\"black\" d=\"M725.49,-215.7C725.7,-208.41 725.95,-199.73 726.18,-191.54\"/>\n",
       "<polygon fill=\"black\" stroke=\"black\" points=\"729.68,-191.71 726.47,-181.62 722.68,-191.51 729.68,-191.71\"/>\n",
       "</g>\n",
       "<!-- 38 -->\n",
       "<g id=\"node39\" class=\"node\">\n",
       "<title>38</title>\n",
       "<polygon fill=\"none\" stroke=\"white\" points=\"830,-252 776,-252 776,-216 830,-216 830,-252\"/>\n",
       "<text xml:space=\"preserve\" text-anchor=\"middle\" x=\"803\" y=\"-229.32\" font-family=\"'Fira Mono', 'Source Code Pro', 'Courier', monospace\" font-size=\"14.00\" fill=\"#00a060\">&gt; (62)</text>\n",
       "</g>\n",
       "<!-- 37&#45;&gt;38 -->\n",
       "<g id=\"edge38\" class=\"edge\">\n",
       "<title>37&#45;&gt;38</title>\n",
       "<path fill=\"none\" stroke=\"black\" d=\"M798.48,-287.7C799.11,-280.41 799.85,-271.73 800.55,-263.54\"/>\n",
       "<polygon fill=\"black\" stroke=\"black\" points=\"804.04,-263.87 801.4,-253.61 797.06,-263.28 804.04,-263.87\"/>\n",
       "</g>\n",
       "</g>\n",
       "</svg>\n"
      ],
      "text/plain": [
       "<graphviz.graphs.Digraph at 0x10980dba0>"
      ]
     },
     "execution_count": 55,
     "metadata": {},
     "output_type": "execute_result"
    }
   ],
   "source": [
    "mutated_tree = cast(TreeMutator, bad_input_tree_mutator()).mutate([0, 0, 1, 0])\n",
    "display_tree(mutated_tree)"
   ]
  },
  {
   "cell_type": "markdown",
   "metadata": {
    "slideshow": {
     "slide_type": "fragment"
    }
   },
   "source": [
    "We see that the `<plain-text>` subtree is now different, which also becomes evident in the string representation."
   ]
  },
  {
   "cell_type": "code",
   "execution_count": 56,
   "metadata": {
    "execution": {
     "iopub.execute_input": "2025-10-26T17:48:40.803807Z",
     "iopub.status.busy": "2025-10-26T17:48:40.803672Z",
     "iopub.status.idle": "2025-10-26T17:48:40.805848Z",
     "shell.execute_reply": "2025-10-26T17:48:40.805611Z"
    },
    "slideshow": {
     "slide_type": "fragment"
    }
   },
   "outputs": [
    {
     "data": {
      "text/plain": [
       "'<foo> </foo>'"
      ]
     },
     "execution_count": 56,
     "metadata": {},
     "output_type": "execute_result"
    }
   ],
   "source": [
    "tree_to_string(mutated_tree)"
   ]
  },
  {
   "cell_type": "markdown",
   "metadata": {
    "slideshow": {
     "slide_type": "slide"
    }
   },
   "source": [
    "## Generalizing Trees\n",
    "\n",
    "Now for the main part – finding out which parts of a tree can be generalized. Our idea is to _test_ a finite number of mutations to a subtree (say, 10). If all of these tests fail as well, then we assume we can generalize the subtree to a placeholder."
   ]
  },
  {
   "cell_type": "markdown",
   "metadata": {
    "slideshow": {
     "slide_type": "fragment"
    }
   },
   "source": [
    "We introduce a class `TreeGeneralizer` for this purpose. On top of `grammar` and `tree` already used for the `TreeMutator` constructor, the `TreeGeneralizer` also takes a `test` function."
   ]
  },
  {
   "cell_type": "code",
   "execution_count": 57,
   "metadata": {
    "execution": {
     "iopub.execute_input": "2025-10-26T17:48:40.807292Z",
     "iopub.status.busy": "2025-10-26T17:48:40.807183Z",
     "iopub.status.idle": "2025-10-26T17:48:40.809145Z",
     "shell.execute_reply": "2025-10-26T17:48:40.808954Z"
    },
    "slideshow": {
     "slide_type": "subslide"
    }
   },
   "outputs": [],
   "source": [
    "class TreeGeneralizer(TreeMutator):\n",
    "    \"\"\"Determine which parts of a derivation tree can be generalized.\"\"\"\n",
    "\n",
    "    def __init__(self, grammar: Grammar, tree: DerivationTree, test: Callable,\n",
    "                 max_tries_for_generalization: int = 10, **kwargs: Any) -> None:\n",
    "        \"\"\"\n",
    "        Constructor. `grammar` and `tree` are as in `TreeMutator`.\n",
    "        `test` is a function taking a string that either\n",
    "          * raises an exception, indicating test failure;\n",
    "          * or not, indicating test success.\n",
    "        `max_tries_for_generalization` is the number of times\n",
    "        an instantiation has to fail before it is generalized.\n",
    "        \"\"\"\n",
    "\n",
    "        super().__init__(grammar, tree, **kwargs)\n",
    "        self.test = test\n",
    "        self.max_tries_for_generalization = max_tries_for_generalization"
   ]
  },
  {
   "cell_type": "markdown",
   "metadata": {
    "slideshow": {
     "slide_type": "subslide"
    }
   },
   "source": [
    "The `test` function is used in `test_tree()`, returning `False` if the test fails (raising an exception), and `True` if the test passes (no exception)."
   ]
  },
  {
   "cell_type": "code",
   "execution_count": 58,
   "metadata": {
    "execution": {
     "iopub.execute_input": "2025-10-26T17:48:40.810368Z",
     "iopub.status.busy": "2025-10-26T17:48:40.810286Z",
     "iopub.status.idle": "2025-10-26T17:48:40.812338Z",
     "shell.execute_reply": "2025-10-26T17:48:40.812138Z"
    },
    "slideshow": {
     "slide_type": "subslide"
    }
   },
   "outputs": [],
   "source": [
    "class TreeGeneralizer(TreeGeneralizer):\n",
    "    def test_tree(self, tree: DerivationTree) -> bool:\n",
    "        \"\"\"Return True if testing `tree` passes, else False\"\"\"\n",
    "        s = tree_to_string(tree)\n",
    "        if self.log:\n",
    "            print(f\"Testing {repr(s)}...\", end=\"\")\n",
    "        try:\n",
    "            self.test(s)\n",
    "        except Exception as exc:\n",
    "            if self.log:\n",
    "                print(f\"FAIL ({type(exc).__name__})\")\n",
    "            ret = False\n",
    "        else:\n",
    "            if self.log:\n",
    "                print(f\"PASS\")\n",
    "            ret = True\n",
    "\n",
    "        return ret"
   ]
  },
  {
   "cell_type": "markdown",
   "metadata": {
    "slideshow": {
     "slide_type": "subslide"
    }
   },
   "source": [
    "### Testing for Generalization\n",
    "\n",
    "The `can_generalize()` method brings the above methods together. It creates a number of tree mutations at the given path, and returns True if all of them produce a failure. (Note that this is not as sophisticated as our [delta debugger](DeltaDebugger.ipynb) implementation, which also checks that the _same_ error occurs.)"
   ]
  },
  {
   "cell_type": "code",
   "execution_count": 59,
   "metadata": {
    "execution": {
     "iopub.execute_input": "2025-10-26T17:48:40.813633Z",
     "iopub.status.busy": "2025-10-26T17:48:40.813539Z",
     "iopub.status.idle": "2025-10-26T17:48:40.815313Z",
     "shell.execute_reply": "2025-10-26T17:48:40.815082Z"
    },
    "slideshow": {
     "slide_type": "subslide"
    }
   },
   "outputs": [],
   "source": [
    "class TreeGeneralizer(TreeGeneralizer):\n",
    "    def can_generalize(self, path: TreePath, tree: Optional[DerivationTree] = None) -> bool:\n",
    "        \"\"\"Return True if the subtree at `path` can be generalized.\"\"\"\n",
    "        for i in range(self.max_tries_for_generalization):\n",
    "            mutated_tree = self.mutate(path, tree)\n",
    "            if self.test_tree(mutated_tree):\n",
    "                # Failure no longer occurs; cannot abstract\n",
    "                return False\n",
    "\n",
    "        return True"
   ]
  },
  {
   "cell_type": "markdown",
   "metadata": {
    "slideshow": {
     "slide_type": "fragment"
    }
   },
   "source": [
    "Let us put `TreeGeneralizer` into action. We can directly use `remove_html_markup()` as test function."
   ]
  },
  {
   "cell_type": "code",
   "execution_count": 60,
   "metadata": {
    "execution": {
     "iopub.execute_input": "2025-10-26T17:48:40.816538Z",
     "iopub.status.busy": "2025-10-26T17:48:40.816467Z",
     "iopub.status.idle": "2025-10-26T17:48:40.817938Z",
     "shell.execute_reply": "2025-10-26T17:48:40.817718Z"
    },
    "slideshow": {
     "slide_type": "fragment"
    }
   },
   "outputs": [],
   "source": [
    "def bad_input_tree_generalizer(**kwargs: Any) -> TreeGeneralizer:\n",
    "    return TreeGeneralizer(SIMPLE_HTML_GRAMMAR, bad_input_tree,\n",
    "                           remove_html_markup, **kwargs)"
   ]
  },
  {
   "cell_type": "markdown",
   "metadata": {
    "slideshow": {
     "slide_type": "subslide"
    }
   },
   "source": [
    "On our `BAD_INPUT` (and its tree), can we generalize the root `<html>` node? In other words, does the failure occur for all possible `<html>` inputs?"
   ]
  },
  {
   "cell_type": "code",
   "execution_count": 61,
   "metadata": {
    "execution": {
     "iopub.execute_input": "2025-10-26T17:48:40.819148Z",
     "iopub.status.busy": "2025-10-26T17:48:40.819074Z",
     "iopub.status.idle": "2025-10-26T17:48:40.822605Z",
     "shell.execute_reply": "2025-10-26T17:48:40.822326Z"
    },
    "slideshow": {
     "slide_type": "fragment"
    }
   },
   "outputs": [
    {
     "name": "stdout",
     "output_type": "stream",
     "text": [
      "Testing \"<l35Gmq W2G571=''>\"...PASS\n"
     ]
    },
    {
     "data": {
      "text/plain": [
       "False"
      ]
     },
     "execution_count": 61,
     "metadata": {},
     "output_type": "execute_result"
    }
   ],
   "source": [
    "bad_input_tree_generalizer(log=True).can_generalize([0])"
   ]
  },
  {
   "cell_type": "markdown",
   "metadata": {
    "slideshow": {
     "slide_type": "fragment"
    }
   },
   "source": [
    "The answer is no. The first alternative passes the test; hence no generalization."
   ]
  },
  {
   "cell_type": "markdown",
   "metadata": {
    "slideshow": {
     "slide_type": "fragment"
    }
   },
   "source": [
    "How about the middle `<plain_text>` part? Can we generalize this?"
   ]
  },
  {
   "cell_type": "code",
   "execution_count": 62,
   "metadata": {
    "execution": {
     "iopub.execute_input": "2025-10-26T17:48:40.823936Z",
     "iopub.status.busy": "2025-10-26T17:48:40.823841Z",
     "iopub.status.idle": "2025-10-26T17:48:40.826046Z",
     "shell.execute_reply": "2025-10-26T17:48:40.825841Z"
    },
    "slideshow": {
     "slide_type": "fragment"
    }
   },
   "outputs": [
    {
     "name": "stdout",
     "output_type": "stream",
     "text": [
      "Testing '<foo>8</foo>'...PASS\n"
     ]
    },
    {
     "data": {
      "text/plain": [
       "False"
      ]
     },
     "execution_count": 62,
     "metadata": {},
     "output_type": "execute_result"
    }
   ],
   "source": [
    "bad_input_tree_generalizer(log=True).can_generalize([0, 0, 1, 0])"
   ]
  },
  {
   "cell_type": "markdown",
   "metadata": {
    "slideshow": {
     "slide_type": "fragment"
    }
   },
   "source": [
    "The answer is no – just as above."
   ]
  },
  {
   "cell_type": "markdown",
   "metadata": {
    "slideshow": {
     "slide_type": "subslide"
    }
   },
   "source": [
    "How about the closing tag? Can we generalize this one?"
   ]
  },
  {
   "cell_type": "code",
   "execution_count": 63,
   "metadata": {
    "execution": {
     "iopub.execute_input": "2025-10-26T17:48:40.827258Z",
     "iopub.status.busy": "2025-10-26T17:48:40.827177Z",
     "iopub.status.idle": "2025-10-26T17:48:40.831883Z",
     "shell.execute_reply": "2025-10-26T17:48:40.831675Z"
    },
    "slideshow": {
     "slide_type": "fragment"
    }
   },
   "outputs": [
    {
     "name": "stdout",
     "output_type": "stream",
     "text": [
      "Testing '<foo>\"bar</e7N>'...FAIL (AssertionError)\n",
      "Testing '<foo>\"bar</q37A>'...FAIL (AssertionError)\n",
      "Testing '<foo>\"bar</W>'...FAIL (AssertionError)\n",
      "Testing '<foo>\"bar</z93Q5>'...FAIL (AssertionError)\n",
      "Testing '<foo>\"bar</WR>'...FAIL (AssertionError)\n",
      "Testing '<foo>\"bar</m>'...FAIL (AssertionError)\n",
      "Testing '<foo>\"bar</Uy443wt1h7>'...FAIL (AssertionError)\n",
      "Testing '<foo>\"bar</fon2>'...FAIL (AssertionError)\n",
      "Testing '<foo>\"bar</M>'...FAIL (AssertionError)\n",
      "Testing '<foo>\"bar</g9>'...FAIL (AssertionError)\n"
     ]
    },
    {
     "data": {
      "text/plain": [
       "True"
      ]
     },
     "execution_count": 63,
     "metadata": {},
     "output_type": "execute_result"
    }
   ],
   "source": [
    "bad_input_tree_generalizer(log=True).can_generalize([0, 0, 2])"
   ]
  },
  {
   "cell_type": "markdown",
   "metadata": {
    "slideshow": {
     "slide_type": "subslide"
    }
   },
   "source": [
    "Yes, we can! All alternate instantiations of `<closing-tag>` result in a failure."
   ]
  },
  {
   "cell_type": "code",
   "execution_count": 64,
   "metadata": {
    "execution": {
     "iopub.execute_input": "2025-10-26T17:48:40.833020Z",
     "iopub.status.busy": "2025-10-26T17:48:40.832942Z",
     "iopub.status.idle": "2025-10-26T17:48:40.835542Z",
     "shell.execute_reply": "2025-10-26T17:48:40.835346Z"
    },
    "slideshow": {
     "slide_type": "fragment"
    },
    "tags": [
     "remove-input"
    ]
   },
   "outputs": [
    {
     "data": {
      "text/html": [
       "\n",
       "    \n",
       "    <script>\n",
       "    var bad_answers = new Map();\n",
       "\n",
       "    function answer(quiz_id) {\n",
       "        ans = 0;\n",
       "        for (i = 1;; i++) {\n",
       "            checkbox = document.getElementById(quiz_id + \"-\" + i.toString());\n",
       "            if (!checkbox)\n",
       "                break;\n",
       "            if (checkbox.checked)\n",
       "                ans |= (1 << i);\n",
       "        }\n",
       "        return ans;\n",
       "    }\n",
       "    function check_selection(quiz_id, correct_answer, multiple_choice, hint) {\n",
       "        given_answer = answer(quiz_id);\n",
       "        if (given_answer == correct_answer)\n",
       "        {\n",
       "            document.getElementById(quiz_id + \"-submit\").value = \"Correct!\";\n",
       "            document.getElementById(quiz_id + \"-hint\").innerHTML = \"\";\n",
       "\n",
       "            for (i = 1;; i++) {\n",
       "                checkbox = document.getElementById(quiz_id + \"-\" + i.toString());\n",
       "                label = document.getElementById(quiz_id + \"-\" + i.toString() + \"-label\")\n",
       "                if (!checkbox)\n",
       "                    break;\n",
       "\n",
       "                if (checkbox.checked) {\n",
       "                    label.style.fontWeight = \"bold\";\n",
       "                }\n",
       "                else {\n",
       "                    label.style.textDecoration = \"line-through\";\n",
       "                }\n",
       "            }\n",
       "        }\n",
       "        else \n",
       "        {\n",
       "            document.getElementById(quiz_id + \"-submit\").value = \"Try again\";\n",
       "\n",
       "            if (!bad_answers.has(quiz_id)) {\n",
       "                bad_answers.set(quiz_id, 1);\n",
       "            }\n",
       "            else {\n",
       "                bad_answers.set(quiz_id, bad_answers.get(quiz_id) + 1);\n",
       "            }\n",
       "\n",
       "            if (bad_answers.get(quiz_id) >= 2 && hint.length > 0) {\n",
       "                document.getElementById(quiz_id + \"-hint\").innerHTML = \n",
       "                    \"&nbsp;&nbsp;(Hint: <code>\" + hint + \"</code>)\";\n",
       "            }\n",
       "\n",
       "            if (!multiple_choice) {\n",
       "                for (i = 1;; i++) {\n",
       "                    checkbox = document.getElementById(quiz_id + \"-\" + i.toString());\n",
       "                    label = document.getElementById(quiz_id + \"-\" + i.toString() + \"-label\")\n",
       "\n",
       "                    if (!checkbox)\n",
       "                        break;\n",
       "                    if (checkbox.checked) {\n",
       "                        label.style.textDecoration = \"line-through\";\n",
       "                    }\n",
       "                }\n",
       "            }\n",
       "        }\n",
       "    }\n",
       "    function clear_selection(quiz_id) {\n",
       "        document.getElementById(quiz_id + \"-submit\").value = \"Submit\";\n",
       "        document.getElementById(quiz_id + \"-hint\").innerHTML = \"\";\n",
       "    }\n",
       "    </script>\n",
       "    \n",
       "    <div class=\"quiz\">\n",
       "    <h3 class=\"quiz_title\">Quiz</h3>\n",
       "    <p>\n",
       "    <div class=\"quiz_question\">Is this also true for <code>&lt;opening-tag&gt;</code>?</div>\n",
       "    </p>\n",
       "    <p>\n",
       "    <div class=\"quiz_options\" title=\"Pick a choice.\">\n",
       "    \n",
       "        <input type=\"radio\" name=\"021533e0-b294-11f0-8772-6298cf1a5790\" id=\"021533e0-b294-11f0-8772-6298cf1a5790-1\" onclick=\"clear_selection('021533e0-b294-11f0-8772-6298cf1a5790')\">\n",
       "        <label id=\"021533e0-b294-11f0-8772-6298cf1a5790-1-label\" for=\"021533e0-b294-11f0-8772-6298cf1a5790-1\">Yes</label><br>\n",
       "    \n",
       "        <input type=\"radio\" name=\"021533e0-b294-11f0-8772-6298cf1a5790\" id=\"021533e0-b294-11f0-8772-6298cf1a5790-2\" onclick=\"clear_selection('021533e0-b294-11f0-8772-6298cf1a5790')\">\n",
       "        <label id=\"021533e0-b294-11f0-8772-6298cf1a5790-2-label\" for=\"021533e0-b294-11f0-8772-6298cf1a5790-2\">No</label><br>\n",
       "    \n",
       "    </div>\n",
       "    </p>\n",
       "    <input id=\"021533e0-b294-11f0-8772-6298cf1a5790-submit\" type=\"submit\" value=\"Submit\" onclick=\"check_selection('021533e0-b294-11f0-8772-6298cf1a5790', 4, 0, '(&quot;Yes&quot; == &quot;Yes&quot;) + (&quot;No&quot; == &quot;No&quot;)')\">\n",
       "    <span class=\"quiz_hint\" id=\"021533e0-b294-11f0-8772-6298cf1a5790-hint\"></span>\n",
       "    </div>\n",
       "    "
      ],
      "text/plain": [
       "<IPython.core.display.HTML object>"
      ]
     },
     "execution_count": 64,
     "metadata": {},
     "output_type": "execute_result"
    }
   ],
   "source": [
    "quiz(\"Is this also true for `<opening-tag>`?\",\n",
    "     [\n",
    "         \"Yes\",\n",
    "         \"No\"\n",
    "     ], '(\"Yes\" == \"Yes\") + (\"No\" == \"No\")')"
   ]
  },
  {
   "cell_type": "markdown",
   "metadata": {
    "slideshow": {
     "slide_type": "fragment"
    }
   },
   "source": [
    "Note that the above does not hold for `<opening-tag>`. If the attribute value contains a quote character, it will extend to the end of the input. This is another error, but not caught by our assertion; hence, the input will be flagged as passing:"
   ]
  },
  {
   "cell_type": "code",
   "execution_count": 65,
   "metadata": {
    "execution": {
     "iopub.execute_input": "2025-10-26T17:48:40.836855Z",
     "iopub.status.busy": "2025-10-26T17:48:40.836769Z",
     "iopub.status.idle": "2025-10-26T17:48:40.838152Z",
     "shell.execute_reply": "2025-10-26T17:48:40.837931Z"
    },
    "slideshow": {
     "slide_type": "fragment"
    }
   },
   "outputs": [],
   "source": [
    "BAD_ATTR_INPUT = '<foo attr=\"\\'\">bar</foo>'"
   ]
  },
  {
   "cell_type": "code",
   "execution_count": 66,
   "metadata": {
    "execution": {
     "iopub.execute_input": "2025-10-26T17:48:40.839296Z",
     "iopub.status.busy": "2025-10-26T17:48:40.839222Z",
     "iopub.status.idle": "2025-10-26T17:48:40.840935Z",
     "shell.execute_reply": "2025-10-26T17:48:40.840746Z"
    },
    "slideshow": {
     "slide_type": "fragment"
    }
   },
   "outputs": [
    {
     "data": {
      "text/plain": [
       "''"
      ]
     },
     "execution_count": 66,
     "metadata": {},
     "output_type": "execute_result"
    }
   ],
   "source": [
    "remove_html_markup(BAD_ATTR_INPUT)"
   ]
  },
  {
   "cell_type": "markdown",
   "metadata": {
    "slideshow": {
     "slide_type": "subslide"
    }
   },
   "source": [
    "The effect of this is that there are patterns for `<opening-tag>` which do not cause the failure to occur; hence, `<opening-tag>` is not a fully valid generalization."
   ]
  },
  {
   "cell_type": "markdown",
   "metadata": {
    "slideshow": {
     "slide_type": "fragment"
    }
   },
   "source": [
    "This, however, becomes apparent only if one of our generated tests includes a quote character in the attribute value. Since quote characters are as likely (or as unlikely) to appear as other characters, this effect may not become apparent in our default 10 tests:"
   ]
  },
  {
   "cell_type": "code",
   "execution_count": 67,
   "metadata": {
    "execution": {
     "iopub.execute_input": "2025-10-26T17:48:40.842129Z",
     "iopub.status.busy": "2025-10-26T17:48:40.842047Z",
     "iopub.status.idle": "2025-10-26T17:48:40.856100Z",
     "shell.execute_reply": "2025-10-26T17:48:40.855864Z"
    },
    "slideshow": {
     "slide_type": "fragment"
    }
   },
   "outputs": [
    {
     "data": {
      "text/plain": [
       "True"
      ]
     },
     "execution_count": 67,
     "metadata": {},
     "output_type": "execute_result"
    }
   ],
   "source": [
    "bad_input_tree_generalizer().can_generalize([0, 0, 0])"
   ]
  },
  {
   "cell_type": "markdown",
   "metadata": {
    "slideshow": {
     "slide_type": "fragment"
    }
   },
   "source": [
    "It will become apparent, however, as we increase the number of tests:"
   ]
  },
  {
   "cell_type": "code",
   "execution_count": 68,
   "metadata": {
    "execution": {
     "iopub.execute_input": "2025-10-26T17:48:40.857443Z",
     "iopub.status.busy": "2025-10-26T17:48:40.857358Z",
     "iopub.status.idle": "2025-10-26T17:48:40.877775Z",
     "shell.execute_reply": "2025-10-26T17:48:40.877555Z"
    },
    "slideshow": {
     "slide_type": "subslide"
    }
   },
   "outputs": [
    {
     "name": "stdout",
     "output_type": "stream",
     "text": [
      "Testing '<Ada np=\\'7\\' y7v=\\'\\'>\"bar</foo>'...FAIL (AssertionError)\n",
      "Testing '<B V=\\'\\'>\"bar</foo>'...FAIL (AssertionError)\n",
      "Testing '<K v=\"$\" s5F=\"\\x0b\" q=\"\" E=\\'\\'>\"bar</foo>'...FAIL (AssertionError)\n",
      "Testing '<Fcdt8 v7A4u=\\'.\\t\\'>\"bar</foo>'...FAIL (AssertionError)\n",
      "Testing '<s n=\"\">\"bar</foo>'...FAIL (AssertionError)\n",
      "Testing '<W>\"bar</foo>'...FAIL (AssertionError)\n",
      "Testing '<ap>\"bar</foo>'...FAIL (AssertionError)\n",
      "Testing '<B1>\"bar</foo>'...FAIL (AssertionError)\n",
      "Testing '<Q00wY M=\\'\\r \\'>\"bar</foo>'...FAIL (AssertionError)\n",
      "Testing '<O6 d7=\"\" H=\\'\\'>\"bar</foo>'...FAIL (AssertionError)\n",
      "Testing '<v1IH w=\"\" ZI=\"\" O=\"\">\"bar</foo>'...FAIL (AssertionError)\n",
      "Testing '<T1 w998=\\'a\\' j=\\'z\\n7\\'>\"bar</foo>'...FAIL (AssertionError)\n",
      "Testing '<Dnh1>\"bar</foo>'...FAIL (AssertionError)\n",
      "Testing '<D F9=\"\" x4=\\'\\' Hup=\\'7\\n\\'>\"bar</foo>'...FAIL (AssertionError)\n",
      "Testing '<l62E>\"bar</foo>'...FAIL (AssertionError)\n",
      "Testing '<k11 P8x5=\"\">\"bar</foo>'...FAIL (AssertionError)\n",
      "Testing '<V6LBVu>\"bar</foo>'...FAIL (AssertionError)\n",
      "Testing '<k9S>\"bar</foo>'...FAIL (AssertionError)\n",
      "Testing '<tU2J913 lQ6N=\\'\\' f=\\'*\\' V=\\'\\' b=\"\" l=\"\" G=\\'\\'>\"bar</foo>'...FAIL (AssertionError)\n",
      "Testing '<X O=\"U~\">\"bar</foo>'...FAIL (AssertionError)\n",
      "Testing '<q4 W=\\'\\' i=\\'aA9\\' I=\\'9\\'>\"bar</foo>'...FAIL (AssertionError)\n",
      "Testing '<HK>\"bar</foo>'...FAIL (AssertionError)\n",
      "Testing '<T>\"bar</foo>'...FAIL (AssertionError)\n",
      "Testing '<NJc j32=\"\\x0b\">\"bar</foo>'...FAIL (AssertionError)\n",
      "Testing '<G>\"bar</foo>'...FAIL (AssertionError)\n",
      "Testing '<w B=\"\\r\">\"bar</foo>'...FAIL (AssertionError)\n",
      "Testing '<Ac1>\"bar</foo>'...FAIL (AssertionError)\n",
      "Testing '<vB y2=\\'7x\\'\\'>\"bar</foo>'...PASS\n"
     ]
    },
    {
     "data": {
      "text/plain": [
       "False"
      ]
     },
     "execution_count": 68,
     "metadata": {},
     "output_type": "execute_result"
    }
   ],
   "source": [
    "bad_input_tree_generalizer(max_tries_for_generalization=100, log=True).can_generalize([0, 0, 0])"
   ]
  },
  {
   "cell_type": "markdown",
   "metadata": {
    "slideshow": {
     "slide_type": "subslide"
    }
   },
   "source": [
    "We see that our approach may _overgeneralize_ – producing a generalization that may be too lenient. In practice, this is not too much of a problem, as we would be interested in characterizing cases that trigger the failure, rather than characterizing a small subset that does not trigger the failure."
   ]
  },
  {
   "cell_type": "markdown",
   "metadata": {
    "slideshow": {
     "slide_type": "subslide"
    }
   },
   "source": [
    "### Generalizable Paths\n",
    "\n",
    "Using `can_generalize()`, we can devise a method `generalizable_paths()` that returns all paths in the tree that can be generalized."
   ]
  },
  {
   "cell_type": "code",
   "execution_count": 69,
   "metadata": {
    "execution": {
     "iopub.execute_input": "2025-10-26T17:48:40.879066Z",
     "iopub.status.busy": "2025-10-26T17:48:40.878989Z",
     "iopub.status.idle": "2025-10-26T17:48:40.881698Z",
     "shell.execute_reply": "2025-10-26T17:48:40.881509Z"
    },
    "slideshow": {
     "slide_type": "subslide"
    }
   },
   "outputs": [],
   "source": [
    "class TreeGeneralizer(TreeGeneralizer):\n",
    "    def find_paths(self, \n",
    "                   predicate: Callable[[TreePath, DerivationTree], bool], \n",
    "                   path: Optional[TreePath] = None, \n",
    "                   tree: Optional[DerivationTree] = None) -> List[TreePath]:\n",
    "        \"\"\"\n",
    "        Return a list of all paths for which `predicate` holds.\n",
    "        `predicate` is a function `predicate`(`path`, `tree`), where\n",
    "        `path` denotes a subtree in `tree`. If `predicate()` returns\n",
    "        True, `path` is included in the returned list.\n",
    "        \"\"\"\n",
    "\n",
    "        if path is None:\n",
    "            path = []\n",
    "        assert path is not None\n",
    "\n",
    "        if tree is None:\n",
    "            tree = self.tree\n",
    "        assert tree is not None\n",
    "\n",
    "        symbol, children = self.get_subtree(path)\n",
    "\n",
    "        if predicate(path, tree):\n",
    "            return [path]\n",
    "\n",
    "        paths = []\n",
    "        if children is not None:\n",
    "            for i, child in enumerate(children):\n",
    "                child_symbol, _ = child\n",
    "                if child_symbol in self.grammar:\n",
    "                    paths += self.find_paths(predicate, path + [i])\n",
    "\n",
    "        return paths\n",
    "\n",
    "    def generalizable_paths(self) -> List[TreePath]:\n",
    "        \"\"\"Return a list of all paths whose subtrees can be generalized.\"\"\"\n",
    "        return self.find_paths(self.can_generalize)"
   ]
  },
  {
   "cell_type": "markdown",
   "metadata": {
    "slideshow": {
     "slide_type": "subslide"
    }
   },
   "source": [
    "Here is `generalizable_paths()` in action. We obtain all (paths to) subtrees that can be generalized:"
   ]
  },
  {
   "cell_type": "code",
   "execution_count": 70,
   "metadata": {
    "execution": {
     "iopub.execute_input": "2025-10-26T17:48:40.882944Z",
     "iopub.status.busy": "2025-10-26T17:48:40.882866Z",
     "iopub.status.idle": "2025-10-26T17:48:40.899419Z",
     "shell.execute_reply": "2025-10-26T17:48:40.899177Z"
    },
    "slideshow": {
     "slide_type": "fragment"
    }
   },
   "outputs": [
    {
     "data": {
      "text/plain": [
       "[[0, 0, 0], [0, 0, 1, 0, 1, 0], [0, 0, 1, 0, 1, 1], [0, 0, 2]]"
      ]
     },
     "execution_count": 70,
     "metadata": {},
     "output_type": "execute_result"
    }
   ],
   "source": [
    "bad_input_generalizable_paths = \\\n",
    "    cast(TreeGeneralizer, bad_input_tree_generalizer()).generalizable_paths()\n",
    "bad_input_generalizable_paths"
   ]
  },
  {
   "cell_type": "markdown",
   "metadata": {
    "slideshow": {
     "slide_type": "fragment"
    }
   },
   "source": [
    "To convert these subtrees into abstract failure-inducing patterns, the method `generalize_path()` returns a copy of the tree with the subtree replaced by a nonterminal without children:"
   ]
  },
  {
   "cell_type": "code",
   "execution_count": 71,
   "metadata": {
    "execution": {
     "iopub.execute_input": "2025-10-26T17:48:40.900699Z",
     "iopub.status.busy": "2025-10-26T17:48:40.900615Z",
     "iopub.status.idle": "2025-10-26T17:48:40.902981Z",
     "shell.execute_reply": "2025-10-26T17:48:40.902742Z"
    },
    "slideshow": {
     "slide_type": "subslide"
    }
   },
   "outputs": [],
   "source": [
    "class TreeGeneralizer(TreeGeneralizer):\n",
    "    def generalize_path(self, path: TreePath, \n",
    "                        tree: Optional[DerivationTree] = None) -> DerivationTree:\n",
    "        \"\"\"Return a copy of the tree in which the subtree at `path`\n",
    "        is generalized (= replaced by a nonterminal without children)\"\"\"\n",
    "\n",
    "        if tree is None:\n",
    "            tree = self.tree\n",
    "        assert tree is not None\n",
    "\n",
    "        symbol, children = tree\n",
    "\n",
    "        if not path or children is None:\n",
    "            return symbol, None  # Nonterminal without children\n",
    "\n",
    "        head = path[0]\n",
    "        new_children = (children[:head] +\n",
    "                        [self.generalize_path(path[1:], children[head])] +\n",
    "                        children[head + 1:])\n",
    "        return symbol, new_children"
   ]
  },
  {
   "cell_type": "markdown",
   "metadata": {
    "slideshow": {
     "slide_type": "subslide"
    }
   },
   "source": [
    "The function `all_terminals()` expands these placeholders:"
   ]
  },
  {
   "cell_type": "code",
   "execution_count": 72,
   "metadata": {
    "execution": {
     "iopub.execute_input": "2025-10-26T17:48:40.904216Z",
     "iopub.status.busy": "2025-10-26T17:48:40.904137Z",
     "iopub.status.idle": "2025-10-26T17:48:40.906229Z",
     "shell.execute_reply": "2025-10-26T17:48:40.906044Z"
    },
    "slideshow": {
     "slide_type": "fragment"
    }
   },
   "outputs": [
    {
     "data": {
      "text/plain": [
       "'<opening-tag>\"bar<plain-text></foo>'"
      ]
     },
     "execution_count": 72,
     "metadata": {},
     "output_type": "execute_result"
    }
   ],
   "source": [
    "all_terminals(cast(TreeGeneralizer, bad_input_tree_generalizer()).generalize_path([0, 0, 0]))"
   ]
  },
  {
   "cell_type": "markdown",
   "metadata": {
    "slideshow": {
     "slide_type": "fragment"
    }
   },
   "source": [
    "Finally, the method `generalize()` obtains a tree in which all generalizable paths actually are generalized:"
   ]
  },
  {
   "cell_type": "code",
   "execution_count": 73,
   "metadata": {
    "execution": {
     "iopub.execute_input": "2025-10-26T17:48:40.907485Z",
     "iopub.status.busy": "2025-10-26T17:48:40.907402Z",
     "iopub.status.idle": "2025-10-26T17:48:40.909190Z",
     "shell.execute_reply": "2025-10-26T17:48:40.908992Z"
    },
    "slideshow": {
     "slide_type": "subslide"
    }
   },
   "outputs": [],
   "source": [
    "class TreeGeneralizer(TreeGeneralizer):\n",
    "    def generalize(self) -> DerivationTree:\n",
    "        \"\"\"Returns a copy of the tree in which all generalizable subtrees\n",
    "        are generalized (= replaced by nonterminals without children)\"\"\"\n",
    "        tree = self.tree\n",
    "        assert tree is not None\n",
    "\n",
    "        for path in self.generalizable_paths():\n",
    "            tree = self.generalize_path(path, tree)\n",
    "\n",
    "        return tree"
   ]
  },
  {
   "cell_type": "code",
   "execution_count": 74,
   "metadata": {
    "execution": {
     "iopub.execute_input": "2025-10-26T17:48:40.910320Z",
     "iopub.status.busy": "2025-10-26T17:48:40.910249Z",
     "iopub.status.idle": "2025-10-26T17:48:40.924493Z",
     "shell.execute_reply": "2025-10-26T17:48:40.924256Z"
    },
    "slideshow": {
     "slide_type": "fragment"
    }
   },
   "outputs": [],
   "source": [
    "abstract_failure_inducing_input = cast(TreeGeneralizer, bad_input_tree_generalizer()).generalize()"
   ]
  },
  {
   "cell_type": "markdown",
   "metadata": {
    "slideshow": {
     "slide_type": "fragment"
    }
   },
   "source": [
    "This gives us the final generalization of `BAD_INPUT`. In the abstract failure-inducing input, all generalizable elements are generalized."
   ]
  },
  {
   "cell_type": "code",
   "execution_count": 75,
   "metadata": {
    "execution": {
     "iopub.execute_input": "2025-10-26T17:48:40.925689Z",
     "iopub.status.busy": "2025-10-26T17:48:40.925614Z",
     "iopub.status.idle": "2025-10-26T17:48:40.927415Z",
     "shell.execute_reply": "2025-10-26T17:48:40.927209Z"
    },
    "slideshow": {
     "slide_type": "subslide"
    }
   },
   "outputs": [
    {
     "data": {
      "text/plain": [
       "'<opening-tag>\"<plain-text><closing-tag>'"
      ]
     },
     "execution_count": 75,
     "metadata": {},
     "output_type": "execute_result"
    }
   ],
   "source": [
    "all_terminals(abstract_failure_inducing_input)"
   ]
  },
  {
   "cell_type": "markdown",
   "metadata": {
    "slideshow": {
     "slide_type": "fragment"
    }
   },
   "source": [
    "We see that to obtain the failure, it suffices to have an `<opening-tag>`, followed by a quote and (any) `<plain-text>` and (any) `<closing-tag>`. Clearly, all that it takes to produce the failure is to have a double quote in the plain text."
   ]
  },
  {
   "cell_type": "markdown",
   "metadata": {
    "slideshow": {
     "slide_type": "fragment"
    }
   },
   "source": [
    "Also note how this diagnosis was reached through _experiments_ only – just as with [delta debugging](DeltaDebugger.ipynb), we could treat the program under test as a black box. In contrast to delta debugging, however, we obtain an _abstraction_ that generalizes the circumstances under which a given failure occurs."
   ]
  },
  {
   "cell_type": "markdown",
   "metadata": {
    "slideshow": {
     "slide_type": "slide"
    }
   },
   "source": [
    "## Fuzzing with Patterns\n",
    "\n",
    "One neat side effect of abstract failure-inducing patterns is that they can be easily instantiated into further test cases, all set to reproduce the failure in question. This gives us a test suite we can later test our fix against."
   ]
  },
  {
   "cell_type": "markdown",
   "metadata": {
    "slideshow": {
     "slide_type": "fragment"
    }
   },
   "source": [
    "The method `fuzz_tree()` takes a tree representing an abstract failure-inducing input and instantiates all missing subtrees."
   ]
  },
  {
   "cell_type": "code",
   "execution_count": 76,
   "metadata": {
    "execution": {
     "iopub.execute_input": "2025-10-26T17:48:40.928717Z",
     "iopub.status.busy": "2025-10-26T17:48:40.928644Z",
     "iopub.status.idle": "2025-10-26T17:48:40.929999Z",
     "shell.execute_reply": "2025-10-26T17:48:40.929777Z"
    },
    "slideshow": {
     "slide_type": "skip"
    }
   },
   "outputs": [],
   "source": [
    "import copy"
   ]
  },
  {
   "cell_type": "code",
   "execution_count": 77,
   "metadata": {
    "execution": {
     "iopub.execute_input": "2025-10-26T17:48:40.931159Z",
     "iopub.status.busy": "2025-10-26T17:48:40.931093Z",
     "iopub.status.idle": "2025-10-26T17:48:40.932541Z",
     "shell.execute_reply": "2025-10-26T17:48:40.932347Z"
    },
    "slideshow": {
     "slide_type": "fragment"
    }
   },
   "outputs": [],
   "source": [
    "class TreeGeneralizer(TreeGeneralizer):\n",
    "    def fuzz_tree(self, tree: DerivationTree) -> DerivationTree:\n",
    "        \"\"\"Return an instantiated copy of `tree`.\"\"\"\n",
    "        tree = copy.deepcopy(tree)\n",
    "        return self.fuzzer.expand_tree(tree)"
   ]
  },
  {
   "cell_type": "code",
   "execution_count": 78,
   "metadata": {
    "execution": {
     "iopub.execute_input": "2025-10-26T17:48:40.933684Z",
     "iopub.status.busy": "2025-10-26T17:48:40.933598Z",
     "iopub.status.idle": "2025-10-26T17:48:40.946316Z",
     "shell.execute_reply": "2025-10-26T17:48:40.946080Z"
    },
    "slideshow": {
     "slide_type": "subslide"
    }
   },
   "outputs": [
    {
     "name": "stdout",
     "output_type": "stream",
     "text": [
      "<UzL3Ct6>\"</p>\n",
      "<nw10E6>\"</W>\n",
      "<h lV=\"'\">\"</x8>\n",
      "<k>\"</u>\n",
      "<a0 l0820650g='3'>\"</v5t>\n",
      "<zTg>\"</o1Z>\n",
      "<yMgT02p s=\"\" g94e='R'>\"</P2>\n",
      "<Y>\"</S9b>\n",
      "<X2566xS8v2>\"</r13>\n",
      "<D48>\"\t</R>\n"
     ]
    }
   ],
   "source": [
    "bitg = cast(TreeGeneralizer, bad_input_tree_generalizer())\n",
    "for i in range(10):\n",
    "    print(all_terminals(bitg.fuzz_tree(abstract_failure_inducing_input)))"
   ]
  },
  {
   "cell_type": "markdown",
   "metadata": {
    "slideshow": {
     "slide_type": "subslide"
    }
   },
   "source": [
    "We can take these inputs and see whether they reproduce the failure in question:"
   ]
  },
  {
   "cell_type": "code",
   "execution_count": 79,
   "metadata": {
    "execution": {
     "iopub.execute_input": "2025-10-26T17:48:40.947549Z",
     "iopub.status.busy": "2025-10-26T17:48:40.947471Z",
     "iopub.status.idle": "2025-10-26T17:48:42.369120Z",
     "shell.execute_reply": "2025-10-26T17:48:42.368820Z"
    },
    "slideshow": {
     "slide_type": "fragment"
    }
   },
   "outputs": [],
   "source": [
    "successes = 0\n",
    "failures = 0\n",
    "trials = 1000\n",
    "\n",
    "for i in range(trials):\n",
    "    test_input = all_terminals(\n",
    "        bitg.fuzz_tree(abstract_failure_inducing_input))\n",
    "    try:\n",
    "        remove_html_markup(test_input)\n",
    "    except AssertionError:\n",
    "        successes += 1\n",
    "    else:\n",
    "        failures += 1"
   ]
  },
  {
   "cell_type": "code",
   "execution_count": 80,
   "metadata": {
    "execution": {
     "iopub.execute_input": "2025-10-26T17:48:42.370598Z",
     "iopub.status.busy": "2025-10-26T17:48:42.370508Z",
     "iopub.status.idle": "2025-10-26T17:48:42.372602Z",
     "shell.execute_reply": "2025-10-26T17:48:42.372375Z"
    },
    "slideshow": {
     "slide_type": "subslide"
    }
   },
   "outputs": [
    {
     "data": {
      "text/plain": [
       "(982, 18)"
      ]
     },
     "execution_count": 80,
     "metadata": {},
     "output_type": "execute_result"
    }
   ],
   "source": [
    "successes, failures"
   ]
  },
  {
   "cell_type": "markdown",
   "metadata": {
    "slideshow": {
     "slide_type": "fragment"
    }
   },
   "source": [
    "We get an overall failure rate of ~98%, which is not bad at all."
   ]
  },
  {
   "cell_type": "code",
   "execution_count": 81,
   "metadata": {
    "execution": {
     "iopub.execute_input": "2025-10-26T17:48:42.373850Z",
     "iopub.status.busy": "2025-10-26T17:48:42.373767Z",
     "iopub.status.idle": "2025-10-26T17:48:42.375671Z",
     "shell.execute_reply": "2025-10-26T17:48:42.375451Z"
    },
    "slideshow": {
     "slide_type": "fragment"
    }
   },
   "outputs": [
    {
     "data": {
      "text/plain": [
       "0.018"
      ]
     },
     "execution_count": 81,
     "metadata": {},
     "output_type": "execute_result"
    }
   ],
   "source": [
    "failures / 1000"
   ]
  },
  {
   "cell_type": "markdown",
   "metadata": {
    "slideshow": {
     "slide_type": "fragment"
    }
   },
   "source": [
    "In our case, it is _overgeneralization_ (as discussed above) that is responsible for not reaching a 100% rate. (In all generality, we are trying to approximate the behavior of a Turing machine with a context free grammar, which is, well, always an approximation.) However, even a lower rate would still be useful, as any additional test case that reproduces a failure helps in ensuring the final fix is complete."
   ]
  },
  {
   "cell_type": "markdown",
   "metadata": {
    "slideshow": {
     "slide_type": "slide"
    }
   },
   "source": [
    "## Putting it all Together\n",
    "\n",
    "Let us now put together all this in a more convenient package that does not require the user to parse and unparse derivation trees."
   ]
  },
  {
   "cell_type": "markdown",
   "metadata": {
    "slideshow": {
     "slide_type": "subslide"
    }
   },
   "source": [
    "Our `DDSetDebugger` is modeled after the `DeltaDebugger` from [the chapter on delta debugging](DeltaDebugger.ipynb). It is to be used as\n",
    "\n",
    "```python\n",
    "with DDSetDebugger(grammar) as dd:\n",
    "    some_failing_function(...)\n",
    "```\n",
    "\n",
    "After that, evaluating `dd` yields a generalized abstract failure-inducing input as a string."
   ]
  },
  {
   "cell_type": "markdown",
   "metadata": {
    "slideshow": {
     "slide_type": "fragment"
    }
   },
   "source": [
    "Since `DDSetDebugger` accepts only one grammar, the function to be debugged should have exactly one string argument (besides other arguments); this string must fit the grammar."
   ]
  },
  {
   "cell_type": "markdown",
   "metadata": {
    "slideshow": {
     "slide_type": "subslide"
    }
   },
   "source": [
    "### Constructor"
   ]
  },
  {
   "cell_type": "markdown",
   "metadata": {
    "slideshow": {
     "slide_type": "fragment"
    }
   },
   "source": [
    "The constructor puts together the various components. It allows for customization by subclassing."
   ]
  },
  {
   "cell_type": "code",
   "execution_count": 82,
   "metadata": {
    "execution": {
     "iopub.execute_input": "2025-10-26T17:48:42.377098Z",
     "iopub.status.busy": "2025-10-26T17:48:42.377012Z",
     "iopub.status.idle": "2025-10-26T17:48:42.378502Z",
     "shell.execute_reply": "2025-10-26T17:48:42.378302Z"
    },
    "slideshow": {
     "slide_type": "skip"
    }
   },
   "outputs": [],
   "source": [
    "from DeltaDebugger import CallCollector"
   ]
  },
  {
   "cell_type": "code",
   "execution_count": 83,
   "metadata": {
    "execution": {
     "iopub.execute_input": "2025-10-26T17:48:42.379548Z",
     "iopub.status.busy": "2025-10-26T17:48:42.379471Z",
     "iopub.status.idle": "2025-10-26T17:48:42.382147Z",
     "shell.execute_reply": "2025-10-26T17:48:42.381924Z"
    },
    "slideshow": {
     "slide_type": "subslide"
    }
   },
   "outputs": [],
   "source": [
    "class DDSetDebugger(CallCollector):\n",
    "    \"\"\"\n",
    "    Debugger implementing the DDSET algorithm for abstracting failure-inducing inputs.\n",
    "    \"\"\"\n",
    "\n",
    "    def __init__(self, grammar: Grammar, \n",
    "                 generalizer_class: Type = TreeGeneralizer,\n",
    "                 parser: Optional[Parser] = None,\n",
    "                 **kwargs: Any) -> None:\n",
    "        \"\"\"Constructor.\n",
    "        `grammar` is an input grammar in fuzzingbook format.\n",
    "        `generalizer_class` is the tree generalizer class to use\n",
    "        (default: `TreeGeneralizer`)\n",
    "        `parser` is the parser to use (default: `EarleyParser(grammar)`).\n",
    "        All other keyword args are passed to the tree generalizer, notably:\n",
    "        `fuzzer` - the fuzzer to use (default: `GrammarFuzzer`), and\n",
    "        `log` - enables debugging output if True.\n",
    "        \"\"\"\n",
    "        super().__init__()\n",
    "        self.grammar = grammar\n",
    "        assert is_valid_grammar(grammar)\n",
    "\n",
    "        self.generalizer_class = generalizer_class\n",
    "\n",
    "        if parser is None:\n",
    "            parser = EarleyParser(grammar)\n",
    "        self.parser = parser\n",
    "        self.kwargs = kwargs\n",
    "\n",
    "        # These save state for further fuzz() calls\n",
    "        self.generalized_args: Dict[str, Any] = {}\n",
    "        self.generalized_trees: Dict[str, DerivationTree] = {}\n",
    "        self.generalizers: Dict[str, TreeGeneralizer] = {}"
   ]
  },
  {
   "cell_type": "markdown",
   "metadata": {
    "slideshow": {
     "slide_type": "subslide"
    }
   },
   "source": [
    "### Generalizing Arguments"
   ]
  },
  {
   "attachments": {},
   "cell_type": "markdown",
   "metadata": {
    "slideshow": {
     "slide_type": "fragment"
    }
   },
   "source": [
    "The method `generalize()` is the main entry point. For all string arguments collected in the first function call, it generalizes the arguments and returns an abstract failure-inducing string."
   ]
  },
  {
   "cell_type": "code",
   "execution_count": 84,
   "metadata": {
    "execution": {
     "iopub.execute_input": "2025-10-26T17:48:42.383477Z",
     "iopub.status.busy": "2025-10-26T17:48:42.383395Z",
     "iopub.status.idle": "2025-10-26T17:48:42.386005Z",
     "shell.execute_reply": "2025-10-26T17:48:42.385787Z"
    },
    "slideshow": {
     "slide_type": "subslide"
    }
   },
   "outputs": [],
   "source": [
    "class DDSetDebugger(DDSetDebugger):\n",
    "    def generalize(self) -> Dict[str, Any]:\n",
    "        \"\"\"\n",
    "        Generalize arguments seen. For each function argument,\n",
    "        produce an abstract failure-inducing input that characterizes\n",
    "        the set of inputs for which the function fails.\n",
    "        \"\"\"\n",
    "        if self.generalized_args:\n",
    "            return self.generalized_args\n",
    "\n",
    "        self.generalized_args = copy.deepcopy(self.args())\n",
    "        self.generalized_trees = {}\n",
    "        self.generalizers = {}\n",
    "\n",
    "        for arg in self.args():\n",
    "            def test(value: Any) -> Any:\n",
    "                return self.call({arg: value})\n",
    "\n",
    "            value = self.args()[arg]\n",
    "            if isinstance(value, str):\n",
    "                tree = list(self.parser.parse(value))[0]\n",
    "                gen = self.generalizer_class(self.grammar, tree, test, \n",
    "                                             **self.kwargs)\n",
    "                generalized_tree = gen.generalize()\n",
    "\n",
    "                self.generalizers[arg] = gen\n",
    "                self.generalized_trees[arg] = generalized_tree\n",
    "                self.generalized_args[arg] = all_terminals(generalized_tree)\n",
    "\n",
    "        return self.generalized_args"
   ]
  },
  {
   "cell_type": "code",
   "execution_count": 85,
   "metadata": {
    "execution": {
     "iopub.execute_input": "2025-10-26T17:48:42.387127Z",
     "iopub.status.busy": "2025-10-26T17:48:42.387042Z",
     "iopub.status.idle": "2025-10-26T17:48:42.388665Z",
     "shell.execute_reply": "2025-10-26T17:48:42.388447Z"
    },
    "slideshow": {
     "slide_type": "subslide"
    }
   },
   "outputs": [],
   "source": [
    "class DDSetDebugger(DDSetDebugger):\n",
    "    def __repr__(self) -> str:\n",
    "        \"\"\"Return a string representation of the generalized call.\"\"\"\n",
    "        return self.format_call(self.generalize())"
   ]
  },
  {
   "cell_type": "markdown",
   "metadata": {
    "slideshow": {
     "slide_type": "fragment"
    }
   },
   "source": [
    "Here is an example of how `DDSetDebugger` would be used on our `BAD_INPUT` example. Simply evaluating the debugger yields a call with a generalized input."
   ]
  },
  {
   "cell_type": "code",
   "execution_count": 86,
   "metadata": {
    "execution": {
     "iopub.execute_input": "2025-10-26T17:48:42.390331Z",
     "iopub.status.busy": "2025-10-26T17:48:42.390239Z",
     "iopub.status.idle": "2025-10-26T17:48:42.409099Z",
     "shell.execute_reply": "2025-10-26T17:48:42.408833Z"
    },
    "slideshow": {
     "slide_type": "fragment"
    }
   },
   "outputs": [
    {
     "data": {
      "text/plain": [
       "remove_html_markup(s='<opening-tag>\"<plain-text><closing-tag>')"
      ]
     },
     "execution_count": 86,
     "metadata": {},
     "output_type": "execute_result"
    }
   ],
   "source": [
    "with DDSetDebugger(SIMPLE_HTML_GRAMMAR) as dd:\n",
    "    remove_html_markup(BAD_INPUT)\n",
    "dd"
   ]
  },
  {
   "cell_type": "markdown",
   "metadata": {
    "slideshow": {
     "slide_type": "subslide"
    }
   },
   "source": [
    "### Fuzzing\n",
    "\n",
    "The `fuzz()` method produces instantiations of the abstract failure-inducing pattern."
   ]
  },
  {
   "cell_type": "code",
   "execution_count": 87,
   "metadata": {
    "execution": {
     "iopub.execute_input": "2025-10-26T17:48:42.410645Z",
     "iopub.status.busy": "2025-10-26T17:48:42.410528Z",
     "iopub.status.idle": "2025-10-26T17:48:42.412841Z",
     "shell.execute_reply": "2025-10-26T17:48:42.412650Z"
    },
    "slideshow": {
     "slide_type": "subslide"
    }
   },
   "outputs": [],
   "source": [
    "class DDSetDebugger(DDSetDebugger):\n",
    "    def fuzz_args(self) -> Dict[str, Any]:\n",
    "        \"\"\"\n",
    "        Return arguments randomly instantiated\n",
    "        from the abstract failure-inducing pattern.\n",
    "        \"\"\"\n",
    "        if not self.generalized_trees:\n",
    "            self.generalize()\n",
    "\n",
    "        args = copy.deepcopy(self.generalized_args)\n",
    "        for arg in args:\n",
    "            if arg not in self.generalized_trees:\n",
    "                continue\n",
    "\n",
    "            tree = self.generalized_trees[arg]\n",
    "            gen = self.generalizers[arg]\n",
    "            instantiated_tree = gen.fuzz_tree(tree)\n",
    "            args[arg] = all_terminals(instantiated_tree)\n",
    "\n",
    "        return args\n",
    "\n",
    "    def fuzz(self) -> str:\n",
    "        \"\"\"\n",
    "        Return a call with arguments randomly instantiated\n",
    "        from the abstract failure-inducing pattern.\n",
    "        \"\"\"\n",
    "        return self.format_call(self.fuzz_args())"
   ]
  },
  {
   "cell_type": "markdown",
   "metadata": {
    "slideshow": {
     "slide_type": "subslide"
    }
   },
   "source": [
    "Here are some axamples of `fuzz()` in action:"
   ]
  },
  {
   "cell_type": "code",
   "execution_count": 88,
   "metadata": {
    "execution": {
     "iopub.execute_input": "2025-10-26T17:48:42.414265Z",
     "iopub.status.busy": "2025-10-26T17:48:42.414152Z",
     "iopub.status.idle": "2025-10-26T17:48:42.416620Z",
     "shell.execute_reply": "2025-10-26T17:48:42.416230Z"
    },
    "slideshow": {
     "slide_type": "fragment"
    }
   },
   "outputs": [],
   "source": [
    "with DDSetDebugger(SIMPLE_HTML_GRAMMAR) as dd:\n",
    "    remove_html_markup(BAD_INPUT)"
   ]
  },
  {
   "cell_type": "code",
   "execution_count": 89,
   "metadata": {
    "execution": {
     "iopub.execute_input": "2025-10-26T17:48:42.417881Z",
     "iopub.status.busy": "2025-10-26T17:48:42.417774Z",
     "iopub.status.idle": "2025-10-26T17:48:42.436950Z",
     "shell.execute_reply": "2025-10-26T17:48:42.436730Z"
    },
    "slideshow": {
     "slide_type": "fragment"
    }
   },
   "outputs": [
    {
     "data": {
      "text/plain": [
       "'remove_html_markup(s=\\'<Xq>\"</j>\\')'"
      ]
     },
     "execution_count": 89,
     "metadata": {},
     "output_type": "execute_result"
    }
   ],
   "source": [
    "dd.fuzz()"
   ]
  },
  {
   "cell_type": "code",
   "execution_count": 90,
   "metadata": {
    "execution": {
     "iopub.execute_input": "2025-10-26T17:48:42.438129Z",
     "iopub.status.busy": "2025-10-26T17:48:42.438051Z",
     "iopub.status.idle": "2025-10-26T17:48:42.441371Z",
     "shell.execute_reply": "2025-10-26T17:48:42.441156Z"
    },
    "slideshow": {
     "slide_type": "fragment"
    }
   },
   "outputs": [
    {
     "data": {
      "text/plain": [
       "'remove_html_markup(s=\\'<L89B6b9vz>\"\\\\t</a3>\\')'"
      ]
     },
     "execution_count": 90,
     "metadata": {},
     "output_type": "execute_result"
    }
   ],
   "source": [
    "dd.fuzz()"
   ]
  },
  {
   "cell_type": "code",
   "execution_count": 91,
   "metadata": {
    "execution": {
     "iopub.execute_input": "2025-10-26T17:48:42.442687Z",
     "iopub.status.busy": "2025-10-26T17:48:42.442594Z",
     "iopub.status.idle": "2025-10-26T17:48:42.446655Z",
     "shell.execute_reply": "2025-10-26T17:48:42.446433Z"
    },
    "slideshow": {
     "slide_type": "fragment"
    }
   },
   "outputs": [
    {
     "data": {
      "text/plain": [
       "'remove_html_markup(s=\\'<Z VF=\\\\\\'\\\\\\' l=\"_-(\">\")</Y>\\')'"
      ]
     },
     "execution_count": 91,
     "metadata": {},
     "output_type": "execute_result"
    }
   ],
   "source": [
    "dd.fuzz()"
   ]
  },
  {
   "cell_type": "markdown",
   "metadata": {
    "slideshow": {
     "slide_type": "fragment"
    }
   },
   "source": [
    " These can be fed into `eval()`, set to produce more failing calls."
   ]
  },
  {
   "cell_type": "code",
   "execution_count": 92,
   "metadata": {
    "execution": {
     "iopub.execute_input": "2025-10-26T17:48:42.447856Z",
     "iopub.status.busy": "2025-10-26T17:48:42.447779Z",
     "iopub.status.idle": "2025-10-26T17:48:42.450325Z",
     "shell.execute_reply": "2025-10-26T17:48:42.450124Z"
    },
    "slideshow": {
     "slide_type": "subslide"
    }
   },
   "outputs": [
    {
     "name": "stderr",
     "output_type": "stream",
     "text": [
      "Traceback (most recent call last):\n",
      "  File \"/var/folders/n2/xd9445p97rb3xh7m1dfx8_4h0006ts/T/ipykernel_52206/2072246869.py\", line 2, in <module>\n",
      "    eval(dd.fuzz())\n",
      "    ~~~~^^^^^^^^^^^\n",
      "  File \"<string>\", line 1, in <module>\n",
      "  File \"/var/folders/n2/xd9445p97rb3xh7m1dfx8_4h0006ts/T/ipykernel_52206/2717035104.py\", line 17, in remove_html_markup\n",
      "    assert '<' not in out and '>' not in out\n",
      "           ^^^^^^^^^^^^^^^^^^^^^^^^^^^^^^^^^\n",
      "AssertionError (expected)\n"
     ]
    }
   ],
   "source": [
    "with ExpectError(AssertionError):\n",
    "    eval(dd.fuzz())"
   ]
  },
  {
   "cell_type": "markdown",
   "metadata": {
    "slideshow": {
     "slide_type": "slide"
    }
   },
   "source": [
    "## More Examples\n",
    "\n",
    "Let us apply `DDSetDebugger` on more examples."
   ]
  },
  {
   "cell_type": "markdown",
   "metadata": {
    "slideshow": {
     "slide_type": "subslide"
    }
   },
   "source": [
    "### Square Root\n",
    "\n",
    "Our first example is the `square_root()` function from [the chapter on assertions](Assertions.ipynb)."
   ]
  },
  {
   "cell_type": "code",
   "execution_count": 93,
   "metadata": {
    "execution": {
     "iopub.execute_input": "2025-10-26T17:48:42.451489Z",
     "iopub.status.busy": "2025-10-26T17:48:42.451415Z",
     "iopub.status.idle": "2025-10-26T17:48:42.452890Z",
     "shell.execute_reply": "2025-10-26T17:48:42.452648Z"
    },
    "slideshow": {
     "slide_type": "skip"
    }
   },
   "outputs": [],
   "source": [
    "from Assertions import square_root  # minor dependency"
   ]
  },
  {
   "cell_type": "markdown",
   "metadata": {
    "slideshow": {
     "slide_type": "fragment"
    }
   },
   "source": [
    "The `square_root()` function fails on a value of `-1`:"
   ]
  },
  {
   "cell_type": "code",
   "execution_count": 94,
   "metadata": {
    "execution": {
     "iopub.execute_input": "2025-10-26T17:48:42.454010Z",
     "iopub.status.busy": "2025-10-26T17:48:42.453936Z",
     "iopub.status.idle": "2025-10-26T17:48:42.455765Z",
     "shell.execute_reply": "2025-10-26T17:48:42.455529Z"
    },
    "slideshow": {
     "slide_type": "subslide"
    }
   },
   "outputs": [
    {
     "name": "stderr",
     "output_type": "stream",
     "text": [
      "Traceback (most recent call last):\n",
      "  File \"/var/folders/n2/xd9445p97rb3xh7m1dfx8_4h0006ts/T/ipykernel_52206/1205325604.py\", line 2, in <module>\n",
      "    square_root(-1)\n",
      "    ~~~~~~~~~~~^^^^\n",
      "  File \"Assertions.ipynb\", line 55, in square_root\n",
      "    assert x >= 0  # precondition\n",
      "           ^^^^^^\n",
      "AssertionError (expected)\n"
     ]
    }
   ],
   "source": [
    "with ExpectError(AssertionError):\n",
    "    square_root(-1)"
   ]
  },
  {
   "cell_type": "markdown",
   "metadata": {
    "slideshow": {
     "slide_type": "fragment"
    }
   },
   "source": [
    "We define a grammar for its arguments:"
   ]
  },
  {
   "cell_type": "code",
   "execution_count": 95,
   "metadata": {
    "button": false,
    "execution": {
     "iopub.execute_input": "2025-10-26T17:48:42.456987Z",
     "iopub.status.busy": "2025-10-26T17:48:42.456911Z",
     "iopub.status.idle": "2025-10-26T17:48:42.458536Z",
     "shell.execute_reply": "2025-10-26T17:48:42.458321Z"
    },
    "new_sheet": false,
    "run_control": {
     "read_only": false
    },
    "slideshow": {
     "slide_type": "subslide"
    }
   },
   "outputs": [],
   "source": [
    "INT_GRAMMAR: Grammar = {\n",
    "    \"<start>\":\n",
    "        [\"<int>\"],\n",
    "\n",
    "    \"<int>\":\n",
    "        [\"<positive-int>\", \"-<positive-int>\"],\n",
    "\n",
    "    \"<positive-int>\":\n",
    "        [\"<digit>\", \"<nonzero-digit><positive-int>\"],\n",
    "\n",
    "    \"<nonzero-digit>\": list(\"123456789\"),\n",
    "    \n",
    "    \"<digit>\": list(string.digits),\n",
    "}"
   ]
  },
  {
   "cell_type": "markdown",
   "metadata": {
    "slideshow": {
     "slide_type": "fragment"
    }
   },
   "source": [
    "The test function takes a string and converts it into an integer:"
   ]
  },
  {
   "cell_type": "code",
   "execution_count": 96,
   "metadata": {
    "execution": {
     "iopub.execute_input": "2025-10-26T17:48:42.459672Z",
     "iopub.status.busy": "2025-10-26T17:48:42.459585Z",
     "iopub.status.idle": "2025-10-26T17:48:42.461023Z",
     "shell.execute_reply": "2025-10-26T17:48:42.460817Z"
    },
    "slideshow": {
     "slide_type": "subslide"
    }
   },
   "outputs": [],
   "source": [
    "def square_root_test(s: str) -> None:\n",
    "    return square_root(int(s))"
   ]
  },
  {
   "cell_type": "markdown",
   "metadata": {
    "slideshow": {
     "slide_type": "fragment"
    }
   },
   "source": [
    "With this, we can go and see whether we can generalize a failing input:"
   ]
  },
  {
   "cell_type": "code",
   "execution_count": 97,
   "metadata": {
    "execution": {
     "iopub.execute_input": "2025-10-26T17:48:42.462284Z",
     "iopub.status.busy": "2025-10-26T17:48:42.462212Z",
     "iopub.status.idle": "2025-10-26T17:48:42.463990Z",
     "shell.execute_reply": "2025-10-26T17:48:42.463785Z"
    },
    "slideshow": {
     "slide_type": "fragment"
    }
   },
   "outputs": [],
   "source": [
    "with DDSetDebugger(INT_GRAMMAR, log=True) as dd_square_root:\n",
    "    square_root_test(\"-1\")"
   ]
  },
  {
   "cell_type": "code",
   "execution_count": 98,
   "metadata": {
    "execution": {
     "iopub.execute_input": "2025-10-26T17:48:42.465031Z",
     "iopub.status.busy": "2025-10-26T17:48:42.464954Z",
     "iopub.status.idle": "2025-10-26T17:48:42.468167Z",
     "shell.execute_reply": "2025-10-26T17:48:42.467939Z"
    },
    "slideshow": {
     "slide_type": "subslide"
    }
   },
   "outputs": [
    {
     "name": "stdout",
     "output_type": "stream",
     "text": [
      "Testing '-8'...FAIL (AssertionError)\n",
      "Testing '-316'...FAIL (AssertionError)\n",
      "Testing '8'...PASS\n",
      "Testing '684'...PASS\n",
      "Testing '-3'...FAIL (AssertionError)\n",
      "Testing '-870'...FAIL (AssertionError)\n",
      "Testing '-3'...FAIL (AssertionError)\n",
      "Testing '-3451'...FAIL (AssertionError)\n",
      "Testing '-8'...FAIL (AssertionError)\n",
      "Testing '-63213'...FAIL (AssertionError)\n",
      "Testing '-26'...FAIL (AssertionError)\n",
      "Testing '-4'...FAIL (AssertionError)\n",
      "Testing '-6'...FAIL (AssertionError)\n",
      "Testing '-8'...FAIL (AssertionError)\n"
     ]
    },
    {
     "data": {
      "text/plain": [
       "square_root_test(s='-<positive-int>')"
      ]
     },
     "execution_count": 98,
     "metadata": {},
     "output_type": "execute_result"
    }
   ],
   "source": [
    "dd_square_root"
   ]
  },
  {
   "cell_type": "markdown",
   "metadata": {
    "slideshow": {
     "slide_type": "subslide"
    }
   },
   "source": [
    "Success! Using `DDSetDebugger`, we have nicely generalized the failure-inducing input to a pattern `-<positive-int>` that translates into \"any negative number\"."
   ]
  },
  {
   "cell_type": "markdown",
   "metadata": {
    "slideshow": {
     "slide_type": "subslide"
    }
   },
   "source": [
    "### Middle\n",
    "\n",
    "The `middle()` function from [the chapter on statistical debugging](StatisticalDebugger.ipynb) returns the middle of three numerical values `x`, `y`, and `z`."
   ]
  },
  {
   "cell_type": "code",
   "execution_count": 99,
   "metadata": {
    "execution": {
     "iopub.execute_input": "2025-10-26T17:48:42.469495Z",
     "iopub.status.busy": "2025-10-26T17:48:42.469417Z",
     "iopub.status.idle": "2025-10-26T17:48:43.507971Z",
     "shell.execute_reply": "2025-10-26T17:48:43.507615Z"
    },
    "slideshow": {
     "slide_type": "skip"
    }
   },
   "outputs": [],
   "source": [
    "from StatisticalDebugger import middle  # minor dependency"
   ]
  },
  {
   "cell_type": "markdown",
   "metadata": {
    "slideshow": {
     "slide_type": "fragment"
    }
   },
   "source": [
    "We set up a test function that evaluates a string – a tuple of three arguments – and then tests `middle()`:"
   ]
  },
  {
   "cell_type": "code",
   "execution_count": 100,
   "metadata": {
    "execution": {
     "iopub.execute_input": "2025-10-26T17:48:43.509850Z",
     "iopub.status.busy": "2025-10-26T17:48:43.509689Z",
     "iopub.status.idle": "2025-10-26T17:48:43.511658Z",
     "shell.execute_reply": "2025-10-26T17:48:43.511383Z"
    },
    "slideshow": {
     "slide_type": "fragment"
    }
   },
   "outputs": [],
   "source": [
    "def middle_test(s: str) -> None:\n",
    "    x, y, z = eval(s)\n",
    "    assert middle(x, y, z) == sorted([x, y, z])[1]"
   ]
  },
  {
   "cell_type": "markdown",
   "metadata": {
    "slideshow": {
     "slide_type": "fragment"
    }
   },
   "source": [
    "The grammar for the three numbers simply puts three integers together:"
   ]
  },
  {
   "cell_type": "code",
   "execution_count": 101,
   "metadata": {
    "button": false,
    "execution": {
     "iopub.execute_input": "2025-10-26T17:48:43.513161Z",
     "iopub.status.busy": "2025-10-26T17:48:43.513028Z",
     "iopub.status.idle": "2025-10-26T17:48:43.514803Z",
     "shell.execute_reply": "2025-10-26T17:48:43.514557Z"
    },
    "new_sheet": false,
    "run_control": {
     "read_only": false
    },
    "slideshow": {
     "slide_type": "subslide"
    }
   },
   "outputs": [],
   "source": [
    "XYZ_GRAMMAR: Grammar = {\n",
    "    \"<start>\":\n",
    "        [\"<int>, <int>, <int>\"],\n",
    "\n",
    "    \"<int>\":\n",
    "        [\"<positive-int>\", \"-<positive-int>\"],\n",
    "\n",
    "    \"<positive-int>\":\n",
    "        [\"<digit>\", \"<nonzero-digit><positive-int>\"],\n",
    "\n",
    "    \"<nonzero-digit>\": list(\"123456789\"),\n",
    "    \n",
    "    \"<digit>\": list(string.digits),\n",
    "}"
   ]
  },
  {
   "cell_type": "markdown",
   "metadata": {
    "slideshow": {
     "slide_type": "fragment"
    }
   },
   "source": [
    "Here is an example of `middle()` failing:"
   ]
  },
  {
   "cell_type": "code",
   "execution_count": 102,
   "metadata": {
    "execution": {
     "iopub.execute_input": "2025-10-26T17:48:43.516248Z",
     "iopub.status.busy": "2025-10-26T17:48:43.516135Z",
     "iopub.status.idle": "2025-10-26T17:48:43.518199Z",
     "shell.execute_reply": "2025-10-26T17:48:43.517934Z"
    },
    "slideshow": {
     "slide_type": "subslide"
    }
   },
   "outputs": [
    {
     "name": "stderr",
     "output_type": "stream",
     "text": [
      "Traceback (most recent call last):\n",
      "  File \"/var/folders/n2/xd9445p97rb3xh7m1dfx8_4h0006ts/T/ipykernel_52206/982110330.py\", line 2, in <module>\n",
      "    middle_test(\"2, 1, 3\")\n",
      "    ~~~~~~~~~~~^^^^^^^^^^^\n",
      "  File \"/var/folders/n2/xd9445p97rb3xh7m1dfx8_4h0006ts/T/ipykernel_52206/3079946275.py\", line 3, in middle_test\n",
      "    assert middle(x, y, z) == sorted([x, y, z])[1]\n",
      "           ^^^^^^^^^^^^^^^^^^^^^^^^^^^^^^^^^^^^^^^\n",
      "AssertionError (expected)\n"
     ]
    }
   ],
   "source": [
    "with ExpectError(AssertionError):\n",
    "    middle_test(\"2, 1, 3\")"
   ]
  },
  {
   "cell_type": "markdown",
   "metadata": {
    "slideshow": {
     "slide_type": "fragment"
    }
   },
   "source": [
    "What happens if we debug this with `DDSetDebugger`? We see that there is no abstraction at the syntax level that could characterize this failure:"
   ]
  },
  {
   "cell_type": "code",
   "execution_count": 103,
   "metadata": {
    "execution": {
     "iopub.execute_input": "2025-10-26T17:48:43.519386Z",
     "iopub.status.busy": "2025-10-26T17:48:43.519287Z",
     "iopub.status.idle": "2025-10-26T17:48:43.521100Z",
     "shell.execute_reply": "2025-10-26T17:48:43.520893Z"
    },
    "slideshow": {
     "slide_type": "subslide"
    }
   },
   "outputs": [],
   "source": [
    "with DDSetDebugger(XYZ_GRAMMAR, log=True) as dd_middle:\n",
    "    middle_test(\"2, 1, 3\")"
   ]
  },
  {
   "cell_type": "code",
   "execution_count": 104,
   "metadata": {
    "execution": {
     "iopub.execute_input": "2025-10-26T17:48:43.522234Z",
     "iopub.status.busy": "2025-10-26T17:48:43.522162Z",
     "iopub.status.idle": "2025-10-26T17:48:43.526164Z",
     "shell.execute_reply": "2025-10-26T17:48:43.525977Z"
    },
    "slideshow": {
     "slide_type": "subslide"
    }
   },
   "outputs": [
    {
     "name": "stdout",
     "output_type": "stream",
     "text": [
      "Testing '7, 4591, -0'...PASS\n",
      "Testing '6, 1, 3'...PASS\n",
      "Testing '7, 1, 3'...PASS\n",
      "Testing '7, 1, 3'...PASS\n",
      "Testing '2, -7, 3'...FAIL (AssertionError)\n",
      "Testing '2, 0, 3'...FAIL (AssertionError)\n",
      "Testing '2, -89, 3'...FAIL (AssertionError)\n",
      "Testing '2, 973, 3'...PASS\n",
      "Testing '2, 11, 3'...PASS\n",
      "Testing '2, 8, 3'...PASS\n",
      "Testing '2, 1, 9'...FAIL (AssertionError)\n",
      "Testing '2, 1, -16'...PASS\n",
      "Testing '2, 1, 35'...FAIL (AssertionError)\n",
      "Testing '2, 1, 6'...FAIL (AssertionError)\n",
      "Testing '2, 1, 53'...FAIL (AssertionError)\n",
      "Testing '2, 1, 5'...FAIL (AssertionError)\n",
      "Testing '2, 1, 737'...FAIL (AssertionError)\n",
      "Testing '2, 1, 28'...FAIL (AssertionError)\n",
      "Testing '2, 1, 3'...FAIL (AssertionError)\n",
      "Testing '2, 1, 5'...FAIL (AssertionError)\n",
      "Testing '2, 1, 5'...FAIL (AssertionError)\n",
      "Testing '2, 1, 56'...FAIL (AssertionError)\n"
     ]
    },
    {
     "data": {
      "text/plain": [
       "middle_test(s='2, 1, <positive-int>')"
      ]
     },
     "execution_count": 104,
     "metadata": {},
     "output_type": "execute_result"
    }
   ],
   "source": [
    "dd_middle"
   ]
  },
  {
   "cell_type": "markdown",
   "metadata": {
    "slideshow": {
     "slide_type": "subslide"
    }
   },
   "source": [
    "So, while there are failures that can be nicely characterized using abstractions of input elements, `middle()` is not one of them. Which is good, because this means that all our other techniques such as [statistical debugging](StatisticalDebugger.ipynb) and [dynamic invariants](DynamicInvariants.ipynb) still have a use case :-)"
   ]
  },
  {
   "cell_type": "markdown",
   "metadata": {
    "button": false,
    "new_sheet": true,
    "run_control": {
     "read_only": false
    },
    "slideshow": {
     "slide_type": "slide"
    }
   },
   "source": [
    "## Lessons Learned\n",
    "\n",
    "* Generalizing failure-inducing inputs can yield important information for which inputs and under which circumstances a failure occurs.\n",
    "* Generalizing failure-inducing inputs is most useful if the input can be split into multiple elements, of which only a part are relevant for producing the error.\n",
    "* As they help in _parsing_ and _producing_ input, _grammars_ can play an important role in testing and debugging."
   ]
  },
  {
   "cell_type": "markdown",
   "metadata": {
    "button": false,
    "new_sheet": false,
    "run_control": {
     "read_only": false
    },
    "slideshow": {
     "slide_type": "slide"
    }
   },
   "source": [
    "## Next Steps\n",
    "\n",
    "The potential for determining how input features relate to bugs is not nearly explored yet. \n",
    "The ALHAZEN work by Kampmann et al. \\cite{Kampmann2020} generalizes over DDSET differently, by investigating _semantic_ features of input elements such as their numeric interpretation or length and their correlation with failures. Like DDSET, ALHAZEN also uses a feedback loop to strengthen or refute its hypotheses.\n",
    "\n",
    "Our [next chapter](Alhazen.ipynb) introduces ALHAZEN."
   ]
  },
  {
   "attachments": {},
   "cell_type": "markdown",
   "metadata": {
    "slideshow": {
     "slide_type": "slide"
    }
   },
   "source": [
    "## Background\n",
    "\n",
    "Our `DDSetDebugger` class implements the DDSET algorithm as introduced by Gopinath et al. in \\cite{Gopinath2020}. A [full-fledged implementation of DDSET](https://rahul.gopinath.org/post/2020/07/15/ddset/) with plenty of details and experiments is available as a Jupyter Notebook. Our implementation follows the [simplified implementation of DDSET, as described by Gopinath](https://rahul.gopinath.org/post/2020/08/03/simple-ddset/).\n",
    "\n",
    "In \\cite{Gopinath2021}, Gopinath has extended the concept of DDSET further. His work on _evocative expressions_ introduces a _pattern language_ in which arbitrary DDSET-like patterns can be combined into Boolean formula that even more precisely capture and produce failure circumstances. In particular, evocative expressions can _specialize_ grammars towards Boolean pattern combinations, thus allowing for great flexibility in testing and debugging."
   ]
  },
  {
   "cell_type": "markdown",
   "metadata": {
    "button": false,
    "new_sheet": true,
    "run_control": {
     "read_only": false
    },
    "slideshow": {
     "slide_type": "slide"
    }
   },
   "source": [
    "## Exercises"
   ]
  },
  {
   "cell_type": "markdown",
   "metadata": {
    "button": false,
    "new_sheet": false,
    "run_control": {
     "read_only": false
    },
    "slideshow": {
     "slide_type": "subslide"
    }
   },
   "source": [
    "### Exercise 1: Generalization and Specialization\n",
    "\n",
    "Consider the abstract failure-inducing input for `BAD_INPUT` we determined:"
   ]
  },
  {
   "cell_type": "code",
   "execution_count": 110,
   "metadata": {
    "execution": {
     "iopub.execute_input": "2025-10-26T17:48:44.431988Z",
     "iopub.status.busy": "2025-10-26T17:48:44.431861Z",
     "iopub.status.idle": "2025-10-26T17:48:44.434208Z",
     "shell.execute_reply": "2025-10-26T17:48:44.433981Z"
    },
    "slideshow": {
     "slide_type": "fragment"
    }
   },
   "outputs": [
    {
     "data": {
      "text/plain": [
       "'<opening-tag>\"<plain-text><closing-tag>'"
      ]
     },
     "execution_count": 110,
     "metadata": {},
     "output_type": "execute_result"
    }
   ],
   "source": [
    "all_terminals(abstract_failure_inducing_input)"
   ]
  },
  {
   "cell_type": "markdown",
   "metadata": {
    "button": false,
    "new_sheet": false,
    "run_control": {
     "read_only": false
    },
    "slideshow": {
     "slide_type": "fragment"
    },
    "solution2": "hidden",
    "solution2_first": true
   },
   "source": [
    "1. How does it change if you increase the number of test runs, using `max_tries_for_generalization`?\n",
    "2. What is the success rate of the new pattern?"
   ]
  },
  {
   "cell_type": "markdown",
   "metadata": {
    "slideshow": {
     "slide_type": "skip"
    },
    "solution2": "hidden"
   },
   "source": [
    "**Solution.** We can compute this by increasing `max_tries_for_generalization`:"
   ]
  },
  {
   "cell_type": "code",
   "execution_count": 111,
   "metadata": {
    "execution": {
     "iopub.execute_input": "2025-10-26T17:48:44.435467Z",
     "iopub.status.busy": "2025-10-26T17:48:44.435363Z",
     "iopub.status.idle": "2025-10-26T17:48:44.530030Z",
     "shell.execute_reply": "2025-10-26T17:48:44.529750Z"
    },
    "slideshow": {
     "slide_type": "skip"
    },
    "solution2": "hidden"
   },
   "outputs": [],
   "source": [
    "more_precise_bitg = \\\n",
    "    cast(TreeGeneralizer, bad_input_tree_generalizer(max_tries_for_generalization=100))\n",
    "\n",
    "more_precise_abstract_failure_inducing_input = \\\n",
    "    more_precise_bitg.generalize()"
   ]
  },
  {
   "cell_type": "code",
   "execution_count": 112,
   "metadata": {
    "cell_style": "split",
    "execution": {
     "iopub.execute_input": "2025-10-26T17:48:44.531430Z",
     "iopub.status.busy": "2025-10-26T17:48:44.531335Z",
     "iopub.status.idle": "2025-10-26T17:48:44.533361Z",
     "shell.execute_reply": "2025-10-26T17:48:44.533136Z"
    },
    "slideshow": {
     "slide_type": "skip"
    },
    "solution2": "hidden"
   },
   "outputs": [
    {
     "data": {
      "text/plain": [
       "'<lt><id><gt>\"<plain-text><closing-tag>'"
      ]
     },
     "execution_count": 112,
     "metadata": {},
     "output_type": "execute_result"
    }
   ],
   "source": [
    "all_terminals(more_precise_abstract_failure_inducing_input)"
   ]
  },
  {
   "cell_type": "markdown",
   "metadata": {
    "slideshow": {
     "slide_type": "skip"
    },
    "solution2": "hidden"
   },
   "source": [
    "We see that we still have an opening tag; however, it no longer assumes attributes."
   ]
  },
  {
   "cell_type": "markdown",
   "metadata": {
    "slideshow": {
     "slide_type": "skip"
    },
    "solution2": "hidden"
   },
   "source": [
    "The success rate can be computed as before:"
   ]
  },
  {
   "cell_type": "code",
   "execution_count": 113,
   "metadata": {
    "execution": {
     "iopub.execute_input": "2025-10-26T17:48:44.534618Z",
     "iopub.status.busy": "2025-10-26T17:48:44.534545Z",
     "iopub.status.idle": "2025-10-26T17:48:45.415641Z",
     "shell.execute_reply": "2025-10-26T17:48:45.415365Z"
    },
    "slideshow": {
     "slide_type": "skip"
    },
    "solution2": "hidden"
   },
   "outputs": [],
   "source": [
    "successes = 0\n",
    "failures = 0\n",
    "trials = 1000\n",
    "\n",
    "for i in range(trials):\n",
    "    test_input = all_terminals(\n",
    "        more_precise_bitg.fuzz_tree(\n",
    "            more_precise_abstract_failure_inducing_input))\n",
    "    try:\n",
    "        remove_html_markup(test_input)\n",
    "    except AssertionError:\n",
    "        successes += 1\n",
    "    else:\n",
    "        failures += 1"
   ]
  },
  {
   "cell_type": "code",
   "execution_count": 114,
   "metadata": {
    "execution": {
     "iopub.execute_input": "2025-10-26T17:48:45.417079Z",
     "iopub.status.busy": "2025-10-26T17:48:45.416988Z",
     "iopub.status.idle": "2025-10-26T17:48:45.419206Z",
     "shell.execute_reply": "2025-10-26T17:48:45.418939Z"
    },
    "slideshow": {
     "slide_type": "skip"
    },
    "solution2": "hidden"
   },
   "outputs": [
    {
     "data": {
      "text/plain": [
       "(993, 7)"
      ]
     },
     "execution_count": 114,
     "metadata": {},
     "output_type": "execute_result"
    }
   ],
   "source": [
    "successes, failures"
   ]
  },
  {
   "cell_type": "code",
   "execution_count": 115,
   "metadata": {
    "execution": {
     "iopub.execute_input": "2025-10-26T17:48:45.420433Z",
     "iopub.status.busy": "2025-10-26T17:48:45.420345Z",
     "iopub.status.idle": "2025-10-26T17:48:45.422249Z",
     "shell.execute_reply": "2025-10-26T17:48:45.422043Z"
    },
    "slideshow": {
     "slide_type": "skip"
    },
    "solution2": "hidden"
   },
   "outputs": [
    {
     "data": {
      "text/plain": [
       "0.007"
      ]
     },
     "execution_count": 115,
     "metadata": {},
     "output_type": "execute_result"
    }
   ],
   "source": [
    "failures / 1000"
   ]
  },
  {
   "cell_type": "markdown",
   "metadata": {
    "slideshow": {
     "slide_type": "skip"
    },
    "solution2": "hidden"
   },
   "source": [
    "We see that the success rate is now more than 99%, which is better than before. On the other hand, the pattern is now overly _special_, since there are `<opening-tags>` with attributes such that the failure occurs (but also some that cancel out the error)."
   ]
  }
 ],
 "metadata": {
  "ipub": {
   "bibliography": "fuzzingbook.bib",
   "toc": true
  },
  "kernelspec": {
   "display_name": "venv",
   "language": "python",
   "name": "python3"
  },
  "language_info": {
   "codemirror_mode": {
    "name": "ipython",
    "version": 3
   },
   "file_extension": ".py",
   "mimetype": "text/x-python",
   "name": "python",
   "nbconvert_exporter": "python",
   "pygments_lexer": "ipython3",
   "version": "3.13.4"
  },
  "toc": {
   "base_numbering": 1,
   "nav_menu": {},
   "number_sections": true,
   "sideBar": true,
   "skip_h1_title": true,
   "title_cell": "",
   "title_sidebar": "Contents",
   "toc_cell": false,
   "toc_position": {},
   "toc_section_display": true,
   "toc_window_display": true
  },
  "toc-autonumbering": false,
  "vscode": {
   "interpreter": {
    "hash": "0af4f07dd039d1b4e562c7a7d0340393b1c66f50605ac6af30beb81aa23b7ef5"
   }
  }
 },
 "nbformat": 4,
 "nbformat_minor": 4
}