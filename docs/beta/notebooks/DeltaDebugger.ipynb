{
 "cells": [
  {
   "cell_type": "markdown",
   "metadata": {
    "button": false,
    "new_sheet": false,
    "run_control": {
     "read_only": false
    },
    "slideshow": {
     "slide_type": "slide"
    }
   },
   "source": [
    "# Reducing Failure-Inducing Inputs\n",
    "\n",
    "A standard problem in debugging is this: Your program fails after processing some large input. Only a _part_ of this input, however, is responsible for the failure. _Reducing_ the input to a failure-inducing minimum not only eases debugging – it also helps in understanding why and when the program fails. In this chapter, we present techniques that _automatically reduce and simplify failure-inducing inputs to a minimum_, notably the popular _Delta Debugging_ technique."
   ]
  },
  {
   "cell_type": "code",
   "execution_count": 1,
   "metadata": {
    "execution": {
     "iopub.execute_input": "2025-10-26T17:47:39.458765Z",
     "iopub.status.busy": "2025-10-26T17:47:39.458023Z",
     "iopub.status.idle": "2025-10-26T17:47:40.145101Z",
     "shell.execute_reply": "2025-10-26T17:47:40.144798Z"
    },
    "slideshow": {
     "slide_type": "skip"
    }
   },
   "outputs": [
    {
     "data": {
      "text/html": [
       "\n",
       "        <iframe\n",
       "            width=\"640\"\n",
       "            height=\"360\"\n",
       "            src=\"https://www.youtube-nocookie.com/embed/6fmJ5l257bM\"\n",
       "            frameborder=\"0\"\n",
       "            allowfullscreen\n",
       "            \n",
       "        ></iframe>\n",
       "        "
      ],
      "text/plain": [
       "<IPython.lib.display.IFrame at 0x10b59ef90>"
      ]
     },
     "execution_count": 1,
     "metadata": {},
     "output_type": "execute_result"
    }
   ],
   "source": [
    "from bookutils import YouTubeVideo\n",
    "YouTubeVideo(\"6fmJ5l257bM\")"
   ]
  },
  {
   "cell_type": "markdown",
   "metadata": {
    "button": false,
    "new_sheet": false,
    "run_control": {
     "read_only": false
    },
    "slideshow": {
     "slide_type": "subslide"
    }
   },
   "source": [
    "**Prerequisites**\n",
    "\n",
    "* Using the \"delta debugging\" technique for reduction has no specific prerequisites.\n",
    "* To understand the `DeltaDebugger` implementation, reading [the chapter on tracing](Tracer.ipynb) is recommended."
   ]
  },
  {
   "attachments": {},
   "cell_type": "markdown",
   "metadata": {
    "button": false,
    "new_sheet": false,
    "run_control": {
     "read_only": false
    },
    "slideshow": {
     "slide_type": "fragment"
    }
   },
   "source": [
    "This chapter is adapted from [a similar chapter in \"The Fuzzing Book\"](https://www.fuzzingbook.org/html/Reducer.html). The material has been adapted to be independent of the `fuzzingbook` infrastructure, to build on general delta debugging (`dd`), and to provide a simpler invocation interface."
   ]
  },
  {
   "cell_type": "markdown",
   "metadata": {
    "slideshow": {
     "slide_type": "slide"
    }
   },
   "source": [
    "## Synopsis\n",
    "To [use the code provided in this chapter](Importing.ipynb), write\n",
    "\n",
    "```python\n",
    ">>> from debuggingbook.DeltaDebugger import <identifier>\n",
    "```\n",
    "\n",
    "and then make use of the following features.\n",
    "\n",
    "**Note**: The examples in this section only work after the rest of the cells have been executed.\n"
   ]
  },
  {
   "cell_type": "markdown",
   "metadata": {
    "slideshow": {
     "slide_type": "fragment"
    }
   },
   "source": [
    "Here is a simple example: An arithmetic expression causes an error in the Python interpreter:"
   ]
  },
  {
   "cell_type": "code",
   "execution_count": 184,
   "metadata": {
    "execution": {
     "iopub.execute_input": "2025-10-26T17:47:42.793193Z",
     "iopub.status.busy": "2025-10-26T17:47:42.793106Z",
     "iopub.status.idle": "2025-10-26T17:47:42.794827Z",
     "shell.execute_reply": "2025-10-26T17:47:42.794585Z"
    },
    "slideshow": {
     "slide_type": "fragment"
    }
   },
   "outputs": [],
   "source": [
    "def myeval(inp: str) -> Any:\n",
    "    return eval(inp)"
   ]
  },
  {
   "cell_type": "code",
   "execution_count": 185,
   "metadata": {
    "execution": {
     "iopub.execute_input": "2025-10-26T17:47:42.796014Z",
     "iopub.status.busy": "2025-10-26T17:47:42.795938Z",
     "iopub.status.idle": "2025-10-26T17:47:42.797871Z",
     "shell.execute_reply": "2025-10-26T17:47:42.797615Z"
    },
    "slideshow": {
     "slide_type": "subslide"
    }
   },
   "outputs": [
    {
     "name": "stderr",
     "output_type": "stream",
     "text": [
      "Traceback (most recent call last):\n",
      "  File \"/var/folders/n2/xd9445p97rb3xh7m1dfx8_4h0006ts/T/ipykernel_51600/4002351332.py\", line 2, in <module>\n",
      "    myeval('1 + 2 * 3 / 0')\n",
      "    ~~~~~~^^^^^^^^^^^^^^^^^\n",
      "  File \"/var/folders/n2/xd9445p97rb3xh7m1dfx8_4h0006ts/T/ipykernel_51600/2200911420.py\", line 2, in myeval\n",
      "    return eval(inp)\n",
      "  File \"<string>\", line 1, in <module>\n",
      "ZeroDivisionError: division by zero (expected)\n"
     ]
    }
   ],
   "source": [
    "with ExpectError(ZeroDivisionError):\n",
    "    myeval('1 + 2 * 3 / 0')"
   ]
  },
  {
   "cell_type": "markdown",
   "metadata": {
    "slideshow": {
     "slide_type": "subslide"
    }
   },
   "source": [
    "Can we reduce this input to a minimum? _Delta Debugging_ is a simple and robust reduction algorithm. We provide a `DeltaDebugger` class that is used in conjunction with a (failing) function call:\n",
    "\n",
    "```python\n",
    "with DeltaDebugger() as dd:\n",
    "    fun(args...)\n",
    "dd\n",
    "```\n",
    "\n",
    "The class automatically determines minimal arguments that cause the function to fail with the same exception as the original. Printing out the class object reveals the minimized call."
   ]
  },
  {
   "cell_type": "code",
   "execution_count": 186,
   "metadata": {
    "execution": {
     "iopub.execute_input": "2025-10-26T17:47:42.799023Z",
     "iopub.status.busy": "2025-10-26T17:47:42.798952Z",
     "iopub.status.idle": "2025-10-26T17:47:42.801772Z",
     "shell.execute_reply": "2025-10-26T17:47:42.801436Z"
    },
    "slideshow": {
     "slide_type": "subslide"
    }
   },
   "outputs": [
    {
     "data": {
      "text/plain": [
       "myeval(inp='3/0')"
      ]
     },
     "execution_count": 186,
     "metadata": {},
     "output_type": "execute_result"
    }
   ],
   "source": [
    "with DeltaDebugger() as dd:\n",
    "    myeval('1 + 2 * 3 / 0')\n",
    "dd"
   ]
  },
  {
   "cell_type": "markdown",
   "metadata": {
    "slideshow": {
     "slide_type": "fragment"
    }
   },
   "source": [
    "The input is reduced to the minimum: We get the essence of the division by zero."
   ]
  },
  {
   "cell_type": "markdown",
   "metadata": {
    "slideshow": {
     "slide_type": "fragment"
    }
   },
   "source": [
    "There also is an interface to access the reduced input(s) programmatically. The method `min_args()` returns a dictionary in which all function arguments are minimized:"
   ]
  },
  {
   "cell_type": "code",
   "execution_count": 187,
   "metadata": {
    "execution": {
     "iopub.execute_input": "2025-10-26T17:47:42.803392Z",
     "iopub.status.busy": "2025-10-26T17:47:42.803276Z",
     "iopub.status.idle": "2025-10-26T17:47:42.805582Z",
     "shell.execute_reply": "2025-10-26T17:47:42.805353Z"
    },
    "slideshow": {
     "slide_type": "fragment"
    }
   },
   "outputs": [
    {
     "data": {
      "text/plain": [
       "{'inp': '3/0'}"
      ]
     },
     "execution_count": 187,
     "metadata": {},
     "output_type": "execute_result"
    }
   ],
   "source": [
    "dd.min_args()"
   ]
  },
  {
   "cell_type": "markdown",
   "metadata": {
    "slideshow": {
     "slide_type": "fragment"
    }
   },
   "source": [
    "In contrast, `max_args()` returns a dictionary in which all function arguments are maximized, but still pass:"
   ]
  },
  {
   "cell_type": "code",
   "execution_count": 188,
   "metadata": {
    "execution": {
     "iopub.execute_input": "2025-10-26T17:47:42.806844Z",
     "iopub.status.busy": "2025-10-26T17:47:42.806750Z",
     "iopub.status.idle": "2025-10-26T17:47:42.808846Z",
     "shell.execute_reply": "2025-10-26T17:47:42.808642Z"
    },
    "slideshow": {
     "slide_type": "fragment"
    }
   },
   "outputs": [
    {
     "data": {
      "text/plain": [
       "{'inp': '1 + 2 * 3  '}"
      ]
     },
     "execution_count": 188,
     "metadata": {},
     "output_type": "execute_result"
    }
   ],
   "source": [
    "dd.max_args()"
   ]
  },
  {
   "cell_type": "markdown",
   "metadata": {
    "slideshow": {
     "slide_type": "subslide"
    }
   },
   "source": [
    "The method `min_arg_diff()` returns a triple of \n",
    "* passing input,\n",
    "* failing input, and\n",
    "* their minimal failure-inducing difference:"
   ]
  },
  {
   "cell_type": "code",
   "execution_count": 189,
   "metadata": {
    "execution": {
     "iopub.execute_input": "2025-10-26T17:47:42.809985Z",
     "iopub.status.busy": "2025-10-26T17:47:42.809896Z",
     "iopub.status.idle": "2025-10-26T17:47:42.811954Z",
     "shell.execute_reply": "2025-10-26T17:47:42.811723Z"
    },
    "slideshow": {
     "slide_type": "fragment"
    }
   },
   "outputs": [
    {
     "data": {
      "text/plain": [
       "({'inp': ' 3 '}, {'inp': ' 3 /0'}, {'inp': '/0'})"
      ]
     },
     "execution_count": 189,
     "metadata": {},
     "output_type": "execute_result"
    }
   ],
   "source": [
    "dd.min_arg_diff()"
   ]
  },
  {
   "cell_type": "markdown",
   "metadata": {
    "slideshow": {
     "slide_type": "fragment"
    }
   },
   "source": [
    "And you can also access the function itself, as well as its original arguments."
   ]
  },
  {
   "cell_type": "code",
   "execution_count": 190,
   "metadata": {
    "execution": {
     "iopub.execute_input": "2025-10-26T17:47:42.813143Z",
     "iopub.status.busy": "2025-10-26T17:47:42.813057Z",
     "iopub.status.idle": "2025-10-26T17:47:42.814972Z",
     "shell.execute_reply": "2025-10-26T17:47:42.814740Z"
    },
    "slideshow": {
     "slide_type": "fragment"
    }
   },
   "outputs": [
    {
     "data": {
      "text/plain": [
       "('myeval', {'inp': '1 + 2 * 3 / 0'})"
      ]
     },
     "execution_count": 190,
     "metadata": {},
     "output_type": "execute_result"
    }
   ],
   "source": [
    "dd.function().__name__, dd.args()"
   ]
  },
  {
   "cell_type": "markdown",
   "metadata": {
    "slideshow": {
     "slide_type": "fragment"
    }
   },
   "source": [
    "`DeltaDebugger` processes (i.e., minimizes or maximizes) all arguments that support a `len()` operation and that can be indexed – notably _strings_ and _lists_. If a function has multiple arguments, all arguments that can be processed will be processed."
   ]
  },
  {
   "cell_type": "markdown",
   "metadata": {
    "slideshow": {
     "slide_type": "subslide"
    }
   },
   "source": [
    "This chapter also provides a number of superclasses to `DeltaDebugger`, notably `CallCollector`, which obtains the first function call for `DeltaDebugger`. `CallReducer` classes allow for implementing alternate call reduction strategies."
   ]
  },
  {
   "cell_type": "code",
   "execution_count": 191,
   "metadata": {
    "execution": {
     "iopub.execute_input": "2025-10-26T17:47:42.816202Z",
     "iopub.status.busy": "2025-10-26T17:47:42.816105Z",
     "iopub.status.idle": "2025-10-26T17:47:42.817563Z",
     "shell.execute_reply": "2025-10-26T17:47:42.817297Z"
    },
    "slideshow": {
     "slide_type": "fragment"
    },
    "tags": [
     "remove-input"
    ]
   },
   "outputs": [],
   "source": [
    "# ignore\n",
    "from ClassDiagram import display_class_hierarchy"
   ]
  },
  {
   "cell_type": "code",
   "execution_count": 192,
   "metadata": {
    "execution": {
     "iopub.execute_input": "2025-10-26T17:47:42.818608Z",
     "iopub.status.busy": "2025-10-26T17:47:42.818522Z",
     "iopub.status.idle": "2025-10-26T17:47:43.594769Z",
     "shell.execute_reply": "2025-10-26T17:47:43.594365Z"
    },
    "slideshow": {
     "slide_type": "subslide"
    },
    "tags": [
     "remove-input"
    ]
   },
   "outputs": [
    {
     "data": {
      "image/svg+xml": [
       "<?xml version=\"1.0\" encoding=\"UTF-8\" standalone=\"no\"?>\n",
       "<!DOCTYPE svg PUBLIC \"-//W3C//DTD SVG 1.1//EN\"\n",
       " \"http://www.w3.org/Graphics/SVG/1.1/DTD/svg11.dtd\">\n",
       "<!-- Generated by graphviz version 14.0.2 (20251019.1705)\n",
       " -->\n",
       "<!-- Pages: 1 -->\n",
       "<svg width=\"306pt\" height=\"803pt\"\n",
       " viewBox=\"0.00 0.00 306.00 803.00\" xmlns=\"http://www.w3.org/2000/svg\" xmlns:xlink=\"http://www.w3.org/1999/xlink\">\n",
       "<g id=\"graph0\" class=\"graph\" transform=\"scale(1 1) rotate(0) translate(4 799)\">\n",
       "<g id=\"a_graph0\"><a xlink:title=\"DeltaDebugger class hierarchy\">\n",
       "<polygon fill=\"white\" stroke=\"none\" points=\"-4,4 -4,-799 301.62,-799 301.62,4 -4,4\"/>\n",
       "</a>\n",
       "</g>\n",
       "<!-- DeltaDebugger -->\n",
       "<g id=\"node1\" class=\"node\">\n",
       "<title>DeltaDebugger</title>\n",
       "<g id=\"a_node1\"><a xlink:href=\"#\" xlink:title=\"class DeltaDebugger:&#10;Like CallReducer, but cache test outcomes.\">\n",
       "<polygon fill=\"none\" stroke=\"black\" points=\"6,-0.5 6,-135.75 160,-135.75 160,-0.5 6,-0.5\"/>\n",
       "<text xml:space=\"preserve\" text-anchor=\"start\" x=\"31.25\" y=\"-119.45\" font-family=\"Raleway, Helvetica, Arial, sans-serif\" font-weight=\"bold\" font-size=\"14.00\" fill=\"#6a0dad\">DeltaDebugger</text>\n",
       "<polyline fill=\"none\" stroke=\"black\" points=\"6,-110.5 160,-110.5\"/>\n",
       "<g id=\"a_node1_0\"><a xlink:href=\"#\" xlink:title=\"DeltaDebugger\">\n",
       "<g id=\"a_node1_1\"><a xlink:href=\"#\" xlink:title=\"__repr__(self) &#45;&gt; str:&#10;Return a string representation of the minimized call.\">\n",
       "<text xml:space=\"preserve\" text-anchor=\"start\" x=\"14\" y=\"-98\" font-family=\"'Fira Mono', 'Source Code Pro', 'Courier', monospace\" font-weight=\"bold\" font-size=\"10.00\">__repr__()</text>\n",
       "</a>\n",
       "</g>\n",
       "<g id=\"a_node1_2\"><a xlink:href=\"#\" xlink:title=\"dd(self, var_to_be_reduced: str, fail_args: Dict[str, Any], *, mode: str = &#39;&#45;&#39;) &#45;&gt; Tuple[Sequence, Sequence, Sequence]:&#10;General Delta Debugging.&#10;`var_to_be_reduced` &#45; the name of the variable to reduce.&#10;`fail_args` &#45; a dict of (failure&#45;inducing) function arguments,&#10;with `fail_args[var_to_be_reduced]` &#45; the input to apply dd on.&#10;`mode`&#45; how the algorithm should operate:&#10;&#39;&#45;&#39; (default): minimize input (`ddmin`),&#10;&#39;+&#39;: maximizing input (`ddmax`),&#10;&#39;+&#45;&#39;: minimizing pass/fail difference (`dd`)&#10;Returns a triple (`pass`, `fail`, `diff`) with&#10;* maximized passing input (`pass`),&#10;* minimized failing input (`fail`), and&#10;* their difference `diff`&#10;(elems that are in `fail`, but not in `pass`).\">\n",
       "<text xml:space=\"preserve\" text-anchor=\"start\" x=\"14\" y=\"-85.25\" font-family=\"'Fira Mono', 'Source Code Pro', 'Courier', monospace\" font-weight=\"bold\" font-size=\"10.00\">dd()</text>\n",
       "</a>\n",
       "</g>\n",
       "<g id=\"a_node1_3\"><a xlink:href=\"#\" xlink:title=\"max_args(self) &#45;&gt; Dict[str, Any]:&#10;Return 1&#45;maximal arguments.\">\n",
       "<text xml:space=\"preserve\" text-anchor=\"start\" x=\"14\" y=\"-72.5\" font-family=\"'Fira Mono', 'Source Code Pro', 'Courier', monospace\" font-weight=\"bold\" font-size=\"10.00\">max_args()</text>\n",
       "</a>\n",
       "</g>\n",
       "<g id=\"a_node1_4\"><a xlink:href=\"#\" xlink:title=\"min_arg_diff(self) &#45;&gt; Tuple[Dict[str, Any], Dict[str, Any], Dict[str, Any]]:&#10;Return 1&#45;minimal difference between arguments.\">\n",
       "<text xml:space=\"preserve\" text-anchor=\"start\" x=\"14\" y=\"-59.75\" font-family=\"'Fira Mono', 'Source Code Pro', 'Courier', monospace\" font-weight=\"bold\" font-size=\"10.00\">min_arg_diff()</text>\n",
       "</a>\n",
       "</g>\n",
       "<g id=\"a_node1_5\"><a xlink:href=\"#\" xlink:title=\"min_args(self) &#45;&gt; Dict[str, Any]:&#10;Return 1&#45;minimal arguments.\">\n",
       "<text xml:space=\"preserve\" text-anchor=\"start\" x=\"14\" y=\"-47\" font-family=\"'Fira Mono', 'Source Code Pro', 'Courier', monospace\" font-weight=\"bold\" font-size=\"10.00\">min_args()</text>\n",
       "</a>\n",
       "</g>\n",
       "<g id=\"a_node1_6\"><a xlink:href=\"#\" xlink:title=\"after_collection(self) &#45;&gt; None:&#10;Called after collection. To be defined in subclasses.\">\n",
       "<text xml:space=\"preserve\" text-anchor=\"start\" x=\"14\" y=\"-34.25\" font-family=\"'Fira Mono', 'Source Code Pro', 'Courier', monospace\" font-style=\"italic\" font-size=\"10.00\">after_collection()</text>\n",
       "</a>\n",
       "</g>\n",
       "<g id=\"a_node1_7\"><a xlink:href=\"#\" xlink:title=\"check_reproducibility(self) &#45;&gt; None\">\n",
       "<text xml:space=\"preserve\" text-anchor=\"start\" x=\"14\" y=\"-20.5\" font-family=\"'Fira Mono', 'Source Code Pro', 'Courier', monospace\" font-size=\"10.00\">check_reproducibility()</text>\n",
       "</a>\n",
       "</g>\n",
       "<g id=\"a_node1_8\"><a xlink:href=\"#\" xlink:title=\"process_args(self, strategy: Callable, **strategy_args: Any) &#45;&gt; Tuple[Dict[str, Any], Dict[str, Any], Dict[str, Any]]:&#10;Reduce all reducible arguments, using `strategy`(var, `strategy_args`).&#10;Can be overloaded in subclasses.\">\n",
       "<text xml:space=\"preserve\" text-anchor=\"start\" x=\"14\" y=\"-8.75\" font-family=\"'Fira Mono', 'Source Code Pro', 'Courier', monospace\" font-style=\"italic\" font-size=\"10.00\">process_args()</text>\n",
       "</a>\n",
       "</g>\n",
       "</a>\n",
       "</g>\n",
       "</a>\n",
       "</g>\n",
       "</g>\n",
       "<!-- CachingCallReducer -->\n",
       "<g id=\"node2\" class=\"node\">\n",
       "<title>CachingCallReducer</title>\n",
       "<g id=\"a_node2\"><a xlink:href=\"#\" xlink:title=\"class CachingCallReducer:&#10;Like CallReducer, but cache test outcomes.\">\n",
       "<polygon fill=\"none\" stroke=\"black\" points=\"5.62,-172.75 5.62,-231.5 160.38,-231.5 160.38,-172.75 5.62,-172.75\"/>\n",
       "<text xml:space=\"preserve\" text-anchor=\"start\" x=\"13.62\" y=\"-215.2\" font-family=\"Raleway, Helvetica, Arial, sans-serif\" font-weight=\"bold\" font-size=\"14.00\" fill=\"#6a0dad\">CachingCallReducer</text>\n",
       "<polyline fill=\"none\" stroke=\"black\" points=\"5.62,-206.25 160.38,-206.25\"/>\n",
       "<g id=\"a_node2_9\"><a xlink:href=\"#\" xlink:title=\"CachingCallReducer\">\n",
       "<g id=\"a_node2_10\"><a xlink:href=\"#\" xlink:title=\"init(self) &#45;&gt; None:&#10;Reset for new collection.\">\n",
       "<text xml:space=\"preserve\" text-anchor=\"start\" x=\"65\" y=\"-193.75\" font-family=\"'Fira Mono', 'Source Code Pro', 'Courier', monospace\" font-style=\"italic\" font-size=\"10.00\">init()</text>\n",
       "</a>\n",
       "</g>\n",
       "<g id=\"a_node2_11\"><a xlink:href=\"#\" xlink:title=\"test(self, args: Dict[str, Any]) &#45;&gt; str:&#10;Like run(), but also log detail and keep statistics.\">\n",
       "<text xml:space=\"preserve\" text-anchor=\"start\" x=\"65\" y=\"-181\" font-family=\"'Fira Mono', 'Source Code Pro', 'Courier', monospace\" font-style=\"italic\" font-size=\"10.00\">test()</text>\n",
       "</a>\n",
       "</g>\n",
       "</a>\n",
       "</g>\n",
       "</a>\n",
       "</g>\n",
       "</g>\n",
       "<!-- DeltaDebugger&#45;&gt;CachingCallReducer -->\n",
       "<g id=\"edge1\" class=\"edge\">\n",
       "<title>DeltaDebugger&#45;&gt;CachingCallReducer</title>\n",
       "<path fill=\"none\" stroke=\"black\" d=\"M83,-135.9C83,-144.58 83,-153.24 83,-161.28\"/>\n",
       "<polygon fill=\"none\" stroke=\"black\" points=\"79.5,-161.04 83,-171.04 86.5,-161.04 79.5,-161.04\"/>\n",
       "</g>\n",
       "<!-- CallReducer -->\n",
       "<g id=\"node3\" class=\"node\">\n",
       "<title>CallReducer</title>\n",
       "<g id=\"a_node3\"><a xlink:href=\"#\" xlink:title=\"class CallReducer:&#10;Collect an exception&#45;raising function call f().&#10;Use as `with CallCollector(): f()`\">\n",
       "<polygon fill=\"none\" stroke=\"black\" points=\"33.38,-268.5 33.38,-365.5 132.62,-365.5 132.62,-268.5 33.38,-268.5\"/>\n",
       "<text xml:space=\"preserve\" text-anchor=\"start\" x=\"41.38\" y=\"-349.2\" font-family=\"Raleway, Helvetica, Arial, sans-serif\" font-weight=\"bold\" font-size=\"14.00\" fill=\"#6a0dad\">CallReducer</text>\n",
       "<polyline fill=\"none\" stroke=\"black\" points=\"33.38,-340.25 132.62,-340.25\"/>\n",
       "<g id=\"a_node3_12\"><a xlink:href=\"#\" xlink:title=\"CallReducer\">\n",
       "<g id=\"a_node3_13\"><a xlink:href=\"#\" xlink:title=\"__init__(self, *, log: Union[bool, int] = False) &#45;&gt; None:&#10;Initialize. If `log` is True, enable logging.\">\n",
       "<text xml:space=\"preserve\" text-anchor=\"start\" x=\"47\" y=\"-327.75\" font-family=\"'Fira Mono', 'Source Code Pro', 'Courier', monospace\" font-weight=\"bold\" font-style=\"italic\" font-size=\"10.00\">__init__()</text>\n",
       "</a>\n",
       "</g>\n",
       "<g id=\"a_node3_14\"><a xlink:href=\"#\" xlink:title=\"reduce_arg(self, var_to_be_reduced: str, args: Dict[str, Any]) &#45;&gt; Sequence:&#10;Determine and return a minimal value for var_to_be_reduced.&#10;To be overloaded in subclasses.\">\n",
       "<text xml:space=\"preserve\" text-anchor=\"start\" x=\"47\" y=\"-315\" font-family=\"'Fira Mono', 'Source Code Pro', 'Courier', monospace\" font-weight=\"bold\" font-style=\"italic\" font-size=\"10.00\">reduce_arg()</text>\n",
       "</a>\n",
       "</g>\n",
       "<g id=\"a_node3_15\"><a xlink:href=\"#\" xlink:title=\"reset(self) &#45;&gt; None:&#10;Reset the number of tests.\">\n",
       "<text xml:space=\"preserve\" text-anchor=\"start\" x=\"47\" y=\"-301.25\" font-family=\"'Fira Mono', 'Source Code Pro', 'Courier', monospace\" font-size=\"10.00\">reset()</text>\n",
       "</a>\n",
       "</g>\n",
       "<g id=\"a_node3_16\"><a xlink:href=\"#\" xlink:title=\"run(self, args: Dict[str, Any]) &#45;&gt; str:&#10;Run collected function with `args`. Return&#10;* PASS if no exception occurred&#10;* FAIL if the collected exception occurred&#10;* UNRESOLVED if some other exception occurred.&#10;Not to be used directly; can be overloaded in subclasses.\">\n",
       "<text xml:space=\"preserve\" text-anchor=\"start\" x=\"47\" y=\"-289.5\" font-family=\"'Fira Mono', 'Source Code Pro', 'Courier', monospace\" font-style=\"italic\" font-size=\"10.00\">run()</text>\n",
       "</a>\n",
       "</g>\n",
       "<g id=\"a_node3_17\"><a xlink:href=\"#\" xlink:title=\"test(self, args: Dict[str, Any]) &#45;&gt; str:&#10;Like run(), but also log detail and keep statistics.\">\n",
       "<text xml:space=\"preserve\" text-anchor=\"start\" x=\"47\" y=\"-276.75\" font-family=\"'Fira Mono', 'Source Code Pro', 'Courier', monospace\" font-style=\"italic\" font-size=\"10.00\">test()</text>\n",
       "</a>\n",
       "</g>\n",
       "</a>\n",
       "</g>\n",
       "</a>\n",
       "</g>\n",
       "</g>\n",
       "<!-- CachingCallReducer&#45;&gt;CallReducer -->\n",
       "<g id=\"edge2\" class=\"edge\">\n",
       "<title>CachingCallReducer&#45;&gt;CallReducer</title>\n",
       "<path fill=\"none\" stroke=\"black\" d=\"M83,-231.9C83,-239.62 83,-248.26 83,-256.98\"/>\n",
       "<polygon fill=\"none\" stroke=\"black\" points=\"79.5,-256.91 83,-266.91 86.5,-256.91 79.5,-256.91\"/>\n",
       "</g>\n",
       "<!-- CallCollector -->\n",
       "<g id=\"node4\" class=\"node\">\n",
       "<title>CallCollector</title>\n",
       "<g id=\"a_node4\"><a xlink:href=\"#\" xlink:title=\"class CallCollector:&#10;Collect an exception&#45;raising function call f().&#10;Use as `with CallCollector(): f()`\">\n",
       "<polygon fill=\"none\" stroke=\"black\" points=\"21,-402.5 21,-588.75 145,-588.75 145,-402.5 21,-402.5\"/>\n",
       "<text xml:space=\"preserve\" text-anchor=\"start\" x=\"38.38\" y=\"-572.45\" font-family=\"Raleway, Helvetica, Arial, sans-serif\" font-weight=\"bold\" font-size=\"14.00\" fill=\"#6a0dad\">CallCollector</text>\n",
       "<polyline fill=\"none\" stroke=\"black\" points=\"21,-563.5 145,-563.5\"/>\n",
       "<g id=\"a_node4_18\"><a xlink:href=\"#\" xlink:title=\"CallCollector\">\n",
       "<g id=\"a_node4_19\"><a xlink:href=\"#\" xlink:title=\"__enter__(self) &#45;&gt; Any:&#10;Called at begin of `with` block. Turn tracing on.\">\n",
       "<text xml:space=\"preserve\" text-anchor=\"start\" x=\"29\" y=\"-551\" font-family=\"'Fira Mono', 'Source Code Pro', 'Courier', monospace\" font-weight=\"bold\" font-size=\"10.00\">__enter__()</text>\n",
       "</a>\n",
       "</g>\n",
       "<g id=\"a_node4_20\"><a xlink:href=\"#\" xlink:title=\"__exit__(self, exc_tp: Type, exc_value: BaseException, exc_traceback: traceback) &#45;&gt; Optional[bool]:&#10;Called at end of `with` block. Turn tracing off.\">\n",
       "<text xml:space=\"preserve\" text-anchor=\"start\" x=\"29\" y=\"-538.25\" font-family=\"'Fira Mono', 'Source Code Pro', 'Courier', monospace\" font-weight=\"bold\" font-size=\"10.00\">__exit__()</text>\n",
       "</a>\n",
       "</g>\n",
       "<g id=\"a_node4_21\"><a xlink:href=\"#\" xlink:title=\"__init__(self) &#45;&gt; None:&#10;Initialize collector\">\n",
       "<text xml:space=\"preserve\" text-anchor=\"start\" x=\"29\" y=\"-525.5\" font-family=\"'Fira Mono', 'Source Code Pro', 'Courier', monospace\" font-weight=\"bold\" font-style=\"italic\" font-size=\"10.00\">__init__()</text>\n",
       "</a>\n",
       "</g>\n",
       "<g id=\"a_node4_22\"><a xlink:href=\"#\" xlink:title=\"args(self) &#45;&gt; Dict[str, Any]:&#10;Return the dictionary of collected arguments.\">\n",
       "<text xml:space=\"preserve\" text-anchor=\"start\" x=\"29\" y=\"-512.75\" font-family=\"'Fira Mono', 'Source Code Pro', 'Courier', monospace\" font-weight=\"bold\" font-size=\"10.00\">args()</text>\n",
       "</a>\n",
       "</g>\n",
       "<g id=\"a_node4_23\"><a xlink:href=\"#\" xlink:title=\"call(self, new_args: Optional[Dict[str, Any]] = None) &#45;&gt; Any:&#10;Call collected function. If `new_args` is given,&#10;override arguments from its {var: value} entries.\">\n",
       "<text xml:space=\"preserve\" text-anchor=\"start\" x=\"29\" y=\"-500\" font-family=\"'Fira Mono', 'Source Code Pro', 'Courier', monospace\" font-weight=\"bold\" font-size=\"10.00\">call()</text>\n",
       "</a>\n",
       "</g>\n",
       "<g id=\"a_node4_24\"><a xlink:href=\"#\" xlink:title=\"exception(self) &#45;&gt; Optional[BaseException]:&#10;Return the exception produced, or `None` if none.\">\n",
       "<text xml:space=\"preserve\" text-anchor=\"start\" x=\"29\" y=\"-487.25\" font-family=\"'Fira Mono', 'Source Code Pro', 'Courier', monospace\" font-weight=\"bold\" font-size=\"10.00\">exception()</text>\n",
       "</a>\n",
       "</g>\n",
       "<g id=\"a_node4_25\"><a xlink:href=\"#\" xlink:title=\"function(self) &#45;&gt; Callable:&#10;Return the function called.\">\n",
       "<text xml:space=\"preserve\" text-anchor=\"start\" x=\"29\" y=\"-474.5\" font-family=\"'Fira Mono', 'Source Code Pro', 'Courier', monospace\" font-weight=\"bold\" font-size=\"10.00\">function()</text>\n",
       "</a>\n",
       "</g>\n",
       "<g id=\"a_node4_26\"><a xlink:href=\"#\" xlink:title=\"after_collection(self) &#45;&gt; None:&#10;Called after collection. To be defined in subclasses.\">\n",
       "<text xml:space=\"preserve\" text-anchor=\"start\" x=\"29\" y=\"-461.75\" font-family=\"'Fira Mono', 'Source Code Pro', 'Courier', monospace\" font-style=\"italic\" font-size=\"10.00\">after_collection()</text>\n",
       "</a>\n",
       "</g>\n",
       "<g id=\"a_node4_27\"><a xlink:href=\"#\" xlink:title=\"format_call(self, args: Optional[Dict[str, Any]] = None) &#45;&gt; str:&#10;Return a string representing a call of the function with given args.\">\n",
       "<text xml:space=\"preserve\" text-anchor=\"start\" x=\"29\" y=\"-448\" font-family=\"'Fira Mono', 'Source Code Pro', 'Courier', monospace\" font-size=\"10.00\">format_call()</text>\n",
       "</a>\n",
       "</g>\n",
       "<g id=\"a_node4_28\"><a xlink:href=\"#\" xlink:title=\"format_exception(self, exc: Optional[BaseException] = None) &#45;&gt; str:&#10;Return a string representing the given exception.\">\n",
       "<text xml:space=\"preserve\" text-anchor=\"start\" x=\"29\" y=\"-435.25\" font-family=\"'Fira Mono', 'Source Code Pro', 'Courier', monospace\" font-size=\"10.00\">format_exception()</text>\n",
       "</a>\n",
       "</g>\n",
       "<g id=\"a_node4_29\"><a xlink:href=\"#\" xlink:title=\"init(self) &#45;&gt; None:&#10;Reset for new collection.\">\n",
       "<text xml:space=\"preserve\" text-anchor=\"start\" x=\"29\" y=\"-423.5\" font-family=\"'Fira Mono', 'Source Code Pro', 'Courier', monospace\" font-style=\"italic\" font-size=\"10.00\">init()</text>\n",
       "</a>\n",
       "</g>\n",
       "<g id=\"a_node4_30\"><a xlink:href=\"#\" xlink:title=\"traceit(self, frame: frame, event: str, arg: Any) &#45;&gt; None:&#10;Tracing function. Collect first call, then turn tracing off.\">\n",
       "<text xml:space=\"preserve\" text-anchor=\"start\" x=\"29\" y=\"-409.75\" font-family=\"'Fira Mono', 'Source Code Pro', 'Courier', monospace\" font-size=\"10.00\">traceit()</text>\n",
       "</a>\n",
       "</g>\n",
       "</a>\n",
       "</g>\n",
       "</a>\n",
       "</g>\n",
       "</g>\n",
       "<!-- CallReducer&#45;&gt;CallCollector -->\n",
       "<g id=\"edge3\" class=\"edge\">\n",
       "<title>CallReducer&#45;&gt;CallCollector</title>\n",
       "<path fill=\"none\" stroke=\"black\" d=\"M83,-365.8C83,-373.68 83,-382.12 83,-390.76\"/>\n",
       "<polygon fill=\"none\" stroke=\"black\" points=\"79.5,-390.69 83,-400.69 86.5,-390.69 79.5,-390.69\"/>\n",
       "</g>\n",
       "<!-- StackInspector -->\n",
       "<g id=\"node5\" class=\"node\">\n",
       "<title>StackInspector</title>\n",
       "<g id=\"a_node5\"><a xlink:href=\"StackInspector.ipynb\" xlink:title=\"class StackInspector:&#10;Provide functions to inspect the stack\">\n",
       "<polygon fill=\"none\" stroke=\"black\" points=\"0,-625.75 0,-794.5 166,-794.5 166,-625.75 0,-625.75\"/>\n",
       "<text xml:space=\"preserve\" text-anchor=\"start\" x=\"32.75\" y=\"-778.2\" font-family=\"Raleway, Helvetica, Arial, sans-serif\" font-weight=\"bold\" font-size=\"14.00\" fill=\"#6a0dad\">StackInspector</text>\n",
       "<polyline fill=\"none\" stroke=\"black\" points=\"0,-769.25 166,-769.25\"/>\n",
       "<g id=\"a_node5_31\"><a xlink:href=\"#\" xlink:title=\"StackInspector\">\n",
       "<g id=\"a_node5_32\"><a xlink:href=\"StackInspector.ipynb\" xlink:title=\"_generated_function_cache = {}\">\n",
       "<text xml:space=\"preserve\" text-anchor=\"start\" x=\"8\" y=\"-755.75\" font-family=\"'Fira Mono', 'Source Code Pro', 'Courier', monospace\" font-size=\"10.00\">_generated_function_cache</text>\n",
       "</a>\n",
       "</g>\n",
       "</a>\n",
       "</g>\n",
       "<polyline fill=\"none\" stroke=\"black\" points=\"0,-748.5 166,-748.5\"/>\n",
       "<g id=\"a_node5_33\"><a xlink:href=\"#\" xlink:title=\"StackInspector\">\n",
       "<g id=\"a_node5_34\"><a xlink:href=\"StackInspector.ipynb\" xlink:title=\"caller_frame(self) &#45;&gt; frame:&#10;Return the frame of the caller.\">\n",
       "<text xml:space=\"preserve\" text-anchor=\"start\" x=\"26\" y=\"-736\" font-family=\"'Fira Mono', 'Source Code Pro', 'Courier', monospace\" font-weight=\"bold\" font-size=\"10.00\">caller_frame()</text>\n",
       "</a>\n",
       "</g>\n",
       "<g id=\"a_node5_35\"><a xlink:href=\"StackInspector.ipynb\" xlink:title=\"caller_function(self) &#45;&gt; Callable:&#10;Return the calling function\">\n",
       "<text xml:space=\"preserve\" text-anchor=\"start\" x=\"26\" y=\"-723.25\" font-family=\"'Fira Mono', 'Source Code Pro', 'Courier', monospace\" font-weight=\"bold\" font-size=\"10.00\">caller_function()</text>\n",
       "</a>\n",
       "</g>\n",
       "<g id=\"a_node5_36\"><a xlink:href=\"StackInspector.ipynb\" xlink:title=\"caller_globals(self) &#45;&gt; Dict[str, Any]:&#10;Return the globals() environment of the caller.\">\n",
       "<text xml:space=\"preserve\" text-anchor=\"start\" x=\"26\" y=\"-710.5\" font-family=\"'Fira Mono', 'Source Code Pro', 'Courier', monospace\" font-weight=\"bold\" font-size=\"10.00\">caller_globals()</text>\n",
       "</a>\n",
       "</g>\n",
       "<g id=\"a_node5_37\"><a xlink:href=\"StackInspector.ipynb\" xlink:title=\"caller_locals(self) &#45;&gt; Dict[str, Any]:&#10;Return the locals() environment of the caller.\">\n",
       "<text xml:space=\"preserve\" text-anchor=\"start\" x=\"26\" y=\"-697.75\" font-family=\"'Fira Mono', 'Source Code Pro', 'Courier', monospace\" font-weight=\"bold\" font-size=\"10.00\">caller_locals()</text>\n",
       "</a>\n",
       "</g>\n",
       "<g id=\"a_node5_38\"><a xlink:href=\"StackInspector.ipynb\" xlink:title=\"caller_location(self) &#45;&gt; Tuple[Callable, int]:&#10;Return the location (func, lineno) of the caller.\">\n",
       "<text xml:space=\"preserve\" text-anchor=\"start\" x=\"26\" y=\"-685\" font-family=\"'Fira Mono', 'Source Code Pro', 'Courier', monospace\" font-weight=\"bold\" font-size=\"10.00\">caller_location()</text>\n",
       "</a>\n",
       "</g>\n",
       "<g id=\"a_node5_39\"><a xlink:href=\"StackInspector.ipynb\" xlink:title=\"is_internal_error(self, exc_tp: Type, exc_value: BaseException, exc_traceback: traceback) &#45;&gt; bool:&#10;Return True if exception was raised from `StackInspector` or a subclass.\">\n",
       "<text xml:space=\"preserve\" text-anchor=\"start\" x=\"26\" y=\"-672.25\" font-family=\"'Fira Mono', 'Source Code Pro', 'Courier', monospace\" font-weight=\"bold\" font-size=\"10.00\">is_internal_error()</text>\n",
       "</a>\n",
       "</g>\n",
       "<g id=\"a_node5_40\"><a xlink:href=\"StackInspector.ipynb\" xlink:title=\"our_frame(self, frame: frame) &#45;&gt; bool:&#10;Return true if `frame` is in the current (inspecting) class.\">\n",
       "<text xml:space=\"preserve\" text-anchor=\"start\" x=\"26\" y=\"-659.5\" font-family=\"'Fira Mono', 'Source Code Pro', 'Courier', monospace\" font-weight=\"bold\" font-size=\"10.00\">our_frame()</text>\n",
       "</a>\n",
       "</g>\n",
       "<g id=\"a_node5_41\"><a xlink:href=\"StackInspector.ipynb\" xlink:title=\"search_frame(self, name: str, frame: Optional[frame] = None) &#45;&gt; Tuple[Optional[frame], Optional[Callable]]:&#10;Return a pair (`frame`, `item`)&#10;in which the function `name` is defined as `item`.\">\n",
       "<text xml:space=\"preserve\" text-anchor=\"start\" x=\"26\" y=\"-646.75\" font-family=\"'Fira Mono', 'Source Code Pro', 'Courier', monospace\" font-weight=\"bold\" font-size=\"10.00\">search_frame()</text>\n",
       "</a>\n",
       "</g>\n",
       "<g id=\"a_node5_42\"><a xlink:href=\"StackInspector.ipynb\" xlink:title=\"search_func(self, name: str, frame: Optional[frame] = None) &#45;&gt; Optional[Callable]:&#10;Search in callers for a definition of the function `name`\">\n",
       "<text xml:space=\"preserve\" text-anchor=\"start\" x=\"26\" y=\"-634\" font-family=\"'Fira Mono', 'Source Code Pro', 'Courier', monospace\" font-weight=\"bold\" font-size=\"10.00\">search_func()</text>\n",
       "</a>\n",
       "</g>\n",
       "</a>\n",
       "</g>\n",
       "</a>\n",
       "</g>\n",
       "</g>\n",
       "<!-- CallCollector&#45;&gt;StackInspector -->\n",
       "<g id=\"edge4\" class=\"edge\">\n",
       "<title>CallCollector&#45;&gt;StackInspector</title>\n",
       "<path fill=\"none\" stroke=\"black\" d=\"M83,-589.21C83,-597.52 83,-605.93 83,-614.26\"/>\n",
       "<polygon fill=\"none\" stroke=\"black\" points=\"79.5,-614.02 83,-624.02 86.5,-614.02 79.5,-614.02\"/>\n",
       "</g>\n",
       "<!-- Legend -->\n",
       "<g id=\"node6\" class=\"node\">\n",
       "<title>Legend</title>\n",
       "<text xml:space=\"preserve\" text-anchor=\"start\" x=\"178.38\" y=\"-84.12\" font-family=\"Raleway, Helvetica, Arial, sans-serif\" font-weight=\"bold\" font-size=\"10.00\" fill=\"#6a0dad\">Legend</text>\n",
       "<text xml:space=\"preserve\" text-anchor=\"start\" x=\"178.38\" y=\"-74.12\" font-family=\"Raleway, Helvetica, Arial, sans-serif\" font-size=\"10.00\">• </text>\n",
       "<text xml:space=\"preserve\" text-anchor=\"start\" x=\"184.38\" y=\"-74.12\" font-family=\"'Fira Mono', 'Source Code Pro', 'Courier', monospace\" font-weight=\"bold\" font-size=\"8.00\">public_method()</text>\n",
       "<text xml:space=\"preserve\" text-anchor=\"start\" x=\"178.38\" y=\"-64.12\" font-family=\"Raleway, Helvetica, Arial, sans-serif\" font-size=\"10.00\">• </text>\n",
       "<text xml:space=\"preserve\" text-anchor=\"start\" x=\"184.38\" y=\"-64.12\" font-family=\"'Fira Mono', 'Source Code Pro', 'Courier', monospace\" font-size=\"8.00\">private_method()</text>\n",
       "<text xml:space=\"preserve\" text-anchor=\"start\" x=\"178.38\" y=\"-54.12\" font-family=\"Raleway, Helvetica, Arial, sans-serif\" font-size=\"10.00\">• </text>\n",
       "<text xml:space=\"preserve\" text-anchor=\"start\" x=\"184.38\" y=\"-54.12\" font-family=\"'Fira Mono', 'Source Code Pro', 'Courier', monospace\" font-style=\"italic\" font-size=\"8.00\">overloaded_method()</text>\n",
       "<text xml:space=\"preserve\" text-anchor=\"start\" x=\"178.38\" y=\"-45.08\" font-family=\"Helvetica,sans-Serif\" font-size=\"9.00\">Hover over names to see doc</text>\n",
       "</g>\n",
       "</g>\n",
       "</svg>\n"
      ],
      "text/html": [
       "<?xml version=\"1.0\" encoding=\"UTF-8\" standalone=\"no\"?>\n",
       "<!DOCTYPE svg PUBLIC \"-//W3C//DTD SVG 1.1//EN\"\n",
       " \"http://www.w3.org/Graphics/SVG/1.1/DTD/svg11.dtd\">\n",
       "<!-- Generated by graphviz version 14.0.2 (20251019.1705)\n",
       " -->\n",
       "<!-- Pages: 1 -->\n",
       "<svg width=\"306pt\" height=\"803pt\"\n",
       " viewBox=\"0.00 0.00 306.00 803.00\" xmlns=\"http://www.w3.org/2000/svg\" xmlns:xlink=\"http://www.w3.org/1999/xlink\">\n",
       "<g id=\"graph0\" class=\"graph\" transform=\"scale(1 1) rotate(0) translate(4 799)\">\n",
       "<g id=\"a_graph0\"><a xlink:title=\"DeltaDebugger class hierarchy\">\n",
       "<polygon fill=\"white\" stroke=\"none\" points=\"-4,4 -4,-799 301.62,-799 301.62,4 -4,4\"/>\n",
       "</a>\n",
       "</g>\n",
       "<!-- DeltaDebugger -->\n",
       "<g id=\"node1\" class=\"node\">\n",
       "<title>DeltaDebugger</title>\n",
       "<g id=\"a_node1\"><a xlink:href=\"#\" xlink:title=\"class DeltaDebugger:&#10;Like CallReducer, but cache test outcomes.\">\n",
       "<polygon fill=\"none\" stroke=\"black\" points=\"6,-0.5 6,-135.75 160,-135.75 160,-0.5 6,-0.5\"/>\n",
       "<text xml:space=\"preserve\" text-anchor=\"start\" x=\"31.25\" y=\"-119.45\" font-family=\"Raleway, Helvetica, Arial, sans-serif\" font-weight=\"bold\" font-size=\"14.00\" fill=\"#6a0dad\">DeltaDebugger</text>\n",
       "<polyline fill=\"none\" stroke=\"black\" points=\"6,-110.5 160,-110.5\"/>\n",
       "<g id=\"a_node1_0\"><a xlink:href=\"#\" xlink:title=\"DeltaDebugger\">\n",
       "<g id=\"a_node1_1\"><a xlink:href=\"#\" xlink:title=\"__repr__(self) &#45;&gt; str:&#10;Return a string representation of the minimized call.\">\n",
       "<text xml:space=\"preserve\" text-anchor=\"start\" x=\"14\" y=\"-98\" font-family=\"'Fira Mono', 'Source Code Pro', 'Courier', monospace\" font-weight=\"bold\" font-size=\"10.00\">__repr__()</text>\n",
       "</a>\n",
       "</g>\n",
       "<g id=\"a_node1_2\"><a xlink:href=\"#\" xlink:title=\"dd(self, var_to_be_reduced: str, fail_args: Dict[str, Any], *, mode: str = &#39;&#45;&#39;) &#45;&gt; Tuple[Sequence, Sequence, Sequence]:&#10;General Delta Debugging.&#10;`var_to_be_reduced` &#45; the name of the variable to reduce.&#10;`fail_args` &#45; a dict of (failure&#45;inducing) function arguments,&#10;with `fail_args[var_to_be_reduced]` &#45; the input to apply dd on.&#10;`mode`&#45; how the algorithm should operate:&#10;&#39;&#45;&#39; (default): minimize input (`ddmin`),&#10;&#39;+&#39;: maximizing input (`ddmax`),&#10;&#39;+&#45;&#39;: minimizing pass/fail difference (`dd`)&#10;Returns a triple (`pass`, `fail`, `diff`) with&#10;* maximized passing input (`pass`),&#10;* minimized failing input (`fail`), and&#10;* their difference `diff`&#10;(elems that are in `fail`, but not in `pass`).\">\n",
       "<text xml:space=\"preserve\" text-anchor=\"start\" x=\"14\" y=\"-85.25\" font-family=\"'Fira Mono', 'Source Code Pro', 'Courier', monospace\" font-weight=\"bold\" font-size=\"10.00\">dd()</text>\n",
       "</a>\n",
       "</g>\n",
       "<g id=\"a_node1_3\"><a xlink:href=\"#\" xlink:title=\"max_args(self) &#45;&gt; Dict[str, Any]:&#10;Return 1&#45;maximal arguments.\">\n",
       "<text xml:space=\"preserve\" text-anchor=\"start\" x=\"14\" y=\"-72.5\" font-family=\"'Fira Mono', 'Source Code Pro', 'Courier', monospace\" font-weight=\"bold\" font-size=\"10.00\">max_args()</text>\n",
       "</a>\n",
       "</g>\n",
       "<g id=\"a_node1_4\"><a xlink:href=\"#\" xlink:title=\"min_arg_diff(self) &#45;&gt; Tuple[Dict[str, Any], Dict[str, Any], Dict[str, Any]]:&#10;Return 1&#45;minimal difference between arguments.\">\n",
       "<text xml:space=\"preserve\" text-anchor=\"start\" x=\"14\" y=\"-59.75\" font-family=\"'Fira Mono', 'Source Code Pro', 'Courier', monospace\" font-weight=\"bold\" font-size=\"10.00\">min_arg_diff()</text>\n",
       "</a>\n",
       "</g>\n",
       "<g id=\"a_node1_5\"><a xlink:href=\"#\" xlink:title=\"min_args(self) &#45;&gt; Dict[str, Any]:&#10;Return 1&#45;minimal arguments.\">\n",
       "<text xml:space=\"preserve\" text-anchor=\"start\" x=\"14\" y=\"-47\" font-family=\"'Fira Mono', 'Source Code Pro', 'Courier', monospace\" font-weight=\"bold\" font-size=\"10.00\">min_args()</text>\n",
       "</a>\n",
       "</g>\n",
       "<g id=\"a_node1_6\"><a xlink:href=\"#\" xlink:title=\"after_collection(self) &#45;&gt; None:&#10;Called after collection. To be defined in subclasses.\">\n",
       "<text xml:space=\"preserve\" text-anchor=\"start\" x=\"14\" y=\"-34.25\" font-family=\"'Fira Mono', 'Source Code Pro', 'Courier', monospace\" font-style=\"italic\" font-size=\"10.00\">after_collection()</text>\n",
       "</a>\n",
       "</g>\n",
       "<g id=\"a_node1_7\"><a xlink:href=\"#\" xlink:title=\"check_reproducibility(self) &#45;&gt; None\">\n",
       "<text xml:space=\"preserve\" text-anchor=\"start\" x=\"14\" y=\"-20.5\" font-family=\"'Fira Mono', 'Source Code Pro', 'Courier', monospace\" font-size=\"10.00\">check_reproducibility()</text>\n",
       "</a>\n",
       "</g>\n",
       "<g id=\"a_node1_8\"><a xlink:href=\"#\" xlink:title=\"process_args(self, strategy: Callable, **strategy_args: Any) &#45;&gt; Tuple[Dict[str, Any], Dict[str, Any], Dict[str, Any]]:&#10;Reduce all reducible arguments, using `strategy`(var, `strategy_args`).&#10;Can be overloaded in subclasses.\">\n",
       "<text xml:space=\"preserve\" text-anchor=\"start\" x=\"14\" y=\"-8.75\" font-family=\"'Fira Mono', 'Source Code Pro', 'Courier', monospace\" font-style=\"italic\" font-size=\"10.00\">process_args()</text>\n",
       "</a>\n",
       "</g>\n",
       "</a>\n",
       "</g>\n",
       "</a>\n",
       "</g>\n",
       "</g>\n",
       "<!-- CachingCallReducer -->\n",
       "<g id=\"node2\" class=\"node\">\n",
       "<title>CachingCallReducer</title>\n",
       "<g id=\"a_node2\"><a xlink:href=\"#\" xlink:title=\"class CachingCallReducer:&#10;Like CallReducer, but cache test outcomes.\">\n",
       "<polygon fill=\"none\" stroke=\"black\" points=\"5.62,-172.75 5.62,-231.5 160.38,-231.5 160.38,-172.75 5.62,-172.75\"/>\n",
       "<text xml:space=\"preserve\" text-anchor=\"start\" x=\"13.62\" y=\"-215.2\" font-family=\"Raleway, Helvetica, Arial, sans-serif\" font-weight=\"bold\" font-size=\"14.00\" fill=\"#6a0dad\">CachingCallReducer</text>\n",
       "<polyline fill=\"none\" stroke=\"black\" points=\"5.62,-206.25 160.38,-206.25\"/>\n",
       "<g id=\"a_node2_9\"><a xlink:href=\"#\" xlink:title=\"CachingCallReducer\">\n",
       "<g id=\"a_node2_10\"><a xlink:href=\"#\" xlink:title=\"init(self) &#45;&gt; None:&#10;Reset for new collection.\">\n",
       "<text xml:space=\"preserve\" text-anchor=\"start\" x=\"65\" y=\"-193.75\" font-family=\"'Fira Mono', 'Source Code Pro', 'Courier', monospace\" font-style=\"italic\" font-size=\"10.00\">init()</text>\n",
       "</a>\n",
       "</g>\n",
       "<g id=\"a_node2_11\"><a xlink:href=\"#\" xlink:title=\"test(self, args: Dict[str, Any]) &#45;&gt; str:&#10;Like run(), but also log detail and keep statistics.\">\n",
       "<text xml:space=\"preserve\" text-anchor=\"start\" x=\"65\" y=\"-181\" font-family=\"'Fira Mono', 'Source Code Pro', 'Courier', monospace\" font-style=\"italic\" font-size=\"10.00\">test()</text>\n",
       "</a>\n",
       "</g>\n",
       "</a>\n",
       "</g>\n",
       "</a>\n",
       "</g>\n",
       "</g>\n",
       "<!-- DeltaDebugger&#45;&gt;CachingCallReducer -->\n",
       "<g id=\"edge1\" class=\"edge\">\n",
       "<title>DeltaDebugger&#45;&gt;CachingCallReducer</title>\n",
       "<path fill=\"none\" stroke=\"black\" d=\"M83,-135.9C83,-144.58 83,-153.24 83,-161.28\"/>\n",
       "<polygon fill=\"none\" stroke=\"black\" points=\"79.5,-161.04 83,-171.04 86.5,-161.04 79.5,-161.04\"/>\n",
       "</g>\n",
       "<!-- CallReducer -->\n",
       "<g id=\"node3\" class=\"node\">\n",
       "<title>CallReducer</title>\n",
       "<g id=\"a_node3\"><a xlink:href=\"#\" xlink:title=\"class CallReducer:&#10;Collect an exception&#45;raising function call f().&#10;Use as `with CallCollector(): f()`\">\n",
       "<polygon fill=\"none\" stroke=\"black\" points=\"33.38,-268.5 33.38,-365.5 132.62,-365.5 132.62,-268.5 33.38,-268.5\"/>\n",
       "<text xml:space=\"preserve\" text-anchor=\"start\" x=\"41.38\" y=\"-349.2\" font-family=\"Raleway, Helvetica, Arial, sans-serif\" font-weight=\"bold\" font-size=\"14.00\" fill=\"#6a0dad\">CallReducer</text>\n",
       "<polyline fill=\"none\" stroke=\"black\" points=\"33.38,-340.25 132.62,-340.25\"/>\n",
       "<g id=\"a_node3_12\"><a xlink:href=\"#\" xlink:title=\"CallReducer\">\n",
       "<g id=\"a_node3_13\"><a xlink:href=\"#\" xlink:title=\"__init__(self, *, log: Union[bool, int] = False) &#45;&gt; None:&#10;Initialize. If `log` is True, enable logging.\">\n",
       "<text xml:space=\"preserve\" text-anchor=\"start\" x=\"47\" y=\"-327.75\" font-family=\"'Fira Mono', 'Source Code Pro', 'Courier', monospace\" font-weight=\"bold\" font-style=\"italic\" font-size=\"10.00\">__init__()</text>\n",
       "</a>\n",
       "</g>\n",
       "<g id=\"a_node3_14\"><a xlink:href=\"#\" xlink:title=\"reduce_arg(self, var_to_be_reduced: str, args: Dict[str, Any]) &#45;&gt; Sequence:&#10;Determine and return a minimal value for var_to_be_reduced.&#10;To be overloaded in subclasses.\">\n",
       "<text xml:space=\"preserve\" text-anchor=\"start\" x=\"47\" y=\"-315\" font-family=\"'Fira Mono', 'Source Code Pro', 'Courier', monospace\" font-weight=\"bold\" font-style=\"italic\" font-size=\"10.00\">reduce_arg()</text>\n",
       "</a>\n",
       "</g>\n",
       "<g id=\"a_node3_15\"><a xlink:href=\"#\" xlink:title=\"reset(self) &#45;&gt; None:&#10;Reset the number of tests.\">\n",
       "<text xml:space=\"preserve\" text-anchor=\"start\" x=\"47\" y=\"-301.25\" font-family=\"'Fira Mono', 'Source Code Pro', 'Courier', monospace\" font-size=\"10.00\">reset()</text>\n",
       "</a>\n",
       "</g>\n",
       "<g id=\"a_node3_16\"><a xlink:href=\"#\" xlink:title=\"run(self, args: Dict[str, Any]) &#45;&gt; str:&#10;Run collected function with `args`. Return&#10;* PASS if no exception occurred&#10;* FAIL if the collected exception occurred&#10;* UNRESOLVED if some other exception occurred.&#10;Not to be used directly; can be overloaded in subclasses.\">\n",
       "<text xml:space=\"preserve\" text-anchor=\"start\" x=\"47\" y=\"-289.5\" font-family=\"'Fira Mono', 'Source Code Pro', 'Courier', monospace\" font-style=\"italic\" font-size=\"10.00\">run()</text>\n",
       "</a>\n",
       "</g>\n",
       "<g id=\"a_node3_17\"><a xlink:href=\"#\" xlink:title=\"test(self, args: Dict[str, Any]) &#45;&gt; str:&#10;Like run(), but also log detail and keep statistics.\">\n",
       "<text xml:space=\"preserve\" text-anchor=\"start\" x=\"47\" y=\"-276.75\" font-family=\"'Fira Mono', 'Source Code Pro', 'Courier', monospace\" font-style=\"italic\" font-size=\"10.00\">test()</text>\n",
       "</a>\n",
       "</g>\n",
       "</a>\n",
       "</g>\n",
       "</a>\n",
       "</g>\n",
       "</g>\n",
       "<!-- CachingCallReducer&#45;&gt;CallReducer -->\n",
       "<g id=\"edge2\" class=\"edge\">\n",
       "<title>CachingCallReducer&#45;&gt;CallReducer</title>\n",
       "<path fill=\"none\" stroke=\"black\" d=\"M83,-231.9C83,-239.62 83,-248.26 83,-256.98\"/>\n",
       "<polygon fill=\"none\" stroke=\"black\" points=\"79.5,-256.91 83,-266.91 86.5,-256.91 79.5,-256.91\"/>\n",
       "</g>\n",
       "<!-- CallCollector -->\n",
       "<g id=\"node4\" class=\"node\">\n",
       "<title>CallCollector</title>\n",
       "<g id=\"a_node4\"><a xlink:href=\"#\" xlink:title=\"class CallCollector:&#10;Collect an exception&#45;raising function call f().&#10;Use as `with CallCollector(): f()`\">\n",
       "<polygon fill=\"none\" stroke=\"black\" points=\"21,-402.5 21,-588.75 145,-588.75 145,-402.5 21,-402.5\"/>\n",
       "<text xml:space=\"preserve\" text-anchor=\"start\" x=\"38.38\" y=\"-572.45\" font-family=\"Raleway, Helvetica, Arial, sans-serif\" font-weight=\"bold\" font-size=\"14.00\" fill=\"#6a0dad\">CallCollector</text>\n",
       "<polyline fill=\"none\" stroke=\"black\" points=\"21,-563.5 145,-563.5\"/>\n",
       "<g id=\"a_node4_18\"><a xlink:href=\"#\" xlink:title=\"CallCollector\">\n",
       "<g id=\"a_node4_19\"><a xlink:href=\"#\" xlink:title=\"__enter__(self) &#45;&gt; Any:&#10;Called at begin of `with` block. Turn tracing on.\">\n",
       "<text xml:space=\"preserve\" text-anchor=\"start\" x=\"29\" y=\"-551\" font-family=\"'Fira Mono', 'Source Code Pro', 'Courier', monospace\" font-weight=\"bold\" font-size=\"10.00\">__enter__()</text>\n",
       "</a>\n",
       "</g>\n",
       "<g id=\"a_node4_20\"><a xlink:href=\"#\" xlink:title=\"__exit__(self, exc_tp: Type, exc_value: BaseException, exc_traceback: traceback) &#45;&gt; Optional[bool]:&#10;Called at end of `with` block. Turn tracing off.\">\n",
       "<text xml:space=\"preserve\" text-anchor=\"start\" x=\"29\" y=\"-538.25\" font-family=\"'Fira Mono', 'Source Code Pro', 'Courier', monospace\" font-weight=\"bold\" font-size=\"10.00\">__exit__()</text>\n",
       "</a>\n",
       "</g>\n",
       "<g id=\"a_node4_21\"><a xlink:href=\"#\" xlink:title=\"__init__(self) &#45;&gt; None:&#10;Initialize collector\">\n",
       "<text xml:space=\"preserve\" text-anchor=\"start\" x=\"29\" y=\"-525.5\" font-family=\"'Fira Mono', 'Source Code Pro', 'Courier', monospace\" font-weight=\"bold\" font-style=\"italic\" font-size=\"10.00\">__init__()</text>\n",
       "</a>\n",
       "</g>\n",
       "<g id=\"a_node4_22\"><a xlink:href=\"#\" xlink:title=\"args(self) &#45;&gt; Dict[str, Any]:&#10;Return the dictionary of collected arguments.\">\n",
       "<text xml:space=\"preserve\" text-anchor=\"start\" x=\"29\" y=\"-512.75\" font-family=\"'Fira Mono', 'Source Code Pro', 'Courier', monospace\" font-weight=\"bold\" font-size=\"10.00\">args()</text>\n",
       "</a>\n",
       "</g>\n",
       "<g id=\"a_node4_23\"><a xlink:href=\"#\" xlink:title=\"call(self, new_args: Optional[Dict[str, Any]] = None) &#45;&gt; Any:&#10;Call collected function. If `new_args` is given,&#10;override arguments from its {var: value} entries.\">\n",
       "<text xml:space=\"preserve\" text-anchor=\"start\" x=\"29\" y=\"-500\" font-family=\"'Fira Mono', 'Source Code Pro', 'Courier', monospace\" font-weight=\"bold\" font-size=\"10.00\">call()</text>\n",
       "</a>\n",
       "</g>\n",
       "<g id=\"a_node4_24\"><a xlink:href=\"#\" xlink:title=\"exception(self) &#45;&gt; Optional[BaseException]:&#10;Return the exception produced, or `None` if none.\">\n",
       "<text xml:space=\"preserve\" text-anchor=\"start\" x=\"29\" y=\"-487.25\" font-family=\"'Fira Mono', 'Source Code Pro', 'Courier', monospace\" font-weight=\"bold\" font-size=\"10.00\">exception()</text>\n",
       "</a>\n",
       "</g>\n",
       "<g id=\"a_node4_25\"><a xlink:href=\"#\" xlink:title=\"function(self) &#45;&gt; Callable:&#10;Return the function called.\">\n",
       "<text xml:space=\"preserve\" text-anchor=\"start\" x=\"29\" y=\"-474.5\" font-family=\"'Fira Mono', 'Source Code Pro', 'Courier', monospace\" font-weight=\"bold\" font-size=\"10.00\">function()</text>\n",
       "</a>\n",
       "</g>\n",
       "<g id=\"a_node4_26\"><a xlink:href=\"#\" xlink:title=\"after_collection(self) &#45;&gt; None:&#10;Called after collection. To be defined in subclasses.\">\n",
       "<text xml:space=\"preserve\" text-anchor=\"start\" x=\"29\" y=\"-461.75\" font-family=\"'Fira Mono', 'Source Code Pro', 'Courier', monospace\" font-style=\"italic\" font-size=\"10.00\">after_collection()</text>\n",
       "</a>\n",
       "</g>\n",
       "<g id=\"a_node4_27\"><a xlink:href=\"#\" xlink:title=\"format_call(self, args: Optional[Dict[str, Any]] = None) &#45;&gt; str:&#10;Return a string representing a call of the function with given args.\">\n",
       "<text xml:space=\"preserve\" text-anchor=\"start\" x=\"29\" y=\"-448\" font-family=\"'Fira Mono', 'Source Code Pro', 'Courier', monospace\" font-size=\"10.00\">format_call()</text>\n",
       "</a>\n",
       "</g>\n",
       "<g id=\"a_node4_28\"><a xlink:href=\"#\" xlink:title=\"format_exception(self, exc: Optional[BaseException] = None) &#45;&gt; str:&#10;Return a string representing the given exception.\">\n",
       "<text xml:space=\"preserve\" text-anchor=\"start\" x=\"29\" y=\"-435.25\" font-family=\"'Fira Mono', 'Source Code Pro', 'Courier', monospace\" font-size=\"10.00\">format_exception()</text>\n",
       "</a>\n",
       "</g>\n",
       "<g id=\"a_node4_29\"><a xlink:href=\"#\" xlink:title=\"init(self) &#45;&gt; None:&#10;Reset for new collection.\">\n",
       "<text xml:space=\"preserve\" text-anchor=\"start\" x=\"29\" y=\"-423.5\" font-family=\"'Fira Mono', 'Source Code Pro', 'Courier', monospace\" font-style=\"italic\" font-size=\"10.00\">init()</text>\n",
       "</a>\n",
       "</g>\n",
       "<g id=\"a_node4_30\"><a xlink:href=\"#\" xlink:title=\"traceit(self, frame: frame, event: str, arg: Any) &#45;&gt; None:&#10;Tracing function. Collect first call, then turn tracing off.\">\n",
       "<text xml:space=\"preserve\" text-anchor=\"start\" x=\"29\" y=\"-409.75\" font-family=\"'Fira Mono', 'Source Code Pro', 'Courier', monospace\" font-size=\"10.00\">traceit()</text>\n",
       "</a>\n",
       "</g>\n",
       "</a>\n",
       "</g>\n",
       "</a>\n",
       "</g>\n",
       "</g>\n",
       "<!-- CallReducer&#45;&gt;CallCollector -->\n",
       "<g id=\"edge3\" class=\"edge\">\n",
       "<title>CallReducer&#45;&gt;CallCollector</title>\n",
       "<path fill=\"none\" stroke=\"black\" d=\"M83,-365.8C83,-373.68 83,-382.12 83,-390.76\"/>\n",
       "<polygon fill=\"none\" stroke=\"black\" points=\"79.5,-390.69 83,-400.69 86.5,-390.69 79.5,-390.69\"/>\n",
       "</g>\n",
       "<!-- StackInspector -->\n",
       "<g id=\"node5\" class=\"node\">\n",
       "<title>StackInspector</title>\n",
       "<g id=\"a_node5\"><a xlink:href=\"StackInspector.ipynb\" xlink:title=\"class StackInspector:&#10;Provide functions to inspect the stack\">\n",
       "<polygon fill=\"none\" stroke=\"black\" points=\"0,-625.75 0,-794.5 166,-794.5 166,-625.75 0,-625.75\"/>\n",
       "<text xml:space=\"preserve\" text-anchor=\"start\" x=\"32.75\" y=\"-778.2\" font-family=\"Raleway, Helvetica, Arial, sans-serif\" font-weight=\"bold\" font-size=\"14.00\" fill=\"#6a0dad\">StackInspector</text>\n",
       "<polyline fill=\"none\" stroke=\"black\" points=\"0,-769.25 166,-769.25\"/>\n",
       "<g id=\"a_node5_31\"><a xlink:href=\"#\" xlink:title=\"StackInspector\">\n",
       "<g id=\"a_node5_32\"><a xlink:href=\"StackInspector.ipynb\" xlink:title=\"_generated_function_cache = {}\">\n",
       "<text xml:space=\"preserve\" text-anchor=\"start\" x=\"8\" y=\"-755.75\" font-family=\"'Fira Mono', 'Source Code Pro', 'Courier', monospace\" font-size=\"10.00\">_generated_function_cache</text>\n",
       "</a>\n",
       "</g>\n",
       "</a>\n",
       "</g>\n",
       "<polyline fill=\"none\" stroke=\"black\" points=\"0,-748.5 166,-748.5\"/>\n",
       "<g id=\"a_node5_33\"><a xlink:href=\"#\" xlink:title=\"StackInspector\">\n",
       "<g id=\"a_node5_34\"><a xlink:href=\"StackInspector.ipynb\" xlink:title=\"caller_frame(self) &#45;&gt; frame:&#10;Return the frame of the caller.\">\n",
       "<text xml:space=\"preserve\" text-anchor=\"start\" x=\"26\" y=\"-736\" font-family=\"'Fira Mono', 'Source Code Pro', 'Courier', monospace\" font-weight=\"bold\" font-size=\"10.00\">caller_frame()</text>\n",
       "</a>\n",
       "</g>\n",
       "<g id=\"a_node5_35\"><a xlink:href=\"StackInspector.ipynb\" xlink:title=\"caller_function(self) &#45;&gt; Callable:&#10;Return the calling function\">\n",
       "<text xml:space=\"preserve\" text-anchor=\"start\" x=\"26\" y=\"-723.25\" font-family=\"'Fira Mono', 'Source Code Pro', 'Courier', monospace\" font-weight=\"bold\" font-size=\"10.00\">caller_function()</text>\n",
       "</a>\n",
       "</g>\n",
       "<g id=\"a_node5_36\"><a xlink:href=\"StackInspector.ipynb\" xlink:title=\"caller_globals(self) &#45;&gt; Dict[str, Any]:&#10;Return the globals() environment of the caller.\">\n",
       "<text xml:space=\"preserve\" text-anchor=\"start\" x=\"26\" y=\"-710.5\" font-family=\"'Fira Mono', 'Source Code Pro', 'Courier', monospace\" font-weight=\"bold\" font-size=\"10.00\">caller_globals()</text>\n",
       "</a>\n",
       "</g>\n",
       "<g id=\"a_node5_37\"><a xlink:href=\"StackInspector.ipynb\" xlink:title=\"caller_locals(self) &#45;&gt; Dict[str, Any]:&#10;Return the locals() environment of the caller.\">\n",
       "<text xml:space=\"preserve\" text-anchor=\"start\" x=\"26\" y=\"-697.75\" font-family=\"'Fira Mono', 'Source Code Pro', 'Courier', monospace\" font-weight=\"bold\" font-size=\"10.00\">caller_locals()</text>\n",
       "</a>\n",
       "</g>\n",
       "<g id=\"a_node5_38\"><a xlink:href=\"StackInspector.ipynb\" xlink:title=\"caller_location(self) &#45;&gt; Tuple[Callable, int]:&#10;Return the location (func, lineno) of the caller.\">\n",
       "<text xml:space=\"preserve\" text-anchor=\"start\" x=\"26\" y=\"-685\" font-family=\"'Fira Mono', 'Source Code Pro', 'Courier', monospace\" font-weight=\"bold\" font-size=\"10.00\">caller_location()</text>\n",
       "</a>\n",
       "</g>\n",
       "<g id=\"a_node5_39\"><a xlink:href=\"StackInspector.ipynb\" xlink:title=\"is_internal_error(self, exc_tp: Type, exc_value: BaseException, exc_traceback: traceback) &#45;&gt; bool:&#10;Return True if exception was raised from `StackInspector` or a subclass.\">\n",
       "<text xml:space=\"preserve\" text-anchor=\"start\" x=\"26\" y=\"-672.25\" font-family=\"'Fira Mono', 'Source Code Pro', 'Courier', monospace\" font-weight=\"bold\" font-size=\"10.00\">is_internal_error()</text>\n",
       "</a>\n",
       "</g>\n",
       "<g id=\"a_node5_40\"><a xlink:href=\"StackInspector.ipynb\" xlink:title=\"our_frame(self, frame: frame) &#45;&gt; bool:&#10;Return true if `frame` is in the current (inspecting) class.\">\n",
       "<text xml:space=\"preserve\" text-anchor=\"start\" x=\"26\" y=\"-659.5\" font-family=\"'Fira Mono', 'Source Code Pro', 'Courier', monospace\" font-weight=\"bold\" font-size=\"10.00\">our_frame()</text>\n",
       "</a>\n",
       "</g>\n",
       "<g id=\"a_node5_41\"><a xlink:href=\"StackInspector.ipynb\" xlink:title=\"search_frame(self, name: str, frame: Optional[frame] = None) &#45;&gt; Tuple[Optional[frame], Optional[Callable]]:&#10;Return a pair (`frame`, `item`)&#10;in which the function `name` is defined as `item`.\">\n",
       "<text xml:space=\"preserve\" text-anchor=\"start\" x=\"26\" y=\"-646.75\" font-family=\"'Fira Mono', 'Source Code Pro', 'Courier', monospace\" font-weight=\"bold\" font-size=\"10.00\">search_frame()</text>\n",
       "</a>\n",
       "</g>\n",
       "<g id=\"a_node5_42\"><a xlink:href=\"StackInspector.ipynb\" xlink:title=\"search_func(self, name: str, frame: Optional[frame] = None) &#45;&gt; Optional[Callable]:&#10;Search in callers for a definition of the function `name`\">\n",
       "<text xml:space=\"preserve\" text-anchor=\"start\" x=\"26\" y=\"-634\" font-family=\"'Fira Mono', 'Source Code Pro', 'Courier', monospace\" font-weight=\"bold\" font-size=\"10.00\">search_func()</text>\n",
       "</a>\n",
       "</g>\n",
       "</a>\n",
       "</g>\n",
       "</a>\n",
       "</g>\n",
       "</g>\n",
       "<!-- CallCollector&#45;&gt;StackInspector -->\n",
       "<g id=\"edge4\" class=\"edge\">\n",
       "<title>CallCollector&#45;&gt;StackInspector</title>\n",
       "<path fill=\"none\" stroke=\"black\" d=\"M83,-589.21C83,-597.52 83,-605.93 83,-614.26\"/>\n",
       "<polygon fill=\"none\" stroke=\"black\" points=\"79.5,-614.02 83,-624.02 86.5,-614.02 79.5,-614.02\"/>\n",
       "</g>\n",
       "<!-- Legend -->\n",
       "<g id=\"node6\" class=\"node\">\n",
       "<title>Legend</title>\n",
       "<text xml:space=\"preserve\" text-anchor=\"start\" x=\"178.38\" y=\"-84.12\" font-family=\"Raleway, Helvetica, Arial, sans-serif\" font-weight=\"bold\" font-size=\"10.00\" fill=\"#6a0dad\">Legend</text>\n",
       "<text xml:space=\"preserve\" text-anchor=\"start\" x=\"178.38\" y=\"-74.12\" font-family=\"Raleway, Helvetica, Arial, sans-serif\" font-size=\"10.00\">• </text>\n",
       "<text xml:space=\"preserve\" text-anchor=\"start\" x=\"184.38\" y=\"-74.12\" font-family=\"'Fira Mono', 'Source Code Pro', 'Courier', monospace\" font-weight=\"bold\" font-size=\"8.00\">public_method()</text>\n",
       "<text xml:space=\"preserve\" text-anchor=\"start\" x=\"178.38\" y=\"-64.12\" font-family=\"Raleway, Helvetica, Arial, sans-serif\" font-size=\"10.00\">• </text>\n",
       "<text xml:space=\"preserve\" text-anchor=\"start\" x=\"184.38\" y=\"-64.12\" font-family=\"'Fira Mono', 'Source Code Pro', 'Courier', monospace\" font-size=\"8.00\">private_method()</text>\n",
       "<text xml:space=\"preserve\" text-anchor=\"start\" x=\"178.38\" y=\"-54.12\" font-family=\"Raleway, Helvetica, Arial, sans-serif\" font-size=\"10.00\">• </text>\n",
       "<text xml:space=\"preserve\" text-anchor=\"start\" x=\"184.38\" y=\"-54.12\" font-family=\"'Fira Mono', 'Source Code Pro', 'Courier', monospace\" font-style=\"italic\" font-size=\"8.00\">overloaded_method()</text>\n",
       "<text xml:space=\"preserve\" text-anchor=\"start\" x=\"178.38\" y=\"-45.08\" font-family=\"Helvetica,sans-Serif\" font-size=\"9.00\">Hover over names to see doc</text>\n",
       "</g>\n",
       "</g>\n",
       "</svg>\n"
      ],
      "text/plain": [
       "<graphviz.graphs.Digraph at 0x10bbb2120>"
      ]
     },
     "execution_count": 192,
     "metadata": {},
     "output_type": "execute_result"
    }
   ],
   "source": [
    "# ignore\n",
    "display_class_hierarchy([DeltaDebugger],\n",
    "                        public_methods=[\n",
    "                            StackInspector.caller_frame,\n",
    "                            StackInspector.caller_function,\n",
    "                            StackInspector.caller_globals,\n",
    "                            StackInspector.caller_locals,\n",
    "                            StackInspector.caller_location,\n",
    "                            StackInspector.search_frame,\n",
    "                            StackInspector.search_func,\n",
    "                            StackInspector.is_internal_error,\n",
    "                            StackInspector.our_frame,\n",
    "                            CallCollector.__init__,\n",
    "                            CallCollector.__enter__,\n",
    "                            CallCollector.__exit__,\n",
    "                            CallCollector.function,\n",
    "                            CallCollector.args,\n",
    "                            CallCollector.exception,\n",
    "                            CallCollector.call,\n",
    "                            CallReducer.__init__,\n",
    "                            CallReducer.reduce_arg,\n",
    "                            DeltaDebugger.dd,\n",
    "                            DeltaDebugger.min_args,\n",
    "                            DeltaDebugger.max_args,\n",
    "                            DeltaDebugger.min_arg_diff,\n",
    "                            DeltaDebugger.__repr__\n",
    "                        ],\n",
    "                        project='debuggingbook')"
   ]
  },
  {
   "cell_type": "markdown",
   "metadata": {
    "button": false,
    "new_sheet": true,
    "run_control": {
     "read_only": false
    },
    "slideshow": {
     "slide_type": "slide"
    }
   },
   "source": [
    "## Why Reducing?\n",
    "\n",
    "A common problem in debugging is that given an input, only a _small part of that input may be responsible for the failure_. A central part of debugging is to _identify_ these parts – and to simplify (or _reduce_) the input to a minimal form that reproduces the failure – but does and contains as little else as possible."
   ]
  },
  {
   "cell_type": "markdown",
   "metadata": {
    "button": false,
    "new_sheet": true,
    "run_control": {
     "read_only": false
    },
    "slideshow": {
     "slide_type": "fragment"
    }
   },
   "source": [
    "Here's an example of such a situation.  We have a `mystery()` method that – given its code – can occasionally fail.  But under which circumstances does this actually happen?  We have deliberately obscured the exact condition in order to make this non-obvious."
   ]
  },
  {
   "cell_type": "code",
   "execution_count": 2,
   "metadata": {
    "button": false,
    "execution": {
     "iopub.execute_input": "2025-10-26T17:47:40.164863Z",
     "iopub.status.busy": "2025-10-26T17:47:40.164727Z",
     "iopub.status.idle": "2025-10-26T17:47:40.166893Z",
     "shell.execute_reply": "2025-10-26T17:47:40.166628Z"
    },
    "new_sheet": false,
    "run_control": {
     "read_only": false
    },
    "slideshow": {
     "slide_type": "skip"
    }
   },
   "outputs": [],
   "source": [
    "import bookutils.setup"
   ]
  },
  {
   "cell_type": "code",
   "execution_count": 3,
   "metadata": {
    "execution": {
     "iopub.execute_input": "2025-10-26T17:47:40.168216Z",
     "iopub.status.busy": "2025-10-26T17:47:40.168106Z",
     "iopub.status.idle": "2025-10-26T17:47:40.240399Z",
     "shell.execute_reply": "2025-10-26T17:47:40.240122Z"
    },
    "slideshow": {
     "slide_type": "skip"
    }
   },
   "outputs": [],
   "source": [
    "import Tracer"
   ]
  },
  {
   "cell_type": "code",
   "execution_count": 4,
   "metadata": {
    "execution": {
     "iopub.execute_input": "2025-10-26T17:47:40.241812Z",
     "iopub.status.busy": "2025-10-26T17:47:40.241720Z",
     "iopub.status.idle": "2025-10-26T17:47:40.243275Z",
     "shell.execute_reply": "2025-10-26T17:47:40.243057Z"
    },
    "slideshow": {
     "slide_type": "skip"
    }
   },
   "outputs": [],
   "source": [
    "from bookutils import quiz"
   ]
  },
  {
   "cell_type": "code",
   "execution_count": 5,
   "metadata": {
    "execution": {
     "iopub.execute_input": "2025-10-26T17:47:40.244607Z",
     "iopub.status.busy": "2025-10-26T17:47:40.244515Z",
     "iopub.status.idle": "2025-10-26T17:47:40.246443Z",
     "shell.execute_reply": "2025-10-26T17:47:40.246147Z"
    },
    "slideshow": {
     "slide_type": "subslide"
    }
   },
   "outputs": [],
   "source": [
    "def mystery(inp: str) -> None:\n",
    "    x = inp.find(chr(0o17 + 0o31))\n",
    "    y = inp.find(chr(0o27 + 0o22))\n",
    "    if x >= 0 and y >= 0 and x < y:\n",
    "        raise ValueError(\"Invalid input\")\n",
    "    else:\n",
    "        pass"
   ]
  },
  {
   "attachments": {},
   "cell_type": "markdown",
   "metadata": {
    "slideshow": {
     "slide_type": "fragment"
    }
   },
   "source": [
    "To find an input that causes the function to fail, let us _fuzz_ it – that is, feed it with random inputs – until we find a failing input. There are [entire books about fuzzing](https://fuzzingbook.org); but here, a very simple `fuzz()` function for this purpose will already suffice."
   ]
  },
  {
   "cell_type": "markdown",
   "metadata": {
    "slideshow": {
     "slide_type": "fragment"
    }
   },
   "source": [
    "To build a fuzzer, we need random inputs – and thus a source for randomness. The function `random.randrange(a, b)` returns a random number in the range (a, b)."
   ]
  },
  {
   "cell_type": "code",
   "execution_count": 6,
   "metadata": {
    "execution": {
     "iopub.execute_input": "2025-10-26T17:47:40.248219Z",
     "iopub.status.busy": "2025-10-26T17:47:40.248090Z",
     "iopub.status.idle": "2025-10-26T17:47:40.249804Z",
     "shell.execute_reply": "2025-10-26T17:47:40.249554Z"
    },
    "slideshow": {
     "slide_type": "skip"
    }
   },
   "outputs": [],
   "source": [
    "import random"
   ]
  },
  {
   "cell_type": "code",
   "execution_count": 7,
   "metadata": {
    "execution": {
     "iopub.execute_input": "2025-10-26T17:47:40.251305Z",
     "iopub.status.busy": "2025-10-26T17:47:40.251208Z",
     "iopub.status.idle": "2025-10-26T17:47:40.253244Z",
     "shell.execute_reply": "2025-10-26T17:47:40.253027Z"
    },
    "slideshow": {
     "slide_type": "subslide"
    }
   },
   "outputs": [
    {
     "data": {
      "text/plain": [
       "107"
      ]
     },
     "execution_count": 7,
     "metadata": {},
     "output_type": "execute_result"
    }
   ],
   "source": [
    "random.randrange(32, 128)"
   ]
  },
  {
   "cell_type": "markdown",
   "metadata": {
    "slideshow": {
     "slide_type": "fragment"
    }
   },
   "source": [
    "We can use `random.randrange()` to compose random (printable) characters:"
   ]
  },
  {
   "cell_type": "code",
   "execution_count": 8,
   "metadata": {
    "execution": {
     "iopub.execute_input": "2025-10-26T17:47:40.254462Z",
     "iopub.status.busy": "2025-10-26T17:47:40.254373Z",
     "iopub.status.idle": "2025-10-26T17:47:40.256037Z",
     "shell.execute_reply": "2025-10-26T17:47:40.255845Z"
    },
    "slideshow": {
     "slide_type": "fragment"
    }
   },
   "outputs": [],
   "source": [
    "def fuzz() -> str:\n",
    "    length = random.randrange(10, 70)\n",
    "    fuzz = \"\"\n",
    "    for i in range(length):\n",
    "        fuzz += chr(random.randrange(32, 127))\n",
    "    return fuzz"
   ]
  },
  {
   "cell_type": "markdown",
   "metadata": {
    "slideshow": {
     "slide_type": "fragment"
    }
   },
   "source": [
    "Here are some random strings produced by our `fuzz()` function:"
   ]
  },
  {
   "cell_type": "code",
   "execution_count": 9,
   "metadata": {
    "execution": {
     "iopub.execute_input": "2025-10-26T17:47:40.257164Z",
     "iopub.status.busy": "2025-10-26T17:47:40.257088Z",
     "iopub.status.idle": "2025-10-26T17:47:40.259021Z",
     "shell.execute_reply": "2025-10-26T17:47:40.258745Z"
    },
    "slideshow": {
     "slide_type": "subslide"
    }
   },
   "outputs": [
    {
     "name": "stdout",
     "output_type": "stream",
     "text": [
      "'N&+slk%hyp5'\n",
      "\"'@[3(rW*M5W]tMFPU4\\\\P@tz%[X?uo\\\\1?b4T;1bDeYtHx #UJ5\"\n",
      "'w}pMmPodJM,_%%BC~dYN6*g|Y*Ou9I<P94}7,99ivb(9`=%jJj*Y*d~OLXk!;J'\n",
      "\"!iOU8]hqg00?u(c);>:\\\\=V<ZV1=*g#UJA'No5QZ)~--[})Sdv#m*L\"\n",
      "'0iHh[-MzS.U.X}fG7aA:G<bEI\\'Ofn[\",Mx{@jfto}i3D?7%V7XdtO6BjYEa#Il)~]'\n",
      "\"E`h7h)ChX0G*m,|sosJ.mu/\\\\c'EpaPi0(n{\"\n"
     ]
    }
   ],
   "source": [
    "for i in range(6):\n",
    "    print(repr(fuzz()))"
   ]
  },
  {
   "cell_type": "markdown",
   "metadata": {
    "slideshow": {
     "slide_type": "fragment"
    }
   },
   "source": [
    "Let us now use `fuzz()` to find an input where `mistery()` fails:"
   ]
  },
  {
   "cell_type": "code",
   "execution_count": 10,
   "metadata": {
    "execution": {
     "iopub.execute_input": "2025-10-26T17:47:40.260203Z",
     "iopub.status.busy": "2025-10-26T17:47:40.260118Z",
     "iopub.status.idle": "2025-10-26T17:47:40.261835Z",
     "shell.execute_reply": "2025-10-26T17:47:40.261568Z"
    },
    "slideshow": {
     "slide_type": "subslide"
    }
   },
   "outputs": [],
   "source": [
    "while True:\n",
    "    fuzz_input = fuzz()\n",
    "    try:\n",
    "        mystery(fuzz_input)\n",
    "    except ValueError:\n",
    "        break"
   ]
  },
  {
   "cell_type": "markdown",
   "metadata": {
    "slideshow": {
     "slide_type": "fragment"
    }
   },
   "source": [
    "This is an input that causes `mystery()` to fail:"
   ]
  },
  {
   "cell_type": "code",
   "execution_count": 11,
   "metadata": {
    "execution": {
     "iopub.execute_input": "2025-10-26T17:47:40.263100Z",
     "iopub.status.busy": "2025-10-26T17:47:40.263017Z",
     "iopub.status.idle": "2025-10-26T17:47:40.265037Z",
     "shell.execute_reply": "2025-10-26T17:47:40.264815Z"
    },
    "slideshow": {
     "slide_type": "fragment"
    }
   },
   "outputs": [
    {
     "data": {
      "text/plain": [
       "'V\"/+!aF-(V4EOz*+s/Q,7)2@0_'"
      ]
     },
     "execution_count": 11,
     "metadata": {},
     "output_type": "execute_result"
    }
   ],
   "source": [
    "failing_input = fuzz_input\n",
    "failing_input"
   ]
  },
  {
   "cell_type": "code",
   "execution_count": 12,
   "metadata": {
    "execution": {
     "iopub.execute_input": "2025-10-26T17:47:40.266192Z",
     "iopub.status.busy": "2025-10-26T17:47:40.266116Z",
     "iopub.status.idle": "2025-10-26T17:47:40.268048Z",
     "shell.execute_reply": "2025-10-26T17:47:40.267750Z"
    },
    "slideshow": {
     "slide_type": "fragment"
    }
   },
   "outputs": [
    {
     "data": {
      "text/plain": [
       "26"
      ]
     },
     "execution_count": 12,
     "metadata": {},
     "output_type": "execute_result"
    }
   ],
   "source": [
    "len(failing_input)"
   ]
  },
  {
   "cell_type": "code",
   "execution_count": 13,
   "metadata": {
    "execution": {
     "iopub.execute_input": "2025-10-26T17:47:40.269097Z",
     "iopub.status.busy": "2025-10-26T17:47:40.269014Z",
     "iopub.status.idle": "2025-10-26T17:47:40.270416Z",
     "shell.execute_reply": "2025-10-26T17:47:40.270216Z"
    },
    "slideshow": {
     "slide_type": "skip"
    }
   },
   "outputs": [],
   "source": [
    "from ExpectError import ExpectError"
   ]
  },
  {
   "cell_type": "code",
   "execution_count": 14,
   "metadata": {
    "execution": {
     "iopub.execute_input": "2025-10-26T17:47:40.271703Z",
     "iopub.status.busy": "2025-10-26T17:47:40.271606Z",
     "iopub.status.idle": "2025-10-26T17:47:40.273492Z",
     "shell.execute_reply": "2025-10-26T17:47:40.273276Z"
    },
    "slideshow": {
     "slide_type": "subslide"
    }
   },
   "outputs": [
    {
     "name": "stderr",
     "output_type": "stream",
     "text": [
      "Traceback (most recent call last):\n",
      "  File \"/var/folders/n2/xd9445p97rb3xh7m1dfx8_4h0006ts/T/ipykernel_51600/3137704634.py\", line 2, in <module>\n",
      "    mystery(failing_input)\n",
      "    ~~~~~~~^^^^^^^^^^^^^^^\n",
      "  File \"/var/folders/n2/xd9445p97rb3xh7m1dfx8_4h0006ts/T/ipykernel_51600/4141878445.py\", line 5, in mystery\n",
      "    raise ValueError(\"Invalid input\")\n",
      "ValueError: Invalid input (expected)\n"
     ]
    }
   ],
   "source": [
    "with ExpectError(ValueError):\n",
    "    mystery(failing_input)"
   ]
  },
  {
   "cell_type": "markdown",
   "metadata": {
    "slideshow": {
     "slide_type": "fragment"
    }
   },
   "source": [
    "Something in this input causes `mystery()` to fail.  But what is it?"
   ]
  },
  {
   "cell_type": "markdown",
   "metadata": {
    "button": false,
    "new_sheet": true,
    "run_control": {
     "read_only": false
    },
    "slideshow": {
     "slide_type": "slide"
    }
   },
   "source": [
    "## Manual Input Reduction\n",
    "\n",
    "One important step in the debugging process is _reduction_ – that is, to identify those circumstances of a failure that are relevant for the failure to occur, and to _omit_ (if possible) those parts that are not.  As Kernighan and Pike \\cite{Kernighan1999} put it:\n",
    "\n",
    "> For every circumstance of the problem, check whether it is relevant for the problem to occur.  If it is not, remove it from the problem report or the test case in question."
   ]
  },
  {
   "cell_type": "markdown",
   "metadata": {
    "slideshow": {
     "slide_type": "subslide"
    }
   },
   "source": [
    "Specifically for inputs, they suggest a _divide and conquer_ process:\n",
    "\n",
    "> Proceed by binary search.  Throw away half the input and see if the output is still wrong; if not, go back to the previous state and discard the other half of the input.\n",
    "\n",
    "This is something we can easily try out, using our last generated input:"
   ]
  },
  {
   "cell_type": "code",
   "execution_count": 15,
   "metadata": {
    "execution": {
     "iopub.execute_input": "2025-10-26T17:47:40.274837Z",
     "iopub.status.busy": "2025-10-26T17:47:40.274741Z",
     "iopub.status.idle": "2025-10-26T17:47:40.276681Z",
     "shell.execute_reply": "2025-10-26T17:47:40.276459Z"
    },
    "slideshow": {
     "slide_type": "fragment"
    }
   },
   "outputs": [
    {
     "data": {
      "text/plain": [
       "'V\"/+!aF-(V4EOz*+s/Q,7)2@0_'"
      ]
     },
     "execution_count": 15,
     "metadata": {},
     "output_type": "execute_result"
    }
   ],
   "source": [
    "failing_input"
   ]
  },
  {
   "cell_type": "markdown",
   "metadata": {
    "slideshow": {
     "slide_type": "fragment"
    }
   },
   "source": [
    "For instance, we can see whether the error still occurs if we only feed in the first half:"
   ]
  },
  {
   "cell_type": "code",
   "execution_count": 16,
   "metadata": {
    "execution": {
     "iopub.execute_input": "2025-10-26T17:47:40.277885Z",
     "iopub.status.busy": "2025-10-26T17:47:40.277798Z",
     "iopub.status.idle": "2025-10-26T17:47:40.279640Z",
     "shell.execute_reply": "2025-10-26T17:47:40.279421Z"
    },
    "slideshow": {
     "slide_type": "subslide"
    }
   },
   "outputs": [
    {
     "data": {
      "text/plain": [
       "'V\"/+!aF-(V4EO'"
      ]
     },
     "execution_count": 16,
     "metadata": {},
     "output_type": "execute_result"
    }
   ],
   "source": [
    "half_length = len(failing_input) // 2   # // is integer division\n",
    "first_half = failing_input[:half_length]\n",
    "first_half"
   ]
  },
  {
   "cell_type": "code",
   "execution_count": 17,
   "metadata": {
    "execution": {
     "iopub.execute_input": "2025-10-26T17:47:40.280726Z",
     "iopub.status.busy": "2025-10-26T17:47:40.280643Z",
     "iopub.status.idle": "2025-10-26T17:47:40.282153Z",
     "shell.execute_reply": "2025-10-26T17:47:40.281972Z"
    },
    "slideshow": {
     "slide_type": "fragment"
    }
   },
   "outputs": [],
   "source": [
    "with ExpectError(ValueError):\n",
    "    mystery(first_half)"
   ]
  },
  {
   "cell_type": "markdown",
   "metadata": {
    "slideshow": {
     "slide_type": "fragment"
    }
   },
   "source": [
    "Nope – the first half alone does not suffice.  Maybe the second half?"
   ]
  },
  {
   "cell_type": "code",
   "execution_count": 18,
   "metadata": {
    "execution": {
     "iopub.execute_input": "2025-10-26T17:47:40.283325Z",
     "iopub.status.busy": "2025-10-26T17:47:40.283250Z",
     "iopub.status.idle": "2025-10-26T17:47:40.285173Z",
     "shell.execute_reply": "2025-10-26T17:47:40.284905Z"
    },
    "slideshow": {
     "slide_type": "fragment"
    }
   },
   "outputs": [
    {
     "data": {
      "text/plain": [
       "'z*+s/Q,7)2@0_'"
      ]
     },
     "execution_count": 18,
     "metadata": {},
     "output_type": "execute_result"
    }
   ],
   "source": [
    "second_half = failing_input[half_length:]\n",
    "assert first_half + second_half == failing_input\n",
    "second_half"
   ]
  },
  {
   "cell_type": "code",
   "execution_count": 19,
   "metadata": {
    "execution": {
     "iopub.execute_input": "2025-10-26T17:47:40.286260Z",
     "iopub.status.busy": "2025-10-26T17:47:40.286181Z",
     "iopub.status.idle": "2025-10-26T17:47:40.287582Z",
     "shell.execute_reply": "2025-10-26T17:47:40.287376Z"
    },
    "slideshow": {
     "slide_type": "fragment"
    }
   },
   "outputs": [],
   "source": [
    "with ExpectError(ValueError):\n",
    "    mystery(second_half)"
   ]
  },
  {
   "cell_type": "markdown",
   "metadata": {
    "slideshow": {
     "slide_type": "subslide"
    }
   },
   "source": [
    "This did not go so well either.  We may still proceed by cutting away _smaller chunks_ – say, one character after another.  If our test is deterministic and easily repeated, it is clear that this process eventually will yield a reduced input.  But still, it is a rather inefficient process, especially for long inputs.  What we need is a _strategy_ that effectively minimizes a failure-inducing input – a strategy that can be automated."
   ]
  },
  {
   "cell_type": "markdown",
   "metadata": {
    "slideshow": {
     "slide_type": "slide"
    }
   },
   "source": [
    "## Delta Debugging"
   ]
  },
  {
   "cell_type": "markdown",
   "metadata": {
    "slideshow": {
     "slide_type": "fragment"
    }
   },
   "source": [
    "One strategy to effectively reduce failure-inducing inputs is _delta debugging_ \\cite{Zeller2002}.  Delta Debugging implements the \"binary search\" strategy, as listed above, but with a twist: If neither half fails (also as above), it keeps on cutting away smaller and smaller chunks from the input, until it eliminates individual characters.  Thus, after cutting away the first half, we cut away\n",
    "the first quarter, the second quarter, and so on."
   ]
  },
  {
   "cell_type": "markdown",
   "metadata": {
    "slideshow": {
     "slide_type": "fragment"
    }
   },
   "source": [
    "Let us illustrate this on our example, and see what happens if we cut away the first quarter."
   ]
  },
  {
   "cell_type": "code",
   "execution_count": 20,
   "metadata": {
    "execution": {
     "iopub.execute_input": "2025-10-26T17:47:40.288776Z",
     "iopub.status.busy": "2025-10-26T17:47:40.288701Z",
     "iopub.status.idle": "2025-10-26T17:47:40.290715Z",
     "shell.execute_reply": "2025-10-26T17:47:40.290483Z"
    },
    "slideshow": {
     "slide_type": "fragment"
    }
   },
   "outputs": [
    {
     "data": {
      "text/plain": [
       "'F-(V4EOz*+s/Q,7)2@0_'"
      ]
     },
     "execution_count": 20,
     "metadata": {},
     "output_type": "execute_result"
    }
   ],
   "source": [
    "quarter_length = len(failing_input) // 4\n",
    "input_without_first_quarter = failing_input[quarter_length:]\n",
    "input_without_first_quarter"
   ]
  },
  {
   "cell_type": "code",
   "execution_count": 21,
   "metadata": {
    "execution": {
     "iopub.execute_input": "2025-10-26T17:47:40.292135Z",
     "iopub.status.busy": "2025-10-26T17:47:40.292050Z",
     "iopub.status.idle": "2025-10-26T17:47:40.293898Z",
     "shell.execute_reply": "2025-10-26T17:47:40.293602Z"
    },
    "slideshow": {
     "slide_type": "subslide"
    }
   },
   "outputs": [
    {
     "name": "stderr",
     "output_type": "stream",
     "text": [
      "Traceback (most recent call last):\n",
      "  File \"/var/folders/n2/xd9445p97rb3xh7m1dfx8_4h0006ts/T/ipykernel_51600/2963114098.py\", line 2, in <module>\n",
      "    mystery(input_without_first_quarter)\n",
      "    ~~~~~~~^^^^^^^^^^^^^^^^^^^^^^^^^^^^^\n",
      "  File \"/var/folders/n2/xd9445p97rb3xh7m1dfx8_4h0006ts/T/ipykernel_51600/4141878445.py\", line 5, in mystery\n",
      "    raise ValueError(\"Invalid input\")\n",
      "ValueError: Invalid input (expected)\n"
     ]
    }
   ],
   "source": [
    "with ExpectError(ValueError):\n",
    "    mystery(input_without_first_quarter)"
   ]
  },
  {
   "cell_type": "markdown",
   "metadata": {
    "slideshow": {
     "slide_type": "fragment"
    }
   },
   "source": [
    "Ah! This has failed, and reduced our failing input by 25%.  Let's remove another quarter."
   ]
  },
  {
   "cell_type": "code",
   "execution_count": 22,
   "metadata": {
    "execution": {
     "iopub.execute_input": "2025-10-26T17:47:40.295517Z",
     "iopub.status.busy": "2025-10-26T17:47:40.295417Z",
     "iopub.status.idle": "2025-10-26T17:47:40.297456Z",
     "shell.execute_reply": "2025-10-26T17:47:40.297195Z"
    },
    "slideshow": {
     "slide_type": "fragment"
    }
   },
   "outputs": [
    {
     "data": {
      "text/plain": [
       "'Oz*+s/Q,7)2@0_'"
      ]
     },
     "execution_count": 22,
     "metadata": {},
     "output_type": "execute_result"
    }
   ],
   "source": [
    "input_without_first_and_second_quarter = failing_input[quarter_length * 2:]\n",
    "input_without_first_and_second_quarter"
   ]
  },
  {
   "cell_type": "code",
   "execution_count": 23,
   "metadata": {
    "execution": {
     "iopub.execute_input": "2025-10-26T17:47:40.298614Z",
     "iopub.status.busy": "2025-10-26T17:47:40.298542Z",
     "iopub.status.idle": "2025-10-26T17:47:40.299968Z",
     "shell.execute_reply": "2025-10-26T17:47:40.299774Z"
    },
    "slideshow": {
     "slide_type": "subslide"
    }
   },
   "outputs": [],
   "source": [
    "with ExpectError(ValueError):\n",
    "    mystery(input_without_first_and_second_quarter)"
   ]
  },
  {
   "cell_type": "markdown",
   "metadata": {
    "slideshow": {
     "slide_type": "fragment"
    }
   },
   "source": [
    "This is not too surprising, as we had that one before:"
   ]
  },
  {
   "cell_type": "code",
   "execution_count": 24,
   "metadata": {
    "execution": {
     "iopub.execute_input": "2025-10-26T17:47:40.301162Z",
     "iopub.status.busy": "2025-10-26T17:47:40.301034Z",
     "iopub.status.idle": "2025-10-26T17:47:40.302996Z",
     "shell.execute_reply": "2025-10-26T17:47:40.302730Z"
    },
    "slideshow": {
     "slide_type": "fragment"
    }
   },
   "outputs": [
    {
     "data": {
      "text/plain": [
       "'z*+s/Q,7)2@0_'"
      ]
     },
     "execution_count": 24,
     "metadata": {},
     "output_type": "execute_result"
    }
   ],
   "source": [
    "second_half"
   ]
  },
  {
   "cell_type": "code",
   "execution_count": 25,
   "metadata": {
    "execution": {
     "iopub.execute_input": "2025-10-26T17:47:40.304209Z",
     "iopub.status.busy": "2025-10-26T17:47:40.304112Z",
     "iopub.status.idle": "2025-10-26T17:47:40.306243Z",
     "shell.execute_reply": "2025-10-26T17:47:40.305922Z"
    },
    "slideshow": {
     "slide_type": "fragment"
    }
   },
   "outputs": [
    {
     "data": {
      "text/plain": [
       "'Oz*+s/Q,7)2@0_'"
      ]
     },
     "execution_count": 25,
     "metadata": {},
     "output_type": "execute_result"
    }
   ],
   "source": [
    "input_without_first_and_second_quarter"
   ]
  },
  {
   "cell_type": "markdown",
   "metadata": {
    "slideshow": {
     "slide_type": "fragment"
    }
   },
   "source": [
    "How about removing the third quarter, then?"
   ]
  },
  {
   "cell_type": "code",
   "execution_count": 26,
   "metadata": {
    "execution": {
     "iopub.execute_input": "2025-10-26T17:47:40.307777Z",
     "iopub.status.busy": "2025-10-26T17:47:40.307663Z",
     "iopub.status.idle": "2025-10-26T17:47:40.309757Z",
     "shell.execute_reply": "2025-10-26T17:47:40.309525Z"
    },
    "slideshow": {
     "slide_type": "fragment"
    }
   },
   "outputs": [
    {
     "data": {
      "text/plain": [
       "'F-(V4EQ,7)2@0_'"
      ]
     },
     "execution_count": 26,
     "metadata": {},
     "output_type": "execute_result"
    }
   ],
   "source": [
    "input_without_first_and_third_quarter = failing_input[quarter_length:\n",
    "                                                      quarter_length * 2] + failing_input[quarter_length * 3:]\n",
    "input_without_first_and_third_quarter"
   ]
  },
  {
   "cell_type": "code",
   "execution_count": 27,
   "metadata": {
    "execution": {
     "iopub.execute_input": "2025-10-26T17:47:40.310864Z",
     "iopub.status.busy": "2025-10-26T17:47:40.310754Z",
     "iopub.status.idle": "2025-10-26T17:47:40.312457Z",
     "shell.execute_reply": "2025-10-26T17:47:40.312245Z"
    },
    "slideshow": {
     "slide_type": "subslide"
    }
   },
   "outputs": [
    {
     "name": "stderr",
     "output_type": "stream",
     "text": [
      "Traceback (most recent call last):\n",
      "  File \"/var/folders/n2/xd9445p97rb3xh7m1dfx8_4h0006ts/T/ipykernel_51600/4218135276.py\", line 2, in <module>\n",
      "    mystery(input_without_first_and_third_quarter)\n",
      "    ~~~~~~~^^^^^^^^^^^^^^^^^^^^^^^^^^^^^^^^^^^^^^^\n",
      "  File \"/var/folders/n2/xd9445p97rb3xh7m1dfx8_4h0006ts/T/ipykernel_51600/4141878445.py\", line 5, in mystery\n",
      "    raise ValueError(\"Invalid input\")\n",
      "ValueError: Invalid input (expected)\n"
     ]
    }
   ],
   "source": [
    "with ExpectError(ValueError):\n",
    "    mystery(input_without_first_and_third_quarter)"
   ]
  },
  {
   "cell_type": "markdown",
   "metadata": {
    "slideshow": {
     "slide_type": "fragment"
    }
   },
   "source": [
    "Yes!  This has succeeded.  Our input is now 50% smaller."
   ]
  },
  {
   "cell_type": "markdown",
   "metadata": {
    "slideshow": {
     "slide_type": "subslide"
    }
   },
   "source": [
    "We have now tried to remove pieces that make up $\\frac{1}{2}$ and $\\frac{1}{4}$ of the original failing string.  In the next iteration, we would go and remove even smaller pieces – $\\frac{1}{8}$, $\\frac{1}{16}$ and so on.  We continue until we are down to $\\frac{1}{26}$ – that is, individual characters."
   ]
  },
  {
   "cell_type": "markdown",
   "metadata": {
    "slideshow": {
     "slide_type": "fragment"
    }
   },
   "source": [
    "However, this is something we happily let a computer do for us – and this is what the _Delta Debugging_ algorithm does.  Delta Debugging implements the strategy sketched above: It first removes larger chunks of size $\\frac{1}{2}$; if this does not fail, then we proceed to chunks of size $\\frac{1}{4}$, then $\\frac{1}{8}$ and so on."
   ]
  },
  {
   "cell_type": "markdown",
   "metadata": {
    "slideshow": {
     "slide_type": "subslide"
    }
   },
   "source": [
    "Our `ddmin()` implementation uses the exact same Python code as Zeller in \\cite{Zeller2002}; the only difference is that it has been adapted to work on Python 3.  The variable `n` (initially 2) indicates the granularity – in each step, chunks of size $\\frac{1}{n}$ are cut away.  If none of the test fails (`some_complement_is_failing` is False), then `n` is doubled – until it reaches the length of the input."
   ]
  },
  {
   "cell_type": "code",
   "execution_count": 28,
   "metadata": {
    "execution": {
     "iopub.execute_input": "2025-10-26T17:47:40.313774Z",
     "iopub.status.busy": "2025-10-26T17:47:40.313699Z",
     "iopub.status.idle": "2025-10-26T17:47:40.315227Z",
     "shell.execute_reply": "2025-10-26T17:47:40.315007Z"
    },
    "slideshow": {
     "slide_type": "fragment"
    }
   },
   "outputs": [],
   "source": [
    "PASS = 'PASS'\n",
    "FAIL = 'FAIL'\n",
    "UNRESOLVED = 'UNRESOLVED'"
   ]
  },
  {
   "cell_type": "code",
   "execution_count": 29,
   "metadata": {
    "execution": {
     "iopub.execute_input": "2025-10-26T17:47:40.316345Z",
     "iopub.status.busy": "2025-10-26T17:47:40.316267Z",
     "iopub.status.idle": "2025-10-26T17:47:40.317960Z",
     "shell.execute_reply": "2025-10-26T17:47:40.317758Z"
    },
    "slideshow": {
     "slide_type": "fragment"
    },
    "tags": [
     "remove-input"
    ]
   },
   "outputs": [],
   "source": [
    "# ignore\n",
    "from typing import Sequence, Any, Callable, Optional, Type, Tuple\n",
    "from typing import Dict, Union, Set, List, FrozenSet, cast"
   ]
  },
  {
   "cell_type": "code",
   "execution_count": 30,
   "metadata": {
    "execution": {
     "iopub.execute_input": "2025-10-26T17:47:40.319174Z",
     "iopub.status.busy": "2025-10-26T17:47:40.319085Z",
     "iopub.status.idle": "2025-10-26T17:47:40.321986Z",
     "shell.execute_reply": "2025-10-26T17:47:40.321733Z"
    },
    "slideshow": {
     "slide_type": "subslide"
    }
   },
   "outputs": [],
   "source": [
    "def ddmin(test: Callable, inp: Sequence[Any], *test_args: Any) -> Sequence:\n",
    "    \"\"\"\n",
    "    Reduce `inp` to a 1-minimal failing subset, using the outcome\n",
    "    of `test(inp, *test_args)`, which should be `PASS`, `FAIL`, or `UNRESOLVED`.\n",
    "    \"\"\"\n",
    "    assert test(inp, *test_args) != PASS\n",
    "\n",
    "    n = 2  # Initial granularity\n",
    "    while len(inp) >= 2:\n",
    "        start: int = 0  # Where to start the next subset\n",
    "        subset_length: int = int(len(inp) / n)\n",
    "        some_complement_is_failing: bool = False\n",
    "\n",
    "        while start < len(inp):\n",
    "            # Cut out inp[start:(start + subset_length)]\n",
    "            complement: Sequence[Any] = \\\n",
    "                inp[:start] + inp[start + subset_length:]  # type: ignore\n",
    "\n",
    "            if test(complement, *test_args) == FAIL:\n",
    "                # Continue with reduced input\n",
    "                inp = complement\n",
    "                n = max(n - 1, 2)\n",
    "                some_complement_is_failing = True\n",
    "                break\n",
    "\n",
    "            # Continue with next subset\n",
    "            start += subset_length\n",
    "\n",
    "        if not some_complement_is_failing:\n",
    "            # Increase granularity\n",
    "            if n == len(inp):\n",
    "                break\n",
    "            n = min(n * 2, len(inp))\n",
    "\n",
    "    return inp"
   ]
  },
  {
   "cell_type": "markdown",
   "metadata": {
    "slideshow": {
     "slide_type": "subslide"
    }
   },
   "source": [
    "To see how `ddmin()` works, let us run it on our failing input. We need to define a `test` function that returns PASS or FAIL, depending on the test outcome. This `generic_test()` assumes that the function fails if it raises an exception (such as an `AssertException`), and passes otherwise. The optional argument `expected_exc` specifies the name of exception to be checked for; this ensures we reduce only for the kind of error raised in the original failure."
   ]
  },
  {
   "cell_type": "code",
   "execution_count": 31,
   "metadata": {
    "execution": {
     "iopub.execute_input": "2025-10-26T17:47:40.323268Z",
     "iopub.status.busy": "2025-10-26T17:47:40.323187Z",
     "iopub.status.idle": "2025-10-26T17:47:40.325478Z",
     "shell.execute_reply": "2025-10-26T17:47:40.325269Z"
    },
    "slideshow": {
     "slide_type": "subslide"
    }
   },
   "outputs": [],
   "source": [
    "def generic_test(inp: Sequence, fun: Callable,\n",
    "                 expected_exc: Optional[Type] = None) -> str:\n",
    "    result = None\n",
    "    detail = \"\"\n",
    "    try:\n",
    "        result = fun(inp)\n",
    "        outcome = PASS\n",
    "    except Exception as exc:\n",
    "        detail = f\" ({type(exc).__name__}: {str(exc)})\"\n",
    "        if expected_exc is None:\n",
    "            outcome = FAIL\n",
    "        elif type(exc) == type(expected_exc) and str(exc) == str(expected_exc):\n",
    "            outcome = FAIL\n",
    "        else:\n",
    "            outcome = UNRESOLVED\n",
    "\n",
    "    print(f\"{fun.__name__}({repr(inp)}): {outcome}{detail}\")\n",
    "    return outcome"
   ]
  },
  {
   "cell_type": "markdown",
   "metadata": {
    "slideshow": {
     "slide_type": "subslide"
    }
   },
   "source": [
    "We can now invoke `ddmin()` in our setting. With each step, we see how the remaining input gets smaller and smaller, until only two characters remain:"
   ]
  },
  {
   "cell_type": "code",
   "execution_count": 32,
   "metadata": {
    "execution": {
     "iopub.execute_input": "2025-10-26T17:47:40.326711Z",
     "iopub.status.busy": "2025-10-26T17:47:40.326634Z",
     "iopub.status.idle": "2025-10-26T17:47:40.329156Z",
     "shell.execute_reply": "2025-10-26T17:47:40.328831Z"
    },
    "slideshow": {
     "slide_type": "subslide"
    }
   },
   "outputs": [
    {
     "name": "stdout",
     "output_type": "stream",
     "text": [
      "mystery('V\"/+!aF-(V4EOz*+s/Q,7)2@0_'): FAIL (ValueError: Invalid input)\n",
      "mystery('z*+s/Q,7)2@0_'): PASS\n",
      "mystery('V\"/+!aF-(V4EO'): PASS\n",
      "mystery('F-(V4EOz*+s/Q,7)2@0_'): FAIL (ValueError: Invalid input)\n",
      "mystery('Oz*+s/Q,7)2@0_'): PASS\n",
      "mystery('F-(V4EQ,7)2@0_'): FAIL (ValueError: Invalid input)\n",
      "mystery(',7)2@0_'): PASS\n",
      "mystery('F-(V4EQ'): PASS\n",
      "mystery('V4EQ,7)2@0_'): PASS\n",
      "mystery('F-(Q,7)2@0_'): FAIL (ValueError: Invalid input)\n",
      "mystery('Q,7)2@0_'): PASS\n",
      "mystery('F-()2@0_'): FAIL (ValueError: Invalid input)\n",
      "mystery('2@0_'): PASS\n",
      "mystery('F-()'): FAIL (ValueError: Invalid input)\n",
      "mystery('()'): FAIL (ValueError: Invalid input)\n",
      "mystery(')'): PASS\n",
      "mystery('('): PASS\n"
     ]
    },
    {
     "data": {
      "text/plain": [
       "'()'"
      ]
     },
     "execution_count": 32,
     "metadata": {},
     "output_type": "execute_result"
    }
   ],
   "source": [
    "ddmin(generic_test, failing_input, mystery, ValueError('Invalid input'))"
   ]
  },
  {
   "cell_type": "markdown",
   "metadata": {
    "slideshow": {
     "slide_type": "subslide"
    }
   },
   "source": [
    "Now we know why `mystery()` fails – it suffices that the input contains two matching parentheses.  Delta Debugging determines this in 25 steps.  Its result is _1-minimal_, meaning that every character contained is required to produce the error; removing any (as seen in the last two tests, above) no longer causes the test to fail.  This property is guaranteed by the delta debugging algorithm, which in its last stage always tries to delete characters one by one."
   ]
  },
  {
   "cell_type": "markdown",
   "metadata": {
    "button": false,
    "new_sheet": true,
    "run_control": {
     "read_only": false
    },
    "slideshow": {
     "slide_type": "subslide"
    }
   },
   "source": [
    "A reduced test case such as the one above has many advantages:\n",
    "\n",
    "* A reduced test case __reduces the _cognitive load_ of the programmer__.  The test case is shorter and focused, and thus does not burden the programmer with irrelevant details.  A reduced input typically leads to shorter executions and smaller program states, both of which reduce the search space as it comes to understanding the bug.  In our case, we have eliminated lots of irrelevant input – only the two characters the reduced input contains are relevant.\n",
    "\n",
    "* A reduced test case __is easier to communicate__.  All one needs here is the summary: `mystery() fails on \"()\"`, which is much better than `mystery() fails on a 4100-character input (attached)`.\n",
    "\n",
    "* A reduced test case helps in __identifying duplicates__.  If similar bugs have been reported already, and all of them have been reduced to the same cause (namely that the input contains matching parentheses), then it becomes obvious that all these bugs are different symptoms of the same underlying cause – and would all be resolved at once with one code fix."
   ]
  },
  {
   "attachments": {},
   "cell_type": "markdown",
   "metadata": {
    "slideshow": {
     "slide_type": "subslide"
    }
   },
   "source": [
    "How effective is delta debugging?  In the best case (when the left half or the right half fails), the number of tests is logarithmic proportional to the length $n$ of an input (i.e., $O(\\log_2 n)$); this is the same complexity as binary search.  In the worst case, though, delta debugging can require a number of tests proportional to $n^2$ (i.e., $O(n^2)$) – this happens in the case when we are down to character granularity, and we have to repeatedly tried to delete all characters, only to find that deleting the last character results in a failure \\cite{Zeller2002}.  (This is a pretty pathological situation, though.)"
   ]
  },
  {
   "cell_type": "markdown",
   "metadata": {
    "slideshow": {
     "slide_type": "fragment"
    }
   },
   "source": [
    "In general, delta debugging is a robust algorithm that is easy to implement, easy to deploy, and easy to use – provided that the underlying test case is deterministic and runs quickly enough to warrant a number of experiments. In general, any debugging task should start with simplifying the test case as much as possible – and this is where delta debugging can help."
   ]
  },
  {
   "cell_type": "markdown",
   "metadata": {
    "slideshow": {
     "slide_type": "slide"
    }
   },
   "source": [
    "## A Simple DeltaDebugger Interface\n",
    "\n",
    "As defined above, using `ddmin()` still requires the developer to set up a special testing function – and writing or using even a generic tester (like `generic_test()`) takes some effort.  We want to simplify the setup such that only two lines of Python is required.\n",
    "\n",
    "Our aim is to have a `DeltaDebugger` class that we can use in conjunction with a failing (i.e., exception raising) function call:\n",
    "\n",
    "```python\n",
    "with DeltaDebugger() as dd:\n",
    "    mystery(failing_input)\n",
    "dd\n",
    "```\n",
    "Here, at the end of the `with` statement, printing out `dd` shows us the minimal input that causes the failure."
   ]
  },
  {
   "cell_type": "markdown",
   "metadata": {
    "slideshow": {
     "slide_type": "subslide"
    }
   },
   "source": [
    "### Excursion: Implementing DeltaDebugger"
   ]
  },
  {
   "attachments": {},
   "cell_type": "markdown",
   "metadata": {
    "slideshow": {
     "slide_type": "subslide"
    }
   },
   "source": [
    "Our interface consist of six building blocks:\n",
    "\n",
    "1. We collect the name and args of the first call in the `with` body, as well as the exception it raises.\n",
    "2. We set up an infrastructure such that we can repeat calls with different arguments.\n",
    "3. We make sure that multiple tests with the same arguments can return outcomes from a cache.\n",
    "4. We create a `DeltaDebugger` class that implements the general Delta Debugging algorithm – an algorithm than can minimize failing inputs as well as maximize passing inputs.\n",
    "5. We provide an infrastructure that applies Delta Debugging on multiple arguments.\n",
    "6. Finally, custom methods like `min_args()` allow invoking delta debugging on arguments."
   ]
  },
  {
   "cell_type": "markdown",
   "metadata": {
    "slideshow": {
     "slide_type": "subslide"
    }
   },
   "source": [
    "#### Collecting a Call\n",
    "\n",
    "We start by creating an infrastructure that collects a call. The `CallCollector` class saves the first call observed in `_function`, `_args`, and `_exception` attributes, respectively; it then turns tracing off."
   ]
  },
  {
   "cell_type": "code",
   "execution_count": 33,
   "metadata": {
    "execution": {
     "iopub.execute_input": "2025-10-26T17:47:40.331416Z",
     "iopub.status.busy": "2025-10-26T17:47:40.331263Z",
     "iopub.status.idle": "2025-10-26T17:47:40.333116Z",
     "shell.execute_reply": "2025-10-26T17:47:40.332885Z"
    },
    "slideshow": {
     "slide_type": "skip"
    }
   },
   "outputs": [],
   "source": [
    "import sys"
   ]
  },
  {
   "cell_type": "code",
   "execution_count": 34,
   "metadata": {
    "execution": {
     "iopub.execute_input": "2025-10-26T17:47:40.334414Z",
     "iopub.status.busy": "2025-10-26T17:47:40.334312Z",
     "iopub.status.idle": "2025-10-26T17:47:40.335853Z",
     "shell.execute_reply": "2025-10-26T17:47:40.335640Z"
    },
    "slideshow": {
     "slide_type": "skip"
    }
   },
   "outputs": [],
   "source": [
    "from types import FunctionType, FrameType, TracebackType"
   ]
  },
  {
   "cell_type": "code",
   "execution_count": 35,
   "metadata": {
    "execution": {
     "iopub.execute_input": "2025-10-26T17:47:40.337036Z",
     "iopub.status.busy": "2025-10-26T17:47:40.336954Z",
     "iopub.status.idle": "2025-10-26T17:47:40.338503Z",
     "shell.execute_reply": "2025-10-26T17:47:40.338248Z"
    },
    "slideshow": {
     "slide_type": "skip"
    }
   },
   "outputs": [],
   "source": [
    "from StackInspector import StackInspector"
   ]
  },
  {
   "cell_type": "code",
   "execution_count": 36,
   "metadata": {
    "execution": {
     "iopub.execute_input": "2025-10-26T17:47:40.339629Z",
     "iopub.status.busy": "2025-10-26T17:47:40.339556Z",
     "iopub.status.idle": "2025-10-26T17:47:40.341033Z",
     "shell.execute_reply": "2025-10-26T17:47:40.340791Z"
    },
    "slideshow": {
     "slide_type": "fragment"
    }
   },
   "outputs": [],
   "source": [
    "class NoCallError(ValueError):\n",
    "    pass"
   ]
  },
  {
   "cell_type": "code",
   "execution_count": 37,
   "metadata": {
    "execution": {
     "iopub.execute_input": "2025-10-26T17:47:40.342513Z",
     "iopub.status.busy": "2025-10-26T17:47:40.342406Z",
     "iopub.status.idle": "2025-10-26T17:47:40.346594Z",
     "shell.execute_reply": "2025-10-26T17:47:40.346259Z"
    },
    "slideshow": {
     "slide_type": "subslide"
    }
   },
   "outputs": [],
   "source": [
    "class CallCollector(StackInspector):\n",
    "    \"\"\"\n",
    "    Collect an exception-raising function call f().\n",
    "    Use as `with CallCollector(): f()`\n",
    "    \"\"\"\n",
    "\n",
    "    def __init__(self) -> None:\n",
    "        \"\"\"Initialize collector\"\"\"\n",
    "        self.init()\n",
    "\n",
    "    def init(self) -> None:\n",
    "        \"\"\"Reset for new collection.\"\"\"\n",
    "        self._function: Optional[Callable] = None\n",
    "        self._args: Dict[str, Any] = {}\n",
    "        self._exception: Optional[BaseException] = None\n",
    "        self.original_trace_function: Optional[Callable] = None\n",
    "\n",
    "    def traceit(self, frame: FrameType, event: str, arg: Any) -> None:\n",
    "        \"\"\"Tracing function. Collect first call, then turn tracing off.\"\"\"\n",
    "        if event == 'call':\n",
    "            name = frame.f_code.co_name\n",
    "            if name.startswith('__'):\n",
    "                # Internal function\n",
    "                return\n",
    "            if self._function is not None:\n",
    "                # Already set\n",
    "                return\n",
    "\n",
    "            func = self.search_func(name, frame)\n",
    "            if func:\n",
    "                self._function = func\n",
    "            else:\n",
    "                # Create new function from given code\n",
    "                self._function = self.create_function(frame)\n",
    "\n",
    "            self._args = {}  # Create a local copy of args\n",
    "            for var in frame.f_locals:\n",
    "                if var in frame.f_code.co_freevars:\n",
    "                    continue  # Local var, not an argument\n",
    "                self._args[var] = frame.f_locals[var]\n",
    "\n",
    "            # Turn tracing off\n",
    "            sys.settrace(self.original_trace_function)\n",
    "\n",
    "    def after_collection(self) -> None:\n",
    "        \"\"\"Called after collection. To be defined in subclasses.\"\"\"\n",
    "        pass\n",
    "\n",
    "    def args(self) -> Dict[str, Any]:\n",
    "        \"\"\"Return the dictionary of collected arguments.\"\"\"\n",
    "        return self._args\n",
    "\n",
    "    def function(self) -> Callable:\n",
    "        \"\"\"Return the function called.\"\"\"\n",
    "        if self._function is None:\n",
    "            raise NoCallError(\"No function call collected\")\n",
    "        return self._function\n",
    "\n",
    "    def exception(self) -> Optional[BaseException]:\n",
    "        \"\"\"Return the exception produced, or `None` if none.\"\"\"\n",
    "        return self._exception\n",
    "\n",
    "    def format_call(self, args: Optional[Dict[str, Any]] = None) -> str:  # type: ignore\n",
    "        ...\n",
    "\n",
    "    def format_exception(self, exc: Optional[BaseException] = None) -> str:  # type: ignore\n",
    "        ...\n",
    "\n",
    "    def call(self, new_args: Optional[Dict[str, Any]] = None) -> Any:  # type: ignore\n",
    "        ..."
   ]
  },
  {
   "cell_type": "markdown",
   "metadata": {
    "slideshow": {
     "slide_type": "subslide"
    }
   },
   "source": [
    "A `CallCollector` is used like a `Tracer` from the [chapter on tracing](Tracer.ipynb), using a `with` block to collect a single function call."
   ]
  },
  {
   "cell_type": "code",
   "execution_count": 38,
   "metadata": {
    "execution": {
     "iopub.execute_input": "2025-10-26T17:47:40.348090Z",
     "iopub.status.busy": "2025-10-26T17:47:40.347999Z",
     "iopub.status.idle": "2025-10-26T17:47:40.350503Z",
     "shell.execute_reply": "2025-10-26T17:47:40.350264Z"
    },
    "slideshow": {
     "slide_type": "subslide"
    }
   },
   "outputs": [],
   "source": [
    "class CallCollector(CallCollector):\n",
    "    def __enter__(self) -> Any:\n",
    "        \"\"\"Called at begin of `with` block. Turn tracing on.\"\"\"\n",
    "        self.init()\n",
    "        self.original_trace_function = sys.gettrace()\n",
    "        sys.settrace(self.traceit)\n",
    "        return self\n",
    "\n",
    "    def __exit__(self, exc_tp: Type, exc_value: BaseException,\n",
    "                 exc_traceback: TracebackType) -> Optional[bool]:\n",
    "        \"\"\"Called at end of `with` block. Turn tracing off.\"\"\"\n",
    "        sys.settrace(self.original_trace_function)\n",
    "\n",
    "        if not self._function:\n",
    "            if exc_tp:\n",
    "                return False  # re-raise exception\n",
    "            else:\n",
    "                raise NoCallError(\"No call collected\")\n",
    "\n",
    "        if self.is_internal_error(exc_tp, exc_value, exc_traceback):\n",
    "            return False  # Re-raise exception\n",
    "\n",
    "        self._exception = exc_value\n",
    "        self.after_collection()\n",
    "        return True  # Ignore exception"
   ]
  },
  {
   "cell_type": "markdown",
   "metadata": {
    "slideshow": {
     "slide_type": "subslide"
    }
   },
   "source": [
    "Here are the attributes as collected by `CallCollector` for our `mystery()` function. Note that the `mystery()` exception is \"swallowed\" by the `CallCollector`."
   ]
  },
  {
   "cell_type": "code",
   "execution_count": 39,
   "metadata": {
    "execution": {
     "iopub.execute_input": "2025-10-26T17:47:40.351802Z",
     "iopub.status.busy": "2025-10-26T17:47:40.351720Z",
     "iopub.status.idle": "2025-10-26T17:47:40.353611Z",
     "shell.execute_reply": "2025-10-26T17:47:40.353374Z"
    },
    "slideshow": {
     "slide_type": "fragment"
    }
   },
   "outputs": [],
   "source": [
    "with CallCollector() as call_collector:\n",
    "    mystery(failing_input)"
   ]
  },
  {
   "cell_type": "code",
   "execution_count": 40,
   "metadata": {
    "execution": {
     "iopub.execute_input": "2025-10-26T17:47:40.354718Z",
     "iopub.status.busy": "2025-10-26T17:47:40.354637Z",
     "iopub.status.idle": "2025-10-26T17:47:40.356966Z",
     "shell.execute_reply": "2025-10-26T17:47:40.356585Z"
    },
    "slideshow": {
     "slide_type": "fragment"
    }
   },
   "outputs": [
    {
     "data": {
      "text/plain": [
       "<function __main__.mystery(inp: str) -> None>"
      ]
     },
     "execution_count": 40,
     "metadata": {},
     "output_type": "execute_result"
    }
   ],
   "source": [
    "call_collector.function()"
   ]
  },
  {
   "cell_type": "code",
   "execution_count": 41,
   "metadata": {
    "execution": {
     "iopub.execute_input": "2025-10-26T17:47:40.358676Z",
     "iopub.status.busy": "2025-10-26T17:47:40.358559Z",
     "iopub.status.idle": "2025-10-26T17:47:40.360803Z",
     "shell.execute_reply": "2025-10-26T17:47:40.360554Z"
    },
    "slideshow": {
     "slide_type": "fragment"
    }
   },
   "outputs": [
    {
     "data": {
      "text/plain": [
       "{'inp': 'V\"/+!aF-(V4EOz*+s/Q,7)2@0_'}"
      ]
     },
     "execution_count": 41,
     "metadata": {},
     "output_type": "execute_result"
    }
   ],
   "source": [
    "call_collector.args()"
   ]
  },
  {
   "cell_type": "code",
   "execution_count": 42,
   "metadata": {
    "execution": {
     "iopub.execute_input": "2025-10-26T17:47:40.362015Z",
     "iopub.status.busy": "2025-10-26T17:47:40.361916Z",
     "iopub.status.idle": "2025-10-26T17:47:40.363899Z",
     "shell.execute_reply": "2025-10-26T17:47:40.363686Z"
    },
    "slideshow": {
     "slide_type": "fragment"
    }
   },
   "outputs": [
    {
     "data": {
      "text/plain": [
       "ValueError('Invalid input')"
      ]
     },
     "execution_count": 42,
     "metadata": {},
     "output_type": "execute_result"
    }
   ],
   "source": [
    "call_collector.exception()"
   ]
  },
  {
   "cell_type": "markdown",
   "metadata": {
    "slideshow": {
     "slide_type": "fragment"
    }
   },
   "source": [
    "If an error occurs _before_ the first function call takes place, the exception is simply re-raised."
   ]
  },
  {
   "cell_type": "code",
   "execution_count": 43,
   "metadata": {
    "execution": {
     "iopub.execute_input": "2025-10-26T17:47:40.365101Z",
     "iopub.status.busy": "2025-10-26T17:47:40.365002Z",
     "iopub.status.idle": "2025-10-26T17:47:40.367173Z",
     "shell.execute_reply": "2025-10-26T17:47:40.366918Z"
    },
    "slideshow": {
     "slide_type": "subslide"
    }
   },
   "outputs": [
    {
     "name": "stderr",
     "output_type": "stream",
     "text": [
      "Traceback (most recent call last):\n",
      "  File \"/var/folders/n2/xd9445p97rb3xh7m1dfx8_4h0006ts/T/ipykernel_51600/700237621.py\", line 3, in <module>\n",
      "    some_error()  # type: ignore\n",
      "    ^^^^^^^^^^\n",
      "NameError: name 'some_error' is not defined. Did you mean: 'NameError'? (expected)\n"
     ]
    }
   ],
   "source": [
    "with ExpectError(NameError):\n",
    "    with CallCollector() as c:\n",
    "        some_error()  # type: ignore"
   ]
  },
  {
   "cell_type": "markdown",
   "metadata": {
    "slideshow": {
     "slide_type": "subslide"
    }
   },
   "source": [
    "#### Repeating a Call\n",
    "\n",
    "Our second step is an infrastructure such that we can call the function collected earlier with alternate arguments. We can call the function directly via the collected `_function` attribute:"
   ]
  },
  {
   "cell_type": "code",
   "execution_count": 44,
   "metadata": {
    "execution": {
     "iopub.execute_input": "2025-10-26T17:47:40.368370Z",
     "iopub.status.busy": "2025-10-26T17:47:40.368278Z",
     "iopub.status.idle": "2025-10-26T17:47:40.369812Z",
     "shell.execute_reply": "2025-10-26T17:47:40.369549Z"
    },
    "slideshow": {
     "slide_type": "fragment"
    }
   },
   "outputs": [],
   "source": [
    "call_collector.function()(\"foo\")"
   ]
  },
  {
   "cell_type": "code",
   "execution_count": 45,
   "metadata": {
    "execution": {
     "iopub.execute_input": "2025-10-26T17:47:40.371517Z",
     "iopub.status.busy": "2025-10-26T17:47:40.371341Z",
     "iopub.status.idle": "2025-10-26T17:47:40.373571Z",
     "shell.execute_reply": "2025-10-26T17:47:40.373332Z"
    },
    "slideshow": {
     "slide_type": "subslide"
    }
   },
   "outputs": [
    {
     "name": "stderr",
     "output_type": "stream",
     "text": [
      "Traceback (most recent call last):\n",
      "  File \"/var/folders/n2/xd9445p97rb3xh7m1dfx8_4h0006ts/T/ipykernel_51600/3898025015.py\", line 2, in <module>\n",
      "    call_collector.function()(failing_input)\n",
      "    ~~~~~~~~~~~~~~~~~~~~~~~~~^^^^^^^^^^^^^^^\n",
      "  File \"/var/folders/n2/xd9445p97rb3xh7m1dfx8_4h0006ts/T/ipykernel_51600/4141878445.py\", line 5, in mystery\n",
      "    raise ValueError(\"Invalid input\")\n",
      "ValueError: Invalid input (expected)\n"
     ]
    }
   ],
   "source": [
    "with ExpectError(ValueError):\n",
    "    call_collector.function()(failing_input)"
   ]
  },
  {
   "cell_type": "markdown",
   "metadata": {
    "slideshow": {
     "slide_type": "fragment"
    }
   },
   "source": [
    "We can also provide the arguments collected during the call:"
   ]
  },
  {
   "cell_type": "code",
   "execution_count": 46,
   "metadata": {
    "execution": {
     "iopub.execute_input": "2025-10-26T17:47:40.374812Z",
     "iopub.status.busy": "2025-10-26T17:47:40.374719Z",
     "iopub.status.idle": "2025-10-26T17:47:40.376604Z",
     "shell.execute_reply": "2025-10-26T17:47:40.376380Z"
    },
    "slideshow": {
     "slide_type": "subslide"
    }
   },
   "outputs": [
    {
     "name": "stderr",
     "output_type": "stream",
     "text": [
      "Traceback (most recent call last):\n",
      "  File \"/var/folders/n2/xd9445p97rb3xh7m1dfx8_4h0006ts/T/ipykernel_51600/1915817655.py\", line 2, in <module>\n",
      "    call_collector.function()(**call_collector.args())\n",
      "    ~~~~~~~~~~~~~~~~~~~~~~~~~^^^^^^^^^^^^^^^^^^^^^^^^^\n",
      "  File \"/var/folders/n2/xd9445p97rb3xh7m1dfx8_4h0006ts/T/ipykernel_51600/4141878445.py\", line 5, in mystery\n",
      "    raise ValueError(\"Invalid input\")\n",
      "ValueError: Invalid input (expected)\n"
     ]
    }
   ],
   "source": [
    "with ExpectError(ValueError):\n",
    "    call_collector.function()(**call_collector.args())"
   ]
  },
  {
   "attachments": {},
   "cell_type": "markdown",
   "metadata": {
    "slideshow": {
     "slide_type": "fragment"
    }
   },
   "source": [
    "Our `call()` method calls the collected function using this construct. It also allows changing_ individual arguments by providing a `new_args` dictionary of variable names to new values."
   ]
  },
  {
   "cell_type": "code",
   "execution_count": 47,
   "metadata": {
    "execution": {
     "iopub.execute_input": "2025-10-26T17:47:40.377760Z",
     "iopub.status.busy": "2025-10-26T17:47:40.377688Z",
     "iopub.status.idle": "2025-10-26T17:47:40.379780Z",
     "shell.execute_reply": "2025-10-26T17:47:40.379559Z"
    },
    "slideshow": {
     "slide_type": "subslide"
    }
   },
   "outputs": [],
   "source": [
    "class CallCollector(CallCollector):\n",
    "    def call(self, new_args: Optional[Dict[str, Any]] = None) -> Any:\n",
    "        \"\"\"\n",
    "        Call collected function. If `new_args` is given,\n",
    "        override arguments from its {var: value} entries.\n",
    "        \"\"\"\n",
    "\n",
    "        if new_args is None:\n",
    "            new_args = {}\n",
    "\n",
    "        args = {}  # Create local copy\n",
    "        for var in self.args():\n",
    "            args[var] = self.args()[var]\n",
    "        for var in new_args:\n",
    "            args[var] = new_args[var]\n",
    "\n",
    "        return self.function()(**args)"
   ]
  },
  {
   "cell_type": "markdown",
   "metadata": {
    "slideshow": {
     "slide_type": "subslide"
    }
   },
   "source": [
    "Using simply `call()` without arguments reproduces the failure:"
   ]
  },
  {
   "cell_type": "code",
   "execution_count": 48,
   "metadata": {
    "execution": {
     "iopub.execute_input": "2025-10-26T17:47:40.380924Z",
     "iopub.status.busy": "2025-10-26T17:47:40.380839Z",
     "iopub.status.idle": "2025-10-26T17:47:40.383025Z",
     "shell.execute_reply": "2025-10-26T17:47:40.382761Z"
    },
    "slideshow": {
     "slide_type": "subslide"
    }
   },
   "outputs": [
    {
     "name": "stderr",
     "output_type": "stream",
     "text": [
      "Traceback (most recent call last):\n",
      "  File \"/var/folders/n2/xd9445p97rb3xh7m1dfx8_4h0006ts/T/ipykernel_51600/460230734.py\", line 4, in <module>\n",
      "    call_collector.call()\n",
      "    ~~~~~~~~~~~~~~~~~~~^^\n",
      "  File \"/var/folders/n2/xd9445p97rb3xh7m1dfx8_4h0006ts/T/ipykernel_51600/3952656613.py\", line 17, in call\n",
      "    return self.function()(**args)\n",
      "           ~~~~~~~~~~~~~~~^^^^^^^^\n",
      "  File \"/var/folders/n2/xd9445p97rb3xh7m1dfx8_4h0006ts/T/ipykernel_51600/4141878445.py\", line 5, in mystery\n",
      "    raise ValueError(\"Invalid input\")\n",
      "ValueError: Invalid input (expected)\n"
     ]
    }
   ],
   "source": [
    "with CallCollector() as call_collector:\n",
    "    mystery(failing_input)\n",
    "with ExpectError(ValueError):\n",
    "    call_collector.call()"
   ]
  },
  {
   "cell_type": "markdown",
   "metadata": {
    "slideshow": {
     "slide_type": "subslide"
    }
   },
   "source": [
    "We can also supply alternate arguments (and get alternate outcomes):"
   ]
  },
  {
   "cell_type": "code",
   "execution_count": 49,
   "metadata": {
    "execution": {
     "iopub.execute_input": "2025-10-26T17:47:40.384295Z",
     "iopub.status.busy": "2025-10-26T17:47:40.384183Z",
     "iopub.status.idle": "2025-10-26T17:47:40.385641Z",
     "shell.execute_reply": "2025-10-26T17:47:40.385401Z"
    },
    "slideshow": {
     "slide_type": "fragment"
    }
   },
   "outputs": [],
   "source": [
    "call_collector.call({'inp': 'foo'})"
   ]
  },
  {
   "cell_type": "markdown",
   "metadata": {
    "slideshow": {
     "slide_type": "fragment"
    }
   },
   "source": [
    "We close with two helper functions that come handy for logging and error messages:"
   ]
  },
  {
   "cell_type": "code",
   "execution_count": 50,
   "metadata": {
    "execution": {
     "iopub.execute_input": "2025-10-26T17:47:40.387258Z",
     "iopub.status.busy": "2025-10-26T17:47:40.387115Z",
     "iopub.status.idle": "2025-10-26T17:47:40.389781Z",
     "shell.execute_reply": "2025-10-26T17:47:40.389485Z"
    },
    "slideshow": {
     "slide_type": "subslide"
    }
   },
   "outputs": [],
   "source": [
    "class CallCollector(CallCollector):\n",
    "    def format_call(self, args: Optional[Dict[str, Any]] = None) -> str:\n",
    "        \"\"\"Return a string representing a call of the function with given args.\"\"\"\n",
    "        if args is None:\n",
    "            args = self.args()\n",
    "        return self.function().__name__ + \"(\" + \\\n",
    "            \", \".join(f\"{arg}={repr(args[arg])}\" for arg in args) + \")\"\n",
    "\n",
    "    def format_exception(self, exc: Optional[BaseException] = None) -> str:\n",
    "        \"\"\"Return a string representing the given exception.\"\"\"\n",
    "        if exc is None:\n",
    "            exc = self.exception()\n",
    "        s = type(exc).__name__\n",
    "        if str(exc):\n",
    "            s += \": \" + str(exc)\n",
    "        return s"
   ]
  },
  {
   "cell_type": "code",
   "execution_count": 51,
   "metadata": {
    "execution": {
     "iopub.execute_input": "2025-10-26T17:47:40.391277Z",
     "iopub.status.busy": "2025-10-26T17:47:40.391143Z",
     "iopub.status.idle": "2025-10-26T17:47:40.393230Z",
     "shell.execute_reply": "2025-10-26T17:47:40.392862Z"
    },
    "slideshow": {
     "slide_type": "subslide"
    }
   },
   "outputs": [],
   "source": [
    "with CallCollector() as call_collector:\n",
    "    mystery(failing_input)"
   ]
  },
  {
   "cell_type": "code",
   "execution_count": 52,
   "metadata": {
    "execution": {
     "iopub.execute_input": "2025-10-26T17:47:40.394783Z",
     "iopub.status.busy": "2025-10-26T17:47:40.394660Z",
     "iopub.status.idle": "2025-10-26T17:47:40.397074Z",
     "shell.execute_reply": "2025-10-26T17:47:40.396782Z"
    },
    "slideshow": {
     "slide_type": "fragment"
    }
   },
   "outputs": [
    {
     "data": {
      "text/plain": [
       "'mystery(inp=\\'V\"/+!aF-(V4EOz*+s/Q,7)2@0_\\')'"
      ]
     },
     "execution_count": 52,
     "metadata": {},
     "output_type": "execute_result"
    }
   ],
   "source": [
    "call_collector.format_call()"
   ]
  },
  {
   "cell_type": "code",
   "execution_count": 53,
   "metadata": {
    "execution": {
     "iopub.execute_input": "2025-10-26T17:47:40.398940Z",
     "iopub.status.busy": "2025-10-26T17:47:40.398759Z",
     "iopub.status.idle": "2025-10-26T17:47:40.401549Z",
     "shell.execute_reply": "2025-10-26T17:47:40.401122Z"
    },
    "slideshow": {
     "slide_type": "fragment"
    }
   },
   "outputs": [
    {
     "data": {
      "text/plain": [
       "'ValueError: Invalid input'"
      ]
     },
     "execution_count": 53,
     "metadata": {},
     "output_type": "execute_result"
    }
   ],
   "source": [
    "call_collector.format_exception()"
   ]
  },
  {
   "cell_type": "markdown",
   "metadata": {
    "slideshow": {
     "slide_type": "subslide"
    }
   },
   "source": [
    "#### Testing, Logging, and Caching\n",
    "\n",
    "Our next to last step is an infrastructure that implements delta debugging for the collected call."
   ]
  },
  {
   "cell_type": "markdown",
   "metadata": {
    "slideshow": {
     "slide_type": "fragment"
    }
   },
   "source": [
    "We first introduce a `CallReducer` class as an abstract superclass for all kinds of reducers.\n",
    "Its `run()` method tests the function and returns PASS, FAIL, or UNRESOLVED. As with `generic_test()`, above, we check for exception type and exact error message."
   ]
  },
  {
   "cell_type": "code",
   "execution_count": 54,
   "metadata": {
    "execution": {
     "iopub.execute_input": "2025-10-26T17:47:40.403279Z",
     "iopub.status.busy": "2025-10-26T17:47:40.403167Z",
     "iopub.status.idle": "2025-10-26T17:47:40.405852Z",
     "shell.execute_reply": "2025-10-26T17:47:40.405604Z"
    },
    "slideshow": {
     "slide_type": "subslide"
    }
   },
   "outputs": [],
   "source": [
    "class CallReducer(CallCollector):\n",
    "    def __init__(self, *, log: Union[bool, int] = False) -> None:\n",
    "        \"\"\"Initialize. If `log` is True, enable logging.\"\"\"\n",
    "        super().__init__()\n",
    "        self.log = log\n",
    "        self.reset()\n",
    "\n",
    "    def reset(self) -> None:\n",
    "        \"\"\"Reset the number of tests.\"\"\"\n",
    "        self.tests = 0\n",
    "\n",
    "    def run(self, args: Dict[str, Any]) -> str:\n",
    "        \"\"\"\n",
    "        Run collected function with `args`. Return\n",
    "        * PASS if no exception occurred\n",
    "        * FAIL if the collected exception occurred\n",
    "        * UNRESOLVED if some other exception occurred.\n",
    "        Not to be used directly; can be overloaded in subclasses.\n",
    "        \"\"\"\n",
    "        try:\n",
    "            result = self.call(args)\n",
    "        except Exception as exc:\n",
    "            self.last_exception = exc\n",
    "            if (type(exc) == type(self.exception()) and\n",
    "                    str(exc) == str(self.exception())):\n",
    "                return FAIL\n",
    "            else:\n",
    "                return UNRESOLVED  # Some other failure\n",
    "\n",
    "        self.last_result = result\n",
    "        return PASS"
   ]
  },
  {
   "cell_type": "markdown",
   "metadata": {
    "slideshow": {
     "slide_type": "subslide"
    }
   },
   "source": [
    "The `test()` method runs a single test (with logging, if wanted); the `reduce_arg()` method will eventually reduce an input to the minimum."
   ]
  },
  {
   "cell_type": "code",
   "execution_count": 55,
   "metadata": {
    "execution": {
     "iopub.execute_input": "2025-10-26T17:47:40.407423Z",
     "iopub.status.busy": "2025-10-26T17:47:40.407317Z",
     "iopub.status.idle": "2025-10-26T17:47:40.409772Z",
     "shell.execute_reply": "2025-10-26T17:47:40.409528Z"
    },
    "slideshow": {
     "slide_type": "subslide"
    }
   },
   "outputs": [],
   "source": [
    "class CallReducer(CallReducer):\n",
    "    def test(self, args: Dict[str, Any]) -> str:\n",
    "        \"\"\"Like run(), but also log detail and keep statistics.\"\"\"\n",
    "        outcome = self.run(args)\n",
    "        if outcome == PASS:\n",
    "            detail = \"\"\n",
    "        else:\n",
    "            detail = f\" ({self.format_exception(self.last_exception)})\"\n",
    "\n",
    "        self.tests += 1\n",
    "        if self.log:\n",
    "            print(f\"Test #{self.tests} {self.format_call(args)}: {outcome}{detail}\")\n",
    "\n",
    "        return outcome\n",
    "\n",
    "    def reduce_arg(self, var_to_be_reduced: str, args: Dict[str, Any]) -> Sequence:\n",
    "        \"\"\"\n",
    "        Determine and return a minimal value for var_to_be_reduced.\n",
    "        To be overloaded in subclasses.\n",
    "        \"\"\"\n",
    "        return args[var_to_be_reduced]"
   ]
  },
  {
   "cell_type": "markdown",
   "metadata": {
    "slideshow": {
     "slide_type": "subslide"
    }
   },
   "source": [
    "Here's some logging output from the `test()` function:"
   ]
  },
  {
   "cell_type": "code",
   "execution_count": 56,
   "metadata": {
    "execution": {
     "iopub.execute_input": "2025-10-26T17:47:40.411359Z",
     "iopub.status.busy": "2025-10-26T17:47:40.411219Z",
     "iopub.status.idle": "2025-10-26T17:47:40.414125Z",
     "shell.execute_reply": "2025-10-26T17:47:40.413854Z"
    },
    "slideshow": {
     "slide_type": "fragment"
    }
   },
   "outputs": [
    {
     "name": "stdout",
     "output_type": "stream",
     "text": [
      "Test #1 mystery(inp='V\"/+!aF-(V4EOz*+s/Q,7)2@0_'): FAIL (ValueError: Invalid input)\n",
      "Test #2 mystery(inp='123'): PASS\n",
      "Test #3 mystery(inp='123'): PASS\n"
     ]
    },
    {
     "data": {
      "text/plain": [
       "'PASS'"
      ]
     },
     "execution_count": 56,
     "metadata": {},
     "output_type": "execute_result"
    }
   ],
   "source": [
    "with CallReducer(log=True) as reducer:\n",
    "    mystery(failing_input)\n",
    "\n",
    "reducer.test({'inp': failing_input})\n",
    "reducer.test({'inp': '123'})\n",
    "reducer.test({'inp': '123'})"
   ]
  },
  {
   "cell_type": "markdown",
   "metadata": {
    "slideshow": {
     "slide_type": "fragment"
    }
   },
   "source": [
    "The `CachingCallReducer` variant saves test results, such that we don't have to run the same tests again and again:"
   ]
  },
  {
   "cell_type": "code",
   "execution_count": 57,
   "metadata": {
    "execution": {
     "iopub.execute_input": "2025-10-26T17:47:40.415935Z",
     "iopub.status.busy": "2025-10-26T17:47:40.415818Z",
     "iopub.status.idle": "2025-10-26T17:47:40.418456Z",
     "shell.execute_reply": "2025-10-26T17:47:40.418217Z"
    },
    "slideshow": {
     "slide_type": "subslide"
    }
   },
   "outputs": [],
   "source": [
    "class CachingCallReducer(CallReducer):\n",
    "    \"\"\"Like CallReducer, but cache test outcomes.\"\"\"\n",
    "\n",
    "    def init(self) -> None:\n",
    "        super().init()\n",
    "        self._cache: Dict[FrozenSet, str] = {}\n",
    "\n",
    "    def test(self, args: Dict[str, Any]) -> str:\n",
    "        # Create a hashable index\n",
    "        try:\n",
    "            index = frozenset((k, v) for k, v in args.items())\n",
    "        except TypeError:\n",
    "            index = frozenset()\n",
    "\n",
    "        if not index:\n",
    "            # Non-hashable value – do not use cache\n",
    "            return super().test(args)\n",
    "\n",
    "        if index in self._cache:\n",
    "            return self._cache[index]\n",
    "\n",
    "        outcome = super().test(args)\n",
    "        self._cache[index] = outcome\n",
    "\n",
    "        return outcome"
   ]
  },
  {
   "cell_type": "markdown",
   "metadata": {
    "slideshow": {
     "slide_type": "subslide"
    }
   },
   "source": [
    "If we now repeat a test with the same argument, its outcome can be found in the cache:"
   ]
  },
  {
   "cell_type": "code",
   "execution_count": 58,
   "metadata": {
    "execution": {
     "iopub.execute_input": "2025-10-26T17:47:40.419748Z",
     "iopub.status.busy": "2025-10-26T17:47:40.419644Z",
     "iopub.status.idle": "2025-10-26T17:47:40.422183Z",
     "shell.execute_reply": "2025-10-26T17:47:40.421945Z"
    },
    "slideshow": {
     "slide_type": "fragment"
    }
   },
   "outputs": [
    {
     "name": "stdout",
     "output_type": "stream",
     "text": [
      "Test #1 mystery(inp='V\"/+!aF-(V4EOz*+s/Q,7)2@0_'): FAIL (ValueError: Invalid input)\n",
      "Test #2 mystery(inp='123'): PASS\n"
     ]
    },
    {
     "data": {
      "text/plain": [
       "'PASS'"
      ]
     },
     "execution_count": 58,
     "metadata": {},
     "output_type": "execute_result"
    }
   ],
   "source": [
    "with CachingCallReducer(log=True) as reducer:\n",
    "    mystery(failing_input)\n",
    "\n",
    "reducer.test({'inp': failing_input})\n",
    "reducer.test({'inp': '123'})\n",
    "reducer.test({'inp': '123'})"
   ]
  },
  {
   "cell_type": "markdown",
   "metadata": {
    "slideshow": {
     "slide_type": "subslide"
    }
   },
   "source": [
    "#### General Delta Debugging\n",
    "\n",
    "The `DeltaDebugger` class finally implements Delta Debugging on arguments. Our implementation uses the _general_ `dd` delta debugging algorithm from \\cite{Zeller2002}. In contrast to `ddmin`, it returns a _pair_ of a maximized passing input and a minimized failing input. The algorithm can be customized, however, to leave the passing input fixed and _only_ to minimize the failing input (as with `ddmin`), or vice versa."
   ]
  },
  {
   "cell_type": "markdown",
   "metadata": {
    "slideshow": {
     "slide_type": "fragment"
    }
   },
   "source": [
    "Internally, `dd` does not directly work on a list of elements; instead, it works on sets of _indices_ into such a list. The function `to_set()` converts a collection into such a set."
   ]
  },
  {
   "cell_type": "code",
   "execution_count": 59,
   "metadata": {
    "execution": {
     "iopub.execute_input": "2025-10-26T17:47:40.423503Z",
     "iopub.status.busy": "2025-10-26T17:47:40.423411Z",
     "iopub.status.idle": "2025-10-26T17:47:40.425222Z",
     "shell.execute_reply": "2025-10-26T17:47:40.424871Z"
    },
    "slideshow": {
     "slide_type": "fragment"
    }
   },
   "outputs": [],
   "source": [
    "def to_set(inp: Sequence) -> Set:\n",
    "    \"\"\"Convert inp into a set of indices\"\"\"\n",
    "    return set(range(len(inp)))"
   ]
  },
  {
   "cell_type": "code",
   "execution_count": 60,
   "metadata": {
    "execution": {
     "iopub.execute_input": "2025-10-26T17:47:40.426832Z",
     "iopub.status.busy": "2025-10-26T17:47:40.426661Z",
     "iopub.status.idle": "2025-10-26T17:47:40.428934Z",
     "shell.execute_reply": "2025-10-26T17:47:40.428698Z"
    },
    "slideshow": {
     "slide_type": "subslide"
    }
   },
   "outputs": [
    {
     "data": {
      "text/plain": [
       "{0, 1, 2, 3}"
      ]
     },
     "execution_count": 60,
     "metadata": {},
     "output_type": "execute_result"
    }
   ],
   "source": [
    "to_set(\"abcd\")"
   ]
  },
  {
   "cell_type": "markdown",
   "metadata": {
    "slideshow": {
     "slide_type": "fragment"
    }
   },
   "source": [
    "The function `from_set()` converts a set of indices back into the original collection. For this, it uses a function `empty()` that returns an empty collection that has the same type as the given input `inp`."
   ]
  },
  {
   "cell_type": "code",
   "execution_count": 61,
   "metadata": {
    "execution": {
     "iopub.execute_input": "2025-10-26T17:47:40.430227Z",
     "iopub.status.busy": "2025-10-26T17:47:40.430127Z",
     "iopub.status.idle": "2025-10-26T17:47:40.431706Z",
     "shell.execute_reply": "2025-10-26T17:47:40.431491Z"
    },
    "slideshow": {
     "slide_type": "fragment"
    }
   },
   "outputs": [],
   "source": [
    "def empty(inp: Any) -> Any:\n",
    "    \"\"\"Return an \"empty\" element of the same type as inp\"\"\"\n",
    "    return type(inp)()"
   ]
  },
  {
   "cell_type": "code",
   "execution_count": 62,
   "metadata": {
    "execution": {
     "iopub.execute_input": "2025-10-26T17:47:40.432841Z",
     "iopub.status.busy": "2025-10-26T17:47:40.432755Z",
     "iopub.status.idle": "2025-10-26T17:47:40.434829Z",
     "shell.execute_reply": "2025-10-26T17:47:40.434577Z"
    },
    "slideshow": {
     "slide_type": "fragment"
    }
   },
   "outputs": [
    {
     "data": {
      "text/plain": [
       "('', [], set())"
      ]
     },
     "execution_count": 62,
     "metadata": {},
     "output_type": "execute_result"
    }
   ],
   "source": [
    "empty(\"abc\"), empty([1, 2, 3]), empty({0, -1, -2})"
   ]
  },
  {
   "cell_type": "markdown",
   "metadata": {
    "slideshow": {
     "slide_type": "fragment"
    }
   },
   "source": [
    "The function `add_to()` tries out various ways to add an element to a given collection."
   ]
  },
  {
   "cell_type": "code",
   "execution_count": 63,
   "metadata": {
    "execution": {
     "iopub.execute_input": "2025-10-26T17:47:40.436173Z",
     "iopub.status.busy": "2025-10-26T17:47:40.436088Z",
     "iopub.status.idle": "2025-10-26T17:47:40.438102Z",
     "shell.execute_reply": "2025-10-26T17:47:40.437888Z"
    },
    "slideshow": {
     "slide_type": "subslide"
    }
   },
   "outputs": [],
   "source": [
    "def add_to(collection: Any, elem: Any) -> Any:\n",
    "    \"\"\"Add element to collection; return new collection.\"\"\"\n",
    "    if isinstance(collection, str):\n",
    "        return collection + elem  # Strings\n",
    "\n",
    "    try:  # Lists and other collections\n",
    "        return collection + type(collection)([elem])\n",
    "    except TypeError:\n",
    "        pass\n",
    "\n",
    "    try:  # Sets\n",
    "        return collection | type(collection)([elem])\n",
    "    except TypeError:\n",
    "        pass\n",
    "\n",
    "    raise ValueError(\"Cannot add element to collection\")"
   ]
  },
  {
   "cell_type": "code",
   "execution_count": 64,
   "metadata": {
    "execution": {
     "iopub.execute_input": "2025-10-26T17:47:40.439417Z",
     "iopub.status.busy": "2025-10-26T17:47:40.439331Z",
     "iopub.status.idle": "2025-10-26T17:47:40.441738Z",
     "shell.execute_reply": "2025-10-26T17:47:40.441471Z"
    },
    "slideshow": {
     "slide_type": "subslide"
    }
   },
   "outputs": [
    {
     "data": {
      "text/plain": [
       "('abcd', [1, 2, 3, 4], {1, 2, 3, 4})"
      ]
     },
     "execution_count": 64,
     "metadata": {},
     "output_type": "execute_result"
    }
   ],
   "source": [
    "add_to(\"abc\", \"d\"), add_to([1, 2, 3], 4), add_to(set([1, 2, 3]), 4)"
   ]
  },
  {
   "cell_type": "markdown",
   "metadata": {
    "slideshow": {
     "slide_type": "fragment"
    }
   },
   "source": [
    "Using `empty()` and `add_to()`, we can now implement `from_set()`:"
   ]
  },
  {
   "cell_type": "code",
   "execution_count": 65,
   "metadata": {
    "execution": {
     "iopub.execute_input": "2025-10-26T17:47:40.443149Z",
     "iopub.status.busy": "2025-10-26T17:47:40.443061Z",
     "iopub.status.idle": "2025-10-26T17:47:40.445249Z",
     "shell.execute_reply": "2025-10-26T17:47:40.445009Z"
    },
    "slideshow": {
     "slide_type": "fragment"
    }
   },
   "outputs": [],
   "source": [
    "def from_set(the_set: Any, inp: Sequence) -> Any:\n",
    "    \"\"\"Convert a set of indices into `inp` back into a collection.\"\"\"\n",
    "    ret = empty(inp)\n",
    "    for i, c in enumerate(inp):\n",
    "        if i in the_set:\n",
    "            ret = add_to(ret, c)\n",
    "\n",
    "    return ret"
   ]
  },
  {
   "cell_type": "code",
   "execution_count": 66,
   "metadata": {
    "execution": {
     "iopub.execute_input": "2025-10-26T17:47:40.446528Z",
     "iopub.status.busy": "2025-10-26T17:47:40.446432Z",
     "iopub.status.idle": "2025-10-26T17:47:40.448399Z",
     "shell.execute_reply": "2025-10-26T17:47:40.448214Z"
    },
    "slideshow": {
     "slide_type": "fragment"
    }
   },
   "outputs": [
    {
     "data": {
      "text/plain": [
       "'bc'"
      ]
     },
     "execution_count": 66,
     "metadata": {},
     "output_type": "execute_result"
    }
   ],
   "source": [
    "from_set({1, 2}, \"abcd\")"
   ]
  },
  {
   "cell_type": "markdown",
   "metadata": {
    "slideshow": {
     "slide_type": "subslide"
    }
   },
   "source": [
    "To split a set of elements into `n` subsets of equal size, we use this helper function, based on [this discussion in StackOverflow](https://stackoverflow.com/questions/2130016/splitting-a-list-into-n-parts-of-approximately-equal-length/37414115#37414115)."
   ]
  },
  {
   "cell_type": "code",
   "execution_count": 67,
   "metadata": {
    "execution": {
     "iopub.execute_input": "2025-10-26T17:47:40.449573Z",
     "iopub.status.busy": "2025-10-26T17:47:40.449479Z",
     "iopub.status.idle": "2025-10-26T17:47:40.452047Z",
     "shell.execute_reply": "2025-10-26T17:47:40.451792Z"
    },
    "slideshow": {
     "slide_type": "subslide"
    }
   },
   "outputs": [],
   "source": [
    "def split(elems: Any, n: int) -> List:\n",
    "    assert 1 <= n <= len(elems)\n",
    "\n",
    "    k, m = divmod(len(elems), n)\n",
    "    try:\n",
    "        subsets = list(elems[i * k + min(i, m):(i + 1) * k + min(i + 1, m)]\n",
    "                       for i in range(n))\n",
    "    except TypeError:\n",
    "        # Convert to list and back\n",
    "        subsets = list(type(elems)(\n",
    "                    list(elems)[i * k + min(i, m):(i + 1) * k + min(i + 1, m)])\n",
    "                       for i in range(n))\n",
    "\n",
    "    assert len(subsets) == n\n",
    "    assert sum(len(subset) for subset in subsets) == len(elems)\n",
    "    assert all(len(subset) > 0 for subset in subsets)\n",
    "\n",
    "    return subsets"
   ]
  },
  {
   "cell_type": "code",
   "execution_count": 68,
   "metadata": {
    "execution": {
     "iopub.execute_input": "2025-10-26T17:47:40.453432Z",
     "iopub.status.busy": "2025-10-26T17:47:40.453324Z",
     "iopub.status.idle": "2025-10-26T17:47:40.455312Z",
     "shell.execute_reply": "2025-10-26T17:47:40.455015Z"
    },
    "slideshow": {
     "slide_type": "subslide"
    }
   },
   "outputs": [
    {
     "name": "stdout",
     "output_type": "stream",
     "text": [
      "[[1, 2, 3, 4, 5, 6, 7]]\n",
      "[[1, 2, 3, 4], [5, 6, 7]]\n",
      "[[1, 2, 3], [4, 5], [6, 7]]\n",
      "[[1, 2], [3, 4], [5, 6], [7]]\n",
      "[[1, 2], [3, 4], [5], [6], [7]]\n",
      "[[1, 2], [3], [4], [5], [6], [7]]\n",
      "[[1], [2], [3], [4], [5], [6], [7]]\n"
     ]
    }
   ],
   "source": [
    "for n in range(1, 8):\n",
    "    print(split([1, 2, 3, 4, 5, 6, 7], n))"
   ]
  },
  {
   "cell_type": "code",
   "execution_count": 69,
   "metadata": {
    "execution": {
     "iopub.execute_input": "2025-10-26T17:47:40.456994Z",
     "iopub.status.busy": "2025-10-26T17:47:40.456880Z",
     "iopub.status.idle": "2025-10-26T17:47:40.458846Z",
     "shell.execute_reply": "2025-10-26T17:47:40.458667Z"
    },
    "slideshow": {
     "slide_type": "fragment"
    }
   },
   "outputs": [
    {
     "data": {
      "text/plain": [
       "['ab', 'c', 'd']"
      ]
     },
     "execution_count": 69,
     "metadata": {},
     "output_type": "execute_result"
    }
   ],
   "source": [
    "split(\"abcd\", 3)"
   ]
  },
  {
   "cell_type": "code",
   "execution_count": 70,
   "metadata": {
    "execution": {
     "iopub.execute_input": "2025-10-26T17:47:40.460057Z",
     "iopub.status.busy": "2025-10-26T17:47:40.459967Z",
     "iopub.status.idle": "2025-10-26T17:47:40.461799Z",
     "shell.execute_reply": "2025-10-26T17:47:40.461610Z"
    },
    "slideshow": {
     "slide_type": "fragment"
    }
   },
   "outputs": [
    {
     "data": {
      "text/plain": [
       "[{1, 2, 3}, {4, 5}, {6, 7}]"
      ]
     },
     "execution_count": 70,
     "metadata": {},
     "output_type": "execute_result"
    }
   ],
   "source": [
    "split({1, 2, 3, 4, 5, 6, 7}, 3)"
   ]
  },
  {
   "cell_type": "markdown",
   "metadata": {
    "slideshow": {
     "slide_type": "subslide"
    }
   },
   "source": [
    "With these, we can now implement general delta debugging. Our implementation follows \\cite{Zeller2002} with the following optimizations:\n",
    "\n",
    "1. We can control whether only to minimize or to maximize (\"mode\")\n",
    "2. The operations \"Reduce to subset\" and \"Increase to subset\" are only taken while the number of subsets is still 2.\n",
    "3. If \"Reduce to subset\" and \"Increase to subset\" are successful, the offset is set to `i` (not `0`) to distribute reduction operations more evenly across the input. (Thanks to Olaf Chitil and Joanna Sharrad to point out this issue!)"
   ]
  },
  {
   "cell_type": "code",
   "execution_count": 71,
   "metadata": {
    "execution": {
     "iopub.execute_input": "2025-10-26T17:47:40.462887Z",
     "iopub.status.busy": "2025-10-26T17:47:40.462818Z",
     "iopub.status.idle": "2025-10-26T17:47:40.464368Z",
     "shell.execute_reply": "2025-10-26T17:47:40.464159Z"
    },
    "slideshow": {
     "slide_type": "fragment"
    }
   },
   "outputs": [],
   "source": [
    "class NotFailingError(ValueError):\n",
    "    pass"
   ]
  },
  {
   "cell_type": "code",
   "execution_count": 72,
   "metadata": {
    "execution": {
     "iopub.execute_input": "2025-10-26T17:47:40.465492Z",
     "iopub.status.busy": "2025-10-26T17:47:40.465405Z",
     "iopub.status.idle": "2025-10-26T17:47:40.467045Z",
     "shell.execute_reply": "2025-10-26T17:47:40.466743Z"
    },
    "slideshow": {
     "slide_type": "subslide"
    }
   },
   "outputs": [],
   "source": [
    "class NotPassingError(ValueError):\n",
    "    pass"
   ]
  },
  {
   "cell_type": "code",
   "execution_count": 73,
   "metadata": {
    "execution": {
     "iopub.execute_input": "2025-10-26T17:47:40.468767Z",
     "iopub.status.busy": "2025-10-26T17:47:40.468655Z",
     "iopub.status.idle": "2025-10-26T17:47:40.474347Z",
     "shell.execute_reply": "2025-10-26T17:47:40.474066Z"
    },
    "slideshow": {
     "slide_type": "subslide"
    }
   },
   "outputs": [],
   "source": [
    "class DeltaDebugger(CachingCallReducer):\n",
    "    def dd(self, var_to_be_reduced: str, fail_args: Dict[str, Any], \n",
    "           *, mode: str = '-') -> Tuple[Sequence, Sequence, Sequence]:\n",
    "        \"\"\"General Delta Debugging.\n",
    "        `var_to_be_reduced` - the name of the variable to reduce.\n",
    "        `fail_args` - a dict of (failure-inducing) function arguments, \n",
    "            with `fail_args[var_to_be_reduced]` - the input to apply dd on.\n",
    "        `mode`- how the algorithm should operate:\n",
    "            '-' (default): minimize input (`ddmin`),\n",
    "            '+': maximizing input (`ddmax`),\n",
    "            '+-': minimizing pass/fail difference (`dd`)\n",
    "        Returns a triple (`pass`, `fail`, `diff`) with\n",
    "        * maximized passing input (`pass`), \n",
    "        * minimized failing input (`fail`), and\n",
    "        * their difference `diff`\n",
    "          (elems that are in `fail`, but not in `pass`).\n",
    "        \"\"\"\n",
    "        def test(c: Set) -> str:\n",
    "            # Set up args\n",
    "            test_args = {}\n",
    "            for var in fail_args:\n",
    "                test_args[var] = fail_args[var]\n",
    "            test_args[var_to_be_reduced] = from_set(c, fail_inp)\n",
    "            return self.test(test_args)\n",
    "\n",
    "        def ret(c_pass: Set, c_fail: Set) -> \\\n",
    "            Tuple[Sequence, Sequence, Sequence]:\n",
    "            return (from_set(c_pass, fail_inp),\n",
    "                    from_set(c_fail, fail_inp),\n",
    "                    from_set(c_fail - c_pass, fail_inp))\n",
    "\n",
    "        n = 2  # Initial granularity\n",
    "\n",
    "        fail_inp = fail_args[var_to_be_reduced]\n",
    "\n",
    "        c_pass = to_set([])\n",
    "        c_fail = to_set(fail_inp)\n",
    "        offset = 0\n",
    "\n",
    "        minimize_fail = '-' in mode\n",
    "        maximize_pass = '+' in mode\n",
    "\n",
    "        # Validate inputs\n",
    "        if test(c_pass) == FAIL:\n",
    "            if maximize_pass:\n",
    "                s_pass = repr(from_set(c_pass, fail_inp))\n",
    "                raise NotPassingError(\n",
    "                    f\"Input {s_pass} expected to pass, but fails\")\n",
    "            else:\n",
    "                return ret(c_pass, c_pass)\n",
    "\n",
    "        if test(c_fail) == PASS:\n",
    "            if minimize_fail:\n",
    "                s_fail = repr(from_set(c_fail, fail_inp))\n",
    "                raise NotFailingError(\n",
    "                    f\"Input {s_fail} expected to fail, but passes\")\n",
    "            else:\n",
    "                return ret(c_fail, c_fail)\n",
    "\n",
    "        # Main loop\n",
    "        while True:\n",
    "            if self.log > 1:\n",
    "                print(\"Passing input:\", repr(from_set(c_pass, fail_inp)))\n",
    "                print(\"Failing input:\", repr(from_set(c_fail, fail_inp)))\n",
    "                print(\"Granularity:  \", n)\n",
    "\n",
    "            delta = c_fail - c_pass\n",
    "            if len(delta) < n:\n",
    "                return ret(c_pass, c_fail)\n",
    "\n",
    "            deltas = split(delta, n)\n",
    "\n",
    "            reduction_found = False\n",
    "            j = 0\n",
    "\n",
    "            while j < n:\n",
    "                i = (j + offset) % n\n",
    "                next_c_pass = c_pass | deltas[i]\n",
    "                next_c_fail = c_fail - deltas[i]\n",
    "\n",
    "                if minimize_fail and n == 2 and test(next_c_pass) == FAIL:\n",
    "                    if self.log > 1:\n",
    "                        print(\"Reduce to subset\")\n",
    "                    c_fail = next_c_pass\n",
    "                    offset = i  # was offset = 0 in original dd()\n",
    "                    reduction_found = True\n",
    "                    break\n",
    "\n",
    "                elif maximize_pass and n == 2 and test(next_c_fail) == PASS:\n",
    "                    if self.log > 1:\n",
    "                        print(\"Increase to subset\")\n",
    "                    c_pass = next_c_fail\n",
    "                    offset = i  # was offset = 0 in original dd()\n",
    "                    reduction_found = True\n",
    "                    break\n",
    "\n",
    "                elif minimize_fail and test(next_c_fail) == FAIL:\n",
    "                    if self.log > 1:\n",
    "                        print(\"Reduce to complement\")\n",
    "                    c_fail = next_c_fail\n",
    "                    n = max(n - 1, 2)\n",
    "                    offset = i\n",
    "                    reduction_found = True\n",
    "                    break\n",
    "\n",
    "                elif maximize_pass and test(next_c_pass) == PASS:\n",
    "                    if self.log > 1:\n",
    "                        print(\"Increase to complement\")\n",
    "                    c_pass = next_c_pass\n",
    "                    n = max(n - 1, 2)\n",
    "                    offset = i\n",
    "                    reduction_found = True\n",
    "                    break\n",
    "\n",
    "                else:\n",
    "                    j += 1  # choose next subset\n",
    "\n",
    "            if not reduction_found:\n",
    "                if self.log > 1:\n",
    "                    print(\"No reduction found\")\n",
    "\n",
    "                if n >= len(delta):\n",
    "                    return ret(c_pass, c_fail)\n",
    "\n",
    "                if self.log > 1:\n",
    "                    print(\"Increase granularity\")\n",
    "\n",
    "                n = min(n * 2, len(delta))"
   ]
  },
  {
   "cell_type": "markdown",
   "metadata": {
    "slideshow": {
     "slide_type": "subslide"
    }
   },
   "source": [
    "By default, `dd()` minimizes inputs – just like `ddmin()`."
   ]
  },
  {
   "cell_type": "code",
   "execution_count": 74,
   "metadata": {
    "execution": {
     "iopub.execute_input": "2025-10-26T17:47:40.475683Z",
     "iopub.status.busy": "2025-10-26T17:47:40.475588Z",
     "iopub.status.idle": "2025-10-26T17:47:40.477443Z",
     "shell.execute_reply": "2025-10-26T17:47:40.477212Z"
    },
    "slideshow": {
     "slide_type": "fragment"
    }
   },
   "outputs": [],
   "source": [
    "with DeltaDebugger() as dd:\n",
    "    mystery(failing_input)"
   ]
  },
  {
   "cell_type": "markdown",
   "metadata": {
    "slideshow": {
     "slide_type": "fragment"
    }
   },
   "source": [
    "Its output is a triple of maximized passing input (if wanted), minimized failing input, and difference. Here is this triple for `mystery()`, just as with `ddmin()`:"
   ]
  },
  {
   "cell_type": "code",
   "execution_count": 75,
   "metadata": {
    "execution": {
     "iopub.execute_input": "2025-10-26T17:47:40.478809Z",
     "iopub.status.busy": "2025-10-26T17:47:40.478716Z",
     "iopub.status.idle": "2025-10-26T17:47:40.480666Z",
     "shell.execute_reply": "2025-10-26T17:47:40.480379Z"
    },
    "slideshow": {
     "slide_type": "fragment"
    }
   },
   "outputs": [],
   "source": [
    "mystery_pass, mystery_fail, mystery_diff = dd.dd('inp', {'inp': failing_input})"
   ]
  },
  {
   "cell_type": "markdown",
   "metadata": {
    "slideshow": {
     "slide_type": "fragment"
    }
   },
   "source": [
    "The first element (`mystery_pass`) is the maximal passing input:"
   ]
  },
  {
   "cell_type": "code",
   "execution_count": 76,
   "metadata": {
    "execution": {
     "iopub.execute_input": "2025-10-26T17:47:40.482289Z",
     "iopub.status.busy": "2025-10-26T17:47:40.482187Z",
     "iopub.status.idle": "2025-10-26T17:47:40.484643Z",
     "shell.execute_reply": "2025-10-26T17:47:40.484325Z"
    },
    "slideshow": {
     "slide_type": "fragment"
    }
   },
   "outputs": [
    {
     "data": {
      "text/plain": [
       "''"
      ]
     },
     "execution_count": 76,
     "metadata": {},
     "output_type": "execute_result"
    }
   ],
   "source": [
    "mystery_pass"
   ]
  },
  {
   "cell_type": "markdown",
   "metadata": {
    "slideshow": {
     "slide_type": "fragment"
    }
   },
   "source": [
    "The second element (`mystery_fail`) is the minimal failing input:"
   ]
  },
  {
   "cell_type": "code",
   "execution_count": 77,
   "metadata": {
    "execution": {
     "iopub.execute_input": "2025-10-26T17:47:40.486042Z",
     "iopub.status.busy": "2025-10-26T17:47:40.485934Z",
     "iopub.status.idle": "2025-10-26T17:47:40.488030Z",
     "shell.execute_reply": "2025-10-26T17:47:40.487793Z"
    },
    "slideshow": {
     "slide_type": "fragment"
    }
   },
   "outputs": [
    {
     "data": {
      "text/plain": [
       "'()'"
      ]
     },
     "execution_count": 77,
     "metadata": {},
     "output_type": "execute_result"
    }
   ],
   "source": [
    "mystery_fail"
   ]
  },
  {
   "cell_type": "markdown",
   "metadata": {
    "slideshow": {
     "slide_type": "fragment"
    }
   },
   "source": [
    "And the third element (`mystery_diff`) is the difference between the two:"
   ]
  },
  {
   "cell_type": "code",
   "execution_count": 78,
   "metadata": {
    "execution": {
     "iopub.execute_input": "2025-10-26T17:47:40.489352Z",
     "iopub.status.busy": "2025-10-26T17:47:40.489258Z",
     "iopub.status.idle": "2025-10-26T17:47:40.491083Z",
     "shell.execute_reply": "2025-10-26T17:47:40.490862Z"
    },
    "slideshow": {
     "slide_type": "subslide"
    }
   },
   "outputs": [
    {
     "data": {
      "text/plain": [
       "'()'"
      ]
     },
     "execution_count": 78,
     "metadata": {},
     "output_type": "execute_result"
    }
   ],
   "source": [
    "mystery_diff"
   ]
  },
  {
   "cell_type": "markdown",
   "metadata": {
    "slideshow": {
     "slide_type": "fragment"
    }
   },
   "source": [
    "(Note that we will introduce more comfortable APIs later.)"
   ]
  },
  {
   "cell_type": "markdown",
   "metadata": {
    "slideshow": {
     "slide_type": "fragment"
    }
   },
   "source": [
    "We can follow the operation of `dd()` by increasing the logging level. We see how with every test, the difference between the passing and the failing input gets smaller and smaller."
   ]
  },
  {
   "cell_type": "code",
   "execution_count": 79,
   "metadata": {
    "execution": {
     "iopub.execute_input": "2025-10-26T17:47:40.492446Z",
     "iopub.status.busy": "2025-10-26T17:47:40.492338Z",
     "iopub.status.idle": "2025-10-26T17:47:40.494323Z",
     "shell.execute_reply": "2025-10-26T17:47:40.493913Z"
    },
    "slideshow": {
     "slide_type": "fragment"
    }
   },
   "outputs": [],
   "source": [
    "with DeltaDebugger(log=2) as dd:\n",
    "    mystery(failing_input)"
   ]
  },
  {
   "cell_type": "code",
   "execution_count": 80,
   "metadata": {
    "execution": {
     "iopub.execute_input": "2025-10-26T17:47:40.495936Z",
     "iopub.status.busy": "2025-10-26T17:47:40.495835Z",
     "iopub.status.idle": "2025-10-26T17:47:40.499034Z",
     "shell.execute_reply": "2025-10-26T17:47:40.498748Z"
    },
    "slideshow": {
     "slide_type": "subslide"
    }
   },
   "outputs": [
    {
     "name": "stdout",
     "output_type": "stream",
     "text": [
      "Test #1 mystery(inp=''): PASS\n",
      "Test #2 mystery(inp='V\"/+!aF-(V4EOz*+s/Q,7)2@0_'): FAIL (ValueError: Invalid input)\n",
      "Passing input: ''\n",
      "Failing input: 'V\"/+!aF-(V4EOz*+s/Q,7)2@0_'\n",
      "Granularity:   2\n",
      "Test #3 mystery(inp='V\"/+!aF-(V4EO'): PASS\n",
      "Test #4 mystery(inp='z*+s/Q,7)2@0_'): PASS\n",
      "No reduction found\n",
      "Increase granularity\n",
      "Passing input: ''\n",
      "Failing input: 'V\"/+!aF-(V4EOz*+s/Q,7)2@0_'\n",
      "Granularity:   4\n",
      "Test #5 mystery(inp='-(V4EOz*+s/Q,7)2@0_'): FAIL (ValueError: Invalid input)\n",
      "Reduce to complement\n",
      "Passing input: ''\n",
      "Failing input: '-(V4EOz*+s/Q,7)2@0_'\n",
      "Granularity:   3\n",
      "Test #6 mystery(inp='*+s/Q,7)2@0_'): PASS\n",
      "Test #7 mystery(inp='-(V4EOz7)2@0_'): FAIL (ValueError: Invalid input)\n",
      "Reduce to complement\n",
      "Passing input: ''\n",
      "Failing input: '-(V4EOz7)2@0_'\n",
      "Granularity:   2\n",
      "Test #8 mystery(inp='7)2@0_'): PASS\n",
      "Test #9 mystery(inp='-(V4EOz'): PASS\n",
      "No reduction found\n",
      "Increase granularity\n",
      "Passing input: ''\n",
      "Failing input: '-(V4EOz7)2@0_'\n",
      "Granularity:   4\n",
      "Test #10 mystery(inp='-(V47)2@0_'): FAIL (ValueError: Invalid input)\n",
      "Reduce to complement\n",
      "Passing input: ''\n",
      "Failing input: '-(V47)2@0_'\n",
      "Granularity:   3\n",
      "Test #11 mystery(inp='-(V4@0_'): PASS\n",
      "Test #12 mystery(inp='-(V47)2'): FAIL (ValueError: Invalid input)\n",
      "Reduce to complement\n",
      "Passing input: ''\n",
      "Failing input: '-(V47)2'\n",
      "Granularity:   2\n",
      "Test #13 mystery(inp='-7)2'): PASS\n",
      "Test #14 mystery(inp='(V4'): PASS\n",
      "No reduction found\n",
      "Increase granularity\n",
      "Passing input: ''\n",
      "Failing input: '-(V47)2'\n",
      "Granularity:   4\n",
      "Test #15 mystery(inp='-47)2'): PASS\n",
      "Test #16 mystery(inp='-(V7)2'): FAIL (ValueError: Invalid input)\n",
      "Reduce to complement\n",
      "Passing input: ''\n",
      "Failing input: '-(V7)2'\n",
      "Granularity:   3\n",
      "Test #17 mystery(inp='-(V2'): PASS\n",
      "Test #18 mystery(inp='(V7)'): FAIL (ValueError: Invalid input)\n",
      "Reduce to complement\n",
      "Passing input: ''\n",
      "Failing input: '(V7)'\n",
      "Granularity:   2\n",
      "Test #19 mystery(inp='7)'): PASS\n",
      "Test #20 mystery(inp='(V'): PASS\n",
      "No reduction found\n",
      "Increase granularity\n",
      "Passing input: ''\n",
      "Failing input: '(V7)'\n",
      "Granularity:   4\n",
      "Test #21 mystery(inp='(7)'): FAIL (ValueError: Invalid input)\n",
      "Reduce to complement\n",
      "Passing input: ''\n",
      "Failing input: '(7)'\n",
      "Granularity:   3\n",
      "Test #22 mystery(inp='()'): FAIL (ValueError: Invalid input)\n",
      "Reduce to complement\n",
      "Passing input: ''\n",
      "Failing input: '()'\n",
      "Granularity:   2\n",
      "Test #23 mystery(inp=')'): PASS\n",
      "Test #24 mystery(inp='('): PASS\n",
      "No reduction found\n"
     ]
    },
    {
     "data": {
      "text/plain": [
       "('', '()', '()')"
      ]
     },
     "execution_count": 80,
     "metadata": {},
     "output_type": "execute_result"
    }
   ],
   "source": [
    "dd.dd('inp', {'inp': failing_input})"
   ]
  },
  {
   "cell_type": "markdown",
   "metadata": {
    "slideshow": {
     "slide_type": "subslide"
    }
   },
   "source": [
    "#### Processing Multiple Arguments\n",
    "\n",
    "What happens if a function has multiple arguments? First, we check if they are _reducible_ – that is, they provide a `len()` length function and a way to access indexed elements. This holds for all strings and all lists, as well as other ordered collections."
   ]
  },
  {
   "cell_type": "code",
   "execution_count": 81,
   "metadata": {
    "execution": {
     "iopub.execute_input": "2025-10-26T17:47:40.500567Z",
     "iopub.status.busy": "2025-10-26T17:47:40.500476Z",
     "iopub.status.idle": "2025-10-26T17:47:40.502549Z",
     "shell.execute_reply": "2025-10-26T17:47:40.502268Z"
    },
    "slideshow": {
     "slide_type": "subslide"
    }
   },
   "outputs": [],
   "source": [
    "def is_reducible(value: Any) -> bool:\n",
    "    # Return True if `value` supports len() and indexing.\n",
    "    try:\n",
    "        _ = len(value)\n",
    "    except TypeError:\n",
    "        return False\n",
    "\n",
    "    try:\n",
    "        _ = value[0]\n",
    "    except TypeError:\n",
    "        return False\n",
    "    except IndexError:\n",
    "        return False\n",
    "\n",
    "    return True"
   ]
  },
  {
   "cell_type": "markdown",
   "metadata": {
    "slideshow": {
     "slide_type": "subslide"
    }
   },
   "source": [
    "Our method `process_args()` processes recorded call arguments, one after the one, until all are minimized or maximized. Processing them individually (rather than, say, all at once) allows maintaining a stable _context_ during reduction."
   ]
  },
  {
   "cell_type": "markdown",
   "metadata": {
    "slideshow": {
     "slide_type": "fragment"
    }
   },
   "source": [
    "This method also does all the housekeeping, checking arguments and results, and raising errors if need be."
   ]
  },
  {
   "cell_type": "code",
   "execution_count": 82,
   "metadata": {
    "execution": {
     "iopub.execute_input": "2025-10-26T17:47:40.503799Z",
     "iopub.status.busy": "2025-10-26T17:47:40.503722Z",
     "iopub.status.idle": "2025-10-26T17:47:40.505118Z",
     "shell.execute_reply": "2025-10-26T17:47:40.504904Z"
    },
    "slideshow": {
     "slide_type": "fragment"
    }
   },
   "outputs": [],
   "source": [
    "class FailureNotReproducedError(ValueError):\n",
    "    pass"
   ]
  },
  {
   "cell_type": "code",
   "execution_count": 83,
   "metadata": {
    "execution": {
     "iopub.execute_input": "2025-10-26T17:47:40.506426Z",
     "iopub.status.busy": "2025-10-26T17:47:40.506330Z",
     "iopub.status.idle": "2025-10-26T17:47:40.508731Z",
     "shell.execute_reply": "2025-10-26T17:47:40.508378Z"
    },
    "slideshow": {
     "slide_type": "subslide"
    }
   },
   "outputs": [],
   "source": [
    "class DeltaDebugger(DeltaDebugger):\n",
    "    def check_reproducibility(self) -> None:\n",
    "        # Check whether running the function again fails\n",
    "        assert self._function, \\\n",
    "            \"No call collected. Use `with dd: func()` first.\"\n",
    "        assert self._args, \\\n",
    "            \"No arguments collected. Use `with dd: func(args)` first.\"\n",
    "\n",
    "        self.reset()\n",
    "        outcome = self.test(self.args())\n",
    "        if outcome == UNRESOLVED:\n",
    "            raise FailureNotReproducedError(\n",
    "                \"When called again, \" +\n",
    "                self.format_call(self.args()) + \n",
    "                \" raised \" +\n",
    "                self.format_exception(self.last_exception) +\n",
    "                \" instead of \" +\n",
    "                self.format_exception(self.exception()))\n",
    "\n",
    "        if outcome == PASS:\n",
    "            raise NotFailingError(\"When called again, \" +\n",
    "                                  self.format_call(self.args()) + \n",
    "                                  \" did not fail\")\n",
    "        assert outcome == FAIL"
   ]
  },
  {
   "cell_type": "code",
   "execution_count": 84,
   "metadata": {
    "execution": {
     "iopub.execute_input": "2025-10-26T17:47:40.510503Z",
     "iopub.status.busy": "2025-10-26T17:47:40.510375Z",
     "iopub.status.idle": "2025-10-26T17:47:40.515197Z",
     "shell.execute_reply": "2025-10-26T17:47:40.514926Z"
    },
    "slideshow": {
     "slide_type": "subslide"
    }
   },
   "outputs": [],
   "source": [
    "class DeltaDebugger(DeltaDebugger):\n",
    "    def process_args(self, strategy: Callable, **strategy_args: Any) -> \\\n",
    "        Tuple[Dict[str, Any], Dict[str, Any], Dict[str, Any]]:\n",
    "        \"\"\"\n",
    "        Reduce all reducible arguments, using `strategy`(var, `strategy_args`).\n",
    "        Can be overloaded in subclasses.\n",
    "        \"\"\"\n",
    "\n",
    "        pass_args = {}  # Local copy\n",
    "        fail_args = {}  # Local copy\n",
    "        diff_args = {}\n",
    "        for var in self.args():\n",
    "            fail_args[var] = self.args()[var]\n",
    "            diff_args[var] = self.args()[var]\n",
    "            pass_args[var] = self.args()[var]\n",
    "\n",
    "            if is_reducible(pass_args[var]):\n",
    "                pass_args[var] = empty(pass_args[var])\n",
    "\n",
    "        vars_to_be_processed = set(fail_args.keys())\n",
    "\n",
    "        pass_processed = 0\n",
    "        fail_processed = 0\n",
    "\n",
    "        self.check_reproducibility()\n",
    "\n",
    "        # We take turns in processing variables until all are processed\n",
    "        while len(vars_to_be_processed) > 0:\n",
    "            for var in vars_to_be_processed:\n",
    "                if not is_reducible(fail_args[var]):\n",
    "                    vars_to_be_processed.remove(var)\n",
    "                    break\n",
    "\n",
    "                if self.log:\n",
    "                    print(f\"Processing {var}...\")\n",
    "\n",
    "                maximized_pass_value, minimized_fail_value, diff = \\\n",
    "                    strategy(var, fail_args, **strategy_args)\n",
    "\n",
    "                if (maximized_pass_value is not None and \n",
    "                    len(maximized_pass_value) > len(pass_args[var])):\n",
    "                    pass_args[var] = maximized_pass_value\n",
    "                    # FIXME: diff_args may not be correct for multiple args\n",
    "                    diff_args[var] = diff\n",
    "                    if self.log:\n",
    "                        print(f\"Maximized {var} to\",\n",
    "                              repr(maximized_pass_value))\n",
    "                    vars_to_be_processed = set(fail_args.keys())\n",
    "                    pass_processed += 1\n",
    "\n",
    "                if (minimized_fail_value is not None and \n",
    "                    len(minimized_fail_value) < len(fail_args[var])):\n",
    "                    fail_args[var] = minimized_fail_value\n",
    "                    diff_args[var] = diff\n",
    "                    if self.log:\n",
    "                        print(f\"Minimized {var} to\",\n",
    "                              repr(minimized_fail_value))\n",
    "                    vars_to_be_processed = set(fail_args.keys())\n",
    "                    fail_processed += 1\n",
    "\n",
    "                vars_to_be_processed.remove(var)\n",
    "                break\n",
    "\n",
    "        assert pass_processed == 0 or self.test(pass_args) == PASS, \\\n",
    "            f\"{self.format_call(pass_args)} does not pass\"\n",
    "        assert fail_processed == 0 or self.test(fail_args) == FAIL, \\\n",
    "            f\"{self.format_call(fail_args)} does not fail\"\n",
    "\n",
    "        if self.log and pass_processed > 0:\n",
    "            print(\"Maximized passing call to\",\n",
    "                  self.format_call(pass_args))\n",
    "        if self.log and fail_processed > 0:\n",
    "            print(\"Minimized failing call to\",\n",
    "                  self.format_call(fail_args))\n",
    "\n",
    "        return pass_args, fail_args, diff_args"
   ]
  },
  {
   "cell_type": "markdown",
   "metadata": {
    "slideshow": {
     "slide_type": "subslide"
    }
   },
   "source": [
    "For more housekeeping, we define the `after_collection()` method that will be invoked at the end of the `with` block. It checks for a number of additional preconditions."
   ]
  },
  {
   "cell_type": "code",
   "execution_count": 85,
   "metadata": {
    "execution": {
     "iopub.execute_input": "2025-10-26T17:47:40.516596Z",
     "iopub.status.busy": "2025-10-26T17:47:40.516475Z",
     "iopub.status.idle": "2025-10-26T17:47:40.518586Z",
     "shell.execute_reply": "2025-10-26T17:47:40.518349Z"
    },
    "slideshow": {
     "slide_type": "fragment"
    }
   },
   "outputs": [],
   "source": [
    "class DeltaDebugger(DeltaDebugger):\n",
    "    def after_collection(self) -> None:\n",
    "        # Some post-collection checks\n",
    "        if self._function is None:\n",
    "            raise NoCallError(\"No function call observed\")\n",
    "        if self.exception() is None:\n",
    "            raise NotFailingError(\n",
    "                f\"{self.format_call()} did not raise an exception\")\n",
    "\n",
    "        if self.log:\n",
    "            print(f\"Observed {self.format_call()}\" +\n",
    "                  f\" raising {self.format_exception(self.exception())}\")"
   ]
  },
  {
   "cell_type": "markdown",
   "metadata": {
    "slideshow": {
     "slide_type": "subslide"
    }
   },
   "source": [
    "#### Public API\n",
    "\n",
    "We finish the implementation with public methods that allow users to run delta debugging and obtain the diagnostics."
   ]
  },
  {
   "cell_type": "code",
   "execution_count": 86,
   "metadata": {
    "execution": {
     "iopub.execute_input": "2025-10-26T17:47:40.519855Z",
     "iopub.status.busy": "2025-10-26T17:47:40.519769Z",
     "iopub.status.idle": "2025-10-26T17:47:40.521842Z",
     "shell.execute_reply": "2025-10-26T17:47:40.521514Z"
    },
    "slideshow": {
     "slide_type": "fragment"
    }
   },
   "outputs": [],
   "source": [
    "class DeltaDebugger(DeltaDebugger):\n",
    "    def min_args(self) -> Dict[str, Any]:\n",
    "        \"\"\"Return 1-minimal arguments.\"\"\"\n",
    "        pass_args, fail_args, diff = self.process_args(self.dd, mode='-')\n",
    "        return fail_args"
   ]
  },
  {
   "cell_type": "code",
   "execution_count": 87,
   "metadata": {
    "execution": {
     "iopub.execute_input": "2025-10-26T17:47:40.523332Z",
     "iopub.status.busy": "2025-10-26T17:47:40.523240Z",
     "iopub.status.idle": "2025-10-26T17:47:40.525130Z",
     "shell.execute_reply": "2025-10-26T17:47:40.524783Z"
    },
    "slideshow": {
     "slide_type": "fragment"
    }
   },
   "outputs": [],
   "source": [
    "class DeltaDebugger(DeltaDebugger):\n",
    "    def max_args(self) -> Dict[str, Any]:\n",
    "        \"\"\"Return 1-maximal arguments.\"\"\"\n",
    "        pass_args, fail_args, diff = self.process_args(self.dd, mode='+')\n",
    "        return pass_args"
   ]
  },
  {
   "cell_type": "code",
   "execution_count": 88,
   "metadata": {
    "execution": {
     "iopub.execute_input": "2025-10-26T17:47:40.526899Z",
     "iopub.status.busy": "2025-10-26T17:47:40.526799Z",
     "iopub.status.idle": "2025-10-26T17:47:40.528788Z",
     "shell.execute_reply": "2025-10-26T17:47:40.528524Z"
    },
    "slideshow": {
     "slide_type": "subslide"
    }
   },
   "outputs": [],
   "source": [
    "class DeltaDebugger(DeltaDebugger):\n",
    "    def min_arg_diff(self) -> Tuple[Dict[str, Any], Dict[str, Any], Dict[str, Any]]:\n",
    "        \"\"\"Return 1-minimal difference between arguments.\"\"\"\n",
    "        return self.process_args(self.dd, mode='+-')"
   ]
  },
  {
   "cell_type": "markdown",
   "metadata": {
    "slideshow": {
     "slide_type": "fragment"
    }
   },
   "source": [
    "The `__repr__()` method returns a string representation of the minimized call."
   ]
  },
  {
   "cell_type": "code",
   "execution_count": 89,
   "metadata": {
    "execution": {
     "iopub.execute_input": "2025-10-26T17:47:40.530192Z",
     "iopub.status.busy": "2025-10-26T17:47:40.530076Z",
     "iopub.status.idle": "2025-10-26T17:47:40.531852Z",
     "shell.execute_reply": "2025-10-26T17:47:40.531586Z"
    },
    "slideshow": {
     "slide_type": "fragment"
    }
   },
   "outputs": [],
   "source": [
    "class DeltaDebugger(DeltaDebugger):\n",
    "    def __repr__(self) -> str:\n",
    "        \"\"\"Return a string representation of the minimized call.\"\"\"\n",
    "        return self.format_call(self.min_args())"
   ]
  },
  {
   "cell_type": "markdown",
   "metadata": {
    "slideshow": {
     "slide_type": "subslide"
    }
   },
   "source": [
    "### End of Excursion"
   ]
  },
  {
   "cell_type": "markdown",
   "metadata": {
    "slideshow": {
     "slide_type": "fragment"
    }
   },
   "source": [
    "To see how the `DeltaDebugger` works, let us run it on our failing input. The expected usage is as introduced earlier – we wrap the failing function in a `with` block, and then print out the debugger to see the reduced arguments. We see that `DeltaDebugger` easily reduces the arguments to the minimal failure-inducing input:"
   ]
  },
  {
   "cell_type": "code",
   "execution_count": 90,
   "metadata": {
    "execution": {
     "iopub.execute_input": "2025-10-26T17:47:40.533461Z",
     "iopub.status.busy": "2025-10-26T17:47:40.533359Z",
     "iopub.status.idle": "2025-10-26T17:47:40.536175Z",
     "shell.execute_reply": "2025-10-26T17:47:40.535867Z"
    },
    "slideshow": {
     "slide_type": "fragment"
    }
   },
   "outputs": [
    {
     "data": {
      "text/plain": [
       "mystery(inp='()')"
      ]
     },
     "execution_count": 90,
     "metadata": {},
     "output_type": "execute_result"
    }
   ],
   "source": [
    "with DeltaDebugger() as dd:\n",
    "    mystery(failing_input)\n",
    "dd"
   ]
  },
  {
   "cell_type": "markdown",
   "metadata": {
    "slideshow": {
     "slide_type": "fragment"
    }
   },
   "source": [
    "We can turn on logging for `DeltaDebugger` to see how it proceeds. With each step, we see how the remaining input gets smaller and smaller, until only two characters remain:"
   ]
  },
  {
   "cell_type": "code",
   "execution_count": 91,
   "metadata": {
    "execution": {
     "iopub.execute_input": "2025-10-26T17:47:40.538182Z",
     "iopub.status.busy": "2025-10-26T17:47:40.537950Z",
     "iopub.status.idle": "2025-10-26T17:47:40.541638Z",
     "shell.execute_reply": "2025-10-26T17:47:40.541296Z"
    },
    "slideshow": {
     "slide_type": "subslide"
    }
   },
   "outputs": [
    {
     "name": "stdout",
     "output_type": "stream",
     "text": [
      "Observed mystery(inp='V\"/+!aF-(V4EOz*+s/Q,7)2@0_') raising ValueError: Invalid input\n",
      "Test #1 mystery(inp='V\"/+!aF-(V4EOz*+s/Q,7)2@0_'): FAIL (ValueError: Invalid input)\n",
      "Processing inp...\n",
      "Test #2 mystery(inp=''): PASS\n",
      "Test #3 mystery(inp='V\"/+!aF-(V4EO'): PASS\n",
      "Test #4 mystery(inp='z*+s/Q,7)2@0_'): PASS\n",
      "Test #5 mystery(inp='-(V4EOz*+s/Q,7)2@0_'): FAIL (ValueError: Invalid input)\n",
      "Test #6 mystery(inp='*+s/Q,7)2@0_'): PASS\n",
      "Test #7 mystery(inp='-(V4EOz7)2@0_'): FAIL (ValueError: Invalid input)\n",
      "Test #8 mystery(inp='7)2@0_'): PASS\n",
      "Test #9 mystery(inp='-(V4EOz'): PASS\n",
      "Test #10 mystery(inp='-(V47)2@0_'): FAIL (ValueError: Invalid input)\n",
      "Test #11 mystery(inp='-(V4@0_'): PASS\n",
      "Test #12 mystery(inp='-(V47)2'): FAIL (ValueError: Invalid input)\n",
      "Test #13 mystery(inp='-7)2'): PASS\n",
      "Test #14 mystery(inp='(V4'): PASS\n",
      "Test #15 mystery(inp='-47)2'): PASS\n",
      "Test #16 mystery(inp='-(V7)2'): FAIL (ValueError: Invalid input)\n",
      "Test #17 mystery(inp='-(V2'): PASS\n",
      "Test #18 mystery(inp='(V7)'): FAIL (ValueError: Invalid input)\n",
      "Test #19 mystery(inp='7)'): PASS\n",
      "Test #20 mystery(inp='(V'): PASS\n",
      "Test #21 mystery(inp='(7)'): FAIL (ValueError: Invalid input)\n",
      "Test #22 mystery(inp='()'): FAIL (ValueError: Invalid input)\n",
      "Test #23 mystery(inp=')'): PASS\n",
      "Test #24 mystery(inp='('): PASS\n",
      "Minimized inp to '()'\n",
      "Minimized failing call to mystery(inp='()')\n"
     ]
    },
    {
     "data": {
      "text/plain": [
       "mystery(inp='()')"
      ]
     },
     "execution_count": 91,
     "metadata": {},
     "output_type": "execute_result"
    }
   ],
   "source": [
    "with DeltaDebugger(log=True) as dd:\n",
    "    mystery(failing_input)\n",
    "dd"
   ]
  },
  {
   "cell_type": "markdown",
   "metadata": {
    "slideshow": {
     "slide_type": "subslide"
    }
   },
   "source": [
    "It is also possible to access the debugger programmatically:"
   ]
  },
  {
   "cell_type": "code",
   "execution_count": 92,
   "metadata": {
    "execution": {
     "iopub.execute_input": "2025-10-26T17:47:40.543059Z",
     "iopub.status.busy": "2025-10-26T17:47:40.542959Z",
     "iopub.status.idle": "2025-10-26T17:47:40.544954Z",
     "shell.execute_reply": "2025-10-26T17:47:40.544611Z"
    },
    "slideshow": {
     "slide_type": "fragment"
    }
   },
   "outputs": [],
   "source": [
    "with DeltaDebugger() as dd:\n",
    "    mystery(failing_input)"
   ]
  },
  {
   "cell_type": "code",
   "execution_count": 93,
   "metadata": {
    "execution": {
     "iopub.execute_input": "2025-10-26T17:47:40.546425Z",
     "iopub.status.busy": "2025-10-26T17:47:40.546323Z",
     "iopub.status.idle": "2025-10-26T17:47:40.548537Z",
     "shell.execute_reply": "2025-10-26T17:47:40.548222Z"
    },
    "slideshow": {
     "slide_type": "fragment"
    }
   },
   "outputs": [
    {
     "data": {
      "text/plain": [
       "{'inp': 'V\"/+!aF-(V4EOz*+s/Q,7)2@0_'}"
      ]
     },
     "execution_count": 93,
     "metadata": {},
     "output_type": "execute_result"
    }
   ],
   "source": [
    "dd.args()"
   ]
  },
  {
   "cell_type": "code",
   "execution_count": 94,
   "metadata": {
    "execution": {
     "iopub.execute_input": "2025-10-26T17:47:40.550085Z",
     "iopub.status.busy": "2025-10-26T17:47:40.549990Z",
     "iopub.status.idle": "2025-10-26T17:47:40.552425Z",
     "shell.execute_reply": "2025-10-26T17:47:40.552071Z"
    },
    "slideshow": {
     "slide_type": "fragment"
    }
   },
   "outputs": [
    {
     "data": {
      "text/plain": [
       "{'inp': '()'}"
      ]
     },
     "execution_count": 94,
     "metadata": {},
     "output_type": "execute_result"
    }
   ],
   "source": [
    "dd.min_args()"
   ]
  },
  {
   "cell_type": "code",
   "execution_count": 95,
   "metadata": {
    "execution": {
     "iopub.execute_input": "2025-10-26T17:47:40.554019Z",
     "iopub.status.busy": "2025-10-26T17:47:40.553938Z",
     "iopub.status.idle": "2025-10-26T17:47:40.557884Z",
     "shell.execute_reply": "2025-10-26T17:47:40.557665Z"
    },
    "slideshow": {
     "slide_type": "subslide"
    },
    "tags": [
     "remove-input"
    ]
   },
   "outputs": [
    {
     "data": {
      "text/html": [
       "\n",
       "    \n",
       "    <script>\n",
       "    var bad_answers = new Map();\n",
       "\n",
       "    function answer(quiz_id) {\n",
       "        ans = 0;\n",
       "        for (i = 1;; i++) {\n",
       "            checkbox = document.getElementById(quiz_id + \"-\" + i.toString());\n",
       "            if (!checkbox)\n",
       "                break;\n",
       "            if (checkbox.checked)\n",
       "                ans |= (1 << i);\n",
       "        }\n",
       "        return ans;\n",
       "    }\n",
       "    function check_selection(quiz_id, correct_answer, multiple_choice, hint) {\n",
       "        given_answer = answer(quiz_id);\n",
       "        if (given_answer == correct_answer)\n",
       "        {\n",
       "            document.getElementById(quiz_id + \"-submit\").value = \"Correct!\";\n",
       "            document.getElementById(quiz_id + \"-hint\").innerHTML = \"\";\n",
       "\n",
       "            for (i = 1;; i++) {\n",
       "                checkbox = document.getElementById(quiz_id + \"-\" + i.toString());\n",
       "                label = document.getElementById(quiz_id + \"-\" + i.toString() + \"-label\")\n",
       "                if (!checkbox)\n",
       "                    break;\n",
       "\n",
       "                if (checkbox.checked) {\n",
       "                    label.style.fontWeight = \"bold\";\n",
       "                }\n",
       "                else {\n",
       "                    label.style.textDecoration = \"line-through\";\n",
       "                }\n",
       "            }\n",
       "        }\n",
       "        else \n",
       "        {\n",
       "            document.getElementById(quiz_id + \"-submit\").value = \"Try again\";\n",
       "\n",
       "            if (!bad_answers.has(quiz_id)) {\n",
       "                bad_answers.set(quiz_id, 1);\n",
       "            }\n",
       "            else {\n",
       "                bad_answers.set(quiz_id, bad_answers.get(quiz_id) + 1);\n",
       "            }\n",
       "\n",
       "            if (bad_answers.get(quiz_id) >= 2 && hint.length > 0) {\n",
       "                document.getElementById(quiz_id + \"-hint\").innerHTML = \n",
       "                    \"&nbsp;&nbsp;(Hint: <code>\" + hint + \"</code>)\";\n",
       "            }\n",
       "\n",
       "            if (!multiple_choice) {\n",
       "                for (i = 1;; i++) {\n",
       "                    checkbox = document.getElementById(quiz_id + \"-\" + i.toString());\n",
       "                    label = document.getElementById(quiz_id + \"-\" + i.toString() + \"-label\")\n",
       "\n",
       "                    if (!checkbox)\n",
       "                        break;\n",
       "                    if (checkbox.checked) {\n",
       "                        label.style.textDecoration = \"line-through\";\n",
       "                    }\n",
       "                }\n",
       "            }\n",
       "        }\n",
       "    }\n",
       "    function clear_selection(quiz_id) {\n",
       "        document.getElementById(quiz_id + \"-submit\").value = \"Submit\";\n",
       "        document.getElementById(quiz_id + \"-hint\").innerHTML = \"\";\n",
       "    }\n",
       "    </script>\n",
       "    \n",
       "    <div class=\"quiz\">\n",
       "    <h3 class=\"quiz_title\">Quiz</h3>\n",
       "    <p>\n",
       "    <div class=\"quiz_question\">What happens if the function under test does not raise an exception?</div>\n",
       "    </p>\n",
       "    <p>\n",
       "    <div class=\"quiz_options\" title=\"Pick a choice.\">\n",
       "    \n",
       "        <input type=\"radio\" name=\"de2760de-b293-11f0-b3c5-6298cf1a5790\" id=\"de2760de-b293-11f0-b3c5-6298cf1a5790-1\" onclick=\"clear_selection('de2760de-b293-11f0-b3c5-6298cf1a5790')\">\n",
       "        <label id=\"de2760de-b293-11f0-b3c5-6298cf1a5790-1-label\" for=\"de2760de-b293-11f0-b3c5-6298cf1a5790-1\">Delta debugging searches for the minimal input that produces the same result</label><br>\n",
       "    \n",
       "        <input type=\"radio\" name=\"de2760de-b293-11f0-b3c5-6298cf1a5790\" id=\"de2760de-b293-11f0-b3c5-6298cf1a5790-2\" onclick=\"clear_selection('de2760de-b293-11f0-b3c5-6298cf1a5790')\">\n",
       "        <label id=\"de2760de-b293-11f0-b3c5-6298cf1a5790-2-label\" for=\"de2760de-b293-11f0-b3c5-6298cf1a5790-2\">Delta debugging starts a fuzzer to find an exception</label><br>\n",
       "    \n",
       "        <input type=\"radio\" name=\"de2760de-b293-11f0-b3c5-6298cf1a5790\" id=\"de2760de-b293-11f0-b3c5-6298cf1a5790-3\" onclick=\"clear_selection('de2760de-b293-11f0-b3c5-6298cf1a5790')\">\n",
       "        <label id=\"de2760de-b293-11f0-b3c5-6298cf1a5790-3-label\" for=\"de2760de-b293-11f0-b3c5-6298cf1a5790-3\">Delta debugging raises an exception</label><br>\n",
       "    \n",
       "        <input type=\"radio\" name=\"de2760de-b293-11f0-b3c5-6298cf1a5790\" id=\"de2760de-b293-11f0-b3c5-6298cf1a5790-4\" onclick=\"clear_selection('de2760de-b293-11f0-b3c5-6298cf1a5790')\">\n",
       "        <label id=\"de2760de-b293-11f0-b3c5-6298cf1a5790-4-label\" for=\"de2760de-b293-11f0-b3c5-6298cf1a5790-4\">Delta debugging runs forever in a loop</label><br>\n",
       "    \n",
       "    </div>\n",
       "    </p>\n",
       "    <input id=\"de2760de-b293-11f0-b3c5-6298cf1a5790-submit\" type=\"submit\" value=\"Submit\" onclick=\"check_selection('de2760de-b293-11f0-b3c5-6298cf1a5790', 8, 0, '0 ** 0 + 1 ** 0 + 0 ** 1 + 1 ** 1')\">\n",
       "    <span class=\"quiz_hint\" id=\"de2760de-b293-11f0-b3c5-6298cf1a5790-hint\"></span>\n",
       "    </div>\n",
       "    "
      ],
      "text/plain": [
       "<IPython.core.display.HTML object>"
      ]
     },
     "execution_count": 95,
     "metadata": {},
     "output_type": "execute_result"
    }
   ],
   "source": [
    "quiz(\"What happens if the function under test does not raise an exception?\",\n",
    "    [\n",
    "        \"Delta debugging searches for the minimal input\"\n",
    "        \" that produces the same result\",\n",
    "        \"Delta debugging starts a fuzzer to find an exception\",\n",
    "        \"Delta debugging raises an exception\",\n",
    "        \"Delta debugging runs forever in a loop\",\n",
    "    ], '0 ** 0 + 1 ** 0 + 0 ** 1 + 1 ** 1')"
   ]
  },
  {
   "cell_type": "markdown",
   "metadata": {
    "slideshow": {
     "slide_type": "fragment"
    }
   },
   "source": [
    "Indeed, `DeltaDebugger` checks if an exception occurs. If not, you obtain a `NotFailingError`."
   ]
  },
  {
   "cell_type": "code",
   "execution_count": 96,
   "metadata": {
    "execution": {
     "iopub.execute_input": "2025-10-26T17:47:40.559139Z",
     "iopub.status.busy": "2025-10-26T17:47:40.559054Z",
     "iopub.status.idle": "2025-10-26T17:47:40.561437Z",
     "shell.execute_reply": "2025-10-26T17:47:40.561152Z"
    },
    "slideshow": {
     "slide_type": "subslide"
    }
   },
   "outputs": [
    {
     "name": "stderr",
     "output_type": "stream",
     "text": [
      "Traceback (most recent call last):\n",
      "  File \"/var/folders/n2/xd9445p97rb3xh7m1dfx8_4h0006ts/T/ipykernel_51600/3784387889.py\", line 2, in <module>\n",
      "    with DeltaDebugger() as dd:\n",
      "         ~~~~~~~~~~~~~^^\n",
      "  File \"/var/folders/n2/xd9445p97rb3xh7m1dfx8_4h0006ts/T/ipykernel_51600/4114738534.py\", line 24, in __exit__\n",
      "    self.after_collection()\n",
      "    ~~~~~~~~~~~~~~~~~~~~~^^\n",
      "  File \"/var/folders/n2/xd9445p97rb3xh7m1dfx8_4h0006ts/T/ipykernel_51600/1934034330.py\", line 7, in after_collection\n",
      "    raise NotFailingError(\n",
      "        f\"{self.format_call()} did not raise an exception\")\n",
      "NotFailingError: mystery(inp='An input that does not fail') did not raise an exception (expected)\n"
     ]
    }
   ],
   "source": [
    "with ExpectError(NotFailingError):\n",
    "    with DeltaDebugger() as dd:\n",
    "        mystery(\"An input that does not fail\")"
   ]
  },
  {
   "cell_type": "markdown",
   "metadata": {
    "slideshow": {
     "slide_type": "subslide"
    }
   },
   "source": [
    "Delta Debugging also assumes that the function under test is _deterministic_. If it occasionally fails and occasionally passes, you will get random results."
   ]
  },
  {
   "cell_type": "markdown",
   "metadata": {
    "slideshow": {
     "slide_type": "slide"
    }
   },
   "source": [
    "## Usage Examples\n",
    "\n",
    "Let us apply `DeltaDebugger` on a number of examples. "
   ]
  },
  {
   "cell_type": "markdown",
   "metadata": {
    "slideshow": {
     "slide_type": "subslide"
    }
   },
   "source": [
    "### Reducing remove_html_markup()\n",
    "\n",
    "For our ongoing `remove_html_markup()` example, we can reduce the failure-inducing input to a minimum, too:"
   ]
  },
  {
   "cell_type": "code",
   "execution_count": 97,
   "metadata": {
    "execution": {
     "iopub.execute_input": "2025-10-26T17:47:40.562819Z",
     "iopub.status.busy": "2025-10-26T17:47:40.562743Z",
     "iopub.status.idle": "2025-10-26T17:47:40.584376Z",
     "shell.execute_reply": "2025-10-26T17:47:40.584072Z"
    },
    "slideshow": {
     "slide_type": "skip"
    }
   },
   "outputs": [],
   "source": [
    "from Assertions import remove_html_markup  # minor dependency"
   ]
  },
  {
   "cell_type": "code",
   "execution_count": 98,
   "metadata": {
    "execution": {
     "iopub.execute_input": "2025-10-26T17:47:40.585890Z",
     "iopub.status.busy": "2025-10-26T17:47:40.585790Z",
     "iopub.status.idle": "2025-10-26T17:47:40.588475Z",
     "shell.execute_reply": "2025-10-26T17:47:40.588253Z"
    },
    "slideshow": {
     "slide_type": "subslide"
    }
   },
   "outputs": [
    {
     "name": "stdout",
     "output_type": "stream",
     "text": [
      "Observed remove_html_markup(s='\"x > y\"') raising AssertionError\n",
      "Test #1 remove_html_markup(s='\"x > y\"'): FAIL (AssertionError)\n",
      "Processing s...\n",
      "Test #2 remove_html_markup(s=''): PASS\n",
      "Test #3 remove_html_markup(s='\"x >'): FAIL (AssertionError)\n",
      "Test #4 remove_html_markup(s='\"x'): PASS\n",
      "Test #5 remove_html_markup(s=' >'): PASS\n",
      "Test #6 remove_html_markup(s='x >'): PASS\n",
      "Test #7 remove_html_markup(s='\" >'): FAIL (AssertionError)\n",
      "Test #8 remove_html_markup(s='\">'): FAIL (AssertionError)\n",
      "Test #9 remove_html_markup(s='>'): PASS\n",
      "Test #10 remove_html_markup(s='\"'): PASS\n",
      "Minimized s to '\">'\n",
      "Minimized failing call to remove_html_markup(s='\">')\n"
     ]
    },
    {
     "data": {
      "text/plain": [
       "{'s': '\">'}"
      ]
     },
     "execution_count": 98,
     "metadata": {},
     "output_type": "execute_result"
    }
   ],
   "source": [
    "with DeltaDebugger(log=True) as dd:\n",
    "    remove_html_markup('\"x > y\"')\n",
    "dd.min_args()"
   ]
  },
  {
   "cell_type": "markdown",
   "metadata": {
    "slideshow": {
     "slide_type": "subslide"
    }
   },
   "source": [
    "### Reducing Multiple Arguments\n",
    "\n",
    "If a function has multiple reducible variables, they get reduced in turns. This `string_error()` function fails whenever `s1` is a substring of `s2`:"
   ]
  },
  {
   "cell_type": "code",
   "execution_count": 99,
   "metadata": {
    "execution": {
     "iopub.execute_input": "2025-10-26T17:47:40.589793Z",
     "iopub.status.busy": "2025-10-26T17:47:40.589705Z",
     "iopub.status.idle": "2025-10-26T17:47:40.591369Z",
     "shell.execute_reply": "2025-10-26T17:47:40.591006Z"
    },
    "slideshow": {
     "slide_type": "fragment"
    }
   },
   "outputs": [],
   "source": [
    "def string_error(s1: str, s2: str) -> None:\n",
    "    assert s1 not in s2, \"no substrings\""
   ]
  },
  {
   "cell_type": "markdown",
   "metadata": {
    "slideshow": {
     "slide_type": "fragment"
    }
   },
   "source": [
    "Running `DeltaDebugger` on `string_error` shows how first `s1` is reduced, then `s2`, then `s1` again."
   ]
  },
  {
   "cell_type": "code",
   "execution_count": 100,
   "metadata": {
    "execution": {
     "iopub.execute_input": "2025-10-26T17:47:40.593025Z",
     "iopub.status.busy": "2025-10-26T17:47:40.592900Z",
     "iopub.status.idle": "2025-10-26T17:47:40.596130Z",
     "shell.execute_reply": "2025-10-26T17:47:40.595834Z"
    },
    "slideshow": {
     "slide_type": "subslide"
    }
   },
   "outputs": [
    {
     "name": "stdout",
     "output_type": "stream",
     "text": [
      "Observed string_error(s1='foo', s2='foobar') raising AssertionError: no substrings\n",
      "Test #1 string_error(s1='foo', s2='foobar'): FAIL (AssertionError: no substrings)\n",
      "Processing s2...\n",
      "Test #2 string_error(s1='foo', s2=''): PASS\n",
      "Test #3 string_error(s1='foo', s2='foo'): FAIL (AssertionError: no substrings)\n",
      "Test #4 string_error(s1='foo', s2='fo'): PASS\n",
      "Test #5 string_error(s1='foo', s2='o'): PASS\n",
      "Test #6 string_error(s1='foo', s2='oo'): PASS\n",
      "Minimized s2 to 'foo'\n",
      "Processing s1...\n",
      "Test #7 string_error(s1='', s2='foo'): FAIL (AssertionError: no substrings)\n",
      "Minimized s1 to ''\n",
      "Processing s2...\n",
      "Test #8 string_error(s1='', s2=''): FAIL (AssertionError: no substrings)\n",
      "Minimized s2 to ''\n",
      "Minimized failing call to string_error(s1='', s2='')\n"
     ]
    },
    {
     "data": {
      "text/plain": [
       "{'s1': '', 's2': ''}"
      ]
     },
     "execution_count": 100,
     "metadata": {},
     "output_type": "execute_result"
    }
   ],
   "source": [
    "with DeltaDebugger(log=True) as dd:\n",
    "    string_error(\"foo\", \"foobar\")\n",
    "\n",
    "string_error_args = dd.min_args()\n",
    "string_error_args"
   ]
  },
  {
   "cell_type": "markdown",
   "metadata": {
    "slideshow": {
     "slide_type": "subslide"
    }
   },
   "source": [
    "We see that the failure also occurs if both strings are empty:"
   ]
  },
  {
   "cell_type": "code",
   "execution_count": 101,
   "metadata": {
    "execution": {
     "iopub.execute_input": "2025-10-26T17:47:40.597471Z",
     "iopub.status.busy": "2025-10-26T17:47:40.597394Z",
     "iopub.status.idle": "2025-10-26T17:47:40.599296Z",
     "shell.execute_reply": "2025-10-26T17:47:40.599017Z"
    },
    "slideshow": {
     "slide_type": "fragment"
    }
   },
   "outputs": [
    {
     "name": "stderr",
     "output_type": "stream",
     "text": [
      "Traceback (most recent call last):\n",
      "  File \"/var/folders/n2/xd9445p97rb3xh7m1dfx8_4h0006ts/T/ipykernel_51600/3257360882.py\", line 2, in <module>\n",
      "    string_error(string_error_args['s1'], string_error_args['s2'])\n",
      "    ~~~~~~~~~~~~^^^^^^^^^^^^^^^^^^^^^^^^^^^^^^^^^^^^^^^^^^^^^^^^^^\n",
      "  File \"/var/folders/n2/xd9445p97rb3xh7m1dfx8_4h0006ts/T/ipykernel_51600/773514021.py\", line 2, in string_error\n",
      "    assert s1 not in s2, \"no substrings\"\n",
      "           ^^^^^^^^^^^^\n",
      "AssertionError: no substrings (expected)\n"
     ]
    }
   ],
   "source": [
    "with ExpectError(AssertionError):\n",
    "    string_error(string_error_args['s1'], string_error_args['s2'])"
   ]
  },
  {
   "attachments": {},
   "cell_type": "markdown",
   "metadata": {
    "slideshow": {
     "slide_type": "subslide"
    }
   },
   "source": [
    "### Invoking an Interactive Debugger\n",
    "\n",
    "The results from delta debugging can be immediately used to invoke an [interactive debugger](Debugger.ipynb) on the minimized input. To this end, we need to turn the dictionary returned by `min_args()` into arguments of the (failing) function call."
   ]
  },
  {
   "cell_type": "markdown",
   "metadata": {
    "slideshow": {
     "slide_type": "subslide"
    }
   },
   "source": [
    "Python provides a simple way to turn dictionaries into function calls. The construct\n",
    "\n",
    "```python\n",
    "fun(**args)\n",
    "```\n",
    "\n",
    "invokes the function `fun`, with all parameters assigned from the respective values in the dictionary. "
   ]
  },
  {
   "cell_type": "markdown",
   "metadata": {
    "slideshow": {
     "slide_type": "fragment"
    }
   },
   "source": [
    "With this, we can immediately invoke a `Debugger` on the failing run with minimized arguments:"
   ]
  },
  {
   "cell_type": "code",
   "execution_count": 102,
   "metadata": {
    "execution": {
     "iopub.execute_input": "2025-10-26T17:47:40.601341Z",
     "iopub.status.busy": "2025-10-26T17:47:40.601242Z",
     "iopub.status.idle": "2025-10-26T17:47:40.613180Z",
     "shell.execute_reply": "2025-10-26T17:47:40.612828Z"
    },
    "slideshow": {
     "slide_type": "skip"
    }
   },
   "outputs": [],
   "source": [
    "from Debugger import Debugger  # minor dependency"
   ]
  },
  {
   "cell_type": "code",
   "execution_count": 103,
   "metadata": {
    "execution": {
     "iopub.execute_input": "2025-10-26T17:47:40.614639Z",
     "iopub.status.busy": "2025-10-26T17:47:40.614547Z",
     "iopub.status.idle": "2025-10-26T17:47:40.616169Z",
     "shell.execute_reply": "2025-10-26T17:47:40.615908Z"
    },
    "slideshow": {
     "slide_type": "fragment"
    },
    "tags": [
     "remove-input"
    ]
   },
   "outputs": [],
   "source": [
    "# ignore\n",
    "from bookutils import next_inputs"
   ]
  },
  {
   "cell_type": "code",
   "execution_count": 104,
   "metadata": {
    "execution": {
     "iopub.execute_input": "2025-10-26T17:47:40.617427Z",
     "iopub.status.busy": "2025-10-26T17:47:40.617340Z",
     "iopub.status.idle": "2025-10-26T17:47:40.619549Z",
     "shell.execute_reply": "2025-10-26T17:47:40.619238Z"
    },
    "slideshow": {
     "slide_type": "subslide"
    },
    "tags": [
     "remove-input"
    ]
   },
   "outputs": [
    {
     "data": {
      "text/plain": [
       "['print', 'quit']"
      ]
     },
     "execution_count": 104,
     "metadata": {},
     "output_type": "execute_result"
    }
   ],
   "source": [
    "# ignore\n",
    "next_inputs(['print', 'quit'])"
   ]
  },
  {
   "cell_type": "code",
   "execution_count": 105,
   "metadata": {
    "execution": {
     "iopub.execute_input": "2025-10-26T17:47:40.621319Z",
     "iopub.status.busy": "2025-10-26T17:47:40.621155Z",
     "iopub.status.idle": "2025-10-26T17:47:40.625851Z",
     "shell.execute_reply": "2025-10-26T17:47:40.625632Z"
    },
    "slideshow": {
     "slide_type": "subslide"
    }
   },
   "outputs": [
    {
     "name": "stdout",
     "output_type": "stream",
     "text": [
      "Calling string_error(s1 = '', s2 = '')\n"
     ]
    },
    {
     "data": {
      "text/html": [
       "<samp>(debugger) <b>print</b></samp>"
      ],
      "text/plain": [
       "<IPython.core.display.HTML object>"
      ]
     },
     "metadata": {},
     "output_type": "display_data"
    },
    {
     "name": "stdout",
     "output_type": "stream",
     "text": [
      "s1 = ''\n",
      "s2 = ''\n"
     ]
    },
    {
     "data": {
      "text/html": [
       "<samp>(debugger) <b>quit</b></samp>"
      ],
      "text/plain": [
       "<IPython.core.display.HTML object>"
      ]
     },
     "metadata": {},
     "output_type": "display_data"
    },
    {
     "name": "stderr",
     "output_type": "stream",
     "text": [
      "Traceback (most recent call last):\n",
      "  File \"/var/folders/n2/xd9445p97rb3xh7m1dfx8_4h0006ts/T/ipykernel_51600/2680174709.py\", line 3, in <module>\n",
      "    string_error(**string_error_args)\n",
      "    ~~~~~~~~~~~~^^^^^^^^^^^^^^^^^^^^^\n",
      "  File \"/var/folders/n2/xd9445p97rb3xh7m1dfx8_4h0006ts/T/ipykernel_51600/773514021.py\", line 2, in string_error\n",
      "    assert s1 not in s2, \"no substrings\"\n",
      "           ^^^^^^^^^^^^\n",
      "AssertionError: no substrings (expected)\n"
     ]
    }
   ],
   "source": [
    "with ExpectError(AssertionError):\n",
    "    with Debugger():\n",
    "        string_error(**string_error_args)"
   ]
  },
  {
   "cell_type": "markdown",
   "metadata": {
    "slideshow": {
     "slide_type": "subslide"
    }
   },
   "source": [
    "### Reducing other Collections\n",
    "\n",
    "Our `DeltaDebugger` is not limited to strings. It can reduce any argument `x` for which a `len(x)` operation and an indexing operation `x[i]` is defined – notably lists. Here is how to apply `DeltaDebugger` on a list:"
   ]
  },
  {
   "cell_type": "code",
   "execution_count": 106,
   "metadata": {
    "execution": {
     "iopub.execute_input": "2025-10-26T17:47:40.627082Z",
     "iopub.status.busy": "2025-10-26T17:47:40.627004Z",
     "iopub.status.idle": "2025-10-26T17:47:40.628818Z",
     "shell.execute_reply": "2025-10-26T17:47:40.628587Z"
    },
    "slideshow": {
     "slide_type": "fragment"
    }
   },
   "outputs": [],
   "source": [
    "def list_error(l1: List, l2: List, maxlen: int) -> None:\n",
    "    assert len(l1) < len(l2) < maxlen, \"invalid string length\""
   ]
  },
  {
   "cell_type": "code",
   "execution_count": 107,
   "metadata": {
    "execution": {
     "iopub.execute_input": "2025-10-26T17:47:40.629961Z",
     "iopub.status.busy": "2025-10-26T17:47:40.629829Z",
     "iopub.status.idle": "2025-10-26T17:47:40.632646Z",
     "shell.execute_reply": "2025-10-26T17:47:40.632375Z"
    },
    "slideshow": {
     "slide_type": "fragment"
    }
   },
   "outputs": [
    {
     "data": {
      "text/plain": [
       "list_error(l1=[], l2=[], maxlen=5)"
      ]
     },
     "execution_count": 107,
     "metadata": {},
     "output_type": "execute_result"
    }
   ],
   "source": [
    "with DeltaDebugger() as dd:\n",
    "    list_error(l1=[1, 2, 3, 4, 5, 6, 7, 8, 9, 10], l2=[1, 2, 3], maxlen=5)\n",
    "dd"
   ]
  },
  {
   "cell_type": "markdown",
   "metadata": {
    "slideshow": {
     "slide_type": "slide"
    }
   },
   "source": [
    "## Debugging Inputs\n",
    "\n",
    "Sometimes, it may be useful to not _minimize_ the input, but rather _maximize_ it – that is, to find the _maximum_ input that does _not_ fail. For instance, you may have an input of which you want to _preserve_ as much as possible – to repair it, or to establish a _context_ that is as close as possible to the real input."
   ]
  },
  {
   "cell_type": "markdown",
   "metadata": {
    "slideshow": {
     "slide_type": "fragment"
    }
   },
   "source": [
    "This is possible by using the `max_arg()` method. It implements the `ddmax` variant of the general Delta Debugging algorithm \\cite{Kirschner2020}. With each step, it tries to add more and more characters to the passing input until it is _1-maximal_ – that is, any additional character that would be added from the failing input also would cause the function to fail."
   ]
  },
  {
   "cell_type": "code",
   "execution_count": 108,
   "metadata": {
    "execution": {
     "iopub.execute_input": "2025-10-26T17:47:40.634239Z",
     "iopub.status.busy": "2025-10-26T17:47:40.634124Z",
     "iopub.status.idle": "2025-10-26T17:47:40.637245Z",
     "shell.execute_reply": "2025-10-26T17:47:40.636942Z"
    },
    "slideshow": {
     "slide_type": "subslide"
    }
   },
   "outputs": [
    {
     "name": "stdout",
     "output_type": "stream",
     "text": [
      "Observed mystery(inp='V\"/+!aF-(V4EOz*+s/Q,7)2@0_') raising ValueError: Invalid input\n",
      "Test #1 mystery(inp='V\"/+!aF-(V4EOz*+s/Q,7)2@0_'): FAIL (ValueError: Invalid input)\n",
      "Processing inp...\n",
      "Test #2 mystery(inp=''): PASS\n",
      "Test #3 mystery(inp='z*+s/Q,7)2@0_'): PASS\n",
      "Test #4 mystery(inp='-(V4EOz*+s/Q,7)2@0_'): FAIL (ValueError: Invalid input)\n",
      "Test #5 mystery(inp='V\"/+!aFz*+s/Q,7)2@0_'): PASS\n",
      "Test #6 mystery(inp='V\"/+!aF4EOz*+s/Q,7)2@0_'): PASS\n",
      "Test #7 mystery(inp='V\"/+!aF-4EOz*+s/Q,7)2@0_'): PASS\n",
      "Test #8 mystery(inp='V\"/+!aF-V4EOz*+s/Q,7)2@0_'): PASS\n",
      "Maximized inp to 'V\"/+!aF-V4EOz*+s/Q,7)2@0_'\n",
      "Maximized passing call to mystery(inp='V\"/+!aF-V4EOz*+s/Q,7)2@0_')\n"
     ]
    },
    {
     "data": {
      "text/plain": [
       "'V\"/+!aF-V4EOz*+s/Q,7)2@0_'"
      ]
     },
     "execution_count": 108,
     "metadata": {},
     "output_type": "execute_result"
    }
   ],
   "source": [
    "with DeltaDebugger(log=True) as dd:\n",
    "    mystery(failing_input)\n",
    "max_passing_input = dd.max_args()['inp']\n",
    "max_passing_input"
   ]
  },
  {
   "cell_type": "markdown",
   "metadata": {
    "slideshow": {
     "slide_type": "subslide"
    }
   },
   "source": [
    "Note that this is precisely the failure-inducing input _except_ for the first parenthesis. Adding this single character would cause the input to cause a failure."
   ]
  },
  {
   "cell_type": "markdown",
   "metadata": {
    "slideshow": {
     "slide_type": "slide"
    }
   },
   "source": [
    "## Failure-Inducing Differences"
   ]
  },
  {
   "cell_type": "markdown",
   "metadata": {
    "slideshow": {
     "slide_type": "fragment"
    }
   },
   "source": [
    "If one wants to look for _differences_ that distinguish passing from failing runs, Delta Debugging also has a direct method for this – by both maximizing the passing input and minimizing the failing input until they meet somewhere in the middle. The remaining difference is what makes the difference between passing and failing."
   ]
  },
  {
   "cell_type": "markdown",
   "metadata": {
    "slideshow": {
     "slide_type": "fragment"
    }
   },
   "source": [
    "To compute the failure-inducing differences for `mystery()`, use the `min_arg_diff()` method:"
   ]
  },
  {
   "cell_type": "code",
   "execution_count": 109,
   "metadata": {
    "execution": {
     "iopub.execute_input": "2025-10-26T17:47:40.639208Z",
     "iopub.status.busy": "2025-10-26T17:47:40.639114Z",
     "iopub.status.idle": "2025-10-26T17:47:40.642026Z",
     "shell.execute_reply": "2025-10-26T17:47:40.641771Z"
    },
    "slideshow": {
     "slide_type": "subslide"
    }
   },
   "outputs": [
    {
     "name": "stdout",
     "output_type": "stream",
     "text": [
      "Observed mystery(inp='V\"/+!aF-(V4EOz*+s/Q,7)2@0_') raising ValueError: Invalid input\n",
      "Test #1 mystery(inp='V\"/+!aF-(V4EOz*+s/Q,7)2@0_'): FAIL (ValueError: Invalid input)\n",
      "Processing inp...\n",
      "Test #2 mystery(inp=''): PASS\n",
      "Test #3 mystery(inp='V\"/+!aF-(V4EO'): PASS\n",
      "Test #4 mystery(inp='z*+s/Q,7)2@0_'): PASS\n",
      "Test #5 mystery(inp='V\"/+!aFz*+s/Q,7)2@0_'): PASS\n",
      "Test #6 mystery(inp='-(V4EOz*+s/Q,7)2@0_'): FAIL (ValueError: Invalid input)\n",
      "Test #7 mystery(inp='-(Vz*+s/Q,7)2@0_'): FAIL (ValueError: Invalid input)\n",
      "Test #8 mystery(inp='(Vz*+s/Q,7)2@0_'): FAIL (ValueError: Invalid input)\n",
      "Test #9 mystery(inp='(z*+s/Q,7)2@0_'): FAIL (ValueError: Invalid input)\n",
      "Maximized inp to 'z*+s/Q,7)2@0_'\n",
      "Minimized inp to '(z*+s/Q,7)2@0_'\n",
      "Maximized passing call to mystery(inp='z*+s/Q,7)2@0_')\n",
      "Minimized failing call to mystery(inp='(z*+s/Q,7)2@0_')\n"
     ]
    },
    {
     "data": {
      "text/plain": [
       "('z*+s/Q,7)2@0_', '(z*+s/Q,7)2@0_', '(')"
      ]
     },
     "execution_count": 109,
     "metadata": {},
     "output_type": "execute_result"
    }
   ],
   "source": [
    "with DeltaDebugger(log=True) as dd:\n",
    "    mystery(failing_input)\n",
    "max_passing_args, min_failing_args, diff = dd.min_arg_diff()\n",
    "max_passing_args['inp'], min_failing_args['inp'], diff['inp']"
   ]
  },
  {
   "cell_type": "markdown",
   "metadata": {
    "slideshow": {
     "slide_type": "subslide"
    }
   },
   "source": [
    "Minimizing failure-inducing differences is especially efficient on large inputs, since the number of differences between a passing and a failing input is much smaller than the inputs themselves. Here is the failure-inducing difference as determined by Delta Debugging:"
   ]
  },
  {
   "cell_type": "code",
   "execution_count": 110,
   "metadata": {
    "execution": {
     "iopub.execute_input": "2025-10-26T17:47:40.643312Z",
     "iopub.status.busy": "2025-10-26T17:47:40.643231Z",
     "iopub.status.idle": "2025-10-26T17:47:40.645287Z",
     "shell.execute_reply": "2025-10-26T17:47:40.645062Z"
    },
    "slideshow": {
     "slide_type": "fragment"
    }
   },
   "outputs": [
    {
     "data": {
      "text/plain": [
       "'('"
      ]
     },
     "execution_count": 110,
     "metadata": {},
     "output_type": "execute_result"
    }
   ],
   "source": [
    "diff['inp']"
   ]
  },
  {
   "cell_type": "markdown",
   "metadata": {
    "slideshow": {
     "slide_type": "slide"
    }
   },
   "source": [
    "## Reducing Program Code\n",
    "\n",
    "One particularly fun application of reducers is on _program code_. Technically speaking, program code is just another input to a computation; and we can actually automatically determine which minimum of program code is required to produce a failure, using Delta Debugging. Such minimization of code is typically used as it comes to debugging programs that accept code as their input, such as _compilers_ and _interpreters_. However, it can also pinpoint failure causes in the (input) code itself."
   ]
  },
  {
   "cell_type": "markdown",
   "metadata": {
    "slideshow": {
     "slide_type": "fragment"
    }
   },
   "source": [
    "As an example, let us apply Delta Debugging on the code from [the chapter on assertions](Assertions.html). You do not need to have read the chapter; the important part is that this chapter provides an implementation of `remove_html_markup()` that we want to use."
   ]
  },
  {
   "cell_type": "code",
   "execution_count": 111,
   "metadata": {
    "execution": {
     "iopub.execute_input": "2025-10-26T17:47:40.646672Z",
     "iopub.status.busy": "2025-10-26T17:47:40.646586Z",
     "iopub.status.idle": "2025-10-26T17:47:40.648326Z",
     "shell.execute_reply": "2025-10-26T17:47:40.647946Z"
    },
    "slideshow": {
     "slide_type": "subslide"
    },
    "tags": [
     "remove-input"
    ]
   },
   "outputs": [],
   "source": [
    "# ignore\n",
    "try:\n",
    "    del remove_html_markup\n",
    "except NameError:\n",
    "    pass"
   ]
  },
  {
   "cell_type": "code",
   "execution_count": 112,
   "metadata": {
    "execution": {
     "iopub.execute_input": "2025-10-26T17:47:40.650207Z",
     "iopub.status.busy": "2025-10-26T17:47:40.650065Z",
     "iopub.status.idle": "2025-10-26T17:47:40.651888Z",
     "shell.execute_reply": "2025-10-26T17:47:40.651623Z"
    },
    "slideshow": {
     "slide_type": "skip"
    }
   },
   "outputs": [],
   "source": [
    "import Assertions  # minor dependency"
   ]
  },
  {
   "cell_type": "markdown",
   "metadata": {
    "slideshow": {
     "slide_type": "fragment"
    }
   },
   "source": [
    "Here is the source code of all the chapter; this is several hundred lines long."
   ]
  },
  {
   "cell_type": "code",
   "execution_count": 113,
   "metadata": {
    "execution": {
     "iopub.execute_input": "2025-10-26T17:47:40.653263Z",
     "iopub.status.busy": "2025-10-26T17:47:40.653162Z",
     "iopub.status.idle": "2025-10-26T17:47:40.654759Z",
     "shell.execute_reply": "2025-10-26T17:47:40.654488Z"
    },
    "slideshow": {
     "slide_type": "skip"
    }
   },
   "outputs": [],
   "source": [
    "import inspect"
   ]
  },
  {
   "cell_type": "code",
   "execution_count": 114,
   "metadata": {
    "execution": {
     "iopub.execute_input": "2025-10-26T17:47:40.655998Z",
     "iopub.status.busy": "2025-10-26T17:47:40.655910Z",
     "iopub.status.idle": "2025-10-26T17:47:40.658166Z",
     "shell.execute_reply": "2025-10-26T17:47:40.657904Z"
    },
    "slideshow": {
     "slide_type": "subslide"
    }
   },
   "outputs": [
    {
     "data": {
      "text/plain": [
       "['from bookutils import YouTubeVideo\\n',\n",
       " 'YouTubeVideo(\"9mI9sbKFkwU\")\\n',\n",
       " '\\n',\n",
       " 'import bookutils.setup\\n',\n",
       " '\\n',\n",
       " 'from bookutils import quiz\\n',\n",
       " '\\n',\n",
       " 'import Tracer\\n',\n",
       " '\\n',\n",
       " 'from ExpectError import ExpectError\\n']"
      ]
     },
     "execution_count": 114,
     "metadata": {},
     "output_type": "execute_result"
    }
   ],
   "source": [
    "assertions_source_lines, _ = inspect.getsourcelines(Assertions)\n",
    "# print_content(\"\".join(assertions_source_lines), \".py\")\n",
    "assertions_source_lines[:10]"
   ]
  },
  {
   "cell_type": "code",
   "execution_count": 115,
   "metadata": {
    "execution": {
     "iopub.execute_input": "2025-10-26T17:47:40.659372Z",
     "iopub.status.busy": "2025-10-26T17:47:40.659290Z",
     "iopub.status.idle": "2025-10-26T17:47:40.661323Z",
     "shell.execute_reply": "2025-10-26T17:47:40.661069Z"
    },
    "slideshow": {
     "slide_type": "fragment"
    }
   },
   "outputs": [
    {
     "data": {
      "text/plain": [
       "552"
      ]
     },
     "execution_count": 115,
     "metadata": {},
     "output_type": "execute_result"
    }
   ],
   "source": [
    "len(assertions_source_lines)"
   ]
  },
  {
   "cell_type": "markdown",
   "metadata": {
    "slideshow": {
     "slide_type": "subslide"
    }
   },
   "source": [
    "We can take this code and execute it. Nothing particular should happen here, as our imports only import definitions of functions, classes, and global variables."
   ]
  },
  {
   "cell_type": "code",
   "execution_count": 116,
   "metadata": {
    "execution": {
     "iopub.execute_input": "2025-10-26T17:47:40.663217Z",
     "iopub.status.busy": "2025-10-26T17:47:40.663100Z",
     "iopub.status.idle": "2025-10-26T17:47:40.665324Z",
     "shell.execute_reply": "2025-10-26T17:47:40.664810Z"
    },
    "slideshow": {
     "slide_type": "fragment"
    }
   },
   "outputs": [],
   "source": [
    "def compile_and_run(lines: List[str]) -> None:\n",
    "    # To execute 'Assertions' in place, we need to define __name__ and __package__\n",
    "    exec(\"\".join(lines), {'__name__': '<string>',\n",
    "                          '__package__': 'debuggingbook',\n",
    "                          'Any': Any,\n",
    "                         'Type': Type,\n",
    "                         'TracebackType': TracebackType,\n",
    "                         'Optional': Optional},\n",
    "         {})"
   ]
  },
  {
   "cell_type": "code",
   "execution_count": 117,
   "metadata": {
    "execution": {
     "iopub.execute_input": "2025-10-26T17:47:40.666926Z",
     "iopub.status.busy": "2025-10-26T17:47:40.666821Z",
     "iopub.status.idle": "2025-10-26T17:47:40.671365Z",
     "shell.execute_reply": "2025-10-26T17:47:40.671096Z"
    },
    "slideshow": {
     "slide_type": "fragment"
    }
   },
   "outputs": [],
   "source": [
    "compile_and_run(assertions_source_lines)"
   ]
  },
  {
   "cell_type": "code",
   "execution_count": 118,
   "metadata": {
    "execution": {
     "iopub.execute_input": "2025-10-26T17:47:40.672547Z",
     "iopub.status.busy": "2025-10-26T17:47:40.672463Z",
     "iopub.status.idle": "2025-10-26T17:47:40.673890Z",
     "shell.execute_reply": "2025-10-26T17:47:40.673636Z"
    },
    "slideshow": {
     "slide_type": "skip"
    }
   },
   "outputs": [],
   "source": [
    "from Assertions import remove_html_markup  # minor dependency"
   ]
  },
  {
   "cell_type": "markdown",
   "metadata": {
    "slideshow": {
     "slide_type": "subslide"
    }
   },
   "source": [
    "Let us add some code to it – a \"My Test\" assertion that tests that `remove_html_markup()`, applied on a string with double quotes, should keep these in place:"
   ]
  },
  {
   "cell_type": "code",
   "execution_count": 119,
   "metadata": {
    "execution": {
     "iopub.execute_input": "2025-10-26T17:47:40.675473Z",
     "iopub.status.busy": "2025-10-26T17:47:40.675332Z",
     "iopub.status.idle": "2025-10-26T17:47:40.677315Z",
     "shell.execute_reply": "2025-10-26T17:47:40.676920Z"
    },
    "slideshow": {
     "slide_type": "fragment"
    }
   },
   "outputs": [],
   "source": [
    "def compile_and_test_html_markup_simple(lines: List[str]) -> None:\n",
    "    compile_and_run(lines + \n",
    "        [\n",
    "            '''''',\n",
    "            '''assert remove_html_markup('\"foo\"') == '\"foo\"', \"My Test\"\\n'''\n",
    "        ])"
   ]
  },
  {
   "cell_type": "markdown",
   "metadata": {
    "slideshow": {
     "slide_type": "fragment"
    }
   },
   "source": [
    "This assertion fails. (As always, `remove_html_markup()` is buggy.)"
   ]
  },
  {
   "cell_type": "code",
   "execution_count": 120,
   "metadata": {
    "execution": {
     "iopub.execute_input": "2025-10-26T17:47:40.679014Z",
     "iopub.status.busy": "2025-10-26T17:47:40.678915Z",
     "iopub.status.idle": "2025-10-26T17:47:40.684122Z",
     "shell.execute_reply": "2025-10-26T17:47:40.683829Z"
    },
    "slideshow": {
     "slide_type": "subslide"
    }
   },
   "outputs": [
    {
     "name": "stderr",
     "output_type": "stream",
     "text": [
      "Traceback (most recent call last):\n",
      "  File \"/var/folders/n2/xd9445p97rb3xh7m1dfx8_4h0006ts/T/ipykernel_51600/2334363057.py\", line 2, in <module>\n",
      "    compile_and_test_html_markup_simple(assertions_source_lines)\n",
      "    ~~~~~~~~~~~~~~~~~~~~~~~~~~~~~~~~~~~^^^^^^^^^^^^^^^^^^^^^^^^^\n",
      "  File \"/var/folders/n2/xd9445p97rb3xh7m1dfx8_4h0006ts/T/ipykernel_51600/1838190689.py\", line 2, in compile_and_test_html_markup_simple\n",
      "    compile_and_run(lines +\n",
      "    ~~~~~~~~~~~~~~~^^^^^^^^\n",
      "        [\n",
      "        ^\n",
      "            '''''',\n",
      "            ^^^^^^^\n",
      "            '''assert remove_html_markup('\"foo\"') == '\"foo\"', \"My Test\"\\n'''\n",
      "            ^^^^^^^^^^^^^^^^^^^^^^^^^^^^^^^^^^^^^^^^^^^^^^^^^^^^^^^^^^^^^^^^\n",
      "        ])\n",
      "        ^^\n",
      "  File \"/var/folders/n2/xd9445p97rb3xh7m1dfx8_4h0006ts/T/ipykernel_51600/2075409738.py\", line 3, in compile_and_run\n",
      "    exec(\"\".join(lines), {'__name__': '<string>',\n",
      "    ~~~~^^^^^^^^^^^^^^^^^^^^^^^^^^^^^^^^^^^^^^^^^\n",
      "                          '__package__': 'debuggingbook',\n",
      "                          ^^^^^^^^^^^^^^^^^^^^^^^^^^^^^^^\n",
      "    ...<3 lines>...\n",
      "                         'Optional': Optional},\n",
      "                         ^^^^^^^^^^^^^^^^^^^^^^\n",
      "         {})\n",
      "         ^^^\n",
      "  File \"<string>\", line 553, in <module>\n",
      "AssertionError: My Test (expected)\n"
     ]
    }
   ],
   "source": [
    "with ExpectError(AssertionError):\n",
    "    compile_and_test_html_markup_simple(assertions_source_lines)"
   ]
  },
  {
   "cell_type": "markdown",
   "metadata": {
    "slideshow": {
     "slide_type": "subslide"
    }
   },
   "source": [
    "The question we want to address in this section is: Given this assertion, can we automatically determine which part of the `Assertions` code lines in `assertions_source_lines` is relevant for producing the failure?"
   ]
  },
  {
   "cell_type": "markdown",
   "metadata": {
    "slideshow": {
     "slide_type": "subslide"
    }
   },
   "source": [
    "### Reducing Code Lines\n",
    "\n",
    "Since our `Assertions` source code comes as a list of lines, we can apply our `DeltaDebugger` on it. The result will be the list of source lines that is necessary to make the assertion fail."
   ]
  },
  {
   "cell_type": "code",
   "execution_count": 121,
   "metadata": {
    "execution": {
     "iopub.execute_input": "2025-10-26T17:47:40.685574Z",
     "iopub.status.busy": "2025-10-26T17:47:40.685465Z",
     "iopub.status.idle": "2025-10-26T17:47:40.688801Z",
     "shell.execute_reply": "2025-10-26T17:47:40.688469Z"
    },
    "slideshow": {
     "slide_type": "fragment"
    },
    "tags": [
     "remove-input"
    ]
   },
   "outputs": [
    {
     "data": {
      "text/html": [
       "\n",
       "    \n",
       "    <script>\n",
       "    var bad_answers = new Map();\n",
       "\n",
       "    function answer(quiz_id) {\n",
       "        ans = 0;\n",
       "        for (i = 1;; i++) {\n",
       "            checkbox = document.getElementById(quiz_id + \"-\" + i.toString());\n",
       "            if (!checkbox)\n",
       "                break;\n",
       "            if (checkbox.checked)\n",
       "                ans |= (1 << i);\n",
       "        }\n",
       "        return ans;\n",
       "    }\n",
       "    function check_selection(quiz_id, correct_answer, multiple_choice, hint) {\n",
       "        given_answer = answer(quiz_id);\n",
       "        if (given_answer == correct_answer)\n",
       "        {\n",
       "            document.getElementById(quiz_id + \"-submit\").value = \"Correct!\";\n",
       "            document.getElementById(quiz_id + \"-hint\").innerHTML = \"\";\n",
       "\n",
       "            for (i = 1;; i++) {\n",
       "                checkbox = document.getElementById(quiz_id + \"-\" + i.toString());\n",
       "                label = document.getElementById(quiz_id + \"-\" + i.toString() + \"-label\")\n",
       "                if (!checkbox)\n",
       "                    break;\n",
       "\n",
       "                if (checkbox.checked) {\n",
       "                    label.style.fontWeight = \"bold\";\n",
       "                }\n",
       "                else {\n",
       "                    label.style.textDecoration = \"line-through\";\n",
       "                }\n",
       "            }\n",
       "        }\n",
       "        else \n",
       "        {\n",
       "            document.getElementById(quiz_id + \"-submit\").value = \"Try again\";\n",
       "\n",
       "            if (!bad_answers.has(quiz_id)) {\n",
       "                bad_answers.set(quiz_id, 1);\n",
       "            }\n",
       "            else {\n",
       "                bad_answers.set(quiz_id, bad_answers.get(quiz_id) + 1);\n",
       "            }\n",
       "\n",
       "            if (bad_answers.get(quiz_id) >= 2 && hint.length > 0) {\n",
       "                document.getElementById(quiz_id + \"-hint\").innerHTML = \n",
       "                    \"&nbsp;&nbsp;(Hint: <code>\" + hint + \"</code>)\";\n",
       "            }\n",
       "\n",
       "            if (!multiple_choice) {\n",
       "                for (i = 1;; i++) {\n",
       "                    checkbox = document.getElementById(quiz_id + \"-\" + i.toString());\n",
       "                    label = document.getElementById(quiz_id + \"-\" + i.toString() + \"-label\")\n",
       "\n",
       "                    if (!checkbox)\n",
       "                        break;\n",
       "                    if (checkbox.checked) {\n",
       "                        label.style.textDecoration = \"line-through\";\n",
       "                    }\n",
       "                }\n",
       "            }\n",
       "        }\n",
       "    }\n",
       "    function clear_selection(quiz_id) {\n",
       "        document.getElementById(quiz_id + \"-submit\").value = \"Submit\";\n",
       "        document.getElementById(quiz_id + \"-hint\").innerHTML = \"\";\n",
       "    }\n",
       "    </script>\n",
       "    \n",
       "    <div class=\"quiz\">\n",
       "    <h3 class=\"quiz_title\">Quiz</h3>\n",
       "    <p>\n",
       "    <div class=\"quiz_question\">What will the reduced set of lines contain?</div>\n",
       "    </p>\n",
       "    <p>\n",
       "    <div class=\"quiz_options\" title=\"Pick a choice.\">\n",
       "    \n",
       "        <input type=\"radio\" name=\"de3b756a-b293-11f0-b3c5-6298cf1a5790\" id=\"de3b756a-b293-11f0-b3c5-6298cf1a5790-1\" onclick=\"clear_selection('de3b756a-b293-11f0-b3c5-6298cf1a5790')\">\n",
       "        <label id=\"de3b756a-b293-11f0-b3c5-6298cf1a5790-1-label\" for=\"de3b756a-b293-11f0-b3c5-6298cf1a5790-1\">All of the source code in the assertions chapter.</label><br>\n",
       "    \n",
       "        <input type=\"radio\" name=\"de3b756a-b293-11f0-b3c5-6298cf1a5790\" id=\"de3b756a-b293-11f0-b3c5-6298cf1a5790-2\" onclick=\"clear_selection('de3b756a-b293-11f0-b3c5-6298cf1a5790')\">\n",
       "        <label id=\"de3b756a-b293-11f0-b3c5-6298cf1a5790-2-label\" for=\"de3b756a-b293-11f0-b3c5-6298cf1a5790-2\">Only the source code of <code>remove_html_markup()</code></label><br>\n",
       "    \n",
       "        <input type=\"radio\" name=\"de3b756a-b293-11f0-b3c5-6298cf1a5790\" id=\"de3b756a-b293-11f0-b3c5-6298cf1a5790-3\" onclick=\"clear_selection('de3b756a-b293-11f0-b3c5-6298cf1a5790')\">\n",
       "        <label id=\"de3b756a-b293-11f0-b3c5-6298cf1a5790-3-label\" for=\"de3b756a-b293-11f0-b3c5-6298cf1a5790-3\">Only a subset of <code>remove_html_markup()</code></label><br>\n",
       "    \n",
       "        <input type=\"radio\" name=\"de3b756a-b293-11f0-b3c5-6298cf1a5790\" id=\"de3b756a-b293-11f0-b3c5-6298cf1a5790-4\" onclick=\"clear_selection('de3b756a-b293-11f0-b3c5-6298cf1a5790')\">\n",
       "        <label id=\"de3b756a-b293-11f0-b3c5-6298cf1a5790-4-label\" for=\"de3b756a-b293-11f0-b3c5-6298cf1a5790-4\">No lines at all.</label><br>\n",
       "    \n",
       "    </div>\n",
       "    </p>\n",
       "    <input id=\"de3b756a-b293-11f0-b3c5-6298cf1a5790-submit\" type=\"submit\" value=\"Submit\" onclick=\"check_selection('de3b756a-b293-11f0-b3c5-6298cf1a5790', 8, 0, '[x for x in range((1 + 1) ** (1 + 1)) if x % (1 + 1) == 1][1]')\">\n",
       "    <span class=\"quiz_hint\" id=\"de3b756a-b293-11f0-b3c5-6298cf1a5790-hint\"></span>\n",
       "    </div>\n",
       "    "
      ],
      "text/plain": [
       "<IPython.core.display.HTML object>"
      ]
     },
     "execution_count": 121,
     "metadata": {},
     "output_type": "execute_result"
    }
   ],
   "source": [
    "quiz(\"What will the reduced set of lines contain?\",\n",
    "     [\n",
    "         \"All of the source code in the assertions chapter.\",\n",
    "         \"Only the source code of `remove_html_markup()`\",\n",
    "         \"Only a subset of `remove_html_markup()`\",\n",
    "         \"No lines at all.\"\n",
    "     ], '[x for x in range((1 + 1) ** (1 + 1)) if x % (1 + 1) == 1][1]')"
   ]
  },
  {
   "cell_type": "markdown",
   "metadata": {
    "slideshow": {
     "slide_type": "fragment"
    }
   },
   "source": [
    "Let us see what the `DeltaDebugger` produces."
   ]
  },
  {
   "cell_type": "code",
   "execution_count": 122,
   "metadata": {
    "execution": {
     "iopub.execute_input": "2025-10-26T17:47:40.690569Z",
     "iopub.status.busy": "2025-10-26T17:47:40.690442Z",
     "iopub.status.idle": "2025-10-26T17:47:40.695606Z",
     "shell.execute_reply": "2025-10-26T17:47:40.695296Z"
    },
    "slideshow": {
     "slide_type": "subslide"
    }
   },
   "outputs": [],
   "source": [
    "with DeltaDebugger(log=False) as dd:\n",
    "    compile_and_test_html_markup_simple(assertions_source_lines)"
   ]
  },
  {
   "cell_type": "markdown",
   "metadata": {
    "slideshow": {
     "slide_type": "fragment"
    }
   },
   "source": [
    "We get exactly _two_ lines of code:"
   ]
  },
  {
   "cell_type": "code",
   "execution_count": 123,
   "metadata": {
    "execution": {
     "iopub.execute_input": "2025-10-26T17:47:40.697142Z",
     "iopub.status.busy": "2025-10-26T17:47:40.697038Z",
     "iopub.status.idle": "2025-10-26T17:47:40.709890Z",
     "shell.execute_reply": "2025-10-26T17:47:40.709594Z"
    },
    "slideshow": {
     "slide_type": "fragment"
    }
   },
   "outputs": [
    {
     "data": {
      "text/plain": [
       "2"
      ]
     },
     "execution_count": 123,
     "metadata": {},
     "output_type": "execute_result"
    }
   ],
   "source": [
    "reduced_lines = dd.min_args()['lines']\n",
    "len(reduced_lines)"
   ]
  },
  {
   "cell_type": "markdown",
   "metadata": {
    "slideshow": {
     "slide_type": "fragment"
    }
   },
   "source": [
    "And these are:"
   ]
  },
  {
   "cell_type": "code",
   "execution_count": 124,
   "metadata": {
    "execution": {
     "iopub.execute_input": "2025-10-26T17:47:40.711249Z",
     "iopub.status.busy": "2025-10-26T17:47:40.711144Z",
     "iopub.status.idle": "2025-10-26T17:47:40.712822Z",
     "shell.execute_reply": "2025-10-26T17:47:40.712540Z"
    },
    "slideshow": {
     "slide_type": "skip"
    }
   },
   "outputs": [],
   "source": [
    "from bookutils import print_content"
   ]
  },
  {
   "cell_type": "code",
   "execution_count": 125,
   "metadata": {
    "execution": {
     "iopub.execute_input": "2025-10-26T17:47:40.714124Z",
     "iopub.status.busy": "2025-10-26T17:47:40.714016Z",
     "iopub.status.idle": "2025-10-26T17:47:40.779085Z",
     "shell.execute_reply": "2025-10-26T17:47:40.778796Z"
    },
    "slideshow": {
     "slide_type": "fragment"
    }
   },
   "outputs": [
    {
     "name": "stdout",
     "output_type": "stream",
     "text": [
      "\u001b[34mdef\u001b[39;49;00m\u001b[37m \u001b[39;49;00m\u001b[32mremove_html_markup\u001b[39;49;00m(s):  \u001b[37m# type: ignore\u001b[39;49;00m\u001b[37m\u001b[39;49;00m\n",
      "    tag = \u001b[34mFalse\u001b[39;49;00m\u001b[37m\u001b[39;49;00m"
     ]
    }
   ],
   "source": [
    "print_content(\"\".join(reduced_lines), \".py\")"
   ]
  },
  {
   "cell_type": "markdown",
   "metadata": {
    "slideshow": {
     "slide_type": "fragment"
    }
   },
   "source": [
    "On these lines, our test actually still fails:"
   ]
  },
  {
   "cell_type": "code",
   "execution_count": 126,
   "metadata": {
    "execution": {
     "iopub.execute_input": "2025-10-26T17:47:40.780420Z",
     "iopub.status.busy": "2025-10-26T17:47:40.780338Z",
     "iopub.status.idle": "2025-10-26T17:47:40.782469Z",
     "shell.execute_reply": "2025-10-26T17:47:40.782239Z"
    },
    "slideshow": {
     "slide_type": "subslide"
    }
   },
   "outputs": [
    {
     "name": "stderr",
     "output_type": "stream",
     "text": [
      "Traceback (most recent call last):\n",
      "  File \"/var/folders/n2/xd9445p97rb3xh7m1dfx8_4h0006ts/T/ipykernel_51600/2457905094.py\", line 2, in <module>\n",
      "    compile_and_test_html_markup_simple(reduced_lines)\n",
      "    ~~~~~~~~~~~~~~~~~~~~~~~~~~~~~~~~~~~^^^^^^^^^^^^^^^\n",
      "  File \"/var/folders/n2/xd9445p97rb3xh7m1dfx8_4h0006ts/T/ipykernel_51600/1838190689.py\", line 2, in compile_and_test_html_markup_simple\n",
      "    compile_and_run(lines +\n",
      "    ~~~~~~~~~~~~~~~^^^^^^^^\n",
      "        [\n",
      "        ^\n",
      "            '''''',\n",
      "            ^^^^^^^\n",
      "            '''assert remove_html_markup('\"foo\"') == '\"foo\"', \"My Test\"\\n'''\n",
      "            ^^^^^^^^^^^^^^^^^^^^^^^^^^^^^^^^^^^^^^^^^^^^^^^^^^^^^^^^^^^^^^^^\n",
      "        ])\n",
      "        ^^\n",
      "  File \"/var/folders/n2/xd9445p97rb3xh7m1dfx8_4h0006ts/T/ipykernel_51600/2075409738.py\", line 3, in compile_and_run\n",
      "    exec(\"\".join(lines), {'__name__': '<string>',\n",
      "    ~~~~^^^^^^^^^^^^^^^^^^^^^^^^^^^^^^^^^^^^^^^^^\n",
      "                          '__package__': 'debuggingbook',\n",
      "                          ^^^^^^^^^^^^^^^^^^^^^^^^^^^^^^^\n",
      "    ...<3 lines>...\n",
      "                         'Optional': Optional},\n",
      "                         ^^^^^^^^^^^^^^^^^^^^^^\n",
      "         {})\n",
      "         ^^^\n",
      "  File \"<string>\", line 3, in <module>\n",
      "AssertionError: My Test (expected)\n"
     ]
    }
   ],
   "source": [
    "with ExpectError(AssertionError):\n",
    "    compile_and_test_html_markup_simple(reduced_lines)"
   ]
  },
  {
   "cell_type": "markdown",
   "metadata": {
    "slideshow": {
     "slide_type": "subslide"
    }
   },
   "source": [
    "This failure may come as a surprise – `remove_html_markup()` is reduced to a function which does not even return a value. However, this is how it causes our \"My Test\" assertion to fail: In Python, a function without an explicit `return` statement returns `None`. This value is definitely not the string the \"My Test\" assertion expects, so it fails."
   ]
  },
  {
   "cell_type": "markdown",
   "metadata": {
    "slideshow": {
     "slide_type": "fragment"
    }
   },
   "source": [
    "At the same time, we also have a function `test_square_root()` which is equally devoid of any meaning – its code line does not even stem from its original implementation. Note, however, how the set of four lines is actually 1-minimal – removing any further line would result in a syntax error."
   ]
  },
  {
   "cell_type": "markdown",
   "metadata": {
    "slideshow": {
     "slide_type": "fragment"
    }
   },
   "source": [
    "To ensure we do not remove code that actually would be necessary for normal behavior, let us add another check – one that checks for the _normal_ functionality of `remove_html_markup()`. If this one fails (say, after the code has been tampered with too much), it raises an exception – but a _different_ one from the original failure:"
   ]
  },
  {
   "cell_type": "code",
   "execution_count": 127,
   "metadata": {
    "execution": {
     "iopub.execute_input": "2025-10-26T17:47:40.783632Z",
     "iopub.status.busy": "2025-10-26T17:47:40.783554Z",
     "iopub.status.idle": "2025-10-26T17:47:40.785155Z",
     "shell.execute_reply": "2025-10-26T17:47:40.784986Z"
    },
    "slideshow": {
     "slide_type": "subslide"
    }
   },
   "outputs": [],
   "source": [
    "def compile_and_test_html_markup(lines: List[str]) -> None:\n",
    "    compile_and_run(lines +\n",
    "        [\n",
    "            '',\n",
    "            '''if remove_html_markup('<foo>bar</foo>') != 'bar':\\n''',\n",
    "            '''    raise RuntimeError(\"Missing functionality\")\\n''',\n",
    "            '''assert remove_html_markup('\"foo\"') == '\"foo\"', \"My Test\"\\n'''\n",
    "        ])"
   ]
  },
  {
   "cell_type": "markdown",
   "metadata": {
    "slideshow": {
     "slide_type": "fragment"
    }
   },
   "source": [
    "On our \"reduced\" code, we now obtain a different exception."
   ]
  },
  {
   "cell_type": "code",
   "execution_count": 128,
   "metadata": {
    "execution": {
     "iopub.execute_input": "2025-10-26T17:47:40.786762Z",
     "iopub.status.busy": "2025-10-26T17:47:40.786631Z",
     "iopub.status.idle": "2025-10-26T17:47:40.788875Z",
     "shell.execute_reply": "2025-10-26T17:47:40.788597Z"
    },
    "slideshow": {
     "slide_type": "subslide"
    }
   },
   "outputs": [
    {
     "name": "stderr",
     "output_type": "stream",
     "text": [
      "Traceback (most recent call last):\n",
      "  File \"/var/folders/n2/xd9445p97rb3xh7m1dfx8_4h0006ts/T/ipykernel_51600/810405118.py\", line 2, in <module>\n",
      "    compile_and_test_html_markup(reduced_lines)\n",
      "    ~~~~~~~~~~~~~~~~~~~~~~~~~~~~^^^^^^^^^^^^^^^\n",
      "  File \"/var/folders/n2/xd9445p97rb3xh7m1dfx8_4h0006ts/T/ipykernel_51600/4067432722.py\", line 2, in compile_and_test_html_markup\n",
      "    compile_and_run(lines +\n",
      "    ~~~~~~~~~~~~~~~^^^^^^^^\n",
      "        [\n",
      "        ^\n",
      "    ...<3 lines>...\n",
      "            '''assert remove_html_markup('\"foo\"') == '\"foo\"', \"My Test\"\\n'''\n",
      "            ^^^^^^^^^^^^^^^^^^^^^^^^^^^^^^^^^^^^^^^^^^^^^^^^^^^^^^^^^^^^^^^^\n",
      "        ])\n",
      "        ^^\n",
      "  File \"/var/folders/n2/xd9445p97rb3xh7m1dfx8_4h0006ts/T/ipykernel_51600/2075409738.py\", line 3, in compile_and_run\n",
      "    exec(\"\".join(lines), {'__name__': '<string>',\n",
      "    ~~~~^^^^^^^^^^^^^^^^^^^^^^^^^^^^^^^^^^^^^^^^^\n",
      "                          '__package__': 'debuggingbook',\n",
      "                          ^^^^^^^^^^^^^^^^^^^^^^^^^^^^^^^\n",
      "    ...<3 lines>...\n",
      "                         'Optional': Optional},\n",
      "                         ^^^^^^^^^^^^^^^^^^^^^^\n",
      "         {})\n",
      "         ^^^\n",
      "  File \"<string>\", line 4, in <module>\n",
      "RuntimeError: Missing functionality (expected)\n"
     ]
    }
   ],
   "source": [
    "with ExpectError():\n",
    "    compile_and_test_html_markup(reduced_lines)"
   ]
  },
  {
   "cell_type": "markdown",
   "metadata": {
    "slideshow": {
     "slide_type": "subslide"
    }
   },
   "source": [
    "Such an outcome that is different from the original failure causes our `DeltaDebugger` not treating this as a failure, but rather as a `UNRESOLVED` outcome, indicating that the test cannot determine whether it passed or failed. The `ddmin` algorithm treats such unresolved outcomes as if they were passing; hence, the algorithm treats its minimization attempt as unsuccessful."
   ]
  },
  {
   "cell_type": "markdown",
   "metadata": {
    "slideshow": {
     "slide_type": "fragment"
    }
   },
   "source": [
    "How does this change things? When we reduce the `Assertions` source code with the extended assertions, we now get a different result:"
   ]
  },
  {
   "cell_type": "code",
   "execution_count": 129,
   "metadata": {
    "execution": {
     "iopub.execute_input": "2025-10-26T17:47:40.790581Z",
     "iopub.status.busy": "2025-10-26T17:47:40.790467Z",
     "iopub.status.idle": "2025-10-26T17:47:40.812879Z",
     "shell.execute_reply": "2025-10-26T17:47:40.812572Z"
    },
    "slideshow": {
     "slide_type": "fragment"
    }
   },
   "outputs": [],
   "source": [
    "with DeltaDebugger(log=False) as dd:\n",
    "    compile_and_test_html_markup(assertions_source_lines)\n",
    "reduced_assertions_source_lines = dd.min_args()['lines']"
   ]
  },
  {
   "cell_type": "markdown",
   "metadata": {
    "slideshow": {
     "slide_type": "subslide"
    }
   },
   "source": [
    "Our result actually is the source code of `remove_html_markup()` – and _only_ the source code. This is a success, as Delta Debugging has eliminated all the other parts of the `Assertions` source code; these neither contribute to the correct functioning of `remove_html_markup()`, nor to the failure at hand."
   ]
  },
  {
   "cell_type": "code",
   "execution_count": 130,
   "metadata": {
    "execution": {
     "iopub.execute_input": "2025-10-26T17:47:40.814365Z",
     "iopub.status.busy": "2025-10-26T17:47:40.814261Z",
     "iopub.status.idle": "2025-10-26T17:47:40.828665Z",
     "shell.execute_reply": "2025-10-26T17:47:40.828316Z"
    },
    "slideshow": {
     "slide_type": "subslide"
    }
   },
   "outputs": [
    {
     "name": "stdout",
     "output_type": "stream",
     "text": [
      "\u001b[34mdef\u001b[39;49;00m\u001b[37m \u001b[39;49;00m\u001b[32mremove_html_markup\u001b[39;49;00m(s):  \u001b[37m# type: ignore\u001b[39;49;00m\u001b[37m\u001b[39;49;00m\n",
      "    tag = \u001b[34mFalse\u001b[39;49;00m\u001b[37m\u001b[39;49;00m\n",
      "    quote = \u001b[34mFalse\u001b[39;49;00m\u001b[37m\u001b[39;49;00m\n",
      "    out = \u001b[33m\"\u001b[39;49;00m\u001b[33m\"\u001b[39;49;00m\u001b[37m\u001b[39;49;00m\n",
      "    \u001b[34mfor\u001b[39;49;00m c \u001b[35min\u001b[39;49;00m s:\u001b[37m\u001b[39;49;00m\n",
      "        \u001b[34mif\u001b[39;49;00m c == \u001b[33m'\u001b[39;49;00m\u001b[33m<\u001b[39;49;00m\u001b[33m'\u001b[39;49;00m \u001b[35mand\u001b[39;49;00m \u001b[35mnot\u001b[39;49;00m quote:\u001b[37m\u001b[39;49;00m\n",
      "            tag = \u001b[34mTrue\u001b[39;49;00m\u001b[37m\u001b[39;49;00m\n",
      "        \u001b[34melif\u001b[39;49;00m c == \u001b[33m'\u001b[39;49;00m\u001b[33m>\u001b[39;49;00m\u001b[33m'\u001b[39;49;00m \u001b[35mand\u001b[39;49;00m \u001b[35mnot\u001b[39;49;00m quote:\u001b[37m\u001b[39;49;00m\n",
      "            tag = \u001b[34mFalse\u001b[39;49;00m\u001b[37m\u001b[39;49;00m\n",
      "        \u001b[34melif\u001b[39;49;00m c == \u001b[33m'\u001b[39;49;00m\u001b[33m\"\u001b[39;49;00m\u001b[33m'\u001b[39;49;00m \u001b[35mor\u001b[39;49;00m c == \u001b[33m\"\u001b[39;49;00m\u001b[33m'\u001b[39;49;00m\u001b[33m\"\u001b[39;49;00m \u001b[35mand\u001b[39;49;00m tag:\u001b[37m\u001b[39;49;00m\n",
      "            quote = \u001b[35mnot\u001b[39;49;00m quote\u001b[37m\u001b[39;49;00m\n",
      "        \u001b[34melif\u001b[39;49;00m \u001b[35mnot\u001b[39;49;00m tag:\u001b[37m\u001b[39;49;00m\n",
      "            out = out + c\u001b[37m\u001b[39;49;00m\n",
      "    \u001b[34mreturn\u001b[39;49;00m out\u001b[37m\u001b[39;49;00m"
     ]
    }
   ],
   "source": [
    "print_content(''.join(reduced_assertions_source_lines), '.py')"
   ]
  },
  {
   "cell_type": "markdown",
   "metadata": {
    "slideshow": {
     "slide_type": "subslide"
    }
   },
   "source": [
    "All in all, we have reduced the number of relevant lines in `Assertions` to about 3% of the original source code."
   ]
  },
  {
   "cell_type": "code",
   "execution_count": 131,
   "metadata": {
    "execution": {
     "iopub.execute_input": "2025-10-26T17:47:40.830678Z",
     "iopub.status.busy": "2025-10-26T17:47:40.830518Z",
     "iopub.status.idle": "2025-10-26T17:47:40.833004Z",
     "shell.execute_reply": "2025-10-26T17:47:40.832745Z"
    },
    "slideshow": {
     "slide_type": "fragment"
    }
   },
   "outputs": [
    {
     "data": {
      "text/plain": [
       "0.025362318840579712"
      ]
     },
     "execution_count": 131,
     "metadata": {},
     "output_type": "execute_result"
    }
   ],
   "source": [
    "len(reduced_assertions_source_lines) / len(assertions_source_lines)"
   ]
  },
  {
   "cell_type": "markdown",
   "metadata": {
    "slideshow": {
     "slide_type": "fragment"
    }
   },
   "source": [
    "The astute reader may notice that `remove_html_markup()`, as shown above, is slightly different from the original version in the [chapter on assertions](Assertions.ipynb). Here's the original version for comparison:"
   ]
  },
  {
   "cell_type": "code",
   "execution_count": 132,
   "metadata": {
    "execution": {
     "iopub.execute_input": "2025-10-26T17:47:40.834175Z",
     "iopub.status.busy": "2025-10-26T17:47:40.834087Z",
     "iopub.status.idle": "2025-10-26T17:47:40.847960Z",
     "shell.execute_reply": "2025-10-26T17:47:40.847683Z"
    },
    "slideshow": {
     "slide_type": "subslide"
    }
   },
   "outputs": [
    {
     "name": "stdout",
     "output_type": "stream",
     "text": [
      "\u001b[34mdef\u001b[39;49;00m\u001b[37m \u001b[39;49;00m\u001b[32mremove_html_markup\u001b[39;49;00m(s):  \u001b[37m# type: ignore\u001b[39;49;00m\u001b[37m\u001b[39;49;00m\n",
      "    tag = \u001b[34mFalse\u001b[39;49;00m\u001b[37m\u001b[39;49;00m\n",
      "    quote = \u001b[34mFalse\u001b[39;49;00m\u001b[37m\u001b[39;49;00m\n",
      "    out = \u001b[33m\"\u001b[39;49;00m\u001b[33m\"\u001b[39;49;00m\u001b[37m\u001b[39;49;00m\n",
      "\u001b[37m\u001b[39;49;00m\n",
      "    \u001b[34mfor\u001b[39;49;00m c \u001b[35min\u001b[39;49;00m s:\u001b[37m\u001b[39;49;00m\n",
      "        \u001b[34mif\u001b[39;49;00m c == \u001b[33m'\u001b[39;49;00m\u001b[33m<\u001b[39;49;00m\u001b[33m'\u001b[39;49;00m \u001b[35mand\u001b[39;49;00m \u001b[35mnot\u001b[39;49;00m quote:\u001b[37m\u001b[39;49;00m\n",
      "            tag = \u001b[34mTrue\u001b[39;49;00m\u001b[37m\u001b[39;49;00m\n",
      "        \u001b[34melif\u001b[39;49;00m c == \u001b[33m'\u001b[39;49;00m\u001b[33m>\u001b[39;49;00m\u001b[33m'\u001b[39;49;00m \u001b[35mand\u001b[39;49;00m \u001b[35mnot\u001b[39;49;00m quote:\u001b[37m\u001b[39;49;00m\n",
      "            tag = \u001b[34mFalse\u001b[39;49;00m\u001b[37m\u001b[39;49;00m\n",
      "        \u001b[34melif\u001b[39;49;00m c == \u001b[33m'\u001b[39;49;00m\u001b[33m\"\u001b[39;49;00m\u001b[33m'\u001b[39;49;00m \u001b[35mor\u001b[39;49;00m c == \u001b[33m\"\u001b[39;49;00m\u001b[33m'\u001b[39;49;00m\u001b[33m\"\u001b[39;49;00m \u001b[35mand\u001b[39;49;00m tag:\u001b[37m\u001b[39;49;00m\n",
      "            quote = \u001b[35mnot\u001b[39;49;00m quote\u001b[37m\u001b[39;49;00m\n",
      "        \u001b[34melif\u001b[39;49;00m \u001b[35mnot\u001b[39;49;00m tag:\u001b[37m\u001b[39;49;00m\n",
      "            out = out + c\u001b[37m\u001b[39;49;00m\n",
      "\u001b[37m\u001b[39;49;00m\n",
      "    \u001b[37m# postcondition\u001b[39;49;00m\u001b[37m\u001b[39;49;00m\n",
      "    \u001b[34massert\u001b[39;49;00m \u001b[33m'\u001b[39;49;00m\u001b[33m<\u001b[39;49;00m\u001b[33m'\u001b[39;49;00m \u001b[35mnot\u001b[39;49;00m \u001b[35min\u001b[39;49;00m out \u001b[35mand\u001b[39;49;00m \u001b[33m'\u001b[39;49;00m\u001b[33m>\u001b[39;49;00m\u001b[33m'\u001b[39;49;00m \u001b[35mnot\u001b[39;49;00m \u001b[35min\u001b[39;49;00m out\u001b[37m\u001b[39;49;00m\n",
      "\u001b[37m\u001b[39;49;00m\n",
      "    \u001b[34mreturn\u001b[39;49;00m out\u001b[37m\u001b[39;49;00m"
     ]
    }
   ],
   "source": [
    "remove_html_markup_source_lines, _ = inspect.getsourcelines(Assertions.remove_html_markup)\n",
    "print_content(''.join(remove_html_markup_source_lines), '.py')"
   ]
  },
  {
   "cell_type": "code",
   "execution_count": 133,
   "metadata": {
    "execution": {
     "iopub.execute_input": "2025-10-26T17:47:40.849175Z",
     "iopub.status.busy": "2025-10-26T17:47:40.849091Z",
     "iopub.status.idle": "2025-10-26T17:47:40.852825Z",
     "shell.execute_reply": "2025-10-26T17:47:40.852606Z"
    },
    "slideshow": {
     "slide_type": "subslide"
    },
    "tags": [
     "remove-input"
    ]
   },
   "outputs": [
    {
     "data": {
      "text/html": [
       "\n",
       "    \n",
       "    <script>\n",
       "    var bad_answers = new Map();\n",
       "\n",
       "    function answer(quiz_id) {\n",
       "        ans = 0;\n",
       "        for (i = 1;; i++) {\n",
       "            checkbox = document.getElementById(quiz_id + \"-\" + i.toString());\n",
       "            if (!checkbox)\n",
       "                break;\n",
       "            if (checkbox.checked)\n",
       "                ans |= (1 << i);\n",
       "        }\n",
       "        return ans;\n",
       "    }\n",
       "    function check_selection(quiz_id, correct_answer, multiple_choice, hint) {\n",
       "        given_answer = answer(quiz_id);\n",
       "        if (given_answer == correct_answer)\n",
       "        {\n",
       "            document.getElementById(quiz_id + \"-submit\").value = \"Correct!\";\n",
       "            document.getElementById(quiz_id + \"-hint\").innerHTML = \"\";\n",
       "\n",
       "            for (i = 1;; i++) {\n",
       "                checkbox = document.getElementById(quiz_id + \"-\" + i.toString());\n",
       "                label = document.getElementById(quiz_id + \"-\" + i.toString() + \"-label\")\n",
       "                if (!checkbox)\n",
       "                    break;\n",
       "\n",
       "                if (checkbox.checked) {\n",
       "                    label.style.fontWeight = \"bold\";\n",
       "                }\n",
       "                else {\n",
       "                    label.style.textDecoration = \"line-through\";\n",
       "                }\n",
       "            }\n",
       "        }\n",
       "        else \n",
       "        {\n",
       "            document.getElementById(quiz_id + \"-submit\").value = \"Try again\";\n",
       "\n",
       "            if (!bad_answers.has(quiz_id)) {\n",
       "                bad_answers.set(quiz_id, 1);\n",
       "            }\n",
       "            else {\n",
       "                bad_answers.set(quiz_id, bad_answers.get(quiz_id) + 1);\n",
       "            }\n",
       "\n",
       "            if (bad_answers.get(quiz_id) >= 2 && hint.length > 0) {\n",
       "                document.getElementById(quiz_id + \"-hint\").innerHTML = \n",
       "                    \"&nbsp;&nbsp;(Hint: <code>\" + hint + \"</code>)\";\n",
       "            }\n",
       "\n",
       "            if (!multiple_choice) {\n",
       "                for (i = 1;; i++) {\n",
       "                    checkbox = document.getElementById(quiz_id + \"-\" + i.toString());\n",
       "                    label = document.getElementById(quiz_id + \"-\" + i.toString() + \"-label\")\n",
       "\n",
       "                    if (!checkbox)\n",
       "                        break;\n",
       "                    if (checkbox.checked) {\n",
       "                        label.style.textDecoration = \"line-through\";\n",
       "                    }\n",
       "                }\n",
       "            }\n",
       "        }\n",
       "    }\n",
       "    function clear_selection(quiz_id) {\n",
       "        document.getElementById(quiz_id + \"-submit\").value = \"Submit\";\n",
       "        document.getElementById(quiz_id + \"-hint\").innerHTML = \"\";\n",
       "    }\n",
       "    </script>\n",
       "    \n",
       "    <div class=\"quiz\">\n",
       "    <h3 class=\"quiz_title\">Quiz</h3>\n",
       "    <p>\n",
       "    <div class=\"quiz_question\">In the reduced version, what has changed?</div>\n",
       "    </p>\n",
       "    <p>\n",
       "    <div class=\"quiz_options\" title=\"Check all that apply.\">\n",
       "    \n",
       "        <input type=\"checkbox\" name=\"de546b42-b293-11f0-b3c5-6298cf1a5790\" id=\"de546b42-b293-11f0-b3c5-6298cf1a5790-1\" onclick=\"clear_selection('de546b42-b293-11f0-b3c5-6298cf1a5790')\">\n",
       "        <label id=\"de546b42-b293-11f0-b3c5-6298cf1a5790-1-label\" for=\"de546b42-b293-11f0-b3c5-6298cf1a5790-1\">Comments are deleted</label><br>\n",
       "    \n",
       "        <input type=\"checkbox\" name=\"de546b42-b293-11f0-b3c5-6298cf1a5790\" id=\"de546b42-b293-11f0-b3c5-6298cf1a5790-2\" onclick=\"clear_selection('de546b42-b293-11f0-b3c5-6298cf1a5790')\">\n",
       "        <label id=\"de546b42-b293-11f0-b3c5-6298cf1a5790-2-label\" for=\"de546b42-b293-11f0-b3c5-6298cf1a5790-2\">Blank lines are deleted</label><br>\n",
       "    \n",
       "        <input type=\"checkbox\" name=\"de546b42-b293-11f0-b3c5-6298cf1a5790\" id=\"de546b42-b293-11f0-b3c5-6298cf1a5790-3\" onclick=\"clear_selection('de546b42-b293-11f0-b3c5-6298cf1a5790')\">\n",
       "        <label id=\"de546b42-b293-11f0-b3c5-6298cf1a5790-3-label\" for=\"de546b42-b293-11f0-b3c5-6298cf1a5790-3\">Initializations are deleted</label><br>\n",
       "    \n",
       "        <input type=\"checkbox\" name=\"de546b42-b293-11f0-b3c5-6298cf1a5790\" id=\"de546b42-b293-11f0-b3c5-6298cf1a5790-4\" onclick=\"clear_selection('de546b42-b293-11f0-b3c5-6298cf1a5790')\">\n",
       "        <label id=\"de546b42-b293-11f0-b3c5-6298cf1a5790-4-label\" for=\"de546b42-b293-11f0-b3c5-6298cf1a5790-4\">The assertion is deleted</label><br>\n",
       "    \n",
       "    </div>\n",
       "    </p>\n",
       "    <input id=\"de546b42-b293-11f0-b3c5-6298cf1a5790-submit\" type=\"submit\" value=\"Submit\" onclick=\"check_selection('de546b42-b293-11f0-b3c5-6298cf1a5790', 22, 1, '[(1 ** 0 - -1 ** 0) ** n for n in range(0, 3)]')\">\n",
       "    <span class=\"quiz_hint\" id=\"de546b42-b293-11f0-b3c5-6298cf1a5790-hint\"></span>\n",
       "    </div>\n",
       "    "
      ],
      "text/plain": [
       "<IPython.core.display.HTML object>"
      ]
     },
     "execution_count": 133,
     "metadata": {},
     "output_type": "execute_result"
    }
   ],
   "source": [
    "quiz(\"In the reduced version, what has changed?\",\n",
    "    [\n",
    "        \"Comments are deleted\",\n",
    "        \"Blank lines are deleted\",\n",
    "        \"Initializations are deleted\",\n",
    "        \"The assertion is deleted\",\n",
    "    ], '[(1 ** 0 - -1 ** 0) ** n for n in range(0, 3)]')"
   ]
  },
  {
   "cell_type": "markdown",
   "metadata": {
    "slideshow": {
     "slide_type": "fragment"
    }
   },
   "source": [
    "Indeed, Delta Debugging has determined all these as being irrelevant for reproducing the failure – and consequently, has deleted them."
   ]
  },
  {
   "cell_type": "markdown",
   "metadata": {
    "slideshow": {
     "slide_type": "subslide"
    }
   },
   "source": [
    "### Reducing Code Characters"
   ]
  },
  {
   "cell_type": "markdown",
   "metadata": {
    "slideshow": {
     "slide_type": "fragment"
    }
   },
   "source": [
    "We can reduce the code further by removing individual _characters_ rather than lines. To this end, we convert our (already reduced) `remove_html_markup()` code into a list of characters."
   ]
  },
  {
   "cell_type": "code",
   "execution_count": 134,
   "metadata": {
    "execution": {
     "iopub.execute_input": "2025-10-26T17:47:40.854152Z",
     "iopub.status.busy": "2025-10-26T17:47:40.854070Z",
     "iopub.status.idle": "2025-10-26T17:47:40.855890Z",
     "shell.execute_reply": "2025-10-26T17:47:40.855626Z"
    },
    "slideshow": {
     "slide_type": "fragment"
    }
   },
   "outputs": [
    {
     "name": "stdout",
     "output_type": "stream",
     "text": [
      "['d', 'e', 'f', ' ', 'r', 'e', 'm', 'o', 'v', 'e', '_', 'h', 't', 'm', 'l', '_', 'm', 'a', 'r', 'k', 'u', 'p', '(', 's', ')', ':', ' ', ' ', '#', ' ']\n"
     ]
    }
   ],
   "source": [
    "reduced_assertions_source_characters = list(\"\".join(reduced_assertions_source_lines))\n",
    "print(reduced_assertions_source_characters[:30])"
   ]
  },
  {
   "cell_type": "markdown",
   "metadata": {
    "slideshow": {
     "slide_type": "fragment"
    }
   },
   "source": [
    "Our `compile_and_test_html_markup()` works (and fails) as before: It still joins the given strings into one and executes them. (Remember that in Python, \"characters\" are simply strings of length one.)"
   ]
  },
  {
   "cell_type": "code",
   "execution_count": 135,
   "metadata": {
    "execution": {
     "iopub.execute_input": "2025-10-26T17:47:40.857692Z",
     "iopub.status.busy": "2025-10-26T17:47:40.857530Z",
     "iopub.status.idle": "2025-10-26T17:47:40.859859Z",
     "shell.execute_reply": "2025-10-26T17:47:40.859601Z"
    },
    "slideshow": {
     "slide_type": "subslide"
    }
   },
   "outputs": [
    {
     "name": "stderr",
     "output_type": "stream",
     "text": [
      "Traceback (most recent call last):\n",
      "  File \"/var/folders/n2/xd9445p97rb3xh7m1dfx8_4h0006ts/T/ipykernel_51600/909985861.py\", line 2, in <module>\n",
      "    compile_and_test_html_markup(reduced_assertions_source_characters)\n",
      "    ~~~~~~~~~~~~~~~~~~~~~~~~~~~~^^^^^^^^^^^^^^^^^^^^^^^^^^^^^^^^^^^^^^\n",
      "  File \"/var/folders/n2/xd9445p97rb3xh7m1dfx8_4h0006ts/T/ipykernel_51600/4067432722.py\", line 2, in compile_and_test_html_markup\n",
      "    compile_and_run(lines +\n",
      "    ~~~~~~~~~~~~~~~^^^^^^^^\n",
      "        [\n",
      "        ^\n",
      "    ...<3 lines>...\n",
      "            '''assert remove_html_markup('\"foo\"') == '\"foo\"', \"My Test\"\\n'''\n",
      "            ^^^^^^^^^^^^^^^^^^^^^^^^^^^^^^^^^^^^^^^^^^^^^^^^^^^^^^^^^^^^^^^^\n",
      "        ])\n",
      "        ^^\n",
      "  File \"/var/folders/n2/xd9445p97rb3xh7m1dfx8_4h0006ts/T/ipykernel_51600/2075409738.py\", line 3, in compile_and_run\n",
      "    exec(\"\".join(lines), {'__name__': '<string>',\n",
      "    ~~~~^^^^^^^^^^^^^^^^^^^^^^^^^^^^^^^^^^^^^^^^^\n",
      "                          '__package__': 'debuggingbook',\n",
      "                          ^^^^^^^^^^^^^^^^^^^^^^^^^^^^^^^\n",
      "    ...<3 lines>...\n",
      "                         'Optional': Optional},\n",
      "                         ^^^^^^^^^^^^^^^^^^^^^^\n",
      "         {})\n",
      "         ^^^\n",
      "  File \"<string>\", line 17, in <module>\n",
      "AssertionError: My Test (expected)\n"
     ]
    }
   ],
   "source": [
    "with ExpectError(AssertionError):\n",
    "    compile_and_test_html_markup(reduced_assertions_source_characters)"
   ]
  },
  {
   "cell_type": "markdown",
   "metadata": {
    "slideshow": {
     "slide_type": "subslide"
    }
   },
   "source": [
    "Let's see what Delta Debugging makes of that – and also, how long it takes. The `Timer` class gives us a simple means to measure time."
   ]
  },
  {
   "cell_type": "code",
   "execution_count": 136,
   "metadata": {
    "execution": {
     "iopub.execute_input": "2025-10-26T17:47:40.861152Z",
     "iopub.status.busy": "2025-10-26T17:47:40.861055Z",
     "iopub.status.idle": "2025-10-26T17:47:40.862455Z",
     "shell.execute_reply": "2025-10-26T17:47:40.862219Z"
    },
    "slideshow": {
     "slide_type": "skip"
    }
   },
   "outputs": [],
   "source": [
    "from Timer import Timer"
   ]
  },
  {
   "cell_type": "code",
   "execution_count": 137,
   "metadata": {
    "execution": {
     "iopub.execute_input": "2025-10-26T17:47:40.863653Z",
     "iopub.status.busy": "2025-10-26T17:47:40.863572Z",
     "iopub.status.idle": "2025-10-26T17:47:40.865486Z",
     "shell.execute_reply": "2025-10-26T17:47:40.865252Z"
    },
    "slideshow": {
     "slide_type": "fragment"
    }
   },
   "outputs": [],
   "source": [
    "with DeltaDebugger(log=False) as dd:\n",
    "    compile_and_test_html_markup(reduced_assertions_source_characters)"
   ]
  },
  {
   "cell_type": "markdown",
   "metadata": {
    "slideshow": {
     "slide_type": "fragment"
    }
   },
   "source": [
    "Here's the reduced result:"
   ]
  },
  {
   "cell_type": "code",
   "execution_count": 138,
   "metadata": {
    "execution": {
     "iopub.execute_input": "2025-10-26T17:47:40.866611Z",
     "iopub.status.busy": "2025-10-26T17:47:40.866535Z",
     "iopub.status.idle": "2025-10-26T17:47:41.117899Z",
     "shell.execute_reply": "2025-10-26T17:47:41.117645Z"
    },
    "slideshow": {
     "slide_type": "subslide"
    }
   },
   "outputs": [
    {
     "name": "stdout",
     "output_type": "stream",
     "text": [
      "\u001b[34mdef\u001b[39;49;00m\u001b[37m \u001b[39;49;00m\u001b[32mremove_html_markup\u001b[39;49;00m(s):\u001b[37m\u001b[39;49;00m\n",
      "    tag=\u001b[34mFalse\u001b[39;49;00m\u001b[37m\u001b[39;49;00m\n",
      "    quote=\u001b[34mFalse\u001b[39;49;00m\u001b[37m\u001b[39;49;00m\n",
      "    out=\u001b[33m\"\u001b[39;49;00m\u001b[33m\"\u001b[39;49;00m\u001b[37m\u001b[39;49;00m\n",
      "    \u001b[34mfor\u001b[39;49;00m c \u001b[35min\u001b[39;49;00m s:\u001b[37m\u001b[39;49;00m\n",
      "        \u001b[34mif\u001b[39;49;00m c==\u001b[33m'\u001b[39;49;00m\u001b[33m<\u001b[39;49;00m\u001b[33m'\u001b[39;49;00m\u001b[35mand\u001b[39;49;00m \u001b[35mnot\u001b[39;49;00m quote:tag=\u001b[34mTrue\u001b[39;49;00m\u001b[37m\u001b[39;49;00m\n",
      "        \u001b[34mif\u001b[39;49;00m c==\u001b[33m'\u001b[39;49;00m\u001b[33m>\u001b[39;49;00m\u001b[33m'\u001b[39;49;00m\u001b[35mand\u001b[39;49;00m \u001b[35mnot\u001b[39;49;00m quote:tag=\u001b[34mFalse\u001b[39;49;00m\u001b[37m\u001b[39;49;00m\n",
      "        \u001b[34melif\u001b[39;49;00m c==\u001b[33m'\u001b[39;49;00m\u001b[33m\"\u001b[39;49;00m\u001b[33m'\u001b[39;49;00m\u001b[35mor\u001b[39;49;00m c==\u001b[33m\"\u001b[39;49;00m\u001b[33m\"\u001b[39;49;00m\u001b[35mand\u001b[39;49;00m g:\u001b[35mnot\u001b[39;49;00m quote\u001b[37m\u001b[39;49;00m\n",
      "        \u001b[34melif\u001b[39;49;00m \u001b[35mnot\u001b[39;49;00m tag:out=out+c\u001b[37m\u001b[39;49;00m\n",
      "    \u001b[34mreturn\u001b[39;49;00m out\u001b[37m\u001b[39;49;00m"
     ]
    }
   ],
   "source": [
    "with Timer() as t:\n",
    "    further_reduced_assertions_source_characters = dd.min_args()['lines']\n",
    "print_content(\"\".join(further_reduced_assertions_source_characters), \".py\")"
   ]
  },
  {
   "cell_type": "markdown",
   "metadata": {
    "slideshow": {
     "slide_type": "subslide"
    }
   },
   "source": [
    "There's a number of observations we can make about this code.\n",
    "\n",
    "* All superfluous blanks and even newlines have been removed.\n",
    "* As a curiosity, the initialization of `quote` and `out` to `\"\"` is now merged into a single (semantics-preserving) statement.\n",
    "* The semantics and effect of `<` and `>` characters is preserved, as mandated by our `RuntimeError` check.\n",
    "* Double quotes still have the effect of not being included in the returned value: the remaining `quote` has no effect.\n",
    "\n",
    "Semantics-wise, this reduced variant still yields the \"original\" failure; the biggest semantic differences, though, are in the condition and code associated with double quotes – which actually also is the location of the defect to be fixed. This is how reducing code can also point to not only _necessary_ locations, but also _defective_ locations."
   ]
  },
  {
   "cell_type": "markdown",
   "metadata": {
    "slideshow": {
     "slide_type": "subslide"
    }
   },
   "source": [
    "Mind you that reducing code is not cheap, and especially not if you remove by characters. It has taken `DeltaDebugger` several thousand tests to obtain the result above:"
   ]
  },
  {
   "cell_type": "code",
   "execution_count": 139,
   "metadata": {
    "execution": {
     "iopub.execute_input": "2025-10-26T17:47:41.119357Z",
     "iopub.status.busy": "2025-10-26T17:47:41.119278Z",
     "iopub.status.idle": "2025-10-26T17:47:41.121189Z",
     "shell.execute_reply": "2025-10-26T17:47:41.120989Z"
    },
    "slideshow": {
     "slide_type": "fragment"
    }
   },
   "outputs": [
    {
     "data": {
      "text/plain": [
       "1278"
      ]
     },
     "execution_count": 139,
     "metadata": {},
     "output_type": "execute_result"
    }
   ],
   "source": [
    "dd.tests"
   ]
  },
  {
   "cell_type": "markdown",
   "metadata": {
    "slideshow": {
     "slide_type": "fragment"
    }
   },
   "source": [
    "And to do so, it even required _several seconds_. This may be little for a human, but from a CPU standpoint, this is an enormous effort."
   ]
  },
  {
   "cell_type": "code",
   "execution_count": 140,
   "metadata": {
    "execution": {
     "iopub.execute_input": "2025-10-26T17:47:41.122447Z",
     "iopub.status.busy": "2025-10-26T17:47:41.122362Z",
     "iopub.status.idle": "2025-10-26T17:47:41.124226Z",
     "shell.execute_reply": "2025-10-26T17:47:41.124017Z"
    },
    "slideshow": {
     "slide_type": "fragment"
    }
   },
   "outputs": [
    {
     "data": {
      "text/plain": [
       "0.2381666250003036"
      ]
     },
     "execution_count": 140,
     "metadata": {},
     "output_type": "execute_result"
    }
   ],
   "source": [
    "t.elapsed_time()"
   ]
  },
  {
   "cell_type": "markdown",
   "metadata": {
    "slideshow": {
     "slide_type": "subslide"
    }
   },
   "source": [
    "### Reducing Syntax Trees"
   ]
  },
  {
   "cell_type": "markdown",
   "metadata": {
    "slideshow": {
     "slide_type": "fragment"
    }
   },
   "source": [
    "When reducing code (or generally speaking, recursive structures), using a _syntactic_ approach can be a much better alternative to the _line-by-line_ or _character-by-character_ approaches discussed above. The idea is that one represents the input as a _tree_ (rather than a sequence of strings), in which a reducer would work on entire subtrees, deleting or reducing parts of the tree."
   ]
  },
  {
   "cell_type": "markdown",
   "metadata": {
    "slideshow": {
     "slide_type": "subslide"
    }
   },
   "source": [
    "We illustrate this concept on _syntax trees_ representing Python code. Python provides us with simple means to interactively convert code into syntax trees (and back again). So, in order to reduce code, we can\n",
    "\n",
    "1. _parse_ the program code into a syntax tree (called *abstract syntax tree* or *AST*);\n",
    "2. reduce the syntax tree to a minimum, executing it to test reductions; and\n",
    "3. _unparse_ the tree to obtain textual code again.\n",
    "\n",
    "Since transformations on the AST are much less likely to produce syntax errors, reducing ASTs is much more efficient than reducing program code as text."
   ]
  },
  {
   "cell_type": "markdown",
   "metadata": {
    "slideshow": {
     "slide_type": "subslide"
    }
   },
   "source": [
    "In the [chapter on slicing](Slicer.ipynb), we already have seen several examples on how to work with ASTs. In our context, an AST also offers additional possibilities for reducing. Notably, instead of just _deleting_ code fragments, we can also _replace_ them with simpler fragments. For instance, we can replace arithmetic expressions with constants, or conditional statements `if cond: body` with the associated body `body`."
   ]
  },
  {
   "cell_type": "markdown",
   "metadata": {
    "slideshow": {
     "slide_type": "fragment"
    }
   },
   "source": [
    "Let us illustrate how this works, again choosing `remove_html_markup()` as our ongoing example. One more time, we create a function with associated test."
   ]
  },
  {
   "cell_type": "code",
   "execution_count": 141,
   "metadata": {
    "execution": {
     "iopub.execute_input": "2025-10-26T17:47:41.125552Z",
     "iopub.status.busy": "2025-10-26T17:47:41.125480Z",
     "iopub.status.idle": "2025-10-26T17:47:41.127027Z",
     "shell.execute_reply": "2025-10-26T17:47:41.126822Z"
    },
    "slideshow": {
     "slide_type": "fragment"
    }
   },
   "outputs": [],
   "source": [
    "fun_source = inspect.getsource(remove_html_markup)"
   ]
  },
  {
   "cell_type": "code",
   "execution_count": 142,
   "metadata": {
    "execution": {
     "iopub.execute_input": "2025-10-26T17:47:41.128224Z",
     "iopub.status.busy": "2025-10-26T17:47:41.128154Z",
     "iopub.status.idle": "2025-10-26T17:47:41.140376Z",
     "shell.execute_reply": "2025-10-26T17:47:41.140164Z"
    },
    "slideshow": {
     "slide_type": "subslide"
    }
   },
   "outputs": [
    {
     "name": "stdout",
     "output_type": "stream",
     "text": [
      "\u001b[34mdef\u001b[39;49;00m\u001b[37m \u001b[39;49;00m\u001b[32mremove_html_markup\u001b[39;49;00m(s):  \u001b[37m# type: ignore\u001b[39;49;00m\u001b[37m\u001b[39;49;00m\n",
      "    tag = \u001b[34mFalse\u001b[39;49;00m\u001b[37m\u001b[39;49;00m\n",
      "    quote = \u001b[34mFalse\u001b[39;49;00m\u001b[37m\u001b[39;49;00m\n",
      "    out = \u001b[33m\"\u001b[39;49;00m\u001b[33m\"\u001b[39;49;00m\u001b[37m\u001b[39;49;00m\n",
      "\u001b[37m\u001b[39;49;00m\n",
      "    \u001b[34mfor\u001b[39;49;00m c \u001b[35min\u001b[39;49;00m s:\u001b[37m\u001b[39;49;00m\n",
      "        \u001b[34mif\u001b[39;49;00m c == \u001b[33m'\u001b[39;49;00m\u001b[33m<\u001b[39;49;00m\u001b[33m'\u001b[39;49;00m \u001b[35mand\u001b[39;49;00m \u001b[35mnot\u001b[39;49;00m quote:\u001b[37m\u001b[39;49;00m\n",
      "            tag = \u001b[34mTrue\u001b[39;49;00m\u001b[37m\u001b[39;49;00m\n",
      "        \u001b[34melif\u001b[39;49;00m c == \u001b[33m'\u001b[39;49;00m\u001b[33m>\u001b[39;49;00m\u001b[33m'\u001b[39;49;00m \u001b[35mand\u001b[39;49;00m \u001b[35mnot\u001b[39;49;00m quote:\u001b[37m\u001b[39;49;00m\n",
      "            tag = \u001b[34mFalse\u001b[39;49;00m\u001b[37m\u001b[39;49;00m\n",
      "        \u001b[34melif\u001b[39;49;00m c == \u001b[33m'\u001b[39;49;00m\u001b[33m\"\u001b[39;49;00m\u001b[33m'\u001b[39;49;00m \u001b[35mor\u001b[39;49;00m c == \u001b[33m\"\u001b[39;49;00m\u001b[33m'\u001b[39;49;00m\u001b[33m\"\u001b[39;49;00m \u001b[35mand\u001b[39;49;00m tag:\u001b[37m\u001b[39;49;00m\n",
      "            quote = \u001b[35mnot\u001b[39;49;00m quote\u001b[37m\u001b[39;49;00m\n",
      "        \u001b[34melif\u001b[39;49;00m \u001b[35mnot\u001b[39;49;00m tag:\u001b[37m\u001b[39;49;00m\n",
      "            out = out + c\u001b[37m\u001b[39;49;00m\n",
      "\u001b[37m\u001b[39;49;00m\n",
      "    \u001b[37m# postcondition\u001b[39;49;00m\u001b[37m\u001b[39;49;00m\n",
      "    \u001b[34massert\u001b[39;49;00m \u001b[33m'\u001b[39;49;00m\u001b[33m<\u001b[39;49;00m\u001b[33m'\u001b[39;49;00m \u001b[35mnot\u001b[39;49;00m \u001b[35min\u001b[39;49;00m out \u001b[35mand\u001b[39;49;00m \u001b[33m'\u001b[39;49;00m\u001b[33m>\u001b[39;49;00m\u001b[33m'\u001b[39;49;00m \u001b[35mnot\u001b[39;49;00m \u001b[35min\u001b[39;49;00m out\u001b[37m\u001b[39;49;00m\n",
      "\u001b[37m\u001b[39;49;00m\n",
      "    \u001b[34mreturn\u001b[39;49;00m out\u001b[37m\u001b[39;49;00m"
     ]
    }
   ],
   "source": [
    "print_content(fun_source, '.py')"
   ]
  },
  {
   "cell_type": "markdown",
   "metadata": {
    "slideshow": {
     "slide_type": "subslide"
    }
   },
   "source": [
    "#### From Code to Syntax Trees\n",
    "\n",
    "Let us parse this piece of code into an AST. This is done by the `ast.parse()` function."
   ]
  },
  {
   "cell_type": "code",
   "execution_count": 143,
   "metadata": {
    "execution": {
     "iopub.execute_input": "2025-10-26T17:47:41.141628Z",
     "iopub.status.busy": "2025-10-26T17:47:41.141551Z",
     "iopub.status.idle": "2025-10-26T17:47:41.142942Z",
     "shell.execute_reply": "2025-10-26T17:47:41.142734Z"
    },
    "slideshow": {
     "slide_type": "skip"
    }
   },
   "outputs": [],
   "source": [
    "import ast"
   ]
  },
  {
   "cell_type": "code",
   "execution_count": 144,
   "metadata": {
    "execution": {
     "iopub.execute_input": "2025-10-26T17:47:41.144049Z",
     "iopub.status.busy": "2025-10-26T17:47:41.143977Z",
     "iopub.status.idle": "2025-10-26T17:47:41.145425Z",
     "shell.execute_reply": "2025-10-26T17:47:41.145219Z"
    },
    "slideshow": {
     "slide_type": "fragment"
    }
   },
   "outputs": [],
   "source": [
    "fun_tree: ast.Module = ast.parse(fun_source)"
   ]
  },
  {
   "cell_type": "markdown",
   "metadata": {
    "slideshow": {
     "slide_type": "fragment"
    }
   },
   "source": [
    "The parsed tree contains the function definition:"
   ]
  },
  {
   "cell_type": "code",
   "execution_count": 145,
   "metadata": {
    "execution": {
     "iopub.execute_input": "2025-10-26T17:47:41.146615Z",
     "iopub.status.busy": "2025-10-26T17:47:41.146531Z",
     "iopub.status.idle": "2025-10-26T17:47:41.147881Z",
     "shell.execute_reply": "2025-10-26T17:47:41.147661Z"
    },
    "slideshow": {
     "slide_type": "skip"
    }
   },
   "outputs": [],
   "source": [
    "from bookutils import show_ast"
   ]
  },
  {
   "cell_type": "code",
   "execution_count": 146,
   "metadata": {
    "execution": {
     "iopub.execute_input": "2025-10-26T17:47:41.149065Z",
     "iopub.status.busy": "2025-10-26T17:47:41.148990Z",
     "iopub.status.idle": "2025-10-26T17:47:41.532359Z",
     "shell.execute_reply": "2025-10-26T17:47:41.532048Z"
    },
    "slideshow": {
     "slide_type": "fragment"
    }
   },
   "outputs": [
    {
     "data": {
      "image/svg+xml": [
       "<svg xmlns=\"http://www.w3.org/2000/svg\" xmlns:xlink=\"http://www.w3.org/1999/xlink\" width=\"2893pt\" height=\"692pt\" viewBox=\"0.00 0.00 2893.00 692.00\">\n",
       "<g id=\"graph0\" class=\"graph\" transform=\"scale(1 1) rotate(0) translate(4 688)\">\n",
       "<polygon fill=\"white\" stroke=\"none\" points=\"-4,4 -4,-688 2889,-688 2889,4 -4,4\"/>\n",
       "<!-- 0 -->\n",
       "<g id=\"node1\" class=\"node\">\n",
       "<title>0</title>\n",
       "<text xml:space=\"preserve\" text-anchor=\"start\" x=\"507.62\" y=\"-661.95\" font-family=\"Courier,monospace\" font-weight=\"bold\" font-size=\"14.00\" fill=\"#004080\">FunctionDef</text>\n",
       "</g>\n",
       "<!-- 1 -->\n",
       "<g id=\"node2\" class=\"node\">\n",
       "<title>1</title>\n",
       "<text xml:space=\"preserve\" text-anchor=\"middle\" x=\"105\" y=\"-588.95\" font-family=\"Courier,monospace\" font-size=\"14.00\" fill=\"#008040\">\"remove_html_markup\"</text>\n",
       "</g>\n",
       "<!-- 0&#45;&#45;1 -->\n",
       "<g id=\"edge1\" class=\"edge\">\n",
       "<title>0--1</title>\n",
       "<path fill=\"none\" stroke=\"black\" d=\"M554,-647C554,-647 359.49,-632.85 205,-612 201.86,-611.58 198.66,-611.13 195.44,-610.66\"/>\n",
       "</g>\n",
       "<!-- 2 -->\n",
       "<g id=\"node3\" class=\"node\">\n",
       "<title>2</title>\n",
       "<text xml:space=\"preserve\" text-anchor=\"start\" x=\"221.88\" y=\"-589.95\" font-family=\"Courier,monospace\" font-weight=\"bold\" font-size=\"14.00\" fill=\"#004080\">arguments</text>\n",
       "</g>\n",
       "<!-- 0&#45;&#45;2 -->\n",
       "<g id=\"edge2\" class=\"edge\">\n",
       "<title>0--2</title>\n",
       "<path fill=\"none\" stroke=\"black\" d=\"M554,-647C554,-647 418.52,-636.11 313,-612 310.03,-611.32 306.99,-610.56 303.93,-609.74\"/>\n",
       "</g>\n",
       "<!-- 5 -->\n",
       "<g id=\"node6\" class=\"node\">\n",
       "<title>5</title>\n",
       "<text xml:space=\"preserve\" text-anchor=\"start\" x=\"330.25\" y=\"-589.95\" font-family=\"Courier,monospace\" font-weight=\"bold\" font-size=\"14.00\" fill=\"#004080\">Assign</text>\n",
       "</g>\n",
       "<!-- 0&#45;&#45;5 -->\n",
       "<g id=\"edge5\" class=\"edge\">\n",
       "<title>0--5</title>\n",
       "<path fill=\"none\" stroke=\"black\" d=\"M554,-647C554,-647 443.8,-618.21 387.42,-603.47\"/>\n",
       "</g>\n",
       "<!-- 11 -->\n",
       "<g id=\"node12\" class=\"node\">\n",
       "<title>11</title>\n",
       "<text xml:space=\"preserve\" text-anchor=\"start\" x=\"475.25\" y=\"-589.95\" font-family=\"Courier,monospace\" font-weight=\"bold\" font-size=\"14.00\" fill=\"#004080\">Assign</text>\n",
       "</g>\n",
       "<!-- 0&#45;&#45;11 -->\n",
       "<g id=\"edge11\" class=\"edge\">\n",
       "<title>0--11</title>\n",
       "<path fill=\"none\" stroke=\"black\" d=\"M554,-647C554,-647 533.17,-626.94 517.38,-611.74\"/>\n",
       "</g>\n",
       "<!-- 17 -->\n",
       "<g id=\"node18\" class=\"node\">\n",
       "<title>17</title>\n",
       "<text xml:space=\"preserve\" text-anchor=\"start\" x=\"581.25\" y=\"-589.95\" font-family=\"Courier,monospace\" font-weight=\"bold\" font-size=\"14.00\" fill=\"#004080\">Assign</text>\n",
       "</g>\n",
       "<!-- 0&#45;&#45;17 -->\n",
       "<g id=\"edge17\" class=\"edge\">\n",
       "<title>0--17</title>\n",
       "<path fill=\"none\" stroke=\"black\" d=\"M554,-647C554,-647 574.06,-626.94 589.26,-611.74\"/>\n",
       "</g>\n",
       "<!-- 23 -->\n",
       "<g id=\"node24\" class=\"node\">\n",
       "<title>23</title>\n",
       "<text xml:space=\"preserve\" text-anchor=\"start\" x=\"888.62\" y=\"-589.95\" font-family=\"Courier,monospace\" font-weight=\"bold\" font-size=\"14.00\" fill=\"#004080\">For</text>\n",
       "</g>\n",
       "<!-- 0&#45;&#45;23 -->\n",
       "<g id=\"edge23\" class=\"edge\">\n",
       "<title>0--23</title>\n",
       "<path fill=\"none\" stroke=\"black\" d=\"M554,-647C554,-647 792.53,-611.25 874.06,-599.04\"/>\n",
       "</g>\n",
       "<!-- 121 -->\n",
       "<g id=\"node122\" class=\"node\">\n",
       "<title>121</title>\n",
       "<text xml:space=\"preserve\" text-anchor=\"start\" x=\"1496.25\" y=\"-589.95\" font-family=\"Courier,monospace\" font-weight=\"bold\" font-size=\"14.00\" fill=\"#004080\">Assert</text>\n",
       "</g>\n",
       "<!-- 0&#45;&#45;121 -->\n",
       "<g id=\"edge121\" class=\"edge\">\n",
       "<title>0--121</title>\n",
       "<path fill=\"none\" stroke=\"black\" d=\"M554,-647C554,-647 1319.36,-605.84 1488.27,-596.76\"/>\n",
       "</g>\n",
       "<!-- 138 -->\n",
       "<g id=\"node139\" class=\"node\">\n",
       "<title>138</title>\n",
       "<text xml:space=\"preserve\" text-anchor=\"start\" x=\"1972.25\" y=\"-589.95\" font-family=\"Courier,monospace\" font-weight=\"bold\" font-size=\"14.00\" fill=\"#004080\">Return</text>\n",
       "</g>\n",
       "<!-- 0&#45;&#45;138 -->\n",
       "<g id=\"edge138\" class=\"edge\">\n",
       "<title>0--138</title>\n",
       "<path fill=\"none\" stroke=\"black\" d=\"M554,-647C554,-647 1114.59,-628.56 1563,-612 1712.95,-606.46 1892.03,-599.26 1964.34,-596.33\"/>\n",
       "</g>\n",
       "<!-- 3 -->\n",
       "<g id=\"node4\" class=\"node\">\n",
       "<title>3</title>\n",
       "<text xml:space=\"preserve\" text-anchor=\"start\" x=\"53.62\" y=\"-517.95\" font-family=\"Courier,monospace\" font-weight=\"bold\" font-size=\"14.00\" fill=\"#004080\">arg</text>\n",
       "</g>\n",
       "<!-- 2&#45;&#45;3 -->\n",
       "<g id=\"edge3\" class=\"edge\">\n",
       "<title>2--3</title>\n",
       "<path fill=\"none\" stroke=\"black\" d=\"M214.24,-576.76C176.71,-563.15 124.36,-544.17 92.96,-532.78\"/>\n",
       "</g>\n",
       "<!-- 4 -->\n",
       "<g id=\"node5\" class=\"node\">\n",
       "<title>4</title>\n",
       "<text xml:space=\"preserve\" text-anchor=\"middle\" x=\"27\" y=\"-444.95\" font-family=\"Courier,monospace\" font-size=\"14.00\" fill=\"#008040\">\"s\"</text>\n",
       "</g>\n",
       "<!-- 3&#45;&#45;4 -->\n",
       "<g id=\"edge4\" class=\"edge\">\n",
       "<title>3--4</title>\n",
       "<path fill=\"none\" stroke=\"black\" d=\"M56.56,-504.05C50.43,-493.05 42.47,-478.76 36.35,-467.79\"/>\n",
       "</g>\n",
       "<!-- 6 -->\n",
       "<g id=\"node7\" class=\"node\">\n",
       "<title>6</title>\n",
       "<text xml:space=\"preserve\" text-anchor=\"start\" x=\"159.5\" y=\"-517.95\" font-family=\"Courier,monospace\" font-weight=\"bold\" font-size=\"14.00\" fill=\"#004080\">Name</text>\n",
       "</g>\n",
       "<!-- 5&#45;&#45;6 -->\n",
       "<g id=\"edge6\" class=\"edge\">\n",
       "<title>5--6</title>\n",
       "<path fill=\"none\" stroke=\"black\" d=\"M330,-575C330,-575 246.95,-546.96 202.82,-532.06\"/>\n",
       "</g>\n",
       "<!-- 9 -->\n",
       "<g id=\"node10\" class=\"node\">\n",
       "<title>9</title>\n",
       "<text xml:space=\"preserve\" text-anchor=\"start\" x=\"260\" y=\"-517.95\" font-family=\"Courier,monospace\" font-weight=\"bold\" font-size=\"14.00\" fill=\"#004080\">Constant</text>\n",
       "</g>\n",
       "<!-- 5&#45;&#45;9 -->\n",
       "<g id=\"edge9\" class=\"edge\">\n",
       "<title>5--9</title>\n",
       "<path fill=\"none\" stroke=\"black\" d=\"M330,-575C330,-575 315.73,-554.94 304.91,-539.74\"/>\n",
       "</g>\n",
       "<!-- 7 -->\n",
       "<g id=\"node8\" class=\"node\">\n",
       "<title>7</title>\n",
       "<text xml:space=\"preserve\" text-anchor=\"middle\" x=\"101\" y=\"-444.95\" font-family=\"Courier,monospace\" font-size=\"14.00\" fill=\"#008040\">\"tag\"</text>\n",
       "</g>\n",
       "<!-- 6&#45;&#45;7 -->\n",
       "<g id=\"edge7\" class=\"edge\">\n",
       "<title>6--7</title>\n",
       "<path fill=\"none\" stroke=\"black\" d=\"M168,-503C168,-503 142.15,-482.94 122.57,-467.74\"/>\n",
       "</g>\n",
       "<!-- 8 -->\n",
       "<g id=\"node9\" class=\"node\">\n",
       "<title>8</title>\n",
       "<text xml:space=\"preserve\" text-anchor=\"middle\" x=\"176\" y=\"-444.95\" font-family=\"Courier,monospace\" font-size=\"14.00\" fill=\"#008040\">Store</text>\n",
       "</g>\n",
       "<!-- 6&#45;&#45;8 -->\n",
       "<g id=\"edge8\" class=\"edge\">\n",
       "<title>6--8</title>\n",
       "<path fill=\"none\" stroke=\"black\" d=\"M168,-503C168,-503 171.09,-482.94 173.42,-467.74\"/>\n",
       "</g>\n",
       "<!-- 10 -->\n",
       "<g id=\"node11\" class=\"node\">\n",
       "<title>10</title>\n",
       "<text xml:space=\"preserve\" text-anchor=\"middle\" x=\"251\" y=\"-444.95\" font-family=\"Courier,monospace\" font-size=\"14.00\" fill=\"#008040\">False</text>\n",
       "</g>\n",
       "<!-- 9&#45;&#45;10 -->\n",
       "<g id=\"edge10\" class=\"edge\">\n",
       "<title>9--10</title>\n",
       "<path fill=\"none\" stroke=\"black\" d=\"M282.83,-504.05C276.23,-493.05 267.66,-478.76 261.07,-467.79\"/>\n",
       "</g>\n",
       "<!-- 12 -->\n",
       "<g id=\"node13\" class=\"node\">\n",
       "<title>12</title>\n",
       "<text xml:space=\"preserve\" text-anchor=\"start\" x=\"397.5\" y=\"-517.95\" font-family=\"Courier,monospace\" font-weight=\"bold\" font-size=\"14.00\" fill=\"#004080\">Name</text>\n",
       "</g>\n",
       "<!-- 11&#45;&#45;12 -->\n",
       "<g id=\"edge12\" class=\"edge\">\n",
       "<title>11--12</title>\n",
       "<path fill=\"none\" stroke=\"black\" d=\"M492,-575C492,-575 461.91,-554.94 439.11,-539.74\"/>\n",
       "</g>\n",
       "<!-- 15 -->\n",
       "<g id=\"node16\" class=\"node\">\n",
       "<title>15</title>\n",
       "<text xml:space=\"preserve\" text-anchor=\"start\" x=\"467\" y=\"-517.95\" font-family=\"Courier,monospace\" font-weight=\"bold\" font-size=\"14.00\" fill=\"#004080\">Constant</text>\n",
       "</g>\n",
       "<!-- 11&#45;&#45;15 -->\n",
       "<g id=\"edge15\" class=\"edge\">\n",
       "<title>11--15</title>\n",
       "<path fill=\"none\" stroke=\"black\" d=\"M492,-575C492,-575 495.09,-554.94 497.42,-539.74\"/>\n",
       "</g>\n",
       "<!-- 13 -->\n",
       "<g id=\"node14\" class=\"node\">\n",
       "<title>13</title>\n",
       "<text xml:space=\"preserve\" text-anchor=\"middle\" x=\"335\" y=\"-444.95\" font-family=\"Courier,monospace\" font-size=\"14.00\" fill=\"#008040\">\"quote\"</text>\n",
       "</g>\n",
       "<!-- 12&#45;&#45;13 -->\n",
       "<g id=\"edge13\" class=\"edge\">\n",
       "<title>12--13</title>\n",
       "<path fill=\"none\" stroke=\"black\" d=\"M407,-503C407,-503 379.23,-482.94 358.18,-467.74\"/>\n",
       "</g>\n",
       "<!-- 14 -->\n",
       "<g id=\"node15\" class=\"node\">\n",
       "<title>14</title>\n",
       "<text xml:space=\"preserve\" text-anchor=\"middle\" x=\"419\" y=\"-444.95\" font-family=\"Courier,monospace\" font-size=\"14.00\" fill=\"#008040\">Store</text>\n",
       "</g>\n",
       "<!-- 12&#45;&#45;14 -->\n",
       "<g id=\"edge14\" class=\"edge\">\n",
       "<title>12--14</title>\n",
       "<path fill=\"none\" stroke=\"black\" d=\"M407,-503C407,-503 411.63,-482.94 415.14,-467.74\"/>\n",
       "</g>\n",
       "<!-- 16 -->\n",
       "<g id=\"node17\" class=\"node\">\n",
       "<title>16</title>\n",
       "<text xml:space=\"preserve\" text-anchor=\"middle\" x=\"494\" y=\"-444.95\" font-family=\"Courier,monospace\" font-size=\"14.00\" fill=\"#008040\">False</text>\n",
       "</g>\n",
       "<!-- 15&#45;&#45;16 -->\n",
       "<g id=\"edge16\" class=\"edge\">\n",
       "<title>15--16</title>\n",
       "<path fill=\"none\" stroke=\"black\" d=\"M498.55,-504.05C497.6,-493.05 496.38,-478.76 495.44,-467.79\"/>\n",
       "</g>\n",
       "<!-- 18 -->\n",
       "<g id=\"node19\" class=\"node\">\n",
       "<title>18</title>\n",
       "<text xml:space=\"preserve\" text-anchor=\"start\" x=\"589.5\" y=\"-517.95\" font-family=\"Courier,monospace\" font-weight=\"bold\" font-size=\"14.00\" fill=\"#004080\">Name</text>\n",
       "</g>\n",
       "<!-- 17&#45;&#45;18 -->\n",
       "<g id=\"edge18\" class=\"edge\">\n",
       "<title>17--18</title>\n",
       "<path fill=\"none\" stroke=\"black\" d=\"M615,-575C615,-575 611.53,-554.94 608.9,-539.74\"/>\n",
       "</g>\n",
       "<!-- 21 -->\n",
       "<g id=\"node22\" class=\"node\">\n",
       "<title>21</title>\n",
       "<text xml:space=\"preserve\" text-anchor=\"start\" x=\"672\" y=\"-517.95\" font-family=\"Courier,monospace\" font-weight=\"bold\" font-size=\"14.00\" fill=\"#004080\">Constant</text>\n",
       "</g>\n",
       "<!-- 17&#45;&#45;21 -->\n",
       "<g id=\"edge21\" class=\"edge\">\n",
       "<title>17--21</title>\n",
       "<path fill=\"none\" stroke=\"black\" d=\"M615,-575C615,-575 649.72,-554.94 676.03,-539.74\"/>\n",
       "</g>\n",
       "<!-- 19 -->\n",
       "<g id=\"node20\" class=\"node\">\n",
       "<title>19</title>\n",
       "<text xml:space=\"preserve\" text-anchor=\"middle\" x=\"569\" y=\"-444.95\" font-family=\"Courier,monospace\" font-size=\"14.00\" fill=\"#008040\">\"out\"</text>\n",
       "</g>\n",
       "<!-- 18&#45;&#45;19 -->\n",
       "<g id=\"edge19\" class=\"edge\">\n",
       "<title>18--19</title>\n",
       "<path fill=\"none\" stroke=\"black\" d=\"M606,-503C606,-503 591.73,-482.94 580.91,-467.74\"/>\n",
       "</g>\n",
       "<!-- 20 -->\n",
       "<g id=\"node21\" class=\"node\">\n",
       "<title>20</title>\n",
       "<text xml:space=\"preserve\" text-anchor=\"middle\" x=\"644\" y=\"-444.95\" font-family=\"Courier,monospace\" font-size=\"14.00\" fill=\"#008040\">Store</text>\n",
       "</g>\n",
       "<!-- 18&#45;&#45;20 -->\n",
       "<g id=\"edge20\" class=\"edge\">\n",
       "<title>18--20</title>\n",
       "<path fill=\"none\" stroke=\"black\" d=\"M606,-503C606,-503 620.66,-482.94 631.77,-467.74\"/>\n",
       "</g>\n",
       "<!-- 22 -->\n",
       "<g id=\"node23\" class=\"node\">\n",
       "<title>22</title>\n",
       "<text xml:space=\"preserve\" text-anchor=\"middle\" x=\"718\" y=\"-444.95\" font-family=\"Courier,monospace\" font-size=\"14.00\" fill=\"#008040\">\"\"</text>\n",
       "</g>\n",
       "<!-- 21&#45;&#45;22 -->\n",
       "<g id=\"edge22\" class=\"edge\">\n",
       "<title>21--22</title>\n",
       "<path fill=\"none\" stroke=\"black\" d=\"M708.15,-504.05C710.19,-493.05 712.84,-478.76 714.88,-467.79\"/>\n",
       "</g>\n",
       "<!-- 24 -->\n",
       "<g id=\"node25\" class=\"node\">\n",
       "<title>24</title>\n",
       "<text xml:space=\"preserve\" text-anchor=\"start\" x=\"847.5\" y=\"-517.95\" font-family=\"Courier,monospace\" font-weight=\"bold\" font-size=\"14.00\" fill=\"#004080\">Name</text>\n",
       "</g>\n",
       "<!-- 23&#45;&#45;24 -->\n",
       "<g id=\"edge24\" class=\"edge\">\n",
       "<title>23--24</title>\n",
       "<path fill=\"none\" stroke=\"black\" d=\"M909,-575C909,-575 891.64,-554.94 878.49,-539.74\"/>\n",
       "</g>\n",
       "<!-- 27 -->\n",
       "<g id=\"node28\" class=\"node\">\n",
       "<title>27</title>\n",
       "<text xml:space=\"preserve\" text-anchor=\"start\" x=\"921.5\" y=\"-517.95\" font-family=\"Courier,monospace\" font-weight=\"bold\" font-size=\"14.00\" fill=\"#004080\">Name</text>\n",
       "</g>\n",
       "<!-- 23&#45;&#45;27 -->\n",
       "<g id=\"edge27\" class=\"edge\">\n",
       "<title>23--27</title>\n",
       "<path fill=\"none\" stroke=\"black\" d=\"M909,-575C909,-575 920.19,-554.94 928.66,-539.74\"/>\n",
       "</g>\n",
       "<!-- 30 -->\n",
       "<g id=\"node31\" class=\"node\">\n",
       "<title>30</title>\n",
       "<text xml:space=\"preserve\" text-anchor=\"start\" x=\"1121.75\" y=\"-517.95\" font-family=\"Courier,monospace\" font-weight=\"bold\" font-size=\"14.00\" fill=\"#004080\">If</text>\n",
       "</g>\n",
       "<!-- 23&#45;&#45;30 -->\n",
       "<g id=\"edge30\" class=\"edge\">\n",
       "<title>23--30</title>\n",
       "<path fill=\"none\" stroke=\"black\" d=\"M909,-575C909,-575 1044.56,-543.1 1103.34,-529.27\"/>\n",
       "</g>\n",
       "<!-- 25 -->\n",
       "<g id=\"node26\" class=\"node\">\n",
       "<title>25</title>\n",
       "<text xml:space=\"preserve\" text-anchor=\"middle\" x=\"790\" y=\"-444.95\" font-family=\"Courier,monospace\" font-size=\"14.00\" fill=\"#008040\">\"c\"</text>\n",
       "</g>\n",
       "<!-- 24&#45;&#45;25 -->\n",
       "<g id=\"edge25\" class=\"edge\">\n",
       "<title>24--25</title>\n",
       "<path fill=\"none\" stroke=\"black\" d=\"M856,-503C856,-503 830.54,-482.94 811.25,-467.74\"/>\n",
       "</g>\n",
       "<!-- 26 -->\n",
       "<g id=\"node27\" class=\"node\">\n",
       "<title>26</title>\n",
       "<text xml:space=\"preserve\" text-anchor=\"middle\" x=\"864\" y=\"-444.95\" font-family=\"Courier,monospace\" font-size=\"14.00\" fill=\"#008040\">Store</text>\n",
       "</g>\n",
       "<!-- 24&#45;&#45;26 -->\n",
       "<g id=\"edge26\" class=\"edge\">\n",
       "<title>24--26</title>\n",
       "<path fill=\"none\" stroke=\"black\" d=\"M856,-503C856,-503 859.09,-482.94 861.42,-467.74\"/>\n",
       "</g>\n",
       "<!-- 28 -->\n",
       "<g id=\"node29\" class=\"node\">\n",
       "<title>28</title>\n",
       "<text xml:space=\"preserve\" text-anchor=\"middle\" x=\"938\" y=\"-444.95\" font-family=\"Courier,monospace\" font-size=\"14.00\" fill=\"#008040\">\"s\"</text>\n",
       "</g>\n",
       "<!-- 27&#45;&#45;28 -->\n",
       "<g id=\"edge28\" class=\"edge\">\n",
       "<title>27--28</title>\n",
       "<path fill=\"none\" stroke=\"black\" d=\"M945,-503C945,-503 942.3,-482.94 940.25,-467.74\"/>\n",
       "</g>\n",
       "<!-- 29 -->\n",
       "<g id=\"node30\" class=\"node\">\n",
       "<title>29</title>\n",
       "<text xml:space=\"preserve\" text-anchor=\"middle\" x=\"1010\" y=\"-444.95\" font-family=\"Courier,monospace\" font-size=\"14.00\" fill=\"#008040\">Load</text>\n",
       "</g>\n",
       "<!-- 27&#45;&#45;29 -->\n",
       "<g id=\"edge29\" class=\"edge\">\n",
       "<title>27--29</title>\n",
       "<path fill=\"none\" stroke=\"black\" d=\"M945,-503C945,-503 970.07,-482.94 989.08,-467.74\"/>\n",
       "</g>\n",
       "<!-- 31 -->\n",
       "<g id=\"node32\" class=\"node\">\n",
       "<title>31</title>\n",
       "<text xml:space=\"preserve\" text-anchor=\"start\" x=\"1063.25\" y=\"-445.95\" font-family=\"Courier,monospace\" font-weight=\"bold\" font-size=\"14.00\" fill=\"#004080\">BoolOp</text>\n",
       "</g>\n",
       "<!-- 30&#45;&#45;31 -->\n",
       "<g id=\"edge31\" class=\"edge\">\n",
       "<title>30--31</title>\n",
       "<path fill=\"none\" stroke=\"black\" d=\"M1139,-503C1139,-503 1119.33,-482.94 1104.42,-467.74\"/>\n",
       "</g>\n",
       "<!-- 45 -->\n",
       "<g id=\"node46\" class=\"node\">\n",
       "<title>45</title>\n",
       "<text xml:space=\"preserve\" text-anchor=\"start\" x=\"1147.25\" y=\"-445.95\" font-family=\"Courier,monospace\" font-weight=\"bold\" font-size=\"14.00\" fill=\"#004080\">Assign</text>\n",
       "</g>\n",
       "<!-- 30&#45;&#45;45 -->\n",
       "<g id=\"edge45\" class=\"edge\">\n",
       "<title>30--45</title>\n",
       "<path fill=\"none\" stroke=\"black\" d=\"M1139,-503C1139,-503 1151.73,-482.94 1161.38,-467.74\"/>\n",
       "</g>\n",
       "<!-- 51 -->\n",
       "<g id=\"node52\" class=\"node\">\n",
       "<title>51</title>\n",
       "<text xml:space=\"preserve\" text-anchor=\"start\" x=\"1494.75\" y=\"-445.95\" font-family=\"Courier,monospace\" font-weight=\"bold\" font-size=\"14.00\" fill=\"#004080\">If</text>\n",
       "</g>\n",
       "<!-- 30&#45;&#45;51 -->\n",
       "<g id=\"edge51\" class=\"edge\">\n",
       "<title>30--51</title>\n",
       "<path fill=\"none\" stroke=\"black\" d=\"M1139,-503C1139,-503 1392.17,-466.83 1476.23,-454.82\"/>\n",
       "</g>\n",
       "<!-- 32 -->\n",
       "<g id=\"node33\" class=\"node\">\n",
       "<title>32</title>\n",
       "<text xml:space=\"preserve\" text-anchor=\"middle\" x=\"752\" y=\"-372.95\" font-family=\"Courier,monospace\" font-size=\"14.00\" fill=\"#008040\">And</text>\n",
       "</g>\n",
       "<!-- 31&#45;&#45;32 -->\n",
       "<g id=\"edge32\" class=\"edge\">\n",
       "<title>31--32</title>\n",
       "<path fill=\"none\" stroke=\"black\" d=\"M1055,-436C1055,-436 1050.21,-433.2 1046,-432 934.68,-400.18 898.95,-429.1 788,-396 784.95,-395.09 781.84,-393.96 778.78,-392.72\"/>\n",
       "</g>\n",
       "<!-- 33 -->\n",
       "<g id=\"node34\" class=\"node\">\n",
       "<title>33</title>\n",
       "<text xml:space=\"preserve\" text-anchor=\"start\" x=\"805.12\" y=\"-373.95\" font-family=\"Courier,monospace\" font-weight=\"bold\" font-size=\"14.00\" fill=\"#004080\">Compare</text>\n",
       "</g>\n",
       "<!-- 31&#45;&#45;33 -->\n",
       "<g id=\"edge33\" class=\"edge\">\n",
       "<title>31--33</title>\n",
       "<path fill=\"none\" stroke=\"black\" d=\"M1055,-436C1055,-436 1050.14,-433.43 1046,-432 985.74,-411.25 913.27,-394.91 870.57,-386.13\"/>\n",
       "</g>\n",
       "<!-- 40 -->\n",
       "<g id=\"node41\" class=\"node\">\n",
       "<title>40</title>\n",
       "<text xml:space=\"preserve\" text-anchor=\"start\" x=\"963.12\" y=\"-373.95\" font-family=\"Courier,monospace\" font-weight=\"bold\" font-size=\"14.00\" fill=\"#004080\">UnaryOp</text>\n",
       "</g>\n",
       "<!-- 31&#45;&#45;40 -->\n",
       "<g id=\"edge40\" class=\"edge\">\n",
       "<title>31--40</title>\n",
       "<path fill=\"none\" stroke=\"black\" d=\"M1055,-436C1055,-436 1029.14,-412.61 1010.56,-395.79\"/>\n",
       "</g>\n",
       "<!-- 34 -->\n",
       "<g id=\"node35\" class=\"node\">\n",
       "<title>34</title>\n",
       "<text xml:space=\"preserve\" text-anchor=\"start\" x=\"659.5\" y=\"-301.95\" font-family=\"Courier,monospace\" font-weight=\"bold\" font-size=\"14.00\" fill=\"#004080\">Name</text>\n",
       "</g>\n",
       "<!-- 33&#45;&#45;34 -->\n",
       "<g id=\"edge34\" class=\"edge\">\n",
       "<title>33--34</title>\n",
       "<path fill=\"none\" stroke=\"black\" d=\"M819,-359C819,-359 758.49,-342.5 712,-324 709.05,-322.82 705.99,-321.52 702.97,-320.18\"/>\n",
       "</g>\n",
       "<!-- 37 -->\n",
       "<g id=\"node38\" class=\"node\">\n",
       "<title>37</title>\n",
       "<text xml:space=\"preserve\" text-anchor=\"middle\" x=\"748\" y=\"-300.95\" font-family=\"Courier,monospace\" font-size=\"14.00\" fill=\"#008040\">Eq</text>\n",
       "</g>\n",
       "<!-- 33&#45;&#45;37 -->\n",
       "<g id=\"edge37\" class=\"edge\">\n",
       "<title>33--37</title>\n",
       "<path fill=\"none\" stroke=\"black\" d=\"M819,-359C819,-359 791.61,-338.94 770.86,-323.74\"/>\n",
       "</g>\n",
       "<!-- 38 -->\n",
       "<g id=\"node39\" class=\"node\">\n",
       "<title>38</title>\n",
       "<text xml:space=\"preserve\" text-anchor=\"start\" x=\"801\" y=\"-301.95\" font-family=\"Courier,monospace\" font-weight=\"bold\" font-size=\"14.00\" fill=\"#004080\">Constant</text>\n",
       "</g>\n",
       "<!-- 33&#45;&#45;38 -->\n",
       "<g id=\"edge38\" class=\"edge\">\n",
       "<title>33--38</title>\n",
       "<path fill=\"none\" stroke=\"black\" d=\"M819,-359C819,-359 824.79,-338.94 829.17,-323.74\"/>\n",
       "</g>\n",
       "<!-- 35 -->\n",
       "<g id=\"node36\" class=\"node\">\n",
       "<title>35</title>\n",
       "<text xml:space=\"preserve\" text-anchor=\"middle\" x=\"640\" y=\"-228.95\" font-family=\"Courier,monospace\" font-size=\"14.00\" fill=\"#008040\">\"c\"</text>\n",
       "</g>\n",
       "<!-- 34&#45;&#45;35 -->\n",
       "<g id=\"edge35\" class=\"edge\">\n",
       "<title>34--35</title>\n",
       "<path fill=\"none\" stroke=\"black\" d=\"M676,-287C676,-287 662.11,-266.94 651.59,-251.74\"/>\n",
       "</g>\n",
       "<!-- 36 -->\n",
       "<g id=\"node37\" class=\"node\">\n",
       "<title>36</title>\n",
       "<text xml:space=\"preserve\" text-anchor=\"middle\" x=\"712\" y=\"-228.95\" font-family=\"Courier,monospace\" font-size=\"14.00\" fill=\"#008040\">Load</text>\n",
       "</g>\n",
       "<!-- 34&#45;&#45;36 -->\n",
       "<g id=\"edge36\" class=\"edge\">\n",
       "<title>34--36</title>\n",
       "<path fill=\"none\" stroke=\"black\" d=\"M676,-287C676,-287 689.89,-266.94 700.41,-251.74\"/>\n",
       "</g>\n",
       "<!-- 39 -->\n",
       "<g id=\"node40\" class=\"node\">\n",
       "<title>39</title>\n",
       "<text xml:space=\"preserve\" text-anchor=\"middle\" x=\"834\" y=\"-228.95\" font-family=\"Courier,monospace\" font-size=\"14.00\" fill=\"#008040\">\"&lt;\"</text>\n",
       "</g>\n",
       "<!-- 38&#45;&#45;39 -->\n",
       "<g id=\"edge39\" class=\"edge\">\n",
       "<title>38--39</title>\n",
       "<path fill=\"none\" stroke=\"black\" d=\"M834,-288.05C834,-277.05 834,-262.76 834,-251.79\"/>\n",
       "</g>\n",
       "<!-- 41 -->\n",
       "<g id=\"node42\" class=\"node\">\n",
       "<title>41</title>\n",
       "<text xml:space=\"preserve\" text-anchor=\"middle\" x=\"920\" y=\"-300.95\" font-family=\"Courier,monospace\" font-size=\"14.00\" fill=\"#008040\">Not</text>\n",
       "</g>\n",
       "<!-- 40&#45;&#45;41 -->\n",
       "<g id=\"edge41\" class=\"edge\">\n",
       "<title>40--41</title>\n",
       "<path fill=\"none\" stroke=\"black\" d=\"M985,-359C985,-359 959.93,-338.94 940.92,-323.74\"/>\n",
       "</g>\n",
       "<!-- 42 -->\n",
       "<g id=\"node43\" class=\"node\">\n",
       "<title>42</title>\n",
       "<text xml:space=\"preserve\" text-anchor=\"start\" x=\"975.5\" y=\"-301.95\" font-family=\"Courier,monospace\" font-weight=\"bold\" font-size=\"14.00\" fill=\"#004080\">Name</text>\n",
       "</g>\n",
       "<!-- 40&#45;&#45;42 -->\n",
       "<g id=\"edge42\" class=\"edge\">\n",
       "<title>40--42</title>\n",
       "<path fill=\"none\" stroke=\"black\" d=\"M985,-359C985,-359 987.7,-338.94 989.75,-323.74\"/>\n",
       "</g>\n",
       "<!-- 43 -->\n",
       "<g id=\"node44\" class=\"node\">\n",
       "<title>43</title>\n",
       "<text xml:space=\"preserve\" text-anchor=\"middle\" x=\"954\" y=\"-228.95\" font-family=\"Courier,monospace\" font-size=\"14.00\" fill=\"#008040\">\"quote\"</text>\n",
       "</g>\n",
       "<!-- 42&#45;&#45;43 -->\n",
       "<g id=\"edge43\" class=\"edge\">\n",
       "<title>42--43</title>\n",
       "<path fill=\"none\" stroke=\"black\" d=\"M993,-287C993,-287 977.96,-266.94 966.55,-251.74\"/>\n",
       "</g>\n",
       "<!-- 44 -->\n",
       "<g id=\"node45\" class=\"node\">\n",
       "<title>44</title>\n",
       "<text xml:space=\"preserve\" text-anchor=\"middle\" x=\"1036\" y=\"-228.95\" font-family=\"Courier,monospace\" font-size=\"14.00\" fill=\"#008040\">Load</text>\n",
       "</g>\n",
       "<!-- 42&#45;&#45;44 -->\n",
       "<g id=\"edge44\" class=\"edge\">\n",
       "<title>42--44</title>\n",
       "<path fill=\"none\" stroke=\"black\" d=\"M993,-287C993,-287 1009.59,-266.94 1022.16,-251.74\"/>\n",
       "</g>\n",
       "<!-- 46 -->\n",
       "<g id=\"node47\" class=\"node\">\n",
       "<title>46</title>\n",
       "<text xml:space=\"preserve\" text-anchor=\"start\" x=\"1112.5\" y=\"-373.95\" font-family=\"Courier,monospace\" font-weight=\"bold\" font-size=\"14.00\" fill=\"#004080\">Name</text>\n",
       "</g>\n",
       "<!-- 45&#45;&#45;46 -->\n",
       "<g id=\"edge46\" class=\"edge\">\n",
       "<title>45--46</title>\n",
       "<path fill=\"none\" stroke=\"black\" d=\"M1172,-431C1172,-431 1155.41,-410.94 1142.84,-395.74\"/>\n",
       "</g>\n",
       "<!-- 49 -->\n",
       "<g id=\"node50\" class=\"node\">\n",
       "<title>49</title>\n",
       "<text xml:space=\"preserve\" text-anchor=\"start\" x=\"1182\" y=\"-373.95\" font-family=\"Courier,monospace\" font-weight=\"bold\" font-size=\"14.00\" fill=\"#004080\">Constant</text>\n",
       "</g>\n",
       "<!-- 45&#45;&#45;49 -->\n",
       "<g id=\"edge49\" class=\"edge\">\n",
       "<title>45--49</title>\n",
       "<path fill=\"none\" stroke=\"black\" d=\"M1172,-431C1172,-431 1188.59,-410.94 1201.16,-395.74\"/>\n",
       "</g>\n",
       "<!-- 47 -->\n",
       "<g id=\"node48\" class=\"node\">\n",
       "<title>47</title>\n",
       "<text xml:space=\"preserve\" text-anchor=\"middle\" x=\"1066\" y=\"-300.95\" font-family=\"Courier,monospace\" font-size=\"14.00\" fill=\"#008040\">\"tag\"</text>\n",
       "</g>\n",
       "<!-- 46&#45;&#45;47 -->\n",
       "<g id=\"edge47\" class=\"edge\">\n",
       "<title>46--47</title>\n",
       "<path fill=\"none\" stroke=\"black\" d=\"M1124,-359C1124,-359 1101.63,-338.94 1084.67,-323.74\"/>\n",
       "</g>\n",
       "<!-- 48 -->\n",
       "<g id=\"node49\" class=\"node\">\n",
       "<title>48</title>\n",
       "<text xml:space=\"preserve\" text-anchor=\"middle\" x=\"1141\" y=\"-300.95\" font-family=\"Courier,monospace\" font-size=\"14.00\" fill=\"#008040\">Store</text>\n",
       "</g>\n",
       "<!-- 46&#45;&#45;48 -->\n",
       "<g id=\"edge48\" class=\"edge\">\n",
       "<title>46--48</title>\n",
       "<path fill=\"none\" stroke=\"black\" d=\"M1124,-359C1124,-359 1130.56,-338.94 1135.53,-323.74\"/>\n",
       "</g>\n",
       "<!-- 50 -->\n",
       "<g id=\"node51\" class=\"node\">\n",
       "<title>50</title>\n",
       "<text xml:space=\"preserve\" text-anchor=\"middle\" x=\"1215\" y=\"-300.95\" font-family=\"Courier,monospace\" font-size=\"14.00\" fill=\"#008040\">True</text>\n",
       "</g>\n",
       "<!-- 49&#45;&#45;50 -->\n",
       "<g id=\"edge50\" class=\"edge\">\n",
       "<title>49--50</title>\n",
       "<path fill=\"none\" stroke=\"black\" d=\"M1215,-360.05C1215,-349.05 1215,-334.76 1215,-323.79\"/>\n",
       "</g>\n",
       "<!-- 52 -->\n",
       "<g id=\"node53\" class=\"node\">\n",
       "<title>52</title>\n",
       "<text xml:space=\"preserve\" text-anchor=\"start\" x=\"1390.25\" y=\"-373.95\" font-family=\"Courier,monospace\" font-weight=\"bold\" font-size=\"14.00\" fill=\"#004080\">BoolOp</text>\n",
       "</g>\n",
       "<!-- 51&#45;&#45;52 -->\n",
       "<g id=\"edge52\" class=\"edge\">\n",
       "<title>51--52</title>\n",
       "<path fill=\"none\" stroke=\"black\" d=\"M1512,-431C1512,-431 1474.82,-411.07 1446.49,-395.88\"/>\n",
       "</g>\n",
       "<!-- 66 -->\n",
       "<g id=\"node67\" class=\"node\">\n",
       "<title>66</title>\n",
       "<text xml:space=\"preserve\" text-anchor=\"start\" x=\"1533.25\" y=\"-373.95\" font-family=\"Courier,monospace\" font-weight=\"bold\" font-size=\"14.00\" fill=\"#004080\">Assign</text>\n",
       "</g>\n",
       "<!-- 51&#45;&#45;66 -->\n",
       "<g id=\"edge66\" class=\"edge\">\n",
       "<title>51--66</title>\n",
       "<path fill=\"none\" stroke=\"black\" d=\"M1512,-431C1512,-431 1529.74,-410.94 1543.19,-395.74\"/>\n",
       "</g>\n",
       "<!-- 72 -->\n",
       "<g id=\"node73\" class=\"node\">\n",
       "<title>72</title>\n",
       "<text xml:space=\"preserve\" text-anchor=\"start\" x=\"1938.75\" y=\"-373.95\" font-family=\"Courier,monospace\" font-weight=\"bold\" font-size=\"14.00\" fill=\"#004080\">If</text>\n",
       "</g>\n",
       "<!-- 51&#45;&#45;72 -->\n",
       "<g id=\"edge72\" class=\"edge\">\n",
       "<title>51--72</title>\n",
       "<path fill=\"none\" stroke=\"black\" d=\"M1512,-431C1512,-431 1825.28,-393.55 1920.12,-382.21\"/>\n",
       "</g>\n",
       "<!-- 53 -->\n",
       "<g id=\"node54\" class=\"node\">\n",
       "<title>53</title>\n",
       "<text xml:space=\"preserve\" text-anchor=\"middle\" x=\"1287\" y=\"-300.95\" font-family=\"Courier,monospace\" font-size=\"14.00\" fill=\"#008040\">And</text>\n",
       "</g>\n",
       "<!-- 52&#45;&#45;53 -->\n",
       "<g id=\"edge53\" class=\"edge\">\n",
       "<title>52--53</title>\n",
       "<path fill=\"none\" stroke=\"black\" d=\"M1408,-359C1408,-359 1360.37,-340.51 1323,-324 1319.97,-322.66 1316.8,-321.22 1313.67,-319.78\"/>\n",
       "</g>\n",
       "<!-- 54 -->\n",
       "<g id=\"node55\" class=\"node\">\n",
       "<title>54</title>\n",
       "<text xml:space=\"preserve\" text-anchor=\"start\" x=\"1340.12\" y=\"-301.95\" font-family=\"Courier,monospace\" font-weight=\"bold\" font-size=\"14.00\" fill=\"#004080\">Compare</text>\n",
       "</g>\n",
       "<!-- 52&#45;&#45;54 -->\n",
       "<g id=\"edge54\" class=\"edge\">\n",
       "<title>52--54</title>\n",
       "<path fill=\"none\" stroke=\"black\" d=\"M1408,-359C1408,-359 1392.96,-338.94 1381.55,-323.74\"/>\n",
       "</g>\n",
       "<!-- 61 -->\n",
       "<g id=\"node62\" class=\"node\">\n",
       "<title>61</title>\n",
       "<text xml:space=\"preserve\" text-anchor=\"start\" x=\"1432.12\" y=\"-301.95\" font-family=\"Courier,monospace\" font-weight=\"bold\" font-size=\"14.00\" fill=\"#004080\">UnaryOp</text>\n",
       "</g>\n",
       "<!-- 52&#45;&#45;61 -->\n",
       "<g id=\"edge61\" class=\"edge\">\n",
       "<title>52--61</title>\n",
       "<path fill=\"none\" stroke=\"black\" d=\"M1408,-359C1408,-359 1428.45,-338.94 1443.94,-323.74\"/>\n",
       "</g>\n",
       "<!-- 55 -->\n",
       "<g id=\"node56\" class=\"node\">\n",
       "<title>55</title>\n",
       "<text xml:space=\"preserve\" text-anchor=\"start\" x=\"1128.5\" y=\"-229.95\" font-family=\"Courier,monospace\" font-weight=\"bold\" font-size=\"14.00\" fill=\"#004080\">Name</text>\n",
       "</g>\n",
       "<!-- 54&#45;&#45;55 -->\n",
       "<g id=\"edge55\" class=\"edge\">\n",
       "<title>54--55</title>\n",
       "<path fill=\"none\" stroke=\"black\" d=\"M1338,-287C1338,-287 1248.63,-275.18 1181,-252 1177.99,-250.97 1174.9,-249.76 1171.86,-248.47\"/>\n",
       "</g>\n",
       "<!-- 58 -->\n",
       "<g id=\"node59\" class=\"node\">\n",
       "<title>58</title>\n",
       "<text xml:space=\"preserve\" text-anchor=\"middle\" x=\"1217\" y=\"-228.95\" font-family=\"Courier,monospace\" font-size=\"14.00\" fill=\"#008040\">Eq</text>\n",
       "</g>\n",
       "<!-- 54&#45;&#45;58 -->\n",
       "<g id=\"edge58\" class=\"edge\">\n",
       "<title>54--58</title>\n",
       "<path fill=\"none\" stroke=\"black\" d=\"M1338,-287C1338,-287 1290.37,-268.51 1253,-252 1249.97,-250.66 1246.8,-249.22 1243.67,-247.78\"/>\n",
       "</g>\n",
       "<!-- 59 -->\n",
       "<g id=\"node60\" class=\"node\">\n",
       "<title>59</title>\n",
       "<text xml:space=\"preserve\" text-anchor=\"start\" x=\"1270\" y=\"-229.95\" font-family=\"Courier,monospace\" font-weight=\"bold\" font-size=\"14.00\" fill=\"#004080\">Constant</text>\n",
       "</g>\n",
       "<!-- 54&#45;&#45;59 -->\n",
       "<g id=\"edge59\" class=\"edge\">\n",
       "<title>54--59</title>\n",
       "<path fill=\"none\" stroke=\"black\" d=\"M1338,-287C1338,-287 1324.5,-266.94 1314.27,-251.74\"/>\n",
       "</g>\n",
       "<!-- 56 -->\n",
       "<g id=\"node57\" class=\"node\">\n",
       "<title>56</title>\n",
       "<text xml:space=\"preserve\" text-anchor=\"middle\" x=\"1109\" y=\"-156.95\" font-family=\"Courier,monospace\" font-size=\"14.00\" fill=\"#008040\">\"c\"</text>\n",
       "</g>\n",
       "<!-- 55&#45;&#45;56 -->\n",
       "<g id=\"edge56\" class=\"edge\">\n",
       "<title>55--56</title>\n",
       "<path fill=\"none\" stroke=\"black\" d=\"M1145,-215C1145,-215 1131.11,-194.94 1120.59,-179.74\"/>\n",
       "</g>\n",
       "<!-- 57 -->\n",
       "<g id=\"node58\" class=\"node\">\n",
       "<title>57</title>\n",
       "<text xml:space=\"preserve\" text-anchor=\"middle\" x=\"1181\" y=\"-156.95\" font-family=\"Courier,monospace\" font-size=\"14.00\" fill=\"#008040\">Load</text>\n",
       "</g>\n",
       "<!-- 55&#45;&#45;57 -->\n",
       "<g id=\"edge57\" class=\"edge\">\n",
       "<title>55--57</title>\n",
       "<path fill=\"none\" stroke=\"black\" d=\"M1145,-215C1145,-215 1158.89,-194.94 1169.41,-179.74\"/>\n",
       "</g>\n",
       "<!-- 60 -->\n",
       "<g id=\"node61\" class=\"node\">\n",
       "<title>60</title>\n",
       "<text xml:space=\"preserve\" text-anchor=\"middle\" x=\"1303\" y=\"-156.95\" font-family=\"Courier,monospace\" font-size=\"14.00\" fill=\"#008040\">\"&gt;\"</text>\n",
       "</g>\n",
       "<!-- 59&#45;&#45;60 -->\n",
       "<g id=\"edge60\" class=\"edge\">\n",
       "<title>59--60</title>\n",
       "<path fill=\"none\" stroke=\"black\" d=\"M1303,-216.05C1303,-205.05 1303,-190.76 1303,-179.79\"/>\n",
       "</g>\n",
       "<!-- 62 -->\n",
       "<g id=\"node63\" class=\"node\">\n",
       "<title>62</title>\n",
       "<text xml:space=\"preserve\" text-anchor=\"middle\" x=\"1389\" y=\"-228.95\" font-family=\"Courier,monospace\" font-size=\"14.00\" fill=\"#008040\">Not</text>\n",
       "</g>\n",
       "<!-- 61&#45;&#45;62 -->\n",
       "<g id=\"edge62\" class=\"edge\">\n",
       "<title>61--62</title>\n",
       "<path fill=\"none\" stroke=\"black\" d=\"M1454,-287C1454,-287 1428.93,-266.94 1409.92,-251.74\"/>\n",
       "</g>\n",
       "<!-- 63 -->\n",
       "<g id=\"node64\" class=\"node\">\n",
       "<title>63</title>\n",
       "<text xml:space=\"preserve\" text-anchor=\"start\" x=\"1444.5\" y=\"-229.95\" font-family=\"Courier,monospace\" font-weight=\"bold\" font-size=\"14.00\" fill=\"#004080\">Name</text>\n",
       "</g>\n",
       "<!-- 61&#45;&#45;63 -->\n",
       "<g id=\"edge63\" class=\"edge\">\n",
       "<title>61--63</title>\n",
       "<path fill=\"none\" stroke=\"black\" d=\"M1454,-287C1454,-287 1456.7,-266.94 1458.75,-251.74\"/>\n",
       "</g>\n",
       "<!-- 64 -->\n",
       "<g id=\"node65\" class=\"node\">\n",
       "<title>64</title>\n",
       "<text xml:space=\"preserve\" text-anchor=\"middle\" x=\"1417\" y=\"-156.95\" font-family=\"Courier,monospace\" font-size=\"14.00\" fill=\"#008040\">\"quote\"</text>\n",
       "</g>\n",
       "<!-- 63&#45;&#45;64 -->\n",
       "<g id=\"edge64\" class=\"edge\">\n",
       "<title>63--64</title>\n",
       "<path fill=\"none\" stroke=\"black\" d=\"M1460,-215C1460,-215 1443.41,-194.94 1430.84,-179.74\"/>\n",
       "</g>\n",
       "<!-- 65 -->\n",
       "<g id=\"node66\" class=\"node\">\n",
       "<title>65</title>\n",
       "<text xml:space=\"preserve\" text-anchor=\"middle\" x=\"1499\" y=\"-156.95\" font-family=\"Courier,monospace\" font-size=\"14.00\" fill=\"#008040\">Load</text>\n",
       "</g>\n",
       "<!-- 63&#45;&#45;65 -->\n",
       "<g id=\"edge65\" class=\"edge\">\n",
       "<title>63--65</title>\n",
       "<path fill=\"none\" stroke=\"black\" d=\"M1460,-215C1460,-215 1475.04,-194.94 1486.45,-179.74\"/>\n",
       "</g>\n",
       "<!-- 67 -->\n",
       "<g id=\"node68\" class=\"node\">\n",
       "<title>67</title>\n",
       "<text xml:space=\"preserve\" text-anchor=\"start\" x=\"1541.5\" y=\"-301.95\" font-family=\"Courier,monospace\" font-weight=\"bold\" font-size=\"14.00\" fill=\"#004080\">Name</text>\n",
       "</g>\n",
       "<!-- 66&#45;&#45;67 -->\n",
       "<g id=\"edge67\" class=\"edge\">\n",
       "<title>66--67</title>\n",
       "<path fill=\"none\" stroke=\"black\" d=\"M1568,-359C1568,-359 1564.14,-338.94 1561.22,-323.74\"/>\n",
       "</g>\n",
       "<!-- 70 -->\n",
       "<g id=\"node71\" class=\"node\">\n",
       "<title>70</title>\n",
       "<text xml:space=\"preserve\" text-anchor=\"start\" x=\"1638\" y=\"-301.95\" font-family=\"Courier,monospace\" font-weight=\"bold\" font-size=\"14.00\" fill=\"#004080\">Constant</text>\n",
       "</g>\n",
       "<!-- 66&#45;&#45;70 -->\n",
       "<g id=\"edge70\" class=\"edge\">\n",
       "<title>66--70</title>\n",
       "<path fill=\"none\" stroke=\"black\" d=\"M1568,-359C1568,-359 1607.48,-339.07 1637.56,-323.88\"/>\n",
       "</g>\n",
       "<!-- 68 -->\n",
       "<g id=\"node69\" class=\"node\">\n",
       "<title>68</title>\n",
       "<text xml:space=\"preserve\" text-anchor=\"middle\" x=\"1535\" y=\"-228.95\" font-family=\"Courier,monospace\" font-size=\"14.00\" fill=\"#008040\">\"tag\"</text>\n",
       "</g>\n",
       "<!-- 67&#45;&#45;68 -->\n",
       "<g id=\"edge68\" class=\"edge\">\n",
       "<title>67--68</title>\n",
       "<path fill=\"none\" stroke=\"black\" d=\"M1561,-287C1561,-287 1550.97,-266.94 1543.37,-251.74\"/>\n",
       "</g>\n",
       "<!-- 69 -->\n",
       "<g id=\"node70\" class=\"node\">\n",
       "<title>69</title>\n",
       "<text xml:space=\"preserve\" text-anchor=\"middle\" x=\"1610\" y=\"-228.95\" font-family=\"Courier,monospace\" font-size=\"14.00\" fill=\"#008040\">Store</text>\n",
       "</g>\n",
       "<!-- 67&#45;&#45;69 -->\n",
       "<g id=\"edge69\" class=\"edge\">\n",
       "<title>67--69</title>\n",
       "<path fill=\"none\" stroke=\"black\" d=\"M1561,-287C1561,-287 1579.9,-266.94 1594.23,-251.74\"/>\n",
       "</g>\n",
       "<!-- 71 -->\n",
       "<g id=\"node72\" class=\"node\">\n",
       "<title>71</title>\n",
       "<text xml:space=\"preserve\" text-anchor=\"middle\" x=\"1685\" y=\"-228.95\" font-family=\"Courier,monospace\" font-size=\"14.00\" fill=\"#008040\">False</text>\n",
       "</g>\n",
       "<!-- 70&#45;&#45;71 -->\n",
       "<g id=\"edge71\" class=\"edge\">\n",
       "<title>70--71</title>\n",
       "<path fill=\"none\" stroke=\"black\" d=\"M1674.39,-288.05C1676.59,-277.05 1679.45,-262.76 1681.64,-251.79\"/>\n",
       "</g>\n",
       "<!-- 73 -->\n",
       "<g id=\"node74\" class=\"node\">\n",
       "<title>73</title>\n",
       "<text xml:space=\"preserve\" text-anchor=\"start\" x=\"1854.25\" y=\"-301.95\" font-family=\"Courier,monospace\" font-weight=\"bold\" font-size=\"14.00\" fill=\"#004080\">BoolOp</text>\n",
       "</g>\n",
       "<!-- 72&#45;&#45;73 -->\n",
       "<g id=\"edge73\" class=\"edge\">\n",
       "<title>72--73</title>\n",
       "<path fill=\"none\" stroke=\"black\" d=\"M1958,-359C1958,-359 1927.53,-338.94 1904.43,-323.74\"/>\n",
       "</g>\n",
       "<!-- 94 -->\n",
       "<g id=\"node95\" class=\"node\">\n",
       "<title>94</title>\n",
       "<text xml:space=\"preserve\" text-anchor=\"start\" x=\"2014.25\" y=\"-301.95\" font-family=\"Courier,monospace\" font-weight=\"bold\" font-size=\"14.00\" fill=\"#004080\">Assign</text>\n",
       "</g>\n",
       "<!-- 72&#45;&#45;94 -->\n",
       "<g id=\"edge94\" class=\"edge\">\n",
       "<title>72--94</title>\n",
       "<path fill=\"none\" stroke=\"black\" d=\"M1958,-359C1958,-359 1989.25,-338.94 2012.93,-323.74\"/>\n",
       "</g>\n",
       "<!-- 103 -->\n",
       "<g id=\"node104\" class=\"node\">\n",
       "<title>103</title>\n",
       "<text xml:space=\"preserve\" text-anchor=\"start\" x=\"2108.75\" y=\"-301.95\" font-family=\"Courier,monospace\" font-weight=\"bold\" font-size=\"14.00\" fill=\"#004080\">If</text>\n",
       "</g>\n",
       "<!-- 72&#45;&#45;103 -->\n",
       "<g id=\"edge103\" class=\"edge\">\n",
       "<title>72--103</title>\n",
       "<path fill=\"none\" stroke=\"black\" d=\"M1958,-359C1958,-359 2027.79,-343.98 2081,-324 2083.98,-322.88 2087.05,-321.62 2090.08,-320.29\"/>\n",
       "</g>\n",
       "<!-- 74 -->\n",
       "<g id=\"node75\" class=\"node\">\n",
       "<title>74</title>\n",
       "<text xml:space=\"preserve\" text-anchor=\"middle\" x=\"1759\" y=\"-228.95\" font-family=\"Courier,monospace\" font-size=\"14.00\" fill=\"#008040\">Or</text>\n",
       "</g>\n",
       "<!-- 73&#45;&#45;74 -->\n",
       "<g id=\"edge74\" class=\"edge\">\n",
       "<title>73--74</title>\n",
       "<path fill=\"none\" stroke=\"black\" d=\"M1873,-287C1873,-287 1829.51,-267.89 1795,-252 1791.99,-250.61 1788.84,-249.15 1785.71,-247.68\"/>\n",
       "</g>\n",
       "<!-- 75 -->\n",
       "<g id=\"node76\" class=\"node\">\n",
       "<title>75</title>\n",
       "<text xml:space=\"preserve\" text-anchor=\"start\" x=\"1812.12\" y=\"-229.95\" font-family=\"Courier,monospace\" font-weight=\"bold\" font-size=\"14.00\" fill=\"#004080\">Compare</text>\n",
       "</g>\n",
       "<!-- 73&#45;&#45;75 -->\n",
       "<g id=\"edge75\" class=\"edge\">\n",
       "<title>73--75</title>\n",
       "<path fill=\"none\" stroke=\"black\" d=\"M1873,-287C1873,-287 1860.66,-266.94 1851.3,-251.74\"/>\n",
       "</g>\n",
       "<!-- 82 -->\n",
       "<g id=\"node83\" class=\"node\">\n",
       "<title>82</title>\n",
       "<text xml:space=\"preserve\" text-anchor=\"start\" x=\"1904.25\" y=\"-229.95\" font-family=\"Courier,monospace\" font-weight=\"bold\" font-size=\"14.00\" fill=\"#004080\">BoolOp</text>\n",
       "</g>\n",
       "<!-- 73&#45;&#45;82 -->\n",
       "<g id=\"edge82\" class=\"edge\">\n",
       "<title>73--82</title>\n",
       "<path fill=\"none\" stroke=\"black\" d=\"M1873,-287C1873,-287 1894.6,-266.94 1910.97,-251.74\"/>\n",
       "</g>\n",
       "<!-- 76 -->\n",
       "<g id=\"node77\" class=\"node\">\n",
       "<title>76</title>\n",
       "<text xml:space=\"preserve\" text-anchor=\"start\" x=\"1570.5\" y=\"-157.95\" font-family=\"Courier,monospace\" font-weight=\"bold\" font-size=\"14.00\" fill=\"#004080\">Name</text>\n",
       "</g>\n",
       "<!-- 75&#45;&#45;76 -->\n",
       "<g id=\"edge76\" class=\"edge\">\n",
       "<title>75--76</title>\n",
       "<path fill=\"none\" stroke=\"black\" d=\"M1804,-216C1804,-216 1700.89,-205.7 1623,-180 1619.98,-179 1616.88,-177.82 1613.84,-176.54\"/>\n",
       "</g>\n",
       "<!-- 79 -->\n",
       "<g id=\"node80\" class=\"node\">\n",
       "<title>79</title>\n",
       "<text xml:space=\"preserve\" text-anchor=\"middle\" x=\"1659\" y=\"-156.95\" font-family=\"Courier,monospace\" font-size=\"14.00\" fill=\"#008040\">Eq</text>\n",
       "</g>\n",
       "<!-- 75&#45;&#45;79 -->\n",
       "<g id=\"edge79\" class=\"edge\">\n",
       "<title>75--79</title>\n",
       "<path fill=\"none\" stroke=\"black\" d=\"M1804,-216C1804,-216 1742.38,-198.93 1695,-180 1692.05,-178.82 1688.99,-177.52 1685.97,-176.17\"/>\n",
       "</g>\n",
       "<!-- 80 -->\n",
       "<g id=\"node81\" class=\"node\">\n",
       "<title>80</title>\n",
       "<text xml:space=\"preserve\" text-anchor=\"start\" x=\"1712\" y=\"-157.95\" font-family=\"Courier,monospace\" font-weight=\"bold\" font-size=\"14.00\" fill=\"#004080\">Constant</text>\n",
       "</g>\n",
       "<!-- 75&#45;&#45;80 -->\n",
       "<g id=\"edge80\" class=\"edge\">\n",
       "<title>75--80</title>\n",
       "<path fill=\"none\" stroke=\"black\" d=\"M1804,-216C1804,-216 1780.95,-195.3 1763.67,-179.77\"/>\n",
       "</g>\n",
       "<!-- 77 -->\n",
       "<g id=\"node78\" class=\"node\">\n",
       "<title>77</title>\n",
       "<text xml:space=\"preserve\" text-anchor=\"middle\" x=\"1527\" y=\"-84.95\" font-family=\"Courier,monospace\" font-size=\"14.00\" fill=\"#008040\">\"c\"</text>\n",
       "</g>\n",
       "<!-- 76&#45;&#45;77 -->\n",
       "<g id=\"edge77\" class=\"edge\">\n",
       "<title>76--77</title>\n",
       "<path fill=\"none\" stroke=\"black\" d=\"M1582,-143C1582,-143 1560.78,-122.94 1544.71,-107.74\"/>\n",
       "</g>\n",
       "<!-- 78 -->\n",
       "<g id=\"node79\" class=\"node\">\n",
       "<title>78</title>\n",
       "<text xml:space=\"preserve\" text-anchor=\"middle\" x=\"1599\" y=\"-84.95\" font-family=\"Courier,monospace\" font-size=\"14.00\" fill=\"#008040\">Load</text>\n",
       "</g>\n",
       "<!-- 76&#45;&#45;78 -->\n",
       "<g id=\"edge78\" class=\"edge\">\n",
       "<title>76--78</title>\n",
       "<path fill=\"none\" stroke=\"black\" d=\"M1582,-143C1582,-143 1588.56,-122.94 1593.53,-107.74\"/>\n",
       "</g>\n",
       "<!-- 81 -->\n",
       "<g id=\"node82\" class=\"node\">\n",
       "<title>81</title>\n",
       "<text xml:space=\"preserve\" text-anchor=\"middle\" x=\"1714\" y=\"-84.95\" font-family=\"Courier,monospace\" font-size=\"14.00\" fill=\"#008040\">\"\"\"</text>\n",
       "</g>\n",
       "<!-- 80&#45;&#45;81 -->\n",
       "<g id=\"edge81\" class=\"edge\">\n",
       "<title>80--81</title>\n",
       "<path fill=\"none\" stroke=\"black\" d=\"M1737.5,-144.05C1732.62,-133.05 1726.3,-118.76 1721.44,-107.79\"/>\n",
       "</g>\n",
       "<!-- 83 -->\n",
       "<g id=\"node84\" class=\"node\">\n",
       "<title>83</title>\n",
       "<text xml:space=\"preserve\" text-anchor=\"middle\" x=\"1831\" y=\"-156.95\" font-family=\"Courier,monospace\" font-size=\"14.00\" fill=\"#008040\">And</text>\n",
       "</g>\n",
       "<!-- 82&#45;&#45;83 -->\n",
       "<g id=\"edge83\" class=\"edge\">\n",
       "<title>82--83</title>\n",
       "<path fill=\"none\" stroke=\"black\" d=\"M1926,-215C1926,-215 1886.06,-193.14 1857.97,-177.76\"/>\n",
       "</g>\n",
       "<!-- 84 -->\n",
       "<g id=\"node85\" class=\"node\">\n",
       "<title>84</title>\n",
       "<text xml:space=\"preserve\" text-anchor=\"start\" x=\"1884.12\" y=\"-157.95\" font-family=\"Courier,monospace\" font-weight=\"bold\" font-size=\"14.00\" fill=\"#004080\">Compare</text>\n",
       "</g>\n",
       "<!-- 82&#45;&#45;84 -->\n",
       "<g id=\"edge84\" class=\"edge\">\n",
       "<title>82--84</title>\n",
       "<path fill=\"none\" stroke=\"black\" d=\"M1926,-215C1926,-215 1920.99,-194.94 1917.18,-179.74\"/>\n",
       "</g>\n",
       "<!-- 91 -->\n",
       "<g id=\"node92\" class=\"node\">\n",
       "<title>91</title>\n",
       "<text xml:space=\"preserve\" text-anchor=\"start\" x=\"1978.5\" y=\"-157.95\" font-family=\"Courier,monospace\" font-weight=\"bold\" font-size=\"14.00\" fill=\"#004080\">Name</text>\n",
       "</g>\n",
       "<!-- 82&#45;&#45;91 -->\n",
       "<g id=\"edge91\" class=\"edge\">\n",
       "<title>82--91</title>\n",
       "<path fill=\"none\" stroke=\"black\" d=\"M1926,-215C1926,-215 1952.62,-194.94 1972.79,-179.74\"/>\n",
       "</g>\n",
       "<!-- 85 -->\n",
       "<g id=\"node86\" class=\"node\">\n",
       "<title>85</title>\n",
       "<text xml:space=\"preserve\" text-anchor=\"start\" x=\"1769.5\" y=\"-85.95\" font-family=\"Courier,monospace\" font-weight=\"bold\" font-size=\"14.00\" fill=\"#004080\">Name</text>\n",
       "</g>\n",
       "<!-- 84&#45;&#45;85 -->\n",
       "<g id=\"edge85\" class=\"edge\">\n",
       "<title>84--85</title>\n",
       "<path fill=\"none\" stroke=\"black\" d=\"M1904,-143C1904,-143 1858.14,-124.24 1822,-108 1818.97,-106.64 1815.82,-105.19 1812.68,-103.74\"/>\n",
       "</g>\n",
       "<!-- 88 -->\n",
       "<g id=\"node89\" class=\"node\">\n",
       "<title>88</title>\n",
       "<text xml:space=\"preserve\" text-anchor=\"middle\" x=\"1858\" y=\"-84.95\" font-family=\"Courier,monospace\" font-size=\"14.00\" fill=\"#008040\">Eq</text>\n",
       "</g>\n",
       "<!-- 84&#45;&#45;88 -->\n",
       "<g id=\"edge88\" class=\"edge\">\n",
       "<title>84--88</title>\n",
       "<path fill=\"none\" stroke=\"black\" d=\"M1904,-143C1904,-143 1886.26,-122.94 1872.81,-107.74\"/>\n",
       "</g>\n",
       "<!-- 89 -->\n",
       "<g id=\"node90\" class=\"node\">\n",
       "<title>89</title>\n",
       "<text xml:space=\"preserve\" text-anchor=\"start\" x=\"1911\" y=\"-85.95\" font-family=\"Courier,monospace\" font-weight=\"bold\" font-size=\"14.00\" fill=\"#004080\">Constant</text>\n",
       "</g>\n",
       "<!-- 84&#45;&#45;89 -->\n",
       "<g id=\"edge89\" class=\"edge\">\n",
       "<title>84--89</title>\n",
       "<path fill=\"none\" stroke=\"black\" d=\"M1904,-143C1904,-143 1919.43,-122.94 1931.12,-107.74\"/>\n",
       "</g>\n",
       "<!-- 86 -->\n",
       "<g id=\"node87\" class=\"node\">\n",
       "<title>86</title>\n",
       "<text xml:space=\"preserve\" text-anchor=\"middle\" x=\"1750\" y=\"-12.95\" font-family=\"Courier,monospace\" font-size=\"14.00\" fill=\"#008040\">\"c\"</text>\n",
       "</g>\n",
       "<!-- 85&#45;&#45;86 -->\n",
       "<g id=\"edge86\" class=\"edge\">\n",
       "<title>85--86</title>\n",
       "<path fill=\"none\" stroke=\"black\" d=\"M1786,-71C1786,-71 1772.11,-50.94 1761.59,-35.74\"/>\n",
       "</g>\n",
       "<!-- 87 -->\n",
       "<g id=\"node88\" class=\"node\">\n",
       "<title>87</title>\n",
       "<text xml:space=\"preserve\" text-anchor=\"middle\" x=\"1822\" y=\"-12.95\" font-family=\"Courier,monospace\" font-size=\"14.00\" fill=\"#008040\">Load</text>\n",
       "</g>\n",
       "<!-- 85&#45;&#45;87 -->\n",
       "<g id=\"edge87\" class=\"edge\">\n",
       "<title>85--87</title>\n",
       "<path fill=\"none\" stroke=\"black\" d=\"M1786,-71C1786,-71 1799.89,-50.94 1810.41,-35.74\"/>\n",
       "</g>\n",
       "<!-- 90 -->\n",
       "<g id=\"node91\" class=\"node\">\n",
       "<title>90</title>\n",
       "<text xml:space=\"preserve\" text-anchor=\"middle\" x=\"1944\" y=\"-12.95\" font-family=\"Courier,monospace\" font-size=\"14.00\" fill=\"#008040\">\"'\"</text>\n",
       "</g>\n",
       "<!-- 89&#45;&#45;90 -->\n",
       "<g id=\"edge90\" class=\"edge\">\n",
       "<title>89--90</title>\n",
       "<path fill=\"none\" stroke=\"black\" d=\"M1944,-72.05C1944,-61.05 1944,-46.76 1944,-35.79\"/>\n",
       "</g>\n",
       "<!-- 92 -->\n",
       "<g id=\"node93\" class=\"node\">\n",
       "<title>92</title>\n",
       "<text xml:space=\"preserve\" text-anchor=\"middle\" x=\"2032\" y=\"-84.95\" font-family=\"Courier,monospace\" font-size=\"14.00\" fill=\"#008040\">\"tag\"</text>\n",
       "</g>\n",
       "<!-- 91&#45;&#45;92 -->\n",
       "<g id=\"edge92\" class=\"edge\">\n",
       "<title>91--92</title>\n",
       "<path fill=\"none\" stroke=\"black\" d=\"M2011,-143C2011,-143 2019.1,-122.94 2025.24,-107.74\"/>\n",
       "</g>\n",
       "<!-- 93 -->\n",
       "<g id=\"node94\" class=\"node\">\n",
       "<title>93</title>\n",
       "<text xml:space=\"preserve\" text-anchor=\"middle\" x=\"2106\" y=\"-84.95\" font-family=\"Courier,monospace\" font-size=\"14.00\" fill=\"#008040\">Load</text>\n",
       "</g>\n",
       "<!-- 91&#45;&#45;93 -->\n",
       "<g id=\"edge93\" class=\"edge\">\n",
       "<title>91--93</title>\n",
       "<path fill=\"none\" stroke=\"black\" d=\"M2011,-143C2011,-143 2050.94,-121.14 2079.03,-105.76\"/>\n",
       "</g>\n",
       "<!-- 95 -->\n",
       "<g id=\"node96\" class=\"node\">\n",
       "<title>95</title>\n",
       "<text xml:space=\"preserve\" text-anchor=\"start\" x=\"2060.5\" y=\"-229.95\" font-family=\"Courier,monospace\" font-weight=\"bold\" font-size=\"14.00\" fill=\"#004080\">Name</text>\n",
       "</g>\n",
       "<!-- 94&#45;&#45;95 -->\n",
       "<g id=\"edge95\" class=\"edge\">\n",
       "<title>94--95</title>\n",
       "<path fill=\"none\" stroke=\"black\" d=\"M2059,-287C2059,-287 2065.94,-266.94 2071.21,-251.74\"/>\n",
       "</g>\n",
       "<!-- 98 -->\n",
       "<g id=\"node99\" class=\"node\">\n",
       "<title>98</title>\n",
       "<text xml:space=\"preserve\" text-anchor=\"start\" x=\"2206.12\" y=\"-229.95\" font-family=\"Courier,monospace\" font-weight=\"bold\" font-size=\"14.00\" fill=\"#004080\">UnaryOp</text>\n",
       "</g>\n",
       "<!-- 94&#45;&#45;98 -->\n",
       "<g id=\"edge98\" class=\"edge\">\n",
       "<title>94--98</title>\n",
       "<path fill=\"none\" stroke=\"black\" d=\"M2059,-287C2059,-287 2146.98,-261.01 2198.53,-245.77\"/>\n",
       "</g>\n",
       "<!-- 96 -->\n",
       "<g id=\"node97\" class=\"node\">\n",
       "<title>96</title>\n",
       "<text xml:space=\"preserve\" text-anchor=\"middle\" x=\"2077\" y=\"-156.95\" font-family=\"Courier,monospace\" font-size=\"14.00\" fill=\"#008040\">\"quote\"</text>\n",
       "</g>\n",
       "<!-- 95&#45;&#45;96 -->\n",
       "<g id=\"edge96\" class=\"edge\">\n",
       "<title>95--96</title>\n",
       "<path fill=\"none\" stroke=\"black\" d=\"M2085,-215C2085,-215 2081.91,-194.94 2079.58,-179.74\"/>\n",
       "</g>\n",
       "<!-- 97 -->\n",
       "<g id=\"node98\" class=\"node\">\n",
       "<title>97</title>\n",
       "<text xml:space=\"preserve\" text-anchor=\"middle\" x=\"2161\" y=\"-156.95\" font-family=\"Courier,monospace\" font-size=\"14.00\" fill=\"#008040\">Store</text>\n",
       "</g>\n",
       "<!-- 95&#45;&#45;97 -->\n",
       "<g id=\"edge97\" class=\"edge\">\n",
       "<title>95--97</title>\n",
       "<path fill=\"none\" stroke=\"black\" d=\"M2085,-215C2085,-215 2114.32,-194.94 2136.53,-179.74\"/>\n",
       "</g>\n",
       "<!-- 99 -->\n",
       "<g id=\"node100\" class=\"node\">\n",
       "<title>99</title>\n",
       "<text xml:space=\"preserve\" text-anchor=\"middle\" x=\"2235\" y=\"-156.95\" font-family=\"Courier,monospace\" font-size=\"14.00\" fill=\"#008040\">Not</text>\n",
       "</g>\n",
       "<!-- 98&#45;&#45;99 -->\n",
       "<g id=\"edge99\" class=\"edge\">\n",
       "<title>98--99</title>\n",
       "<path fill=\"none\" stroke=\"black\" d=\"M2242,-215C2242,-215 2239.3,-194.94 2237.25,-179.74\"/>\n",
       "</g>\n",
       "<!-- 100 -->\n",
       "<g id=\"node101\" class=\"node\">\n",
       "<title>100</title>\n",
       "<text xml:space=\"preserve\" text-anchor=\"start\" x=\"2290.5\" y=\"-157.95\" font-family=\"Courier,monospace\" font-weight=\"bold\" font-size=\"14.00\" fill=\"#004080\">Name</text>\n",
       "</g>\n",
       "<!-- 98&#45;&#45;100 -->\n",
       "<g id=\"edge100\" class=\"edge\">\n",
       "<title>98--100</title>\n",
       "<path fill=\"none\" stroke=\"black\" d=\"M2242,-215C2242,-215 2267.07,-194.94 2286.08,-179.74\"/>\n",
       "</g>\n",
       "<!-- 101 -->\n",
       "<g id=\"node102\" class=\"node\">\n",
       "<title>101</title>\n",
       "<text xml:space=\"preserve\" text-anchor=\"middle\" x=\"2225\" y=\"-84.95\" font-family=\"Courier,monospace\" font-size=\"14.00\" fill=\"#008040\">\"quote\"</text>\n",
       "</g>\n",
       "<!-- 100&#45;&#45;101 -->\n",
       "<g id=\"edge101\" class=\"edge\">\n",
       "<title>100--101</title>\n",
       "<path fill=\"none\" stroke=\"black\" d=\"M2299,-143C2299,-143 2270.45,-122.94 2248.82,-107.74\"/>\n",
       "</g>\n",
       "<!-- 102 -->\n",
       "<g id=\"node103\" class=\"node\">\n",
       "<title>102</title>\n",
       "<text xml:space=\"preserve\" text-anchor=\"middle\" x=\"2307\" y=\"-84.95\" font-family=\"Courier,monospace\" font-size=\"14.00\" fill=\"#008040\">Load</text>\n",
       "</g>\n",
       "<!-- 100&#45;&#45;102 -->\n",
       "<g id=\"edge102\" class=\"edge\">\n",
       "<title>100--102</title>\n",
       "<path fill=\"none\" stroke=\"black\" d=\"M2299,-143C2299,-143 2302.09,-122.94 2304.42,-107.74\"/>\n",
       "</g>\n",
       "<!-- 104 -->\n",
       "<g id=\"node105\" class=\"node\">\n",
       "<title>104</title>\n",
       "<text xml:space=\"preserve\" text-anchor=\"start\" x=\"2350.12\" y=\"-229.95\" font-family=\"Courier,monospace\" font-weight=\"bold\" font-size=\"14.00\" fill=\"#004080\">UnaryOp</text>\n",
       "</g>\n",
       "<!-- 103&#45;&#45;104 -->\n",
       "<g id=\"edge104\" class=\"edge\">\n",
       "<title>103--104</title>\n",
       "<path fill=\"none\" stroke=\"black\" d=\"M2144,-299C2144,-299 2147.64,-291.34 2153,-288 2169.03,-278 2282.81,-254.22 2342.56,-242.21\"/>\n",
       "</g>\n",
       "<!-- 109 -->\n",
       "<g id=\"node110\" class=\"node\">\n",
       "<title>109</title>\n",
       "<text xml:space=\"preserve\" text-anchor=\"start\" x=\"2542.25\" y=\"-229.95\" font-family=\"Courier,monospace\" font-weight=\"bold\" font-size=\"14.00\" fill=\"#004080\">Assign</text>\n",
       "</g>\n",
       "<!-- 103&#45;&#45;109 -->\n",
       "<g id=\"edge109\" class=\"edge\">\n",
       "<title>103--109</title>\n",
       "<path fill=\"none\" stroke=\"black\" d=\"M2144,-299C2144,-299 2147.48,-291.06 2153,-288 2157.19,-285.68 2437.7,-250.94 2534.54,-238.99\"/>\n",
       "</g>\n",
       "<!-- 105 -->\n",
       "<g id=\"node106\" class=\"node\">\n",
       "<title>105</title>\n",
       "<text xml:space=\"preserve\" text-anchor=\"middle\" x=\"2379\" y=\"-156.95\" font-family=\"Courier,monospace\" font-size=\"14.00\" fill=\"#008040\">Not</text>\n",
       "</g>\n",
       "<!-- 104&#45;&#45;105 -->\n",
       "<g id=\"edge105\" class=\"edge\">\n",
       "<title>104--105</title>\n",
       "<path fill=\"none\" stroke=\"black\" d=\"M2386,-215C2386,-215 2383.3,-194.94 2381.25,-179.74\"/>\n",
       "</g>\n",
       "<!-- 106 -->\n",
       "<g id=\"node107\" class=\"node\">\n",
       "<title>106</title>\n",
       "<text xml:space=\"preserve\" text-anchor=\"start\" x=\"2434.5\" y=\"-157.95\" font-family=\"Courier,monospace\" font-weight=\"bold\" font-size=\"14.00\" fill=\"#004080\">Name</text>\n",
       "</g>\n",
       "<!-- 104&#45;&#45;106 -->\n",
       "<g id=\"edge106\" class=\"edge\">\n",
       "<title>104--106</title>\n",
       "<path fill=\"none\" stroke=\"black\" d=\"M2386,-215C2386,-215 2411.07,-194.94 2430.08,-179.74\"/>\n",
       "</g>\n",
       "<!-- 107 -->\n",
       "<g id=\"node108\" class=\"node\">\n",
       "<title>107</title>\n",
       "<text xml:space=\"preserve\" text-anchor=\"middle\" x=\"2381\" y=\"-84.95\" font-family=\"Courier,monospace\" font-size=\"14.00\" fill=\"#008040\">\"tag\"</text>\n",
       "</g>\n",
       "<!-- 106&#45;&#45;107 -->\n",
       "<g id=\"edge107\" class=\"edge\">\n",
       "<title>106--107</title>\n",
       "<path fill=\"none\" stroke=\"black\" d=\"M2444,-143C2444,-143 2419.7,-122.94 2401.28,-107.74\"/>\n",
       "</g>\n",
       "<!-- 108 -->\n",
       "<g id=\"node109\" class=\"node\">\n",
       "<title>108</title>\n",
       "<text xml:space=\"preserve\" text-anchor=\"middle\" x=\"2455\" y=\"-84.95\" font-family=\"Courier,monospace\" font-size=\"14.00\" fill=\"#008040\">Load</text>\n",
       "</g>\n",
       "<!-- 106&#45;&#45;108 -->\n",
       "<g id=\"edge108\" class=\"edge\">\n",
       "<title>106--108</title>\n",
       "<path fill=\"none\" stroke=\"black\" d=\"M2444,-143C2444,-143 2448.24,-122.94 2451.46,-107.74\"/>\n",
       "</g>\n",
       "<!-- 110 -->\n",
       "<g id=\"node111\" class=\"node\">\n",
       "<title>110</title>\n",
       "<text xml:space=\"preserve\" text-anchor=\"start\" x=\"2550.5\" y=\"-157.95\" font-family=\"Courier,monospace\" font-weight=\"bold\" font-size=\"14.00\" fill=\"#004080\">Name</text>\n",
       "</g>\n",
       "<!-- 109&#45;&#45;110 -->\n",
       "<g id=\"edge110\" class=\"edge\">\n",
       "<title>109--110</title>\n",
       "<path fill=\"none\" stroke=\"black\" d=\"M2578,-215C2578,-215 2573.76,-194.94 2570.54,-179.74\"/>\n",
       "</g>\n",
       "<!-- 113 -->\n",
       "<g id=\"node114\" class=\"node\">\n",
       "<title>113</title>\n",
       "<text xml:space=\"preserve\" text-anchor=\"start\" x=\"2693.38\" y=\"-157.95\" font-family=\"Courier,monospace\" font-weight=\"bold\" font-size=\"14.00\" fill=\"#004080\">BinOp</text>\n",
       "</g>\n",
       "<!-- 109&#45;&#45;113 -->\n",
       "<g id=\"edge113\" class=\"edge\">\n",
       "<title>109--113</title>\n",
       "<path fill=\"none\" stroke=\"black\" d=\"M2578,-215C2578,-215 2645.61,-189.15 2685.49,-173.9\"/>\n",
       "</g>\n",
       "<!-- 111 -->\n",
       "<g id=\"node112\" class=\"node\">\n",
       "<title>111</title>\n",
       "<text xml:space=\"preserve\" text-anchor=\"middle\" x=\"2529\" y=\"-84.95\" font-family=\"Courier,monospace\" font-size=\"14.00\" fill=\"#008040\">\"out\"</text>\n",
       "</g>\n",
       "<!-- 110&#45;&#45;111 -->\n",
       "<g id=\"edge111\" class=\"edge\">\n",
       "<title>110--111</title>\n",
       "<path fill=\"none\" stroke=\"black\" d=\"M2567,-143C2567,-143 2552.34,-122.94 2541.23,-107.74\"/>\n",
       "</g>\n",
       "<!-- 112 -->\n",
       "<g id=\"node113\" class=\"node\">\n",
       "<title>112</title>\n",
       "<text xml:space=\"preserve\" text-anchor=\"middle\" x=\"2604\" y=\"-84.95\" font-family=\"Courier,monospace\" font-size=\"14.00\" fill=\"#008040\">Store</text>\n",
       "</g>\n",
       "<!-- 110&#45;&#45;112 -->\n",
       "<g id=\"edge112\" class=\"edge\">\n",
       "<title>110--112</title>\n",
       "<path fill=\"none\" stroke=\"black\" d=\"M2567,-143C2567,-143 2581.27,-122.94 2592.09,-107.74\"/>\n",
       "</g>\n",
       "<!-- 114 -->\n",
       "<g id=\"node115\" class=\"node\">\n",
       "<title>114</title>\n",
       "<text xml:space=\"preserve\" text-anchor=\"start\" x=\"2661.5\" y=\"-85.95\" font-family=\"Courier,monospace\" font-weight=\"bold\" font-size=\"14.00\" fill=\"#004080\">Name</text>\n",
       "</g>\n",
       "<!-- 113&#45;&#45;114 -->\n",
       "<g id=\"edge114\" class=\"edge\">\n",
       "<title>113--114</title>\n",
       "<path fill=\"none\" stroke=\"black\" d=\"M2720,-143C2720,-143 2703.8,-122.94 2691.52,-107.74\"/>\n",
       "</g>\n",
       "<!-- 117 -->\n",
       "<g id=\"node118\" class=\"node\">\n",
       "<title>117</title>\n",
       "<text xml:space=\"preserve\" text-anchor=\"middle\" x=\"2750\" y=\"-84.95\" font-family=\"Courier,monospace\" font-size=\"14.00\" fill=\"#008040\">Add</text>\n",
       "</g>\n",
       "<!-- 113&#45;&#45;117 -->\n",
       "<g id=\"edge117\" class=\"edge\">\n",
       "<title>113--117</title>\n",
       "<path fill=\"none\" stroke=\"black\" d=\"M2720,-143C2720,-143 2731.57,-122.94 2740.34,-107.74\"/>\n",
       "</g>\n",
       "<!-- 118 -->\n",
       "<g id=\"node119\" class=\"node\">\n",
       "<title>118</title>\n",
       "<text xml:space=\"preserve\" text-anchor=\"start\" x=\"2805.5\" y=\"-85.95\" font-family=\"Courier,monospace\" font-weight=\"bold\" font-size=\"14.00\" fill=\"#004080\">Name</text>\n",
       "</g>\n",
       "<!-- 113&#45;&#45;118 -->\n",
       "<g id=\"edge118\" class=\"edge\">\n",
       "<title>113--118</title>\n",
       "<path fill=\"none\" stroke=\"black\" d=\"M2720,-143C2720,-143 2764.98,-120.07 2795.2,-104.66\"/>\n",
       "</g>\n",
       "<!-- 115 -->\n",
       "<g id=\"node116\" class=\"node\">\n",
       "<title>115</title>\n",
       "<text xml:space=\"preserve\" text-anchor=\"middle\" x=\"2604\" y=\"-12.95\" font-family=\"Courier,monospace\" font-size=\"14.00\" fill=\"#008040\">\"out\"</text>\n",
       "</g>\n",
       "<!-- 114&#45;&#45;115 -->\n",
       "<g id=\"edge115\" class=\"edge\">\n",
       "<title>114--115</title>\n",
       "<path fill=\"none\" stroke=\"black\" d=\"M2670,-71C2670,-71 2644.54,-50.94 2625.25,-35.74\"/>\n",
       "</g>\n",
       "<!-- 116 -->\n",
       "<g id=\"node117\" class=\"node\">\n",
       "<title>116</title>\n",
       "<text xml:space=\"preserve\" text-anchor=\"middle\" x=\"2678\" y=\"-12.95\" font-family=\"Courier,monospace\" font-size=\"14.00\" fill=\"#008040\">Load</text>\n",
       "</g>\n",
       "<!-- 114&#45;&#45;116 -->\n",
       "<g id=\"edge116\" class=\"edge\">\n",
       "<title>114--116</title>\n",
       "<path fill=\"none\" stroke=\"black\" d=\"M2670,-71C2670,-71 2673.09,-50.94 2675.42,-35.74\"/>\n",
       "</g>\n",
       "<!-- 119 -->\n",
       "<g id=\"node120\" class=\"node\">\n",
       "<title>119</title>\n",
       "<text xml:space=\"preserve\" text-anchor=\"middle\" x=\"2786\" y=\"-12.95\" font-family=\"Courier,monospace\" font-size=\"14.00\" fill=\"#008040\">\"c\"</text>\n",
       "</g>\n",
       "<!-- 118&#45;&#45;119 -->\n",
       "<g id=\"edge119\" class=\"edge\">\n",
       "<title>118--119</title>\n",
       "<path fill=\"none\" stroke=\"black\" d=\"M2822,-71C2822,-71 2808.11,-50.94 2797.59,-35.74\"/>\n",
       "</g>\n",
       "<!-- 120 -->\n",
       "<g id=\"node121\" class=\"node\">\n",
       "<title>120</title>\n",
       "<text xml:space=\"preserve\" text-anchor=\"middle\" x=\"2858\" y=\"-12.95\" font-family=\"Courier,monospace\" font-size=\"14.00\" fill=\"#008040\">Load</text>\n",
       "</g>\n",
       "<!-- 118&#45;&#45;120 -->\n",
       "<g id=\"edge120\" class=\"edge\">\n",
       "<title>118--120</title>\n",
       "<path fill=\"none\" stroke=\"black\" d=\"M2822,-71C2822,-71 2835.89,-50.94 2846.41,-35.74\"/>\n",
       "</g>\n",
       "<!-- 122 -->\n",
       "<g id=\"node123\" class=\"node\">\n",
       "<title>122</title>\n",
       "<text xml:space=\"preserve\" text-anchor=\"start\" x=\"2153.25\" y=\"-517.95\" font-family=\"Courier,monospace\" font-weight=\"bold\" font-size=\"14.00\" fill=\"#004080\">BoolOp</text>\n",
       "</g>\n",
       "<!-- 121&#45;&#45;122 -->\n",
       "<g id=\"edge122\" class=\"edge\">\n",
       "<title>121--122</title>\n",
       "<path fill=\"none\" stroke=\"black\" d=\"M1553.58,-589.53C1665.57,-577.6 2033.92,-538.35 2145.61,-526.45\"/>\n",
       "</g>\n",
       "<!-- 123 -->\n",
       "<g id=\"node124\" class=\"node\">\n",
       "<title>123</title>\n",
       "<text xml:space=\"preserve\" text-anchor=\"middle\" x=\"2137\" y=\"-444.95\" font-family=\"Courier,monospace\" font-size=\"14.00\" fill=\"#008040\">And</text>\n",
       "</g>\n",
       "<!-- 122&#45;&#45;123 -->\n",
       "<g id=\"edge123\" class=\"edge\">\n",
       "<title>122--123</title>\n",
       "<path fill=\"none\" stroke=\"black\" d=\"M2186,-503C2186,-503 2167.1,-482.94 2152.77,-467.74\"/>\n",
       "</g>\n",
       "<!-- 124 -->\n",
       "<g id=\"node125\" class=\"node\">\n",
       "<title>124</title>\n",
       "<text xml:space=\"preserve\" text-anchor=\"start\" x=\"2190.12\" y=\"-445.95\" font-family=\"Courier,monospace\" font-weight=\"bold\" font-size=\"14.00\" fill=\"#004080\">Compare</text>\n",
       "</g>\n",
       "<!-- 122&#45;&#45;124 -->\n",
       "<g id=\"edge124\" class=\"edge\">\n",
       "<title>122--124</title>\n",
       "<path fill=\"none\" stroke=\"black\" d=\"M2186,-503C2186,-503 2198.73,-482.94 2208.38,-467.74\"/>\n",
       "</g>\n",
       "<!-- 131 -->\n",
       "<g id=\"node132\" class=\"node\">\n",
       "<title>131</title>\n",
       "<text xml:space=\"preserve\" text-anchor=\"start\" x=\"2350.12\" y=\"-445.95\" font-family=\"Courier,monospace\" font-weight=\"bold\" font-size=\"14.00\" fill=\"#004080\">Compare</text>\n",
       "</g>\n",
       "<!-- 122&#45;&#45;131 -->\n",
       "<g id=\"edge131\" class=\"edge\">\n",
       "<title>122--131</title>\n",
       "<path fill=\"none\" stroke=\"black\" d=\"M2186,-503C2186,-503 2286.25,-475.99 2342.24,-460.9\"/>\n",
       "</g>\n",
       "<!-- 125 -->\n",
       "<g id=\"node126\" class=\"node\">\n",
       "<title>125</title>\n",
       "<text xml:space=\"preserve\" text-anchor=\"start\" x=\"2098\" y=\"-373.95\" font-family=\"Courier,monospace\" font-weight=\"bold\" font-size=\"14.00\" fill=\"#004080\">Constant</text>\n",
       "</g>\n",
       "<!-- 124&#45;&#45;125 -->\n",
       "<g id=\"edge125\" class=\"edge\">\n",
       "<title>124--125</title>\n",
       "<path fill=\"none\" stroke=\"black\" d=\"M2219,-431C2219,-431 2185.05,-410.94 2159.33,-395.74\"/>\n",
       "</g>\n",
       "<!-- 127 -->\n",
       "<g id=\"node128\" class=\"node\">\n",
       "<title>127</title>\n",
       "<text xml:space=\"preserve\" text-anchor=\"middle\" x=\"2219\" y=\"-372.95\" font-family=\"Courier,monospace\" font-size=\"14.00\" fill=\"#008040\">NotIn</text>\n",
       "</g>\n",
       "<!-- 124&#45;&#45;127 -->\n",
       "<g id=\"edge127\" class=\"edge\">\n",
       "<title>124--127</title>\n",
       "<path fill=\"none\" stroke=\"black\" d=\"M2219,-431C2219,-431 2219,-410.94 2219,-395.74\"/>\n",
       "</g>\n",
       "<!-- 128 -->\n",
       "<g id=\"node129\" class=\"node\">\n",
       "<title>128</title>\n",
       "<text xml:space=\"preserve\" text-anchor=\"start\" x=\"2276.5\" y=\"-373.95\" font-family=\"Courier,monospace\" font-weight=\"bold\" font-size=\"14.00\" fill=\"#004080\">Name</text>\n",
       "</g>\n",
       "<!-- 124&#45;&#45;128 -->\n",
       "<g id=\"edge128\" class=\"edge\">\n",
       "<title>124--128</title>\n",
       "<path fill=\"none\" stroke=\"black\" d=\"M2219,-431C2219,-431 2247.55,-410.94 2269.18,-395.74\"/>\n",
       "</g>\n",
       "<!-- 126 -->\n",
       "<g id=\"node127\" class=\"node\">\n",
       "<title>126</title>\n",
       "<text xml:space=\"preserve\" text-anchor=\"middle\" x=\"2189\" y=\"-300.95\" font-family=\"Courier,monospace\" font-size=\"14.00\" fill=\"#008040\">\"&lt;\"</text>\n",
       "</g>\n",
       "<!-- 125&#45;&#45;126 -->\n",
       "<g id=\"edge126\" class=\"edge\">\n",
       "<title>125--126</title>\n",
       "<path fill=\"none\" stroke=\"black\" d=\"M2145.04,-360.05C2154.16,-349.05 2166,-334.76 2175.09,-323.79\"/>\n",
       "</g>\n",
       "<!-- 129 -->\n",
       "<g id=\"node130\" class=\"node\">\n",
       "<title>129</title>\n",
       "<text xml:space=\"preserve\" text-anchor=\"middle\" x=\"2263\" y=\"-300.95\" font-family=\"Courier,monospace\" font-size=\"14.00\" fill=\"#008040\">\"out\"</text>\n",
       "</g>\n",
       "<!-- 128&#45;&#45;129 -->\n",
       "<g id=\"edge129\" class=\"edge\">\n",
       "<title>128--129</title>\n",
       "<path fill=\"none\" stroke=\"black\" d=\"M2294,-359C2294,-359 2282.04,-338.94 2272.98,-323.74\"/>\n",
       "</g>\n",
       "<!-- 130 -->\n",
       "<g id=\"node131\" class=\"node\">\n",
       "<title>130</title>\n",
       "<text xml:space=\"preserve\" text-anchor=\"middle\" x=\"2337\" y=\"-300.95\" font-family=\"Courier,monospace\" font-size=\"14.00\" fill=\"#008040\">Load</text>\n",
       "</g>\n",
       "<!-- 128&#45;&#45;130 -->\n",
       "<g id=\"edge130\" class=\"edge\">\n",
       "<title>128--130</title>\n",
       "<path fill=\"none\" stroke=\"black\" d=\"M2294,-359C2294,-359 2310.59,-338.94 2323.16,-323.74\"/>\n",
       "</g>\n",
       "<!-- 132 -->\n",
       "<g id=\"node133\" class=\"node\">\n",
       "<title>132</title>\n",
       "<text xml:space=\"preserve\" text-anchor=\"start\" x=\"2346\" y=\"-373.95\" font-family=\"Courier,monospace\" font-weight=\"bold\" font-size=\"14.00\" fill=\"#004080\">Constant</text>\n",
       "</g>\n",
       "<!-- 131&#45;&#45;132 -->\n",
       "<g id=\"edge132\" class=\"edge\">\n",
       "<title>131--132</title>\n",
       "<path fill=\"none\" stroke=\"black\" d=\"M2394,-431C2394,-431 2388.21,-410.94 2383.83,-395.74\"/>\n",
       "</g>\n",
       "<!-- 134 -->\n",
       "<g id=\"node135\" class=\"node\">\n",
       "<title>134</title>\n",
       "<text xml:space=\"preserve\" text-anchor=\"middle\" x=\"2467\" y=\"-372.95\" font-family=\"Courier,monospace\" font-size=\"14.00\" fill=\"#008040\">NotIn</text>\n",
       "</g>\n",
       "<!-- 131&#45;&#45;134 -->\n",
       "<g id=\"edge134\" class=\"edge\">\n",
       "<title>131--134</title>\n",
       "<path fill=\"none\" stroke=\"black\" d=\"M2394,-431C2394,-431 2422.16,-410.94 2443.5,-395.74\"/>\n",
       "</g>\n",
       "<!-- 135 -->\n",
       "<g id=\"node136\" class=\"node\">\n",
       "<title>135</title>\n",
       "<text xml:space=\"preserve\" text-anchor=\"start\" x=\"2524.5\" y=\"-373.95\" font-family=\"Courier,monospace\" font-weight=\"bold\" font-size=\"14.00\" fill=\"#004080\">Name</text>\n",
       "</g>\n",
       "<!-- 131&#45;&#45;135 -->\n",
       "<g id=\"edge135\" class=\"edge\">\n",
       "<title>131--135</title>\n",
       "<path fill=\"none\" stroke=\"black\" d=\"M2394,-431C2394,-431 2456.84,-414.87 2505,-396 2507.96,-394.84 2511.02,-393.55 2514.05,-392.21\"/>\n",
       "</g>\n",
       "<!-- 133 -->\n",
       "<g id=\"node134\" class=\"node\">\n",
       "<title>133</title>\n",
       "<text xml:space=\"preserve\" text-anchor=\"middle\" x=\"2409\" y=\"-300.95\" font-family=\"Courier,monospace\" font-size=\"14.00\" fill=\"#008040\">\"&gt;\"</text>\n",
       "</g>\n",
       "<!-- 132&#45;&#45;133 -->\n",
       "<g id=\"edge133\" class=\"edge\">\n",
       "<title>132--133</title>\n",
       "<path fill=\"none\" stroke=\"black\" d=\"M2386.26,-360.05C2390.98,-349.05 2397.1,-334.76 2401.8,-323.79\"/>\n",
       "</g>\n",
       "<!-- 136 -->\n",
       "<g id=\"node137\" class=\"node\">\n",
       "<title>136</title>\n",
       "<text xml:space=\"preserve\" text-anchor=\"middle\" x=\"2527\" y=\"-300.95\" font-family=\"Courier,monospace\" font-size=\"14.00\" fill=\"#008040\">\"out\"</text>\n",
       "</g>\n",
       "<!-- 135&#45;&#45;136 -->\n",
       "<g id=\"edge136\" class=\"edge\">\n",
       "<title>135--136</title>\n",
       "<path fill=\"none\" stroke=\"black\" d=\"M2546,-359C2546,-359 2538.67,-338.94 2533.12,-323.74\"/>\n",
       "</g>\n",
       "<!-- 137 -->\n",
       "<g id=\"node138\" class=\"node\">\n",
       "<title>137</title>\n",
       "<text xml:space=\"preserve\" text-anchor=\"middle\" x=\"2601\" y=\"-300.95\" font-family=\"Courier,monospace\" font-size=\"14.00\" fill=\"#008040\">Load</text>\n",
       "</g>\n",
       "<!-- 135&#45;&#45;137 -->\n",
       "<g id=\"edge137\" class=\"edge\">\n",
       "<title>135--137</title>\n",
       "<path fill=\"none\" stroke=\"black\" d=\"M2546,-359C2546,-359 2567.22,-338.94 2583.29,-323.74\"/>\n",
       "</g>\n",
       "<!-- 139 -->\n",
       "<g id=\"node140\" class=\"node\">\n",
       "<title>139</title>\n",
       "<text xml:space=\"preserve\" text-anchor=\"start\" x=\"2446.5\" y=\"-517.95\" font-family=\"Courier,monospace\" font-weight=\"bold\" font-size=\"14.00\" fill=\"#004080\">Name</text>\n",
       "</g>\n",
       "<!-- 138&#45;&#45;139 -->\n",
       "<g id=\"edge139\" class=\"edge\">\n",
       "<title>138--139</title>\n",
       "<path fill=\"none\" stroke=\"black\" d=\"M2029.4,-588.13C2116.71,-575.02 2355.71,-539.12 2436.16,-527.03\"/>\n",
       "</g>\n",
       "<!-- 140 -->\n",
       "<g id=\"node141\" class=\"node\">\n",
       "<title>140</title>\n",
       "<text xml:space=\"preserve\" text-anchor=\"middle\" x=\"2463\" y=\"-444.95\" font-family=\"Courier,monospace\" font-size=\"14.00\" fill=\"#008040\">\"out\"</text>\n",
       "</g>\n",
       "<!-- 139&#45;&#45;140 -->\n",
       "<g id=\"edge140\" class=\"edge\">\n",
       "<title>139--140</title>\n",
       "<path fill=\"none\" stroke=\"black\" d=\"M2471,-503C2471,-503 2467.91,-482.94 2465.58,-467.74\"/>\n",
       "</g>\n",
       "<!-- 141 -->\n",
       "<g id=\"node142\" class=\"node\">\n",
       "<title>141</title>\n",
       "<text xml:space=\"preserve\" text-anchor=\"middle\" x=\"2537\" y=\"-444.95\" font-family=\"Courier,monospace\" font-size=\"14.00\" fill=\"#008040\">Load</text>\n",
       "</g>\n",
       "<!-- 139&#45;&#45;141 -->\n",
       "<g id=\"edge141\" class=\"edge\">\n",
       "<title>139--141</title>\n",
       "<path fill=\"none\" stroke=\"black\" d=\"M2471,-503C2471,-503 2496.46,-482.94 2515.75,-467.74\"/>\n",
       "</g>\n",
       "</g>\n",
       "</svg>"
      ],
      "text/plain": [
       "<IPython.core.display.SVG object>"
      ]
     },
     "metadata": {},
     "output_type": "display_data"
    }
   ],
   "source": [
    "show_ast(fun_tree)"
   ]
  },
  {
   "cell_type": "markdown",
   "metadata": {
    "slideshow": {
     "slide_type": "fragment"
    }
   },
   "source": [
    "Let us add some tests to this, using the same scheme:"
   ]
  },
  {
   "cell_type": "code",
   "execution_count": 147,
   "metadata": {
    "execution": {
     "iopub.execute_input": "2025-10-26T17:47:41.533996Z",
     "iopub.status.busy": "2025-10-26T17:47:41.533873Z",
     "iopub.status.idle": "2025-10-26T17:47:41.535521Z",
     "shell.execute_reply": "2025-10-26T17:47:41.535291Z"
    },
    "slideshow": {
     "slide_type": "fragment"
    }
   },
   "outputs": [],
   "source": [
    "test_source = (\n",
    "    '''if remove_html_markup('<foo>bar</foo>') != 'bar':\\n''' +\n",
    "    '''    raise RuntimeError(\"Missing functionality\")\\n''' +\n",
    "    '''assert remove_html_markup('\"foo\"') == '\"foo\"', \"My Test\"'''\n",
    ")"
   ]
  },
  {
   "cell_type": "code",
   "execution_count": 148,
   "metadata": {
    "execution": {
     "iopub.execute_input": "2025-10-26T17:47:41.536918Z",
     "iopub.status.busy": "2025-10-26T17:47:41.536823Z",
     "iopub.status.idle": "2025-10-26T17:47:41.538585Z",
     "shell.execute_reply": "2025-10-26T17:47:41.538341Z"
    },
    "slideshow": {
     "slide_type": "fragment"
    }
   },
   "outputs": [],
   "source": [
    "test_tree: ast.Module = ast.parse(test_source)"
   ]
  },
  {
   "cell_type": "code",
   "execution_count": 149,
   "metadata": {
    "execution": {
     "iopub.execute_input": "2025-10-26T17:47:41.540032Z",
     "iopub.status.busy": "2025-10-26T17:47:41.539933Z",
     "iopub.status.idle": "2025-10-26T17:47:41.553371Z",
     "shell.execute_reply": "2025-10-26T17:47:41.553061Z"
    },
    "slideshow": {
     "slide_type": "subslide"
    }
   },
   "outputs": [
    {
     "name": "stdout",
     "output_type": "stream",
     "text": [
      "\u001b[34mif\u001b[39;49;00m remove_html_markup(\u001b[33m'\u001b[39;49;00m\u001b[33m<foo>bar</foo>\u001b[39;49;00m\u001b[33m'\u001b[39;49;00m) != \u001b[33m'\u001b[39;49;00m\u001b[33mbar\u001b[39;49;00m\u001b[33m'\u001b[39;49;00m:\u001b[37m\u001b[39;49;00m\n",
      "    \u001b[34mraise\u001b[39;49;00m \u001b[36mRuntimeError\u001b[39;49;00m(\u001b[33m'\u001b[39;49;00m\u001b[33mMissing functionality\u001b[39;49;00m\u001b[33m'\u001b[39;49;00m)\u001b[37m\u001b[39;49;00m\n",
      "\u001b[34massert\u001b[39;49;00m remove_html_markup(\u001b[33m'\u001b[39;49;00m\u001b[33m\"\u001b[39;49;00m\u001b[33mfoo\u001b[39;49;00m\u001b[33m\"\u001b[39;49;00m\u001b[33m'\u001b[39;49;00m) == \u001b[33m'\u001b[39;49;00m\u001b[33m\"\u001b[39;49;00m\u001b[33mfoo\u001b[39;49;00m\u001b[33m\"\u001b[39;49;00m\u001b[33m'\u001b[39;49;00m, \u001b[33m'\u001b[39;49;00m\u001b[33mMy Test\u001b[39;49;00m\u001b[33m'\u001b[39;49;00m\u001b[37m\u001b[39;49;00m"
     ]
    }
   ],
   "source": [
    "print_content(ast.unparse(test_tree), '.py')"
   ]
  },
  {
   "cell_type": "markdown",
   "metadata": {
    "slideshow": {
     "slide_type": "fragment"
    }
   },
   "source": [
    "We can merge the function definition tree and the test tree into a single one:"
   ]
  },
  {
   "cell_type": "code",
   "execution_count": 150,
   "metadata": {
    "execution": {
     "iopub.execute_input": "2025-10-26T17:47:41.555250Z",
     "iopub.status.busy": "2025-10-26T17:47:41.555124Z",
     "iopub.status.idle": "2025-10-26T17:47:41.556780Z",
     "shell.execute_reply": "2025-10-26T17:47:41.556549Z"
    },
    "slideshow": {
     "slide_type": "skip"
    }
   },
   "outputs": [],
   "source": [
    "import copy"
   ]
  },
  {
   "cell_type": "code",
   "execution_count": 151,
   "metadata": {
    "execution": {
     "iopub.execute_input": "2025-10-26T17:47:41.557951Z",
     "iopub.status.busy": "2025-10-26T17:47:41.557877Z",
     "iopub.status.idle": "2025-10-26T17:47:41.559912Z",
     "shell.execute_reply": "2025-10-26T17:47:41.559701Z"
    },
    "slideshow": {
     "slide_type": "fragment"
    }
   },
   "outputs": [],
   "source": [
    "fun_test_tree = copy.deepcopy(fun_tree)\n",
    "fun_test_tree.body += test_tree.body"
   ]
  },
  {
   "cell_type": "markdown",
   "metadata": {
    "slideshow": {
     "slide_type": "fragment"
    }
   },
   "source": [
    "Such a tree can be compiled into a code object, using Python's `compile()` function:"
   ]
  },
  {
   "cell_type": "code",
   "execution_count": 152,
   "metadata": {
    "execution": {
     "iopub.execute_input": "2025-10-26T17:47:41.561110Z",
     "iopub.status.busy": "2025-10-26T17:47:41.561044Z",
     "iopub.status.idle": "2025-10-26T17:47:41.562523Z",
     "shell.execute_reply": "2025-10-26T17:47:41.562311Z"
    },
    "slideshow": {
     "slide_type": "fragment"
    }
   },
   "outputs": [],
   "source": [
    "fun_test_code = compile(fun_test_tree, '<string>', 'exec')"
   ]
  },
  {
   "cell_type": "markdown",
   "metadata": {
    "slideshow": {
     "slide_type": "fragment"
    }
   },
   "source": [
    "and the resulting code object can be executed directly, using the Python `exec()` function. We see that our test fails as expected."
   ]
  },
  {
   "cell_type": "code",
   "execution_count": 153,
   "metadata": {
    "execution": {
     "iopub.execute_input": "2025-10-26T17:47:41.563726Z",
     "iopub.status.busy": "2025-10-26T17:47:41.563653Z",
     "iopub.status.idle": "2025-10-26T17:47:41.565682Z",
     "shell.execute_reply": "2025-10-26T17:47:41.565291Z"
    },
    "slideshow": {
     "slide_type": "subslide"
    }
   },
   "outputs": [
    {
     "name": "stderr",
     "output_type": "stream",
     "text": [
      "Traceback (most recent call last):\n",
      "  File \"/var/folders/n2/xd9445p97rb3xh7m1dfx8_4h0006ts/T/ipykernel_51600/1290587190.py\", line 2, in <module>\n",
      "    exec(fun_test_code, {}, {})\n",
      "    ~~~~^^^^^^^^^^^^^^^^^^^^^^^\n",
      "  File \"<string>\", line 3, in <module>\n",
      "AssertionError: My Test (expected)\n"
     ]
    }
   ],
   "source": [
    "with ExpectError(AssertionError):\n",
    "    exec(fun_test_code, {}, {})"
   ]
  },
  {
   "cell_type": "markdown",
   "metadata": {
    "slideshow": {
     "slide_type": "subslide"
    }
   },
   "source": [
    "#### Traversing Syntax Trees\n",
    "\n",
    "Our goal is now to reduce this tree (or at least the subtree with the function definition) to a minimum. \n",
    "To this end, we manipulate the AST through the `ast` Python module. The [official Python `ast` reference](http://docs.python.org/3/library/ast) is complete, but a bit brief; the documentation [\"Green Tree Snakes - the missing Python AST docs\"](https://greentreesnakes.readthedocs.io/en/latest/) provides an excellent introduction."
   ]
  },
  {
   "cell_type": "markdown",
   "metadata": {
    "slideshow": {
     "slide_type": "subslide"
    }
   },
   "source": [
    "The two means for exploring and changing ASTs are the classes `NodeVisitor` and `NodeTransformer`, respectively. We start with creating a list of all nodes in the tree, using a `NodeVisitor` subclass.\n",
    "\n",
    "Its `visit()` method is called for every node in the tree, which we achieve by having it return `self.generic_visit()` for the current node. It saves all visited nodes in the `_all_nodes` attribute."
   ]
  },
  {
   "cell_type": "code",
   "execution_count": 154,
   "metadata": {
    "execution": {
     "iopub.execute_input": "2025-10-26T17:47:41.567285Z",
     "iopub.status.busy": "2025-10-26T17:47:41.567191Z",
     "iopub.status.idle": "2025-10-26T17:47:41.568702Z",
     "shell.execute_reply": "2025-10-26T17:47:41.568479Z"
    },
    "slideshow": {
     "slide_type": "skip"
    }
   },
   "outputs": [],
   "source": [
    "from ast import NodeTransformer, NodeVisitor, AST"
   ]
  },
  {
   "cell_type": "code",
   "execution_count": 155,
   "metadata": {
    "execution": {
     "iopub.execute_input": "2025-10-26T17:47:41.569907Z",
     "iopub.status.busy": "2025-10-26T17:47:41.569835Z",
     "iopub.status.idle": "2025-10-26T17:47:41.571893Z",
     "shell.execute_reply": "2025-10-26T17:47:41.571667Z"
    },
    "slideshow": {
     "slide_type": "subslide"
    }
   },
   "outputs": [],
   "source": [
    "class NodeCollector(NodeVisitor):\n",
    "    \"\"\"Collect all nodes in an AST.\"\"\"\n",
    "\n",
    "    def __init__(self) -> None:\n",
    "        super().__init__()\n",
    "        self._all_nodes: List[AST] = []\n",
    "\n",
    "    def generic_visit(self, node: AST) -> None:\n",
    "        self._all_nodes.append(node)\n",
    "        return super().generic_visit(node)\n",
    "\n",
    "    def collect(self, tree: AST) -> List[AST]:\n",
    "        \"\"\"Return a list of all nodes in tree.\"\"\"\n",
    "        self._all_nodes = []\n",
    "        self.visit(tree)\n",
    "        return self._all_nodes"
   ]
  },
  {
   "cell_type": "markdown",
   "metadata": {
    "slideshow": {
     "slide_type": "subslide"
    }
   },
   "source": [
    "This is how our `NodeCollector()` class produces a list of all nodes:"
   ]
  },
  {
   "cell_type": "code",
   "execution_count": 156,
   "metadata": {
    "execution": {
     "iopub.execute_input": "2025-10-26T17:47:41.573101Z",
     "iopub.status.busy": "2025-10-26T17:47:41.573027Z",
     "iopub.status.idle": "2025-10-26T17:47:41.575055Z",
     "shell.execute_reply": "2025-10-26T17:47:41.574810Z"
    },
    "slideshow": {
     "slide_type": "fragment"
    }
   },
   "outputs": [
    {
     "data": {
      "text/plain": [
       "107"
      ]
     },
     "execution_count": 156,
     "metadata": {},
     "output_type": "execute_result"
    }
   ],
   "source": [
    "fun_nodes = NodeCollector().collect(fun_tree)\n",
    "len(fun_nodes)"
   ]
  },
  {
   "cell_type": "code",
   "execution_count": 157,
   "metadata": {
    "execution": {
     "iopub.execute_input": "2025-10-26T17:47:41.576223Z",
     "iopub.status.busy": "2025-10-26T17:47:41.576151Z",
     "iopub.status.idle": "2025-10-26T17:47:41.578033Z",
     "shell.execute_reply": "2025-10-26T17:47:41.577765Z"
    },
    "slideshow": {
     "slide_type": "subslide"
    }
   },
   "outputs": [
    {
     "data": {
      "text/plain": [
       "[<ast.Module at 0x10bb58750>,\n",
       " <ast.FunctionDef at 0x10bb5b9d0>,\n",
       " <ast.arguments at 0x10bb58d90>,\n",
       " <ast.arg at 0x10bb5ad90>,\n",
       " <ast.Assign at 0x10b76da10>,\n",
       " <ast.Name at 0x10bb5afd0>,\n",
       " <ast.Store at 0x1078e1bd0>,\n",
       " <ast.Constant at 0x10bb8ef10>,\n",
       " <ast.Assign at 0x10bb8e050>,\n",
       " <ast.Name at 0x10bb8f250>,\n",
       " <ast.Store at 0x1078e1bd0>,\n",
       " <ast.Constant at 0x10bb8e810>,\n",
       " <ast.Assign at 0x10bb8e210>,\n",
       " <ast.Name at 0x10bb8eb90>,\n",
       " <ast.Store at 0x1078e1bd0>,\n",
       " <ast.Constant at 0x10bb8e5d0>,\n",
       " <ast.For at 0x10bb8f810>,\n",
       " <ast.Name at 0x10bb8eb10>,\n",
       " <ast.Store at 0x1078e1bd0>,\n",
       " <ast.Name at 0x10bb8fc90>,\n",
       " <ast.Load at 0x1078e1b50>,\n",
       " <ast.If at 0x10bb8f010>,\n",
       " <ast.BoolOp at 0x10bb8f9d0>,\n",
       " <ast.And at 0x1078e1e10>,\n",
       " <ast.Compare at 0x10bb8f150>,\n",
       " <ast.Name at 0x10bb8f350>,\n",
       " <ast.Load at 0x1078e1b50>,\n",
       " <ast.Eq at 0x1078e2b50>,\n",
       " <ast.Constant at 0x10bb8e290>,\n",
       " <ast.UnaryOp at 0x10a2a0cd0>]"
      ]
     },
     "execution_count": 157,
     "metadata": {},
     "output_type": "execute_result"
    }
   ],
   "source": [
    "fun_nodes[:30]"
   ]
  },
  {
   "cell_type": "markdown",
   "metadata": {
    "slideshow": {
     "slide_type": "subslide"
    }
   },
   "source": [
    "Such a list of nodes is what we can feed into Delta Debugging in order to reduce it. The idea is that with every test, we take the tree and for each node in the tree, we check whether it is still in the list – if not, we remove it. Thus, by reducing the list of nodes, we simultaneously reduce the tree as well."
   ]
  },
  {
   "cell_type": "markdown",
   "metadata": {
    "slideshow": {
     "slide_type": "subslide"
    }
   },
   "source": [
    "#### Deleting Nodes\n",
    "\n",
    "In our next step, we write some code that, given such a list of nodes, _prunes_ the tree such that _only_ elements in the list are still contained. To this end, we proceed in four steps:\n",
    "\n",
    "1. We traverse the original AST, _marking_ all nodes as \"to be deleted\".\n",
    "2. We traverse the given list of nodes, clearing their markers.\n",
    "3. We copy the original tree (including the markers) into a new tree – the one to be reduced.\n",
    "4. We traverse the new tree, now deleting all marked nodes."
   ]
  },
  {
   "cell_type": "markdown",
   "metadata": {
    "slideshow": {
     "slide_type": "subslide"
    }
   },
   "source": [
    "Why do we go through such an extra effort? The reason is that our list of nodes contains references into the _original_ tree – a tree that needs to stay unchanged such that we can reuse it for later. The new tree (the copy) has the same nodes, but at different addresses, so our original references cannot be used anymore. Markers, however, just like any other attributes, are safely copied from the original into the new tree."
   ]
  },
  {
   "cell_type": "markdown",
   "metadata": {
    "slideshow": {
     "slide_type": "fragment"
    }
   },
   "source": [
    "The `NodeMarker()` visitor marks all nodes in a tree:"
   ]
  },
  {
   "cell_type": "code",
   "execution_count": 158,
   "metadata": {
    "execution": {
     "iopub.execute_input": "2025-10-26T17:47:41.579402Z",
     "iopub.status.busy": "2025-10-26T17:47:41.579332Z",
     "iopub.status.idle": "2025-10-26T17:47:41.580798Z",
     "shell.execute_reply": "2025-10-26T17:47:41.580560Z"
    },
    "slideshow": {
     "slide_type": "fragment"
    }
   },
   "outputs": [],
   "source": [
    "class NodeMarker(NodeVisitor):\n",
    "    def visit(self, node: AST) -> AST:\n",
    "        node.marked = True  # type: ignore\n",
    "        return super().generic_visit(node)"
   ]
  },
  {
   "cell_type": "markdown",
   "metadata": {
    "slideshow": {
     "slide_type": "subslide"
    }
   },
   "source": [
    "The `NodeReducer()` transformer reduces all marked nodes. If a method `visit_<node class>()` is defined, it will be invoked; otherwise, `visit_Node()` is invoked, which _deletes_ the node (and its subtree) by returning `None`. "
   ]
  },
  {
   "cell_type": "code",
   "execution_count": 159,
   "metadata": {
    "execution": {
     "iopub.execute_input": "2025-10-26T17:47:41.582017Z",
     "iopub.status.busy": "2025-10-26T17:47:41.581921Z",
     "iopub.status.idle": "2025-10-26T17:47:41.584239Z",
     "shell.execute_reply": "2025-10-26T17:47:41.584001Z"
    },
    "slideshow": {
     "slide_type": "subslide"
    }
   },
   "outputs": [],
   "source": [
    "class NodeReducer(NodeTransformer):\n",
    "    def visit(self, node: AST) -> Any:\n",
    "        method = 'visit_' + node.__class__.__name__\n",
    "        visitor = getattr(self, method, self.visit_Node)\n",
    "        return visitor(node)\n",
    "\n",
    "    def visit_Module(self, node: AST) -> Any:\n",
    "        # Can't remove modules\n",
    "        return super().generic_visit(node)\n",
    "\n",
    "    def visit_Node(self, node: AST) -> Any:\n",
    "        \"\"\"Default visitor for all nodes\"\"\"\n",
    "        if node.marked:  # type: ignore\n",
    "            return None  # delete it\n",
    "        return super().generic_visit(node)"
   ]
  },
  {
   "cell_type": "markdown",
   "metadata": {
    "slideshow": {
     "slide_type": "subslide"
    }
   },
   "source": [
    "Our function `copy_and_reduce()` puts these pieces together:"
   ]
  },
  {
   "cell_type": "code",
   "execution_count": 160,
   "metadata": {
    "execution": {
     "iopub.execute_input": "2025-10-26T17:47:41.585484Z",
     "iopub.status.busy": "2025-10-26T17:47:41.585395Z",
     "iopub.status.idle": "2025-10-26T17:47:41.587042Z",
     "shell.execute_reply": "2025-10-26T17:47:41.586847Z"
    },
    "slideshow": {
     "slide_type": "fragment"
    }
   },
   "outputs": [],
   "source": [
    "def copy_and_reduce(tree: AST, keep_list: List[AST]) -> AST:\n",
    "    \"\"\"Copy tree, reducing all nodes that are not in keep_list.\"\"\"\n",
    "\n",
    "    # Mark all nodes except those in keep_list\n",
    "    NodeMarker().visit(tree)\n",
    "    for node in keep_list:\n",
    "        # print(\"Clearing\", node)\n",
    "        node.marked = False  # type: ignore\n",
    "\n",
    "    # Copy tree and delete marked nodes\n",
    "    new_tree = copy.deepcopy(tree)\n",
    "    NodeReducer().visit(new_tree)\n",
    "    return new_tree"
   ]
  },
  {
   "cell_type": "markdown",
   "metadata": {
    "slideshow": {
     "slide_type": "subslide"
    }
   },
   "source": [
    "Let us apply this in practice. We take the first assignment in our tree..."
   ]
  },
  {
   "cell_type": "code",
   "execution_count": 161,
   "metadata": {
    "execution": {
     "iopub.execute_input": "2025-10-26T17:47:41.588289Z",
     "iopub.status.busy": "2025-10-26T17:47:41.588216Z",
     "iopub.status.idle": "2025-10-26T17:47:41.590077Z",
     "shell.execute_reply": "2025-10-26T17:47:41.589871Z"
    },
    "slideshow": {
     "slide_type": "fragment"
    }
   },
   "outputs": [
    {
     "data": {
      "text/plain": [
       "<ast.Assign at 0x10b76da10>"
      ]
     },
     "execution_count": 161,
     "metadata": {},
     "output_type": "execute_result"
    }
   ],
   "source": [
    "fun_nodes[4]"
   ]
  },
  {
   "cell_type": "markdown",
   "metadata": {
    "slideshow": {
     "slide_type": "fragment"
    }
   },
   "source": [
    "... whose subtree happens to be the assignment to `tag`:"
   ]
  },
  {
   "cell_type": "code",
   "execution_count": 162,
   "metadata": {
    "execution": {
     "iopub.execute_input": "2025-10-26T17:47:41.591207Z",
     "iopub.status.busy": "2025-10-26T17:47:41.591137Z",
     "iopub.status.idle": "2025-10-26T17:47:41.592949Z",
     "shell.execute_reply": "2025-10-26T17:47:41.592737Z"
    },
    "slideshow": {
     "slide_type": "fragment"
    }
   },
   "outputs": [
    {
     "data": {
      "text/plain": [
       "'tag = False'"
      ]
     },
     "execution_count": 162,
     "metadata": {},
     "output_type": "execute_result"
    }
   ],
   "source": [
    "ast.unparse(fun_nodes[4])"
   ]
  },
  {
   "cell_type": "markdown",
   "metadata": {
    "slideshow": {
     "slide_type": "fragment"
    }
   },
   "source": [
    "We keep all nodes _except_ for this one."
   ]
  },
  {
   "cell_type": "code",
   "execution_count": 163,
   "metadata": {
    "execution": {
     "iopub.execute_input": "2025-10-26T17:47:41.594328Z",
     "iopub.status.busy": "2025-10-26T17:47:41.594158Z",
     "iopub.status.idle": "2025-10-26T17:47:41.596121Z",
     "shell.execute_reply": "2025-10-26T17:47:41.595828Z"
    },
    "slideshow": {
     "slide_type": "fragment"
    }
   },
   "outputs": [],
   "source": [
    "keep_list = fun_nodes.copy()\n",
    "del keep_list[4]"
   ]
  },
  {
   "cell_type": "markdown",
   "metadata": {
    "slideshow": {
     "slide_type": "fragment"
    }
   },
   "source": [
    "Let us now create a copy of the tree in which the assignment is missing:"
   ]
  },
  {
   "cell_type": "code",
   "execution_count": 164,
   "metadata": {
    "execution": {
     "iopub.execute_input": "2025-10-26T17:47:41.597563Z",
     "iopub.status.busy": "2025-10-26T17:47:41.597471Z",
     "iopub.status.idle": "2025-10-26T17:47:41.974943Z",
     "shell.execute_reply": "2025-10-26T17:47:41.974597Z"
    },
    "slideshow": {
     "slide_type": "fragment"
    }
   },
   "outputs": [
    {
     "data": {
      "image/svg+xml": [
       "<svg xmlns=\"http://www.w3.org/2000/svg\" xmlns:xlink=\"http://www.w3.org/1999/xlink\" width=\"2681pt\" height=\"692pt\" viewBox=\"0.00 0.00 2681.00 692.00\">\n",
       "<g id=\"graph0\" class=\"graph\" transform=\"scale(1 1) rotate(0) translate(4 688)\">\n",
       "<polygon fill=\"white\" stroke=\"none\" points=\"-4,4 -4,-688 2676.5,-688 2676.5,4 -4,4\"/>\n",
       "<!-- 0 -->\n",
       "<g id=\"node1\" class=\"node\">\n",
       "<title>0</title>\n",
       "<text xml:space=\"preserve\" text-anchor=\"start\" x=\"433.12\" y=\"-661.95\" font-family=\"Courier,monospace\" font-weight=\"bold\" font-size=\"14.00\" fill=\"#004080\">FunctionDef</text>\n",
       "</g>\n",
       "<!-- 1 -->\n",
       "<g id=\"node2\" class=\"node\">\n",
       "<title>1</title>\n",
       "<text xml:space=\"preserve\" text-anchor=\"middle\" x=\"90.5\" y=\"-588.95\" font-family=\"Courier,monospace\" font-size=\"14.00\" fill=\"#008040\">\"remove_html_markup\"</text>\n",
       "</g>\n",
       "<!-- 0&#45;&#45;1 -->\n",
       "<g id=\"edge1\" class=\"edge\">\n",
       "<title>0--1</title>\n",
       "<path fill=\"none\" stroke=\"black\" d=\"M479.5,-647C479.5,-647 318.54,-630.63 190.5,-612 187.36,-611.54 184.17,-611.07 180.95,-610.58\"/>\n",
       "</g>\n",
       "<!-- 2 -->\n",
       "<g id=\"node3\" class=\"node\">\n",
       "<title>2</title>\n",
       "<text xml:space=\"preserve\" text-anchor=\"start\" x=\"207.38\" y=\"-589.95\" font-family=\"Courier,monospace\" font-weight=\"bold\" font-size=\"14.00\" fill=\"#004080\">arguments</text>\n",
       "</g>\n",
       "<!-- 0&#45;&#45;2 -->\n",
       "<g id=\"edge2\" class=\"edge\">\n",
       "<title>0--2</title>\n",
       "<path fill=\"none\" stroke=\"black\" d=\"M479.5,-647C479.5,-647 377.93,-632.11 298.5,-612 295.55,-611.25 292.52,-610.44 289.47,-609.58\"/>\n",
       "</g>\n",
       "<!-- 5 -->\n",
       "<g id=\"node6\" class=\"node\">\n",
       "<title>5</title>\n",
       "<text xml:space=\"preserve\" text-anchor=\"start\" x=\"315.75\" y=\"-589.95\" font-family=\"Courier,monospace\" font-weight=\"bold\" font-size=\"14.00\" fill=\"#004080\">Assign</text>\n",
       "</g>\n",
       "<!-- 0&#45;&#45;5 -->\n",
       "<g id=\"edge5\" class=\"edge\">\n",
       "<title>0--5</title>\n",
       "<path fill=\"none\" stroke=\"black\" d=\"M479.5,-647C479.5,-647 414.17,-622.56 373.09,-607.19\"/>\n",
       "</g>\n",
       "<!-- 11 -->\n",
       "<g id=\"node12\" class=\"node\">\n",
       "<title>11</title>\n",
       "<text xml:space=\"preserve\" text-anchor=\"start\" x=\"453.75\" y=\"-589.95\" font-family=\"Courier,monospace\" font-weight=\"bold\" font-size=\"14.00\" fill=\"#004080\">Assign</text>\n",
       "</g>\n",
       "<!-- 0&#45;&#45;11 -->\n",
       "<g id=\"edge11\" class=\"edge\">\n",
       "<title>0--11</title>\n",
       "<path fill=\"none\" stroke=\"black\" d=\"M479.5,-647C479.5,-647 479.11,-626.94 478.82,-611.74\"/>\n",
       "</g>\n",
       "<!-- 17 -->\n",
       "<g id=\"node18\" class=\"node\">\n",
       "<title>17</title>\n",
       "<text xml:space=\"preserve\" text-anchor=\"start\" x=\"676.12\" y=\"-589.95\" font-family=\"Courier,monospace\" font-weight=\"bold\" font-size=\"14.00\" fill=\"#004080\">For</text>\n",
       "</g>\n",
       "<!-- 0&#45;&#45;17 -->\n",
       "<g id=\"edge17\" class=\"edge\">\n",
       "<title>0--17</title>\n",
       "<path fill=\"none\" stroke=\"black\" d=\"M479.5,-647C479.5,-647 605.16,-615.74 661.6,-601.69\"/>\n",
       "</g>\n",
       "<!-- 115 -->\n",
       "<g id=\"node116\" class=\"node\">\n",
       "<title>115</title>\n",
       "<text xml:space=\"preserve\" text-anchor=\"start\" x=\"1324.75\" y=\"-589.95\" font-family=\"Courier,monospace\" font-weight=\"bold\" font-size=\"14.00\" fill=\"#004080\">Assert</text>\n",
       "</g>\n",
       "<!-- 0&#45;&#45;115 -->\n",
       "<g id=\"edge115\" class=\"edge\">\n",
       "<title>0--115</title>\n",
       "<path fill=\"none\" stroke=\"black\" d=\"M479.5,-647C479.5,-647 1159.04,-606.38 1316.98,-596.94\"/>\n",
       "</g>\n",
       "<!-- 132 -->\n",
       "<g id=\"node133\" class=\"node\">\n",
       "<title>132</title>\n",
       "<text xml:space=\"preserve\" text-anchor=\"start\" x=\"1779.75\" y=\"-589.95\" font-family=\"Courier,monospace\" font-weight=\"bold\" font-size=\"14.00\" fill=\"#004080\">Return</text>\n",
       "</g>\n",
       "<!-- 0&#45;&#45;132 -->\n",
       "<g id=\"edge132\" class=\"edge\">\n",
       "<title>0--132</title>\n",
       "<path fill=\"none\" stroke=\"black\" d=\"M479.5,-647C479.5,-647 986.19,-628.12 1391.5,-612 1533.12,-606.37 1702.04,-599.31 1771.84,-596.38\"/>\n",
       "</g>\n",
       "<!-- 3 -->\n",
       "<g id=\"node4\" class=\"node\">\n",
       "<title>3</title>\n",
       "<text xml:space=\"preserve\" text-anchor=\"start\" x=\"75.12\" y=\"-517.95\" font-family=\"Courier,monospace\" font-weight=\"bold\" font-size=\"14.00\" fill=\"#004080\">arg</text>\n",
       "</g>\n",
       "<!-- 2&#45;&#45;3 -->\n",
       "<g id=\"edge3\" class=\"edge\">\n",
       "<title>2--3</title>\n",
       "<path fill=\"none\" stroke=\"black\" d=\"M206.49,-576.05C178,-563.35 139.7,-546.27 114.34,-534.97\"/>\n",
       "</g>\n",
       "<!-- 4 -->\n",
       "<g id=\"node5\" class=\"node\">\n",
       "<title>4</title>\n",
       "<text xml:space=\"preserve\" text-anchor=\"middle\" x=\"40.5\" y=\"-444.95\" font-family=\"Courier,monospace\" font-size=\"14.00\" fill=\"#008040\">\"s\"</text>\n",
       "</g>\n",
       "<!-- 3&#45;&#45;4 -->\n",
       "<g id=\"edge4\" class=\"edge\">\n",
       "<title>3--4</title>\n",
       "<path fill=\"none\" stroke=\"black\" d=\"M76.12,-504.05C68.73,-493.05 59.14,-478.76 51.77,-467.79\"/>\n",
       "</g>\n",
       "<!-- 6 -->\n",
       "<g id=\"node7\" class=\"node\">\n",
       "<title>6</title>\n",
       "<text xml:space=\"preserve\" text-anchor=\"start\" x=\"190\" y=\"-517.95\" font-family=\"Courier,monospace\" font-weight=\"bold\" font-size=\"14.00\" fill=\"#004080\">Name</text>\n",
       "</g>\n",
       "<!-- 5&#45;&#45;6 -->\n",
       "<g id=\"edge6\" class=\"edge\">\n",
       "<title>5--6</title>\n",
       "<path fill=\"none\" stroke=\"black\" d=\"M324.5,-575C324.5,-575 268.09,-550.14 233.28,-534.8\"/>\n",
       "</g>\n",
       "<!-- 9 -->\n",
       "<g id=\"node10\" class=\"node\">\n",
       "<title>9</title>\n",
       "<text xml:space=\"preserve\" text-anchor=\"start\" x=\"280.5\" y=\"-517.95\" font-family=\"Courier,monospace\" font-weight=\"bold\" font-size=\"14.00\" fill=\"#004080\">Constant</text>\n",
       "</g>\n",
       "<!-- 5&#45;&#45;9 -->\n",
       "<g id=\"edge9\" class=\"edge\">\n",
       "<title>5--9</title>\n",
       "<path fill=\"none\" stroke=\"black\" d=\"M324.5,-575C324.5,-575 320.26,-554.94 317.04,-539.74\"/>\n",
       "</g>\n",
       "<!-- 7 -->\n",
       "<g id=\"node8\" class=\"node\">\n",
       "<title>7</title>\n",
       "<text xml:space=\"preserve\" text-anchor=\"middle\" x=\"122.5\" y=\"-444.95\" font-family=\"Courier,monospace\" font-size=\"14.00\" fill=\"#008040\">\"quote\"</text>\n",
       "</g>\n",
       "<!-- 6&#45;&#45;7 -->\n",
       "<g id=\"edge7\" class=\"edge\">\n",
       "<title>6--7</title>\n",
       "<path fill=\"none\" stroke=\"black\" d=\"M198.5,-503C198.5,-503 169.18,-482.94 146.97,-467.74\"/>\n",
       "</g>\n",
       "<!-- 8 -->\n",
       "<g id=\"node9\" class=\"node\">\n",
       "<title>8</title>\n",
       "<text xml:space=\"preserve\" text-anchor=\"middle\" x=\"206.5\" y=\"-444.95\" font-family=\"Courier,monospace\" font-size=\"14.00\" fill=\"#008040\">Store</text>\n",
       "</g>\n",
       "<!-- 6&#45;&#45;8 -->\n",
       "<g id=\"edge8\" class=\"edge\">\n",
       "<title>6--8</title>\n",
       "<path fill=\"none\" stroke=\"black\" d=\"M198.5,-503C198.5,-503 201.59,-482.94 203.92,-467.74\"/>\n",
       "</g>\n",
       "<!-- 10 -->\n",
       "<g id=\"node11\" class=\"node\">\n",
       "<title>10</title>\n",
       "<text xml:space=\"preserve\" text-anchor=\"middle\" x=\"281.5\" y=\"-444.95\" font-family=\"Courier,monospace\" font-size=\"14.00\" fill=\"#008040\">False</text>\n",
       "</g>\n",
       "<!-- 9&#45;&#45;10 -->\n",
       "<g id=\"edge10\" class=\"edge\">\n",
       "<title>9--10</title>\n",
       "<path fill=\"none\" stroke=\"black\" d=\"M305.75,-504.05C300.72,-493.05 294.19,-478.76 289.17,-467.79\"/>\n",
       "</g>\n",
       "<!-- 12 -->\n",
       "<g id=\"node13\" class=\"node\">\n",
       "<title>12</title>\n",
       "<text xml:space=\"preserve\" text-anchor=\"start\" x=\"403\" y=\"-517.95\" font-family=\"Courier,monospace\" font-weight=\"bold\" font-size=\"14.00\" fill=\"#004080\">Name</text>\n",
       "</g>\n",
       "<!-- 11&#45;&#45;12 -->\n",
       "<g id=\"edge12\" class=\"edge\">\n",
       "<title>11--12</title>\n",
       "<path fill=\"none\" stroke=\"black\" d=\"M475.5,-575C475.5,-575 453.9,-554.94 437.53,-539.74\"/>\n",
       "</g>\n",
       "<!-- 15 -->\n",
       "<g id=\"node16\" class=\"node\">\n",
       "<title>15</title>\n",
       "<text xml:space=\"preserve\" text-anchor=\"start\" x=\"472.5\" y=\"-517.95\" font-family=\"Courier,monospace\" font-weight=\"bold\" font-size=\"14.00\" fill=\"#004080\">Constant</text>\n",
       "</g>\n",
       "<!-- 11&#45;&#45;15 -->\n",
       "<g id=\"edge15\" class=\"edge\">\n",
       "<title>11--15</title>\n",
       "<path fill=\"none\" stroke=\"black\" d=\"M475.5,-575C475.5,-575 487.07,-554.94 495.84,-539.74\"/>\n",
       "</g>\n",
       "<!-- 13 -->\n",
       "<g id=\"node14\" class=\"node\">\n",
       "<title>13</title>\n",
       "<text xml:space=\"preserve\" text-anchor=\"middle\" x=\"356.5\" y=\"-444.95\" font-family=\"Courier,monospace\" font-size=\"14.00\" fill=\"#008040\">\"out\"</text>\n",
       "</g>\n",
       "<!-- 12&#45;&#45;13 -->\n",
       "<g id=\"edge13\" class=\"edge\">\n",
       "<title>12--13</title>\n",
       "<path fill=\"none\" stroke=\"black\" d=\"M414.5,-503C414.5,-503 392.13,-482.94 375.17,-467.74\"/>\n",
       "</g>\n",
       "<!-- 14 -->\n",
       "<g id=\"node15\" class=\"node\">\n",
       "<title>14</title>\n",
       "<text xml:space=\"preserve\" text-anchor=\"middle\" x=\"431.5\" y=\"-444.95\" font-family=\"Courier,monospace\" font-size=\"14.00\" fill=\"#008040\">Store</text>\n",
       "</g>\n",
       "<!-- 12&#45;&#45;14 -->\n",
       "<g id=\"edge14\" class=\"edge\">\n",
       "<title>12--14</title>\n",
       "<path fill=\"none\" stroke=\"black\" d=\"M414.5,-503C414.5,-503 421.06,-482.94 426.03,-467.74\"/>\n",
       "</g>\n",
       "<!-- 16 -->\n",
       "<g id=\"node17\" class=\"node\">\n",
       "<title>16</title>\n",
       "<text xml:space=\"preserve\" text-anchor=\"middle\" x=\"505.5\" y=\"-444.95\" font-family=\"Courier,monospace\" font-size=\"14.00\" fill=\"#008040\">\"\"</text>\n",
       "</g>\n",
       "<!-- 15&#45;&#45;16 -->\n",
       "<g id=\"edge16\" class=\"edge\">\n",
       "<title>15--16</title>\n",
       "<path fill=\"none\" stroke=\"black\" d=\"M505.5,-504.05C505.5,-493.05 505.5,-478.76 505.5,-467.79\"/>\n",
       "</g>\n",
       "<!-- 18 -->\n",
       "<g id=\"node19\" class=\"node\">\n",
       "<title>18</title>\n",
       "<text xml:space=\"preserve\" text-anchor=\"start\" x=\"635\" y=\"-517.95\" font-family=\"Courier,monospace\" font-weight=\"bold\" font-size=\"14.00\" fill=\"#004080\">Name</text>\n",
       "</g>\n",
       "<!-- 17&#45;&#45;18 -->\n",
       "<g id=\"edge18\" class=\"edge\">\n",
       "<title>17--18</title>\n",
       "<path fill=\"none\" stroke=\"black\" d=\"M696.5,-575C696.5,-575 679.14,-554.94 665.99,-539.74\"/>\n",
       "</g>\n",
       "<!-- 21 -->\n",
       "<g id=\"node22\" class=\"node\">\n",
       "<title>21</title>\n",
       "<text xml:space=\"preserve\" text-anchor=\"start\" x=\"709\" y=\"-517.95\" font-family=\"Courier,monospace\" font-weight=\"bold\" font-size=\"14.00\" fill=\"#004080\">Name</text>\n",
       "</g>\n",
       "<!-- 17&#45;&#45;21 -->\n",
       "<g id=\"edge21\" class=\"edge\">\n",
       "<title>17--21</title>\n",
       "<path fill=\"none\" stroke=\"black\" d=\"M696.5,-575C696.5,-575 707.69,-554.94 716.16,-539.74\"/>\n",
       "</g>\n",
       "<!-- 24 -->\n",
       "<g id=\"node25\" class=\"node\">\n",
       "<title>24</title>\n",
       "<text xml:space=\"preserve\" text-anchor=\"start\" x=\"909.25\" y=\"-517.95\" font-family=\"Courier,monospace\" font-weight=\"bold\" font-size=\"14.00\" fill=\"#004080\">If</text>\n",
       "</g>\n",
       "<!-- 17&#45;&#45;24 -->\n",
       "<g id=\"edge24\" class=\"edge\">\n",
       "<title>17--24</title>\n",
       "<path fill=\"none\" stroke=\"black\" d=\"M696.5,-575C696.5,-575 832.06,-543.1 890.84,-529.27\"/>\n",
       "</g>\n",
       "<!-- 19 -->\n",
       "<g id=\"node20\" class=\"node\">\n",
       "<title>19</title>\n",
       "<text xml:space=\"preserve\" text-anchor=\"middle\" x=\"577.5\" y=\"-444.95\" font-family=\"Courier,monospace\" font-size=\"14.00\" fill=\"#008040\">\"c\"</text>\n",
       "</g>\n",
       "<!-- 18&#45;&#45;19 -->\n",
       "<g id=\"edge19\" class=\"edge\">\n",
       "<title>18--19</title>\n",
       "<path fill=\"none\" stroke=\"black\" d=\"M643.5,-503C643.5,-503 618.04,-482.94 598.75,-467.74\"/>\n",
       "</g>\n",
       "<!-- 20 -->\n",
       "<g id=\"node21\" class=\"node\">\n",
       "<title>20</title>\n",
       "<text xml:space=\"preserve\" text-anchor=\"middle\" x=\"651.5\" y=\"-444.95\" font-family=\"Courier,monospace\" font-size=\"14.00\" fill=\"#008040\">Store</text>\n",
       "</g>\n",
       "<!-- 18&#45;&#45;20 -->\n",
       "<g id=\"edge20\" class=\"edge\">\n",
       "<title>18--20</title>\n",
       "<path fill=\"none\" stroke=\"black\" d=\"M643.5,-503C643.5,-503 646.59,-482.94 648.92,-467.74\"/>\n",
       "</g>\n",
       "<!-- 22 -->\n",
       "<g id=\"node23\" class=\"node\">\n",
       "<title>22</title>\n",
       "<text xml:space=\"preserve\" text-anchor=\"middle\" x=\"725.5\" y=\"-444.95\" font-family=\"Courier,monospace\" font-size=\"14.00\" fill=\"#008040\">\"s\"</text>\n",
       "</g>\n",
       "<!-- 21&#45;&#45;22 -->\n",
       "<g id=\"edge22\" class=\"edge\">\n",
       "<title>21--22</title>\n",
       "<path fill=\"none\" stroke=\"black\" d=\"M732.5,-503C732.5,-503 729.8,-482.94 727.75,-467.74\"/>\n",
       "</g>\n",
       "<!-- 23 -->\n",
       "<g id=\"node24\" class=\"node\">\n",
       "<title>23</title>\n",
       "<text xml:space=\"preserve\" text-anchor=\"middle\" x=\"797.5\" y=\"-444.95\" font-family=\"Courier,monospace\" font-size=\"14.00\" fill=\"#008040\">Load</text>\n",
       "</g>\n",
       "<!-- 21&#45;&#45;23 -->\n",
       "<g id=\"edge23\" class=\"edge\">\n",
       "<title>21--23</title>\n",
       "<path fill=\"none\" stroke=\"black\" d=\"M732.5,-503C732.5,-503 757.57,-482.94 776.58,-467.74\"/>\n",
       "</g>\n",
       "<!-- 25 -->\n",
       "<g id=\"node26\" class=\"node\">\n",
       "<title>25</title>\n",
       "<text xml:space=\"preserve\" text-anchor=\"start\" x=\"850.75\" y=\"-445.95\" font-family=\"Courier,monospace\" font-weight=\"bold\" font-size=\"14.00\" fill=\"#004080\">BoolOp</text>\n",
       "</g>\n",
       "<!-- 24&#45;&#45;25 -->\n",
       "<g id=\"edge25\" class=\"edge\">\n",
       "<title>24--25</title>\n",
       "<path fill=\"none\" stroke=\"black\" d=\"M926.5,-503C926.5,-503 906.83,-482.94 891.92,-467.74\"/>\n",
       "</g>\n",
       "<!-- 39 -->\n",
       "<g id=\"node40\" class=\"node\">\n",
       "<title>39</title>\n",
       "<text xml:space=\"preserve\" text-anchor=\"start\" x=\"934.75\" y=\"-445.95\" font-family=\"Courier,monospace\" font-weight=\"bold\" font-size=\"14.00\" fill=\"#004080\">Assign</text>\n",
       "</g>\n",
       "<!-- 24&#45;&#45;39 -->\n",
       "<g id=\"edge39\" class=\"edge\">\n",
       "<title>24--39</title>\n",
       "<path fill=\"none\" stroke=\"black\" d=\"M926.5,-503C926.5,-503 939.23,-482.94 948.88,-467.74\"/>\n",
       "</g>\n",
       "<!-- 45 -->\n",
       "<g id=\"node46\" class=\"node\">\n",
       "<title>45</title>\n",
       "<text xml:space=\"preserve\" text-anchor=\"start\" x=\"1259.25\" y=\"-445.95\" font-family=\"Courier,monospace\" font-weight=\"bold\" font-size=\"14.00\" fill=\"#004080\">If</text>\n",
       "</g>\n",
       "<!-- 24&#45;&#45;45 -->\n",
       "<g id=\"edge45\" class=\"edge\">\n",
       "<title>24--45</title>\n",
       "<path fill=\"none\" stroke=\"black\" d=\"M926.5,-503C926.5,-503 1160.35,-467.34 1240.74,-455.08\"/>\n",
       "</g>\n",
       "<!-- 26 -->\n",
       "<g id=\"node27\" class=\"node\">\n",
       "<title>26</title>\n",
       "<text xml:space=\"preserve\" text-anchor=\"middle\" x=\"539.5\" y=\"-372.95\" font-family=\"Courier,monospace\" font-size=\"14.00\" fill=\"#008040\">And</text>\n",
       "</g>\n",
       "<!-- 25&#45;&#45;26 -->\n",
       "<g id=\"edge26\" class=\"edge\">\n",
       "<title>25--26</title>\n",
       "<path fill=\"none\" stroke=\"black\" d=\"M842.5,-436C842.5,-436 837.71,-433.2 833.5,-432 722.18,-400.18 686.45,-429.1 575.5,-396 572.45,-395.09 569.34,-393.96 566.28,-392.72\"/>\n",
       "</g>\n",
       "<!-- 27 -->\n",
       "<g id=\"node28\" class=\"node\">\n",
       "<title>27</title>\n",
       "<text xml:space=\"preserve\" text-anchor=\"start\" x=\"592.62\" y=\"-373.95\" font-family=\"Courier,monospace\" font-weight=\"bold\" font-size=\"14.00\" fill=\"#004080\">Compare</text>\n",
       "</g>\n",
       "<!-- 25&#45;&#45;27 -->\n",
       "<g id=\"edge27\" class=\"edge\">\n",
       "<title>25--27</title>\n",
       "<path fill=\"none\" stroke=\"black\" d=\"M842.5,-436C842.5,-436 837.64,-433.43 833.5,-432 773.24,-411.25 700.77,-394.91 658.07,-386.13\"/>\n",
       "</g>\n",
       "<!-- 34 -->\n",
       "<g id=\"node35\" class=\"node\">\n",
       "<title>34</title>\n",
       "<text xml:space=\"preserve\" text-anchor=\"start\" x=\"750.62\" y=\"-373.95\" font-family=\"Courier,monospace\" font-weight=\"bold\" font-size=\"14.00\" fill=\"#004080\">UnaryOp</text>\n",
       "</g>\n",
       "<!-- 25&#45;&#45;34 -->\n",
       "<g id=\"edge34\" class=\"edge\">\n",
       "<title>25--34</title>\n",
       "<path fill=\"none\" stroke=\"black\" d=\"M842.5,-436C842.5,-436 816.64,-412.61 798.06,-395.79\"/>\n",
       "</g>\n",
       "<!-- 28 -->\n",
       "<g id=\"node29\" class=\"node\">\n",
       "<title>28</title>\n",
       "<text xml:space=\"preserve\" text-anchor=\"start\" x=\"447\" y=\"-301.95\" font-family=\"Courier,monospace\" font-weight=\"bold\" font-size=\"14.00\" fill=\"#004080\">Name</text>\n",
       "</g>\n",
       "<!-- 27&#45;&#45;28 -->\n",
       "<g id=\"edge28\" class=\"edge\">\n",
       "<title>27--28</title>\n",
       "<path fill=\"none\" stroke=\"black\" d=\"M606.5,-359C606.5,-359 545.99,-342.5 499.5,-324 496.55,-322.82 493.49,-321.52 490.47,-320.18\"/>\n",
       "</g>\n",
       "<!-- 31 -->\n",
       "<g id=\"node32\" class=\"node\">\n",
       "<title>31</title>\n",
       "<text xml:space=\"preserve\" text-anchor=\"middle\" x=\"535.5\" y=\"-300.95\" font-family=\"Courier,monospace\" font-size=\"14.00\" fill=\"#008040\">Eq</text>\n",
       "</g>\n",
       "<!-- 27&#45;&#45;31 -->\n",
       "<g id=\"edge31\" class=\"edge\">\n",
       "<title>27--31</title>\n",
       "<path fill=\"none\" stroke=\"black\" d=\"M606.5,-359C606.5,-359 579.11,-338.94 558.36,-323.74\"/>\n",
       "</g>\n",
       "<!-- 32 -->\n",
       "<g id=\"node33\" class=\"node\">\n",
       "<title>32</title>\n",
       "<text xml:space=\"preserve\" text-anchor=\"start\" x=\"588.5\" y=\"-301.95\" font-family=\"Courier,monospace\" font-weight=\"bold\" font-size=\"14.00\" fill=\"#004080\">Constant</text>\n",
       "</g>\n",
       "<!-- 27&#45;&#45;32 -->\n",
       "<g id=\"edge32\" class=\"edge\">\n",
       "<title>27--32</title>\n",
       "<path fill=\"none\" stroke=\"black\" d=\"M606.5,-359C606.5,-359 612.29,-338.94 616.67,-323.74\"/>\n",
       "</g>\n",
       "<!-- 29 -->\n",
       "<g id=\"node30\" class=\"node\">\n",
       "<title>29</title>\n",
       "<text xml:space=\"preserve\" text-anchor=\"middle\" x=\"427.5\" y=\"-228.95\" font-family=\"Courier,monospace\" font-size=\"14.00\" fill=\"#008040\">\"c\"</text>\n",
       "</g>\n",
       "<!-- 28&#45;&#45;29 -->\n",
       "<g id=\"edge29\" class=\"edge\">\n",
       "<title>28--29</title>\n",
       "<path fill=\"none\" stroke=\"black\" d=\"M463.5,-287C463.5,-287 449.61,-266.94 439.09,-251.74\"/>\n",
       "</g>\n",
       "<!-- 30 -->\n",
       "<g id=\"node31\" class=\"node\">\n",
       "<title>30</title>\n",
       "<text xml:space=\"preserve\" text-anchor=\"middle\" x=\"499.5\" y=\"-228.95\" font-family=\"Courier,monospace\" font-size=\"14.00\" fill=\"#008040\">Load</text>\n",
       "</g>\n",
       "<!-- 28&#45;&#45;30 -->\n",
       "<g id=\"edge30\" class=\"edge\">\n",
       "<title>28--30</title>\n",
       "<path fill=\"none\" stroke=\"black\" d=\"M463.5,-287C463.5,-287 477.39,-266.94 487.91,-251.74\"/>\n",
       "</g>\n",
       "<!-- 33 -->\n",
       "<g id=\"node34\" class=\"node\">\n",
       "<title>33</title>\n",
       "<text xml:space=\"preserve\" text-anchor=\"middle\" x=\"621.5\" y=\"-228.95\" font-family=\"Courier,monospace\" font-size=\"14.00\" fill=\"#008040\">\"&lt;\"</text>\n",
       "</g>\n",
       "<!-- 32&#45;&#45;33 -->\n",
       "<g id=\"edge33\" class=\"edge\">\n",
       "<title>32--33</title>\n",
       "<path fill=\"none\" stroke=\"black\" d=\"M621.5,-288.05C621.5,-277.05 621.5,-262.76 621.5,-251.79\"/>\n",
       "</g>\n",
       "<!-- 35 -->\n",
       "<g id=\"node36\" class=\"node\">\n",
       "<title>35</title>\n",
       "<text xml:space=\"preserve\" text-anchor=\"middle\" x=\"707.5\" y=\"-300.95\" font-family=\"Courier,monospace\" font-size=\"14.00\" fill=\"#008040\">Not</text>\n",
       "</g>\n",
       "<!-- 34&#45;&#45;35 -->\n",
       "<g id=\"edge35\" class=\"edge\">\n",
       "<title>34--35</title>\n",
       "<path fill=\"none\" stroke=\"black\" d=\"M772.5,-359C772.5,-359 747.43,-338.94 728.42,-323.74\"/>\n",
       "</g>\n",
       "<!-- 36 -->\n",
       "<g id=\"node37\" class=\"node\">\n",
       "<title>36</title>\n",
       "<text xml:space=\"preserve\" text-anchor=\"start\" x=\"763\" y=\"-301.95\" font-family=\"Courier,monospace\" font-weight=\"bold\" font-size=\"14.00\" fill=\"#004080\">Name</text>\n",
       "</g>\n",
       "<!-- 34&#45;&#45;36 -->\n",
       "<g id=\"edge36\" class=\"edge\">\n",
       "<title>34--36</title>\n",
       "<path fill=\"none\" stroke=\"black\" d=\"M772.5,-359C772.5,-359 775.2,-338.94 777.25,-323.74\"/>\n",
       "</g>\n",
       "<!-- 37 -->\n",
       "<g id=\"node38\" class=\"node\">\n",
       "<title>37</title>\n",
       "<text xml:space=\"preserve\" text-anchor=\"middle\" x=\"741.5\" y=\"-228.95\" font-family=\"Courier,monospace\" font-size=\"14.00\" fill=\"#008040\">\"quote\"</text>\n",
       "</g>\n",
       "<!-- 36&#45;&#45;37 -->\n",
       "<g id=\"edge37\" class=\"edge\">\n",
       "<title>36--37</title>\n",
       "<path fill=\"none\" stroke=\"black\" d=\"M780.5,-287C780.5,-287 765.46,-266.94 754.05,-251.74\"/>\n",
       "</g>\n",
       "<!-- 38 -->\n",
       "<g id=\"node39\" class=\"node\">\n",
       "<title>38</title>\n",
       "<text xml:space=\"preserve\" text-anchor=\"middle\" x=\"823.5\" y=\"-228.95\" font-family=\"Courier,monospace\" font-size=\"14.00\" fill=\"#008040\">Load</text>\n",
       "</g>\n",
       "<!-- 36&#45;&#45;38 -->\n",
       "<g id=\"edge38\" class=\"edge\">\n",
       "<title>36--38</title>\n",
       "<path fill=\"none\" stroke=\"black\" d=\"M780.5,-287C780.5,-287 797.09,-266.94 809.66,-251.74\"/>\n",
       "</g>\n",
       "<!-- 40 -->\n",
       "<g id=\"node41\" class=\"node\">\n",
       "<title>40</title>\n",
       "<text xml:space=\"preserve\" text-anchor=\"start\" x=\"900\" y=\"-373.95\" font-family=\"Courier,monospace\" font-weight=\"bold\" font-size=\"14.00\" fill=\"#004080\">Name</text>\n",
       "</g>\n",
       "<!-- 39&#45;&#45;40 -->\n",
       "<g id=\"edge40\" class=\"edge\">\n",
       "<title>39--40</title>\n",
       "<path fill=\"none\" stroke=\"black\" d=\"M959.5,-431C959.5,-431 942.91,-410.94 930.34,-395.74\"/>\n",
       "</g>\n",
       "<!-- 43 -->\n",
       "<g id=\"node44\" class=\"node\">\n",
       "<title>43</title>\n",
       "<text xml:space=\"preserve\" text-anchor=\"start\" x=\"969.5\" y=\"-373.95\" font-family=\"Courier,monospace\" font-weight=\"bold\" font-size=\"14.00\" fill=\"#004080\">Constant</text>\n",
       "</g>\n",
       "<!-- 39&#45;&#45;43 -->\n",
       "<g id=\"edge43\" class=\"edge\">\n",
       "<title>39--43</title>\n",
       "<path fill=\"none\" stroke=\"black\" d=\"M959.5,-431C959.5,-431 976.09,-410.94 988.66,-395.74\"/>\n",
       "</g>\n",
       "<!-- 41 -->\n",
       "<g id=\"node42\" class=\"node\">\n",
       "<title>41</title>\n",
       "<text xml:space=\"preserve\" text-anchor=\"middle\" x=\"853.5\" y=\"-300.95\" font-family=\"Courier,monospace\" font-size=\"14.00\" fill=\"#008040\">\"tag\"</text>\n",
       "</g>\n",
       "<!-- 40&#45;&#45;41 -->\n",
       "<g id=\"edge41\" class=\"edge\">\n",
       "<title>40--41</title>\n",
       "<path fill=\"none\" stroke=\"black\" d=\"M911.5,-359C911.5,-359 889.13,-338.94 872.17,-323.74\"/>\n",
       "</g>\n",
       "<!-- 42 -->\n",
       "<g id=\"node43\" class=\"node\">\n",
       "<title>42</title>\n",
       "<text xml:space=\"preserve\" text-anchor=\"middle\" x=\"928.5\" y=\"-300.95\" font-family=\"Courier,monospace\" font-size=\"14.00\" fill=\"#008040\">Store</text>\n",
       "</g>\n",
       "<!-- 40&#45;&#45;42 -->\n",
       "<g id=\"edge42\" class=\"edge\">\n",
       "<title>40--42</title>\n",
       "<path fill=\"none\" stroke=\"black\" d=\"M911.5,-359C911.5,-359 918.06,-338.94 923.03,-323.74\"/>\n",
       "</g>\n",
       "<!-- 44 -->\n",
       "<g id=\"node45\" class=\"node\">\n",
       "<title>44</title>\n",
       "<text xml:space=\"preserve\" text-anchor=\"middle\" x=\"1002.5\" y=\"-300.95\" font-family=\"Courier,monospace\" font-size=\"14.00\" fill=\"#008040\">True</text>\n",
       "</g>\n",
       "<!-- 43&#45;&#45;44 -->\n",
       "<g id=\"edge44\" class=\"edge\">\n",
       "<title>43--44</title>\n",
       "<path fill=\"none\" stroke=\"black\" d=\"M1002.5,-360.05C1002.5,-349.05 1002.5,-334.76 1002.5,-323.79\"/>\n",
       "</g>\n",
       "<!-- 46 -->\n",
       "<g id=\"node47\" class=\"node\">\n",
       "<title>46</title>\n",
       "<text xml:space=\"preserve\" text-anchor=\"start\" x=\"1177.75\" y=\"-373.95\" font-family=\"Courier,monospace\" font-weight=\"bold\" font-size=\"14.00\" fill=\"#004080\">BoolOp</text>\n",
       "</g>\n",
       "<!-- 45&#45;&#45;46 -->\n",
       "<g id=\"edge46\" class=\"edge\">\n",
       "<title>45--46</title>\n",
       "<path fill=\"none\" stroke=\"black\" d=\"M1278.5,-431C1278.5,-431 1249.18,-410.94 1226.97,-395.74\"/>\n",
       "</g>\n",
       "<!-- 60 -->\n",
       "<g id=\"node61\" class=\"node\">\n",
       "<title>60</title>\n",
       "<text xml:space=\"preserve\" text-anchor=\"start\" x=\"1306.75\" y=\"-373.95\" font-family=\"Courier,monospace\" font-weight=\"bold\" font-size=\"14.00\" fill=\"#004080\">Assign</text>\n",
       "</g>\n",
       "<!-- 45&#45;&#45;60 -->\n",
       "<g id=\"edge60\" class=\"edge\">\n",
       "<title>45--60</title>\n",
       "<path fill=\"none\" stroke=\"black\" d=\"M1278.5,-431C1278.5,-431 1298.95,-410.94 1314.44,-395.74\"/>\n",
       "</g>\n",
       "<!-- 66 -->\n",
       "<g id=\"node67\" class=\"node\">\n",
       "<title>66</title>\n",
       "<text xml:space=\"preserve\" text-anchor=\"start\" x=\"1756.25\" y=\"-373.95\" font-family=\"Courier,monospace\" font-weight=\"bold\" font-size=\"14.00\" fill=\"#004080\">If</text>\n",
       "</g>\n",
       "<!-- 45&#45;&#45;66 -->\n",
       "<g id=\"edge66\" class=\"edge\">\n",
       "<title>45--66</title>\n",
       "<path fill=\"none\" stroke=\"black\" d=\"M1278.5,-431C1278.5,-431 1635.79,-392.77 1737.68,-381.87\"/>\n",
       "</g>\n",
       "<!-- 47 -->\n",
       "<g id=\"node48\" class=\"node\">\n",
       "<title>47</title>\n",
       "<text xml:space=\"preserve\" text-anchor=\"middle\" x=\"1074.5\" y=\"-300.95\" font-family=\"Courier,monospace\" font-size=\"14.00\" fill=\"#008040\">And</text>\n",
       "</g>\n",
       "<!-- 46&#45;&#45;47 -->\n",
       "<g id=\"edge47\" class=\"edge\">\n",
       "<title>46--47</title>\n",
       "<path fill=\"none\" stroke=\"black\" d=\"M1195.5,-359C1195.5,-359 1147.87,-340.51 1110.5,-324 1107.47,-322.66 1104.3,-321.22 1101.17,-319.78\"/>\n",
       "</g>\n",
       "<!-- 48 -->\n",
       "<g id=\"node49\" class=\"node\">\n",
       "<title>48</title>\n",
       "<text xml:space=\"preserve\" text-anchor=\"start\" x=\"1127.62\" y=\"-301.95\" font-family=\"Courier,monospace\" font-weight=\"bold\" font-size=\"14.00\" fill=\"#004080\">Compare</text>\n",
       "</g>\n",
       "<!-- 46&#45;&#45;48 -->\n",
       "<g id=\"edge48\" class=\"edge\">\n",
       "<title>46--48</title>\n",
       "<path fill=\"none\" stroke=\"black\" d=\"M1195.5,-359C1195.5,-359 1180.46,-338.94 1169.05,-323.74\"/>\n",
       "</g>\n",
       "<!-- 55 -->\n",
       "<g id=\"node56\" class=\"node\">\n",
       "<title>55</title>\n",
       "<text xml:space=\"preserve\" text-anchor=\"start\" x=\"1219.62\" y=\"-301.95\" font-family=\"Courier,monospace\" font-weight=\"bold\" font-size=\"14.00\" fill=\"#004080\">UnaryOp</text>\n",
       "</g>\n",
       "<!-- 46&#45;&#45;55 -->\n",
       "<g id=\"edge55\" class=\"edge\">\n",
       "<title>46--55</title>\n",
       "<path fill=\"none\" stroke=\"black\" d=\"M1195.5,-359C1195.5,-359 1215.95,-338.94 1231.44,-323.74\"/>\n",
       "</g>\n",
       "<!-- 49 -->\n",
       "<g id=\"node50\" class=\"node\">\n",
       "<title>49</title>\n",
       "<text xml:space=\"preserve\" text-anchor=\"start\" x=\"916\" y=\"-229.95\" font-family=\"Courier,monospace\" font-weight=\"bold\" font-size=\"14.00\" fill=\"#004080\">Name</text>\n",
       "</g>\n",
       "<!-- 48&#45;&#45;49 -->\n",
       "<g id=\"edge49\" class=\"edge\">\n",
       "<title>48--49</title>\n",
       "<path fill=\"none\" stroke=\"black\" d=\"M1125.5,-287C1125.5,-287 1036.13,-275.18 968.5,-252 965.49,-250.97 962.4,-249.76 959.36,-248.47\"/>\n",
       "</g>\n",
       "<!-- 52 -->\n",
       "<g id=\"node53\" class=\"node\">\n",
       "<title>52</title>\n",
       "<text xml:space=\"preserve\" text-anchor=\"middle\" x=\"1004.5\" y=\"-228.95\" font-family=\"Courier,monospace\" font-size=\"14.00\" fill=\"#008040\">Eq</text>\n",
       "</g>\n",
       "<!-- 48&#45;&#45;52 -->\n",
       "<g id=\"edge52\" class=\"edge\">\n",
       "<title>48--52</title>\n",
       "<path fill=\"none\" stroke=\"black\" d=\"M1125.5,-287C1125.5,-287 1077.87,-268.51 1040.5,-252 1037.47,-250.66 1034.3,-249.22 1031.17,-247.78\"/>\n",
       "</g>\n",
       "<!-- 53 -->\n",
       "<g id=\"node54\" class=\"node\">\n",
       "<title>53</title>\n",
       "<text xml:space=\"preserve\" text-anchor=\"start\" x=\"1057.5\" y=\"-229.95\" font-family=\"Courier,monospace\" font-weight=\"bold\" font-size=\"14.00\" fill=\"#004080\">Constant</text>\n",
       "</g>\n",
       "<!-- 48&#45;&#45;53 -->\n",
       "<g id=\"edge53\" class=\"edge\">\n",
       "<title>48--53</title>\n",
       "<path fill=\"none\" stroke=\"black\" d=\"M1125.5,-287C1125.5,-287 1112,-266.94 1101.77,-251.74\"/>\n",
       "</g>\n",
       "<!-- 50 -->\n",
       "<g id=\"node51\" class=\"node\">\n",
       "<title>50</title>\n",
       "<text xml:space=\"preserve\" text-anchor=\"middle\" x=\"896.5\" y=\"-156.95\" font-family=\"Courier,monospace\" font-size=\"14.00\" fill=\"#008040\">\"c\"</text>\n",
       "</g>\n",
       "<!-- 49&#45;&#45;50 -->\n",
       "<g id=\"edge50\" class=\"edge\">\n",
       "<title>49--50</title>\n",
       "<path fill=\"none\" stroke=\"black\" d=\"M932.5,-215C932.5,-215 918.61,-194.94 908.09,-179.74\"/>\n",
       "</g>\n",
       "<!-- 51 -->\n",
       "<g id=\"node52\" class=\"node\">\n",
       "<title>51</title>\n",
       "<text xml:space=\"preserve\" text-anchor=\"middle\" x=\"968.5\" y=\"-156.95\" font-family=\"Courier,monospace\" font-size=\"14.00\" fill=\"#008040\">Load</text>\n",
       "</g>\n",
       "<!-- 49&#45;&#45;51 -->\n",
       "<g id=\"edge51\" class=\"edge\">\n",
       "<title>49--51</title>\n",
       "<path fill=\"none\" stroke=\"black\" d=\"M932.5,-215C932.5,-215 946.39,-194.94 956.91,-179.74\"/>\n",
       "</g>\n",
       "<!-- 54 -->\n",
       "<g id=\"node55\" class=\"node\">\n",
       "<title>54</title>\n",
       "<text xml:space=\"preserve\" text-anchor=\"middle\" x=\"1090.5\" y=\"-156.95\" font-family=\"Courier,monospace\" font-size=\"14.00\" fill=\"#008040\">\"&gt;\"</text>\n",
       "</g>\n",
       "<!-- 53&#45;&#45;54 -->\n",
       "<g id=\"edge54\" class=\"edge\">\n",
       "<title>53--54</title>\n",
       "<path fill=\"none\" stroke=\"black\" d=\"M1090.5,-216.05C1090.5,-205.05 1090.5,-190.76 1090.5,-179.79\"/>\n",
       "</g>\n",
       "<!-- 56 -->\n",
       "<g id=\"node57\" class=\"node\">\n",
       "<title>56</title>\n",
       "<text xml:space=\"preserve\" text-anchor=\"middle\" x=\"1176.5\" y=\"-228.95\" font-family=\"Courier,monospace\" font-size=\"14.00\" fill=\"#008040\">Not</text>\n",
       "</g>\n",
       "<!-- 55&#45;&#45;56 -->\n",
       "<g id=\"edge56\" class=\"edge\">\n",
       "<title>55--56</title>\n",
       "<path fill=\"none\" stroke=\"black\" d=\"M1241.5,-287C1241.5,-287 1216.43,-266.94 1197.42,-251.74\"/>\n",
       "</g>\n",
       "<!-- 57 -->\n",
       "<g id=\"node58\" class=\"node\">\n",
       "<title>57</title>\n",
       "<text xml:space=\"preserve\" text-anchor=\"start\" x=\"1232\" y=\"-229.95\" font-family=\"Courier,monospace\" font-weight=\"bold\" font-size=\"14.00\" fill=\"#004080\">Name</text>\n",
       "</g>\n",
       "<!-- 55&#45;&#45;57 -->\n",
       "<g id=\"edge57\" class=\"edge\">\n",
       "<title>55--57</title>\n",
       "<path fill=\"none\" stroke=\"black\" d=\"M1241.5,-287C1241.5,-287 1244.2,-266.94 1246.25,-251.74\"/>\n",
       "</g>\n",
       "<!-- 58 -->\n",
       "<g id=\"node59\" class=\"node\">\n",
       "<title>58</title>\n",
       "<text xml:space=\"preserve\" text-anchor=\"middle\" x=\"1204.5\" y=\"-156.95\" font-family=\"Courier,monospace\" font-size=\"14.00\" fill=\"#008040\">\"quote\"</text>\n",
       "</g>\n",
       "<!-- 57&#45;&#45;58 -->\n",
       "<g id=\"edge58\" class=\"edge\">\n",
       "<title>57--58</title>\n",
       "<path fill=\"none\" stroke=\"black\" d=\"M1247.5,-215C1247.5,-215 1230.91,-194.94 1218.34,-179.74\"/>\n",
       "</g>\n",
       "<!-- 59 -->\n",
       "<g id=\"node60\" class=\"node\">\n",
       "<title>59</title>\n",
       "<text xml:space=\"preserve\" text-anchor=\"middle\" x=\"1286.5\" y=\"-156.95\" font-family=\"Courier,monospace\" font-size=\"14.00\" fill=\"#008040\">Load</text>\n",
       "</g>\n",
       "<!-- 57&#45;&#45;59 -->\n",
       "<g id=\"edge59\" class=\"edge\">\n",
       "<title>57--59</title>\n",
       "<path fill=\"none\" stroke=\"black\" d=\"M1247.5,-215C1247.5,-215 1262.54,-194.94 1273.95,-179.74\"/>\n",
       "</g>\n",
       "<!-- 61 -->\n",
       "<g id=\"node62\" class=\"node\">\n",
       "<title>61</title>\n",
       "<text xml:space=\"preserve\" text-anchor=\"start\" x=\"1315\" y=\"-301.95\" font-family=\"Courier,monospace\" font-weight=\"bold\" font-size=\"14.00\" fill=\"#004080\">Name</text>\n",
       "</g>\n",
       "<!-- 60&#45;&#45;61 -->\n",
       "<g id=\"edge61\" class=\"edge\">\n",
       "<title>60--61</title>\n",
       "<path fill=\"none\" stroke=\"black\" d=\"M1341.5,-359C1341.5,-359 1337.64,-338.94 1334.72,-323.74\"/>\n",
       "</g>\n",
       "<!-- 64 -->\n",
       "<g id=\"node65\" class=\"node\">\n",
       "<title>64</title>\n",
       "<text xml:space=\"preserve\" text-anchor=\"start\" x=\"1411.5\" y=\"-301.95\" font-family=\"Courier,monospace\" font-weight=\"bold\" font-size=\"14.00\" fill=\"#004080\">Constant</text>\n",
       "</g>\n",
       "<!-- 60&#45;&#45;64 -->\n",
       "<g id=\"edge64\" class=\"edge\">\n",
       "<title>60--64</title>\n",
       "<path fill=\"none\" stroke=\"black\" d=\"M1341.5,-359C1341.5,-359 1380.98,-339.07 1411.06,-323.88\"/>\n",
       "</g>\n",
       "<!-- 62 -->\n",
       "<g id=\"node63\" class=\"node\">\n",
       "<title>62</title>\n",
       "<text xml:space=\"preserve\" text-anchor=\"middle\" x=\"1322.5\" y=\"-228.95\" font-family=\"Courier,monospace\" font-size=\"14.00\" fill=\"#008040\">\"tag\"</text>\n",
       "</g>\n",
       "<!-- 61&#45;&#45;62 -->\n",
       "<g id=\"edge62\" class=\"edge\">\n",
       "<title>61--62</title>\n",
       "<path fill=\"none\" stroke=\"black\" d=\"M1337.5,-287C1337.5,-287 1331.71,-266.94 1327.33,-251.74\"/>\n",
       "</g>\n",
       "<!-- 63 -->\n",
       "<g id=\"node64\" class=\"node\">\n",
       "<title>63</title>\n",
       "<text xml:space=\"preserve\" text-anchor=\"middle\" x=\"1397.5\" y=\"-228.95\" font-family=\"Courier,monospace\" font-size=\"14.00\" fill=\"#008040\">Store</text>\n",
       "</g>\n",
       "<!-- 61&#45;&#45;63 -->\n",
       "<g id=\"edge63\" class=\"edge\">\n",
       "<title>61--63</title>\n",
       "<path fill=\"none\" stroke=\"black\" d=\"M1337.5,-287C1337.5,-287 1360.65,-266.94 1378.19,-251.74\"/>\n",
       "</g>\n",
       "<!-- 65 -->\n",
       "<g id=\"node66\" class=\"node\">\n",
       "<title>65</title>\n",
       "<text xml:space=\"preserve\" text-anchor=\"middle\" x=\"1472.5\" y=\"-228.95\" font-family=\"Courier,monospace\" font-size=\"14.00\" fill=\"#008040\">False</text>\n",
       "</g>\n",
       "<!-- 64&#45;&#45;65 -->\n",
       "<g id=\"edge65\" class=\"edge\">\n",
       "<title>64--65</title>\n",
       "<path fill=\"none\" stroke=\"black\" d=\"M1451.28,-288.05C1455.68,-277.05 1461.39,-262.76 1465.78,-251.79\"/>\n",
       "</g>\n",
       "<!-- 67 -->\n",
       "<g id=\"node68\" class=\"node\">\n",
       "<title>67</title>\n",
       "<text xml:space=\"preserve\" text-anchor=\"start\" x=\"1641.75\" y=\"-301.95\" font-family=\"Courier,monospace\" font-weight=\"bold\" font-size=\"14.00\" fill=\"#004080\">BoolOp</text>\n",
       "</g>\n",
       "<!-- 66&#45;&#45;67 -->\n",
       "<g id=\"edge67\" class=\"edge\">\n",
       "<title>66--67</title>\n",
       "<path fill=\"none\" stroke=\"black\" d=\"M1771.5,-359C1771.5,-359 1729.97,-338.43 1699.15,-323.17\"/>\n",
       "</g>\n",
       "<!-- 88 -->\n",
       "<g id=\"node89\" class=\"node\">\n",
       "<title>88</title>\n",
       "<text xml:space=\"preserve\" text-anchor=\"start\" x=\"1801.75\" y=\"-301.95\" font-family=\"Courier,monospace\" font-weight=\"bold\" font-size=\"14.00\" fill=\"#004080\">Assign</text>\n",
       "</g>\n",
       "<!-- 66&#45;&#45;88 -->\n",
       "<g id=\"edge88\" class=\"edge\">\n",
       "<title>66--88</title>\n",
       "<path fill=\"none\" stroke=\"black\" d=\"M1771.5,-359C1771.5,-359 1792.72,-338.94 1808.79,-323.74\"/>\n",
       "</g>\n",
       "<!-- 97 -->\n",
       "<g id=\"node98\" class=\"node\">\n",
       "<title>97</title>\n",
       "<text xml:space=\"preserve\" text-anchor=\"start\" x=\"1896.25\" y=\"-301.95\" font-family=\"Courier,monospace\" font-weight=\"bold\" font-size=\"14.00\" fill=\"#004080\">If</text>\n",
       "</g>\n",
       "<!-- 66&#45;&#45;97 -->\n",
       "<g id=\"edge97\" class=\"edge\">\n",
       "<title>66--97</title>\n",
       "<path fill=\"none\" stroke=\"black\" d=\"M1771.5,-359C1771.5,-359 1826.18,-341.58 1868.5,-324 1871.56,-322.73 1874.74,-321.33 1877.89,-319.91\"/>\n",
       "</g>\n",
       "<!-- 68 -->\n",
       "<g id=\"node69\" class=\"node\">\n",
       "<title>68</title>\n",
       "<text xml:space=\"preserve\" text-anchor=\"middle\" x=\"1546.5\" y=\"-228.95\" font-family=\"Courier,monospace\" font-size=\"14.00\" fill=\"#008040\">Or</text>\n",
       "</g>\n",
       "<!-- 67&#45;&#45;68 -->\n",
       "<g id=\"edge68\" class=\"edge\">\n",
       "<title>67--68</title>\n",
       "<path fill=\"none\" stroke=\"black\" d=\"M1660.5,-287C1660.5,-287 1617.01,-267.89 1582.5,-252 1579.49,-250.61 1576.34,-249.15 1573.21,-247.68\"/>\n",
       "</g>\n",
       "<!-- 69 -->\n",
       "<g id=\"node70\" class=\"node\">\n",
       "<title>69</title>\n",
       "<text xml:space=\"preserve\" text-anchor=\"start\" x=\"1599.62\" y=\"-229.95\" font-family=\"Courier,monospace\" font-weight=\"bold\" font-size=\"14.00\" fill=\"#004080\">Compare</text>\n",
       "</g>\n",
       "<!-- 67&#45;&#45;69 -->\n",
       "<g id=\"edge69\" class=\"edge\">\n",
       "<title>67--69</title>\n",
       "<path fill=\"none\" stroke=\"black\" d=\"M1660.5,-287C1660.5,-287 1648.16,-266.94 1638.8,-251.74\"/>\n",
       "</g>\n",
       "<!-- 76 -->\n",
       "<g id=\"node77\" class=\"node\">\n",
       "<title>76</title>\n",
       "<text xml:space=\"preserve\" text-anchor=\"start\" x=\"1691.75\" y=\"-229.95\" font-family=\"Courier,monospace\" font-weight=\"bold\" font-size=\"14.00\" fill=\"#004080\">BoolOp</text>\n",
       "</g>\n",
       "<!-- 67&#45;&#45;76 -->\n",
       "<g id=\"edge76\" class=\"edge\">\n",
       "<title>67--76</title>\n",
       "<path fill=\"none\" stroke=\"black\" d=\"M1660.5,-287C1660.5,-287 1682.1,-266.94 1698.47,-251.74\"/>\n",
       "</g>\n",
       "<!-- 70 -->\n",
       "<g id=\"node71\" class=\"node\">\n",
       "<title>70</title>\n",
       "<text xml:space=\"preserve\" text-anchor=\"start\" x=\"1358\" y=\"-157.95\" font-family=\"Courier,monospace\" font-weight=\"bold\" font-size=\"14.00\" fill=\"#004080\">Name</text>\n",
       "</g>\n",
       "<!-- 69&#45;&#45;70 -->\n",
       "<g id=\"edge70\" class=\"edge\">\n",
       "<title>69--70</title>\n",
       "<path fill=\"none\" stroke=\"black\" d=\"M1591.5,-216C1591.5,-216 1488.39,-205.7 1410.5,-180 1407.48,-179 1404.38,-177.82 1401.34,-176.54\"/>\n",
       "</g>\n",
       "<!-- 73 -->\n",
       "<g id=\"node74\" class=\"node\">\n",
       "<title>73</title>\n",
       "<text xml:space=\"preserve\" text-anchor=\"middle\" x=\"1446.5\" y=\"-156.95\" font-family=\"Courier,monospace\" font-size=\"14.00\" fill=\"#008040\">Eq</text>\n",
       "</g>\n",
       "<!-- 69&#45;&#45;73 -->\n",
       "<g id=\"edge73\" class=\"edge\">\n",
       "<title>69--73</title>\n",
       "<path fill=\"none\" stroke=\"black\" d=\"M1591.5,-216C1591.5,-216 1529.88,-198.93 1482.5,-180 1479.55,-178.82 1476.49,-177.52 1473.47,-176.17\"/>\n",
       "</g>\n",
       "<!-- 74 -->\n",
       "<g id=\"node75\" class=\"node\">\n",
       "<title>74</title>\n",
       "<text xml:space=\"preserve\" text-anchor=\"start\" x=\"1499.5\" y=\"-157.95\" font-family=\"Courier,monospace\" font-weight=\"bold\" font-size=\"14.00\" fill=\"#004080\">Constant</text>\n",
       "</g>\n",
       "<!-- 69&#45;&#45;74 -->\n",
       "<g id=\"edge74\" class=\"edge\">\n",
       "<title>69--74</title>\n",
       "<path fill=\"none\" stroke=\"black\" d=\"M1591.5,-216C1591.5,-216 1568.45,-195.3 1551.17,-179.77\"/>\n",
       "</g>\n",
       "<!-- 71 -->\n",
       "<g id=\"node72\" class=\"node\">\n",
       "<title>71</title>\n",
       "<text xml:space=\"preserve\" text-anchor=\"middle\" x=\"1338.5\" y=\"-84.95\" font-family=\"Courier,monospace\" font-size=\"14.00\" fill=\"#008040\">\"c\"</text>\n",
       "</g>\n",
       "<!-- 70&#45;&#45;71 -->\n",
       "<g id=\"edge71\" class=\"edge\">\n",
       "<title>70--71</title>\n",
       "<path fill=\"none\" stroke=\"black\" d=\"M1374.5,-143C1374.5,-143 1360.61,-122.94 1350.09,-107.74\"/>\n",
       "</g>\n",
       "<!-- 72 -->\n",
       "<g id=\"node73\" class=\"node\">\n",
       "<title>72</title>\n",
       "<text xml:space=\"preserve\" text-anchor=\"middle\" x=\"1410.5\" y=\"-84.95\" font-family=\"Courier,monospace\" font-size=\"14.00\" fill=\"#008040\">Load</text>\n",
       "</g>\n",
       "<!-- 70&#45;&#45;72 -->\n",
       "<g id=\"edge72\" class=\"edge\">\n",
       "<title>70--72</title>\n",
       "<path fill=\"none\" stroke=\"black\" d=\"M1374.5,-143C1374.5,-143 1388.39,-122.94 1398.91,-107.74\"/>\n",
       "</g>\n",
       "<!-- 75 -->\n",
       "<g id=\"node76\" class=\"node\">\n",
       "<title>75</title>\n",
       "<text xml:space=\"preserve\" text-anchor=\"middle\" x=\"1507.5\" y=\"-84.95\" font-family=\"Courier,monospace\" font-size=\"14.00\" fill=\"#008040\">\"\"\"</text>\n",
       "</g>\n",
       "<!-- 74&#45;&#45;75 -->\n",
       "<g id=\"edge75\" class=\"edge\">\n",
       "<title>74--75</title>\n",
       "<path fill=\"none\" stroke=\"black\" d=\"M1526.45,-144.05C1522.52,-133.05 1517.42,-118.76 1513.5,-107.79\"/>\n",
       "</g>\n",
       "<!-- 77 -->\n",
       "<g id=\"node78\" class=\"node\">\n",
       "<title>77</title>\n",
       "<text xml:space=\"preserve\" text-anchor=\"middle\" x=\"1618.5\" y=\"-156.95\" font-family=\"Courier,monospace\" font-size=\"14.00\" fill=\"#008040\">And</text>\n",
       "</g>\n",
       "<!-- 76&#45;&#45;77 -->\n",
       "<g id=\"edge77\" class=\"edge\">\n",
       "<title>76--77</title>\n",
       "<path fill=\"none\" stroke=\"black\" d=\"M1713.5,-215C1713.5,-215 1673.56,-193.14 1645.47,-177.76\"/>\n",
       "</g>\n",
       "<!-- 78 -->\n",
       "<g id=\"node79\" class=\"node\">\n",
       "<title>78</title>\n",
       "<text xml:space=\"preserve\" text-anchor=\"start\" x=\"1671.62\" y=\"-157.95\" font-family=\"Courier,monospace\" font-weight=\"bold\" font-size=\"14.00\" fill=\"#004080\">Compare</text>\n",
       "</g>\n",
       "<!-- 76&#45;&#45;78 -->\n",
       "<g id=\"edge78\" class=\"edge\">\n",
       "<title>76--78</title>\n",
       "<path fill=\"none\" stroke=\"black\" d=\"M1713.5,-215C1713.5,-215 1708.49,-194.94 1704.68,-179.74\"/>\n",
       "</g>\n",
       "<!-- 85 -->\n",
       "<g id=\"node86\" class=\"node\">\n",
       "<title>85</title>\n",
       "<text xml:space=\"preserve\" text-anchor=\"start\" x=\"1766\" y=\"-157.95\" font-family=\"Courier,monospace\" font-weight=\"bold\" font-size=\"14.00\" fill=\"#004080\">Name</text>\n",
       "</g>\n",
       "<!-- 76&#45;&#45;85 -->\n",
       "<g id=\"edge85\" class=\"edge\">\n",
       "<title>76--85</title>\n",
       "<path fill=\"none\" stroke=\"black\" d=\"M1713.5,-215C1713.5,-215 1740.12,-194.94 1760.29,-179.74\"/>\n",
       "</g>\n",
       "<!-- 79 -->\n",
       "<g id=\"node80\" class=\"node\">\n",
       "<title>79</title>\n",
       "<text xml:space=\"preserve\" text-anchor=\"start\" x=\"1563\" y=\"-85.95\" font-family=\"Courier,monospace\" font-weight=\"bold\" font-size=\"14.00\" fill=\"#004080\">Name</text>\n",
       "</g>\n",
       "<!-- 78&#45;&#45;79 -->\n",
       "<g id=\"edge79\" class=\"edge\">\n",
       "<title>78--79</title>\n",
       "<path fill=\"none\" stroke=\"black\" d=\"M1692.5,-143C1692.5,-143 1649.61,-123.8 1615.5,-108 1612.49,-106.61 1609.34,-105.14 1606.22,-103.67\"/>\n",
       "</g>\n",
       "<!-- 82 -->\n",
       "<g id=\"node83\" class=\"node\">\n",
       "<title>82</title>\n",
       "<text xml:space=\"preserve\" text-anchor=\"middle\" x=\"1651.5\" y=\"-84.95\" font-family=\"Courier,monospace\" font-size=\"14.00\" fill=\"#008040\">Eq</text>\n",
       "</g>\n",
       "<!-- 78&#45;&#45;82 -->\n",
       "<g id=\"edge82\" class=\"edge\">\n",
       "<title>78--82</title>\n",
       "<path fill=\"none\" stroke=\"black\" d=\"M1692.5,-143C1692.5,-143 1676.68,-122.94 1664.7,-107.74\"/>\n",
       "</g>\n",
       "<!-- 83 -->\n",
       "<g id=\"node84\" class=\"node\">\n",
       "<title>83</title>\n",
       "<text xml:space=\"preserve\" text-anchor=\"start\" x=\"1704.5\" y=\"-85.95\" font-family=\"Courier,monospace\" font-weight=\"bold\" font-size=\"14.00\" fill=\"#004080\">Constant</text>\n",
       "</g>\n",
       "<!-- 78&#45;&#45;83 -->\n",
       "<g id=\"edge83\" class=\"edge\">\n",
       "<title>78--83</title>\n",
       "<path fill=\"none\" stroke=\"black\" d=\"M1692.5,-143C1692.5,-143 1709.86,-122.94 1723.01,-107.74\"/>\n",
       "</g>\n",
       "<!-- 80 -->\n",
       "<g id=\"node81\" class=\"node\">\n",
       "<title>80</title>\n",
       "<text xml:space=\"preserve\" text-anchor=\"middle\" x=\"1543.5\" y=\"-12.95\" font-family=\"Courier,monospace\" font-size=\"14.00\" fill=\"#008040\">\"c\"</text>\n",
       "</g>\n",
       "<!-- 79&#45;&#45;80 -->\n",
       "<g id=\"edge80\" class=\"edge\">\n",
       "<title>79--80</title>\n",
       "<path fill=\"none\" stroke=\"black\" d=\"M1579.5,-71C1579.5,-71 1565.61,-50.94 1555.09,-35.74\"/>\n",
       "</g>\n",
       "<!-- 81 -->\n",
       "<g id=\"node82\" class=\"node\">\n",
       "<title>81</title>\n",
       "<text xml:space=\"preserve\" text-anchor=\"middle\" x=\"1615.5\" y=\"-12.95\" font-family=\"Courier,monospace\" font-size=\"14.00\" fill=\"#008040\">Load</text>\n",
       "</g>\n",
       "<!-- 79&#45;&#45;81 -->\n",
       "<g id=\"edge81\" class=\"edge\">\n",
       "<title>79--81</title>\n",
       "<path fill=\"none\" stroke=\"black\" d=\"M1579.5,-71C1579.5,-71 1593.39,-50.94 1603.91,-35.74\"/>\n",
       "</g>\n",
       "<!-- 84 -->\n",
       "<g id=\"node85\" class=\"node\">\n",
       "<title>84</title>\n",
       "<text xml:space=\"preserve\" text-anchor=\"middle\" x=\"1737.5\" y=\"-12.95\" font-family=\"Courier,monospace\" font-size=\"14.00\" fill=\"#008040\">\"'\"</text>\n",
       "</g>\n",
       "<!-- 83&#45;&#45;84 -->\n",
       "<g id=\"edge84\" class=\"edge\">\n",
       "<title>83--84</title>\n",
       "<path fill=\"none\" stroke=\"black\" d=\"M1737.5,-72.05C1737.5,-61.05 1737.5,-46.76 1737.5,-35.79\"/>\n",
       "</g>\n",
       "<!-- 86 -->\n",
       "<g id=\"node87\" class=\"node\">\n",
       "<title>86</title>\n",
       "<text xml:space=\"preserve\" text-anchor=\"middle\" x=\"1825.5\" y=\"-84.95\" font-family=\"Courier,monospace\" font-size=\"14.00\" fill=\"#008040\">\"tag\"</text>\n",
       "</g>\n",
       "<!-- 85&#45;&#45;86 -->\n",
       "<g id=\"edge86\" class=\"edge\">\n",
       "<title>85--86</title>\n",
       "<path fill=\"none\" stroke=\"black\" d=\"M1799.5,-143C1799.5,-143 1809.53,-122.94 1817.13,-107.74\"/>\n",
       "</g>\n",
       "<!-- 87 -->\n",
       "<g id=\"node88\" class=\"node\">\n",
       "<title>87</title>\n",
       "<text xml:space=\"preserve\" text-anchor=\"middle\" x=\"1899.5\" y=\"-84.95\" font-family=\"Courier,monospace\" font-size=\"14.00\" fill=\"#008040\">Load</text>\n",
       "</g>\n",
       "<!-- 85&#45;&#45;87 -->\n",
       "<g id=\"edge87\" class=\"edge\">\n",
       "<title>85--87</title>\n",
       "<path fill=\"none\" stroke=\"black\" d=\"M1799.5,-143C1799.5,-143 1843.08,-120.34 1872.7,-104.94\"/>\n",
       "</g>\n",
       "<!-- 89 -->\n",
       "<g id=\"node90\" class=\"node\">\n",
       "<title>89</title>\n",
       "<text xml:space=\"preserve\" text-anchor=\"start\" x=\"1848\" y=\"-229.95\" font-family=\"Courier,monospace\" font-weight=\"bold\" font-size=\"14.00\" fill=\"#004080\">Name</text>\n",
       "</g>\n",
       "<!-- 88&#45;&#45;89 -->\n",
       "<g id=\"edge89\" class=\"edge\">\n",
       "<title>88--89</title>\n",
       "<path fill=\"none\" stroke=\"black\" d=\"M1846.5,-287C1846.5,-287 1853.44,-266.94 1858.71,-251.74\"/>\n",
       "</g>\n",
       "<!-- 92 -->\n",
       "<g id=\"node93\" class=\"node\">\n",
       "<title>92</title>\n",
       "<text xml:space=\"preserve\" text-anchor=\"start\" x=\"1993.62\" y=\"-229.95\" font-family=\"Courier,monospace\" font-weight=\"bold\" font-size=\"14.00\" fill=\"#004080\">UnaryOp</text>\n",
       "</g>\n",
       "<!-- 88&#45;&#45;92 -->\n",
       "<g id=\"edge92\" class=\"edge\">\n",
       "<title>88--92</title>\n",
       "<path fill=\"none\" stroke=\"black\" d=\"M1846.5,-287C1846.5,-287 1934.48,-261.01 1986.03,-245.77\"/>\n",
       "</g>\n",
       "<!-- 90 -->\n",
       "<g id=\"node91\" class=\"node\">\n",
       "<title>90</title>\n",
       "<text xml:space=\"preserve\" text-anchor=\"middle\" x=\"1864.5\" y=\"-156.95\" font-family=\"Courier,monospace\" font-size=\"14.00\" fill=\"#008040\">\"quote\"</text>\n",
       "</g>\n",
       "<!-- 89&#45;&#45;90 -->\n",
       "<g id=\"edge90\" class=\"edge\">\n",
       "<title>89--90</title>\n",
       "<path fill=\"none\" stroke=\"black\" d=\"M1872.5,-215C1872.5,-215 1869.41,-194.94 1867.08,-179.74\"/>\n",
       "</g>\n",
       "<!-- 91 -->\n",
       "<g id=\"node92\" class=\"node\">\n",
       "<title>91</title>\n",
       "<text xml:space=\"preserve\" text-anchor=\"middle\" x=\"1948.5\" y=\"-156.95\" font-family=\"Courier,monospace\" font-size=\"14.00\" fill=\"#008040\">Store</text>\n",
       "</g>\n",
       "<!-- 89&#45;&#45;91 -->\n",
       "<g id=\"edge91\" class=\"edge\">\n",
       "<title>89--91</title>\n",
       "<path fill=\"none\" stroke=\"black\" d=\"M1872.5,-215C1872.5,-215 1901.82,-194.94 1924.03,-179.74\"/>\n",
       "</g>\n",
       "<!-- 93 -->\n",
       "<g id=\"node94\" class=\"node\">\n",
       "<title>93</title>\n",
       "<text xml:space=\"preserve\" text-anchor=\"middle\" x=\"2022.5\" y=\"-156.95\" font-family=\"Courier,monospace\" font-size=\"14.00\" fill=\"#008040\">Not</text>\n",
       "</g>\n",
       "<!-- 92&#45;&#45;93 -->\n",
       "<g id=\"edge93\" class=\"edge\">\n",
       "<title>92--93</title>\n",
       "<path fill=\"none\" stroke=\"black\" d=\"M2029.5,-215C2029.5,-215 2026.8,-194.94 2024.75,-179.74\"/>\n",
       "</g>\n",
       "<!-- 94 -->\n",
       "<g id=\"node95\" class=\"node\">\n",
       "<title>94</title>\n",
       "<text xml:space=\"preserve\" text-anchor=\"start\" x=\"2078\" y=\"-157.95\" font-family=\"Courier,monospace\" font-weight=\"bold\" font-size=\"14.00\" fill=\"#004080\">Name</text>\n",
       "</g>\n",
       "<!-- 92&#45;&#45;94 -->\n",
       "<g id=\"edge94\" class=\"edge\">\n",
       "<title>92--94</title>\n",
       "<path fill=\"none\" stroke=\"black\" d=\"M2029.5,-215C2029.5,-215 2054.57,-194.94 2073.58,-179.74\"/>\n",
       "</g>\n",
       "<!-- 95 -->\n",
       "<g id=\"node96\" class=\"node\">\n",
       "<title>95</title>\n",
       "<text xml:space=\"preserve\" text-anchor=\"middle\" x=\"2012.5\" y=\"-84.95\" font-family=\"Courier,monospace\" font-size=\"14.00\" fill=\"#008040\">\"quote\"</text>\n",
       "</g>\n",
       "<!-- 94&#45;&#45;95 -->\n",
       "<g id=\"edge95\" class=\"edge\">\n",
       "<title>94--95</title>\n",
       "<path fill=\"none\" stroke=\"black\" d=\"M2086.5,-143C2086.5,-143 2057.95,-122.94 2036.32,-107.74\"/>\n",
       "</g>\n",
       "<!-- 96 -->\n",
       "<g id=\"node97\" class=\"node\">\n",
       "<title>96</title>\n",
       "<text xml:space=\"preserve\" text-anchor=\"middle\" x=\"2094.5\" y=\"-84.95\" font-family=\"Courier,monospace\" font-size=\"14.00\" fill=\"#008040\">Load</text>\n",
       "</g>\n",
       "<!-- 94&#45;&#45;96 -->\n",
       "<g id=\"edge96\" class=\"edge\">\n",
       "<title>94--96</title>\n",
       "<path fill=\"none\" stroke=\"black\" d=\"M2086.5,-143C2086.5,-143 2089.59,-122.94 2091.92,-107.74\"/>\n",
       "</g>\n",
       "<!-- 98 -->\n",
       "<g id=\"node99\" class=\"node\">\n",
       "<title>98</title>\n",
       "<text xml:space=\"preserve\" text-anchor=\"start\" x=\"2137.62\" y=\"-229.95\" font-family=\"Courier,monospace\" font-weight=\"bold\" font-size=\"14.00\" fill=\"#004080\">UnaryOp</text>\n",
       "</g>\n",
       "<!-- 97&#45;&#45;98 -->\n",
       "<g id=\"edge98\" class=\"edge\">\n",
       "<title>97--98</title>\n",
       "<path fill=\"none\" stroke=\"black\" d=\"M1931.5,-299C1931.5,-299 1935.14,-291.34 1940.5,-288 1956.53,-278 2070.31,-254.22 2130.06,-242.21\"/>\n",
       "</g>\n",
       "<!-- 103 -->\n",
       "<g id=\"node104\" class=\"node\">\n",
       "<title>103</title>\n",
       "<text xml:space=\"preserve\" text-anchor=\"start\" x=\"2329.75\" y=\"-229.95\" font-family=\"Courier,monospace\" font-weight=\"bold\" font-size=\"14.00\" fill=\"#004080\">Assign</text>\n",
       "</g>\n",
       "<!-- 97&#45;&#45;103 -->\n",
       "<g id=\"edge103\" class=\"edge\">\n",
       "<title>97--103</title>\n",
       "<path fill=\"none\" stroke=\"black\" d=\"M1931.5,-299C1931.5,-299 1934.98,-291.06 1940.5,-288 1944.69,-285.68 2225.2,-250.94 2322.04,-238.99\"/>\n",
       "</g>\n",
       "<!-- 99 -->\n",
       "<g id=\"node100\" class=\"node\">\n",
       "<title>99</title>\n",
       "<text xml:space=\"preserve\" text-anchor=\"middle\" x=\"2166.5\" y=\"-156.95\" font-family=\"Courier,monospace\" font-size=\"14.00\" fill=\"#008040\">Not</text>\n",
       "</g>\n",
       "<!-- 98&#45;&#45;99 -->\n",
       "<g id=\"edge99\" class=\"edge\">\n",
       "<title>98--99</title>\n",
       "<path fill=\"none\" stroke=\"black\" d=\"M2173.5,-215C2173.5,-215 2170.8,-194.94 2168.75,-179.74\"/>\n",
       "</g>\n",
       "<!-- 100 -->\n",
       "<g id=\"node101\" class=\"node\">\n",
       "<title>100</title>\n",
       "<text xml:space=\"preserve\" text-anchor=\"start\" x=\"2222\" y=\"-157.95\" font-family=\"Courier,monospace\" font-weight=\"bold\" font-size=\"14.00\" fill=\"#004080\">Name</text>\n",
       "</g>\n",
       "<!-- 98&#45;&#45;100 -->\n",
       "<g id=\"edge100\" class=\"edge\">\n",
       "<title>98--100</title>\n",
       "<path fill=\"none\" stroke=\"black\" d=\"M2173.5,-215C2173.5,-215 2198.57,-194.94 2217.58,-179.74\"/>\n",
       "</g>\n",
       "<!-- 101 -->\n",
       "<g id=\"node102\" class=\"node\">\n",
       "<title>101</title>\n",
       "<text xml:space=\"preserve\" text-anchor=\"middle\" x=\"2168.5\" y=\"-84.95\" font-family=\"Courier,monospace\" font-size=\"14.00\" fill=\"#008040\">\"tag\"</text>\n",
       "</g>\n",
       "<!-- 100&#45;&#45;101 -->\n",
       "<g id=\"edge101\" class=\"edge\">\n",
       "<title>100--101</title>\n",
       "<path fill=\"none\" stroke=\"black\" d=\"M2231.5,-143C2231.5,-143 2207.2,-122.94 2188.78,-107.74\"/>\n",
       "</g>\n",
       "<!-- 102 -->\n",
       "<g id=\"node103\" class=\"node\">\n",
       "<title>102</title>\n",
       "<text xml:space=\"preserve\" text-anchor=\"middle\" x=\"2242.5\" y=\"-84.95\" font-family=\"Courier,monospace\" font-size=\"14.00\" fill=\"#008040\">Load</text>\n",
       "</g>\n",
       "<!-- 100&#45;&#45;102 -->\n",
       "<g id=\"edge102\" class=\"edge\">\n",
       "<title>100--102</title>\n",
       "<path fill=\"none\" stroke=\"black\" d=\"M2231.5,-143C2231.5,-143 2235.74,-122.94 2238.96,-107.74\"/>\n",
       "</g>\n",
       "<!-- 104 -->\n",
       "<g id=\"node105\" class=\"node\">\n",
       "<title>104</title>\n",
       "<text xml:space=\"preserve\" text-anchor=\"start\" x=\"2338\" y=\"-157.95\" font-family=\"Courier,monospace\" font-weight=\"bold\" font-size=\"14.00\" fill=\"#004080\">Name</text>\n",
       "</g>\n",
       "<!-- 103&#45;&#45;104 -->\n",
       "<g id=\"edge104\" class=\"edge\">\n",
       "<title>103--104</title>\n",
       "<path fill=\"none\" stroke=\"black\" d=\"M2365.5,-215C2365.5,-215 2361.26,-194.94 2358.04,-179.74\"/>\n",
       "</g>\n",
       "<!-- 107 -->\n",
       "<g id=\"node108\" class=\"node\">\n",
       "<title>107</title>\n",
       "<text xml:space=\"preserve\" text-anchor=\"start\" x=\"2480.88\" y=\"-157.95\" font-family=\"Courier,monospace\" font-weight=\"bold\" font-size=\"14.00\" fill=\"#004080\">BinOp</text>\n",
       "</g>\n",
       "<!-- 103&#45;&#45;107 -->\n",
       "<g id=\"edge107\" class=\"edge\">\n",
       "<title>103--107</title>\n",
       "<path fill=\"none\" stroke=\"black\" d=\"M2365.5,-215C2365.5,-215 2433.11,-189.15 2472.99,-173.9\"/>\n",
       "</g>\n",
       "<!-- 105 -->\n",
       "<g id=\"node106\" class=\"node\">\n",
       "<title>105</title>\n",
       "<text xml:space=\"preserve\" text-anchor=\"middle\" x=\"2316.5\" y=\"-84.95\" font-family=\"Courier,monospace\" font-size=\"14.00\" fill=\"#008040\">\"out\"</text>\n",
       "</g>\n",
       "<!-- 104&#45;&#45;105 -->\n",
       "<g id=\"edge105\" class=\"edge\">\n",
       "<title>104--105</title>\n",
       "<path fill=\"none\" stroke=\"black\" d=\"M2354.5,-143C2354.5,-143 2339.84,-122.94 2328.73,-107.74\"/>\n",
       "</g>\n",
       "<!-- 106 -->\n",
       "<g id=\"node107\" class=\"node\">\n",
       "<title>106</title>\n",
       "<text xml:space=\"preserve\" text-anchor=\"middle\" x=\"2391.5\" y=\"-84.95\" font-family=\"Courier,monospace\" font-size=\"14.00\" fill=\"#008040\">Store</text>\n",
       "</g>\n",
       "<!-- 104&#45;&#45;106 -->\n",
       "<g id=\"edge106\" class=\"edge\">\n",
       "<title>104--106</title>\n",
       "<path fill=\"none\" stroke=\"black\" d=\"M2354.5,-143C2354.5,-143 2368.77,-122.94 2379.59,-107.74\"/>\n",
       "</g>\n",
       "<!-- 108 -->\n",
       "<g id=\"node109\" class=\"node\">\n",
       "<title>108</title>\n",
       "<text xml:space=\"preserve\" text-anchor=\"start\" x=\"2449\" y=\"-85.95\" font-family=\"Courier,monospace\" font-weight=\"bold\" font-size=\"14.00\" fill=\"#004080\">Name</text>\n",
       "</g>\n",
       "<!-- 107&#45;&#45;108 -->\n",
       "<g id=\"edge108\" class=\"edge\">\n",
       "<title>107--108</title>\n",
       "<path fill=\"none\" stroke=\"black\" d=\"M2507.5,-143C2507.5,-143 2491.3,-122.94 2479.02,-107.74\"/>\n",
       "</g>\n",
       "<!-- 111 -->\n",
       "<g id=\"node112\" class=\"node\">\n",
       "<title>111</title>\n",
       "<text xml:space=\"preserve\" text-anchor=\"middle\" x=\"2537.5\" y=\"-84.95\" font-family=\"Courier,monospace\" font-size=\"14.00\" fill=\"#008040\">Add</text>\n",
       "</g>\n",
       "<!-- 107&#45;&#45;111 -->\n",
       "<g id=\"edge111\" class=\"edge\">\n",
       "<title>107--111</title>\n",
       "<path fill=\"none\" stroke=\"black\" d=\"M2507.5,-143C2507.5,-143 2519.07,-122.94 2527.84,-107.74\"/>\n",
       "</g>\n",
       "<!-- 112 -->\n",
       "<g id=\"node113\" class=\"node\">\n",
       "<title>112</title>\n",
       "<text xml:space=\"preserve\" text-anchor=\"start\" x=\"2593\" y=\"-85.95\" font-family=\"Courier,monospace\" font-weight=\"bold\" font-size=\"14.00\" fill=\"#004080\">Name</text>\n",
       "</g>\n",
       "<!-- 107&#45;&#45;112 -->\n",
       "<g id=\"edge112\" class=\"edge\">\n",
       "<title>107--112</title>\n",
       "<path fill=\"none\" stroke=\"black\" d=\"M2507.5,-143C2507.5,-143 2552.48,-120.07 2582.7,-104.66\"/>\n",
       "</g>\n",
       "<!-- 109 -->\n",
       "<g id=\"node110\" class=\"node\">\n",
       "<title>109</title>\n",
       "<text xml:space=\"preserve\" text-anchor=\"middle\" x=\"2391.5\" y=\"-12.95\" font-family=\"Courier,monospace\" font-size=\"14.00\" fill=\"#008040\">\"out\"</text>\n",
       "</g>\n",
       "<!-- 108&#45;&#45;109 -->\n",
       "<g id=\"edge109\" class=\"edge\">\n",
       "<title>108--109</title>\n",
       "<path fill=\"none\" stroke=\"black\" d=\"M2457.5,-71C2457.5,-71 2432.04,-50.94 2412.75,-35.74\"/>\n",
       "</g>\n",
       "<!-- 110 -->\n",
       "<g id=\"node111\" class=\"node\">\n",
       "<title>110</title>\n",
       "<text xml:space=\"preserve\" text-anchor=\"middle\" x=\"2465.5\" y=\"-12.95\" font-family=\"Courier,monospace\" font-size=\"14.00\" fill=\"#008040\">Load</text>\n",
       "</g>\n",
       "<!-- 108&#45;&#45;110 -->\n",
       "<g id=\"edge110\" class=\"edge\">\n",
       "<title>108--110</title>\n",
       "<path fill=\"none\" stroke=\"black\" d=\"M2457.5,-71C2457.5,-71 2460.59,-50.94 2462.92,-35.74\"/>\n",
       "</g>\n",
       "<!-- 113 -->\n",
       "<g id=\"node114\" class=\"node\">\n",
       "<title>113</title>\n",
       "<text xml:space=\"preserve\" text-anchor=\"middle\" x=\"2573.5\" y=\"-12.95\" font-family=\"Courier,monospace\" font-size=\"14.00\" fill=\"#008040\">\"c\"</text>\n",
       "</g>\n",
       "<!-- 112&#45;&#45;113 -->\n",
       "<g id=\"edge113\" class=\"edge\">\n",
       "<title>112--113</title>\n",
       "<path fill=\"none\" stroke=\"black\" d=\"M2609.5,-71C2609.5,-71 2595.61,-50.94 2585.09,-35.74\"/>\n",
       "</g>\n",
       "<!-- 114 -->\n",
       "<g id=\"node115\" class=\"node\">\n",
       "<title>114</title>\n",
       "<text xml:space=\"preserve\" text-anchor=\"middle\" x=\"2645.5\" y=\"-12.95\" font-family=\"Courier,monospace\" font-size=\"14.00\" fill=\"#008040\">Load</text>\n",
       "</g>\n",
       "<!-- 112&#45;&#45;114 -->\n",
       "<g id=\"edge114\" class=\"edge\">\n",
       "<title>112--114</title>\n",
       "<path fill=\"none\" stroke=\"black\" d=\"M2609.5,-71C2609.5,-71 2623.39,-50.94 2633.91,-35.74\"/>\n",
       "</g>\n",
       "<!-- 116 -->\n",
       "<g id=\"node117\" class=\"node\">\n",
       "<title>116</title>\n",
       "<text xml:space=\"preserve\" text-anchor=\"start\" x=\"1940.75\" y=\"-517.95\" font-family=\"Courier,monospace\" font-weight=\"bold\" font-size=\"14.00\" fill=\"#004080\">BoolOp</text>\n",
       "</g>\n",
       "<!-- 115&#45;&#45;116 -->\n",
       "<g id=\"edge116\" class=\"edge\">\n",
       "<title>115--116</title>\n",
       "<path fill=\"none\" stroke=\"black\" d=\"M1382.18,-589.29C1488.89,-577.16 1826.3,-538.82 1932.89,-526.71\"/>\n",
       "</g>\n",
       "<!-- 117 -->\n",
       "<g id=\"node118\" class=\"node\">\n",
       "<title>117</title>\n",
       "<text xml:space=\"preserve\" text-anchor=\"middle\" x=\"1924.5\" y=\"-444.95\" font-family=\"Courier,monospace\" font-size=\"14.00\" fill=\"#008040\">And</text>\n",
       "</g>\n",
       "<!-- 116&#45;&#45;117 -->\n",
       "<g id=\"edge117\" class=\"edge\">\n",
       "<title>116--117</title>\n",
       "<path fill=\"none\" stroke=\"black\" d=\"M1973.5,-503C1973.5,-503 1954.6,-482.94 1940.27,-467.74\"/>\n",
       "</g>\n",
       "<!-- 118 -->\n",
       "<g id=\"node119\" class=\"node\">\n",
       "<title>118</title>\n",
       "<text xml:space=\"preserve\" text-anchor=\"start\" x=\"1977.62\" y=\"-445.95\" font-family=\"Courier,monospace\" font-weight=\"bold\" font-size=\"14.00\" fill=\"#004080\">Compare</text>\n",
       "</g>\n",
       "<!-- 116&#45;&#45;118 -->\n",
       "<g id=\"edge118\" class=\"edge\">\n",
       "<title>116--118</title>\n",
       "<path fill=\"none\" stroke=\"black\" d=\"M1973.5,-503C1973.5,-503 1986.23,-482.94 1995.88,-467.74\"/>\n",
       "</g>\n",
       "<!-- 125 -->\n",
       "<g id=\"node126\" class=\"node\">\n",
       "<title>125</title>\n",
       "<text xml:space=\"preserve\" text-anchor=\"start\" x=\"2137.62\" y=\"-445.95\" font-family=\"Courier,monospace\" font-weight=\"bold\" font-size=\"14.00\" fill=\"#004080\">Compare</text>\n",
       "</g>\n",
       "<!-- 116&#45;&#45;125 -->\n",
       "<g id=\"edge125\" class=\"edge\">\n",
       "<title>116--125</title>\n",
       "<path fill=\"none\" stroke=\"black\" d=\"M1973.5,-503C1973.5,-503 2073.75,-475.99 2129.74,-460.9\"/>\n",
       "</g>\n",
       "<!-- 119 -->\n",
       "<g id=\"node120\" class=\"node\">\n",
       "<title>119</title>\n",
       "<text xml:space=\"preserve\" text-anchor=\"start\" x=\"1885.5\" y=\"-373.95\" font-family=\"Courier,monospace\" font-weight=\"bold\" font-size=\"14.00\" fill=\"#004080\">Constant</text>\n",
       "</g>\n",
       "<!-- 118&#45;&#45;119 -->\n",
       "<g id=\"edge119\" class=\"edge\">\n",
       "<title>118--119</title>\n",
       "<path fill=\"none\" stroke=\"black\" d=\"M2006.5,-431C2006.5,-431 1972.55,-410.94 1946.83,-395.74\"/>\n",
       "</g>\n",
       "<!-- 121 -->\n",
       "<g id=\"node122\" class=\"node\">\n",
       "<title>121</title>\n",
       "<text xml:space=\"preserve\" text-anchor=\"middle\" x=\"2006.5\" y=\"-372.95\" font-family=\"Courier,monospace\" font-size=\"14.00\" fill=\"#008040\">NotIn</text>\n",
       "</g>\n",
       "<!-- 118&#45;&#45;121 -->\n",
       "<g id=\"edge121\" class=\"edge\">\n",
       "<title>118--121</title>\n",
       "<path fill=\"none\" stroke=\"black\" d=\"M2006.5,-431C2006.5,-431 2006.5,-410.94 2006.5,-395.74\"/>\n",
       "</g>\n",
       "<!-- 122 -->\n",
       "<g id=\"node123\" class=\"node\">\n",
       "<title>122</title>\n",
       "<text xml:space=\"preserve\" text-anchor=\"start\" x=\"2064\" y=\"-373.95\" font-family=\"Courier,monospace\" font-weight=\"bold\" font-size=\"14.00\" fill=\"#004080\">Name</text>\n",
       "</g>\n",
       "<!-- 118&#45;&#45;122 -->\n",
       "<g id=\"edge122\" class=\"edge\">\n",
       "<title>118--122</title>\n",
       "<path fill=\"none\" stroke=\"black\" d=\"M2006.5,-431C2006.5,-431 2035.05,-410.94 2056.68,-395.74\"/>\n",
       "</g>\n",
       "<!-- 120 -->\n",
       "<g id=\"node121\" class=\"node\">\n",
       "<title>120</title>\n",
       "<text xml:space=\"preserve\" text-anchor=\"middle\" x=\"1976.5\" y=\"-300.95\" font-family=\"Courier,monospace\" font-size=\"14.00\" fill=\"#008040\">\"&lt;\"</text>\n",
       "</g>\n",
       "<!-- 119&#45;&#45;120 -->\n",
       "<g id=\"edge120\" class=\"edge\">\n",
       "<title>119--120</title>\n",
       "<path fill=\"none\" stroke=\"black\" d=\"M1932.54,-360.05C1941.66,-349.05 1953.5,-334.76 1962.59,-323.79\"/>\n",
       "</g>\n",
       "<!-- 123 -->\n",
       "<g id=\"node124\" class=\"node\">\n",
       "<title>123</title>\n",
       "<text xml:space=\"preserve\" text-anchor=\"middle\" x=\"2050.5\" y=\"-300.95\" font-family=\"Courier,monospace\" font-size=\"14.00\" fill=\"#008040\">\"out\"</text>\n",
       "</g>\n",
       "<!-- 122&#45;&#45;123 -->\n",
       "<g id=\"edge123\" class=\"edge\">\n",
       "<title>122--123</title>\n",
       "<path fill=\"none\" stroke=\"black\" d=\"M2081.5,-359C2081.5,-359 2069.54,-338.94 2060.48,-323.74\"/>\n",
       "</g>\n",
       "<!-- 124 -->\n",
       "<g id=\"node125\" class=\"node\">\n",
       "<title>124</title>\n",
       "<text xml:space=\"preserve\" text-anchor=\"middle\" x=\"2124.5\" y=\"-300.95\" font-family=\"Courier,monospace\" font-size=\"14.00\" fill=\"#008040\">Load</text>\n",
       "</g>\n",
       "<!-- 122&#45;&#45;124 -->\n",
       "<g id=\"edge124\" class=\"edge\">\n",
       "<title>122--124</title>\n",
       "<path fill=\"none\" stroke=\"black\" d=\"M2081.5,-359C2081.5,-359 2098.09,-338.94 2110.66,-323.74\"/>\n",
       "</g>\n",
       "<!-- 126 -->\n",
       "<g id=\"node127\" class=\"node\">\n",
       "<title>126</title>\n",
       "<text xml:space=\"preserve\" text-anchor=\"start\" x=\"2133.5\" y=\"-373.95\" font-family=\"Courier,monospace\" font-weight=\"bold\" font-size=\"14.00\" fill=\"#004080\">Constant</text>\n",
       "</g>\n",
       "<!-- 125&#45;&#45;126 -->\n",
       "<g id=\"edge126\" class=\"edge\">\n",
       "<title>125--126</title>\n",
       "<path fill=\"none\" stroke=\"black\" d=\"M2181.5,-431C2181.5,-431 2175.71,-410.94 2171.33,-395.74\"/>\n",
       "</g>\n",
       "<!-- 128 -->\n",
       "<g id=\"node129\" class=\"node\">\n",
       "<title>128</title>\n",
       "<text xml:space=\"preserve\" text-anchor=\"middle\" x=\"2254.5\" y=\"-372.95\" font-family=\"Courier,monospace\" font-size=\"14.00\" fill=\"#008040\">NotIn</text>\n",
       "</g>\n",
       "<!-- 125&#45;&#45;128 -->\n",
       "<g id=\"edge128\" class=\"edge\">\n",
       "<title>125--128</title>\n",
       "<path fill=\"none\" stroke=\"black\" d=\"M2181.5,-431C2181.5,-431 2209.66,-410.94 2231,-395.74\"/>\n",
       "</g>\n",
       "<!-- 129 -->\n",
       "<g id=\"node130\" class=\"node\">\n",
       "<title>129</title>\n",
       "<text xml:space=\"preserve\" text-anchor=\"start\" x=\"2312\" y=\"-373.95\" font-family=\"Courier,monospace\" font-weight=\"bold\" font-size=\"14.00\" fill=\"#004080\">Name</text>\n",
       "</g>\n",
       "<!-- 125&#45;&#45;129 -->\n",
       "<g id=\"edge129\" class=\"edge\">\n",
       "<title>125--129</title>\n",
       "<path fill=\"none\" stroke=\"black\" d=\"M2181.5,-431C2181.5,-431 2244.34,-414.87 2292.5,-396 2295.46,-394.84 2298.52,-393.55 2301.55,-392.21\"/>\n",
       "</g>\n",
       "<!-- 127 -->\n",
       "<g id=\"node128\" class=\"node\">\n",
       "<title>127</title>\n",
       "<text xml:space=\"preserve\" text-anchor=\"middle\" x=\"2196.5\" y=\"-300.95\" font-family=\"Courier,monospace\" font-size=\"14.00\" fill=\"#008040\">\"&gt;\"</text>\n",
       "</g>\n",
       "<!-- 126&#45;&#45;127 -->\n",
       "<g id=\"edge127\" class=\"edge\">\n",
       "<title>126--127</title>\n",
       "<path fill=\"none\" stroke=\"black\" d=\"M2173.76,-360.05C2178.48,-349.05 2184.6,-334.76 2189.3,-323.79\"/>\n",
       "</g>\n",
       "<!-- 130 -->\n",
       "<g id=\"node131\" class=\"node\">\n",
       "<title>130</title>\n",
       "<text xml:space=\"preserve\" text-anchor=\"middle\" x=\"2284.5\" y=\"-300.95\" font-family=\"Courier,monospace\" font-size=\"14.00\" fill=\"#008040\">\"out\"</text>\n",
       "</g>\n",
       "<!-- 129&#45;&#45;130 -->\n",
       "<g id=\"edge130\" class=\"edge\">\n",
       "<title>129--130</title>\n",
       "<path fill=\"none\" stroke=\"black\" d=\"M2327.5,-359C2327.5,-359 2310.91,-338.94 2298.34,-323.74\"/>\n",
       "</g>\n",
       "<!-- 131 -->\n",
       "<g id=\"node132\" class=\"node\">\n",
       "<title>131</title>\n",
       "<text xml:space=\"preserve\" text-anchor=\"middle\" x=\"2358.5\" y=\"-300.95\" font-family=\"Courier,monospace\" font-size=\"14.00\" fill=\"#008040\">Load</text>\n",
       "</g>\n",
       "<!-- 129&#45;&#45;131 -->\n",
       "<g id=\"edge131\" class=\"edge\">\n",
       "<title>129--131</title>\n",
       "<path fill=\"none\" stroke=\"black\" d=\"M2327.5,-359C2327.5,-359 2339.46,-338.94 2348.52,-323.74\"/>\n",
       "</g>\n",
       "<!-- 133 -->\n",
       "<g id=\"node134\" class=\"node\">\n",
       "<title>133</title>\n",
       "<text xml:space=\"preserve\" text-anchor=\"start\" x=\"2234\" y=\"-517.95\" font-family=\"Courier,monospace\" font-weight=\"bold\" font-size=\"14.00\" fill=\"#004080\">Name</text>\n",
       "</g>\n",
       "<!-- 132&#45;&#45;133 -->\n",
       "<g id=\"edge133\" class=\"edge\">\n",
       "<title>132--133</title>\n",
       "<path fill=\"none\" stroke=\"black\" d=\"M1836.93,-587.91C1921.23,-574.68 2146.02,-539.4 2223.67,-527.21\"/>\n",
       "</g>\n",
       "<!-- 134 -->\n",
       "<g id=\"node135\" class=\"node\">\n",
       "<title>134</title>\n",
       "<text xml:space=\"preserve\" text-anchor=\"middle\" x=\"2250.5\" y=\"-444.95\" font-family=\"Courier,monospace\" font-size=\"14.00\" fill=\"#008040\">\"out\"</text>\n",
       "</g>\n",
       "<!-- 133&#45;&#45;134 -->\n",
       "<g id=\"edge134\" class=\"edge\">\n",
       "<title>133--134</title>\n",
       "<path fill=\"none\" stroke=\"black\" d=\"M2258.5,-503C2258.5,-503 2255.41,-482.94 2253.08,-467.74\"/>\n",
       "</g>\n",
       "<!-- 135 -->\n",
       "<g id=\"node136\" class=\"node\">\n",
       "<title>135</title>\n",
       "<text xml:space=\"preserve\" text-anchor=\"middle\" x=\"2324.5\" y=\"-444.95\" font-family=\"Courier,monospace\" font-size=\"14.00\" fill=\"#008040\">Load</text>\n",
       "</g>\n",
       "<!-- 133&#45;&#45;135 -->\n",
       "<g id=\"edge135\" class=\"edge\">\n",
       "<title>133--135</title>\n",
       "<path fill=\"none\" stroke=\"black\" d=\"M2258.5,-503C2258.5,-503 2283.96,-482.94 2303.25,-467.74\"/>\n",
       "</g>\n",
       "</g>\n",
       "</svg>"
      ],
      "text/plain": [
       "<IPython.core.display.SVG object>"
      ]
     },
     "metadata": {},
     "output_type": "display_data"
    }
   ],
   "source": [
    "new_fun_tree = cast(ast.Module, copy_and_reduce(fun_tree, keep_list))\n",
    "show_ast(new_fun_tree)"
   ]
  },
  {
   "cell_type": "markdown",
   "metadata": {
    "slideshow": {
     "slide_type": "subslide"
    }
   },
   "source": [
    "The new tree no longer contains the initial assignment to `tag`:"
   ]
  },
  {
   "cell_type": "code",
   "execution_count": 165,
   "metadata": {
    "execution": {
     "iopub.execute_input": "2025-10-26T17:47:41.976897Z",
     "iopub.status.busy": "2025-10-26T17:47:41.976768Z",
     "iopub.status.idle": "2025-10-26T17:47:41.991874Z",
     "shell.execute_reply": "2025-10-26T17:47:41.991577Z"
    },
    "slideshow": {
     "slide_type": "subslide"
    }
   },
   "outputs": [
    {
     "name": "stdout",
     "output_type": "stream",
     "text": [
      "\u001b[34mdef\u001b[39;49;00m\u001b[37m \u001b[39;49;00m\u001b[32mremove_html_markup\u001b[39;49;00m(s):\u001b[37m\u001b[39;49;00m\n",
      "    quote = \u001b[34mFalse\u001b[39;49;00m\u001b[37m\u001b[39;49;00m\n",
      "    out = \u001b[33m'\u001b[39;49;00m\u001b[33m'\u001b[39;49;00m\u001b[37m\u001b[39;49;00m\n",
      "    \u001b[34mfor\u001b[39;49;00m c \u001b[35min\u001b[39;49;00m s:\u001b[37m\u001b[39;49;00m\n",
      "        \u001b[34mif\u001b[39;49;00m c == \u001b[33m'\u001b[39;49;00m\u001b[33m<\u001b[39;49;00m\u001b[33m'\u001b[39;49;00m \u001b[35mand\u001b[39;49;00m (\u001b[35mnot\u001b[39;49;00m quote):\u001b[37m\u001b[39;49;00m\n",
      "            tag = \u001b[34mTrue\u001b[39;49;00m\u001b[37m\u001b[39;49;00m\n",
      "        \u001b[34melif\u001b[39;49;00m c == \u001b[33m'\u001b[39;49;00m\u001b[33m>\u001b[39;49;00m\u001b[33m'\u001b[39;49;00m \u001b[35mand\u001b[39;49;00m (\u001b[35mnot\u001b[39;49;00m quote):\u001b[37m\u001b[39;49;00m\n",
      "            tag = \u001b[34mFalse\u001b[39;49;00m\u001b[37m\u001b[39;49;00m\n",
      "        \u001b[34melif\u001b[39;49;00m c == \u001b[33m'\u001b[39;49;00m\u001b[33m\"\u001b[39;49;00m\u001b[33m'\u001b[39;49;00m \u001b[35mor\u001b[39;49;00m (c == \u001b[33m\"\u001b[39;49;00m\u001b[33m'\u001b[39;49;00m\u001b[33m\"\u001b[39;49;00m \u001b[35mand\u001b[39;49;00m tag):\u001b[37m\u001b[39;49;00m\n",
      "            quote = \u001b[35mnot\u001b[39;49;00m quote\u001b[37m\u001b[39;49;00m\n",
      "        \u001b[34melif\u001b[39;49;00m \u001b[35mnot\u001b[39;49;00m tag:\u001b[37m\u001b[39;49;00m\n",
      "            out = out + c\u001b[37m\u001b[39;49;00m\n",
      "    \u001b[34massert\u001b[39;49;00m \u001b[33m'\u001b[39;49;00m\u001b[33m<\u001b[39;49;00m\u001b[33m'\u001b[39;49;00m \u001b[35mnot\u001b[39;49;00m \u001b[35min\u001b[39;49;00m out \u001b[35mand\u001b[39;49;00m \u001b[33m'\u001b[39;49;00m\u001b[33m>\u001b[39;49;00m\u001b[33m'\u001b[39;49;00m \u001b[35mnot\u001b[39;49;00m \u001b[35min\u001b[39;49;00m out\u001b[37m\u001b[39;49;00m\n",
      "    \u001b[34mreturn\u001b[39;49;00m out\u001b[37m\u001b[39;49;00m"
     ]
    }
   ],
   "source": [
    "print_content(ast.unparse(new_fun_tree), '.py')"
   ]
  },
  {
   "cell_type": "markdown",
   "metadata": {
    "slideshow": {
     "slide_type": "subslide"
    }
   },
   "source": [
    "If we add our tests and then execute this code, we get an error, as `tag` is now no longer initialized:"
   ]
  },
  {
   "cell_type": "code",
   "execution_count": 166,
   "metadata": {
    "execution": {
     "iopub.execute_input": "2025-10-26T17:47:41.993634Z",
     "iopub.status.busy": "2025-10-26T17:47:41.993517Z",
     "iopub.status.idle": "2025-10-26T17:47:41.995223Z",
     "shell.execute_reply": "2025-10-26T17:47:41.994827Z"
    },
    "slideshow": {
     "slide_type": "fragment"
    }
   },
   "outputs": [],
   "source": [
    "new_fun_tree.body += test_tree.body"
   ]
  },
  {
   "cell_type": "code",
   "execution_count": 167,
   "metadata": {
    "execution": {
     "iopub.execute_input": "2025-10-26T17:47:41.997125Z",
     "iopub.status.busy": "2025-10-26T17:47:41.997005Z",
     "iopub.status.idle": "2025-10-26T17:47:41.998936Z",
     "shell.execute_reply": "2025-10-26T17:47:41.998603Z"
    },
    "slideshow": {
     "slide_type": "fragment"
    }
   },
   "outputs": [],
   "source": [
    "fun_code = compile(new_fun_tree, \"<string>\", 'exec')"
   ]
  },
  {
   "cell_type": "code",
   "execution_count": 168,
   "metadata": {
    "execution": {
     "iopub.execute_input": "2025-10-26T17:47:42.000336Z",
     "iopub.status.busy": "2025-10-26T17:47:42.000237Z",
     "iopub.status.idle": "2025-10-26T17:47:42.002099Z",
     "shell.execute_reply": "2025-10-26T17:47:42.001851Z"
    },
    "slideshow": {
     "slide_type": "fragment"
    }
   },
   "outputs": [
    {
     "name": "stderr",
     "output_type": "stream",
     "text": [
      "Traceback (most recent call last):\n",
      "  File \"/var/folders/n2/xd9445p97rb3xh7m1dfx8_4h0006ts/T/ipykernel_51600/2411822553.py\", line 2, in <module>\n",
      "    exec(fun_code, {}, {})\n",
      "    ~~~~^^^^^^^^^^^^^^^^^^\n",
      "  File \"<string>\", line 3, in <module>\n",
      "  File \"<string>\", line 13, in remove_html_markup\n",
      "UnboundLocalError: cannot access local variable 'tag' where it is not associated with a value (expected)\n"
     ]
    }
   ],
   "source": [
    "with ExpectError(UnboundLocalError):\n",
    "    exec(fun_code, {}, {})"
   ]
  },
  {
   "cell_type": "markdown",
   "metadata": {
    "slideshow": {
     "slide_type": "fragment"
    }
   },
   "source": [
    "If we have _no_ node in the keep list, the whole tree gets deleted:"
   ]
  },
  {
   "cell_type": "code",
   "execution_count": 169,
   "metadata": {
    "execution": {
     "iopub.execute_input": "2025-10-26T17:47:42.003440Z",
     "iopub.status.busy": "2025-10-26T17:47:42.003350Z",
     "iopub.status.idle": "2025-10-26T17:47:42.005313Z",
     "shell.execute_reply": "2025-10-26T17:47:42.005082Z"
    },
    "slideshow": {
     "slide_type": "subslide"
    }
   },
   "outputs": [],
   "source": [
    "empty_tree = copy_and_reduce(fun_tree, [])"
   ]
  },
  {
   "cell_type": "code",
   "execution_count": 170,
   "metadata": {
    "execution": {
     "iopub.execute_input": "2025-10-26T17:47:42.006680Z",
     "iopub.status.busy": "2025-10-26T17:47:42.006586Z",
     "iopub.status.idle": "2025-10-26T17:47:42.008564Z",
     "shell.execute_reply": "2025-10-26T17:47:42.008240Z"
    },
    "slideshow": {
     "slide_type": "fragment"
    }
   },
   "outputs": [
    {
     "data": {
      "text/plain": [
       "''"
      ]
     },
     "execution_count": 170,
     "metadata": {},
     "output_type": "execute_result"
    }
   ],
   "source": [
    "ast.unparse(empty_tree)"
   ]
  },
  {
   "cell_type": "markdown",
   "metadata": {
    "slideshow": {
     "slide_type": "subslide"
    }
   },
   "source": [
    "#### Reducing Trees\n",
    "\n",
    "We can put all these steps together in a single function. `compile_and_test_ast()` takes a tree and a list of nodes, reduces the tree to those nodes in the list, and then compiles and runs the reduced AST."
   ]
  },
  {
   "cell_type": "code",
   "execution_count": 171,
   "metadata": {
    "execution": {
     "iopub.execute_input": "2025-10-26T17:47:42.010521Z",
     "iopub.status.busy": "2025-10-26T17:47:42.010394Z",
     "iopub.status.idle": "2025-10-26T17:47:42.012793Z",
     "shell.execute_reply": "2025-10-26T17:47:42.012496Z"
    },
    "slideshow": {
     "slide_type": "subslide"
    }
   },
   "outputs": [],
   "source": [
    "def compile_and_test_ast(tree: ast.Module, keep_list: List[AST], \n",
    "                         test_tree: Optional[ast.Module] = None) -> None:\n",
    "    new_tree = cast(ast.Module, copy_and_reduce(tree, keep_list))\n",
    "    # print(ast.unparse(new_tree))\n",
    "\n",
    "    if test_tree is not None:\n",
    "        new_tree.body += test_tree.body\n",
    "\n",
    "    try:\n",
    "        code_object = compile(new_tree, '<string>', 'exec')\n",
    "    except Exception:\n",
    "        raise SyntaxError(\"Cannot compile\")\n",
    "\n",
    "    exec(code_object, {}, {})"
   ]
  },
  {
   "cell_type": "code",
   "execution_count": 172,
   "metadata": {
    "execution": {
     "iopub.execute_input": "2025-10-26T17:47:42.014185Z",
     "iopub.status.busy": "2025-10-26T17:47:42.014086Z",
     "iopub.status.idle": "2025-10-26T17:47:42.016822Z",
     "shell.execute_reply": "2025-10-26T17:47:42.016564Z"
    },
    "slideshow": {
     "slide_type": "subslide"
    }
   },
   "outputs": [
    {
     "name": "stderr",
     "output_type": "stream",
     "text": [
      "Traceback (most recent call last):\n",
      "  File \"/var/folders/n2/xd9445p97rb3xh7m1dfx8_4h0006ts/T/ipykernel_51600/2588008834.py\", line 2, in <module>\n",
      "    compile_and_test_ast(fun_tree, fun_nodes, test_tree)\n",
      "    ~~~~~~~~~~~~~~~~~~~~^^^^^^^^^^^^^^^^^^^^^^^^^^^^^^^^\n",
      "  File \"/var/folders/n2/xd9445p97rb3xh7m1dfx8_4h0006ts/T/ipykernel_51600/1107678207.py\", line 14, in compile_and_test_ast\n",
      "    exec(code_object, {}, {})\n",
      "    ~~~~^^^^^^^^^^^^^^^^^^^^^\n",
      "  File \"<string>\", line 3, in <module>\n",
      "AssertionError: My Test (expected)\n"
     ]
    }
   ],
   "source": [
    "with ExpectError(AssertionError):\n",
    "    compile_and_test_ast(fun_tree, fun_nodes, test_tree)"
   ]
  },
  {
   "cell_type": "markdown",
   "metadata": {
    "slideshow": {
     "slide_type": "fragment"
    }
   },
   "source": [
    "When we run our delta debugger on the AST, this is the list of remaining nodes we obtain:"
   ]
  },
  {
   "cell_type": "code",
   "execution_count": 173,
   "metadata": {
    "execution": {
     "iopub.execute_input": "2025-10-26T17:47:42.018341Z",
     "iopub.status.busy": "2025-10-26T17:47:42.018230Z",
     "iopub.status.idle": "2025-10-26T17:47:42.020958Z",
     "shell.execute_reply": "2025-10-26T17:47:42.020666Z"
    },
    "slideshow": {
     "slide_type": "subslide"
    }
   },
   "outputs": [],
   "source": [
    "with DeltaDebugger() as dd:\n",
    "    compile_and_test_ast(fun_tree, fun_nodes, test_tree)"
   ]
  },
  {
   "cell_type": "code",
   "execution_count": 174,
   "metadata": {
    "execution": {
     "iopub.execute_input": "2025-10-26T17:47:42.022604Z",
     "iopub.status.busy": "2025-10-26T17:47:42.022474Z",
     "iopub.status.idle": "2025-10-26T17:47:42.224119Z",
     "shell.execute_reply": "2025-10-26T17:47:42.223851Z"
    },
    "slideshow": {
     "slide_type": "fragment"
    }
   },
   "outputs": [
    {
     "data": {
      "text/plain": [
       "57"
      ]
     },
     "execution_count": 174,
     "metadata": {},
     "output_type": "execute_result"
    }
   ],
   "source": [
    "reduced_nodes = dd.min_args()['keep_list']\n",
    "len(reduced_nodes)"
   ]
  },
  {
   "cell_type": "markdown",
   "metadata": {
    "slideshow": {
     "slide_type": "fragment"
    }
   },
   "source": [
    "This is the associated tree:"
   ]
  },
  {
   "cell_type": "code",
   "execution_count": 175,
   "metadata": {
    "execution": {
     "iopub.execute_input": "2025-10-26T17:47:42.225748Z",
     "iopub.status.busy": "2025-10-26T17:47:42.225640Z",
     "iopub.status.idle": "2025-10-26T17:47:42.591472Z",
     "shell.execute_reply": "2025-10-26T17:47:42.591110Z"
    },
    "slideshow": {
     "slide_type": "fragment"
    }
   },
   "outputs": [
    {
     "data": {
      "image/svg+xml": [
       "<svg xmlns=\"http://www.w3.org/2000/svg\" xmlns:xlink=\"http://www.w3.org/1999/xlink\" width=\"3116pt\" height=\"692pt\" viewBox=\"0.00 0.00 3116.00 692.00\">\n",
       "<g id=\"graph0\" class=\"graph\" transform=\"scale(1 1) rotate(0) translate(4 688)\">\n",
       "<polygon fill=\"white\" stroke=\"none\" points=\"-4,4 -4,-688 3111.5,-688 3111.5,4 -4,4\"/>\n",
       "<!-- 0 -->\n",
       "<g id=\"node1\" class=\"node\">\n",
       "<title>0</title>\n",
       "<text xml:space=\"preserve\" text-anchor=\"start\" x=\"438.12\" y=\"-661.95\" font-family=\"Courier,monospace\" font-weight=\"bold\" font-size=\"14.00\" fill=\"#004080\">FunctionDef</text>\n",
       "</g>\n",
       "<!-- 1 -->\n",
       "<g id=\"node2\" class=\"node\">\n",
       "<title>1</title>\n",
       "<text xml:space=\"preserve\" text-anchor=\"middle\" x=\"90.5\" y=\"-588.95\" font-family=\"Courier,monospace\" font-size=\"14.00\" fill=\"#008040\">\"remove_html_markup\"</text>\n",
       "</g>\n",
       "<!-- 0&#45;&#45;1 -->\n",
       "<g id=\"edge1\" class=\"edge\">\n",
       "<title>0--1</title>\n",
       "<path fill=\"none\" stroke=\"black\" d=\"M483.5,-647C483.5,-647 320.3,-630.77 190.5,-612 187.36,-611.55 184.17,-611.07 180.95,-610.58\"/>\n",
       "</g>\n",
       "<!-- 2 -->\n",
       "<g id=\"node3\" class=\"node\">\n",
       "<title>2</title>\n",
       "<text xml:space=\"preserve\" text-anchor=\"start\" x=\"207.38\" y=\"-589.95\" font-family=\"Courier,monospace\" font-weight=\"bold\" font-size=\"14.00\" fill=\"#004080\">arguments</text>\n",
       "</g>\n",
       "<!-- 0&#45;&#45;2 -->\n",
       "<g id=\"edge2\" class=\"edge\">\n",
       "<title>0--2</title>\n",
       "<path fill=\"none\" stroke=\"black\" d=\"M483.5,-647C483.5,-647 379.66,-632.38 298.5,-612 295.54,-611.26 292.51,-610.45 289.47,-609.59\"/>\n",
       "</g>\n",
       "<!-- 5 -->\n",
       "<g id=\"node6\" class=\"node\">\n",
       "<title>5</title>\n",
       "<text xml:space=\"preserve\" text-anchor=\"start\" x=\"315.75\" y=\"-589.95\" font-family=\"Courier,monospace\" font-weight=\"bold\" font-size=\"14.00\" fill=\"#004080\">Assign</text>\n",
       "</g>\n",
       "<!-- 0&#45;&#45;5 -->\n",
       "<g id=\"edge5\" class=\"edge\">\n",
       "<title>0--5</title>\n",
       "<path fill=\"none\" stroke=\"black\" d=\"M483.5,-647C483.5,-647 415.14,-622.14 372.95,-606.8\"/>\n",
       "</g>\n",
       "<!-- 11 -->\n",
       "<g id=\"node12\" class=\"node\">\n",
       "<title>11</title>\n",
       "<text xml:space=\"preserve\" text-anchor=\"start\" x=\"458.75\" y=\"-589.95\" font-family=\"Courier,monospace\" font-weight=\"bold\" font-size=\"14.00\" fill=\"#004080\">Assign</text>\n",
       "</g>\n",
       "<!-- 0&#45;&#45;11 -->\n",
       "<g id=\"edge11\" class=\"edge\">\n",
       "<title>0--11</title>\n",
       "<path fill=\"none\" stroke=\"black\" d=\"M483.5,-647C483.5,-647 483.5,-626.94 483.5,-611.74\"/>\n",
       "</g>\n",
       "<!-- 17 -->\n",
       "<g id=\"node18\" class=\"node\">\n",
       "<title>17</title>\n",
       "<text xml:space=\"preserve\" text-anchor=\"start\" x=\"586.75\" y=\"-589.95\" font-family=\"Courier,monospace\" font-weight=\"bold\" font-size=\"14.00\" fill=\"#004080\">Assign</text>\n",
       "</g>\n",
       "<!-- 0&#45;&#45;17 -->\n",
       "<g id=\"edge17\" class=\"edge\">\n",
       "<title>0--17</title>\n",
       "<path fill=\"none\" stroke=\"black\" d=\"M483.5,-647C483.5,-647 540.95,-623.66 578.87,-608.26\"/>\n",
       "</g>\n",
       "<!-- 23 -->\n",
       "<g id=\"node24\" class=\"node\">\n",
       "<title>23</title>\n",
       "<text xml:space=\"preserve\" text-anchor=\"start\" x=\"907.12\" y=\"-589.95\" font-family=\"Courier,monospace\" font-weight=\"bold\" font-size=\"14.00\" fill=\"#004080\">For</text>\n",
       "</g>\n",
       "<!-- 0&#45;&#45;23 -->\n",
       "<g id=\"edge23\" class=\"edge\">\n",
       "<title>0--23</title>\n",
       "<path fill=\"none\" stroke=\"black\" d=\"M483.5,-647C483.5,-647 797.5,-609.55 892.56,-598.21\"/>\n",
       "</g>\n",
       "<!-- 121 -->\n",
       "<g id=\"node122\" class=\"node\">\n",
       "<title>121</title>\n",
       "<text xml:space=\"preserve\" text-anchor=\"start\" x=\"1263.75\" y=\"-589.95\" font-family=\"Courier,monospace\" font-weight=\"bold\" font-size=\"14.00\" fill=\"#004080\">Return</text>\n",
       "</g>\n",
       "<!-- 0&#45;&#45;121 -->\n",
       "<g id=\"edge121\" class=\"edge\">\n",
       "<title>0--121</title>\n",
       "<path fill=\"none\" stroke=\"black\" d=\"M483.5,-647C483.5,-647 1105.34,-606.83 1255.95,-597.1\"/>\n",
       "</g>\n",
       "<!-- 3 -->\n",
       "<g id=\"node4\" class=\"node\">\n",
       "<title>3</title>\n",
       "<text xml:space=\"preserve\" text-anchor=\"start\" x=\"72.12\" y=\"-517.95\" font-family=\"Courier,monospace\" font-weight=\"bold\" font-size=\"14.00\" fill=\"#004080\">arg</text>\n",
       "</g>\n",
       "<!-- 2&#45;&#45;3 -->\n",
       "<g id=\"edge3\" class=\"edge\">\n",
       "<title>2--3</title>\n",
       "<path fill=\"none\" stroke=\"black\" d=\"M205.77,-576.05C176.54,-563.27 137.2,-546.06 111.36,-534.75\"/>\n",
       "</g>\n",
       "<!-- 4 -->\n",
       "<g id=\"node5\" class=\"node\">\n",
       "<title>4</title>\n",
       "<text xml:space=\"preserve\" text-anchor=\"middle\" x=\"45.5\" y=\"-444.95\" font-family=\"Courier,monospace\" font-size=\"14.00\" fill=\"#008040\">\"s\"</text>\n",
       "</g>\n",
       "<!-- 3&#45;&#45;4 -->\n",
       "<g id=\"edge4\" class=\"edge\">\n",
       "<title>3--4</title>\n",
       "<path fill=\"none\" stroke=\"black\" d=\"M75.06,-504.05C68.93,-493.05 60.97,-478.76 54.85,-467.79\"/>\n",
       "</g>\n",
       "<!-- 6 -->\n",
       "<g id=\"node7\" class=\"node\">\n",
       "<title>6</title>\n",
       "<text xml:space=\"preserve\" text-anchor=\"start\" x=\"178\" y=\"-517.95\" font-family=\"Courier,monospace\" font-weight=\"bold\" font-size=\"14.00\" fill=\"#004080\">Name</text>\n",
       "</g>\n",
       "<!-- 5&#45;&#45;6 -->\n",
       "<g id=\"edge6\" class=\"edge\">\n",
       "<title>5--6</title>\n",
       "<path fill=\"none\" stroke=\"black\" d=\"M323.5,-575C323.5,-575 259.01,-549.01 221.23,-533.77\"/>\n",
       "</g>\n",
       "<!-- 9 -->\n",
       "<g id=\"node10\" class=\"node\">\n",
       "<title>9</title>\n",
       "<text xml:space=\"preserve\" text-anchor=\"start\" x=\"277.5\" y=\"-517.95\" font-family=\"Courier,monospace\" font-weight=\"bold\" font-size=\"14.00\" fill=\"#004080\">Constant</text>\n",
       "</g>\n",
       "<!-- 5&#45;&#45;9 -->\n",
       "<g id=\"edge9\" class=\"edge\">\n",
       "<title>5--9</title>\n",
       "<path fill=\"none\" stroke=\"black\" d=\"M323.5,-575C323.5,-575 318.49,-554.94 314.68,-539.74\"/>\n",
       "</g>\n",
       "<!-- 7 -->\n",
       "<g id=\"node8\" class=\"node\">\n",
       "<title>7</title>\n",
       "<text xml:space=\"preserve\" text-anchor=\"middle\" x=\"119.5\" y=\"-444.95\" font-family=\"Courier,monospace\" font-size=\"14.00\" fill=\"#008040\">\"tag\"</text>\n",
       "</g>\n",
       "<!-- 6&#45;&#45;7 -->\n",
       "<g id=\"edge7\" class=\"edge\">\n",
       "<title>6--7</title>\n",
       "<path fill=\"none\" stroke=\"black\" d=\"M186.5,-503C186.5,-503 160.65,-482.94 141.07,-467.74\"/>\n",
       "</g>\n",
       "<!-- 8 -->\n",
       "<g id=\"node9\" class=\"node\">\n",
       "<title>8</title>\n",
       "<text xml:space=\"preserve\" text-anchor=\"middle\" x=\"194.5\" y=\"-444.95\" font-family=\"Courier,monospace\" font-size=\"14.00\" fill=\"#008040\">Store</text>\n",
       "</g>\n",
       "<!-- 6&#45;&#45;8 -->\n",
       "<g id=\"edge8\" class=\"edge\">\n",
       "<title>6--8</title>\n",
       "<path fill=\"none\" stroke=\"black\" d=\"M186.5,-503C186.5,-503 189.59,-482.94 191.92,-467.74\"/>\n",
       "</g>\n",
       "<!-- 10 -->\n",
       "<g id=\"node11\" class=\"node\">\n",
       "<title>10</title>\n",
       "<text xml:space=\"preserve\" text-anchor=\"middle\" x=\"269.5\" y=\"-444.95\" font-family=\"Courier,monospace\" font-size=\"14.00\" fill=\"#008040\">False</text>\n",
       "</g>\n",
       "<!-- 9&#45;&#45;10 -->\n",
       "<g id=\"edge10\" class=\"edge\">\n",
       "<title>9--10</title>\n",
       "<path fill=\"none\" stroke=\"black\" d=\"M300.58,-504.05C294.13,-493.05 285.76,-478.76 279.33,-467.79\"/>\n",
       "</g>\n",
       "<!-- 12 -->\n",
       "<g id=\"node13\" class=\"node\">\n",
       "<title>12</title>\n",
       "<text xml:space=\"preserve\" text-anchor=\"start\" x=\"410\" y=\"-517.95\" font-family=\"Courier,monospace\" font-weight=\"bold\" font-size=\"14.00\" fill=\"#004080\">Name</text>\n",
       "</g>\n",
       "<!-- 11&#45;&#45;12 -->\n",
       "<g id=\"edge12\" class=\"edge\">\n",
       "<title>11--12</title>\n",
       "<path fill=\"none\" stroke=\"black\" d=\"M480.5,-575C480.5,-575 459.67,-554.94 443.88,-539.74\"/>\n",
       "</g>\n",
       "<!-- 15 -->\n",
       "<g id=\"node16\" class=\"node\">\n",
       "<title>15</title>\n",
       "<text xml:space=\"preserve\" text-anchor=\"start\" x=\"479.5\" y=\"-517.95\" font-family=\"Courier,monospace\" font-weight=\"bold\" font-size=\"14.00\" fill=\"#004080\">Constant</text>\n",
       "</g>\n",
       "<!-- 11&#45;&#45;15 -->\n",
       "<g id=\"edge15\" class=\"edge\">\n",
       "<title>11--15</title>\n",
       "<path fill=\"none\" stroke=\"black\" d=\"M480.5,-575C480.5,-575 492.84,-554.94 502.2,-539.74\"/>\n",
       "</g>\n",
       "<!-- 13 -->\n",
       "<g id=\"node14\" class=\"node\">\n",
       "<title>13</title>\n",
       "<text xml:space=\"preserve\" text-anchor=\"middle\" x=\"353.5\" y=\"-444.95\" font-family=\"Courier,monospace\" font-size=\"14.00\" fill=\"#008040\">\"quote\"</text>\n",
       "</g>\n",
       "<!-- 12&#45;&#45;13 -->\n",
       "<g id=\"edge13\" class=\"edge\">\n",
       "<title>12--13</title>\n",
       "<path fill=\"none\" stroke=\"black\" d=\"M420.5,-503C420.5,-503 394.65,-482.94 375.07,-467.74\"/>\n",
       "</g>\n",
       "<!-- 14 -->\n",
       "<g id=\"node15\" class=\"node\">\n",
       "<title>14</title>\n",
       "<text xml:space=\"preserve\" text-anchor=\"middle\" x=\"437.5\" y=\"-444.95\" font-family=\"Courier,monospace\" font-size=\"14.00\" fill=\"#008040\">Store</text>\n",
       "</g>\n",
       "<!-- 12&#45;&#45;14 -->\n",
       "<g id=\"edge14\" class=\"edge\">\n",
       "<title>12--14</title>\n",
       "<path fill=\"none\" stroke=\"black\" d=\"M420.5,-503C420.5,-503 427.06,-482.94 432.03,-467.74\"/>\n",
       "</g>\n",
       "<!-- 16 -->\n",
       "<g id=\"node17\" class=\"node\">\n",
       "<title>16</title>\n",
       "<text xml:space=\"preserve\" text-anchor=\"middle\" x=\"512.5\" y=\"-444.95\" font-family=\"Courier,monospace\" font-size=\"14.00\" fill=\"#008040\">False</text>\n",
       "</g>\n",
       "<!-- 15&#45;&#45;16 -->\n",
       "<g id=\"edge16\" class=\"edge\">\n",
       "<title>15--16</title>\n",
       "<path fill=\"none\" stroke=\"black\" d=\"M512.5,-504.05C512.5,-493.05 512.5,-478.76 512.5,-467.79\"/>\n",
       "</g>\n",
       "<!-- 18 -->\n",
       "<g id=\"node19\" class=\"node\">\n",
       "<title>18</title>\n",
       "<text xml:space=\"preserve\" text-anchor=\"start\" x=\"595\" y=\"-517.95\" font-family=\"Courier,monospace\" font-weight=\"bold\" font-size=\"14.00\" fill=\"#004080\">Name</text>\n",
       "</g>\n",
       "<!-- 17&#45;&#45;18 -->\n",
       "<g id=\"edge18\" class=\"edge\">\n",
       "<title>17--18</title>\n",
       "<path fill=\"none\" stroke=\"black\" d=\"M621.5,-575C621.5,-575 617.64,-554.94 614.72,-539.74\"/>\n",
       "</g>\n",
       "<!-- 21 -->\n",
       "<g id=\"node22\" class=\"node\">\n",
       "<title>21</title>\n",
       "<text xml:space=\"preserve\" text-anchor=\"start\" x=\"690.5\" y=\"-517.95\" font-family=\"Courier,monospace\" font-weight=\"bold\" font-size=\"14.00\" fill=\"#004080\">Constant</text>\n",
       "</g>\n",
       "<!-- 17&#45;&#45;21 -->\n",
       "<g id=\"edge21\" class=\"edge\">\n",
       "<title>17--21</title>\n",
       "<path fill=\"none\" stroke=\"black\" d=\"M621.5,-575C621.5,-575 660.6,-555.07 690.38,-539.88\"/>\n",
       "</g>\n",
       "<!-- 19 -->\n",
       "<g id=\"node20\" class=\"node\">\n",
       "<title>19</title>\n",
       "<text xml:space=\"preserve\" text-anchor=\"middle\" x=\"587.5\" y=\"-444.95\" font-family=\"Courier,monospace\" font-size=\"14.00\" fill=\"#008040\">\"out\"</text>\n",
       "</g>\n",
       "<!-- 18&#45;&#45;19 -->\n",
       "<g id=\"edge19\" class=\"edge\">\n",
       "<title>18--19</title>\n",
       "<path fill=\"none\" stroke=\"black\" d=\"M614.5,-503C614.5,-503 604.08,-482.94 596.19,-467.74\"/>\n",
       "</g>\n",
       "<!-- 20 -->\n",
       "<g id=\"node21\" class=\"node\">\n",
       "<title>20</title>\n",
       "<text xml:space=\"preserve\" text-anchor=\"middle\" x=\"662.5\" y=\"-444.95\" font-family=\"Courier,monospace\" font-size=\"14.00\" fill=\"#008040\">Store</text>\n",
       "</g>\n",
       "<!-- 18&#45;&#45;20 -->\n",
       "<g id=\"edge20\" class=\"edge\">\n",
       "<title>18--20</title>\n",
       "<path fill=\"none\" stroke=\"black\" d=\"M614.5,-503C614.5,-503 633.02,-482.94 647.05,-467.74\"/>\n",
       "</g>\n",
       "<!-- 22 -->\n",
       "<g id=\"node23\" class=\"node\">\n",
       "<title>22</title>\n",
       "<text xml:space=\"preserve\" text-anchor=\"middle\" x=\"736.5\" y=\"-444.95\" font-family=\"Courier,monospace\" font-size=\"14.00\" fill=\"#008040\">\"\"</text>\n",
       "</g>\n",
       "<!-- 21&#45;&#45;22 -->\n",
       "<g id=\"edge22\" class=\"edge\">\n",
       "<title>21--22</title>\n",
       "<path fill=\"none\" stroke=\"black\" d=\"M726.65,-504.05C728.69,-493.05 731.34,-478.76 733.38,-467.79\"/>\n",
       "</g>\n",
       "<!-- 24 -->\n",
       "<g id=\"node25\" class=\"node\">\n",
       "<title>24</title>\n",
       "<text xml:space=\"preserve\" text-anchor=\"start\" x=\"866\" y=\"-517.95\" font-family=\"Courier,monospace\" font-weight=\"bold\" font-size=\"14.00\" fill=\"#004080\">Name</text>\n",
       "</g>\n",
       "<!-- 23&#45;&#45;24 -->\n",
       "<g id=\"edge24\" class=\"edge\">\n",
       "<title>23--24</title>\n",
       "<path fill=\"none\" stroke=\"black\" d=\"M927.5,-575C927.5,-575 910.14,-554.94 896.99,-539.74\"/>\n",
       "</g>\n",
       "<!-- 27 -->\n",
       "<g id=\"node28\" class=\"node\">\n",
       "<title>27</title>\n",
       "<text xml:space=\"preserve\" text-anchor=\"start\" x=\"940\" y=\"-517.95\" font-family=\"Courier,monospace\" font-weight=\"bold\" font-size=\"14.00\" fill=\"#004080\">Name</text>\n",
       "</g>\n",
       "<!-- 23&#45;&#45;27 -->\n",
       "<g id=\"edge27\" class=\"edge\">\n",
       "<title>23--27</title>\n",
       "<path fill=\"none\" stroke=\"black\" d=\"M927.5,-575C927.5,-575 938.69,-554.94 947.16,-539.74\"/>\n",
       "</g>\n",
       "<!-- 30 -->\n",
       "<g id=\"node31\" class=\"node\">\n",
       "<title>30</title>\n",
       "<text xml:space=\"preserve\" text-anchor=\"start\" x=\"1146.25\" y=\"-517.95\" font-family=\"Courier,monospace\" font-weight=\"bold\" font-size=\"14.00\" fill=\"#004080\">If</text>\n",
       "</g>\n",
       "<!-- 23&#45;&#45;30 -->\n",
       "<g id=\"edge30\" class=\"edge\">\n",
       "<title>23--30</title>\n",
       "<path fill=\"none\" stroke=\"black\" d=\"M927.5,-575C927.5,-575 1067.44,-542.94 1127.57,-529.17\"/>\n",
       "</g>\n",
       "<!-- 25 -->\n",
       "<g id=\"node26\" class=\"node\">\n",
       "<title>25</title>\n",
       "<text xml:space=\"preserve\" text-anchor=\"middle\" x=\"808.5\" y=\"-444.95\" font-family=\"Courier,monospace\" font-size=\"14.00\" fill=\"#008040\">\"c\"</text>\n",
       "</g>\n",
       "<!-- 24&#45;&#45;25 -->\n",
       "<g id=\"edge25\" class=\"edge\">\n",
       "<title>24--25</title>\n",
       "<path fill=\"none\" stroke=\"black\" d=\"M874.5,-503C874.5,-503 849.04,-482.94 829.75,-467.74\"/>\n",
       "</g>\n",
       "<!-- 26 -->\n",
       "<g id=\"node27\" class=\"node\">\n",
       "<title>26</title>\n",
       "<text xml:space=\"preserve\" text-anchor=\"middle\" x=\"882.5\" y=\"-444.95\" font-family=\"Courier,monospace\" font-size=\"14.00\" fill=\"#008040\">Store</text>\n",
       "</g>\n",
       "<!-- 24&#45;&#45;26 -->\n",
       "<g id=\"edge26\" class=\"edge\">\n",
       "<title>24--26</title>\n",
       "<path fill=\"none\" stroke=\"black\" d=\"M874.5,-503C874.5,-503 877.59,-482.94 879.92,-467.74\"/>\n",
       "</g>\n",
       "<!-- 28 -->\n",
       "<g id=\"node29\" class=\"node\">\n",
       "<title>28</title>\n",
       "<text xml:space=\"preserve\" text-anchor=\"middle\" x=\"956.5\" y=\"-444.95\" font-family=\"Courier,monospace\" font-size=\"14.00\" fill=\"#008040\">\"s\"</text>\n",
       "</g>\n",
       "<!-- 27&#45;&#45;28 -->\n",
       "<g id=\"edge28\" class=\"edge\">\n",
       "<title>27--28</title>\n",
       "<path fill=\"none\" stroke=\"black\" d=\"M963.5,-503C963.5,-503 960.8,-482.94 958.75,-467.74\"/>\n",
       "</g>\n",
       "<!-- 29 -->\n",
       "<g id=\"node30\" class=\"node\">\n",
       "<title>29</title>\n",
       "<text xml:space=\"preserve\" text-anchor=\"middle\" x=\"1028.5\" y=\"-444.95\" font-family=\"Courier,monospace\" font-size=\"14.00\" fill=\"#008040\">Load</text>\n",
       "</g>\n",
       "<!-- 27&#45;&#45;29 -->\n",
       "<g id=\"edge29\" class=\"edge\">\n",
       "<title>27--29</title>\n",
       "<path fill=\"none\" stroke=\"black\" d=\"M963.5,-503C963.5,-503 988.57,-482.94 1007.58,-467.74\"/>\n",
       "</g>\n",
       "<!-- 31 -->\n",
       "<g id=\"node32\" class=\"node\">\n",
       "<title>31</title>\n",
       "<text xml:space=\"preserve\" text-anchor=\"start\" x=\"1081.75\" y=\"-445.95\" font-family=\"Courier,monospace\" font-weight=\"bold\" font-size=\"14.00\" fill=\"#004080\">BoolOp</text>\n",
       "</g>\n",
       "<!-- 30&#45;&#45;31 -->\n",
       "<g id=\"edge31\" class=\"edge\">\n",
       "<title>30--31</title>\n",
       "<path fill=\"none\" stroke=\"black\" d=\"M1163.5,-503C1163.5,-503 1141.51,-482.94 1124.85,-467.74\"/>\n",
       "</g>\n",
       "<!-- 45 -->\n",
       "<g id=\"node46\" class=\"node\">\n",
       "<title>45</title>\n",
       "<text xml:space=\"preserve\" text-anchor=\"start\" x=\"1178.75\" y=\"-445.95\" font-family=\"Courier,monospace\" font-weight=\"bold\" font-size=\"14.00\" fill=\"#004080\">Assign</text>\n",
       "</g>\n",
       "<!-- 30&#45;&#45;45 -->\n",
       "<g id=\"edge45\" class=\"edge\">\n",
       "<title>30--45</title>\n",
       "<path fill=\"none\" stroke=\"black\" d=\"M1163.5,-503C1163.5,-503 1178.93,-482.94 1190.62,-467.74\"/>\n",
       "</g>\n",
       "<!-- 51 -->\n",
       "<g id=\"node52\" class=\"node\">\n",
       "<title>51</title>\n",
       "<text xml:space=\"preserve\" text-anchor=\"start\" x=\"1468.25\" y=\"-445.95\" font-family=\"Courier,monospace\" font-weight=\"bold\" font-size=\"14.00\" fill=\"#004080\">If</text>\n",
       "</g>\n",
       "<!-- 30&#45;&#45;51 -->\n",
       "<g id=\"edge51\" class=\"edge\">\n",
       "<title>30--51</title>\n",
       "<path fill=\"none\" stroke=\"black\" d=\"M1163.5,-503C1163.5,-503 1373.62,-468.09 1449.54,-455.48\"/>\n",
       "</g>\n",
       "<!-- 32 -->\n",
       "<g id=\"node33\" class=\"node\">\n",
       "<title>32</title>\n",
       "<text xml:space=\"preserve\" text-anchor=\"middle\" x=\"859.5\" y=\"-372.95\" font-family=\"Courier,monospace\" font-size=\"14.00\" fill=\"#008040\">And</text>\n",
       "</g>\n",
       "<!-- 31&#45;&#45;32 -->\n",
       "<g id=\"edge32\" class=\"edge\">\n",
       "<title>31--32</title>\n",
       "<path fill=\"none\" stroke=\"black\" d=\"M1085.5,-431C1085.5,-431 977.23,-422.33 895.5,-396 892.47,-395.03 889.37,-393.85 886.32,-392.58\"/>\n",
       "</g>\n",
       "<!-- 33 -->\n",
       "<g id=\"node34\" class=\"node\">\n",
       "<title>33</title>\n",
       "<text xml:space=\"preserve\" text-anchor=\"start\" x=\"912.62\" y=\"-373.95\" font-family=\"Courier,monospace\" font-weight=\"bold\" font-size=\"14.00\" fill=\"#004080\">Compare</text>\n",
       "</g>\n",
       "<!-- 31&#45;&#45;33 -->\n",
       "<g id=\"edge33\" class=\"edge\">\n",
       "<title>31--33</title>\n",
       "<path fill=\"none\" stroke=\"black\" d=\"M1085.5,-431C1085.5,-431 1020.87,-407.66 978.21,-392.26\"/>\n",
       "</g>\n",
       "<!-- 40 -->\n",
       "<g id=\"node41\" class=\"node\">\n",
       "<title>40</title>\n",
       "<text xml:space=\"preserve\" text-anchor=\"start\" x=\"1070.62\" y=\"-373.95\" font-family=\"Courier,monospace\" font-weight=\"bold\" font-size=\"14.00\" fill=\"#004080\">UnaryOp</text>\n",
       "</g>\n",
       "<!-- 31&#45;&#45;40 -->\n",
       "<g id=\"edge40\" class=\"edge\">\n",
       "<title>31--40</title>\n",
       "<path fill=\"none\" stroke=\"black\" d=\"M1085.5,-431C1085.5,-431 1090.9,-410.94 1094.99,-395.74\"/>\n",
       "</g>\n",
       "<!-- 34 -->\n",
       "<g id=\"node35\" class=\"node\">\n",
       "<title>34</title>\n",
       "<text xml:space=\"preserve\" text-anchor=\"start\" x=\"767\" y=\"-301.95\" font-family=\"Courier,monospace\" font-weight=\"bold\" font-size=\"14.00\" fill=\"#004080\">Name</text>\n",
       "</g>\n",
       "<!-- 33&#45;&#45;34 -->\n",
       "<g id=\"edge34\" class=\"edge\">\n",
       "<title>33--34</title>\n",
       "<path fill=\"none\" stroke=\"black\" d=\"M926.5,-359C926.5,-359 865.99,-342.5 819.5,-324 816.55,-322.82 813.49,-321.52 810.47,-320.18\"/>\n",
       "</g>\n",
       "<!-- 37 -->\n",
       "<g id=\"node38\" class=\"node\">\n",
       "<title>37</title>\n",
       "<text xml:space=\"preserve\" text-anchor=\"middle\" x=\"855.5\" y=\"-300.95\" font-family=\"Courier,monospace\" font-size=\"14.00\" fill=\"#008040\">Eq</text>\n",
       "</g>\n",
       "<!-- 33&#45;&#45;37 -->\n",
       "<g id=\"edge37\" class=\"edge\">\n",
       "<title>33--37</title>\n",
       "<path fill=\"none\" stroke=\"black\" d=\"M926.5,-359C926.5,-359 899.11,-338.94 878.36,-323.74\"/>\n",
       "</g>\n",
       "<!-- 38 -->\n",
       "<g id=\"node39\" class=\"node\">\n",
       "<title>38</title>\n",
       "<text xml:space=\"preserve\" text-anchor=\"start\" x=\"908.5\" y=\"-301.95\" font-family=\"Courier,monospace\" font-weight=\"bold\" font-size=\"14.00\" fill=\"#004080\">Constant</text>\n",
       "</g>\n",
       "<!-- 33&#45;&#45;38 -->\n",
       "<g id=\"edge38\" class=\"edge\">\n",
       "<title>33--38</title>\n",
       "<path fill=\"none\" stroke=\"black\" d=\"M926.5,-359C926.5,-359 932.29,-338.94 936.67,-323.74\"/>\n",
       "</g>\n",
       "<!-- 35 -->\n",
       "<g id=\"node36\" class=\"node\">\n",
       "<title>35</title>\n",
       "<text xml:space=\"preserve\" text-anchor=\"middle\" x=\"747.5\" y=\"-228.95\" font-family=\"Courier,monospace\" font-size=\"14.00\" fill=\"#008040\">\"c\"</text>\n",
       "</g>\n",
       "<!-- 34&#45;&#45;35 -->\n",
       "<g id=\"edge35\" class=\"edge\">\n",
       "<title>34--35</title>\n",
       "<path fill=\"none\" stroke=\"black\" d=\"M783.5,-287C783.5,-287 769.61,-266.94 759.09,-251.74\"/>\n",
       "</g>\n",
       "<!-- 36 -->\n",
       "<g id=\"node37\" class=\"node\">\n",
       "<title>36</title>\n",
       "<text xml:space=\"preserve\" text-anchor=\"middle\" x=\"819.5\" y=\"-228.95\" font-family=\"Courier,monospace\" font-size=\"14.00\" fill=\"#008040\">Load</text>\n",
       "</g>\n",
       "<!-- 34&#45;&#45;36 -->\n",
       "<g id=\"edge36\" class=\"edge\">\n",
       "<title>34--36</title>\n",
       "<path fill=\"none\" stroke=\"black\" d=\"M783.5,-287C783.5,-287 797.39,-266.94 807.91,-251.74\"/>\n",
       "</g>\n",
       "<!-- 39 -->\n",
       "<g id=\"node40\" class=\"node\">\n",
       "<title>39</title>\n",
       "<text xml:space=\"preserve\" text-anchor=\"middle\" x=\"941.5\" y=\"-228.95\" font-family=\"Courier,monospace\" font-size=\"14.00\" fill=\"#008040\">\"&lt;\"</text>\n",
       "</g>\n",
       "<!-- 38&#45;&#45;39 -->\n",
       "<g id=\"edge39\" class=\"edge\">\n",
       "<title>38--39</title>\n",
       "<path fill=\"none\" stroke=\"black\" d=\"M941.5,-288.05C941.5,-277.05 941.5,-262.76 941.5,-251.79\"/>\n",
       "</g>\n",
       "<!-- 41 -->\n",
       "<g id=\"node42\" class=\"node\">\n",
       "<title>41</title>\n",
       "<text xml:space=\"preserve\" text-anchor=\"middle\" x=\"1027.5\" y=\"-300.95\" font-family=\"Courier,monospace\" font-size=\"14.00\" fill=\"#008040\">Not</text>\n",
       "</g>\n",
       "<!-- 40&#45;&#45;41 -->\n",
       "<g id=\"edge41\" class=\"edge\">\n",
       "<title>40--41</title>\n",
       "<path fill=\"none\" stroke=\"black\" d=\"M1092.5,-359C1092.5,-359 1067.43,-338.94 1048.42,-323.74\"/>\n",
       "</g>\n",
       "<!-- 42 -->\n",
       "<g id=\"node43\" class=\"node\">\n",
       "<title>42</title>\n",
       "<text xml:space=\"preserve\" text-anchor=\"start\" x=\"1083\" y=\"-301.95\" font-family=\"Courier,monospace\" font-weight=\"bold\" font-size=\"14.00\" fill=\"#004080\">Name</text>\n",
       "</g>\n",
       "<!-- 40&#45;&#45;42 -->\n",
       "<g id=\"edge42\" class=\"edge\">\n",
       "<title>40--42</title>\n",
       "<path fill=\"none\" stroke=\"black\" d=\"M1092.5,-359C1092.5,-359 1095.2,-338.94 1097.25,-323.74\"/>\n",
       "</g>\n",
       "<!-- 43 -->\n",
       "<g id=\"node44\" class=\"node\">\n",
       "<title>43</title>\n",
       "<text xml:space=\"preserve\" text-anchor=\"middle\" x=\"1061.5\" y=\"-228.95\" font-family=\"Courier,monospace\" font-size=\"14.00\" fill=\"#008040\">\"quote\"</text>\n",
       "</g>\n",
       "<!-- 42&#45;&#45;43 -->\n",
       "<g id=\"edge43\" class=\"edge\">\n",
       "<title>42--43</title>\n",
       "<path fill=\"none\" stroke=\"black\" d=\"M1100.5,-287C1100.5,-287 1085.46,-266.94 1074.05,-251.74\"/>\n",
       "</g>\n",
       "<!-- 44 -->\n",
       "<g id=\"node45\" class=\"node\">\n",
       "<title>44</title>\n",
       "<text xml:space=\"preserve\" text-anchor=\"middle\" x=\"1143.5\" y=\"-228.95\" font-family=\"Courier,monospace\" font-size=\"14.00\" fill=\"#008040\">Load</text>\n",
       "</g>\n",
       "<!-- 42&#45;&#45;44 -->\n",
       "<g id=\"edge44\" class=\"edge\">\n",
       "<title>42--44</title>\n",
       "<path fill=\"none\" stroke=\"black\" d=\"M1100.5,-287C1100.5,-287 1117.09,-266.94 1129.66,-251.74\"/>\n",
       "</g>\n",
       "<!-- 46 -->\n",
       "<g id=\"node47\" class=\"node\">\n",
       "<title>46</title>\n",
       "<text xml:space=\"preserve\" text-anchor=\"start\" x=\"1187\" y=\"-373.95\" font-family=\"Courier,monospace\" font-weight=\"bold\" font-size=\"14.00\" fill=\"#004080\">Name</text>\n",
       "</g>\n",
       "<!-- 45&#45;&#45;46 -->\n",
       "<g id=\"edge46\" class=\"edge\">\n",
       "<title>45--46</title>\n",
       "<path fill=\"none\" stroke=\"black\" d=\"M1213.5,-431C1213.5,-431 1209.64,-410.94 1206.72,-395.74\"/>\n",
       "</g>\n",
       "<!-- 49 -->\n",
       "<g id=\"node50\" class=\"node\">\n",
       "<title>49</title>\n",
       "<text xml:space=\"preserve\" text-anchor=\"start\" x=\"1282.5\" y=\"-373.95\" font-family=\"Courier,monospace\" font-weight=\"bold\" font-size=\"14.00\" fill=\"#004080\">Constant</text>\n",
       "</g>\n",
       "<!-- 45&#45;&#45;49 -->\n",
       "<g id=\"edge49\" class=\"edge\">\n",
       "<title>45--49</title>\n",
       "<path fill=\"none\" stroke=\"black\" d=\"M1213.5,-431C1213.5,-431 1252.6,-411.07 1282.38,-395.88\"/>\n",
       "</g>\n",
       "<!-- 47 -->\n",
       "<g id=\"node48\" class=\"node\">\n",
       "<title>47</title>\n",
       "<text xml:space=\"preserve\" text-anchor=\"middle\" x=\"1173.5\" y=\"-300.95\" font-family=\"Courier,monospace\" font-size=\"14.00\" fill=\"#008040\">\"tag\"</text>\n",
       "</g>\n",
       "<!-- 46&#45;&#45;47 -->\n",
       "<g id=\"edge47\" class=\"edge\">\n",
       "<title>46--47</title>\n",
       "<path fill=\"none\" stroke=\"black\" d=\"M1204.5,-359C1204.5,-359 1192.54,-338.94 1183.48,-323.74\"/>\n",
       "</g>\n",
       "<!-- 48 -->\n",
       "<g id=\"node49\" class=\"node\">\n",
       "<title>48</title>\n",
       "<text xml:space=\"preserve\" text-anchor=\"middle\" x=\"1248.5\" y=\"-300.95\" font-family=\"Courier,monospace\" font-size=\"14.00\" fill=\"#008040\">Store</text>\n",
       "</g>\n",
       "<!-- 46&#45;&#45;48 -->\n",
       "<g id=\"edge48\" class=\"edge\">\n",
       "<title>46--48</title>\n",
       "<path fill=\"none\" stroke=\"black\" d=\"M1204.5,-359C1204.5,-359 1221.47,-338.94 1234.34,-323.74\"/>\n",
       "</g>\n",
       "<!-- 50 -->\n",
       "<g id=\"node51\" class=\"node\">\n",
       "<title>50</title>\n",
       "<text xml:space=\"preserve\" text-anchor=\"middle\" x=\"1322.5\" y=\"-300.95\" font-family=\"Courier,monospace\" font-size=\"14.00\" fill=\"#008040\">True</text>\n",
       "</g>\n",
       "<!-- 49&#45;&#45;50 -->\n",
       "<g id=\"edge50\" class=\"edge\">\n",
       "<title>49--50</title>\n",
       "<path fill=\"none\" stroke=\"black\" d=\"M1317.19,-360.05C1318.3,-349.05 1319.72,-334.76 1320.82,-323.79\"/>\n",
       "</g>\n",
       "<!-- 52 -->\n",
       "<g id=\"node53\" class=\"node\">\n",
       "<title>52</title>\n",
       "<text xml:space=\"preserve\" text-anchor=\"start\" x=\"1451.75\" y=\"-373.95\" font-family=\"Courier,monospace\" font-weight=\"bold\" font-size=\"14.00\" fill=\"#004080\">BoolOp</text>\n",
       "</g>\n",
       "<!-- 51&#45;&#45;52 -->\n",
       "<g id=\"edge52\" class=\"edge\">\n",
       "<title>51--52</title>\n",
       "<path fill=\"none\" stroke=\"black\" d=\"M1501.5,-431C1501.5,-431 1491.86,-410.94 1484.55,-395.74\"/>\n",
       "</g>\n",
       "<!-- 66 -->\n",
       "<g id=\"node67\" class=\"node\">\n",
       "<title>66</title>\n",
       "<text xml:space=\"preserve\" text-anchor=\"start\" x=\"1699.75\" y=\"-373.95\" font-family=\"Courier,monospace\" font-weight=\"bold\" font-size=\"14.00\" fill=\"#004080\">Assign</text>\n",
       "</g>\n",
       "<!-- 51&#45;&#45;66 -->\n",
       "<g id=\"edge66\" class=\"edge\">\n",
       "<title>51--66</title>\n",
       "<path fill=\"none\" stroke=\"black\" d=\"M1501.5,-431C1501.5,-431 1630.23,-400.98 1692.07,-386.56\"/>\n",
       "</g>\n",
       "<!-- 72 -->\n",
       "<g id=\"node73\" class=\"node\">\n",
       "<title>72</title>\n",
       "<text xml:space=\"preserve\" text-anchor=\"start\" x=\"2217.25\" y=\"-373.95\" font-family=\"Courier,monospace\" font-weight=\"bold\" font-size=\"14.00\" fill=\"#004080\">If</text>\n",
       "</g>\n",
       "<!-- 51&#45;&#45;72 -->\n",
       "<g id=\"edge72\" class=\"edge\">\n",
       "<title>51--72</title>\n",
       "<path fill=\"none\" stroke=\"black\" d=\"M1501.5,-431C1501.5,-431 2068.25,-390.29 2198.87,-380.91\"/>\n",
       "</g>\n",
       "<!-- 53 -->\n",
       "<g id=\"node54\" class=\"node\">\n",
       "<title>53</title>\n",
       "<text xml:space=\"preserve\" text-anchor=\"middle\" x=\"1394.5\" y=\"-300.95\" font-family=\"Courier,monospace\" font-size=\"14.00\" fill=\"#008040\">And</text>\n",
       "</g>\n",
       "<!-- 52&#45;&#45;53 -->\n",
       "<g id=\"edge53\" class=\"edge\">\n",
       "<title>52--53</title>\n",
       "<path fill=\"none\" stroke=\"black\" d=\"M1476.5,-359C1476.5,-359 1444.87,-338.94 1420.9,-323.74\"/>\n",
       "</g>\n",
       "<!-- 54 -->\n",
       "<g id=\"node55\" class=\"node\">\n",
       "<title>54</title>\n",
       "<text xml:space=\"preserve\" text-anchor=\"start\" x=\"1447.62\" y=\"-301.95\" font-family=\"Courier,monospace\" font-weight=\"bold\" font-size=\"14.00\" fill=\"#004080\">Compare</text>\n",
       "</g>\n",
       "<!-- 52&#45;&#45;54 -->\n",
       "<g id=\"edge54\" class=\"edge\">\n",
       "<title>52--54</title>\n",
       "<path fill=\"none\" stroke=\"black\" d=\"M1476.5,-359C1476.5,-359 1476.5,-338.94 1476.5,-323.74\"/>\n",
       "</g>\n",
       "<!-- 61 -->\n",
       "<g id=\"node62\" class=\"node\">\n",
       "<title>61</title>\n",
       "<text xml:space=\"preserve\" text-anchor=\"start\" x=\"1539.62\" y=\"-301.95\" font-family=\"Courier,monospace\" font-weight=\"bold\" font-size=\"14.00\" fill=\"#004080\">UnaryOp</text>\n",
       "</g>\n",
       "<!-- 52&#45;&#45;61 -->\n",
       "<g id=\"edge61\" class=\"edge\">\n",
       "<title>52--61</title>\n",
       "<path fill=\"none\" stroke=\"black\" d=\"M1476.5,-359C1476.5,-359 1511.77,-339.07 1538.63,-323.88\"/>\n",
       "</g>\n",
       "<!-- 55 -->\n",
       "<g id=\"node56\" class=\"node\">\n",
       "<title>55</title>\n",
       "<text xml:space=\"preserve\" text-anchor=\"start\" x=\"1302\" y=\"-229.95\" font-family=\"Courier,monospace\" font-weight=\"bold\" font-size=\"14.00\" fill=\"#004080\">Name</text>\n",
       "</g>\n",
       "<!-- 54&#45;&#45;55 -->\n",
       "<g id=\"edge55\" class=\"edge\">\n",
       "<title>54--55</title>\n",
       "<path fill=\"none\" stroke=\"black\" d=\"M1461.5,-287C1461.5,-287 1400.99,-270.5 1354.5,-252 1351.55,-250.82 1348.49,-249.52 1345.47,-248.18\"/>\n",
       "</g>\n",
       "<!-- 58 -->\n",
       "<g id=\"node59\" class=\"node\">\n",
       "<title>58</title>\n",
       "<text xml:space=\"preserve\" text-anchor=\"middle\" x=\"1390.5\" y=\"-228.95\" font-family=\"Courier,monospace\" font-size=\"14.00\" fill=\"#008040\">Eq</text>\n",
       "</g>\n",
       "<!-- 54&#45;&#45;58 -->\n",
       "<g id=\"edge58\" class=\"edge\">\n",
       "<title>54--58</title>\n",
       "<path fill=\"none\" stroke=\"black\" d=\"M1461.5,-287C1461.5,-287 1434.11,-266.94 1413.36,-251.74\"/>\n",
       "</g>\n",
       "<!-- 59 -->\n",
       "<g id=\"node60\" class=\"node\">\n",
       "<title>59</title>\n",
       "<text xml:space=\"preserve\" text-anchor=\"start\" x=\"1443.5\" y=\"-229.95\" font-family=\"Courier,monospace\" font-weight=\"bold\" font-size=\"14.00\" fill=\"#004080\">Constant</text>\n",
       "</g>\n",
       "<!-- 54&#45;&#45;59 -->\n",
       "<g id=\"edge59\" class=\"edge\">\n",
       "<title>54--59</title>\n",
       "<path fill=\"none\" stroke=\"black\" d=\"M1461.5,-287C1461.5,-287 1467.29,-266.94 1471.67,-251.74\"/>\n",
       "</g>\n",
       "<!-- 56 -->\n",
       "<g id=\"node57\" class=\"node\">\n",
       "<title>56</title>\n",
       "<text xml:space=\"preserve\" text-anchor=\"middle\" x=\"1282.5\" y=\"-156.95\" font-family=\"Courier,monospace\" font-size=\"14.00\" fill=\"#008040\">\"c\"</text>\n",
       "</g>\n",
       "<!-- 55&#45;&#45;56 -->\n",
       "<g id=\"edge56\" class=\"edge\">\n",
       "<title>55--56</title>\n",
       "<path fill=\"none\" stroke=\"black\" d=\"M1318.5,-215C1318.5,-215 1304.61,-194.94 1294.09,-179.74\"/>\n",
       "</g>\n",
       "<!-- 57 -->\n",
       "<g id=\"node58\" class=\"node\">\n",
       "<title>57</title>\n",
       "<text xml:space=\"preserve\" text-anchor=\"middle\" x=\"1354.5\" y=\"-156.95\" font-family=\"Courier,monospace\" font-size=\"14.00\" fill=\"#008040\">Load</text>\n",
       "</g>\n",
       "<!-- 55&#45;&#45;57 -->\n",
       "<g id=\"edge57\" class=\"edge\">\n",
       "<title>55--57</title>\n",
       "<path fill=\"none\" stroke=\"black\" d=\"M1318.5,-215C1318.5,-215 1332.39,-194.94 1342.91,-179.74\"/>\n",
       "</g>\n",
       "<!-- 60 -->\n",
       "<g id=\"node61\" class=\"node\">\n",
       "<title>60</title>\n",
       "<text xml:space=\"preserve\" text-anchor=\"middle\" x=\"1476.5\" y=\"-156.95\" font-family=\"Courier,monospace\" font-size=\"14.00\" fill=\"#008040\">\"&gt;\"</text>\n",
       "</g>\n",
       "<!-- 59&#45;&#45;60 -->\n",
       "<g id=\"edge60\" class=\"edge\">\n",
       "<title>59--60</title>\n",
       "<path fill=\"none\" stroke=\"black\" d=\"M1476.5,-216.05C1476.5,-205.05 1476.5,-190.76 1476.5,-179.79\"/>\n",
       "</g>\n",
       "<!-- 62 -->\n",
       "<g id=\"node63\" class=\"node\">\n",
       "<title>62</title>\n",
       "<text xml:space=\"preserve\" text-anchor=\"middle\" x=\"1562.5\" y=\"-228.95\" font-family=\"Courier,monospace\" font-size=\"14.00\" fill=\"#008040\">Not</text>\n",
       "</g>\n",
       "<!-- 61&#45;&#45;62 -->\n",
       "<g id=\"edge62\" class=\"edge\">\n",
       "<title>61--62</title>\n",
       "<path fill=\"none\" stroke=\"black\" d=\"M1574.5,-287C1574.5,-287 1569.87,-266.94 1566.36,-251.74\"/>\n",
       "</g>\n",
       "<!-- 63 -->\n",
       "<g id=\"node64\" class=\"node\">\n",
       "<title>63</title>\n",
       "<text xml:space=\"preserve\" text-anchor=\"start\" x=\"1618\" y=\"-229.95\" font-family=\"Courier,monospace\" font-weight=\"bold\" font-size=\"14.00\" fill=\"#004080\">Name</text>\n",
       "</g>\n",
       "<!-- 61&#45;&#45;63 -->\n",
       "<g id=\"edge63\" class=\"edge\">\n",
       "<title>61--63</title>\n",
       "<path fill=\"none\" stroke=\"black\" d=\"M1574.5,-287C1574.5,-287 1597.65,-266.94 1615.19,-251.74\"/>\n",
       "</g>\n",
       "<!-- 64 -->\n",
       "<g id=\"node65\" class=\"node\">\n",
       "<title>64</title>\n",
       "<text xml:space=\"preserve\" text-anchor=\"middle\" x=\"1623.5\" y=\"-156.95\" font-family=\"Courier,monospace\" font-size=\"14.00\" fill=\"#008040\">\"quote\"</text>\n",
       "</g>\n",
       "<!-- 63&#45;&#45;64 -->\n",
       "<g id=\"edge64\" class=\"edge\">\n",
       "<title>63--64</title>\n",
       "<path fill=\"none\" stroke=\"black\" d=\"M1640.5,-215C1640.5,-215 1633.94,-194.94 1628.97,-179.74\"/>\n",
       "</g>\n",
       "<!-- 65 -->\n",
       "<g id=\"node66\" class=\"node\">\n",
       "<title>65</title>\n",
       "<text xml:space=\"preserve\" text-anchor=\"middle\" x=\"1705.5\" y=\"-156.95\" font-family=\"Courier,monospace\" font-size=\"14.00\" fill=\"#008040\">Load</text>\n",
       "</g>\n",
       "<!-- 63&#45;&#45;65 -->\n",
       "<g id=\"edge65\" class=\"edge\">\n",
       "<title>63--65</title>\n",
       "<path fill=\"none\" stroke=\"black\" d=\"M1640.5,-215C1640.5,-215 1665.57,-194.94 1684.58,-179.74\"/>\n",
       "</g>\n",
       "<!-- 67 -->\n",
       "<g id=\"node68\" class=\"node\">\n",
       "<title>67</title>\n",
       "<text xml:space=\"preserve\" text-anchor=\"start\" x=\"1708\" y=\"-301.95\" font-family=\"Courier,monospace\" font-weight=\"bold\" font-size=\"14.00\" fill=\"#004080\">Name</text>\n",
       "</g>\n",
       "<!-- 66&#45;&#45;67 -->\n",
       "<g id=\"edge67\" class=\"edge\">\n",
       "<title>66--67</title>\n",
       "<path fill=\"none\" stroke=\"black\" d=\"M1734.5,-359C1734.5,-359 1730.64,-338.94 1727.72,-323.74\"/>\n",
       "</g>\n",
       "<!-- 70 -->\n",
       "<g id=\"node71\" class=\"node\">\n",
       "<title>70</title>\n",
       "<text xml:space=\"preserve\" text-anchor=\"start\" x=\"1809.5\" y=\"-301.95\" font-family=\"Courier,monospace\" font-weight=\"bold\" font-size=\"14.00\" fill=\"#004080\">Constant</text>\n",
       "</g>\n",
       "<!-- 66&#45;&#45;70 -->\n",
       "<g id=\"edge70\" class=\"edge\">\n",
       "<title>66--70</title>\n",
       "<path fill=\"none\" stroke=\"black\" d=\"M1734.5,-359C1734.5,-359 1775.9,-339.07 1807.44,-323.88\"/>\n",
       "</g>\n",
       "<!-- 68 -->\n",
       "<g id=\"node69\" class=\"node\">\n",
       "<title>68</title>\n",
       "<text xml:space=\"preserve\" text-anchor=\"middle\" x=\"1708.5\" y=\"-228.95\" font-family=\"Courier,monospace\" font-size=\"14.00\" fill=\"#008040\">\"tag\"</text>\n",
       "</g>\n",
       "<!-- 67&#45;&#45;68 -->\n",
       "<g id=\"edge68\" class=\"edge\">\n",
       "<title>67--68</title>\n",
       "<path fill=\"none\" stroke=\"black\" d=\"M1728.5,-287C1728.5,-287 1720.78,-266.94 1714.94,-251.74\"/>\n",
       "</g>\n",
       "<!-- 69 -->\n",
       "<g id=\"node70\" class=\"node\">\n",
       "<title>69</title>\n",
       "<text xml:space=\"preserve\" text-anchor=\"middle\" x=\"1783.5\" y=\"-228.95\" font-family=\"Courier,monospace\" font-size=\"14.00\" fill=\"#008040\">Store</text>\n",
       "</g>\n",
       "<!-- 67&#45;&#45;69 -->\n",
       "<g id=\"edge69\" class=\"edge\">\n",
       "<title>67--69</title>\n",
       "<path fill=\"none\" stroke=\"black\" d=\"M1728.5,-287C1728.5,-287 1749.72,-266.94 1765.79,-251.74\"/>\n",
       "</g>\n",
       "<!-- 71 -->\n",
       "<g id=\"node72\" class=\"node\">\n",
       "<title>71</title>\n",
       "<text xml:space=\"preserve\" text-anchor=\"middle\" x=\"1858.5\" y=\"-228.95\" font-family=\"Courier,monospace\" font-size=\"14.00\" fill=\"#008040\">False</text>\n",
       "</g>\n",
       "<!-- 70&#45;&#45;71 -->\n",
       "<g id=\"edge71\" class=\"edge\">\n",
       "<title>70--71</title>\n",
       "<path fill=\"none\" stroke=\"black\" d=\"M1846.37,-288.05C1848.89,-277.05 1852.15,-262.76 1854.66,-251.79\"/>\n",
       "</g>\n",
       "<!-- 73 -->\n",
       "<g id=\"node74\" class=\"node\">\n",
       "<title>73</title>\n",
       "<text xml:space=\"preserve\" text-anchor=\"start\" x=\"2044.75\" y=\"-301.95\" font-family=\"Courier,monospace\" font-weight=\"bold\" font-size=\"14.00\" fill=\"#004080\">BoolOp</text>\n",
       "</g>\n",
       "<!-- 72&#45;&#45;73 -->\n",
       "<g id=\"edge73\" class=\"edge\">\n",
       "<title>72--73</title>\n",
       "<path fill=\"none\" stroke=\"black\" d=\"M2240.5,-359C2240.5,-359 2151.68,-331.99 2102.07,-316.9\"/>\n",
       "</g>\n",
       "<!-- 94 -->\n",
       "<g id=\"node95\" class=\"node\">\n",
       "<title>94</title>\n",
       "<text xml:space=\"preserve\" text-anchor=\"start\" x=\"2312.75\" y=\"-301.95\" font-family=\"Courier,monospace\" font-weight=\"bold\" font-size=\"14.00\" fill=\"#004080\">Assign</text>\n",
       "</g>\n",
       "<!-- 72&#45;&#45;94 -->\n",
       "<g id=\"edge94\" class=\"edge\">\n",
       "<title>72--94</title>\n",
       "<path fill=\"none\" stroke=\"black\" d=\"M2240.5,-359C2240.5,-359 2277.68,-339.07 2306.01,-323.88\"/>\n",
       "</g>\n",
       "<!-- 103 -->\n",
       "<g id=\"node104\" class=\"node\">\n",
       "<title>103</title>\n",
       "<text xml:space=\"preserve\" text-anchor=\"start\" x=\"2631.25\" y=\"-301.95\" font-family=\"Courier,monospace\" font-weight=\"bold\" font-size=\"14.00\" fill=\"#004080\">If</text>\n",
       "</g>\n",
       "<!-- 72&#45;&#45;103 -->\n",
       "<g id=\"edge103\" class=\"edge\">\n",
       "<title>72--103</title>\n",
       "<path fill=\"none\" stroke=\"black\" d=\"M2240.5,-359C2240.5,-359 2523.24,-322.15 2612.7,-310.49\"/>\n",
       "</g>\n",
       "<!-- 74 -->\n",
       "<g id=\"node75\" class=\"node\">\n",
       "<title>74</title>\n",
       "<text xml:space=\"preserve\" text-anchor=\"middle\" x=\"1932.5\" y=\"-228.95\" font-family=\"Courier,monospace\" font-size=\"14.00\" fill=\"#008040\">Or</text>\n",
       "</g>\n",
       "<!-- 73&#45;&#45;74 -->\n",
       "<g id=\"edge74\" class=\"edge\">\n",
       "<title>73--74</title>\n",
       "<path fill=\"none\" stroke=\"black\" d=\"M2061.5,-287C2061.5,-287 2009.17,-269.22 1968.5,-252 1965.44,-250.71 1962.27,-249.3 1959.13,-247.87\"/>\n",
       "</g>\n",
       "<!-- 75 -->\n",
       "<g id=\"node76\" class=\"node\">\n",
       "<title>75</title>\n",
       "<text xml:space=\"preserve\" text-anchor=\"start\" x=\"1985.62\" y=\"-229.95\" font-family=\"Courier,monospace\" font-weight=\"bold\" font-size=\"14.00\" fill=\"#004080\">Compare</text>\n",
       "</g>\n",
       "<!-- 73&#45;&#45;75 -->\n",
       "<g id=\"edge75\" class=\"edge\">\n",
       "<title>73--75</title>\n",
       "<path fill=\"none\" stroke=\"black\" d=\"M2061.5,-287C2061.5,-287 2043.37,-266.94 2029.63,-251.74\"/>\n",
       "</g>\n",
       "<!-- 82 -->\n",
       "<g id=\"node83\" class=\"node\">\n",
       "<title>82</title>\n",
       "<text xml:space=\"preserve\" text-anchor=\"start\" x=\"2099.75\" y=\"-229.95\" font-family=\"Courier,monospace\" font-weight=\"bold\" font-size=\"14.00\" fill=\"#004080\">BoolOp</text>\n",
       "</g>\n",
       "<!-- 73&#45;&#45;82 -->\n",
       "<g id=\"edge82\" class=\"edge\">\n",
       "<title>73--82</title>\n",
       "<path fill=\"none\" stroke=\"black\" d=\"M2061.5,-287C2061.5,-287 2085.8,-266.94 2104.22,-251.74\"/>\n",
       "</g>\n",
       "<!-- 76 -->\n",
       "<g id=\"node77\" class=\"node\">\n",
       "<title>76</title>\n",
       "<text xml:space=\"preserve\" text-anchor=\"start\" x=\"1793\" y=\"-157.95\" font-family=\"Courier,monospace\" font-weight=\"bold\" font-size=\"14.00\" fill=\"#004080\">Name</text>\n",
       "</g>\n",
       "<!-- 75&#45;&#45;76 -->\n",
       "<g id=\"edge76\" class=\"edge\">\n",
       "<title>75--76</title>\n",
       "<path fill=\"none\" stroke=\"black\" d=\"M1988.5,-215C1988.5,-215 1907.17,-201.86 1845.5,-180 1842.5,-178.94 1839.42,-177.71 1836.38,-176.41\"/>\n",
       "</g>\n",
       "<!-- 79 -->\n",
       "<g id=\"node80\" class=\"node\">\n",
       "<title>79</title>\n",
       "<text xml:space=\"preserve\" text-anchor=\"middle\" x=\"1881.5\" y=\"-156.95\" font-family=\"Courier,monospace\" font-size=\"14.00\" fill=\"#008040\">Eq</text>\n",
       "</g>\n",
       "<!-- 75&#45;&#45;79 -->\n",
       "<g id=\"edge79\" class=\"edge\">\n",
       "<title>75--79</title>\n",
       "<path fill=\"none\" stroke=\"black\" d=\"M1988.5,-215C1988.5,-215 1939.92,-191.39 1908.22,-175.99\"/>\n",
       "</g>\n",
       "<!-- 80 -->\n",
       "<g id=\"node81\" class=\"node\">\n",
       "<title>80</title>\n",
       "<text xml:space=\"preserve\" text-anchor=\"start\" x=\"1934.5\" y=\"-157.95\" font-family=\"Courier,monospace\" font-weight=\"bold\" font-size=\"14.00\" fill=\"#004080\">Constant</text>\n",
       "</g>\n",
       "<!-- 75&#45;&#45;80 -->\n",
       "<g id=\"edge80\" class=\"edge\">\n",
       "<title>75--80</title>\n",
       "<path fill=\"none\" stroke=\"black\" d=\"M1988.5,-215C1988.5,-215 1980.4,-194.94 1974.26,-179.74\"/>\n",
       "</g>\n",
       "<!-- 77 -->\n",
       "<g id=\"node78\" class=\"node\">\n",
       "<title>77</title>\n",
       "<text xml:space=\"preserve\" text-anchor=\"middle\" x=\"1779.5\" y=\"-84.95\" font-family=\"Courier,monospace\" font-size=\"14.00\" fill=\"#008040\">\"c\"</text>\n",
       "</g>\n",
       "<!-- 76&#45;&#45;77 -->\n",
       "<g id=\"edge77\" class=\"edge\">\n",
       "<title>76--77</title>\n",
       "<path fill=\"none\" stroke=\"black\" d=\"M1810.5,-143C1810.5,-143 1798.54,-122.94 1789.48,-107.74\"/>\n",
       "</g>\n",
       "<!-- 78 -->\n",
       "<g id=\"node79\" class=\"node\">\n",
       "<title>78</title>\n",
       "<text xml:space=\"preserve\" text-anchor=\"middle\" x=\"1851.5\" y=\"-84.95\" font-family=\"Courier,monospace\" font-size=\"14.00\" fill=\"#008040\">Load</text>\n",
       "</g>\n",
       "<!-- 76&#45;&#45;78 -->\n",
       "<g id=\"edge78\" class=\"edge\">\n",
       "<title>76--78</title>\n",
       "<path fill=\"none\" stroke=\"black\" d=\"M1810.5,-143C1810.5,-143 1826.32,-122.94 1838.3,-107.74\"/>\n",
       "</g>\n",
       "<!-- 81 -->\n",
       "<g id=\"node82\" class=\"node\">\n",
       "<title>81</title>\n",
       "<text xml:space=\"preserve\" text-anchor=\"middle\" x=\"1935.5\" y=\"-84.95\" font-family=\"Courier,monospace\" font-size=\"14.00\" fill=\"#008040\">\"\"\"</text>\n",
       "</g>\n",
       "<!-- 80&#45;&#45;81 -->\n",
       "<g id=\"edge81\" class=\"edge\">\n",
       "<title>80--81</title>\n",
       "<path fill=\"none\" stroke=\"black\" d=\"M1959.75,-144.05C1954.72,-133.05 1948.19,-118.76 1943.17,-107.79\"/>\n",
       "</g>\n",
       "<!-- 83 -->\n",
       "<g id=\"node84\" class=\"node\">\n",
       "<title>83</title>\n",
       "<text xml:space=\"preserve\" text-anchor=\"middle\" x=\"2053.5\" y=\"-156.95\" font-family=\"Courier,monospace\" font-size=\"14.00\" fill=\"#008040\">And</text>\n",
       "</g>\n",
       "<!-- 82&#45;&#45;83 -->\n",
       "<g id=\"edge83\" class=\"edge\">\n",
       "<title>82--83</title>\n",
       "<path fill=\"none\" stroke=\"black\" d=\"M2126.5,-215C2126.5,-215 2098.34,-194.94 2077,-179.74\"/>\n",
       "</g>\n",
       "<!-- 84 -->\n",
       "<g id=\"node85\" class=\"node\">\n",
       "<title>84</title>\n",
       "<text xml:space=\"preserve\" text-anchor=\"start\" x=\"2106.62\" y=\"-157.95\" font-family=\"Courier,monospace\" font-weight=\"bold\" font-size=\"14.00\" fill=\"#004080\">Compare</text>\n",
       "</g>\n",
       "<!-- 82&#45;&#45;84 -->\n",
       "<g id=\"edge84\" class=\"edge\">\n",
       "<title>82--84</title>\n",
       "<path fill=\"none\" stroke=\"black\" d=\"M2126.5,-215C2126.5,-215 2129.97,-194.94 2132.6,-179.74\"/>\n",
       "</g>\n",
       "<!-- 91 -->\n",
       "<g id=\"node92\" class=\"node\">\n",
       "<title>91</title>\n",
       "<text xml:space=\"preserve\" text-anchor=\"start\" x=\"2201\" y=\"-157.95\" font-family=\"Courier,monospace\" font-weight=\"bold\" font-size=\"14.00\" fill=\"#004080\">Name</text>\n",
       "</g>\n",
       "<!-- 82&#45;&#45;91 -->\n",
       "<g id=\"edge91\" class=\"edge\">\n",
       "<title>82--91</title>\n",
       "<path fill=\"none\" stroke=\"black\" d=\"M2126.5,-215C2126.5,-215 2163.85,-193.66 2190.69,-178.32\"/>\n",
       "</g>\n",
       "<!-- 85 -->\n",
       "<g id=\"node86\" class=\"node\">\n",
       "<title>85</title>\n",
       "<text xml:space=\"preserve\" text-anchor=\"start\" x=\"1991\" y=\"-85.95\" font-family=\"Courier,monospace\" font-weight=\"bold\" font-size=\"14.00\" fill=\"#004080\">Name</text>\n",
       "</g>\n",
       "<!-- 84&#45;&#45;85 -->\n",
       "<g id=\"edge85\" class=\"edge\">\n",
       "<title>84--85</title>\n",
       "<path fill=\"none\" stroke=\"black\" d=\"M2126.5,-143C2126.5,-143 2080.05,-124.33 2043.5,-108 2040.47,-106.65 2037.31,-105.2 2034.18,-103.75\"/>\n",
       "</g>\n",
       "<!-- 88 -->\n",
       "<g id=\"node89\" class=\"node\">\n",
       "<title>88</title>\n",
       "<text xml:space=\"preserve\" text-anchor=\"middle\" x=\"2079.5\" y=\"-84.95\" font-family=\"Courier,monospace\" font-size=\"14.00\" fill=\"#008040\">Eq</text>\n",
       "</g>\n",
       "<!-- 84&#45;&#45;88 -->\n",
       "<g id=\"edge88\" class=\"edge\">\n",
       "<title>84--88</title>\n",
       "<path fill=\"none\" stroke=\"black\" d=\"M2126.5,-143C2126.5,-143 2108.37,-122.94 2094.63,-107.74\"/>\n",
       "</g>\n",
       "<!-- 89 -->\n",
       "<g id=\"node90\" class=\"node\">\n",
       "<title>89</title>\n",
       "<text xml:space=\"preserve\" text-anchor=\"start\" x=\"2132.5\" y=\"-85.95\" font-family=\"Courier,monospace\" font-weight=\"bold\" font-size=\"14.00\" fill=\"#004080\">Constant</text>\n",
       "</g>\n",
       "<!-- 84&#45;&#45;89 -->\n",
       "<g id=\"edge89\" class=\"edge\">\n",
       "<title>84--89</title>\n",
       "<path fill=\"none\" stroke=\"black\" d=\"M2126.5,-143C2126.5,-143 2141.54,-122.94 2152.95,-107.74\"/>\n",
       "</g>\n",
       "<!-- 86 -->\n",
       "<g id=\"node87\" class=\"node\">\n",
       "<title>86</title>\n",
       "<text xml:space=\"preserve\" text-anchor=\"middle\" x=\"1971.5\" y=\"-12.95\" font-family=\"Courier,monospace\" font-size=\"14.00\" fill=\"#008040\">\"c\"</text>\n",
       "</g>\n",
       "<!-- 85&#45;&#45;86 -->\n",
       "<g id=\"edge86\" class=\"edge\">\n",
       "<title>85--86</title>\n",
       "<path fill=\"none\" stroke=\"black\" d=\"M2007.5,-71C2007.5,-71 1993.61,-50.94 1983.09,-35.74\"/>\n",
       "</g>\n",
       "<!-- 87 -->\n",
       "<g id=\"node88\" class=\"node\">\n",
       "<title>87</title>\n",
       "<text xml:space=\"preserve\" text-anchor=\"middle\" x=\"2043.5\" y=\"-12.95\" font-family=\"Courier,monospace\" font-size=\"14.00\" fill=\"#008040\">Load</text>\n",
       "</g>\n",
       "<!-- 85&#45;&#45;87 -->\n",
       "<g id=\"edge87\" class=\"edge\">\n",
       "<title>85--87</title>\n",
       "<path fill=\"none\" stroke=\"black\" d=\"M2007.5,-71C2007.5,-71 2021.39,-50.94 2031.91,-35.74\"/>\n",
       "</g>\n",
       "<!-- 90 -->\n",
       "<g id=\"node91\" class=\"node\">\n",
       "<title>90</title>\n",
       "<text xml:space=\"preserve\" text-anchor=\"middle\" x=\"2165.5\" y=\"-12.95\" font-family=\"Courier,monospace\" font-size=\"14.00\" fill=\"#008040\">\"'\"</text>\n",
       "</g>\n",
       "<!-- 89&#45;&#45;90 -->\n",
       "<g id=\"edge90\" class=\"edge\">\n",
       "<title>89--90</title>\n",
       "<path fill=\"none\" stroke=\"black\" d=\"M2165.5,-72.05C2165.5,-61.05 2165.5,-46.76 2165.5,-35.79\"/>\n",
       "</g>\n",
       "<!-- 92 -->\n",
       "<g id=\"node93\" class=\"node\">\n",
       "<title>92</title>\n",
       "<text xml:space=\"preserve\" text-anchor=\"middle\" x=\"2253.5\" y=\"-84.95\" font-family=\"Courier,monospace\" font-size=\"14.00\" fill=\"#008040\">\"tag\"</text>\n",
       "</g>\n",
       "<!-- 91&#45;&#45;92 -->\n",
       "<g id=\"edge92\" class=\"edge\">\n",
       "<title>91--92</title>\n",
       "<path fill=\"none\" stroke=\"black\" d=\"M2233.5,-143C2233.5,-143 2241.22,-122.94 2247.06,-107.74\"/>\n",
       "</g>\n",
       "<!-- 93 -->\n",
       "<g id=\"node94\" class=\"node\">\n",
       "<title>93</title>\n",
       "<text xml:space=\"preserve\" text-anchor=\"middle\" x=\"2327.5\" y=\"-84.95\" font-family=\"Courier,monospace\" font-size=\"14.00\" fill=\"#008040\">Load</text>\n",
       "</g>\n",
       "<!-- 91&#45;&#45;93 -->\n",
       "<g id=\"edge93\" class=\"edge\">\n",
       "<title>91--93</title>\n",
       "<path fill=\"none\" stroke=\"black\" d=\"M2233.5,-143C2233.5,-143 2272.79,-121.27 2300.56,-105.9\"/>\n",
       "</g>\n",
       "<!-- 95 -->\n",
       "<g id=\"node96\" class=\"node\">\n",
       "<title>95</title>\n",
       "<text xml:space=\"preserve\" text-anchor=\"start\" x=\"2321\" y=\"-229.95\" font-family=\"Courier,monospace\" font-weight=\"bold\" font-size=\"14.00\" fill=\"#004080\">Name</text>\n",
       "</g>\n",
       "<!-- 94&#45;&#45;95 -->\n",
       "<g id=\"edge95\" class=\"edge\">\n",
       "<title>94--95</title>\n",
       "<path fill=\"none\" stroke=\"black\" d=\"M2347.5,-287C2347.5,-287 2343.64,-266.94 2340.72,-251.74\"/>\n",
       "</g>\n",
       "<!-- 98 -->\n",
       "<g id=\"node99\" class=\"node\">\n",
       "<title>98</title>\n",
       "<text xml:space=\"preserve\" text-anchor=\"start\" x=\"2428.62\" y=\"-229.95\" font-family=\"Courier,monospace\" font-weight=\"bold\" font-size=\"14.00\" fill=\"#004080\">UnaryOp</text>\n",
       "</g>\n",
       "<!-- 94&#45;&#45;98 -->\n",
       "<g id=\"edge98\" class=\"edge\">\n",
       "<title>94--98</title>\n",
       "<path fill=\"none\" stroke=\"black\" d=\"M2347.5,-287C2347.5,-287 2389.67,-267.07 2421.79,-251.88\"/>\n",
       "</g>\n",
       "<!-- 96 -->\n",
       "<g id=\"node97\" class=\"node\">\n",
       "<title>96</title>\n",
       "<text xml:space=\"preserve\" text-anchor=\"middle\" x=\"2299.5\" y=\"-156.95\" font-family=\"Courier,monospace\" font-size=\"14.00\" fill=\"#008040\">\"quote\"</text>\n",
       "</g>\n",
       "<!-- 95&#45;&#45;96 -->\n",
       "<g id=\"edge96\" class=\"edge\">\n",
       "<title>95--96</title>\n",
       "<path fill=\"none\" stroke=\"black\" d=\"M2338.5,-215C2338.5,-215 2323.46,-194.94 2312.05,-179.74\"/>\n",
       "</g>\n",
       "<!-- 97 -->\n",
       "<g id=\"node98\" class=\"node\">\n",
       "<title>97</title>\n",
       "<text xml:space=\"preserve\" text-anchor=\"middle\" x=\"2383.5\" y=\"-156.95\" font-family=\"Courier,monospace\" font-size=\"14.00\" fill=\"#008040\">Store</text>\n",
       "</g>\n",
       "<!-- 95&#45;&#45;97 -->\n",
       "<g id=\"edge97\" class=\"edge\">\n",
       "<title>95--97</title>\n",
       "<path fill=\"none\" stroke=\"black\" d=\"M2338.5,-215C2338.5,-215 2355.86,-194.94 2369.01,-179.74\"/>\n",
       "</g>\n",
       "<!-- 99 -->\n",
       "<g id=\"node100\" class=\"node\">\n",
       "<title>99</title>\n",
       "<text xml:space=\"preserve\" text-anchor=\"middle\" x=\"2457.5\" y=\"-156.95\" font-family=\"Courier,monospace\" font-size=\"14.00\" fill=\"#008040\">Not</text>\n",
       "</g>\n",
       "<!-- 98&#45;&#45;99 -->\n",
       "<g id=\"edge99\" class=\"edge\">\n",
       "<title>98--99</title>\n",
       "<path fill=\"none\" stroke=\"black\" d=\"M2464.5,-215C2464.5,-215 2461.8,-194.94 2459.75,-179.74\"/>\n",
       "</g>\n",
       "<!-- 100 -->\n",
       "<g id=\"node101\" class=\"node\">\n",
       "<title>100</title>\n",
       "<text xml:space=\"preserve\" text-anchor=\"start\" x=\"2513\" y=\"-157.95\" font-family=\"Courier,monospace\" font-weight=\"bold\" font-size=\"14.00\" fill=\"#004080\">Name</text>\n",
       "</g>\n",
       "<!-- 98&#45;&#45;100 -->\n",
       "<g id=\"edge100\" class=\"edge\">\n",
       "<title>98--100</title>\n",
       "<path fill=\"none\" stroke=\"black\" d=\"M2464.5,-215C2464.5,-215 2489.57,-194.94 2508.58,-179.74\"/>\n",
       "</g>\n",
       "<!-- 101 -->\n",
       "<g id=\"node102\" class=\"node\">\n",
       "<title>101</title>\n",
       "<text xml:space=\"preserve\" text-anchor=\"middle\" x=\"2447.5\" y=\"-84.95\" font-family=\"Courier,monospace\" font-size=\"14.00\" fill=\"#008040\">\"quote\"</text>\n",
       "</g>\n",
       "<!-- 100&#45;&#45;101 -->\n",
       "<g id=\"edge101\" class=\"edge\">\n",
       "<title>100--101</title>\n",
       "<path fill=\"none\" stroke=\"black\" d=\"M2521.5,-143C2521.5,-143 2492.95,-122.94 2471.32,-107.74\"/>\n",
       "</g>\n",
       "<!-- 102 -->\n",
       "<g id=\"node103\" class=\"node\">\n",
       "<title>102</title>\n",
       "<text xml:space=\"preserve\" text-anchor=\"middle\" x=\"2529.5\" y=\"-84.95\" font-family=\"Courier,monospace\" font-size=\"14.00\" fill=\"#008040\">Load</text>\n",
       "</g>\n",
       "<!-- 100&#45;&#45;102 -->\n",
       "<g id=\"edge102\" class=\"edge\">\n",
       "<title>100--102</title>\n",
       "<path fill=\"none\" stroke=\"black\" d=\"M2521.5,-143C2521.5,-143 2524.59,-122.94 2526.92,-107.74\"/>\n",
       "</g>\n",
       "<!-- 104 -->\n",
       "<g id=\"node105\" class=\"node\">\n",
       "<title>104</title>\n",
       "<text xml:space=\"preserve\" text-anchor=\"start\" x=\"2610.62\" y=\"-229.95\" font-family=\"Courier,monospace\" font-weight=\"bold\" font-size=\"14.00\" fill=\"#004080\">UnaryOp</text>\n",
       "</g>\n",
       "<!-- 103&#45;&#45;104 -->\n",
       "<g id=\"edge104\" class=\"edge\">\n",
       "<title>103--104</title>\n",
       "<path fill=\"none\" stroke=\"black\" d=\"M2651.5,-287C2651.5,-287 2646.87,-266.94 2643.36,-251.74\"/>\n",
       "</g>\n",
       "<!-- 109 -->\n",
       "<g id=\"node110\" class=\"node\">\n",
       "<title>109</title>\n",
       "<text xml:space=\"preserve\" text-anchor=\"start\" x=\"2785.75\" y=\"-229.95\" font-family=\"Courier,monospace\" font-weight=\"bold\" font-size=\"14.00\" fill=\"#004080\">Assign</text>\n",
       "</g>\n",
       "<!-- 103&#45;&#45;109 -->\n",
       "<g id=\"edge109\" class=\"edge\">\n",
       "<title>103--109</title>\n",
       "<path fill=\"none\" stroke=\"black\" d=\"M2651.5,-287C2651.5,-287 2731.42,-260.86 2777.94,-245.65\"/>\n",
       "</g>\n",
       "<!-- 105 -->\n",
       "<g id=\"node106\" class=\"node\">\n",
       "<title>105</title>\n",
       "<text xml:space=\"preserve\" text-anchor=\"middle\" x=\"2603.5\" y=\"-156.95\" font-family=\"Courier,monospace\" font-size=\"14.00\" fill=\"#008040\">Not</text>\n",
       "</g>\n",
       "<!-- 104&#45;&#45;105 -->\n",
       "<g id=\"edge105\" class=\"edge\">\n",
       "<title>104--105</title>\n",
       "<path fill=\"none\" stroke=\"black\" d=\"M2639.5,-215C2639.5,-215 2625.61,-194.94 2615.09,-179.74\"/>\n",
       "</g>\n",
       "<!-- 106 -->\n",
       "<g id=\"node107\" class=\"node\">\n",
       "<title>106</title>\n",
       "<text xml:space=\"preserve\" text-anchor=\"start\" x=\"2659\" y=\"-157.95\" font-family=\"Courier,monospace\" font-weight=\"bold\" font-size=\"14.00\" fill=\"#004080\">Name</text>\n",
       "</g>\n",
       "<!-- 104&#45;&#45;106 -->\n",
       "<g id=\"edge106\" class=\"edge\">\n",
       "<title>104--106</title>\n",
       "<path fill=\"none\" stroke=\"black\" d=\"M2639.5,-215C2639.5,-215 2653.39,-194.94 2663.91,-179.74\"/>\n",
       "</g>\n",
       "<!-- 107 -->\n",
       "<g id=\"node108\" class=\"node\">\n",
       "<title>107</title>\n",
       "<text xml:space=\"preserve\" text-anchor=\"middle\" x=\"2603.5\" y=\"-84.95\" font-family=\"Courier,monospace\" font-size=\"14.00\" fill=\"#008040\">\"tag\"</text>\n",
       "</g>\n",
       "<!-- 106&#45;&#45;107 -->\n",
       "<g id=\"edge107\" class=\"edge\">\n",
       "<title>106--107</title>\n",
       "<path fill=\"none\" stroke=\"black\" d=\"M2668.5,-143C2668.5,-143 2643.43,-122.94 2624.42,-107.74\"/>\n",
       "</g>\n",
       "<!-- 108 -->\n",
       "<g id=\"node109\" class=\"node\">\n",
       "<title>108</title>\n",
       "<text xml:space=\"preserve\" text-anchor=\"middle\" x=\"2677.5\" y=\"-84.95\" font-family=\"Courier,monospace\" font-size=\"14.00\" fill=\"#008040\">Load</text>\n",
       "</g>\n",
       "<!-- 106&#45;&#45;108 -->\n",
       "<g id=\"edge108\" class=\"edge\">\n",
       "<title>106--108</title>\n",
       "<path fill=\"none\" stroke=\"black\" d=\"M2668.5,-143C2668.5,-143 2671.97,-122.94 2674.6,-107.74\"/>\n",
       "</g>\n",
       "<!-- 110 -->\n",
       "<g id=\"node111\" class=\"node\">\n",
       "<title>110</title>\n",
       "<text xml:space=\"preserve\" text-anchor=\"start\" x=\"2794\" y=\"-157.95\" font-family=\"Courier,monospace\" font-weight=\"bold\" font-size=\"14.00\" fill=\"#004080\">Name</text>\n",
       "</g>\n",
       "<!-- 109&#45;&#45;110 -->\n",
       "<g id=\"edge110\" class=\"edge\">\n",
       "<title>109--110</title>\n",
       "<path fill=\"none\" stroke=\"black\" d=\"M2819.5,-215C2819.5,-215 2816.03,-194.94 2813.4,-179.74\"/>\n",
       "</g>\n",
       "<!-- 113 -->\n",
       "<g id=\"node114\" class=\"node\">\n",
       "<title>113</title>\n",
       "<text xml:space=\"preserve\" text-anchor=\"start\" x=\"2894.88\" y=\"-157.95\" font-family=\"Courier,monospace\" font-weight=\"bold\" font-size=\"14.00\" fill=\"#004080\">BinOp</text>\n",
       "</g>\n",
       "<!-- 109&#45;&#45;113 -->\n",
       "<g id=\"edge113\" class=\"edge\">\n",
       "<title>109--113</title>\n",
       "<path fill=\"none\" stroke=\"black\" d=\"M2819.5,-215C2819.5,-215 2858.66,-193.79 2886.96,-178.46\"/>\n",
       "</g>\n",
       "<!-- 111 -->\n",
       "<g id=\"node112\" class=\"node\">\n",
       "<title>111</title>\n",
       "<text xml:space=\"preserve\" text-anchor=\"middle\" x=\"2751.5\" y=\"-84.95\" font-family=\"Courier,monospace\" font-size=\"14.00\" fill=\"#008040\">\"out\"</text>\n",
       "</g>\n",
       "<!-- 110&#45;&#45;111 -->\n",
       "<g id=\"edge111\" class=\"edge\">\n",
       "<title>110--111</title>\n",
       "<path fill=\"none\" stroke=\"black\" d=\"M2806.5,-143C2806.5,-143 2785.28,-122.94 2769.21,-107.74\"/>\n",
       "</g>\n",
       "<!-- 112 -->\n",
       "<g id=\"node113\" class=\"node\">\n",
       "<title>112</title>\n",
       "<text xml:space=\"preserve\" text-anchor=\"middle\" x=\"2826.5\" y=\"-84.95\" font-family=\"Courier,monospace\" font-size=\"14.00\" fill=\"#008040\">Store</text>\n",
       "</g>\n",
       "<!-- 110&#45;&#45;112 -->\n",
       "<g id=\"edge112\" class=\"edge\">\n",
       "<title>110--112</title>\n",
       "<path fill=\"none\" stroke=\"black\" d=\"M2806.5,-143C2806.5,-143 2814.22,-122.94 2820.06,-107.74\"/>\n",
       "</g>\n",
       "<!-- 114 -->\n",
       "<g id=\"node115\" class=\"node\">\n",
       "<title>114</title>\n",
       "<text xml:space=\"preserve\" text-anchor=\"start\" x=\"2884\" y=\"-85.95\" font-family=\"Courier,monospace\" font-weight=\"bold\" font-size=\"14.00\" fill=\"#004080\">Name</text>\n",
       "</g>\n",
       "<!-- 113&#45;&#45;114 -->\n",
       "<g id=\"edge114\" class=\"edge\">\n",
       "<title>113--114</title>\n",
       "<path fill=\"none\" stroke=\"black\" d=\"M2925.5,-143C2925.5,-143 2915.86,-122.94 2908.55,-107.74\"/>\n",
       "</g>\n",
       "<!-- 117 -->\n",
       "<g id=\"node118\" class=\"node\">\n",
       "<title>117</title>\n",
       "<text xml:space=\"preserve\" text-anchor=\"middle\" x=\"2972.5\" y=\"-84.95\" font-family=\"Courier,monospace\" font-size=\"14.00\" fill=\"#008040\">Add</text>\n",
       "</g>\n",
       "<!-- 113&#45;&#45;117 -->\n",
       "<g id=\"edge117\" class=\"edge\">\n",
       "<title>113--117</title>\n",
       "<path fill=\"none\" stroke=\"black\" d=\"M2925.5,-143C2925.5,-143 2943.63,-122.94 2957.37,-107.74\"/>\n",
       "</g>\n",
       "<!-- 118 -->\n",
       "<g id=\"node119\" class=\"node\">\n",
       "<title>118</title>\n",
       "<text xml:space=\"preserve\" text-anchor=\"start\" x=\"3028\" y=\"-85.95\" font-family=\"Courier,monospace\" font-weight=\"bold\" font-size=\"14.00\" fill=\"#004080\">Name</text>\n",
       "</g>\n",
       "<!-- 113&#45;&#45;118 -->\n",
       "<g id=\"edge118\" class=\"edge\">\n",
       "<title>113--118</title>\n",
       "<path fill=\"none\" stroke=\"black\" d=\"M2925.5,-143C2925.5,-143 2971.95,-124.33 3008.5,-108 3011.53,-106.65 3014.69,-105.2 3017.82,-103.75\"/>\n",
       "</g>\n",
       "<!-- 115 -->\n",
       "<g id=\"node116\" class=\"node\">\n",
       "<title>115</title>\n",
       "<text xml:space=\"preserve\" text-anchor=\"middle\" x=\"2862.5\" y=\"-12.95\" font-family=\"Courier,monospace\" font-size=\"14.00\" fill=\"#008040\">\"out\"</text>\n",
       "</g>\n",
       "<!-- 114&#45;&#45;115 -->\n",
       "<g id=\"edge115\" class=\"edge\">\n",
       "<title>114--115</title>\n",
       "<path fill=\"none\" stroke=\"black\" d=\"M2900.5,-71C2900.5,-71 2885.84,-50.94 2874.73,-35.74\"/>\n",
       "</g>\n",
       "<!-- 116 -->\n",
       "<g id=\"node117\" class=\"node\">\n",
       "<title>116</title>\n",
       "<text xml:space=\"preserve\" text-anchor=\"middle\" x=\"2936.5\" y=\"-12.95\" font-family=\"Courier,monospace\" font-size=\"14.00\" fill=\"#008040\">Load</text>\n",
       "</g>\n",
       "<!-- 114&#45;&#45;116 -->\n",
       "<g id=\"edge116\" class=\"edge\">\n",
       "<title>114--116</title>\n",
       "<path fill=\"none\" stroke=\"black\" d=\"M2900.5,-71C2900.5,-71 2914.39,-50.94 2924.91,-35.74\"/>\n",
       "</g>\n",
       "<!-- 119 -->\n",
       "<g id=\"node120\" class=\"node\">\n",
       "<title>119</title>\n",
       "<text xml:space=\"preserve\" text-anchor=\"middle\" x=\"3008.5\" y=\"-12.95\" font-family=\"Courier,monospace\" font-size=\"14.00\" fill=\"#008040\">\"c\"</text>\n",
       "</g>\n",
       "<!-- 118&#45;&#45;119 -->\n",
       "<g id=\"edge119\" class=\"edge\">\n",
       "<title>118--119</title>\n",
       "<path fill=\"none\" stroke=\"black\" d=\"M3044.5,-71C3044.5,-71 3030.61,-50.94 3020.09,-35.74\"/>\n",
       "</g>\n",
       "<!-- 120 -->\n",
       "<g id=\"node121\" class=\"node\">\n",
       "<title>120</title>\n",
       "<text xml:space=\"preserve\" text-anchor=\"middle\" x=\"3080.5\" y=\"-12.95\" font-family=\"Courier,monospace\" font-size=\"14.00\" fill=\"#008040\">Load</text>\n",
       "</g>\n",
       "<!-- 118&#45;&#45;120 -->\n",
       "<g id=\"edge120\" class=\"edge\">\n",
       "<title>118--120</title>\n",
       "<path fill=\"none\" stroke=\"black\" d=\"M3044.5,-71C3044.5,-71 3058.39,-50.94 3068.91,-35.74\"/>\n",
       "</g>\n",
       "<!-- 122 -->\n",
       "<g id=\"node123\" class=\"node\">\n",
       "<title>122</title>\n",
       "<text xml:space=\"preserve\" text-anchor=\"start\" x=\"1534\" y=\"-517.95\" font-family=\"Courier,monospace\" font-weight=\"bold\" font-size=\"14.00\" fill=\"#004080\">Name</text>\n",
       "</g>\n",
       "<!-- 121&#45;&#45;122 -->\n",
       "<g id=\"edge122\" class=\"edge\">\n",
       "<title>121--122</title>\n",
       "<path fill=\"none\" stroke=\"black\" d=\"M1321.15,-584.28C1373.55,-570.28 1475.43,-543.06 1523.79,-530.14\"/>\n",
       "</g>\n",
       "<!-- 123 -->\n",
       "<g id=\"node124\" class=\"node\">\n",
       "<title>123</title>\n",
       "<text xml:space=\"preserve\" text-anchor=\"middle\" x=\"1550.5\" y=\"-444.95\" font-family=\"Courier,monospace\" font-size=\"14.00\" fill=\"#008040\">\"out\"</text>\n",
       "</g>\n",
       "<!-- 122&#45;&#45;123 -->\n",
       "<g id=\"edge123\" class=\"edge\">\n",
       "<title>122--123</title>\n",
       "<path fill=\"none\" stroke=\"black\" d=\"M1558.5,-503C1558.5,-503 1555.41,-482.94 1553.08,-467.74\"/>\n",
       "</g>\n",
       "<!-- 124 -->\n",
       "<g id=\"node125\" class=\"node\">\n",
       "<title>124</title>\n",
       "<text xml:space=\"preserve\" text-anchor=\"middle\" x=\"1624.5\" y=\"-444.95\" font-family=\"Courier,monospace\" font-size=\"14.00\" fill=\"#008040\">Load</text>\n",
       "</g>\n",
       "<!-- 122&#45;&#45;124 -->\n",
       "<g id=\"edge124\" class=\"edge\">\n",
       "<title>122--124</title>\n",
       "<path fill=\"none\" stroke=\"black\" d=\"M1558.5,-503C1558.5,-503 1583.96,-482.94 1603.25,-467.74\"/>\n",
       "</g>\n",
       "</g>\n",
       "</svg>"
      ],
      "text/plain": [
       "<IPython.core.display.SVG object>"
      ]
     },
     "metadata": {},
     "output_type": "display_data"
    }
   ],
   "source": [
    "reduced_fun_tree = copy_and_reduce(fun_tree, reduced_nodes)\n",
    "show_ast(reduced_fun_tree)"
   ]
  },
  {
   "cell_type": "markdown",
   "metadata": {
    "slideshow": {
     "slide_type": "fragment"
    }
   },
   "source": [
    "And this is its textual representation:"
   ]
  },
  {
   "cell_type": "code",
   "execution_count": 176,
   "metadata": {
    "execution": {
     "iopub.execute_input": "2025-10-26T17:47:42.593178Z",
     "iopub.status.busy": "2025-10-26T17:47:42.593040Z",
     "iopub.status.idle": "2025-10-26T17:47:42.607636Z",
     "shell.execute_reply": "2025-10-26T17:47:42.607389Z"
    },
    "slideshow": {
     "slide_type": "subslide"
    }
   },
   "outputs": [
    {
     "name": "stdout",
     "output_type": "stream",
     "text": [
      "\u001b[34mdef\u001b[39;49;00m\u001b[37m \u001b[39;49;00m\u001b[32mremove_html_markup\u001b[39;49;00m(s):\u001b[37m\u001b[39;49;00m\n",
      "    tag = \u001b[34mFalse\u001b[39;49;00m\u001b[37m\u001b[39;49;00m\n",
      "    quote = \u001b[34mFalse\u001b[39;49;00m\u001b[37m\u001b[39;49;00m\n",
      "    out = \u001b[33m'\u001b[39;49;00m\u001b[33m'\u001b[39;49;00m\u001b[37m\u001b[39;49;00m\n",
      "    \u001b[34mfor\u001b[39;49;00m c \u001b[35min\u001b[39;49;00m s:\u001b[37m\u001b[39;49;00m\n",
      "        \u001b[34mif\u001b[39;49;00m c == \u001b[33m'\u001b[39;49;00m\u001b[33m<\u001b[39;49;00m\u001b[33m'\u001b[39;49;00m \u001b[35mand\u001b[39;49;00m (\u001b[35mnot\u001b[39;49;00m quote):\u001b[37m\u001b[39;49;00m\n",
      "            tag = \u001b[34mTrue\u001b[39;49;00m\u001b[37m\u001b[39;49;00m\n",
      "        \u001b[34melif\u001b[39;49;00m c == \u001b[33m'\u001b[39;49;00m\u001b[33m>\u001b[39;49;00m\u001b[33m'\u001b[39;49;00m \u001b[35mand\u001b[39;49;00m (\u001b[35mnot\u001b[39;49;00m quote):\u001b[37m\u001b[39;49;00m\n",
      "            tag = \u001b[34mFalse\u001b[39;49;00m\u001b[37m\u001b[39;49;00m\n",
      "        \u001b[34melif\u001b[39;49;00m c == \u001b[33m'\u001b[39;49;00m\u001b[33m\"\u001b[39;49;00m\u001b[33m'\u001b[39;49;00m \u001b[35mor\u001b[39;49;00m (c == \u001b[33m\"\u001b[39;49;00m\u001b[33m'\u001b[39;49;00m\u001b[33m\"\u001b[39;49;00m \u001b[35mand\u001b[39;49;00m tag):\u001b[37m\u001b[39;49;00m\n",
      "            quote = \u001b[35mnot\u001b[39;49;00m quote\u001b[37m\u001b[39;49;00m\n",
      "        \u001b[34melif\u001b[39;49;00m \u001b[35mnot\u001b[39;49;00m tag:\u001b[37m\u001b[39;49;00m\n",
      "            out = out + c\u001b[37m\u001b[39;49;00m\n",
      "    \u001b[34mreturn\u001b[39;49;00m out\u001b[37m\u001b[39;49;00m"
     ]
    }
   ],
   "source": [
    "print_content(ast.unparse(reduced_fun_tree), '.py')"
   ]
  },
  {
   "cell_type": "code",
   "execution_count": 177,
   "metadata": {
    "execution": {
     "iopub.execute_input": "2025-10-26T17:47:42.608834Z",
     "iopub.status.busy": "2025-10-26T17:47:42.608755Z",
     "iopub.status.idle": "2025-10-26T17:47:42.610837Z",
     "shell.execute_reply": "2025-10-26T17:47:42.610633Z"
    },
    "slideshow": {
     "slide_type": "subslide"
    }
   },
   "outputs": [
    {
     "data": {
      "text/plain": [
       "310"
      ]
     },
     "execution_count": 177,
     "metadata": {},
     "output_type": "execute_result"
    }
   ],
   "source": [
    "dd.tests"
   ]
  },
  {
   "cell_type": "markdown",
   "metadata": {
    "slideshow": {
     "slide_type": "fragment"
    }
   },
   "source": [
    "We see that some code was deleted – notably the assertion at the end – but otherwise, our deletion strategy was not particularly effective. This is because in Python, one cannot simply delete the single statement in a controlled body – this raises a syntax error. One would have to replace it with `pass` (or some other statement with no effect) to stay syntactically valid. Still, the syntax-based reduction would still single out `remove_html_markup()` from the `Assertions` source code – and do so even faster, as it would apply on one definition (rather than one line) after another."
   ]
  },
  {
   "cell_type": "markdown",
   "metadata": {
    "slideshow": {
     "slide_type": "subslide"
    }
   },
   "source": [
    "#### Transforming Nodes\n",
    "\n",
    "To further boost our syntactic reduction strategy, we implement a set of additional reduction operators. First, as already discussed, we do not simply delete an assignment, but we replace it with a `pass` statement. To obtain the tree for `pass`, we simply parse it and access the subtree."
   ]
  },
  {
   "cell_type": "code",
   "execution_count": 178,
   "metadata": {
    "execution": {
     "iopub.execute_input": "2025-10-26T17:47:42.612077Z",
     "iopub.status.busy": "2025-10-26T17:47:42.611995Z",
     "iopub.status.idle": "2025-10-26T17:47:42.613959Z",
     "shell.execute_reply": "2025-10-26T17:47:42.613699Z"
    },
    "slideshow": {
     "slide_type": "fragment"
    }
   },
   "outputs": [],
   "source": [
    "class NodeReducer(NodeReducer):\n",
    "    PASS_TREE = ast.parse(\"pass\").body[0]\n",
    "\n",
    "    def visit_Assign(self, node: ast.Assign) -> AST:\n",
    "        if node.marked:  # type: ignore\n",
    "            # Replace by pass\n",
    "            return self.PASS_TREE\n",
    "        return super().generic_visit(node)"
   ]
  },
  {
   "cell_type": "markdown",
   "metadata": {
    "slideshow": {
     "slide_type": "subslide"
    }
   },
   "source": [
    "In a similar vein, we can replace comparison operators with `False`:"
   ]
  },
  {
   "cell_type": "code",
   "execution_count": 179,
   "metadata": {
    "execution": {
     "iopub.execute_input": "2025-10-26T17:47:42.615124Z",
     "iopub.status.busy": "2025-10-26T17:47:42.615046Z",
     "iopub.status.idle": "2025-10-26T17:47:42.616909Z",
     "shell.execute_reply": "2025-10-26T17:47:42.616689Z"
    },
    "slideshow": {
     "slide_type": "fragment"
    }
   },
   "outputs": [],
   "source": [
    "class NodeReducer(NodeReducer):\n",
    "    FALSE_TREE = ast.parse(\"False\").body[0].value  # type: ignore\n",
    "\n",
    "    def visit_Compare(self, node: ast.Compare) -> AST:\n",
    "        if node.marked:  # type: ignore\n",
    "            # Replace by False\n",
    "            return self.FALSE_TREE\n",
    "        return super().generic_visit(node)"
   ]
  },
  {
   "cell_type": "markdown",
   "metadata": {
    "slideshow": {
     "slide_type": "fragment"
    }
   },
   "source": [
    "If we have a Boolean operator, we attempt to replace it with its left operand:"
   ]
  },
  {
   "cell_type": "code",
   "execution_count": 180,
   "metadata": {
    "execution": {
     "iopub.execute_input": "2025-10-26T17:47:42.618068Z",
     "iopub.status.busy": "2025-10-26T17:47:42.617999Z",
     "iopub.status.idle": "2025-10-26T17:47:42.619712Z",
     "shell.execute_reply": "2025-10-26T17:47:42.619477Z"
    },
    "slideshow": {
     "slide_type": "subslide"
    }
   },
   "outputs": [],
   "source": [
    "class NodeReducer(NodeReducer):\n",
    "    def visit_BoolOp(self, node: ast.BoolOp) -> AST:\n",
    "        if node.marked:  # type: ignore\n",
    "            # Replace by left operator\n",
    "            return node.values[0]\n",
    "        return super().generic_visit(node)"
   ]
  },
  {
   "cell_type": "markdown",
   "metadata": {
    "slideshow": {
     "slide_type": "fragment"
    }
   },
   "source": [
    "And if we find an `If` clause, we attempt to replace it by its body:"
   ]
  },
  {
   "cell_type": "code",
   "execution_count": 181,
   "metadata": {
    "execution": {
     "iopub.execute_input": "2025-10-26T17:47:42.620864Z",
     "iopub.status.busy": "2025-10-26T17:47:42.620792Z",
     "iopub.status.idle": "2025-10-26T17:47:42.622510Z",
     "shell.execute_reply": "2025-10-26T17:47:42.622317Z"
    },
    "slideshow": {
     "slide_type": "fragment"
    }
   },
   "outputs": [],
   "source": [
    "class NodeReducer(NodeReducer):\n",
    "    def visit_If(self, node: ast.If) -> Union[AST, List[ast.stmt]]:\n",
    "        if node.marked:  # type: ignore\n",
    "            # Replace by body\n",
    "            return node.body\n",
    "        return super().generic_visit(node)"
   ]
  },
  {
   "cell_type": "markdown",
   "metadata": {
    "slideshow": {
     "slide_type": "fragment"
    }
   },
   "source": [
    "Let us try to reduce our code with these additional reducers enabled:"
   ]
  },
  {
   "cell_type": "code",
   "execution_count": 182,
   "metadata": {
    "execution": {
     "iopub.execute_input": "2025-10-26T17:47:42.623665Z",
     "iopub.status.busy": "2025-10-26T17:47:42.623581Z",
     "iopub.status.idle": "2025-10-26T17:47:42.626053Z",
     "shell.execute_reply": "2025-10-26T17:47:42.625860Z"
    },
    "slideshow": {
     "slide_type": "subslide"
    }
   },
   "outputs": [],
   "source": [
    "with DeltaDebugger() as dd:\n",
    "    compile_and_test_ast(fun_tree, fun_nodes, test_tree)"
   ]
  },
  {
   "cell_type": "markdown",
   "metadata": {
    "slideshow": {
     "slide_type": "fragment"
    }
   },
   "source": [
    "This is the reduced code we get. We see that all references to `quote` have gone, as has the handling of single quotes – none of this is relevant for the failure:"
   ]
  },
  {
   "cell_type": "code",
   "execution_count": 183,
   "metadata": {
    "execution": {
     "iopub.execute_input": "2025-10-26T17:47:42.627296Z",
     "iopub.status.busy": "2025-10-26T17:47:42.627200Z",
     "iopub.status.idle": "2025-10-26T17:47:42.791702Z",
     "shell.execute_reply": "2025-10-26T17:47:42.791468Z"
    },
    "slideshow": {
     "slide_type": "subslide"
    }
   },
   "outputs": [
    {
     "name": "stdout",
     "output_type": "stream",
     "text": [
      "\u001b[34mdef\u001b[39;49;00m\u001b[37m \u001b[39;49;00m\u001b[32mremove_html_markup\u001b[39;49;00m(s):\u001b[37m\u001b[39;49;00m\n",
      "    tag = \u001b[34mFalse\u001b[39;49;00m\u001b[37m\u001b[39;49;00m\n",
      "    \u001b[34mpass\u001b[39;49;00m\u001b[37m\u001b[39;49;00m\n",
      "    out = \u001b[33m'\u001b[39;49;00m\u001b[33m'\u001b[39;49;00m\u001b[37m\u001b[39;49;00m\n",
      "    \u001b[34mfor\u001b[39;49;00m c \u001b[35min\u001b[39;49;00m s:\u001b[37m\u001b[39;49;00m\n",
      "        \u001b[34mif\u001b[39;49;00m c == \u001b[33m'\u001b[39;49;00m\u001b[33m<\u001b[39;49;00m\u001b[33m'\u001b[39;49;00m:\u001b[37m\u001b[39;49;00m\n",
      "            tag = \u001b[34mTrue\u001b[39;49;00m\u001b[37m\u001b[39;49;00m\n",
      "        \u001b[34melif\u001b[39;49;00m c == \u001b[33m'\u001b[39;49;00m\u001b[33m>\u001b[39;49;00m\u001b[33m'\u001b[39;49;00m:\u001b[37m\u001b[39;49;00m\n",
      "            tag = \u001b[34mFalse\u001b[39;49;00m\u001b[37m\u001b[39;49;00m\n",
      "        \u001b[34melif\u001b[39;49;00m c == \u001b[33m'\u001b[39;49;00m\u001b[33m\"\u001b[39;49;00m\u001b[33m'\u001b[39;49;00m:\u001b[37m\u001b[39;49;00m\n",
      "            \u001b[34mpass\u001b[39;49;00m\u001b[37m\u001b[39;49;00m\n",
      "        \u001b[34melif\u001b[39;49;00m \u001b[35mnot\u001b[39;49;00m tag:\u001b[37m\u001b[39;49;00m\n",
      "            out = out + c\u001b[37m\u001b[39;49;00m\n",
      "    \u001b[34mreturn\u001b[39;49;00m out\u001b[37m\u001b[39;49;00m"
     ]
    }
   ],
   "source": [
    "reduced_nodes = dd.min_args()['keep_list']\n",
    "reduced_fun_tree = copy_and_reduce(fun_tree, reduced_nodes)\n",
    "print_content(ast.unparse(reduced_fun_tree), '.py')"
   ]
  },
  {
   "cell_type": "markdown",
   "metadata": {
    "slideshow": {
     "slide_type": "subslide"
    }
   },
   "source": [
    "Again, the best insights come from comparing this reduced version to the original implementation – and we learn that the problem is not related to the `quote` variable, or to the handling of single quotes; the problem is simply that when the input contains double quotes, these are not added to the final string."
   ]
  },
  {
   "cell_type": "markdown",
   "metadata": {
    "slideshow": {
     "slide_type": "fragment"
    }
   },
   "source": [
    "With our reduction code, however, we only touch the surface of what could actually be possible. So far, we implement exactly one reduction per node – but of course, there are many alternatives an expression or statement could be reduced to. We will explore some of these in the [exercises](#Exercises), below; also be sure to check out the [background](#Background) on code reduction."
   ]
  },
  {
   "attachments": {},
   "cell_type": "markdown",
   "metadata": {
    "button": false,
    "new_sheet": true,
    "run_control": {
     "read_only": false
    },
    "slideshow": {
     "slide_type": "slide"
    }
   },
   "source": [
    "## Lessons Learned\n",
    "\n",
    "* Reducing failure-inducing inputs to a minimum is helpful for testing and debugging.\n",
    "* _Delta debugging_ is a simple and robust algorithm to easily reduce inputs of test cases, as well as their code.\n",
    "* Precisely specifying failure conditions helps to avoid false diagnoses."
   ]
  },
  {
   "cell_type": "markdown",
   "metadata": {
    "button": false,
    "new_sheet": false,
    "run_control": {
     "read_only": false
    },
    "slideshow": {
     "slide_type": "slide"
    }
   },
   "source": [
    "## Next Steps\n",
    "\n",
    "Our next chapter focuses on [finding _failure-inducing code changes_](ChangeDebugger.ipynb), using delta debugging and version control systems."
   ]
  },
  {
   "attachments": {},
   "cell_type": "markdown",
   "metadata": {
    "slideshow": {
     "slide_type": "slide"
    }
   },
   "source": [
    "## Background\n",
    "\n",
    "The \"lexical\" delta debugging algorithm discussed here – both in its simplifying `ddmin` and in its general `dd` form – stem from \\cite{Zeller2002}; actually, `ddmin` is the exact Python implementation as used by Zeller in 2002. The `ddmax` variant was first evaluated in \\cite{Kirschner2020}. This chapter is the first to show how both `ddmin` and `ddmax` can be implemented as small variations of `dd`."
   ]
  },
  {
   "attachments": {},
   "cell_type": "markdown",
   "metadata": {
    "slideshow": {
     "slide_type": "fragment"
    }
   },
   "source": [
    "The idea of systematically reducing inputs has been discovered a number of times, although not as automatic and generic as delta debugging. \\cite{Slutz1998}, for instance, discusses systematic reduction of SQL statements for SQL databases; the general process as manual work is well described by \\cite{Kernighan1999}."
   ]
  },
  {
   "cell_type": "markdown",
   "metadata": {
    "slideshow": {
     "slide_type": "subslide"
    }
   },
   "source": [
    "The deficits of delta debugging as it comes to syntactically complex inputs were first discussed in *compiler testing*, and _reducing tree inputs_ rather than string inputs was quickly discovered as an alternative.  *Hierarchical Delta Debugging* (*HDD*) \\cite{Misherghi2006} applies delta debugging on subtrees of a parse tree, systematically reducing a parse tree to a minimum.  _Generalized Tree Reduction_ \\cite{Herfert2017} generalizes this idea to apply arbitrary _patterns_ such as replacing a term by a compatible term in a subtree.  Using _grammars_ to reduce inputs was first implemented in the _Perses_ tool \\cite{Sun2018}. [A Python implementation of grammar-based input reduction](https://www.fuzzingbook.org/html/Reducer.html#Grammar-Based-Input-Reduction) is part of \"The Fuzzing Book\"."
   ]
  },
  {
   "cell_type": "markdown",
   "metadata": {
    "slideshow": {
     "slide_type": "subslide"
    }
   },
   "source": [
    "While applying delta debugging to code lines does a decent job, _syntactic_ and especially _language-specific_ approaches can do a much better job for the programming language at hand:\n",
    "\n",
    "* *C-Reduce* \\cite{Regehr2012} is a reducer specifically targeting the reduction of programming languages.  Besides reductions in the style of delta debugging or tree transformations, C-Reduce comes with more than 30 source-to-source transformations that replace aggregates by scalars, remove function parameters at a definition and all call sites, change functions to return `void` and deleting all `return` statements, and many more.  While specifically instantiated for the C language (and used for testing C compilers), these principles extend to arbitrary programming languages following an ALGOL-like syntax.\n",
    "\n",
    "* Kalhauge and Palsberg \\cite{Kalhauge2019} introduce *binary reduction of dependency graphs*, a general solution for reducing arbitrary inputs with dependencies. Their *J-Reduce* tool specifically targets Java programs, and again is much faster than delta debugging and achieves a higher reduction rate."
   ]
  },
  {
   "cell_type": "markdown",
   "metadata": {
    "slideshow": {
     "slide_type": "subslide"
    }
   },
   "source": [
    "Reducing inputs also works well in the context of _property-based testing_; that is, generating data structures for individual functions, which can then be reduced (\"shrunk\") upon failure. The [Hypothesis](https://hypothesis.works) fuzzer has a number of type-specific shrinking strategies; this [blog article](https://hypothesis.works/articles/integrated-shrinking/) discusses some of its features."
   ]
  },
  {
   "cell_type": "markdown",
   "metadata": {
    "slideshow": {
     "slide_type": "fragment"
    }
   },
   "source": [
    "This [blog post](https://www.drmaciver.com/2019/01/notes-on-test-case-reduction/) by David McIver contains lots of insights on how to apply reduction in practice, in particular multiple runs with different abstraction levels."
   ]
  },
  {
   "cell_type": "markdown",
   "metadata": {
    "button": false,
    "new_sheet": true,
    "run_control": {
     "read_only": false
    },
    "slideshow": {
     "slide_type": "slide"
    }
   },
   "source": [
    "## Exercises\n",
    "\n",
    "How to best reduce inputs is still an underdeveloped field of research, with lots of opportunities."
   ]
  },
  {
   "cell_type": "markdown",
   "metadata": {
    "button": false,
    "new_sheet": false,
    "run_control": {
     "read_only": false
    },
    "slideshow": {
     "slide_type": "subslide"
    },
    "solution": "hidden",
    "solution2": "hidden",
    "solution2_first": true,
    "solution_first": true
   },
   "source": [
    "### Exercise 1: Advanced Syntactic Code Reduction\n",
    "\n",
    "Extend the code in [\"Transforming Nodes\"](#Transforming-Nodes) such that _multiple_ reduction possibilities for a node are being considered. For instance:\n",
    "\n",
    "* Replace a `BoolOp` node by `True`.\n",
    "* Replace a `BoolOp` node by `False`.\n",
    "* Replace a `BoolOp` node by its left operand.\n",
    "* Replace a `BoolOp` node by its right operand.\n",
    "\n",
    "or:\n",
    "\n",
    "* Replace an `If` node by its \"then\" body.\n",
    "* Replace an `If` node by its \"else\" body.\n",
    "\n",
    "or:\n",
    "\n",
    "* Replace all instances of a variable by a constant.\n",
    "\n",
    "or:\n",
    "\n",
    "* Replace expressions by a constant.\n",
    "\n",
    "Have a look at the [official Python `ast` reference](http://docs.python.org/3/library/ast) for a list of nodes (and some ideas on what to replace them by). The documentation [\"Green Tree Snakes - the missing Python AST docs\"](https://greentreesnakes.readthedocs.io/en/latest/) provides an excellent introduction on visitors and transformers. Make copious use of AST visualization and tests to ensure your syntax trees are still correct.\n",
    "\n",
    "Strategy-wise, you should first create a list of _possible_ reductions; and then pass to Delta Debugging a \"keep list\" of reductions that should _not_ be applied. When Delta Debugging minimizes this list, it will apply as many reductions as possible."
   ]
  }
 ],
 "metadata": {
  "ipub": {
   "bibliography": "fuzzingbook.bib",
   "toc": true
  },
  "kernelspec": {
   "display_name": "Python 3 (ipykernel)",
   "language": "python",
   "name": "python3"
  },
  "language_info": {
   "codemirror_mode": {
    "name": "ipython",
    "version": 3
   },
   "file_extension": ".py",
   "mimetype": "text/x-python",
   "name": "python",
   "nbconvert_exporter": "python",
   "pygments_lexer": "ipython3",
   "version": "3.13.4"
  },
  "toc": {
   "base_numbering": 1,
   "nav_menu": {},
   "number_sections": true,
   "sideBar": true,
   "skip_h1_title": true,
   "title_cell": "",
   "title_sidebar": "Contents",
   "toc_cell": false,
   "toc_position": {},
   "toc_section_display": true,
   "toc_window_display": true
  },
  "toc-autonumbering": false,
  "varInspector": {
   "cols": {
    "lenName": 16,
    "lenType": 16,
    "lenVar": 40
   },
   "kernels_config": {
    "python": {
     "delete_cmd_postfix": "",
     "delete_cmd_prefix": "del ",
     "library": "var_list.py",
     "varRefreshCmd": "print(var_dic_list())"
    },
    "r": {
     "delete_cmd_postfix": ") ",
     "delete_cmd_prefix": "rm(",
     "library": "var_list.r",
     "varRefreshCmd": "cat(var_dic_list()) "
    }
   },
   "types_to_exclude": [
    "module",
    "function",
    "builtin_function_or_method",
    "instance",
    "_Feature"
   ],
   "window_display": false
  }
 },
 "nbformat": 4,
 "nbformat_minor": 4
}