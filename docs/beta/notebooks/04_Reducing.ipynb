{
 "cells": [
  {
   "cell_type": "markdown",
   "metadata": {
    "button": false,
    "new_sheet": false,
    "run_control": {
     "read_only": false
    },
    "slideshow": {
     "slide_type": "slide"
    }
   },
   "source": [
    "# Part IV: Reducing Failure Causes\n",
    "\n",
    "In this part, we show how to narrow down failures by systematic experimentation.\n",
    "\n",
    "* [Reducing Failure-Inducing Inputs](DeltaDebugger.ipynb) introduces _delta debugging_, a technique to automatically reduce a failure-inducing input to a minimum.\n",
    "\n",
    "* [Isolating Failure-Inducing Changes](ChangeDebugger.ipynb) shows how to identify changes that cause failures - manually and automatically.\n",
    "\n",
    "* In [Debugging Concurrent Programs](ThreadDebugger.ipynb), we show how to detect and debug concurrency issues."
   ]
  }
 ],
 "metadata": {
  "ipub": {
   "bibliography": "fuzzingbook.bib",
   "toc": true
  },
  "kernelspec": {
   "display_name": "Python 3",
   "language": "python",
   "name": "python3"
  },
  "language_info": {
   "codemirror_mode": {
    "name": "ipython",
    "version": 3
   },
   "file_extension": ".py",
   "mimetype": "text/x-python",
   "name": "python",
   "nbconvert_exporter": "python",
   "pygments_lexer": "ipython3",
   "version": "3.13.4"
  },
  "toc": {
   "base_numbering": 1,
   "nav_menu": {},
   "number_sections": true,
   "sideBar": true,
   "skip_h1_title": true,
   "title_cell": "",
   "title_sidebar": "Contents",
   "toc_cell": false,
   "toc_position": {},
   "toc_section_display": true,
   "toc_window_display": true
  },
  "toc-autonumbering": false
 },
 "nbformat": 4,
 "nbformat_minor": 4
}
