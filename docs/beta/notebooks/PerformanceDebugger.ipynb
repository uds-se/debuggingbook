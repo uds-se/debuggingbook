{
 "cells": [
  {
   "cell_type": "markdown",
   "metadata": {
    "button": false,
    "new_sheet": false,
    "run_control": {
     "read_only": false
    },
    "slideshow": {
     "slide_type": "slide"
    }
   },
   "source": [
    "# Debugging Performance Issues\n",
    "\n",
    "Most chapters of this book deal with _functional_ issues – that is, issues related to the _functionality_ (or its absence) of the code in question. However, debugging can also involve _nonfunctional_ issues, however – performance, usability, reliability, and more. In this chapter, we give a short introduction on how to debug such nonfunctional issues, notably _performance_ issues."
   ]
  },
  {
   "cell_type": "code",
   "execution_count": 1,
   "metadata": {
    "execution": {
     "iopub.execute_input": "2025-10-26T17:51:33.919603Z",
     "iopub.status.busy": "2025-10-26T17:51:33.919195Z",
     "iopub.status.idle": "2025-10-26T17:51:34.638174Z",
     "shell.execute_reply": "2025-10-26T17:51:34.637914Z"
    },
    "slideshow": {
     "slide_type": "skip"
    }
   },
   "outputs": [
    {
     "data": {
      "text/html": [
       "\n",
       "        <iframe\n",
       "            width=\"640\"\n",
       "            height=\"360\"\n",
       "            src=\"https://www.youtube-nocookie.com/embed/0tMeB9G0uUI\"\n",
       "            frameborder=\"0\"\n",
       "            allowfullscreen\n",
       "            \n",
       "        ></iframe>\n",
       "        "
      ],
      "text/plain": [
       "<IPython.lib.display.IFrame at 0x10badaf90>"
      ]
     },
     "execution_count": 1,
     "metadata": {},
     "output_type": "execute_result"
    }
   ],
   "source": [
    "from bookutils import YouTubeVideo\n",
    "YouTubeVideo(\"0tMeB9G0uUI\")"
   ]
  },
  {
   "cell_type": "markdown",
   "metadata": {
    "button": false,
    "new_sheet": false,
    "run_control": {
     "read_only": false
    },
    "slideshow": {
     "slide_type": "subslide"
    }
   },
   "source": [
    "**Prerequisites**\n",
    "\n",
    "* This chapter leverages visualization capabilities from [the chapter on statistical debugging](StatisticalDebugger.ipynb).\n",
    "* We also show how to debug nonfunctional issues using [delta debugging](DeltaDebugger.ipynb)."
   ]
  },
  {
   "cell_type": "code",
   "execution_count": 2,
   "metadata": {
    "button": false,
    "execution": {
     "iopub.execute_input": "2025-10-26T17:51:34.658433Z",
     "iopub.status.busy": "2025-10-26T17:51:34.658290Z",
     "iopub.status.idle": "2025-10-26T17:51:34.660507Z",
     "shell.execute_reply": "2025-10-26T17:51:34.660255Z"
    },
    "new_sheet": false,
    "run_control": {
     "read_only": false
    },
    "slideshow": {
     "slide_type": "skip"
    }
   },
   "outputs": [],
   "source": [
    "import bookutils.setup"
   ]
  },
  {
   "cell_type": "code",
   "execution_count": 3,
   "metadata": {
    "execution": {
     "iopub.execute_input": "2025-10-26T17:51:34.661810Z",
     "iopub.status.busy": "2025-10-26T17:51:34.661709Z",
     "iopub.status.idle": "2025-10-26T17:51:36.078936Z",
     "shell.execute_reply": "2025-10-26T17:51:36.078392Z"
    },
    "slideshow": {
     "slide_type": "skip"
    }
   },
   "outputs": [],
   "source": [
    "import StatisticalDebugger\n",
    "import DeltaDebugger"
   ]
  },
  {
   "cell_type": "markdown",
   "metadata": {
    "slideshow": {
     "slide_type": "slide"
    }
   },
   "source": [
    "## Synopsis\n",
    "To [use the code provided in this chapter](Importing.ipynb), write\n",
    "\n",
    "```python\n",
    ">>> from debuggingbook.PerformanceDebugger import <identifier>\n",
    "```\n",
    "\n",
    "and then make use of the following features.\n",
    "\n",
    "**Note**: The examples in this section only work after the rest of the cells have been executed.\n"
   ]
  },
  {
   "cell_type": "markdown",
   "metadata": {
    "slideshow": {
     "slide_type": "fragment"
    }
   },
   "source": [
    "This chapter provides a class `PerformanceDebugger` that allows measuring and visualizing the time taken per line in a function."
   ]
  },
  {
   "cell_type": "code",
   "execution_count": 53,
   "metadata": {
    "execution": {
     "iopub.execute_input": "2025-10-26T17:54:57.506932Z",
     "iopub.status.busy": "2025-10-26T17:54:57.506290Z",
     "iopub.status.idle": "2025-10-26T17:54:57.523987Z",
     "shell.execute_reply": "2025-10-26T17:54:57.523689Z"
    },
    "slideshow": {
     "slide_type": "fragment"
    }
   },
   "outputs": [],
   "source": [
    "with PerformanceDebugger(TimeCollector) as debugger:\n",
    "    for i in range(100):\n",
    "        s = remove_html_markup('<b>foo</b>')"
   ]
  },
  {
   "cell_type": "markdown",
   "metadata": {
    "slideshow": {
     "slide_type": "fragment"
    }
   },
   "source": [
    "The distribution of executed time within each function can be obtained by printing out the debugger:"
   ]
  },
  {
   "cell_type": "code",
   "execution_count": 54,
   "metadata": {
    "execution": {
     "iopub.execute_input": "2025-10-26T17:54:57.525390Z",
     "iopub.status.busy": "2025-10-26T17:54:57.525296Z",
     "iopub.status.idle": "2025-10-26T17:54:57.527329Z",
     "shell.execute_reply": "2025-10-26T17:54:57.527117Z"
    },
    "slideshow": {
     "slide_type": "subslide"
    }
   },
   "outputs": [
    {
     "name": "stdout",
     "output_type": "stream",
     "text": [
      " 238   1% def remove_html_markup(s):  # type: ignore\n",
      " 239   1%     tag = False\n",
      " 240   1%     quote = False\n",
      " 241   1%     out = \"\"\n",
      " 242   0%\n",
      " 243  16%     for c in s:\n",
      " 244  15%         assert tag or not quote\n",
      " 245   0%\n",
      " 246  15%         if c == '<' and not quote:\n",
      " 247   3%             tag = True\n",
      " 248  12%         elif c == '>' and not quote:\n",
      " 249   2%             tag = False\n",
      " 250   8%         elif (c == '\"' or c == \"'\") and tag:\n",
      " 251   0%             quote = not quote\n",
      " 252   8%         elif not tag:\n",
      " 253   7%             out = out + c\n",
      " 254   0%\n",
      " 255   3%     return out\n",
      "\n"
     ]
    }
   ],
   "source": [
    "print(debugger)"
   ]
  },
  {
   "cell_type": "markdown",
   "metadata": {
    "slideshow": {
     "slide_type": "subslide"
    }
   },
   "source": [
    "The sum of all percentages in a function should always be 100%."
   ]
  },
  {
   "cell_type": "markdown",
   "metadata": {
    "slideshow": {
     "slide_type": "fragment"
    }
   },
   "source": [
    "These percentages can also be visualized, where darker shades represent higher percentage values:"
   ]
  },
  {
   "cell_type": "code",
   "execution_count": 55,
   "metadata": {
    "execution": {
     "iopub.execute_input": "2025-10-26T17:54:57.528750Z",
     "iopub.status.busy": "2025-10-26T17:54:57.528661Z",
     "iopub.status.idle": "2025-10-26T17:54:57.531320Z",
     "shell.execute_reply": "2025-10-26T17:54:57.531079Z"
    },
    "slideshow": {
     "slide_type": "subslide"
    }
   },
   "outputs": [
    {
     "data": {
      "text/html": [
       "<pre style=\"background-color:hsl(240, 100%, 97.03869523003347%)\"\n",
       "                    title=\"Line 238:   1% 0.00016483914805576205\"> 238 def remove_html_markup(s):  # type: ignore</pre>\n",
       "<pre style=\"background-color:hsl(240, 100%, 97.66153842936339%)\"\n",
       "                    title=\"Line 239:   1% 0.00013016897719353437\"> 239     tag = False</pre>\n",
       "<pre style=\"background-color:hsl(240, 100%, 97.58894298010105%)\"\n",
       "                    title=\"Line 240:   1% 0.00013420995674096048\"> 240     quote = False</pre>\n",
       "<pre style=\"background-color:hsl(240, 100%, 97.67715162450533%)\"\n",
       "                    title=\"Line 241:   1% 0.0001292998786084354\"> 241     out = &quot;&quot;</pre>\n",
       "<pre style=\"background-color:hsl(240, 100%, 100.0%)\"\n",
       "                    title=\"Line 242:   0% 0.0\"> 242 &nbsp;</pre>\n",
       "<pre style=\"background-color:hsl(240, 100%, 75.0%)\"\n",
       "                    title=\"Line 243:  16% 0.0013916091120336205\"> 243     for c in s:</pre>\n",
       "<pre style=\"background-color:hsl(240, 100%, 76.57003952184786%)\"\n",
       "                    title=\"Line 244:  15% 0.0013042138598393649\"> 244         assert tag or not quote</pre>\n",
       "<pre style=\"background-color:hsl(240, 100%, 100.0%)\"\n",
       "                    title=\"Line 245:   0% 0.0\"> 245 &nbsp;</pre>\n",
       "<pre style=\"background-color:hsl(240, 100%, 77.03739752893031%)\"\n",
       "                    title=\"Line 246:  15% 0.001278198673389852\"> 246         if c == &#x27;&lt;&#x27; and not quote:</pre>\n",
       "<pre style=\"background-color:hsl(240, 100%, 95.4000924389827%)\"\n",
       "                    title=\"Line 247:   3% 0.0002560509310569614\"> 247             tag = True</pre>\n",
       "<pre style=\"background-color:hsl(240, 100%, 81.41888819118138%)\"\n",
       "                    title=\"Line 248:  12% 0.0010343057801946998\"> 248         elif c == &#x27;&gt;&#x27; and not quote:</pre>\n",
       "<pre style=\"background-color:hsl(240, 100%, 95.47670908856104%)\"\n",
       "                    title=\"Line 249:   2% 0.0002517861139494926\"> 249             tag = False</pre>\n",
       "<pre style=\"background-color:hsl(240, 100%, 86.41214767441191%)\"\n",
       "                    title=\"Line 250:   8% 0.0007563591643702239\"> 250         elif (c == &#x27;&quot;&#x27; or c == &quot;&#x27;&quot;) and tag:</pre>\n",
       "<pre style=\"background-color:hsl(240, 100%, 100.0%)\"\n",
       "                    title=\"Line 251:   0% 0.0\"> 251             quote = not quote</pre>\n",
       "<pre style=\"background-color:hsl(240, 100%, 86.29332332259584%)\"\n",
       "                    title=\"Line 252:   8% 0.0007629734463989735\"> 252         elif not tag:</pre>\n",
       "<pre style=\"background-color:hsl(240, 100%, 88.48993026817239%)\"\n",
       "                    title=\"Line 253:   7% 0.0006407007167581469\"> 253             out = out + c</pre>\n",
       "<pre style=\"background-color:hsl(240, 100%, 100.0%)\"\n",
       "                    title=\"Line 254:   0% 0.0\"> 254 &nbsp;</pre>\n",
       "<pre style=\"background-color:hsl(240, 100%, 95.1517248915489%)\"\n",
       "                    title=\"Line 255:   3% 0.0002698761527426541\"> 255     return out</pre>\n"
      ],
      "text/markdown": [
       "| `remove_html_markup` | `s='<b>foo</b>'` | \n",
       "| ---------------------- | ---- | \n",
       "| <samp style=\"background-color: hsl(240, 100%, 97.03869523003347%)\" title=\"  1% 0.00016483914805576205\">remove_html_markup:238</samp> |    X | \n",
       "| <samp style=\"background-color: hsl(240, 100%, 97.66153842936339%)\" title=\"  1% 0.00013016897719353437\">remove_html_markup:239</samp> |    X | \n",
       "| <samp style=\"background-color: hsl(240, 100%, 97.58894298010105%)\" title=\"  1% 0.00013420995674096048\">remove_html_markup:240</samp> |    X | \n",
       "| <samp style=\"background-color: hsl(240, 100%, 97.67715162450533%)\" title=\"  1% 0.0001292998786084354\">remove_html_markup:241</samp> |    X | \n",
       "| <samp style=\"background-color: hsl(240, 100%, 75.0%)\" title=\" 16% 0.0013916091120336205\">remove_html_markup:243</samp> |    X | \n",
       "| <samp style=\"background-color: hsl(240, 100%, 76.57003952184786%)\" title=\" 15% 0.0013042138598393649\">remove_html_markup:244</samp> |    X | \n",
       "| <samp style=\"background-color: hsl(240, 100%, 77.03739752893031%)\" title=\" 15% 0.001278198673389852\">remove_html_markup:246</samp> |    X | \n",
       "| <samp style=\"background-color: hsl(240, 100%, 95.4000924389827%)\" title=\"  3% 0.0002560509310569614\">remove_html_markup:247</samp> |    X | \n",
       "| <samp style=\"background-color: hsl(240, 100%, 81.41888819118138%)\" title=\" 12% 0.0010343057801946998\">remove_html_markup:248</samp> |    X | \n",
       "| <samp style=\"background-color: hsl(240, 100%, 95.47670908856104%)\" title=\"  2% 0.0002517861139494926\">remove_html_markup:249</samp> |    X | \n",
       "| <samp style=\"background-color: hsl(240, 100%, 86.41214767441191%)\" title=\"  8% 0.0007563591643702239\">remove_html_markup:250</samp> |    X | \n",
       "| <samp style=\"background-color: hsl(240, 100%, 86.29332332259584%)\" title=\"  8% 0.0007629734463989735\">remove_html_markup:252</samp> |    X | \n",
       "| <samp style=\"background-color: hsl(240, 100%, 88.48993026817239%)\" title=\"  7% 0.0006407007167581469\">remove_html_markup:253</samp> |    X | \n",
       "| <samp style=\"background-color: hsl(240, 100%, 95.1517248915489%)\" title=\"  3% 0.0002698761527426541\">remove_html_markup:255</samp> |    X | \n"
      ],
      "text/plain": [
       " 238   1% def remove_html_markup(s):  # type: ignore\n",
       " 239   1%     tag = False\n",
       " 240   1%     quote = False\n",
       " 241   1%     out = \"\"\n",
       " 242   0%\n",
       " 243  16%     for c in s:\n",
       " 244  15%         assert tag or not quote\n",
       " 245   0%\n",
       " 246  15%         if c == '<' and not quote:\n",
       " 247   3%             tag = True\n",
       " 248  12%         elif c == '>' and not quote:\n",
       " 249   2%             tag = False\n",
       " 250   8%         elif (c == '\"' or c == \"'\") and tag:\n",
       " 251   0%             quote = not quote\n",
       " 252   8%         elif not tag:\n",
       " 253   7%             out = out + c\n",
       " 254   0%\n",
       " 255   3%     return out"
      ]
     },
     "execution_count": 55,
     "metadata": {},
     "output_type": "execute_result"
    }
   ],
   "source": [
    "debugger"
   ]
  },
  {
   "cell_type": "markdown",
   "metadata": {
    "slideshow": {
     "slide_type": "subslide"
    }
   },
   "source": [
    "The abstract `MetricCollector` class allows subclassing to build more collectors, such as `HitCollector`."
   ]
  },
  {
   "cell_type": "code",
   "execution_count": 56,
   "metadata": {
    "execution": {
     "iopub.execute_input": "2025-10-26T17:54:57.532644Z",
     "iopub.status.busy": "2025-10-26T17:54:57.532562Z",
     "iopub.status.idle": "2025-10-26T17:54:57.534052Z",
     "shell.execute_reply": "2025-10-26T17:54:57.533834Z"
    },
    "slideshow": {
     "slide_type": "fragment"
    },
    "tags": [
     "remove-input"
    ]
   },
   "outputs": [],
   "source": [
    "# ignore\n",
    "from ClassDiagram import display_class_hierarchy"
   ]
  },
  {
   "cell_type": "code",
   "execution_count": 57,
   "metadata": {
    "execution": {
     "iopub.execute_input": "2025-10-26T17:54:57.535316Z",
     "iopub.status.busy": "2025-10-26T17:54:57.535235Z",
     "iopub.status.idle": "2025-10-26T17:54:58.550082Z",
     "shell.execute_reply": "2025-10-26T17:54:58.549738Z"
    },
    "slideshow": {
     "slide_type": "fragment"
    },
    "tags": [
     "remove-input"
    ]
   },
   "outputs": [
    {
     "data": {
      "image/svg+xml": [
       "<?xml version=\"1.0\" encoding=\"UTF-8\" standalone=\"no\"?>\n",
       "<!DOCTYPE svg PUBLIC \"-//W3C//DTD SVG 1.1//EN\"\n",
       " \"http://www.w3.org/Graphics/SVG/1.1/DTD/svg11.dtd\">\n",
       "<!-- Generated by graphviz version 14.0.2 (20251019.1705)\n",
       " -->\n",
       "<!-- Pages: 1 -->\n",
       "<svg width=\"573pt\" height=\"590pt\"\n",
       " viewBox=\"0.00 0.00 573.00 590.00\" xmlns=\"http://www.w3.org/2000/svg\" xmlns:xlink=\"http://www.w3.org/1999/xlink\">\n",
       "<g id=\"graph0\" class=\"graph\" transform=\"scale(1 1) rotate(0) translate(4 586.25)\">\n",
       "<g id=\"a_graph0\"><a xlink:title=\"PerformanceDebugger class hierarchy\">\n",
       "<polygon fill=\"white\" stroke=\"none\" points=\"-4,4 -4,-586.25 569.12,-586.25 569.12,4 -4,4\"/>\n",
       "</a>\n",
       "</g>\n",
       "<!-- PerformanceDebugger -->\n",
       "<g id=\"node1\" class=\"node\">\n",
       "<title>PerformanceDebugger</title>\n",
       "<g id=\"a_node1\"><a xlink:href=\"#\" xlink:title=\"class PerformanceDebugger:&#10;Collect and visualize a metric\">\n",
       "<polygon fill=\"none\" stroke=\"black\" points=\"0,-32.38 0,-78.38 169,-78.38 169,-32.38 0,-32.38\"/>\n",
       "<text xml:space=\"preserve\" text-anchor=\"start\" x=\"8\" y=\"-62.08\" font-family=\"Raleway, Helvetica, Arial, sans-serif\" font-weight=\"bold\" font-size=\"14.00\" fill=\"#6a0dad\">PerformanceDebugger</text>\n",
       "<polyline fill=\"none\" stroke=\"black\" points=\"0,-53.12 169,-53.12\"/>\n",
       "<g id=\"a_node1_0\"><a xlink:href=\"#\" xlink:title=\"PerformanceDebugger\">\n",
       "<g id=\"a_node1_1\"><a xlink:href=\"#\" xlink:title=\"__init__(self, collector_class: Type, log: bool = False):&#10;Constructor. Use instances of `collector_class` to collect events.\">\n",
       "<text xml:space=\"preserve\" text-anchor=\"start\" x=\"54.5\" y=\"-40.62\" font-family=\"'Fira Mono', 'Source Code Pro', 'Courier', monospace\" font-weight=\"bold\" font-style=\"italic\" font-size=\"10.00\">__init__()</text>\n",
       "</a>\n",
       "</g>\n",
       "</a>\n",
       "</g>\n",
       "</a>\n",
       "</g>\n",
       "</g>\n",
       "<!-- MetricDebugger -->\n",
       "<g id=\"node2\" class=\"node\">\n",
       "<title>MetricDebugger</title>\n",
       "<g id=\"a_node2\"><a xlink:href=\"#\" xlink:title=\"class MetricDebugger:&#10;Visualize a metric\">\n",
       "<polygon fill=\"none\" stroke=\"black\" points=\"21.38,-147.25 21.38,-257 147.62,-257 147.62,-147.25 21.38,-147.25\"/>\n",
       "<text xml:space=\"preserve\" text-anchor=\"start\" x=\"29.38\" y=\"-240.7\" font-family=\"Raleway, Helvetica, Arial, sans-serif\" font-weight=\"bold\" font-size=\"14.00\" fill=\"#6a0dad\">MetricDebugger</text>\n",
       "<polyline fill=\"none\" stroke=\"black\" points=\"21.38,-231.75 147.62,-231.75\"/>\n",
       "<g id=\"a_node2_2\"><a xlink:href=\"#\" xlink:title=\"MetricDebugger\">\n",
       "<g id=\"a_node2_3\"><a xlink:href=\"#\" xlink:title=\"color(self, location: Tuple[str, int]) &#45;&gt; str:&#10;Return a color for the given event, or None.&#10;To be overloaded in subclasses.\">\n",
       "<text xml:space=\"preserve\" text-anchor=\"start\" x=\"36.5\" y=\"-219.25\" font-family=\"'Fira Mono', 'Source Code Pro', 'Courier', monospace\" font-style=\"italic\" font-size=\"10.00\">color()</text>\n",
       "</a>\n",
       "</g>\n",
       "<g id=\"a_node2_4\"><a xlink:href=\"#\" xlink:title=\"maximum(self, func_name: str) &#45;&gt; float\">\n",
       "<text xml:space=\"preserve\" text-anchor=\"start\" x=\"36.5\" y=\"-205.5\" font-family=\"'Fira Mono', 'Source Code Pro', 'Courier', monospace\" font-size=\"10.00\">maximum()</text>\n",
       "</a>\n",
       "</g>\n",
       "<g id=\"a_node2_5\"><a xlink:href=\"#\" xlink:title=\"metric(self, location: Tuple[str, int]) &#45;&gt; float\">\n",
       "<text xml:space=\"preserve\" text-anchor=\"start\" x=\"36.5\" y=\"-192.75\" font-family=\"'Fira Mono', 'Source Code Pro', 'Courier', monospace\" font-size=\"10.00\">metric()</text>\n",
       "</a>\n",
       "</g>\n",
       "<g id=\"a_node2_6\"><a xlink:href=\"#\" xlink:title=\"suspiciousness(self, location: Tuple[str, int]) &#45;&gt; float:&#10;Return a suspiciousness value in the range [0, 1.0]&#10;for the given event, or `None` if unknown.&#10;To be overloaded in subclasses.\">\n",
       "<text xml:space=\"preserve\" text-anchor=\"start\" x=\"36.5\" y=\"-181\" font-family=\"'Fira Mono', 'Source Code Pro', 'Courier', monospace\" font-style=\"italic\" font-size=\"10.00\">suspiciousness()</text>\n",
       "</a>\n",
       "</g>\n",
       "<g id=\"a_node2_7\"><a xlink:href=\"#\" xlink:title=\"tooltip(self, location: Tuple[str, int]) &#45;&gt; str:&#10;Return a tooltip for the given event (default: percentage).&#10;To be overloaded in subclasses.\">\n",
       "<text xml:space=\"preserve\" text-anchor=\"start\" x=\"36.5\" y=\"-168.25\" font-family=\"'Fira Mono', 'Source Code Pro', 'Courier', monospace\" font-style=\"italic\" font-size=\"10.00\">tooltip()</text>\n",
       "</a>\n",
       "</g>\n",
       "<g id=\"a_node2_8\"><a xlink:href=\"#\" xlink:title=\"total(self, func_name: str) &#45;&gt; float\">\n",
       "<text xml:space=\"preserve\" text-anchor=\"start\" x=\"36.5\" y=\"-154.5\" font-family=\"'Fira Mono', 'Source Code Pro', 'Courier', monospace\" font-size=\"10.00\">total()</text>\n",
       "</a>\n",
       "</g>\n",
       "</a>\n",
       "</g>\n",
       "</a>\n",
       "</g>\n",
       "</g>\n",
       "<!-- PerformanceDebugger&#45;&gt;MetricDebugger -->\n",
       "<g id=\"edge1\" class=\"edge\">\n",
       "<title>PerformanceDebugger&#45;&gt;MetricDebugger</title>\n",
       "<path fill=\"none\" stroke=\"black\" d=\"M84.5,-78.67C84.5,-94 84.5,-115.19 84.5,-135.65\"/>\n",
       "<polygon fill=\"none\" stroke=\"black\" points=\"81,-135.38 84.5,-145.38 88,-135.38 81,-135.38\"/>\n",
       "</g>\n",
       "<!-- SpectrumDebugger -->\n",
       "<g id=\"node3\" class=\"node\">\n",
       "<title>SpectrumDebugger</title>\n",
       "<g id=\"a_node3\"><a xlink:href=\"StatisticalDebugger.ipynb\" xlink:title=\"class SpectrumDebugger:&#10;A class to collect events for passing and failing outcomes.\">\n",
       "<polygon fill=\"none\" stroke=\"black\" points=\"9.75,-294 9.75,-330 159.25,-330 159.25,-294 9.75,-294\"/>\n",
       "<text xml:space=\"preserve\" text-anchor=\"start\" x=\"17.75\" y=\"-308.7\" font-family=\"Raleway, Helvetica, Arial, sans-serif\" font-weight=\"bold\" font-size=\"14.00\" fill=\"#6a0dad\">SpectrumDebugger</text>\n",
       "</a>\n",
       "</g>\n",
       "</g>\n",
       "<!-- MetricDebugger&#45;&gt;SpectrumDebugger -->\n",
       "<g id=\"edge2\" class=\"edge\">\n",
       "<title>MetricDebugger&#45;&gt;SpectrumDebugger</title>\n",
       "<path fill=\"none\" stroke=\"black\" d=\"M84.5,-257.38C84.5,-266.06 84.5,-274.72 84.5,-282.48\"/>\n",
       "<polygon fill=\"none\" stroke=\"black\" points=\"81,-282.28 84.5,-292.28 88,-282.28 81,-282.28\"/>\n",
       "</g>\n",
       "<!-- DifferenceDebugger -->\n",
       "<g id=\"node4\" class=\"node\">\n",
       "<title>DifferenceDebugger</title>\n",
       "<g id=\"a_node4\"><a xlink:href=\"StatisticalDebugger.ipynb\" xlink:title=\"class DifferenceDebugger:&#10;A class to collect events for passing and failing outcomes.\">\n",
       "<polygon fill=\"none\" stroke=\"black\" points=\"8.62,-367 8.62,-425.75 160.38,-425.75 160.38,-367 8.62,-367\"/>\n",
       "<text xml:space=\"preserve\" text-anchor=\"start\" x=\"16.62\" y=\"-409.45\" font-family=\"Raleway, Helvetica, Arial, sans-serif\" font-weight=\"bold\" font-size=\"14.00\" fill=\"#6a0dad\">DifferenceDebugger</text>\n",
       "<polyline fill=\"none\" stroke=\"black\" points=\"8.62,-400.5 160.38,-400.5\"/>\n",
       "<g id=\"a_node4_9\"><a xlink:href=\"#\" xlink:title=\"DifferenceDebugger\">\n",
       "<g id=\"a_node4_10\"><a xlink:href=\"StatisticalDebugger.ipynb\" xlink:title=\"FAIL = &#39;FAIL&#39;\">\n",
       "<text xml:space=\"preserve\" text-anchor=\"start\" x=\"72.5\" y=\"-387\" font-family=\"'Fira Mono', 'Source Code Pro', 'Courier', monospace\" font-size=\"10.00\">FAIL</text>\n",
       "</a>\n",
       "</g>\n",
       "<g id=\"a_node4_11\"><a xlink:href=\"StatisticalDebugger.ipynb\" xlink:title=\"PASS = &#39;PASS&#39;\">\n",
       "<text xml:space=\"preserve\" text-anchor=\"start\" x=\"72.5\" y=\"-374.25\" font-family=\"'Fira Mono', 'Source Code Pro', 'Courier', monospace\" font-size=\"10.00\">PASS</text>\n",
       "</a>\n",
       "</g>\n",
       "</a>\n",
       "</g>\n",
       "</a>\n",
       "</g>\n",
       "</g>\n",
       "<!-- SpectrumDebugger&#45;&gt;DifferenceDebugger -->\n",
       "<g id=\"edge3\" class=\"edge\">\n",
       "<title>SpectrumDebugger&#45;&gt;DifferenceDebugger</title>\n",
       "<path fill=\"none\" stroke=\"black\" d=\"M84.5,-330.47C84.5,-337.76 84.5,-346.55 84.5,-355.28\"/>\n",
       "<polygon fill=\"none\" stroke=\"black\" points=\"81,-355.07 84.5,-365.07 88,-355.07 81,-355.07\"/>\n",
       "</g>\n",
       "<!-- StatisticalDebugger -->\n",
       "<g id=\"node5\" class=\"node\">\n",
       "<title>StatisticalDebugger</title>\n",
       "<g id=\"a_node5\"><a xlink:href=\"StatisticalDebugger.ipynb\" xlink:title=\"class StatisticalDebugger:&#10;A class to collect events for multiple outcomes.\">\n",
       "<polygon fill=\"none\" stroke=\"black\" points=\"9,-462.75 9,-498.75 160,-498.75 160,-462.75 9,-462.75\"/>\n",
       "<text xml:space=\"preserve\" text-anchor=\"start\" x=\"17\" y=\"-477.45\" font-family=\"Raleway, Helvetica, Arial, sans-serif\" font-weight=\"bold\" font-size=\"14.00\" fill=\"#6a0dad\">StatisticalDebugger</text>\n",
       "</a>\n",
       "</g>\n",
       "</g>\n",
       "<!-- DifferenceDebugger&#45;&gt;StatisticalDebugger -->\n",
       "<g id=\"edge4\" class=\"edge\">\n",
       "<title>DifferenceDebugger&#45;&gt;StatisticalDebugger</title>\n",
       "<path fill=\"none\" stroke=\"black\" d=\"M84.5,-426.19C84.5,-434.2 84.5,-442.9 84.5,-450.91\"/>\n",
       "<polygon fill=\"none\" stroke=\"black\" points=\"81,-450.85 84.5,-460.85 88,-450.85 81,-450.85\"/>\n",
       "</g>\n",
       "<!-- TimeCollector -->\n",
       "<g id=\"node6\" class=\"node\">\n",
       "<title>TimeCollector</title>\n",
       "<g id=\"a_node6\"><a xlink:href=\"#\" xlink:title=\"class TimeCollector:&#10;Collect time executed for each line\">\n",
       "<polygon fill=\"none\" stroke=\"black\" points=\"199.5,-0.5 199.5,-110.25 311.5,-110.25 311.5,-0.5 199.5,-0.5\"/>\n",
       "<text xml:space=\"preserve\" text-anchor=\"start\" x=\"207.5\" y=\"-93.95\" font-family=\"Raleway, Helvetica, Arial, sans-serif\" font-weight=\"bold\" font-size=\"14.00\" fill=\"#6a0dad\">TimeCollector</text>\n",
       "<polyline fill=\"none\" stroke=\"black\" points=\"199.5,-85 311.5,-85\"/>\n",
       "<g id=\"a_node6_12\"><a xlink:href=\"#\" xlink:title=\"TimeCollector\">\n",
       "<g id=\"a_node6_13\"><a xlink:href=\"#\" xlink:title=\"__enter__(self) &#45;&gt; Any:&#10;Called at begin of `with` block. Turn tracing on.\">\n",
       "<text xml:space=\"preserve\" text-anchor=\"start\" x=\"216.5\" y=\"-72.5\" font-family=\"'Fira Mono', 'Source Code Pro', 'Courier', monospace\" font-style=\"italic\" font-size=\"10.00\">__enter__()</text>\n",
       "</a>\n",
       "</g>\n",
       "<g id=\"a_node6_14\"><a xlink:href=\"#\" xlink:title=\"__init__(self) &#45;&gt; None:&#10;Constructor\">\n",
       "<text xml:space=\"preserve\" text-anchor=\"start\" x=\"216.5\" y=\"-59.75\" font-family=\"'Fira Mono', 'Source Code Pro', 'Courier', monospace\" font-style=\"italic\" font-size=\"10.00\">__init__()</text>\n",
       "</a>\n",
       "</g>\n",
       "<g id=\"a_node6_15\"><a xlink:href=\"#\" xlink:title=\"all_metrics(self, func: str) &#45;&gt; List[float]:&#10;Return all metric for a function `func`.\">\n",
       "<text xml:space=\"preserve\" text-anchor=\"start\" x=\"216.5\" y=\"-47\" font-family=\"'Fira Mono', 'Source Code Pro', 'Courier', monospace\" font-style=\"italic\" font-size=\"10.00\">all_metrics()</text>\n",
       "</a>\n",
       "</g>\n",
       "<g id=\"a_node6_16\"><a xlink:href=\"#\" xlink:title=\"collect(self, frame: frame, event: str, arg: Any) &#45;&gt; None:&#10;Invoked for every line executed. Accumulate time spent.\">\n",
       "<text xml:space=\"preserve\" text-anchor=\"start\" x=\"216.5\" y=\"-34.25\" font-family=\"'Fira Mono', 'Source Code Pro', 'Courier', monospace\" font-style=\"italic\" font-size=\"10.00\">collect()</text>\n",
       "</a>\n",
       "</g>\n",
       "<g id=\"a_node6_17\"><a xlink:href=\"#\" xlink:title=\"metric(self, location: Any) &#45;&gt; Optional[float]:&#10;Return a metric for an event, or none.\">\n",
       "<text xml:space=\"preserve\" text-anchor=\"start\" x=\"216.5\" y=\"-21.5\" font-family=\"'Fira Mono', 'Source Code Pro', 'Courier', monospace\" font-style=\"italic\" font-size=\"10.00\">metric()</text>\n",
       "</a>\n",
       "</g>\n",
       "<g id=\"a_node6_18\"><a xlink:href=\"#\" xlink:title=\"reset_timer(self) &#45;&gt; None\">\n",
       "<text xml:space=\"preserve\" text-anchor=\"start\" x=\"216.5\" y=\"-7.75\" font-family=\"'Fira Mono', 'Source Code Pro', 'Courier', monospace\" font-size=\"10.00\">reset_timer()</text>\n",
       "</a>\n",
       "</g>\n",
       "</a>\n",
       "</g>\n",
       "</a>\n",
       "</g>\n",
       "</g>\n",
       "<!-- MetricCollector -->\n",
       "<g id=\"node7\" class=\"node\">\n",
       "<title>MetricCollector</title>\n",
       "<g id=\"a_node7\"><a xlink:href=\"#\" xlink:title=\"class MetricCollector:&#10;Abstract superclass for collecting line&#45;specific metrics\">\n",
       "<polygon fill=\"none\" stroke=\"black\" points=\"206.38,-160 206.38,-244.25 326.62,-244.25 326.62,-160 206.38,-160\"/>\n",
       "<text xml:space=\"preserve\" text-anchor=\"start\" x=\"214.38\" y=\"-227.95\" font-family=\"Raleway, Helvetica, Arial, sans-serif\" font-weight=\"bold\" font-size=\"14.00\" fill=\"#6a0dad\">MetricCollector</text>\n",
       "<polyline fill=\"none\" stroke=\"black\" points=\"206.38,-219 326.62,-219\"/>\n",
       "<g id=\"a_node7_19\"><a xlink:href=\"#\" xlink:title=\"MetricCollector\">\n",
       "<g id=\"a_node7_20\"><a xlink:href=\"#\" xlink:title=\"all_metrics(self, func: str) &#45;&gt; List[float]:&#10;Return all metric for a function `func`.\">\n",
       "<text xml:space=\"preserve\" text-anchor=\"start\" x=\"227.5\" y=\"-206.5\" font-family=\"'Fira Mono', 'Source Code Pro', 'Courier', monospace\" font-style=\"italic\" font-size=\"10.00\">all_metrics()</text>\n",
       "</a>\n",
       "</g>\n",
       "<g id=\"a_node7_21\"><a xlink:href=\"#\" xlink:title=\"maximum(self, func: str) &#45;&gt; float\">\n",
       "<text xml:space=\"preserve\" text-anchor=\"start\" x=\"227.5\" y=\"-192.75\" font-family=\"'Fira Mono', 'Source Code Pro', 'Courier', monospace\" font-size=\"10.00\">maximum()</text>\n",
       "</a>\n",
       "</g>\n",
       "<g id=\"a_node7_22\"><a xlink:href=\"#\" xlink:title=\"metric(self, event: Any) &#45;&gt; Optional[float]:&#10;Return a metric for an event, or none.\">\n",
       "<text xml:space=\"preserve\" text-anchor=\"start\" x=\"227.5\" y=\"-181\" font-family=\"'Fira Mono', 'Source Code Pro', 'Courier', monospace\" font-style=\"italic\" font-size=\"10.00\">metric()</text>\n",
       "</a>\n",
       "</g>\n",
       "<g id=\"a_node7_23\"><a xlink:href=\"#\" xlink:title=\"total(self, func: str) &#45;&gt; float\">\n",
       "<text xml:space=\"preserve\" text-anchor=\"start\" x=\"227.5\" y=\"-167.25\" font-family=\"'Fira Mono', 'Source Code Pro', 'Courier', monospace\" font-size=\"10.00\">total()</text>\n",
       "</a>\n",
       "</g>\n",
       "</a>\n",
       "</g>\n",
       "</a>\n",
       "</g>\n",
       "</g>\n",
       "<!-- TimeCollector&#45;&gt;MetricCollector -->\n",
       "<g id=\"edge5\" class=\"edge\">\n",
       "<title>TimeCollector&#45;&gt;MetricCollector</title>\n",
       "<path fill=\"none\" stroke=\"black\" d=\"M259.63,-110.69C260.56,-122.97 261.55,-135.99 262.48,-148.21\"/>\n",
       "<polygon fill=\"none\" stroke=\"black\" points=\"258.98,-148.42 263.23,-158.12 265.96,-147.89 258.98,-148.42\"/>\n",
       "</g>\n",
       "<!-- CoverageCollector -->\n",
       "<g id=\"node8\" class=\"node\">\n",
       "<title>CoverageCollector</title>\n",
       "<g id=\"a_node8\"><a xlink:href=\"StatisticalDebugger.ipynb\" xlink:title=\"class CoverageCollector:&#10;A class to record covered locations during execution.\">\n",
       "<polygon fill=\"none\" stroke=\"black\" points=\"195.12,-294 195.12,-330 337.88,-330 337.88,-294 195.12,-294\"/>\n",
       "<text xml:space=\"preserve\" text-anchor=\"start\" x=\"203.12\" y=\"-308.7\" font-family=\"Raleway, Helvetica, Arial, sans-serif\" font-weight=\"bold\" font-size=\"14.00\" fill=\"#6a0dad\">CoverageCollector</text>\n",
       "</a>\n",
       "</g>\n",
       "</g>\n",
       "<!-- MetricCollector&#45;&gt;CoverageCollector -->\n",
       "<g id=\"edge6\" class=\"edge\">\n",
       "<title>MetricCollector&#45;&gt;CoverageCollector</title>\n",
       "<path fill=\"none\" stroke=\"black\" d=\"M266.5,-244.52C266.5,-257.14 266.5,-270.72 266.5,-282.29\"/>\n",
       "<polygon fill=\"none\" stroke=\"black\" points=\"263,-282 266.5,-292 270,-282 263,-282\"/>\n",
       "</g>\n",
       "<!-- Collector -->\n",
       "<g id=\"node9\" class=\"node\">\n",
       "<title>Collector</title>\n",
       "<g id=\"a_node9\"><a xlink:href=\"StatisticalDebugger.ipynb\" xlink:title=\"class Collector:&#10;A class to record events during execution.\">\n",
       "<polygon fill=\"none\" stroke=\"black\" points=\"202.38,-378.38 202.38,-414.38 280.62,-414.38 280.62,-378.38 202.38,-378.38\"/>\n",
       "<text xml:space=\"preserve\" text-anchor=\"start\" x=\"210.38\" y=\"-393.07\" font-family=\"Raleway, Helvetica, Arial, sans-serif\" font-weight=\"bold\" font-size=\"14.00\" fill=\"#6a0dad\">Collector</text>\n",
       "</a>\n",
       "</g>\n",
       "</g>\n",
       "<!-- CoverageCollector&#45;&gt;Collector -->\n",
       "<g id=\"edge7\" class=\"edge\">\n",
       "<title>CoverageCollector&#45;&gt;Collector</title>\n",
       "<path fill=\"none\" stroke=\"black\" d=\"M261.2,-330.47C257.98,-341.06 253.8,-354.83 250.12,-366.96\"/>\n",
       "<polygon fill=\"none\" stroke=\"black\" points=\"246.79,-365.9 247.23,-376.48 253.49,-367.93 246.79,-365.9\"/>\n",
       "</g>\n",
       "<!-- StackInspector -->\n",
       "<g id=\"node11\" class=\"node\">\n",
       "<title>StackInspector</title>\n",
       "<g id=\"a_node11\"><a xlink:href=\"StackInspector.ipynb\" xlink:title=\"class StackInspector:&#10;Provide functions to inspect the stack\">\n",
       "<polygon fill=\"none\" stroke=\"black\" points=\"196.5,-535.75 196.5,-581.75 362.5,-581.75 362.5,-535.75 196.5,-535.75\"/>\n",
       "<text xml:space=\"preserve\" text-anchor=\"start\" x=\"229.25\" y=\"-565.45\" font-family=\"Raleway, Helvetica, Arial, sans-serif\" font-weight=\"bold\" font-size=\"14.00\" fill=\"#6a0dad\">StackInspector</text>\n",
       "<polyline fill=\"none\" stroke=\"black\" points=\"196.5,-556.5 362.5,-556.5\"/>\n",
       "<g id=\"a_node11_24\"><a xlink:href=\"#\" xlink:title=\"StackInspector\">\n",
       "<g id=\"a_node11_25\"><a xlink:href=\"StackInspector.ipynb\" xlink:title=\"_generated_function_cache = {(&#39;remove_html_markup&#39;, 238): &lt;function remove_html_markup at 0x12132f420&gt;}\">\n",
       "<text xml:space=\"preserve\" text-anchor=\"start\" x=\"204.5\" y=\"-543\" font-family=\"'Fira Mono', 'Source Code Pro', 'Courier', monospace\" font-size=\"10.00\">_generated_function_cache</text>\n",
       "</a>\n",
       "</g>\n",
       "</a>\n",
       "</g>\n",
       "</a>\n",
       "</g>\n",
       "</g>\n",
       "<!-- CoverageCollector&#45;&gt;StackInspector -->\n",
       "<g id=\"edge10\" class=\"edge\">\n",
       "<title>CoverageCollector&#45;&gt;StackInspector</title>\n",
       "<path fill=\"none\" stroke=\"black\" d=\"M276.04,-330.24C281.14,-340.45 286.89,-353.82 289.5,-366.5 300.68,-420.83 293.04,-485.58 286.36,-524.09\"/>\n",
       "<polygon fill=\"none\" stroke=\"black\" points=\"282.93,-523.43 284.57,-533.9 289.81,-524.69 282.93,-523.43\"/>\n",
       "</g>\n",
       "<!-- Tracer -->\n",
       "<g id=\"node10\" class=\"node\">\n",
       "<title>Tracer</title>\n",
       "<g id=\"a_node10\"><a xlink:href=\"Tracer.ipynb\" xlink:title=\"class Tracer:&#10;A class for tracing a piece of code. Use as `with Tracer(): block()`\">\n",
       "<polygon fill=\"none\" stroke=\"black\" points=\"217.12,-462.75 217.12,-498.75 275.88,-498.75 275.88,-462.75 217.12,-462.75\"/>\n",
       "<text xml:space=\"preserve\" text-anchor=\"start\" x=\"225.12\" y=\"-477.45\" font-family=\"Raleway, Helvetica, Arial, sans-serif\" font-weight=\"bold\" font-size=\"14.00\" fill=\"#6a0dad\">Tracer</text>\n",
       "</a>\n",
       "</g>\n",
       "</g>\n",
       "<!-- Collector&#45;&gt;Tracer -->\n",
       "<g id=\"edge8\" class=\"edge\">\n",
       "<title>Collector&#45;&gt;Tracer</title>\n",
       "<path fill=\"none\" stroke=\"black\" d=\"M242.56,-414.84C243.2,-425.33 244.02,-438.92 244.75,-450.96\"/>\n",
       "<polygon fill=\"none\" stroke=\"black\" points=\"241.25,-451.03 245.35,-460.79 248.24,-450.6 241.25,-451.03\"/>\n",
       "</g>\n",
       "<!-- Tracer&#45;&gt;StackInspector -->\n",
       "<g id=\"edge9\" class=\"edge\">\n",
       "<title>Tracer&#45;&gt;StackInspector</title>\n",
       "<path fill=\"none\" stroke=\"black\" d=\"M253.99,-499C257.31,-506.65 261.34,-515.94 265.21,-524.84\"/>\n",
       "<polygon fill=\"none\" stroke=\"black\" points=\"261.99,-526.21 269.18,-533.99 268.41,-523.42 261.99,-526.21\"/>\n",
       "</g>\n",
       "<!-- HitCollector -->\n",
       "<g id=\"node12\" class=\"node\">\n",
       "<title>HitCollector</title>\n",
       "<g id=\"a_node12\"><a xlink:href=\"#\" xlink:title=\"class HitCollector:&#10;Collect how often a line is executed\">\n",
       "<polygon fill=\"none\" stroke=\"black\" points=\"329.62,-13.25 329.62,-97.5 427.38,-97.5 427.38,-13.25 329.62,-13.25\"/>\n",
       "<text xml:space=\"preserve\" text-anchor=\"start\" x=\"337.62\" y=\"-81.2\" font-family=\"Raleway, Helvetica, Arial, sans-serif\" font-weight=\"bold\" font-size=\"14.00\" fill=\"#6a0dad\">HitCollector</text>\n",
       "<polyline fill=\"none\" stroke=\"black\" points=\"329.62,-72.25 427.38,-72.25\"/>\n",
       "<g id=\"a_node12_26\"><a xlink:href=\"#\" xlink:title=\"HitCollector\">\n",
       "<g id=\"a_node12_27\"><a xlink:href=\"#\" xlink:title=\"__init__(self) &#45;&gt; None:&#10;Constructor.\">\n",
       "<text xml:space=\"preserve\" text-anchor=\"start\" x=\"339.5\" y=\"-59.75\" font-family=\"'Fira Mono', 'Source Code Pro', 'Courier', monospace\" font-style=\"italic\" font-size=\"10.00\">__init__()</text>\n",
       "</a>\n",
       "</g>\n",
       "<g id=\"a_node12_28\"><a xlink:href=\"#\" xlink:title=\"all_metrics(self, func: str) &#45;&gt; List[float]:&#10;Return all metric for a function `func`.\">\n",
       "<text xml:space=\"preserve\" text-anchor=\"start\" x=\"339.5\" y=\"-47\" font-family=\"'Fira Mono', 'Source Code Pro', 'Courier', monospace\" font-style=\"italic\" font-size=\"10.00\">all_metrics()</text>\n",
       "</a>\n",
       "</g>\n",
       "<g id=\"a_node12_29\"><a xlink:href=\"#\" xlink:title=\"collect(self, frame: frame, event: str, arg: Any) &#45;&gt; None:&#10;Save coverage for an observed event.\">\n",
       "<text xml:space=\"preserve\" text-anchor=\"start\" x=\"339.5\" y=\"-34.25\" font-family=\"'Fira Mono', 'Source Code Pro', 'Courier', monospace\" font-style=\"italic\" font-size=\"10.00\">collect()</text>\n",
       "</a>\n",
       "</g>\n",
       "<g id=\"a_node12_30\"><a xlink:href=\"#\" xlink:title=\"metric(self, location: Tuple[str, int]) &#45;&gt; Optional[int]:&#10;Return a metric for an event, or none.\">\n",
       "<text xml:space=\"preserve\" text-anchor=\"start\" x=\"339.5\" y=\"-21.5\" font-family=\"'Fira Mono', 'Source Code Pro', 'Courier', monospace\" font-style=\"italic\" font-size=\"10.00\">metric()</text>\n",
       "</a>\n",
       "</g>\n",
       "</a>\n",
       "</g>\n",
       "</a>\n",
       "</g>\n",
       "</g>\n",
       "<!-- HitCollector&#45;&gt;MetricCollector -->\n",
       "<g id=\"edge11\" class=\"edge\">\n",
       "<title>HitCollector&#45;&gt;MetricCollector</title>\n",
       "<path fill=\"none\" stroke=\"black\" d=\"M346.41,-97.85C333.63,-114.36 318.82,-133.5 305.45,-150.79\"/>\n",
       "<polygon fill=\"none\" stroke=\"black\" points=\"302.88,-148.39 299.53,-158.44 308.41,-152.68 302.88,-148.39\"/>\n",
       "</g>\n",
       "<!-- Legend -->\n",
       "<g id=\"node13\" class=\"node\">\n",
       "<title>Legend</title>\n",
       "<text xml:space=\"preserve\" text-anchor=\"start\" x=\"445.88\" y=\"-71.38\" font-family=\"Raleway, Helvetica, Arial, sans-serif\" font-weight=\"bold\" font-size=\"10.00\" fill=\"#6a0dad\">Legend</text>\n",
       "<text xml:space=\"preserve\" text-anchor=\"start\" x=\"445.88\" y=\"-61.38\" font-family=\"Raleway, Helvetica, Arial, sans-serif\" font-size=\"10.00\">• </text>\n",
       "<text xml:space=\"preserve\" text-anchor=\"start\" x=\"451.88\" y=\"-61.38\" font-family=\"'Fira Mono', 'Source Code Pro', 'Courier', monospace\" font-weight=\"bold\" font-size=\"8.00\">public_method()</text>\n",
       "<text xml:space=\"preserve\" text-anchor=\"start\" x=\"445.88\" y=\"-51.38\" font-family=\"Raleway, Helvetica, Arial, sans-serif\" font-size=\"10.00\">• </text>\n",
       "<text xml:space=\"preserve\" text-anchor=\"start\" x=\"451.88\" y=\"-51.38\" font-family=\"'Fira Mono', 'Source Code Pro', 'Courier', monospace\" font-size=\"8.00\">private_method()</text>\n",
       "<text xml:space=\"preserve\" text-anchor=\"start\" x=\"445.88\" y=\"-41.38\" font-family=\"Raleway, Helvetica, Arial, sans-serif\" font-size=\"10.00\">• </text>\n",
       "<text xml:space=\"preserve\" text-anchor=\"start\" x=\"451.88\" y=\"-41.38\" font-family=\"'Fira Mono', 'Source Code Pro', 'Courier', monospace\" font-style=\"italic\" font-size=\"8.00\">overloaded_method()</text>\n",
       "<text xml:space=\"preserve\" text-anchor=\"start\" x=\"445.88\" y=\"-32.33\" font-family=\"Helvetica,sans-Serif\" font-size=\"9.00\">Hover over names to see doc</text>\n",
       "</g>\n",
       "</g>\n",
       "</svg>\n"
      ],
      "text/html": [
       "<?xml version=\"1.0\" encoding=\"UTF-8\" standalone=\"no\"?>\n",
       "<!DOCTYPE svg PUBLIC \"-//W3C//DTD SVG 1.1//EN\"\n",
       " \"http://www.w3.org/Graphics/SVG/1.1/DTD/svg11.dtd\">\n",
       "<!-- Generated by graphviz version 14.0.2 (20251019.1705)\n",
       " -->\n",
       "<!-- Pages: 1 -->\n",
       "<svg width=\"573pt\" height=\"590pt\"\n",
       " viewBox=\"0.00 0.00 573.00 590.00\" xmlns=\"http://www.w3.org/2000/svg\" xmlns:xlink=\"http://www.w3.org/1999/xlink\">\n",
       "<g id=\"graph0\" class=\"graph\" transform=\"scale(1 1) rotate(0) translate(4 586.25)\">\n",
       "<g id=\"a_graph0\"><a xlink:title=\"PerformanceDebugger class hierarchy\">\n",
       "<polygon fill=\"white\" stroke=\"none\" points=\"-4,4 -4,-586.25 569.12,-586.25 569.12,4 -4,4\"/>\n",
       "</a>\n",
       "</g>\n",
       "<!-- PerformanceDebugger -->\n",
       "<g id=\"node1\" class=\"node\">\n",
       "<title>PerformanceDebugger</title>\n",
       "<g id=\"a_node1\"><a xlink:href=\"#\" xlink:title=\"class PerformanceDebugger:&#10;Collect and visualize a metric\">\n",
       "<polygon fill=\"none\" stroke=\"black\" points=\"0,-32.38 0,-78.38 169,-78.38 169,-32.38 0,-32.38\"/>\n",
       "<text xml:space=\"preserve\" text-anchor=\"start\" x=\"8\" y=\"-62.08\" font-family=\"Raleway, Helvetica, Arial, sans-serif\" font-weight=\"bold\" font-size=\"14.00\" fill=\"#6a0dad\">PerformanceDebugger</text>\n",
       "<polyline fill=\"none\" stroke=\"black\" points=\"0,-53.12 169,-53.12\"/>\n",
       "<g id=\"a_node1_0\"><a xlink:href=\"#\" xlink:title=\"PerformanceDebugger\">\n",
       "<g id=\"a_node1_1\"><a xlink:href=\"#\" xlink:title=\"__init__(self, collector_class: Type, log: bool = False):&#10;Constructor. Use instances of `collector_class` to collect events.\">\n",
       "<text xml:space=\"preserve\" text-anchor=\"start\" x=\"54.5\" y=\"-40.62\" font-family=\"'Fira Mono', 'Source Code Pro', 'Courier', monospace\" font-weight=\"bold\" font-style=\"italic\" font-size=\"10.00\">__init__()</text>\n",
       "</a>\n",
       "</g>\n",
       "</a>\n",
       "</g>\n",
       "</a>\n",
       "</g>\n",
       "</g>\n",
       "<!-- MetricDebugger -->\n",
       "<g id=\"node2\" class=\"node\">\n",
       "<title>MetricDebugger</title>\n",
       "<g id=\"a_node2\"><a xlink:href=\"#\" xlink:title=\"class MetricDebugger:&#10;Visualize a metric\">\n",
       "<polygon fill=\"none\" stroke=\"black\" points=\"21.38,-147.25 21.38,-257 147.62,-257 147.62,-147.25 21.38,-147.25\"/>\n",
       "<text xml:space=\"preserve\" text-anchor=\"start\" x=\"29.38\" y=\"-240.7\" font-family=\"Raleway, Helvetica, Arial, sans-serif\" font-weight=\"bold\" font-size=\"14.00\" fill=\"#6a0dad\">MetricDebugger</text>\n",
       "<polyline fill=\"none\" stroke=\"black\" points=\"21.38,-231.75 147.62,-231.75\"/>\n",
       "<g id=\"a_node2_2\"><a xlink:href=\"#\" xlink:title=\"MetricDebugger\">\n",
       "<g id=\"a_node2_3\"><a xlink:href=\"#\" xlink:title=\"color(self, location: Tuple[str, int]) &#45;&gt; str:&#10;Return a color for the given event, or None.&#10;To be overloaded in subclasses.\">\n",
       "<text xml:space=\"preserve\" text-anchor=\"start\" x=\"36.5\" y=\"-219.25\" font-family=\"'Fira Mono', 'Source Code Pro', 'Courier', monospace\" font-style=\"italic\" font-size=\"10.00\">color()</text>\n",
       "</a>\n",
       "</g>\n",
       "<g id=\"a_node2_4\"><a xlink:href=\"#\" xlink:title=\"maximum(self, func_name: str) &#45;&gt; float\">\n",
       "<text xml:space=\"preserve\" text-anchor=\"start\" x=\"36.5\" y=\"-205.5\" font-family=\"'Fira Mono', 'Source Code Pro', 'Courier', monospace\" font-size=\"10.00\">maximum()</text>\n",
       "</a>\n",
       "</g>\n",
       "<g id=\"a_node2_5\"><a xlink:href=\"#\" xlink:title=\"metric(self, location: Tuple[str, int]) &#45;&gt; float\">\n",
       "<text xml:space=\"preserve\" text-anchor=\"start\" x=\"36.5\" y=\"-192.75\" font-family=\"'Fira Mono', 'Source Code Pro', 'Courier', monospace\" font-size=\"10.00\">metric()</text>\n",
       "</a>\n",
       "</g>\n",
       "<g id=\"a_node2_6\"><a xlink:href=\"#\" xlink:title=\"suspiciousness(self, location: Tuple[str, int]) &#45;&gt; float:&#10;Return a suspiciousness value in the range [0, 1.0]&#10;for the given event, or `None` if unknown.&#10;To be overloaded in subclasses.\">\n",
       "<text xml:space=\"preserve\" text-anchor=\"start\" x=\"36.5\" y=\"-181\" font-family=\"'Fira Mono', 'Source Code Pro', 'Courier', monospace\" font-style=\"italic\" font-size=\"10.00\">suspiciousness()</text>\n",
       "</a>\n",
       "</g>\n",
       "<g id=\"a_node2_7\"><a xlink:href=\"#\" xlink:title=\"tooltip(self, location: Tuple[str, int]) &#45;&gt; str:&#10;Return a tooltip for the given event (default: percentage).&#10;To be overloaded in subclasses.\">\n",
       "<text xml:space=\"preserve\" text-anchor=\"start\" x=\"36.5\" y=\"-168.25\" font-family=\"'Fira Mono', 'Source Code Pro', 'Courier', monospace\" font-style=\"italic\" font-size=\"10.00\">tooltip()</text>\n",
       "</a>\n",
       "</g>\n",
       "<g id=\"a_node2_8\"><a xlink:href=\"#\" xlink:title=\"total(self, func_name: str) &#45;&gt; float\">\n",
       "<text xml:space=\"preserve\" text-anchor=\"start\" x=\"36.5\" y=\"-154.5\" font-family=\"'Fira Mono', 'Source Code Pro', 'Courier', monospace\" font-size=\"10.00\">total()</text>\n",
       "</a>\n",
       "</g>\n",
       "</a>\n",
       "</g>\n",
       "</a>\n",
       "</g>\n",
       "</g>\n",
       "<!-- PerformanceDebugger&#45;&gt;MetricDebugger -->\n",
       "<g id=\"edge1\" class=\"edge\">\n",
       "<title>PerformanceDebugger&#45;&gt;MetricDebugger</title>\n",
       "<path fill=\"none\" stroke=\"black\" d=\"M84.5,-78.67C84.5,-94 84.5,-115.19 84.5,-135.65\"/>\n",
       "<polygon fill=\"none\" stroke=\"black\" points=\"81,-135.38 84.5,-145.38 88,-135.38 81,-135.38\"/>\n",
       "</g>\n",
       "<!-- SpectrumDebugger -->\n",
       "<g id=\"node3\" class=\"node\">\n",
       "<title>SpectrumDebugger</title>\n",
       "<g id=\"a_node3\"><a xlink:href=\"StatisticalDebugger.ipynb\" xlink:title=\"class SpectrumDebugger:&#10;A class to collect events for passing and failing outcomes.\">\n",
       "<polygon fill=\"none\" stroke=\"black\" points=\"9.75,-294 9.75,-330 159.25,-330 159.25,-294 9.75,-294\"/>\n",
       "<text xml:space=\"preserve\" text-anchor=\"start\" x=\"17.75\" y=\"-308.7\" font-family=\"Raleway, Helvetica, Arial, sans-serif\" font-weight=\"bold\" font-size=\"14.00\" fill=\"#6a0dad\">SpectrumDebugger</text>\n",
       "</a>\n",
       "</g>\n",
       "</g>\n",
       "<!-- MetricDebugger&#45;&gt;SpectrumDebugger -->\n",
       "<g id=\"edge2\" class=\"edge\">\n",
       "<title>MetricDebugger&#45;&gt;SpectrumDebugger</title>\n",
       "<path fill=\"none\" stroke=\"black\" d=\"M84.5,-257.38C84.5,-266.06 84.5,-274.72 84.5,-282.48\"/>\n",
       "<polygon fill=\"none\" stroke=\"black\" points=\"81,-282.28 84.5,-292.28 88,-282.28 81,-282.28\"/>\n",
       "</g>\n",
       "<!-- DifferenceDebugger -->\n",
       "<g id=\"node4\" class=\"node\">\n",
       "<title>DifferenceDebugger</title>\n",
       "<g id=\"a_node4\"><a xlink:href=\"StatisticalDebugger.ipynb\" xlink:title=\"class DifferenceDebugger:&#10;A class to collect events for passing and failing outcomes.\">\n",
       "<polygon fill=\"none\" stroke=\"black\" points=\"8.62,-367 8.62,-425.75 160.38,-425.75 160.38,-367 8.62,-367\"/>\n",
       "<text xml:space=\"preserve\" text-anchor=\"start\" x=\"16.62\" y=\"-409.45\" font-family=\"Raleway, Helvetica, Arial, sans-serif\" font-weight=\"bold\" font-size=\"14.00\" fill=\"#6a0dad\">DifferenceDebugger</text>\n",
       "<polyline fill=\"none\" stroke=\"black\" points=\"8.62,-400.5 160.38,-400.5\"/>\n",
       "<g id=\"a_node4_9\"><a xlink:href=\"#\" xlink:title=\"DifferenceDebugger\">\n",
       "<g id=\"a_node4_10\"><a xlink:href=\"StatisticalDebugger.ipynb\" xlink:title=\"FAIL = &#39;FAIL&#39;\">\n",
       "<text xml:space=\"preserve\" text-anchor=\"start\" x=\"72.5\" y=\"-387\" font-family=\"'Fira Mono', 'Source Code Pro', 'Courier', monospace\" font-size=\"10.00\">FAIL</text>\n",
       "</a>\n",
       "</g>\n",
       "<g id=\"a_node4_11\"><a xlink:href=\"StatisticalDebugger.ipynb\" xlink:title=\"PASS = &#39;PASS&#39;\">\n",
       "<text xml:space=\"preserve\" text-anchor=\"start\" x=\"72.5\" y=\"-374.25\" font-family=\"'Fira Mono', 'Source Code Pro', 'Courier', monospace\" font-size=\"10.00\">PASS</text>\n",
       "</a>\n",
       "</g>\n",
       "</a>\n",
       "</g>\n",
       "</a>\n",
       "</g>\n",
       "</g>\n",
       "<!-- SpectrumDebugger&#45;&gt;DifferenceDebugger -->\n",
       "<g id=\"edge3\" class=\"edge\">\n",
       "<title>SpectrumDebugger&#45;&gt;DifferenceDebugger</title>\n",
       "<path fill=\"none\" stroke=\"black\" d=\"M84.5,-330.47C84.5,-337.76 84.5,-346.55 84.5,-355.28\"/>\n",
       "<polygon fill=\"none\" stroke=\"black\" points=\"81,-355.07 84.5,-365.07 88,-355.07 81,-355.07\"/>\n",
       "</g>\n",
       "<!-- StatisticalDebugger -->\n",
       "<g id=\"node5\" class=\"node\">\n",
       "<title>StatisticalDebugger</title>\n",
       "<g id=\"a_node5\"><a xlink:href=\"StatisticalDebugger.ipynb\" xlink:title=\"class StatisticalDebugger:&#10;A class to collect events for multiple outcomes.\">\n",
       "<polygon fill=\"none\" stroke=\"black\" points=\"9,-462.75 9,-498.75 160,-498.75 160,-462.75 9,-462.75\"/>\n",
       "<text xml:space=\"preserve\" text-anchor=\"start\" x=\"17\" y=\"-477.45\" font-family=\"Raleway, Helvetica, Arial, sans-serif\" font-weight=\"bold\" font-size=\"14.00\" fill=\"#6a0dad\">StatisticalDebugger</text>\n",
       "</a>\n",
       "</g>\n",
       "</g>\n",
       "<!-- DifferenceDebugger&#45;&gt;StatisticalDebugger -->\n",
       "<g id=\"edge4\" class=\"edge\">\n",
       "<title>DifferenceDebugger&#45;&gt;StatisticalDebugger</title>\n",
       "<path fill=\"none\" stroke=\"black\" d=\"M84.5,-426.19C84.5,-434.2 84.5,-442.9 84.5,-450.91\"/>\n",
       "<polygon fill=\"none\" stroke=\"black\" points=\"81,-450.85 84.5,-460.85 88,-450.85 81,-450.85\"/>\n",
       "</g>\n",
       "<!-- TimeCollector -->\n",
       "<g id=\"node6\" class=\"node\">\n",
       "<title>TimeCollector</title>\n",
       "<g id=\"a_node6\"><a xlink:href=\"#\" xlink:title=\"class TimeCollector:&#10;Collect time executed for each line\">\n",
       "<polygon fill=\"none\" stroke=\"black\" points=\"199.5,-0.5 199.5,-110.25 311.5,-110.25 311.5,-0.5 199.5,-0.5\"/>\n",
       "<text xml:space=\"preserve\" text-anchor=\"start\" x=\"207.5\" y=\"-93.95\" font-family=\"Raleway, Helvetica, Arial, sans-serif\" font-weight=\"bold\" font-size=\"14.00\" fill=\"#6a0dad\">TimeCollector</text>\n",
       "<polyline fill=\"none\" stroke=\"black\" points=\"199.5,-85 311.5,-85\"/>\n",
       "<g id=\"a_node6_12\"><a xlink:href=\"#\" xlink:title=\"TimeCollector\">\n",
       "<g id=\"a_node6_13\"><a xlink:href=\"#\" xlink:title=\"__enter__(self) &#45;&gt; Any:&#10;Called at begin of `with` block. Turn tracing on.\">\n",
       "<text xml:space=\"preserve\" text-anchor=\"start\" x=\"216.5\" y=\"-72.5\" font-family=\"'Fira Mono', 'Source Code Pro', 'Courier', monospace\" font-style=\"italic\" font-size=\"10.00\">__enter__()</text>\n",
       "</a>\n",
       "</g>\n",
       "<g id=\"a_node6_14\"><a xlink:href=\"#\" xlink:title=\"__init__(self) &#45;&gt; None:&#10;Constructor\">\n",
       "<text xml:space=\"preserve\" text-anchor=\"start\" x=\"216.5\" y=\"-59.75\" font-family=\"'Fira Mono', 'Source Code Pro', 'Courier', monospace\" font-style=\"italic\" font-size=\"10.00\">__init__()</text>\n",
       "</a>\n",
       "</g>\n",
       "<g id=\"a_node6_15\"><a xlink:href=\"#\" xlink:title=\"all_metrics(self, func: str) &#45;&gt; List[float]:&#10;Return all metric for a function `func`.\">\n",
       "<text xml:space=\"preserve\" text-anchor=\"start\" x=\"216.5\" y=\"-47\" font-family=\"'Fira Mono', 'Source Code Pro', 'Courier', monospace\" font-style=\"italic\" font-size=\"10.00\">all_metrics()</text>\n",
       "</a>\n",
       "</g>\n",
       "<g id=\"a_node6_16\"><a xlink:href=\"#\" xlink:title=\"collect(self, frame: frame, event: str, arg: Any) &#45;&gt; None:&#10;Invoked for every line executed. Accumulate time spent.\">\n",
       "<text xml:space=\"preserve\" text-anchor=\"start\" x=\"216.5\" y=\"-34.25\" font-family=\"'Fira Mono', 'Source Code Pro', 'Courier', monospace\" font-style=\"italic\" font-size=\"10.00\">collect()</text>\n",
       "</a>\n",
       "</g>\n",
       "<g id=\"a_node6_17\"><a xlink:href=\"#\" xlink:title=\"metric(self, location: Any) &#45;&gt; Optional[float]:&#10;Return a metric for an event, or none.\">\n",
       "<text xml:space=\"preserve\" text-anchor=\"start\" x=\"216.5\" y=\"-21.5\" font-family=\"'Fira Mono', 'Source Code Pro', 'Courier', monospace\" font-style=\"italic\" font-size=\"10.00\">metric()</text>\n",
       "</a>\n",
       "</g>\n",
       "<g id=\"a_node6_18\"><a xlink:href=\"#\" xlink:title=\"reset_timer(self) &#45;&gt; None\">\n",
       "<text xml:space=\"preserve\" text-anchor=\"start\" x=\"216.5\" y=\"-7.75\" font-family=\"'Fira Mono', 'Source Code Pro', 'Courier', monospace\" font-size=\"10.00\">reset_timer()</text>\n",
       "</a>\n",
       "</g>\n",
       "</a>\n",
       "</g>\n",
       "</a>\n",
       "</g>\n",
       "</g>\n",
       "<!-- MetricCollector -->\n",
       "<g id=\"node7\" class=\"node\">\n",
       "<title>MetricCollector</title>\n",
       "<g id=\"a_node7\"><a xlink:href=\"#\" xlink:title=\"class MetricCollector:&#10;Abstract superclass for collecting line&#45;specific metrics\">\n",
       "<polygon fill=\"none\" stroke=\"black\" points=\"206.38,-160 206.38,-244.25 326.62,-244.25 326.62,-160 206.38,-160\"/>\n",
       "<text xml:space=\"preserve\" text-anchor=\"start\" x=\"214.38\" y=\"-227.95\" font-family=\"Raleway, Helvetica, Arial, sans-serif\" font-weight=\"bold\" font-size=\"14.00\" fill=\"#6a0dad\">MetricCollector</text>\n",
       "<polyline fill=\"none\" stroke=\"black\" points=\"206.38,-219 326.62,-219\"/>\n",
       "<g id=\"a_node7_19\"><a xlink:href=\"#\" xlink:title=\"MetricCollector\">\n",
       "<g id=\"a_node7_20\"><a xlink:href=\"#\" xlink:title=\"all_metrics(self, func: str) &#45;&gt; List[float]:&#10;Return all metric for a function `func`.\">\n",
       "<text xml:space=\"preserve\" text-anchor=\"start\" x=\"227.5\" y=\"-206.5\" font-family=\"'Fira Mono', 'Source Code Pro', 'Courier', monospace\" font-style=\"italic\" font-size=\"10.00\">all_metrics()</text>\n",
       "</a>\n",
       "</g>\n",
       "<g id=\"a_node7_21\"><a xlink:href=\"#\" xlink:title=\"maximum(self, func: str) &#45;&gt; float\">\n",
       "<text xml:space=\"preserve\" text-anchor=\"start\" x=\"227.5\" y=\"-192.75\" font-family=\"'Fira Mono', 'Source Code Pro', 'Courier', monospace\" font-size=\"10.00\">maximum()</text>\n",
       "</a>\n",
       "</g>\n",
       "<g id=\"a_node7_22\"><a xlink:href=\"#\" xlink:title=\"metric(self, event: Any) &#45;&gt; Optional[float]:&#10;Return a metric for an event, or none.\">\n",
       "<text xml:space=\"preserve\" text-anchor=\"start\" x=\"227.5\" y=\"-181\" font-family=\"'Fira Mono', 'Source Code Pro', 'Courier', monospace\" font-style=\"italic\" font-size=\"10.00\">metric()</text>\n",
       "</a>\n",
       "</g>\n",
       "<g id=\"a_node7_23\"><a xlink:href=\"#\" xlink:title=\"total(self, func: str) &#45;&gt; float\">\n",
       "<text xml:space=\"preserve\" text-anchor=\"start\" x=\"227.5\" y=\"-167.25\" font-family=\"'Fira Mono', 'Source Code Pro', 'Courier', monospace\" font-size=\"10.00\">total()</text>\n",
       "</a>\n",
       "</g>\n",
       "</a>\n",
       "</g>\n",
       "</a>\n",
       "</g>\n",
       "</g>\n",
       "<!-- TimeCollector&#45;&gt;MetricCollector -->\n",
       "<g id=\"edge5\" class=\"edge\">\n",
       "<title>TimeCollector&#45;&gt;MetricCollector</title>\n",
       "<path fill=\"none\" stroke=\"black\" d=\"M259.63,-110.69C260.56,-122.97 261.55,-135.99 262.48,-148.21\"/>\n",
       "<polygon fill=\"none\" stroke=\"black\" points=\"258.98,-148.42 263.23,-158.12 265.96,-147.89 258.98,-148.42\"/>\n",
       "</g>\n",
       "<!-- CoverageCollector -->\n",
       "<g id=\"node8\" class=\"node\">\n",
       "<title>CoverageCollector</title>\n",
       "<g id=\"a_node8\"><a xlink:href=\"StatisticalDebugger.ipynb\" xlink:title=\"class CoverageCollector:&#10;A class to record covered locations during execution.\">\n",
       "<polygon fill=\"none\" stroke=\"black\" points=\"195.12,-294 195.12,-330 337.88,-330 337.88,-294 195.12,-294\"/>\n",
       "<text xml:space=\"preserve\" text-anchor=\"start\" x=\"203.12\" y=\"-308.7\" font-family=\"Raleway, Helvetica, Arial, sans-serif\" font-weight=\"bold\" font-size=\"14.00\" fill=\"#6a0dad\">CoverageCollector</text>\n",
       "</a>\n",
       "</g>\n",
       "</g>\n",
       "<!-- MetricCollector&#45;&gt;CoverageCollector -->\n",
       "<g id=\"edge6\" class=\"edge\">\n",
       "<title>MetricCollector&#45;&gt;CoverageCollector</title>\n",
       "<path fill=\"none\" stroke=\"black\" d=\"M266.5,-244.52C266.5,-257.14 266.5,-270.72 266.5,-282.29\"/>\n",
       "<polygon fill=\"none\" stroke=\"black\" points=\"263,-282 266.5,-292 270,-282 263,-282\"/>\n",
       "</g>\n",
       "<!-- Collector -->\n",
       "<g id=\"node9\" class=\"node\">\n",
       "<title>Collector</title>\n",
       "<g id=\"a_node9\"><a xlink:href=\"StatisticalDebugger.ipynb\" xlink:title=\"class Collector:&#10;A class to record events during execution.\">\n",
       "<polygon fill=\"none\" stroke=\"black\" points=\"202.38,-378.38 202.38,-414.38 280.62,-414.38 280.62,-378.38 202.38,-378.38\"/>\n",
       "<text xml:space=\"preserve\" text-anchor=\"start\" x=\"210.38\" y=\"-393.07\" font-family=\"Raleway, Helvetica, Arial, sans-serif\" font-weight=\"bold\" font-size=\"14.00\" fill=\"#6a0dad\">Collector</text>\n",
       "</a>\n",
       "</g>\n",
       "</g>\n",
       "<!-- CoverageCollector&#45;&gt;Collector -->\n",
       "<g id=\"edge7\" class=\"edge\">\n",
       "<title>CoverageCollector&#45;&gt;Collector</title>\n",
       "<path fill=\"none\" stroke=\"black\" d=\"M261.2,-330.47C257.98,-341.06 253.8,-354.83 250.12,-366.96\"/>\n",
       "<polygon fill=\"none\" stroke=\"black\" points=\"246.79,-365.9 247.23,-376.48 253.49,-367.93 246.79,-365.9\"/>\n",
       "</g>\n",
       "<!-- StackInspector -->\n",
       "<g id=\"node11\" class=\"node\">\n",
       "<title>StackInspector</title>\n",
       "<g id=\"a_node11\"><a xlink:href=\"StackInspector.ipynb\" xlink:title=\"class StackInspector:&#10;Provide functions to inspect the stack\">\n",
       "<polygon fill=\"none\" stroke=\"black\" points=\"196.5,-535.75 196.5,-581.75 362.5,-581.75 362.5,-535.75 196.5,-535.75\"/>\n",
       "<text xml:space=\"preserve\" text-anchor=\"start\" x=\"229.25\" y=\"-565.45\" font-family=\"Raleway, Helvetica, Arial, sans-serif\" font-weight=\"bold\" font-size=\"14.00\" fill=\"#6a0dad\">StackInspector</text>\n",
       "<polyline fill=\"none\" stroke=\"black\" points=\"196.5,-556.5 362.5,-556.5\"/>\n",
       "<g id=\"a_node11_24\"><a xlink:href=\"#\" xlink:title=\"StackInspector\">\n",
       "<g id=\"a_node11_25\"><a xlink:href=\"StackInspector.ipynb\" xlink:title=\"_generated_function_cache = {(&#39;remove_html_markup&#39;, 238): &lt;function remove_html_markup at 0x12132f420&gt;}\">\n",
       "<text xml:space=\"preserve\" text-anchor=\"start\" x=\"204.5\" y=\"-543\" font-family=\"'Fira Mono', 'Source Code Pro', 'Courier', monospace\" font-size=\"10.00\">_generated_function_cache</text>\n",
       "</a>\n",
       "</g>\n",
       "</a>\n",
       "</g>\n",
       "</a>\n",
       "</g>\n",
       "</g>\n",
       "<!-- CoverageCollector&#45;&gt;StackInspector -->\n",
       "<g id=\"edge10\" class=\"edge\">\n",
       "<title>CoverageCollector&#45;&gt;StackInspector</title>\n",
       "<path fill=\"none\" stroke=\"black\" d=\"M276.04,-330.24C281.14,-340.45 286.89,-353.82 289.5,-366.5 300.68,-420.83 293.04,-485.58 286.36,-524.09\"/>\n",
       "<polygon fill=\"none\" stroke=\"black\" points=\"282.93,-523.43 284.57,-533.9 289.81,-524.69 282.93,-523.43\"/>\n",
       "</g>\n",
       "<!-- Tracer -->\n",
       "<g id=\"node10\" class=\"node\">\n",
       "<title>Tracer</title>\n",
       "<g id=\"a_node10\"><a xlink:href=\"Tracer.ipynb\" xlink:title=\"class Tracer:&#10;A class for tracing a piece of code. Use as `with Tracer(): block()`\">\n",
       "<polygon fill=\"none\" stroke=\"black\" points=\"217.12,-462.75 217.12,-498.75 275.88,-498.75 275.88,-462.75 217.12,-462.75\"/>\n",
       "<text xml:space=\"preserve\" text-anchor=\"start\" x=\"225.12\" y=\"-477.45\" font-family=\"Raleway, Helvetica, Arial, sans-serif\" font-weight=\"bold\" font-size=\"14.00\" fill=\"#6a0dad\">Tracer</text>\n",
       "</a>\n",
       "</g>\n",
       "</g>\n",
       "<!-- Collector&#45;&gt;Tracer -->\n",
       "<g id=\"edge8\" class=\"edge\">\n",
       "<title>Collector&#45;&gt;Tracer</title>\n",
       "<path fill=\"none\" stroke=\"black\" d=\"M242.56,-414.84C243.2,-425.33 244.02,-438.92 244.75,-450.96\"/>\n",
       "<polygon fill=\"none\" stroke=\"black\" points=\"241.25,-451.03 245.35,-460.79 248.24,-450.6 241.25,-451.03\"/>\n",
       "</g>\n",
       "<!-- Tracer&#45;&gt;StackInspector -->\n",
       "<g id=\"edge9\" class=\"edge\">\n",
       "<title>Tracer&#45;&gt;StackInspector</title>\n",
       "<path fill=\"none\" stroke=\"black\" d=\"M253.99,-499C257.31,-506.65 261.34,-515.94 265.21,-524.84\"/>\n",
       "<polygon fill=\"none\" stroke=\"black\" points=\"261.99,-526.21 269.18,-533.99 268.41,-523.42 261.99,-526.21\"/>\n",
       "</g>\n",
       "<!-- HitCollector -->\n",
       "<g id=\"node12\" class=\"node\">\n",
       "<title>HitCollector</title>\n",
       "<g id=\"a_node12\"><a xlink:href=\"#\" xlink:title=\"class HitCollector:&#10;Collect how often a line is executed\">\n",
       "<polygon fill=\"none\" stroke=\"black\" points=\"329.62,-13.25 329.62,-97.5 427.38,-97.5 427.38,-13.25 329.62,-13.25\"/>\n",
       "<text xml:space=\"preserve\" text-anchor=\"start\" x=\"337.62\" y=\"-81.2\" font-family=\"Raleway, Helvetica, Arial, sans-serif\" font-weight=\"bold\" font-size=\"14.00\" fill=\"#6a0dad\">HitCollector</text>\n",
       "<polyline fill=\"none\" stroke=\"black\" points=\"329.62,-72.25 427.38,-72.25\"/>\n",
       "<g id=\"a_node12_26\"><a xlink:href=\"#\" xlink:title=\"HitCollector\">\n",
       "<g id=\"a_node12_27\"><a xlink:href=\"#\" xlink:title=\"__init__(self) &#45;&gt; None:&#10;Constructor.\">\n",
       "<text xml:space=\"preserve\" text-anchor=\"start\" x=\"339.5\" y=\"-59.75\" font-family=\"'Fira Mono', 'Source Code Pro', 'Courier', monospace\" font-style=\"italic\" font-size=\"10.00\">__init__()</text>\n",
       "</a>\n",
       "</g>\n",
       "<g id=\"a_node12_28\"><a xlink:href=\"#\" xlink:title=\"all_metrics(self, func: str) &#45;&gt; List[float]:&#10;Return all metric for a function `func`.\">\n",
       "<text xml:space=\"preserve\" text-anchor=\"start\" x=\"339.5\" y=\"-47\" font-family=\"'Fira Mono', 'Source Code Pro', 'Courier', monospace\" font-style=\"italic\" font-size=\"10.00\">all_metrics()</text>\n",
       "</a>\n",
       "</g>\n",
       "<g id=\"a_node12_29\"><a xlink:href=\"#\" xlink:title=\"collect(self, frame: frame, event: str, arg: Any) &#45;&gt; None:&#10;Save coverage for an observed event.\">\n",
       "<text xml:space=\"preserve\" text-anchor=\"start\" x=\"339.5\" y=\"-34.25\" font-family=\"'Fira Mono', 'Source Code Pro', 'Courier', monospace\" font-style=\"italic\" font-size=\"10.00\">collect()</text>\n",
       "</a>\n",
       "</g>\n",
       "<g id=\"a_node12_30\"><a xlink:href=\"#\" xlink:title=\"metric(self, location: Tuple[str, int]) &#45;&gt; Optional[int]:&#10;Return a metric for an event, or none.\">\n",
       "<text xml:space=\"preserve\" text-anchor=\"start\" x=\"339.5\" y=\"-21.5\" font-family=\"'Fira Mono', 'Source Code Pro', 'Courier', monospace\" font-style=\"italic\" font-size=\"10.00\">metric()</text>\n",
       "</a>\n",
       "</g>\n",
       "</a>\n",
       "</g>\n",
       "</a>\n",
       "</g>\n",
       "</g>\n",
       "<!-- HitCollector&#45;&gt;MetricCollector -->\n",
       "<g id=\"edge11\" class=\"edge\">\n",
       "<title>HitCollector&#45;&gt;MetricCollector</title>\n",
       "<path fill=\"none\" stroke=\"black\" d=\"M346.41,-97.85C333.63,-114.36 318.82,-133.5 305.45,-150.79\"/>\n",
       "<polygon fill=\"none\" stroke=\"black\" points=\"302.88,-148.39 299.53,-158.44 308.41,-152.68 302.88,-148.39\"/>\n",
       "</g>\n",
       "<!-- Legend -->\n",
       "<g id=\"node13\" class=\"node\">\n",
       "<title>Legend</title>\n",
       "<text xml:space=\"preserve\" text-anchor=\"start\" x=\"445.88\" y=\"-71.38\" font-family=\"Raleway, Helvetica, Arial, sans-serif\" font-weight=\"bold\" font-size=\"10.00\" fill=\"#6a0dad\">Legend</text>\n",
       "<text xml:space=\"preserve\" text-anchor=\"start\" x=\"445.88\" y=\"-61.38\" font-family=\"Raleway, Helvetica, Arial, sans-serif\" font-size=\"10.00\">• </text>\n",
       "<text xml:space=\"preserve\" text-anchor=\"start\" x=\"451.88\" y=\"-61.38\" font-family=\"'Fira Mono', 'Source Code Pro', 'Courier', monospace\" font-weight=\"bold\" font-size=\"8.00\">public_method()</text>\n",
       "<text xml:space=\"preserve\" text-anchor=\"start\" x=\"445.88\" y=\"-51.38\" font-family=\"Raleway, Helvetica, Arial, sans-serif\" font-size=\"10.00\">• </text>\n",
       "<text xml:space=\"preserve\" text-anchor=\"start\" x=\"451.88\" y=\"-51.38\" font-family=\"'Fira Mono', 'Source Code Pro', 'Courier', monospace\" font-size=\"8.00\">private_method()</text>\n",
       "<text xml:space=\"preserve\" text-anchor=\"start\" x=\"445.88\" y=\"-41.38\" font-family=\"Raleway, Helvetica, Arial, sans-serif\" font-size=\"10.00\">• </text>\n",
       "<text xml:space=\"preserve\" text-anchor=\"start\" x=\"451.88\" y=\"-41.38\" font-family=\"'Fira Mono', 'Source Code Pro', 'Courier', monospace\" font-style=\"italic\" font-size=\"8.00\">overloaded_method()</text>\n",
       "<text xml:space=\"preserve\" text-anchor=\"start\" x=\"445.88\" y=\"-32.33\" font-family=\"Helvetica,sans-Serif\" font-size=\"9.00\">Hover over names to see doc</text>\n",
       "</g>\n",
       "</g>\n",
       "</svg>\n"
      ],
      "text/plain": [
       "<graphviz.graphs.Digraph at 0x11d813b60>"
      ]
     },
     "execution_count": 57,
     "metadata": {},
     "output_type": "execute_result"
    }
   ],
   "source": [
    "# ignore\n",
    "display_class_hierarchy([PerformanceDebugger, TimeCollector, HitCollector],\n",
    "                        public_methods=[\n",
    "                            PerformanceDebugger.__init__,\n",
    "                        ],\n",
    "                        project='debuggingbook')"
   ]
  },
  {
   "cell_type": "markdown",
   "metadata": {
    "slideshow": {
     "slide_type": "slide"
    }
   },
   "source": [
    "## Measuring Performance\n",
    "\n",
    "The solution to debugging performance issues fits in two simple rules:\n",
    "\n",
    "1. _Measure_ performance\n",
    "2. _Break down_ how individual parts of your code contribute to performance.\n",
    "\n",
    "The first part, actually _measuring_ performance, is key here. Developers often take elaborated guesses on which aspects of their code impact performance, and think about all possible ways to optimize their code – and at the same time, making it harder to understand, harder to evolve, and harder to maintain. In most cases, such guesses are wrong. Instead, _measure_ performance of your program, _identify_ the very few parts that may need to get improved, and again _measure_ the impact of your changes."
   ]
  },
  {
   "cell_type": "markdown",
   "metadata": {
    "slideshow": {
     "slide_type": "subslide"
    }
   },
   "source": [
    "Almost all programming languages offer a way to measure performance and breaking it down to individual parts of the code – a means also known as *profiling*. Profiling works by measuring the execution time for each function (or even more fine-grained location) in your program. This can be achieved by\n",
    "\n",
    "1. _Instrumenting_ or _tracing_ code such that the current time at entry and exit of each function (or line), thus determining the time spent. In Python, this is achieved by profilers like [profile or cProfile](https://docs.python.org/3/library/profile.html)\n",
    "\n",
    "2. _Sampling_ the current function call stack at regular intervals, and thus assessing which functions are most active (= take the most time) during execution. For Python, the [scalene](https://github.com/plasma-umass/scalene) profiler works this way.\n",
    "\n",
    "Pretty much all programming languages support profiling, either through measuring, sampling, or both. As a rule of thumb, _interpreted_ languages more frequently support measuring (as it is easy to implement in an interpreter), while _compiled_ languages more frequently support sampling (because instrumentation requires recompilation). Python is lucky to support both methods."
   ]
  },
  {
   "attachments": {},
   "cell_type": "markdown",
   "metadata": {
    "slideshow": {
     "slide_type": "subslide"
    }
   },
   "source": [
    "### Tracing Execution Profiles\n",
    "\n",
    "Let us illustrate profiling in a simple example. The `ChangeCounter` class (which we will encounter in the [chapter on mining version histories](ChangeCounter.ipynb)) reads in a version history from a git repository. Yet, it takes more than a minute to read in the debugging book change history:"
   ]
  },
  {
   "cell_type": "code",
   "execution_count": 4,
   "metadata": {
    "execution": {
     "iopub.execute_input": "2025-10-26T17:51:36.081117Z",
     "iopub.status.busy": "2025-10-26T17:51:36.080985Z",
     "iopub.status.idle": "2025-10-26T17:51:36.383968Z",
     "shell.execute_reply": "2025-10-26T17:51:36.383445Z"
    },
    "slideshow": {
     "slide_type": "skip"
    }
   },
   "outputs": [],
   "source": [
    "from ChangeCounter import ChangeCounter, debuggingbook_change_counter  # minor dependency"
   ]
  },
  {
   "cell_type": "code",
   "execution_count": 5,
   "metadata": {
    "execution": {
     "iopub.execute_input": "2025-10-26T17:51:36.386192Z",
     "iopub.status.busy": "2025-10-26T17:51:36.386043Z",
     "iopub.status.idle": "2025-10-26T17:51:36.387789Z",
     "shell.execute_reply": "2025-10-26T17:51:36.387569Z"
    },
    "slideshow": {
     "slide_type": "skip"
    }
   },
   "outputs": [],
   "source": [
    "import Timer"
   ]
  },
  {
   "cell_type": "code",
   "execution_count": 6,
   "metadata": {
    "execution": {
     "iopub.execute_input": "2025-10-26T17:51:36.389023Z",
     "iopub.status.busy": "2025-10-26T17:51:36.388943Z",
     "iopub.status.idle": "2025-10-26T17:53:11.867793Z",
     "shell.execute_reply": "2025-10-26T17:53:11.867115Z"
    },
    "slideshow": {
     "slide_type": "fragment"
    }
   },
   "outputs": [],
   "source": [
    "with Timer.Timer() as t:\n",
    "    change_counter = debuggingbook_change_counter(ChangeCounter)"
   ]
  },
  {
   "cell_type": "code",
   "execution_count": 7,
   "metadata": {
    "execution": {
     "iopub.execute_input": "2025-10-26T17:53:11.871676Z",
     "iopub.status.busy": "2025-10-26T17:53:11.871525Z",
     "iopub.status.idle": "2025-10-26T17:53:11.874937Z",
     "shell.execute_reply": "2025-10-26T17:53:11.874661Z"
    },
    "slideshow": {
     "slide_type": "fragment"
    }
   },
   "outputs": [
    {
     "data": {
      "text/plain": [
       "95.47416895799688"
      ]
     },
     "execution_count": 7,
     "metadata": {},
     "output_type": "execute_result"
    }
   ],
   "source": [
    "t.elapsed_time()"
   ]
  },
  {
   "cell_type": "markdown",
   "metadata": {
    "slideshow": {
     "slide_type": "subslide"
    }
   },
   "source": [
    "The Python `profile` and `cProfile` modules offer a simple way to identify the most time-consuming functions. They are invoked using the `run()` function, whose argument is the command to be profiled. The output reports, for each function encountered:\n",
    "\n",
    "* How often it was called (`ncalls` column)\n",
    "* How much time was spent in the given function, _excluding_ time spent in calls to sub-functions (`tottime` column)\n",
    "<!-- * The fraction of `tottime` / `ncalls` (first `percall` column) -->\n",
    "* How much time was spent in the given function, _including_ time spent in calls to sub-functions (`cumtime` column)\n",
    "<!-- * The fraction of `cumtime` / `ncalls` (second `percall` column) -->\n",
    "\n",
    "Let us have a look at the profile we obtain:"
   ]
  },
  {
   "cell_type": "code",
   "execution_count": 8,
   "metadata": {
    "execution": {
     "iopub.execute_input": "2025-10-26T17:53:11.876850Z",
     "iopub.status.busy": "2025-10-26T17:53:11.876737Z",
     "iopub.status.idle": "2025-10-26T17:53:11.878325Z",
     "shell.execute_reply": "2025-10-26T17:53:11.878099Z"
    },
    "slideshow": {
     "slide_type": "skip"
    }
   },
   "outputs": [],
   "source": [
    "import cProfile"
   ]
  },
  {
   "cell_type": "code",
   "execution_count": 9,
   "metadata": {
    "execution": {
     "iopub.execute_input": "2025-10-26T17:53:11.879620Z",
     "iopub.status.busy": "2025-10-26T17:53:11.879524Z",
     "iopub.status.idle": "2025-10-26T17:54:55.338640Z",
     "shell.execute_reply": "2025-10-26T17:54:55.338205Z"
    },
    "slideshow": {
     "slide_type": "subslide"
    }
   },
   "outputs": [
    {
     "name": "stdout",
     "output_type": "stream",
     "text": [
      "         43450243 function calls (43245180 primitive calls) in 103.436 seconds\n",
      "\n",
      "   Ordered by: cumulative time\n",
      "\n",
      "   ncalls  tottime  percall  cumtime  percall filename:lineno(function)\n",
      "     2714    0.016    0.000  157.824    0.058 threading.py:1058(join)\n",
      "     2714    0.050    0.000  157.506    0.058 {method 'join' of '_thread._ThreadHandle' objects}\n",
      "     1409    0.006    0.000  103.775    0.074 repository.py:213(traverse_commits)\n",
      "      2/1    0.000    0.000  103.435  103.435 {built-in method builtins.exec}\n",
      "      2/1    0.002    0.001  103.435  103.435 <string>:1(<module>)\n",
      "        1    0.000    0.000  103.433  103.433 ChangeCounter.ipynb:168(debuggingbook_change_counter)\n",
      "        1    0.000    0.000  103.433  103.433 ChangeCounter.ipynb:51(__init__)\n",
      "        1    0.000    0.000  103.433  103.433 ChangeCounter.ipynb:88(mine)\n",
      "        1    0.000    0.000  103.401  103.401 _base.py:646(__exit__)\n",
      "        1    0.000    0.000  103.401  103.401 thread.py:220(shutdown)\n",
      "   2714/1    0.031    0.000  103.400  103.400 threading.py:1000(_bootstrap)\n",
      "   2714/1    0.046    0.000  103.400  103.400 threading.py:1027(_bootstrap_inner)\n",
      "   2714/1    0.021    0.000  103.400  103.400 ipkernel.py:750(run_closure)\n",
      "   2714/1   13.244    0.005  103.400  103.400 threading.py:983(run)\n",
      "      4/1    0.000    0.000  103.400  103.400 thread.py:70(_worker)\n",
      "     18/4    0.001    0.000  103.400   25.850 {method 'get' of '_queue.SimpleQueue' objects}\n",
      "     1408    0.039    0.000  103.032    0.073 ChangeCounter.ipynb:102(mine_commit)\n",
      "     1408    0.045    0.000  100.615    0.071 commit.py:758(modified_files)\n",
      "     1355    0.214    0.000   98.978    0.073 diff.py:184(diff)\n",
      "     1355   12.267    0.009   78.512    0.058 diff.py:583(_index_from_patch_format)\n",
      "     1355    0.048    0.000   54.381    0.040 cmd.py:102(handle_process_output)\n",
      "2710/1355   31.919    0.012   53.558    0.040 cmd.py:149(pump_stream)\n",
      "      101    9.849    0.098   21.316    0.211 {built-in method time.sleep}\n",
      "    15521    0.102    0.000   21.288    0.001 diff.py:412(__init__)\n",
      "    14605    0.013    0.000   20.843    0.001 base.py:479(submodules)\n",
      "    14605    0.047    0.000   20.830    0.001 util.py:1274(list_items)\n",
      "34012/34006    0.056    0.000   20.772    0.001 {method 'extend' of 'list' objects}\n",
      "    43815    0.203    0.000   20.716    0.000 base.py:1581(iter_items)\n",
      "5426/5201    0.042    0.000   15.940    0.003 {method 'close' of '_io.BufferedReader' objects}\n",
      "     1410    0.137    0.000    9.950    0.007 cmd.py:1540(_call_process)\n",
      "     1410    0.178    0.000    9.774    0.007 cmd.py:1096(execute)\n",
      "     1356    0.034    0.000    9.620    0.007 cmd.py:1003(<lambda>)\n",
      "     1410    0.156    0.000    9.131    0.006 subprocess.py:817(__init__)\n",
      "     1410    0.222    0.000    8.862    0.006 subprocess.py:1808(_execute_child)\n",
      "    74433    0.135    0.000    7.816    0.000 util.py:248(__getattr__)\n",
      "   134748    0.396    0.000    7.637    0.000 cmd.py:1676(__get_object_header)\n",
      "    43815    0.039    0.000    6.873    0.000 base.py:713(commit)\n",
      "     1410    6.802    0.005    6.802    0.005 {built-in method _posixsubprocess.fork_exec}\n",
      "102235/29210    0.071    0.000    6.520    0.000 tree.py:363(__getitem__)\n",
      "102235/29210    0.267    0.000    6.484    0.000 tree.py:233(join)\n",
      "    43815    0.018    0.000    6.277    0.000 symbolic.py:389(commit)\n",
      "    43815    0.024    0.000    6.259    0.000 symbolic.py:289(_get_commit)\n",
      "   240146    6.240    0.000    6.240    0.000 {method 'readline' of '_io.BufferedReader' objects}\n",
      "    43815    0.060    0.000    6.235    0.000 symbolic.py:279(_get_object)\n",
      "    76328    0.175    0.000    5.800    0.000 db.py:44(stream)\n",
      "    58420    0.077    0.000    5.728    0.000 tree.py:212(_set_cache_)\n",
      "    76328    0.203    0.000    5.491    0.000 cmd.py:1712(stream_object_data)\n",
      "    58420    0.053    0.000    4.656    0.000 symbolic.py:155(dereference_recursive)\n",
      "   116841    0.104    0.000    4.602    0.000 symbolic.py:268(_get_ref_info)\n",
      "   116841    0.365    0.000    4.498    0.000 symbolic.py:220(_get_ref_info_helper)\n",
      "    58420    0.132    0.000    3.853    0.000 base.py:136(new_from_sha)\n",
      "    14605    0.071    0.000    3.635    0.000 base.py:230(_config_parser)\n",
      "    58420    0.129    0.000    3.332    0.000 db.py:39(info)\n",
      "    58420    0.068    0.000    3.092    0.000 cmd.py:1684(get_object_header)\n",
      "    14605    0.067    0.000    2.476    0.000 fun.py:230(rev_parse)\n",
      "   134743    2.403    0.000    2.463    0.000 {built-in method _io.open}\n",
      "    14605    0.047    0.000    2.401    0.000 fun.py:150(name_to_object)\n",
      "    16013    0.039    0.000    1.941    0.000 commit.py:241(_set_cache_)\n",
      "       23    0.001    0.000    1.693    0.074 base_events.py:1962(_run_once)\n",
      "       23    0.001    0.000    1.690    0.073 selectors.py:540(select)\n",
      "117161/102342    0.109    0.000    1.539    0.000 config.py:111(assure_data_present)\n",
      "    14605    0.025    0.000    1.539    0.000 util.py:82(__init__)\n",
      "    14711    0.068    0.000    1.525    0.000 config.py:315(__init__)\n",
      "    58420    0.993    0.000    1.482    0.000 fun.py:77(tree_entries_from_data)\n",
      "    14711    0.102    0.000    1.451    0.000 configparser.py:631(__init__)\n",
      "     1410    1.347    0.001    1.347    0.001 {built-in method posix.read}\n",
      "    14711    0.287    0.000    1.160    0.000 configparser.py:1341(__init__)\n",
      "117161/102451    0.087    0.000    1.125    0.000 config.py:596(read)\n",
      "       23    0.531    0.023    1.099    0.048 {method 'control' of 'select.kqueue' objects}\n",
      " 15051549    0.961    0.000    0.961    0.000 {method 'append' of 'list' objects}\n",
      "      963    0.007    0.000    0.947    0.001 ChangeCounter.ipynb:121(update_stats)\n",
      "     1910    0.001    0.000    0.909    0.000 commit.py:214(content)\n",
      "     1910    0.008    0.000    0.908    0.000 commit.py:222(_get_undecoded_content)\n",
      "   116841    0.504    0.000    0.880    0.000 symbolic.py:172(_check_ref_name_valid)\n",
      "     1895    0.001    0.000    0.791    0.000 base.py:192(data_stream)\n",
      "     1355    0.744    0.001    0.744    0.001 {method 'join' of 'bytes' objects}\n",
      "    14711    0.337    0.000    0.681    0.000 config.py:439(_read)\n",
      "    76328    0.084    0.000    0.613    0.000 cmd.py:451(read)\n",
      "    14711    0.579    0.000    0.579    0.000 {built-in method builtins.dir}\n",
      "   152655    0.518    0.000    0.518    0.000 {method 'read' of '_io.BufferedReader' objects}\n",
      "    60315    0.026    0.000    0.517    0.000 base.py:137(read)\n",
      "   134748    0.038    0.000    0.488    0.000 cmd.py:1663(_get_persistent_cmd)\n",
      "    15521    0.004    0.000    0.487    0.000 ChangeCounter.ipynb:112(include)\n",
      "    37861    0.061    0.000    0.485    0.000 commit.py:276(new_path)\n",
      "    15521    0.013    0.000    0.482    0.000 ChangeCounter.ipynb:176(filter)\n",
      "    16013    0.142    0.000    0.480    0.000 commit.py:782(_deserialize)\n",
      "   117049    0.382    0.000    0.466    0.000 {method 'read' of '_io.TextIOWrapper' objects}\n",
      "   554990    0.227    0.000    0.401    0.000 compat.py:117(safe_decode)\n",
      "  2120178    0.381    0.000    0.381    0.000 {method 'match' of 're.Pattern' objects}\n",
      "    16929    0.008    0.000    0.372    0.000 commit.py:634(committer_date)\n",
      "   903101    0.369    0.000    0.369    0.000 cmd.py:989(__getattribute__)\n",
      "    16929    0.009    0.000    0.353    0.000 commit.py:254(committed_datetime)\n",
      "   158295    0.197    0.000    0.316    0.000 <frozen posixpath>:72(join)\n",
      "    37479    0.063    0.000    0.309    0.000 _local.py:227(__str__)\n",
      "   134748    0.301    0.000    0.301    0.000 {method 'flush' of '_io.BufferedWriter' objects}\n",
      "     2816    0.024    0.000    0.289    0.000 repository.py:245(_iter_commits)\n",
      "     1410    0.042    0.000    0.281    0.000 <frozen os>:750(copy)\n",
      "   194208    0.223    0.000    0.274    0.000 base.py:100(__init__)\n",
      "    58525    0.072    0.000    0.270    0.000 configparser.py:796(get)\n",
      "  1115675    0.208    0.000    0.259    0.000 {built-in method builtins.getattr}\n",
      "   826398    0.157    0.000    0.246    0.000 cmd.py:378(__getattr__)\n",
      "   118314    0.072    0.000    0.243    0.000 base.py:231(__init__)\n",
      "   134748    0.160    0.000    0.238    0.000 cmd.py:1618(_parse_object_header)\n",
      "    58420    0.128    0.000    0.228    0.000 util.py:111(get_object_type_by_name)\n",
      "  1263240    0.226    0.000    0.226    0.000 {method 'decode' of 'bytes' objects}\n",
      "    29608    0.139    0.000    0.216    0.000 util.py:91(mode_str_to_int)\n",
      "   134748    0.120    0.000    0.216    0.000 cmd.py:1649(_prepare_ref)\n",
      "2209202/2209198    0.202    0.000    0.209    0.000 {built-in method builtins.isinstance}\n",
      "    37480    0.037    0.000    0.199    0.000 _local.py:289(drive)\n",
      "   131764    0.199    0.000    0.199    0.000 {method '__exit__' of '_io._IOBase' objects}\n",
      "    32026    0.054    0.000    0.195    0.000 util.py:326(parse_actor_and_date)\n",
      "     1410    0.064    0.000    0.194    0.000 subprocess.py:1298(_close_pipe_fds)\n",
      "    59828    0.042    0.000    0.188    0.000 tree.py:194(__init__)\n",
      "   118196    0.078    0.000    0.184    0.000 {built-in method builtins.any}\n",
      "  2336808    0.176    0.000    0.176    0.000 {built-in method builtins.ord}\n",
      "    14711    0.067    0.000    0.171    0.000 configparser.py:1264(__init__)\n",
      "    75894    0.052    0.000    0.155    0.000 commit.py:109(__init__)\n",
      "   238290    0.087    0.000    0.154    0.000 <frozen os>:843(fsencode)\n",
      "    16929    0.019    0.000    0.144    0.000 util.py:211(from_timestamp)\n",
      "   103035    0.059    0.000    0.144    0.000 <frozen os>:711(__getitem__)\n",
      "    37478    0.064    0.000    0.143    0.000 _local.py:257(_parse_path)\n",
      "     2714    0.043    0.000    0.143    0.000 threading.py:955(start)\n",
      "     1410    0.065    0.000    0.125    0.000 util.py:537(remove_password_if_present)\n",
      "     2714    0.009    0.000    0.123    0.000 ipkernel.py:774(init_closure)\n",
      "   102339    0.095    0.000    0.121    0.000 util.py:272(join_path)\n",
      "    29210    0.021    0.000    0.115    0.000 base.py:435(index)\n",
      "     2714    0.056    0.000    0.113    0.000 threading.py:869(__init__)\n",
      "    58525    0.058    0.000    0.110    0.000 configparser.py:1176(_unify_values)\n",
      "   350522    0.076    0.000    0.105    0.000 symbolic.py:214(<genexpr>)\n",
      "   392024    0.104    0.000    0.104    0.000 {method 'split' of 'str' objects}\n",
      "   919511    0.097    0.000    0.097    0.000 {built-in method builtins.len}\n",
      "   104340    0.019    0.000    0.093    0.000 <frozen _collections_abc>:873(__iter__)\n",
      "    29210    0.014    0.000    0.093    0.000 base.py:140(__init__)\n",
      "     1410    0.015    0.000    0.092    0.000 subprocess.py:1704(_get_handles)\n",
      "     4230    0.043    0.000    0.092    0.000 contextlib.py:534(callback)\n",
      "   117049    0.059    0.000    0.084    0.000 <frozen codecs>:322(decode)\n",
      "   146306    0.065    0.000    0.084    0.000 config.py:218(__getitem__)\n",
      "    31042    0.015    0.000    0.083    0.000 diff.py:570(_pick_best_path)\n",
      "    29210    0.021    0.000    0.082    0.000 base.py:123(__init__)\n",
      "    14714    0.012    0.000    0.079    0.000 config.py:543(_has_includes)\n",
      "    29210    0.014    0.000    0.079    0.000 base.py:172(_index_path)\n",
      "    58525    0.046    0.000    0.077    0.000 __init__.py:1013(__getitem__)\n",
      "     2714    0.077    0.000    0.077    0.000 {built-in method _thread.start_joinable_thread}\n",
      "   476205    0.077    0.000    0.077    0.000 {method 'encode' of 'str' objects}\n",
      "   104340    0.042    0.000    0.075    0.000 <frozen os>:734(__iter__)\n",
      "   116841    0.059    0.000    0.071    0.000 symbolic.py:51(_git_dir)\n",
      "    93746    0.069    0.000    0.069    0.000 {method 'search' of 're.Pattern' objects}\n",
      "   574473    0.069    0.000    0.069    0.000 {method 'endswith' of 'str' objects}\n",
      "    31042    0.041    0.000    0.069    0.000 diff.py:105(decode_path)\n",
      "    37583    0.021    0.000    0.069    0.000 _local.py:498(__init__)\n",
      "     2714    0.028    0.000    0.068    0.000 threading.py:641(wait)\n",
      "    26790    0.011    0.000    0.068    0.000 subprocess.py:1897(<genexpr>)\n",
      "   205860    0.035    0.000    0.066    0.000 <frozen os>:797(decode)\n",
      "    14710    0.017    0.000    0.065    0.000 config.py:546(_included_paths)\n",
      "    29314    0.023    0.000    0.065    0.000 util.py:309(join_path_native)\n",
      "   177654    0.065    0.000    0.065    0.000 typing.py:426(inner)\n",
      "    43816    0.026    0.000    0.062    0.000 base.py:448(head)\n",
      "      104    0.000    0.000    0.060    0.001 util.py:171(wrapper)\n",
      "      105    0.004    0.000    0.060    0.001 base.py:172(__init__)\n",
      "      104    0.001    0.000    0.060    0.001 base.py:1414(module)\n",
      "    58425    0.042    0.000    0.058    0.000 <frozen importlib._bootstrap>:1390(_handle_fromlist)\n",
      "   166827    0.058    0.000    0.058    0.000 {method 'split' of 'bytes' objects}\n",
      "    32026    0.028    0.000    0.057    0.000 util.py:816(_from_string)\n",
      "    16929    0.052    0.000    0.056    0.000 {built-in method fromtimestamp}\n",
      "   117049    0.045    0.000    0.056    0.000 <frozen codecs>:312(__init__)\n",
      "     1356    0.016    0.000    0.055    0.000 util.py:508(finalize_process)\n",
      "   134460    0.055    0.000    0.055    0.000 {built-in method sys.intern}\n",
      "   103524    0.055    0.000    0.055    0.000 config.py:205(__setitem__)\n",
      "   634015    0.053    0.000    0.053    0.000 {built-in method posix.fspath}\n",
      "   161531    0.033    0.000    0.053    0.000 <frozen posixpath>:42(_get_sep)\n",
      "   103035    0.030    0.000    0.051    0.000 <frozen os>:793(encode)\n",
      "   338507    0.051    0.000    0.051    0.000 {method 'startswith' of 'str' objects}\n",
      "     1356    0.003    0.000    0.051    0.000 subprocess.py:1148(_get_devnull)\n",
      "     1410    0.018    0.000    0.051    0.000 <frozen os>:656(get_exec_path)\n",
      "   255931    0.049    0.000    0.049    0.000 {built-in method binascii.a2b_hex}\n",
      "    16929    0.044    0.000    0.049    0.000 {method 'astimezone' of 'datetime.datetime' objects}\n",
      "    76328    0.031    0.000    0.048    0.000 base.py:128(__new__)\n",
      "    37583    0.030    0.000    0.048    0.000 _local.py:117(__init__)\n",
      "     1356    0.048    0.000    0.048    0.000 {built-in method posix.open}\n",
      "   313952    0.046    0.000    0.046    0.000 {method 'strip' of 'str' objects}\n",
      "     2711    0.019    0.000    0.044    0.000 cmd.py:382(wait)\n",
      "    29210    0.033    0.000    0.044    0.000 symbolic.py:603(to_full_path)\n",
      "     1409    0.010    0.000    0.044    0.000 _base.py:612(result_iterator)\n",
      "   162833    0.043    0.000    0.043    0.000 {method 'group' of 're.Match' objects}\n",
      "     4109    0.008    0.000    0.041    0.000 threading.py:327(wait)\n",
      "   188323    0.041    0.000    0.041    0.000 {built-in method __new__ of type object at 0x1036cbcf0}\n",
      "    37478    0.021    0.000    0.041    0.000 _local.py:237(_format_parsed_parts)\n",
      "    58421    0.025    0.000    0.041    0.000 <frozen importlib._bootstrap>:645(parent)\n",
      "    29210    0.025    0.000    0.040    0.000 configparser.py:908(has_option)\n",
      "   134880    0.040    0.000    0.040    0.000 {method 'write' of '_io.BufferedWriter' objects}\n",
      "    58420    0.025    0.000    0.039    0.000 base.py:35(__new__)\n",
      "    32026    0.032    0.000    0.039    0.000 util.py:146(utctz_to_altz)\n",
      "       52    0.000    0.000    0.038    0.001 base.py:1437(module_exists)\n",
      "    15521    0.015    0.000    0.036    0.000 commit.py:596(committer)\n",
      "     1409    0.000    0.000    0.036    0.000 git.py:110(get_list_commits)\n",
      "    43817    0.031    0.000    0.036    0.000 head.py:50(__init__)\n",
      "    90150    0.022    0.000    0.035    0.000 diff.py:535(b_path)\n",
      "     1387    0.027    0.000    0.034    0.000 parse.py:469(urlsplit)\n",
      "   105104    0.034    0.000    0.034    0.000 typing.py:1944(_no_init_or_replace_init)\n",
      "     1408    0.014    0.000    0.033    0.000 _base.py:314(_result_or_cancel)\n",
      "    73609    0.032    0.000    0.032    0.000 {built-in method builtins.setattr}\n",
      "19172/16448    0.033    0.000    0.032    0.000 {method 'acquire' of '_thread.lock' objects}\n",
      "     4230    0.032    0.000    0.032    0.000 contextlib.py:479(_create_cb_wrapper)\n",
      "     1360    0.007    0.000    0.031    0.000 cmd.py:375(__del__)\n",
      "   176931    0.031    0.000    0.031    0.000 {method 'rstrip' of 'str' objects}\n",
      "13608/1410    0.015    0.000    0.030    0.000 cmd.py:1494(_unpack_args)\n",
      "   147700    0.029    0.000    0.029    0.000 {method 'startswith' of 'bytes' objects}\n",
      "   140433    0.029    0.000    0.029    0.000 {built-in method binascii.b2a_hex}\n",
      "     2713    0.007    0.000    0.028    0.000 subprocess.py:1275(wait)\n",
      "     2714    0.005    0.000    0.028    0.000 threading.py:620(set)\n",
      "   146751    0.028    0.000    0.028    0.000 {built-in method builtins.hasattr}\n",
      "     1410    0.017    0.000    0.026    0.000 contextlib.py:571(__exit__)\n",
      "    29315    0.020    0.000    0.026    0.000 configparser.py:683(sections)\n",
      "    59674    0.025    0.000    0.025    0.000 config.py:208(add)\n",
      "   117049    0.025    0.000    0.025    0.000 {built-in method _codecs.utf_8_decode}\n",
      "    79573    0.024    0.000    0.024    0.000 {method 'groups' of 're.Match' objects}\n",
      "    76328    0.023    0.000    0.023    0.000 base.py:132(__init__)\n",
      "     1360    0.006    0.000    0.023    0.000 cmd.py:340(_terminate)\n",
      "     1355    0.023    0.000    0.023    0.000 {method 'finditer' of 're.Pattern' objects}\n",
      "    37583    0.017    0.000    0.023    0.000 _local.py:505(__new__)\n",
      "    58420    0.022    0.000    0.022    0.000 base.py:60(size)\n",
      "     2713    0.004    0.000    0.021    0.000 subprocess.py:2034(_wait)\n",
      "     4122    0.005    0.000    0.021    0.000 threading.py:428(notify_all)\n",
      "    16929    0.020    0.000    0.020    0.000 util.py:191(__init__)\n",
      "    88567    0.020    0.000    0.020    0.000 {method 'rpartition' of 'str' objects}\n",
      "    37478    0.013    0.000    0.019    0.000 _local.py:277(_raw_path)\n",
      "     1410    0.018    0.000    0.019    0.000 warnings.py:488(__enter__)\n",
      "     1409    0.002    0.000    0.019    0.000 commit.py:512(_iter_from_process_or_stream)\n",
      "   146438    0.018    0.000    0.018    0.000 {function _OMD.__getitem__ at 0x114154cc0}\n",
      "    29210    0.013    0.000    0.018    0.000 util.py:42(sm_name)\n",
      "    58420    0.018    0.000    0.018    0.000 base.py:38(__init__)\n",
      "     4230    0.014    0.000    0.018    0.000 contextlib.py:552(_push_exit_callback)\n",
      "     1408    0.013    0.000    0.017    0.000 commit.py:801(_parse_diff)\n",
      "    25413    0.012    0.000    0.017    0.000 conf.py:52(get)\n",
      "     1408    0.008    0.000    0.016    0.000 _base.py:428(result)\n",
      "     7050    0.016    0.000    0.016    0.000 {built-in method posix.close}\n",
      "   211200    0.016    0.000    0.016    0.000 typing.py:2371(cast)\n",
      "     1358    0.003    0.000    0.015    0.000 subprocess.py:2021(_try_wait)\n",
      "     2714    0.008    0.000    0.015    0.000 threading.py:592(__init__)\n",
      "    29210    0.010    0.000    0.015    0.000 base.py:168(__ne__)\n",
      "    30146    0.011    0.000    0.015    0.000 parse.py:193(_userinfo)\n",
      "    15073    0.005    0.000    0.015    0.000 parse.py:160(password)\n",
      "    89488    0.015    0.000    0.015    0.000 {method 'lower' of 'str' objects}\n",
      "     4140    0.005    0.000    0.014    0.000 threading.py:398(notify)\n",
      "    29634    0.014    0.000    0.014    0.000 {method 'sub' of 're.Pattern' objects}\n",
      "    58525    0.014    0.000    0.014    0.000 __init__.py:1003(__init__)\n",
      "  418/210    0.001    0.000    0.013    0.000 fun.py:99(find_submodule_git_dir)\n",
      "     1408    0.002    0.000    0.013    0.000 thread.py:165(submit)\n",
      "     2714    0.009    0.000    0.013    0.000 _weakrefset.py:85(add)\n",
      "    76328    0.013    0.000    0.013    0.000 cmd.py:440(__init__)\n",
      "   147410    0.013    0.000    0.013    0.000 config.py:435(optionxform)\n",
      "     4284    0.013    0.000    0.013    0.000 {built-in method posix.pipe}\n",
      "12486/11070    0.008    0.000    0.013    0.000 threading.py:303(__enter__)\n",
      "    80789    0.013    0.000    0.013    0.000 {method 'readline' of '_io.BytesIO' objects}\n",
      "    37369    0.010    0.000    0.013    0.000 <frozen posixpath>:131(splitdrive)\n",
      "     1362    0.013    0.000    0.013    0.000 {built-in method posix.waitpid}\n",
      "    76328    0.012    0.000    0.012    0.000 cmd.py:527(__del__)\n",
      "    14605    0.009    0.000    0.012    0.000 util.py:1177(__new__)\n",
      "     1409    0.004    0.000    0.012    0.000 __init__.py:1512(info)\n",
      "    58525    0.012    0.000    0.012    0.000 base.py:379(common_dir)\n",
      "     2822    0.002    0.000    0.012    0.000 {built-in method builtins.next}\n",
      "     2714    0.012    0.000    0.012    0.000 threading.py:1267(_make_invoke_excepthook)\n",
      "   117049    0.011    0.000    0.011    0.000 <frozen codecs>:263(__init__)\n",
      "      105    0.000    0.000    0.011    0.000 base.py:658(config_reader)\n",
      "     3132    0.004    0.000    0.011    0.000 __init__.py:1772(isEnabledFor)\n",
      "      105    0.000    0.000    0.011    0.000 base.py:681(_config_reader)\n",
      "        1    0.000    0.000    0.011    0.011 _base.py:583(map)\n",
      "     2732    0.010    0.000    0.011    0.000 threading.py:1136(is_alive)\n",
      "     1411    0.006    0.000    0.010    0.000 contextlib.py:303(helper)\n",
      "     5428    0.008    0.000    0.010    0.000 threading.py:1429(current_thread)\n",
      "     4123    0.007    0.000    0.010    0.000 threading.py:281(__init__)\n",
      "    16929    0.008    0.000    0.010    0.000 mailmap.py:16(get_developer)\n",
      "    37478    0.010    0.000    0.010    0.000 {built-in method posix._path_splitroot_ex}\n",
      "        2    0.000    0.000    0.010    0.005 repository.py:179(_prep_repo)\n",
      "     1410    0.009    0.000    0.009    0.000 contextlib.py:485(__init__)\n",
      "     1410    0.002    0.000    0.009    0.000 warnings.py:170(simplefilter)\n",
      "     1411    0.002    0.000    0.009    0.000 contextlib.py:145(__exit__)\n",
      "     2714    0.007    0.000    0.009    0.000 threading.py:1049(_delete)\n",
      "    58420    0.009    0.000    0.009    0.000 base.py:52(type)\n",
      "    15073    0.003    0.000    0.009    0.000 parse.py:156(username)\n",
      "    14605    0.005    0.000    0.008    0.000 base.py:162(__eq__)\n",
      "     2710    0.008    0.000    0.008    0.000 threading.py:843(_newname)\n",
      "    15521    0.005    0.000    0.008    0.000 commit.py:661(msg)\n",
      "        1    0.000    0.000    0.008    0.008 base.py:756(iter_commits)\n",
      "        1    0.000    0.000    0.008    0.008 commit.py:299(iter_items)\n",
      "    14356    0.005    0.000    0.008    0.000 diff.py:531(a_path)\n",
      "     1408    0.001    0.000    0.007    0.000 thread.py:184(_adjust_thread_count)\n",
      "    37479    0.007    0.000    0.007    0.000 {method 'join' of 'str' objects}\n",
      "    64052    0.007    0.000    0.007    0.000 {built-in method builtins.abs}\n",
      "    58420    0.007    0.000    0.007    0.000 base.py:42(binsha)\n",
      "     3028    0.005    0.000    0.007    0.000 <frozen posixpath>:176(dirname)\n",
      "    73555    0.007    0.000    0.007    0.000 {built-in method builtins.callable}\n",
      "     1515    0.001    0.000    0.007    0.000 <frozen abc>:117(__instancecheck__)\n",
      "      523    0.001    0.000    0.007    0.000 fun.py:57(is_git_dir)\n",
      "     6827    0.007    0.000    0.007    0.000 {method 'release' of '_thread.lock' objects}\n",
      "     3132    0.003    0.000    0.007    0.000 __init__.py:1826(_is_disabled)\n",
      "     1410    0.007    0.000    0.007    0.000 {built-in method posix.access}\n",
      "    12824    0.007    0.000    0.007    0.000 cmd.py:567(__getattribute)\n",
      "     1410    0.004    0.000    0.007    0.000 warnings.py:188(_add_filter)\n",
      "     1408    0.002    0.000    0.007    0.000 threading.py:472(acquire)\n",
      "    14711    0.004    0.000    0.006    0.000 configparser.py:1383(__iter__)\n",
      "      963    0.006    0.000    0.006    0.000 ChangeCounter.ipynb:137(update_size)\n",
      "    12486    0.005    0.000    0.006    0.000 threading.py:306(__exit__)\n",
      "     1515    0.006    0.000    0.006    0.000 {built-in method _abc._abc_instancecheck}\n",
      "        2    0.000    0.000    0.006    0.003 git.py:77(clear)\n",
      "        2    0.000    0.000    0.006    0.003 cmd.py:1727(clear_cache)\n",
      "     1411    0.002    0.000    0.006    0.000 contextlib.py:136(__enter__)\n",
      "     1408    0.001    0.000    0.006    0.000 thread.py:54(run)\n",
      "    29315    0.006    0.000    0.006    0.000 {method 'keys' of 'collections.OrderedDict' objects}\n",
      "      963    0.004    0.000    0.006    0.000 ChangeCounter.ipynb:145(update_changes)\n",
      "    58525    0.005    0.000    0.005    0.000 configparser.py:383(before_get)\n",
      "     5685    0.003    0.000    0.005    0.000 base.py:186(hexsha)\n",
      "     4230    0.002    0.000    0.005    0.000 contextlib.py:481(_exit_wrapper)\n",
      "    67716    0.005    0.000    0.005    0.000 util.py:204(dst)\n",
      "    43817    0.005    0.000    0.005    0.000 symbolic.py:76(__init__)\n",
      "    29418    0.005    0.000    0.005    0.000 base.py:370(working_tree_dir)\n",
      "    26825    0.005    0.000    0.005    0.000 {method 'get' of 'dict' objects}\n",
      "    16129    0.005    0.000    0.005    0.000 {method 'pop' of 'list' objects}\n",
      "      105    0.000    0.000    0.005    0.000 _local.py:539(read_text)\n",
      "    29314    0.005    0.000    0.005    0.000 util.py:303(to_native_path_linux)\n",
      "     6841    0.003    0.000    0.005    0.000 threading.py:318(_is_owned)\n",
      "    16013    0.005    0.000    0.005    0.000 {method 'read' of '_io.BytesIO' objects}\n",
      "    52195    0.004    0.000    0.004    0.000 util.py:198(utcoffset)\n",
      "      105    0.000    0.000    0.004    0.000 _abc.py:628(read_text)\n",
      "    17480    0.004    0.000    0.004    0.000 {method 'strip' of 'bytes' objects}\n",
      "     2714    0.003    0.000    0.004    0.000 _weakrefset.py:39(_remove)\n",
      "     4128    0.004    0.000    0.004    0.000 {method 'add' of 'set' objects}\n",
      "     8363    0.004    0.000    0.004    0.000 {method 'append' of 'collections.deque' objects}\n",
      "      105    0.000    0.000    0.004    0.000 _local.py:529(open)\n",
      "     1411    0.002    0.000    0.004    0.000 contextlib.py:108(__init__)\n",
      "     1470    0.004    0.000    0.004    0.000 {built-in method posix.stat}\n",
      "     1408    0.002    0.000    0.004    0.000 conf.py:272(is_commit_filtered)\n",
      "    15521    0.004    0.000    0.004    0.000 {method 'end' of 're.Match' objects}\n",
      "    32026    0.004    0.000    0.004    0.000 util.py:797(__init__)\n",
      "     1408    0.001    0.000    0.004    0.000 commit.py:569(author)\n",
      "     5632    0.004    0.000    0.004    0.000 {method '__enter__' of '_thread.RLock' objects}\n",
      "        1    0.000    0.000    0.004    0.004 git.py:39(__init__)\n",
      "     1387    0.003    0.000    0.004    0.000 parse.py:119(_coerce_args)\n",
      "        1    0.000    0.000    0.003    0.003 git.py:86(_open_repository)\n",
      "     1408    0.001    0.000    0.003    0.000 _base.py:328(__init__)\n",
      "    13570    0.003    0.000    0.003    0.000 {built-in method _thread.get_ident}\n",
      "     1048    0.001    0.000    0.003    0.000 <frozen genericpath>:48(isdir)\n",
      "     1408    0.002    0.000    0.003    0.000 commit.py:560(hash)\n",
      "      107    0.000    0.000    0.003    0.000 _local.py:166(__fspath__)\n",
      "     1408    0.001    0.000    0.003    0.000 _base.py:537(set_result)\n",
      "    37479    0.003    0.000    0.003    0.000 _local.py:307(_tail)\n",
      "     2710    0.002    0.000    0.003    0.000 threading.py:1162(daemon)\n",
      "    14711    0.002    0.000    0.003    0.000 config.py:378(_acquire_lock)\n",
      "     1723    0.001    0.000    0.003    0.000 __init__.py:1500(debug)\n",
      "    14166    0.003    0.000    0.003    0.000 {method 'start' of 're.Match' objects}\n",
      "     1461    0.001    0.000    0.003    0.000 commit.py:670(parents)\n",
      "    37480    0.003    0.000    0.003    0.000 _local.py:298(root)\n",
      "     2710    0.001    0.000    0.003    0.000 base.py:178(__str__)\n",
      "    25380    0.003    0.000    0.003    0.000 {method 'endswith' of 'bytes' objects}\n",
      "     1408    0.001    0.000    0.003    0.000 _base.py:364(cancel)\n",
      "    14605    0.003    0.000    0.003    0.000 fun.py:219(to_commit)\n",
      "    13774    0.003    0.000    0.003    0.000 {method '__exit__' of '_thread.RLock' objects}\n",
      "     2711    0.002    0.000    0.003    0.000 encoding.py:1(force_bytes)\n",
      "       24    0.000    0.000    0.003    0.000 events.py:87(_run)\n",
      "     9875    0.002    0.000    0.002    0.000 {method 'replace' of 'str' objects}\n",
      "     1410    0.002    0.000    0.002    0.000 {method 'remove' of 'list' objects}\n",
      "    15521    0.002    0.000    0.002    0.000 commit.py:155(__init__)\n",
      "       24    0.000    0.000    0.002    0.000 {method 'run' of '_contextvars.Context' objects}\n",
      "     1410    0.002    0.000    0.002    0.000 <frozen _collections_abc>:823(keys)\n",
      "     1410    0.002    0.000    0.002    0.000 {built-in method sys.exception}\n",
      "    14605    0.002    0.000    0.002    0.000 util.py:1180(__init__)\n",
      "     4109    0.001    0.000    0.002    0.000 threading.py:315(_acquire_restore)\n",
      "     2716    0.002    0.000    0.002    0.000 subprocess.py:1249(poll)\n",
      "    14711    0.002    0.000    0.002    0.000 {built-in method builtins.iter}\n",
      "     4109    0.001    0.000    0.002    0.000 threading.py:312(_release_save)\n",
      "     1410    0.002    0.000    0.002    0.000 {built-in method builtins.sorted}\n",
      "    14711    0.002    0.000    0.002    0.000 configparser.py:1224(converters)\n",
      "     4230    0.002    0.000    0.002    0.000 {method 'pop' of 'collections.deque' objects}\n",
      "     2711    0.001    0.000    0.002    0.000 cmd.py:994(__getattr__)\n",
      "     2714    0.001    0.000    0.002    0.000 threading.py:1020(_set_ident)\n",
      "     1358    0.001    0.000    0.002    0.000 subprocess.py:1978(_handle_exitstatus)\n",
      "      315    0.001    0.000    0.002    0.000 util.py:525(expand_path)\n",
      "6854/6382    0.002    0.000    0.002    0.000 {method '__enter__' of '_thread.lock' objects}\n",
      "     5428    0.002    0.000    0.002    0.000 threading.py:1147(daemon)\n",
      "    14709    0.002    0.000    0.002    0.000 base.py:388(bare)\n",
      "    16929    0.002    0.000    0.002    0.000 developer.py:27(__init__)\n",
      "      313    0.000    0.000    0.002    0.000 cmd.py:891(is_cygwin)\n",
      "     1466    0.001    0.000    0.002    0.000 cmd.py:299(dashify)\n",
      "     1410    0.002    0.000    0.002    0.000 contextlib.py:568(__enter__)\n",
      "     1408    0.001    0.000    0.001    0.000 _base.py:497(set_running_or_notify_cancel)\n",
      "      105    0.000    0.000    0.001    0.000 configparser.py:857(getboolean)\n",
      "     2714    0.001    0.000    0.001    0.000 {method 'discard' of 'set' objects}\n",
      "    11042    0.001    0.000    0.001    0.000 {method '__exit__' of '_thread.lock' objects}\n",
      "      313    0.001    0.000    0.001    0.000 util.py:492(is_cygwin_git)\n",
      "     1358    0.001    0.000    0.001    0.000 subprocess.py:1133(__del__)\n",
      "     2714    0.001    0.000    0.001    0.000 threading.py:1024(_set_native_id)\n",
      "     5475    0.001    0.000    0.001    0.000 {method 'insert' of 'list' objects}\n",
      "      105    0.000    0.000    0.001    0.000 configparser.py:836(_get_conv)\n",
      "     1410    0.001    0.000    0.001    0.000 warnings.py:509(__exit__)\n",
      "     4109    0.001    0.000    0.001    0.000 {method 'remove' of 'collections.deque' objects}\n",
      "    10870    0.001    0.000    0.001    0.000 threading.py:605(is_set)\n",
      "      105    0.000    0.000    0.001    0.000 configparser.py:833(_get)\n",
      "       11    0.000    0.000    0.001    0.000 iostream.py:118(_run_event_pipe_gc)\n",
      "     5652    0.001    0.000    0.001    0.000 {method 'items' of 'dict' objects}\n",
      "     1410    0.001    0.000    0.001    0.000 cmd.py:1483(transform_kwargs)\n",
      "      105    0.000    0.000    0.001    0.000 __init__.py:174(search)\n",
      "      105    0.000    0.000    0.001    0.000 <frozen genericpath>:16(exists)\n",
      "     1387    0.001    0.000    0.001    0.000 <string>:1(<lambda>)\n",
      "        3    0.000    0.000    0.001    0.000 config.py:717(write)\n",
      "     5420    0.001    0.000    0.001    0.000 diff.py:235(<genexpr>)\n",
      "      105    0.000    0.000    0.001    0.000 db.py:34(__init__)\n",
      "     5428    0.001    0.000    0.001    0.000 threading.py:1112(ident)\n",
      "        1    0.000    0.000    0.001    0.001 base.py:696(config_writer)\n",
      "      105    0.001    0.000    0.001    0.000 __init__.py:330(_compile)\n",
      "      317    0.000    0.000    0.001    0.000 <frozen genericpath>:36(isfile)\n",
      "     1387    0.001    0.000    0.001    0.000 {method 'find' of 'str' objects}\n",
      "      2/1    0.000    0.000    0.001    0.001 config.py:127(flush_changes)\n",
      "     4230    0.001    0.000    0.001    0.000 {built-in method _warnings._filters_mutated}\n",
      "        4    0.000    0.000    0.001    0.000 util.py:1058(_obtain_lock)\n",
      "        4    0.000    0.000    0.001    0.000 util.py:1034(_obtain_lock_or_raise)\n",
      "        2    0.000    0.000    0.001    0.000 zmqstream.py:573(_handle_events)\n",
      "      105    0.000    0.000    0.001    0.000 _local.py:148(__truediv__)\n",
      "     1410    0.001    0.000    0.001    0.000 subprocess.py:274(_cleanup)\n",
      "     4109    0.001    0.000    0.001    0.000 {built-in method _thread.allocate_lock}\n",
      "      105    0.000    0.000    0.001    0.000 cmd.py:964(__init__)\n",
      "     1410    0.001    0.000    0.001    0.000 {method 'rfind' of 'bytes' objects}\n",
      "     1408    0.000    0.000    0.001    0.000 git.py:140(get_commit_from_gitpython)\n",
      "        1    0.000    0.000    0.001    0.001 asyncio.py:206(_handle_events)\n",
      "     4074    0.001    0.000    0.001    0.000 subprocess.py:1987(_internal_poll)\n",
      "     1410    0.001    0.000    0.001    0.000 cmd.py:335(__init__)\n",
      "        2    0.000    0.000    0.001    0.000 zmqstream.py:614(_handle_recv)\n",
      "     1049    0.001    0.000    0.001    0.000 {built-in method posix._path_normpath}\n",
      "       22    0.000    0.000    0.001    0.000 tasks.py:703(sleep)\n",
      "        1    0.000    0.000    0.001    0.001 config.py:873(set_value)\n",
      "     2710    0.001    0.000    0.001    0.000 {built-in method _thread.daemon_threads_allowed}\n",
      "     1410    0.001    0.000    0.001    0.000 warnings.py:462(__init__)\n",
      "      105    0.000    0.000    0.001    0.000 loose.py:77(__init__)\n",
      "        2    0.000    0.000    0.001    0.000 zmqstream.py:546(_run_callback)\n",
      "     1618    0.000    0.000    0.000    0.000 {method 'rfind' of 'str' objects}\n",
      "      315    0.000    0.000    0.000    0.000 <frozen posixpath>:376(abspath)\n",
      "      107    0.000    0.000    0.000    0.000 _abc.py:130(with_segments)\n",
      "      105    0.000    0.000    0.000    0.000 <frozen _collections_abc>:815(__contains__)\n",
      "     1464    0.000    0.000    0.000    0.000 {method 'update' of 'dict' objects}\n",
      "     2732    0.000    0.000    0.000    0.000 {method 'is_done' of '_thread._ThreadHandle' objects}\n",
      "      104    0.000    0.000    0.000    0.000 base.py:288(abspath)\n",
      "        2    0.000    0.000    0.000    0.000 iostream.py:157(_handle_event)\n",
      "     2714    0.000    0.000    0.000    0.000 {built-in method _thread.get_native_id}\n",
      "     1408    0.000    0.000    0.000    0.000 threading.py:122(RLock)\n",
      "        2    0.000    0.000    0.000    0.000 iostream.py:276(<lambda>)\n",
      "     1408    0.000    0.000    0.000    0.000 _base.py:398(__get_result)\n",
      "     1387    0.000    0.000    0.000    0.000 {method 'lstrip' of 'str' objects}\n",
      "     1515    0.000    0.000    0.000    0.000 {method 'pop' of 'dict' objects}\n",
      "     1410    0.000    0.000    0.000    0.000 {built-in method sys.audit}\n",
      "       11    0.000    0.000    0.000    0.000 futures.py:310(_set_result_unless_cancelled)\n",
      "     1358    0.000    0.000    0.000    0.000 {built-in method posix.WIFSTOPPED}\n",
      "     2820    0.000    0.000    0.000    0.000 subprocess.py:1327(_on_error_fd_closer)\n",
      "        3    0.000    0.000    0.000    0.000 config.py:671(_write)\n",
      "      106    0.000    0.000    0.000    0.000 base.py:631(_get_config_path)\n",
      "       11    0.000    0.000    0.000    0.000 {method 'set_result' of '_asyncio.Future' objects}\n",
      "       11    0.000    0.000    0.000    0.000 iostream.py:127(_event_pipe_gc)\n",
      "       45    0.000    0.000    0.000    0.000 config.py:675(write_section)\n",
      "      315    0.000    0.000    0.000    0.000 <frozen posixpath>:229(expanduser)\n",
      "     1387    0.000    0.000    0.000    0.000 parse.py:421(_checknetloc)\n",
      "     2837    0.000    0.000    0.000    0.000 {built-in method time.monotonic}\n",
      "       12    0.000    0.000    0.000    0.000 base_events.py:823(call_soon)\n",
      "     1358    0.000    0.000    0.000    0.000 {built-in method posix.waitstatus_to_exitcode}\n",
      "      208    0.000    0.000    0.000    0.000 <frozen posixpath>:61(isabs)\n",
      "     1413    0.000    0.000    0.000    0.000 {method 'put' of '_queue.SimpleQueue' objects}\n",
      "        1    0.000    0.000    0.000    0.000 config.py:410(release)\n",
      "      105    0.000    0.000    0.000    0.000 base.py:113(__init__)\n",
      "      315    0.000    0.000    0.000    0.000 <frozen posixpath>:290(expandvars)\n",
      "       12    0.000    0.000    0.000    0.000 base_events.py:852(_call_soon)\n",
      "     1410    0.000    0.000    0.000    0.000 <frozen _collections_abc>:850(__init__)\n",
      "      104    0.000    0.000    0.000    0.000 base.py:351(__ne__)\n",
      "       58    0.000    0.000    0.000    0.000 cmd.py:1467(transform_kwarg)\n",
      "     1355    0.000    0.000    0.000    0.000 diff.py:172(_process_diff_args)\n",
      "      105    0.000    0.000    0.000    0.000 configparser.py:1196(_convert_to_boolean)\n",
      "       11    0.000    0.000    0.000    0.000 base_events.py:781(call_later)\n",
      "     1412    0.000    0.000    0.000    0.000 {method 'get_nowait' of '_queue.SimpleQueue' objects}\n",
      "        1    0.000    0.000    0.000    0.000 {method 'disable' of '_lsprof.Profiler' objects}\n",
      "        1    0.000    0.000    0.000    0.000 git.py:92(_discover_main_branch)\n",
      "      102    0.000    0.000    0.000    0.000 {built-in method posix.getppid}\n",
      "     1408    0.000    0.000    0.000    0.000 _base.py:337(_invoke_callbacks)\n",
      "     1387    0.000    0.000    0.000    0.000 parse.py:108(_noop)\n",
      "     1408    0.000    0.000    0.000    0.000 thread.py:48(__init__)\n",
      "        1    0.000    0.000    0.000    0.000 base.py:1043(active_branch)\n",
      "      943    0.000    0.000    0.000    0.000 {built-in method _stat.S_ISDIR}\n",
      "      963    0.000    0.000    0.000    0.000 ChangeCounter.ipynb:155(update_elems)\n",
      "        2    0.000    0.000    0.000    0.000 iostream.py:278(_really_send)\n",
      "     1408    0.000    0.000    0.000    0.000 commit.py:536(__init__)\n",
      "       47    0.000    0.000    0.000    0.000 base_events.py:772(time)\n",
      "        1    0.000    0.000    0.000    0.000 symbolic.py:504(reference)\n",
      "        1    0.000    0.000    0.000    0.000 symbolic.py:407(_get_reference)\n",
      "        2    0.000    0.000    0.000    0.000 socket.py:700(send_multipart)\n",
      "       23    0.000    0.000    0.000    0.000 events.py:36(__init__)\n",
      "       11    0.000    0.000    0.000    0.000 base_events.py:805(call_at)\n",
      "       11    0.000    0.000    0.000    0.000 base_events.py:457(create_future)\n",
      "        4    0.000    0.000    0.000    0.000 attrsettr.py:43(__getattr__)\n",
      "       11    0.000    0.000    0.000    0.000 events.py:157(cancel)\n",
      "     1408    0.000    0.000    0.000    0.000 {method '_is_owned' of '_thread.RLock' objects}\n",
      "        8    0.000    0.000    0.000    0.000 {built-in method posix.lstat}\n",
      "        4    0.000    0.000    0.000    0.000 attrsettr.py:66(_get_attr_opt)\n",
      "       45    0.000    0.000    0.000    0.000 config.py:242(items_all)\n",
      "       88    0.000    0.000    0.000    0.000 config.py:868(_value_to_string)\n",
      "        2    0.000    0.000    0.000    0.000 zmqstream.py:653(_rebuild_io_state)\n",
      "    18/14    0.000    0.000    0.000    0.000 threading.py:519(release)\n",
      "        1    0.000    0.000    0.000    0.000 ioloop.py:750(_run_callback)\n",
      "        1    0.000    0.000    0.000    0.000 zmqstream.py:684(<lambda>)\n",
      "        2    0.000    0.000    0.000    0.000 _local.py:664(resolve)\n",
      "       14    0.000    0.000    0.000    0.000 socket.py:623(send)\n",
      "        1    0.000    0.000    0.000    0.000 util.py:1065(_release_lock)\n",
      "       11    0.000    0.000    0.000    0.000 events.py:113(__init__)\n",
      "        1    0.000    0.000    0.000    0.000 util.py:245(rmfile)\n",
      "        1    0.000    0.000    0.000    0.000 conf.py:85(sanity_check_filters)\n",
      "        2    0.000    0.000    0.000    0.000 zmqstream.py:676(_update_handler)\n",
      "      104    0.000    0.000    0.000    0.000 base.py:346(__eq__)\n",
      "        1    0.000    0.000    0.000    0.000 {built-in method posix.remove}\n",
      "      132    0.000    0.000    0.000    0.000 config.py:235(getall)\n",
      "        2    0.000    0.000    0.000    0.000 <frozen posixpath>:391(realpath)\n",
      "        1    0.000    0.000    0.000    0.000 symbolic.py:886(from_path)\n",
      "       14    0.000    0.000    0.000    0.000 enum.py:1596(__or__)\n",
      "       11    0.000    0.000    0.000    0.000 {built-in method _heapq.heappop}\n",
      "        1    0.000    0.000    0.000    0.000 repository.py:44(__init__)\n",
      "      210    0.000    0.000    0.000    0.000 {built-in method _io.text_encoding}\n",
      "       60    0.000    0.000    0.000    0.000 enum.py:1589(_get_value)\n",
      "        1    0.000    0.000    0.000    0.000 conf.py:302(_check_timezones)\n",
      "      211    0.000    0.000    0.000    0.000 {built-in method _stat.S_ISREG}\n",
      "        3    0.000    0.000    0.000    0.000 config.py:238(items)\n",
      "        2    0.000    0.000    0.000    0.000 subprocess.py:2224(terminate)\n",
      "        2    0.000    0.000    0.000    0.000 _local.py:800(expanduser)\n",
      "        2    0.000    0.000    0.000    0.000 subprocess.py:2192(send_signal)\n",
      "        1    0.000    0.000    0.000    0.000 conf.py:310(_replace_timezone)\n",
      "        2    0.000    0.000    0.000    0.000 socket.py:771(recv_multipart)\n",
      "        1    0.000    0.000    0.000    0.000 thread.py:127(__init__)\n",
      "       59    0.000    0.000    0.000    0.000 {method 'find' of 'bytes' objects}\n",
      "        1    0.000    0.000    0.000    0.000 conf.py:26(__init__)\n",
      "       88    0.000    0.000    0.000    0.000 encoding.py:11(force_text)\n",
      "        6    0.000    0.000    0.000    0.000 enum.py:1607(__and__)\n",
      "       26    0.000    0.000    0.000    0.000 enum.py:695(__call__)\n",
      "      107    0.000    0.000    0.000    0.000 {built-in method builtins.issubclass}\n",
      "       59    0.000    0.000    0.000    0.000 {method 'rstrip' of 'bytes' objects}\n",
      "        1    0.000    0.000    0.000    0.000 conf.py:202(build_args)\n",
      "        2    0.000    0.000    0.000    0.000 {built-in method posix.kill}\n",
      "       11    0.000    0.000    0.000    0.000 {built-in method math.isnan}\n",
      "        4    0.000    0.000    0.000    0.000 weakref.py:369(remove)\n",
      "        1    0.000    0.000    0.000    0.000 {method 'replace' of 'datetime.datetime' objects}\n",
      "       24    0.000    0.000    0.000    0.000 selector_events.py:740(_process_events)\n",
      "       11    0.000    0.000    0.000    0.000 events.py:73(cancel)\n",
      "        1    0.000    0.000    0.000    0.000 conf.py:72(_check_only_one_from_commit)\n",
      "      105    0.000    0.000    0.000    0.000 base.py:70(__init__)\n",
      "       26    0.000    0.000    0.000    0.000 enum.py:1156(__new__)\n",
      "        2    0.000    0.000    0.000    0.000 typing.py:1374(__instancecheck__)\n",
      "        2    0.000    0.000    0.000    0.000 {method 'close' of '_io.BufferedWriter' objects}\n",
      "        1    0.000    0.000    0.000    0.000 asyncio.py:231(add_callback)\n",
      "        1    0.000    0.000    0.000    0.000 threading.py:461(__init__)\n",
      "        2    0.000    0.000    0.000    0.000 typing.py:1665(__subclasscheck__)\n",
      "        1    0.000    0.000    0.000    0.000 reference.py:54(__init__)\n",
      "       12    0.000    0.000    0.000    0.000 {built-in method _contextvars.copy_context}\n",
      "        1    0.000    0.000    0.000    0.000 git.py:343(__del__)\n",
      "        2    0.000    0.000    0.000    0.000 zmqstream.py:532(sending)\n",
      "       24    0.000    0.000    0.000    0.000 {built-in method builtins.max}\n",
      "       26    0.000    0.000    0.000    0.000 {method 'popleft' of 'collections.deque' objects}\n",
      "       45    0.000    0.000    0.000    0.000 base_events.py:2060(get_debug)\n",
      "       11    0.000    0.000    0.000    0.000 {built-in method _heapq.heappush}\n",
      "        4    0.000    0.000    0.000    0.000 typing.py:1443(__hash__)\n",
      "        4    0.000    0.000    0.000    0.000 weakref.py:427(__setitem__)\n",
      "        1    0.000    0.000    0.000    0.000 _local.py:346(name)\n",
      "        2    0.000    0.000    0.000    0.000 queue.py:115(empty)\n",
      "        1    0.000    0.000    0.000    0.000 util.py:1013(__init__)\n",
      "       11    0.000    0.000    0.000    0.000 {method 'cancelled' of '_asyncio.Future' objects}\n",
      "        1    0.000    0.000    0.000    0.000 configparser.py:922(set)\n",
      "        2    0.000    0.000    0.000    0.000 iostream.py:216(_check_mp_mode)\n",
      "        2    0.000    0.000    0.000    0.000 repository.py:154(_is_remote)\n",
      "        2    0.000    0.000    0.000    0.000 <frozen abc>:121(__subclasscheck__)\n",
      "        2    0.000    0.000    0.000    0.000 iostream.py:213(_is_master_process)\n",
      "       12    0.000    0.000    0.000    0.000 {built-in method _asyncio.get_running_loop}\n",
      "        1    0.000    0.000    0.000    0.000 conf.py:79(_check_only_one_to_commit)\n",
      "       23    0.000    0.000    0.000    0.000 base_events.py:554(_check_closed)\n",
      "        8    0.000    0.000    0.000    0.000 conf.py:43(set_value)\n",
      "        1    0.000    0.000    0.000    0.000 __init__.py:230(utcoffset)\n",
      "        1    0.000    0.000    0.000    0.000 base_events.py:1947(_add_callback)\n",
      "        1    0.000    0.000    0.000    0.000 reference.py:120(name)\n",
      "        2    0.000    0.000    0.000    0.000 util.py:1020(_lock_file_path)\n",
      "        2    0.000    0.000    0.000    0.000 conf.py:192(only_one_filter)\n",
      "       11    0.000    0.000    0.000    0.000 base_events.py:1957(_timer_handle_cancelled)\n",
      "        8    0.000    0.000    0.000    0.000 {built-in method _stat.S_ISLNK}\n",
      "        1    0.000    0.000    0.000    0.000 conf.py:175(get_ending_commit)\n",
      "        1    0.000    0.000    0.000    0.000 conf.py:61(_sanity_check_repos)\n",
      "        3    0.000    0.000    0.000    0.000 config.py:763(_assure_writable)\n",
      "        4    0.000    0.000    0.000    0.000 {method 'upper' of 'str' objects}\n",
      "        1    0.000    0.000    0.000    0.000 {method 'reverse' of 'list' objects}\n",
      "        1    0.000    0.000    0.000    0.000 conf.py:151(get_starting_commit)\n",
      "        1    0.000    0.000    0.000    0.000 conf.py:123(_check_correct_filters_order)\n",
      "        2    0.000    0.000    0.000    0.000 queue.py:267(_qsize)\n",
      "        2    0.000    0.000    0.000    0.000 {built-in method _abc._abc_subclasscheck}\n",
      "        1    0.000    0.000    0.000    0.000 {method 'isascii' of 'str' objects}\n",
      "        3    0.000    0.000    0.000    0.000 git.py:63(repo)\n",
      "        6    0.000    0.000    0.000    0.000 util.py:1024(_has_lock)\n",
      "        4    0.000    0.000    0.000    0.000 zmqstream.py:528(receiving)\n",
      "        4    0.000    0.000    0.000    0.000 {built-in method builtins.hash}\n",
      "        2    0.000    0.000    0.000    0.000 iostream.py:255(closed)\n",
      "        4    0.000    0.000    0.000    0.000 config.py:771(read_only)\n",
      "        1    0.000    0.000    0.000    0.000 {method 'isalpha' of 'str' objects}\n",
      "        1    0.000    0.000    0.000    0.000 configparser.py:702(has_section)\n",
      "        2    0.000    0.000    0.000    0.000 {built-in method posix.getpid}\n",
      "        1    0.000    0.000    0.000    0.000 <frozen codecs>:189(__init__)\n",
      "        1    0.000    0.000    0.000    0.000 configparser.py:386(before_set)\n",
      "        1    0.000    0.000    0.000    0.000 _base.py:643(__enter__)\n",
      "\n",
      "\n"
     ]
    }
   ],
   "source": [
    "cProfile.run('debuggingbook_change_counter(ChangeCounter)', sort='cumulative')"
   ]
  },
  {
   "attachments": {},
   "cell_type": "markdown",
   "metadata": {
    "slideshow": {
     "slide_type": "subslide"
    }
   },
   "source": [
    "Yes, that's an awful lot of functions, but we can quickly narrow things down. The `cumtime` column is sorted by largest values first. We see that the `debuggingbook_change_counter()` method at the top takes up all the time – but this is not surprising, since it is the method we called in the first place. This calls a method `mine()` in the `ChangeCounter` class, which does all the work."
   ]
  },
  {
   "cell_type": "markdown",
   "metadata": {
    "slideshow": {
     "slide_type": "fragment"
    }
   },
   "source": [
    "The next places are more interesting: almost all time is spent in a single method, named `modifications()`. This method determines the difference between two versions, which is an expensive operation; this is also supported by the observation that half of the time is spent in a `diff()` method."
   ]
  },
  {
   "cell_type": "markdown",
   "metadata": {
    "slideshow": {
     "slide_type": "subslide"
    }
   },
   "source": [
    "This profile thus already gets us a hint on how to improve performance: Rather than computing the diff between versions for _every_ version, we could do so _on demand_ (and possibly cache results so we don't have to compute them twice). Alas, this (slow) functionality is part of the \n",
    "underlying [PyDriller](https://pydriller.readthedocs.io/) Python package, so we cannot fix this within the `ChangeCounter` class. But we could file a bug with the developers, suggesting a patch to improve performance."
   ]
  },
  {
   "cell_type": "markdown",
   "metadata": {
    "slideshow": {
     "slide_type": "subslide"
    }
   },
   "source": [
    "### Sampling Execution Profiles\n",
    "\n",
    "Instrumenting code is _precise_, but it is also _slow_. An alternate way to measure performance is to _sample_ in regular intervals which functions are currently active – for instance, by examining the current function call stack. The more frequently a function is sampled as active, the more time is spent in that function."
   ]
  },
  {
   "cell_type": "markdown",
   "metadata": {
    "slideshow": {
     "slide_type": "subslide"
    }
   },
   "source": [
    "One profiler for Python that implements such sampling is [Scalene](https://github.com/plasma-umass/scalene) – a high-performance, high-precision CPU, GPU, and memory profiler for Python. We can invoke it on our example as follows:\n",
    "\n",
    "```sh\n",
    "$ scalene --html test.py > scalene-out.html\n",
    "```"
   ]
  },
  {
   "cell_type": "markdown",
   "metadata": {
    "slideshow": {
     "slide_type": "fragment"
    }
   },
   "source": [
    "where `test.py` is a script that again invokes\n",
    "\n",
    "```python\n",
    "debuggingbook_change_counter(ChangeCounter)\n",
    "```"
   ]
  },
  {
   "attachments": {},
   "cell_type": "markdown",
   "metadata": {
    "slideshow": {
     "slide_type": "subslide"
    }
   },
   "source": [
    "The output of `scalene` is sent to a HTML file (here, `scalene-out.html`) which is organized by _lines_ – that is, for each line, we see how much it contributed to overall execution time. Opening the output `scalene-out.html` in a HTML browser, we see these lines:"
   ]
  },
  {
   "cell_type": "markdown",
   "metadata": {
    "slideshow": {
     "slide_type": "fragment"
    }
   },
   "source": [
    "![](PICS/scalene-out.png)"
   ]
  },
  {
   "cell_type": "markdown",
   "metadata": {
    "slideshow": {
     "slide_type": "fragment"
    }
   },
   "source": [
    "As with `cProfile`, above, we identify the `mine()` method in the `ChangeCounter` class as the main performance hog – and in the `mine()` method, it is the iteration over all modifications that takes all the time. Adding the option `--profile-all` to `scalene` would extend the profile to all executed code, including the `pydriller` third-party library."
   ]
  },
  {
   "cell_type": "markdown",
   "metadata": {
    "slideshow": {
     "slide_type": "fragment"
    }
   },
   "source": [
    "Besides relying on sampling rather that tracing (which is more efficient) and breaking down execution time by line, `scalene` also provides additional information on memory usage and more. If `cProfile` is not sufficient, then `scalene` will bring profiling to the next level."
   ]
  },
  {
   "cell_type": "markdown",
   "metadata": {
    "slideshow": {
     "slide_type": "slide"
    }
   },
   "source": [
    "## Improving Performance"
   ]
  },
  {
   "cell_type": "markdown",
   "metadata": {
    "slideshow": {
     "slide_type": "fragment"
    }
   },
   "source": [
    "Identifying a culprit is not always that easy. Notably, when the first set of obvious performance hogs is fixed, it becomes more and more difficult to squeeze out additional performance – and, as stated above, such optimization may be in conflict with readability and maintainability of your code. Here are some simple ways to improve performance:"
   ]
  },
  {
   "cell_type": "markdown",
   "metadata": {
    "slideshow": {
     "slide_type": "subslide"
    }
   },
   "source": [
    "* **Efficient algorithms**. For many tasks, the simplest algorithm is not always the best performing one. Consider alternatives that may be more efficient, and _measure_ whether they pay off.\n",
    "\n",
    "* **Efficient data types**. Remember that certain operations, such as looking up whether an element is contained, may take different amounts of time depending on the data structure. In Python, a query like `x in xs` takes (mostly) constant time if `xs` is a set, but linear time if `xs` is a list; these differences become significant as the size of `xs` grows.\n",
    "\n",
    "* **Efficient modules**. In Python, most frequently used modules (or at least parts of) are implemented in C, which is way more efficient than plain Python. Rely on existing modules whenever possible. Or implement your own, _after_ having measured that this may pay off."
   ]
  },
  {
   "cell_type": "markdown",
   "metadata": {
    "slideshow": {
     "slide_type": "subslide"
    }
   },
   "source": [
    "These are all things you can already use during programming – and also set up your code such that exchanging, say, one data type by another will still be possible later. This is best achieved by hiding implementation details (such as the used data types) behind an abstract interface used by your clients."
   ]
  },
  {
   "cell_type": "markdown",
   "metadata": {
    "slideshow": {
     "slide_type": "fragment"
    }
   },
   "source": [
    "But beyond these points, remember the famous words by [Donald E. Knuth](https://en.wikipedia.org/wiki/Donald_Knuth):"
   ]
  },
  {
   "cell_type": "code",
   "execution_count": 10,
   "metadata": {
    "execution": {
     "iopub.execute_input": "2025-10-26T17:54:55.341894Z",
     "iopub.status.busy": "2025-10-26T17:54:55.341754Z",
     "iopub.status.idle": "2025-10-26T17:54:55.343942Z",
     "shell.execute_reply": "2025-10-26T17:54:55.343633Z"
    },
    "slideshow": {
     "slide_type": "skip"
    }
   },
   "outputs": [],
   "source": [
    "from bookutils import quiz"
   ]
  },
  {
   "cell_type": "code",
   "execution_count": 11,
   "metadata": {
    "execution": {
     "iopub.execute_input": "2025-10-26T17:54:55.345376Z",
     "iopub.status.busy": "2025-10-26T17:54:55.345269Z",
     "iopub.status.idle": "2025-10-26T17:54:55.350624Z",
     "shell.execute_reply": "2025-10-26T17:54:55.350389Z"
    },
    "slideshow": {
     "slide_type": "fragment"
    },
    "tags": [
     "remove-input"
    ]
   },
   "outputs": [
    {
     "data": {
      "text/html": [
       "\n",
       "    \n",
       "    <script>\n",
       "    var bad_answers = new Map();\n",
       "\n",
       "    function answer(quiz_id) {\n",
       "        ans = 0;\n",
       "        for (i = 1;; i++) {\n",
       "            checkbox = document.getElementById(quiz_id + \"-\" + i.toString());\n",
       "            if (!checkbox)\n",
       "                break;\n",
       "            if (checkbox.checked)\n",
       "                ans |= (1 << i);\n",
       "        }\n",
       "        return ans;\n",
       "    }\n",
       "    function check_selection(quiz_id, correct_answer, multiple_choice, hint) {\n",
       "        given_answer = answer(quiz_id);\n",
       "        if (given_answer == correct_answer)\n",
       "        {\n",
       "            document.getElementById(quiz_id + \"-submit\").value = \"Correct!\";\n",
       "            document.getElementById(quiz_id + \"-hint\").innerHTML = \"\";\n",
       "\n",
       "            for (i = 1;; i++) {\n",
       "                checkbox = document.getElementById(quiz_id + \"-\" + i.toString());\n",
       "                label = document.getElementById(quiz_id + \"-\" + i.toString() + \"-label\")\n",
       "                if (!checkbox)\n",
       "                    break;\n",
       "\n",
       "                if (checkbox.checked) {\n",
       "                    label.style.fontWeight = \"bold\";\n",
       "                }\n",
       "                else {\n",
       "                    label.style.textDecoration = \"line-through\";\n",
       "                }\n",
       "            }\n",
       "        }\n",
       "        else \n",
       "        {\n",
       "            document.getElementById(quiz_id + \"-submit\").value = \"Try again\";\n",
       "\n",
       "            if (!bad_answers.has(quiz_id)) {\n",
       "                bad_answers.set(quiz_id, 1);\n",
       "            }\n",
       "            else {\n",
       "                bad_answers.set(quiz_id, bad_answers.get(quiz_id) + 1);\n",
       "            }\n",
       "\n",
       "            if (bad_answers.get(quiz_id) >= 2 && hint.length > 0) {\n",
       "                document.getElementById(quiz_id + \"-hint\").innerHTML = \n",
       "                    \"&nbsp;&nbsp;(Hint: <code>\" + hint + \"</code>)\";\n",
       "            }\n",
       "\n",
       "            if (!multiple_choice) {\n",
       "                for (i = 1;; i++) {\n",
       "                    checkbox = document.getElementById(quiz_id + \"-\" + i.toString());\n",
       "                    label = document.getElementById(quiz_id + \"-\" + i.toString() + \"-label\")\n",
       "\n",
       "                    if (!checkbox)\n",
       "                        break;\n",
       "                    if (checkbox.checked) {\n",
       "                        label.style.textDecoration = \"line-through\";\n",
       "                    }\n",
       "                }\n",
       "            }\n",
       "        }\n",
       "    }\n",
       "    function clear_selection(quiz_id) {\n",
       "        document.getElementById(quiz_id + \"-submit\").value = \"Submit\";\n",
       "        document.getElementById(quiz_id + \"-hint\").innerHTML = \"\";\n",
       "    }\n",
       "    </script>\n",
       "    \n",
       "    <div class=\"quiz\">\n",
       "    <h3 class=\"quiz_title\">Quiz</h3>\n",
       "    <p>\n",
       "    <div class=\"quiz_question\">Donald E. Knuth said: \"Premature optimization...\"</div>\n",
       "    </p>\n",
       "    <p>\n",
       "    <div class=\"quiz_options\" title=\"Pick a choice.\">\n",
       "    \n",
       "        <input type=\"radio\" name=\"e14f4c6c-b294-11f0-866d-6298cf1a5790\" id=\"e14f4c6c-b294-11f0-866d-6298cf1a5790-1\" onclick=\"clear_selection('e14f4c6c-b294-11f0-866d-6298cf1a5790')\">\n",
       "        <label id=\"e14f4c6c-b294-11f0-866d-6298cf1a5790-1-label\" for=\"e14f4c6c-b294-11f0-866d-6298cf1a5790-1\">... is the root of all evil</label><br>\n",
       "    \n",
       "        <input type=\"radio\" name=\"e14f4c6c-b294-11f0-866d-6298cf1a5790\" id=\"e14f4c6c-b294-11f0-866d-6298cf1a5790-2\" onclick=\"clear_selection('e14f4c6c-b294-11f0-866d-6298cf1a5790')\">\n",
       "        <label id=\"e14f4c6c-b294-11f0-866d-6298cf1a5790-2-label\" for=\"e14f4c6c-b294-11f0-866d-6298cf1a5790-2\">... requires lots of experience</label><br>\n",
       "    \n",
       "        <input type=\"radio\" name=\"e14f4c6c-b294-11f0-866d-6298cf1a5790\" id=\"e14f4c6c-b294-11f0-866d-6298cf1a5790-3\" onclick=\"clear_selection('e14f4c6c-b294-11f0-866d-6298cf1a5790')\">\n",
       "        <label id=\"e14f4c6c-b294-11f0-866d-6298cf1a5790-3-label\" for=\"e14f4c6c-b294-11f0-866d-6298cf1a5790-3\">... should be left to assembly programmers</label><br>\n",
       "    \n",
       "        <input type=\"radio\" name=\"e14f4c6c-b294-11f0-866d-6298cf1a5790\" id=\"e14f4c6c-b294-11f0-866d-6298cf1a5790-4\" onclick=\"clear_selection('e14f4c6c-b294-11f0-866d-6298cf1a5790')\">\n",
       "        <label id=\"e14f4c6c-b294-11f0-866d-6298cf1a5790-4-label\" for=\"e14f4c6c-b294-11f0-866d-6298cf1a5790-4\">... is the reason why TeX is so fast</label><br>\n",
       "    \n",
       "    </div>\n",
       "    </p>\n",
       "    <input id=\"e14f4c6c-b294-11f0-866d-6298cf1a5790-submit\" type=\"submit\" value=\"Submit\" onclick=\"check_selection('e14f4c6c-b294-11f0-866d-6298cf1a5790', 2, 0, 'len(&quot;METAFONT&quot;) - len(&quot;TeX&quot;) - len(&quot;CWEB&quot;)')\">\n",
       "    <span class=\"quiz_hint\" id=\"e14f4c6c-b294-11f0-866d-6298cf1a5790-hint\"></span>\n",
       "    </div>\n",
       "    "
      ],
      "text/plain": [
       "<IPython.core.display.HTML object>"
      ]
     },
     "execution_count": 11,
     "metadata": {},
     "output_type": "execute_result"
    }
   ],
   "source": [
    "quiz('Donald E. Knuth said: \"Premature optimization...\"',\n",
    "    [\n",
    "        \"... is the root of all evil\",\n",
    "        \"... requires lots of experience\",\n",
    "        \"... should be left to assembly programmers\",\n",
    "        \"... is the reason why TeX is so fast\",\n",
    "    ], 'len(\"METAFONT\") - len(\"TeX\") - len(\"CWEB\")')"
   ]
  },
  {
   "cell_type": "markdown",
   "metadata": {
    "slideshow": {
     "slide_type": "subslide"
    }
   },
   "source": [
    "This quote should always remind us that after a good design, you should always _first_ measure and _then_ optimize."
   ]
  },
  {
   "cell_type": "markdown",
   "metadata": {
    "slideshow": {
     "slide_type": "slide"
    }
   },
   "source": [
    "## Building a Profiler\n",
    "\n",
    "Having discussed profilers from a _user_ perspective, let us now dive into how they are actually implemented. It turns out we can use most of our existing infrastructure to implement a simple tracing profiler with only a few lines of code."
   ]
  },
  {
   "cell_type": "markdown",
   "metadata": {
    "slideshow": {
     "slide_type": "fragment"
    }
   },
   "source": [
    "The program we will apply our profiler on is – surprise! – our ongoing example, `remove_html_markup()`. Our aim is to understand how much time is spent _in each line of the code_ (such that we have a new feature on top of Python `cProfile`)."
   ]
  },
  {
   "cell_type": "code",
   "execution_count": 12,
   "metadata": {
    "execution": {
     "iopub.execute_input": "2025-10-26T17:54:55.352206Z",
     "iopub.status.busy": "2025-10-26T17:54:55.352110Z",
     "iopub.status.idle": "2025-10-26T17:54:55.353618Z",
     "shell.execute_reply": "2025-10-26T17:54:55.353314Z"
    },
    "slideshow": {
     "slide_type": "skip"
    }
   },
   "outputs": [],
   "source": [
    "from Intro_Debugging import remove_html_markup"
   ]
  },
  {
   "cell_type": "code",
   "execution_count": 13,
   "metadata": {
    "execution": {
     "iopub.execute_input": "2025-10-26T17:54:55.354923Z",
     "iopub.status.busy": "2025-10-26T17:54:55.354844Z",
     "iopub.status.idle": "2025-10-26T17:54:55.356344Z",
     "shell.execute_reply": "2025-10-26T17:54:55.356124Z"
    },
    "slideshow": {
     "slide_type": "fragment"
    },
    "tags": [
     "remove-input"
    ]
   },
   "outputs": [],
   "source": [
    "# ignore\n",
    "from typing import Any, Optional, Type, Dict, Tuple, List"
   ]
  },
  {
   "cell_type": "code",
   "execution_count": 14,
   "metadata": {
    "execution": {
     "iopub.execute_input": "2025-10-26T17:54:55.357620Z",
     "iopub.status.busy": "2025-10-26T17:54:55.357536Z",
     "iopub.status.idle": "2025-10-26T17:54:55.358886Z",
     "shell.execute_reply": "2025-10-26T17:54:55.358619Z"
    },
    "slideshow": {
     "slide_type": "fragment"
    },
    "tags": [
     "remove-input"
    ]
   },
   "outputs": [],
   "source": [
    "# ignore\n",
    "from bookutils import print_content"
   ]
  },
  {
   "cell_type": "code",
   "execution_count": 15,
   "metadata": {
    "execution": {
     "iopub.execute_input": "2025-10-26T17:54:55.360081Z",
     "iopub.status.busy": "2025-10-26T17:54:55.360006Z",
     "iopub.status.idle": "2025-10-26T17:54:55.361346Z",
     "shell.execute_reply": "2025-10-26T17:54:55.361144Z"
    },
    "slideshow": {
     "slide_type": "subslide"
    },
    "tags": [
     "remove-input"
    ]
   },
   "outputs": [],
   "source": [
    "# ignore\n",
    "import inspect"
   ]
  },
  {
   "cell_type": "code",
   "execution_count": 16,
   "metadata": {
    "execution": {
     "iopub.execute_input": "2025-10-26T17:54:55.362762Z",
     "iopub.status.busy": "2025-10-26T17:54:55.362660Z",
     "iopub.status.idle": "2025-10-26T17:54:55.481753Z",
     "shell.execute_reply": "2025-10-26T17:54:55.481497Z"
    },
    "slideshow": {
     "slide_type": "subslide"
    }
   },
   "outputs": [
    {
     "name": "stdout",
     "output_type": "stream",
     "text": [
      "238  \u001b[34mdef\u001b[39;49;00m\u001b[37m \u001b[39;49;00m\u001b[32mremove_html_markup\u001b[39;49;00m(s):  \u001b[37m# type: ignore\u001b[39;49;00m\u001b[37m\u001b[39;49;00m\n",
      "239      tag = \u001b[34mFalse\u001b[39;49;00m\u001b[37m\u001b[39;49;00m\n",
      "240      quote = \u001b[34mFalse\u001b[39;49;00m\u001b[37m\u001b[39;49;00m\n",
      "241      out = \u001b[33m\"\u001b[39;49;00m\u001b[33m\"\u001b[39;49;00m\u001b[37m\u001b[39;49;00m\n",
      "242  \u001b[37m\u001b[39;49;00m\n",
      "243      \u001b[34mfor\u001b[39;49;00m c \u001b[35min\u001b[39;49;00m s:\u001b[37m\u001b[39;49;00m\n",
      "244          \u001b[34massert\u001b[39;49;00m tag \u001b[35mor\u001b[39;49;00m \u001b[35mnot\u001b[39;49;00m quote\u001b[37m\u001b[39;49;00m\n",
      "245  \u001b[37m\u001b[39;49;00m\n",
      "246          \u001b[34mif\u001b[39;49;00m c == \u001b[33m'\u001b[39;49;00m\u001b[33m<\u001b[39;49;00m\u001b[33m'\u001b[39;49;00m \u001b[35mand\u001b[39;49;00m \u001b[35mnot\u001b[39;49;00m quote:\u001b[37m\u001b[39;49;00m\n",
      "247              tag = \u001b[34mTrue\u001b[39;49;00m\u001b[37m\u001b[39;49;00m\n",
      "248          \u001b[34melif\u001b[39;49;00m c == \u001b[33m'\u001b[39;49;00m\u001b[33m>\u001b[39;49;00m\u001b[33m'\u001b[39;49;00m \u001b[35mand\u001b[39;49;00m \u001b[35mnot\u001b[39;49;00m quote:\u001b[37m\u001b[39;49;00m\n",
      "249              tag = \u001b[34mFalse\u001b[39;49;00m\u001b[37m\u001b[39;49;00m\n",
      "250          \u001b[34melif\u001b[39;49;00m (c == \u001b[33m'\u001b[39;49;00m\u001b[33m\"\u001b[39;49;00m\u001b[33m'\u001b[39;49;00m \u001b[35mor\u001b[39;49;00m c == \u001b[33m\"\u001b[39;49;00m\u001b[33m'\u001b[39;49;00m\u001b[33m\"\u001b[39;49;00m) \u001b[35mand\u001b[39;49;00m tag:\u001b[37m\u001b[39;49;00m\n",
      "251              quote = \u001b[35mnot\u001b[39;49;00m quote\u001b[37m\u001b[39;49;00m\n",
      "252          \u001b[34melif\u001b[39;49;00m \u001b[35mnot\u001b[39;49;00m tag:\u001b[37m\u001b[39;49;00m\n",
      "253              out = out + c\u001b[37m\u001b[39;49;00m\n",
      "254  \u001b[37m\u001b[39;49;00m\n",
      "255      \u001b[34mreturn\u001b[39;49;00m out\u001b[37m\u001b[39;49;00m"
     ]
    }
   ],
   "source": [
    "print_content(inspect.getsource(remove_html_markup), '.py',\n",
    "              start_line_number=238)"
   ]
  },
  {
   "cell_type": "markdown",
   "metadata": {
    "slideshow": {
     "slide_type": "subslide"
    }
   },
   "source": [
    "We introduce a class `PerformanceTracer` that tracks, for each line in the code:\n",
    "\n",
    "* how _often_ it was executed (`hits`), and\n",
    "* _how much time_ was spent during its execution (`time`).\n",
    "\n",
    "To this end, we make use of our `Timer` class, which measures time, and the `Tracer` class from [the chapter on tracing](Tracer.ipynb), which allows us to track every line of the program as it is being executed."
   ]
  },
  {
   "cell_type": "code",
   "execution_count": 17,
   "metadata": {
    "execution": {
     "iopub.execute_input": "2025-10-26T17:54:55.483204Z",
     "iopub.status.busy": "2025-10-26T17:54:55.483108Z",
     "iopub.status.idle": "2025-10-26T17:54:55.484726Z",
     "shell.execute_reply": "2025-10-26T17:54:55.484510Z"
    },
    "slideshow": {
     "slide_type": "skip"
    }
   },
   "outputs": [],
   "source": [
    "from Tracer import Tracer"
   ]
  },
  {
   "attachments": {},
   "cell_type": "markdown",
   "metadata": {
    "slideshow": {
     "slide_type": "fragment"
    }
   },
   "source": [
    "In `PerformanceTracker`, the attributes `hits` and `time` are mappings indexed by unique locations – that is, pairs of function name and line number."
   ]
  },
  {
   "cell_type": "code",
   "execution_count": 18,
   "metadata": {
    "execution": {
     "iopub.execute_input": "2025-10-26T17:54:55.486046Z",
     "iopub.status.busy": "2025-10-26T17:54:55.485964Z",
     "iopub.status.idle": "2025-10-26T17:54:55.487453Z",
     "shell.execute_reply": "2025-10-26T17:54:55.487198Z"
    },
    "slideshow": {
     "slide_type": "fragment"
    }
   },
   "outputs": [],
   "source": [
    "Location = Tuple[str, int]"
   ]
  },
  {
   "cell_type": "code",
   "execution_count": 19,
   "metadata": {
    "execution": {
     "iopub.execute_input": "2025-10-26T17:54:55.488858Z",
     "iopub.status.busy": "2025-10-26T17:54:55.488773Z",
     "iopub.status.idle": "2025-10-26T17:54:55.490843Z",
     "shell.execute_reply": "2025-10-26T17:54:55.490568Z"
    },
    "slideshow": {
     "slide_type": "subslide"
    }
   },
   "outputs": [],
   "source": [
    "class PerformanceTracer(Tracer):\n",
    "    \"\"\"Trace time and #hits for individual program lines\"\"\"\n",
    "\n",
    "    def __init__(self) -> None:\n",
    "        \"\"\"Constructor.\"\"\"\n",
    "        super().__init__()\n",
    "        self.reset_timer()\n",
    "        self.hits: Dict[Location, int] = {}\n",
    "        self.time: Dict[Location, float] = {}\n",
    "\n",
    "    def reset_timer(self) -> None:\n",
    "        self.timer = Timer.Timer()"
   ]
  },
  {
   "cell_type": "markdown",
   "metadata": {
    "slideshow": {
     "slide_type": "subslide"
    }
   },
   "source": [
    "As common in this book, we want to use `PerformanceTracer` in a `with`-block around the function call(s) to be tracked:\n",
    "\n",
    "```python\n",
    "with PerformanceTracer() as perf_tracer:\n",
    "    function(...)\n",
    "```"
   ]
  },
  {
   "cell_type": "markdown",
   "metadata": {
    "slideshow": {
     "slide_type": "fragment"
    }
   },
   "source": [
    "When entering the `with` block (`__enter__()`), we reset all timers. Also, coming from the `__enter__()` method of the superclass `Tracer`, we enable tracing through the `traceit()` method."
   ]
  },
  {
   "cell_type": "code",
   "execution_count": 20,
   "metadata": {
    "execution": {
     "iopub.execute_input": "2025-10-26T17:54:55.492466Z",
     "iopub.status.busy": "2025-10-26T17:54:55.492366Z",
     "iopub.status.idle": "2025-10-26T17:54:55.493992Z",
     "shell.execute_reply": "2025-10-26T17:54:55.493705Z"
    },
    "slideshow": {
     "slide_type": "skip"
    }
   },
   "outputs": [],
   "source": [
    "from types import FrameType"
   ]
  },
  {
   "cell_type": "code",
   "execution_count": 21,
   "metadata": {
    "execution": {
     "iopub.execute_input": "2025-10-26T17:54:55.495369Z",
     "iopub.status.busy": "2025-10-26T17:54:55.495283Z",
     "iopub.status.idle": "2025-10-26T17:54:55.497046Z",
     "shell.execute_reply": "2025-10-26T17:54:55.496724Z"
    },
    "slideshow": {
     "slide_type": "subslide"
    }
   },
   "outputs": [],
   "source": [
    "class PerformanceTracer(PerformanceTracer):\n",
    "    def __enter__(self) -> Any:\n",
    "        \"\"\"Enter a `with` block.\"\"\"\n",
    "        super().__enter__()\n",
    "        self.reset_timer()\n",
    "        return self"
   ]
  },
  {
   "cell_type": "markdown",
   "metadata": {
    "slideshow": {
     "slide_type": "fragment"
    }
   },
   "source": [
    "The `traceit()` method extracts the current location. It increases the corresponding `hits` value by 1, and adds the elapsed time to the corresponding `time`."
   ]
  },
  {
   "cell_type": "code",
   "execution_count": 22,
   "metadata": {
    "execution": {
     "iopub.execute_input": "2025-10-26T17:54:55.498523Z",
     "iopub.status.busy": "2025-10-26T17:54:55.498424Z",
     "iopub.status.idle": "2025-10-26T17:54:55.500770Z",
     "shell.execute_reply": "2025-10-26T17:54:55.500466Z"
    },
    "slideshow": {
     "slide_type": "subslide"
    }
   },
   "outputs": [],
   "source": [
    "class PerformanceTracer(PerformanceTracer):\n",
    "    def traceit(self, frame: FrameType, event: str, arg: Any) -> None:\n",
    "        \"\"\"Tracing function; called for every line.\"\"\"\n",
    "        t = self.timer.elapsed_time()\n",
    "        location = (frame.f_code.co_name, frame.f_lineno)\n",
    "\n",
    "        self.hits.setdefault(location, 0)\n",
    "        self.time.setdefault(location, 0.0)\n",
    "        self.hits[location] += 1\n",
    "        self.time[location] += t\n",
    "\n",
    "        self.reset_timer()"
   ]
  },
  {
   "cell_type": "markdown",
   "metadata": {
    "slideshow": {
     "slide_type": "fragment"
    }
   },
   "source": [
    "This is it already. We can now determine where most time is spent in `remove_html_markup()`. We invoke it 10,000 times such that we can average over runs:"
   ]
  },
  {
   "cell_type": "code",
   "execution_count": 23,
   "metadata": {
    "execution": {
     "iopub.execute_input": "2025-10-26T17:54:55.502409Z",
     "iopub.status.busy": "2025-10-26T17:54:55.502306Z",
     "iopub.status.idle": "2025-10-26T17:54:56.187295Z",
     "shell.execute_reply": "2025-10-26T17:54:56.186973Z"
    },
    "slideshow": {
     "slide_type": "subslide"
    }
   },
   "outputs": [],
   "source": [
    "with PerformanceTracer() as perf_tracer:\n",
    "    for i in range(10000):\n",
    "        s = remove_html_markup('<b>foo</b>')"
   ]
  },
  {
   "cell_type": "markdown",
   "metadata": {
    "slideshow": {
     "slide_type": "fragment"
    }
   },
   "source": [
    "Here are the hits. For every line executed, we see how often it was executed. The most executed line is the `for` loop with 110,000 hits – once for each of the 10 characters in `<b>foo</b>`, once for the final check, and all of this 10,000 times."
   ]
  },
  {
   "cell_type": "code",
   "execution_count": 24,
   "metadata": {
    "execution": {
     "iopub.execute_input": "2025-10-26T17:54:56.188960Z",
     "iopub.status.busy": "2025-10-26T17:54:56.188871Z",
     "iopub.status.idle": "2025-10-26T17:54:56.191109Z",
     "shell.execute_reply": "2025-10-26T17:54:56.190869Z"
    },
    "slideshow": {
     "slide_type": "subslide"
    }
   },
   "outputs": [
    {
     "data": {
      "text/plain": [
       "{('__init__', 17): 1,\n",
       " ('__init__', 19): 1,\n",
       " ('clock', 8): 1,\n",
       " ('clock', 12): 2,\n",
       " ('__init__', 20): 2,\n",
       " ('remove_html_markup', 238): 10000,\n",
       " ('remove_html_markup', 239): 10000,\n",
       " ('remove_html_markup', 240): 10000,\n",
       " ('remove_html_markup', 241): 10000,\n",
       " ('remove_html_markup', 243): 110000,\n",
       " ('remove_html_markup', 244): 100000,\n",
       " ('remove_html_markup', 246): 100000,\n",
       " ('remove_html_markup', 247): 20000,\n",
       " ('remove_html_markup', 248): 80000,\n",
       " ('remove_html_markup', 250): 60000,\n",
       " ('remove_html_markup', 252): 60000,\n",
       " ('remove_html_markup', 249): 20000,\n",
       " ('remove_html_markup', 253): 30000,\n",
       " ('remove_html_markup', 255): 20000}"
      ]
     },
     "execution_count": 24,
     "metadata": {},
     "output_type": "execute_result"
    }
   ],
   "source": [
    "perf_tracer.hits"
   ]
  },
  {
   "cell_type": "markdown",
   "metadata": {
    "slideshow": {
     "slide_type": "subslide"
    }
   },
   "source": [
    "The `time` attribute collects how much time was spent in each line. Within the loop, again, the `for` statement takes the most time. The other lines show some variability, though."
   ]
  },
  {
   "cell_type": "code",
   "execution_count": 25,
   "metadata": {
    "execution": {
     "iopub.execute_input": "2025-10-26T17:54:56.192606Z",
     "iopub.status.busy": "2025-10-26T17:54:56.192506Z",
     "iopub.status.idle": "2025-10-26T17:54:56.195471Z",
     "shell.execute_reply": "2025-10-26T17:54:56.195124Z"
    },
    "slideshow": {
     "slide_type": "subslide"
    }
   },
   "outputs": [
    {
     "data": {
      "text/plain": [
       "{('__init__', 17): 0.00024116699933074415,\n",
       " ('__init__', 19): 1.3329845387488604e-06,\n",
       " ('clock', 8): 2.4999899324029684e-06,\n",
       " ('clock', 12): 1.7909915186464787e-06,\n",
       " ('__init__', 20): 1.334003172814846e-06,\n",
       " ('remove_html_markup', 238): 0.007917946233646944,\n",
       " ('remove_html_markup', 239): 0.00618785762344487,\n",
       " ('remove_html_markup', 240): 0.006357173289870843,\n",
       " ('remove_html_markup', 241): 0.006170973560074344,\n",
       " ('remove_html_markup', 243): 0.06910131918266416,\n",
       " ('remove_html_markup', 244): 0.0627616380515974,\n",
       " ('remove_html_markup', 246): 0.06305116802104749,\n",
       " ('remove_html_markup', 247): 0.012841210089391097,\n",
       " ('remove_html_markup', 248): 0.04974727283115499,\n",
       " ('remove_html_markup', 250): 0.03712841047672555,\n",
       " ('remove_html_markup', 252): 0.037927715689875185,\n",
       " ('remove_html_markup', 249): 0.012593008199473843,\n",
       " ('remove_html_markup', 253): 0.01872212707530707,\n",
       " ('remove_html_markup', 255): 0.013112093147356063}"
      ]
     },
     "execution_count": 25,
     "metadata": {},
     "output_type": "execute_result"
    }
   ],
   "source": [
    "perf_tracer.time"
   ]
  },
  {
   "cell_type": "markdown",
   "metadata": {
    "slideshow": {
     "slide_type": "subslide"
    }
   },
   "source": [
    "For a full profiler, these numbers would now be sorted and printed in a table, much like `cProfile` does. However, we will borrow some material from previous chapters and annotate our code accordingly."
   ]
  },
  {
   "cell_type": "markdown",
   "metadata": {
    "slideshow": {
     "slide_type": "slide"
    }
   },
   "source": [
    "## Visualizing Performance Metrics\n",
    "\n",
    "In the [chapter on statistical debugging](StatisticalDebugger.ipynb), we have encountered the `CoverageCollector` class, which collects line and function coverage during execution, using a `collect()` method that is invoked for every line. We will repurpose this class to collect arbitrary _metrics_ on the lines executed, notably time taken."
   ]
  },
  {
   "cell_type": "markdown",
   "metadata": {
    "slideshow": {
     "slide_type": "subslide"
    }
   },
   "source": [
    "### Collecting Time Spent"
   ]
  },
  {
   "cell_type": "code",
   "execution_count": 26,
   "metadata": {
    "execution": {
     "iopub.execute_input": "2025-10-26T17:54:56.197359Z",
     "iopub.status.busy": "2025-10-26T17:54:56.197235Z",
     "iopub.status.idle": "2025-10-26T17:54:56.199040Z",
     "shell.execute_reply": "2025-10-26T17:54:56.198767Z"
    },
    "slideshow": {
     "slide_type": "skip"
    }
   },
   "outputs": [],
   "source": [
    "from StatisticalDebugger import CoverageCollector, SpectrumDebugger"
   ]
  },
  {
   "cell_type": "markdown",
   "metadata": {
    "slideshow": {
     "slide_type": "fragment"
    }
   },
   "source": [
    "The `MetricCollector` class is an abstract superclass that provides an interface to access a particular metric."
   ]
  },
  {
   "cell_type": "code",
   "execution_count": 27,
   "metadata": {
    "execution": {
     "iopub.execute_input": "2025-10-26T17:54:56.200303Z",
     "iopub.status.busy": "2025-10-26T17:54:56.200226Z",
     "iopub.status.idle": "2025-10-26T17:54:56.202200Z",
     "shell.execute_reply": "2025-10-26T17:54:56.201969Z"
    },
    "slideshow": {
     "slide_type": "fragment"
    }
   },
   "outputs": [],
   "source": [
    "class MetricCollector(CoverageCollector):\n",
    "    \"\"\"Abstract superclass for collecting line-specific metrics\"\"\"\n",
    "\n",
    "    def metric(self, event: Any) -> Optional[float]:\n",
    "        \"\"\"Return a metric for an event, or none.\"\"\"\n",
    "        return None\n",
    "\n",
    "    def all_metrics(self, func: str) -> List[float]:\n",
    "        \"\"\"Return all metric for a function `func`.\"\"\"\n",
    "        return []"
   ]
  },
  {
   "cell_type": "markdown",
   "metadata": {
    "slideshow": {
     "slide_type": "fragment"
    }
   },
   "source": [
    "Given these metrics, we can also compute sums and maxima for a single function."
   ]
  },
  {
   "cell_type": "code",
   "execution_count": 28,
   "metadata": {
    "execution": {
     "iopub.execute_input": "2025-10-26T17:54:56.203677Z",
     "iopub.status.busy": "2025-10-26T17:54:56.203585Z",
     "iopub.status.idle": "2025-10-26T17:54:56.205275Z",
     "shell.execute_reply": "2025-10-26T17:54:56.205051Z"
    },
    "slideshow": {
     "slide_type": "subslide"
    }
   },
   "outputs": [],
   "source": [
    "class MetricCollector(MetricCollector):\n",
    "    def total(self, func: str) -> float:\n",
    "        return sum(self.all_metrics(func))\n",
    "\n",
    "    def maximum(self, func: str) -> float:\n",
    "        return max(self.all_metrics(func))"
   ]
  },
  {
   "cell_type": "markdown",
   "metadata": {
    "slideshow": {
     "slide_type": "fragment"
    }
   },
   "source": [
    "Let us instantiate this superclass into `TimeCollector` – a subclass that measures time. This is modeled after our `PerformanceTracer` class, above; notably, the `time` attribute serves the same role."
   ]
  },
  {
   "cell_type": "code",
   "execution_count": 29,
   "metadata": {
    "execution": {
     "iopub.execute_input": "2025-10-26T17:54:56.206751Z",
     "iopub.status.busy": "2025-10-26T17:54:56.206633Z",
     "iopub.status.idle": "2025-10-26T17:54:56.209531Z",
     "shell.execute_reply": "2025-10-26T17:54:56.209202Z"
    },
    "slideshow": {
     "slide_type": "subslide"
    }
   },
   "outputs": [],
   "source": [
    "class TimeCollector(MetricCollector):\n",
    "    \"\"\"Collect time executed for each line\"\"\"\n",
    "\n",
    "    def __init__(self) -> None:\n",
    "        \"\"\"Constructor\"\"\"\n",
    "        super().__init__()\n",
    "        self.reset_timer()\n",
    "        self.time: Dict[Location, float] = {}\n",
    "        self.add_items_to_ignore([Timer.Timer, Timer.clock])\n",
    "\n",
    "    def collect(self, frame: FrameType, event: str, arg: Any) -> None:\n",
    "        \"\"\"Invoked for every line executed. Accumulate time spent.\"\"\"\n",
    "        t = self.timer.elapsed_time()\n",
    "        super().collect(frame, event, arg)\n",
    "        location = (frame.f_code.co_name, frame.f_lineno)\n",
    "\n",
    "        self.time.setdefault(location, 0.0)\n",
    "        self.time[location] += t\n",
    "\n",
    "        self.reset_timer()\n",
    "\n",
    "    def reset_timer(self) -> None:\n",
    "        self.timer = Timer.Timer()\n",
    "\n",
    "    def __enter__(self) -> Any:\n",
    "        super().__enter__()\n",
    "        self.reset_timer()\n",
    "        return self"
   ]
  },
  {
   "cell_type": "markdown",
   "metadata": {
    "slideshow": {
     "slide_type": "subslide"
    }
   },
   "source": [
    "The `metric()` and `all_metrics()` methods accumulate the metric (time taken) for an individual function:"
   ]
  },
  {
   "cell_type": "code",
   "execution_count": 30,
   "metadata": {
    "execution": {
     "iopub.execute_input": "2025-10-26T17:54:56.211177Z",
     "iopub.status.busy": "2025-10-26T17:54:56.211063Z",
     "iopub.status.idle": "2025-10-26T17:54:56.213411Z",
     "shell.execute_reply": "2025-10-26T17:54:56.213103Z"
    },
    "slideshow": {
     "slide_type": "fragment"
    }
   },
   "outputs": [],
   "source": [
    "class TimeCollector(TimeCollector):\n",
    "    def metric(self, location: Any) -> Optional[float]:\n",
    "        if location in self.time:\n",
    "            return self.time[location]\n",
    "        else:\n",
    "            return None\n",
    "\n",
    "    def all_metrics(self, func: str) -> List[float]:\n",
    "        return [time\n",
    "                for (func_name, lineno), time in self.time.items()\n",
    "                if func_name == func]"
   ]
  },
  {
   "cell_type": "markdown",
   "metadata": {
    "slideshow": {
     "slide_type": "fragment"
    }
   },
   "source": [
    "Here's how to use `TimeCollector()` – again, in a `with` block:"
   ]
  },
  {
   "cell_type": "code",
   "execution_count": 31,
   "metadata": {
    "execution": {
     "iopub.execute_input": "2025-10-26T17:54:56.214948Z",
     "iopub.status.busy": "2025-10-26T17:54:56.214836Z",
     "iopub.status.idle": "2025-10-26T17:54:56.229243Z",
     "shell.execute_reply": "2025-10-26T17:54:56.228957Z"
    },
    "slideshow": {
     "slide_type": "subslide"
    }
   },
   "outputs": [],
   "source": [
    "with TimeCollector() as collector:\n",
    "    for i in range(100):\n",
    "        s = remove_html_markup('<b>foo</b>')"
   ]
  },
  {
   "cell_type": "markdown",
   "metadata": {
    "slideshow": {
     "slide_type": "fragment"
    }
   },
   "source": [
    "The `time` attribute holds the time spent in each line:"
   ]
  },
  {
   "cell_type": "code",
   "execution_count": 32,
   "metadata": {
    "execution": {
     "iopub.execute_input": "2025-10-26T17:54:56.230695Z",
     "iopub.status.busy": "2025-10-26T17:54:56.230603Z",
     "iopub.status.idle": "2025-10-26T17:54:56.232583Z",
     "shell.execute_reply": "2025-10-26T17:54:56.232289Z"
    },
    "slideshow": {
     "slide_type": "subslide"
    }
   },
   "outputs": [
    {
     "name": "stdout",
     "output_type": "stream",
     "text": [
      "('remove_html_markup', 238) 0.00015183707000687718\n",
      "('remove_html_markup', 239) 0.00010900790221057832\n",
      "('remove_html_markup', 240) 0.00011175306281074882\n",
      "('remove_html_markup', 241) 0.00010875475709326565\n",
      "('remove_html_markup', 243) 0.001230446039699018\n",
      "('remove_html_markup', 244) 0.0011077363742515445\n",
      "('remove_html_markup', 246) 0.0011040171957574785\n",
      "('remove_html_markup', 247) 0.00022176094353199005\n",
      "('remove_html_markup', 248) 0.0008924873836804181\n",
      "('remove_html_markup', 250) 0.0006938762671779841\n",
      "('remove_html_markup', 252) 0.000667455984512344\n",
      "('remove_html_markup', 249) 0.0002219062007497996\n",
      "('remove_html_markup', 253) 0.00032781687332317233\n",
      "('remove_html_markup', 255) 0.00023653166135773063\n"
     ]
    }
   ],
   "source": [
    "for location, time_spent in collector.time.items():\n",
    "    print(location, time_spent)"
   ]
  },
  {
   "cell_type": "markdown",
   "metadata": {
    "slideshow": {
     "slide_type": "subslide"
    }
   },
   "source": [
    "And we can also create a total for an entire function:"
   ]
  },
  {
   "cell_type": "code",
   "execution_count": 33,
   "metadata": {
    "execution": {
     "iopub.execute_input": "2025-10-26T17:54:56.233978Z",
     "iopub.status.busy": "2025-10-26T17:54:56.233884Z",
     "iopub.status.idle": "2025-10-26T17:54:56.235940Z",
     "shell.execute_reply": "2025-10-26T17:54:56.235690Z"
    },
    "slideshow": {
     "slide_type": "fragment"
    }
   },
   "outputs": [
    {
     "data": {
      "text/plain": [
       "0.00718538771616295"
      ]
     },
     "execution_count": 33,
     "metadata": {},
     "output_type": "execute_result"
    }
   ],
   "source": [
    "collector.total('remove_html_markup')"
   ]
  },
  {
   "cell_type": "markdown",
   "metadata": {
    "slideshow": {
     "slide_type": "subslide"
    }
   },
   "source": [
    "### Visualizing Time Spent\n",
    "\n",
    "Let us now go and visualize these numbers in a simple form. The idea is to assign each line a _color_ whose saturation indicates the time spent in that line relative to the time spent in the function overall  – the higher the fraction, the darker the line. We create a `MetricDebugger` class built as a specialization of `SpectrumDebugger`, in which `suspiciousness()` and `color()` are repurposed to show these metrics."
   ]
  },
  {
   "cell_type": "code",
   "execution_count": 34,
   "metadata": {
    "execution": {
     "iopub.execute_input": "2025-10-26T17:54:56.237568Z",
     "iopub.status.busy": "2025-10-26T17:54:56.237458Z",
     "iopub.status.idle": "2025-10-26T17:54:56.241019Z",
     "shell.execute_reply": "2025-10-26T17:54:56.240723Z"
    },
    "slideshow": {
     "slide_type": "subslide"
    }
   },
   "outputs": [],
   "source": [
    "class MetricDebugger(SpectrumDebugger):\n",
    "    \"\"\"Visualize a metric\"\"\"\n",
    "\n",
    "    def metric(self, location: Location) -> float:\n",
    "        sum = 0.0\n",
    "        for outcome in self.collectors:\n",
    "            for collector in self.collectors[outcome]:\n",
    "                assert isinstance(collector, MetricCollector)\n",
    "                m = collector.metric(location)\n",
    "                if m is not None:\n",
    "                    sum += m  # type: ignore\n",
    "\n",
    "        return sum\n",
    "\n",
    "    def total(self, func_name: str) -> float:\n",
    "        total = 0.0\n",
    "        for outcome in self.collectors:\n",
    "            for collector in self.collectors[outcome]:\n",
    "                assert isinstance(collector, MetricCollector)\n",
    "                total += sum(collector.all_metrics(func_name))\n",
    "\n",
    "        return total\n",
    "\n",
    "    def maximum(self, func_name: str) -> float:\n",
    "        maximum = 0.0\n",
    "        for outcome in self.collectors:\n",
    "            for collector in self.collectors[outcome]:\n",
    "                assert isinstance(collector, MetricCollector)\n",
    "                maximum = max(maximum, \n",
    "                              max(collector.all_metrics(func_name)))\n",
    "\n",
    "        return maximum\n",
    "\n",
    "    def suspiciousness(self, location: Location) -> float:\n",
    "        func_name, _ = location\n",
    "        return self.metric(location) / self.total(func_name)\n",
    "\n",
    "    def color(self, location: Location) -> str:\n",
    "        func_name, _ = location\n",
    "        hue = 240  # blue\n",
    "        saturation = 100  # fully saturated\n",
    "        darkness = self.metric(location) / self.maximum(func_name)\n",
    "        lightness = 100 - darkness * 25\n",
    "        return f\"hsl({hue}, {saturation}%, {lightness}%)\"\n",
    "\n",
    "    def tooltip(self, location: Location) -> str:\n",
    "        return f\"{super().tooltip(location)} {self.metric(location)}\""
   ]
  },
  {
   "cell_type": "markdown",
   "metadata": {
    "slideshow": {
     "slide_type": "subslide"
    }
   },
   "source": [
    "We can now introduce `PerformanceDebugger` as a subclass of `MetricDebugger`, using an arbitrary `MetricCollector` (such as `TimeCollector`) to obtain the metric we want to visualize."
   ]
  },
  {
   "cell_type": "code",
   "execution_count": 35,
   "metadata": {
    "execution": {
     "iopub.execute_input": "2025-10-26T17:54:56.242479Z",
     "iopub.status.busy": "2025-10-26T17:54:56.242379Z",
     "iopub.status.idle": "2025-10-26T17:54:56.244189Z",
     "shell.execute_reply": "2025-10-26T17:54:56.243913Z"
    },
    "slideshow": {
     "slide_type": "fragment"
    }
   },
   "outputs": [],
   "source": [
    "class PerformanceDebugger(MetricDebugger):\n",
    "    \"\"\"Collect and visualize a metric\"\"\"\n",
    "\n",
    "    def __init__(self, collector_class: Type, log: bool = False):\n",
    "        assert issubclass(collector_class, MetricCollector)\n",
    "        super().__init__(collector_class, log=log)"
   ]
  },
  {
   "cell_type": "markdown",
   "metadata": {
    "slideshow": {
     "slide_type": "fragment"
    }
   },
   "source": [
    "With `PerformanceDebugger`, we inherit all the capabilities of `SpectrumDebugger`, such as showing the (relative) percentage of time spent in a table. We see that the `for` condition and the following `assert` take most of the time, followed by the first condition."
   ]
  },
  {
   "cell_type": "code",
   "execution_count": 36,
   "metadata": {
    "execution": {
     "iopub.execute_input": "2025-10-26T17:54:56.245468Z",
     "iopub.status.busy": "2025-10-26T17:54:56.245383Z",
     "iopub.status.idle": "2025-10-26T17:54:56.260389Z",
     "shell.execute_reply": "2025-10-26T17:54:56.260092Z"
    },
    "slideshow": {
     "slide_type": "subslide"
    }
   },
   "outputs": [],
   "source": [
    "with PerformanceDebugger(TimeCollector) as debugger:\n",
    "    for i in range(100):\n",
    "        s = remove_html_markup('<b>foo</b>')"
   ]
  },
  {
   "cell_type": "code",
   "execution_count": 37,
   "metadata": {
    "execution": {
     "iopub.execute_input": "2025-10-26T17:54:56.261773Z",
     "iopub.status.busy": "2025-10-26T17:54:56.261680Z",
     "iopub.status.idle": "2025-10-26T17:54:56.263902Z",
     "shell.execute_reply": "2025-10-26T17:54:56.263638Z"
    },
    "slideshow": {
     "slide_type": "subslide"
    }
   },
   "outputs": [
    {
     "name": "stdout",
     "output_type": "stream",
     "text": [
      " 238   1% def remove_html_markup(s):  # type: ignore\n",
      " 239   1%     tag = False\n",
      " 240   1%     quote = False\n",
      " 241   1%     out = \"\"\n",
      " 242   0%\n",
      " 243  16%     for c in s:\n",
      " 244  15%         assert tag or not quote\n",
      " 245   0%\n",
      " 246  15%         if c == '<' and not quote:\n",
      " 247   3%             tag = True\n",
      " 248  12%         elif c == '>' and not quote:\n",
      " 249   3%             tag = False\n",
      " 250   9%         elif (c == '\"' or c == \"'\") and tag:\n",
      " 251   0%             quote = not quote\n",
      " 252   9%         elif not tag:\n",
      " 253   4%             out = out + c\n",
      " 254   0%\n",
      " 255   3%     return out\n",
      "\n"
     ]
    }
   ],
   "source": [
    "print(debugger)"
   ]
  },
  {
   "cell_type": "markdown",
   "metadata": {
    "slideshow": {
     "slide_type": "subslide"
    }
   },
   "source": [
    "However, we can also visualize these percentages, using shades of blue to indicate those lines most time spent in:"
   ]
  },
  {
   "cell_type": "code",
   "execution_count": 38,
   "metadata": {
    "execution": {
     "iopub.execute_input": "2025-10-26T17:54:56.265447Z",
     "iopub.status.busy": "2025-10-26T17:54:56.265358Z",
     "iopub.status.idle": "2025-10-26T17:54:56.268228Z",
     "shell.execute_reply": "2025-10-26T17:54:56.267923Z"
    },
    "slideshow": {
     "slide_type": "subslide"
    }
   },
   "outputs": [
    {
     "data": {
      "text/html": [
       "<pre style=\"background-color:hsl(240, 100%, 97.05433582288892%)\"\n",
       "                    title=\"Line 238:   1% 0.00015942173195071518\"> 238 def remove_html_markup(s):  # type: ignore</pre>\n",
       "<pre style=\"background-color:hsl(240, 100%, 97.69576991084122%)\"\n",
       "                    title=\"Line 239:   1% 0.00012470679939724505\"> 239     tag = False</pre>\n",
       "<pre style=\"background-color:hsl(240, 100%, 97.66184230038394%)\"\n",
       "                    title=\"Line 240:   1% 0.00012654298916459084\"> 240     quote = False</pre>\n",
       "<pre style=\"background-color:hsl(240, 100%, 97.7248302850485%)\"\n",
       "                    title=\"Line 241:   1% 0.00012313402839936316\"> 241     out = &quot;&quot;</pre>\n",
       "<pre style=\"background-color:hsl(240, 100%, 100.0%)\"\n",
       "                    title=\"Line 242:   0% 0.0\"> 242 &nbsp;</pre>\n",
       "<pre style=\"background-color:hsl(240, 100%, 75.0%)\"\n",
       "                    title=\"Line 243:  16% 0.0013530202559195459\"> 243     for c in s:</pre>\n",
       "<pre style=\"background-color:hsl(240, 100%, 76.59946385222858%)\"\n",
       "                    title=\"Line 244:  15% 0.001266455976292491\"> 244         assert tag or not quote</pre>\n",
       "<pre style=\"background-color:hsl(240, 100%, 100.0%)\"\n",
       "                    title=\"Line 245:   0% 0.0\"> 245 &nbsp;</pre>\n",
       "<pre style=\"background-color:hsl(240, 100%, 76.41775584992216%)\"\n",
       "                    title=\"Line 246:  15% 0.0012762901606038213\"> 246         if c == &#x27;&lt;&#x27; and not quote:</pre>\n",
       "<pre style=\"background-color:hsl(240, 100%, 95.301369847102%)\"\n",
       "                    title=\"Line 247:   3% 0.0002542936708778143\"> 247             tag = True</pre>\n",
       "<pre style=\"background-color:hsl(240, 100%, 81.82933151975948%)\"\n",
       "                    title=\"Line 248:  12% 0.00098341130069457\"> 248         elif c == &#x27;&gt;&#x27; and not quote:</pre>\n",
       "<pre style=\"background-color:hsl(240, 100%, 95.47003617295995%)\"\n",
       "                    title=\"Line 249:   3% 0.0002451653126627207\"> 249             tag = False</pre>\n",
       "<pre style=\"background-color:hsl(240, 100%, 86.4465625104997%)\"\n",
       "                    title=\"Line 250:   9% 0.0007335230184253305\"> 250         elif (c == &#x27;&quot;&#x27; or c == &quot;&#x27;&quot;) and tag:</pre>\n",
       "<pre style=\"background-color:hsl(240, 100%, 100.0%)\"\n",
       "                    title=\"Line 251:   0% 0.0\"> 251             quote = not quote</pre>\n",
       "<pre style=\"background-color:hsl(240, 100%, 86.29159607533946%)\"\n",
       "                    title=\"Line 252:   9% 0.0007419099274557084\"> 252         elif not tag:</pre>\n",
       "<pre style=\"background-color:hsl(240, 100%, 93.23249329707734%)\"\n",
       "                    title=\"Line 253:   4% 0.0003662629460450262\"> 253             out = out + c</pre>\n",
       "<pre style=\"background-color:hsl(240, 100%, 100.0%)\"\n",
       "                    title=\"Line 254:   0% 0.0\"> 254 &nbsp;</pre>\n",
       "<pre style=\"background-color:hsl(240, 100%, 95.17911784319452%)\"\n",
       "                    title=\"Line 255:   3% 0.00026091004838235676\"> 255     return out</pre>\n"
      ],
      "text/markdown": [
       "| `remove_html_markup` | `s='<b>foo</b>'` | \n",
       "| ---------------------- | ---- | \n",
       "| <samp style=\"background-color: hsl(240, 100%, 97.05433582288892%)\" title=\"  1% 0.00015942173195071518\">remove_html_markup:238</samp> |    X | \n",
       "| <samp style=\"background-color: hsl(240, 100%, 97.69576991084122%)\" title=\"  1% 0.00012470679939724505\">remove_html_markup:239</samp> |    X | \n",
       "| <samp style=\"background-color: hsl(240, 100%, 97.66184230038394%)\" title=\"  1% 0.00012654298916459084\">remove_html_markup:240</samp> |    X | \n",
       "| <samp style=\"background-color: hsl(240, 100%, 97.7248302850485%)\" title=\"  1% 0.00012313402839936316\">remove_html_markup:241</samp> |    X | \n",
       "| <samp style=\"background-color: hsl(240, 100%, 75.0%)\" title=\" 16% 0.0013530202559195459\">remove_html_markup:243</samp> |    X | \n",
       "| <samp style=\"background-color: hsl(240, 100%, 76.59946385222858%)\" title=\" 15% 0.001266455976292491\">remove_html_markup:244</samp> |    X | \n",
       "| <samp style=\"background-color: hsl(240, 100%, 76.41775584992216%)\" title=\" 15% 0.0012762901606038213\">remove_html_markup:246</samp> |    X | \n",
       "| <samp style=\"background-color: hsl(240, 100%, 95.301369847102%)\" title=\"  3% 0.0002542936708778143\">remove_html_markup:247</samp> |    X | \n",
       "| <samp style=\"background-color: hsl(240, 100%, 81.82933151975948%)\" title=\" 12% 0.00098341130069457\">remove_html_markup:248</samp> |    X | \n",
       "| <samp style=\"background-color: hsl(240, 100%, 95.47003617295995%)\" title=\"  3% 0.0002451653126627207\">remove_html_markup:249</samp> |    X | \n",
       "| <samp style=\"background-color: hsl(240, 100%, 86.4465625104997%)\" title=\"  9% 0.0007335230184253305\">remove_html_markup:250</samp> |    X | \n",
       "| <samp style=\"background-color: hsl(240, 100%, 86.29159607533946%)\" title=\"  9% 0.0007419099274557084\">remove_html_markup:252</samp> |    X | \n",
       "| <samp style=\"background-color: hsl(240, 100%, 93.23249329707734%)\" title=\"  4% 0.0003662629460450262\">remove_html_markup:253</samp> |    X | \n",
       "| <samp style=\"background-color: hsl(240, 100%, 95.17911784319452%)\" title=\"  3% 0.00026091004838235676\">remove_html_markup:255</samp> |    X | \n"
      ],
      "text/plain": [
       " 238   1% def remove_html_markup(s):  # type: ignore\n",
       " 239   1%     tag = False\n",
       " 240   1%     quote = False\n",
       " 241   1%     out = \"\"\n",
       " 242   0%\n",
       " 243  16%     for c in s:\n",
       " 244  15%         assert tag or not quote\n",
       " 245   0%\n",
       " 246  15%         if c == '<' and not quote:\n",
       " 247   3%             tag = True\n",
       " 248  12%         elif c == '>' and not quote:\n",
       " 249   3%             tag = False\n",
       " 250   9%         elif (c == '\"' or c == \"'\") and tag:\n",
       " 251   0%             quote = not quote\n",
       " 252   9%         elif not tag:\n",
       " 253   4%             out = out + c\n",
       " 254   0%\n",
       " 255   3%     return out"
      ]
     },
     "execution_count": 38,
     "metadata": {},
     "output_type": "execute_result"
    }
   ],
   "source": [
    "debugger"
   ]
  },
  {
   "cell_type": "markdown",
   "metadata": {
    "slideshow": {
     "slide_type": "subslide"
    }
   },
   "source": [
    "### Other Metrics\n",
    "\n",
    "Our framework is flexible enough to collect (and visualize) arbitrary metrics. This `HitCollector` class, for instance, collects how often a line is being executed."
   ]
  },
  {
   "cell_type": "code",
   "execution_count": 39,
   "metadata": {
    "execution": {
     "iopub.execute_input": "2025-10-26T17:54:56.269603Z",
     "iopub.status.busy": "2025-10-26T17:54:56.269519Z",
     "iopub.status.idle": "2025-10-26T17:54:56.272221Z",
     "shell.execute_reply": "2025-10-26T17:54:56.272004Z"
    },
    "slideshow": {
     "slide_type": "subslide"
    }
   },
   "outputs": [],
   "source": [
    "class HitCollector(MetricCollector):\n",
    "    \"\"\"Collect how often a line is executed\"\"\"\n",
    "\n",
    "    def __init__(self) -> None:\n",
    "        super().__init__()\n",
    "        self.hits: Dict[Location, int] = {}\n",
    "\n",
    "    def collect(self, frame: FrameType, event: str, arg: Any) -> None:\n",
    "        super().collect(frame, event, arg)\n",
    "        location = (frame.f_code.co_name, frame.f_lineno)\n",
    "\n",
    "        self.hits.setdefault(location, 0)\n",
    "        self.hits[location] += 1\n",
    "\n",
    "    def metric(self, location: Location) -> Optional[int]:\n",
    "        if location in self.hits:\n",
    "            return self.hits[location]\n",
    "        else:\n",
    "            return None\n",
    "\n",
    "    def all_metrics(self, func: str) -> List[float]:\n",
    "        return [hits\n",
    "                for (func_name, lineno), hits in self.hits.items()\n",
    "                if func_name == func]"
   ]
  },
  {
   "cell_type": "markdown",
   "metadata": {
    "slideshow": {
     "slide_type": "subslide"
    }
   },
   "source": [
    "We can plug in this class into `PerformanceDebugger` to obtain a distribution of lines executed:"
   ]
  },
  {
   "cell_type": "code",
   "execution_count": 40,
   "metadata": {
    "execution": {
     "iopub.execute_input": "2025-10-26T17:54:56.273647Z",
     "iopub.status.busy": "2025-10-26T17:54:56.273557Z",
     "iopub.status.idle": "2025-10-26T17:54:56.284335Z",
     "shell.execute_reply": "2025-10-26T17:54:56.284070Z"
    },
    "slideshow": {
     "slide_type": "fragment"
    }
   },
   "outputs": [],
   "source": [
    "with PerformanceDebugger(HitCollector) as debugger:\n",
    "    for i in range(100):\n",
    "        s = remove_html_markup('<b>foo</b>')"
   ]
  },
  {
   "cell_type": "markdown",
   "metadata": {
    "slideshow": {
     "slide_type": "fragment"
    }
   },
   "source": [
    "In total, during this call to `remove_html_markup()`, there are 6,400 lines executed:"
   ]
  },
  {
   "cell_type": "code",
   "execution_count": 41,
   "metadata": {
    "execution": {
     "iopub.execute_input": "2025-10-26T17:54:56.285720Z",
     "iopub.status.busy": "2025-10-26T17:54:56.285638Z",
     "iopub.status.idle": "2025-10-26T17:54:56.287625Z",
     "shell.execute_reply": "2025-10-26T17:54:56.287380Z"
    },
    "slideshow": {
     "slide_type": "fragment"
    }
   },
   "outputs": [
    {
     "data": {
      "text/plain": [
       "6400.0"
      ]
     },
     "execution_count": 41,
     "metadata": {},
     "output_type": "execute_result"
    }
   ],
   "source": [
    "debugger.total('remove_html_markup')"
   ]
  },
  {
   "cell_type": "markdown",
   "metadata": {
    "slideshow": {
     "slide_type": "fragment"
    }
   },
   "source": [
    "Again, we can visualize the distribution as a table and using colors. We can see how the shade gets lighter in the lower part of the loop as individual conditions have been met."
   ]
  },
  {
   "cell_type": "code",
   "execution_count": 42,
   "metadata": {
    "execution": {
     "iopub.execute_input": "2025-10-26T17:54:56.289019Z",
     "iopub.status.busy": "2025-10-26T17:54:56.288934Z",
     "iopub.status.idle": "2025-10-26T17:54:56.290851Z",
     "shell.execute_reply": "2025-10-26T17:54:56.290634Z"
    },
    "slideshow": {
     "slide_type": "subslide"
    }
   },
   "outputs": [
    {
     "name": "stdout",
     "output_type": "stream",
     "text": [
      " 238   1% def remove_html_markup(s):  # type: ignore\n",
      " 239   1%     tag = False\n",
      " 240   1%     quote = False\n",
      " 241   1%     out = \"\"\n",
      " 242   0%\n",
      " 243  17%     for c in s:\n",
      " 244  15%         assert tag or not quote\n",
      " 245   0%\n",
      " 246  15%         if c == '<' and not quote:\n",
      " 247   3%             tag = True\n",
      " 248  12%         elif c == '>' and not quote:\n",
      " 249   3%             tag = False\n",
      " 250   9%         elif (c == '\"' or c == \"'\") and tag:\n",
      " 251   0%             quote = not quote\n",
      " 252   9%         elif not tag:\n",
      " 253   4%             out = out + c\n",
      " 254   0%\n",
      " 255   3%     return out\n",
      "\n"
     ]
    }
   ],
   "source": [
    "print(debugger)"
   ]
  },
  {
   "cell_type": "code",
   "execution_count": 43,
   "metadata": {
    "execution": {
     "iopub.execute_input": "2025-10-26T17:54:56.292152Z",
     "iopub.status.busy": "2025-10-26T17:54:56.292078Z",
     "iopub.status.idle": "2025-10-26T17:54:56.294738Z",
     "shell.execute_reply": "2025-10-26T17:54:56.294535Z"
    },
    "slideshow": {
     "slide_type": "subslide"
    }
   },
   "outputs": [
    {
     "data": {
      "text/html": [
       "<pre style=\"background-color:hsl(240, 100%, 97.72727272727273%)\"\n",
       "                    title=\"Line 238:   1% 100.0\"> 238 def remove_html_markup(s):  # type: ignore</pre>\n",
       "<pre style=\"background-color:hsl(240, 100%, 97.72727272727273%)\"\n",
       "                    title=\"Line 239:   1% 100.0\"> 239     tag = False</pre>\n",
       "<pre style=\"background-color:hsl(240, 100%, 97.72727272727273%)\"\n",
       "                    title=\"Line 240:   1% 100.0\"> 240     quote = False</pre>\n",
       "<pre style=\"background-color:hsl(240, 100%, 97.72727272727273%)\"\n",
       "                    title=\"Line 241:   1% 100.0\"> 241     out = &quot;&quot;</pre>\n",
       "<pre style=\"background-color:hsl(240, 100%, 100.0%)\"\n",
       "                    title=\"Line 242:   0% 0.0\"> 242 &nbsp;</pre>\n",
       "<pre style=\"background-color:hsl(240, 100%, 75.0%)\"\n",
       "                    title=\"Line 243:  17% 1100.0\"> 243     for c in s:</pre>\n",
       "<pre style=\"background-color:hsl(240, 100%, 77.27272727272728%)\"\n",
       "                    title=\"Line 244:  15% 1000.0\"> 244         assert tag or not quote</pre>\n",
       "<pre style=\"background-color:hsl(240, 100%, 100.0%)\"\n",
       "                    title=\"Line 245:   0% 0.0\"> 245 &nbsp;</pre>\n",
       "<pre style=\"background-color:hsl(240, 100%, 77.27272727272728%)\"\n",
       "                    title=\"Line 246:  15% 1000.0\"> 246         if c == &#x27;&lt;&#x27; and not quote:</pre>\n",
       "<pre style=\"background-color:hsl(240, 100%, 95.45454545454545%)\"\n",
       "                    title=\"Line 247:   3% 200.0\"> 247             tag = True</pre>\n",
       "<pre style=\"background-color:hsl(240, 100%, 81.81818181818181%)\"\n",
       "                    title=\"Line 248:  12% 800.0\"> 248         elif c == &#x27;&gt;&#x27; and not quote:</pre>\n",
       "<pre style=\"background-color:hsl(240, 100%, 95.45454545454545%)\"\n",
       "                    title=\"Line 249:   3% 200.0\"> 249             tag = False</pre>\n",
       "<pre style=\"background-color:hsl(240, 100%, 86.36363636363636%)\"\n",
       "                    title=\"Line 250:   9% 600.0\"> 250         elif (c == &#x27;&quot;&#x27; or c == &quot;&#x27;&quot;) and tag:</pre>\n",
       "<pre style=\"background-color:hsl(240, 100%, 100.0%)\"\n",
       "                    title=\"Line 251:   0% 0.0\"> 251             quote = not quote</pre>\n",
       "<pre style=\"background-color:hsl(240, 100%, 86.36363636363636%)\"\n",
       "                    title=\"Line 252:   9% 600.0\"> 252         elif not tag:</pre>\n",
       "<pre style=\"background-color:hsl(240, 100%, 93.18181818181819%)\"\n",
       "                    title=\"Line 253:   4% 300.0\"> 253             out = out + c</pre>\n",
       "<pre style=\"background-color:hsl(240, 100%, 100.0%)\"\n",
       "                    title=\"Line 254:   0% 0.0\"> 254 &nbsp;</pre>\n",
       "<pre style=\"background-color:hsl(240, 100%, 95.45454545454545%)\"\n",
       "                    title=\"Line 255:   3% 200.0\"> 255     return out</pre>\n"
      ],
      "text/markdown": [
       "| `remove_html_markup` | `s='<b>foo</b>'` | \n",
       "| ---------------------- | ---- | \n",
       "| <samp style=\"background-color: hsl(240, 100%, 97.72727272727273%)\" title=\"  1% 100.0\">remove_html_markup:238</samp> |    X | \n",
       "| <samp style=\"background-color: hsl(240, 100%, 97.72727272727273%)\" title=\"  1% 100.0\">remove_html_markup:239</samp> |    X | \n",
       "| <samp style=\"background-color: hsl(240, 100%, 97.72727272727273%)\" title=\"  1% 100.0\">remove_html_markup:240</samp> |    X | \n",
       "| <samp style=\"background-color: hsl(240, 100%, 97.72727272727273%)\" title=\"  1% 100.0\">remove_html_markup:241</samp> |    X | \n",
       "| <samp style=\"background-color: hsl(240, 100%, 75.0%)\" title=\" 17% 1100.0\">remove_html_markup:243</samp> |    X | \n",
       "| <samp style=\"background-color: hsl(240, 100%, 77.27272727272728%)\" title=\" 15% 1000.0\">remove_html_markup:244</samp> |    X | \n",
       "| <samp style=\"background-color: hsl(240, 100%, 77.27272727272728%)\" title=\" 15% 1000.0\">remove_html_markup:246</samp> |    X | \n",
       "| <samp style=\"background-color: hsl(240, 100%, 95.45454545454545%)\" title=\"  3% 200.0\">remove_html_markup:247</samp> |    X | \n",
       "| <samp style=\"background-color: hsl(240, 100%, 81.81818181818181%)\" title=\" 12% 800.0\">remove_html_markup:248</samp> |    X | \n",
       "| <samp style=\"background-color: hsl(240, 100%, 95.45454545454545%)\" title=\"  3% 200.0\">remove_html_markup:249</samp> |    X | \n",
       "| <samp style=\"background-color: hsl(240, 100%, 86.36363636363636%)\" title=\"  9% 600.0\">remove_html_markup:250</samp> |    X | \n",
       "| <samp style=\"background-color: hsl(240, 100%, 86.36363636363636%)\" title=\"  9% 600.0\">remove_html_markup:252</samp> |    X | \n",
       "| <samp style=\"background-color: hsl(240, 100%, 93.18181818181819%)\" title=\"  4% 300.0\">remove_html_markup:253</samp> |    X | \n",
       "| <samp style=\"background-color: hsl(240, 100%, 95.45454545454545%)\" title=\"  3% 200.0\">remove_html_markup:255</samp> |    X | \n"
      ],
      "text/plain": [
       " 238   1% def remove_html_markup(s):  # type: ignore\n",
       " 239   1%     tag = False\n",
       " 240   1%     quote = False\n",
       " 241   1%     out = \"\"\n",
       " 242   0%\n",
       " 243  17%     for c in s:\n",
       " 244  15%         assert tag or not quote\n",
       " 245   0%\n",
       " 246  15%         if c == '<' and not quote:\n",
       " 247   3%             tag = True\n",
       " 248  12%         elif c == '>' and not quote:\n",
       " 249   3%             tag = False\n",
       " 250   9%         elif (c == '\"' or c == \"'\") and tag:\n",
       " 251   0%             quote = not quote\n",
       " 252   9%         elif not tag:\n",
       " 253   4%             out = out + c\n",
       " 254   0%\n",
       " 255   3%     return out"
      ]
     },
     "execution_count": 43,
     "metadata": {},
     "output_type": "execute_result"
    }
   ],
   "source": [
    "debugger"
   ]
  },
  {
   "cell_type": "markdown",
   "metadata": {
    "slideshow": {
     "slide_type": "slide"
    }
   },
   "source": [
    "## Integrating with Delta Debugging\n",
    "\n",
    "Besides identifying causes for performance issues in the code, one may also search for causes in the _input_, using [Delta Debugging](DeltaDebugger.ipynb). This can be useful if one does not immediately want to embark into investigating the code, but maybe first determine external influences that are related to performance issues."
   ]
  },
  {
   "cell_type": "markdown",
   "metadata": {
    "slideshow": {
     "slide_type": "fragment"
    }
   },
   "source": [
    "Here is a variant of `remove_html_markup()` that introduces a (rather obvious) performance issue."
   ]
  },
  {
   "cell_type": "code",
   "execution_count": 44,
   "metadata": {
    "execution": {
     "iopub.execute_input": "2025-10-26T17:54:56.296099Z",
     "iopub.status.busy": "2025-10-26T17:54:56.296023Z",
     "iopub.status.idle": "2025-10-26T17:54:56.297601Z",
     "shell.execute_reply": "2025-10-26T17:54:56.297290Z"
    },
    "slideshow": {
     "slide_type": "skip"
    }
   },
   "outputs": [],
   "source": [
    "import time"
   ]
  },
  {
   "cell_type": "code",
   "execution_count": 45,
   "metadata": {
    "execution": {
     "iopub.execute_input": "2025-10-26T17:54:56.299014Z",
     "iopub.status.busy": "2025-10-26T17:54:56.298929Z",
     "iopub.status.idle": "2025-10-26T17:54:56.301056Z",
     "shell.execute_reply": "2025-10-26T17:54:56.300851Z"
    },
    "slideshow": {
     "slide_type": "subslide"
    }
   },
   "outputs": [],
   "source": [
    "def remove_html_markup_ampersand(s: str) -> str:\n",
    "    tag = False\n",
    "    quote = False\n",
    "    out = \"\"\n",
    "\n",
    "    for c in s:\n",
    "        assert tag or not quote\n",
    "\n",
    "        if c == '&':\n",
    "            time.sleep(0.1)  # <-- the obvious performance issue\n",
    "\n",
    "        if c == '<' and not quote:\n",
    "            tag = True\n",
    "        elif c == '>' and not quote:\n",
    "            tag = False\n",
    "        elif (c == '\"' or c == \"'\") and tag:\n",
    "            quote = not quote\n",
    "        elif not tag:\n",
    "            out = out + c\n",
    "\n",
    "    return out"
   ]
  },
  {
   "cell_type": "markdown",
   "metadata": {
    "slideshow": {
     "slide_type": "subslide"
    }
   },
   "source": [
    "We can easily trigger this issue by measuring time taken:"
   ]
  },
  {
   "cell_type": "code",
   "execution_count": 46,
   "metadata": {
    "execution": {
     "iopub.execute_input": "2025-10-26T17:54:56.302278Z",
     "iopub.status.busy": "2025-10-26T17:54:56.302199Z",
     "iopub.status.idle": "2025-10-26T17:54:56.616068Z",
     "shell.execute_reply": "2025-10-26T17:54:56.615370Z"
    },
    "slideshow": {
     "slide_type": "fragment"
    }
   },
   "outputs": [
    {
     "data": {
      "text/plain": [
       "0.30978220800170675"
      ]
     },
     "execution_count": 46,
     "metadata": {},
     "output_type": "execute_result"
    }
   ],
   "source": [
    "with Timer.Timer() as t:\n",
    "    remove_html_markup_ampersand('&&&')\n",
    "t.elapsed_time()"
   ]
  },
  {
   "cell_type": "markdown",
   "metadata": {
    "slideshow": {
     "slide_type": "fragment"
    }
   },
   "source": [
    "Let us set up a test that checks whether the performance issue is present."
   ]
  },
  {
   "cell_type": "code",
   "execution_count": 47,
   "metadata": {
    "execution": {
     "iopub.execute_input": "2025-10-26T17:54:56.620529Z",
     "iopub.status.busy": "2025-10-26T17:54:56.620093Z",
     "iopub.status.idle": "2025-10-26T17:54:56.624724Z",
     "shell.execute_reply": "2025-10-26T17:54:56.624060Z"
    },
    "slideshow": {
     "slide_type": "fragment"
    }
   },
   "outputs": [],
   "source": [
    "def remove_html_test(s: str) -> None:\n",
    "    with Timer.Timer() as t:\n",
    "        remove_html_markup_ampersand(s)\n",
    "    assert t.elapsed_time() < 0.1"
   ]
  },
  {
   "cell_type": "markdown",
   "metadata": {
    "slideshow": {
     "slide_type": "fragment"
    }
   },
   "source": [
    "We can now apply delta debugging to determine a minimum input that causes the failure:"
   ]
  },
  {
   "cell_type": "code",
   "execution_count": 48,
   "metadata": {
    "execution": {
     "iopub.execute_input": "2025-10-26T17:54:56.628938Z",
     "iopub.status.busy": "2025-10-26T17:54:56.628640Z",
     "iopub.status.idle": "2025-10-26T17:54:56.633413Z",
     "shell.execute_reply": "2025-10-26T17:54:56.631667Z"
    },
    "slideshow": {
     "slide_type": "fragment"
    }
   },
   "outputs": [],
   "source": [
    "s_fail = '<b>foo&amp;</b>'"
   ]
  },
  {
   "cell_type": "code",
   "execution_count": 49,
   "metadata": {
    "execution": {
     "iopub.execute_input": "2025-10-26T17:54:56.636469Z",
     "iopub.status.busy": "2025-10-26T17:54:56.636343Z",
     "iopub.status.idle": "2025-10-26T17:54:56.744777Z",
     "shell.execute_reply": "2025-10-26T17:54:56.743922Z"
    },
    "slideshow": {
     "slide_type": "subslide"
    }
   },
   "outputs": [],
   "source": [
    "with DeltaDebugger.DeltaDebugger() as dd:\n",
    "    remove_html_test(s_fail)"
   ]
  },
  {
   "cell_type": "code",
   "execution_count": 50,
   "metadata": {
    "execution": {
     "iopub.execute_input": "2025-10-26T17:54:56.749542Z",
     "iopub.status.busy": "2025-10-26T17:54:56.749243Z",
     "iopub.status.idle": "2025-10-26T17:54:57.276206Z",
     "shell.execute_reply": "2025-10-26T17:54:57.275124Z"
    },
    "slideshow": {
     "slide_type": "fragment"
    }
   },
   "outputs": [
    {
     "data": {
      "text/plain": [
       "{'s': '&'}"
      ]
     },
     "execution_count": 50,
     "metadata": {},
     "output_type": "execute_result"
    }
   ],
   "source": [
    "dd.min_args()"
   ]
  },
  {
   "cell_type": "markdown",
   "metadata": {
    "slideshow": {
     "slide_type": "fragment"
    }
   },
   "source": [
    "For performance issues, however, a minimal input is often not enough to highlight the failure cause. This is because short inputs tend to take less processing time than longer inputs, which increases the risks of a spurious diagnosis. A better alternative is to compute a _maximum_ input where the issue does not occur:"
   ]
  },
  {
   "cell_type": "code",
   "execution_count": 51,
   "metadata": {
    "execution": {
     "iopub.execute_input": "2025-10-26T17:54:57.280133Z",
     "iopub.status.busy": "2025-10-26T17:54:57.279865Z",
     "iopub.status.idle": "2025-10-26T17:54:57.491265Z",
     "shell.execute_reply": "2025-10-26T17:54:57.488806Z"
    },
    "slideshow": {
     "slide_type": "fragment"
    }
   },
   "outputs": [],
   "source": [
    "s_pass = dd.max_args()"
   ]
  },
  {
   "cell_type": "code",
   "execution_count": 52,
   "metadata": {
    "execution": {
     "iopub.execute_input": "2025-10-26T17:54:57.495629Z",
     "iopub.status.busy": "2025-10-26T17:54:57.495225Z",
     "iopub.status.idle": "2025-10-26T17:54:57.501249Z",
     "shell.execute_reply": "2025-10-26T17:54:57.500132Z"
    },
    "slideshow": {
     "slide_type": "fragment"
    }
   },
   "outputs": [
    {
     "data": {
      "text/plain": [
       "{'s': '<b>fooamp;</b>'}"
      ]
     },
     "execution_count": 52,
     "metadata": {},
     "output_type": "execute_result"
    }
   ],
   "source": [
    "s_pass"
   ]
  },
  {
   "cell_type": "markdown",
   "metadata": {
    "slideshow": {
     "slide_type": "fragment"
    }
   },
   "source": [
    "We see that the culprit character (the `&`) is removed. This tells us the failure-inducing difference – or, more precisely, the cause for the performance issue."
   ]
  },
  {
   "cell_type": "markdown",
   "metadata": {
    "button": false,
    "new_sheet": true,
    "run_control": {
     "read_only": false
    },
    "slideshow": {
     "slide_type": "slide"
    }
   },
   "source": [
    "## Lessons Learned\n",
    "\n",
    "* To measure performance,\n",
    "    * instrument the code such that the time taken per function (or line) is collected; or\n",
    "    * sample the execution that at regular intervals, the active call stack is collected.\n",
    "* To make code performant, focus on efficient algorithms, efficient data types, and sufficient abstraction such that you can replace them by alternatives.\n",
    "* Beyond efficient algorithms and data types, do _not_ optimize before measuring."
   ]
  },
  {
   "cell_type": "markdown",
   "metadata": {
    "button": false,
    "new_sheet": false,
    "run_control": {
     "read_only": false
    },
    "slideshow": {
     "slide_type": "slide"
    }
   },
   "source": [
    "## Next Steps\n",
    "\n",
    "This chapter concludes the part on abstracting failures. The next part will focus on\n",
    "\n",
    "* [repairing code automatically](Repairer.ipynb)"
   ]
  },
  {
   "cell_type": "markdown",
   "metadata": {
    "slideshow": {
     "slide_type": "slide"
    }
   },
   "source": [
    "## Background\n",
    "\n",
    "[Scalene](https://github.com/plasma-umass/scalene) is a high-performance, high-precision CPU, GPU, and memory profiler for Python. In contrast to the standard Python `cProfile` profiler, it uses _sampling_ instead of instrumentation or relying on Python's tracing facilities; and it also supports line-by-line profiling. Scalene might be the tool of choice if you want to go beyond basic profiling.\n",
    "\n",
    "The Wikipedia articles on [profiling](https://en.wikipedia.org/wiki/Profiling_(computer_programming)) and [performance analysis tools](https://en.wikipedia.org/wiki/List_of_performance_analysis_tools) provide several additional resources on profiling tools and how to apply them in practice."
   ]
  },
  {
   "cell_type": "markdown",
   "metadata": {
    "button": false,
    "new_sheet": true,
    "run_control": {
     "read_only": false
    },
    "slideshow": {
     "slide_type": "slide"
    }
   },
   "source": [
    "## Exercises"
   ]
  },
  {
   "attachments": {},
   "cell_type": "markdown",
   "metadata": {
    "button": false,
    "new_sheet": false,
    "run_control": {
     "read_only": false
    },
    "slideshow": {
     "slide_type": "subslide"
    }
   },
   "source": [
    "### Exercise 1: Profiling Memory Usage\n",
    "\n",
    "The Python [`tracemalloc` module](https://docs.python.org/3/library/tracemalloc.html) allows tracking memory usage during execution. Between `tracemalloc.start()` and `tracemalloc.end()`, use `tracemalloc.get_traced_memory()` to obtain how much memory is currently being consumed:"
   ]
  },
  {
   "cell_type": "code",
   "execution_count": 58,
   "metadata": {
    "execution": {
     "iopub.execute_input": "2025-10-26T17:54:58.551991Z",
     "iopub.status.busy": "2025-10-26T17:54:58.551864Z",
     "iopub.status.idle": "2025-10-26T17:54:58.555879Z",
     "shell.execute_reply": "2025-10-26T17:54:58.555583Z"
    },
    "slideshow": {
     "slide_type": "skip"
    }
   },
   "outputs": [],
   "source": [
    "import tracemalloc"
   ]
  },
  {
   "cell_type": "code",
   "execution_count": 59,
   "metadata": {
    "execution": {
     "iopub.execute_input": "2025-10-26T17:54:58.557638Z",
     "iopub.status.busy": "2025-10-26T17:54:58.557517Z",
     "iopub.status.idle": "2025-10-26T17:54:58.559672Z",
     "shell.execute_reply": "2025-10-26T17:54:58.559155Z"
    },
    "slideshow": {
     "slide_type": "fragment"
    }
   },
   "outputs": [],
   "source": [
    "tracemalloc.start()"
   ]
  },
  {
   "cell_type": "code",
   "execution_count": 60,
   "metadata": {
    "execution": {
     "iopub.execute_input": "2025-10-26T17:54:58.561453Z",
     "iopub.status.busy": "2025-10-26T17:54:58.561246Z",
     "iopub.status.idle": "2025-10-26T17:54:58.565113Z",
     "shell.execute_reply": "2025-10-26T17:54:58.564706Z"
    },
    "slideshow": {
     "slide_type": "fragment"
    }
   },
   "outputs": [
    {
     "data": {
      "text/plain": [
       "20551"
      ]
     },
     "execution_count": 60,
     "metadata": {},
     "output_type": "execute_result"
    }
   ],
   "source": [
    "current_size, peak_size = tracemalloc.get_traced_memory()\n",
    "current_size"
   ]
  },
  {
   "cell_type": "code",
   "execution_count": 61,
   "metadata": {
    "execution": {
     "iopub.execute_input": "2025-10-26T17:54:58.566828Z",
     "iopub.status.busy": "2025-10-26T17:54:58.566615Z",
     "iopub.status.idle": "2025-10-26T17:54:58.568751Z",
     "shell.execute_reply": "2025-10-26T17:54:58.568518Z"
    },
    "slideshow": {
     "slide_type": "fragment"
    }
   },
   "outputs": [],
   "source": [
    "tracemalloc.stop()"
   ]
  },
  {
   "attachments": {},
   "cell_type": "markdown",
   "metadata": {
    "slideshow": {
     "slide_type": "subslide"
    }
   },
   "source": [
    "Create a subclass of `MetricCollector` named `MemoryCollector`. Make it measure the memory consumption before and after each line executed (0 if negative), and visualize the impact of individual lines on memory. Create an appropriate test program that (temporarily) consumes larger amounts of memory."
   ]
  },
  {
   "attachments": {},
   "cell_type": "markdown",
   "metadata": {
    "slideshow": {
     "slide_type": "slide"
    }
   },
   "source": [
    "## Exercise 2: Statistical Performance Debugging\n",
    "\n",
    "In a similar way as we integrated a binary \"performance test\" with delta debugging, we can also integrate such a test with other techniques. Combining a performance test with [Statistical Debugging](StatisticalDebugger.ipynb), for instance, will highlight those lines whose execution correlates with low performance. But then, the performance test need not be binary, as with functional pass/fail tests – you can also _weight_ individual lines by _how much_ they impact performance. Create a variant of `StatisticalDebugger` that reflects the impact of individual lines on an arbitrary (summarized) performance metric."
   ]
  }
 ],
 "metadata": {
  "ipub": {
   "bibliography": "fuzzingbook.bib",
   "toc": true
  },
  "kernelspec": {
   "display_name": "3.12.8",
   "language": "python",
   "name": "python3"
  },
  "language_info": {
   "codemirror_mode": {
    "name": "ipython",
    "version": 3
   },
   "file_extension": ".py",
   "mimetype": "text/x-python",
   "name": "python",
   "nbconvert_exporter": "python",
   "pygments_lexer": "ipython3",
   "version": "3.13.4"
  },
  "toc": {
   "base_numbering": 1,
   "nav_menu": {},
   "number_sections": true,
   "sideBar": true,
   "skip_h1_title": true,
   "title_cell": "",
   "title_sidebar": "Contents",
   "toc_cell": false,
   "toc_position": {},
   "toc_section_display": true,
   "toc_window_display": true
  },
  "toc-autonumbering": false
 },
 "nbformat": 4,
 "nbformat_minor": 4
}