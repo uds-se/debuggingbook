{
 "cells": [
  {
   "cell_type": "markdown",
   "metadata": {
    "button": false,
    "new_sheet": false,
    "run_control": {
     "read_only": false
    },
    "slideshow": {
     "slide_type": "slide"
    }
   },
   "source": [
    "# Tracking Failure Origins\n",
    "\n",
    "The question of \"Where does this value come from?\" is fundamental for debugging. Which earlier variables could possibly have influenced the current erroneous state? And how did their values come to be?\n",
    "\n",
    "When programmers read code during debugging, they scan it for potential _origins_ of given values. This can be a tedious experience, notably, if the origins spread across multiple separate locations, possibly even in different modules. In this chapter, we thus investigate means to _determine such origins_ automatically – by collecting data and control dependencies during program execution."
   ]
  },
  {
   "cell_type": "code",
   "execution_count": 1,
   "metadata": {
    "execution": {
     "iopub.execute_input": "2025-10-26T17:47:15.353121Z",
     "iopub.status.busy": "2025-10-26T17:47:15.352635Z",
     "iopub.status.idle": "2025-10-26T17:47:16.055667Z",
     "shell.execute_reply": "2025-10-26T17:47:16.055389Z"
    },
    "slideshow": {
     "slide_type": "skip"
    }
   },
   "outputs": [
    {
     "data": {
      "text/html": [
       "\n",
       "        <iframe\n",
       "            width=\"640\"\n",
       "            height=\"360\"\n",
       "            src=\"https://www.youtube-nocookie.com/embed/sjf3cOR0lcI\"\n",
       "            frameborder=\"0\"\n",
       "            allowfullscreen\n",
       "            \n",
       "        ></iframe>\n",
       "        "
      ],
      "text/plain": [
       "<IPython.lib.display.IFrame at 0x10d4d6f90>"
      ]
     },
     "execution_count": 1,
     "metadata": {},
     "output_type": "execute_result"
    }
   ],
   "source": [
    "from bookutils import YouTubeVideo\n",
    "YouTubeVideo(\"sjf3cOR0lcI\")"
   ]
  },
  {
   "cell_type": "markdown",
   "metadata": {
    "button": false,
    "new_sheet": false,
    "run_control": {
     "read_only": false
    },
    "slideshow": {
     "slide_type": "subslide"
    }
   },
   "source": [
    "**Prerequisites**\n",
    "\n",
    "* You should have read the [Introduction to Debugging](Intro_Debugging).\n",
    "* To understand how to compute dependencies automatically (the second half of this chapter), you will need\n",
    "    * advanced knowledge of Python semantics\n",
    "    * knowledge on how to instrument and transform code\n",
    "    * knowledge on how an interpreter works"
   ]
  },
  {
   "cell_type": "code",
   "execution_count": 2,
   "metadata": {
    "button": false,
    "execution": {
     "iopub.execute_input": "2025-10-26T17:47:16.075203Z",
     "iopub.status.busy": "2025-10-26T17:47:16.075045Z",
     "iopub.status.idle": "2025-10-26T17:47:16.077309Z",
     "shell.execute_reply": "2025-10-26T17:47:16.077041Z"
    },
    "new_sheet": false,
    "run_control": {
     "read_only": false
    },
    "slideshow": {
     "slide_type": "skip"
    }
   },
   "outputs": [],
   "source": [
    "import bookutils.setup"
   ]
  },
  {
   "cell_type": "code",
   "execution_count": 3,
   "metadata": {
    "execution": {
     "iopub.execute_input": "2025-10-26T17:47:16.078617Z",
     "iopub.status.busy": "2025-10-26T17:47:16.078482Z",
     "iopub.status.idle": "2025-10-26T17:47:16.080149Z",
     "shell.execute_reply": "2025-10-26T17:47:16.079876Z"
    },
    "slideshow": {
     "slide_type": "skip"
    }
   },
   "outputs": [],
   "source": [
    "from bookutils import quiz, next_inputs, print_content"
   ]
  },
  {
   "cell_type": "code",
   "execution_count": 4,
   "metadata": {
    "execution": {
     "iopub.execute_input": "2025-10-26T17:47:16.081362Z",
     "iopub.status.busy": "2025-10-26T17:47:16.081268Z",
     "iopub.status.idle": "2025-10-26T17:47:16.082831Z",
     "shell.execute_reply": "2025-10-26T17:47:16.082584Z"
    },
    "slideshow": {
     "slide_type": "skip"
    }
   },
   "outputs": [],
   "source": [
    "import inspect\n",
    "import warnings"
   ]
  },
  {
   "cell_type": "code",
   "execution_count": 5,
   "metadata": {
    "execution": {
     "iopub.execute_input": "2025-10-26T17:47:16.083951Z",
     "iopub.status.busy": "2025-10-26T17:47:16.083862Z",
     "iopub.status.idle": "2025-10-26T17:47:16.085341Z",
     "shell.execute_reply": "2025-10-26T17:47:16.085082Z"
    },
    "slideshow": {
     "slide_type": "fragment"
    },
    "tags": [
     "remove-input"
    ]
   },
   "outputs": [],
   "source": [
    "# ignore\n",
    "from typing import Set, List, Tuple, Any, Callable, Dict, Optional\n",
    "from typing import Union, Type, Generator, cast"
   ]
  },
  {
   "cell_type": "markdown",
   "metadata": {
    "slideshow": {
     "slide_type": "slide"
    }
   },
   "source": [
    "## Synopsis\n",
    "To [use the code provided in this chapter](Importing.ipynb), write\n",
    "\n",
    "```python\n",
    ">>> from debuggingbook.Slicer import <identifier>\n",
    "```\n",
    "\n",
    "and then make use of the following features.\n",
    "\n",
    "**Note**: The examples in this section only work after the rest of the cells have been executed.\n"
   ]
  },
  {
   "cell_type": "markdown",
   "metadata": {
    "slideshow": {
     "slide_type": "fragment"
    }
   },
   "source": [
    "This chapter provides a `Slicer` class to automatically determine and visualize dynamic flows and dependencies. When we say that a variable $x$ _depends_ on a variable $y$ (and that $y$ _flows_ into $x$), we distinguish two kinds of dependencies:\n",
    "\n",
    "* **Data dependency**: $x$ is assigned a value computed from $y$.\n",
    "* **Control dependency**: A statement involving $x$ is executed _only_ because a _condition_ involving $y$ was evaluated, influencing the execution path.\n",
    "\n",
    "Such dependencies are crucial for debugging, as they allow determininh the origins of individual values (and notably incorrect values)."
   ]
  },
  {
   "cell_type": "markdown",
   "metadata": {
    "slideshow": {
     "slide_type": "subslide"
    }
   },
   "source": [
    "To determine dynamic dependencies in a function `func`, use\n",
    "\n",
    "```python\n",
    "with Slicer() as slicer:\n",
    "    <Some call to func()>\n",
    "```\n",
    "\n",
    "and then `slicer.graph()` or `slicer.code()` to examine dependencies."
   ]
  },
  {
   "cell_type": "markdown",
   "metadata": {
    "slideshow": {
     "slide_type": "subslide"
    }
   },
   "source": [
    "You can also explicitly specify the functions to be instrumented, as in \n",
    "\n",
    "```python\n",
    "with Slicer(func, func_1, func_2) as slicer:\n",
    "    <Some call to func()>\n",
    "```"
   ]
  },
  {
   "cell_type": "markdown",
   "metadata": {
    "slideshow": {
     "slide_type": "fragment"
    }
   },
   "source": [
    "Here is an example. The `demo()` function computes some number from `x`:"
   ]
  },
  {
   "cell_type": "code",
   "execution_count": 244,
   "metadata": {
    "execution": {
     "iopub.execute_input": "2025-10-26T17:47:26.827824Z",
     "iopub.status.busy": "2025-10-26T17:47:26.827697Z",
     "iopub.status.idle": "2025-10-26T17:47:26.829764Z",
     "shell.execute_reply": "2025-10-26T17:47:26.829514Z"
    },
    "slideshow": {
     "slide_type": "fragment"
    }
   },
   "outputs": [],
   "source": [
    "def demo(x: int) -> int:\n",
    "    z = x\n",
    "    while x <= z <= 64:\n",
    "        z *= 2\n",
    "    return z"
   ]
  },
  {
   "cell_type": "markdown",
   "metadata": {
    "slideshow": {
     "slide_type": "subslide"
    }
   },
   "source": [
    "By using `with Slicer()`, we first instrument `demo()` and then execute it:"
   ]
  },
  {
   "cell_type": "code",
   "execution_count": 245,
   "metadata": {
    "execution": {
     "iopub.execute_input": "2025-10-26T17:47:26.831097Z",
     "iopub.status.busy": "2025-10-26T17:47:26.830984Z",
     "iopub.status.idle": "2025-10-26T17:47:26.836242Z",
     "shell.execute_reply": "2025-10-26T17:47:26.836017Z"
    },
    "slideshow": {
     "slide_type": "fragment"
    }
   },
   "outputs": [
    {
     "name": "stderr",
     "output_type": "stream",
     "text": [
      "/var/folders/n2/xd9445p97rb3xh7m1dfx8_4h0006ts/T/ipykernel_51412/2454789564.py:22: DeprecationWarning: ast.Str is deprecated and will be removed in Python 3.14; use ast.Constant instead\n",
      "  args=[ast.Str(id), value],\n",
      "/var/folders/n2/xd9445p97rb3xh7m1dfx8_4h0006ts/T/ipykernel_51412/3554319793.py:4: DeprecationWarning: ast.Str is deprecated and will be removed in Python 3.14; use ast.Constant instead\n",
      "  args=[ast.Str(id), Name(id=id, ctx=Load())],\n",
      "/var/folders/n2/xd9445p97rb3xh7m1dfx8_4h0006ts/T/ipykernel_51412/882995308.py:12: DeprecationWarning: ast.Num is deprecated and will be removed in Python 3.14; use ast.Constant instead\n",
      "  keywords=[keyword(arg='pos', value=ast.Num(n + 1))]\n",
      "/var/folders/n2/xd9445p97rb3xh7m1dfx8_4h0006ts/T/ipykernel_51412/882995308.py:19: DeprecationWarning: ast.NameConstant is deprecated and will be removed in Python 3.14; use ast.Constant instead\n",
      "  value=ast.NameConstant(value=True)))\n",
      "/var/folders/n2/xd9445p97rb3xh7m1dfx8_4h0006ts/T/ipykernel_51412/882995308.py:25: DeprecationWarning: ast.Str is deprecated and will be removed in Python 3.14; use ast.Constant instead\n",
      "  args=[ast.Str(child.arg),\n"
     ]
    }
   ],
   "source": [
    "with Slicer() as slicer:\n",
    "    demo(10)"
   ]
  },
  {
   "cell_type": "markdown",
   "metadata": {
    "slideshow": {
     "slide_type": "subslide"
    }
   },
   "source": [
    "After execution is complete, you can output `slicer` to visualize the dependencies and flows as graph. Data dependencies are shown as black solid edges; control dependencies are shown as grey dashed edges. The arrows indicate influence: If $y$ depends on $x$ (and thus $x$ flows into $y$), then we have an arrow $x \\rightarrow y$.\n",
    "We see how the parameter `x` flows into `z`, which is returned after some computation that is control dependent on a `<test>` involving `z`."
   ]
  },
  {
   "cell_type": "code",
   "execution_count": 246,
   "metadata": {
    "execution": {
     "iopub.execute_input": "2025-10-26T17:47:26.837439Z",
     "iopub.status.busy": "2025-10-26T17:47:26.837364Z",
     "iopub.status.idle": "2025-10-26T17:47:27.185004Z",
     "shell.execute_reply": "2025-10-26T17:47:27.184698Z"
    },
    "slideshow": {
     "slide_type": "fragment"
    }
   },
   "outputs": [
    {
     "data": {
      "image/svg+xml": [
       "<?xml version=\"1.0\" encoding=\"UTF-8\" standalone=\"no\"?>\n",
       "<!DOCTYPE svg PUBLIC \"-//W3C//DTD SVG 1.1//EN\"\n",
       " \"http://www.w3.org/Graphics/SVG/1.1/DTD/svg11.dtd\">\n",
       "<!-- Generated by graphviz version 14.0.2 (20251019.1705)\n",
       " -->\n",
       "<!-- Title: dependencies Pages: 1 -->\n",
       "<svg width=\"332pt\" height=\"276pt\"\n",
       " viewBox=\"0.00 0.00 332.00 276.00\" xmlns=\"http://www.w3.org/2000/svg\" xmlns:xlink=\"http://www.w3.org/1999/xlink\">\n",
       "<g id=\"graph0\" class=\"graph\" transform=\"scale(1 1) rotate(0) translate(4 272)\">\n",
       "<title>dependencies</title>\n",
       "<polygon fill=\"white\" stroke=\"none\" points=\"-4,4 -4,-272 327.5,-272 327.5,4 -4,4\"/>\n",
       "<!-- x_functiondemoat0x10e2807c0_5 -->\n",
       "<g id=\"node1\" class=\"node\">\n",
       "<title>x_functiondemoat0x10e2807c0_5</title>\n",
       "<g id=\"a_node1\"><a xlink:title=\"demo:5\">\n",
       "<polygon fill=\"peachpuff\" stroke=\"black\" points=\"62.88,-268 4.88,-268 4.88,-228 62.88,-228 62.88,-268\"/>\n",
       "<text xml:space=\"preserve\" text-anchor=\"start\" x=\"29.75\" y=\"-251.7\" font-family=\"Courier,monospace\" font-weight=\"bold\" font-size=\"14.00\">x</text>\n",
       "<text xml:space=\"preserve\" text-anchor=\"start\" x=\"12.88\" y=\"-233.45\" font-family=\"Courier,monospace\" font-size=\"9.00\">return z</text>\n",
       "</a>\n",
       "</g>\n",
       "</g>\n",
       "<!-- z_functiondemoat0x10e2807c0_2 -->\n",
       "<g id=\"node3\" class=\"node\">\n",
       "<title>z_functiondemoat0x10e2807c0_2</title>\n",
       "<g id=\"a_node3\"><a xlink:title=\"demo:2\">\n",
       "<polygon fill=\"peachpuff\" stroke=\"black\" points=\"88.88,-192 34.88,-192 34.88,-152 88.88,-152 88.88,-192\"/>\n",
       "<text xml:space=\"preserve\" text-anchor=\"start\" x=\"57.75\" y=\"-175.7\" font-family=\"Courier,monospace\" font-weight=\"bold\" font-size=\"14.00\">z</text>\n",
       "<text xml:space=\"preserve\" text-anchor=\"start\" x=\"48.75\" y=\"-157.45\" font-family=\"Courier,monospace\" font-size=\"9.00\">z = x</text>\n",
       "</a>\n",
       "</g>\n",
       "</g>\n",
       "<!-- x_functiondemoat0x10e2807c0_5&#45;&gt;z_functiondemoat0x10e2807c0_2 -->\n",
       "<g id=\"edge8\" class=\"edge\">\n",
       "<title>x_functiondemoat0x10e2807c0_5&#45;&gt;z_functiondemoat0x10e2807c0_2</title>\n",
       "<path fill=\"none\" stroke=\"black\" d=\"M41.23,-227.56C44.09,-219.99 47.44,-211.16 50.59,-202.83\"/>\n",
       "<polygon fill=\"black\" stroke=\"black\" points=\"53.77,-204.32 54.03,-193.73 47.22,-201.84 53.77,-204.32\"/>\n",
       "</g>\n",
       "<!-- test_functiondemoat0x10e2807c0_3 -->\n",
       "<g id=\"node4\" class=\"node\">\n",
       "<title>test_functiondemoat0x10e2807c0_3</title>\n",
       "<g id=\"a_node4\"><a xlink:title=\"demo:3\">\n",
       "<polygon fill=\"peachpuff\" stroke=\"black\" points=\"115.75,-40 0,-40 0,0 115.75,0 115.75,-40\"/>\n",
       "<text xml:space=\"preserve\" text-anchor=\"start\" x=\"33.12\" y=\"-23.7\" font-family=\"Courier,monospace\" font-weight=\"bold\" font-style=\"italic\" font-size=\"14.00\">&lt;test&gt;</text>\n",
       "<text xml:space=\"preserve\" text-anchor=\"start\" x=\"8\" y=\"-5.45\" font-family=\"Courier,monospace\" font-size=\"9.00\">while x &lt;= z &lt;= 64:</text>\n",
       "</a>\n",
       "</g>\n",
       "</g>\n",
       "<!-- x_functiondemoat0x10e2807c0_5&#45;&gt;test_functiondemoat0x10e2807c0_3 -->\n",
       "<g id=\"edge5\" class=\"edge\">\n",
       "<title>x_functiondemoat0x10e2807c0_5&#45;&gt;test_functiondemoat0x10e2807c0_3</title>\n",
       "<path fill=\"none\" stroke=\"black\" d=\"M30.38,-227.73C28.64,-217.21 26.74,-203.93 25.88,-192 24.59,-174.27 23.75,-169.65 25.88,-152 30.12,-116.77 40.55,-77.33 48.36,-51.02\"/>\n",
       "<polygon fill=\"black\" stroke=\"black\" points=\"51.63,-52.3 51.19,-41.71 44.93,-50.26 51.63,-52.3\"/>\n",
       "</g>\n",
       "<!-- z_functiondemoat0x10e2807c0_4 -->\n",
       "<g id=\"node2\" class=\"node\">\n",
       "<title>z_functiondemoat0x10e2807c0_4</title>\n",
       "<g id=\"a_node2\"><a xlink:title=\"demo:4\">\n",
       "<polygon fill=\"peachpuff\" stroke=\"black\" points=\"148.88,-116 94.88,-116 94.88,-76 148.88,-76 148.88,-116\"/>\n",
       "<text xml:space=\"preserve\" text-anchor=\"start\" x=\"117.75\" y=\"-99.7\" font-family=\"Courier,monospace\" font-weight=\"bold\" font-size=\"14.00\">z</text>\n",
       "<text xml:space=\"preserve\" text-anchor=\"start\" x=\"106.12\" y=\"-81.45\" font-family=\"Courier,monospace\" font-size=\"9.00\">z *= 2</text>\n",
       "</a>\n",
       "</g>\n",
       "</g>\n",
       "<!-- z_functiondemoat0x10e2807c0_4&#45;&gt;z_functiondemoat0x10e2807c0_4 -->\n",
       "<g id=\"edge2\" class=\"edge\">\n",
       "<title>z_functiondemoat0x10e2807c0_4&#45;&gt;z_functiondemoat0x10e2807c0_4</title>\n",
       "<path fill=\"none\" stroke=\"black\" d=\"M149.12,-110.24C158.9,-110.54 166.88,-105.8 166.88,-96 166.88,-90.34 164.21,-86.36 160.07,-84.07\"/>\n",
       "<polygon fill=\"black\" stroke=\"black\" points=\"161.1,-80.71 150.6,-82.08 159.66,-87.56 161.1,-80.71\"/>\n",
       "</g>\n",
       "<!-- z_functiondemoat0x10e2807c0_4&#45;&gt;test_functiondemoat0x10e2807c0_3 -->\n",
       "<g id=\"edge6\" class=\"edge\">\n",
       "<title>z_functiondemoat0x10e2807c0_4&#45;&gt;test_functiondemoat0x10e2807c0_3</title>\n",
       "<path fill=\"none\" stroke=\"black\" d=\"M94.63,-77.09C85.74,-68.75 76.51,-58.62 69.18,-49.28\"/>\n",
       "<polygon fill=\"black\" stroke=\"black\" points=\"72.2,-47.49 63.45,-41.52 66.57,-51.65 72.2,-47.49\"/>\n",
       "</g>\n",
       "<!-- demoreturnvalue_functiondemoat0x10e2807c0_5 -->\n",
       "<g id=\"node5\" class=\"node\">\n",
       "<title>demoreturnvalue_functiondemoat0x10e2807c0_5</title>\n",
       "<g id=\"a_node5\"><a xlink:title=\"demo:5\">\n",
       "<polygon fill=\"peachpuff\" stroke=\"black\" points=\"323.5,-40 134.25,-40 134.25,0 323.5,0 323.5,-40\"/>\n",
       "<text xml:space=\"preserve\" text-anchor=\"start\" x=\"142.25\" y=\"-23.7\" font-family=\"Courier,monospace\" font-weight=\"bold\" font-style=\"italic\" font-size=\"14.00\">&lt;demo() return value&gt;</text>\n",
       "<text xml:space=\"preserve\" text-anchor=\"start\" x=\"207.88\" y=\"-5.45\" font-family=\"Courier,monospace\" font-size=\"9.00\">return z</text>\n",
       "</a>\n",
       "</g>\n",
       "</g>\n",
       "<!-- z_functiondemoat0x10e2807c0_4&#45;&gt;demoreturnvalue_functiondemoat0x10e2807c0_5 -->\n",
       "<g id=\"edge7\" class=\"edge\">\n",
       "<title>z_functiondemoat0x10e2807c0_4&#45;&gt;demoreturnvalue_functiondemoat0x10e2807c0_5</title>\n",
       "<path fill=\"none\" stroke=\"black\" d=\"M143.96,-75.56C156.07,-66.63 171.39,-55.94 185.71,-46.39\"/>\n",
       "<polygon fill=\"black\" stroke=\"black\" points=\"187.25,-49.57 193.67,-41.15 183.4,-43.73 187.25,-49.57\"/>\n",
       "</g>\n",
       "<!-- z_functiondemoat0x10e2807c0_4&#45;&gt;demoreturnvalue_functiondemoat0x10e2807c0_5 -->\n",
       "<!-- z_functiondemoat0x10e2807c0_2&#45;&gt;z_functiondemoat0x10e2807c0_4 -->\n",
       "<g id=\"edge1\" class=\"edge\">\n",
       "<title>z_functiondemoat0x10e2807c0_2&#45;&gt;z_functiondemoat0x10e2807c0_4</title>\n",
       "<path fill=\"none\" stroke=\"black\" d=\"M77.64,-151.56C84.18,-143.48 91.91,-133.96 99.05,-125.15\"/>\n",
       "<polygon fill=\"black\" stroke=\"black\" points=\"101.68,-127.46 105.26,-117.49 96.25,-123.05 101.68,-127.46\"/>\n",
       "</g>\n",
       "<!-- z_functiondemoat0x10e2807c0_2&#45;&gt;test_functiondemoat0x10e2807c0_3 -->\n",
       "<g id=\"edge4\" class=\"edge\">\n",
       "<title>z_functiondemoat0x10e2807c0_2&#45;&gt;test_functiondemoat0x10e2807c0_3</title>\n",
       "<path fill=\"none\" stroke=\"black\" d=\"M56.66,-151.7C53.58,-126.38 52.1,-81.68 53.12,-51.69\"/>\n",
       "<polygon fill=\"black\" stroke=\"black\" points=\"56.62,-51.9 53.62,-41.74 49.63,-51.55 56.62,-51.9\"/>\n",
       "</g>\n",
       "<!-- z_functiondemoat0x10e2807c0_2&#45;&gt;test_functiondemoat0x10e2807c0_3 -->\n",
       "<!-- test_functiondemoat0x10e2807c0_3&#45;&gt;z_functiondemoat0x10e2807c0_4 -->\n",
       "<g id=\"edge3\" class=\"edge\">\n",
       "<title>test_functiondemoat0x10e2807c0_3&#45;&gt;z_functiondemoat0x10e2807c0_4</title>\n",
       "<path fill=\"none\" stroke=\"grey\" stroke-dasharray=\"5,2\" d=\"M74.58,-40.31C81.62,-48.45 89.95,-58.09 97.65,-66.99\"/>\n",
       "<polygon fill=\"grey\" stroke=\"grey\" points=\"94.88,-69.14 104.07,-74.41 100.18,-64.56 94.88,-69.14\"/>\n",
       "</g>\n",
       "<!-- test_functiondemoat0x10e2807c0_3&#45;&gt;z_functiondemoat0x10e2807c0_4 -->\n",
       "</g>\n",
       "</svg>\n"
      ],
      "text/plain": [
       "<__main__.Slicer at 0x10db16fd0>"
      ]
     },
     "execution_count": 246,
     "metadata": {},
     "output_type": "execute_result"
    }
   ],
   "source": [
    "slicer"
   ]
  },
  {
   "cell_type": "markdown",
   "metadata": {
    "slideshow": {
     "slide_type": "fragment"
    }
   },
   "source": [
    "An alternate representation is `slicer.code()`, annotating the instrumented source code with (backward) dependencies. Data dependencies are shown with `<=`, control dependencies with `<-`; locations (lines) are shown in parentheses."
   ]
  },
  {
   "cell_type": "code",
   "execution_count": 247,
   "metadata": {
    "execution": {
     "iopub.execute_input": "2025-10-26T17:47:27.186355Z",
     "iopub.status.busy": "2025-10-26T17:47:27.186256Z",
     "iopub.status.idle": "2025-10-26T17:47:27.242102Z",
     "shell.execute_reply": "2025-10-26T17:47:27.241795Z"
    },
    "slideshow": {
     "slide_type": "subslide"
    }
   },
   "outputs": [
    {
     "name": "stdout",
     "output_type": "stream",
     "text": [
      "     1 \u001b[34mdef\u001b[39;49;00m\u001b[37m \u001b[39;49;00m\u001b[32mdemo\u001b[39;49;00m(x: \u001b[36mint\u001b[39;49;00m) -> \u001b[36mint\u001b[39;49;00m:\u001b[37m\u001b[39;49;00m\n",
      "*    2     z = x  \u001b[37m# <= x (5)\u001b[39;49;00m\u001b[37m\u001b[39;49;00m\n",
      "*    3     \u001b[34mwhile\u001b[39;49;00m x <= z <= \u001b[34m64\u001b[39;49;00m:  \u001b[37m# <= z (2), x (5), z (4)\u001b[39;49;00m\u001b[37m\u001b[39;49;00m\n",
      "*    4         z *= \u001b[34m2\u001b[39;49;00m  \u001b[37m# <= z (2), z (4); <- <test> (3)\u001b[39;49;00m\u001b[37m\u001b[39;49;00m\n",
      "*    5     \u001b[34mreturn\u001b[39;49;00m z  \u001b[37m# <= z (4)\u001b[39;49;00m\u001b[37m\u001b[39;49;00m\n"
     ]
    }
   ],
   "source": [
    "slicer.code()"
   ]
  },
  {
   "cell_type": "markdown",
   "metadata": {
    "slideshow": {
     "slide_type": "fragment"
    }
   },
   "source": [
    "Dependencies can also be retrieved programmatically. The `dependencies()` method returns a `Dependencies` object encapsulating the dependency graph."
   ]
  },
  {
   "cell_type": "markdown",
   "metadata": {
    "slideshow": {
     "slide_type": "fragment"
    }
   },
   "source": [
    "The method `all_vars()` returns all variables in the dependency graph. Each variable is encoded as a pair (_name_, _location_) where _location_ is a pair (_codename_, _lineno_)."
   ]
  },
  {
   "cell_type": "code",
   "execution_count": 248,
   "metadata": {
    "execution": {
     "iopub.execute_input": "2025-10-26T17:47:27.243632Z",
     "iopub.status.busy": "2025-10-26T17:47:27.243539Z",
     "iopub.status.idle": "2025-10-26T17:47:27.246169Z",
     "shell.execute_reply": "2025-10-26T17:47:27.245860Z"
    },
    "slideshow": {
     "slide_type": "subslide"
    }
   },
   "outputs": [
    {
     "data": {
      "text/plain": [
       "{('<demo() return value>', (<function __main__.demo(x: int) -> int>, 5)),\n",
       " ('<test>', (<function __main__.demo(x: int) -> int>, 3)),\n",
       " ('x', (<function __main__.demo(x: int) -> int>, 5)),\n",
       " ('z', (<function __main__.demo(x: int) -> int>, 2)),\n",
       " ('z', (<function __main__.demo(x: int) -> int>, 4))}"
      ]
     },
     "execution_count": 248,
     "metadata": {},
     "output_type": "execute_result"
    }
   ],
   "source": [
    "slicer.dependencies().all_vars()"
   ]
  },
  {
   "attachments": {},
   "cell_type": "markdown",
   "metadata": {
    "slideshow": {
     "slide_type": "fragment"
    }
   },
   "source": [
    "`code()` and `graph()` methods can also be applied on dependencies. The method `backward_slice(var)` returns a backward slice for the given variable (again given as a pair (_name_, _location_)). To retrieve where `z` in Line 2 came from, use:"
   ]
  },
  {
   "cell_type": "code",
   "execution_count": 249,
   "metadata": {
    "execution": {
     "iopub.execute_input": "2025-10-26T17:47:27.247696Z",
     "iopub.status.busy": "2025-10-26T17:47:27.247603Z",
     "iopub.status.idle": "2025-10-26T17:47:27.249663Z",
     "shell.execute_reply": "2025-10-26T17:47:27.249431Z"
    },
    "slideshow": {
     "slide_type": "fragment"
    }
   },
   "outputs": [
    {
     "data": {
      "text/plain": [
       "1"
      ]
     },
     "execution_count": 249,
     "metadata": {},
     "output_type": "execute_result"
    }
   ],
   "source": [
    "_, start_demo = inspect.getsourcelines(demo)\n",
    "start_demo"
   ]
  },
  {
   "cell_type": "code",
   "execution_count": 250,
   "metadata": {
    "execution": {
     "iopub.execute_input": "2025-10-26T17:47:27.250933Z",
     "iopub.status.busy": "2025-10-26T17:47:27.250843Z",
     "iopub.status.idle": "2025-10-26T17:47:27.576999Z",
     "shell.execute_reply": "2025-10-26T17:47:27.576674Z"
    },
    "slideshow": {
     "slide_type": "fragment"
    }
   },
   "outputs": [
    {
     "data": {
      "image/svg+xml": [
       "<?xml version=\"1.0\" encoding=\"UTF-8\" standalone=\"no\"?>\n",
       "<!DOCTYPE svg PUBLIC \"-//W3C//DTD SVG 1.1//EN\"\n",
       " \"http://www.w3.org/Graphics/SVG/1.1/DTD/svg11.dtd\">\n",
       "<!-- Generated by graphviz version 14.0.2 (20251019.1705)\n",
       " -->\n",
       "<!-- Title: dependencies Pages: 1 -->\n",
       "<svg width=\"66pt\" height=\"124pt\"\n",
       " viewBox=\"0.00 0.00 66.00 124.00\" xmlns=\"http://www.w3.org/2000/svg\" xmlns:xlink=\"http://www.w3.org/1999/xlink\">\n",
       "<g id=\"graph0\" class=\"graph\" transform=\"scale(1 1) rotate(0) translate(4 120)\">\n",
       "<title>dependencies</title>\n",
       "<polygon fill=\"white\" stroke=\"none\" points=\"-4,4 -4,-120 62,-120 62,4 -4,4\"/>\n",
       "<!-- x_functiondemoat0x10e2807c0_5 -->\n",
       "<g id=\"node1\" class=\"node\">\n",
       "<title>x_functiondemoat0x10e2807c0_5</title>\n",
       "<g id=\"a_node1\"><a xlink:title=\"demo:5\">\n",
       "<polygon fill=\"peachpuff\" stroke=\"black\" points=\"58,-116 0,-116 0,-76 58,-76 58,-116\"/>\n",
       "<text xml:space=\"preserve\" text-anchor=\"start\" x=\"24.88\" y=\"-99.7\" font-family=\"Courier,monospace\" font-weight=\"bold\" font-size=\"14.00\">x</text>\n",
       "<text xml:space=\"preserve\" text-anchor=\"start\" x=\"8\" y=\"-81.45\" font-family=\"Courier,monospace\" font-size=\"9.00\">return z</text>\n",
       "</a>\n",
       "</g>\n",
       "</g>\n",
       "<!-- z_functiondemoat0x10e2807c0_2 -->\n",
       "<g id=\"node2\" class=\"node\">\n",
       "<title>z_functiondemoat0x10e2807c0_2</title>\n",
       "<g id=\"a_node2\"><a xlink:title=\"demo:2\">\n",
       "<polygon fill=\"peachpuff\" stroke=\"black\" points=\"56,-40 2,-40 2,0 56,0 56,-40\"/>\n",
       "<text xml:space=\"preserve\" text-anchor=\"start\" x=\"24.88\" y=\"-23.7\" font-family=\"Courier,monospace\" font-weight=\"bold\" font-size=\"14.00\">z</text>\n",
       "<text xml:space=\"preserve\" text-anchor=\"start\" x=\"15.88\" y=\"-5.45\" font-family=\"Courier,monospace\" font-size=\"9.00\">z = x</text>\n",
       "</a>\n",
       "</g>\n",
       "</g>\n",
       "<!-- x_functiondemoat0x10e2807c0_5&#45;&gt;z_functiondemoat0x10e2807c0_2 -->\n",
       "<g id=\"edge1\" class=\"edge\">\n",
       "<title>x_functiondemoat0x10e2807c0_5&#45;&gt;z_functiondemoat0x10e2807c0_2</title>\n",
       "<path fill=\"none\" stroke=\"black\" d=\"M22.98,-75.56C22.32,-68.25 22.11,-59.75 22.34,-51.67\"/>\n",
       "<polygon fill=\"black\" stroke=\"black\" points=\"25.82,-52.01 22.9,-41.82 18.84,-51.61 25.82,-52.01\"/>\n",
       "</g>\n",
       "<!-- z_functiondemoat0x10e2807c0_2&#45;&gt;x_functiondemoat0x10e2807c0_5 -->\n",
       "</g>\n",
       "</svg>\n"
      ],
      "text/plain": [
       "<graphviz.graphs.Digraph at 0x10e281810>"
      ]
     },
     "execution_count": 250,
     "metadata": {},
     "output_type": "execute_result"
    }
   ],
   "source": [
    "slicer.dependencies().backward_slice(('z', (demo, start_demo + 1))).graph()  # type: ignore"
   ]
  },
  {
   "cell_type": "markdown",
   "metadata": {
    "slideshow": {
     "slide_type": "subslide"
    }
   },
   "source": [
    "Here are the classes defined in this chapter. A `Slicer` instruments a program, using a `DependencyTracker` at run time to collect `Dependencies`."
   ]
  },
  {
   "cell_type": "code",
   "execution_count": 251,
   "metadata": {
    "execution": {
     "iopub.execute_input": "2025-10-26T17:47:27.578562Z",
     "iopub.status.busy": "2025-10-26T17:47:27.578457Z",
     "iopub.status.idle": "2025-10-26T17:47:27.580158Z",
     "shell.execute_reply": "2025-10-26T17:47:27.579961Z"
    },
    "slideshow": {
     "slide_type": "fragment"
    },
    "tags": [
     "remove-input"
    ]
   },
   "outputs": [],
   "source": [
    "# ignore\n",
    "from ClassDiagram import display_class_hierarchy, class_tree"
   ]
  },
  {
   "cell_type": "code",
   "execution_count": 252,
   "metadata": {
    "execution": {
     "iopub.execute_input": "2025-10-26T17:47:27.581336Z",
     "iopub.status.busy": "2025-10-26T17:47:27.581253Z",
     "iopub.status.idle": "2025-10-26T17:47:27.582789Z",
     "shell.execute_reply": "2025-10-26T17:47:27.582611Z"
    },
    "slideshow": {
     "slide_type": "fragment"
    },
    "tags": [
     "remove-input"
    ]
   },
   "outputs": [],
   "source": [
    "# ignore\n",
    "assert class_tree(Slicer)[0][0] == Slicer"
   ]
  },
  {
   "cell_type": "code",
   "execution_count": 253,
   "metadata": {
    "execution": {
     "iopub.execute_input": "2025-10-26T17:47:27.583972Z",
     "iopub.status.busy": "2025-10-26T17:47:27.583888Z",
     "iopub.status.idle": "2025-10-26T17:47:28.311924Z",
     "shell.execute_reply": "2025-10-26T17:47:28.311595Z"
    },
    "slideshow": {
     "slide_type": "subslide"
    },
    "tags": [
     "remove-input"
    ]
   },
   "outputs": [
    {
     "data": {
      "image/svg+xml": [
       "<?xml version=\"1.0\" encoding=\"UTF-8\" standalone=\"no\"?>\n",
       "<!DOCTYPE svg PUBLIC \"-//W3C//DTD SVG 1.1//EN\"\n",
       " \"http://www.w3.org/Graphics/SVG/1.1/DTD/svg11.dtd\">\n",
       "<!-- Generated by graphviz version 14.0.2 (20251019.1705)\n",
       " -->\n",
       "<!-- Pages: 1 -->\n",
       "<svg width=\"544pt\" height=\"895pt\"\n",
       " viewBox=\"0.00 0.00 544.00 895.00\" xmlns=\"http://www.w3.org/2000/svg\" xmlns:xlink=\"http://www.w3.org/1999/xlink\">\n",
       "<g id=\"graph0\" class=\"graph\" transform=\"scale(1 1) rotate(0) translate(4 891.25)\">\n",
       "<g id=\"a_graph0\"><a xlink:title=\"Slicer class hierarchy\">\n",
       "<polygon fill=\"white\" stroke=\"none\" points=\"-4,4 -4,-891.25 539.62,-891.25 539.62,4 -4,4\"/>\n",
       "</a>\n",
       "</g>\n",
       "<!-- Slicer -->\n",
       "<g id=\"node1\" class=\"node\">\n",
       "<title>Slicer</title>\n",
       "<g id=\"a_node1\"><a xlink:href=\"#\" xlink:title=\"class Slicer:&#10;Track dependencies in an execution\">\n",
       "<polygon fill=\"none\" stroke=\"black\" points=\"0,-30 0,-254.5 190,-254.5 190,-30 0,-30\"/>\n",
       "<text xml:space=\"preserve\" text-anchor=\"start\" x=\"76.25\" y=\"-238.2\" font-family=\"Raleway, Helvetica, Arial, sans-serif\" font-weight=\"bold\" font-size=\"14.00\" fill=\"#6a0dad\">Slicer</text>\n",
       "<polyline fill=\"none\" stroke=\"black\" points=\"0,-229.25 190,-229.25\"/>\n",
       "<g id=\"a_node1_0\"><a xlink:href=\"#\" xlink:title=\"Slicer\">\n",
       "<g id=\"a_node1_1\"><a xlink:href=\"#\" xlink:title=\"__init__(self, *items_to_instrument: Any, dependency_tracker: Optional[DependencyTracker] = None, globals: Optional[Dict[str, Any]] = None, log: Union[bool, int] = False):&#10;Create a slicer.&#10;`items_to_instrument` are Python functions or modules with source code.&#10;`dependency_tracker` is the tracker to be used (default: DependencyTracker).&#10;`globals` is the namespace to be used(default: caller&#39;s `globals()`)&#10;`log`=True or `log` &gt; 0 turns on logging\">\n",
       "<text xml:space=\"preserve\" text-anchor=\"start\" x=\"8\" y=\"-216.75\" font-family=\"'Fira Mono', 'Source Code Pro', 'Courier', monospace\" font-weight=\"bold\" font-style=\"italic\" font-size=\"10.00\">__init__()</text>\n",
       "</a>\n",
       "</g>\n",
       "<g id=\"a_node1_2\"><a xlink:href=\"#\" xlink:title=\"_repr_mimebundle_(self, include: Any = None, exclude: Any = None) &#45;&gt; Any:&#10;If the object is output in Jupyter, render dependencies as a SVG graph\">\n",
       "<text xml:space=\"preserve\" text-anchor=\"start\" x=\"8\" y=\"-204\" font-family=\"'Fira Mono', 'Source Code Pro', 'Courier', monospace\" font-weight=\"bold\" font-size=\"10.00\">_repr_mimebundle_()</text>\n",
       "</a>\n",
       "</g>\n",
       "<g id=\"a_node1_3\"><a xlink:href=\"#\" xlink:title=\"code(self, *args: Any, **kwargs: Any) &#45;&gt; None:&#10;Show code of instrumented items, annotated with dependencies.\">\n",
       "<text xml:space=\"preserve\" text-anchor=\"start\" x=\"8\" y=\"-191.25\" font-family=\"'Fira Mono', 'Source Code Pro', 'Courier', monospace\" font-weight=\"bold\" font-size=\"10.00\">code()</text>\n",
       "</a>\n",
       "</g>\n",
       "<g id=\"a_node1_4\"><a xlink:href=\"#\" xlink:title=\"dependencies(self) &#45;&gt; Dependencies:&#10;Return collected dependencies.\">\n",
       "<text xml:space=\"preserve\" text-anchor=\"start\" x=\"8\" y=\"-178.5\" font-family=\"'Fira Mono', 'Source Code Pro', 'Courier', monospace\" font-weight=\"bold\" font-size=\"10.00\">dependencies()</text>\n",
       "</a>\n",
       "</g>\n",
       "<g id=\"a_node1_5\"><a xlink:href=\"#\" xlink:title=\"graph(self, *args: Any, **kwargs: Any) &#45;&gt; graphviz.graphs.Digraph:&#10;Show dependency graph.\">\n",
       "<text xml:space=\"preserve\" text-anchor=\"start\" x=\"8\" y=\"-165.75\" font-family=\"'Fira Mono', 'Source Code Pro', 'Courier', monospace\" font-weight=\"bold\" font-size=\"10.00\">graph()</text>\n",
       "</a>\n",
       "</g>\n",
       "<g id=\"a_node1_6\"><a xlink:href=\"#\" xlink:title=\"calls_in_our_with_block(self) &#45;&gt; Set[str]:&#10;Return a set of function names called in the `with` block.\">\n",
       "<text xml:space=\"preserve\" text-anchor=\"start\" x=\"8\" y=\"-152\" font-family=\"'Fira Mono', 'Source Code Pro', 'Courier', monospace\" font-size=\"10.00\">calls_in_our_with_block()</text>\n",
       "</a>\n",
       "</g>\n",
       "<g id=\"a_node1_7\"><a xlink:href=\"#\" xlink:title=\"default_items_to_instrument(self) &#45;&gt; List[Callable]\">\n",
       "<text xml:space=\"preserve\" text-anchor=\"start\" x=\"8\" y=\"-140.25\" font-family=\"'Fira Mono', 'Source Code Pro', 'Courier', monospace\" font-style=\"italic\" font-size=\"10.00\">default_items_to_instrument()</text>\n",
       "</a>\n",
       "</g>\n",
       "<g id=\"a_node1_8\"><a xlink:href=\"#\" xlink:title=\"execute(self, tree: ast.AST, item: Any) &#45;&gt; None:&#10;Compile and execute `tree`. May be extended in subclasses.\">\n",
       "<text xml:space=\"preserve\" text-anchor=\"start\" x=\"8\" y=\"-127.5\" font-family=\"'Fira Mono', 'Source Code Pro', 'Courier', monospace\" font-style=\"italic\" font-size=\"10.00\">execute()</text>\n",
       "</a>\n",
       "</g>\n",
       "<g id=\"a_node1_9\"><a xlink:href=\"#\" xlink:title=\"funcs_in_our_with_block(self) &#45;&gt; List[Callable]\">\n",
       "<text xml:space=\"preserve\" text-anchor=\"start\" x=\"8\" y=\"-113.75\" font-family=\"'Fira Mono', 'Source Code Pro', 'Courier', monospace\" font-size=\"10.00\">funcs_in_our_with_block()</text>\n",
       "</a>\n",
       "</g>\n",
       "<g id=\"a_node1_10\"><a xlink:href=\"#\" xlink:title=\"instrument(self, item: Any) &#45;&gt; Any:&#10;Instrument `item`, transforming its source code, and re&#45;defining it.\">\n",
       "<text xml:space=\"preserve\" text-anchor=\"start\" x=\"8\" y=\"-102\" font-family=\"'Fira Mono', 'Source Code Pro', 'Courier', monospace\" font-style=\"italic\" font-size=\"10.00\">instrument()</text>\n",
       "</a>\n",
       "</g>\n",
       "<g id=\"a_node1_11\"><a xlink:href=\"#\" xlink:title=\"our_with_block(self) &#45;&gt; ast.With:&#10;Return the currently active `with` block.\">\n",
       "<text xml:space=\"preserve\" text-anchor=\"start\" x=\"8\" y=\"-88.25\" font-family=\"'Fira Mono', 'Source Code Pro', 'Courier', monospace\" font-size=\"10.00\">our_with_block()</text>\n",
       "</a>\n",
       "</g>\n",
       "<g id=\"a_node1_12\"><a xlink:href=\"#\" xlink:title=\"parse(self, item: Any) &#45;&gt; ast.AST:&#10;Parse `item`, returning its AST\">\n",
       "<text xml:space=\"preserve\" text-anchor=\"start\" x=\"8\" y=\"-75.5\" font-family=\"'Fira Mono', 'Source Code Pro', 'Courier', monospace\" font-size=\"10.00\">parse()</text>\n",
       "</a>\n",
       "</g>\n",
       "<g id=\"a_node1_13\"><a xlink:href=\"#\" xlink:title=\"restore(self) &#45;&gt; None:&#10;Restore original code.\">\n",
       "<text xml:space=\"preserve\" text-anchor=\"start\" x=\"8\" y=\"-63.75\" font-family=\"'Fira Mono', 'Source Code Pro', 'Courier', monospace\" font-style=\"italic\" font-size=\"10.00\">restore()</text>\n",
       "</a>\n",
       "</g>\n",
       "<g id=\"a_node1_14\"><a xlink:href=\"#\" xlink:title=\"transform(self, tree: ast.AST) &#45;&gt; ast.AST:&#10;Apply transformers on `tree`. May be extended in subclasses.\">\n",
       "<text xml:space=\"preserve\" text-anchor=\"start\" x=\"8\" y=\"-51\" font-family=\"'Fira Mono', 'Source Code Pro', 'Courier', monospace\" font-style=\"italic\" font-size=\"10.00\">transform()</text>\n",
       "</a>\n",
       "</g>\n",
       "<g id=\"a_node1_15\"><a xlink:href=\"#\" xlink:title=\"transformers(self) &#45;&gt; List[ast.NodeTransformer]:&#10;List of transformers to apply. To be extended in subclasses.\">\n",
       "<text xml:space=\"preserve\" text-anchor=\"start\" x=\"8\" y=\"-38.25\" font-family=\"'Fira Mono', 'Source Code Pro', 'Courier', monospace\" font-style=\"italic\" font-size=\"10.00\">transformers()</text>\n",
       "</a>\n",
       "</g>\n",
       "</a>\n",
       "</g>\n",
       "</a>\n",
       "</g>\n",
       "</g>\n",
       "<!-- Instrumenter -->\n",
       "<g id=\"node2\" class=\"node\">\n",
       "<title>Instrumenter</title>\n",
       "<g id=\"a_node2\"><a xlink:href=\"#\" xlink:title=\"class Instrumenter:&#10;Instrument functions for dynamic tracking\">\n",
       "<polygon fill=\"none\" stroke=\"black\" points=\"18,-458.88 18,-568.62 208,-568.62 208,-458.88 18,-458.88\"/>\n",
       "<text xml:space=\"preserve\" text-anchor=\"start\" x=\"71\" y=\"-552.33\" font-family=\"Raleway, Helvetica, Arial, sans-serif\" font-weight=\"bold\" font-style=\"italic\" font-size=\"14.00\" fill=\"#6a0dad\">Instrumenter</text>\n",
       "<polyline fill=\"none\" stroke=\"black\" points=\"18,-543.38 208,-543.38\"/>\n",
       "<g id=\"a_node2_16\"><a xlink:href=\"#\" xlink:title=\"Instrumenter\">\n",
       "<g id=\"a_node2_17\"><a xlink:href=\"#\" xlink:title=\"__enter__(self) &#45;&gt; Any:&#10;Instrument sources\">\n",
       "<text xml:space=\"preserve\" text-anchor=\"start\" x=\"26\" y=\"-530.88\" font-family=\"'Fira Mono', 'Source Code Pro', 'Courier', monospace\" font-weight=\"bold\" font-size=\"10.00\">__enter__()</text>\n",
       "</a>\n",
       "</g>\n",
       "<g id=\"a_node2_18\"><a xlink:href=\"#\" xlink:title=\"__exit__(self, exc_type: Type, exc_value: BaseException, traceback: traceback) &#45;&gt; Optional[bool]:&#10;Restore sources\">\n",
       "<text xml:space=\"preserve\" text-anchor=\"start\" x=\"26\" y=\"-518.12\" font-family=\"'Fira Mono', 'Source Code Pro', 'Courier', monospace\" font-weight=\"bold\" font-size=\"10.00\">__exit__()</text>\n",
       "</a>\n",
       "</g>\n",
       "<g id=\"a_node2_19\"><a xlink:href=\"#\" xlink:title=\"__init__(self, *items_to_instrument: Callable, globals: Optional[Dict[str, Any]] = None, log: Union[bool, int] = False) &#45;&gt; None:&#10;Create an instrumenter.&#10;`items_to_instrument` is a list of items to instrument.&#10;`globals` is a namespace to use (default: caller&#39;s globals())\">\n",
       "<text xml:space=\"preserve\" text-anchor=\"start\" x=\"26\" y=\"-505.38\" font-family=\"'Fira Mono', 'Source Code Pro', 'Courier', monospace\" font-weight=\"bold\" font-style=\"italic\" font-size=\"10.00\">__init__()</text>\n",
       "</a>\n",
       "</g>\n",
       "<g id=\"a_node2_20\"><a xlink:href=\"#\" xlink:title=\"instrument(self, item: Any) &#45;&gt; Any:&#10;Instrument `item`. To be overloaded in subclasses.\">\n",
       "<text xml:space=\"preserve\" text-anchor=\"start\" x=\"26\" y=\"-492.62\" font-family=\"'Fira Mono', 'Source Code Pro', 'Courier', monospace\" font-weight=\"bold\" font-style=\"italic\" font-size=\"10.00\">instrument()</text>\n",
       "</a>\n",
       "</g>\n",
       "<g id=\"a_node2_21\"><a xlink:href=\"#\" xlink:title=\"default_items_to_instrument(self) &#45;&gt; List[Callable]\">\n",
       "<text xml:space=\"preserve\" text-anchor=\"start\" x=\"26\" y=\"-479.88\" font-family=\"'Fira Mono', 'Source Code Pro', 'Courier', monospace\" font-style=\"italic\" font-size=\"10.00\">default_items_to_instrument()</text>\n",
       "</a>\n",
       "</g>\n",
       "<g id=\"a_node2_22\"><a xlink:href=\"#\" xlink:title=\"restore(self) &#45;&gt; None\">\n",
       "<text xml:space=\"preserve\" text-anchor=\"start\" x=\"26\" y=\"-467.12\" font-family=\"'Fira Mono', 'Source Code Pro', 'Courier', monospace\" font-style=\"italic\" font-size=\"10.00\">restore()</text>\n",
       "</a>\n",
       "</g>\n",
       "</a>\n",
       "</g>\n",
       "</a>\n",
       "</g>\n",
       "</g>\n",
       "<!-- Slicer&#45;&gt;Instrumenter -->\n",
       "<g id=\"edge1\" class=\"edge\">\n",
       "<title>Slicer&#45;&gt;Instrumenter</title>\n",
       "<path fill=\"none\" stroke=\"black\" d=\"M100.44,-254.86C103.5,-317.71 107.22,-394.01 109.81,-447.25\"/>\n",
       "<polygon fill=\"none\" stroke=\"black\" points=\"106.31,-447.25 110.29,-457.07 113.3,-446.91 106.31,-447.25\"/>\n",
       "</g>\n",
       "<!-- StackInspector -->\n",
       "<g id=\"node3\" class=\"node\">\n",
       "<title>StackInspector</title>\n",
       "<g id=\"a_node3\"><a xlink:href=\"StackInspector.ipynb\" xlink:title=\"class StackInspector:&#10;Provide functions to inspect the stack\">\n",
       "<polygon fill=\"none\" stroke=\"black\" points=\"211,-743.5 211,-886.75 377,-886.75 377,-743.5 211,-743.5\"/>\n",
       "<text xml:space=\"preserve\" text-anchor=\"start\" x=\"244.88\" y=\"-870.45\" font-family=\"Raleway, Helvetica, Arial, sans-serif\" font-weight=\"bold\" font-style=\"italic\" font-size=\"14.00\" fill=\"#6a0dad\">StackInspector</text>\n",
       "<polyline fill=\"none\" stroke=\"black\" points=\"211,-861.5 377,-861.5\"/>\n",
       "<g id=\"a_node3_23\"><a xlink:href=\"#\" xlink:title=\"StackInspector\">\n",
       "<g id=\"a_node3_24\"><a xlink:href=\"StackInspector.ipynb\" xlink:title=\"_generated_function_cache = {(&#39;&lt;module&gt;&#39;, 2): &lt;function &lt;module&gt; at 0x10d9f5300&gt;, (&#39;&lt;module&gt;&#39;, 1): &lt;function &lt;module&gt; at 0x10d9f54e0&gt;, (&#39;&lt;module&gt;&#39;, 3): &lt;function &lt;module&gt; at 0x10e60cfe0&gt;, (&#39;&lt;module&gt;&#39;, 4): &lt;function &lt;module&gt; at 0x10e60d440&gt;}\">\n",
       "<text xml:space=\"preserve\" text-anchor=\"start\" x=\"219\" y=\"-848\" font-family=\"'Fira Mono', 'Source Code Pro', 'Courier', monospace\" font-size=\"10.00\">_generated_function_cache</text>\n",
       "</a>\n",
       "</g>\n",
       "</a>\n",
       "</g>\n",
       "<polyline fill=\"none\" stroke=\"black\" points=\"211,-840.75 377,-840.75\"/>\n",
       "<g id=\"a_node3_25\"><a xlink:href=\"#\" xlink:title=\"StackInspector\">\n",
       "<g id=\"a_node3_26\"><a xlink:href=\"StackInspector.ipynb\" xlink:title=\"caller_frame(self) &#45;&gt; frame:&#10;Return the frame of the caller.\">\n",
       "<text xml:space=\"preserve\" text-anchor=\"start\" x=\"243\" y=\"-828.25\" font-family=\"'Fira Mono', 'Source Code Pro', 'Courier', monospace\" font-weight=\"bold\" font-size=\"10.00\">caller_frame()</text>\n",
       "</a>\n",
       "</g>\n",
       "<g id=\"a_node3_27\"><a xlink:href=\"StackInspector.ipynb\" xlink:title=\"caller_function(self) &#45;&gt; Callable:&#10;Return the calling function\">\n",
       "<text xml:space=\"preserve\" text-anchor=\"start\" x=\"243\" y=\"-815.5\" font-family=\"'Fira Mono', 'Source Code Pro', 'Courier', monospace\" font-weight=\"bold\" font-size=\"10.00\">caller_function()</text>\n",
       "</a>\n",
       "</g>\n",
       "<g id=\"a_node3_28\"><a xlink:href=\"StackInspector.ipynb\" xlink:title=\"caller_globals(self) &#45;&gt; Dict[str, Any]:&#10;Return the globals() environment of the caller.\">\n",
       "<text xml:space=\"preserve\" text-anchor=\"start\" x=\"243\" y=\"-802.75\" font-family=\"'Fira Mono', 'Source Code Pro', 'Courier', monospace\" font-weight=\"bold\" font-size=\"10.00\">caller_globals()</text>\n",
       "</a>\n",
       "</g>\n",
       "<g id=\"a_node3_29\"><a xlink:href=\"StackInspector.ipynb\" xlink:title=\"caller_locals(self) &#45;&gt; Dict[str, Any]:&#10;Return the locals() environment of the caller.\">\n",
       "<text xml:space=\"preserve\" text-anchor=\"start\" x=\"243\" y=\"-790\" font-family=\"'Fira Mono', 'Source Code Pro', 'Courier', monospace\" font-weight=\"bold\" font-size=\"10.00\">caller_locals()</text>\n",
       "</a>\n",
       "</g>\n",
       "<g id=\"a_node3_30\"><a xlink:href=\"StackInspector.ipynb\" xlink:title=\"caller_location(self) &#45;&gt; Tuple[Callable, int]:&#10;Return the location (func, lineno) of the caller.\">\n",
       "<text xml:space=\"preserve\" text-anchor=\"start\" x=\"243\" y=\"-777.25\" font-family=\"'Fira Mono', 'Source Code Pro', 'Courier', monospace\" font-weight=\"bold\" font-size=\"10.00\">caller_location()</text>\n",
       "</a>\n",
       "</g>\n",
       "<g id=\"a_node3_31\"><a xlink:href=\"StackInspector.ipynb\" xlink:title=\"search_frame(self, name: str, frame: Optional[frame] = None) &#45;&gt; Tuple[Optional[frame], Optional[Callable]]:&#10;Return a pair (`frame`, `item`)&#10;in which the function `name` is defined as `item`.\">\n",
       "<text xml:space=\"preserve\" text-anchor=\"start\" x=\"243\" y=\"-764.5\" font-family=\"'Fira Mono', 'Source Code Pro', 'Courier', monospace\" font-weight=\"bold\" font-size=\"10.00\">search_frame()</text>\n",
       "</a>\n",
       "</g>\n",
       "<g id=\"a_node3_32\"><a xlink:href=\"StackInspector.ipynb\" xlink:title=\"search_func(self, name: str, frame: Optional[frame] = None) &#45;&gt; Optional[Callable]:&#10;Search in callers for a definition of the function `name`\">\n",
       "<text xml:space=\"preserve\" text-anchor=\"start\" x=\"243\" y=\"-751.75\" font-family=\"'Fira Mono', 'Source Code Pro', 'Courier', monospace\" font-weight=\"bold\" font-size=\"10.00\">search_func()</text>\n",
       "</a>\n",
       "</g>\n",
       "</a>\n",
       "</g>\n",
       "</a>\n",
       "</g>\n",
       "</g>\n",
       "<!-- Instrumenter&#45;&gt;StackInspector -->\n",
       "<g id=\"edge2\" class=\"edge\">\n",
       "<title>Instrumenter&#45;&gt;StackInspector</title>\n",
       "<path fill=\"none\" stroke=\"black\" d=\"M144.17,-568.91C166.59,-607.59 197.74,-660.75 226,-707 231.27,-715.63 236.84,-724.61 242.43,-733.53\"/>\n",
       "<polygon fill=\"none\" stroke=\"black\" points=\"239.4,-735.29 247.68,-741.89 245.32,-731.56 239.4,-735.29\"/>\n",
       "</g>\n",
       "<!-- DependencyTracker -->\n",
       "<g id=\"node4\" class=\"node\">\n",
       "<title>DependencyTracker</title>\n",
       "<g id=\"a_node4\"><a xlink:href=\"#\" xlink:title=\"class DependencyTracker:&#10;Track dependencies during execution\">\n",
       "<polygon fill=\"none\" stroke=\"black\" points=\"208,-0.5 208,-284 398,-284 398,-0.5 208,-0.5\"/>\n",
       "<text xml:space=\"preserve\" text-anchor=\"start\" x=\"235.88\" y=\"-267.7\" font-family=\"Raleway, Helvetica, Arial, sans-serif\" font-weight=\"bold\" font-size=\"14.00\" fill=\"#6a0dad\">DependencyTracker</text>\n",
       "<polyline fill=\"none\" stroke=\"black\" points=\"208,-258.75 398,-258.75\"/>\n",
       "<g id=\"a_node4_33\"><a xlink:href=\"#\" xlink:title=\"DependencyTracker\">\n",
       "<g id=\"a_node4_34\"><a xlink:href=\"#\" xlink:title=\"TEST = &#39;&lt;test&gt;&#39;\">\n",
       "<text xml:space=\"preserve\" text-anchor=\"start\" x=\"291\" y=\"-245.25\" font-family=\"'Fira Mono', 'Source Code Pro', 'Courier', monospace\" font-size=\"10.00\">TEST</text>\n",
       "</a>\n",
       "</g>\n",
       "</a>\n",
       "</g>\n",
       "<polyline fill=\"none\" stroke=\"black\" points=\"208,-238 398,-238\"/>\n",
       "<g id=\"a_node4_35\"><a xlink:href=\"#\" xlink:title=\"DependencyTracker\">\n",
       "<g id=\"a_node4_36\"><a xlink:href=\"#\" xlink:title=\"__enter__(self) &#45;&gt; Any:&#10;Track entering an if/while/for block\">\n",
       "<text xml:space=\"preserve\" text-anchor=\"start\" x=\"216\" y=\"-225.5\" font-family=\"'Fira Mono', 'Source Code Pro', 'Courier', monospace\" font-weight=\"bold\" font-style=\"italic\" font-size=\"10.00\">__enter__()</text>\n",
       "</a>\n",
       "</g>\n",
       "<g id=\"a_node4_37\"><a xlink:href=\"#\" xlink:title=\"__exit__(self, exc_type: Type, exc_value: BaseException, traceback: traceback) &#45;&gt; Optional[bool]:&#10;Track exiting an if/while/for block\">\n",
       "<text xml:space=\"preserve\" text-anchor=\"start\" x=\"216\" y=\"-212.75\" font-family=\"'Fira Mono', 'Source Code Pro', 'Courier', monospace\" font-weight=\"bold\" font-style=\"italic\" font-size=\"10.00\">__exit__()</text>\n",
       "</a>\n",
       "</g>\n",
       "<g id=\"a_node4_38\"><a xlink:href=\"#\" xlink:title=\"__init__(self, *args: Any, **kwargs: Any) &#45;&gt; None:&#10;Constructor. Arguments are passed to DataTracker.__init__()\">\n",
       "<text xml:space=\"preserve\" text-anchor=\"start\" x=\"216\" y=\"-200\" font-family=\"'Fira Mono', 'Source Code Pro', 'Courier', monospace\" font-weight=\"bold\" font-style=\"italic\" font-size=\"10.00\">__init__()</text>\n",
       "</a>\n",
       "</g>\n",
       "<g id=\"a_node4_39\"><a xlink:href=\"#\" xlink:title=\"arg(self, value: Any, pos: Optional[int] = None, kw: Optional[str] = None) &#45;&gt; Any:&#10;Track passing an argument `value`&#10;(with given position `pos` 1..n or keyword `kw`)\">\n",
       "<text xml:space=\"preserve\" text-anchor=\"start\" x=\"216\" y=\"-187.25\" font-family=\"'Fira Mono', 'Source Code Pro', 'Courier', monospace\" font-weight=\"bold\" font-style=\"italic\" font-size=\"10.00\">arg()</text>\n",
       "</a>\n",
       "</g>\n",
       "<g id=\"a_node4_40\"><a xlink:href=\"#\" xlink:title=\"call(self, func: Callable) &#45;&gt; Callable:&#10;Track a call of function `func`\">\n",
       "<text xml:space=\"preserve\" text-anchor=\"start\" x=\"216\" y=\"-174.5\" font-family=\"'Fira Mono', 'Source Code Pro', 'Courier', monospace\" font-weight=\"bold\" font-style=\"italic\" font-size=\"10.00\">call()</text>\n",
       "</a>\n",
       "</g>\n",
       "<g id=\"a_node4_41\"><a xlink:href=\"#\" xlink:title=\"get(self, name: str, value: Any) &#45;&gt; Any:&#10;Track a read access for variable `name` with value `value`\">\n",
       "<text xml:space=\"preserve\" text-anchor=\"start\" x=\"216\" y=\"-161.75\" font-family=\"'Fira Mono', 'Source Code Pro', 'Courier', monospace\" font-weight=\"bold\" font-style=\"italic\" font-size=\"10.00\">get()</text>\n",
       "</a>\n",
       "</g>\n",
       "<g id=\"a_node4_42\"><a xlink:href=\"#\" xlink:title=\"param(self, name: str, value: Any, pos: Optional[int] = None, vararg: str = &#39;&#39;, last: bool = False) &#45;&gt; Any:&#10;Track getting a parameter `name` with value `value`&#10;(with given position `pos`).&#10;vararg parameters are indicated by setting `varargs` to&#10;&#39;*&#39; (*args) or &#39;**&#39; (**kwargs)\">\n",
       "<text xml:space=\"preserve\" text-anchor=\"start\" x=\"216\" y=\"-149\" font-family=\"'Fira Mono', 'Source Code Pro', 'Courier', monospace\" font-weight=\"bold\" font-style=\"italic\" font-size=\"10.00\">param()</text>\n",
       "</a>\n",
       "</g>\n",
       "<g id=\"a_node4_43\"><a xlink:href=\"#\" xlink:title=\"ret(self, value: Any) &#45;&gt; Any:&#10;Track a function return\">\n",
       "<text xml:space=\"preserve\" text-anchor=\"start\" x=\"216\" y=\"-136.25\" font-family=\"'Fira Mono', 'Source Code Pro', 'Courier', monospace\" font-weight=\"bold\" font-style=\"italic\" font-size=\"10.00\">ret()</text>\n",
       "</a>\n",
       "</g>\n",
       "<g id=\"a_node4_44\"><a xlink:href=\"#\" xlink:title=\"set(self, name: str, value: Any, loads: Optional[Set[str]] = None) &#45;&gt; Any:&#10;Add a dependency for `name` = `value`\">\n",
       "<text xml:space=\"preserve\" text-anchor=\"start\" x=\"216\" y=\"-123.5\" font-family=\"'Fira Mono', 'Source Code Pro', 'Courier', monospace\" font-weight=\"bold\" font-style=\"italic\" font-size=\"10.00\">set()</text>\n",
       "</a>\n",
       "</g>\n",
       "<g id=\"a_node4_45\"><a xlink:href=\"#\" xlink:title=\"test(self, value: Any) &#45;&gt; Any:&#10;Track a test for condition `value`\">\n",
       "<text xml:space=\"preserve\" text-anchor=\"start\" x=\"216\" y=\"-110.75\" font-family=\"'Fira Mono', 'Source Code Pro', 'Courier', monospace\" font-weight=\"bold\" font-style=\"italic\" font-size=\"10.00\">test()</text>\n",
       "</a>\n",
       "</g>\n",
       "<g id=\"a_node4_46\"><a xlink:href=\"#\" xlink:title=\"call_generator(self, func: Callable) &#45;&gt; Callable:&#10;Track a call of a generator function\">\n",
       "<text xml:space=\"preserve\" text-anchor=\"start\" x=\"216\" y=\"-97\" font-family=\"'Fira Mono', 'Source Code Pro', 'Courier', monospace\" font-size=\"10.00\">call_generator()</text>\n",
       "</a>\n",
       "</g>\n",
       "<g id=\"a_node4_47\"><a xlink:href=\"#\" xlink:title=\"check_location(self) &#45;&gt; None:&#10;If we are in a new location, clear set of read variables\">\n",
       "<text xml:space=\"preserve\" text-anchor=\"start\" x=\"216\" y=\"-84.25\" font-family=\"'Fira Mono', 'Source Code Pro', 'Courier', monospace\" font-size=\"10.00\">check_location()</text>\n",
       "</a>\n",
       "</g>\n",
       "<g id=\"a_node4_48\"><a xlink:href=\"#\" xlink:title=\"clear_read(self) &#45;&gt; None:&#10;Clear set of read variables\">\n",
       "<text xml:space=\"preserve\" text-anchor=\"start\" x=\"216\" y=\"-71.5\" font-family=\"'Fira Mono', 'Source Code Pro', 'Courier', monospace\" font-size=\"10.00\">clear_read()</text>\n",
       "</a>\n",
       "</g>\n",
       "<g id=\"a_node4_49\"><a xlink:href=\"#\" xlink:title=\"dependencies(self) &#45;&gt; Dependencies:&#10;Return dependencies\">\n",
       "<text xml:space=\"preserve\" text-anchor=\"start\" x=\"216\" y=\"-58.75\" font-family=\"'Fira Mono', 'Source Code Pro', 'Courier', monospace\" font-size=\"10.00\">dependencies()</text>\n",
       "</a>\n",
       "</g>\n",
       "<g id=\"a_node4_50\"><a xlink:href=\"#\" xlink:title=\"ignore_location_change(self) &#45;&gt; None\">\n",
       "<text xml:space=\"preserve\" text-anchor=\"start\" x=\"216\" y=\"-46\" font-family=\"'Fira Mono', 'Source Code Pro', 'Courier', monospace\" font-size=\"10.00\">ignore_location_change()</text>\n",
       "</a>\n",
       "</g>\n",
       "<g id=\"a_node4_51\"><a xlink:href=\"#\" xlink:title=\"ignore_next_location_change(self) &#45;&gt; None\">\n",
       "<text xml:space=\"preserve\" text-anchor=\"start\" x=\"216\" y=\"-33.25\" font-family=\"'Fira Mono', 'Source Code Pro', 'Courier', monospace\" font-size=\"10.00\">ignore_next_location_change()</text>\n",
       "</a>\n",
       "</g>\n",
       "<g id=\"a_node4_52\"><a xlink:href=\"#\" xlink:title=\"in_generator(self) &#45;&gt; bool:&#10;True if we are calling a generator function\">\n",
       "<text xml:space=\"preserve\" text-anchor=\"start\" x=\"216\" y=\"-20.5\" font-family=\"'Fira Mono', 'Source Code Pro', 'Courier', monospace\" font-size=\"10.00\">in_generator()</text>\n",
       "</a>\n",
       "</g>\n",
       "<g id=\"a_node4_53\"><a xlink:href=\"#\" xlink:title=\"ret_generator(self, generator: Any) &#45;&gt; Any:&#10;Track the return of a generator function\">\n",
       "<text xml:space=\"preserve\" text-anchor=\"start\" x=\"216\" y=\"-7.75\" font-family=\"'Fira Mono', 'Source Code Pro', 'Courier', monospace\" font-size=\"10.00\">ret_generator()</text>\n",
       "</a>\n",
       "</g>\n",
       "</a>\n",
       "</g>\n",
       "</a>\n",
       "</g>\n",
       "</g>\n",
       "<!-- DataTracker -->\n",
       "<g id=\"node5\" class=\"node\">\n",
       "<title>DataTracker</title>\n",
       "<g id=\"a_node5\"><a xlink:href=\"#\" xlink:title=\"class DataTracker:&#10;Track data accesses during execution\">\n",
       "<polygon fill=\"none\" stroke=\"black\" points=\"235,-420.62 235,-606.88 353,-606.88 353,-420.62 235,-420.62\"/>\n",
       "<text xml:space=\"preserve\" text-anchor=\"start\" x=\"253.5\" y=\"-590.58\" font-family=\"Raleway, Helvetica, Arial, sans-serif\" font-weight=\"bold\" font-size=\"14.00\" fill=\"#6a0dad\">DataTracker</text>\n",
       "<polyline fill=\"none\" stroke=\"black\" points=\"235,-581.62 353,-581.62\"/>\n",
       "<g id=\"a_node5_54\"><a xlink:href=\"#\" xlink:title=\"DataTracker\">\n",
       "<g id=\"a_node5_55\"><a xlink:href=\"#\" xlink:title=\"__enter__(self) &#45;&gt; Any:&#10;Enter `with` block. To be overloaded in subclasses.\">\n",
       "<text xml:space=\"preserve\" text-anchor=\"start\" x=\"243\" y=\"-569.12\" font-family=\"'Fira Mono', 'Source Code Pro', 'Courier', monospace\" font-weight=\"bold\" font-style=\"italic\" font-size=\"10.00\">__enter__()</text>\n",
       "</a>\n",
       "</g>\n",
       "<g id=\"a_node5_56\"><a xlink:href=\"#\" xlink:title=\"__exit__(self, exc_type: Type, exc_value: BaseException, traceback: traceback) &#45;&gt; Optional[bool]:&#10;Exit `with` block. To be overloaded in subclasses.\">\n",
       "<text xml:space=\"preserve\" text-anchor=\"start\" x=\"243\" y=\"-556.38\" font-family=\"'Fira Mono', 'Source Code Pro', 'Courier', monospace\" font-weight=\"bold\" font-style=\"italic\" font-size=\"10.00\">__exit__()</text>\n",
       "</a>\n",
       "</g>\n",
       "<g id=\"a_node5_57\"><a xlink:href=\"#\" xlink:title=\"__init__(self, log: bool = False) &#45;&gt; None:&#10;Constructor. If `log` is set, turn on logging.\">\n",
       "<text xml:space=\"preserve\" text-anchor=\"start\" x=\"243\" y=\"-543.62\" font-family=\"'Fira Mono', 'Source Code Pro', 'Courier', monospace\" font-weight=\"bold\" font-style=\"italic\" font-size=\"10.00\">__init__()</text>\n",
       "</a>\n",
       "</g>\n",
       "<g id=\"a_node5_58\"><a xlink:href=\"#\" xlink:title=\"arg(self, value: Any, pos: Optional[int] = None, kw: Optional[str] = None) &#45;&gt; Any:&#10;Track `value` being passed as argument.&#10;`pos` (if given) is the argument position (starting with 1).&#10;`kw` (if given) is the argument keyword.\">\n",
       "<text xml:space=\"preserve\" text-anchor=\"start\" x=\"243\" y=\"-530.88\" font-family=\"'Fira Mono', 'Source Code Pro', 'Courier', monospace\" font-weight=\"bold\" font-style=\"italic\" font-size=\"10.00\">arg()</text>\n",
       "</a>\n",
       "</g>\n",
       "<g id=\"a_node5_59\"><a xlink:href=\"#\" xlink:title=\"augment(self, name: str, value: Any) &#45;&gt; Any:&#10;Track augmenting `name` with `value`.&#10;To be overloaded in subclasses.\">\n",
       "<text xml:space=\"preserve\" text-anchor=\"start\" x=\"243\" y=\"-518.12\" font-family=\"'Fira Mono', 'Source Code Pro', 'Courier', monospace\" font-weight=\"bold\" font-style=\"italic\" font-size=\"10.00\">augment()</text>\n",
       "</a>\n",
       "</g>\n",
       "<g id=\"a_node5_60\"><a xlink:href=\"#\" xlink:title=\"call(self, func: Callable) &#45;&gt; Callable:&#10;Track a call to `func`.\">\n",
       "<text xml:space=\"preserve\" text-anchor=\"start\" x=\"243\" y=\"-505.38\" font-family=\"'Fira Mono', 'Source Code Pro', 'Courier', monospace\" font-weight=\"bold\" font-style=\"italic\" font-size=\"10.00\">call()</text>\n",
       "</a>\n",
       "</g>\n",
       "<g id=\"a_node5_61\"><a xlink:href=\"#\" xlink:title=\"get(self, name: str, value: Any) &#45;&gt; Any:&#10;Track getting `value` from `name`.\">\n",
       "<text xml:space=\"preserve\" text-anchor=\"start\" x=\"243\" y=\"-492.62\" font-family=\"'Fira Mono', 'Source Code Pro', 'Courier', monospace\" font-weight=\"bold\" font-style=\"italic\" font-size=\"10.00\">get()</text>\n",
       "</a>\n",
       "</g>\n",
       "<g id=\"a_node5_62\"><a xlink:href=\"#\" xlink:title=\"param(self, name: str, value: Any, pos: Optional[int] = None, vararg: str = &#39;&#39;, last: bool = False) &#45;&gt; Any:&#10;At the beginning of a function, track parameter `name` being set to `value`.&#10;`pos` is the position of the argument (starting with 1).&#10;`vararg` is &quot;*&quot; if `name` is a vararg parameter (as in *args),&#10;and &quot;**&quot; is `name` is a kwargs parameter (as in *kwargs).&#10;`last` is True if `name` is the last parameter.\">\n",
       "<text xml:space=\"preserve\" text-anchor=\"start\" x=\"243\" y=\"-479.88\" font-family=\"'Fira Mono', 'Source Code Pro', 'Courier', monospace\" font-weight=\"bold\" font-style=\"italic\" font-size=\"10.00\">param()</text>\n",
       "</a>\n",
       "</g>\n",
       "<g id=\"a_node5_63\"><a xlink:href=\"#\" xlink:title=\"ret(self, value: Any) &#45;&gt; Any:&#10;Track `value` being used as return value.\">\n",
       "<text xml:space=\"preserve\" text-anchor=\"start\" x=\"243\" y=\"-467.12\" font-family=\"'Fira Mono', 'Source Code Pro', 'Courier', monospace\" font-weight=\"bold\" font-style=\"italic\" font-size=\"10.00\">ret()</text>\n",
       "</a>\n",
       "</g>\n",
       "<g id=\"a_node5_64\"><a xlink:href=\"#\" xlink:title=\"set(self, name: str, value: Any, loads: Optional[Set[str]] = None) &#45;&gt; Any:&#10;Track setting `name` to `value`.\">\n",
       "<text xml:space=\"preserve\" text-anchor=\"start\" x=\"243\" y=\"-454.38\" font-family=\"'Fira Mono', 'Source Code Pro', 'Courier', monospace\" font-weight=\"bold\" font-style=\"italic\" font-size=\"10.00\">set()</text>\n",
       "</a>\n",
       "</g>\n",
       "<g id=\"a_node5_65\"><a xlink:href=\"#\" xlink:title=\"test(self, cond: ast.AST) &#45;&gt; ast.AST:&#10;Test condition `cond`. To be overloaded in subclasses.\">\n",
       "<text xml:space=\"preserve\" text-anchor=\"start\" x=\"243\" y=\"-441.62\" font-family=\"'Fira Mono', 'Source Code Pro', 'Courier', monospace\" font-weight=\"bold\" font-style=\"italic\" font-size=\"10.00\">test()</text>\n",
       "</a>\n",
       "</g>\n",
       "<g id=\"a_node5_66\"><a xlink:href=\"#\" xlink:title=\"instrument_call(self, func: Callable) &#45;&gt; Callable:&#10;Instrument a call to `func`. To be implemented in subclasses.\">\n",
       "<text xml:space=\"preserve\" text-anchor=\"start\" x=\"243\" y=\"-428.88\" font-family=\"'Fira Mono', 'Source Code Pro', 'Courier', monospace\" font-style=\"italic\" font-size=\"10.00\">instrument_call()</text>\n",
       "</a>\n",
       "</g>\n",
       "</a>\n",
       "</g>\n",
       "</a>\n",
       "</g>\n",
       "</g>\n",
       "<!-- DependencyTracker&#45;&gt;DataTracker -->\n",
       "<g id=\"edge3\" class=\"edge\">\n",
       "<title>DependencyTracker&#45;&gt;DataTracker</title>\n",
       "<path fill=\"none\" stroke=\"black\" d=\"M299.57,-284.26C298.56,-325.73 297.47,-370.31 296.53,-408.99\"/>\n",
       "<polygon fill=\"none\" stroke=\"black\" points=\"293.03,-408.67 296.29,-418.75 300.03,-408.84 293.03,-408.67\"/>\n",
       "</g>\n",
       "<!-- DataTracker&#45;&gt;StackInspector -->\n",
       "<g id=\"edge4\" class=\"edge\">\n",
       "<title>DataTracker&#45;&gt;StackInspector</title>\n",
       "<path fill=\"none\" stroke=\"black\" d=\"M294,-607.02C294,-646.89 294,-693.17 294,-731.86\"/>\n",
       "<polygon fill=\"none\" stroke=\"black\" points=\"290.5,-731.56 294,-741.56 297.5,-731.56 290.5,-731.56\"/>\n",
       "</g>\n",
       "<!-- Dependencies -->\n",
       "<g id=\"node6\" class=\"node\">\n",
       "<title>Dependencies</title>\n",
       "<g id=\"a_node6\"><a xlink:href=\"#\" xlink:title=\"class Dependencies:&#10;A dependency graph\">\n",
       "<polygon fill=\"none\" stroke=\"black\" points=\"371,-321 371,-706.5 501,-706.5 501,-321 371,-321\"/>\n",
       "<text xml:space=\"preserve\" text-anchor=\"start\" x=\"388\" y=\"-690.2\" font-family=\"Raleway, Helvetica, Arial, sans-serif\" font-weight=\"bold\" font-size=\"14.00\" fill=\"#6a0dad\">Dependencies</text>\n",
       "<polyline fill=\"none\" stroke=\"black\" points=\"371,-681.25 501,-681.25\"/>\n",
       "<g id=\"a_node6_67\"><a xlink:href=\"#\" xlink:title=\"Dependencies\">\n",
       "<g id=\"a_node6_68\"><a xlink:href=\"#\" xlink:title=\"FONT_NAME = &#39;Courier&#39;\">\n",
       "<text xml:space=\"preserve\" text-anchor=\"start\" x=\"406\" y=\"-667.75\" font-family=\"'Fira Mono', 'Source Code Pro', 'Courier', monospace\" font-size=\"10.00\">FONT_NAME</text>\n",
       "</a>\n",
       "</g>\n",
       "<g id=\"a_node6_69\"><a xlink:href=\"#\" xlink:title=\"NODE_COLOR = &#39;peachpuff&#39;\">\n",
       "<text xml:space=\"preserve\" text-anchor=\"start\" x=\"406\" y=\"-655\" font-family=\"'Fira Mono', 'Source Code Pro', 'Courier', monospace\" font-size=\"10.00\">NODE_COLOR</text>\n",
       "</a>\n",
       "</g>\n",
       "</a>\n",
       "</g>\n",
       "<polyline fill=\"none\" stroke=\"black\" points=\"371,-647.75 501,-647.75\"/>\n",
       "<g id=\"a_node6_70\"><a xlink:href=\"#\" xlink:title=\"Dependencies\">\n",
       "<g id=\"a_node6_71\"><a xlink:href=\"#\" xlink:title=\"__init__(self, data: Optional[Dict[Tuple[str, Tuple[Callable, int]], Set[Tuple[str, Tuple[Callable, int]]]]] = None, control: Optional[Dict[Tuple[str, Tuple[Callable, int]], Set[Tuple[str, Tuple[Callable, int]]]]] = None) &#45;&gt; None:&#10;Create a dependency graph from `data` and `control`.&#10;Both `data` and `control` are dictionaries&#10;holding _nodes_ as keys and sets of nodes as values.&#10;Each node comes as a tuple (variable_name, location)&#10;where `variable_name` is a string&#10;and `location` is a pair (function, lineno)&#10;where `function` is a callable and `lineno` is a line number&#10;denoting a unique location in the code.\">\n",
       "<text xml:space=\"preserve\" text-anchor=\"start\" x=\"379\" y=\"-635.25\" font-family=\"'Fira Mono', 'Source Code Pro', 'Courier', monospace\" font-weight=\"bold\" font-size=\"10.00\">__init__()</text>\n",
       "</a>\n",
       "</g>\n",
       "<g id=\"a_node6_72\"><a xlink:href=\"#\" xlink:title=\"__repr__(self) &#45;&gt; str:&#10;Represent dependencies as a Python expression\">\n",
       "<text xml:space=\"preserve\" text-anchor=\"start\" x=\"379\" y=\"-622.5\" font-family=\"'Fira Mono', 'Source Code Pro', 'Courier', monospace\" font-weight=\"bold\" font-size=\"10.00\">__repr__()</text>\n",
       "</a>\n",
       "</g>\n",
       "<g id=\"a_node6_73\"><a xlink:href=\"#\" xlink:title=\"__str__(self) &#45;&gt; str:&#10;Return string representation of dependencies\">\n",
       "<text xml:space=\"preserve\" text-anchor=\"start\" x=\"379\" y=\"-609.75\" font-family=\"'Fira Mono', 'Source Code Pro', 'Courier', monospace\" font-weight=\"bold\" font-size=\"10.00\">__str__()</text>\n",
       "</a>\n",
       "</g>\n",
       "<g id=\"a_node6_74\"><a xlink:href=\"#\" xlink:title=\"_repr_mimebundle_(self, include: Any = None, exclude: Any = None) &#45;&gt; Any:&#10;If the object is output in Jupyter, render dependencies as a SVG graph\">\n",
       "<text xml:space=\"preserve\" text-anchor=\"start\" x=\"379\" y=\"-597\" font-family=\"'Fira Mono', 'Source Code Pro', 'Courier', monospace\" font-weight=\"bold\" font-size=\"10.00\">_repr_mimebundle_()</text>\n",
       "</a>\n",
       "</g>\n",
       "<g id=\"a_node6_75\"><a xlink:href=\"#\" xlink:title=\"all_functions(self) &#45;&gt; Dict[Callable, List[Tuple[int, Tuple[str, Tuple[Callable, int]]]]]:&#10;Return mapping&#10;{`function`: [(`lineno`, `var`), (`lineno`, `var`), ...], ...}&#10;for all functions in the dependencies.\">\n",
       "<text xml:space=\"preserve\" text-anchor=\"start\" x=\"379\" y=\"-584.25\" font-family=\"'Fira Mono', 'Source Code Pro', 'Courier', monospace\" font-weight=\"bold\" font-size=\"10.00\">all_functions()</text>\n",
       "</a>\n",
       "</g>\n",
       "<g id=\"a_node6_76\"><a xlink:href=\"#\" xlink:title=\"all_vars(self) &#45;&gt; Set[Tuple[str, Tuple[Callable, int]]]:&#10;Return a set of all variables (as `var_name`, `location`) in the dependencies\">\n",
       "<text xml:space=\"preserve\" text-anchor=\"start\" x=\"379\" y=\"-571.5\" font-family=\"'Fira Mono', 'Source Code Pro', 'Courier', monospace\" font-weight=\"bold\" font-size=\"10.00\">all_vars()</text>\n",
       "</a>\n",
       "</g>\n",
       "<g id=\"a_node6_77\"><a xlink:href=\"#\" xlink:title=\"backward_slice(self, *criteria: Union[str, Tuple[Callable, int], Tuple[str, Tuple[Callable, int]]], mode: str = &#39;cd&#39;, depth: int = &#45;1) &#45;&gt; Dependencies:&#10;Create a backward slice from nodes `criteria`.&#10;`mode` can contain &#39;c&#39; (draw control dependencies)&#10;and &#39;d&#39; (draw data dependencies) (default: &#39;cd&#39;)\">\n",
       "<text xml:space=\"preserve\" text-anchor=\"start\" x=\"379\" y=\"-558.75\" font-family=\"'Fira Mono', 'Source Code Pro', 'Courier', monospace\" font-weight=\"bold\" font-size=\"10.00\">backward_slice()</text>\n",
       "</a>\n",
       "</g>\n",
       "<g id=\"a_node6_78\"><a xlink:href=\"#\" xlink:title=\"code(self, *items: Callable, mode: str = &#39;cd&#39;) &#45;&gt; None:&#10;List `items` on standard output, including dependencies as comments.&#10;If `items` is empty, all included functions are listed.&#10;`mode` can contain &#39;c&#39; (draw control dependencies) and &#39;d&#39; (draw data dependencies)&#10;(default: &#39;cd&#39;).\">\n",
       "<text xml:space=\"preserve\" text-anchor=\"start\" x=\"379\" y=\"-546\" font-family=\"'Fira Mono', 'Source Code Pro', 'Courier', monospace\" font-weight=\"bold\" font-size=\"10.00\">code()</text>\n",
       "</a>\n",
       "</g>\n",
       "<g id=\"a_node6_79\"><a xlink:href=\"#\" xlink:title=\"graph(self, *, mode: str = &#39;flow&#39;) &#45;&gt; graphviz.graphs.Digraph:&#10;Draw dependencies. `mode` is either&#10;* `&#39;flow&#39;`: arrows indicate information flow (from A to B); or&#10;* `&#39;depend&#39;`: arrows indicate dependencies (B depends on A)\">\n",
       "<text xml:space=\"preserve\" text-anchor=\"start\" x=\"379\" y=\"-533.25\" font-family=\"'Fira Mono', 'Source Code Pro', 'Courier', monospace\" font-weight=\"bold\" font-size=\"10.00\">graph()</text>\n",
       "</a>\n",
       "</g>\n",
       "<g id=\"a_node6_80\"><a xlink:href=\"#\" xlink:title=\"_code(self, item: Callable, mode: str) &#45;&gt; None\">\n",
       "<text xml:space=\"preserve\" text-anchor=\"start\" x=\"379\" y=\"-519.5\" font-family=\"'Fira Mono', 'Source Code Pro', 'Courier', monospace\" font-size=\"10.00\">_code()</text>\n",
       "</a>\n",
       "</g>\n",
       "<g id=\"a_node6_81\"><a xlink:href=\"#\" xlink:title=\"_source(self, node: Tuple[str, Tuple[Callable, int]]) &#45;&gt; str\">\n",
       "<text xml:space=\"preserve\" text-anchor=\"start\" x=\"379\" y=\"-506.75\" font-family=\"'Fira Mono', 'Source Code Pro', 'Courier', monospace\" font-size=\"10.00\">_source()</text>\n",
       "</a>\n",
       "</g>\n",
       "<g id=\"a_node6_82\"><a xlink:href=\"#\" xlink:title=\"add_hierarchy(self, g: graphviz.graphs.Digraph) &#45;&gt; graphviz.graphs.Digraph:&#10;Add invisible edges for a proper hierarchy.\">\n",
       "<text xml:space=\"preserve\" text-anchor=\"start\" x=\"379\" y=\"-494\" font-family=\"'Fira Mono', 'Source Code Pro', 'Courier', monospace\" font-size=\"10.00\">add_hierarchy()</text>\n",
       "</a>\n",
       "</g>\n",
       "<g id=\"a_node6_83\"><a xlink:href=\"#\" xlink:title=\"draw_dependencies(self, g: graphviz.graphs.Digraph, mode: str) &#45;&gt; None\">\n",
       "<text xml:space=\"preserve\" text-anchor=\"start\" x=\"379\" y=\"-481.25\" font-family=\"'Fira Mono', 'Source Code Pro', 'Courier', monospace\" font-size=\"10.00\">draw_dependencies()</text>\n",
       "</a>\n",
       "</g>\n",
       "<g id=\"a_node6_84\"><a xlink:href=\"#\" xlink:title=\"draw_edge(self, g: graphviz.graphs.Digraph, mode: str, node_from: str, node_to: str, **kwargs: Any) &#45;&gt; None\">\n",
       "<text xml:space=\"preserve\" text-anchor=\"start\" x=\"379\" y=\"-468.5\" font-family=\"'Fira Mono', 'Source Code Pro', 'Courier', monospace\" font-size=\"10.00\">draw_edge()</text>\n",
       "</a>\n",
       "</g>\n",
       "<g id=\"a_node6_85\"><a xlink:href=\"#\" xlink:title=\"expand_criteria(self, criteria: List[Union[str, Tuple[Callable, int], Tuple[str, Tuple[Callable, int]]]]) &#45;&gt; List[Tuple[str, Tuple[Callable, int]]]:&#10;Return list of vars matched by `criteria`.\">\n",
       "<text xml:space=\"preserve\" text-anchor=\"start\" x=\"379\" y=\"-455.75\" font-family=\"'Fira Mono', 'Source Code Pro', 'Courier', monospace\" font-size=\"10.00\">expand_criteria()</text>\n",
       "</a>\n",
       "</g>\n",
       "<g id=\"a_node6_86\"><a xlink:href=\"#\" xlink:title=\"format_var(self, var: Tuple[str, Tuple[Callable, int]], current_func: Optional[Callable] = None) &#45;&gt; str:&#10;Return string for `var` in `current_func`.\">\n",
       "<text xml:space=\"preserve\" text-anchor=\"start\" x=\"379\" y=\"-443\" font-family=\"'Fira Mono', 'Source Code Pro', 'Courier', monospace\" font-size=\"10.00\">format_var()</text>\n",
       "</a>\n",
       "</g>\n",
       "<g id=\"a_node6_87\"><a xlink:href=\"#\" xlink:title=\"id(self, var: Tuple[str, Tuple[Callable, int]]) &#45;&gt; str:&#10;Return a unique ID for `var`.\">\n",
       "<text xml:space=\"preserve\" text-anchor=\"start\" x=\"379\" y=\"-430.25\" font-family=\"'Fira Mono', 'Source Code Pro', 'Courier', monospace\" font-size=\"10.00\">id()</text>\n",
       "</a>\n",
       "</g>\n",
       "<g id=\"a_node6_88\"><a xlink:href=\"#\" xlink:title=\"label(self, var: Tuple[str, Tuple[Callable, int]]) &#45;&gt; str:&#10;Render node `var` using HTML style.\">\n",
       "<text xml:space=\"preserve\" text-anchor=\"start\" x=\"379\" y=\"-417.5\" font-family=\"'Fira Mono', 'Source Code Pro', 'Courier', monospace\" font-size=\"10.00\">label()</text>\n",
       "</a>\n",
       "</g>\n",
       "<g id=\"a_node6_89\"><a xlink:href=\"#\" xlink:title=\"make_graph(self, name: str = &#39;dependencies&#39;, comment: str = &#39;Dependencies&#39;) &#45;&gt; graphviz.graphs.Digraph\">\n",
       "<text xml:space=\"preserve\" text-anchor=\"start\" x=\"379\" y=\"-404.75\" font-family=\"'Fira Mono', 'Source Code Pro', 'Courier', monospace\" font-size=\"10.00\">make_graph()</text>\n",
       "</a>\n",
       "</g>\n",
       "<g id=\"a_node6_90\"><a xlink:href=\"#\" xlink:title=\"repr_dependencies(self, vars: Dict[Tuple[str, Tuple[Callable, int]], Set[Tuple[str, Tuple[Callable, int]]]]) &#45;&gt; str\">\n",
       "<text xml:space=\"preserve\" text-anchor=\"start\" x=\"379\" y=\"-392\" font-family=\"'Fira Mono', 'Source Code Pro', 'Courier', monospace\" font-size=\"10.00\">repr_dependencies()</text>\n",
       "</a>\n",
       "</g>\n",
       "<g id=\"a_node6_91\"><a xlink:href=\"#\" xlink:title=\"repr_deps(self, var_set: Set[Tuple[str, Tuple[Callable, int]]]) &#45;&gt; str\">\n",
       "<text xml:space=\"preserve\" text-anchor=\"start\" x=\"379\" y=\"-379.25\" font-family=\"'Fira Mono', 'Source Code Pro', 'Courier', monospace\" font-size=\"10.00\">repr_deps()</text>\n",
       "</a>\n",
       "</g>\n",
       "<g id=\"a_node6_92\"><a xlink:href=\"#\" xlink:title=\"repr_var(self, var: Tuple[str, Tuple[Callable, int]]) &#45;&gt; str\">\n",
       "<text xml:space=\"preserve\" text-anchor=\"start\" x=\"379\" y=\"-366.5\" font-family=\"'Fira Mono', 'Source Code Pro', 'Courier', monospace\" font-size=\"10.00\">repr_var()</text>\n",
       "</a>\n",
       "</g>\n",
       "<g id=\"a_node6_93\"><a xlink:href=\"#\" xlink:title=\"source(self, node: Tuple[str, Tuple[Callable, int]]) &#45;&gt; str:&#10;Return the source code for a given node.\">\n",
       "<text xml:space=\"preserve\" text-anchor=\"start\" x=\"379\" y=\"-353.75\" font-family=\"'Fira Mono', 'Source Code Pro', 'Courier', monospace\" font-size=\"10.00\">source()</text>\n",
       "</a>\n",
       "</g>\n",
       "<g id=\"a_node6_94\"><a xlink:href=\"#\" xlink:title=\"tooltip(self, var: Tuple[str, Tuple[Callable, int]]) &#45;&gt; str:&#10;Return a tooltip for node `var`.\">\n",
       "<text xml:space=\"preserve\" text-anchor=\"start\" x=\"379\" y=\"-341\" font-family=\"'Fira Mono', 'Source Code Pro', 'Courier', monospace\" font-size=\"10.00\">tooltip()</text>\n",
       "</a>\n",
       "</g>\n",
       "<g id=\"a_node6_95\"><a xlink:href=\"#\" xlink:title=\"validate(self) &#45;&gt; None:&#10;Perform a simple syntactic validation of dependencies\">\n",
       "<text xml:space=\"preserve\" text-anchor=\"start\" x=\"379\" y=\"-328.25\" font-family=\"'Fira Mono', 'Source Code Pro', 'Courier', monospace\" font-size=\"10.00\">validate()</text>\n",
       "</a>\n",
       "</g>\n",
       "</a>\n",
       "</g>\n",
       "</a>\n",
       "</g>\n",
       "</g>\n",
       "<!-- Dependencies&#45;&gt;StackInspector -->\n",
       "<g id=\"edge5\" class=\"edge\">\n",
       "<title>Dependencies&#45;&gt;StackInspector</title>\n",
       "<path fill=\"none\" stroke=\"black\" d=\"M370.55,-689.37C367.75,-695.36 364.9,-701.25 362,-707 357.61,-715.72 352.7,-724.63 347.58,-733.41\"/>\n",
       "<polygon fill=\"none\" stroke=\"black\" points=\"344.61,-731.55 342.51,-741.94 350.63,-735.13 344.61,-731.55\"/>\n",
       "</g>\n",
       "<!-- Legend -->\n",
       "<g id=\"node7\" class=\"node\">\n",
       "<title>Legend</title>\n",
       "<text xml:space=\"preserve\" text-anchor=\"start\" x=\"416.38\" y=\"-158.25\" font-family=\"Raleway, Helvetica, Arial, sans-serif\" font-weight=\"bold\" font-size=\"10.00\" fill=\"#6a0dad\">Legend</text>\n",
       "<text xml:space=\"preserve\" text-anchor=\"start\" x=\"416.38\" y=\"-148.25\" font-family=\"Raleway, Helvetica, Arial, sans-serif\" font-size=\"10.00\">• </text>\n",
       "<text xml:space=\"preserve\" text-anchor=\"start\" x=\"422.38\" y=\"-148.25\" font-family=\"'Fira Mono', 'Source Code Pro', 'Courier', monospace\" font-weight=\"bold\" font-size=\"8.00\">public_method()</text>\n",
       "<text xml:space=\"preserve\" text-anchor=\"start\" x=\"416.38\" y=\"-138.25\" font-family=\"Raleway, Helvetica, Arial, sans-serif\" font-size=\"10.00\">• </text>\n",
       "<text xml:space=\"preserve\" text-anchor=\"start\" x=\"422.38\" y=\"-138.25\" font-family=\"'Fira Mono', 'Source Code Pro', 'Courier', monospace\" font-size=\"8.00\">private_method()</text>\n",
       "<text xml:space=\"preserve\" text-anchor=\"start\" x=\"416.38\" y=\"-128.25\" font-family=\"Raleway, Helvetica, Arial, sans-serif\" font-size=\"10.00\">• </text>\n",
       "<text xml:space=\"preserve\" text-anchor=\"start\" x=\"422.38\" y=\"-128.25\" font-family=\"'Fira Mono', 'Source Code Pro', 'Courier', monospace\" font-style=\"italic\" font-size=\"8.00\">overloaded_method()</text>\n",
       "<text xml:space=\"preserve\" text-anchor=\"start\" x=\"416.38\" y=\"-119.2\" font-family=\"Helvetica,sans-Serif\" font-size=\"9.00\">Hover over names to see doc</text>\n",
       "</g>\n",
       "</g>\n",
       "</svg>\n"
      ],
      "text/html": [
       "<?xml version=\"1.0\" encoding=\"UTF-8\" standalone=\"no\"?>\n",
       "<!DOCTYPE svg PUBLIC \"-//W3C//DTD SVG 1.1//EN\"\n",
       " \"http://www.w3.org/Graphics/SVG/1.1/DTD/svg11.dtd\">\n",
       "<!-- Generated by graphviz version 14.0.2 (20251019.1705)\n",
       " -->\n",
       "<!-- Pages: 1 -->\n",
       "<svg width=\"544pt\" height=\"895pt\"\n",
       " viewBox=\"0.00 0.00 544.00 895.00\" xmlns=\"http://www.w3.org/2000/svg\" xmlns:xlink=\"http://www.w3.org/1999/xlink\">\n",
       "<g id=\"graph0\" class=\"graph\" transform=\"scale(1 1) rotate(0) translate(4 891.25)\">\n",
       "<g id=\"a_graph0\"><a xlink:title=\"Slicer class hierarchy\">\n",
       "<polygon fill=\"white\" stroke=\"none\" points=\"-4,4 -4,-891.25 539.62,-891.25 539.62,4 -4,4\"/>\n",
       "</a>\n",
       "</g>\n",
       "<!-- Slicer -->\n",
       "<g id=\"node1\" class=\"node\">\n",
       "<title>Slicer</title>\n",
       "<g id=\"a_node1\"><a xlink:href=\"#\" xlink:title=\"class Slicer:&#10;Track dependencies in an execution\">\n",
       "<polygon fill=\"none\" stroke=\"black\" points=\"0,-30 0,-254.5 190,-254.5 190,-30 0,-30\"/>\n",
       "<text xml:space=\"preserve\" text-anchor=\"start\" x=\"76.25\" y=\"-238.2\" font-family=\"Raleway, Helvetica, Arial, sans-serif\" font-weight=\"bold\" font-size=\"14.00\" fill=\"#6a0dad\">Slicer</text>\n",
       "<polyline fill=\"none\" stroke=\"black\" points=\"0,-229.25 190,-229.25\"/>\n",
       "<g id=\"a_node1_0\"><a xlink:href=\"#\" xlink:title=\"Slicer\">\n",
       "<g id=\"a_node1_1\"><a xlink:href=\"#\" xlink:title=\"__init__(self, *items_to_instrument: Any, dependency_tracker: Optional[DependencyTracker] = None, globals: Optional[Dict[str, Any]] = None, log: Union[bool, int] = False):&#10;Create a slicer.&#10;`items_to_instrument` are Python functions or modules with source code.&#10;`dependency_tracker` is the tracker to be used (default: DependencyTracker).&#10;`globals` is the namespace to be used(default: caller&#39;s `globals()`)&#10;`log`=True or `log` &gt; 0 turns on logging\">\n",
       "<text xml:space=\"preserve\" text-anchor=\"start\" x=\"8\" y=\"-216.75\" font-family=\"'Fira Mono', 'Source Code Pro', 'Courier', monospace\" font-weight=\"bold\" font-style=\"italic\" font-size=\"10.00\">__init__()</text>\n",
       "</a>\n",
       "</g>\n",
       "<g id=\"a_node1_2\"><a xlink:href=\"#\" xlink:title=\"_repr_mimebundle_(self, include: Any = None, exclude: Any = None) &#45;&gt; Any:&#10;If the object is output in Jupyter, render dependencies as a SVG graph\">\n",
       "<text xml:space=\"preserve\" text-anchor=\"start\" x=\"8\" y=\"-204\" font-family=\"'Fira Mono', 'Source Code Pro', 'Courier', monospace\" font-weight=\"bold\" font-size=\"10.00\">_repr_mimebundle_()</text>\n",
       "</a>\n",
       "</g>\n",
       "<g id=\"a_node1_3\"><a xlink:href=\"#\" xlink:title=\"code(self, *args: Any, **kwargs: Any) &#45;&gt; None:&#10;Show code of instrumented items, annotated with dependencies.\">\n",
       "<text xml:space=\"preserve\" text-anchor=\"start\" x=\"8\" y=\"-191.25\" font-family=\"'Fira Mono', 'Source Code Pro', 'Courier', monospace\" font-weight=\"bold\" font-size=\"10.00\">code()</text>\n",
       "</a>\n",
       "</g>\n",
       "<g id=\"a_node1_4\"><a xlink:href=\"#\" xlink:title=\"dependencies(self) &#45;&gt; Dependencies:&#10;Return collected dependencies.\">\n",
       "<text xml:space=\"preserve\" text-anchor=\"start\" x=\"8\" y=\"-178.5\" font-family=\"'Fira Mono', 'Source Code Pro', 'Courier', monospace\" font-weight=\"bold\" font-size=\"10.00\">dependencies()</text>\n",
       "</a>\n",
       "</g>\n",
       "<g id=\"a_node1_5\"><a xlink:href=\"#\" xlink:title=\"graph(self, *args: Any, **kwargs: Any) &#45;&gt; graphviz.graphs.Digraph:&#10;Show dependency graph.\">\n",
       "<text xml:space=\"preserve\" text-anchor=\"start\" x=\"8\" y=\"-165.75\" font-family=\"'Fira Mono', 'Source Code Pro', 'Courier', monospace\" font-weight=\"bold\" font-size=\"10.00\">graph()</text>\n",
       "</a>\n",
       "</g>\n",
       "<g id=\"a_node1_6\"><a xlink:href=\"#\" xlink:title=\"calls_in_our_with_block(self) &#45;&gt; Set[str]:&#10;Return a set of function names called in the `with` block.\">\n",
       "<text xml:space=\"preserve\" text-anchor=\"start\" x=\"8\" y=\"-152\" font-family=\"'Fira Mono', 'Source Code Pro', 'Courier', monospace\" font-size=\"10.00\">calls_in_our_with_block()</text>\n",
       "</a>\n",
       "</g>\n",
       "<g id=\"a_node1_7\"><a xlink:href=\"#\" xlink:title=\"default_items_to_instrument(self) &#45;&gt; List[Callable]\">\n",
       "<text xml:space=\"preserve\" text-anchor=\"start\" x=\"8\" y=\"-140.25\" font-family=\"'Fira Mono', 'Source Code Pro', 'Courier', monospace\" font-style=\"italic\" font-size=\"10.00\">default_items_to_instrument()</text>\n",
       "</a>\n",
       "</g>\n",
       "<g id=\"a_node1_8\"><a xlink:href=\"#\" xlink:title=\"execute(self, tree: ast.AST, item: Any) &#45;&gt; None:&#10;Compile and execute `tree`. May be extended in subclasses.\">\n",
       "<text xml:space=\"preserve\" text-anchor=\"start\" x=\"8\" y=\"-127.5\" font-family=\"'Fira Mono', 'Source Code Pro', 'Courier', monospace\" font-style=\"italic\" font-size=\"10.00\">execute()</text>\n",
       "</a>\n",
       "</g>\n",
       "<g id=\"a_node1_9\"><a xlink:href=\"#\" xlink:title=\"funcs_in_our_with_block(self) &#45;&gt; List[Callable]\">\n",
       "<text xml:space=\"preserve\" text-anchor=\"start\" x=\"8\" y=\"-113.75\" font-family=\"'Fira Mono', 'Source Code Pro', 'Courier', monospace\" font-size=\"10.00\">funcs_in_our_with_block()</text>\n",
       "</a>\n",
       "</g>\n",
       "<g id=\"a_node1_10\"><a xlink:href=\"#\" xlink:title=\"instrument(self, item: Any) &#45;&gt; Any:&#10;Instrument `item`, transforming its source code, and re&#45;defining it.\">\n",
       "<text xml:space=\"preserve\" text-anchor=\"start\" x=\"8\" y=\"-102\" font-family=\"'Fira Mono', 'Source Code Pro', 'Courier', monospace\" font-style=\"italic\" font-size=\"10.00\">instrument()</text>\n",
       "</a>\n",
       "</g>\n",
       "<g id=\"a_node1_11\"><a xlink:href=\"#\" xlink:title=\"our_with_block(self) &#45;&gt; ast.With:&#10;Return the currently active `with` block.\">\n",
       "<text xml:space=\"preserve\" text-anchor=\"start\" x=\"8\" y=\"-88.25\" font-family=\"'Fira Mono', 'Source Code Pro', 'Courier', monospace\" font-size=\"10.00\">our_with_block()</text>\n",
       "</a>\n",
       "</g>\n",
       "<g id=\"a_node1_12\"><a xlink:href=\"#\" xlink:title=\"parse(self, item: Any) &#45;&gt; ast.AST:&#10;Parse `item`, returning its AST\">\n",
       "<text xml:space=\"preserve\" text-anchor=\"start\" x=\"8\" y=\"-75.5\" font-family=\"'Fira Mono', 'Source Code Pro', 'Courier', monospace\" font-size=\"10.00\">parse()</text>\n",
       "</a>\n",
       "</g>\n",
       "<g id=\"a_node1_13\"><a xlink:href=\"#\" xlink:title=\"restore(self) &#45;&gt; None:&#10;Restore original code.\">\n",
       "<text xml:space=\"preserve\" text-anchor=\"start\" x=\"8\" y=\"-63.75\" font-family=\"'Fira Mono', 'Source Code Pro', 'Courier', monospace\" font-style=\"italic\" font-size=\"10.00\">restore()</text>\n",
       "</a>\n",
       "</g>\n",
       "<g id=\"a_node1_14\"><a xlink:href=\"#\" xlink:title=\"transform(self, tree: ast.AST) &#45;&gt; ast.AST:&#10;Apply transformers on `tree`. May be extended in subclasses.\">\n",
       "<text xml:space=\"preserve\" text-anchor=\"start\" x=\"8\" y=\"-51\" font-family=\"'Fira Mono', 'Source Code Pro', 'Courier', monospace\" font-style=\"italic\" font-size=\"10.00\">transform()</text>\n",
       "</a>\n",
       "</g>\n",
       "<g id=\"a_node1_15\"><a xlink:href=\"#\" xlink:title=\"transformers(self) &#45;&gt; List[ast.NodeTransformer]:&#10;List of transformers to apply. To be extended in subclasses.\">\n",
       "<text xml:space=\"preserve\" text-anchor=\"start\" x=\"8\" y=\"-38.25\" font-family=\"'Fira Mono', 'Source Code Pro', 'Courier', monospace\" font-style=\"italic\" font-size=\"10.00\">transformers()</text>\n",
       "</a>\n",
       "</g>\n",
       "</a>\n",
       "</g>\n",
       "</a>\n",
       "</g>\n",
       "</g>\n",
       "<!-- Instrumenter -->\n",
       "<g id=\"node2\" class=\"node\">\n",
       "<title>Instrumenter</title>\n",
       "<g id=\"a_node2\"><a xlink:href=\"#\" xlink:title=\"class Instrumenter:&#10;Instrument functions for dynamic tracking\">\n",
       "<polygon fill=\"none\" stroke=\"black\" points=\"18,-458.88 18,-568.62 208,-568.62 208,-458.88 18,-458.88\"/>\n",
       "<text xml:space=\"preserve\" text-anchor=\"start\" x=\"71\" y=\"-552.33\" font-family=\"Raleway, Helvetica, Arial, sans-serif\" font-weight=\"bold\" font-style=\"italic\" font-size=\"14.00\" fill=\"#6a0dad\">Instrumenter</text>\n",
       "<polyline fill=\"none\" stroke=\"black\" points=\"18,-543.38 208,-543.38\"/>\n",
       "<g id=\"a_node2_16\"><a xlink:href=\"#\" xlink:title=\"Instrumenter\">\n",
       "<g id=\"a_node2_17\"><a xlink:href=\"#\" xlink:title=\"__enter__(self) &#45;&gt; Any:&#10;Instrument sources\">\n",
       "<text xml:space=\"preserve\" text-anchor=\"start\" x=\"26\" y=\"-530.88\" font-family=\"'Fira Mono', 'Source Code Pro', 'Courier', monospace\" font-weight=\"bold\" font-size=\"10.00\">__enter__()</text>\n",
       "</a>\n",
       "</g>\n",
       "<g id=\"a_node2_18\"><a xlink:href=\"#\" xlink:title=\"__exit__(self, exc_type: Type, exc_value: BaseException, traceback: traceback) &#45;&gt; Optional[bool]:&#10;Restore sources\">\n",
       "<text xml:space=\"preserve\" text-anchor=\"start\" x=\"26\" y=\"-518.12\" font-family=\"'Fira Mono', 'Source Code Pro', 'Courier', monospace\" font-weight=\"bold\" font-size=\"10.00\">__exit__()</text>\n",
       "</a>\n",
       "</g>\n",
       "<g id=\"a_node2_19\"><a xlink:href=\"#\" xlink:title=\"__init__(self, *items_to_instrument: Callable, globals: Optional[Dict[str, Any]] = None, log: Union[bool, int] = False) &#45;&gt; None:&#10;Create an instrumenter.&#10;`items_to_instrument` is a list of items to instrument.&#10;`globals` is a namespace to use (default: caller&#39;s globals())\">\n",
       "<text xml:space=\"preserve\" text-anchor=\"start\" x=\"26\" y=\"-505.38\" font-family=\"'Fira Mono', 'Source Code Pro', 'Courier', monospace\" font-weight=\"bold\" font-style=\"italic\" font-size=\"10.00\">__init__()</text>\n",
       "</a>\n",
       "</g>\n",
       "<g id=\"a_node2_20\"><a xlink:href=\"#\" xlink:title=\"instrument(self, item: Any) &#45;&gt; Any:&#10;Instrument `item`. To be overloaded in subclasses.\">\n",
       "<text xml:space=\"preserve\" text-anchor=\"start\" x=\"26\" y=\"-492.62\" font-family=\"'Fira Mono', 'Source Code Pro', 'Courier', monospace\" font-weight=\"bold\" font-style=\"italic\" font-size=\"10.00\">instrument()</text>\n",
       "</a>\n",
       "</g>\n",
       "<g id=\"a_node2_21\"><a xlink:href=\"#\" xlink:title=\"default_items_to_instrument(self) &#45;&gt; List[Callable]\">\n",
       "<text xml:space=\"preserve\" text-anchor=\"start\" x=\"26\" y=\"-479.88\" font-family=\"'Fira Mono', 'Source Code Pro', 'Courier', monospace\" font-style=\"italic\" font-size=\"10.00\">default_items_to_instrument()</text>\n",
       "</a>\n",
       "</g>\n",
       "<g id=\"a_node2_22\"><a xlink:href=\"#\" xlink:title=\"restore(self) &#45;&gt; None\">\n",
       "<text xml:space=\"preserve\" text-anchor=\"start\" x=\"26\" y=\"-467.12\" font-family=\"'Fira Mono', 'Source Code Pro', 'Courier', monospace\" font-style=\"italic\" font-size=\"10.00\">restore()</text>\n",
       "</a>\n",
       "</g>\n",
       "</a>\n",
       "</g>\n",
       "</a>\n",
       "</g>\n",
       "</g>\n",
       "<!-- Slicer&#45;&gt;Instrumenter -->\n",
       "<g id=\"edge1\" class=\"edge\">\n",
       "<title>Slicer&#45;&gt;Instrumenter</title>\n",
       "<path fill=\"none\" stroke=\"black\" d=\"M100.44,-254.86C103.5,-317.71 107.22,-394.01 109.81,-447.25\"/>\n",
       "<polygon fill=\"none\" stroke=\"black\" points=\"106.31,-447.25 110.29,-457.07 113.3,-446.91 106.31,-447.25\"/>\n",
       "</g>\n",
       "<!-- StackInspector -->\n",
       "<g id=\"node3\" class=\"node\">\n",
       "<title>StackInspector</title>\n",
       "<g id=\"a_node3\"><a xlink:href=\"StackInspector.ipynb\" xlink:title=\"class StackInspector:&#10;Provide functions to inspect the stack\">\n",
       "<polygon fill=\"none\" stroke=\"black\" points=\"211,-743.5 211,-886.75 377,-886.75 377,-743.5 211,-743.5\"/>\n",
       "<text xml:space=\"preserve\" text-anchor=\"start\" x=\"244.88\" y=\"-870.45\" font-family=\"Raleway, Helvetica, Arial, sans-serif\" font-weight=\"bold\" font-style=\"italic\" font-size=\"14.00\" fill=\"#6a0dad\">StackInspector</text>\n",
       "<polyline fill=\"none\" stroke=\"black\" points=\"211,-861.5 377,-861.5\"/>\n",
       "<g id=\"a_node3_23\"><a xlink:href=\"#\" xlink:title=\"StackInspector\">\n",
       "<g id=\"a_node3_24\"><a xlink:href=\"StackInspector.ipynb\" xlink:title=\"_generated_function_cache = {(&#39;&lt;module&gt;&#39;, 2): &lt;function &lt;module&gt; at 0x10d9f5300&gt;, (&#39;&lt;module&gt;&#39;, 1): &lt;function &lt;module&gt; at 0x10d9f54e0&gt;, (&#39;&lt;module&gt;&#39;, 3): &lt;function &lt;module&gt; at 0x10e60cfe0&gt;, (&#39;&lt;module&gt;&#39;, 4): &lt;function &lt;module&gt; at 0x10e60d440&gt;}\">\n",
       "<text xml:space=\"preserve\" text-anchor=\"start\" x=\"219\" y=\"-848\" font-family=\"'Fira Mono', 'Source Code Pro', 'Courier', monospace\" font-size=\"10.00\">_generated_function_cache</text>\n",
       "</a>\n",
       "</g>\n",
       "</a>\n",
       "</g>\n",
       "<polyline fill=\"none\" stroke=\"black\" points=\"211,-840.75 377,-840.75\"/>\n",
       "<g id=\"a_node3_25\"><a xlink:href=\"#\" xlink:title=\"StackInspector\">\n",
       "<g id=\"a_node3_26\"><a xlink:href=\"StackInspector.ipynb\" xlink:title=\"caller_frame(self) &#45;&gt; frame:&#10;Return the frame of the caller.\">\n",
       "<text xml:space=\"preserve\" text-anchor=\"start\" x=\"243\" y=\"-828.25\" font-family=\"'Fira Mono', 'Source Code Pro', 'Courier', monospace\" font-weight=\"bold\" font-size=\"10.00\">caller_frame()</text>\n",
       "</a>\n",
       "</g>\n",
       "<g id=\"a_node3_27\"><a xlink:href=\"StackInspector.ipynb\" xlink:title=\"caller_function(self) &#45;&gt; Callable:&#10;Return the calling function\">\n",
       "<text xml:space=\"preserve\" text-anchor=\"start\" x=\"243\" y=\"-815.5\" font-family=\"'Fira Mono', 'Source Code Pro', 'Courier', monospace\" font-weight=\"bold\" font-size=\"10.00\">caller_function()</text>\n",
       "</a>\n",
       "</g>\n",
       "<g id=\"a_node3_28\"><a xlink:href=\"StackInspector.ipynb\" xlink:title=\"caller_globals(self) &#45;&gt; Dict[str, Any]:&#10;Return the globals() environment of the caller.\">\n",
       "<text xml:space=\"preserve\" text-anchor=\"start\" x=\"243\" y=\"-802.75\" font-family=\"'Fira Mono', 'Source Code Pro', 'Courier', monospace\" font-weight=\"bold\" font-size=\"10.00\">caller_globals()</text>\n",
       "</a>\n",
       "</g>\n",
       "<g id=\"a_node3_29\"><a xlink:href=\"StackInspector.ipynb\" xlink:title=\"caller_locals(self) &#45;&gt; Dict[str, Any]:&#10;Return the locals() environment of the caller.\">\n",
       "<text xml:space=\"preserve\" text-anchor=\"start\" x=\"243\" y=\"-790\" font-family=\"'Fira Mono', 'Source Code Pro', 'Courier', monospace\" font-weight=\"bold\" font-size=\"10.00\">caller_locals()</text>\n",
       "</a>\n",
       "</g>\n",
       "<g id=\"a_node3_30\"><a xlink:href=\"StackInspector.ipynb\" xlink:title=\"caller_location(self) &#45;&gt; Tuple[Callable, int]:&#10;Return the location (func, lineno) of the caller.\">\n",
       "<text xml:space=\"preserve\" text-anchor=\"start\" x=\"243\" y=\"-777.25\" font-family=\"'Fira Mono', 'Source Code Pro', 'Courier', monospace\" font-weight=\"bold\" font-size=\"10.00\">caller_location()</text>\n",
       "</a>\n",
       "</g>\n",
       "<g id=\"a_node3_31\"><a xlink:href=\"StackInspector.ipynb\" xlink:title=\"search_frame(self, name: str, frame: Optional[frame] = None) &#45;&gt; Tuple[Optional[frame], Optional[Callable]]:&#10;Return a pair (`frame`, `item`)&#10;in which the function `name` is defined as `item`.\">\n",
       "<text xml:space=\"preserve\" text-anchor=\"start\" x=\"243\" y=\"-764.5\" font-family=\"'Fira Mono', 'Source Code Pro', 'Courier', monospace\" font-weight=\"bold\" font-size=\"10.00\">search_frame()</text>\n",
       "</a>\n",
       "</g>\n",
       "<g id=\"a_node3_32\"><a xlink:href=\"StackInspector.ipynb\" xlink:title=\"search_func(self, name: str, frame: Optional[frame] = None) &#45;&gt; Optional[Callable]:&#10;Search in callers for a definition of the function `name`\">\n",
       "<text xml:space=\"preserve\" text-anchor=\"start\" x=\"243\" y=\"-751.75\" font-family=\"'Fira Mono', 'Source Code Pro', 'Courier', monospace\" font-weight=\"bold\" font-size=\"10.00\">search_func()</text>\n",
       "</a>\n",
       "</g>\n",
       "</a>\n",
       "</g>\n",
       "</a>\n",
       "</g>\n",
       "</g>\n",
       "<!-- Instrumenter&#45;&gt;StackInspector -->\n",
       "<g id=\"edge2\" class=\"edge\">\n",
       "<title>Instrumenter&#45;&gt;StackInspector</title>\n",
       "<path fill=\"none\" stroke=\"black\" d=\"M144.17,-568.91C166.59,-607.59 197.74,-660.75 226,-707 231.27,-715.63 236.84,-724.61 242.43,-733.53\"/>\n",
       "<polygon fill=\"none\" stroke=\"black\" points=\"239.4,-735.29 247.68,-741.89 245.32,-731.56 239.4,-735.29\"/>\n",
       "</g>\n",
       "<!-- DependencyTracker -->\n",
       "<g id=\"node4\" class=\"node\">\n",
       "<title>DependencyTracker</title>\n",
       "<g id=\"a_node4\"><a xlink:href=\"#\" xlink:title=\"class DependencyTracker:&#10;Track dependencies during execution\">\n",
       "<polygon fill=\"none\" stroke=\"black\" points=\"208,-0.5 208,-284 398,-284 398,-0.5 208,-0.5\"/>\n",
       "<text xml:space=\"preserve\" text-anchor=\"start\" x=\"235.88\" y=\"-267.7\" font-family=\"Raleway, Helvetica, Arial, sans-serif\" font-weight=\"bold\" font-size=\"14.00\" fill=\"#6a0dad\">DependencyTracker</text>\n",
       "<polyline fill=\"none\" stroke=\"black\" points=\"208,-258.75 398,-258.75\"/>\n",
       "<g id=\"a_node4_33\"><a xlink:href=\"#\" xlink:title=\"DependencyTracker\">\n",
       "<g id=\"a_node4_34\"><a xlink:href=\"#\" xlink:title=\"TEST = &#39;&lt;test&gt;&#39;\">\n",
       "<text xml:space=\"preserve\" text-anchor=\"start\" x=\"291\" y=\"-245.25\" font-family=\"'Fira Mono', 'Source Code Pro', 'Courier', monospace\" font-size=\"10.00\">TEST</text>\n",
       "</a>\n",
       "</g>\n",
       "</a>\n",
       "</g>\n",
       "<polyline fill=\"none\" stroke=\"black\" points=\"208,-238 398,-238\"/>\n",
       "<g id=\"a_node4_35\"><a xlink:href=\"#\" xlink:title=\"DependencyTracker\">\n",
       "<g id=\"a_node4_36\"><a xlink:href=\"#\" xlink:title=\"__enter__(self) &#45;&gt; Any:&#10;Track entering an if/while/for block\">\n",
       "<text xml:space=\"preserve\" text-anchor=\"start\" x=\"216\" y=\"-225.5\" font-family=\"'Fira Mono', 'Source Code Pro', 'Courier', monospace\" font-weight=\"bold\" font-style=\"italic\" font-size=\"10.00\">__enter__()</text>\n",
       "</a>\n",
       "</g>\n",
       "<g id=\"a_node4_37\"><a xlink:href=\"#\" xlink:title=\"__exit__(self, exc_type: Type, exc_value: BaseException, traceback: traceback) &#45;&gt; Optional[bool]:&#10;Track exiting an if/while/for block\">\n",
       "<text xml:space=\"preserve\" text-anchor=\"start\" x=\"216\" y=\"-212.75\" font-family=\"'Fira Mono', 'Source Code Pro', 'Courier', monospace\" font-weight=\"bold\" font-style=\"italic\" font-size=\"10.00\">__exit__()</text>\n",
       "</a>\n",
       "</g>\n",
       "<g id=\"a_node4_38\"><a xlink:href=\"#\" xlink:title=\"__init__(self, *args: Any, **kwargs: Any) &#45;&gt; None:&#10;Constructor. Arguments are passed to DataTracker.__init__()\">\n",
       "<text xml:space=\"preserve\" text-anchor=\"start\" x=\"216\" y=\"-200\" font-family=\"'Fira Mono', 'Source Code Pro', 'Courier', monospace\" font-weight=\"bold\" font-style=\"italic\" font-size=\"10.00\">__init__()</text>\n",
       "</a>\n",
       "</g>\n",
       "<g id=\"a_node4_39\"><a xlink:href=\"#\" xlink:title=\"arg(self, value: Any, pos: Optional[int] = None, kw: Optional[str] = None) &#45;&gt; Any:&#10;Track passing an argument `value`&#10;(with given position `pos` 1..n or keyword `kw`)\">\n",
       "<text xml:space=\"preserve\" text-anchor=\"start\" x=\"216\" y=\"-187.25\" font-family=\"'Fira Mono', 'Source Code Pro', 'Courier', monospace\" font-weight=\"bold\" font-style=\"italic\" font-size=\"10.00\">arg()</text>\n",
       "</a>\n",
       "</g>\n",
       "<g id=\"a_node4_40\"><a xlink:href=\"#\" xlink:title=\"call(self, func: Callable) &#45;&gt; Callable:&#10;Track a call of function `func`\">\n",
       "<text xml:space=\"preserve\" text-anchor=\"start\" x=\"216\" y=\"-174.5\" font-family=\"'Fira Mono', 'Source Code Pro', 'Courier', monospace\" font-weight=\"bold\" font-style=\"italic\" font-size=\"10.00\">call()</text>\n",
       "</a>\n",
       "</g>\n",
       "<g id=\"a_node4_41\"><a xlink:href=\"#\" xlink:title=\"get(self, name: str, value: Any) &#45;&gt; Any:&#10;Track a read access for variable `name` with value `value`\">\n",
       "<text xml:space=\"preserve\" text-anchor=\"start\" x=\"216\" y=\"-161.75\" font-family=\"'Fira Mono', 'Source Code Pro', 'Courier', monospace\" font-weight=\"bold\" font-style=\"italic\" font-size=\"10.00\">get()</text>\n",
       "</a>\n",
       "</g>\n",
       "<g id=\"a_node4_42\"><a xlink:href=\"#\" xlink:title=\"param(self, name: str, value: Any, pos: Optional[int] = None, vararg: str = &#39;&#39;, last: bool = False) &#45;&gt; Any:&#10;Track getting a parameter `name` with value `value`&#10;(with given position `pos`).&#10;vararg parameters are indicated by setting `varargs` to&#10;&#39;*&#39; (*args) or &#39;**&#39; (**kwargs)\">\n",
       "<text xml:space=\"preserve\" text-anchor=\"start\" x=\"216\" y=\"-149\" font-family=\"'Fira Mono', 'Source Code Pro', 'Courier', monospace\" font-weight=\"bold\" font-style=\"italic\" font-size=\"10.00\">param()</text>\n",
       "</a>\n",
       "</g>\n",
       "<g id=\"a_node4_43\"><a xlink:href=\"#\" xlink:title=\"ret(self, value: Any) &#45;&gt; Any:&#10;Track a function return\">\n",
       "<text xml:space=\"preserve\" text-anchor=\"start\" x=\"216\" y=\"-136.25\" font-family=\"'Fira Mono', 'Source Code Pro', 'Courier', monospace\" font-weight=\"bold\" font-style=\"italic\" font-size=\"10.00\">ret()</text>\n",
       "</a>\n",
       "</g>\n",
       "<g id=\"a_node4_44\"><a xlink:href=\"#\" xlink:title=\"set(self, name: str, value: Any, loads: Optional[Set[str]] = None) &#45;&gt; Any:&#10;Add a dependency for `name` = `value`\">\n",
       "<text xml:space=\"preserve\" text-anchor=\"start\" x=\"216\" y=\"-123.5\" font-family=\"'Fira Mono', 'Source Code Pro', 'Courier', monospace\" font-weight=\"bold\" font-style=\"italic\" font-size=\"10.00\">set()</text>\n",
       "</a>\n",
       "</g>\n",
       "<g id=\"a_node4_45\"><a xlink:href=\"#\" xlink:title=\"test(self, value: Any) &#45;&gt; Any:&#10;Track a test for condition `value`\">\n",
       "<text xml:space=\"preserve\" text-anchor=\"start\" x=\"216\" y=\"-110.75\" font-family=\"'Fira Mono', 'Source Code Pro', 'Courier', monospace\" font-weight=\"bold\" font-style=\"italic\" font-size=\"10.00\">test()</text>\n",
       "</a>\n",
       "</g>\n",
       "<g id=\"a_node4_46\"><a xlink:href=\"#\" xlink:title=\"call_generator(self, func: Callable) &#45;&gt; Callable:&#10;Track a call of a generator function\">\n",
       "<text xml:space=\"preserve\" text-anchor=\"start\" x=\"216\" y=\"-97\" font-family=\"'Fira Mono', 'Source Code Pro', 'Courier', monospace\" font-size=\"10.00\">call_generator()</text>\n",
       "</a>\n",
       "</g>\n",
       "<g id=\"a_node4_47\"><a xlink:href=\"#\" xlink:title=\"check_location(self) &#45;&gt; None:&#10;If we are in a new location, clear set of read variables\">\n",
       "<text xml:space=\"preserve\" text-anchor=\"start\" x=\"216\" y=\"-84.25\" font-family=\"'Fira Mono', 'Source Code Pro', 'Courier', monospace\" font-size=\"10.00\">check_location()</text>\n",
       "</a>\n",
       "</g>\n",
       "<g id=\"a_node4_48\"><a xlink:href=\"#\" xlink:title=\"clear_read(self) &#45;&gt; None:&#10;Clear set of read variables\">\n",
       "<text xml:space=\"preserve\" text-anchor=\"start\" x=\"216\" y=\"-71.5\" font-family=\"'Fira Mono', 'Source Code Pro', 'Courier', monospace\" font-size=\"10.00\">clear_read()</text>\n",
       "</a>\n",
       "</g>\n",
       "<g id=\"a_node4_49\"><a xlink:href=\"#\" xlink:title=\"dependencies(self) &#45;&gt; Dependencies:&#10;Return dependencies\">\n",
       "<text xml:space=\"preserve\" text-anchor=\"start\" x=\"216\" y=\"-58.75\" font-family=\"'Fira Mono', 'Source Code Pro', 'Courier', monospace\" font-size=\"10.00\">dependencies()</text>\n",
       "</a>\n",
       "</g>\n",
       "<g id=\"a_node4_50\"><a xlink:href=\"#\" xlink:title=\"ignore_location_change(self) &#45;&gt; None\">\n",
       "<text xml:space=\"preserve\" text-anchor=\"start\" x=\"216\" y=\"-46\" font-family=\"'Fira Mono', 'Source Code Pro', 'Courier', monospace\" font-size=\"10.00\">ignore_location_change()</text>\n",
       "</a>\n",
       "</g>\n",
       "<g id=\"a_node4_51\"><a xlink:href=\"#\" xlink:title=\"ignore_next_location_change(self) &#45;&gt; None\">\n",
       "<text xml:space=\"preserve\" text-anchor=\"start\" x=\"216\" y=\"-33.25\" font-family=\"'Fira Mono', 'Source Code Pro', 'Courier', monospace\" font-size=\"10.00\">ignore_next_location_change()</text>\n",
       "</a>\n",
       "</g>\n",
       "<g id=\"a_node4_52\"><a xlink:href=\"#\" xlink:title=\"in_generator(self) &#45;&gt; bool:&#10;True if we are calling a generator function\">\n",
       "<text xml:space=\"preserve\" text-anchor=\"start\" x=\"216\" y=\"-20.5\" font-family=\"'Fira Mono', 'Source Code Pro', 'Courier', monospace\" font-size=\"10.00\">in_generator()</text>\n",
       "</a>\n",
       "</g>\n",
       "<g id=\"a_node4_53\"><a xlink:href=\"#\" xlink:title=\"ret_generator(self, generator: Any) &#45;&gt; Any:&#10;Track the return of a generator function\">\n",
       "<text xml:space=\"preserve\" text-anchor=\"start\" x=\"216\" y=\"-7.75\" font-family=\"'Fira Mono', 'Source Code Pro', 'Courier', monospace\" font-size=\"10.00\">ret_generator()</text>\n",
       "</a>\n",
       "</g>\n",
       "</a>\n",
       "</g>\n",
       "</a>\n",
       "</g>\n",
       "</g>\n",
       "<!-- DataTracker -->\n",
       "<g id=\"node5\" class=\"node\">\n",
       "<title>DataTracker</title>\n",
       "<g id=\"a_node5\"><a xlink:href=\"#\" xlink:title=\"class DataTracker:&#10;Track data accesses during execution\">\n",
       "<polygon fill=\"none\" stroke=\"black\" points=\"235,-420.62 235,-606.88 353,-606.88 353,-420.62 235,-420.62\"/>\n",
       "<text xml:space=\"preserve\" text-anchor=\"start\" x=\"253.5\" y=\"-590.58\" font-family=\"Raleway, Helvetica, Arial, sans-serif\" font-weight=\"bold\" font-size=\"14.00\" fill=\"#6a0dad\">DataTracker</text>\n",
       "<polyline fill=\"none\" stroke=\"black\" points=\"235,-581.62 353,-581.62\"/>\n",
       "<g id=\"a_node5_54\"><a xlink:href=\"#\" xlink:title=\"DataTracker\">\n",
       "<g id=\"a_node5_55\"><a xlink:href=\"#\" xlink:title=\"__enter__(self) &#45;&gt; Any:&#10;Enter `with` block. To be overloaded in subclasses.\">\n",
       "<text xml:space=\"preserve\" text-anchor=\"start\" x=\"243\" y=\"-569.12\" font-family=\"'Fira Mono', 'Source Code Pro', 'Courier', monospace\" font-weight=\"bold\" font-style=\"italic\" font-size=\"10.00\">__enter__()</text>\n",
       "</a>\n",
       "</g>\n",
       "<g id=\"a_node5_56\"><a xlink:href=\"#\" xlink:title=\"__exit__(self, exc_type: Type, exc_value: BaseException, traceback: traceback) &#45;&gt; Optional[bool]:&#10;Exit `with` block. To be overloaded in subclasses.\">\n",
       "<text xml:space=\"preserve\" text-anchor=\"start\" x=\"243\" y=\"-556.38\" font-family=\"'Fira Mono', 'Source Code Pro', 'Courier', monospace\" font-weight=\"bold\" font-style=\"italic\" font-size=\"10.00\">__exit__()</text>\n",
       "</a>\n",
       "</g>\n",
       "<g id=\"a_node5_57\"><a xlink:href=\"#\" xlink:title=\"__init__(self, log: bool = False) &#45;&gt; None:&#10;Constructor. If `log` is set, turn on logging.\">\n",
       "<text xml:space=\"preserve\" text-anchor=\"start\" x=\"243\" y=\"-543.62\" font-family=\"'Fira Mono', 'Source Code Pro', 'Courier', monospace\" font-weight=\"bold\" font-style=\"italic\" font-size=\"10.00\">__init__()</text>\n",
       "</a>\n",
       "</g>\n",
       "<g id=\"a_node5_58\"><a xlink:href=\"#\" xlink:title=\"arg(self, value: Any, pos: Optional[int] = None, kw: Optional[str] = None) &#45;&gt; Any:&#10;Track `value` being passed as argument.&#10;`pos` (if given) is the argument position (starting with 1).&#10;`kw` (if given) is the argument keyword.\">\n",
       "<text xml:space=\"preserve\" text-anchor=\"start\" x=\"243\" y=\"-530.88\" font-family=\"'Fira Mono', 'Source Code Pro', 'Courier', monospace\" font-weight=\"bold\" font-style=\"italic\" font-size=\"10.00\">arg()</text>\n",
       "</a>\n",
       "</g>\n",
       "<g id=\"a_node5_59\"><a xlink:href=\"#\" xlink:title=\"augment(self, name: str, value: Any) &#45;&gt; Any:&#10;Track augmenting `name` with `value`.&#10;To be overloaded in subclasses.\">\n",
       "<text xml:space=\"preserve\" text-anchor=\"start\" x=\"243\" y=\"-518.12\" font-family=\"'Fira Mono', 'Source Code Pro', 'Courier', monospace\" font-weight=\"bold\" font-style=\"italic\" font-size=\"10.00\">augment()</text>\n",
       "</a>\n",
       "</g>\n",
       "<g id=\"a_node5_60\"><a xlink:href=\"#\" xlink:title=\"call(self, func: Callable) &#45;&gt; Callable:&#10;Track a call to `func`.\">\n",
       "<text xml:space=\"preserve\" text-anchor=\"start\" x=\"243\" y=\"-505.38\" font-family=\"'Fira Mono', 'Source Code Pro', 'Courier', monospace\" font-weight=\"bold\" font-style=\"italic\" font-size=\"10.00\">call()</text>\n",
       "</a>\n",
       "</g>\n",
       "<g id=\"a_node5_61\"><a xlink:href=\"#\" xlink:title=\"get(self, name: str, value: Any) &#45;&gt; Any:&#10;Track getting `value` from `name`.\">\n",
       "<text xml:space=\"preserve\" text-anchor=\"start\" x=\"243\" y=\"-492.62\" font-family=\"'Fira Mono', 'Source Code Pro', 'Courier', monospace\" font-weight=\"bold\" font-style=\"italic\" font-size=\"10.00\">get()</text>\n",
       "</a>\n",
       "</g>\n",
       "<g id=\"a_node5_62\"><a xlink:href=\"#\" xlink:title=\"param(self, name: str, value: Any, pos: Optional[int] = None, vararg: str = &#39;&#39;, last: bool = False) &#45;&gt; Any:&#10;At the beginning of a function, track parameter `name` being set to `value`.&#10;`pos` is the position of the argument (starting with 1).&#10;`vararg` is &quot;*&quot; if `name` is a vararg parameter (as in *args),&#10;and &quot;**&quot; is `name` is a kwargs parameter (as in *kwargs).&#10;`last` is True if `name` is the last parameter.\">\n",
       "<text xml:space=\"preserve\" text-anchor=\"start\" x=\"243\" y=\"-479.88\" font-family=\"'Fira Mono', 'Source Code Pro', 'Courier', monospace\" font-weight=\"bold\" font-style=\"italic\" font-size=\"10.00\">param()</text>\n",
       "</a>\n",
       "</g>\n",
       "<g id=\"a_node5_63\"><a xlink:href=\"#\" xlink:title=\"ret(self, value: Any) &#45;&gt; Any:&#10;Track `value` being used as return value.\">\n",
       "<text xml:space=\"preserve\" text-anchor=\"start\" x=\"243\" y=\"-467.12\" font-family=\"'Fira Mono', 'Source Code Pro', 'Courier', monospace\" font-weight=\"bold\" font-style=\"italic\" font-size=\"10.00\">ret()</text>\n",
       "</a>\n",
       "</g>\n",
       "<g id=\"a_node5_64\"><a xlink:href=\"#\" xlink:title=\"set(self, name: str, value: Any, loads: Optional[Set[str]] = None) &#45;&gt; Any:&#10;Track setting `name` to `value`.\">\n",
       "<text xml:space=\"preserve\" text-anchor=\"start\" x=\"243\" y=\"-454.38\" font-family=\"'Fira Mono', 'Source Code Pro', 'Courier', monospace\" font-weight=\"bold\" font-style=\"italic\" font-size=\"10.00\">set()</text>\n",
       "</a>\n",
       "</g>\n",
       "<g id=\"a_node5_65\"><a xlink:href=\"#\" xlink:title=\"test(self, cond: ast.AST) &#45;&gt; ast.AST:&#10;Test condition `cond`. To be overloaded in subclasses.\">\n",
       "<text xml:space=\"preserve\" text-anchor=\"start\" x=\"243\" y=\"-441.62\" font-family=\"'Fira Mono', 'Source Code Pro', 'Courier', monospace\" font-weight=\"bold\" font-style=\"italic\" font-size=\"10.00\">test()</text>\n",
       "</a>\n",
       "</g>\n",
       "<g id=\"a_node5_66\"><a xlink:href=\"#\" xlink:title=\"instrument_call(self, func: Callable) &#45;&gt; Callable:&#10;Instrument a call to `func`. To be implemented in subclasses.\">\n",
       "<text xml:space=\"preserve\" text-anchor=\"start\" x=\"243\" y=\"-428.88\" font-family=\"'Fira Mono', 'Source Code Pro', 'Courier', monospace\" font-style=\"italic\" font-size=\"10.00\">instrument_call()</text>\n",
       "</a>\n",
       "</g>\n",
       "</a>\n",
       "</g>\n",
       "</a>\n",
       "</g>\n",
       "</g>\n",
       "<!-- DependencyTracker&#45;&gt;DataTracker -->\n",
       "<g id=\"edge3\" class=\"edge\">\n",
       "<title>DependencyTracker&#45;&gt;DataTracker</title>\n",
       "<path fill=\"none\" stroke=\"black\" d=\"M299.57,-284.26C298.56,-325.73 297.47,-370.31 296.53,-408.99\"/>\n",
       "<polygon fill=\"none\" stroke=\"black\" points=\"293.03,-408.67 296.29,-418.75 300.03,-408.84 293.03,-408.67\"/>\n",
       "</g>\n",
       "<!-- DataTracker&#45;&gt;StackInspector -->\n",
       "<g id=\"edge4\" class=\"edge\">\n",
       "<title>DataTracker&#45;&gt;StackInspector</title>\n",
       "<path fill=\"none\" stroke=\"black\" d=\"M294,-607.02C294,-646.89 294,-693.17 294,-731.86\"/>\n",
       "<polygon fill=\"none\" stroke=\"black\" points=\"290.5,-731.56 294,-741.56 297.5,-731.56 290.5,-731.56\"/>\n",
       "</g>\n",
       "<!-- Dependencies -->\n",
       "<g id=\"node6\" class=\"node\">\n",
       "<title>Dependencies</title>\n",
       "<g id=\"a_node6\"><a xlink:href=\"#\" xlink:title=\"class Dependencies:&#10;A dependency graph\">\n",
       "<polygon fill=\"none\" stroke=\"black\" points=\"371,-321 371,-706.5 501,-706.5 501,-321 371,-321\"/>\n",
       "<text xml:space=\"preserve\" text-anchor=\"start\" x=\"388\" y=\"-690.2\" font-family=\"Raleway, Helvetica, Arial, sans-serif\" font-weight=\"bold\" font-size=\"14.00\" fill=\"#6a0dad\">Dependencies</text>\n",
       "<polyline fill=\"none\" stroke=\"black\" points=\"371,-681.25 501,-681.25\"/>\n",
       "<g id=\"a_node6_67\"><a xlink:href=\"#\" xlink:title=\"Dependencies\">\n",
       "<g id=\"a_node6_68\"><a xlink:href=\"#\" xlink:title=\"FONT_NAME = &#39;Courier&#39;\">\n",
       "<text xml:space=\"preserve\" text-anchor=\"start\" x=\"406\" y=\"-667.75\" font-family=\"'Fira Mono', 'Source Code Pro', 'Courier', monospace\" font-size=\"10.00\">FONT_NAME</text>\n",
       "</a>\n",
       "</g>\n",
       "<g id=\"a_node6_69\"><a xlink:href=\"#\" xlink:title=\"NODE_COLOR = &#39;peachpuff&#39;\">\n",
       "<text xml:space=\"preserve\" text-anchor=\"start\" x=\"406\" y=\"-655\" font-family=\"'Fira Mono', 'Source Code Pro', 'Courier', monospace\" font-size=\"10.00\">NODE_COLOR</text>\n",
       "</a>\n",
       "</g>\n",
       "</a>\n",
       "</g>\n",
       "<polyline fill=\"none\" stroke=\"black\" points=\"371,-647.75 501,-647.75\"/>\n",
       "<g id=\"a_node6_70\"><a xlink:href=\"#\" xlink:title=\"Dependencies\">\n",
       "<g id=\"a_node6_71\"><a xlink:href=\"#\" xlink:title=\"__init__(self, data: Optional[Dict[Tuple[str, Tuple[Callable, int]], Set[Tuple[str, Tuple[Callable, int]]]]] = None, control: Optional[Dict[Tuple[str, Tuple[Callable, int]], Set[Tuple[str, Tuple[Callable, int]]]]] = None) &#45;&gt; None:&#10;Create a dependency graph from `data` and `control`.&#10;Both `data` and `control` are dictionaries&#10;holding _nodes_ as keys and sets of nodes as values.&#10;Each node comes as a tuple (variable_name, location)&#10;where `variable_name` is a string&#10;and `location` is a pair (function, lineno)&#10;where `function` is a callable and `lineno` is a line number&#10;denoting a unique location in the code.\">\n",
       "<text xml:space=\"preserve\" text-anchor=\"start\" x=\"379\" y=\"-635.25\" font-family=\"'Fira Mono', 'Source Code Pro', 'Courier', monospace\" font-weight=\"bold\" font-size=\"10.00\">__init__()</text>\n",
       "</a>\n",
       "</g>\n",
       "<g id=\"a_node6_72\"><a xlink:href=\"#\" xlink:title=\"__repr__(self) &#45;&gt; str:&#10;Represent dependencies as a Python expression\">\n",
       "<text xml:space=\"preserve\" text-anchor=\"start\" x=\"379\" y=\"-622.5\" font-family=\"'Fira Mono', 'Source Code Pro', 'Courier', monospace\" font-weight=\"bold\" font-size=\"10.00\">__repr__()</text>\n",
       "</a>\n",
       "</g>\n",
       "<g id=\"a_node6_73\"><a xlink:href=\"#\" xlink:title=\"__str__(self) &#45;&gt; str:&#10;Return string representation of dependencies\">\n",
       "<text xml:space=\"preserve\" text-anchor=\"start\" x=\"379\" y=\"-609.75\" font-family=\"'Fira Mono', 'Source Code Pro', 'Courier', monospace\" font-weight=\"bold\" font-size=\"10.00\">__str__()</text>\n",
       "</a>\n",
       "</g>\n",
       "<g id=\"a_node6_74\"><a xlink:href=\"#\" xlink:title=\"_repr_mimebundle_(self, include: Any = None, exclude: Any = None) &#45;&gt; Any:&#10;If the object is output in Jupyter, render dependencies as a SVG graph\">\n",
       "<text xml:space=\"preserve\" text-anchor=\"start\" x=\"379\" y=\"-597\" font-family=\"'Fira Mono', 'Source Code Pro', 'Courier', monospace\" font-weight=\"bold\" font-size=\"10.00\">_repr_mimebundle_()</text>\n",
       "</a>\n",
       "</g>\n",
       "<g id=\"a_node6_75\"><a xlink:href=\"#\" xlink:title=\"all_functions(self) &#45;&gt; Dict[Callable, List[Tuple[int, Tuple[str, Tuple[Callable, int]]]]]:&#10;Return mapping&#10;{`function`: [(`lineno`, `var`), (`lineno`, `var`), ...], ...}&#10;for all functions in the dependencies.\">\n",
       "<text xml:space=\"preserve\" text-anchor=\"start\" x=\"379\" y=\"-584.25\" font-family=\"'Fira Mono', 'Source Code Pro', 'Courier', monospace\" font-weight=\"bold\" font-size=\"10.00\">all_functions()</text>\n",
       "</a>\n",
       "</g>\n",
       "<g id=\"a_node6_76\"><a xlink:href=\"#\" xlink:title=\"all_vars(self) &#45;&gt; Set[Tuple[str, Tuple[Callable, int]]]:&#10;Return a set of all variables (as `var_name`, `location`) in the dependencies\">\n",
       "<text xml:space=\"preserve\" text-anchor=\"start\" x=\"379\" y=\"-571.5\" font-family=\"'Fira Mono', 'Source Code Pro', 'Courier', monospace\" font-weight=\"bold\" font-size=\"10.00\">all_vars()</text>\n",
       "</a>\n",
       "</g>\n",
       "<g id=\"a_node6_77\"><a xlink:href=\"#\" xlink:title=\"backward_slice(self, *criteria: Union[str, Tuple[Callable, int], Tuple[str, Tuple[Callable, int]]], mode: str = &#39;cd&#39;, depth: int = &#45;1) &#45;&gt; Dependencies:&#10;Create a backward slice from nodes `criteria`.&#10;`mode` can contain &#39;c&#39; (draw control dependencies)&#10;and &#39;d&#39; (draw data dependencies) (default: &#39;cd&#39;)\">\n",
       "<text xml:space=\"preserve\" text-anchor=\"start\" x=\"379\" y=\"-558.75\" font-family=\"'Fira Mono', 'Source Code Pro', 'Courier', monospace\" font-weight=\"bold\" font-size=\"10.00\">backward_slice()</text>\n",
       "</a>\n",
       "</g>\n",
       "<g id=\"a_node6_78\"><a xlink:href=\"#\" xlink:title=\"code(self, *items: Callable, mode: str = &#39;cd&#39;) &#45;&gt; None:&#10;List `items` on standard output, including dependencies as comments.&#10;If `items` is empty, all included functions are listed.&#10;`mode` can contain &#39;c&#39; (draw control dependencies) and &#39;d&#39; (draw data dependencies)&#10;(default: &#39;cd&#39;).\">\n",
       "<text xml:space=\"preserve\" text-anchor=\"start\" x=\"379\" y=\"-546\" font-family=\"'Fira Mono', 'Source Code Pro', 'Courier', monospace\" font-weight=\"bold\" font-size=\"10.00\">code()</text>\n",
       "</a>\n",
       "</g>\n",
       "<g id=\"a_node6_79\"><a xlink:href=\"#\" xlink:title=\"graph(self, *, mode: str = &#39;flow&#39;) &#45;&gt; graphviz.graphs.Digraph:&#10;Draw dependencies. `mode` is either&#10;* `&#39;flow&#39;`: arrows indicate information flow (from A to B); or&#10;* `&#39;depend&#39;`: arrows indicate dependencies (B depends on A)\">\n",
       "<text xml:space=\"preserve\" text-anchor=\"start\" x=\"379\" y=\"-533.25\" font-family=\"'Fira Mono', 'Source Code Pro', 'Courier', monospace\" font-weight=\"bold\" font-size=\"10.00\">graph()</text>\n",
       "</a>\n",
       "</g>\n",
       "<g id=\"a_node6_80\"><a xlink:href=\"#\" xlink:title=\"_code(self, item: Callable, mode: str) &#45;&gt; None\">\n",
       "<text xml:space=\"preserve\" text-anchor=\"start\" x=\"379\" y=\"-519.5\" font-family=\"'Fira Mono', 'Source Code Pro', 'Courier', monospace\" font-size=\"10.00\">_code()</text>\n",
       "</a>\n",
       "</g>\n",
       "<g id=\"a_node6_81\"><a xlink:href=\"#\" xlink:title=\"_source(self, node: Tuple[str, Tuple[Callable, int]]) &#45;&gt; str\">\n",
       "<text xml:space=\"preserve\" text-anchor=\"start\" x=\"379\" y=\"-506.75\" font-family=\"'Fira Mono', 'Source Code Pro', 'Courier', monospace\" font-size=\"10.00\">_source()</text>\n",
       "</a>\n",
       "</g>\n",
       "<g id=\"a_node6_82\"><a xlink:href=\"#\" xlink:title=\"add_hierarchy(self, g: graphviz.graphs.Digraph) &#45;&gt; graphviz.graphs.Digraph:&#10;Add invisible edges for a proper hierarchy.\">\n",
       "<text xml:space=\"preserve\" text-anchor=\"start\" x=\"379\" y=\"-494\" font-family=\"'Fira Mono', 'Source Code Pro', 'Courier', monospace\" font-size=\"10.00\">add_hierarchy()</text>\n",
       "</a>\n",
       "</g>\n",
       "<g id=\"a_node6_83\"><a xlink:href=\"#\" xlink:title=\"draw_dependencies(self, g: graphviz.graphs.Digraph, mode: str) &#45;&gt; None\">\n",
       "<text xml:space=\"preserve\" text-anchor=\"start\" x=\"379\" y=\"-481.25\" font-family=\"'Fira Mono', 'Source Code Pro', 'Courier', monospace\" font-size=\"10.00\">draw_dependencies()</text>\n",
       "</a>\n",
       "</g>\n",
       "<g id=\"a_node6_84\"><a xlink:href=\"#\" xlink:title=\"draw_edge(self, g: graphviz.graphs.Digraph, mode: str, node_from: str, node_to: str, **kwargs: Any) &#45;&gt; None\">\n",
       "<text xml:space=\"preserve\" text-anchor=\"start\" x=\"379\" y=\"-468.5\" font-family=\"'Fira Mono', 'Source Code Pro', 'Courier', monospace\" font-size=\"10.00\">draw_edge()</text>\n",
       "</a>\n",
       "</g>\n",
       "<g id=\"a_node6_85\"><a xlink:href=\"#\" xlink:title=\"expand_criteria(self, criteria: List[Union[str, Tuple[Callable, int], Tuple[str, Tuple[Callable, int]]]]) &#45;&gt; List[Tuple[str, Tuple[Callable, int]]]:&#10;Return list of vars matched by `criteria`.\">\n",
       "<text xml:space=\"preserve\" text-anchor=\"start\" x=\"379\" y=\"-455.75\" font-family=\"'Fira Mono', 'Source Code Pro', 'Courier', monospace\" font-size=\"10.00\">expand_criteria()</text>\n",
       "</a>\n",
       "</g>\n",
       "<g id=\"a_node6_86\"><a xlink:href=\"#\" xlink:title=\"format_var(self, var: Tuple[str, Tuple[Callable, int]], current_func: Optional[Callable] = None) &#45;&gt; str:&#10;Return string for `var` in `current_func`.\">\n",
       "<text xml:space=\"preserve\" text-anchor=\"start\" x=\"379\" y=\"-443\" font-family=\"'Fira Mono', 'Source Code Pro', 'Courier', monospace\" font-size=\"10.00\">format_var()</text>\n",
       "</a>\n",
       "</g>\n",
       "<g id=\"a_node6_87\"><a xlink:href=\"#\" xlink:title=\"id(self, var: Tuple[str, Tuple[Callable, int]]) &#45;&gt; str:&#10;Return a unique ID for `var`.\">\n",
       "<text xml:space=\"preserve\" text-anchor=\"start\" x=\"379\" y=\"-430.25\" font-family=\"'Fira Mono', 'Source Code Pro', 'Courier', monospace\" font-size=\"10.00\">id()</text>\n",
       "</a>\n",
       "</g>\n",
       "<g id=\"a_node6_88\"><a xlink:href=\"#\" xlink:title=\"label(self, var: Tuple[str, Tuple[Callable, int]]) &#45;&gt; str:&#10;Render node `var` using HTML style.\">\n",
       "<text xml:space=\"preserve\" text-anchor=\"start\" x=\"379\" y=\"-417.5\" font-family=\"'Fira Mono', 'Source Code Pro', 'Courier', monospace\" font-size=\"10.00\">label()</text>\n",
       "</a>\n",
       "</g>\n",
       "<g id=\"a_node6_89\"><a xlink:href=\"#\" xlink:title=\"make_graph(self, name: str = &#39;dependencies&#39;, comment: str = &#39;Dependencies&#39;) &#45;&gt; graphviz.graphs.Digraph\">\n",
       "<text xml:space=\"preserve\" text-anchor=\"start\" x=\"379\" y=\"-404.75\" font-family=\"'Fira Mono', 'Source Code Pro', 'Courier', monospace\" font-size=\"10.00\">make_graph()</text>\n",
       "</a>\n",
       "</g>\n",
       "<g id=\"a_node6_90\"><a xlink:href=\"#\" xlink:title=\"repr_dependencies(self, vars: Dict[Tuple[str, Tuple[Callable, int]], Set[Tuple[str, Tuple[Callable, int]]]]) &#45;&gt; str\">\n",
       "<text xml:space=\"preserve\" text-anchor=\"start\" x=\"379\" y=\"-392\" font-family=\"'Fira Mono', 'Source Code Pro', 'Courier', monospace\" font-size=\"10.00\">repr_dependencies()</text>\n",
       "</a>\n",
       "</g>\n",
       "<g id=\"a_node6_91\"><a xlink:href=\"#\" xlink:title=\"repr_deps(self, var_set: Set[Tuple[str, Tuple[Callable, int]]]) &#45;&gt; str\">\n",
       "<text xml:space=\"preserve\" text-anchor=\"start\" x=\"379\" y=\"-379.25\" font-family=\"'Fira Mono', 'Source Code Pro', 'Courier', monospace\" font-size=\"10.00\">repr_deps()</text>\n",
       "</a>\n",
       "</g>\n",
       "<g id=\"a_node6_92\"><a xlink:href=\"#\" xlink:title=\"repr_var(self, var: Tuple[str, Tuple[Callable, int]]) &#45;&gt; str\">\n",
       "<text xml:space=\"preserve\" text-anchor=\"start\" x=\"379\" y=\"-366.5\" font-family=\"'Fira Mono', 'Source Code Pro', 'Courier', monospace\" font-size=\"10.00\">repr_var()</text>\n",
       "</a>\n",
       "</g>\n",
       "<g id=\"a_node6_93\"><a xlink:href=\"#\" xlink:title=\"source(self, node: Tuple[str, Tuple[Callable, int]]) &#45;&gt; str:&#10;Return the source code for a given node.\">\n",
       "<text xml:space=\"preserve\" text-anchor=\"start\" x=\"379\" y=\"-353.75\" font-family=\"'Fira Mono', 'Source Code Pro', 'Courier', monospace\" font-size=\"10.00\">source()</text>\n",
       "</a>\n",
       "</g>\n",
       "<g id=\"a_node6_94\"><a xlink:href=\"#\" xlink:title=\"tooltip(self, var: Tuple[str, Tuple[Callable, int]]) &#45;&gt; str:&#10;Return a tooltip for node `var`.\">\n",
       "<text xml:space=\"preserve\" text-anchor=\"start\" x=\"379\" y=\"-341\" font-family=\"'Fira Mono', 'Source Code Pro', 'Courier', monospace\" font-size=\"10.00\">tooltip()</text>\n",
       "</a>\n",
       "</g>\n",
       "<g id=\"a_node6_95\"><a xlink:href=\"#\" xlink:title=\"validate(self) &#45;&gt; None:&#10;Perform a simple syntactic validation of dependencies\">\n",
       "<text xml:space=\"preserve\" text-anchor=\"start\" x=\"379\" y=\"-328.25\" font-family=\"'Fira Mono', 'Source Code Pro', 'Courier', monospace\" font-size=\"10.00\">validate()</text>\n",
       "</a>\n",
       "</g>\n",
       "</a>\n",
       "</g>\n",
       "</a>\n",
       "</g>\n",
       "</g>\n",
       "<!-- Dependencies&#45;&gt;StackInspector -->\n",
       "<g id=\"edge5\" class=\"edge\">\n",
       "<title>Dependencies&#45;&gt;StackInspector</title>\n",
       "<path fill=\"none\" stroke=\"black\" d=\"M370.55,-689.37C367.75,-695.36 364.9,-701.25 362,-707 357.61,-715.72 352.7,-724.63 347.58,-733.41\"/>\n",
       "<polygon fill=\"none\" stroke=\"black\" points=\"344.61,-731.55 342.51,-741.94 350.63,-735.13 344.61,-731.55\"/>\n",
       "</g>\n",
       "<!-- Legend -->\n",
       "<g id=\"node7\" class=\"node\">\n",
       "<title>Legend</title>\n",
       "<text xml:space=\"preserve\" text-anchor=\"start\" x=\"416.38\" y=\"-158.25\" font-family=\"Raleway, Helvetica, Arial, sans-serif\" font-weight=\"bold\" font-size=\"10.00\" fill=\"#6a0dad\">Legend</text>\n",
       "<text xml:space=\"preserve\" text-anchor=\"start\" x=\"416.38\" y=\"-148.25\" font-family=\"Raleway, Helvetica, Arial, sans-serif\" font-size=\"10.00\">• </text>\n",
       "<text xml:space=\"preserve\" text-anchor=\"start\" x=\"422.38\" y=\"-148.25\" font-family=\"'Fira Mono', 'Source Code Pro', 'Courier', monospace\" font-weight=\"bold\" font-size=\"8.00\">public_method()</text>\n",
       "<text xml:space=\"preserve\" text-anchor=\"start\" x=\"416.38\" y=\"-138.25\" font-family=\"Raleway, Helvetica, Arial, sans-serif\" font-size=\"10.00\">• </text>\n",
       "<text xml:space=\"preserve\" text-anchor=\"start\" x=\"422.38\" y=\"-138.25\" font-family=\"'Fira Mono', 'Source Code Pro', 'Courier', monospace\" font-size=\"8.00\">private_method()</text>\n",
       "<text xml:space=\"preserve\" text-anchor=\"start\" x=\"416.38\" y=\"-128.25\" font-family=\"Raleway, Helvetica, Arial, sans-serif\" font-size=\"10.00\">• </text>\n",
       "<text xml:space=\"preserve\" text-anchor=\"start\" x=\"422.38\" y=\"-128.25\" font-family=\"'Fira Mono', 'Source Code Pro', 'Courier', monospace\" font-style=\"italic\" font-size=\"8.00\">overloaded_method()</text>\n",
       "<text xml:space=\"preserve\" text-anchor=\"start\" x=\"416.38\" y=\"-119.2\" font-family=\"Helvetica,sans-Serif\" font-size=\"9.00\">Hover over names to see doc</text>\n",
       "</g>\n",
       "</g>\n",
       "</svg>\n"
      ],
      "text/plain": [
       "<graphviz.graphs.Digraph at 0x10e280af0>"
      ]
     },
     "execution_count": 253,
     "metadata": {},
     "output_type": "execute_result"
    }
   ],
   "source": [
    "# ignore\n",
    "display_class_hierarchy([Slicer, DependencyTracker, \n",
    "                         StackInspector, Dependencies],\n",
    "                        abstract_classes=[\n",
    "                            StackInspector,\n",
    "                            Instrumenter\n",
    "                        ],\n",
    "                        public_methods=[\n",
    "                            StackInspector.caller_frame,\n",
    "                            StackInspector.caller_function,\n",
    "                            StackInspector.caller_globals,\n",
    "                            StackInspector.caller_locals,\n",
    "                            StackInspector.caller_location,\n",
    "                            StackInspector.search_frame,\n",
    "                            StackInspector.search_func,\n",
    "                            Instrumenter.__init__,\n",
    "                            Instrumenter.__enter__,\n",
    "                            Instrumenter.__exit__,\n",
    "                            Instrumenter.instrument,\n",
    "                            Slicer.__init__,\n",
    "                            Slicer.code,\n",
    "                            Slicer.dependencies,\n",
    "                            Slicer.graph,\n",
    "                            Slicer._repr_mimebundle_,\n",
    "                            DataTracker.__init__,\n",
    "                            DataTracker.__enter__,\n",
    "                            DataTracker.__exit__,\n",
    "                            DataTracker.arg,\n",
    "                            DataTracker.augment,\n",
    "                            DataTracker.call,\n",
    "                            DataTracker.get,\n",
    "                            DataTracker.param,\n",
    "                            DataTracker.ret,\n",
    "                            DataTracker.set,\n",
    "                            DataTracker.test,\n",
    "                            DataTracker.__repr__,\n",
    "                            DependencyTracker.__init__,\n",
    "                            DependencyTracker.__enter__,\n",
    "                            DependencyTracker.__exit__,\n",
    "                            DependencyTracker.arg,\n",
    "                            # DependencyTracker.augment,\n",
    "                            DependencyTracker.call,\n",
    "                            DependencyTracker.get,\n",
    "                            DependencyTracker.param,\n",
    "                            DependencyTracker.ret,\n",
    "                            DependencyTracker.set,\n",
    "                            DependencyTracker.test,\n",
    "                            DependencyTracker.__repr__,\n",
    "                            Dependencies.__init__,\n",
    "                            Dependencies.__repr__,\n",
    "                            Dependencies.__str__,\n",
    "                            Dependencies._repr_mimebundle_,\n",
    "                            Dependencies.code,\n",
    "                            Dependencies.graph,\n",
    "                            Dependencies.backward_slice,\n",
    "                            Dependencies.all_functions,\n",
    "                            Dependencies.all_vars,\n",
    "                        ],\n",
    "                        project='debuggingbook')"
   ]
  },
  {
   "cell_type": "markdown",
   "metadata": {
    "button": false,
    "new_sheet": true,
    "run_control": {
     "read_only": false
    },
    "slideshow": {
     "slide_type": "slide"
    }
   },
   "source": [
    "## Dependencies\n",
    "\n",
    "In the [Introduction to debugging](Intro_Debugging.ipynb), we have seen how faults in a program state propagate to eventually become visible as failures. This induces a debugging strategy called _tracking origins_:"
   ]
  },
  {
   "cell_type": "markdown",
   "metadata": {
    "button": false,
    "new_sheet": true,
    "run_control": {
     "read_only": false
    },
    "slideshow": {
     "slide_type": "subslide"
    }
   },
   "source": [
    "1. We start with a single faulty state _f_ – the failure.\n",
    "2. We determine _f_'s _origins_ – the parts of earlier states that could have caused the faulty state _f_.\n",
    "3. For each of these origins _e_, we determine whether they are faulty or not.\n",
    "4. For each of the faulty origins, we in turn determine _their_ origins.\n",
    "5. If we find a part of the state that is faulty, yet has only correct origins, we have found the defect."
   ]
  },
  {
   "cell_type": "markdown",
   "metadata": {
    "button": false,
    "new_sheet": true,
    "run_control": {
     "read_only": false
    },
    "slideshow": {
     "slide_type": "subslide"
    }
   },
   "source": [
    "In all generality, a \"part of the state\" can be anything that can influence the program – some configuration setting, some database content, or the state of a device. Almost always, though, it is through _individual variables_ that a part of the state manifests itself.\n",
    "\n",
    "The good news is that variables do not take arbitrary values at arbitrary times – instead, they are set and accessed at precise moments in time, as determined by the program's semantics. This allows us to determine their _origins_ by reading program code."
   ]
  },
  {
   "cell_type": "markdown",
   "metadata": {
    "button": false,
    "new_sheet": true,
    "run_control": {
     "read_only": false
    },
    "slideshow": {
     "slide_type": "fragment"
    }
   },
   "source": [
    "Let us assume you have a piece of code that reads as follows. The `middle()` function is supposed to return the \"middle\" number of three values `x`, `y`, and `z` – that is, the one number that neither is the minimum nor the maximum."
   ]
  },
  {
   "cell_type": "code",
   "execution_count": 6,
   "metadata": {
    "execution": {
     "iopub.execute_input": "2025-10-26T17:47:16.086710Z",
     "iopub.status.busy": "2025-10-26T17:47:16.086623Z",
     "iopub.status.idle": "2025-10-26T17:47:16.088449Z",
     "shell.execute_reply": "2025-10-26T17:47:16.088213Z"
    },
    "slideshow": {
     "slide_type": "subslide"
    }
   },
   "outputs": [],
   "source": [
    "def middle(x, y, z):  # type: ignore\n",
    "    if y < z:\n",
    "        if x < y:\n",
    "            return y\n",
    "        elif x < z:\n",
    "            return y\n",
    "    else:\n",
    "        if x > y:\n",
    "            return y\n",
    "        elif x > z:\n",
    "            return x\n",
    "    return z"
   ]
  },
  {
   "cell_type": "markdown",
   "metadata": {
    "slideshow": {
     "slide_type": "fragment"
    }
   },
   "source": [
    "In most cases, `middle()` runs just fine:"
   ]
  },
  {
   "cell_type": "code",
   "execution_count": 7,
   "metadata": {
    "execution": {
     "iopub.execute_input": "2025-10-26T17:47:16.089871Z",
     "iopub.status.busy": "2025-10-26T17:47:16.089772Z",
     "iopub.status.idle": "2025-10-26T17:47:16.092058Z",
     "shell.execute_reply": "2025-10-26T17:47:16.091728Z"
    },
    "slideshow": {
     "slide_type": "subslide"
    }
   },
   "outputs": [
    {
     "data": {
      "text/plain": [
       "2"
      ]
     },
     "execution_count": 7,
     "metadata": {},
     "output_type": "execute_result"
    }
   ],
   "source": [
    "m = middle(1, 2, 3)\n",
    "m"
   ]
  },
  {
   "cell_type": "markdown",
   "metadata": {
    "slideshow": {
     "slide_type": "fragment"
    }
   },
   "source": [
    "In others, however, it returns the wrong value:"
   ]
  },
  {
   "cell_type": "code",
   "execution_count": 8,
   "metadata": {
    "execution": {
     "iopub.execute_input": "2025-10-26T17:47:16.093309Z",
     "iopub.status.busy": "2025-10-26T17:47:16.093216Z",
     "iopub.status.idle": "2025-10-26T17:47:16.095224Z",
     "shell.execute_reply": "2025-10-26T17:47:16.094929Z"
    },
    "slideshow": {
     "slide_type": "fragment"
    }
   },
   "outputs": [
    {
     "data": {
      "text/plain": [
       "1"
      ]
     },
     "execution_count": 8,
     "metadata": {},
     "output_type": "execute_result"
    }
   ],
   "source": [
    "m = middle(2, 1, 3)\n",
    "m"
   ]
  },
  {
   "cell_type": "markdown",
   "metadata": {
    "slideshow": {
     "slide_type": "subslide"
    }
   },
   "source": [
    "This is a typical debugging situation: You see a value that is erroneous; and you want to find out where it came from. \n",
    "\n",
    "* In our case, we see that the erroneous value was returned from `middle()`, so we identify the five `return` statements in `middle()` that the value could have come from.\n",
    "* The value returned is the value of `y`, and neither `x`, `y`, nor `z` are altered during the execution of `middle()`. Hence, it must be one of the three `return y` statements that is the origin of `m`. But which one?\n",
    "\n",
    "For our small example, we can fire up an interactive debugger and simply step through the function; this reveals us the conditions evaluated and the `return` statement executed."
   ]
  },
  {
   "cell_type": "code",
   "execution_count": 9,
   "metadata": {
    "execution": {
     "iopub.execute_input": "2025-10-26T17:47:16.096635Z",
     "iopub.status.busy": "2025-10-26T17:47:16.096535Z",
     "iopub.status.idle": "2025-10-26T17:47:16.177671Z",
     "shell.execute_reply": "2025-10-26T17:47:16.177352Z"
    },
    "slideshow": {
     "slide_type": "skip"
    }
   },
   "outputs": [],
   "source": [
    "import Debugger  # minor dependency"
   ]
  },
  {
   "cell_type": "code",
   "execution_count": 10,
   "metadata": {
    "execution": {
     "iopub.execute_input": "2025-10-26T17:47:16.179145Z",
     "iopub.status.busy": "2025-10-26T17:47:16.179029Z",
     "iopub.status.idle": "2025-10-26T17:47:16.180725Z",
     "shell.execute_reply": "2025-10-26T17:47:16.180479Z"
    },
    "slideshow": {
     "slide_type": "subslide"
    },
    "tags": [
     "remove-input"
    ]
   },
   "outputs": [],
   "source": [
    "# ignore\n",
    "next_inputs([\"step\", \"step\", \"step\", \"step\", \"quit\"]);"
   ]
  },
  {
   "cell_type": "code",
   "execution_count": 11,
   "metadata": {
    "execution": {
     "iopub.execute_input": "2025-10-26T17:47:16.182047Z",
     "iopub.status.busy": "2025-10-26T17:47:16.181961Z",
     "iopub.status.idle": "2025-10-26T17:47:16.218611Z",
     "shell.execute_reply": "2025-10-26T17:47:16.218317Z"
    },
    "slideshow": {
     "slide_type": "subslide"
    }
   },
   "outputs": [
    {
     "name": "stdout",
     "output_type": "stream",
     "text": [
      "Calling middle(x = 2, y = 1, z = 3)\n"
     ]
    },
    {
     "data": {
      "text/html": [
       "<samp>(debugger) <b>step</b></samp>"
      ],
      "text/plain": [
       "<IPython.core.display.HTML object>"
      ]
     },
     "metadata": {},
     "output_type": "display_data"
    },
    {
     "name": "stdout",
     "output_type": "stream",
     "text": [
      "2     if y < z:\n"
     ]
    },
    {
     "data": {
      "text/html": [
       "<samp>(debugger) <b>step</b></samp>"
      ],
      "text/plain": [
       "<IPython.core.display.HTML object>"
      ]
     },
     "metadata": {},
     "output_type": "display_data"
    },
    {
     "name": "stdout",
     "output_type": "stream",
     "text": [
      "3         if x < y:\n"
     ]
    },
    {
     "data": {
      "text/html": [
       "<samp>(debugger) <b>step</b></samp>"
      ],
      "text/plain": [
       "<IPython.core.display.HTML object>"
      ]
     },
     "metadata": {},
     "output_type": "display_data"
    },
    {
     "name": "stdout",
     "output_type": "stream",
     "text": [
      "5         elif x < z:\n"
     ]
    },
    {
     "data": {
      "text/html": [
       "<samp>(debugger) <b>step</b></samp>"
      ],
      "text/plain": [
       "<IPython.core.display.HTML object>"
      ]
     },
     "metadata": {},
     "output_type": "display_data"
    },
    {
     "name": "stdout",
     "output_type": "stream",
     "text": [
      "6             return y\n"
     ]
    },
    {
     "data": {
      "text/html": [
       "<samp>(debugger) <b>quit</b></samp>"
      ],
      "text/plain": [
       "<IPython.core.display.HTML object>"
      ]
     },
     "metadata": {},
     "output_type": "display_data"
    }
   ],
   "source": [
    "with Debugger.Debugger():\n",
    "    middle(2, 1, 3)"
   ]
  },
  {
   "cell_type": "markdown",
   "metadata": {
    "slideshow": {
     "slide_type": "subslide"
    }
   },
   "source": [
    "We now see that it was the second `return` statement that returned the incorrect value. But why was it executed after all? To this end, we can resort to the `middle()` source code and have a look at those conditions that caused the `return y` statement to be executed. Indeed, the conditions `y < z`, `x > y`, and finally `x < z` again are _origins_ of the returned value – and in turn have `x`, `y`, and `z` as origins."
   ]
  },
  {
   "cell_type": "markdown",
   "metadata": {
    "slideshow": {
     "slide_type": "subslide"
    }
   },
   "source": [
    "In our above reasoning about origins, we have encountered two kinds of origins:\n",
    "\n",
    "* earlier _data values_ (such as the value of `y` being returned) and\n",
    "* earlier _control conditions_ (such as the `if` conditions governing the `return y` statement).\n",
    "\n",
    "The later parts of the state that can be influenced by such origins are said to be _dependent_ on these origins. Speaking of variables, a variable $x$ _depends_ on the value of a variable $y$ (written as $x \\leftarrow y$) if a change in $y$ could affect the value of $x$."
   ]
  },
  {
   "cell_type": "markdown",
   "metadata": {
    "slideshow": {
     "slide_type": "subslide"
    }
   },
   "source": [
    "We distinguish two kinds of dependencies $x \\leftarrow y$, aligned with the two kinds of origins as outlined above:\n",
    "\n",
    "* **Data dependency**: $x$ is assigned a value computed from $y$. In our example, `m` is data dependent on the return value of `middle()`.\n",
    "* **Control dependency**: A statement involving $x$ is executed _only_ because a _condition_ involving $y$ was evaluated, influencing the execution path. In our example, the value returned by `return y` is control dependent on the several conditions along its path, which involve `x`, `y`, and `z`."
   ]
  },
  {
   "cell_type": "markdown",
   "metadata": {
    "slideshow": {
     "slide_type": "fragment"
    }
   },
   "source": [
    "Let us examine these dependencies in more detail."
   ]
  },
  {
   "cell_type": "markdown",
   "metadata": {
    "slideshow": {
     "slide_type": "subslide"
    }
   },
   "source": [
    "### Excursion: Visualizing Dependencies"
   ]
  },
  {
   "cell_type": "markdown",
   "metadata": {
    "slideshow": {
     "slide_type": "fragment"
    }
   },
   "source": [
    "Note: This is an excursion, diverting away from the main flow of the chapter. Unless you know what you are doing, you are encouraged to skip this part."
   ]
  },
  {
   "cell_type": "markdown",
   "metadata": {
    "slideshow": {
     "slide_type": "fragment"
    }
   },
   "source": [
    "To illustrate our examples, we introduce a `Dependencies` class that captures dependencies between variables at specific locations."
   ]
  },
  {
   "cell_type": "markdown",
   "metadata": {
    "slideshow": {
     "slide_type": "subslide"
    }
   },
   "source": [
    "#### A Class for Dependencies"
   ]
  },
  {
   "cell_type": "markdown",
   "metadata": {
    "slideshow": {
     "slide_type": "fragment"
    }
   },
   "source": [
    "`Dependencies` holds two dependency graphs. `data` holds data dependencies, `control` holds control dependencies."
   ]
  },
  {
   "cell_type": "markdown",
   "metadata": {
    "slideshow": {
     "slide_type": "subslide"
    }
   },
   "source": [
    "Each of the two is organized as a dictionary holding _nodes_ as keys and sets of nodes as values. Each node comes as a tuple\n",
    "\n",
    "```python\n",
    "(variable_name, location)\n",
    " ```\n",
    " \n",
    "where `variable_name` is a string and `location` is a pair\n",
    "\n",
    "\n",
    "```python\n",
    "(func, lineno)\n",
    " ```\n",
    " \n",
    "denoting a unique location in the code."
   ]
  },
  {
   "cell_type": "markdown",
   "metadata": {
    "slideshow": {
     "slide_type": "subslide"
    }
   },
   "source": [
    "This is also reflected in the following type definitions:"
   ]
  },
  {
   "cell_type": "code",
   "execution_count": 12,
   "metadata": {
    "execution": {
     "iopub.execute_input": "2025-10-26T17:47:16.220316Z",
     "iopub.status.busy": "2025-10-26T17:47:16.220234Z",
     "iopub.status.idle": "2025-10-26T17:47:16.221846Z",
     "shell.execute_reply": "2025-10-26T17:47:16.221638Z"
    },
    "slideshow": {
     "slide_type": "fragment"
    }
   },
   "outputs": [],
   "source": [
    "Location = Tuple[Callable, int]\n",
    "Node = Tuple[str, Location]\n",
    "Dependency = Dict[Node, Set[Node]]"
   ]
  },
  {
   "cell_type": "markdown",
   "metadata": {
    "slideshow": {
     "slide_type": "fragment"
    }
   },
   "source": [
    "In this chapter, for many purposes, we need to lookup a function's location, source code, or simply definition. The class `StackInspector` provides a number of convenience functions for this purpose."
   ]
  },
  {
   "cell_type": "code",
   "execution_count": 13,
   "metadata": {
    "execution": {
     "iopub.execute_input": "2025-10-26T17:47:16.222983Z",
     "iopub.status.busy": "2025-10-26T17:47:16.222911Z",
     "iopub.status.idle": "2025-10-26T17:47:16.224350Z",
     "shell.execute_reply": "2025-10-26T17:47:16.224126Z"
    },
    "slideshow": {
     "slide_type": "skip"
    }
   },
   "outputs": [],
   "source": [
    "from StackInspector import StackInspector"
   ]
  },
  {
   "cell_type": "markdown",
   "metadata": {
    "slideshow": {
     "slide_type": "fragment"
    }
   },
   "source": [
    "The `Dependencies` class builds on `StackInspector` to capture dependencies."
   ]
  },
  {
   "cell_type": "code",
   "execution_count": 14,
   "metadata": {
    "execution": {
     "iopub.execute_input": "2025-10-26T17:47:16.225430Z",
     "iopub.status.busy": "2025-10-26T17:47:16.225334Z",
     "iopub.status.idle": "2025-10-26T17:47:16.227496Z",
     "shell.execute_reply": "2025-10-26T17:47:16.227281Z"
    },
    "slideshow": {
     "slide_type": "subslide"
    }
   },
   "outputs": [],
   "source": [
    "class Dependencies(StackInspector):\n",
    "    \"\"\"A dependency graph\"\"\"\n",
    "\n",
    "    def __init__(self, \n",
    "                 data: Optional[Dependency] = None,\n",
    "                 control: Optional[Dependency] = None) -> None:\n",
    "        \"\"\"\n",
    "        Create a dependency graph from `data` and `control`.\n",
    "        Both `data` and `control` are dictionaries\n",
    "        holding _nodes_ as keys and sets of nodes as values.\n",
    "        Each node comes as a tuple (variable_name, location)\n",
    "        where `variable_name` is a string \n",
    "        and `location` is a pair (function, lineno)\n",
    "        where `function` is a callable and `lineno` is a line number\n",
    "        denoting a unique location in the code.\n",
    "        \"\"\"\n",
    "\n",
    "        if data is None:\n",
    "            data = {}\n",
    "        if control is None:\n",
    "            control = {}\n",
    "\n",
    "        self.data = data\n",
    "        self.control = control\n",
    "\n",
    "        for var in self.data:\n",
    "            self.control.setdefault(var, set())\n",
    "        for var in self.control:\n",
    "            self.data.setdefault(var, set())\n",
    "\n",
    "        self.validate()"
   ]
  },
  {
   "cell_type": "markdown",
   "metadata": {
    "slideshow": {
     "slide_type": "subslide"
    }
   },
   "source": [
    "The `validate()` method checks for consistency."
   ]
  },
  {
   "cell_type": "code",
   "execution_count": 15,
   "metadata": {
    "execution": {
     "iopub.execute_input": "2025-10-26T17:47:16.228616Z",
     "iopub.status.busy": "2025-10-26T17:47:16.228523Z",
     "iopub.status.idle": "2025-10-26T17:47:16.230416Z",
     "shell.execute_reply": "2025-10-26T17:47:16.230228Z"
    },
    "slideshow": {
     "slide_type": "fragment"
    }
   },
   "outputs": [],
   "source": [
    "class Dependencies(Dependencies):\n",
    "    def validate(self) -> None:\n",
    "        \"\"\"Check dependency structure.\"\"\"\n",
    "        assert isinstance(self.data, dict)\n",
    "        assert isinstance(self.control, dict)\n",
    "\n",
    "        for node in (self.data.keys()) | set(self.control.keys()):\n",
    "            var_name, location = node\n",
    "            assert isinstance(var_name, str)\n",
    "            func, lineno = location\n",
    "            assert callable(func)\n",
    "            assert isinstance(lineno, int)"
   ]
  },
  {
   "cell_type": "markdown",
   "metadata": {
    "slideshow": {
     "slide_type": "fragment"
    }
   },
   "source": [
    "The `source()` method returns the source code for a given node."
   ]
  },
  {
   "cell_type": "code",
   "execution_count": 16,
   "metadata": {
    "execution": {
     "iopub.execute_input": "2025-10-26T17:47:16.231625Z",
     "iopub.status.busy": "2025-10-26T17:47:16.231535Z",
     "iopub.status.idle": "2025-10-26T17:47:16.234007Z",
     "shell.execute_reply": "2025-10-26T17:47:16.233810Z"
    },
    "ipub": {
     "ignore": true
    },
    "slideshow": {
     "slide_type": "subslide"
    }
   },
   "outputs": [],
   "source": [
    "class Dependencies(Dependencies):\n",
    "    def _source(self, node: Node) -> str:\n",
    "        # Return source line, or ''\n",
    "        (name, location) = node\n",
    "        func, lineno = location\n",
    "        if not func:  # type: ignore\n",
    "            # No source\n",
    "            return ''\n",
    "\n",
    "        try:\n",
    "            source_lines, first_lineno = inspect.getsourcelines(func)\n",
    "        except OSError:\n",
    "            warnings.warn(f\"Couldn't find source \"\n",
    "                          f\"for {func} ({func.__name__})\")\n",
    "            return ''\n",
    "\n",
    "        try:\n",
    "            line = source_lines[lineno - first_lineno].strip()\n",
    "        except IndexError:\n",
    "            return ''\n",
    "\n",
    "        return line\n",
    "\n",
    "    def source(self, node: Node) -> str:\n",
    "        \"\"\"Return the source code for a given node.\"\"\"\n",
    "        line = self._source(node)\n",
    "        if line:\n",
    "            return line\n",
    "\n",
    "        (name, location) = node\n",
    "        func, lineno = location\n",
    "        code_name = func.__name__\n",
    "\n",
    "        if code_name.startswith('<'):\n",
    "            return code_name\n",
    "        else:\n",
    "            return f'<{code_name}()>'"
   ]
  },
  {
   "cell_type": "code",
   "execution_count": 17,
   "metadata": {
    "execution": {
     "iopub.execute_input": "2025-10-26T17:47:16.235040Z",
     "iopub.status.busy": "2025-10-26T17:47:16.234950Z",
     "iopub.status.idle": "2025-10-26T17:47:16.236803Z",
     "shell.execute_reply": "2025-10-26T17:47:16.236614Z"
    },
    "slideshow": {
     "slide_type": "subslide"
    }
   },
   "outputs": [
    {
     "data": {
      "text/plain": [
       "'def middle(x, y, z):  # type: ignore'"
      ]
     },
     "execution_count": 17,
     "metadata": {},
     "output_type": "execute_result"
    }
   ],
   "source": [
    "test_deps = Dependencies()\n",
    "test_deps.source(('z', (middle, 1)))"
   ]
  },
  {
   "cell_type": "markdown",
   "metadata": {
    "slideshow": {
     "slide_type": "subslide"
    }
   },
   "source": [
    "#### Drawing Dependencies"
   ]
  },
  {
   "cell_type": "markdown",
   "metadata": {
    "slideshow": {
     "slide_type": "fragment"
    }
   },
   "source": [
    "Both data and control form a graph between nodes, and can be visualized as such. We use the `graphviz` package for creating such visualizations."
   ]
  },
  {
   "cell_type": "code",
   "execution_count": 18,
   "metadata": {
    "execution": {
     "iopub.execute_input": "2025-10-26T17:47:16.237993Z",
     "iopub.status.busy": "2025-10-26T17:47:16.237912Z",
     "iopub.status.idle": "2025-10-26T17:47:16.239407Z",
     "shell.execute_reply": "2025-10-26T17:47:16.239234Z"
    },
    "ipub": {
     "ignore": true
    },
    "slideshow": {
     "slide_type": "skip"
    }
   },
   "outputs": [],
   "source": [
    "from graphviz import Digraph"
   ]
  },
  {
   "cell_type": "markdown",
   "metadata": {
    "slideshow": {
     "slide_type": "fragment"
    }
   },
   "source": [
    "`make_graph()` sets the basic graph attributes."
   ]
  },
  {
   "cell_type": "code",
   "execution_count": 19,
   "metadata": {
    "execution": {
     "iopub.execute_input": "2025-10-26T17:47:16.240632Z",
     "iopub.status.busy": "2025-10-26T17:47:16.240555Z",
     "iopub.status.idle": "2025-10-26T17:47:16.242123Z",
     "shell.execute_reply": "2025-10-26T17:47:16.241811Z"
    },
    "slideshow": {
     "slide_type": "skip"
    }
   },
   "outputs": [],
   "source": [
    "import html"
   ]
  },
  {
   "cell_type": "code",
   "execution_count": 20,
   "metadata": {
    "execution": {
     "iopub.execute_input": "2025-10-26T17:47:16.243464Z",
     "iopub.status.busy": "2025-10-26T17:47:16.243370Z",
     "iopub.status.idle": "2025-10-26T17:47:16.245593Z",
     "shell.execute_reply": "2025-10-26T17:47:16.245334Z"
    },
    "slideshow": {
     "slide_type": "subslide"
    }
   },
   "outputs": [],
   "source": [
    "class Dependencies(Dependencies):\n",
    "    NODE_COLOR = 'peachpuff'\n",
    "    FONT_NAME = 'Courier'  # 'Fira Mono' may produce warnings in 'dot'\n",
    "\n",
    "    def make_graph(self,\n",
    "                   name: str = \"dependencies\",\n",
    "                   comment: str = \"Dependencies\") -> Digraph:\n",
    "        return Digraph(name=name, comment=comment,\n",
    "            graph_attr={\n",
    "            },\n",
    "            node_attr={\n",
    "                'style': 'filled',\n",
    "                'shape': 'box',\n",
    "                'fillcolor': self.NODE_COLOR,\n",
    "                'fontname': self.FONT_NAME\n",
    "            },\n",
    "            edge_attr={\n",
    "                'fontname': self.FONT_NAME\n",
    "            })"
   ]
  },
  {
   "cell_type": "markdown",
   "metadata": {
    "slideshow": {
     "slide_type": "subslide"
    }
   },
   "source": [
    "`graph()` returns a graph visualization."
   ]
  },
  {
   "cell_type": "code",
   "execution_count": 21,
   "metadata": {
    "execution": {
     "iopub.execute_input": "2025-10-26T17:47:16.247040Z",
     "iopub.status.busy": "2025-10-26T17:47:16.246943Z",
     "iopub.status.idle": "2025-10-26T17:47:16.249243Z",
     "shell.execute_reply": "2025-10-26T17:47:16.249041Z"
    },
    "slideshow": {
     "slide_type": "subslide"
    }
   },
   "outputs": [],
   "source": [
    "class Dependencies(Dependencies):\n",
    "    def graph(self, *, mode: str = 'flow') -> Digraph:\n",
    "        \"\"\"\n",
    "        Draw dependencies. `mode` is either\n",
    "        * `'flow'`: arrows indicate information flow (from A to B); or\n",
    "        * `'depend'`: arrows indicate dependencies (B depends on A)\n",
    "        \"\"\"\n",
    "        self.validate()\n",
    "\n",
    "        g = self.make_graph()\n",
    "        self.draw_dependencies(g, mode)\n",
    "        self.add_hierarchy(g)\n",
    "        return g\n",
    "\n",
    "    def _repr_mimebundle_(self, include: Any = None, exclude: Any = None) -> Any:\n",
    "        \"\"\"If the object is output in Jupyter, render dependencies as a SVG graph\"\"\"\n",
    "        return self.graph()._repr_mimebundle_(include, exclude)"
   ]
  },
  {
   "cell_type": "markdown",
   "metadata": {
    "slideshow": {
     "slide_type": "subslide"
    }
   },
   "source": [
    "The main part of graph drawing takes place in two methods, `draw_dependencies()` and `add_hierarchy()`."
   ]
  },
  {
   "cell_type": "markdown",
   "metadata": {
    "slideshow": {
     "slide_type": "fragment"
    }
   },
   "source": [
    "`draw_dependencies()` processes through the graph, adding nodes and edges from the dependencies."
   ]
  },
  {
   "cell_type": "code",
   "execution_count": 22,
   "metadata": {
    "execution": {
     "iopub.execute_input": "2025-10-26T17:47:16.250481Z",
     "iopub.status.busy": "2025-10-26T17:47:16.250395Z",
     "iopub.status.idle": "2025-10-26T17:47:16.252505Z",
     "shell.execute_reply": "2025-10-26T17:47:16.252286Z"
    },
    "slideshow": {
     "slide_type": "subslide"
    }
   },
   "outputs": [],
   "source": [
    "class Dependencies(Dependencies):\n",
    "    def all_vars(self) -> Set[Node]:\n",
    "        \"\"\"Return a set of all variables (as `var_name`, `location`) in the dependencies\"\"\"\n",
    "        all_vars = set()\n",
    "        for var in self.data:\n",
    "            all_vars.add(var)\n",
    "            for source in self.data[var]:\n",
    "                all_vars.add(source)\n",
    "\n",
    "        for var in self.control:\n",
    "            all_vars.add(var)\n",
    "            for source in self.control[var]:\n",
    "                all_vars.add(source)\n",
    "\n",
    "        return all_vars"
   ]
  },
  {
   "cell_type": "code",
   "execution_count": 23,
   "metadata": {
    "execution": {
     "iopub.execute_input": "2025-10-26T17:47:16.253762Z",
     "iopub.status.busy": "2025-10-26T17:47:16.253672Z",
     "iopub.status.idle": "2025-10-26T17:47:16.256559Z",
     "shell.execute_reply": "2025-10-26T17:47:16.256325Z"
    },
    "slideshow": {
     "slide_type": "subslide"
    }
   },
   "outputs": [],
   "source": [
    "class Dependencies(Dependencies):\n",
    "    def draw_edge(self, g: Digraph, mode: str,\n",
    "                  node_from: str, node_to: str, **kwargs: Any) -> None:\n",
    "        if mode == 'flow':\n",
    "            g.edge(node_from, node_to, **kwargs)\n",
    "        elif mode == 'depend':\n",
    "            g.edge(node_from, node_to, dir=\"back\", **kwargs)\n",
    "        else:\n",
    "            raise ValueError(\"`mode` must be 'flow' or 'depend'\")\n",
    "\n",
    "    def draw_dependencies(self, g: Digraph, mode: str) -> None:\n",
    "        for var in self.all_vars():\n",
    "            g.node(self.id(var),\n",
    "                   label=self.label(var),\n",
    "                   tooltip=self.tooltip(var))\n",
    "\n",
    "            if var in self.data:\n",
    "                for source in self.data[var]:\n",
    "                    self.draw_edge(g, mode, self.id(source), self.id(var))\n",
    "\n",
    "            if var in self.control:\n",
    "                for source in self.control[var]:\n",
    "                    self.draw_edge(g, mode, self.id(source), self.id(var),\n",
    "                                   style='dashed', color='grey')"
   ]
  },
  {
   "cell_type": "markdown",
   "metadata": {
    "slideshow": {
     "slide_type": "subslide"
    }
   },
   "source": [
    "`draw_dependencies()` makes use of a few helper functions."
   ]
  },
  {
   "cell_type": "code",
   "execution_count": 24,
   "metadata": {
    "execution": {
     "iopub.execute_input": "2025-10-26T17:47:16.257948Z",
     "iopub.status.busy": "2025-10-26T17:47:16.257851Z",
     "iopub.status.idle": "2025-10-26T17:47:16.260779Z",
     "shell.execute_reply": "2025-10-26T17:47:16.260553Z"
    },
    "slideshow": {
     "slide_type": "subslide"
    }
   },
   "outputs": [],
   "source": [
    "class Dependencies(Dependencies):\n",
    "    def id(self, var: Node) -> str:\n",
    "        \"\"\"Return a unique ID for `var`.\"\"\"\n",
    "        id = \"\"\n",
    "        # Avoid non-identifier characters\n",
    "        for c in repr(var):\n",
    "            if c.isalnum() or c == '_':\n",
    "                id += c\n",
    "            if c == ':' or c == ',':\n",
    "                id += '_'\n",
    "        return id\n",
    "\n",
    "    def label(self, var: Node) -> str:\n",
    "        \"\"\"Render node `var` using HTML style.\"\"\"\n",
    "        (name, location) = var\n",
    "        source = self.source(var)\n",
    "\n",
    "        title = html.escape(name)\n",
    "        if name.startswith('<'):\n",
    "            title = f'<I>{title}</I>'\n",
    "\n",
    "        label = f'<B>{title}</B>'\n",
    "        if source:\n",
    "            label += (f'<FONT POINT-SIZE=\"9.0\"><BR/><BR/>'\n",
    "                      f'{html.escape(source)}'\n",
    "                      f'</FONT>')\n",
    "        label = f'<{label}>'\n",
    "        return label\n",
    "\n",
    "    def tooltip(self, var: Node) -> str:\n",
    "        \"\"\"Return a tooltip for node `var`.\"\"\"\n",
    "        (name, location) = var\n",
    "        func, lineno = location\n",
    "        return f\"{func.__name__}:{lineno}\""
   ]
  },
  {
   "cell_type": "markdown",
   "metadata": {
    "slideshow": {
     "slide_type": "subslide"
    }
   },
   "source": [
    "In the second part of graph drawing, `add_hierarchy()` adds invisible edges to ensure that nodes with lower line numbers are drawn above nodes with higher line numbers."
   ]
  },
  {
   "cell_type": "code",
   "execution_count": 25,
   "metadata": {
    "execution": {
     "iopub.execute_input": "2025-10-26T17:47:16.262078Z",
     "iopub.status.busy": "2025-10-26T17:47:16.262002Z",
     "iopub.status.idle": "2025-10-26T17:47:16.264462Z",
     "shell.execute_reply": "2025-10-26T17:47:16.264075Z"
    },
    "slideshow": {
     "slide_type": "subslide"
    }
   },
   "outputs": [],
   "source": [
    "class Dependencies(Dependencies):\n",
    "    def add_hierarchy(self, g: Digraph) -> Digraph:\n",
    "        \"\"\"Add invisible edges for a proper hierarchy.\"\"\"\n",
    "        functions = self.all_functions()\n",
    "        for func in functions:\n",
    "            last_var = None\n",
    "            last_lineno = 0\n",
    "            for (lineno, var) in functions[func]:\n",
    "                if last_var is not None and lineno > last_lineno:\n",
    "                    g.edge(self.id(last_var),\n",
    "                           self.id(var),\n",
    "                           style='invis')\n",
    "\n",
    "                last_var = var\n",
    "                last_lineno = lineno\n",
    "\n",
    "        return g"
   ]
  },
  {
   "cell_type": "code",
   "execution_count": 26,
   "metadata": {
    "execution": {
     "iopub.execute_input": "2025-10-26T17:47:16.265809Z",
     "iopub.status.busy": "2025-10-26T17:47:16.265717Z",
     "iopub.status.idle": "2025-10-26T17:47:16.268074Z",
     "shell.execute_reply": "2025-10-26T17:47:16.267828Z"
    },
    "slideshow": {
     "slide_type": "subslide"
    }
   },
   "outputs": [],
   "source": [
    "class Dependencies(Dependencies):\n",
    "    def all_functions(self) -> Dict[Callable, List[Tuple[int, Node]]]:\n",
    "        \"\"\"\n",
    "        Return mapping \n",
    "        {`function`: [(`lineno`, `var`), (`lineno`, `var`), ...], ...}\n",
    "        for all functions in the dependencies.\n",
    "        \"\"\"\n",
    "        functions: Dict[Callable, List[Tuple[int, Node]]] = {}\n",
    "        for var in self.all_vars():\n",
    "            (name, location) = var\n",
    "            func, lineno = location\n",
    "            if func not in functions:\n",
    "                functions[func] = []\n",
    "            functions[func].append((lineno, var))\n",
    "\n",
    "        for func in functions:\n",
    "            functions[func].sort()\n",
    "\n",
    "        return functions"
   ]
  },
  {
   "cell_type": "markdown",
   "metadata": {
    "slideshow": {
     "slide_type": "subslide"
    }
   },
   "source": [
    "Here comes the graph in all its glory:"
   ]
  },
  {
   "cell_type": "code",
   "execution_count": 27,
   "metadata": {
    "execution": {
     "iopub.execute_input": "2025-10-26T17:47:16.269360Z",
     "iopub.status.busy": "2025-10-26T17:47:16.269278Z",
     "iopub.status.idle": "2025-10-26T17:47:16.272050Z",
     "shell.execute_reply": "2025-10-26T17:47:16.271782Z"
    },
    "slideshow": {
     "slide_type": "fragment"
    }
   },
   "outputs": [],
   "source": [
    "def middle_deps() -> Dependencies:\n",
    "    return Dependencies({('z', (middle, 1)): set(), ('y', (middle, 1)): set(), ('x', (middle, 1)): set(), ('<test>', (middle, 2)): {('y', (middle, 1)), ('z', (middle, 1))}, ('<test>', (middle, 3)): {('y', (middle, 1)), ('x', (middle, 1))}, ('<test>', (middle, 5)): {('z', (middle, 1)), ('x', (middle, 1))}, ('<middle() return value>', (middle, 6)): {('y', (middle, 1))}}, {('z', (middle, 1)): set(), ('y', (middle, 1)): set(), ('x', (middle, 1)): set(), ('<test>', (middle, 2)): set(), ('<test>', (middle, 3)): {('<test>', (middle, 2))}, ('<test>', (middle, 5)): {('<test>', (middle, 3))}, ('<middle() return value>', (middle, 6)): {('<test>', (middle, 5))}})"
   ]
  },
  {
   "cell_type": "code",
   "execution_count": 28,
   "metadata": {
    "execution": {
     "iopub.execute_input": "2025-10-26T17:47:16.273166Z",
     "iopub.status.busy": "2025-10-26T17:47:16.273090Z",
     "iopub.status.idle": "2025-10-26T17:47:16.679336Z",
     "shell.execute_reply": "2025-10-26T17:47:16.679015Z"
    },
    "slideshow": {
     "slide_type": "fragment"
    }
   },
   "outputs": [
    {
     "data": {
      "image/svg+xml": [
       "<?xml version=\"1.0\" encoding=\"UTF-8\" standalone=\"no\"?>\n",
       "<!DOCTYPE svg PUBLIC \"-//W3C//DTD SVG 1.1//EN\"\n",
       " \"http://www.w3.org/Graphics/SVG/1.1/DTD/svg11.dtd\">\n",
       "<!-- Generated by graphviz version 14.0.2 (20251019.1705)\n",
       " -->\n",
       "<!-- Title: dependencies Pages: 1 -->\n",
       "<svg width=\"463pt\" height=\"352pt\"\n",
       " viewBox=\"0.00 0.00 463.00 352.00\" xmlns=\"http://www.w3.org/2000/svg\" xmlns:xlink=\"http://www.w3.org/1999/xlink\">\n",
       "<g id=\"graph0\" class=\"graph\" transform=\"scale(1 1) rotate(0) translate(4 348)\">\n",
       "<title>dependencies</title>\n",
       "<polygon fill=\"white\" stroke=\"none\" points=\"-4,4 -4,-348 458.65,-348 458.65,4 -4,4\"/>\n",
       "<!-- z_functionmiddleat0x10d554b80_1 -->\n",
       "<g id=\"node1\" class=\"node\">\n",
       "<title>z_functionmiddleat0x10d554b80_1</title>\n",
       "<g id=\"a_node1\"><a xlink:title=\"middle:1\">\n",
       "<polygon fill=\"peachpuff\" stroke=\"black\" points=\"428,-344 223,-344 223,-304 428,-304 428,-344\"/>\n",
       "<text xml:space=\"preserve\" text-anchor=\"start\" x=\"321.38\" y=\"-327.7\" font-family=\"Courier,monospace\" font-weight=\"bold\" font-size=\"14.00\">z</text>\n",
       "<text xml:space=\"preserve\" text-anchor=\"start\" x=\"231\" y=\"-309.45\" font-family=\"Courier,monospace\" font-size=\"9.00\">def middle(x, y, z): &#160;# type: ignore</text>\n",
       "</a>\n",
       "</g>\n",
       "</g>\n",
       "<!-- test_functionmiddleat0x10d554b80_5 -->\n",
       "<g id=\"node4\" class=\"node\">\n",
       "<title>test_functionmiddleat0x10d554b80_5</title>\n",
       "<g id=\"a_node4\"><a xlink:title=\"middle:5\">\n",
       "<polygon fill=\"peachpuff\" stroke=\"black\" points=\"219.38,-116 145.62,-116 145.62,-76 219.38,-76 219.38,-116\"/>\n",
       "<text xml:space=\"preserve\" text-anchor=\"start\" x=\"157.75\" y=\"-99.7\" font-family=\"Courier,monospace\" font-weight=\"bold\" font-style=\"italic\" font-size=\"14.00\">&lt;test&gt;</text>\n",
       "<text xml:space=\"preserve\" text-anchor=\"start\" x=\"153.62\" y=\"-81.45\" font-family=\"Courier,monospace\" font-size=\"9.00\">elif x &lt; z:</text>\n",
       "</a>\n",
       "</g>\n",
       "</g>\n",
       "<!-- z_functionmiddleat0x10d554b80_1&#45;&gt;test_functionmiddleat0x10d554b80_5 -->\n",
       "<g id=\"edge3\" class=\"edge\">\n",
       "<title>z_functionmiddleat0x10d554b80_1&#45;&gt;test_functionmiddleat0x10d554b80_5</title>\n",
       "<path fill=\"none\" stroke=\"black\" d=\"M403.32,-303.64C420.73,-295.53 437.1,-284.1 447.5,-268 457.15,-253.07 456.88,-243.1 447.5,-228 400.08,-151.66 293.55,-118.47 230.96,-105.11\"/>\n",
       "<polygon fill=\"black\" stroke=\"black\" points=\"231.79,-101.71 221.29,-103.14 230.39,-108.56 231.79,-101.71\"/>\n",
       "</g>\n",
       "<!-- test_functionmiddleat0x10d554b80_2 -->\n",
       "<g id=\"node7\" class=\"node\">\n",
       "<title>test_functionmiddleat0x10d554b80_2</title>\n",
       "<g id=\"a_node7\"><a xlink:title=\"middle:2\">\n",
       "<polygon fill=\"peachpuff\" stroke=\"black\" points=\"215.25,-268 149.75,-268 149.75,-228 215.25,-228 215.25,-268\"/>\n",
       "<text xml:space=\"preserve\" text-anchor=\"start\" x=\"157.75\" y=\"-251.7\" font-family=\"Courier,monospace\" font-weight=\"bold\" font-style=\"italic\" font-size=\"14.00\">&lt;test&gt;</text>\n",
       "<text xml:space=\"preserve\" text-anchor=\"start\" x=\"158.88\" y=\"-233.45\" font-family=\"Courier,monospace\" font-size=\"9.00\">if y &lt; z:</text>\n",
       "</a>\n",
       "</g>\n",
       "</g>\n",
       "<!-- z_functionmiddleat0x10d554b80_1&#45;&gt;test_functionmiddleat0x10d554b80_2 -->\n",
       "<g id=\"edge6\" class=\"edge\">\n",
       "<title>z_functionmiddleat0x10d554b80_1&#45;&gt;test_functionmiddleat0x10d554b80_2</title>\n",
       "<path fill=\"none\" stroke=\"black\" d=\"M281.91,-303.56C263.44,-294.42 242.06,-283.43 223.85,-273.71\"/>\n",
       "<polygon fill=\"black\" stroke=\"black\" points=\"225.61,-270.68 215.14,-269.03 222.29,-276.85 225.61,-270.68\"/>\n",
       "</g>\n",
       "<!-- z_functionmiddleat0x10d554b80_1&#45;&gt;test_functionmiddleat0x10d554b80_2 -->\n",
       "<!-- middlereturnvalue_functionmiddleat0x10d554b80_6 -->\n",
       "<g id=\"node2\" class=\"node\">\n",
       "<title>middlereturnvalue_functionmiddleat0x10d554b80_6</title>\n",
       "<g id=\"a_node2\"><a xlink:title=\"middle:6\">\n",
       "<polygon fill=\"peachpuff\" stroke=\"black\" points=\"285.38,-40 79.62,-40 79.62,0 285.38,0 285.38,-40\"/>\n",
       "<text xml:space=\"preserve\" text-anchor=\"start\" x=\"87.62\" y=\"-23.7\" font-family=\"Courier,monospace\" font-weight=\"bold\" font-style=\"italic\" font-size=\"14.00\">&lt;middle() return value&gt;</text>\n",
       "<text xml:space=\"preserve\" text-anchor=\"start\" x=\"161.5\" y=\"-5.45\" font-family=\"Courier,monospace\" font-size=\"9.00\">return y</text>\n",
       "</a>\n",
       "</g>\n",
       "</g>\n",
       "<!-- y_functionmiddleat0x10d554b80_1 -->\n",
       "<g id=\"node3\" class=\"node\">\n",
       "<title>y_functionmiddleat0x10d554b80_1</title>\n",
       "<g id=\"a_node3\"><a xlink:title=\"middle:1\">\n",
       "<polygon fill=\"peachpuff\" stroke=\"black\" points=\"205,-344 0,-344 0,-304 205,-304 205,-344\"/>\n",
       "<text xml:space=\"preserve\" text-anchor=\"start\" x=\"98.38\" y=\"-327.7\" font-family=\"Courier,monospace\" font-weight=\"bold\" font-size=\"14.00\">y</text>\n",
       "<text xml:space=\"preserve\" text-anchor=\"start\" x=\"8\" y=\"-309.45\" font-family=\"Courier,monospace\" font-size=\"9.00\">def middle(x, y, z): &#160;# type: ignore</text>\n",
       "</a>\n",
       "</g>\n",
       "</g>\n",
       "<!-- y_functionmiddleat0x10d554b80_1&#45;&gt;middlereturnvalue_functionmiddleat0x10d554b80_6 -->\n",
       "<g id=\"edge1\" class=\"edge\">\n",
       "<title>y_functionmiddleat0x10d554b80_1&#45;&gt;middlereturnvalue_functionmiddleat0x10d554b80_6</title>\n",
       "<path fill=\"none\" stroke=\"black\" d=\"M101.63,-303.76C100.43,-260.86 101.55,-154.97 136.5,-76 140.83,-66.22 147.43,-56.81 154.3,-48.62\"/>\n",
       "<polygon fill=\"black\" stroke=\"black\" points=\"156.71,-51.18 160.75,-41.39 151.48,-46.52 156.71,-51.18\"/>\n",
       "</g>\n",
       "<!-- test_functionmiddleat0x10d554b80_3 -->\n",
       "<g id=\"node6\" class=\"node\">\n",
       "<title>test_functionmiddleat0x10d554b80_3</title>\n",
       "<g id=\"a_node6\"><a xlink:title=\"middle:3\">\n",
       "<polygon fill=\"peachpuff\" stroke=\"black\" points=\"215.25,-192 149.75,-192 149.75,-152 215.25,-152 215.25,-192\"/>\n",
       "<text xml:space=\"preserve\" text-anchor=\"start\" x=\"157.75\" y=\"-175.7\" font-family=\"Courier,monospace\" font-weight=\"bold\" font-style=\"italic\" font-size=\"14.00\">&lt;test&gt;</text>\n",
       "<text xml:space=\"preserve\" text-anchor=\"start\" x=\"158.88\" y=\"-157.45\" font-family=\"Courier,monospace\" font-size=\"9.00\">if x &lt; y:</text>\n",
       "</a>\n",
       "</g>\n",
       "</g>\n",
       "<!-- y_functionmiddleat0x10d554b80_1&#45;&gt;test_functionmiddleat0x10d554b80_3 -->\n",
       "<g id=\"edge9\" class=\"edge\">\n",
       "<title>y_functionmiddleat0x10d554b80_1&#45;&gt;test_functionmiddleat0x10d554b80_3</title>\n",
       "<path fill=\"none\" stroke=\"black\" d=\"M108.48,-303.74C114.99,-284.03 126.38,-252.87 140.5,-228 145.67,-218.89 152.19,-209.61 158.54,-201.32\"/>\n",
       "<polygon fill=\"black\" stroke=\"black\" points=\"161.16,-203.66 164.62,-193.65 155.67,-199.31 161.16,-203.66\"/>\n",
       "</g>\n",
       "<!-- y_functionmiddleat0x10d554b80_1&#45;&gt;test_functionmiddleat0x10d554b80_2 -->\n",
       "<g id=\"edge7\" class=\"edge\">\n",
       "<title>y_functionmiddleat0x10d554b80_1&#45;&gt;test_functionmiddleat0x10d554b80_2</title>\n",
       "<path fill=\"none\" stroke=\"black\" d=\"M123.52,-303.56C132.61,-295.14 143.41,-285.16 153.27,-276.04\"/>\n",
       "<polygon fill=\"black\" stroke=\"black\" points=\"155.55,-278.7 160.51,-269.34 150.79,-273.56 155.55,-278.7\"/>\n",
       "</g>\n",
       "<!-- test_functionmiddleat0x10d554b80_5&#45;&gt;middlereturnvalue_functionmiddleat0x10d554b80_6 -->\n",
       "<g id=\"edge2\" class=\"edge\">\n",
       "<title>test_functionmiddleat0x10d554b80_5&#45;&gt;middlereturnvalue_functionmiddleat0x10d554b80_6</title>\n",
       "<path fill=\"none\" stroke=\"grey\" stroke-dasharray=\"5,2\" d=\"M176.48,-75.56C175.82,-68.25 175.61,-59.75 175.84,-51.67\"/>\n",
       "<polygon fill=\"grey\" stroke=\"grey\" points=\"179.32,-52.01 176.4,-41.82 172.34,-51.61 179.32,-52.01\"/>\n",
       "</g>\n",
       "<!-- test_functionmiddleat0x10d554b80_5&#45;&gt;middlereturnvalue_functionmiddleat0x10d554b80_6 -->\n",
       "<!-- x_functionmiddleat0x10d554b80_1 -->\n",
       "<g id=\"node5\" class=\"node\">\n",
       "<title>x_functionmiddleat0x10d554b80_1</title>\n",
       "<g id=\"a_node5\"><a xlink:title=\"middle:1\">\n",
       "<polygon fill=\"peachpuff\" stroke=\"black\" points=\"438,-268 233,-268 233,-228 438,-228 438,-268\"/>\n",
       "<text xml:space=\"preserve\" text-anchor=\"start\" x=\"331.38\" y=\"-251.7\" font-family=\"Courier,monospace\" font-weight=\"bold\" font-size=\"14.00\">x</text>\n",
       "<text xml:space=\"preserve\" text-anchor=\"start\" x=\"241\" y=\"-233.45\" font-family=\"Courier,monospace\" font-size=\"9.00\">def middle(x, y, z): &#160;# type: ignore</text>\n",
       "</a>\n",
       "</g>\n",
       "</g>\n",
       "<!-- x_functionmiddleat0x10d554b80_1&#45;&gt;test_functionmiddleat0x10d554b80_5 -->\n",
       "<g id=\"edge4\" class=\"edge\">\n",
       "<title>x_functionmiddleat0x10d554b80_1&#45;&gt;test_functionmiddleat0x10d554b80_5</title>\n",
       "<path fill=\"none\" stroke=\"black\" d=\"M315.81,-227.7C288.96,-201.37 240.71,-154.07 210.21,-124.17\"/>\n",
       "<polygon fill=\"black\" stroke=\"black\" points=\"212.79,-121.79 203.19,-117.29 207.88,-126.79 212.79,-121.79\"/>\n",
       "</g>\n",
       "<!-- x_functionmiddleat0x10d554b80_1&#45;&gt;test_functionmiddleat0x10d554b80_3 -->\n",
       "<g id=\"edge8\" class=\"edge\">\n",
       "<title>x_functionmiddleat0x10d554b80_1&#45;&gt;test_functionmiddleat0x10d554b80_3</title>\n",
       "<path fill=\"none\" stroke=\"black\" d=\"M295.3,-227.56C274,-217.25 247.8,-204.58 226.02,-194.05\"/>\n",
       "<polygon fill=\"black\" stroke=\"black\" points=\"227.61,-190.93 217.08,-189.73 224.56,-197.23 227.61,-190.93\"/>\n",
       "</g>\n",
       "<!-- test_functionmiddleat0x10d554b80_3&#45;&gt;test_functionmiddleat0x10d554b80_5 -->\n",
       "<g id=\"edge5\" class=\"edge\">\n",
       "<title>test_functionmiddleat0x10d554b80_3&#45;&gt;test_functionmiddleat0x10d554b80_5</title>\n",
       "<path fill=\"none\" stroke=\"grey\" stroke-dasharray=\"5,2\" d=\"M176.48,-151.56C175.82,-144.25 175.61,-135.75 175.84,-127.67\"/>\n",
       "<polygon fill=\"grey\" stroke=\"grey\" points=\"179.32,-128.01 176.4,-117.82 172.34,-127.61 179.32,-128.01\"/>\n",
       "</g>\n",
       "<!-- test_functionmiddleat0x10d554b80_3&#45;&gt;test_functionmiddleat0x10d554b80_5 -->\n",
       "<!-- test_functionmiddleat0x10d554b80_2&#45;&gt;test_functionmiddleat0x10d554b80_3 -->\n",
       "<g id=\"edge10\" class=\"edge\">\n",
       "<title>test_functionmiddleat0x10d554b80_2&#45;&gt;test_functionmiddleat0x10d554b80_3</title>\n",
       "<path fill=\"none\" stroke=\"grey\" stroke-dasharray=\"5,2\" d=\"M176.48,-227.56C175.82,-220.25 175.61,-211.75 175.84,-203.67\"/>\n",
       "<polygon fill=\"grey\" stroke=\"grey\" points=\"179.32,-204.01 176.4,-193.82 172.34,-203.61 179.32,-204.01\"/>\n",
       "</g>\n",
       "<!-- test_functionmiddleat0x10d554b80_2&#45;&gt;test_functionmiddleat0x10d554b80_3 -->\n",
       "</g>\n",
       "</svg>\n"
      ],
      "text/plain": [
       "<__main__.Dependencies at 0x10d5ea660>"
      ]
     },
     "execution_count": 28,
     "metadata": {},
     "output_type": "execute_result"
    }
   ],
   "source": [
    "middle_deps()"
   ]
  },
  {
   "cell_type": "markdown",
   "metadata": {
    "slideshow": {
     "slide_type": "fragment"
    }
   },
   "source": [
    "By default, the arrow direction indicates _flows_ – an arrow _A_ → _B_ indicates that information from _A_ _flows_ into _B_ (and thus the state in _A_ _causes_ the state in _B_). By setting the extra keyword parameter `mode` to `depend` instead of `flow` (default), you can reverse these arrows; then an arrow _A_ → _B_ indicates _A_ _depends_ on _B_."
   ]
  },
  {
   "cell_type": "code",
   "execution_count": 29,
   "metadata": {
    "execution": {
     "iopub.execute_input": "2025-10-26T17:47:16.680801Z",
     "iopub.status.busy": "2025-10-26T17:47:16.680694Z",
     "iopub.status.idle": "2025-10-26T17:47:17.002074Z",
     "shell.execute_reply": "2025-10-26T17:47:17.001736Z"
    },
    "slideshow": {
     "slide_type": "fragment"
    }
   },
   "outputs": [
    {
     "data": {
      "image/svg+xml": [
       "<?xml version=\"1.0\" encoding=\"UTF-8\" standalone=\"no\"?>\n",
       "<!DOCTYPE svg PUBLIC \"-//W3C//DTD SVG 1.1//EN\"\n",
       " \"http://www.w3.org/Graphics/SVG/1.1/DTD/svg11.dtd\">\n",
       "<!-- Generated by graphviz version 14.0.2 (20251019.1705)\n",
       " -->\n",
       "<!-- Title: dependencies Pages: 1 -->\n",
       "<svg width=\"463pt\" height=\"352pt\"\n",
       " viewBox=\"0.00 0.00 463.00 352.00\" xmlns=\"http://www.w3.org/2000/svg\" xmlns:xlink=\"http://www.w3.org/1999/xlink\">\n",
       "<g id=\"graph0\" class=\"graph\" transform=\"scale(1 1) rotate(0) translate(4 348)\">\n",
       "<title>dependencies</title>\n",
       "<polygon fill=\"white\" stroke=\"none\" points=\"-4,4 -4,-348 458.65,-348 458.65,4 -4,4\"/>\n",
       "<!-- z_functionmiddleat0x10d554b80_1 -->\n",
       "<g id=\"node1\" class=\"node\">\n",
       "<title>z_functionmiddleat0x10d554b80_1</title>\n",
       "<g id=\"a_node1\"><a xlink:title=\"middle:1\">\n",
       "<polygon fill=\"peachpuff\" stroke=\"black\" points=\"428,-344 223,-344 223,-304 428,-304 428,-344\"/>\n",
       "<text xml:space=\"preserve\" text-anchor=\"start\" x=\"321.38\" y=\"-327.7\" font-family=\"Courier,monospace\" font-weight=\"bold\" font-size=\"14.00\">z</text>\n",
       "<text xml:space=\"preserve\" text-anchor=\"start\" x=\"231\" y=\"-309.45\" font-family=\"Courier,monospace\" font-size=\"9.00\">def middle(x, y, z): &#160;# type: ignore</text>\n",
       "</a>\n",
       "</g>\n",
       "</g>\n",
       "<!-- test_functionmiddleat0x10d554b80_5 -->\n",
       "<g id=\"node4\" class=\"node\">\n",
       "<title>test_functionmiddleat0x10d554b80_5</title>\n",
       "<g id=\"a_node4\"><a xlink:title=\"middle:5\">\n",
       "<polygon fill=\"peachpuff\" stroke=\"black\" points=\"219.38,-116 145.62,-116 145.62,-76 219.38,-76 219.38,-116\"/>\n",
       "<text xml:space=\"preserve\" text-anchor=\"start\" x=\"157.75\" y=\"-99.7\" font-family=\"Courier,monospace\" font-weight=\"bold\" font-style=\"italic\" font-size=\"14.00\">&lt;test&gt;</text>\n",
       "<text xml:space=\"preserve\" text-anchor=\"start\" x=\"153.62\" y=\"-81.45\" font-family=\"Courier,monospace\" font-size=\"9.00\">elif x &lt; z:</text>\n",
       "</a>\n",
       "</g>\n",
       "</g>\n",
       "<!-- z_functionmiddleat0x10d554b80_1&#45;&gt;test_functionmiddleat0x10d554b80_5 -->\n",
       "<g id=\"edge3\" class=\"edge\">\n",
       "<title>z_functionmiddleat0x10d554b80_1&#45;&gt;test_functionmiddleat0x10d554b80_5</title>\n",
       "<path fill=\"none\" stroke=\"black\" d=\"M413.37,-298.5C426.9,-290.89 439.13,-280.96 447.5,-268 457.15,-253.07 456.88,-243.1 447.5,-228 397.13,-146.91 280.06,-114.5 219.81,-102.84\"/>\n",
       "<polygon fill=\"black\" stroke=\"black\" points=\"411.98,-295.28 404.67,-302.95 415.17,-301.51 411.98,-295.28\"/>\n",
       "</g>\n",
       "<!-- test_functionmiddleat0x10d554b80_2 -->\n",
       "<g id=\"node7\" class=\"node\">\n",
       "<title>test_functionmiddleat0x10d554b80_2</title>\n",
       "<g id=\"a_node7\"><a xlink:title=\"middle:2\">\n",
       "<polygon fill=\"peachpuff\" stroke=\"black\" points=\"215.25,-268 149.75,-268 149.75,-228 215.25,-228 215.25,-268\"/>\n",
       "<text xml:space=\"preserve\" text-anchor=\"start\" x=\"157.75\" y=\"-251.7\" font-family=\"Courier,monospace\" font-weight=\"bold\" font-style=\"italic\" font-size=\"14.00\">&lt;test&gt;</text>\n",
       "<text xml:space=\"preserve\" text-anchor=\"start\" x=\"158.88\" y=\"-233.45\" font-family=\"Courier,monospace\" font-size=\"9.00\">if y &lt; z:</text>\n",
       "</a>\n",
       "</g>\n",
       "</g>\n",
       "<!-- z_functionmiddleat0x10d554b80_1&#45;&gt;test_functionmiddleat0x10d554b80_2 -->\n",
       "<g id=\"edge6\" class=\"edge\">\n",
       "<title>z_functionmiddleat0x10d554b80_1&#45;&gt;test_functionmiddleat0x10d554b80_2</title>\n",
       "<path fill=\"none\" stroke=\"black\" d=\"M271.6,-298.42C252.1,-288.63 230.76,-277.51 213.81,-268.31\"/>\n",
       "<polygon fill=\"black\" stroke=\"black\" points=\"270.04,-301.55 280.55,-302.88 273.16,-295.29 270.04,-301.55\"/>\n",
       "</g>\n",
       "<!-- z_functionmiddleat0x10d554b80_1&#45;&gt;test_functionmiddleat0x10d554b80_2 -->\n",
       "<!-- middlereturnvalue_functionmiddleat0x10d554b80_6 -->\n",
       "<g id=\"node2\" class=\"node\">\n",
       "<title>middlereturnvalue_functionmiddleat0x10d554b80_6</title>\n",
       "<g id=\"a_node2\"><a xlink:title=\"middle:6\">\n",
       "<polygon fill=\"peachpuff\" stroke=\"black\" points=\"285.38,-40 79.62,-40 79.62,0 285.38,0 285.38,-40\"/>\n",
       "<text xml:space=\"preserve\" text-anchor=\"start\" x=\"87.62\" y=\"-23.7\" font-family=\"Courier,monospace\" font-weight=\"bold\" font-style=\"italic\" font-size=\"14.00\">&lt;middle() return value&gt;</text>\n",
       "<text xml:space=\"preserve\" text-anchor=\"start\" x=\"161.5\" y=\"-5.45\" font-family=\"Courier,monospace\" font-size=\"9.00\">return y</text>\n",
       "</a>\n",
       "</g>\n",
       "</g>\n",
       "<!-- y_functionmiddleat0x10d554b80_1 -->\n",
       "<g id=\"node3\" class=\"node\">\n",
       "<title>y_functionmiddleat0x10d554b80_1</title>\n",
       "<g id=\"a_node3\"><a xlink:title=\"middle:1\">\n",
       "<polygon fill=\"peachpuff\" stroke=\"black\" points=\"205,-344 0,-344 0,-304 205,-304 205,-344\"/>\n",
       "<text xml:space=\"preserve\" text-anchor=\"start\" x=\"98.38\" y=\"-327.7\" font-family=\"Courier,monospace\" font-weight=\"bold\" font-size=\"14.00\">y</text>\n",
       "<text xml:space=\"preserve\" text-anchor=\"start\" x=\"8\" y=\"-309.45\" font-family=\"Courier,monospace\" font-size=\"9.00\">def middle(x, y, z): &#160;# type: ignore</text>\n",
       "</a>\n",
       "</g>\n",
       "</g>\n",
       "<!-- y_functionmiddleat0x10d554b80_1&#45;&gt;middlereturnvalue_functionmiddleat0x10d554b80_6 -->\n",
       "<g id=\"edge1\" class=\"edge\">\n",
       "<title>y_functionmiddleat0x10d554b80_1&#45;&gt;middlereturnvalue_functionmiddleat0x10d554b80_6</title>\n",
       "<path fill=\"none\" stroke=\"black\" d=\"M101.4,-292.29C100.82,-244.07 104.35,-148.64 136.5,-76 142.39,-62.68 152.51,-50.05 161.76,-40.26\"/>\n",
       "<polygon fill=\"black\" stroke=\"black\" points=\"97.9,-292.31 101.6,-302.24 104.9,-292.18 97.9,-292.31\"/>\n",
       "</g>\n",
       "<!-- test_functionmiddleat0x10d554b80_3 -->\n",
       "<g id=\"node6\" class=\"node\">\n",
       "<title>test_functionmiddleat0x10d554b80_3</title>\n",
       "<g id=\"a_node6\"><a xlink:title=\"middle:3\">\n",
       "<polygon fill=\"peachpuff\" stroke=\"black\" points=\"215.25,-192 149.75,-192 149.75,-152 215.25,-152 215.25,-192\"/>\n",
       "<text xml:space=\"preserve\" text-anchor=\"start\" x=\"157.75\" y=\"-175.7\" font-family=\"Courier,monospace\" font-weight=\"bold\" font-style=\"italic\" font-size=\"14.00\">&lt;test&gt;</text>\n",
       "<text xml:space=\"preserve\" text-anchor=\"start\" x=\"158.88\" y=\"-157.45\" font-family=\"Courier,monospace\" font-size=\"9.00\">if x &lt; y:</text>\n",
       "</a>\n",
       "</g>\n",
       "</g>\n",
       "<!-- y_functionmiddleat0x10d554b80_1&#45;&gt;test_functionmiddleat0x10d554b80_3 -->\n",
       "<g id=\"edge9\" class=\"edge\">\n",
       "<title>y_functionmiddleat0x10d554b80_1&#45;&gt;test_functionmiddleat0x10d554b80_3</title>\n",
       "<path fill=\"none\" stroke=\"black\" d=\"M112.16,-292.92C118.89,-273.74 128.75,-248.69 140.5,-228 147.62,-215.46 157.29,-202.59 165.56,-192.46\"/>\n",
       "<polygon fill=\"black\" stroke=\"black\" points=\"108.88,-291.71 108.97,-302.3 115.51,-293.97 108.88,-291.71\"/>\n",
       "</g>\n",
       "<!-- y_functionmiddleat0x10d554b80_1&#45;&gt;test_functionmiddleat0x10d554b80_2 -->\n",
       "<g id=\"edge7\" class=\"edge\">\n",
       "<title>y_functionmiddleat0x10d554b80_1&#45;&gt;test_functionmiddleat0x10d554b80_2</title>\n",
       "<path fill=\"none\" stroke=\"black\" d=\"M131.88,-295.82C141.75,-286.69 152.54,-276.71 161.62,-268.31\"/>\n",
       "<polygon fill=\"black\" stroke=\"black\" points=\"129.59,-293.17 124.63,-302.53 134.35,-298.31 129.59,-293.17\"/>\n",
       "</g>\n",
       "<!-- test_functionmiddleat0x10d554b80_5&#45;&gt;middlereturnvalue_functionmiddleat0x10d554b80_6 -->\n",
       "<g id=\"edge2\" class=\"edge\">\n",
       "<title>test_functionmiddleat0x10d554b80_5&#45;&gt;middlereturnvalue_functionmiddleat0x10d554b80_6</title>\n",
       "<path fill=\"none\" stroke=\"grey\" stroke-dasharray=\"5,2\" d=\"M175.83,-64.19C175.61,-56.1 175.83,-47.61 176.49,-40.31\"/>\n",
       "<polygon fill=\"grey\" stroke=\"grey\" points=\"172.33,-64.26 176.39,-74.05 179.32,-63.86 172.33,-64.26\"/>\n",
       "</g>\n",
       "<!-- test_functionmiddleat0x10d554b80_5&#45;&gt;middlereturnvalue_functionmiddleat0x10d554b80_6 -->\n",
       "<!-- x_functionmiddleat0x10d554b80_1 -->\n",
       "<g id=\"node5\" class=\"node\">\n",
       "<title>x_functionmiddleat0x10d554b80_1</title>\n",
       "<g id=\"a_node5\"><a xlink:title=\"middle:1\">\n",
       "<polygon fill=\"peachpuff\" stroke=\"black\" points=\"438,-268 233,-268 233,-228 438,-228 438,-268\"/>\n",
       "<text xml:space=\"preserve\" text-anchor=\"start\" x=\"331.38\" y=\"-251.7\" font-family=\"Courier,monospace\" font-weight=\"bold\" font-size=\"14.00\">x</text>\n",
       "<text xml:space=\"preserve\" text-anchor=\"start\" x=\"241\" y=\"-233.45\" font-family=\"Courier,monospace\" font-size=\"9.00\">def middle(x, y, z): &#160;# type: ignore</text>\n",
       "</a>\n",
       "</g>\n",
       "</g>\n",
       "<!-- x_functionmiddleat0x10d554b80_1&#45;&gt;test_functionmiddleat0x10d554b80_5 -->\n",
       "<g id=\"edge4\" class=\"edge\">\n",
       "<title>x_functionmiddleat0x10d554b80_1&#45;&gt;test_functionmiddleat0x10d554b80_5</title>\n",
       "<path fill=\"none\" stroke=\"black\" d=\"M307.7,-219.75C277.17,-189.82 228.93,-142.52 202.11,-116.23\"/>\n",
       "<polygon fill=\"black\" stroke=\"black\" points=\"305.14,-222.14 314.73,-226.64 310.04,-217.14 305.14,-222.14\"/>\n",
       "</g>\n",
       "<!-- x_functionmiddleat0x10d554b80_1&#45;&gt;test_functionmiddleat0x10d554b80_3 -->\n",
       "<g id=\"edge8\" class=\"edge\">\n",
       "<title>x_functionmiddleat0x10d554b80_1&#45;&gt;test_functionmiddleat0x10d554b80_3</title>\n",
       "<path fill=\"none\" stroke=\"black\" d=\"M285.11,-222.63C262.31,-211.6 235.99,-198.87 215.72,-189.07\"/>\n",
       "<polygon fill=\"black\" stroke=\"black\" points=\"283.41,-225.7 293.94,-226.9 286.46,-219.39 283.41,-225.7\"/>\n",
       "</g>\n",
       "<!-- test_functionmiddleat0x10d554b80_3&#45;&gt;test_functionmiddleat0x10d554b80_5 -->\n",
       "<g id=\"edge5\" class=\"edge\">\n",
       "<title>test_functionmiddleat0x10d554b80_3&#45;&gt;test_functionmiddleat0x10d554b80_5</title>\n",
       "<path fill=\"none\" stroke=\"grey\" stroke-dasharray=\"5,2\" d=\"M175.83,-140.19C175.61,-132.1 175.83,-123.61 176.49,-116.31\"/>\n",
       "<polygon fill=\"grey\" stroke=\"grey\" points=\"172.33,-140.26 176.39,-150.05 179.32,-139.86 172.33,-140.26\"/>\n",
       "</g>\n",
       "<!-- test_functionmiddleat0x10d554b80_3&#45;&gt;test_functionmiddleat0x10d554b80_5 -->\n",
       "<!-- test_functionmiddleat0x10d554b80_2&#45;&gt;test_functionmiddleat0x10d554b80_3 -->\n",
       "<g id=\"edge10\" class=\"edge\">\n",
       "<title>test_functionmiddleat0x10d554b80_2&#45;&gt;test_functionmiddleat0x10d554b80_3</title>\n",
       "<path fill=\"none\" stroke=\"grey\" stroke-dasharray=\"5,2\" d=\"M175.83,-216.19C175.61,-208.1 175.83,-199.61 176.49,-192.31\"/>\n",
       "<polygon fill=\"grey\" stroke=\"grey\" points=\"172.33,-216.26 176.39,-226.05 179.32,-215.86 172.33,-216.26\"/>\n",
       "</g>\n",
       "<!-- test_functionmiddleat0x10d554b80_2&#45;&gt;test_functionmiddleat0x10d554b80_3 -->\n",
       "</g>\n",
       "</svg>\n"
      ],
      "text/plain": [
       "<graphviz.graphs.Digraph at 0x10d516e90>"
      ]
     },
     "execution_count": 29,
     "metadata": {},
     "output_type": "execute_result"
    }
   ],
   "source": [
    "middle_deps().graph(mode='depend')"
   ]
  },
  {
   "cell_type": "markdown",
   "metadata": {
    "slideshow": {
     "slide_type": "subslide"
    }
   },
   "source": [
    "#### Slices\n",
    "\n",
    "The method `backward_slice(*critera, mode='cd')` returns a subset of dependencies, following dependencies backward from the given *slicing criteria* `criteria`. These criteria can be\n",
    "\n",
    "* variable names (such as `<test>`); or\n",
    "* `(function, lineno)` pairs (such as `(middle, 3)`); or\n",
    "* `(var_name, (function, lineno))` (such as `(`x`, (middle, 1))`) locations.\n",
    "\n",
    "The extra parameter `mode` controls which dependencies are to be followed:\n",
    "\n",
    "* **`d`** = data dependencies\n",
    "* **`c`** = control dependencies"
   ]
  },
  {
   "cell_type": "code",
   "execution_count": 30,
   "metadata": {
    "execution": {
     "iopub.execute_input": "2025-10-26T17:47:17.003795Z",
     "iopub.status.busy": "2025-10-26T17:47:17.003687Z",
     "iopub.status.idle": "2025-10-26T17:47:17.005433Z",
     "shell.execute_reply": "2025-10-26T17:47:17.005221Z"
    },
    "slideshow": {
     "slide_type": "subslide"
    }
   },
   "outputs": [],
   "source": [
    "Criterion = Union[str, Location, Node]"
   ]
  },
  {
   "cell_type": "code",
   "execution_count": 31,
   "metadata": {
    "execution": {
     "iopub.execute_input": "2025-10-26T17:47:17.006668Z",
     "iopub.status.busy": "2025-10-26T17:47:17.006593Z",
     "iopub.status.idle": "2025-10-26T17:47:17.010715Z",
     "shell.execute_reply": "2025-10-26T17:47:17.010491Z"
    },
    "slideshow": {
     "slide_type": "subslide"
    }
   },
   "outputs": [],
   "source": [
    "class Dependencies(Dependencies):\n",
    "    def expand_criteria(self, criteria: List[Criterion]) -> List[Node]:\n",
    "        \"\"\"Return list of vars matched by `criteria`.\"\"\"\n",
    "        all_vars = []\n",
    "        for criterion in criteria:\n",
    "            criterion_var = None\n",
    "            criterion_func = None\n",
    "            criterion_lineno = None\n",
    "\n",
    "            if isinstance(criterion, str):\n",
    "                criterion_var = criterion\n",
    "            elif len(criterion) == 2 and callable(criterion[0]):\n",
    "                criterion_func, criterion_lineno = criterion\n",
    "            elif len(criterion) == 2 and isinstance(criterion[0], str):\n",
    "                criterion_var = criterion[0]\n",
    "                criterion_func, criterion_lineno = criterion[1]\n",
    "            else:\n",
    "                raise ValueError(\"Invalid argument\")\n",
    "\n",
    "            for var in self.all_vars():\n",
    "                (var_name, location) = var\n",
    "                func, lineno = location\n",
    "\n",
    "                name_matches = (criterion_func is None or\n",
    "                                criterion_func == func or\n",
    "                                criterion_func.__name__ == func.__name__)\n",
    "\n",
    "                location_matches = (criterion_lineno is None or\n",
    "                                    criterion_lineno == lineno)\n",
    "\n",
    "                var_matches = (criterion_var is None or\n",
    "                               criterion_var == var_name)\n",
    "\n",
    "                if name_matches and location_matches and var_matches:\n",
    "                    all_vars.append(var)\n",
    "\n",
    "        return all_vars\n",
    "\n",
    "    def backward_slice(self, *criteria: Criterion, \n",
    "                       mode: str = 'cd', depth: int = -1) -> Dependencies:\n",
    "        \"\"\"\n",
    "        Create a backward slice from nodes `criteria`.\n",
    "        `mode` can contain 'c' (draw control dependencies)\n",
    "        and 'd' (draw data dependencies) (default: 'cd')\n",
    "        \"\"\"\n",
    "        data = {}\n",
    "        control = {}\n",
    "        queue = self.expand_criteria(criteria)  # type: ignore\n",
    "        seen = set()\n",
    "\n",
    "        while len(queue) > 0 and depth != 0:\n",
    "            var = queue[0]\n",
    "            queue = queue[1:]\n",
    "            seen.add(var)\n",
    "\n",
    "            if 'd' in mode:\n",
    "                # Follow data dependencies\n",
    "                data[var] = self.data[var]\n",
    "                for next_var in data[var]:\n",
    "                    if next_var not in seen:\n",
    "                        queue.append(next_var)\n",
    "            else:\n",
    "                data[var] = set()\n",
    "\n",
    "            if 'c' in mode:\n",
    "                # Follow control dependencies\n",
    "                control[var] = self.control[var]\n",
    "                for next_var in control[var]:\n",
    "                    if next_var not in seen:\n",
    "                        queue.append(next_var)\n",
    "            else:\n",
    "                control[var] = set()\n",
    "\n",
    "            depth -= 1\n",
    "\n",
    "        return Dependencies(data, control)"
   ]
  },
  {
   "cell_type": "markdown",
   "metadata": {
    "slideshow": {
     "slide_type": "subslide"
    }
   },
   "source": [
    "### End of Excursion"
   ]
  },
  {
   "cell_type": "markdown",
   "metadata": {
    "slideshow": {
     "slide_type": "subslide"
    }
   },
   "source": [
    "### Data Dependencies\n",
    "\n",
    "Here is an example of a data dependency in our `middle()` program. The value `y` returned by `middle()` comes from the value `y` as originally passed as argument. We use arrows $x \\leftarrow y$ to indicate that a variable $x$ depends on an earlier variable $y$:"
   ]
  },
  {
   "cell_type": "code",
   "execution_count": 32,
   "metadata": {
    "execution": {
     "iopub.execute_input": "2025-10-26T17:47:17.012015Z",
     "iopub.status.busy": "2025-10-26T17:47:17.011935Z",
     "iopub.status.idle": "2025-10-26T17:47:17.337692Z",
     "shell.execute_reply": "2025-10-26T17:47:17.337368Z"
    },
    "slideshow": {
     "slide_type": "fragment"
    },
    "tags": [
     "remove-input"
    ]
   },
   "outputs": [
    {
     "data": {
      "image/svg+xml": [
       "<?xml version=\"1.0\" encoding=\"UTF-8\" standalone=\"no\"?>\n",
       "<!DOCTYPE svg PUBLIC \"-//W3C//DTD SVG 1.1//EN\"\n",
       " \"http://www.w3.org/Graphics/SVG/1.1/DTD/svg11.dtd\">\n",
       "<!-- Generated by graphviz version 14.0.2 (20251019.1705)\n",
       " -->\n",
       "<!-- Title: dependencies Pages: 1 -->\n",
       "<svg width=\"214pt\" height=\"124pt\"\n",
       " viewBox=\"0.00 0.00 214.00 124.00\" xmlns=\"http://www.w3.org/2000/svg\" xmlns:xlink=\"http://www.w3.org/1999/xlink\">\n",
       "<g id=\"graph0\" class=\"graph\" transform=\"scale(1 1) rotate(0) translate(4 120)\">\n",
       "<title>dependencies</title>\n",
       "<polygon fill=\"white\" stroke=\"none\" points=\"-4,4 -4,-120 209.75,-120 209.75,4 -4,4\"/>\n",
       "<!-- y_functionmiddleat0x10d554b80_1 -->\n",
       "<g id=\"node1\" class=\"node\">\n",
       "<title>y_functionmiddleat0x10d554b80_1</title>\n",
       "<g id=\"a_node1\"><a xlink:title=\"middle:1\">\n",
       "<polygon fill=\"peachpuff\" stroke=\"black\" points=\"205.38,-116 0.38,-116 0.38,-76 205.38,-76 205.38,-116\"/>\n",
       "<text xml:space=\"preserve\" text-anchor=\"start\" x=\"98.75\" y=\"-99.7\" font-family=\"Courier,monospace\" font-weight=\"bold\" font-size=\"14.00\">y</text>\n",
       "<text xml:space=\"preserve\" text-anchor=\"start\" x=\"8.38\" y=\"-81.45\" font-family=\"Courier,monospace\" font-size=\"9.00\">def middle(x, y, z): &#160;# type: ignore</text>\n",
       "</a>\n",
       "</g>\n",
       "</g>\n",
       "<!-- middlereturnvalue_functionmiddleat0x10d554b80_6 -->\n",
       "<g id=\"node2\" class=\"node\">\n",
       "<title>middlereturnvalue_functionmiddleat0x10d554b80_6</title>\n",
       "<g id=\"a_node2\"><a xlink:title=\"middle:6\">\n",
       "<polygon fill=\"peachpuff\" stroke=\"black\" points=\"205.75,-40 0,-40 0,0 205.75,0 205.75,-40\"/>\n",
       "<text xml:space=\"preserve\" text-anchor=\"start\" x=\"8\" y=\"-23.7\" font-family=\"Courier,monospace\" font-weight=\"bold\" font-style=\"italic\" font-size=\"14.00\">&lt;middle() return value&gt;</text>\n",
       "<text xml:space=\"preserve\" text-anchor=\"start\" x=\"81.88\" y=\"-5.45\" font-family=\"Courier,monospace\" font-size=\"9.00\">return y</text>\n",
       "</a>\n",
       "</g>\n",
       "</g>\n",
       "<!-- y_functionmiddleat0x10d554b80_1&#45;&gt;middlereturnvalue_functionmiddleat0x10d554b80_6 -->\n",
       "<g id=\"edge1\" class=\"edge\">\n",
       "<title>y_functionmiddleat0x10d554b80_1&#45;&gt;middlereturnvalue_functionmiddleat0x10d554b80_6</title>\n",
       "<path fill=\"none\" stroke=\"black\" d=\"M96.85,-75.56C96.2,-68.25 95.99,-59.75 96.21,-51.67\"/>\n",
       "<polygon fill=\"black\" stroke=\"black\" points=\"99.7,-52.01 96.78,-41.82 92.71,-51.61 99.7,-52.01\"/>\n",
       "</g>\n",
       "<!-- y_functionmiddleat0x10d554b80_1&#45;&gt;middlereturnvalue_functionmiddleat0x10d554b80_6 -->\n",
       "</g>\n",
       "</svg>\n"
      ],
      "text/plain": [
       "<__main__.Dependencies at 0x10d516c10>"
      ]
     },
     "execution_count": 32,
     "metadata": {},
     "output_type": "execute_result"
    }
   ],
   "source": [
    "# ignore\n",
    "middle_deps().backward_slice('<middle() return value>', mode='d')  # type: ignore"
   ]
  },
  {
   "cell_type": "markdown",
   "metadata": {
    "slideshow": {
     "slide_type": "fragment"
    }
   },
   "source": [
    "Here, we can see that the value `y` in the return statement is data dependent on the value of `y` as passed to `middle()`. An alternate interpretation of this graph is a *data flow*: The value of `y` in the upper node _flows_ into the value of `y` in the lower node."
   ]
  },
  {
   "cell_type": "markdown",
   "metadata": {
    "slideshow": {
     "slide_type": "subslide"
    }
   },
   "source": [
    "Since we consider the values of variables at specific locations in the program, such data dependencies can also be interpreted as dependencies between _statements_ – the above `return` statement thus is data dependent on the initialization of `y` in the upper node."
   ]
  },
  {
   "attachments": {},
   "cell_type": "markdown",
   "metadata": {
    "slideshow": {
     "slide_type": "subslide"
    }
   },
   "source": [
    "### Control Dependencies\n",
    "\n",
    "Here is an example of a control dependency. The execution of the above `return` statement is controlled by the earlier test `x < z`. We use gray dashed lines to indicate control dependencies:"
   ]
  },
  {
   "cell_type": "code",
   "execution_count": 33,
   "metadata": {
    "execution": {
     "iopub.execute_input": "2025-10-26T17:47:17.339354Z",
     "iopub.status.busy": "2025-10-26T17:47:17.339244Z",
     "iopub.status.idle": "2025-10-26T17:47:17.671072Z",
     "shell.execute_reply": "2025-10-26T17:47:17.670776Z"
    },
    "slideshow": {
     "slide_type": "fragment"
    },
    "tags": [
     "remove-input"
    ]
   },
   "outputs": [
    {
     "data": {
      "image/svg+xml": [
       "<?xml version=\"1.0\" encoding=\"UTF-8\" standalone=\"no\"?>\n",
       "<!DOCTYPE svg PUBLIC \"-//W3C//DTD SVG 1.1//EN\"\n",
       " \"http://www.w3.org/Graphics/SVG/1.1/DTD/svg11.dtd\">\n",
       "<!-- Generated by graphviz version 14.0.2 (20251019.1705)\n",
       " -->\n",
       "<!-- Title: dependencies Pages: 1 -->\n",
       "<svg width=\"214pt\" height=\"124pt\"\n",
       " viewBox=\"0.00 0.00 214.00 124.00\" xmlns=\"http://www.w3.org/2000/svg\" xmlns:xlink=\"http://www.w3.org/1999/xlink\">\n",
       "<g id=\"graph0\" class=\"graph\" transform=\"scale(1 1) rotate(0) translate(4 120)\">\n",
       "<title>dependencies</title>\n",
       "<polygon fill=\"white\" stroke=\"none\" points=\"-4,4 -4,-120 209.75,-120 209.75,4 -4,4\"/>\n",
       "<!-- middlereturnvalue_functionmiddleat0x10d554b80_6 -->\n",
       "<g id=\"node1\" class=\"node\">\n",
       "<title>middlereturnvalue_functionmiddleat0x10d554b80_6</title>\n",
       "<g id=\"a_node1\"><a xlink:title=\"middle:6\">\n",
       "<polygon fill=\"peachpuff\" stroke=\"black\" points=\"205.75,-40 0,-40 0,0 205.75,0 205.75,-40\"/>\n",
       "<text xml:space=\"preserve\" text-anchor=\"start\" x=\"8\" y=\"-23.7\" font-family=\"Courier,monospace\" font-weight=\"bold\" font-style=\"italic\" font-size=\"14.00\">&lt;middle() return value&gt;</text>\n",
       "<text xml:space=\"preserve\" text-anchor=\"start\" x=\"81.88\" y=\"-5.45\" font-family=\"Courier,monospace\" font-size=\"9.00\">return y</text>\n",
       "</a>\n",
       "</g>\n",
       "</g>\n",
       "<!-- test_functionmiddleat0x10d554b80_5 -->\n",
       "<g id=\"node2\" class=\"node\">\n",
       "<title>test_functionmiddleat0x10d554b80_5</title>\n",
       "<g id=\"a_node2\"><a xlink:title=\"middle:5\">\n",
       "<polygon fill=\"peachpuff\" stroke=\"black\" points=\"139.75,-116 66,-116 66,-76 139.75,-76 139.75,-116\"/>\n",
       "<text xml:space=\"preserve\" text-anchor=\"start\" x=\"78.12\" y=\"-99.7\" font-family=\"Courier,monospace\" font-weight=\"bold\" font-style=\"italic\" font-size=\"14.00\">&lt;test&gt;</text>\n",
       "<text xml:space=\"preserve\" text-anchor=\"start\" x=\"74\" y=\"-81.45\" font-family=\"Courier,monospace\" font-size=\"9.00\">elif x &lt; z:</text>\n",
       "</a>\n",
       "</g>\n",
       "</g>\n",
       "<!-- test_functionmiddleat0x10d554b80_5&#45;&gt;middlereturnvalue_functionmiddleat0x10d554b80_6 -->\n",
       "<g id=\"edge1\" class=\"edge\">\n",
       "<title>test_functionmiddleat0x10d554b80_5&#45;&gt;middlereturnvalue_functionmiddleat0x10d554b80_6</title>\n",
       "<path fill=\"none\" stroke=\"grey\" stroke-dasharray=\"5,2\" d=\"M96.85,-75.56C96.2,-68.25 95.99,-59.75 96.21,-51.67\"/>\n",
       "<polygon fill=\"grey\" stroke=\"grey\" points=\"99.7,-52.01 96.78,-41.82 92.71,-51.61 99.7,-52.01\"/>\n",
       "</g>\n",
       "<!-- test_functionmiddleat0x10d554b80_5&#45;&gt;middlereturnvalue_functionmiddleat0x10d554b80_6 -->\n",
       "</g>\n",
       "</svg>\n"
      ],
      "text/plain": [
       "<__main__.Dependencies at 0x10d64c640>"
      ]
     },
     "execution_count": 33,
     "metadata": {},
     "output_type": "execute_result"
    }
   ],
   "source": [
    "# ignore\n",
    "middle_deps().backward_slice('<middle() return value>', mode='c', depth=1)  # type: ignore"
   ]
  },
  {
   "cell_type": "markdown",
   "metadata": {
    "slideshow": {
     "slide_type": "fragment"
    }
   },
   "source": [
    "This test in turn is controlled by earlier tests, so the full chain of control dependencies looks like this:"
   ]
  },
  {
   "cell_type": "code",
   "execution_count": 34,
   "metadata": {
    "execution": {
     "iopub.execute_input": "2025-10-26T17:47:17.672662Z",
     "iopub.status.busy": "2025-10-26T17:47:17.672545Z",
     "iopub.status.idle": "2025-10-26T17:47:18.049102Z",
     "shell.execute_reply": "2025-10-26T17:47:18.048646Z"
    },
    "slideshow": {
     "slide_type": "fragment"
    },
    "tags": [
     "remove-input"
    ]
   },
   "outputs": [
    {
     "data": {
      "image/svg+xml": [
       "<?xml version=\"1.0\" encoding=\"UTF-8\" standalone=\"no\"?>\n",
       "<!DOCTYPE svg PUBLIC \"-//W3C//DTD SVG 1.1//EN\"\n",
       " \"http://www.w3.org/Graphics/SVG/1.1/DTD/svg11.dtd\">\n",
       "<!-- Generated by graphviz version 14.0.2 (20251019.1705)\n",
       " -->\n",
       "<!-- Title: dependencies Pages: 1 -->\n",
       "<svg width=\"214pt\" height=\"276pt\"\n",
       " viewBox=\"0.00 0.00 214.00 276.00\" xmlns=\"http://www.w3.org/2000/svg\" xmlns:xlink=\"http://www.w3.org/1999/xlink\">\n",
       "<g id=\"graph0\" class=\"graph\" transform=\"scale(1 1) rotate(0) translate(4 272)\">\n",
       "<title>dependencies</title>\n",
       "<polygon fill=\"white\" stroke=\"none\" points=\"-4,4 -4,-272 209.75,-272 209.75,4 -4,4\"/>\n",
       "<!-- middlereturnvalue_functionmiddleat0x10d554b80_6 -->\n",
       "<g id=\"node1\" class=\"node\">\n",
       "<title>middlereturnvalue_functionmiddleat0x10d554b80_6</title>\n",
       "<g id=\"a_node1\"><a xlink:title=\"middle:6\">\n",
       "<polygon fill=\"peachpuff\" stroke=\"black\" points=\"205.75,-40 0,-40 0,0 205.75,0 205.75,-40\"/>\n",
       "<text xml:space=\"preserve\" text-anchor=\"start\" x=\"8\" y=\"-23.7\" font-family=\"Courier,monospace\" font-weight=\"bold\" font-style=\"italic\" font-size=\"14.00\">&lt;middle() return value&gt;</text>\n",
       "<text xml:space=\"preserve\" text-anchor=\"start\" x=\"81.88\" y=\"-5.45\" font-family=\"Courier,monospace\" font-size=\"9.00\">return y</text>\n",
       "</a>\n",
       "</g>\n",
       "</g>\n",
       "<!-- test_functionmiddleat0x10d554b80_5 -->\n",
       "<g id=\"node2\" class=\"node\">\n",
       "<title>test_functionmiddleat0x10d554b80_5</title>\n",
       "<g id=\"a_node2\"><a xlink:title=\"middle:5\">\n",
       "<polygon fill=\"peachpuff\" stroke=\"black\" points=\"139.75,-116 66,-116 66,-76 139.75,-76 139.75,-116\"/>\n",
       "<text xml:space=\"preserve\" text-anchor=\"start\" x=\"78.12\" y=\"-99.7\" font-family=\"Courier,monospace\" font-weight=\"bold\" font-style=\"italic\" font-size=\"14.00\">&lt;test&gt;</text>\n",
       "<text xml:space=\"preserve\" text-anchor=\"start\" x=\"74\" y=\"-81.45\" font-family=\"Courier,monospace\" font-size=\"9.00\">elif x &lt; z:</text>\n",
       "</a>\n",
       "</g>\n",
       "</g>\n",
       "<!-- test_functionmiddleat0x10d554b80_5&#45;&gt;middlereturnvalue_functionmiddleat0x10d554b80_6 -->\n",
       "<g id=\"edge1\" class=\"edge\">\n",
       "<title>test_functionmiddleat0x10d554b80_5&#45;&gt;middlereturnvalue_functionmiddleat0x10d554b80_6</title>\n",
       "<path fill=\"none\" stroke=\"grey\" stroke-dasharray=\"5,2\" d=\"M96.85,-75.56C96.2,-68.25 95.99,-59.75 96.21,-51.67\"/>\n",
       "<polygon fill=\"grey\" stroke=\"grey\" points=\"99.7,-52.01 96.78,-41.82 92.71,-51.61 99.7,-52.01\"/>\n",
       "</g>\n",
       "<!-- test_functionmiddleat0x10d554b80_5&#45;&gt;middlereturnvalue_functionmiddleat0x10d554b80_6 -->\n",
       "<!-- test_functionmiddleat0x10d554b80_3 -->\n",
       "<g id=\"node3\" class=\"node\">\n",
       "<title>test_functionmiddleat0x10d554b80_3</title>\n",
       "<g id=\"a_node3\"><a xlink:title=\"middle:3\">\n",
       "<polygon fill=\"peachpuff\" stroke=\"black\" points=\"135.62,-192 70.12,-192 70.12,-152 135.62,-152 135.62,-192\"/>\n",
       "<text xml:space=\"preserve\" text-anchor=\"start\" x=\"78.12\" y=\"-175.7\" font-family=\"Courier,monospace\" font-weight=\"bold\" font-style=\"italic\" font-size=\"14.00\">&lt;test&gt;</text>\n",
       "<text xml:space=\"preserve\" text-anchor=\"start\" x=\"79.25\" y=\"-157.45\" font-family=\"Courier,monospace\" font-size=\"9.00\">if x &lt; y:</text>\n",
       "</a>\n",
       "</g>\n",
       "</g>\n",
       "<!-- test_functionmiddleat0x10d554b80_3&#45;&gt;test_functionmiddleat0x10d554b80_5 -->\n",
       "<g id=\"edge2\" class=\"edge\">\n",
       "<title>test_functionmiddleat0x10d554b80_3&#45;&gt;test_functionmiddleat0x10d554b80_5</title>\n",
       "<path fill=\"none\" stroke=\"grey\" stroke-dasharray=\"5,2\" d=\"M96.85,-151.56C96.2,-144.25 95.99,-135.75 96.21,-127.67\"/>\n",
       "<polygon fill=\"grey\" stroke=\"grey\" points=\"99.7,-128.01 96.78,-117.82 92.71,-127.61 99.7,-128.01\"/>\n",
       "</g>\n",
       "<!-- test_functionmiddleat0x10d554b80_3&#45;&gt;test_functionmiddleat0x10d554b80_5 -->\n",
       "<!-- test_functionmiddleat0x10d554b80_2 -->\n",
       "<g id=\"node4\" class=\"node\">\n",
       "<title>test_functionmiddleat0x10d554b80_2</title>\n",
       "<g id=\"a_node4\"><a xlink:title=\"middle:2\">\n",
       "<polygon fill=\"peachpuff\" stroke=\"black\" points=\"135.62,-268 70.12,-268 70.12,-228 135.62,-228 135.62,-268\"/>\n",
       "<text xml:space=\"preserve\" text-anchor=\"start\" x=\"78.12\" y=\"-251.7\" font-family=\"Courier,monospace\" font-weight=\"bold\" font-style=\"italic\" font-size=\"14.00\">&lt;test&gt;</text>\n",
       "<text xml:space=\"preserve\" text-anchor=\"start\" x=\"79.25\" y=\"-233.45\" font-family=\"Courier,monospace\" font-size=\"9.00\">if y &lt; z:</text>\n",
       "</a>\n",
       "</g>\n",
       "</g>\n",
       "<!-- test_functionmiddleat0x10d554b80_2&#45;&gt;test_functionmiddleat0x10d554b80_3 -->\n",
       "<g id=\"edge3\" class=\"edge\">\n",
       "<title>test_functionmiddleat0x10d554b80_2&#45;&gt;test_functionmiddleat0x10d554b80_3</title>\n",
       "<path fill=\"none\" stroke=\"grey\" stroke-dasharray=\"5,2\" d=\"M96.85,-227.56C96.2,-220.25 95.99,-211.75 96.21,-203.67\"/>\n",
       "<polygon fill=\"grey\" stroke=\"grey\" points=\"99.7,-204.01 96.78,-193.82 92.71,-203.61 99.7,-204.01\"/>\n",
       "</g>\n",
       "<!-- test_functionmiddleat0x10d554b80_2&#45;&gt;test_functionmiddleat0x10d554b80_3 -->\n",
       "</g>\n",
       "</svg>\n"
      ],
      "text/plain": [
       "<__main__.Dependencies at 0x10d68da30>"
      ]
     },
     "execution_count": 34,
     "metadata": {},
     "output_type": "execute_result"
    }
   ],
   "source": [
    "# ignore\n",
    "middle_deps().backward_slice('<middle() return value>', mode='c')  # type: ignore"
   ]
  },
  {
   "cell_type": "markdown",
   "metadata": {
    "slideshow": {
     "slide_type": "subslide"
    }
   },
   "source": [
    "### Dependency Graphs\n",
    "\n",
    "The above `<test>` values (and their statements) are in turn also dependent on earlier data, namely the `x`, `y`, and `z` values as originally passed. We can draw all data and control dependencies in a single graph, called a _program dependency graph_:"
   ]
  },
  {
   "cell_type": "code",
   "execution_count": 35,
   "metadata": {
    "execution": {
     "iopub.execute_input": "2025-10-26T17:47:18.050826Z",
     "iopub.status.busy": "2025-10-26T17:47:18.050697Z",
     "iopub.status.idle": "2025-10-26T17:47:18.435050Z",
     "shell.execute_reply": "2025-10-26T17:47:18.434696Z"
    },
    "slideshow": {
     "slide_type": "fragment"
    },
    "tags": [
     "remove-input"
    ]
   },
   "outputs": [
    {
     "data": {
      "image/svg+xml": [
       "<?xml version=\"1.0\" encoding=\"UTF-8\" standalone=\"no\"?>\n",
       "<!DOCTYPE svg PUBLIC \"-//W3C//DTD SVG 1.1//EN\"\n",
       " \"http://www.w3.org/Graphics/SVG/1.1/DTD/svg11.dtd\">\n",
       "<!-- Generated by graphviz version 14.0.2 (20251019.1705)\n",
       " -->\n",
       "<!-- Title: dependencies Pages: 1 -->\n",
       "<svg width=\"463pt\" height=\"352pt\"\n",
       " viewBox=\"0.00 0.00 463.00 352.00\" xmlns=\"http://www.w3.org/2000/svg\" xmlns:xlink=\"http://www.w3.org/1999/xlink\">\n",
       "<g id=\"graph0\" class=\"graph\" transform=\"scale(1 1) rotate(0) translate(4 348)\">\n",
       "<title>dependencies</title>\n",
       "<polygon fill=\"white\" stroke=\"none\" points=\"-4,4 -4,-348 458.65,-348 458.65,4 -4,4\"/>\n",
       "<!-- z_functionmiddleat0x10d554b80_1 -->\n",
       "<g id=\"node1\" class=\"node\">\n",
       "<title>z_functionmiddleat0x10d554b80_1</title>\n",
       "<g id=\"a_node1\"><a xlink:title=\"middle:1\">\n",
       "<polygon fill=\"peachpuff\" stroke=\"black\" points=\"428,-344 223,-344 223,-304 428,-304 428,-344\"/>\n",
       "<text xml:space=\"preserve\" text-anchor=\"start\" x=\"321.38\" y=\"-327.7\" font-family=\"Courier,monospace\" font-weight=\"bold\" font-size=\"14.00\">z</text>\n",
       "<text xml:space=\"preserve\" text-anchor=\"start\" x=\"231\" y=\"-309.45\" font-family=\"Courier,monospace\" font-size=\"9.00\">def middle(x, y, z): &#160;# type: ignore</text>\n",
       "</a>\n",
       "</g>\n",
       "</g>\n",
       "<!-- test_functionmiddleat0x10d554b80_5 -->\n",
       "<g id=\"node4\" class=\"node\">\n",
       "<title>test_functionmiddleat0x10d554b80_5</title>\n",
       "<g id=\"a_node4\"><a xlink:title=\"middle:5\">\n",
       "<polygon fill=\"peachpuff\" stroke=\"black\" points=\"219.38,-116 145.62,-116 145.62,-76 219.38,-76 219.38,-116\"/>\n",
       "<text xml:space=\"preserve\" text-anchor=\"start\" x=\"157.75\" y=\"-99.7\" font-family=\"Courier,monospace\" font-weight=\"bold\" font-style=\"italic\" font-size=\"14.00\">&lt;test&gt;</text>\n",
       "<text xml:space=\"preserve\" text-anchor=\"start\" x=\"153.62\" y=\"-81.45\" font-family=\"Courier,monospace\" font-size=\"9.00\">elif x &lt; z:</text>\n",
       "</a>\n",
       "</g>\n",
       "</g>\n",
       "<!-- z_functionmiddleat0x10d554b80_1&#45;&gt;test_functionmiddleat0x10d554b80_5 -->\n",
       "<g id=\"edge3\" class=\"edge\">\n",
       "<title>z_functionmiddleat0x10d554b80_1&#45;&gt;test_functionmiddleat0x10d554b80_5</title>\n",
       "<path fill=\"none\" stroke=\"black\" d=\"M403.32,-303.64C420.73,-295.53 437.1,-284.1 447.5,-268 457.15,-253.07 456.88,-243.1 447.5,-228 400.08,-151.66 293.55,-118.47 230.96,-105.11\"/>\n",
       "<polygon fill=\"black\" stroke=\"black\" points=\"231.79,-101.71 221.29,-103.14 230.39,-108.56 231.79,-101.71\"/>\n",
       "</g>\n",
       "<!-- test_functionmiddleat0x10d554b80_2 -->\n",
       "<g id=\"node7\" class=\"node\">\n",
       "<title>test_functionmiddleat0x10d554b80_2</title>\n",
       "<g id=\"a_node7\"><a xlink:title=\"middle:2\">\n",
       "<polygon fill=\"peachpuff\" stroke=\"black\" points=\"215.25,-268 149.75,-268 149.75,-228 215.25,-228 215.25,-268\"/>\n",
       "<text xml:space=\"preserve\" text-anchor=\"start\" x=\"157.75\" y=\"-251.7\" font-family=\"Courier,monospace\" font-weight=\"bold\" font-style=\"italic\" font-size=\"14.00\">&lt;test&gt;</text>\n",
       "<text xml:space=\"preserve\" text-anchor=\"start\" x=\"158.88\" y=\"-233.45\" font-family=\"Courier,monospace\" font-size=\"9.00\">if y &lt; z:</text>\n",
       "</a>\n",
       "</g>\n",
       "</g>\n",
       "<!-- z_functionmiddleat0x10d554b80_1&#45;&gt;test_functionmiddleat0x10d554b80_2 -->\n",
       "<g id=\"edge6\" class=\"edge\">\n",
       "<title>z_functionmiddleat0x10d554b80_1&#45;&gt;test_functionmiddleat0x10d554b80_2</title>\n",
       "<path fill=\"none\" stroke=\"black\" d=\"M281.91,-303.56C263.44,-294.42 242.06,-283.43 223.85,-273.71\"/>\n",
       "<polygon fill=\"black\" stroke=\"black\" points=\"225.61,-270.68 215.14,-269.03 222.29,-276.85 225.61,-270.68\"/>\n",
       "</g>\n",
       "<!-- z_functionmiddleat0x10d554b80_1&#45;&gt;test_functionmiddleat0x10d554b80_2 -->\n",
       "<!-- middlereturnvalue_functionmiddleat0x10d554b80_6 -->\n",
       "<g id=\"node2\" class=\"node\">\n",
       "<title>middlereturnvalue_functionmiddleat0x10d554b80_6</title>\n",
       "<g id=\"a_node2\"><a xlink:title=\"middle:6\">\n",
       "<polygon fill=\"peachpuff\" stroke=\"black\" points=\"285.38,-40 79.62,-40 79.62,0 285.38,0 285.38,-40\"/>\n",
       "<text xml:space=\"preserve\" text-anchor=\"start\" x=\"87.62\" y=\"-23.7\" font-family=\"Courier,monospace\" font-weight=\"bold\" font-style=\"italic\" font-size=\"14.00\">&lt;middle() return value&gt;</text>\n",
       "<text xml:space=\"preserve\" text-anchor=\"start\" x=\"161.5\" y=\"-5.45\" font-family=\"Courier,monospace\" font-size=\"9.00\">return y</text>\n",
       "</a>\n",
       "</g>\n",
       "</g>\n",
       "<!-- y_functionmiddleat0x10d554b80_1 -->\n",
       "<g id=\"node3\" class=\"node\">\n",
       "<title>y_functionmiddleat0x10d554b80_1</title>\n",
       "<g id=\"a_node3\"><a xlink:title=\"middle:1\">\n",
       "<polygon fill=\"peachpuff\" stroke=\"black\" points=\"205,-344 0,-344 0,-304 205,-304 205,-344\"/>\n",
       "<text xml:space=\"preserve\" text-anchor=\"start\" x=\"98.38\" y=\"-327.7\" font-family=\"Courier,monospace\" font-weight=\"bold\" font-size=\"14.00\">y</text>\n",
       "<text xml:space=\"preserve\" text-anchor=\"start\" x=\"8\" y=\"-309.45\" font-family=\"Courier,monospace\" font-size=\"9.00\">def middle(x, y, z): &#160;# type: ignore</text>\n",
       "</a>\n",
       "</g>\n",
       "</g>\n",
       "<!-- y_functionmiddleat0x10d554b80_1&#45;&gt;middlereturnvalue_functionmiddleat0x10d554b80_6 -->\n",
       "<g id=\"edge1\" class=\"edge\">\n",
       "<title>y_functionmiddleat0x10d554b80_1&#45;&gt;middlereturnvalue_functionmiddleat0x10d554b80_6</title>\n",
       "<path fill=\"none\" stroke=\"black\" d=\"M101.63,-303.76C100.43,-260.86 101.55,-154.97 136.5,-76 140.83,-66.22 147.43,-56.81 154.3,-48.62\"/>\n",
       "<polygon fill=\"black\" stroke=\"black\" points=\"156.71,-51.18 160.75,-41.39 151.48,-46.52 156.71,-51.18\"/>\n",
       "</g>\n",
       "<!-- test_functionmiddleat0x10d554b80_3 -->\n",
       "<g id=\"node6\" class=\"node\">\n",
       "<title>test_functionmiddleat0x10d554b80_3</title>\n",
       "<g id=\"a_node6\"><a xlink:title=\"middle:3\">\n",
       "<polygon fill=\"peachpuff\" stroke=\"black\" points=\"215.25,-192 149.75,-192 149.75,-152 215.25,-152 215.25,-192\"/>\n",
       "<text xml:space=\"preserve\" text-anchor=\"start\" x=\"157.75\" y=\"-175.7\" font-family=\"Courier,monospace\" font-weight=\"bold\" font-style=\"italic\" font-size=\"14.00\">&lt;test&gt;</text>\n",
       "<text xml:space=\"preserve\" text-anchor=\"start\" x=\"158.88\" y=\"-157.45\" font-family=\"Courier,monospace\" font-size=\"9.00\">if x &lt; y:</text>\n",
       "</a>\n",
       "</g>\n",
       "</g>\n",
       "<!-- y_functionmiddleat0x10d554b80_1&#45;&gt;test_functionmiddleat0x10d554b80_3 -->\n",
       "<g id=\"edge9\" class=\"edge\">\n",
       "<title>y_functionmiddleat0x10d554b80_1&#45;&gt;test_functionmiddleat0x10d554b80_3</title>\n",
       "<path fill=\"none\" stroke=\"black\" d=\"M108.48,-303.74C114.99,-284.03 126.38,-252.87 140.5,-228 145.67,-218.89 152.19,-209.61 158.54,-201.32\"/>\n",
       "<polygon fill=\"black\" stroke=\"black\" points=\"161.16,-203.66 164.62,-193.65 155.67,-199.31 161.16,-203.66\"/>\n",
       "</g>\n",
       "<!-- y_functionmiddleat0x10d554b80_1&#45;&gt;test_functionmiddleat0x10d554b80_2 -->\n",
       "<g id=\"edge7\" class=\"edge\">\n",
       "<title>y_functionmiddleat0x10d554b80_1&#45;&gt;test_functionmiddleat0x10d554b80_2</title>\n",
       "<path fill=\"none\" stroke=\"black\" d=\"M123.52,-303.56C132.61,-295.14 143.41,-285.16 153.27,-276.04\"/>\n",
       "<polygon fill=\"black\" stroke=\"black\" points=\"155.55,-278.7 160.51,-269.34 150.79,-273.56 155.55,-278.7\"/>\n",
       "</g>\n",
       "<!-- test_functionmiddleat0x10d554b80_5&#45;&gt;middlereturnvalue_functionmiddleat0x10d554b80_6 -->\n",
       "<g id=\"edge2\" class=\"edge\">\n",
       "<title>test_functionmiddleat0x10d554b80_5&#45;&gt;middlereturnvalue_functionmiddleat0x10d554b80_6</title>\n",
       "<path fill=\"none\" stroke=\"grey\" stroke-dasharray=\"5,2\" d=\"M176.48,-75.56C175.82,-68.25 175.61,-59.75 175.84,-51.67\"/>\n",
       "<polygon fill=\"grey\" stroke=\"grey\" points=\"179.32,-52.01 176.4,-41.82 172.34,-51.61 179.32,-52.01\"/>\n",
       "</g>\n",
       "<!-- test_functionmiddleat0x10d554b80_5&#45;&gt;middlereturnvalue_functionmiddleat0x10d554b80_6 -->\n",
       "<!-- x_functionmiddleat0x10d554b80_1 -->\n",
       "<g id=\"node5\" class=\"node\">\n",
       "<title>x_functionmiddleat0x10d554b80_1</title>\n",
       "<g id=\"a_node5\"><a xlink:title=\"middle:1\">\n",
       "<polygon fill=\"peachpuff\" stroke=\"black\" points=\"438,-268 233,-268 233,-228 438,-228 438,-268\"/>\n",
       "<text xml:space=\"preserve\" text-anchor=\"start\" x=\"331.38\" y=\"-251.7\" font-family=\"Courier,monospace\" font-weight=\"bold\" font-size=\"14.00\">x</text>\n",
       "<text xml:space=\"preserve\" text-anchor=\"start\" x=\"241\" y=\"-233.45\" font-family=\"Courier,monospace\" font-size=\"9.00\">def middle(x, y, z): &#160;# type: ignore</text>\n",
       "</a>\n",
       "</g>\n",
       "</g>\n",
       "<!-- x_functionmiddleat0x10d554b80_1&#45;&gt;test_functionmiddleat0x10d554b80_5 -->\n",
       "<g id=\"edge4\" class=\"edge\">\n",
       "<title>x_functionmiddleat0x10d554b80_1&#45;&gt;test_functionmiddleat0x10d554b80_5</title>\n",
       "<path fill=\"none\" stroke=\"black\" d=\"M315.81,-227.7C288.96,-201.37 240.71,-154.07 210.21,-124.17\"/>\n",
       "<polygon fill=\"black\" stroke=\"black\" points=\"212.79,-121.79 203.19,-117.29 207.88,-126.79 212.79,-121.79\"/>\n",
       "</g>\n",
       "<!-- x_functionmiddleat0x10d554b80_1&#45;&gt;test_functionmiddleat0x10d554b80_3 -->\n",
       "<g id=\"edge8\" class=\"edge\">\n",
       "<title>x_functionmiddleat0x10d554b80_1&#45;&gt;test_functionmiddleat0x10d554b80_3</title>\n",
       "<path fill=\"none\" stroke=\"black\" d=\"M295.3,-227.56C274,-217.25 247.8,-204.58 226.02,-194.05\"/>\n",
       "<polygon fill=\"black\" stroke=\"black\" points=\"227.61,-190.93 217.08,-189.73 224.56,-197.23 227.61,-190.93\"/>\n",
       "</g>\n",
       "<!-- test_functionmiddleat0x10d554b80_3&#45;&gt;test_functionmiddleat0x10d554b80_5 -->\n",
       "<g id=\"edge5\" class=\"edge\">\n",
       "<title>test_functionmiddleat0x10d554b80_3&#45;&gt;test_functionmiddleat0x10d554b80_5</title>\n",
       "<path fill=\"none\" stroke=\"grey\" stroke-dasharray=\"5,2\" d=\"M176.48,-151.56C175.82,-144.25 175.61,-135.75 175.84,-127.67\"/>\n",
       "<polygon fill=\"grey\" stroke=\"grey\" points=\"179.32,-128.01 176.4,-117.82 172.34,-127.61 179.32,-128.01\"/>\n",
       "</g>\n",
       "<!-- test_functionmiddleat0x10d554b80_3&#45;&gt;test_functionmiddleat0x10d554b80_5 -->\n",
       "<!-- test_functionmiddleat0x10d554b80_2&#45;&gt;test_functionmiddleat0x10d554b80_3 -->\n",
       "<g id=\"edge10\" class=\"edge\">\n",
       "<title>test_functionmiddleat0x10d554b80_2&#45;&gt;test_functionmiddleat0x10d554b80_3</title>\n",
       "<path fill=\"none\" stroke=\"grey\" stroke-dasharray=\"5,2\" d=\"M176.48,-227.56C175.82,-220.25 175.61,-211.75 175.84,-203.67\"/>\n",
       "<polygon fill=\"grey\" stroke=\"grey\" points=\"179.32,-204.01 176.4,-193.82 172.34,-203.61 179.32,-204.01\"/>\n",
       "</g>\n",
       "<!-- test_functionmiddleat0x10d554b80_2&#45;&gt;test_functionmiddleat0x10d554b80_3 -->\n",
       "</g>\n",
       "</svg>\n"
      ],
      "text/plain": [
       "<__main__.Dependencies at 0x10d5445a0>"
      ]
     },
     "execution_count": 35,
     "metadata": {},
     "output_type": "execute_result"
    }
   ],
   "source": [
    "# ignore\n",
    "middle_deps()"
   ]
  },
  {
   "cell_type": "markdown",
   "metadata": {
    "slideshow": {
     "slide_type": "fragment"
    }
   },
   "source": [
    "This graph now gives us an idea on how to proceed to track the origins of the `middle()` return value at the bottom. Its value can come from any of the origins – namely the initialization of `y` at the function call, or from the `<test>` that controls it. This test in turn depends on `x` and `z` and their associated statements, which we now can check one after the other."
   ]
  },
  {
   "cell_type": "markdown",
   "metadata": {
    "slideshow": {
     "slide_type": "subslide"
    }
   },
   "source": [
    "Note that all these dependencies in the graph are _dynamic_ dependencies – that is, they refer to statements actually evaluated in the run at hand, as well as the decisions made in that very run. There also are _static_ dependency graphs coming from static analysis of the code; but for debugging, _dynamic_ dependencies specific to the failing run are more useful."
   ]
  },
  {
   "cell_type": "markdown",
   "metadata": {
    "slideshow": {
     "slide_type": "subslide"
    }
   },
   "source": [
    "### Showing Dependencies with Code\n",
    "\n",
    "While a graph gives us a representation about which possible data and control flows to track, integrating dependencies with actual program code results in a compact representation that is easy to reason about."
   ]
  },
  {
   "cell_type": "markdown",
   "metadata": {
    "slideshow": {
     "slide_type": "subslide"
    }
   },
   "source": [
    "#### Excursion: Listing Dependencies"
   ]
  },
  {
   "cell_type": "markdown",
   "metadata": {
    "slideshow": {
     "slide_type": "subslide"
    }
   },
   "source": [
    "To show dependencies as text, we introduce a method `format_var()` that shows a single node (a variable) as text. By default, a node is referenced as\n",
    "\n",
    "```python\n",
    "NAME (FUNCTION:LINENO)\n",
    "```\n",
    "\n",
    "However, within a given function, it makes no sense to re-state the function name again and again, so we have a shorthand\n",
    "\n",
    "```python\n",
    "NAME (LINENO)\n",
    "```\n",
    "\n",
    "to state a dependency to variable `NAME` in line `LINENO`."
   ]
  },
  {
   "cell_type": "code",
   "execution_count": 36,
   "metadata": {
    "execution": {
     "iopub.execute_input": "2025-10-26T17:47:18.436660Z",
     "iopub.status.busy": "2025-10-26T17:47:18.436538Z",
     "iopub.status.idle": "2025-10-26T17:47:18.439200Z",
     "shell.execute_reply": "2025-10-26T17:47:18.438907Z"
    },
    "slideshow": {
     "slide_type": "subslide"
    }
   },
   "outputs": [],
   "source": [
    "class Dependencies(Dependencies):\n",
    "    def format_var(self, var: Node, current_func: Optional[Callable] = None) -> str:\n",
    "        \"\"\"Return string for `var` in `current_func`.\"\"\"\n",
    "        name, location = var\n",
    "        func, lineno = location\n",
    "        if current_func and (func == current_func or func.__name__ == current_func.__name__):\n",
    "            return f\"{name} ({lineno})\"\n",
    "        else:\n",
    "            return f\"{name} ({func.__name__}:{lineno})\""
   ]
  },
  {
   "cell_type": "markdown",
   "metadata": {
    "slideshow": {
     "slide_type": "fragment"
    }
   },
   "source": [
    "`format_var()` is used extensively in the `__str__()` string representation of dependencies, listing all nodes and their data (`<=`) and control (`<-`) dependencies."
   ]
  },
  {
   "cell_type": "code",
   "execution_count": 37,
   "metadata": {
    "execution": {
     "iopub.execute_input": "2025-10-26T17:47:18.440579Z",
     "iopub.status.busy": "2025-10-26T17:47:18.440433Z",
     "iopub.status.idle": "2025-10-26T17:47:18.444165Z",
     "shell.execute_reply": "2025-10-26T17:47:18.443906Z"
    },
    "slideshow": {
     "slide_type": "subslide"
    }
   },
   "outputs": [],
   "source": [
    "class Dependencies(Dependencies):\n",
    "    def __str__(self) -> str:\n",
    "        \"\"\"Return string representation of dependencies\"\"\"\n",
    "        self.validate()\n",
    "\n",
    "        out = \"\"\n",
    "        for func in self.all_functions():\n",
    "            code_name = func.__name__\n",
    "\n",
    "            if out != \"\":\n",
    "                out += \"\\n\"\n",
    "            out += f\"{code_name}():\\n\"\n",
    "\n",
    "            all_vars = list(set(self.data.keys()) | set(self.control.keys()))\n",
    "            all_vars.sort(key=lambda var: var[1][1])\n",
    "\n",
    "            for var in all_vars:\n",
    "                (name, location) = var\n",
    "                var_func, var_lineno = location\n",
    "                var_code_name = var_func.__name__\n",
    "\n",
    "                if var_code_name != code_name:\n",
    "                    continue\n",
    "\n",
    "                all_deps = \"\"\n",
    "                for (source, arrow) in [(self.data, \"<=\"), (self.control, \"<-\")]:\n",
    "                    deps = \"\"\n",
    "                    for data_dep in source[var]:\n",
    "                        if deps == \"\":\n",
    "                            deps = f\" {arrow} \"\n",
    "                        else:\n",
    "                            deps += \", \"\n",
    "                        deps += self.format_var(data_dep, func)\n",
    "\n",
    "                    if deps != \"\":\n",
    "                        if all_deps != \"\":\n",
    "                            all_deps += \";\"\n",
    "                        all_deps += deps\n",
    "\n",
    "                if all_deps == \"\":\n",
    "                    continue\n",
    "\n",
    "                out += (\"    \" + \n",
    "                        self.format_var(var, func) +\n",
    "                        all_deps + \"\\n\")\n",
    "\n",
    "        return out"
   ]
  },
  {
   "cell_type": "markdown",
   "metadata": {
    "slideshow": {
     "slide_type": "subslide"
    }
   },
   "source": [
    "Here is a compact string representation of dependencies. We see how the (last) `middle() return value` has a data dependency to `y` in Line 1, and to the `<test>` in Line 5."
   ]
  },
  {
   "cell_type": "code",
   "execution_count": 38,
   "metadata": {
    "execution": {
     "iopub.execute_input": "2025-10-26T17:47:18.445461Z",
     "iopub.status.busy": "2025-10-26T17:47:18.445367Z",
     "iopub.status.idle": "2025-10-26T17:47:18.447197Z",
     "shell.execute_reply": "2025-10-26T17:47:18.446945Z"
    },
    "slideshow": {
     "slide_type": "fragment"
    }
   },
   "outputs": [
    {
     "name": "stdout",
     "output_type": "stream",
     "text": [
      "middle():\n",
      "    <test> (2) <= z (1), y (1)\n",
      "    <test> (3) <= x (1), y (1); <- <test> (2)\n",
      "    <test> (5) <= z (1), x (1); <- <test> (3)\n",
      "    <middle() return value> (6) <= y (1); <- <test> (5)\n",
      "\n"
     ]
    }
   ],
   "source": [
    "print(middle_deps())"
   ]
  },
  {
   "cell_type": "markdown",
   "metadata": {
    "slideshow": {
     "slide_type": "fragment"
    }
   },
   "source": [
    "The `__repr__()` method shows a raw form of dependencies, useful for creating dependencies from scratch."
   ]
  },
  {
   "cell_type": "code",
   "execution_count": 39,
   "metadata": {
    "execution": {
     "iopub.execute_input": "2025-10-26T17:47:18.448542Z",
     "iopub.status.busy": "2025-10-26T17:47:18.448459Z",
     "iopub.status.idle": "2025-10-26T17:47:18.451480Z",
     "shell.execute_reply": "2025-10-26T17:47:18.451179Z"
    },
    "slideshow": {
     "slide_type": "subslide"
    }
   },
   "outputs": [],
   "source": [
    "class Dependencies(Dependencies):\n",
    "    def repr_var(self, var: Node) -> str:\n",
    "        name, location = var\n",
    "        func, lineno = location\n",
    "        return f\"({repr(name)}, ({func.__name__}, {lineno}))\"\n",
    "\n",
    "    def repr_deps(self, var_set: Set[Node]) -> str:\n",
    "        if len(var_set) == 0:\n",
    "            return \"set()\"\n",
    "\n",
    "        return (\"{\" +\n",
    "                \", \".join(f\"{self.repr_var(var)}\"\n",
    "                          for var in var_set) +\n",
    "                \"}\")\n",
    "\n",
    "    def repr_dependencies(self, vars: Dependency) -> str:\n",
    "        return (\"{\\n        \" +\n",
    "                \",\\n        \".join(\n",
    "                    f\"{self.repr_var(var)}: {self.repr_deps(vars[var])}\"\n",
    "                    for var in vars) +\n",
    "                \"}\")\n",
    "\n",
    "    def __repr__(self) -> str:\n",
    "        \"\"\"Represent dependencies as a Python expression\"\"\"\n",
    "        # Useful for saving and restoring values\n",
    "        return (f\"Dependencies(\\n\" +\n",
    "                f\"    data={self.repr_dependencies(self.data)},\\n\" +\n",
    "                f\" control={self.repr_dependencies(self.control)})\")"
   ]
  },
  {
   "cell_type": "code",
   "execution_count": 40,
   "metadata": {
    "execution": {
     "iopub.execute_input": "2025-10-26T17:47:18.452845Z",
     "iopub.status.busy": "2025-10-26T17:47:18.452707Z",
     "iopub.status.idle": "2025-10-26T17:47:18.454653Z",
     "shell.execute_reply": "2025-10-26T17:47:18.454379Z"
    },
    "slideshow": {
     "slide_type": "subslide"
    }
   },
   "outputs": [
    {
     "name": "stdout",
     "output_type": "stream",
     "text": [
      "Dependencies(\n",
      "    data={\n",
      "        ('z', (middle, 1)): set(),\n",
      "        ('y', (middle, 1)): set(),\n",
      "        ('x', (middle, 1)): set(),\n",
      "        ('<test>', (middle, 2)): {('z', (middle, 1)), ('y', (middle, 1))},\n",
      "        ('<test>', (middle, 3)): {('x', (middle, 1)), ('y', (middle, 1))},\n",
      "        ('<test>', (middle, 5)): {('z', (middle, 1)), ('x', (middle, 1))},\n",
      "        ('<middle() return value>', (middle, 6)): {('y', (middle, 1))}},\n",
      " control={\n",
      "        ('z', (middle, 1)): set(),\n",
      "        ('y', (middle, 1)): set(),\n",
      "        ('x', (middle, 1)): set(),\n",
      "        ('<test>', (middle, 2)): set(),\n",
      "        ('<test>', (middle, 3)): {('<test>', (middle, 2))},\n",
      "        ('<test>', (middle, 5)): {('<test>', (middle, 3))},\n",
      "        ('<middle() return value>', (middle, 6)): {('<test>', (middle, 5))}})\n"
     ]
    }
   ],
   "source": [
    "print(repr(middle_deps()))"
   ]
  },
  {
   "cell_type": "markdown",
   "metadata": {
    "slideshow": {
     "slide_type": "subslide"
    }
   },
   "source": [
    "An even more useful representation comes when integrating these dependencies as comments into the code. The method `code(item_1, item_2, ...)` lists the given (function) items, including their dependencies; `code()` lists _all_ functions contained in the dependencies."
   ]
  },
  {
   "cell_type": "code",
   "execution_count": 41,
   "metadata": {
    "execution": {
     "iopub.execute_input": "2025-10-26T17:47:18.455963Z",
     "iopub.status.busy": "2025-10-26T17:47:18.455866Z",
     "iopub.status.idle": "2025-10-26T17:47:18.459884Z",
     "shell.execute_reply": "2025-10-26T17:47:18.459604Z"
    },
    "slideshow": {
     "slide_type": "subslide"
    }
   },
   "outputs": [],
   "source": [
    "class Dependencies(Dependencies):\n",
    "    def code(self, *items: Callable, mode: str = 'cd') -> None:\n",
    "        \"\"\"\n",
    "        List `items` on standard output, including dependencies as comments. \n",
    "        If `items` is empty, all included functions are listed.\n",
    "        `mode` can contain 'c' (draw control dependencies) and 'd' (draw data dependencies)\n",
    "        (default: 'cd').\n",
    "        \"\"\"\n",
    "\n",
    "        if len(items) == 0:\n",
    "            items = cast(Tuple[Callable], self.all_functions().keys())\n",
    "\n",
    "        for i, item in enumerate(items):\n",
    "            if i > 0:\n",
    "                print()\n",
    "            self._code(item, mode)\n",
    "\n",
    "    def _code(self, item: Callable, mode: str) -> None:\n",
    "        # The functions in dependencies may be (instrumented) copies\n",
    "        # of the original function. Find the function with the same name.\n",
    "        func = item\n",
    "        for fn in self.all_functions():\n",
    "            if fn == item or fn.__name__ == item.__name__:\n",
    "                func = fn\n",
    "                break\n",
    "\n",
    "        all_vars = self.all_vars()\n",
    "        slice_locations = set(location for (name, location) in all_vars)\n",
    "\n",
    "        source_lines, first_lineno = inspect.getsourcelines(func)\n",
    "\n",
    "        n = first_lineno\n",
    "        for line in source_lines:\n",
    "            line_location = (func, n)\n",
    "            if line_location in slice_locations:\n",
    "                prefix = \"* \"\n",
    "            else:\n",
    "                prefix = \"  \"\n",
    "\n",
    "            print(f\"{prefix}{n:4} \", end=\"\")\n",
    "\n",
    "            comment = \"\"\n",
    "            for (mode_control, source, arrow) in [\n",
    "                ('d', self.data, '<='),\n",
    "                ('c', self.control, '<-')\n",
    "            ]:\n",
    "                if mode_control not in mode:\n",
    "                    continue\n",
    "\n",
    "                deps = \"\"\n",
    "                for var in source:\n",
    "                    name, location = var\n",
    "                    if location == line_location:\n",
    "                        for dep_var in source[var]:\n",
    "                            if deps == \"\":\n",
    "                                deps = arrow + \" \"\n",
    "                            else:\n",
    "                                deps += \", \"\n",
    "                            deps += self.format_var(dep_var, item)\n",
    "\n",
    "                if deps != \"\":\n",
    "                    if comment != \"\":\n",
    "                        comment += \"; \"\n",
    "                    comment += deps\n",
    "\n",
    "            if comment != \"\":\n",
    "                line = line.rstrip() + \"  # \" + comment\n",
    "\n",
    "            print_content(line.rstrip(), '.py')\n",
    "            print()\n",
    "            n += 1"
   ]
  },
  {
   "cell_type": "markdown",
   "metadata": {
    "slideshow": {
     "slide_type": "subslide"
    }
   },
   "source": [
    "#### End of Excursion"
   ]
  },
  {
   "cell_type": "markdown",
   "metadata": {
    "slideshow": {
     "slide_type": "subslide"
    }
   },
   "source": [
    "The following listing shows such an integration. For each executed line (`*`), we see its data (`<=`) and control (`<-`) dependencies, listing the associated variables and line numbers. The comment\n",
    "\n",
    "```python\n",
    "# <= y (1); <- <test> (5)\n",
    "```\n",
    "\n",
    "for Line 6, for instance, states that the return value is data dependent on the value of `y` in Line 1, and control dependent on the test in Line 5.\n",
    "\n",
    "Again, one can easily follow these dependencies back to track where a value came from (data dependencies) and why a statement was executed (control dependency)."
   ]
  },
  {
   "cell_type": "code",
   "execution_count": 42,
   "metadata": {
    "execution": {
     "iopub.execute_input": "2025-10-26T17:47:18.461112Z",
     "iopub.status.busy": "2025-10-26T17:47:18.461027Z",
     "iopub.status.idle": "2025-10-26T17:47:18.637922Z",
     "shell.execute_reply": "2025-10-26T17:47:18.637628Z"
    },
    "slideshow": {
     "slide_type": "subslide"
    },
    "tags": [
     "remove-input"
    ]
   },
   "outputs": [
    {
     "name": "stdout",
     "output_type": "stream",
     "text": [
      "*    1 \u001b[34mdef\u001b[39;49;00m\u001b[37m \u001b[39;49;00m\u001b[32mmiddle\u001b[39;49;00m(x, y, z):  \u001b[37m# type: ignore\u001b[39;49;00m\u001b[37m\u001b[39;49;00m\n",
      "*    2     \u001b[34mif\u001b[39;49;00m y < z:  \u001b[37m# <= z (1), y (1)\u001b[39;49;00m\u001b[37m\u001b[39;49;00m\n",
      "*    3         \u001b[34mif\u001b[39;49;00m x < y:  \u001b[37m# <= x (1), y (1); <- <test> (2)\u001b[39;49;00m\u001b[37m\u001b[39;49;00m\n",
      "     4             \u001b[34mreturn\u001b[39;49;00m y\u001b[37m\u001b[39;49;00m\n",
      "*    5         \u001b[34melif\u001b[39;49;00m x < z:  \u001b[37m# <= z (1), x (1); <- <test> (3)\u001b[39;49;00m\u001b[37m\u001b[39;49;00m\n",
      "*    6             \u001b[34mreturn\u001b[39;49;00m y  \u001b[37m# <= y (1); <- <test> (5)\u001b[39;49;00m\u001b[37m\u001b[39;49;00m\n",
      "     7     \u001b[34melse\u001b[39;49;00m:\u001b[37m\u001b[39;49;00m\n",
      "     8         \u001b[34mif\u001b[39;49;00m x > y:\u001b[37m\u001b[39;49;00m\n",
      "     9             \u001b[34mreturn\u001b[39;49;00m y\u001b[37m\u001b[39;49;00m\n",
      "    10         \u001b[34melif\u001b[39;49;00m x > z:\u001b[37m\u001b[39;49;00m\n",
      "    11             \u001b[34mreturn\u001b[39;49;00m x\u001b[37m\u001b[39;49;00m\n",
      "    12     \u001b[34mreturn\u001b[39;49;00m z\u001b[37m\u001b[39;49;00m\n"
     ]
    }
   ],
   "source": [
    "# ignore\n",
    "middle_deps().code()  # type: ignore"
   ]
  },
  {
   "cell_type": "markdown",
   "metadata": {
    "slideshow": {
     "slide_type": "subslide"
    }
   },
   "source": [
    "One important aspect of dependencies is that they not only point to specific sources and causes of failures – but that they also _rule out_ parts of program and state as failures.\n",
    "\n",
    "* In the above code, Lines 8 and later have no influence on the output, simply because they were not executed.\n",
    "* Furthermore, we see that we can start our investigation with Line 6, because that is the last one executed.\n",
    "* The data dependencies tell us that no statement has interfered with the value of `y` between the function call and its return.\n",
    "* Hence, the error must be in the conditions or the final `return` statement.\n",
    "\n",
    "With this in mind, recall that our original invocation was `middle(2, 1, 3)`. Why and how is the above code wrong?"
   ]
  },
  {
   "cell_type": "code",
   "execution_count": 43,
   "metadata": {
    "execution": {
     "iopub.execute_input": "2025-10-26T17:47:18.639347Z",
     "iopub.status.busy": "2025-10-26T17:47:18.639256Z",
     "iopub.status.idle": "2025-10-26T17:47:18.643529Z",
     "shell.execute_reply": "2025-10-26T17:47:18.643287Z"
    },
    "slideshow": {
     "slide_type": "subslide"
    },
    "tags": [
     "remove-input"
    ]
   },
   "outputs": [
    {
     "data": {
      "text/html": [
       "\n",
       "    \n",
       "    <script>\n",
       "    var bad_answers = new Map();\n",
       "\n",
       "    function answer(quiz_id) {\n",
       "        ans = 0;\n",
       "        for (i = 1;; i++) {\n",
       "            checkbox = document.getElementById(quiz_id + \"-\" + i.toString());\n",
       "            if (!checkbox)\n",
       "                break;\n",
       "            if (checkbox.checked)\n",
       "                ans |= (1 << i);\n",
       "        }\n",
       "        return ans;\n",
       "    }\n",
       "    function check_selection(quiz_id, correct_answer, multiple_choice, hint) {\n",
       "        given_answer = answer(quiz_id);\n",
       "        if (given_answer == correct_answer)\n",
       "        {\n",
       "            document.getElementById(quiz_id + \"-submit\").value = \"Correct!\";\n",
       "            document.getElementById(quiz_id + \"-hint\").innerHTML = \"\";\n",
       "\n",
       "            for (i = 1;; i++) {\n",
       "                checkbox = document.getElementById(quiz_id + \"-\" + i.toString());\n",
       "                label = document.getElementById(quiz_id + \"-\" + i.toString() + \"-label\")\n",
       "                if (!checkbox)\n",
       "                    break;\n",
       "\n",
       "                if (checkbox.checked) {\n",
       "                    label.style.fontWeight = \"bold\";\n",
       "                }\n",
       "                else {\n",
       "                    label.style.textDecoration = \"line-through\";\n",
       "                }\n",
       "            }\n",
       "        }\n",
       "        else \n",
       "        {\n",
       "            document.getElementById(quiz_id + \"-submit\").value = \"Try again\";\n",
       "\n",
       "            if (!bad_answers.has(quiz_id)) {\n",
       "                bad_answers.set(quiz_id, 1);\n",
       "            }\n",
       "            else {\n",
       "                bad_answers.set(quiz_id, bad_answers.get(quiz_id) + 1);\n",
       "            }\n",
       "\n",
       "            if (bad_answers.get(quiz_id) >= 2 && hint.length > 0) {\n",
       "                document.getElementById(quiz_id + \"-hint\").innerHTML = \n",
       "                    \"&nbsp;&nbsp;(Hint: <code>\" + hint + \"</code>)\";\n",
       "            }\n",
       "\n",
       "            if (!multiple_choice) {\n",
       "                for (i = 1;; i++) {\n",
       "                    checkbox = document.getElementById(quiz_id + \"-\" + i.toString());\n",
       "                    label = document.getElementById(quiz_id + \"-\" + i.toString() + \"-label\")\n",
       "\n",
       "                    if (!checkbox)\n",
       "                        break;\n",
       "                    if (checkbox.checked) {\n",
       "                        label.style.textDecoration = \"line-through\";\n",
       "                    }\n",
       "                }\n",
       "            }\n",
       "        }\n",
       "    }\n",
       "    function clear_selection(quiz_id) {\n",
       "        document.getElementById(quiz_id + \"-submit\").value = \"Submit\";\n",
       "        document.getElementById(quiz_id + \"-hint\").innerHTML = \"\";\n",
       "    }\n",
       "    </script>\n",
       "    \n",
       "    <div class=\"quiz\">\n",
       "    <h3 class=\"quiz_title\">Quiz</h3>\n",
       "    <p>\n",
       "    <div class=\"quiz_question\">Which of the following <code>middle()</code> code lines should be fixed?</div>\n",
       "    </p>\n",
       "    <p>\n",
       "    <div class=\"quiz_options\" title=\"Pick a choice.\">\n",
       "    \n",
       "        <input type=\"radio\" name=\"d11779f6-b293-11f0-938a-6298cf1a5790\" id=\"d11779f6-b293-11f0-938a-6298cf1a5790-1\" onclick=\"clear_selection('d11779f6-b293-11f0-938a-6298cf1a5790')\">\n",
       "        <label id=\"d11779f6-b293-11f0-938a-6298cf1a5790-1-label\" for=\"d11779f6-b293-11f0-938a-6298cf1a5790-1\">Line 2: <code>if y &lt; z:</code></label><br>\n",
       "    \n",
       "        <input type=\"radio\" name=\"d11779f6-b293-11f0-938a-6298cf1a5790\" id=\"d11779f6-b293-11f0-938a-6298cf1a5790-2\" onclick=\"clear_selection('d11779f6-b293-11f0-938a-6298cf1a5790')\">\n",
       "        <label id=\"d11779f6-b293-11f0-938a-6298cf1a5790-2-label\" for=\"d11779f6-b293-11f0-938a-6298cf1a5790-2\">Line 3: <code>if x &lt; y:</code></label><br>\n",
       "    \n",
       "        <input type=\"radio\" name=\"d11779f6-b293-11f0-938a-6298cf1a5790\" id=\"d11779f6-b293-11f0-938a-6298cf1a5790-3\" onclick=\"clear_selection('d11779f6-b293-11f0-938a-6298cf1a5790')\">\n",
       "        <label id=\"d11779f6-b293-11f0-938a-6298cf1a5790-3-label\" for=\"d11779f6-b293-11f0-938a-6298cf1a5790-3\">Line 5: <code>elif x &lt; z:</code></label><br>\n",
       "    \n",
       "        <input type=\"radio\" name=\"d11779f6-b293-11f0-938a-6298cf1a5790\" id=\"d11779f6-b293-11f0-938a-6298cf1a5790-4\" onclick=\"clear_selection('d11779f6-b293-11f0-938a-6298cf1a5790')\">\n",
       "        <label id=\"d11779f6-b293-11f0-938a-6298cf1a5790-4-label\" for=\"d11779f6-b293-11f0-938a-6298cf1a5790-4\">Line 6: <code>return z</code></label><br>\n",
       "    \n",
       "    </div>\n",
       "    </p>\n",
       "    <input id=\"d11779f6-b293-11f0-938a-6298cf1a5790-submit\" type=\"submit\" value=\"Submit\" onclick=\"check_selection('d11779f6-b293-11f0-938a-6298cf1a5790', 16, 0, '(1 ** 0 + 1 ** 1) ** (1 ** 2 + 1 ** 3)')\">\n",
       "    <span class=\"quiz_hint\" id=\"d11779f6-b293-11f0-938a-6298cf1a5790-hint\"></span>\n",
       "    </div>\n",
       "    "
      ],
      "text/plain": [
       "<IPython.core.display.HTML object>"
      ]
     },
     "execution_count": 43,
     "metadata": {},
     "output_type": "execute_result"
    }
   ],
   "source": [
    "quiz(\"Which of the following `middle()` code lines should be fixed?\",\n",
    "    [\n",
    "        \"Line 2: `if y < z:`\",\n",
    "        \"Line 3: `if x < y:`\",\n",
    "        \"Line 5: `elif x < z:`\",\n",
    "        \"Line 6: `return z`\",\n",
    "    ], '(1 ** 0 + 1 ** 1) ** (1 ** 2 + 1 ** 3)')"
   ]
  },
  {
   "cell_type": "markdown",
   "metadata": {
    "slideshow": {
     "slide_type": "fragment"
    }
   },
   "source": [
    "Indeed, from the controlling conditions, we see that `y < z`, `x >= y`, and `x < z` all hold. Hence, `y <= x < z` holds, and it is `x`, not `y`, that should be returned."
   ]
  },
  {
   "cell_type": "markdown",
   "metadata": {
    "slideshow": {
     "slide_type": "slide"
    }
   },
   "source": [
    "## Slices\n",
    "\n",
    "Given a dependency graph for a particular variable, we can identify the subset of the program that could have influenced it – the so-called _slice_. In the above code listing, these code locations are highlighted with `*` characters. Only these locations are part of the slice."
   ]
  },
  {
   "attachments": {},
   "cell_type": "markdown",
   "metadata": {
    "slideshow": {
     "slide_type": "subslide"
    }
   },
   "source": [
    "Slices are central to debugging for two reasons:\n",
    "\n",
    "* First, they _rule out_ those locations of the program that could _not_ have an effect on the failure. Hence, these locations need not be investigated as it comes to searching for the defect. Nor do they need to be considered for a fix, as any change outside the program slice by construction cannot affect the failure.\n",
    "* Second, they bring together possible origins that may be scattered across the code. Many dependencies in program code are _non-local_, with references to functions, classes, and modules defined in other locations, files, or libraries. A slice brings together all those locations in a single whole."
   ]
  },
  {
   "cell_type": "markdown",
   "metadata": {
    "slideshow": {
     "slide_type": "subslide"
    }
   },
   "source": [
    "Here is an example of a slice – this time for our well-known `remove_html_markup()` function from [the introduction to debugging](Intro_Debugging.ipynb):"
   ]
  },
  {
   "cell_type": "code",
   "execution_count": 44,
   "metadata": {
    "execution": {
     "iopub.execute_input": "2025-10-26T17:47:18.644846Z",
     "iopub.status.busy": "2025-10-26T17:47:18.644763Z",
     "iopub.status.idle": "2025-10-26T17:47:18.646335Z",
     "shell.execute_reply": "2025-10-26T17:47:18.646091Z"
    },
    "slideshow": {
     "slide_type": "skip"
    }
   },
   "outputs": [],
   "source": [
    "from Intro_Debugging import remove_html_markup"
   ]
  },
  {
   "cell_type": "code",
   "execution_count": 45,
   "metadata": {
    "execution": {
     "iopub.execute_input": "2025-10-26T17:47:18.647743Z",
     "iopub.status.busy": "2025-10-26T17:47:18.647637Z",
     "iopub.status.idle": "2025-10-26T17:47:18.661471Z",
     "shell.execute_reply": "2025-10-26T17:47:18.661199Z"
    },
    "slideshow": {
     "slide_type": "subslide"
    }
   },
   "outputs": [
    {
     "name": "stdout",
     "output_type": "stream",
     "text": [
      "\u001b[34mdef\u001b[39;49;00m\u001b[37m \u001b[39;49;00m\u001b[32mremove_html_markup\u001b[39;49;00m(s):  \u001b[37m# type: ignore\u001b[39;49;00m\u001b[37m\u001b[39;49;00m\n",
      "    tag = \u001b[34mFalse\u001b[39;49;00m\u001b[37m\u001b[39;49;00m\n",
      "    quote = \u001b[34mFalse\u001b[39;49;00m\u001b[37m\u001b[39;49;00m\n",
      "    out = \u001b[33m\"\u001b[39;49;00m\u001b[33m\"\u001b[39;49;00m\u001b[37m\u001b[39;49;00m\n",
      "\u001b[37m\u001b[39;49;00m\n",
      "    \u001b[34mfor\u001b[39;49;00m c \u001b[35min\u001b[39;49;00m s:\u001b[37m\u001b[39;49;00m\n",
      "        \u001b[34massert\u001b[39;49;00m tag \u001b[35mor\u001b[39;49;00m \u001b[35mnot\u001b[39;49;00m quote\u001b[37m\u001b[39;49;00m\n",
      "\u001b[37m\u001b[39;49;00m\n",
      "        \u001b[34mif\u001b[39;49;00m c == \u001b[33m'\u001b[39;49;00m\u001b[33m<\u001b[39;49;00m\u001b[33m'\u001b[39;49;00m \u001b[35mand\u001b[39;49;00m \u001b[35mnot\u001b[39;49;00m quote:\u001b[37m\u001b[39;49;00m\n",
      "            tag = \u001b[34mTrue\u001b[39;49;00m\u001b[37m\u001b[39;49;00m\n",
      "        \u001b[34melif\u001b[39;49;00m c == \u001b[33m'\u001b[39;49;00m\u001b[33m>\u001b[39;49;00m\u001b[33m'\u001b[39;49;00m \u001b[35mand\u001b[39;49;00m \u001b[35mnot\u001b[39;49;00m quote:\u001b[37m\u001b[39;49;00m\n",
      "            tag = \u001b[34mFalse\u001b[39;49;00m\u001b[37m\u001b[39;49;00m\n",
      "        \u001b[34melif\u001b[39;49;00m (c == \u001b[33m'\u001b[39;49;00m\u001b[33m\"\u001b[39;49;00m\u001b[33m'\u001b[39;49;00m \u001b[35mor\u001b[39;49;00m c == \u001b[33m\"\u001b[39;49;00m\u001b[33m'\u001b[39;49;00m\u001b[33m\"\u001b[39;49;00m) \u001b[35mand\u001b[39;49;00m tag:\u001b[37m\u001b[39;49;00m\n",
      "            quote = \u001b[35mnot\u001b[39;49;00m quote\u001b[37m\u001b[39;49;00m\n",
      "        \u001b[34melif\u001b[39;49;00m \u001b[35mnot\u001b[39;49;00m tag:\u001b[37m\u001b[39;49;00m\n",
      "            out = out + c\u001b[37m\u001b[39;49;00m\n",
      "\u001b[37m\u001b[39;49;00m\n",
      "    \u001b[34mreturn\u001b[39;49;00m out\u001b[37m\u001b[39;49;00m"
     ]
    }
   ],
   "source": [
    "print_content(inspect.getsource(remove_html_markup), '.py')"
   ]
  },
  {
   "cell_type": "markdown",
   "metadata": {
    "slideshow": {
     "slide_type": "subslide"
    }
   },
   "source": [
    "When we invoke `remove_html_markup()` as follows..."
   ]
  },
  {
   "cell_type": "code",
   "execution_count": 46,
   "metadata": {
    "execution": {
     "iopub.execute_input": "2025-10-26T17:47:18.662776Z",
     "iopub.status.busy": "2025-10-26T17:47:18.662676Z",
     "iopub.status.idle": "2025-10-26T17:47:18.664751Z",
     "shell.execute_reply": "2025-10-26T17:47:18.664541Z"
    },
    "slideshow": {
     "slide_type": "fragment"
    }
   },
   "outputs": [
    {
     "data": {
      "text/plain": [
       "'bar'"
      ]
     },
     "execution_count": 46,
     "metadata": {},
     "output_type": "execute_result"
    }
   ],
   "source": [
    "remove_html_markup('<foo>bar</foo>')"
   ]
  },
  {
   "cell_type": "markdown",
   "metadata": {
    "slideshow": {
     "slide_type": "fragment"
    }
   },
   "source": [
    "... we obtain the following dependencies:"
   ]
  },
  {
   "cell_type": "code",
   "execution_count": 47,
   "metadata": {
    "execution": {
     "iopub.execute_input": "2025-10-26T17:47:18.666167Z",
     "iopub.status.busy": "2025-10-26T17:47:18.666085Z",
     "iopub.status.idle": "2025-10-26T17:47:18.669878Z",
     "shell.execute_reply": "2025-10-26T17:47:18.669669Z"
    },
    "slideshow": {
     "slide_type": "fragment"
    },
    "tags": [
     "remove-input"
    ]
   },
   "outputs": [],
   "source": [
    "# ignore\n",
    "def remove_html_markup_deps() -> Dependencies:\n",
    "    return Dependencies({('s', (remove_html_markup, 136)): set(), ('tag', (remove_html_markup, 137)): set(), ('quote', (remove_html_markup, 138)): set(), ('out', (remove_html_markup, 139)): set(), ('c', (remove_html_markup, 141)): {('s', (remove_html_markup, 136))}, ('<test>', (remove_html_markup, 144)): {('quote', (remove_html_markup, 138)), ('c', (remove_html_markup, 141))}, ('tag', (remove_html_markup, 145)): set(), ('<test>', (remove_html_markup, 146)): {('quote', (remove_html_markup, 138)), ('c', (remove_html_markup, 141))}, ('<test>', (remove_html_markup, 148)): {('c', (remove_html_markup, 141))}, ('<test>', (remove_html_markup, 150)): {('tag', (remove_html_markup, 147)), ('tag', (remove_html_markup, 145))}, ('tag', (remove_html_markup, 147)): set(), ('out', (remove_html_markup, 151)): {('out', (remove_html_markup, 151)), ('c', (remove_html_markup, 141)), ('out', (remove_html_markup, 139))}, ('<remove_html_markup() return value>', (remove_html_markup, 153)): {('<test>', (remove_html_markup, 146)), ('out', (remove_html_markup, 151))}}, {('s', (remove_html_markup, 136)): set(), ('tag', (remove_html_markup, 137)): set(), ('quote', (remove_html_markup, 138)): set(), ('out', (remove_html_markup, 139)): set(), ('c', (remove_html_markup, 141)): set(), ('<test>', (remove_html_markup, 144)): set(), ('tag', (remove_html_markup, 145)): {('<test>', (remove_html_markup, 144))}, ('<test>', (remove_html_markup, 146)): {('<test>', (remove_html_markup, 144))}, ('<test>', (remove_html_markup, 148)): {('<test>', (remove_html_markup, 146))}, ('<test>', (remove_html_markup, 150)): {('<test>', (remove_html_markup, 148))}, ('tag', (remove_html_markup, 147)): {('<test>', (remove_html_markup, 146))}, ('out', (remove_html_markup, 151)): {('<test>', (remove_html_markup, 150))}, ('<remove_html_markup() return value>', (remove_html_markup, 153)): set()})"
   ]
  },
  {
   "cell_type": "code",
   "execution_count": 48,
   "metadata": {
    "execution": {
     "iopub.execute_input": "2025-10-26T17:47:18.671020Z",
     "iopub.status.busy": "2025-10-26T17:47:18.670940Z",
     "iopub.status.idle": "2025-10-26T17:47:19.011097Z",
     "shell.execute_reply": "2025-10-26T17:47:19.010776Z"
    },
    "slideshow": {
     "slide_type": "fragment"
    },
    "tags": [
     "remove-input"
    ]
   },
   "outputs": [
    {
     "data": {
      "image/svg+xml": [
       "<?xml version=\"1.0\" encoding=\"UTF-8\" standalone=\"no\"?>\n",
       "<!DOCTYPE svg PUBLIC \"-//W3C//DTD SVG 1.1//EN\"\n",
       " \"http://www.w3.org/Graphics/SVG/1.1/DTD/svg11.dtd\">\n",
       "<!-- Generated by graphviz version 14.0.2 (20251019.1705)\n",
       " -->\n",
       "<!-- Title: dependencies Pages: 1 -->\n",
       "<svg width=\"395pt\" height=\"960pt\"\n",
       " viewBox=\"0.00 0.00 395.00 960.00\" xmlns=\"http://www.w3.org/2000/svg\" xmlns:xlink=\"http://www.w3.org/1999/xlink\">\n",
       "<g id=\"graph0\" class=\"graph\" transform=\"scale(1 1) rotate(0) translate(4 956)\">\n",
       "<title>dependencies</title>\n",
       "<polygon fill=\"white\" stroke=\"none\" points=\"-4,4 -4,-956 390.79,-956 390.79,4 -4,4\"/>\n",
       "<!-- test_functionremove_html_markupat0x10d6c2480_148 -->\n",
       "<g id=\"node1\" class=\"node\">\n",
       "<title>test_functionremove_html_markupat0x10d6c2480_148</title>\n",
       "<g id=\"a_node1\"><a xlink:title=\"remove_html_markup:148\">\n",
       "<polygon fill=\"peachpuff\" stroke=\"black\" points=\"254.79,-268 123.29,-268 123.29,-228 254.79,-228 254.79,-268\"/>\n",
       "<text xml:space=\"preserve\" text-anchor=\"start\" x=\"164.29\" y=\"-251.7\" font-family=\"Courier,monospace\" font-weight=\"bold\" font-style=\"italic\" font-size=\"14.00\">&lt;test&gt;</text>\n",
       "<text xml:space=\"preserve\" text-anchor=\"start\" x=\"131.29\" y=\"-233.45\" font-family=\"Courier,monospace\" font-size=\"9.00\">&lt;remove_html_markup()&gt;</text>\n",
       "</a>\n",
       "</g>\n",
       "</g>\n",
       "<!-- test_functionremove_html_markupat0x10d6c2480_150 -->\n",
       "<g id=\"node4\" class=\"node\">\n",
       "<title>test_functionremove_html_markupat0x10d6c2480_150</title>\n",
       "<g id=\"a_node4\"><a xlink:title=\"remove_html_markup:150\">\n",
       "<polygon fill=\"peachpuff\" stroke=\"black\" points=\"254.79,-192 123.29,-192 123.29,-152 254.79,-152 254.79,-192\"/>\n",
       "<text xml:space=\"preserve\" text-anchor=\"start\" x=\"164.29\" y=\"-175.7\" font-family=\"Courier,monospace\" font-weight=\"bold\" font-style=\"italic\" font-size=\"14.00\">&lt;test&gt;</text>\n",
       "<text xml:space=\"preserve\" text-anchor=\"start\" x=\"131.29\" y=\"-157.45\" font-family=\"Courier,monospace\" font-size=\"9.00\">&lt;remove_html_markup()&gt;</text>\n",
       "</a>\n",
       "</g>\n",
       "</g>\n",
       "<!-- test_functionremove_html_markupat0x10d6c2480_148&#45;&gt;test_functionremove_html_markupat0x10d6c2480_150 -->\n",
       "<g id=\"edge5\" class=\"edge\">\n",
       "<title>test_functionremove_html_markupat0x10d6c2480_148&#45;&gt;test_functionremove_html_markupat0x10d6c2480_150</title>\n",
       "<path fill=\"none\" stroke=\"grey\" stroke-dasharray=\"5,2\" d=\"M183.02,-227.56C182.36,-220.25 182.15,-211.75 182.38,-203.67\"/>\n",
       "<polygon fill=\"grey\" stroke=\"grey\" points=\"185.86,-204.01 182.94,-193.82 178.87,-203.61 185.86,-204.01\"/>\n",
       "</g>\n",
       "<!-- test_functionremove_html_markupat0x10d6c2480_148&#45;&gt;test_functionremove_html_markupat0x10d6c2480_150 -->\n",
       "<!-- c_functionremove_html_markupat0x10d6c2480_141 -->\n",
       "<g id=\"node2\" class=\"node\">\n",
       "<title>c_functionremove_html_markupat0x10d6c2480_141</title>\n",
       "<g id=\"a_node2\"><a xlink:title=\"remove_html_markup:141\">\n",
       "<polygon fill=\"peachpuff\" stroke=\"black\" points=\"292.79,-648 161.29,-648 161.29,-608 292.79,-608 292.79,-648\"/>\n",
       "<text xml:space=\"preserve\" text-anchor=\"start\" x=\"222.91\" y=\"-631.7\" font-family=\"Courier,monospace\" font-weight=\"bold\" font-size=\"14.00\">c</text>\n",
       "<text xml:space=\"preserve\" text-anchor=\"start\" x=\"169.29\" y=\"-613.45\" font-family=\"Courier,monospace\" font-size=\"9.00\">&lt;remove_html_markup()&gt;</text>\n",
       "</a>\n",
       "</g>\n",
       "</g>\n",
       "<!-- c_functionremove_html_markupat0x10d6c2480_141&#45;&gt;test_functionremove_html_markupat0x10d6c2480_148 -->\n",
       "<g id=\"edge1\" class=\"edge\">\n",
       "<title>c_functionremove_html_markupat0x10d6c2480_141&#45;&gt;test_functionremove_html_markupat0x10d6c2480_148</title>\n",
       "<path fill=\"none\" stroke=\"black\" d=\"M244.25,-607.61C251.91,-597.69 260.08,-584.99 264.04,-572 279.08,-522.69 272.95,-506.78 264.04,-456 252.5,-390.27 221.82,-317.92 203.47,-278.55\"/>\n",
       "<polygon fill=\"black\" stroke=\"black\" points=\"206.73,-277.26 199.29,-269.72 200.4,-280.26 206.73,-277.26\"/>\n",
       "</g>\n",
       "<!-- test_functionremove_html_markupat0x10d6c2480_146 -->\n",
       "<g id=\"node3\" class=\"node\">\n",
       "<title>test_functionremove_html_markupat0x10d6c2480_146</title>\n",
       "<g id=\"a_node3\"><a xlink:title=\"remove_html_markup:146\">\n",
       "<polygon fill=\"peachpuff\" stroke=\"black\" points=\"160.79,-420 29.29,-420 29.29,-380 160.79,-380 160.79,-420\"/>\n",
       "<text xml:space=\"preserve\" text-anchor=\"start\" x=\"70.29\" y=\"-403.7\" font-family=\"Courier,monospace\" font-weight=\"bold\" font-style=\"italic\" font-size=\"14.00\">&lt;test&gt;</text>\n",
       "<text xml:space=\"preserve\" text-anchor=\"start\" x=\"37.29\" y=\"-385.45\" font-family=\"Courier,monospace\" font-size=\"9.00\">&lt;remove_html_markup()&gt;</text>\n",
       "</a>\n",
       "</g>\n",
       "</g>\n",
       "<!-- c_functionremove_html_markupat0x10d6c2480_141&#45;&gt;test_functionremove_html_markupat0x10d6c2480_146 -->\n",
       "<g id=\"edge14\" class=\"edge\">\n",
       "<title>c_functionremove_html_markupat0x10d6c2480_141&#45;&gt;test_functionremove_html_markupat0x10d6c2480_146</title>\n",
       "<path fill=\"none\" stroke=\"black\" d=\"M163.19,-607.53C145.03,-599.2 126.75,-587.68 114.04,-572 81.78,-532.22 84.21,-469.03 89.33,-431.62\"/>\n",
       "<polygon fill=\"black\" stroke=\"black\" points=\"92.76,-432.36 90.82,-421.94 85.84,-431.3 92.76,-432.36\"/>\n",
       "</g>\n",
       "<!-- out_functionremove_html_markupat0x10d6c2480_151 -->\n",
       "<g id=\"node7\" class=\"node\">\n",
       "<title>out_functionremove_html_markupat0x10d6c2480_151</title>\n",
       "<g id=\"a_node7\"><a xlink:title=\"remove_html_markup:151\">\n",
       "<polygon fill=\"peachpuff\" stroke=\"black\" points=\"254.79,-116 123.29,-116 123.29,-76 254.79,-76 254.79,-116\"/>\n",
       "<text xml:space=\"preserve\" text-anchor=\"start\" x=\"176.66\" y=\"-99.7\" font-family=\"Courier,monospace\" font-weight=\"bold\" font-size=\"14.00\">out</text>\n",
       "<text xml:space=\"preserve\" text-anchor=\"start\" x=\"131.29\" y=\"-81.45\" font-family=\"Courier,monospace\" font-size=\"9.00\">&lt;remove_html_markup()&gt;</text>\n",
       "</a>\n",
       "</g>\n",
       "</g>\n",
       "<!-- c_functionremove_html_markupat0x10d6c2480_141&#45;&gt;out_functionremove_html_markupat0x10d6c2480_151 -->\n",
       "<g id=\"edge7\" class=\"edge\">\n",
       "<title>c_functionremove_html_markupat0x10d6c2480_141&#45;&gt;out_functionremove_html_markupat0x10d6c2480_151</title>\n",
       "<path fill=\"none\" stroke=\"black\" d=\"M250.33,-607.59C261.04,-597.77 273.28,-585.15 282.04,-572 307.34,-534.01 321.04,-522.64 321.04,-477 321.04,-477 321.04,-477 321.04,-247 321.04,-192.64 271.57,-148.62 233.2,-122.65\"/>\n",
       "<polygon fill=\"black\" stroke=\"black\" points=\"235.27,-119.82 224.99,-117.27 231.43,-125.68 235.27,-119.82\"/>\n",
       "</g>\n",
       "<!-- test_functionremove_html_markupat0x10d6c2480_144 -->\n",
       "<g id=\"node10\" class=\"node\">\n",
       "<title>test_functionremove_html_markupat0x10d6c2480_144</title>\n",
       "<g id=\"a_node10\"><a xlink:title=\"remove_html_markup:144\">\n",
       "<polygon fill=\"peachpuff\" stroke=\"black\" points=\"254.79,-572 123.29,-572 123.29,-532 254.79,-532 254.79,-572\"/>\n",
       "<text xml:space=\"preserve\" text-anchor=\"start\" x=\"164.29\" y=\"-555.7\" font-family=\"Courier,monospace\" font-weight=\"bold\" font-style=\"italic\" font-size=\"14.00\">&lt;test&gt;</text>\n",
       "<text xml:space=\"preserve\" text-anchor=\"start\" x=\"131.29\" y=\"-537.45\" font-family=\"Courier,monospace\" font-size=\"9.00\">&lt;remove_html_markup()&gt;</text>\n",
       "</a>\n",
       "</g>\n",
       "</g>\n",
       "<!-- c_functionremove_html_markupat0x10d6c2480_141&#45;&gt;test_functionremove_html_markupat0x10d6c2480_144 -->\n",
       "<g id=\"edge19\" class=\"edge\">\n",
       "<title>c_functionremove_html_markupat0x10d6c2480_141&#45;&gt;test_functionremove_html_markupat0x10d6c2480_144</title>\n",
       "<path fill=\"none\" stroke=\"black\" d=\"M211.03,-607.56C206.42,-599.91 201.62,-590.96 197.58,-582.55\"/>\n",
       "<polygon fill=\"black\" stroke=\"black\" points=\"200.89,-581.35 193.57,-573.69 194.51,-584.24 200.89,-581.35\"/>\n",
       "</g>\n",
       "<!-- c_functionremove_html_markupat0x10d6c2480_141&#45;&gt;test_functionremove_html_markupat0x10d6c2480_144 -->\n",
       "<!-- test_functionremove_html_markupat0x10d6c2480_146&#45;&gt;test_functionremove_html_markupat0x10d6c2480_148 -->\n",
       "<g id=\"edge2\" class=\"edge\">\n",
       "<title>test_functionremove_html_markupat0x10d6c2480_146&#45;&gt;test_functionremove_html_markupat0x10d6c2480_148</title>\n",
       "<path fill=\"none\" stroke=\"grey\" stroke-dasharray=\"5,2\" d=\"M132.24,-379.6C146.12,-370.57 160.75,-358.57 170.04,-344 182.25,-324.86 186.86,-299.49 188.5,-279.78\"/>\n",
       "<polygon fill=\"grey\" stroke=\"grey\" points=\"191.99,-280.05 189.09,-269.86 185,-279.64 191.99,-280.05\"/>\n",
       "</g>\n",
       "<!-- tag_functionremove_html_markupat0x10d6c2480_147 -->\n",
       "<g id=\"node5\" class=\"node\">\n",
       "<title>tag_functionremove_html_markupat0x10d6c2480_147</title>\n",
       "<g id=\"a_node5\"><a xlink:title=\"remove_html_markup:147\">\n",
       "<polygon fill=\"peachpuff\" stroke=\"black\" points=\"160.79,-344 29.29,-344 29.29,-304 160.79,-304 160.79,-344\"/>\n",
       "<text xml:space=\"preserve\" text-anchor=\"start\" x=\"82.66\" y=\"-327.7\" font-family=\"Courier,monospace\" font-weight=\"bold\" font-size=\"14.00\">tag</text>\n",
       "<text xml:space=\"preserve\" text-anchor=\"start\" x=\"37.29\" y=\"-309.45\" font-family=\"Courier,monospace\" font-size=\"9.00\">&lt;remove_html_markup()&gt;</text>\n",
       "</a>\n",
       "</g>\n",
       "</g>\n",
       "<!-- test_functionremove_html_markupat0x10d6c2480_146&#45;&gt;tag_functionremove_html_markupat0x10d6c2480_147 -->\n",
       "<g id=\"edge11\" class=\"edge\">\n",
       "<title>test_functionremove_html_markupat0x10d6c2480_146&#45;&gt;tag_functionremove_html_markupat0x10d6c2480_147</title>\n",
       "<path fill=\"none\" stroke=\"grey\" stroke-dasharray=\"5,2\" d=\"M89.02,-379.56C88.36,-372.25 88.15,-363.75 88.38,-355.67\"/>\n",
       "<polygon fill=\"grey\" stroke=\"grey\" points=\"91.86,-356.01 88.94,-345.82 84.87,-355.61 91.86,-356.01\"/>\n",
       "</g>\n",
       "<!-- test_functionremove_html_markupat0x10d6c2480_146&#45;&gt;tag_functionremove_html_markupat0x10d6c2480_147 -->\n",
       "<!-- remove_html_markupreturnvalue_functionremove_html_markupat0x10d6c2480_153 -->\n",
       "<g id=\"node12\" class=\"node\">\n",
       "<title>remove_html_markupreturnvalue_functionremove_html_markupat0x10d6c2480_153</title>\n",
       "<g id=\"a_node12\"><a xlink:title=\"remove_html_markup:153\">\n",
       "<polygon fill=\"peachpuff\" stroke=\"black\" points=\"341.41,-40 36.66,-40 36.66,0 341.41,0 341.41,-40\"/>\n",
       "<text xml:space=\"preserve\" text-anchor=\"start\" x=\"44.66\" y=\"-23.7\" font-family=\"Courier,monospace\" font-weight=\"bold\" font-style=\"italic\" font-size=\"14.00\">&lt;remove_html_markup() return value&gt;</text>\n",
       "<text xml:space=\"preserve\" text-anchor=\"start\" x=\"131.29\" y=\"-5.45\" font-family=\"Courier,monospace\" font-size=\"9.00\">&lt;remove_html_markup()&gt;</text>\n",
       "</a>\n",
       "</g>\n",
       "</g>\n",
       "<!-- test_functionremove_html_markupat0x10d6c2480_146&#45;&gt;remove_html_markupreturnvalue_functionremove_html_markupat0x10d6c2480_153 -->\n",
       "<g id=\"edge17\" class=\"edge\">\n",
       "<title>test_functionremove_html_markupat0x10d6c2480_146&#45;&gt;remove_html_markupreturnvalue_functionremove_html_markupat0x10d6c2480_153</title>\n",
       "<path fill=\"none\" stroke=\"black\" d=\"M57.83,-379.6C43.95,-370.57 29.33,-358.57 20.04,-344 -3.11,-307.7 1.04,-292.06 1.04,-249 1.04,-249 1.04,-249 1.04,-171 1.04,-108.56 65.18,-67.89 118.53,-44.86\"/>\n",
       "<polygon fill=\"black\" stroke=\"black\" points=\"119.75,-48.14 127.64,-41.07 117.06,-41.68 119.75,-48.14\"/>\n",
       "</g>\n",
       "<!-- test_functionremove_html_markupat0x10d6c2480_150&#45;&gt;out_functionremove_html_markupat0x10d6c2480_151 -->\n",
       "<g id=\"edge9\" class=\"edge\">\n",
       "<title>test_functionremove_html_markupat0x10d6c2480_150&#45;&gt;out_functionremove_html_markupat0x10d6c2480_151</title>\n",
       "<path fill=\"none\" stroke=\"grey\" stroke-dasharray=\"5,2\" d=\"M183.02,-151.56C182.36,-144.25 182.15,-135.75 182.38,-127.67\"/>\n",
       "<polygon fill=\"grey\" stroke=\"grey\" points=\"185.86,-128.01 182.94,-117.82 178.87,-127.61 185.86,-128.01\"/>\n",
       "</g>\n",
       "<!-- test_functionremove_html_markupat0x10d6c2480_150&#45;&gt;out_functionremove_html_markupat0x10d6c2480_151 -->\n",
       "<!-- tag_functionremove_html_markupat0x10d6c2480_147&#45;&gt;test_functionremove_html_markupat0x10d6c2480_148 -->\n",
       "<!-- tag_functionremove_html_markupat0x10d6c2480_147&#45;&gt;test_functionremove_html_markupat0x10d6c2480_150 -->\n",
       "<g id=\"edge3\" class=\"edge\">\n",
       "<title>tag_functionremove_html_markupat0x10d6c2480_147&#45;&gt;test_functionremove_html_markupat0x10d6c2480_150</title>\n",
       "<path fill=\"none\" stroke=\"black\" d=\"M94.9,-303.65C95.62,-283.31 99.3,-251.12 114.04,-228 121.3,-216.62 131.81,-206.81 142.68,-198.75\"/>\n",
       "<polygon fill=\"black\" stroke=\"black\" points=\"144.37,-201.84 150.59,-193.27 140.38,-196.09 144.37,-201.84\"/>\n",
       "</g>\n",
       "<!-- tag_functionremove_html_markupat0x10d6c2480_145 -->\n",
       "<g id=\"node6\" class=\"node\">\n",
       "<title>tag_functionremove_html_markupat0x10d6c2480_145</title>\n",
       "<g id=\"a_node6\"><a xlink:title=\"remove_html_markup:145\">\n",
       "<polygon fill=\"peachpuff\" stroke=\"black\" points=\"254.79,-496 123.29,-496 123.29,-456 254.79,-456 254.79,-496\"/>\n",
       "<text xml:space=\"preserve\" text-anchor=\"start\" x=\"176.66\" y=\"-479.7\" font-family=\"Courier,monospace\" font-weight=\"bold\" font-size=\"14.00\">tag</text>\n",
       "<text xml:space=\"preserve\" text-anchor=\"start\" x=\"131.29\" y=\"-461.45\" font-family=\"Courier,monospace\" font-size=\"9.00\">&lt;remove_html_markup()&gt;</text>\n",
       "</a>\n",
       "</g>\n",
       "</g>\n",
       "<!-- tag_functionremove_html_markupat0x10d6c2480_145&#45;&gt;test_functionremove_html_markupat0x10d6c2480_146 -->\n",
       "<!-- tag_functionremove_html_markupat0x10d6c2480_145&#45;&gt;test_functionremove_html_markupat0x10d6c2480_150 -->\n",
       "<g id=\"edge4\" class=\"edge\">\n",
       "<title>tag_functionremove_html_markupat0x10d6c2480_145&#45;&gt;test_functionremove_html_markupat0x10d6c2480_150</title>\n",
       "<path fill=\"none\" stroke=\"black\" d=\"M204.53,-455.55C236.67,-412.68 304.35,-307.55 264.04,-228 258.17,-216.41 248.58,-206.68 238.19,-198.78\"/>\n",
       "<polygon fill=\"black\" stroke=\"black\" points=\"240.38,-196.03 230.17,-193.17 236.36,-201.77 240.38,-196.03\"/>\n",
       "</g>\n",
       "<!-- out_functionremove_html_markupat0x10d6c2480_151&#45;&gt;out_functionremove_html_markupat0x10d6c2480_151 -->\n",
       "<g id=\"edge6\" class=\"edge\">\n",
       "<title>out_functionremove_html_markupat0x10d6c2480_151&#45;&gt;out_functionremove_html_markupat0x10d6c2480_151</title>\n",
       "<path fill=\"none\" stroke=\"black\" d=\"M255.04,-109.12C265.58,-107.2 272.79,-102.83 272.79,-96 272.79,-91.95 270.25,-88.76 265.98,-86.43\"/>\n",
       "<polygon fill=\"black\" stroke=\"black\" points=\"267.07,-83.11 256.48,-83.35 264.91,-89.77 267.07,-83.11\"/>\n",
       "</g>\n",
       "<!-- out_functionremove_html_markupat0x10d6c2480_151&#45;&gt;remove_html_markupreturnvalue_functionremove_html_markupat0x10d6c2480_153 -->\n",
       "<g id=\"edge16\" class=\"edge\">\n",
       "<title>out_functionremove_html_markupat0x10d6c2480_151&#45;&gt;remove_html_markupreturnvalue_functionremove_html_markupat0x10d6c2480_153</title>\n",
       "<path fill=\"none\" stroke=\"black\" d=\"M183.02,-75.56C182.36,-68.25 182.15,-59.75 182.38,-51.67\"/>\n",
       "<polygon fill=\"black\" stroke=\"black\" points=\"185.86,-52.01 182.94,-41.82 178.87,-51.61 185.86,-52.01\"/>\n",
       "</g>\n",
       "<!-- out_functionremove_html_markupat0x10d6c2480_151&#45;&gt;remove_html_markupreturnvalue_functionremove_html_markupat0x10d6c2480_153 -->\n",
       "<!-- out_functionremove_html_markupat0x10d6c2480_139 -->\n",
       "<g id=\"node8\" class=\"node\">\n",
       "<title>out_functionremove_html_markupat0x10d6c2480_139</title>\n",
       "<g id=\"a_node8\"><a xlink:title=\"remove_html_markup:139\">\n",
       "<polygon fill=\"peachpuff\" stroke=\"black\" points=\"386.79,-724 255.29,-724 255.29,-684 386.79,-684 386.79,-724\"/>\n",
       "<text xml:space=\"preserve\" text-anchor=\"start\" x=\"308.66\" y=\"-707.7\" font-family=\"Courier,monospace\" font-weight=\"bold\" font-size=\"14.00\">out</text>\n",
       "<text xml:space=\"preserve\" text-anchor=\"start\" x=\"263.29\" y=\"-689.45\" font-family=\"Courier,monospace\" font-size=\"9.00\">&lt;remove_html_markup()&gt;</text>\n",
       "</a>\n",
       "</g>\n",
       "</g>\n",
       "<!-- out_functionremove_html_markupat0x10d6c2480_139&#45;&gt;c_functionremove_html_markupat0x10d6c2480_141 -->\n",
       "<!-- out_functionremove_html_markupat0x10d6c2480_139&#45;&gt;out_functionremove_html_markupat0x10d6c2480_151 -->\n",
       "<g id=\"edge8\" class=\"edge\">\n",
       "<title>out_functionremove_html_markupat0x10d6c2480_139&#45;&gt;out_functionremove_html_markupat0x10d6c2480_151</title>\n",
       "<path fill=\"none\" stroke=\"black\" d=\"M329.28,-683.5C340.46,-655.26 359.04,-601.09 359.04,-553 359.04,-553 359.04,-553 359.04,-247 359.04,-186.92 298.6,-145.16 249.8,-121.23\"/>\n",
       "<polygon fill=\"black\" stroke=\"black\" points=\"251.49,-118.16 240.95,-117.04 248.49,-124.48 251.49,-118.16\"/>\n",
       "</g>\n",
       "<!-- quote_functionremove_html_markupat0x10d6c2480_138 -->\n",
       "<g id=\"node9\" class=\"node\">\n",
       "<title>quote_functionremove_html_markupat0x10d6c2480_138</title>\n",
       "<g id=\"a_node9\"><a xlink:title=\"remove_html_markup:138\">\n",
       "<polygon fill=\"peachpuff\" stroke=\"black\" points=\"198.79,-800 67.29,-800 67.29,-760 198.79,-760 198.79,-800\"/>\n",
       "<text xml:space=\"preserve\" text-anchor=\"start\" x=\"112.41\" y=\"-783.7\" font-family=\"Courier,monospace\" font-weight=\"bold\" font-size=\"14.00\">quote</text>\n",
       "<text xml:space=\"preserve\" text-anchor=\"start\" x=\"75.29\" y=\"-765.45\" font-family=\"Courier,monospace\" font-size=\"9.00\">&lt;remove_html_markup()&gt;</text>\n",
       "</a>\n",
       "</g>\n",
       "</g>\n",
       "<!-- quote_functionremove_html_markupat0x10d6c2480_138&#45;&gt;test_functionremove_html_markupat0x10d6c2480_146 -->\n",
       "<g id=\"edge13\" class=\"edge\">\n",
       "<title>quote_functionremove_html_markupat0x10d6c2480_138&#45;&gt;test_functionremove_html_markupat0x10d6c2480_146</title>\n",
       "<path fill=\"none\" stroke=\"black\" d=\"M104.57,-759.54C70.8,-733.91 19.04,-685.42 19.04,-629 19.04,-629 19.04,-629 19.04,-551 19.04,-504.37 48.62,-457.54 70.87,-428.91\"/>\n",
       "<polygon fill=\"black\" stroke=\"black\" points=\"73.32,-431.45 76.85,-421.46 67.86,-427.07 73.32,-431.45\"/>\n",
       "</g>\n",
       "<!-- quote_functionremove_html_markupat0x10d6c2480_138&#45;&gt;out_functionremove_html_markupat0x10d6c2480_139 -->\n",
       "<!-- quote_functionremove_html_markupat0x10d6c2480_138&#45;&gt;test_functionremove_html_markupat0x10d6c2480_144 -->\n",
       "<g id=\"edge18\" class=\"edge\">\n",
       "<title>quote_functionremove_html_markupat0x10d6c2480_138&#45;&gt;test_functionremove_html_markupat0x10d6c2480_144</title>\n",
       "<path fill=\"none\" stroke=\"black\" d=\"M132.24,-759.6C131.54,-727.15 132.86,-660.3 152.04,-608 155.39,-598.86 160.57,-589.75 166,-581.66\"/>\n",
       "<polygon fill=\"black\" stroke=\"black\" points=\"168.8,-583.75 171.76,-573.58 163.1,-579.69 168.8,-583.75\"/>\n",
       "</g>\n",
       "<!-- test_functionremove_html_markupat0x10d6c2480_144&#45;&gt;test_functionremove_html_markupat0x10d6c2480_146 -->\n",
       "<g id=\"edge15\" class=\"edge\">\n",
       "<title>test_functionremove_html_markupat0x10d6c2480_144&#45;&gt;test_functionremove_html_markupat0x10d6c2480_146</title>\n",
       "<path fill=\"none\" stroke=\"grey\" stroke-dasharray=\"5,2\" d=\"M151.83,-531.6C137.95,-522.57 123.33,-510.57 114.04,-496 101.83,-476.86 97.21,-451.49 95.58,-431.78\"/>\n",
       "<polygon fill=\"grey\" stroke=\"grey\" points=\"99.07,-431.64 94.99,-421.86 92.09,-432.05 99.07,-431.64\"/>\n",
       "</g>\n",
       "<!-- test_functionremove_html_markupat0x10d6c2480_144&#45;&gt;tag_functionremove_html_markupat0x10d6c2480_145 -->\n",
       "<g id=\"edge10\" class=\"edge\">\n",
       "<title>test_functionremove_html_markupat0x10d6c2480_144&#45;&gt;tag_functionremove_html_markupat0x10d6c2480_145</title>\n",
       "<path fill=\"none\" stroke=\"grey\" stroke-dasharray=\"5,2\" d=\"M183.02,-531.56C182.36,-524.25 182.15,-515.75 182.38,-507.67\"/>\n",
       "<polygon fill=\"grey\" stroke=\"grey\" points=\"185.86,-508.01 182.94,-497.82 178.87,-507.61 185.86,-508.01\"/>\n",
       "</g>\n",
       "<!-- test_functionremove_html_markupat0x10d6c2480_144&#45;&gt;tag_functionremove_html_markupat0x10d6c2480_145 -->\n",
       "<!-- s_functionremove_html_markupat0x10d6c2480_136 -->\n",
       "<g id=\"node11\" class=\"node\">\n",
       "<title>s_functionremove_html_markupat0x10d6c2480_136</title>\n",
       "<g id=\"a_node11\"><a xlink:title=\"remove_html_markup:136\">\n",
       "<polygon fill=\"peachpuff\" stroke=\"black\" points=\"245.79,-952 114.29,-952 114.29,-912 245.79,-912 245.79,-952\"/>\n",
       "<text xml:space=\"preserve\" text-anchor=\"start\" x=\"175.91\" y=\"-935.7\" font-family=\"Courier,monospace\" font-weight=\"bold\" font-size=\"14.00\">s</text>\n",
       "<text xml:space=\"preserve\" text-anchor=\"start\" x=\"122.29\" y=\"-917.45\" font-family=\"Courier,monospace\" font-size=\"9.00\">&lt;remove_html_markup()&gt;</text>\n",
       "</a>\n",
       "</g>\n",
       "</g>\n",
       "<!-- s_functionremove_html_markupat0x10d6c2480_136&#45;&gt;c_functionremove_html_markupat0x10d6c2480_141 -->\n",
       "<g id=\"edge12\" class=\"edge\">\n",
       "<title>s_functionremove_html_markupat0x10d6c2480_136&#45;&gt;c_functionremove_html_markupat0x10d6c2480_141</title>\n",
       "<path fill=\"none\" stroke=\"black\" d=\"M192.26,-911.66C198.09,-901.45 204.53,-888.48 208.04,-876 229.28,-800.39 229.88,-706.97 228.49,-659.62\"/>\n",
       "<polygon fill=\"black\" stroke=\"black\" points=\"231.99,-659.73 228.14,-649.86 225,-659.98 231.99,-659.73\"/>\n",
       "</g>\n",
       "<!-- tag_functionremove_html_markupat0x10d6c2480_137 -->\n",
       "<g id=\"node13\" class=\"node\">\n",
       "<title>tag_functionremove_html_markupat0x10d6c2480_137</title>\n",
       "<g id=\"a_node13\"><a xlink:title=\"remove_html_markup:137\">\n",
       "<polygon fill=\"peachpuff\" stroke=\"black\" points=\"198.79,-876 67.29,-876 67.29,-836 198.79,-836 198.79,-876\"/>\n",
       "<text xml:space=\"preserve\" text-anchor=\"start\" x=\"120.66\" y=\"-859.7\" font-family=\"Courier,monospace\" font-weight=\"bold\" font-size=\"14.00\">tag</text>\n",
       "<text xml:space=\"preserve\" text-anchor=\"start\" x=\"75.29\" y=\"-841.45\" font-family=\"Courier,monospace\" font-size=\"9.00\">&lt;remove_html_markup()&gt;</text>\n",
       "</a>\n",
       "</g>\n",
       "</g>\n",
       "<!-- s_functionremove_html_markupat0x10d6c2480_136&#45;&gt;tag_functionremove_html_markupat0x10d6c2480_137 -->\n",
       "<!-- tag_functionremove_html_markupat0x10d6c2480_137&#45;&gt;quote_functionremove_html_markupat0x10d6c2480_138 -->\n",
       "</g>\n",
       "</svg>\n"
      ],
      "text/plain": [
       "<graphviz.graphs.Digraph at 0x10d7847c0>"
      ]
     },
     "execution_count": 48,
     "metadata": {},
     "output_type": "execute_result"
    }
   ],
   "source": [
    "# ignore\n",
    "remove_html_markup_deps().graph()"
   ]
  },
  {
   "cell_type": "markdown",
   "metadata": {
    "slideshow": {
     "slide_type": "subslide"
    }
   },
   "source": [
    "Again, we can read such a graph _forward_ (starting from, say, `s`) or _backward_ (starting from the return value). Starting forward, we see how the passed string `s` flows into the `for` loop, breaking `s` into individual characters `c` that are then checked on various occasions, before flowing into the `out` return value. We also see how the various `if` conditions are all influenced by `c`, `tag`, and `quote`."
   ]
  },
  {
   "cell_type": "code",
   "execution_count": 49,
   "metadata": {
    "execution": {
     "iopub.execute_input": "2025-10-26T17:47:19.012705Z",
     "iopub.status.busy": "2025-10-26T17:47:19.012577Z",
     "iopub.status.idle": "2025-10-26T17:47:19.016223Z",
     "shell.execute_reply": "2025-10-26T17:47:19.015898Z"
    },
    "slideshow": {
     "slide_type": "fragment"
    },
    "tags": [
     "remove-input"
    ]
   },
   "outputs": [
    {
     "data": {
      "text/html": [
       "\n",
       "    \n",
       "    <script>\n",
       "    var bad_answers = new Map();\n",
       "\n",
       "    function answer(quiz_id) {\n",
       "        ans = 0;\n",
       "        for (i = 1;; i++) {\n",
       "            checkbox = document.getElementById(quiz_id + \"-\" + i.toString());\n",
       "            if (!checkbox)\n",
       "                break;\n",
       "            if (checkbox.checked)\n",
       "                ans |= (1 << i);\n",
       "        }\n",
       "        return ans;\n",
       "    }\n",
       "    function check_selection(quiz_id, correct_answer, multiple_choice, hint) {\n",
       "        given_answer = answer(quiz_id);\n",
       "        if (given_answer == correct_answer)\n",
       "        {\n",
       "            document.getElementById(quiz_id + \"-submit\").value = \"Correct!\";\n",
       "            document.getElementById(quiz_id + \"-hint\").innerHTML = \"\";\n",
       "\n",
       "            for (i = 1;; i++) {\n",
       "                checkbox = document.getElementById(quiz_id + \"-\" + i.toString());\n",
       "                label = document.getElementById(quiz_id + \"-\" + i.toString() + \"-label\")\n",
       "                if (!checkbox)\n",
       "                    break;\n",
       "\n",
       "                if (checkbox.checked) {\n",
       "                    label.style.fontWeight = \"bold\";\n",
       "                }\n",
       "                else {\n",
       "                    label.style.textDecoration = \"line-through\";\n",
       "                }\n",
       "            }\n",
       "        }\n",
       "        else \n",
       "        {\n",
       "            document.getElementById(quiz_id + \"-submit\").value = \"Try again\";\n",
       "\n",
       "            if (!bad_answers.has(quiz_id)) {\n",
       "                bad_answers.set(quiz_id, 1);\n",
       "            }\n",
       "            else {\n",
       "                bad_answers.set(quiz_id, bad_answers.get(quiz_id) + 1);\n",
       "            }\n",
       "\n",
       "            if (bad_answers.get(quiz_id) >= 2 && hint.length > 0) {\n",
       "                document.getElementById(quiz_id + \"-hint\").innerHTML = \n",
       "                    \"&nbsp;&nbsp;(Hint: <code>\" + hint + \"</code>)\";\n",
       "            }\n",
       "\n",
       "            if (!multiple_choice) {\n",
       "                for (i = 1;; i++) {\n",
       "                    checkbox = document.getElementById(quiz_id + \"-\" + i.toString());\n",
       "                    label = document.getElementById(quiz_id + \"-\" + i.toString() + \"-label\")\n",
       "\n",
       "                    if (!checkbox)\n",
       "                        break;\n",
       "                    if (checkbox.checked) {\n",
       "                        label.style.textDecoration = \"line-through\";\n",
       "                    }\n",
       "                }\n",
       "            }\n",
       "        }\n",
       "    }\n",
       "    function clear_selection(quiz_id) {\n",
       "        document.getElementById(quiz_id + \"-submit\").value = \"Submit\";\n",
       "        document.getElementById(quiz_id + \"-hint\").innerHTML = \"\";\n",
       "    }\n",
       "    </script>\n",
       "    \n",
       "    <div class=\"quiz\">\n",
       "    <h3 class=\"quiz_title\">Quiz</h3>\n",
       "    <p>\n",
       "    <div class=\"quiz_question\">Why does the first line <code>tag = False</code> not influence anything?</div>\n",
       "    </p>\n",
       "    <p>\n",
       "    <div class=\"quiz_options\" title=\"Pick a choice.\">\n",
       "    \n",
       "        <input type=\"radio\" name=\"d15078c8-b293-11f0-938a-6298cf1a5790\" id=\"d15078c8-b293-11f0-938a-6298cf1a5790-1\" onclick=\"clear_selection('d15078c8-b293-11f0-938a-6298cf1a5790')\">\n",
       "        <label id=\"d15078c8-b293-11f0-938a-6298cf1a5790-1-label\" for=\"d15078c8-b293-11f0-938a-6298cf1a5790-1\">Because the input contains only tags</label><br>\n",
       "    \n",
       "        <input type=\"radio\" name=\"d15078c8-b293-11f0-938a-6298cf1a5790\" id=\"d15078c8-b293-11f0-938a-6298cf1a5790-2\" onclick=\"clear_selection('d15078c8-b293-11f0-938a-6298cf1a5790')\">\n",
       "        <label id=\"d15078c8-b293-11f0-938a-6298cf1a5790-2-label\" for=\"d15078c8-b293-11f0-938a-6298cf1a5790-2\">Because <code>tag</code> is set to True with the first character</label><br>\n",
       "    \n",
       "        <input type=\"radio\" name=\"d15078c8-b293-11f0-938a-6298cf1a5790\" id=\"d15078c8-b293-11f0-938a-6298cf1a5790-3\" onclick=\"clear_selection('d15078c8-b293-11f0-938a-6298cf1a5790')\">\n",
       "        <label id=\"d15078c8-b293-11f0-938a-6298cf1a5790-3-label\" for=\"d15078c8-b293-11f0-938a-6298cf1a5790-3\">Because <code>tag</code> is not read by any variable</label><br>\n",
       "    \n",
       "        <input type=\"radio\" name=\"d15078c8-b293-11f0-938a-6298cf1a5790\" id=\"d15078c8-b293-11f0-938a-6298cf1a5790-4\" onclick=\"clear_selection('d15078c8-b293-11f0-938a-6298cf1a5790')\">\n",
       "        <label id=\"d15078c8-b293-11f0-938a-6298cf1a5790-4-label\" for=\"d15078c8-b293-11f0-938a-6298cf1a5790-4\">Because the input contains no tags</label><br>\n",
       "    \n",
       "    </div>\n",
       "    </p>\n",
       "    <input id=\"d15078c8-b293-11f0-938a-6298cf1a5790-submit\" type=\"submit\" value=\"Submit\" onclick=\"check_selection('d15078c8-b293-11f0-938a-6298cf1a5790', 4, 0, '(1 &lt;&lt; 1 + 1 &gt;&gt; 1)')\">\n",
       "    <span class=\"quiz_hint\" id=\"d15078c8-b293-11f0-938a-6298cf1a5790-hint\"></span>\n",
       "    </div>\n",
       "    "
      ],
      "text/plain": [
       "<IPython.core.display.HTML object>"
      ]
     },
     "execution_count": 49,
     "metadata": {},
     "output_type": "execute_result"
    }
   ],
   "source": [
    "quiz(\"Why does the first line `tag = False` not influence anything?\",\n",
    "    [\n",
    "        \"Because the input contains only tags\",\n",
    "        \"Because `tag` is set to True with the first character\",\n",
    "        \"Because `tag` is not read by any variable\",\n",
    "        \"Because the input contains no tags\",\n",
    "    ], '(1 << 1 + 1 >> 1)')"
   ]
  },
  {
   "cell_type": "markdown",
   "metadata": {
    "slideshow": {
     "slide_type": "subslide"
    }
   },
   "source": [
    "Which are the locations that set `tag` to True? To this end, we compute the slice of `tag` at `tag = True`:"
   ]
  },
  {
   "cell_type": "code",
   "execution_count": 50,
   "metadata": {
    "execution": {
     "iopub.execute_input": "2025-10-26T17:47:19.017499Z",
     "iopub.status.busy": "2025-10-26T17:47:19.017414Z",
     "iopub.status.idle": "2025-10-26T17:47:19.384447Z",
     "shell.execute_reply": "2025-10-26T17:47:19.383908Z"
    },
    "slideshow": {
     "slide_type": "subslide"
    },
    "tags": [
     "remove-input"
    ]
   },
   "outputs": [
    {
     "data": {
      "image/svg+xml": [
       "<?xml version=\"1.0\" encoding=\"UTF-8\" standalone=\"no\"?>\n",
       "<!DOCTYPE svg PUBLIC \"-//W3C//DTD SVG 1.1//EN\"\n",
       " \"http://www.w3.org/Graphics/SVG/1.1/DTD/svg11.dtd\">\n",
       "<!-- Generated by graphviz version 14.0.2 (20251019.1705)\n",
       " -->\n",
       "<!-- Title: dependencies Pages: 1 -->\n",
       "<svg width=\"234pt\" height=\"352pt\"\n",
       " viewBox=\"0.00 0.00 234.00 352.00\" xmlns=\"http://www.w3.org/2000/svg\" xmlns:xlink=\"http://www.w3.org/1999/xlink\">\n",
       "<g id=\"graph0\" class=\"graph\" transform=\"scale(1 1) rotate(0) translate(4 348)\">\n",
       "<title>dependencies</title>\n",
       "<polygon fill=\"white\" stroke=\"none\" points=\"-4,4 -4,-348 229.5,-348 229.5,4 -4,4\"/>\n",
       "<!-- quote_functionremove_html_markupat0x10d6c2480_138 -->\n",
       "<g id=\"node1\" class=\"node\">\n",
       "<title>quote_functionremove_html_markupat0x10d6c2480_138</title>\n",
       "<g id=\"a_node1\"><a xlink:title=\"remove_html_markup:138\">\n",
       "<polygon fill=\"peachpuff\" stroke=\"black\" points=\"131.5,-268 0,-268 0,-228 131.5,-228 131.5,-268\"/>\n",
       "<text xml:space=\"preserve\" text-anchor=\"start\" x=\"45.12\" y=\"-251.7\" font-family=\"Courier,monospace\" font-weight=\"bold\" font-size=\"14.00\">quote</text>\n",
       "<text xml:space=\"preserve\" text-anchor=\"start\" x=\"8\" y=\"-233.45\" font-family=\"Courier,monospace\" font-size=\"9.00\">&lt;remove_html_markup()&gt;</text>\n",
       "</a>\n",
       "</g>\n",
       "</g>\n",
       "<!-- test_functionremove_html_markupat0x10d6c2480_144 -->\n",
       "<g id=\"node3\" class=\"node\">\n",
       "<title>test_functionremove_html_markupat0x10d6c2480_144</title>\n",
       "<g id=\"a_node3\"><a xlink:title=\"remove_html_markup:144\">\n",
       "<polygon fill=\"peachpuff\" stroke=\"black\" points=\"225.5,-116 94,-116 94,-76 225.5,-76 225.5,-116\"/>\n",
       "<text xml:space=\"preserve\" text-anchor=\"start\" x=\"135\" y=\"-99.7\" font-family=\"Courier,monospace\" font-weight=\"bold\" font-style=\"italic\" font-size=\"14.00\">&lt;test&gt;</text>\n",
       "<text xml:space=\"preserve\" text-anchor=\"start\" x=\"102\" y=\"-81.45\" font-family=\"Courier,monospace\" font-size=\"9.00\">&lt;remove_html_markup()&gt;</text>\n",
       "</a>\n",
       "</g>\n",
       "</g>\n",
       "<!-- quote_functionremove_html_markupat0x10d6c2480_138&#45;&gt;test_functionremove_html_markupat0x10d6c2480_144 -->\n",
       "<g id=\"edge3\" class=\"edge\">\n",
       "<title>quote_functionremove_html_markupat0x10d6c2480_138&#45;&gt;test_functionremove_html_markupat0x10d6c2480_144</title>\n",
       "<path fill=\"none\" stroke=\"black\" d=\"M65.61,-227.65C66.34,-207.31 70.01,-175.12 84.75,-152 92.01,-140.62 102.52,-130.81 113.39,-122.75\"/>\n",
       "<polygon fill=\"black\" stroke=\"black\" points=\"115.08,-125.84 121.3,-117.27 111.09,-120.09 115.08,-125.84\"/>\n",
       "</g>\n",
       "<!-- c_functionremove_html_markupat0x10d6c2480_141 -->\n",
       "<g id=\"node4\" class=\"node\">\n",
       "<title>c_functionremove_html_markupat0x10d6c2480_141</title>\n",
       "<g id=\"a_node4\"><a xlink:title=\"remove_html_markup:141\">\n",
       "<polygon fill=\"peachpuff\" stroke=\"black\" points=\"225.5,-192 94,-192 94,-152 225.5,-152 225.5,-192\"/>\n",
       "<text xml:space=\"preserve\" text-anchor=\"start\" x=\"155.62\" y=\"-175.7\" font-family=\"Courier,monospace\" font-weight=\"bold\" font-size=\"14.00\">c</text>\n",
       "<text xml:space=\"preserve\" text-anchor=\"start\" x=\"102\" y=\"-157.45\" font-family=\"Courier,monospace\" font-size=\"9.00\">&lt;remove_html_markup()&gt;</text>\n",
       "</a>\n",
       "</g>\n",
       "</g>\n",
       "<!-- quote_functionremove_html_markupat0x10d6c2480_138&#45;&gt;c_functionremove_html_markupat0x10d6c2480_141 -->\n",
       "<!-- tag_functionremove_html_markupat0x10d6c2480_145 -->\n",
       "<g id=\"node2\" class=\"node\">\n",
       "<title>tag_functionremove_html_markupat0x10d6c2480_145</title>\n",
       "<g id=\"a_node2\"><a xlink:title=\"remove_html_markup:145\">\n",
       "<polygon fill=\"peachpuff\" stroke=\"black\" points=\"225.5,-40 94,-40 94,0 225.5,0 225.5,-40\"/>\n",
       "<text xml:space=\"preserve\" text-anchor=\"start\" x=\"147.38\" y=\"-23.7\" font-family=\"Courier,monospace\" font-weight=\"bold\" font-size=\"14.00\">tag</text>\n",
       "<text xml:space=\"preserve\" text-anchor=\"start\" x=\"102\" y=\"-5.45\" font-family=\"Courier,monospace\" font-size=\"9.00\">&lt;remove_html_markup()&gt;</text>\n",
       "</a>\n",
       "</g>\n",
       "</g>\n",
       "<!-- test_functionremove_html_markupat0x10d6c2480_144&#45;&gt;tag_functionremove_html_markupat0x10d6c2480_145 -->\n",
       "<g id=\"edge1\" class=\"edge\">\n",
       "<title>test_functionremove_html_markupat0x10d6c2480_144&#45;&gt;tag_functionremove_html_markupat0x10d6c2480_145</title>\n",
       "<path fill=\"none\" stroke=\"grey\" stroke-dasharray=\"5,2\" d=\"M153.73,-75.56C153.07,-68.25 152.86,-59.75 153.09,-51.67\"/>\n",
       "<polygon fill=\"grey\" stroke=\"grey\" points=\"156.57,-52.01 153.65,-41.82 149.59,-51.61 156.57,-52.01\"/>\n",
       "</g>\n",
       "<!-- test_functionremove_html_markupat0x10d6c2480_144&#45;&gt;tag_functionremove_html_markupat0x10d6c2480_145 -->\n",
       "<!-- c_functionremove_html_markupat0x10d6c2480_141&#45;&gt;test_functionremove_html_markupat0x10d6c2480_144 -->\n",
       "<g id=\"edge4\" class=\"edge\">\n",
       "<title>c_functionremove_html_markupat0x10d6c2480_141&#45;&gt;test_functionremove_html_markupat0x10d6c2480_144</title>\n",
       "<path fill=\"none\" stroke=\"black\" d=\"M153.73,-151.56C153.07,-144.25 152.86,-135.75 153.09,-127.67\"/>\n",
       "<polygon fill=\"black\" stroke=\"black\" points=\"156.57,-128.01 153.65,-117.82 149.59,-127.61 156.57,-128.01\"/>\n",
       "</g>\n",
       "<!-- c_functionremove_html_markupat0x10d6c2480_141&#45;&gt;test_functionremove_html_markupat0x10d6c2480_144 -->\n",
       "<!-- s_functionremove_html_markupat0x10d6c2480_136 -->\n",
       "<g id=\"node5\" class=\"node\">\n",
       "<title>s_functionremove_html_markupat0x10d6c2480_136</title>\n",
       "<g id=\"a_node5\"><a xlink:title=\"remove_html_markup:136\">\n",
       "<polygon fill=\"peachpuff\" stroke=\"black\" points=\"178.5,-344 47,-344 47,-304 178.5,-304 178.5,-344\"/>\n",
       "<text xml:space=\"preserve\" text-anchor=\"start\" x=\"108.62\" y=\"-327.7\" font-family=\"Courier,monospace\" font-weight=\"bold\" font-size=\"14.00\">s</text>\n",
       "<text xml:space=\"preserve\" text-anchor=\"start\" x=\"55\" y=\"-309.45\" font-family=\"Courier,monospace\" font-size=\"9.00\">&lt;remove_html_markup()&gt;</text>\n",
       "</a>\n",
       "</g>\n",
       "</g>\n",
       "<!-- s_functionremove_html_markupat0x10d6c2480_136&#45;&gt;quote_functionremove_html_markupat0x10d6c2480_138 -->\n",
       "<!-- s_functionremove_html_markupat0x10d6c2480_136&#45;&gt;c_functionremove_html_markupat0x10d6c2480_141 -->\n",
       "<g id=\"edge2\" class=\"edge\">\n",
       "<title>s_functionremove_html_markupat0x10d6c2480_136&#45;&gt;c_functionremove_html_markupat0x10d6c2480_141</title>\n",
       "<path fill=\"none\" stroke=\"black\" d=\"M124.21,-303.72C129.9,-293.42 136.46,-280.35 140.75,-268 148.02,-247.05 152.85,-222.47 155.81,-203.57\"/>\n",
       "<polygon fill=\"black\" stroke=\"black\" points=\"159.25,-204.23 157.24,-193.83 152.33,-203.22 159.25,-204.23\"/>\n",
       "</g>\n",
       "</g>\n",
       "</svg>\n"
      ],
      "text/plain": [
       "Dependencies(\n",
       "    data={\n",
       "        ('tag', (remove_html_markup, 145)): set(),\n",
       "        ('<test>', (remove_html_markup, 144)): {('quote', (remove_html_markup, 138)), ('c', (remove_html_markup, 141))},\n",
       "        ('quote', (remove_html_markup, 138)): set(),\n",
       "        ('c', (remove_html_markup, 141)): {('s', (remove_html_markup, 136))},\n",
       "        ('s', (remove_html_markup, 136)): set()},\n",
       " control={\n",
       "        ('tag', (remove_html_markup, 145)): {('<test>', (remove_html_markup, 144))},\n",
       "        ('<test>', (remove_html_markup, 144)): set(),\n",
       "        ('quote', (remove_html_markup, 138)): set(),\n",
       "        ('c', (remove_html_markup, 141)): set(),\n",
       "        ('s', (remove_html_markup, 136)): set()})"
      ]
     },
     "execution_count": 50,
     "metadata": {},
     "output_type": "execute_result"
    }
   ],
   "source": [
    "# ignore\n",
    "tag_deps = Dependencies({('tag', (remove_html_markup, 145)): set(), ('<test>', (remove_html_markup, 144)): {('quote', (remove_html_markup, 138)), ('c', (remove_html_markup, 141))}, ('quote', (remove_html_markup, 138)): set(), ('c', (remove_html_markup, 141)): {('s', (remove_html_markup, 136))}, ('s', (remove_html_markup, 136)): set()}, {('tag', (remove_html_markup, 145)): {('<test>', (remove_html_markup, 144))}, ('<test>', (remove_html_markup, 144)): set(), ('quote', (remove_html_markup, 138)): set(), ('c', (remove_html_markup, 141)): set(), ('s', (remove_html_markup, 136)): set()})\n",
    "tag_deps"
   ]
  },
  {
   "cell_type": "markdown",
   "metadata": {
    "slideshow": {
     "slide_type": "subslide"
    }
   },
   "source": [
    "We see where the value of `tag` comes from: from the characters `c` in `s` as well as `quote`, which all cause it to be set. Again, we can combine these dependencies and the listing in a single, compact view. Note, again, that there are no other locations in the code that could possibly have affected `tag` in our run."
   ]
  },
  {
   "cell_type": "code",
   "execution_count": 51,
   "metadata": {
    "execution": {
     "iopub.execute_input": "2025-10-26T17:47:19.386616Z",
     "iopub.status.busy": "2025-10-26T17:47:19.386458Z",
     "iopub.status.idle": "2025-10-26T17:47:19.579317Z",
     "shell.execute_reply": "2025-10-26T17:47:19.578954Z"
    },
    "slideshow": {
     "slide_type": "subslide"
    },
    "tags": [
     "remove-input"
    ]
   },
   "outputs": [
    {
     "name": "stdout",
     "output_type": "stream",
     "text": [
      "   238 \u001b[34mdef\u001b[39;49;00m\u001b[37m \u001b[39;49;00m\u001b[32mremove_html_markup\u001b[39;49;00m(s):  \u001b[37m# type: ignore\u001b[39;49;00m\u001b[37m\u001b[39;49;00m\n",
      "   239     tag = \u001b[34mFalse\u001b[39;49;00m\u001b[37m\u001b[39;49;00m\n",
      "   240     quote = \u001b[34mFalse\u001b[39;49;00m\u001b[37m\u001b[39;49;00m\n",
      "   241     out = \u001b[33m\"\u001b[39;49;00m\u001b[33m\"\u001b[39;49;00m\u001b[37m\u001b[39;49;00m\n",
      "   242 \u001b[37m\u001b[39;49;00m\n",
      "   243     \u001b[34mfor\u001b[39;49;00m c \u001b[35min\u001b[39;49;00m s:\u001b[37m\u001b[39;49;00m\n",
      "   244         \u001b[34massert\u001b[39;49;00m tag \u001b[35mor\u001b[39;49;00m \u001b[35mnot\u001b[39;49;00m quote\u001b[37m\u001b[39;49;00m\n",
      "   245 \u001b[37m\u001b[39;49;00m\n",
      "   246         \u001b[34mif\u001b[39;49;00m c == \u001b[33m'\u001b[39;49;00m\u001b[33m<\u001b[39;49;00m\u001b[33m'\u001b[39;49;00m \u001b[35mand\u001b[39;49;00m \u001b[35mnot\u001b[39;49;00m quote:\u001b[37m\u001b[39;49;00m\n",
      "   247             tag = \u001b[34mTrue\u001b[39;49;00m\u001b[37m\u001b[39;49;00m\n",
      "   248         \u001b[34melif\u001b[39;49;00m c == \u001b[33m'\u001b[39;49;00m\u001b[33m>\u001b[39;49;00m\u001b[33m'\u001b[39;49;00m \u001b[35mand\u001b[39;49;00m \u001b[35mnot\u001b[39;49;00m quote:\u001b[37m\u001b[39;49;00m\n",
      "   249             tag = \u001b[34mFalse\u001b[39;49;00m\u001b[37m\u001b[39;49;00m\n",
      "   250         \u001b[34melif\u001b[39;49;00m (c == \u001b[33m'\u001b[39;49;00m\u001b[33m\"\u001b[39;49;00m\u001b[33m'\u001b[39;49;00m \u001b[35mor\u001b[39;49;00m c == \u001b[33m\"\u001b[39;49;00m\u001b[33m'\u001b[39;49;00m\u001b[33m\"\u001b[39;49;00m) \u001b[35mand\u001b[39;49;00m tag:\u001b[37m\u001b[39;49;00m\n",
      "   251             quote = \u001b[35mnot\u001b[39;49;00m quote\u001b[37m\u001b[39;49;00m\n",
      "   252         \u001b[34melif\u001b[39;49;00m \u001b[35mnot\u001b[39;49;00m tag:\u001b[37m\u001b[39;49;00m\n",
      "   253             out = out + c\u001b[37m\u001b[39;49;00m\n",
      "   254 \u001b[37m\u001b[39;49;00m\n",
      "   255     \u001b[34mreturn\u001b[39;49;00m out\u001b[37m\u001b[39;49;00m\n"
     ]
    }
   ],
   "source": [
    "# ignore\n",
    "tag_deps.code()"
   ]
  },
  {
   "cell_type": "code",
   "execution_count": 52,
   "metadata": {
    "execution": {
     "iopub.execute_input": "2025-10-26T17:47:19.581176Z",
     "iopub.status.busy": "2025-10-26T17:47:19.581044Z",
     "iopub.status.idle": "2025-10-26T17:47:19.584489Z",
     "shell.execute_reply": "2025-10-26T17:47:19.584194Z"
    },
    "slideshow": {
     "slide_type": "subslide"
    },
    "tags": [
     "remove-input"
    ]
   },
   "outputs": [
    {
     "data": {
      "text/html": [
       "\n",
       "    \n",
       "    <script>\n",
       "    var bad_answers = new Map();\n",
       "\n",
       "    function answer(quiz_id) {\n",
       "        ans = 0;\n",
       "        for (i = 1;; i++) {\n",
       "            checkbox = document.getElementById(quiz_id + \"-\" + i.toString());\n",
       "            if (!checkbox)\n",
       "                break;\n",
       "            if (checkbox.checked)\n",
       "                ans |= (1 << i);\n",
       "        }\n",
       "        return ans;\n",
       "    }\n",
       "    function check_selection(quiz_id, correct_answer, multiple_choice, hint) {\n",
       "        given_answer = answer(quiz_id);\n",
       "        if (given_answer == correct_answer)\n",
       "        {\n",
       "            document.getElementById(quiz_id + \"-submit\").value = \"Correct!\";\n",
       "            document.getElementById(quiz_id + \"-hint\").innerHTML = \"\";\n",
       "\n",
       "            for (i = 1;; i++) {\n",
       "                checkbox = document.getElementById(quiz_id + \"-\" + i.toString());\n",
       "                label = document.getElementById(quiz_id + \"-\" + i.toString() + \"-label\")\n",
       "                if (!checkbox)\n",
       "                    break;\n",
       "\n",
       "                if (checkbox.checked) {\n",
       "                    label.style.fontWeight = \"bold\";\n",
       "                }\n",
       "                else {\n",
       "                    label.style.textDecoration = \"line-through\";\n",
       "                }\n",
       "            }\n",
       "        }\n",
       "        else \n",
       "        {\n",
       "            document.getElementById(quiz_id + \"-submit\").value = \"Try again\";\n",
       "\n",
       "            if (!bad_answers.has(quiz_id)) {\n",
       "                bad_answers.set(quiz_id, 1);\n",
       "            }\n",
       "            else {\n",
       "                bad_answers.set(quiz_id, bad_answers.get(quiz_id) + 1);\n",
       "            }\n",
       "\n",
       "            if (bad_answers.get(quiz_id) >= 2 && hint.length > 0) {\n",
       "                document.getElementById(quiz_id + \"-hint\").innerHTML = \n",
       "                    \"&nbsp;&nbsp;(Hint: <code>\" + hint + \"</code>)\";\n",
       "            }\n",
       "\n",
       "            if (!multiple_choice) {\n",
       "                for (i = 1;; i++) {\n",
       "                    checkbox = document.getElementById(quiz_id + \"-\" + i.toString());\n",
       "                    label = document.getElementById(quiz_id + \"-\" + i.toString() + \"-label\")\n",
       "\n",
       "                    if (!checkbox)\n",
       "                        break;\n",
       "                    if (checkbox.checked) {\n",
       "                        label.style.textDecoration = \"line-through\";\n",
       "                    }\n",
       "                }\n",
       "            }\n",
       "        }\n",
       "    }\n",
       "    function clear_selection(quiz_id) {\n",
       "        document.getElementById(quiz_id + \"-submit\").value = \"Submit\";\n",
       "        document.getElementById(quiz_id + \"-hint\").innerHTML = \"\";\n",
       "    }\n",
       "    </script>\n",
       "    \n",
       "    <div class=\"quiz\">\n",
       "    <h3 class=\"quiz_title\">Quiz</h3>\n",
       "    <p>\n",
       "    <div class=\"quiz_question\">How does the slice of <code>tag = True</code> change for a different value of <code>s</code>?</div>\n",
       "    </p>\n",
       "    <p>\n",
       "    <div class=\"quiz_options\" title=\"Check all that apply.\">\n",
       "    \n",
       "        <input type=\"checkbox\" name=\"d1a73226-b293-11f0-938a-6298cf1a5790\" id=\"d1a73226-b293-11f0-938a-6298cf1a5790-1\" onclick=\"clear_selection('d1a73226-b293-11f0-938a-6298cf1a5790')\">\n",
       "        <label id=\"d1a73226-b293-11f0-938a-6298cf1a5790-1-label\" for=\"d1a73226-b293-11f0-938a-6298cf1a5790-1\">Not at all</label><br>\n",
       "    \n",
       "        <input type=\"checkbox\" name=\"d1a73226-b293-11f0-938a-6298cf1a5790\" id=\"d1a73226-b293-11f0-938a-6298cf1a5790-2\" onclick=\"clear_selection('d1a73226-b293-11f0-938a-6298cf1a5790')\">\n",
       "        <label id=\"d1a73226-b293-11f0-938a-6298cf1a5790-2-label\" for=\"d1a73226-b293-11f0-938a-6298cf1a5790-2\">If <code>s</code> contains a quote, the <code>quote</code> slice is included, too</label><br>\n",
       "    \n",
       "        <input type=\"checkbox\" name=\"d1a73226-b293-11f0-938a-6298cf1a5790\" id=\"d1a73226-b293-11f0-938a-6298cf1a5790-3\" onclick=\"clear_selection('d1a73226-b293-11f0-938a-6298cf1a5790')\">\n",
       "        <label id=\"d1a73226-b293-11f0-938a-6298cf1a5790-3-label\" for=\"d1a73226-b293-11f0-938a-6298cf1a5790-3\">If <code>s</code> contains no HTML tag, the slice will be empty</label><br>\n",
       "    \n",
       "    </div>\n",
       "    </p>\n",
       "    <input id=\"d1a73226-b293-11f0-938a-6298cf1a5790-submit\" type=\"submit\" value=\"Submit\" onclick=\"check_selection('d1a73226-b293-11f0-938a-6298cf1a5790', 12, 1, '[1, 2, 3][1:]')\">\n",
       "    <span class=\"quiz_hint\" id=\"d1a73226-b293-11f0-938a-6298cf1a5790-hint\"></span>\n",
       "    </div>\n",
       "    "
      ],
      "text/plain": [
       "<IPython.core.display.HTML object>"
      ]
     },
     "execution_count": 52,
     "metadata": {},
     "output_type": "execute_result"
    }
   ],
   "source": [
    "quiz(\"How does the slice of `tag = True` change \"\n",
    "     \"for a different value of `s`?\",\n",
    "    [\n",
    "        \"Not at all\",\n",
    "        \"If `s` contains a quote, the `quote` slice is included, too\",\n",
    "        \"If `s` contains no HTML tag, the slice will be empty\"\n",
    "    ], '[1, 2, 3][1:]')"
   ]
  },
  {
   "cell_type": "markdown",
   "metadata": {
    "slideshow": {
     "slide_type": "fragment"
    }
   },
   "source": [
    "Indeed, our dynamic slices reflect dependencies as they occurred within a single execution. As the execution changes, so do the dependencies."
   ]
  },
  {
   "cell_type": "markdown",
   "metadata": {
    "slideshow": {
     "slide_type": "slide"
    }
   },
   "source": [
    "## Tracking Techniques\n",
    "\n",
    "For the remainder of this chapter, let us investigate means to _determine such dependencies_ automatically – by _collecting_ them during program execution. The idea is that with a single Python call, we can collect the dependencies for some computation, and present them to programmers – as graphs or as code annotations, as shown above."
   ]
  },
  {
   "cell_type": "markdown",
   "metadata": {
    "slideshow": {
     "slide_type": "fragment"
    }
   },
   "source": [
    "To track dependencies, for every variable, we need to keep track of its _origins_ – where it obtained its value, and which tests controlled its assignments. There are two ways to do so:\n",
    "\n",
    "* Wrapping Data Objects\n",
    "* Wrapping Data Accesses"
   ]
  },
  {
   "cell_type": "markdown",
   "metadata": {
    "slideshow": {
     "slide_type": "subslide"
    }
   },
   "source": [
    "### Wrapping Data Objects"
   ]
  },
  {
   "cell_type": "markdown",
   "metadata": {
    "slideshow": {
     "slide_type": "subslide"
    }
   },
   "source": [
    "One way to track origins is to _wrap_ each value in a class that stores both a value and the origin of the value. If a variable `x` is initialized to zero in Line 3, for instance, we could store it as\n",
    "```\n",
    "x = (value=0, origin=<Line 3>)\n",
    "```\n",
    "and if it is copied in, say, Line 5 to another variable `y`, we could store this as\n",
    "```\n",
    "y = (value=0, origin=<Line 3, Line 5>)\n",
    "```\n",
    "Such a scheme would allow us to track origins and dependencies right within the variable."
   ]
  },
  {
   "cell_type": "markdown",
   "metadata": {
    "slideshow": {
     "slide_type": "subslide"
    }
   },
   "source": [
    "In a language like Python, it is actually possibly to subclass from basic types. Here's how we create a `MyInt` subclass of `int`:"
   ]
  },
  {
   "cell_type": "code",
   "execution_count": 53,
   "metadata": {
    "execution": {
     "iopub.execute_input": "2025-10-26T17:47:19.586034Z",
     "iopub.status.busy": "2025-10-26T17:47:19.585948Z",
     "iopub.status.idle": "2025-10-26T17:47:19.587695Z",
     "shell.execute_reply": "2025-10-26T17:47:19.587474Z"
    },
    "slideshow": {
     "slide_type": "fragment"
    }
   },
   "outputs": [],
   "source": [
    "class MyInt(int):\n",
    "    def __new__(cls: Type, value: Any, *args: Any, **kwargs: Any) -> Any:\n",
    "        return super(cls, cls).__new__(cls, value)\n",
    "\n",
    "    def __repr__(self) -> str:\n",
    "        return f\"{int(self)}\""
   ]
  },
  {
   "cell_type": "code",
   "execution_count": 54,
   "metadata": {
    "execution": {
     "iopub.execute_input": "2025-10-26T17:47:19.588885Z",
     "iopub.status.busy": "2025-10-26T17:47:19.588807Z",
     "iopub.status.idle": "2025-10-26T17:47:19.590312Z",
     "shell.execute_reply": "2025-10-26T17:47:19.590079Z"
    },
    "slideshow": {
     "slide_type": "fragment"
    }
   },
   "outputs": [],
   "source": [
    "n: MyInt = MyInt(5)"
   ]
  },
  {
   "cell_type": "markdown",
   "metadata": {
    "slideshow": {
     "slide_type": "fragment"
    }
   },
   "source": [
    "We can access `n` just like any integer:"
   ]
  },
  {
   "cell_type": "code",
   "execution_count": 55,
   "metadata": {
    "execution": {
     "iopub.execute_input": "2025-10-26T17:47:19.592179Z",
     "iopub.status.busy": "2025-10-26T17:47:19.592073Z",
     "iopub.status.idle": "2025-10-26T17:47:19.594494Z",
     "shell.execute_reply": "2025-10-26T17:47:19.594057Z"
    },
    "slideshow": {
     "slide_type": "fragment"
    }
   },
   "outputs": [
    {
     "data": {
      "text/plain": [
       "(5, 6)"
      ]
     },
     "execution_count": 55,
     "metadata": {},
     "output_type": "execute_result"
    }
   ],
   "source": [
    "n, n + 1"
   ]
  },
  {
   "cell_type": "markdown",
   "metadata": {
    "slideshow": {
     "slide_type": "fragment"
    }
   },
   "source": [
    "However, we can also add extra attributes to it:"
   ]
  },
  {
   "cell_type": "code",
   "execution_count": 56,
   "metadata": {
    "execution": {
     "iopub.execute_input": "2025-10-26T17:47:19.596175Z",
     "iopub.status.busy": "2025-10-26T17:47:19.596071Z",
     "iopub.status.idle": "2025-10-26T17:47:19.597689Z",
     "shell.execute_reply": "2025-10-26T17:47:19.597442Z"
    },
    "slideshow": {
     "slide_type": "fragment"
    }
   },
   "outputs": [],
   "source": [
    "n.origin = \"Line 5\"  # type: ignore"
   ]
  },
  {
   "cell_type": "code",
   "execution_count": 57,
   "metadata": {
    "execution": {
     "iopub.execute_input": "2025-10-26T17:47:19.598884Z",
     "iopub.status.busy": "2025-10-26T17:47:19.598793Z",
     "iopub.status.idle": "2025-10-26T17:47:19.600458Z",
     "shell.execute_reply": "2025-10-26T17:47:19.600251Z"
    },
    "slideshow": {
     "slide_type": "subslide"
    }
   },
   "outputs": [
    {
     "data": {
      "text/plain": [
       "'Line 5'"
      ]
     },
     "execution_count": 57,
     "metadata": {},
     "output_type": "execute_result"
    }
   ],
   "source": [
    "n.origin  # type: ignore"
   ]
  },
  {
   "cell_type": "markdown",
   "metadata": {
    "slideshow": {
     "slide_type": "subslide"
    }
   },
   "source": [
    "Such a \"wrapping\" scheme has the advantage of _leaving program code untouched_ – simply pass \"wrapped\" objects instead of the original values. However, it also has a number of drawbacks.\n",
    "\n",
    "* First, we must make sure that the \"wrapper\" objects are still compatible with the original values – notably by converting them back whenever needed. (What happens if an internal Python function expects an `int` and gets a `MyInt` instead?)\n",
    "* Second, we have to make sure that origins do not get lost during computations – which involves overloading operators such as `+`, `-`, `*`, and so on. (Right now, `MyInt(1) + 1` gives us an `int` object, not a `MyInt`.)\n",
    "* Third, we have to do this for _all_ data types of a language, which is pretty tedious.\n",
    "* Fourth and last, however, we want to track whenever a value is assigned to another variable. Python has no support for this, and thus our dependencies will necessarily be incomplete."
   ]
  },
  {
   "cell_type": "markdown",
   "metadata": {
    "slideshow": {
     "slide_type": "subslide"
    }
   },
   "source": [
    "### Wrapping Data Accesses"
   ]
  },
  {
   "attachments": {},
   "cell_type": "markdown",
   "metadata": {
    "slideshow": {
     "slide_type": "subslide"
    }
   },
   "source": [
    "An alternate way of tracking origins is to _instrument_ the source code such that all _data read and write operations are tracked_. That is, the original data stays unchanged, but we change the code instead.\n",
    "\n",
    "In essence, for every occurrence of a variable `x` being _read_, we replace it with\n",
    "\n",
    "```python\n",
    "_data.get('x', x)  # returns x\n",
    "```\n",
    "\n",
    "and for every occurrence of a value being _written_ to `x`, we replace the value with\n",
    "\n",
    "```python\n",
    "_data.set('x', value)  # returns value\n",
    "```\n",
    "\n",
    "and let the `_data` object track these reads and writes.\n",
    "\n",
    "Hence, an assignment such as\n",
    "\n",
    "```python\n",
    "a = b + c\n",
    "```\n",
    "\n",
    "would get rewritten to\n",
    "\n",
    "```python\n",
    "a = _data.set('a', _data.get('b', b) + _data.get('c', c))\n",
    "```\n",
    "\n",
    "and with every access to `_data`, we would track \n",
    "\n",
    "1. the current _location_ in the code, and \n",
    "2. whether the respective variable was read or written.\n",
    "\n",
    "For the above statement, we could deduce that `b` and `c` were read, and `a` was written – which makes `a` data dependent on `b` and `c`."
   ]
  },
  {
   "cell_type": "markdown",
   "metadata": {
    "slideshow": {
     "slide_type": "subslide"
    }
   },
   "source": [
    "The advantage of such instrumentation is that it works with _arbitrary objects_ (in Python, that is) – we do not care whether `a`, `b`, and `c` would be integers, floats, strings, lists or any other type for which `+` would be defined. Also, the code semantics remain entirely unchanged.\n",
    "\n",
    "The disadvantage, however, is that it takes a bit of effort to exactly separate reads and writes into individual groups, and that a number of language features have to be handled separately. This is what we do in the remainder of this chapter."
   ]
  },
  {
   "cell_type": "markdown",
   "metadata": {
    "slideshow": {
     "slide_type": "slide"
    }
   },
   "source": [
    "## A Data Tracker\n",
    "\n",
    "To implement `_data` accesses as shown above, we introduce the `DataTracker` class. As its name suggests, it keeps track of variables being read and written, and provides methods to determine the code location where this took place."
   ]
  },
  {
   "cell_type": "code",
   "execution_count": 58,
   "metadata": {
    "execution": {
     "iopub.execute_input": "2025-10-26T17:47:19.602039Z",
     "iopub.status.busy": "2025-10-26T17:47:19.601942Z",
     "iopub.status.idle": "2025-10-26T17:47:19.603885Z",
     "shell.execute_reply": "2025-10-26T17:47:19.603595Z"
    },
    "slideshow": {
     "slide_type": "fragment"
    }
   },
   "outputs": [],
   "source": [
    "class DataTracker(StackInspector):\n",
    "    \"\"\"Track data accesses during execution\"\"\"\n",
    "\n",
    "    def __init__(self, log: bool = False) -> None:\n",
    "        \"\"\"Constructor. If `log` is set, turn on logging.\"\"\"\n",
    "        self.log = log"
   ]
  },
  {
   "cell_type": "markdown",
   "metadata": {
    "slideshow": {
     "slide_type": "subslide"
    }
   },
   "source": [
    "`set()` is invoked when a variable is set, as in\n",
    "\n",
    "```python\n",
    "pi = _data.set('pi', 3.1415)\n",
    "```\n",
    "\n",
    "By default, we simply log the access using name and value. (`loads` will be used later.)"
   ]
  },
  {
   "cell_type": "code",
   "execution_count": 59,
   "metadata": {
    "execution": {
     "iopub.execute_input": "2025-10-26T17:47:19.605435Z",
     "iopub.status.busy": "2025-10-26T17:47:19.605333Z",
     "iopub.status.idle": "2025-10-26T17:47:19.607768Z",
     "shell.execute_reply": "2025-10-26T17:47:19.607391Z"
    },
    "slideshow": {
     "slide_type": "subslide"
    }
   },
   "outputs": [],
   "source": [
    "class DataTracker(DataTracker):\n",
    "    def set(self, name: str, value: Any, loads: Optional[Set[str]] = None) -> Any:\n",
    "        \"\"\"Track setting `name` to `value`.\"\"\"\n",
    "        if self.log:\n",
    "            caller_func, lineno = self.caller_location()\n",
    "            print(f\"{caller_func.__name__}:{lineno}: setting {name}\")\n",
    "\n",
    "        return value"
   ]
  },
  {
   "cell_type": "markdown",
   "metadata": {
    "slideshow": {
     "slide_type": "fragment"
    }
   },
   "source": [
    "`get()` is invoked when a variable is retrieved, as in\n",
    "\n",
    "```python\n",
    "print(_data.get('pi', pi))\n",
    "```\n",
    "By default, we simply log the access."
   ]
  },
  {
   "cell_type": "code",
   "execution_count": 60,
   "metadata": {
    "execution": {
     "iopub.execute_input": "2025-10-26T17:47:19.609607Z",
     "iopub.status.busy": "2025-10-26T17:47:19.609471Z",
     "iopub.status.idle": "2025-10-26T17:47:19.611543Z",
     "shell.execute_reply": "2025-10-26T17:47:19.611329Z"
    },
    "slideshow": {
     "slide_type": "subslide"
    }
   },
   "outputs": [],
   "source": [
    "class DataTracker(DataTracker):\n",
    "    def get(self, name: str, value: Any) -> Any:\n",
    "        \"\"\"Track getting `value` from `name`.\"\"\"\n",
    "\n",
    "        if self.log:\n",
    "            caller_func, lineno = self.caller_location()\n",
    "            print(f\"{caller_func.__name__}:{lineno}: getting {name}\")\n",
    "\n",
    "        return value"
   ]
  },
  {
   "cell_type": "markdown",
   "metadata": {
    "slideshow": {
     "slide_type": "fragment"
    }
   },
   "source": [
    "Here's an example of a logging `DataTracker`:"
   ]
  },
  {
   "cell_type": "code",
   "execution_count": 61,
   "metadata": {
    "execution": {
     "iopub.execute_input": "2025-10-26T17:47:19.612856Z",
     "iopub.status.busy": "2025-10-26T17:47:19.612756Z",
     "iopub.status.idle": "2025-10-26T17:47:19.614411Z",
     "shell.execute_reply": "2025-10-26T17:47:19.614207Z"
    },
    "slideshow": {
     "slide_type": "fragment"
    }
   },
   "outputs": [
    {
     "name": "stdout",
     "output_type": "stream",
     "text": [
      "<module>:2: setting x\n"
     ]
    }
   ],
   "source": [
    "_test_data = DataTracker(log=True)\n",
    "x = _test_data.set('x', 1)"
   ]
  },
  {
   "cell_type": "code",
   "execution_count": 62,
   "metadata": {
    "execution": {
     "iopub.execute_input": "2025-10-26T17:47:19.615595Z",
     "iopub.status.busy": "2025-10-26T17:47:19.615519Z",
     "iopub.status.idle": "2025-10-26T17:47:19.617585Z",
     "shell.execute_reply": "2025-10-26T17:47:19.617299Z"
    },
    "slideshow": {
     "slide_type": "subslide"
    }
   },
   "outputs": [
    {
     "name": "stdout",
     "output_type": "stream",
     "text": [
      "<module>:1: getting x\n"
     ]
    },
    {
     "data": {
      "text/plain": [
       "1"
      ]
     },
     "execution_count": 62,
     "metadata": {},
     "output_type": "execute_result"
    }
   ],
   "source": [
    "_test_data.get('x', x)"
   ]
  },
  {
   "cell_type": "markdown",
   "metadata": {
    "slideshow": {
     "slide_type": "slide"
    }
   },
   "source": [
    "## Instrumenting Source Code\n",
    "\n",
    "How do we transform source code such that read and write accesses to variables would be automatically rewritten?  To this end, we inspect the internal representation of source code, namely the _abstract syntax trees_ (ASTs). An AST represents the code as a tree, with specific node types for each syntactical element."
   ]
  },
  {
   "cell_type": "code",
   "execution_count": 63,
   "metadata": {
    "execution": {
     "iopub.execute_input": "2025-10-26T17:47:19.618891Z",
     "iopub.status.busy": "2025-10-26T17:47:19.618800Z",
     "iopub.status.idle": "2025-10-26T17:47:19.620379Z",
     "shell.execute_reply": "2025-10-26T17:47:19.620113Z"
    },
    "slideshow": {
     "slide_type": "skip"
    }
   },
   "outputs": [],
   "source": [
    "import ast"
   ]
  },
  {
   "cell_type": "code",
   "execution_count": 64,
   "metadata": {
    "execution": {
     "iopub.execute_input": "2025-10-26T17:47:19.621809Z",
     "iopub.status.busy": "2025-10-26T17:47:19.621711Z",
     "iopub.status.idle": "2025-10-26T17:47:19.623387Z",
     "shell.execute_reply": "2025-10-26T17:47:19.623159Z"
    },
    "slideshow": {
     "slide_type": "skip"
    }
   },
   "outputs": [],
   "source": [
    "from bookutils import show_ast"
   ]
  },
  {
   "cell_type": "markdown",
   "metadata": {
    "slideshow": {
     "slide_type": "fragment"
    }
   },
   "source": [
    "Here is the tree representation for our `middle()` function. It starts with a `FunctionDef` node at the top (with the name `\"middle\"` and the three arguments `x`, `y`, `z` as children), followed by a subtree for each of the `If` statements, each of which contains a branch for when their condition evaluates to `True` and a branch for when their condition evaluates to `False`."
   ]
  },
  {
   "cell_type": "code",
   "execution_count": 65,
   "metadata": {
    "execution": {
     "iopub.execute_input": "2025-10-26T17:47:19.624574Z",
     "iopub.status.busy": "2025-10-26T17:47:19.624507Z",
     "iopub.status.idle": "2025-10-26T17:47:20.007003Z",
     "shell.execute_reply": "2025-10-26T17:47:20.006594Z"
    },
    "slideshow": {
     "slide_type": "subslide"
    }
   },
   "outputs": [
    {
     "data": {
      "image/svg+xml": [
       "<svg xmlns=\"http://www.w3.org/2000/svg\" xmlns:xlink=\"http://www.w3.org/1999/xlink\" width=\"1862pt\" height=\"476pt\" viewBox=\"0.00 0.00 1862.00 476.00\">\n",
       "<g id=\"graph0\" class=\"graph\" transform=\"scale(1 1) rotate(0) translate(4 472)\">\n",
       "<polygon fill=\"white\" stroke=\"none\" points=\"-4,4 -4,-472 1858,-472 1858,4 -4,4\"/>\n",
       "<!-- 0 -->\n",
       "<g id=\"node1\" class=\"node\">\n",
       "<title>0</title>\n",
       "<text xml:space=\"preserve\" text-anchor=\"start\" x=\"197.62\" y=\"-445.95\" font-family=\"Courier,monospace\" font-weight=\"bold\" font-size=\"14.00\" fill=\"#004080\">FunctionDef</text>\n",
       "</g>\n",
       "<!-- 1 -->\n",
       "<g id=\"node2\" class=\"node\">\n",
       "<title>1</title>\n",
       "<text xml:space=\"preserve\" text-anchor=\"middle\" x=\"67\" y=\"-372.95\" font-family=\"Courier,monospace\" font-size=\"14.00\" fill=\"#008040\">\"middle\"</text>\n",
       "</g>\n",
       "<!-- 0&#45;&#45;1 -->\n",
       "<g id=\"edge1\" class=\"edge\">\n",
       "<title>0--1</title>\n",
       "<path fill=\"none\" stroke=\"black\" d=\"M247,-431C247,-431 174.24,-413.42 117,-396 114.02,-395.09 110.95,-394.13 107.86,-393.13\"/>\n",
       "</g>\n",
       "<!-- 2 -->\n",
       "<g id=\"node3\" class=\"node\">\n",
       "<title>2</title>\n",
       "<text xml:space=\"preserve\" text-anchor=\"start\" x=\"133.88\" y=\"-373.95\" font-family=\"Courier,monospace\" font-weight=\"bold\" font-size=\"14.00\" fill=\"#004080\">arguments</text>\n",
       "</g>\n",
       "<!-- 0&#45;&#45;2 -->\n",
       "<g id=\"edge2\" class=\"edge\">\n",
       "<title>0--2</title>\n",
       "<path fill=\"none\" stroke=\"black\" d=\"M247,-431C247,-431 217.68,-410.94 195.47,-395.74\"/>\n",
       "</g>\n",
       "<!-- 9 -->\n",
       "<g id=\"node10\" class=\"node\">\n",
       "<title>9</title>\n",
       "<text xml:space=\"preserve\" text-anchor=\"start\" x=\"464.75\" y=\"-373.95\" font-family=\"Courier,monospace\" font-weight=\"bold\" font-size=\"14.00\" fill=\"#004080\">If</text>\n",
       "</g>\n",
       "<!-- 0&#45;&#45;9 -->\n",
       "<g id=\"edge9\" class=\"edge\">\n",
       "<title>0--9</title>\n",
       "<path fill=\"none\" stroke=\"black\" d=\"M247,-431C247,-431 386.32,-398.94 446.19,-385.17\"/>\n",
       "</g>\n",
       "<!-- 70 -->\n",
       "<g id=\"node71\" class=\"node\">\n",
       "<title>70</title>\n",
       "<text xml:space=\"preserve\" text-anchor=\"start\" x=\"1111.25\" y=\"-373.95\" font-family=\"Courier,monospace\" font-weight=\"bold\" font-size=\"14.00\" fill=\"#004080\">Return</text>\n",
       "</g>\n",
       "<!-- 0&#45;&#45;70 -->\n",
       "<g id=\"edge70\" class=\"edge\">\n",
       "<title>0--70</title>\n",
       "<path fill=\"none\" stroke=\"black\" d=\"M247,-431C247,-431 942.92,-390.29 1103.31,-380.91\"/>\n",
       "</g>\n",
       "<!-- 3 -->\n",
       "<g id=\"node4\" class=\"node\">\n",
       "<title>3</title>\n",
       "<text xml:space=\"preserve\" text-anchor=\"start\" x=\"14.62\" y=\"-301.95\" font-family=\"Courier,monospace\" font-weight=\"bold\" font-size=\"14.00\" fill=\"#004080\">arg</text>\n",
       "</g>\n",
       "<!-- 2&#45;&#45;3 -->\n",
       "<g id=\"edge3\" class=\"edge\">\n",
       "<title>2--3</title>\n",
       "<path fill=\"none\" stroke=\"black\" d=\"M158,-359C158,-359 104.5,-341.4 63,-324 59.94,-322.72 56.76,-321.32 53.62,-319.89\"/>\n",
       "</g>\n",
       "<!-- 5 -->\n",
       "<g id=\"node6\" class=\"node\">\n",
       "<title>5</title>\n",
       "<text xml:space=\"preserve\" text-anchor=\"start\" x=\"86.62\" y=\"-301.95\" font-family=\"Courier,monospace\" font-weight=\"bold\" font-size=\"14.00\" fill=\"#004080\">arg</text>\n",
       "</g>\n",
       "<!-- 2&#45;&#45;5 -->\n",
       "<g id=\"edge5\" class=\"edge\">\n",
       "<title>2--5</title>\n",
       "<path fill=\"none\" stroke=\"black\" d=\"M158,-359C158,-359 135.24,-338.94 117.99,-323.74\"/>\n",
       "</g>\n",
       "<!-- 7 -->\n",
       "<g id=\"node8\" class=\"node\">\n",
       "<title>7</title>\n",
       "<text xml:space=\"preserve\" text-anchor=\"start\" x=\"158.62\" y=\"-301.95\" font-family=\"Courier,monospace\" font-weight=\"bold\" font-size=\"14.00\" fill=\"#004080\">arg</text>\n",
       "</g>\n",
       "<!-- 2&#45;&#45;7 -->\n",
       "<g id=\"edge7\" class=\"edge\">\n",
       "<title>2--7</title>\n",
       "<path fill=\"none\" stroke=\"black\" d=\"M158,-359C158,-359 163.01,-338.94 166.82,-323.74\"/>\n",
       "</g>\n",
       "<!-- 4 -->\n",
       "<g id=\"node5\" class=\"node\">\n",
       "<title>4</title>\n",
       "<text xml:space=\"preserve\" text-anchor=\"middle\" x=\"27\" y=\"-228.95\" font-family=\"Courier,monospace\" font-size=\"14.00\" fill=\"#008040\">\"x\"</text>\n",
       "</g>\n",
       "<!-- 3&#45;&#45;4 -->\n",
       "<g id=\"edge4\" class=\"edge\">\n",
       "<title>3--4</title>\n",
       "<path fill=\"none\" stroke=\"black\" d=\"M27,-288.05C27,-277.05 27,-262.76 27,-251.79\"/>\n",
       "</g>\n",
       "<!-- 6 -->\n",
       "<g id=\"node7\" class=\"node\">\n",
       "<title>6</title>\n",
       "<text xml:space=\"preserve\" text-anchor=\"middle\" x=\"99\" y=\"-228.95\" font-family=\"Courier,monospace\" font-size=\"14.00\" fill=\"#008040\">\"y\"</text>\n",
       "</g>\n",
       "<!-- 5&#45;&#45;6 -->\n",
       "<g id=\"edge6\" class=\"edge\">\n",
       "<title>5--6</title>\n",
       "<path fill=\"none\" stroke=\"black\" d=\"M99,-288.05C99,-277.05 99,-262.76 99,-251.79\"/>\n",
       "</g>\n",
       "<!-- 8 -->\n",
       "<g id=\"node9\" class=\"node\">\n",
       "<title>8</title>\n",
       "<text xml:space=\"preserve\" text-anchor=\"middle\" x=\"171\" y=\"-228.95\" font-family=\"Courier,monospace\" font-size=\"14.00\" fill=\"#008040\">\"z\"</text>\n",
       "</g>\n",
       "<!-- 7&#45;&#45;8 -->\n",
       "<g id=\"edge8\" class=\"edge\">\n",
       "<title>7--8</title>\n",
       "<path fill=\"none\" stroke=\"black\" d=\"M171,-288.05C171,-277.05 171,-262.76 171,-251.79\"/>\n",
       "</g>\n",
       "<!-- 10 -->\n",
       "<g id=\"node11\" class=\"node\">\n",
       "<title>10</title>\n",
       "<text xml:space=\"preserve\" text-anchor=\"start\" x=\"322.12\" y=\"-301.95\" font-family=\"Courier,monospace\" font-weight=\"bold\" font-size=\"14.00\" fill=\"#004080\">Compare</text>\n",
       "</g>\n",
       "<!-- 9&#45;&#45;10 -->\n",
       "<g id=\"edge10\" class=\"edge\">\n",
       "<title>9--10</title>\n",
       "<path fill=\"none\" stroke=\"black\" d=\"M490,-359C490,-359 428.7,-336.07 387.52,-320.66\"/>\n",
       "</g>\n",
       "<!-- 18 -->\n",
       "<g id=\"node19\" class=\"node\">\n",
       "<title>18</title>\n",
       "<text xml:space=\"preserve\" text-anchor=\"start\" x=\"594.75\" y=\"-301.95\" font-family=\"Courier,monospace\" font-weight=\"bold\" font-size=\"14.00\" fill=\"#004080\">If</text>\n",
       "</g>\n",
       "<!-- 9&#45;&#45;18 -->\n",
       "<g id=\"edge18\" class=\"edge\">\n",
       "<title>9--18</title>\n",
       "<path fill=\"none\" stroke=\"black\" d=\"M490,-359C490,-359 542.8,-334.7 576.22,-319.32\"/>\n",
       "</g>\n",
       "<!-- 44 -->\n",
       "<g id=\"node45\" class=\"node\">\n",
       "<title>44</title>\n",
       "<text xml:space=\"preserve\" text-anchor=\"start\" x=\"1314.75\" y=\"-301.95\" font-family=\"Courier,monospace\" font-weight=\"bold\" font-size=\"14.00\" fill=\"#004080\">If</text>\n",
       "</g>\n",
       "<!-- 9&#45;&#45;44 -->\n",
       "<g id=\"edge44\" class=\"edge\">\n",
       "<title>9--44</title>\n",
       "<path fill=\"none\" stroke=\"black\" d=\"M490,-359C490,-359 1153.65,-317.57 1296.23,-308.67\"/>\n",
       "</g>\n",
       "<!-- 11 -->\n",
       "<g id=\"node12\" class=\"node\">\n",
       "<title>11</title>\n",
       "<text xml:space=\"preserve\" text-anchor=\"start\" x=\"226.5\" y=\"-229.95\" font-family=\"Courier,monospace\" font-weight=\"bold\" font-size=\"14.00\" fill=\"#004080\">Name</text>\n",
       "</g>\n",
       "<!-- 10&#45;&#45;11 -->\n",
       "<g id=\"edge11\" class=\"edge\">\n",
       "<title>10--11</title>\n",
       "<path fill=\"none\" stroke=\"black\" d=\"M345,-287C345,-287 300.02,-264.07 269.8,-248.66\"/>\n",
       "</g>\n",
       "<!-- 14 -->\n",
       "<g id=\"node15\" class=\"node\">\n",
       "<title>14</title>\n",
       "<text xml:space=\"preserve\" text-anchor=\"middle\" x=\"315\" y=\"-228.95\" font-family=\"Courier,monospace\" font-size=\"14.00\" fill=\"#008040\">Lt</text>\n",
       "</g>\n",
       "<!-- 10&#45;&#45;14 -->\n",
       "<g id=\"edge14\" class=\"edge\">\n",
       "<title>10--14</title>\n",
       "<path fill=\"none\" stroke=\"black\" d=\"M345,-287C345,-287 333.43,-266.94 324.66,-251.74\"/>\n",
       "</g>\n",
       "<!-- 15 -->\n",
       "<g id=\"node16\" class=\"node\">\n",
       "<title>15</title>\n",
       "<text xml:space=\"preserve\" text-anchor=\"start\" x=\"370.5\" y=\"-229.95\" font-family=\"Courier,monospace\" font-weight=\"bold\" font-size=\"14.00\" fill=\"#004080\">Name</text>\n",
       "</g>\n",
       "<!-- 10&#45;&#45;15 -->\n",
       "<g id=\"edge15\" class=\"edge\">\n",
       "<title>10--15</title>\n",
       "<path fill=\"none\" stroke=\"black\" d=\"M345,-287C345,-287 361.2,-266.94 373.48,-251.74\"/>\n",
       "</g>\n",
       "<!-- 12 -->\n",
       "<g id=\"node13\" class=\"node\">\n",
       "<title>12</title>\n",
       "<text xml:space=\"preserve\" text-anchor=\"middle\" x=\"171\" y=\"-156.95\" font-family=\"Courier,monospace\" font-size=\"14.00\" fill=\"#008040\">\"y\"</text>\n",
       "</g>\n",
       "<!-- 11&#45;&#45;12 -->\n",
       "<g id=\"edge12\" class=\"edge\">\n",
       "<title>11--12</title>\n",
       "<path fill=\"none\" stroke=\"black\" d=\"M236,-215C236,-215 210.93,-194.94 191.92,-179.74\"/>\n",
       "</g>\n",
       "<!-- 13 -->\n",
       "<g id=\"node14\" class=\"node\">\n",
       "<title>13</title>\n",
       "<text xml:space=\"preserve\" text-anchor=\"middle\" x=\"243\" y=\"-156.95\" font-family=\"Courier,monospace\" font-size=\"14.00\" fill=\"#008040\">Load</text>\n",
       "</g>\n",
       "<!-- 11&#45;&#45;13 -->\n",
       "<g id=\"edge13\" class=\"edge\">\n",
       "<title>11--13</title>\n",
       "<path fill=\"none\" stroke=\"black\" d=\"M236,-215C236,-215 238.7,-194.94 240.75,-179.74\"/>\n",
       "</g>\n",
       "<!-- 16 -->\n",
       "<g id=\"node17\" class=\"node\">\n",
       "<title>16</title>\n",
       "<text xml:space=\"preserve\" text-anchor=\"middle\" x=\"315\" y=\"-156.95\" font-family=\"Courier,monospace\" font-size=\"14.00\" fill=\"#008040\">\"z\"</text>\n",
       "</g>\n",
       "<!-- 15&#45;&#45;16 -->\n",
       "<g id=\"edge16\" class=\"edge\">\n",
       "<title>15--16</title>\n",
       "<path fill=\"none\" stroke=\"black\" d=\"M380,-215C380,-215 354.93,-194.94 335.92,-179.74\"/>\n",
       "</g>\n",
       "<!-- 17 -->\n",
       "<g id=\"node18\" class=\"node\">\n",
       "<title>17</title>\n",
       "<text xml:space=\"preserve\" text-anchor=\"middle\" x=\"387\" y=\"-156.95\" font-family=\"Courier,monospace\" font-size=\"14.00\" fill=\"#008040\">Load</text>\n",
       "</g>\n",
       "<!-- 15&#45;&#45;17 -->\n",
       "<g id=\"edge17\" class=\"edge\">\n",
       "<title>15--17</title>\n",
       "<path fill=\"none\" stroke=\"black\" d=\"M380,-215C380,-215 382.7,-194.94 384.75,-179.74\"/>\n",
       "</g>\n",
       "<!-- 19 -->\n",
       "<g id=\"node20\" class=\"node\">\n",
       "<title>19</title>\n",
       "<text xml:space=\"preserve\" text-anchor=\"start\" x=\"516.12\" y=\"-229.95\" font-family=\"Courier,monospace\" font-weight=\"bold\" font-size=\"14.00\" fill=\"#004080\">Compare</text>\n",
       "</g>\n",
       "<!-- 18&#45;&#45;19 -->\n",
       "<g id=\"edge19\" class=\"edge\">\n",
       "<title>18--19</title>\n",
       "<path fill=\"none\" stroke=\"black\" d=\"M613,-287C613,-287 586.77,-266.94 566.89,-251.74\"/>\n",
       "</g>\n",
       "<!-- 27 -->\n",
       "<g id=\"node28\" class=\"node\">\n",
       "<title>27</title>\n",
       "<text xml:space=\"preserve\" text-anchor=\"start\" x=\"636.25\" y=\"-229.95\" font-family=\"Courier,monospace\" font-weight=\"bold\" font-size=\"14.00\" fill=\"#004080\">Return</text>\n",
       "</g>\n",
       "<!-- 18&#45;&#45;27 -->\n",
       "<g id=\"edge27\" class=\"edge\">\n",
       "<title>18--27</title>\n",
       "<path fill=\"none\" stroke=\"black\" d=\"M613,-287C613,-287 631.52,-266.94 645.55,-251.74\"/>\n",
       "</g>\n",
       "<!-- 31 -->\n",
       "<g id=\"node32\" class=\"node\">\n",
       "<title>31</title>\n",
       "<text xml:space=\"preserve\" text-anchor=\"start\" x=\"882.75\" y=\"-229.95\" font-family=\"Courier,monospace\" font-weight=\"bold\" font-size=\"14.00\" fill=\"#004080\">If</text>\n",
       "</g>\n",
       "<!-- 18&#45;&#45;31 -->\n",
       "<g id=\"edge31\" class=\"edge\">\n",
       "<title>18--31</title>\n",
       "<path fill=\"none\" stroke=\"black\" d=\"M613,-287C613,-287 794.32,-253.08 864.09,-240.03\"/>\n",
       "</g>\n",
       "<!-- 20 -->\n",
       "<g id=\"node21\" class=\"node\">\n",
       "<title>20</title>\n",
       "<text xml:space=\"preserve\" text-anchor=\"start\" x=\"442.5\" y=\"-157.95\" font-family=\"Courier,monospace\" font-weight=\"bold\" font-size=\"14.00\" fill=\"#004080\">Name</text>\n",
       "</g>\n",
       "<!-- 19&#45;&#45;20 -->\n",
       "<g id=\"edge20\" class=\"edge\">\n",
       "<title>19--20</title>\n",
       "<path fill=\"none\" stroke=\"black\" d=\"M543,-215C543,-215 510.19,-194.69 485.58,-179.45\"/>\n",
       "</g>\n",
       "<!-- 23 -->\n",
       "<g id=\"node24\" class=\"node\">\n",
       "<title>23</title>\n",
       "<text xml:space=\"preserve\" text-anchor=\"middle\" x=\"531\" y=\"-156.95\" font-family=\"Courier,monospace\" font-size=\"14.00\" fill=\"#008040\">Lt</text>\n",
       "</g>\n",
       "<!-- 19&#45;&#45;23 -->\n",
       "<g id=\"edge23\" class=\"edge\">\n",
       "<title>19--23</title>\n",
       "<path fill=\"none\" stroke=\"black\" d=\"M543,-215C543,-215 538.37,-194.94 534.86,-179.74\"/>\n",
       "</g>\n",
       "<!-- 24 -->\n",
       "<g id=\"node25\" class=\"node\">\n",
       "<title>24</title>\n",
       "<text xml:space=\"preserve\" text-anchor=\"start\" x=\"586.5\" y=\"-157.95\" font-family=\"Courier,monospace\" font-weight=\"bold\" font-size=\"14.00\" fill=\"#004080\">Name</text>\n",
       "</g>\n",
       "<!-- 19&#45;&#45;24 -->\n",
       "<g id=\"edge24\" class=\"edge\">\n",
       "<title>19--24</title>\n",
       "<path fill=\"none\" stroke=\"black\" d=\"M543,-215C543,-215 566.15,-194.94 583.69,-179.74\"/>\n",
       "</g>\n",
       "<!-- 21 -->\n",
       "<g id=\"node22\" class=\"node\">\n",
       "<title>21</title>\n",
       "<text xml:space=\"preserve\" text-anchor=\"middle\" x=\"387\" y=\"-84.95\" font-family=\"Courier,monospace\" font-size=\"14.00\" fill=\"#008040\">\"x\"</text>\n",
       "</g>\n",
       "<!-- 20&#45;&#45;21 -->\n",
       "<g id=\"edge21\" class=\"edge\">\n",
       "<title>20--21</title>\n",
       "<path fill=\"none\" stroke=\"black\" d=\"M452,-143C452,-143 426.93,-122.94 407.92,-107.74\"/>\n",
       "</g>\n",
       "<!-- 22 -->\n",
       "<g id=\"node23\" class=\"node\">\n",
       "<title>22</title>\n",
       "<text xml:space=\"preserve\" text-anchor=\"middle\" x=\"459\" y=\"-84.95\" font-family=\"Courier,monospace\" font-size=\"14.00\" fill=\"#008040\">Load</text>\n",
       "</g>\n",
       "<!-- 20&#45;&#45;22 -->\n",
       "<g id=\"edge22\" class=\"edge\">\n",
       "<title>20--22</title>\n",
       "<path fill=\"none\" stroke=\"black\" d=\"M452,-143C452,-143 454.7,-122.94 456.75,-107.74\"/>\n",
       "</g>\n",
       "<!-- 25 -->\n",
       "<g id=\"node26\" class=\"node\">\n",
       "<title>25</title>\n",
       "<text xml:space=\"preserve\" text-anchor=\"middle\" x=\"531\" y=\"-84.95\" font-family=\"Courier,monospace\" font-size=\"14.00\" fill=\"#008040\">\"y\"</text>\n",
       "</g>\n",
       "<!-- 24&#45;&#45;25 -->\n",
       "<g id=\"edge25\" class=\"edge\">\n",
       "<title>24--25</title>\n",
       "<path fill=\"none\" stroke=\"black\" d=\"M596,-143C596,-143 570.93,-122.94 551.92,-107.74\"/>\n",
       "</g>\n",
       "<!-- 26 -->\n",
       "<g id=\"node27\" class=\"node\">\n",
       "<title>26</title>\n",
       "<text xml:space=\"preserve\" text-anchor=\"middle\" x=\"603\" y=\"-84.95\" font-family=\"Courier,monospace\" font-size=\"14.00\" fill=\"#008040\">Load</text>\n",
       "</g>\n",
       "<!-- 24&#45;&#45;26 -->\n",
       "<g id=\"edge26\" class=\"edge\">\n",
       "<title>24--26</title>\n",
       "<path fill=\"none\" stroke=\"black\" d=\"M596,-143C596,-143 598.7,-122.94 600.75,-107.74\"/>\n",
       "</g>\n",
       "<!-- 28 -->\n",
       "<g id=\"node29\" class=\"node\">\n",
       "<title>28</title>\n",
       "<text xml:space=\"preserve\" text-anchor=\"start\" x=\"658.5\" y=\"-157.95\" font-family=\"Courier,monospace\" font-weight=\"bold\" font-size=\"14.00\" fill=\"#004080\">Name</text>\n",
       "</g>\n",
       "<!-- 27&#45;&#45;28 -->\n",
       "<g id=\"edge28\" class=\"edge\">\n",
       "<title>27--28</title>\n",
       "<path fill=\"none\" stroke=\"black\" d=\"M664.39,-216.05C666.59,-205.05 669.45,-190.76 671.64,-179.79\"/>\n",
       "</g>\n",
       "<!-- 29 -->\n",
       "<g id=\"node30\" class=\"node\">\n",
       "<title>29</title>\n",
       "<text xml:space=\"preserve\" text-anchor=\"middle\" x=\"675\" y=\"-84.95\" font-family=\"Courier,monospace\" font-size=\"14.00\" fill=\"#008040\">\"y\"</text>\n",
       "</g>\n",
       "<!-- 28&#45;&#45;29 -->\n",
       "<g id=\"edge29\" class=\"edge\">\n",
       "<title>28--29</title>\n",
       "<path fill=\"none\" stroke=\"black\" d=\"M682,-143C682,-143 679.3,-122.94 677.25,-107.74\"/>\n",
       "</g>\n",
       "<!-- 30 -->\n",
       "<g id=\"node31\" class=\"node\">\n",
       "<title>30</title>\n",
       "<text xml:space=\"preserve\" text-anchor=\"middle\" x=\"747\" y=\"-84.95\" font-family=\"Courier,monospace\" font-size=\"14.00\" fill=\"#008040\">Load</text>\n",
       "</g>\n",
       "<!-- 28&#45;&#45;30 -->\n",
       "<g id=\"edge30\" class=\"edge\">\n",
       "<title>28--30</title>\n",
       "<path fill=\"none\" stroke=\"black\" d=\"M682,-143C682,-143 707.07,-122.94 726.08,-107.74\"/>\n",
       "</g>\n",
       "<!-- 32 -->\n",
       "<g id=\"node33\" class=\"node\">\n",
       "<title>32</title>\n",
       "<text xml:space=\"preserve\" text-anchor=\"start\" x=\"862.12\" y=\"-157.95\" font-family=\"Courier,monospace\" font-weight=\"bold\" font-size=\"14.00\" fill=\"#004080\">Compare</text>\n",
       "</g>\n",
       "<!-- 31&#45;&#45;32 -->\n",
       "<g id=\"edge32\" class=\"edge\">\n",
       "<title>31--32</title>\n",
       "<path fill=\"none\" stroke=\"black\" d=\"M901,-215C901,-215 897.14,-194.94 894.22,-179.74\"/>\n",
       "</g>\n",
       "<!-- 40 -->\n",
       "<g id=\"node41\" class=\"node\">\n",
       "<title>40</title>\n",
       "<text xml:space=\"preserve\" text-anchor=\"start\" x=\"982.25\" y=\"-157.95\" font-family=\"Courier,monospace\" font-weight=\"bold\" font-size=\"14.00\" fill=\"#004080\">Return</text>\n",
       "</g>\n",
       "<!-- 31&#45;&#45;40 -->\n",
       "<g id=\"edge40\" class=\"edge\">\n",
       "<title>31--40</title>\n",
       "<path fill=\"none\" stroke=\"black\" d=\"M901,-215C901,-215 943.19,-194.3 974.33,-179.03\"/>\n",
       "</g>\n",
       "<!-- 33 -->\n",
       "<g id=\"node34\" class=\"node\">\n",
       "<title>33</title>\n",
       "<text xml:space=\"preserve\" text-anchor=\"start\" x=\"802.5\" y=\"-85.95\" font-family=\"Courier,monospace\" font-weight=\"bold\" font-size=\"14.00\" fill=\"#004080\">Name</text>\n",
       "</g>\n",
       "<!-- 32&#45;&#45;33 -->\n",
       "<g id=\"edge33\" class=\"edge\">\n",
       "<title>32--33</title>\n",
       "<path fill=\"none\" stroke=\"black\" d=\"M891,-143C891,-143 863.23,-122.94 842.18,-107.74\"/>\n",
       "</g>\n",
       "<!-- 36 -->\n",
       "<g id=\"node37\" class=\"node\">\n",
       "<title>36</title>\n",
       "<text xml:space=\"preserve\" text-anchor=\"middle\" x=\"891\" y=\"-84.95\" font-family=\"Courier,monospace\" font-size=\"14.00\" fill=\"#008040\">Lt</text>\n",
       "</g>\n",
       "<!-- 32&#45;&#45;36 -->\n",
       "<g id=\"edge36\" class=\"edge\">\n",
       "<title>32--36</title>\n",
       "<path fill=\"none\" stroke=\"black\" d=\"M891,-143C891,-143 891,-122.94 891,-107.74\"/>\n",
       "</g>\n",
       "<!-- 37 -->\n",
       "<g id=\"node38\" class=\"node\">\n",
       "<title>37</title>\n",
       "<text xml:space=\"preserve\" text-anchor=\"start\" x=\"946.5\" y=\"-85.95\" font-family=\"Courier,monospace\" font-weight=\"bold\" font-size=\"14.00\" fill=\"#004080\">Name</text>\n",
       "</g>\n",
       "<!-- 32&#45;&#45;37 -->\n",
       "<g id=\"edge37\" class=\"edge\">\n",
       "<title>32--37</title>\n",
       "<path fill=\"none\" stroke=\"black\" d=\"M891,-143C891,-143 918.77,-122.94 939.82,-107.74\"/>\n",
       "</g>\n",
       "<!-- 34 -->\n",
       "<g id=\"node35\" class=\"node\">\n",
       "<title>34</title>\n",
       "<text xml:space=\"preserve\" text-anchor=\"middle\" x=\"747\" y=\"-12.95\" font-family=\"Courier,monospace\" font-size=\"14.00\" fill=\"#008040\">\"x\"</text>\n",
       "</g>\n",
       "<!-- 33&#45;&#45;34 -->\n",
       "<g id=\"edge34\" class=\"edge\">\n",
       "<title>33--34</title>\n",
       "<path fill=\"none\" stroke=\"black\" d=\"M812,-71C812,-71 786.93,-50.94 767.92,-35.74\"/>\n",
       "</g>\n",
       "<!-- 35 -->\n",
       "<g id=\"node36\" class=\"node\">\n",
       "<title>35</title>\n",
       "<text xml:space=\"preserve\" text-anchor=\"middle\" x=\"819\" y=\"-12.95\" font-family=\"Courier,monospace\" font-size=\"14.00\" fill=\"#008040\">Load</text>\n",
       "</g>\n",
       "<!-- 33&#45;&#45;35 -->\n",
       "<g id=\"edge35\" class=\"edge\">\n",
       "<title>33--35</title>\n",
       "<path fill=\"none\" stroke=\"black\" d=\"M812,-71C812,-71 814.7,-50.94 816.75,-35.74\"/>\n",
       "</g>\n",
       "<!-- 38 -->\n",
       "<g id=\"node39\" class=\"node\">\n",
       "<title>38</title>\n",
       "<text xml:space=\"preserve\" text-anchor=\"middle\" x=\"891\" y=\"-12.95\" font-family=\"Courier,monospace\" font-size=\"14.00\" fill=\"#008040\">\"z\"</text>\n",
       "</g>\n",
       "<!-- 37&#45;&#45;38 -->\n",
       "<g id=\"edge38\" class=\"edge\">\n",
       "<title>37--38</title>\n",
       "<path fill=\"none\" stroke=\"black\" d=\"M956,-71C956,-71 930.93,-50.94 911.92,-35.74\"/>\n",
       "</g>\n",
       "<!-- 39 -->\n",
       "<g id=\"node40\" class=\"node\">\n",
       "<title>39</title>\n",
       "<text xml:space=\"preserve\" text-anchor=\"middle\" x=\"963\" y=\"-12.95\" font-family=\"Courier,monospace\" font-size=\"14.00\" fill=\"#008040\">Load</text>\n",
       "</g>\n",
       "<!-- 37&#45;&#45;39 -->\n",
       "<g id=\"edge39\" class=\"edge\">\n",
       "<title>37--39</title>\n",
       "<path fill=\"none\" stroke=\"black\" d=\"M956,-71C956,-71 958.7,-50.94 960.75,-35.74\"/>\n",
       "</g>\n",
       "<!-- 41 -->\n",
       "<g id=\"node42\" class=\"node\">\n",
       "<title>41</title>\n",
       "<text xml:space=\"preserve\" text-anchor=\"start\" x=\"1018.5\" y=\"-85.95\" font-family=\"Courier,monospace\" font-weight=\"bold\" font-size=\"14.00\" fill=\"#004080\">Name</text>\n",
       "</g>\n",
       "<!-- 40&#45;&#45;41 -->\n",
       "<g id=\"edge41\" class=\"edge\">\n",
       "<title>40--41</title>\n",
       "<path fill=\"none\" stroke=\"black\" d=\"M1013.78,-144.05C1018.18,-133.05 1023.89,-118.76 1028.28,-107.79\"/>\n",
       "</g>\n",
       "<!-- 42 -->\n",
       "<g id=\"node43\" class=\"node\">\n",
       "<title>42</title>\n",
       "<text xml:space=\"preserve\" text-anchor=\"middle\" x=\"1035\" y=\"-12.95\" font-family=\"Courier,monospace\" font-size=\"14.00\" fill=\"#008040\">\"y\"</text>\n",
       "</g>\n",
       "<!-- 41&#45;&#45;42 -->\n",
       "<g id=\"edge42\" class=\"edge\">\n",
       "<title>41--42</title>\n",
       "<path fill=\"none\" stroke=\"black\" d=\"M1042,-71C1042,-71 1039.3,-50.94 1037.25,-35.74\"/>\n",
       "</g>\n",
       "<!-- 43 -->\n",
       "<g id=\"node44\" class=\"node\">\n",
       "<title>43</title>\n",
       "<text xml:space=\"preserve\" text-anchor=\"middle\" x=\"1107\" y=\"-12.95\" font-family=\"Courier,monospace\" font-size=\"14.00\" fill=\"#008040\">Load</text>\n",
       "</g>\n",
       "<!-- 41&#45;&#45;43 -->\n",
       "<g id=\"edge43\" class=\"edge\">\n",
       "<title>41--43</title>\n",
       "<path fill=\"none\" stroke=\"black\" d=\"M1042,-71C1042,-71 1067.07,-50.94 1086.08,-35.74\"/>\n",
       "</g>\n",
       "<!-- 45 -->\n",
       "<g id=\"node46\" class=\"node\">\n",
       "<title>45</title>\n",
       "<text xml:space=\"preserve\" text-anchor=\"start\" x=\"1236.12\" y=\"-229.95\" font-family=\"Courier,monospace\" font-weight=\"bold\" font-size=\"14.00\" fill=\"#004080\">Compare</text>\n",
       "</g>\n",
       "<!-- 44&#45;&#45;45 -->\n",
       "<g id=\"edge45\" class=\"edge\">\n",
       "<title>44--45</title>\n",
       "<path fill=\"none\" stroke=\"black\" d=\"M1332,-287C1332,-287 1306.15,-266.94 1286.57,-251.74\"/>\n",
       "</g>\n",
       "<!-- 53 -->\n",
       "<g id=\"node54\" class=\"node\">\n",
       "<title>53</title>\n",
       "<text xml:space=\"preserve\" text-anchor=\"start\" x=\"1356.25\" y=\"-229.95\" font-family=\"Courier,monospace\" font-weight=\"bold\" font-size=\"14.00\" fill=\"#004080\">Return</text>\n",
       "</g>\n",
       "<!-- 44&#45;&#45;53 -->\n",
       "<g id=\"edge53\" class=\"edge\">\n",
       "<title>44--53</title>\n",
       "<path fill=\"none\" stroke=\"black\" d=\"M1332,-287C1332,-287 1350.9,-266.94 1365.23,-251.74\"/>\n",
       "</g>\n",
       "<!-- 57 -->\n",
       "<g id=\"node58\" class=\"node\">\n",
       "<title>57</title>\n",
       "<text xml:space=\"preserve\" text-anchor=\"start\" x=\"1497.75\" y=\"-229.95\" font-family=\"Courier,monospace\" font-weight=\"bold\" font-size=\"14.00\" fill=\"#004080\">If</text>\n",
       "</g>\n",
       "<!-- 44&#45;&#45;57 -->\n",
       "<g id=\"edge57\" class=\"edge\">\n",
       "<title>44--57</title>\n",
       "<path fill=\"none\" stroke=\"black\" d=\"M1332,-287C1332,-287 1430.39,-257.6 1479.19,-243.01\"/>\n",
       "</g>\n",
       "<!-- 46 -->\n",
       "<g id=\"node47\" class=\"node\">\n",
       "<title>46</title>\n",
       "<text xml:space=\"preserve\" text-anchor=\"start\" x=\"1162.5\" y=\"-157.95\" font-family=\"Courier,monospace\" font-weight=\"bold\" font-size=\"14.00\" fill=\"#004080\">Name</text>\n",
       "</g>\n",
       "<!-- 45&#45;&#45;46 -->\n",
       "<g id=\"edge46\" class=\"edge\">\n",
       "<title>45--46</title>\n",
       "<path fill=\"none\" stroke=\"black\" d=\"M1263,-215C1263,-215 1230.19,-194.69 1205.58,-179.45\"/>\n",
       "</g>\n",
       "<!-- 49 -->\n",
       "<g id=\"node50\" class=\"node\">\n",
       "<title>49</title>\n",
       "<text xml:space=\"preserve\" text-anchor=\"middle\" x=\"1251\" y=\"-156.95\" font-family=\"Courier,monospace\" font-size=\"14.00\" fill=\"#008040\">Gt</text>\n",
       "</g>\n",
       "<!-- 45&#45;&#45;49 -->\n",
       "<g id=\"edge49\" class=\"edge\">\n",
       "<title>45--49</title>\n",
       "<path fill=\"none\" stroke=\"black\" d=\"M1263,-215C1263,-215 1258.37,-194.94 1254.86,-179.74\"/>\n",
       "</g>\n",
       "<!-- 50 -->\n",
       "<g id=\"node51\" class=\"node\">\n",
       "<title>50</title>\n",
       "<text xml:space=\"preserve\" text-anchor=\"start\" x=\"1306.5\" y=\"-157.95\" font-family=\"Courier,monospace\" font-weight=\"bold\" font-size=\"14.00\" fill=\"#004080\">Name</text>\n",
       "</g>\n",
       "<!-- 45&#45;&#45;50 -->\n",
       "<g id=\"edge50\" class=\"edge\">\n",
       "<title>45--50</title>\n",
       "<path fill=\"none\" stroke=\"black\" d=\"M1263,-215C1263,-215 1286.15,-194.94 1303.69,-179.74\"/>\n",
       "</g>\n",
       "<!-- 47 -->\n",
       "<g id=\"node48\" class=\"node\">\n",
       "<title>47</title>\n",
       "<text xml:space=\"preserve\" text-anchor=\"middle\" x=\"1107\" y=\"-84.95\" font-family=\"Courier,monospace\" font-size=\"14.00\" fill=\"#008040\">\"x\"</text>\n",
       "</g>\n",
       "<!-- 46&#45;&#45;47 -->\n",
       "<g id=\"edge47\" class=\"edge\">\n",
       "<title>46--47</title>\n",
       "<path fill=\"none\" stroke=\"black\" d=\"M1172,-143C1172,-143 1146.93,-122.94 1127.92,-107.74\"/>\n",
       "</g>\n",
       "<!-- 48 -->\n",
       "<g id=\"node49\" class=\"node\">\n",
       "<title>48</title>\n",
       "<text xml:space=\"preserve\" text-anchor=\"middle\" x=\"1179\" y=\"-84.95\" font-family=\"Courier,monospace\" font-size=\"14.00\" fill=\"#008040\">Load</text>\n",
       "</g>\n",
       "<!-- 46&#45;&#45;48 -->\n",
       "<g id=\"edge48\" class=\"edge\">\n",
       "<title>46--48</title>\n",
       "<path fill=\"none\" stroke=\"black\" d=\"M1172,-143C1172,-143 1174.7,-122.94 1176.75,-107.74\"/>\n",
       "</g>\n",
       "<!-- 51 -->\n",
       "<g id=\"node52\" class=\"node\">\n",
       "<title>51</title>\n",
       "<text xml:space=\"preserve\" text-anchor=\"middle\" x=\"1251\" y=\"-84.95\" font-family=\"Courier,monospace\" font-size=\"14.00\" fill=\"#008040\">\"y\"</text>\n",
       "</g>\n",
       "<!-- 50&#45;&#45;51 -->\n",
       "<g id=\"edge51\" class=\"edge\">\n",
       "<title>50--51</title>\n",
       "<path fill=\"none\" stroke=\"black\" d=\"M1316,-143C1316,-143 1290.93,-122.94 1271.92,-107.74\"/>\n",
       "</g>\n",
       "<!-- 52 -->\n",
       "<g id=\"node53\" class=\"node\">\n",
       "<title>52</title>\n",
       "<text xml:space=\"preserve\" text-anchor=\"middle\" x=\"1323\" y=\"-84.95\" font-family=\"Courier,monospace\" font-size=\"14.00\" fill=\"#008040\">Load</text>\n",
       "</g>\n",
       "<!-- 50&#45;&#45;52 -->\n",
       "<g id=\"edge52\" class=\"edge\">\n",
       "<title>50--52</title>\n",
       "<path fill=\"none\" stroke=\"black\" d=\"M1316,-143C1316,-143 1318.7,-122.94 1320.75,-107.74\"/>\n",
       "</g>\n",
       "<!-- 54 -->\n",
       "<g id=\"node55\" class=\"node\">\n",
       "<title>54</title>\n",
       "<text xml:space=\"preserve\" text-anchor=\"start\" x=\"1378.5\" y=\"-157.95\" font-family=\"Courier,monospace\" font-weight=\"bold\" font-size=\"14.00\" fill=\"#004080\">Name</text>\n",
       "</g>\n",
       "<!-- 53&#45;&#45;54 -->\n",
       "<g id=\"edge54\" class=\"edge\">\n",
       "<title>53--54</title>\n",
       "<path fill=\"none\" stroke=\"black\" d=\"M1384.39,-216.05C1386.59,-205.05 1389.45,-190.76 1391.64,-179.79\"/>\n",
       "</g>\n",
       "<!-- 55 -->\n",
       "<g id=\"node56\" class=\"node\">\n",
       "<title>55</title>\n",
       "<text xml:space=\"preserve\" text-anchor=\"middle\" x=\"1395\" y=\"-84.95\" font-family=\"Courier,monospace\" font-size=\"14.00\" fill=\"#008040\">\"y\"</text>\n",
       "</g>\n",
       "<!-- 54&#45;&#45;55 -->\n",
       "<g id=\"edge55\" class=\"edge\">\n",
       "<title>54--55</title>\n",
       "<path fill=\"none\" stroke=\"black\" d=\"M1402,-143C1402,-143 1399.3,-122.94 1397.25,-107.74\"/>\n",
       "</g>\n",
       "<!-- 56 -->\n",
       "<g id=\"node57\" class=\"node\">\n",
       "<title>56</title>\n",
       "<text xml:space=\"preserve\" text-anchor=\"middle\" x=\"1467\" y=\"-84.95\" font-family=\"Courier,monospace\" font-size=\"14.00\" fill=\"#008040\">Load</text>\n",
       "</g>\n",
       "<!-- 54&#45;&#45;56 -->\n",
       "<g id=\"edge56\" class=\"edge\">\n",
       "<title>54--56</title>\n",
       "<path fill=\"none\" stroke=\"black\" d=\"M1402,-143C1402,-143 1427.07,-122.94 1446.08,-107.74\"/>\n",
       "</g>\n",
       "<!-- 58 -->\n",
       "<g id=\"node59\" class=\"node\">\n",
       "<title>58</title>\n",
       "<text xml:space=\"preserve\" text-anchor=\"start\" x=\"1542.12\" y=\"-157.95\" font-family=\"Courier,monospace\" font-weight=\"bold\" font-size=\"14.00\" fill=\"#004080\">Compare</text>\n",
       "</g>\n",
       "<!-- 57&#45;&#45;58 -->\n",
       "<g id=\"edge58\" class=\"edge\">\n",
       "<title>57--58</title>\n",
       "<path fill=\"none\" stroke=\"black\" d=\"M1533,-215C1533,-215 1547.66,-194.94 1558.77,-179.74\"/>\n",
       "</g>\n",
       "<!-- 66 -->\n",
       "<g id=\"node67\" class=\"node\">\n",
       "<title>66</title>\n",
       "<text xml:space=\"preserve\" text-anchor=\"start\" x=\"1698.25\" y=\"-157.95\" font-family=\"Courier,monospace\" font-weight=\"bold\" font-size=\"14.00\" fill=\"#004080\">Return</text>\n",
       "</g>\n",
       "<!-- 57&#45;&#45;66 -->\n",
       "<g id=\"edge66\" class=\"edge\">\n",
       "<title>57--66</title>\n",
       "<path fill=\"none\" stroke=\"black\" d=\"M1533,-215C1533,-215 1636.01,-186.81 1690.34,-171.94\"/>\n",
       "</g>\n",
       "<!-- 59 -->\n",
       "<g id=\"node60\" class=\"node\">\n",
       "<title>59</title>\n",
       "<text xml:space=\"preserve\" text-anchor=\"start\" x=\"1522.5\" y=\"-85.95\" font-family=\"Courier,monospace\" font-weight=\"bold\" font-size=\"14.00\" fill=\"#004080\">Name</text>\n",
       "</g>\n",
       "<!-- 58&#45;&#45;59 -->\n",
       "<g id=\"edge59\" class=\"edge\">\n",
       "<title>58--59</title>\n",
       "<path fill=\"none\" stroke=\"black\" d=\"M1578,-143C1578,-143 1562.96,-122.94 1551.55,-107.74\"/>\n",
       "</g>\n",
       "<!-- 62 -->\n",
       "<g id=\"node63\" class=\"node\">\n",
       "<title>62</title>\n",
       "<text xml:space=\"preserve\" text-anchor=\"middle\" x=\"1611\" y=\"-84.95\" font-family=\"Courier,monospace\" font-size=\"14.00\" fill=\"#008040\">Gt</text>\n",
       "</g>\n",
       "<!-- 58&#45;&#45;62 -->\n",
       "<g id=\"edge62\" class=\"edge\">\n",
       "<title>58--62</title>\n",
       "<path fill=\"none\" stroke=\"black\" d=\"M1578,-143C1578,-143 1590.73,-122.94 1600.38,-107.74\"/>\n",
       "</g>\n",
       "<!-- 63 -->\n",
       "<g id=\"node64\" class=\"node\">\n",
       "<title>63</title>\n",
       "<text xml:space=\"preserve\" text-anchor=\"start\" x=\"1666.5\" y=\"-85.95\" font-family=\"Courier,monospace\" font-weight=\"bold\" font-size=\"14.00\" fill=\"#004080\">Name</text>\n",
       "</g>\n",
       "<!-- 58&#45;&#45;63 -->\n",
       "<g id=\"edge63\" class=\"edge\">\n",
       "<title>58--63</title>\n",
       "<path fill=\"none\" stroke=\"black\" d=\"M1578,-143C1578,-143 1625.12,-119.66 1656.23,-104.26\"/>\n",
       "</g>\n",
       "<!-- 60 -->\n",
       "<g id=\"node61\" class=\"node\">\n",
       "<title>60</title>\n",
       "<text xml:space=\"preserve\" text-anchor=\"middle\" x=\"1467\" y=\"-12.95\" font-family=\"Courier,monospace\" font-size=\"14.00\" fill=\"#008040\">\"x\"</text>\n",
       "</g>\n",
       "<!-- 59&#45;&#45;60 -->\n",
       "<g id=\"edge60\" class=\"edge\">\n",
       "<title>59--60</title>\n",
       "<path fill=\"none\" stroke=\"black\" d=\"M1532,-71C1532,-71 1506.93,-50.94 1487.92,-35.74\"/>\n",
       "</g>\n",
       "<!-- 61 -->\n",
       "<g id=\"node62\" class=\"node\">\n",
       "<title>61</title>\n",
       "<text xml:space=\"preserve\" text-anchor=\"middle\" x=\"1539\" y=\"-12.95\" font-family=\"Courier,monospace\" font-size=\"14.00\" fill=\"#008040\">Load</text>\n",
       "</g>\n",
       "<!-- 59&#45;&#45;61 -->\n",
       "<g id=\"edge61\" class=\"edge\">\n",
       "<title>59--61</title>\n",
       "<path fill=\"none\" stroke=\"black\" d=\"M1532,-71C1532,-71 1534.7,-50.94 1536.75,-35.74\"/>\n",
       "</g>\n",
       "<!-- 64 -->\n",
       "<g id=\"node65\" class=\"node\">\n",
       "<title>64</title>\n",
       "<text xml:space=\"preserve\" text-anchor=\"middle\" x=\"1611\" y=\"-12.95\" font-family=\"Courier,monospace\" font-size=\"14.00\" fill=\"#008040\">\"z\"</text>\n",
       "</g>\n",
       "<!-- 63&#45;&#45;64 -->\n",
       "<g id=\"edge64\" class=\"edge\">\n",
       "<title>63--64</title>\n",
       "<path fill=\"none\" stroke=\"black\" d=\"M1676,-71C1676,-71 1650.93,-50.94 1631.92,-35.74\"/>\n",
       "</g>\n",
       "<!-- 65 -->\n",
       "<g id=\"node66\" class=\"node\">\n",
       "<title>65</title>\n",
       "<text xml:space=\"preserve\" text-anchor=\"middle\" x=\"1683\" y=\"-12.95\" font-family=\"Courier,monospace\" font-size=\"14.00\" fill=\"#008040\">Load</text>\n",
       "</g>\n",
       "<!-- 63&#45;&#45;65 -->\n",
       "<g id=\"edge65\" class=\"edge\">\n",
       "<title>63--65</title>\n",
       "<path fill=\"none\" stroke=\"black\" d=\"M1676,-71C1676,-71 1678.7,-50.94 1680.75,-35.74\"/>\n",
       "</g>\n",
       "<!-- 67 -->\n",
       "<g id=\"node68\" class=\"node\">\n",
       "<title>67</title>\n",
       "<text xml:space=\"preserve\" text-anchor=\"start\" x=\"1738.5\" y=\"-85.95\" font-family=\"Courier,monospace\" font-weight=\"bold\" font-size=\"14.00\" fill=\"#004080\">Name</text>\n",
       "</g>\n",
       "<!-- 66&#45;&#45;67 -->\n",
       "<g id=\"edge67\" class=\"edge\">\n",
       "<title>66--67</title>\n",
       "<path fill=\"none\" stroke=\"black\" d=\"M1730.75,-144.05C1735.78,-133.05 1742.31,-118.76 1747.33,-107.79\"/>\n",
       "</g>\n",
       "<!-- 68 -->\n",
       "<g id=\"node69\" class=\"node\">\n",
       "<title>68</title>\n",
       "<text xml:space=\"preserve\" text-anchor=\"middle\" x=\"1755\" y=\"-12.95\" font-family=\"Courier,monospace\" font-size=\"14.00\" fill=\"#008040\">\"x\"</text>\n",
       "</g>\n",
       "<!-- 67&#45;&#45;68 -->\n",
       "<g id=\"edge68\" class=\"edge\">\n",
       "<title>67--68</title>\n",
       "<path fill=\"none\" stroke=\"black\" d=\"M1762,-71C1762,-71 1759.3,-50.94 1757.25,-35.74\"/>\n",
       "</g>\n",
       "<!-- 69 -->\n",
       "<g id=\"node70\" class=\"node\">\n",
       "<title>69</title>\n",
       "<text xml:space=\"preserve\" text-anchor=\"middle\" x=\"1827\" y=\"-12.95\" font-family=\"Courier,monospace\" font-size=\"14.00\" fill=\"#008040\">Load</text>\n",
       "</g>\n",
       "<!-- 67&#45;&#45;69 -->\n",
       "<g id=\"edge69\" class=\"edge\">\n",
       "<title>67--69</title>\n",
       "<path fill=\"none\" stroke=\"black\" d=\"M1762,-71C1762,-71 1787.07,-50.94 1806.08,-35.74\"/>\n",
       "</g>\n",
       "<!-- 71 -->\n",
       "<g id=\"node72\" class=\"node\">\n",
       "<title>71</title>\n",
       "<text xml:space=\"preserve\" text-anchor=\"start\" x=\"1561.5\" y=\"-301.95\" font-family=\"Courier,monospace\" font-weight=\"bold\" font-size=\"14.00\" fill=\"#004080\">Name</text>\n",
       "</g>\n",
       "<!-- 70&#45;&#45;71 -->\n",
       "<g id=\"edge71\" class=\"edge\">\n",
       "<title>70--71</title>\n",
       "<path fill=\"none\" stroke=\"black\" d=\"M1168.5,-371.85C1252.23,-358.59 1474.15,-323.45 1551.2,-311.24\"/>\n",
       "</g>\n",
       "<!-- 72 -->\n",
       "<g id=\"node73\" class=\"node\">\n",
       "<title>72</title>\n",
       "<text xml:space=\"preserve\" text-anchor=\"middle\" x=\"1578\" y=\"-228.95\" font-family=\"Courier,monospace\" font-size=\"14.00\" fill=\"#008040\">\"z\"</text>\n",
       "</g>\n",
       "<!-- 71&#45;&#45;72 -->\n",
       "<g id=\"edge72\" class=\"edge\">\n",
       "<title>71--72</title>\n",
       "<path fill=\"none\" stroke=\"black\" d=\"M1585,-287C1585,-287 1582.3,-266.94 1580.25,-251.74\"/>\n",
       "</g>\n",
       "<!-- 73 -->\n",
       "<g id=\"node74\" class=\"node\">\n",
       "<title>73</title>\n",
       "<text xml:space=\"preserve\" text-anchor=\"middle\" x=\"1650\" y=\"-228.95\" font-family=\"Courier,monospace\" font-size=\"14.00\" fill=\"#008040\">Load</text>\n",
       "</g>\n",
       "<!-- 71&#45;&#45;73 -->\n",
       "<g id=\"edge73\" class=\"edge\">\n",
       "<title>71--73</title>\n",
       "<path fill=\"none\" stroke=\"black\" d=\"M1585,-287C1585,-287 1610.07,-266.94 1629.08,-251.74\"/>\n",
       "</g>\n",
       "</g>\n",
       "</svg>"
      ],
      "text/plain": [
       "<IPython.core.display.SVG object>"
      ]
     },
     "metadata": {},
     "output_type": "display_data"
    }
   ],
   "source": [
    "middle_tree = ast.parse(inspect.getsource(middle))\n",
    "show_ast(middle_tree)"
   ]
  },
  {
   "cell_type": "markdown",
   "metadata": {
    "slideshow": {
     "slide_type": "fragment"
    }
   },
   "source": [
    "At the very bottom of the tree, you can see a number of `Name` nodes, referring individual variables. These are the ones we want to transform."
   ]
  },
  {
   "cell_type": "markdown",
   "metadata": {
    "slideshow": {
     "slide_type": "subslide"
    }
   },
   "source": [
    "### Tracking Variable Accesses\n",
    "\n",
    "Our goal is to _traverse_ the tree, identify all `Name` nodes, and convert them to respective `_data` accesses.\n",
    "To this end, we manipulate the AST through the `ast` Python module `ast`. The [official Python `ast` reference](http://docs.python.org/3/library/ast) is complete, but a bit brief; the documentation [\"Green Tree Snakes - the missing Python AST docs\"](https://greentreesnakes.readthedocs.io/en/latest/) provides an excellent introduction."
   ]
  },
  {
   "cell_type": "markdown",
   "metadata": {
    "slideshow": {
     "slide_type": "fragment"
    }
   },
   "source": [
    "The Python `ast` module provides a class `NodeTransformer` that allows such transformations. By subclassing from it, we provide a method `visit_Name()` that will be invoked for all `Name` nodes – and replace it by a new subtree from `make_get_data()`:"
   ]
  },
  {
   "cell_type": "code",
   "execution_count": 66,
   "metadata": {
    "execution": {
     "iopub.execute_input": "2025-10-26T17:47:20.009198Z",
     "iopub.status.busy": "2025-10-26T17:47:20.009011Z",
     "iopub.status.idle": "2025-10-26T17:47:20.011483Z",
     "shell.execute_reply": "2025-10-26T17:47:20.011021Z"
    },
    "slideshow": {
     "slide_type": "skip"
    }
   },
   "outputs": [],
   "source": [
    "from ast import NodeTransformer, NodeVisitor, Name, AST"
   ]
  },
  {
   "cell_type": "code",
   "execution_count": 67,
   "metadata": {
    "execution": {
     "iopub.execute_input": "2025-10-26T17:47:20.013222Z",
     "iopub.status.busy": "2025-10-26T17:47:20.013097Z",
     "iopub.status.idle": "2025-10-26T17:47:20.014735Z",
     "shell.execute_reply": "2025-10-26T17:47:20.014494Z"
    },
    "slideshow": {
     "slide_type": "skip"
    }
   },
   "outputs": [],
   "source": [
    "import typing"
   ]
  },
  {
   "cell_type": "code",
   "execution_count": 68,
   "metadata": {
    "execution": {
     "iopub.execute_input": "2025-10-26T17:47:20.015863Z",
     "iopub.status.busy": "2025-10-26T17:47:20.015778Z",
     "iopub.status.idle": "2025-10-26T17:47:20.017363Z",
     "shell.execute_reply": "2025-10-26T17:47:20.017114Z"
    },
    "slideshow": {
     "slide_type": "fragment"
    }
   },
   "outputs": [],
   "source": [
    "DATA_TRACKER = '_data'"
   ]
  },
  {
   "cell_type": "code",
   "execution_count": 69,
   "metadata": {
    "execution": {
     "iopub.execute_input": "2025-10-26T17:47:20.018683Z",
     "iopub.status.busy": "2025-10-26T17:47:20.018586Z",
     "iopub.status.idle": "2025-10-26T17:47:20.020355Z",
     "shell.execute_reply": "2025-10-26T17:47:20.020117Z"
    },
    "slideshow": {
     "slide_type": "subslide"
    }
   },
   "outputs": [],
   "source": [
    "def is_internal(id: str) -> bool:\n",
    "    \"\"\"Return True if `id` is a built-in function or type\"\"\"\n",
    "    return (id in dir(__builtins__) or id in dir(typing))"
   ]
  },
  {
   "cell_type": "code",
   "execution_count": 70,
   "metadata": {
    "execution": {
     "iopub.execute_input": "2025-10-26T17:47:20.021958Z",
     "iopub.status.busy": "2025-10-26T17:47:20.021868Z",
     "iopub.status.idle": "2025-10-26T17:47:20.023680Z",
     "shell.execute_reply": "2025-10-26T17:47:20.023390Z"
    },
    "slideshow": {
     "slide_type": "fragment"
    }
   },
   "outputs": [],
   "source": [
    "assert is_internal('int')\n",
    "assert is_internal('None')\n",
    "assert is_internal('Tuple')"
   ]
  },
  {
   "cell_type": "code",
   "execution_count": 71,
   "metadata": {
    "execution": {
     "iopub.execute_input": "2025-10-26T17:47:20.025218Z",
     "iopub.status.busy": "2025-10-26T17:47:20.025118Z",
     "iopub.status.idle": "2025-10-26T17:47:20.027487Z",
     "shell.execute_reply": "2025-10-26T17:47:20.027240Z"
    },
    "slideshow": {
     "slide_type": "subslide"
    }
   },
   "outputs": [],
   "source": [
    "class TrackGetTransformer(NodeTransformer):\n",
    "    def visit_Name(self, node: Name) -> AST:\n",
    "        self.generic_visit(node)\n",
    "\n",
    "        if is_internal(node.id):\n",
    "            # Do not change built-in names and types\n",
    "            return node\n",
    "\n",
    "        if node.id == DATA_TRACKER:\n",
    "            # Do not change own accesses\n",
    "            return node\n",
    "\n",
    "        if not isinstance(node.ctx, Load):\n",
    "            # Only change loads (not stores, not deletions)\n",
    "            return node\n",
    "\n",
    "        new_node = make_get_data(node.id)\n",
    "        ast.copy_location(new_node, node)\n",
    "        return new_node"
   ]
  },
  {
   "cell_type": "markdown",
   "metadata": {
    "slideshow": {
     "slide_type": "subslide"
    }
   },
   "source": [
    "Our function `make_get_data(id, method)` returns a new subtree equivalent to the Python code `_data.method('id', id)`."
   ]
  },
  {
   "cell_type": "code",
   "execution_count": 72,
   "metadata": {
    "execution": {
     "iopub.execute_input": "2025-10-26T17:47:20.028729Z",
     "iopub.status.busy": "2025-10-26T17:47:20.028641Z",
     "iopub.status.idle": "2025-10-26T17:47:20.030317Z",
     "shell.execute_reply": "2025-10-26T17:47:20.030103Z"
    },
    "slideshow": {
     "slide_type": "skip"
    }
   },
   "outputs": [],
   "source": [
    "from ast import Module, Load, Store, \\\n",
    "    Attribute, With, withitem, keyword, Call, Expr, \\\n",
    "    Assign, AugAssign, AnnAssign, Assert"
   ]
  },
  {
   "cell_type": "code",
   "execution_count": 73,
   "metadata": {
    "execution": {
     "iopub.execute_input": "2025-10-26T17:47:20.031496Z",
     "iopub.status.busy": "2025-10-26T17:47:20.031417Z",
     "iopub.status.idle": "2025-10-26T17:47:20.032792Z",
     "shell.execute_reply": "2025-10-26T17:47:20.032577Z"
    },
    "slideshow": {
     "slide_type": "fragment"
    }
   },
   "outputs": [],
   "source": [
    "# Starting with Python 3.8, these will become Constant.\n",
    "# from ast import Num, Str, NameConstant\n",
    "# Use `ast.Num`, `ast.Str`, and `ast.NameConstant` for compatibility"
   ]
  },
  {
   "cell_type": "code",
   "execution_count": 74,
   "metadata": {
    "execution": {
     "iopub.execute_input": "2025-10-26T17:47:20.033876Z",
     "iopub.status.busy": "2025-10-26T17:47:20.033794Z",
     "iopub.status.idle": "2025-10-26T17:47:20.035868Z",
     "shell.execute_reply": "2025-10-26T17:47:20.035482Z"
    },
    "slideshow": {
     "slide_type": "fragment"
    }
   },
   "outputs": [],
   "source": [
    "def make_get_data(id: str, method: str = 'get') -> Call:\n",
    "    return Call(func=Attribute(value=Name(id=DATA_TRACKER, ctx=Load()), \n",
    "                               attr=method, ctx=Load()),\n",
    "                args=[ast.Str(id), Name(id=id, ctx=Load())],\n",
    "                keywords=[])"
   ]
  },
  {
   "cell_type": "markdown",
   "metadata": {
    "slideshow": {
     "slide_type": "fragment"
    }
   },
   "source": [
    "This is the tree that `make_get_data()` produces:"
   ]
  },
  {
   "cell_type": "code",
   "execution_count": 75,
   "metadata": {
    "execution": {
     "iopub.execute_input": "2025-10-26T17:47:20.037565Z",
     "iopub.status.busy": "2025-10-26T17:47:20.037435Z",
     "iopub.status.idle": "2025-10-26T17:47:20.387353Z",
     "shell.execute_reply": "2025-10-26T17:47:20.387018Z"
    },
    "slideshow": {
     "slide_type": "subslide"
    }
   },
   "outputs": [
    {
     "name": "stderr",
     "output_type": "stream",
     "text": [
      "/var/folders/n2/xd9445p97rb3xh7m1dfx8_4h0006ts/T/ipykernel_51412/3554319793.py:4: DeprecationWarning: ast.Str is deprecated and will be removed in Python 3.14; use ast.Constant instead\n",
      "  args=[ast.Str(id), Name(id=id, ctx=Load())],\n"
     ]
    },
    {
     "data": {
      "image/svg+xml": [
       "<svg xmlns=\"http://www.w3.org/2000/svg\" xmlns:xlink=\"http://www.w3.org/1999/xlink\" width=\"484pt\" height=\"260pt\" viewBox=\"0.00 0.00 484.00 260.00\">\n",
       "<g id=\"graph0\" class=\"graph\" transform=\"scale(1 1) rotate(0) translate(4 256)\">\n",
       "<polygon fill=\"white\" stroke=\"none\" points=\"-4,4 -4,-256 479.88,-256 479.88,4 -4,4\"/>\n",
       "<!-- 0 -->\n",
       "<g id=\"node1\" class=\"node\">\n",
       "<title>0</title>\n",
       "<text xml:space=\"preserve\" text-anchor=\"start\" x=\"277.38\" y=\"-229.95\" font-family=\"Courier,monospace\" font-weight=\"bold\" font-size=\"14.00\" fill=\"#004080\">Call</text>\n",
       "</g>\n",
       "<!-- 1 -->\n",
       "<g id=\"node2\" class=\"node\">\n",
       "<title>1</title>\n",
       "<text xml:space=\"preserve\" text-anchor=\"start\" x=\"138.75\" y=\"-157.95\" font-family=\"Courier,monospace\" font-weight=\"bold\" font-size=\"14.00\" fill=\"#004080\">Attribute</text>\n",
       "</g>\n",
       "<!-- 0&#45;&#45;1 -->\n",
       "<g id=\"edge1\" class=\"edge\">\n",
       "<title>0--1</title>\n",
       "<path fill=\"none\" stroke=\"black\" d=\"M292.88,-215C292.88,-215 248.02,-195.07 213.86,-179.88\"/>\n",
       "</g>\n",
       "<!-- 7 -->\n",
       "<g id=\"node8\" class=\"node\">\n",
       "<title>7</title>\n",
       "<text xml:space=\"preserve\" text-anchor=\"start\" x=\"260.88\" y=\"-157.95\" font-family=\"Courier,monospace\" font-weight=\"bold\" font-size=\"14.00\" fill=\"#004080\">Constant</text>\n",
       "</g>\n",
       "<!-- 0&#45;&#45;7 -->\n",
       "<g id=\"edge7\" class=\"edge\">\n",
       "<title>0--7</title>\n",
       "<path fill=\"none\" stroke=\"black\" d=\"M292.88,-215C292.88,-215 293.26,-194.94 293.55,-179.74\"/>\n",
       "</g>\n",
       "<!-- 9 -->\n",
       "<g id=\"node10\" class=\"node\">\n",
       "<title>9</title>\n",
       "<text xml:space=\"preserve\" text-anchor=\"start\" x=\"363.38\" y=\"-157.95\" font-family=\"Courier,monospace\" font-weight=\"bold\" font-size=\"14.00\" fill=\"#004080\">Name</text>\n",
       "</g>\n",
       "<!-- 0&#45;&#45;9 -->\n",
       "<g id=\"edge9\" class=\"edge\">\n",
       "<title>0--9</title>\n",
       "<path fill=\"none\" stroke=\"black\" d=\"M292.88,-215C292.88,-215 327.71,-194.18 353.3,-178.88\"/>\n",
       "</g>\n",
       "<!-- 2 -->\n",
       "<g id=\"node3\" class=\"node\">\n",
       "<title>2</title>\n",
       "<text xml:space=\"preserve\" text-anchor=\"start\" x=\"61.38\" y=\"-85.95\" font-family=\"Courier,monospace\" font-weight=\"bold\" font-size=\"14.00\" fill=\"#004080\">Name</text>\n",
       "</g>\n",
       "<!-- 1&#45;&#45;2 -->\n",
       "<g id=\"edge2\" class=\"edge\">\n",
       "<title>1--2</title>\n",
       "<path fill=\"none\" stroke=\"black\" d=\"M171.88,-143C171.88,-143 132.59,-121.27 104.81,-105.9\"/>\n",
       "</g>\n",
       "<!-- 5 -->\n",
       "<g id=\"node6\" class=\"node\">\n",
       "<title>5</title>\n",
       "<text xml:space=\"preserve\" text-anchor=\"middle\" x=\"151.88\" y=\"-84.95\" font-family=\"Courier,monospace\" font-size=\"14.00\" fill=\"#008040\">\"get\"</text>\n",
       "</g>\n",
       "<!-- 1&#45;&#45;5 -->\n",
       "<g id=\"edge5\" class=\"edge\">\n",
       "<title>1--5</title>\n",
       "<path fill=\"none\" stroke=\"black\" d=\"M171.88,-143C171.88,-143 164.16,-122.94 158.31,-107.74\"/>\n",
       "</g>\n",
       "<!-- 6 -->\n",
       "<g id=\"node7\" class=\"node\">\n",
       "<title>6</title>\n",
       "<text xml:space=\"preserve\" text-anchor=\"middle\" x=\"225.88\" y=\"-84.95\" font-family=\"Courier,monospace\" font-size=\"14.00\" fill=\"#008040\">Load</text>\n",
       "</g>\n",
       "<!-- 1&#45;&#45;6 -->\n",
       "<g id=\"edge6\" class=\"edge\">\n",
       "<title>1--6</title>\n",
       "<path fill=\"none\" stroke=\"black\" d=\"M171.88,-143C171.88,-143 192.71,-122.94 208.49,-107.74\"/>\n",
       "</g>\n",
       "<!-- 3 -->\n",
       "<g id=\"node4\" class=\"node\">\n",
       "<title>3</title>\n",
       "<text xml:space=\"preserve\" text-anchor=\"middle\" x=\"36.88\" y=\"-12.95\" font-family=\"Courier,monospace\" font-size=\"14.00\" fill=\"#008040\">\"_data\"</text>\n",
       "</g>\n",
       "<!-- 2&#45;&#45;3 -->\n",
       "<g id=\"edge3\" class=\"edge\">\n",
       "<title>2--3</title>\n",
       "<path fill=\"none\" stroke=\"black\" d=\"M77.88,-71C77.88,-71 62.06,-50.94 50.07,-35.74\"/>\n",
       "</g>\n",
       "<!-- 4 -->\n",
       "<g id=\"node5\" class=\"node\">\n",
       "<title>4</title>\n",
       "<text xml:space=\"preserve\" text-anchor=\"middle\" x=\"118.88\" y=\"-12.95\" font-family=\"Courier,monospace\" font-size=\"14.00\" fill=\"#008040\">Load</text>\n",
       "</g>\n",
       "<!-- 2&#45;&#45;4 -->\n",
       "<g id=\"edge4\" class=\"edge\">\n",
       "<title>2--4</title>\n",
       "<path fill=\"none\" stroke=\"black\" d=\"M77.88,-71C77.88,-71 93.69,-50.94 105.68,-35.74\"/>\n",
       "</g>\n",
       "<!-- 8 -->\n",
       "<g id=\"node9\" class=\"node\">\n",
       "<title>8</title>\n",
       "<text xml:space=\"preserve\" text-anchor=\"middle\" x=\"297.88\" y=\"-84.95\" font-family=\"Courier,monospace\" font-size=\"14.00\" fill=\"#008040\">\"x\"</text>\n",
       "</g>\n",
       "<!-- 7&#45;&#45;8 -->\n",
       "<g id=\"edge8\" class=\"edge\">\n",
       "<title>7--8</title>\n",
       "<path fill=\"none\" stroke=\"black\" d=\"M294.84,-144.05C295.47,-133.05 296.29,-118.76 296.92,-107.79\"/>\n",
       "</g>\n",
       "<!-- 10 -->\n",
       "<g id=\"node11\" class=\"node\">\n",
       "<title>10</title>\n",
       "<text xml:space=\"preserve\" text-anchor=\"middle\" x=\"376.88\" y=\"-84.95\" font-family=\"Courier,monospace\" font-size=\"14.00\" fill=\"#008040\">\"x\"</text>\n",
       "</g>\n",
       "<!-- 9&#45;&#45;10 -->\n",
       "<g id=\"edge10\" class=\"edge\">\n",
       "<title>9--10</title>\n",
       "<path fill=\"none\" stroke=\"black\" d=\"M386.88,-143C386.88,-143 383.02,-122.94 380.09,-107.74\"/>\n",
       "</g>\n",
       "<!-- 11 -->\n",
       "<g id=\"node12\" class=\"node\">\n",
       "<title>11</title>\n",
       "<text xml:space=\"preserve\" text-anchor=\"middle\" x=\"448.88\" y=\"-84.95\" font-family=\"Courier,monospace\" font-size=\"14.00\" fill=\"#008040\">Load</text>\n",
       "</g>\n",
       "<!-- 9&#45;&#45;11 -->\n",
       "<g id=\"edge11\" class=\"edge\">\n",
       "<title>9--11</title>\n",
       "<path fill=\"none\" stroke=\"black\" d=\"M386.88,-143C386.88,-143 410.79,-122.94 428.92,-107.74\"/>\n",
       "</g>\n",
       "</g>\n",
       "</svg>"
      ],
      "text/plain": [
       "<IPython.core.display.SVG object>"
      ]
     },
     "metadata": {},
     "output_type": "display_data"
    }
   ],
   "source": [
    "show_ast(Module(body=[make_get_data(\"x\")], type_ignores=[]))  # type: ignore"
   ]
  },
  {
   "cell_type": "markdown",
   "metadata": {
    "slideshow": {
     "slide_type": "fragment"
    }
   },
   "source": [
    "How do we know that this is a correct subtree? We can carefully read the [official Python `ast` reference](http://docs.python.org/3/library/ast) and then proceed by trial and error (and apply [delta debugging](DeltaDebugger.ipynb) to determine error causes). Or – pro tip! – we can simply take a piece of Python code, parse it and use `ast.dump()` to print out how to construct the resulting AST:"
   ]
  },
  {
   "cell_type": "code",
   "execution_count": 76,
   "metadata": {
    "execution": {
     "iopub.execute_input": "2025-10-26T17:47:20.388980Z",
     "iopub.status.busy": "2025-10-26T17:47:20.388840Z",
     "iopub.status.idle": "2025-10-26T17:47:20.390841Z",
     "shell.execute_reply": "2025-10-26T17:47:20.390608Z"
    },
    "slideshow": {
     "slide_type": "fragment"
    }
   },
   "outputs": [
    {
     "name": "stdout",
     "output_type": "stream",
     "text": [
      "Module(body=[Expr(value=Call(func=Attribute(value=Name(id='_data', ctx=Load()), attr='get', ctx=Load()), args=[Constant(value='x'), Name(id='x', ctx=Load())]))])\n"
     ]
    }
   ],
   "source": [
    "print(ast.dump(ast.parse(\"_data.get('x', x)\")))"
   ]
  },
  {
   "cell_type": "markdown",
   "metadata": {
    "slideshow": {
     "slide_type": "subslide"
    }
   },
   "source": [
    "If you compare the above output with the code of `make_get_data()`, above, you will find out where the source of `make_get_data()` comes from."
   ]
  },
  {
   "cell_type": "markdown",
   "metadata": {
    "slideshow": {
     "slide_type": "fragment"
    }
   },
   "source": [
    "Let us put `TrackGetTransformer` to action. Its `visit()` method calls `visit_Name()`, which then in turn transforms the `Name` nodes as we want it. This happens in place."
   ]
  },
  {
   "cell_type": "code",
   "execution_count": 77,
   "metadata": {
    "execution": {
     "iopub.execute_input": "2025-10-26T17:47:20.392245Z",
     "iopub.status.busy": "2025-10-26T17:47:20.392145Z",
     "iopub.status.idle": "2025-10-26T17:47:20.394625Z",
     "shell.execute_reply": "2025-10-26T17:47:20.394379Z"
    },
    "slideshow": {
     "slide_type": "fragment"
    }
   },
   "outputs": [
    {
     "name": "stderr",
     "output_type": "stream",
     "text": [
      "/var/folders/n2/xd9445p97rb3xh7m1dfx8_4h0006ts/T/ipykernel_51412/3554319793.py:4: DeprecationWarning: ast.Str is deprecated and will be removed in Python 3.14; use ast.Constant instead\n",
      "  args=[ast.Str(id), Name(id=id, ctx=Load())],\n"
     ]
    }
   ],
   "source": [
    "TrackGetTransformer().visit(middle_tree);"
   ]
  },
  {
   "cell_type": "markdown",
   "metadata": {
    "slideshow": {
     "slide_type": "fragment"
    }
   },
   "source": [
    "To see the effect of our transformations, we introduce a method `dump_tree()` which outputs the tree – and also compiles it to check for any inconsistencies."
   ]
  },
  {
   "cell_type": "code",
   "execution_count": 78,
   "metadata": {
    "execution": {
     "iopub.execute_input": "2025-10-26T17:47:20.395864Z",
     "iopub.status.busy": "2025-10-26T17:47:20.395759Z",
     "iopub.status.idle": "2025-10-26T17:47:20.397549Z",
     "shell.execute_reply": "2025-10-26T17:47:20.397297Z"
    },
    "slideshow": {
     "slide_type": "subslide"
    }
   },
   "outputs": [],
   "source": [
    "def dump_tree(tree: AST) -> None:\n",
    "    print_content(ast.unparse(tree), '.py')\n",
    "    ast.fix_missing_locations(tree)  # Must run this before compiling\n",
    "    _ = compile(cast(ast.Module, tree), '<dump_tree>', 'exec')"
   ]
  },
  {
   "cell_type": "markdown",
   "metadata": {
    "slideshow": {
     "slide_type": "fragment"
    }
   },
   "source": [
    "We see that our transformer has properly replaced all variable accesses:"
   ]
  },
  {
   "cell_type": "code",
   "execution_count": 79,
   "metadata": {
    "execution": {
     "iopub.execute_input": "2025-10-26T17:47:20.399069Z",
     "iopub.status.busy": "2025-10-26T17:47:20.398938Z",
     "iopub.status.idle": "2025-10-26T17:47:20.413652Z",
     "shell.execute_reply": "2025-10-26T17:47:20.413403Z"
    },
    "slideshow": {
     "slide_type": "subslide"
    }
   },
   "outputs": [
    {
     "name": "stdout",
     "output_type": "stream",
     "text": [
      "\u001b[34mdef\u001b[39;49;00m\u001b[37m \u001b[39;49;00m\u001b[32mmiddle\u001b[39;49;00m(x, y, z):\u001b[37m\u001b[39;49;00m\n",
      "    \u001b[34mif\u001b[39;49;00m _data.get(\u001b[33m'\u001b[39;49;00m\u001b[33my\u001b[39;49;00m\u001b[33m'\u001b[39;49;00m, y) < _data.get(\u001b[33m'\u001b[39;49;00m\u001b[33mz\u001b[39;49;00m\u001b[33m'\u001b[39;49;00m, z):\u001b[37m\u001b[39;49;00m\n",
      "        \u001b[34mif\u001b[39;49;00m _data.get(\u001b[33m'\u001b[39;49;00m\u001b[33mx\u001b[39;49;00m\u001b[33m'\u001b[39;49;00m, x) < _data.get(\u001b[33m'\u001b[39;49;00m\u001b[33my\u001b[39;49;00m\u001b[33m'\u001b[39;49;00m, y):\u001b[37m\u001b[39;49;00m\n",
      "            \u001b[34mreturn\u001b[39;49;00m _data.get(\u001b[33m'\u001b[39;49;00m\u001b[33my\u001b[39;49;00m\u001b[33m'\u001b[39;49;00m, y)\u001b[37m\u001b[39;49;00m\n",
      "        \u001b[34melif\u001b[39;49;00m _data.get(\u001b[33m'\u001b[39;49;00m\u001b[33mx\u001b[39;49;00m\u001b[33m'\u001b[39;49;00m, x) < _data.get(\u001b[33m'\u001b[39;49;00m\u001b[33mz\u001b[39;49;00m\u001b[33m'\u001b[39;49;00m, z):\u001b[37m\u001b[39;49;00m\n",
      "            \u001b[34mreturn\u001b[39;49;00m _data.get(\u001b[33m'\u001b[39;49;00m\u001b[33my\u001b[39;49;00m\u001b[33m'\u001b[39;49;00m, y)\u001b[37m\u001b[39;49;00m\n",
      "    \u001b[34melif\u001b[39;49;00m _data.get(\u001b[33m'\u001b[39;49;00m\u001b[33mx\u001b[39;49;00m\u001b[33m'\u001b[39;49;00m, x) > _data.get(\u001b[33m'\u001b[39;49;00m\u001b[33my\u001b[39;49;00m\u001b[33m'\u001b[39;49;00m, y):\u001b[37m\u001b[39;49;00m\n",
      "        \u001b[34mreturn\u001b[39;49;00m _data.get(\u001b[33m'\u001b[39;49;00m\u001b[33my\u001b[39;49;00m\u001b[33m'\u001b[39;49;00m, y)\u001b[37m\u001b[39;49;00m\n",
      "    \u001b[34melif\u001b[39;49;00m _data.get(\u001b[33m'\u001b[39;49;00m\u001b[33mx\u001b[39;49;00m\u001b[33m'\u001b[39;49;00m, x) > _data.get(\u001b[33m'\u001b[39;49;00m\u001b[33mz\u001b[39;49;00m\u001b[33m'\u001b[39;49;00m, z):\u001b[37m\u001b[39;49;00m\n",
      "        \u001b[34mreturn\u001b[39;49;00m _data.get(\u001b[33m'\u001b[39;49;00m\u001b[33mx\u001b[39;49;00m\u001b[33m'\u001b[39;49;00m, x)\u001b[37m\u001b[39;49;00m\n",
      "    \u001b[34mreturn\u001b[39;49;00m _data.get(\u001b[33m'\u001b[39;49;00m\u001b[33mz\u001b[39;49;00m\u001b[33m'\u001b[39;49;00m, z)\u001b[37m\u001b[39;49;00m"
     ]
    }
   ],
   "source": [
    "dump_tree(middle_tree)"
   ]
  },
  {
   "cell_type": "markdown",
   "metadata": {
    "slideshow": {
     "slide_type": "subslide"
    }
   },
   "source": [
    "Let us now execute this code together with the `DataTracker()` class we previously introduced. The class `DataTrackerTester()` takes a (transformed) tree and a function. Using it as\n",
    "\n",
    "```python\n",
    "with DataTrackerTester(tree, func):\n",
    "    func(...)\n",
    "```\n",
    "\n",
    "first executes the code in _tree_ (possibly instrumenting `func`) and then the `with` body. At the end, `func` is restored to its previous (non-instrumented) version."
   ]
  },
  {
   "cell_type": "code",
   "execution_count": 80,
   "metadata": {
    "execution": {
     "iopub.execute_input": "2025-10-26T17:47:20.414911Z",
     "iopub.status.busy": "2025-10-26T17:47:20.414825Z",
     "iopub.status.idle": "2025-10-26T17:47:20.416374Z",
     "shell.execute_reply": "2025-10-26T17:47:20.416178Z"
    },
    "slideshow": {
     "slide_type": "skip"
    }
   },
   "outputs": [],
   "source": [
    "from types import TracebackType"
   ]
  },
  {
   "cell_type": "code",
   "execution_count": 81,
   "metadata": {
    "execution": {
     "iopub.execute_input": "2025-10-26T17:47:20.417564Z",
     "iopub.status.busy": "2025-10-26T17:47:20.417480Z",
     "iopub.status.idle": "2025-10-26T17:47:20.420015Z",
     "shell.execute_reply": "2025-10-26T17:47:20.419798Z"
    },
    "slideshow": {
     "slide_type": "subslide"
    }
   },
   "outputs": [],
   "source": [
    "class DataTrackerTester:\n",
    "    def __init__(self, tree: AST, func: Callable, log: bool = True) -> None:\n",
    "        \"\"\"Constructor. Execute the code in `tree` while instrumenting `func`.\"\"\"\n",
    "        # We pass the source file of `func` such that we can retrieve it\n",
    "        # when accessing the location of the new compiled code\n",
    "        source = cast(str, inspect.getsourcefile(func))\n",
    "        self.code = compile(cast(ast.Module, tree), source, 'exec')\n",
    "        self.func = func\n",
    "        self.log = log\n",
    "\n",
    "    def make_data_tracker(self) -> Any:\n",
    "        return DataTracker(log=self.log)\n",
    "\n",
    "    def __enter__(self) -> Any:\n",
    "        \"\"\"Rewrite function\"\"\"\n",
    "        tracker = self.make_data_tracker()\n",
    "        globals()[DATA_TRACKER] = tracker\n",
    "        exec(self.code, globals())\n",
    "        return tracker\n",
    "\n",
    "    def __exit__(self, exc_type: Type, exc_value: BaseException,\n",
    "                 traceback: TracebackType) -> Optional[bool]:\n",
    "        \"\"\"Restore function\"\"\"\n",
    "        globals()[self.func.__name__] = self.func\n",
    "        del globals()[DATA_TRACKER]\n",
    "        return None"
   ]
  },
  {
   "cell_type": "markdown",
   "metadata": {
    "slideshow": {
     "slide_type": "subslide"
    }
   },
   "source": [
    "Here is our `middle()` function:"
   ]
  },
  {
   "cell_type": "code",
   "execution_count": 82,
   "metadata": {
    "execution": {
     "iopub.execute_input": "2025-10-26T17:47:20.421323Z",
     "iopub.status.busy": "2025-10-26T17:47:20.421239Z",
     "iopub.status.idle": "2025-10-26T17:47:20.434325Z",
     "shell.execute_reply": "2025-10-26T17:47:20.434094Z"
    },
    "slideshow": {
     "slide_type": "fragment"
    }
   },
   "outputs": [
    {
     "name": "stdout",
     "output_type": "stream",
     "text": [
      " 1  \u001b[34mdef\u001b[39;49;00m\u001b[37m \u001b[39;49;00m\u001b[32mmiddle\u001b[39;49;00m(x, y, z):  \u001b[37m# type: ignore\u001b[39;49;00m\u001b[37m\u001b[39;49;00m\n",
      " 2      \u001b[34mif\u001b[39;49;00m y < z:\u001b[37m\u001b[39;49;00m\n",
      " 3          \u001b[34mif\u001b[39;49;00m x < y:\u001b[37m\u001b[39;49;00m\n",
      " 4              \u001b[34mreturn\u001b[39;49;00m y\u001b[37m\u001b[39;49;00m\n",
      " 5          \u001b[34melif\u001b[39;49;00m x < z:\u001b[37m\u001b[39;49;00m\n",
      " 6              \u001b[34mreturn\u001b[39;49;00m y\u001b[37m\u001b[39;49;00m\n",
      " 7      \u001b[34melse\u001b[39;49;00m:\u001b[37m\u001b[39;49;00m\n",
      " 8          \u001b[34mif\u001b[39;49;00m x > y:\u001b[37m\u001b[39;49;00m\n",
      " 9              \u001b[34mreturn\u001b[39;49;00m y\u001b[37m\u001b[39;49;00m\n",
      "10          \u001b[34melif\u001b[39;49;00m x > z:\u001b[37m\u001b[39;49;00m\n",
      "11              \u001b[34mreturn\u001b[39;49;00m x\u001b[37m\u001b[39;49;00m\n",
      "12      \u001b[34mreturn\u001b[39;49;00m z\u001b[37m\u001b[39;49;00m"
     ]
    }
   ],
   "source": [
    "print_content(inspect.getsource(middle), '.py', start_line_number=1)"
   ]
  },
  {
   "cell_type": "markdown",
   "metadata": {
    "slideshow": {
     "slide_type": "subslide"
    }
   },
   "source": [
    "And here is our instrumented `middle_tree` executed with a `DataTracker` object. We see how the `middle()` tests access one argument after another."
   ]
  },
  {
   "cell_type": "code",
   "execution_count": 83,
   "metadata": {
    "execution": {
     "iopub.execute_input": "2025-10-26T17:47:20.435693Z",
     "iopub.status.busy": "2025-10-26T17:47:20.435598Z",
     "iopub.status.idle": "2025-10-26T17:47:20.437585Z",
     "shell.execute_reply": "2025-10-26T17:47:20.437364Z"
    },
    "slideshow": {
     "slide_type": "fragment"
    }
   },
   "outputs": [
    {
     "name": "stdout",
     "output_type": "stream",
     "text": [
      "middle:2: getting y\n",
      "middle:2: getting z\n",
      "middle:3: getting x\n",
      "middle:3: getting y\n",
      "middle:5: getting x\n",
      "middle:5: getting z\n",
      "middle:6: getting y\n"
     ]
    }
   ],
   "source": [
    "with DataTrackerTester(middle_tree, middle):\n",
    "    middle(2, 1, 3)"
   ]
  },
  {
   "cell_type": "markdown",
   "metadata": {
    "slideshow": {
     "slide_type": "fragment"
    }
   },
   "source": [
    "After `DataTrackerTester` is done, `middle` is reverted to its non-instrumented version:"
   ]
  },
  {
   "cell_type": "code",
   "execution_count": 84,
   "metadata": {
    "execution": {
     "iopub.execute_input": "2025-10-26T17:47:20.438827Z",
     "iopub.status.busy": "2025-10-26T17:47:20.438749Z",
     "iopub.status.idle": "2025-10-26T17:47:20.441055Z",
     "shell.execute_reply": "2025-10-26T17:47:20.440647Z"
    },
    "slideshow": {
     "slide_type": "subslide"
    }
   },
   "outputs": [
    {
     "data": {
      "text/plain": [
       "1"
      ]
     },
     "execution_count": 84,
     "metadata": {},
     "output_type": "execute_result"
    }
   ],
   "source": [
    "middle(2, 1, 3)"
   ]
  },
  {
   "cell_type": "markdown",
   "metadata": {
    "slideshow": {
     "slide_type": "fragment"
    }
   },
   "source": [
    "For a complete picture of what happens during executions, we implement a number of additional code transformers."
   ]
  },
  {
   "cell_type": "markdown",
   "metadata": {
    "slideshow": {
     "slide_type": "fragment"
    }
   },
   "source": [
    "For each assignment statement `x = y`, we change it to `x = _data.set('x', y)`. This allows __tracking assignments__."
   ]
  },
  {
   "cell_type": "markdown",
   "metadata": {
    "slideshow": {
     "slide_type": "subslide"
    }
   },
   "source": [
    "### Excursion: Tracking Assignments and Assertions"
   ]
  },
  {
   "cell_type": "markdown",
   "metadata": {
    "slideshow": {
     "slide_type": "fragment"
    }
   },
   "source": [
    "For the remaining transformers, we follow the same steps as for `TrackGetTransformer`, except that our `visit_...()` methods focus on different nodes, and return different subtrees. Here, we focus on assignment nodes."
   ]
  },
  {
   "cell_type": "markdown",
   "metadata": {
    "slideshow": {
     "slide_type": "fragment"
    }
   },
   "source": [
    "We want to transform assignments `x = value` into `_data.set('x', value)` to track assignments to `x`."
   ]
  },
  {
   "attachments": {},
   "cell_type": "markdown",
   "metadata": {
    "slideshow": {
     "slide_type": "fragment"
    }
   },
   "source": [
    "If the left-hand side of the assignment is more complex, as in `x[y] = value`, we want to ensure the read access to `x` and `y` is also tracked. By transforming `x[y] = value` into `_data.set('x', value, loads=(x, y))`, we ensure that `x` and `y` are marked as read (as the otherwise ignored `loads` argument would be changed to `_data.get()` calls for `x` and `y`)."
   ]
  },
  {
   "cell_type": "markdown",
   "metadata": {
    "slideshow": {
     "slide_type": "fragment"
    }
   },
   "source": [
    "Using `ast.dump()`, we reveal what the corresponding syntax tree has to look like:"
   ]
  },
  {
   "cell_type": "code",
   "execution_count": 85,
   "metadata": {
    "execution": {
     "iopub.execute_input": "2025-10-26T17:47:20.442773Z",
     "iopub.status.busy": "2025-10-26T17:47:20.442613Z",
     "iopub.status.idle": "2025-10-26T17:47:20.444643Z",
     "shell.execute_reply": "2025-10-26T17:47:20.444380Z"
    },
    "slideshow": {
     "slide_type": "subslide"
    }
   },
   "outputs": [
    {
     "name": "stdout",
     "output_type": "stream",
     "text": [
      "Module(body=[Expr(value=Call(func=Attribute(value=Name(id='_data', ctx=Load()), attr='set', ctx=Load()), args=[Constant(value='x'), Name(id='value', ctx=Load())], keywords=[keyword(arg='loads', value=Tuple(elts=[Name(id='a', ctx=Load()), Name(id='b', ctx=Load())], ctx=Load()))]))])\n"
     ]
    }
   ],
   "source": [
    "print(ast.dump(ast.parse(\"_data.set('x', value, loads=(a, b))\")))"
   ]
  },
  {
   "cell_type": "markdown",
   "metadata": {
    "slideshow": {
     "slide_type": "fragment"
    }
   },
   "source": [
    "Using this structure, we can write a function `make_set_data()` which constructs such a subtree."
   ]
  },
  {
   "cell_type": "code",
   "execution_count": 86,
   "metadata": {
    "execution": {
     "iopub.execute_input": "2025-10-26T17:47:20.445915Z",
     "iopub.status.busy": "2025-10-26T17:47:20.445807Z",
     "iopub.status.idle": "2025-10-26T17:47:20.448074Z",
     "shell.execute_reply": "2025-10-26T17:47:20.447836Z"
    },
    "slideshow": {
     "slide_type": "subslide"
    }
   },
   "outputs": [],
   "source": [
    "def make_set_data(id: str, value: Any, \n",
    "                  loads: Optional[Set[str]] = None, method: str = 'set') -> Call:\n",
    "    \"\"\"\n",
    "    Construct a subtree _data.`method`('`id`', `value`). \n",
    "    If `loads` is set to [X1, X2, ...], make it\n",
    "    _data.`method`('`id`', `value`, loads=(X1, X2, ...))\n",
    "    \"\"\"\n",
    "\n",
    "    keywords=[]\n",
    "\n",
    "    if loads:\n",
    "        keywords = [\n",
    "            keyword(arg='loads',\n",
    "                    value=ast.Tuple(\n",
    "                        elts=[Name(id=load, ctx=Load()) for load in loads],\n",
    "                        ctx=Load()\n",
    "                    ))\n",
    "        ]\n",
    "\n",
    "    new_node = Call(func=Attribute(value=Name(id=DATA_TRACKER, ctx=Load()),\n",
    "                                   attr=method, ctx=Load()),\n",
    "                    args=[ast.Str(id), value],\n",
    "                    keywords=keywords)\n",
    "\n",
    "    ast.copy_location(new_node, value)\n",
    "\n",
    "    return new_node"
   ]
  },
  {
   "attachments": {},
   "cell_type": "markdown",
   "metadata": {
    "slideshow": {
     "slide_type": "subslide"
    }
   },
   "source": [
    "The problem is, however: How do we get the name of the variable being assigned to? The left-hand side of an assignment can be a complex expression such as `x[i]`. We use the leftmost name of the left-hand side as name to be assigned to."
   ]
  },
  {
   "cell_type": "code",
   "execution_count": 87,
   "metadata": {
    "execution": {
     "iopub.execute_input": "2025-10-26T17:47:20.449262Z",
     "iopub.status.busy": "2025-10-26T17:47:20.449163Z",
     "iopub.status.idle": "2025-10-26T17:47:20.451010Z",
     "shell.execute_reply": "2025-10-26T17:47:20.450778Z"
    },
    "slideshow": {
     "slide_type": "fragment"
    }
   },
   "outputs": [],
   "source": [
    "class LeftmostNameVisitor(NodeVisitor):\n",
    "    def __init__(self) -> None:\n",
    "        super().__init__()\n",
    "        self.leftmost_name: Optional[str] = None\n",
    "\n",
    "    def visit_Name(self, node: Name) -> None:\n",
    "        if self.leftmost_name is None:\n",
    "            self.leftmost_name = node.id\n",
    "        self.generic_visit(node)"
   ]
  },
  {
   "cell_type": "code",
   "execution_count": 88,
   "metadata": {
    "execution": {
     "iopub.execute_input": "2025-10-26T17:47:20.452253Z",
     "iopub.status.busy": "2025-10-26T17:47:20.452149Z",
     "iopub.status.idle": "2025-10-26T17:47:20.454174Z",
     "shell.execute_reply": "2025-10-26T17:47:20.453876Z"
    },
    "slideshow": {
     "slide_type": "subslide"
    }
   },
   "outputs": [],
   "source": [
    "def leftmost_name(tree: AST) -> Optional[str]:\n",
    "    visitor = LeftmostNameVisitor()\n",
    "    visitor.visit(tree)\n",
    "    return visitor.leftmost_name"
   ]
  },
  {
   "cell_type": "code",
   "execution_count": 89,
   "metadata": {
    "execution": {
     "iopub.execute_input": "2025-10-26T17:47:20.455766Z",
     "iopub.status.busy": "2025-10-26T17:47:20.455627Z",
     "iopub.status.idle": "2025-10-26T17:47:20.457976Z",
     "shell.execute_reply": "2025-10-26T17:47:20.457730Z"
    },
    "slideshow": {
     "slide_type": "fragment"
    }
   },
   "outputs": [
    {
     "data": {
      "text/plain": [
       "'a'"
      ]
     },
     "execution_count": 89,
     "metadata": {},
     "output_type": "execute_result"
    }
   ],
   "source": [
    "leftmost_name(ast.parse('a[x] = 25'))"
   ]
  },
  {
   "cell_type": "markdown",
   "metadata": {
    "slideshow": {
     "slide_type": "fragment"
    }
   },
   "source": [
    "Python also allows _tuple assignments_, as in `(a, b, c) = (1, 2, 3)`. We extract all variables being stored (that is, expressions whose `ctx` attribute is `Store()`) and extract their (leftmost) names."
   ]
  },
  {
   "cell_type": "code",
   "execution_count": 90,
   "metadata": {
    "execution": {
     "iopub.execute_input": "2025-10-26T17:47:20.459306Z",
     "iopub.status.busy": "2025-10-26T17:47:20.459196Z",
     "iopub.status.idle": "2025-10-26T17:47:20.461268Z",
     "shell.execute_reply": "2025-10-26T17:47:20.461061Z"
    },
    "slideshow": {
     "slide_type": "subslide"
    }
   },
   "outputs": [],
   "source": [
    "class StoreVisitor(NodeVisitor):\n",
    "    def __init__(self) -> None:\n",
    "        super().__init__()\n",
    "        self.names: Set[str] = set()\n",
    "\n",
    "    def visit(self, node: AST) -> None:\n",
    "        if hasattr(node, 'ctx') and isinstance(node.ctx, Store):  # type: ignore\n",
    "            name = leftmost_name(node)\n",
    "            if name:\n",
    "                self.names.add(name)\n",
    "\n",
    "        self.generic_visit(node)"
   ]
  },
  {
   "cell_type": "code",
   "execution_count": 91,
   "metadata": {
    "execution": {
     "iopub.execute_input": "2025-10-26T17:47:20.462456Z",
     "iopub.status.busy": "2025-10-26T17:47:20.462348Z",
     "iopub.status.idle": "2025-10-26T17:47:20.463985Z",
     "shell.execute_reply": "2025-10-26T17:47:20.463791Z"
    },
    "slideshow": {
     "slide_type": "subslide"
    }
   },
   "outputs": [],
   "source": [
    "def store_names(tree: AST) -> Set[str]:\n",
    "    visitor = StoreVisitor()\n",
    "    visitor.visit(tree)\n",
    "    return visitor.names"
   ]
  },
  {
   "cell_type": "code",
   "execution_count": 92,
   "metadata": {
    "execution": {
     "iopub.execute_input": "2025-10-26T17:47:20.465100Z",
     "iopub.status.busy": "2025-10-26T17:47:20.465017Z",
     "iopub.status.idle": "2025-10-26T17:47:20.467410Z",
     "shell.execute_reply": "2025-10-26T17:47:20.467138Z"
    },
    "slideshow": {
     "slide_type": "fragment"
    }
   },
   "outputs": [
    {
     "data": {
      "text/plain": [
       "{'a', 'b', 'c'}"
      ]
     },
     "execution_count": 92,
     "metadata": {},
     "output_type": "execute_result"
    }
   ],
   "source": [
    "store_names(ast.parse('a[x], b[y], c = 1, 2, 3'))"
   ]
  },
  {
   "cell_type": "markdown",
   "metadata": {
    "slideshow": {
     "slide_type": "fragment"
    }
   },
   "source": [
    "For complex assignments, we also want to access the names read in the left hand side of an expression."
   ]
  },
  {
   "cell_type": "code",
   "execution_count": 93,
   "metadata": {
    "execution": {
     "iopub.execute_input": "2025-10-26T17:47:20.468713Z",
     "iopub.status.busy": "2025-10-26T17:47:20.468621Z",
     "iopub.status.idle": "2025-10-26T17:47:20.470687Z",
     "shell.execute_reply": "2025-10-26T17:47:20.470476Z"
    },
    "slideshow": {
     "slide_type": "subslide"
    }
   },
   "outputs": [],
   "source": [
    "class LoadVisitor(NodeVisitor):\n",
    "    def __init__(self) -> None:\n",
    "        super().__init__()\n",
    "        self.names: Set[str] = set()\n",
    "\n",
    "    def visit(self, node: AST) -> None:\n",
    "        if hasattr(node, 'ctx') and isinstance(node.ctx, Load):  # type: ignore\n",
    "            name = leftmost_name(node)\n",
    "            if name is not None:\n",
    "                self.names.add(name)\n",
    "\n",
    "        self.generic_visit(node)"
   ]
  },
  {
   "cell_type": "code",
   "execution_count": 94,
   "metadata": {
    "execution": {
     "iopub.execute_input": "2025-10-26T17:47:20.471882Z",
     "iopub.status.busy": "2025-10-26T17:47:20.471798Z",
     "iopub.status.idle": "2025-10-26T17:47:20.473325Z",
     "shell.execute_reply": "2025-10-26T17:47:20.473081Z"
    },
    "slideshow": {
     "slide_type": "subslide"
    }
   },
   "outputs": [],
   "source": [
    "def load_names(tree: AST) -> Set[str]:\n",
    "    visitor = LoadVisitor()\n",
    "    visitor.visit(tree)\n",
    "    return visitor.names"
   ]
  },
  {
   "cell_type": "code",
   "execution_count": 95,
   "metadata": {
    "execution": {
     "iopub.execute_input": "2025-10-26T17:47:20.474428Z",
     "iopub.status.busy": "2025-10-26T17:47:20.474353Z",
     "iopub.status.idle": "2025-10-26T17:47:20.476482Z",
     "shell.execute_reply": "2025-10-26T17:47:20.476241Z"
    },
    "slideshow": {
     "slide_type": "fragment"
    }
   },
   "outputs": [
    {
     "data": {
      "text/plain": [
       "{'a', 'b', 'x', 'y'}"
      ]
     },
     "execution_count": 95,
     "metadata": {},
     "output_type": "execute_result"
    }
   ],
   "source": [
    "load_names(ast.parse('a[x], b[y], c = 1, 2, 3'))"
   ]
  },
  {
   "cell_type": "markdown",
   "metadata": {
    "slideshow": {
     "slide_type": "fragment"
    }
   },
   "source": [
    "With this, we can now define `TrackSetTransformer` as a transformer for regular assignments. Note that in Python, an assignment can have multiple targets, as in `a = b = c`; we assign the data dependencies of `c` to them all."
   ]
  },
  {
   "cell_type": "code",
   "execution_count": 96,
   "metadata": {
    "execution": {
     "iopub.execute_input": "2025-10-26T17:47:20.477739Z",
     "iopub.status.busy": "2025-10-26T17:47:20.477624Z",
     "iopub.status.idle": "2025-10-26T17:47:20.479744Z",
     "shell.execute_reply": "2025-10-26T17:47:20.479497Z"
    },
    "slideshow": {
     "slide_type": "subslide"
    }
   },
   "outputs": [],
   "source": [
    "class TrackSetTransformer(NodeTransformer):\n",
    "    def visit_Assign(self, node: Assign) -> Assign:\n",
    "        value = ast.unparse(node.value)\n",
    "        if value.startswith(DATA_TRACKER + '.set'):\n",
    "            return node  # Do not apply twice\n",
    "\n",
    "        for target in node.targets:\n",
    "            loads = load_names(target)\n",
    "            for store_name in store_names(target):\n",
    "                node.value = make_set_data(store_name, node.value, \n",
    "                                           loads=loads)\n",
    "                loads = set()\n",
    "\n",
    "        return node"
   ]
  },
  {
   "cell_type": "markdown",
   "metadata": {
    "slideshow": {
     "slide_type": "subslide"
    }
   },
   "source": [
    "The special form of \"augmented assign\" needs special treatment. We change statements of the form `x += y` to `x += _data.augment('x', y)`."
   ]
  },
  {
   "cell_type": "code",
   "execution_count": 97,
   "metadata": {
    "execution": {
     "iopub.execute_input": "2025-10-26T17:47:20.481099Z",
     "iopub.status.busy": "2025-10-26T17:47:20.481000Z",
     "iopub.status.idle": "2025-10-26T17:47:20.483040Z",
     "shell.execute_reply": "2025-10-26T17:47:20.482821Z"
    },
    "slideshow": {
     "slide_type": "fragment"
    }
   },
   "outputs": [],
   "source": [
    "class TrackSetTransformer(TrackSetTransformer):\n",
    "    def visit_AugAssign(self, node: AugAssign) -> AugAssign:\n",
    "        value = ast.unparse(node.value)\n",
    "        if value.startswith(DATA_TRACKER):\n",
    "            return node  # Do not apply twice\n",
    "\n",
    "        id = cast(str, leftmost_name(node.target))\n",
    "        node.value = make_set_data(id, node.value, method='augment')\n",
    "\n",
    "        return node"
   ]
  },
  {
   "cell_type": "markdown",
   "metadata": {
    "slideshow": {
     "slide_type": "fragment"
    }
   },
   "source": [
    "The corresponding `augment()` method uses a combination of `set()` and `get()` to reflect the semantics."
   ]
  },
  {
   "cell_type": "code",
   "execution_count": 98,
   "metadata": {
    "execution": {
     "iopub.execute_input": "2025-10-26T17:47:20.484158Z",
     "iopub.status.busy": "2025-10-26T17:47:20.484073Z",
     "iopub.status.idle": "2025-10-26T17:47:20.485834Z",
     "shell.execute_reply": "2025-10-26T17:47:20.485591Z"
    },
    "slideshow": {
     "slide_type": "subslide"
    }
   },
   "outputs": [],
   "source": [
    "class DataTracker(DataTracker):\n",
    "    def augment(self, name: str, value: Any) -> Any:\n",
    "        \"\"\"\n",
    "        Track augmenting `name` with `value`.\n",
    "        To be overloaded in subclasses.\n",
    "        \"\"\"\n",
    "        self.set(name, self.get(name, value))\n",
    "        return value"
   ]
  },
  {
   "cell_type": "markdown",
   "metadata": {
    "slideshow": {
     "slide_type": "fragment"
    }
   },
   "source": [
    "\"Annotated\" assignments come with a type, as in `x: int = 3`. We treat them like regular assignments."
   ]
  },
  {
   "cell_type": "code",
   "execution_count": 99,
   "metadata": {
    "execution": {
     "iopub.execute_input": "2025-10-26T17:47:20.487021Z",
     "iopub.status.busy": "2025-10-26T17:47:20.486926Z",
     "iopub.status.idle": "2025-10-26T17:47:20.489098Z",
     "shell.execute_reply": "2025-10-26T17:47:20.488830Z"
    },
    "slideshow": {
     "slide_type": "subslide"
    }
   },
   "outputs": [],
   "source": [
    "class TrackSetTransformer(TrackSetTransformer):\n",
    "    def visit_AnnAssign(self, node: AnnAssign) -> AnnAssign:\n",
    "        if node.value is None:\n",
    "            return node  # just <var>: <type> without value\n",
    "\n",
    "        value = ast.unparse(node.value)\n",
    "        if value.startswith(DATA_TRACKER + '.set'):\n",
    "            return node  # Do not apply twice\n",
    "\n",
    "        loads = load_names(node.target)\n",
    "        for store_name in store_names(node.target):\n",
    "            node.value = make_set_data(store_name, node.value, \n",
    "                                       loads=loads)\n",
    "            loads = set()\n",
    "\n",
    "        return node"
   ]
  },
  {
   "cell_type": "markdown",
   "metadata": {
    "slideshow": {
     "slide_type": "subslide"
    }
   },
   "source": [
    "Finally, we treat _assertions_ just as if they were assignments to special variables:"
   ]
  },
  {
   "cell_type": "code",
   "execution_count": 100,
   "metadata": {
    "execution": {
     "iopub.execute_input": "2025-10-26T17:47:20.490409Z",
     "iopub.status.busy": "2025-10-26T17:47:20.490320Z",
     "iopub.status.idle": "2025-10-26T17:47:20.492248Z",
     "shell.execute_reply": "2025-10-26T17:47:20.492000Z"
    },
    "slideshow": {
     "slide_type": "fragment"
    }
   },
   "outputs": [],
   "source": [
    "class TrackSetTransformer(TrackSetTransformer):\n",
    "    def visit_Assert(self, node: Assert) -> Assert:\n",
    "        value = ast.unparse(node.test)\n",
    "        if value.startswith(DATA_TRACKER + '.set'):\n",
    "            return node  # Do not apply twice\n",
    "\n",
    "        loads = load_names(node.test)\n",
    "        node.test = make_set_data(\"<assertion>\", node.test, loads=loads)\n",
    "        return node"
   ]
  },
  {
   "cell_type": "markdown",
   "metadata": {
    "slideshow": {
     "slide_type": "fragment"
    }
   },
   "source": [
    "Here's all of these transformers in action. Our original function has a number of assignments:"
   ]
  },
  {
   "cell_type": "code",
   "execution_count": 101,
   "metadata": {
    "execution": {
     "iopub.execute_input": "2025-10-26T17:47:20.493715Z",
     "iopub.status.busy": "2025-10-26T17:47:20.493593Z",
     "iopub.status.idle": "2025-10-26T17:47:20.495635Z",
     "shell.execute_reply": "2025-10-26T17:47:20.495355Z"
    },
    "slideshow": {
     "slide_type": "subslide"
    }
   },
   "outputs": [],
   "source": [
    "def assign_test(x: int) -> Tuple[int, str]:  # type: ignore\n",
    "    forty_two: int = 42\n",
    "    forty_two = forty_two = 42\n",
    "    a, b = 1, 2\n",
    "    c = d = [a, b]\n",
    "    c[d[a]].attr = 47  # type: ignore\n",
    "    a *= b + 1\n",
    "    assert a > 0\n",
    "    return forty_two, \"Forty-Two\""
   ]
  },
  {
   "cell_type": "code",
   "execution_count": 102,
   "metadata": {
    "execution": {
     "iopub.execute_input": "2025-10-26T17:47:20.497070Z",
     "iopub.status.busy": "2025-10-26T17:47:20.496907Z",
     "iopub.status.idle": "2025-10-26T17:47:20.498781Z",
     "shell.execute_reply": "2025-10-26T17:47:20.498558Z"
    },
    "slideshow": {
     "slide_type": "fragment"
    }
   },
   "outputs": [],
   "source": [
    "assign_tree = ast.parse(inspect.getsource(assign_test))"
   ]
  },
  {
   "cell_type": "code",
   "execution_count": 103,
   "metadata": {
    "execution": {
     "iopub.execute_input": "2025-10-26T17:47:20.499910Z",
     "iopub.status.busy": "2025-10-26T17:47:20.499808Z",
     "iopub.status.idle": "2025-10-26T17:47:20.514535Z",
     "shell.execute_reply": "2025-10-26T17:47:20.514280Z"
    },
    "slideshow": {
     "slide_type": "subslide"
    }
   },
   "outputs": [
    {
     "name": "stdout",
     "output_type": "stream",
     "text": [
      "\u001b[34mdef\u001b[39;49;00m\u001b[37m \u001b[39;49;00m\u001b[32massign_test\u001b[39;49;00m(x: \u001b[36mint\u001b[39;49;00m) -> Tuple[\u001b[36mint\u001b[39;49;00m, \u001b[36mstr\u001b[39;49;00m]:\u001b[37m\u001b[39;49;00m\n",
      "    forty_two: \u001b[36mint\u001b[39;49;00m = _data.set(\u001b[33m'\u001b[39;49;00m\u001b[33mforty_two\u001b[39;49;00m\u001b[33m'\u001b[39;49;00m, \u001b[34m42\u001b[39;49;00m)\u001b[37m\u001b[39;49;00m\n",
      "    forty_two = forty_two = _data.set(\u001b[33m'\u001b[39;49;00m\u001b[33mforty_two\u001b[39;49;00m\u001b[33m'\u001b[39;49;00m, _data.set(\u001b[33m'\u001b[39;49;00m\u001b[33mforty_two\u001b[39;49;00m\u001b[33m'\u001b[39;49;00m, \u001b[34m42\u001b[39;49;00m))\u001b[37m\u001b[39;49;00m\n",
      "    a, b = _data.set(\u001b[33m'\u001b[39;49;00m\u001b[33mb\u001b[39;49;00m\u001b[33m'\u001b[39;49;00m, _data.set(\u001b[33m'\u001b[39;49;00m\u001b[33ma\u001b[39;49;00m\u001b[33m'\u001b[39;49;00m, (\u001b[34m1\u001b[39;49;00m, \u001b[34m2\u001b[39;49;00m)))\u001b[37m\u001b[39;49;00m\n",
      "    c = d = _data.set(\u001b[33m'\u001b[39;49;00m\u001b[33md\u001b[39;49;00m\u001b[33m'\u001b[39;49;00m, _data.set(\u001b[33m'\u001b[39;49;00m\u001b[33mc\u001b[39;49;00m\u001b[33m'\u001b[39;49;00m, [a, b]))\u001b[37m\u001b[39;49;00m\n",
      "    c[d[a]].attr = _data.set(\u001b[33m'\u001b[39;49;00m\u001b[33mc\u001b[39;49;00m\u001b[33m'\u001b[39;49;00m, \u001b[34m47\u001b[39;49;00m, loads=(a, d, c))\u001b[37m\u001b[39;49;00m\n",
      "    a *= _data.augment(\u001b[33m'\u001b[39;49;00m\u001b[33ma\u001b[39;49;00m\u001b[33m'\u001b[39;49;00m, b + \u001b[34m1\u001b[39;49;00m)\u001b[37m\u001b[39;49;00m\n",
      "    \u001b[34massert\u001b[39;49;00m _data.set(\u001b[33m'\u001b[39;49;00m\u001b[33m<assertion>\u001b[39;49;00m\u001b[33m'\u001b[39;49;00m, a > \u001b[34m0\u001b[39;49;00m, loads=(a,))\u001b[37m\u001b[39;49;00m\n",
      "    \u001b[34mreturn\u001b[39;49;00m (forty_two, \u001b[33m'\u001b[39;49;00m\u001b[33mForty-Two\u001b[39;49;00m\u001b[33m'\u001b[39;49;00m)\u001b[37m\u001b[39;49;00m"
     ]
    },
    {
     "name": "stderr",
     "output_type": "stream",
     "text": [
      "/var/folders/n2/xd9445p97rb3xh7m1dfx8_4h0006ts/T/ipykernel_51412/2454789564.py:22: DeprecationWarning: ast.Str is deprecated and will be removed in Python 3.14; use ast.Constant instead\n",
      "  args=[ast.Str(id), value],\n"
     ]
    }
   ],
   "source": [
    "TrackSetTransformer().visit(assign_tree)\n",
    "dump_tree(assign_tree)"
   ]
  },
  {
   "cell_type": "markdown",
   "metadata": {
    "slideshow": {
     "slide_type": "subslide"
    }
   },
   "source": [
    "If we later apply our transformer for data accesses, we can see that we track all variable reads and writes."
   ]
  },
  {
   "cell_type": "code",
   "execution_count": 104,
   "metadata": {
    "execution": {
     "iopub.execute_input": "2025-10-26T17:47:20.515826Z",
     "iopub.status.busy": "2025-10-26T17:47:20.515741Z",
     "iopub.status.idle": "2025-10-26T17:47:20.531429Z",
     "shell.execute_reply": "2025-10-26T17:47:20.531167Z"
    },
    "slideshow": {
     "slide_type": "subslide"
    }
   },
   "outputs": [
    {
     "name": "stdout",
     "output_type": "stream",
     "text": [
      "\u001b[34mdef\u001b[39;49;00m\u001b[37m \u001b[39;49;00m\u001b[32massign_test\u001b[39;49;00m(x: \u001b[36mint\u001b[39;49;00m) -> Tuple[\u001b[36mint\u001b[39;49;00m, \u001b[36mstr\u001b[39;49;00m]:\u001b[37m\u001b[39;49;00m\n",
      "    forty_two: \u001b[36mint\u001b[39;49;00m = _data.set(\u001b[33m'\u001b[39;49;00m\u001b[33mforty_two\u001b[39;49;00m\u001b[33m'\u001b[39;49;00m, \u001b[34m42\u001b[39;49;00m)\u001b[37m\u001b[39;49;00m\n",
      "    forty_two = forty_two = _data.set(\u001b[33m'\u001b[39;49;00m\u001b[33mforty_two\u001b[39;49;00m\u001b[33m'\u001b[39;49;00m, _data.set(\u001b[33m'\u001b[39;49;00m\u001b[33mforty_two\u001b[39;49;00m\u001b[33m'\u001b[39;49;00m, \u001b[34m42\u001b[39;49;00m))\u001b[37m\u001b[39;49;00m\n",
      "    a, b = _data.set(\u001b[33m'\u001b[39;49;00m\u001b[33mb\u001b[39;49;00m\u001b[33m'\u001b[39;49;00m, _data.set(\u001b[33m'\u001b[39;49;00m\u001b[33ma\u001b[39;49;00m\u001b[33m'\u001b[39;49;00m, (\u001b[34m1\u001b[39;49;00m, \u001b[34m2\u001b[39;49;00m)))\u001b[37m\u001b[39;49;00m\n",
      "    c = d = _data.set(\u001b[33m'\u001b[39;49;00m\u001b[33md\u001b[39;49;00m\u001b[33m'\u001b[39;49;00m, _data.set(\u001b[33m'\u001b[39;49;00m\u001b[33mc\u001b[39;49;00m\u001b[33m'\u001b[39;49;00m, [_data.get(\u001b[33m'\u001b[39;49;00m\u001b[33ma\u001b[39;49;00m\u001b[33m'\u001b[39;49;00m, a), _data.get(\u001b[33m'\u001b[39;49;00m\u001b[33mb\u001b[39;49;00m\u001b[33m'\u001b[39;49;00m, b)]))\u001b[37m\u001b[39;49;00m\n",
      "    _data.get(\u001b[33m'\u001b[39;49;00m\u001b[33mc\u001b[39;49;00m\u001b[33m'\u001b[39;49;00m, c)[_data.get(\u001b[33m'\u001b[39;49;00m\u001b[33md\u001b[39;49;00m\u001b[33m'\u001b[39;49;00m, d)[_data.get(\u001b[33m'\u001b[39;49;00m\u001b[33ma\u001b[39;49;00m\u001b[33m'\u001b[39;49;00m, a)]].attr = _data.set(\u001b[33m'\u001b[39;49;00m\u001b[33mc\u001b[39;49;00m\u001b[33m'\u001b[39;49;00m, \u001b[34m47\u001b[39;49;00m, loads=(_data.get(\u001b[33m'\u001b[39;49;00m\u001b[33ma\u001b[39;49;00m\u001b[33m'\u001b[39;49;00m, a), _data.get(\u001b[33m'\u001b[39;49;00m\u001b[33md\u001b[39;49;00m\u001b[33m'\u001b[39;49;00m, d), _data.get(\u001b[33m'\u001b[39;49;00m\u001b[33mc\u001b[39;49;00m\u001b[33m'\u001b[39;49;00m, c)))\u001b[37m\u001b[39;49;00m\n",
      "    a *= _data.augment(\u001b[33m'\u001b[39;49;00m\u001b[33ma\u001b[39;49;00m\u001b[33m'\u001b[39;49;00m, _data.get(\u001b[33m'\u001b[39;49;00m\u001b[33mb\u001b[39;49;00m\u001b[33m'\u001b[39;49;00m, b) + \u001b[34m1\u001b[39;49;00m)\u001b[37m\u001b[39;49;00m\n",
      "    \u001b[34massert\u001b[39;49;00m _data.set(\u001b[33m'\u001b[39;49;00m\u001b[33m<assertion>\u001b[39;49;00m\u001b[33m'\u001b[39;49;00m, _data.get(\u001b[33m'\u001b[39;49;00m\u001b[33ma\u001b[39;49;00m\u001b[33m'\u001b[39;49;00m, a) > \u001b[34m0\u001b[39;49;00m, loads=(_data.get(\u001b[33m'\u001b[39;49;00m\u001b[33ma\u001b[39;49;00m\u001b[33m'\u001b[39;49;00m, a),))\u001b[37m\u001b[39;49;00m\n",
      "    \u001b[34mreturn\u001b[39;49;00m (_data.get(\u001b[33m'\u001b[39;49;00m\u001b[33mforty_two\u001b[39;49;00m\u001b[33m'\u001b[39;49;00m, forty_two), \u001b[33m'\u001b[39;49;00m\u001b[33mForty-Two\u001b[39;49;00m\u001b[33m'\u001b[39;49;00m)\u001b[37m\u001b[39;49;00m"
     ]
    },
    {
     "name": "stderr",
     "output_type": "stream",
     "text": [
      "/var/folders/n2/xd9445p97rb3xh7m1dfx8_4h0006ts/T/ipykernel_51412/3554319793.py:4: DeprecationWarning: ast.Str is deprecated and will be removed in Python 3.14; use ast.Constant instead\n",
      "  args=[ast.Str(id), Name(id=id, ctx=Load())],\n"
     ]
    }
   ],
   "source": [
    "TrackGetTransformer().visit(assign_tree)\n",
    "dump_tree(assign_tree)"
   ]
  },
  {
   "cell_type": "markdown",
   "metadata": {
    "slideshow": {
     "slide_type": "subslide"
    }
   },
   "source": [
    "### End of Excursion"
   ]
  },
  {
   "cell_type": "markdown",
   "metadata": {
    "slideshow": {
     "slide_type": "fragment"
    }
   },
   "source": [
    "Each return statement `return x` is transformed to `return _data.set('<return_value>', x)`. This allows __tracking return values__."
   ]
  },
  {
   "cell_type": "markdown",
   "metadata": {
    "slideshow": {
     "slide_type": "subslide"
    }
   },
   "source": [
    "### Excursion: Tracking Return Values"
   ]
  },
  {
   "cell_type": "markdown",
   "metadata": {
    "slideshow": {
     "slide_type": "fragment"
    }
   },
   "source": [
    "Our `TrackReturnTransformer` also makes use of `make_set_data()`."
   ]
  },
  {
   "cell_type": "code",
   "execution_count": 105,
   "metadata": {
    "execution": {
     "iopub.execute_input": "2025-10-26T17:47:20.532930Z",
     "iopub.status.busy": "2025-10-26T17:47:20.532821Z",
     "iopub.status.idle": "2025-10-26T17:47:20.536058Z",
     "shell.execute_reply": "2025-10-26T17:47:20.535794Z"
    },
    "slideshow": {
     "slide_type": "subslide"
    }
   },
   "outputs": [],
   "source": [
    "class TrackReturnTransformer(NodeTransformer):\n",
    "    def __init__(self) -> None:\n",
    "        self.function_name: Optional[str] = None\n",
    "        super().__init__()\n",
    "\n",
    "    def visit_FunctionDef(self, node: Union[ast.FunctionDef, ast.AsyncFunctionDef]) -> AST:\n",
    "        outer_name = self.function_name\n",
    "        self.function_name = node.name  # Save current name\n",
    "        self.generic_visit(node)\n",
    "        self.function_name = outer_name\n",
    "        return node\n",
    "\n",
    "    def visit_AsyncFunctionDef(self, node: ast.AsyncFunctionDef) -> AST:\n",
    "        return self.visit_FunctionDef(node)\n",
    "\n",
    "    def return_value(self, tp: str = \"return\") -> str:\n",
    "        if self.function_name is None:\n",
    "            return f\"<{tp} value>\"\n",
    "        else:\n",
    "            return f\"<{self.function_name}() {tp} value>\"\n",
    "\n",
    "    def visit_return_or_yield(self, node: Union[ast.Return, ast.Yield, ast.YieldFrom],\n",
    "                              tp: str = \"return\") -> AST:\n",
    "\n",
    "        if node.value is not None:\n",
    "            value = ast.unparse(node.value)\n",
    "            if not value.startswith(DATA_TRACKER + '.set'):\n",
    "                node.value = make_set_data(self.return_value(tp), node.value)\n",
    "\n",
    "        return node\n",
    "\n",
    "    def visit_Return(self, node: ast.Return) -> AST:\n",
    "        return self.visit_return_or_yield(node, tp=\"return\")\n",
    "\n",
    "    def visit_Yield(self, node: ast.Yield) -> AST:\n",
    "        return self.visit_return_or_yield(node, tp=\"yield\")\n",
    "\n",
    "    def visit_YieldFrom(self, node: ast.YieldFrom) -> AST:\n",
    "        return self.visit_return_or_yield(node, tp=\"yield\")"
   ]
  },
  {
   "cell_type": "markdown",
   "metadata": {
    "slideshow": {
     "slide_type": "subslide"
    }
   },
   "source": [
    "This is the effect of `TrackReturnTransformer`. We see that all return values are saved, and thus all locations of the corresponding return statements are tracked."
   ]
  },
  {
   "cell_type": "code",
   "execution_count": 106,
   "metadata": {
    "execution": {
     "iopub.execute_input": "2025-10-26T17:47:20.537575Z",
     "iopub.status.busy": "2025-10-26T17:47:20.537485Z",
     "iopub.status.idle": "2025-10-26T17:47:20.551928Z",
     "shell.execute_reply": "2025-10-26T17:47:20.551574Z"
    },
    "slideshow": {
     "slide_type": "subslide"
    }
   },
   "outputs": [
    {
     "name": "stdout",
     "output_type": "stream",
     "text": [
      "\u001b[34mdef\u001b[39;49;00m\u001b[37m \u001b[39;49;00m\u001b[32mmiddle\u001b[39;49;00m(x, y, z):\u001b[37m\u001b[39;49;00m\n",
      "    \u001b[34mif\u001b[39;49;00m _data.get(\u001b[33m'\u001b[39;49;00m\u001b[33my\u001b[39;49;00m\u001b[33m'\u001b[39;49;00m, y) < _data.get(\u001b[33m'\u001b[39;49;00m\u001b[33mz\u001b[39;49;00m\u001b[33m'\u001b[39;49;00m, z):\u001b[37m\u001b[39;49;00m\n",
      "        \u001b[34mif\u001b[39;49;00m _data.get(\u001b[33m'\u001b[39;49;00m\u001b[33mx\u001b[39;49;00m\u001b[33m'\u001b[39;49;00m, x) < _data.get(\u001b[33m'\u001b[39;49;00m\u001b[33my\u001b[39;49;00m\u001b[33m'\u001b[39;49;00m, y):\u001b[37m\u001b[39;49;00m\n",
      "            \u001b[34mreturn\u001b[39;49;00m _data.set(\u001b[33m'\u001b[39;49;00m\u001b[33m<middle() return value>\u001b[39;49;00m\u001b[33m'\u001b[39;49;00m, _data.get(\u001b[33m'\u001b[39;49;00m\u001b[33my\u001b[39;49;00m\u001b[33m'\u001b[39;49;00m, y))\u001b[37m\u001b[39;49;00m\n",
      "        \u001b[34melif\u001b[39;49;00m _data.get(\u001b[33m'\u001b[39;49;00m\u001b[33mx\u001b[39;49;00m\u001b[33m'\u001b[39;49;00m, x) < _data.get(\u001b[33m'\u001b[39;49;00m\u001b[33mz\u001b[39;49;00m\u001b[33m'\u001b[39;49;00m, z):\u001b[37m\u001b[39;49;00m\n",
      "            \u001b[34mreturn\u001b[39;49;00m _data.set(\u001b[33m'\u001b[39;49;00m\u001b[33m<middle() return value>\u001b[39;49;00m\u001b[33m'\u001b[39;49;00m, _data.get(\u001b[33m'\u001b[39;49;00m\u001b[33my\u001b[39;49;00m\u001b[33m'\u001b[39;49;00m, y))\u001b[37m\u001b[39;49;00m\n",
      "    \u001b[34melif\u001b[39;49;00m _data.get(\u001b[33m'\u001b[39;49;00m\u001b[33mx\u001b[39;49;00m\u001b[33m'\u001b[39;49;00m, x) > _data.get(\u001b[33m'\u001b[39;49;00m\u001b[33my\u001b[39;49;00m\u001b[33m'\u001b[39;49;00m, y):\u001b[37m\u001b[39;49;00m\n",
      "        \u001b[34mreturn\u001b[39;49;00m _data.set(\u001b[33m'\u001b[39;49;00m\u001b[33m<middle() return value>\u001b[39;49;00m\u001b[33m'\u001b[39;49;00m, _data.get(\u001b[33m'\u001b[39;49;00m\u001b[33my\u001b[39;49;00m\u001b[33m'\u001b[39;49;00m, y))\u001b[37m\u001b[39;49;00m\n",
      "    \u001b[34melif\u001b[39;49;00m _data.get(\u001b[33m'\u001b[39;49;00m\u001b[33mx\u001b[39;49;00m\u001b[33m'\u001b[39;49;00m, x) > _data.get(\u001b[33m'\u001b[39;49;00m\u001b[33mz\u001b[39;49;00m\u001b[33m'\u001b[39;49;00m, z):\u001b[37m\u001b[39;49;00m\n",
      "        \u001b[34mreturn\u001b[39;49;00m _data.set(\u001b[33m'\u001b[39;49;00m\u001b[33m<middle() return value>\u001b[39;49;00m\u001b[33m'\u001b[39;49;00m, _data.get(\u001b[33m'\u001b[39;49;00m\u001b[33mx\u001b[39;49;00m\u001b[33m'\u001b[39;49;00m, x))\u001b[37m\u001b[39;49;00m\n",
      "    \u001b[34mreturn\u001b[39;49;00m _data.set(\u001b[33m'\u001b[39;49;00m\u001b[33m<middle() return value>\u001b[39;49;00m\u001b[33m'\u001b[39;49;00m, _data.get(\u001b[33m'\u001b[39;49;00m\u001b[33mz\u001b[39;49;00m\u001b[33m'\u001b[39;49;00m, z))\u001b[37m\u001b[39;49;00m"
     ]
    },
    {
     "name": "stderr",
     "output_type": "stream",
     "text": [
      "/var/folders/n2/xd9445p97rb3xh7m1dfx8_4h0006ts/T/ipykernel_51412/2454789564.py:22: DeprecationWarning: ast.Str is deprecated and will be removed in Python 3.14; use ast.Constant instead\n",
      "  args=[ast.Str(id), value],\n"
     ]
    }
   ],
   "source": [
    "TrackReturnTransformer().visit(middle_tree)\n",
    "dump_tree(middle_tree)"
   ]
  },
  {
   "cell_type": "code",
   "execution_count": 107,
   "metadata": {
    "execution": {
     "iopub.execute_input": "2025-10-26T17:47:20.553683Z",
     "iopub.status.busy": "2025-10-26T17:47:20.553559Z",
     "iopub.status.idle": "2025-10-26T17:47:20.555648Z",
     "shell.execute_reply": "2025-10-26T17:47:20.555398Z"
    },
    "slideshow": {
     "slide_type": "subslide"
    }
   },
   "outputs": [
    {
     "name": "stdout",
     "output_type": "stream",
     "text": [
      "middle:2: getting y\n",
      "middle:2: getting z\n",
      "middle:3: getting x\n",
      "middle:3: getting y\n",
      "middle:5: getting x\n",
      "middle:5: getting z\n",
      "middle:6: getting y\n",
      "middle:6: setting <middle() return value>\n"
     ]
    }
   ],
   "source": [
    "with DataTrackerTester(middle_tree, middle):\n",
    "    middle(2, 1, 3)"
   ]
  },
  {
   "cell_type": "markdown",
   "metadata": {
    "slideshow": {
     "slide_type": "subslide"
    }
   },
   "source": [
    "### End of Excursion"
   ]
  },
  {
   "cell_type": "markdown",
   "metadata": {
    "slideshow": {
     "slide_type": "subslide"
    }
   },
   "source": [
    "To track __control dependencies__, for every block controlled by an `if`, `while`, or `for`:\n",
    "\n",
    "1. We wrap their tests in a `_data.test()` wrapper. This allows us to assign pseudo-variables like `<test>` which hold the conditions.\n",
    "2. We wrap their controlled blocks in a `with` statement. This allows us to track the variables read right before the `with` (= the controlling variables), and to restore the current controlling variables when the block is left.\n",
    "\n",
    "A statement\n",
    "\n",
    "```python\n",
    "if cond:\n",
    "    body\n",
    "```\n",
    "\n",
    "thus becomes\n",
    "\n",
    "```python\n",
    "if _data.test(cond):\n",
    "    with _data:\n",
    "        body\n",
    "```"
   ]
  },
  {
   "cell_type": "markdown",
   "metadata": {
    "slideshow": {
     "slide_type": "subslide"
    }
   },
   "source": [
    "### Excursion: Tracking Control"
   ]
  },
  {
   "cell_type": "markdown",
   "metadata": {
    "slideshow": {
     "slide_type": "fragment"
    }
   },
   "source": [
    "To modify control statements, we traverse the tree, looking for `If` nodes:"
   ]
  },
  {
   "cell_type": "code",
   "execution_count": 108,
   "metadata": {
    "execution": {
     "iopub.execute_input": "2025-10-26T17:47:20.557162Z",
     "iopub.status.busy": "2025-10-26T17:47:20.557059Z",
     "iopub.status.idle": "2025-10-26T17:47:20.558863Z",
     "shell.execute_reply": "2025-10-26T17:47:20.558638Z"
    },
    "slideshow": {
     "slide_type": "fragment"
    }
   },
   "outputs": [],
   "source": [
    "class TrackControlTransformer(NodeTransformer):\n",
    "    def visit_If(self, node: ast.If) -> ast.If:\n",
    "        self.generic_visit(node)\n",
    "        node.test = self.make_test(node.test)\n",
    "        node.body = self.make_with(node.body)\n",
    "        node.orelse = self.make_with(node.orelse)\n",
    "        return node"
   ]
  },
  {
   "cell_type": "markdown",
   "metadata": {
    "slideshow": {
     "slide_type": "fragment"
    }
   },
   "source": [
    "The subtrees come from helper functions `make_with()` and `make_test()`. Again, all these subtrees are obtained via `ast.dump()`."
   ]
  },
  {
   "cell_type": "code",
   "execution_count": 109,
   "metadata": {
    "execution": {
     "iopub.execute_input": "2025-10-26T17:47:20.560171Z",
     "iopub.status.busy": "2025-10-26T17:47:20.560076Z",
     "iopub.status.idle": "2025-10-26T17:47:20.562136Z",
     "shell.execute_reply": "2025-10-26T17:47:20.561904Z"
    },
    "slideshow": {
     "slide_type": "subslide"
    }
   },
   "outputs": [],
   "source": [
    "class TrackControlTransformer(TrackControlTransformer):\n",
    "    def make_with(self, block: List[ast.stmt]) -> List[ast.stmt]:\n",
    "        \"\"\"Create a subtree 'with _data: `block`'\"\"\"\n",
    "        if len(block) == 0:\n",
    "            return []\n",
    "\n",
    "        block_as_text = ast.unparse(block[0])\n",
    "        if block_as_text.startswith('with ' + DATA_TRACKER):\n",
    "            return block  # Do not apply twice\n",
    "\n",
    "        new_node = With(\n",
    "            items=[\n",
    "                withitem(\n",
    "                    context_expr=Name(id=DATA_TRACKER, ctx=Load()),\n",
    "                    optional_vars=None)\n",
    "            ],\n",
    "            body=block\n",
    "        )\n",
    "        ast.copy_location(new_node, block[0])\n",
    "        return [new_node]"
   ]
  },
  {
   "cell_type": "code",
   "execution_count": 110,
   "metadata": {
    "execution": {
     "iopub.execute_input": "2025-10-26T17:47:20.563560Z",
     "iopub.status.busy": "2025-10-26T17:47:20.563456Z",
     "iopub.status.idle": "2025-10-26T17:47:20.565534Z",
     "shell.execute_reply": "2025-10-26T17:47:20.565314Z"
    },
    "slideshow": {
     "slide_type": "subslide"
    }
   },
   "outputs": [],
   "source": [
    "class TrackControlTransformer(TrackControlTransformer):\n",
    "    def make_test(self, test: ast.expr) -> ast.expr:\n",
    "        test_as_text = ast.unparse(test)\n",
    "        if test_as_text.startswith(DATA_TRACKER + '.test'):\n",
    "            return test  # Do not apply twice\n",
    "\n",
    "        new_test = Call(func=Attribute(value=Name(id=DATA_TRACKER, ctx=Load()),\n",
    "                                       attr='test',\n",
    "                                       ctx=Load()),\n",
    "                         args=[test],\n",
    "                         keywords=[])\n",
    "        ast.copy_location(new_test, test)\n",
    "        return new_test"
   ]
  },
  {
   "cell_type": "markdown",
   "metadata": {
    "slideshow": {
     "slide_type": "fragment"
    }
   },
   "source": [
    "`while` loops are handled just like `if` constructs."
   ]
  },
  {
   "cell_type": "code",
   "execution_count": 111,
   "metadata": {
    "execution": {
     "iopub.execute_input": "2025-10-26T17:47:20.566797Z",
     "iopub.status.busy": "2025-10-26T17:47:20.566706Z",
     "iopub.status.idle": "2025-10-26T17:47:20.568497Z",
     "shell.execute_reply": "2025-10-26T17:47:20.568268Z"
    },
    "slideshow": {
     "slide_type": "subslide"
    }
   },
   "outputs": [],
   "source": [
    "class TrackControlTransformer(TrackControlTransformer):\n",
    "    def visit_While(self, node: ast.While) -> ast.While:\n",
    "        self.generic_visit(node)\n",
    "        node.test = self.make_test(node.test)\n",
    "        node.body = self.make_with(node.body)\n",
    "        node.orelse = self.make_with(node.orelse)\n",
    "        return node"
   ]
  },
  {
   "cell_type": "markdown",
   "metadata": {
    "slideshow": {
     "slide_type": "fragment"
    }
   },
   "source": [
    "`for` loops gets a different treatment, as there is no condition that would control the body. Still, we ensure that setting the iterator variable is properly tracked."
   ]
  },
  {
   "cell_type": "code",
   "execution_count": 112,
   "metadata": {
    "execution": {
     "iopub.execute_input": "2025-10-26T17:47:20.569932Z",
     "iopub.status.busy": "2025-10-26T17:47:20.569837Z",
     "iopub.status.idle": "2025-10-26T17:47:20.572153Z",
     "shell.execute_reply": "2025-10-26T17:47:20.571919Z"
    },
    "slideshow": {
     "slide_type": "subslide"
    }
   },
   "outputs": [],
   "source": [
    "class TrackControlTransformer(TrackControlTransformer):\n",
    "    # regular `for` loop\n",
    "    def visit_For(self, node: Union[ast.For, ast.AsyncFor]) -> AST:\n",
    "        self.generic_visit(node)\n",
    "        id = ast.unparse(node.target).strip()\n",
    "        node.iter = make_set_data(id, node.iter)\n",
    "\n",
    "        # Uncomment if you want iterators to control their bodies\n",
    "        # node.body = self.make_with(node.body)\n",
    "        # node.orelse = self.make_with(node.orelse)\n",
    "        return node\n",
    "\n",
    "    # `for` loops in async functions\n",
    "    def visit_AsyncFor(self, node: ast.AsyncFor) -> AST:\n",
    "        return self.visit_For(node)\n",
    "\n",
    "    # `for` clause in comprehensions\n",
    "    def visit_comprehension(self, node: ast.comprehension) -> AST:\n",
    "        self.generic_visit(node)\n",
    "        id = ast.unparse(node.target).strip()\n",
    "        node.iter = make_set_data(id, node.iter)\n",
    "        return node"
   ]
  },
  {
   "cell_type": "markdown",
   "metadata": {
    "slideshow": {
     "slide_type": "subslide"
    }
   },
   "source": [
    "Here is the effect of `TrackControlTransformer`:"
   ]
  },
  {
   "cell_type": "code",
   "execution_count": 113,
   "metadata": {
    "execution": {
     "iopub.execute_input": "2025-10-26T17:47:20.573461Z",
     "iopub.status.busy": "2025-10-26T17:47:20.573371Z",
     "iopub.status.idle": "2025-10-26T17:47:20.588743Z",
     "shell.execute_reply": "2025-10-26T17:47:20.588490Z"
    },
    "slideshow": {
     "slide_type": "subslide"
    }
   },
   "outputs": [
    {
     "name": "stdout",
     "output_type": "stream",
     "text": [
      "\u001b[34mdef\u001b[39;49;00m\u001b[37m \u001b[39;49;00m\u001b[32mmiddle\u001b[39;49;00m(x, y, z):\u001b[37m\u001b[39;49;00m\n",
      "    \u001b[34mif\u001b[39;49;00m _data.test(_data.get(\u001b[33m'\u001b[39;49;00m\u001b[33my\u001b[39;49;00m\u001b[33m'\u001b[39;49;00m, y) < _data.get(\u001b[33m'\u001b[39;49;00m\u001b[33mz\u001b[39;49;00m\u001b[33m'\u001b[39;49;00m, z)):\u001b[37m\u001b[39;49;00m\n",
      "        \u001b[34mwith\u001b[39;49;00m _data:\u001b[37m\u001b[39;49;00m\n",
      "            \u001b[34mif\u001b[39;49;00m _data.test(_data.get(\u001b[33m'\u001b[39;49;00m\u001b[33mx\u001b[39;49;00m\u001b[33m'\u001b[39;49;00m, x) < _data.get(\u001b[33m'\u001b[39;49;00m\u001b[33my\u001b[39;49;00m\u001b[33m'\u001b[39;49;00m, y)):\u001b[37m\u001b[39;49;00m\n",
      "                \u001b[34mwith\u001b[39;49;00m _data:\u001b[37m\u001b[39;49;00m\n",
      "                    \u001b[34mreturn\u001b[39;49;00m _data.set(\u001b[33m'\u001b[39;49;00m\u001b[33m<middle() return value>\u001b[39;49;00m\u001b[33m'\u001b[39;49;00m, _data.get(\u001b[33m'\u001b[39;49;00m\u001b[33my\u001b[39;49;00m\u001b[33m'\u001b[39;49;00m, y))\u001b[37m\u001b[39;49;00m\n",
      "            \u001b[34melse\u001b[39;49;00m:\u001b[37m\u001b[39;49;00m\n",
      "                \u001b[34mwith\u001b[39;49;00m _data:\u001b[37m\u001b[39;49;00m\n",
      "                    \u001b[34mif\u001b[39;49;00m _data.test(_data.get(\u001b[33m'\u001b[39;49;00m\u001b[33mx\u001b[39;49;00m\u001b[33m'\u001b[39;49;00m, x) < _data.get(\u001b[33m'\u001b[39;49;00m\u001b[33mz\u001b[39;49;00m\u001b[33m'\u001b[39;49;00m, z)):\u001b[37m\u001b[39;49;00m\n",
      "                        \u001b[34mwith\u001b[39;49;00m _data:\u001b[37m\u001b[39;49;00m\n",
      "                            \u001b[34mreturn\u001b[39;49;00m _data.set(\u001b[33m'\u001b[39;49;00m\u001b[33m<middle() return value>\u001b[39;49;00m\u001b[33m'\u001b[39;49;00m, _data.get(\u001b[33m'\u001b[39;49;00m\u001b[33my\u001b[39;49;00m\u001b[33m'\u001b[39;49;00m, y))\u001b[37m\u001b[39;49;00m\n",
      "    \u001b[34melse\u001b[39;49;00m:\u001b[37m\u001b[39;49;00m\n",
      "        \u001b[34mwith\u001b[39;49;00m _data:\u001b[37m\u001b[39;49;00m\n",
      "            \u001b[34mif\u001b[39;49;00m _data.test(_data.get(\u001b[33m'\u001b[39;49;00m\u001b[33mx\u001b[39;49;00m\u001b[33m'\u001b[39;49;00m, x) > _data.get(\u001b[33m'\u001b[39;49;00m\u001b[33my\u001b[39;49;00m\u001b[33m'\u001b[39;49;00m, y)):\u001b[37m\u001b[39;49;00m\n",
      "                \u001b[34mwith\u001b[39;49;00m _data:\u001b[37m\u001b[39;49;00m\n",
      "                    \u001b[34mreturn\u001b[39;49;00m _data.set(\u001b[33m'\u001b[39;49;00m\u001b[33m<middle() return value>\u001b[39;49;00m\u001b[33m'\u001b[39;49;00m, _data.get(\u001b[33m'\u001b[39;49;00m\u001b[33my\u001b[39;49;00m\u001b[33m'\u001b[39;49;00m, y))\u001b[37m\u001b[39;49;00m\n",
      "            \u001b[34melse\u001b[39;49;00m:\u001b[37m\u001b[39;49;00m\n",
      "                \u001b[34mwith\u001b[39;49;00m _data:\u001b[37m\u001b[39;49;00m\n",
      "                    \u001b[34mif\u001b[39;49;00m _data.test(_data.get(\u001b[33m'\u001b[39;49;00m\u001b[33mx\u001b[39;49;00m\u001b[33m'\u001b[39;49;00m, x) > _data.get(\u001b[33m'\u001b[39;49;00m\u001b[33mz\u001b[39;49;00m\u001b[33m'\u001b[39;49;00m, z)):\u001b[37m\u001b[39;49;00m\n",
      "                        \u001b[34mwith\u001b[39;49;00m _data:\u001b[37m\u001b[39;49;00m\n",
      "                            \u001b[34mreturn\u001b[39;49;00m _data.set(\u001b[33m'\u001b[39;49;00m\u001b[33m<middle() return value>\u001b[39;49;00m\u001b[33m'\u001b[39;49;00m, _data.get(\u001b[33m'\u001b[39;49;00m\u001b[33mx\u001b[39;49;00m\u001b[33m'\u001b[39;49;00m, x))\u001b[37m\u001b[39;49;00m\n",
      "    \u001b[34mreturn\u001b[39;49;00m _data.set(\u001b[33m'\u001b[39;49;00m\u001b[33m<middle() return value>\u001b[39;49;00m\u001b[33m'\u001b[39;49;00m, _data.get(\u001b[33m'\u001b[39;49;00m\u001b[33mz\u001b[39;49;00m\u001b[33m'\u001b[39;49;00m, z))\u001b[37m\u001b[39;49;00m"
     ]
    }
   ],
   "source": [
    "TrackControlTransformer().visit(middle_tree)\n",
    "dump_tree(middle_tree)"
   ]
  },
  {
   "cell_type": "markdown",
   "metadata": {
    "slideshow": {
     "slide_type": "subslide"
    }
   },
   "source": [
    "We extend `DataTracker` to also log these events:"
   ]
  },
  {
   "cell_type": "code",
   "execution_count": 114,
   "metadata": {
    "execution": {
     "iopub.execute_input": "2025-10-26T17:47:20.590196Z",
     "iopub.status.busy": "2025-10-26T17:47:20.590096Z",
     "iopub.status.idle": "2025-10-26T17:47:20.591905Z",
     "shell.execute_reply": "2025-10-26T17:47:20.591703Z"
    },
    "slideshow": {
     "slide_type": "fragment"
    }
   },
   "outputs": [],
   "source": [
    "class DataTracker(DataTracker):\n",
    "    def test(self, cond: AST) -> AST:\n",
    "        \"\"\"Test condition `cond`. To be overloaded in subclasses.\"\"\"\n",
    "        if self.log:\n",
    "            caller_func, lineno = self.caller_location()\n",
    "            print(f\"{caller_func.__name__}:{lineno}: testing condition\")\n",
    "\n",
    "        return cond"
   ]
  },
  {
   "cell_type": "code",
   "execution_count": 115,
   "metadata": {
    "execution": {
     "iopub.execute_input": "2025-10-26T17:47:20.593227Z",
     "iopub.status.busy": "2025-10-26T17:47:20.593134Z",
     "iopub.status.idle": "2025-10-26T17:47:20.595457Z",
     "shell.execute_reply": "2025-10-26T17:47:20.595141Z"
    },
    "slideshow": {
     "slide_type": "subslide"
    }
   },
   "outputs": [],
   "source": [
    "class DataTracker(DataTracker):\n",
    "    def __enter__(self) -> Any:\n",
    "        \"\"\"Enter `with` block. To be overloaded in subclasses.\"\"\"\n",
    "        if self.log:\n",
    "            caller_func, lineno = self.caller_location()\n",
    "            print(f\"{caller_func.__name__}:{lineno}: entering block\")\n",
    "        return self\n",
    "\n",
    "    def __exit__(self, exc_type: Type, exc_value: BaseException, \n",
    "                 traceback: TracebackType) -> Optional[bool]:\n",
    "        \"\"\"Exit `with` block. To be overloaded in subclasses.\"\"\"\n",
    "        if self.log:\n",
    "            caller_func, lineno = self.caller_location()\n",
    "            print(f\"{caller_func.__name__}:{lineno}: exiting block\")\n",
    "        return None"
   ]
  },
  {
   "cell_type": "code",
   "execution_count": 116,
   "metadata": {
    "execution": {
     "iopub.execute_input": "2025-10-26T17:47:20.596979Z",
     "iopub.status.busy": "2025-10-26T17:47:20.596868Z",
     "iopub.status.idle": "2025-10-26T17:47:20.598872Z",
     "shell.execute_reply": "2025-10-26T17:47:20.598655Z"
    },
    "slideshow": {
     "slide_type": "subslide"
    }
   },
   "outputs": [
    {
     "name": "stdout",
     "output_type": "stream",
     "text": [
      "middle:2: getting y\n",
      "middle:2: getting z\n",
      "middle:2: testing condition\n",
      "middle:3: entering block\n",
      "middle:3: getting x\n",
      "middle:3: getting y\n",
      "middle:3: testing condition\n",
      "middle:5: entering block\n",
      "middle:5: getting x\n",
      "middle:5: getting z\n",
      "middle:5: testing condition\n",
      "middle:6: entering block\n",
      "middle:6: getting y\n",
      "middle:6: setting <middle() return value>\n",
      "middle:6: exiting block\n",
      "middle:5: exiting block\n",
      "middle:3: exiting block\n"
     ]
    }
   ],
   "source": [
    "with DataTrackerTester(middle_tree, middle):\n",
    "    middle(2, 1, 3)"
   ]
  },
  {
   "cell_type": "markdown",
   "metadata": {
    "slideshow": {
     "slide_type": "subslide"
    }
   },
   "source": [
    "### End of Excursion"
   ]
  },
  {
   "cell_type": "markdown",
   "metadata": {
    "slideshow": {
     "slide_type": "subslide"
    }
   },
   "source": [
    "We also want to be able to __track calls__ across multiple functions. To this end, we wrap each call\n",
    "\n",
    "```python\n",
    "func(arg1, arg2, ...)\n",
    "```\n",
    "\n",
    "into\n",
    "\n",
    "```python\n",
    "_data.ret(_data.call(func)(_data.arg(arg1), _data.arg(arg2), ...))\n",
    "```\n",
    "\n",
    "each of which simply pass through their given argument, but which allow tracking the beginning of calls (`call()`), the computation of arguments (`arg()`), and the return of the call (`ret()`), respectively."
   ]
  },
  {
   "cell_type": "markdown",
   "metadata": {
    "slideshow": {
     "slide_type": "subslide"
    }
   },
   "source": [
    "### Excursion: Tracking Calls and Arguments"
   ]
  },
  {
   "cell_type": "markdown",
   "metadata": {
    "slideshow": {
     "slide_type": "fragment"
    }
   },
   "source": [
    "Our `TrackCallTransformer` visits all `Call` nodes, applying the transformations as shown above."
   ]
  },
  {
   "cell_type": "code",
   "execution_count": 117,
   "metadata": {
    "execution": {
     "iopub.execute_input": "2025-10-26T17:47:20.600253Z",
     "iopub.status.busy": "2025-10-26T17:47:20.600161Z",
     "iopub.status.idle": "2025-10-26T17:47:20.603582Z",
     "shell.execute_reply": "2025-10-26T17:47:20.603337Z"
    },
    "slideshow": {
     "slide_type": "subslide"
    }
   },
   "outputs": [],
   "source": [
    "class TrackCallTransformer(NodeTransformer):\n",
    "    def make_call(self, node: AST, func: str, \n",
    "                  pos: Optional[int] = None, kw: Optional[str] = None) -> Call:\n",
    "        \"\"\"Return _data.call(`func`)(`node`)\"\"\"\n",
    "        keywords = []\n",
    "\n",
    "        # `Num()` and `Str()` are deprecated in favor of `Constant()`\n",
    "        if pos:\n",
    "            keywords.append(keyword(arg='pos', value=ast.Num(pos)))\n",
    "        if kw:\n",
    "            keywords.append(keyword(arg='kw', value=ast.Str(kw)))\n",
    "\n",
    "        return Call(func=Attribute(value=Name(id=DATA_TRACKER,\n",
    "                                              ctx=Load()),\n",
    "                                   attr=func,\n",
    "                                   ctx=Load()),\n",
    "                     args=[node],  # type: ignore\n",
    "                     keywords=keywords)\n",
    "\n",
    "    def visit_Call(self, node: Call) -> Call:\n",
    "        self.generic_visit(node)\n",
    "\n",
    "        call_as_text = ast.unparse(node)\n",
    "        if call_as_text.startswith(DATA_TRACKER + '.ret'):\n",
    "            return node  # Already applied\n",
    "\n",
    "        func_as_text = ast.unparse(node)\n",
    "        if func_as_text.startswith(DATA_TRACKER + '.'):\n",
    "            return node  # Own function\n",
    "\n",
    "        new_args = []\n",
    "        for n, arg in enumerate(node.args):\n",
    "            new_args.append(self.make_call(arg, 'arg', pos=n + 1))\n",
    "        node.args = cast(List[ast.expr], new_args)\n",
    "\n",
    "        for kw in node.keywords:\n",
    "            id = kw.arg if hasattr(kw, 'arg') else None\n",
    "            kw.value = self.make_call(kw.value, 'arg', kw=id)\n",
    "\n",
    "        node.func = self.make_call(node.func, 'call')\n",
    "        return self.make_call(node, 'ret')"
   ]
  },
  {
   "cell_type": "markdown",
   "metadata": {
    "slideshow": {
     "slide_type": "subslide"
    }
   },
   "source": [
    "Our example function `middle()` does not contain any calls, but here is a function that invokes `middle()` twice:"
   ]
  },
  {
   "cell_type": "code",
   "execution_count": 118,
   "metadata": {
    "execution": {
     "iopub.execute_input": "2025-10-26T17:47:20.604943Z",
     "iopub.status.busy": "2025-10-26T17:47:20.604858Z",
     "iopub.status.idle": "2025-10-26T17:47:20.606454Z",
     "shell.execute_reply": "2025-10-26T17:47:20.606182Z"
    },
    "slideshow": {
     "slide_type": "fragment"
    }
   },
   "outputs": [],
   "source": [
    "def test_call() -> int:\n",
    "    x = middle(1, 2, z=middle(1, 2, 3))\n",
    "    return x"
   ]
  },
  {
   "cell_type": "code",
   "execution_count": 119,
   "metadata": {
    "execution": {
     "iopub.execute_input": "2025-10-26T17:47:20.608050Z",
     "iopub.status.busy": "2025-10-26T17:47:20.607923Z",
     "iopub.status.idle": "2025-10-26T17:47:20.621313Z",
     "shell.execute_reply": "2025-10-26T17:47:20.621043Z"
    },
    "slideshow": {
     "slide_type": "fragment"
    }
   },
   "outputs": [
    {
     "name": "stdout",
     "output_type": "stream",
     "text": [
      "\u001b[34mdef\u001b[39;49;00m\u001b[37m \u001b[39;49;00m\u001b[32mtest_call\u001b[39;49;00m() -> \u001b[36mint\u001b[39;49;00m:\u001b[37m\u001b[39;49;00m\n",
      "    x = middle(\u001b[34m1\u001b[39;49;00m, \u001b[34m2\u001b[39;49;00m, z=middle(\u001b[34m1\u001b[39;49;00m, \u001b[34m2\u001b[39;49;00m, \u001b[34m3\u001b[39;49;00m))\u001b[37m\u001b[39;49;00m\n",
      "    \u001b[34mreturn\u001b[39;49;00m x\u001b[37m\u001b[39;49;00m"
     ]
    }
   ],
   "source": [
    "call_tree = ast.parse(inspect.getsource(test_call))\n",
    "dump_tree(call_tree)"
   ]
  },
  {
   "cell_type": "markdown",
   "metadata": {
    "slideshow": {
     "slide_type": "fragment"
    }
   },
   "source": [
    "If we invoke `TrackCallTransformer` on this testing function, we get the following transformed code:"
   ]
  },
  {
   "cell_type": "code",
   "execution_count": 120,
   "metadata": {
    "execution": {
     "iopub.execute_input": "2025-10-26T17:47:20.623021Z",
     "iopub.status.busy": "2025-10-26T17:47:20.622893Z",
     "iopub.status.idle": "2025-10-26T17:47:20.624957Z",
     "shell.execute_reply": "2025-10-26T17:47:20.624724Z"
    },
    "slideshow": {
     "slide_type": "subslide"
    }
   },
   "outputs": [
    {
     "name": "stderr",
     "output_type": "stream",
     "text": [
      "/var/folders/n2/xd9445p97rb3xh7m1dfx8_4h0006ts/T/ipykernel_51412/2498757139.py:9: DeprecationWarning: ast.Num is deprecated and will be removed in Python 3.14; use ast.Constant instead\n",
      "  keywords.append(keyword(arg='pos', value=ast.Num(pos)))\n",
      "/var/folders/n2/xd9445p97rb3xh7m1dfx8_4h0006ts/T/ipykernel_51412/2498757139.py:11: DeprecationWarning: ast.Str is deprecated and will be removed in Python 3.14; use ast.Constant instead\n",
      "  keywords.append(keyword(arg='kw', value=ast.Str(kw)))\n"
     ]
    }
   ],
   "source": [
    "TrackCallTransformer().visit(call_tree);"
   ]
  },
  {
   "cell_type": "code",
   "execution_count": 121,
   "metadata": {
    "execution": {
     "iopub.execute_input": "2025-10-26T17:47:20.626478Z",
     "iopub.status.busy": "2025-10-26T17:47:20.626348Z",
     "iopub.status.idle": "2025-10-26T17:47:20.640931Z",
     "shell.execute_reply": "2025-10-26T17:47:20.640681Z"
    },
    "slideshow": {
     "slide_type": "fragment"
    }
   },
   "outputs": [
    {
     "name": "stdout",
     "output_type": "stream",
     "text": [
      "\u001b[34mdef\u001b[39;49;00m\u001b[37m \u001b[39;49;00m\u001b[32mtest_call\u001b[39;49;00m() -> \u001b[36mint\u001b[39;49;00m:\u001b[37m\u001b[39;49;00m\n",
      "    x = _data.ret(_data.call(middle)(_data.arg(\u001b[34m1\u001b[39;49;00m, pos=\u001b[34m1\u001b[39;49;00m), _data.arg(\u001b[34m2\u001b[39;49;00m, pos=\u001b[34m2\u001b[39;49;00m), z=_data.arg(_data.ret(_data.call(middle)(_data.arg(\u001b[34m1\u001b[39;49;00m, pos=\u001b[34m1\u001b[39;49;00m), _data.arg(\u001b[34m2\u001b[39;49;00m, pos=\u001b[34m2\u001b[39;49;00m), _data.arg(\u001b[34m3\u001b[39;49;00m, pos=\u001b[34m3\u001b[39;49;00m))), kw=\u001b[33m'\u001b[39;49;00m\u001b[33mz\u001b[39;49;00m\u001b[33m'\u001b[39;49;00m)))\u001b[37m\u001b[39;49;00m\n",
      "    \u001b[34mreturn\u001b[39;49;00m x\u001b[37m\u001b[39;49;00m"
     ]
    }
   ],
   "source": [
    "dump_tree(call_tree)"
   ]
  },
  {
   "cell_type": "code",
   "execution_count": 122,
   "metadata": {
    "execution": {
     "iopub.execute_input": "2025-10-26T17:47:20.642428Z",
     "iopub.status.busy": "2025-10-26T17:47:20.642320Z",
     "iopub.status.idle": "2025-10-26T17:47:20.644002Z",
     "shell.execute_reply": "2025-10-26T17:47:20.643764Z"
    },
    "slideshow": {
     "slide_type": "fragment"
    }
   },
   "outputs": [],
   "source": [
    "def f() -> bool:\n",
    "    return math.isclose(1, 1.0)"
   ]
  },
  {
   "cell_type": "code",
   "execution_count": 123,
   "metadata": {
    "execution": {
     "iopub.execute_input": "2025-10-26T17:47:20.645251Z",
     "iopub.status.busy": "2025-10-26T17:47:20.645169Z",
     "iopub.status.idle": "2025-10-26T17:47:20.657955Z",
     "shell.execute_reply": "2025-10-26T17:47:20.657693Z"
    },
    "slideshow": {
     "slide_type": "subslide"
    }
   },
   "outputs": [
    {
     "name": "stdout",
     "output_type": "stream",
     "text": [
      "\u001b[34mdef\u001b[39;49;00m\u001b[37m \u001b[39;49;00m\u001b[32mf\u001b[39;49;00m() -> \u001b[36mbool\u001b[39;49;00m:\u001b[37m\u001b[39;49;00m\n",
      "    \u001b[34mreturn\u001b[39;49;00m math.isclose(\u001b[34m1\u001b[39;49;00m, \u001b[34m1.0\u001b[39;49;00m)\u001b[37m\u001b[39;49;00m"
     ]
    }
   ],
   "source": [
    "f_tree = ast.parse(inspect.getsource(f))\n",
    "dump_tree(f_tree)"
   ]
  },
  {
   "cell_type": "code",
   "execution_count": 124,
   "metadata": {
    "execution": {
     "iopub.execute_input": "2025-10-26T17:47:20.659326Z",
     "iopub.status.busy": "2025-10-26T17:47:20.659238Z",
     "iopub.status.idle": "2025-10-26T17:47:20.661360Z",
     "shell.execute_reply": "2025-10-26T17:47:20.661101Z"
    },
    "slideshow": {
     "slide_type": "fragment"
    }
   },
   "outputs": [
    {
     "name": "stderr",
     "output_type": "stream",
     "text": [
      "/var/folders/n2/xd9445p97rb3xh7m1dfx8_4h0006ts/T/ipykernel_51412/2498757139.py:9: DeprecationWarning: ast.Num is deprecated and will be removed in Python 3.14; use ast.Constant instead\n",
      "  keywords.append(keyword(arg='pos', value=ast.Num(pos)))\n"
     ]
    }
   ],
   "source": [
    "TrackCallTransformer().visit(f_tree);"
   ]
  },
  {
   "cell_type": "code",
   "execution_count": 125,
   "metadata": {
    "execution": {
     "iopub.execute_input": "2025-10-26T17:47:20.663143Z",
     "iopub.status.busy": "2025-10-26T17:47:20.662982Z",
     "iopub.status.idle": "2025-10-26T17:47:20.675875Z",
     "shell.execute_reply": "2025-10-26T17:47:20.675518Z"
    },
    "slideshow": {
     "slide_type": "fragment"
    }
   },
   "outputs": [
    {
     "name": "stdout",
     "output_type": "stream",
     "text": [
      "\u001b[34mdef\u001b[39;49;00m\u001b[37m \u001b[39;49;00m\u001b[32mf\u001b[39;49;00m() -> \u001b[36mbool\u001b[39;49;00m:\u001b[37m\u001b[39;49;00m\n",
      "    \u001b[34mreturn\u001b[39;49;00m _data.ret(_data.call(math.isclose)(_data.arg(\u001b[34m1\u001b[39;49;00m, pos=\u001b[34m1\u001b[39;49;00m), _data.arg(\u001b[34m1.0\u001b[39;49;00m, pos=\u001b[34m2\u001b[39;49;00m)))\u001b[37m\u001b[39;49;00m"
     ]
    }
   ],
   "source": [
    "dump_tree(f_tree)"
   ]
  },
  {
   "cell_type": "markdown",
   "metadata": {
    "slideshow": {
     "slide_type": "fragment"
    }
   },
   "source": [
    "As before, our default `arg()`, `ret()`, and `call()` methods simply log the event and pass through the given value."
   ]
  },
  {
   "cell_type": "code",
   "execution_count": 126,
   "metadata": {
    "execution": {
     "iopub.execute_input": "2025-10-26T17:47:20.677865Z",
     "iopub.status.busy": "2025-10-26T17:47:20.677596Z",
     "iopub.status.idle": "2025-10-26T17:47:20.680058Z",
     "shell.execute_reply": "2025-10-26T17:47:20.679799Z"
    },
    "slideshow": {
     "slide_type": "subslide"
    }
   },
   "outputs": [],
   "source": [
    "class DataTracker(DataTracker):\n",
    "    def arg(self, value: Any, pos: Optional[int] = None, kw: Optional[str] = None) -> Any:\n",
    "        \"\"\"\n",
    "        Track `value` being passed as argument.\n",
    "        `pos` (if given) is the argument position (starting with 1).\n",
    "        `kw` (if given) is the argument keyword.\n",
    "        \"\"\"\n",
    "\n",
    "        if self.log:\n",
    "            caller_func, lineno = self.caller_location()\n",
    "            info = \"\"\n",
    "            if pos:\n",
    "                info += f\" #{pos}\"\n",
    "            if kw:\n",
    "                info += f\" {repr(kw)}\"\n",
    "\n",
    "            print(f\"{caller_func.__name__}:{lineno}: pushing arg{info}\")\n",
    "\n",
    "        return value"
   ]
  },
  {
   "cell_type": "code",
   "execution_count": 127,
   "metadata": {
    "execution": {
     "iopub.execute_input": "2025-10-26T17:47:20.681459Z",
     "iopub.status.busy": "2025-10-26T17:47:20.681344Z",
     "iopub.status.idle": "2025-10-26T17:47:20.683338Z",
     "shell.execute_reply": "2025-10-26T17:47:20.683087Z"
    },
    "slideshow": {
     "slide_type": "subslide"
    }
   },
   "outputs": [],
   "source": [
    "class DataTracker(DataTracker):\n",
    "    def ret(self, value: Any) -> Any:\n",
    "        \"\"\"Track `value` being used as return value.\"\"\"\n",
    "        if self.log:\n",
    "            caller_func, lineno = self.caller_location()\n",
    "            print(f\"{caller_func.__name__}:{lineno}: returned from call\")\n",
    "\n",
    "        return value"
   ]
  },
  {
   "cell_type": "code",
   "execution_count": 128,
   "metadata": {
    "execution": {
     "iopub.execute_input": "2025-10-26T17:47:20.684705Z",
     "iopub.status.busy": "2025-10-26T17:47:20.684594Z",
     "iopub.status.idle": "2025-10-26T17:47:20.686721Z",
     "shell.execute_reply": "2025-10-26T17:47:20.686369Z"
    },
    "slideshow": {
     "slide_type": "subslide"
    }
   },
   "outputs": [],
   "source": [
    "class DataTracker(DataTracker):\n",
    "    def instrument_call(self, func: Callable) -> Callable:\n",
    "        \"\"\"Instrument a call to `func`. To be implemented in subclasses.\"\"\"\n",
    "        return func\n",
    "\n",
    "    def call(self, func: Callable) -> Callable:\n",
    "        \"\"\"Track a call to `func`.\"\"\"\n",
    "        if self.log:\n",
    "            caller_func, lineno = self.caller_location()\n",
    "            print(f\"{caller_func.__name__}:{lineno}: calling {func}\")\n",
    "\n",
    "        return self.instrument_call(func)"
   ]
  },
  {
   "cell_type": "code",
   "execution_count": 129,
   "metadata": {
    "execution": {
     "iopub.execute_input": "2025-10-26T17:47:20.688116Z",
     "iopub.status.busy": "2025-10-26T17:47:20.688004Z",
     "iopub.status.idle": "2025-10-26T17:47:20.701435Z",
     "shell.execute_reply": "2025-10-26T17:47:20.701117Z"
    },
    "slideshow": {
     "slide_type": "subslide"
    }
   },
   "outputs": [
    {
     "name": "stdout",
     "output_type": "stream",
     "text": [
      "\u001b[34mdef\u001b[39;49;00m\u001b[37m \u001b[39;49;00m\u001b[32mtest_call\u001b[39;49;00m() -> \u001b[36mint\u001b[39;49;00m:\u001b[37m\u001b[39;49;00m\n",
      "    x = _data.ret(_data.call(middle)(_data.arg(\u001b[34m1\u001b[39;49;00m, pos=\u001b[34m1\u001b[39;49;00m), _data.arg(\u001b[34m2\u001b[39;49;00m, pos=\u001b[34m2\u001b[39;49;00m), z=_data.arg(_data.ret(_data.call(middle)(_data.arg(\u001b[34m1\u001b[39;49;00m, pos=\u001b[34m1\u001b[39;49;00m), _data.arg(\u001b[34m2\u001b[39;49;00m, pos=\u001b[34m2\u001b[39;49;00m), _data.arg(\u001b[34m3\u001b[39;49;00m, pos=\u001b[34m3\u001b[39;49;00m))), kw=\u001b[33m'\u001b[39;49;00m\u001b[33mz\u001b[39;49;00m\u001b[33m'\u001b[39;49;00m)))\u001b[37m\u001b[39;49;00m\n",
      "    \u001b[34mreturn\u001b[39;49;00m x\u001b[37m\u001b[39;49;00m"
     ]
    }
   ],
   "source": [
    "dump_tree(call_tree)"
   ]
  },
  {
   "cell_type": "code",
   "execution_count": 130,
   "metadata": {
    "execution": {
     "iopub.execute_input": "2025-10-26T17:47:20.703309Z",
     "iopub.status.busy": "2025-10-26T17:47:20.703178Z",
     "iopub.status.idle": "2025-10-26T17:47:20.705343Z",
     "shell.execute_reply": "2025-10-26T17:47:20.705086Z"
    },
    "slideshow": {
     "slide_type": "subslide"
    }
   },
   "outputs": [
    {
     "name": "stdout",
     "output_type": "stream",
     "text": [
      "test_call:2: calling <function middle at 0x10d554b80>\n",
      "test_call:2: pushing arg #1\n",
      "test_call:2: pushing arg #2\n",
      "test_call:2: calling <function middle at 0x10d554b80>\n",
      "test_call:2: pushing arg #1\n",
      "test_call:2: pushing arg #2\n",
      "test_call:2: pushing arg #3\n",
      "test_call:2: returned from call\n",
      "test_call:2: pushing arg 'z'\n",
      "test_call:2: returned from call\n"
     ]
    }
   ],
   "source": [
    "with DataTrackerTester(call_tree, test_call):\n",
    "    test_call()"
   ]
  },
  {
   "cell_type": "code",
   "execution_count": 131,
   "metadata": {
    "execution": {
     "iopub.execute_input": "2025-10-26T17:47:20.707034Z",
     "iopub.status.busy": "2025-10-26T17:47:20.706926Z",
     "iopub.status.idle": "2025-10-26T17:47:20.708927Z",
     "shell.execute_reply": "2025-10-26T17:47:20.708651Z"
    },
    "slideshow": {
     "slide_type": "fragment"
    }
   },
   "outputs": [
    {
     "data": {
      "text/plain": [
       "2"
      ]
     },
     "execution_count": 131,
     "metadata": {},
     "output_type": "execute_result"
    }
   ],
   "source": [
    "test_call()"
   ]
  },
  {
   "cell_type": "markdown",
   "metadata": {
    "slideshow": {
     "slide_type": "subslide"
    }
   },
   "source": [
    "### End of Excursion"
   ]
  },
  {
   "cell_type": "markdown",
   "metadata": {
    "slideshow": {
     "slide_type": "fragment"
    }
   },
   "source": [
    "On the receiving end, for each function argument `x`, we insert a call `_data.param('x', x, [position info])` to initialize `x`. This is useful for __tracking parameters across function calls.__"
   ]
  },
  {
   "cell_type": "markdown",
   "metadata": {
    "slideshow": {
     "slide_type": "subslide"
    }
   },
   "source": [
    "### Excursion: Tracking Parameters"
   ]
  },
  {
   "cell_type": "markdown",
   "metadata": {
    "slideshow": {
     "slide_type": "fragment"
    }
   },
   "source": [
    "Again, we use `ast.dump()` to determine the correct syntax tree:"
   ]
  },
  {
   "cell_type": "code",
   "execution_count": 132,
   "metadata": {
    "execution": {
     "iopub.execute_input": "2025-10-26T17:47:20.710508Z",
     "iopub.status.busy": "2025-10-26T17:47:20.710410Z",
     "iopub.status.idle": "2025-10-26T17:47:20.712121Z",
     "shell.execute_reply": "2025-10-26T17:47:20.711884Z"
    },
    "slideshow": {
     "slide_type": "fragment"
    }
   },
   "outputs": [
    {
     "name": "stdout",
     "output_type": "stream",
     "text": [
      "Module(body=[Expr(value=Call(func=Attribute(value=Name(id='_data', ctx=Load()), attr='param', ctx=Load()), args=[Constant(value='x'), Name(id='x', ctx=Load())], keywords=[keyword(arg='pos', value=Constant(value=1)), keyword(arg='last', value=Constant(value=True))]))])\n"
     ]
    }
   ],
   "source": [
    "print(ast.dump(ast.parse(\"_data.param('x', x, pos=1, last=True)\")))"
   ]
  },
  {
   "cell_type": "code",
   "execution_count": 133,
   "metadata": {
    "execution": {
     "iopub.execute_input": "2025-10-26T17:47:20.713427Z",
     "iopub.status.busy": "2025-10-26T17:47:20.713342Z",
     "iopub.status.idle": "2025-10-26T17:47:20.716685Z",
     "shell.execute_reply": "2025-10-26T17:47:20.716345Z"
    },
    "slideshow": {
     "slide_type": "subslide"
    }
   },
   "outputs": [],
   "source": [
    "class TrackParamsTransformer(NodeTransformer):\n",
    "    def visit_FunctionDef(self, node: ast.FunctionDef) -> ast.FunctionDef:\n",
    "        self.generic_visit(node)\n",
    "\n",
    "        named_args = []\n",
    "        for child in ast.iter_child_nodes(node.args):\n",
    "            if isinstance(child, ast.arg):\n",
    "                named_args.append(child)\n",
    "\n",
    "        create_stmts = []\n",
    "        for n, child in enumerate(named_args):\n",
    "            keywords=[keyword(arg='pos', value=ast.Num(n + 1))]\n",
    "            if child is node.args.vararg:\n",
    "                keywords.append(keyword(arg='vararg', value=ast.Str('*')))\n",
    "            if child is node.args.kwarg:\n",
    "                keywords.append(keyword(arg='vararg', value=ast.Str('**')))\n",
    "            if n == len(named_args) - 1:\n",
    "                keywords.append(keyword(arg='last',\n",
    "                                        value=ast.NameConstant(value=True)))\n",
    "\n",
    "            create_stmt = Expr(\n",
    "                value=Call(\n",
    "                    func=Attribute(value=Name(id=DATA_TRACKER, ctx=Load()),\n",
    "                                   attr='param', ctx=Load()),\n",
    "                    args=[ast.Str(child.arg),\n",
    "                          Name(id=child.arg, ctx=Load())\n",
    "                         ],\n",
    "                    keywords=keywords\n",
    "                )\n",
    "            )\n",
    "            ast.copy_location(create_stmt, node)\n",
    "            create_stmts.append(create_stmt)\n",
    "\n",
    "        node.body = cast(List[ast.stmt], create_stmts) + node.body\n",
    "        return node"
   ]
  },
  {
   "cell_type": "markdown",
   "metadata": {
    "slideshow": {
     "slide_type": "subslide"
    }
   },
   "source": [
    "This is the effect of `TrackParamsTransformer()`. You see how the first three parameters are all initialized."
   ]
  },
  {
   "cell_type": "code",
   "execution_count": 134,
   "metadata": {
    "execution": {
     "iopub.execute_input": "2025-10-26T17:47:20.718842Z",
     "iopub.status.busy": "2025-10-26T17:47:20.718712Z",
     "iopub.status.idle": "2025-10-26T17:47:20.735471Z",
     "shell.execute_reply": "2025-10-26T17:47:20.735169Z"
    },
    "slideshow": {
     "slide_type": "subslide"
    }
   },
   "outputs": [
    {
     "name": "stdout",
     "output_type": "stream",
     "text": [
      "\u001b[34mdef\u001b[39;49;00m\u001b[37m \u001b[39;49;00m\u001b[32mmiddle\u001b[39;49;00m(x, y, z):\u001b[37m\u001b[39;49;00m\n",
      "    _data.param(\u001b[33m'\u001b[39;49;00m\u001b[33mx\u001b[39;49;00m\u001b[33m'\u001b[39;49;00m, x, pos=\u001b[34m1\u001b[39;49;00m)\u001b[37m\u001b[39;49;00m\n",
      "    _data.param(\u001b[33m'\u001b[39;49;00m\u001b[33my\u001b[39;49;00m\u001b[33m'\u001b[39;49;00m, y, pos=\u001b[34m2\u001b[39;49;00m)\u001b[37m\u001b[39;49;00m\n",
      "    _data.param(\u001b[33m'\u001b[39;49;00m\u001b[33mz\u001b[39;49;00m\u001b[33m'\u001b[39;49;00m, z, pos=\u001b[34m3\u001b[39;49;00m, last=\u001b[34mTrue\u001b[39;49;00m)\u001b[37m\u001b[39;49;00m\n",
      "    \u001b[34mif\u001b[39;49;00m _data.test(_data.get(\u001b[33m'\u001b[39;49;00m\u001b[33my\u001b[39;49;00m\u001b[33m'\u001b[39;49;00m, y) < _data.get(\u001b[33m'\u001b[39;49;00m\u001b[33mz\u001b[39;49;00m\u001b[33m'\u001b[39;49;00m, z)):\u001b[37m\u001b[39;49;00m\n",
      "        \u001b[34mwith\u001b[39;49;00m _data:\u001b[37m\u001b[39;49;00m\n",
      "            \u001b[34mif\u001b[39;49;00m _data.test(_data.get(\u001b[33m'\u001b[39;49;00m\u001b[33mx\u001b[39;49;00m\u001b[33m'\u001b[39;49;00m, x) < _data.get(\u001b[33m'\u001b[39;49;00m\u001b[33my\u001b[39;49;00m\u001b[33m'\u001b[39;49;00m, y)):\u001b[37m\u001b[39;49;00m\n",
      "                \u001b[34mwith\u001b[39;49;00m _data:\u001b[37m\u001b[39;49;00m\n",
      "                    \u001b[34mreturn\u001b[39;49;00m _data.set(\u001b[33m'\u001b[39;49;00m\u001b[33m<middle() return value>\u001b[39;49;00m\u001b[33m'\u001b[39;49;00m, _data.get(\u001b[33m'\u001b[39;49;00m\u001b[33my\u001b[39;49;00m\u001b[33m'\u001b[39;49;00m, y))\u001b[37m\u001b[39;49;00m\n",
      "            \u001b[34melse\u001b[39;49;00m:\u001b[37m\u001b[39;49;00m\n",
      "                \u001b[34mwith\u001b[39;49;00m _data:\u001b[37m\u001b[39;49;00m\n",
      "                    \u001b[34mif\u001b[39;49;00m _data.test(_data.get(\u001b[33m'\u001b[39;49;00m\u001b[33mx\u001b[39;49;00m\u001b[33m'\u001b[39;49;00m, x) < _data.get(\u001b[33m'\u001b[39;49;00m\u001b[33mz\u001b[39;49;00m\u001b[33m'\u001b[39;49;00m, z)):\u001b[37m\u001b[39;49;00m\n",
      "                        \u001b[34mwith\u001b[39;49;00m _data:\u001b[37m\u001b[39;49;00m\n",
      "                            \u001b[34mreturn\u001b[39;49;00m _data.set(\u001b[33m'\u001b[39;49;00m\u001b[33m<middle() return value>\u001b[39;49;00m\u001b[33m'\u001b[39;49;00m, _data.get(\u001b[33m'\u001b[39;49;00m\u001b[33my\u001b[39;49;00m\u001b[33m'\u001b[39;49;00m, y))\u001b[37m\u001b[39;49;00m\n",
      "    \u001b[34melse\u001b[39;49;00m:\u001b[37m\u001b[39;49;00m\n",
      "        \u001b[34mwith\u001b[39;49;00m _data:\u001b[37m\u001b[39;49;00m\n",
      "            \u001b[34mif\u001b[39;49;00m _data.test(_data.get(\u001b[33m'\u001b[39;49;00m\u001b[33mx\u001b[39;49;00m\u001b[33m'\u001b[39;49;00m, x) > _data.get(\u001b[33m'\u001b[39;49;00m\u001b[33my\u001b[39;49;00m\u001b[33m'\u001b[39;49;00m, y)):\u001b[37m\u001b[39;49;00m\n",
      "                \u001b[34mwith\u001b[39;49;00m _data:\u001b[37m\u001b[39;49;00m\n",
      "                    \u001b[34mreturn\u001b[39;49;00m _data.set(\u001b[33m'\u001b[39;49;00m\u001b[33m<middle() return value>\u001b[39;49;00m\u001b[33m'\u001b[39;49;00m, _data.get(\u001b[33m'\u001b[39;49;00m\u001b[33my\u001b[39;49;00m\u001b[33m'\u001b[39;49;00m, y))\u001b[37m\u001b[39;49;00m\n",
      "            \u001b[34melse\u001b[39;49;00m:\u001b[37m\u001b[39;49;00m\n",
      "                \u001b[34mwith\u001b[39;49;00m _data:\u001b[37m\u001b[39;49;00m\n",
      "                    \u001b[34mif\u001b[39;49;00m _data.test(_data.get(\u001b[33m'\u001b[39;49;00m\u001b[33mx\u001b[39;49;00m\u001b[33m'\u001b[39;49;00m, x) > _data.get(\u001b[33m'\u001b[39;49;00m\u001b[33mz\u001b[39;49;00m\u001b[33m'\u001b[39;49;00m, z)):\u001b[37m\u001b[39;49;00m\n",
      "                        \u001b[34mwith\u001b[39;49;00m _data:\u001b[37m\u001b[39;49;00m\n",
      "                            \u001b[34mreturn\u001b[39;49;00m _data.set(\u001b[33m'\u001b[39;49;00m\u001b[33m<middle() return value>\u001b[39;49;00m\u001b[33m'\u001b[39;49;00m, _data.get(\u001b[33m'\u001b[39;49;00m\u001b[33mx\u001b[39;49;00m\u001b[33m'\u001b[39;49;00m, x))\u001b[37m\u001b[39;49;00m\n",
      "    \u001b[34mreturn\u001b[39;49;00m _data.set(\u001b[33m'\u001b[39;49;00m\u001b[33m<middle() return value>\u001b[39;49;00m\u001b[33m'\u001b[39;49;00m, _data.get(\u001b[33m'\u001b[39;49;00m\u001b[33mz\u001b[39;49;00m\u001b[33m'\u001b[39;49;00m, z))\u001b[37m\u001b[39;49;00m"
     ]
    },
    {
     "name": "stderr",
     "output_type": "stream",
     "text": [
      "/var/folders/n2/xd9445p97rb3xh7m1dfx8_4h0006ts/T/ipykernel_51412/882995308.py:12: DeprecationWarning: ast.Num is deprecated and will be removed in Python 3.14; use ast.Constant instead\n",
      "  keywords=[keyword(arg='pos', value=ast.Num(n + 1))]\n",
      "/var/folders/n2/xd9445p97rb3xh7m1dfx8_4h0006ts/T/ipykernel_51412/882995308.py:25: DeprecationWarning: ast.Str is deprecated and will be removed in Python 3.14; use ast.Constant instead\n",
      "  args=[ast.Str(child.arg),\n",
      "/var/folders/n2/xd9445p97rb3xh7m1dfx8_4h0006ts/T/ipykernel_51412/882995308.py:19: DeprecationWarning: ast.NameConstant is deprecated and will be removed in Python 3.14; use ast.Constant instead\n",
      "  value=ast.NameConstant(value=True)))\n"
     ]
    }
   ],
   "source": [
    "TrackParamsTransformer().visit(middle_tree)\n",
    "dump_tree(middle_tree)"
   ]
  },
  {
   "cell_type": "markdown",
   "metadata": {
    "slideshow": {
     "slide_type": "subslide"
    }
   },
   "source": [
    "By default, the `DataTracker` `param()` method simply calls `set()` to set variables."
   ]
  },
  {
   "cell_type": "code",
   "execution_count": 135,
   "metadata": {
    "execution": {
     "iopub.execute_input": "2025-10-26T17:47:20.736908Z",
     "iopub.status.busy": "2025-10-26T17:47:20.736800Z",
     "iopub.status.idle": "2025-10-26T17:47:20.739181Z",
     "shell.execute_reply": "2025-10-26T17:47:20.738965Z"
    },
    "slideshow": {
     "slide_type": "subslide"
    }
   },
   "outputs": [],
   "source": [
    "class DataTracker(DataTracker):\n",
    "    def param(self, name: str, value: Any, \n",
    "              pos: Optional[int] = None, vararg: str = '', last: bool = False) -> Any:\n",
    "        \"\"\"\n",
    "        At the beginning of a function, track parameter `name` being set to `value`.\n",
    "        `pos` is the position of the argument (starting with 1).\n",
    "        `vararg` is \"*\" if `name` is a vararg parameter (as in *args),\n",
    "        and \"**\" is `name` is a kwargs parameter (as in *kwargs).\n",
    "        `last` is True if `name` is the last parameter.\n",
    "        \"\"\"\n",
    "        if self.log:\n",
    "            caller_func, lineno = self.caller_location()\n",
    "            info = \"\"\n",
    "            if pos is not None:\n",
    "                info += f\" #{pos}\"\n",
    "\n",
    "            print(f\"{caller_func.__name__}:{lineno}: initializing {vararg}{name}{info}\")\n",
    "\n",
    "        return self.set(name, value)"
   ]
  },
  {
   "cell_type": "code",
   "execution_count": 136,
   "metadata": {
    "execution": {
     "iopub.execute_input": "2025-10-26T17:47:20.740419Z",
     "iopub.status.busy": "2025-10-26T17:47:20.740317Z",
     "iopub.status.idle": "2025-10-26T17:47:20.742484Z",
     "shell.execute_reply": "2025-10-26T17:47:20.742204Z"
    },
    "slideshow": {
     "slide_type": "subslide"
    }
   },
   "outputs": [
    {
     "name": "stdout",
     "output_type": "stream",
     "text": [
      "middle:12: initializing x #1\n",
      "middle:12: setting x\n",
      "middle:12: initializing y #2\n",
      "middle:12: setting y\n",
      "middle:12: initializing z #3\n",
      "middle:12: setting z\n",
      "middle:2: getting y\n",
      "middle:2: getting z\n",
      "middle:2: testing condition\n",
      "middle:3: entering block\n",
      "middle:3: getting x\n",
      "middle:3: getting y\n",
      "middle:3: testing condition\n",
      "middle:5: entering block\n",
      "middle:5: getting x\n",
      "middle:5: getting z\n",
      "middle:5: testing condition\n",
      "middle:6: entering block\n",
      "middle:6: getting y\n",
      "middle:6: setting <middle() return value>\n",
      "middle:6: exiting block\n",
      "middle:5: exiting block\n",
      "middle:3: exiting block\n"
     ]
    }
   ],
   "source": [
    "with DataTrackerTester(middle_tree, middle):\n",
    "    middle(2, 1, 3)"
   ]
  },
  {
   "cell_type": "code",
   "execution_count": 137,
   "metadata": {
    "execution": {
     "iopub.execute_input": "2025-10-26T17:47:20.743868Z",
     "iopub.status.busy": "2025-10-26T17:47:20.743755Z",
     "iopub.status.idle": "2025-10-26T17:47:20.745541Z",
     "shell.execute_reply": "2025-10-26T17:47:20.745152Z"
    },
    "slideshow": {
     "slide_type": "subslide"
    }
   },
   "outputs": [],
   "source": [
    "def args_test(x, *args, **kwargs):  # type: ignore\n",
    "    print(x, *args, **kwargs)"
   ]
  },
  {
   "cell_type": "code",
   "execution_count": 138,
   "metadata": {
    "execution": {
     "iopub.execute_input": "2025-10-26T17:47:20.747332Z",
     "iopub.status.busy": "2025-10-26T17:47:20.747214Z",
     "iopub.status.idle": "2025-10-26T17:47:20.762208Z",
     "shell.execute_reply": "2025-10-26T17:47:20.761935Z"
    },
    "slideshow": {
     "slide_type": "subslide"
    }
   },
   "outputs": [
    {
     "name": "stdout",
     "output_type": "stream",
     "text": [
      "\u001b[34mdef\u001b[39;49;00m\u001b[37m \u001b[39;49;00m\u001b[32margs_test\u001b[39;49;00m(x, *args, **kwargs):\u001b[37m\u001b[39;49;00m\n",
      "    _data.param(\u001b[33m'\u001b[39;49;00m\u001b[33mx\u001b[39;49;00m\u001b[33m'\u001b[39;49;00m, x, pos=\u001b[34m1\u001b[39;49;00m)\u001b[37m\u001b[39;49;00m\n",
      "    _data.param(\u001b[33m'\u001b[39;49;00m\u001b[33margs\u001b[39;49;00m\u001b[33m'\u001b[39;49;00m, args, pos=\u001b[34m2\u001b[39;49;00m, vararg=\u001b[33m'\u001b[39;49;00m\u001b[33m*\u001b[39;49;00m\u001b[33m'\u001b[39;49;00m)\u001b[37m\u001b[39;49;00m\n",
      "    _data.param(\u001b[33m'\u001b[39;49;00m\u001b[33mkwargs\u001b[39;49;00m\u001b[33m'\u001b[39;49;00m, kwargs, pos=\u001b[34m3\u001b[39;49;00m, vararg=\u001b[33m'\u001b[39;49;00m\u001b[33m**\u001b[39;49;00m\u001b[33m'\u001b[39;49;00m, last=\u001b[34mTrue\u001b[39;49;00m)\u001b[37m\u001b[39;49;00m\n",
      "    \u001b[36mprint\u001b[39;49;00m(x, *args, **kwargs)\u001b[37m\u001b[39;49;00m"
     ]
    },
    {
     "name": "stderr",
     "output_type": "stream",
     "text": [
      "/var/folders/n2/xd9445p97rb3xh7m1dfx8_4h0006ts/T/ipykernel_51412/882995308.py:12: DeprecationWarning: ast.Num is deprecated and will be removed in Python 3.14; use ast.Constant instead\n",
      "  keywords=[keyword(arg='pos', value=ast.Num(n + 1))]\n",
      "/var/folders/n2/xd9445p97rb3xh7m1dfx8_4h0006ts/T/ipykernel_51412/882995308.py:25: DeprecationWarning: ast.Str is deprecated and will be removed in Python 3.14; use ast.Constant instead\n",
      "  args=[ast.Str(child.arg),\n",
      "/var/folders/n2/xd9445p97rb3xh7m1dfx8_4h0006ts/T/ipykernel_51412/882995308.py:14: DeprecationWarning: ast.Str is deprecated and will be removed in Python 3.14; use ast.Constant instead\n",
      "  keywords.append(keyword(arg='vararg', value=ast.Str('*')))\n",
      "/var/folders/n2/xd9445p97rb3xh7m1dfx8_4h0006ts/T/ipykernel_51412/882995308.py:16: DeprecationWarning: ast.Str is deprecated and will be removed in Python 3.14; use ast.Constant instead\n",
      "  keywords.append(keyword(arg='vararg', value=ast.Str('**')))\n",
      "/var/folders/n2/xd9445p97rb3xh7m1dfx8_4h0006ts/T/ipykernel_51412/882995308.py:19: DeprecationWarning: ast.NameConstant is deprecated and will be removed in Python 3.14; use ast.Constant instead\n",
      "  value=ast.NameConstant(value=True)))\n"
     ]
    }
   ],
   "source": [
    "args_tree = ast.parse(inspect.getsource(args_test))\n",
    "TrackParamsTransformer().visit(args_tree)\n",
    "dump_tree(args_tree)"
   ]
  },
  {
   "cell_type": "code",
   "execution_count": 139,
   "metadata": {
    "execution": {
     "iopub.execute_input": "2025-10-26T17:47:20.763690Z",
     "iopub.status.busy": "2025-10-26T17:47:20.763573Z",
     "iopub.status.idle": "2025-10-26T17:47:20.765420Z",
     "shell.execute_reply": "2025-10-26T17:47:20.765170Z"
    },
    "slideshow": {
     "slide_type": "subslide"
    }
   },
   "outputs": [
    {
     "name": "stdout",
     "output_type": "stream",
     "text": [
      "args_test:2: initializing x #1\n",
      "args_test:2: setting x\n",
      "args_test:2: initializing *args #2\n",
      "args_test:2: setting args\n",
      "args_test:2: initializing **kwargs #3\n",
      "args_test:2: setting kwargs\n",
      "1 2 3\n"
     ]
    }
   ],
   "source": [
    "with DataTrackerTester(args_tree, args_test):\n",
    "    args_test(1, 2, 3)"
   ]
  },
  {
   "cell_type": "markdown",
   "metadata": {
    "slideshow": {
     "slide_type": "subslide"
    }
   },
   "source": [
    "### End of Excursion"
   ]
  },
  {
   "cell_type": "markdown",
   "metadata": {
    "slideshow": {
     "slide_type": "fragment"
    }
   },
   "source": [
    "What do we obtain after we have applied all these transformers on `middle()`? We see that the code now contains quite a load of instrumentation."
   ]
  },
  {
   "cell_type": "code",
   "execution_count": 140,
   "metadata": {
    "execution": {
     "iopub.execute_input": "2025-10-26T17:47:20.766791Z",
     "iopub.status.busy": "2025-10-26T17:47:20.766687Z",
     "iopub.status.idle": "2025-10-26T17:47:20.782652Z",
     "shell.execute_reply": "2025-10-26T17:47:20.782381Z"
    },
    "slideshow": {
     "slide_type": "subslide"
    }
   },
   "outputs": [
    {
     "name": "stdout",
     "output_type": "stream",
     "text": [
      "\u001b[34mdef\u001b[39;49;00m\u001b[37m \u001b[39;49;00m\u001b[32mmiddle\u001b[39;49;00m(x, y, z):\u001b[37m\u001b[39;49;00m\n",
      "    _data.param(\u001b[33m'\u001b[39;49;00m\u001b[33mx\u001b[39;49;00m\u001b[33m'\u001b[39;49;00m, x, pos=\u001b[34m1\u001b[39;49;00m)\u001b[37m\u001b[39;49;00m\n",
      "    _data.param(\u001b[33m'\u001b[39;49;00m\u001b[33my\u001b[39;49;00m\u001b[33m'\u001b[39;49;00m, y, pos=\u001b[34m2\u001b[39;49;00m)\u001b[37m\u001b[39;49;00m\n",
      "    _data.param(\u001b[33m'\u001b[39;49;00m\u001b[33mz\u001b[39;49;00m\u001b[33m'\u001b[39;49;00m, z, pos=\u001b[34m3\u001b[39;49;00m, last=\u001b[34mTrue\u001b[39;49;00m)\u001b[37m\u001b[39;49;00m\n",
      "    \u001b[34mif\u001b[39;49;00m _data.test(_data.get(\u001b[33m'\u001b[39;49;00m\u001b[33my\u001b[39;49;00m\u001b[33m'\u001b[39;49;00m, y) < _data.get(\u001b[33m'\u001b[39;49;00m\u001b[33mz\u001b[39;49;00m\u001b[33m'\u001b[39;49;00m, z)):\u001b[37m\u001b[39;49;00m\n",
      "        \u001b[34mwith\u001b[39;49;00m _data:\u001b[37m\u001b[39;49;00m\n",
      "            \u001b[34mif\u001b[39;49;00m _data.test(_data.get(\u001b[33m'\u001b[39;49;00m\u001b[33mx\u001b[39;49;00m\u001b[33m'\u001b[39;49;00m, x) < _data.get(\u001b[33m'\u001b[39;49;00m\u001b[33my\u001b[39;49;00m\u001b[33m'\u001b[39;49;00m, y)):\u001b[37m\u001b[39;49;00m\n",
      "                \u001b[34mwith\u001b[39;49;00m _data:\u001b[37m\u001b[39;49;00m\n",
      "                    \u001b[34mreturn\u001b[39;49;00m _data.set(\u001b[33m'\u001b[39;49;00m\u001b[33m<middle() return value>\u001b[39;49;00m\u001b[33m'\u001b[39;49;00m, _data.get(\u001b[33m'\u001b[39;49;00m\u001b[33my\u001b[39;49;00m\u001b[33m'\u001b[39;49;00m, y))\u001b[37m\u001b[39;49;00m\n",
      "            \u001b[34melse\u001b[39;49;00m:\u001b[37m\u001b[39;49;00m\n",
      "                \u001b[34mwith\u001b[39;49;00m _data:\u001b[37m\u001b[39;49;00m\n",
      "                    \u001b[34mif\u001b[39;49;00m _data.test(_data.get(\u001b[33m'\u001b[39;49;00m\u001b[33mx\u001b[39;49;00m\u001b[33m'\u001b[39;49;00m, x) < _data.get(\u001b[33m'\u001b[39;49;00m\u001b[33mz\u001b[39;49;00m\u001b[33m'\u001b[39;49;00m, z)):\u001b[37m\u001b[39;49;00m\n",
      "                        \u001b[34mwith\u001b[39;49;00m _data:\u001b[37m\u001b[39;49;00m\n",
      "                            \u001b[34mreturn\u001b[39;49;00m _data.set(\u001b[33m'\u001b[39;49;00m\u001b[33m<middle() return value>\u001b[39;49;00m\u001b[33m'\u001b[39;49;00m, _data.get(\u001b[33m'\u001b[39;49;00m\u001b[33my\u001b[39;49;00m\u001b[33m'\u001b[39;49;00m, y))\u001b[37m\u001b[39;49;00m\n",
      "    \u001b[34melse\u001b[39;49;00m:\u001b[37m\u001b[39;49;00m\n",
      "        \u001b[34mwith\u001b[39;49;00m _data:\u001b[37m\u001b[39;49;00m\n",
      "            \u001b[34mif\u001b[39;49;00m _data.test(_data.get(\u001b[33m'\u001b[39;49;00m\u001b[33mx\u001b[39;49;00m\u001b[33m'\u001b[39;49;00m, x) > _data.get(\u001b[33m'\u001b[39;49;00m\u001b[33my\u001b[39;49;00m\u001b[33m'\u001b[39;49;00m, y)):\u001b[37m\u001b[39;49;00m\n",
      "                \u001b[34mwith\u001b[39;49;00m _data:\u001b[37m\u001b[39;49;00m\n",
      "                    \u001b[34mreturn\u001b[39;49;00m _data.set(\u001b[33m'\u001b[39;49;00m\u001b[33m<middle() return value>\u001b[39;49;00m\u001b[33m'\u001b[39;49;00m, _data.get(\u001b[33m'\u001b[39;49;00m\u001b[33my\u001b[39;49;00m\u001b[33m'\u001b[39;49;00m, y))\u001b[37m\u001b[39;49;00m\n",
      "            \u001b[34melse\u001b[39;49;00m:\u001b[37m\u001b[39;49;00m\n",
      "                \u001b[34mwith\u001b[39;49;00m _data:\u001b[37m\u001b[39;49;00m\n",
      "                    \u001b[34mif\u001b[39;49;00m _data.test(_data.get(\u001b[33m'\u001b[39;49;00m\u001b[33mx\u001b[39;49;00m\u001b[33m'\u001b[39;49;00m, x) > _data.get(\u001b[33m'\u001b[39;49;00m\u001b[33mz\u001b[39;49;00m\u001b[33m'\u001b[39;49;00m, z)):\u001b[37m\u001b[39;49;00m\n",
      "                        \u001b[34mwith\u001b[39;49;00m _data:\u001b[37m\u001b[39;49;00m\n",
      "                            \u001b[34mreturn\u001b[39;49;00m _data.set(\u001b[33m'\u001b[39;49;00m\u001b[33m<middle() return value>\u001b[39;49;00m\u001b[33m'\u001b[39;49;00m, _data.get(\u001b[33m'\u001b[39;49;00m\u001b[33mx\u001b[39;49;00m\u001b[33m'\u001b[39;49;00m, x))\u001b[37m\u001b[39;49;00m\n",
      "    \u001b[34mreturn\u001b[39;49;00m _data.set(\u001b[33m'\u001b[39;49;00m\u001b[33m<middle() return value>\u001b[39;49;00m\u001b[33m'\u001b[39;49;00m, _data.get(\u001b[33m'\u001b[39;49;00m\u001b[33mz\u001b[39;49;00m\u001b[33m'\u001b[39;49;00m, z))\u001b[37m\u001b[39;49;00m"
     ]
    }
   ],
   "source": [
    "dump_tree(middle_tree)"
   ]
  },
  {
   "cell_type": "markdown",
   "metadata": {
    "slideshow": {
     "slide_type": "subslide"
    }
   },
   "source": [
    "And when we execute this code, we see that we can track quite a number of events, while the code semantics stay unchanged."
   ]
  },
  {
   "cell_type": "code",
   "execution_count": 141,
   "metadata": {
    "execution": {
     "iopub.execute_input": "2025-10-26T17:47:20.784076Z",
     "iopub.status.busy": "2025-10-26T17:47:20.783970Z",
     "iopub.status.idle": "2025-10-26T17:47:20.787362Z",
     "shell.execute_reply": "2025-10-26T17:47:20.786848Z"
    },
    "slideshow": {
     "slide_type": "subslide"
    }
   },
   "outputs": [
    {
     "name": "stdout",
     "output_type": "stream",
     "text": [
      "middle:12: initializing x #1\n",
      "middle:12: setting x\n",
      "middle:12: initializing y #2\n",
      "middle:12: setting y\n",
      "middle:12: initializing z #3\n",
      "middle:12: setting z\n",
      "middle:2: getting y\n",
      "middle:2: getting z\n",
      "middle:2: testing condition\n",
      "middle:3: entering block\n",
      "middle:3: getting x\n",
      "middle:3: getting y\n",
      "middle:3: testing condition\n",
      "middle:5: entering block\n",
      "middle:5: getting x\n",
      "middle:5: getting z\n",
      "middle:5: testing condition\n",
      "middle:6: entering block\n",
      "middle:6: getting y\n",
      "middle:6: setting <middle() return value>\n",
      "middle:6: exiting block\n",
      "middle:5: exiting block\n",
      "middle:3: exiting block\n"
     ]
    },
    {
     "data": {
      "text/plain": [
       "1"
      ]
     },
     "execution_count": 141,
     "metadata": {},
     "output_type": "execute_result"
    }
   ],
   "source": [
    "with DataTrackerTester(middle_tree, middle):\n",
    "    m = middle(2, 1, 3)\n",
    "m"
   ]
  },
  {
   "cell_type": "markdown",
   "metadata": {
    "slideshow": {
     "slide_type": "subslide"
    }
   },
   "source": [
    "### Excursion: Transformer Stress Test"
   ]
  },
  {
   "cell_type": "markdown",
   "metadata": {
    "slideshow": {
     "slide_type": "fragment"
    }
   },
   "source": [
    "We stress test our transformers by instrumenting, transforming, and compiling a number of modules."
   ]
  },
  {
   "cell_type": "code",
   "execution_count": 142,
   "metadata": {
    "execution": {
     "iopub.execute_input": "2025-10-26T17:47:20.789469Z",
     "iopub.status.busy": "2025-10-26T17:47:20.789336Z",
     "iopub.status.idle": "2025-10-26T17:47:20.810616Z",
     "shell.execute_reply": "2025-10-26T17:47:20.810318Z"
    },
    "slideshow": {
     "slide_type": "skip"
    }
   },
   "outputs": [],
   "source": [
    "import Assertions  # minor dependency\n",
    "import Debugger  # minor dependency"
   ]
  },
  {
   "cell_type": "code",
   "execution_count": 143,
   "metadata": {
    "execution": {
     "iopub.execute_input": "2025-10-26T17:47:20.812097Z",
     "iopub.status.busy": "2025-10-26T17:47:20.811998Z",
     "iopub.status.idle": "2025-10-26T17:47:21.793318Z",
     "shell.execute_reply": "2025-10-26T17:47:21.793041Z"
    },
    "slideshow": {
     "slide_type": "subslide"
    }
   },
   "outputs": [
    {
     "name": "stdout",
     "output_type": "stream",
     "text": [
      "'Assertions' instrumented successfully."
     ]
    },
    {
     "name": "stderr",
     "output_type": "stream",
     "text": [
      "/var/folders/n2/xd9445p97rb3xh7m1dfx8_4h0006ts/T/ipykernel_51412/2498757139.py:9: DeprecationWarning: ast.Num is deprecated and will be removed in Python 3.14; use ast.Constant instead\n",
      "  keywords.append(keyword(arg='pos', value=ast.Num(pos)))\n",
      "/var/folders/n2/xd9445p97rb3xh7m1dfx8_4h0006ts/T/ipykernel_51412/2454789564.py:22: DeprecationWarning: ast.Str is deprecated and will be removed in Python 3.14; use ast.Constant instead\n",
      "  args=[ast.Str(id), value],\n",
      "/var/folders/n2/xd9445p97rb3xh7m1dfx8_4h0006ts/T/ipykernel_51412/3554319793.py:4: DeprecationWarning: ast.Str is deprecated and will be removed in Python 3.14; use ast.Constant instead\n",
      "  args=[ast.Str(id), Name(id=id, ctx=Load())],\n",
      "/var/folders/n2/xd9445p97rb3xh7m1dfx8_4h0006ts/T/ipykernel_51412/882995308.py:12: DeprecationWarning: ast.Num is deprecated and will be removed in Python 3.14; use ast.Constant instead\n",
      "  keywords=[keyword(arg='pos', value=ast.Num(n + 1))]\n",
      "/var/folders/n2/xd9445p97rb3xh7m1dfx8_4h0006ts/T/ipykernel_51412/882995308.py:19: DeprecationWarning: ast.NameConstant is deprecated and will be removed in Python 3.14; use ast.Constant instead\n",
      "  value=ast.NameConstant(value=True)))\n",
      "/var/folders/n2/xd9445p97rb3xh7m1dfx8_4h0006ts/T/ipykernel_51412/882995308.py:25: DeprecationWarning: ast.Str is deprecated and will be removed in Python 3.14; use ast.Constant instead\n",
      "  args=[ast.Str(child.arg),\n",
      "/var/folders/n2/xd9445p97rb3xh7m1dfx8_4h0006ts/T/ipykernel_51412/882995308.py:14: DeprecationWarning: ast.Str is deprecated and will be removed in Python 3.14; use ast.Constant instead\n",
      "  keywords.append(keyword(arg='vararg', value=ast.Str('*')))\n",
      "/var/folders/n2/xd9445p97rb3xh7m1dfx8_4h0006ts/T/ipykernel_51412/2498757139.py:11: DeprecationWarning: ast.Str is deprecated and will be removed in Python 3.14; use ast.Constant instead\n",
      "  keywords.append(keyword(arg='kw', value=ast.Str(kw)))\n"
     ]
    },
    {
     "name": "stdout",
     "output_type": "stream",
     "text": [
      "\n"
     ]
    },
    {
     "name": "stdout",
     "output_type": "stream",
     "text": [
      "'Debugger' instrumented successfully.\n"
     ]
    },
    {
     "name": "stderr",
     "output_type": "stream",
     "text": [
      "/var/folders/n2/xd9445p97rb3xh7m1dfx8_4h0006ts/T/ipykernel_51412/882995308.py:16: DeprecationWarning: ast.Str is deprecated and will be removed in Python 3.14; use ast.Constant instead\n",
      "  keywords.append(keyword(arg='vararg', value=ast.Str('**')))\n"
     ]
    },
    {
     "name": "stdout",
     "output_type": "stream",
     "text": [
      "'inspect' instrumented successfully.\n"
     ]
    },
    {
     "name": "stdout",
     "output_type": "stream",
     "text": [
      "'ast' instrumented successfully.\n"
     ]
    }
   ],
   "source": [
    "for module in [Assertions, Debugger, inspect, ast]:\n",
    "    module_tree = ast.parse(inspect.getsource(module))\n",
    "    assert isinstance(module_tree, ast.Module)\n",
    "\n",
    "    TrackCallTransformer().visit(module_tree)\n",
    "    TrackSetTransformer().visit(module_tree)\n",
    "    TrackGetTransformer().visit(module_tree)\n",
    "    TrackControlTransformer().visit(module_tree)\n",
    "    TrackReturnTransformer().visit(module_tree)\n",
    "    TrackParamsTransformer().visit(module_tree)\n",
    "    # dump_tree(module_tree)\n",
    "    ast.fix_missing_locations(module_tree)  # Must run this before compiling\n",
    "\n",
    "    module_code = compile(module_tree, '<stress_test>', 'exec')\n",
    "    print(f\"{repr(module.__name__)} instrumented successfully.\")"
   ]
  },
  {
   "cell_type": "markdown",
   "metadata": {
    "slideshow": {
     "slide_type": "subslide"
    }
   },
   "source": [
    "### End of Excursion"
   ]
  },
  {
   "cell_type": "markdown",
   "metadata": {
    "slideshow": {
     "slide_type": "fragment"
    }
   },
   "source": [
    "Our next step will now be not only to _log_ these events, but to actually construct _dependencies_ from them."
   ]
  },
  {
   "cell_type": "markdown",
   "metadata": {
    "slideshow": {
     "slide_type": "slide"
    }
   },
   "source": [
    "## Tracking Dependencies"
   ]
  },
  {
   "cell_type": "markdown",
   "metadata": {
    "slideshow": {
     "slide_type": "fragment"
    }
   },
   "source": [
    "To construct dependencies from variable accesses, we subclass `DataTracker` into `DependencyTracker` – a class that actually keeps track of all these dependencies.  Its constructor initializes a number of variables we will discuss below."
   ]
  },
  {
   "cell_type": "code",
   "execution_count": 144,
   "metadata": {
    "execution": {
     "iopub.execute_input": "2025-10-26T17:47:21.794917Z",
     "iopub.status.busy": "2025-10-26T17:47:21.794820Z",
     "iopub.status.idle": "2025-10-26T17:47:21.797280Z",
     "shell.execute_reply": "2025-10-26T17:47:21.797074Z"
    },
    "slideshow": {
     "slide_type": "subslide"
    }
   },
   "outputs": [],
   "source": [
    "class DependencyTracker(DataTracker):\n",
    "    \"\"\"Track dependencies during execution\"\"\"\n",
    "\n",
    "    def __init__(self, *args: Any, **kwargs: Any) -> None:\n",
    "        \"\"\"Constructor. Arguments are passed to DataTracker.__init__()\"\"\"\n",
    "        super().__init__(*args, **kwargs)\n",
    "\n",
    "        self.origins: Dict[str, Location] = {}  # Where current variables were last set\n",
    "        self.data_dependencies: Dependency = {}  # As with Dependencies, above\n",
    "        self.control_dependencies: Dependency = {}\n",
    "\n",
    "        self.last_read: List[str] = []  # List of last read variables\n",
    "        self.last_checked_location = (StackInspector.unknown, 1)\n",
    "        self._ignore_location_change = False\n",
    "\n",
    "        self.data: List[List[str]] = [[]]  # Data stack\n",
    "        self.control: List[List[str]] = [[]]  # Control stack\n",
    "\n",
    "        self.frames: List[Dict[Union[int, str], Any]] = [{}]  # Argument stack\n",
    "        self.args: Dict[Union[int, str], Any] = {}  # Current args"
   ]
  },
  {
   "cell_type": "markdown",
   "metadata": {
    "slideshow": {
     "slide_type": "subslide"
    }
   },
   "source": [
    "### Data Dependencies\n",
    "\n",
    "The first job of our `DependencyTracker` is to construct dependencies between _read_ and _written_ variables."
   ]
  },
  {
   "cell_type": "markdown",
   "metadata": {
    "slideshow": {
     "slide_type": "subslide"
    }
   },
   "source": [
    "#### Reading Variables\n",
    "\n",
    "As in `DataTracker`, the key method of `DependencyTracker` again is `get()`, invoked as `_data.get('x', x)` whenever a variable `x` is read. First and foremost, it appends the name of the read variable to the list `last_read`."
   ]
  },
  {
   "cell_type": "code",
   "execution_count": 145,
   "metadata": {
    "execution": {
     "iopub.execute_input": "2025-10-26T17:47:21.798692Z",
     "iopub.status.busy": "2025-10-26T17:47:21.798590Z",
     "iopub.status.idle": "2025-10-26T17:47:21.800369Z",
     "shell.execute_reply": "2025-10-26T17:47:21.800117Z"
    },
    "slideshow": {
     "slide_type": "fragment"
    }
   },
   "outputs": [],
   "source": [
    "class DependencyTracker(DependencyTracker):\n",
    "    def get(self, name: str, value: Any) -> Any:\n",
    "        \"\"\"Track a read access for variable `name` with value `value`\"\"\"\n",
    "        self.check_location()\n",
    "        self.last_read.append(name)\n",
    "        return super().get(name, value)\n",
    "\n",
    "    def check_location(self) -> None:\n",
    "        pass  # More on that below"
   ]
  },
  {
   "cell_type": "code",
   "execution_count": 146,
   "metadata": {
    "execution": {
     "iopub.execute_input": "2025-10-26T17:47:21.801782Z",
     "iopub.status.busy": "2025-10-26T17:47:21.801660Z",
     "iopub.status.idle": "2025-10-26T17:47:21.803143Z",
     "shell.execute_reply": "2025-10-26T17:47:21.802927Z"
    },
    "slideshow": {
     "slide_type": "subslide"
    }
   },
   "outputs": [],
   "source": [
    "x = 5\n",
    "y = 3"
   ]
  },
  {
   "cell_type": "code",
   "execution_count": 147,
   "metadata": {
    "execution": {
     "iopub.execute_input": "2025-10-26T17:47:21.804411Z",
     "iopub.status.busy": "2025-10-26T17:47:21.804333Z",
     "iopub.status.idle": "2025-10-26T17:47:21.806495Z",
     "shell.execute_reply": "2025-10-26T17:47:21.806295Z"
    },
    "slideshow": {
     "slide_type": "fragment"
    }
   },
   "outputs": [
    {
     "name": "stdout",
     "output_type": "stream",
     "text": [
      "<module>:2: getting x\n",
      "<module>:2: getting y\n"
     ]
    },
    {
     "data": {
      "text/plain": [
       "8"
      ]
     },
     "execution_count": 147,
     "metadata": {},
     "output_type": "execute_result"
    }
   ],
   "source": [
    "_test_data = DependencyTracker(log=True)\n",
    "_test_data.get('x', x) + _test_data.get('y', y)"
   ]
  },
  {
   "cell_type": "code",
   "execution_count": 148,
   "metadata": {
    "execution": {
     "iopub.execute_input": "2025-10-26T17:47:21.807756Z",
     "iopub.status.busy": "2025-10-26T17:47:21.807678Z",
     "iopub.status.idle": "2025-10-26T17:47:21.809498Z",
     "shell.execute_reply": "2025-10-26T17:47:21.809286Z"
    },
    "slideshow": {
     "slide_type": "fragment"
    }
   },
   "outputs": [
    {
     "data": {
      "text/plain": [
       "['x', 'y']"
      ]
     },
     "execution_count": 148,
     "metadata": {},
     "output_type": "execute_result"
    }
   ],
   "source": [
    "_test_data.last_read"
   ]
  },
  {
   "cell_type": "markdown",
   "metadata": {
    "slideshow": {
     "slide_type": "subslide"
    }
   },
   "source": [
    "#### Checking Locations"
   ]
  },
  {
   "cell_type": "markdown",
   "metadata": {
    "slideshow": {
     "slide_type": "fragment"
    }
   },
   "source": [
    "However, before appending the read variable to `last_read`, `_data.get()` does one more thing. By invoking `check_location()`, it clears the `last_read` list if we have reached a new line in the execution. This avoids situations such as\n",
    "\n",
    "```python\n",
    "x\n",
    "y\n",
    "z = a + b\n",
    "```\n",
    "where `x` and `y` are, well, read, but do not affect the last line. Therefore, with every new line, the list of last read lines is cleared."
   ]
  },
  {
   "cell_type": "code",
   "execution_count": 149,
   "metadata": {
    "execution": {
     "iopub.execute_input": "2025-10-26T17:47:21.810786Z",
     "iopub.status.busy": "2025-10-26T17:47:21.810719Z",
     "iopub.status.idle": "2025-10-26T17:47:21.813159Z",
     "shell.execute_reply": "2025-10-26T17:47:21.812962Z"
    },
    "slideshow": {
     "slide_type": "subslide"
    }
   },
   "outputs": [],
   "source": [
    "class DependencyTracker(DependencyTracker):\n",
    "    def clear_read(self) -> None:\n",
    "        \"\"\"Clear set of read variables\"\"\"\n",
    "        if self.log:\n",
    "            direct_caller = inspect.currentframe().f_back.f_code.co_name  # type: ignore\n",
    "            caller_func, lineno = self.caller_location()\n",
    "            print(f\"{caller_func.__name__}:{lineno}: \"\n",
    "                  f\"clearing read variables {self.last_read} \"\n",
    "                  f\"(from {direct_caller})\")\n",
    "\n",
    "        self.last_read = []\n",
    "\n",
    "    def check_location(self) -> None:\n",
    "        \"\"\"If we are in a new location, clear set of read variables\"\"\"\n",
    "        location = self.caller_location()\n",
    "        func, lineno = location\n",
    "        last_func, last_lineno = self.last_checked_location\n",
    "\n",
    "        if self.last_checked_location != location:\n",
    "            if self._ignore_location_change:\n",
    "                self._ignore_location_change = False\n",
    "            elif func.__name__.startswith('<'):\n",
    "                # Entering list comprehension, eval(), exec(), ...\n",
    "                pass\n",
    "            elif last_func.__name__.startswith('<'):\n",
    "                # Exiting list comprehension, eval(), exec(), ...\n",
    "                pass\n",
    "            else:\n",
    "                # Standard case\n",
    "                self.clear_read()\n",
    "\n",
    "        self.last_checked_location = location"
   ]
  },
  {
   "cell_type": "markdown",
   "metadata": {
    "slideshow": {
     "slide_type": "subslide"
    }
   },
   "source": [
    "Two methods can suppress this reset of the `last_read` list: \n",
    "\n",
    "* `ignore_next_location_change()` suppresses the reset for the next line. This is useful when returning from a function, when the return value is still in the list of \"read\" variables.\n",
    "* `ignore_location_change()` suppresses the reset for the current line. This is useful if we already have returned from a function call."
   ]
  },
  {
   "cell_type": "code",
   "execution_count": 150,
   "metadata": {
    "execution": {
     "iopub.execute_input": "2025-10-26T17:47:21.814431Z",
     "iopub.status.busy": "2025-10-26T17:47:21.814359Z",
     "iopub.status.idle": "2025-10-26T17:47:21.815950Z",
     "shell.execute_reply": "2025-10-26T17:47:21.815724Z"
    },
    "slideshow": {
     "slide_type": "fragment"
    }
   },
   "outputs": [],
   "source": [
    "class DependencyTracker(DependencyTracker):\n",
    "    def ignore_next_location_change(self) -> None:\n",
    "        self._ignore_location_change = True\n",
    "\n",
    "    def ignore_location_change(self) -> None:\n",
    "        self.last_checked_location = self.caller_location()"
   ]
  },
  {
   "cell_type": "markdown",
   "metadata": {
    "slideshow": {
     "slide_type": "subslide"
    }
   },
   "source": [
    "Watch how `DependencyTracker` resets `last_read` when a new line is executed:"
   ]
  },
  {
   "cell_type": "code",
   "execution_count": 151,
   "metadata": {
    "execution": {
     "iopub.execute_input": "2025-10-26T17:47:21.817200Z",
     "iopub.status.busy": "2025-10-26T17:47:21.817124Z",
     "iopub.status.idle": "2025-10-26T17:47:21.818504Z",
     "shell.execute_reply": "2025-10-26T17:47:21.818296Z"
    },
    "slideshow": {
     "slide_type": "fragment"
    }
   },
   "outputs": [],
   "source": [
    "_test_data = DependencyTracker()"
   ]
  },
  {
   "cell_type": "code",
   "execution_count": 152,
   "metadata": {
    "execution": {
     "iopub.execute_input": "2025-10-26T17:47:21.819609Z",
     "iopub.status.busy": "2025-10-26T17:47:21.819527Z",
     "iopub.status.idle": "2025-10-26T17:47:21.821360Z",
     "shell.execute_reply": "2025-10-26T17:47:21.821166Z"
    },
    "slideshow": {
     "slide_type": "fragment"
    }
   },
   "outputs": [
    {
     "data": {
      "text/plain": [
       "8"
      ]
     },
     "execution_count": 152,
     "metadata": {},
     "output_type": "execute_result"
    }
   ],
   "source": [
    "_test_data.get('x', x) + _test_data.get('y', y)"
   ]
  },
  {
   "cell_type": "code",
   "execution_count": 153,
   "metadata": {
    "execution": {
     "iopub.execute_input": "2025-10-26T17:47:21.822479Z",
     "iopub.status.busy": "2025-10-26T17:47:21.822400Z",
     "iopub.status.idle": "2025-10-26T17:47:21.824158Z",
     "shell.execute_reply": "2025-10-26T17:47:21.823941Z"
    },
    "slideshow": {
     "slide_type": "fragment"
    }
   },
   "outputs": [
    {
     "data": {
      "text/plain": [
       "['x', 'y']"
      ]
     },
     "execution_count": 153,
     "metadata": {},
     "output_type": "execute_result"
    }
   ],
   "source": [
    "_test_data.last_read"
   ]
  },
  {
   "cell_type": "code",
   "execution_count": 154,
   "metadata": {
    "execution": {
     "iopub.execute_input": "2025-10-26T17:47:21.825275Z",
     "iopub.status.busy": "2025-10-26T17:47:21.825199Z",
     "iopub.status.idle": "2025-10-26T17:47:21.827268Z",
     "shell.execute_reply": "2025-10-26T17:47:21.827037Z"
    },
    "slideshow": {
     "slide_type": "fragment"
    }
   },
   "outputs": [
    {
     "data": {
      "text/plain": [
       "41"
      ]
     },
     "execution_count": 154,
     "metadata": {},
     "output_type": "execute_result"
    }
   ],
   "source": [
    "a = 42\n",
    "b = -1\n",
    "_test_data.get('a', a) + _test_data.get('b', b)"
   ]
  },
  {
   "cell_type": "code",
   "execution_count": 155,
   "metadata": {
    "execution": {
     "iopub.execute_input": "2025-10-26T17:47:21.828429Z",
     "iopub.status.busy": "2025-10-26T17:47:21.828356Z",
     "iopub.status.idle": "2025-10-26T17:47:21.830208Z",
     "shell.execute_reply": "2025-10-26T17:47:21.830008Z"
    },
    "slideshow": {
     "slide_type": "fragment"
    }
   },
   "outputs": [
    {
     "data": {
      "text/plain": [
       "['x', 'y', 'a', 'b']"
      ]
     },
     "execution_count": 155,
     "metadata": {},
     "output_type": "execute_result"
    }
   ],
   "source": [
    "_test_data.last_read"
   ]
  },
  {
   "attachments": {},
   "cell_type": "markdown",
   "metadata": {
    "slideshow": {
     "slide_type": "subslide"
    }
   },
   "source": [
    "#### Setting Variables\n",
    "\n",
    "The method `set()` creates dependencies. It is invoked as `_data.set('x', value)` whenever a variable `x` is set. \n",
    "\n",
    "First and foremost, it takes the list of variables read `last_read`, and for each of the variables $v$, it takes their origin $o$ (the place where they were last set) and appends the pair ($v$, $o$) to the list of data dependencies. It then does a similar thing with control dependencies (more on these below), and finally marks (in `self.origins`) the current location of $v$."
   ]
  },
  {
   "cell_type": "code",
   "execution_count": 156,
   "metadata": {
    "execution": {
     "iopub.execute_input": "2025-10-26T17:47:21.831336Z",
     "iopub.status.busy": "2025-10-26T17:47:21.831258Z",
     "iopub.status.idle": "2025-10-26T17:47:21.832623Z",
     "shell.execute_reply": "2025-10-26T17:47:21.832431Z"
    },
    "slideshow": {
     "slide_type": "skip"
    }
   },
   "outputs": [],
   "source": [
    "import itertools"
   ]
  },
  {
   "cell_type": "code",
   "execution_count": 157,
   "metadata": {
    "execution": {
     "iopub.execute_input": "2025-10-26T17:47:21.833767Z",
     "iopub.status.busy": "2025-10-26T17:47:21.833697Z",
     "iopub.status.idle": "2025-10-26T17:47:21.837043Z",
     "shell.execute_reply": "2025-10-26T17:47:21.836845Z"
    },
    "slideshow": {
     "slide_type": "subslide"
    }
   },
   "outputs": [],
   "source": [
    "class DependencyTracker(DependencyTracker):\n",
    "    TEST = '<test>'  # Name of pseudo-variables for testing conditions\n",
    "\n",
    "    def set(self, name: str, value: Any, loads: Optional[Set[str]] = None) -> Any:\n",
    "        \"\"\"Add a dependency for `name` = `value`\"\"\"\n",
    "\n",
    "        def add_dependencies(dependencies: Set[Node], \n",
    "                             vars_read: List[str], tp: str) -> None:\n",
    "            \"\"\"Add origins of `vars_read` to `dependencies`.\"\"\"\n",
    "            for var_read in vars_read:\n",
    "                if var_read in self.origins:\n",
    "                    if var_read == self.TEST and tp == \"data\":\n",
    "                        # Can't have data dependencies on conditions\n",
    "                        continue\n",
    "\n",
    "                    origin = self.origins[var_read]\n",
    "                    dependencies.add((var_read, origin))\n",
    "\n",
    "                    if self.log:\n",
    "                        origin_func, origin_lineno = origin\n",
    "                        caller_func, lineno = self.caller_location()\n",
    "                        print(f\"{caller_func.__name__}:{lineno}: \"\n",
    "                              f\"new {tp} dependency: \"\n",
    "                              f\"{name} <= {var_read} \"\n",
    "                              f\"({origin_func.__name__}:{origin_lineno})\")\n",
    "\n",
    "        self.check_location()\n",
    "        ret = super().set(name, value)\n",
    "        location = self.caller_location()\n",
    "\n",
    "        add_dependencies(self.data_dependencies.setdefault\n",
    "                         ((name, location), set()),\n",
    "                         self.last_read, tp=\"data\")\n",
    "        add_dependencies(self.control_dependencies.setdefault\n",
    "                         ((name, location), set()),\n",
    "                         cast(List[str], itertools.chain.from_iterable(self.control)),\n",
    "                         tp=\"control\")\n",
    "\n",
    "        self.origins[name] = location\n",
    "\n",
    "        # Reset read info for next line\n",
    "        self.last_read = [name]\n",
    "\n",
    "        # Next line is a new location\n",
    "        self._ignore_location_change = False\n",
    "\n",
    "        return ret\n",
    "\n",
    "    def dependencies(self) -> Dependencies:\n",
    "        \"\"\"Return dependencies\"\"\"\n",
    "        return Dependencies(self.data_dependencies,\n",
    "                            self.control_dependencies)"
   ]
  },
  {
   "cell_type": "markdown",
   "metadata": {
    "slideshow": {
     "slide_type": "subslide"
    }
   },
   "source": [
    "Let us illustrate `set()` by example. Here's a set of variables read and written:"
   ]
  },
  {
   "cell_type": "code",
   "execution_count": 158,
   "metadata": {
    "execution": {
     "iopub.execute_input": "2025-10-26T17:47:21.838293Z",
     "iopub.status.busy": "2025-10-26T17:47:21.838218Z",
     "iopub.status.idle": "2025-10-26T17:47:21.839984Z",
     "shell.execute_reply": "2025-10-26T17:47:21.839780Z"
    },
    "slideshow": {
     "slide_type": "fragment"
    }
   },
   "outputs": [],
   "source": [
    "_test_data = DependencyTracker()\n",
    "x = _test_data.set('x', 1)\n",
    "y = _test_data.set('y', _test_data.get('x', x))\n",
    "z = _test_data.set('z', _test_data.get('x', x) + _test_data.get('y', y))"
   ]
  },
  {
   "cell_type": "markdown",
   "metadata": {
    "slideshow": {
     "slide_type": "fragment"
    }
   },
   "source": [
    "The attribute `origins` saves for each variable where it was last written:"
   ]
  },
  {
   "cell_type": "code",
   "execution_count": 159,
   "metadata": {
    "execution": {
     "iopub.execute_input": "2025-10-26T17:47:21.841098Z",
     "iopub.status.busy": "2025-10-26T17:47:21.841020Z",
     "iopub.status.idle": "2025-10-26T17:47:21.842956Z",
     "shell.execute_reply": "2025-10-26T17:47:21.842718Z"
    },
    "slideshow": {
     "slide_type": "fragment"
    }
   },
   "outputs": [
    {
     "data": {
      "text/plain": [
       "{'x': (<function __main__.<module>()>, 2),\n",
       " 'y': (<function __main__.<module>()>, 3),\n",
       " 'z': (<function __main__.<module>()>, 4)}"
      ]
     },
     "execution_count": 159,
     "metadata": {},
     "output_type": "execute_result"
    }
   ],
   "source": [
    "_test_data.origins"
   ]
  },
  {
   "cell_type": "markdown",
   "metadata": {
    "slideshow": {
     "slide_type": "fragment"
    }
   },
   "source": [
    "The attribute `data_dependencies` tracks for each variable the variables it was read from:"
   ]
  },
  {
   "cell_type": "code",
   "execution_count": 160,
   "metadata": {
    "execution": {
     "iopub.execute_input": "2025-10-26T17:47:21.844360Z",
     "iopub.status.busy": "2025-10-26T17:47:21.844267Z",
     "iopub.status.idle": "2025-10-26T17:47:21.846378Z",
     "shell.execute_reply": "2025-10-26T17:47:21.846177Z"
    },
    "slideshow": {
     "slide_type": "subslide"
    }
   },
   "outputs": [
    {
     "data": {
      "text/plain": [
       "{('x', (<function __main__.<module>()>, 2)): set(),\n",
       " ('y',\n",
       "  (<function __main__.<module>()>, 3)): {('x',\n",
       "   (<function __main__.<module>()>, 2))},\n",
       " ('z',\n",
       "  (<function __main__.<module>()>, 4)): {('x',\n",
       "   (<function __main__.<module>()>, 2)), ('y',\n",
       "   (<function __main__.<module>()>, 3))}}"
      ]
     },
     "execution_count": 160,
     "metadata": {},
     "output_type": "execute_result"
    }
   ],
   "source": [
    "_test_data.data_dependencies"
   ]
  },
  {
   "cell_type": "markdown",
   "metadata": {
    "slideshow": {
     "slide_type": "fragment"
    }
   },
   "source": [
    "Hence, the above code already gives us a small dependency graph:"
   ]
  },
  {
   "cell_type": "code",
   "execution_count": 161,
   "metadata": {
    "execution": {
     "iopub.execute_input": "2025-10-26T17:47:21.847550Z",
     "iopub.status.busy": "2025-10-26T17:47:21.847472Z",
     "iopub.status.idle": "2025-10-26T17:47:22.171844Z",
     "shell.execute_reply": "2025-10-26T17:47:22.171520Z"
    },
    "slideshow": {
     "slide_type": "fragment"
    },
    "tags": [
     "remove-input"
    ]
   },
   "outputs": [
    {
     "data": {
      "image/svg+xml": [
       "<?xml version=\"1.0\" encoding=\"UTF-8\" standalone=\"no\"?>\n",
       "<!DOCTYPE svg PUBLIC \"-//W3C//DTD SVG 1.1//EN\"\n",
       " \"http://www.w3.org/Graphics/SVG/1.1/DTD/svg11.dtd\">\n",
       "<!-- Generated by graphviz version 14.0.2 (20251019.1705)\n",
       " -->\n",
       "<!-- Title: dependencies Pages: 1 -->\n",
       "<svg width=\"94pt\" height=\"200pt\"\n",
       " viewBox=\"0.00 0.00 94.00 200.00\" xmlns=\"http://www.w3.org/2000/svg\" xmlns:xlink=\"http://www.w3.org/1999/xlink\">\n",
       "<g id=\"graph0\" class=\"graph\" transform=\"scale(1 1) rotate(0) translate(4 196)\">\n",
       "<title>dependencies</title>\n",
       "<polygon fill=\"white\" stroke=\"none\" points=\"-4,4 -4,-196 90,-196 90,4 -4,4\"/>\n",
       "<!-- y_functionmoduleat0x10e60cfe0_3 -->\n",
       "<g id=\"node1\" class=\"node\">\n",
       "<title>y_functionmoduleat0x10e60cfe0_3</title>\n",
       "<g id=\"a_node1\"><a xlink:title=\"&lt;module&gt;:3\">\n",
       "<polygon fill=\"peachpuff\" stroke=\"black\" points=\"58,-116 0,-116 0,-76 58,-76 58,-116\"/>\n",
       "<text xml:space=\"preserve\" text-anchor=\"start\" x=\"24.88\" y=\"-99.7\" font-family=\"Courier,monospace\" font-weight=\"bold\" font-size=\"14.00\">y</text>\n",
       "<text xml:space=\"preserve\" text-anchor=\"start\" x=\"8\" y=\"-81.45\" font-family=\"Courier,monospace\" font-size=\"9.00\">&lt;module&gt;</text>\n",
       "</a>\n",
       "</g>\n",
       "</g>\n",
       "<!-- z_functionmoduleat0x10e60d440_4 -->\n",
       "<g id=\"node3\" class=\"node\">\n",
       "<title>z_functionmoduleat0x10e60d440_4</title>\n",
       "<g id=\"a_node3\"><a xlink:title=\"&lt;module&gt;:4\">\n",
       "<polygon fill=\"peachpuff\" stroke=\"black\" points=\"86,-40 28,-40 28,0 86,0 86,-40\"/>\n",
       "<text xml:space=\"preserve\" text-anchor=\"start\" x=\"52.88\" y=\"-23.7\" font-family=\"Courier,monospace\" font-weight=\"bold\" font-size=\"14.00\">z</text>\n",
       "<text xml:space=\"preserve\" text-anchor=\"start\" x=\"36\" y=\"-5.45\" font-family=\"Courier,monospace\" font-size=\"9.00\">&lt;module&gt;</text>\n",
       "</a>\n",
       "</g>\n",
       "</g>\n",
       "<!-- y_functionmoduleat0x10e60cfe0_3&#45;&gt;z_functionmoduleat0x10e60d440_4 -->\n",
       "<g id=\"edge2\" class=\"edge\">\n",
       "<title>y_functionmoduleat0x10e60cfe0_3&#45;&gt;z_functionmoduleat0x10e60d440_4</title>\n",
       "<path fill=\"none\" stroke=\"black\" d=\"M36.36,-75.56C39.22,-67.99 42.56,-59.16 45.71,-50.83\"/>\n",
       "<polygon fill=\"black\" stroke=\"black\" points=\"48.89,-52.32 49.16,-41.73 42.34,-49.84 48.89,-52.32\"/>\n",
       "</g>\n",
       "<!-- x_functionmoduleat0x10d9f5300_2 -->\n",
       "<g id=\"node2\" class=\"node\">\n",
       "<title>x_functionmoduleat0x10d9f5300_2</title>\n",
       "<g id=\"a_node2\"><a xlink:title=\"&lt;module&gt;:2\">\n",
       "<polygon fill=\"peachpuff\" stroke=\"black\" points=\"86,-192 28,-192 28,-152 86,-152 86,-192\"/>\n",
       "<text xml:space=\"preserve\" text-anchor=\"start\" x=\"52.88\" y=\"-175.7\" font-family=\"Courier,monospace\" font-weight=\"bold\" font-size=\"14.00\">x</text>\n",
       "<text xml:space=\"preserve\" text-anchor=\"start\" x=\"36\" y=\"-157.45\" font-family=\"Courier,monospace\" font-size=\"9.00\">&lt;module&gt;</text>\n",
       "</a>\n",
       "</g>\n",
       "</g>\n",
       "<!-- x_functionmoduleat0x10d9f5300_2&#45;&gt;y_functionmoduleat0x10e60cfe0_3 -->\n",
       "<g id=\"edge1\" class=\"edge\">\n",
       "<title>x_functionmoduleat0x10d9f5300_2&#45;&gt;y_functionmoduleat0x10e60cfe0_3</title>\n",
       "<path fill=\"none\" stroke=\"black\" d=\"M49.64,-151.56C46.78,-143.99 43.44,-135.16 40.29,-126.83\"/>\n",
       "<polygon fill=\"black\" stroke=\"black\" points=\"43.66,-125.84 36.84,-117.73 37.11,-128.32 43.66,-125.84\"/>\n",
       "</g>\n",
       "<!-- x_functionmoduleat0x10d9f5300_2&#45;&gt;z_functionmoduleat0x10e60d440_4 -->\n",
       "<g id=\"edge3\" class=\"edge\">\n",
       "<title>x_functionmoduleat0x10d9f5300_2&#45;&gt;z_functionmoduleat0x10e60d440_4</title>\n",
       "<path fill=\"none\" stroke=\"black\" d=\"M61.42,-151.52C63.58,-141.05 65.93,-127.89 67,-116 68.6,-98.29 68.6,-93.71 67,-76 66.28,-68.01 64.98,-59.45 63.56,-51.52\"/>\n",
       "<polygon fill=\"black\" stroke=\"black\" points=\"67.04,-51.12 61.71,-41.97 60.17,-52.45 67.04,-51.12\"/>\n",
       "</g>\n",
       "</g>\n",
       "</svg>\n"
      ],
      "text/plain": [
       "<graphviz.graphs.Digraph at 0x10d99fc50>"
      ]
     },
     "execution_count": 161,
     "metadata": {},
     "output_type": "execute_result"
    }
   ],
   "source": [
    "# ignore\n",
    "_test_data.dependencies().graph()"
   ]
  },
  {
   "cell_type": "markdown",
   "metadata": {
    "slideshow": {
     "slide_type": "subslide"
    }
   },
   "source": [
    "In the remainder of this section, we define methods to\n",
    "\n",
    "* track control dependencies (`test()`, `__enter__()`, `__exit__()`)\n",
    "* track function calls and returns (`call()`, `ret()`)\n",
    "* track function arguments (`arg()`, `param()`)\n",
    "* check the validity of our dependencies (`validate()`).\n",
    "\n",
    "Like our `get()` and `set()` methods above, these work by refining the appropriate methods defined in the `DataTracker` class, building on our `NodeTransformer` transformations."
   ]
  },
  {
   "cell_type": "markdown",
   "metadata": {
    "slideshow": {
     "slide_type": "subslide"
    }
   },
   "source": [
    "### Excursion: Control Dependencies"
   ]
  },
  {
   "cell_type": "markdown",
   "metadata": {
    "slideshow": {
     "slide_type": "fragment"
    }
   },
   "source": [
    "Let us detail control dependencies. As discussed with `DataTracker()`, we invoke `test()` methods for all control conditions, and place the controlled blocks into `with` clauses."
   ]
  },
  {
   "cell_type": "markdown",
   "metadata": {
    "slideshow": {
     "slide_type": "fragment"
    }
   },
   "source": [
    "The `test()` method simply sets a `<test>` variable; this also places it in `last_read`."
   ]
  },
  {
   "cell_type": "code",
   "execution_count": 162,
   "metadata": {
    "execution": {
     "iopub.execute_input": "2025-10-26T17:47:22.173426Z",
     "iopub.status.busy": "2025-10-26T17:47:22.173320Z",
     "iopub.status.idle": "2025-10-26T17:47:22.175218Z",
     "shell.execute_reply": "2025-10-26T17:47:22.175031Z"
    },
    "slideshow": {
     "slide_type": "fragment"
    }
   },
   "outputs": [],
   "source": [
    "class DependencyTracker(DependencyTracker):\n",
    "    def test(self, value: Any) -> Any:\n",
    "        \"\"\"Track a test for condition `value`\"\"\"\n",
    "        self.set(self.TEST, value)\n",
    "        return super().test(value)"
   ]
  },
  {
   "attachments": {},
   "cell_type": "markdown",
   "metadata": {
    "slideshow": {
     "slide_type": "fragment"
    }
   },
   "source": [
    "When entering a `with` block, the set of `last_read` variables holds the `<test>` variable read. We save it in the `control` stack, with the effect of any further variables written now being marked as controlled by `<test>`."
   ]
  },
  {
   "cell_type": "code",
   "execution_count": 163,
   "metadata": {
    "execution": {
     "iopub.execute_input": "2025-10-26T17:47:22.176465Z",
     "iopub.status.busy": "2025-10-26T17:47:22.176381Z",
     "iopub.status.idle": "2025-10-26T17:47:22.177975Z",
     "shell.execute_reply": "2025-10-26T17:47:22.177794Z"
    },
    "slideshow": {
     "slide_type": "subslide"
    }
   },
   "outputs": [],
   "source": [
    "class DependencyTracker(DependencyTracker):\n",
    "    def __enter__(self) -> Any:\n",
    "        \"\"\"Track entering an if/while/for block\"\"\"\n",
    "        self.control.append(self.last_read)\n",
    "        self.clear_read()\n",
    "        return super().__enter__()"
   ]
  },
  {
   "cell_type": "markdown",
   "metadata": {
    "slideshow": {
     "slide_type": "fragment"
    }
   },
   "source": [
    "When we exit the `with` block, we restore earlier `last_read` values, preparing for `else` blocks."
   ]
  },
  {
   "cell_type": "code",
   "execution_count": 164,
   "metadata": {
    "execution": {
     "iopub.execute_input": "2025-10-26T17:47:22.179174Z",
     "iopub.status.busy": "2025-10-26T17:47:22.179103Z",
     "iopub.status.idle": "2025-10-26T17:47:22.180921Z",
     "shell.execute_reply": "2025-10-26T17:47:22.180727Z"
    },
    "slideshow": {
     "slide_type": "subslide"
    }
   },
   "outputs": [],
   "source": [
    "class DependencyTracker(DependencyTracker):\n",
    "    def __exit__(self, exc_type: Type, exc_value: BaseException,\n",
    "                 traceback: TracebackType) -> Optional[bool]:\n",
    "        \"\"\"Track exiting an if/while/for block\"\"\"\n",
    "        self.clear_read()\n",
    "        self.last_read = self.control.pop()\n",
    "        self.ignore_next_location_change()\n",
    "        return super().__exit__(exc_type, exc_value, traceback)"
   ]
  },
  {
   "cell_type": "markdown",
   "metadata": {
    "slideshow": {
     "slide_type": "fragment"
    }
   },
   "source": [
    "Here's an example of all these parts in action:"
   ]
  },
  {
   "cell_type": "code",
   "execution_count": 165,
   "metadata": {
    "execution": {
     "iopub.execute_input": "2025-10-26T17:47:22.182137Z",
     "iopub.status.busy": "2025-10-26T17:47:22.182070Z",
     "iopub.status.idle": "2025-10-26T17:47:22.183679Z",
     "shell.execute_reply": "2025-10-26T17:47:22.183469Z"
    },
    "slideshow": {
     "slide_type": "fragment"
    }
   },
   "outputs": [],
   "source": [
    "_test_data = DependencyTracker()\n",
    "x = _test_data.set('x', 1)\n",
    "y = _test_data.set('y', _test_data.get('x', x))"
   ]
  },
  {
   "cell_type": "code",
   "execution_count": 166,
   "metadata": {
    "execution": {
     "iopub.execute_input": "2025-10-26T17:47:22.184921Z",
     "iopub.status.busy": "2025-10-26T17:47:22.184836Z",
     "iopub.status.idle": "2025-10-26T17:47:22.186585Z",
     "shell.execute_reply": "2025-10-26T17:47:22.186340Z"
    },
    "slideshow": {
     "slide_type": "subslide"
    }
   },
   "outputs": [],
   "source": [
    "if _test_data.test(_test_data.get('x', x) >= _test_data.get('y', y)):\n",
    "    with _test_data:\n",
    "        z = _test_data.set('z',\n",
    "                           _test_data.get('x', x) + _test_data.get('y', y))"
   ]
  },
  {
   "cell_type": "code",
   "execution_count": 167,
   "metadata": {
    "execution": {
     "iopub.execute_input": "2025-10-26T17:47:22.187749Z",
     "iopub.status.busy": "2025-10-26T17:47:22.187679Z",
     "iopub.status.idle": "2025-10-26T17:47:22.189583Z",
     "shell.execute_reply": "2025-10-26T17:47:22.189370Z"
    },
    "slideshow": {
     "slide_type": "fragment"
    }
   },
   "outputs": [
    {
     "data": {
      "text/plain": [
       "{('x', (<function __main__.<module>()>, 2)): set(),\n",
       " ('y', (<function __main__.<module>()>, 3)): set(),\n",
       " ('<test>', (<function __main__.<module>()>, 1)): set(),\n",
       " ('z',\n",
       "  (<function __main__.<module>()>, 3)): {('<test>',\n",
       "   (<function __main__.<module>()>, 1))}}"
      ]
     },
     "execution_count": 167,
     "metadata": {},
     "output_type": "execute_result"
    }
   ],
   "source": [
    "_test_data.control_dependencies"
   ]
  },
  {
   "cell_type": "markdown",
   "metadata": {
    "slideshow": {
     "slide_type": "fragment"
    }
   },
   "source": [
    "The control dependency for `z` is reflected in the dependency graph:"
   ]
  },
  {
   "cell_type": "code",
   "execution_count": 168,
   "metadata": {
    "execution": {
     "iopub.execute_input": "2025-10-26T17:47:22.190778Z",
     "iopub.status.busy": "2025-10-26T17:47:22.190690Z",
     "iopub.status.idle": "2025-10-26T17:47:22.509209Z",
     "shell.execute_reply": "2025-10-26T17:47:22.508911Z"
    },
    "slideshow": {
     "slide_type": "subslide"
    },
    "tags": [
     "remove-input"
    ]
   },
   "outputs": [
    {
     "data": {
      "image/svg+xml": [
       "<?xml version=\"1.0\" encoding=\"UTF-8\" standalone=\"no\"?>\n",
       "<!DOCTYPE svg PUBLIC \"-//W3C//DTD SVG 1.1//EN\"\n",
       " \"http://www.w3.org/Graphics/SVG/1.1/DTD/svg11.dtd\">\n",
       "<!-- Generated by graphviz version 14.0.2 (20251019.1705)\n",
       " -->\n",
       "<!-- Title: dependencies Pages: 1 -->\n",
       "<svg width=\"197pt\" height=\"276pt\"\n",
       " viewBox=\"0.00 0.00 197.00 276.00\" xmlns=\"http://www.w3.org/2000/svg\" xmlns:xlink=\"http://www.w3.org/1999/xlink\">\n",
       "<g id=\"graph0\" class=\"graph\" transform=\"scale(1 1) rotate(0) translate(4 272)\">\n",
       "<title>dependencies</title>\n",
       "<polygon fill=\"white\" stroke=\"none\" points=\"-4,4 -4,-272 192.75,-272 192.75,4 -4,4\"/>\n",
       "<!-- y_functionmoduleat0x10e60cfe0_3 -->\n",
       "<g id=\"node1\" class=\"node\">\n",
       "<title>y_functionmoduleat0x10e60cfe0_3</title>\n",
       "<g id=\"a_node1\"><a xlink:title=\"&lt;module&gt;:3\">\n",
       "<polygon fill=\"peachpuff\" stroke=\"black\" points=\"165.75,-192 107.75,-192 107.75,-152 165.75,-152 165.75,-192\"/>\n",
       "<text xml:space=\"preserve\" text-anchor=\"start\" x=\"132.62\" y=\"-175.7\" font-family=\"Courier,monospace\" font-weight=\"bold\" font-size=\"14.00\">y</text>\n",
       "<text xml:space=\"preserve\" text-anchor=\"start\" x=\"115.75\" y=\"-157.45\" font-family=\"Courier,monospace\" font-size=\"9.00\">&lt;module&gt;</text>\n",
       "</a>\n",
       "</g>\n",
       "</g>\n",
       "<!-- test_functionmoduleat0x10d9f54e0_1 -->\n",
       "<g id=\"node3\" class=\"node\">\n",
       "<title>test_functionmoduleat0x10d9f54e0_1</title>\n",
       "<g id=\"a_node3\"><a xlink:title=\"&lt;module&gt;:1\">\n",
       "<polygon fill=\"peachpuff\" stroke=\"black\" points=\"131.5,-116 0,-116 0,-76 131.5,-76 131.5,-116\"/>\n",
       "<text xml:space=\"preserve\" text-anchor=\"start\" x=\"41\" y=\"-99.7\" font-family=\"Courier,monospace\" font-weight=\"bold\" font-style=\"italic\" font-size=\"14.00\">&lt;test&gt;</text>\n",
       "<text xml:space=\"preserve\" text-anchor=\"start\" x=\"8\" y=\"-81.45\" font-family=\"Courier,monospace\" font-size=\"9.00\">_test_data.get(&#39;x&#39;, x)</text>\n",
       "</a>\n",
       "</g>\n",
       "</g>\n",
       "<!-- y_functionmoduleat0x10e60cfe0_3&#45;&gt;test_functionmoduleat0x10d9f54e0_1 -->\n",
       "<g id=\"edge2\" class=\"edge\">\n",
       "<title>y_functionmoduleat0x10e60cfe0_3&#45;&gt;test_functionmoduleat0x10d9f54e0_1</title>\n",
       "<path fill=\"none\" stroke=\"black\" d=\"M118.1,-151.56C110.19,-143.31 100.83,-133.56 92.22,-124.59\"/>\n",
       "<polygon fill=\"black\" stroke=\"black\" points=\"94.78,-122.2 85.33,-117.4 89.73,-127.04 94.78,-122.2\"/>\n",
       "</g>\n",
       "<!-- z_functionmoduleat0x10e60cfe0_3 -->\n",
       "<g id=\"node4\" class=\"node\">\n",
       "<title>z_functionmoduleat0x10e60cfe0_3</title>\n",
       "<g id=\"a_node4\"><a xlink:title=\"&lt;module&gt;:3\">\n",
       "<polygon fill=\"peachpuff\" stroke=\"black\" points=\"188.75,-40 130.75,-40 130.75,0 188.75,0 188.75,-40\"/>\n",
       "<text xml:space=\"preserve\" text-anchor=\"start\" x=\"155.62\" y=\"-23.7\" font-family=\"Courier,monospace\" font-weight=\"bold\" font-size=\"14.00\">z</text>\n",
       "<text xml:space=\"preserve\" text-anchor=\"start\" x=\"138.75\" y=\"-5.45\" font-family=\"Courier,monospace\" font-size=\"9.00\">&lt;module&gt;</text>\n",
       "</a>\n",
       "</g>\n",
       "</g>\n",
       "<!-- y_functionmoduleat0x10e60cfe0_3&#45;&gt;z_functionmoduleat0x10e60cfe0_3 -->\n",
       "<g id=\"edge4\" class=\"edge\">\n",
       "<title>y_functionmoduleat0x10e60cfe0_3&#45;&gt;z_functionmoduleat0x10e60cfe0_3</title>\n",
       "<path fill=\"none\" stroke=\"black\" d=\"M139.71,-151.7C143.61,-126.27 150.51,-81.28 155.1,-51.29\"/>\n",
       "<polygon fill=\"black\" stroke=\"black\" points=\"158.52,-52.14 156.57,-41.72 151.6,-51.08 158.52,-52.14\"/>\n",
       "</g>\n",
       "<!-- x_functionmoduleat0x10d9f5300_2 -->\n",
       "<g id=\"node2\" class=\"node\">\n",
       "<title>x_functionmoduleat0x10d9f5300_2</title>\n",
       "<g id=\"a_node2\"><a xlink:title=\"&lt;module&gt;:2\">\n",
       "<polygon fill=\"peachpuff\" stroke=\"black\" points=\"165.75,-268 107.75,-268 107.75,-228 165.75,-228 165.75,-268\"/>\n",
       "<text xml:space=\"preserve\" text-anchor=\"start\" x=\"132.62\" y=\"-251.7\" font-family=\"Courier,monospace\" font-weight=\"bold\" font-size=\"14.00\">x</text>\n",
       "<text xml:space=\"preserve\" text-anchor=\"start\" x=\"115.75\" y=\"-233.45\" font-family=\"Courier,monospace\" font-size=\"9.00\">&lt;module&gt;</text>\n",
       "</a>\n",
       "</g>\n",
       "</g>\n",
       "<!-- x_functionmoduleat0x10d9f5300_2&#45;&gt;y_functionmoduleat0x10e60cfe0_3 -->\n",
       "<g id=\"edge1\" class=\"edge\">\n",
       "<title>x_functionmoduleat0x10d9f5300_2&#45;&gt;y_functionmoduleat0x10e60cfe0_3</title>\n",
       "<path fill=\"none\" stroke=\"black\" d=\"M136.75,-227.56C136.75,-220.25 136.75,-211.75 136.75,-203.67\"/>\n",
       "<polygon fill=\"black\" stroke=\"black\" points=\"140.25,-203.83 136.75,-193.83 133.25,-203.83 140.25,-203.83\"/>\n",
       "</g>\n",
       "<!-- x_functionmoduleat0x10d9f5300_2&#45;&gt;test_functionmoduleat0x10d9f54e0_1 -->\n",
       "<g id=\"edge3\" class=\"edge\">\n",
       "<title>x_functionmoduleat0x10d9f5300_2&#45;&gt;test_functionmoduleat0x10d9f54e0_1</title>\n",
       "<path fill=\"none\" stroke=\"black\" d=\"M121.49,-227.69C113.94,-217.5 105.1,-204.52 98.75,-192 88.22,-171.24 79.71,-146.34 73.97,-127.23\"/>\n",
       "<polygon fill=\"black\" stroke=\"black\" points=\"77.33,-126.26 71.18,-117.63 70.61,-128.21 77.33,-126.26\"/>\n",
       "</g>\n",
       "<!-- x_functionmoduleat0x10d9f5300_2&#45;&gt;z_functionmoduleat0x10e60cfe0_3 -->\n",
       "<g id=\"edge5\" class=\"edge\">\n",
       "<title>x_functionmoduleat0x10d9f5300_2&#45;&gt;z_functionmoduleat0x10e60cfe0_3</title>\n",
       "<path fill=\"none\" stroke=\"black\" d=\"M154.42,-227.68C162.28,-217.78 170.67,-205.07 174.75,-192 189.58,-144.46 178.65,-86.12 169.28,-51.34\"/>\n",
       "<polygon fill=\"black\" stroke=\"black\" points=\"172.72,-50.61 166.62,-41.95 165.98,-52.53 172.72,-50.61\"/>\n",
       "</g>\n",
       "<!-- test_functionmoduleat0x10d9f54e0_1&#45;&gt;z_functionmoduleat0x10e60cfe0_3 -->\n",
       "<g id=\"edge6\" class=\"edge\">\n",
       "<title>test_functionmoduleat0x10d9f54e0_1&#45;&gt;z_functionmoduleat0x10e60cfe0_3</title>\n",
       "<path fill=\"none\" stroke=\"grey\" stroke-dasharray=\"5,2\" d=\"M90.45,-75.56C101.46,-66.89 114.59,-56.55 126.45,-47.21\"/>\n",
       "<polygon fill=\"grey\" stroke=\"grey\" points=\"128.34,-50.18 134.03,-41.25 124.01,-44.68 128.34,-50.18\"/>\n",
       "</g>\n",
       "</g>\n",
       "</svg>\n"
      ],
      "text/plain": [
       "Dependencies(\n",
       "    data={\n",
       "        ('x', (<module>, 2)): set(),\n",
       "        ('y', (<module>, 3)): {('x', (<module>, 2))},\n",
       "        ('<test>', (<module>, 1)): {('y', (<module>, 3)), ('x', (<module>, 2))},\n",
       "        ('z', (<module>, 3)): {('y', (<module>, 3)), ('x', (<module>, 2))}},\n",
       " control={\n",
       "        ('x', (<module>, 2)): set(),\n",
       "        ('y', (<module>, 3)): set(),\n",
       "        ('<test>', (<module>, 1)): set(),\n",
       "        ('z', (<module>, 3)): {('<test>', (<module>, 1))}})"
      ]
     },
     "execution_count": 168,
     "metadata": {},
     "output_type": "execute_result"
    }
   ],
   "source": [
    "# ignore\n",
    "_test_data.dependencies()"
   ]
  },
  {
   "cell_type": "markdown",
   "metadata": {
    "slideshow": {
     "slide_type": "subslide"
    }
   },
   "source": [
    "### End of Excursion"
   ]
  },
  {
   "cell_type": "markdown",
   "metadata": {
    "slideshow": {
     "slide_type": "subslide"
    }
   },
   "source": [
    "### Excursion: Calls and Returns"
   ]
  },
  {
   "cell_type": "code",
   "execution_count": 169,
   "metadata": {
    "execution": {
     "iopub.execute_input": "2025-10-26T17:47:22.510729Z",
     "iopub.status.busy": "2025-10-26T17:47:22.510610Z",
     "iopub.status.idle": "2025-10-26T17:47:22.512249Z",
     "shell.execute_reply": "2025-10-26T17:47:22.512043Z"
    },
    "slideshow": {
     "slide_type": "skip"
    }
   },
   "outputs": [],
   "source": [
    "import copy"
   ]
  },
  {
   "cell_type": "markdown",
   "metadata": {
    "slideshow": {
     "slide_type": "fragment"
    }
   },
   "source": [
    "To handle complex expressions involving functions, we introduce a _data stack_. Every time we invoke a function `func` (`call()` is invoked), we save the list of current variables read `last_read` on the `data` stack; when we return (`ret()` is invoked), we restore `last_read`. This also ensures that only those variables read while evaluating arguments will flow into the function call."
   ]
  },
  {
   "cell_type": "code",
   "execution_count": 170,
   "metadata": {
    "execution": {
     "iopub.execute_input": "2025-10-26T17:47:22.513482Z",
     "iopub.status.busy": "2025-10-26T17:47:22.513405Z",
     "iopub.status.idle": "2025-10-26T17:47:22.515779Z",
     "shell.execute_reply": "2025-10-26T17:47:22.515560Z"
    },
    "slideshow": {
     "slide_type": "subslide"
    }
   },
   "outputs": [],
   "source": [
    "class DependencyTracker(DependencyTracker):\n",
    "    def call(self, func: Callable) -> Callable:\n",
    "        \"\"\"Track a call of function `func`\"\"\"\n",
    "        func = super().call(func)\n",
    "\n",
    "        if inspect.isgeneratorfunction(func):\n",
    "            return self.call_generator(func)\n",
    "\n",
    "        # Save context\n",
    "        if self.log:\n",
    "            caller_func, lineno = self.caller_location()\n",
    "            print(f\"{caller_func.__name__}:{lineno}: \"\n",
    "                  f\"saving read variables {self.last_read}\")\n",
    "\n",
    "        self.data.append(self.last_read)\n",
    "        self.clear_read()\n",
    "        self.ignore_next_location_change()\n",
    "\n",
    "        self.frames.append(self.args)\n",
    "        self.args = {}\n",
    "\n",
    "        return func"
   ]
  },
  {
   "cell_type": "code",
   "execution_count": 171,
   "metadata": {
    "execution": {
     "iopub.execute_input": "2025-10-26T17:47:22.516937Z",
     "iopub.status.busy": "2025-10-26T17:47:22.516853Z",
     "iopub.status.idle": "2025-10-26T17:47:22.519313Z",
     "shell.execute_reply": "2025-10-26T17:47:22.519129Z"
    },
    "slideshow": {
     "slide_type": "subslide"
    }
   },
   "outputs": [],
   "source": [
    "class DependencyTracker(DependencyTracker):\n",
    "    def ret(self, value: Any) -> Any:\n",
    "        \"\"\"Track a function return\"\"\"\n",
    "        value = super().ret(value)\n",
    "\n",
    "        if self.in_generator():\n",
    "            return self.ret_generator(value)\n",
    "\n",
    "        # Restore old context and add return value\n",
    "        ret_name = None\n",
    "        for var in self.last_read:\n",
    "            if var.startswith(\"<\"):  # \"<return value>\"\n",
    "                ret_name = var\n",
    "\n",
    "        self.last_read = self.data.pop()\n",
    "        if ret_name:\n",
    "            self.last_read.append(ret_name)\n",
    "\n",
    "        if self.args:\n",
    "            # We return from an uninstrumented function:\n",
    "            # Make return value depend on all args\n",
    "            for key, deps in self.args.items():\n",
    "                self.last_read += deps\n",
    "\n",
    "        self.ignore_location_change()\n",
    "\n",
    "        self.args = self.frames.pop()\n",
    "\n",
    "        if self.log:\n",
    "            caller_func, lineno = self.caller_location()\n",
    "            print(f\"{caller_func.__name__}:{lineno}: \"\n",
    "                  f\"restored read variables {self.last_read}\")\n",
    "\n",
    "        return value"
   ]
  },
  {
   "cell_type": "markdown",
   "metadata": {
    "slideshow": {
     "slide_type": "subslide"
    }
   },
   "source": [
    "Generator functions (those which `yield` a value) are not \"called\" in the sense that Python transfers control to them; instead, a \"call\" to a generator function creates a generator that is evaluated on demand. We mark generator function \"calls\" by saving `None` on the stacks. When the generator function returns the generator, we wrap the generator such that the arguments are being restored when it is invoked."
   ]
  },
  {
   "cell_type": "code",
   "execution_count": 172,
   "metadata": {
    "execution": {
     "iopub.execute_input": "2025-10-26T17:47:22.520470Z",
     "iopub.status.busy": "2025-10-26T17:47:22.520396Z",
     "iopub.status.idle": "2025-10-26T17:47:22.523539Z",
     "shell.execute_reply": "2025-10-26T17:47:22.523334Z"
    },
    "slideshow": {
     "slide_type": "subslide"
    }
   },
   "outputs": [],
   "source": [
    "class DependencyTracker(DependencyTracker):\n",
    "    def in_generator(self) -> bool:\n",
    "        \"\"\"True if we are calling a generator function\"\"\"\n",
    "        return len(self.data) > 0 and self.data[-1] is None\n",
    "\n",
    "    def call_generator(self, func: Callable) -> Callable:\n",
    "        \"\"\"Track a call of a generator function\"\"\"\n",
    "        # Mark the fact that we're in a generator with `None` values\n",
    "        self.data.append(None)  # type: ignore\n",
    "        self.frames.append(None)  # type: ignore\n",
    "        assert self.in_generator()\n",
    "\n",
    "        self.clear_read()\n",
    "        return func\n",
    "\n",
    "    def ret_generator(self, generator: Any) -> Any:\n",
    "        \"\"\"Track the return of a generator function\"\"\"\n",
    "        # Pop the two 'None' values pushed earlier\n",
    "        self.data.pop()\n",
    "        self.frames.pop()\n",
    "\n",
    "        if self.log:\n",
    "            caller_func, lineno = self.caller_location()\n",
    "            print(f\"{caller_func.__name__}:{lineno}: \"\n",
    "                  f\"wrapping generator {generator} (args={self.args})\")\n",
    "\n",
    "        # At this point, we already have collected the args.\n",
    "        # The returned generator depends on all of them.\n",
    "        for arg in self.args:\n",
    "            self.last_read += self.args[arg]\n",
    "\n",
    "        # Wrap the generator such that the args are restored \n",
    "        # when it is actually invoked, such that we can map them\n",
    "        # to parameters.\n",
    "        saved_args = copy.deepcopy(self.args)\n",
    "\n",
    "        def wrapper() -> Generator[Any, None, None]:\n",
    "            self.args = saved_args\n",
    "            if self.log:\n",
    "                caller_func, lineno = self.caller_location()\n",
    "                print(f\"{caller_func.__name__}:{lineno}: \"\n",
    "                  f\"calling generator (args={self.args})\")\n",
    "\n",
    "            self.ignore_next_location_change()\n",
    "            yield from generator\n",
    "\n",
    "        return wrapper()"
   ]
  },
  {
   "cell_type": "markdown",
   "metadata": {
    "slideshow": {
     "slide_type": "subslide"
    }
   },
   "source": [
    "We see an example of how function calls and returns work in conjunction with function arguments, discussed in the next section."
   ]
  },
  {
   "cell_type": "markdown",
   "metadata": {
    "slideshow": {
     "slide_type": "subslide"
    }
   },
   "source": [
    "### End of Excursion"
   ]
  },
  {
   "cell_type": "markdown",
   "metadata": {
    "slideshow": {
     "slide_type": "subslide"
    }
   },
   "source": [
    "### Excursion: Function Arguments"
   ]
  },
  {
   "cell_type": "markdown",
   "metadata": {
    "slideshow": {
     "slide_type": "fragment"
    }
   },
   "source": [
    "Finally, we handle parameters and arguments. The `args` stack holds the current stack of function arguments, holding the `last_read` variable for each argument."
   ]
  },
  {
   "cell_type": "code",
   "execution_count": 173,
   "metadata": {
    "execution": {
     "iopub.execute_input": "2025-10-26T17:47:22.524994Z",
     "iopub.status.busy": "2025-10-26T17:47:22.524909Z",
     "iopub.status.idle": "2025-10-26T17:47:22.527090Z",
     "shell.execute_reply": "2025-10-26T17:47:22.526897Z"
    },
    "slideshow": {
     "slide_type": "subslide"
    }
   },
   "outputs": [],
   "source": [
    "class DependencyTracker(DependencyTracker):\n",
    "    def arg(self, value: Any, pos: Optional[int] = None, kw: Optional[str] = None) -> Any:\n",
    "        \"\"\"\n",
    "        Track passing an argument `value`\n",
    "        (with given position `pos` 1..n or keyword `kw`)\n",
    "        \"\"\"\n",
    "        if self.log:\n",
    "            caller_func, lineno = self.caller_location()\n",
    "            print(f\"{caller_func.__name__}:{lineno}: \"\n",
    "                  f\"saving args read {self.last_read}\")\n",
    "\n",
    "        if pos:\n",
    "            self.args[pos] = self.last_read\n",
    "        if kw:\n",
    "            self.args[kw] = self.last_read\n",
    "\n",
    "        self.clear_read()\n",
    "        return super().arg(value, pos, kw)"
   ]
  },
  {
   "cell_type": "markdown",
   "metadata": {
    "slideshow": {
     "slide_type": "subslide"
    }
   },
   "source": [
    "When accessing the arguments (with `param()`), we can retrieve this set of read variables for each argument."
   ]
  },
  {
   "cell_type": "code",
   "execution_count": 174,
   "metadata": {
    "execution": {
     "iopub.execute_input": "2025-10-26T17:47:22.528316Z",
     "iopub.status.busy": "2025-10-26T17:47:22.528235Z",
     "iopub.status.idle": "2025-10-26T17:47:22.531060Z",
     "shell.execute_reply": "2025-10-26T17:47:22.530881Z"
    },
    "slideshow": {
     "slide_type": "subslide"
    }
   },
   "outputs": [],
   "source": [
    "class DependencyTracker(DependencyTracker):\n",
    "    def param(self, name: str, value: Any,\n",
    "              pos: Optional[int] = None, vararg: str = \"\", last: bool = False) -> Any:\n",
    "        \"\"\"\n",
    "        Track getting a parameter `name` with value `value`\n",
    "        (with given position `pos`).\n",
    "        vararg parameters are indicated by setting `varargs` to \n",
    "        '*' (*args) or '**' (**kwargs)\n",
    "        \"\"\"\n",
    "        self.clear_read()\n",
    "\n",
    "        if vararg == '*':\n",
    "            # We over-approximate by setting `args` to _all_ positional args\n",
    "            for index in self.args:\n",
    "                if isinstance(index, int) and pos is not None and index >= pos:\n",
    "                    self.last_read += self.args[index]\n",
    "        elif vararg == '**':\n",
    "            # We over-approximate by setting `kwargs` to _all_ passed keyword args\n",
    "            for index in self.args:\n",
    "                if isinstance(index, str):\n",
    "                    self.last_read += self.args[index]\n",
    "        elif name in self.args:\n",
    "            self.last_read = self.args[name]\n",
    "        elif pos in self.args:\n",
    "            self.last_read = self.args[pos]\n",
    "\n",
    "        if self.log:\n",
    "            caller_func, lineno = self.caller_location()\n",
    "            print(f\"{caller_func.__name__}:{lineno}: \"\n",
    "                  f\"restored params read {self.last_read}\")\n",
    "\n",
    "        self.ignore_location_change()\n",
    "        ret = super().param(name, value, pos)\n",
    "\n",
    "        if last:\n",
    "            self.clear_read()\n",
    "            self.args = {}  # Mark `args` as processed\n",
    "\n",
    "        return ret"
   ]
  },
  {
   "cell_type": "markdown",
   "metadata": {
    "slideshow": {
     "slide_type": "subslide"
    }
   },
   "source": [
    "Let us illustrate all these on a small example."
   ]
  },
  {
   "cell_type": "code",
   "execution_count": 175,
   "metadata": {
    "execution": {
     "iopub.execute_input": "2025-10-26T17:47:22.532261Z",
     "iopub.status.busy": "2025-10-26T17:47:22.532188Z",
     "iopub.status.idle": "2025-10-26T17:47:22.534321Z",
     "shell.execute_reply": "2025-10-26T17:47:22.534082Z"
    },
    "slideshow": {
     "slide_type": "subslide"
    }
   },
   "outputs": [],
   "source": [
    "def call_test() -> int:\n",
    "    c = 47\n",
    "\n",
    "    def sq(n: int) -> int:\n",
    "        return n * n\n",
    "\n",
    "    def gen(e: int) -> Generator[int, None, None]:\n",
    "        yield e * c\n",
    "\n",
    "    def just_x(x: Any, y: Any) -> Any:\n",
    "        return x\n",
    "\n",
    "    a = 42\n",
    "    b = gen(a)\n",
    "    d = list(b)[0]\n",
    "\n",
    "    xs = [1, 2, 3, 4]\n",
    "    ys = [sq(elem) for elem in xs if elem > 2]\n",
    "\n",
    "    return just_x(just_x(d, y=b), ys[0])"
   ]
  },
  {
   "cell_type": "code",
   "execution_count": 176,
   "metadata": {
    "execution": {
     "iopub.execute_input": "2025-10-26T17:47:22.535580Z",
     "iopub.status.busy": "2025-10-26T17:47:22.535495Z",
     "iopub.status.idle": "2025-10-26T17:47:22.537371Z",
     "shell.execute_reply": "2025-10-26T17:47:22.537161Z"
    },
    "slideshow": {
     "slide_type": "subslide"
    }
   },
   "outputs": [
    {
     "data": {
      "text/plain": [
       "1974"
      ]
     },
     "execution_count": 176,
     "metadata": {},
     "output_type": "execute_result"
    }
   ],
   "source": [
    "call_test()"
   ]
  },
  {
   "cell_type": "markdown",
   "metadata": {
    "slideshow": {
     "slide_type": "fragment"
    }
   },
   "source": [
    "We apply all our transformers on this code:"
   ]
  },
  {
   "cell_type": "code",
   "execution_count": 177,
   "metadata": {
    "execution": {
     "iopub.execute_input": "2025-10-26T17:47:22.538623Z",
     "iopub.status.busy": "2025-10-26T17:47:22.538548Z",
     "iopub.status.idle": "2025-10-26T17:47:22.559779Z",
     "shell.execute_reply": "2025-10-26T17:47:22.559522Z"
    },
    "slideshow": {
     "slide_type": "subslide"
    }
   },
   "outputs": [
    {
     "name": "stdout",
     "output_type": "stream",
     "text": [
      "\u001b[34mdef\u001b[39;49;00m\u001b[37m \u001b[39;49;00m\u001b[32mcall_test\u001b[39;49;00m() -> \u001b[36mint\u001b[39;49;00m:\u001b[37m\u001b[39;49;00m\n",
      "    c = _data.set(\u001b[33m'\u001b[39;49;00m\u001b[33mc\u001b[39;49;00m\u001b[33m'\u001b[39;49;00m, \u001b[34m47\u001b[39;49;00m)\u001b[37m\u001b[39;49;00m\n",
      "\u001b[37m\u001b[39;49;00m\n",
      "    \u001b[34mdef\u001b[39;49;00m\u001b[37m \u001b[39;49;00m\u001b[32msq\u001b[39;49;00m(n: \u001b[36mint\u001b[39;49;00m) -> \u001b[36mint\u001b[39;49;00m:\u001b[37m\u001b[39;49;00m\n",
      "        _data.param(\u001b[33m'\u001b[39;49;00m\u001b[33mn\u001b[39;49;00m\u001b[33m'\u001b[39;49;00m, n, pos=\u001b[34m1\u001b[39;49;00m, last=\u001b[34mTrue\u001b[39;49;00m)\u001b[37m\u001b[39;49;00m\n",
      "        \u001b[34mreturn\u001b[39;49;00m _data.set(\u001b[33m'\u001b[39;49;00m\u001b[33m<sq() return value>\u001b[39;49;00m\u001b[33m'\u001b[39;49;00m, _data.get(\u001b[33m'\u001b[39;49;00m\u001b[33mn\u001b[39;49;00m\u001b[33m'\u001b[39;49;00m, n) * _data.get(\u001b[33m'\u001b[39;49;00m\u001b[33mn\u001b[39;49;00m\u001b[33m'\u001b[39;49;00m, n))\u001b[37m\u001b[39;49;00m\n",
      "\u001b[37m\u001b[39;49;00m\n",
      "    \u001b[34mdef\u001b[39;49;00m\u001b[37m \u001b[39;49;00m\u001b[32mgen\u001b[39;49;00m(e: \u001b[36mint\u001b[39;49;00m) -> Generator[\u001b[36mint\u001b[39;49;00m, \u001b[34mNone\u001b[39;49;00m, \u001b[34mNone\u001b[39;49;00m]:\u001b[37m\u001b[39;49;00m\n",
      "        _data.param(\u001b[33m'\u001b[39;49;00m\u001b[33me\u001b[39;49;00m\u001b[33m'\u001b[39;49;00m, e, pos=\u001b[34m1\u001b[39;49;00m, last=\u001b[34mTrue\u001b[39;49;00m)\u001b[37m\u001b[39;49;00m\n",
      "        \u001b[34myield\u001b[39;49;00m _data.set(\u001b[33m'\u001b[39;49;00m\u001b[33m<gen() yield value>\u001b[39;49;00m\u001b[33m'\u001b[39;49;00m, _data.get(\u001b[33m'\u001b[39;49;00m\u001b[33me\u001b[39;49;00m\u001b[33m'\u001b[39;49;00m, e) * _data.get(\u001b[33m'\u001b[39;49;00m\u001b[33mc\u001b[39;49;00m\u001b[33m'\u001b[39;49;00m, c))\u001b[37m\u001b[39;49;00m\n",
      "\u001b[37m\u001b[39;49;00m\n",
      "    \u001b[34mdef\u001b[39;49;00m\u001b[37m \u001b[39;49;00m\u001b[32mjust_x\u001b[39;49;00m(x: Any, y: Any) -> Any:\u001b[37m\u001b[39;49;00m\n",
      "        _data.param(\u001b[33m'\u001b[39;49;00m\u001b[33mx\u001b[39;49;00m\u001b[33m'\u001b[39;49;00m, x, pos=\u001b[34m1\u001b[39;49;00m)\u001b[37m\u001b[39;49;00m\n",
      "        _data.param(\u001b[33m'\u001b[39;49;00m\u001b[33my\u001b[39;49;00m\u001b[33m'\u001b[39;49;00m, y, pos=\u001b[34m2\u001b[39;49;00m, last=\u001b[34mTrue\u001b[39;49;00m)\u001b[37m\u001b[39;49;00m\n",
      "        \u001b[34mreturn\u001b[39;49;00m _data.set(\u001b[33m'\u001b[39;49;00m\u001b[33m<just_x() return value>\u001b[39;49;00m\u001b[33m'\u001b[39;49;00m, _data.get(\u001b[33m'\u001b[39;49;00m\u001b[33mx\u001b[39;49;00m\u001b[33m'\u001b[39;49;00m, x))\u001b[37m\u001b[39;49;00m\n",
      "    a = _data.set(\u001b[33m'\u001b[39;49;00m\u001b[33ma\u001b[39;49;00m\u001b[33m'\u001b[39;49;00m, \u001b[34m42\u001b[39;49;00m)\u001b[37m\u001b[39;49;00m\n",
      "    b = _data.set(\u001b[33m'\u001b[39;49;00m\u001b[33mb\u001b[39;49;00m\u001b[33m'\u001b[39;49;00m, _data.ret(_data.call(_data.get(\u001b[33m'\u001b[39;49;00m\u001b[33mgen\u001b[39;49;00m\u001b[33m'\u001b[39;49;00m, gen))(_data.arg(_data.get(\u001b[33m'\u001b[39;49;00m\u001b[33ma\u001b[39;49;00m\u001b[33m'\u001b[39;49;00m, a), pos=\u001b[34m1\u001b[39;49;00m))))\u001b[37m\u001b[39;49;00m\n",
      "    d = _data.set(\u001b[33m'\u001b[39;49;00m\u001b[33md\u001b[39;49;00m\u001b[33m'\u001b[39;49;00m, _data.ret(_data.call(\u001b[36mlist\u001b[39;49;00m)(_data.arg(_data.get(\u001b[33m'\u001b[39;49;00m\u001b[33mb\u001b[39;49;00m\u001b[33m'\u001b[39;49;00m, b), pos=\u001b[34m1\u001b[39;49;00m)))[\u001b[34m0\u001b[39;49;00m])\u001b[37m\u001b[39;49;00m\n",
      "    xs = _data.set(\u001b[33m'\u001b[39;49;00m\u001b[33mxs\u001b[39;49;00m\u001b[33m'\u001b[39;49;00m, [\u001b[34m1\u001b[39;49;00m, \u001b[34m2\u001b[39;49;00m, \u001b[34m3\u001b[39;49;00m, \u001b[34m4\u001b[39;49;00m])\u001b[37m\u001b[39;49;00m\n",
      "    ys = _data.set(\u001b[33m'\u001b[39;49;00m\u001b[33mys\u001b[39;49;00m\u001b[33m'\u001b[39;49;00m, [_data.ret(_data.call(_data.get(\u001b[33m'\u001b[39;49;00m\u001b[33msq\u001b[39;49;00m\u001b[33m'\u001b[39;49;00m, sq))(_data.arg(_data.get(\u001b[33m'\u001b[39;49;00m\u001b[33melem\u001b[39;49;00m\u001b[33m'\u001b[39;49;00m, elem), pos=\u001b[34m1\u001b[39;49;00m))) \u001b[34mfor\u001b[39;49;00m elem \u001b[35min\u001b[39;49;00m _data.set(\u001b[33m'\u001b[39;49;00m\u001b[33melem\u001b[39;49;00m\u001b[33m'\u001b[39;49;00m, _data.get(\u001b[33m'\u001b[39;49;00m\u001b[33mxs\u001b[39;49;00m\u001b[33m'\u001b[39;49;00m, xs)) \u001b[34mif\u001b[39;49;00m _data.get(\u001b[33m'\u001b[39;49;00m\u001b[33melem\u001b[39;49;00m\u001b[33m'\u001b[39;49;00m, elem) > \u001b[34m2\u001b[39;49;00m])\u001b[37m\u001b[39;49;00m\n",
      "    \u001b[34mreturn\u001b[39;49;00m _data.set(\u001b[33m'\u001b[39;49;00m\u001b[33m<call_test() return value>\u001b[39;49;00m\u001b[33m'\u001b[39;49;00m, _data.ret(_data.call(_data.get(\u001b[33m'\u001b[39;49;00m\u001b[33mjust_x\u001b[39;49;00m\u001b[33m'\u001b[39;49;00m, just_x))(_data.arg(_data.ret(_data.call(_data.get(\u001b[33m'\u001b[39;49;00m\u001b[33mjust_x\u001b[39;49;00m\u001b[33m'\u001b[39;49;00m, just_x))(_data.arg(_data.get(\u001b[33m'\u001b[39;49;00m\u001b[33md\u001b[39;49;00m\u001b[33m'\u001b[39;49;00m, d), pos=\u001b[34m1\u001b[39;49;00m), y=_data.arg(_data.get(\u001b[33m'\u001b[39;49;00m\u001b[33mb\u001b[39;49;00m\u001b[33m'\u001b[39;49;00m, b), kw=\u001b[33m'\u001b[39;49;00m\u001b[33my\u001b[39;49;00m\u001b[33m'\u001b[39;49;00m))), pos=\u001b[34m1\u001b[39;49;00m), _data.arg(_data.get(\u001b[33m'\u001b[39;49;00m\u001b[33mys\u001b[39;49;00m\u001b[33m'\u001b[39;49;00m, ys)[\u001b[34m0\u001b[39;49;00m], pos=\u001b[34m2\u001b[39;49;00m))))\u001b[37m\u001b[39;49;00m"
     ]
    },
    {
     "name": "stderr",
     "output_type": "stream",
     "text": [
      "/var/folders/n2/xd9445p97rb3xh7m1dfx8_4h0006ts/T/ipykernel_51412/2498757139.py:9: DeprecationWarning: ast.Num is deprecated and will be removed in Python 3.14; use ast.Constant instead\n",
      "  keywords.append(keyword(arg='pos', value=ast.Num(pos)))\n",
      "/var/folders/n2/xd9445p97rb3xh7m1dfx8_4h0006ts/T/ipykernel_51412/2498757139.py:11: DeprecationWarning: ast.Str is deprecated and will be removed in Python 3.14; use ast.Constant instead\n",
      "  keywords.append(keyword(arg='kw', value=ast.Str(kw)))\n",
      "/var/folders/n2/xd9445p97rb3xh7m1dfx8_4h0006ts/T/ipykernel_51412/2454789564.py:22: DeprecationWarning: ast.Str is deprecated and will be removed in Python 3.14; use ast.Constant instead\n",
      "  args=[ast.Str(id), value],\n",
      "/var/folders/n2/xd9445p97rb3xh7m1dfx8_4h0006ts/T/ipykernel_51412/3554319793.py:4: DeprecationWarning: ast.Str is deprecated and will be removed in Python 3.14; use ast.Constant instead\n",
      "  args=[ast.Str(id), Name(id=id, ctx=Load())],\n",
      "/var/folders/n2/xd9445p97rb3xh7m1dfx8_4h0006ts/T/ipykernel_51412/882995308.py:12: DeprecationWarning: ast.Num is deprecated and will be removed in Python 3.14; use ast.Constant instead\n",
      "  keywords=[keyword(arg='pos', value=ast.Num(n + 1))]\n",
      "/var/folders/n2/xd9445p97rb3xh7m1dfx8_4h0006ts/T/ipykernel_51412/882995308.py:19: DeprecationWarning: ast.NameConstant is deprecated and will be removed in Python 3.14; use ast.Constant instead\n",
      "  value=ast.NameConstant(value=True)))\n",
      "/var/folders/n2/xd9445p97rb3xh7m1dfx8_4h0006ts/T/ipykernel_51412/882995308.py:25: DeprecationWarning: ast.Str is deprecated and will be removed in Python 3.14; use ast.Constant instead\n",
      "  args=[ast.Str(child.arg),\n"
     ]
    }
   ],
   "source": [
    "call_tree = ast.parse(inspect.getsource(call_test))\n",
    "TrackCallTransformer().visit(call_tree)\n",
    "TrackSetTransformer().visit(call_tree)\n",
    "TrackGetTransformer().visit(call_tree)\n",
    "TrackControlTransformer().visit(call_tree)\n",
    "TrackReturnTransformer().visit(call_tree)\n",
    "TrackParamsTransformer().visit(call_tree)\n",
    "dump_tree(call_tree)"
   ]
  },
  {
   "cell_type": "markdown",
   "metadata": {
    "slideshow": {
     "slide_type": "subslide"
    }
   },
   "source": [
    "Again, we capture the dependencies:"
   ]
  },
  {
   "cell_type": "code",
   "execution_count": 178,
   "metadata": {
    "execution": {
     "iopub.execute_input": "2025-10-26T17:47:22.561147Z",
     "iopub.status.busy": "2025-10-26T17:47:22.561042Z",
     "iopub.status.idle": "2025-10-26T17:47:22.562667Z",
     "shell.execute_reply": "2025-10-26T17:47:22.562465Z"
    },
    "slideshow": {
     "slide_type": "fragment"
    }
   },
   "outputs": [],
   "source": [
    "class DependencyTrackerTester(DataTrackerTester):\n",
    "    def make_data_tracker(self) -> DependencyTracker:\n",
    "        return DependencyTracker(log=self.log)"
   ]
  },
  {
   "cell_type": "code",
   "execution_count": 179,
   "metadata": {
    "execution": {
     "iopub.execute_input": "2025-10-26T17:47:22.563898Z",
     "iopub.status.busy": "2025-10-26T17:47:22.563823Z",
     "iopub.status.idle": "2025-10-26T17:47:22.566147Z",
     "shell.execute_reply": "2025-10-26T17:47:22.565937Z"
    },
    "slideshow": {
     "slide_type": "fragment"
    }
   },
   "outputs": [],
   "source": [
    "with DependencyTrackerTester(call_tree, call_test, log=False) as call_deps:\n",
    "    call_test()"
   ]
  },
  {
   "cell_type": "markdown",
   "metadata": {
    "slideshow": {
     "slide_type": "fragment"
    }
   },
   "source": [
    "We see how \n",
    "\n",
    "* `a` flows into the generator `b` and into the parameter `e` of `gen()`.\n",
    "* `xs` flows into `elem` which in turn flows into the parameter `n` of `sq()`. Both flow into `ys`.\n",
    "* `just_x()` returns only its `x` argument."
   ]
  },
  {
   "cell_type": "code",
   "execution_count": 180,
   "metadata": {
    "execution": {
     "iopub.execute_input": "2025-10-26T17:47:22.567370Z",
     "iopub.status.busy": "2025-10-26T17:47:22.567295Z",
     "iopub.status.idle": "2025-10-26T17:47:22.904121Z",
     "shell.execute_reply": "2025-10-26T17:47:22.903731Z"
    },
    "slideshow": {
     "slide_type": "subslide"
    }
   },
   "outputs": [
    {
     "data": {
      "image/svg+xml": [
       "<?xml version=\"1.0\" encoding=\"UTF-8\" standalone=\"no\"?>\n",
       "<!DOCTYPE svg PUBLIC \"-//W3C//DTD SVG 1.1//EN\"\n",
       " \"http://www.w3.org/Graphics/SVG/1.1/DTD/svg11.dtd\">\n",
       "<!-- Generated by graphviz version 14.0.2 (20251019.1705)\n",
       " -->\n",
       "<!-- Title: dependencies Pages: 1 -->\n",
       "<svg width=\"496pt\" height=\"808pt\"\n",
       " viewBox=\"0.00 0.00 496.00 808.00\" xmlns=\"http://www.w3.org/2000/svg\" xmlns:xlink=\"http://www.w3.org/1999/xlink\">\n",
       "<g id=\"graph0\" class=\"graph\" transform=\"scale(1 1) rotate(0) translate(4 804)\">\n",
       "<title>dependencies</title>\n",
       "<polygon fill=\"white\" stroke=\"none\" points=\"-4,4 -4,-804 491.88,-804 491.88,4 -4,4\"/>\n",
       "<!-- x_functioncall_testlocalsjust_xat0x10e60ea20_11 -->\n",
       "<g id=\"node1\" class=\"node\">\n",
       "<title>x_functioncall_testlocalsjust_xat0x10e60ea20_11</title>\n",
       "<g id=\"a_node1\"><a xlink:title=\"just_x:11\">\n",
       "<polygon fill=\"peachpuff\" stroke=\"black\" points=\"131.88,-420 73.88,-420 73.88,-380 131.88,-380 131.88,-420\"/>\n",
       "<text xml:space=\"preserve\" text-anchor=\"start\" x=\"98.75\" y=\"-403.7\" font-family=\"Courier,monospace\" font-weight=\"bold\" font-size=\"14.00\">x</text>\n",
       "<text xml:space=\"preserve\" text-anchor=\"start\" x=\"81.88\" y=\"-385.45\" font-family=\"Courier,monospace\" font-size=\"9.00\">return x</text>\n",
       "</a>\n",
       "</g>\n",
       "</g>\n",
       "<!-- just_xreturnvalue_functioncall_testlocalsjust_xat0x10e60ea20_11 -->\n",
       "<g id=\"node2\" class=\"node\">\n",
       "<title>just_xreturnvalue_functioncall_testlocalsjust_xat0x10e60ea20_11</title>\n",
       "<g id=\"a_node2\"><a xlink:title=\"just_x:11\">\n",
       "<polygon fill=\"peachpuff\" stroke=\"black\" points=\"205.75,-344 0,-344 0,-304 205.75,-304 205.75,-344\"/>\n",
       "<text xml:space=\"preserve\" text-anchor=\"start\" x=\"8\" y=\"-327.7\" font-family=\"Courier,monospace\" font-weight=\"bold\" font-style=\"italic\" font-size=\"14.00\">&lt;just_x() return value&gt;</text>\n",
       "<text xml:space=\"preserve\" text-anchor=\"start\" x=\"81.88\" y=\"-309.45\" font-family=\"Courier,monospace\" font-size=\"9.00\">return x</text>\n",
       "</a>\n",
       "</g>\n",
       "</g>\n",
       "<!-- x_functioncall_testlocalsjust_xat0x10e60ea20_11&#45;&gt;just_xreturnvalue_functioncall_testlocalsjust_xat0x10e60ea20_11 -->\n",
       "<g id=\"edge6\" class=\"edge\">\n",
       "<title>x_functioncall_testlocalsjust_xat0x10e60ea20_11&#45;&gt;just_xreturnvalue_functioncall_testlocalsjust_xat0x10e60ea20_11</title>\n",
       "<path fill=\"none\" stroke=\"black\" d=\"M96.85,-379.56C96.2,-372.25 95.99,-363.75 96.21,-355.67\"/>\n",
       "<polygon fill=\"black\" stroke=\"black\" points=\"99.7,-356.01 96.78,-345.82 92.71,-355.61 99.7,-356.01\"/>\n",
       "</g>\n",
       "<!-- just_xreturnvalue_functioncall_testlocalsjust_xat0x10e60ea20_11&#45;&gt;x_functioncall_testlocalsjust_xat0x10e60ea20_11 -->\n",
       "<g id=\"edge1\" class=\"edge\">\n",
       "<title>just_xreturnvalue_functioncall_testlocalsjust_xat0x10e60ea20_11&#45;&gt;x_functioncall_testlocalsjust_xat0x10e60ea20_11</title>\n",
       "<path fill=\"none\" stroke=\"black\" d=\"M108.89,-344.31C109.55,-351.61 109.76,-360.1 109.54,-368.19\"/>\n",
       "<polygon fill=\"black\" stroke=\"black\" points=\"106.05,-367.86 108.98,-378.05 113.04,-368.26 106.05,-367.86\"/>\n",
       "</g>\n",
       "<!-- call_testreturnvalue_functioncall_testat0x10e60e7a0_20 -->\n",
       "<g id=\"node12\" class=\"node\">\n",
       "<title>call_testreturnvalue_functioncall_testat0x10e60e7a0_20</title>\n",
       "<g id=\"a_node12\"><a xlink:title=\"call_test:20\">\n",
       "<polygon fill=\"peachpuff\" stroke=\"black\" points=\"349.12,-40 118.62,-40 118.62,0 349.12,0 349.12,-40\"/>\n",
       "<text xml:space=\"preserve\" text-anchor=\"start\" x=\"126.62\" y=\"-23.7\" font-family=\"Courier,monospace\" font-weight=\"bold\" font-style=\"italic\" font-size=\"14.00\">&lt;call_test() return value&gt;</text>\n",
       "<text xml:space=\"preserve\" text-anchor=\"start\" x=\"139.38\" y=\"-5.45\" font-family=\"Courier,monospace\" font-size=\"9.00\">return just_x(just_x(d, y=b), ys[0])</text>\n",
       "</a>\n",
       "</g>\n",
       "</g>\n",
       "<!-- just_xreturnvalue_functioncall_testlocalsjust_xat0x10e60ea20_11&#45;&gt;call_testreturnvalue_functioncall_testat0x10e60e7a0_20 -->\n",
       "<g id=\"edge9\" class=\"edge\">\n",
       "<title>just_xreturnvalue_functioncall_testlocalsjust_xat0x10e60ea20_11&#45;&gt;call_testreturnvalue_functioncall_testat0x10e60e7a0_20</title>\n",
       "<path fill=\"none\" stroke=\"black\" d=\"M106.31,-303.67C112.47,-271.34 126.93,-204.64 149.88,-152 165.74,-115.59 175.34,-109.37 196.88,-76 202.39,-67.45 208.51,-58.25 214.16,-49.86\"/>\n",
       "<polygon fill=\"black\" stroke=\"black\" points=\"216.95,-51.98 219.66,-41.73 211.15,-48.05 216.95,-51.98\"/>\n",
       "</g>\n",
       "<!-- d_functioncall_testat0x10e60e7a0_15 -->\n",
       "<g id=\"node3\" class=\"node\">\n",
       "<title>d_functioncall_testat0x10e60e7a0_15</title>\n",
       "<g id=\"a_node3\"><a xlink:title=\"call_test:15\">\n",
       "<polygon fill=\"peachpuff\" stroke=\"black\" points=\"386.62,-496 297.12,-496 297.12,-456 386.62,-456 386.62,-496\"/>\n",
       "<text xml:space=\"preserve\" text-anchor=\"start\" x=\"337.75\" y=\"-479.7\" font-family=\"Courier,monospace\" font-weight=\"bold\" font-size=\"14.00\">d</text>\n",
       "<text xml:space=\"preserve\" text-anchor=\"start\" x=\"305.12\" y=\"-461.45\" font-family=\"Courier,monospace\" font-size=\"9.00\">d = list(b)[0]</text>\n",
       "</a>\n",
       "</g>\n",
       "</g>\n",
       "<!-- d_functioncall_testat0x10e60e7a0_15&#45;&gt;x_functioncall_testlocalsjust_xat0x10e60ea20_11 -->\n",
       "<g id=\"edge2\" class=\"edge\">\n",
       "<title>d_functioncall_testat0x10e60e7a0_15&#45;&gt;x_functioncall_testlocalsjust_xat0x10e60ea20_11</title>\n",
       "<path fill=\"none\" stroke=\"black\" d=\"M296.64,-460.99C252.29,-447.26 185.33,-426.53 142.88,-413.39\"/>\n",
       "<polygon fill=\"black\" stroke=\"black\" points=\"144.15,-410.12 133.56,-410.5 142.08,-416.8 144.15,-410.12\"/>\n",
       "</g>\n",
       "<!-- xs_functioncall_testat0x10e60e7a0_17 -->\n",
       "<g id=\"node11\" class=\"node\">\n",
       "<title>xs_functioncall_testat0x10e60e7a0_17</title>\n",
       "<g id=\"a_node11\"><a xlink:title=\"call_test:17\">\n",
       "<polygon fill=\"peachpuff\" stroke=\"black\" points=\"394.5,-420 289.25,-420 289.25,-380 394.5,-380 394.5,-420\"/>\n",
       "<text xml:space=\"preserve\" text-anchor=\"start\" x=\"333.62\" y=\"-403.7\" font-family=\"Courier,monospace\" font-weight=\"bold\" font-size=\"14.00\">xs</text>\n",
       "<text xml:space=\"preserve\" text-anchor=\"start\" x=\"297.25\" y=\"-385.45\" font-family=\"Courier,monospace\" font-size=\"9.00\">xs = [1, 2, 3, 4]</text>\n",
       "</a>\n",
       "</g>\n",
       "</g>\n",
       "<!-- d_functioncall_testat0x10e60e7a0_15&#45;&gt;xs_functioncall_testat0x10e60e7a0_17 -->\n",
       "<!-- sqreturnvalue_functioncall_testlocalssqat0x10e60e5c0_5 -->\n",
       "<g id=\"node4\" class=\"node\">\n",
       "<title>sqreturnvalue_functioncall_testlocalssqat0x10e60e5c0_5</title>\n",
       "<g id=\"a_node4\"><a xlink:title=\"sq:5\">\n",
       "<polygon fill=\"peachpuff\" stroke=\"black\" points=\"331.25,-192 158.5,-192 158.5,-152 331.25,-152 331.25,-192\"/>\n",
       "<text xml:space=\"preserve\" text-anchor=\"start\" x=\"166.5\" y=\"-175.7\" font-family=\"Courier,monospace\" font-weight=\"bold\" font-style=\"italic\" font-size=\"14.00\">&lt;sq() return value&gt;</text>\n",
       "<text xml:space=\"preserve\" text-anchor=\"start\" x=\"213.38\" y=\"-157.45\" font-family=\"Courier,monospace\" font-size=\"9.00\">return n * n</text>\n",
       "</a>\n",
       "</g>\n",
       "</g>\n",
       "<!-- ys_functioncall_testat0x10e60e7a0_18 -->\n",
       "<g id=\"node15\" class=\"node\">\n",
       "<title>ys_functioncall_testat0x10e60e7a0_18</title>\n",
       "<g id=\"a_node15\"><a xlink:title=\"call_test:18\">\n",
       "<polygon fill=\"peachpuff\" stroke=\"black\" points=\"442.12,-116 205.62,-116 205.62,-76 442.12,-76 442.12,-116\"/>\n",
       "<text xml:space=\"preserve\" text-anchor=\"start\" x=\"315.62\" y=\"-99.7\" font-family=\"Courier,monospace\" font-weight=\"bold\" font-size=\"14.00\">ys</text>\n",
       "<text xml:space=\"preserve\" text-anchor=\"start\" x=\"213.62\" y=\"-81.45\" font-family=\"Courier,monospace\" font-size=\"9.00\">ys = [sq(elem) for elem in xs if elem &gt; 2]</text>\n",
       "</a>\n",
       "</g>\n",
       "</g>\n",
       "<!-- sqreturnvalue_functioncall_testlocalssqat0x10e60e5c0_5&#45;&gt;ys_functioncall_testat0x10e60e7a0_18 -->\n",
       "<g id=\"edge15\" class=\"edge\">\n",
       "<title>sqreturnvalue_functioncall_testlocalssqat0x10e60e5c0_5&#45;&gt;ys_functioncall_testat0x10e60e7a0_18</title>\n",
       "<path fill=\"none\" stroke=\"black\" d=\"M265.63,-151.56C274.61,-143.14 285.28,-133.16 295.01,-124.04\"/>\n",
       "<polygon fill=\"black\" stroke=\"black\" points=\"297.25,-126.74 302.15,-117.35 292.46,-121.63 297.25,-126.74\"/>\n",
       "</g>\n",
       "<!-- n_functioncall_testlocalssqat0x10e60e5c0_5 -->\n",
       "<g id=\"node5\" class=\"node\">\n",
       "<title>n_functioncall_testlocalssqat0x10e60e5c0_5</title>\n",
       "<g id=\"a_node5\"><a xlink:title=\"sq:5\">\n",
       "<polygon fill=\"peachpuff\" stroke=\"black\" points=\"307.38,-268 228.38,-268 228.38,-228 307.38,-228 307.38,-268\"/>\n",
       "<text xml:space=\"preserve\" text-anchor=\"start\" x=\"263.75\" y=\"-251.7\" font-family=\"Courier,monospace\" font-weight=\"bold\" font-size=\"14.00\">n</text>\n",
       "<text xml:space=\"preserve\" text-anchor=\"start\" x=\"236.38\" y=\"-233.45\" font-family=\"Courier,monospace\" font-size=\"9.00\">return n * n</text>\n",
       "</a>\n",
       "</g>\n",
       "</g>\n",
       "<!-- n_functioncall_testlocalssqat0x10e60e5c0_5&#45;&gt;sqreturnvalue_functioncall_testlocalssqat0x10e60e5c0_5 -->\n",
       "<g id=\"edge3\" class=\"edge\">\n",
       "<title>n_functioncall_testlocalssqat0x10e60e5c0_5&#45;&gt;sqreturnvalue_functioncall_testlocalssqat0x10e60e5c0_5</title>\n",
       "<path fill=\"none\" stroke=\"black\" d=\"M261.83,-227.56C259.51,-220.08 256.8,-211.36 254.23,-203.11\"/>\n",
       "<polygon fill=\"black\" stroke=\"black\" points=\"257.64,-202.27 251.33,-193.76 250.95,-204.35 257.64,-202.27\"/>\n",
       "</g>\n",
       "<!-- genyieldvalue_functioncall_testlocalsgenat0x10e60e980_8 -->\n",
       "<g id=\"node6\" class=\"node\">\n",
       "<title>genyieldvalue_functioncall_testlocalsgenat0x10e60e980_8</title>\n",
       "<g id=\"a_node6\"><a xlink:title=\"gen:8\">\n",
       "<polygon fill=\"peachpuff\" stroke=\"black\" points=\"359.25,-572 186.5,-572 186.5,-532 359.25,-532 359.25,-572\"/>\n",
       "<text xml:space=\"preserve\" text-anchor=\"start\" x=\"194.5\" y=\"-555.7\" font-family=\"Courier,monospace\" font-weight=\"bold\" font-style=\"italic\" font-size=\"14.00\">&lt;gen() yield value&gt;</text>\n",
       "<text xml:space=\"preserve\" text-anchor=\"start\" x=\"244\" y=\"-537.45\" font-family=\"Courier,monospace\" font-size=\"9.00\">yield e * c</text>\n",
       "</a>\n",
       "</g>\n",
       "</g>\n",
       "<!-- genyieldvalue_functioncall_testlocalsgenat0x10e60e980_8&#45;&gt;d_functioncall_testat0x10e60e7a0_15 -->\n",
       "<g id=\"edge16\" class=\"edge\">\n",
       "<title>genyieldvalue_functioncall_testlocalsgenat0x10e60e980_8&#45;&gt;d_functioncall_testat0x10e60e7a0_15</title>\n",
       "<path fill=\"none\" stroke=\"black\" d=\"M291,-531.56C298.69,-523.31 307.79,-513.56 316.15,-504.59\"/>\n",
       "<polygon fill=\"black\" stroke=\"black\" points=\"318.58,-507.12 322.83,-497.42 313.46,-502.35 318.58,-507.12\"/>\n",
       "</g>\n",
       "<!-- c_functioncall_testat0x10e60e7a0_2 -->\n",
       "<g id=\"node7\" class=\"node\">\n",
       "<title>c_functioncall_testat0x10e60e7a0_2</title>\n",
       "<g id=\"a_node7\"><a xlink:title=\"call_test:2\">\n",
       "<polygon fill=\"peachpuff\" stroke=\"black\" points=\"331.88,-800 277.88,-800 277.88,-760 331.88,-760 331.88,-800\"/>\n",
       "<text xml:space=\"preserve\" text-anchor=\"start\" x=\"300.75\" y=\"-783.7\" font-family=\"Courier,monospace\" font-weight=\"bold\" font-size=\"14.00\">c</text>\n",
       "<text xml:space=\"preserve\" text-anchor=\"start\" x=\"289.12\" y=\"-765.45\" font-family=\"Courier,monospace\" font-size=\"9.00\">c = 47</text>\n",
       "</a>\n",
       "</g>\n",
       "</g>\n",
       "<!-- c_functioncall_testat0x10e60e7a0_2&#45;&gt;genyieldvalue_functioncall_testlocalsgenat0x10e60e980_8 -->\n",
       "<g id=\"edge4\" class=\"edge\">\n",
       "<title>c_functioncall_testat0x10e60e7a0_2&#45;&gt;genyieldvalue_functioncall_testlocalsgenat0x10e60e980_8</title>\n",
       "<path fill=\"none\" stroke=\"black\" d=\"M302.15,-759.73C296.59,-720.45 283.9,-630.85 277.2,-583.55\"/>\n",
       "<polygon fill=\"black\" stroke=\"black\" points=\"280.68,-583.13 275.81,-573.72 273.75,-584.11 280.68,-583.13\"/>\n",
       "</g>\n",
       "<!-- a_functioncall_testat0x10e60e7a0_13 -->\n",
       "<g id=\"node9\" class=\"node\">\n",
       "<title>a_functioncall_testat0x10e60e7a0_13</title>\n",
       "<g id=\"a_node9\"><a xlink:title=\"call_test:13\">\n",
       "<polygon fill=\"peachpuff\" stroke=\"black\" points=\"401.88,-724 347.88,-724 347.88,-684 401.88,-684 401.88,-724\"/>\n",
       "<text xml:space=\"preserve\" text-anchor=\"start\" x=\"370.75\" y=\"-707.7\" font-family=\"Courier,monospace\" font-weight=\"bold\" font-size=\"14.00\">a</text>\n",
       "<text xml:space=\"preserve\" text-anchor=\"start\" x=\"359.12\" y=\"-689.45\" font-family=\"Courier,monospace\" font-size=\"9.00\">a = 42</text>\n",
       "</a>\n",
       "</g>\n",
       "</g>\n",
       "<!-- c_functioncall_testat0x10e60e7a0_2&#45;&gt;a_functioncall_testat0x10e60e7a0_13 -->\n",
       "<!-- e_functioncall_testlocalsgenat0x10e60e980_8 -->\n",
       "<g id=\"node8\" class=\"node\">\n",
       "<title>e_functioncall_testlocalsgenat0x10e60e980_8</title>\n",
       "<g id=\"a_node8\"><a xlink:title=\"gen:8\">\n",
       "<polygon fill=\"peachpuff\" stroke=\"black\" points=\"374.75,-648 301,-648 301,-608 374.75,-608 374.75,-648\"/>\n",
       "<text xml:space=\"preserve\" text-anchor=\"start\" x=\"333.75\" y=\"-631.7\" font-family=\"Courier,monospace\" font-weight=\"bold\" font-size=\"14.00\">e</text>\n",
       "<text xml:space=\"preserve\" text-anchor=\"start\" x=\"309\" y=\"-613.45\" font-family=\"Courier,monospace\" font-size=\"9.00\">yield e * c</text>\n",
       "</a>\n",
       "</g>\n",
       "</g>\n",
       "<!-- e_functioncall_testlocalsgenat0x10e60e980_8&#45;&gt;genyieldvalue_functioncall_testlocalsgenat0x10e60e980_8 -->\n",
       "<g id=\"edge5\" class=\"edge\">\n",
       "<title>e_functioncall_testlocalsgenat0x10e60e980_8&#45;&gt;genyieldvalue_functioncall_testlocalsgenat0x10e60e980_8</title>\n",
       "<path fill=\"none\" stroke=\"black\" d=\"M320.8,-607.56C313.63,-599.4 305.16,-589.76 297.36,-580.87\"/>\n",
       "<polygon fill=\"black\" stroke=\"black\" points=\"300.07,-578.65 290.84,-573.45 294.81,-583.27 300.07,-578.65\"/>\n",
       "</g>\n",
       "<!-- a_functioncall_testat0x10e60e7a0_13&#45;&gt;e_functioncall_testlocalsgenat0x10e60e980_8 -->\n",
       "<g id=\"edge7\" class=\"edge\">\n",
       "<title>a_functioncall_testat0x10e60e7a0_13&#45;&gt;e_functioncall_testlocalsgenat0x10e60e980_8</title>\n",
       "<path fill=\"none\" stroke=\"black\" d=\"M365.15,-683.56C361.33,-675.91 356.85,-666.96 352.65,-658.55\"/>\n",
       "<polygon fill=\"black\" stroke=\"black\" points=\"355.81,-657.05 348.21,-649.67 349.55,-660.18 355.81,-657.05\"/>\n",
       "</g>\n",
       "<!-- b_functioncall_testat0x10e60e7a0_14 -->\n",
       "<g id=\"node13\" class=\"node\">\n",
       "<title>b_functioncall_testat0x10e60e7a0_14</title>\n",
       "<g id=\"a_node13\"><a xlink:title=\"call_test:14\">\n",
       "<polygon fill=\"peachpuff\" stroke=\"black\" points=\"446.12,-572 377.62,-572 377.62,-532 446.12,-532 446.12,-572\"/>\n",
       "<text xml:space=\"preserve\" text-anchor=\"start\" x=\"407.75\" y=\"-555.7\" font-family=\"Courier,monospace\" font-weight=\"bold\" font-size=\"14.00\">b</text>\n",
       "<text xml:space=\"preserve\" text-anchor=\"start\" x=\"385.62\" y=\"-537.45\" font-family=\"Courier,monospace\" font-size=\"9.00\">b = gen(a)</text>\n",
       "</a>\n",
       "</g>\n",
       "</g>\n",
       "<!-- a_functioncall_testat0x10e60e7a0_13&#45;&gt;b_functioncall_testat0x10e60e7a0_14 -->\n",
       "<g id=\"edge10\" class=\"edge\">\n",
       "<title>a_functioncall_testat0x10e60e7a0_13&#45;&gt;b_functioncall_testat0x10e60e7a0_14</title>\n",
       "<path fill=\"none\" stroke=\"black\" d=\"M374.93,-683.7C378.81,-658.16 389.71,-612.88 398.98,-582.9\"/>\n",
       "<polygon fill=\"black\" stroke=\"black\" points=\"402.22,-584.26 401.97,-573.67 395.56,-582.1 402.22,-584.26\"/>\n",
       "</g>\n",
       "<!-- a_functioncall_testat0x10e60e7a0_13&#45;&gt;b_functioncall_testat0x10e60e7a0_14 -->\n",
       "<!-- elem_functioncall_testat0x10e60e7a0_18 -->\n",
       "<g id=\"node10\" class=\"node\">\n",
       "<title>elem_functioncall_testat0x10e60e7a0_18</title>\n",
       "<g id=\"a_node10\"><a xlink:title=\"call_test:18\">\n",
       "<polygon fill=\"peachpuff\" stroke=\"black\" points=\"460.12,-344 223.62,-344 223.62,-304 460.12,-304 460.12,-344\"/>\n",
       "<text xml:space=\"preserve\" text-anchor=\"start\" x=\"325.38\" y=\"-327.7\" font-family=\"Courier,monospace\" font-weight=\"bold\" font-size=\"14.00\">elem</text>\n",
       "<text xml:space=\"preserve\" text-anchor=\"start\" x=\"231.62\" y=\"-309.45\" font-family=\"Courier,monospace\" font-size=\"9.00\">ys = [sq(elem) for elem in xs if elem &gt; 2]</text>\n",
       "</a>\n",
       "</g>\n",
       "</g>\n",
       "<!-- elem_functioncall_testat0x10e60e7a0_18&#45;&gt;n_functioncall_testlocalssqat0x10e60e5c0_5 -->\n",
       "<g id=\"edge13\" class=\"edge\">\n",
       "<title>elem_functioncall_testat0x10e60e7a0_18&#45;&gt;n_functioncall_testlocalssqat0x10e60e5c0_5</title>\n",
       "<path fill=\"none\" stroke=\"black\" d=\"M322.43,-303.56C314.1,-295.23 304.23,-285.36 295.19,-276.32\"/>\n",
       "<polygon fill=\"black\" stroke=\"black\" points=\"297.8,-273.98 288.26,-269.38 292.85,-278.93 297.8,-273.98\"/>\n",
       "</g>\n",
       "<!-- elem_functioncall_testat0x10e60e7a0_18&#45;&gt;ys_functioncall_testat0x10e60e7a0_18 -->\n",
       "<g id=\"edge14\" class=\"edge\">\n",
       "<title>elem_functioncall_testat0x10e60e7a0_18&#45;&gt;ys_functioncall_testat0x10e60e7a0_18</title>\n",
       "<path fill=\"none\" stroke=\"black\" d=\"M343.34,-303.63C345.38,-271.79 347.96,-206.48 339.88,-152 338.65,-143.78 336.52,-135.06 334.21,-127.05\"/>\n",
       "<polygon fill=\"black\" stroke=\"black\" points=\"337.64,-126.28 331.34,-117.76 330.95,-128.35 337.64,-126.28\"/>\n",
       "</g>\n",
       "<!-- xs_functioncall_testat0x10e60e7a0_17&#45;&gt;elem_functioncall_testat0x10e60e7a0_18 -->\n",
       "<g id=\"edge8\" class=\"edge\">\n",
       "<title>xs_functioncall_testat0x10e60e7a0_17&#45;&gt;elem_functioncall_testat0x10e60e7a0_18</title>\n",
       "<path fill=\"none\" stroke=\"black\" d=\"M335.85,-379.56C335.2,-372.25 334.99,-363.75 335.21,-355.67\"/>\n",
       "<polygon fill=\"black\" stroke=\"black\" points=\"338.7,-356.01 335.78,-345.82 331.71,-355.61 338.7,-356.01\"/>\n",
       "</g>\n",
       "<!-- xs_functioncall_testat0x10e60e7a0_17&#45;&gt;elem_functioncall_testat0x10e60e7a0_18 -->\n",
       "<!-- b_functioncall_testat0x10e60e7a0_14&#45;&gt;d_functioncall_testat0x10e60e7a0_15 -->\n",
       "<g id=\"edge17\" class=\"edge\">\n",
       "<title>b_functioncall_testat0x10e60e7a0_14&#45;&gt;d_functioncall_testat0x10e60e7a0_15</title>\n",
       "<path fill=\"none\" stroke=\"black\" d=\"M387.46,-531.56C379.01,-523.4 369.71,-513.76 361.67,-504.87\"/>\n",
       "<polygon fill=\"black\" stroke=\"black\" points=\"364.37,-502.64 355.13,-497.45 359.12,-507.26 364.37,-502.64\"/>\n",
       "</g>\n",
       "<!-- b_functioncall_testat0x10e60e7a0_14&#45;&gt;d_functioncall_testat0x10e60e7a0_15 -->\n",
       "<!-- y_functioncall_testlocalsjust_xat0x10e60ea20_11 -->\n",
       "<g id=\"node14\" class=\"node\">\n",
       "<title>y_functioncall_testlocalsjust_xat0x10e60ea20_11</title>\n",
       "<g id=\"a_node14\"><a xlink:title=\"just_x:11\">\n",
       "<polygon fill=\"peachpuff\" stroke=\"black\" points=\"442.88,-40 384.88,-40 384.88,0 442.88,0 442.88,-40\"/>\n",
       "<text xml:space=\"preserve\" text-anchor=\"start\" x=\"409.75\" y=\"-23.7\" font-family=\"Courier,monospace\" font-weight=\"bold\" font-size=\"14.00\">y</text>\n",
       "<text xml:space=\"preserve\" text-anchor=\"start\" x=\"392.88\" y=\"-5.45\" font-family=\"Courier,monospace\" font-size=\"9.00\">return x</text>\n",
       "</a>\n",
       "</g>\n",
       "</g>\n",
       "<!-- b_functioncall_testat0x10e60e7a0_14&#45;&gt;y_functioncall_testlocalsjust_xat0x10e60ea20_11 -->\n",
       "<g id=\"edge12\" class=\"edge\">\n",
       "<title>b_functioncall_testat0x10e60e7a0_14&#45;&gt;y_functioncall_testlocalsjust_xat0x10e60ea20_11</title>\n",
       "<path fill=\"none\" stroke=\"black\" d=\"M429.12,-531.73C451.54,-504.6 487.88,-452.67 487.88,-401 487.88,-401 487.88,-401 487.88,-171 487.88,-124.82 459.32,-78.13 437.69,-49.39\"/>\n",
       "<polygon fill=\"black\" stroke=\"black\" points=\"440.5,-47.3 431.6,-41.55 434.97,-51.59 440.5,-47.3\"/>\n",
       "</g>\n",
       "<!-- ys_functioncall_testat0x10e60e7a0_18&#45;&gt;call_testreturnvalue_functioncall_testat0x10e60e7a0_20 -->\n",
       "<!-- ys_functioncall_testat0x10e60e7a0_18&#45;&gt;y_functioncall_testlocalsjust_xat0x10e60ea20_11 -->\n",
       "<g id=\"edge11\" class=\"edge\">\n",
       "<title>ys_functioncall_testat0x10e60e7a0_18&#45;&gt;y_functioncall_testlocalsjust_xat0x10e60ea20_11</title>\n",
       "<path fill=\"none\" stroke=\"black\" d=\"M347.52,-75.56C357.96,-66.97 370.39,-56.75 381.66,-47.49\"/>\n",
       "<polygon fill=\"black\" stroke=\"black\" points=\"383.72,-50.33 389.22,-41.27 379.27,-44.92 383.72,-50.33\"/>\n",
       "</g>\n",
       "</g>\n",
       "</svg>\n"
      ],
      "text/plain": [
       "Dependencies(\n",
       "    data={\n",
       "        ('c', (call_test, 2)): set(),\n",
       "        ('a', (call_test, 13)): set(),\n",
       "        ('b', (call_test, 14)): {('a', (call_test, 13))},\n",
       "        ('e', (gen, 8)): {('a', (call_test, 13))},\n",
       "        ('<gen() yield value>', (gen, 8)): {('c', (call_test, 2)), ('e', (gen, 8))},\n",
       "        ('d', (call_test, 15)): {('<gen() yield value>', (gen, 8)), ('b', (call_test, 14))},\n",
       "        ('xs', (call_test, 17)): set(),\n",
       "        ('elem', (call_test, 18)): {('xs', (call_test, 17))},\n",
       "        ('n', (sq, 5)): {('elem', (call_test, 18))},\n",
       "        ('<sq() return value>', (sq, 5)): {('n', (sq, 5))},\n",
       "        ('ys', (call_test, 18)): {('elem', (call_test, 18)), ('<sq() return value>', (sq, 5))},\n",
       "        ('x', (just_x, 11)): {('<just_x() return value>', (just_x, 11)), ('d', (call_test, 15))},\n",
       "        ('y', (just_x, 11)): {('ys', (call_test, 18)), ('b', (call_test, 14))},\n",
       "        ('<just_x() return value>', (just_x, 11)): {('x', (just_x, 11))},\n",
       "        ('<call_test() return value>', (call_test, 20)): {('<just_x() return value>', (just_x, 11))}},\n",
       " control={\n",
       "        ('c', (call_test, 2)): set(),\n",
       "        ('a', (call_test, 13)): set(),\n",
       "        ('b', (call_test, 14)): set(),\n",
       "        ('e', (gen, 8)): set(),\n",
       "        ('<gen() yield value>', (gen, 8)): set(),\n",
       "        ('d', (call_test, 15)): set(),\n",
       "        ('xs', (call_test, 17)): set(),\n",
       "        ('elem', (call_test, 18)): set(),\n",
       "        ('n', (sq, 5)): set(),\n",
       "        ('<sq() return value>', (sq, 5)): set(),\n",
       "        ('ys', (call_test, 18)): set(),\n",
       "        ('x', (just_x, 11)): set(),\n",
       "        ('y', (just_x, 11)): set(),\n",
       "        ('<just_x() return value>', (just_x, 11)): set(),\n",
       "        ('<call_test() return value>', (call_test, 20)): set()})"
      ]
     },
     "execution_count": 180,
     "metadata": {},
     "output_type": "execute_result"
    }
   ],
   "source": [
    "call_deps.dependencies()"
   ]
  },
  {
   "cell_type": "markdown",
   "metadata": {
    "slideshow": {
     "slide_type": "subslide"
    }
   },
   "source": [
    "The `code()` view lists each function separately:"
   ]
  },
  {
   "cell_type": "code",
   "execution_count": 181,
   "metadata": {
    "execution": {
     "iopub.execute_input": "2025-10-26T17:47:22.905773Z",
     "iopub.status.busy": "2025-10-26T17:47:22.905653Z",
     "iopub.status.idle": "2025-10-26T17:47:23.175630Z",
     "shell.execute_reply": "2025-10-26T17:47:23.175349Z"
    },
    "slideshow": {
     "slide_type": "subslide"
    }
   },
   "outputs": [
    {
     "name": "stdout",
     "output_type": "stream",
     "text": [
      "    10     \u001b[34mdef\u001b[39;49;00m\u001b[37m \u001b[39;49;00m\u001b[32mjust_x\u001b[39;49;00m(x: Any, y: Any) -> Any:\u001b[37m\u001b[39;49;00m\n",
      "*   11         \u001b[34mreturn\u001b[39;49;00m x  \u001b[37m# <= <just_x() return value> (11), d (call_test:15), ys (call_test:18), b (call_test:14), x (11)\u001b[39;49;00m\u001b[37m\u001b[39;49;00m\n",
      "\n",
      "     4     \u001b[34mdef\u001b[39;49;00m\u001b[37m \u001b[39;49;00m\u001b[32msq\u001b[39;49;00m(n: \u001b[36mint\u001b[39;49;00m) -> \u001b[36mint\u001b[39;49;00m:\u001b[37m\u001b[39;49;00m\n",
      "*    5         \u001b[34mreturn\u001b[39;49;00m n * n  \u001b[37m# <= elem (call_test:18), n (5)\u001b[39;49;00m\u001b[37m\u001b[39;49;00m\n",
      "\n",
      "     7     \u001b[34mdef\u001b[39;49;00m\u001b[37m \u001b[39;49;00m\u001b[32mgen\u001b[39;49;00m(e: \u001b[36mint\u001b[39;49;00m) -> Generator[\u001b[36mint\u001b[39;49;00m, \u001b[34mNone\u001b[39;49;00m, \u001b[34mNone\u001b[39;49;00m]:\u001b[37m\u001b[39;49;00m\n",
      "*    8         \u001b[34myield\u001b[39;49;00m e * c  \u001b[37m# <= a (call_test:13), c (call_test:2), e (8)\u001b[39;49;00m\u001b[37m\u001b[39;49;00m\n",
      "\n",
      "     1 \u001b[34mdef\u001b[39;49;00m\u001b[37m \u001b[39;49;00m\u001b[32mcall_test\u001b[39;49;00m() -> \u001b[36mint\u001b[39;49;00m:\u001b[37m\u001b[39;49;00m\n",
      "*    2     c = \u001b[34m47\u001b[39;49;00m\u001b[37m\u001b[39;49;00m\n",
      "     3 \u001b[37m\u001b[39;49;00m\n",
      "     4     \u001b[34mdef\u001b[39;49;00m\u001b[37m \u001b[39;49;00m\u001b[32msq\u001b[39;49;00m(n: \u001b[36mint\u001b[39;49;00m) -> \u001b[36mint\u001b[39;49;00m:\u001b[37m\u001b[39;49;00m\n",
      "     5         \u001b[34mreturn\u001b[39;49;00m n * n\u001b[37m\u001b[39;49;00m\n",
      "     6 \u001b[37m\u001b[39;49;00m\n",
      "     7     \u001b[34mdef\u001b[39;49;00m\u001b[37m \u001b[39;49;00m\u001b[32mgen\u001b[39;49;00m(e: \u001b[36mint\u001b[39;49;00m) -> Generator[\u001b[36mint\u001b[39;49;00m, \u001b[34mNone\u001b[39;49;00m, \u001b[34mNone\u001b[39;49;00m]:\u001b[37m\u001b[39;49;00m\n",
      "     8         \u001b[34myield\u001b[39;49;00m e * c\u001b[37m\u001b[39;49;00m\n",
      "     9 \u001b[37m\u001b[39;49;00m\n",
      "    10     \u001b[34mdef\u001b[39;49;00m\u001b[37m \u001b[39;49;00m\u001b[32mjust_x\u001b[39;49;00m(x: Any, y: Any) -> Any:\u001b[37m\u001b[39;49;00m\n",
      "    11         \u001b[34mreturn\u001b[39;49;00m x\u001b[37m\u001b[39;49;00m\n",
      "    12 \u001b[37m\u001b[39;49;00m\n",
      "*   13     a = \u001b[34m42\u001b[39;49;00m\u001b[37m\u001b[39;49;00m\n",
      "*   14 "
     ]
    },
    {
     "name": "stdout",
     "output_type": "stream",
     "text": [
      "    b = gen(a)  \u001b[37m# <= a (13)\u001b[39;49;00m\u001b[37m\u001b[39;49;00m\n",
      "*   15     d = \u001b[36mlist\u001b[39;49;00m(b)[\u001b[34m0\u001b[39;49;00m]  \u001b[37m# <= <gen() yield value> (gen:8), b (14)\u001b[39;49;00m\u001b[37m\u001b[39;49;00m\n",
      "    16 \u001b[37m\u001b[39;49;00m\n",
      "*   17     xs = [\u001b[34m1\u001b[39;49;00m, \u001b[34m2\u001b[39;49;00m, \u001b[34m3\u001b[39;49;00m, \u001b[34m4\u001b[39;49;00m]\u001b[37m\u001b[39;49;00m\n",
      "*   18     ys = [sq(elem) \u001b[34mfor\u001b[39;49;00m elem \u001b[35min\u001b[39;49;00m xs \u001b[34mif\u001b[39;49;00m elem > \u001b[34m2\u001b[39;49;00m]  \u001b[37m# <= xs (17), elem (18), <sq() return value> (sq:5)\u001b[39;49;00m\u001b[37m\u001b[39;49;00m\n",
      "    19 \u001b[37m\u001b[39;49;00m\n",
      "*   20     \u001b[34mreturn\u001b[39;49;00m just_x(just_x(d, y=b), ys[\u001b[34m0\u001b[39;49;00m])  \u001b[37m# <= <just_x() return value> (just_x:11)\u001b[39;49;00m\u001b[37m\u001b[39;49;00m\n"
     ]
    }
   ],
   "source": [
    "call_deps.dependencies().code()"
   ]
  },
  {
   "cell_type": "markdown",
   "metadata": {
    "slideshow": {
     "slide_type": "subslide"
    }
   },
   "source": [
    "### End of Excursion"
   ]
  },
  {
   "cell_type": "markdown",
   "metadata": {
    "slideshow": {
     "slide_type": "subslide"
    }
   },
   "source": [
    "### Excursion: Diagnostics"
   ]
  },
  {
   "cell_type": "markdown",
   "metadata": {
    "slideshow": {
     "slide_type": "fragment"
    }
   },
   "source": [
    "To check the dependencies we obtain, we perform some minimal checks on whether a referenced variable actually also occurs in the source code."
   ]
  },
  {
   "cell_type": "code",
   "execution_count": 182,
   "metadata": {
    "execution": {
     "iopub.execute_input": "2025-10-26T17:47:23.177260Z",
     "iopub.status.busy": "2025-10-26T17:47:23.177161Z",
     "iopub.status.idle": "2025-10-26T17:47:23.178846Z",
     "shell.execute_reply": "2025-10-26T17:47:23.178603Z"
    },
    "slideshow": {
     "slide_type": "skip"
    }
   },
   "outputs": [],
   "source": [
    "import re"
   ]
  },
  {
   "cell_type": "code",
   "execution_count": 183,
   "metadata": {
    "execution": {
     "iopub.execute_input": "2025-10-26T17:47:23.180116Z",
     "iopub.status.busy": "2025-10-26T17:47:23.180024Z",
     "iopub.status.idle": "2025-10-26T17:47:23.183322Z",
     "shell.execute_reply": "2025-10-26T17:47:23.183098Z"
    },
    "ipub": {
     "ignore": true
    },
    "slideshow": {
     "slide_type": "subslide"
    }
   },
   "outputs": [],
   "source": [
    "class Dependencies(Dependencies):\n",
    "    def validate(self) -> None:\n",
    "        \"\"\"Perform a simple syntactic validation of dependencies\"\"\"\n",
    "        super().validate()\n",
    "\n",
    "        for var in self.all_vars():\n",
    "            source = self.source(var)\n",
    "            if not source:\n",
    "                continue\n",
    "            if source.startswith('<'):\n",
    "                continue   # no source\n",
    "\n",
    "            for dep_var in self.data[var] | self.control[var]:\n",
    "                dep_name, dep_location = dep_var\n",
    "\n",
    "                if dep_name == DependencyTracker.TEST:\n",
    "                    continue  # dependency on <test>\n",
    "\n",
    "                if dep_name.endswith(' value>'):\n",
    "                    if source.find('(') < 0:\n",
    "                        warnings.warn(f\"Warning: {self.format_var(var)} \"\n",
    "                                  f\"depends on {self.format_var(dep_var)}, \"\n",
    "                                  f\"but {repr(source)} does not \"\n",
    "                                  f\"seem to have a call\")\n",
    "                    continue\n",
    "\n",
    "                if source.startswith('def'):\n",
    "                    continue   # function call\n",
    "\n",
    "                rx = re.compile(r'\\b' + dep_name + r'\\b')\n",
    "                if rx.search(source) is None:\n",
    "                    warnings.warn(f\"{self.format_var(var)} \"\n",
    "                              f\"depends on {self.format_var(dep_var)}, \"\n",
    "                              f\"but {repr(dep_name)} does not occur \"\n",
    "                              f\"in {repr(source)}\")"
   ]
  },
  {
   "cell_type": "markdown",
   "metadata": {
    "slideshow": {
     "slide_type": "subslide"
    }
   },
   "source": [
    "`validate()` is automatically called whenever dependencies are output, so if you see any of its error messages, something may be wrong."
   ]
  },
  {
   "cell_type": "markdown",
   "metadata": {
    "slideshow": {
     "slide_type": "subslide"
    }
   },
   "source": [
    "### End of Excursion"
   ]
  },
  {
   "cell_type": "markdown",
   "metadata": {
    "slideshow": {
     "slide_type": "fragment"
    }
   },
   "source": [
    "At this point, `DependencyTracker` is complete; we have all in place to track even complex dependencies in instrumented code."
   ]
  },
  {
   "cell_type": "markdown",
   "metadata": {
    "slideshow": {
     "slide_type": "slide"
    }
   },
   "source": [
    "## Slicing Code"
   ]
  },
  {
   "cell_type": "markdown",
   "metadata": {
    "slideshow": {
     "slide_type": "subslide"
    }
   },
   "source": [
    "Let us now put all these pieces together. We have a means to instrument the source code (our various `NodeTransformer` classes) and a means to track dependencies (the `DependencyTracker` class). Now comes the time to put all these things together in a single tool, which we call `Slicer`.\n",
    "\n",
    "The basic idea of `Slicer` is that you can use it as follows:\n",
    "\n",
    "```python\n",
    "with Slicer(func_1, func_2, ...) as slicer:\n",
    "    func(...)\n",
    "```\n",
    "\n",
    "which first _instruments_ the functions given in the constructor (i.e., replaces their definitions with instrumented counterparts), and then runs the code in the body, calling instrumented functions, and allowing the slicer to collect dependencies. When the body returns, the original definition of the instrumented functions is restored."
   ]
  },
  {
   "cell_type": "markdown",
   "metadata": {
    "slideshow": {
     "slide_type": "subslide"
    }
   },
   "source": [
    "### An Instrumenter Base Class"
   ]
  },
  {
   "cell_type": "markdown",
   "metadata": {
    "slideshow": {
     "slide_type": "fragment"
    }
   },
   "source": [
    "The basic functionality of instrumenting a number of functions (and restoring them at the end of the `with` block) comes in a `Instrumenter` base class. It invokes `instrument()` on all items to instrument; this is to be overloaded in subclasses."
   ]
  },
  {
   "cell_type": "code",
   "execution_count": 184,
   "metadata": {
    "execution": {
     "iopub.execute_input": "2025-10-26T17:47:23.184979Z",
     "iopub.status.busy": "2025-10-26T17:47:23.184882Z",
     "iopub.status.idle": "2025-10-26T17:47:23.187982Z",
     "shell.execute_reply": "2025-10-26T17:47:23.187681Z"
    },
    "slideshow": {
     "slide_type": "subslide"
    }
   },
   "outputs": [],
   "source": [
    "class Instrumenter(StackInspector):\n",
    "    \"\"\"Instrument functions for dynamic tracking\"\"\"\n",
    "\n",
    "    def __init__(self, *items_to_instrument: Callable,\n",
    "                 globals: Optional[Dict[str, Any]] = None,\n",
    "                 log: Union[bool, int] = False) -> None:\n",
    "        \"\"\"\n",
    "        Create an instrumenter.\n",
    "        `items_to_instrument` is a list of items to instrument.\n",
    "        `globals` is a namespace to use (default: caller's globals())\n",
    "        \"\"\"\n",
    "\n",
    "        self.log = log\n",
    "        self.items_to_instrument: List[Callable] = list(items_to_instrument)\n",
    "        self.instrumented_items: Set[Any] = set()\n",
    "\n",
    "        if globals is None:\n",
    "            globals = self.caller_globals()\n",
    "        self.globals = globals\n",
    "\n",
    "    def __enter__(self) -> Any:\n",
    "        \"\"\"Instrument sources\"\"\"\n",
    "        items = self.items_to_instrument\n",
    "        if not items:\n",
    "            items = self.default_items_to_instrument()\n",
    "\n",
    "        for item in items:\n",
    "            self.instrument(item)\n",
    "\n",
    "        return self\n",
    "\n",
    "    def default_items_to_instrument(self) -> List[Callable]:\n",
    "        return []\n",
    "\n",
    "    def instrument(self, item: Any) -> Any:\n",
    "        \"\"\"Instrument `item`. To be overloaded in subclasses.\"\"\"\n",
    "        if self.log:\n",
    "            print(\"Instrumenting\", item)\n",
    "        self.instrumented_items.add(item)\n",
    "        return item"
   ]
  },
  {
   "cell_type": "markdown",
   "metadata": {
    "slideshow": {
     "slide_type": "subslide"
    }
   },
   "source": [
    "At the end of the `with` block, we restore the given functions."
   ]
  },
  {
   "cell_type": "code",
   "execution_count": 185,
   "metadata": {
    "execution": {
     "iopub.execute_input": "2025-10-26T17:47:23.189481Z",
     "iopub.status.busy": "2025-10-26T17:47:23.189362Z",
     "iopub.status.idle": "2025-10-26T17:47:23.191960Z",
     "shell.execute_reply": "2025-10-26T17:47:23.191406Z"
    },
    "slideshow": {
     "slide_type": "fragment"
    }
   },
   "outputs": [],
   "source": [
    "class Instrumenter(Instrumenter):\n",
    "    def __exit__(self, exc_type: Type, exc_value: BaseException,\n",
    "                 traceback: TracebackType) -> Optional[bool]:\n",
    "        \"\"\"Restore sources\"\"\"\n",
    "        self.restore()\n",
    "        return None\n",
    "\n",
    "    def restore(self) -> None:\n",
    "        for item in self.instrumented_items:\n",
    "            self.globals[item.__name__] = item"
   ]
  },
  {
   "cell_type": "markdown",
   "metadata": {
    "slideshow": {
     "slide_type": "fragment"
    }
   },
   "source": [
    "By default, an `Instrumenter` simply outputs a log message:"
   ]
  },
  {
   "cell_type": "code",
   "execution_count": 186,
   "metadata": {
    "execution": {
     "iopub.execute_input": "2025-10-26T17:47:23.193364Z",
     "iopub.status.busy": "2025-10-26T17:47:23.193256Z",
     "iopub.status.idle": "2025-10-26T17:47:23.194985Z",
     "shell.execute_reply": "2025-10-26T17:47:23.194720Z"
    },
    "slideshow": {
     "slide_type": "subslide"
    }
   },
   "outputs": [
    {
     "name": "stdout",
     "output_type": "stream",
     "text": [
      "Instrumenting <function middle at 0x10d554b80>\n"
     ]
    }
   ],
   "source": [
    "with Instrumenter(middle, log=True) as ins:\n",
    "    pass"
   ]
  },
  {
   "cell_type": "markdown",
   "metadata": {
    "slideshow": {
     "slide_type": "subslide"
    }
   },
   "source": [
    "### The Slicer Class"
   ]
  },
  {
   "cell_type": "markdown",
   "metadata": {
    "slideshow": {
     "slide_type": "fragment"
    }
   },
   "source": [
    "The `Slicer` class comes as a subclass of `Instrumenter`. It sets its own dependency tracker (which can be overwritten by setting the `dependency_tracker` keyword argument)."
   ]
  },
  {
   "cell_type": "code",
   "execution_count": 187,
   "metadata": {
    "execution": {
     "iopub.execute_input": "2025-10-26T17:47:23.196494Z",
     "iopub.status.busy": "2025-10-26T17:47:23.196395Z",
     "iopub.status.idle": "2025-10-26T17:47:23.198747Z",
     "shell.execute_reply": "2025-10-26T17:47:23.198537Z"
    },
    "slideshow": {
     "slide_type": "subslide"
    }
   },
   "outputs": [],
   "source": [
    "class Slicer(Instrumenter):\n",
    "    \"\"\"Track dependencies in an execution\"\"\"\n",
    "\n",
    "    def __init__(self, *items_to_instrument: Any,\n",
    "                 dependency_tracker: Optional[DependencyTracker] = None,\n",
    "                 globals: Optional[Dict[str, Any]] = None,\n",
    "                 log: Union[bool, int] = False):\n",
    "        \"\"\"Create a slicer.\n",
    "        `items_to_instrument` are Python functions or modules with source code.\n",
    "        `dependency_tracker` is the tracker to be used (default: DependencyTracker).\n",
    "        `globals` is the namespace to be used(default: caller's `globals()`)\n",
    "        `log`=True or `log` > 0 turns on logging\n",
    "        \"\"\"\n",
    "        super().__init__(*items_to_instrument, globals=globals, log=log)\n",
    "\n",
    "        if dependency_tracker is None:\n",
    "            dependency_tracker = DependencyTracker(log=(log > 1))\n",
    "        self.dependency_tracker = dependency_tracker\n",
    "\n",
    "        self.saved_dependencies = None\n",
    "\n",
    "    def default_items_to_instrument(self) -> List[Callable]:\n",
    "        raise ValueError(\"Need one or more items to instrument\")"
   ]
  },
  {
   "cell_type": "markdown",
   "metadata": {
    "slideshow": {
     "slide_type": "subslide"
    }
   },
   "source": [
    "The `parse()` method parses a given item, returning its AST."
   ]
  },
  {
   "cell_type": "code",
   "execution_count": 188,
   "metadata": {
    "execution": {
     "iopub.execute_input": "2025-10-26T17:47:23.199922Z",
     "iopub.status.busy": "2025-10-26T17:47:23.199825Z",
     "iopub.status.idle": "2025-10-26T17:47:23.201999Z",
     "shell.execute_reply": "2025-10-26T17:47:23.201615Z"
    },
    "slideshow": {
     "slide_type": "fragment"
    }
   },
   "outputs": [],
   "source": [
    "class Slicer(Slicer):\n",
    "    def parse(self, item: Any) -> AST:\n",
    "        \"\"\"Parse `item`, returning its AST\"\"\"\n",
    "        source_lines, lineno = inspect.getsourcelines(item)\n",
    "        source = \"\".join(source_lines)\n",
    "\n",
    "        if self.log >= 2:\n",
    "            print_content(source, '.py', start_line_number=lineno)\n",
    "            print()\n",
    "            print()\n",
    "\n",
    "        tree = ast.parse(source)\n",
    "        ast.increment_lineno(tree, lineno - 1)\n",
    "        return tree"
   ]
  },
  {
   "cell_type": "markdown",
   "metadata": {
    "slideshow": {
     "slide_type": "subslide"
    }
   },
   "source": [
    "The `transform()` method applies the list of transformers defined earlier in this chapter."
   ]
  },
  {
   "cell_type": "code",
   "execution_count": 189,
   "metadata": {
    "execution": {
     "iopub.execute_input": "2025-10-26T17:47:23.203644Z",
     "iopub.status.busy": "2025-10-26T17:47:23.203518Z",
     "iopub.status.idle": "2025-10-26T17:47:23.206221Z",
     "shell.execute_reply": "2025-10-26T17:47:23.205924Z"
    },
    "slideshow": {
     "slide_type": "subslide"
    }
   },
   "outputs": [],
   "source": [
    "class Slicer(Slicer):\n",
    "    def transformers(self) -> List[NodeTransformer]:\n",
    "        \"\"\"List of transformers to apply. To be extended in subclasses.\"\"\"\n",
    "        return [\n",
    "            TrackCallTransformer(),\n",
    "            TrackSetTransformer(),\n",
    "            TrackGetTransformer(),\n",
    "            TrackControlTransformer(),\n",
    "            TrackReturnTransformer(),\n",
    "            TrackParamsTransformer()\n",
    "        ]\n",
    "\n",
    "    def transform(self, tree: AST) -> AST:\n",
    "        \"\"\"Apply transformers on `tree`. May be extended in subclasses.\"\"\"\n",
    "        # Apply transformers\n",
    "        for transformer in self.transformers():\n",
    "            if self.log >= 3:\n",
    "                print(transformer.__class__.__name__ + ':')\n",
    "\n",
    "            transformer.visit(tree)\n",
    "            ast.fix_missing_locations(tree)\n",
    "            if self.log >= 3:\n",
    "                print_content(ast.unparse(tree), '.py')\n",
    "                print()\n",
    "                print()\n",
    "\n",
    "        if 0 < self.log < 3:\n",
    "            print_content(ast.unparse(tree), '.py')\n",
    "            print()\n",
    "            print()\n",
    "\n",
    "        return tree"
   ]
  },
  {
   "cell_type": "markdown",
   "metadata": {
    "slideshow": {
     "slide_type": "subslide"
    }
   },
   "source": [
    "The `execute()` method executes the transformed tree (such that we get the new definitions). We also make the dependency tracker available for the code in the `with` block."
   ]
  },
  {
   "cell_type": "code",
   "execution_count": 190,
   "metadata": {
    "execution": {
     "iopub.execute_input": "2025-10-26T17:47:23.207704Z",
     "iopub.status.busy": "2025-10-26T17:47:23.207605Z",
     "iopub.status.idle": "2025-10-26T17:47:23.209538Z",
     "shell.execute_reply": "2025-10-26T17:47:23.209339Z"
    },
    "slideshow": {
     "slide_type": "subslide"
    }
   },
   "outputs": [],
   "source": [
    "class Slicer(Slicer):\n",
    "    def execute(self, tree: AST, item: Any) -> None:\n",
    "        \"\"\"Compile and execute `tree`. May be extended in subclasses.\"\"\"\n",
    "\n",
    "        # We pass the source file of `item` such that we can retrieve it\n",
    "        # when accessing the location of the new compiled code\n",
    "        source = cast(str, inspect.getsourcefile(item))\n",
    "        code = compile(cast(ast.Module, tree), source, 'exec')\n",
    "\n",
    "        # Enable dependency tracker\n",
    "        self.globals[DATA_TRACKER] = self.dependency_tracker\n",
    "\n",
    "        # Execute the code, resulting in a redefinition of item\n",
    "        exec(code, self.globals)"
   ]
  },
  {
   "cell_type": "markdown",
   "metadata": {
    "slideshow": {
     "slide_type": "subslide"
    }
   },
   "source": [
    "The `instrument()` method puts all these together, first parsing the item into a tree, then transforming and executing the tree."
   ]
  },
  {
   "cell_type": "code",
   "execution_count": 191,
   "metadata": {
    "execution": {
     "iopub.execute_input": "2025-10-26T17:47:23.210648Z",
     "iopub.status.busy": "2025-10-26T17:47:23.210573Z",
     "iopub.status.idle": "2025-10-26T17:47:23.212572Z",
     "shell.execute_reply": "2025-10-26T17:47:23.212342Z"
    },
    "slideshow": {
     "slide_type": "subslide"
    }
   },
   "outputs": [],
   "source": [
    "class Slicer(Slicer):\n",
    "    def instrument(self, item: Any) -> Any:\n",
    "        \"\"\"Instrument `item`, transforming its source code, and re-defining it.\"\"\"\n",
    "        if is_internal(item.__name__):\n",
    "            return item  # Do not instrument `print()` and the like\n",
    "\n",
    "        if inspect.isbuiltin(item):\n",
    "            return item  # No source code\n",
    "\n",
    "        item = super().instrument(item)\n",
    "        tree = self.parse(item)\n",
    "        tree = self.transform(tree)\n",
    "        self.execute(tree, item)\n",
    "\n",
    "        new_item = self.globals[item.__name__]\n",
    "        return new_item"
   ]
  },
  {
   "cell_type": "markdown",
   "metadata": {
    "slideshow": {
     "slide_type": "subslide"
    }
   },
   "source": [
    "When we restore the original definition (after the `with` block), we save the dependency tracker again."
   ]
  },
  {
   "cell_type": "code",
   "execution_count": 192,
   "metadata": {
    "execution": {
     "iopub.execute_input": "2025-10-26T17:47:23.213656Z",
     "iopub.status.busy": "2025-10-26T17:47:23.213581Z",
     "iopub.status.idle": "2025-10-26T17:47:23.215351Z",
     "shell.execute_reply": "2025-10-26T17:47:23.215108Z"
    },
    "slideshow": {
     "slide_type": "fragment"
    }
   },
   "outputs": [],
   "source": [
    "class Slicer(Slicer):\n",
    "    def restore(self) -> None:\n",
    "        \"\"\"Restore original code.\"\"\"\n",
    "        if DATA_TRACKER in self.globals:\n",
    "            self.saved_dependencies = self.globals[DATA_TRACKER]\n",
    "            del self.globals[DATA_TRACKER]\n",
    "\n",
    "        super().restore()"
   ]
  },
  {
   "cell_type": "markdown",
   "metadata": {
    "slideshow": {
     "slide_type": "fragment"
    }
   },
   "source": [
    "Three convenience functions allow us to see the dependencies as (well) dependencies, as code, and as graph. These simply invoke the respective functions on the saved dependencies."
   ]
  },
  {
   "cell_type": "code",
   "execution_count": 193,
   "metadata": {
    "execution": {
     "iopub.execute_input": "2025-10-26T17:47:23.216519Z",
     "iopub.status.busy": "2025-10-26T17:47:23.216449Z",
     "iopub.status.idle": "2025-10-26T17:47:23.219112Z",
     "shell.execute_reply": "2025-10-26T17:47:23.218905Z"
    },
    "slideshow": {
     "slide_type": "subslide"
    }
   },
   "outputs": [],
   "source": [
    "class Slicer(Slicer):\n",
    "    def dependencies(self) -> Dependencies:\n",
    "        \"\"\"Return collected dependencies.\"\"\"\n",
    "        if self.saved_dependencies is None:\n",
    "            return Dependencies({}, {})\n",
    "        return self.saved_dependencies.dependencies()\n",
    "\n",
    "    def code(self, *args: Any, **kwargs: Any) -> None:\n",
    "        \"\"\"Show code of instrumented items, annotated with dependencies.\"\"\"\n",
    "        first = True\n",
    "        for item in self.instrumented_items:\n",
    "            if not first:\n",
    "                print()\n",
    "            self.dependencies().code(item, *args, **kwargs)  # type: ignore\n",
    "            first = False\n",
    "\n",
    "    def graph(self, *args: Any, **kwargs: Any) -> Digraph:\n",
    "        \"\"\"Show dependency graph.\"\"\"\n",
    "        return self.dependencies().graph(*args, **kwargs)  # type: ignore\n",
    "\n",
    "    def _repr_mimebundle_(self, include: Any = None, exclude: Any = None) -> Any:\n",
    "        \"\"\"If the object is output in Jupyter, render dependencies as a SVG graph\"\"\"\n",
    "        return self.graph()._repr_mimebundle_(include, exclude)"
   ]
  },
  {
   "cell_type": "markdown",
   "metadata": {
    "slideshow": {
     "slide_type": "subslide"
    }
   },
   "source": [
    "Let us put `Slicer` into action. We track our `middle()` function:"
   ]
  },
  {
   "cell_type": "code",
   "execution_count": 194,
   "metadata": {
    "execution": {
     "iopub.execute_input": "2025-10-26T17:47:23.220311Z",
     "iopub.status.busy": "2025-10-26T17:47:23.220241Z",
     "iopub.status.idle": "2025-10-26T17:47:23.225585Z",
     "shell.execute_reply": "2025-10-26T17:47:23.225344Z"
    },
    "slideshow": {
     "slide_type": "subslide"
    }
   },
   "outputs": [
    {
     "name": "stderr",
     "output_type": "stream",
     "text": [
      "/var/folders/n2/xd9445p97rb3xh7m1dfx8_4h0006ts/T/ipykernel_51412/3554319793.py:4: DeprecationWarning: ast.Str is deprecated and will be removed in Python 3.14; use ast.Constant instead\n",
      "  args=[ast.Str(id), Name(id=id, ctx=Load())],\n",
      "/var/folders/n2/xd9445p97rb3xh7m1dfx8_4h0006ts/T/ipykernel_51412/2454789564.py:22: DeprecationWarning: ast.Str is deprecated and will be removed in Python 3.14; use ast.Constant instead\n",
      "  args=[ast.Str(id), value],\n",
      "/var/folders/n2/xd9445p97rb3xh7m1dfx8_4h0006ts/T/ipykernel_51412/882995308.py:12: DeprecationWarning: ast.Num is deprecated and will be removed in Python 3.14; use ast.Constant instead\n",
      "  keywords=[keyword(arg='pos', value=ast.Num(n + 1))]\n",
      "/var/folders/n2/xd9445p97rb3xh7m1dfx8_4h0006ts/T/ipykernel_51412/882995308.py:25: DeprecationWarning: ast.Str is deprecated and will be removed in Python 3.14; use ast.Constant instead\n",
      "  args=[ast.Str(child.arg),\n",
      "/var/folders/n2/xd9445p97rb3xh7m1dfx8_4h0006ts/T/ipykernel_51412/882995308.py:19: DeprecationWarning: ast.NameConstant is deprecated and will be removed in Python 3.14; use ast.Constant instead\n",
      "  value=ast.NameConstant(value=True)))\n"
     ]
    },
    {
     "data": {
      "text/plain": [
       "1"
      ]
     },
     "execution_count": 194,
     "metadata": {},
     "output_type": "execute_result"
    }
   ],
   "source": [
    "with Slicer(middle) as slicer:\n",
    "    m = middle(2, 1, 3)\n",
    "m"
   ]
  },
  {
   "cell_type": "markdown",
   "metadata": {
    "slideshow": {
     "slide_type": "subslide"
    }
   },
   "source": [
    "These are the dependencies in string form (used when printed):"
   ]
  },
  {
   "cell_type": "code",
   "execution_count": 195,
   "metadata": {
    "execution": {
     "iopub.execute_input": "2025-10-26T17:47:23.226900Z",
     "iopub.status.busy": "2025-10-26T17:47:23.226814Z",
     "iopub.status.idle": "2025-10-26T17:47:23.229486Z",
     "shell.execute_reply": "2025-10-26T17:47:23.229195Z"
    },
    "slideshow": {
     "slide_type": "fragment"
    }
   },
   "outputs": [
    {
     "name": "stdout",
     "output_type": "stream",
     "text": [
      "middle():\n",
      "    <test> (2) <= z (12), y (12)\n",
      "    <test> (3) <= y (12), x (12); <- <test> (2)\n",
      "    <test> (5) <= z (12), x (12); <- <test> (3)\n",
      "    <middle() return value> (6) <= y (12); <- <test> (5)\n",
      "\n"
     ]
    }
   ],
   "source": [
    "print(slicer.dependencies())"
   ]
  },
  {
   "cell_type": "markdown",
   "metadata": {
    "slideshow": {
     "slide_type": "fragment"
    }
   },
   "source": [
    "This is the code form:"
   ]
  },
  {
   "cell_type": "code",
   "execution_count": 196,
   "metadata": {
    "execution": {
     "iopub.execute_input": "2025-10-26T17:47:23.230670Z",
     "iopub.status.busy": "2025-10-26T17:47:23.230594Z",
     "iopub.status.idle": "2025-10-26T17:47:23.349547Z",
     "shell.execute_reply": "2025-10-26T17:47:23.349275Z"
    },
    "slideshow": {
     "slide_type": "subslide"
    }
   },
   "outputs": [
    {
     "name": "stdout",
     "output_type": "stream",
     "text": [
      "     1 \u001b[34mdef\u001b[39;49;00m\u001b[37m \u001b[39;49;00m\u001b[32mmiddle\u001b[39;49;00m(x, y, z):  \u001b[37m# type: ignore\u001b[39;49;00m\u001b[37m\u001b[39;49;00m\n",
      "*    2     \u001b[34mif\u001b[39;49;00m y < z:  \u001b[37m# <= z (12), y (12)\u001b[39;49;00m\u001b[37m\u001b[39;49;00m\n",
      "*    3         \u001b[34mif\u001b[39;49;00m x < y:  \u001b[37m# <= y (12), x (12); <- <test> (2)\u001b[39;49;00m\u001b[37m\u001b[39;49;00m\n",
      "     4             \u001b[34mreturn\u001b[39;49;00m y\u001b[37m\u001b[39;49;00m\n",
      "*    5         \u001b[34melif\u001b[39;49;00m x < z:  \u001b[37m# <= z (12), x (12); <- <test> (3)\u001b[39;49;00m\u001b[37m\u001b[39;49;00m\n",
      "*    6             \u001b[34mreturn\u001b[39;49;00m y  \u001b[37m# <= y (12); <- <test> (5)\u001b[39;49;00m\u001b[37m\u001b[39;49;00m\n",
      "     7     \u001b[34melse\u001b[39;49;00m:\u001b[37m\u001b[39;49;00m\n",
      "     8         \u001b[34mif\u001b[39;49;00m x > y:\u001b[37m\u001b[39;49;00m\n",
      "     9 "
     ]
    },
    {
     "name": "stdout",
     "output_type": "stream",
     "text": [
      "            \u001b[34mreturn\u001b[39;49;00m y\u001b[37m\u001b[39;49;00m\n",
      "    10         \u001b[34melif\u001b[39;49;00m x > z:\u001b[37m\u001b[39;49;00m\n",
      "    11             \u001b[34mreturn\u001b[39;49;00m x\u001b[37m\u001b[39;49;00m\n",
      "*   12     \u001b[34mreturn\u001b[39;49;00m z\u001b[37m\u001b[39;49;00m\n"
     ]
    }
   ],
   "source": [
    "slicer.code()"
   ]
  },
  {
   "cell_type": "markdown",
   "metadata": {
    "slideshow": {
     "slide_type": "subslide"
    }
   },
   "source": [
    "And this is the graph form:"
   ]
  },
  {
   "cell_type": "code",
   "execution_count": 197,
   "metadata": {
    "execution": {
     "iopub.execute_input": "2025-10-26T17:47:23.350906Z",
     "iopub.status.busy": "2025-10-26T17:47:23.350816Z",
     "iopub.status.idle": "2025-10-26T17:47:23.693043Z",
     "shell.execute_reply": "2025-10-26T17:47:23.692713Z"
    },
    "slideshow": {
     "slide_type": "fragment"
    }
   },
   "outputs": [
    {
     "data": {
      "image/svg+xml": [
       "<?xml version=\"1.0\" encoding=\"UTF-8\" standalone=\"no\"?>\n",
       "<!DOCTYPE svg PUBLIC \"-//W3C//DTD SVG 1.1//EN\"\n",
       " \"http://www.w3.org/Graphics/SVG/1.1/DTD/svg11.dtd\">\n",
       "<!-- Generated by graphviz version 14.0.2 (20251019.1705)\n",
       " -->\n",
       "<!-- Title: dependencies Pages: 1 -->\n",
       "<svg width=\"278pt\" height=\"428pt\"\n",
       " viewBox=\"0.00 0.00 278.00 428.00\" xmlns=\"http://www.w3.org/2000/svg\" xmlns:xlink=\"http://www.w3.org/1999/xlink\">\n",
       "<g id=\"graph0\" class=\"graph\" transform=\"scale(1 1) rotate(0) translate(4 424)\">\n",
       "<title>dependencies</title>\n",
       "<polygon fill=\"white\" stroke=\"none\" points=\"-4,4 -4,-424 274.05,-424 274.05,4 -4,4\"/>\n",
       "<!-- test_functionmiddleat0x10e668400_2 -->\n",
       "<g id=\"node1\" class=\"node\">\n",
       "<title>test_functionmiddleat0x10e668400_2</title>\n",
       "<g id=\"a_node1\"><a xlink:title=\"middle:2\">\n",
       "<polygon fill=\"peachpuff\" stroke=\"black\" points=\"212.8,-344 147.3,-344 147.3,-304 212.8,-304 212.8,-344\"/>\n",
       "<text xml:space=\"preserve\" text-anchor=\"start\" x=\"155.3\" y=\"-327.7\" font-family=\"Courier,monospace\" font-weight=\"bold\" font-style=\"italic\" font-size=\"14.00\">&lt;test&gt;</text>\n",
       "<text xml:space=\"preserve\" text-anchor=\"start\" x=\"156.43\" y=\"-309.45\" font-family=\"Courier,monospace\" font-size=\"9.00\">if y &lt; z:</text>\n",
       "</a>\n",
       "</g>\n",
       "</g>\n",
       "<!-- test_functionmiddleat0x10e668400_3 -->\n",
       "<g id=\"node4\" class=\"node\">\n",
       "<title>test_functionmiddleat0x10e668400_3</title>\n",
       "<g id=\"a_node4\"><a xlink:title=\"middle:3\">\n",
       "<polygon fill=\"peachpuff\" stroke=\"black\" points=\"212.8,-268 147.3,-268 147.3,-228 212.8,-228 212.8,-268\"/>\n",
       "<text xml:space=\"preserve\" text-anchor=\"start\" x=\"155.3\" y=\"-251.7\" font-family=\"Courier,monospace\" font-weight=\"bold\" font-style=\"italic\" font-size=\"14.00\">&lt;test&gt;</text>\n",
       "<text xml:space=\"preserve\" text-anchor=\"start\" x=\"156.43\" y=\"-233.45\" font-family=\"Courier,monospace\" font-size=\"9.00\">if x &lt; y:</text>\n",
       "</a>\n",
       "</g>\n",
       "</g>\n",
       "<!-- test_functionmiddleat0x10e668400_2&#45;&gt;test_functionmiddleat0x10e668400_3 -->\n",
       "<g id=\"edge5\" class=\"edge\">\n",
       "<title>test_functionmiddleat0x10e668400_2&#45;&gt;test_functionmiddleat0x10e668400_3</title>\n",
       "<path fill=\"none\" stroke=\"grey\" stroke-dasharray=\"5,2\" d=\"M174.03,-303.56C173.37,-296.25 173.16,-287.75 173.39,-279.67\"/>\n",
       "<polygon fill=\"grey\" stroke=\"grey\" points=\"176.88,-280.01 173.95,-269.82 169.89,-279.61 176.88,-280.01\"/>\n",
       "</g>\n",
       "<!-- test_functionmiddleat0x10e668400_2&#45;&gt;test_functionmiddleat0x10e668400_3 -->\n",
       "<!-- z_functionmiddleat0x10e668400_12 -->\n",
       "<g id=\"node2\" class=\"node\">\n",
       "<title>z_functionmiddleat0x10e668400_12</title>\n",
       "<g id=\"a_node2\"><a xlink:title=\"middle:12\">\n",
       "<polygon fill=\"peachpuff\" stroke=\"black\" points=\"171.05,-420 113.05,-420 113.05,-380 171.05,-380 171.05,-420\"/>\n",
       "<text xml:space=\"preserve\" text-anchor=\"start\" x=\"137.93\" y=\"-403.7\" font-family=\"Courier,monospace\" font-weight=\"bold\" font-size=\"14.00\">z</text>\n",
       "<text xml:space=\"preserve\" text-anchor=\"start\" x=\"121.05\" y=\"-385.45\" font-family=\"Courier,monospace\" font-size=\"9.00\">return z</text>\n",
       "</a>\n",
       "</g>\n",
       "</g>\n",
       "<!-- z_functionmiddleat0x10e668400_12&#45;&gt;test_functionmiddleat0x10e668400_2 -->\n",
       "<g id=\"edge1\" class=\"edge\">\n",
       "<title>z_functionmiddleat0x10e668400_12&#45;&gt;test_functionmiddleat0x10e668400_2</title>\n",
       "<path fill=\"none\" stroke=\"black\" d=\"M152.03,-379.56C155.96,-371.91 160.56,-362.96 164.88,-354.55\"/>\n",
       "<polygon fill=\"black\" stroke=\"black\" points=\"167.99,-356.15 169.44,-345.66 161.76,-352.96 167.99,-356.15\"/>\n",
       "</g>\n",
       "<!-- test_functionmiddleat0x10e668400_5 -->\n",
       "<g id=\"node7\" class=\"node\">\n",
       "<title>test_functionmiddleat0x10e668400_5</title>\n",
       "<g id=\"a_node7\"><a xlink:title=\"middle:5\">\n",
       "<polygon fill=\"peachpuff\" stroke=\"black\" points=\"155.93,-192 82.18,-192 82.18,-152 155.93,-152 155.93,-192\"/>\n",
       "<text xml:space=\"preserve\" text-anchor=\"start\" x=\"94.3\" y=\"-175.7\" font-family=\"Courier,monospace\" font-weight=\"bold\" font-style=\"italic\" font-size=\"14.00\">&lt;test&gt;</text>\n",
       "<text xml:space=\"preserve\" text-anchor=\"start\" x=\"90.18\" y=\"-157.45\" font-family=\"Courier,monospace\" font-size=\"9.00\">elif x &lt; z:</text>\n",
       "</a>\n",
       "</g>\n",
       "</g>\n",
       "<!-- z_functionmiddleat0x10e668400_12&#45;&gt;test_functionmiddleat0x10e668400_5 -->\n",
       "<g id=\"edge8\" class=\"edge\">\n",
       "<title>z_functionmiddleat0x10e668400_12&#45;&gt;test_functionmiddleat0x10e668400_5</title>\n",
       "<path fill=\"none\" stroke=\"black\" d=\"M140.09,-379.73C136.09,-340.45 126.97,-250.85 122.16,-203.55\"/>\n",
       "<polygon fill=\"black\" stroke=\"black\" points=\"125.65,-203.32 121.16,-193.73 118.69,-204.03 125.65,-203.32\"/>\n",
       "</g>\n",
       "<!-- y_functionmiddleat0x10e668400_12 -->\n",
       "<g id=\"node3\" class=\"node\">\n",
       "<title>y_functionmiddleat0x10e668400_12</title>\n",
       "<g id=\"a_node3\"><a xlink:title=\"middle:12\">\n",
       "<polygon fill=\"peachpuff\" stroke=\"black\" points=\"270.05,-420 212.05,-420 212.05,-380 270.05,-380 270.05,-420\"/>\n",
       "<text xml:space=\"preserve\" text-anchor=\"start\" x=\"236.93\" y=\"-403.7\" font-family=\"Courier,monospace\" font-weight=\"bold\" font-size=\"14.00\">y</text>\n",
       "<text xml:space=\"preserve\" text-anchor=\"start\" x=\"220.05\" y=\"-385.45\" font-family=\"Courier,monospace\" font-size=\"9.00\">return z</text>\n",
       "</a>\n",
       "</g>\n",
       "</g>\n",
       "<!-- y_functionmiddleat0x10e668400_12&#45;&gt;test_functionmiddleat0x10e668400_2 -->\n",
       "<g id=\"edge2\" class=\"edge\">\n",
       "<title>y_functionmiddleat0x10e668400_12&#45;&gt;test_functionmiddleat0x10e668400_2</title>\n",
       "<path fill=\"none\" stroke=\"black\" d=\"M225.02,-379.56C218.37,-371.48 210.52,-361.96 203.25,-353.15\"/>\n",
       "<polygon fill=\"black\" stroke=\"black\" points=\"205.99,-350.97 196.93,-345.48 200.59,-355.42 205.99,-350.97\"/>\n",
       "</g>\n",
       "<!-- y_functionmiddleat0x10e668400_12&#45;&gt;test_functionmiddleat0x10e668400_3 -->\n",
       "<g id=\"edge3\" class=\"edge\">\n",
       "<title>y_functionmiddleat0x10e668400_12&#45;&gt;test_functionmiddleat0x10e668400_3</title>\n",
       "<path fill=\"none\" stroke=\"black\" d=\"M239.75,-379.66C237.85,-359.89 233.21,-328.67 222.05,-304 217.81,-294.61 211.69,-285.35 205.44,-277.17\"/>\n",
       "<polygon fill=\"black\" stroke=\"black\" points=\"208.36,-275.22 199.36,-269.63 202.91,-279.62 208.36,-275.22\"/>\n",
       "</g>\n",
       "<!-- middlereturnvalue_functionmiddleat0x10e668400_6 -->\n",
       "<g id=\"node6\" class=\"node\">\n",
       "<title>middlereturnvalue_functionmiddleat0x10e668400_6</title>\n",
       "<g id=\"a_node6\"><a xlink:title=\"middle:6\">\n",
       "<polygon fill=\"peachpuff\" stroke=\"black\" points=\"221.93,-116 16.18,-116 16.18,-76 221.93,-76 221.93,-116\"/>\n",
       "<text xml:space=\"preserve\" text-anchor=\"start\" x=\"24.18\" y=\"-99.7\" font-family=\"Courier,monospace\" font-weight=\"bold\" font-style=\"italic\" font-size=\"14.00\">&lt;middle() return value&gt;</text>\n",
       "<text xml:space=\"preserve\" text-anchor=\"start\" x=\"98.05\" y=\"-81.45\" font-family=\"Courier,monospace\" font-size=\"9.00\">return y</text>\n",
       "</a>\n",
       "</g>\n",
       "</g>\n",
       "<!-- y_functionmiddleat0x10e668400_12&#45;&gt;middlereturnvalue_functionmiddleat0x10e668400_6 -->\n",
       "<g id=\"edge6\" class=\"edge\">\n",
       "<title>y_functionmiddleat0x10e668400_12&#45;&gt;middlereturnvalue_functionmiddleat0x10e668400_6</title>\n",
       "<path fill=\"none\" stroke=\"black\" d=\"M241.49,-379.66C241.7,-369.12 241.94,-355.84 242.05,-344 242.53,-291.69 244.83,-275.1 222.05,-228 202.9,-188.39 170.15,-149.62 146.72,-124.66\"/>\n",
       "<polygon fill=\"black\" stroke=\"black\" points=\"149.35,-122.34 139.91,-117.52 144.29,-127.17 149.35,-122.34\"/>\n",
       "</g>\n",
       "<!-- test_functionmiddleat0x10e668400_3&#45;&gt;test_functionmiddleat0x10e668400_5 -->\n",
       "<g id=\"edge10\" class=\"edge\">\n",
       "<title>test_functionmiddleat0x10e668400_3&#45;&gt;test_functionmiddleat0x10e668400_5</title>\n",
       "<path fill=\"none\" stroke=\"grey\" stroke-dasharray=\"5,2\" d=\"M158,-227.56C150.7,-219.57 142.76,-210.16 135.9,-201.43\"/>\n",
       "<polygon fill=\"grey\" stroke=\"grey\" points=\"138.72,-199.35 129.88,-193.52 133.15,-203.59 138.72,-199.35\"/>\n",
       "</g>\n",
       "<!-- test_functionmiddleat0x10e668400_3&#45;&gt;test_functionmiddleat0x10e668400_5 -->\n",
       "<!-- x_functionmiddleat0x10e668400_12 -->\n",
       "<g id=\"node5\" class=\"node\">\n",
       "<title>x_functionmiddleat0x10e668400_12</title>\n",
       "<g id=\"a_node5\"><a xlink:title=\"middle:12\">\n",
       "<polygon fill=\"peachpuff\" stroke=\"black\" points=\"148.05,-40 90.05,-40 90.05,0 148.05,0 148.05,-40\"/>\n",
       "<text xml:space=\"preserve\" text-anchor=\"start\" x=\"114.93\" y=\"-23.7\" font-family=\"Courier,monospace\" font-weight=\"bold\" font-size=\"14.00\">x</text>\n",
       "<text xml:space=\"preserve\" text-anchor=\"start\" x=\"98.05\" y=\"-5.45\" font-family=\"Courier,monospace\" font-size=\"9.00\">return z</text>\n",
       "</a>\n",
       "</g>\n",
       "</g>\n",
       "<!-- x_functionmiddleat0x10e668400_12&#45;&gt;test_functionmiddleat0x10e668400_3 -->\n",
       "<g id=\"edge4\" class=\"edge\">\n",
       "<title>x_functionmiddleat0x10e668400_12&#45;&gt;test_functionmiddleat0x10e668400_3</title>\n",
       "<path fill=\"none\" stroke=\"black\" d=\"M148.53,-26.43C175.26,-33.08 213.12,-47.23 231.05,-76 259.2,-121.19 226.58,-182.76 202.09,-218.36\"/>\n",
       "<polygon fill=\"black\" stroke=\"black\" points=\"199.28,-216.27 196.33,-226.44 204.98,-220.33 199.28,-216.27\"/>\n",
       "</g>\n",
       "<!-- x_functionmiddleat0x10e668400_12&#45;&gt;test_functionmiddleat0x10e668400_5 -->\n",
       "<g id=\"edge9\" class=\"edge\">\n",
       "<title>x_functionmiddleat0x10e668400_12&#45;&gt;test_functionmiddleat0x10e668400_5</title>\n",
       "<path fill=\"none\" stroke=\"black\" d=\"M89.57,-26.43C62.84,-33.08 24.98,-47.23 7.05,-76 -2.35,-91.09 -2.35,-100.91 7.05,-116 21.09,-138.54 47.37,-152.1 70.94,-160.12\"/>\n",
       "<polygon fill=\"black\" stroke=\"black\" points=\"69.84,-163.45 80.43,-163.08 71.93,-156.76 69.84,-163.45\"/>\n",
       "</g>\n",
       "<!-- middlereturnvalue_functionmiddleat0x10e668400_6&#45;&gt;x_functionmiddleat0x10e668400_12 -->\n",
       "<!-- test_functionmiddleat0x10e668400_5&#45;&gt;middlereturnvalue_functionmiddleat0x10e668400_6 -->\n",
       "<g id=\"edge7\" class=\"edge\">\n",
       "<title>test_functionmiddleat0x10e668400_5&#45;&gt;middlereturnvalue_functionmiddleat0x10e668400_6</title>\n",
       "<path fill=\"none\" stroke=\"grey\" stroke-dasharray=\"5,2\" d=\"M113.03,-151.56C112.37,-144.25 112.16,-135.75 112.39,-127.67\"/>\n",
       "<polygon fill=\"grey\" stroke=\"grey\" points=\"115.88,-128.01 112.95,-117.82 108.89,-127.61 115.88,-128.01\"/>\n",
       "</g>\n",
       "<!-- test_functionmiddleat0x10e668400_5&#45;&gt;middlereturnvalue_functionmiddleat0x10e668400_6 -->\n",
       "</g>\n",
       "</svg>\n"
      ],
      "text/plain": [
       "<__main__.Slicer at 0x10db36120>"
      ]
     },
     "execution_count": 197,
     "metadata": {},
     "output_type": "execute_result"
    }
   ],
   "source": [
    "slicer"
   ]
  },
  {
   "cell_type": "markdown",
   "metadata": {
    "slideshow": {
     "slide_type": "fragment"
    }
   },
   "source": [
    "You can also access the raw `repr()` form, which allows you to reconstruct dependencies at any time. (This is how we showed off dependencies at the beginning of this chapter, before even introducing the code that computes them.)"
   ]
  },
  {
   "cell_type": "code",
   "execution_count": 198,
   "metadata": {
    "execution": {
     "iopub.execute_input": "2025-10-26T17:47:23.694621Z",
     "iopub.status.busy": "2025-10-26T17:47:23.694474Z",
     "iopub.status.idle": "2025-10-26T17:47:23.697002Z",
     "shell.execute_reply": "2025-10-26T17:47:23.696758Z"
    },
    "slideshow": {
     "slide_type": "subslide"
    }
   },
   "outputs": [
    {
     "name": "stdout",
     "output_type": "stream",
     "text": [
      "Dependencies(\n",
      "    data={\n",
      "        ('x', (middle, 12)): set(),\n",
      "        ('y', (middle, 12)): set(),\n",
      "        ('z', (middle, 12)): set(),\n",
      "        ('<test>', (middle, 2)): {('z', (middle, 12)), ('y', (middle, 12))},\n",
      "        ('<test>', (middle, 3)): {('y', (middle, 12)), ('x', (middle, 12))},\n",
      "        ('<test>', (middle, 5)): {('z', (middle, 12)), ('x', (middle, 12))},\n",
      "        ('<middle() return value>', (middle, 6)): {('y', (middle, 12))}},\n",
      " control={\n",
      "        ('x', (middle, 12)): set(),\n",
      "        ('y', (middle, 12)): set(),\n",
      "        ('z', (middle, 12)): set(),\n",
      "        ('<test>', (middle, 2)): set(),\n",
      "        ('<test>', (middle, 3)): {('<test>', (middle, 2))},\n",
      "        ('<test>', (middle, 5)): {('<test>', (middle, 3))},\n",
      "        ('<middle() return value>', (middle, 6)): {('<test>', (middle, 5))}})\n"
     ]
    }
   ],
   "source": [
    "print(repr(slicer.dependencies()))"
   ]
  },
  {
   "cell_type": "markdown",
   "metadata": {
    "slideshow": {
     "slide_type": "subslide"
    }
   },
   "source": [
    "### Diagnostics"
   ]
  },
  {
   "cell_type": "markdown",
   "metadata": {
    "slideshow": {
     "slide_type": "fragment"
    }
   },
   "source": [
    "The `Slicer` constructor accepts a `log` argument (default: False), which can be set to show various intermediate results:\n",
    "\n",
    "* `log=True` (or `log=1`): Show instrumented source code\n",
    "* `log=2`: Also log execution\n",
    "* `log=3`: Also log individual transformer steps\n",
    "* `log=4`: Also log source line numbers"
   ]
  },
  {
   "cell_type": "markdown",
   "metadata": {
    "slideshow": {
     "slide_type": "slide"
    }
   },
   "source": [
    "## More Examples"
   ]
  },
  {
   "cell_type": "markdown",
   "metadata": {
    "slideshow": {
     "slide_type": "fragment"
    }
   },
   "source": [
    "Let us demonstrate our `Slicer` class on a few more examples."
   ]
  },
  {
   "cell_type": "markdown",
   "metadata": {
    "slideshow": {
     "slide_type": "subslide"
    }
   },
   "source": [
    "### Square Root"
   ]
  },
  {
   "cell_type": "markdown",
   "metadata": {
    "slideshow": {
     "slide_type": "fragment"
    }
   },
   "source": [
    "The `square_root()` function from [the chapter on assertions](Assertions.ipynb) demonstrates a nice interplay between data and control dependencies."
   ]
  },
  {
   "cell_type": "code",
   "execution_count": 199,
   "metadata": {
    "execution": {
     "iopub.execute_input": "2025-10-26T17:47:23.698428Z",
     "iopub.status.busy": "2025-10-26T17:47:23.698332Z",
     "iopub.status.idle": "2025-10-26T17:47:23.699824Z",
     "shell.execute_reply": "2025-10-26T17:47:23.699571Z"
    },
    "slideshow": {
     "slide_type": "skip"
    }
   },
   "outputs": [],
   "source": [
    "import math"
   ]
  },
  {
   "cell_type": "code",
   "execution_count": 200,
   "metadata": {
    "execution": {
     "iopub.execute_input": "2025-10-26T17:47:23.700989Z",
     "iopub.status.busy": "2025-10-26T17:47:23.700908Z",
     "iopub.status.idle": "2025-10-26T17:47:23.702486Z",
     "shell.execute_reply": "2025-10-26T17:47:23.702245Z"
    },
    "slideshow": {
     "slide_type": "skip"
    }
   },
   "outputs": [],
   "source": [
    "from Assertions import square_root  # minor dependency"
   ]
  },
  {
   "cell_type": "markdown",
   "metadata": {
    "slideshow": {
     "slide_type": "fragment"
    }
   },
   "source": [
    "Here is the original source code:"
   ]
  },
  {
   "cell_type": "code",
   "execution_count": 201,
   "metadata": {
    "execution": {
     "iopub.execute_input": "2025-10-26T17:47:23.703860Z",
     "iopub.status.busy": "2025-10-26T17:47:23.703771Z",
     "iopub.status.idle": "2025-10-26T17:47:23.718286Z",
     "shell.execute_reply": "2025-10-26T17:47:23.718022Z"
    },
    "slideshow": {
     "slide_type": "subslide"
    }
   },
   "outputs": [
    {
     "name": "stdout",
     "output_type": "stream",
     "text": [
      "\u001b[34mdef\u001b[39;49;00m\u001b[37m \u001b[39;49;00m\u001b[32msquare_root\u001b[39;49;00m(x):  \u001b[37m# type: ignore\u001b[39;49;00m\u001b[37m\u001b[39;49;00m\n",
      "    \u001b[34massert\u001b[39;49;00m x >= \u001b[34m0\u001b[39;49;00m  \u001b[37m# precondition\u001b[39;49;00m\u001b[37m\u001b[39;49;00m\n",
      "\u001b[37m\u001b[39;49;00m\n",
      "    approx = \u001b[34mNone\u001b[39;49;00m\u001b[37m\u001b[39;49;00m\n",
      "    guess = x / \u001b[34m2\u001b[39;49;00m\u001b[37m\u001b[39;49;00m\n",
      "    \u001b[34mwhile\u001b[39;49;00m approx != guess:\u001b[37m\u001b[39;49;00m\n",
      "        approx = guess\u001b[37m\u001b[39;49;00m\n",
      "        guess = (approx + x / approx) / \u001b[34m2\u001b[39;49;00m\u001b[37m\u001b[39;49;00m\n",
      "\u001b[37m\u001b[39;49;00m\n",
      "    \u001b[34massert\u001b[39;49;00m math.isclose(approx * approx, x)\u001b[37m\u001b[39;49;00m\n",
      "    \u001b[34mreturn\u001b[39;49;00m approx\u001b[37m\u001b[39;49;00m"
     ]
    }
   ],
   "source": [
    "print_content(inspect.getsource(square_root), '.py')"
   ]
  },
  {
   "cell_type": "markdown",
   "metadata": {
    "slideshow": {
     "slide_type": "fragment"
    }
   },
   "source": [
    "Turning on logging shows the instrumented version:"
   ]
  },
  {
   "cell_type": "code",
   "execution_count": 202,
   "metadata": {
    "execution": {
     "iopub.execute_input": "2025-10-26T17:47:23.719594Z",
     "iopub.status.busy": "2025-10-26T17:47:23.719495Z",
     "iopub.status.idle": "2025-10-26T17:47:23.738465Z",
     "shell.execute_reply": "2025-10-26T17:47:23.738214Z"
    },
    "slideshow": {
     "slide_type": "subslide"
    }
   },
   "outputs": [
    {
     "name": "stdout",
     "output_type": "stream",
     "text": [
      "Instrumenting <function square_root at 0x10db4ff60>\n",
      "\u001b[34mdef\u001b[39;49;00m\u001b[37m \u001b[39;49;00m\u001b[32msquare_root\u001b[39;49;00m(x):\u001b[37m\u001b[39;49;00m\n",
      "    _data.param(\u001b[33m'\u001b[39;49;00m\u001b[33mx\u001b[39;49;00m\u001b[33m'\u001b[39;49;00m, x, pos=\u001b[34m1\u001b[39;49;00m, last=\u001b[34mTrue\u001b[39;49;00m)\u001b[37m\u001b[39;49;00m\n",
      "    \u001b[34massert\u001b[39;49;00m _data.set(\u001b[33m'\u001b[39;49;00m\u001b[33m<assertion>\u001b[39;49;00m\u001b[33m'\u001b[39;49;00m, _data.get(\u001b[33m'\u001b[39;49;00m\u001b[33mx\u001b[39;49;00m\u001b[33m'\u001b[39;49;00m, x) >= \u001b[34m0\u001b[39;49;00m, loads=(_data.get(\u001b[33m'\u001b[39;49;00m\u001b[33mx\u001b[39;49;00m\u001b[33m'\u001b[39;49;00m, x),))\u001b[37m\u001b[39;49;00m\n",
      "    approx = _data.set(\u001b[33m'\u001b[39;49;00m\u001b[33mapprox\u001b[39;49;00m\u001b[33m'\u001b[39;49;00m, \u001b[34mNone\u001b[39;49;00m)\u001b[37m\u001b[39;49;00m\n",
      "    guess = _data.set(\u001b[33m'\u001b[39;49;00m\u001b[33mguess\u001b[39;49;00m\u001b[33m'\u001b[39;49;00m, _data.get(\u001b[33m'\u001b[39;49;00m\u001b[33mx\u001b[39;49;00m\u001b[33m'\u001b[39;49;00m, x) / \u001b[34m2\u001b[39;49;00m)\u001b[37m\u001b[39;49;00m\n",
      "    \u001b[34mwhile\u001b[39;49;00m _data.test(_data.get(\u001b[33m'\u001b[39;49;00m\u001b[33mapprox\u001b[39;49;00m\u001b[33m'\u001b[39;49;00m, approx) != _data.get(\u001b[33m'\u001b[39;49;00m\u001b[33mguess\u001b[39;49;00m\u001b[33m'\u001b[39;49;00m, guess)):\u001b[37m\u001b[39;49;00m\n",
      "        \u001b[34mwith\u001b[39;49;00m _data:\u001b[37m\u001b[39;49;00m\n",
      "            approx = _data.set(\u001b[33m'\u001b[39;49;00m\u001b[33mapprox\u001b[39;49;00m\u001b[33m'\u001b[39;49;00m, _data.get(\u001b[33m'\u001b[39;49;00m\u001b[33mguess\u001b[39;49;00m\u001b[33m'\u001b[39;49;00m, guess))\u001b[37m\u001b[39;49;00m\n",
      "            guess = _data.set(\u001b[33m'\u001b[39;49;00m\u001b[33mguess\u001b[39;49;00m\u001b[33m'\u001b[39;49;00m, (_data.get(\u001b[33m'\u001b[39;49;00m\u001b[33mapprox\u001b[39;49;00m\u001b[33m'\u001b[39;49;00m, approx) + _data.get(\u001b[33m'\u001b[39;49;00m\u001b[33mx\u001b[39;49;00m\u001b[33m'\u001b[39;49;00m, x) / _data.get(\u001b[33m'\u001b[39;49;00m\u001b[33mapprox\u001b[39;49;00m\u001b[33m'\u001b[39;49;00m, approx)) / \u001b[34m2\u001b[39;49;00m)\u001b[37m\u001b[39;49;00m\n",
      "    \u001b[34massert\u001b[39;49;00m _data.set(\u001b[33m'\u001b[39;49;00m\u001b[33m<assertion>\u001b[39;49;00m\u001b[33m'\u001b[39;49;00m, _data.ret(_data.call(_data.get(\u001b[33m'\u001b[39;49;00m\u001b[33mmath\u001b[39;49;00m\u001b[33m'\u001b[39;49;00m, math).isclose)(_data.arg(_data.get(\u001b[33m'\u001b[39;49;00m\u001b[33mapprox\u001b[39;49;00m\u001b[33m'\u001b[39;49;00m, approx) * _data.get(\u001b[33m'\u001b[39;49;00m\u001b[33mapprox\u001b[39;49;00m\u001b[33m'\u001b[39;49;00m, approx), pos=\u001b[34m1\u001b[39;49;00m), _data.arg(_data.get(\u001b[33m'\u001b[39;49;00m\u001b[33mx\u001b[39;49;00m\u001b[33m'\u001b[39;49;00m, x), pos=\u001b[34m2\u001b[39;49;00m))), loads=(_data.get(\u001b[33m'\u001b[39;49;00m\u001b[33mx\u001b[39;49;00m\u001b[33m'\u001b[39;49;00m, x), _data.get(\u001b[33m'\u001b[39;49;00m\u001b[33mmath\u001b[39;49;00m\u001b[33m'\u001b[39;49;00m, math), _data, _data.get(\u001b[33m'\u001b[39;49;00m\u001b[33mapprox\u001b[39;49;00m\u001b[33m'\u001b[39;49;00m, approx)))\u001b[37m\u001b[39;49;00m\n",
      "    \u001b[34mreturn\u001b[39;49;00m _data.set(\u001b[33m'\u001b[39;49;00m\u001b[33m<square_root() return value>\u001b[39;49;00m\u001b[33m'\u001b[39;49;00m, _data.get(\u001b[33m'\u001b[39;49;00m\u001b[33mapprox\u001b[39;49;00m\u001b[33m'\u001b[39;49;00m, approx))\u001b[37m\u001b[39;49;00m\n",
      "\n"
     ]
    },
    {
     "name": "stderr",
     "output_type": "stream",
     "text": [
      "/var/folders/n2/xd9445p97rb3xh7m1dfx8_4h0006ts/T/ipykernel_51412/2498757139.py:9: DeprecationWarning: ast.Num is deprecated and will be removed in Python 3.14; use ast.Constant instead\n",
      "  keywords.append(keyword(arg='pos', value=ast.Num(pos)))\n",
      "/var/folders/n2/xd9445p97rb3xh7m1dfx8_4h0006ts/T/ipykernel_51412/2454789564.py:22: DeprecationWarning: ast.Str is deprecated and will be removed in Python 3.14; use ast.Constant instead\n",
      "  args=[ast.Str(id), value],\n",
      "/var/folders/n2/xd9445p97rb3xh7m1dfx8_4h0006ts/T/ipykernel_51412/3554319793.py:4: DeprecationWarning: ast.Str is deprecated and will be removed in Python 3.14; use ast.Constant instead\n",
      "  args=[ast.Str(id), Name(id=id, ctx=Load())],\n",
      "/var/folders/n2/xd9445p97rb3xh7m1dfx8_4h0006ts/T/ipykernel_51412/882995308.py:12: DeprecationWarning: ast.Num is deprecated and will be removed in Python 3.14; use ast.Constant instead\n",
      "  keywords=[keyword(arg='pos', value=ast.Num(n + 1))]\n",
      "/var/folders/n2/xd9445p97rb3xh7m1dfx8_4h0006ts/T/ipykernel_51412/882995308.py:19: DeprecationWarning: ast.NameConstant is deprecated and will be removed in Python 3.14; use ast.Constant instead\n",
      "  value=ast.NameConstant(value=True)))\n",
      "/var/folders/n2/xd9445p97rb3xh7m1dfx8_4h0006ts/T/ipykernel_51412/882995308.py:25: DeprecationWarning: ast.Str is deprecated and will be removed in Python 3.14; use ast.Constant instead\n",
      "  args=[ast.Str(child.arg),\n"
     ]
    }
   ],
   "source": [
    "with Slicer(square_root, log=True) as root_slicer:\n",
    "    y = square_root(2.0)"
   ]
  },
  {
   "cell_type": "markdown",
   "metadata": {
    "slideshow": {
     "slide_type": "subslide"
    }
   },
   "source": [
    "The dependency graph shows how `guess` and `approx` flow into each other until they are the same."
   ]
  },
  {
   "cell_type": "code",
   "execution_count": 203,
   "metadata": {
    "execution": {
     "iopub.execute_input": "2025-10-26T17:47:23.739689Z",
     "iopub.status.busy": "2025-10-26T17:47:23.739607Z",
     "iopub.status.idle": "2025-10-26T17:47:24.086509Z",
     "shell.execute_reply": "2025-10-26T17:47:24.086148Z"
    },
    "slideshow": {
     "slide_type": "fragment"
    }
   },
   "outputs": [
    {
     "data": {
      "image/svg+xml": [
       "<?xml version=\"1.0\" encoding=\"UTF-8\" standalone=\"no\"?>\n",
       "<!DOCTYPE svg PUBLIC \"-//W3C//DTD SVG 1.1//EN\"\n",
       " \"http://www.w3.org/Graphics/SVG/1.1/DTD/svg11.dtd\">\n",
       "<!-- Generated by graphviz version 14.0.2 (20251019.1705)\n",
       " -->\n",
       "<!-- Title: dependencies Pages: 1 -->\n",
       "<svg width=\"638pt\" height=\"580pt\"\n",
       " viewBox=\"0.00 0.00 638.00 580.00\" xmlns=\"http://www.w3.org/2000/svg\" xmlns:xlink=\"http://www.w3.org/1999/xlink\">\n",
       "<g id=\"graph0\" class=\"graph\" transform=\"scale(1 1) rotate(0) translate(4 576)\">\n",
       "<title>dependencies</title>\n",
       "<polygon fill=\"white\" stroke=\"none\" points=\"-4,4 -4,-576 633.5,-576 633.5,4 -4,4\"/>\n",
       "<!-- assertion_functionsquare_rootat0x10e66aca0_55 -->\n",
       "<g id=\"node1\" class=\"node\">\n",
       "<title>assertion_functionsquare_rootat0x10e66aca0_55</title>\n",
       "<g id=\"a_node1\"><a xlink:title=\"square_root:55\">\n",
       "<polygon fill=\"peachpuff\" stroke=\"black\" points=\"168.25,-496 0,-496 0,-456 168.25,-456 168.25,-496\"/>\n",
       "<text xml:space=\"preserve\" text-anchor=\"start\" x=\"38.75\" y=\"-479.7\" font-family=\"Courier,monospace\" font-weight=\"bold\" font-style=\"italic\" font-size=\"14.00\">&lt;assertion&gt;</text>\n",
       "<text xml:space=\"preserve\" text-anchor=\"start\" x=\"8\" y=\"-461.45\" font-family=\"Courier,monospace\" font-size=\"9.00\">assert x &gt;= 0 &#160;# precondition</text>\n",
       "</a>\n",
       "</g>\n",
       "</g>\n",
       "<!-- approx_functionsquare_rootat0x10e66aca0_57 -->\n",
       "<g id=\"node9\" class=\"node\">\n",
       "<title>approx_functionsquare_rootat0x10e66aca0_57</title>\n",
       "<g id=\"a_node9\"><a xlink:title=\"square_root:57\">\n",
       "<polygon fill=\"peachpuff\" stroke=\"black\" points=\"121.25,-420 37,-420 37,-380 121.25,-380 121.25,-420\"/>\n",
       "<text xml:space=\"preserve\" text-anchor=\"start\" x=\"54.38\" y=\"-403.7\" font-family=\"Courier,monospace\" font-weight=\"bold\" font-size=\"14.00\">approx</text>\n",
       "<text xml:space=\"preserve\" text-anchor=\"start\" x=\"45\" y=\"-385.45\" font-family=\"Courier,monospace\" font-size=\"9.00\">approx = None</text>\n",
       "</a>\n",
       "</g>\n",
       "</g>\n",
       "<!-- assertion_functionsquare_rootat0x10e66aca0_55&#45;&gt;approx_functionsquare_rootat0x10e66aca0_57 -->\n",
       "<!-- x_functionsquare_rootat0x10e66aca0_64 -->\n",
       "<g id=\"node2\" class=\"node\">\n",
       "<title>x_functionsquare_rootat0x10e66aca0_64</title>\n",
       "<g id=\"a_node2\"><a xlink:title=\"square_root:64\">\n",
       "<polygon fill=\"peachpuff\" stroke=\"black\" points=\"273.25,-572 189,-572 189,-532 273.25,-532 273.25,-572\"/>\n",
       "<text xml:space=\"preserve\" text-anchor=\"start\" x=\"227\" y=\"-555.7\" font-family=\"Courier,monospace\" font-weight=\"bold\" font-size=\"14.00\">x</text>\n",
       "<text xml:space=\"preserve\" text-anchor=\"start\" x=\"197\" y=\"-537.45\" font-family=\"Courier,monospace\" font-size=\"9.00\">return approx</text>\n",
       "</a>\n",
       "</g>\n",
       "</g>\n",
       "<!-- x_functionsquare_rootat0x10e66aca0_64&#45;&gt;assertion_functionsquare_rootat0x10e66aca0_55 -->\n",
       "<g id=\"edge1\" class=\"edge\">\n",
       "<title>x_functionsquare_rootat0x10e66aca0_64&#45;&gt;assertion_functionsquare_rootat0x10e66aca0_55</title>\n",
       "<path fill=\"none\" stroke=\"black\" d=\"M192.5,-531.56C174.26,-522.37 152.28,-511.31 132.91,-501.56\"/>\n",
       "<polygon fill=\"black\" stroke=\"black\" points=\"134.6,-498.49 124.1,-497.12 131.45,-504.74 134.6,-498.49\"/>\n",
       "</g>\n",
       "<!-- guess_functionsquare_rootat0x10e66aca0_58 -->\n",
       "<g id=\"node3\" class=\"node\">\n",
       "<title>guess_functionsquare_rootat0x10e66aca0_58</title>\n",
       "<g id=\"a_node3\"><a xlink:title=\"square_root:58\">\n",
       "<polygon fill=\"peachpuff\" stroke=\"black\" points=\"121.25,-344 37,-344 37,-304 121.25,-304 121.25,-344\"/>\n",
       "<text xml:space=\"preserve\" text-anchor=\"start\" x=\"58.5\" y=\"-327.7\" font-family=\"Courier,monospace\" font-weight=\"bold\" font-size=\"14.00\">guess</text>\n",
       "<text xml:space=\"preserve\" text-anchor=\"start\" x=\"45\" y=\"-309.45\" font-family=\"Courier,monospace\" font-size=\"9.00\">guess = x / 2</text>\n",
       "</a>\n",
       "</g>\n",
       "</g>\n",
       "<!-- x_functionsquare_rootat0x10e66aca0_64&#45;&gt;guess_functionsquare_rootat0x10e66aca0_58 -->\n",
       "<g id=\"edge2\" class=\"edge\">\n",
       "<title>x_functionsquare_rootat0x10e66aca0_64&#45;&gt;guess_functionsquare_rootat0x10e66aca0_58</title>\n",
       "<path fill=\"none\" stroke=\"black\" d=\"M221.58,-531.61C205.07,-498.9 169.18,-431.3 130.12,-380 122.97,-370.6 114.47,-360.95 106.49,-352.41\"/>\n",
       "<polygon fill=\"black\" stroke=\"black\" points=\"109.23,-350.21 99.8,-345.39 104.16,-355.04 109.23,-350.21\"/>\n",
       "</g>\n",
       "<!-- guess_functionsquare_rootat0x10e66aca0_61 -->\n",
       "<g id=\"node6\" class=\"node\">\n",
       "<title>guess_functionsquare_rootat0x10e66aca0_61</title>\n",
       "<g id=\"a_node6\"><a xlink:title=\"square_root:61\">\n",
       "<polygon fill=\"peachpuff\" stroke=\"black\" points=\"352.75,-192 163.5,-192 163.5,-152 352.75,-152 352.75,-192\"/>\n",
       "<text xml:space=\"preserve\" text-anchor=\"start\" x=\"237.5\" y=\"-175.7\" font-family=\"Courier,monospace\" font-weight=\"bold\" font-size=\"14.00\">guess</text>\n",
       "<text xml:space=\"preserve\" text-anchor=\"start\" x=\"171.5\" y=\"-157.45\" font-family=\"Courier,monospace\" font-size=\"9.00\">guess = (approx + x / approx) / 2</text>\n",
       "</a>\n",
       "</g>\n",
       "</g>\n",
       "<!-- x_functionsquare_rootat0x10e66aca0_64&#45;&gt;guess_functionsquare_rootat0x10e66aca0_61 -->\n",
       "<g id=\"edge10\" class=\"edge\">\n",
       "<title>x_functionsquare_rootat0x10e66aca0_64&#45;&gt;guess_functionsquare_rootat0x10e66aca0_61</title>\n",
       "<path fill=\"none\" stroke=\"black\" d=\"M236.85,-531.78C244.78,-503.44 258.12,-448.63 258.12,-401 258.12,-401 258.12,-401 258.12,-323 258.12,-281.8 258.12,-234.24 258.12,-203.91\"/>\n",
       "<polygon fill=\"black\" stroke=\"black\" points=\"261.63,-203.93 258.13,-193.93 254.63,-203.93 261.63,-203.93\"/>\n",
       "</g>\n",
       "<!-- assertion_functionsquare_rootat0x10e66aca0_63 -->\n",
       "<g id=\"node8\" class=\"node\">\n",
       "<title>assertion_functionsquare_rootat0x10e66aca0_63</title>\n",
       "<g id=\"a_node8\"><a xlink:title=\"square_root:63\">\n",
       "<polygon fill=\"peachpuff\" stroke=\"black\" points=\"629.5,-116 408.75,-116 408.75,-76 629.5,-76 629.5,-116\"/>\n",
       "<text xml:space=\"preserve\" text-anchor=\"start\" x=\"473.75\" y=\"-99.7\" font-family=\"Courier,monospace\" font-weight=\"bold\" font-style=\"italic\" font-size=\"14.00\">&lt;assertion&gt;</text>\n",
       "<text xml:space=\"preserve\" text-anchor=\"start\" x=\"416.75\" y=\"-81.45\" font-family=\"Courier,monospace\" font-size=\"9.00\">assert math.isclose(approx * approx, x)</text>\n",
       "</a>\n",
       "</g>\n",
       "</g>\n",
       "<!-- x_functionsquare_rootat0x10e66aca0_64&#45;&gt;assertion_functionsquare_rootat0x10e66aca0_63 -->\n",
       "<g id=\"edge8\" class=\"edge\">\n",
       "<title>x_functionsquare_rootat0x10e66aca0_64&#45;&gt;assertion_functionsquare_rootat0x10e66aca0_63</title>\n",
       "<path fill=\"none\" stroke=\"black\" d=\"M273.48,-547.07C350.16,-537.38 504.12,-504.97 504.12,-401 504.12,-401 504.12,-401 504.12,-247 504.12,-205.41 509.9,-157.66 514.29,-127.42\"/>\n",
       "<polygon fill=\"black\" stroke=\"black\" points=\"517.7,-128.26 515.72,-117.85 510.78,-127.22 517.7,-128.26\"/>\n",
       "</g>\n",
       "<!-- approx_functionsquare_rootat0x10e66aca0_60 -->\n",
       "<g id=\"node5\" class=\"node\">\n",
       "<title>approx_functionsquare_rootat0x10e66aca0_60</title>\n",
       "<g id=\"a_node5\"><a xlink:title=\"square_root:60\">\n",
       "<polygon fill=\"peachpuff\" stroke=\"black\" points=\"229.88,-268 140.38,-268 140.38,-228 229.88,-228 229.88,-268\"/>\n",
       "<text xml:space=\"preserve\" text-anchor=\"start\" x=\"160.38\" y=\"-251.7\" font-family=\"Courier,monospace\" font-weight=\"bold\" font-size=\"14.00\">approx</text>\n",
       "<text xml:space=\"preserve\" text-anchor=\"start\" x=\"148.38\" y=\"-233.45\" font-family=\"Courier,monospace\" font-size=\"9.00\">approx = guess</text>\n",
       "</a>\n",
       "</g>\n",
       "</g>\n",
       "<!-- guess_functionsquare_rootat0x10e66aca0_58&#45;&gt;approx_functionsquare_rootat0x10e66aca0_60 -->\n",
       "<g id=\"edge4\" class=\"edge\">\n",
       "<title>guess_functionsquare_rootat0x10e66aca0_58&#45;&gt;approx_functionsquare_rootat0x10e66aca0_60</title>\n",
       "<path fill=\"none\" stroke=\"black\" d=\"M106.98,-303.56C119.63,-294.72 134.79,-284.14 148.36,-274.66\"/>\n",
       "<polygon fill=\"black\" stroke=\"black\" points=\"150.02,-277.77 156.22,-269.18 146.02,-272.03 150.02,-277.77\"/>\n",
       "</g>\n",
       "<!-- test_functionsquare_rootat0x10e66aca0_59 -->\n",
       "<g id=\"node7\" class=\"node\">\n",
       "<title>test_functionsquare_rootat0x10e66aca0_59</title>\n",
       "<g id=\"a_node7\"><a xlink:title=\"square_root:59\">\n",
       "<polygon fill=\"peachpuff\" stroke=\"black\" points=\"182.88,-116 51.38,-116 51.38,-76 182.88,-76 182.88,-116\"/>\n",
       "<text xml:space=\"preserve\" text-anchor=\"start\" x=\"92.38\" y=\"-99.7\" font-family=\"Courier,monospace\" font-weight=\"bold\" font-style=\"italic\" font-size=\"14.00\">&lt;test&gt;</text>\n",
       "<text xml:space=\"preserve\" text-anchor=\"start\" x=\"59.38\" y=\"-81.45\" font-family=\"Courier,monospace\" font-size=\"9.00\">while approx != guess:</text>\n",
       "</a>\n",
       "</g>\n",
       "</g>\n",
       "<!-- guess_functionsquare_rootat0x10e66aca0_58&#45;&gt;test_functionsquare_rootat0x10e66aca0_59 -->\n",
       "<g id=\"edge12\" class=\"edge\">\n",
       "<title>guess_functionsquare_rootat0x10e66aca0_58&#45;&gt;test_functionsquare_rootat0x10e66aca0_59</title>\n",
       "<path fill=\"none\" stroke=\"black\" d=\"M78.39,-303.73C81.6,-264.37 96.45,-174.47 107.26,-127.25\"/>\n",
       "<polygon fill=\"black\" stroke=\"black\" points=\"110.63,-128.23 109.56,-117.69 103.82,-126.6 110.63,-128.23\"/>\n",
       "</g>\n",
       "<!-- guess_functionsquare_rootat0x10e66aca0_58&#45;&gt;test_functionsquare_rootat0x10e66aca0_59 -->\n",
       "<!-- square_rootreturnvalue_functionsquare_rootat0x10e66aca0_64 -->\n",
       "<g id=\"node4\" class=\"node\">\n",
       "<title>square_rootreturnvalue_functionsquare_rootat0x10e66aca0_64</title>\n",
       "<g id=\"a_node4\"><a xlink:title=\"square_root:64\">\n",
       "<polygon fill=\"peachpuff\" stroke=\"black\" points=\"573.62,-40 326.62,-40 326.62,0 573.62,0 573.62,-40\"/>\n",
       "<text xml:space=\"preserve\" text-anchor=\"start\" x=\"334.62\" y=\"-23.7\" font-family=\"Courier,monospace\" font-weight=\"bold\" font-style=\"italic\" font-size=\"14.00\">&lt;square_root() return value&gt;</text>\n",
       "<text xml:space=\"preserve\" text-anchor=\"start\" x=\"416\" y=\"-5.45\" font-family=\"Courier,monospace\" font-size=\"9.00\">return approx</text>\n",
       "</a>\n",
       "</g>\n",
       "</g>\n",
       "<!-- approx_functionsquare_rootat0x10e66aca0_60&#45;&gt;square_rootreturnvalue_functionsquare_rootat0x10e66aca0_64 -->\n",
       "<g id=\"edge3\" class=\"edge\">\n",
       "<title>approx_functionsquare_rootat0x10e66aca0_60&#45;&gt;square_rootreturnvalue_functionsquare_rootat0x10e66aca0_64</title>\n",
       "<path fill=\"none\" stroke=\"black\" d=\"M230.22,-244.32C269.94,-239.61 326.82,-226.77 362.12,-192 400.78,-153.93 372.83,-122.89 400.12,-76 405.76,-66.32 413.33,-56.87 420.87,-48.62\"/>\n",
       "<polygon fill=\"black\" stroke=\"black\" points=\"423.21,-51.24 427.58,-41.59 418.15,-46.4 423.21,-51.24\"/>\n",
       "</g>\n",
       "<!-- approx_functionsquare_rootat0x10e66aca0_60&#45;&gt;guess_functionsquare_rootat0x10e66aca0_61 -->\n",
       "<g id=\"edge9\" class=\"edge\">\n",
       "<title>approx_functionsquare_rootat0x10e66aca0_60&#45;&gt;guess_functionsquare_rootat0x10e66aca0_61</title>\n",
       "<path fill=\"none\" stroke=\"black\" d=\"M192.26,-227.56C199.12,-219.06 208.76,-208.95 218.69,-199.76\"/>\n",
       "<polygon fill=\"black\" stroke=\"black\" points=\"220.79,-202.59 225.92,-193.32 216.13,-197.36 220.79,-202.59\"/>\n",
       "</g>\n",
       "<!-- approx_functionsquare_rootat0x10e66aca0_60&#45;&gt;guess_functionsquare_rootat0x10e66aca0_61 -->\n",
       "<!-- approx_functionsquare_rootat0x10e66aca0_60&#45;&gt;test_functionsquare_rootat0x10e66aca0_59 -->\n",
       "<g id=\"edge15\" class=\"edge\">\n",
       "<title>approx_functionsquare_rootat0x10e66aca0_60&#45;&gt;test_functionsquare_rootat0x10e66aca0_59</title>\n",
       "<path fill=\"none\" stroke=\"black\" d=\"M157.19,-227.5C149.16,-217.14 141.85,-204.09 136.12,-192 126.13,-170.9 116.62,-146.33 112.2,-127.47\"/>\n",
       "<polygon fill=\"black\" stroke=\"black\" points=\"115.66,-126.94 110.39,-117.75 108.78,-128.22 115.66,-126.94\"/>\n",
       "</g>\n",
       "<!-- approx_functionsquare_rootat0x10e66aca0_60&#45;&gt;assertion_functionsquare_rootat0x10e66aca0_63 -->\n",
       "<g id=\"edge7\" class=\"edge\">\n",
       "<title>approx_functionsquare_rootat0x10e66aca0_60&#45;&gt;assertion_functionsquare_rootat0x10e66aca0_63</title>\n",
       "<path fill=\"none\" stroke=\"black\" d=\"M230.37,-240.49C274.18,-232.98 341.63,-218.17 395.12,-192 431.36,-174.28 467.35,-145.08 491.14,-123.72\"/>\n",
       "<polygon fill=\"black\" stroke=\"black\" points=\"493.19,-126.59 498.22,-117.27 488.47,-121.42 493.19,-126.59\"/>\n",
       "</g>\n",
       "<!-- guess_functionsquare_rootat0x10e66aca0_61&#45;&gt;approx_functionsquare_rootat0x10e66aca0_60 -->\n",
       "<g id=\"edge5\" class=\"edge\">\n",
       "<title>guess_functionsquare_rootat0x10e66aca0_61&#45;&gt;approx_functionsquare_rootat0x10e66aca0_60</title>\n",
       "<path fill=\"none\" stroke=\"black\" d=\"M239.07,-192.31C230.87,-200.62 221.14,-210.49 212.21,-219.54\"/>\n",
       "<polygon fill=\"black\" stroke=\"black\" points=\"209.9,-216.9 205.37,-226.48 214.88,-221.82 209.9,-216.9\"/>\n",
       "</g>\n",
       "<!-- guess_functionsquare_rootat0x10e66aca0_61&#45;&gt;test_functionsquare_rootat0x10e66aca0_59 -->\n",
       "<g id=\"edge14\" class=\"edge\">\n",
       "<title>guess_functionsquare_rootat0x10e66aca0_61&#45;&gt;test_functionsquare_rootat0x10e66aca0_59</title>\n",
       "<path fill=\"none\" stroke=\"black\" d=\"M215.06,-151.56C196.83,-142.42 175.76,-131.43 157.8,-121.71\"/>\n",
       "<polygon fill=\"black\" stroke=\"black\" points=\"159.7,-118.76 149.24,-117.04 156.34,-124.9 159.7,-118.76\"/>\n",
       "</g>\n",
       "<!-- guess_functionsquare_rootat0x10e66aca0_61&#45;&gt;assertion_functionsquare_rootat0x10e66aca0_63 -->\n",
       "<!-- test_functionsquare_rootat0x10e66aca0_59&#45;&gt;approx_functionsquare_rootat0x10e66aca0_60 -->\n",
       "<g id=\"edge6\" class=\"edge\">\n",
       "<title>test_functionsquare_rootat0x10e66aca0_59&#45;&gt;approx_functionsquare_rootat0x10e66aca0_60</title>\n",
       "<path fill=\"none\" stroke=\"grey\" stroke-dasharray=\"5,2\" d=\"M123.72,-116.26C130.58,-135.69 142,-166.41 154.12,-192 158.15,-200.5 162.96,-209.48 167.57,-217.66\"/>\n",
       "<polygon fill=\"grey\" stroke=\"grey\" points=\"164.46,-219.27 172.49,-226.19 170.53,-215.78 164.46,-219.27\"/>\n",
       "</g>\n",
       "<!-- test_functionsquare_rootat0x10e66aca0_59&#45;&gt;approx_functionsquare_rootat0x10e66aca0_60 -->\n",
       "<!-- test_functionsquare_rootat0x10e66aca0_59&#45;&gt;guess_functionsquare_rootat0x10e66aca0_61 -->\n",
       "<g id=\"edge11\" class=\"edge\">\n",
       "<title>test_functionsquare_rootat0x10e66aca0_59&#45;&gt;guess_functionsquare_rootat0x10e66aca0_61</title>\n",
       "<path fill=\"none\" stroke=\"grey\" stroke-dasharray=\"5,2\" d=\"M160.19,-116.44C178.34,-125.54 199.32,-136.48 217.23,-146.17\"/>\n",
       "<polygon fill=\"grey\" stroke=\"grey\" points=\"215.32,-149.12 225.77,-150.83 218.67,-142.97 215.32,-149.12\"/>\n",
       "</g>\n",
       "<!-- assertion_functionsquare_rootat0x10e66aca0_63&#45;&gt;square_rootreturnvalue_functionsquare_rootat0x10e66aca0_64 -->\n",
       "<!-- approx_functionsquare_rootat0x10e66aca0_57&#45;&gt;guess_functionsquare_rootat0x10e66aca0_58 -->\n",
       "<!-- approx_functionsquare_rootat0x10e66aca0_57&#45;&gt;test_functionsquare_rootat0x10e66aca0_59 -->\n",
       "<g id=\"edge13\" class=\"edge\">\n",
       "<title>approx_functionsquare_rootat0x10e66aca0_57&#45;&gt;test_functionsquare_rootat0x10e66aca0_59</title>\n",
       "<path fill=\"none\" stroke=\"black\" d=\"M54.19,-379.51C44.07,-370.02 33.5,-357.7 28.12,-344 21.63,-327.45 24.54,-321.41 28.12,-304 41.92,-237 78.4,-164.94 100.13,-126\"/>\n",
       "<polygon fill=\"black\" stroke=\"black\" points=\"102.95,-128.13 104.83,-117.7 96.86,-124.68 102.95,-128.13\"/>\n",
       "</g>\n",
       "</g>\n",
       "</svg>\n"
      ],
      "text/plain": [
       "<__main__.Slicer at 0x10d952990>"
      ]
     },
     "execution_count": 203,
     "metadata": {},
     "output_type": "execute_result"
    }
   ],
   "source": [
    "root_slicer"
   ]
  },
  {
   "cell_type": "markdown",
   "metadata": {
    "slideshow": {
     "slide_type": "fragment"
    }
   },
   "source": [
    "Again, we can show the code annotated with dependencies:"
   ]
  },
  {
   "cell_type": "code",
   "execution_count": 204,
   "metadata": {
    "execution": {
     "iopub.execute_input": "2025-10-26T17:47:24.088280Z",
     "iopub.status.busy": "2025-10-26T17:47:24.088132Z",
     "iopub.status.idle": "2025-10-26T17:47:24.208473Z",
     "shell.execute_reply": "2025-10-26T17:47:24.208142Z"
    },
    "slideshow": {
     "slide_type": "subslide"
    }
   },
   "outputs": [
    {
     "name": "stdout",
     "output_type": "stream",
     "text": [
      "    54 \u001b[34mdef\u001b[39;49;00m\u001b[37m \u001b[39;49;00m\u001b[32msquare_root\u001b[39;49;00m(x):  \u001b[37m# type: ignore\u001b[39;49;00m\u001b[37m\u001b[39;49;00m\n",
      "*   55     \u001b[34massert\u001b[39;49;00m x >= \u001b[34m0\u001b[39;49;00m  \u001b[37m# precondition  # <= x (64)\u001b[39;49;00m\u001b[37m\u001b[39;49;00m\n",
      "    56 \u001b[37m\u001b[39;49;00m\n",
      "*   57     approx = \u001b[34mNone\u001b[39;49;00m\u001b[37m\u001b[39;49;00m\n",
      "*   58     guess = x / \u001b[34m2\u001b[39;49;00m  \u001b[37m# <= x (64)\u001b[39;49;00m\u001b[37m\u001b[39;49;00m\n",
      "*   59     \u001b[34mwhile\u001b[39;49;00m approx != guess:  \u001b[37m# <= guess (58), approx (57), guess (61), approx (60)\u001b[39;49;00m\u001b[37m\u001b[39;49;00m\n",
      "*   60         approx = guess  \u001b[37m# <= guess (58), guess (61); <- <test> (59)\u001b[39;49;00m\u001b[37m\u001b[39;49;00m\n",
      "*   61         guess = (approx + x / approx) / \u001b[34m2\u001b[39;49;00m  \u001b[37m# <= approx (60), x (64); <- <test> (59)\u001b[39;49;00m\u001b[37m\u001b[39;49;00m\n",
      "    62 \u001b[37m\u001b[39;49;00m\n",
      "*   63     \u001b[34massert\u001b[39;49;00m math.isclose(approx * approx, x)  \u001b[37m# <= approx (60), x (64)\u001b[39;49;00m\u001b[37m\u001b[39;49;00m\n",
      "*   64     \u001b[34mreturn\u001b[39;49;00m approx  \u001b[37m# <= approx (60)\u001b[39;49;00m\u001b[37m\u001b[39;49;00m\n"
     ]
    }
   ],
   "source": [
    "root_slicer.code()"
   ]
  },
  {
   "cell_type": "markdown",
   "metadata": {
    "slideshow": {
     "slide_type": "subslide"
    }
   },
   "source": [
    "The astute reader may find that a statement `assert p` does not control the following code, although it would be equivalent to `if not p: raise Exception`. Why is that?"
   ]
  },
  {
   "cell_type": "code",
   "execution_count": 205,
   "metadata": {
    "execution": {
     "iopub.execute_input": "2025-10-26T17:47:24.209817Z",
     "iopub.status.busy": "2025-10-26T17:47:24.209722Z",
     "iopub.status.idle": "2025-10-26T17:47:24.213350Z",
     "shell.execute_reply": "2025-10-26T17:47:24.213099Z"
    },
    "slideshow": {
     "slide_type": "fragment"
    },
    "tags": [
     "remove-input"
    ]
   },
   "outputs": [
    {
     "data": {
      "text/html": [
       "\n",
       "    \n",
       "    <script>\n",
       "    var bad_answers = new Map();\n",
       "\n",
       "    function answer(quiz_id) {\n",
       "        ans = 0;\n",
       "        for (i = 1;; i++) {\n",
       "            checkbox = document.getElementById(quiz_id + \"-\" + i.toString());\n",
       "            if (!checkbox)\n",
       "                break;\n",
       "            if (checkbox.checked)\n",
       "                ans |= (1 << i);\n",
       "        }\n",
       "        return ans;\n",
       "    }\n",
       "    function check_selection(quiz_id, correct_answer, multiple_choice, hint) {\n",
       "        given_answer = answer(quiz_id);\n",
       "        if (given_answer == correct_answer)\n",
       "        {\n",
       "            document.getElementById(quiz_id + \"-submit\").value = \"Correct!\";\n",
       "            document.getElementById(quiz_id + \"-hint\").innerHTML = \"\";\n",
       "\n",
       "            for (i = 1;; i++) {\n",
       "                checkbox = document.getElementById(quiz_id + \"-\" + i.toString());\n",
       "                label = document.getElementById(quiz_id + \"-\" + i.toString() + \"-label\")\n",
       "                if (!checkbox)\n",
       "                    break;\n",
       "\n",
       "                if (checkbox.checked) {\n",
       "                    label.style.fontWeight = \"bold\";\n",
       "                }\n",
       "                else {\n",
       "                    label.style.textDecoration = \"line-through\";\n",
       "                }\n",
       "            }\n",
       "        }\n",
       "        else \n",
       "        {\n",
       "            document.getElementById(quiz_id + \"-submit\").value = \"Try again\";\n",
       "\n",
       "            if (!bad_answers.has(quiz_id)) {\n",
       "                bad_answers.set(quiz_id, 1);\n",
       "            }\n",
       "            else {\n",
       "                bad_answers.set(quiz_id, bad_answers.get(quiz_id) + 1);\n",
       "            }\n",
       "\n",
       "            if (bad_answers.get(quiz_id) >= 2 && hint.length > 0) {\n",
       "                document.getElementById(quiz_id + \"-hint\").innerHTML = \n",
       "                    \"&nbsp;&nbsp;(Hint: <code>\" + hint + \"</code>)\";\n",
       "            }\n",
       "\n",
       "            if (!multiple_choice) {\n",
       "                for (i = 1;; i++) {\n",
       "                    checkbox = document.getElementById(quiz_id + \"-\" + i.toString());\n",
       "                    label = document.getElementById(quiz_id + \"-\" + i.toString() + \"-label\")\n",
       "\n",
       "                    if (!checkbox)\n",
       "                        break;\n",
       "                    if (checkbox.checked) {\n",
       "                        label.style.textDecoration = \"line-through\";\n",
       "                    }\n",
       "                }\n",
       "            }\n",
       "        }\n",
       "    }\n",
       "    function clear_selection(quiz_id) {\n",
       "        document.getElementById(quiz_id + \"-submit\").value = \"Submit\";\n",
       "        document.getElementById(quiz_id + \"-hint\").innerHTML = \"\";\n",
       "    }\n",
       "    </script>\n",
       "    \n",
       "    <div class=\"quiz\">\n",
       "    <h3 class=\"quiz_title\">Quiz</h3>\n",
       "    <p>\n",
       "    <div class=\"quiz_question\">Why don't <code>assert</code> statements induce control dependencies?</div>\n",
       "    </p>\n",
       "    <p>\n",
       "    <div class=\"quiz_options\" title=\"Pick a choice.\">\n",
       "    \n",
       "        <input type=\"radio\" name=\"d4697a32-b293-11f0-938a-6298cf1a5790\" id=\"d4697a32-b293-11f0-938a-6298cf1a5790-1\" onclick=\"clear_selection('d4697a32-b293-11f0-938a-6298cf1a5790')\">\n",
       "        <label id=\"d4697a32-b293-11f0-938a-6298cf1a5790-1-label\" for=\"d4697a32-b293-11f0-938a-6298cf1a5790-1\">We have no special handling of <code>raise</code> statements</label><br>\n",
       "    \n",
       "        <input type=\"radio\" name=\"d4697a32-b293-11f0-938a-6298cf1a5790\" id=\"d4697a32-b293-11f0-938a-6298cf1a5790-2\" onclick=\"clear_selection('d4697a32-b293-11f0-938a-6298cf1a5790')\">\n",
       "        <label id=\"d4697a32-b293-11f0-938a-6298cf1a5790-2-label\" for=\"d4697a32-b293-11f0-938a-6298cf1a5790-2\">We have no special handling of exceptions</label><br>\n",
       "    \n",
       "        <input type=\"radio\" name=\"d4697a32-b293-11f0-938a-6298cf1a5790\" id=\"d4697a32-b293-11f0-938a-6298cf1a5790-3\" onclick=\"clear_selection('d4697a32-b293-11f0-938a-6298cf1a5790')\">\n",
       "        <label id=\"d4697a32-b293-11f0-938a-6298cf1a5790-3-label\" for=\"d4697a32-b293-11f0-938a-6298cf1a5790-3\">Assertions are not supposed to act as controlling mechanisms</label><br>\n",
       "    \n",
       "        <input type=\"radio\" name=\"d4697a32-b293-11f0-938a-6298cf1a5790\" id=\"d4697a32-b293-11f0-938a-6298cf1a5790-4\" onclick=\"clear_selection('d4697a32-b293-11f0-938a-6298cf1a5790')\">\n",
       "        <label id=\"d4697a32-b293-11f0-938a-6298cf1a5790-4-label\" for=\"d4697a32-b293-11f0-938a-6298cf1a5790-4\">All of the above</label><br>\n",
       "    \n",
       "    </div>\n",
       "    </p>\n",
       "    <input id=\"d4697a32-b293-11f0-938a-6298cf1a5790-submit\" type=\"submit\" value=\"Submit\" onclick=\"check_selection('d4697a32-b293-11f0-938a-6298cf1a5790', 16, 0, '(1 * 1 &lt;&lt; 1 * 1 &lt;&lt; 1 * 1)')\">\n",
       "    <span class=\"quiz_hint\" id=\"d4697a32-b293-11f0-938a-6298cf1a5790-hint\"></span>\n",
       "    </div>\n",
       "    "
      ],
      "text/plain": [
       "<IPython.core.display.HTML object>"
      ]
     },
     "execution_count": 205,
     "metadata": {},
     "output_type": "execute_result"
    }
   ],
   "source": [
    "quiz(\"Why don't `assert` statements induce control dependencies?\",\n",
    "     [\n",
    "         \"We have no special handling of `raise` statements\",\n",
    "         \"We have no special handling of exceptions\",\n",
    "         \"Assertions are not supposed to act as controlling mechanisms\",\n",
    "         \"All of the above\",\n",
    "     ], '(1 * 1 << 1 * 1 << 1 * 1)')"
   ]
  },
  {
   "cell_type": "markdown",
   "metadata": {
    "slideshow": {
     "slide_type": "subslide"
    }
   },
   "source": [
    "Indeed: we treat assertions as \"neutral\" in the sense that they do not affect the remainder of the program – if they are turned off, they have no effect; and if they are turned on, the remaining program logic should not depend on them. (Our instrumentation also has no special treatment of `raise` or even `return` statements; they should be handled by our `with` blocks, though.)"
   ]
  },
  {
   "cell_type": "code",
   "execution_count": 206,
   "metadata": {
    "execution": {
     "iopub.execute_input": "2025-10-26T17:47:24.214655Z",
     "iopub.status.busy": "2025-10-26T17:47:24.214565Z",
     "iopub.status.idle": "2025-10-26T17:47:24.216255Z",
     "shell.execute_reply": "2025-10-26T17:47:24.215835Z"
    },
    "slideshow": {
     "slide_type": "fragment"
    }
   },
   "outputs": [],
   "source": [
    "# print(repr(root_slicer))"
   ]
  },
  {
   "cell_type": "markdown",
   "metadata": {
    "slideshow": {
     "slide_type": "subslide"
    }
   },
   "source": [
    "### Removing HTML Markup"
   ]
  },
  {
   "cell_type": "markdown",
   "metadata": {
    "slideshow": {
     "slide_type": "fragment"
    }
   },
   "source": [
    "Let us come to our ongoing example, `remove_html_markup()`. This is how its instrumented code looks like:"
   ]
  },
  {
   "cell_type": "code",
   "execution_count": 207,
   "metadata": {
    "execution": {
     "iopub.execute_input": "2025-10-26T17:47:24.218493Z",
     "iopub.status.busy": "2025-10-26T17:47:24.218361Z",
     "iopub.status.idle": "2025-10-26T17:47:24.226781Z",
     "shell.execute_reply": "2025-10-26T17:47:24.226425Z"
    },
    "slideshow": {
     "slide_type": "subslide"
    }
   },
   "outputs": [
    {
     "name": "stderr",
     "output_type": "stream",
     "text": [
      "/var/folders/n2/xd9445p97rb3xh7m1dfx8_4h0006ts/T/ipykernel_51412/2454789564.py:22: DeprecationWarning: ast.Str is deprecated and will be removed in Python 3.14; use ast.Constant instead\n",
      "  args=[ast.Str(id), value],\n",
      "/var/folders/n2/xd9445p97rb3xh7m1dfx8_4h0006ts/T/ipykernel_51412/3554319793.py:4: DeprecationWarning: ast.Str is deprecated and will be removed in Python 3.14; use ast.Constant instead\n",
      "  args=[ast.Str(id), Name(id=id, ctx=Load())],\n",
      "/var/folders/n2/xd9445p97rb3xh7m1dfx8_4h0006ts/T/ipykernel_51412/882995308.py:12: DeprecationWarning: ast.Num is deprecated and will be removed in Python 3.14; use ast.Constant instead\n",
      "  keywords=[keyword(arg='pos', value=ast.Num(n + 1))]\n",
      "/var/folders/n2/xd9445p97rb3xh7m1dfx8_4h0006ts/T/ipykernel_51412/882995308.py:19: DeprecationWarning: ast.NameConstant is deprecated and will be removed in Python 3.14; use ast.Constant instead\n",
      "  value=ast.NameConstant(value=True)))\n",
      "/var/folders/n2/xd9445p97rb3xh7m1dfx8_4h0006ts/T/ipykernel_51412/882995308.py:25: DeprecationWarning: ast.Str is deprecated and will be removed in Python 3.14; use ast.Constant instead\n",
      "  args=[ast.Str(child.arg),\n"
     ]
    }
   ],
   "source": [
    "with Slicer(remove_html_markup) as rhm_slicer:\n",
    "    s = remove_html_markup(\"<foo>bar</foo>\")"
   ]
  },
  {
   "cell_type": "markdown",
   "metadata": {
    "slideshow": {
     "slide_type": "fragment"
    }
   },
   "source": [
    "The graph is as discussed in the introduction to this chapter:"
   ]
  },
  {
   "cell_type": "code",
   "execution_count": 208,
   "metadata": {
    "execution": {
     "iopub.execute_input": "2025-10-26T17:47:24.228233Z",
     "iopub.status.busy": "2025-10-26T17:47:24.228141Z",
     "iopub.status.idle": "2025-10-26T17:47:24.603598Z",
     "shell.execute_reply": "2025-10-26T17:47:24.603266Z"
    },
    "slideshow": {
     "slide_type": "subslide"
    }
   },
   "outputs": [
    {
     "data": {
      "image/svg+xml": [
       "<?xml version=\"1.0\" encoding=\"UTF-8\" standalone=\"no\"?>\n",
       "<!DOCTYPE svg PUBLIC \"-//W3C//DTD SVG 1.1//EN\"\n",
       " \"http://www.w3.org/Graphics/SVG/1.1/DTD/svg11.dtd\">\n",
       "<!-- Generated by graphviz version 14.0.2 (20251019.1705)\n",
       " -->\n",
       "<!-- Title: dependencies Pages: 1 -->\n",
       "<svg width=\"614pt\" height=\"884pt\"\n",
       " viewBox=\"0.00 0.00 614.00 884.00\" xmlns=\"http://www.w3.org/2000/svg\" xmlns:xlink=\"http://www.w3.org/1999/xlink\">\n",
       "<g id=\"graph0\" class=\"graph\" transform=\"scale(1 1) rotate(0) translate(4 880)\">\n",
       "<title>dependencies</title>\n",
       "<polygon fill=\"white\" stroke=\"none\" points=\"-4,4 -4,-880 610,-880 610,4 -4,4\"/>\n",
       "<!-- tag_functionremove_html_markupat0x10e69b100_239 -->\n",
       "<g id=\"node1\" class=\"node\">\n",
       "<title>tag_functionremove_html_markupat0x10e69b100_239</title>\n",
       "<g id=\"a_node1\"><a xlink:title=\"remove_html_markup:239\">\n",
       "<polygon fill=\"peachpuff\" stroke=\"black\" points=\"503.88,-876 430.12,-876 430.12,-836 503.88,-836 503.88,-876\"/>\n",
       "<text xml:space=\"preserve\" text-anchor=\"start\" x=\"454.62\" y=\"-859.7\" font-family=\"Courier,monospace\" font-weight=\"bold\" font-size=\"14.00\">tag</text>\n",
       "<text xml:space=\"preserve\" text-anchor=\"start\" x=\"438.12\" y=\"-841.45\" font-family=\"Courier,monospace\" font-size=\"9.00\">tag = False</text>\n",
       "</a>\n",
       "</g>\n",
       "</g>\n",
       "<!-- quote_functionremove_html_markupat0x10e69b100_240 -->\n",
       "<g id=\"node8\" class=\"node\">\n",
       "<title>quote_functionremove_html_markupat0x10e69b100_240</title>\n",
       "<g id=\"a_node8\"><a xlink:title=\"remove_html_markup:240\">\n",
       "<polygon fill=\"peachpuff\" stroke=\"black\" points=\"419.12,-800 334.88,-800 334.88,-760 419.12,-760 419.12,-800\"/>\n",
       "<text xml:space=\"preserve\" text-anchor=\"start\" x=\"356.38\" y=\"-783.7\" font-family=\"Courier,monospace\" font-weight=\"bold\" font-size=\"14.00\">quote</text>\n",
       "<text xml:space=\"preserve\" text-anchor=\"start\" x=\"342.88\" y=\"-765.45\" font-family=\"Courier,monospace\" font-size=\"9.00\">quote = False</text>\n",
       "</a>\n",
       "</g>\n",
       "</g>\n",
       "<!-- tag_functionremove_html_markupat0x10e69b100_239&#45;&gt;quote_functionremove_html_markupat0x10e69b100_240 -->\n",
       "<!-- assertion_functionremove_html_markupat0x10e69b100_244 -->\n",
       "<g id=\"node14\" class=\"node\">\n",
       "<title>assertion_functionremove_html_markupat0x10e69b100_244</title>\n",
       "<g id=\"a_node14\"><a xlink:title=\"remove_html_markup:244\">\n",
       "<polygon fill=\"peachpuff\" stroke=\"black\" points=\"578.38,-420 441.62,-420 441.62,-380 578.38,-380 578.38,-420\"/>\n",
       "<text xml:space=\"preserve\" text-anchor=\"start\" x=\"464.62\" y=\"-403.7\" font-family=\"Courier,monospace\" font-weight=\"bold\" font-style=\"italic\" font-size=\"14.00\">&lt;assertion&gt;</text>\n",
       "<text xml:space=\"preserve\" text-anchor=\"start\" x=\"449.62\" y=\"-385.45\" font-family=\"Courier,monospace\" font-size=\"9.00\">assert tag or not quote</text>\n",
       "</a>\n",
       "</g>\n",
       "</g>\n",
       "<!-- tag_functionremove_html_markupat0x10e69b100_239&#45;&gt;assertion_functionremove_html_markupat0x10e69b100_244 -->\n",
       "<g id=\"edge14\" class=\"edge\">\n",
       "<title>tag_functionremove_html_markupat0x10e69b100_239&#45;&gt;assertion_functionremove_html_markupat0x10e69b100_244</title>\n",
       "<path fill=\"none\" stroke=\"black\" d=\"M490.71,-835.63C520,-809.36 566,-759.45 566,-705 566,-705 566,-705 566,-551 566,-506.69 544.28,-459.39 527.9,-430.02\"/>\n",
       "<polygon fill=\"black\" stroke=\"black\" points=\"530.93,-428.27 522.91,-421.35 524.87,-431.77 530.93,-428.27\"/>\n",
       "</g>\n",
       "<!-- test_functionremove_html_markupat0x10e69b100_252 -->\n",
       "<g id=\"node2\" class=\"node\">\n",
       "<title>test_functionremove_html_markupat0x10e69b100_252</title>\n",
       "<g id=\"a_node2\"><a xlink:title=\"remove_html_markup:252\">\n",
       "<polygon fill=\"peachpuff\" stroke=\"black\" points=\"271.12,-192 186.88,-192 186.88,-152 271.12,-152 271.12,-192\"/>\n",
       "<text xml:space=\"preserve\" text-anchor=\"start\" x=\"204.25\" y=\"-175.7\" font-family=\"Courier,monospace\" font-weight=\"bold\" font-style=\"italic\" font-size=\"14.00\">&lt;test&gt;</text>\n",
       "<text xml:space=\"preserve\" text-anchor=\"start\" x=\"194.88\" y=\"-157.45\" font-family=\"Courier,monospace\" font-size=\"9.00\">elif not tag:</text>\n",
       "</a>\n",
       "</g>\n",
       "</g>\n",
       "<!-- out_functionremove_html_markupat0x10e69b100_253 -->\n",
       "<g id=\"node9\" class=\"node\">\n",
       "<title>out_functionremove_html_markupat0x10e69b100_253</title>\n",
       "<g id=\"a_node9\"><a xlink:title=\"remove_html_markup:253\">\n",
       "<polygon fill=\"peachpuff\" stroke=\"black\" points=\"271.12,-116 186.88,-116 186.88,-76 271.12,-76 271.12,-116\"/>\n",
       "<text xml:space=\"preserve\" text-anchor=\"start\" x=\"216.62\" y=\"-99.7\" font-family=\"Courier,monospace\" font-weight=\"bold\" font-size=\"14.00\">out</text>\n",
       "<text xml:space=\"preserve\" text-anchor=\"start\" x=\"194.88\" y=\"-81.45\" font-family=\"Courier,monospace\" font-size=\"9.00\">out = out + c</text>\n",
       "</a>\n",
       "</g>\n",
       "</g>\n",
       "<!-- test_functionremove_html_markupat0x10e69b100_252&#45;&gt;out_functionremove_html_markupat0x10e69b100_253 -->\n",
       "<g id=\"edge8\" class=\"edge\">\n",
       "<title>test_functionremove_html_markupat0x10e69b100_252&#45;&gt;out_functionremove_html_markupat0x10e69b100_253</title>\n",
       "<path fill=\"none\" stroke=\"grey\" stroke-dasharray=\"5,2\" d=\"M222.98,-151.56C222.32,-144.25 222.11,-135.75 222.34,-127.67\"/>\n",
       "<polygon fill=\"grey\" stroke=\"grey\" points=\"225.82,-128.01 222.9,-117.82 218.84,-127.61 225.82,-128.01\"/>\n",
       "</g>\n",
       "<!-- test_functionremove_html_markupat0x10e69b100_252&#45;&gt;out_functionremove_html_markupat0x10e69b100_253 -->\n",
       "<!-- tag_functionremove_html_markupat0x10e69b100_247 -->\n",
       "<g id=\"node3\" class=\"node\">\n",
       "<title>tag_functionremove_html_markupat0x10e69b100_247</title>\n",
       "<g id=\"a_node3\"><a xlink:title=\"remove_html_markup:247\">\n",
       "<polygon fill=\"peachpuff\" stroke=\"black\" points=\"438.25,-268 369.75,-268 369.75,-228 438.25,-228 438.25,-268\"/>\n",
       "<text xml:space=\"preserve\" text-anchor=\"start\" x=\"391.62\" y=\"-251.7\" font-family=\"Courier,monospace\" font-weight=\"bold\" font-size=\"14.00\">tag</text>\n",
       "<text xml:space=\"preserve\" text-anchor=\"start\" x=\"377.75\" y=\"-233.45\" font-family=\"Courier,monospace\" font-size=\"9.00\">tag = True</text>\n",
       "</a>\n",
       "</g>\n",
       "</g>\n",
       "<!-- tag_functionremove_html_markupat0x10e69b100_247&#45;&gt;test_functionremove_html_markupat0x10e69b100_252 -->\n",
       "<g id=\"edge1\" class=\"edge\">\n",
       "<title>tag_functionremove_html_markupat0x10e69b100_247&#45;&gt;test_functionremove_html_markupat0x10e69b100_252</title>\n",
       "<path fill=\"none\" stroke=\"black\" d=\"M369.43,-232.38C344.52,-221.85 310.44,-207.44 282.1,-195.45\"/>\n",
       "<polygon fill=\"black\" stroke=\"black\" points=\"283.52,-192.25 272.94,-191.58 280.79,-198.7 283.52,-192.25\"/>\n",
       "</g>\n",
       "<!-- test_functionremove_html_markupat0x10e69b100_248 -->\n",
       "<g id=\"node7\" class=\"node\">\n",
       "<title>test_functionremove_html_markupat0x10e69b100_248</title>\n",
       "<g id=\"a_node7\"><a xlink:title=\"remove_html_markup:248\">\n",
       "<polygon fill=\"peachpuff\" stroke=\"black\" points=\"347.5,-572 184.5,-572 184.5,-532 347.5,-532 347.5,-572\"/>\n",
       "<text xml:space=\"preserve\" text-anchor=\"start\" x=\"241.25\" y=\"-555.7\" font-family=\"Courier,monospace\" font-weight=\"bold\" font-style=\"italic\" font-size=\"14.00\">&lt;test&gt;</text>\n",
       "<text xml:space=\"preserve\" text-anchor=\"start\" x=\"192.5\" y=\"-537.45\" font-family=\"Courier,monospace\" font-size=\"9.00\">elif c == &#39;&gt;&#39; and not quote:</text>\n",
       "</a>\n",
       "</g>\n",
       "</g>\n",
       "<!-- tag_functionremove_html_markupat0x10e69b100_247&#45;&gt;test_functionremove_html_markupat0x10e69b100_248 -->\n",
       "<!-- tag_functionremove_html_markupat0x10e69b100_247&#45;&gt;assertion_functionremove_html_markupat0x10e69b100_244 -->\n",
       "<g id=\"edge16\" class=\"edge\">\n",
       "<title>tag_functionremove_html_markupat0x10e69b100_247&#45;&gt;assertion_functionremove_html_markupat0x10e69b100_244</title>\n",
       "<path fill=\"none\" stroke=\"black\" d=\"M438.58,-263.51C456.24,-272.64 476.57,-286.1 489,-304 502.15,-322.93 507.25,-348.67 509.14,-368.58\"/>\n",
       "<polygon fill=\"black\" stroke=\"black\" points=\"505.63,-368.59 509.83,-378.32 512.61,-368.09 505.63,-368.59\"/>\n",
       "</g>\n",
       "<!-- tag_functionremove_html_markupat0x10e69b100_249 -->\n",
       "<g id=\"node4\" class=\"node\">\n",
       "<title>tag_functionremove_html_markupat0x10e69b100_249</title>\n",
       "<g id=\"a_node4\"><a xlink:title=\"remove_html_markup:249\">\n",
       "<polygon fill=\"peachpuff\" stroke=\"black\" points=\"271.88,-496 198.12,-496 198.12,-456 271.88,-456 271.88,-496\"/>\n",
       "<text xml:space=\"preserve\" text-anchor=\"start\" x=\"222.62\" y=\"-479.7\" font-family=\"Courier,monospace\" font-weight=\"bold\" font-size=\"14.00\">tag</text>\n",
       "<text xml:space=\"preserve\" text-anchor=\"start\" x=\"206.12\" y=\"-461.45\" font-family=\"Courier,monospace\" font-size=\"9.00\">tag = False</text>\n",
       "</a>\n",
       "</g>\n",
       "</g>\n",
       "<!-- tag_functionremove_html_markupat0x10e69b100_249&#45;&gt;test_functionremove_html_markupat0x10e69b100_252 -->\n",
       "<g id=\"edge2\" class=\"edge\">\n",
       "<title>tag_functionremove_html_markupat0x10e69b100_249&#45;&gt;test_functionremove_html_markupat0x10e69b100_252</title>\n",
       "<path fill=\"none\" stroke=\"black\" d=\"M238.5,-455.73C240.23,-445.21 242.14,-431.93 243,-420 248.63,-342.14 239.21,-250.33 233.27,-203.63\"/>\n",
       "<polygon fill=\"black\" stroke=\"black\" points=\"236.74,-203.19 231.97,-193.73 229.8,-204.1 236.74,-203.19\"/>\n",
       "</g>\n",
       "<!-- test_functionremove_html_markupat0x10e69b100_250 -->\n",
       "<g id=\"node5\" class=\"node\">\n",
       "<title>test_functionremove_html_markupat0x10e69b100_250</title>\n",
       "<g id=\"a_node5\"><a xlink:title=\"remove_html_markup:250\">\n",
       "<polygon fill=\"peachpuff\" stroke=\"black\" points=\"233.5,-420 28.5,-420 28.5,-380 233.5,-380 233.5,-420\"/>\n",
       "<text xml:space=\"preserve\" text-anchor=\"start\" x=\"106.25\" y=\"-403.7\" font-family=\"Courier,monospace\" font-weight=\"bold\" font-style=\"italic\" font-size=\"14.00\">&lt;test&gt;</text>\n",
       "<text xml:space=\"preserve\" text-anchor=\"start\" x=\"36.5\" y=\"-385.45\" font-family=\"Courier,monospace\" font-size=\"9.00\">elif (c == &#39;&quot;&#39; or c == &quot;&#39;&quot;) and tag:</text>\n",
       "</a>\n",
       "</g>\n",
       "</g>\n",
       "<!-- tag_functionremove_html_markupat0x10e69b100_249&#45;&gt;test_functionremove_html_markupat0x10e69b100_250 -->\n",
       "<!-- tag_functionremove_html_markupat0x10e69b100_249&#45;&gt;assertion_functionremove_html_markupat0x10e69b100_244 -->\n",
       "<g id=\"edge17\" class=\"edge\">\n",
       "<title>tag_functionremove_html_markupat0x10e69b100_249&#45;&gt;assertion_functionremove_html_markupat0x10e69b100_244</title>\n",
       "<path fill=\"none\" stroke=\"black\" d=\"M272.37,-464.94C312.75,-454.08 378.29,-436.44 430.32,-422.44\"/>\n",
       "<polygon fill=\"black\" stroke=\"black\" points=\"430.99,-425.88 439.74,-419.91 429.17,-419.13 430.99,-425.88\"/>\n",
       "</g>\n",
       "<!-- test_functionremove_html_markupat0x10e69b100_250&#45;&gt;test_functionremove_html_markupat0x10e69b100_252 -->\n",
       "<g id=\"edge3\" class=\"edge\">\n",
       "<title>test_functionremove_html_markupat0x10e69b100_250&#45;&gt;test_functionremove_html_markupat0x10e69b100_252</title>\n",
       "<path fill=\"none\" stroke=\"grey\" stroke-dasharray=\"5,2\" d=\"M135.38,-379.73C149.12,-340.12 188.25,-249.33 211.55,-202.35\"/>\n",
       "<polygon fill=\"grey\" stroke=\"grey\" points=\"214.61,-204.07 216.01,-193.57 208.36,-200.91 214.61,-204.07\"/>\n",
       "</g>\n",
       "<!-- test_functionremove_html_markupat0x10e69b100_250&#45;&gt;test_functionremove_html_markupat0x10e69b100_252 -->\n",
       "<!-- s_functionremove_html_markupat0x10e69b100_255 -->\n",
       "<g id=\"node6\" class=\"node\">\n",
       "<title>s_functionremove_html_markupat0x10e69b100_255</title>\n",
       "<g id=\"a_node6\"><a xlink:title=\"remove_html_markup:255\">\n",
       "<polygon fill=\"peachpuff\" stroke=\"black\" points=\"492.25,-724 423.75,-724 423.75,-684 492.25,-684 492.25,-724\"/>\n",
       "<text xml:space=\"preserve\" text-anchor=\"start\" x=\"453.88\" y=\"-707.7\" font-family=\"Courier,monospace\" font-weight=\"bold\" font-size=\"14.00\">s</text>\n",
       "<text xml:space=\"preserve\" text-anchor=\"start\" x=\"431.75\" y=\"-689.45\" font-family=\"Courier,monospace\" font-size=\"9.00\">return out</text>\n",
       "</a>\n",
       "</g>\n",
       "</g>\n",
       "<!-- c_functionremove_html_markupat0x10e69b100_243 -->\n",
       "<g id=\"node10\" class=\"node\">\n",
       "<title>c_functionremove_html_markupat0x10e69b100_243</title>\n",
       "<g id=\"a_node10\"><a xlink:title=\"remove_html_markup:243\">\n",
       "<polygon fill=\"peachpuff\" stroke=\"black\" points=\"459.88,-648 386.12,-648 386.12,-608 459.88,-608 459.88,-648\"/>\n",
       "<text xml:space=\"preserve\" text-anchor=\"start\" x=\"418.88\" y=\"-631.7\" font-family=\"Courier,monospace\" font-weight=\"bold\" font-size=\"14.00\">c</text>\n",
       "<text xml:space=\"preserve\" text-anchor=\"start\" x=\"394.12\" y=\"-613.45\" font-family=\"Courier,monospace\" font-size=\"9.00\">for c in s:</text>\n",
       "</a>\n",
       "</g>\n",
       "</g>\n",
       "<!-- s_functionremove_html_markupat0x10e69b100_255&#45;&gt;c_functionremove_html_markupat0x10e69b100_243 -->\n",
       "<g id=\"edge10\" class=\"edge\">\n",
       "<title>s_functionremove_html_markupat0x10e69b100_255&#45;&gt;c_functionremove_html_markupat0x10e69b100_243</title>\n",
       "<path fill=\"none\" stroke=\"black\" d=\"M448.8,-683.56C445.19,-675.91 440.95,-666.96 436.97,-658.55\"/>\n",
       "<polygon fill=\"black\" stroke=\"black\" points=\"440.22,-657.22 432.78,-649.68 433.89,-660.22 440.22,-657.22\"/>\n",
       "</g>\n",
       "<!-- test_functionremove_html_markupat0x10e69b100_248&#45;&gt;tag_functionremove_html_markupat0x10e69b100_249 -->\n",
       "<g id=\"edge4\" class=\"edge\">\n",
       "<title>test_functionremove_html_markupat0x10e69b100_248&#45;&gt;tag_functionremove_html_markupat0x10e69b100_249</title>\n",
       "<path fill=\"none\" stroke=\"grey\" stroke-dasharray=\"5,2\" d=\"M251.83,-531.56C248.03,-524.08 244.17,-515.36 240.97,-507.11\"/>\n",
       "<polygon fill=\"grey\" stroke=\"grey\" points=\"244.27,-505.96 237.59,-497.74 237.69,-508.33 244.27,-505.96\"/>\n",
       "</g>\n",
       "<!-- test_functionremove_html_markupat0x10e69b100_248&#45;&gt;tag_functionremove_html_markupat0x10e69b100_249 -->\n",
       "<!-- test_functionremove_html_markupat0x10e69b100_248&#45;&gt;test_functionremove_html_markupat0x10e69b100_250 -->\n",
       "<g id=\"edge22\" class=\"edge\">\n",
       "<title>test_functionremove_html_markupat0x10e69b100_248&#45;&gt;test_functionremove_html_markupat0x10e69b100_250</title>\n",
       "<path fill=\"none\" stroke=\"grey\" stroke-dasharray=\"5,2\" d=\"M232.98,-531.66C218.42,-522.12 201.76,-509.71 189,-496 170.81,-476.45 155.36,-450.33 144.99,-430.43\"/>\n",
       "<polygon fill=\"grey\" stroke=\"grey\" points=\"148.23,-429.07 140.59,-421.72 141.98,-432.23 148.23,-429.07\"/>\n",
       "</g>\n",
       "<!-- quote_functionremove_html_markupat0x10e69b100_240&#45;&gt;test_functionremove_html_markupat0x10e69b100_248 -->\n",
       "<g id=\"edge18\" class=\"edge\">\n",
       "<title>quote_functionremove_html_markupat0x10e69b100_240&#45;&gt;test_functionremove_html_markupat0x10e69b100_248</title>\n",
       "<path fill=\"none\" stroke=\"black\" d=\"M342.74,-759.57C329.42,-750.4 315.18,-738.3 306,-724 278.1,-680.55 269.61,-619.75 267.06,-583.57\"/>\n",
       "<polygon fill=\"black\" stroke=\"black\" points=\"270.57,-583.6 266.49,-573.82 263.58,-584.01 270.57,-583.6\"/>\n",
       "</g>\n",
       "<!-- out_functionremove_html_markupat0x10e69b100_241 -->\n",
       "<g id=\"node11\" class=\"node\">\n",
       "<title>out_functionremove_html_markupat0x10e69b100_241</title>\n",
       "<g id=\"a_node11\"><a xlink:title=\"remove_html_markup:241\">\n",
       "<polygon fill=\"peachpuff\" stroke=\"black\" points=\"406,-724 348,-724 348,-684 406,-684 406,-724\"/>\n",
       "<text xml:space=\"preserve\" text-anchor=\"start\" x=\"364.62\" y=\"-707.7\" font-family=\"Courier,monospace\" font-weight=\"bold\" font-size=\"14.00\">out</text>\n",
       "<text xml:space=\"preserve\" text-anchor=\"start\" x=\"356\" y=\"-689.45\" font-family=\"Courier,monospace\" font-size=\"9.00\">out = &quot;&quot;</text>\n",
       "</a>\n",
       "</g>\n",
       "</g>\n",
       "<!-- quote_functionremove_html_markupat0x10e69b100_240&#45;&gt;out_functionremove_html_markupat0x10e69b100_241 -->\n",
       "<!-- test_functionremove_html_markupat0x10e69b100_246 -->\n",
       "<g id=\"node12\" class=\"node\">\n",
       "<title>test_functionremove_html_markupat0x10e69b100_246</title>\n",
       "<g id=\"a_node12\"><a xlink:title=\"remove_html_markup:246\">\n",
       "<polygon fill=\"peachpuff\" stroke=\"black\" points=\"480.25,-344 327.75,-344 327.75,-304 480.25,-304 480.25,-344\"/>\n",
       "<text xml:space=\"preserve\" text-anchor=\"start\" x=\"379.25\" y=\"-327.7\" font-family=\"Courier,monospace\" font-weight=\"bold\" font-style=\"italic\" font-size=\"14.00\">&lt;test&gt;</text>\n",
       "<text xml:space=\"preserve\" text-anchor=\"start\" x=\"335.75\" y=\"-309.45\" font-family=\"Courier,monospace\" font-size=\"9.00\">if c == &#39;&lt;&#39; and not quote:</text>\n",
       "</a>\n",
       "</g>\n",
       "</g>\n",
       "<!-- quote_functionremove_html_markupat0x10e69b100_240&#45;&gt;test_functionremove_html_markupat0x10e69b100_246 -->\n",
       "<g id=\"edge12\" class=\"edge\">\n",
       "<title>quote_functionremove_html_markupat0x10e69b100_240&#45;&gt;test_functionremove_html_markupat0x10e69b100_246</title>\n",
       "<path fill=\"none\" stroke=\"black\" d=\"M359.33,-759.68C351.47,-749.78 343.08,-737.07 339,-724 333.71,-707.03 337.41,-701.71 339,-684 341.94,-651.23 382.93,-435.16 398.26,-354.92\"/>\n",
       "<polygon fill=\"black\" stroke=\"black\" points=\"401.61,-356.08 400.05,-345.6 394.73,-354.76 401.61,-356.08\"/>\n",
       "</g>\n",
       "<!-- quote_functionremove_html_markupat0x10e69b100_240&#45;&gt;assertion_functionremove_html_markupat0x10e69b100_244 -->\n",
       "<g id=\"edge15\" class=\"edge\">\n",
       "<title>quote_functionremove_html_markupat0x10e69b100_240&#45;&gt;assertion_functionremove_html_markupat0x10e69b100_244</title>\n",
       "<path fill=\"none\" stroke=\"black\" d=\"M419.35,-770.02C446.32,-762.19 480,-748.18 501,-724 529.78,-690.86 528,-672.89 528,-629 528,-629 528,-629 528,-551 528,-509.32 521.06,-461.59 515.8,-431.38\"/>\n",
       "<polygon fill=\"black\" stroke=\"black\" points=\"519.3,-431.04 514.09,-421.82 512.41,-432.28 519.3,-431.04\"/>\n",
       "</g>\n",
       "<!-- out_functionremove_html_markupat0x10e69b100_253&#45;&gt;out_functionremove_html_markupat0x10e69b100_253 -->\n",
       "<g id=\"edge5\" class=\"edge\">\n",
       "<title>out_functionremove_html_markupat0x10e69b100_253&#45;&gt;out_functionremove_html_markupat0x10e69b100_253</title>\n",
       "<path fill=\"none\" stroke=\"black\" d=\"M271.42,-110C281.59,-108.9 289.12,-104.24 289.12,-96 289.12,-91.11 286.47,-87.48 282.18,-85.1\"/>\n",
       "<polygon fill=\"black\" stroke=\"black\" points=\"283.45,-81.83 272.87,-82.42 281.51,-88.55 283.45,-81.83\"/>\n",
       "</g>\n",
       "<!-- remove_html_markupreturnvalue_functionremove_html_markupat0x10e69b100_255 -->\n",
       "<g id=\"node13\" class=\"node\">\n",
       "<title>remove_html_markupreturnvalue_functionremove_html_markupat0x10e69b100_255</title>\n",
       "<g id=\"a_node13\"><a xlink:title=\"remove_html_markup:255\">\n",
       "<polygon fill=\"peachpuff\" stroke=\"black\" points=\"381.38,-40 76.62,-40 76.62,0 381.38,0 381.38,-40\"/>\n",
       "<text xml:space=\"preserve\" text-anchor=\"start\" x=\"84.62\" y=\"-23.7\" font-family=\"Courier,monospace\" font-weight=\"bold\" font-style=\"italic\" font-size=\"14.00\">&lt;remove_html_markup() return value&gt;</text>\n",
       "<text xml:space=\"preserve\" text-anchor=\"start\" x=\"202.75\" y=\"-5.45\" font-family=\"Courier,monospace\" font-size=\"9.00\">return out</text>\n",
       "</a>\n",
       "</g>\n",
       "</g>\n",
       "<!-- out_functionremove_html_markupat0x10e69b100_253&#45;&gt;remove_html_markupreturnvalue_functionremove_html_markupat0x10e69b100_255 -->\n",
       "<g id=\"edge11\" class=\"edge\">\n",
       "<title>out_functionremove_html_markupat0x10e69b100_253&#45;&gt;remove_html_markupreturnvalue_functionremove_html_markupat0x10e69b100_255</title>\n",
       "<path fill=\"none\" stroke=\"black\" d=\"M222.98,-75.56C222.32,-68.25 222.11,-59.75 222.34,-51.67\"/>\n",
       "<polygon fill=\"black\" stroke=\"black\" points=\"225.82,-52.01 222.9,-41.82 218.84,-51.61 225.82,-52.01\"/>\n",
       "</g>\n",
       "<!-- out_functionremove_html_markupat0x10e69b100_253&#45;&gt;remove_html_markupreturnvalue_functionremove_html_markupat0x10e69b100_255 -->\n",
       "<!-- c_functionremove_html_markupat0x10e69b100_243&#45;&gt;test_functionremove_html_markupat0x10e69b100_250 -->\n",
       "<g id=\"edge21\" class=\"edge\">\n",
       "<title>c_functionremove_html_markupat0x10e69b100_243&#45;&gt;test_functionremove_html_markupat0x10e69b100_250</title>\n",
       "<path fill=\"none\" stroke=\"black\" d=\"M385.64,-612.24C381.09,-610.69 376.46,-609.23 372,-608 286.62,-584.45 240.95,-632.21 176,-572 137.01,-535.86 130.18,-470.36 129.84,-431.77\"/>\n",
       "<polygon fill=\"black\" stroke=\"black\" points=\"133.34,-432.02 129.91,-422 126.34,-431.97 133.34,-432.02\"/>\n",
       "</g>\n",
       "<!-- c_functionremove_html_markupat0x10e69b100_243&#45;&gt;test_functionremove_html_markupat0x10e69b100_248 -->\n",
       "<g id=\"edge19\" class=\"edge\">\n",
       "<title>c_functionremove_html_markupat0x10e69b100_243&#45;&gt;test_functionremove_html_markupat0x10e69b100_248</title>\n",
       "<path fill=\"none\" stroke=\"black\" d=\"M385.79,-609.46C365.44,-599.87 339.91,-587.84 317.65,-577.35\"/>\n",
       "<polygon fill=\"black\" stroke=\"black\" points=\"319.27,-574.24 308.73,-573.14 316.28,-580.57 319.27,-574.24\"/>\n",
       "</g>\n",
       "<!-- c_functionremove_html_markupat0x10e69b100_243&#45;&gt;out_functionremove_html_markupat0x10e69b100_253 -->\n",
       "<g id=\"edge6\" class=\"edge\">\n",
       "<title>c_functionremove_html_markupat0x10e69b100_243&#45;&gt;out_functionremove_html_markupat0x10e69b100_253</title>\n",
       "<path fill=\"none\" stroke=\"black\" d=\"M443.62,-607.77C478.93,-573.59 550.68,-498.42 587,-420 605.09,-380.93 606,-368.06 606,-325 606,-325 606,-325 606,-247 606,-178.25 386.85,-127.14 282.72,-106.74\"/>\n",
       "<polygon fill=\"black\" stroke=\"black\" points=\"283.48,-103.32 273,-104.86 282.15,-110.19 283.48,-103.32\"/>\n",
       "</g>\n",
       "<!-- c_functionremove_html_markupat0x10e69b100_243&#45;&gt;test_functionremove_html_markupat0x10e69b100_246 -->\n",
       "<g id=\"edge13\" class=\"edge\">\n",
       "<title>c_functionremove_html_markupat0x10e69b100_243&#45;&gt;test_functionremove_html_markupat0x10e69b100_246</title>\n",
       "<path fill=\"none\" stroke=\"black\" d=\"M421.78,-607.65C418.57,-556.51 409.82,-417.47 405.92,-355.51\"/>\n",
       "<polygon fill=\"black\" stroke=\"black\" points=\"409.42,-355.46 405.3,-345.7 402.44,-355.9 409.42,-355.46\"/>\n",
       "</g>\n",
       "<!-- c_functionremove_html_markupat0x10e69b100_243&#45;&gt;assertion_functionremove_html_markupat0x10e69b100_244 -->\n",
       "<!-- out_functionremove_html_markupat0x10e69b100_241&#45;&gt;out_functionremove_html_markupat0x10e69b100_253 -->\n",
       "<g id=\"edge7\" class=\"edge\">\n",
       "<title>out_functionremove_html_markupat0x10e69b100_241&#45;&gt;out_functionremove_html_markupat0x10e69b100_253</title>\n",
       "<path fill=\"none\" stroke=\"black\" d=\"M347.74,-690.73C301.52,-670.45 210.19,-626.72 145,-572 47.5,-490.16 0,-452.3 0,-325 0,-325 0,-325 0,-247 0,-163.49 107.89,-123.95 175.56,-107.36\"/>\n",
       "<polygon fill=\"black\" stroke=\"black\" points=\"176.06,-110.84 184.99,-105.15 174.45,-104.03 176.06,-110.84\"/>\n",
       "</g>\n",
       "<!-- out_functionremove_html_markupat0x10e69b100_241&#45;&gt;c_functionremove_html_markupat0x10e69b100_243 -->\n",
       "<!-- test_functionremove_html_markupat0x10e69b100_246&#45;&gt;tag_functionremove_html_markupat0x10e69b100_247 -->\n",
       "<g id=\"edge9\" class=\"edge\">\n",
       "<title>test_functionremove_html_markupat0x10e69b100_246&#45;&gt;tag_functionremove_html_markupat0x10e69b100_247</title>\n",
       "<path fill=\"none\" stroke=\"grey\" stroke-dasharray=\"5,2\" d=\"M397.98,-303.56C397.32,-296.25 397.11,-287.75 397.34,-279.67\"/>\n",
       "<polygon fill=\"grey\" stroke=\"grey\" points=\"400.82,-280.01 397.9,-269.82 393.84,-279.61 400.82,-280.01\"/>\n",
       "</g>\n",
       "<!-- test_functionremove_html_markupat0x10e69b100_246&#45;&gt;tag_functionremove_html_markupat0x10e69b100_247 -->\n",
       "<!-- test_functionremove_html_markupat0x10e69b100_246&#45;&gt;test_functionremove_html_markupat0x10e69b100_248 -->\n",
       "<g id=\"edge20\" class=\"edge\">\n",
       "<title>test_functionremove_html_markupat0x10e69b100_246&#45;&gt;test_functionremove_html_markupat0x10e69b100_248</title>\n",
       "<path fill=\"none\" stroke=\"grey\" stroke-dasharray=\"5,2\" d=\"M387.12,-344.5C378.87,-354.64 369.19,-367.5 362,-380 334.17,-428.36 343.4,-448.58 314,-496 308.16,-505.41 300.72,-514.81 293.44,-523.1\"/>\n",
       "<polygon fill=\"grey\" stroke=\"grey\" points=\"290.86,-520.74 286.72,-530.5 296.04,-525.45 290.86,-520.74\"/>\n",
       "</g>\n",
       "<!-- assertion_functionremove_html_markupat0x10e69b100_244&#45;&gt;test_functionremove_html_markupat0x10e69b100_246 -->\n",
       "</g>\n",
       "</svg>\n"
      ],
      "text/plain": [
       "<__main__.Slicer at 0x10d952c10>"
      ]
     },
     "execution_count": 208,
     "metadata": {},
     "output_type": "execute_result"
    }
   ],
   "source": [
    "rhm_slicer"
   ]
  },
  {
   "cell_type": "code",
   "execution_count": 209,
   "metadata": {
    "execution": {
     "iopub.execute_input": "2025-10-26T17:47:24.605313Z",
     "iopub.status.busy": "2025-10-26T17:47:24.605169Z",
     "iopub.status.idle": "2025-10-26T17:47:24.607311Z",
     "shell.execute_reply": "2025-10-26T17:47:24.606951Z"
    },
    "slideshow": {
     "slide_type": "fragment"
    }
   },
   "outputs": [],
   "source": [
    "# print(repr(rhm_slicer.dependencies()))"
   ]
  },
  {
   "cell_type": "code",
   "execution_count": 210,
   "metadata": {
    "execution": {
     "iopub.execute_input": "2025-10-26T17:47:24.609056Z",
     "iopub.status.busy": "2025-10-26T17:47:24.608894Z",
     "iopub.status.idle": "2025-10-26T17:47:24.800898Z",
     "shell.execute_reply": "2025-10-26T17:47:24.800562Z"
    },
    "slideshow": {
     "slide_type": "subslide"
    }
   },
   "outputs": [
    {
     "name": "stdout",
     "output_type": "stream",
     "text": [
      "   238 \u001b[34mdef\u001b[39;49;00m\u001b[37m \u001b[39;49;00m\u001b[32mremove_html_markup\u001b[39;49;00m(s):  \u001b[37m# type: ignore\u001b[39;49;00m\u001b[37m\u001b[39;49;00m\n",
      "*  239     tag = \u001b[34mFalse\u001b[39;49;00m\u001b[37m\u001b[39;49;00m\n",
      "*  240     quote = \u001b[34mFalse\u001b[39;49;00m\u001b[37m\u001b[39;49;00m\n",
      "*  241     out = \u001b[33m\"\u001b[39;49;00m\u001b[33m\"\u001b[39;49;00m\u001b[37m\u001b[39;49;00m\n",
      "   242 \u001b[37m\u001b[39;49;00m\n",
      "*  243     \u001b[34mfor\u001b[39;49;00m c \u001b[35min\u001b[39;49;00m s:  \u001b[37m# <= s (255)\u001b[39;49;00m\u001b[37m\u001b[39;49;00m\n",
      "*  244         \u001b[34massert\u001b[39;49;00m tag \u001b[35mor\u001b[39;49;00m \u001b[35mnot\u001b[39;49;00m quote  \u001b[37m# <= tag (239), quote (240), tag (247), tag (249)\u001b[39;49;00m\u001b[37m\u001b[39;49;00m\n",
      "   245 \u001b[37m\u001b[39;49;00m\n",
      "*  246         \u001b[34mif\u001b[39;49;00m c == \u001b[33m'\u001b[39;49;00m\u001b[33m<\u001b[39;49;00m\u001b[33m'\u001b[39;49;00m \u001b[35mand\u001b[39;49;00m \u001b[35mnot\u001b[39;49;00m quote:  \u001b[37m# <= quote (240), c (243)\u001b[39;49;00m\u001b[37m\u001b[39;49;00m\n",
      "*  247             tag = \u001b[34mTrue\u001b[39;49;00m  \u001b[37m# <- <test> (246)\u001b[39;49;00m\u001b[37m\u001b[39;49;00m\n",
      "*  248         \u001b[34melif\u001b[39;49;00m c == \u001b[33m'\u001b[39;49;00m\u001b[33m>\u001b[39;49;00m\u001b[33m'\u001b[39;49;00m \u001b[35mand\u001b[39;49;00m \u001b[35mnot\u001b[39;49;00m quote:  \u001b[37m# <= quote (240), c (243); <- <test> (246)\u001b[39;49;00m\u001b[37m\u001b[39;49;00m\n",
      "*  249             tag = \u001b[34mFalse\u001b[39;49;00m  \u001b[37m# <- <test> (248)\u001b[39;49;00m\u001b[37m\u001b[39;49;00m\n",
      "*  250         \u001b[34melif\u001b[39;49;00m (c == \u001b[33m'\u001b[39;49;00m\u001b[33m\"\u001b[39;49;00m\u001b[33m'\u001b[39;49;00m \u001b[35mor\u001b[39;49;00m c == \u001b[33m\"\u001b[39;49;00m\u001b[33m'\u001b[39;49;00m\u001b[33m\"\u001b[39;49;00m) \u001b[35mand\u001b[39;49;00m tag:  \u001b[37m# <= c (243); <- <test> (248)\u001b[39;49;00m\u001b[37m\u001b[39;49;00m\n",
      "   251             quote = \u001b[35mnot\u001b[39;49;00m quote\u001b[37m\u001b[39;49;00m\n",
      "*  252         \u001b[34melif\u001b[39;49;00m \u001b[35mnot\u001b[39;49;00m tag:  \u001b[37m# <= tag (247), tag (249); <- <test> (250)\u001b[39;49;00m\u001b[37m\u001b[39;49;00m\n",
      "*  253             out = out + c  \u001b[37m# <= out (253), c (243), out (241); <- <test> (252)\u001b[39;49;00m\u001b[37m\u001b[39;49;00m\n",
      "   254 \u001b[37m\u001b[39;49;00m\n",
      "*  255     \u001b[34mreturn\u001b[39;49;00m out  \u001b[37m# <= out (253)\u001b[39;49;00m\u001b[37m\u001b[39;49;00m\n"
     ]
    }
   ],
   "source": [
    "rhm_slicer.code()"
   ]
  },
  {
   "cell_type": "markdown",
   "metadata": {
    "slideshow": {
     "slide_type": "subslide"
    }
   },
   "source": [
    "We can also compute slices over the dependencies:"
   ]
  },
  {
   "cell_type": "code",
   "execution_count": 211,
   "metadata": {
    "execution": {
     "iopub.execute_input": "2025-10-26T17:47:24.802714Z",
     "iopub.status.busy": "2025-10-26T17:47:24.802592Z",
     "iopub.status.idle": "2025-10-26T17:47:24.804845Z",
     "shell.execute_reply": "2025-10-26T17:47:24.804630Z"
    },
    "slideshow": {
     "slide_type": "fragment"
    }
   },
   "outputs": [
    {
     "data": {
      "text/plain": [
       "238"
      ]
     },
     "execution_count": 211,
     "metadata": {},
     "output_type": "execute_result"
    }
   ],
   "source": [
    "_, start_remove_html_markup = inspect.getsourcelines(remove_html_markup)\n",
    "start_remove_html_markup"
   ]
  },
  {
   "cell_type": "code",
   "execution_count": 212,
   "metadata": {
    "execution": {
     "iopub.execute_input": "2025-10-26T17:47:24.806159Z",
     "iopub.status.busy": "2025-10-26T17:47:24.806061Z",
     "iopub.status.idle": "2025-10-26T17:47:25.131026Z",
     "shell.execute_reply": "2025-10-26T17:47:25.130689Z"
    },
    "slideshow": {
     "slide_type": "subslide"
    }
   },
   "outputs": [
    {
     "data": {
      "image/svg+xml": [
       "<?xml version=\"1.0\" encoding=\"UTF-8\" standalone=\"no\"?>\n",
       "<!DOCTYPE svg PUBLIC \"-//W3C//DTD SVG 1.1//EN\"\n",
       " \"http://www.w3.org/Graphics/SVG/1.1/DTD/svg11.dtd\">\n",
       "<!-- Generated by graphviz version 14.0.2 (20251019.1705)\n",
       " -->\n",
       "<!-- Title: dependencies Pages: 1 -->\n",
       "<svg width=\"205pt\" height=\"276pt\"\n",
       " viewBox=\"0.00 0.00 205.00 276.00\" xmlns=\"http://www.w3.org/2000/svg\" xmlns:xlink=\"http://www.w3.org/1999/xlink\">\n",
       "<g id=\"graph0\" class=\"graph\" transform=\"scale(1 1) rotate(0) translate(4 272)\">\n",
       "<title>dependencies</title>\n",
       "<polygon fill=\"white\" stroke=\"none\" points=\"-4,4 -4,-272 200.5,-272 200.5,4 -4,4\"/>\n",
       "<!-- s_functionremove_html_markupat0x10e69b100_255 -->\n",
       "<g id=\"node1\" class=\"node\">\n",
       "<title>s_functionremove_html_markupat0x10e69b100_255</title>\n",
       "<g id=\"a_node1\"><a xlink:title=\"remove_html_markup:255\">\n",
       "<polygon fill=\"peachpuff\" stroke=\"black\" points=\"68.5,-268 0,-268 0,-228 68.5,-228 68.5,-268\"/>\n",
       "<text xml:space=\"preserve\" text-anchor=\"start\" x=\"30.12\" y=\"-251.7\" font-family=\"Courier,monospace\" font-weight=\"bold\" font-size=\"14.00\">s</text>\n",
       "<text xml:space=\"preserve\" text-anchor=\"start\" x=\"8\" y=\"-233.45\" font-family=\"Courier,monospace\" font-size=\"9.00\">return out</text>\n",
       "</a>\n",
       "</g>\n",
       "</g>\n",
       "<!-- c_functionremove_html_markupat0x10e69b100_243 -->\n",
       "<g id=\"node5\" class=\"node\">\n",
       "<title>c_functionremove_html_markupat0x10e69b100_243</title>\n",
       "<g id=\"a_node5\"><a xlink:title=\"remove_html_markup:243\">\n",
       "<polygon fill=\"peachpuff\" stroke=\"black\" points=\"137.12,-192 63.38,-192 63.38,-152 137.12,-152 137.12,-192\"/>\n",
       "<text xml:space=\"preserve\" text-anchor=\"start\" x=\"96.12\" y=\"-175.7\" font-family=\"Courier,monospace\" font-weight=\"bold\" font-size=\"14.00\">c</text>\n",
       "<text xml:space=\"preserve\" text-anchor=\"start\" x=\"71.38\" y=\"-157.45\" font-family=\"Courier,monospace\" font-size=\"9.00\">for c in s:</text>\n",
       "</a>\n",
       "</g>\n",
       "</g>\n",
       "<!-- s_functionremove_html_markupat0x10e69b100_255&#45;&gt;c_functionremove_html_markupat0x10e69b100_243 -->\n",
       "<g id=\"edge2\" class=\"edge\">\n",
       "<title>s_functionremove_html_markupat0x10e69b100_255&#45;&gt;c_functionremove_html_markupat0x10e69b100_243</title>\n",
       "<path fill=\"none\" stroke=\"black\" d=\"M51.59,-227.56C58.87,-219.4 67.46,-209.76 75.39,-200.87\"/>\n",
       "<polygon fill=\"black\" stroke=\"black\" points=\"77.97,-203.23 82.02,-193.44 72.75,-198.58 77.97,-203.23\"/>\n",
       "</g>\n",
       "<!-- quote_functionremove_html_markupat0x10e69b100_240 -->\n",
       "<g id=\"node2\" class=\"node\">\n",
       "<title>quote_functionremove_html_markupat0x10e69b100_240</title>\n",
       "<g id=\"a_node2\"><a xlink:title=\"remove_html_markup:240\">\n",
       "<polygon fill=\"peachpuff\" stroke=\"black\" points=\"179.38,-268 95.12,-268 95.12,-228 179.38,-228 179.38,-268\"/>\n",
       "<text xml:space=\"preserve\" text-anchor=\"start\" x=\"116.62\" y=\"-251.7\" font-family=\"Courier,monospace\" font-weight=\"bold\" font-size=\"14.00\">quote</text>\n",
       "<text xml:space=\"preserve\" text-anchor=\"start\" x=\"103.12\" y=\"-233.45\" font-family=\"Courier,monospace\" font-size=\"9.00\">quote = False</text>\n",
       "</a>\n",
       "</g>\n",
       "</g>\n",
       "<!-- test_functionremove_html_markupat0x10e69b100_246 -->\n",
       "<g id=\"node4\" class=\"node\">\n",
       "<title>test_functionremove_html_markupat0x10e69b100_246</title>\n",
       "<g id=\"a_node4\"><a xlink:title=\"remove_html_markup:246\">\n",
       "<polygon fill=\"peachpuff\" stroke=\"black\" points=\"196.5,-116 44,-116 44,-76 196.5,-76 196.5,-116\"/>\n",
       "<text xml:space=\"preserve\" text-anchor=\"start\" x=\"95.5\" y=\"-99.7\" font-family=\"Courier,monospace\" font-weight=\"bold\" font-style=\"italic\" font-size=\"14.00\">&lt;test&gt;</text>\n",
       "<text xml:space=\"preserve\" text-anchor=\"start\" x=\"52\" y=\"-81.45\" font-family=\"Courier,monospace\" font-size=\"9.00\">if c == &#39;&lt;&#39; and not quote:</text>\n",
       "</a>\n",
       "</g>\n",
       "</g>\n",
       "<!-- quote_functionremove_html_markupat0x10e69b100_240&#45;&gt;test_functionremove_html_markupat0x10e69b100_246 -->\n",
       "<g id=\"edge3\" class=\"edge\">\n",
       "<title>quote_functionremove_html_markupat0x10e69b100_240&#45;&gt;test_functionremove_html_markupat0x10e69b100_246</title>\n",
       "<path fill=\"none\" stroke=\"black\" d=\"M142.55,-227.85C147.09,-208.51 152.06,-177.86 146.25,-152 144.3,-143.33 140.83,-134.42 137.04,-126.36\"/>\n",
       "<polygon fill=\"black\" stroke=\"black\" points=\"140.3,-125.05 132.66,-117.7 134.05,-128.2 140.3,-125.05\"/>\n",
       "</g>\n",
       "<!-- quote_functionremove_html_markupat0x10e69b100_240&#45;&gt;c_functionremove_html_markupat0x10e69b100_243 -->\n",
       "<!-- tag_functionremove_html_markupat0x10e69b100_247 -->\n",
       "<g id=\"node3\" class=\"node\">\n",
       "<title>tag_functionremove_html_markupat0x10e69b100_247</title>\n",
       "<g id=\"a_node3\"><a xlink:title=\"remove_html_markup:247\">\n",
       "<polygon fill=\"peachpuff\" stroke=\"black\" points=\"154.5,-40 86,-40 86,0 154.5,0 154.5,-40\"/>\n",
       "<text xml:space=\"preserve\" text-anchor=\"start\" x=\"107.88\" y=\"-23.7\" font-family=\"Courier,monospace\" font-weight=\"bold\" font-size=\"14.00\">tag</text>\n",
       "<text xml:space=\"preserve\" text-anchor=\"start\" x=\"94\" y=\"-5.45\" font-family=\"Courier,monospace\" font-size=\"9.00\">tag = True</text>\n",
       "</a>\n",
       "</g>\n",
       "</g>\n",
       "<!-- tag_functionremove_html_markupat0x10e69b100_247&#45;&gt;s_functionremove_html_markupat0x10e69b100_255 -->\n",
       "<!-- test_functionremove_html_markupat0x10e69b100_246&#45;&gt;tag_functionremove_html_markupat0x10e69b100_247 -->\n",
       "<g id=\"edge1\" class=\"edge\">\n",
       "<title>test_functionremove_html_markupat0x10e69b100_246&#45;&gt;tag_functionremove_html_markupat0x10e69b100_247</title>\n",
       "<path fill=\"none\" stroke=\"grey\" stroke-dasharray=\"5,2\" d=\"M114.23,-75.56C113.57,-68.25 113.36,-59.75 113.59,-51.67\"/>\n",
       "<polygon fill=\"grey\" stroke=\"grey\" points=\"117.07,-52.01 114.15,-41.82 110.09,-51.61 117.07,-52.01\"/>\n",
       "</g>\n",
       "<!-- test_functionremove_html_markupat0x10e69b100_246&#45;&gt;tag_functionremove_html_markupat0x10e69b100_247 -->\n",
       "<!-- c_functionremove_html_markupat0x10e69b100_243&#45;&gt;test_functionremove_html_markupat0x10e69b100_246 -->\n",
       "<g id=\"edge4\" class=\"edge\">\n",
       "<title>c_functionremove_html_markupat0x10e69b100_243&#45;&gt;test_functionremove_html_markupat0x10e69b100_246</title>\n",
       "<path fill=\"none\" stroke=\"black\" d=\"M99.48,-151.56C100.83,-144.08 102.98,-135.36 105.47,-127.11\"/>\n",
       "<polygon fill=\"black\" stroke=\"black\" points=\"108.75,-128.34 108.55,-117.75 102.1,-126.16 108.75,-128.34\"/>\n",
       "</g>\n",
       "<!-- c_functionremove_html_markupat0x10e69b100_243&#45;&gt;test_functionremove_html_markupat0x10e69b100_246 -->\n",
       "</g>\n",
       "</svg>\n"
      ],
      "text/plain": [
       "Dependencies(\n",
       "    data={\n",
       "        ('tag', (remove_html_markup, 247)): set(),\n",
       "        ('<test>', (remove_html_markup, 246)): {('quote', (remove_html_markup, 240)), ('c', (remove_html_markup, 243))},\n",
       "        ('quote', (remove_html_markup, 240)): set(),\n",
       "        ('c', (remove_html_markup, 243)): {('s', (remove_html_markup, 255))},\n",
       "        ('s', (remove_html_markup, 255)): set()},\n",
       " control={\n",
       "        ('tag', (remove_html_markup, 247)): {('<test>', (remove_html_markup, 246))},\n",
       "        ('<test>', (remove_html_markup, 246)): set(),\n",
       "        ('quote', (remove_html_markup, 240)): set(),\n",
       "        ('c', (remove_html_markup, 243)): set(),\n",
       "        ('s', (remove_html_markup, 255)): set()})"
      ]
     },
     "execution_count": 212,
     "metadata": {},
     "output_type": "execute_result"
    }
   ],
   "source": [
    "slicing_criterion = ('tag', (remove_html_markup,\n",
    "                             start_remove_html_markup + 9))\n",
    "tag_deps = rhm_slicer.dependencies().backward_slice(slicing_criterion)  # type: ignore\n",
    "tag_deps"
   ]
  },
  {
   "cell_type": "code",
   "execution_count": 213,
   "metadata": {
    "execution": {
     "iopub.execute_input": "2025-10-26T17:47:25.132553Z",
     "iopub.status.busy": "2025-10-26T17:47:25.132432Z",
     "iopub.status.idle": "2025-10-26T17:47:25.134061Z",
     "shell.execute_reply": "2025-10-26T17:47:25.133856Z"
    },
    "slideshow": {
     "slide_type": "subslide"
    }
   },
   "outputs": [],
   "source": [
    "# repr(tag_deps)"
   ]
  },
  {
   "cell_type": "markdown",
   "metadata": {
    "slideshow": {
     "slide_type": "subslide"
    }
   },
   "source": [
    "### Calls and Augmented Assign"
   ]
  },
  {
   "cell_type": "markdown",
   "metadata": {
    "slideshow": {
     "slide_type": "fragment"
    }
   },
   "source": [
    "Our last example covers augmented assigns and data flow across function calls. We introduce two simple functions `add_to()` and `mul_with()`:"
   ]
  },
  {
   "cell_type": "code",
   "execution_count": 214,
   "metadata": {
    "execution": {
     "iopub.execute_input": "2025-10-26T17:47:25.135341Z",
     "iopub.status.busy": "2025-10-26T17:47:25.135263Z",
     "iopub.status.idle": "2025-10-26T17:47:25.136772Z",
     "shell.execute_reply": "2025-10-26T17:47:25.136578Z"
    },
    "slideshow": {
     "slide_type": "fragment"
    }
   },
   "outputs": [],
   "source": [
    "def add_to(n, m):  # type: ignore\n",
    "    n += m\n",
    "    return n"
   ]
  },
  {
   "cell_type": "code",
   "execution_count": 215,
   "metadata": {
    "execution": {
     "iopub.execute_input": "2025-10-26T17:47:25.137927Z",
     "iopub.status.busy": "2025-10-26T17:47:25.137856Z",
     "iopub.status.idle": "2025-10-26T17:47:25.139283Z",
     "shell.execute_reply": "2025-10-26T17:47:25.139074Z"
    },
    "slideshow": {
     "slide_type": "fragment"
    }
   },
   "outputs": [],
   "source": [
    "def mul_with(x, y):  # type: ignore\n",
    "    x *= y\n",
    "    return x"
   ]
  },
  {
   "cell_type": "markdown",
   "metadata": {
    "slideshow": {
     "slide_type": "fragment"
    }
   },
   "source": [
    "And we put these two together in a single call:"
   ]
  },
  {
   "cell_type": "code",
   "execution_count": 216,
   "metadata": {
    "execution": {
     "iopub.execute_input": "2025-10-26T17:47:25.140583Z",
     "iopub.status.busy": "2025-10-26T17:47:25.140510Z",
     "iopub.status.idle": "2025-10-26T17:47:25.141968Z",
     "shell.execute_reply": "2025-10-26T17:47:25.141750Z"
    },
    "slideshow": {
     "slide_type": "fragment"
    }
   },
   "outputs": [],
   "source": [
    "def test_math() -> None:\n",
    "    return mul_with(1, add_to(2, 3))"
   ]
  },
  {
   "cell_type": "code",
   "execution_count": 217,
   "metadata": {
    "execution": {
     "iopub.execute_input": "2025-10-26T17:47:25.143178Z",
     "iopub.status.busy": "2025-10-26T17:47:25.143080Z",
     "iopub.status.idle": "2025-10-26T17:47:25.147727Z",
     "shell.execute_reply": "2025-10-26T17:47:25.147487Z"
    },
    "slideshow": {
     "slide_type": "subslide"
    }
   },
   "outputs": [
    {
     "name": "stderr",
     "output_type": "stream",
     "text": [
      "/var/folders/n2/xd9445p97rb3xh7m1dfx8_4h0006ts/T/ipykernel_51412/2454789564.py:22: DeprecationWarning: ast.Str is deprecated and will be removed in Python 3.14; use ast.Constant instead\n",
      "  args=[ast.Str(id), value],\n",
      "/var/folders/n2/xd9445p97rb3xh7m1dfx8_4h0006ts/T/ipykernel_51412/3554319793.py:4: DeprecationWarning: ast.Str is deprecated and will be removed in Python 3.14; use ast.Constant instead\n",
      "  args=[ast.Str(id), Name(id=id, ctx=Load())],\n",
      "/var/folders/n2/xd9445p97rb3xh7m1dfx8_4h0006ts/T/ipykernel_51412/882995308.py:12: DeprecationWarning: ast.Num is deprecated and will be removed in Python 3.14; use ast.Constant instead\n",
      "  keywords=[keyword(arg='pos', value=ast.Num(n + 1))]\n",
      "/var/folders/n2/xd9445p97rb3xh7m1dfx8_4h0006ts/T/ipykernel_51412/882995308.py:25: DeprecationWarning: ast.Str is deprecated and will be removed in Python 3.14; use ast.Constant instead\n",
      "  args=[ast.Str(child.arg),\n",
      "/var/folders/n2/xd9445p97rb3xh7m1dfx8_4h0006ts/T/ipykernel_51412/882995308.py:19: DeprecationWarning: ast.NameConstant is deprecated and will be removed in Python 3.14; use ast.Constant instead\n",
      "  value=ast.NameConstant(value=True)))\n",
      "/var/folders/n2/xd9445p97rb3xh7m1dfx8_4h0006ts/T/ipykernel_51412/2498757139.py:9: DeprecationWarning: ast.Num is deprecated and will be removed in Python 3.14; use ast.Constant instead\n",
      "  keywords.append(keyword(arg='pos', value=ast.Num(pos)))\n"
     ]
    }
   ],
   "source": [
    "with Slicer(add_to, mul_with, test_math) as math_slicer:\n",
    "    test_math()"
   ]
  },
  {
   "cell_type": "markdown",
   "metadata": {
    "slideshow": {
     "slide_type": "subslide"
    }
   },
   "source": [
    "The resulting dependence graph nicely captures the data flow between these calls, notably arguments and parameters:"
   ]
  },
  {
   "cell_type": "code",
   "execution_count": 218,
   "metadata": {
    "execution": {
     "iopub.execute_input": "2025-10-26T17:47:25.149067Z",
     "iopub.status.busy": "2025-10-26T17:47:25.148956Z",
     "iopub.status.idle": "2025-10-26T17:47:25.487580Z",
     "shell.execute_reply": "2025-10-26T17:47:25.487266Z"
    },
    "slideshow": {
     "slide_type": "fragment"
    }
   },
   "outputs": [
    {
     "name": "stderr",
     "output_type": "stream",
     "text": [
      "/var/folders/n2/xd9445p97rb3xh7m1dfx8_4h0006ts/T/ipykernel_51412/3262393251.py:21: UserWarning: Warning: y (mul_with:3) depends on <add_to() return value> (add_to:3), but 'return x' does not seem to have a call\n",
      "  warnings.warn(f\"Warning: {self.format_var(var)} \"\n"
     ]
    },
    {
     "data": {
      "image/svg+xml": [
       "<?xml version=\"1.0\" encoding=\"UTF-8\" standalone=\"no\"?>\n",
       "<!DOCTYPE svg PUBLIC \"-//W3C//DTD SVG 1.1//EN\"\n",
       " \"http://www.w3.org/Graphics/SVG/1.1/DTD/svg11.dtd\">\n",
       "<!-- Generated by graphviz version 14.0.2 (20251019.1705)\n",
       " -->\n",
       "<!-- Title: dependencies Pages: 1 -->\n",
       "<svg width=\"264pt\" height=\"504pt\"\n",
       " viewBox=\"0.00 0.00 264.00 504.00\" xmlns=\"http://www.w3.org/2000/svg\" xmlns:xlink=\"http://www.w3.org/1999/xlink\">\n",
       "<g id=\"graph0\" class=\"graph\" transform=\"scale(1 1) rotate(0) translate(4 500)\">\n",
       "<title>dependencies</title>\n",
       "<polygon fill=\"white\" stroke=\"none\" points=\"-4,4 -4,-500 260.12,-500 260.12,4 -4,4\"/>\n",
       "<!-- n_functionadd_toat0x10e6c6840_3 -->\n",
       "<g id=\"node1\" class=\"node\">\n",
       "<title>n_functionadd_toat0x10e6c6840_3</title>\n",
       "<g id=\"a_node1\"><a xlink:title=\"add_to:3\">\n",
       "<polygon fill=\"peachpuff\" stroke=\"black\" points=\"93.88,-496 35.88,-496 35.88,-456 93.88,-456 93.88,-496\"/>\n",
       "<text xml:space=\"preserve\" text-anchor=\"start\" x=\"60.75\" y=\"-479.7\" font-family=\"Courier,monospace\" font-weight=\"bold\" font-size=\"14.00\">n</text>\n",
       "<text xml:space=\"preserve\" text-anchor=\"start\" x=\"43.88\" y=\"-461.45\" font-family=\"Courier,monospace\" font-size=\"9.00\">return n</text>\n",
       "</a>\n",
       "</g>\n",
       "</g>\n",
       "<!-- n_functionadd_toat0x10e6c6840_2 -->\n",
       "<g id=\"node9\" class=\"node\">\n",
       "<title>n_functionadd_toat0x10e6c6840_2</title>\n",
       "<g id=\"a_node9\"><a xlink:title=\"add_to:2\">\n",
       "<polygon fill=\"peachpuff\" stroke=\"black\" points=\"129.88,-420 75.88,-420 75.88,-380 129.88,-380 129.88,-420\"/>\n",
       "<text xml:space=\"preserve\" text-anchor=\"start\" x=\"98.75\" y=\"-403.7\" font-family=\"Courier,monospace\" font-weight=\"bold\" font-size=\"14.00\">n</text>\n",
       "<text xml:space=\"preserve\" text-anchor=\"start\" x=\"87.12\" y=\"-385.45\" font-family=\"Courier,monospace\" font-size=\"9.00\">n += m</text>\n",
       "</a>\n",
       "</g>\n",
       "</g>\n",
       "<!-- n_functionadd_toat0x10e6c6840_3&#45;&gt;n_functionadd_toat0x10e6c6840_2 -->\n",
       "<g id=\"edge7\" class=\"edge\">\n",
       "<title>n_functionadd_toat0x10e6c6840_3&#45;&gt;n_functionadd_toat0x10e6c6840_2</title>\n",
       "<path fill=\"none\" stroke=\"black\" d=\"M74.86,-455.56C78.79,-447.91 83.38,-438.96 87.7,-430.55\"/>\n",
       "<polygon fill=\"black\" stroke=\"black\" points=\"90.81,-432.15 92.27,-421.66 84.58,-428.96 90.81,-432.15\"/>\n",
       "</g>\n",
       "<!-- y_functionmul_withat0x10e6c6ca0_3 -->\n",
       "<g id=\"node2\" class=\"node\">\n",
       "<title>y_functionmul_withat0x10e6c6ca0_3</title>\n",
       "<g id=\"a_node2\"><a xlink:title=\"mul_with:3\">\n",
       "<polygon fill=\"peachpuff\" stroke=\"black\" points=\"131.88,-268 73.88,-268 73.88,-228 131.88,-228 131.88,-268\"/>\n",
       "<text xml:space=\"preserve\" text-anchor=\"start\" x=\"98.75\" y=\"-251.7\" font-family=\"Courier,monospace\" font-weight=\"bold\" font-size=\"14.00\">y</text>\n",
       "<text xml:space=\"preserve\" text-anchor=\"start\" x=\"81.88\" y=\"-233.45\" font-family=\"Courier,monospace\" font-size=\"9.00\">return x</text>\n",
       "</a>\n",
       "</g>\n",
       "</g>\n",
       "<!-- x_functionmul_withat0x10e6c6ca0_2 -->\n",
       "<g id=\"node4\" class=\"node\">\n",
       "<title>x_functionmul_withat0x10e6c6ca0_2</title>\n",
       "<g id=\"a_node4\"><a xlink:title=\"mul_with:2\">\n",
       "<polygon fill=\"peachpuff\" stroke=\"black\" points=\"167.88,-192 113.88,-192 113.88,-152 167.88,-152 167.88,-192\"/>\n",
       "<text xml:space=\"preserve\" text-anchor=\"start\" x=\"136.75\" y=\"-175.7\" font-family=\"Courier,monospace\" font-weight=\"bold\" font-size=\"14.00\">x</text>\n",
       "<text xml:space=\"preserve\" text-anchor=\"start\" x=\"125.12\" y=\"-157.45\" font-family=\"Courier,monospace\" font-size=\"9.00\">x *= y</text>\n",
       "</a>\n",
       "</g>\n",
       "</g>\n",
       "<!-- y_functionmul_withat0x10e6c6ca0_3&#45;&gt;x_functionmul_withat0x10e6c6ca0_2 -->\n",
       "<g id=\"edge2\" class=\"edge\">\n",
       "<title>y_functionmul_withat0x10e6c6ca0_3&#45;&gt;x_functionmul_withat0x10e6c6ca0_2</title>\n",
       "<path fill=\"none\" stroke=\"black\" d=\"M112.86,-227.56C116.79,-219.91 121.38,-210.96 125.7,-202.55\"/>\n",
       "<polygon fill=\"black\" stroke=\"black\" points=\"128.81,-204.15 130.27,-193.66 122.58,-200.96 128.81,-204.15\"/>\n",
       "</g>\n",
       "<!-- add_toreturnvalue_functionadd_toat0x10e6c6840_3 -->\n",
       "<g id=\"node3\" class=\"node\">\n",
       "<title>add_toreturnvalue_functionadd_toat0x10e6c6840_3</title>\n",
       "<g id=\"a_node3\"><a xlink:title=\"add_to:3\">\n",
       "<polygon fill=\"peachpuff\" stroke=\"black\" points=\"205.75,-344 0,-344 0,-304 205.75,-304 205.75,-344\"/>\n",
       "<text xml:space=\"preserve\" text-anchor=\"start\" x=\"8\" y=\"-327.7\" font-family=\"Courier,monospace\" font-weight=\"bold\" font-style=\"italic\" font-size=\"14.00\">&lt;add_to() return value&gt;</text>\n",
       "<text xml:space=\"preserve\" text-anchor=\"start\" x=\"81.88\" y=\"-309.45\" font-family=\"Courier,monospace\" font-size=\"9.00\">return n</text>\n",
       "</a>\n",
       "</g>\n",
       "</g>\n",
       "<!-- add_toreturnvalue_functionadd_toat0x10e6c6840_3&#45;&gt;y_functionmul_withat0x10e6c6ca0_3 -->\n",
       "<g id=\"edge1\" class=\"edge\">\n",
       "<title>add_toreturnvalue_functionadd_toat0x10e6c6840_3&#45;&gt;y_functionmul_withat0x10e6c6ca0_3</title>\n",
       "<path fill=\"none\" stroke=\"black\" d=\"M102.88,-303.56C102.88,-296.25 102.88,-287.75 102.88,-279.67\"/>\n",
       "<polygon fill=\"black\" stroke=\"black\" points=\"106.38,-279.83 102.88,-269.83 99.38,-279.83 106.38,-279.83\"/>\n",
       "</g>\n",
       "<!-- mul_withreturnvalue_functionmul_withat0x10e6c6ca0_3 -->\n",
       "<g id=\"node7\" class=\"node\">\n",
       "<title>mul_withreturnvalue_functionmul_withat0x10e6c6ca0_3</title>\n",
       "<g id=\"a_node7\"><a xlink:title=\"mul_with:3\">\n",
       "<polygon fill=\"peachpuff\" stroke=\"black\" points=\"252,-116 29.75,-116 29.75,-76 252,-76 252,-116\"/>\n",
       "<text xml:space=\"preserve\" text-anchor=\"start\" x=\"37.75\" y=\"-99.7\" font-family=\"Courier,monospace\" font-weight=\"bold\" font-style=\"italic\" font-size=\"14.00\">&lt;mul_with() return value&gt;</text>\n",
       "<text xml:space=\"preserve\" text-anchor=\"start\" x=\"119.88\" y=\"-81.45\" font-family=\"Courier,monospace\" font-size=\"9.00\">return x</text>\n",
       "</a>\n",
       "</g>\n",
       "</g>\n",
       "<!-- x_functionmul_withat0x10e6c6ca0_2&#45;&gt;mul_withreturnvalue_functionmul_withat0x10e6c6ca0_3 -->\n",
       "<g id=\"edge5\" class=\"edge\">\n",
       "<title>x_functionmul_withat0x10e6c6ca0_2&#45;&gt;mul_withreturnvalue_functionmul_withat0x10e6c6ca0_3</title>\n",
       "<path fill=\"none\" stroke=\"black\" d=\"M134.85,-151.56C134.2,-144.25 133.99,-135.75 134.21,-127.67\"/>\n",
       "<polygon fill=\"black\" stroke=\"black\" points=\"137.7,-128.01 134.78,-117.82 130.71,-127.61 137.7,-128.01\"/>\n",
       "</g>\n",
       "<!-- x_functionmul_withat0x10e6c6ca0_2&#45;&gt;mul_withreturnvalue_functionmul_withat0x10e6c6ca0_3 -->\n",
       "<!-- x_functionmul_withat0x10e6c6ca0_3 -->\n",
       "<g id=\"node5\" class=\"node\">\n",
       "<title>x_functionmul_withat0x10e6c6ca0_3</title>\n",
       "<g id=\"a_node5\"><a xlink:title=\"mul_with:3\">\n",
       "<polygon fill=\"peachpuff\" stroke=\"black\" points=\"207.88,-268 149.88,-268 149.88,-228 207.88,-228 207.88,-268\"/>\n",
       "<text xml:space=\"preserve\" text-anchor=\"start\" x=\"174.75\" y=\"-251.7\" font-family=\"Courier,monospace\" font-weight=\"bold\" font-size=\"14.00\">x</text>\n",
       "<text xml:space=\"preserve\" text-anchor=\"start\" x=\"157.88\" y=\"-233.45\" font-family=\"Courier,monospace\" font-size=\"9.00\">return x</text>\n",
       "</a>\n",
       "</g>\n",
       "</g>\n",
       "<!-- x_functionmul_withat0x10e6c6ca0_3&#45;&gt;x_functionmul_withat0x10e6c6ca0_2 -->\n",
       "<g id=\"edge3\" class=\"edge\">\n",
       "<title>x_functionmul_withat0x10e6c6ca0_3&#45;&gt;x_functionmul_withat0x10e6c6ca0_2</title>\n",
       "<path fill=\"none\" stroke=\"black\" d=\"M168.89,-227.56C164.96,-219.91 160.37,-210.96 156.05,-202.55\"/>\n",
       "<polygon fill=\"black\" stroke=\"black\" points=\"159.17,-200.96 151.48,-193.66 152.94,-204.15 159.17,-200.96\"/>\n",
       "</g>\n",
       "<!-- test_mathreturnvalue_functiontest_mathat0x10e6c7100_2 -->\n",
       "<g id=\"node6\" class=\"node\">\n",
       "<title>test_mathreturnvalue_functiontest_mathat0x10e6c7100_2</title>\n",
       "<g id=\"a_node6\"><a xlink:title=\"test_math:2\">\n",
       "<polygon fill=\"peachpuff\" stroke=\"black\" points=\"256.12,-40 25.62,-40 25.62,0 256.12,0 256.12,-40\"/>\n",
       "<text xml:space=\"preserve\" text-anchor=\"start\" x=\"33.62\" y=\"-23.7\" font-family=\"Courier,monospace\" font-weight=\"bold\" font-style=\"italic\" font-size=\"14.00\">&lt;test_math() return value&gt;</text>\n",
       "<text xml:space=\"preserve\" text-anchor=\"start\" x=\"56.88\" y=\"-5.45\" font-family=\"Courier,monospace\" font-size=\"9.00\">return mul_with(1, add_to(2, 3))</text>\n",
       "</a>\n",
       "</g>\n",
       "</g>\n",
       "<!-- mul_withreturnvalue_functionmul_withat0x10e6c6ca0_3&#45;&gt;test_mathreturnvalue_functiontest_mathat0x10e6c7100_2 -->\n",
       "<g id=\"edge4\" class=\"edge\">\n",
       "<title>mul_withreturnvalue_functionmul_withat0x10e6c6ca0_3&#45;&gt;test_mathreturnvalue_functiontest_mathat0x10e6c7100_2</title>\n",
       "<path fill=\"none\" stroke=\"black\" d=\"M140.88,-75.56C140.88,-68.25 140.88,-59.75 140.88,-51.67\"/>\n",
       "<polygon fill=\"black\" stroke=\"black\" points=\"144.38,-51.83 140.88,-41.83 137.38,-51.83 144.38,-51.83\"/>\n",
       "</g>\n",
       "<!-- m_functionadd_toat0x10e6c6840_3 -->\n",
       "<g id=\"node8\" class=\"node\">\n",
       "<title>m_functionadd_toat0x10e6c6840_3</title>\n",
       "<g id=\"a_node8\"><a xlink:title=\"add_to:3\">\n",
       "<polygon fill=\"peachpuff\" stroke=\"black\" points=\"169.88,-496 111.88,-496 111.88,-456 169.88,-456 169.88,-496\"/>\n",
       "<text xml:space=\"preserve\" text-anchor=\"start\" x=\"136.75\" y=\"-479.7\" font-family=\"Courier,monospace\" font-weight=\"bold\" font-size=\"14.00\">m</text>\n",
       "<text xml:space=\"preserve\" text-anchor=\"start\" x=\"119.88\" y=\"-461.45\" font-family=\"Courier,monospace\" font-size=\"9.00\">return n</text>\n",
       "</a>\n",
       "</g>\n",
       "</g>\n",
       "<!-- m_functionadd_toat0x10e6c6840_3&#45;&gt;n_functionadd_toat0x10e6c6840_2 -->\n",
       "<g id=\"edge6\" class=\"edge\">\n",
       "<title>m_functionadd_toat0x10e6c6840_3&#45;&gt;n_functionadd_toat0x10e6c6840_2</title>\n",
       "<path fill=\"none\" stroke=\"black\" d=\"M130.89,-455.56C126.96,-447.91 122.37,-438.96 118.05,-430.55\"/>\n",
       "<polygon fill=\"black\" stroke=\"black\" points=\"121.17,-428.96 113.48,-421.66 114.94,-432.15 121.17,-428.96\"/>\n",
       "</g>\n",
       "<!-- n_functionadd_toat0x10e6c6840_2&#45;&gt;add_toreturnvalue_functionadd_toat0x10e6c6840_3 -->\n",
       "<g id=\"edge8\" class=\"edge\">\n",
       "<title>n_functionadd_toat0x10e6c6840_2&#45;&gt;add_toreturnvalue_functionadd_toat0x10e6c6840_3</title>\n",
       "<path fill=\"none\" stroke=\"black\" d=\"M96.85,-379.56C96.2,-372.25 95.99,-363.75 96.21,-355.67\"/>\n",
       "<polygon fill=\"black\" stroke=\"black\" points=\"99.7,-356.01 96.78,-345.82 92.71,-355.61 99.7,-356.01\"/>\n",
       "</g>\n",
       "<!-- n_functionadd_toat0x10e6c6840_2&#45;&gt;add_toreturnvalue_functionadd_toat0x10e6c6840_3 -->\n",
       "</g>\n",
       "</svg>\n"
      ],
      "text/plain": [
       "<__main__.Slicer at 0x10db163f0>"
      ]
     },
     "execution_count": 218,
     "metadata": {},
     "output_type": "execute_result"
    }
   ],
   "source": [
    "math_slicer"
   ]
  },
  {
   "cell_type": "markdown",
   "metadata": {
    "slideshow": {
     "slide_type": "fragment"
    }
   },
   "source": [
    "These are also reflected in the code view:"
   ]
  },
  {
   "cell_type": "code",
   "execution_count": 219,
   "metadata": {
    "execution": {
     "iopub.execute_input": "2025-10-26T17:47:25.489263Z",
     "iopub.status.busy": "2025-10-26T17:47:25.489146Z",
     "iopub.status.idle": "2025-10-26T17:47:25.579120Z",
     "shell.execute_reply": "2025-10-26T17:47:25.578705Z"
    },
    "slideshow": {
     "slide_type": "subslide"
    }
   },
   "outputs": [
    {
     "name": "stdout",
     "output_type": "stream",
     "text": [
      "     1 \u001b[34mdef\u001b[39;49;00m\u001b[37m \u001b[39;49;00m\u001b[32mtest_math\u001b[39;49;00m() -> \u001b[34mNone\u001b[39;49;00m:\u001b[37m\u001b[39;49;00m\n",
      "*    2     \u001b[34mreturn\u001b[39;49;00m mul_with(\u001b[34m1\u001b[39;49;00m, add_to(\u001b[34m2\u001b[39;49;00m, \u001b[34m3\u001b[39;49;00m))  \u001b[37m# <= <mul_with() return value> (mul_with:3)\u001b[39;49;00m\u001b[37m\u001b[39;49;00m\n",
      "\n",
      "     1 \u001b[34mdef\u001b[39;49;00m\u001b[37m \u001b[39;49;00m\u001b[32madd_to\u001b[39;49;00m(n, m):  \u001b[37m# type: ignore\u001b[39;49;00m\u001b[37m\u001b[39;49;00m\n",
      "*    2     n += m  \u001b[37m# <= m (3), n (3)\u001b[39;49;00m\u001b[37m\u001b[39;49;00m\n",
      "*    3     \u001b[34mreturn\u001b[39;49;00m n  \u001b[37m# <= n (2)\u001b[39;49;00m\u001b[37m\u001b[39;49;00m\n",
      "\n",
      "     1 \u001b[34mdef\u001b[39;49;00m\u001b[37m \u001b[39;49;00m\u001b[32mmul_with\u001b[39;49;00m(x, y):  \u001b[37m# type: ignore\u001b[39;49;00m\u001b[37m\u001b[39;49;00m\n",
      "*    2     x *= y  \u001b[37m# <= y (3), x (3)\u001b[39;49;00m\u001b[37m\u001b[39;49;00m\n",
      "*    3     \u001b[34mreturn\u001b[39;49;00m x  \u001b[37m# <= <add_to() return value> (add_to:3), x (2)\u001b[39;49;00m\u001b[37m\u001b[39;49;00m\n"
     ]
    },
    {
     "name": "stderr",
     "output_type": "stream",
     "text": [
      "/var/folders/n2/xd9445p97rb3xh7m1dfx8_4h0006ts/T/ipykernel_51412/3262393251.py:21: UserWarning: Warning: y (mul_with:3) depends on <add_to() return value> (add_to:3), but 'return x' does not seem to have a call\n",
      "  warnings.warn(f\"Warning: {self.format_var(var)} \"\n"
     ]
    }
   ],
   "source": [
    "math_slicer.code()"
   ]
  },
  {
   "attachments": {},
   "cell_type": "markdown",
   "metadata": {
    "slideshow": {
     "slide_type": "slide"
    }
   },
   "source": [
    "## Dynamic Instrumentation\n",
    "\n",
    "When initializing `Slicer()`, one has to provide the set of functions to be instrumented. This is because the instrumentation has to take place _before_ the code in the `with` block is executed. Can we determine this list on the fly – while `Slicer()` is executed? \n",
    "\n",
    "The answer is: Yes, but the solution is a bit hackish – even more so than what we have seen above. In essence, we proceed in two steps:\n",
    "\n",
    "1. When `DynamicSlicer.__init__()` is called:\n",
    "    * Use the `inspect` module to determine the source code of the call\n",
    "    * Analyze the enclosed `with` block for function calls\n",
    "    * Instrument these functions\n",
    "2. Whenever a function is about to be called (`DataTracker.call()`)\n",
    "    * Create an instrumented version of that function\n",
    "    * Have the `call()` method return the instrumented function instead"
   ]
  },
  {
   "cell_type": "markdown",
   "metadata": {
    "slideshow": {
     "slide_type": "subslide"
    }
   },
   "source": [
    "### Excursion: Implementing Dynamic Instrumentation"
   ]
  },
  {
   "cell_type": "markdown",
   "metadata": {
    "slideshow": {
     "slide_type": "fragment"
    }
   },
   "source": [
    "We start with the aim of determining the `with` block to which our slicer is applied. The `our_with_block()` method inspects the source code of the `Slicer()` caller, and returns the one `with` block (as an AST) whose source line is currently active."
   ]
  },
  {
   "cell_type": "code",
   "execution_count": 220,
   "metadata": {
    "execution": {
     "iopub.execute_input": "2025-10-26T17:47:25.581351Z",
     "iopub.status.busy": "2025-10-26T17:47:25.581148Z",
     "iopub.status.idle": "2025-10-26T17:47:25.583397Z",
     "shell.execute_reply": "2025-10-26T17:47:25.583157Z"
    },
    "slideshow": {
     "slide_type": "fragment"
    }
   },
   "outputs": [],
   "source": [
    "class WithVisitor(NodeVisitor):\n",
    "    def __init__(self) -> None:\n",
    "        self.withs: List[ast.With] = []\n",
    "\n",
    "    def visit_With(self, node: ast.With) -> AST:\n",
    "        self.withs.append(node)\n",
    "        return self.generic_visit(node)"
   ]
  },
  {
   "cell_type": "code",
   "execution_count": 221,
   "metadata": {
    "execution": {
     "iopub.execute_input": "2025-10-26T17:47:25.584777Z",
     "iopub.status.busy": "2025-10-26T17:47:25.584640Z",
     "iopub.status.idle": "2025-10-26T17:47:25.587288Z",
     "shell.execute_reply": "2025-10-26T17:47:25.587044Z"
    },
    "slideshow": {
     "slide_type": "subslide"
    }
   },
   "outputs": [],
   "source": [
    "class Slicer(Slicer):\n",
    "    def our_with_block(self) -> ast.With:\n",
    "        \"\"\"Return the currently active `with` block.\"\"\"\n",
    "        frame = self.caller_frame()\n",
    "        source_lines, starting_lineno = inspect.getsourcelines(frame)\n",
    "        starting_lineno = max(starting_lineno, 1)\n",
    "        if len(source_lines) == 1:\n",
    "            # We only get one `with` line, rather than the full block\n",
    "            # This happens in Jupyter notebooks with iPython 8.1.0 and later.\n",
    "            # Here's a hacky workaround to get the cell contents:\n",
    "            # https://stackoverflow.com/questions/51566497/getting-the-source-of-an-object-defined-in-a-jupyter-notebook\n",
    "            source_lines = inspect.linecache.getlines(inspect.getfile(frame))  # type: ignore\n",
    "            starting_lineno = 1\n",
    "\n",
    "        source_ast = ast.parse(''.join(source_lines))\n",
    "        wv = WithVisitor()\n",
    "        wv.visit(source_ast)\n",
    "\n",
    "        for with_ast in wv.withs:\n",
    "            if starting_lineno + (with_ast.lineno - 1) == frame.f_lineno:\n",
    "                return with_ast\n",
    "\n",
    "        raise ValueError(\"Cannot find 'with' block\")"
   ]
  },
  {
   "cell_type": "markdown",
   "metadata": {
    "slideshow": {
     "slide_type": "subslide"
    }
   },
   "source": [
    "Within the `with` AST, we can identify all calls:"
   ]
  },
  {
   "cell_type": "code",
   "execution_count": 222,
   "metadata": {
    "execution": {
     "iopub.execute_input": "2025-10-26T17:47:25.588750Z",
     "iopub.status.busy": "2025-10-26T17:47:25.588644Z",
     "iopub.status.idle": "2025-10-26T17:47:25.590630Z",
     "shell.execute_reply": "2025-10-26T17:47:25.590378Z"
    },
    "slideshow": {
     "slide_type": "fragment"
    }
   },
   "outputs": [],
   "source": [
    "class CallCollector(NodeVisitor):\n",
    "    def __init__(self) -> None:\n",
    "        self.calls: Set[str] = set()\n",
    "\n",
    "    def visit_Call(self, node: ast.Call) -> AST:\n",
    "        caller_id = ast.unparse(node.func).strip()\n",
    "        self.calls.add(caller_id)\n",
    "        return self.generic_visit(node)"
   ]
  },
  {
   "cell_type": "code",
   "execution_count": 223,
   "metadata": {
    "execution": {
     "iopub.execute_input": "2025-10-26T17:47:25.592234Z",
     "iopub.status.busy": "2025-10-26T17:47:25.592116Z",
     "iopub.status.idle": "2025-10-26T17:47:25.594416Z",
     "shell.execute_reply": "2025-10-26T17:47:25.593940Z"
    },
    "slideshow": {
     "slide_type": "subslide"
    }
   },
   "outputs": [],
   "source": [
    "class Slicer(Slicer):\n",
    "    def calls_in_our_with_block(self) -> Set[str]:\n",
    "        \"\"\"Return a set of function names called in the `with` block.\"\"\"\n",
    "        block_ast = self.our_with_block()\n",
    "        cc = CallCollector()\n",
    "        for stmt in block_ast.body:\n",
    "            cc.visit(stmt)\n",
    "        return cc.calls"
   ]
  },
  {
   "cell_type": "markdown",
   "metadata": {
    "slideshow": {
     "slide_type": "fragment"
    }
   },
   "source": [
    "The method `funcs_in_our_with_block()` finally returns a list of all functions used in the `with` block. This is the list of functions we will instrument upfront."
   ]
  },
  {
   "cell_type": "code",
   "execution_count": 224,
   "metadata": {
    "execution": {
     "iopub.execute_input": "2025-10-26T17:47:25.596366Z",
     "iopub.status.busy": "2025-10-26T17:47:25.596242Z",
     "iopub.status.idle": "2025-10-26T17:47:25.598180Z",
     "shell.execute_reply": "2025-10-26T17:47:25.597946Z"
    },
    "slideshow": {
     "slide_type": "subslide"
    }
   },
   "outputs": [],
   "source": [
    "class Slicer(Slicer):\n",
    "    def funcs_in_our_with_block(self) -> List[Callable]:\n",
    "        funcs = []\n",
    "        for id in self.calls_in_our_with_block():\n",
    "            func = self.search_func(id)\n",
    "            if func:\n",
    "                funcs.append(func)\n",
    "\n",
    "        return funcs"
   ]
  },
  {
   "cell_type": "markdown",
   "metadata": {
    "slideshow": {
     "slide_type": "subslide"
    }
   },
   "source": [
    "The method `default_items_to_instrument()` is already provided for dynamic instrumentation – it is invoked whenever no list of functions to instrument is provided. So we have it return the list of functions as computed above.\n",
    "\n",
    "However, `default_items_to_instrument()` does one more thing: Using the (also provided) `instrument_call()` hook in our dependency tracker, we ensure that all (later) calls are redirected to instrumented functions! This way, if further functions are called, these will be instrumented on the fly."
   ]
  },
  {
   "cell_type": "code",
   "execution_count": 225,
   "metadata": {
    "execution": {
     "iopub.execute_input": "2025-10-26T17:47:25.599657Z",
     "iopub.status.busy": "2025-10-26T17:47:25.599557Z",
     "iopub.status.idle": "2025-10-26T17:47:25.601263Z",
     "shell.execute_reply": "2025-10-26T17:47:25.601037Z"
    },
    "slideshow": {
     "slide_type": "subslide"
    }
   },
   "outputs": [],
   "source": [
    "class Slicer(Slicer):\n",
    "    def default_items_to_instrument(self) -> List[Callable]:\n",
    "        # In _data.call(), return instrumented function\n",
    "        self.dependency_tracker.instrument_call = self.instrument  # type: ignore\n",
    "\n",
    "        # Start instrumenting the functions in our `with` block\n",
    "        return self.funcs_in_our_with_block()"
   ]
  },
  {
   "cell_type": "markdown",
   "metadata": {
    "slideshow": {
     "slide_type": "subslide"
    }
   },
   "source": [
    "### End of Excursion"
   ]
  },
  {
   "cell_type": "markdown",
   "metadata": {
    "slideshow": {
     "slide_type": "fragment"
    }
   },
   "source": [
    "Both these hacks are effective, as shown in the following example. We use the `Slicer()` constructor without arguments; it automatically identifies `fun_2()` as a function in the `with` block. As the instrumented `fun2()` is invoked, its `_data.call()` method instruments the call to `fun_1()` (and ensures the instrumented version is called)."
   ]
  },
  {
   "cell_type": "code",
   "execution_count": 226,
   "metadata": {
    "execution": {
     "iopub.execute_input": "2025-10-26T17:47:25.602659Z",
     "iopub.status.busy": "2025-10-26T17:47:25.602570Z",
     "iopub.status.idle": "2025-10-26T17:47:25.604059Z",
     "shell.execute_reply": "2025-10-26T17:47:25.603762Z"
    },
    "slideshow": {
     "slide_type": "fragment"
    }
   },
   "outputs": [],
   "source": [
    "def fun_1(x: int) -> int:\n",
    "    return x"
   ]
  },
  {
   "cell_type": "code",
   "execution_count": 227,
   "metadata": {
    "execution": {
     "iopub.execute_input": "2025-10-26T17:47:25.605966Z",
     "iopub.status.busy": "2025-10-26T17:47:25.605852Z",
     "iopub.status.idle": "2025-10-26T17:47:25.607574Z",
     "shell.execute_reply": "2025-10-26T17:47:25.607215Z"
    },
    "slideshow": {
     "slide_type": "fragment"
    }
   },
   "outputs": [],
   "source": [
    "def fun_2(x: int) -> int:\n",
    "    return fun_1(x)"
   ]
  },
  {
   "cell_type": "code",
   "execution_count": 228,
   "metadata": {
    "execution": {
     "iopub.execute_input": "2025-10-26T17:47:25.609368Z",
     "iopub.status.busy": "2025-10-26T17:47:25.609246Z",
     "iopub.status.idle": "2025-10-26T17:47:25.637991Z",
     "shell.execute_reply": "2025-10-26T17:47:25.637707Z"
    },
    "slideshow": {
     "slide_type": "subslide"
    }
   },
   "outputs": [
    {
     "name": "stdout",
     "output_type": "stream",
     "text": [
      "Instrumenting <function fun_2 at 0x10e268fe0>\n",
      "\u001b[34mdef\u001b[39;49;00m\u001b[37m \u001b[39;49;00m\u001b[32mfun_2\u001b[39;49;00m(x: \u001b[36mint\u001b[39;49;00m) -> \u001b[36mint\u001b[39;49;00m:\u001b[37m\u001b[39;49;00m\n",
      "    _data.param(\u001b[33m'\u001b[39;49;00m\u001b[33mx\u001b[39;49;00m\u001b[33m'\u001b[39;49;00m, x, pos=\u001b[34m1\u001b[39;49;00m, last=\u001b[34mTrue\u001b[39;49;00m)\u001b[37m\u001b[39;49;00m\n",
      "    \u001b[34mreturn\u001b[39;49;00m _data.set(\u001b[33m'\u001b[39;49;00m\u001b[33m<fun_2() return value>\u001b[39;49;00m\u001b[33m'\u001b[39;49;00m, _data.ret(_data.call(_data.get(\u001b[33m'\u001b[39;49;00m\u001b[33mfun_1\u001b[39;49;00m\u001b[33m'\u001b[39;49;00m, fun_1))(_data.arg(_data.get(\u001b[33m'\u001b[39;49;00m\u001b[33mx\u001b[39;49;00m\u001b[33m'\u001b[39;49;00m, x), pos=\u001b[34m1\u001b[39;49;00m))))\u001b[37m\u001b[39;49;00m\n",
      "\n",
      "Instrumenting <function fun_1 at 0x10e6c6520>\n",
      "\u001b[34mdef\u001b[39;49;00m\u001b[37m \u001b[39;49;00m\u001b[32mfun_1\u001b[39;49;00m(x: \u001b[36mint\u001b[39;49;00m) -> \u001b[36mint\u001b[39;49;00m:\u001b[37m\u001b[39;49;00m\n",
      "    _data.param(\u001b[33m'\u001b[39;49;00m\u001b[33mx\u001b[39;49;00m\u001b[33m'\u001b[39;49;00m, x, pos=\u001b[34m1\u001b[39;49;00m, last=\u001b[34mTrue\u001b[39;49;00m)\u001b[37m\u001b[39;49;00m\n",
      "    \u001b[34mreturn\u001b[39;49;00m _data.set(\u001b[33m'\u001b[39;49;00m\u001b[33m<fun_1() return value>\u001b[39;49;00m\u001b[33m'\u001b[39;49;00m, _data.get(\u001b[33m'\u001b[39;49;00m\u001b[33mx\u001b[39;49;00m\u001b[33m'\u001b[39;49;00m, x))\u001b[37m\u001b[39;49;00m\n",
      "\n"
     ]
    },
    {
     "name": "stderr",
     "output_type": "stream",
     "text": [
      "/var/folders/n2/xd9445p97rb3xh7m1dfx8_4h0006ts/T/ipykernel_51412/2498757139.py:9: DeprecationWarning: ast.Num is deprecated and will be removed in Python 3.14; use ast.Constant instead\n",
      "  keywords.append(keyword(arg='pos', value=ast.Num(pos)))\n",
      "/var/folders/n2/xd9445p97rb3xh7m1dfx8_4h0006ts/T/ipykernel_51412/3554319793.py:4: DeprecationWarning: ast.Str is deprecated and will be removed in Python 3.14; use ast.Constant instead\n",
      "  args=[ast.Str(id), Name(id=id, ctx=Load())],\n",
      "/var/folders/n2/xd9445p97rb3xh7m1dfx8_4h0006ts/T/ipykernel_51412/2454789564.py:22: DeprecationWarning: ast.Str is deprecated and will be removed in Python 3.14; use ast.Constant instead\n",
      "  args=[ast.Str(id), value],\n",
      "/var/folders/n2/xd9445p97rb3xh7m1dfx8_4h0006ts/T/ipykernel_51412/882995308.py:12: DeprecationWarning: ast.Num is deprecated and will be removed in Python 3.14; use ast.Constant instead\n",
      "  keywords=[keyword(arg='pos', value=ast.Num(n + 1))]\n",
      "/var/folders/n2/xd9445p97rb3xh7m1dfx8_4h0006ts/T/ipykernel_51412/882995308.py:19: DeprecationWarning: ast.NameConstant is deprecated and will be removed in Python 3.14; use ast.Constant instead\n",
      "  value=ast.NameConstant(value=True)))\n",
      "/var/folders/n2/xd9445p97rb3xh7m1dfx8_4h0006ts/T/ipykernel_51412/882995308.py:25: DeprecationWarning: ast.Str is deprecated and will be removed in Python 3.14; use ast.Constant instead\n",
      "  args=[ast.Str(child.arg),\n"
     ]
    }
   ],
   "source": [
    "with Slicer(log=True) as slicer:\n",
    "    fun_2(10)"
   ]
  },
  {
   "cell_type": "code",
   "execution_count": 229,
   "metadata": {
    "execution": {
     "iopub.execute_input": "2025-10-26T17:47:25.639363Z",
     "iopub.status.busy": "2025-10-26T17:47:25.639279Z",
     "iopub.status.idle": "2025-10-26T17:47:26.028276Z",
     "shell.execute_reply": "2025-10-26T17:47:26.027898Z"
    },
    "slideshow": {
     "slide_type": "subslide"
    }
   },
   "outputs": [
    {
     "data": {
      "image/svg+xml": [
       "<?xml version=\"1.0\" encoding=\"UTF-8\" standalone=\"no\"?>\n",
       "<!DOCTYPE svg PUBLIC \"-//W3C//DTD SVG 1.1//EN\"\n",
       " \"http://www.w3.org/Graphics/SVG/1.1/DTD/svg11.dtd\">\n",
       "<!-- Generated by graphviz version 14.0.2 (20251019.1705)\n",
       " -->\n",
       "<!-- Title: dependencies Pages: 1 -->\n",
       "<svg width=\"206pt\" height=\"276pt\"\n",
       " viewBox=\"0.00 0.00 206.00 276.00\" xmlns=\"http://www.w3.org/2000/svg\" xmlns:xlink=\"http://www.w3.org/1999/xlink\">\n",
       "<g id=\"graph0\" class=\"graph\" transform=\"scale(1 1) rotate(0) translate(4 272)\">\n",
       "<title>dependencies</title>\n",
       "<polygon fill=\"white\" stroke=\"none\" points=\"-4,4 -4,-272 201.5,-272 201.5,4 -4,4\"/>\n",
       "<!-- fun_2returnvalue_functionfun_2at0x10e269760_2 -->\n",
       "<g id=\"node1\" class=\"node\">\n",
       "<title>fun_2returnvalue_functionfun_2at0x10e269760_2</title>\n",
       "<g id=\"a_node1\"><a xlink:title=\"fun_2:2\">\n",
       "<polygon fill=\"peachpuff\" stroke=\"black\" points=\"197.5,-40 0,-40 0,0 197.5,0 197.5,-40\"/>\n",
       "<text xml:space=\"preserve\" text-anchor=\"start\" x=\"8\" y=\"-23.7\" font-family=\"Courier,monospace\" font-weight=\"bold\" font-style=\"italic\" font-size=\"14.00\">&lt;fun_2() return value&gt;</text>\n",
       "<text xml:space=\"preserve\" text-anchor=\"start\" x=\"59.38\" y=\"-5.45\" font-family=\"Courier,monospace\" font-size=\"9.00\">return fun_1(x)</text>\n",
       "</a>\n",
       "</g>\n",
       "</g>\n",
       "<!-- fun_1returnvalue_functionfun_1at0x10e269e40_2 -->\n",
       "<g id=\"node2\" class=\"node\">\n",
       "<title>fun_1returnvalue_functionfun_1at0x10e269e40_2</title>\n",
       "<g id=\"a_node2\"><a xlink:title=\"fun_1:2\">\n",
       "<polygon fill=\"peachpuff\" stroke=\"black\" points=\"197.5,-116 0,-116 0,-76 197.5,-76 197.5,-116\"/>\n",
       "<text xml:space=\"preserve\" text-anchor=\"start\" x=\"8\" y=\"-99.7\" font-family=\"Courier,monospace\" font-weight=\"bold\" font-style=\"italic\" font-size=\"14.00\">&lt;fun_1() return value&gt;</text>\n",
       "<text xml:space=\"preserve\" text-anchor=\"start\" x=\"77.75\" y=\"-81.45\" font-family=\"Courier,monospace\" font-size=\"9.00\">return x</text>\n",
       "</a>\n",
       "</g>\n",
       "</g>\n",
       "<!-- fun_1returnvalue_functionfun_1at0x10e269e40_2&#45;&gt;fun_2returnvalue_functionfun_2at0x10e269760_2 -->\n",
       "<g id=\"edge1\" class=\"edge\">\n",
       "<title>fun_1returnvalue_functionfun_1at0x10e269e40_2&#45;&gt;fun_2returnvalue_functionfun_2at0x10e269760_2</title>\n",
       "<path fill=\"none\" stroke=\"black\" d=\"M98.75,-75.56C98.75,-68.25 98.75,-59.75 98.75,-51.67\"/>\n",
       "<polygon fill=\"black\" stroke=\"black\" points=\"102.25,-51.83 98.75,-41.83 95.25,-51.83 102.25,-51.83\"/>\n",
       "</g>\n",
       "<!-- x_functionfun_1at0x10e269e40_2 -->\n",
       "<g id=\"node3\" class=\"node\">\n",
       "<title>x_functionfun_1at0x10e269e40_2</title>\n",
       "<g id=\"a_node3\"><a xlink:title=\"fun_1:2\">\n",
       "<polygon fill=\"peachpuff\" stroke=\"black\" points=\"127.75,-192 69.75,-192 69.75,-152 127.75,-152 127.75,-192\"/>\n",
       "<text xml:space=\"preserve\" text-anchor=\"start\" x=\"94.62\" y=\"-175.7\" font-family=\"Courier,monospace\" font-weight=\"bold\" font-size=\"14.00\">x</text>\n",
       "<text xml:space=\"preserve\" text-anchor=\"start\" x=\"77.75\" y=\"-157.45\" font-family=\"Courier,monospace\" font-size=\"9.00\">return x</text>\n",
       "</a>\n",
       "</g>\n",
       "</g>\n",
       "<!-- x_functionfun_1at0x10e269e40_2&#45;&gt;fun_1returnvalue_functionfun_1at0x10e269e40_2 -->\n",
       "<g id=\"edge2\" class=\"edge\">\n",
       "<title>x_functionfun_1at0x10e269e40_2&#45;&gt;fun_1returnvalue_functionfun_1at0x10e269e40_2</title>\n",
       "<path fill=\"none\" stroke=\"black\" d=\"M98.75,-151.56C98.75,-144.25 98.75,-135.75 98.75,-127.67\"/>\n",
       "<polygon fill=\"black\" stroke=\"black\" points=\"102.25,-127.83 98.75,-117.83 95.25,-127.83 102.25,-127.83\"/>\n",
       "</g>\n",
       "<!-- x_functionfun_2at0x10e269760_2 -->\n",
       "<g id=\"node4\" class=\"node\">\n",
       "<title>x_functionfun_2at0x10e269760_2</title>\n",
       "<g id=\"a_node4\"><a xlink:title=\"fun_2:2\">\n",
       "<polygon fill=\"peachpuff\" stroke=\"black\" points=\"146.12,-268 51.38,-268 51.38,-228 146.12,-228 146.12,-268\"/>\n",
       "<text xml:space=\"preserve\" text-anchor=\"start\" x=\"94.62\" y=\"-251.7\" font-family=\"Courier,monospace\" font-weight=\"bold\" font-size=\"14.00\">x</text>\n",
       "<text xml:space=\"preserve\" text-anchor=\"start\" x=\"59.38\" y=\"-233.45\" font-family=\"Courier,monospace\" font-size=\"9.00\">return fun_1(x)</text>\n",
       "</a>\n",
       "</g>\n",
       "</g>\n",
       "<!-- x_functionfun_2at0x10e269760_2&#45;&gt;x_functionfun_1at0x10e269e40_2 -->\n",
       "<g id=\"edge3\" class=\"edge\">\n",
       "<title>x_functionfun_2at0x10e269760_2&#45;&gt;x_functionfun_1at0x10e269e40_2</title>\n",
       "<path fill=\"none\" stroke=\"black\" d=\"M98.75,-227.56C98.75,-220.25 98.75,-211.75 98.75,-203.67\"/>\n",
       "<polygon fill=\"black\" stroke=\"black\" points=\"102.25,-203.83 98.75,-193.83 95.25,-203.83 102.25,-203.83\"/>\n",
       "</g>\n",
       "</g>\n",
       "</svg>\n"
      ],
      "text/plain": [
       "<__main__.Slicer at 0x10db35be0>"
      ]
     },
     "execution_count": 229,
     "metadata": {},
     "output_type": "execute_result"
    }
   ],
   "source": [
    "slicer"
   ]
  },
  {
   "cell_type": "markdown",
   "metadata": {
    "slideshow": {
     "slide_type": "slide"
    }
   },
   "source": [
    "## More Applications\n",
    "\n",
    "The main use of dynamic slices is for _debugging tools_, where they show the origins of individual values. However, beyond facilitating debugging, tracking information flows has a number of additional applications, some of which we briefly sketch here."
   ]
  },
  {
   "cell_type": "markdown",
   "metadata": {
    "slideshow": {
     "slide_type": "subslide"
    }
   },
   "source": [
    "### Verifying Information Flows\n",
    "\n",
    "Using dynamic slices, we can check all the locations where (potentially sensitive) information is used. As an example, consider the following function `password_checker()`, which requests a password from the user and returns `True` if it is the correct one:"
   ]
  },
  {
   "cell_type": "code",
   "execution_count": 230,
   "metadata": {
    "execution": {
     "iopub.execute_input": "2025-10-26T17:47:26.029774Z",
     "iopub.status.busy": "2025-10-26T17:47:26.029662Z",
     "iopub.status.idle": "2025-10-26T17:47:26.031424Z",
     "shell.execute_reply": "2025-10-26T17:47:26.031138Z"
    },
    "slideshow": {
     "slide_type": "skip"
    }
   },
   "outputs": [],
   "source": [
    "import hashlib"
   ]
  },
  {
   "cell_type": "code",
   "execution_count": 231,
   "metadata": {
    "execution": {
     "iopub.execute_input": "2025-10-26T17:47:26.032817Z",
     "iopub.status.busy": "2025-10-26T17:47:26.032695Z",
     "iopub.status.idle": "2025-10-26T17:47:26.034360Z",
     "shell.execute_reply": "2025-10-26T17:47:26.034115Z"
    },
    "slideshow": {
     "slide_type": "skip"
    }
   },
   "outputs": [],
   "source": [
    "from bookutils import input, next_inputs"
   ]
  },
  {
   "cell_type": "code",
   "execution_count": 232,
   "metadata": {
    "execution": {
     "iopub.execute_input": "2025-10-26T17:47:26.035824Z",
     "iopub.status.busy": "2025-10-26T17:47:26.035703Z",
     "iopub.status.idle": "2025-10-26T17:47:26.037289Z",
     "shell.execute_reply": "2025-10-26T17:47:26.037037Z"
    },
    "slideshow": {
     "slide_type": "fragment"
    }
   },
   "outputs": [],
   "source": [
    "SECRET_HASH_DIGEST = '59f2da35bcc39525b87932b4cc1f3d68'"
   ]
  },
  {
   "cell_type": "code",
   "execution_count": 233,
   "metadata": {
    "execution": {
     "iopub.execute_input": "2025-10-26T17:47:26.039324Z",
     "iopub.status.busy": "2025-10-26T17:47:26.039185Z",
     "iopub.status.idle": "2025-10-26T17:47:26.041489Z",
     "shell.execute_reply": "2025-10-26T17:47:26.041127Z"
    },
    "slideshow": {
     "slide_type": "subslide"
    }
   },
   "outputs": [],
   "source": [
    "def password_checker() -> bool:\n",
    "    \"\"\"Request a password. Return True if correct.\"\"\"\n",
    "    secret_password = input(\"Enter secret password: \")\n",
    "    password_digest = hashlib.md5(secret_password.encode('utf-8')).hexdigest()\n",
    "\n",
    "    if password_digest == SECRET_HASH_DIGEST:\n",
    "        return True\n",
    "    else:\n",
    "        return False"
   ]
  },
  {
   "cell_type": "markdown",
   "metadata": {
    "slideshow": {
     "slide_type": "fragment"
    }
   },
   "source": [
    "(Note that this is a very naive implementation: A true password checker would use the Python `getpass` module to read in a password without echoing it in the clear, and possibly also use a more sophisticated hash function than `md5`.)"
   ]
  },
  {
   "cell_type": "markdown",
   "metadata": {
    "slideshow": {
     "slide_type": "subslide"
    }
   },
   "source": [
    "From a security perspective, the interesting question we can ask using slicing is: _Is the entered password stored in the clear somewhere_? For this, we can simply run our slicer to see where the inputs are going:"
   ]
  },
  {
   "cell_type": "code",
   "execution_count": 234,
   "metadata": {
    "execution": {
     "iopub.execute_input": "2025-10-26T17:47:26.042919Z",
     "iopub.status.busy": "2025-10-26T17:47:26.042816Z",
     "iopub.status.idle": "2025-10-26T17:47:26.044955Z",
     "shell.execute_reply": "2025-10-26T17:47:26.044698Z"
    },
    "slideshow": {
     "slide_type": "fragment"
    },
    "tags": [
     "remove-input"
    ]
   },
   "outputs": [
    {
     "data": {
      "text/plain": [
       "['secret123']"
      ]
     },
     "execution_count": 234,
     "metadata": {},
     "output_type": "execute_result"
    }
   ],
   "source": [
    "# ignore\n",
    "next_inputs(['secret123'])"
   ]
  },
  {
   "cell_type": "code",
   "execution_count": 235,
   "metadata": {
    "execution": {
     "iopub.execute_input": "2025-10-26T17:47:26.046339Z",
     "iopub.status.busy": "2025-10-26T17:47:26.046211Z",
     "iopub.status.idle": "2025-10-26T17:47:26.053625Z",
     "shell.execute_reply": "2025-10-26T17:47:26.053240Z"
    },
    "slideshow": {
     "slide_type": "subslide"
    }
   },
   "outputs": [
    {
     "name": "stderr",
     "output_type": "stream",
     "text": [
      "/var/folders/n2/xd9445p97rb3xh7m1dfx8_4h0006ts/T/ipykernel_51412/2498757139.py:9: DeprecationWarning: ast.Num is deprecated and will be removed in Python 3.14; use ast.Constant instead\n",
      "  keywords.append(keyword(arg='pos', value=ast.Num(pos)))\n",
      "/var/folders/n2/xd9445p97rb3xh7m1dfx8_4h0006ts/T/ipykernel_51412/2454789564.py:22: DeprecationWarning: ast.Str is deprecated and will be removed in Python 3.14; use ast.Constant instead\n",
      "  args=[ast.Str(id), value],\n",
      "/var/folders/n2/xd9445p97rb3xh7m1dfx8_4h0006ts/T/ipykernel_51412/3554319793.py:4: DeprecationWarning: ast.Str is deprecated and will be removed in Python 3.14; use ast.Constant instead\n",
      "  args=[ast.Str(id), Name(id=id, ctx=Load())],\n"
     ]
    },
    {
     "data": {
      "text/html": [
       "<samp>Enter secret password: <b>secret123</b></samp>"
      ],
      "text/plain": [
       "<IPython.core.display.HTML object>"
      ]
     },
     "metadata": {},
     "output_type": "display_data"
    }
   ],
   "source": [
    "with Slicer() as slicer:\n",
    "    valid_pwd = password_checker()"
   ]
  },
  {
   "cell_type": "code",
   "execution_count": 236,
   "metadata": {
    "execution": {
     "iopub.execute_input": "2025-10-26T17:47:26.055450Z",
     "iopub.status.busy": "2025-10-26T17:47:26.055321Z",
     "iopub.status.idle": "2025-10-26T17:47:26.419548Z",
     "shell.execute_reply": "2025-10-26T17:47:26.419214Z"
    },
    "slideshow": {
     "slide_type": "fragment"
    }
   },
   "outputs": [
    {
     "data": {
      "image/svg+xml": [
       "<?xml version=\"1.0\" encoding=\"UTF-8\" standalone=\"no\"?>\n",
       "<!DOCTYPE svg PUBLIC \"-//W3C//DTD SVG 1.1//EN\"\n",
       " \"http://www.w3.org/Graphics/SVG/1.1/DTD/svg11.dtd\">\n",
       "<!-- Generated by graphviz version 14.0.2 (20251019.1705)\n",
       " -->\n",
       "<!-- Title: dependencies Pages: 1 -->\n",
       "<svg width=\"413pt\" height=\"276pt\"\n",
       " viewBox=\"0.00 0.00 413.00 276.00\" xmlns=\"http://www.w3.org/2000/svg\" xmlns:xlink=\"http://www.w3.org/1999/xlink\">\n",
       "<g id=\"graph0\" class=\"graph\" transform=\"scale(1 1) rotate(0) translate(4 272)\">\n",
       "<title>dependencies</title>\n",
       "<polygon fill=\"white\" stroke=\"none\" points=\"-4,4 -4,-272 408.5,-272 408.5,4 -4,4\"/>\n",
       "<!-- password_digest_functionpassword_checkerat0x10e26a7a0_4 -->\n",
       "<g id=\"node1\" class=\"node\">\n",
       "<title>password_digest_functionpassword_checkerat0x10e26a7a0_4</title>\n",
       "<g id=\"a_node1\"><a xlink:title=\"password_checker:4\">\n",
       "<polygon fill=\"peachpuff\" stroke=\"black\" points=\"404.5,-192 0,-192 0,-152 404.5,-152 404.5,-192\"/>\n",
       "<text xml:space=\"preserve\" text-anchor=\"start\" x=\"140.38\" y=\"-175.7\" font-family=\"Courier,monospace\" font-weight=\"bold\" font-size=\"14.00\">password_digest</text>\n",
       "<text xml:space=\"preserve\" text-anchor=\"start\" x=\"8\" y=\"-157.45\" font-family=\"Courier,monospace\" font-size=\"9.00\">password_digest = hashlib.md5(secret_password.encode(&#39;utf&#45;8&#39;)).hexdigest()</text>\n",
       "</a>\n",
       "</g>\n",
       "</g>\n",
       "<!-- test_functionpassword_checkerat0x10e26a7a0_6 -->\n",
       "<g id=\"node3\" class=\"node\">\n",
       "<title>test_functionpassword_checkerat0x10e26a7a0_6</title>\n",
       "<g id=\"a_node3\"><a xlink:title=\"password_checker:6\">\n",
       "<polygon fill=\"peachpuff\" stroke=\"black\" points=\"317.88,-116 86.62,-116 86.62,-76 317.88,-76 317.88,-116\"/>\n",
       "<text xml:space=\"preserve\" text-anchor=\"start\" x=\"177.5\" y=\"-99.7\" font-family=\"Courier,monospace\" font-weight=\"bold\" font-style=\"italic\" font-size=\"14.00\">&lt;test&gt;</text>\n",
       "<text xml:space=\"preserve\" text-anchor=\"start\" x=\"94.62\" y=\"-81.45\" font-family=\"Courier,monospace\" font-size=\"9.00\">if password_digest == SECRET_HASH_DIGEST:</text>\n",
       "</a>\n",
       "</g>\n",
       "</g>\n",
       "<!-- password_digest_functionpassword_checkerat0x10e26a7a0_4&#45;&gt;test_functionpassword_checkerat0x10e26a7a0_6 -->\n",
       "<g id=\"edge2\" class=\"edge\">\n",
       "<title>password_digest_functionpassword_checkerat0x10e26a7a0_4&#45;&gt;test_functionpassword_checkerat0x10e26a7a0_6</title>\n",
       "<path fill=\"none\" stroke=\"black\" d=\"M196.23,-151.56C195.57,-144.25 195.36,-135.75 195.59,-127.67\"/>\n",
       "<polygon fill=\"black\" stroke=\"black\" points=\"199.07,-128.01 196.15,-117.82 192.09,-127.61 199.07,-128.01\"/>\n",
       "</g>\n",
       "<!-- password_digest_functionpassword_checkerat0x10e26a7a0_4&#45;&gt;test_functionpassword_checkerat0x10e26a7a0_6 -->\n",
       "<!-- secret_password_functionpassword_checkerat0x10e26a7a0_3 -->\n",
       "<g id=\"node2\" class=\"node\">\n",
       "<title>secret_password_functionpassword_checkerat0x10e26a7a0_3</title>\n",
       "<g id=\"a_node2\"><a xlink:title=\"password_checker:3\">\n",
       "<polygon fill=\"peachpuff\" stroke=\"black\" points=\"341.5,-268 63,-268 63,-228 341.5,-228 341.5,-268\"/>\n",
       "<text xml:space=\"preserve\" text-anchor=\"start\" x=\"140.38\" y=\"-251.7\" font-family=\"Courier,monospace\" font-weight=\"bold\" font-size=\"14.00\">secret_password</text>\n",
       "<text xml:space=\"preserve\" text-anchor=\"start\" x=\"71\" y=\"-233.45\" font-family=\"Courier,monospace\" font-size=\"9.00\">secret_password = input(&quot;Enter secret password: &quot;)</text>\n",
       "</a>\n",
       "</g>\n",
       "</g>\n",
       "<!-- secret_password_functionpassword_checkerat0x10e26a7a0_3&#45;&gt;password_digest_functionpassword_checkerat0x10e26a7a0_4 -->\n",
       "<g id=\"edge1\" class=\"edge\">\n",
       "<title>secret_password_functionpassword_checkerat0x10e26a7a0_3&#45;&gt;password_digest_functionpassword_checkerat0x10e26a7a0_4</title>\n",
       "<path fill=\"none\" stroke=\"black\" d=\"M196.23,-227.56C195.57,-220.25 195.36,-211.75 195.59,-203.67\"/>\n",
       "<polygon fill=\"black\" stroke=\"black\" points=\"199.07,-204.01 196.15,-193.82 192.09,-203.61 199.07,-204.01\"/>\n",
       "</g>\n",
       "<!-- secret_password_functionpassword_checkerat0x10e26a7a0_3&#45;&gt;password_digest_functionpassword_checkerat0x10e26a7a0_4 -->\n",
       "<!-- password_checkerreturnvalue_functionpassword_checkerat0x10e26a7a0_9 -->\n",
       "<g id=\"node4\" class=\"node\">\n",
       "<title>password_checkerreturnvalue_functionpassword_checkerat0x10e26a7a0_9</title>\n",
       "<g id=\"a_node4\"><a xlink:title=\"password_checker:9\">\n",
       "<polygon fill=\"peachpuff\" stroke=\"black\" points=\"346.38,-40 58.12,-40 58.12,0 346.38,0 346.38,-40\"/>\n",
       "<text xml:space=\"preserve\" text-anchor=\"start\" x=\"66.12\" y=\"-23.7\" font-family=\"Courier,monospace\" font-weight=\"bold\" font-style=\"italic\" font-size=\"14.00\">&lt;password_checker() return value&gt;</text>\n",
       "<text xml:space=\"preserve\" text-anchor=\"start\" x=\"170.75\" y=\"-5.45\" font-family=\"Courier,monospace\" font-size=\"9.00\">return False</text>\n",
       "</a>\n",
       "</g>\n",
       "</g>\n",
       "<!-- test_functionpassword_checkerat0x10e26a7a0_6&#45;&gt;password_checkerreturnvalue_functionpassword_checkerat0x10e26a7a0_9 -->\n",
       "<g id=\"edge3\" class=\"edge\">\n",
       "<title>test_functionpassword_checkerat0x10e26a7a0_6&#45;&gt;password_checkerreturnvalue_functionpassword_checkerat0x10e26a7a0_9</title>\n",
       "<path fill=\"none\" stroke=\"grey\" stroke-dasharray=\"5,2\" d=\"M196.23,-75.56C195.57,-68.25 195.36,-59.75 195.59,-51.67\"/>\n",
       "<polygon fill=\"grey\" stroke=\"grey\" points=\"199.07,-52.01 196.15,-41.82 192.09,-51.61 199.07,-52.01\"/>\n",
       "</g>\n",
       "<!-- test_functionpassword_checkerat0x10e26a7a0_6&#45;&gt;password_checkerreturnvalue_functionpassword_checkerat0x10e26a7a0_9 -->\n",
       "</g>\n",
       "</svg>\n"
      ],
      "text/plain": [
       "<__main__.Slicer at 0x10d952d50>"
      ]
     },
     "execution_count": 236,
     "metadata": {},
     "output_type": "execute_result"
    }
   ],
   "source": [
    "slicer"
   ]
  },
  {
   "cell_type": "markdown",
   "metadata": {
    "slideshow": {
     "slide_type": "fragment"
    }
   },
   "source": [
    "We see that the password only flows into `password_digest`, where it is already encrypted. If the password were flowing into some other function or variable, we would see this in our slice."
   ]
  },
  {
   "cell_type": "markdown",
   "metadata": {
    "slideshow": {
     "slide_type": "subslide"
    }
   },
   "source": [
    "(Note that an attacker may still be able to find out which password was entered, for instance, by checking memory contents.)"
   ]
  },
  {
   "cell_type": "code",
   "execution_count": 237,
   "metadata": {
    "execution": {
     "iopub.execute_input": "2025-10-26T17:47:26.421225Z",
     "iopub.status.busy": "2025-10-26T17:47:26.421101Z",
     "iopub.status.idle": "2025-10-26T17:47:26.425186Z",
     "shell.execute_reply": "2025-10-26T17:47:26.424842Z"
    },
    "slideshow": {
     "slide_type": "subslide"
    },
    "tags": [
     "remove-input"
    ]
   },
   "outputs": [
    {
     "data": {
      "text/html": [
       "\n",
       "    \n",
       "    <script>\n",
       "    var bad_answers = new Map();\n",
       "\n",
       "    function answer(quiz_id) {\n",
       "        ans = 0;\n",
       "        for (i = 1;; i++) {\n",
       "            checkbox = document.getElementById(quiz_id + \"-\" + i.toString());\n",
       "            if (!checkbox)\n",
       "                break;\n",
       "            if (checkbox.checked)\n",
       "                ans |= (1 << i);\n",
       "        }\n",
       "        return ans;\n",
       "    }\n",
       "    function check_selection(quiz_id, correct_answer, multiple_choice, hint) {\n",
       "        given_answer = answer(quiz_id);\n",
       "        if (given_answer == correct_answer)\n",
       "        {\n",
       "            document.getElementById(quiz_id + \"-submit\").value = \"Correct!\";\n",
       "            document.getElementById(quiz_id + \"-hint\").innerHTML = \"\";\n",
       "\n",
       "            for (i = 1;; i++) {\n",
       "                checkbox = document.getElementById(quiz_id + \"-\" + i.toString());\n",
       "                label = document.getElementById(quiz_id + \"-\" + i.toString() + \"-label\")\n",
       "                if (!checkbox)\n",
       "                    break;\n",
       "\n",
       "                if (checkbox.checked) {\n",
       "                    label.style.fontWeight = \"bold\";\n",
       "                }\n",
       "                else {\n",
       "                    label.style.textDecoration = \"line-through\";\n",
       "                }\n",
       "            }\n",
       "        }\n",
       "        else \n",
       "        {\n",
       "            document.getElementById(quiz_id + \"-submit\").value = \"Try again\";\n",
       "\n",
       "            if (!bad_answers.has(quiz_id)) {\n",
       "                bad_answers.set(quiz_id, 1);\n",
       "            }\n",
       "            else {\n",
       "                bad_answers.set(quiz_id, bad_answers.get(quiz_id) + 1);\n",
       "            }\n",
       "\n",
       "            if (bad_answers.get(quiz_id) >= 2 && hint.length > 0) {\n",
       "                document.getElementById(quiz_id + \"-hint\").innerHTML = \n",
       "                    \"&nbsp;&nbsp;(Hint: <code>\" + hint + \"</code>)\";\n",
       "            }\n",
       "\n",
       "            if (!multiple_choice) {\n",
       "                for (i = 1;; i++) {\n",
       "                    checkbox = document.getElementById(quiz_id + \"-\" + i.toString());\n",
       "                    label = document.getElementById(quiz_id + \"-\" + i.toString() + \"-label\")\n",
       "\n",
       "                    if (!checkbox)\n",
       "                        break;\n",
       "                    if (checkbox.checked) {\n",
       "                        label.style.textDecoration = \"line-through\";\n",
       "                    }\n",
       "                }\n",
       "            }\n",
       "        }\n",
       "    }\n",
       "    function clear_selection(quiz_id) {\n",
       "        document.getElementById(quiz_id + \"-submit\").value = \"Submit\";\n",
       "        document.getElementById(quiz_id + \"-hint\").innerHTML = \"\";\n",
       "    }\n",
       "    </script>\n",
       "    \n",
       "    <div class=\"quiz\">\n",
       "    <h3 class=\"quiz_title\">Quiz</h3>\n",
       "    <p>\n",
       "    <div class=\"quiz_question\">What is the secret password, actually?</div>\n",
       "    </p>\n",
       "    <p>\n",
       "    <div class=\"quiz_options\" title=\"Pick a choice.\">\n",
       "    \n",
       "        <input type=\"radio\" name=\"d5bafafa-b293-11f0-938a-6298cf1a5790\" id=\"d5bafafa-b293-11f0-938a-6298cf1a5790-1\" onclick=\"clear_selection('d5bafafa-b293-11f0-938a-6298cf1a5790')\">\n",
       "        <label id=\"d5bafafa-b293-11f0-938a-6298cf1a5790-1-label\" for=\"d5bafafa-b293-11f0-938a-6298cf1a5790-1\"><code>'automated'</code></label><br>\n",
       "    \n",
       "        <input type=\"radio\" name=\"d5bafafa-b293-11f0-938a-6298cf1a5790\" id=\"d5bafafa-b293-11f0-938a-6298cf1a5790-2\" onclick=\"clear_selection('d5bafafa-b293-11f0-938a-6298cf1a5790')\">\n",
       "        <label id=\"d5bafafa-b293-11f0-938a-6298cf1a5790-2-label\" for=\"d5bafafa-b293-11f0-938a-6298cf1a5790-2\"><code>'debugging'</code></label><br>\n",
       "    \n",
       "        <input type=\"radio\" name=\"d5bafafa-b293-11f0-938a-6298cf1a5790\" id=\"d5bafafa-b293-11f0-938a-6298cf1a5790-3\" onclick=\"clear_selection('d5bafafa-b293-11f0-938a-6298cf1a5790')\">\n",
       "        <label id=\"d5bafafa-b293-11f0-938a-6298cf1a5790-3-label\" for=\"d5bafafa-b293-11f0-938a-6298cf1a5790-3\"><code>'is'</code></label><br>\n",
       "    \n",
       "        <input type=\"radio\" name=\"d5bafafa-b293-11f0-938a-6298cf1a5790\" id=\"d5bafafa-b293-11f0-938a-6298cf1a5790-4\" onclick=\"clear_selection('d5bafafa-b293-11f0-938a-6298cf1a5790')\">\n",
       "        <label id=\"d5bafafa-b293-11f0-938a-6298cf1a5790-4-label\" for=\"d5bafafa-b293-11f0-938a-6298cf1a5790-4\"><code>'fun'</code></label><br>\n",
       "    \n",
       "    </div>\n",
       "    </p>\n",
       "    <input id=\"d5bafafa-b293-11f0-938a-6298cf1a5790-submit\" type=\"submit\" value=\"Submit\" onclick=\"check_selection('d5bafafa-b293-11f0-938a-6298cf1a5790', 4, 0, '')\">\n",
       "    <span class=\"quiz_hint\" id=\"d5bafafa-b293-11f0-938a-6298cf1a5790-hint\"></span>\n",
       "    </div>\n",
       "    "
      ],
      "text/plain": [
       "<IPython.core.display.HTML object>"
      ]
     },
     "execution_count": 237,
     "metadata": {},
     "output_type": "execute_result"
    }
   ],
   "source": [
    "# ignore\n",
    "secret_answers = [\n",
    "    'automated',\n",
    "    'debugging',\n",
    "    'is',\n",
    "    'fun'\n",
    "]\n",
    "\n",
    "quiz(\"What is the secret password, actually?\", \n",
    "     [f\"`{repr(s)}`\" for s in secret_answers],\n",
    "     min([i + 1 for i, ans in enumerate(secret_answers) \n",
    "          if hashlib.md5(ans.encode('utf-8')).hexdigest() == \n",
    "              SECRET_HASH_DIGEST])\n",
    "    )"
   ]
  },
  {
   "cell_type": "markdown",
   "metadata": {
    "slideshow": {
     "slide_type": "subslide"
    }
   },
   "source": [
    "### Assessing Test Quality"
   ]
  },
  {
   "cell_type": "markdown",
   "metadata": {
    "slideshow": {
     "slide_type": "fragment"
    }
   },
   "source": [
    "Another interesting usage of dynamic slices is to _assess test quality_. With our `square_root()` function, we have seen that the included assertions well test the arguments and the result for correctness:"
   ]
  },
  {
   "cell_type": "code",
   "execution_count": 238,
   "metadata": {
    "execution": {
     "iopub.execute_input": "2025-10-26T17:47:26.426808Z",
     "iopub.status.busy": "2025-10-26T17:47:26.426695Z",
     "iopub.status.idle": "2025-10-26T17:47:26.428768Z",
     "shell.execute_reply": "2025-10-26T17:47:26.428486Z"
    },
    "slideshow": {
     "slide_type": "fragment"
    },
    "tags": [
     "remove-input"
    ]
   },
   "outputs": [],
   "source": [
    "# ignore\n",
    "_, start_square_root = inspect.getsourcelines(square_root)"
   ]
  },
  {
   "cell_type": "code",
   "execution_count": 239,
   "metadata": {
    "execution": {
     "iopub.execute_input": "2025-10-26T17:47:26.430455Z",
     "iopub.status.busy": "2025-10-26T17:47:26.430319Z",
     "iopub.status.idle": "2025-10-26T17:47:26.444042Z",
     "shell.execute_reply": "2025-10-26T17:47:26.443716Z"
    },
    "slideshow": {
     "slide_type": "subslide"
    },
    "tags": [
     "remove-input"
    ]
   },
   "outputs": [
    {
     "name": "stdout",
     "output_type": "stream",
     "text": [
      "54  \u001b[34mdef\u001b[39;49;00m\u001b[37m \u001b[39;49;00m\u001b[32msquare_root\u001b[39;49;00m(x):  \u001b[37m# type: ignore\u001b[39;49;00m\u001b[37m\u001b[39;49;00m\n",
      "55      \u001b[34massert\u001b[39;49;00m x >= \u001b[34m0\u001b[39;49;00m  \u001b[37m# precondition\u001b[39;49;00m\u001b[37m\u001b[39;49;00m\n",
      "56  \u001b[37m\u001b[39;49;00m\n",
      "57      approx = \u001b[34mNone\u001b[39;49;00m\u001b[37m\u001b[39;49;00m\n",
      "58      guess = x / \u001b[34m2\u001b[39;49;00m\u001b[37m\u001b[39;49;00m\n",
      "59      \u001b[34mwhile\u001b[39;49;00m approx != guess:\u001b[37m\u001b[39;49;00m\n",
      "60          approx = guess\u001b[37m\u001b[39;49;00m\n",
      "61          guess = (approx + x / approx) / \u001b[34m2\u001b[39;49;00m\u001b[37m\u001b[39;49;00m\n",
      "62  \u001b[37m\u001b[39;49;00m\n",
      "63      \u001b[34massert\u001b[39;49;00m math.isclose(approx * approx, x)\u001b[37m\u001b[39;49;00m\n",
      "64      \u001b[34mreturn\u001b[39;49;00m approx\u001b[37m\u001b[39;49;00m"
     ]
    }
   ],
   "source": [
    "# ignore\n",
    "print_content(inspect.getsource(square_root), '.py',\n",
    "              start_line_number=start_square_root)"
   ]
  },
  {
   "cell_type": "markdown",
   "metadata": {
    "slideshow": {
     "slide_type": "subslide"
    }
   },
   "source": [
    "However, a lazy programmer could also omit these tests – or worse yet, include tests that always pass:"
   ]
  },
  {
   "cell_type": "code",
   "execution_count": 240,
   "metadata": {
    "execution": {
     "iopub.execute_input": "2025-10-26T17:47:26.445614Z",
     "iopub.status.busy": "2025-10-26T17:47:26.445497Z",
     "iopub.status.idle": "2025-10-26T17:47:26.447474Z",
     "shell.execute_reply": "2025-10-26T17:47:26.447240Z"
    },
    "slideshow": {
     "slide_type": "fragment"
    }
   },
   "outputs": [],
   "source": [
    "def square_root_unchecked(x):  # type: ignore\n",
    "    assert True  # <-- new \"precondition\"\n",
    "\n",
    "    approx = None\n",
    "    guess = x / 2\n",
    "    while approx != guess:\n",
    "        approx = guess\n",
    "        guess = (approx + x / approx) / 2\n",
    "\n",
    "    assert True  # <-- new \"postcondition\"\n",
    "    return approx"
   ]
  },
  {
   "cell_type": "markdown",
   "metadata": {
    "slideshow": {
     "slide_type": "subslide"
    }
   },
   "source": [
    "How can one check that the tests supplied actually are effective? This is a problem of \"Who watches the watchmen\" – we need to find a way to ensure that the tests do their job."
   ]
  },
  {
   "attachments": {},
   "cell_type": "markdown",
   "metadata": {
    "slideshow": {
     "slide_type": "fragment"
    }
   },
   "source": [
    "The \"classical\" way of testing tests is so-called *mutation testing* – that is, introducing _artificial errors_ into the code to see whether the tests catch them. Mutation testing is effective: The above \"weak\" tests would not catch any change to the `square_root()` computation code, and hence quickly be determined as ineffective. However, mutation testing is also _costly_, as tests have to be ran again and again for every small code mutation."
   ]
  },
  {
   "cell_type": "markdown",
   "metadata": {
    "slideshow": {
     "slide_type": "fragment"
    }
   },
   "source": [
    "Slices offer a cost-effective alternative to determine the quality of tests. The idea is that if there are statements in the code whose result does _not_ flow into an assertion, then any errors in these statements will go unnoticed. In consequence, the larger the backward slice of an assertion, the higher its ability to catch errors."
   ]
  },
  {
   "cell_type": "markdown",
   "metadata": {
    "slideshow": {
     "slide_type": "subslide"
    }
   },
   "source": [
    "We can easily validate this assumption using the two examples, above. Here is the backward slice for the \"full\" postcondition in `square_root()`. We see that the entire computation code flows into the final postcondition:"
   ]
  },
  {
   "cell_type": "code",
   "execution_count": 241,
   "metadata": {
    "execution": {
     "iopub.execute_input": "2025-10-26T17:47:26.448749Z",
     "iopub.status.busy": "2025-10-26T17:47:26.448644Z",
     "iopub.status.idle": "2025-10-26T17:47:26.450699Z",
     "shell.execute_reply": "2025-10-26T17:47:26.450420Z"
    },
    "slideshow": {
     "slide_type": "fragment"
    }
   },
   "outputs": [
    {
     "data": {
      "text/plain": [
       "63"
      ]
     },
     "execution_count": 241,
     "metadata": {},
     "output_type": "execute_result"
    }
   ],
   "source": [
    "postcondition_lineno = start_square_root + 9\n",
    "postcondition_lineno"
   ]
  },
  {
   "cell_type": "code",
   "execution_count": 242,
   "metadata": {
    "execution": {
     "iopub.execute_input": "2025-10-26T17:47:26.451966Z",
     "iopub.status.busy": "2025-10-26T17:47:26.451872Z",
     "iopub.status.idle": "2025-10-26T17:47:26.796614Z",
     "shell.execute_reply": "2025-10-26T17:47:26.796266Z"
    },
    "slideshow": {
     "slide_type": "subslide"
    }
   },
   "outputs": [
    {
     "name": "stderr",
     "output_type": "stream",
     "text": [
      "/var/folders/n2/xd9445p97rb3xh7m1dfx8_4h0006ts/T/ipykernel_51412/2498757139.py:9: DeprecationWarning: ast.Num is deprecated and will be removed in Python 3.14; use ast.Constant instead\n",
      "  keywords.append(keyword(arg='pos', value=ast.Num(pos)))\n",
      "/var/folders/n2/xd9445p97rb3xh7m1dfx8_4h0006ts/T/ipykernel_51412/2454789564.py:22: DeprecationWarning: ast.Str is deprecated and will be removed in Python 3.14; use ast.Constant instead\n",
      "  args=[ast.Str(id), value],\n",
      "/var/folders/n2/xd9445p97rb3xh7m1dfx8_4h0006ts/T/ipykernel_51412/3554319793.py:4: DeprecationWarning: ast.Str is deprecated and will be removed in Python 3.14; use ast.Constant instead\n",
      "  args=[ast.Str(id), Name(id=id, ctx=Load())],\n",
      "/var/folders/n2/xd9445p97rb3xh7m1dfx8_4h0006ts/T/ipykernel_51412/882995308.py:12: DeprecationWarning: ast.Num is deprecated and will be removed in Python 3.14; use ast.Constant instead\n",
      "  keywords=[keyword(arg='pos', value=ast.Num(n + 1))]\n",
      "/var/folders/n2/xd9445p97rb3xh7m1dfx8_4h0006ts/T/ipykernel_51412/882995308.py:19: DeprecationWarning: ast.NameConstant is deprecated and will be removed in Python 3.14; use ast.Constant instead\n",
      "  value=ast.NameConstant(value=True)))\n",
      "/var/folders/n2/xd9445p97rb3xh7m1dfx8_4h0006ts/T/ipykernel_51412/882995308.py:25: DeprecationWarning: ast.Str is deprecated and will be removed in Python 3.14; use ast.Constant instead\n",
      "  args=[ast.Str(child.arg),\n"
     ]
    },
    {
     "data": {
      "image/svg+xml": [
       "<?xml version=\"1.0\" encoding=\"UTF-8\" standalone=\"no\"?>\n",
       "<!DOCTYPE svg PUBLIC \"-//W3C//DTD SVG 1.1//EN\"\n",
       " \"http://www.w3.org/Graphics/SVG/1.1/DTD/svg11.dtd\">\n",
       "<!-- Generated by graphviz version 14.0.2 (20251019.1705)\n",
       " -->\n",
       "<!-- Title: dependencies Pages: 1 -->\n",
       "<svg width=\"378pt\" height=\"428pt\"\n",
       " viewBox=\"0.00 0.00 378.00 428.00\" xmlns=\"http://www.w3.org/2000/svg\" xmlns:xlink=\"http://www.w3.org/1999/xlink\">\n",
       "<g id=\"graph0\" class=\"graph\" transform=\"scale(1 1) rotate(0) translate(4 424)\">\n",
       "<title>dependencies</title>\n",
       "<polygon fill=\"white\" stroke=\"none\" points=\"-4,4 -4,-424 374,-424 374,4 -4,4\"/>\n",
       "<!-- approx_functionsquare_rootat0x10e26bd80_60 -->\n",
       "<g id=\"node1\" class=\"node\">\n",
       "<title>approx_functionsquare_rootat0x10e26bd80_60</title>\n",
       "<g id=\"a_node1\"><a xlink:title=\"square_root:60\">\n",
       "<polygon fill=\"peachpuff\" stroke=\"black\" points=\"217.75,-420 128.25,-420 128.25,-380 217.75,-380 217.75,-420\"/>\n",
       "<text xml:space=\"preserve\" text-anchor=\"start\" x=\"148.25\" y=\"-403.7\" font-family=\"Courier,monospace\" font-weight=\"bold\" font-size=\"14.00\">approx</text>\n",
       "<text xml:space=\"preserve\" text-anchor=\"start\" x=\"136.25\" y=\"-385.45\" font-family=\"Courier,monospace\" font-size=\"9.00\">approx = guess</text>\n",
       "</a>\n",
       "</g>\n",
       "</g>\n",
       "<!-- test_functionsquare_rootat0x10e26bd80_59 -->\n",
       "<g id=\"node3\" class=\"node\">\n",
       "<title>test_functionsquare_rootat0x10e26bd80_59</title>\n",
       "<g id=\"a_node3\"><a xlink:title=\"square_root:59\">\n",
       "<polygon fill=\"peachpuff\" stroke=\"black\" points=\"341.75,-344 210.25,-344 210.25,-304 341.75,-304 341.75,-344\"/>\n",
       "<text xml:space=\"preserve\" text-anchor=\"start\" x=\"251.25\" y=\"-327.7\" font-family=\"Courier,monospace\" font-weight=\"bold\" font-style=\"italic\" font-size=\"14.00\">&lt;test&gt;</text>\n",
       "<text xml:space=\"preserve\" text-anchor=\"start\" x=\"218.25\" y=\"-309.45\" font-family=\"Courier,monospace\" font-size=\"9.00\">while approx != guess:</text>\n",
       "</a>\n",
       "</g>\n",
       "</g>\n",
       "<!-- approx_functionsquare_rootat0x10e26bd80_60&#45;&gt;test_functionsquare_rootat0x10e26bd80_59 -->\n",
       "<g id=\"edge8\" class=\"edge\">\n",
       "<title>approx_functionsquare_rootat0x10e26bd80_60&#45;&gt;test_functionsquare_rootat0x10e26bd80_59</title>\n",
       "<path fill=\"none\" stroke=\"black\" d=\"M188.02,-379.56C198.84,-370.63 213.44,-359.94 227.77,-350.39\"/>\n",
       "<polygon fill=\"black\" stroke=\"black\" points=\"229.36,-353.53 235.83,-345.14 225.54,-347.67 229.36,-353.53\"/>\n",
       "</g>\n",
       "<!-- assertion_functionsquare_rootat0x10e26bd80_63 -->\n",
       "<g id=\"node4\" class=\"node\">\n",
       "<title>assertion_functionsquare_rootat0x10e26bd80_63</title>\n",
       "<g id=\"a_node4\"><a xlink:title=\"square_root:63\">\n",
       "<polygon fill=\"peachpuff\" stroke=\"black\" points=\"248.38,-192 27.62,-192 27.62,-152 248.38,-152 248.38,-192\"/>\n",
       "<text xml:space=\"preserve\" text-anchor=\"start\" x=\"92.62\" y=\"-175.7\" font-family=\"Courier,monospace\" font-weight=\"bold\" font-style=\"italic\" font-size=\"14.00\">&lt;assertion&gt;</text>\n",
       "<text xml:space=\"preserve\" text-anchor=\"start\" x=\"35.62\" y=\"-157.45\" font-family=\"Courier,monospace\" font-size=\"9.00\">assert math.isclose(approx * approx, x)</text>\n",
       "</a>\n",
       "</g>\n",
       "</g>\n",
       "<!-- approx_functionsquare_rootat0x10e26bd80_60&#45;&gt;assertion_functionsquare_rootat0x10e26bd80_63 -->\n",
       "<g id=\"edge3\" class=\"edge\">\n",
       "<title>approx_functionsquare_rootat0x10e26bd80_60&#45;&gt;assertion_functionsquare_rootat0x10e26bd80_63</title>\n",
       "<path fill=\"none\" stroke=\"black\" d=\"M154.89,-379.58C133.82,-355.54 100.25,-312.31 87,-268 81.91,-250.97 80.51,-244.55 87,-228 90.95,-217.94 97.69,-208.62 105.01,-200.62\"/>\n",
       "<polygon fill=\"black\" stroke=\"black\" points=\"107.45,-203.13 112,-193.56 102.48,-198.21 107.45,-203.13\"/>\n",
       "</g>\n",
       "<!-- guess_functionsquare_rootat0x10e26bd80_61 -->\n",
       "<g id=\"node7\" class=\"node\">\n",
       "<title>guess_functionsquare_rootat0x10e26bd80_61</title>\n",
       "<g id=\"a_node7\"><a xlink:title=\"square_root:61\">\n",
       "<polygon fill=\"peachpuff\" stroke=\"black\" points=\"285.62,-268 96.38,-268 96.38,-228 285.62,-228 285.62,-268\"/>\n",
       "<text xml:space=\"preserve\" text-anchor=\"start\" x=\"170.38\" y=\"-251.7\" font-family=\"Courier,monospace\" font-weight=\"bold\" font-size=\"14.00\">guess</text>\n",
       "<text xml:space=\"preserve\" text-anchor=\"start\" x=\"104.38\" y=\"-233.45\" font-family=\"Courier,monospace\" font-size=\"9.00\">guess = (approx + x / approx) / 2</text>\n",
       "</a>\n",
       "</g>\n",
       "</g>\n",
       "<!-- approx_functionsquare_rootat0x10e26bd80_60&#45;&gt;guess_functionsquare_rootat0x10e26bd80_61 -->\n",
       "<g id=\"edge5\" class=\"edge\">\n",
       "<title>approx_functionsquare_rootat0x10e26bd80_60&#45;&gt;guess_functionsquare_rootat0x10e26bd80_61</title>\n",
       "<path fill=\"none\" stroke=\"black\" d=\"M170.61,-379.7C171.25,-354.27 176.37,-309.28 181.82,-279.29\"/>\n",
       "<polygon fill=\"black\" stroke=\"black\" points=\"185.21,-280.2 183.71,-269.71 178.34,-278.85 185.21,-280.2\"/>\n",
       "</g>\n",
       "<!-- approx_functionsquare_rootat0x10e26bd80_60&#45;&gt;guess_functionsquare_rootat0x10e26bd80_61 -->\n",
       "<!-- guess_functionsquare_rootat0x10e26bd80_58 -->\n",
       "<g id=\"node2\" class=\"node\">\n",
       "<title>guess_functionsquare_rootat0x10e26bd80_58</title>\n",
       "<g id=\"a_node2\"><a xlink:title=\"square_root:58\">\n",
       "<polygon fill=\"peachpuff\" stroke=\"black\" points=\"365.12,-40 280.88,-40 280.88,0 365.12,0 365.12,-40\"/>\n",
       "<text xml:space=\"preserve\" text-anchor=\"start\" x=\"302.38\" y=\"-23.7\" font-family=\"Courier,monospace\" font-weight=\"bold\" font-size=\"14.00\">guess</text>\n",
       "<text xml:space=\"preserve\" text-anchor=\"start\" x=\"288.88\" y=\"-5.45\" font-family=\"Courier,monospace\" font-size=\"9.00\">guess = x / 2</text>\n",
       "</a>\n",
       "</g>\n",
       "</g>\n",
       "<!-- guess_functionsquare_rootat0x10e26bd80_58&#45;&gt;approx_functionsquare_rootat0x10e26bd80_60 -->\n",
       "<g id=\"edge1\" class=\"edge\">\n",
       "<title>guess_functionsquare_rootat0x10e26bd80_58&#45;&gt;approx_functionsquare_rootat0x10e26bd80_60</title>\n",
       "<path fill=\"none\" stroke=\"black\" d=\"M280.44,-21.77C192.73,-25.86 0,-48.73 0,-171 0,-249 0,-249 0,-249 0,-312.28 66.89,-354.86 117.48,-378.01\"/>\n",
       "<polygon fill=\"black\" stroke=\"black\" points=\"116.05,-381.21 126.61,-382.05 118.88,-374.81 116.05,-381.21\"/>\n",
       "</g>\n",
       "<!-- guess_functionsquare_rootat0x10e26bd80_58&#45;&gt;test_functionsquare_rootat0x10e26bd80_59 -->\n",
       "<g id=\"edge10\" class=\"edge\">\n",
       "<title>guess_functionsquare_rootat0x10e26bd80_58&#45;&gt;test_functionsquare_rootat0x10e26bd80_59</title>\n",
       "<path fill=\"none\" stroke=\"black\" d=\"M317.41,-40.46C311.3,-82.48 304.88,-184.66 286,-268 284.16,-276.14 281.52,-284.76 279.1,-292.7\"/>\n",
       "<polygon fill=\"black\" stroke=\"black\" points=\"275.76,-291.67 276.26,-302.25 282.47,-293.66 275.76,-291.67\"/>\n",
       "</g>\n",
       "<!-- guess_functionsquare_rootat0x10e26bd80_58&#45;&gt;test_functionsquare_rootat0x10e26bd80_59 -->\n",
       "<!-- test_functionsquare_rootat0x10e26bd80_59&#45;&gt;approx_functionsquare_rootat0x10e26bd80_60 -->\n",
       "<g id=\"edge2\" class=\"edge\">\n",
       "<title>test_functionsquare_rootat0x10e26bd80_59&#45;&gt;approx_functionsquare_rootat0x10e26bd80_60</title>\n",
       "<path fill=\"none\" stroke=\"grey\" stroke-dasharray=\"5,2\" d=\"M249.12,-344.31C236.96,-353.05 222.41,-363.5 209.3,-372.92\"/>\n",
       "<polygon fill=\"grey\" stroke=\"grey\" points=\"207.37,-370 201.29,-378.67 211.45,-375.68 207.37,-370\"/>\n",
       "</g>\n",
       "<!-- test_functionsquare_rootat0x10e26bd80_59&#45;&gt;approx_functionsquare_rootat0x10e26bd80_60 -->\n",
       "<!-- test_functionsquare_rootat0x10e26bd80_59&#45;&gt;guess_functionsquare_rootat0x10e26bd80_61 -->\n",
       "<g id=\"edge7\" class=\"edge\">\n",
       "<title>test_functionsquare_rootat0x10e26bd80_59&#45;&gt;guess_functionsquare_rootat0x10e26bd80_61</title>\n",
       "<path fill=\"none\" stroke=\"grey\" stroke-dasharray=\"5,2\" d=\"M247.64,-303.56C237.23,-295.14 225.59,-285.16 215.53,-276.04\"/>\n",
       "<polygon fill=\"grey\" stroke=\"grey\" points=\"218,-273.56 208.28,-269.34 213.25,-278.7 218,-273.56\"/>\n",
       "</g>\n",
       "<!-- x_functionsquare_rootat0x10e26bd80_64 -->\n",
       "<g id=\"node5\" class=\"node\">\n",
       "<title>x_functionsquare_rootat0x10e26bd80_64</title>\n",
       "<g id=\"a_node5\"><a xlink:title=\"square_root:64\">\n",
       "<polygon fill=\"peachpuff\" stroke=\"black\" points=\"233.12,-116 148.88,-116 148.88,-76 233.12,-76 233.12,-116\"/>\n",
       "<text xml:space=\"preserve\" text-anchor=\"start\" x=\"186.88\" y=\"-99.7\" font-family=\"Courier,monospace\" font-weight=\"bold\" font-size=\"14.00\">x</text>\n",
       "<text xml:space=\"preserve\" text-anchor=\"start\" x=\"156.88\" y=\"-81.45\" font-family=\"Courier,monospace\" font-size=\"9.00\">return approx</text>\n",
       "</a>\n",
       "</g>\n",
       "</g>\n",
       "<!-- assertion_functionsquare_rootat0x10e26bd80_63&#45;&gt;x_functionsquare_rootat0x10e26bd80_64 -->\n",
       "<!-- x_functionsquare_rootat0x10e26bd80_64&#45;&gt;guess_functionsquare_rootat0x10e26bd80_58 -->\n",
       "<g id=\"edge12\" class=\"edge\">\n",
       "<title>x_functionsquare_rootat0x10e26bd80_64&#45;&gt;guess_functionsquare_rootat0x10e26bd80_58</title>\n",
       "<path fill=\"none\" stroke=\"black\" d=\"M225.68,-75.56C241.9,-66.47 261.4,-55.53 278.68,-45.85\"/>\n",
       "<polygon fill=\"black\" stroke=\"black\" points=\"280.22,-49 287.23,-41.05 276.8,-42.89 280.22,-49\"/>\n",
       "</g>\n",
       "<!-- x_functionsquare_rootat0x10e26bd80_64&#45;&gt;assertion_functionsquare_rootat0x10e26bd80_63 -->\n",
       "<g id=\"edge4\" class=\"edge\">\n",
       "<title>x_functionsquare_rootat0x10e26bd80_64&#45;&gt;assertion_functionsquare_rootat0x10e26bd80_63</title>\n",
       "<path fill=\"none\" stroke=\"black\" d=\"M183.18,-116.31C178.14,-124.37 171.51,-133.89 164.84,-142.71\"/>\n",
       "<polygon fill=\"black\" stroke=\"black\" points=\"162.26,-140.32 158.88,-150.36 167.79,-144.63 162.26,-140.32\"/>\n",
       "</g>\n",
       "<!-- x_functionsquare_rootat0x10e26bd80_64&#45;&gt;guess_functionsquare_rootat0x10e26bd80_61 -->\n",
       "<g id=\"edge6\" class=\"edge\">\n",
       "<title>x_functionsquare_rootat0x10e26bd80_64&#45;&gt;guess_functionsquare_rootat0x10e26bd80_61</title>\n",
       "<path fill=\"none\" stroke=\"black\" d=\"M224.82,-116.27C237.35,-125.34 250.17,-137.41 257,-152 264.54,-168.1 264.54,-175.9 257,-192 251.77,-203.17 243.03,-212.86 233.6,-220.86\"/>\n",
       "<polygon fill=\"black\" stroke=\"black\" points=\"231.73,-217.88 226.01,-226.8 236.04,-223.39 231.73,-217.88\"/>\n",
       "</g>\n",
       "<!-- approx_functionsquare_rootat0x10e26bd80_57 -->\n",
       "<g id=\"node6\" class=\"node\">\n",
       "<title>approx_functionsquare_rootat0x10e26bd80_57</title>\n",
       "<g id=\"a_node6\"><a xlink:title=\"square_root:57\">\n",
       "<polygon fill=\"peachpuff\" stroke=\"black\" points=\"366.12,-420 281.88,-420 281.88,-380 366.12,-380 366.12,-420\"/>\n",
       "<text xml:space=\"preserve\" text-anchor=\"start\" x=\"299.25\" y=\"-403.7\" font-family=\"Courier,monospace\" font-weight=\"bold\" font-size=\"14.00\">approx</text>\n",
       "<text xml:space=\"preserve\" text-anchor=\"start\" x=\"289.88\" y=\"-385.45\" font-family=\"Courier,monospace\" font-size=\"9.00\">approx = None</text>\n",
       "</a>\n",
       "</g>\n",
       "</g>\n",
       "<!-- approx_functionsquare_rootat0x10e26bd80_57&#45;&gt;guess_functionsquare_rootat0x10e26bd80_58 -->\n",
       "<!-- approx_functionsquare_rootat0x10e26bd80_57&#45;&gt;test_functionsquare_rootat0x10e26bd80_59 -->\n",
       "<g id=\"edge9\" class=\"edge\">\n",
       "<title>approx_functionsquare_rootat0x10e26bd80_57&#45;&gt;test_functionsquare_rootat0x10e26bd80_59</title>\n",
       "<path fill=\"none\" stroke=\"black\" d=\"M311.39,-379.56C306.26,-371.65 300.23,-362.36 294.62,-353.71\"/>\n",
       "<polygon fill=\"black\" stroke=\"black\" points=\"297.73,-352.07 289.35,-345.58 291.86,-355.88 297.73,-352.07\"/>\n",
       "</g>\n",
       "<!-- guess_functionsquare_rootat0x10e26bd80_61&#45;&gt;test_functionsquare_rootat0x10e26bd80_59 -->\n",
       "<g id=\"edge11\" class=\"edge\">\n",
       "<title>guess_functionsquare_rootat0x10e26bd80_61&#45;&gt;test_functionsquare_rootat0x10e26bd80_59</title>\n",
       "<path fill=\"none\" stroke=\"black\" d=\"M219.2,-268.31C229.6,-276.71 241.24,-286.69 251.31,-295.82\"/>\n",
       "<polygon fill=\"black\" stroke=\"black\" points=\"248.86,-298.32 258.58,-302.53 253.61,-293.17 248.86,-298.32\"/>\n",
       "</g>\n",
       "<!-- guess_functionsquare_rootat0x10e26bd80_61&#45;&gt;assertion_functionsquare_rootat0x10e26bd80_63 -->\n",
       "</g>\n",
       "</svg>\n"
      ],
      "text/plain": [
       "Dependencies(\n",
       "    data={\n",
       "        ('<assertion>', (square_root, 63)): {('approx', (square_root, 60)), ('x', (square_root, 64))},\n",
       "        ('approx', (square_root, 60)): {('guess', (square_root, 58))},\n",
       "        ('x', (square_root, 64)): set(),\n",
       "        ('guess', (square_root, 58)): {('x', (square_root, 64))},\n",
       "        ('<test>', (square_root, 59)): {('approx', (square_root, 60)), ('approx', (square_root, 57)), ('guess', (square_root, 58)), ('guess', (square_root, 61))},\n",
       "        ('approx', (square_root, 57)): set(),\n",
       "        ('guess', (square_root, 61)): {('approx', (square_root, 60)), ('x', (square_root, 64))}},\n",
       " control={\n",
       "        ('<assertion>', (square_root, 63)): set(),\n",
       "        ('approx', (square_root, 60)): {('<test>', (square_root, 59))},\n",
       "        ('x', (square_root, 64)): set(),\n",
       "        ('guess', (square_root, 58)): set(),\n",
       "        ('<test>', (square_root, 59)): set(),\n",
       "        ('approx', (square_root, 57)): set(),\n",
       "        ('guess', (square_root, 61)): {('<test>', (square_root, 59))}})"
      ]
     },
     "execution_count": 242,
     "metadata": {},
     "output_type": "execute_result"
    }
   ],
   "source": [
    "with Slicer() as slicer:\n",
    "    y = square_root(4)\n",
    "\n",
    "slicer.dependencies().backward_slice((square_root, postcondition_lineno))"
   ]
  },
  {
   "cell_type": "markdown",
   "metadata": {
    "slideshow": {
     "slide_type": "subslide"
    }
   },
   "source": [
    "In contrast, the \"lazy\" assertion in `square_root_unchecked()` has an empty backward slice, showing that it depends on no other value at all:"
   ]
  },
  {
   "cell_type": "code",
   "execution_count": 243,
   "metadata": {
    "execution": {
     "iopub.execute_input": "2025-10-26T17:47:26.798221Z",
     "iopub.status.busy": "2025-10-26T17:47:26.798091Z",
     "iopub.status.idle": "2025-10-26T17:47:26.825883Z",
     "shell.execute_reply": "2025-10-26T17:47:26.825541Z"
    },
    "slideshow": {
     "slide_type": "subslide"
    }
   },
   "outputs": [
    {
     "name": "stderr",
     "output_type": "stream",
     "text": [
      "/var/folders/n2/xd9445p97rb3xh7m1dfx8_4h0006ts/T/ipykernel_51412/2454789564.py:22: DeprecationWarning: ast.Str is deprecated and will be removed in Python 3.14; use ast.Constant instead\n",
      "  args=[ast.Str(id), value],\n",
      "/var/folders/n2/xd9445p97rb3xh7m1dfx8_4h0006ts/T/ipykernel_51412/3554319793.py:4: DeprecationWarning: ast.Str is deprecated and will be removed in Python 3.14; use ast.Constant instead\n",
      "  args=[ast.Str(id), Name(id=id, ctx=Load())],\n",
      "/var/folders/n2/xd9445p97rb3xh7m1dfx8_4h0006ts/T/ipykernel_51412/882995308.py:12: DeprecationWarning: ast.Num is deprecated and will be removed in Python 3.14; use ast.Constant instead\n",
      "  keywords=[keyword(arg='pos', value=ast.Num(n + 1))]\n",
      "/var/folders/n2/xd9445p97rb3xh7m1dfx8_4h0006ts/T/ipykernel_51412/882995308.py:19: DeprecationWarning: ast.NameConstant is deprecated and will be removed in Python 3.14; use ast.Constant instead\n",
      "  value=ast.NameConstant(value=True)))\n",
      "/var/folders/n2/xd9445p97rb3xh7m1dfx8_4h0006ts/T/ipykernel_51412/882995308.py:25: DeprecationWarning: ast.Str is deprecated and will be removed in Python 3.14; use ast.Constant instead\n",
      "  args=[ast.Str(child.arg),\n"
     ]
    },
    {
     "data": {
      "image/svg+xml": [
       "<?xml version=\"1.0\" encoding=\"UTF-8\" standalone=\"no\"?>\n",
       "<!DOCTYPE svg PUBLIC \"-//W3C//DTD SVG 1.1//EN\"\n",
       " \"http://www.w3.org/Graphics/SVG/1.1/DTD/svg11.dtd\">\n",
       "<!-- Generated by graphviz version 14.0.2 (20251019.1705)\n",
       " -->\n",
       "<!-- Title: dependencies Pages: 1 -->\n",
       "<svg width=\"8pt\" height=\"8pt\"\n",
       " viewBox=\"0.00 0.00 8.00 8.00\" xmlns=\"http://www.w3.org/2000/svg\" xmlns:xlink=\"http://www.w3.org/1999/xlink\">\n",
       "<g id=\"graph0\" class=\"graph\" transform=\"scale(1 1) rotate(0) translate(4 4)\">\n",
       "<title>dependencies</title>\n",
       "<polygon fill=\"white\" stroke=\"none\" points=\"-4,4 -4,-4 4,-4 4,4 -4,4\"/>\n",
       "</g>\n",
       "</svg>\n"
      ],
      "text/plain": [
       "Dependencies(\n",
       "    data={\n",
       "        },\n",
       " control={\n",
       "        })"
      ]
     },
     "execution_count": 243,
     "metadata": {},
     "output_type": "execute_result"
    }
   ],
   "source": [
    "with Slicer() as slicer:\n",
    "    y = square_root_unchecked(4)\n",
    "\n",
    "slicer.dependencies().backward_slice((square_root, postcondition_lineno))"
   ]
  },
  {
   "cell_type": "markdown",
   "metadata": {
    "slideshow": {
     "slide_type": "subslide"
    }
   },
   "source": [
    "In \\cite{Schuler2011}, Schuler et al. have tried out this technique and found their \"checked coverage\" to be a sure indicator for the quality of the checks in tests. Using our dynamic slices, you may wish to try this out on Python code."
   ]
  },
  {
   "cell_type": "markdown",
   "metadata": {
    "slideshow": {
     "slide_type": "subslide"
    }
   },
   "source": [
    "### Use in Statistical Debugging"
   ]
  },
  {
   "attachments": {},
   "cell_type": "markdown",
   "metadata": {
    "slideshow": {
     "slide_type": "fragment"
    }
   },
   "source": [
    "Collecting dynamic slices over several runs allows for _correlating dependencies with other execution features_, notably _failures_: \"The program fails whenever the value of `weekday` comes from `calendar()`.\" We will revisit this idea in [the chapter on statistical debugging](StatisticalDebugger.ipynb)."
   ]
  },
  {
   "cell_type": "markdown",
   "metadata": {
    "slideshow": {
     "slide_type": "slide"
    }
   },
   "source": [
    "## Things that do not Work"
   ]
  },
  {
   "attachments": {},
   "cell_type": "markdown",
   "metadata": {
    "slideshow": {
     "slide_type": "subslide"
    }
   },
   "source": [
    "Our slicer (and especially the underlying dependency tracker) is still a proof of concept. A number of Python features are not or only partially supported, and/or hardly tested:\n",
    "\n",
    "* __Exceptions__ can lead to missing or erroneous dependencies. The code assumes that for every `call()`, there is a matching `ret()`; when exceptions break this, dependencies across function calls and arguments may be missing or be assigned incorrectly.\n",
    "* __Multiple definitions on a single line__ as in `x = y; x = 1` can lead to missing or erroneous dependencies. Our implementation assumes that there is one statement per line.\n",
    "* __If-Expressions__ (`y = 1 if x else 0`) do not create control dependencies, as there are no statements to control. Neither do `if` clauses in comprehensions.\n",
    "* __Asynchronous functions__ (`async`, `await`) are not tested.\n",
    "\n",
    "In these cases, the instrumentation and the underlying dependency tracker may fail to identify control and/or data flows. The semantics of the code, however, should always stay unchanged."
   ]
  },
  {
   "cell_type": "markdown",
   "metadata": {
    "button": false,
    "new_sheet": true,
    "run_control": {
     "read_only": false
    },
    "slideshow": {
     "slide_type": "slide"
    }
   },
   "source": [
    "## Lessons Learned\n",
    "\n",
    "* To track the origin of some incorrect value, follow back its _dependencies_:\n",
    "    * _Data dependencies_ indicate where the value came from.\n",
    "    * _Control dependencies_ show why a statement was executed.\n",
    "* A _slice_ is a subset of the code that could have influenced a specific value. It can be computed by transitively following all dependencies.\n",
    "* _Instrument code_ to automatically determine and visualize dependencies."
   ]
  },
  {
   "cell_type": "markdown",
   "metadata": {
    "button": false,
    "new_sheet": false,
    "run_control": {
     "read_only": false
    },
    "slideshow": {
     "slide_type": "slide"
    }
   },
   "source": [
    "## Next Steps\n",
    "\n",
    "In the [next chapter](StatisticalDebugger.ipynb), we will explore how to make use of _multiple_ passing and failing executions."
   ]
  },
  {
   "cell_type": "markdown",
   "metadata": {
    "slideshow": {
     "slide_type": "slide"
    }
   },
   "source": [
    "## Background\n",
    "\n",
    "Slicing as computing a subset of a program by means of data and control dependencies was invented by Mark Weiser \\cite{Weiser1981}. In his seminal work \"Programmers use Slices when Debugging\", \\cite{Weiser1982}, Weiser demonstrated how such dependencies are crucial for systematic debugging:\n",
    "\n",
    "> When debugging unfamiliar programs programmers use program pieces called _slices_ which are sets of statements related by their flow of data. The statements in a slice are not necessarily textually contiguous, but may be scattered through a program."
   ]
  },
  {
   "attachments": {},
   "cell_type": "markdown",
   "metadata": {
    "slideshow": {
     "slide_type": "subslide"
    }
   },
   "source": [
    "Weiser's slices (and dependencies) were determined _statically_ from program code. Both Korel and Laski \\cite{Korel1988} as well as Agrawal and Horgan \\cite{Agrawal1990} introduced _dynamic_ program slicing, building on _dynamic_ dependencies, which would be more specific to a given (failing) run. (The `Slicer` we implement in this chapter is a dynamic slicer.) Tip \\cite{Tip1995} gives a survey on program slicing techniques. Chen et al. \\cite{Chen2014} describe and evaluate the first dynamic slicer for Python programs (which is independent of our implementation)."
   ]
  },
  {
   "cell_type": "markdown",
   "metadata": {
    "slideshow": {
     "slide_type": "fragment"
    }
   },
   "source": [
    "One exemplary application of program slices is [the Whyline](https://github.com/amyjko/whyline) by Ko and Myers \\cite{Ko2004}. The Whyline is a debugging interface for asking questions about program behavior. It allows querying interactively where a particular variable came from (a data dependency) and why or why not specific things took place (control dependencies)."
   ]
  },
  {
   "cell_type": "markdown",
   "metadata": {
    "slideshow": {
     "slide_type": "subslide"
    }
   },
   "source": [
    "In \\cite{Soremekun2021}, Soremekun et al. evaluated the performance of slicing as a fault localization mechanism and found that following dependencies was one of the most successful strategies to determine fault locations. Notably, if programmers first examine at most the top five most suspicious locations from [statistical debugging](StatisticalDebugger.ipynb), and then switch to dynamic slices, on average, they will need to examine only 15% (12 lines) of the code. "
   ]
  },
  {
   "cell_type": "markdown",
   "metadata": {
    "button": false,
    "new_sheet": true,
    "run_control": {
     "read_only": false
    },
    "slideshow": {
     "slide_type": "slide"
    }
   },
   "source": [
    "## Exercises\n"
   ]
  },
  {
   "cell_type": "markdown",
   "metadata": {
    "slideshow": {
     "slide_type": "subslide"
    }
   },
   "source": [
    "### Exercise 1: Control Slices\n",
    "\n",
    "Augment the `Slicer` class with two keyword arguments, `include` and `exclude`, each taking a list of functions to instrument or not to instrument, respectively. These can be helpful when using \"automatic\" instrumentation."
   ]
  },
  {
   "cell_type": "markdown",
   "metadata": {
    "slideshow": {
     "slide_type": "subslide"
    }
   },
   "source": [
    "### Exercise 2: Incremental Exploration\n",
    "\n",
    "This is more of a programming project than a simple exercise. Rather than showing all dependencies as a whole, as we do, build a system that allows the user to _explore_ dependencies interactively."
   ]
  },
  {
   "attachments": {},
   "cell_type": "markdown",
   "metadata": {
    "button": false,
    "new_sheet": false,
    "run_control": {
     "read_only": false
    },
    "slideshow": {
     "slide_type": "subslide"
    }
   },
   "source": [
    "### Exercise 3: Forward Slicing\n",
    "\n",
    "Extend `Dependencies` with a variant of `backward_slice()` named `forward_slice()` that, instead of computing the dependencies that go _into_ a location, computes the dependencies that go _out_ of a location."
   ]
  },
  {
   "cell_type": "markdown",
   "metadata": {
    "button": false,
    "new_sheet": false,
    "run_control": {
     "read_only": false
    },
    "slideshow": {
     "slide_type": "subslide"
    }
   },
   "source": [
    "### Exercise 4: Code with Forward Dependencies\n",
    "\n",
    "Create a variant of `Dependencies.code()` that, for each statement `s`, instead of showing a \"passive\" view (which variables and locations influenced `s`?), shows an \"active\" view (which variables and locations were influenced by `s`?). For `middle()`, for instance, the first line should show which lines are influenced by `x`, `y`, and `z`, respectively. Use `->` for control flows and `=>` for data flows."
   ]
  },
  {
   "cell_type": "markdown",
   "metadata": {
    "slideshow": {
     "slide_type": "subslide"
    }
   },
   "source": [
    "### Exercise 5: Flow Assertions\n",
    "\n",
    "In line with [Verifying Flows at Runtime](#Verifying-Flows-at-Runtime), above, implement a function `assert_flow(target, source)` that checks at runtime that the data flowing into `target` only comes from the variables named in `source`. "
   ]
  },
  {
   "cell_type": "code",
   "execution_count": 254,
   "metadata": {
    "execution": {
     "iopub.execute_input": "2025-10-26T17:47:28.314712Z",
     "iopub.status.busy": "2025-10-26T17:47:28.314594Z",
     "iopub.status.idle": "2025-10-26T17:47:28.316451Z",
     "shell.execute_reply": "2025-10-26T17:47:28.316210Z"
    },
    "slideshow": {
     "slide_type": "fragment"
    }
   },
   "outputs": [],
   "source": [
    "def assert_flow(target: Any, source: List[Any]) -> bool:\n",
    "    \"\"\"\n",
    "    Raise an `AssertionError` if the dependencies of `target`\n",
    "    are not equal to `source`.\n",
    "    \"\"\"\n",
    "    ...\n",
    "    return True"
   ]
  },
  {
   "cell_type": "markdown",
   "metadata": {
    "slideshow": {
     "slide_type": "fragment"
    }
   },
   "source": [
    "`assert_flow()` would be used in conjunction with `Slicer()` as follows:"
   ]
  },
  {
   "cell_type": "code",
   "execution_count": 255,
   "metadata": {
    "execution": {
     "iopub.execute_input": "2025-10-26T17:47:28.317790Z",
     "iopub.status.busy": "2025-10-26T17:47:28.317697Z",
     "iopub.status.idle": "2025-10-26T17:47:28.319271Z",
     "shell.execute_reply": "2025-10-26T17:47:28.319032Z"
    },
    "slideshow": {
     "slide_type": "subslide"
    }
   },
   "outputs": [],
   "source": [
    "def demo4() -> int:\n",
    "    x = 25\n",
    "    y = 26\n",
    "    assert_flow(y, [x])  # ensures that `y` depends on `x` only\n",
    "    return y"
   ]
  },
  {
   "cell_type": "code",
   "execution_count": 256,
   "metadata": {
    "execution": {
     "iopub.execute_input": "2025-10-26T17:47:28.320435Z",
     "iopub.status.busy": "2025-10-26T17:47:28.320336Z",
     "iopub.status.idle": "2025-10-26T17:47:28.325931Z",
     "shell.execute_reply": "2025-10-26T17:47:28.325687Z"
    },
    "slideshow": {
     "slide_type": "subslide"
    }
   },
   "outputs": [
    {
     "name": "stderr",
     "output_type": "stream",
     "text": [
      "/var/folders/n2/xd9445p97rb3xh7m1dfx8_4h0006ts/T/ipykernel_51412/2498757139.py:9: DeprecationWarning: ast.Num is deprecated and will be removed in Python 3.14; use ast.Constant instead\n",
      "  keywords.append(keyword(arg='pos', value=ast.Num(pos)))\n",
      "/var/folders/n2/xd9445p97rb3xh7m1dfx8_4h0006ts/T/ipykernel_51412/2454789564.py:22: DeprecationWarning: ast.Str is deprecated and will be removed in Python 3.14; use ast.Constant instead\n",
      "  args=[ast.Str(id), value],\n",
      "/var/folders/n2/xd9445p97rb3xh7m1dfx8_4h0006ts/T/ipykernel_51412/3554319793.py:4: DeprecationWarning: ast.Str is deprecated and will be removed in Python 3.14; use ast.Constant instead\n",
      "  args=[ast.Str(id), Name(id=id, ctx=Load())],\n",
      "/var/folders/n2/xd9445p97rb3xh7m1dfx8_4h0006ts/T/ipykernel_51412/882995308.py:12: DeprecationWarning: ast.Num is deprecated and will be removed in Python 3.14; use ast.Constant instead\n",
      "  keywords=[keyword(arg='pos', value=ast.Num(n + 1))]\n",
      "/var/folders/n2/xd9445p97rb3xh7m1dfx8_4h0006ts/T/ipykernel_51412/882995308.py:25: DeprecationWarning: ast.Str is deprecated and will be removed in Python 3.14; use ast.Constant instead\n",
      "  args=[ast.Str(child.arg),\n",
      "/var/folders/n2/xd9445p97rb3xh7m1dfx8_4h0006ts/T/ipykernel_51412/882995308.py:19: DeprecationWarning: ast.NameConstant is deprecated and will be removed in Python 3.14; use ast.Constant instead\n",
      "  value=ast.NameConstant(value=True)))\n"
     ]
    }
   ],
   "source": [
    "with Slicer() as slicer:\n",
    "    demo4()"
   ]
  },
  {
   "cell_type": "markdown",
   "metadata": {
    "slideshow": {
     "slide_type": "subslide"
    }
   },
   "source": [
    "To check dependencies, have `assert_flow()` check the contents of the `_data` dependency collector as set up by the slicer."
   ]
  },
  {
   "cell_type": "markdown",
   "metadata": {
    "slideshow": {
     "slide_type": "subslide"
    }
   },
   "source": [
    "### Exercise 6: Checked Coverage\n",
    "\n",
    "Implement checked coverage, as sketched in [Assessing Test Quality](#Assessing-Test-Quality) above. For every `assert` statement encountered during a run, produce the number of statements it depends upon."
   ]
  }
 ],
 "metadata": {
  "ipub": {
   "bibliography": "fuzzingbook.bib",
   "toc": true
  },
  "kernelspec": {
   "display_name": "venv",
   "language": "python",
   "name": "python3"
  },
  "language_info": {
   "codemirror_mode": {
    "name": "ipython",
    "version": 3
   },
   "file_extension": ".py",
   "mimetype": "text/x-python",
   "name": "python",
   "nbconvert_exporter": "python",
   "pygments_lexer": "ipython3",
   "version": "3.13.4"
  },
  "toc": {
   "base_numbering": 1,
   "nav_menu": {},
   "number_sections": true,
   "sideBar": true,
   "skip_h1_title": true,
   "title_cell": "",
   "title_sidebar": "Contents",
   "toc_cell": false,
   "toc_position": {},
   "toc_section_display": true,
   "toc_window_display": true
  },
  "toc-autonumbering": false,
  "vscode": {
   "interpreter": {
    "hash": "0af4f07dd039d1b4e562c7a7d0340393b1c66f50605ac6af30beb81aa23b7ef5"
   }
  }
 },
 "nbformat": 4,
 "nbformat_minor": 4
}