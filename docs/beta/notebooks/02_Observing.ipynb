{
 "cells": [
  {
   "cell_type": "markdown",
   "metadata": {
    "button": false,
    "new_sheet": false,
    "run_control": {
     "read_only": false
    },
    "slideshow": {
     "slide_type": "slide"
    }
   },
   "source": [
    "# Part II: Observing Executions\n",
    "\n",
    "In this part, we show how to observe executions – by tracing, by interactively debugging, and more.\n",
    "\n",
    "* [Tracing Executions](Tracer.ipynb) presents a number of ways to observe executions by logging locations and program states – and by narrowing these down to specific conditions and events.\n",
    "\n",
    "* [How Debuggers Work](Debugger.ipynb) shows how to build an interactive debugger, allowing you to explore program executions at will.\n",
    "\n",
    "* In [Asserting Expectations](Assertions.ipynb), we show how to have the computer check for errors at runtime – including pesky memory errors in C and similar languages.\n",
    "\n",
    "* [Debugging Performance Issues](PerformanceDebugger.ipynb) shows how to detect which parts of a program require most resources."
   ]
  }
 ],
 "metadata": {
  "ipub": {
   "bibliography": "fuzzingbook.bib",
   "toc": true
  },
  "kernelspec": {
   "display_name": "Python 3",
   "language": "python",
   "name": "python3"
  },
  "language_info": {
   "codemirror_mode": {
    "name": "ipython",
    "version": 3
   },
   "file_extension": ".py",
   "mimetype": "text/x-python",
   "name": "python",
   "nbconvert_exporter": "python",
   "pygments_lexer": "ipython3",
   "version": "3.13.4"
  },
  "toc": {
   "base_numbering": 1,
   "nav_menu": {},
   "number_sections": true,
   "sideBar": true,
   "skip_h1_title": true,
   "title_cell": "",
   "title_sidebar": "Contents",
   "toc_cell": false,
   "toc_position": {},
   "toc_section_display": true,
   "toc_window_display": true
  },
  "toc-autonumbering": false
 },
 "nbformat": 4,
 "nbformat_minor": 4
}
