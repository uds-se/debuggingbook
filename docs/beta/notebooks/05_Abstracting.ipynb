{
 "cells": [
  {
   "cell_type": "markdown",
   "metadata": {
    "button": false,
    "new_sheet": false,
    "run_control": {
     "read_only": false
    },
    "slideshow": {
     "slide_type": "slide"
    }
   },
   "source": [
    "# Part V: Abstracting Failures\n",
    "\n",
    "In this part, we show how to determine abstract failure conditions.\n",
    "\n",
    "* [Statistical Debugging](StatisticalDebugger.ipynb) is a technique to determine events during execution that _correlate with failure_ – for instance, the coverage of individual code locations.\n",
    "\n",
    "* [Mining Function Specifications](DynamicInvariants.ipynb) shows how to learn preconditions and postconditions from given executions.\n",
    "\n",
    "* In [Generalizing Failure Circumstances](DDSetDebugger.ipynb), we discuss how to automatically determine the (input) conditions under which the failure occurs."
   ]
  }
 ],
 "metadata": {
  "ipub": {
   "bibliography": "fuzzingbook.bib",
   "toc": true
  },
  "kernelspec": {
   "display_name": "Python 3",
   "language": "python",
   "name": "python3"
  },
  "language_info": {
   "codemirror_mode": {
    "name": "ipython",
    "version": 3
   },
   "file_extension": ".py",
   "mimetype": "text/x-python",
   "name": "python",
   "nbconvert_exporter": "python",
   "pygments_lexer": "ipython3",
   "version": "3.13.4"
  },
  "toc": {
   "base_numbering": 1,
   "nav_menu": {},
   "number_sections": true,
   "sideBar": true,
   "skip_h1_title": true,
   "title_cell": "",
   "title_sidebar": "Contents",
   "toc_cell": false,
   "toc_position": {},
   "toc_section_display": true,
   "toc_window_display": true
  },
  "toc-autonumbering": false
 },
 "nbformat": 4,
 "nbformat_minor": 4
}
