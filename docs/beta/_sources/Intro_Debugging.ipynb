{
 "cells": [
  {
   "cell_type": "markdown",
   "metadata": {
    "button": false,
    "new_sheet": false,
    "run_control": {
     "read_only": false
    },
    "slideshow": {
     "slide_type": "slide"
    }
   },
   "source": [
    "# Introduction to Debugging\n",
    "\n",
    "In this book, we want to explore _debugging_ - the art and science of fixing bugs in computer software. In particular, we want to explore techniques that _automatically_ answer questions like: Where is the bug? When does it occur? And how can we repair it? But before we start automating the debugging process, we first need to understand what this process is.\n",
    "\n",
    "In this chapter, we introduce basic concepts of systematic software debugging and the debugging process, and at the same time get acquainted with Python and interactive notebooks."
   ]
  },
  {
   "cell_type": "code",
   "execution_count": 1,
   "metadata": {
    "execution": {
     "iopub.execute_input": "2025-10-26T17:46:25.009155Z",
     "iopub.status.busy": "2025-10-26T17:46:25.009045Z",
     "iopub.status.idle": "2025-10-26T17:46:25.698289Z",
     "shell.execute_reply": "2025-10-26T17:46:25.697930Z"
    },
    "slideshow": {
     "slide_type": "skip"
    }
   },
   "outputs": [
    {
     "data": {
      "text/html": [
       "\n",
       "        <iframe\n",
       "            width=\"640\"\n",
       "            height=\"360\"\n",
       "            src=\"https://www.youtube-nocookie.com/embed/bCHRCehDOq0\"\n",
       "            frameborder=\"0\"\n",
       "            allowfullscreen\n",
       "            \n",
       "        ></iframe>\n",
       "        "
      ],
      "text/plain": [
       "<IPython.lib.display.IFrame at 0x10b8baf90>"
      ]
     },
     "execution_count": 1,
     "metadata": {},
     "output_type": "execute_result"
    }
   ],
   "source": [
    "from bookutils import YouTubeVideo, quiz\n",
    "YouTubeVideo(\"bCHRCehDOq0\")"
   ]
  },
  {
   "cell_type": "markdown",
   "metadata": {
    "button": false,
    "new_sheet": false,
    "run_control": {
     "read_only": false
    },
    "slideshow": {
     "slide_type": "subslide"
    }
   },
   "source": [
    "**Prerequisites**\n",
    "\n",
    "* The book is meant to be a standalone reference; however, a number of _great books on debugging_ are listed at the end,\n",
    "* Knowing a bit of _Python_ is helpful for understanding the code examples in the book."
   ]
  },
  {
   "cell_type": "markdown",
   "metadata": {
    "slideshow": {
     "slide_type": "slide"
    }
   },
   "source": [
    "## Synopsis\n",
    "To [use the code provided in this chapter](Importing.ipynb), write\n",
    "\n",
    "```python\n",
    ">>> from debuggingbook.Intro_Debugging import <identifier>\n",
    "```\n",
    "\n",
    "and then make use of the following features.\n",
    "\n",
    "**Note**: The examples in this section only work after the rest of the cells have been executed.\n"
   ]
  },
  {
   "cell_type": "markdown",
   "metadata": {
    "slideshow": {
     "slide_type": "fragment"
    }
   },
   "source": [
    "In this chapter, we introduce some basics of how failures come to be as well as a general process for debugging."
   ]
  },
  {
   "cell_type": "markdown",
   "metadata": {
    "button": false,
    "new_sheet": true,
    "run_control": {
     "read_only": false
    },
    "slideshow": {
     "slide_type": "slide"
    }
   },
   "source": [
    "## A Simple Function"
   ]
  },
  {
   "cell_type": "code",
   "execution_count": 2,
   "metadata": {
    "execution": {
     "iopub.execute_input": "2025-10-26T17:46:25.718774Z",
     "iopub.status.busy": "2025-10-26T17:46:25.718616Z",
     "iopub.status.idle": "2025-10-26T17:46:25.720909Z",
     "shell.execute_reply": "2025-10-26T17:46:25.720619Z"
    },
    "slideshow": {
     "slide_type": "subslide"
    },
    "tags": [
     "remove-input"
    ]
   },
   "outputs": [],
   "source": [
    "# ignore\n",
    "\n",
    "# If this is the first time you are opening a notebook, please read this.\n",
    "#\n",
    "# Interaction basics\n",
    "# ------------------\n",
    "#\n",
    "# * The notebook is composed of _code cells_ (like this one) and\n",
    "#   _text cells_ (like the one above).\n",
    "# \n",
    "# * To interact with the notebook, click into a cell (or type `Return`) \n",
    "#   and start editing. Type `Shift+Return` to execute the code, or \n",
    "#   `Esc` to leave without executing it.\n",
    "# \n",
    "# * Since code cells depend on earlier cells, you will have to execute\n",
    "#   those first - beginning from the top of the notebook.\n",
    "# \n",
    "# * You can change code (and text) at your leisure to try out alternatives.\n",
    "#   In Jupyter, use `b` to add a new cell below, and `Return` to enter it.\n",
    "#   Type `x` to delete (cut) a cell, and `z` to undo this.\n",
    "# \n",
    "# * There's a `Help` menu at the top of Jupyter Notebook. Enjoy!\n",
    "#\n",
    "#\n",
    "# `# ignore` markers\n",
    "# ------------------\n",
    "#\n",
    "# * In the notebook, there are some extra code cells starting with `# ignore`\n",
    "#   (like this one, actually). These are code blocks used to create diagrams,\n",
    "#   run tests, create or tear down special environments or more - code blocks\n",
    "#   that are not necessary for reading (but for creation).\n",
    "#\n",
    "#\n",
    "# `# type: ignore` markers\n",
    "# ------------------------\n",
    "#\n",
    "# * In the notebook, some lines come with a comment `# type: ignore`. This tells\n",
    "#   static code checkers to ignore any typing errors in that line. Most frequently,\n",
    "#   this is used to mark untyped Python code (as in our examples) such that the\n",
    "#   static code checker does not mark it as erroneous."
   ]
  },
  {
   "cell_type": "markdown",
   "metadata": {
    "button": false,
    "new_sheet": true,
    "run_control": {
     "read_only": false
    },
    "slideshow": {
     "slide_type": "subslide"
    }
   },
   "source": [
    "### Your Task: Remove HTML Markup\n",
    "\n",
    "Let us start with a simple example. You may have heard of how documents on the Web are made out of text and HTML markup. HTML markup consists of _tags_ in angle brackets that surround the text, providing additional information on how the text should be interpreted. For instance, in the HTML text\n",
    "\n",
    "```html\n",
    "This is <em>emphasized</em>.\n",
    "```\n",
    "\n",
    "the word \"emphasized\" is enclosed in the HTML tags `<em>` (start) and `</em>` (end), meaning that it should be interpreted (and rendered) in an emphasized way – typically in italics. In your environment, the HTML text gets rendered as\n",
    "\n",
    "> This is <em>emphasized</em>.\n",
    "\n",
    "There's HTML tags for pretty much everything – text markup (<strong>bold</strong> text, <s>strikethrough</s> text), text structure (titles, lists), references (links) to other documents, and many more. These HTML tags shape the Web as we know it."
   ]
  },
  {
   "cell_type": "markdown",
   "metadata": {
    "slideshow": {
     "slide_type": "subslide"
    }
   },
   "source": [
    "However, with all the HTML markup, it may become difficult to actually access the _text_ that lies within. We'd like to implement a simple function that removes _HTML markup_ and converts it into text. If our input is\n",
    "\n",
    "```html\n",
    "Here's some <strong>strong argument</strong>.\n",
    "```\n",
    "the output should be\n",
    "\n",
    "> Here's some strong argument."
   ]
  },
  {
   "cell_type": "markdown",
   "metadata": {
    "slideshow": {
     "slide_type": "fragment"
    }
   },
   "source": [
    "Here's a Python function which does exactly this. It takes a (HTML) string and returns the text without markup."
   ]
  },
  {
   "cell_type": "code",
   "execution_count": 3,
   "metadata": {
    "execution": {
     "iopub.execute_input": "2025-10-26T17:46:25.722375Z",
     "iopub.status.busy": "2025-10-26T17:46:25.722268Z",
     "iopub.status.idle": "2025-10-26T17:46:25.724434Z",
     "shell.execute_reply": "2025-10-26T17:46:25.723965Z"
    },
    "slideshow": {
     "slide_type": "subslide"
    }
   },
   "outputs": [],
   "source": [
    "def remove_html_markup(s):  # type: ignore\n",
    "    tag = False\n",
    "    out = \"\"\n",
    "\n",
    "    for c in s:\n",
    "        if c == '<':    # start of markup\n",
    "            tag = True\n",
    "        elif c == '>':  # end of markup\n",
    "            tag = False\n",
    "        elif not tag:\n",
    "            out = out + c\n",
    "\n",
    "    return out"
   ]
  },
  {
   "cell_type": "markdown",
   "metadata": {
    "slideshow": {
     "slide_type": "fragment"
    }
   },
   "source": [
    "This function works, but not always. Before we start debugging things, let us first explore its code and how it works."
   ]
  },
  {
   "attachments": {},
   "cell_type": "markdown",
   "metadata": {
    "slideshow": {
     "slide_type": "subslide"
    }
   },
   "source": [
    "### Understanding Python Programs\n",
    "\n",
    "If you're new to Python, you might first have to understand what the above code does.  We very much recommend the [Python tutorial](https://docs.python.org/3/tutorial/) to get an idea on how Python works.  The most important things for you to understand the above code are these three:\n",
    "\n",
    "1. Python structures programs through _indentation_, so the function and `for` bodies are defined by being indented.\n",
    "2. Python is _dynamically typed_, meaning that the type of variables like `c`, `tag`, or `out` is determined at run-time.\n",
    "3. Most of Python's syntactic features are inspired by other common languages, such as control structures (`while`, `if`, `for`), assignments (`=`), or comparisons (`==`, `!=`, `<`).\n",
    "\n",
    "With that, you can already understand what the above code does: `remove_html_markup()` takes a (HTML) string `s` and then iterates over the individual characters (`for c in s`). By default, these characters are added to the return string `out`. However, if `remove_html_markup()` finds a `<` character, it sets the `tag` flag, meaning that all further characters are ignored until a `>` character is found.\n",
    "\n",
    "In contrast to other languages, Python makes no difference between strings and characters – there are only strings. As in HTML, strings can be enclosed in single quotes (`'a'`) and in double quotes (`\"a\"`). This is useful if you want to specify a string that contains quotes, as in `'She said \"hello\", and then left'` or `\"The first character is a 'c'\"`"
   ]
  },
  {
   "cell_type": "markdown",
   "metadata": {
    "slideshow": {
     "slide_type": "subslide"
    }
   },
   "source": [
    "### Running a Function\n",
    "\n",
    "To find out whether `remove_html_markup()` works correctly, we can *test* it with a few values.  For the string\n",
    "\n",
    "```html\n",
    "Here's some <strong>strong argument</strong>.\n",
    "```\n",
    "\n",
    "for instance, it produces the correct value:"
   ]
  },
  {
   "cell_type": "code",
   "execution_count": 4,
   "metadata": {
    "execution": {
     "iopub.execute_input": "2025-10-26T17:46:25.726017Z",
     "iopub.status.busy": "2025-10-26T17:46:25.725896Z",
     "iopub.status.idle": "2025-10-26T17:46:25.728251Z",
     "shell.execute_reply": "2025-10-26T17:46:25.727882Z"
    },
    "slideshow": {
     "slide_type": "fragment"
    }
   },
   "outputs": [
    {
     "data": {
      "text/plain": [
       "\"Here's some strong argument.\""
      ]
     },
     "execution_count": 4,
     "metadata": {},
     "output_type": "execute_result"
    }
   ],
   "source": [
    "remove_html_markup(\"Here's some <strong>strong argument</strong>.\")"
   ]
  },
  {
   "cell_type": "markdown",
   "metadata": {
    "slideshow": {
     "slide_type": "subslide"
    }
   },
   "source": [
    "### Interacting with Notebooks\n",
    "\n",
    "If you are reading this in the interactive notebook, you can try out `remove_html_markup()` with other values as well.  Click on the above cells with the invocation of `remove_html_markup()` and change the value – say, to `remove_html_markup(\"<em>foo</em>\")`.  Press <kbd>Shift</kbd>+<kbd>Enter</kbd> (or click on the play symbol) to execute it and see the result.  If you get an error message, go to the above cell with the definition of `remove_html_markup()` and execute this first.  You can also run _all_ cells at once; see the Notebook menu for details.  (You can actually also change the text by clicking on it, and corect mistaks such as in this sentence.)"
   ]
  },
  {
   "cell_type": "markdown",
   "metadata": {
    "slideshow": {
     "slide_type": "subslide"
    }
   },
   "source": [
    "Executing a single cell does not execute other cells, so if your cell builds on a definition in another cell that you have not executed yet, you will get an error.  You can select `Run all cells above` from the menu to ensure all definitions are set."
   ]
  },
  {
   "cell_type": "markdown",
   "metadata": {
    "slideshow": {
     "slide_type": "fragment"
    }
   },
   "source": [
    "Also keep in mind that, unless overwritten, all definitions are kept across executions.  Occasionally, it thus helps to _restart the kernel_ (i.e. start the Python interpreter from scratch) to get rid of older, superfluous definitions."
   ]
  },
  {
   "cell_type": "markdown",
   "metadata": {
    "slideshow": {
     "slide_type": "subslide"
    }
   },
   "source": [
    "### Testing a Function"
   ]
  },
  {
   "cell_type": "markdown",
   "metadata": {
    "slideshow": {
     "slide_type": "fragment"
    }
   },
   "source": [
    "Since one can change not only invocations, but also definitions, we want to ensure that our function works properly now and in the future. To this end, we introduce tests through _assertions_ – a statement that fails if the given _check_ is false. The following assertion, for instance, checks that the above call to `remove_html_markup()` returns the correct value:"
   ]
  },
  {
   "cell_type": "code",
   "execution_count": 5,
   "metadata": {
    "execution": {
     "iopub.execute_input": "2025-10-26T17:46:25.730266Z",
     "iopub.status.busy": "2025-10-26T17:46:25.730146Z",
     "iopub.status.idle": "2025-10-26T17:46:25.731927Z",
     "shell.execute_reply": "2025-10-26T17:46:25.731530Z"
    },
    "slideshow": {
     "slide_type": "fragment"
    }
   },
   "outputs": [],
   "source": [
    "assert remove_html_markup(\"Here's some <strong>strong argument</strong>.\") == \\\n",
    "    \"Here's some strong argument.\""
   ]
  },
  {
   "cell_type": "markdown",
   "metadata": {
    "slideshow": {
     "slide_type": "fragment"
    }
   },
   "source": [
    "If you change the code of `remove_html_markup()` such that the above assertion fails, you will have introduced a bug."
   ]
  },
  {
   "cell_type": "markdown",
   "metadata": {
    "slideshow": {
     "slide_type": "slide"
    }
   },
   "source": [
    "## Oops! A Bug!"
   ]
  },
  {
   "cell_type": "markdown",
   "metadata": {
    "slideshow": {
     "slide_type": "subslide"
    }
   },
   "source": [
    "As nice and simple as `remove_html_markup()` is, it is buggy. Some HTML markup is not properly stripped away. Consider this HTML tag:\n",
    "\n",
    "```html\n",
    "<input type=\"text\" value=\"<your name>\">\n",
    "```\n",
    "\n",
    "This would render as an input field in a form:\n",
    "\n",
    "> <input type=\"text\" value=\"<your name>\">\n",
    "\n",
    "If we feed this string into `remove_html_markup()`, we would expect an empty string as the result. Instead, this is what we get:"
   ]
  },
  {
   "cell_type": "code",
   "execution_count": 6,
   "metadata": {
    "execution": {
     "iopub.execute_input": "2025-10-26T17:46:25.733602Z",
     "iopub.status.busy": "2025-10-26T17:46:25.733488Z",
     "iopub.status.idle": "2025-10-26T17:46:25.735479Z",
     "shell.execute_reply": "2025-10-26T17:46:25.735247Z"
    },
    "slideshow": {
     "slide_type": "subslide"
    }
   },
   "outputs": [
    {
     "data": {
      "text/plain": [
       "'\"'"
      ]
     },
     "execution_count": 6,
     "metadata": {},
     "output_type": "execute_result"
    }
   ],
   "source": [
    "remove_html_markup('<input type=\"text\" value=\"<your name>\">')"
   ]
  },
  {
   "cell_type": "markdown",
   "metadata": {
    "slideshow": {
     "slide_type": "fragment"
    }
   },
   "source": [
    "Every time we encounter a bug, this means that our earlier tests have failed. We thus need to introduce another test that documents not only how the bug came to be, but also the result we actually expected."
   ]
  },
  {
   "cell_type": "markdown",
   "metadata": {
    "slideshow": {
     "slide_type": "fragment"
    }
   },
   "source": [
    "The assertion we write now fails with an error message. (The `ExpectError` magic ensures we see the error message, but the rest of the notebook is still executed.)"
   ]
  },
  {
   "cell_type": "code",
   "execution_count": 7,
   "metadata": {
    "execution": {
     "iopub.execute_input": "2025-10-26T17:46:25.737052Z",
     "iopub.status.busy": "2025-10-26T17:46:25.736935Z",
     "iopub.status.idle": "2025-10-26T17:46:25.763839Z",
     "shell.execute_reply": "2025-10-26T17:46:25.763504Z"
    },
    "slideshow": {
     "slide_type": "skip"
    }
   },
   "outputs": [],
   "source": [
    "from ExpectError import ExpectError"
   ]
  },
  {
   "cell_type": "code",
   "execution_count": 8,
   "metadata": {
    "execution": {
     "iopub.execute_input": "2025-10-26T17:46:25.765470Z",
     "iopub.status.busy": "2025-10-26T17:46:25.765369Z",
     "iopub.status.idle": "2025-10-26T17:46:25.767531Z",
     "shell.execute_reply": "2025-10-26T17:46:25.767244Z"
    },
    "slideshow": {
     "slide_type": "subslide"
    }
   },
   "outputs": [
    {
     "name": "stderr",
     "output_type": "stream",
     "text": [
      "Traceback (most recent call last):\n",
      "  File \"/var/folders/n2/xd9445p97rb3xh7m1dfx8_4h0006ts/T/ipykernel_50153/145241764.py\", line 2, in <module>\n",
      "    assert remove_html_markup('<input type=\"text\" value=\"<your name>\">') == \"\"\n",
      "           ^^^^^^^^^^^^^^^^^^^^^^^^^^^^^^^^^^^^^^^^^^^^^^^^^^^^^^^^^^^^^^^^^^^\n",
      "AssertionError (expected)\n"
     ]
    }
   ],
   "source": [
    "with ExpectError():\n",
    "    assert remove_html_markup('<input type=\"text\" value=\"<your name>\">') == \"\""
   ]
  },
  {
   "cell_type": "markdown",
   "metadata": {
    "slideshow": {
     "slide_type": "fragment"
    }
   },
   "source": [
    "With this, we now have our task: _Fix the failure as above._"
   ]
  },
  {
   "cell_type": "markdown",
   "metadata": {
    "slideshow": {
     "slide_type": "slide"
    }
   },
   "source": [
    "## Visualizing Code\n",
    "\n",
    "To properly understand what is going on here, it helps drawing a diagram on how `remove_html_markup()` works. Technically, `remove_html_markup()` implements a _state machine_ with two states `tag` and `¬ tag`. We change between these states depending on the characters we process. This is visualized in the following diagram:"
   ]
  },
  {
   "cell_type": "code",
   "execution_count": 9,
   "metadata": {
    "execution": {
     "iopub.execute_input": "2025-10-26T17:46:25.769109Z",
     "iopub.status.busy": "2025-10-26T17:46:25.768999Z",
     "iopub.status.idle": "2025-10-26T17:46:25.779772Z",
     "shell.execute_reply": "2025-10-26T17:46:25.779449Z"
    },
    "ipub": {
     "ignore": true
    },
    "slideshow": {
     "slide_type": "skip"
    }
   },
   "outputs": [],
   "source": [
    "from graphviz import Digraph, nohtml"
   ]
  },
  {
   "cell_type": "code",
   "execution_count": 10,
   "metadata": {
    "execution": {
     "iopub.execute_input": "2025-10-26T17:46:25.781267Z",
     "iopub.status.busy": "2025-10-26T17:46:25.781167Z",
     "iopub.status.idle": "2025-10-26T17:46:25.782838Z",
     "shell.execute_reply": "2025-10-26T17:46:25.782536Z"
    },
    "ipub": {
     "ignore": true
    },
    "slideshow": {
     "slide_type": "skip"
    }
   },
   "outputs": [],
   "source": [
    "from IPython.display import display"
   ]
  },
  {
   "cell_type": "code",
   "execution_count": 11,
   "metadata": {
    "execution": {
     "iopub.execute_input": "2025-10-26T17:46:25.784393Z",
     "iopub.status.busy": "2025-10-26T17:46:25.784282Z",
     "iopub.status.idle": "2025-10-26T17:46:25.786100Z",
     "shell.execute_reply": "2025-10-26T17:46:25.785817Z"
    },
    "ipub": {
     "ignore": true
    },
    "slideshow": {
     "slide_type": "subslide"
    },
    "tags": [
     "remove-input"
    ]
   },
   "outputs": [],
   "source": [
    "# ignore\n",
    "PASS = \"✔\"\n",
    "FAIL = \"✘\"\n",
    "\n",
    "PASS_COLOR = 'darkgreen'  # '#006400' # darkgreen\n",
    "FAIL_COLOR = 'red4'  # '#8B0000' # darkred\n",
    "\n",
    "STEP_COLOR = 'peachpuff'\n",
    "FONT_NAME = 'Raleway'"
   ]
  },
  {
   "cell_type": "code",
   "execution_count": 12,
   "metadata": {
    "execution": {
     "iopub.execute_input": "2025-10-26T17:46:25.787304Z",
     "iopub.status.busy": "2025-10-26T17:46:25.787203Z",
     "iopub.status.idle": "2025-10-26T17:46:25.789135Z",
     "shell.execute_reply": "2025-10-26T17:46:25.788864Z"
    },
    "ipub": {
     "ignore": true
    },
    "slideshow": {
     "slide_type": "subslide"
    },
    "tags": [
     "remove-input"
    ]
   },
   "outputs": [],
   "source": [
    "# ignore\n",
    "def graph(comment: str =\"default\") -> Digraph:\n",
    "    return Digraph(name='', comment=comment, graph_attr={'rankdir': 'LR'},\n",
    "        node_attr={'style': 'filled',\n",
    "                   'fillcolor': STEP_COLOR,\n",
    "                   'fontname': FONT_NAME},\n",
    "        edge_attr={'fontname': FONT_NAME})"
   ]
  },
  {
   "cell_type": "code",
   "execution_count": 13,
   "metadata": {
    "execution": {
     "iopub.execute_input": "2025-10-26T17:46:25.790442Z",
     "iopub.status.busy": "2025-10-26T17:46:25.790350Z",
     "iopub.status.idle": "2025-10-26T17:46:25.792650Z",
     "shell.execute_reply": "2025-10-26T17:46:25.792324Z"
    },
    "ipub": {
     "ignore": true
    },
    "slideshow": {
     "slide_type": "subslide"
    },
    "tags": [
     "remove-input"
    ]
   },
   "outputs": [],
   "source": [
    "# ignore\n",
    "state_machine = graph()\n",
    "state_machine.node('Start', )\n",
    "state_machine.edge('Start', '¬ tag')\n",
    "state_machine.edge('¬ tag', '¬ tag', label=\" ¬ '<'\\\\nadd character\")\n",
    "state_machine.edge('¬ tag:s', '¬ tag', label=\"'>'\")\n",
    "state_machine.edge('¬ tag', 'tag', label=\"'<'\")\n",
    "state_machine.edge('tag', '¬ tag', label=\"'>'\")\n",
    "state_machine.edge('tag', 'tag', label=\"¬ '>'\")"
   ]
  },
  {
   "cell_type": "code",
   "execution_count": 14,
   "metadata": {
    "execution": {
     "iopub.execute_input": "2025-10-26T17:46:25.794044Z",
     "iopub.status.busy": "2025-10-26T17:46:25.793944Z",
     "iopub.status.idle": "2025-10-26T17:46:26.205176Z",
     "shell.execute_reply": "2025-10-26T17:46:26.204864Z"
    },
    "slideshow": {
     "slide_type": "fragment"
    },
    "tags": [
     "remove-input"
    ]
   },
   "outputs": [
    {
     "data": {
      "image/svg+xml": [
       "<?xml version=\"1.0\" encoding=\"UTF-8\" standalone=\"no\"?>\n",
       "<!DOCTYPE svg PUBLIC \"-//W3C//DTD SVG 1.1//EN\"\n",
       " \"http://www.w3.org/Graphics/SVG/1.1/DTD/svg11.dtd\">\n",
       "<!-- Generated by graphviz version 14.0.2 (20251019.1705)\n",
       " -->\n",
       "<!-- Pages: 1 -->\n",
       "<svg width=\"281pt\" height=\"132pt\"\n",
       " viewBox=\"0.00 0.00 281.00 132.00\" xmlns=\"http://www.w3.org/2000/svg\" xmlns:xlink=\"http://www.w3.org/1999/xlink\">\n",
       "<g id=\"graph0\" class=\"graph\" transform=\"scale(1 1) rotate(0) translate(4 127.75)\">\n",
       "<polygon fill=\"white\" stroke=\"none\" points=\"-4,4 -4,-127.75 277.03,-127.75 277.03,4 -4,4\"/>\n",
       "<!-- Start -->\n",
       "<g id=\"node1\" class=\"node\">\n",
       "<title>Start</title>\n",
       "<ellipse fill=\"peachpuff\" stroke=\"black\" cx=\"32.27\" cy=\"-53.25\" rx=\"32.27\" ry=\"18\"/>\n",
       "<text xml:space=\"preserve\" text-anchor=\"middle\" x=\"32.27\" y=\"-48.58\" font-family=\"Raleway\" font-size=\"14.00\">Start</text>\n",
       "</g>\n",
       "<!-- ¬ tag -->\n",
       "<g id=\"node2\" class=\"node\">\n",
       "<title>¬ tag</title>\n",
       "<ellipse fill=\"peachpuff\" stroke=\"black\" cx=\"135.91\" cy=\"-53.25\" rx=\"34.37\" ry=\"18\"/>\n",
       "<text xml:space=\"preserve\" text-anchor=\"middle\" x=\"135.91\" y=\"-48.58\" font-family=\"Raleway\" font-size=\"14.00\">¬ tag</text>\n",
       "</g>\n",
       "<!-- Start&#45;&gt;¬ tag -->\n",
       "<g id=\"edge1\" class=\"edge\">\n",
       "<title>Start&#45;&gt;¬ tag</title>\n",
       "<path fill=\"none\" stroke=\"black\" d=\"M64.87,-53.25C72.8,-53.25 81.47,-53.25 89.92,-53.25\"/>\n",
       "<polygon fill=\"black\" stroke=\"black\" points=\"89.7,-56.75 99.7,-53.25 89.7,-49.75 89.7,-56.75\"/>\n",
       "</g>\n",
       "<!-- ¬ tag&#45;&gt;¬ tag -->\n",
       "<g id=\"edge2\" class=\"edge\">\n",
       "<title>¬ tag&#45;&gt;¬ tag</title>\n",
       "<path fill=\"none\" stroke=\"black\" d=\"M126.4,-71.03C124.79,-80.56 127.96,-89.25 135.91,-89.25 140.38,-89.25 143.34,-86.5 144.79,-82.4\"/>\n",
       "<polygon fill=\"black\" stroke=\"black\" points=\"148.27,-82.72 145.33,-72.54 141.28,-82.34 148.27,-82.72\"/>\n",
       "<text xml:space=\"preserve\" text-anchor=\"middle\" x=\"135.91\" y=\"-110.45\" font-family=\"Raleway\" font-size=\"14.00\"> ¬ &#39;&lt;&#39;</text>\n",
       "<text xml:space=\"preserve\" text-anchor=\"middle\" x=\"135.91\" y=\"-93.2\" font-family=\"Raleway\" font-size=\"14.00\">add character</text>\n",
       "</g>\n",
       "<!-- ¬ tag&#45;&gt;¬ tag -->\n",
       "<g id=\"edge3\" class=\"edge\">\n",
       "<title>¬ tag:s&#45;&gt;¬ tag</title>\n",
       "<path fill=\"none\" stroke=\"black\" d=\"M135.91,-34.99C122.69,-29.25 122.69,-17.25 135.91,-17.25 140.38,-17.25 143.34,-20 144.79,-24.1\"/>\n",
       "<polygon fill=\"black\" stroke=\"black\" points=\"141.28,-24.16 145.33,-33.96 148.27,-23.78 141.28,-24.16\"/>\n",
       "<text xml:space=\"preserve\" text-anchor=\"middle\" x=\"135.91\" y=\"-3.95\" font-family=\"Raleway\" font-size=\"14.00\">&#39;&gt;&#39;</text>\n",
       "</g>\n",
       "<!-- tag -->\n",
       "<g id=\"node3\" class=\"node\">\n",
       "<title>tag</title>\n",
       "<ellipse fill=\"peachpuff\" stroke=\"black\" cx=\"246.03\" cy=\"-53.25\" rx=\"27\" ry=\"18\"/>\n",
       "<text xml:space=\"preserve\" text-anchor=\"middle\" x=\"246.03\" y=\"-48.58\" font-family=\"Raleway\" font-size=\"14.00\">tag</text>\n",
       "</g>\n",
       "<!-- ¬ tag&#45;&gt;tag -->\n",
       "<g id=\"edge4\" class=\"edge\">\n",
       "<title>¬ tag&#45;&gt;tag</title>\n",
       "<path fill=\"none\" stroke=\"black\" d=\"M170.53,-53.25C182.15,-53.25 195.25,-53.25 207.19,-53.25\"/>\n",
       "<polygon fill=\"black\" stroke=\"black\" points=\"207.13,-56.75 217.13,-53.25 207.13,-49.75 207.13,-56.75\"/>\n",
       "<text xml:space=\"preserve\" text-anchor=\"middle\" x=\"194.66\" y=\"-57.2\" font-family=\"Raleway\" font-size=\"14.00\">&#39;&lt;&#39;</text>\n",
       "</g>\n",
       "<!-- tag&#45;&gt;¬ tag -->\n",
       "<g id=\"edge5\" class=\"edge\">\n",
       "<title>tag&#45;&gt;¬ tag</title>\n",
       "<path fill=\"none\" stroke=\"black\" d=\"M225.14,-41.3C217.82,-37.55 209.3,-33.89 201.03,-32 190.62,-29.62 179.5,-31.62 169.5,-35.19\"/>\n",
       "<polygon fill=\"black\" stroke=\"black\" points=\"168.42,-31.84 160.56,-38.95 171.13,-38.3 168.42,-31.84\"/>\n",
       "<text xml:space=\"preserve\" text-anchor=\"middle\" x=\"194.66\" y=\"-35.95\" font-family=\"Raleway\" font-size=\"14.00\">&#39;&gt;&#39;</text>\n",
       "</g>\n",
       "<!-- tag&#45;&gt;tag -->\n",
       "<g id=\"edge6\" class=\"edge\">\n",
       "<title>tag&#45;&gt;tag</title>\n",
       "<path fill=\"none\" stroke=\"black\" d=\"M236.86,-70.66C235.15,-80.34 238.2,-89.25 246.03,-89.25 250.56,-89.25 253.49,-86.27 254.82,-81.89\"/>\n",
       "<polygon fill=\"black\" stroke=\"black\" points=\"258.31,-82.29 255.15,-72.17 251.32,-82.05 258.31,-82.29\"/>\n",
       "<text xml:space=\"preserve\" text-anchor=\"middle\" x=\"246.03\" y=\"-93.2\" font-family=\"Raleway\" font-size=\"14.00\">¬ &#39;&gt;&#39;</text>\n",
       "</g>\n",
       "</g>\n",
       "</svg>\n"
      ],
      "text/plain": [
       "<graphviz.graphs.Digraph at 0x10b998c20>"
      ]
     },
     "metadata": {},
     "output_type": "display_data"
    }
   ],
   "source": [
    "# ignore\n",
    "display(state_machine)"
   ]
  },
  {
   "cell_type": "markdown",
   "metadata": {
    "slideshow": {
     "slide_type": "subslide"
    }
   },
   "source": [
    "You see that we start in the _non-tag_ state (`¬ tag`). Here, for every character that is not `'<'`, we add the character and stay in the non-tag state. `'>'` characters are skipped, though.\n",
    "\n",
    "When we read a `'<'`, though, we transition to the _tag_ state (`tag`) and stay in the tag state, skipping characters up to a closing `'>'` character, which makes us transition to the _non-tag_ state again."
   ]
  },
  {
   "attachments": {},
   "cell_type": "markdown",
   "metadata": {
    "slideshow": {
     "slide_type": "slide"
    }
   },
   "source": [
    "## A First Fix\n",
    "\n",
    "We will now iteratively try to find a correct solution to our bug. On the way we will come up with different _interim solutions_ that bring us closer and closer to the perfect code. Of course, we could come up with a near-perfect solution right away, but each of these interim solutions illustrate some techniques we can use during debugging."
   ]
  },
  {
   "cell_type": "markdown",
   "metadata": {
    "slideshow": {
     "slide_type": "fragment"
    }
   },
   "source": [
    "Let us look at the above state machine, and process through our input:\n",
    "\n",
    "```html\n",
    "<input type=\"text\" value=\"<your name>\">\n",
    "```"
   ]
  },
  {
   "cell_type": "markdown",
   "metadata": {
    "slideshow": {
     "slide_type": "subslide"
    }
   },
   "source": [
    "So what you can see is: We are interpreting the `'>'` of `\"<your name>\"` as the closing of the tag. However, this is a quoted string, so the `'>'` should be interpreted as a regular character, not as markup. This is an example of _missing functionality:_ We do not handle quoted characters correctly. We haven't claimed yet to take care of all functionality, so we still need to extend our code."
   ]
  },
  {
   "cell_type": "markdown",
   "metadata": {
    "slideshow": {
     "slide_type": "fragment"
    }
   },
   "source": [
    "So we extend the whole thing.  We set up a special \"quote\" state which processes quoted inputs in tags until the end of the quoted string is reached. This is how the state machine looks like:"
   ]
  },
  {
   "cell_type": "code",
   "execution_count": 15,
   "metadata": {
    "execution": {
     "iopub.execute_input": "2025-10-26T17:46:26.206881Z",
     "iopub.status.busy": "2025-10-26T17:46:26.206770Z",
     "iopub.status.idle": "2025-10-26T17:46:26.209097Z",
     "shell.execute_reply": "2025-10-26T17:46:26.208869Z"
    },
    "ipub": {
     "ignore": true
    },
    "slideshow": {
     "slide_type": "subslide"
    },
    "tags": [
     "remove-input"
    ]
   },
   "outputs": [],
   "source": [
    "# ignore\n",
    "state_machine = graph()\n",
    "state_machine.node('Start')\n",
    "state_machine.edge('Start', '¬ quote\\\\n¬ tag')\n",
    "state_machine.edge('¬ quote\\\\n¬ tag', '¬ quote\\\\n¬ tag',\n",
    "                   label=\"¬ '<'\\\\nadd character\")\n",
    "state_machine.edge('¬ quote\\\\n¬ tag', '¬ quote\\\\ntag', label=\"'<'\")\n",
    "state_machine.edge('¬ quote\\\\ntag', 'quote\\\\ntag', label=\"'\\\"'\")\n",
    "state_machine.edge('¬ quote\\\\ntag', '¬ quote\\\\ntag', label=\"¬ '\\\"' ∧ ¬ '>'\")\n",
    "state_machine.edge('quote\\\\ntag', 'quote\\\\ntag', label=\"¬ '\\\"'\")\n",
    "state_machine.edge('quote\\\\ntag', '¬ quote\\\\ntag', label=\"'\\\"'\")\n",
    "state_machine.edge('¬ quote\\\\ntag', '¬ quote\\\\n¬ tag', label=\"'>'\")"
   ]
  },
  {
   "cell_type": "code",
   "execution_count": 16,
   "metadata": {
    "execution": {
     "iopub.execute_input": "2025-10-26T17:46:26.210247Z",
     "iopub.status.busy": "2025-10-26T17:46:26.210150Z",
     "iopub.status.idle": "2025-10-26T17:46:26.568135Z",
     "shell.execute_reply": "2025-10-26T17:46:26.567805Z"
    },
    "slideshow": {
     "slide_type": "fragment"
    },
    "tags": [
     "remove-input"
    ]
   },
   "outputs": [
    {
     "data": {
      "image/svg+xml": [
       "<?xml version=\"1.0\" encoding=\"UTF-8\" standalone=\"no\"?>\n",
       "<!DOCTYPE svg PUBLIC \"-//W3C//DTD SVG 1.1//EN\"\n",
       " \"http://www.w3.org/Graphics/SVG/1.1/DTD/svg11.dtd\">\n",
       "<!-- Generated by graphviz version 14.0.2 (20251019.1705)\n",
       " -->\n",
       "<!-- Pages: 1 -->\n",
       "<svg width=\"468pt\" height=\"121pt\"\n",
       " viewBox=\"0.00 0.00 468.00 121.00\" xmlns=\"http://www.w3.org/2000/svg\" xmlns:xlink=\"http://www.w3.org/1999/xlink\">\n",
       "<g id=\"graph0\" class=\"graph\" transform=\"scale(1 1) rotate(0) translate(4 116.6)\">\n",
       "<polygon fill=\"white\" stroke=\"none\" points=\"-4,4 -4,-116.6 464.14,-116.6 464.14,4 -4,4\"/>\n",
       "<!-- Start -->\n",
       "<g id=\"node1\" class=\"node\">\n",
       "<title>Start</title>\n",
       "<ellipse fill=\"peachpuff\" stroke=\"black\" cx=\"32.27\" cy=\"-30.05\" rx=\"32.27\" ry=\"18\"/>\n",
       "<text xml:space=\"preserve\" text-anchor=\"middle\" x=\"32.27\" y=\"-25.38\" font-family=\"Raleway\" font-size=\"14.00\">Start</text>\n",
       "</g>\n",
       "<!-- ¬ quote\\n¬ tag -->\n",
       "<g id=\"node2\" class=\"node\">\n",
       "<title>¬ quote\\n¬ tag</title>\n",
       "<ellipse fill=\"peachpuff\" stroke=\"black\" cx=\"148.38\" cy=\"-30.05\" rx=\"46.85\" ry=\"30.05\"/>\n",
       "<text xml:space=\"preserve\" text-anchor=\"middle\" x=\"148.38\" y=\"-34\" font-family=\"Raleway\" font-size=\"14.00\">¬ quote</text>\n",
       "<text xml:space=\"preserve\" text-anchor=\"middle\" x=\"148.38\" y=\"-16.75\" font-family=\"Raleway\" font-size=\"14.00\">¬ tag</text>\n",
       "</g>\n",
       "<!-- Start&#45;&gt;¬ quote\\n¬ tag -->\n",
       "<g id=\"edge1\" class=\"edge\">\n",
       "<title>Start&#45;&gt;¬ quote\\n¬ tag</title>\n",
       "<path fill=\"none\" stroke=\"black\" d=\"M64.75,-30.05C72.55,-30.05 81.15,-30.05 89.77,-30.05\"/>\n",
       "<polygon fill=\"black\" stroke=\"black\" points=\"89.53,-33.55 99.53,-30.05 89.53,-26.55 89.53,-33.55\"/>\n",
       "</g>\n",
       "<!-- ¬ quote\\n¬ tag&#45;&gt;¬ quote\\n¬ tag -->\n",
       "<g id=\"edge2\" class=\"edge\">\n",
       "<title>¬ quote\\n¬ tag&#45;&gt;¬ quote\\n¬ tag</title>\n",
       "<path fill=\"none\" stroke=\"black\" d=\"M136.14,-59.14C135.88,-69.59 139.96,-78.1 148.38,-78.1 153.38,-78.1 156.85,-75.1 158.79,-70.48\"/>\n",
       "<polygon fill=\"black\" stroke=\"black\" points=\"162.24,-71.06 160.38,-60.63 155.33,-69.95 162.24,-71.06\"/>\n",
       "<text xml:space=\"preserve\" text-anchor=\"middle\" x=\"148.38\" y=\"-99.3\" font-family=\"Raleway\" font-size=\"14.00\">¬ &#39;&lt;&#39;</text>\n",
       "<text xml:space=\"preserve\" text-anchor=\"middle\" x=\"148.38\" y=\"-82.05\" font-family=\"Raleway\" font-size=\"14.00\">add character</text>\n",
       "</g>\n",
       "<!-- ¬ quote\\ntag -->\n",
       "<g id=\"node3\" class=\"node\">\n",
       "<title>¬ quote\\ntag</title>\n",
       "<ellipse fill=\"peachpuff\" stroke=\"black\" cx=\"290.82\" cy=\"-30.05\" rx=\"46.85\" ry=\"30.05\"/>\n",
       "<text xml:space=\"preserve\" text-anchor=\"middle\" x=\"290.82\" y=\"-34\" font-family=\"Raleway\" font-size=\"14.00\">¬ quote</text>\n",
       "<text xml:space=\"preserve\" text-anchor=\"middle\" x=\"290.82\" y=\"-16.75\" font-family=\"Raleway\" font-size=\"14.00\">tag</text>\n",
       "</g>\n",
       "<!-- ¬ quote\\n¬ tag&#45;&gt;¬ quote\\ntag -->\n",
       "<g id=\"edge3\" class=\"edge\">\n",
       "<title>¬ quote\\n¬ tag&#45;&gt;¬ quote\\ntag</title>\n",
       "<path fill=\"none\" stroke=\"black\" d=\"M195.37,-30.05C207.25,-30.05 220.19,-30.05 232.57,-30.05\"/>\n",
       "<polygon fill=\"black\" stroke=\"black\" points=\"232.22,-33.55 242.22,-30.05 232.22,-26.55 232.22,-33.55\"/>\n",
       "<text xml:space=\"preserve\" text-anchor=\"middle\" x=\"219.6\" y=\"-34\" font-family=\"Raleway\" font-size=\"14.00\">&#39;&lt;&#39;</text>\n",
       "</g>\n",
       "<!-- ¬ quote\\ntag&#45;&gt;¬ quote\\n¬ tag -->\n",
       "<g id=\"edge8\" class=\"edge\">\n",
       "<title>¬ quote\\ntag&#45;&gt;¬ quote\\n¬ tag</title>\n",
       "<path fill=\"none\" stroke=\"black\" d=\"M252.01,-12.8C239.76,-9.04 226.03,-6.73 213.23,-8.8 208.88,-9.51 204.42,-10.47 199.99,-11.59\"/>\n",
       "<polygon fill=\"black\" stroke=\"black\" points=\"199.21,-8.17 190.53,-14.25 201.11,-14.91 199.21,-8.17\"/>\n",
       "<text xml:space=\"preserve\" text-anchor=\"middle\" x=\"219.6\" y=\"-12.75\" font-family=\"Raleway\" font-size=\"14.00\">&#39;&gt;&#39;</text>\n",
       "</g>\n",
       "<!-- ¬ quote\\ntag&#45;&gt;¬ quote\\ntag -->\n",
       "<g id=\"edge5\" class=\"edge\">\n",
       "<title>¬ quote\\ntag&#45;&gt;¬ quote\\ntag</title>\n",
       "<path fill=\"none\" stroke=\"black\" d=\"M277.76,-59.14C277.48,-69.59 281.84,-78.1 290.82,-78.1 296.16,-78.1 299.86,-75.1 301.93,-70.48\"/>\n",
       "<polygon fill=\"black\" stroke=\"black\" points=\"305.38,-71.08 303.63,-60.63 298.48,-69.89 305.38,-71.08\"/>\n",
       "<text xml:space=\"preserve\" text-anchor=\"middle\" x=\"290.82\" y=\"-82.05\" font-family=\"Raleway\" font-size=\"14.00\">¬ &#39;&quot;&#39; ∧ ¬ &#39;&gt;&#39;</text>\n",
       "</g>\n",
       "<!-- quote\\ntag -->\n",
       "<g id=\"node4\" class=\"node\">\n",
       "<title>quote\\ntag</title>\n",
       "<ellipse fill=\"peachpuff\" stroke=\"black\" cx=\"421.78\" cy=\"-30.05\" rx=\"38.36\" ry=\"30.05\"/>\n",
       "<text xml:space=\"preserve\" text-anchor=\"middle\" x=\"421.78\" y=\"-34\" font-family=\"Raleway\" font-size=\"14.00\">quote</text>\n",
       "<text xml:space=\"preserve\" text-anchor=\"middle\" x=\"421.78\" y=\"-16.75\" font-family=\"Raleway\" font-size=\"14.00\">tag</text>\n",
       "</g>\n",
       "<!-- ¬ quote\\ntag&#45;&gt;quote\\ntag -->\n",
       "<g id=\"edge4\" class=\"edge\">\n",
       "<title>¬ quote\\ntag&#45;&gt;quote\\ntag</title>\n",
       "<path fill=\"none\" stroke=\"black\" d=\"M338.02,-30.05C348.96,-30.05 360.67,-30.05 371.73,-30.05\"/>\n",
       "<polygon fill=\"black\" stroke=\"black\" points=\"371.45,-33.55 381.45,-30.05 371.45,-26.55 371.45,-33.55\"/>\n",
       "<text xml:space=\"preserve\" text-anchor=\"middle\" x=\"360.54\" y=\"-34\" font-family=\"Raleway\" font-size=\"14.00\">&#39;&quot;&#39;</text>\n",
       "</g>\n",
       "<!-- quote\\ntag&#45;&gt;¬ quote\\ntag -->\n",
       "<g id=\"edge7\" class=\"edge\">\n",
       "<title>quote\\ntag&#45;&gt;¬ quote\\ntag</title>\n",
       "<path fill=\"none\" stroke=\"black\" d=\"M387.98,-15.21C380.7,-12.55 372.91,-10.19 365.42,-8.8 357.05,-7.25 348.28,-7.8 339.81,-9.5\"/>\n",
       "<polygon fill=\"black\" stroke=\"black\" points=\"339.2,-6.05 330.39,-11.94 340.95,-12.82 339.2,-6.05\"/>\n",
       "<text xml:space=\"preserve\" text-anchor=\"middle\" x=\"360.54\" y=\"-12.75\" font-family=\"Raleway\" font-size=\"14.00\">&#39;&quot;&#39;</text>\n",
       "</g>\n",
       "<!-- quote\\ntag&#45;&gt;quote\\ntag -->\n",
       "<g id=\"edge6\" class=\"edge\">\n",
       "<title>quote\\ntag&#45;&gt;quote\\ntag</title>\n",
       "<path fill=\"none\" stroke=\"black\" d=\"M410.31,-59.14C410.06,-69.59 413.89,-78.1 421.78,-78.1 426.47,-78.1 429.72,-75.1 431.54,-70.48\"/>\n",
       "<polygon fill=\"black\" stroke=\"black\" points=\"434.99,-71.05 433.02,-60.64 428.07,-70 434.99,-71.05\"/>\n",
       "<text xml:space=\"preserve\" text-anchor=\"middle\" x=\"421.78\" y=\"-82.05\" font-family=\"Raleway\" font-size=\"14.00\">¬ &#39;&quot;&#39;</text>\n",
       "</g>\n",
       "</g>\n",
       "</svg>\n"
      ],
      "text/plain": [
       "<graphviz.graphs.Digraph at 0x10b8fb110>"
      ]
     },
     "metadata": {},
     "output_type": "display_data"
    }
   ],
   "source": [
    "# ignore\n",
    "display(state_machine)"
   ]
  },
  {
   "cell_type": "markdown",
   "metadata": {
    "slideshow": {
     "slide_type": "subslide"
    }
   },
   "source": [
    "This is a bit more complex already. Proceeding from left to right, we first have the state `¬ quote ∧ ¬ tag`, which is our \"standard\" state for text. If we encounter a `'<'`, we again switch to the \"tagged\" state `¬ quote ∧ tag`. In this state, however (and only in this state), if we encounter a quotation mark, we switch to the \"quotation\" state `quote ∧ tag`, in which we remain until we see another quotation mark indicating the end of the string – and then continue in the \"tagged\" state `¬ quote ∧ tag` until we see the end of the string."
   ]
  },
  {
   "cell_type": "markdown",
   "metadata": {
    "slideshow": {
     "slide_type": "fragment"
    }
   },
   "source": [
    "Things get even more complicated as HTML allows both single and double quotation characters. Here's a revised implementation of `remove_html_markup()` that takes the above states into account:"
   ]
  },
  {
   "cell_type": "code",
   "execution_count": 17,
   "metadata": {
    "execution": {
     "iopub.execute_input": "2025-10-26T17:46:26.569695Z",
     "iopub.status.busy": "2025-10-26T17:46:26.569571Z",
     "iopub.status.idle": "2025-10-26T17:46:26.571920Z",
     "shell.execute_reply": "2025-10-26T17:46:26.571656Z"
    },
    "slideshow": {
     "slide_type": "subslide"
    }
   },
   "outputs": [],
   "source": [
    "def remove_html_markup(s):  # type: ignore\n",
    "    tag = False\n",
    "    quote = False\n",
    "    out = \"\"\n",
    "\n",
    "    for c in s:\n",
    "        if c == '<' and not quote:\n",
    "            tag = True\n",
    "        elif c == '>' and not quote:\n",
    "            tag = False\n",
    "        elif c == '\"' or c == \"'\" and tag:\n",
    "            quote = not quote\n",
    "        elif not tag:\n",
    "            out = out + c\n",
    "\n",
    "    return out"
   ]
  },
  {
   "cell_type": "markdown",
   "metadata": {
    "slideshow": {
     "slide_type": "subslide"
    }
   },
   "source": [
    "Now, our previous input works well:"
   ]
  },
  {
   "cell_type": "code",
   "execution_count": 18,
   "metadata": {
    "execution": {
     "iopub.execute_input": "2025-10-26T17:46:26.573158Z",
     "iopub.status.busy": "2025-10-26T17:46:26.573058Z",
     "iopub.status.idle": "2025-10-26T17:46:26.575191Z",
     "shell.execute_reply": "2025-10-26T17:46:26.574896Z"
    },
    "slideshow": {
     "slide_type": "fragment"
    }
   },
   "outputs": [
    {
     "data": {
      "text/plain": [
       "''"
      ]
     },
     "execution_count": 18,
     "metadata": {},
     "output_type": "execute_result"
    }
   ],
   "source": [
    "remove_html_markup('<input type=\"text\" value=\"<your name>\">')"
   ]
  },
  {
   "cell_type": "markdown",
   "metadata": {
    "slideshow": {
     "slide_type": "fragment"
    }
   },
   "source": [
    "and our earlier tests also pass:"
   ]
  },
  {
   "cell_type": "code",
   "execution_count": 19,
   "metadata": {
    "execution": {
     "iopub.execute_input": "2025-10-26T17:46:26.576755Z",
     "iopub.status.busy": "2025-10-26T17:46:26.576624Z",
     "iopub.status.idle": "2025-10-26T17:46:26.578306Z",
     "shell.execute_reply": "2025-10-26T17:46:26.578043Z"
    },
    "slideshow": {
     "slide_type": "fragment"
    }
   },
   "outputs": [],
   "source": [
    "assert remove_html_markup(\"Here's some <strong>strong argument</strong>.\") == \\\n",
    "    \"Here's some strong argument.\""
   ]
  },
  {
   "cell_type": "code",
   "execution_count": 20,
   "metadata": {
    "execution": {
     "iopub.execute_input": "2025-10-26T17:46:26.579636Z",
     "iopub.status.busy": "2025-10-26T17:46:26.579541Z",
     "iopub.status.idle": "2025-10-26T17:46:26.581187Z",
     "shell.execute_reply": "2025-10-26T17:46:26.580959Z"
    },
    "slideshow": {
     "slide_type": "fragment"
    }
   },
   "outputs": [],
   "source": [
    "assert remove_html_markup('<input type=\"text\" value=\"<your name>\">') == \"\""
   ]
  },
  {
   "cell_type": "markdown",
   "metadata": {
    "slideshow": {
     "slide_type": "subslide"
    }
   },
   "source": [
    "However, the above code still has a bug.  In two of these inputs, HTML markup is still not properly stripped:\n",
    "\n",
    "```html\n",
    "<b>foo</b>\n",
    "<b>\"foo\"</b>\n",
    "\"<b>foo</b>\"\n",
    "<\"b\">foo</\"b\">\n",
    "```\n",
    "\n",
    "Can you guess which ones these are?"
   ]
  },
  {
   "cell_type": "markdown",
   "metadata": {
    "slideshow": {
     "slide_type": "fragment"
    }
   },
   "source": [
    "Again, a simple assertion will reveal the culprits:"
   ]
  },
  {
   "cell_type": "code",
   "execution_count": 21,
   "metadata": {
    "execution": {
     "iopub.execute_input": "2025-10-26T17:46:26.582645Z",
     "iopub.status.busy": "2025-10-26T17:46:26.582560Z",
     "iopub.status.idle": "2025-10-26T17:46:26.584032Z",
     "shell.execute_reply": "2025-10-26T17:46:26.583788Z"
    },
    "slideshow": {
     "slide_type": "subslide"
    }
   },
   "outputs": [],
   "source": [
    "with ExpectError():\n",
    "    assert remove_html_markup('<b>foo</b>') == 'foo'"
   ]
  },
  {
   "cell_type": "code",
   "execution_count": 22,
   "metadata": {
    "execution": {
     "iopub.execute_input": "2025-10-26T17:46:26.585437Z",
     "iopub.status.busy": "2025-10-26T17:46:26.585343Z",
     "iopub.status.idle": "2025-10-26T17:46:26.587294Z",
     "shell.execute_reply": "2025-10-26T17:46:26.587035Z"
    },
    "slideshow": {
     "slide_type": "fragment"
    }
   },
   "outputs": [
    {
     "name": "stderr",
     "output_type": "stream",
     "text": [
      "Traceback (most recent call last):\n",
      "  File \"/var/folders/n2/xd9445p97rb3xh7m1dfx8_4h0006ts/T/ipykernel_50153/4031927246.py\", line 2, in <module>\n",
      "    assert remove_html_markup('<b>\"foo\"</b>') == '\"foo\"'\n",
      "           ^^^^^^^^^^^^^^^^^^^^^^^^^^^^^^^^^^^^^^^^^^^^^\n",
      "AssertionError (expected)\n"
     ]
    }
   ],
   "source": [
    "with ExpectError():\n",
    "    assert remove_html_markup('<b>\"foo\"</b>') == '\"foo\"'"
   ]
  },
  {
   "cell_type": "code",
   "execution_count": 23,
   "metadata": {
    "execution": {
     "iopub.execute_input": "2025-10-26T17:46:26.588813Z",
     "iopub.status.busy": "2025-10-26T17:46:26.588702Z",
     "iopub.status.idle": "2025-10-26T17:46:26.590728Z",
     "shell.execute_reply": "2025-10-26T17:46:26.590447Z"
    },
    "slideshow": {
     "slide_type": "subslide"
    }
   },
   "outputs": [
    {
     "name": "stderr",
     "output_type": "stream",
     "text": [
      "Traceback (most recent call last):\n",
      "  File \"/var/folders/n2/xd9445p97rb3xh7m1dfx8_4h0006ts/T/ipykernel_50153/242211734.py\", line 2, in <module>\n",
      "    assert remove_html_markup('\"<b>foo</b>\"') == '\"foo\"'\n",
      "           ^^^^^^^^^^^^^^^^^^^^^^^^^^^^^^^^^^^^^^^^^^^^^\n",
      "AssertionError (expected)\n"
     ]
    }
   ],
   "source": [
    "with ExpectError():\n",
    "    assert remove_html_markup('\"<b>foo</b>\"') == '\"foo\"'"
   ]
  },
  {
   "cell_type": "code",
   "execution_count": 24,
   "metadata": {
    "execution": {
     "iopub.execute_input": "2025-10-26T17:46:26.592498Z",
     "iopub.status.busy": "2025-10-26T17:46:26.592394Z",
     "iopub.status.idle": "2025-10-26T17:46:26.594071Z",
     "shell.execute_reply": "2025-10-26T17:46:26.593795Z"
    },
    "slideshow": {
     "slide_type": "fragment"
    }
   },
   "outputs": [],
   "source": [
    "with ExpectError():\n",
    "    assert remove_html_markup('<\"b\">foo</\"b\">') == 'foo'"
   ]
  },
  {
   "cell_type": "markdown",
   "metadata": {
    "slideshow": {
     "slide_type": "fragment"
    }
   },
   "source": [
    "So, unfortunately, we're not done yet – our function still has errors."
   ]
  },
  {
   "cell_type": "markdown",
   "metadata": {
    "slideshow": {
     "slide_type": "slide"
    }
   },
   "source": [
    "## The Devil's Guide to Debugging\n",
    "\n",
    "Let us now discuss a couple of methods that do _not_ work well for debugging. (These \"devil's suggestions\" are adapted from the 1993 book \"Code Complete\" from Steve McConnell.)"
   ]
  },
  {
   "cell_type": "markdown",
   "metadata": {
    "slideshow": {
     "slide_type": "subslide"
    }
   },
   "source": [
    "### Printf Debugging\n",
    "\n",
    "When I was a student, I never got any formal training in debugging, so I had to figure this out for myself. What I learned was how to use _debugging output_; in Python, this would be the `print()` function. For instance, I would go and scatter `print()` calls everywhere:"
   ]
  },
  {
   "cell_type": "code",
   "execution_count": 25,
   "metadata": {
    "execution": {
     "iopub.execute_input": "2025-10-26T17:46:26.595712Z",
     "iopub.status.busy": "2025-10-26T17:46:26.595603Z",
     "iopub.status.idle": "2025-10-26T17:46:26.597793Z",
     "shell.execute_reply": "2025-10-26T17:46:26.597525Z"
    },
    "slideshow": {
     "slide_type": "subslide"
    }
   },
   "outputs": [],
   "source": [
    "def remove_html_markup_with_print(s):  # type: ignore\n",
    "    tag = False\n",
    "    quote = False\n",
    "    out = \"\"\n",
    "\n",
    "    for c in s:\n",
    "        print(\"c =\", repr(c), \"tag =\", tag, \"quote =\", quote)\n",
    "\n",
    "        if c == '<' and not quote:\n",
    "            tag = True\n",
    "        elif c == '>' and not quote:\n",
    "            tag = False\n",
    "        elif c == '\"' or c == \"'\" and tag:\n",
    "            quote = not quote\n",
    "        elif not tag:\n",
    "            out = out + c\n",
    "\n",
    "    return out"
   ]
  },
  {
   "cell_type": "markdown",
   "metadata": {
    "slideshow": {
     "slide_type": "subslide"
    }
   },
   "source": [
    "This way of inspecting executions is commonly called \"Printf debugging\", after the C `printf()` function. Then, running this would allow me to see what's going on in my code:"
   ]
  },
  {
   "cell_type": "code",
   "execution_count": 26,
   "metadata": {
    "execution": {
     "iopub.execute_input": "2025-10-26T17:46:26.599344Z",
     "iopub.status.busy": "2025-10-26T17:46:26.599220Z",
     "iopub.status.idle": "2025-10-26T17:46:26.601640Z",
     "shell.execute_reply": "2025-10-26T17:46:26.601361Z"
    },
    "slideshow": {
     "slide_type": "subslide"
    }
   },
   "outputs": [
    {
     "name": "stdout",
     "output_type": "stream",
     "text": [
      "c = '<' tag = False quote = False\n",
      "c = 'b' tag = True quote = False\n",
      "c = '>' tag = True quote = False\n",
      "c = '\"' tag = False quote = False\n",
      "c = 'f' tag = False quote = True\n",
      "c = 'o' tag = False quote = True\n",
      "c = 'o' tag = False quote = True\n",
      "c = '\"' tag = False quote = True\n",
      "c = '<' tag = False quote = False\n",
      "c = '/' tag = True quote = False\n",
      "c = 'b' tag = True quote = False\n",
      "c = '>' tag = True quote = False\n"
     ]
    },
    {
     "data": {
      "text/plain": [
       "'foo'"
      ]
     },
     "execution_count": 26,
     "metadata": {},
     "output_type": "execute_result"
    }
   ],
   "source": [
    "remove_html_markup_with_print('<b>\"foo\"</b>')"
   ]
  },
  {
   "cell_type": "markdown",
   "metadata": {
    "slideshow": {
     "slide_type": "subslide"
    }
   },
   "source": [
    "Yes, one sees what is going on – but this is horribly inefficient!  Think of a 1,000-character input – you'd have to go through 1,000 lines of logs.  It may help you, but it's a total time waster.  Plus, you have to enter these statements, remove them again... it's a maintenance nightmare."
   ]
  },
  {
   "cell_type": "markdown",
   "metadata": {
    "slideshow": {
     "slide_type": "fragment"
    }
   },
   "source": [
    "(You may even forget printf's in your code, creating a security problem: Mac OS X versions 10.7 to 10.7.3 would log the password in clear because someone had forgotten to turn off debugging output.)"
   ]
  },
  {
   "cell_type": "markdown",
   "metadata": {
    "slideshow": {
     "slide_type": "subslide"
    }
   },
   "source": [
    "### Debugging into Existence"
   ]
  },
  {
   "cell_type": "markdown",
   "metadata": {
    "slideshow": {
     "slide_type": "fragment"
    }
   },
   "source": [
    "I would also try to _debug the program into existence._  Just change things until they work.  Let me see: If I remove the conditions \"and not quote\" from the program, it would actually work again:"
   ]
  },
  {
   "cell_type": "code",
   "execution_count": 27,
   "metadata": {
    "execution": {
     "iopub.execute_input": "2025-10-26T17:46:26.603242Z",
     "iopub.status.busy": "2025-10-26T17:46:26.603127Z",
     "iopub.status.idle": "2025-10-26T17:46:26.605280Z",
     "shell.execute_reply": "2025-10-26T17:46:26.604981Z"
    },
    "slideshow": {
     "slide_type": "subslide"
    }
   },
   "outputs": [],
   "source": [
    "def remove_html_markup_without_quotes(s):  # type: ignore\n",
    "    tag = False\n",
    "    quote = False\n",
    "    out = \"\"\n",
    "\n",
    "    for c in s:\n",
    "        if c == '<':  # and not quote:\n",
    "            tag = True\n",
    "        elif c == '>':  # and not quote:\n",
    "            tag = False\n",
    "        elif c == '\"' or c == \"'\" and tag:\n",
    "            quote = not quote\n",
    "        elif not tag:\n",
    "            out = out + c\n",
    "\n",
    "    return out"
   ]
  },
  {
   "cell_type": "code",
   "execution_count": 28,
   "metadata": {
    "execution": {
     "iopub.execute_input": "2025-10-26T17:46:26.606782Z",
     "iopub.status.busy": "2025-10-26T17:46:26.606657Z",
     "iopub.status.idle": "2025-10-26T17:46:26.608328Z",
     "shell.execute_reply": "2025-10-26T17:46:26.608043Z"
    },
    "slideshow": {
     "slide_type": "subslide"
    }
   },
   "outputs": [],
   "source": [
    "assert remove_html_markup_without_quotes('<b id=\"bar\">foo</b>') == 'foo'"
   ]
  },
  {
   "cell_type": "markdown",
   "metadata": {
    "slideshow": {
     "slide_type": "fragment"
    }
   },
   "source": [
    "Cool! Unfortunately, the function still fails on the other input:"
   ]
  },
  {
   "cell_type": "code",
   "execution_count": 29,
   "metadata": {
    "execution": {
     "iopub.execute_input": "2025-10-26T17:46:26.609704Z",
     "iopub.status.busy": "2025-10-26T17:46:26.609622Z",
     "iopub.status.idle": "2025-10-26T17:46:26.611515Z",
     "shell.execute_reply": "2025-10-26T17:46:26.611228Z"
    },
    "slideshow": {
     "slide_type": "fragment"
    }
   },
   "outputs": [
    {
     "name": "stderr",
     "output_type": "stream",
     "text": [
      "Traceback (most recent call last):\n",
      "  File \"/var/folders/n2/xd9445p97rb3xh7m1dfx8_4h0006ts/T/ipykernel_50153/3864559921.py\", line 2, in <module>\n",
      "    assert remove_html_markup_without_quotes('<b>\"foo\"</b>') == '\"foo\"'\n",
      "           ^^^^^^^^^^^^^^^^^^^^^^^^^^^^^^^^^^^^^^^^^^^^^^^^^^^^^^^^^^^^\n",
      "AssertionError (expected)\n"
     ]
    }
   ],
   "source": [
    "with ExpectError():\n",
    "    assert remove_html_markup_without_quotes('<b>\"foo\"</b>') == '\"foo\"'"
   ]
  },
  {
   "cell_type": "markdown",
   "metadata": {
    "slideshow": {
     "slide_type": "fragment"
    }
   },
   "source": [
    "So, maybe we can change things again, such that both work? And maybe the other tests we had earlier won't fail? Let's just continue to change things randomly again and again and again."
   ]
  },
  {
   "cell_type": "markdown",
   "metadata": {
    "slideshow": {
     "slide_type": "subslide"
    }
   },
   "source": [
    "Oh, and of course, I would never back up earlier versions such that I would be able to keep track of what has changed and when.\n",
    "Especially keep in mind that our tests will never cover all corner cases. Randomly patching code will just lead to harder to find bugs."
   ]
  },
  {
   "cell_type": "markdown",
   "metadata": {
    "slideshow": {
     "slide_type": "subslide"
    }
   },
   "source": [
    "### Use the Most Obvious Fix"
   ]
  },
  {
   "cell_type": "markdown",
   "metadata": {
    "slideshow": {
     "slide_type": "fragment"
    }
   },
   "source": [
    "My favorite: Use the most obvious fix.  This means that you're fixing the symptom, not the problem. In our case, this would be something like:"
   ]
  },
  {
   "cell_type": "code",
   "execution_count": 30,
   "metadata": {
    "execution": {
     "iopub.execute_input": "2025-10-26T17:46:26.613068Z",
     "iopub.status.busy": "2025-10-26T17:46:26.612965Z",
     "iopub.status.idle": "2025-10-26T17:46:26.614627Z",
     "shell.execute_reply": "2025-10-26T17:46:26.614357Z"
    },
    "slideshow": {
     "slide_type": "fragment"
    }
   },
   "outputs": [],
   "source": [
    "def remove_html_markup_fixed(s):  # type: ignore\n",
    "    if s == '<b>\"foo\"</b>':\n",
    "        return '\"foo\"'\n",
    "    ..."
   ]
  },
  {
   "cell_type": "markdown",
   "metadata": {
    "slideshow": {
     "slide_type": "fragment"
    }
   },
   "source": [
    "Miracle! Our earlier failing assertion now works! Now we can do the same for the other failing test, too, and we're done.\n",
    "(Rumor has it that some programmers use this technique to get their tests to pass...)"
   ]
  },
  {
   "cell_type": "markdown",
   "metadata": {
    "slideshow": {
     "slide_type": "subslide"
    }
   },
   "source": [
    "### Things to do Instead\n",
    "\n",
    "As with any devil's guide, you get an idea of how to do things by doing the _opposite._  What this means is:\n",
    "\n",
    "1. Understand the code\n",
    "2. Fix the problem, not the symptom\n",
    "3. Proceed systematically\n",
    "\n",
    "which is what we will apply for the rest of this chapter."
   ]
  },
  {
   "cell_type": "markdown",
   "metadata": {
    "slideshow": {
     "slide_type": "slide"
    }
   },
   "source": [
    "## From Defect to Failure\n",
    "\n",
    "To understand how to systematically debug a program, we first have to understand _how failures come to be._ The typical debugging situation looks like this:\n",
    "\n",
    "* We have a program (execution), taking some input and producing some output.\n",
    "* The output is in *error* (✘), meaning an unwanted and unintended deviation from what is correct, right, or true.\n",
    "* The input, in contrast, is assumed to be correct (✔) – that is, it should be properly processed by the program in question. \n",
    "\n",
    "If the input is incorrect, we wouldn't normally be searching for the bug in our program, but in whatever produced its input. If the input is under control of a third party, though (which typically is the case for _system inputs_), your program must check its correctness and reject it if it is incorrect. Once your program accepts a system input as valid, it must be properly processed by the program in question.\n",
    "\n",
    "Hence, the (very simple) situation we're having can be shown as:"
   ]
  },
  {
   "cell_type": "code",
   "execution_count": 31,
   "metadata": {
    "execution": {
     "iopub.execute_input": "2025-10-26T17:46:26.616248Z",
     "iopub.status.busy": "2025-10-26T17:46:26.616116Z",
     "iopub.status.idle": "2025-10-26T17:46:26.617643Z",
     "shell.execute_reply": "2025-10-26T17:46:26.617394Z"
    },
    "slideshow": {
     "slide_type": "subslide"
    },
    "tags": [
     "remove-input"
    ]
   },
   "outputs": [],
   "source": [
    "# ignore\n",
    "from typing import List, Optional"
   ]
  },
  {
   "cell_type": "code",
   "execution_count": 32,
   "metadata": {
    "execution": {
     "iopub.execute_input": "2025-10-26T17:46:26.619101Z",
     "iopub.status.busy": "2025-10-26T17:46:26.619012Z",
     "iopub.status.idle": "2025-10-26T17:46:26.623788Z",
     "shell.execute_reply": "2025-10-26T17:46:26.623501Z"
    },
    "ipub": {
     "ignore": true
    },
    "slideshow": {
     "slide_type": "subslide"
    },
    "tags": [
     "remove-input"
    ]
   },
   "outputs": [],
   "source": [
    "# ignore\n",
    "def execution_diagram(show_steps: bool = True, variables: List[str] = [],\n",
    "                      steps: int = 3, error_step: int = 666,\n",
    "                      until: int = 666, fault_path: List[str] = []) -> Digraph:\n",
    "    dot = graph()\n",
    "\n",
    "    dot.node('input', shape='none', fillcolor='white', label=f\"Input {PASS}\",\n",
    "             fontcolor=PASS_COLOR)\n",
    "    last_outgoing_states = ['input']\n",
    "\n",
    "    for step in range(1, min(steps + 1, until)):\n",
    "\n",
    "        step_color: Optional[str]\n",
    "        if step == error_step:\n",
    "            step_label = f'Step {step} {FAIL}'\n",
    "            step_color = FAIL_COLOR\n",
    "        else:\n",
    "            step_label = f'Step {step}'\n",
    "            step_color = None\n",
    "\n",
    "        if step >= error_step:\n",
    "            state_label = f'State {step} {FAIL}'\n",
    "            state_color = FAIL_COLOR\n",
    "        else:\n",
    "            state_label = f'State {step} {PASS}'\n",
    "            state_color = PASS_COLOR\n",
    "\n",
    "        state_name = f's{step}'\n",
    "        outgoing_states = []\n",
    "        incoming_states = []\n",
    "\n",
    "        if not variables:\n",
    "            dot.node(name=state_name, shape='box',\n",
    "                     label=state_label, color=state_color,\n",
    "                     fontcolor=state_color)\n",
    "        else:\n",
    "            var_labels = []\n",
    "            for v in variables:\n",
    "                vpath = f's{step}:{v}'\n",
    "                if vpath in fault_path:\n",
    "                    var_label = f'<{v}>{v} ✘'\n",
    "                    outgoing_states.append(vpath)\n",
    "                    incoming_states.append(vpath)\n",
    "                else:\n",
    "                    var_label = f'<{v}>{v}'\n",
    "                var_labels.append(var_label)\n",
    "            record_string = \" | \".join(var_labels)\n",
    "            dot.node(name=state_name, shape='record',\n",
    "                     label=nohtml(record_string), color=state_color,\n",
    "                     fontcolor=state_color)\n",
    "\n",
    "        if not outgoing_states:\n",
    "            outgoing_states = [state_name]\n",
    "        if not incoming_states:\n",
    "            incoming_states = [state_name]\n",
    "\n",
    "        for outgoing_state in last_outgoing_states:\n",
    "            for incoming_state in incoming_states:\n",
    "                if show_steps:\n",
    "                    dot.edge(outgoing_state, incoming_state,\n",
    "                             label=step_label, fontcolor=step_color)\n",
    "                else:\n",
    "                    dot.edge(outgoing_state, incoming_state)\n",
    "\n",
    "        last_outgoing_states = outgoing_states\n",
    "\n",
    "    if until > steps + 1:\n",
    "        # Show output\n",
    "        if error_step > steps:\n",
    "            dot.node('output', shape='none', fillcolor='white',\n",
    "                     label=f\"Output {PASS}\", fontcolor=PASS_COLOR)\n",
    "        else:\n",
    "            dot.node('output', shape='none', fillcolor='white',\n",
    "                     label=f\"Output {FAIL}\", fontcolor=FAIL_COLOR)\n",
    "\n",
    "        for outgoing_state in last_outgoing_states:\n",
    "            label = \"Execution\" if steps == 0 else None\n",
    "            dot.edge(outgoing_state, 'output', label=label)\n",
    "\n",
    "    display(dot)"
   ]
  },
  {
   "cell_type": "code",
   "execution_count": 33,
   "metadata": {
    "execution": {
     "iopub.execute_input": "2025-10-26T17:46:26.625367Z",
     "iopub.status.busy": "2025-10-26T17:46:26.625269Z",
     "iopub.status.idle": "2025-10-26T17:46:26.991439Z",
     "shell.execute_reply": "2025-10-26T17:46:26.990978Z"
    },
    "slideshow": {
     "slide_type": "subslide"
    },
    "tags": [
     "remove-input"
    ]
   },
   "outputs": [
    {
     "data": {
      "image/svg+xml": [
       "<?xml version=\"1.0\" encoding=\"UTF-8\" standalone=\"no\"?>\n",
       "<!DOCTYPE svg PUBLIC \"-//W3C//DTD SVG 1.1//EN\"\n",
       " \"http://www.w3.org/Graphics/SVG/1.1/DTD/svg11.dtd\">\n",
       "<!-- Generated by graphviz version 14.0.2 (20251019.1705)\n",
       " -->\n",
       "<!-- Pages: 1 -->\n",
       "<svg width=\"242pt\" height=\"44pt\"\n",
       " viewBox=\"0.00 0.00 242.00 44.00\" xmlns=\"http://www.w3.org/2000/svg\" xmlns:xlink=\"http://www.w3.org/1999/xlink\">\n",
       "<g id=\"graph0\" class=\"graph\" transform=\"scale(1 1) rotate(0) translate(4 40)\">\n",
       "<polygon fill=\"white\" stroke=\"none\" points=\"-4,4 -4,-40 237.75,-40 237.75,4 -4,4\"/>\n",
       "<!-- input -->\n",
       "<g id=\"node1\" class=\"node\">\n",
       "<title>input</title>\n",
       "<polygon fill=\"white\" stroke=\"none\" points=\"61.75,-36 0,-36 0,0 61.75,0 61.75,-36\"/>\n",
       "<text xml:space=\"preserve\" text-anchor=\"middle\" x=\"30.88\" y=\"-13.32\" font-family=\"Raleway\" font-size=\"14.00\" fill=\"darkgreen\">Input ✔</text>\n",
       "</g>\n",
       "<!-- output -->\n",
       "<g id=\"node2\" class=\"node\">\n",
       "<title>output</title>\n",
       "<polygon fill=\"white\" stroke=\"none\" points=\"233.75,-36 160.75,-36 160.75,0 233.75,0 233.75,-36\"/>\n",
       "<text xml:space=\"preserve\" text-anchor=\"middle\" x=\"197.25\" y=\"-13.32\" font-family=\"Raleway\" font-size=\"14.00\" fill=\"#8b0000\">Output ✘</text>\n",
       "</g>\n",
       "<!-- input&#45;&gt;output -->\n",
       "<g id=\"edge1\" class=\"edge\">\n",
       "<title>input&#45;&gt;output</title>\n",
       "<path fill=\"none\" stroke=\"black\" d=\"M61.64,-18C86.2,-18 121.47,-18 149.75,-18\"/>\n",
       "<polygon fill=\"black\" stroke=\"black\" points=\"149.48,-21.5 159.48,-18 149.48,-14.5 149.48,-21.5\"/>\n",
       "<text xml:space=\"preserve\" text-anchor=\"middle\" x=\"111.25\" y=\"-21.95\" font-family=\"Raleway\" font-size=\"14.00\">Execution</text>\n",
       "</g>\n",
       "</g>\n",
       "</svg>\n"
      ],
      "text/plain": [
       "<graphviz.graphs.Digraph at 0x10b8fb9d0>"
      ]
     },
     "metadata": {},
     "output_type": "display_data"
    }
   ],
   "source": [
    "# ignore\n",
    "execution_diagram(show_steps=False, steps=0, error_step=0)"
   ]
  },
  {
   "cell_type": "markdown",
   "metadata": {
    "slideshow": {
     "slide_type": "fragment"
    }
   },
   "source": [
    "This situation we see above is what we call a *failure*: An externally visible _error_ in the program behavior, with the error again being an unwanted and unintended deviation from what is correct, right, or true."
   ]
  },
  {
   "cell_type": "markdown",
   "metadata": {
    "slideshow": {
     "slide_type": "fragment"
    }
   },
   "source": [
    "How does this failure come to be? The execution we see above breaks down into several program _states_, one after the other."
   ]
  },
  {
   "cell_type": "code",
   "execution_count": 34,
   "metadata": {
    "execution": {
     "iopub.execute_input": "2025-10-26T17:46:26.993336Z",
     "iopub.status.busy": "2025-10-26T17:46:26.993159Z",
     "iopub.status.idle": "2025-10-26T17:46:28.828692Z",
     "shell.execute_reply": "2025-10-26T17:46:28.828334Z"
    },
    "slideshow": {
     "slide_type": "subslide"
    },
    "tags": [
     "remove-input"
    ]
   },
   "outputs": [
    {
     "data": {
      "image/svg+xml": [
       "<?xml version=\"1.0\" encoding=\"UTF-8\" standalone=\"no\"?>\n",
       "<!DOCTYPE svg PUBLIC \"-//W3C//DTD SVG 1.1//EN\"\n",
       " \"http://www.w3.org/Graphics/SVG/1.1/DTD/svg11.dtd\">\n",
       "<!-- Generated by graphviz version 14.0.2 (20251019.1705)\n",
       " -->\n",
       "<!-- Pages: 1 -->\n",
       "<svg width=\"70pt\" height=\"44pt\"\n",
       " viewBox=\"0.00 0.00 70.00 44.00\" xmlns=\"http://www.w3.org/2000/svg\" xmlns:xlink=\"http://www.w3.org/1999/xlink\">\n",
       "<g id=\"graph0\" class=\"graph\" transform=\"scale(1 1) rotate(0) translate(4 40)\">\n",
       "<polygon fill=\"white\" stroke=\"none\" points=\"-4,4 -4,-40 65.75,-40 65.75,4 -4,4\"/>\n",
       "<!-- input -->\n",
       "<g id=\"node1\" class=\"node\">\n",
       "<title>input</title>\n",
       "<polygon fill=\"white\" stroke=\"none\" points=\"61.75,-36 0,-36 0,0 61.75,0 61.75,-36\"/>\n",
       "<text xml:space=\"preserve\" text-anchor=\"middle\" x=\"30.88\" y=\"-13.32\" font-family=\"Raleway\" font-size=\"14.00\" fill=\"darkgreen\">Input ✔</text>\n",
       "</g>\n",
       "</g>\n",
       "</svg>\n"
      ],
      "text/plain": [
       "<graphviz.graphs.Digraph at 0x10b916ea0>"
      ]
     },
     "metadata": {},
     "output_type": "display_data"
    },
    {
     "data": {
      "image/svg+xml": [
       "<?xml version=\"1.0\" encoding=\"UTF-8\" standalone=\"no\"?>\n",
       "<!DOCTYPE svg PUBLIC \"-//W3C//DTD SVG 1.1//EN\"\n",
       " \"http://www.w3.org/Graphics/SVG/1.1/DTD/svg11.dtd\">\n",
       "<!-- Generated by graphviz version 14.0.2 (20251019.1705)\n",
       " -->\n",
       "<!-- Pages: 1 -->\n",
       "<svg width=\"177pt\" height=\"44pt\"\n",
       " viewBox=\"0.00 0.00 177.00 44.00\" xmlns=\"http://www.w3.org/2000/svg\" xmlns:xlink=\"http://www.w3.org/1999/xlink\">\n",
       "<g id=\"graph0\" class=\"graph\" transform=\"scale(1 1) rotate(0) translate(4 40)\">\n",
       "<polygon fill=\"white\" stroke=\"none\" points=\"-4,4 -4,-40 172.5,-40 172.5,4 -4,4\"/>\n",
       "<!-- input -->\n",
       "<g id=\"node1\" class=\"node\">\n",
       "<title>input</title>\n",
       "<polygon fill=\"white\" stroke=\"none\" points=\"61.75,-36 0,-36 0,0 61.75,0 61.75,-36\"/>\n",
       "<text xml:space=\"preserve\" text-anchor=\"middle\" x=\"30.88\" y=\"-13.32\" font-family=\"Raleway\" font-size=\"14.00\" fill=\"darkgreen\">Input ✔</text>\n",
       "</g>\n",
       "<!-- s1 -->\n",
       "<g id=\"node2\" class=\"node\">\n",
       "<title>s1</title>\n",
       "<polygon fill=\"peachpuff\" stroke=\"darkgreen\" points=\"168.5,-36 97.75,-36 97.75,0 168.5,0 168.5,-36\"/>\n",
       "<text xml:space=\"preserve\" text-anchor=\"middle\" x=\"133.12\" y=\"-13.32\" font-family=\"Raleway\" font-size=\"14.00\" fill=\"darkgreen\">State 1 ✔</text>\n",
       "</g>\n",
       "<!-- input&#45;&gt;s1 -->\n",
       "<g id=\"edge1\" class=\"edge\">\n",
       "<title>input&#45;&gt;s1</title>\n",
       "<path fill=\"none\" stroke=\"black\" d=\"M61.68,-18C69.29,-18 77.66,-18 85.88,-18\"/>\n",
       "<polygon fill=\"black\" stroke=\"black\" points=\"85.8,-21.5 95.8,-18 85.8,-14.5 85.8,-21.5\"/>\n",
       "</g>\n",
       "</g>\n",
       "</svg>\n"
      ],
      "text/plain": [
       "<graphviz.graphs.Digraph at 0x10b916ea0>"
      ]
     },
     "metadata": {},
     "output_type": "display_data"
    },
    {
     "data": {
      "image/svg+xml": [
       "<?xml version=\"1.0\" encoding=\"UTF-8\" standalone=\"no\"?>\n",
       "<!DOCTYPE svg PUBLIC \"-//W3C//DTD SVG 1.1//EN\"\n",
       " \"http://www.w3.org/Graphics/SVG/1.1/DTD/svg11.dtd\">\n",
       "<!-- Generated by graphviz version 14.0.2 (20251019.1705)\n",
       " -->\n",
       "<!-- Pages: 1 -->\n",
       "<svg width=\"285pt\" height=\"44pt\"\n",
       " viewBox=\"0.00 0.00 285.00 44.00\" xmlns=\"http://www.w3.org/2000/svg\" xmlns:xlink=\"http://www.w3.org/1999/xlink\">\n",
       "<g id=\"graph0\" class=\"graph\" transform=\"scale(1 1) rotate(0) translate(4 40)\">\n",
       "<polygon fill=\"white\" stroke=\"none\" points=\"-4,4 -4,-40 280.75,-40 280.75,4 -4,4\"/>\n",
       "<!-- input -->\n",
       "<g id=\"node1\" class=\"node\">\n",
       "<title>input</title>\n",
       "<polygon fill=\"white\" stroke=\"none\" points=\"61.75,-36 0,-36 0,0 61.75,0 61.75,-36\"/>\n",
       "<text xml:space=\"preserve\" text-anchor=\"middle\" x=\"30.88\" y=\"-13.32\" font-family=\"Raleway\" font-size=\"14.00\" fill=\"darkgreen\">Input ✔</text>\n",
       "</g>\n",
       "<!-- s1 -->\n",
       "<g id=\"node2\" class=\"node\">\n",
       "<title>s1</title>\n",
       "<polygon fill=\"peachpuff\" stroke=\"darkgreen\" points=\"168.5,-36 97.75,-36 97.75,0 168.5,0 168.5,-36\"/>\n",
       "<text xml:space=\"preserve\" text-anchor=\"middle\" x=\"133.12\" y=\"-13.32\" font-family=\"Raleway\" font-size=\"14.00\" fill=\"darkgreen\">State 1 ✔</text>\n",
       "</g>\n",
       "<!-- input&#45;&gt;s1 -->\n",
       "<g id=\"edge1\" class=\"edge\">\n",
       "<title>input&#45;&gt;s1</title>\n",
       "<path fill=\"none\" stroke=\"black\" d=\"M61.68,-18C69.29,-18 77.66,-18 85.88,-18\"/>\n",
       "<polygon fill=\"black\" stroke=\"black\" points=\"85.8,-21.5 95.8,-18 85.8,-14.5 85.8,-21.5\"/>\n",
       "</g>\n",
       "<!-- s2 -->\n",
       "<g id=\"node3\" class=\"node\">\n",
       "<title>s2</title>\n",
       "<polygon fill=\"peachpuff\" stroke=\"#8b0000\" points=\"276.75,-36 204.5,-36 204.5,0 276.75,0 276.75,-36\"/>\n",
       "<text xml:space=\"preserve\" text-anchor=\"middle\" x=\"240.62\" y=\"-13.32\" font-family=\"Raleway\" font-size=\"14.00\" fill=\"#8b0000\">State 2 ✘</text>\n",
       "</g>\n",
       "<!-- s1&#45;&gt;s2 -->\n",
       "<g id=\"edge2\" class=\"edge\">\n",
       "<title>s1&#45;&gt;s2</title>\n",
       "<path fill=\"none\" stroke=\"black\" d=\"M168.96,-18C176.54,-18 184.68,-18 192.65,-18\"/>\n",
       "<polygon fill=\"black\" stroke=\"black\" points=\"192.59,-21.5 202.59,-18 192.59,-14.5 192.59,-21.5\"/>\n",
       "</g>\n",
       "</g>\n",
       "</svg>\n"
      ],
      "text/plain": [
       "<graphviz.graphs.Digraph at 0x10b991c70>"
      ]
     },
     "metadata": {},
     "output_type": "display_data"
    },
    {
     "data": {
      "image/svg+xml": [
       "<?xml version=\"1.0\" encoding=\"UTF-8\" standalone=\"no\"?>\n",
       "<!DOCTYPE svg PUBLIC \"-//W3C//DTD SVG 1.1//EN\"\n",
       " \"http://www.w3.org/Graphics/SVG/1.1/DTD/svg11.dtd\">\n",
       "<!-- Generated by graphviz version 14.0.2 (20251019.1705)\n",
       " -->\n",
       "<!-- Pages: 1 -->\n",
       "<svg width=\"393pt\" height=\"44pt\"\n",
       " viewBox=\"0.00 0.00 393.00 44.00\" xmlns=\"http://www.w3.org/2000/svg\" xmlns:xlink=\"http://www.w3.org/1999/xlink\">\n",
       "<g id=\"graph0\" class=\"graph\" transform=\"scale(1 1) rotate(0) translate(4 40)\">\n",
       "<polygon fill=\"white\" stroke=\"none\" points=\"-4,4 -4,-40 389,-40 389,4 -4,4\"/>\n",
       "<!-- input -->\n",
       "<g id=\"node1\" class=\"node\">\n",
       "<title>input</title>\n",
       "<polygon fill=\"white\" stroke=\"none\" points=\"61.75,-36 0,-36 0,0 61.75,0 61.75,-36\"/>\n",
       "<text xml:space=\"preserve\" text-anchor=\"middle\" x=\"30.88\" y=\"-13.32\" font-family=\"Raleway\" font-size=\"14.00\" fill=\"darkgreen\">Input ✔</text>\n",
       "</g>\n",
       "<!-- s1 -->\n",
       "<g id=\"node2\" class=\"node\">\n",
       "<title>s1</title>\n",
       "<polygon fill=\"peachpuff\" stroke=\"darkgreen\" points=\"168.5,-36 97.75,-36 97.75,0 168.5,0 168.5,-36\"/>\n",
       "<text xml:space=\"preserve\" text-anchor=\"middle\" x=\"133.12\" y=\"-13.32\" font-family=\"Raleway\" font-size=\"14.00\" fill=\"darkgreen\">State 1 ✔</text>\n",
       "</g>\n",
       "<!-- input&#45;&gt;s1 -->\n",
       "<g id=\"edge1\" class=\"edge\">\n",
       "<title>input&#45;&gt;s1</title>\n",
       "<path fill=\"none\" stroke=\"black\" d=\"M61.68,-18C69.29,-18 77.66,-18 85.88,-18\"/>\n",
       "<polygon fill=\"black\" stroke=\"black\" points=\"85.8,-21.5 95.8,-18 85.8,-14.5 85.8,-21.5\"/>\n",
       "</g>\n",
       "<!-- s2 -->\n",
       "<g id=\"node3\" class=\"node\">\n",
       "<title>s2</title>\n",
       "<polygon fill=\"peachpuff\" stroke=\"#8b0000\" points=\"276.75,-36 204.5,-36 204.5,0 276.75,0 276.75,-36\"/>\n",
       "<text xml:space=\"preserve\" text-anchor=\"middle\" x=\"240.62\" y=\"-13.32\" font-family=\"Raleway\" font-size=\"14.00\" fill=\"#8b0000\">State 2 ✘</text>\n",
       "</g>\n",
       "<!-- s1&#45;&gt;s2 -->\n",
       "<g id=\"edge2\" class=\"edge\">\n",
       "<title>s1&#45;&gt;s2</title>\n",
       "<path fill=\"none\" stroke=\"black\" d=\"M168.96,-18C176.54,-18 184.68,-18 192.65,-18\"/>\n",
       "<polygon fill=\"black\" stroke=\"black\" points=\"192.59,-21.5 202.59,-18 192.59,-14.5 192.59,-21.5\"/>\n",
       "</g>\n",
       "<!-- s3 -->\n",
       "<g id=\"node4\" class=\"node\">\n",
       "<title>s3</title>\n",
       "<polygon fill=\"peachpuff\" stroke=\"#8b0000\" points=\"385,-36 312.75,-36 312.75,0 385,0 385,-36\"/>\n",
       "<text xml:space=\"preserve\" text-anchor=\"middle\" x=\"348.88\" y=\"-13.32\" font-family=\"Raleway\" font-size=\"14.00\" fill=\"#8b0000\">State 3 ✘</text>\n",
       "</g>\n",
       "<!-- s2&#45;&gt;s3 -->\n",
       "<g id=\"edge3\" class=\"edge\">\n",
       "<title>s2&#45;&gt;s3</title>\n",
       "<path fill=\"none\" stroke=\"black\" d=\"M277,-18C284.63,-18 292.81,-18 300.8,-18\"/>\n",
       "<polygon fill=\"black\" stroke=\"black\" points=\"300.77,-21.5 310.77,-18 300.77,-14.5 300.77,-21.5\"/>\n",
       "</g>\n",
       "</g>\n",
       "</svg>\n"
      ],
      "text/plain": [
       "<graphviz.graphs.Digraph at 0x10b92a580>"
      ]
     },
     "metadata": {},
     "output_type": "display_data"
    },
    {
     "data": {
      "image/svg+xml": [
       "<?xml version=\"1.0\" encoding=\"UTF-8\" standalone=\"no\"?>\n",
       "<!DOCTYPE svg PUBLIC \"-//W3C//DTD SVG 1.1//EN\"\n",
       " \"http://www.w3.org/Graphics/SVG/1.1/DTD/svg11.dtd\">\n",
       "<!-- Generated by graphviz version 14.0.2 (20251019.1705)\n",
       " -->\n",
       "<!-- Pages: 1 -->\n",
       "<svg width=\"502pt\" height=\"44pt\"\n",
       " viewBox=\"0.00 0.00 502.00 44.00\" xmlns=\"http://www.w3.org/2000/svg\" xmlns:xlink=\"http://www.w3.org/1999/xlink\">\n",
       "<g id=\"graph0\" class=\"graph\" transform=\"scale(1 1) rotate(0) translate(4 40)\">\n",
       "<polygon fill=\"white\" stroke=\"none\" points=\"-4,4 -4,-40 498,-40 498,4 -4,4\"/>\n",
       "<!-- input -->\n",
       "<g id=\"node1\" class=\"node\">\n",
       "<title>input</title>\n",
       "<polygon fill=\"white\" stroke=\"none\" points=\"61.75,-36 0,-36 0,0 61.75,0 61.75,-36\"/>\n",
       "<text xml:space=\"preserve\" text-anchor=\"middle\" x=\"30.88\" y=\"-13.32\" font-family=\"Raleway\" font-size=\"14.00\" fill=\"darkgreen\">Input ✔</text>\n",
       "</g>\n",
       "<!-- s1 -->\n",
       "<g id=\"node2\" class=\"node\">\n",
       "<title>s1</title>\n",
       "<polygon fill=\"peachpuff\" stroke=\"darkgreen\" points=\"168.5,-36 97.75,-36 97.75,0 168.5,0 168.5,-36\"/>\n",
       "<text xml:space=\"preserve\" text-anchor=\"middle\" x=\"133.12\" y=\"-13.32\" font-family=\"Raleway\" font-size=\"14.00\" fill=\"darkgreen\">State 1 ✔</text>\n",
       "</g>\n",
       "<!-- input&#45;&gt;s1 -->\n",
       "<g id=\"edge1\" class=\"edge\">\n",
       "<title>input&#45;&gt;s1</title>\n",
       "<path fill=\"none\" stroke=\"black\" d=\"M61.68,-18C69.29,-18 77.66,-18 85.88,-18\"/>\n",
       "<polygon fill=\"black\" stroke=\"black\" points=\"85.8,-21.5 95.8,-18 85.8,-14.5 85.8,-21.5\"/>\n",
       "</g>\n",
       "<!-- s2 -->\n",
       "<g id=\"node3\" class=\"node\">\n",
       "<title>s2</title>\n",
       "<polygon fill=\"peachpuff\" stroke=\"#8b0000\" points=\"276.75,-36 204.5,-36 204.5,0 276.75,0 276.75,-36\"/>\n",
       "<text xml:space=\"preserve\" text-anchor=\"middle\" x=\"240.62\" y=\"-13.32\" font-family=\"Raleway\" font-size=\"14.00\" fill=\"#8b0000\">State 2 ✘</text>\n",
       "</g>\n",
       "<!-- s1&#45;&gt;s2 -->\n",
       "<g id=\"edge2\" class=\"edge\">\n",
       "<title>s1&#45;&gt;s2</title>\n",
       "<path fill=\"none\" stroke=\"black\" d=\"M168.96,-18C176.54,-18 184.68,-18 192.65,-18\"/>\n",
       "<polygon fill=\"black\" stroke=\"black\" points=\"192.59,-21.5 202.59,-18 192.59,-14.5 192.59,-21.5\"/>\n",
       "</g>\n",
       "<!-- s3 -->\n",
       "<g id=\"node4\" class=\"node\">\n",
       "<title>s3</title>\n",
       "<polygon fill=\"peachpuff\" stroke=\"#8b0000\" points=\"385,-36 312.75,-36 312.75,0 385,0 385,-36\"/>\n",
       "<text xml:space=\"preserve\" text-anchor=\"middle\" x=\"348.88\" y=\"-13.32\" font-family=\"Raleway\" font-size=\"14.00\" fill=\"#8b0000\">State 3 ✘</text>\n",
       "</g>\n",
       "<!-- s2&#45;&gt;s3 -->\n",
       "<g id=\"edge3\" class=\"edge\">\n",
       "<title>s2&#45;&gt;s3</title>\n",
       "<path fill=\"none\" stroke=\"black\" d=\"M277,-18C284.63,-18 292.81,-18 300.8,-18\"/>\n",
       "<polygon fill=\"black\" stroke=\"black\" points=\"300.77,-21.5 310.77,-18 300.77,-14.5 300.77,-21.5\"/>\n",
       "</g>\n",
       "<!-- output -->\n",
       "<g id=\"node5\" class=\"node\">\n",
       "<title>output</title>\n",
       "<polygon fill=\"white\" stroke=\"none\" points=\"494,-36 421,-36 421,0 494,0 494,-36\"/>\n",
       "<text xml:space=\"preserve\" text-anchor=\"middle\" x=\"457.5\" y=\"-13.32\" font-family=\"Raleway\" font-size=\"14.00\" fill=\"#8b0000\">Output ✘</text>\n",
       "</g>\n",
       "<!-- s3&#45;&gt;output -->\n",
       "<g id=\"edge4\" class=\"edge\">\n",
       "<title>s3&#45;&gt;output</title>\n",
       "<path fill=\"none\" stroke=\"black\" d=\"M385.38,-18C393.2,-18 401.6,-18 409.79,-18\"/>\n",
       "<polygon fill=\"black\" stroke=\"black\" points=\"409.64,-21.5 419.64,-18 409.64,-14.5 409.64,-21.5\"/>\n",
       "</g>\n",
       "</g>\n",
       "</svg>\n"
      ],
      "text/plain": [
       "<graphviz.graphs.Digraph at 0x10b92a580>"
      ]
     },
     "metadata": {},
     "output_type": "display_data"
    }
   ],
   "source": [
    "# ignore\n",
    "for until in range(1, 6):\n",
    "    execution_diagram(show_steps=False, until=until, error_step=2)"
   ]
  },
  {
   "cell_type": "markdown",
   "metadata": {
    "slideshow": {
     "slide_type": "subslide"
    }
   },
   "source": [
    "Initially, the program state is still correct (✔). However, at some point in the execution, the state gets an _error_, also known as a *fault*. This fault – again an unwanted and unintended deviation from what is correct, right, or true – then propagates along the execution, until it becomes externally visible as a _failure_.\n",
    "(In reality, there are many, many more states than just this, but these would not fit in a diagram.)"
   ]
  },
  {
   "cell_type": "markdown",
   "metadata": {
    "slideshow": {
     "slide_type": "fragment"
    }
   },
   "source": [
    "How does a fault come to be? Each of these program states is produced by a _step_ in the program code. These steps take a state as input and produce another state as output. Technically speaking, the program inputs and outputs are also parts of the program state, so the input flows into the first step, and the output is the state produced by the last step."
   ]
  },
  {
   "cell_type": "code",
   "execution_count": 35,
   "metadata": {
    "execution": {
     "iopub.execute_input": "2025-10-26T17:46:28.830253Z",
     "iopub.status.busy": "2025-10-26T17:46:28.830131Z",
     "iopub.status.idle": "2025-10-26T17:46:30.708946Z",
     "shell.execute_reply": "2025-10-26T17:46:30.708611Z"
    },
    "slideshow": {
     "slide_type": "subslide"
    },
    "tags": [
     "remove-input"
    ]
   },
   "outputs": [
    {
     "data": {
      "image/svg+xml": [
       "<?xml version=\"1.0\" encoding=\"UTF-8\" standalone=\"no\"?>\n",
       "<!DOCTYPE svg PUBLIC \"-//W3C//DTD SVG 1.1//EN\"\n",
       " \"http://www.w3.org/Graphics/SVG/1.1/DTD/svg11.dtd\">\n",
       "<!-- Generated by graphviz version 14.0.2 (20251019.1705)\n",
       " -->\n",
       "<!-- Pages: 1 -->\n",
       "<svg width=\"70pt\" height=\"44pt\"\n",
       " viewBox=\"0.00 0.00 70.00 44.00\" xmlns=\"http://www.w3.org/2000/svg\" xmlns:xlink=\"http://www.w3.org/1999/xlink\">\n",
       "<g id=\"graph0\" class=\"graph\" transform=\"scale(1 1) rotate(0) translate(4 40)\">\n",
       "<polygon fill=\"white\" stroke=\"none\" points=\"-4,4 -4,-40 65.75,-40 65.75,4 -4,4\"/>\n",
       "<!-- input -->\n",
       "<g id=\"node1\" class=\"node\">\n",
       "<title>input</title>\n",
       "<polygon fill=\"white\" stroke=\"none\" points=\"61.75,-36 0,-36 0,0 61.75,0 61.75,-36\"/>\n",
       "<text xml:space=\"preserve\" text-anchor=\"middle\" x=\"30.88\" y=\"-13.32\" font-family=\"Raleway\" font-size=\"14.00\" fill=\"darkgreen\">Input ✔</text>\n",
       "</g>\n",
       "</g>\n",
       "</svg>\n"
      ],
      "text/plain": [
       "<graphviz.graphs.Digraph at 0x10b91b550>"
      ]
     },
     "metadata": {},
     "output_type": "display_data"
    },
    {
     "data": {
      "image/svg+xml": [
       "<?xml version=\"1.0\" encoding=\"UTF-8\" standalone=\"no\"?>\n",
       "<!DOCTYPE svg PUBLIC \"-//W3C//DTD SVG 1.1//EN\"\n",
       " \"http://www.w3.org/Graphics/SVG/1.1/DTD/svg11.dtd\">\n",
       "<!-- Generated by graphviz version 14.0.2 (20251019.1705)\n",
       " -->\n",
       "<!-- Pages: 1 -->\n",
       "<svg width=\"216pt\" height=\"44pt\"\n",
       " viewBox=\"0.00 0.00 216.00 44.00\" xmlns=\"http://www.w3.org/2000/svg\" xmlns:xlink=\"http://www.w3.org/1999/xlink\">\n",
       "<g id=\"graph0\" class=\"graph\" transform=\"scale(1 1) rotate(0) translate(4 40)\">\n",
       "<polygon fill=\"white\" stroke=\"none\" points=\"-4,4 -4,-40 212.25,-40 212.25,4 -4,4\"/>\n",
       "<!-- input -->\n",
       "<g id=\"node1\" class=\"node\">\n",
       "<title>input</title>\n",
       "<polygon fill=\"white\" stroke=\"none\" points=\"61.75,-36 0,-36 0,0 61.75,0 61.75,-36\"/>\n",
       "<text xml:space=\"preserve\" text-anchor=\"middle\" x=\"30.88\" y=\"-13.32\" font-family=\"Raleway\" font-size=\"14.00\" fill=\"darkgreen\">Input ✔</text>\n",
       "</g>\n",
       "<!-- s1 -->\n",
       "<g id=\"node2\" class=\"node\">\n",
       "<title>s1</title>\n",
       "<polygon fill=\"peachpuff\" stroke=\"darkgreen\" points=\"208.25,-36 137.5,-36 137.5,0 208.25,0 208.25,-36\"/>\n",
       "<text xml:space=\"preserve\" text-anchor=\"middle\" x=\"172.88\" y=\"-13.32\" font-family=\"Raleway\" font-size=\"14.00\" fill=\"darkgreen\">State 1 ✔</text>\n",
       "</g>\n",
       "<!-- input&#45;&gt;s1 -->\n",
       "<g id=\"edge1\" class=\"edge\">\n",
       "<title>input&#45;&gt;s1</title>\n",
       "<path fill=\"none\" stroke=\"black\" d=\"M61.57,-18C80.19,-18 104.59,-18 125.7,-18\"/>\n",
       "<polygon fill=\"black\" stroke=\"black\" points=\"125.52,-21.5 135.52,-18 125.52,-14.5 125.52,-21.5\"/>\n",
       "<text xml:space=\"preserve\" text-anchor=\"middle\" x=\"99.62\" y=\"-21.95\" font-family=\"Raleway\" font-size=\"14.00\">Step 1</text>\n",
       "</g>\n",
       "</g>\n",
       "</svg>\n"
      ],
      "text/plain": [
       "<graphviz.graphs.Digraph at 0x10b91b550>"
      ]
     },
     "metadata": {},
     "output_type": "display_data"
    },
    {
     "data": {
      "image/svg+xml": [
       "<?xml version=\"1.0\" encoding=\"UTF-8\" standalone=\"no\"?>\n",
       "<!DOCTYPE svg PUBLIC \"-//W3C//DTD SVG 1.1//EN\"\n",
       " \"http://www.w3.org/Graphics/SVG/1.1/DTD/svg11.dtd\">\n",
       "<!-- Generated by graphviz version 14.0.2 (20251019.1705)\n",
       " -->\n",
       "<!-- Pages: 1 -->\n",
       "<svg width=\"378pt\" height=\"44pt\"\n",
       " viewBox=\"0.00 0.00 378.00 44.00\" xmlns=\"http://www.w3.org/2000/svg\" xmlns:xlink=\"http://www.w3.org/1999/xlink\">\n",
       "<g id=\"graph0\" class=\"graph\" transform=\"scale(1 1) rotate(0) translate(4 40)\">\n",
       "<polygon fill=\"white\" stroke=\"none\" points=\"-4,4 -4,-40 373.75,-40 373.75,4 -4,4\"/>\n",
       "<!-- input -->\n",
       "<g id=\"node1\" class=\"node\">\n",
       "<title>input</title>\n",
       "<polygon fill=\"white\" stroke=\"none\" points=\"61.75,-36 0,-36 0,0 61.75,0 61.75,-36\"/>\n",
       "<text xml:space=\"preserve\" text-anchor=\"middle\" x=\"30.88\" y=\"-13.32\" font-family=\"Raleway\" font-size=\"14.00\" fill=\"darkgreen\">Input ✔</text>\n",
       "</g>\n",
       "<!-- s1 -->\n",
       "<g id=\"node2\" class=\"node\">\n",
       "<title>s1</title>\n",
       "<polygon fill=\"peachpuff\" stroke=\"darkgreen\" points=\"208.25,-36 137.5,-36 137.5,0 208.25,0 208.25,-36\"/>\n",
       "<text xml:space=\"preserve\" text-anchor=\"middle\" x=\"172.88\" y=\"-13.32\" font-family=\"Raleway\" font-size=\"14.00\" fill=\"darkgreen\">State 1 ✔</text>\n",
       "</g>\n",
       "<!-- input&#45;&gt;s1 -->\n",
       "<g id=\"edge1\" class=\"edge\">\n",
       "<title>input&#45;&gt;s1</title>\n",
       "<path fill=\"none\" stroke=\"black\" d=\"M61.57,-18C80.19,-18 104.59,-18 125.7,-18\"/>\n",
       "<polygon fill=\"black\" stroke=\"black\" points=\"125.52,-21.5 135.52,-18 125.52,-14.5 125.52,-21.5\"/>\n",
       "<text xml:space=\"preserve\" text-anchor=\"middle\" x=\"99.62\" y=\"-21.95\" font-family=\"Raleway\" font-size=\"14.00\">Step 1</text>\n",
       "</g>\n",
       "<!-- s2 -->\n",
       "<g id=\"node3\" class=\"node\">\n",
       "<title>s2</title>\n",
       "<polygon fill=\"peachpuff\" stroke=\"#8b0000\" points=\"369.75,-36 297.5,-36 297.5,0 369.75,0 369.75,-36\"/>\n",
       "<text xml:space=\"preserve\" text-anchor=\"middle\" x=\"333.62\" y=\"-13.32\" font-family=\"Raleway\" font-size=\"14.00\" fill=\"#8b0000\">State 2 ✘</text>\n",
       "</g>\n",
       "<!-- s1&#45;&gt;s2 -->\n",
       "<g id=\"edge2\" class=\"edge\">\n",
       "<title>s1&#45;&gt;s2</title>\n",
       "<path fill=\"none\" stroke=\"black\" d=\"M208.71,-18C231.33,-18 261.07,-18 285.75,-18\"/>\n",
       "<polygon fill=\"black\" stroke=\"black\" points=\"285.53,-21.5 295.53,-18 285.53,-14.5 285.53,-21.5\"/>\n",
       "<text xml:space=\"preserve\" text-anchor=\"middle\" x=\"252.88\" y=\"-21.95\" font-family=\"Raleway\" font-size=\"14.00\" fill=\"#8b0000\">Step 2 ✘</text>\n",
       "</g>\n",
       "</g>\n",
       "</svg>\n"
      ],
      "text/plain": [
       "<graphviz.graphs.Digraph at 0x10a187110>"
      ]
     },
     "metadata": {},
     "output_type": "display_data"
    },
    {
     "data": {
      "image/svg+xml": [
       "<?xml version=\"1.0\" encoding=\"UTF-8\" standalone=\"no\"?>\n",
       "<!DOCTYPE svg PUBLIC \"-//W3C//DTD SVG 1.1//EN\"\n",
       " \"http://www.w3.org/Graphics/SVG/1.1/DTD/svg11.dtd\">\n",
       "<!-- Generated by graphviz version 14.0.2 (20251019.1705)\n",
       " -->\n",
       "<!-- Pages: 1 -->\n",
       "<svg width=\"527pt\" height=\"44pt\"\n",
       " viewBox=\"0.00 0.00 527.00 44.00\" xmlns=\"http://www.w3.org/2000/svg\" xmlns:xlink=\"http://www.w3.org/1999/xlink\">\n",
       "<g id=\"graph0\" class=\"graph\" transform=\"scale(1 1) rotate(0) translate(4 40)\">\n",
       "<polygon fill=\"white\" stroke=\"none\" points=\"-4,4 -4,-40 523.25,-40 523.25,4 -4,4\"/>\n",
       "<!-- input -->\n",
       "<g id=\"node1\" class=\"node\">\n",
       "<title>input</title>\n",
       "<polygon fill=\"white\" stroke=\"none\" points=\"61.75,-36 0,-36 0,0 61.75,0 61.75,-36\"/>\n",
       "<text xml:space=\"preserve\" text-anchor=\"middle\" x=\"30.88\" y=\"-13.32\" font-family=\"Raleway\" font-size=\"14.00\" fill=\"darkgreen\">Input ✔</text>\n",
       "</g>\n",
       "<!-- s1 -->\n",
       "<g id=\"node2\" class=\"node\">\n",
       "<title>s1</title>\n",
       "<polygon fill=\"peachpuff\" stroke=\"darkgreen\" points=\"208.25,-36 137.5,-36 137.5,0 208.25,0 208.25,-36\"/>\n",
       "<text xml:space=\"preserve\" text-anchor=\"middle\" x=\"172.88\" y=\"-13.32\" font-family=\"Raleway\" font-size=\"14.00\" fill=\"darkgreen\">State 1 ✔</text>\n",
       "</g>\n",
       "<!-- input&#45;&gt;s1 -->\n",
       "<g id=\"edge1\" class=\"edge\">\n",
       "<title>input&#45;&gt;s1</title>\n",
       "<path fill=\"none\" stroke=\"black\" d=\"M61.57,-18C80.19,-18 104.59,-18 125.7,-18\"/>\n",
       "<polygon fill=\"black\" stroke=\"black\" points=\"125.52,-21.5 135.52,-18 125.52,-14.5 125.52,-21.5\"/>\n",
       "<text xml:space=\"preserve\" text-anchor=\"middle\" x=\"99.62\" y=\"-21.95\" font-family=\"Raleway\" font-size=\"14.00\">Step 1</text>\n",
       "</g>\n",
       "<!-- s2 -->\n",
       "<g id=\"node3\" class=\"node\">\n",
       "<title>s2</title>\n",
       "<polygon fill=\"peachpuff\" stroke=\"#8b0000\" points=\"369.75,-36 297.5,-36 297.5,0 369.75,0 369.75,-36\"/>\n",
       "<text xml:space=\"preserve\" text-anchor=\"middle\" x=\"333.62\" y=\"-13.32\" font-family=\"Raleway\" font-size=\"14.00\" fill=\"#8b0000\">State 2 ✘</text>\n",
       "</g>\n",
       "<!-- s1&#45;&gt;s2 -->\n",
       "<g id=\"edge2\" class=\"edge\">\n",
       "<title>s1&#45;&gt;s2</title>\n",
       "<path fill=\"none\" stroke=\"black\" d=\"M208.71,-18C231.33,-18 261.07,-18 285.75,-18\"/>\n",
       "<polygon fill=\"black\" stroke=\"black\" points=\"285.53,-21.5 295.53,-18 285.53,-14.5 285.53,-21.5\"/>\n",
       "<text xml:space=\"preserve\" text-anchor=\"middle\" x=\"252.88\" y=\"-21.95\" font-family=\"Raleway\" font-size=\"14.00\" fill=\"#8b0000\">Step 2 ✘</text>\n",
       "</g>\n",
       "<!-- s3 -->\n",
       "<g id=\"node4\" class=\"node\">\n",
       "<title>s3</title>\n",
       "<polygon fill=\"peachpuff\" stroke=\"#8b0000\" points=\"519.25,-36 447,-36 447,0 519.25,0 519.25,-36\"/>\n",
       "<text xml:space=\"preserve\" text-anchor=\"middle\" x=\"483.12\" y=\"-13.32\" font-family=\"Raleway\" font-size=\"14.00\" fill=\"#8b0000\">State 3 ✘</text>\n",
       "</g>\n",
       "<!-- s2&#45;&gt;s3 -->\n",
       "<g id=\"edge3\" class=\"edge\">\n",
       "<title>s2&#45;&gt;s3</title>\n",
       "<path fill=\"none\" stroke=\"black\" d=\"M369.95,-18C389.51,-18 414.08,-18 435.23,-18\"/>\n",
       "<polygon fill=\"black\" stroke=\"black\" points=\"435.06,-21.5 445.06,-18 435.06,-14.5 435.06,-21.5\"/>\n",
       "<text xml:space=\"preserve\" text-anchor=\"middle\" x=\"408.38\" y=\"-21.95\" font-family=\"Raleway\" font-size=\"14.00\">Step 3</text>\n",
       "</g>\n",
       "</g>\n",
       "</svg>\n"
      ],
      "text/plain": [
       "<graphviz.graphs.Digraph at 0x10a187110>"
      ]
     },
     "metadata": {},
     "output_type": "display_data"
    },
    {
     "data": {
      "image/svg+xml": [
       "<?xml version=\"1.0\" encoding=\"UTF-8\" standalone=\"no\"?>\n",
       "<!DOCTYPE svg PUBLIC \"-//W3C//DTD SVG 1.1//EN\"\n",
       " \"http://www.w3.org/Graphics/SVG/1.1/DTD/svg11.dtd\">\n",
       "<!-- Generated by graphviz version 14.0.2 (20251019.1705)\n",
       " -->\n",
       "<!-- Pages: 1 -->\n",
       "<svg width=\"637pt\" height=\"44pt\"\n",
       " viewBox=\"0.00 0.00 637.00 44.00\" xmlns=\"http://www.w3.org/2000/svg\" xmlns:xlink=\"http://www.w3.org/1999/xlink\">\n",
       "<g id=\"graph0\" class=\"graph\" transform=\"scale(1 1) rotate(0) translate(4 40)\">\n",
       "<polygon fill=\"white\" stroke=\"none\" points=\"-4,4 -4,-40 633.25,-40 633.25,4 -4,4\"/>\n",
       "<!-- input -->\n",
       "<g id=\"node1\" class=\"node\">\n",
       "<title>input</title>\n",
       "<polygon fill=\"white\" stroke=\"none\" points=\"61.75,-36 0,-36 0,0 61.75,0 61.75,-36\"/>\n",
       "<text xml:space=\"preserve\" text-anchor=\"middle\" x=\"30.88\" y=\"-13.32\" font-family=\"Raleway\" font-size=\"14.00\" fill=\"darkgreen\">Input ✔</text>\n",
       "</g>\n",
       "<!-- s1 -->\n",
       "<g id=\"node2\" class=\"node\">\n",
       "<title>s1</title>\n",
       "<polygon fill=\"peachpuff\" stroke=\"darkgreen\" points=\"208.25,-36 137.5,-36 137.5,0 208.25,0 208.25,-36\"/>\n",
       "<text xml:space=\"preserve\" text-anchor=\"middle\" x=\"172.88\" y=\"-13.32\" font-family=\"Raleway\" font-size=\"14.00\" fill=\"darkgreen\">State 1 ✔</text>\n",
       "</g>\n",
       "<!-- input&#45;&gt;s1 -->\n",
       "<g id=\"edge1\" class=\"edge\">\n",
       "<title>input&#45;&gt;s1</title>\n",
       "<path fill=\"none\" stroke=\"black\" d=\"M61.57,-18C80.19,-18 104.59,-18 125.7,-18\"/>\n",
       "<polygon fill=\"black\" stroke=\"black\" points=\"125.52,-21.5 135.52,-18 125.52,-14.5 125.52,-21.5\"/>\n",
       "<text xml:space=\"preserve\" text-anchor=\"middle\" x=\"99.62\" y=\"-21.95\" font-family=\"Raleway\" font-size=\"14.00\">Step 1</text>\n",
       "</g>\n",
       "<!-- s2 -->\n",
       "<g id=\"node3\" class=\"node\">\n",
       "<title>s2</title>\n",
       "<polygon fill=\"peachpuff\" stroke=\"#8b0000\" points=\"369.75,-36 297.5,-36 297.5,0 369.75,0 369.75,-36\"/>\n",
       "<text xml:space=\"preserve\" text-anchor=\"middle\" x=\"333.62\" y=\"-13.32\" font-family=\"Raleway\" font-size=\"14.00\" fill=\"#8b0000\">State 2 ✘</text>\n",
       "</g>\n",
       "<!-- s1&#45;&gt;s2 -->\n",
       "<g id=\"edge2\" class=\"edge\">\n",
       "<title>s1&#45;&gt;s2</title>\n",
       "<path fill=\"none\" stroke=\"black\" d=\"M208.71,-18C231.33,-18 261.07,-18 285.75,-18\"/>\n",
       "<polygon fill=\"black\" stroke=\"black\" points=\"285.53,-21.5 295.53,-18 285.53,-14.5 285.53,-21.5\"/>\n",
       "<text xml:space=\"preserve\" text-anchor=\"middle\" x=\"252.88\" y=\"-21.95\" font-family=\"Raleway\" font-size=\"14.00\" fill=\"#8b0000\">Step 2 ✘</text>\n",
       "</g>\n",
       "<!-- s3 -->\n",
       "<g id=\"node4\" class=\"node\">\n",
       "<title>s3</title>\n",
       "<polygon fill=\"peachpuff\" stroke=\"#8b0000\" points=\"519.25,-36 447,-36 447,0 519.25,0 519.25,-36\"/>\n",
       "<text xml:space=\"preserve\" text-anchor=\"middle\" x=\"483.12\" y=\"-13.32\" font-family=\"Raleway\" font-size=\"14.00\" fill=\"#8b0000\">State 3 ✘</text>\n",
       "</g>\n",
       "<!-- s2&#45;&gt;s3 -->\n",
       "<g id=\"edge3\" class=\"edge\">\n",
       "<title>s2&#45;&gt;s3</title>\n",
       "<path fill=\"none\" stroke=\"black\" d=\"M369.95,-18C389.51,-18 414.08,-18 435.23,-18\"/>\n",
       "<polygon fill=\"black\" stroke=\"black\" points=\"435.06,-21.5 445.06,-18 435.06,-14.5 435.06,-21.5\"/>\n",
       "<text xml:space=\"preserve\" text-anchor=\"middle\" x=\"408.38\" y=\"-21.95\" font-family=\"Raleway\" font-size=\"14.00\">Step 3</text>\n",
       "</g>\n",
       "<!-- output -->\n",
       "<g id=\"node5\" class=\"node\">\n",
       "<title>output</title>\n",
       "<polygon fill=\"white\" stroke=\"none\" points=\"629.25,-36 556.25,-36 556.25,0 629.25,0 629.25,-36\"/>\n",
       "<text xml:space=\"preserve\" text-anchor=\"middle\" x=\"592.75\" y=\"-13.32\" font-family=\"Raleway\" font-size=\"14.00\" fill=\"#8b0000\">Output ✘</text>\n",
       "</g>\n",
       "<!-- s3&#45;&gt;output -->\n",
       "<g id=\"edge4\" class=\"edge\">\n",
       "<title>s3&#45;&gt;output</title>\n",
       "<path fill=\"none\" stroke=\"black\" d=\"M519.66,-18C527.83,-18 536.63,-18 545.19,-18\"/>\n",
       "<polygon fill=\"black\" stroke=\"black\" points=\"545.1,-21.5 555.1,-18 545.1,-14.5 545.1,-21.5\"/>\n",
       "</g>\n",
       "</g>\n",
       "</svg>\n"
      ],
      "text/plain": [
       "<graphviz.graphs.Digraph at 0x10b86faf0>"
      ]
     },
     "metadata": {},
     "output_type": "display_data"
    }
   ],
   "source": [
    "# ignore\n",
    "for until in range(1, 6):\n",
    "    execution_diagram(show_steps=True, until=until, error_step=2)"
   ]
  },
  {
   "cell_type": "markdown",
   "metadata": {
    "slideshow": {
     "slide_type": "fragment"
    }
   },
   "source": [
    "Now, in the diagram above, Step 2 gets a _correct_ state as input and produces a _faulty_ state as output. The produced fault then propagates across more steps to finally become visible as a _failure_."
   ]
  },
  {
   "cell_type": "markdown",
   "metadata": {
    "slideshow": {
     "slide_type": "subslide"
    }
   },
   "source": [
    "The goal of debugging thus is to _search_ for the step in which the state first becomes faulty. The _code_ associated with this step is again an error – an unwanted and unintended deviation from what is correct, right, or true – and is called a _defect_. This is what we have to find – and to fix."
   ]
  },
  {
   "cell_type": "markdown",
   "metadata": {
    "slideshow": {
     "slide_type": "fragment"
    }
   },
   "source": [
    "Sounds easy, right? Unfortunately, things are not that easy, and that has something to do with the program state. Let us assume our state consists of three variables, `var1` to `var3`, and that Step 2 produces a fault in `var2`. This fault then propagates to the output:"
   ]
  },
  {
   "cell_type": "code",
   "execution_count": 36,
   "metadata": {
    "execution": {
     "iopub.execute_input": "2025-10-26T17:46:30.710793Z",
     "iopub.status.busy": "2025-10-26T17:46:30.710667Z",
     "iopub.status.idle": "2025-10-26T17:46:32.810607Z",
     "shell.execute_reply": "2025-10-26T17:46:32.810200Z"
    },
    "slideshow": {
     "slide_type": "subslide"
    },
    "tags": [
     "remove-input"
    ]
   },
   "outputs": [
    {
     "data": {
      "image/svg+xml": [
       "<?xml version=\"1.0\" encoding=\"UTF-8\" standalone=\"no\"?>\n",
       "<!DOCTYPE svg PUBLIC \"-//W3C//DTD SVG 1.1//EN\"\n",
       " \"http://www.w3.org/Graphics/SVG/1.1/DTD/svg11.dtd\">\n",
       "<!-- Generated by graphviz version 14.0.2 (20251019.1705)\n",
       " -->\n",
       "<!-- Pages: 1 -->\n",
       "<svg width=\"70pt\" height=\"44pt\"\n",
       " viewBox=\"0.00 0.00 70.00 44.00\" xmlns=\"http://www.w3.org/2000/svg\" xmlns:xlink=\"http://www.w3.org/1999/xlink\">\n",
       "<g id=\"graph0\" class=\"graph\" transform=\"scale(1 1) rotate(0) translate(4 40)\">\n",
       "<polygon fill=\"white\" stroke=\"none\" points=\"-4,4 -4,-40 65.75,-40 65.75,4 -4,4\"/>\n",
       "<!-- input -->\n",
       "<g id=\"node1\" class=\"node\">\n",
       "<title>input</title>\n",
       "<polygon fill=\"white\" stroke=\"none\" points=\"61.75,-36 0,-36 0,0 61.75,0 61.75,-36\"/>\n",
       "<text xml:space=\"preserve\" text-anchor=\"middle\" x=\"30.88\" y=\"-13.32\" font-family=\"Raleway\" font-size=\"14.00\" fill=\"darkgreen\">Input ✔</text>\n",
       "</g>\n",
       "</g>\n",
       "</svg>\n"
      ],
      "text/plain": [
       "<graphviz.graphs.Digraph at 0x10b86faf0>"
      ]
     },
     "metadata": {},
     "output_type": "display_data"
    },
    {
     "data": {
      "image/svg+xml": [
       "<?xml version=\"1.0\" encoding=\"UTF-8\" standalone=\"no\"?>\n",
       "<!DOCTYPE svg PUBLIC \"-//W3C//DTD SVG 1.1//EN\"\n",
       " \"http://www.w3.org/Graphics/SVG/1.1/DTD/svg11.dtd\">\n",
       "<!-- Generated by graphviz version 14.0.2 (20251019.1705)\n",
       " -->\n",
       "<!-- Pages: 1 -->\n",
       "<svg width=\"200pt\" height=\"85pt\"\n",
       " viewBox=\"0.00 0.00 200.00 85.00\" xmlns=\"http://www.w3.org/2000/svg\" xmlns:xlink=\"http://www.w3.org/1999/xlink\">\n",
       "<g id=\"graph0\" class=\"graph\" transform=\"scale(1 1) rotate(0) translate(4 80.75)\">\n",
       "<polygon fill=\"white\" stroke=\"none\" points=\"-4,4 -4,-80.75 195.5,-80.75 195.5,4 -4,4\"/>\n",
       "<!-- input -->\n",
       "<g id=\"node1\" class=\"node\">\n",
       "<title>input</title>\n",
       "<polygon fill=\"white\" stroke=\"none\" points=\"61.75,-56.38 0,-56.38 0,-20.38 61.75,-20.38 61.75,-56.38\"/>\n",
       "<text xml:space=\"preserve\" text-anchor=\"middle\" x=\"30.88\" y=\"-33.7\" font-family=\"Raleway\" font-size=\"14.00\" fill=\"darkgreen\">Input ✔</text>\n",
       "</g>\n",
       "<!-- s1 -->\n",
       "<g id=\"node2\" class=\"node\">\n",
       "<title>s1</title>\n",
       "<polygon fill=\"peachpuff\" stroke=\"darkgreen\" points=\"137.5,-0.5 137.5,-76.25 191.5,-76.25 191.5,-0.5 137.5,-0.5\"/>\n",
       "<text xml:space=\"preserve\" text-anchor=\"middle\" x=\"164.5\" y=\"-58.95\" font-family=\"Raleway\" font-size=\"14.00\" fill=\"darkgreen\">var1</text>\n",
       "<polyline fill=\"none\" stroke=\"darkgreen\" points=\"137.5,-51 191.5,-51\"/>\n",
       "<text xml:space=\"preserve\" text-anchor=\"middle\" x=\"164.5\" y=\"-33.7\" font-family=\"Raleway\" font-size=\"14.00\" fill=\"darkgreen\">var2</text>\n",
       "<polyline fill=\"none\" stroke=\"darkgreen\" points=\"137.5,-25.75 191.5,-25.75\"/>\n",
       "<text xml:space=\"preserve\" text-anchor=\"middle\" x=\"164.5\" y=\"-8.45\" font-family=\"Raleway\" font-size=\"14.00\" fill=\"darkgreen\">var3</text>\n",
       "</g>\n",
       "<!-- input&#45;&gt;s1 -->\n",
       "<g id=\"edge1\" class=\"edge\">\n",
       "<title>input&#45;&gt;s1</title>\n",
       "<path fill=\"none\" stroke=\"black\" d=\"M61.74,-38.38C80.76,-38.38 105.56,-38.38 125.92,-38.38\"/>\n",
       "<polygon fill=\"black\" stroke=\"black\" points=\"125.8,-41.88 135.8,-38.38 125.8,-34.88 125.8,-41.88\"/>\n",
       "<text xml:space=\"preserve\" text-anchor=\"middle\" x=\"99.62\" y=\"-42.33\" font-family=\"Raleway\" font-size=\"14.00\">Step 1</text>\n",
       "</g>\n",
       "</g>\n",
       "</svg>\n"
      ],
      "text/plain": [
       "<graphviz.graphs.Digraph at 0x10ba69b20>"
      ]
     },
     "metadata": {},
     "output_type": "display_data"
    },
    {
     "data": {
      "image/svg+xml": [
       "<?xml version=\"1.0\" encoding=\"UTF-8\" standalone=\"no\"?>\n",
       "<!DOCTYPE svg PUBLIC \"-//W3C//DTD SVG 1.1//EN\"\n",
       " \"http://www.w3.org/Graphics/SVG/1.1/DTD/svg11.dtd\">\n",
       "<!-- Generated by graphviz version 14.0.2 (20251019.1705)\n",
       " -->\n",
       "<!-- Pages: 1 -->\n",
       "<svg width=\"345pt\" height=\"85pt\"\n",
       " viewBox=\"0.00 0.00 345.00 85.00\" xmlns=\"http://www.w3.org/2000/svg\" xmlns:xlink=\"http://www.w3.org/1999/xlink\">\n",
       "<g id=\"graph0\" class=\"graph\" transform=\"scale(1 1) rotate(0) translate(4 80.75)\">\n",
       "<polygon fill=\"white\" stroke=\"none\" points=\"-4,4 -4,-80.75 340.5,-80.75 340.5,4 -4,4\"/>\n",
       "<!-- input -->\n",
       "<g id=\"node1\" class=\"node\">\n",
       "<title>input</title>\n",
       "<polygon fill=\"white\" stroke=\"none\" points=\"61.75,-56.38 0,-56.38 0,-20.38 61.75,-20.38 61.75,-56.38\"/>\n",
       "<text xml:space=\"preserve\" text-anchor=\"middle\" x=\"30.88\" y=\"-33.7\" font-family=\"Raleway\" font-size=\"14.00\" fill=\"darkgreen\">Input ✔</text>\n",
       "</g>\n",
       "<!-- s1 -->\n",
       "<g id=\"node2\" class=\"node\">\n",
       "<title>s1</title>\n",
       "<polygon fill=\"peachpuff\" stroke=\"darkgreen\" points=\"137.5,-0.5 137.5,-76.25 191.5,-76.25 191.5,-0.5 137.5,-0.5\"/>\n",
       "<text xml:space=\"preserve\" text-anchor=\"middle\" x=\"164.5\" y=\"-58.95\" font-family=\"Raleway\" font-size=\"14.00\" fill=\"darkgreen\">var1</text>\n",
       "<polyline fill=\"none\" stroke=\"darkgreen\" points=\"137.5,-51 191.5,-51\"/>\n",
       "<text xml:space=\"preserve\" text-anchor=\"middle\" x=\"164.5\" y=\"-33.7\" font-family=\"Raleway\" font-size=\"14.00\" fill=\"darkgreen\">var2</text>\n",
       "<polyline fill=\"none\" stroke=\"darkgreen\" points=\"137.5,-25.75 191.5,-25.75\"/>\n",
       "<text xml:space=\"preserve\" text-anchor=\"middle\" x=\"164.5\" y=\"-8.45\" font-family=\"Raleway\" font-size=\"14.00\" fill=\"darkgreen\">var3</text>\n",
       "</g>\n",
       "<!-- input&#45;&gt;s1 -->\n",
       "<g id=\"edge1\" class=\"edge\">\n",
       "<title>input&#45;&gt;s1</title>\n",
       "<path fill=\"none\" stroke=\"black\" d=\"M61.74,-38.38C80.76,-38.38 105.56,-38.38 125.92,-38.38\"/>\n",
       "<polygon fill=\"black\" stroke=\"black\" points=\"125.8,-41.88 135.8,-38.38 125.8,-34.88 125.8,-41.88\"/>\n",
       "<text xml:space=\"preserve\" text-anchor=\"middle\" x=\"99.62\" y=\"-42.33\" font-family=\"Raleway\" font-size=\"14.00\">Step 1</text>\n",
       "</g>\n",
       "<!-- s2 -->\n",
       "<g id=\"node3\" class=\"node\">\n",
       "<title>s2</title>\n",
       "<polygon fill=\"peachpuff\" stroke=\"#8b0000\" points=\"280.75,-0.5 280.75,-76.25 336.5,-76.25 336.5,-0.5 280.75,-0.5\"/>\n",
       "<text xml:space=\"preserve\" text-anchor=\"middle\" x=\"308.62\" y=\"-58.95\" font-family=\"Raleway\" font-size=\"14.00\" fill=\"#8b0000\">var1</text>\n",
       "<polyline fill=\"none\" stroke=\"#8b0000\" points=\"280.75,-51 336.5,-51\"/>\n",
       "<text xml:space=\"preserve\" text-anchor=\"middle\" x=\"308.62\" y=\"-33.7\" font-family=\"Raleway\" font-size=\"14.00\" fill=\"#8b0000\">var2 ✘</text>\n",
       "<polyline fill=\"none\" stroke=\"#8b0000\" points=\"280.75,-25.75 336.5,-25.75\"/>\n",
       "<text xml:space=\"preserve\" text-anchor=\"middle\" x=\"308.62\" y=\"-8.45\" font-family=\"Raleway\" font-size=\"14.00\" fill=\"#8b0000\">var3</text>\n",
       "</g>\n",
       "<!-- s1&#45;&gt;s2 -->\n",
       "<g id=\"edge2\" class=\"edge\">\n",
       "<title>s1&#45;&gt;s2:var2</title>\n",
       "<path fill=\"none\" stroke=\"black\" d=\"M191.59,-38.38C212.12,-38.38 241.79,-38.38 269.46,-38.38\"/>\n",
       "<polygon fill=\"black\" stroke=\"black\" points=\"269.24,-41.88 279.24,-38.38 269.24,-34.88 269.24,-41.88\"/>\n",
       "<text xml:space=\"preserve\" text-anchor=\"middle\" x=\"236.12\" y=\"-42.33\" font-family=\"Raleway\" font-size=\"14.00\" fill=\"#8b0000\">Step 2 ✘</text>\n",
       "</g>\n",
       "</g>\n",
       "</svg>\n"
      ],
      "text/plain": [
       "<graphviz.graphs.Digraph at 0x10b805d90>"
      ]
     },
     "metadata": {},
     "output_type": "display_data"
    },
    {
     "data": {
      "image/svg+xml": [
       "<?xml version=\"1.0\" encoding=\"UTF-8\" standalone=\"no\"?>\n",
       "<!DOCTYPE svg PUBLIC \"-//W3C//DTD SVG 1.1//EN\"\n",
       " \"http://www.w3.org/Graphics/SVG/1.1/DTD/svg11.dtd\">\n",
       "<!-- Generated by graphviz version 14.0.2 (20251019.1705)\n",
       " -->\n",
       "<!-- Pages: 1 -->\n",
       "<svg width=\"478pt\" height=\"85pt\"\n",
       " viewBox=\"0.00 0.00 478.00 85.00\" xmlns=\"http://www.w3.org/2000/svg\" xmlns:xlink=\"http://www.w3.org/1999/xlink\">\n",
       "<g id=\"graph0\" class=\"graph\" transform=\"scale(1 1) rotate(0) translate(4 80.75)\">\n",
       "<polygon fill=\"white\" stroke=\"none\" points=\"-4,4 -4,-80.75 473.5,-80.75 473.5,4 -4,4\"/>\n",
       "<!-- input -->\n",
       "<g id=\"node1\" class=\"node\">\n",
       "<title>input</title>\n",
       "<polygon fill=\"white\" stroke=\"none\" points=\"61.75,-56.38 0,-56.38 0,-20.38 61.75,-20.38 61.75,-56.38\"/>\n",
       "<text xml:space=\"preserve\" text-anchor=\"middle\" x=\"30.88\" y=\"-33.7\" font-family=\"Raleway\" font-size=\"14.00\" fill=\"darkgreen\">Input ✔</text>\n",
       "</g>\n",
       "<!-- s1 -->\n",
       "<g id=\"node2\" class=\"node\">\n",
       "<title>s1</title>\n",
       "<polygon fill=\"peachpuff\" stroke=\"darkgreen\" points=\"137.5,-0.5 137.5,-76.25 191.5,-76.25 191.5,-0.5 137.5,-0.5\"/>\n",
       "<text xml:space=\"preserve\" text-anchor=\"middle\" x=\"164.5\" y=\"-58.95\" font-family=\"Raleway\" font-size=\"14.00\" fill=\"darkgreen\">var1</text>\n",
       "<polyline fill=\"none\" stroke=\"darkgreen\" points=\"137.5,-51 191.5,-51\"/>\n",
       "<text xml:space=\"preserve\" text-anchor=\"middle\" x=\"164.5\" y=\"-33.7\" font-family=\"Raleway\" font-size=\"14.00\" fill=\"darkgreen\">var2</text>\n",
       "<polyline fill=\"none\" stroke=\"darkgreen\" points=\"137.5,-25.75 191.5,-25.75\"/>\n",
       "<text xml:space=\"preserve\" text-anchor=\"middle\" x=\"164.5\" y=\"-8.45\" font-family=\"Raleway\" font-size=\"14.00\" fill=\"darkgreen\">var3</text>\n",
       "</g>\n",
       "<!-- input&#45;&gt;s1 -->\n",
       "<g id=\"edge1\" class=\"edge\">\n",
       "<title>input&#45;&gt;s1</title>\n",
       "<path fill=\"none\" stroke=\"black\" d=\"M61.74,-38.38C80.76,-38.38 105.56,-38.38 125.92,-38.38\"/>\n",
       "<polygon fill=\"black\" stroke=\"black\" points=\"125.8,-41.88 135.8,-38.38 125.8,-34.88 125.8,-41.88\"/>\n",
       "<text xml:space=\"preserve\" text-anchor=\"middle\" x=\"99.62\" y=\"-42.33\" font-family=\"Raleway\" font-size=\"14.00\">Step 1</text>\n",
       "</g>\n",
       "<!-- s2 -->\n",
       "<g id=\"node3\" class=\"node\">\n",
       "<title>s2</title>\n",
       "<polygon fill=\"peachpuff\" stroke=\"#8b0000\" points=\"280.75,-0.5 280.75,-76.25 336.5,-76.25 336.5,-0.5 280.75,-0.5\"/>\n",
       "<text xml:space=\"preserve\" text-anchor=\"middle\" x=\"308.62\" y=\"-58.95\" font-family=\"Raleway\" font-size=\"14.00\" fill=\"#8b0000\">var1</text>\n",
       "<polyline fill=\"none\" stroke=\"#8b0000\" points=\"280.75,-51 336.5,-51\"/>\n",
       "<text xml:space=\"preserve\" text-anchor=\"middle\" x=\"308.62\" y=\"-33.7\" font-family=\"Raleway\" font-size=\"14.00\" fill=\"#8b0000\">var2 ✘</text>\n",
       "<polyline fill=\"none\" stroke=\"#8b0000\" points=\"280.75,-25.75 336.5,-25.75\"/>\n",
       "<text xml:space=\"preserve\" text-anchor=\"middle\" x=\"308.62\" y=\"-8.45\" font-family=\"Raleway\" font-size=\"14.00\" fill=\"#8b0000\">var3</text>\n",
       "</g>\n",
       "<!-- s1&#45;&gt;s2 -->\n",
       "<g id=\"edge2\" class=\"edge\">\n",
       "<title>s1&#45;&gt;s2:var2</title>\n",
       "<path fill=\"none\" stroke=\"black\" d=\"M191.59,-38.38C212.12,-38.38 241.79,-38.38 269.46,-38.38\"/>\n",
       "<polygon fill=\"black\" stroke=\"black\" points=\"269.24,-41.88 279.24,-38.38 269.24,-34.88 269.24,-41.88\"/>\n",
       "<text xml:space=\"preserve\" text-anchor=\"middle\" x=\"236.12\" y=\"-42.33\" font-family=\"Raleway\" font-size=\"14.00\" fill=\"#8b0000\">Step 2 ✘</text>\n",
       "</g>\n",
       "<!-- s3 -->\n",
       "<g id=\"node4\" class=\"node\">\n",
       "<title>s3</title>\n",
       "<polygon fill=\"peachpuff\" stroke=\"#8b0000\" points=\"413.75,-0.5 413.75,-76.25 469.5,-76.25 469.5,-0.5 413.75,-0.5\"/>\n",
       "<text xml:space=\"preserve\" text-anchor=\"middle\" x=\"441.62\" y=\"-58.95\" font-family=\"Raleway\" font-size=\"14.00\" fill=\"#8b0000\">var1</text>\n",
       "<polyline fill=\"none\" stroke=\"#8b0000\" points=\"413.75,-51 469.5,-51\"/>\n",
       "<text xml:space=\"preserve\" text-anchor=\"middle\" x=\"441.62\" y=\"-33.7\" font-family=\"Raleway\" font-size=\"14.00\" fill=\"#8b0000\">var2 ✘</text>\n",
       "<polyline fill=\"none\" stroke=\"#8b0000\" points=\"413.75,-25.75 469.5,-25.75\"/>\n",
       "<text xml:space=\"preserve\" text-anchor=\"middle\" x=\"441.62\" y=\"-8.45\" font-family=\"Raleway\" font-size=\"14.00\" fill=\"#8b0000\">var3</text>\n",
       "</g>\n",
       "<!-- s2&#45;&gt;s3 -->\n",
       "<g id=\"edge3\" class=\"edge\">\n",
       "<title>s2:var2&#45;&gt;s3:var2</title>\n",
       "<path fill=\"none\" stroke=\"black\" d=\"M336.5,-38.38C366.68,-38.38 376.96,-38.38 402.32,-38.38\"/>\n",
       "<polygon fill=\"black\" stroke=\"black\" points=\"402.24,-41.88 412.24,-38.38 402.24,-34.88 402.24,-41.88\"/>\n",
       "<text xml:space=\"preserve\" text-anchor=\"middle\" x=\"375.12\" y=\"-42.33\" font-family=\"Raleway\" font-size=\"14.00\">Step 3</text>\n",
       "</g>\n",
       "</g>\n",
       "</svg>\n"
      ],
      "text/plain": [
       "<graphviz.graphs.Digraph at 0x10b805d90>"
      ]
     },
     "metadata": {},
     "output_type": "display_data"
    },
    {
     "data": {
      "image/svg+xml": [
       "<?xml version=\"1.0\" encoding=\"UTF-8\" standalone=\"no\"?>\n",
       "<!DOCTYPE svg PUBLIC \"-//W3C//DTD SVG 1.1//EN\"\n",
       " \"http://www.w3.org/Graphics/SVG/1.1/DTD/svg11.dtd\">\n",
       "<!-- Generated by graphviz version 14.0.2 (20251019.1705)\n",
       " -->\n",
       "<!-- Pages: 1 -->\n",
       "<svg width=\"588pt\" height=\"85pt\"\n",
       " viewBox=\"0.00 0.00 588.00 85.00\" xmlns=\"http://www.w3.org/2000/svg\" xmlns:xlink=\"http://www.w3.org/1999/xlink\">\n",
       "<g id=\"graph0\" class=\"graph\" transform=\"scale(1 1) rotate(0) translate(4 80.75)\">\n",
       "<polygon fill=\"white\" stroke=\"none\" points=\"-4,4 -4,-80.75 583.5,-80.75 583.5,4 -4,4\"/>\n",
       "<!-- input -->\n",
       "<g id=\"node1\" class=\"node\">\n",
       "<title>input</title>\n",
       "<polygon fill=\"white\" stroke=\"none\" points=\"61.75,-56.38 0,-56.38 0,-20.38 61.75,-20.38 61.75,-56.38\"/>\n",
       "<text xml:space=\"preserve\" text-anchor=\"middle\" x=\"30.88\" y=\"-33.7\" font-family=\"Raleway\" font-size=\"14.00\" fill=\"darkgreen\">Input ✔</text>\n",
       "</g>\n",
       "<!-- s1 -->\n",
       "<g id=\"node2\" class=\"node\">\n",
       "<title>s1</title>\n",
       "<polygon fill=\"peachpuff\" stroke=\"darkgreen\" points=\"137.5,-0.5 137.5,-76.25 191.5,-76.25 191.5,-0.5 137.5,-0.5\"/>\n",
       "<text xml:space=\"preserve\" text-anchor=\"middle\" x=\"164.5\" y=\"-58.95\" font-family=\"Raleway\" font-size=\"14.00\" fill=\"darkgreen\">var1</text>\n",
       "<polyline fill=\"none\" stroke=\"darkgreen\" points=\"137.5,-51 191.5,-51\"/>\n",
       "<text xml:space=\"preserve\" text-anchor=\"middle\" x=\"164.5\" y=\"-33.7\" font-family=\"Raleway\" font-size=\"14.00\" fill=\"darkgreen\">var2</text>\n",
       "<polyline fill=\"none\" stroke=\"darkgreen\" points=\"137.5,-25.75 191.5,-25.75\"/>\n",
       "<text xml:space=\"preserve\" text-anchor=\"middle\" x=\"164.5\" y=\"-8.45\" font-family=\"Raleway\" font-size=\"14.00\" fill=\"darkgreen\">var3</text>\n",
       "</g>\n",
       "<!-- input&#45;&gt;s1 -->\n",
       "<g id=\"edge1\" class=\"edge\">\n",
       "<title>input&#45;&gt;s1</title>\n",
       "<path fill=\"none\" stroke=\"black\" d=\"M61.74,-38.38C80.76,-38.38 105.56,-38.38 125.92,-38.38\"/>\n",
       "<polygon fill=\"black\" stroke=\"black\" points=\"125.8,-41.88 135.8,-38.38 125.8,-34.88 125.8,-41.88\"/>\n",
       "<text xml:space=\"preserve\" text-anchor=\"middle\" x=\"99.62\" y=\"-42.33\" font-family=\"Raleway\" font-size=\"14.00\">Step 1</text>\n",
       "</g>\n",
       "<!-- s2 -->\n",
       "<g id=\"node3\" class=\"node\">\n",
       "<title>s2</title>\n",
       "<polygon fill=\"peachpuff\" stroke=\"#8b0000\" points=\"280.75,-0.5 280.75,-76.25 336.5,-76.25 336.5,-0.5 280.75,-0.5\"/>\n",
       "<text xml:space=\"preserve\" text-anchor=\"middle\" x=\"308.62\" y=\"-58.95\" font-family=\"Raleway\" font-size=\"14.00\" fill=\"#8b0000\">var1</text>\n",
       "<polyline fill=\"none\" stroke=\"#8b0000\" points=\"280.75,-51 336.5,-51\"/>\n",
       "<text xml:space=\"preserve\" text-anchor=\"middle\" x=\"308.62\" y=\"-33.7\" font-family=\"Raleway\" font-size=\"14.00\" fill=\"#8b0000\">var2 ✘</text>\n",
       "<polyline fill=\"none\" stroke=\"#8b0000\" points=\"280.75,-25.75 336.5,-25.75\"/>\n",
       "<text xml:space=\"preserve\" text-anchor=\"middle\" x=\"308.62\" y=\"-8.45\" font-family=\"Raleway\" font-size=\"14.00\" fill=\"#8b0000\">var3</text>\n",
       "</g>\n",
       "<!-- s1&#45;&gt;s2 -->\n",
       "<g id=\"edge2\" class=\"edge\">\n",
       "<title>s1&#45;&gt;s2:var2</title>\n",
       "<path fill=\"none\" stroke=\"black\" d=\"M191.59,-38.38C212.12,-38.38 241.79,-38.38 269.46,-38.38\"/>\n",
       "<polygon fill=\"black\" stroke=\"black\" points=\"269.24,-41.88 279.24,-38.38 269.24,-34.88 269.24,-41.88\"/>\n",
       "<text xml:space=\"preserve\" text-anchor=\"middle\" x=\"236.12\" y=\"-42.33\" font-family=\"Raleway\" font-size=\"14.00\" fill=\"#8b0000\">Step 2 ✘</text>\n",
       "</g>\n",
       "<!-- s3 -->\n",
       "<g id=\"node4\" class=\"node\">\n",
       "<title>s3</title>\n",
       "<polygon fill=\"peachpuff\" stroke=\"#8b0000\" points=\"413.75,-0.5 413.75,-76.25 469.5,-76.25 469.5,-0.5 413.75,-0.5\"/>\n",
       "<text xml:space=\"preserve\" text-anchor=\"middle\" x=\"441.62\" y=\"-58.95\" font-family=\"Raleway\" font-size=\"14.00\" fill=\"#8b0000\">var1</text>\n",
       "<polyline fill=\"none\" stroke=\"#8b0000\" points=\"413.75,-51 469.5,-51\"/>\n",
       "<text xml:space=\"preserve\" text-anchor=\"middle\" x=\"441.62\" y=\"-33.7\" font-family=\"Raleway\" font-size=\"14.00\" fill=\"#8b0000\">var2 ✘</text>\n",
       "<polyline fill=\"none\" stroke=\"#8b0000\" points=\"413.75,-25.75 469.5,-25.75\"/>\n",
       "<text xml:space=\"preserve\" text-anchor=\"middle\" x=\"441.62\" y=\"-8.45\" font-family=\"Raleway\" font-size=\"14.00\" fill=\"#8b0000\">var3</text>\n",
       "</g>\n",
       "<!-- s2&#45;&gt;s3 -->\n",
       "<g id=\"edge3\" class=\"edge\">\n",
       "<title>s2:var2&#45;&gt;s3:var2</title>\n",
       "<path fill=\"none\" stroke=\"black\" d=\"M336.5,-38.38C366.68,-38.38 376.96,-38.38 402.32,-38.38\"/>\n",
       "<polygon fill=\"black\" stroke=\"black\" points=\"402.24,-41.88 412.24,-38.38 402.24,-34.88 402.24,-41.88\"/>\n",
       "<text xml:space=\"preserve\" text-anchor=\"middle\" x=\"375.12\" y=\"-42.33\" font-family=\"Raleway\" font-size=\"14.00\">Step 3</text>\n",
       "</g>\n",
       "<!-- output -->\n",
       "<g id=\"node5\" class=\"node\">\n",
       "<title>output</title>\n",
       "<polygon fill=\"white\" stroke=\"none\" points=\"579.5,-56.38 506.5,-56.38 506.5,-20.38 579.5,-20.38 579.5,-56.38\"/>\n",
       "<text xml:space=\"preserve\" text-anchor=\"middle\" x=\"543\" y=\"-33.7\" font-family=\"Raleway\" font-size=\"14.00\" fill=\"#8b0000\">Output ✘</text>\n",
       "</g>\n",
       "<!-- s3&#45;&gt;output -->\n",
       "<g id=\"edge4\" class=\"edge\">\n",
       "<title>s3:var2&#45;&gt;output</title>\n",
       "<path fill=\"none\" stroke=\"black\" d=\"M469.5,-38.38C477.81,-38.38 486.65,-38.38 495.2,-38.38\"/>\n",
       "<polygon fill=\"black\" stroke=\"black\" points=\"495.09,-41.88 505.09,-38.38 495.09,-34.88 495.09,-41.88\"/>\n",
       "</g>\n",
       "</g>\n",
       "</svg>\n"
      ],
      "text/plain": [
       "<graphviz.graphs.Digraph at 0x10b9ad860>"
      ]
     },
     "metadata": {},
     "output_type": "display_data"
    }
   ],
   "source": [
    "# ignore\n",
    "for until in range(1, 6):\n",
    "    execution_diagram(show_steps=True, variables=['var1', 'var2', 'var3'],\n",
    "                      error_step=2,\n",
    "                      until=until, fault_path=['s2:var2', 's3:var2'])"
   ]
  },
  {
   "cell_type": "markdown",
   "metadata": {
    "slideshow": {
     "slide_type": "subslide"
    }
   },
   "source": [
    "The way these faults propagate is called a *cause-effect chain*:\n",
    "\n",
    "* The _defect_ in the code _causes_ a fault in the state when executed.\n",
    "* This _fault_ in the state then _propagates_ through further execution steps...\n",
    "* ... until it becomes visible as a _failure_.\n",
    "\n",
    "Even worse: in most cases the fault often expresses itself first in the control flow rather than the variable contents.\n",
    "Such a deviation from a normal execution is in general even harder to find."
   ]
  },
  {
   "cell_type": "markdown",
   "metadata": {
    "slideshow": {
     "slide_type": "subslide"
    }
   },
   "source": [
    "Since the code was originally written by a human, any defect can be related to some original _mistake_ the programmer made. This gives us a number of terms that all are more precise than the general \"error\" or the colloquial \"bug\":\n",
    "\n",
    "* A _mistake_ is a human act or decision resulting in an error.\n",
    "* A _defect_ is an error in the program code. Also called *bug*.\n",
    "* A _fault_ is an error in the program state. Also called *infection*.\n",
    "* A _failure_ is an externally visible error in the program behavior. Also called *malfunction*.\n",
    "\n",
    "The cause-effect chain of events is thus\n",
    "\n",
    "* Mistake → Defect → Fault → ... → Fault → Failure\n",
    "\n",
    "Note that not every defect also causes a failure, which is despite all testing, there can still be defects in the code looming around until the right conditions are met to trigger them. On the other hand, though, _every failure can be traced back to the defect that causes it_. Our job is to break the cause-effect chain."
   ]
  },
  {
   "attachments": {},
   "cell_type": "markdown",
   "metadata": {
    "slideshow": {
     "slide_type": "slide"
    }
   },
   "source": [
    "## From Failure to Defect\n",
    "\n",
    "To find a defect from a failure, we _trace back_ the faults along their _propagation_ – that is, we find out which faults in the earlier state have caused the later faults. We start from the very end of the execution and then gradually progress backwards in time, examining fault after fault until we find a _transition_ from a correct state to a faulty state – that is, a\n",
    "step in which a correct state comes in and a faulty state comes out. At this point, we have found the origin of the failure – and the defect that causes it."
   ]
  },
  {
   "cell_type": "markdown",
   "metadata": {
    "slideshow": {
     "slide_type": "subslide"
    }
   },
   "source": [
    "What sounds like a straight-forward strategy, unfortunately, doesn't always work this way in practice. That is because of the following problems of debugging:\n",
    "\n",
    "* First, program states are actually _large_, encompassing dozens to thousands of variables, possibly even more. If you have to search all of these manually and check them for faults, you will spend a lot of time for a single state.\n",
    "\n",
    "* Second, you do not always know _whether a state is correct or not._ While most programs have some form of specification for their inputs and outputs, these do not necessarily exist for intermediate results. If one had a specification that could check each state for correctness (possibly even automatically), debugging would be trivial. Unfortunately, it is not, and that's partly due to the lack of specifications.\n",
    "\n",
    "* Third, executions typically do not come in a handful of steps, as in the diagrams above; instead, they can easily encompass _thousands to millions of steps._ This means that you will have to examine not just one state, but several, making the problem much worse.\n",
    "\n",
    "To make your search efficient, you thus have to _focus_ your search – starting with most likely causes and gradually progressing to the less probable causes. This is what we call a _debugging strategy_. Intermediate assertions of the program state also come in handy, as they make the cause-effect chain smaller."
   ]
  },
  {
   "cell_type": "markdown",
   "metadata": {
    "slideshow": {
     "slide_type": "slide"
    }
   },
   "source": [
    "## The Scientific Method\n",
    "\n",
    "Now that we know how failures come to be, let's look into how to systematically find their causes. What we need is a _strategy_ that helps us search for how and when the failure comes to be. For this, we use a process called the *scientific method*."
   ]
  },
  {
   "cell_type": "markdown",
   "metadata": {
    "slideshow": {
     "slide_type": "fragment"
    }
   },
   "source": [
    "When we are debugging a program, we are trying to find the causes of a given effect – very much like natural scientists try to understand why things in nature are as they are and how they come to be. Over thousands of years, scientists have conducted _observations_ and _experiments_ to come to an understanding of how our world works. The process by which experimental scientists operate has been coined \"The scientific method\". This is how it works:"
   ]
  },
  {
   "cell_type": "markdown",
   "metadata": {
    "slideshow": {
     "slide_type": "subslide"
    }
   },
   "source": [
    "1. Formulate a _question_, as in \"Why does this apple fall down?\".\n",
    "2. Invent a _hypothesis_ based on knowledge obtained while formulating the question, that may explain the observed behavior. \n",
    "3. Determining the logical consequences of the hypothesis, formulate a _prediction_ that can _support_ or _refute_ the hypothesis. Ideally, the prediction would distinguish the hypothesis from likely alternatives.\n",
    "4. _Test_ the prediction (and thus the hypothesis) in an _experiment_. If the prediction holds, confidence in the hypothesis increases; otherwise, it decreases.\n",
    "5. Repeat Steps 2–4 until there are no discrepancies between hypothesis and predictions and/or observations."
   ]
  },
  {
   "cell_type": "markdown",
   "metadata": {
    "slideshow": {
     "slide_type": "subslide"
    }
   },
   "source": [
    "At this point, your hypothesis may be named a *theory* – that is, a predictive and comprehensive description of some aspect of the natural world. The gravitational theory, for instance, predicts very well how the moon revolves around the earth, and how the earth revolves around the sun.  Our debugging problems are of a slightly lesser scale – we'd like a theory of how our failure came to be – but the process is pretty much the same."
   ]
  },
  {
   "cell_type": "code",
   "execution_count": 37,
   "metadata": {
    "execution": {
     "iopub.execute_input": "2025-10-26T17:46:32.812929Z",
     "iopub.status.busy": "2025-10-26T17:46:32.812767Z",
     "iopub.status.idle": "2025-10-26T17:46:32.816041Z",
     "shell.execute_reply": "2025-10-26T17:46:32.815621Z"
    },
    "ipub": {
     "ignore": true
    },
    "slideshow": {
     "slide_type": "subslide"
    },
    "tags": [
     "remove-input"
    ]
   },
   "outputs": [],
   "source": [
    "# ignore\n",
    "dot = graph()\n",
    "\n",
    "dot.node('Hypothesis')\n",
    "dot.node('Observation')\n",
    "dot.node('Prediction')\n",
    "dot.node('Experiment')\n",
    "\n",
    "dot.edge('Hypothesis', 'Observation',\n",
    "         label=\"<Hypothesis<BR/>is <I>supported:</I><BR/>Refine it>\",\n",
    "         dir='back')\n",
    "dot.edge('Hypothesis', 'Prediction')\n",
    "\n",
    "dot.node('Problem Report', shape='none', fillcolor='white')\n",
    "dot.edge('Problem Report', 'Hypothesis')\n",
    "\n",
    "dot.node('Code', shape='none', fillcolor='white')\n",
    "dot.edge('Code', 'Hypothesis')\n",
    "\n",
    "dot.node('Runs', shape='none', fillcolor='white')\n",
    "dot.edge('Runs', 'Hypothesis')\n",
    "\n",
    "dot.node('More Runs', shape='none', fillcolor='white')\n",
    "dot.edge('More Runs', 'Hypothesis')\n",
    "\n",
    "dot.edge('Prediction', 'Experiment')\n",
    "dot.edge('Experiment', 'Observation')\n",
    "dot.edge('Observation', 'Hypothesis',\n",
    "         label=\"<Hypothesis<BR/>is <I>rejected:</I><BR/>Seek alternative>\")"
   ]
  },
  {
   "cell_type": "code",
   "execution_count": 38,
   "metadata": {
    "execution": {
     "iopub.execute_input": "2025-10-26T17:46:32.817895Z",
     "iopub.status.busy": "2025-10-26T17:46:32.817789Z",
     "iopub.status.idle": "2025-10-26T17:46:33.191975Z",
     "shell.execute_reply": "2025-10-26T17:46:33.191558Z"
    },
    "slideshow": {
     "slide_type": "subslide"
    },
    "tags": [
     "remove-input"
    ]
   },
   "outputs": [
    {
     "data": {
      "image/svg+xml": [
       "<?xml version=\"1.0\" encoding=\"UTF-8\" standalone=\"no\"?>\n",
       "<!DOCTYPE svg PUBLIC \"-//W3C//DTD SVG 1.1//EN\"\n",
       " \"http://www.w3.org/Graphics/SVG/1.1/DTD/svg11.dtd\">\n",
       "<!-- Generated by graphviz version 14.0.2 (20251019.1705)\n",
       " -->\n",
       "<!-- Pages: 1 -->\n",
       "<svg width=\"877pt\" height=\"206pt\"\n",
       " viewBox=\"0.00 0.00 877.00 206.00\" xmlns=\"http://www.w3.org/2000/svg\" xmlns:xlink=\"http://www.w3.org/1999/xlink\">\n",
       "<g id=\"graph0\" class=\"graph\" transform=\"scale(1 1) rotate(0) translate(4 202)\">\n",
       "<polygon fill=\"white\" stroke=\"none\" points=\"-4,4 -4,-202 872.8,-202 872.8,4 -4,4\"/>\n",
       "<!-- Hypothesis -->\n",
       "<g id=\"node1\" class=\"node\">\n",
       "<title>Hypothesis</title>\n",
       "<ellipse fill=\"peachpuff\" stroke=\"black\" cx=\"218.76\" cy=\"-99\" rx=\"62.26\" ry=\"18\"/>\n",
       "<text xml:space=\"preserve\" text-anchor=\"middle\" x=\"218.76\" y=\"-94.33\" font-family=\"Raleway\" font-size=\"14.00\">Hypothesis</text>\n",
       "</g>\n",
       "<!-- Observation -->\n",
       "<g id=\"node2\" class=\"node\">\n",
       "<title>Observation</title>\n",
       "<ellipse fill=\"peachpuff\" stroke=\"black\" cx=\"802.34\" cy=\"-99\" rx=\"66.47\" ry=\"18\"/>\n",
       "<text xml:space=\"preserve\" text-anchor=\"middle\" x=\"802.34\" y=\"-94.33\" font-family=\"Raleway\" font-size=\"14.00\">Observation</text>\n",
       "</g>\n",
       "<!-- Hypothesis&#45;&gt;Observation -->\n",
       "<g id=\"edge1\" class=\"edge\">\n",
       "<title>Hypothesis&#45;&gt;Observation</title>\n",
       "<path fill=\"none\" stroke=\"black\" d=\"M271.41,-115.98C286.28,-120.11 302.64,-123.93 318.01,-126 485.76,-148.63 531,-147.75 698.87,-126 718.76,-123.42 740.28,-118.15 758.45,-112.94\"/>\n",
       "<polygon fill=\"black\" stroke=\"black\" points=\"272.39,-112.62 261.82,-113.21 270.45,-119.35 272.39,-112.62\"/>\n",
       "<text xml:space=\"preserve\" text-anchor=\"start\" x=\"465.75\" y=\"-172.34\" font-family=\"Raleway\" font-size=\"14.00\">Hypothesis</text>\n",
       "<text xml:space=\"preserve\" text-anchor=\"start\" x=\"462\" y=\"-158.34\" font-family=\"Raleway\" font-size=\"14.00\">is </text>\n",
       "<text xml:space=\"preserve\" text-anchor=\"start\" x=\"475.5\" y=\"-158.34\" font-family=\"Raleway\" font-style=\"italic\" font-size=\"14.00\">supported:</text>\n",
       "<text xml:space=\"preserve\" text-anchor=\"start\" x=\"476.25\" y=\"-144.34\" font-family=\"Raleway\" font-size=\"14.00\">Refine it</text>\n",
       "</g>\n",
       "<!-- Prediction -->\n",
       "<g id=\"node3\" class=\"node\">\n",
       "<title>Prediction</title>\n",
       "<ellipse fill=\"peachpuff\" stroke=\"black\" cx=\"375.01\" cy=\"-99\" rx=\"57\" ry=\"18\"/>\n",
       "<text xml:space=\"preserve\" text-anchor=\"middle\" x=\"375.01\" y=\"-94.33\" font-family=\"Raleway\" font-size=\"14.00\">Prediction</text>\n",
       "</g>\n",
       "<!-- Hypothesis&#45;&gt;Prediction -->\n",
       "<g id=\"edge2\" class=\"edge\">\n",
       "<title>Hypothesis&#45;&gt;Prediction</title>\n",
       "<path fill=\"none\" stroke=\"black\" d=\"M281.16,-99C289.48,-99 298.05,-99 306.47,-99\"/>\n",
       "<polygon fill=\"black\" stroke=\"black\" points=\"306.3,-102.5 316.3,-99 306.3,-95.5 306.3,-102.5\"/>\n",
       "</g>\n",
       "<!-- Observation&#45;&gt;Hypothesis -->\n",
       "<g id=\"edge9\" class=\"edge\">\n",
       "<title>Observation&#45;&gt;Hypothesis</title>\n",
       "<path fill=\"none\" stroke=\"black\" d=\"M755.97,-85.72C738.27,-80.89 717.73,-75.71 698.87,-72 532.78,-39.34 483.72,-37.45 318.01,-72 303.38,-75.05 287.71,-79.03 273.28,-82.99\"/>\n",
       "<polygon fill=\"black\" stroke=\"black\" points=\"272.66,-79.52 263.98,-85.59 274.55,-86.27 272.66,-79.52\"/>\n",
       "<text xml:space=\"preserve\" text-anchor=\"start\" x=\"465.75\" y=\"-79.17\" font-family=\"Raleway\" font-size=\"14.00\">Hypothesis</text>\n",
       "<text xml:space=\"preserve\" text-anchor=\"start\" x=\"469.13\" y=\"-65.17\" font-family=\"Raleway\" font-size=\"14.00\">is </text>\n",
       "<text xml:space=\"preserve\" text-anchor=\"start\" x=\"482.63\" y=\"-65.17\" font-family=\"Raleway\" font-style=\"italic\" font-size=\"14.00\">rejected:</text>\n",
       "<text xml:space=\"preserve\" text-anchor=\"start\" x=\"450\" y=\"-51.17\" font-family=\"Raleway\" font-size=\"14.00\">Seek alternative</text>\n",
       "</g>\n",
       "<!-- Experiment -->\n",
       "<g id=\"node4\" class=\"node\">\n",
       "<title>Experiment</title>\n",
       "<ellipse fill=\"peachpuff\" stroke=\"black\" cx=\"635.56\" cy=\"-99\" rx=\"63.31\" ry=\"18\"/>\n",
       "<text xml:space=\"preserve\" text-anchor=\"middle\" x=\"635.56\" y=\"-94.33\" font-family=\"Raleway\" font-size=\"14.00\">Experiment</text>\n",
       "</g>\n",
       "<!-- Prediction&#45;&gt;Experiment -->\n",
       "<g id=\"edge7\" class=\"edge\">\n",
       "<title>Prediction&#45;&gt;Experiment</title>\n",
       "<path fill=\"none\" stroke=\"black\" d=\"M432.43,-99C469.97,-99 519.68,-99 560.41,-99\"/>\n",
       "<polygon fill=\"black\" stroke=\"black\" points=\"560.4,-102.5 570.4,-99 560.4,-95.5 560.4,-102.5\"/>\n",
       "</g>\n",
       "<!-- Experiment&#45;&gt;Observation -->\n",
       "<g id=\"edge8\" class=\"edge\">\n",
       "<title>Experiment&#45;&gt;Observation</title>\n",
       "<path fill=\"none\" stroke=\"black\" d=\"M699.33,-99C707.45,-99 715.85,-99 724.18,-99\"/>\n",
       "<polygon fill=\"black\" stroke=\"black\" points=\"723.95,-102.5 733.95,-99 723.95,-95.5 723.95,-102.5\"/>\n",
       "</g>\n",
       "<!-- Problem Report -->\n",
       "<g id=\"node5\" class=\"node\">\n",
       "<title>Problem Report</title>\n",
       "<polygon fill=\"white\" stroke=\"none\" points=\"119.5,-198 0,-198 0,-162 119.5,-162 119.5,-198\"/>\n",
       "<text xml:space=\"preserve\" text-anchor=\"middle\" x=\"59.75\" y=\"-175.32\" font-family=\"Raleway\" font-size=\"14.00\">Problem Report</text>\n",
       "</g>\n",
       "<!-- Problem Report&#45;&gt;Hypothesis -->\n",
       "<g id=\"edge3\" class=\"edge\">\n",
       "<title>Problem Report&#45;&gt;Hypothesis</title>\n",
       "<path fill=\"none\" stroke=\"black\" d=\"M100.75,-162.08C107.06,-159.12 113.49,-156.03 119.5,-153 139.65,-142.85 161.69,-130.82 179.78,-120.7\"/>\n",
       "<polygon fill=\"black\" stroke=\"black\" points=\"181.35,-123.84 188.35,-115.88 177.91,-117.73 181.35,-123.84\"/>\n",
       "</g>\n",
       "<!-- Code -->\n",
       "<g id=\"node6\" class=\"node\">\n",
       "<title>Code</title>\n",
       "<polygon fill=\"white\" stroke=\"none\" points=\"86.75,-144 32.75,-144 32.75,-108 86.75,-108 86.75,-144\"/>\n",
       "<text xml:space=\"preserve\" text-anchor=\"middle\" x=\"59.75\" y=\"-121.33\" font-family=\"Raleway\" font-size=\"14.00\">Code</text>\n",
       "</g>\n",
       "<!-- Code&#45;&gt;Hypothesis -->\n",
       "<g id=\"edge4\" class=\"edge\">\n",
       "<title>Code&#45;&gt;Hypothesis</title>\n",
       "<path fill=\"none\" stroke=\"black\" d=\"M86.68,-121.54C104.79,-118.43 129.82,-114.12 153.15,-110.11\"/>\n",
       "<polygon fill=\"black\" stroke=\"black\" points=\"153.68,-113.57 162.94,-108.43 152.49,-106.67 153.68,-113.57\"/>\n",
       "</g>\n",
       "<!-- Runs -->\n",
       "<g id=\"node7\" class=\"node\">\n",
       "<title>Runs</title>\n",
       "<polygon fill=\"white\" stroke=\"none\" points=\"86.75,-90 32.75,-90 32.75,-54 86.75,-54 86.75,-90\"/>\n",
       "<text xml:space=\"preserve\" text-anchor=\"middle\" x=\"59.75\" y=\"-67.33\" font-family=\"Raleway\" font-size=\"14.00\">Runs</text>\n",
       "</g>\n",
       "<!-- Runs&#45;&gt;Hypothesis -->\n",
       "<g id=\"edge5\" class=\"edge\">\n",
       "<title>Runs&#45;&gt;Hypothesis</title>\n",
       "<path fill=\"none\" stroke=\"black\" d=\"M86.68,-76.46C104.79,-79.57 129.82,-83.88 153.15,-87.89\"/>\n",
       "<polygon fill=\"black\" stroke=\"black\" points=\"152.49,-91.33 162.94,-89.57 153.68,-84.43 152.49,-91.33\"/>\n",
       "</g>\n",
       "<!-- More Runs -->\n",
       "<g id=\"node8\" class=\"node\">\n",
       "<title>More Runs</title>\n",
       "<polygon fill=\"white\" stroke=\"none\" points=\"102.25,-36 17.25,-36 17.25,0 102.25,0 102.25,-36\"/>\n",
       "<text xml:space=\"preserve\" text-anchor=\"middle\" x=\"59.75\" y=\"-13.32\" font-family=\"Raleway\" font-size=\"14.00\">More Runs</text>\n",
       "</g>\n",
       "<!-- More Runs&#45;&gt;Hypothesis -->\n",
       "<g id=\"edge6\" class=\"edge\">\n",
       "<title>More Runs&#45;&gt;Hypothesis</title>\n",
       "<path fill=\"none\" stroke=\"black\" d=\"M100.75,-35.92C107.06,-38.88 113.49,-41.97 119.5,-45 139.65,-55.15 161.69,-67.18 179.78,-77.3\"/>\n",
       "<polygon fill=\"black\" stroke=\"black\" points=\"177.91,-80.27 188.35,-82.12 181.35,-74.16 177.91,-80.27\"/>\n",
       "</g>\n",
       "</g>\n",
       "</svg>\n"
      ],
      "text/plain": [
       "<graphviz.graphs.Digraph at 0x10b9ad860>"
      ]
     },
     "metadata": {},
     "output_type": "display_data"
    }
   ],
   "source": [
    "# ignore\n",
    "display(dot)"
   ]
  },
  {
   "cell_type": "markdown",
   "metadata": {
    "slideshow": {
     "slide_type": "fragment"
    }
   },
   "source": [
    "In debugging, we proceed the very same way – indeed, we are treating bugs as if they were natural phenomena.   This analogy may sound far-fetched, as programs are anything but natural.  Nature, by definition, is not under our control.  But bugs are _out of our control just as well._  Hence, the analogy is not that far-fetched – and we can apply the same techniques for debugging."
   ]
  },
  {
   "cell_type": "markdown",
   "metadata": {
    "slideshow": {
     "slide_type": "subslide"
    }
   },
   "source": [
    "### Finding a Hypothesis"
   ]
  },
  {
   "cell_type": "markdown",
   "metadata": {
    "slideshow": {
     "slide_type": "fragment"
    }
   },
   "source": [
    "Let us apply the scientific method to our Python program which removes HTML tags.  First of all, let us recall the problem – `remove_html_markup()` works for some inputs, but fails on others."
   ]
  },
  {
   "cell_type": "code",
   "execution_count": 39,
   "metadata": {
    "execution": {
     "iopub.execute_input": "2025-10-26T17:46:33.194181Z",
     "iopub.status.busy": "2025-10-26T17:46:33.193983Z",
     "iopub.status.idle": "2025-10-26T17:46:33.196372Z",
     "shell.execute_reply": "2025-10-26T17:46:33.196052Z"
    },
    "slideshow": {
     "slide_type": "fragment"
    }
   },
   "outputs": [
    {
     "name": "stdout",
     "output_type": "stream",
     "text": [
      "1  <b>foo</b>      foo\n",
      "2  <b>\"foo\"</b>    foo\n",
      "3  \"<b>foo</b>\"    <b>foo</b>\n",
      "4  <b id=\"bar\">foo</b> foo\n"
     ]
    }
   ],
   "source": [
    "for i, html in enumerate(['<b>foo</b>',\n",
    "                          '<b>\"foo\"</b>',\n",
    "                          '\"<b>foo</b>\"',\n",
    "                          '<b id=\"bar\">foo</b>']):\n",
    "    result = remove_html_markup(html)\n",
    "    print(\"%-2d %-15s %s\" % (i + 1, html, result))"
   ]
  },
  {
   "cell_type": "markdown",
   "metadata": {
    "slideshow": {
     "slide_type": "subslide"
    }
   },
   "source": [
    "Input #1 and #4 work as expected, the others do not. We can write these down in a table, such that we can always look back at our previous results:\n",
    "\n",
    "|Input|Expectation|Output|Outcome|\n",
    "|-----|-----------|------|-------|\n",
    "|`<b>foo</b>`|`foo`|`foo`|✔|\n",
    "|`<b>\"foo\"</b>`|`\"foo\"`|`foo`|✘|\n",
    "|`\"<b>foo</b>\"`|`\"foo\"`|`<b>foo</b>`|✘|\n",
    "|`<b id=\"bar\">foo</b>`|`foo`|`foo`|✔|\n"
   ]
  },
  {
   "cell_type": "code",
   "execution_count": 40,
   "metadata": {
    "execution": {
     "iopub.execute_input": "2025-10-26T17:46:33.197969Z",
     "iopub.status.busy": "2025-10-26T17:46:33.197839Z",
     "iopub.status.idle": "2025-10-26T17:46:33.202759Z",
     "shell.execute_reply": "2025-10-26T17:46:33.202462Z"
    },
    "slideshow": {
     "slide_type": "subslide"
    },
    "tags": [
     "remove-input"
    ]
   },
   "outputs": [
    {
     "data": {
      "text/html": [
       "\n",
       "    \n",
       "    <script>\n",
       "    var bad_answers = new Map();\n",
       "\n",
       "    function answer(quiz_id) {\n",
       "        ans = 0;\n",
       "        for (i = 1;; i++) {\n",
       "            checkbox = document.getElementById(quiz_id + \"-\" + i.toString());\n",
       "            if (!checkbox)\n",
       "                break;\n",
       "            if (checkbox.checked)\n",
       "                ans |= (1 << i);\n",
       "        }\n",
       "        return ans;\n",
       "    }\n",
       "    function check_selection(quiz_id, correct_answer, multiple_choice, hint) {\n",
       "        given_answer = answer(quiz_id);\n",
       "        if (given_answer == correct_answer)\n",
       "        {\n",
       "            document.getElementById(quiz_id + \"-submit\").value = \"Correct!\";\n",
       "            document.getElementById(quiz_id + \"-hint\").innerHTML = \"\";\n",
       "\n",
       "            for (i = 1;; i++) {\n",
       "                checkbox = document.getElementById(quiz_id + \"-\" + i.toString());\n",
       "                label = document.getElementById(quiz_id + \"-\" + i.toString() + \"-label\")\n",
       "                if (!checkbox)\n",
       "                    break;\n",
       "\n",
       "                if (checkbox.checked) {\n",
       "                    label.style.fontWeight = \"bold\";\n",
       "                }\n",
       "                else {\n",
       "                    label.style.textDecoration = \"line-through\";\n",
       "                }\n",
       "            }\n",
       "        }\n",
       "        else \n",
       "        {\n",
       "            document.getElementById(quiz_id + \"-submit\").value = \"Try again\";\n",
       "\n",
       "            if (!bad_answers.has(quiz_id)) {\n",
       "                bad_answers.set(quiz_id, 1);\n",
       "            }\n",
       "            else {\n",
       "                bad_answers.set(quiz_id, bad_answers.get(quiz_id) + 1);\n",
       "            }\n",
       "\n",
       "            if (bad_answers.get(quiz_id) >= 2 && hint.length > 0) {\n",
       "                document.getElementById(quiz_id + \"-hint\").innerHTML = \n",
       "                    \"&nbsp;&nbsp;(Hint: <code>\" + hint + \"</code>)\";\n",
       "            }\n",
       "\n",
       "            if (!multiple_choice) {\n",
       "                for (i = 1;; i++) {\n",
       "                    checkbox = document.getElementById(quiz_id + \"-\" + i.toString());\n",
       "                    label = document.getElementById(quiz_id + \"-\" + i.toString() + \"-label\")\n",
       "\n",
       "                    if (!checkbox)\n",
       "                        break;\n",
       "                    if (checkbox.checked) {\n",
       "                        label.style.textDecoration = \"line-through\";\n",
       "                    }\n",
       "                }\n",
       "            }\n",
       "        }\n",
       "    }\n",
       "    function clear_selection(quiz_id) {\n",
       "        document.getElementById(quiz_id + \"-submit\").value = \"Submit\";\n",
       "        document.getElementById(quiz_id + \"-hint\").innerHTML = \"\";\n",
       "    }\n",
       "    </script>\n",
       "    \n",
       "    <div class=\"quiz\">\n",
       "    <h3 class=\"quiz_title\">Quiz</h3>\n",
       "    <p>\n",
       "    <div class=\"quiz_question\">From the difference between success and failure, we can already devise some observations about  what is wrong with the output. Which of these can we turn into general hypotheses?</div>\n",
       "    </p>\n",
       "    <p>\n",
       "    <div class=\"quiz_options\" title=\"Check all that apply.\">\n",
       "    \n",
       "        <input type=\"checkbox\" name=\"b601b014-b293-11f0-ab86-6298cf1a5790\" id=\"b601b014-b293-11f0-ab86-6298cf1a5790-1\" onclick=\"clear_selection('b601b014-b293-11f0-ab86-6298cf1a5790')\">\n",
       "        <label id=\"b601b014-b293-11f0-ab86-6298cf1a5790-1-label\" for=\"b601b014-b293-11f0-ab86-6298cf1a5790-1\">Double quotes (<code>\"</code>) are stripped from the tagged input.</label><br>\n",
       "    \n",
       "        <input type=\"checkbox\" name=\"b601b014-b293-11f0-ab86-6298cf1a5790\" id=\"b601b014-b293-11f0-ab86-6298cf1a5790-2\" onclick=\"clear_selection('b601b014-b293-11f0-ab86-6298cf1a5790')\">\n",
       "        <label id=\"b601b014-b293-11f0-ab86-6298cf1a5790-2-label\" for=\"b601b014-b293-11f0-ab86-6298cf1a5790-2\">Tags in double quotes are not stripped.</label><br>\n",
       "    \n",
       "        <input type=\"checkbox\" name=\"b601b014-b293-11f0-ab86-6298cf1a5790\" id=\"b601b014-b293-11f0-ab86-6298cf1a5790-3\" onclick=\"clear_selection('b601b014-b293-11f0-ab86-6298cf1a5790')\">\n",
       "        <label id=\"b601b014-b293-11f0-ab86-6298cf1a5790-3-label\" for=\"b601b014-b293-11f0-ab86-6298cf1a5790-3\">The tag <code>&lt;&gt;</code> is always stripped from the input.</label><br>\n",
       "    \n",
       "        <input type=\"checkbox\" name=\"b601b014-b293-11f0-ab86-6298cf1a5790\" id=\"b601b014-b293-11f0-ab86-6298cf1a5790-4\" onclick=\"clear_selection('b601b014-b293-11f0-ab86-6298cf1a5790')\">\n",
       "        <label id=\"b601b014-b293-11f0-ab86-6298cf1a5790-4-label\" for=\"b601b014-b293-11f0-ab86-6298cf1a5790-4\">Four-letter words are stripped.</label><br>\n",
       "    \n",
       "    </div>\n",
       "    </p>\n",
       "    <input id=\"b601b014-b293-11f0-ab86-6298cf1a5790-submit\" type=\"submit\" value=\"Submit\" onclick=\"check_selection('b601b014-b293-11f0-ab86-6298cf1a5790', 6, 1, '[298 % 33, 1234 % 616]')\">\n",
       "    <span class=\"quiz_hint\" id=\"b601b014-b293-11f0-ab86-6298cf1a5790-hint\"></span>\n",
       "    </div>\n",
       "    "
      ],
      "text/plain": [
       "<IPython.core.display.HTML object>"
      ]
     },
     "execution_count": 40,
     "metadata": {},
     "output_type": "execute_result"
    }
   ],
   "source": [
    "quiz(\"From the difference between success and failure,\"\n",
    "     \" we can already devise some observations about \"\n",
    "     \" what is wrong with the output.\"\n",
    "     \" Which of these can we turn into general hypotheses?\",\n",
    "    [\n",
    "        \"Double quotes (`\\\"`) are stripped from the tagged input.\",\n",
    "        \"Tags in double quotes are not stripped.\",\n",
    "        \"The tag `<>` is always stripped from the input.\",\n",
    "        \"Four-letter words are stripped.\"\n",
    "    ], '[298 % 33, 1234 % 616]')"
   ]
  },
  {
   "cell_type": "markdown",
   "metadata": {
    "slideshow": {
     "slide_type": "subslide"
    }
   },
   "source": [
    "### Testing a Hypothesis\n",
    "\n",
    "The hypotheses that remain are:\n",
    "\n",
    "1. Double quotes are stripped from the tagged input.\n",
    "2. Tags in double quotes are not stripped."
   ]
  },
  {
   "cell_type": "markdown",
   "metadata": {
    "slideshow": {
     "slide_type": "fragment"
    }
   },
   "source": [
    "These may be two separate issues, but chances are they are tied to each other.  Let's focus on 1., because it is simpler.  Does it hold for all inputs, even untagged ones?  Our hypothesis becomes\n",
    "\n",
    "1. Double quotes are stripped from the ~~tagged~~ input."
   ]
  },
  {
   "cell_type": "markdown",
   "metadata": {
    "slideshow": {
     "slide_type": "subslide"
    }
   },
   "source": [
    "Let's devise an experiment to validate this.  If we feed the string\n",
    "```html\n",
    "\"foo\"\n",
    "```\n",
    "(including the double quotes) into `remove_html_markup()`, we should obtain\n",
    "```html\n",
    "\"foo\"\n",
    "```\n",
    "as result – that is, the output should be the unchanged input. However, if our hypothesis 1. is correct, we should obtain\n",
    "```html\n",
    "foo\n",
    "```\n",
    "as result – that is, \"Double quotes are stripped from the input\" as predicted by the hypothesis."
   ]
  },
  {
   "cell_type": "markdown",
   "metadata": {
    "slideshow": {
     "slide_type": "subslide"
    }
   },
   "source": [
    "We can very easily test this hypothesis:"
   ]
  },
  {
   "cell_type": "code",
   "execution_count": 41,
   "metadata": {
    "execution": {
     "iopub.execute_input": "2025-10-26T17:46:33.204642Z",
     "iopub.status.busy": "2025-10-26T17:46:33.204513Z",
     "iopub.status.idle": "2025-10-26T17:46:33.206796Z",
     "shell.execute_reply": "2025-10-26T17:46:33.206453Z"
    },
    "slideshow": {
     "slide_type": "fragment"
    }
   },
   "outputs": [
    {
     "data": {
      "text/plain": [
       "'foo'"
      ]
     },
     "execution_count": 41,
     "metadata": {},
     "output_type": "execute_result"
    }
   ],
   "source": [
    "remove_html_markup('\"foo\"')"
   ]
  },
  {
   "cell_type": "markdown",
   "metadata": {
    "slideshow": {
     "slide_type": "fragment"
    }
   },
   "source": [
    "Our hypothesis is confirmed! We can add this to our list of observations."
   ]
  },
  {
   "cell_type": "markdown",
   "metadata": {
    "slideshow": {
     "slide_type": "subslide"
    }
   },
   "source": [
    "|Input|Expectation|Output|Outcome|\n",
    "|-----|-----------|------|-------|\n",
    "|`<b>foo</b>`|`foo`|`foo`|✔|\n",
    "|`<b>\"foo\"</b>`|`\"foo\"`|`foo`|✘|\n",
    "|`\"<b>foo</b>\"`|`\"foo\"`|`<b>foo</b>`|✘|\n",
    "|`<b id=\"bar\">foo</b>`|`foo`|`foo`|✔|\n",
    "|`\"foo\"`|`\"foo\"`|`foo`|✘|\n"
   ]
  },
  {
   "cell_type": "markdown",
   "metadata": {
    "slideshow": {
     "slide_type": "fragment"
    }
   },
   "source": [
    "You can try out the hypothesis with more inputs – and it remains valid. Any non-markup input that contains double quotes will have these stripped."
   ]
  },
  {
   "cell_type": "markdown",
   "metadata": {
    "slideshow": {
     "slide_type": "subslide"
    }
   },
   "source": [
    "Where does that quote-stripping come from?  This is where we need to explore the cause-effect chain.  The only place in `remove_html_markup()` where quotes are handled is this line:\n",
    "\n",
    "```python\n",
    "elif c == '\"' or c == \"'\" and tag:\n",
    "    quote = not quote\n",
    "```\n",
    "\n",
    "So, quotes should be removed only if `tag` is set. However, `tag` can be set only if the input contains a markup tag, which is not the case for a simple input like `\"foo\"`. Hence, what we observe is actually _impossible._ Yet, it happens."
   ]
  },
  {
   "cell_type": "markdown",
   "metadata": {
    "slideshow": {
     "slide_type": "subslide"
    }
   },
   "source": [
    "### Refining a Hypothesis\n",
    "\n",
    "Debugging is a game of falsifying assumptions. You assume the code works – it doesn't. You assume the `tag` flag cannot be set – yet it may be. What do we do? Again, we create a hypothesis:\n",
    "\n",
    "1. The error is due to `tag` being set."
   ]
  },
  {
   "cell_type": "markdown",
   "metadata": {
    "slideshow": {
     "slide_type": "subslide"
    }
   },
   "source": [
    "How do we know whether tag is being set?  Let me introduce one of the most powerful debugging tools ever invented, the `assert` statement.  The statement\n",
    "```python\n",
    "assert cond\n",
    "```\n",
    "evaluates the given condition `cond` and\n",
    "\n",
    "* if it holds: proceed as usual\n",
    "* if `cond` does not hold: throw an exception\n",
    "\n",
    "An `assert` statement _encodes our assumptions_ and as such, should never fail. If it does, well, then something is wrong.\n",
    "Furthermore, `assert` statements break the cause-effect chain into smaller pieces. The observable failure occurs earlier in\n",
    "the program execution and thus closer to the initial fault."
   ]
  },
  {
   "cell_type": "markdown",
   "metadata": {
    "slideshow": {
     "slide_type": "subslide"
    }
   },
   "source": [
    "Using `assert`, we can check the value of `tag` all through the loop:"
   ]
  },
  {
   "cell_type": "code",
   "execution_count": 42,
   "metadata": {
    "execution": {
     "iopub.execute_input": "2025-10-26T17:46:33.208878Z",
     "iopub.status.busy": "2025-10-26T17:46:33.208757Z",
     "iopub.status.idle": "2025-10-26T17:46:33.211024Z",
     "shell.execute_reply": "2025-10-26T17:46:33.210728Z"
    },
    "slideshow": {
     "slide_type": "subslide"
    }
   },
   "outputs": [],
   "source": [
    "def remove_html_markup_with_tag_assert(s):  # type: ignore\n",
    "    tag = False\n",
    "    quote = False\n",
    "    out = \"\"\n",
    "\n",
    "    for c in s:\n",
    "        assert not tag  # <=== Just added\n",
    "\n",
    "        if c == '<' and not quote:\n",
    "            tag = True\n",
    "        elif c == '>' and not quote:\n",
    "            tag = False\n",
    "        elif c == '\"' or c == \"'\" and tag:\n",
    "            quote = not quote\n",
    "        elif not tag:\n",
    "            out = out + c\n",
    "\n",
    "    return out"
   ]
  },
  {
   "cell_type": "markdown",
   "metadata": {
    "slideshow": {
     "slide_type": "subslide"
    }
   },
   "source": [
    "Our expectation is that this assertion would fail. So, do we actually get an exception? Try it out for yourself by uncommenting the following line:"
   ]
  },
  {
   "cell_type": "code",
   "execution_count": 43,
   "metadata": {
    "execution": {
     "iopub.execute_input": "2025-10-26T17:46:33.212587Z",
     "iopub.status.busy": "2025-10-26T17:46:33.212463Z",
     "iopub.status.idle": "2025-10-26T17:46:33.213971Z",
     "shell.execute_reply": "2025-10-26T17:46:33.213691Z"
    },
    "slideshow": {
     "slide_type": "fragment"
    }
   },
   "outputs": [],
   "source": [
    "# remove_html_markup_with_tag_assert('\"foo\"')"
   ]
  },
  {
   "cell_type": "code",
   "execution_count": 44,
   "metadata": {
    "execution": {
     "iopub.execute_input": "2025-10-26T17:46:33.215411Z",
     "iopub.status.busy": "2025-10-26T17:46:33.215327Z",
     "iopub.status.idle": "2025-10-26T17:46:33.218336Z",
     "shell.execute_reply": "2025-10-26T17:46:33.218044Z"
    },
    "slideshow": {
     "slide_type": "fragment"
    },
    "tags": [
     "remove-input"
    ]
   },
   "outputs": [
    {
     "data": {
      "text/html": [
       "\n",
       "    \n",
       "    <script>\n",
       "    var bad_answers = new Map();\n",
       "\n",
       "    function answer(quiz_id) {\n",
       "        ans = 0;\n",
       "        for (i = 1;; i++) {\n",
       "            checkbox = document.getElementById(quiz_id + \"-\" + i.toString());\n",
       "            if (!checkbox)\n",
       "                break;\n",
       "            if (checkbox.checked)\n",
       "                ans |= (1 << i);\n",
       "        }\n",
       "        return ans;\n",
       "    }\n",
       "    function check_selection(quiz_id, correct_answer, multiple_choice, hint) {\n",
       "        given_answer = answer(quiz_id);\n",
       "        if (given_answer == correct_answer)\n",
       "        {\n",
       "            document.getElementById(quiz_id + \"-submit\").value = \"Correct!\";\n",
       "            document.getElementById(quiz_id + \"-hint\").innerHTML = \"\";\n",
       "\n",
       "            for (i = 1;; i++) {\n",
       "                checkbox = document.getElementById(quiz_id + \"-\" + i.toString());\n",
       "                label = document.getElementById(quiz_id + \"-\" + i.toString() + \"-label\")\n",
       "                if (!checkbox)\n",
       "                    break;\n",
       "\n",
       "                if (checkbox.checked) {\n",
       "                    label.style.fontWeight = \"bold\";\n",
       "                }\n",
       "                else {\n",
       "                    label.style.textDecoration = \"line-through\";\n",
       "                }\n",
       "            }\n",
       "        }\n",
       "        else \n",
       "        {\n",
       "            document.getElementById(quiz_id + \"-submit\").value = \"Try again\";\n",
       "\n",
       "            if (!bad_answers.has(quiz_id)) {\n",
       "                bad_answers.set(quiz_id, 1);\n",
       "            }\n",
       "            else {\n",
       "                bad_answers.set(quiz_id, bad_answers.get(quiz_id) + 1);\n",
       "            }\n",
       "\n",
       "            if (bad_answers.get(quiz_id) >= 2 && hint.length > 0) {\n",
       "                document.getElementById(quiz_id + \"-hint\").innerHTML = \n",
       "                    \"&nbsp;&nbsp;(Hint: <code>\" + hint + \"</code>)\";\n",
       "            }\n",
       "\n",
       "            if (!multiple_choice) {\n",
       "                for (i = 1;; i++) {\n",
       "                    checkbox = document.getElementById(quiz_id + \"-\" + i.toString());\n",
       "                    label = document.getElementById(quiz_id + \"-\" + i.toString() + \"-label\")\n",
       "\n",
       "                    if (!checkbox)\n",
       "                        break;\n",
       "                    if (checkbox.checked) {\n",
       "                        label.style.textDecoration = \"line-through\";\n",
       "                    }\n",
       "                }\n",
       "            }\n",
       "        }\n",
       "    }\n",
       "    function clear_selection(quiz_id) {\n",
       "        document.getElementById(quiz_id + \"-submit\").value = \"Submit\";\n",
       "        document.getElementById(quiz_id + \"-hint\").innerHTML = \"\";\n",
       "    }\n",
       "    </script>\n",
       "    \n",
       "    <div class=\"quiz\">\n",
       "    <h3 class=\"quiz_title\">Quiz</h3>\n",
       "    <p>\n",
       "    <div class=\"quiz_question\">What happens after inserting the above assertion?</div>\n",
       "    </p>\n",
       "    <p>\n",
       "    <div class=\"quiz_options\" title=\"Pick a choice.\">\n",
       "    \n",
       "        <input type=\"radio\" name=\"b6044fa4-b293-11f0-ab86-6298cf1a5790\" id=\"b6044fa4-b293-11f0-ab86-6298cf1a5790-1\" onclick=\"clear_selection('b6044fa4-b293-11f0-ab86-6298cf1a5790')\">\n",
       "        <label id=\"b6044fa4-b293-11f0-ab86-6298cf1a5790-1-label\" for=\"b6044fa4-b293-11f0-ab86-6298cf1a5790-1\">The program raises an exception. (i.e., <code>tag</code> is set)</label><br>\n",
       "    \n",
       "        <input type=\"radio\" name=\"b6044fa4-b293-11f0-ab86-6298cf1a5790\" id=\"b6044fa4-b293-11f0-ab86-6298cf1a5790-2\" onclick=\"clear_selection('b6044fa4-b293-11f0-ab86-6298cf1a5790')\">\n",
       "        <label id=\"b6044fa4-b293-11f0-ab86-6298cf1a5790-2-label\" for=\"b6044fa4-b293-11f0-ab86-6298cf1a5790-2\">The output is as before, i.e., <code>foo</code> without quotes. (which means that <code>tag</code> is not set)</label><br>\n",
       "    \n",
       "    </div>\n",
       "    </p>\n",
       "    <input id=\"b6044fa4-b293-11f0-ab86-6298cf1a5790-submit\" type=\"submit\" value=\"Submit\" onclick=\"check_selection('b6044fa4-b293-11f0-ab86-6298cf1a5790', 4, 0, '')\">\n",
       "    <span class=\"quiz_hint\" id=\"b6044fa4-b293-11f0-ab86-6298cf1a5790-hint\"></span>\n",
       "    </div>\n",
       "    "
      ],
      "text/plain": [
       "<IPython.core.display.HTML object>"
      ]
     },
     "execution_count": 44,
     "metadata": {},
     "output_type": "execute_result"
    }
   ],
   "source": [
    "quiz(\"What happens after inserting the above assertion?\",\n",
    "    [\n",
    "        \"The program raises an exception. (i.e., `tag` is set)\",\n",
    "        \"The output is as before, i.e., `foo` without quotes.\"\n",
    "        \" (which means that `tag` is not set)\"\n",
    "    ], 2)"
   ]
  },
  {
   "cell_type": "markdown",
   "metadata": {
    "slideshow": {
     "slide_type": "fragment"
    }
   },
   "source": [
    "Here's the solution:"
   ]
  },
  {
   "cell_type": "code",
   "execution_count": 45,
   "metadata": {
    "execution": {
     "iopub.execute_input": "2025-10-26T17:46:33.219858Z",
     "iopub.status.busy": "2025-10-26T17:46:33.219756Z",
     "iopub.status.idle": "2025-10-26T17:46:33.221884Z",
     "shell.execute_reply": "2025-10-26T17:46:33.221606Z"
    },
    "slideshow": {
     "slide_type": "subslide"
    }
   },
   "outputs": [
    {
     "data": {
      "text/plain": [
       "'foo'"
      ]
     },
     "execution_count": 45,
     "metadata": {},
     "output_type": "execute_result"
    }
   ],
   "source": [
    "with ExpectError():\n",
    "    result = remove_html_markup_with_tag_assert('\"foo\"')\n",
    "result"
   ]
  },
  {
   "cell_type": "markdown",
   "metadata": {
    "slideshow": {
     "slide_type": "subslide"
    }
   },
   "source": [
    "### Refuting a Hypothesis\n",
    "\n",
    "We did not get an exception, hence we reject our hypothesis:\n",
    "\n",
    "1. ~~The error is due to `tag` being set.~~\n"
   ]
  },
  {
   "cell_type": "markdown",
   "metadata": {
    "slideshow": {
     "slide_type": "subslide"
    }
   },
   "source": [
    "Again, let's go back to the only place in our code where quotes are handled:\n",
    "\n",
    "```python\n",
    "elif c == '\"' or c == \"'\" and tag:\n",
    "    quote = not quote\n",
    "```\n",
    "\n",
    "Because of the assertion, we already know that `tag` is always False.  Hence, this condition should never hold either."
   ]
  },
  {
   "cell_type": "markdown",
   "metadata": {
    "slideshow": {
     "slide_type": "subslide"
    }
   },
   "source": [
    "But maybe there's something wrong with the condition such that it holds? Here's our hypothesis:\n",
    "\n",
    "1. The error is due to the quote condition evaluating to true\n"
   ]
  },
  {
   "cell_type": "markdown",
   "metadata": {
    "slideshow": {
     "slide_type": "fragment"
    }
   },
   "source": [
    "If the condition evaluates to true, then `quote` should be set.  We could now go and assert that `quote` is false; but we only care about the condition.  So we insert an assertion that assumes that setting the code setting the `quote` flag is never reached:"
   ]
  },
  {
   "cell_type": "code",
   "execution_count": 46,
   "metadata": {
    "execution": {
     "iopub.execute_input": "2025-10-26T17:46:33.223635Z",
     "iopub.status.busy": "2025-10-26T17:46:33.223528Z",
     "iopub.status.idle": "2025-10-26T17:46:33.225562Z",
     "shell.execute_reply": "2025-10-26T17:46:33.225320Z"
    },
    "slideshow": {
     "slide_type": "subslide"
    }
   },
   "outputs": [],
   "source": [
    "def remove_html_markup_with_quote_assert(s):  # type: ignore\n",
    "    tag = False\n",
    "    quote = False\n",
    "    out = \"\"\n",
    "\n",
    "    for c in s:\n",
    "        if c == '<' and not quote:\n",
    "            tag = True\n",
    "        elif c == '>' and not quote:\n",
    "            tag = False\n",
    "        elif c == '\"' or c == \"'\" and tag:\n",
    "            assert False  # <=== Just added\n",
    "            quote = not quote\n",
    "        elif not tag:\n",
    "            out = out + c\n",
    "\n",
    "    return out"
   ]
  },
  {
   "cell_type": "markdown",
   "metadata": {
    "slideshow": {
     "slide_type": "subslide"
    }
   },
   "source": [
    "Our expectation this time again is that the assertion fails. So, do we get an exception this time? Try it out for yourself by uncommenting the following line:"
   ]
  },
  {
   "cell_type": "code",
   "execution_count": 47,
   "metadata": {
    "execution": {
     "iopub.execute_input": "2025-10-26T17:46:33.227041Z",
     "iopub.status.busy": "2025-10-26T17:46:33.226928Z",
     "iopub.status.idle": "2025-10-26T17:46:33.228424Z",
     "shell.execute_reply": "2025-10-26T17:46:33.228180Z"
    },
    "slideshow": {
     "slide_type": "fragment"
    }
   },
   "outputs": [],
   "source": [
    "# remove_html_markup_with_quote_assert('\"foo\"')"
   ]
  },
  {
   "cell_type": "code",
   "execution_count": 48,
   "metadata": {
    "execution": {
     "iopub.execute_input": "2025-10-26T17:46:33.229918Z",
     "iopub.status.busy": "2025-10-26T17:46:33.229827Z",
     "iopub.status.idle": "2025-10-26T17:46:33.232576Z",
     "shell.execute_reply": "2025-10-26T17:46:33.232323Z"
    },
    "slideshow": {
     "slide_type": "fragment"
    },
    "tags": [
     "remove-input"
    ]
   },
   "outputs": [
    {
     "data": {
      "text/html": [
       "\n",
       "    \n",
       "    <script>\n",
       "    var bad_answers = new Map();\n",
       "\n",
       "    function answer(quiz_id) {\n",
       "        ans = 0;\n",
       "        for (i = 1;; i++) {\n",
       "            checkbox = document.getElementById(quiz_id + \"-\" + i.toString());\n",
       "            if (!checkbox)\n",
       "                break;\n",
       "            if (checkbox.checked)\n",
       "                ans |= (1 << i);\n",
       "        }\n",
       "        return ans;\n",
       "    }\n",
       "    function check_selection(quiz_id, correct_answer, multiple_choice, hint) {\n",
       "        given_answer = answer(quiz_id);\n",
       "        if (given_answer == correct_answer)\n",
       "        {\n",
       "            document.getElementById(quiz_id + \"-submit\").value = \"Correct!\";\n",
       "            document.getElementById(quiz_id + \"-hint\").innerHTML = \"\";\n",
       "\n",
       "            for (i = 1;; i++) {\n",
       "                checkbox = document.getElementById(quiz_id + \"-\" + i.toString());\n",
       "                label = document.getElementById(quiz_id + \"-\" + i.toString() + \"-label\")\n",
       "                if (!checkbox)\n",
       "                    break;\n",
       "\n",
       "                if (checkbox.checked) {\n",
       "                    label.style.fontWeight = \"bold\";\n",
       "                }\n",
       "                else {\n",
       "                    label.style.textDecoration = \"line-through\";\n",
       "                }\n",
       "            }\n",
       "        }\n",
       "        else \n",
       "        {\n",
       "            document.getElementById(quiz_id + \"-submit\").value = \"Try again\";\n",
       "\n",
       "            if (!bad_answers.has(quiz_id)) {\n",
       "                bad_answers.set(quiz_id, 1);\n",
       "            }\n",
       "            else {\n",
       "                bad_answers.set(quiz_id, bad_answers.get(quiz_id) + 1);\n",
       "            }\n",
       "\n",
       "            if (bad_answers.get(quiz_id) >= 2 && hint.length > 0) {\n",
       "                document.getElementById(quiz_id + \"-hint\").innerHTML = \n",
       "                    \"&nbsp;&nbsp;(Hint: <code>\" + hint + \"</code>)\";\n",
       "            }\n",
       "\n",
       "            if (!multiple_choice) {\n",
       "                for (i = 1;; i++) {\n",
       "                    checkbox = document.getElementById(quiz_id + \"-\" + i.toString());\n",
       "                    label = document.getElementById(quiz_id + \"-\" + i.toString() + \"-label\")\n",
       "\n",
       "                    if (!checkbox)\n",
       "                        break;\n",
       "                    if (checkbox.checked) {\n",
       "                        label.style.textDecoration = \"line-through\";\n",
       "                    }\n",
       "                }\n",
       "            }\n",
       "        }\n",
       "    }\n",
       "    function clear_selection(quiz_id) {\n",
       "        document.getElementById(quiz_id + \"-submit\").value = \"Submit\";\n",
       "        document.getElementById(quiz_id + \"-hint\").innerHTML = \"\";\n",
       "    }\n",
       "    </script>\n",
       "    \n",
       "    <div class=\"quiz\">\n",
       "    <h3 class=\"quiz_title\">Quiz</h3>\n",
       "    <p>\n",
       "    <div class=\"quiz_question\">What happens after inserting the 'assert' tag?</div>\n",
       "    </p>\n",
       "    <p>\n",
       "    <div class=\"quiz_options\" title=\"Pick a choice.\">\n",
       "    \n",
       "        <input type=\"radio\" name=\"b6068602-b293-11f0-ab86-6298cf1a5790\" id=\"b6068602-b293-11f0-ab86-6298cf1a5790-1\" onclick=\"clear_selection('b6068602-b293-11f0-ab86-6298cf1a5790')\">\n",
       "        <label id=\"b6068602-b293-11f0-ab86-6298cf1a5790-1-label\" for=\"b6068602-b293-11f0-ab86-6298cf1a5790-1\">The program raises an exception (i.e., the quote condition holds)</label><br>\n",
       "    \n",
       "        <input type=\"radio\" name=\"b6068602-b293-11f0-ab86-6298cf1a5790\" id=\"b6068602-b293-11f0-ab86-6298cf1a5790-2\" onclick=\"clear_selection('b6068602-b293-11f0-ab86-6298cf1a5790')\">\n",
       "        <label id=\"b6068602-b293-11f0-ab86-6298cf1a5790-2-label\" for=\"b6068602-b293-11f0-ab86-6298cf1a5790-2\">The output is still foo (i.e., the quote condition does not hold)</label><br>\n",
       "    \n",
       "    </div>\n",
       "    </p>\n",
       "    <input id=\"b6068602-b293-11f0-ab86-6298cf1a5790-submit\" type=\"submit\" value=\"Submit\" onclick=\"check_selection('b6068602-b293-11f0-ab86-6298cf1a5790', 2, 0, '')\">\n",
       "    <span class=\"quiz_hint\" id=\"b6068602-b293-11f0-ab86-6298cf1a5790-hint\"></span>\n",
       "    </div>\n",
       "    "
      ],
      "text/plain": [
       "<IPython.core.display.HTML object>"
      ]
     },
     "execution_count": 48,
     "metadata": {},
     "output_type": "execute_result"
    }
   ],
   "source": [
    "quiz(\"What happens after inserting the 'assert' tag?\",\n",
    "    [\n",
    "        \"The program raises an exception (i.e., the quote condition holds)\",\n",
    "        \"The output is still foo (i.e., the quote condition does not hold)\"\n",
    "    ], 29 % 7)"
   ]
  },
  {
   "cell_type": "markdown",
   "metadata": {
    "slideshow": {
     "slide_type": "fragment"
    }
   },
   "source": [
    "Here's what happens now that we have the `assert` tag:"
   ]
  },
  {
   "cell_type": "code",
   "execution_count": 49,
   "metadata": {
    "execution": {
     "iopub.execute_input": "2025-10-26T17:46:33.234109Z",
     "iopub.status.busy": "2025-10-26T17:46:33.234025Z",
     "iopub.status.idle": "2025-10-26T17:46:33.236107Z",
     "shell.execute_reply": "2025-10-26T17:46:33.235846Z"
    },
    "slideshow": {
     "slide_type": "subslide"
    }
   },
   "outputs": [
    {
     "name": "stderr",
     "output_type": "stream",
     "text": [
      "Traceback (most recent call last):\n",
      "  File \"/var/folders/n2/xd9445p97rb3xh7m1dfx8_4h0006ts/T/ipykernel_50153/904218512.py\", line 2, in <module>\n",
      "    result = remove_html_markup_with_quote_assert('\"foo\"')\n",
      "  File \"/var/folders/n2/xd9445p97rb3xh7m1dfx8_4h0006ts/T/ipykernel_50153/2877654332.py\", line 12, in remove_html_markup_with_quote_assert\n",
      "    assert False  # <=== Just added\n",
      "           ^^^^^\n",
      "AssertionError (expected)\n"
     ]
    }
   ],
   "source": [
    "with ExpectError():\n",
    "    result = remove_html_markup_with_quote_assert('\"foo\"')"
   ]
  },
  {
   "cell_type": "markdown",
   "metadata": {
    "slideshow": {
     "slide_type": "subslide"
    }
   },
   "source": [
    "From this observation, we can deduce that our hypothesis is _confirmed_:\n",
    "\n",
    "1. The error is due to the quote condition evaluating to true (CONFIRMED)\n",
    "\n",
    "and the _condition is actually faulty._ It evaluates to True although `tag` is always False:\n",
    "```python\n",
    "elif c == '\"' or c == \"'\" and tag:\n",
    "    quote = not quote\n",
    "```\n",
    "But this condition holds for single and double quotes.  Is there a difference?"
   ]
  },
  {
   "cell_type": "markdown",
   "metadata": {
    "slideshow": {
     "slide_type": "subslide"
    }
   },
   "source": [
    "Let us see whether our observations generalize towards general quotes:\n",
    "\n",
    "1. ~~Double~~ quotes are stripped from the input.\n"
   ]
  },
  {
   "cell_type": "markdown",
   "metadata": {
    "slideshow": {
     "slide_type": "fragment"
    }
   },
   "source": [
    "We can verify these hypotheses with an additional experiment.  We go back to our original implementation (without any asserts), and then check it:"
   ]
  },
  {
   "cell_type": "code",
   "execution_count": 50,
   "metadata": {
    "execution": {
     "iopub.execute_input": "2025-10-26T17:46:33.237770Z",
     "iopub.status.busy": "2025-10-26T17:46:33.237669Z",
     "iopub.status.idle": "2025-10-26T17:46:33.239596Z",
     "shell.execute_reply": "2025-10-26T17:46:33.239360Z"
    },
    "slideshow": {
     "slide_type": "fragment"
    }
   },
   "outputs": [
    {
     "data": {
      "text/plain": [
       "\"'foo'\""
      ]
     },
     "execution_count": 50,
     "metadata": {},
     "output_type": "execute_result"
    }
   ],
   "source": [
    "remove_html_markup(\"'foo'\")"
   ]
  },
  {
   "cell_type": "markdown",
   "metadata": {
    "slideshow": {
     "slide_type": "subslide"
    }
   },
   "source": [
    "Surprise: Our hypothesis is rejected and we can add another observation to our table:\n",
    "\n",
    "|Input|Expectation|Output|Outcome|\n",
    "|-----|-----------|------|-------|\n",
    "|`'foo'`|`'foo'`|`'foo'`|✔|\n",
    "\n",
    "So, the condition\n",
    "\n",
    "* becomes True when a double quote is seen\n",
    "* becomes False (as it should) with single quotes"
   ]
  },
  {
   "cell_type": "markdown",
   "metadata": {
    "slideshow": {
     "slide_type": "subslide"
    }
   },
   "source": [
    "At this point, you should have enough material to solve the problem.  How do we have to fix the condition? Here are four alternatives:\n",
    "\n",
    "```python\n",
    "c == \"\" or c == '' and tag        # Choice 1\n",
    "c == '\"' or c == \"'\" and not tag  # Choice 2\n",
    "(c == '\"' or c == \"'\") and tag    # Choice 3\n",
    "...                               # Something else\n",
    "```"
   ]
  },
  {
   "cell_type": "code",
   "execution_count": 51,
   "metadata": {
    "execution": {
     "iopub.execute_input": "2025-10-26T17:46:33.241045Z",
     "iopub.status.busy": "2025-10-26T17:46:33.240940Z",
     "iopub.status.idle": "2025-10-26T17:46:33.244184Z",
     "shell.execute_reply": "2025-10-26T17:46:33.243786Z"
    },
    "slideshow": {
     "slide_type": "subslide"
    },
    "tags": [
     "remove-input"
    ]
   },
   "outputs": [
    {
     "data": {
      "text/html": [
       "\n",
       "    \n",
       "    <script>\n",
       "    var bad_answers = new Map();\n",
       "\n",
       "    function answer(quiz_id) {\n",
       "        ans = 0;\n",
       "        for (i = 1;; i++) {\n",
       "            checkbox = document.getElementById(quiz_id + \"-\" + i.toString());\n",
       "            if (!checkbox)\n",
       "                break;\n",
       "            if (checkbox.checked)\n",
       "                ans |= (1 << i);\n",
       "        }\n",
       "        return ans;\n",
       "    }\n",
       "    function check_selection(quiz_id, correct_answer, multiple_choice, hint) {\n",
       "        given_answer = answer(quiz_id);\n",
       "        if (given_answer == correct_answer)\n",
       "        {\n",
       "            document.getElementById(quiz_id + \"-submit\").value = \"Correct!\";\n",
       "            document.getElementById(quiz_id + \"-hint\").innerHTML = \"\";\n",
       "\n",
       "            for (i = 1;; i++) {\n",
       "                checkbox = document.getElementById(quiz_id + \"-\" + i.toString());\n",
       "                label = document.getElementById(quiz_id + \"-\" + i.toString() + \"-label\")\n",
       "                if (!checkbox)\n",
       "                    break;\n",
       "\n",
       "                if (checkbox.checked) {\n",
       "                    label.style.fontWeight = \"bold\";\n",
       "                }\n",
       "                else {\n",
       "                    label.style.textDecoration = \"line-through\";\n",
       "                }\n",
       "            }\n",
       "        }\n",
       "        else \n",
       "        {\n",
       "            document.getElementById(quiz_id + \"-submit\").value = \"Try again\";\n",
       "\n",
       "            if (!bad_answers.has(quiz_id)) {\n",
       "                bad_answers.set(quiz_id, 1);\n",
       "            }\n",
       "            else {\n",
       "                bad_answers.set(quiz_id, bad_answers.get(quiz_id) + 1);\n",
       "            }\n",
       "\n",
       "            if (bad_answers.get(quiz_id) >= 2 && hint.length > 0) {\n",
       "                document.getElementById(quiz_id + \"-hint\").innerHTML = \n",
       "                    \"&nbsp;&nbsp;(Hint: <code>\" + hint + \"</code>)\";\n",
       "            }\n",
       "\n",
       "            if (!multiple_choice) {\n",
       "                for (i = 1;; i++) {\n",
       "                    checkbox = document.getElementById(quiz_id + \"-\" + i.toString());\n",
       "                    label = document.getElementById(quiz_id + \"-\" + i.toString() + \"-label\")\n",
       "\n",
       "                    if (!checkbox)\n",
       "                        break;\n",
       "                    if (checkbox.checked) {\n",
       "                        label.style.textDecoration = \"line-through\";\n",
       "                    }\n",
       "                }\n",
       "            }\n",
       "        }\n",
       "    }\n",
       "    function clear_selection(quiz_id) {\n",
       "        document.getElementById(quiz_id + \"-submit\").value = \"Submit\";\n",
       "        document.getElementById(quiz_id + \"-hint\").innerHTML = \"\";\n",
       "    }\n",
       "    </script>\n",
       "    \n",
       "    <div class=\"quiz\">\n",
       "    <h3 class=\"quiz_title\">Quiz</h3>\n",
       "    <p>\n",
       "    <div class=\"quiz_question\">How should the condition read?</div>\n",
       "    </p>\n",
       "    <p>\n",
       "    <div class=\"quiz_options\" title=\"Pick a choice.\">\n",
       "    \n",
       "        <input type=\"radio\" name=\"b6083a56-b293-11f0-ab86-6298cf1a5790\" id=\"b6083a56-b293-11f0-ab86-6298cf1a5790-1\" onclick=\"clear_selection('b6083a56-b293-11f0-ab86-6298cf1a5790')\">\n",
       "        <label id=\"b6083a56-b293-11f0-ab86-6298cf1a5790-1-label\" for=\"b6083a56-b293-11f0-ab86-6298cf1a5790-1\"><code>c == \"\" or c == '' and tag</code> (Choice 1)</label><br>\n",
       "    \n",
       "        <input type=\"radio\" name=\"b6083a56-b293-11f0-ab86-6298cf1a5790\" id=\"b6083a56-b293-11f0-ab86-6298cf1a5790-2\" onclick=\"clear_selection('b6083a56-b293-11f0-ab86-6298cf1a5790')\">\n",
       "        <label id=\"b6083a56-b293-11f0-ab86-6298cf1a5790-2-label\" for=\"b6083a56-b293-11f0-ab86-6298cf1a5790-2\"><code>c == '\"' or c == \"'\" and not tag</code> (Choice 2)</label><br>\n",
       "    \n",
       "        <input type=\"radio\" name=\"b6083a56-b293-11f0-ab86-6298cf1a5790\" id=\"b6083a56-b293-11f0-ab86-6298cf1a5790-3\" onclick=\"clear_selection('b6083a56-b293-11f0-ab86-6298cf1a5790')\">\n",
       "        <label id=\"b6083a56-b293-11f0-ab86-6298cf1a5790-3-label\" for=\"b6083a56-b293-11f0-ab86-6298cf1a5790-3\"><code>(c == '\"' or c == \"'\") and tag</code> (Choice 3)</label><br>\n",
       "    \n",
       "        <input type=\"radio\" name=\"b6083a56-b293-11f0-ab86-6298cf1a5790\" id=\"b6083a56-b293-11f0-ab86-6298cf1a5790-4\" onclick=\"clear_selection('b6083a56-b293-11f0-ab86-6298cf1a5790')\">\n",
       "        <label id=\"b6083a56-b293-11f0-ab86-6298cf1a5790-4-label\" for=\"b6083a56-b293-11f0-ab86-6298cf1a5790-4\">Something else</label><br>\n",
       "    \n",
       "    </div>\n",
       "    </p>\n",
       "    <input id=\"b6083a56-b293-11f0-ab86-6298cf1a5790-submit\" type=\"submit\" value=\"Submit\" onclick=\"check_selection('b6083a56-b293-11f0-ab86-6298cf1a5790', 8, 0, '399 % 4')\">\n",
       "    <span class=\"quiz_hint\" id=\"b6083a56-b293-11f0-ab86-6298cf1a5790-hint\"></span>\n",
       "    </div>\n",
       "    "
      ],
      "text/plain": [
       "<IPython.core.display.HTML object>"
      ]
     },
     "execution_count": 51,
     "metadata": {},
     "output_type": "execute_result"
    }
   ],
   "source": [
    "quiz(\"How should the condition read?\",\n",
    "     [\n",
    "         '''`c == \"\" or c == '' and tag` (Choice 1)''',\n",
    "         '''`c == '\"' or c == \"'\" and not tag` (Choice 2)''',\n",
    "         '''`(c == '\"' or c == \"'\") and tag` (Choice 3)''',\n",
    "         \"Something else\"\n",
    "     ],\n",
    "     '399 % 4')"
   ]
  },
  {
   "cell_type": "markdown",
   "metadata": {
    "slideshow": {
     "slide_type": "slide"
    }
   },
   "source": [
    "## Fixing the Bug"
   ]
  },
  {
   "cell_type": "markdown",
   "metadata": {
    "slideshow": {
     "slide_type": "fragment"
    }
   },
   "source": [
    "So, you have spotted the defect: In Python (and most other languages), `and` takes precedence over `or`, which is why the condition is wrong.  It should read:\n",
    "\n",
    "```python\n",
    "(c == '\"' or c == \"'\") and tag\n",
    "```\n",
    "\n",
    "(Actually, good programmers rarely depend on precedence; it is considered good style to use parentheses lavishly.)"
   ]
  },
  {
   "cell_type": "markdown",
   "metadata": {
    "slideshow": {
     "slide_type": "subslide"
    }
   },
   "source": [
    "So, our hypothesis now has become\n",
    "\n",
    "1. The error is due to the `quote` condition evaluating to True\n"
   ]
  },
  {
   "cell_type": "markdown",
   "metadata": {
    "slideshow": {
     "slide_type": "subslide"
    }
   },
   "source": [
    "Is this our final hypothesis?  We can check our earlier examples whether they should now work well:\n",
    "\n",
    "\n",
    "|Input|Expectation|Output|Outcome|\n",
    "|-----|-----------|------|-------|\n",
    "|`<b>foo</b>`|`foo`|`foo`|✔|\n",
    "|`<b>\"foo\"</b>`|`\"foo\"`|`foo`|✘|\n",
    "|`\"<b>foo</b>\"`|`\"foo\"`|`<b>foo</b>`|✘|\n",
    "|`<b id=\"bar\">foo</b>`|`foo`|`foo`|✔|\n",
    "|`\"foo\"`|`'foo'`|`foo`|✘|\n",
    "|`'foo'`|`'foo'`|`'foo'`|✔|\n",
    "\n",
    "In all of these examples, the `quote` flag should now be set outside of tags; hence, everything should work as expected."
   ]
  },
  {
   "cell_type": "markdown",
   "metadata": {
    "slideshow": {
     "slide_type": "subslide"
    }
   },
   "source": [
    "In terms of the scientific process, we now have a *theory* – a hypothesis that\n",
    "\n",
    "* is consistent with all earlier observations\n",
    "* predicts future observations (in our case: correct behavior)\n",
    "\n",
    "For debugging, our problems are usually too small for a big word like theory, so we use the word *diagnosis* instead. So is our diagnosis sufficient to fix the bug? Let us check."
   ]
  },
  {
   "cell_type": "markdown",
   "metadata": {
    "slideshow": {
     "slide_type": "subslide"
    }
   },
   "source": [
    "### Checking Diagnoses\n",
    "\n",
    "In debugging, you should start to fix your code if and only if you have a diagnosis that shows two things:\n",
    "\n",
    "1. **Causality.** Your diagnosis should explain why and how the failure came to be. Hence, it induces a _fix_ that, when applied, should make the failure disappear.\n",
    "2. **Incorrectness.** Your diagnosis should explain why and how the code is _incorrect_ (which in turn suggests how to _correct_ the code). Hence, the fix it induces not only applies to the given failure, but also to all related failures."
   ]
  },
  {
   "cell_type": "markdown",
   "metadata": {
    "slideshow": {
     "slide_type": "subslide"
    }
   },
   "source": [
    "Showing both these aspects requirements – _causality_ and _incorrectness_ – are crucial for a debugging diagnosis:\n",
    "\n",
    "* If you find that you can change some location to make the failure go away, but are not sure why this location is wrong, then your \"fix\" may apply only to the symptom rather than the source. Your diagnosis explains _causality_, but not _incorrectness_.\n",
    "* If you find that there is a defect in some code location, but do not verify whether this defect is related to the failure in question, then your \"fix\" may not address the failure. Your diagnosis addresses _incorrectness_, but not _causality_."
   ]
  },
  {
   "cell_type": "markdown",
   "metadata": {
    "slideshow": {
     "slide_type": "subslide"
    }
   },
   "source": [
    "When you do have a diagnosis that explains both causality (how the failure came to be), and incorrectness (how to correct the code accordingly), then (and only then!) is it time to actually _fix_ the code accordingly. After applying the fix, the failure should be gone, and no other failure should occur. If the failure persists, this should come as a surprise. Obviously, there is some other aspect that you haven't considered yet, so you have to go back to the drawing board and add another failing test case to the set of observations."
   ]
  },
  {
   "cell_type": "markdown",
   "metadata": {
    "slideshow": {
     "slide_type": "subslide"
    }
   },
   "source": [
    "### Fixing the Code"
   ]
  },
  {
   "cell_type": "markdown",
   "metadata": {
    "slideshow": {
     "slide_type": "fragment"
    }
   },
   "source": [
    "All these things considered, let us go and fix `remove_html_markup()`. We know how the defect _causes_ the failure (by erroneously setting `quote` outside of tags). We know that the line in question is _incorrect_ (as single and double of quotes should be treated similarly). So, our diagnosis shows both causality and incorrectness, and we can go and fix the code accordingly:"
   ]
  },
  {
   "cell_type": "code",
   "execution_count": 52,
   "metadata": {
    "execution": {
     "iopub.execute_input": "2025-10-26T17:46:33.246467Z",
     "iopub.status.busy": "2025-10-26T17:46:33.246357Z",
     "iopub.status.idle": "2025-10-26T17:46:33.248551Z",
     "shell.execute_reply": "2025-10-26T17:46:33.248282Z"
    },
    "slideshow": {
     "slide_type": "subslide"
    }
   },
   "outputs": [],
   "source": [
    "def remove_html_markup(s):  # type: ignore\n",
    "    tag = False\n",
    "    quote = False\n",
    "    out = \"\"\n",
    "\n",
    "    for c in s:\n",
    "        if c == '<' and not quote:\n",
    "            tag = True\n",
    "        elif c == '>' and not quote:\n",
    "            tag = False\n",
    "        elif (c == '\"' or c == \"'\") and tag:  # <-- FIX\n",
    "            quote = not quote\n",
    "        elif not tag:\n",
    "            out = out + c\n",
    "\n",
    "    return out"
   ]
  },
  {
   "cell_type": "markdown",
   "metadata": {
    "slideshow": {
     "slide_type": "subslide"
    }
   },
   "source": [
    "We verify that the fix was successful by running our earlier tests. Not only should the previously failing tests now pass, the previously passing tests also should not be affected. Fortunately, all tests now pass:"
   ]
  },
  {
   "cell_type": "code",
   "execution_count": 53,
   "metadata": {
    "execution": {
     "iopub.execute_input": "2025-10-26T17:46:33.250136Z",
     "iopub.status.busy": "2025-10-26T17:46:33.250036Z",
     "iopub.status.idle": "2025-10-26T17:46:33.252047Z",
     "shell.execute_reply": "2025-10-26T17:46:33.251750Z"
    },
    "slideshow": {
     "slide_type": "fragment"
    }
   },
   "outputs": [],
   "source": [
    "assert remove_html_markup(\"Here's some <strong>strong argument</strong>.\") == \\\n",
    "    \"Here's some strong argument.\"\n",
    "assert remove_html_markup(\n",
    "    '<input type=\"text\" value=\"<your name>\">') == \"\"\n",
    "assert remove_html_markup('<b>foo</b>') == 'foo'\n",
    "assert remove_html_markup('<b>\"foo\"</b>') == '\"foo\"'\n",
    "assert remove_html_markup('\"<b>foo</b>\"') == '\"foo\"'\n",
    "assert remove_html_markup('<b id=\"bar\">foo</b>') == 'foo'"
   ]
  },
  {
   "cell_type": "markdown",
   "metadata": {
    "slideshow": {
     "slide_type": "fragment"
    }
   },
   "source": [
    "So, our hypothesis _was_ a theory, and our diagnosis was correct. Success!"
   ]
  },
  {
   "cell_type": "markdown",
   "metadata": {
    "slideshow": {
     "slide_type": "subslide"
    }
   },
   "source": [
    "### Alternate Paths\n",
    "\n",
    "A defect may have more than one hypothesis, and each diagnosis can be obtained by many ways.  We could also have started with our other hypothesis\n",
    "\n",
    "2. Tags in double quotes are not stripped\n",
    "\n",
    "and by reasoning and experiments, we would have reached the same conclusion that the condition is faulty:\n",
    "\n",
    "* To strip tags, the `tag` flag must be set (but it is not).\n",
    "* To set the `tag` flag, the `quote` variable must not be set (but it is).\n",
    "* The `quote` flag is set under the given condition (which thus must be faulty).\n",
    "\n",
    "This gets us to the same diagnosis as above – and, of course, the same fix."
   ]
  },
  {
   "cell_type": "markdown",
   "metadata": {
    "slideshow": {
     "slide_type": "slide"
    }
   },
   "source": [
    "## Homework after the Fix"
   ]
  },
  {
   "cell_type": "markdown",
   "metadata": {
    "slideshow": {
     "slide_type": "fragment"
    }
   },
   "source": [
    "After having successfully validated the fix, we still have some homework to make."
   ]
  },
  {
   "cell_type": "markdown",
   "metadata": {
    "slideshow": {
     "slide_type": "subslide"
    }
   },
   "source": [
    "### Check for further Defect Occurrences"
   ]
  },
  {
   "attachments": {},
   "cell_type": "markdown",
   "metadata": {
    "slideshow": {
     "slide_type": "fragment"
    }
   },
   "source": [
    "First, we may want to check that the underlying mistake was not made elsewhere, too.\n",
    "\n",
    "For an error as with `remove_html_markup()`, it may be wise to check other parts of the code (possibly written by the same programmer) whether Boolean formulas show proper precedence. Consider setting up a static program checker or style checker to catch similar mistakes.\n",
    "Usually if you code in an IDE specifically designed for language you are coding in, you will get hints on so called _code smells_,\n",
    "parts of your code that are typically erroneous because of bad style or other typical mistakes."
   ]
  },
  {
   "cell_type": "markdown",
   "metadata": {
    "slideshow": {
     "slide_type": "subslide"
    }
   },
   "source": [
    "### Check your Tests\n",
    "\n",
    "If the defect was not found through testing, now is a good time to make sure it will be found the next time. If you use automated tests, add a test that catches the bug (as well as similar ones), such that you can prevent regressions."
   ]
  },
  {
   "cell_type": "markdown",
   "metadata": {
    "slideshow": {
     "slide_type": "subslide"
    }
   },
   "source": [
    "### Add Assertions\n",
    "\n"
   ]
  },
  {
   "cell_type": "markdown",
   "metadata": {
    "slideshow": {
     "slide_type": "fragment"
    }
   },
   "source": [
    "To be 100% sure, we could add an assertion to `remove_html_markup()` that checks the final result for correctness. Unfortunately, writing such an assertion is just as complex as writing the function itself.\n",
    "\n",
    "There is one assertion, though, which could be placed in the loop body to catch this kind of errors, and which could remain in the code. Which is it?"
   ]
  },
  {
   "cell_type": "code",
   "execution_count": 54,
   "metadata": {
    "execution": {
     "iopub.execute_input": "2025-10-26T17:46:33.254143Z",
     "iopub.status.busy": "2025-10-26T17:46:33.254026Z",
     "iopub.status.idle": "2025-10-26T17:46:33.257114Z",
     "shell.execute_reply": "2025-10-26T17:46:33.256794Z"
    },
    "slideshow": {
     "slide_type": "subslide"
    },
    "tags": [
     "remove-input"
    ]
   },
   "outputs": [
    {
     "data": {
      "text/html": [
       "\n",
       "    \n",
       "    <script>\n",
       "    var bad_answers = new Map();\n",
       "\n",
       "    function answer(quiz_id) {\n",
       "        ans = 0;\n",
       "        for (i = 1;; i++) {\n",
       "            checkbox = document.getElementById(quiz_id + \"-\" + i.toString());\n",
       "            if (!checkbox)\n",
       "                break;\n",
       "            if (checkbox.checked)\n",
       "                ans |= (1 << i);\n",
       "        }\n",
       "        return ans;\n",
       "    }\n",
       "    function check_selection(quiz_id, correct_answer, multiple_choice, hint) {\n",
       "        given_answer = answer(quiz_id);\n",
       "        if (given_answer == correct_answer)\n",
       "        {\n",
       "            document.getElementById(quiz_id + \"-submit\").value = \"Correct!\";\n",
       "            document.getElementById(quiz_id + \"-hint\").innerHTML = \"\";\n",
       "\n",
       "            for (i = 1;; i++) {\n",
       "                checkbox = document.getElementById(quiz_id + \"-\" + i.toString());\n",
       "                label = document.getElementById(quiz_id + \"-\" + i.toString() + \"-label\")\n",
       "                if (!checkbox)\n",
       "                    break;\n",
       "\n",
       "                if (checkbox.checked) {\n",
       "                    label.style.fontWeight = \"bold\";\n",
       "                }\n",
       "                else {\n",
       "                    label.style.textDecoration = \"line-through\";\n",
       "                }\n",
       "            }\n",
       "        }\n",
       "        else \n",
       "        {\n",
       "            document.getElementById(quiz_id + \"-submit\").value = \"Try again\";\n",
       "\n",
       "            if (!bad_answers.has(quiz_id)) {\n",
       "                bad_answers.set(quiz_id, 1);\n",
       "            }\n",
       "            else {\n",
       "                bad_answers.set(quiz_id, bad_answers.get(quiz_id) + 1);\n",
       "            }\n",
       "\n",
       "            if (bad_answers.get(quiz_id) >= 2 && hint.length > 0) {\n",
       "                document.getElementById(quiz_id + \"-hint\").innerHTML = \n",
       "                    \"&nbsp;&nbsp;(Hint: <code>\" + hint + \"</code>)\";\n",
       "            }\n",
       "\n",
       "            if (!multiple_choice) {\n",
       "                for (i = 1;; i++) {\n",
       "                    checkbox = document.getElementById(quiz_id + \"-\" + i.toString());\n",
       "                    label = document.getElementById(quiz_id + \"-\" + i.toString() + \"-label\")\n",
       "\n",
       "                    if (!checkbox)\n",
       "                        break;\n",
       "                    if (checkbox.checked) {\n",
       "                        label.style.textDecoration = \"line-through\";\n",
       "                    }\n",
       "                }\n",
       "            }\n",
       "        }\n",
       "    }\n",
       "    function clear_selection(quiz_id) {\n",
       "        document.getElementById(quiz_id + \"-submit\").value = \"Submit\";\n",
       "        document.getElementById(quiz_id + \"-hint\").innerHTML = \"\";\n",
       "    }\n",
       "    </script>\n",
       "    \n",
       "    <div class=\"quiz\">\n",
       "    <h3 class=\"quiz_title\">Quiz</h3>\n",
       "    <p>\n",
       "    <div class=\"quiz_question\">Which assertion would have caught the problem?</div>\n",
       "    </p>\n",
       "    <p>\n",
       "    <div class=\"quiz_options\" title=\"Pick a choice.\">\n",
       "    \n",
       "        <input type=\"radio\" name=\"b60a3a68-b293-11f0-ab86-6298cf1a5790\" id=\"b60a3a68-b293-11f0-ab86-6298cf1a5790-1\" onclick=\"clear_selection('b60a3a68-b293-11f0-ab86-6298cf1a5790')\">\n",
       "        <label id=\"b60a3a68-b293-11f0-ab86-6298cf1a5790-1-label\" for=\"b60a3a68-b293-11f0-ab86-6298cf1a5790-1\"><code>assert quote and not tag</code></label><br>\n",
       "    \n",
       "        <input type=\"radio\" name=\"b60a3a68-b293-11f0-ab86-6298cf1a5790\" id=\"b60a3a68-b293-11f0-ab86-6298cf1a5790-2\" onclick=\"clear_selection('b60a3a68-b293-11f0-ab86-6298cf1a5790')\">\n",
       "        <label id=\"b60a3a68-b293-11f0-ab86-6298cf1a5790-2-label\" for=\"b60a3a68-b293-11f0-ab86-6298cf1a5790-2\"><code>assert quote or not tag</code></label><br>\n",
       "    \n",
       "        <input type=\"radio\" name=\"b60a3a68-b293-11f0-ab86-6298cf1a5790\" id=\"b60a3a68-b293-11f0-ab86-6298cf1a5790-3\" onclick=\"clear_selection('b60a3a68-b293-11f0-ab86-6298cf1a5790')\">\n",
       "        <label id=\"b60a3a68-b293-11f0-ab86-6298cf1a5790-3-label\" for=\"b60a3a68-b293-11f0-ab86-6298cf1a5790-3\"><code>assert tag or not quote</code></label><br>\n",
       "    \n",
       "        <input type=\"radio\" name=\"b60a3a68-b293-11f0-ab86-6298cf1a5790\" id=\"b60a3a68-b293-11f0-ab86-6298cf1a5790-4\" onclick=\"clear_selection('b60a3a68-b293-11f0-ab86-6298cf1a5790')\">\n",
       "        <label id=\"b60a3a68-b293-11f0-ab86-6298cf1a5790-4-label\" for=\"b60a3a68-b293-11f0-ab86-6298cf1a5790-4\"><code>assert tag and not quote</code></label><br>\n",
       "    \n",
       "    </div>\n",
       "    </p>\n",
       "    <input id=\"b60a3a68-b293-11f0-ab86-6298cf1a5790-submit\" type=\"submit\" value=\"Submit\" onclick=\"check_selection('b60a3a68-b293-11f0-ab86-6298cf1a5790', 8, 0, '3270 - 3267')\">\n",
       "    <span class=\"quiz_hint\" id=\"b60a3a68-b293-11f0-ab86-6298cf1a5790-hint\"></span>\n",
       "    </div>\n",
       "    "
      ],
      "text/plain": [
       "<IPython.core.display.HTML object>"
      ]
     },
     "execution_count": 54,
     "metadata": {},
     "output_type": "execute_result"
    }
   ],
   "source": [
    "quiz(\"Which assertion would have caught the problem?\",\n",
    "     [\n",
    "        \"`assert quote and not tag`\",\n",
    "        \"`assert quote or not tag`\",\n",
    "        \"`assert tag or not quote`\",\n",
    "        \"`assert tag and not quote`\"\n",
    "     ], '3270 - 3267')"
   ]
  },
  {
   "cell_type": "markdown",
   "metadata": {
    "slideshow": {
     "slide_type": "subslide"
    }
   },
   "source": [
    "Indeed, the statement\n",
    "\n",
    "```python\n",
    "assert tag or not quote\n",
    "```\n",
    "is correct. This excludes the situation of ¬`tag` ∧ `quote` – that is, the `tag` flag is not set, but the `quote` flag is. If you remember our state machine from above, this is actually a state that should never exist:"
   ]
  },
  {
   "cell_type": "code",
   "execution_count": 55,
   "metadata": {
    "execution": {
     "iopub.execute_input": "2025-10-26T17:46:33.258879Z",
     "iopub.status.busy": "2025-10-26T17:46:33.258784Z",
     "iopub.status.idle": "2025-10-26T17:46:33.663128Z",
     "shell.execute_reply": "2025-10-26T17:46:33.662519Z"
    },
    "slideshow": {
     "slide_type": "fragment"
    },
    "tags": [
     "remove-input"
    ]
   },
   "outputs": [
    {
     "data": {
      "image/svg+xml": [
       "<?xml version=\"1.0\" encoding=\"UTF-8\" standalone=\"no\"?>\n",
       "<!DOCTYPE svg PUBLIC \"-//W3C//DTD SVG 1.1//EN\"\n",
       " \"http://www.w3.org/Graphics/SVG/1.1/DTD/svg11.dtd\">\n",
       "<!-- Generated by graphviz version 14.0.2 (20251019.1705)\n",
       " -->\n",
       "<!-- Pages: 1 -->\n",
       "<svg width=\"468pt\" height=\"121pt\"\n",
       " viewBox=\"0.00 0.00 468.00 121.00\" xmlns=\"http://www.w3.org/2000/svg\" xmlns:xlink=\"http://www.w3.org/1999/xlink\">\n",
       "<g id=\"graph0\" class=\"graph\" transform=\"scale(1 1) rotate(0) translate(4 116.6)\">\n",
       "<polygon fill=\"white\" stroke=\"none\" points=\"-4,4 -4,-116.6 464.14,-116.6 464.14,4 -4,4\"/>\n",
       "<!-- Start -->\n",
       "<g id=\"node1\" class=\"node\">\n",
       "<title>Start</title>\n",
       "<ellipse fill=\"peachpuff\" stroke=\"black\" cx=\"32.27\" cy=\"-30.05\" rx=\"32.27\" ry=\"18\"/>\n",
       "<text xml:space=\"preserve\" text-anchor=\"middle\" x=\"32.27\" y=\"-25.38\" font-family=\"Raleway\" font-size=\"14.00\">Start</text>\n",
       "</g>\n",
       "<!-- ¬ quote\\n¬ tag -->\n",
       "<g id=\"node2\" class=\"node\">\n",
       "<title>¬ quote\\n¬ tag</title>\n",
       "<ellipse fill=\"peachpuff\" stroke=\"black\" cx=\"148.38\" cy=\"-30.05\" rx=\"46.85\" ry=\"30.05\"/>\n",
       "<text xml:space=\"preserve\" text-anchor=\"middle\" x=\"148.38\" y=\"-34\" font-family=\"Raleway\" font-size=\"14.00\">¬ quote</text>\n",
       "<text xml:space=\"preserve\" text-anchor=\"middle\" x=\"148.38\" y=\"-16.75\" font-family=\"Raleway\" font-size=\"14.00\">¬ tag</text>\n",
       "</g>\n",
       "<!-- Start&#45;&gt;¬ quote\\n¬ tag -->\n",
       "<g id=\"edge1\" class=\"edge\">\n",
       "<title>Start&#45;&gt;¬ quote\\n¬ tag</title>\n",
       "<path fill=\"none\" stroke=\"black\" d=\"M64.75,-30.05C72.55,-30.05 81.15,-30.05 89.77,-30.05\"/>\n",
       "<polygon fill=\"black\" stroke=\"black\" points=\"89.53,-33.55 99.53,-30.05 89.53,-26.55 89.53,-33.55\"/>\n",
       "</g>\n",
       "<!-- ¬ quote\\n¬ tag&#45;&gt;¬ quote\\n¬ tag -->\n",
       "<g id=\"edge2\" class=\"edge\">\n",
       "<title>¬ quote\\n¬ tag&#45;&gt;¬ quote\\n¬ tag</title>\n",
       "<path fill=\"none\" stroke=\"black\" d=\"M136.14,-59.14C135.88,-69.59 139.96,-78.1 148.38,-78.1 153.38,-78.1 156.85,-75.1 158.79,-70.48\"/>\n",
       "<polygon fill=\"black\" stroke=\"black\" points=\"162.24,-71.06 160.38,-60.63 155.33,-69.95 162.24,-71.06\"/>\n",
       "<text xml:space=\"preserve\" text-anchor=\"middle\" x=\"148.38\" y=\"-99.3\" font-family=\"Raleway\" font-size=\"14.00\">¬ &#39;&lt;&#39;</text>\n",
       "<text xml:space=\"preserve\" text-anchor=\"middle\" x=\"148.38\" y=\"-82.05\" font-family=\"Raleway\" font-size=\"14.00\">add character</text>\n",
       "</g>\n",
       "<!-- ¬ quote\\ntag -->\n",
       "<g id=\"node3\" class=\"node\">\n",
       "<title>¬ quote\\ntag</title>\n",
       "<ellipse fill=\"peachpuff\" stroke=\"black\" cx=\"290.82\" cy=\"-30.05\" rx=\"46.85\" ry=\"30.05\"/>\n",
       "<text xml:space=\"preserve\" text-anchor=\"middle\" x=\"290.82\" y=\"-34\" font-family=\"Raleway\" font-size=\"14.00\">¬ quote</text>\n",
       "<text xml:space=\"preserve\" text-anchor=\"middle\" x=\"290.82\" y=\"-16.75\" font-family=\"Raleway\" font-size=\"14.00\">tag</text>\n",
       "</g>\n",
       "<!-- ¬ quote\\n¬ tag&#45;&gt;¬ quote\\ntag -->\n",
       "<g id=\"edge3\" class=\"edge\">\n",
       "<title>¬ quote\\n¬ tag&#45;&gt;¬ quote\\ntag</title>\n",
       "<path fill=\"none\" stroke=\"black\" d=\"M195.37,-30.05C207.25,-30.05 220.19,-30.05 232.57,-30.05\"/>\n",
       "<polygon fill=\"black\" stroke=\"black\" points=\"232.22,-33.55 242.22,-30.05 232.22,-26.55 232.22,-33.55\"/>\n",
       "<text xml:space=\"preserve\" text-anchor=\"middle\" x=\"219.6\" y=\"-34\" font-family=\"Raleway\" font-size=\"14.00\">&#39;&lt;&#39;</text>\n",
       "</g>\n",
       "<!-- ¬ quote\\ntag&#45;&gt;¬ quote\\n¬ tag -->\n",
       "<g id=\"edge8\" class=\"edge\">\n",
       "<title>¬ quote\\ntag&#45;&gt;¬ quote\\n¬ tag</title>\n",
       "<path fill=\"none\" stroke=\"black\" d=\"M252.01,-12.8C239.76,-9.04 226.03,-6.73 213.23,-8.8 208.88,-9.51 204.42,-10.47 199.99,-11.59\"/>\n",
       "<polygon fill=\"black\" stroke=\"black\" points=\"199.21,-8.17 190.53,-14.25 201.11,-14.91 199.21,-8.17\"/>\n",
       "<text xml:space=\"preserve\" text-anchor=\"middle\" x=\"219.6\" y=\"-12.75\" font-family=\"Raleway\" font-size=\"14.00\">&#39;&gt;&#39;</text>\n",
       "</g>\n",
       "<!-- ¬ quote\\ntag&#45;&gt;¬ quote\\ntag -->\n",
       "<g id=\"edge5\" class=\"edge\">\n",
       "<title>¬ quote\\ntag&#45;&gt;¬ quote\\ntag</title>\n",
       "<path fill=\"none\" stroke=\"black\" d=\"M277.76,-59.14C277.48,-69.59 281.84,-78.1 290.82,-78.1 296.16,-78.1 299.86,-75.1 301.93,-70.48\"/>\n",
       "<polygon fill=\"black\" stroke=\"black\" points=\"305.38,-71.08 303.63,-60.63 298.48,-69.89 305.38,-71.08\"/>\n",
       "<text xml:space=\"preserve\" text-anchor=\"middle\" x=\"290.82\" y=\"-82.05\" font-family=\"Raleway\" font-size=\"14.00\">¬ &#39;&quot;&#39; ∧ ¬ &#39;&gt;&#39;</text>\n",
       "</g>\n",
       "<!-- quote\\ntag -->\n",
       "<g id=\"node4\" class=\"node\">\n",
       "<title>quote\\ntag</title>\n",
       "<ellipse fill=\"peachpuff\" stroke=\"black\" cx=\"421.78\" cy=\"-30.05\" rx=\"38.36\" ry=\"30.05\"/>\n",
       "<text xml:space=\"preserve\" text-anchor=\"middle\" x=\"421.78\" y=\"-34\" font-family=\"Raleway\" font-size=\"14.00\">quote</text>\n",
       "<text xml:space=\"preserve\" text-anchor=\"middle\" x=\"421.78\" y=\"-16.75\" font-family=\"Raleway\" font-size=\"14.00\">tag</text>\n",
       "</g>\n",
       "<!-- ¬ quote\\ntag&#45;&gt;quote\\ntag -->\n",
       "<g id=\"edge4\" class=\"edge\">\n",
       "<title>¬ quote\\ntag&#45;&gt;quote\\ntag</title>\n",
       "<path fill=\"none\" stroke=\"black\" d=\"M338.02,-30.05C348.96,-30.05 360.67,-30.05 371.73,-30.05\"/>\n",
       "<polygon fill=\"black\" stroke=\"black\" points=\"371.45,-33.55 381.45,-30.05 371.45,-26.55 371.45,-33.55\"/>\n",
       "<text xml:space=\"preserve\" text-anchor=\"middle\" x=\"360.54\" y=\"-34\" font-family=\"Raleway\" font-size=\"14.00\">&#39;&quot;&#39;</text>\n",
       "</g>\n",
       "<!-- quote\\ntag&#45;&gt;¬ quote\\ntag -->\n",
       "<g id=\"edge7\" class=\"edge\">\n",
       "<title>quote\\ntag&#45;&gt;¬ quote\\ntag</title>\n",
       "<path fill=\"none\" stroke=\"black\" d=\"M387.98,-15.21C380.7,-12.55 372.91,-10.19 365.42,-8.8 357.05,-7.25 348.28,-7.8 339.81,-9.5\"/>\n",
       "<polygon fill=\"black\" stroke=\"black\" points=\"339.2,-6.05 330.39,-11.94 340.95,-12.82 339.2,-6.05\"/>\n",
       "<text xml:space=\"preserve\" text-anchor=\"middle\" x=\"360.54\" y=\"-12.75\" font-family=\"Raleway\" font-size=\"14.00\">&#39;&quot;&#39;</text>\n",
       "</g>\n",
       "<!-- quote\\ntag&#45;&gt;quote\\ntag -->\n",
       "<g id=\"edge6\" class=\"edge\">\n",
       "<title>quote\\ntag&#45;&gt;quote\\ntag</title>\n",
       "<path fill=\"none\" stroke=\"black\" d=\"M410.31,-59.14C410.06,-69.59 413.89,-78.1 421.78,-78.1 426.47,-78.1 429.72,-75.1 431.54,-70.48\"/>\n",
       "<polygon fill=\"black\" stroke=\"black\" points=\"434.99,-71.05 433.02,-60.64 428.07,-70 434.99,-71.05\"/>\n",
       "<text xml:space=\"preserve\" text-anchor=\"middle\" x=\"421.78\" y=\"-82.05\" font-family=\"Raleway\" font-size=\"14.00\">¬ &#39;&quot;&#39;</text>\n",
       "</g>\n",
       "</g>\n",
       "</svg>\n"
      ],
      "text/plain": [
       "<graphviz.graphs.Digraph at 0x10b8fb110>"
      ]
     },
     "metadata": {},
     "output_type": "display_data"
    }
   ],
   "source": [
    "# ignore\n",
    "display(state_machine)"
   ]
  },
  {
   "cell_type": "markdown",
   "metadata": {
    "slideshow": {
     "slide_type": "fragment"
    }
   },
   "source": [
    "Here's our function in its \"final\" state. As software goes, software is never final – and this may also hold for our function, as there is still room for improvement. For this chapter though, we leave it be."
   ]
  },
  {
   "cell_type": "code",
   "execution_count": 56,
   "metadata": {
    "execution": {
     "iopub.execute_input": "2025-10-26T17:46:33.665455Z",
     "iopub.status.busy": "2025-10-26T17:46:33.665306Z",
     "iopub.status.idle": "2025-10-26T17:46:33.668059Z",
     "shell.execute_reply": "2025-10-26T17:46:33.667738Z"
    },
    "slideshow": {
     "slide_type": "subslide"
    }
   },
   "outputs": [],
   "source": [
    "def remove_html_markup(s):  # type: ignore\n",
    "    tag = False\n",
    "    quote = False\n",
    "    out = \"\"\n",
    "\n",
    "    for c in s:\n",
    "        assert tag or not quote\n",
    "\n",
    "        if c == '<' and not quote:\n",
    "            tag = True\n",
    "        elif c == '>' and not quote:\n",
    "            tag = False\n",
    "        elif (c == '\"' or c == \"'\") and tag:\n",
    "            quote = not quote\n",
    "        elif not tag:\n",
    "            out = out + c\n",
    "\n",
    "    return out"
   ]
  },
  {
   "cell_type": "markdown",
   "metadata": {
    "slideshow": {
     "slide_type": "subslide"
    }
   },
   "source": [
    "### Commit the Fix"
   ]
  },
  {
   "cell_type": "markdown",
   "metadata": {
    "slideshow": {
     "slide_type": "fragment"
    }
   },
   "source": [
    "It may sound obvious, but your fix is worth nothing if it doesn't go into production. Be sure to commit your change to the code repository, together with your diagnosis. If your fix has to be approved by a third party, a good diagnosis on why and what happened is immensely helpful."
   ]
  },
  {
   "cell_type": "markdown",
   "metadata": {
    "slideshow": {
     "slide_type": "subslide"
    }
   },
   "source": [
    "### Close the Bug Report\n",
    "\n",
    "If you [systematically track bugs](Tracking.ipynb), and your bug is properly tracked, now is the time to mark the issue as \"resolved\". Check for duplicates of the issue and check whether they are resolved, too. And now, you are finally done:\n",
    "\n",
    "![](https://media.giphy.com/media/nbJUuYFI6s0w0/giphy.gif)\n",
    "\n",
    "Time to relax – and look for the next bug!"
   ]
  },
  {
   "cell_type": "markdown",
   "metadata": {
    "slideshow": {
     "slide_type": "slide"
    }
   },
   "source": [
    "## Become a Better Debugger\n",
    "\n",
    "We have now systematically fixed a bug. In this book, we will explore a number of techniques to make debugging easier – coming up with automated diagnoses, explanations, even automatic repairs, including for our example above. But there are also a number of things _you_ can do to become a better debugger.\n",
    "\n",
    "\n",
    "### Follow the Process\n",
    "\n",
    "If you're an experienced programmer, you may have spotted the problem in `remove_html_markup()` immediately, and start fixing the code right away. But this is dangerous and risky.\n",
    "\n",
    "Why is this so?  Well, because you should first\n",
    "\n",
    "* try to understand the problem, and \n",
    "* have a full diagnosis before starting to fix away.\n",
    "\n",
    "You _can_ skip these steps, and jump right to your interactive debugger the very moment you see a failure, happily stepping through their program. This may even work well for simple problems, including this one. The risk, however, is that this narrows your view to just this one execution, which limits your ability to understand _all_ the circumstances of the problem. Even worse: If you start \"fixing\" the bug without exactly understanding the problem, you may end up with an incomplete solution – as illustrated in \"The Devil's Guide to Debugging\", above."
   ]
  },
  {
   "attachments": {},
   "cell_type": "markdown",
   "metadata": {
    "slideshow": {
     "slide_type": "subslide"
    }
   },
   "source": [
    "### Keep a Log\n",
    "\n",
    "A second risk of starting debugging too soon is that it lets you easily deviate from a systematic process. Remember how we wrote down every experiment in a table? How we numbered every hypothesis? This is not just for teaching. Writing these things down explicitly allow you to keep track of all your observations and hypotheses over time.\n",
    "\n",
    "|Input|Expectation|Output|Outcome|\n",
    "|-----|-----------|------|-------|\n",
    "|`<b>foo</b>`|`foo`|`foo`|✔|\n",
    "\n",
    "Every time you come up with a new hypothesis, you can immediately check it against your earlier observations, which will help you to eliminate unlikely ones from the start. This is a bit like in the classic \"Mastermind\" board game, in which you have to guess some secret combination of pins, and in which your opponent gives you hints on whether and how your guesses are correct. At any time, you can see your previous guesses (experiments) and the results (observations) you got; any new guess (hypothesis) has to be consistent with the previous observations and experiments."
   ]
  },
  {
   "cell_type": "markdown",
   "metadata": {
    "slideshow": {
     "slide_type": "subslide"
    }
   },
   "source": [
    "![Master Mind Board Grame](https://upload.wikimedia.org/wikipedia/commons/2/2d/Mastermind.jpg)"
   ]
  },
  {
   "cell_type": "markdown",
   "metadata": {
    "slideshow": {
     "slide_type": "subslide"
    }
   },
   "source": [
    "Keeping such a log also allows you to interrupt your debugging session at any time. You can be home in time, sleep over the problem, and resume the next morning with a refreshed mind. You can even hand over the log to someone else, stating your findings so far.\n",
    "\n",
    "The alternative to having a log is to _keep all in memory_. This only works for short amounts of time, as it puts a higher and higher cognitive load on your memory as you debug along. After some time, you will forget earlier observations, which leads to mistakes. Worst of all, any interruption will break your concentration and make you forget things, so you can't stop debugging until you're done.\n",
    "\n",
    "Sure, if you are a real master, you can stay glued to the screen all night. But I'd rather be home in time, thank you."
   ]
  },
  {
   "attachments": {},
   "cell_type": "markdown",
   "metadata": {
    "slideshow": {
     "slide_type": "subslide"
    }
   },
   "source": [
    "### Rubberducking\n",
    "\n",
    "A great technique to revisit your observations and to come up with new hypotheses is to _explain the problem to someone else_. In this process, the \"someone else\" is important, but even more important is that _you are explaining the problem to yourself_! As Kernighan and Pike \\cite{Kernighan1999} put it:\n",
    "\n",
    "> Sometimes it takes no more than a few sentences, followed by an embarrassed \"Never mind. I see what's wrong. Sorry to bother you.\"\n",
    "\n",
    "The reason why this works is that teaching someone else forces you to take different perspectives, and these help you to resolve the inconsistency between what you assume and what you actually observe.\n",
    "\n",
    "Since that \"someone else\" can be totally passive, you can even replace her with an inanimate object to talk to – even a rubber duck. This technique is called *rubber duck debugging* or *rubberducking* – the idea is that you explain your problem to a rubber duck first before interrupting one of your co-workers with the problem. Some programmers, when asked for advice, explicitly request that you \"explain your problem to the duck first\", knowing that this resolves a good fraction of problems."
   ]
  },
  {
   "cell_type": "markdown",
   "metadata": {
    "slideshow": {
     "slide_type": "subslide"
    }
   },
   "source": [
    "![Rubber duck debugging](https://upload.wikimedia.org/wikipedia/commons/d/d5/Rubber_duck_assisting_with_debugging.jpg)"
   ]
  },
  {
   "cell_type": "markdown",
   "metadata": {
    "slideshow": {
     "slide_type": "slide"
    }
   },
   "source": [
    "## The Cost of Debugging\n",
    "\n",
    "And it's not only that debugging takes time – the worst thing is that it is a search process, which can take anything between a few minutes and several hours, sometimes even days and weeks.  But even if you never know how much time a bug will take, it's a bit of blessing to use a process which gradually gets you towards its cause."
   ]
  },
  {
   "cell_type": "markdown",
   "metadata": {
    "slideshow": {
     "slide_type": "slide"
    }
   },
   "source": [
    "## Debugging Aftermath\n",
    "\n",
    "The fix of a bug may lead to a code construct, a more complex condition or another solution which may look strange on first sight.\n",
    "Often the initial code was easier to understand but did not catch all cases. After fixing a bug it may be beneficial to\n",
    "write down why the code now looks like this and what caused the more complex construct. A comment right at the fixed location\n",
    "will help future programmers to not be confused or even re-introduce the bug while refactoring for better readability.\n",
    "And of course, helpful comments at complex code locations should even exist before something went wrong with the code -- but\n",
    "thats a chapter in another book.\n",
    "\n",
    "## History of Debugging\n",
    "\n",
    "Engineers and programmers have long used the term \"bug\" for faults in their systems – as if it were something that crept into an otherwise flawless program to cause the effects that none could explain. And from a psychological standpoint, it is far easier to blame some \"bug\" rather than taking responsibility ourselves. In the end, though, we have to face the fact: We made the bugs, and they are ours to fix.\n",
    "\n",
    "Having said that, there has been one recorded instance where a real bug has crept into a system. That was on September 9, 1947, when a moth got stuck in the relay of a Harvard Mark II machine.  This event was logged, and the log book is now on display at the Smithsonian Natural Museum of American History, as \"First actual case of bug being found.\""
   ]
  },
  {
   "cell_type": "markdown",
   "metadata": {
    "slideshow": {
     "slide_type": "subslide"
    }
   },
   "source": [
    "![First actual case of bug being found](https://upload.wikimedia.org/wikipedia/commons/f/ff/First_Computer_Bug%2C_1945.jpg)"
   ]
  },
  {
   "cell_type": "markdown",
   "metadata": {
    "slideshow": {
     "slide_type": "fragment"
    }
   },
   "source": [
    "The actual term \"bug\", however, is much older. What do you think is its origin?"
   ]
  },
  {
   "cell_type": "code",
   "execution_count": 57,
   "metadata": {
    "execution": {
     "iopub.execute_input": "2025-10-26T17:46:33.670309Z",
     "iopub.status.busy": "2025-10-26T17:46:33.670171Z",
     "iopub.status.idle": "2025-10-26T17:46:33.671867Z",
     "shell.execute_reply": "2025-10-26T17:46:33.671535Z"
    },
    "ipub": {
     "ignore": true
    },
    "slideshow": {
     "slide_type": "fragment"
    },
    "tags": [
     "remove-input"
    ]
   },
   "outputs": [],
   "source": [
    "# ignore\n",
    "import hashlib"
   ]
  },
  {
   "cell_type": "code",
   "execution_count": 58,
   "metadata": {
    "execution": {
     "iopub.execute_input": "2025-10-26T17:46:33.673379Z",
     "iopub.status.busy": "2025-10-26T17:46:33.673269Z",
     "iopub.status.idle": "2025-10-26T17:46:33.674936Z",
     "shell.execute_reply": "2025-10-26T17:46:33.674660Z"
    },
    "ipub": {
     "ignore": true
    },
    "slideshow": {
     "slide_type": "fragment"
    },
    "tags": [
     "remove-input"
    ]
   },
   "outputs": [],
   "source": [
    "# ignore\n",
    "bughash = hashlib.md5(b\"debug\").hexdigest()"
   ]
  },
  {
   "cell_type": "code",
   "execution_count": 59,
   "metadata": {
    "execution": {
     "iopub.execute_input": "2025-10-26T17:46:33.676473Z",
     "iopub.status.busy": "2025-10-26T17:46:33.676348Z",
     "iopub.status.idle": "2025-10-26T17:46:33.679926Z",
     "shell.execute_reply": "2025-10-26T17:46:33.679636Z"
    },
    "slideshow": {
     "slide_type": "subslide"
    },
    "tags": [
     "remove-input"
    ]
   },
   "outputs": [
    {
     "data": {
      "text/html": [
       "\n",
       "    \n",
       "    <script>\n",
       "    var bad_answers = new Map();\n",
       "\n",
       "    function answer(quiz_id) {\n",
       "        ans = 0;\n",
       "        for (i = 1;; i++) {\n",
       "            checkbox = document.getElementById(quiz_id + \"-\" + i.toString());\n",
       "            if (!checkbox)\n",
       "                break;\n",
       "            if (checkbox.checked)\n",
       "                ans |= (1 << i);\n",
       "        }\n",
       "        return ans;\n",
       "    }\n",
       "    function check_selection(quiz_id, correct_answer, multiple_choice, hint) {\n",
       "        given_answer = answer(quiz_id);\n",
       "        if (given_answer == correct_answer)\n",
       "        {\n",
       "            document.getElementById(quiz_id + \"-submit\").value = \"Correct!\";\n",
       "            document.getElementById(quiz_id + \"-hint\").innerHTML = \"\";\n",
       "\n",
       "            for (i = 1;; i++) {\n",
       "                checkbox = document.getElementById(quiz_id + \"-\" + i.toString());\n",
       "                label = document.getElementById(quiz_id + \"-\" + i.toString() + \"-label\")\n",
       "                if (!checkbox)\n",
       "                    break;\n",
       "\n",
       "                if (checkbox.checked) {\n",
       "                    label.style.fontWeight = \"bold\";\n",
       "                }\n",
       "                else {\n",
       "                    label.style.textDecoration = \"line-through\";\n",
       "                }\n",
       "            }\n",
       "        }\n",
       "        else \n",
       "        {\n",
       "            document.getElementById(quiz_id + \"-submit\").value = \"Try again\";\n",
       "\n",
       "            if (!bad_answers.has(quiz_id)) {\n",
       "                bad_answers.set(quiz_id, 1);\n",
       "            }\n",
       "            else {\n",
       "                bad_answers.set(quiz_id, bad_answers.get(quiz_id) + 1);\n",
       "            }\n",
       "\n",
       "            if (bad_answers.get(quiz_id) >= 2 && hint.length > 0) {\n",
       "                document.getElementById(quiz_id + \"-hint\").innerHTML = \n",
       "                    \"&nbsp;&nbsp;(Hint: <code>\" + hint + \"</code>)\";\n",
       "            }\n",
       "\n",
       "            if (!multiple_choice) {\n",
       "                for (i = 1;; i++) {\n",
       "                    checkbox = document.getElementById(quiz_id + \"-\" + i.toString());\n",
       "                    label = document.getElementById(quiz_id + \"-\" + i.toString() + \"-label\")\n",
       "\n",
       "                    if (!checkbox)\n",
       "                        break;\n",
       "                    if (checkbox.checked) {\n",
       "                        label.style.textDecoration = \"line-through\";\n",
       "                    }\n",
       "                }\n",
       "            }\n",
       "        }\n",
       "    }\n",
       "    function clear_selection(quiz_id) {\n",
       "        document.getElementById(quiz_id + \"-submit\").value = \"Submit\";\n",
       "        document.getElementById(quiz_id + \"-hint\").innerHTML = \"\";\n",
       "    }\n",
       "    </script>\n",
       "    \n",
       "    <div class=\"quiz\">\n",
       "    <h3 class=\"quiz_title\">Quiz</h3>\n",
       "    <p>\n",
       "    <div class=\"quiz_question\">Where has the name \"bug\" been used to denote disruptive events?</div>\n",
       "    </p>\n",
       "    <p>\n",
       "    <div class=\"quiz_options\" title=\"Check all that apply.\">\n",
       "    \n",
       "        <input type=\"checkbox\" name=\"b64ab4b2-b293-11f0-ab86-6298cf1a5790\" id=\"b64ab4b2-b293-11f0-ab86-6298cf1a5790-1\" onclick=\"clear_selection('b64ab4b2-b293-11f0-ab86-6298cf1a5790')\">\n",
       "        <label id=\"b64ab4b2-b293-11f0-ab86-6298cf1a5790-1-label\" for=\"b64ab4b2-b293-11f0-ab86-6298cf1a5790-1\">In the early days of Morse telegraphy, referring to a special key that would send a string of dots</label><br>\n",
       "    \n",
       "        <input type=\"checkbox\" name=\"b64ab4b2-b293-11f0-ab86-6298cf1a5790\" id=\"b64ab4b2-b293-11f0-ab86-6298cf1a5790-2\" onclick=\"clear_selection('b64ab4b2-b293-11f0-ab86-6298cf1a5790')\">\n",
       "        <label id=\"b64ab4b2-b293-11f0-ab86-6298cf1a5790-2-label\" for=\"b64ab4b2-b293-11f0-ab86-6298cf1a5790-2\">Among radio technicians to describe a device that converts electromagnetic field variations into acoustic signals</label><br>\n",
       "    \n",
       "        <input type=\"checkbox\" name=\"b64ab4b2-b293-11f0-ab86-6298cf1a5790\" id=\"b64ab4b2-b293-11f0-ab86-6298cf1a5790-3\" onclick=\"clear_selection('b64ab4b2-b293-11f0-ab86-6298cf1a5790')\">\n",
       "        <label id=\"b64ab4b2-b293-11f0-ab86-6298cf1a5790-3-label\" for=\"b64ab4b2-b293-11f0-ab86-6298cf1a5790-3\">In Shakespeare's \"Henry VI\", referring to a walking spectre</label><br>\n",
       "    \n",
       "        <input type=\"checkbox\" name=\"b64ab4b2-b293-11f0-ab86-6298cf1a5790\" id=\"b64ab4b2-b293-11f0-ab86-6298cf1a5790-4\" onclick=\"clear_selection('b64ab4b2-b293-11f0-ab86-6298cf1a5790')\">\n",
       "        <label id=\"b64ab4b2-b293-11f0-ab86-6298cf1a5790-4-label\" for=\"b64ab4b2-b293-11f0-ab86-6298cf1a5790-4\">In Middle English, where the word \"bugge\" is the basis for terms like \"bugbear\" and \"bugaboo\"</label><br>\n",
       "    \n",
       "    </div>\n",
       "    </p>\n",
       "    <input id=\"b64ab4b2-b293-11f0-ab86-6298cf1a5790-submit\" type=\"submit\" value=\"Submit\" onclick=\"check_selection('b64ab4b2-b293-11f0-ab86-6298cf1a5790', 30, 1, '')\">\n",
       "    <span class=\"quiz_hint\" id=\"b64ab4b2-b293-11f0-ab86-6298cf1a5790-hint\"></span>\n",
       "    </div>\n",
       "    "
      ],
      "text/plain": [
       "<IPython.core.display.HTML object>"
      ]
     },
     "execution_count": 59,
     "metadata": {},
     "output_type": "execute_result"
    }
   ],
   "source": [
    "quiz('Where has the name \"bug\" been used to denote disruptive events?',\n",
    "     [\n",
    "        'In the early days of Morse telegraphy, referring to a special key '\n",
    "          'that would send a string of dots',\n",
    "        'Among radio technicians to describe a device that '\n",
    "          'converts electromagnetic field variations into acoustic signals',\n",
    "        \"In Shakespeare's \" '\"Henry VI\", referring to a walking spectre',\n",
    "        'In Middle English, where the word \"bugge\" is the basis for terms '\n",
    "          'like \"bugbear\" and \"bugaboo\"'\n",
    "     ], [bughash.index(i) for i in \"d42f\"])"
   ]
  },
  {
   "cell_type": "markdown",
   "metadata": {
    "slideshow": {
     "slide_type": "subslide"
    }
   },
   "source": [
    "Need help on this quiz? To learn more about the term \"bug\" and its origin, have a look at [the etymology of the word \"bug\"](http://www.catb.org/~esr/jargon/html/B/bug.html) in [The Jargon File](http://www.catb.org/~esr/jargon/). Also check out the [Wikipedia entry on debugging](https://en.wikipedia.org/wiki/Debugging)!"
   ]
  },
  {
   "cell_type": "markdown",
   "metadata": {
    "button": false,
    "new_sheet": true,
    "run_control": {
     "read_only": false
    },
    "slideshow": {
     "slide_type": "slide"
    }
   },
   "source": [
    "## Lessons Learned\n",
    "\n",
    "1. An _error_ is a deviation from what is correct, right, or true. Specifically,\n",
    "    * A _mistake_ is a human act or decision resulting in an error.\n",
    "    * A _defect_ is an error in the program code. Also called *bug*.\n",
    "    * A _fault_ is an error in the program state. Also called *infection*.\n",
    "    * A _failure_ is an externally visible error in the program behavior. Also called *malfunction*.\n",
    "2. In a failing program execution, a mistake by the programmer results in a defect in the code, which creates a fault in the state, which propagates until it results in a failure. Tracing back fault propagation allows identifying the defect that causes the failure.\n",
    "3. In debugging, the _scientific method_ allows systematically identifying failure causes by gradually refining and refuting hypotheses based on experiments and observations.\n",
    "4. Before fixing the defect, have a complete _diagnosis_ that \n",
    "    * shows _causality_ (how the defect causes the failure)\n",
    "    * shows _incorrectness_ (how the defect is wrong)\n",
    "5. You can become a better debugger by\n",
    "    * Following a systematic process like the scientific method\n",
    "    * Keeping a log of your observations and hypotheses\n",
    "    * Making your observations and conclusions explicit by telling them somebody (or something)."
   ]
  },
  {
   "cell_type": "markdown",
   "metadata": {
    "button": false,
    "new_sheet": false,
    "run_control": {
     "read_only": false
    },
    "slideshow": {
     "slide_type": "slide"
    }
   },
   "source": [
    "## Next Steps\n",
    "\n",
    "In the next chapters, we will learn how to\n",
    "\n",
    "* [trace and observe executions](Tracer.ipynb)\n",
    "* [build your own interactive debugger](Debugger.ipynb)\n",
    "* [locate defects automatically by correlating failures and code coverage](StatisticalDebugger.ipynb)\n",
    "* [identify and simplify failure-inducing inputs](DeltaDebugger.ipynb)\n",
    "\n",
    "Enjoy!"
   ]
  },
  {
   "cell_type": "markdown",
   "metadata": {
    "slideshow": {
     "slide_type": "slide"
    }
   },
   "source": [
    "## Background\n",
    "\n",
    "There are several good books on debugging, but these three are especially recommended:\n",
    "\n",
    "* _Debugging_ by Agans \\cite{agans2006-debugging} takes a pragmatic approach to debugging, highlighting systematic approaches that help for all kinds of application-specific problems;\n",
    "* _Why Programs Fail_ by Zeller \\cite{zeller2009-why-programs-fail} takes a more academic approach, creating theories of how failures come to be and systematic debugging processes;\n",
    "* _Effective Debugging_ by Spinellis \\cite{spinellis2016-effective-debugging} aims for a middle ground between the two, creating general recipes and recommendations that easily instantiate towards specific problems.\n",
    "\n",
    "All these books focus on _manual_ debugging and the debugging process, just like this chapter; for _automated_ debugging, simply read on :-)"
   ]
  },
  {
   "cell_type": "markdown",
   "metadata": {
    "button": false,
    "new_sheet": true,
    "run_control": {
     "read_only": false
    },
    "slideshow": {
     "slide_type": "slide"
    }
   },
   "source": [
    "## Exercises"
   ]
  },
  {
   "cell_type": "markdown",
   "metadata": {
    "button": false,
    "new_sheet": true,
    "run_control": {
     "read_only": false
    },
    "slideshow": {
     "slide_type": "subslide"
    }
   },
   "source": [
    "### Exercise 1: Get Acquainted with Notebooks and Python\n",
    "\n",
    "Your first exercise in this book is to get acquainted with notebooks and Python, such that you can run the code examples in the book – and try out your own. Here are a few tasks to get you started."
   ]
  },
  {
   "cell_type": "markdown",
   "metadata": {
    "button": false,
    "new_sheet": true,
    "run_control": {
     "read_only": false
    },
    "slideshow": {
     "slide_type": "subslide"
    }
   },
   "source": [
    "#### Beginner Level: Run Notebooks in Your Browser\n",
    "\n",
    "The easiest way to get access to the code is to run them in your browser.\n",
    "\n",
    "1. From the [Web Page](__CHAPTER_HTML__), check out the menu at the top. Select `Resources` $\\rightarrow$ `Edit as Notebook`.\n",
    "2. After a short waiting time, this will open a Jupyter Notebook right within your browser, containing the current chapter as a notebook.\n",
    "3. You can again scroll through the material, but you click on any code example to edit and run its code (by entering <kbd>Shift</kbd> + <kbd>Return</kbd>). You can edit the examples as you please.\n",
    "4. Note that code examples typically depend on earlier code, so be sure to run the preceding code first.\n",
    "5. Any changes you make will not be saved (unless you save your notebook to disk).\n",
    "\n",
    "For help on Jupyter Notebooks, from the [Web Page](__CHAPTER_HTML__), check out the `Help` menu."
   ]
  },
  {
   "cell_type": "markdown",
   "metadata": {
    "button": false,
    "new_sheet": true,
    "run_control": {
     "read_only": false
    },
    "slideshow": {
     "slide_type": "subslide"
    }
   },
   "source": [
    "#### Advanced Level: Run Python Code on Your Machine\n",
    "\n",
    "This is useful if you want to make greater changes, but do not want to work with Jupyter.\n",
    "\n",
    "1. From the [Web Page](__CHAPTER_HTML__), check out the menu at the top. Select `Resources` $\\rightarrow$ `Download Code`. \n",
    "2. This will download the Python code of the chapter as a single Python .py file, which you can save to your computer.\n",
    "3. You can then open the file, edit it, and run it in your favorite Python environment to re-run the examples.\n",
    "4. Most importantly, you can [import it](Importing.ipynb) into your own code and reuse functions, classes, and other resources.\n",
    "\n",
    "For help on Python, from the [Web Page](__CHAPTER_HTML__), check out the `Help` menu."
   ]
  },
  {
   "attachments": {},
   "cell_type": "markdown",
   "metadata": {
    "button": false,
    "new_sheet": true,
    "run_control": {
     "read_only": false
    },
    "slideshow": {
     "slide_type": "subslide"
    }
   },
   "source": [
    "#### Pro Level: Run Notebooks on Your Machine\n",
    "\n",
    "This is useful if you want to work with Jupyter on your machine. This will allow you to also run more complex examples, such as those with graphical output.\n",
    "\n",
    "\n",
    "1. From the [Web Page](__CHAPTER_HTML__), check out the menu at the top. Select `Resources` $\\rightarrow$ `All Notebooks`.\n",
    "2. This will download all Jupyter Notebooks as a collection of .ipynb files, which you can save to your computer.\n",
    "3. You can then open the notebooks in Jupyter Notebook or Jupyter Lab, edit them, and run them. To navigate across notebooks, open the notebook [`00_Table_of_Contents.ipynb`](00_Table_of_Contents.ipynb).\n",
    "4. You can also download individual notebooks using Select `Resources` $\\rightarrow$ `Download Notebook`. Running these, however, will require that you have the other notebooks downloaded already.\n",
    "\n",
    "For help on Jupyter Notebooks, from the [Web Page](__CHAPTER_HTML__), check out the `Help` menu."
   ]
  },
  {
   "attachments": {},
   "cell_type": "markdown",
   "metadata": {
    "button": false,
    "new_sheet": true,
    "run_control": {
     "read_only": false
    },
    "slideshow": {
     "slide_type": "subslide"
    }
   },
   "source": [
    "#### Boss Level: Contribute!\n",
    "\n",
    "This is useful if you want to contribute to the book with patches or other material. It also gives you access to the very latest version of the book.\n",
    "\n",
    "1. From the [Web Page](__CHAPTER_HTML__), check out the menu at the top. Select `Resources` $\\rightarrow$ `GitHub Repo`.\n",
    "2. This will get you to the GitHub repository which contains all sources of the book, including the latest notebooks.\n",
    "3. You can then _clone_ this repository to your disk, such that you get the latest and greatest.\n",
    "4. You can report issues and suggest pull requests on the GitHub page.\n",
    "5. Updating the repository with `git pull` will get you updated.\n",
    "\n",
    "If you want to contribute code or text, check out the [Guide for Authors](Guide_for_Authors.ipynb)."
   ]
  },
  {
   "cell_type": "markdown",
   "metadata": {
    "button": false,
    "new_sheet": false,
    "run_control": {
     "read_only": false
    },
    "slideshow": {
     "slide_type": "subslide"
    },
    "solution2": "hidden",
    "solution2_first": true
   },
   "source": [
    "### Exercise 2: More Bugs!\n",
    "\n",
    "You may have noticed that our `remove_html_markup()` function is still not working perfectly under all circumstances.  The error has something to do with different quotes occurring in the input."
   ]
  },
  {
   "cell_type": "markdown",
   "metadata": {
    "button": false,
    "new_sheet": false,
    "run_control": {
     "read_only": false
    },
    "slideshow": {
     "slide_type": "subslide"
    }
   },
   "source": [
    "#### Part 1: Find the Problem\n",
    "\n",
    "What does the problem look like? Set up a test case that demonstrates the problem."
   ]
  },
  {
   "cell_type": "code",
   "execution_count": 60,
   "metadata": {
    "cell_style": "center",
    "execution": {
     "iopub.execute_input": "2025-10-26T17:46:33.681700Z",
     "iopub.status.busy": "2025-10-26T17:46:33.681620Z",
     "iopub.status.idle": "2025-10-26T17:46:33.683171Z",
     "shell.execute_reply": "2025-10-26T17:46:33.682882Z"
    },
    "slideshow": {
     "slide_type": "fragment"
    }
   },
   "outputs": [],
   "source": [
    "assert(...)"
   ]
  },
  {
   "cell_type": "markdown",
   "metadata": {
    "slideshow": {
     "slide_type": "fragment"
    },
    "solution2": "hidden",
    "solution2_first": true
   },
   "source": [
    "Set up additional test cases as useful."
   ]
  },
  {
   "cell_type": "markdown",
   "metadata": {
    "button": false,
    "new_sheet": false,
    "run_control": {
     "read_only": false
    },
    "slideshow": {
     "slide_type": "skip"
    },
    "solution2": "hidden"
   },
   "source": [
    "**Solution.** The remaining problem stems from the fact that in `remove_html_markup()`, we do not differentiate between single and double quotes. Hence, if we have a _quote within a quoted text_, the function may get confused. Notably, a string that begins with a double quote may be interpreted as ending when a single quote is seen, and vice versa. Here's an example of such a string:\n",
    "\n",
    "```html\n",
    "<b title=\"<Shakespeare's play>\">foo</b>\n",
    "```"
   ]
  },
  {
   "cell_type": "markdown",
   "metadata": {
    "slideshow": {
     "slide_type": "skip"
    },
    "solution2": "hidden"
   },
   "source": [
    "When we remove the HTML markup, the `>` in the string is interpreted as _unquoted_. Hence, it is interpreted as ending the tag, such that the rest of the tag is not removed."
   ]
  },
  {
   "cell_type": "code",
   "execution_count": 61,
   "metadata": {
    "execution": {
     "iopub.execute_input": "2025-10-26T17:46:33.684547Z",
     "iopub.status.busy": "2025-10-26T17:46:33.684462Z",
     "iopub.status.idle": "2025-10-26T17:46:33.686327Z",
     "shell.execute_reply": "2025-10-26T17:46:33.686087Z"
    },
    "slideshow": {
     "slide_type": "skip"
    },
    "solution2": "hidden"
   },
   "outputs": [
    {
     "data": {
      "text/plain": [
       "'<b title=\"<Shakespeare\\'s play>\">foo</b>'"
      ]
     },
     "execution_count": 61,
     "metadata": {},
     "output_type": "execute_result"
    }
   ],
   "source": [
    "s = '<b title=\"<Shakespeare' + \"'s play>\" + '\">foo</b>'\n",
    "s"
   ]
  },
  {
   "cell_type": "code",
   "execution_count": 62,
   "metadata": {
    "execution": {
     "iopub.execute_input": "2025-10-26T17:46:33.687743Z",
     "iopub.status.busy": "2025-10-26T17:46:33.687641Z",
     "iopub.status.idle": "2025-10-26T17:46:33.689625Z",
     "shell.execute_reply": "2025-10-26T17:46:33.689383Z"
    },
    "slideshow": {
     "slide_type": "skip"
    },
    "solution2": "hidden"
   },
   "outputs": [
    {
     "data": {
      "text/plain": [
       "'\"foo'"
      ]
     },
     "execution_count": 62,
     "metadata": {},
     "output_type": "execute_result"
    }
   ],
   "source": [
    "remove_html_markup(s)"
   ]
  },
  {
   "cell_type": "code",
   "execution_count": 63,
   "metadata": {
    "cell_style": "split",
    "execution": {
     "iopub.execute_input": "2025-10-26T17:46:33.690912Z",
     "iopub.status.busy": "2025-10-26T17:46:33.690829Z",
     "iopub.status.idle": "2025-10-26T17:46:33.692715Z",
     "shell.execute_reply": "2025-10-26T17:46:33.692453Z"
    },
    "slideshow": {
     "slide_type": "skip"
    },
    "solution2": "hidden"
   },
   "outputs": [
    {
     "name": "stderr",
     "output_type": "stream",
     "text": [
      "Traceback (most recent call last):\n",
      "  File \"/var/folders/n2/xd9445p97rb3xh7m1dfx8_4h0006ts/T/ipykernel_50153/2099129847.py\", line 2, in <module>\n",
      "    assert(remove_html_markup(s) == \"foo\")\n",
      "           ^^^^^^^^^^^^^^^^^^^^^^^^^^^^^^\n",
      "AssertionError (expected)\n"
     ]
    }
   ],
   "source": [
    "with ExpectError():\n",
    "    assert(remove_html_markup(s) == \"foo\")"
   ]
  },
  {
   "cell_type": "markdown",
   "metadata": {
    "slideshow": {
     "slide_type": "subslide"
    },
    "solution2": "hidden",
    "solution2_first": true
   },
   "source": [
    "#### Part 2: Identify Extent and Cause\n",
    "\n",
    "Using the scientific method, identify the extent and cause of the problem. Write down your hypotheses and log your observations, as in\n",
    "\n",
    "|Input|Expectation|Output|Outcome|\n",
    "|-----|-----------|------|-------|\n",
    "|(input)|(expectation)|(output)|(outcome)|\n"
   ]
  },
  {
   "cell_type": "markdown",
   "metadata": {
    "slideshow": {
     "slide_type": "skip"
    },
    "solution2": "hidden"
   },
   "source": [
    "**Solution.** The first step is obviously\n",
    "\n",
    "|Input|Expectation|Output|Outcome|\n",
    "|-----|-----------|------|-------|\n",
    "|<b title=\"<Shakespeare's play>\">foo</b>|foo|\"foo|✘|\n"
   ]
  },
  {
   "cell_type": "markdown",
   "metadata": {
    "slideshow": {
     "slide_type": "subslide"
    },
    "solution2": "hidden",
    "solution2_first": true
   },
   "source": [
    "#### Part 3: Fix the Problem\n",
    "\n",
    "Design a fix for the problem. Show that it satisfies the earlier tests and does not violate any existing test."
   ]
  },
  {
   "cell_type": "markdown",
   "metadata": {
    "slideshow": {
     "slide_type": "skip"
    },
    "solution2": "hidden"
   },
   "source": [
    "**Solution**. Here's an improved implementation that actually tracks the opening and closing quote by storing the quoting character in the `quote` variable. (If `quote` is `''`, we are not in a string.)"
   ]
  },
  {
   "cell_type": "code",
   "execution_count": 64,
   "metadata": {
    "execution": {
     "iopub.execute_input": "2025-10-26T17:46:33.694156Z",
     "iopub.status.busy": "2025-10-26T17:46:33.694055Z",
     "iopub.status.idle": "2025-10-26T17:46:33.696175Z",
     "shell.execute_reply": "2025-10-26T17:46:33.695911Z"
    },
    "slideshow": {
     "slide_type": "skip"
    },
    "solution2": "hidden"
   },
   "outputs": [],
   "source": [
    "def remove_html_markup_with_proper_quotes(s):  # type: ignore\n",
    "    tag = False\n",
    "    quote = ''\n",
    "    out = \"\"\n",
    "\n",
    "    for c in s:\n",
    "        assert tag or quote == ''\n",
    "\n",
    "        if c == '<' and quote == '':\n",
    "            tag = True\n",
    "        elif c == '>' and quote == '':\n",
    "            tag = False\n",
    "        elif (c == '\"' or c == \"'\") and tag and quote == '':\n",
    "            # beginning of string\n",
    "            quote = c\n",
    "        elif c == quote:\n",
    "            # end of string\n",
    "            quote = ''\n",
    "        elif not tag:\n",
    "            out = out + c\n",
    "\n",
    "    return out"
   ]
  },
  {
   "cell_type": "markdown",
   "metadata": {
    "slideshow": {
     "slide_type": "skip"
    },
    "solution2": "hidden"
   },
   "source": [
    "Python enthusiasts may note that we could also write `not quote` instead of `quote == ''`, leaving most of the original code untouched. We stick to classic Boolean comparisons here."
   ]
  },
  {
   "cell_type": "markdown",
   "metadata": {
    "slideshow": {
     "slide_type": "skip"
    },
    "solution2": "hidden"
   },
   "source": [
    "The function now satisfies the earlier failing test:"
   ]
  },
  {
   "cell_type": "code",
   "execution_count": 65,
   "metadata": {
    "cell_style": "split",
    "execution": {
     "iopub.execute_input": "2025-10-26T17:46:33.697732Z",
     "iopub.status.busy": "2025-10-26T17:46:33.697640Z",
     "iopub.status.idle": "2025-10-26T17:46:33.699299Z",
     "shell.execute_reply": "2025-10-26T17:46:33.698995Z"
    },
    "slideshow": {
     "slide_type": "skip"
    },
    "solution2": "hidden"
   },
   "outputs": [],
   "source": [
    "assert(remove_html_markup_with_proper_quotes(s) == \"foo\")"
   ]
  },
  {
   "cell_type": "markdown",
   "metadata": {
    "slideshow": {
     "slide_type": "skip"
    },
    "solution2": "hidden"
   },
   "source": [
    "as well as all our earlier tests:"
   ]
  },
  {
   "cell_type": "code",
   "execution_count": 66,
   "metadata": {
    "execution": {
     "iopub.execute_input": "2025-10-26T17:46:33.700897Z",
     "iopub.status.busy": "2025-10-26T17:46:33.700798Z",
     "iopub.status.idle": "2025-10-26T17:46:33.703034Z",
     "shell.execute_reply": "2025-10-26T17:46:33.702756Z"
    },
    "slideshow": {
     "slide_type": "skip"
    },
    "solution2": "hidden"
   },
   "outputs": [],
   "source": [
    "assert remove_html_markup_with_proper_quotes(\n",
    "    \"Here's some <strong>strong argument</strong>.\") == \\\n",
    "    \"Here's some strong argument.\"\n",
    "assert remove_html_markup_with_proper_quotes(\n",
    "    '<input type=\"text\" value=\"<your name>\">') == \"\"\n",
    "assert remove_html_markup_with_proper_quotes('<b>foo</b>') == 'foo'\n",
    "assert remove_html_markup_with_proper_quotes('<b>\"foo\"</b>') == '\"foo\"'\n",
    "assert remove_html_markup_with_proper_quotes('\"<b>foo</b>\"') == '\"foo\"'\n",
    "assert remove_html_markup_with_proper_quotes('<b id=\"bar\">foo</b>') == 'foo'"
   ]
  }
 ],
 "metadata": {
  "ipub": {
   "bibliography": "fuzzingbook.bib",
   "toc": true
  },
  "kernelspec": {
   "display_name": "Python 3 (ipykernel)",
   "language": "python",
   "name": "python3"
  },
  "language_info": {
   "codemirror_mode": {
    "name": "ipython",
    "version": 3
   },
   "file_extension": ".py",
   "mimetype": "text/x-python",
   "name": "python",
   "nbconvert_exporter": "python",
   "pygments_lexer": "ipython3",
   "version": "3.13.4"
  },
  "toc": {
   "base_numbering": 1,
   "nav_menu": {},
   "number_sections": true,
   "sideBar": true,
   "skip_h1_title": true,
   "title_cell": "",
   "title_sidebar": "Contents",
   "toc_cell": false,
   "toc_position": {},
   "toc_section_display": true,
   "toc_window_display": true
  },
  "toc-autonumbering": false
 },
 "nbformat": 4,
 "nbformat_minor": 4
}