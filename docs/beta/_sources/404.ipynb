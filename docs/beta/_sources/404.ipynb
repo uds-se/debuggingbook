{
 "cells": [
  {
   "attachments": {},
   "cell_type": "markdown",
   "metadata": {
    "button": false,
    "new_sheet": false,
    "run_control": {
     "read_only": false
    },
    "slideshow": {
     "slide_type": "slide"
    }
   },
   "source": [
    "# Oh, no!  We are not ready yet!\n",
    "\n",
    "We're sorry - this page does not exist (yet)."
   ]
  },
  {
   "cell_type": "markdown",
   "metadata": {
    "button": false,
    "new_sheet": false,
    "run_control": {
     "read_only": false
    },
    "slideshow": {
     "slide_type": "slide"
    }
   },
   "source": [
    "## Finding Content\n",
    "\n",
    "Most likely, you have been looking for material that is not yet written or not yet published.  Go to the [home page](/) or choose from the list of chapters."
   ]
  },
  {
   "cell_type": "markdown",
   "metadata": {
    "button": false,
    "new_sheet": false,
    "run_control": {
     "read_only": false
    },
    "slideshow": {
     "slide_type": "fragment"
    }
   },
   "source": [
    "If you think this is an error, please [report an issue](https://github.com/uds-se/debuggingbook/issues)."
   ]
  },
  {
   "cell_type": "markdown",
   "metadata": {
    "button": false,
    "new_sheet": false,
    "run_control": {
     "read_only": false
    },
    "slideshow": {
     "slide_type": "slide"
    }
   },
   "source": [
    "## Getting Informed About New Content\n",
    "\n",
    "New chapters are coming out every week.  To get notified when a new chapter (or this one) comes out, <a href=\"https://mastodon.social/@TheDebuggingBook\">follow us on Mastodon</a>.\n",
    "\n",
    "<!--\n",
    "<iframe allowfullscreen sandbox=\"allow-top-navigation allow-scripts allow-popups allow-popups-to-escape-sandbox\" width=\"400\" height=\"400\" frameBorder=\"0\" src=\"https://mastofeed.com/apiv2/feed?userurl=https%3A%2F%2Fmastodon.social%2Fusers%2FTheDebuggingBook&theme=auto&size=100&header=false&replies=false&boosts=false\"></iframe>\n",
    "-->"
   ]
  },
  {
   "cell_type": "markdown",
   "metadata": {
    "slideshow": {
     "slide_type": "subslide"
    }
   },
   "source": [
    "<link rel=\"stylesheet\" href=\"/html/mastodon-timeline.css\" />\n",
    "<script src=\"/html/mastodon-timeline.js\"></script>\n",
    "<div class=\"mt-timeline\">\n",
    "  <div id=\"mt-body\" class=\"mt-body\" role=\"feed\">\n",
    "    <div class=\"loading-spinner\"></div>\n",
    "  </div>\n",
    "</div>"
   ]
  },
  {
   "cell_type": "markdown",
   "metadata": {
    "slideshow": {
     "slide_type": "slide"
    }
   },
   "source": [
    "## Error Details"
   ]
  },
  {
   "cell_type": "code",
   "execution_count": 1,
   "metadata": {
    "execution": {
     "iopub.execute_input": "2025-10-26T21:22:38.081138Z",
     "iopub.status.busy": "2025-10-26T21:22:38.080674Z",
     "iopub.status.idle": "2025-10-26T21:22:38.843014Z",
     "shell.execute_reply": "2025-10-26T21:22:38.842695Z"
    },
    "slideshow": {
     "slide_type": "skip"
    }
   },
   "outputs": [],
   "source": [
    "import bookutils.setup"
   ]
  },
  {
   "cell_type": "code",
   "execution_count": 2,
   "metadata": {
    "execution": {
     "iopub.execute_input": "2025-10-26T21:22:38.845062Z",
     "iopub.status.busy": "2025-10-26T21:22:38.844957Z",
     "iopub.status.idle": "2025-10-26T21:22:38.846807Z",
     "shell.execute_reply": "2025-10-26T21:22:38.846550Z"
    },
    "slideshow": {
     "slide_type": "fragment"
    }
   },
   "outputs": [],
   "source": [
    "class NotFoundError(Exception):\n",
    "    def __init__(self, value: str = \"404\") -> None:\n",
    "        self.value = value\n",
    "\n",
    "    def __str__(self) -> str:\n",
    "        return repr(self.value)"
   ]
  },
  {
   "cell_type": "code",
   "execution_count": 3,
   "metadata": {
    "execution": {
     "iopub.execute_input": "2025-10-26T21:22:38.848540Z",
     "iopub.status.busy": "2025-10-26T21:22:38.848422Z",
     "iopub.status.idle": "2025-10-26T21:22:38.877384Z",
     "shell.execute_reply": "2025-10-26T21:22:38.877063Z"
    },
    "slideshow": {
     "slide_type": "skip"
    }
   },
   "outputs": [
    {
     "name": "stderr",
     "output_type": "stream",
     "text": [
      "Traceback (most recent call last):\n",
      "  File \"/var/folders/n2/xd9445p97rb3xh7m1dfx8_4h0006ts/T/ipykernel_52620/1830731544.py\", line 4, in <module>\n",
      "    raise NotFoundError\n",
      "NotFoundError: '404' (expected)\n"
     ]
    }
   ],
   "source": [
    "from ExpectError import ExpectError\n",
    "\n",
    "with ExpectError():\n",
    "    raise NotFoundError"
   ]
  }
 ],
 "metadata": {
  "ipub": {
   "bibliography": "fuzzingbook.bib",
   "toc": true
  },
  "kernelspec": {
   "display_name": "Python 3",
   "language": "python",
   "name": "python3"
  },
  "language_info": {
   "codemirror_mode": {
    "name": "ipython",
    "version": 3
   },
   "file_extension": ".py",
   "mimetype": "text/x-python",
   "name": "python",
   "nbconvert_exporter": "python",
   "pygments_lexer": "ipython3",
   "version": "3.13.4"
  },
  "toc": {
   "base_numbering": 1,
   "nav_menu": {},
   "number_sections": true,
   "sideBar": true,
   "skip_h1_title": true,
   "title_cell": "",
   "title_sidebar": "Contents",
   "toc_cell": false,
   "toc_position": {},
   "toc_section_display": true,
   "toc_window_display": true
  },
  "toc-autonumbering": false
 },
 "nbformat": 4,
 "nbformat_minor": 4
}
