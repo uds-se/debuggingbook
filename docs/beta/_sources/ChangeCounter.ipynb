{
 "cells": [
  {
   "cell_type": "markdown",
   "metadata": {
    "button": false,
    "new_sheet": false,
    "run_control": {
     "read_only": false
    },
    "slideshow": {
     "slide_type": "slide"
    }
   },
   "source": [
    "# Where the Bugs are\n",
    "\n",
    "Every time a bug is fixed, developers leave a trace – in the _version database_ when they commit the fix, or in the _bug database_ when they close the bug. In this chapter, we learn how to _mine these repositories_ for past changes and bugs, and how to _map_ them to individual modules and functions, highlighting those project components that have seen most changes and fixes over time."
   ]
  },
  {
   "cell_type": "code",
   "execution_count": 1,
   "metadata": {
    "execution": {
     "iopub.execute_input": "2025-10-26T17:57:13.798830Z",
     "iopub.status.busy": "2025-10-26T17:57:13.798694Z",
     "iopub.status.idle": "2025-10-26T17:57:14.474992Z",
     "shell.execute_reply": "2025-10-26T17:57:14.474727Z"
    },
    "slideshow": {
     "slide_type": "skip"
    }
   },
   "outputs": [
    {
     "data": {
      "text/html": [
       "\n",
       "        <iframe\n",
       "            width=\"640\"\n",
       "            height=\"360\"\n",
       "            src=\"https://www.youtube-nocookie.com/embed/Aifq0JOc1Jc\"\n",
       "            frameborder=\"0\"\n",
       "            allowfullscreen\n",
       "            \n",
       "        ></iframe>\n",
       "        "
      ],
      "text/plain": [
       "<IPython.lib.display.IFrame at 0x1093fef90>"
      ]
     },
     "execution_count": 1,
     "metadata": {},
     "output_type": "execute_result"
    }
   ],
   "source": [
    "from bookutils import YouTubeVideo\n",
    "YouTubeVideo(\"Aifq0JOc1Jc\")"
   ]
  },
  {
   "cell_type": "markdown",
   "metadata": {
    "button": false,
    "new_sheet": false,
    "run_control": {
     "read_only": false
    },
    "slideshow": {
     "slide_type": "subslide"
    }
   },
   "source": [
    "**Prerequisites**\n",
    "\n",
    "* You should have read [the chapter on tracking bugs](Tracking.ipynb)."
   ]
  },
  {
   "cell_type": "code",
   "execution_count": 2,
   "metadata": {
    "button": false,
    "execution": {
     "iopub.execute_input": "2025-10-26T17:57:14.494744Z",
     "iopub.status.busy": "2025-10-26T17:57:14.494602Z",
     "iopub.status.idle": "2025-10-26T17:57:14.496818Z",
     "shell.execute_reply": "2025-10-26T17:57:14.496592Z"
    },
    "new_sheet": false,
    "run_control": {
     "read_only": false
    },
    "slideshow": {
     "slide_type": "skip"
    }
   },
   "outputs": [],
   "source": [
    "import bookutils.setup"
   ]
  },
  {
   "cell_type": "code",
   "execution_count": 3,
   "metadata": {
    "execution": {
     "iopub.execute_input": "2025-10-26T17:57:14.498227Z",
     "iopub.status.busy": "2025-10-26T17:57:14.498127Z",
     "iopub.status.idle": "2025-10-26T17:57:14.635947Z",
     "shell.execute_reply": "2025-10-26T17:57:14.635665Z"
    },
    "slideshow": {
     "slide_type": "skip"
    }
   },
   "outputs": [],
   "source": [
    "import Tracking"
   ]
  },
  {
   "cell_type": "markdown",
   "metadata": {
    "slideshow": {
     "slide_type": "slide"
    }
   },
   "source": [
    "## Synopsis\n",
    "To [use the code provided in this chapter](Importing.ipynb), write\n",
    "\n",
    "```python\n",
    ">>> from debuggingbook.ChangeCounter import <identifier>\n",
    "```\n",
    "\n",
    "and then make use of the following features.\n",
    "\n",
    "**Note**: The examples in this section only work after the rest of the cells have been executed.\n"
   ]
  },
  {
   "cell_type": "markdown",
   "metadata": {
    "slideshow": {
     "slide_type": "fragment"
    }
   },
   "source": [
    "This chapter provides two classes `ChangeCounter` and `FineChangeCounter` that allow mining and visualizing the distribution of changes in a given `git` repository."
   ]
  },
  {
   "cell_type": "markdown",
   "metadata": {
    "slideshow": {
     "slide_type": "subslide"
    }
   },
   "source": [
    "`ChangeCounter` is initialized as\n",
    "\n",
    "```python\n",
    "change_counter = ChangeCounter(repository)\n",
    "```\n",
    "where `repository` is either \n",
    "\n",
    "* a _directory_ containing a `git` clone (i.e., it contains a `.git` directory)\n",
    "* the URL of a `git` repository.\n",
    "\n",
    "Additional arguments are being passed to the underlying `Repository` class from the [PyDriller](https://pydriller.readthedocs.io/) Python package. A `filter` keyword argument, if given, is a predicate that takes a modification (from PyDriller) and returns True if it should be included."
   ]
  },
  {
   "cell_type": "markdown",
   "metadata": {
    "slideshow": {
     "slide_type": "subslide"
    }
   },
   "source": [
    "In a change counter, all elements in the repository are represented as _nodes_ – tuples $(f_1, f_2, ..., f_n)$ that denote a _hierarchy_: Each $f_i$ is a directory holding $f_{i+1}$, with $f_n$ being the actual file.\n",
    "\n",
    "A `change_counter` provides a number of attributes. `changes` is a mapping of nodes to the number of changes in that node:"
   ]
  },
  {
   "cell_type": "code",
   "execution_count": 107,
   "metadata": {
    "execution": {
     "iopub.execute_input": "2025-10-26T18:08:01.550296Z",
     "iopub.status.busy": "2025-10-26T18:08:01.550174Z",
     "iopub.status.idle": "2025-10-26T18:08:01.552518Z",
     "shell.execute_reply": "2025-10-26T18:08:01.552276Z"
    },
    "slideshow": {
     "slide_type": "fragment"
    }
   },
   "outputs": [
    {
     "data": {
      "text/plain": [
       "20"
      ]
     },
     "execution_count": 107,
     "metadata": {},
     "output_type": "execute_result"
    }
   ],
   "source": [
    "change_counter.changes.get(('README.md',), None)"
   ]
  },
  {
   "cell_type": "markdown",
   "metadata": {
    "slideshow": {
     "slide_type": "fragment"
    }
   },
   "source": [
    "The `messages` attribute holds all commit messages related to that node:"
   ]
  },
  {
   "cell_type": "code",
   "execution_count": 108,
   "metadata": {
    "execution": {
     "iopub.execute_input": "2025-10-26T18:08:01.553950Z",
     "iopub.status.busy": "2025-10-26T18:08:01.553842Z",
     "iopub.status.idle": "2025-10-26T18:08:01.560629Z",
     "shell.execute_reply": "2025-10-26T18:08:01.560307Z"
    },
    "slideshow": {
     "slide_type": "subslide"
    }
   },
   "outputs": [
    {
     "data": {
      "text/plain": [
       "['Doc update',\n",
       " 'Doc update',\n",
       " 'Doc update',\n",
       " 'Doc update',\n",
       " 'Fix: corrected rule for rendered notebooks (#24)\\nNew: strip out any <iframe> tags\\nNew: when rendering .md files, replace videos by proper image',\n",
       " 'Doc update',\n",
       " 'Doc update',\n",
       " 'New: show badges at top of GitHub project page',\n",
       " 'More badges',\n",
       " 'Fix: bad links in CI badges',\n",
       " 'New: prefer Unicode arrows over LaTeX ones',\n",
       " 'Updated README.md',\n",
       " 'Update',\n",
       " 'Doc update',\n",
       " 'Doc update',\n",
       " 'Doc update',\n",
       " 'Doc update',\n",
       " 'Updated README',\n",
       " 'Doc update',\n",
       " 'Doc update']"
      ]
     },
     "execution_count": 108,
     "metadata": {},
     "output_type": "execute_result"
    }
   ],
   "source": [
    "change_counter.messages.get(('README.md',), None)"
   ]
  },
  {
   "cell_type": "markdown",
   "metadata": {
    "slideshow": {
     "slide_type": "subslide"
    }
   },
   "source": [
    "The `sizes` attribute holds the (last) size of the respective element:"
   ]
  },
  {
   "cell_type": "code",
   "execution_count": 109,
   "metadata": {
    "execution": {
     "iopub.execute_input": "2025-10-26T18:08:01.562543Z",
     "iopub.status.busy": "2025-10-26T18:08:01.562427Z",
     "iopub.status.idle": "2025-10-26T18:08:01.564903Z",
     "shell.execute_reply": "2025-10-26T18:08:01.564625Z"
    },
    "slideshow": {
     "slide_type": "fragment"
    }
   },
   "outputs": [
    {
     "data": {
      "text/plain": [
       "4728"
      ]
     },
     "execution_count": 109,
     "metadata": {},
     "output_type": "execute_result"
    }
   ],
   "source": [
    "change_counter.sizes.get(('README.md',), None)"
   ]
  },
  {
   "cell_type": "markdown",
   "metadata": {
    "slideshow": {
     "slide_type": "fragment"
    }
   },
   "source": [
    "`FineChangeCounter` acts like `ChangeCounter`, but also retrieves statistics for elements _within_ the respective files; it has been tested for C, Python, and Jupyter Notebooks and should provide sufficient results for programming languages with similar syntax."
   ]
  },
  {
   "cell_type": "markdown",
   "metadata": {
    "slideshow": {
     "slide_type": "fragment"
    }
   },
   "source": [
    "The `map()` method of `ChangeCounter` and `FineChangeCounter` produces an interactive tree map that allows exploring the elements of a repository. The redder (darker) a rectangle, the more changes it has seen; the larger a rectangle, the larger its size in bytes."
   ]
  },
  {
   "cell_type": "code",
   "execution_count": 110,
   "metadata": {
    "execution": {
     "iopub.execute_input": "2025-10-26T18:08:01.566373Z",
     "iopub.status.busy": "2025-10-26T18:08:01.566255Z",
     "iopub.status.idle": "2025-10-26T18:08:01.575786Z",
     "shell.execute_reply": "2025-10-26T18:08:01.575489Z"
    },
    "slideshow": {
     "slide_type": "fragment"
    }
   },
   "outputs": [
    {
     "data": {
      "application/vnd.plotly.v1+json": {
       "config": {
        "plotlyServerURL": "https://plot.ly"
       },
       "data": [
        {
         "branchvalues": "total",
         "hoverinfo": "label+text",
         "ids": [
          "/notebooks/Intro_Debugging.ipynb",
          "/html/custom.css",
          "/Chapters.makefile",
          "/notebooks/02_Observing.ipynb",
          "/notebooks/04_Reducing.ipynb",
          "/notebooks/PerformanceDebugger.ipynb",
          "/notebooks/ThreadDebugger.ipynb",
          "/notebooks/Debugger.ipynb",
          "/notebooks/Tracer.ipynb",
          "/binder/postBuild",
          "/notebooks/Repairer.ipynb",
          "/notebooks/Slicer.ipynb",
          "/notebooks/StackInspector.ipynb",
          "/notebooks/StackInspector.ipynb/StackInspectorDemo",
          "/notebooks/StackInspector.ipynb/StackInspector",
          "/notebooks/StackInspector.ipynb/test",
          "/notebooks/StatisticalDebugger.ipynb",
          "/notebooks/DynamicInvariants.ipynb",
          "/notebooks/DeltaDebugger.ipynb",
          "/notebooks/Guide_for_Authors.ipynb",
          "/notebooks/Assertions.ipynb",
          "/notebooks/Tracking.ipynb",
          "/notebooks/404.ipynb",
          "/notebooks/Template.ipynb",
          "/notebooks/ChangeCounter.ipynb",
          "/notebooks/Time_Travel_Debugger.ipynb",
          "/notebooks/Reducing_Code.ipynb",
          "/notebooks/Reducing_Code.ipynb/Test5",
          "/notebooks/Repairing_Code.ipynb",
          "/mypy/mypy.ini",
          "/notebooks/DDSetDebugger.ipynb",
          "/notebooks/Tours.ipynb",
          "/notebooks/Assertions.ipynb/ManagedMemory",
          "/notebooks/ChangeDebugger.ipynb",
          "/notebooks/DynamicInvariants.ipynb/EmbeddedInvariantTransformer",
          "/notebooks/Repairer.ipynb/CrossoverOperator",
          "/notebooks/Slicer.ipynb/Slicer",
          "/notebooks/index.ipynb",
          "/README.md",
          "/slides/reveal.js",
          "/beta/slides/reveal.js",
          "/notebooks/Importing.ipynb",
          "/code/setup.py.in",
          "/notebooks/ReleaseNotes.ipynb",
          "/.github/workflows/check.yml",
          "/.gitignore",
          "/Makefile",
          "/code/pycodestyle.cfg",
          "/fuzzingbook.bib",
          "/ipypublish",
          "/notebooks/ClassDiagram.ipynb",
          "/notebooks/ExpectError.ipynb",
          "/notebooks/Timer.ipynb",
          "/notebooks/bookutils",
          "/notebooks/fuzzingbook.bib",
          "/shared",
          "/utils",
          "/requirements.txt",
          "/full_notebooks/fuzzingbook.bib",
          "/notebooks/__init__.py",
          "/.github/workflows/check-code.yml",
          "/.github/workflows/check-imports.yml",
          "/.github/workflows/check-types.yml",
          "/beta/code/debuggingbook",
          "/code/debuggingbook",
          "/notebooks/Slicer.ipynb/DependencyTrackerTester",
          "/notebooks/PICS/youtube.png",
          "/BADGES.md",
          "/LICENSE.md",
          "/.github/workflows/html.yml",
          "/.github/workflows/check-notebooks.yml",
          "/binder/requirements.txt",
          "/word/README.md",
          "/word/pandoc.css",
          "/epub/README.md",
          "/notebooks/Slicer.ipynb/args_test",
          "/notebooks/Slicer.ipynb/DependencyTracker",
          "/notebooks/Slicer.ipynb/TrackReturnTransformer",
          "/notebooks/Slicer.ipynb/Instrumenter",
          "/notebooks/Slicer.ipynb/DataTracker",
          "/code/requirements.txt",
          "/notebooks/Reducing_Code.ipynb/Test4",
          "/notebooks/Reducing_Code.ipynb/original",
          "/notebooks/Slicer.ipynb/password_checker",
          "/notebooks/Project_of_your_choice.ipynb",
          "/notebooks/PICS/scalene-out.png",
          "/notebooks/Slicer.ipynb/assert_flow",
          "/binder/environment.yml",
          "/notebooks/ChangeCounter.ipynb/ChangeCounter",
          "/notebooks/ChangeCounter.ipynb/elem_mapping",
          "/notebooks/Repairer.ipynb/StatementMutator",
          "/binder/postBuild.template",
          "/notebooks/Repairer.ipynb/Repairer",
          "/notebooks/Repairer.ipynb/middle_tree",
          "/notebooks/Reducing_Code.ipynb/Parser4",
          "/notebooks/Tracer.ipynb/traceit",
          "/notebooks/Reducing_Code.ipynb/Test0",
          "/CITATION.cff",
          "/.github/ISSUE_TEMPLATE/bug_report.md",
          "/.github/ISSUE_TEMPLATE/feature_request.md",
          "/binder/apt.txt",
          "/.github/workflows/check-sitemap.yml",
          "/notebooks/IllustratedCode.ipynb",
          "/notebooks/IllustratedCode.ipynb/ClassDiagram",
          "/notebooks/IllustratedCode.ipynb/middle_i",
          "/notebooks/IllustratedCode.ipynb/SequenceDiagramTracer",
          "/notebooks/IllustratedCode.ipynb/middle",
          "/notebooks/IllustratedCode.ipynb/factorial",
          "/notebooks/IllustratedCode.ipynb/middle_spec",
          "/notebooks/IllustratedCode.ipynb/Server",
          "/notebooks/IllustratedCode.ipynb/middle_benchmark",
          "/notebooks/Timeout.ipynb",
          "/notebooks/Timeout.ipynb/SignalTimeout",
          "/notebooks/Timeout.ipynb/some_long_running_function",
          "/notebooks/Timeout.ipynb/GenericTimeout",
          "/notebooks/PICS/appicon.png",
          "/notebooks/PerformanceDebugger.ipynb/HitCollector",
          "/notebooks/01_Intro.ipynb",
          "/ipypublish_plugins/html_ipypublish_chapter.py",
          "/notebooks/Slicer.ipynb/LoadVisitor",
          "/notebooks/Slicer.ipynb/Dependencies",
          "/html/mastodon-timeline.css",
          "/html/mastodon-timeline.js",
          "/html/mastodon-timeline.js/function",
          "/html/mastodon-timeline.min.css",
          "/html/mastodon-timeline.min.js",
          "/notebooks/mastodon-timeline.css",
          "/notebooks/mastodon-timeline.js",
          "/notebooks/mastodon-timeline.min.css",
          "/notebooks/mastodon-timeline.min.js",
          "/notebooks/DDSetDebugger.ipynb/TreeGeneralizer",
          "/notebooks/Reducing_Code.ipynb/Parser",
          "/beta/html/mastodon-timeline.css",
          "/beta/html/mastodon-timeline.js",
          "/binder/Dockerfile",
          "/binder/README.md",
          "/code/LICENSE.md",
          "/notebooks/Alhazen.ipynb",
          "/notebooks/Alhazen.ipynb/ExistenceFeature",
          "/notebooks/Alhazen.ipynb/extract_existence",
          "/notebooks/Alhazen.ipynb/collect_features",
          "/notebooks/Alhazen.ipynb/compute_feature_values",
          "/notebooks/Alhazen.ipynb/Feature",
          "/notebooks/Alhazen.ipynb/NumericInterpretation",
          "/notebooks/Alhazen.ipynb/int_fuzzer",
          "/notebooks/Alhazen.ipynb/get_all_features",
          "/notebooks/Alhazen.ipynb/Alhazen",
          "/notebooks/Alhazen.ipynb/extract_numeric",
          "/notebooks/PICS/Alhazen.png",
          "/notebooks/Alhazen.ipynb/extract_existence_features",
          "/notebooks/Alhazen.ipynb/tree_to_paths",
          "/notebooks/Alhazen.ipynb/TreeRequirement",
          "/notebooks/Alhazen.ipynb/TreePath",
          "/code/README.md",
          "/python_code/LICENSE.md",
          "/python_code/README.md",
          "/python_code/__init__.py.in",
          "/python_code/bookutils",
          "/python_code/debuggingbook",
          "/python_code/pycodestyle.cfg",
          "/python_code/setup.py.in",
          "/beta/python_code/LICENSE.md",
          "/beta/python_code/README.md",
          "/beta/python_code/__init__.py.in",
          "/beta/python_code/bookutils",
          "/beta/python_code/debuggingbook",
          "/beta/python_code/setup.py.in",
          "/_config.yml",
          "/_static/custom.css",
          "/_static/fuzzingbook.png",
          "/_static/mastodon-timeline.css",
          "/_toc.yml",
          "/full_notebooks/_build",
          "/full_notebooks/_config.yml",
          "/full_notebooks/_static",
          "/full_notebooks/_toc.yml",
          "/_static/debuggingbook.png",
          "/notebooks/PICS/debuggingbook.key",
          "/notebooks/ChangeDebugger.ipynb/diff",
          "/notebooks/Reducing_Code.ipynb/TestingFramework",
          "/pyproject.toml",
          "/notebooks/Copyright.ipynb",
          "/",
          "/notebooks",
          "/html",
          "/binder",
          "/mypy",
          "/slides",
          "/beta/slides",
          "/beta",
          "/code",
          "/.github/workflows",
          "/.github",
          "/full_notebooks",
          "/beta/code",
          "/notebooks/PICS",
          "/word",
          "/epub",
          "/.github/ISSUE_TEMPLATE",
          "/ipypublish_plugins",
          "/beta/html",
          "/python_code",
          "/beta/python_code",
          "/_static"
         ],
         "labels": [
          "Intro_Debugging.ipynb",
          "custom.css",
          "Chapters.makefile",
          "02_Observing.ipynb",
          "04_Reducing.ipynb",
          "PerformanceDebugger.ipynb",
          "ThreadDebugger.ipynb",
          "Debugger.ipynb",
          "Tracer.ipynb",
          "postBuild",
          "Repairer.ipynb",
          "Slicer.ipynb",
          "StackInspector.ipynb",
          "StackInspectorDemo",
          "StackInspector",
          "test",
          "StatisticalDebugger.ipynb",
          "DynamicInvariants.ipynb",
          "DeltaDebugger.ipynb",
          "Guide_for_Authors.ipynb",
          "Assertions.ipynb",
          "Tracking.ipynb",
          "404.ipynb",
          "Template.ipynb",
          "ChangeCounter.ipynb",
          "Time_Travel_Debugger.ipynb",
          "Reducing_Code.ipynb",
          "Test5",
          "Repairing_Code.ipynb",
          "mypy.ini",
          "DDSetDebugger.ipynb",
          "Tours.ipynb",
          "ManagedMemory",
          "ChangeDebugger.ipynb",
          "EmbeddedInvariantTransformer",
          "CrossoverOperator",
          "Slicer",
          "index.ipynb",
          "README.md",
          "reveal.js",
          "reveal.js",
          "Importing.ipynb",
          "setup.py.in",
          "ReleaseNotes.ipynb",
          "check.yml",
          ".gitignore",
          "Makefile",
          "pycodestyle.cfg",
          "fuzzingbook.bib",
          "ipypublish",
          "ClassDiagram.ipynb",
          "ExpectError.ipynb",
          "Timer.ipynb",
          "bookutils",
          "fuzzingbook.bib",
          "shared",
          "utils",
          "requirements.txt",
          "fuzzingbook.bib",
          "__init__.py",
          "check-code.yml",
          "check-imports.yml",
          "check-types.yml",
          "debuggingbook",
          "debuggingbook",
          "DependencyTrackerTester",
          "youtube.png",
          "BADGES.md",
          "LICENSE.md",
          "html.yml",
          "check-notebooks.yml",
          "requirements.txt",
          "README.md",
          "pandoc.css",
          "README.md",
          "args_test",
          "DependencyTracker",
          "TrackReturnTransformer",
          "Instrumenter",
          "DataTracker",
          "requirements.txt",
          "Test4",
          "original",
          "password_checker",
          "Project_of_your_choice.ipynb",
          "scalene-out.png",
          "assert_flow",
          "environment.yml",
          "ChangeCounter",
          "elem_mapping",
          "StatementMutator",
          "postBuild.template",
          "Repairer",
          "middle_tree",
          "Parser4",
          "traceit",
          "Test0",
          "CITATION.cff",
          "bug_report.md",
          "feature_request.md",
          "apt.txt",
          "check-sitemap.yml",
          "IllustratedCode.ipynb",
          "ClassDiagram",
          "middle_i",
          "SequenceDiagramTracer",
          "middle",
          "factorial",
          "middle_spec",
          "Server",
          "middle_benchmark",
          "Timeout.ipynb",
          "SignalTimeout",
          "some_long_running_function",
          "GenericTimeout",
          "appicon.png",
          "HitCollector",
          "01_Intro.ipynb",
          "html_ipypublish_chapter.py",
          "LoadVisitor",
          "Dependencies",
          "mastodon-timeline.css",
          "mastodon-timeline.js",
          "function",
          "mastodon-timeline.min.css",
          "mastodon-timeline.min.js",
          "mastodon-timeline.css",
          "mastodon-timeline.js",
          "mastodon-timeline.min.css",
          "mastodon-timeline.min.js",
          "TreeGeneralizer",
          "Parser",
          "mastodon-timeline.css",
          "mastodon-timeline.js",
          "Dockerfile",
          "README.md",
          "LICENSE.md",
          "Alhazen.ipynb",
          "ExistenceFeature",
          "extract_existence",
          "collect_features",
          "compute_feature_values",
          "Feature",
          "NumericInterpretation",
          "int_fuzzer",
          "get_all_features",
          "Alhazen",
          "extract_numeric",
          "Alhazen.png",
          "extract_existence_features",
          "tree_to_paths",
          "TreeRequirement",
          "TreePath",
          "README.md",
          "LICENSE.md",
          "README.md",
          "__init__.py.in",
          "bookutils",
          "debuggingbook",
          "pycodestyle.cfg",
          "setup.py.in",
          "LICENSE.md",
          "README.md",
          "__init__.py.in",
          "bookutils",
          "debuggingbook",
          "setup.py.in",
          "_config.yml",
          "custom.css",
          "fuzzingbook.png",
          "mastodon-timeline.css",
          "_toc.yml",
          "_build",
          "_config.yml",
          "_static",
          "_toc.yml",
          "debuggingbook.png",
          "debuggingbook.key",
          "diff",
          "TestingFramework",
          "pyproject.toml",
          "Copyright.ipynb",
          "/Users/zeller/Projects/debuggingbook",
          "notebooks",
          "html",
          "binder",
          "mypy",
          "slides",
          "slides",
          "beta",
          "code",
          "workflows",
          ".github",
          "full_notebooks",
          "code",
          "PICS",
          "word",
          "epub",
          "ISSUE_TEMPLATE",
          "ipypublish_plugins",
          "html",
          "python_code",
          "python_code",
          "_static"
         ],
         "marker": {
          "colors": [
           15,
           4,
           33,
           1,
           1,
           23,
           3,
           14,
           32,
           18,
           34,
           53,
           12,
           1,
           2,
           1,
           26,
           21,
           27,
           10,
           18,
           21,
           9,
           3,
           47,
           7,
           9,
           1,
           8,
           2,
           16,
           11,
           2,
           22,
           1,
           1,
           3,
           23,
           20,
           26,
           26,
           12,
           24,
           29,
           15,
           14,
           1,
           1,
           1,
           1,
           1,
           1,
           1,
           1,
           2,
           1,
           1,
           40,
           1,
           2,
           23,
           12,
           12,
           1,
           1,
           1,
           1,
           7,
           1,
           2,
           16,
           2,
           1,
           1,
           1,
           1,
           1,
           1,
           1,
           1,
           2,
           1,
           1,
           1,
           1,
           1,
           1,
           5,
           2,
           1,
           1,
           17,
           1,
           2,
           1,
           1,
           1,
           2,
           1,
           1,
           7,
           2,
           9,
           1,
           1,
           1,
           1,
           1,
           1,
           1,
           1,
           2,
           1,
           1,
           1,
           1,
           1,
           1,
           2,
           1,
           1,
           1,
           1,
           1,
           1,
           1,
           1,
           1,
           1,
           1,
           1,
           1,
           1,
           1,
           12,
           1,
           2,
           25,
           3,
           1,
           1,
           1,
           1,
           1,
           1,
           1,
           2,
           1,
           1,
           1,
           1,
           1,
           1,
           1,
           1,
           1,
           1,
           1,
           1,
           1,
           1,
           1,
           1,
           1,
           1,
           1,
           1,
           4,
           1,
           2,
           1,
           2,
           1,
           1,
           1,
           1,
           1,
           1,
           1,
           2,
           2,
           1,
           null,
           null,
           null,
           null,
           null,
           null,
           null,
           null,
           null,
           null,
           null,
           null,
           null,
           null,
           null,
           null,
           null,
           null,
           null,
           null,
           null,
           null
          ],
          "colorscale": [
           [
            0.0,
            "rgb(255,255,204)"
           ],
           [
            0.125,
            "rgb(255,237,160)"
           ],
           [
            0.25,
            "rgb(254,217,118)"
           ],
           [
            0.375,
            "rgb(254,178,76)"
           ],
           [
            0.5,
            "rgb(253,141,60)"
           ],
           [
            0.625,
            "rgb(252,78,42)"
           ],
           [
            0.75,
            "rgb(227,26,28)"
           ],
           [
            0.875,
            "rgb(189,0,38)"
           ],
           [
            1.0,
            "rgb(128,0,38)"
           ]
          ]
         },
         "parents": [
          "/notebooks",
          "/html",
          "/",
          "/notebooks",
          "/notebooks",
          "/notebooks",
          "/notebooks",
          "/notebooks",
          "/notebooks",
          "/binder",
          "/notebooks",
          "/notebooks",
          "/notebooks",
          "/notebooks/StackInspector.ipynb",
          "/notebooks/StackInspector.ipynb",
          "/notebooks/StackInspector.ipynb",
          "/notebooks",
          "/notebooks",
          "/notebooks",
          "/notebooks",
          "/notebooks",
          "/notebooks",
          "/notebooks",
          "/notebooks",
          "/notebooks",
          "/notebooks",
          "/notebooks",
          "/notebooks/Reducing_Code.ipynb",
          "/notebooks",
          "/mypy",
          "/notebooks",
          "/notebooks",
          "/notebooks/Assertions.ipynb",
          "/notebooks",
          "/notebooks/DynamicInvariants.ipynb",
          "/notebooks/Repairer.ipynb",
          "/notebooks/Slicer.ipynb",
          "/notebooks",
          "/",
          "/slides",
          "/beta/slides",
          "/notebooks",
          "/code",
          "/notebooks",
          "/.github/workflows",
          "/",
          "/",
          "/code",
          "/",
          "/",
          "/notebooks",
          "/notebooks",
          "/notebooks",
          "/notebooks",
          "/notebooks",
          "/",
          "/",
          "/",
          "/full_notebooks",
          "/notebooks",
          "/.github/workflows",
          "/.github/workflows",
          "/.github/workflows",
          "/beta/code",
          "/code",
          "/notebooks/Slicer.ipynb",
          "/notebooks/PICS",
          "/",
          "/",
          "/.github/workflows",
          "/.github/workflows",
          "/binder",
          "/word",
          "/word",
          "/epub",
          "/notebooks/Slicer.ipynb",
          "/notebooks/Slicer.ipynb",
          "/notebooks/Slicer.ipynb",
          "/notebooks/Slicer.ipynb",
          "/notebooks/Slicer.ipynb",
          "/code",
          "/notebooks/Reducing_Code.ipynb",
          "/notebooks/Reducing_Code.ipynb",
          "/notebooks/Slicer.ipynb",
          "/notebooks",
          "/notebooks/PICS",
          "/notebooks/Slicer.ipynb",
          "/binder",
          "/notebooks/ChangeCounter.ipynb",
          "/notebooks/ChangeCounter.ipynb",
          "/notebooks/Repairer.ipynb",
          "/binder",
          "/notebooks/Repairer.ipynb",
          "/notebooks/Repairer.ipynb",
          "/notebooks/Reducing_Code.ipynb",
          "/notebooks/Tracer.ipynb",
          "/notebooks/Reducing_Code.ipynb",
          "/",
          "/.github/ISSUE_TEMPLATE",
          "/.github/ISSUE_TEMPLATE",
          "/binder",
          "/.github/workflows",
          "/notebooks",
          "/notebooks/IllustratedCode.ipynb",
          "/notebooks/IllustratedCode.ipynb",
          "/notebooks/IllustratedCode.ipynb",
          "/notebooks/IllustratedCode.ipynb",
          "/notebooks/IllustratedCode.ipynb",
          "/notebooks/IllustratedCode.ipynb",
          "/notebooks/IllustratedCode.ipynb",
          "/notebooks/IllustratedCode.ipynb",
          "/notebooks",
          "/notebooks/Timeout.ipynb",
          "/notebooks/Timeout.ipynb",
          "/notebooks/Timeout.ipynb",
          "/notebooks/PICS",
          "/notebooks/PerformanceDebugger.ipynb",
          "/notebooks",
          "/ipypublish_plugins",
          "/notebooks/Slicer.ipynb",
          "/notebooks/Slicer.ipynb",
          "/html",
          "/html",
          "/html/mastodon-timeline.js",
          "/html",
          "/html",
          "/notebooks",
          "/notebooks",
          "/notebooks",
          "/notebooks",
          "/notebooks/DDSetDebugger.ipynb",
          "/notebooks/Reducing_Code.ipynb",
          "/beta/html",
          "/beta/html",
          "/binder",
          "/binder",
          "/code",
          "/notebooks",
          "/notebooks/Alhazen.ipynb",
          "/notebooks/Alhazen.ipynb",
          "/notebooks/Alhazen.ipynb",
          "/notebooks/Alhazen.ipynb",
          "/notebooks/Alhazen.ipynb",
          "/notebooks/Alhazen.ipynb",
          "/notebooks/Alhazen.ipynb",
          "/notebooks/Alhazen.ipynb",
          "/notebooks/Alhazen.ipynb",
          "/notebooks/Alhazen.ipynb",
          "/notebooks/PICS",
          "/notebooks/Alhazen.ipynb",
          "/notebooks/Alhazen.ipynb",
          "/notebooks/Alhazen.ipynb",
          "/notebooks/Alhazen.ipynb",
          "/code",
          "/python_code",
          "/python_code",
          "/python_code",
          "/python_code",
          "/python_code",
          "/python_code",
          "/python_code",
          "/beta/python_code",
          "/beta/python_code",
          "/beta/python_code",
          "/beta/python_code",
          "/beta/python_code",
          "/beta/python_code",
          "/",
          "/_static",
          "/_static",
          "/_static",
          "/",
          "/full_notebooks",
          "/full_notebooks",
          "/full_notebooks",
          "/full_notebooks",
          "/_static",
          "/notebooks/PICS",
          "/notebooks/ChangeDebugger.ipynb",
          "/notebooks/Reducing_Code.ipynb",
          "/",
          "/notebooks",
          null,
          "/",
          "/",
          "/",
          "/",
          "/",
          "/beta",
          "/",
          "/",
          "/.github",
          "/",
          "/",
          "/beta",
          "/notebooks",
          "/",
          "/",
          "/.github",
          "/",
          "/beta",
          "/",
          "/beta",
          "/"
         ],
         "text": [
          "15",
          "4",
          "33",
          "1",
          "1",
          "23",
          "3",
          "14",
          "32",
          "18",
          "34",
          "53",
          "12",
          "1",
          "2",
          "1",
          "26",
          "21",
          "27",
          "10",
          "18",
          "21",
          "9",
          "3",
          "47",
          "7",
          "9",
          "1",
          "8",
          "2",
          "16",
          "11",
          "2",
          "22",
          "1",
          "1",
          "3",
          "23",
          "20",
          "26",
          "26",
          "12",
          "24",
          "29",
          "15",
          "14",
          "1",
          "1",
          "1",
          "1",
          "1",
          "1",
          "1",
          "1",
          "2",
          "1",
          "1",
          "40",
          "1",
          "2",
          "23",
          "12",
          "12",
          "1",
          "1",
          "1",
          "1",
          "7",
          "1",
          "2",
          "16",
          "2",
          "1",
          "1",
          "1",
          "1",
          "1",
          "1",
          "1",
          "1",
          "2",
          "1",
          "1",
          "1",
          "1",
          "1",
          "1",
          "5",
          "2",
          "1",
          "1",
          "17",
          "1",
          "2",
          "1",
          "1",
          "1",
          "2",
          "1",
          "1",
          "7",
          "2",
          "9",
          "1",
          "1",
          "1",
          "1",
          "1",
          "1",
          "1",
          "1",
          "2",
          "1",
          "1",
          "1",
          "1",
          "1",
          "1",
          "2",
          "1",
          "1",
          "1",
          "1",
          "1",
          "1",
          "1",
          "1",
          "1",
          "1",
          "1",
          "1",
          "1",
          "1",
          "1",
          "12",
          "1",
          "2",
          "25",
          "3",
          "1",
          "1",
          "1",
          "1",
          "1",
          "1",
          "1",
          "2",
          "1",
          "1",
          "1",
          "1",
          "1",
          "1",
          "1",
          "1",
          "1",
          "1",
          "1",
          "1",
          "1",
          "1",
          "1",
          "1",
          "1",
          "1",
          "1",
          "1",
          "4",
          "1",
          "2",
          "1",
          "2",
          "1",
          "1",
          "1",
          "1",
          "1",
          "1",
          "1",
          "2",
          "2",
          "1",
          null,
          null,
          null,
          null,
          null,
          null,
          null,
          null,
          null,
          null,
          null,
          null,
          null,
          null,
          null,
          null,
          null,
          null,
          null,
          null,
          null,
          null
         ],
         "type": "treemap",
         "values": [
          11.50580014002764,
          9.593287168653745,
          8.243282523048375,
          7.537962659768208,
          7.3938782901077555,
          17.736720989446333,
          8.89877535906107,
          10.862071196600535,
          17.899004329374137,
          9.7107519573933,
          43.619163210564665,
          92.06786356304674,
          28.992453729840335,
          5.697093486505405,
          8.614138397472717,
          4.859812404361672,
          11.764446538565187,
          19.29835548379257,
          11.789806920177805,
          10.922479266642203,
          19.497773376874278,
          11.178235638911106,
          8.275121630216509,
          9.22631214148588,
          26.969887551900143,
          10.459410817205152,
          53.53905470199441,
          4.919980925828125,
          10.715972115684695,
          7.005789019253503,
          19.94752237378057,
          8.611775833902186,
          7.854381210652365,
          18.27721317923159,
          7.387090235656757,
          8.600982717145921,
          8.97638862194537,
          9.664913054191375,
          8.461469042643875,
          5.66988092298052,
          5.66988092298052,
          9.422463420006927,
          7.699842407396986,
          8.930626469173578,
          7.3833681469923835,
          7.358830898342354,
          3.258096538021482,
          3.258096538021482,
          3.4965075614664802,
          3.332204510175204,
          3.258096538021482,
          3.2188758248682006,
          2.9444389791664403,
          2.833213344056216,
          3.1354942159291497,
          2.833213344056216,
          3.1354942159291497,
          7.2115567333138015,
          3.58351893845611,
          0.0,
          7.741099090035366,
          7.549609165154532,
          7.571473648851271,
          0.6931471805599453,
          0.6931471805599453,
          5.170483995038151,
          12.45854973099653,
          7.3613754289773485,
          9.932366512086505,
          7.309212365692763,
          7.639642287858013,
          5.351858133476067,
          4.110873864173311,
          8.343791731996841,
          4.110873864173311,
          4.574710978503383,
          9.560292770154089,
          7.528331766707247,
          7.659642954564682,
          8.591372589590488,
          2.995732273553991,
          4.844187086458591,
          7.162397497355718,
          6.003887067106539,
          8.86827250899781,
          12.223829063119387,
          5.54907608489522,
          6.577861357721047,
          8.942330199321866,
          6.860663671448287,
          9.068776807654396,
          7.509335266016592,
          9.541871851706224,
          4.543294782270004,
          7.00669522683704,
          6.752270376141742,
          4.919980925828125,
          6.251903883165888,
          6.47543271670409,
          6.329720905522696,
          6.226536669287466,
          7.570443252057374,
          56.940832001585306,
          6.777646593635117,
          4.919980925828125,
          7.1372784372603855,
          6.025865973825314,
          4.553876891600541,
          4.564348191467836,
          6.016157159698354,
          6.434546518787453,
          22.67400232048978,
          7.31455283232408,
          4.8283137373023015,
          7.486613313139955,
          11.105483403977843,
          6.915723448631314,
          7.355641102974253,
          9.054154288786854,
          6.210600077024653,
          9.992001966066868,
          9.040737587590003,
          20.138147653478654,
          9.974644746852457,
          8.822911626354117,
          9.53834831589953,
          3.4011973816621555,
          3.367295829986474,
          3.5263605246161616,
          3.4965075614664802,
          8.633731007664188,
          6.0014148779611505,
          3.4965075614664802,
          3.4657359027997265,
          7.980023592310645,
          6.467698726104354,
          7.005789019253503,
          108.92534300938851,
          7.964850887447313,
          6.539585955617669,
          6.930494765951626,
          6.556778356158042,
          7.068172000388042,
          7.6236419465115715,
          5.049856007249537,
          4.927253685157205,
          8.374707543119483,
          7.575584651557793,
          10.557322015710533,
          6.824373670043086,
          6.673297967767654,
          8.357024439263416,
          6.7580945044277305,
          7.691656822810547,
          0.0,
          0.0,
          0.0,
          0.0,
          0.0,
          0.0,
          0.0,
          0.0,
          0.0,
          0.0,
          0.0,
          0.0,
          0.0,
          7.763446388727362,
          6.903747257584598,
          0.0,
          9.040737587590003,
          6.956545443151569,
          2.302585092994046,
          2.70805020110221,
          2.3978952727983707,
          2.4849066497880004,
          13.11577572640063,
          13.142583564569074,
          6.893656354602635,
          7.911690520708339,
          7.791935956938058,
          7.59890045687141,
          1215.455148200708,
          826.0373033600276,
          57.13343235197611,
          49.82406570230952,
          7.005789019253511,
          5.669880922980526,
          5.669880922980526,
          13.325271567806698,
          29.344264241596484,
          52.76484795664176,
          65.57000157886863,
          13.476956155138753,
          0.6931471805599461,
          59.48776777837344,
          12.454665596170166,
          4.110873864173316,
          12.8051536222268,
          9.054154288786865,
          6.962243464266215,
          0.0,
          0.0,
          29.060260571575263
         ]
        }
       ],
       "layout": {
        "margin": {
         "b": 0,
         "l": 0,
         "r": 0,
         "t": 30
        },
        "template": {
         "data": {
          "bar": [
           {
            "error_x": {
             "color": "#2a3f5f"
            },
            "error_y": {
             "color": "#2a3f5f"
            },
            "marker": {
             "line": {
              "color": "#E5ECF6",
              "width": 0.5
             },
             "pattern": {
              "fillmode": "overlay",
              "size": 10,
              "solidity": 0.2
             }
            },
            "type": "bar"
           }
          ],
          "barpolar": [
           {
            "marker": {
             "line": {
              "color": "#E5ECF6",
              "width": 0.5
             },
             "pattern": {
              "fillmode": "overlay",
              "size": 10,
              "solidity": 0.2
             }
            },
            "type": "barpolar"
           }
          ],
          "carpet": [
           {
            "aaxis": {
             "endlinecolor": "#2a3f5f",
             "gridcolor": "white",
             "linecolor": "white",
             "minorgridcolor": "white",
             "startlinecolor": "#2a3f5f"
            },
            "baxis": {
             "endlinecolor": "#2a3f5f",
             "gridcolor": "white",
             "linecolor": "white",
             "minorgridcolor": "white",
             "startlinecolor": "#2a3f5f"
            },
            "type": "carpet"
           }
          ],
          "choropleth": [
           {
            "colorbar": {
             "outlinewidth": 0,
             "ticks": ""
            },
            "type": "choropleth"
           }
          ],
          "contour": [
           {
            "colorbar": {
             "outlinewidth": 0,
             "ticks": ""
            },
            "colorscale": [
             [
              0.0,
              "#0d0887"
             ],
             [
              0.1111111111111111,
              "#46039f"
             ],
             [
              0.2222222222222222,
              "#7201a8"
             ],
             [
              0.3333333333333333,
              "#9c179e"
             ],
             [
              0.4444444444444444,
              "#bd3786"
             ],
             [
              0.5555555555555556,
              "#d8576b"
             ],
             [
              0.6666666666666666,
              "#ed7953"
             ],
             [
              0.7777777777777778,
              "#fb9f3a"
             ],
             [
              0.8888888888888888,
              "#fdca26"
             ],
             [
              1.0,
              "#f0f921"
             ]
            ],
            "type": "contour"
           }
          ],
          "contourcarpet": [
           {
            "colorbar": {
             "outlinewidth": 0,
             "ticks": ""
            },
            "type": "contourcarpet"
           }
          ],
          "heatmap": [
           {
            "colorbar": {
             "outlinewidth": 0,
             "ticks": ""
            },
            "colorscale": [
             [
              0.0,
              "#0d0887"
             ],
             [
              0.1111111111111111,
              "#46039f"
             ],
             [
              0.2222222222222222,
              "#7201a8"
             ],
             [
              0.3333333333333333,
              "#9c179e"
             ],
             [
              0.4444444444444444,
              "#bd3786"
             ],
             [
              0.5555555555555556,
              "#d8576b"
             ],
             [
              0.6666666666666666,
              "#ed7953"
             ],
             [
              0.7777777777777778,
              "#fb9f3a"
             ],
             [
              0.8888888888888888,
              "#fdca26"
             ],
             [
              1.0,
              "#f0f921"
             ]
            ],
            "type": "heatmap"
           }
          ],
          "histogram": [
           {
            "marker": {
             "pattern": {
              "fillmode": "overlay",
              "size": 10,
              "solidity": 0.2
             }
            },
            "type": "histogram"
           }
          ],
          "histogram2d": [
           {
            "colorbar": {
             "outlinewidth": 0,
             "ticks": ""
            },
            "colorscale": [
             [
              0.0,
              "#0d0887"
             ],
             [
              0.1111111111111111,
              "#46039f"
             ],
             [
              0.2222222222222222,
              "#7201a8"
             ],
             [
              0.3333333333333333,
              "#9c179e"
             ],
             [
              0.4444444444444444,
              "#bd3786"
             ],
             [
              0.5555555555555556,
              "#d8576b"
             ],
             [
              0.6666666666666666,
              "#ed7953"
             ],
             [
              0.7777777777777778,
              "#fb9f3a"
             ],
             [
              0.8888888888888888,
              "#fdca26"
             ],
             [
              1.0,
              "#f0f921"
             ]
            ],
            "type": "histogram2d"
           }
          ],
          "histogram2dcontour": [
           {
            "colorbar": {
             "outlinewidth": 0,
             "ticks": ""
            },
            "colorscale": [
             [
              0.0,
              "#0d0887"
             ],
             [
              0.1111111111111111,
              "#46039f"
             ],
             [
              0.2222222222222222,
              "#7201a8"
             ],
             [
              0.3333333333333333,
              "#9c179e"
             ],
             [
              0.4444444444444444,
              "#bd3786"
             ],
             [
              0.5555555555555556,
              "#d8576b"
             ],
             [
              0.6666666666666666,
              "#ed7953"
             ],
             [
              0.7777777777777778,
              "#fb9f3a"
             ],
             [
              0.8888888888888888,
              "#fdca26"
             ],
             [
              1.0,
              "#f0f921"
             ]
            ],
            "type": "histogram2dcontour"
           }
          ],
          "mesh3d": [
           {
            "colorbar": {
             "outlinewidth": 0,
             "ticks": ""
            },
            "type": "mesh3d"
           }
          ],
          "parcoords": [
           {
            "line": {
             "colorbar": {
              "outlinewidth": 0,
              "ticks": ""
             }
            },
            "type": "parcoords"
           }
          ],
          "pie": [
           {
            "automargin": true,
            "type": "pie"
           }
          ],
          "scatter": [
           {
            "fillpattern": {
             "fillmode": "overlay",
             "size": 10,
             "solidity": 0.2
            },
            "type": "scatter"
           }
          ],
          "scatter3d": [
           {
            "line": {
             "colorbar": {
              "outlinewidth": 0,
              "ticks": ""
             }
            },
            "marker": {
             "colorbar": {
              "outlinewidth": 0,
              "ticks": ""
             }
            },
            "type": "scatter3d"
           }
          ],
          "scattercarpet": [
           {
            "marker": {
             "colorbar": {
              "outlinewidth": 0,
              "ticks": ""
             }
            },
            "type": "scattercarpet"
           }
          ],
          "scattergeo": [
           {
            "marker": {
             "colorbar": {
              "outlinewidth": 0,
              "ticks": ""
             }
            },
            "type": "scattergeo"
           }
          ],
          "scattergl": [
           {
            "marker": {
             "colorbar": {
              "outlinewidth": 0,
              "ticks": ""
             }
            },
            "type": "scattergl"
           }
          ],
          "scattermap": [
           {
            "marker": {
             "colorbar": {
              "outlinewidth": 0,
              "ticks": ""
             }
            },
            "type": "scattermap"
           }
          ],
          "scattermapbox": [
           {
            "marker": {
             "colorbar": {
              "outlinewidth": 0,
              "ticks": ""
             }
            },
            "type": "scattermapbox"
           }
          ],
          "scatterpolar": [
           {
            "marker": {
             "colorbar": {
              "outlinewidth": 0,
              "ticks": ""
             }
            },
            "type": "scatterpolar"
           }
          ],
          "scatterpolargl": [
           {
            "marker": {
             "colorbar": {
              "outlinewidth": 0,
              "ticks": ""
             }
            },
            "type": "scatterpolargl"
           }
          ],
          "scatterternary": [
           {
            "marker": {
             "colorbar": {
              "outlinewidth": 0,
              "ticks": ""
             }
            },
            "type": "scatterternary"
           }
          ],
          "surface": [
           {
            "colorbar": {
             "outlinewidth": 0,
             "ticks": ""
            },
            "colorscale": [
             [
              0.0,
              "#0d0887"
             ],
             [
              0.1111111111111111,
              "#46039f"
             ],
             [
              0.2222222222222222,
              "#7201a8"
             ],
             [
              0.3333333333333333,
              "#9c179e"
             ],
             [
              0.4444444444444444,
              "#bd3786"
             ],
             [
              0.5555555555555556,
              "#d8576b"
             ],
             [
              0.6666666666666666,
              "#ed7953"
             ],
             [
              0.7777777777777778,
              "#fb9f3a"
             ],
             [
              0.8888888888888888,
              "#fdca26"
             ],
             [
              1.0,
              "#f0f921"
             ]
            ],
            "type": "surface"
           }
          ],
          "table": [
           {
            "cells": {
             "fill": {
              "color": "#EBF0F8"
             },
             "line": {
              "color": "white"
             }
            },
            "header": {
             "fill": {
              "color": "#C8D4E3"
             },
             "line": {
              "color": "white"
             }
            },
            "type": "table"
           }
          ]
         },
         "layout": {
          "annotationdefaults": {
           "arrowcolor": "#2a3f5f",
           "arrowhead": 0,
           "arrowwidth": 1
          },
          "autotypenumbers": "strict",
          "coloraxis": {
           "colorbar": {
            "outlinewidth": 0,
            "ticks": ""
           }
          },
          "colorscale": {
           "diverging": [
            [
             0,
             "#8e0152"
            ],
            [
             0.1,
             "#c51b7d"
            ],
            [
             0.2,
             "#de77ae"
            ],
            [
             0.3,
             "#f1b6da"
            ],
            [
             0.4,
             "#fde0ef"
            ],
            [
             0.5,
             "#f7f7f7"
            ],
            [
             0.6,
             "#e6f5d0"
            ],
            [
             0.7,
             "#b8e186"
            ],
            [
             0.8,
             "#7fbc41"
            ],
            [
             0.9,
             "#4d9221"
            ],
            [
             1,
             "#276419"
            ]
           ],
           "sequential": [
            [
             0.0,
             "#0d0887"
            ],
            [
             0.1111111111111111,
             "#46039f"
            ],
            [
             0.2222222222222222,
             "#7201a8"
            ],
            [
             0.3333333333333333,
             "#9c179e"
            ],
            [
             0.4444444444444444,
             "#bd3786"
            ],
            [
             0.5555555555555556,
             "#d8576b"
            ],
            [
             0.6666666666666666,
             "#ed7953"
            ],
            [
             0.7777777777777778,
             "#fb9f3a"
            ],
            [
             0.8888888888888888,
             "#fdca26"
            ],
            [
             1.0,
             "#f0f921"
            ]
           ],
           "sequentialminus": [
            [
             0.0,
             "#0d0887"
            ],
            [
             0.1111111111111111,
             "#46039f"
            ],
            [
             0.2222222222222222,
             "#7201a8"
            ],
            [
             0.3333333333333333,
             "#9c179e"
            ],
            [
             0.4444444444444444,
             "#bd3786"
            ],
            [
             0.5555555555555556,
             "#d8576b"
            ],
            [
             0.6666666666666666,
             "#ed7953"
            ],
            [
             0.7777777777777778,
             "#fb9f3a"
            ],
            [
             0.8888888888888888,
             "#fdca26"
            ],
            [
             1.0,
             "#f0f921"
            ]
           ]
          },
          "colorway": [
           "#636efa",
           "#EF553B",
           "#00cc96",
           "#ab63fa",
           "#FFA15A",
           "#19d3f3",
           "#FF6692",
           "#B6E880",
           "#FF97FF",
           "#FECB52"
          ],
          "font": {
           "color": "#2a3f5f"
          },
          "geo": {
           "bgcolor": "white",
           "lakecolor": "white",
           "landcolor": "#E5ECF6",
           "showlakes": true,
           "showland": true,
           "subunitcolor": "white"
          },
          "hoverlabel": {
           "align": "left"
          },
          "hovermode": "closest",
          "mapbox": {
           "style": "light"
          },
          "paper_bgcolor": "white",
          "plot_bgcolor": "#E5ECF6",
          "polar": {
           "angularaxis": {
            "gridcolor": "white",
            "linecolor": "white",
            "ticks": ""
           },
           "bgcolor": "#E5ECF6",
           "radialaxis": {
            "gridcolor": "white",
            "linecolor": "white",
            "ticks": ""
           }
          },
          "scene": {
           "xaxis": {
            "backgroundcolor": "#E5ECF6",
            "gridcolor": "white",
            "gridwidth": 2,
            "linecolor": "white",
            "showbackground": true,
            "ticks": "",
            "zerolinecolor": "white"
           },
           "yaxis": {
            "backgroundcolor": "#E5ECF6",
            "gridcolor": "white",
            "gridwidth": 2,
            "linecolor": "white",
            "showbackground": true,
            "ticks": "",
            "zerolinecolor": "white"
           },
           "zaxis": {
            "backgroundcolor": "#E5ECF6",
            "gridcolor": "white",
            "gridwidth": 2,
            "linecolor": "white",
            "showbackground": true,
            "ticks": "",
            "zerolinecolor": "white"
           }
          },
          "shapedefaults": {
           "line": {
            "color": "#2a3f5f"
           }
          },
          "ternary": {
           "aaxis": {
            "gridcolor": "white",
            "linecolor": "white",
            "ticks": ""
           },
           "baxis": {
            "gridcolor": "white",
            "linecolor": "white",
            "ticks": ""
           },
           "bgcolor": "#E5ECF6",
           "caxis": {
            "gridcolor": "white",
            "linecolor": "white",
            "ticks": ""
           }
          },
          "title": {
           "x": 0.05
          },
          "xaxis": {
           "automargin": true,
           "gridcolor": "white",
           "linecolor": "white",
           "ticks": "",
           "title": {
            "standoff": 15
           },
           "zerolinecolor": "white",
           "zerolinewidth": 2
          },
          "yaxis": {
           "automargin": true,
           "gridcolor": "white",
           "linecolor": "white",
           "ticks": "",
           "title": {
            "standoff": 15
           },
           "zerolinecolor": "white",
           "zerolinewidth": 2
          }
         }
        }
       }
      }
     },
     "metadata": {},
     "output_type": "display_data"
    }
   ],
   "source": [
    "fine_change_counter.map()"
   ]
  },
  {
   "cell_type": "markdown",
   "metadata": {
    "slideshow": {
     "slide_type": "subslide"
    }
   },
   "source": [
    "The included classes offer several methods that can be overridden in subclasses to customize what to mine and how to visualize it. See the chapter for details."
   ]
  },
  {
   "cell_type": "markdown",
   "metadata": {
    "slideshow": {
     "slide_type": "fragment"
    }
   },
   "source": [
    "Here are all the classes defined in this chapter:"
   ]
  },
  {
   "cell_type": "code",
   "execution_count": 111,
   "metadata": {
    "execution": {
     "iopub.execute_input": "2025-10-26T18:08:01.577459Z",
     "iopub.status.busy": "2025-10-26T18:08:01.577349Z",
     "iopub.status.idle": "2025-10-26T18:08:01.579023Z",
     "shell.execute_reply": "2025-10-26T18:08:01.578749Z"
    },
    "slideshow": {
     "slide_type": "fragment"
    },
    "tags": [
     "remove-input"
    ]
   },
   "outputs": [],
   "source": [
    "# ignore\n",
    "from ClassDiagram import display_class_hierarchy"
   ]
  },
  {
   "cell_type": "code",
   "execution_count": 112,
   "metadata": {
    "execution": {
     "iopub.execute_input": "2025-10-26T18:08:01.580465Z",
     "iopub.status.busy": "2025-10-26T18:08:01.580343Z",
     "iopub.status.idle": "2025-10-26T18:08:02.466505Z",
     "shell.execute_reply": "2025-10-26T18:08:02.465880Z"
    },
    "slideshow": {
     "slide_type": "fragment"
    },
    "tags": [
     "remove-input"
    ]
   },
   "outputs": [
    {
     "data": {
      "image/svg+xml": [
       "<?xml version=\"1.0\" encoding=\"UTF-8\" standalone=\"no\"?>\n",
       "<!DOCTYPE svg PUBLIC \"-//W3C//DTD SVG 1.1//EN\"\n",
       " \"http://www.w3.org/Graphics/SVG/1.1/DTD/svg11.dtd\">\n",
       "<!-- Generated by graphviz version 14.0.2 (20251019.1705)\n",
       " -->\n",
       "<!-- Pages: 1 -->\n",
       "<svg width=\"420pt\" height=\"329pt\"\n",
       " viewBox=\"0.00 0.00 420.00 329.00\" xmlns=\"http://www.w3.org/2000/svg\" xmlns:xlink=\"http://www.w3.org/1999/xlink\">\n",
       "<g id=\"graph0\" class=\"graph\" transform=\"scale(1 1) rotate(0) translate(4 325.25)\">\n",
       "<g id=\"a_graph0\"><a xlink:title=\"FineChangeCounter class hierarchy\">\n",
       "<polygon fill=\"white\" stroke=\"none\" points=\"-4,4 -4,-325.25 415.75,-325.25 415.75,4 -4,4\"/>\n",
       "</a>\n",
       "</g>\n",
       "<!-- FineChangeCounter -->\n",
       "<g id=\"node1\" class=\"node\">\n",
       "<title>FineChangeCounter</title>\n",
       "<g id=\"a_node1\"><a xlink:href=\"#\" xlink:title=\"class FineChangeCounter:&#10;Count the changes for files in the repository and their elements\">\n",
       "<polygon fill=\"none\" stroke=\"black\" points=\"0,-13.25 0,-59.25 150.25,-59.25 150.25,-13.25 0,-13.25\"/>\n",
       "<text xml:space=\"preserve\" text-anchor=\"start\" x=\"8\" y=\"-42.95\" font-family=\"Raleway, Helvetica, Arial, sans-serif\" font-weight=\"bold\" font-size=\"14.00\" fill=\"#6a0dad\">FineChangeCounter</text>\n",
       "<polyline fill=\"none\" stroke=\"black\" points=\"0,-34 150.25,-34\"/>\n",
       "<g id=\"a_node1_0\"><a xlink:href=\"#\" xlink:title=\"FineChangeCounter\">\n",
       "<g id=\"a_node1_1\"><a xlink:href=\"#\" xlink:title=\"update_elems(self, node: Tuple, m: pydriller.domain.commit.ModifiedFile) &#45;&gt; None:&#10;Update counters for subelements of `node` with modification `m`.&#10;To be defined in subclasses.\">\n",
       "<text xml:space=\"preserve\" text-anchor=\"start\" x=\"33.12\" y=\"-21.5\" font-family=\"'Fira Mono', 'Source Code Pro', 'Courier', monospace\" font-style=\"italic\" font-size=\"10.00\">update_elems()</text>\n",
       "</a>\n",
       "</g>\n",
       "</a>\n",
       "</g>\n",
       "</a>\n",
       "</g>\n",
       "</g>\n",
       "<!-- ChangeCounter -->\n",
       "<g id=\"node2\" class=\"node\">\n",
       "<title>ChangeCounter</title>\n",
       "<g id=\"a_node2\"><a xlink:href=\"#\" xlink:title=\"class ChangeCounter:&#10;Count the number of changes for a repository.\">\n",
       "<polygon fill=\"none\" stroke=\"black\" points=\"87.25,-109 87.25,-320.75 209,-320.75 209,-109 87.25,-109\"/>\n",
       "<text xml:space=\"preserve\" text-anchor=\"start\" x=\"95.25\" y=\"-304.45\" font-family=\"Raleway, Helvetica, Arial, sans-serif\" font-weight=\"bold\" font-size=\"14.00\" fill=\"#6a0dad\">ChangeCounter</text>\n",
       "<polyline fill=\"none\" stroke=\"black\" points=\"87.25,-295.5 209,-295.5\"/>\n",
       "<g id=\"a_node2_2\"><a xlink:href=\"#\" xlink:title=\"ChangeCounter\">\n",
       "<g id=\"a_node2_3\"><a xlink:href=\"#\" xlink:title=\"__init__(self, repo: str, *, filter: Optional[Callable[[pydriller.domain.commit.Commit], bool]] = None, log: bool = False, **kwargs: Any) &#45;&gt; None:&#10;Constructor.&#10;`repo` is a git repository (as URL or directory).&#10;`filter` is a predicate that takes a modification and returns True&#10;if it should be considered (default: consider all).&#10;`log` turns on logging if set.&#10;`kwargs` are passed to the `Repository()` constructor.\">\n",
       "<text xml:space=\"preserve\" text-anchor=\"start\" x=\"100.12\" y=\"-283\" font-family=\"'Fira Mono', 'Source Code Pro', 'Courier', monospace\" font-weight=\"bold\" font-size=\"10.00\">__init__()</text>\n",
       "</a>\n",
       "</g>\n",
       "<g id=\"a_node2_4\"><a xlink:href=\"#\" xlink:title=\"map(self) &#45;&gt; plotly.graph_objs._figure.Figure:&#10;Produce an interactive tree map of the repository.\">\n",
       "<text xml:space=\"preserve\" text-anchor=\"start\" x=\"100.12\" y=\"-270.25\" font-family=\"'Fira Mono', 'Source Code Pro', 'Courier', monospace\" font-weight=\"bold\" font-size=\"10.00\">map()</text>\n",
       "</a>\n",
       "</g>\n",
       "<g id=\"a_node2_5\"><a xlink:href=\"#\" xlink:title=\"include(self, m: pydriller.domain.commit.ModifiedFile) &#45;&gt; bool:&#10;Return True if the modification `m` should be included&#10;(default: the `filter` predicate given to the constructor).&#10;To be overloaded in subclasses.\">\n",
       "<text xml:space=\"preserve\" text-anchor=\"start\" x=\"100.12\" y=\"-257.5\" font-family=\"'Fira Mono', 'Source Code Pro', 'Courier', monospace\" font-style=\"italic\" font-size=\"10.00\">include()</text>\n",
       "</a>\n",
       "</g>\n",
       "<g id=\"a_node2_6\"><a xlink:href=\"#\" xlink:title=\"map_colorscale(self) &#45;&gt; str:&#10;Return the colorscale for the map. To be overloaded in subclasses.\">\n",
       "<text xml:space=\"preserve\" text-anchor=\"start\" x=\"100.12\" y=\"-244.75\" font-family=\"'Fira Mono', 'Source Code Pro', 'Courier', monospace\" font-style=\"italic\" font-size=\"10.00\">map_colorscale()</text>\n",
       "</a>\n",
       "</g>\n",
       "<g id=\"a_node2_7\"><a xlink:href=\"#\" xlink:title=\"map_hoverinfo(self) &#45;&gt; str:&#10;Return the text to be shown when hovering over a node.&#10;To be overloaded in subclasses.\">\n",
       "<text xml:space=\"preserve\" text-anchor=\"start\" x=\"100.12\" y=\"-232\" font-family=\"'Fira Mono', 'Source Code Pro', 'Courier', monospace\" font-style=\"italic\" font-size=\"10.00\">map_hoverinfo()</text>\n",
       "</a>\n",
       "</g>\n",
       "<g id=\"a_node2_8\"><a xlink:href=\"#\" xlink:title=\"map_node_color(self, node: Tuple) &#45;&gt; Optional[int]:&#10;Return a color of the node, as a number.&#10;Can be overloaded in subclasses.\">\n",
       "<text xml:space=\"preserve\" text-anchor=\"start\" x=\"100.12\" y=\"-219.25\" font-family=\"'Fira Mono', 'Source Code Pro', 'Courier', monospace\" font-style=\"italic\" font-size=\"10.00\">map_node_color()</text>\n",
       "</a>\n",
       "</g>\n",
       "<g id=\"a_node2_9\"><a xlink:href=\"#\" xlink:title=\"map_node_sizes(self, scale: str = &#39;log&#39;) &#45;&gt; Dict[Tuple, Union[int, float]]:&#10;Return a mapping of nodes to sizes.&#10;Can be overloaded in subclasses.\">\n",
       "<text xml:space=\"preserve\" text-anchor=\"start\" x=\"100.12\" y=\"-206.5\" font-family=\"'Fira Mono', 'Source Code Pro', 'Courier', monospace\" font-style=\"italic\" font-size=\"10.00\">map_node_sizes()</text>\n",
       "</a>\n",
       "</g>\n",
       "<g id=\"a_node2_10\"><a xlink:href=\"#\" xlink:title=\"map_node_text(self, node: Tuple) &#45;&gt; Optional[str]:&#10;Return the text to be shown for the node (default: #changes).&#10;Can be overloaded in subclasses.\">\n",
       "<text xml:space=\"preserve\" text-anchor=\"start\" x=\"100.12\" y=\"-193.75\" font-family=\"'Fira Mono', 'Source Code Pro', 'Courier', monospace\" font-style=\"italic\" font-size=\"10.00\">map_node_text()</text>\n",
       "</a>\n",
       "</g>\n",
       "<g id=\"a_node2_11\"><a xlink:href=\"#\" xlink:title=\"mine(self, **kwargs: Any) &#45;&gt; None:&#10;Gather data from repository. To be extended in subclasses.\">\n",
       "<text xml:space=\"preserve\" text-anchor=\"start\" x=\"100.12\" y=\"-181\" font-family=\"'Fira Mono', 'Source Code Pro', 'Courier', monospace\" font-style=\"italic\" font-size=\"10.00\">mine()</text>\n",
       "</a>\n",
       "</g>\n",
       "<g id=\"a_node2_12\"><a xlink:href=\"#\" xlink:title=\"mine_commit(self, commit: pydriller.domain.commit.Commit) &#45;&gt; None\">\n",
       "<text xml:space=\"preserve\" text-anchor=\"start\" x=\"100.12\" y=\"-167.25\" font-family=\"'Fira Mono', 'Source Code Pro', 'Courier', monospace\" font-size=\"10.00\">mine_commit()</text>\n",
       "</a>\n",
       "</g>\n",
       "<g id=\"a_node2_13\"><a xlink:href=\"#\" xlink:title=\"update_changes(self, node: Tuple, commit_msg: str) &#45;&gt; None:&#10;Update stats for `node` changed with `commit_msg`.&#10;Can be extended in subclasses.\">\n",
       "<text xml:space=\"preserve\" text-anchor=\"start\" x=\"100.12\" y=\"-155.5\" font-family=\"'Fira Mono', 'Source Code Pro', 'Courier', monospace\" font-style=\"italic\" font-size=\"10.00\">update_changes()</text>\n",
       "</a>\n",
       "</g>\n",
       "<g id=\"a_node2_14\"><a xlink:href=\"#\" xlink:title=\"update_elems(self, node: Tuple, m: pydriller.domain.commit.ModifiedFile) &#45;&gt; None:&#10;Update counters for subelements of `node` with modification `m`.&#10;To be defined in subclasses.\">\n",
       "<text xml:space=\"preserve\" text-anchor=\"start\" x=\"100.12\" y=\"-142.75\" font-family=\"'Fira Mono', 'Source Code Pro', 'Courier', monospace\" font-style=\"italic\" font-size=\"10.00\">update_elems()</text>\n",
       "</a>\n",
       "</g>\n",
       "<g id=\"a_node2_15\"><a xlink:href=\"#\" xlink:title=\"update_size(self, node: Tuple, size: int) &#45;&gt; None:&#10;Update counters for `node` with `size`.&#10;Can be extended in subclasses.\">\n",
       "<text xml:space=\"preserve\" text-anchor=\"start\" x=\"100.12\" y=\"-130\" font-family=\"'Fira Mono', 'Source Code Pro', 'Courier', monospace\" font-style=\"italic\" font-size=\"10.00\">update_size()</text>\n",
       "</a>\n",
       "</g>\n",
       "<g id=\"a_node2_16\"><a xlink:href=\"#\" xlink:title=\"update_stats(self, m: pydriller.domain.commit.ModifiedFile) &#45;&gt; None:&#10;Update counters with modification `m`.&#10;Can be extended in subclasses.\">\n",
       "<text xml:space=\"preserve\" text-anchor=\"start\" x=\"100.12\" y=\"-117.25\" font-family=\"'Fira Mono', 'Source Code Pro', 'Courier', monospace\" font-style=\"italic\" font-size=\"10.00\">update_stats()</text>\n",
       "</a>\n",
       "</g>\n",
       "</a>\n",
       "</g>\n",
       "</a>\n",
       "</g>\n",
       "</g>\n",
       "<!-- FineChangeCounter&#45;&gt;ChangeCounter -->\n",
       "<g id=\"edge1\" class=\"edge\">\n",
       "<title>FineChangeCounter&#45;&gt;ChangeCounter</title>\n",
       "<path fill=\"none\" stroke=\"black\" d=\"M84.37,-59.62C88.77,-70.25 94.39,-83.85 100.46,-98.56\"/>\n",
       "<polygon fill=\"none\" stroke=\"black\" points=\"97.1,-99.59 104.16,-107.49 103.57,-96.91 97.1,-99.59\"/>\n",
       "</g>\n",
       "<!-- FixCounter -->\n",
       "<g id=\"node3\" class=\"node\">\n",
       "<title>FixCounter</title>\n",
       "<g id=\"a_node3\"><a xlink:href=\"#\" xlink:title=\"class FixCounter:&#10;Count the fixes for files in the repository.&#10;Fixes are all commits whose message starts with the word &#39;Fix: &#39;\">\n",
       "<polygon fill=\"none\" stroke=\"black\" points=\"168.12,-0.5 168.12,-72 274.12,-72 274.12,-0.5 168.12,-0.5\"/>\n",
       "<text xml:space=\"preserve\" text-anchor=\"start\" x=\"184.38\" y=\"-55.7\" font-family=\"Raleway, Helvetica, Arial, sans-serif\" font-weight=\"bold\" font-size=\"14.00\" fill=\"#6a0dad\">FixCounter</text>\n",
       "<polyline fill=\"none\" stroke=\"black\" points=\"168.12,-46.75 274.12,-46.75\"/>\n",
       "<g id=\"a_node3_17\"><a xlink:href=\"#\" xlink:title=\"FixCounter\">\n",
       "<g id=\"a_node3_18\"><a xlink:href=\"#\" xlink:title=\"include(self, m: pydriller.domain.commit.ModifiedFile) &#45;&gt; bool:&#10;Include all modifications whose commit messages start with &#39;Fix:&#39;\">\n",
       "<text xml:space=\"preserve\" text-anchor=\"start\" x=\"176.12\" y=\"-34.25\" font-family=\"'Fira Mono', 'Source Code Pro', 'Courier', monospace\" font-style=\"italic\" font-size=\"10.00\">include()</text>\n",
       "</a>\n",
       "</g>\n",
       "<g id=\"a_node3_19\"><a xlink:href=\"#\" xlink:title=\"map_hoverinfo(self) &#45;&gt; str:&#10;Return the text to be shown when hovering over a node.&#10;To be overloaded in subclasses.\">\n",
       "<text xml:space=\"preserve\" text-anchor=\"start\" x=\"176.12\" y=\"-21.5\" font-family=\"'Fira Mono', 'Source Code Pro', 'Courier', monospace\" font-style=\"italic\" font-size=\"10.00\">map_hoverinfo()</text>\n",
       "</a>\n",
       "</g>\n",
       "<g id=\"a_node3_20\"><a xlink:href=\"#\" xlink:title=\"map_node_text(self, node: Tuple) &#45;&gt; str:&#10;Return the text to be shown for the node (default: #changes).&#10;Can be overloaded in subclasses.\">\n",
       "<text xml:space=\"preserve\" text-anchor=\"start\" x=\"176.12\" y=\"-8.75\" font-family=\"'Fira Mono', 'Source Code Pro', 'Courier', monospace\" font-style=\"italic\" font-size=\"10.00\">map_node_text()</text>\n",
       "</a>\n",
       "</g>\n",
       "</a>\n",
       "</g>\n",
       "</a>\n",
       "</g>\n",
       "</g>\n",
       "<!-- FixCounter&#45;&gt;ChangeCounter -->\n",
       "<g id=\"edge2\" class=\"edge\">\n",
       "<title>FixCounter&#45;&gt;ChangeCounter</title>\n",
       "<path fill=\"none\" stroke=\"black\" d=\"M206.7,-72.15C203.44,-80.03 199.81,-88.83 195.98,-98.08\"/>\n",
       "<polygon fill=\"none\" stroke=\"black\" points=\"192.76,-96.71 192.18,-107.29 199.23,-99.38 192.76,-96.71\"/>\n",
       "</g>\n",
       "<!-- Legend -->\n",
       "<g id=\"node4\" class=\"node\">\n",
       "<title>Legend</title>\n",
       "<text xml:space=\"preserve\" text-anchor=\"start\" x=\"292.5\" y=\"-52.25\" font-family=\"Raleway, Helvetica, Arial, sans-serif\" font-weight=\"bold\" font-size=\"10.00\" fill=\"#6a0dad\">Legend</text>\n",
       "<text xml:space=\"preserve\" text-anchor=\"start\" x=\"292.5\" y=\"-42.25\" font-family=\"Raleway, Helvetica, Arial, sans-serif\" font-size=\"10.00\">• </text>\n",
       "<text xml:space=\"preserve\" text-anchor=\"start\" x=\"298.5\" y=\"-42.25\" font-family=\"'Fira Mono', 'Source Code Pro', 'Courier', monospace\" font-weight=\"bold\" font-size=\"8.00\">public_method()</text>\n",
       "<text xml:space=\"preserve\" text-anchor=\"start\" x=\"292.5\" y=\"-32.25\" font-family=\"Raleway, Helvetica, Arial, sans-serif\" font-size=\"10.00\">• </text>\n",
       "<text xml:space=\"preserve\" text-anchor=\"start\" x=\"298.5\" y=\"-32.25\" font-family=\"'Fira Mono', 'Source Code Pro', 'Courier', monospace\" font-size=\"8.00\">private_method()</text>\n",
       "<text xml:space=\"preserve\" text-anchor=\"start\" x=\"292.5\" y=\"-22.25\" font-family=\"Raleway, Helvetica, Arial, sans-serif\" font-size=\"10.00\">• </text>\n",
       "<text xml:space=\"preserve\" text-anchor=\"start\" x=\"298.5\" y=\"-22.25\" font-family=\"'Fira Mono', 'Source Code Pro', 'Courier', monospace\" font-style=\"italic\" font-size=\"8.00\">overloaded_method()</text>\n",
       "<text xml:space=\"preserve\" text-anchor=\"start\" x=\"292.5\" y=\"-13.2\" font-family=\"Helvetica,sans-Serif\" font-size=\"9.00\">Hover over names to see doc</text>\n",
       "</g>\n",
       "</g>\n",
       "</svg>\n"
      ],
      "text/html": [
       "<?xml version=\"1.0\" encoding=\"UTF-8\" standalone=\"no\"?>\n",
       "<!DOCTYPE svg PUBLIC \"-//W3C//DTD SVG 1.1//EN\"\n",
       " \"http://www.w3.org/Graphics/SVG/1.1/DTD/svg11.dtd\">\n",
       "<!-- Generated by graphviz version 14.0.2 (20251019.1705)\n",
       " -->\n",
       "<!-- Pages: 1 -->\n",
       "<svg width=\"420pt\" height=\"329pt\"\n",
       " viewBox=\"0.00 0.00 420.00 329.00\" xmlns=\"http://www.w3.org/2000/svg\" xmlns:xlink=\"http://www.w3.org/1999/xlink\">\n",
       "<g id=\"graph0\" class=\"graph\" transform=\"scale(1 1) rotate(0) translate(4 325.25)\">\n",
       "<g id=\"a_graph0\"><a xlink:title=\"FineChangeCounter class hierarchy\">\n",
       "<polygon fill=\"white\" stroke=\"none\" points=\"-4,4 -4,-325.25 415.75,-325.25 415.75,4 -4,4\"/>\n",
       "</a>\n",
       "</g>\n",
       "<!-- FineChangeCounter -->\n",
       "<g id=\"node1\" class=\"node\">\n",
       "<title>FineChangeCounter</title>\n",
       "<g id=\"a_node1\"><a xlink:href=\"#\" xlink:title=\"class FineChangeCounter:&#10;Count the changes for files in the repository and their elements\">\n",
       "<polygon fill=\"none\" stroke=\"black\" points=\"0,-13.25 0,-59.25 150.25,-59.25 150.25,-13.25 0,-13.25\"/>\n",
       "<text xml:space=\"preserve\" text-anchor=\"start\" x=\"8\" y=\"-42.95\" font-family=\"Raleway, Helvetica, Arial, sans-serif\" font-weight=\"bold\" font-size=\"14.00\" fill=\"#6a0dad\">FineChangeCounter</text>\n",
       "<polyline fill=\"none\" stroke=\"black\" points=\"0,-34 150.25,-34\"/>\n",
       "<g id=\"a_node1_0\"><a xlink:href=\"#\" xlink:title=\"FineChangeCounter\">\n",
       "<g id=\"a_node1_1\"><a xlink:href=\"#\" xlink:title=\"update_elems(self, node: Tuple, m: pydriller.domain.commit.ModifiedFile) &#45;&gt; None:&#10;Update counters for subelements of `node` with modification `m`.&#10;To be defined in subclasses.\">\n",
       "<text xml:space=\"preserve\" text-anchor=\"start\" x=\"33.12\" y=\"-21.5\" font-family=\"'Fira Mono', 'Source Code Pro', 'Courier', monospace\" font-style=\"italic\" font-size=\"10.00\">update_elems()</text>\n",
       "</a>\n",
       "</g>\n",
       "</a>\n",
       "</g>\n",
       "</a>\n",
       "</g>\n",
       "</g>\n",
       "<!-- ChangeCounter -->\n",
       "<g id=\"node2\" class=\"node\">\n",
       "<title>ChangeCounter</title>\n",
       "<g id=\"a_node2\"><a xlink:href=\"#\" xlink:title=\"class ChangeCounter:&#10;Count the number of changes for a repository.\">\n",
       "<polygon fill=\"none\" stroke=\"black\" points=\"87.25,-109 87.25,-320.75 209,-320.75 209,-109 87.25,-109\"/>\n",
       "<text xml:space=\"preserve\" text-anchor=\"start\" x=\"95.25\" y=\"-304.45\" font-family=\"Raleway, Helvetica, Arial, sans-serif\" font-weight=\"bold\" font-size=\"14.00\" fill=\"#6a0dad\">ChangeCounter</text>\n",
       "<polyline fill=\"none\" stroke=\"black\" points=\"87.25,-295.5 209,-295.5\"/>\n",
       "<g id=\"a_node2_2\"><a xlink:href=\"#\" xlink:title=\"ChangeCounter\">\n",
       "<g id=\"a_node2_3\"><a xlink:href=\"#\" xlink:title=\"__init__(self, repo: str, *, filter: Optional[Callable[[pydriller.domain.commit.Commit], bool]] = None, log: bool = False, **kwargs: Any) &#45;&gt; None:&#10;Constructor.&#10;`repo` is a git repository (as URL or directory).&#10;`filter` is a predicate that takes a modification and returns True&#10;if it should be considered (default: consider all).&#10;`log` turns on logging if set.&#10;`kwargs` are passed to the `Repository()` constructor.\">\n",
       "<text xml:space=\"preserve\" text-anchor=\"start\" x=\"100.12\" y=\"-283\" font-family=\"'Fira Mono', 'Source Code Pro', 'Courier', monospace\" font-weight=\"bold\" font-size=\"10.00\">__init__()</text>\n",
       "</a>\n",
       "</g>\n",
       "<g id=\"a_node2_4\"><a xlink:href=\"#\" xlink:title=\"map(self) &#45;&gt; plotly.graph_objs._figure.Figure:&#10;Produce an interactive tree map of the repository.\">\n",
       "<text xml:space=\"preserve\" text-anchor=\"start\" x=\"100.12\" y=\"-270.25\" font-family=\"'Fira Mono', 'Source Code Pro', 'Courier', monospace\" font-weight=\"bold\" font-size=\"10.00\">map()</text>\n",
       "</a>\n",
       "</g>\n",
       "<g id=\"a_node2_5\"><a xlink:href=\"#\" xlink:title=\"include(self, m: pydriller.domain.commit.ModifiedFile) &#45;&gt; bool:&#10;Return True if the modification `m` should be included&#10;(default: the `filter` predicate given to the constructor).&#10;To be overloaded in subclasses.\">\n",
       "<text xml:space=\"preserve\" text-anchor=\"start\" x=\"100.12\" y=\"-257.5\" font-family=\"'Fira Mono', 'Source Code Pro', 'Courier', monospace\" font-style=\"italic\" font-size=\"10.00\">include()</text>\n",
       "</a>\n",
       "</g>\n",
       "<g id=\"a_node2_6\"><a xlink:href=\"#\" xlink:title=\"map_colorscale(self) &#45;&gt; str:&#10;Return the colorscale for the map. To be overloaded in subclasses.\">\n",
       "<text xml:space=\"preserve\" text-anchor=\"start\" x=\"100.12\" y=\"-244.75\" font-family=\"'Fira Mono', 'Source Code Pro', 'Courier', monospace\" font-style=\"italic\" font-size=\"10.00\">map_colorscale()</text>\n",
       "</a>\n",
       "</g>\n",
       "<g id=\"a_node2_7\"><a xlink:href=\"#\" xlink:title=\"map_hoverinfo(self) &#45;&gt; str:&#10;Return the text to be shown when hovering over a node.&#10;To be overloaded in subclasses.\">\n",
       "<text xml:space=\"preserve\" text-anchor=\"start\" x=\"100.12\" y=\"-232\" font-family=\"'Fira Mono', 'Source Code Pro', 'Courier', monospace\" font-style=\"italic\" font-size=\"10.00\">map_hoverinfo()</text>\n",
       "</a>\n",
       "</g>\n",
       "<g id=\"a_node2_8\"><a xlink:href=\"#\" xlink:title=\"map_node_color(self, node: Tuple) &#45;&gt; Optional[int]:&#10;Return a color of the node, as a number.&#10;Can be overloaded in subclasses.\">\n",
       "<text xml:space=\"preserve\" text-anchor=\"start\" x=\"100.12\" y=\"-219.25\" font-family=\"'Fira Mono', 'Source Code Pro', 'Courier', monospace\" font-style=\"italic\" font-size=\"10.00\">map_node_color()</text>\n",
       "</a>\n",
       "</g>\n",
       "<g id=\"a_node2_9\"><a xlink:href=\"#\" xlink:title=\"map_node_sizes(self, scale: str = &#39;log&#39;) &#45;&gt; Dict[Tuple, Union[int, float]]:&#10;Return a mapping of nodes to sizes.&#10;Can be overloaded in subclasses.\">\n",
       "<text xml:space=\"preserve\" text-anchor=\"start\" x=\"100.12\" y=\"-206.5\" font-family=\"'Fira Mono', 'Source Code Pro', 'Courier', monospace\" font-style=\"italic\" font-size=\"10.00\">map_node_sizes()</text>\n",
       "</a>\n",
       "</g>\n",
       "<g id=\"a_node2_10\"><a xlink:href=\"#\" xlink:title=\"map_node_text(self, node: Tuple) &#45;&gt; Optional[str]:&#10;Return the text to be shown for the node (default: #changes).&#10;Can be overloaded in subclasses.\">\n",
       "<text xml:space=\"preserve\" text-anchor=\"start\" x=\"100.12\" y=\"-193.75\" font-family=\"'Fira Mono', 'Source Code Pro', 'Courier', monospace\" font-style=\"italic\" font-size=\"10.00\">map_node_text()</text>\n",
       "</a>\n",
       "</g>\n",
       "<g id=\"a_node2_11\"><a xlink:href=\"#\" xlink:title=\"mine(self, **kwargs: Any) &#45;&gt; None:&#10;Gather data from repository. To be extended in subclasses.\">\n",
       "<text xml:space=\"preserve\" text-anchor=\"start\" x=\"100.12\" y=\"-181\" font-family=\"'Fira Mono', 'Source Code Pro', 'Courier', monospace\" font-style=\"italic\" font-size=\"10.00\">mine()</text>\n",
       "</a>\n",
       "</g>\n",
       "<g id=\"a_node2_12\"><a xlink:href=\"#\" xlink:title=\"mine_commit(self, commit: pydriller.domain.commit.Commit) &#45;&gt; None\">\n",
       "<text xml:space=\"preserve\" text-anchor=\"start\" x=\"100.12\" y=\"-167.25\" font-family=\"'Fira Mono', 'Source Code Pro', 'Courier', monospace\" font-size=\"10.00\">mine_commit()</text>\n",
       "</a>\n",
       "</g>\n",
       "<g id=\"a_node2_13\"><a xlink:href=\"#\" xlink:title=\"update_changes(self, node: Tuple, commit_msg: str) &#45;&gt; None:&#10;Update stats for `node` changed with `commit_msg`.&#10;Can be extended in subclasses.\">\n",
       "<text xml:space=\"preserve\" text-anchor=\"start\" x=\"100.12\" y=\"-155.5\" font-family=\"'Fira Mono', 'Source Code Pro', 'Courier', monospace\" font-style=\"italic\" font-size=\"10.00\">update_changes()</text>\n",
       "</a>\n",
       "</g>\n",
       "<g id=\"a_node2_14\"><a xlink:href=\"#\" xlink:title=\"update_elems(self, node: Tuple, m: pydriller.domain.commit.ModifiedFile) &#45;&gt; None:&#10;Update counters for subelements of `node` with modification `m`.&#10;To be defined in subclasses.\">\n",
       "<text xml:space=\"preserve\" text-anchor=\"start\" x=\"100.12\" y=\"-142.75\" font-family=\"'Fira Mono', 'Source Code Pro', 'Courier', monospace\" font-style=\"italic\" font-size=\"10.00\">update_elems()</text>\n",
       "</a>\n",
       "</g>\n",
       "<g id=\"a_node2_15\"><a xlink:href=\"#\" xlink:title=\"update_size(self, node: Tuple, size: int) &#45;&gt; None:&#10;Update counters for `node` with `size`.&#10;Can be extended in subclasses.\">\n",
       "<text xml:space=\"preserve\" text-anchor=\"start\" x=\"100.12\" y=\"-130\" font-family=\"'Fira Mono', 'Source Code Pro', 'Courier', monospace\" font-style=\"italic\" font-size=\"10.00\">update_size()</text>\n",
       "</a>\n",
       "</g>\n",
       "<g id=\"a_node2_16\"><a xlink:href=\"#\" xlink:title=\"update_stats(self, m: pydriller.domain.commit.ModifiedFile) &#45;&gt; None:&#10;Update counters with modification `m`.&#10;Can be extended in subclasses.\">\n",
       "<text xml:space=\"preserve\" text-anchor=\"start\" x=\"100.12\" y=\"-117.25\" font-family=\"'Fira Mono', 'Source Code Pro', 'Courier', monospace\" font-style=\"italic\" font-size=\"10.00\">update_stats()</text>\n",
       "</a>\n",
       "</g>\n",
       "</a>\n",
       "</g>\n",
       "</a>\n",
       "</g>\n",
       "</g>\n",
       "<!-- FineChangeCounter&#45;&gt;ChangeCounter -->\n",
       "<g id=\"edge1\" class=\"edge\">\n",
       "<title>FineChangeCounter&#45;&gt;ChangeCounter</title>\n",
       "<path fill=\"none\" stroke=\"black\" d=\"M84.37,-59.62C88.77,-70.25 94.39,-83.85 100.46,-98.56\"/>\n",
       "<polygon fill=\"none\" stroke=\"black\" points=\"97.1,-99.59 104.16,-107.49 103.57,-96.91 97.1,-99.59\"/>\n",
       "</g>\n",
       "<!-- FixCounter -->\n",
       "<g id=\"node3\" class=\"node\">\n",
       "<title>FixCounter</title>\n",
       "<g id=\"a_node3\"><a xlink:href=\"#\" xlink:title=\"class FixCounter:&#10;Count the fixes for files in the repository.&#10;Fixes are all commits whose message starts with the word &#39;Fix: &#39;\">\n",
       "<polygon fill=\"none\" stroke=\"black\" points=\"168.12,-0.5 168.12,-72 274.12,-72 274.12,-0.5 168.12,-0.5\"/>\n",
       "<text xml:space=\"preserve\" text-anchor=\"start\" x=\"184.38\" y=\"-55.7\" font-family=\"Raleway, Helvetica, Arial, sans-serif\" font-weight=\"bold\" font-size=\"14.00\" fill=\"#6a0dad\">FixCounter</text>\n",
       "<polyline fill=\"none\" stroke=\"black\" points=\"168.12,-46.75 274.12,-46.75\"/>\n",
       "<g id=\"a_node3_17\"><a xlink:href=\"#\" xlink:title=\"FixCounter\">\n",
       "<g id=\"a_node3_18\"><a xlink:href=\"#\" xlink:title=\"include(self, m: pydriller.domain.commit.ModifiedFile) &#45;&gt; bool:&#10;Include all modifications whose commit messages start with &#39;Fix:&#39;\">\n",
       "<text xml:space=\"preserve\" text-anchor=\"start\" x=\"176.12\" y=\"-34.25\" font-family=\"'Fira Mono', 'Source Code Pro', 'Courier', monospace\" font-style=\"italic\" font-size=\"10.00\">include()</text>\n",
       "</a>\n",
       "</g>\n",
       "<g id=\"a_node3_19\"><a xlink:href=\"#\" xlink:title=\"map_hoverinfo(self) &#45;&gt; str:&#10;Return the text to be shown when hovering over a node.&#10;To be overloaded in subclasses.\">\n",
       "<text xml:space=\"preserve\" text-anchor=\"start\" x=\"176.12\" y=\"-21.5\" font-family=\"'Fira Mono', 'Source Code Pro', 'Courier', monospace\" font-style=\"italic\" font-size=\"10.00\">map_hoverinfo()</text>\n",
       "</a>\n",
       "</g>\n",
       "<g id=\"a_node3_20\"><a xlink:href=\"#\" xlink:title=\"map_node_text(self, node: Tuple) &#45;&gt; str:&#10;Return the text to be shown for the node (default: #changes).&#10;Can be overloaded in subclasses.\">\n",
       "<text xml:space=\"preserve\" text-anchor=\"start\" x=\"176.12\" y=\"-8.75\" font-family=\"'Fira Mono', 'Source Code Pro', 'Courier', monospace\" font-style=\"italic\" font-size=\"10.00\">map_node_text()</text>\n",
       "</a>\n",
       "</g>\n",
       "</a>\n",
       "</g>\n",
       "</a>\n",
       "</g>\n",
       "</g>\n",
       "<!-- FixCounter&#45;&gt;ChangeCounter -->\n",
       "<g id=\"edge2\" class=\"edge\">\n",
       "<title>FixCounter&#45;&gt;ChangeCounter</title>\n",
       "<path fill=\"none\" stroke=\"black\" d=\"M206.7,-72.15C203.44,-80.03 199.81,-88.83 195.98,-98.08\"/>\n",
       "<polygon fill=\"none\" stroke=\"black\" points=\"192.76,-96.71 192.18,-107.29 199.23,-99.38 192.76,-96.71\"/>\n",
       "</g>\n",
       "<!-- Legend -->\n",
       "<g id=\"node4\" class=\"node\">\n",
       "<title>Legend</title>\n",
       "<text xml:space=\"preserve\" text-anchor=\"start\" x=\"292.5\" y=\"-52.25\" font-family=\"Raleway, Helvetica, Arial, sans-serif\" font-weight=\"bold\" font-size=\"10.00\" fill=\"#6a0dad\">Legend</text>\n",
       "<text xml:space=\"preserve\" text-anchor=\"start\" x=\"292.5\" y=\"-42.25\" font-family=\"Raleway, Helvetica, Arial, sans-serif\" font-size=\"10.00\">• </text>\n",
       "<text xml:space=\"preserve\" text-anchor=\"start\" x=\"298.5\" y=\"-42.25\" font-family=\"'Fira Mono', 'Source Code Pro', 'Courier', monospace\" font-weight=\"bold\" font-size=\"8.00\">public_method()</text>\n",
       "<text xml:space=\"preserve\" text-anchor=\"start\" x=\"292.5\" y=\"-32.25\" font-family=\"Raleway, Helvetica, Arial, sans-serif\" font-size=\"10.00\">• </text>\n",
       "<text xml:space=\"preserve\" text-anchor=\"start\" x=\"298.5\" y=\"-32.25\" font-family=\"'Fira Mono', 'Source Code Pro', 'Courier', monospace\" font-size=\"8.00\">private_method()</text>\n",
       "<text xml:space=\"preserve\" text-anchor=\"start\" x=\"292.5\" y=\"-22.25\" font-family=\"Raleway, Helvetica, Arial, sans-serif\" font-size=\"10.00\">• </text>\n",
       "<text xml:space=\"preserve\" text-anchor=\"start\" x=\"298.5\" y=\"-22.25\" font-family=\"'Fira Mono', 'Source Code Pro', 'Courier', monospace\" font-style=\"italic\" font-size=\"8.00\">overloaded_method()</text>\n",
       "<text xml:space=\"preserve\" text-anchor=\"start\" x=\"292.5\" y=\"-13.2\" font-family=\"Helvetica,sans-Serif\" font-size=\"9.00\">Hover over names to see doc</text>\n",
       "</g>\n",
       "</g>\n",
       "</svg>\n"
      ],
      "text/plain": [
       "<graphviz.graphs.Digraph at 0x11aec0440>"
      ]
     },
     "execution_count": 112,
     "metadata": {},
     "output_type": "execute_result"
    }
   ],
   "source": [
    "# ignore\n",
    "display_class_hierarchy([FineChangeCounter, FixCounter],\n",
    "                        public_methods=[\n",
    "                            ChangeCounter.__init__,\n",
    "                            ChangeCounter.map\n",
    "                        ],\n",
    "                        project='debuggingbook')"
   ]
  },
  {
   "cell_type": "markdown",
   "metadata": {
    "button": false,
    "new_sheet": false,
    "run_control": {
     "read_only": false
    },
    "slideshow": {
     "slide_type": "slide"
    }
   },
   "source": [
    "## Mining Change Histories\n",
    "\n",
    "The history of any software project is a history of change. Any nontrivial project thus comes with a _version database_ to organize and track changes; and possibly also with an [issue database](Tracking.ipynb) to organize and track issues.\n",
    "\n",
    "Over time, these databases hold plenty of information about the project: _Who changed what, when, and why?_ This information can be _mined_ from existing databases and _analyzed_ to answer questions such as\n",
    "\n",
    "* Which parts in my project were most frequently or recently changed?\n",
    "* How many files does the average change touch?\n",
    "* Where in my project were the most bugs fixed?"
   ]
  },
  {
   "cell_type": "markdown",
   "metadata": {
    "slideshow": {
     "slide_type": "subslide"
    }
   },
   "source": [
    "To answer such questions, we can _mine_ change and bug histories for past changes and fixes. This involves digging through version databases such as `git` and [issue trackers such as RedMine or Bugzilla](Tracking.ipynb) and extracting all their information. Fortunately for us, there is ready-made infrastructure for some of this. "
   ]
  },
  {
   "cell_type": "markdown",
   "metadata": {
    "slideshow": {
     "slide_type": "slide"
    }
   },
   "source": [
    "## Mining with PyDriller"
   ]
  },
  {
   "cell_type": "markdown",
   "metadata": {
    "slideshow": {
     "slide_type": "fragment"
    }
   },
   "source": [
    "[PyDriller](https://pydriller.readthedocs.io/) is a Python package for mining change histories. Its `Repository` class takes a `git` version repository and allows accessing all the individual changes (\"modifications\"), together with committers, affected files, commit messages, and more."
   ]
  },
  {
   "cell_type": "code",
   "execution_count": 4,
   "metadata": {
    "execution": {
     "iopub.execute_input": "2025-10-26T17:57:14.637916Z",
     "iopub.status.busy": "2025-10-26T17:57:14.637778Z",
     "iopub.status.idle": "2025-10-26T17:57:14.706546Z",
     "shell.execute_reply": "2025-10-26T17:57:14.706170Z"
    },
    "slideshow": {
     "slide_type": "skip"
    }
   },
   "outputs": [],
   "source": [
    "from pydriller import Repository  # https://pydriller.readthedocs.io/"
   ]
  },
  {
   "cell_type": "code",
   "execution_count": 5,
   "metadata": {
    "execution": {
     "iopub.execute_input": "2025-10-26T17:57:14.708294Z",
     "iopub.status.busy": "2025-10-26T17:57:14.708175Z",
     "iopub.status.idle": "2025-10-26T17:57:14.709947Z",
     "shell.execute_reply": "2025-10-26T17:57:14.709704Z"
    },
    "slideshow": {
     "slide_type": "skip"
    }
   },
   "outputs": [],
   "source": [
    "from pydriller.domain.commit import Commit"
   ]
  },
  {
   "cell_type": "code",
   "execution_count": 6,
   "metadata": {
    "execution": {
     "iopub.execute_input": "2025-10-26T17:57:14.711144Z",
     "iopub.status.busy": "2025-10-26T17:57:14.711064Z",
     "iopub.status.idle": "2025-10-26T17:57:14.712593Z",
     "shell.execute_reply": "2025-10-26T17:57:14.712363Z"
    },
    "slideshow": {
     "slide_type": "skip"
    }
   },
   "outputs": [],
   "source": [
    "from pydriller.domain.commit import ModifiedFile"
   ]
  },
  {
   "cell_type": "markdown",
   "metadata": {
    "slideshow": {
     "slide_type": "fragment"
    }
   },
   "source": [
    "To use `Repository`, we need to pass it \n",
    "* the URL of a `git` repository; or\n",
    "* the directory name where a cloned `git` repository can be found.\n",
    "\n",
    "In general, cloning a `git` repository locally (with `git clone URL`) and then analyzing it locally will be faster and require less network resources."
   ]
  },
  {
   "cell_type": "markdown",
   "metadata": {
    "slideshow": {
     "slide_type": "subslide"
    }
   },
   "source": [
    "Let us apply `Repository` on the repository of this book. The function `current_repo()` returns the directory in which a `.git` subdirectory is stored – that is, the root of a cloned `git` repository."
   ]
  },
  {
   "cell_type": "code",
   "execution_count": 7,
   "metadata": {
    "execution": {
     "iopub.execute_input": "2025-10-26T17:57:14.713972Z",
     "iopub.status.busy": "2025-10-26T17:57:14.713883Z",
     "iopub.status.idle": "2025-10-26T17:57:14.715308Z",
     "shell.execute_reply": "2025-10-26T17:57:14.715080Z"
    },
    "slideshow": {
     "slide_type": "skip"
    }
   },
   "outputs": [],
   "source": [
    "import os"
   ]
  },
  {
   "cell_type": "code",
   "execution_count": 8,
   "metadata": {
    "execution": {
     "iopub.execute_input": "2025-10-26T17:57:14.716545Z",
     "iopub.status.busy": "2025-10-26T17:57:14.716469Z",
     "iopub.status.idle": "2025-10-26T17:57:14.717948Z",
     "shell.execute_reply": "2025-10-26T17:57:14.717719Z"
    },
    "slideshow": {
     "slide_type": "fragment"
    },
    "tags": [
     "remove-input"
    ]
   },
   "outputs": [],
   "source": [
    "# ignore\n",
    "from typing import Callable, Optional, Type, Tuple, Any\n",
    "from typing import Dict, Union, Set, List"
   ]
  },
  {
   "cell_type": "code",
   "execution_count": 9,
   "metadata": {
    "execution": {
     "iopub.execute_input": "2025-10-26T17:57:14.719295Z",
     "iopub.status.busy": "2025-10-26T17:57:14.719200Z",
     "iopub.status.idle": "2025-10-26T17:57:14.721012Z",
     "shell.execute_reply": "2025-10-26T17:57:14.720796Z"
    },
    "slideshow": {
     "slide_type": "subslide"
    }
   },
   "outputs": [],
   "source": [
    "def current_repo() -> Optional[str]:\n",
    "    path = os.getcwd()\n",
    "    while True:\n",
    "        if os.path.exists(os.path.join(path, '.git')):\n",
    "            return os.path.normpath(path)\n",
    "\n",
    "        # Go one level up\n",
    "        new_path = os.path.normpath(os.path.join(path, '..'))\n",
    "        if new_path != path:\n",
    "            path = new_path\n",
    "        else:\n",
    "            return None\n",
    "\n",
    "    return None"
   ]
  },
  {
   "cell_type": "code",
   "execution_count": 10,
   "metadata": {
    "execution": {
     "iopub.execute_input": "2025-10-26T17:57:14.722422Z",
     "iopub.status.busy": "2025-10-26T17:57:14.722305Z",
     "iopub.status.idle": "2025-10-26T17:57:14.724594Z",
     "shell.execute_reply": "2025-10-26T17:57:14.724324Z"
    },
    "slideshow": {
     "slide_type": "subslide"
    }
   },
   "outputs": [
    {
     "data": {
      "text/plain": [
       "'/Users/zeller/Projects/debuggingbook'"
      ]
     },
     "execution_count": 10,
     "metadata": {},
     "output_type": "execute_result"
    }
   ],
   "source": [
    "current_repo()"
   ]
  },
  {
   "cell_type": "markdown",
   "metadata": {
    "slideshow": {
     "slide_type": "fragment"
    }
   },
   "source": [
    "This gives us a repository miner for the book:"
   ]
  },
  {
   "cell_type": "code",
   "execution_count": 11,
   "metadata": {
    "execution": {
     "iopub.execute_input": "2025-10-26T17:57:14.726008Z",
     "iopub.status.busy": "2025-10-26T17:57:14.725916Z",
     "iopub.status.idle": "2025-10-26T17:57:14.727369Z",
     "shell.execute_reply": "2025-10-26T17:57:14.727115Z"
    },
    "slideshow": {
     "slide_type": "skip"
    }
   },
   "outputs": [],
   "source": [
    "from datetime import datetime"
   ]
  },
  {
   "cell_type": "code",
   "execution_count": 12,
   "metadata": {
    "execution": {
     "iopub.execute_input": "2025-10-26T17:57:14.728637Z",
     "iopub.status.busy": "2025-10-26T17:57:14.728549Z",
     "iopub.status.idle": "2025-10-26T17:57:14.730293Z",
     "shell.execute_reply": "2025-10-26T17:57:14.730074Z"
    },
    "slideshow": {
     "slide_type": "fragment"
    }
   },
   "outputs": [],
   "source": [
    "book_miner = Repository(current_repo(), to=datetime(2020, 10, 1))"
   ]
  },
  {
   "cell_type": "markdown",
   "metadata": {
    "slideshow": {
     "slide_type": "fragment"
    }
   },
   "source": [
    "The `to` argument limits the range of time we want to look at."
   ]
  },
  {
   "cell_type": "markdown",
   "metadata": {
    "slideshow": {
     "slide_type": "fragment"
    }
   },
   "source": [
    "You can also specify a URL instead, but this will access the repository via the network and generally be much slower."
   ]
  },
  {
   "cell_type": "code",
   "execution_count": 13,
   "metadata": {
    "execution": {
     "iopub.execute_input": "2025-10-26T17:57:14.731636Z",
     "iopub.status.busy": "2025-10-26T17:57:14.731560Z",
     "iopub.status.idle": "2025-10-26T17:57:14.733018Z",
     "shell.execute_reply": "2025-10-26T17:57:14.732784Z"
    },
    "slideshow": {
     "slide_type": "fragment"
    }
   },
   "outputs": [],
   "source": [
    "DEBUGGINGBOOK_REMOTE_REPO = 'https://github.com/uds-se/debuggingbook.git'\n",
    "# book_miner = Repository(DEBUGGINGBOOK_REMOTE_REPO)"
   ]
  },
  {
   "cell_type": "code",
   "execution_count": 14,
   "metadata": {
    "execution": {
     "iopub.execute_input": "2025-10-26T17:57:14.734293Z",
     "iopub.status.busy": "2025-10-26T17:57:14.734210Z",
     "iopub.status.idle": "2025-10-26T17:57:14.735717Z",
     "shell.execute_reply": "2025-10-26T17:57:14.735506Z"
    },
    "slideshow": {
     "slide_type": "fragment"
    },
    "tags": [
     "remove-input"
    ]
   },
   "outputs": [],
   "source": [
    "# ignore\n",
    "if 'CI' in os.environ:\n",
    "    # The CI git clone is shallow, so access full repo remotely\n",
    "    book_miner = Repository(DEBUGGINGBOOK_REMOTE_REPO,\n",
    "                            to=datetime(2020, 10, 1))"
   ]
  },
  {
   "cell_type": "markdown",
   "metadata": {
    "slideshow": {
     "slide_type": "subslide"
    }
   },
   "source": [
    "`traverse_commits()` is a generator that returns one commit after another. Let us fetch the very first commit made to the book:"
   ]
  },
  {
   "cell_type": "code",
   "execution_count": 15,
   "metadata": {
    "execution": {
     "iopub.execute_input": "2025-10-26T17:57:14.736900Z",
     "iopub.status.busy": "2025-10-26T17:57:14.736806Z",
     "iopub.status.idle": "2025-10-26T17:57:14.803864Z",
     "shell.execute_reply": "2025-10-26T17:57:14.803470Z"
    },
    "slideshow": {
     "slide_type": "fragment"
    }
   },
   "outputs": [],
   "source": [
    "book_commits = book_miner.traverse_commits()\n",
    "book_first_commit = next(book_commits)"
   ]
  },
  {
   "cell_type": "markdown",
   "metadata": {
    "slideshow": {
     "slide_type": "fragment"
    }
   },
   "source": [
    "Each commit has a number of attributes telling us more about the commit."
   ]
  },
  {
   "cell_type": "code",
   "execution_count": 16,
   "metadata": {
    "execution": {
     "iopub.execute_input": "2025-10-26T17:57:14.806009Z",
     "iopub.status.busy": "2025-10-26T17:57:14.805882Z",
     "iopub.status.idle": "2025-10-26T17:57:14.808685Z",
     "shell.execute_reply": "2025-10-26T17:57:14.808430Z"
    },
    "slideshow": {
     "slide_type": "subslide"
    }
   },
   "outputs": [
    {
     "data": {
      "text/plain": [
       "['author',\n",
       " 'author_date',\n",
       " 'author_timezone',\n",
       " 'branches',\n",
       " 'co_authors',\n",
       " 'committer',\n",
       " 'committer_date',\n",
       " 'committer_timezone',\n",
       " 'deletions',\n",
       " 'dmm_unit_complexity',\n",
       " 'dmm_unit_interfacing',\n",
       " 'dmm_unit_size',\n",
       " 'files',\n",
       " 'hash',\n",
       " 'in_main_branch',\n",
       " 'insertions',\n",
       " 'lines',\n",
       " 'merge',\n",
       " 'modified_files',\n",
       " 'msg',\n",
       " 'parents',\n",
       " 'project_name',\n",
       " 'project_path']"
      ]
     },
     "execution_count": 16,
     "metadata": {},
     "output_type": "execute_result"
    }
   ],
   "source": [
    "[attr for attr in dir(book_first_commit) if not attr.startswith('_')]"
   ]
  },
  {
   "cell_type": "markdown",
   "metadata": {
    "slideshow": {
     "slide_type": "subslide"
    }
   },
   "source": [
    "For instance, the `msg` attribute lets us know about the commit message:"
   ]
  },
  {
   "cell_type": "code",
   "execution_count": 17,
   "metadata": {
    "execution": {
     "iopub.execute_input": "2025-10-26T17:57:14.809954Z",
     "iopub.status.busy": "2025-10-26T17:57:14.809852Z",
     "iopub.status.idle": "2025-10-26T17:57:14.811737Z",
     "shell.execute_reply": "2025-10-26T17:57:14.811481Z"
    },
    "slideshow": {
     "slide_type": "fragment"
    }
   },
   "outputs": [
    {
     "data": {
      "text/plain": [
       "'first commit'"
      ]
     },
     "execution_count": 17,
     "metadata": {},
     "output_type": "execute_result"
    }
   ],
   "source": [
    "book_first_commit.msg"
   ]
  },
  {
   "cell_type": "markdown",
   "metadata": {
    "slideshow": {
     "slide_type": "fragment"
    }
   },
   "source": [
    "whereas the `author` attribute gets us the name and email of the person who made the commit:"
   ]
  },
  {
   "cell_type": "code",
   "execution_count": 18,
   "metadata": {
    "execution": {
     "iopub.execute_input": "2025-10-26T17:57:14.813182Z",
     "iopub.status.busy": "2025-10-26T17:57:14.813068Z",
     "iopub.status.idle": "2025-10-26T17:57:14.815127Z",
     "shell.execute_reply": "2025-10-26T17:57:14.814894Z"
    },
    "slideshow": {
     "slide_type": "fragment"
    }
   },
   "outputs": [
    {
     "data": {
      "text/plain": [
       "['email', 'name']"
      ]
     },
     "execution_count": 18,
     "metadata": {},
     "output_type": "execute_result"
    }
   ],
   "source": [
    "[attr for attr in dir(book_first_commit.author) if not attr.startswith('_')]"
   ]
  },
  {
   "cell_type": "code",
   "execution_count": 19,
   "metadata": {
    "execution": {
     "iopub.execute_input": "2025-10-26T17:57:14.816542Z",
     "iopub.status.busy": "2025-10-26T17:57:14.816438Z",
     "iopub.status.idle": "2025-10-26T17:57:14.818245Z",
     "shell.execute_reply": "2025-10-26T17:57:14.818024Z"
    },
    "slideshow": {
     "slide_type": "fragment"
    }
   },
   "outputs": [
    {
     "data": {
      "text/plain": [
       "('Andreas Zeller', 'zeller@cispa.saarland')"
      ]
     },
     "execution_count": 19,
     "metadata": {},
     "output_type": "execute_result"
    }
   ],
   "source": [
    "book_first_commit.author.name, book_first_commit.author.email"
   ]
  },
  {
   "cell_type": "markdown",
   "metadata": {
    "slideshow": {
     "slide_type": "fragment"
    }
   },
   "source": [
    "A commit consists of multiple _modifications_ to possibly multiple files. The commit `modified_files` attribute returns a list of modifications."
   ]
  },
  {
   "cell_type": "code",
   "execution_count": 20,
   "metadata": {
    "execution": {
     "iopub.execute_input": "2025-10-26T17:57:14.819604Z",
     "iopub.status.busy": "2025-10-26T17:57:14.819501Z",
     "iopub.status.idle": "2025-10-26T17:57:14.834452Z",
     "shell.execute_reply": "2025-10-26T17:57:14.834131Z"
    },
    "slideshow": {
     "slide_type": "fragment"
    }
   },
   "outputs": [
    {
     "data": {
      "text/plain": [
       "[<pydriller.domain.commit.ModifiedFile at 0x109ae9e80>]"
      ]
     },
     "execution_count": 20,
     "metadata": {},
     "output_type": "execute_result"
    }
   ],
   "source": [
    "book_first_commit.modified_files"
   ]
  },
  {
   "cell_type": "markdown",
   "metadata": {
    "slideshow": {
     "slide_type": "subslide"
    }
   },
   "source": [
    "For each modification, we can retrieve the files involved as well as several statistics:"
   ]
  },
  {
   "cell_type": "code",
   "execution_count": 21,
   "metadata": {
    "execution": {
     "iopub.execute_input": "2025-10-26T17:57:14.835864Z",
     "iopub.status.busy": "2025-10-26T17:57:14.835748Z",
     "iopub.status.idle": "2025-10-26T17:57:14.848115Z",
     "shell.execute_reply": "2025-10-26T17:57:14.847712Z"
    },
    "slideshow": {
     "slide_type": "subslide"
    }
   },
   "outputs": [
    {
     "data": {
      "text/plain": [
       "['added_lines',\n",
       " 'change_type',\n",
       " 'changed_methods',\n",
       " 'complexity',\n",
       " 'content',\n",
       " 'content_before',\n",
       " 'deleted_lines',\n",
       " 'diff',\n",
       " 'diff_parsed',\n",
       " 'filename',\n",
       " 'language_supported',\n",
       " 'methods',\n",
       " 'methods_before',\n",
       " 'new_path',\n",
       " 'nloc',\n",
       " 'old_path',\n",
       " 'source_code',\n",
       " 'source_code_before',\n",
       " 'token_count']"
      ]
     },
     "execution_count": 21,
     "metadata": {},
     "output_type": "execute_result"
    }
   ],
   "source": [
    "[attr for attr in dir(book_first_commit.modified_files[0]) if not attr.startswith('_')]"
   ]
  },
  {
   "cell_type": "markdown",
   "metadata": {
    "slideshow": {
     "slide_type": "subslide"
    }
   },
   "source": [
    "Let us see which file was created with this modification:"
   ]
  },
  {
   "cell_type": "code",
   "execution_count": 22,
   "metadata": {
    "execution": {
     "iopub.execute_input": "2025-10-26T17:57:14.849871Z",
     "iopub.status.busy": "2025-10-26T17:57:14.849744Z",
     "iopub.status.idle": "2025-10-26T17:57:14.862769Z",
     "shell.execute_reply": "2025-10-26T17:57:14.862404Z"
    },
    "slideshow": {
     "slide_type": "fragment"
    }
   },
   "outputs": [
    {
     "data": {
      "text/plain": [
       "'README.md'"
      ]
     },
     "execution_count": 22,
     "metadata": {},
     "output_type": "execute_result"
    }
   ],
   "source": [
    "book_first_commit.modified_files[0].new_path"
   ]
  },
  {
   "cell_type": "markdown",
   "metadata": {
    "slideshow": {
     "slide_type": "fragment"
    }
   },
   "source": [
    "The `content` attribute holds the entire file contents after the modification."
   ]
  },
  {
   "cell_type": "code",
   "execution_count": 23,
   "metadata": {
    "execution": {
     "iopub.execute_input": "2025-10-26T17:57:14.864412Z",
     "iopub.status.busy": "2025-10-26T17:57:14.864264Z",
     "iopub.status.idle": "2025-10-26T17:57:14.876419Z",
     "shell.execute_reply": "2025-10-26T17:57:14.876049Z"
    },
    "slideshow": {
     "slide_type": "fragment"
    }
   },
   "outputs": [
    {
     "name": "stdout",
     "output_type": "stream",
     "text": [
      "b'# debuggingbook\\n'\n"
     ]
    }
   ],
   "source": [
    "print(book_first_commit.modified_files[0].content)"
   ]
  },
  {
   "cell_type": "markdown",
   "metadata": {
    "slideshow": {
     "slide_type": "fragment"
    }
   },
   "source": [
    "We see that the `debuggingbook` project started with a very simple commit, namely the addition of an (almost empty) `README.md` file."
   ]
  },
  {
   "cell_type": "markdown",
   "metadata": {
    "slideshow": {
     "slide_type": "fragment"
    }
   },
   "source": [
    "The attribute `content_before` holds the previous source code. We see that it is `None` – the file was just created."
   ]
  },
  {
   "cell_type": "code",
   "execution_count": 24,
   "metadata": {
    "execution": {
     "iopub.execute_input": "2025-10-26T17:57:14.877936Z",
     "iopub.status.busy": "2025-10-26T17:57:14.877812Z",
     "iopub.status.idle": "2025-10-26T17:57:14.889818Z",
     "shell.execute_reply": "2025-10-26T17:57:14.889427Z"
    },
    "slideshow": {
     "slide_type": "fragment"
    }
   },
   "outputs": [
    {
     "name": "stdout",
     "output_type": "stream",
     "text": [
      "None\n"
     ]
    }
   ],
   "source": [
    "print(book_first_commit.modified_files[0].content_before)"
   ]
  },
  {
   "cell_type": "markdown",
   "metadata": {
    "slideshow": {
     "slide_type": "subslide"
    }
   },
   "source": [
    "Let us have a look at the _second_ commit. We see that it is much more substantial already."
   ]
  },
  {
   "cell_type": "code",
   "execution_count": 25,
   "metadata": {
    "execution": {
     "iopub.execute_input": "2025-10-26T17:57:14.891579Z",
     "iopub.status.busy": "2025-10-26T17:57:14.891442Z",
     "iopub.status.idle": "2025-10-26T17:57:14.893730Z",
     "shell.execute_reply": "2025-10-26T17:57:14.893456Z"
    },
    "slideshow": {
     "slide_type": "fragment"
    }
   },
   "outputs": [],
   "source": [
    "book_second_commit = next(book_commits)"
   ]
  },
  {
   "cell_type": "code",
   "execution_count": 26,
   "metadata": {
    "execution": {
     "iopub.execute_input": "2025-10-26T17:57:14.895573Z",
     "iopub.status.busy": "2025-10-26T17:57:14.895429Z",
     "iopub.status.idle": "2025-10-26T17:57:14.924250Z",
     "shell.execute_reply": "2025-10-26T17:57:14.923935Z"
    },
    "slideshow": {
     "slide_type": "fragment"
    }
   },
   "outputs": [
    {
     "data": {
      "text/plain": [
       "['Chapters.makefile',\n",
       " 'LICENSE.md',\n",
       " 'Makefile',\n",
       " 'README.md',\n",
       " 'debuggingbook.bib',\n",
       " 'ipypublish',\n",
       " 'ipypublish_plugins',\n",
       " 'notebooks/.ipynb_checkpoints/index-checkpoint.ipynb',\n",
       " 'notebooks/index.ipynb',\n",
       " 'utils']"
      ]
     },
     "execution_count": 26,
     "metadata": {},
     "output_type": "execute_result"
    }
   ],
   "source": [
    "[m.new_path for m in book_second_commit.modified_files]"
   ]
  },
  {
   "cell_type": "markdown",
   "metadata": {
    "slideshow": {
     "slide_type": "fragment"
    }
   },
   "source": [
    "We fetch the modification for the `README.md` file:"
   ]
  },
  {
   "cell_type": "code",
   "execution_count": 27,
   "metadata": {
    "execution": {
     "iopub.execute_input": "2025-10-26T17:57:14.925634Z",
     "iopub.status.busy": "2025-10-26T17:57:14.925526Z",
     "iopub.status.idle": "2025-10-26T17:57:14.939272Z",
     "shell.execute_reply": "2025-10-26T17:57:14.938938Z"
    },
    "slideshow": {
     "slide_type": "subslide"
    }
   },
   "outputs": [],
   "source": [
    "readme_modification = [m for m in book_second_commit.modified_files if m.new_path == 'README.md'][0]"
   ]
  },
  {
   "cell_type": "markdown",
   "metadata": {
    "slideshow": {
     "slide_type": "fragment"
    }
   },
   "source": [
    "The `content_before` attribute holds the previous version (which we already have seen):"
   ]
  },
  {
   "cell_type": "code",
   "execution_count": 28,
   "metadata": {
    "execution": {
     "iopub.execute_input": "2025-10-26T17:57:14.940718Z",
     "iopub.status.busy": "2025-10-26T17:57:14.940625Z",
     "iopub.status.idle": "2025-10-26T17:57:14.942526Z",
     "shell.execute_reply": "2025-10-26T17:57:14.942321Z"
    },
    "slideshow": {
     "slide_type": "fragment"
    }
   },
   "outputs": [
    {
     "name": "stdout",
     "output_type": "stream",
     "text": [
      "# debuggingbook\n",
      "\n"
     ]
    }
   ],
   "source": [
    "print(str(readme_modification.content_before, 'utf8'))"
   ]
  },
  {
   "cell_type": "markdown",
   "metadata": {
    "slideshow": {
     "slide_type": "fragment"
    }
   },
   "source": [
    "The `content` attribute holds the new version – now a complete \"README\" file. (Compare this first version to the [current README text](index.ipynb).)"
   ]
  },
  {
   "cell_type": "code",
   "execution_count": 29,
   "metadata": {
    "execution": {
     "iopub.execute_input": "2025-10-26T17:57:14.943711Z",
     "iopub.status.busy": "2025-10-26T17:57:14.943627Z",
     "iopub.status.idle": "2025-10-26T17:57:14.945346Z",
     "shell.execute_reply": "2025-10-26T17:57:14.945101Z"
    },
    "slideshow": {
     "slide_type": "subslide"
    }
   },
   "outputs": [
    {
     "name": "stdout",
     "output_type": "stream",
     "text": [
      "\n",
      "# About this Book\n",
      "\n",
      "__Welcome to \"The Debugging Book\"!__ \n",
      "\n",
      "Software has bugs, and finding bugs can involve lots of effort.  This book addresses this problem by _automating_ software debugging, specifically by _locating errors and their causes automatically_.  Recent years have seen the development of novel techniques that lead to dramatic improvements in test generation and software testing.  They\n"
     ]
    }
   ],
   "source": [
    "print(str(readme_modification.content[:400], 'utf8'))"
   ]
  },
  {
   "cell_type": "markdown",
   "metadata": {
    "slideshow": {
     "slide_type": "fragment"
    }
   },
   "source": [
    "The `diff` attribute holds the differences between the old and the new version."
   ]
  },
  {
   "cell_type": "code",
   "execution_count": 30,
   "metadata": {
    "execution": {
     "iopub.execute_input": "2025-10-26T17:57:14.946549Z",
     "iopub.status.busy": "2025-10-26T17:57:14.946474Z",
     "iopub.status.idle": "2025-10-26T17:57:14.947999Z",
     "shell.execute_reply": "2025-10-26T17:57:14.947800Z"
    },
    "slideshow": {
     "slide_type": "subslide"
    }
   },
   "outputs": [
    {
     "name": "stdout",
     "output_type": "stream",
     "text": [
      "@@ -1 +1,157 @@\n",
      "-# debuggingbook\n",
      "+\n",
      "+# About this Book\n",
      "+\n",
      "+__Welcome to \"The Debugging Book\"!__ \n",
      "+\n",
      "+So\n"
     ]
    }
   ],
   "source": [
    "print(readme_modification.diff[:100])"
   ]
  },
  {
   "cell_type": "markdown",
   "metadata": {
    "slideshow": {
     "slide_type": "fragment"
    }
   },
   "source": [
    "The `diff_parsed` attribute even lists added and deleted lines:"
   ]
  },
  {
   "cell_type": "code",
   "execution_count": 31,
   "metadata": {
    "execution": {
     "iopub.execute_input": "2025-10-26T17:57:14.949293Z",
     "iopub.status.busy": "2025-10-26T17:57:14.949200Z",
     "iopub.status.idle": "2025-10-26T17:57:14.951621Z",
     "shell.execute_reply": "2025-10-26T17:57:14.951322Z"
    },
    "slideshow": {
     "slide_type": "subslide"
    }
   },
   "outputs": [
    {
     "data": {
      "text/plain": [
       "[(1, ''),\n",
       " (2, '# About this Book'),\n",
       " (3, ''),\n",
       " (4, '__Welcome to \"The Debugging Book\"!__'),\n",
       " (5, ''),\n",
       " (6,\n",
       "  'Software has bugs, and finding bugs can involve lots of effort.  This book addresses this problem by _automating_ software debugging, specifically by _locating errors and their causes automatically_.  Recent years have seen the development of novel techniques that lead to dramatic improvements in test generation and software testing.  They now are mature enough to be assembled in a book – even with executable code.'),\n",
       " (7, ''),\n",
       " (8, ''),\n",
       " (9, ''),\n",
       " (10, '## A Textbook for Paper, Screen, and Keyboard')]"
      ]
     },
     "execution_count": 31,
     "metadata": {},
     "output_type": "execute_result"
    }
   ],
   "source": [
    "readme_modification.diff_parsed['added'][:10]"
   ]
  },
  {
   "cell_type": "markdown",
   "metadata": {
    "slideshow": {
     "slide_type": "fragment"
    }
   },
   "source": [
    "With all this information, we can track all commits and modifications and establish statistics over which files were changed (and possibly even fixed) most. This is what we will do in the next section."
   ]
  },
  {
   "cell_type": "code",
   "execution_count": 32,
   "metadata": {
    "execution": {
     "iopub.execute_input": "2025-10-26T17:57:14.953138Z",
     "iopub.status.busy": "2025-10-26T17:57:14.952972Z",
     "iopub.status.idle": "2025-10-26T17:57:14.954494Z",
     "shell.execute_reply": "2025-10-26T17:57:14.954251Z"
    },
    "slideshow": {
     "slide_type": "subslide"
    },
    "tags": [
     "remove-input"
    ]
   },
   "outputs": [],
   "source": [
    "# ignore\n",
    "del book_miner  # Save a bit of memory"
   ]
  },
  {
   "cell_type": "markdown",
   "metadata": {
    "slideshow": {
     "slide_type": "slide"
    }
   },
   "source": [
    "## Counting Changes\n",
    "\n",
    "We start with a simple `ChangeCounter` class that, given a repository, counts for each file how frequently it was changed."
   ]
  },
  {
   "cell_type": "markdown",
   "metadata": {
    "slideshow": {
     "slide_type": "fragment"
    }
   },
   "source": [
    "We represent file names as _nodes_ – a tuple $(f_1, f_2, ..., f_n)$ that denotes a _hierarchy_: Each $f_i$ is a directory holding $f_{i+1}$, with $f_n$ being the actual file. Here is what this notebook looks as a node:"
   ]
  },
  {
   "cell_type": "code",
   "execution_count": 33,
   "metadata": {
    "execution": {
     "iopub.execute_input": "2025-10-26T17:57:14.956045Z",
     "iopub.status.busy": "2025-10-26T17:57:14.955937Z",
     "iopub.status.idle": "2025-10-26T17:57:14.958130Z",
     "shell.execute_reply": "2025-10-26T17:57:14.957893Z"
    },
    "slideshow": {
     "slide_type": "fragment"
    }
   },
   "outputs": [
    {
     "data": {
      "text/plain": [
       "('debuggingbook', 'notebooks', 'ChangeCounter.ipynb')"
      ]
     },
     "execution_count": 33,
     "metadata": {},
     "output_type": "execute_result"
    }
   ],
   "source": [
    "tuple('debuggingbook/notebooks/ChangeCounter.ipynb'.split('/'))"
   ]
  },
  {
   "cell_type": "code",
   "execution_count": 34,
   "metadata": {
    "execution": {
     "iopub.execute_input": "2025-10-26T17:57:14.959382Z",
     "iopub.status.busy": "2025-10-26T17:57:14.959278Z",
     "iopub.status.idle": "2025-10-26T17:57:14.960845Z",
     "shell.execute_reply": "2025-10-26T17:57:14.960580Z"
    },
    "slideshow": {
     "slide_type": "fragment"
    }
   },
   "outputs": [],
   "source": [
    "Node = Tuple"
   ]
  },
  {
   "cell_type": "markdown",
   "metadata": {
    "slideshow": {
     "slide_type": "fragment"
    }
   },
   "source": [
    "The constructor takes the repository to be analyzed and sets the internal counters."
   ]
  },
  {
   "cell_type": "code",
   "execution_count": 35,
   "metadata": {
    "execution": {
     "iopub.execute_input": "2025-10-26T17:57:14.962249Z",
     "iopub.status.busy": "2025-10-26T17:57:14.962161Z",
     "iopub.status.idle": "2025-10-26T17:57:14.963866Z",
     "shell.execute_reply": "2025-10-26T17:57:14.963639Z"
    },
    "slideshow": {
     "slide_type": "skip"
    }
   },
   "outputs": [],
   "source": [
    "from collections import defaultdict"
   ]
  },
  {
   "cell_type": "code",
   "execution_count": 36,
   "metadata": {
    "execution": {
     "iopub.execute_input": "2025-10-26T17:57:14.965055Z",
     "iopub.status.busy": "2025-10-26T17:57:14.964967Z",
     "iopub.status.idle": "2025-10-26T17:57:14.966426Z",
     "shell.execute_reply": "2025-10-26T17:57:14.966177Z"
    },
    "slideshow": {
     "slide_type": "skip"
    }
   },
   "outputs": [],
   "source": [
    "import warnings"
   ]
  },
  {
   "cell_type": "code",
   "execution_count": 37,
   "metadata": {
    "execution": {
     "iopub.execute_input": "2025-10-26T17:57:14.967603Z",
     "iopub.status.busy": "2025-10-26T17:57:14.967527Z",
     "iopub.status.idle": "2025-10-26T17:57:14.968897Z",
     "shell.execute_reply": "2025-10-26T17:57:14.968667Z"
    },
    "slideshow": {
     "slide_type": "skip"
    }
   },
   "outputs": [],
   "source": [
    "from git.exc import GitCommandError  # type: ignore"
   ]
  },
  {
   "cell_type": "code",
   "execution_count": 38,
   "metadata": {
    "execution": {
     "iopub.execute_input": "2025-10-26T17:57:14.970123Z",
     "iopub.status.busy": "2025-10-26T17:57:14.970019Z",
     "iopub.status.idle": "2025-10-26T17:57:14.972590Z",
     "shell.execute_reply": "2025-10-26T17:57:14.972362Z"
    },
    "slideshow": {
     "slide_type": "subslide"
    }
   },
   "outputs": [],
   "source": [
    "class ChangeCounter:\n",
    "    \"\"\"Count the number of changes for a repository.\"\"\"\n",
    "\n",
    "    def __init__(self, repo: str, *, \n",
    "                 filter: Optional[Callable[[Commit], bool]] = None, \n",
    "                 log: bool = False, \n",
    "                 **kwargs: Any) -> None:\n",
    "        \"\"\"\n",
    "        Constructor.\n",
    "        `repo` is a git repository (as URL or directory).\n",
    "        `filter` is a predicate that takes a modification and returns True \n",
    "        if it should be considered (default: consider all).\n",
    "        `log` turns on logging if set.\n",
    "        `kwargs` are passed to the `Repository()` constructor.\n",
    "        \"\"\"\n",
    "        self.repo = repo\n",
    "        self.log = log\n",
    "\n",
    "        if filter is None:\n",
    "            def filter(m: ModifiedFile) -> bool:\n",
    "                return True\n",
    "        assert filter is not None\n",
    "\n",
    "        self.filter = filter\n",
    "\n",
    "        # A node is an tuple (f_1, f_2, f_3, ..., f_n) denoting\n",
    "        # a folder f_1 holding a folder f_2 ... holding a file f_n.\n",
    "\n",
    "        # Mapping node -> #of changes\n",
    "        self.changes: Dict[Node, int] = defaultdict(int)\n",
    "\n",
    "        # Mapping node -> list of commit messages\n",
    "        self.messages: Dict[Node, List[str]] = defaultdict(list)\n",
    "\n",
    "        # Mapping node -> last size seen\n",
    "        self.sizes: Dict[Node, Union[int, float]] = {}\n",
    "\n",
    "        self.mine(**kwargs)"
   ]
  },
  {
   "cell_type": "markdown",
   "metadata": {
    "slideshow": {
     "slide_type": "subslide"
    }
   },
   "source": [
    "The method `mine()` does all the heavy lifting of mining. It retrieves all commits and all modifications from the repository, passing the modifications through the `update_stats()` method."
   ]
  },
  {
   "cell_type": "code",
   "execution_count": 39,
   "metadata": {
    "execution": {
     "iopub.execute_input": "2025-10-26T17:57:14.973847Z",
     "iopub.status.busy": "2025-10-26T17:57:14.973744Z",
     "iopub.status.idle": "2025-10-26T17:57:14.976168Z",
     "shell.execute_reply": "2025-10-26T17:57:14.975973Z"
    },
    "slideshow": {
     "slide_type": "subslide"
    }
   },
   "outputs": [],
   "source": [
    "class ChangeCounter(ChangeCounter):\n",
    "    def mine(self, **kwargs: Any) -> None:\n",
    "        \"\"\"Gather data from repository. To be extended in subclasses.\"\"\"\n",
    "        miner = Repository(self.repo, **kwargs)\n",
    "\n",
    "        for commit in miner.traverse_commits():\n",
    "            try:\n",
    "                self.mine_commit(commit)\n",
    "            except GitCommandError as err:\n",
    "                # Warn about failing git commands, but continue\n",
    "                warnings.warn(\"Cannot mine commit \" + repr(commit.hash) + '\\n' + str(err))\n",
    "            except (ValueError, TypeError) as err:\n",
    "                warnings.warn(\"Cannot mine commit \" + repr(commit.hash) + '\\n' + str(err))\n",
    "                raise err\n",
    "\n",
    "    def mine_commit(self, commit: Commit) -> None:\n",
    "        for m in commit.modified_files:\n",
    "            m.committer = commit.committer\n",
    "            m.committer_date = commit.committer_date\n",
    "            m.msg = commit.msg\n",
    "\n",
    "            if self.include(m):\n",
    "                self.update_stats(m)"
   ]
  },
  {
   "attachments": {},
   "cell_type": "markdown",
   "metadata": {
    "slideshow": {
     "slide_type": "subslide"
    }
   },
   "source": [
    "The `include()` method allows filtering modifications. For simplicity, we copy the most relevant attributes of the commit over to the modification, such that the filter can access them, too."
   ]
  },
  {
   "cell_type": "code",
   "execution_count": 40,
   "metadata": {
    "execution": {
     "iopub.execute_input": "2025-10-26T17:57:14.977516Z",
     "iopub.status.busy": "2025-10-26T17:57:14.977420Z",
     "iopub.status.idle": "2025-10-26T17:57:14.979058Z",
     "shell.execute_reply": "2025-10-26T17:57:14.978858Z"
    },
    "slideshow": {
     "slide_type": "fragment"
    }
   },
   "outputs": [],
   "source": [
    "class ChangeCounter(ChangeCounter):\n",
    "    def include(self, m: ModifiedFile) -> bool:\n",
    "        \"\"\"\n",
    "        Return True if the modification `m` should be included\n",
    "        (default: the `filter` predicate given to the constructor).\n",
    "        To be overloaded in subclasses.\n",
    "        \"\"\"\n",
    "        return self.filter(m)"
   ]
  },
  {
   "cell_type": "markdown",
   "metadata": {
    "slideshow": {
     "slide_type": "fragment"
    }
   },
   "source": [
    "For each such node, `update_stats()` then invokes `update_size()`, `update_changes()`, and `update_elems()`."
   ]
  },
  {
   "cell_type": "code",
   "execution_count": 41,
   "metadata": {
    "execution": {
     "iopub.execute_input": "2025-10-26T17:57:14.981596Z",
     "iopub.status.busy": "2025-10-26T17:57:14.981486Z",
     "iopub.status.idle": "2025-10-26T17:57:14.983544Z",
     "shell.execute_reply": "2025-10-26T17:57:14.983301Z"
    },
    "slideshow": {
     "slide_type": "subslide"
    }
   },
   "outputs": [],
   "source": [
    "class ChangeCounter(ChangeCounter):\n",
    "    def update_stats(self, m: ModifiedFile) -> None:\n",
    "        \"\"\"\n",
    "        Update counters with modification `m`.\n",
    "        Can be extended in subclasses.\n",
    "        \"\"\"\n",
    "        if not m.new_path:\n",
    "            return\n",
    "\n",
    "        node = tuple(m.new_path.split('/'))\n",
    "\n",
    "        self.update_size(node, len(m.content) if m.content else 0)\n",
    "        self.update_changes(node, m.msg)\n",
    "\n",
    "        self.update_elems(node, m)"
   ]
  },
  {
   "cell_type": "markdown",
   "metadata": {
    "slideshow": {
     "slide_type": "subslide"
    }
   },
   "source": [
    "`update_size()` simply saves the last size of the item being modified. Since we progress from first to last commit, this reflects the size of the newest version."
   ]
  },
  {
   "cell_type": "code",
   "execution_count": 42,
   "metadata": {
    "execution": {
     "iopub.execute_input": "2025-10-26T17:57:14.984992Z",
     "iopub.status.busy": "2025-10-26T17:57:14.984884Z",
     "iopub.status.idle": "2025-10-26T17:57:14.986863Z",
     "shell.execute_reply": "2025-10-26T17:57:14.986645Z"
    },
    "slideshow": {
     "slide_type": "fragment"
    }
   },
   "outputs": [],
   "source": [
    "class ChangeCounter(ChangeCounter):\n",
    "    def update_size(self, node: Tuple, size: int) -> None:\n",
    "        \"\"\"\n",
    "        Update counters for `node` with `size`.\n",
    "        Can be extended in subclasses.\n",
    "        \"\"\"\n",
    "        self.sizes[node] = size"
   ]
  },
  {
   "cell_type": "markdown",
   "metadata": {
    "slideshow": {
     "slide_type": "subslide"
    }
   },
   "source": [
    "`update_changes()` increases the counter `changes` for the given node `node`, and adds the current commit message `commit_msg` to its list. This makes\n",
    "\n",
    "* `size` a mapping of nodes to their size\n",
    "* `changes` a mapping of nodes to the number of changes they have seen\n",
    "* `commit_msg` a mapping of nodes to the list of commit messages that have affected them."
   ]
  },
  {
   "cell_type": "code",
   "execution_count": 43,
   "metadata": {
    "execution": {
     "iopub.execute_input": "2025-10-26T17:57:14.988179Z",
     "iopub.status.busy": "2025-10-26T17:57:14.988072Z",
     "iopub.status.idle": "2025-10-26T17:57:14.989954Z",
     "shell.execute_reply": "2025-10-26T17:57:14.989735Z"
    },
    "slideshow": {
     "slide_type": "subslide"
    }
   },
   "outputs": [],
   "source": [
    "class ChangeCounter(ChangeCounter):\n",
    "    def update_changes(self, node: Tuple, commit_msg: str) -> None:\n",
    "        \"\"\"\n",
    "        Update stats for `node` changed with `commit_msg`.\n",
    "        Can be extended in subclasses.\n",
    "        \"\"\"\n",
    "        self.changes[node] += 1\n",
    "\n",
    "        self.messages[node].append(commit_msg)"
   ]
  },
  {
   "cell_type": "markdown",
   "metadata": {
    "slideshow": {
     "slide_type": "fragment"
    }
   },
   "source": [
    "The `update_elems()` method is reserved for later use, when we go and count fine-grained changes."
   ]
  },
  {
   "cell_type": "code",
   "execution_count": 44,
   "metadata": {
    "execution": {
     "iopub.execute_input": "2025-10-26T17:57:14.990959Z",
     "iopub.status.busy": "2025-10-26T17:57:14.990885Z",
     "iopub.status.idle": "2025-10-26T17:57:14.992608Z",
     "shell.execute_reply": "2025-10-26T17:57:14.992394Z"
    },
    "slideshow": {
     "slide_type": "subslide"
    }
   },
   "outputs": [],
   "source": [
    "class ChangeCounter(ChangeCounter):\n",
    "    def update_elems(self, node: Tuple, m: ModifiedFile) -> None:\n",
    "        \"\"\"\n",
    "        Update counters for subelements of `node` with modification `m`.\n",
    "        To be defined in subclasses.\n",
    "        \"\"\"\n",
    "        pass"
   ]
  },
  {
   "cell_type": "markdown",
   "metadata": {
    "slideshow": {
     "slide_type": "fragment"
    }
   },
   "source": [
    "Let us put `ChangeCounter` to action – on the current (debuggingbook) repository."
   ]
  },
  {
   "cell_type": "code",
   "execution_count": 45,
   "metadata": {
    "execution": {
     "iopub.execute_input": "2025-10-26T17:57:14.993741Z",
     "iopub.status.busy": "2025-10-26T17:57:14.993670Z",
     "iopub.status.idle": "2025-10-26T17:57:14.995415Z",
     "shell.execute_reply": "2025-10-26T17:57:14.995150Z"
    },
    "slideshow": {
     "slide_type": "fragment"
    }
   },
   "outputs": [],
   "source": [
    "DEBUGGINGBOOK_REPO = current_repo()"
   ]
  },
  {
   "cell_type": "code",
   "execution_count": 46,
   "metadata": {
    "execution": {
     "iopub.execute_input": "2025-10-26T17:57:14.996715Z",
     "iopub.status.busy": "2025-10-26T17:57:14.996628Z",
     "iopub.status.idle": "2025-10-26T17:57:14.998793Z",
     "shell.execute_reply": "2025-10-26T17:57:14.998511Z"
    },
    "slideshow": {
     "slide_type": "fragment"
    }
   },
   "outputs": [
    {
     "data": {
      "text/plain": [
       "'/Users/zeller/Projects/debuggingbook'"
      ]
     },
     "execution_count": 46,
     "metadata": {},
     "output_type": "execute_result"
    }
   ],
   "source": [
    "DEBUGGINGBOOK_REPO"
   ]
  },
  {
   "cell_type": "markdown",
   "metadata": {
    "slideshow": {
     "slide_type": "subslide"
    }
   },
   "source": [
    "The function `debuggingbook_change_counter` instantiates a `ChangeCounter` class (or any subclass) with the `debuggingbook` repository, mining all the counters as listed above. Since mining _all_ history takes quite some time, its parameter `start_date` allows setting a starting date (default: March 1, 2021); changes before that date will be ignored."
   ]
  },
  {
   "cell_type": "code",
   "execution_count": 47,
   "metadata": {
    "execution": {
     "iopub.execute_input": "2025-10-26T17:57:15.000560Z",
     "iopub.status.busy": "2025-10-26T17:57:15.000456Z",
     "iopub.status.idle": "2025-10-26T17:57:15.002748Z",
     "shell.execute_reply": "2025-10-26T17:57:15.002416Z"
    },
    "slideshow": {
     "slide_type": "fragment"
    }
   },
   "outputs": [],
   "source": [
    "DEBUGGINGBOOK_START_DATE: datetime = datetime(2021, 3, 1)"
   ]
  },
  {
   "cell_type": "code",
   "execution_count": 48,
   "metadata": {
    "execution": {
     "iopub.execute_input": "2025-10-26T17:57:15.004673Z",
     "iopub.status.busy": "2025-10-26T17:57:15.004489Z",
     "iopub.status.idle": "2025-10-26T17:57:15.007040Z",
     "shell.execute_reply": "2025-10-26T17:57:15.006617Z"
    },
    "slideshow": {
     "slide_type": "fragment"
    }
   },
   "outputs": [],
   "source": [
    "NUM_WORKERS = 4  # Number of threads to be run in parallel"
   ]
  },
  {
   "cell_type": "code",
   "execution_count": 49,
   "metadata": {
    "execution": {
     "iopub.execute_input": "2025-10-26T17:57:15.008603Z",
     "iopub.status.busy": "2025-10-26T17:57:15.008479Z",
     "iopub.status.idle": "2025-10-26T17:57:15.010810Z",
     "shell.execute_reply": "2025-10-26T17:57:15.010537Z"
    },
    "slideshow": {
     "slide_type": "subslide"
    }
   },
   "outputs": [],
   "source": [
    "def debuggingbook_change_counter(\n",
    "        cls: Type,\n",
    "        start_date: datetime = DEBUGGINGBOOK_START_DATE) -> Any:\n",
    "    \"\"\"\n",
    "    Instantiate a ChangeCounter (sub)class `cls` with the debuggingbook repo.\n",
    "    Only mines changes after `start_date` (default: DEBUGGINGBOOK_START_DATE)\n",
    "    \"\"\"\n",
    "\n",
    "    def filter(m: ModifiedFile) -> bool:\n",
    "        \"\"\"\n",
    "        Do not include\n",
    "        * the `docs/` directory; it only holds generated Web pages\n",
    "        * the `notebooks/shared/` package; this is infrastructure\n",
    "        * the `synopsis` pictures; these are all generated\n",
    "         \"\"\"\n",
    "        return (m.new_path and\n",
    "                not m.new_path.startswith('docs/') and\n",
    "                not m.new_path.startswith('notebooks/shared/') and\n",
    "                '-synopsis-' not in m.new_path)\n",
    "\n",
    "    return cls(DEBUGGINGBOOK_REPO,\n",
    "               filter=filter,\n",
    "               since=start_date,\n",
    "               num_workers=NUM_WORKERS)"
   ]
  },
  {
   "cell_type": "markdown",
   "metadata": {
    "slideshow": {
     "slide_type": "subslide"
    }
   },
   "source": [
    "Let us set `change_counter` to this `ChangeCounter` instance. This can take a few minutes."
   ]
  },
  {
   "cell_type": "code",
   "execution_count": 50,
   "metadata": {
    "execution": {
     "iopub.execute_input": "2025-10-26T17:57:15.012387Z",
     "iopub.status.busy": "2025-10-26T17:57:15.012248Z",
     "iopub.status.idle": "2025-10-26T17:57:15.029848Z",
     "shell.execute_reply": "2025-10-26T17:57:15.025825Z"
    },
    "slideshow": {
     "slide_type": "skip"
    }
   },
   "outputs": [],
   "source": [
    "from Timer import Timer"
   ]
  },
  {
   "cell_type": "code",
   "execution_count": 51,
   "metadata": {
    "execution": {
     "iopub.execute_input": "2025-10-26T17:57:15.032008Z",
     "iopub.status.busy": "2025-10-26T17:57:15.031794Z",
     "iopub.status.idle": "2025-10-26T17:58:49.788000Z",
     "shell.execute_reply": "2025-10-26T17:58:49.787405Z"
    },
    "slideshow": {
     "slide_type": "fragment"
    }
   },
   "outputs": [
    {
     "data": {
      "text/plain": [
       "94.75101675000042"
      ]
     },
     "execution_count": 51,
     "metadata": {},
     "output_type": "execute_result"
    }
   ],
   "source": [
    "with Timer() as t:\n",
    "    change_counter = debuggingbook_change_counter(ChangeCounter)\n",
    "\n",
    "t.elapsed_time()"
   ]
  },
  {
   "cell_type": "markdown",
   "metadata": {
    "slideshow": {
     "slide_type": "fragment"
    }
   },
   "source": [
    "The attribute `changes` of our `ChangeCounter` now is a mapping of nodes to the respective number of changes. Here are the first 10 entries:"
   ]
  },
  {
   "cell_type": "code",
   "execution_count": 52,
   "metadata": {
    "execution": {
     "iopub.execute_input": "2025-10-26T17:58:49.790119Z",
     "iopub.status.busy": "2025-10-26T17:58:49.789971Z",
     "iopub.status.idle": "2025-10-26T17:58:49.792817Z",
     "shell.execute_reply": "2025-10-26T17:58:49.792498Z"
    },
    "slideshow": {
     "slide_type": "subslide"
    }
   },
   "outputs": [
    {
     "data": {
      "text/plain": [
       "[('notebooks', 'Intro_Debugging.ipynb'),\n",
       " ('html', 'custom.css'),\n",
       " ('Chapters.makefile',),\n",
       " ('notebooks', '02_Observing.ipynb'),\n",
       " ('notebooks', '04_Reducing.ipynb'),\n",
       " ('notebooks', 'PerformanceDebugger.ipynb'),\n",
       " ('notebooks', 'ThreadDebugger.ipynb'),\n",
       " ('notebooks', 'Debugger.ipynb'),\n",
       " ('notebooks', 'Tracer.ipynb'),\n",
       " ('binder', 'postBuild')]"
      ]
     },
     "execution_count": 52,
     "metadata": {},
     "output_type": "execute_result"
    }
   ],
   "source": [
    "list(change_counter.changes.keys())[:10]"
   ]
  },
  {
   "cell_type": "markdown",
   "metadata": {
    "slideshow": {
     "slide_type": "fragment"
    }
   },
   "source": [
    "This is the number of changes to the `Chapters.makefile` file which lists the book chapters:"
   ]
  },
  {
   "cell_type": "code",
   "execution_count": 53,
   "metadata": {
    "execution": {
     "iopub.execute_input": "2025-10-26T17:58:49.794345Z",
     "iopub.status.busy": "2025-10-26T17:58:49.794237Z",
     "iopub.status.idle": "2025-10-26T17:58:49.796479Z",
     "shell.execute_reply": "2025-10-26T17:58:49.796213Z"
    },
    "slideshow": {
     "slide_type": "fragment"
    },
    "tags": [
     "outputPrepend"
    ]
   },
   "outputs": [
    {
     "data": {
      "text/plain": [
       "33"
      ]
     },
     "execution_count": 53,
     "metadata": {},
     "output_type": "execute_result"
    }
   ],
   "source": [
    "change_counter.changes.get(('Chapters.makefile',), None)"
   ]
  },
  {
   "cell_type": "markdown",
   "metadata": {
    "slideshow": {
     "slide_type": "subslide"
    }
   },
   "source": [
    "The `messages` attribute holds all the messages:"
   ]
  },
  {
   "cell_type": "code",
   "execution_count": 54,
   "metadata": {
    "execution": {
     "iopub.execute_input": "2025-10-26T17:58:49.798023Z",
     "iopub.status.busy": "2025-10-26T17:58:49.797878Z",
     "iopub.status.idle": "2025-10-26T17:58:49.800562Z",
     "shell.execute_reply": "2025-10-26T17:58:49.800205Z"
    },
    "slideshow": {
     "slide_type": "subslide"
    },
    "tags": [
     "outputPrepend"
    ]
   },
   "outputs": [
    {
     "data": {
      "text/plain": [
       "['New: (Incomplete) chapters on performance and concurrency debugging',\n",
       " 'New: moved StackInspector in its own module',\n",
       " \"New: mark (pretty much) all chapters as 'ready'\",\n",
       " 'Doc fix',\n",
       " 'New: release first chapters',\n",
       " \"New: have a 'shared' directory for material shared between fuzzingbook and debuggingbook; avoid cross-project links\",\n",
       " \"New: 'make shared' syncs the 'shared' folder\",\n",
       " 'New: can now run notebooks and check HTML as part of CI',\n",
       " 'New: Assertions is ready',\n",
       " \"Fix: Mark 'Assertions' as new, too\",\n",
       " 'New: publish Slicer',\n",
       " 'Fix: DEPENDENCIES_PART was missing in PUBLIC_CHAPTERS',\n",
       " 'New: publish DeltaDebugger',\n",
       " 'New release: ChangeDebugger',\n",
       " 'New: publish StatisticalDebugger',\n",
       " 'Made StatisticalDebugger visible',\n",
       " 'New: public chapter on dynamic invariants',\n",
       " 'New: publish DDSetDebugger',\n",
       " 'New: PerformanceDebugger goes live',\n",
       " 'New: Publish repair chapter',\n",
       " 'New chapter: Tracking',\n",
       " 'New: ChangeCounter is public',\n",
       " 'New: do not check types in fuzzingbook (yet)',\n",
       " 'New: checking types is now the default',\n",
       " 'New: illustrated code',\n",
       " 'New: Illustrated Code',\n",
       " 'New: efficient timeout handling',\n",
       " 'Fix: added default target',\n",
       " 'Fix: bad default target',\n",
       " 'No new chapters',\n",
       " 'Moved announcements from Twitter to Mastodon',\n",
       " 'New: first sketch of Alhazen chapter',\n",
       " 'Moved Alhazen out of beta']"
      ]
     },
     "execution_count": 54,
     "metadata": {},
     "output_type": "execute_result"
    }
   ],
   "source": [
    "change_counter.messages.get(('Chapters.makefile',), None)"
   ]
  },
  {
   "cell_type": "code",
   "execution_count": 55,
   "metadata": {
    "execution": {
     "iopub.execute_input": "2025-10-26T17:58:49.802140Z",
     "iopub.status.busy": "2025-10-26T17:58:49.801986Z",
     "iopub.status.idle": "2025-10-26T17:58:49.804466Z",
     "shell.execute_reply": "2025-10-26T17:58:49.804136Z"
    },
    "slideshow": {
     "slide_type": "subslide"
    }
   },
   "outputs": [],
   "source": [
    "for node in change_counter.changes:\n",
    "    assert len(change_counter.messages[node]) == change_counter.changes[node]"
   ]
  },
  {
   "cell_type": "markdown",
   "metadata": {
    "slideshow": {
     "slide_type": "fragment"
    }
   },
   "source": [
    "The `sizes` attribute holds the final size:"
   ]
  },
  {
   "cell_type": "code",
   "execution_count": 56,
   "metadata": {
    "execution": {
     "iopub.execute_input": "2025-10-26T17:58:49.806326Z",
     "iopub.status.busy": "2025-10-26T17:58:49.806213Z",
     "iopub.status.idle": "2025-10-26T17:58:49.808409Z",
     "shell.execute_reply": "2025-10-26T17:58:49.808154Z"
    },
    "slideshow": {
     "slide_type": "fragment"
    },
    "tags": [
     "outputPrepend"
    ]
   },
   "outputs": [
    {
     "data": {
      "text/plain": [
       "3801"
      ]
     },
     "execution_count": 56,
     "metadata": {},
     "output_type": "execute_result"
    }
   ],
   "source": [
    "change_counter.sizes.get(('Chapters.makefile',), None)"
   ]
  },
  {
   "cell_type": "markdown",
   "metadata": {
    "slideshow": {
     "slide_type": "slide"
    }
   },
   "source": [
    "## Visualizing Past Changes"
   ]
  },
  {
   "cell_type": "markdown",
   "metadata": {
    "slideshow": {
     "slide_type": "fragment"
    }
   },
   "source": [
    "To explore the number of changes across all project files, we visualize them as a _tree map_. A tree map visualizes hierarchical data using nested rectangles. In our visualization, each directory is shown as a rectangle containing smaller rectangles. The _size_ of a rectangle is relative to its size (in bytes); and the _color_ of a rectangle is relative to the number of changes it has seen."
   ]
  },
  {
   "cell_type": "markdown",
   "metadata": {
    "slideshow": {
     "slide_type": "fragment"
    }
   },
   "source": [
    "We use the [easyplotly](https://github.com/mwouts/easyplotly) package to easily create a treemap."
   ]
  },
  {
   "cell_type": "code",
   "execution_count": 57,
   "metadata": {
    "execution": {
     "iopub.execute_input": "2025-10-26T17:58:49.809999Z",
     "iopub.status.busy": "2025-10-26T17:58:49.809884Z",
     "iopub.status.idle": "2025-10-26T17:58:50.152340Z",
     "shell.execute_reply": "2025-10-26T17:58:50.151946Z"
    },
    "slideshow": {
     "slide_type": "skip"
    }
   },
   "outputs": [],
   "source": [
    "import easyplotly as ep\n",
    "import plotly.graph_objects as go"
   ]
  },
  {
   "cell_type": "code",
   "execution_count": 58,
   "metadata": {
    "execution": {
     "iopub.execute_input": "2025-10-26T17:58:50.154034Z",
     "iopub.status.busy": "2025-10-26T17:58:50.153831Z",
     "iopub.status.idle": "2025-10-26T17:58:50.155577Z",
     "shell.execute_reply": "2025-10-26T17:58:50.155330Z"
    },
    "slideshow": {
     "slide_type": "skip"
    }
   },
   "outputs": [],
   "source": [
    "import math"
   ]
  },
  {
   "cell_type": "markdown",
   "metadata": {
    "slideshow": {
     "slide_type": "fragment"
    }
   },
   "source": [
    "The method `map_node_sizes()` returns a size for the node – any number will do. By default, we use a logarithmic scale, such that smaller files are not totally visually eclipsed by larger files."
   ]
  },
  {
   "cell_type": "code",
   "execution_count": 59,
   "metadata": {
    "execution": {
     "iopub.execute_input": "2025-10-26T17:58:50.156948Z",
     "iopub.status.busy": "2025-10-26T17:58:50.156849Z",
     "iopub.status.idle": "2025-10-26T17:58:50.159522Z",
     "shell.execute_reply": "2025-10-26T17:58:50.159241Z"
    },
    "slideshow": {
     "slide_type": "subslide"
    }
   },
   "outputs": [],
   "source": [
    "class ChangeCounter(ChangeCounter):\n",
    "    def map_node_sizes(self,scale: str = 'log') -> \\\n",
    "        Dict[Node, Union[int, float]]:\n",
    "        \"\"\"\n",
    "        Return a mapping of nodes to sizes.\n",
    "        Can be overloaded in subclasses.\n",
    "        \"\"\"\n",
    "\n",
    "        if scale == 'log':\n",
    "            # Default: use log scale\n",
    "            return {node: math.log(size+1) \n",
    "                    for node, size in self.sizes.items()}\n",
    "\n",
    "        elif scale == 'sqrt':\n",
    "            # Alternative: use sqrt size\n",
    "            return {node: math.sqrt(size)\n",
    "                    for node, size in self.sizes.items()}\n",
    "\n",
    "        elif scale == 'abs':\n",
    "            # Alternative: use absolute size\n",
    "            return self.sizes\n",
    "\n",
    "        else:\n",
    "            raise ValueError(f\"Unknown scale: {scale}; \"\n",
    "                             f\"use one of [log, sqrt, abs]\")"
   ]
  },
  {
   "cell_type": "markdown",
   "metadata": {
    "slideshow": {
     "slide_type": "subslide"
    }
   },
   "source": [
    "The method `map_node_color()` returns a color for the node – again, as a number. The smallest and largest numbers returned indicate beginning and end in the given color scale, respectively."
   ]
  },
  {
   "cell_type": "code",
   "execution_count": 60,
   "metadata": {
    "execution": {
     "iopub.execute_input": "2025-10-26T17:58:50.160999Z",
     "iopub.status.busy": "2025-10-26T17:58:50.160896Z",
     "iopub.status.idle": "2025-10-26T17:58:50.162852Z",
     "shell.execute_reply": "2025-10-26T17:58:50.162549Z"
    },
    "slideshow": {
     "slide_type": "fragment"
    }
   },
   "outputs": [],
   "source": [
    "class ChangeCounter(ChangeCounter):\n",
    "    def map_node_color(self, node: Node) -> Optional[int]:\n",
    "        \"\"\"\n",
    "        Return a color of the node, as a number.\n",
    "        Can be overloaded in subclasses.\n",
    "        \"\"\"\n",
    "        return self.changes.get(node)"
   ]
  },
  {
   "cell_type": "markdown",
   "metadata": {
    "slideshow": {
     "slide_type": "fragment"
    }
   },
   "source": [
    "The method `map_node_text()` shows a text to be displayed in the rectangle; we set this to the number of changes."
   ]
  },
  {
   "cell_type": "code",
   "execution_count": 61,
   "metadata": {
    "execution": {
     "iopub.execute_input": "2025-10-26T17:58:50.164173Z",
     "iopub.status.busy": "2025-10-26T17:58:50.164082Z",
     "iopub.status.idle": "2025-10-26T17:58:50.166059Z",
     "shell.execute_reply": "2025-10-26T17:58:50.165806Z"
    },
    "slideshow": {
     "slide_type": "subslide"
    }
   },
   "outputs": [],
   "source": [
    "class ChangeCounter(ChangeCounter):\n",
    "    def map_node_text(self, node: Node) -> Optional[str]:\n",
    "        \"\"\"\n",
    "        Return the text to be shown for the node (default: #changes).\n",
    "        Can be overloaded in subclasses.\n",
    "        \"\"\"\n",
    "        change = self.changes.get(node)\n",
    "        return str(change) if change is not None else None"
   ]
  },
  {
   "cell_type": "markdown",
   "metadata": {
    "slideshow": {
     "slide_type": "fragment"
    }
   },
   "source": [
    "The methods `map_hoverinfo()` and `map_colorscale()` set additional map parameters. For details, see the [easyplotly](https://github.com/mwouts/easyplotly) documentation."
   ]
  },
  {
   "cell_type": "code",
   "execution_count": 62,
   "metadata": {
    "execution": {
     "iopub.execute_input": "2025-10-26T17:58:50.167700Z",
     "iopub.status.busy": "2025-10-26T17:58:50.167580Z",
     "iopub.status.idle": "2025-10-26T17:58:50.169589Z",
     "shell.execute_reply": "2025-10-26T17:58:50.169342Z"
    },
    "slideshow": {
     "slide_type": "subslide"
    }
   },
   "outputs": [],
   "source": [
    "class ChangeCounter(ChangeCounter):\n",
    "    def map_hoverinfo(self) -> str:\n",
    "        \"\"\"\n",
    "        Return the text to be shown when hovering over a node.\n",
    "        To be overloaded in subclasses.\n",
    "        \"\"\"\n",
    "        return 'label+text'\n",
    "\n",
    "    def map_colorscale(self) -> str:\n",
    "        \"\"\"\n",
    "        Return the colorscale for the map. To be overloaded in subclasses.\n",
    "        \"\"\"\n",
    "        return 'YlOrRd'"
   ]
  },
  {
   "cell_type": "markdown",
   "metadata": {
    "slideshow": {
     "slide_type": "subslide"
    }
   },
   "source": [
    "With all this, the `map()` function creates a tree map of the repository, using the  [easyplotly](https://github.com/mwouts/easyplotly) `Treemap` constructor."
   ]
  },
  {
   "cell_type": "code",
   "execution_count": 63,
   "metadata": {
    "execution": {
     "iopub.execute_input": "2025-10-26T17:58:50.171013Z",
     "iopub.status.busy": "2025-10-26T17:58:50.170910Z",
     "iopub.status.idle": "2025-10-26T17:58:50.208793Z",
     "shell.execute_reply": "2025-10-26T17:58:50.208519Z"
    },
    "slideshow": {
     "slide_type": "subslide"
    }
   },
   "outputs": [],
   "source": [
    "class ChangeCounter(ChangeCounter):\n",
    "    def map(self) -> go.Figure:\n",
    "        \"\"\"Produce an interactive tree map of the repository.\"\"\"\n",
    "        treemap = ep.Treemap(\n",
    "                     self.map_node_sizes(),\n",
    "                     text=self.map_node_text,\n",
    "                     hoverinfo=self.map_hoverinfo(),\n",
    "                     marker_colors=self.map_node_color,\n",
    "                     marker_colorscale=self.map_colorscale(),\n",
    "                     root_label=self.repo,\n",
    "                     branchvalues='total'\n",
    "                    )\n",
    "\n",
    "        fig = go.Figure(treemap)\n",
    "        fig.update_layout(margin=dict(l=0, r=0, t=30, b=0))\n",
    "\n",
    "        return fig"
   ]
  },
  {
   "attachments": {},
   "cell_type": "markdown",
   "metadata": {
    "slideshow": {
     "slide_type": "subslide"
    }
   },
   "source": [
    "This is what the tree map for `debuggingbook` looks like. \n",
    "\n",
    "* Click on any rectangle to enlarge it.\n",
    "* Click outside the rectangle to return to a wider view.\n",
    "* Hover over a rectangle to get further information."
   ]
  },
  {
   "cell_type": "code",
   "execution_count": 64,
   "metadata": {
    "execution": {
     "iopub.execute_input": "2025-10-26T17:58:50.210229Z",
     "iopub.status.busy": "2025-10-26T17:58:50.210137Z",
     "iopub.status.idle": "2025-10-26T18:02:50.086510Z",
     "shell.execute_reply": "2025-10-26T18:02:50.084863Z"
    },
    "slideshow": {
     "slide_type": "fragment"
    }
   },
   "outputs": [],
   "source": [
    "change_counter = debuggingbook_change_counter(ChangeCounter)"
   ]
  },
  {
   "cell_type": "code",
   "execution_count": 65,
   "metadata": {
    "execution": {
     "iopub.execute_input": "2025-10-26T18:02:50.093508Z",
     "iopub.status.busy": "2025-10-26T18:02:50.093253Z",
     "iopub.status.idle": "2025-10-26T18:02:50.159646Z",
     "shell.execute_reply": "2025-10-26T18:02:50.159260Z"
    },
    "slideshow": {
     "slide_type": "fragment"
    }
   },
   "outputs": [
    {
     "data": {
      "application/vnd.plotly.v1+json": {
       "config": {
        "plotlyServerURL": "https://plot.ly"
       },
       "data": [
        {
         "branchvalues": "total",
         "hoverinfo": "label+text",
         "ids": [
          "/notebooks/Intro_Debugging.ipynb",
          "/html/custom.css",
          "/Chapters.makefile",
          "/notebooks/02_Observing.ipynb",
          "/notebooks/04_Reducing.ipynb",
          "/notebooks/PerformanceDebugger.ipynb",
          "/notebooks/ThreadDebugger.ipynb",
          "/notebooks/Debugger.ipynb",
          "/notebooks/Tracer.ipynb",
          "/binder/postBuild",
          "/notebooks/Repairer.ipynb",
          "/notebooks/Slicer.ipynb",
          "/notebooks/StackInspector.ipynb",
          "/notebooks/StatisticalDebugger.ipynb",
          "/notebooks/DynamicInvariants.ipynb",
          "/notebooks/DeltaDebugger.ipynb",
          "/notebooks/Guide_for_Authors.ipynb",
          "/notebooks/Assertions.ipynb",
          "/notebooks/Tracking.ipynb",
          "/notebooks/404.ipynb",
          "/notebooks/Template.ipynb",
          "/notebooks/ChangeCounter.ipynb",
          "/notebooks/Time_Travel_Debugger.ipynb",
          "/notebooks/Reducing_Code.ipynb",
          "/notebooks/Repairing_Code.ipynb",
          "/mypy/mypy.ini",
          "/notebooks/DDSetDebugger.ipynb",
          "/notebooks/Tours.ipynb",
          "/notebooks/ChangeDebugger.ipynb",
          "/notebooks/index.ipynb",
          "/README.md",
          "/slides/reveal.js",
          "/beta/slides/reveal.js",
          "/notebooks/Importing.ipynb",
          "/code/setup.py.in",
          "/notebooks/ReleaseNotes.ipynb",
          "/.github/workflows/check.yml",
          "/.gitignore",
          "/Makefile",
          "/code/pycodestyle.cfg",
          "/fuzzingbook.bib",
          "/ipypublish",
          "/notebooks/ClassDiagram.ipynb",
          "/notebooks/ExpectError.ipynb",
          "/notebooks/Timer.ipynb",
          "/notebooks/bookutils",
          "/notebooks/fuzzingbook.bib",
          "/shared",
          "/utils",
          "/requirements.txt",
          "/full_notebooks/fuzzingbook.bib",
          "/notebooks/__init__.py",
          "/.github/workflows/check-code.yml",
          "/.github/workflows/check-imports.yml",
          "/.github/workflows/check-types.yml",
          "/beta/code/debuggingbook",
          "/code/debuggingbook",
          "/notebooks/PICS/youtube.png",
          "/BADGES.md",
          "/LICENSE.md",
          "/.github/workflows/html.yml",
          "/.github/workflows/check-notebooks.yml",
          "/binder/requirements.txt",
          "/word/README.md",
          "/word/pandoc.css",
          "/epub/README.md",
          "/code/requirements.txt",
          "/notebooks/Project_of_your_choice.ipynb",
          "/notebooks/PICS/scalene-out.png",
          "/binder/environment.yml",
          "/binder/postBuild.template",
          "/CITATION.cff",
          "/.github/ISSUE_TEMPLATE/bug_report.md",
          "/.github/ISSUE_TEMPLATE/feature_request.md",
          "/binder/apt.txt",
          "/.github/workflows/check-sitemap.yml",
          "/notebooks/IllustratedCode.ipynb",
          "/notebooks/Timeout.ipynb",
          "/notebooks/PICS/appicon.png",
          "/notebooks/01_Intro.ipynb",
          "/ipypublish_plugins/html_ipypublish_chapter.py",
          "/html/mastodon-timeline.css",
          "/html/mastodon-timeline.js",
          "/html/mastodon-timeline.min.css",
          "/html/mastodon-timeline.min.js",
          "/notebooks/mastodon-timeline.css",
          "/notebooks/mastodon-timeline.js",
          "/notebooks/mastodon-timeline.min.css",
          "/notebooks/mastodon-timeline.min.js",
          "/beta/html/mastodon-timeline.css",
          "/beta/html/mastodon-timeline.js",
          "/binder/Dockerfile",
          "/binder/README.md",
          "/code/LICENSE.md",
          "/notebooks/Alhazen.ipynb",
          "/notebooks/PICS/Alhazen.png",
          "/code/README.md",
          "/python_code/LICENSE.md",
          "/python_code/README.md",
          "/python_code/__init__.py.in",
          "/python_code/bookutils",
          "/python_code/debuggingbook",
          "/python_code/pycodestyle.cfg",
          "/python_code/setup.py.in",
          "/beta/python_code/LICENSE.md",
          "/beta/python_code/README.md",
          "/beta/python_code/__init__.py.in",
          "/beta/python_code/bookutils",
          "/beta/python_code/debuggingbook",
          "/beta/python_code/setup.py.in",
          "/_config.yml",
          "/_static/custom.css",
          "/_static/fuzzingbook.png",
          "/_static/mastodon-timeline.css",
          "/_toc.yml",
          "/full_notebooks/_build",
          "/full_notebooks/_config.yml",
          "/full_notebooks/_static",
          "/full_notebooks/_toc.yml",
          "/_static/debuggingbook.png",
          "/notebooks/PICS/debuggingbook.key",
          "/pyproject.toml",
          "/notebooks/Copyright.ipynb",
          "/",
          "/notebooks",
          "/html",
          "/binder",
          "/mypy",
          "/slides",
          "/beta/slides",
          "/beta",
          "/code",
          "/.github/workflows",
          "/.github",
          "/full_notebooks",
          "/beta/code",
          "/notebooks/PICS",
          "/word",
          "/epub",
          "/.github/ISSUE_TEMPLATE",
          "/ipypublish_plugins",
          "/beta/html",
          "/python_code",
          "/beta/python_code",
          "/_static"
         ],
         "labels": [
          "Intro_Debugging.ipynb",
          "custom.css",
          "Chapters.makefile",
          "02_Observing.ipynb",
          "04_Reducing.ipynb",
          "PerformanceDebugger.ipynb",
          "ThreadDebugger.ipynb",
          "Debugger.ipynb",
          "Tracer.ipynb",
          "postBuild",
          "Repairer.ipynb",
          "Slicer.ipynb",
          "StackInspector.ipynb",
          "StatisticalDebugger.ipynb",
          "DynamicInvariants.ipynb",
          "DeltaDebugger.ipynb",
          "Guide_for_Authors.ipynb",
          "Assertions.ipynb",
          "Tracking.ipynb",
          "404.ipynb",
          "Template.ipynb",
          "ChangeCounter.ipynb",
          "Time_Travel_Debugger.ipynb",
          "Reducing_Code.ipynb",
          "Repairing_Code.ipynb",
          "mypy.ini",
          "DDSetDebugger.ipynb",
          "Tours.ipynb",
          "ChangeDebugger.ipynb",
          "index.ipynb",
          "README.md",
          "reveal.js",
          "reveal.js",
          "Importing.ipynb",
          "setup.py.in",
          "ReleaseNotes.ipynb",
          "check.yml",
          ".gitignore",
          "Makefile",
          "pycodestyle.cfg",
          "fuzzingbook.bib",
          "ipypublish",
          "ClassDiagram.ipynb",
          "ExpectError.ipynb",
          "Timer.ipynb",
          "bookutils",
          "fuzzingbook.bib",
          "shared",
          "utils",
          "requirements.txt",
          "fuzzingbook.bib",
          "__init__.py",
          "check-code.yml",
          "check-imports.yml",
          "check-types.yml",
          "debuggingbook",
          "debuggingbook",
          "youtube.png",
          "BADGES.md",
          "LICENSE.md",
          "html.yml",
          "check-notebooks.yml",
          "requirements.txt",
          "README.md",
          "pandoc.css",
          "README.md",
          "requirements.txt",
          "Project_of_your_choice.ipynb",
          "scalene-out.png",
          "environment.yml",
          "postBuild.template",
          "CITATION.cff",
          "bug_report.md",
          "feature_request.md",
          "apt.txt",
          "check-sitemap.yml",
          "IllustratedCode.ipynb",
          "Timeout.ipynb",
          "appicon.png",
          "01_Intro.ipynb",
          "html_ipypublish_chapter.py",
          "mastodon-timeline.css",
          "mastodon-timeline.js",
          "mastodon-timeline.min.css",
          "mastodon-timeline.min.js",
          "mastodon-timeline.css",
          "mastodon-timeline.js",
          "mastodon-timeline.min.css",
          "mastodon-timeline.min.js",
          "mastodon-timeline.css",
          "mastodon-timeline.js",
          "Dockerfile",
          "README.md",
          "LICENSE.md",
          "Alhazen.ipynb",
          "Alhazen.png",
          "README.md",
          "LICENSE.md",
          "README.md",
          "__init__.py.in",
          "bookutils",
          "debuggingbook",
          "pycodestyle.cfg",
          "setup.py.in",
          "LICENSE.md",
          "README.md",
          "__init__.py.in",
          "bookutils",
          "debuggingbook",
          "setup.py.in",
          "_config.yml",
          "custom.css",
          "fuzzingbook.png",
          "mastodon-timeline.css",
          "_toc.yml",
          "_build",
          "_config.yml",
          "_static",
          "_toc.yml",
          "debuggingbook.png",
          "debuggingbook.key",
          "pyproject.toml",
          "Copyright.ipynb",
          "/Users/zeller/Projects/debuggingbook",
          "notebooks",
          "html",
          "binder",
          "mypy",
          "slides",
          "slides",
          "beta",
          "code",
          "workflows",
          ".github",
          "full_notebooks",
          "code",
          "PICS",
          "word",
          "epub",
          "ISSUE_TEMPLATE",
          "ipypublish_plugins",
          "html",
          "python_code",
          "python_code",
          "_static"
         ],
         "marker": {
          "colors": [
           15,
           4,
           33,
           1,
           1,
           23,
           3,
           14,
           32,
           18,
           34,
           53,
           12,
           26,
           21,
           27,
           10,
           18,
           21,
           9,
           3,
           47,
           7,
           9,
           8,
           2,
           16,
           11,
           22,
           23,
           20,
           26,
           26,
           12,
           24,
           29,
           15,
           14,
           1,
           1,
           1,
           1,
           1,
           1,
           1,
           1,
           2,
           1,
           1,
           40,
           1,
           2,
           23,
           12,
           12,
           1,
           1,
           1,
           7,
           1,
           2,
           16,
           2,
           1,
           1,
           1,
           2,
           1,
           1,
           5,
           17,
           2,
           1,
           1,
           7,
           2,
           9,
           2,
           1,
           1,
           2,
           1,
           1,
           1,
           1,
           1,
           1,
           1,
           1,
           1,
           1,
           12,
           1,
           2,
           25,
           1,
           1,
           1,
           1,
           1,
           1,
           1,
           1,
           1,
           1,
           1,
           1,
           1,
           1,
           1,
           4,
           1,
           2,
           1,
           2,
           1,
           1,
           1,
           1,
           1,
           1,
           2,
           1,
           null,
           null,
           null,
           null,
           null,
           null,
           null,
           null,
           null,
           null,
           null,
           null,
           null,
           null,
           null,
           null,
           null,
           null,
           null,
           null,
           null,
           null
          ],
          "colorscale": [
           [
            0.0,
            "rgb(255,255,204)"
           ],
           [
            0.125,
            "rgb(255,237,160)"
           ],
           [
            0.25,
            "rgb(254,217,118)"
           ],
           [
            0.375,
            "rgb(254,178,76)"
           ],
           [
            0.5,
            "rgb(253,141,60)"
           ],
           [
            0.625,
            "rgb(252,78,42)"
           ],
           [
            0.75,
            "rgb(227,26,28)"
           ],
           [
            0.875,
            "rgb(189,0,38)"
           ],
           [
            1.0,
            "rgb(128,0,38)"
           ]
          ]
         },
         "parents": [
          "/notebooks",
          "/html",
          "/",
          "/notebooks",
          "/notebooks",
          "/notebooks",
          "/notebooks",
          "/notebooks",
          "/notebooks",
          "/binder",
          "/notebooks",
          "/notebooks",
          "/notebooks",
          "/notebooks",
          "/notebooks",
          "/notebooks",
          "/notebooks",
          "/notebooks",
          "/notebooks",
          "/notebooks",
          "/notebooks",
          "/notebooks",
          "/notebooks",
          "/notebooks",
          "/notebooks",
          "/mypy",
          "/notebooks",
          "/notebooks",
          "/notebooks",
          "/notebooks",
          "/",
          "/slides",
          "/beta/slides",
          "/notebooks",
          "/code",
          "/notebooks",
          "/.github/workflows",
          "/",
          "/",
          "/code",
          "/",
          "/",
          "/notebooks",
          "/notebooks",
          "/notebooks",
          "/notebooks",
          "/notebooks",
          "/",
          "/",
          "/",
          "/full_notebooks",
          "/notebooks",
          "/.github/workflows",
          "/.github/workflows",
          "/.github/workflows",
          "/beta/code",
          "/code",
          "/notebooks/PICS",
          "/",
          "/",
          "/.github/workflows",
          "/.github/workflows",
          "/binder",
          "/word",
          "/word",
          "/epub",
          "/code",
          "/notebooks",
          "/notebooks/PICS",
          "/binder",
          "/binder",
          "/",
          "/.github/ISSUE_TEMPLATE",
          "/.github/ISSUE_TEMPLATE",
          "/binder",
          "/.github/workflows",
          "/notebooks",
          "/notebooks",
          "/notebooks/PICS",
          "/notebooks",
          "/ipypublish_plugins",
          "/html",
          "/html",
          "/html",
          "/html",
          "/notebooks",
          "/notebooks",
          "/notebooks",
          "/notebooks",
          "/beta/html",
          "/beta/html",
          "/binder",
          "/binder",
          "/code",
          "/notebooks",
          "/notebooks/PICS",
          "/code",
          "/python_code",
          "/python_code",
          "/python_code",
          "/python_code",
          "/python_code",
          "/python_code",
          "/python_code",
          "/beta/python_code",
          "/beta/python_code",
          "/beta/python_code",
          "/beta/python_code",
          "/beta/python_code",
          "/beta/python_code",
          "/",
          "/_static",
          "/_static",
          "/_static",
          "/",
          "/full_notebooks",
          "/full_notebooks",
          "/full_notebooks",
          "/full_notebooks",
          "/_static",
          "/notebooks/PICS",
          "/",
          "/notebooks",
          null,
          "/",
          "/",
          "/",
          "/",
          "/",
          "/beta",
          "/",
          "/",
          "/.github",
          "/",
          "/",
          "/beta",
          "/notebooks",
          "/",
          "/",
          "/.github",
          "/",
          "/beta",
          "/",
          "/beta",
          "/"
         ],
         "text": [
          "15",
          "4",
          "33",
          "1",
          "1",
          "23",
          "3",
          "14",
          "32",
          "18",
          "34",
          "53",
          "12",
          "26",
          "21",
          "27",
          "10",
          "18",
          "21",
          "9",
          "3",
          "47",
          "7",
          "9",
          "8",
          "2",
          "16",
          "11",
          "22",
          "23",
          "20",
          "26",
          "26",
          "12",
          "24",
          "29",
          "15",
          "14",
          "1",
          "1",
          "1",
          "1",
          "1",
          "1",
          "1",
          "1",
          "2",
          "1",
          "1",
          "40",
          "1",
          "2",
          "23",
          "12",
          "12",
          "1",
          "1",
          "1",
          "7",
          "1",
          "2",
          "16",
          "2",
          "1",
          "1",
          "1",
          "2",
          "1",
          "1",
          "5",
          "17",
          "2",
          "1",
          "1",
          "7",
          "2",
          "9",
          "2",
          "1",
          "1",
          "2",
          "1",
          "1",
          "1",
          "1",
          "1",
          "1",
          "1",
          "1",
          "1",
          "1",
          "12",
          "1",
          "2",
          "25",
          "1",
          "1",
          "1",
          "1",
          "1",
          "1",
          "1",
          "1",
          "1",
          "1",
          "1",
          "1",
          "1",
          "1",
          "1",
          "4",
          "1",
          "2",
          "1",
          "2",
          "1",
          "1",
          "1",
          "1",
          "1",
          "1",
          "2",
          "1",
          null,
          null,
          null,
          null,
          null,
          null,
          null,
          null,
          null,
          null,
          null,
          null,
          null,
          null,
          null,
          null,
          null,
          null,
          null,
          null,
          null,
          null
         ],
         "type": "treemap",
         "values": [
          11.50580014002764,
          9.593287168653745,
          8.243282523048375,
          7.537962659768208,
          7.3938782901077555,
          10.820997540815013,
          8.89877535906107,
          10.862071196600535,
          11.146733953232388,
          9.7107519573933,
          11.86423705178808,
          12.251074691449958,
          9.82140944150052,
          11.764446538565187,
          11.911265248135804,
          11.789806920177805,
          10.922479266642203,
          11.643392166221906,
          11.178235638911106,
          8.275121630216509,
          9.22631214148588,
          11.166893681129975,
          10.459410817205152,
          10.77270764101727,
          10.715972115684695,
          7.005789019253503,
          11.313791366116371,
          8.611775833902186,
          11.383556824628947,
          9.664913054191375,
          8.461469042643875,
          5.66988092298052,
          5.66988092298052,
          9.422463420006927,
          7.699842407396986,
          8.930626469173578,
          7.3833681469923835,
          7.358830898342354,
          3.258096538021482,
          3.258096538021482,
          3.4965075614664802,
          3.332204510175204,
          3.258096538021482,
          3.2188758248682006,
          2.9444389791664403,
          2.833213344056216,
          3.1354942159291497,
          2.833213344056216,
          3.1354942159291497,
          7.2115567333138015,
          3.58351893845611,
          0.0,
          7.741099090035366,
          7.549609165154532,
          7.571473648851271,
          0.6931471805599453,
          0.6931471805599453,
          12.45854973099653,
          7.3613754289773485,
          9.932366512086505,
          7.309212365692763,
          7.639642287858013,
          5.351858133476067,
          4.110873864173311,
          8.343791731996841,
          4.110873864173311,
          2.995732273553991,
          8.86827250899781,
          12.223829063119387,
          6.577861357721047,
          7.509335266016592,
          6.251903883165888,
          6.47543271670409,
          6.329720905522696,
          6.226536669287466,
          7.570443252057374,
          10.511131309482133,
          3.044522437723423,
          11.105483403977843,
          7.355641102974253,
          9.054154288786854,
          9.040737587590003,
          10.163502906626189,
          8.822911626354117,
          9.53834831589953,
          3.4011973816621555,
          3.367295829986474,
          3.5263605246161616,
          3.4965075614664802,
          3.4965075614664802,
          3.4657359027997265,
          7.980023592310645,
          6.467698726104354,
          7.005789019253503,
          11.701626628728222,
          10.557322015710533,
          7.691656822810547,
          0.0,
          0.0,
          0.0,
          0.0,
          0.0,
          0.0,
          0.0,
          0.0,
          0.0,
          0.0,
          0.0,
          0.0,
          0.0,
          7.763446388727362,
          6.903747257584598,
          0.0,
          9.040737587590003,
          6.956545443151569,
          2.302585092994046,
          2.70805020110221,
          2.3978952727983707,
          2.4849066497880004,
          13.11577572640063,
          13.142583564569074,
          7.791935956938058,
          7.59890045687141,
          808.4486536145159,
          429.00545352068804,
          47.158787605123635,
          49.82406570230952,
          7.005789019253511,
          5.669880922980526,
          5.669880922980526,
          13.325271567806698,
          29.344264241596484,
          52.76484795664176,
          65.57000157886863,
          13.476956155138753,
          0.6931471805599461,
          59.48776777837344,
          12.454665596170166,
          4.110873864173316,
          12.8051536222268,
          9.054154288786865,
          6.962243464266215,
          0.0,
          0.0,
          29.060260571575263
         ]
        }
       ],
       "layout": {
        "margin": {
         "b": 0,
         "l": 0,
         "r": 0,
         "t": 30
        },
        "template": {
         "data": {
          "bar": [
           {
            "error_x": {
             "color": "#2a3f5f"
            },
            "error_y": {
             "color": "#2a3f5f"
            },
            "marker": {
             "line": {
              "color": "#E5ECF6",
              "width": 0.5
             },
             "pattern": {
              "fillmode": "overlay",
              "size": 10,
              "solidity": 0.2
             }
            },
            "type": "bar"
           }
          ],
          "barpolar": [
           {
            "marker": {
             "line": {
              "color": "#E5ECF6",
              "width": 0.5
             },
             "pattern": {
              "fillmode": "overlay",
              "size": 10,
              "solidity": 0.2
             }
            },
            "type": "barpolar"
           }
          ],
          "carpet": [
           {
            "aaxis": {
             "endlinecolor": "#2a3f5f",
             "gridcolor": "white",
             "linecolor": "white",
             "minorgridcolor": "white",
             "startlinecolor": "#2a3f5f"
            },
            "baxis": {
             "endlinecolor": "#2a3f5f",
             "gridcolor": "white",
             "linecolor": "white",
             "minorgridcolor": "white",
             "startlinecolor": "#2a3f5f"
            },
            "type": "carpet"
           }
          ],
          "choropleth": [
           {
            "colorbar": {
             "outlinewidth": 0,
             "ticks": ""
            },
            "type": "choropleth"
           }
          ],
          "contour": [
           {
            "colorbar": {
             "outlinewidth": 0,
             "ticks": ""
            },
            "colorscale": [
             [
              0.0,
              "#0d0887"
             ],
             [
              0.1111111111111111,
              "#46039f"
             ],
             [
              0.2222222222222222,
              "#7201a8"
             ],
             [
              0.3333333333333333,
              "#9c179e"
             ],
             [
              0.4444444444444444,
              "#bd3786"
             ],
             [
              0.5555555555555556,
              "#d8576b"
             ],
             [
              0.6666666666666666,
              "#ed7953"
             ],
             [
              0.7777777777777778,
              "#fb9f3a"
             ],
             [
              0.8888888888888888,
              "#fdca26"
             ],
             [
              1.0,
              "#f0f921"
             ]
            ],
            "type": "contour"
           }
          ],
          "contourcarpet": [
           {
            "colorbar": {
             "outlinewidth": 0,
             "ticks": ""
            },
            "type": "contourcarpet"
           }
          ],
          "heatmap": [
           {
            "colorbar": {
             "outlinewidth": 0,
             "ticks": ""
            },
            "colorscale": [
             [
              0.0,
              "#0d0887"
             ],
             [
              0.1111111111111111,
              "#46039f"
             ],
             [
              0.2222222222222222,
              "#7201a8"
             ],
             [
              0.3333333333333333,
              "#9c179e"
             ],
             [
              0.4444444444444444,
              "#bd3786"
             ],
             [
              0.5555555555555556,
              "#d8576b"
             ],
             [
              0.6666666666666666,
              "#ed7953"
             ],
             [
              0.7777777777777778,
              "#fb9f3a"
             ],
             [
              0.8888888888888888,
              "#fdca26"
             ],
             [
              1.0,
              "#f0f921"
             ]
            ],
            "type": "heatmap"
           }
          ],
          "histogram": [
           {
            "marker": {
             "pattern": {
              "fillmode": "overlay",
              "size": 10,
              "solidity": 0.2
             }
            },
            "type": "histogram"
           }
          ],
          "histogram2d": [
           {
            "colorbar": {
             "outlinewidth": 0,
             "ticks": ""
            },
            "colorscale": [
             [
              0.0,
              "#0d0887"
             ],
             [
              0.1111111111111111,
              "#46039f"
             ],
             [
              0.2222222222222222,
              "#7201a8"
             ],
             [
              0.3333333333333333,
              "#9c179e"
             ],
             [
              0.4444444444444444,
              "#bd3786"
             ],
             [
              0.5555555555555556,
              "#d8576b"
             ],
             [
              0.6666666666666666,
              "#ed7953"
             ],
             [
              0.7777777777777778,
              "#fb9f3a"
             ],
             [
              0.8888888888888888,
              "#fdca26"
             ],
             [
              1.0,
              "#f0f921"
             ]
            ],
            "type": "histogram2d"
           }
          ],
          "histogram2dcontour": [
           {
            "colorbar": {
             "outlinewidth": 0,
             "ticks": ""
            },
            "colorscale": [
             [
              0.0,
              "#0d0887"
             ],
             [
              0.1111111111111111,
              "#46039f"
             ],
             [
              0.2222222222222222,
              "#7201a8"
             ],
             [
              0.3333333333333333,
              "#9c179e"
             ],
             [
              0.4444444444444444,
              "#bd3786"
             ],
             [
              0.5555555555555556,
              "#d8576b"
             ],
             [
              0.6666666666666666,
              "#ed7953"
             ],
             [
              0.7777777777777778,
              "#fb9f3a"
             ],
             [
              0.8888888888888888,
              "#fdca26"
             ],
             [
              1.0,
              "#f0f921"
             ]
            ],
            "type": "histogram2dcontour"
           }
          ],
          "mesh3d": [
           {
            "colorbar": {
             "outlinewidth": 0,
             "ticks": ""
            },
            "type": "mesh3d"
           }
          ],
          "parcoords": [
           {
            "line": {
             "colorbar": {
              "outlinewidth": 0,
              "ticks": ""
             }
            },
            "type": "parcoords"
           }
          ],
          "pie": [
           {
            "automargin": true,
            "type": "pie"
           }
          ],
          "scatter": [
           {
            "fillpattern": {
             "fillmode": "overlay",
             "size": 10,
             "solidity": 0.2
            },
            "type": "scatter"
           }
          ],
          "scatter3d": [
           {
            "line": {
             "colorbar": {
              "outlinewidth": 0,
              "ticks": ""
             }
            },
            "marker": {
             "colorbar": {
              "outlinewidth": 0,
              "ticks": ""
             }
            },
            "type": "scatter3d"
           }
          ],
          "scattercarpet": [
           {
            "marker": {
             "colorbar": {
              "outlinewidth": 0,
              "ticks": ""
             }
            },
            "type": "scattercarpet"
           }
          ],
          "scattergeo": [
           {
            "marker": {
             "colorbar": {
              "outlinewidth": 0,
              "ticks": ""
             }
            },
            "type": "scattergeo"
           }
          ],
          "scattergl": [
           {
            "marker": {
             "colorbar": {
              "outlinewidth": 0,
              "ticks": ""
             }
            },
            "type": "scattergl"
           }
          ],
          "scattermap": [
           {
            "marker": {
             "colorbar": {
              "outlinewidth": 0,
              "ticks": ""
             }
            },
            "type": "scattermap"
           }
          ],
          "scattermapbox": [
           {
            "marker": {
             "colorbar": {
              "outlinewidth": 0,
              "ticks": ""
             }
            },
            "type": "scattermapbox"
           }
          ],
          "scatterpolar": [
           {
            "marker": {
             "colorbar": {
              "outlinewidth": 0,
              "ticks": ""
             }
            },
            "type": "scatterpolar"
           }
          ],
          "scatterpolargl": [
           {
            "marker": {
             "colorbar": {
              "outlinewidth": 0,
              "ticks": ""
             }
            },
            "type": "scatterpolargl"
           }
          ],
          "scatterternary": [
           {
            "marker": {
             "colorbar": {
              "outlinewidth": 0,
              "ticks": ""
             }
            },
            "type": "scatterternary"
           }
          ],
          "surface": [
           {
            "colorbar": {
             "outlinewidth": 0,
             "ticks": ""
            },
            "colorscale": [
             [
              0.0,
              "#0d0887"
             ],
             [
              0.1111111111111111,
              "#46039f"
             ],
             [
              0.2222222222222222,
              "#7201a8"
             ],
             [
              0.3333333333333333,
              "#9c179e"
             ],
             [
              0.4444444444444444,
              "#bd3786"
             ],
             [
              0.5555555555555556,
              "#d8576b"
             ],
             [
              0.6666666666666666,
              "#ed7953"
             ],
             [
              0.7777777777777778,
              "#fb9f3a"
             ],
             [
              0.8888888888888888,
              "#fdca26"
             ],
             [
              1.0,
              "#f0f921"
             ]
            ],
            "type": "surface"
           }
          ],
          "table": [
           {
            "cells": {
             "fill": {
              "color": "#EBF0F8"
             },
             "line": {
              "color": "white"
             }
            },
            "header": {
             "fill": {
              "color": "#C8D4E3"
             },
             "line": {
              "color": "white"
             }
            },
            "type": "table"
           }
          ]
         },
         "layout": {
          "annotationdefaults": {
           "arrowcolor": "#2a3f5f",
           "arrowhead": 0,
           "arrowwidth": 1
          },
          "autotypenumbers": "strict",
          "coloraxis": {
           "colorbar": {
            "outlinewidth": 0,
            "ticks": ""
           }
          },
          "colorscale": {
           "diverging": [
            [
             0,
             "#8e0152"
            ],
            [
             0.1,
             "#c51b7d"
            ],
            [
             0.2,
             "#de77ae"
            ],
            [
             0.3,
             "#f1b6da"
            ],
            [
             0.4,
             "#fde0ef"
            ],
            [
             0.5,
             "#f7f7f7"
            ],
            [
             0.6,
             "#e6f5d0"
            ],
            [
             0.7,
             "#b8e186"
            ],
            [
             0.8,
             "#7fbc41"
            ],
            [
             0.9,
             "#4d9221"
            ],
            [
             1,
             "#276419"
            ]
           ],
           "sequential": [
            [
             0.0,
             "#0d0887"
            ],
            [
             0.1111111111111111,
             "#46039f"
            ],
            [
             0.2222222222222222,
             "#7201a8"
            ],
            [
             0.3333333333333333,
             "#9c179e"
            ],
            [
             0.4444444444444444,
             "#bd3786"
            ],
            [
             0.5555555555555556,
             "#d8576b"
            ],
            [
             0.6666666666666666,
             "#ed7953"
            ],
            [
             0.7777777777777778,
             "#fb9f3a"
            ],
            [
             0.8888888888888888,
             "#fdca26"
            ],
            [
             1.0,
             "#f0f921"
            ]
           ],
           "sequentialminus": [
            [
             0.0,
             "#0d0887"
            ],
            [
             0.1111111111111111,
             "#46039f"
            ],
            [
             0.2222222222222222,
             "#7201a8"
            ],
            [
             0.3333333333333333,
             "#9c179e"
            ],
            [
             0.4444444444444444,
             "#bd3786"
            ],
            [
             0.5555555555555556,
             "#d8576b"
            ],
            [
             0.6666666666666666,
             "#ed7953"
            ],
            [
             0.7777777777777778,
             "#fb9f3a"
            ],
            [
             0.8888888888888888,
             "#fdca26"
            ],
            [
             1.0,
             "#f0f921"
            ]
           ]
          },
          "colorway": [
           "#636efa",
           "#EF553B",
           "#00cc96",
           "#ab63fa",
           "#FFA15A",
           "#19d3f3",
           "#FF6692",
           "#B6E880",
           "#FF97FF",
           "#FECB52"
          ],
          "font": {
           "color": "#2a3f5f"
          },
          "geo": {
           "bgcolor": "white",
           "lakecolor": "white",
           "landcolor": "#E5ECF6",
           "showlakes": true,
           "showland": true,
           "subunitcolor": "white"
          },
          "hoverlabel": {
           "align": "left"
          },
          "hovermode": "closest",
          "mapbox": {
           "style": "light"
          },
          "paper_bgcolor": "white",
          "plot_bgcolor": "#E5ECF6",
          "polar": {
           "angularaxis": {
            "gridcolor": "white",
            "linecolor": "white",
            "ticks": ""
           },
           "bgcolor": "#E5ECF6",
           "radialaxis": {
            "gridcolor": "white",
            "linecolor": "white",
            "ticks": ""
           }
          },
          "scene": {
           "xaxis": {
            "backgroundcolor": "#E5ECF6",
            "gridcolor": "white",
            "gridwidth": 2,
            "linecolor": "white",
            "showbackground": true,
            "ticks": "",
            "zerolinecolor": "white"
           },
           "yaxis": {
            "backgroundcolor": "#E5ECF6",
            "gridcolor": "white",
            "gridwidth": 2,
            "linecolor": "white",
            "showbackground": true,
            "ticks": "",
            "zerolinecolor": "white"
           },
           "zaxis": {
            "backgroundcolor": "#E5ECF6",
            "gridcolor": "white",
            "gridwidth": 2,
            "linecolor": "white",
            "showbackground": true,
            "ticks": "",
            "zerolinecolor": "white"
           }
          },
          "shapedefaults": {
           "line": {
            "color": "#2a3f5f"
           }
          },
          "ternary": {
           "aaxis": {
            "gridcolor": "white",
            "linecolor": "white",
            "ticks": ""
           },
           "baxis": {
            "gridcolor": "white",
            "linecolor": "white",
            "ticks": ""
           },
           "bgcolor": "#E5ECF6",
           "caxis": {
            "gridcolor": "white",
            "linecolor": "white",
            "ticks": ""
           }
          },
          "title": {
           "x": 0.05
          },
          "xaxis": {
           "automargin": true,
           "gridcolor": "white",
           "linecolor": "white",
           "ticks": "",
           "title": {
            "standoff": 15
           },
           "zerolinecolor": "white",
           "zerolinewidth": 2
          },
          "yaxis": {
           "automargin": true,
           "gridcolor": "white",
           "linecolor": "white",
           "ticks": "",
           "title": {
            "standoff": 15
           },
           "zerolinecolor": "white",
           "zerolinewidth": 2
          }
         }
        }
       }
      }
     },
     "metadata": {},
     "output_type": "display_data"
    }
   ],
   "source": [
    "change_counter.map()"
   ]
  },
  {
   "cell_type": "markdown",
   "metadata": {
    "slideshow": {
     "slide_type": "fragment"
    }
   },
   "source": [
    "We can easily identify the most frequently changed files:"
   ]
  },
  {
   "cell_type": "code",
   "execution_count": 66,
   "metadata": {
    "execution": {
     "iopub.execute_input": "2025-10-26T18:02:50.161721Z",
     "iopub.status.busy": "2025-10-26T18:02:50.161594Z",
     "iopub.status.idle": "2025-10-26T18:02:50.164932Z",
     "shell.execute_reply": "2025-10-26T18:02:50.164450Z"
    },
    "slideshow": {
     "slide_type": "fragment"
    }
   },
   "outputs": [
    {
     "data": {
      "text/plain": [
       "[(('notebooks', 'Slicer.ipynb'), 53),\n",
       " (('notebooks', 'ChangeCounter.ipynb'), 47),\n",
       " (('requirements.txt',), 40),\n",
       " (('notebooks', 'Repairer.ipynb'), 34)]"
      ]
     },
     "execution_count": 66,
     "metadata": {},
     "output_type": "execute_result"
    }
   ],
   "source": [
    "sorted(change_counter.changes.items(), key=lambda kv: kv[1], reverse=True)[:4]"
   ]
  },
  {
   "cell_type": "code",
   "execution_count": 67,
   "metadata": {
    "execution": {
     "iopub.execute_input": "2025-10-26T18:02:50.166669Z",
     "iopub.status.busy": "2025-10-26T18:02:50.166555Z",
     "iopub.status.idle": "2025-10-26T18:02:50.169472Z",
     "shell.execute_reply": "2025-10-26T18:02:50.169144Z"
    },
    "slideshow": {
     "slide_type": "subslide"
    },
    "tags": [
     "remove-input"
    ]
   },
   "outputs": [],
   "source": [
    "# ignore\n",
    "all_notebooks = [node for node in change_counter.changes.keys()\n",
    "                 if len(node) == 2 and node[1].endswith('.ipynb')]\n",
    "all_notebooks.sort(key=lambda node: change_counter.changes[node],\n",
    "                   reverse=True)"
   ]
  },
  {
   "cell_type": "code",
   "execution_count": 68,
   "metadata": {
    "execution": {
     "iopub.execute_input": "2025-10-26T18:02:50.171078Z",
     "iopub.status.busy": "2025-10-26T18:02:50.170963Z",
     "iopub.status.idle": "2025-10-26T18:02:50.173165Z",
     "shell.execute_reply": "2025-10-26T18:02:50.172874Z"
    },
    "slideshow": {
     "slide_type": "skip"
    }
   },
   "outputs": [],
   "source": [
    "from bookutils import quiz"
   ]
  },
  {
   "cell_type": "code",
   "execution_count": 69,
   "metadata": {
    "execution": {
     "iopub.execute_input": "2025-10-26T18:02:50.178756Z",
     "iopub.status.busy": "2025-10-26T18:02:50.178597Z",
     "iopub.status.idle": "2025-10-26T18:02:50.185088Z",
     "shell.execute_reply": "2025-10-26T18:02:50.184577Z"
    },
    "slideshow": {
     "slide_type": "fragment"
    },
    "tags": [
     "remove-input"
    ]
   },
   "outputs": [
    {
     "data": {
      "text/html": [
       "\n",
       "    \n",
       "    <script>\n",
       "    var bad_answers = new Map();\n",
       "\n",
       "    function answer(quiz_id) {\n",
       "        ans = 0;\n",
       "        for (i = 1;; i++) {\n",
       "            checkbox = document.getElementById(quiz_id + \"-\" + i.toString());\n",
       "            if (!checkbox)\n",
       "                break;\n",
       "            if (checkbox.checked)\n",
       "                ans |= (1 << i);\n",
       "        }\n",
       "        return ans;\n",
       "    }\n",
       "    function check_selection(quiz_id, correct_answer, multiple_choice, hint) {\n",
       "        given_answer = answer(quiz_id);\n",
       "        if (given_answer == correct_answer)\n",
       "        {\n",
       "            document.getElementById(quiz_id + \"-submit\").value = \"Correct!\";\n",
       "            document.getElementById(quiz_id + \"-hint\").innerHTML = \"\";\n",
       "\n",
       "            for (i = 1;; i++) {\n",
       "                checkbox = document.getElementById(quiz_id + \"-\" + i.toString());\n",
       "                label = document.getElementById(quiz_id + \"-\" + i.toString() + \"-label\")\n",
       "                if (!checkbox)\n",
       "                    break;\n",
       "\n",
       "                if (checkbox.checked) {\n",
       "                    label.style.fontWeight = \"bold\";\n",
       "                }\n",
       "                else {\n",
       "                    label.style.textDecoration = \"line-through\";\n",
       "                }\n",
       "            }\n",
       "        }\n",
       "        else \n",
       "        {\n",
       "            document.getElementById(quiz_id + \"-submit\").value = \"Try again\";\n",
       "\n",
       "            if (!bad_answers.has(quiz_id)) {\n",
       "                bad_answers.set(quiz_id, 1);\n",
       "            }\n",
       "            else {\n",
       "                bad_answers.set(quiz_id, bad_answers.get(quiz_id) + 1);\n",
       "            }\n",
       "\n",
       "            if (bad_answers.get(quiz_id) >= 2 && hint.length > 0) {\n",
       "                document.getElementById(quiz_id + \"-hint\").innerHTML = \n",
       "                    \"&nbsp;&nbsp;(Hint: <code>\" + hint + \"</code>)\";\n",
       "            }\n",
       "\n",
       "            if (!multiple_choice) {\n",
       "                for (i = 1;; i++) {\n",
       "                    checkbox = document.getElementById(quiz_id + \"-\" + i.toString());\n",
       "                    label = document.getElementById(quiz_id + \"-\" + i.toString() + \"-label\")\n",
       "\n",
       "                    if (!checkbox)\n",
       "                        break;\n",
       "                    if (checkbox.checked) {\n",
       "                        label.style.textDecoration = \"line-through\";\n",
       "                    }\n",
       "                }\n",
       "            }\n",
       "        }\n",
       "    }\n",
       "    function clear_selection(quiz_id) {\n",
       "        document.getElementById(quiz_id + \"-submit\").value = \"Submit\";\n",
       "        document.getElementById(quiz_id + \"-hint\").innerHTML = \"\";\n",
       "    }\n",
       "    </script>\n",
       "    \n",
       "    <div class=\"quiz\">\n",
       "    <h3 class=\"quiz_title\">Quiz</h3>\n",
       "    <p>\n",
       "    <div class=\"quiz_question\">Which two notebooks have seen the most changes over time?</div>\n",
       "    </p>\n",
       "    <p>\n",
       "    <div class=\"quiz_options\" title=\"Check all that apply.\">\n",
       "    \n",
       "        <input type=\"checkbox\" name=\"fc5527d8-b295-11f0-8845-6298cf1a5790\" id=\"fc5527d8-b295-11f0-8845-6298cf1a5790-1\" onclick=\"clear_selection('fc5527d8-b295-11f0-8845-6298cf1a5790')\">\n",
       "        <label id=\"fc5527d8-b295-11f0-8845-6298cf1a5790-1-label\" for=\"fc5527d8-b295-11f0-8845-6298cf1a5790-1\"><code>Slicer</code></label><br>\n",
       "    \n",
       "        <input type=\"checkbox\" name=\"fc5527d8-b295-11f0-8845-6298cf1a5790\" id=\"fc5527d8-b295-11f0-8845-6298cf1a5790-2\" onclick=\"clear_selection('fc5527d8-b295-11f0-8845-6298cf1a5790')\">\n",
       "        <label id=\"fc5527d8-b295-11f0-8845-6298cf1a5790-2-label\" for=\"fc5527d8-b295-11f0-8845-6298cf1a5790-2\"><code>Tracer</code></label><br>\n",
       "    \n",
       "        <input type=\"checkbox\" name=\"fc5527d8-b295-11f0-8845-6298cf1a5790\" id=\"fc5527d8-b295-11f0-8845-6298cf1a5790-3\" onclick=\"clear_selection('fc5527d8-b295-11f0-8845-6298cf1a5790')\">\n",
       "        <label id=\"fc5527d8-b295-11f0-8845-6298cf1a5790-3-label\" for=\"fc5527d8-b295-11f0-8845-6298cf1a5790-3\"><code>ChangeCounter</code></label><br>\n",
       "    \n",
       "        <input type=\"checkbox\" name=\"fc5527d8-b295-11f0-8845-6298cf1a5790\" id=\"fc5527d8-b295-11f0-8845-6298cf1a5790-4\" onclick=\"clear_selection('fc5527d8-b295-11f0-8845-6298cf1a5790')\">\n",
       "        <label id=\"fc5527d8-b295-11f0-8845-6298cf1a5790-4-label\" for=\"fc5527d8-b295-11f0-8845-6298cf1a5790-4\"><code>Repairer</code></label><br>\n",
       "    \n",
       "    </div>\n",
       "    </p>\n",
       "    <input id=\"fc5527d8-b295-11f0-8845-6298cf1a5790-submit\" type=\"submit\" value=\"Submit\" onclick=\"check_selection('fc5527d8-b295-11f0-8845-6298cf1a5790', 10, 1, '[1234 % 3, 3702 / 1234]')\">\n",
       "    <span class=\"quiz_hint\" id=\"fc5527d8-b295-11f0-8845-6298cf1a5790-hint\"></span>\n",
       "    </div>\n",
       "    "
      ],
      "text/plain": [
       "<IPython.core.display.HTML object>"
      ]
     },
     "execution_count": 69,
     "metadata": {},
     "output_type": "execute_result"
    }
   ],
   "source": [
    "quiz(\"Which two notebooks have seen the most changes over time?\",\n",
    "     [\n",
    "         f\"`{all_notebooks[i][1].split('.')[0]}`\"\n",
    "         for i in [0, 3, 1, 2]\n",
    "         if i < len(all_notebooks)\n",
    "     ]\n",
    "     , '[1234 % 3, 3702 / 1234]')"
   ]
  },
  {
   "cell_type": "markdown",
   "metadata": {
    "slideshow": {
     "slide_type": "fragment"
    }
   },
   "source": [
    "Indeed, these two are the two most frequently recently changed notebooks:"
   ]
  },
  {
   "cell_type": "code",
   "execution_count": 70,
   "metadata": {
    "execution": {
     "iopub.execute_input": "2025-10-26T18:02:50.187637Z",
     "iopub.status.busy": "2025-10-26T18:02:50.187505Z",
     "iopub.status.idle": "2025-10-26T18:02:50.190128Z",
     "shell.execute_reply": "2025-10-26T18:02:50.189727Z"
    },
    "slideshow": {
     "slide_type": "subslide"
    }
   },
   "outputs": [
    {
     "data": {
      "text/plain": [
       "['Slicer', 'ChangeCounter']"
      ]
     },
     "execution_count": 70,
     "metadata": {},
     "output_type": "execute_result"
    }
   ],
   "source": [
    "[notebook[1].split('.')[0] for notebook in all_notebooks[:2]]"
   ]
  },
  {
   "cell_type": "markdown",
   "metadata": {
    "slideshow": {
     "slide_type": "slide"
    }
   },
   "source": [
    "## Counting Past Fixes\n",
    "\n",
    "Knowing which files have been changed most is useful in debugging, because any change increases the chance to introduce a new bug. Even more important, however, is the question of how frequently a file was _fixed_ in the past, as this is an important indicator for its bug-proneness."
   ]
  },
  {
   "cell_type": "markdown",
   "metadata": {
    "slideshow": {
     "slide_type": "fragment"
    }
   },
   "source": [
    "(One may think that fixing several bugs _reduces_ the number of bugs, but unfortunately, a file which has seen several fixes in the past is likely to see fixes in the future, too. This is because the bug-proneness of a software component very much depends on the requirements it has to fulfill, and if these requirements are unclear, complex, or frequently change, this translates into many fixes.)"
   ]
  },
  {
   "cell_type": "markdown",
   "metadata": {
    "slideshow": {
     "slide_type": "subslide"
    }
   },
   "source": [
    "How can we tell _changes_ from _fixes_? \n",
    "\n",
    "* One indicator is _commit messages_:\n",
    "  If they refer to \"bugs\" or \"fixes\", then the change is a fix.\n",
    "* Another indicator is _bug numbers_:\n",
    "  If a commit message contains an issue number from an associated issue database, then we can make use of the issue referred to.\n",
    "    * The issue database may provide us with additional information about the bug, such as its severity, how many people it was assigned to, how long it took to fix it, and more.\n",
    "* A final indicator is _time_:\n",
    "  If a developer first committed a change and in the same time frame marked an issue as \"resolved\", then it is likely that the two refer to each other.\n",
    "\n",
    "The way these two are linked very much depends on the project – and the discipline of developers as it comes to change messages. _Branches_ and _merges_ bring additional challenges."
   ]
  },
  {
   "cell_type": "markdown",
   "metadata": {
    "slideshow": {
     "slide_type": "subslide"
    }
   },
   "source": [
    "For the `debuggingbook` project, identifying fixes is easy. The discipline is that if a change fixes a bug, it is prefixed with `Fix:`. We can use this to introduce a `FixCounter` class specific to our `debuggingbook` project."
   ]
  },
  {
   "cell_type": "code",
   "execution_count": 71,
   "metadata": {
    "execution": {
     "iopub.execute_input": "2025-10-26T18:02:50.192138Z",
     "iopub.status.busy": "2025-10-26T18:02:50.192026Z",
     "iopub.status.idle": "2025-10-26T18:02:50.194218Z",
     "shell.execute_reply": "2025-10-26T18:02:50.193871Z"
    },
    "slideshow": {
     "slide_type": "fragment"
    }
   },
   "outputs": [],
   "source": [
    "class FixCounter(ChangeCounter):\n",
    "    \"\"\"\n",
    "    Count the fixes for files in the repository.\n",
    "    Fixes are all commits whose message starts with the word 'Fix: '\n",
    "    \"\"\"\n",
    "\n",
    "    def include(self, m: ModifiedFile) -> bool:\n",
    "        \"\"\"Include all modifications whose commit messages start with 'Fix:'\"\"\"\n",
    "        return super().include(m) and m and m.msg.startswith(\"Fix:\")"
   ]
  },
  {
   "cell_type": "markdown",
   "metadata": {
    "slideshow": {
     "slide_type": "fragment"
    }
   },
   "source": [
    "As a twist to our default `ChangeCounter` class, we include the \"fix\" messages in the tree map rectangles."
   ]
  },
  {
   "cell_type": "code",
   "execution_count": 72,
   "metadata": {
    "execution": {
     "iopub.execute_input": "2025-10-26T18:02:50.195773Z",
     "iopub.status.busy": "2025-10-26T18:02:50.195642Z",
     "iopub.status.idle": "2025-10-26T18:02:50.201780Z",
     "shell.execute_reply": "2025-10-26T18:02:50.199782Z"
    },
    "slideshow": {
     "slide_type": "subslide"
    }
   },
   "outputs": [],
   "source": [
    "class FixCounter(FixCounter):\n",
    "    def map_node_text(self, node: Node) -> str:\n",
    "        return \"<br>\".join(self.messages.get(node, []))\n",
    "\n",
    "    def map_hoverinfo(self) -> str:\n",
    "        return 'label'"
   ]
  },
  {
   "cell_type": "markdown",
   "metadata": {
    "slideshow": {
     "slide_type": "fragment"
    }
   },
   "source": [
    "This is the tree map showing fixes. We see that \n",
    "* only those components that actually have seen a fix are shown; and\n",
    "* the fix distribution differs from the change distribution."
   ]
  },
  {
   "cell_type": "code",
   "execution_count": 73,
   "metadata": {
    "execution": {
     "iopub.execute_input": "2025-10-26T18:02:50.206487Z",
     "iopub.status.busy": "2025-10-26T18:02:50.206349Z",
     "iopub.status.idle": "2025-10-26T18:06:06.489591Z",
     "shell.execute_reply": "2025-10-26T18:06:06.483706Z"
    },
    "slideshow": {
     "slide_type": "fragment"
    }
   },
   "outputs": [],
   "source": [
    "fix_counter = debuggingbook_change_counter(FixCounter)"
   ]
  },
  {
   "cell_type": "code",
   "execution_count": 74,
   "metadata": {
    "execution": {
     "iopub.execute_input": "2025-10-26T18:06:06.510019Z",
     "iopub.status.busy": "2025-10-26T18:06:06.509500Z",
     "iopub.status.idle": "2025-10-26T18:06:06.564847Z",
     "shell.execute_reply": "2025-10-26T18:06:06.564241Z"
    },
    "slideshow": {
     "slide_type": "fragment"
    }
   },
   "outputs": [
    {
     "data": {
      "application/vnd.plotly.v1+json": {
       "config": {
        "plotlyServerURL": "https://plot.ly"
       },
       "data": [
        {
         "branchvalues": "total",
         "hoverinfo": "label",
         "ids": [
          "/notebooks/StatisticalDebugger.ipynb",
          "/notebooks/Repairer.ipynb",
          "/notebooks/Guide_for_Authors.ipynb",
          "/.github/workflows/check.yml",
          "/requirements.txt",
          "/notebooks/ChangeDebugger.ipynb",
          "/README.md",
          "/notebooks/index.ipynb",
          "/BADGES.md",
          "/.github/workflows/check-notebooks.yml",
          "/Chapters.makefile",
          "/notebooks/Slicer.ipynb",
          "/notebooks/ChangeCounter.ipynb",
          "/notebooks/DeltaDebugger.ipynb",
          "/code/requirements.txt",
          "/notebooks/Repairing_Code.ipynb",
          "/notebooks/Tracking.ipynb",
          "/.github/workflows/check-sitemap.yml",
          "/binder/apt.txt",
          "/binder/postBuild.template",
          "/binder/postBuild",
          "/code/setup.py.in",
          "/notebooks/DynamicInvariants.ipynb",
          "/notebooks/404.ipynb",
          "/notebooks/Assertions.ipynb",
          "/notebooks/DDSetDebugger.ipynb",
          "/notebooks/Debugger.ipynb",
          "/notebooks/IllustratedCode.ipynb",
          "/notebooks/Importing.ipynb",
          "/notebooks/PerformanceDebugger.ipynb",
          "/notebooks/Reducing_Code.ipynb",
          "/notebooks/ReleaseNotes.ipynb",
          "/notebooks/StackInspector.ipynb",
          "/notebooks/Template.ipynb",
          "/notebooks/ThreadDebugger.ipynb",
          "/notebooks/Time_Travel_Debugger.ipynb",
          "/notebooks/Tracer.ipynb",
          "/binder/Dockerfile",
          "/notebooks/Alhazen.ipynb",
          "/notebooks/Intro_Debugging.ipynb",
          "/notebooks/Tours.ipynb",
          "/pyproject.toml",
          "/",
          "/notebooks",
          "/.github/workflows",
          "/.github",
          "/code",
          "/binder"
         ],
         "labels": [
          "StatisticalDebugger.ipynb",
          "Repairer.ipynb",
          "Guide_for_Authors.ipynb",
          "check.yml",
          "requirements.txt",
          "ChangeDebugger.ipynb",
          "README.md",
          "index.ipynb",
          "BADGES.md",
          "check-notebooks.yml",
          "Chapters.makefile",
          "Slicer.ipynb",
          "ChangeCounter.ipynb",
          "DeltaDebugger.ipynb",
          "requirements.txt",
          "Repairing_Code.ipynb",
          "Tracking.ipynb",
          "check-sitemap.yml",
          "apt.txt",
          "postBuild.template",
          "postBuild",
          "setup.py.in",
          "DynamicInvariants.ipynb",
          "404.ipynb",
          "Assertions.ipynb",
          "DDSetDebugger.ipynb",
          "Debugger.ipynb",
          "IllustratedCode.ipynb",
          "Importing.ipynb",
          "PerformanceDebugger.ipynb",
          "Reducing_Code.ipynb",
          "ReleaseNotes.ipynb",
          "StackInspector.ipynb",
          "Template.ipynb",
          "ThreadDebugger.ipynb",
          "Time_Travel_Debugger.ipynb",
          "Tracer.ipynb",
          "Dockerfile",
          "Alhazen.ipynb",
          "Intro_Debugging.ipynb",
          "Tours.ipynb",
          "pyproject.toml",
          "/Users/zeller/Projects/debuggingbook",
          "notebooks",
          "workflows",
          ".github",
          "code",
          "binder"
         ],
         "marker": {
          "colors": [
           5,
           5,
           2,
           1,
           9,
           3,
           2,
           3,
           2,
           1,
           4,
           10,
           5,
           4,
           1,
           4,
           7,
           1,
           2,
           3,
           3,
           1,
           4,
           2,
           2,
           2,
           2,
           1,
           1,
           2,
           2,
           1,
           2,
           1,
           1,
           2,
           2,
           5,
           4,
           1,
           1,
           1,
           null,
           null,
           null,
           null,
           null,
           null
          ],
          "colorscale": [
           [
            0.0,
            "rgb(255,255,204)"
           ],
           [
            0.125,
            "rgb(255,237,160)"
           ],
           [
            0.25,
            "rgb(254,217,118)"
           ],
           [
            0.375,
            "rgb(254,178,76)"
           ],
           [
            0.5,
            "rgb(253,141,60)"
           ],
           [
            0.625,
            "rgb(252,78,42)"
           ],
           [
            0.75,
            "rgb(227,26,28)"
           ],
           [
            0.875,
            "rgb(189,0,38)"
           ],
           [
            1.0,
            "rgb(128,0,38)"
           ]
          ]
         },
         "parents": [
          "/notebooks",
          "/notebooks",
          "/notebooks",
          "/.github/workflows",
          "/",
          "/notebooks",
          "/",
          "/notebooks",
          "/",
          "/.github/workflows",
          "/",
          "/notebooks",
          "/notebooks",
          "/notebooks",
          "/code",
          "/notebooks",
          "/notebooks",
          "/.github/workflows",
          "/binder",
          "/binder",
          "/binder",
          "/code",
          "/notebooks",
          "/notebooks",
          "/notebooks",
          "/notebooks",
          "/notebooks",
          "/notebooks",
          "/notebooks",
          "/notebooks",
          "/notebooks",
          "/notebooks",
          "/notebooks",
          "/notebooks",
          "/notebooks",
          "/notebooks",
          "/notebooks",
          "/binder",
          "/notebooks",
          "/notebooks",
          "/notebooks",
          "/",
          null,
          "/",
          "/.github",
          "/",
          "/",
          "/"
         ],
         "text": [
          "Fix: Avoid tracing own functions<br>Fix: handle case of all events passing (or all events failing)<br>Fix: handle \"no failing run\" in DescreteSpectrumDebugger, too<br>Fix: do not fix seed when importing code<br>Fix: metadata must be remove-input, not remove-cell",
          "Fix: import middle_test<br>Fix: extra \"passing\" testcase for remove_html_markup() had no effect<br>Fix: non-bool ret value in can_cross()<br>Fix: do not fix seed when importing code<br>Fix: metadata must be remove-input, not remove-cell",
          "Fix: correct DeltaDebugger usage<br>Fix: do not fix seed when importing code",
          "Fix: pip was missing",
          "Fix: added diff_match_patch<br>Fix: need enforce<br>Fix: need easyplotly<br>Fix: wrong spec for pandoc mermaid filter<br>Fix: use pyparsing 2.x,; newer versions conflict with bibtexparser<br>Fix: need `testpath` module<br>Fix: ipypublish needs entrypoints<br>Fix: our ipypublish needs ipython-genutils<br>Fix: numpy 2.0 conflicts with pandas",
          "Fix: only one ! command per cell<br>Fix: do not fix seed when importing code<br>Fix: metadata must be remove-input, not remove-cell",
          "Fix: corrected rule for rendered notebooks (#24)\nNew: strip out any <iframe> tags\nNew: when rendering .md files, replace videos by proper image<br>Fix: bad links in CI badges",
          "Fix: corrected rule for rendered notebooks (#24)\nNew: strip out any <iframe> tags\nNew: when rendering .md files, replace videos by proper image<br>Fix: mastodon timeline was not visible on /<br>Fix: unneded command",
          "Fix: bad links in CI badges<br>Fix: bad binder badge",
          "Fix: typo",
          "Fix: Mark 'Assertions' as new, too<br>Fix: DEPENDENCIES_PART was missing in PUBLIC_CHAPTERS<br>Fix: added default target<br>Fix: bad default target",
          "Fix: do not instrument type names<br>Fix: unresolved citations<br>Fix: Slicer.code() would not work with implicit items to be instrumented<br>Fix: after assignment, do not ignore location changes<br>Fix: bad call to ast.unparse()<br>Fix: static type checks<br>Fix: _repr_svg_ AttributeError\n\nReplaced Graph._repr_svg_() with Graph._repr_mimebundle_()\nThanks to Fengmin (Paul) Zhu for reporting this<br>Fix: `_data' was not defined during execution<br>Fix: do not fix seed when importing code<br>Fix: metadata must be remove-input, not remove-cell",
          "Fix: be more robust in case of short change histories (as with CI)<br>Fix: properly convert content fields to strings<br>Fix: FineChangeCounter did not retrieve elements<br>Fix: do not fix seed when importing code<br>Fix: metadata must be remove-input, not remove-cell",
          "Fix: bad link<br>Fix: dd() would not always minimize until the end (#45)\n\n* In dd(), the \"no reduction found\" action could sometimes be chosen as consequence of an earlier action\n* In dd(), the \"no reduction found\" action would increase granularity by 2, rather than doubling it\nThanks to Benjamin Silvus (@TheSilvus) for reporting this!<br>Fix: do not fix seed when importing code<br>Fix: metadata must be remove-input, not remove-cell",
          "Fix: outdated requirements",
          "Fix: repairer initialization accidentally deleted<br>Fix: missing import<br>Fix: do not fix seed when importing code<br>Fix: metadata must be remove-input, not remove-cell",
          "Fix: skip \"multiprocess\" in type checking<br>Fix: adapt to current selenium version<br>Fix: static type checking<br>Fix: static type checking<br>Fix: get rid of DeprecationWarning<br>Fix: do not fix seed when importing code<br>Fix: metadata must be remove-input, not remove-cell",
          "Fix: python-pydot and python-pydot-ng are no apt packages",
          "Fix: python-pydot and python-pydot-ng are no apt packages<br>Fix: install cargo (and grcov)\nFix: install mermaid (instead of mermaid-cli)",
          "Fix: install lab extensions for Jupyter lab<br>Fix: bad ID for jupyter lab markup extension<br>Fix: install cargo (and grcov)\nFix: install mermaid (instead of mermaid-cli)",
          "Fix: install lab extensions for Jupyter lab<br>Fix: bad ID for jupyter lab markup extension<br>Fix: install cargo (and grcov)\nFix: install mermaid (instead of mermaid-cli)",
          "Fix: use pyparsing 2.x,; newer versions conflict with bibtexparser",
          "Fix: mined arguments came in reverse order<br>Fix: Didn't find functions outside of current module<br>Fix: do not fix seed when importing code<br>Fix: metadata must be remove-input, not remove-cell",
          "Fix: mastodon timeline was not visible on /<br>Fix: do not fix seed when importing code",
          "Fix: do not fix seed when importing code<br>Fix: metadata must be remove-input, not remove-cell",
          "Fix: do not fix seed when importing code<br>Fix: metadata must be remove-input, not remove-cell",
          "Fix: do not fix seed when importing code<br>Fix: metadata must be remove-input, not remove-cell",
          "Fix: do not fix seed when importing code",
          "Fix: do not fix seed when importing code",
          "Fix: do not fix seed when importing code<br>Fix: metadata must be remove-input, not remove-cell",
          "Fix: do not fix seed when importing code<br>Fix: metadata must be remove-input, not remove-cell",
          "Fix: do not fix seed when importing code",
          "Fix: do not fix seed when importing code<br>Fix: metadata must be remove-input, not remove-cell",
          "Fix: do not fix seed when importing code",
          "Fix: do not fix seed when importing code",
          "Fix: do not fix seed when importing code<br>Fix: metadata must be remove-input, not remove-cell",
          "Fix: do not fix seed when importing code<br>Fix: metadata must be remove-input, not remove-cell",
          "Fix: npm was missing<br>Fix: install mermaid as root<br>Fix: use correct braces in description<br>Fix: install python as python3<br>Fix: be sure to explicitly install graphviz first",
          "Fix: bad link<br>Fix: no leading zeros in `CALC_GRAMMAR`<br>Fix: typo<br>Fix: Place imports in individual cells (for export to .py files)",
          "Fix: metadata must be remove-input, not remove-cell",
          "Fix: metadata must be remove-input, not remove-cell",
          "Fix: proper project name",
          "",
          "",
          "",
          "",
          "",
          ""
         ],
         "type": "treemap",
         "values": [
          11.764446538565187,
          11.86423705178808,
          10.922479266642203,
          7.048386408721883,
          7.085064293952548,
          11.383556824628947,
          9.595534743241988,
          9.693692018741418,
          7.3613754289773485,
          7.367708572374371,
          8.23323750070527,
          12.251074691449958,
          11.166893681129975,
          11.789806920177805,
          2.995732273553991,
          10.715972115684695,
          11.178235638911106,
          7.570443252057374,
          6.093569770045136,
          7.4977617006225685,
          9.691407573577898,
          7.643482907077201,
          11.911265248135804,
          8.274611946209552,
          11.643392166221906,
          11.313791366116371,
          10.862071196600535,
          10.511430812581505,
          9.416703923250376,
          10.820997540815013,
          10.77270764101727,
          8.645234541297121,
          9.82140944150052,
          9.22631214148588,
          8.89877535906107,
          10.459410817205152,
          11.146733953232388,
          7.980023592310645,
          11.68931278227599,
          11.50580014002764,
          8.695506726812653,
          7.791935956938058,
          402.30152646572316,
          298.3458624915665,
          21.986538233153652,
          21.986538233153674,
          10.639215180631204,
          31.262762636556282
         ]
        }
       ],
       "layout": {
        "margin": {
         "b": 0,
         "l": 0,
         "r": 0,
         "t": 30
        },
        "template": {
         "data": {
          "bar": [
           {
            "error_x": {
             "color": "#2a3f5f"
            },
            "error_y": {
             "color": "#2a3f5f"
            },
            "marker": {
             "line": {
              "color": "#E5ECF6",
              "width": 0.5
             },
             "pattern": {
              "fillmode": "overlay",
              "size": 10,
              "solidity": 0.2
             }
            },
            "type": "bar"
           }
          ],
          "barpolar": [
           {
            "marker": {
             "line": {
              "color": "#E5ECF6",
              "width": 0.5
             },
             "pattern": {
              "fillmode": "overlay",
              "size": 10,
              "solidity": 0.2
             }
            },
            "type": "barpolar"
           }
          ],
          "carpet": [
           {
            "aaxis": {
             "endlinecolor": "#2a3f5f",
             "gridcolor": "white",
             "linecolor": "white",
             "minorgridcolor": "white",
             "startlinecolor": "#2a3f5f"
            },
            "baxis": {
             "endlinecolor": "#2a3f5f",
             "gridcolor": "white",
             "linecolor": "white",
             "minorgridcolor": "white",
             "startlinecolor": "#2a3f5f"
            },
            "type": "carpet"
           }
          ],
          "choropleth": [
           {
            "colorbar": {
             "outlinewidth": 0,
             "ticks": ""
            },
            "type": "choropleth"
           }
          ],
          "contour": [
           {
            "colorbar": {
             "outlinewidth": 0,
             "ticks": ""
            },
            "colorscale": [
             [
              0.0,
              "#0d0887"
             ],
             [
              0.1111111111111111,
              "#46039f"
             ],
             [
              0.2222222222222222,
              "#7201a8"
             ],
             [
              0.3333333333333333,
              "#9c179e"
             ],
             [
              0.4444444444444444,
              "#bd3786"
             ],
             [
              0.5555555555555556,
              "#d8576b"
             ],
             [
              0.6666666666666666,
              "#ed7953"
             ],
             [
              0.7777777777777778,
              "#fb9f3a"
             ],
             [
              0.8888888888888888,
              "#fdca26"
             ],
             [
              1.0,
              "#f0f921"
             ]
            ],
            "type": "contour"
           }
          ],
          "contourcarpet": [
           {
            "colorbar": {
             "outlinewidth": 0,
             "ticks": ""
            },
            "type": "contourcarpet"
           }
          ],
          "heatmap": [
           {
            "colorbar": {
             "outlinewidth": 0,
             "ticks": ""
            },
            "colorscale": [
             [
              0.0,
              "#0d0887"
             ],
             [
              0.1111111111111111,
              "#46039f"
             ],
             [
              0.2222222222222222,
              "#7201a8"
             ],
             [
              0.3333333333333333,
              "#9c179e"
             ],
             [
              0.4444444444444444,
              "#bd3786"
             ],
             [
              0.5555555555555556,
              "#d8576b"
             ],
             [
              0.6666666666666666,
              "#ed7953"
             ],
             [
              0.7777777777777778,
              "#fb9f3a"
             ],
             [
              0.8888888888888888,
              "#fdca26"
             ],
             [
              1.0,
              "#f0f921"
             ]
            ],
            "type": "heatmap"
           }
          ],
          "histogram": [
           {
            "marker": {
             "pattern": {
              "fillmode": "overlay",
              "size": 10,
              "solidity": 0.2
             }
            },
            "type": "histogram"
           }
          ],
          "histogram2d": [
           {
            "colorbar": {
             "outlinewidth": 0,
             "ticks": ""
            },
            "colorscale": [
             [
              0.0,
              "#0d0887"
             ],
             [
              0.1111111111111111,
              "#46039f"
             ],
             [
              0.2222222222222222,
              "#7201a8"
             ],
             [
              0.3333333333333333,
              "#9c179e"
             ],
             [
              0.4444444444444444,
              "#bd3786"
             ],
             [
              0.5555555555555556,
              "#d8576b"
             ],
             [
              0.6666666666666666,
              "#ed7953"
             ],
             [
              0.7777777777777778,
              "#fb9f3a"
             ],
             [
              0.8888888888888888,
              "#fdca26"
             ],
             [
              1.0,
              "#f0f921"
             ]
            ],
            "type": "histogram2d"
           }
          ],
          "histogram2dcontour": [
           {
            "colorbar": {
             "outlinewidth": 0,
             "ticks": ""
            },
            "colorscale": [
             [
              0.0,
              "#0d0887"
             ],
             [
              0.1111111111111111,
              "#46039f"
             ],
             [
              0.2222222222222222,
              "#7201a8"
             ],
             [
              0.3333333333333333,
              "#9c179e"
             ],
             [
              0.4444444444444444,
              "#bd3786"
             ],
             [
              0.5555555555555556,
              "#d8576b"
             ],
             [
              0.6666666666666666,
              "#ed7953"
             ],
             [
              0.7777777777777778,
              "#fb9f3a"
             ],
             [
              0.8888888888888888,
              "#fdca26"
             ],
             [
              1.0,
              "#f0f921"
             ]
            ],
            "type": "histogram2dcontour"
           }
          ],
          "mesh3d": [
           {
            "colorbar": {
             "outlinewidth": 0,
             "ticks": ""
            },
            "type": "mesh3d"
           }
          ],
          "parcoords": [
           {
            "line": {
             "colorbar": {
              "outlinewidth": 0,
              "ticks": ""
             }
            },
            "type": "parcoords"
           }
          ],
          "pie": [
           {
            "automargin": true,
            "type": "pie"
           }
          ],
          "scatter": [
           {
            "fillpattern": {
             "fillmode": "overlay",
             "size": 10,
             "solidity": 0.2
            },
            "type": "scatter"
           }
          ],
          "scatter3d": [
           {
            "line": {
             "colorbar": {
              "outlinewidth": 0,
              "ticks": ""
             }
            },
            "marker": {
             "colorbar": {
              "outlinewidth": 0,
              "ticks": ""
             }
            },
            "type": "scatter3d"
           }
          ],
          "scattercarpet": [
           {
            "marker": {
             "colorbar": {
              "outlinewidth": 0,
              "ticks": ""
             }
            },
            "type": "scattercarpet"
           }
          ],
          "scattergeo": [
           {
            "marker": {
             "colorbar": {
              "outlinewidth": 0,
              "ticks": ""
             }
            },
            "type": "scattergeo"
           }
          ],
          "scattergl": [
           {
            "marker": {
             "colorbar": {
              "outlinewidth": 0,
              "ticks": ""
             }
            },
            "type": "scattergl"
           }
          ],
          "scattermap": [
           {
            "marker": {
             "colorbar": {
              "outlinewidth": 0,
              "ticks": ""
             }
            },
            "type": "scattermap"
           }
          ],
          "scattermapbox": [
           {
            "marker": {
             "colorbar": {
              "outlinewidth": 0,
              "ticks": ""
             }
            },
            "type": "scattermapbox"
           }
          ],
          "scatterpolar": [
           {
            "marker": {
             "colorbar": {
              "outlinewidth": 0,
              "ticks": ""
             }
            },
            "type": "scatterpolar"
           }
          ],
          "scatterpolargl": [
           {
            "marker": {
             "colorbar": {
              "outlinewidth": 0,
              "ticks": ""
             }
            },
            "type": "scatterpolargl"
           }
          ],
          "scatterternary": [
           {
            "marker": {
             "colorbar": {
              "outlinewidth": 0,
              "ticks": ""
             }
            },
            "type": "scatterternary"
           }
          ],
          "surface": [
           {
            "colorbar": {
             "outlinewidth": 0,
             "ticks": ""
            },
            "colorscale": [
             [
              0.0,
              "#0d0887"
             ],
             [
              0.1111111111111111,
              "#46039f"
             ],
             [
              0.2222222222222222,
              "#7201a8"
             ],
             [
              0.3333333333333333,
              "#9c179e"
             ],
             [
              0.4444444444444444,
              "#bd3786"
             ],
             [
              0.5555555555555556,
              "#d8576b"
             ],
             [
              0.6666666666666666,
              "#ed7953"
             ],
             [
              0.7777777777777778,
              "#fb9f3a"
             ],
             [
              0.8888888888888888,
              "#fdca26"
             ],
             [
              1.0,
              "#f0f921"
             ]
            ],
            "type": "surface"
           }
          ],
          "table": [
           {
            "cells": {
             "fill": {
              "color": "#EBF0F8"
             },
             "line": {
              "color": "white"
             }
            },
            "header": {
             "fill": {
              "color": "#C8D4E3"
             },
             "line": {
              "color": "white"
             }
            },
            "type": "table"
           }
          ]
         },
         "layout": {
          "annotationdefaults": {
           "arrowcolor": "#2a3f5f",
           "arrowhead": 0,
           "arrowwidth": 1
          },
          "autotypenumbers": "strict",
          "coloraxis": {
           "colorbar": {
            "outlinewidth": 0,
            "ticks": ""
           }
          },
          "colorscale": {
           "diverging": [
            [
             0,
             "#8e0152"
            ],
            [
             0.1,
             "#c51b7d"
            ],
            [
             0.2,
             "#de77ae"
            ],
            [
             0.3,
             "#f1b6da"
            ],
            [
             0.4,
             "#fde0ef"
            ],
            [
             0.5,
             "#f7f7f7"
            ],
            [
             0.6,
             "#e6f5d0"
            ],
            [
             0.7,
             "#b8e186"
            ],
            [
             0.8,
             "#7fbc41"
            ],
            [
             0.9,
             "#4d9221"
            ],
            [
             1,
             "#276419"
            ]
           ],
           "sequential": [
            [
             0.0,
             "#0d0887"
            ],
            [
             0.1111111111111111,
             "#46039f"
            ],
            [
             0.2222222222222222,
             "#7201a8"
            ],
            [
             0.3333333333333333,
             "#9c179e"
            ],
            [
             0.4444444444444444,
             "#bd3786"
            ],
            [
             0.5555555555555556,
             "#d8576b"
            ],
            [
             0.6666666666666666,
             "#ed7953"
            ],
            [
             0.7777777777777778,
             "#fb9f3a"
            ],
            [
             0.8888888888888888,
             "#fdca26"
            ],
            [
             1.0,
             "#f0f921"
            ]
           ],
           "sequentialminus": [
            [
             0.0,
             "#0d0887"
            ],
            [
             0.1111111111111111,
             "#46039f"
            ],
            [
             0.2222222222222222,
             "#7201a8"
            ],
            [
             0.3333333333333333,
             "#9c179e"
            ],
            [
             0.4444444444444444,
             "#bd3786"
            ],
            [
             0.5555555555555556,
             "#d8576b"
            ],
            [
             0.6666666666666666,
             "#ed7953"
            ],
            [
             0.7777777777777778,
             "#fb9f3a"
            ],
            [
             0.8888888888888888,
             "#fdca26"
            ],
            [
             1.0,
             "#f0f921"
            ]
           ]
          },
          "colorway": [
           "#636efa",
           "#EF553B",
           "#00cc96",
           "#ab63fa",
           "#FFA15A",
           "#19d3f3",
           "#FF6692",
           "#B6E880",
           "#FF97FF",
           "#FECB52"
          ],
          "font": {
           "color": "#2a3f5f"
          },
          "geo": {
           "bgcolor": "white",
           "lakecolor": "white",
           "landcolor": "#E5ECF6",
           "showlakes": true,
           "showland": true,
           "subunitcolor": "white"
          },
          "hoverlabel": {
           "align": "left"
          },
          "hovermode": "closest",
          "mapbox": {
           "style": "light"
          },
          "paper_bgcolor": "white",
          "plot_bgcolor": "#E5ECF6",
          "polar": {
           "angularaxis": {
            "gridcolor": "white",
            "linecolor": "white",
            "ticks": ""
           },
           "bgcolor": "#E5ECF6",
           "radialaxis": {
            "gridcolor": "white",
            "linecolor": "white",
            "ticks": ""
           }
          },
          "scene": {
           "xaxis": {
            "backgroundcolor": "#E5ECF6",
            "gridcolor": "white",
            "gridwidth": 2,
            "linecolor": "white",
            "showbackground": true,
            "ticks": "",
            "zerolinecolor": "white"
           },
           "yaxis": {
            "backgroundcolor": "#E5ECF6",
            "gridcolor": "white",
            "gridwidth": 2,
            "linecolor": "white",
            "showbackground": true,
            "ticks": "",
            "zerolinecolor": "white"
           },
           "zaxis": {
            "backgroundcolor": "#E5ECF6",
            "gridcolor": "white",
            "gridwidth": 2,
            "linecolor": "white",
            "showbackground": true,
            "ticks": "",
            "zerolinecolor": "white"
           }
          },
          "shapedefaults": {
           "line": {
            "color": "#2a3f5f"
           }
          },
          "ternary": {
           "aaxis": {
            "gridcolor": "white",
            "linecolor": "white",
            "ticks": ""
           },
           "baxis": {
            "gridcolor": "white",
            "linecolor": "white",
            "ticks": ""
           },
           "bgcolor": "#E5ECF6",
           "caxis": {
            "gridcolor": "white",
            "linecolor": "white",
            "ticks": ""
           }
          },
          "title": {
           "x": 0.05
          },
          "xaxis": {
           "automargin": true,
           "gridcolor": "white",
           "linecolor": "white",
           "ticks": "",
           "title": {
            "standoff": 15
           },
           "zerolinecolor": "white",
           "zerolinewidth": 2
          },
          "yaxis": {
           "automargin": true,
           "gridcolor": "white",
           "linecolor": "white",
           "ticks": "",
           "title": {
            "standoff": 15
           },
           "zerolinecolor": "white",
           "zerolinewidth": 2
          }
         }
        }
       }
      }
     },
     "metadata": {},
     "output_type": "display_data"
    }
   ],
   "source": [
    "fix_counter.map()"
   ]
  },
  {
   "cell_type": "markdown",
   "metadata": {
    "slideshow": {
     "slide_type": "subslide"
    }
   },
   "source": [
    "If you want to take a look at the _entire_ fix history, pass an early `start_date` argument to `debugging_change_counter()`. This takes a few extra minutes, so we make it optional:"
   ]
  },
  {
   "cell_type": "code",
   "execution_count": 75,
   "metadata": {
    "execution": {
     "iopub.execute_input": "2025-10-26T18:06:06.590439Z",
     "iopub.status.busy": "2025-10-26T18:06:06.590165Z",
     "iopub.status.idle": "2025-10-26T18:06:06.594970Z",
     "shell.execute_reply": "2025-10-26T18:06:06.593243Z"
    },
    "slideshow": {
     "slide_type": "fragment"
    }
   },
   "outputs": [],
   "source": [
    "# fix_counter = debuggingbook_change_counter(\n",
    "#     FixCounter,\n",
    "#     start_date=datetime(1999, 1, 1)\n",
    "# )\n",
    "# fix_counter.map()"
   ]
  },
  {
   "cell_type": "markdown",
   "metadata": {
    "slideshow": {
     "slide_type": "slide"
    }
   },
   "source": [
    "## Counting Fine-Grained Changes\n",
    "\n",
    "In programming projects, individual files typically consist of _smaller units_ such as functions, classes, and methods. We want to determine which of these _units_ are frequently changed (and fixed). For this, we need to _break down_ individual files into smaller parts, and then determine which of these parts would be affected by a change."
   ]
  },
  {
   "cell_type": "markdown",
   "metadata": {
    "slideshow": {
     "slide_type": "subslide"
    }
   },
   "source": [
    "### Mapping Elements to Locations\n",
    "\n",
    "Our first task is a simple means to split a (programming) file into smaller parts, each with their own locations. First, we need to know what kind of content a file contains. To this end, we use the Python [magic](https://github.com/ahupp/python-magic) package. (The \"magic\" in the name does not refer to some \"magic\" functionality, but to the practice of having files start with \"magic\" bytes that indicate their type.)"
   ]
  },
  {
   "cell_type": "code",
   "execution_count": 76,
   "metadata": {
    "execution": {
     "iopub.execute_input": "2025-10-26T18:06:06.600989Z",
     "iopub.status.busy": "2025-10-26T18:06:06.600634Z",
     "iopub.status.idle": "2025-10-26T18:06:06.623922Z",
     "shell.execute_reply": "2025-10-26T18:06:06.623538Z"
    },
    "slideshow": {
     "slide_type": "skip"
    }
   },
   "outputs": [],
   "source": [
    "import magic"
   ]
  },
  {
   "cell_type": "markdown",
   "metadata": {
    "slideshow": {
     "slide_type": "fragment"
    }
   },
   "source": [
    "The `magic` package easily guesses that a file contains C code:"
   ]
  },
  {
   "cell_type": "code",
   "execution_count": 77,
   "metadata": {
    "execution": {
     "iopub.execute_input": "2025-10-26T18:06:06.626144Z",
     "iopub.status.busy": "2025-10-26T18:06:06.626002Z",
     "iopub.status.idle": "2025-10-26T18:06:06.647304Z",
     "shell.execute_reply": "2025-10-26T18:06:06.646685Z"
    },
    "slideshow": {
     "slide_type": "subslide"
    }
   },
   "outputs": [
    {
     "data": {
      "text/plain": [
       "'C source, ASCII text'"
      ]
     },
     "execution_count": 77,
     "metadata": {},
     "output_type": "execute_result"
    }
   ],
   "source": [
    "magic.from_buffer('''\n",
    "#include <stdio.h>\n",
    "\n",
    "int main(int argc, char *argv[]) {\n",
    "    printf(\"Hello, world!\\n\")\n",
    "}\n",
    "''')"
   ]
  },
  {
   "cell_type": "markdown",
   "metadata": {
    "slideshow": {
     "slide_type": "fragment"
    }
   },
   "source": [
    "It also works well for Python code:"
   ]
  },
  {
   "cell_type": "code",
   "execution_count": 78,
   "metadata": {
    "execution": {
     "iopub.execute_input": "2025-10-26T18:06:06.650568Z",
     "iopub.status.busy": "2025-10-26T18:06:06.650439Z",
     "iopub.status.idle": "2025-10-26T18:06:06.655609Z",
     "shell.execute_reply": "2025-10-26T18:06:06.655143Z"
    },
    "slideshow": {
     "slide_type": "fragment"
    }
   },
   "outputs": [
    {
     "data": {
      "text/plain": [
       "'Python script, ASCII text executable'"
      ]
     },
     "execution_count": 78,
     "metadata": {},
     "output_type": "execute_result"
    }
   ],
   "source": [
    "magic.from_buffer('''\n",
    "def foo():\n",
    "    print(\"Hello, world!\")\n",
    "''')"
   ]
  },
  {
   "cell_type": "markdown",
   "metadata": {
    "slideshow": {
     "slide_type": "subslide"
    }
   },
   "source": [
    "Jupyter Notebooks, however, are identified as `JSON` data or `SGML` documents:"
   ]
  },
  {
   "cell_type": "code",
   "execution_count": 79,
   "metadata": {
    "execution": {
     "iopub.execute_input": "2025-10-26T18:06:06.658422Z",
     "iopub.status.busy": "2025-10-26T18:06:06.658251Z",
     "iopub.status.idle": "2025-10-26T18:06:06.665555Z",
     "shell.execute_reply": "2025-10-26T18:06:06.665076Z"
    },
    "slideshow": {
     "slide_type": "fragment"
    }
   },
   "outputs": [
    {
     "data": {
      "text/plain": [
       "'JSON text data'"
      ]
     },
     "execution_count": 79,
     "metadata": {},
     "output_type": "execute_result"
    }
   ],
   "source": [
    "magic.from_buffer(open(os.path.join(current_repo(),   # type: ignore\n",
    "                                    'notebooks',\n",
    "                                    'Assertions.ipynb')).read())"
   ]
  },
  {
   "cell_type": "markdown",
   "metadata": {
    "slideshow": {
     "slide_type": "subslide"
    }
   },
   "source": [
    "We define a set of _delimiters_ for these languages which use _regular expressions_ to identify\n",
    "* the _language_ (matching the `magic` output)\n",
    "* the _beginning of a unit_, and\n",
    "* the _end_ of a unit,\n",
    "\n",
    "For Python, for instance, any line starting with `def` or `class` denotes the start of some unit; any line starting with something else denotes the end of a unit. For Jupyter, the delimiters do the same, yet encoded into JSON. The definitions for C are likely to work for a wide range of languages that all use `{` and `}` to delimit units."
   ]
  },
  {
   "cell_type": "code",
   "execution_count": 80,
   "metadata": {
    "execution": {
     "iopub.execute_input": "2025-10-26T18:06:06.667941Z",
     "iopub.status.busy": "2025-10-26T18:06:06.667770Z",
     "iopub.status.idle": "2025-10-26T18:06:06.670464Z",
     "shell.execute_reply": "2025-10-26T18:06:06.669881Z"
    },
    "slideshow": {
     "slide_type": "skip"
    }
   },
   "outputs": [],
   "source": [
    "import re"
   ]
  },
  {
   "cell_type": "code",
   "execution_count": 81,
   "metadata": {
    "execution": {
     "iopub.execute_input": "2025-10-26T18:06:06.672585Z",
     "iopub.status.busy": "2025-10-26T18:06:06.672453Z",
     "iopub.status.idle": "2025-10-26T18:06:06.674884Z",
     "shell.execute_reply": "2025-10-26T18:06:06.674277Z"
    },
    "slideshow": {
     "slide_type": "fragment"
    },
    "tags": [
     "remove-input"
    ]
   },
   "outputs": [],
   "source": [
    "# ignore\n",
    "from typing import Pattern"
   ]
  },
  {
   "cell_type": "code",
   "execution_count": 82,
   "metadata": {
    "execution": {
     "iopub.execute_input": "2025-10-26T18:06:06.677655Z",
     "iopub.status.busy": "2025-10-26T18:06:06.677380Z",
     "iopub.status.idle": "2025-10-26T18:06:06.685099Z",
     "shell.execute_reply": "2025-10-26T18:06:06.684240Z"
    },
    "slideshow": {
     "slide_type": "subslide"
    }
   },
   "outputs": [],
   "source": [
    "DELIMITERS: List[Tuple[Pattern, Pattern, Pattern]] = [\n",
    "    (\n",
    "        # Python\n",
    "        re.compile(r'^python.*'),\n",
    "\n",
    "        # Beginning of element\n",
    "        re.compile(r'^(async\\s+)?(def|class)\\s+(?P<name>\\w+)\\W.*'),\n",
    "\n",
    "        # End of element\n",
    "        re.compile(r'^[^#\\s]')\n",
    "    ),\n",
    "    (\n",
    "        # Jupyter Notebooks\n",
    "        re.compile(r'^(json|exported sgml|jupyter).*'),\n",
    "        re.compile(r'^\\s+\"(async\\s+)?(def|class)\\s+(?P<name>\\w+)\\W'),\n",
    "        re.compile(r'^(\\s+\"[^#\\s\\\\]|\\s+\\])')\n",
    "    ),\n",
    "    (\n",
    "        # C source code (actually, any { }-delimited language)\n",
    "        re.compile(r'^(c |c\\+\\+|c#|java|perl|php).*'),\n",
    "        re.compile(r'^[^\\s].*\\s+(?P<name>\\w+)\\s*[({].*'),\n",
    "        re.compile(r'^[}]')\n",
    "    )\n",
    "]"
   ]
  },
  {
   "cell_type": "markdown",
   "metadata": {
    "slideshow": {
     "slide_type": "subslide"
    }
   },
   "source": [
    "The function `rxdelim()` returns suitable delimiters for a given content, using `DELIMITERS`."
   ]
  },
  {
   "cell_type": "code",
   "execution_count": 83,
   "metadata": {
    "execution": {
     "iopub.execute_input": "2025-10-26T18:06:06.689941Z",
     "iopub.status.busy": "2025-10-26T18:06:06.689803Z",
     "iopub.status.idle": "2025-10-26T18:06:06.693919Z",
     "shell.execute_reply": "2025-10-26T18:06:06.693433Z"
    },
    "slideshow": {
     "slide_type": "fragment"
    }
   },
   "outputs": [],
   "source": [
    "def rxdelim(content: str) -> Tuple[Optional[Pattern], Optional[Pattern]]:\n",
    "    \"\"\"\n",
    "    Return suitable begin and end delimiters for the content `content`.\n",
    "    If no matching delimiters are found, return `None, None`.\n",
    "    \"\"\"\n",
    "    tp = magic.from_buffer(content).lower()\n",
    "    for rxtp, rxbegin, rxend in DELIMITERS:\n",
    "        if rxtp.match(tp):\n",
    "            return rxbegin, rxend\n",
    "\n",
    "    return None, None"
   ]
  },
  {
   "cell_type": "markdown",
   "metadata": {
    "slideshow": {
     "slide_type": "fragment"
    }
   },
   "source": [
    "The function `elem_mapping()` returns a list of the individual elements as found in the file, indexed by line numbers (starting with 1)."
   ]
  },
  {
   "cell_type": "code",
   "execution_count": 84,
   "metadata": {
    "execution": {
     "iopub.execute_input": "2025-10-26T18:06:06.696014Z",
     "iopub.status.busy": "2025-10-26T18:06:06.695900Z",
     "iopub.status.idle": "2025-10-26T18:06:06.698059Z",
     "shell.execute_reply": "2025-10-26T18:06:06.697706Z"
    },
    "slideshow": {
     "slide_type": "subslide"
    }
   },
   "outputs": [],
   "source": [
    "Mapping = List[Optional[str]]"
   ]
  },
  {
   "cell_type": "code",
   "execution_count": 85,
   "metadata": {
    "execution": {
     "iopub.execute_input": "2025-10-26T18:06:06.700236Z",
     "iopub.status.busy": "2025-10-26T18:06:06.700081Z",
     "iopub.status.idle": "2025-10-26T18:06:06.703035Z",
     "shell.execute_reply": "2025-10-26T18:06:06.702642Z"
    },
    "slideshow": {
     "slide_type": "subslide"
    }
   },
   "outputs": [],
   "source": [
    "def elem_mapping(content: str, log: bool = False) -> Mapping:\n",
    "    \"\"\"Return a list of the elements in `content`, indexed by line number.\"\"\"\n",
    "    rxbegin, rxend = rxdelim(content)\n",
    "    if rxbegin is None:\n",
    "        return []\n",
    "    if rxend is None:\n",
    "        return []\n",
    "\n",
    "    mapping: List[Optional[str]] = [None]\n",
    "    current_elem = None\n",
    "    lineno = 0\n",
    "\n",
    "    for line in content.split('\\n'):\n",
    "        lineno += 1\n",
    "\n",
    "        match = rxbegin.match(line)\n",
    "        if match:\n",
    "            current_elem = match.group('name')\n",
    "        elif rxend.match(line):\n",
    "            current_elem = None\n",
    "\n",
    "        mapping.append(current_elem)\n",
    "\n",
    "        if log:\n",
    "            print(f\"{lineno:3} {str(current_elem):15} {line}\")\n",
    "\n",
    "    return mapping"
   ]
  },
  {
   "cell_type": "markdown",
   "metadata": {
    "slideshow": {
     "slide_type": "subslide"
    }
   },
   "source": [
    "Here is an example of how `elem_mapping()` works. During execution (with `log` set to `True`), we already see the elements associated with individual line numbers."
   ]
  },
  {
   "cell_type": "code",
   "execution_count": 86,
   "metadata": {
    "execution": {
     "iopub.execute_input": "2025-10-26T18:06:06.704838Z",
     "iopub.status.busy": "2025-10-26T18:06:06.704682Z",
     "iopub.status.idle": "2025-10-26T18:06:06.708886Z",
     "shell.execute_reply": "2025-10-26T18:06:06.708476Z"
    },
    "slideshow": {
     "slide_type": "subslide"
    }
   },
   "outputs": [
    {
     "name": "stdout",
     "output_type": "stream",
     "text": [
      "  1 None            \n",
      "  2 None            #include <stdio.h>\n",
      "  3 None            \n",
      "  4 foo             int foo(int x) {\n",
      "  5 foo                 return x;\n",
      "  6 None            }\n",
      "  7 None            \n",
      "  8 bar             struct bar {\n",
      "  9 bar                 int x, y;\n",
      " 10 None            }\n",
      " 11 None            \n",
      " 12 main            int main(int argc, char *argv[]) {\n",
      " 13 main                return foo(argc);\n",
      " 14 None            }\n",
      " 15 None            \n",
      " 16 None            \n"
     ]
    }
   ],
   "source": [
    "some_c_source = \"\"\"\n",
    "#include <stdio.h>\n",
    "\n",
    "int foo(int x) {\n",
    "    return x;\n",
    "}\n",
    "\n",
    "struct bar {\n",
    "    int x, y;\n",
    "}\n",
    "\n",
    "int main(int argc, char *argv[]) {\n",
    "    return foo(argc);\n",
    "}\n",
    "\n",
    "\"\"\"\n",
    "some_c_mapping = elem_mapping(some_c_source, log=True)"
   ]
  },
  {
   "cell_type": "markdown",
   "metadata": {
    "slideshow": {
     "slide_type": "subslide"
    }
   },
   "source": [
    "In the actual mapping, we can access the individual units for any line number:"
   ]
  },
  {
   "cell_type": "code",
   "execution_count": 87,
   "metadata": {
    "execution": {
     "iopub.execute_input": "2025-10-26T18:06:06.710821Z",
     "iopub.status.busy": "2025-10-26T18:06:06.710691Z",
     "iopub.status.idle": "2025-10-26T18:06:06.713476Z",
     "shell.execute_reply": "2025-10-26T18:06:06.713086Z"
    },
    "slideshow": {
     "slide_type": "fragment"
    }
   },
   "outputs": [
    {
     "data": {
      "text/plain": [
       "(None, 'bar')"
      ]
     },
     "execution_count": 87,
     "metadata": {},
     "output_type": "execute_result"
    }
   ],
   "source": [
    "some_c_mapping[1], some_c_mapping[8]"
   ]
  },
  {
   "cell_type": "markdown",
   "metadata": {
    "slideshow": {
     "slide_type": "fragment"
    }
   },
   "source": [
    "Here's how this works for Python:"
   ]
  },
  {
   "cell_type": "code",
   "execution_count": 88,
   "metadata": {
    "execution": {
     "iopub.execute_input": "2025-10-26T18:06:06.715277Z",
     "iopub.status.busy": "2025-10-26T18:06:06.715166Z",
     "iopub.status.idle": "2025-10-26T18:06:06.717712Z",
     "shell.execute_reply": "2025-10-26T18:06:06.717333Z"
    },
    "slideshow": {
     "slide_type": "subslide"
    }
   },
   "outputs": [
    {
     "name": "stdout",
     "output_type": "stream",
     "text": [
      "  1 None            \n",
      "  2 foo             def foo(x):\n",
      "  3 foo                 return x\n",
      "  4 foo             \n",
      "  5 bar             class bar(blue):\n",
      "  6 bar                 x = 25\n",
      "  7 bar                 def f(x):\n",
      "  8 bar                     return 26\n",
      "  9 bar             \n",
      " 10 main            def main(argc):\n",
      " 11 main                return foo(argc)\n",
      " 12 main            \n",
      " 13 main            \n"
     ]
    }
   ],
   "source": [
    "some_python_source = \"\"\"\n",
    "def foo(x):\n",
    "    return x\n",
    "\n",
    "class bar(blue):\n",
    "    x = 25\n",
    "    def f(x):\n",
    "        return 26\n",
    "\n",
    "def main(argc):\n",
    "    return foo(argc)\n",
    "\n",
    "\"\"\"\n",
    "some_python_mapping = elem_mapping(some_python_source, log=True)"
   ]
  },
  {
   "cell_type": "code",
   "execution_count": 89,
   "metadata": {
    "execution": {
     "iopub.execute_input": "2025-10-26T18:06:06.719927Z",
     "iopub.status.busy": "2025-10-26T18:06:06.719799Z",
     "iopub.status.idle": "2025-10-26T18:06:06.721811Z",
     "shell.execute_reply": "2025-10-26T18:06:06.721438Z"
    },
    "slideshow": {
     "slide_type": "subslide"
    }
   },
   "outputs": [],
   "source": [
    "# some_jupyter_source = open(\"Debugger.ipynb\").read()\n",
    "# some_jupyter_mapping = elem_mapping(some_jupyter_source, log=True)"
   ]
  },
  {
   "cell_type": "markdown",
   "metadata": {
    "slideshow": {
     "slide_type": "subslide"
    }
   },
   "source": [
    "### Determining Changed Elements\n",
    "\n",
    "Using a mapping from `elem_mapping()`, we can determine which elements are affected by a change. The `changed_elems_by_mapping()` function returns the set of affected elements."
   ]
  },
  {
   "cell_type": "code",
   "execution_count": 90,
   "metadata": {
    "execution": {
     "iopub.execute_input": "2025-10-26T18:06:06.724158Z",
     "iopub.status.busy": "2025-10-26T18:06:06.724040Z",
     "iopub.status.idle": "2025-10-26T18:06:06.727924Z",
     "shell.execute_reply": "2025-10-26T18:06:06.727415Z"
    },
    "slideshow": {
     "slide_type": "subslide"
    }
   },
   "outputs": [],
   "source": [
    "def changed_elems_by_mapping(mapping: Mapping, start: int, length: int = 0) -> Set[str]:\n",
    "    \"\"\"\n",
    "    Within `mapping`, return the set of elements affected by a change\n",
    "    starting in line `start` and extending over `length` additional lines.\n",
    "    \"\"\"\n",
    "    elems = set()\n",
    "    for line in range(start, start + length + 1):\n",
    "        if line < len(mapping) and mapping[line]:\n",
    "            elem = mapping[line]\n",
    "            assert elem is not None\n",
    "            elems.add(elem)\n",
    "\n",
    "    return elems"
   ]
  },
  {
   "cell_type": "markdown",
   "metadata": {
    "slideshow": {
     "slide_type": "fragment"
    }
   },
   "source": [
    "Here's an example of `changed_elems_by_mapping()`, applied to the Python content, above:"
   ]
  },
  {
   "cell_type": "code",
   "execution_count": 91,
   "metadata": {
    "execution": {
     "iopub.execute_input": "2025-10-26T18:06:06.731610Z",
     "iopub.status.busy": "2025-10-26T18:06:06.731389Z",
     "iopub.status.idle": "2025-10-26T18:06:06.734442Z",
     "shell.execute_reply": "2025-10-26T18:06:06.734065Z"
    },
    "slideshow": {
     "slide_type": "subslide"
    }
   },
   "outputs": [
    {
     "data": {
      "text/plain": [
       "{'bar', 'foo'}"
      ]
     },
     "execution_count": 91,
     "metadata": {},
     "output_type": "execute_result"
    }
   ],
   "source": [
    "changed_elems_by_mapping(some_python_mapping, start=2, length=4)"
   ]
  },
  {
   "cell_type": "markdown",
   "metadata": {
    "slideshow": {
     "slide_type": "fragment"
    }
   },
   "source": [
    "The function `elem_size()` returns the size of an element (say, a function)."
   ]
  },
  {
   "cell_type": "code",
   "execution_count": 92,
   "metadata": {
    "execution": {
     "iopub.execute_input": "2025-10-26T18:06:06.737033Z",
     "iopub.status.busy": "2025-10-26T18:06:06.736892Z",
     "iopub.status.idle": "2025-10-26T18:06:06.740852Z",
     "shell.execute_reply": "2025-10-26T18:06:06.740486Z"
    },
    "slideshow": {
     "slide_type": "fragment"
    }
   },
   "outputs": [],
   "source": [
    "def elem_size(elem: str, source: str) -> int:\n",
    "    \"\"\"Within `source`, return the size of `elem`\"\"\"\n",
    "    source_lines = [''] + source.split('\\n')\n",
    "    size = 0\n",
    "    mapping = elem_mapping(source)\n",
    "\n",
    "    for line_no in range(len(mapping)):\n",
    "        if mapping[line_no] == elem or mapping[line_no] is elem:\n",
    "            size += len(source_lines[line_no] + '\\n')\n",
    "\n",
    "    return size"
   ]
  },
  {
   "cell_type": "code",
   "execution_count": 93,
   "metadata": {
    "execution": {
     "iopub.execute_input": "2025-10-26T18:06:06.742418Z",
     "iopub.status.busy": "2025-10-26T18:06:06.742291Z",
     "iopub.status.idle": "2025-10-26T18:06:06.749299Z",
     "shell.execute_reply": "2025-10-26T18:06:06.748736Z"
    },
    "slideshow": {
     "slide_type": "subslide"
    }
   },
   "outputs": [
    {
     "data": {
      "text/plain": [
       "26"
      ]
     },
     "execution_count": 93,
     "metadata": {},
     "output_type": "execute_result"
    }
   ],
   "source": [
    "elem_size('foo', some_python_source)"
   ]
  },
  {
   "cell_type": "code",
   "execution_count": 94,
   "metadata": {
    "execution": {
     "iopub.execute_input": "2025-10-26T18:06:06.753472Z",
     "iopub.status.busy": "2025-10-26T18:06:06.752565Z",
     "iopub.status.idle": "2025-10-26T18:06:06.758529Z",
     "shell.execute_reply": "2025-10-26T18:06:06.757833Z"
    },
    "slideshow": {
     "slide_type": "fragment"
    }
   },
   "outputs": [],
   "source": [
    "assert sum(elem_size(name, some_python_source) \n",
    "           for name in ['foo', 'bar', 'main']) == len(some_python_source)"
   ]
  },
  {
   "cell_type": "markdown",
   "metadata": {
    "slideshow": {
     "slide_type": "fragment"
    }
   },
   "source": [
    "Given an old version and a new version of a (text) file, we can use the `diff_match_patch` module to determine differences, and from these the affected lines:"
   ]
  },
  {
   "cell_type": "code",
   "execution_count": 95,
   "metadata": {
    "execution": {
     "iopub.execute_input": "2025-10-26T18:06:06.761878Z",
     "iopub.status.busy": "2025-10-26T18:06:06.761278Z",
     "iopub.status.idle": "2025-10-26T18:06:06.909838Z",
     "shell.execute_reply": "2025-10-26T18:06:06.909299Z"
    },
    "slideshow": {
     "slide_type": "skip"
    }
   },
   "outputs": [],
   "source": [
    "from ChangeDebugger import diff  # minor dependency"
   ]
  },
  {
   "cell_type": "code",
   "execution_count": 96,
   "metadata": {
    "execution": {
     "iopub.execute_input": "2025-10-26T18:06:06.912644Z",
     "iopub.status.busy": "2025-10-26T18:06:06.912441Z",
     "iopub.status.idle": "2025-10-26T18:06:06.914616Z",
     "shell.execute_reply": "2025-10-26T18:06:06.914191Z"
    },
    "slideshow": {
     "slide_type": "skip"
    }
   },
   "outputs": [],
   "source": [
    "from diff_match_patch import diff_match_patch"
   ]
  },
  {
   "cell_type": "code",
   "execution_count": 97,
   "metadata": {
    "execution": {
     "iopub.execute_input": "2025-10-26T18:06:06.916782Z",
     "iopub.status.busy": "2025-10-26T18:06:06.916668Z",
     "iopub.status.idle": "2025-10-26T18:06:06.920151Z",
     "shell.execute_reply": "2025-10-26T18:06:06.919550Z"
    },
    "slideshow": {
     "slide_type": "subslide"
    }
   },
   "outputs": [],
   "source": [
    "def changed_elems(old_source: str, new_source: str) -> Set[str]:\n",
    "    \"\"\"Determine the elements affected by the change from `old_source` to `new_source`\"\"\"\n",
    "    patches = diff(old_source, new_source)\n",
    "\n",
    "    old_mapping = elem_mapping(old_source)\n",
    "    new_mapping = elem_mapping(new_source)\n",
    "\n",
    "    elems = set()\n",
    "\n",
    "    for patch in patches:\n",
    "        old_start_line = patch.start1 + 1\n",
    "        new_start_line = patch.start2 + 1\n",
    "\n",
    "        for (op, data) in patch.diffs:\n",
    "            length = data.count('\\n')\n",
    "\n",
    "            if op == diff_match_patch.DIFF_INSERT:\n",
    "                elems |= changed_elems_by_mapping(old_mapping, old_start_line)\n",
    "                elems |= changed_elems_by_mapping(new_mapping, new_start_line, length)\n",
    "            elif op == diff_match_patch.DIFF_DELETE:\n",
    "                elems |= changed_elems_by_mapping(old_mapping, old_start_line, length)\n",
    "                elems |= changed_elems_by_mapping(new_mapping, new_start_line)\n",
    "\n",
    "            old_start_line += length\n",
    "            new_start_line += length\n",
    "\n",
    "    return elems"
   ]
  },
  {
   "cell_type": "markdown",
   "metadata": {
    "slideshow": {
     "slide_type": "subslide"
    }
   },
   "source": [
    "Here is how `changed_elems()` works. We define a \"new\" version of `some_python_source`:"
   ]
  },
  {
   "cell_type": "code",
   "execution_count": 98,
   "metadata": {
    "execution": {
     "iopub.execute_input": "2025-10-26T18:06:06.923051Z",
     "iopub.status.busy": "2025-10-26T18:06:06.922877Z",
     "iopub.status.idle": "2025-10-26T18:06:06.925184Z",
     "shell.execute_reply": "2025-10-26T18:06:06.924644Z"
    },
    "slideshow": {
     "slide_type": "fragment"
    }
   },
   "outputs": [],
   "source": [
    "some_new_python_source = \"\"\"\n",
    "def foo(y):\n",
    "    return y\n",
    "\n",
    "class qux(blue):\n",
    "    x = 25\n",
    "    def f(x):\n",
    "        return 26\n",
    "\n",
    "def main(argc):\n",
    "    return foo(argc)\n",
    "\n",
    "\"\"\""
   ]
  },
  {
   "cell_type": "code",
   "execution_count": 99,
   "metadata": {
    "execution": {
     "iopub.execute_input": "2025-10-26T18:06:06.927390Z",
     "iopub.status.busy": "2025-10-26T18:06:06.927269Z",
     "iopub.status.idle": "2025-10-26T18:06:06.931469Z",
     "shell.execute_reply": "2025-10-26T18:06:06.931046Z"
    },
    "slideshow": {
     "slide_type": "subslide"
    }
   },
   "outputs": [
    {
     "data": {
      "text/plain": [
       "{'bar', 'foo', 'qux'}"
      ]
     },
     "execution_count": 99,
     "metadata": {},
     "output_type": "execute_result"
    }
   ],
   "source": [
    "changed_elems(some_python_source, some_new_python_source)"
   ]
  },
  {
   "cell_type": "markdown",
   "metadata": {
    "slideshow": {
     "slide_type": "fragment"
    }
   },
   "source": [
    "Note that the list of changed elements includes added as well as deleted elements."
   ]
  },
  {
   "cell_type": "markdown",
   "metadata": {
    "slideshow": {
     "slide_type": "subslide"
    }
   },
   "source": [
    "### Putting it all Together\n",
    "\n",
    "We introduce a class `FineChangeCounter` that, like `ChangeCounter`, counts changes for individual files; however, `FineChangeCounter` adds additional nodes for all elements affected by the change. For a file consisting of multiple elements, this has the same effect as if the file were a directory, and the elements were all contained as individual files in this directory."
   ]
  },
  {
   "cell_type": "code",
   "execution_count": 100,
   "metadata": {
    "execution": {
     "iopub.execute_input": "2025-10-26T18:06:06.933422Z",
     "iopub.status.busy": "2025-10-26T18:06:06.933317Z",
     "iopub.status.idle": "2025-10-26T18:06:06.936665Z",
     "shell.execute_reply": "2025-10-26T18:06:06.936163Z"
    },
    "slideshow": {
     "slide_type": "subslide"
    }
   },
   "outputs": [],
   "source": [
    "class FineChangeCounter(ChangeCounter):\n",
    "    \"\"\"Count the changes for files in the repository and their elements\"\"\"\n",
    "\n",
    "    def update_elems(self, node: Node, m: ModifiedFile) -> None:\n",
    "        old_source = m.content_before if m.content_before else bytes()\n",
    "        new_source = m.content if m.content else bytes()\n",
    "\n",
    "        # Content comes as bytes instead of strings\n",
    "        # Let's convert this in a conservative way\n",
    "        if not isinstance(old_source, str):\n",
    "            old_source = str(old_source, 'latin1')\n",
    "        if not isinstance(new_source, str):\n",
    "            new_source = str(new_source, 'latin1')\n",
    "\n",
    "        changed = changed_elems(old_source, new_source)\n",
    "        for elem in changed:\n",
    "            elem_node = node + (elem,)\n",
    "\n",
    "            self.update_size(elem_node, elem_size(elem, new_source))\n",
    "            self.update_changes(elem_node, m.msg)"
   ]
  },
  {
   "cell_type": "markdown",
   "metadata": {
    "slideshow": {
     "slide_type": "subslide"
    }
   },
   "source": [
    "Retrieving fine-grained changes takes a bit more time, since all files have to be parsed..."
   ]
  },
  {
   "cell_type": "code",
   "execution_count": 101,
   "metadata": {
    "execution": {
     "iopub.execute_input": "2025-10-26T18:06:06.938795Z",
     "iopub.status.busy": "2025-10-26T18:06:06.938631Z",
     "iopub.status.idle": "2025-10-26T18:08:01.506353Z",
     "shell.execute_reply": "2025-10-26T18:08:01.505669Z"
    },
    "slideshow": {
     "slide_type": "fragment"
    }
   },
   "outputs": [
    {
     "data": {
      "text/plain": [
       "114.56250616698526"
      ]
     },
     "execution_count": 101,
     "metadata": {},
     "output_type": "execute_result"
    }
   ],
   "source": [
    "with Timer() as t:\n",
    "    fine_change_counter = debuggingbook_change_counter(FineChangeCounter)\n",
    "\n",
    "t.elapsed_time()"
   ]
  },
  {
   "cell_type": "markdown",
   "metadata": {
    "slideshow": {
     "slide_type": "fragment"
    }
   },
   "source": [
    "... but the result is very much worth it. We can now zoom into individual files and compare the change counts for the individual functions."
   ]
  },
  {
   "cell_type": "code",
   "execution_count": 102,
   "metadata": {
    "execution": {
     "iopub.execute_input": "2025-10-26T18:08:01.509673Z",
     "iopub.status.busy": "2025-10-26T18:08:01.509503Z",
     "iopub.status.idle": "2025-10-26T18:08:01.522992Z",
     "shell.execute_reply": "2025-10-26T18:08:01.522696Z"
    },
    "slideshow": {
     "slide_type": "fragment"
    }
   },
   "outputs": [
    {
     "data": {
      "application/vnd.plotly.v1+json": {
       "config": {
        "plotlyServerURL": "https://plot.ly"
       },
       "data": [
        {
         "branchvalues": "total",
         "hoverinfo": "label+text",
         "ids": [
          "/notebooks/Intro_Debugging.ipynb",
          "/html/custom.css",
          "/Chapters.makefile",
          "/notebooks/02_Observing.ipynb",
          "/notebooks/04_Reducing.ipynb",
          "/notebooks/PerformanceDebugger.ipynb",
          "/notebooks/ThreadDebugger.ipynb",
          "/notebooks/Debugger.ipynb",
          "/notebooks/Tracer.ipynb",
          "/binder/postBuild",
          "/notebooks/Repairer.ipynb",
          "/notebooks/Slicer.ipynb",
          "/notebooks/StackInspector.ipynb",
          "/notebooks/StackInspector.ipynb/StackInspectorDemo",
          "/notebooks/StackInspector.ipynb/StackInspector",
          "/notebooks/StackInspector.ipynb/test",
          "/notebooks/StatisticalDebugger.ipynb",
          "/notebooks/DynamicInvariants.ipynb",
          "/notebooks/DeltaDebugger.ipynb",
          "/notebooks/Guide_for_Authors.ipynb",
          "/notebooks/Assertions.ipynb",
          "/notebooks/Tracking.ipynb",
          "/notebooks/404.ipynb",
          "/notebooks/Template.ipynb",
          "/notebooks/ChangeCounter.ipynb",
          "/notebooks/Time_Travel_Debugger.ipynb",
          "/notebooks/Reducing_Code.ipynb",
          "/notebooks/Reducing_Code.ipynb/Test5",
          "/notebooks/Repairing_Code.ipynb",
          "/mypy/mypy.ini",
          "/notebooks/DDSetDebugger.ipynb",
          "/notebooks/Tours.ipynb",
          "/notebooks/Assertions.ipynb/ManagedMemory",
          "/notebooks/ChangeDebugger.ipynb",
          "/notebooks/DynamicInvariants.ipynb/EmbeddedInvariantTransformer",
          "/notebooks/Repairer.ipynb/CrossoverOperator",
          "/notebooks/Slicer.ipynb/Slicer",
          "/notebooks/index.ipynb",
          "/README.md",
          "/slides/reveal.js",
          "/beta/slides/reveal.js",
          "/notebooks/Importing.ipynb",
          "/code/setup.py.in",
          "/notebooks/ReleaseNotes.ipynb",
          "/.github/workflows/check.yml",
          "/.gitignore",
          "/Makefile",
          "/code/pycodestyle.cfg",
          "/fuzzingbook.bib",
          "/ipypublish",
          "/notebooks/ClassDiagram.ipynb",
          "/notebooks/ExpectError.ipynb",
          "/notebooks/Timer.ipynb",
          "/notebooks/bookutils",
          "/notebooks/fuzzingbook.bib",
          "/shared",
          "/utils",
          "/requirements.txt",
          "/full_notebooks/fuzzingbook.bib",
          "/notebooks/__init__.py",
          "/.github/workflows/check-code.yml",
          "/.github/workflows/check-imports.yml",
          "/.github/workflows/check-types.yml",
          "/beta/code/debuggingbook",
          "/code/debuggingbook",
          "/notebooks/Slicer.ipynb/DependencyTrackerTester",
          "/notebooks/PICS/youtube.png",
          "/BADGES.md",
          "/LICENSE.md",
          "/.github/workflows/html.yml",
          "/.github/workflows/check-notebooks.yml",
          "/binder/requirements.txt",
          "/word/README.md",
          "/word/pandoc.css",
          "/epub/README.md",
          "/notebooks/Slicer.ipynb/args_test",
          "/notebooks/Slicer.ipynb/DependencyTracker",
          "/notebooks/Slicer.ipynb/TrackReturnTransformer",
          "/notebooks/Slicer.ipynb/Instrumenter",
          "/notebooks/Slicer.ipynb/DataTracker",
          "/code/requirements.txt",
          "/notebooks/Reducing_Code.ipynb/Test4",
          "/notebooks/Reducing_Code.ipynb/original",
          "/notebooks/Slicer.ipynb/password_checker",
          "/notebooks/Project_of_your_choice.ipynb",
          "/notebooks/PICS/scalene-out.png",
          "/notebooks/Slicer.ipynb/assert_flow",
          "/binder/environment.yml",
          "/notebooks/ChangeCounter.ipynb/ChangeCounter",
          "/notebooks/ChangeCounter.ipynb/elem_mapping",
          "/notebooks/Repairer.ipynb/StatementMutator",
          "/binder/postBuild.template",
          "/notebooks/Repairer.ipynb/Repairer",
          "/notebooks/Repairer.ipynb/middle_tree",
          "/notebooks/Reducing_Code.ipynb/Parser4",
          "/notebooks/Tracer.ipynb/traceit",
          "/notebooks/Reducing_Code.ipynb/Test0",
          "/CITATION.cff",
          "/.github/ISSUE_TEMPLATE/bug_report.md",
          "/.github/ISSUE_TEMPLATE/feature_request.md",
          "/binder/apt.txt",
          "/.github/workflows/check-sitemap.yml",
          "/notebooks/IllustratedCode.ipynb",
          "/notebooks/IllustratedCode.ipynb/ClassDiagram",
          "/notebooks/IllustratedCode.ipynb/middle_i",
          "/notebooks/IllustratedCode.ipynb/SequenceDiagramTracer",
          "/notebooks/IllustratedCode.ipynb/middle",
          "/notebooks/IllustratedCode.ipynb/factorial",
          "/notebooks/IllustratedCode.ipynb/middle_spec",
          "/notebooks/IllustratedCode.ipynb/Server",
          "/notebooks/IllustratedCode.ipynb/middle_benchmark",
          "/notebooks/Timeout.ipynb",
          "/notebooks/Timeout.ipynb/SignalTimeout",
          "/notebooks/Timeout.ipynb/some_long_running_function",
          "/notebooks/Timeout.ipynb/GenericTimeout",
          "/notebooks/PICS/appicon.png",
          "/notebooks/PerformanceDebugger.ipynb/HitCollector",
          "/notebooks/01_Intro.ipynb",
          "/ipypublish_plugins/html_ipypublish_chapter.py",
          "/notebooks/Slicer.ipynb/LoadVisitor",
          "/notebooks/Slicer.ipynb/Dependencies",
          "/html/mastodon-timeline.css",
          "/html/mastodon-timeline.js",
          "/html/mastodon-timeline.js/function",
          "/html/mastodon-timeline.min.css",
          "/html/mastodon-timeline.min.js",
          "/notebooks/mastodon-timeline.css",
          "/notebooks/mastodon-timeline.js",
          "/notebooks/mastodon-timeline.min.css",
          "/notebooks/mastodon-timeline.min.js",
          "/notebooks/DDSetDebugger.ipynb/TreeGeneralizer",
          "/notebooks/Reducing_Code.ipynb/Parser",
          "/beta/html/mastodon-timeline.css",
          "/beta/html/mastodon-timeline.js",
          "/binder/Dockerfile",
          "/binder/README.md",
          "/code/LICENSE.md",
          "/notebooks/Alhazen.ipynb",
          "/notebooks/Alhazen.ipynb/ExistenceFeature",
          "/notebooks/Alhazen.ipynb/extract_existence",
          "/notebooks/Alhazen.ipynb/collect_features",
          "/notebooks/Alhazen.ipynb/compute_feature_values",
          "/notebooks/Alhazen.ipynb/Feature",
          "/notebooks/Alhazen.ipynb/NumericInterpretation",
          "/notebooks/Alhazen.ipynb/int_fuzzer",
          "/notebooks/Alhazen.ipynb/get_all_features",
          "/notebooks/Alhazen.ipynb/Alhazen",
          "/notebooks/Alhazen.ipynb/extract_numeric",
          "/notebooks/PICS/Alhazen.png",
          "/notebooks/Alhazen.ipynb/extract_existence_features",
          "/notebooks/Alhazen.ipynb/tree_to_paths",
          "/notebooks/Alhazen.ipynb/TreeRequirement",
          "/notebooks/Alhazen.ipynb/TreePath",
          "/code/README.md",
          "/python_code/LICENSE.md",
          "/python_code/README.md",
          "/python_code/__init__.py.in",
          "/python_code/bookutils",
          "/python_code/debuggingbook",
          "/python_code/pycodestyle.cfg",
          "/python_code/setup.py.in",
          "/beta/python_code/LICENSE.md",
          "/beta/python_code/README.md",
          "/beta/python_code/__init__.py.in",
          "/beta/python_code/bookutils",
          "/beta/python_code/debuggingbook",
          "/beta/python_code/setup.py.in",
          "/_config.yml",
          "/_static/custom.css",
          "/_static/fuzzingbook.png",
          "/_static/mastodon-timeline.css",
          "/_toc.yml",
          "/full_notebooks/_build",
          "/full_notebooks/_config.yml",
          "/full_notebooks/_static",
          "/full_notebooks/_toc.yml",
          "/_static/debuggingbook.png",
          "/notebooks/PICS/debuggingbook.key",
          "/notebooks/ChangeDebugger.ipynb/diff",
          "/notebooks/Reducing_Code.ipynb/TestingFramework",
          "/pyproject.toml",
          "/notebooks/Copyright.ipynb",
          "/",
          "/notebooks",
          "/html",
          "/binder",
          "/mypy",
          "/slides",
          "/beta/slides",
          "/beta",
          "/code",
          "/.github/workflows",
          "/.github",
          "/full_notebooks",
          "/beta/code",
          "/notebooks/PICS",
          "/word",
          "/epub",
          "/.github/ISSUE_TEMPLATE",
          "/ipypublish_plugins",
          "/beta/html",
          "/python_code",
          "/beta/python_code",
          "/_static"
         ],
         "labels": [
          "Intro_Debugging.ipynb",
          "custom.css",
          "Chapters.makefile",
          "02_Observing.ipynb",
          "04_Reducing.ipynb",
          "PerformanceDebugger.ipynb",
          "ThreadDebugger.ipynb",
          "Debugger.ipynb",
          "Tracer.ipynb",
          "postBuild",
          "Repairer.ipynb",
          "Slicer.ipynb",
          "StackInspector.ipynb",
          "StackInspectorDemo",
          "StackInspector",
          "test",
          "StatisticalDebugger.ipynb",
          "DynamicInvariants.ipynb",
          "DeltaDebugger.ipynb",
          "Guide_for_Authors.ipynb",
          "Assertions.ipynb",
          "Tracking.ipynb",
          "404.ipynb",
          "Template.ipynb",
          "ChangeCounter.ipynb",
          "Time_Travel_Debugger.ipynb",
          "Reducing_Code.ipynb",
          "Test5",
          "Repairing_Code.ipynb",
          "mypy.ini",
          "DDSetDebugger.ipynb",
          "Tours.ipynb",
          "ManagedMemory",
          "ChangeDebugger.ipynb",
          "EmbeddedInvariantTransformer",
          "CrossoverOperator",
          "Slicer",
          "index.ipynb",
          "README.md",
          "reveal.js",
          "reveal.js",
          "Importing.ipynb",
          "setup.py.in",
          "ReleaseNotes.ipynb",
          "check.yml",
          ".gitignore",
          "Makefile",
          "pycodestyle.cfg",
          "fuzzingbook.bib",
          "ipypublish",
          "ClassDiagram.ipynb",
          "ExpectError.ipynb",
          "Timer.ipynb",
          "bookutils",
          "fuzzingbook.bib",
          "shared",
          "utils",
          "requirements.txt",
          "fuzzingbook.bib",
          "__init__.py",
          "check-code.yml",
          "check-imports.yml",
          "check-types.yml",
          "debuggingbook",
          "debuggingbook",
          "DependencyTrackerTester",
          "youtube.png",
          "BADGES.md",
          "LICENSE.md",
          "html.yml",
          "check-notebooks.yml",
          "requirements.txt",
          "README.md",
          "pandoc.css",
          "README.md",
          "args_test",
          "DependencyTracker",
          "TrackReturnTransformer",
          "Instrumenter",
          "DataTracker",
          "requirements.txt",
          "Test4",
          "original",
          "password_checker",
          "Project_of_your_choice.ipynb",
          "scalene-out.png",
          "assert_flow",
          "environment.yml",
          "ChangeCounter",
          "elem_mapping",
          "StatementMutator",
          "postBuild.template",
          "Repairer",
          "middle_tree",
          "Parser4",
          "traceit",
          "Test0",
          "CITATION.cff",
          "bug_report.md",
          "feature_request.md",
          "apt.txt",
          "check-sitemap.yml",
          "IllustratedCode.ipynb",
          "ClassDiagram",
          "middle_i",
          "SequenceDiagramTracer",
          "middle",
          "factorial",
          "middle_spec",
          "Server",
          "middle_benchmark",
          "Timeout.ipynb",
          "SignalTimeout",
          "some_long_running_function",
          "GenericTimeout",
          "appicon.png",
          "HitCollector",
          "01_Intro.ipynb",
          "html_ipypublish_chapter.py",
          "LoadVisitor",
          "Dependencies",
          "mastodon-timeline.css",
          "mastodon-timeline.js",
          "function",
          "mastodon-timeline.min.css",
          "mastodon-timeline.min.js",
          "mastodon-timeline.css",
          "mastodon-timeline.js",
          "mastodon-timeline.min.css",
          "mastodon-timeline.min.js",
          "TreeGeneralizer",
          "Parser",
          "mastodon-timeline.css",
          "mastodon-timeline.js",
          "Dockerfile",
          "README.md",
          "LICENSE.md",
          "Alhazen.ipynb",
          "ExistenceFeature",
          "extract_existence",
          "collect_features",
          "compute_feature_values",
          "Feature",
          "NumericInterpretation",
          "int_fuzzer",
          "get_all_features",
          "Alhazen",
          "extract_numeric",
          "Alhazen.png",
          "extract_existence_features",
          "tree_to_paths",
          "TreeRequirement",
          "TreePath",
          "README.md",
          "LICENSE.md",
          "README.md",
          "__init__.py.in",
          "bookutils",
          "debuggingbook",
          "pycodestyle.cfg",
          "setup.py.in",
          "LICENSE.md",
          "README.md",
          "__init__.py.in",
          "bookutils",
          "debuggingbook",
          "setup.py.in",
          "_config.yml",
          "custom.css",
          "fuzzingbook.png",
          "mastodon-timeline.css",
          "_toc.yml",
          "_build",
          "_config.yml",
          "_static",
          "_toc.yml",
          "debuggingbook.png",
          "debuggingbook.key",
          "diff",
          "TestingFramework",
          "pyproject.toml",
          "Copyright.ipynb",
          "/Users/zeller/Projects/debuggingbook",
          "notebooks",
          "html",
          "binder",
          "mypy",
          "slides",
          "slides",
          "beta",
          "code",
          "workflows",
          ".github",
          "full_notebooks",
          "code",
          "PICS",
          "word",
          "epub",
          "ISSUE_TEMPLATE",
          "ipypublish_plugins",
          "html",
          "python_code",
          "python_code",
          "_static"
         ],
         "marker": {
          "colors": [
           15,
           4,
           33,
           1,
           1,
           23,
           3,
           14,
           32,
           18,
           34,
           53,
           12,
           1,
           2,
           1,
           26,
           21,
           27,
           10,
           18,
           21,
           9,
           3,
           47,
           7,
           9,
           1,
           8,
           2,
           16,
           11,
           2,
           22,
           1,
           1,
           3,
           23,
           20,
           26,
           26,
           12,
           24,
           29,
           15,
           14,
           1,
           1,
           1,
           1,
           1,
           1,
           1,
           1,
           2,
           1,
           1,
           40,
           1,
           2,
           23,
           12,
           12,
           1,
           1,
           1,
           1,
           7,
           1,
           2,
           16,
           2,
           1,
           1,
           1,
           1,
           1,
           1,
           1,
           1,
           2,
           1,
           1,
           1,
           1,
           1,
           1,
           5,
           2,
           1,
           1,
           17,
           1,
           2,
           1,
           1,
           1,
           2,
           1,
           1,
           7,
           2,
           9,
           1,
           1,
           1,
           1,
           1,
           1,
           1,
           1,
           2,
           1,
           1,
           1,
           1,
           1,
           1,
           2,
           1,
           1,
           1,
           1,
           1,
           1,
           1,
           1,
           1,
           1,
           1,
           1,
           1,
           1,
           1,
           12,
           1,
           2,
           25,
           3,
           1,
           1,
           1,
           1,
           1,
           1,
           1,
           2,
           1,
           1,
           1,
           1,
           1,
           1,
           1,
           1,
           1,
           1,
           1,
           1,
           1,
           1,
           1,
           1,
           1,
           1,
           1,
           1,
           4,
           1,
           2,
           1,
           2,
           1,
           1,
           1,
           1,
           1,
           1,
           1,
           2,
           2,
           1,
           null,
           null,
           null,
           null,
           null,
           null,
           null,
           null,
           null,
           null,
           null,
           null,
           null,
           null,
           null,
           null,
           null,
           null,
           null,
           null,
           null,
           null
          ],
          "colorscale": [
           [
            0.0,
            "rgb(255,255,204)"
           ],
           [
            0.125,
            "rgb(255,237,160)"
           ],
           [
            0.25,
            "rgb(254,217,118)"
           ],
           [
            0.375,
            "rgb(254,178,76)"
           ],
           [
            0.5,
            "rgb(253,141,60)"
           ],
           [
            0.625,
            "rgb(252,78,42)"
           ],
           [
            0.75,
            "rgb(227,26,28)"
           ],
           [
            0.875,
            "rgb(189,0,38)"
           ],
           [
            1.0,
            "rgb(128,0,38)"
           ]
          ]
         },
         "parents": [
          "/notebooks",
          "/html",
          "/",
          "/notebooks",
          "/notebooks",
          "/notebooks",
          "/notebooks",
          "/notebooks",
          "/notebooks",
          "/binder",
          "/notebooks",
          "/notebooks",
          "/notebooks",
          "/notebooks/StackInspector.ipynb",
          "/notebooks/StackInspector.ipynb",
          "/notebooks/StackInspector.ipynb",
          "/notebooks",
          "/notebooks",
          "/notebooks",
          "/notebooks",
          "/notebooks",
          "/notebooks",
          "/notebooks",
          "/notebooks",
          "/notebooks",
          "/notebooks",
          "/notebooks",
          "/notebooks/Reducing_Code.ipynb",
          "/notebooks",
          "/mypy",
          "/notebooks",
          "/notebooks",
          "/notebooks/Assertions.ipynb",
          "/notebooks",
          "/notebooks/DynamicInvariants.ipynb",
          "/notebooks/Repairer.ipynb",
          "/notebooks/Slicer.ipynb",
          "/notebooks",
          "/",
          "/slides",
          "/beta/slides",
          "/notebooks",
          "/code",
          "/notebooks",
          "/.github/workflows",
          "/",
          "/",
          "/code",
          "/",
          "/",
          "/notebooks",
          "/notebooks",
          "/notebooks",
          "/notebooks",
          "/notebooks",
          "/",
          "/",
          "/",
          "/full_notebooks",
          "/notebooks",
          "/.github/workflows",
          "/.github/workflows",
          "/.github/workflows",
          "/beta/code",
          "/code",
          "/notebooks/Slicer.ipynb",
          "/notebooks/PICS",
          "/",
          "/",
          "/.github/workflows",
          "/.github/workflows",
          "/binder",
          "/word",
          "/word",
          "/epub",
          "/notebooks/Slicer.ipynb",
          "/notebooks/Slicer.ipynb",
          "/notebooks/Slicer.ipynb",
          "/notebooks/Slicer.ipynb",
          "/notebooks/Slicer.ipynb",
          "/code",
          "/notebooks/Reducing_Code.ipynb",
          "/notebooks/Reducing_Code.ipynb",
          "/notebooks/Slicer.ipynb",
          "/notebooks",
          "/notebooks/PICS",
          "/notebooks/Slicer.ipynb",
          "/binder",
          "/notebooks/ChangeCounter.ipynb",
          "/notebooks/ChangeCounter.ipynb",
          "/notebooks/Repairer.ipynb",
          "/binder",
          "/notebooks/Repairer.ipynb",
          "/notebooks/Repairer.ipynb",
          "/notebooks/Reducing_Code.ipynb",
          "/notebooks/Tracer.ipynb",
          "/notebooks/Reducing_Code.ipynb",
          "/",
          "/.github/ISSUE_TEMPLATE",
          "/.github/ISSUE_TEMPLATE",
          "/binder",
          "/.github/workflows",
          "/notebooks",
          "/notebooks/IllustratedCode.ipynb",
          "/notebooks/IllustratedCode.ipynb",
          "/notebooks/IllustratedCode.ipynb",
          "/notebooks/IllustratedCode.ipynb",
          "/notebooks/IllustratedCode.ipynb",
          "/notebooks/IllustratedCode.ipynb",
          "/notebooks/IllustratedCode.ipynb",
          "/notebooks/IllustratedCode.ipynb",
          "/notebooks",
          "/notebooks/Timeout.ipynb",
          "/notebooks/Timeout.ipynb",
          "/notebooks/Timeout.ipynb",
          "/notebooks/PICS",
          "/notebooks/PerformanceDebugger.ipynb",
          "/notebooks",
          "/ipypublish_plugins",
          "/notebooks/Slicer.ipynb",
          "/notebooks/Slicer.ipynb",
          "/html",
          "/html",
          "/html/mastodon-timeline.js",
          "/html",
          "/html",
          "/notebooks",
          "/notebooks",
          "/notebooks",
          "/notebooks",
          "/notebooks/DDSetDebugger.ipynb",
          "/notebooks/Reducing_Code.ipynb",
          "/beta/html",
          "/beta/html",
          "/binder",
          "/binder",
          "/code",
          "/notebooks",
          "/notebooks/Alhazen.ipynb",
          "/notebooks/Alhazen.ipynb",
          "/notebooks/Alhazen.ipynb",
          "/notebooks/Alhazen.ipynb",
          "/notebooks/Alhazen.ipynb",
          "/notebooks/Alhazen.ipynb",
          "/notebooks/Alhazen.ipynb",
          "/notebooks/Alhazen.ipynb",
          "/notebooks/Alhazen.ipynb",
          "/notebooks/Alhazen.ipynb",
          "/notebooks/PICS",
          "/notebooks/Alhazen.ipynb",
          "/notebooks/Alhazen.ipynb",
          "/notebooks/Alhazen.ipynb",
          "/notebooks/Alhazen.ipynb",
          "/code",
          "/python_code",
          "/python_code",
          "/python_code",
          "/python_code",
          "/python_code",
          "/python_code",
          "/python_code",
          "/beta/python_code",
          "/beta/python_code",
          "/beta/python_code",
          "/beta/python_code",
          "/beta/python_code",
          "/beta/python_code",
          "/",
          "/_static",
          "/_static",
          "/_static",
          "/",
          "/full_notebooks",
          "/full_notebooks",
          "/full_notebooks",
          "/full_notebooks",
          "/_static",
          "/notebooks/PICS",
          "/notebooks/ChangeDebugger.ipynb",
          "/notebooks/Reducing_Code.ipynb",
          "/",
          "/notebooks",
          null,
          "/",
          "/",
          "/",
          "/",
          "/",
          "/beta",
          "/",
          "/",
          "/.github",
          "/",
          "/",
          "/beta",
          "/notebooks",
          "/",
          "/",
          "/.github",
          "/",
          "/beta",
          "/",
          "/beta",
          "/"
         ],
         "text": [
          "15",
          "4",
          "33",
          "1",
          "1",
          "23",
          "3",
          "14",
          "32",
          "18",
          "34",
          "53",
          "12",
          "1",
          "2",
          "1",
          "26",
          "21",
          "27",
          "10",
          "18",
          "21",
          "9",
          "3",
          "47",
          "7",
          "9",
          "1",
          "8",
          "2",
          "16",
          "11",
          "2",
          "22",
          "1",
          "1",
          "3",
          "23",
          "20",
          "26",
          "26",
          "12",
          "24",
          "29",
          "15",
          "14",
          "1",
          "1",
          "1",
          "1",
          "1",
          "1",
          "1",
          "1",
          "2",
          "1",
          "1",
          "40",
          "1",
          "2",
          "23",
          "12",
          "12",
          "1",
          "1",
          "1",
          "1",
          "7",
          "1",
          "2",
          "16",
          "2",
          "1",
          "1",
          "1",
          "1",
          "1",
          "1",
          "1",
          "1",
          "2",
          "1",
          "1",
          "1",
          "1",
          "1",
          "1",
          "5",
          "2",
          "1",
          "1",
          "17",
          "1",
          "2",
          "1",
          "1",
          "1",
          "2",
          "1",
          "1",
          "7",
          "2",
          "9",
          "1",
          "1",
          "1",
          "1",
          "1",
          "1",
          "1",
          "1",
          "2",
          "1",
          "1",
          "1",
          "1",
          "1",
          "1",
          "2",
          "1",
          "1",
          "1",
          "1",
          "1",
          "1",
          "1",
          "1",
          "1",
          "1",
          "1",
          "1",
          "1",
          "1",
          "1",
          "12",
          "1",
          "2",
          "25",
          "3",
          "1",
          "1",
          "1",
          "1",
          "1",
          "1",
          "1",
          "2",
          "1",
          "1",
          "1",
          "1",
          "1",
          "1",
          "1",
          "1",
          "1",
          "1",
          "1",
          "1",
          "1",
          "1",
          "1",
          "1",
          "1",
          "1",
          "1",
          "1",
          "4",
          "1",
          "2",
          "1",
          "2",
          "1",
          "1",
          "1",
          "1",
          "1",
          "1",
          "1",
          "2",
          "2",
          "1",
          null,
          null,
          null,
          null,
          null,
          null,
          null,
          null,
          null,
          null,
          null,
          null,
          null,
          null,
          null,
          null,
          null,
          null,
          null,
          null,
          null,
          null
         ],
         "type": "treemap",
         "values": [
          11.50580014002764,
          9.593287168653745,
          8.243282523048375,
          7.537962659768208,
          7.3938782901077555,
          17.736720989446333,
          8.89877535906107,
          10.862071196600535,
          17.899004329374137,
          9.7107519573933,
          43.619163210564665,
          92.06786356304674,
          28.992453729840335,
          5.697093486505405,
          8.614138397472717,
          4.859812404361672,
          11.764446538565187,
          19.29835548379257,
          11.789806920177805,
          10.922479266642203,
          19.497773376874278,
          11.178235638911106,
          8.275121630216509,
          9.22631214148588,
          26.969887551900143,
          10.459410817205152,
          53.53905470199441,
          4.919980925828125,
          10.715972115684695,
          7.005789019253503,
          19.94752237378057,
          8.611775833902186,
          7.854381210652365,
          18.27721317923159,
          7.387090235656757,
          8.600982717145921,
          8.97638862194537,
          9.664913054191375,
          8.461469042643875,
          5.66988092298052,
          5.66988092298052,
          9.422463420006927,
          7.699842407396986,
          8.930626469173578,
          7.3833681469923835,
          7.358830898342354,
          3.258096538021482,
          3.258096538021482,
          3.4965075614664802,
          3.332204510175204,
          3.258096538021482,
          3.2188758248682006,
          2.9444389791664403,
          2.833213344056216,
          3.1354942159291497,
          2.833213344056216,
          3.1354942159291497,
          7.2115567333138015,
          3.58351893845611,
          0.0,
          7.741099090035366,
          7.549609165154532,
          7.571473648851271,
          0.6931471805599453,
          0.6931471805599453,
          5.170483995038151,
          12.45854973099653,
          7.3613754289773485,
          9.932366512086505,
          7.309212365692763,
          7.639642287858013,
          5.351858133476067,
          4.110873864173311,
          8.343791731996841,
          4.110873864173311,
          4.574710978503383,
          9.560292770154089,
          7.528331766707247,
          7.659642954564682,
          8.591372589590488,
          2.995732273553991,
          4.844187086458591,
          7.162397497355718,
          6.003887067106539,
          8.86827250899781,
          12.223829063119387,
          5.54907608489522,
          6.577861357721047,
          8.942330199321866,
          6.860663671448287,
          9.068776807654396,
          7.509335266016592,
          9.541871851706224,
          4.543294782270004,
          7.00669522683704,
          6.752270376141742,
          4.919980925828125,
          6.251903883165888,
          6.47543271670409,
          6.329720905522696,
          6.226536669287466,
          7.570443252057374,
          56.940832001585306,
          6.777646593635117,
          4.919980925828125,
          7.1372784372603855,
          6.025865973825314,
          4.553876891600541,
          4.564348191467836,
          6.016157159698354,
          6.434546518787453,
          22.67400232048978,
          7.31455283232408,
          4.8283137373023015,
          7.486613313139955,
          11.105483403977843,
          6.915723448631314,
          7.355641102974253,
          9.054154288786854,
          6.210600077024653,
          9.992001966066868,
          9.040737587590003,
          20.138147653478654,
          9.974644746852457,
          8.822911626354117,
          9.53834831589953,
          3.4011973816621555,
          3.367295829986474,
          3.5263605246161616,
          3.4965075614664802,
          8.633731007664188,
          6.0014148779611505,
          3.4965075614664802,
          3.4657359027997265,
          7.980023592310645,
          6.467698726104354,
          7.005789019253503,
          108.92534300938851,
          7.964850887447313,
          6.539585955617669,
          6.930494765951626,
          6.556778356158042,
          7.068172000388042,
          7.6236419465115715,
          5.049856007249537,
          4.927253685157205,
          8.374707543119483,
          7.575584651557793,
          10.557322015710533,
          6.824373670043086,
          6.673297967767654,
          8.357024439263416,
          6.7580945044277305,
          7.691656822810547,
          0.0,
          0.0,
          0.0,
          0.0,
          0.0,
          0.0,
          0.0,
          0.0,
          0.0,
          0.0,
          0.0,
          0.0,
          0.0,
          7.763446388727362,
          6.903747257584598,
          0.0,
          9.040737587590003,
          6.956545443151569,
          2.302585092994046,
          2.70805020110221,
          2.3978952727983707,
          2.4849066497880004,
          13.11577572640063,
          13.142583564569074,
          6.893656354602635,
          7.911690520708339,
          7.791935956938058,
          7.59890045687141,
          1215.455148200708,
          826.0373033600276,
          57.13343235197611,
          49.82406570230952,
          7.005789019253511,
          5.669880922980526,
          5.669880922980526,
          13.325271567806698,
          29.344264241596484,
          52.76484795664176,
          65.57000157886863,
          13.476956155138753,
          0.6931471805599461,
          59.48776777837344,
          12.454665596170166,
          4.110873864173316,
          12.8051536222268,
          9.054154288786865,
          6.962243464266215,
          0.0,
          0.0,
          29.060260571575263
         ]
        }
       ],
       "layout": {
        "margin": {
         "b": 0,
         "l": 0,
         "r": 0,
         "t": 30
        },
        "template": {
         "data": {
          "bar": [
           {
            "error_x": {
             "color": "#2a3f5f"
            },
            "error_y": {
             "color": "#2a3f5f"
            },
            "marker": {
             "line": {
              "color": "#E5ECF6",
              "width": 0.5
             },
             "pattern": {
              "fillmode": "overlay",
              "size": 10,
              "solidity": 0.2
             }
            },
            "type": "bar"
           }
          ],
          "barpolar": [
           {
            "marker": {
             "line": {
              "color": "#E5ECF6",
              "width": 0.5
             },
             "pattern": {
              "fillmode": "overlay",
              "size": 10,
              "solidity": 0.2
             }
            },
            "type": "barpolar"
           }
          ],
          "carpet": [
           {
            "aaxis": {
             "endlinecolor": "#2a3f5f",
             "gridcolor": "white",
             "linecolor": "white",
             "minorgridcolor": "white",
             "startlinecolor": "#2a3f5f"
            },
            "baxis": {
             "endlinecolor": "#2a3f5f",
             "gridcolor": "white",
             "linecolor": "white",
             "minorgridcolor": "white",
             "startlinecolor": "#2a3f5f"
            },
            "type": "carpet"
           }
          ],
          "choropleth": [
           {
            "colorbar": {
             "outlinewidth": 0,
             "ticks": ""
            },
            "type": "choropleth"
           }
          ],
          "contour": [
           {
            "colorbar": {
             "outlinewidth": 0,
             "ticks": ""
            },
            "colorscale": [
             [
              0.0,
              "#0d0887"
             ],
             [
              0.1111111111111111,
              "#46039f"
             ],
             [
              0.2222222222222222,
              "#7201a8"
             ],
             [
              0.3333333333333333,
              "#9c179e"
             ],
             [
              0.4444444444444444,
              "#bd3786"
             ],
             [
              0.5555555555555556,
              "#d8576b"
             ],
             [
              0.6666666666666666,
              "#ed7953"
             ],
             [
              0.7777777777777778,
              "#fb9f3a"
             ],
             [
              0.8888888888888888,
              "#fdca26"
             ],
             [
              1.0,
              "#f0f921"
             ]
            ],
            "type": "contour"
           }
          ],
          "contourcarpet": [
           {
            "colorbar": {
             "outlinewidth": 0,
             "ticks": ""
            },
            "type": "contourcarpet"
           }
          ],
          "heatmap": [
           {
            "colorbar": {
             "outlinewidth": 0,
             "ticks": ""
            },
            "colorscale": [
             [
              0.0,
              "#0d0887"
             ],
             [
              0.1111111111111111,
              "#46039f"
             ],
             [
              0.2222222222222222,
              "#7201a8"
             ],
             [
              0.3333333333333333,
              "#9c179e"
             ],
             [
              0.4444444444444444,
              "#bd3786"
             ],
             [
              0.5555555555555556,
              "#d8576b"
             ],
             [
              0.6666666666666666,
              "#ed7953"
             ],
             [
              0.7777777777777778,
              "#fb9f3a"
             ],
             [
              0.8888888888888888,
              "#fdca26"
             ],
             [
              1.0,
              "#f0f921"
             ]
            ],
            "type": "heatmap"
           }
          ],
          "histogram": [
           {
            "marker": {
             "pattern": {
              "fillmode": "overlay",
              "size": 10,
              "solidity": 0.2
             }
            },
            "type": "histogram"
           }
          ],
          "histogram2d": [
           {
            "colorbar": {
             "outlinewidth": 0,
             "ticks": ""
            },
            "colorscale": [
             [
              0.0,
              "#0d0887"
             ],
             [
              0.1111111111111111,
              "#46039f"
             ],
             [
              0.2222222222222222,
              "#7201a8"
             ],
             [
              0.3333333333333333,
              "#9c179e"
             ],
             [
              0.4444444444444444,
              "#bd3786"
             ],
             [
              0.5555555555555556,
              "#d8576b"
             ],
             [
              0.6666666666666666,
              "#ed7953"
             ],
             [
              0.7777777777777778,
              "#fb9f3a"
             ],
             [
              0.8888888888888888,
              "#fdca26"
             ],
             [
              1.0,
              "#f0f921"
             ]
            ],
            "type": "histogram2d"
           }
          ],
          "histogram2dcontour": [
           {
            "colorbar": {
             "outlinewidth": 0,
             "ticks": ""
            },
            "colorscale": [
             [
              0.0,
              "#0d0887"
             ],
             [
              0.1111111111111111,
              "#46039f"
             ],
             [
              0.2222222222222222,
              "#7201a8"
             ],
             [
              0.3333333333333333,
              "#9c179e"
             ],
             [
              0.4444444444444444,
              "#bd3786"
             ],
             [
              0.5555555555555556,
              "#d8576b"
             ],
             [
              0.6666666666666666,
              "#ed7953"
             ],
             [
              0.7777777777777778,
              "#fb9f3a"
             ],
             [
              0.8888888888888888,
              "#fdca26"
             ],
             [
              1.0,
              "#f0f921"
             ]
            ],
            "type": "histogram2dcontour"
           }
          ],
          "mesh3d": [
           {
            "colorbar": {
             "outlinewidth": 0,
             "ticks": ""
            },
            "type": "mesh3d"
           }
          ],
          "parcoords": [
           {
            "line": {
             "colorbar": {
              "outlinewidth": 0,
              "ticks": ""
             }
            },
            "type": "parcoords"
           }
          ],
          "pie": [
           {
            "automargin": true,
            "type": "pie"
           }
          ],
          "scatter": [
           {
            "fillpattern": {
             "fillmode": "overlay",
             "size": 10,
             "solidity": 0.2
            },
            "type": "scatter"
           }
          ],
          "scatter3d": [
           {
            "line": {
             "colorbar": {
              "outlinewidth": 0,
              "ticks": ""
             }
            },
            "marker": {
             "colorbar": {
              "outlinewidth": 0,
              "ticks": ""
             }
            },
            "type": "scatter3d"
           }
          ],
          "scattercarpet": [
           {
            "marker": {
             "colorbar": {
              "outlinewidth": 0,
              "ticks": ""
             }
            },
            "type": "scattercarpet"
           }
          ],
          "scattergeo": [
           {
            "marker": {
             "colorbar": {
              "outlinewidth": 0,
              "ticks": ""
             }
            },
            "type": "scattergeo"
           }
          ],
          "scattergl": [
           {
            "marker": {
             "colorbar": {
              "outlinewidth": 0,
              "ticks": ""
             }
            },
            "type": "scattergl"
           }
          ],
          "scattermap": [
           {
            "marker": {
             "colorbar": {
              "outlinewidth": 0,
              "ticks": ""
             }
            },
            "type": "scattermap"
           }
          ],
          "scattermapbox": [
           {
            "marker": {
             "colorbar": {
              "outlinewidth": 0,
              "ticks": ""
             }
            },
            "type": "scattermapbox"
           }
          ],
          "scatterpolar": [
           {
            "marker": {
             "colorbar": {
              "outlinewidth": 0,
              "ticks": ""
             }
            },
            "type": "scatterpolar"
           }
          ],
          "scatterpolargl": [
           {
            "marker": {
             "colorbar": {
              "outlinewidth": 0,
              "ticks": ""
             }
            },
            "type": "scatterpolargl"
           }
          ],
          "scatterternary": [
           {
            "marker": {
             "colorbar": {
              "outlinewidth": 0,
              "ticks": ""
             }
            },
            "type": "scatterternary"
           }
          ],
          "surface": [
           {
            "colorbar": {
             "outlinewidth": 0,
             "ticks": ""
            },
            "colorscale": [
             [
              0.0,
              "#0d0887"
             ],
             [
              0.1111111111111111,
              "#46039f"
             ],
             [
              0.2222222222222222,
              "#7201a8"
             ],
             [
              0.3333333333333333,
              "#9c179e"
             ],
             [
              0.4444444444444444,
              "#bd3786"
             ],
             [
              0.5555555555555556,
              "#d8576b"
             ],
             [
              0.6666666666666666,
              "#ed7953"
             ],
             [
              0.7777777777777778,
              "#fb9f3a"
             ],
             [
              0.8888888888888888,
              "#fdca26"
             ],
             [
              1.0,
              "#f0f921"
             ]
            ],
            "type": "surface"
           }
          ],
          "table": [
           {
            "cells": {
             "fill": {
              "color": "#EBF0F8"
             },
             "line": {
              "color": "white"
             }
            },
            "header": {
             "fill": {
              "color": "#C8D4E3"
             },
             "line": {
              "color": "white"
             }
            },
            "type": "table"
           }
          ]
         },
         "layout": {
          "annotationdefaults": {
           "arrowcolor": "#2a3f5f",
           "arrowhead": 0,
           "arrowwidth": 1
          },
          "autotypenumbers": "strict",
          "coloraxis": {
           "colorbar": {
            "outlinewidth": 0,
            "ticks": ""
           }
          },
          "colorscale": {
           "diverging": [
            [
             0,
             "#8e0152"
            ],
            [
             0.1,
             "#c51b7d"
            ],
            [
             0.2,
             "#de77ae"
            ],
            [
             0.3,
             "#f1b6da"
            ],
            [
             0.4,
             "#fde0ef"
            ],
            [
             0.5,
             "#f7f7f7"
            ],
            [
             0.6,
             "#e6f5d0"
            ],
            [
             0.7,
             "#b8e186"
            ],
            [
             0.8,
             "#7fbc41"
            ],
            [
             0.9,
             "#4d9221"
            ],
            [
             1,
             "#276419"
            ]
           ],
           "sequential": [
            [
             0.0,
             "#0d0887"
            ],
            [
             0.1111111111111111,
             "#46039f"
            ],
            [
             0.2222222222222222,
             "#7201a8"
            ],
            [
             0.3333333333333333,
             "#9c179e"
            ],
            [
             0.4444444444444444,
             "#bd3786"
            ],
            [
             0.5555555555555556,
             "#d8576b"
            ],
            [
             0.6666666666666666,
             "#ed7953"
            ],
            [
             0.7777777777777778,
             "#fb9f3a"
            ],
            [
             0.8888888888888888,
             "#fdca26"
            ],
            [
             1.0,
             "#f0f921"
            ]
           ],
           "sequentialminus": [
            [
             0.0,
             "#0d0887"
            ],
            [
             0.1111111111111111,
             "#46039f"
            ],
            [
             0.2222222222222222,
             "#7201a8"
            ],
            [
             0.3333333333333333,
             "#9c179e"
            ],
            [
             0.4444444444444444,
             "#bd3786"
            ],
            [
             0.5555555555555556,
             "#d8576b"
            ],
            [
             0.6666666666666666,
             "#ed7953"
            ],
            [
             0.7777777777777778,
             "#fb9f3a"
            ],
            [
             0.8888888888888888,
             "#fdca26"
            ],
            [
             1.0,
             "#f0f921"
            ]
           ]
          },
          "colorway": [
           "#636efa",
           "#EF553B",
           "#00cc96",
           "#ab63fa",
           "#FFA15A",
           "#19d3f3",
           "#FF6692",
           "#B6E880",
           "#FF97FF",
           "#FECB52"
          ],
          "font": {
           "color": "#2a3f5f"
          },
          "geo": {
           "bgcolor": "white",
           "lakecolor": "white",
           "landcolor": "#E5ECF6",
           "showlakes": true,
           "showland": true,
           "subunitcolor": "white"
          },
          "hoverlabel": {
           "align": "left"
          },
          "hovermode": "closest",
          "mapbox": {
           "style": "light"
          },
          "paper_bgcolor": "white",
          "plot_bgcolor": "#E5ECF6",
          "polar": {
           "angularaxis": {
            "gridcolor": "white",
            "linecolor": "white",
            "ticks": ""
           },
           "bgcolor": "#E5ECF6",
           "radialaxis": {
            "gridcolor": "white",
            "linecolor": "white",
            "ticks": ""
           }
          },
          "scene": {
           "xaxis": {
            "backgroundcolor": "#E5ECF6",
            "gridcolor": "white",
            "gridwidth": 2,
            "linecolor": "white",
            "showbackground": true,
            "ticks": "",
            "zerolinecolor": "white"
           },
           "yaxis": {
            "backgroundcolor": "#E5ECF6",
            "gridcolor": "white",
            "gridwidth": 2,
            "linecolor": "white",
            "showbackground": true,
            "ticks": "",
            "zerolinecolor": "white"
           },
           "zaxis": {
            "backgroundcolor": "#E5ECF6",
            "gridcolor": "white",
            "gridwidth": 2,
            "linecolor": "white",
            "showbackground": true,
            "ticks": "",
            "zerolinecolor": "white"
           }
          },
          "shapedefaults": {
           "line": {
            "color": "#2a3f5f"
           }
          },
          "ternary": {
           "aaxis": {
            "gridcolor": "white",
            "linecolor": "white",
            "ticks": ""
           },
           "baxis": {
            "gridcolor": "white",
            "linecolor": "white",
            "ticks": ""
           },
           "bgcolor": "#E5ECF6",
           "caxis": {
            "gridcolor": "white",
            "linecolor": "white",
            "ticks": ""
           }
          },
          "title": {
           "x": 0.05
          },
          "xaxis": {
           "automargin": true,
           "gridcolor": "white",
           "linecolor": "white",
           "ticks": "",
           "title": {
            "standoff": 15
           },
           "zerolinecolor": "white",
           "zerolinewidth": 2
          },
          "yaxis": {
           "automargin": true,
           "gridcolor": "white",
           "linecolor": "white",
           "ticks": "",
           "title": {
            "standoff": 15
           },
           "zerolinecolor": "white",
           "zerolinewidth": 2
          }
         }
        }
       }
      }
     },
     "metadata": {},
     "output_type": "display_data"
    }
   ],
   "source": [
    "fine_change_counter.map()"
   ]
  },
  {
   "cell_type": "markdown",
   "metadata": {
    "slideshow": {
     "slide_type": "fragment"
    }
   },
   "source": [
    "Like before, we can access the most frequently changed elements, This is the most frequently changed item in the book:"
   ]
  },
  {
   "cell_type": "code",
   "execution_count": 103,
   "metadata": {
    "execution": {
     "iopub.execute_input": "2025-10-26T18:08:01.524797Z",
     "iopub.status.busy": "2025-10-26T18:08:01.524696Z",
     "iopub.status.idle": "2025-10-26T18:08:01.527881Z",
     "shell.execute_reply": "2025-10-26T18:08:01.527556Z"
    },
    "slideshow": {
     "slide_type": "subslide"
    }
   },
   "outputs": [
    {
     "data": {
      "text/plain": [
       "[(('notebooks', 'Slicer.ipynb', 'Slicer'), 3)]"
      ]
     },
     "execution_count": 103,
     "metadata": {},
     "output_type": "execute_result"
    }
   ],
   "source": [
    "elem_nodes = [node for node in fine_change_counter.changes.keys()\n",
    "              if len(node) == 3 and node[1].endswith('.ipynb')]\n",
    "elem_nodes.sort(key=lambda node: fine_change_counter.changes[node],\n",
    "                reverse=True)\n",
    "[(node, fine_change_counter.changes[node]) for node in elem_nodes[:1]]"
   ]
  },
  {
   "cell_type": "code",
   "execution_count": 104,
   "metadata": {
    "execution": {
     "iopub.execute_input": "2025-10-26T18:08:01.529528Z",
     "iopub.status.busy": "2025-10-26T18:08:01.529445Z",
     "iopub.status.idle": "2025-10-26T18:08:01.531116Z",
     "shell.execute_reply": "2025-10-26T18:08:01.530862Z"
    },
    "slideshow": {
     "slide_type": "skip"
    }
   },
   "outputs": [],
   "source": [
    "from bookutils import quiz"
   ]
  },
  {
   "cell_type": "code",
   "execution_count": 105,
   "metadata": {
    "execution": {
     "iopub.execute_input": "2025-10-26T18:08:01.532318Z",
     "iopub.status.busy": "2025-10-26T18:08:01.532238Z",
     "iopub.status.idle": "2025-10-26T18:08:01.543900Z",
     "shell.execute_reply": "2025-10-26T18:08:01.543668Z"
    },
    "slideshow": {
     "slide_type": "fragment"
    },
    "tags": [
     "remove-input"
    ]
   },
   "outputs": [
    {
     "data": {
      "text/html": [
       "\n",
       "    \n",
       "    <script>\n",
       "    var bad_answers = new Map();\n",
       "\n",
       "    function answer(quiz_id) {\n",
       "        ans = 0;\n",
       "        for (i = 1;; i++) {\n",
       "            checkbox = document.getElementById(quiz_id + \"-\" + i.toString());\n",
       "            if (!checkbox)\n",
       "                break;\n",
       "            if (checkbox.checked)\n",
       "                ans |= (1 << i);\n",
       "        }\n",
       "        return ans;\n",
       "    }\n",
       "    function check_selection(quiz_id, correct_answer, multiple_choice, hint) {\n",
       "        given_answer = answer(quiz_id);\n",
       "        if (given_answer == correct_answer)\n",
       "        {\n",
       "            document.getElementById(quiz_id + \"-submit\").value = \"Correct!\";\n",
       "            document.getElementById(quiz_id + \"-hint\").innerHTML = \"\";\n",
       "\n",
       "            for (i = 1;; i++) {\n",
       "                checkbox = document.getElementById(quiz_id + \"-\" + i.toString());\n",
       "                label = document.getElementById(quiz_id + \"-\" + i.toString() + \"-label\")\n",
       "                if (!checkbox)\n",
       "                    break;\n",
       "\n",
       "                if (checkbox.checked) {\n",
       "                    label.style.fontWeight = \"bold\";\n",
       "                }\n",
       "                else {\n",
       "                    label.style.textDecoration = \"line-through\";\n",
       "                }\n",
       "            }\n",
       "        }\n",
       "        else \n",
       "        {\n",
       "            document.getElementById(quiz_id + \"-submit\").value = \"Try again\";\n",
       "\n",
       "            if (!bad_answers.has(quiz_id)) {\n",
       "                bad_answers.set(quiz_id, 1);\n",
       "            }\n",
       "            else {\n",
       "                bad_answers.set(quiz_id, bad_answers.get(quiz_id) + 1);\n",
       "            }\n",
       "\n",
       "            if (bad_answers.get(quiz_id) >= 2 && hint.length > 0) {\n",
       "                document.getElementById(quiz_id + \"-hint\").innerHTML = \n",
       "                    \"&nbsp;&nbsp;(Hint: <code>\" + hint + \"</code>)\";\n",
       "            }\n",
       "\n",
       "            if (!multiple_choice) {\n",
       "                for (i = 1;; i++) {\n",
       "                    checkbox = document.getElementById(quiz_id + \"-\" + i.toString());\n",
       "                    label = document.getElementById(quiz_id + \"-\" + i.toString() + \"-label\")\n",
       "\n",
       "                    if (!checkbox)\n",
       "                        break;\n",
       "                    if (checkbox.checked) {\n",
       "                        label.style.textDecoration = \"line-through\";\n",
       "                    }\n",
       "                }\n",
       "            }\n",
       "        }\n",
       "    }\n",
       "    function clear_selection(quiz_id) {\n",
       "        document.getElementById(quiz_id + \"-submit\").value = \"Submit\";\n",
       "        document.getElementById(quiz_id + \"-hint\").innerHTML = \"\";\n",
       "    }\n",
       "    </script>\n",
       "    \n",
       "    <div class=\"quiz\">\n",
       "    <h3 class=\"quiz_title\">Quiz</h3>\n",
       "    <p>\n",
       "    <div class=\"quiz_question\">Which is the <em>second</em> most changed element?</div>\n",
       "    </p>\n",
       "    <p>\n",
       "    <div class=\"quiz_options\" title=\"Pick a choice.\">\n",
       "    \n",
       "        <input type=\"radio\" name=\"b5ea1f3c-b296-11f0-8845-6298cf1a5790\" id=\"b5ea1f3c-b296-11f0-8845-6298cf1a5790-1\" onclick=\"clear_selection('b5ea1f3c-b296-11f0-8845-6298cf1a5790')\">\n",
       "        <label id=\"b5ea1f3c-b296-11f0-8845-6298cf1a5790-1-label\" for=\"b5ea1f3c-b296-11f0-8845-6298cf1a5790-1\"><code>ManagedMemory</code> in <code>Assertions</code></label><br>\n",
       "    \n",
       "        <input type=\"radio\" name=\"b5ea1f3c-b296-11f0-8845-6298cf1a5790\" id=\"b5ea1f3c-b296-11f0-8845-6298cf1a5790-2\" onclick=\"clear_selection('b5ea1f3c-b296-11f0-8845-6298cf1a5790')\">\n",
       "        <label id=\"b5ea1f3c-b296-11f0-8845-6298cf1a5790-2-label\" for=\"b5ea1f3c-b296-11f0-8845-6298cf1a5790-2\"><code>ExistenceFeature</code> in <code>Alhazen</code></label><br>\n",
       "    \n",
       "        <input type=\"radio\" name=\"b5ea1f3c-b296-11f0-8845-6298cf1a5790\" id=\"b5ea1f3c-b296-11f0-8845-6298cf1a5790-3\" onclick=\"clear_selection('b5ea1f3c-b296-11f0-8845-6298cf1a5790')\">\n",
       "        <label id=\"b5ea1f3c-b296-11f0-8845-6298cf1a5790-3-label\" for=\"b5ea1f3c-b296-11f0-8845-6298cf1a5790-3\"><code>StackInspector</code> in <code>StackInspector</code></label><br>\n",
       "    \n",
       "        <input type=\"radio\" name=\"b5ea1f3c-b296-11f0-8845-6298cf1a5790\" id=\"b5ea1f3c-b296-11f0-8845-6298cf1a5790-4\" onclick=\"clear_selection('b5ea1f3c-b296-11f0-8845-6298cf1a5790')\">\n",
       "        <label id=\"b5ea1f3c-b296-11f0-8845-6298cf1a5790-4-label\" for=\"b5ea1f3c-b296-11f0-8845-6298cf1a5790-4\"><code>Slicer</code> in <code>Slicer</code></label><br>\n",
       "    \n",
       "    </div>\n",
       "    </p>\n",
       "    <input id=\"b5ea1f3c-b296-11f0-8845-6298cf1a5790-submit\" type=\"submit\" value=\"Submit\" onclick=\"check_selection('b5ea1f3c-b296-11f0-8845-6298cf1a5790', 4, 0, '1975308642 // 987654321')\">\n",
       "    <span class=\"quiz_hint\" id=\"b5ea1f3c-b296-11f0-8845-6298cf1a5790-hint\"></span>\n",
       "    </div>\n",
       "    "
      ],
      "text/plain": [
       "<IPython.core.display.HTML object>"
      ]
     },
     "execution_count": 105,
     "metadata": {},
     "output_type": "execute_result"
    }
   ],
   "source": [
    "quiz(\"Which is the _second_ most changed element?\",\n",
    "     [\n",
    "        f\"`{elem_nodes[i][2]}` in `{elem_nodes[i][1].split('.ipynb')[0]}`\"\n",
    "        for i in [3, 1, 2, 0]\n",
    "        if i < len(elem_nodes)\n",
    "     ], '1975308642 // 987654321')"
   ]
  },
  {
   "cell_type": "markdown",
   "metadata": {
    "slideshow": {
     "slide_type": "fragment"
    }
   },
   "source": [
    "Indeed, here come the top five most frequently changed elements:"
   ]
  },
  {
   "cell_type": "code",
   "execution_count": 106,
   "metadata": {
    "execution": {
     "iopub.execute_input": "2025-10-26T18:08:01.546050Z",
     "iopub.status.busy": "2025-10-26T18:08:01.545951Z",
     "iopub.status.idle": "2025-10-26T18:08:01.548267Z",
     "shell.execute_reply": "2025-10-26T18:08:01.548024Z"
    },
    "slideshow": {
     "slide_type": "subslide"
    }
   },
   "outputs": [
    {
     "data": {
      "text/plain": [
       "[(('notebooks', 'Slicer.ipynb', 'Slicer'), 3),\n",
       " (('notebooks', 'Alhazen.ipynb', 'ExistenceFeature'), 3),\n",
       " (('notebooks', 'StackInspector.ipynb', 'StackInspector'), 2),\n",
       " (('notebooks', 'Assertions.ipynb', 'ManagedMemory'), 2),\n",
       " (('notebooks', 'ChangeCounter.ipynb', 'ChangeCounter'), 2)]"
      ]
     },
     "execution_count": 106,
     "metadata": {},
     "output_type": "execute_result"
    }
   ],
   "source": [
    "[(node, fine_change_counter.changes[node]) for node in elem_nodes[:5]]"
   ]
  },
  {
   "attachments": {},
   "cell_type": "markdown",
   "metadata": {
    "slideshow": {
     "slide_type": "fragment"
    }
   },
   "source": [
    "Now it is time to apply these tools on your own projects. Which are the most frequently changed (and fixed) elements? Why is that so? What can you do to improve things? All these are consequences of debugging – to help have fewer bugs in the future!"
   ]
  },
  {
   "cell_type": "markdown",
   "metadata": {
    "button": false,
    "new_sheet": true,
    "run_control": {
     "read_only": false
    },
    "slideshow": {
     "slide_type": "slide"
    }
   },
   "source": [
    "## Lessons Learned\n",
    "\n",
    "* We can easily _mine_ past changes and map these to individual files and elements\n",
    "* This information can be helpful in guiding the debugging and development process\n",
    "* Counting _fixes_ needs to be customized to the conventions used in the project at hand"
   ]
  },
  {
   "cell_type": "markdown",
   "metadata": {
    "slideshow": {
     "slide_type": "slide"
    }
   },
   "source": [
    "## Background\n",
    "\n",
    "Before you venture out building your own development analytics, you may want to check out what's already there and available. This [overview at Livable Software](https://livablesoftware.com/tools-mine-analyze-github-git-software-data/) gives a great overview of platforms and tools for mining development data. One of the most ambitious ones is [GrimoireLab](https://chaoss.github.io/grimoirelab/), set to mine data from pretty much _any_ open source repository."
   ]
  },
  {
   "cell_type": "markdown",
   "metadata": {
    "button": false,
    "new_sheet": true,
    "run_control": {
     "read_only": false
    },
    "slideshow": {
     "slide_type": "slide"
    }
   },
   "source": [
    "## Exercises\n"
   ]
  },
  {
   "cell_type": "markdown",
   "metadata": {
    "button": false,
    "new_sheet": false,
    "run_control": {
     "read_only": false
    },
    "slideshow": {
     "slide_type": "subslide"
    },
    "solution": "hidden",
    "solution2": "hidden",
    "solution2_first": true,
    "solution_first": true
   },
   "source": [
    "### Exercise 1: Fine-Grained Fixes\n",
    "\n",
    "Construct a class `FineFixCounter` that combines fine-grained counting from `FineChangeCounter` with the fix-counting abilities from `FixCounter`. Visualize the treemap."
   ]
  },
  {
   "cell_type": "markdown",
   "metadata": {
    "button": false,
    "new_sheet": false,
    "run_control": {
     "read_only": false
    },
    "slideshow": {
     "slide_type": "skip"
    },
    "solution": "hidden",
    "solution2": "hidden"
   },
   "source": [
    "**Solution.** We can use multiple inheritance to combine both. We inherit from `FixCounter` first such that we can see the fix messages."
   ]
  },
  {
   "cell_type": "code",
   "execution_count": 113,
   "metadata": {
    "execution": {
     "iopub.execute_input": "2025-10-26T18:08:02.469472Z",
     "iopub.status.busy": "2025-10-26T18:08:02.469329Z",
     "iopub.status.idle": "2025-10-26T18:08:02.471457Z",
     "shell.execute_reply": "2025-10-26T18:08:02.471186Z"
    },
    "slideshow": {
     "slide_type": "skip"
    },
    "solution2": "hidden"
   },
   "outputs": [],
   "source": [
    "class FineFixCounter(FixCounter, FineChangeCounter):\n",
    "    pass"
   ]
  },
  {
   "cell_type": "markdown",
   "metadata": {
    "slideshow": {
     "slide_type": "skip"
    },
    "solution2": "hidden"
   },
   "source": [
    "Try things out for yourself:"
   ]
  },
  {
   "cell_type": "code",
   "execution_count": 114,
   "metadata": {
    "execution": {
     "iopub.execute_input": "2025-10-26T18:08:02.472988Z",
     "iopub.status.busy": "2025-10-26T18:08:02.472879Z",
     "iopub.status.idle": "2025-10-26T18:08:02.474629Z",
     "shell.execute_reply": "2025-10-26T18:08:02.474339Z"
    },
    "slideshow": {
     "slide_type": "skip"
    },
    "solution2": "hidden"
   },
   "outputs": [],
   "source": [
    "# fine_fix_counter = debuggingbook_change_counter(FineFixCounter, start_date=datetime(1999, 1, 1))\n",
    "# fine_fix_counter.map()"
   ]
  }
 ],
 "metadata": {
  "ipub": {
   "bibliography": "fuzzingbook.bib",
   "toc": true
  },
  "kernelspec": {
   "display_name": "venv",
   "language": "python",
   "name": "python3"
  },
  "language_info": {
   "codemirror_mode": {
    "name": "ipython",
    "version": 3
   },
   "file_extension": ".py",
   "mimetype": "text/x-python",
   "name": "python",
   "nbconvert_exporter": "python",
   "pygments_lexer": "ipython3",
   "version": "3.13.4"
  },
  "toc": {
   "base_numbering": 1,
   "nav_menu": {},
   "number_sections": true,
   "sideBar": true,
   "skip_h1_title": true,
   "title_cell": "",
   "title_sidebar": "Contents",
   "toc_cell": false,
   "toc_position": {},
   "toc_section_display": true,
   "toc_window_display": true
  },
  "toc-autonumbering": false,
  "vscode": {
   "interpreter": {
    "hash": "0af4f07dd039d1b4e562c7a7d0340393b1c66f50605ac6af30beb81aa23b7ef5"
   }
  }
 },
 "nbformat": 4,
 "nbformat_minor": 4
}