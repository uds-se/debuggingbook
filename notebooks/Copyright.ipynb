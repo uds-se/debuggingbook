{
 "cells": [
  {
   "cell_type": "markdown",
   "metadata": {
    "button": false,
    "new_sheet": false,
    "run_control": {
     "read_only": false
    }
   },
   "source": [
    "# Copyright\n",
    "\n",
    "This material is copyright &copy; \n",
    "2021–2025 <a href=\"https://www.cispa.de/\">CISPA Helmholtz Center for Information Security</a>. Copyright &copy; 2018-2020 <a href=\"https://www.uni-saarland.de/\">Saarland University</a>. Copyright &copy; 2018-2025 external contributors.\n",
    "\n",
    "The <strong>content</strong> of this project is licensed under the <a href=\"https://creativecommons.org/licenses/by-nc-sa/4.0/\">Creative Commons Attribution-NonCommercial-ShareAlike 4.0 International License</a>.\n",
    "\n",
    "The <strong>source code</strong> that is part of the content, as well as the source code used to format and display that content is licensed under the <a href=\"https://github.com/uds-se/fuzzingbook/blob/master/LICENSE.md#mit-license\">MIT License</a>.\n",
    "\n",
    "<a href=\"https://cispa.de/en/impressum\">Imprint</a> &middot; <a href=\"/html/index.html#how-do-i-cite-your-work\">Cite</a>"
   ]
  }
 ],
 "metadata": {
  "ipub": {
   "bibliography": "fuzzingbook.bib",
   "toc": true
  },
  "kernelspec": {
   "display_name": "Python 3 (ipykernel)",
   "language": "python",
   "name": "python3"
  },
  "language_info": {
   "codemirror_mode": {
    "name": "ipython",
    "version": 3
   },
   "file_extension": ".py",
   "mimetype": "text/x-python",
   "name": "python",
   "nbconvert_exporter": "python",
   "pygments_lexer": "ipython3",
   "version": "3.9.7"
  },
  "toc": {
   "base_numbering": 1,
   "nav_menu": {},
   "number_sections": true,
   "sideBar": true,
   "skip_h1_title": true,
   "title_cell": "",
   "title_sidebar": "Contents",
   "toc_cell": false,
   "toc_position": {},
   "toc_section_display": true,
   "toc_window_display": true
  },
  "toc-autonumbering": false
 },
 "nbformat": 4,
 "nbformat_minor": 4
}
