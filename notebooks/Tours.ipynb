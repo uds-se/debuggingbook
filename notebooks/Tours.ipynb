{
 "cells": [
  {
   "cell_type": "markdown",
   "metadata": {
    "button": false,
    "new_sheet": false,
    "run_control": {
     "read_only": false
    },
    "slideshow": {
     "slide_type": "slide"
    }
   },
   "source": [
    "# Sitemap\n"
   ]
  },
  {
   "attachments": {},
   "cell_type": "markdown",
   "metadata": {
    "button": false,
    "new_sheet": false,
    "run_control": {
     "read_only": false
    },
    "slideshow": {
     "slide_type": "slide"
    }
   },
   "source": [
    "While the chapters of this book can be read one after the other, there are many possible paths through the book.  In this graph, an arrow _A_ → _B_ means that chapter _A_ is a prerequisite for chapter _B_. You can pick arbitrary paths in this graph to get to the topics that interest you most:"
   ]
  },
  {
   "cell_type": "code",
   "execution_count": null,
   "metadata": {
    "tags": [
     "remove-input"
    ]
   },
   "outputs": [],
   "source": [
    "# ignore\n",
    "from bookutils import rich_output, InteractiveSVG"
   ]
  },
  {
   "cell_type": "code",
   "execution_count": null,
   "metadata": {
    "tags": [
     "remove-input"
    ]
   },
   "outputs": [],
   "source": [
    "# ignore\n",
    "sitemap = None\n",
    "if rich_output():\n",
    "    sitemap = InteractiveSVG(filename='PICS/Sitemap.svg')\n",
    "sitemap"
   ]
  },
  {
   "cell_type": "markdown",
   "metadata": {},
   "source": [
    "## The Pragmatic Programmer Tour\n",
    "\n",
    "You have a program to debug.  You want to learn about techniques that help you for debugging.  You want to get to the point.\n",
    "\n",
    "1. __Start with [Introduction to Debugging](Intro_Debugging.ipynb) to get the basic concepts.__  (You would know most of these anyway, but it can't hurt to get quick reminders).\n",
    "\n",
    "2. __Experiment with [interactive debuggers](Debugger.ipynb)__ to observe executions interactively.\n",
    "\n",
    "3. __Use [assertions](Assertions.ipynb)__ to have the computer systematically run checks during execution.\n",
    "\n",
    "4. __Explore [delta debugging](DeltaDebugger.ipynb) for your program__ and see how it simplifies failure-inducing inputs [and changes](ChangeDebugger.ipynb).\n",
    "\n",
    "5. __Visualize [dependencies](Slicer.ipynb) in your program__ and track the flow of data and control in the execution.\n",
    "\n",
    "6. __Check out [statistical debugging](StatisticalDebugger.ipynb)__ for a simple way to determine code locations associated with failures.\n",
    "\n",
    "7. __See [automatic repairs](Repairer.ipynb) in action__.\n",
    "\n",
    "In each of these chapters, start with the \"Synopsis\" parts; these will give you quick introductions on how to use things, as well as point you to relevant usage examples.  With this, enough said.  Get back to work and enjoy!"
   ]
  },
  {
   "cell_type": "markdown",
   "metadata": {},
   "source": [
    "## The Young Researcher Tour\n",
    "\n",
    "Your school wants you to publish a great paper every few months. You are looking for infrastructures that you can toy with, helping you to build and evaluate cool ideas.\n",
    "\n",
    "1. __Toy with [tracer](Tracer.ipynb)__ to collect data on program executions - features you can then [correlate with program failures](StatisticalDebugger.ipynb).\n",
    "\n",
    "2. __Extract [dependencies](Slicer.ipynb) from your program__ and use them for runtime verification, fault localization, and better repair.\n",
    "\n",
    "3. __Use [automatic repairs](Repairer.ipynb)__ as a starting point to build your own, better repairs. The Python implementation is well documented and extremely easy to expand.\n",
    "\n",
    "4. Bring in __[test generation and structured inputs](DDSetDebugger.ipynb)__ to collect input features that relate to failures.\n",
    "\n",
    "5. Mine __[version and bug repositories](ChangeCounter.ipynb)__ to explore how bugs and all these features evolve over time.\n",
    "\n",
    "For each of these chapters, experiment with the techniques, and then build your own on top. Read the relevant papers to learn more about their motivation and background. And now go and improve the world of automated debugging!"
   ]
  },
  {
   "cell_type": "markdown",
   "metadata": {
    "button": false,
    "new_sheet": true,
    "run_control": {
     "read_only": false
    }
   },
   "source": [
    "## Lessons Learned\n",
    "\n",
    "* You can go through the book from beginning to end...\n",
    "* ...but it may be preferable to follow a specific tour, based on your needs and resources.\n",
    "* Now [go and explore automated debugging](index.ipynb)!"
   ]
  }
 ],
 "metadata": {
  "ipub": {
   "bibliography": "fuzzingbook.bib",
   "toc": true
  },
  "kernelspec": {
   "display_name": "Python 3",
   "language": "python",
   "name": "python3"
  },
  "language_info": {
   "codemirror_mode": {
    "name": "ipython",
    "version": 3
   },
   "file_extension": ".py",
   "mimetype": "text/x-python",
   "name": "python",
   "nbconvert_exporter": "python",
   "pygments_lexer": "ipython3",
   "version": "3.13.4"
  },
  "toc": {
   "base_numbering": 1,
   "nav_menu": {},
   "number_sections": true,
   "sideBar": true,
   "skip_h1_title": true,
   "title_cell": "",
   "title_sidebar": "Contents",
   "toc_cell": false,
   "toc_position": {},
   "toc_section_display": true,
   "toc_window_display": true
  },
  "toc-autonumbering": false
 },
 "nbformat": 4,
 "nbformat_minor": 4
}
