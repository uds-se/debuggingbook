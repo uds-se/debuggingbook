{
 "cells": [
  {
   "cell_type": "markdown",
   "metadata": {},
   "source": [
    "# The Debugging Book\n",
    "\n",
    "__Welcome to \"The Debugging Book\"!__ \n",
    "Software has bugs, and finding bugs can involve lots of effort.  This book addresses this problem by _automating_ software debugging, specifically by _locating errors and their causes automatically_.  Recent years have seen the development of novel techniques that lead to dramatic improvements in automated software debugging.  They now are mature enough to be assembled in a book – even with executable code. \n",
    "<!--\n",
    "**<span style=\"background-color: yellow\">\n",
    "    <i class=\"fa fa-fw fa-wrench\"></i>\n",
    "This book is work in progress. It will be released to the public in Spring 2021.</span>**\n",
    "-->"
   ]
  },
  {
   "cell_type": "code",
   "execution_count": null,
   "metadata": {},
   "outputs": [],
   "source": [
    "import bookutils.setup"
   ]
  },
  {
   "cell_type": "code",
   "execution_count": null,
   "metadata": {},
   "outputs": [],
   "source": [
    "from bookutils import YouTubeVideo\n",
    "YouTubeVideo(\"-nOxI6Ev_I4\")"
   ]
  },
  {
   "cell_type": "markdown",
   "metadata": {},
   "source": [
    "## A Textbook for Paper, Screen, and Keyboard\n",
    "\n",
    "## A Textbook for Paper, Screen, and Keyboard\n",
    "\n",
    "You can use this book in multiple ways:\n",
    "\n",
    "* You can __read chapters in your browser__.  Check out the list of chapters in the menu above, or start right away with the [introduction to debugging](Intro_Debugging.ipynb) or [how debuggers work](Debugger.ipynb).  All code is available for download.\n",
    "\n",
    "* You can __interact with chapters as Jupyter Notebooks__ (beta).  This allows you to edit and extend the code, experimenting _live in your browser._  Select \"Binder\" at the top of any chapter. <a href=\"https://mybinder.org/v2/gh/uds-se/debuggingbook/HEAD?labpath=docs/notebooks/Debugger.ipynb\" target=_blank>Try interacting with the introduction to interactive debuggers.</a>\n",
    "\n",
    "* You can __use the code in your own projects__.  You can [download and install the code and/or the notebooks on your machine](Importing.ipynb).  These code files can be executed, yielding (hopefully) the same results as the notebooks."
   ]
  },
  {
   "cell_type": "markdown",
   "metadata": {},
   "source": [
    "## Who this Book is for\n",
    "\n",
    "This work is designed as a _textbook_ for a course in software debugging; as _supplementary material_ in a software testing or software engineering course; and as a _resource for software developers_. We cover fault localization, program slicing, input reduction, automated repair, and much more, illustrating all techniques with code examples that you can try out yourself."
   ]
  },
  {
   "cell_type": "markdown",
   "metadata": {},
   "source": [
    "## News\n",
    "\n",
    "This book is _work in progress._  All chapters planned are out now, but we keep on refining text and code with [minor and major releases.](ReleaseNotes.ipynb) To get notified on updates, <a href=\"https://mastodon.social/@TheDebuggingBook\">follow us on Mastodon</a>.\n",
    "\n",
    "<!--\n",
    "<iframe allowfullscreen sandbox=\"allow-top-navigation allow-scripts allow-popups allow-popups-to-escape-sandbox\" width=\"400\" height=\"400\" frameBorder=\"0\" src=\"https://mastofeed.com/apiv2/feed?userurl=https%3A%2F%2Fmastodon.social%2Fusers%2FTheDebuggingBook&theme=auto&size=100&header=false&replies=false&boosts=false\"></iframe>\n",
    "-->"
   ]
  },
  {
   "cell_type": "markdown",
   "metadata": {},
   "source": [
    "<link rel=\"stylesheet\" href=\"/html/mastodon-timeline.css\" />\n",
    "<script src=\"/html/mastodon-timeline.js\"></script>\n",
    "<div class=\"mt-timeline\">\n",
    "  <div id=\"mt-body\" class=\"mt-body\" role=\"feed\">\n",
    "    <div class=\"loading-spinner\"></div>\n",
    "  </div>\n",
    "</div>"
   ]
  },
  {
   "cell_type": "markdown",
   "metadata": {},
   "source": [
    "## About the Author\n",
    "\n",
    "This book is written by [Andreas Zeller](https://andreas-zeller.info), a long-standing expert in automated debugging, software analysis and software testing.  Andreas is happy to share his expertise and making it accessible to the public.\n",
    "\n",
    "[Follow Andreas on Mastodon](https://mastodon.social/invite/PmKzQ76V)."
   ]
  },
  {
   "cell_type": "markdown",
   "metadata": {},
   "source": [
    "## Frequently Asked Questions"
   ]
  },
  {
   "cell_type": "markdown",
   "metadata": {},
   "source": [
    "### Troubleshooting"
   ]
  },
  {
   "cell_type": "markdown",
   "metadata": {},
   "source": [
    "#### Why does it take so long to start an interactive notebook?\n",
    "\n",
    "The interactive notebook uses the [mybinder.org](https://mybinder.org) service, which runs notebooks on their own servers.  Starting Jupyter through mybinder.org normally takes about 30 seconds, depending on your Internet connection. If, however, you are the first to invoke binder after a book update, binder recreates its environment, which will take a few minutes. Subsequent launches will be much faster."
   ]
  },
  {
   "cell_type": "markdown",
   "metadata": {},
   "source": [
    "#### The interactive notebook does not work!\n",
    "\n",
    "mybinder.org imposes a [limit of 100 concurrent users for a repository](https://mybinder.readthedocs.io/en/latest/user-guidelines.html).  Also, as listed on the [mybinder.org status and reliability page](https://mybinder.readthedocs.io/en/latest/reliability.html),\n",
    "\n",
    "> As mybinder.org is a research pilot project, the main goal for the project is to understand usage patterns and workloads for future project evolution. While we strive for site reliability and availability, we want our users to understand the intent of this service is research and we offer no guarantees of its performance in mission critical uses."
   ]
  },
  {
   "cell_type": "markdown",
   "metadata": {},
   "source": [
    "#### Do I have alternatives to the interactive notebook?\n",
    "\n",
    "If mybinder.org does not work or match your needs, you can [download the code and/or notebooks and run them on your machine](Importing.ipynb)"
   ]
  },
  {
   "cell_type": "markdown",
   "metadata": {},
   "source": [
    "#### Can I run the code on my Windows machine?\n",
    "\n",
    "We try to keep the code as general as possible, but occasionally, when we interact with the operating system, we assume a Unix-like environment (because that is what Binder provides).  To run these examples on your own Windows machine, you can install a Linux VM or a [Docker environment](https://github.com/uds-se/debuggingbook/blob/master/deploy/README.md)."
   ]
  },
  {
   "cell_type": "markdown",
   "metadata": {},
   "source": [
    "#### Can't you run your own dedicated cloud service?\n",
    "\n",
    "Technically, yes; but this would cost money and effort, which we'd rather spend on the book at this point.  If you'd like to host a [JupyterHub](http://jupyter.org/hub) or [BinderHub](https://github.com/jupyterhub/binderhub) instance for the public, please _do so_ and let us know."
   ]
  },
  {
   "cell_type": "markdown",
   "metadata": {},
   "source": [
    "### Content"
   ]
  },
  {
   "cell_type": "markdown",
   "metadata": {},
   "source": [
    "#### Can I use your code in my own programs?\n",
    "\n",
    "Yes!  See the [installation instructions](Importing.ipynb) for details."
   ]
  },
  {
   "cell_type": "markdown",
   "metadata": {},
   "source": [
    "#### Do your techniques apply to Python programs only? How about C code?\n",
    "\n",
    "We use Python to implement our tools and techniques because we can get things done *quickly.* Building an [interactive debugger](Debugger.ipynb) in Python is less than 100 lines of code and took us 2-3 days; doing the same for C is tens of thousands of lines and a year-long project. Instrumenting code, say for [dynamic slicing](Slicer.ipynb), gets us savings of similar magnitude. Also, Python code allows us (and you) to focus on the main concepts, rather than implementation details that are out of place in a textbook.\n",
    "\n",
    "Having said this, many of the techniques in this book can also be applied to C and other code. This is notably true for _black-box_ techniques such as [reducing inputs](DeltaDebugger.ipynb) or [changes](ChangeDebugger.ipynb) or [generalizers](DDSetDebugger.ipynb); these are all language-agnostic. Tools related to the debugging process such as [bug tracking](Tracking.ipynb) or [mining repositories](ChangeCounter.ipynb) are language-agnostic as well. Finally, in all chapters, we provide pointers to implementations in and for other languages, for instance for [assertions](Assertions.ipynb) or [program repair](Repairer.ipynb)."
   ]
  },
  {
   "cell_type": "markdown",
   "metadata": {},
   "source": [
    "#### What are the latest changes?\n",
    "\n",
    "For changes to individual chapters, see the \"Last change\" link at the end of a chapter. For the `debuggingbook` Python package, see the [release notes](ReleaseNotes.ipynb) for details."
   ]
  },
  {
   "cell_type": "markdown",
   "metadata": {},
   "source": [
    "#### How do I cite your work?\n",
    "\n",
    "Here's how to cite it:\n",
    "\n",
    "> Andreas Zeller: \"The Debugging Book\". CISPA Helmholtz Center for Information Security, 2024.\n",
    "\n",
    "Here's a BibTeX entry for simpler citation:\n",
    "\n",
    "```\n",
    "@book{debuggingbook2024,\n",
    "    author = {Andreas Zeller},\n",
    "    title = {The Debugging Book},\n",
    "    year = {2024},\n",
    "    publisher = {CISPA Helmholtz Center for Information Security},\n",
    "    howpublished = {\\url{https://www.debuggingbook.org/}},\n",
    "    url = {https://www.debuggingbook.org/},\n",
    "}\n",
    "```"
   ]
  },
  {
   "cell_type": "markdown",
   "metadata": {},
   "source": [
    "#### Can you cite my paper?  And possibly write a chapter about it?\n",
    "\n",
    "We're always happy to get suggestions!  If we missed an important reference, we will of course add it.  If you'd like specific material to be covered, the best way is to _write a notebook_ yourself; see our [Guide for Authors](Guide_for_Authors.ipynb) for instructions on coding and writing.  We can then refer to it or even host it."
   ]
  },
  {
   "cell_type": "markdown",
   "metadata": {},
   "source": [
    "### Teaching and Coursework"
   ]
  },
  {
   "cell_type": "markdown",
   "metadata": {},
   "source": [
    "#### Can I use your material in my course?\n",
    "\n",
    "Of course!  Just respect the [license](https://github.com/uds-se/debuggingbook/blob/master/LICENSE.md) (including attribution and share alike).  If you want to use the material for commercial purposes, contact us."
   ]
  },
  {
   "cell_type": "markdown",
   "metadata": {},
   "source": [
    "#### Can I extend or adapt your material?\n",
    "\n",
    "Yes!  Again, please see the [license](https://github.com/uds-se/debuggingbook/blob/master/LICENSE.md) for details."
   ]
  },
  {
   "cell_type": "markdown",
   "metadata": {},
   "source": [
    "#### How can I run a course based on the book?\n",
    "\n",
    "We have successfully used the material in various courses.  \n",
    "\n",
    "* Initially, we used the slides and code and did _live coding_ in lectures to illustrate how a technique works. \n",
    "\n",
    "* Now, the goal of the book is to be completely self-contained; that is, it should work without additional support.  Hence, we now give out completed chapters to students in a _flipped classroom_ setting, with the students working on the notebooks at their leisure.  We would meet in the classroom (or in Zoom) to discuss experiences with past notebooks and discuss future notebooks.\n",
    "\n",
    "* We have the students work on exercises from the book or work on larger (automated debugging) projects.  We also have students who use the book as a base for their research; indeed, it is very easy to prototype in Python for Python.\n",
    "\n",
    "When running a course, [do not rely on mybinder.org](#Troubleshooting) – it will not provide sufficient resources for a larger group of students.  Instead, [install and run your own hub.](#Do-I-have-alternatives-to-the-interactive-notebook?)"
   ]
  },
  {
   "cell_type": "markdown",
   "metadata": {},
   "source": [
    "#### Are there specific subsets I can focus on?\n",
    "\n",
    "We will compile a number of [tours through the book](Tours.ipynb) for various audiences.  Our [Sitemap](00_Table_of_Contents.ipynb) lists the dependencies between the individual chapters."
   ]
  },
  {
   "cell_type": "markdown",
   "metadata": {},
   "source": [
    "#### Do you provide PDFs of your material?\n",
    "\n",
    "Technically, we can produce PDF and print versions from notebooks, but it is low on our priority list as we find the interactive formats to be so much superior. Let us know if you'd like PDF versions."
   ]
  },
  {
   "cell_type": "markdown",
   "metadata": {},
   "source": [
    "### Other Issues"
   ]
  },
  {
   "cell_type": "markdown",
   "metadata": {},
   "source": [
    "#### I have a question, comment, or a suggestion.  What do I do?\n",
    "\n",
    "You can post to [@TheDebuggingBook@mastodon.social on Mastodon](https://mastodon.social/@TheDebuggingBook), allowing the community of readers to chime in.\n",
    "For bugs you'd like to get fixed, report an issue on the [development page](https://github.com/uds-se/debuggingbook/issues)."
   ]
  },
  {
   "cell_type": "markdown",
   "metadata": {},
   "source": [
    "#### I have reported an issue two weeks ago.  When will it be addressed?\n",
    "\n",
    "We prioritize issues as follows:\n",
    "\n",
    "1. Bugs in code published on debuggingbook.org\n",
    "2. Bugs in text published on debuggingbook.org\n",
    "3. Writing missing chapters\n",
    "4. Issues in yet unpublished code or text\n",
    "5. Issues related to development or construction\n",
    "6. Things marked as \"beta\"\n",
    "7. Everything else"
   ]
  },
  {
   "cell_type": "markdown",
   "metadata": {},
   "source": [
    "#### How can I solve problems myself?\n",
    "\n",
    "We're glad you ask that.  The [development page](https://github.com/uds-se/debuggingbook/) has all sources and some supplementary material.  Pull requests that fix issues are very welcome."
   ]
  },
  {
   "cell_type": "markdown",
   "metadata": {},
   "source": [
    "#### How can I contribute?\n",
    "\n",
    "Again, we're glad you're here!  We are happy to accept \n",
    "\n",
    "* **Code fixes and improvements.**  Please place any code under the MIT license such that we can easily include it.\n",
    "* **Additional text, chapters, and notebooks** on specialized topics.  We plan to set up a special folder for third-party contributions.\n",
    "\n",
    "See our [Guide for Authors](Guide_for_Authors.ipynb) for instructions on coding and writing."
   ]
  }
 ],
 "metadata": {
  "ipub": {
   "bibliography": "fuzzingbook.bib",
   "listcode": true,
   "listfigures": true,
   "listtables": true,
   "titlepage": {
    "author": "Andreas Zeller",
    "subtitle": "Tools and Techniques for Automated Software Debugging",
    "title": "The Debugging Book"
   },
   "toc": true
  },
  "kernelspec": {
   "display_name": "Python 3 (ipykernel)",
   "language": "python",
   "name": "python3"
  },
  "language_info": {
   "codemirror_mode": {
    "name": "ipython",
    "version": 3
   },
   "file_extension": ".py",
   "mimetype": "text/x-python",
   "name": "python",
   "nbconvert_exporter": "python",
   "pygments_lexer": "ipython3",
   "version": "3.13.4"
  },
  "toc": {
   "base_numbering": 1,
   "nav_menu": {},
   "number_sections": true,
   "sideBar": true,
   "skip_h1_title": true,
   "title_cell": "",
   "title_sidebar": "Contents",
   "toc_cell": false,
   "toc_position": {},
   "toc_section_display": true,
   "toc_window_display": true
  },
  "toc-autonumbering": false
 },
 "nbformat": 4,
 "nbformat_minor": 4
}
